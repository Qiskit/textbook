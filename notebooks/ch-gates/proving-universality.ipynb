{
 "cells": [
  {
   "cell_type": "markdown",
   "metadata": {
    "tags": [
     "remove_cell"
    ]
   },
   "source": [
    "# Proving Universality"
   ]
  },
  {
   "cell_type": "markdown",
   "metadata": {},
   "source": [
    "## Contents\n",
    "\n",
    "1. [Introduction](#intro)    \n",
    "2. [Fun With Matrices](#fun)    \n",
    "    2.1 [Matrices as outer products](#outer)    \n",
    "    2.2 [Unitary and Hermitian matrices](#u-and-h)    \n",
    "    2.3 [Pauli Decomposition](#pauli)    \n",
    "3. [Defining Universality](#defining)    \n",
    "4. [Basic Gate Sets](#basic)    \n",
    "    4.1 [Clifford Gates](#big-red)    \n",
    "    4.2 [Non-Clifford Gates](#non-clifford)    \n",
    "    4.3 [Expanding the Gate Set](#expanding)    \n",
    "5. [Proving Universality](#proving)    \n",
    "6. [Universal Sets of Quantum Gates](#gate-sets)"
   ]
  },
  {
   "cell_type": "markdown",
   "metadata": {},
   "source": [
    "## 1. Introduction <a id='intro'></a>\n",
    "\n",
    "What can any given computer do? What are the limits of what is deemed computable, in general? These were questions tackled by Alan Turing before we even had a good idea of what a computer was, or how to build one.\n",
    "\n",
    "To ask this question of our classical computers, and specifically for our standard digital computers, we need to strip away all the screens, speakers and fancy input devices. What we are left with is simply a machine that converts input bit strings into output bit strings. If a device can perform any such conversion, taking any arbitrary set of inputs and converting them to an arbitrarily chosen set of corresponding outputs, we call it *universal*.\n",
    "\n",
    "Quantum computers similarly take input states and convert them into output states. We will therefore be able to define universality in a similar way. To be more precise, and to be able to prove when universality can and cannot be achieved, it is useful to use the matrix representation of our quantum gates. But first we'll need to brush up on a few techniques."
   ]
  },
  {
   "cell_type": "markdown",
   "metadata": {},
   "source": [
    "## 2. Fun With Matrices <a id='fun'></a>\n",
    "\n",
    "### 2.1 Matrices as outer products <a id='outer'></a>\n",
    "\n",
    "In previous sections we have calculated many inner products, such as $\\langle0|0\\rangle =1$. These combine a bra and a ket to give us a single number. We can also combine them in a way that gives us a matrix, simply by putting them in the opposite order. This is called an outer product, and works by standard matrix multiplication. For example\n",
    "\n",
    "$$\n",
    "|0\\rangle\\langle0|= \\begin{pmatrix} 1 \\\\ 0 \\end{pmatrix} \\begin{pmatrix} 1 & 0 \\end{pmatrix} = \\begin{pmatrix} 1&0 \\\\ 0&0 \\end{pmatrix},\\\\\n",
    "|0\\rangle\\langle1| = \\begin{pmatrix} 1 \\\\ 0 \\end{pmatrix} \\begin{pmatrix} 0 & 1 \\end{pmatrix} = \\begin{pmatrix} 0&1 \\\\ 0&0 \\end{pmatrix},\\\\\n",
    "|1\\rangle\\langle0| = \\begin{pmatrix} 0 \\\\ 1 \\end{pmatrix} \\begin{pmatrix} 1 & 0 \\end{pmatrix} = \\begin{pmatrix} 0&0 \\\\ 1&0 \\end{pmatrix},\\\\\n",
    "|1\\rangle\\langle1| = \\begin{pmatrix} 0 \\\\ 1 \\end{pmatrix} \\begin{pmatrix} 0 & 1 \\end{pmatrix} = \\begin{pmatrix} 0&0 \\\\ 0&1 \\end{pmatrix}.\\\\\n",
    "$$\n",
    "\n",
    "This also means that we can write any matrix purely in terms of outer products. In the examples above, we constructed the four matrices that cover each of the single elements in a single-qubit matrix, so we can write any other single-qubit matrix in terms of them.\n",
    "\n",
    "$$\n",
    "M= \\begin{pmatrix} m_{0,0}& m_{0,1} \\\\ m_{1,0}&m_{1,1} \\end{pmatrix} = m_{0,0} |0\\rangle\\langle0|+ m_{0,1} |0\\rangle\\langle1|+ m_{1,0} |1\\rangle\\langle0|+ m_{1,1} |1\\rangle\\langle1|\n",
    "$$\n",
    "\n",
    "This property also extends to matrices for any number of qubits, $n$. We simply use the outer products of the corresponding $n$-bit strings.\n",
    "\n",
    "\n",
    "### 2.2 Unitary and Hermitian matrices <a id='u-and-h'></a>\n",
    "\n",
    "The Hermitian conjugate $M^\\dagger$ of a matrix $M$ is the combination of the transpose \\(replace the bottom left element with the top right, and so on\\) and the complex conjugate of each element. Two families of matrices that are very important to quantum computing are defined by their relationship with the Hermitian conjugate. One is the family of unitary matrices, for which\n",
    "\n",
    "$$\n",
    "U U^\\dagger = U^\\dagger U = 1.\n",
    "$$\n",
    "\n",
    "This means that the Hermitian conjugate of a unitary is its inverse: another unitary $U^\\dagger$ with the power to undo the effects of $U$. All gates in quantum computing, with the exception of measurement and reset operations, can be represented by unitary matrices.\n",
    "\n",
    "Another consequence of unitarity is that it preserves the inner product between two arbitrary states. Specifically, take two states $\\left| \\psi_0 \\right\\rangle$ and $\\left| \\psi_1 \\right\\rangle$. The inner product of these is $\\left\\langle \\psi_0 | \\psi_1 \\right\\rangle$. If we apply the same unitary $U$ to both, the inner product of the resulting states is exactly the same,\n",
    "\n",
    "$$\n",
    "\\left( \\left\\langle \\psi_0 \\right| U^\\dagger \\right) \\left( U \\left| \\psi_1 \\right\\rangle \\right) = \\left\\langle \\psi_0 \\right|U^\\dagger U\\left| \\psi_1 \\right\\rangle = \\left\\langle \\psi_0 | \\psi_1 \\right\\rangle.\n",
    "$$\n",
    "\n",
    "This property provides us with a useful way of thinking about these gates. It means that for any set of states $\\{ \\left| \\psi_j \\right\\rangle \\}$ that provide an orthonormal basis for our system, the set of states $\\{ \\left| \\phi_j \\right\\rangle = U \\left| \\psi_j \\right\\rangle \\}$ will also be an orthonormal basis. The unitary can then be thought of as a rotation between these bases, and can be written accordingly as\n",
    "\n",
    "$$\n",
    "U = \\sum_j \\left| \\phi_j \\right\\rangle \\left\\langle \\psi_j \\right|.\n",
    "$$\n",
    "\n",
    "This is essentially the quantum version of the 'truth tables' that describe the action of classical Boolean gates.\n",
    "\n",
    "The other important family of matrices are the Hermitian matrices. These are those that are unaffected by the Hermitian conjugate\n",
    "\n",
    "$$\n",
    "H = H^\\dagger.\n",
    "$$\n",
    "\n",
    "The matrices $X$, $Y$, $Z$ and $H$ are examples of Hermitian matrices that you've already seen \\(coincidentally, they are also all unitary since they are their own inverses\\).\n",
    "\n",
    "All unitary matrices and Hermitian matrices have the property of being diagonalizable. This means that they can be written in the form\n",
    "\n",
    "$$\n",
    "M = \\sum_j \\lambda_j |h_j\\rangle\\langle h_j|,\n",
    "$$\n",
    "\n",
    "where the $\\lambda_j$ are the eigenvalues of the matrix and $|h_j\\rangle$ are the corresponding eigenstates.\n",
    "\n",
    "For unitaries, applying the $U U^\\dagger=1$ condition in this diagonal form implies that $\\lambda_j \\lambda_j^* = 1$. The eigenvalues are therefore always complex numbers of magnitude 1, and so can be expressed $e^{ih_j}$ for some real value $h_j$. For Hermitian matrices the condition $H = H^\\dagger$ implies $\\lambda_j = \\lambda_j^*$, and hence that all eigenvalues are real.\n",
    "\n",
    "These two types of matrices therefore differ only in that one must have real numbers for eigenvalues, and the other must have complex exponentials of real numbers. This means that, for every unitary, we can define a corresponding Hermitian matrix. For this we simply reuse the same eigenstates, and use the $h_j$ from each $e^{ih_j}$ as the corresponding eigenvalue.\n",
    "\n",
    "Similarly, for each Hermitian matrix there exists a unitary. We simply reuse the same eigenstates, and exponentiate the $h_j$ to create the eigenvalues $e^{ih_j}$. This can be expressed as\n",
    "\n",
    "$$\n",
    "U = e^{iH}\n",
    "$$\n",
    "\n",
    "Here we have used the standard definition of how to exponentiate a matrix, which has exactly the properties we require: preserving the eigenstates and exponentiating the eigenvalues.\n",
    "\n",
    "\n",
    "### 2.3 Pauli decomposition <a id='pauli'></a>\n",
    "\n",
    "As we saw above, it is possible to write matrices entirely in terms of outer products.\n",
    "\n",
    "$$\n",
    "M= \\begin{pmatrix} m_{0,0}&m_{0,1} \\\\ m_{1,0}&m_{1,1} \\end{pmatrix} = m_{0,0} |0\\rangle\\langle0|+ m_{0,1} |0\\rangle\\langle1|+ m_{1,0} |1\\rangle\\langle0|+ m_{1,1} |1\\rangle\\langle1|\n",
    "$$\n",
    "\n",
    "Now we will see that it is also possible to write them completely in terms of Pauli operators. For this, the key thing to note is that\n",
    "\n",
    "$$\n",
    "\\frac{1+Z}{2} = \\frac{1}{2}\\left[ \\begin{pmatrix} 1&0 \\\\0&1 \\end{pmatrix}+\\begin{pmatrix} 1&0 \\\\0&-1 \\end{pmatrix}\\right] = |0\\rangle\\langle0|,\\\\\\frac{1-Z}{2} = \\frac{1}{2}\\left[ \\begin{pmatrix} 1&0 \\\\0&1 \\end{pmatrix}-\\begin{pmatrix} 1&0 \\\\0&-1 \\end{pmatrix}\\right] = |1\\rangle\\langle1|\n",
    "$$\n",
    "\n",
    "This shows that $|0\\rangle\\langle0|$ and $|1\\rangle\\langle1|$ can be expressed using the identity matrix and $Z$. Now, using the property that $X|0\\rangle = |1\\rangle$, we can also produce\n",
    "\n",
    "$$\n",
    "|0\\rangle\\langle1| = |0\\rangle\\langle0|X = \\frac{1}{2}(1+Z)~X = \\frac{X+iY}{2},\\\\\\\\\n",
    "|1\\rangle\\langle0| = X|0\\rangle\\langle0| = X~\\frac{1}{2}(1+Z) = \\frac{X-iY}{2}.\n",
    "$$\n",
    "\n",
    "Since we have all the outer products, we can now use this to write the matrix in terms of Pauli matrices:\n",
    "\n",
    "$$\n",
    "M = \\frac{m_{0,0}+m_{1,1}}{2}~1~+~\\frac{m_{0,1}+m_{1,0}}{2}~X~+~i\\frac{m_{0,1}-m_{1,0}}{2}~Y~+~\\frac{m_{0,0}-m_{1,1}}{2}~Z.\n",
    "$$\n",
    "\n",
    "This example was for a general single-qubit matrix, but the corresponding result is true also for matrices for any number of qubits. We simply start from the observation that\n",
    "\n",
    "$$\n",
    "\\left(\\frac{1+Z}{2}\\right)\\otimes\\left(\\frac{1+Z}{2}\\right)\\otimes\\ldots\\otimes\\left(\\frac{1+Z}{2}\\right) = |00\\ldots0\\rangle\\langle00\\ldots0|,\n",
    "$$\n",
    "\n",
    "and can then proceed in the same manner as above. In the end it can be shown that any matrix can be expressed in terms of tensor products of Pauli matrices:\n",
    "\n",
    "$$\n",
    "M = \\sum_{P_{n-1},\\ldots,P_0 \\in \\{1,X,Y,Z\\}} C_{P_{n-1}\\ldots,P_0}~~P_{n-1} \\otimes P_{n-2}\\otimes\\ldots\\otimes P_0.\n",
    "$$\n",
    "\n",
    "For Hermitian matrices, note that the coefficients $C_{P_{n-1}\\ldots,P_0}$ here will all be real."
   ]
  },
  {
   "cell_type": "markdown",
   "metadata": {},
   "source": [
    "## 3. Defining Universality <a id='defining'></a>\n",
    "\n",
    "Just as each quantum gate can be represented by a unitary, so too can we describe an entire quantum computation by a (very large) unitary operation. The effect of this is to rotate the input state to the output state.\n",
    "\n",
    "One possible special case of this is that the input and output states describe bit strings expressed in quantum form. The mapping of each input $x$ to its output $f(x)$ could be described by some (reversible) classical computation. Any such computation could therefore be expressed as a unitary.\n",
    "\n",
    "$$\n",
    "U = \\sum_j \\left| f(x) \\right\\rangle \\left\\langle x \\right|.\n",
    "$$\n",
    "\n",
    "If we were able to implement any possible unitary, it would therefore mean we could achieve universality in the sense of standard digital computers.\n",
    "\n",
    "Another special case is that the input and output states could describe a physical system, and the computation we perform is to simulate the dynamics of that system. This is an important problem that is impractical for classical computers, but is a natural application of quantum computers. The time evolution of the system in this case corresponds to the unitary that we apply, and the associated Hermitian matrix is the Hamiltonian of the system. Achieving any unitary would therefore correspond to simulating any time evolution, and engineering the effects of any Hamiltonian. \n",
    "\n",
    "Combining these insights we can define what it means for quantum computers to be universal. It is simply the ability to achieve any desired unitary on any arbitrary number of qubits. If we have this, we know that we can reproduce anything a digital computer can do, simulate any quantum system, and do everything else that is possible for a quantum computer."
   ]
  },
  {
   "cell_type": "markdown",
   "metadata": {},
   "source": [
    "## 4. Basic Gate Sets <a id='basic'></a>\n",
    "\n",
    "Whether or not we can build any unitary from a set of basic gates depends greatly on what basic gates we have access to. For every possible realization of fault-tolerant quantum computing, there is a set of quantum operations that are most straightforward to realize. Often these consist of single- and two-qubit gates, most of which correspond to the set of so-called *Clifford gates*. This is a very important set of operations, which do a lot of the heavy-lifting in any quantum algorithm."
   ]
  },
  {
   "cell_type": "markdown",
   "metadata": {},
   "source": [
    "### 4.1 Clifford Gates <a id='big-red'></a>\n",
    "\n",
    "To understand Clifford gates, let's start with an example that you have already seen many times: the Hadamard.\n",
    "\n",
    "$$\n",
    "H = |+\\rangle\\langle0|~+~ |-\\rangle\\langle1| = |0\\rangle\\langle+|~+~ |1\\rangle\\langle-|.\n",
    "$$\n",
    "\n",
    "This gate is expressed above using outer products, as described above. When expressed in this form, its famous effect becomes obvious: it takes $|0\\rangle$, and rotates it to $|+\\rangle$. More generally, we can say it rotates the basis states of the z measurement, $\\{ |0\\rangle,|1\\rangle \\}$, to the basis states of the x measurement, $\\{ |+\\rangle,|-\\rangle \\}$, and vice versa.\n",
    "\n",
    "In this way, the effect of the Hadamard is to move information around a qubit. It swaps any information that would previously be accessed by an x measurement with that accessed by a z measurement.\n",
    "\n",
    "The Hadamard can be combined with other gates to perform different operations, for example:\n",
    "\n",
    "$$\n",
    "H X H = Z,\\\\\\\\\n",
    "H Z H = X.\n",
    "$$\n",
    "\n",
    "\n",
    "By doing a Hadamard before and after an $X$, we cause the action it previously applied to the z basis states to be transferred to the x basis states instead. The combined effect is then identical to that of a $Z$. Similarly, we can create an $X$ from Hadamards and a $Z$.\n",
    "\n",
    "Similar behavior can be seen for the $S$ gate and its Hermitian conjugate,\n",
    "\n",
    "$$\n",
    "S X S^{\\dagger} = Y,\\\\\\\\\n",
    "S Y S^{\\dagger} = -X,\\\\\\\\\n",
    "S Z S^{\\dagger} = Z.\n",
    "$$\n",
    "\n",
    "This has a similar effect to the Hadamard, except that it swaps $X$ and $Y$ instead of $X$ and $Z$. In combination with the Hadamard, we could then make a composite gate that shifts information between y and z.\n",
    "\n",
    "This property of transforming Paulis into other Paulis is the defining feature of Clifford gates. Stated explicitly for the single-qubit case: if $U$ is a Clifford and $P$ is a Pauli, $U P U^{\\dagger}$ will also be a Pauli. For Hermitian gates, like the Hadamard, we can simply use $U P U$.\n",
    "\n",
    "Further examples of single-qubit Clifford gates are the Paulis themselves. These do not transform the Pauli they act on. Instead, they simply assign a phase of $-1$ to the two that they anticommute with. For example,\n",
    "\n",
    "$$\n",
    "Z X Z = -X,\\\\\\\\\n",
    "Z Y Z = -Y,\\\\\\\\\n",
    "Z Z Z= ~~~~Z.\n",
    "$$\n",
    "\n",
    "You may have noticed that a similar phase also arose in the effect of the $S$ gate. By combining this with a Pauli, we could make a composite gate that would cancel this phase, and swap $X$ and $Y$ in a way more similar to the Hadamard's swap of $X$ and $Z$.\n",
    "\n",
    "For multiple-qubit Clifford gates, the defining property is that they transform tensor products of Paulis to other tensor products of Paulis. For example, the most prominent two-qubit Clifford gate is the CNOT. The property of this that we will make use of in this chapter is\n",
    "\n",
    "$$\n",
    "{ CX}_{j,k}~ (X \\otimes 1)~{ CX}_{j,k} = X \\otimes X.\n",
    "$$\n",
    "\n",
    "This effectively 'copies' an $X$ from the control qubit over to the target.\n",
    "\n",
    "The process of sandwiching a matrix between a unitary and its Hermitian conjugate is known as conjugation by that unitary. This process transforms the eigenstates of the matrix, but leaves the eigenvalues unchanged. The reason why conjugation by Cliffords can transform between Paulis is because all Paulis share the same set of eigenvalues."
   ]
  },
  {
   "cell_type": "markdown",
   "metadata": {},
   "source": [
    "### 4.2 Non-Clifford Gates <a id='non-clifford'></a>\n",
    "\n",
    "The Clifford gates are very important, but they are not powerful on their own. In order to do any quantum computation, we need gates that are not Cliffords. Three important examples are arbitrary rotations around the three axes of the qubit, $R_x(\\theta)$, $R_y(\\theta)$ and $R_z(\\theta)$.\n",
    "\n",
    "Let's focus on $R_x(\\theta)$. As we saw above, any unitary can be expressed in an exponential form using a Hermitian matrix. For this gate, we find\n",
    "\n",
    "$$\n",
    "R_x(\\theta) = e^{i \\frac{\\theta}{2} X}.\n",
    "$$\n",
    "\n",
    "The last section also showed us that the unitary and its corresponding Hermitian matrix have the same eigenstates. In this section, we've seen that conjugation by a unitary transforms eigenstates and leaves eigenvalues unchanged. With this in mind, it can be shown that\n",
    "\n",
    "$$\n",
    "U R_x(\\theta)U^\\dagger = e^{i \\frac{\\theta}{2} ~U X U^\\dagger}.\n",
    "$$\n",
    "\n",
    "By conjugating this rotation by a Clifford, we can therefore transform it to the same rotation around another axis. So even if we didn't have a direct way to perform $R_y(\\theta)$ and $R_z(\\theta)$, we could do it with $R_x(\\theta)$ combined with Clifford gates. This technique of boosting the power of non-Clifford gates by combining them with Clifford gates is one that we make great use of in quantum computing."
   ]
  },
  {
   "cell_type": "markdown",
   "metadata": {},
   "source": [
    "### 4.3 Expanding the Gate Set <a id='expanding'></a>\n",
    "\n",
    "As another example of combining $R_x(\\theta)$ with Cliffords, let's conjugate it with a CNOT.\n",
    "\n",
    "$$\n",
    "CX_{j,k} ~(R_x(\\theta) \\otimes 1)~ CX_{j,k} = CX_{j,k} ~ e^{i \\frac{\\theta}{2} ~ (X\\otimes 1)}~ CX_{j,k} = e^{i \\frac{\\theta}{2} ~CX_{j,k} ~ (X\\otimes 1)~ CX_{j,k}} = e^{i \\frac{\\theta}{2} ~ X\\otimes X}\n",
    "$$\n",
    "\n",
    "This transforms our simple, single-qubit rotation into a much more powerful two-qubit gate. This is not just equivalent to performing the same rotation independently on both qubits. Instead, it is a gate capable of generating and manipulating entangled states.\n",
    "\n",
    "We needn't stop there. We can use the same trick to extend the operation to any number of qubits. All that's needed is more conjugates by the CNOT to keep copying the $X$ over to new qubits.\n",
    "\n",
    "Furthermore, we can use single-qubit Cliffords to transform the Pauli on different qubits. For example, in our two-qubit example we could conjugate by $S$ on the qubit on the right to turn the $X$ there into a $Y$:\n",
    "\n",
    "$$\n",
    "\\left( I \\otimes S \\right)  ~e^{i \\frac{\\theta}{2} ~ X\\otimes X}~\\left( I \\otimes S^\\dagger \\right) = e^{i \\frac{\\theta}{2} ~ X\\otimes Y}.\n",
    "$$\n",
    "\n",
    "With these techniques, we can make complex entangling operations that act on any arbitrary number of qubits, of the form\n",
    "\n",
    "$$\n",
    "U = e^{i\\frac{\\theta}{2} ~ P_{n-1}\\otimes P_{n-2}\\otimes...\\otimes P_0}, ~~~ P_j \\in \\{I,X,Y,Z\\}.\n",
    "$$\n",
    "\n",
    "This all goes to show that combining the single and two-qubit Clifford gates with rotations around the x axis gives us a powerful set of possibilities. What's left to demonstrate is that we can use them to do anything."
   ]
  },
  {
   "cell_type": "markdown",
   "metadata": {},
   "source": [
    "## 5. Proving Universality <a id='proving'></a>\n",
    "\n",
    "As for classical computers, we will need to split this big job up into manageable chunks. We'll need to find a basic set of gates that will allow us to achieve this. As we'll see, the single- and two-qubit gates of the last section are sufficient for the task.\n",
    "\n",
    "Suppose we wish to implement the unitary\n",
    "\n",
    "$$\n",
    "U = e^{i(aX + bZ)},\n",
    "$$\n",
    "\n",
    "but the only gates we have are $R_x(\\theta) = e^{i \\frac{\\theta}{2} X}$ and $R_z(\\theta) = e^{i \\frac{\\theta}{2} Z}$. The best way to solve this problem would be to use Euler angles. But let's instead consider a different method.\n",
    "\n",
    "The Hermitian matrix in the exponential for $U$ is simply the sum of those for the $R_x(\\theta)$ and $R_z(\\theta)$ rotations. This suggests a naive approach to solving our problem: we could apply $R_z(2b) = e^{i bZ}$ followed by $R_x(2a) = e^{i a X}$. Unfortunately, because we are exponentiating matrices that do not commute, this approach will not work.\n",
    "\n",
    "$$\n",
    "e^{i a X} e^{i b Z} \\neq e^{i(aX + bZ)}\n",
    "$$\n",
    "\n",
    "However, we could use the following modified version:\n",
    "\n",
    "$$\n",
    "U = \\lim_{n\\rightarrow\\infty} ~ \\left(e^{iaX/n}e^{ibZ/n}\\right)^n.\n",
    "$$\n",
    "\n",
    "Here we split $U$ up into $n$ small slices. For each slice, it is a good approximation to say that\n",
    "\n",
    "$$\n",
    "e^{iaX/n}e^{ibZ/n} = e^{i(aX + bZ)/n}\n",
    "$$\n",
    "\n",
    "The error in this approximation scales as $1/n^2$. When we combine the $n$ slices, we get an approximation of our target unitary whose error scales as $1/n$. So by simply increasing the number of slices, we can get as close to $U$ as we need. Other methods of creating the sequence are also possible to get even more accurate versions of our target unitary.\n",
    "\n",
    "The power of this method is that it can be used in complex cases than just a single qubit. For example, consider the unitary \n",
    "\n",
    "$$\n",
    "U = e^{i(aX\\otimes X\\otimes X + bZ\\otimes Z\\otimes Z)}.\n",
    "$$\n",
    "\n",
    "We know how to create the unitary $e^{i\\frac{\\theta}{2} X\\otimes X\\otimes X}$ from a single qubit $R_x(\\theta)$ and two controlled-NOTs."
   ]
  },
  {
   "cell_type": "code",
   "execution_count": 1,
   "metadata": {},
   "outputs": [
    {
     "data": {
      "image/svg+xml": [
       "<?xml version=\"1.0\" encoding=\"UTF-8\"?><!DOCTYPE svg  PUBLIC '-//W3C//DTD SVG 1.1//EN'  'http://www.w3.org/Graphics/SVG/1.1/DTD/svg11.dtd'><svg width=\"312.85pt\" height=\"172pt\" version=\"1.1\" viewBox=\"0 0 312.85 172\" xmlns=\"http://www.w3.org/2000/svg\" xmlns:xlink=\"http://www.w3.org/1999/xlink\"><defs><style type=\"text/css\">*{stroke-linejoin: round; stroke-linecap: butt}</style></defs><path d=\"m0 172h312.85v-172h-312.85z\" fill=\"#ffffff\"/><path d=\"m64.609 44.283h236.41\" clip-path=\"url(#p6df9267407)\" fill=\"none\" stroke=\"#000000\" stroke-linecap=\"square\" stroke-width=\"2\"/><path d=\"m64.609 90.637h236.41\" clip-path=\"url(#p6df9267407)\" fill=\"none\" stroke=\"#000000\" stroke-linecap=\"square\" stroke-width=\"2\"/><path d=\"m64.609 136.99h236.41\" clip-path=\"url(#p6df9267407)\" fill=\"none\" stroke=\"#000000\" stroke-linecap=\"square\" stroke-width=\"2\"/><path d=\"m89.64 136.99v-92.708\" clip-path=\"url(#p6df9267407)\" fill=\"none\" stroke=\"#1192e8\" stroke-linecap=\"square\" stroke-width=\"2\"/><path d=\"m135.99 90.637v-46.354\" clip-path=\"url(#p6df9267407)\" fill=\"none\" stroke=\"#1192e8\" stroke-linecap=\"square\" stroke-width=\"2\"/><path d=\"m228.7 90.637v-46.354\" clip-path=\"url(#p6df9267407)\" fill=\"none\" stroke=\"#1192e8\" stroke-linecap=\"square\" stroke-width=\"2\"/><path d=\"m275.06 136.99v-92.708\" clip-path=\"url(#p6df9267407)\" fill=\"none\" stroke=\"#1192e8\" stroke-linecap=\"square\" stroke-width=\"2\"/><path d=\"m89.64 48.803c1.1986 0 2.3482-0.4762 3.1958-1.3237 0.84753-0.84753 1.3237-1.9972 1.3237-3.1958 0-1.1986-0.4762-2.3482-1.3237-3.1958-0.84753-0.84753-1.9972-1.3237-3.1958-1.3237-1.1986 0-2.3482 0.4762-3.1958 1.3237-0.84753 0.84753-1.3237 1.9972-1.3237 3.1958 0 1.1986 0.4762 2.3482 1.3237 3.1958 0.84753 0.84753 1.9972 1.3237 3.1958 1.3237z\" clip-path=\"url(#p6df9267407)\" fill=\"#1192e8\" stroke=\"#1192e8\" stroke-width=\"1.5\"/><path d=\"m89.64 147.54c2.7967 0 5.4792-1.1111 7.4568-3.0887 1.9776-1.9776 3.0887-4.6601 3.0887-7.4568 0-2.7967-1.1111-5.4792-3.0887-7.4568-1.9776-1.9776-4.6601-3.0887-7.4568-3.0887-2.7967 0-5.4792 1.1111-7.4568 3.0887-1.9776 1.9776-3.0887 4.6601-3.0887 7.4568 0 2.7967 1.1111 5.4792 3.0887 7.4568 1.9776 1.9776 4.6601 3.0887 7.4568 3.0887z\" clip-path=\"url(#p6df9267407)\" fill=\"#1192e8\" stroke=\"#1192e8\" stroke-width=\"2\"/><path d=\"m135.99 48.803c1.1986 0 2.3482-0.4762 3.1958-1.3237 0.84753-0.84753 1.3237-1.9972 1.3237-3.1958 0-1.1986-0.4762-2.3482-1.3237-3.1958-0.84753-0.84753-1.9972-1.3237-3.1958-1.3237-1.1986 0-2.3482 0.4762-3.1958 1.3237s-1.3237 1.9972-1.3237 3.1958c0 1.1986 0.4762 2.3482 1.3237 3.1958s1.9972 1.3237 3.1958 1.3237z\" clip-path=\"url(#p6df9267407)\" fill=\"#1192e8\" stroke=\"#1192e8\" stroke-width=\"1.5\"/><path d=\"m135.99 101.18c2.7967 0 5.4792-1.1111 7.4568-3.0887 1.9776-1.9776 3.0887-4.6601 3.0887-7.4568 0-2.7967-1.1111-5.4792-3.0887-7.4568-1.9776-1.9776-4.6601-3.0887-7.4568-3.0887-2.7967 0-5.4792 1.1111-7.4568 3.0887-1.9776 1.9776-3.0887 4.6601-3.0887 7.4568 0 2.7967 1.1111 5.4792 3.0887 7.4568 1.9776 1.9776 4.6601 3.0887 7.4568 3.0887z\" clip-path=\"url(#p6df9267407)\" fill=\"#1192e8\" stroke=\"#1192e8\" stroke-width=\"2\"/><path d=\"m167.28 59.348h30.13v-30.13h-30.13z\" clip-path=\"url(#p6df9267407)\" fill=\"#6929c4\" stroke=\"#6929c4\" stroke-width=\"1.5\"/><path d=\"m228.7 48.803c1.1986 0 2.3482-0.4762 3.1958-1.3237s1.3237-1.9972 1.3237-3.1958c0-1.1986-0.4762-2.3482-1.3237-3.1958s-1.9972-1.3237-3.1958-1.3237c-1.1986 0-2.3482 0.4762-3.1958 1.3237-0.84753 0.84753-1.3237 1.9972-1.3237 3.1958 0 1.1986 0.4762 2.3482 1.3237 3.1958 0.84753 0.84753 1.9972 1.3237 3.1958 1.3237z\" clip-path=\"url(#p6df9267407)\" fill=\"#1192e8\" stroke=\"#1192e8\" stroke-width=\"1.5\"/><path d=\"m228.7 101.18c2.7967 0 5.4792-1.1111 7.4568-3.0887 1.9776-1.9776 3.0887-4.6601 3.0887-7.4568 0-2.7967-1.1111-5.4792-3.0887-7.4568-1.9776-1.9776-4.6601-3.0887-7.4568-3.0887-2.7967 0-5.4792 1.1111-7.4568 3.0887-1.9776 1.9776-3.0887 4.6601-3.0887 7.4568 0 2.7967 1.1111 5.4792 3.0887 7.4568 1.9776 1.9776 4.6601 3.0887 7.4568 3.0887z\" clip-path=\"url(#p6df9267407)\" fill=\"#1192e8\" stroke=\"#1192e8\" stroke-width=\"2\"/><path d=\"m275.06 48.803c1.1986 0 2.3482-0.4762 3.1958-1.3237 0.84753-0.84753 1.3237-1.9972 1.3237-3.1958 0-1.1986-0.4762-2.3482-1.3237-3.1958-0.84753-0.84753-1.9972-1.3237-3.1958-1.3237-1.1986 0-2.3482 0.4762-3.1958 1.3237s-1.3237 1.9972-1.3237 3.1958c0 1.1986 0.4762 2.3482 1.3237 3.1958s1.9972 1.3237 3.1958 1.3237z\" clip-path=\"url(#p6df9267407)\" fill=\"#1192e8\" stroke=\"#1192e8\" stroke-width=\"1.5\"/><path d=\"m275.06 147.54c2.7967 0 5.4792-1.1111 7.4568-3.0887 1.9776-1.9776 3.0887-4.6601 3.0887-7.4568 0-2.7967-1.1111-5.4792-3.0887-7.4568-1.9776-1.9776-4.6601-3.0887-7.4568-3.0887-2.7967 0-5.4792 1.1111-7.4568 3.0887-1.9776 1.9776-3.0887 4.6601-3.0887 7.4568 0 2.7967 1.1111 5.4792 3.0887 7.4568 1.9776 1.9776 4.6601 3.0887 7.4568 3.0887z\" clip-path=\"url(#p6df9267407)\" fill=\"#1192e8\" stroke=\"#1192e8\" stroke-width=\"2\"/><g clip-path=\"url(#p6df9267407)\"><g transform=\"translate(37.301 48.734) scale(.1625 -.1625)\"><defs><path id=\"DejaVuSans-Oblique-71\" transform=\"scale(.015625)\" d=\"m2669 525q-231-303-546-460-314-156-695-156-531 0-833 358-301 358-301 986 0 506 186 978t533 847q225 244 517 375t614 131q387 0 637-153t363-462l100 525h578l-934-4813h-579l360 1844zm-1778 813q0-463 193-705 194-242 560-242 544 0 928 520t384 1264q0 450-199 689-198 239-569 239-272 0-504-127-231-126-403-370-181-256-286-600-104-343-104-668z\"/><path id=\"DejaVuSans-30\" transform=\"scale(.015625)\" d=\"m2034 4250q-487 0-733-480-245-479-245-1442 0-959 245-1439 246-480 733-480 491 0 736 480 246 480 246 1439 0 963-246 1442-245 480-736 480zm0 500q785 0 1199-621 414-620 414-1801 0-1178-414-1799-414-620-1199-620-784 0-1198 620-414 621-414 1799 0 1181 414 1801 414 621 1198 621z\"/></defs><use xlink:href=\"#DejaVuSans-Oblique-71\"/><use transform=\"translate(63.477 -16.406) scale(.7)\" xlink:href=\"#DejaVuSans-30\"/></g></g><g clip-path=\"url(#p6df9267407)\"><g transform=\"translate(37.301 95.088) scale(.1625 -.1625)\"><defs><path id=\"DejaVuSans-31\" transform=\"scale(.015625)\" d=\"m794 531h1031v3560l-1122-225v575l1116 225h631v-4135h1031v-531h-2687v531z\"/></defs><use xlink:href=\"#DejaVuSans-Oblique-71\"/><use transform=\"translate(63.477 -16.406) scale(.7)\" xlink:href=\"#DejaVuSans-31\"/></g></g><g clip-path=\"url(#p6df9267407)\"><g transform=\"translate(37.301 141.44) scale(.1625 -.1625)\"><defs><path id=\"DejaVuSans-32\" transform=\"scale(.015625)\" d=\"m1228 531h2203v-531h-2962v531q359 372 979 998 621 627 780 809 303 340 423 576 121 236 121 464 0 372-261 606-261 235-680 235-297 0-627-103-329-103-704-313v638q381 153 712 231 332 78 607 78 725 0 1156-363 431-362 431-968 0-288-108-546-107-257-392-607-78-91-497-524-418-433-1181-1211z\"/></defs><use xlink:href=\"#DejaVuSans-Oblique-71\"/><use transform=\"translate(63.477 -16.406) scale(.7)\" xlink:href=\"#DejaVuSans-32\"/></g></g><path d=\"m89.64 143.02v-12.052\" clip-path=\"url(#p6df9267407)\" fill=\"none\" stroke=\"#ffffff\" stroke-linecap=\"square\" stroke-width=\"2\"/><path d=\"m83.614 136.99h12.052\" clip-path=\"url(#p6df9267407)\" fill=\"none\" stroke=\"#ffffff\" stroke-linecap=\"square\" stroke-width=\"2\"/><path d=\"m135.99 96.663v-12.052\" clip-path=\"url(#p6df9267407)\" fill=\"none\" stroke=\"#ffffff\" stroke-linecap=\"square\" stroke-width=\"2\"/><path d=\"m129.97 90.637h12.052\" clip-path=\"url(#p6df9267407)\" fill=\"none\" stroke=\"#ffffff\" stroke-linecap=\"square\" stroke-width=\"2\"/><g clip-path=\"url(#p6df9267407)\"><g transform=\"translate(171.76 55.53) scale(.08 -.08)\" fill=\"#ffffff\"><defs><path id=\"DejaVuSans-74\" transform=\"scale(.015625)\" d=\"m1172 4494v-994h1184v-447h-1184v-1900q0-428 117-550t477-122h590v-481h-590q-666 0-919 248-253 249-253 905v1900h-422v447h422v994h578z\"/><path id=\"DejaVuSans-68\" transform=\"scale(.015625)\" d=\"m3513 2113v-2113h-575v2094q0 497-194 743-194 247-581 247-466 0-735-297-269-296-269-809v-1978h-578v4863h578v-1907q207 316 486 472 280 156 646 156 603 0 912-373 310-373 310-1098z\"/><path id=\"DejaVuSans-65\" transform=\"scale(.015625)\" d=\"m3597 1894v-281h-2644q38-594 358-905t892-311q331 0 642 81t618 244v-544q-310-131-635-200t-659-69q-838 0-1327 487-489 488-489 1320 0 859 464 1363 464 505 1252 505 706 0 1117-455 411-454 411-1235zm-575 169q-6 471-264 752-258 282-683 282-481 0-770-272t-333-766l2050 4z\"/><path id=\"DejaVuSans-61\" transform=\"scale(.015625)\" d=\"m2194 1759q-697 0-966-159t-269-544q0-306 202-486 202-179 548-179 479 0 768 339t289 901v128h-572zm1147 238v-1997h-575v531q-197-318-491-470t-719-152q-537 0-855 302-317 302-317 808 0 590 395 890 396 300 1180 300h807v57q0 397-261 614t-733 217q-300 0-585-72-284-72-546-216v532q315 122 612 182 297 61 578 61 760 0 1135-394 375-393 375-1193z\"/></defs><use xlink:href=\"#DejaVuSans-74\"/><use x=\"39.208984\" xlink:href=\"#DejaVuSans-68\"/><use x=\"102.587891\" xlink:href=\"#DejaVuSans-65\"/><use x=\"164.111328\" xlink:href=\"#DejaVuSans-74\"/><use x=\"203.320312\" xlink:href=\"#DejaVuSans-61\"/></g></g><g clip-path=\"url(#p6df9267407)\"><g transform=\"translate(174.42 43.351) scale(.13 -.13)\" fill=\"#ffffff\"><defs><path id=\"DejaVuSans-52\" transform=\"scale(.015625)\" d=\"m2841 2188q203-69 395-294t386-619l641-1275h-679l-596 1197q-232 469-449 622t-592 153h-688v-1972h-631v4666h1425q800 0 1194-335 394-334 394-1009 0-441-205-732-205-290-595-402zm-1582 1959v-1656h794q456 0 689 211t233 620-233 617-689 208h-794z\"/><path id=\"DejaVuSans-58\" transform=\"scale(.015625)\" d=\"m403 4666h678l1160-1735 1165 1735h678l-1500-2241 1600-2425h-678l-1312 1984-1322-1984h-681l1665 2491-1453 2175z\"/></defs><use transform=\"translate(0 .09375)\" xlink:href=\"#DejaVuSans-52\"/><use transform=\"translate(70.439 -16.312) scale(.7)\" xlink:href=\"#DejaVuSans-58\"/></g></g><path d=\"m228.7 96.663v-12.052\" clip-path=\"url(#p6df9267407)\" fill=\"none\" stroke=\"#ffffff\" stroke-linecap=\"square\" stroke-width=\"2\"/><path d=\"m222.68 90.637h12.052\" clip-path=\"url(#p6df9267407)\" fill=\"none\" stroke=\"#ffffff\" stroke-linecap=\"square\" stroke-width=\"2\"/><path d=\"m275.06 143.02v-12.052\" clip-path=\"url(#p6df9267407)\" fill=\"none\" stroke=\"#ffffff\" stroke-linecap=\"square\" stroke-width=\"2\"/><path d=\"m269.03 136.99h12.052\" clip-path=\"url(#p6df9267407)\" fill=\"none\" stroke=\"#ffffff\" stroke-linecap=\"square\" stroke-width=\"2\"/><defs><clipPath id=\"p6df9267407\"><rect x=\"7.2\" y=\"7.2\" width=\"298.45\" height=\"157.6\"/></clipPath></defs></svg>"
      ],
      "text/plain": [
       "<Figure size 538.33x284.278 with 1 Axes>"
      ]
     },
     "execution_count": 1,
     "metadata": {},
     "output_type": "execute_result"
    }
   ],
   "source": [
    "from qiskit import QuantumCircuit\n",
    "from qiskit.circuit import Parameter\n",
    "theta = Parameter('theta')\n",
    "\n",
    "qc = QuantumCircuit(3)\n",
    "qc.cx(0,2)\n",
    "qc.cx(0,1)\n",
    "qc.rx(theta,0)\n",
    "qc.cx(0,1)\n",
    "qc.cx(0,2)\n",
    "qc.draw()"
   ]
  },
  {
   "cell_type": "markdown",
   "metadata": {},
   "source": [
    "With a few Hadamards, we can do the same for $e^{i\\frac{\\theta}{2} Z\\otimes Z\\otimes Z}$."
   ]
  },
  {
   "cell_type": "code",
   "execution_count": 2,
   "metadata": {},
   "outputs": [
    {
     "data": {
      "image/svg+xml": [
       "<?xml version=\"1.0\" encoding=\"UTF-8\"?><!DOCTYPE svg  PUBLIC '-//W3C//DTD SVG 1.1//EN'  'http://www.w3.org/Graphics/SVG/1.1/DTD/svg11.dtd'><svg width=\"405.56pt\" height=\"172pt\" version=\"1.1\" viewBox=\"0 0 405.56 172\" xmlns=\"http://www.w3.org/2000/svg\" xmlns:xlink=\"http://www.w3.org/1999/xlink\"><defs><style type=\"text/css\">*{stroke-linejoin: round; stroke-linecap: butt}</style></defs><path d=\"m0 172h405.56v-172h-405.56z\" fill=\"#ffffff\"/><path d=\"m64.609 44.283h329.11\" clip-path=\"url(#p8c438beb6f)\" fill=\"none\" stroke=\"#000000\" stroke-linecap=\"square\" stroke-width=\"2\"/><path d=\"m64.609 90.637h329.11\" clip-path=\"url(#p8c438beb6f)\" fill=\"none\" stroke=\"#000000\" stroke-linecap=\"square\" stroke-width=\"2\"/><path d=\"m64.609 136.99h329.11\" clip-path=\"url(#p8c438beb6f)\" fill=\"none\" stroke=\"#000000\" stroke-linecap=\"square\" stroke-width=\"2\"/><path d=\"m135.99 136.99v-92.708\" clip-path=\"url(#p8c438beb6f)\" fill=\"none\" stroke=\"#1192e8\" stroke-linecap=\"square\" stroke-width=\"2\"/><path d=\"m182.35 90.637v-46.354\" clip-path=\"url(#p8c438beb6f)\" fill=\"none\" stroke=\"#1192e8\" stroke-linecap=\"square\" stroke-width=\"2\"/><path d=\"m275.06 90.637v-46.354\" clip-path=\"url(#p8c438beb6f)\" fill=\"none\" stroke=\"#1192e8\" stroke-linecap=\"square\" stroke-width=\"2\"/><path d=\"m321.41 136.99v-92.708\" clip-path=\"url(#p8c438beb6f)\" fill=\"none\" stroke=\"#1192e8\" stroke-linecap=\"square\" stroke-width=\"2\"/><path d=\"m74.575 59.348h30.13v-30.13h-30.13z\" clip-path=\"url(#p8c438beb6f)\" fill=\"#1192e8\" stroke=\"#1192e8\" stroke-width=\"1.5\"/><path d=\"m74.575 105.7h30.13v-30.13h-30.13z\" clip-path=\"url(#p8c438beb6f)\" fill=\"#1192e8\" stroke=\"#1192e8\" stroke-width=\"1.5\"/><path d=\"m74.575 152.06h30.13v-30.13h-30.13z\" clip-path=\"url(#p8c438beb6f)\" fill=\"#1192e8\" stroke=\"#1192e8\" stroke-width=\"1.5\"/><path d=\"m135.99 48.803c1.1986 0 2.3482-0.4762 3.1958-1.3237 0.84753-0.84753 1.3237-1.9972 1.3237-3.1958 0-1.1986-0.4762-2.3482-1.3237-3.1958-0.84753-0.84753-1.9972-1.3237-3.1958-1.3237-1.1986 0-2.3482 0.4762-3.1958 1.3237s-1.3237 1.9972-1.3237 3.1958c0 1.1986 0.4762 2.3482 1.3237 3.1958s1.9972 1.3237 3.1958 1.3237z\" clip-path=\"url(#p8c438beb6f)\" fill=\"#1192e8\" stroke=\"#1192e8\" stroke-width=\"1.5\"/><path d=\"m135.99 147.54c2.7967 0 5.4792-1.1111 7.4568-3.0887 1.9776-1.9776 3.0887-4.6601 3.0887-7.4568 0-2.7967-1.1111-5.4792-3.0887-7.4568-1.9776-1.9776-4.6601-3.0887-7.4568-3.0887-2.7967 0-5.4792 1.1111-7.4568 3.0887-1.9776 1.9776-3.0887 4.6601-3.0887 7.4568 0 2.7967 1.1111 5.4792 3.0887 7.4568 1.9776 1.9776 4.6601 3.0887 7.4568 3.0887z\" clip-path=\"url(#p8c438beb6f)\" fill=\"#1192e8\" stroke=\"#1192e8\" stroke-width=\"2\"/><path d=\"m182.35 48.803c1.1986 0 2.3482-0.4762 3.1958-1.3237 0.84753-0.84753 1.3237-1.9972 1.3237-3.1958 0-1.1986-0.4762-2.3482-1.3237-3.1958-0.84753-0.84753-1.9972-1.3237-3.1958-1.3237s-2.3482 0.4762-3.1958 1.3237c-0.84753 0.84753-1.3237 1.9972-1.3237 3.1958 0 1.1986 0.4762 2.3482 1.3237 3.1958 0.84753 0.84753 1.9972 1.3237 3.1958 1.3237z\" clip-path=\"url(#p8c438beb6f)\" fill=\"#1192e8\" stroke=\"#1192e8\" stroke-width=\"1.5\"/><path d=\"m182.35 101.18c2.7967 0 5.4792-1.1111 7.4568-3.0887 1.9776-1.9776 3.0887-4.6601 3.0887-7.4568 0-2.7967-1.1111-5.4792-3.0887-7.4568-1.9776-1.9776-4.6601-3.0887-7.4568-3.0887-2.7967 0-5.4792 1.1111-7.4568 3.0887-1.9776 1.9776-3.0887 4.6601-3.0887 7.4568 0 2.7967 1.1111 5.4792 3.0887 7.4568 1.9776 1.9776 4.6601 3.0887 7.4568 3.0887z\" clip-path=\"url(#p8c438beb6f)\" fill=\"#1192e8\" stroke=\"#1192e8\" stroke-width=\"2\"/><path d=\"m213.64 59.348h30.13v-30.13h-30.13z\" clip-path=\"url(#p8c438beb6f)\" fill=\"#6929c4\" stroke=\"#6929c4\" stroke-width=\"1.5\"/><path d=\"m275.06 48.803c1.1986 0 2.3482-0.4762 3.1958-1.3237 0.84753-0.84753 1.3237-1.9972 1.3237-3.1958 0-1.1986-0.4762-2.3482-1.3237-3.1958-0.84753-0.84753-1.9972-1.3237-3.1958-1.3237-1.1986 0-2.3482 0.4762-3.1958 1.3237s-1.3237 1.9972-1.3237 3.1958c0 1.1986 0.4762 2.3482 1.3237 3.1958s1.9972 1.3237 3.1958 1.3237z\" clip-path=\"url(#p8c438beb6f)\" fill=\"#1192e8\" stroke=\"#1192e8\" stroke-width=\"1.5\"/><path d=\"m275.06 101.18c2.7967 0 5.4792-1.1111 7.4568-3.0887 1.9776-1.9776 3.0887-4.6601 3.0887-7.4568 0-2.7967-1.1111-5.4792-3.0887-7.4568-1.9776-1.9776-4.6601-3.0887-7.4568-3.0887-2.7967 0-5.4792 1.1111-7.4568 3.0887-1.9776 1.9776-3.0887 4.6601-3.0887 7.4568 0 2.7967 1.1111 5.4792 3.0887 7.4568 1.9776 1.9776 4.6601 3.0887 7.4568 3.0887z\" clip-path=\"url(#p8c438beb6f)\" fill=\"#1192e8\" stroke=\"#1192e8\" stroke-width=\"2\"/><path d=\"m321.41 48.803c1.1986 0 2.3482-0.4762 3.1958-1.3237 0.84753-0.84753 1.3237-1.9972 1.3237-3.1958 0-1.1986-0.4762-2.3482-1.3237-3.1958-0.84753-0.84753-1.9972-1.3237-3.1958-1.3237s-2.3482 0.4762-3.1958 1.3237c-0.84753 0.84753-1.3237 1.9972-1.3237 3.1958 0 1.1986 0.4762 2.3482 1.3237 3.1958 0.84753 0.84753 1.9972 1.3237 3.1958 1.3237z\" clip-path=\"url(#p8c438beb6f)\" fill=\"#1192e8\" stroke=\"#1192e8\" stroke-width=\"1.5\"/><path d=\"m321.41 147.54c2.7967 0 5.4792-1.1111 7.4568-3.0887 1.9776-1.9776 3.0887-4.6601 3.0887-7.4568 0-2.7967-1.1111-5.4792-3.0887-7.4568-1.9776-1.9776-4.6601-3.0887-7.4568-3.0887-2.7967 0-5.4792 1.1111-7.4568 3.0887-1.9776 1.9776-3.0887 4.6601-3.0887 7.4568 0 2.7967 1.1111 5.4792 3.0887 7.4568 1.9776 1.9776 4.6601 3.0887 7.4568 3.0887z\" clip-path=\"url(#p8c438beb6f)\" fill=\"#1192e8\" stroke=\"#1192e8\" stroke-width=\"2\"/><path d=\"m352.7 105.7h30.13v-30.13h-30.13z\" clip-path=\"url(#p8c438beb6f)\" fill=\"#1192e8\" stroke=\"#1192e8\" stroke-width=\"1.5\"/><path d=\"m352.7 152.06h30.13v-30.13h-30.13z\" clip-path=\"url(#p8c438beb6f)\" fill=\"#1192e8\" stroke=\"#1192e8\" stroke-width=\"1.5\"/><path d=\"m352.7 59.348h30.13v-30.13h-30.13z\" clip-path=\"url(#p8c438beb6f)\" fill=\"#1192e8\" stroke=\"#1192e8\" stroke-width=\"1.5\"/><g clip-path=\"url(#p8c438beb6f)\"><g transform=\"translate(37.301 48.734) scale(.1625 -.1625)\"><defs><path id=\"DejaVuSans-Oblique-71\" transform=\"scale(.015625)\" d=\"m2669 525q-231-303-546-460-314-156-695-156-531 0-833 358-301 358-301 986 0 506 186 978t533 847q225 244 517 375t614 131q387 0 637-153t363-462l100 525h578l-934-4813h-579l360 1844zm-1778 813q0-463 193-705 194-242 560-242 544 0 928 520t384 1264q0 450-199 689-198 239-569 239-272 0-504-127-231-126-403-370-181-256-286-600-104-343-104-668z\"/><path id=\"DejaVuSans-30\" transform=\"scale(.015625)\" d=\"m2034 4250q-487 0-733-480-245-479-245-1442 0-959 245-1439 246-480 733-480 491 0 736 480 246 480 246 1439 0 963-246 1442-245 480-736 480zm0 500q785 0 1199-621 414-620 414-1801 0-1178-414-1799-414-620-1199-620-784 0-1198 620-414 621-414 1799 0 1181 414 1801 414 621 1198 621z\"/></defs><use xlink:href=\"#DejaVuSans-Oblique-71\"/><use transform=\"translate(63.477 -16.406) scale(.7)\" xlink:href=\"#DejaVuSans-30\"/></g></g><g clip-path=\"url(#p8c438beb6f)\"><g transform=\"translate(37.301 95.088) scale(.1625 -.1625)\"><defs><path id=\"DejaVuSans-31\" transform=\"scale(.015625)\" d=\"m794 531h1031v3560l-1122-225v575l1116 225h631v-4135h1031v-531h-2687v531z\"/></defs><use xlink:href=\"#DejaVuSans-Oblique-71\"/><use transform=\"translate(63.477 -16.406) scale(.7)\" xlink:href=\"#DejaVuSans-31\"/></g></g><g clip-path=\"url(#p8c438beb6f)\"><g transform=\"translate(37.301 141.44) scale(.1625 -.1625)\"><defs><path id=\"DejaVuSans-32\" transform=\"scale(.015625)\" d=\"m1228 531h2203v-531h-2962v531q359 372 979 998 621 627 780 809 303 340 423 576 121 236 121 464 0 372-261 606-261 235-680 235-297 0-627-103-329-103-704-313v638q381 153 712 231 332 78 607 78 725 0 1156-363 431-362 431-968 0-288-108-546-107-257-392-607-78-91-497-524-418-433-1181-1211z\"/></defs><use xlink:href=\"#DejaVuSans-Oblique-71\"/><use transform=\"translate(63.477 -16.406) scale(.7)\" xlink:href=\"#DejaVuSans-32\"/></g></g><g clip-path=\"url(#p8c438beb6f)\"><g transform=\"translate(84.752 47.87) scale(.13 -.13)\" fill=\"#ffffff\"><defs><path id=\"DejaVuSans-48\" transform=\"scale(.015625)\" d=\"m628 4666h631v-1913h2294v1913h631v-4666h-631v2222h-2294v-2222h-631v4666z\"/></defs><use xlink:href=\"#DejaVuSans-48\"/></g></g><g clip-path=\"url(#p8c438beb6f)\"><g transform=\"translate(84.752 94.224) scale(.13 -.13)\" fill=\"#ffffff\"><use xlink:href=\"#DejaVuSans-48\"/></g></g><g clip-path=\"url(#p8c438beb6f)\"><g transform=\"translate(84.752 140.58) scale(.13 -.13)\" fill=\"#ffffff\"><use xlink:href=\"#DejaVuSans-48\"/></g></g><path d=\"m135.99 143.02v-12.052\" clip-path=\"url(#p8c438beb6f)\" fill=\"none\" stroke=\"#ffffff\" stroke-linecap=\"square\" stroke-width=\"2\"/><path d=\"m129.97 136.99h12.052\" clip-path=\"url(#p8c438beb6f)\" fill=\"none\" stroke=\"#ffffff\" stroke-linecap=\"square\" stroke-width=\"2\"/><path d=\"m182.35 96.663v-12.052\" clip-path=\"url(#p8c438beb6f)\" fill=\"none\" stroke=\"#ffffff\" stroke-linecap=\"square\" stroke-width=\"2\"/><path d=\"m176.32 90.637h12.052\" clip-path=\"url(#p8c438beb6f)\" fill=\"none\" stroke=\"#ffffff\" stroke-linecap=\"square\" stroke-width=\"2\"/><g clip-path=\"url(#p8c438beb6f)\"><g transform=\"translate(218.12 55.53) scale(.08 -.08)\" fill=\"#ffffff\"><defs><path id=\"DejaVuSans-74\" transform=\"scale(.015625)\" d=\"m1172 4494v-994h1184v-447h-1184v-1900q0-428 117-550t477-122h590v-481h-590q-666 0-919 248-253 249-253 905v1900h-422v447h422v994h578z\"/><path id=\"DejaVuSans-68\" transform=\"scale(.015625)\" d=\"m3513 2113v-2113h-575v2094q0 497-194 743-194 247-581 247-466 0-735-297-269-296-269-809v-1978h-578v4863h578v-1907q207 316 486 472 280 156 646 156 603 0 912-373 310-373 310-1098z\"/><path id=\"DejaVuSans-65\" transform=\"scale(.015625)\" d=\"m3597 1894v-281h-2644q38-594 358-905t892-311q331 0 642 81t618 244v-544q-310-131-635-200t-659-69q-838 0-1327 487-489 488-489 1320 0 859 464 1363 464 505 1252 505 706 0 1117-455 411-454 411-1235zm-575 169q-6 471-264 752-258 282-683 282-481 0-770-272t-333-766l2050 4z\"/><path id=\"DejaVuSans-61\" transform=\"scale(.015625)\" d=\"m2194 1759q-697 0-966-159t-269-544q0-306 202-486 202-179 548-179 479 0 768 339t289 901v128h-572zm1147 238v-1997h-575v531q-197-318-491-470t-719-152q-537 0-855 302-317 302-317 808 0 590 395 890 396 300 1180 300h807v57q0 397-261 614t-733 217q-300 0-585-72-284-72-546-216v532q315 122 612 182 297 61 578 61 760 0 1135-394 375-393 375-1193z\"/></defs><use xlink:href=\"#DejaVuSans-74\"/><use x=\"39.208984\" xlink:href=\"#DejaVuSans-68\"/><use x=\"102.587891\" xlink:href=\"#DejaVuSans-65\"/><use x=\"164.111328\" xlink:href=\"#DejaVuSans-74\"/><use x=\"203.320312\" xlink:href=\"#DejaVuSans-61\"/></g></g><g clip-path=\"url(#p8c438beb6f)\"><g transform=\"translate(220.77 43.351) scale(.13 -.13)\" fill=\"#ffffff\"><defs><path id=\"DejaVuSans-52\" transform=\"scale(.015625)\" d=\"m2841 2188q203-69 395-294t386-619l641-1275h-679l-596 1197q-232 469-449 622t-592 153h-688v-1972h-631v4666h1425q800 0 1194-335 394-334 394-1009 0-441-205-732-205-290-595-402zm-1582 1959v-1656h794q456 0 689 211t233 620-233 617-689 208h-794z\"/><path id=\"DejaVuSans-58\" transform=\"scale(.015625)\" d=\"m403 4666h678l1160-1735 1165 1735h678l-1500-2241 1600-2425h-678l-1312 1984-1322-1984h-681l1665 2491-1453 2175z\"/></defs><use transform=\"translate(0 .09375)\" xlink:href=\"#DejaVuSans-52\"/><use transform=\"translate(70.439 -16.312) scale(.7)\" xlink:href=\"#DejaVuSans-58\"/></g></g><path d=\"m275.06 96.663v-12.052\" clip-path=\"url(#p8c438beb6f)\" fill=\"none\" stroke=\"#ffffff\" stroke-linecap=\"square\" stroke-width=\"2\"/><path d=\"m269.03 90.637h12.052\" clip-path=\"url(#p8c438beb6f)\" fill=\"none\" stroke=\"#ffffff\" stroke-linecap=\"square\" stroke-width=\"2\"/><path d=\"m321.41 143.02v-12.052\" clip-path=\"url(#p8c438beb6f)\" fill=\"none\" stroke=\"#ffffff\" stroke-linecap=\"square\" stroke-width=\"2\"/><path d=\"m315.38 136.99h12.052\" clip-path=\"url(#p8c438beb6f)\" fill=\"none\" stroke=\"#ffffff\" stroke-linecap=\"square\" stroke-width=\"2\"/><g clip-path=\"url(#p8c438beb6f)\"><g transform=\"translate(362.88 94.224) scale(.13 -.13)\" fill=\"#ffffff\"><use xlink:href=\"#DejaVuSans-48\"/></g></g><g clip-path=\"url(#p8c438beb6f)\"><g transform=\"translate(362.88 140.58) scale(.13 -.13)\" fill=\"#ffffff\"><use xlink:href=\"#DejaVuSans-48\"/></g></g><g clip-path=\"url(#p8c438beb6f)\"><g transform=\"translate(362.88 47.87) scale(.13 -.13)\" fill=\"#ffffff\"><use xlink:href=\"#DejaVuSans-48\"/></g></g><defs><clipPath id=\"p8c438beb6f\"><rect x=\"7.2\" y=\"7.2\" width=\"391.16\" height=\"157.6\"/></clipPath></defs></svg>"
      ],
      "text/plain": [
       "<Figure size 705.552x284.278 with 1 Axes>"
      ]
     },
     "execution_count": 2,
     "metadata": {},
     "output_type": "execute_result"
    }
   ],
   "source": [
    "qc = QuantumCircuit(3)\n",
    "qc.h(0)\n",
    "qc.h(1)\n",
    "qc.h(2)\n",
    "qc.cx(0,2)\n",
    "qc.cx(0,1)\n",
    "qc.rx(theta,0)\n",
    "qc.cx(0,1)\n",
    "qc.cx(0,2)\n",
    "qc.h(2)\n",
    "qc.h(1)\n",
    "qc.h(0)\n",
    "qc.draw()"
   ]
  },
  {
   "cell_type": "markdown",
   "metadata": {},
   "source": [
    "This gives us the ability to reproduce a small slice of our new, three-qubit $U$:\n",
    "\n",
    "$$\n",
    "e^{iaX\\otimes X\\otimes X/n}e^{ibZ\\otimes Z\\otimes Z/n} = e^{i(aX\\otimes X\\otimes X + bZ\\otimes Z\\otimes Z)/n}.\n",
    "$$\n",
    "\n",
    "As before, we can then combine the slices together to get an arbitrarily accurate approximation of $U$.\n",
    "\n",
    "This method continues to work as we increase the number of qubits, and also the number of terms that need simulating. Care must be taken to ensure that the approximation remains accurate, but this can be done in ways that require reasonable resources. Adding extra terms to simulate, or increasing the desired accuracy, only require the complexity of the method to increase polynomially.\n",
    "\n",
    "Methods of this form can reproduce any unitary $U = e^{iH}$ for which $H$ can be expressed as a sum of tensor products of Paulis. Since we have shown previously that all matrices can be expressed in this way, this is sufficient to show that we can reproduce all unitaries. Though other methods may be better in practice, the main concept to take away from this chapter is that there is certainly a way to reproduce all multi-qubit unitaries using only the basic operations found in Qiskit. Quantum universality can be achieved!\n",
    "\n",
    "This gate set is not the only one that can achieve universality. For example it can be shown that just the Hadamard and Toffoli are sufficient for universality. Multiple other gates sets have also been considered and been proven universal, each motivated by different routes toward achieving the gates fault-tolerantly.\n",
    "\n",
    "Everything we have discussed in this book follows the circuit model of computation. However, the circuit model is not the only universal model of quantum computation. Other forms of quantum computation such as adiabatic quantum computing or measurement based quantum computing exist. The fact that they are universal means that it has been proven that there is a mapping in polynomial time and resources from the circuit model to these other models of computation. These other models often leverage other quantum mechanical properties in order to perform their computation. While these other forms of quantum computation exist, it is important to note that the benefits of each concern only physical and hardware problems. Since a universal model of quantum computation can perform any quantum algorithm, we need only stick with the circuit model and can ignore other universal models for our discussion.\n",
    "\n",
    "\n",
    "There are other forms of quantum computation that are not universal, but are applicable to specific applications. For example quantum annealing may be useful for optimization and sampling problems. Annealing is the process of heating a metal to a high temperature and then allowing it to cool down slowly. This process causes molten metal to flow over the surface of the metal piece and redistribute itself; changing many properties of the metal in question. Quantum annealing is analogous to the physical process of annealing in some sense. It involves encoding problems into an energy landscape of sorts and then letting a quantum state explore the landscape. While normal waves may get trapped in troughs which are lower than their surroundings (local minima), quantum effects increase the speed at which the quantum states find the true lowest point on the landscape (global minima)."
   ]
  },
  {
   "cell_type": "code",
   "execution_count": 3,
   "metadata": {},
   "outputs": [
    {
     "data": {
      "text/html": [
       "<h3>Version Information</h3><table><tr><th>Qiskit Software</th><th>Version</th></tr><tr><td><code>qiskit-terra</code></td><td>0.21.2</td></tr><tr><td><code>qiskit-aer</code></td><td>0.10.4</td></tr><tr><td><code>qiskit-ibmq-provider</code></td><td>0.19.2</td></tr><tr><td><code>qiskit</code></td><td>0.37.2</td></tr><tr><td><code>qiskit-nature</code></td><td>0.4.1</td></tr><tr><td><code>qiskit-finance</code></td><td>0.3.2</td></tr><tr><td><code>qiskit-optimization</code></td><td>0.4.0</td></tr><tr><td><code>qiskit-machine-learning</code></td><td>0.4.0</td></tr><tr><th>System information</th></tr><tr><td>Python version</td><td>3.8.13</td></tr><tr><td>Python compiler</td><td>Clang 13.1.6 (clang-1316.0.21.2.5)</td></tr><tr><td>Python build</td><td>default, Aug 29 2022 05:17:23</td></tr><tr><td>OS</td><td>Darwin</td></tr><tr><td>CPUs</td><td>8</td></tr><tr><td>Memory (Gb)</td><td>32.0</td></tr><tr><td colspan='2'>Wed Sep 14 15:43:03 2022 BST</td></tr></table>"
      ],
      "text/plain": [
       "<IPython.core.display.HTML object>"
      ]
     },
     "metadata": {},
     "output_type": "display_data"
    }
   ],
   "source": [
    "import qiskit.tools.jupyter\n",
    "%qiskit_version_table"
   ]
  }
 ],
 "metadata": {
  "kernelspec": {
   "display_name": "Python 3",
   "language": "python",
   "name": "python3"
  },
  "language_info": {
   "codemirror_mode": {
    "name": "ipython",
    "version": 3
   },
   "file_extension": ".py",
   "mimetype": "text/x-python",
   "name": "python",
   "nbconvert_exporter": "python",
   "pygments_lexer": "ipython3",
   "version": "3.9"
  }
 },
 "nbformat": 4,
 "nbformat_minor": 4
}
