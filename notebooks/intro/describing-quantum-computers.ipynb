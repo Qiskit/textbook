{
 "cells": [
  {
   "cell_type": "markdown",
   "metadata": {
    "gloss": {
     "complex-number": {
      "text": "Complex numbers can be made from combinations of real and <a href='https://en.wikipedia.org/wiki/Imaginary_number'>imaginary numbers</a>. If you're not sure what this means, don't worry! You won't need to in this course (but you can <a href='https://en.wikipedia.org/wiki/Complex_number'>read more</a> if you're interested.",
      "title": "Complex number"
     },
     "esoteric": {
      "text": "Esoteric words are specialized words that most people won't understand. We'll try to avoid them as much as possible, but they can be useful sometimes.",
      "title": "esoteric"
     },
     "real-number": {
      "text": "A real number is a number that only has a magnitude. If you've not heard of a real number before, you can probably drop the 'real' and just call them 'numbers'. Examples of real numbers include: 112, -5.4, and π. <a href='https://en.wikipedia.org/wiki/Real_number'>Read more</a>.",
      "title": "Real number"
     }
    }
   },
   "source": [
    "# Describing quantum computers\n",
    "\n",
    "This chapter will introduce the different mathematical objects and notations that we’re going to be using to describe quantum computers. Symbols, equations and specialist vocabulary allow us to communicate and work with maths in a very concise way, they’re incredibly powerful tools, but they also come at a cost; they are difficult to understand if you don’t know what all the symbols mean, and this can alienate people. To counter this, in this textbook, equations are interactive. You can move your mouse over symbols to see what they mean. We will also slowly sprinkle in some [esoteric](gloss:esoteric) words so you can start speaking the language of mathematics and quantum computing, and you can see explanations of these words by moving your mouse over these words too.\n",
    "\n",
    "## Amplitudes\n",
    "\n",
    "A classical probability is often represented by a [real number](gloss:real-number) between 0 and 1, but amplitudes also have a direction. A natural candidate to represent an amplitude is a [complex number](gloss:complex-number), as a complex number can also be completely described by both a magnitude and a direction, but in this course we will only work with amplitudes that can point in two directions (e.g. left and right) and we won’t worry about anything else.\n",
    "\n",
    "![Image comparing amplitudes and probabilities](images/quantum-states/prob-vs-amp.svg)\n",
    "\n",
    "This makes the maths a lot simpler, as we can now describe any amplitude as a number between -1 and +1; if the number is positive, the amplitude is facing forward, and if it's negative, it's facing backwards. It turns out that this is still enough to do interesting things!\n",
    "\n",
    "<!-- ::: q-block.exercise -->\n",
    "\n",
    "### Quick quiz\n",
    "\n",
    "<!-- ::: q-quiz(goal=\"intro-describing-0\") -->\n",
    "\n",
    "<!-- ::: .question -->\n",
    "\n",
    "Which of these is a valid amplitude but _not_ a valid probability?\n",
    "\n",
    "<!-- ::: -->\n",
    "\n",
    "<!-- ::: .option(correct) -->\n",
    "\n",
    "1. $-1$\n",
    "\n",
    "<!-- ::: -->\n",
    "\n",
    "<!-- ::: .option -->\n",
    "\n",
    "2. $1/3$\n",
    "\n",
    "<!-- ::: -->\n",
    "\n",
    "<!-- ::: .option -->\n",
    "\n",
    "3. $1.01$\n",
    "\n",
    "<!-- ::: -->\n",
    "\n",
    "<!-- ::: .option -->\n",
    "\n",
    "3. $\\sqrt{-2}$\n",
    "\n",
    "<!-- ::: -->\n",
    "\n",
    "<!-- ::: -->\n",
    "\n",
    "<!-- ::: -->"
   ]
  },
  {
   "cell_type": "markdown",
   "metadata": {
    "formulas": {
     "_amp-0-0": {
      "meaning": "This is the amplitude of the two-qubit state <code>00</code>, it's equal to the square-root of a half."
     },
     "_amp-1-0": {
      "meaning": "This is the amplitude of the two-qubit state <code>01</code>, it's equal to the square-root of a half."
     },
     "_amp-2-0": {
      "meaning": "This is the amplitude of the two-qubit state <code>10</code>, it's equal to 0."
     },
     "_amp-3-0": {
      "meaning": "This is the amplitude of the two-qubit state <code>11</code>, it's equal to 0."
     },
     "def-equal": {
      "meaning": "This means we are defining the things on the left of this symbol to be equal to the things on the right of this symbol."
     },
     "x-ket": {
      "meaning": "This is a vector we have labelled '|x⟩', the '|' and '⟩' remind us this label refers to a vector.",
      "say": "ket x"
     }
    }
   },
   "source": [
    "## State vectors\n",
    "\n",
    "We saw in the last page that we can predict the behaviour of a quantum system by keeping track of the probability amplitudes for each outcome at each point in our computation. We also saw that, for n qubits, there are $2^n$ possible outcomes, and we can store these amplitudes in lists of length $2^n$ which we call vectors. Since these vectors describe the state of our qubits, we call them “state vectors”.\n",
    "\n",
    "Here is an example of a state vector for a quantum computer with two qubits:\n",
    "\n",
    "$$\\class{x-ket}{|x\\rangle} \\class{def-equal}{:=} \\begin{bmatrix}\\cssId{_amp-0-0}{\\sqrt{\\tfrac{1}{2}}} \\\\ \\cssId{_amp-1-0}{\\sqrt{\\tfrac{1}{2}}} \\\\ \\cssId{_amp-2-0}{0} \\\\ \\cssId{_amp-3-0}{0} \\end{bmatrix}$$\n",
    "\n",
    "Spend some time reading the tooltips on the equation above, then answer the questions below.\n",
    "\n",
    "<!-- ::: q-block.exercise -->\n",
    "\n",
    "### Quick quiz\n",
    "\n",
    "<!-- ::: q-quiz(goal=\"intro-describing-1\") -->\n",
    "\n",
    "<!-- ::: .question -->\n",
    "\n",
    "In the state vector above, what is the _amplitude_ of the outcome ‘01’? \n",
    "\n",
    "<!-- ::: -->\n",
    "\n",
    "<!-- ::: .option -->\n",
    "\n",
    "1. $1$\n",
    "\n",
    "<!-- ::: -->\n",
    "\n",
    "<!-- ::: .option(correct) -->\n",
    "\n",
    "2. $\\sqrt{\\tfrac{1}{2}}$\n",
    "\n",
    "<!-- ::: -->\n",
    "\n",
    "<!-- ::: .option -->\n",
    "\n",
    "3. $1/2$\n",
    "\n",
    "<!-- ::: -->\n",
    "\n",
    "<!-- ::: .option -->\n",
    "\n",
    "3. $0$\n",
    "\n",
    "<!-- ::: -->\n",
    "\n",
    "<!-- ::: -->\n",
    "\n",
    "***\n",
    "\n",
    "<!-- ::: q-quiz(goal=\"intro-describing-2\") -->\n",
    "\n",
    "<!-- ::: .question -->\n",
    "\n",
    "If the state vector above described the state of some qubits, what would be the _probability_ of measuring ‘00’?\n",
    "\n",
    "<!-- ::: -->\n",
    "\n",
    "<!-- ::: .option -->\n",
    "\n",
    "1. $1$\n",
    "\n",
    "<!-- ::: -->\n",
    "\n",
    "<!-- ::: .option -->\n",
    "\n",
    "2. $\\sqrt{\\tfrac{1}{2}}$\n",
    "\n",
    "<!-- ::: -->\n",
    "\n",
    "<!-- ::: .option(correct) -->\n",
    "\n",
    "3. $1/2$\n",
    "\n",
    "<!-- ::: -->\n",
    "\n",
    "<!-- ::: .option -->\n",
    "\n",
    "3. $0$\n",
    "\n",
    "<!-- ::: -->\n",
    "\n",
    "<!-- ::: -->\n",
    "\n",
    "<!-- ::: -->"
   ]
  },
  {
   "cell_type": "markdown",
   "metadata": {
    "formulas": {
     "_amp-0-1": {
      "meaning": "Multiplying this number by the scalar on the left of the vector gives us the amplitude of the state <code>00</code>."
     },
     "_amp-0-general": {
      "meaning": "This is the amplitude of the state <code>00</code>."
     },
     "_amp-1-1": {
      "meaning": "Multiplying this number by the scalar on the left of the vector gives us the amplitude of the state <code>01</code>."
     },
     "_amp-1-general": {
      "meaning": "This is the amplitude of the state <code>01</code>."
     },
     "_amp-2-1": {
      "meaning": "Multiplying this number by the scalar on the left of the vector gives us the amplitude of the state <code>10</code>."
     },
     "_amp-2-general": {
      "meaning": "This is the amplitude of the state <code>10</code>."
     },
     "_amp-3-1": {
      "meaning": "Multiplying this number by the scalar on the left of the vector gives us the amplitude of the state <code>11</code>."
     },
     "_amp-3-general": {
      "meaning": "This is the amplitude of the state <code>11</code>."
     },
     "_number-three": {
      "meaning": "This is just the normal number <a href='https://en.wikipedia.org/wiki/3'>three</a>. Because it's immediately next to the vector, it means we are multiplying the vector by this number.",
      "say": "Three"
     },
     "_psi-ket": {
      "meaning": "This is a vector we have labelled '|ψ⟩', the '|' and '⟩' remind us this label refers to a vector. The character 'ψ' is written 'psi' in english.",
      "say": "ket sigh (the 'p' is silent)"
     },
     "_sq-amp0": {
      "meaning": "This number is proportional to the amplitude of the state <code>0</code>."
     },
     "_sq-amp1": {
      "meaning": "This number is proportional to the amplitude of the state <code>1</code>."
     },
     "_vec-el-0": {
      "meaning": "This is the zeroth element of the vector."
     },
     "_vec-el-1": {
      "meaning": "This is the first element of the vector."
     },
     "_vec-el-2": {
      "meaning": "This is the second element of the vector."
     },
     "_vec-el-3": {
      "meaning": "This is the third element of the vector."
     },
     "_vec-el-n": {
      "meaning": "This is the (N-1)th element of the vector. Since there are N elements (and we started counting at 0), this is also the last element."
     },
     "def-00": {
      "meaning": "This is a statevector we are defining here (but is also a common convention in quantum computing) which corresponds to being in the state <code>00</code> with certainty."
     },
     "def-01": {
      "meaning": "This is a statevector we are defining here (but is also a common convention in quantum computing) which corresponds to being in the state <code>01</code> with certainty."
     },
     "def-10": {
      "meaning": "This is a statevector we are defining here (but is also a common convention in quantum computing) which corresponds to being in the state <code>10</code> with certainty."
     },
     "def-11": {
      "meaning": "This is a statevector we are defining here (but is also a common convention in quantum computing) which corresponds to being in the state <code>11</code> with certainty."
     },
     "dots": {
      "meaning": "These dots mean \"and so on\", implying a continuing pattern."
     },
     "equals": {
      "meaning": "Everything to the left of this sign is equal to everything to the right of the sign.",
      "say": "Equals"
     },
     "minus-ket": {
      "meaning": "This is a vector we have labelled '|-⟩', the '|' and '⟩' remind us this label refers to a vector.",
      "say": "ket minus"
     },
     "plus-ket": {
      "meaning": "This is a vector we have labelled '|+⟩', the '|' and '⟩' remind us this label refers to a vector.",
      "say": "ket plus"
     },
     "scalar": {
      "meaning": "This is just a normal number. Because it's immediately next to the vector, it means we are multiplying (i.e. scaling) the vector by this number."
     }
    },
    "gloss": {
     "scalar-gloss": {
      "text": "This is just a normal number, i.e. not a vector or matrix.",
      "title": "Scalar"
     }
    }
   },
   "source": [
    "## Adding and multiplying vectors\n",
    "\n",
    "If you study other areas of mathematics, you’ll find that lots of things can be considered vectors. We’ve introduced vectors as ‘lists of numbers’, because this is how we will consider them both in this textbook and in Qiskit. But what separates a vector from any old list of numbers is that mathematicians decided on some well defined rules for adding two vectors, and for multiplying vectors by [scalars](gloss:scalar-gloss).\n",
    "\n",
    "### Multiplying vectors by scalars\n",
    "\n",
    "For example, here is a vector multiplied by a scalar:\n",
    "\n",
    "$$\n",
    "\\cssId{_number-three}{3}\n",
    "\\begin{bmatrix}\n",
    "\\class{_vec-el-0}{1} \\\\\n",
    "\\class{_vec-el-1}{2} \\\\\n",
    "\\class{_vec-el-2}{-1} \\\\\n",
    "\\class{_vec-el-3}{\\tfrac{1}{2}} \\\\\n",
    "\\end{bmatrix}\n",
    "\\class{equals}{=}\n",
    "\\begin{bmatrix}\n",
    "\\class{_vec-el-0}{3} \\\\\n",
    "\\class{_vec-el-1}{6} \\\\\n",
    "\\class{_vec-el-2}{-3} \\\\\n",
    "\\class{_vec-el-3}{\\tfrac{3}{2}} \\\\\n",
    "\\end{bmatrix}\n",
    "$$\n",
    "\n",
    "We can see that each element of the vector has been multiplied by 3. The more general rule for a vector with $N$ elements is:\n",
    "\n",
    "$$\n",
    "\\class{scalar}{s}\n",
    "\\begin{bmatrix}\n",
    "\\class{_vec-el-0}{e_0} \\\\\n",
    "\\class{_vec-el-1}{e_1} \\\\\n",
    "\\class{_vec-el-2}{e_2} \\\\\n",
    "\\class{dots}{\\vdots} \\\\\n",
    "\\class{_vec-el-n}{e_{N-1}} \\\\\n",
    "\\end{bmatrix}\n",
    "\\class{equals}{=}\n",
    "\\begin{bmatrix}\n",
    "\\class{_vec-el-0}{s\\times e_0} \\\\\n",
    "\\class{_vec-el-1}{s\\times e_1} \\\\\n",
    "\\class{_vec-el-2}{s\\times e_2} \\\\\n",
    "\\class{dots}{\\vdots} \\\\\n",
    "\\class{_vec-el-n}{s\\times e_{N-1}} \\\\\n",
    "\\end{bmatrix}\n",
    "$$\n",
    "\n",
    "So we could have written the state vector $|x\\rangle$ we defined above more neatly like this:\n",
    "\n",
    "$$\n",
    "\\class{x-ket}{|x\\rangle} = \\class{scalar}{\\sqrt{\\tfrac{1}{2}}} \\begin{bmatrix}\n",
    "\\cssId{_amp-0-1}{1} \\\\\n",
    "\\cssId{_amp-1-1}{1} \\\\\n",
    "\\cssId{_amp-2-1}{0} \\\\\n",
    "\\cssId{_amp-3-1}{0} \\\\\n",
    "\\end{bmatrix}\n",
    "$$\n",
    "\n",
    "### Adding two vectors\n",
    "\n",
    "The second rule is for adding two vectors together. This is only defined when the two vectors have the same number of elements, and gives a new vector with the same number of elements. Here is the general rule:\n",
    "\n",
    "$$\n",
    "\\begin{bmatrix}\n",
    "\\class{_vec-el-0}{a_0} \\\\\n",
    "\\class{_vec-el-1}{a_1} \\\\\n",
    "\\class{_vec-el-2}{a_2} \\\\\n",
    "\\class{_vec-el-3}{a_3} \\\\\n",
    "\\class{dots}{\\vdots} \\\\\n",
    "\\class{_vec-el-n}{a_{N-1}} \\\\\n",
    "\\end{bmatrix}\n",
    "+\n",
    "\\begin{bmatrix}\n",
    "\\class{_vec-el-0}{b_0} \\\\\n",
    "\\class{_vec-el-1}{b_1} \\\\\n",
    "\\class{_vec-el-2}{b_2} \\\\\n",
    "\\class{_vec-el-3}{b_3} \\\\\n",
    "\\class{dots}{\\vdots} \\\\\n",
    "\\class{_vec-el-n}{b_{N-1}} \\\\\n",
    "\\end{bmatrix}\n",
    "\\class{equals}{=}\n",
    "\\begin{bmatrix}\n",
    "\\class{_vec-el-0}{a_0 + b_0} \\\\\n",
    "\\class{_vec-el-1}{a_1 + b_1} \\\\\n",
    "\\class{_vec-el-2}{a_2 + b_2} \\\\\n",
    "\\class{_vec-el-3}{a_3 + b_3} \\\\\n",
    "\\class{dots}{\\vdots} \\\\\n",
    "\\class{_vec-el-n}{a_{N-1} + b_{N-1}} \\\\\n",
    "\\end{bmatrix}\n",
    "$$\n",
    "\n",
    "This means we can add and subtract vectors to make new vectors. For example, if we define the the vectors $|00\\rangle$ and $|01\\rangle$ like so:\n",
    "\n",
    "\n",
    "$$\n",
    "\\class{def-00}{|00\\rangle} \\class{def-equal}{:=}\n",
    "              \\begin{bmatrix} \\class{_amp-0-general}{1} \\\\\n",
    "                              \\class{_amp-1-general}{0} \\\\ \n",
    "                              \\class{_amp-2-general}{0} \\\\ \n",
    "                              \\class{_amp-3-general}{0}\n",
    "              \\end{bmatrix},\n",
    "\\quad\n",
    "\\class{def-01}{|01\\rangle} \\class{def-equal}{:=}\n",
    "              \\begin{bmatrix} \\class{_amp-0-general}{0} \\\\\n",
    "                              \\class{_amp-1-general}{1} \\\\ \n",
    "                              \\class{_amp-2-general}{0} \\\\\n",
    "                              \\class{_amp-3-general}{0}\n",
    "              \\end{bmatrix}\n",
    "$$\n",
    "\n",
    "We can write $\\class{x-ket}{|x\\rangle}$ in the form:\n",
    "\n",
    "$$\\class{x-ket}{|x\\rangle} = \\sqrt{\\tfrac{1}{2}}(\\class{def-00}{|00\\rangle} + \\class{def-01}{|01\\rangle})$$\n",
    "\n",
    "We call adding quantum states like this “superposing” them, so we can say “$|x\\rangle$ is a superposition of the states $|00\\rangle$ and $|01\\rangle$.” In fact, it’s convention in quantum computing to define the computational basis states like so:\n",
    "\n",
    "$$\n",
    "\\class{def-00}{|00\\rangle} \\class{def-equal}{:=}\n",
    "              \\begin{bmatrix} \\class{_amp-0-general}{1} \\\\\n",
    "                              \\class{_amp-1-general}{0} \\\\ \n",
    "                              \\class{_amp-2-general}{0} \\\\ \n",
    "                              \\class{_amp-3-general}{0}\n",
    "              \\end{bmatrix},\n",
    "\\quad\n",
    "\\class{def-01}{|01\\rangle} \\class{def-equal}{:=}\n",
    "              \\begin{bmatrix} \\class{_amp-0-general}{0} \\\\\n",
    "                              \\class{_amp-1-general}{1} \\\\ \n",
    "                              \\class{_amp-2-general}{0} \\\\\n",
    "                              \\class{_amp-3-general}{0}\n",
    "              \\end{bmatrix},\n",
    "\\quad\n",
    "\\class{def-10}{|10\\rangle} \\class{def-equal}{:=}\n",
    "              \\begin{bmatrix} \\class{_amp-0-general}{0} \\\\ \n",
    "                              \\class{_amp-1-general}{0} \\\\ \n",
    "                              \\class{_amp-2-general}{1} \\\\ \n",
    "                              \\class{_amp-3-general}{0} \n",
    "              \\end{bmatrix},\n",
    "\\quad\n",
    "\\class{def-11}{|11\\rangle} \\class{def-equal}{:=} \n",
    "              \\begin{bmatrix} \\class{_amp-0-general}{0} \\\\ \n",
    "                              \\class{_amp-1-general}{0} \\\\ \n",
    "                              \\class{_amp-2-general}{0} \\\\ \n",
    "                              \\class{_amp-3-general}{1}\n",
    "              \\end{bmatrix}\n",
    "$$\n",
    "\n",
    "And we can write any quantum state as a superposition of these state vectors, if we multiply each vector by the correct number and add them together:\n",
    "\n",
    "$$\n",
    "\\cssId{_psi-ket}{|\\psi\\rangle} = \n",
    "    \\class{_amp-0-general}{a_{00}}\\class{def-00}{|00\\rangle}\n",
    "  + \\class{_amp-1-general}{a_{01}}\\class{def-01}{|01\\rangle}\n",
    "  + \\class{_amp-2-general}{a_{10}}\\class{def-10}{|10\\rangle}\n",
    "  + \\class{_amp-3-general}{a_{11}}\\class{def-11}{|11\\rangle} \\class{equals}{=}\n",
    "\\begin{bmatrix}\n",
    "\\class{_amp-0-general}{a_{00}} \\\\\n",
    "\\class{_amp-1-general}{a_{01}} \\\\\n",
    "\\class{_amp-2-general}{a_{10}} \\\\\n",
    "\\class{_amp-3-general}{a_{11}} \\\\\n",
    "\\end{bmatrix}\n",
    "$$\n",
    "\n",
    "Since we can write any vector as a combination of these four vectors, we say these four vectors form a basis, which we will call the _computational basis_. The computational basis is not the only basis. For single qubits, a popular basis is formed by the vectors $\\class{plus-ket}{|{+}\\rangle}$ and $\\class{minus-ket}{|{-}\\rangle}$:\n",
    "\n",
    "<!-- ::: column -->\n",
    "\n",
    "![image showing both the |0>, |1> basis and the |+>, |-> basis on the same plane](images/quantum-states/basis.svg)\n",
    "\n",
    "<!-- ::: column -->\n",
    "\n",
    "$$\n",
    "\\class{plus-ket}{|{+}\\rangle} =\n",
    "\\sqrt{\\tfrac{1}{2}}\n",
    "\\begin{bmatrix}\n",
    "    \\class{_sq-amp0}{1} \\\\\n",
    "    \\class{_sq-amp1}{1}\n",
    "\\end{bmatrix}\n",
    "$$\n",
    "$$\n",
    "\\class{minus-ket}{|{-}\\rangle} =\n",
    "\\sqrt{\\tfrac{1}{2}}\n",
    "\\begin{bmatrix}\n",
    "    \\class{_sq-amp0}{1} \\\\\n",
    "    \\class{_sq-amp1}{-1}\n",
    "\\end{bmatrix}\n",
    "$$\n",
    "\n",
    "<!-- ::: -->\n",
    "\n",
    "<!-- ::: q-block.exercise -->\n",
    "\n",
    "### Try it\n",
    "\n",
    "Find values for $\\alpha$, $\\beta$, $\\gamma$ and $\\delta$ such that these equations are true:\n",
    "\n",
    "- $\\alpha|{+}\\rangle + \\beta|{-}\\rangle = |0\\rangle$\n",
    "- $\\gamma|{+}\\rangle + \\delta|{-}\\rangle = |1\\rangle$\n",
    "\n",
    "<!-- ::: -->"
   ]
  },
  {
   "cell_type": "markdown",
   "metadata": {
    "formulas": {
     "_amp-i": {
      "meaning": "'a<sub>i</sub>' is the amplitude of the state |i⟩, where |i⟩ is one of the computational basis states."
     },
     "sum": {
      "meaning": "This means we add up the things on the right with different values of i, starting at i=0.",
      "say": "'sum' or 'summation'. The character 'Σ' is capital <a href='https://en.wikipedia.org/wiki/Sigma'>sigma</a>."
     }
    },
    "gloss": {
     "matrix": {
      "text": "Matrices are tables of numbers. They also come with some rules for adding and multiplying like vectors did. <a href='https://en.wikipedia.org/wiki/Matrix_(mathematics)'>Read more</a>.",
      "title": "Matrix"
     }
    }
   },
   "source": [
    "## How many different state vectors are there?\n",
    "\n",
    "We know that we can represent any quantum state using vectors, but is any vector a valid quantum state? In our case, no; since we square our amplitudes to find the probability of outcomes occurring, we need these squares to add to one, otherwise it doesn't make sense.\n",
    "\n",
    "$$\n",
    "\\cssId{sum}{\\sum^{N-1}_{i=0}} \\cssId{_amp-i}{a_i}^2 = 1\n",
    "$$\n",
    "\n",
    "<!-- ::: q-block.exercise -->\n",
    "\n",
    "### Quick quiz\n",
    "\n",
    "<!-- ::: q-quiz(goal=\"quiz2\") -->\n",
    "\n",
    "<!-- ::: .question -->\n",
    "\n",
    "Which of these is a valid quantum state? (Try adding up the squared amplitudes.)\n",
    "\n",
    "<!-- ::: -->\n",
    "\n",
    "<!-- ::: .option(correct) -->\n",
    "\n",
    "1. $\\sqrt{\\tfrac{1}{3}}\\begin{bmatrix} 1 \\\\\\\\ -1 \\\\\\\\ 1 \\\\\\\\ 0 \\end{bmatrix}$\n",
    "\n",
    "<!-- ::: -->\n",
    "\n",
    "<!-- ::: .option -->\n",
    "\n",
    "2. $\\sqrt{\\tfrac{1}{2}}\\begin{bmatrix} 1 \\\\\\\\ -1 \\\\\\\\ -1 \\\\\\\\ 1 \\end{bmatrix}$\n",
    "\n",
    "<!-- ::: -->\n",
    "\n",
    "<!-- ::: .option -->\n",
    "\n",
    "3. $\\tfrac{1}{2}\\begin{bmatrix} 1 \\\\\\\\ 1 \\end{bmatrix}$\n",
    "\n",
    "<!-- ::: -->\n",
    "\n",
    "<!-- ::: -->\n",
    "\n",
    "<!-- ::: -->\n",
    "\n",
    "Another factor is something we call \"global phases\" of state vector. Since we only know phase exists because of the interference effects it produces, we can only ever measure phase _differences_. If we rotated all the amplitudes in a state vector by the same amount, we'd still see the exact same behaviour.\n",
    "\n",
    "<!-- ::: column -->\n",
    "\n",
    "![image showing interference effects with different starting phases](images/quantum-states/global-phase-L.svg)\n",
    "\n",
    "<!-- ::: column -->\n",
    "\n",
    "![image showing interference effects with different starting phases](images/quantum-states/global-phase-R.svg)\n",
    "\n",
    "<!-- ::: -->\n",
    "\n",
    "\n",
    "For example, there is no experiment we could perform that would be able to distinguish between these two states:\n",
    "\n",
    "<!-- ::: column -->\n",
    "\n",
    "$$\n",
    "|a\\rangle = \\sqrt{\\tfrac{1}{2}}\\begin{bmatrix} 1 \\\\ 0 \\\\ 0 \\\\ 1 \\end{bmatrix}\n",
    "$$\n",
    "\n",
    "<!-- ::: column -->\n",
    "\n",
    "$$\n",
    "-|a\\rangle = \\sqrt{\\tfrac{1}{2}}\\begin{bmatrix} -1 \\\\ 0 \\\\ 0 \\\\ -1 \\end{bmatrix}\n",
    "$$\n",
    "\n",
    "<!-- ::: -->\n",
    "\n",
    "Because the differences between each of the amplitudes is the same. You could say these two vectors are different _mathematically_, but the same _physically_.\n",
    "\n",
    "## Quantum operations\n",
    "\n",
    "So now we know all about the different states our qubits can be in, it’s time to look at how we represent the operations that transform one state to another. \n",
    "\n",
    "In the same way there is a transition probability that a certain action will transform a coin from heads to tails, there is a transition amplitude for each starting state and end state of our qubits. We can describe any quantum operations through these transition amplitudes.\n",
    "\n",
    "![Image showing two state vectors before and after an operation](images/quantum-states/quantum-operation.svg)\n",
    "\n",
    "So, what possible transformations are there? Say we have a starting state $|a\\rangle$ that’s transformed to a new state $|b\\rangle$. If we want our representation to cover every possible transformation, then each amplitude in $|a\\rangle$ must have a transition amplitude to each amplitude in $|b\\rangle$.\n",
    "\n",
    "<!-- ::: q-block.exercise -->\n",
    "\n",
    "### Quick quiz\n",
    "\n",
    "<!-- ::: q-quiz(goal=\"intro-describing-3\") -->\n",
    "\n",
    "<!-- ::: .question -->\n",
    "\n",
    "An $n$-qubit state vector can contain up to $2^n$ amplitudes. What’s the largest number of transition amplitudes we’d need to represent any quantum operation on $n$ qubits?\n",
    "\n",
    "<!-- ::: -->\n",
    "\n",
    "<!-- ::: .option -->\n",
    "\n",
    "1. $2\\cdot 2^n$\n",
    "\n",
    "<!-- ::: -->\n",
    "\n",
    "<!-- ::: .option(correct) -->\n",
    "\n",
    "2. $(2^n)^2$\n",
    "\n",
    "<!-- ::: -->\n",
    "\n",
    "<!-- ::: .option -->\n",
    "\n",
    "3. $2n$\n",
    "\n",
    "<!-- ::: -->\n",
    "\n",
    "<!-- ::: .option -->\n",
    "\n",
    "3. $2^{2^n}$\n",
    "\n",
    "<!-- ::: -->\n",
    "\n",
    "<!-- ::: -->\n",
    "\n",
    "<!-- ::: -->\n",
    "\n",
    "Drawing lines like this is a bit of a messy way of doing it, so instead we can put all these numbers into a [matrix](gloss:matrix):"
   ]
  },
  {
   "cell_type": "markdown",
   "metadata": {
    "formulas": {
     "_cnot-gate": {
      "meaning": "This is the label we have given the matrix that represents the CNOT gate."
     },
     "_t_amp_00_00": {
      "meaning": "This is the amplitude of this operation transforming the state <code>00</code> to <code>00</code>."
     },
     "_t_amp_00_01": {
      "meaning": "This is the amplitude of this operation transforming the state <code>00</code> to <code>01</code>."
     },
     "_t_amp_00_10": {
      "meaning": "This is the amplitude of this operation transforming the state <code>00</code> to <code>10</code>."
     },
     "_t_amp_00_11": {
      "meaning": "This is the amplitude of this operation transforming the state <code>00</code> to <code>11</code>."
     },
     "_t_amp_01_00": {
      "meaning": "This is the amplitude of this operation transforming the state <code>01</code> to <code>00</code>."
     },
     "_t_amp_01_01": {
      "meaning": "This is the amplitude of this operation transforming the state <code>01</code> to <code>01</code>."
     },
     "_t_amp_01_10": {
      "meaning": "This is the amplitude of this operation transforming the state <code>01</code> to <code>10</code>."
     },
     "_t_amp_01_11": {
      "meaning": "This is the amplitude of this operation transforming the state <code>01</code> to <code>11</code>."
     },
     "_t_amp_0_0": {
      "meaning": "This is proportional to the transition amplitude of this operation transforming the state <code>0</code> to <code>0</code>."
     },
     "_t_amp_0_1": {
      "meaning": "This is proportional to the transition amplitude of this operation transforming the state <code>0</code> to <code>1</code>."
     },
     "_t_amp_10_00": {
      "meaning": "This is the amplitude of this operation transforming the state <code>10</code> to <code>00</code>."
     },
     "_t_amp_10_01": {
      "meaning": "This is the amplitude of this operation transforming the state <code>10</code> to <code>01</code>."
     },
     "_t_amp_10_10": {
      "meaning": "This is the amplitude of this operation transforming the state <code>10</code> to <code>10</code>."
     },
     "_t_amp_10_11": {
      "meaning": "This is the amplitude of this operation transforming the state <code>10</code> to <code>11</code>."
     },
     "_t_amp_11_00": {
      "meaning": "This is the amplitude of this operation transforming the state <code>11</code> to <code>00</code>."
     },
     "_t_amp_11_01": {
      "meaning": "This is the amplitude of this operation transforming the state <code>11</code> to <code>01</code>."
     },
     "_t_amp_11_10": {
      "meaning": "This is the amplitude of this operation transforming the state <code>11</code> to <code>10</code>."
     },
     "_t_amp_11_11": {
      "meaning": "This is the amplitude of this operation transforming the state <code>11</code> to <code>11</code>."
     },
     "_t_amp_1_0": {
      "meaning": "This is proportional to the transition amplitude of this operation transforming the state <code>1</code> to <code>0</code>."
     },
     "_t_amp_1_1": {
      "meaning": "This is proportional to the transition amplitude of this operation transforming the state <code>1</code> to <code>1</code>."
     },
     "dot": {
      "meaning": "This dot is a shorthand for multiplication."
     },
     "u-gate": {
      "meaning": "'U' is generally used to represent quantum gates, especially if the gate doesn't have a more specific name. It stands for 'unitary' which is something we'll learn about further down on this page."
     }
    },
    "gloss": {
     "cnot": {
      "text": "The CNOT gate toggles the state of a 'target' qubit if the state of a 'control' qubit is 1.",
      "title": "CNOT"
     }
    }
   },
   "source": [
    "$$\n",
    "\\cssId{u-gate}{U} = \n",
    "\\begin{bmatrix}\n",
    "\\class{_t_amp_00_00}{t_{00\\to 00}} & \\class{_t_amp_01_00}{t_{01\\to 00}} & \\class{_t_amp_10_00}{t_{10\\to 00}} & \\class{_t_amp_11_00}{t_{11\\to 00}} \\\\\n",
    "\\class{_t_amp_00_01}{t_{00\\to 01}} & \\class{_t_amp_01_01}{t_{01\\to 01}} & \\class{_t_amp_10_01}{t_{10\\to 01}} & \\class{_t_amp_11_01}{t_{11\\to 01}} \\\\\n",
    "\\class{_t_amp_00_10}{t_{00\\to 10}} & \\class{_t_amp_01_10}{t_{01\\to 10}} & \\class{_t_amp_10_10}{t_{10\\to 10}} & \\class{_t_amp_11_10}{t_{11\\to 10}} \\\\\n",
    "\\class{_t_amp_00_11}{t_{00\\to 11}} & \\class{_t_amp_01_11}{t_{01\\to 11}} & \\class{_t_amp_10_11}{t_{10\\to 11}} & \\class{_t_amp_11_11}{t_{11\\to 11}} \\\\\n",
    "\\end{bmatrix}\n",
    "$$\n",
    "\n",
    "For example, here is the matrix that represents the CNOT operation we saw in the atoms of computation:\n",
    "\n",
    "$$\n",
    "\\cssId{_cnot-gate}{\\text{CNOT}} =\n",
    "\\begin{bmatrix}\n",
    "\\class{_t_amp_00_00}{1} & \\class{_t_amp_01_00}{0} & \\class{_t_amp_10_00}{0} & \\class{_t_amp_11_00}{0} \\\\\n",
    "\\class{_t_amp_00_01}{0} & \\class{_t_amp_01_01}{0} & \\class{_t_amp_10_01}{0} & \\class{_t_amp_11_01}{1} \\\\\n",
    "\\class{_t_amp_00_10}{0} & \\class{_t_amp_01_10}{0} & \\class{_t_amp_10_10}{1} & \\class{_t_amp_11_10}{0} \\\\\n",
    "\\class{_t_amp_00_11}{0} & \\class{_t_amp_01_11}{1} & \\class{_t_amp_10_11}{0} & \\class{_t_amp_11_11}{0} \\\\\n",
    "\\end{bmatrix}\n",
    "$$\n",
    "\n",
    "<!-- ::: q-block.exercise -->\n",
    "\n",
    "### Quick quiz\n",
    "\n",
    "<!-- ::: q-quiz(goal=\"intro-maths-0\") -->\n",
    "\n",
    "<!-- ::: .question -->\n",
    "\n",
    "What is the transition amplitude of the CNOT operation (as shown above) transforming the state $|10\\rangle$ to $|01\\rangle$?\n",
    "\n",
    "<!-- ::: -->\n",
    "\n",
    "<!-- ::: .option -->\n",
    "\n",
    "1. $1$\n",
    "\n",
    "<!-- ::: -->\n",
    "\n",
    "<!-- ::: .option(correct) -->\n",
    "\n",
    "2. $0$\n",
    "\n",
    "<!-- ::: -->\n",
    "\n",
    "<!-- ::: .option -->\n",
    "\n",
    "3. $\\begin{bmatrix} 1 & 0 & 0 & 0\\end{bmatrix}$\n",
    "\n",
    "<!-- ::: -->\n",
    "\n",
    "<!-- ::: .option -->\n",
    "\n",
    "3. $\\begin{bmatrix} 0 \\\\\\\\ 0 \\\\\\\\ 1 \\\\\\\\ 0\\end{bmatrix}$\n",
    "\n",
    "<!-- ::: -->\n",
    "\n",
    "<!-- ::: -->\n",
    "\n",
    "<!-- ::: -->\n",
    "\n",
    "And here is the matrix for the H-gate we saw in the previous page:\n",
    "\n",
    "$$\n",
    "H = \\sqrt{\\tfrac{1}{2}}\n",
    "\\begin{bmatrix}\n",
    "\\class{_t_amp_0_0}{1} & \\class{_t_amp_1_0}{1} \\\\\n",
    "\\class{_t_amp_0_1}{1} & \\class{_t_amp_1_1}{-1} \\\\\n",
    "\\end{bmatrix}\n",
    "$$\n",
    "\n",
    "(we use the same rule for multiplying a matrix by a scalar as we do with vectors). And when we want to see what effect an operation will have on some qubits, we multiply each transition amplitude by the amplitude of each state in our input state vector, and then add up the amplitudes for each state to get our output state vector. This is exactly the same as multiplying along each branch in a probability (or amplitude) tree and adding up the total probabilities (or amplitudes) at the end.\n",
    "\n",
    "For any mathematicians in the audience, this is just standard matrix multiplication.\n",
    "\n",
    "$$\n",
    "H|0\\rangle = \\sqrt{\\tfrac{1}{2}}\n",
    "\\begin{bmatrix}\n",
    "\\class{_t_amp_0_0}{1} & \\class{_t_amp_1_0}{ 1} \\\\\n",
    "\\class{_t_amp_0_1}{1} & \\class{_t_amp_1_1}{-1} \\\\\n",
    "\\end{bmatrix}\n",
    "\\begin{bmatrix}\n",
    "\\class{_sq-amp0}{1} \\\\\n",
    "\\class{_sq-amp1}{0} \\\\\n",
    "\\end{bmatrix}\n",
    "= \\sqrt{\\tfrac{1}{2}}\n",
    "\\begin{bmatrix}\n",
    "(1 \\class{dot}{\\cdot} 1) & + &  (1 \\class{dot}{\\cdot} 0) \\\\\n",
    "(1 \\class{dot}{\\cdot} 1) & + & (-1 \\class{dot}{\\cdot} 0) \\\\\n",
    "\\end{bmatrix}\n",
    "= \\sqrt{\\tfrac{1}{2}}\n",
    "\\begin{bmatrix}\n",
    "\\class{_sq-amp0}{1} \\\\\n",
    "\\class{_sq-amp1}{1} \\\\\n",
    "\\end{bmatrix}\n",
    "$$\n",
    "\n",
    "![image showing how the H-gate transforms the state |0> into the state |+>](images/quantum-states/h-gate.svg)"
   ]
  },
  {
   "cell_type": "markdown",
   "metadata": {},
   "source": [
    "## Rules of quantum operations\n",
    "\n",
    "In the same way that not every vector is a valid state vector, not every matrix is a valid quantum operation. If a matrix is to make sense as a real operation, it needs to keep the total probability of the output states equal to 1. So for example, this couldn’t be a real operation:\n",
    "\n",
    "$$\n",
    "\\begin{bmatrix}\n",
    "\\class{_t_amp_0_0}{1} & \\class{_t_amp_1_0}{0} \\\\\n",
    "\\class{_t_amp_0_1}{1} & \\class{_t_amp_1_1}{0} \\\\\n",
    "\\end{bmatrix}\n",
    "$$\n",
    "\n",
    "Because if it acts on the state $|0\\rangle$ we get:\n",
    "\n",
    "$$\n",
    "\\begin{bmatrix}\n",
    "\\class{_t_amp_0_0}{1} & \\class{_t_amp_1_0}{0} \\\\\n",
    "\\class{_t_amp_0_1}{1} & \\class{_t_amp_1_1}{0} \\\\\n",
    "\\end{bmatrix}\\begin{bmatrix} 1 \\\\ 0 \\end{bmatrix}\n",
    "=\n",
    "\\begin{bmatrix} \\class{_sq-amp0}{1} \\\\ \\class{_sq-amp1}{1} \\end{bmatrix}\n",
    "$$\n",
    "\n",
    "and the total probabilities add to two, which doesn't make any sense. Alternatively, if it acted on the state $|1\\rangle$, then the total probabilities would add up to zero, which also doesn't make sense. To preserve the total probability in all cases, our operations need to be reversible. This means we can perform our quantum gates backwards to 'undo' them (remembering to reverse any rotations) and be left with the state we started with. We say matrices with this property are _unitary_. You will often see quantum gates referred to as 'unitaries' or 'unitary gates'."
   ]
  }
 ],
 "metadata": {
  "kernelspec": {
   "display_name": "Python 3",
   "language": "python",
   "name": "python3"
  },
  "language_info": {
   "codemirror_mode": {
    "name": "ipython",
    "version": 3
   },
   "file_extension": ".py",
   "mimetype": "text/x-python",
   "name": "python",
   "nbconvert_exporter": "python",
   "pygments_lexer": "ipython3",
   "version": "3.9"
  }
 },
 "nbformat": 4,
 "nbformat_minor": 4
}
