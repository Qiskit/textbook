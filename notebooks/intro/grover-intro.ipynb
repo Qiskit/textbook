{
 "cells": [
  {
   "cell_type": "markdown",
   "metadata": {
    "slideshow": {
     "slide_type": "-"
    }
   },
   "source": [
    "# Grover's search algorithm"
   ]
  },
  {
   "cell_type": "markdown",
   "metadata": {},
   "source": [
    "## Search problems\n",
    "\n",
    "A lot of the problems that computers solve are types of _search problems_. You’ve probably already searched the web using a search engine, which is a program that builds a database from websites and allows you to search through it. We can think of a database as a program that takes an address as input, and outputs the data at that address. A phone book is one example of a database; each entry in the book contains a name and number. For example, we might ask the database to give us the data in at the 3441<sup>st</sup> address, and it will return the 3441<sup>st</sup> name and number in the book.\n",
    "\n",
    "![Information flow in a black box database.](images/grover/database-phonebook.svg)\n",
    "\n",
    "<!-- vale QiskitTextbook.SentenceLengthWarning = NO -->\n",
    "\n",
    "We call this process of providing an input and reading the output \"querying the database\". Often in computer science, we consider databases to be black boxes, which means we're not allowed to see how they work; we’ll just assume they're magical processes that do exactly as they promise. We call magical processes like these \"oracles\".\n",
    "\n",
    "<!-- vale QiskitTextbook.SentenceLengthWarning = YES -->\n",
    "\n",
    "If we have someone's name and we’re trying to find their phone number, this is easy if the book is sorted alphabetically by name. We can use an algorithm called _binary search_.\n",
    "\n",
    "<!-- ::: q-block -->\n",
    "\n",
    "### Example: Binary search\n",
    "\n",
    "<!-- ::: q-carousel -->\n",
    "\n",
    "<!-- ::: div -->\n",
    "\n",
    "![Example of a database](images/grover/carousel/0/0.svg)\n",
    "\n",
    "Binary search is a very efficient classical algorithm for searching sorted databases. You’ve probably used something similar when searching for a specific page in a book (or even using a physical phone book). Let’s say we want to find Evelina's phone number.\n",
    "\n",
    "<!-- ::: -->\n",
    "\n",
    "<!-- ::: div -->\n",
    "\n",
    "![Example of the first step of a binary search algorithm, the computer has selected the middle entry](images/grover/carousel/0/1.svg)\n",
    "\n",
    "First, we check the middle item in the database and see if it’s higher or lower than the item we’re searching for.\n",
    "\n",
    "<!-- ::: -->\n",
    "\n",
    "<!-- ::: div -->\n",
    "\n",
    "![Second step of a binary search algorithm](images/grover/carousel/0/2.svg)\n",
    "\n",
    "In this case “H” comes after “E”. Since the list is sorted we know that the address of the entry we’re looking for has to be lower than 7. We can ignore any addresses larger than 6 and repeat this algorithm on the reduced list.\n",
    "\n",
    "<!-- ::: -->\n",
    "\n",
    "<!-- ::: div -->\n",
    "\n",
    "![Third step of a binary search algorithm](images/grover/carousel/0/3.svg)\n",
    "\n",
    "This time, the middle entry’s name begins with “D”, which comes before “E”. Now we know our entry must have address higher than 3.\n",
    "\n",
    "<!-- ::: -->\n",
    "\n",
    "<!-- ::: div -->\n",
    "\n",
    "![Fourth step of a binary search algorithm](images/grover/carousel/0/4.svg)\n",
    "\n",
    "Each step halves the size of list we’re working on, so the search space _shrinks_ exponentially.\n",
    "\n",
    "<!-- ::: -->\n",
    "\n",
    "<!-- ::: div -->\n",
    "\n",
    "![Fifth step of a binary search algorithm](images/grover/carousel/0/5.svg)\n",
    "\n",
    "Which means that even with very large databases, we can find entries quickly.\n",
    "\n",
    "<!-- ::: -->\n",
    "\n",
    "<!-- ::: -->\n",
    "\n",
    "<!-- ::: -->\n",
    "\n",
    "\n",
    "<!-- ::: q-block.exercise -->\n",
    "\n",
    "### Quick quiz\n",
    "\n",
    "<!-- ::: q-quiz(goal=\"intro-grover-0\") -->\n",
    "\n",
    "The maximum number of database queries needed grows logarithmically (base 2) with the number of entries in the database.\n",
    "\n",
    "<!-- ::: .question -->\n",
    "\n",
    "Using binary search, what's the largest number of queries we'd need to search a sorted database with 1024 entries?\n",
    "\n",
    "<!-- ::: -->\n",
    "\n",
    "<!-- ::: .option(correct) -->\n",
    "\n",
    "1. 10\n",
    "\n",
    "<!-- ::: -->\n",
    "\n",
    "<!-- ::: .option -->\n",
    "\n",
    "2. 1\n",
    "\n",
    "<!-- ::: -->\n",
    "\n",
    "<!-- ::: .option -->\n",
    "\n",
    "3. 100 \n",
    "\n",
    "<!-- ::: -->\n",
    "\n",
    "<!-- ::: -->\n",
    "\n",
    "*Hint: how many times do you need to halve the database to be left with only one item?*\n",
    "\n",
    "<!-- ::: -->"
   ]
  },
  {
   "cell_type": "markdown",
   "metadata": {
    "gloss": {
     "index": {
      "text": "To make searching easier, we could have two copies of the phone book: One sorted by name and the other sorted by number. This will obviously take a while to create and will take up more space on the disk, but it could be worth it if we’re searching it a lot.",
      "title": "Index (databases)"
     },
     "logarithm": {
      "text": "This is the inverse of exponential. This grows very slowly, so logarithmic algorithms are generally considered very efficient.",
      "title": "Logarithmic"
     },
     "quadratic": {
      "text": "'Quadratic' is anything to do with squares (i.e., multiplying a number by itself).",
      "title": "Quadratic"
     }
    }
   },
   "source": [
    "Since binary search grows [logarithmically](gloss:logarithm) with the size of the database, there isn’t much room for improvement from a quantum computer. But we don’t always have the convenience of searching sorted lists. What if we were instead given a phone number, and we wanted to find the name associated with that number?\n",
    "\n",
    "This is a lot more difficult, as phone books aren't usually sorted by number. If we assume the phone numbers are ordered randomly in the list, there’s no way of homing in on our target as we did last time. The best we can do with a classical computer is randomly pick an input address, see if it contains the phone number we’re looking for, and repeat until we happen upon the correct entry. For this reason, a lot of work goes into [indexing](gloss:index) databases to improve search times.\n",
    "\n",
    "When the database is completely disordered like this, we say it's _unstructured_. And the quantum algorithm we'll learn about on this page is an algorithm for unstructured search.\n",
    "\n",
    "\n",
    "\n",
    "<!-- ::: q-block.exercise -->\n",
    "\n",
    "### Unstructured search\n",
    "\n",
    "<!-- ::: q-quiz(goal=\"intro-grover-1\") -->\n",
    "\n",
    "<!-- ::: .question -->\n",
    "\n",
    "If we search an unstructured database by randomly choosing inputs, how many inputs would we need to check on average before we find the entry we're looking for?\n",
    "\n",
    "<!-- ::: -->\n",
    "\n",
    "<!-- ::: .option(correct) -->\n",
    "\n",
    "1. Half the possible inputs.\n",
    "\n",
    "<!-- ::: -->\n",
    "\n",
    "<!-- ::: .option -->\n",
    "\n",
    "2. All the possible inputs.\n",
    "\n",
    "<!-- ::: -->\n",
    "\n",
    "<!-- ::: .option -->\n",
    "\n",
    "3. Three-quarters of the possible inputs.\n",
    "\n",
    "<!-- ::: -->\n",
    "\n",
    "<!-- ::: -->\n",
    "\n",
    "***\n",
    "\n",
    "<!-- ::: q-quiz(goal=\"intro-grover-2\") -->\n",
    "\n",
    "<!-- ::: .question -->\n",
    "\n",
    "Using random guessing, how does the average number of database queries needed grow with the number of entries in the database?\n",
    "\n",
    "<!-- ::: -->\n",
    "\n",
    "<!-- ::: .option(correct) -->\n",
    "\n",
    "1. Linearly.\n",
    "\n",
    "<!-- ::: -->\n",
    "\n",
    "<!-- ::: .option -->\n",
    "\n",
    "2. Logarithmically.\n",
    "\n",
    "<!-- ::: -->\n",
    "\n",
    "<!-- ::: .option -->\n",
    "\n",
    "3. Quadratically.\n",
    "\n",
    "<!-- ::: -->\n",
    "\n",
    "<!-- ::: .option -->\n",
    "\n",
    "4. Exponentially.\n",
    "\n",
    "<!-- ::: -->\n",
    "\n",
    "<!-- ::: -->\n",
    "\n",
    "<!-- ::: -->\n",
    "\n",
    "<!-- vale QiskitTextbook.SentenceLengthWarning = NO -->\n",
    "\n",
    "It may seem that we can't possibly do better than random guessing here; we don't have any idea where the correct entry will be in the database, and each incorrect query only rules out one entry.\n",
    "\n",
    "<!-- vale QiskitTextbook.SentenceLengthWarning = YES -->\n",
    "\n",
    "For classical computers, our intuition is correct, but if our database can input and output quantum superpositions, it turns out we can do better than random guessing! On this page we will learn about our first quantum algorithm: Grover's quantum search algorithm. When searching any database (structured or unstructured), Grover's algorithm grows with the _square root_ of the number of inputs, which for unstructured search is a [quadratic](gloss:quadratic) improvement over the best classical algorithm.\n",
    "\n",
    "![Comparison of best algorithm run times for quantum and classical unstructured search](images/grover/rg-vs-grover.svg)"
   ]
  },
  {
   "cell_type": "markdown",
   "metadata": {
    "gloss": {
     "3-sat": {
      "text": "Similar to sudoku, 3-SAT is a problem where you need to find a string of bits according to certain constraints.",
      "title": "3-SAT"
     },
     "sudoku": {
      "text": "A sudoku is a type of puzzle. To solve it, you need to fill in numbers in a grid according to certain constraints. <a href='https://en.wikipedia.org/wiki/Sudoku'>Read more</a>.",
      "title": "Sudoku"
     }
    }
   },
   "source": [
    "## Beyond black boxes\n",
    "\n",
    "Search algorithms can search databases of collected information such as phone books, but they can also do more than that. If we can make a problem _look_ like a database search problem, then we can use a search algorithm to solve it. For example, let’s consider the problem of solving a [sudoku](gloss:sudoku). If someone claims to have solved a sudoku, you can check if it’s solved pretty quickly: You check along each row, check along each column, check each square, and you’re finished. In this sense, _you_ are the database, and the person that gave you the solution is querying you. They are trying to find the input that returns the information “yes this is a valid solution”.\n",
    "\n",
    "In fact, we can present a lot of computational problems as \"find the input that results in a certain output\".\n",
    "\n",
    "![We can view a program that assesses proposed solutions as a database.](images/grover/database-computation.svg)\n",
    "\n",
    "<!-- vale QiskitTextbook.Acronyms = NO -->\n",
    "\n",
    "One example of a problem we can solve like this is the Boolean satisfiability problem (known as 'SAT'). \n",
    "\n",
    "\n",
    "## SAT problems\n",
    "\n",
    "SAT problems are widely studied in computer science, and lots of other computing problems can be converted to SAT problems. In this page we will use Grover’s algorithm to solve a simple SAT problem, and you can use the skills you learn here to apply quantum search algorithms to other problems.\n",
    "\n",
    "A solution to a SAT problem is a string of bits, which makes it easy to map to a quantum circuit. The problem itself is essentially a bunch of conditions (we call them clauses) that rule out different combinations of bit values. For example, if we had three bits, one of the clauses might be \"You can’t have the zeroth bit `ON` _and_ the first bit `OFF`\", which would rule out the combinations `101` and `001` as valid solutions.\n",
    "\n",
    "Here's a file that encodes a _\"[3-SAT](gloss:3-sat)\"_ problem, which is a SAT problem where every clause refers to exactly 3 bits, and one of these bit conditions in each clause must be satisfied. "
   ]
  },
  {
   "cell_type": "markdown",
   "metadata": {
    "formulas": {
     "_dimacs-c": {
      "meaning": "In the DIMACS file format, the character '<code>c</code>' signals that this line is a comment and can be ignored."
     },
     "_dimacs-clause-1": {
      "meaning": "In the DIMACS file format, this clause states that we need either bit #1 to be <code>ON</code>, bit #2 to be <code>OFF</code>, <i>or</i> bit #3 to be <code>ON</code>. If any of these conditions are satisfied, the clause is satisfied, so the only combination that <i>wouldn’t</i> satisfy this would be bits 1, 2, and 3 being <code>OFF</code>, <code>ON</code>, <code>OFF</code> respectively. The <code>0</code> indicates the end of the line."
     },
     "_dimacs-clause-3": {
      "meaning": "In the DIMACS file format, this clause states that we need either bit #1 to be <code>ON</code>, bit #2 to be <code>OFF</code>, <i>or</i> bit #3 to be <code>OFF</code>. If any of these conditions are satisfied, the clause is satisfied, so the only combination that <i>wouldn’t</i> satisfy this would be bits 1, 2, and 3 being <code>OFF</code>, <code>ON</code>, <code>ON</code> respectively. The <code>0</code> indicates the end of the line."
     },
     "_dimacs-clause-4": {
      "meaning": "In the DIMACS file format, this clause states that we need either bit #1 to be <code>OFF</code>, bit #2 to be <code>ON</code>, <i>or</i> bit #3 to be <code>ON</code>. If any of these conditions are satisfied, the clause is satisfied, so the only combination that <i>wouldn’t</i> satisfy this would be bits 1, 2, and 3 being <code>ON</code>, <code>OFF</code>, <code>OFF</code> respectively. The <code>0</code> indicates the end of the line."
     },
     "_dimacs-problem": {
      "meaning": "In the DIMACS file format, a line starting with '<code>p</code>' specifies the type of problem. This problem is conjunctive normal form, with 3 variables (bits) and 5 clauses."
     }
    }
   },
   "source": [
    "<!-- ::: q-block -->\n",
    "\n",
    "### Example 3-SAT problem\n",
    "\n",
    "Here is an example of a 3-SAT problem, stored in a file format called \"DIMACS CNF\". These files are very simple and are just one way of storing SAT problems.\n",
    "\n",
    "\n",
    "$\\cssId{_dimacs-c}{\\texttt{c example DIMACS-CNF 3-SAT}}$ <br>\n",
    "$\\cssId{_dimacs-problem}{\\texttt{p cnf 3 5}}$ <br>\n",
    "$\\texttt{-1 -2 -3 0}$<br>\n",
    "$\\cssId{_dimacs-clause-1}{\\texttt{1 -2 3 0}}$ <br>\n",
    "$\\texttt{1 2 -3 0}$<br>\n",
    "$\\cssId{_dimacs-clause-3}{\\texttt{1 -2 -3 0}}$ <br>\n",
    "$\\cssId{_dimacs-clause-4}{\\texttt{-1 2 3 0}}$ <br>\n",
    "\n",
    "<!-- ::: -->"
   ]
  },
  {
   "cell_type": "markdown",
   "metadata": {},
   "source": [
    "<!-- vale QiskitTextbook.SentenceLengthWarning = NO -->\n",
    "\n",
    "Like with the sudoku, it’s easy to check if a bit string is a valid solution to a SAT problem; we just look at each clause in turn and see if our string disobeys any of them. In this course, we won’t worry about how we do this in a quantum circuit. Just remember we have efficient classical algorithms for checking SAT solutions, and for now we’ll just use Qiskit’s built-in tools to build a circuit that does this for us.\n",
    "\n",
    "<!-- vale QiskitTextbook.SentenceLengthWarning = YES -->\n",
    "\n",
    "We've saved this file under `examples/3sat.dimacs` (relative to the code we're running)."
   ]
  },
  {
   "cell_type": "code",
   "execution_count": 1,
   "metadata": {},
   "outputs": [
    {
     "name": "stdout",
     "output_type": "stream",
     "text": [
      "c example DIMACS-CNF 3-SAT\n",
      "p cnf 3 5\n",
      "-1 -2 -3 0\n",
      "1 -2 3 0\n",
      "1 2 -3 0\n",
      "1 -2 -3 0\n",
      "-1 2 3 0\n"
     ]
    }
   ],
   "source": [
    "with open('examples/3sat.dimacs', 'r', encoding='utf8') as f:\n",
    "    dimacs = f.read()\n",
    "print(dimacs)  # let's check the file is as promised"
   ]
  },
  {
   "cell_type": "markdown",
   "metadata": {},
   "source": [
    "<!-- vale QiskitTextbook.SentenceLengthWarning = NO -->\n",
    "\n",
    "We can use Qiskit's circuit library to build a circuit that does the job of the oracle we described above (we'll keep calling this circuit the 'oracle' even though it's no longer magic and all-powerful)."
   ]
  },
  {
   "cell_type": "code",
   "execution_count": 2,
   "metadata": {},
   "outputs": [
    {
     "data": {
      "image/svg+xml": [
       "<?xml version=\"1.0\" encoding=\"UTF-8\"?><!DOCTYPE svg  PUBLIC '-//W3C//DTD SVG 1.1//EN'  'http://www.w3.org/Graphics/SVG/1.1/DTD/svg11.dtd'><svg width=\"312.85pt\" height=\"172pt\" version=\"1.1\" viewBox=\"0 0 312.85 172\" xmlns=\"http://www.w3.org/2000/svg\" xmlns:xlink=\"http://www.w3.org/1999/xlink\"><defs><style type=\"text/css\">*{stroke-linejoin: round; stroke-linecap: butt}</style></defs><path d=\"m0 172h312.85v-172h-312.85z\" fill=\"#ffffff\"/><path d=\"m64.609 44.283h236.41\" clip-path=\"url(#pf6951f2da3)\" fill=\"none\" stroke=\"#000000\" stroke-linecap=\"square\" stroke-width=\"2\"/><path d=\"m64.609 90.637h236.41\" clip-path=\"url(#pf6951f2da3)\" fill=\"none\" stroke=\"#000000\" stroke-linecap=\"square\" stroke-width=\"2\"/><path d=\"m64.609 136.99h236.41\" clip-path=\"url(#pf6951f2da3)\" fill=\"none\" stroke=\"#000000\" stroke-linecap=\"square\" stroke-width=\"2\"/><path d=\"m89.64 136.99v-92.708\" clip-path=\"url(#pf6951f2da3)\" fill=\"none\" stroke=\"#6929c4\" stroke-linecap=\"square\" stroke-width=\"2\"/><path d=\"m228.7 90.637v-46.354\" clip-path=\"url(#pf6951f2da3)\" fill=\"none\" stroke=\"#6929c4\" stroke-linecap=\"square\" stroke-width=\"2\"/><path d=\"m89.64 136.99v-92.708\" clip-path=\"url(#pf6951f2da3)\" fill=\"none\" stroke=\"#6929c4\" stroke-linecap=\"square\" stroke-width=\"2\"/><path d=\"m228.7 90.637v-46.354\" clip-path=\"url(#pf6951f2da3)\" fill=\"none\" stroke=\"#6929c4\" stroke-linecap=\"square\" stroke-width=\"2\"/><path d=\"m89.64 48.803c1.1986 0 2.3482-0.4762 3.1958-1.3237 0.84753-0.84753 1.3237-1.9972 1.3237-3.1958 0-1.1986-0.4762-2.3482-1.3237-3.1958-0.84753-0.84753-1.9972-1.3237-3.1958-1.3237-1.1986 0-2.3482 0.4762-3.1958 1.3237-0.84753 0.84753-1.3237 1.9972-1.3237 3.1958 0 1.1986 0.4762 2.3482 1.3237 3.1958 0.84753 0.84753 1.9972 1.3237 3.1958 1.3237z\" clip-path=\"url(#pf6951f2da3)\" fill=\"#ffffff\" stroke=\"#6929c4\" stroke-width=\"1.5\"/><path d=\"m89.64 141.51c1.1986 0 2.3482-0.4762 3.1958-1.3237 0.84753-0.84753 1.3237-1.9972 1.3237-3.1958 0-1.1986-0.4762-2.3482-1.3237-3.1958-0.84753-0.84753-1.9972-1.3237-3.1958-1.3237-1.1986 0-2.3482 0.4762-3.1958 1.3237-0.84753 0.84753-1.3237 1.9972-1.3237 3.1958 0 1.1986 0.4762 2.3482 1.3237 3.1958 0.84753 0.84753 1.9972 1.3237 3.1958 1.3237z\" clip-path=\"url(#pf6951f2da3)\" fill=\"#ffffff\" stroke=\"#6929c4\" stroke-width=\"1.5\"/><path d=\"m89.64 95.157c1.1986 0 2.3482-0.4762 3.1958-1.3237 0.84753-0.84753 1.3237-1.9972 1.3237-3.1958s-0.4762-2.3482-1.3237-3.1958c-0.84753-0.84753-1.9972-1.3237-3.1958-1.3237-1.1986 0-2.3482 0.4762-3.1958 1.3237-0.84753 0.84753-1.3237 1.9972-1.3237 3.1958s0.4762 2.3482 1.3237 3.1958c0.84753 0.84753 1.9972 1.3237 3.1958 1.3237z\" clip-path=\"url(#pf6951f2da3)\" fill=\"#6929c4\" stroke=\"#6929c4\" stroke-width=\"1.5\"/><path d=\"m120.93 105.7h30.13v-30.13h-30.13z\" clip-path=\"url(#pf6951f2da3)\" fill=\"#005d5d\" stroke=\"#005d5d\" stroke-width=\"1.5\"/><path d=\"m120.93 152.06h30.13v-30.13h-30.13z\" clip-path=\"url(#pf6951f2da3)\" fill=\"#005d5d\" stroke=\"#005d5d\" stroke-width=\"1.5\"/><path d=\"m167.28 105.7h30.13v-30.13h-30.13z\" clip-path=\"url(#pf6951f2da3)\" fill=\"#005d5d\" stroke=\"#005d5d\" stroke-width=\"1.5\"/><path d=\"m228.7 48.803c1.1986 0 2.3482-0.4762 3.1958-1.3237s1.3237-1.9972 1.3237-3.1958c0-1.1986-0.4762-2.3482-1.3237-3.1958s-1.9972-1.3237-3.1958-1.3237c-1.1986 0-2.3482 0.4762-3.1958 1.3237-0.84753 0.84753-1.3237 1.9972-1.3237 3.1958 0 1.1986 0.4762 2.3482 1.3237 3.1958 0.84753 0.84753 1.9972 1.3237 3.1958 1.3237z\" clip-path=\"url(#pf6951f2da3)\" fill=\"#ffffff\" stroke=\"#6929c4\" stroke-width=\"1.5\"/><path d=\"m228.7 95.157c1.1986 0 2.3482-0.4762 3.1958-1.3237 0.84753-0.84753 1.3237-1.9972 1.3237-3.1958s-0.4762-2.3482-1.3237-3.1958c-0.84753-0.84753-1.9972-1.3237-3.1958-1.3237-1.1986 0-2.3482 0.4762-3.1958 1.3237-0.84753 0.84753-1.3237 1.9972-1.3237 3.1958s0.4762 2.3482 1.3237 3.1958c0.84753 0.84753 1.9972 1.3237 3.1958 1.3237z\" clip-path=\"url(#pf6951f2da3)\" fill=\"#6929c4\" stroke=\"#6929c4\" stroke-width=\"1.5\"/><path d=\"m259.99 105.7h30.13v-30.13h-30.13z\" clip-path=\"url(#pf6951f2da3)\" fill=\"#005d5d\" stroke=\"#005d5d\" stroke-width=\"1.5\"/><g clip-path=\"url(#pf6951f2da3)\"><g transform=\"translate(37.301 48.734) scale(.1625 -.1625)\"><defs><path id=\"DejaVuSans-Oblique-71\" transform=\"scale(.015625)\" d=\"m2669 525q-231-303-546-460-314-156-695-156-531 0-833 358-301 358-301 986 0 506 186 978t533 847q225 244 517 375t614 131q387 0 637-153t363-462l100 525h578l-934-4813h-579l360 1844zm-1778 813q0-463 193-705 194-242 560-242 544 0 928 520t384 1264q0 450-199 689-198 239-569 239-272 0-504-127-231-126-403-370-181-256-286-600-104-343-104-668z\"/><path id=\"DejaVuSans-30\" transform=\"scale(.015625)\" d=\"m2034 4250q-487 0-733-480-245-479-245-1442 0-959 245-1439 246-480 733-480 491 0 736 480 246 480 246 1439 0 963-246 1442-245 480-736 480zm0 500q785 0 1199-621 414-620 414-1801 0-1178-414-1799-414-620-1199-620-784 0-1198 620-414 621-414 1799 0 1181 414 1801 414 621 1198 621z\"/></defs><use xlink:href=\"#DejaVuSans-Oblique-71\"/><use transform=\"translate(63.477 -16.406) scale(.7)\" xlink:href=\"#DejaVuSans-30\"/></g></g><g clip-path=\"url(#pf6951f2da3)\"><g transform=\"translate(37.301 95.088) scale(.1625 -.1625)\"><defs><path id=\"DejaVuSans-31\" transform=\"scale(.015625)\" d=\"m794 531h1031v3560l-1122-225v575l1116 225h631v-4135h1031v-531h-2687v531z\"/></defs><use xlink:href=\"#DejaVuSans-Oblique-71\"/><use transform=\"translate(63.477 -16.406) scale(.7)\" xlink:href=\"#DejaVuSans-31\"/></g></g><g clip-path=\"url(#pf6951f2da3)\"><g transform=\"translate(37.301 141.44) scale(.1625 -.1625)\"><defs><path id=\"DejaVuSans-32\" transform=\"scale(.015625)\" d=\"m1228 531h2203v-531h-2962v531q359 372 979 998 621 627 780 809 303 340 423 576 121 236 121 464 0 372-261 606-261 235-680 235-297 0-627-103-329-103-704-313v638q381 153 712 231 332 78 607 78 725 0 1156-363 431-362 431-968 0-288-108-546-107-257-392-607-78-91-497-524-418-433-1181-1211z\"/></defs><use xlink:href=\"#DejaVuSans-Oblique-71\"/><use transform=\"translate(63.477 -16.406) scale(.7)\" xlink:href=\"#DejaVuSans-32\"/></g></g><g clip-path=\"url(#pf6951f2da3)\"><g transform=\"translate(131.54 94.224) scale(.13 -.13)\" fill=\"#ffffff\"><defs><path id=\"DejaVuSans-5a\" transform=\"scale(.015625)\" d=\"m359 4666h3666v-482l-2950-3653h3022v-531h-3809v481l2950 3653h-2879v532z\"/></defs><use xlink:href=\"#DejaVuSans-5a\"/></g></g><g clip-path=\"url(#pf6951f2da3)\"><g transform=\"translate(131.54 140.58) scale(.13 -.13)\" fill=\"#ffffff\"><use xlink:href=\"#DejaVuSans-5a\"/></g></g><g clip-path=\"url(#pf6951f2da3)\"><g transform=\"translate(177.9 94.224) scale(.13 -.13)\" fill=\"#ffffff\"><defs><path id=\"DejaVuSans-58\" transform=\"scale(.015625)\" d=\"m403 4666h678l1160-1735 1165 1735h678l-1500-2241 1600-2425h-678l-1312 1984-1322-1984h-681l1665 2491-1453 2175z\"/></defs><use xlink:href=\"#DejaVuSans-58\"/></g></g><g clip-path=\"url(#pf6951f2da3)\"><g transform=\"translate(270.6 94.224) scale(.13 -.13)\" fill=\"#ffffff\"><use xlink:href=\"#DejaVuSans-58\"/></g></g><defs><clipPath id=\"pf6951f2da3\"><rect x=\"7.2\" y=\"7.2\" width=\"298.45\" height=\"157.6\"/></clipPath></defs></svg>"
      ],
      "text/plain": [
       "<Figure size 538.33x284.278 with 1 Axes>"
      ]
     },
     "execution_count": 2,
     "metadata": {},
     "output_type": "execute_result"
    }
   ],
   "source": [
    "from qiskit.circuit.library import PhaseOracle\n",
    "oracle = PhaseOracle.from_dimacs_file('examples/3sat.dimacs')\n",
    "oracle.draw()"
   ]
  },
  {
   "cell_type": "markdown",
   "metadata": {},
   "source": [
    "This circuit above acts similarly to the databases we described before. The input to this circuit is a string of 3 bits, and the output given depends on whether the input string is a solution to the SAT problem or not.\n",
    "\n",
    "The result of this checking computation will still be either `True` or `False`, but the behaviour of this circuit is slightly different to how you might expect. To use this circuit with Grover's algorithm, we want the oracle to change the phase of the output state by 180° (i.e. multiply by -1) if the state is a solution. This is why Qiskit calls the class '`PhaseOracle`'.\n",
    "\n",
    "$$\n",
    "U_\\text{oracle}|x\\rangle = \\bigg\\{\n",
    "\\begin{aligned}\n",
    "\\phantom{-}|x\\rangle & \\quad \\text{if $x$ is not a solution} \\\\\n",
    "-|x\\rangle & \\quad \\text{if $x$ is a solution} \\\\\n",
    "\\end{aligned}\n",
    "$$\n",
    "\n",
    "For example, the only solutions to this problem are `000`, `011`, and `101`, so the circuit above has this matrix:\n",
    "\n",
    "$$\n",
    "U_\\text{oracle} = \n",
    "\\begin{bmatrix}\n",
    "-1 & 0 & 0 &  0 & 0 &  0 & 0 & 0  \\\\\n",
    " 0 & 1 & 0 &  0 & 0 &  0 & 0 & 0  \\\\\n",
    " 0 & 0 & 1 &  0 & 0 &  0 & 0 & 0  \\\\\n",
    " 0 & 0 & 0 & -1 & 0 &  0 & 0 & 0  \\\\\n",
    " 0 & 0 & 0 &  0 & 1 &  0 & 0 & 0  \\\\\n",
    " 0 & 0 & 0 &  0 & 0 & -1 & 0 & 0  \\\\\n",
    " 0 & 0 & 0 &  0 & 0 &  0 & 1 & 0  \\\\\n",
    " 0 & 0 & 0 &  0 & 0 &  0 & 0 & 1  \\\\\n",
    "\\end{bmatrix}\n",
    "$$\n",
    "\n",
    "To summarise:\n",
    "\n",
    "1. There are problems for which it's easy to check if a proposed solution is correct.\n",
    "2. We can convert an algorithm that checks solutions into a quantum circuit that changes the phase of solution states\n",
    "3. We can then use Grover's algorithm to work out which states have their phases changed.\n",
    "\n",
    "In this sense, the database or oracle _is the problem_ to be solved.\n",
    "\n",
    "![Image showing input to Grover's algorithm as an oracle and output is a solution to that oracle](images/grover/grover-input-output.svg)"
   ]
  },
  {
   "cell_type": "markdown",
   "metadata": {},
   "source": [
    "## Overview of Grover's algorithm\n",
    "\n",
    "Now we understand the problem, we finally come to Grover’s algorithm. Grover’s algorithm has three steps: \n",
    "\n",
    "1. The first step is to create an equal superposition of every possible input to the oracle. If our qubits all start in the state $|0\\rangle$, we can create this superposition by applying a H-gate to each qubit. We’ll call this equal superposition state '$|s\\rangle$'.\n",
    "\n",
    "2. The next step is to run the oracle circuit ($U_\\text{oracle}$) on these qubits. On this page, we'll use the circuit (`oracle`) Qiskit created for us above, but we could use any circuit or hardware that changes the phases of solution states.\n",
    "\n",
    "3. The final step is to run a circuit called the 'diffusion operator' or 'diffuser' ($U_s$) on the qubits. We'll go over this circuit when we explore Grover's algorithm in the next section, but it's a remarkably simple circuit that is the same for any oracle.\n",
    "\n",
    "We then need to repeat steps 2 & 3 a few times depending on the size of the circuit. Note that we query the oracle in step #2, so the number of queries is roughly proportional to the square root of the number of possible inputs. If we repeat 2 & 3 the right amount of times, then when we measure, we'll have a high chance of measuring a solution to the oracle.\n",
    "\n",
    "![Compact circuit diagram of Grover's algorithm](images/grover/grover-circuit-high-level.png)"
   ]
  },
  {
   "cell_type": "code",
   "execution_count": 3,
   "metadata": {},
   "outputs": [
    {
     "data": {
      "image/svg+xml": [
       "<?xml version=\"1.0\" encoding=\"UTF-8\"?><!DOCTYPE svg  PUBLIC '-//W3C//DTD SVG 1.1//EN'  'http://www.w3.org/Graphics/SVG/1.1/DTD/svg11.dtd'><svg width=\"127.43pt\" height=\"172pt\" version=\"1.1\" viewBox=\"0 0 127.43 172\" xmlns=\"http://www.w3.org/2000/svg\" xmlns:xlink=\"http://www.w3.org/1999/xlink\"><defs><style type=\"text/css\">*{stroke-linejoin: round; stroke-linecap: butt}</style></defs><path d=\"m0 172h127.43v-172h-127.43z\" fill=\"#ffffff\"/><path d=\"m64.609 44.283h50.989\" clip-path=\"url(#p0e72cbdac6)\" fill=\"none\" stroke=\"#000000\" stroke-linecap=\"square\" stroke-width=\"2\"/><path d=\"m64.609 90.637h50.989\" clip-path=\"url(#p0e72cbdac6)\" fill=\"none\" stroke=\"#000000\" stroke-linecap=\"square\" stroke-width=\"2\"/><path d=\"m64.609 136.99h50.989\" clip-path=\"url(#p0e72cbdac6)\" fill=\"none\" stroke=\"#000000\" stroke-linecap=\"square\" stroke-width=\"2\"/><path d=\"m74.575 59.348h30.13v-30.13h-30.13z\" clip-path=\"url(#p0e72cbdac6)\" fill=\"#1192e8\" stroke=\"#1192e8\" stroke-width=\"1.5\"/><path d=\"m74.575 105.7h30.13v-30.13h-30.13z\" clip-path=\"url(#p0e72cbdac6)\" fill=\"#1192e8\" stroke=\"#1192e8\" stroke-width=\"1.5\"/><path d=\"m74.575 152.06h30.13v-30.13h-30.13z\" clip-path=\"url(#p0e72cbdac6)\" fill=\"#1192e8\" stroke=\"#1192e8\" stroke-width=\"1.5\"/><g clip-path=\"url(#p0e72cbdac6)\"><g transform=\"translate(37.301 48.734) scale(.1625 -.1625)\"><defs><path id=\"DejaVuSans-Oblique-71\" transform=\"scale(.015625)\" d=\"m2669 525q-231-303-546-460-314-156-695-156-531 0-833 358-301 358-301 986 0 506 186 978t533 847q225 244 517 375t614 131q387 0 637-153t363-462l100 525h578l-934-4813h-579l360 1844zm-1778 813q0-463 193-705 194-242 560-242 544 0 928 520t384 1264q0 450-199 689-198 239-569 239-272 0-504-127-231-126-403-370-181-256-286-600-104-343-104-668z\"/><path id=\"DejaVuSans-30\" transform=\"scale(.015625)\" d=\"m2034 4250q-487 0-733-480-245-479-245-1442 0-959 245-1439 246-480 733-480 491 0 736 480 246 480 246 1439 0 963-246 1442-245 480-736 480zm0 500q785 0 1199-621 414-620 414-1801 0-1178-414-1799-414-620-1199-620-784 0-1198 620-414 621-414 1799 0 1181 414 1801 414 621 1198 621z\"/></defs><use xlink:href=\"#DejaVuSans-Oblique-71\"/><use transform=\"translate(63.477 -16.406) scale(.7)\" xlink:href=\"#DejaVuSans-30\"/></g></g><g clip-path=\"url(#p0e72cbdac6)\"><g transform=\"translate(37.301 95.088) scale(.1625 -.1625)\"><defs><path id=\"DejaVuSans-31\" transform=\"scale(.015625)\" d=\"m794 531h1031v3560l-1122-225v575l1116 225h631v-4135h1031v-531h-2687v531z\"/></defs><use xlink:href=\"#DejaVuSans-Oblique-71\"/><use transform=\"translate(63.477 -16.406) scale(.7)\" xlink:href=\"#DejaVuSans-31\"/></g></g><g clip-path=\"url(#p0e72cbdac6)\"><g transform=\"translate(37.301 141.44) scale(.1625 -.1625)\"><defs><path id=\"DejaVuSans-32\" transform=\"scale(.015625)\" d=\"m1228 531h2203v-531h-2962v531q359 372 979 998 621 627 780 809 303 340 423 576 121 236 121 464 0 372-261 606-261 235-680 235-297 0-627-103-329-103-704-313v638q381 153 712 231 332 78 607 78 725 0 1156-363 431-362 431-968 0-288-108-546-107-257-392-607-78-91-497-524-418-433-1181-1211z\"/></defs><use xlink:href=\"#DejaVuSans-Oblique-71\"/><use transform=\"translate(63.477 -16.406) scale(.7)\" xlink:href=\"#DejaVuSans-32\"/></g></g><g clip-path=\"url(#p0e72cbdac6)\"><g transform=\"translate(84.752 47.87) scale(.13 -.13)\" fill=\"#ffffff\"><defs><path id=\"DejaVuSans-48\" transform=\"scale(.015625)\" d=\"m628 4666h631v-1913h2294v1913h631v-4666h-631v2222h-2294v-2222h-631v4666z\"/></defs><use xlink:href=\"#DejaVuSans-48\"/></g></g><g clip-path=\"url(#p0e72cbdac6)\"><g transform=\"translate(84.752 94.224) scale(.13 -.13)\" fill=\"#ffffff\"><use xlink:href=\"#DejaVuSans-48\"/></g></g><g clip-path=\"url(#p0e72cbdac6)\"><g transform=\"translate(84.752 140.58) scale(.13 -.13)\" fill=\"#ffffff\"><use xlink:href=\"#DejaVuSans-48\"/></g></g><defs><clipPath id=\"p0e72cbdac6\"><rect x=\"7.2\" y=\"7.2\" width=\"113.03\" height=\"157.6\"/></clipPath></defs></svg>"
      ],
      "text/plain": [
       "<Figure size 203.885x284.278 with 1 Axes>"
      ]
     },
     "execution_count": 3,
     "metadata": {},
     "output_type": "execute_result"
    }
   ],
   "source": [
    "from qiskit import QuantumCircuit\n",
    "init = QuantumCircuit(3)\n",
    "init.h([0,1,2])\n",
    "init.draw()"
   ]
  },
  {
   "cell_type": "markdown",
   "metadata": {},
   "source": [
    "Next, we can again use Qiskit's tools to create a circuit that does steps 2 & 3 for us. "
   ]
  },
  {
   "cell_type": "code",
   "execution_count": 4,
   "metadata": {},
   "outputs": [],
   "source": [
    "# steps 2 & 3 of Grover's algorithm\n",
    "from qiskit.circuit.library import GroverOperator\n",
    "grover_operator = GroverOperator(oracle)"
   ]
  },
  {
   "cell_type": "markdown",
   "metadata": {},
   "source": [
    "And we can combine this into a circuit that performs Grover's algorithm. Here, we won't repeat steps 2 & 3 as this is a small problem and doing them once is enough."
   ]
  },
  {
   "cell_type": "code",
   "execution_count": 5,
   "metadata": {},
   "outputs": [
    {
     "data": {
      "image/svg+xml": [
       "<?xml version=\"1.0\" encoding=\"UTF-8\"?><!DOCTYPE svg  PUBLIC '-//W3C//DTD SVG 1.1//EN'  'http://www.w3.org/Graphics/SVG/1.1/DTD/svg11.dtd'><svg width=\"382.52pt\" height=\"218.36pt\" version=\"1.1\" viewBox=\"0 0 382.52 218.36\" xmlns=\"http://www.w3.org/2000/svg\" xmlns:xlink=\"http://www.w3.org/1999/xlink\"><defs><style type=\"text/css\">*{stroke-linejoin: round; stroke-linecap: butt}</style></defs><path d=\"m0 218.36h382.52v-218.36h-382.52z\" fill=\"#ffffff\"/><path d=\"m245.99 172.8h12.052l-6.026 8.6914z\" clip-path=\"url(#p90f0a58084)\" fill=\"#778899\"/><path d=\"m292.35 172.8h12.052l-6.026 8.6914z\" clip-path=\"url(#p90f0a58084)\" fill=\"#778899\"/><path d=\"m338.7 172.8h12.052l-6.026 8.6914z\" clip-path=\"url(#p90f0a58084)\" fill=\"#778899\"/><path d=\"m87.926 44.283h282.76\" clip-path=\"url(#p90f0a58084)\" fill=\"none\" stroke=\"#000000\" stroke-linecap=\"square\" stroke-width=\"2\"/><path d=\"m87.926 90.637h282.76\" clip-path=\"url(#p90f0a58084)\" fill=\"none\" stroke=\"#000000\" stroke-linecap=\"square\" stroke-width=\"2\"/><path d=\"m87.926 136.99h282.76\" clip-path=\"url(#p90f0a58084)\" fill=\"none\" stroke=\"#000000\" stroke-linecap=\"square\" stroke-width=\"2\"/><path d=\"m87.926 181.84h282.76\" clip-path=\"url(#p90f0a58084)\" fill=\"none\" stroke=\"#778899\" stroke-linecap=\"square\" stroke-width=\"2\"/><path d=\"m87.926 184.85h282.76\" clip-path=\"url(#p90f0a58084)\" fill=\"none\" stroke=\"#778899\" stroke-linecap=\"square\" stroke-width=\"2\"/><path d=\"m97.197 187.98 4.6354-9.2708\" clip-path=\"url(#p90f0a58084)\" fill=\"none\" stroke=\"#778899\" stroke-linecap=\"square\"/><path d=\"m196.63 67.46h18.078v-46.354h-18.078z\" clip-path=\"url(#p90f0a58084)\" fill=\"#bdbdbd\" opacity=\".6\"/><path d=\"m196.63 113.81h18.078v-46.354h-18.078z\" clip-path=\"url(#p90f0a58084)\" fill=\"#bdbdbd\" opacity=\".6\"/><path d=\"m196.63 160.17h18.078v-46.354h-18.078z\" clip-path=\"url(#p90f0a58084)\" fill=\"#bdbdbd\" opacity=\".6\"/><path d=\"m253.53 44.283v128.52\" clip-path=\"url(#p90f0a58084)\" fill=\"none\" stroke=\"#778899\" stroke-linecap=\"square\" stroke-width=\"2\"/><path d=\"m250.51 44.283v128.52\" clip-path=\"url(#p90f0a58084)\" fill=\"none\" stroke=\"#778899\" stroke-linecap=\"square\" stroke-width=\"2\"/><path d=\"m299.88 90.637v82.162\" clip-path=\"url(#p90f0a58084)\" fill=\"none\" stroke=\"#778899\" stroke-linecap=\"square\" stroke-width=\"2\"/><path d=\"m296.87 90.637v82.162\" clip-path=\"url(#p90f0a58084)\" fill=\"none\" stroke=\"#778899\" stroke-linecap=\"square\" stroke-width=\"2\"/><path d=\"m346.23 136.99v35.808\" clip-path=\"url(#p90f0a58084)\" fill=\"none\" stroke=\"#778899\" stroke-linecap=\"square\" stroke-width=\"2\"/><path d=\"m343.22 136.99v35.808\" clip-path=\"url(#p90f0a58084)\" fill=\"none\" stroke=\"#778899\" stroke-linecap=\"square\" stroke-width=\"2\"/><path d=\"m97.892 59.348h30.13v-30.13h-30.13z\" clip-path=\"url(#p90f0a58084)\" fill=\"#1192e8\" stroke=\"#1192e8\" stroke-width=\"1.5\"/><path d=\"m97.892 105.7h30.13v-30.13h-30.13z\" clip-path=\"url(#p90f0a58084)\" fill=\"#1192e8\" stroke=\"#1192e8\" stroke-width=\"1.5\"/><path d=\"m97.892 152.06h30.13v-30.13h-30.13z\" clip-path=\"url(#p90f0a58084)\" fill=\"#1192e8\" stroke=\"#1192e8\" stroke-width=\"1.5\"/><path d=\"m144.25 152.06h30.13v-122.84h-30.13z\" clip-path=\"url(#p90f0a58084)\" fill=\"#6929c4\" stroke=\"#6929c4\" stroke-width=\"1.5\"/><path d=\"m236.95 59.348h30.13v-30.13h-30.13z\" clip-path=\"url(#p90f0a58084)\" fill=\"#121619\" stroke=\"#121619\" stroke-width=\"1.5\"/><path d=\"m262.56 48.803c0-2.7958-1.1118-5.4799-3.0887-7.4568s-4.661-3.0887-7.4568-3.0887c-2.7958 0-5.4799 1.1118-7.4568 3.0887s-3.0887 4.661-3.0887 7.4568\" clip-path=\"url(#p90f0a58084)\" fill=\"none\" stroke=\"#ffffff\" stroke-width=\"2\"/><path d=\"m252.02 48.803 10.546-10.546\" clip-path=\"url(#p90f0a58084)\" fill=\"none\" stroke=\"#ffffff\" stroke-linecap=\"square\" stroke-width=\"2\"/><path d=\"m283.31 105.7h30.13v-30.13h-30.13z\" clip-path=\"url(#p90f0a58084)\" fill=\"#121619\" stroke=\"#121619\" stroke-width=\"1.5\"/><path d=\"m308.92 95.157c0-2.7958-1.1118-5.4799-3.0887-7.4568s-4.661-3.0887-7.4568-3.0887-5.4799 1.1118-7.4568 3.0887-3.0887 4.661-3.0887 7.4568\" clip-path=\"url(#p90f0a58084)\" fill=\"none\" stroke=\"#ffffff\" stroke-width=\"2\"/><path d=\"m298.37 95.157 10.546-10.546\" clip-path=\"url(#p90f0a58084)\" fill=\"none\" stroke=\"#ffffff\" stroke-linecap=\"square\" stroke-width=\"2\"/><path d=\"m329.66 152.06h30.13v-30.13h-30.13z\" clip-path=\"url(#p90f0a58084)\" fill=\"#121619\" stroke=\"#121619\" stroke-width=\"1.5\"/><path d=\"m355.27 141.51c0-2.7958-1.1118-5.4799-3.0887-7.4568-1.9769-1.9769-4.661-3.0887-7.4568-3.0887s-5.4799 1.1118-7.4568 3.0887-3.0887 4.661-3.0887 7.4568\" clip-path=\"url(#p90f0a58084)\" fill=\"none\" stroke=\"#ffffff\" stroke-width=\"2\"/><path d=\"m344.73 141.51 10.546-10.546\" clip-path=\"url(#p90f0a58084)\" fill=\"none\" stroke=\"#ffffff\" stroke-linecap=\"square\" stroke-width=\"2\"/><g clip-path=\"url(#p90f0a58084)\"><g transform=\"translate(60.617 48.734) scale(.1625 -.1625)\"><defs><path id=\"DejaVuSans-Oblique-71\" transform=\"scale(.015625)\" d=\"m2669 525q-231-303-546-460-314-156-695-156-531 0-833 358-301 358-301 986 0 506 186 978t533 847q225 244 517 375t614 131q387 0 637-153t363-462l100 525h578l-934-4813h-579l360 1844zm-1778 813q0-463 193-705 194-242 560-242 544 0 928 520t384 1264q0 450-199 689-198 239-569 239-272 0-504-127-231-126-403-370-181-256-286-600-104-343-104-668z\"/><path id=\"DejaVuSans-30\" transform=\"scale(.015625)\" d=\"m2034 4250q-487 0-733-480-245-479-245-1442 0-959 245-1439 246-480 733-480 491 0 736 480 246 480 246 1439 0 963-246 1442-245 480-736 480zm0 500q785 0 1199-621 414-620 414-1801 0-1178-414-1799-414-620-1199-620-784 0-1198 620-414 621-414 1799 0 1181 414 1801 414 621 1198 621z\"/></defs><use xlink:href=\"#DejaVuSans-Oblique-71\"/><use transform=\"translate(63.477 -16.406) scale(.7)\" xlink:href=\"#DejaVuSans-30\"/></g></g><g clip-path=\"url(#p90f0a58084)\"><g transform=\"translate(60.617 95.088) scale(.1625 -.1625)\"><defs><path id=\"DejaVuSans-31\" transform=\"scale(.015625)\" d=\"m794 531h1031v3560l-1122-225v575l1116 225h631v-4135h1031v-531h-2687v531z\"/></defs><use xlink:href=\"#DejaVuSans-Oblique-71\"/><use transform=\"translate(63.477 -16.406) scale(.7)\" xlink:href=\"#DejaVuSans-31\"/></g></g><g clip-path=\"url(#p90f0a58084)\"><g transform=\"translate(60.617 141.44) scale(.1625 -.1625)\"><defs><path id=\"DejaVuSans-32\" transform=\"scale(.015625)\" d=\"m1228 531h2203v-531h-2962v531q359 372 979 998 621 627 780 809 303 340 423 576 121 236 121 464 0 372-261 606-261 235-680 235-297 0-627-103-329-103-704-313v638q381 153 712 231 332 78 607 78 725 0 1156-363 431-362 431-968 0-288-108-546-107-257-392-607-78-91-497-524-418-433-1181-1211z\"/></defs><use xlink:href=\"#DejaVuSans-Oblique-71\"/><use transform=\"translate(63.477 -16.406) scale(.7)\" xlink:href=\"#DejaVuSans-32\"/></g></g><g clip-path=\"url(#p90f0a58084)\"><g transform=\"translate(92.561 176.55) scale(.104 -.104)\"><defs><path id=\"DejaVuSans-33\" transform=\"scale(.015625)\" d=\"m2597 2516q453-97 707-404 255-306 255-756 0-690-475-1069-475-378-1350-378-293 0-604 58t-642 174v609q262-153 574-231 313-78 654-78 593 0 904 234t311 681q0 413-289 645-289 233-804 233h-544v519h569q465 0 712 186t247 536q0 359-255 551-254 193-729 193-260 0-557-57-297-56-653-174v562q360 100 674 150t592 50q719 0 1137-327 419-326 419-882 0-388-222-655t-631-370z\"/></defs><use xlink:href=\"#DejaVuSans-33\"/></g></g><g clip-path=\"url(#p90f0a58084)\"><g transform=\"translate(34.404 187.83) scale(.1625 -.1625)\"><defs><path id=\"DejaVuSans-6d\" transform=\"scale(.015625)\" d=\"m3328 2828q216 388 516 572t706 184q547 0 844-383 297-382 297-1088v-2113h-578v2094q0 503-179 746-178 244-543 244-447 0-707-297-259-296-259-809v-1978h-578v2094q0 506-178 748t-550 242q-441 0-701-298-259-298-259-808v-1978h-578v3500h578v-544q197 322 472 475t653 153q382 0 649-194 267-193 395-562z\"/><path id=\"DejaVuSans-65\" transform=\"scale(.015625)\" d=\"m3597 1894v-281h-2644q38-594 358-905t892-311q331 0 642 81t618 244v-544q-310-131-635-200t-659-69q-838 0-1327 487-489 488-489 1320 0 859 464 1363 464 505 1252 505 706 0 1117-455 411-454 411-1235zm-575 169q-6 471-264 752-258 282-683 282-481 0-770-272t-333-766l2050 4z\"/><path id=\"DejaVuSans-61\" transform=\"scale(.015625)\" d=\"m2194 1759q-697 0-966-159t-269-544q0-306 202-486 202-179 548-179 479 0 768 339t289 901v128h-572zm1147 238v-1997h-575v531q-197-318-491-470t-719-152q-537 0-855 302-317 302-317 808 0 590 395 890 396 300 1180 300h807v57q0 397-261 614t-733 217q-300 0-585-72-284-72-546-216v532q315 122 612 182 297 61 578 61 760 0 1135-394 375-393 375-1193z\"/><path id=\"DejaVuSans-73\" transform=\"scale(.015625)\" d=\"m2834 3397v-544q-243 125-506 187-262 63-544 63-428 0-642-131t-214-394q0-200 153-314t616-217l197-44q612-131 870-370t258-667q0-488-386-773-386-284-1061-284-281 0-586 55t-642 164v594q319-166 628-249 309-82 613-82 406 0 624 139 219 139 219 392 0 234-158 359-157 125-692 241l-200 47q-534 112-772 345-237 233-237 639 0 494 350 762 350 269 994 269 318 0 599-47 282-46 519-140z\"/></defs><use xlink:href=\"#DejaVuSans-6d\"/><use x=\"97.412109\" xlink:href=\"#DejaVuSans-65\"/><use x=\"158.935547\" xlink:href=\"#DejaVuSans-61\"/><use x=\"220.214844\" xlink:href=\"#DejaVuSans-73\"/></g></g><g clip-path=\"url(#p90f0a58084)\"><g transform=\"translate(108.07 47.87) scale(.13 -.13)\" fill=\"#ffffff\"><defs><path id=\"DejaVuSans-48\" transform=\"scale(.015625)\" d=\"m628 4666h631v-1913h2294v1913h631v-4666h-631v2222h-2294v-2222h-631v4666z\"/></defs><use xlink:href=\"#DejaVuSans-48\"/></g></g><g clip-path=\"url(#p90f0a58084)\"><g transform=\"translate(108.07 94.224) scale(.13 -.13)\" fill=\"#ffffff\"><use xlink:href=\"#DejaVuSans-48\"/></g></g><g clip-path=\"url(#p90f0a58084)\"><g transform=\"translate(108.07 140.58) scale(.13 -.13)\" fill=\"#ffffff\"><use xlink:href=\"#DejaVuSans-48\"/></g></g><g clip-path=\"url(#p90f0a58084)\"><g transform=\"translate(147.49 47.87) scale(.13 -.13)\" fill=\"#ffffff\"><use xlink:href=\"#DejaVuSans-30\"/></g></g><g clip-path=\"url(#p90f0a58084)\"><g transform=\"translate(147.49 94.224) scale(.13 -.13)\" fill=\"#ffffff\"><use xlink:href=\"#DejaVuSans-31\"/></g></g><g clip-path=\"url(#p90f0a58084)\"><g transform=\"translate(147.49 140.58) scale(.13 -.13)\" fill=\"#ffffff\"><use xlink:href=\"#DejaVuSans-32\"/></g></g><g clip-path=\"url(#p90f0a58084)\"><g transform=\"translate(159.29 94.224) scale(.13 -.13)\" fill=\"#ffffff\"><defs><path id=\"DejaVuSans-51\" transform=\"scale(.015625)\" d=\"m2522 4238q-688 0-1093-513-404-512-404-1397 0-881 404-1394 405-512 1093-512 687 0 1089 512 402 513 402 1394 0 885-402 1397-402 513-1089 513zm884-4154 832-909h-763l-691 747q-103-6-158-9-54-4-104-4-984 0-1574 658-589 658-589 1761 0 1106 589 1764 590 658 1574 658 981 0 1568-658 588-658 588-1764 0-812-327-1391-326-578-945-853z\"/></defs><use xlink:href=\"#DejaVuSans-51\"/></g></g><path d=\"m205.66 21.106v46.354\" clip-path=\"url(#p90f0a58084)\" fill=\"none\" stroke=\"#000000\" stroke-dasharray=\"3.7,1.6\"/><path d=\"m205.66 67.46v46.354\" clip-path=\"url(#p90f0a58084)\" fill=\"none\" stroke=\"#000000\" stroke-dasharray=\"3.7,1.6\"/><path d=\"m205.66 113.81v46.354\" clip-path=\"url(#p90f0a58084)\" fill=\"none\" stroke=\"#000000\" stroke-dasharray=\"3.7,1.6\"/><g clip-path=\"url(#p90f0a58084)\"><g transform=\"translate(263.61 176.55) scale(.104 -.104)\"><use xlink:href=\"#DejaVuSans-30\"/></g></g><g clip-path=\"url(#p90f0a58084)\"><g transform=\"translate(309.96 176.55) scale(.104 -.104)\"><use xlink:href=\"#DejaVuSans-31\"/></g></g><g clip-path=\"url(#p90f0a58084)\"><g transform=\"translate(356.32 176.55) scale(.104 -.104)\"><use xlink:href=\"#DejaVuSans-32\"/></g></g><defs><clipPath id=\"p90f0a58084\"><rect x=\"7.2\" y=\"7.2\" width=\"368.12\" height=\"203.96\"/></clipPath></defs></svg>"
      ],
      "text/plain": [
       "<Figure size 663.998x367.889 with 1 Axes>"
      ]
     },
     "execution_count": 5,
     "metadata": {},
     "output_type": "execute_result"
    }
   ],
   "source": [
    "qc = init.compose(grover_operator)\n",
    "qc.measure_all()\n",
    "qc.draw()"
   ]
  },
  {
   "cell_type": "markdown",
   "metadata": {},
   "source": [
    "Finally, let's run this on a simulator and see what results we get:"
   ]
  },
  {
   "cell_type": "code",
   "execution_count": 6,
   "metadata": {
    "slideshow": {
     "slide_type": "fragment"
    }
   },
   "outputs": [
    {
     "data": {
      "image/svg+xml": [
       "<?xml version=\"1.0\" encoding=\"UTF-8\"?><!DOCTYPE svg  PUBLIC '-//W3C//DTD SVG 1.1//EN'  'http://www.w3.org/Graphics/SVG/1.1/DTD/svg11.dtd'><svg width=\"456.27pt\" height=\"328.35pt\" version=\"1.1\" viewBox=\"0 0 456.27 328.35\" xmlns=\"http://www.w3.org/2000/svg\" xmlns:xlink=\"http://www.w3.org/1999/xlink\"><defs><style type=\"text/css\">*{stroke-linejoin: round; stroke-linecap: butt}</style></defs><path d=\"m0 328.35h456.27v-328.35h-456.27z\" fill=\"#ffffff\"/><path d=\"m58.472 284.4h390.6v-277.2h-390.6z\" fill=\"#ffffff\"/><defs><path id=\"m3fc9143e20\" d=\"m0 0v3.5\" stroke=\"#343a3f\" stroke-width=\".8\"/></defs><use x=\"88.062784\" y=\"284.4\" fill=\"#343a3f\" stroke=\"#343a3f\" stroke-width=\".8\" xlink:href=\"#m3fc9143e20\"/><g transform=\"translate(87.123 320.15) rotate(-70) scale(.14 -.14)\" fill=\"#343a3f\"><defs><path id=\"DejaVuSans-30\" transform=\"scale(.015625)\" d=\"m2034 4250q-487 0-733-480-245-479-245-1442 0-959 245-1439 246-480 733-480 491 0 736 480 246 480 246 1439 0 963-246 1442-245 480-736 480zm0 500q785 0 1199-621 414-620 414-1801 0-1178-414-1799-414-620-1199-620-784 0-1198 620-414 621-414 1799 0 1181 414 1801 414 621 1198 621z\"/></defs><use xlink:href=\"#DejaVuSans-30\"/><use x=\"63.623047\" xlink:href=\"#DejaVuSans-30\"/><use x=\"127.246094\" xlink:href=\"#DejaVuSans-30\"/></g><use x=\"135.408239\" y=\"284.4\" fill=\"#343a3f\" stroke=\"#343a3f\" stroke-width=\".8\" xlink:href=\"#m3fc9143e20\"/><g transform=\"translate(134.47 320.15) rotate(-70) scale(.14 -.14)\" fill=\"#343a3f\"><defs><path id=\"DejaVuSans-31\" transform=\"scale(.015625)\" d=\"m794 531h1031v3560l-1122-225v575l1116 225h631v-4135h1031v-531h-2687v531z\"/></defs><use xlink:href=\"#DejaVuSans-30\"/><use x=\"63.623047\" xlink:href=\"#DejaVuSans-30\"/><use x=\"127.246094\" xlink:href=\"#DejaVuSans-31\"/></g><use x=\"182.753693\" y=\"284.4\" fill=\"#343a3f\" stroke=\"#343a3f\" stroke-width=\".8\" xlink:href=\"#m3fc9143e20\"/><g transform=\"translate(181.81 320.15) rotate(-70) scale(.14 -.14)\" fill=\"#343a3f\"><use xlink:href=\"#DejaVuSans-30\"/><use x=\"63.623047\" xlink:href=\"#DejaVuSans-31\"/><use x=\"127.246094\" xlink:href=\"#DejaVuSans-30\"/></g><use x=\"230.099148\" y=\"284.4\" fill=\"#343a3f\" stroke=\"#343a3f\" stroke-width=\".8\" xlink:href=\"#m3fc9143e20\"/><g transform=\"translate(229.16 320.15) rotate(-70) scale(.14 -.14)\" fill=\"#343a3f\"><use xlink:href=\"#DejaVuSans-30\"/><use x=\"63.623047\" xlink:href=\"#DejaVuSans-31\"/><use x=\"127.246094\" xlink:href=\"#DejaVuSans-31\"/></g><use x=\"277.444602\" y=\"284.4\" fill=\"#343a3f\" stroke=\"#343a3f\" stroke-width=\".8\" xlink:href=\"#m3fc9143e20\"/><g transform=\"translate(276.5 320.15) rotate(-70) scale(.14 -.14)\" fill=\"#343a3f\"><use xlink:href=\"#DejaVuSans-31\"/><use x=\"63.623047\" xlink:href=\"#DejaVuSans-30\"/><use x=\"127.246094\" xlink:href=\"#DejaVuSans-30\"/></g><use x=\"324.790057\" y=\"284.4\" fill=\"#343a3f\" stroke=\"#343a3f\" stroke-width=\".8\" xlink:href=\"#m3fc9143e20\"/><g transform=\"translate(323.85 320.15) rotate(-70) scale(.14 -.14)\" fill=\"#343a3f\"><use xlink:href=\"#DejaVuSans-31\"/><use x=\"63.623047\" xlink:href=\"#DejaVuSans-30\"/><use x=\"127.246094\" xlink:href=\"#DejaVuSans-31\"/></g><use x=\"372.135511\" y=\"284.4\" fill=\"#343a3f\" stroke=\"#343a3f\" stroke-width=\".8\" xlink:href=\"#m3fc9143e20\"/><g transform=\"translate(371.2 320.15) rotate(-70) scale(.14 -.14)\" fill=\"#343a3f\"><use xlink:href=\"#DejaVuSans-31\"/><use x=\"63.623047\" xlink:href=\"#DejaVuSans-31\"/><use x=\"127.246094\" xlink:href=\"#DejaVuSans-30\"/></g><use x=\"419.480966\" y=\"284.4\" fill=\"#343a3f\" stroke=\"#343a3f\" stroke-width=\".8\" xlink:href=\"#m3fc9143e20\"/><g transform=\"translate(418.54 320.15) rotate(-70) scale(.14 -.14)\" fill=\"#343a3f\"><use xlink:href=\"#DejaVuSans-31\"/><use x=\"63.623047\" xlink:href=\"#DejaVuSans-31\"/><use x=\"127.246094\" xlink:href=\"#DejaVuSans-31\"/></g><path d=\"m58.472 284.4h390.6\" clip-path=\"url(#p180581898c)\" fill=\"none\" stroke=\"#dde1e6\" stroke-dasharray=\"2.96,1.28\" stroke-width=\".8\"/><defs><path id=\"ma868a3868a\" d=\"m0 0h-3.5\" stroke=\"#343a3f\" stroke-width=\".8\"/></defs><use x=\"58.471875\" y=\"284.4\" fill=\"#343a3f\" stroke=\"#343a3f\" stroke-width=\".8\" xlink:href=\"#ma868a3868a\"/><g transform=\"translate(42.564 289.72) scale(.14 -.14)\" fill=\"#343a3f\"><use xlink:href=\"#DejaVuSans-30\"/></g><path d=\"m58.472 216.75h390.6\" clip-path=\"url(#p180581898c)\" fill=\"none\" stroke=\"#dde1e6\" stroke-dasharray=\"2.96,1.28\" stroke-width=\".8\"/><use x=\"58.471875\" y=\"216.748993\" fill=\"#343a3f\" stroke=\"#343a3f\" stroke-width=\".8\" xlink:href=\"#ma868a3868a\"/><g transform=\"translate(33.657 222.07) scale(.14 -.14)\" fill=\"#343a3f\"><defs><path id=\"DejaVuSans-38\" transform=\"scale(.015625)\" d=\"m2034 2216q-450 0-708-241-257-241-257-662 0-422 257-663 258-241 708-241t709 242q260 243 260 662 0 421-258 662-257 241-711 241zm-631 268q-406 100-633 378-226 279-226 679 0 559 398 884 399 325 1092 325 697 0 1094-325t397-884q0-400-227-679-226-278-629-378 456-106 710-416 255-309 255-755 0-679-414-1042-414-362-1186-362-771 0-1186 362-414 363-414 1042 0 446 256 755 257 310 713 416zm-231 997q0-362 226-565 227-203 636-203 407 0 636 203 230 203 230 565 0 363-230 566-229 203-636 203-409 0-636-203-226-203-226-566z\"/></defs><use xlink:href=\"#DejaVuSans-38\"/><use x=\"63.623047\" xlink:href=\"#DejaVuSans-30\"/></g><path d=\"m58.472 149.1h390.6\" clip-path=\"url(#p180581898c)\" fill=\"none\" stroke=\"#dde1e6\" stroke-dasharray=\"2.96,1.28\" stroke-width=\".8\"/><use x=\"58.471875\" y=\"149.097987\" fill=\"#343a3f\" stroke=\"#343a3f\" stroke-width=\".8\" xlink:href=\"#ma868a3868a\"/><g transform=\"translate(24.749 154.42) scale(.14 -.14)\" fill=\"#343a3f\"><defs><path id=\"DejaVuSans-36\" transform=\"scale(.015625)\" d=\"m2113 2584q-425 0-674-291-248-290-248-796 0-503 248-796 249-292 674-292t673 292q248 293 248 796 0 506-248 796-248 291-673 291zm1253 1979v-575q-238 112-480 171-242 60-480 60-625 0-955-422-329-422-376-1275 184 272 462 417 279 145 613 145 703 0 1111-427 408-426 408-1160 0-719-425-1154-425-434-1131-434-810 0-1238 620-428 621-428 1799 0 1106 525 1764t1409 658q238 0 480-47t505-140z\"/></defs><use xlink:href=\"#DejaVuSans-31\"/><use x=\"63.623047\" xlink:href=\"#DejaVuSans-36\"/><use x=\"127.246094\" xlink:href=\"#DejaVuSans-30\"/></g><path d=\"m58.472 81.447h390.6\" clip-path=\"url(#p180581898c)\" fill=\"none\" stroke=\"#dde1e6\" stroke-dasharray=\"2.96,1.28\" stroke-width=\".8\"/><use x=\"58.471875\" y=\"81.44698\" fill=\"#343a3f\" stroke=\"#343a3f\" stroke-width=\".8\" xlink:href=\"#ma868a3868a\"/><g transform=\"translate(24.749 86.766) scale(.14 -.14)\" fill=\"#343a3f\"><defs><path id=\"DejaVuSans-32\" transform=\"scale(.015625)\" d=\"m1228 531h2203v-531h-2962v531q359 372 979 998 621 627 780 809 303 340 423 576 121 236 121 464 0 372-261 606-261 235-680 235-297 0-627-103-329-103-704-313v638q381 153 712 231 332 78 607 78 725 0 1156-363 431-362 431-968 0-288-108-546-107-257-392-607-78-91-497-524-418-433-1181-1211z\"/><path id=\"DejaVuSans-34\" transform=\"scale(.015625)\" d=\"m2419 4116-1594-2491h1594v2491zm-166 550h794v-3041h666v-525h-666v-1100h-628v1100h-2106v609l1940 2957z\"/></defs><use xlink:href=\"#DejaVuSans-32\"/><use x=\"63.623047\" xlink:href=\"#DejaVuSans-34\"/><use x=\"127.246094\" xlink:href=\"#DejaVuSans-30\"/></g><path d=\"m58.472 13.796h390.6\" clip-path=\"url(#p180581898c)\" fill=\"none\" stroke=\"#dde1e6\" stroke-dasharray=\"2.96,1.28\" stroke-width=\".8\"/><use x=\"58.471875\" y=\"13.795973\" fill=\"#343a3f\" stroke=\"#343a3f\" stroke-width=\".8\" xlink:href=\"#ma868a3868a\"/><g transform=\"translate(24.749 19.115) scale(.14 -.14)\" fill=\"#343a3f\"><defs><path id=\"DejaVuSans-33\" transform=\"scale(.015625)\" d=\"m2597 2516q453-97 707-404 255-306 255-756 0-690-475-1069-475-378-1350-378-293 0-604 58t-642 174v609q262-153 574-231 313-78 654-78 593 0 904 234t311 681q0 413-289 645-289 233-804 233h-544v519h569q465 0 712 186t247 536q0 359-255 551-254 193-729 193-260 0-557-57-297-56-653-174v562q360 100 674 150t592 50q719 0 1137-327 419-326 419-882 0-388-222-655t-631-370z\"/></defs><use xlink:href=\"#DejaVuSans-33\"/><use x=\"63.623047\" xlink:href=\"#DejaVuSans-32\"/><use x=\"127.246094\" xlink:href=\"#DejaVuSans-30\"/></g><g transform=\"translate(17.838 166.59) rotate(-90) scale(.14 -.14)\" fill=\"#343a3f\"><defs><path id=\"DejaVuSans-43\" transform=\"scale(.015625)\" d=\"m4122 4306v-665q-319 297-680 443-361 147-767 147-800 0-1225-489t-425-1414q0-922 425-1411t1225-489q406 0 767 147t680 444v-660q-331-225-702-338-370-112-782-112-1060 0-1670 648-609 649-609 1771 0 1125 609 1773 610 649 1670 649 418 0 788-111 371-111 696-333z\"/><path id=\"DejaVuSans-6f\" transform=\"scale(.015625)\" d=\"m1959 3097q-462 0-731-361t-269-989 267-989q268-361 733-361 460 0 728 362 269 363 269 988 0 622-269 986-268 364-728 364zm0 487q750 0 1178-488 429-487 429-1349 0-859-429-1349-428-489-1178-489-753 0-1180 489-426 490-426 1349 0 862 426 1349 427 488 1180 488z\"/><path id=\"DejaVuSans-75\" transform=\"scale(.015625)\" d=\"m544 1381v2119h575v-2097q0-497 193-746 194-248 582-248 465 0 735 297 271 297 271 810v1984h575v-3500h-575v538q-209-319-486-474-276-155-642-155-603 0-916 375-312 375-312 1097zm1447 2203z\"/><path id=\"DejaVuSans-6e\" transform=\"scale(.015625)\" d=\"m3513 2113v-2113h-575v2094q0 497-194 743-194 247-581 247-466 0-735-297-269-296-269-809v-1978h-578v3500h578v-544q207 316 486 472 280 156 646 156 603 0 912-373 310-373 310-1098z\"/><path id=\"DejaVuSans-74\" transform=\"scale(.015625)\" d=\"m1172 4494v-994h1184v-447h-1184v-1900q0-428 117-550t477-122h590v-481h-590q-666 0-919 248-253 249-253 905v1900h-422v447h422v994h578z\"/></defs><use xlink:href=\"#DejaVuSans-43\"/><use x=\"69.824219\" xlink:href=\"#DejaVuSans-6f\"/><use x=\"131.005859\" xlink:href=\"#DejaVuSans-75\"/><use x=\"194.384766\" xlink:href=\"#DejaVuSans-6e\"/><use x=\"257.763672\" xlink:href=\"#DejaVuSans-74\"/></g><path d=\"m76.226 284.4h23.673v-241.01h-23.673z\" clip-path=\"url(#p180581898c)\" fill=\"#648fff\"/><path d=\"m123.57 284.4h23.673v-22.832h-23.673z\" clip-path=\"url(#p180581898c)\" fill=\"#648fff\"/><path d=\"m170.92 284.4h23.673v-27.906h-23.673z\" clip-path=\"url(#p180581898c)\" fill=\"#648fff\"/><path d=\"m218.26 284.4h23.673v-246.93h-23.673z\" clip-path=\"url(#p180581898c)\" fill=\"#648fff\"/><path d=\"m265.61 284.4h23.673v-21.141h-23.673z\" clip-path=\"url(#p180581898c)\" fill=\"#648fff\"/><path d=\"m312.95 284.4h23.673v-252h-23.673z\" clip-path=\"url(#p180581898c)\" fill=\"#648fff\"/><path d=\"m360.3 284.4h23.673v-21.141h-23.673z\" clip-path=\"url(#p180581898c)\" fill=\"#648fff\"/><path d=\"m407.64 284.4h23.673v-32.98h-23.673z\" clip-path=\"url(#p180581898c)\" fill=\"#648fff\"/><path d=\"m58.472 284.4v-277.2\" fill=\"none\" stroke=\"#343a3f\" stroke-linecap=\"square\" stroke-width=\".8\"/><path d=\"m58.472 284.4h390.6\" fill=\"none\" stroke=\"#343a3f\" stroke-linecap=\"square\" stroke-width=\".8\"/><g transform=\"translate(78.519 29.263) scale(.1 -.1)\" fill=\"#343a3f\"><defs><path id=\"DejaVuSans-35\" transform=\"scale(.015625)\" d=\"m691 4666h2478v-532h-1900v-1143q137 47 274 70 138 23 276 23 781 0 1237-428 457-428 457-1159 0-753-469-1171-469-417-1322-417-294 0-599 50-304 50-629 150v635q281-153 581-228t634-75q541 0 856 284 316 284 316 772 0 487-316 771-315 285-856 285-253 0-505-56-251-56-513-175v2344z\"/></defs><use xlink:href=\"#DejaVuSans-32\"/><use x=\"63.623047\" xlink:href=\"#DejaVuSans-38\"/><use x=\"127.246094\" xlink:href=\"#DejaVuSans-35\"/></g><g transform=\"translate(129.05 258.35) scale(.1 -.1)\" fill=\"#343a3f\"><defs><path id=\"DejaVuSans-37\" transform=\"scale(.015625)\" d=\"m525 4666h3e3v-269l-1694-4397h-659l1594 4134h-2241v532z\"/></defs><use xlink:href=\"#DejaVuSans-32\"/><use x=\"63.623047\" xlink:href=\"#DejaVuSans-37\"/></g><g transform=\"translate(176.39 253.02) scale(.1 -.1)\" fill=\"#343a3f\"><use xlink:href=\"#DejaVuSans-33\"/><use x=\"63.623047\" xlink:href=\"#DejaVuSans-33\"/></g><g transform=\"translate(220.56 23.048) scale(.1 -.1)\" fill=\"#343a3f\"><defs><path id=\"DejaVuSans-39\" transform=\"scale(.015625)\" d=\"m703 97v575q238-113 481-172 244-59 479-59 625 0 954 420 330 420 377 1277-181-269-460-413-278-144-615-144-700 0-1108 423-408 424-408 1159 0 718 425 1152 425 435 1131 435 810 0 1236-621 427-620 427-1801 0-1103-524-1761-523-658-1407-658-238 0-482 47-243 47-506 141zm1256 1978q425 0 673 290 249 291 249 798 0 503-249 795-248 292-673 292t-673-292-248-795q0-507 248-798 248-290 673-290z\"/></defs><use xlink:href=\"#DejaVuSans-32\"/><use x=\"63.623047\" xlink:href=\"#DejaVuSans-39\"/><use x=\"127.246094\" xlink:href=\"#DejaVuSans-32\"/></g><g transform=\"translate(271.08 260.12) scale(.1 -.1)\" fill=\"#343a3f\"><use xlink:href=\"#DejaVuSans-32\"/><use x=\"63.623047\" xlink:href=\"#DejaVuSans-35\"/></g><g transform=\"translate(315.25 17.72) scale(.1 -.1)\" fill=\"#343a3f\"><use xlink:href=\"#DejaVuSans-32\"/><use x=\"63.623047\" xlink:href=\"#DejaVuSans-39\"/><use x=\"127.246094\" xlink:href=\"#DejaVuSans-38\"/></g><g transform=\"translate(365.77 260.12) scale(.1 -.1)\" fill=\"#343a3f\"><use xlink:href=\"#DejaVuSans-32\"/><use x=\"63.623047\" xlink:href=\"#DejaVuSans-35\"/></g><g transform=\"translate(413.12 247.69) scale(.1 -.1)\" fill=\"#343a3f\"><use xlink:href=\"#DejaVuSans-33\"/><use x=\"63.623047\" xlink:href=\"#DejaVuSans-39\"/></g><defs><clipPath id=\"p180581898c\"><rect x=\"58.472\" y=\"7.2\" width=\"390.6\" height=\"277.2\"/></clipPath></defs></svg>"
      ],
      "text/plain": [
       "<Figure size 700x500 with 1 Axes>"
      ]
     },
     "execution_count": 6,
     "metadata": {},
     "output_type": "execute_result"
    }
   ],
   "source": [
    "# Simulate the circuit\n",
    "from qiskit import Aer, transpile\n",
    "sim = Aer.get_backend('aer_simulator')\n",
    "t_qc = transpile(qc, sim)\n",
    "counts = sim.run(t_qc).result().get_counts()\n",
    "\n",
    "# plot the results\n",
    "from qiskit.visualization import plot_histogram\n",
    "plot_histogram(counts)"
   ]
  },
  {
   "cell_type": "markdown",
   "metadata": {},
   "source": [
    "We have a high probability of measuring one of the 3 solutions to the SAT problem.\n",
    "\n",
    "<!-- ::: q-block.exercise -->\n",
    "\n",
    "### Quick quiz\n",
    "\n",
    "<!-- ::: q-quiz(goal=\"intro-grover-3\") -->\n",
    "\n",
    "<!-- ::: .question -->\n",
    "\n",
    "Which of these bit strings is a solution to the SAT problem solved by this quantum circuit?\n",
    "\n",
    "<!-- ::: -->\n",
    "\n",
    "<!-- ::: .option(correct) -->\n",
    "\n",
    "1. `011`\n",
    "\n",
    "<!-- ::: -->\n",
    "\n",
    "<!-- ::: .option -->\n",
    "\n",
    "2. `001`\n",
    "\n",
    "<!-- ::: -->\n",
    "\n",
    "<!-- ::: .option -->\n",
    "\n",
    "3. `010`\n",
    "\n",
    "<!-- ::: -->\n",
    "\n",
    "<!-- ::: .option -->\n",
    "\n",
    "3. `110`\n",
    "\n",
    "<!-- ::: -->\n",
    "\n",
    "<!-- ::: -->\n",
    "\n",
    "<!-- ::: -->"
   ]
  },
  {
   "cell_type": "markdown",
   "metadata": {},
   "source": [
    "## How does Grover's algorithm work?\n",
    "\n",
    "We’ve learnt about search problems, and seen Grover’s algorithm used to solve one. But how, and why, does this work?\n",
    "\n",
    "<!-- ::: q-block -->\n",
    "\n",
    "### Visualising Grover's algorithm\n",
    "\n",
    "<!-- ::: q-carousel -->\n",
    "\n",
    "<!-- ::: div -->\n",
    "\n",
    "Grover’s algorithm has a nice geometric explanation. We’ve seen that we can represent quantum states through vectors. With search problems like these, there are only two vectors we care about: The solutions, and everything else. We'll call the superposition of all solution states '$|✓\\rangle$', so for the SAT problem above:\n",
    "\n",
    "$$|✓\\rangle = \\tfrac{1}{\\sqrt{3}}(|000\\rangle + |011\\rangle + |101\\rangle)$$\n",
    "\n",
    "and we'll call the superposition of every other state '$|✗\\rangle$':\n",
    "\n",
    "$$|✗\\rangle = \\tfrac{1}{\\sqrt{5}}(|001\\rangle + |010\\rangle + |100\\rangle + |110\\rangle + |111\\rangle)$$\n",
    "\n",
    "<!-- ::: -->\n",
    "\n",
    "<!-- ::: div -->\n",
    "\n",
    "**The plane**\n",
    "\n",
    "![Image showing a |omega> and |s prime> as the y and x axis of a 2D space](images/grover/carousel/1/0.svg)\n",
    "\n",
    "Since the two vectors $|✓\\rangle$ and $|✗\\rangle$ don't share any elements, they are perpendicular, so we can draw them at right angles on a 2D plane. These will be our y- and x-axes, respectively.\n",
    "\n",
    "<!-- ::: -->\n",
    "\n",
    "<!-- ::: div -->\n",
    "\n",
    "**Step 1**\n",
    "\n",
    "![Image showing a |omega> and |s prime> as the y and x axis of a 2D space](images/grover/carousel/1/1.svg)\n",
    "\n",
    "Let's plot the states of our quantum computer on this plane at different points in the algorithm. The first state we'll plot is $|s\\rangle$. This is the state _after_ step 1 (the initialisation step). This state is an equal superposition of all computational basis states. Since any possible state is either a solution or not a solution, we can write $|s\\rangle$ as some combination of $|✓\\rangle$ and $|✗\\rangle$, so it sits between them on the our plane.\n",
    "\n",
    "$$|s\\rangle = a|✗\\rangle + b|✓\\rangle$$\n",
    "\n",
    "<!-- ::: -->\n",
    "\n",
    "<!-- ::: div -->\n",
    "\n",
    "**Step 1**\n",
    "\n",
    "![Image showing |s> on the |omega> / |s-prime> plane](images/grover/carousel/1/1.svg)\n",
    "\n",
    "For difficult problems, we'd expect there to be lots of possible inputs, but only a small number of solutions. In this case, $|s\\rangle$ would be much closer to $|✗\\rangle$ than $|✓\\rangle$ (i.e. the angle, $\\theta$, between them is small), so it's unlikely that measuring would give one of the computational basis states that make up $|✓\\rangle$. Our goal is to end up with the computer in a state as close to $|✓\\rangle$ as possible.\n",
    "\n",
    "<!-- ::: -->\n",
    "\n",
    "<!-- ::: div -->\n",
    "\n",
    "**Step 2**\n",
    "\n",
    "![Image showing U_omega|s> on the |omega> / |s-prime> plane](images/grover/carousel/1/2.svg)\n",
    "\n",
    "Next we pass our qubits through the circuit $U_\\text{oracle}$. We saw above that, by definition, $U_\\text{oracle}$ flips the phase of all solution states. In our diagram, this is a reflection through the vector $|✗\\rangle$. I.e.:\n",
    "\n",
    "$$a|✗\\rangle + b|✓\\rangle \\xrightarrow{\\text{oracle}} a|✗\\rangle - b|✓\\rangle$$\n",
    "\n",
    "<!-- ::: -->\n",
    "\n",
    "<!-- ::: div -->\n",
    "\n",
    "**Step 3**\n",
    "\n",
    "![Image showing U_omega|s> on the |omega> / |s-prime> plane](images/grover/carousel/1/2.svg)\n",
    "\n",
    "We've just seen that we can reflect through the vector $|✗\\rangle$, so is there another vector could we reflect through that would move our state closer to $|✓\\rangle$? The answer is 'yes', we can reflect through the vector $|s\\rangle$. It may not be obvious at first how we can create a circuit that does this, but it's a relatively simple operation that we'll cover later in this page.\n",
    "\n",
    "<!-- ::: -->\n",
    "\n",
    "<!-- ::: div -->\n",
    "\n",
    "**Finish (or repeat)**\n",
    "\n",
    "![Image showing U_omega|s> on the |omega> / |s-prime> plane](images/grover/carousel/1/3.svg)\n",
    "\n",
    "Now our state vector is closer to $|✓\\rangle$ than before, which means we have a higher chance of measuring one of our solution states. If there is only one solution, we need to repeat steps 2 & 3 ~$\\sqrt{N}$ times to have the highest probability of measuring that solution.\n",
    "\n",
    "<!-- ::: -->\n",
    "\n",
    "<!-- ::: -->\n",
    "\n",
    "<!-- ::: -->"
   ]
  },
  {
   "cell_type": "markdown",
   "metadata": {},
   "source": [
    "<!-- ::: q-block -->\n",
    "\n",
    "### How many times do we need to query the oracle?\n",
    "\n",
    "<!-- ::: q-carousel -->\n",
    "\n",
    "<!-- ::: div -->\n",
    "\n",
    "![Image showing a |omega> and |s prime> as the y and x axis of a 2D space](images/grover/carousel/2/0.svg)\n",
    "\n",
    "To work this out, we'll have to work how much each iteration rotates our state towards $|✓\\rangle$. Let's say we're somewhere in the middle of our algorithm, the state of our computer ($|\\psi\\rangle$) is an angle $\\phi$ from the starting state $|s\\rangle$. The angle between $|\\psi\\rangle$ and $|✗\\rangle$ is $\\theta + \\phi$.\n",
    "\n",
    "<!-- ::: -->\n",
    "\n",
    "<!-- ::: div -->\n",
    "\n",
    "![Image showing a |omega> and |s prime> as the y and x axis of a 2D space](images/grover/carousel/2/1.svg)\n",
    "\n",
    "The oracle reflects the state vector of our computer around $|✗\\rangle$, so the angle between our new, reflected state vector ($|\\psi'\\rangle$) and $|✗\\rangle$ will also be $\\theta + \\phi$.\n",
    "\n",
    "<!-- ::: -->\n",
    "\n",
    "<!-- ::: div -->\n",
    "\n",
    "![Image showing |s> on the |omega> / |s-prime> plane](images/grover/carousel/2/2.svg)\n",
    "\n",
    "Next we reflect through $|s\\rangle$. The angle between the state of our computer ($|\\psi'\\rangle$) and $|s\\rangle$ is $2\\theta + \\phi$.\n",
    "\n",
    "<!-- ::: -->\n",
    "\n",
    "<!-- ::: div -->\n",
    "\n",
    "![Image showing U_omega|s> on the |omega> / |s-prime> plane](images/grover/carousel/2/3.svg)\n",
    "\n",
    "So, after one iteration, we know the angle between the state of our computer and $|s\\rangle$ is also $2\\theta + \\phi$.\n",
    "\n",
    "<!-- ::: -->\n",
    "\n",
    "<!-- ::: div -->\n",
    "\n",
    "![Image showing U_omega|s> on the |omega> / |s-prime> plane](images/grover/carousel/2/4.svg)\n",
    "\n",
    "Which means each iteration rotates the state of our computer towards $|✓\\rangle$ by $2\\theta$.\n",
    "\n",
    "<!-- ::: -->\n",
    "\n",
    "<!-- ::: div -->\n",
    "\n",
    "![Image showing U_omega|s> on the |omega> / |s-prime> plane](images/grover/carousel/2/5.svg)\n",
    "\n",
    "Now we just need to work out how many lots of $2\\theta$ fit into a right angle, and this will be roughly the number of iterations needed to rotate $|s\\rangle$ into $|✓\\rangle$.\n",
    "\n",
    "<!-- ::: -->\n",
    "\n",
    "<!-- ::: div -->\n",
    "\n",
    "![Image showing U_omega|s> on the |omega> / |s-prime> plane](images/grover/carousel/2/6.svg)\n",
    "\n",
    "So what's the angle $\\theta$ in terms of $N$? With a bit of trigonometry, we know that $\\sin(\\theta)$ is equal to the $|✓\\rangle$ component of $|s\\rangle$, divided by the length of $|s\\rangle$ (which is 1). If there's only one solution state, then $|s\\rangle = \\tfrac{1}{\\sqrt{N}}(|0\\rangle + |1\\rangle \\dots + |✓\\rangle \\dots + |N-1\\rangle)$. So $\\sin(\\theta) = \\tfrac{1}{\\sqrt{N}}$.\n",
    "\n",
    "<!-- ::: -->\n",
    "\n",
    "<!-- ::: div -->\n",
    "\n",
    "![Image showing U_omega|s> on the |omega> / |s-prime> plane](images/grover/carousel/2/7.svg)\n",
    "\n",
    "Finally, for difficult problems, $\\theta$ will be very small, which means we can use the small angle approximation to say $\\theta \\approx \\tfrac{1}{\\sqrt{N}}$ radians.\n",
    "\n",
    "<!-- ::: -->\n",
    "\n",
    "<!-- ::: div -->\n",
    "\n",
    "![Image showing U_omega|s> on the |omega> / |s-prime> plane](images/grover/carousel/2/8.svg)\n",
    "\n",
    "Since, for small $\\theta$, we want to rotate $|s\\rangle$ around $\\pi/2$ radians, this means we need to do roughly $\\tfrac{\\pi}{2}\\div\\tfrac{2}{\\sqrt{N}} = \\tfrac{\\pi}{4}\\sqrt{N}$ iterations. Since we query the oracle once per iteration, the number of oracle queries needed is proportional to $\\sqrt{N}$, if there is exactly one solution.\n",
    "\n",
    "<!-- ::: -->\n",
    "\n",
    "<!-- ::: -->\n",
    "\n",
    "<!-- ::: -->"
   ]
  },
  {
   "cell_type": "markdown",
   "metadata": {},
   "source": [
    "<!-- ::: q-block.exercise -->\n",
    "\n",
    "### Quick quiz\n",
    "\n",
    "<!-- ::: q-quiz(goal=\"intro-grover-4\") -->\n",
    "\n",
    "<!-- ::: .question -->\n",
    "\n",
    "For an oracle with many possible inputs and exactly one solution, $\\theta \\approx \\tfrac{1}{\\sqrt{N}}$. What approximate value would $\\theta$ have if there were _two_ solutions?\n",
    "\n",
    "<!-- ::: -->\n",
    "\n",
    "<!-- ::: .option -->\n",
    "\n",
    "1. $\\theta \\approx \\tfrac{2}{\\sqrt{N}}$\n",
    "\n",
    "<!-- ::: -->\n",
    "\n",
    "<!-- ::: .option(correct) -->\n",
    "\n",
    "2. $\\theta \\approx \\tfrac{\\sqrt{2}}{\\sqrt{N}}$\n",
    "\n",
    "<!-- ::: -->\n",
    "\n",
    "<!-- ::: .option -->\n",
    "\n",
    "3. $\\theta \\approx \\tfrac{1}{\\sqrt{2N}}$\n",
    "\n",
    "<!-- ::: -->\n",
    "\n",
    "<!-- ::: -->\n",
    "\n",
    "<!-- ::: -->"
   ]
  },
  {
   "cell_type": "markdown",
   "metadata": {},
   "source": [
    "## Circuits for Grover's algorithm\n",
    "\n",
    "To round off the chapter, we’ll create a simple circuit from scratch that implements Grover’s algorithm, and show it works. We’ll use two qubits, and we’ll start by creating an oracle circuit."
   ]
  },
  {
   "cell_type": "code",
   "execution_count": 7,
   "metadata": {},
   "outputs": [],
   "source": [
    "from qiskit import QuantumCircuit"
   ]
  },
  {
   "cell_type": "markdown",
   "metadata": {},
   "source": [
    "### The oracle\n",
    "\n",
    "To keep things simple, we're not going to solve a real problem here. For this demonstration, we'll create a circuit that flips the phase of the state $|11\\rangle$ and leaves everything else unchanged. Fortunately, we already know of a two-qubit gate that does exactly that!"
   ]
  },
  {
   "cell_type": "code",
   "execution_count": 8,
   "metadata": {},
   "outputs": [
    {
     "data": {
      "image/svg+xml": [
       "<?xml version=\"1.0\" encoding=\"UTF-8\"?><!DOCTYPE svg  PUBLIC '-//W3C//DTD SVG 1.1//EN'  'http://www.w3.org/Graphics/SVG/1.1/DTD/svg11.dtd'><svg width=\"127.32pt\" height=\"125.65pt\" version=\"1.1\" viewBox=\"0 0 127.32 125.65\" xmlns=\"http://www.w3.org/2000/svg\" xmlns:xlink=\"http://www.w3.org/1999/xlink\"><defs><style type=\"text/css\">*{stroke-linejoin: round; stroke-linecap: butt}</style></defs><path d=\"m-0 125.65h127.32v-125.65h-127.32z\" fill=\"#ffffff\"/><path d=\"m64.497 44.283h50.989\" clip-path=\"url(#p194beeb364)\" fill=\"none\" stroke=\"#000000\" stroke-linecap=\"square\" stroke-width=\"2\"/><path d=\"m64.497 90.637h50.989\" clip-path=\"url(#p194beeb364)\" fill=\"none\" stroke=\"#000000\" stroke-linecap=\"square\" stroke-width=\"2\"/><path d=\"m89.528 90.637v-46.354\" clip-path=\"url(#p194beeb364)\" fill=\"none\" stroke=\"#1192e8\" stroke-linecap=\"square\" stroke-width=\"2\"/><path d=\"m89.528 90.637v-46.354\" clip-path=\"url(#p194beeb364)\" fill=\"none\" stroke=\"#1192e8\" stroke-linecap=\"square\" stroke-width=\"2\"/><path d=\"m89.528 48.803c1.1986 0 2.3482-0.4762 3.1958-1.3237s1.3237-1.9972 1.3237-3.1958c0-1.1986-0.4762-2.3482-1.3237-3.1958s-1.9972-1.3237-3.1958-1.3237c-1.1986 0-2.3482 0.4762-3.1958 1.3237-0.84753 0.84753-1.3237 1.9972-1.3237 3.1958 0 1.1986 0.4762 2.3482 1.3237 3.1958 0.84753 0.84753 1.9972 1.3237 3.1958 1.3237z\" clip-path=\"url(#p194beeb364)\" fill=\"#1192e8\" stroke=\"#1192e8\" stroke-width=\"1.5\"/><path d=\"m89.528 95.157c1.1986 0 2.3482-0.4762 3.1958-1.3237 0.84753-0.84753 1.3237-1.9972 1.3237-3.1958s-0.4762-2.3482-1.3237-3.1958c-0.84753-0.84753-1.9972-1.3237-3.1958-1.3237-1.1986 0-2.3482 0.4762-3.1958 1.3237-0.84753 0.84753-1.3237 1.9972-1.3237 3.1958s0.4762 2.3482 1.3237 3.1958c0.84753 0.84753 1.9972 1.3237 3.1958 1.3237z\" clip-path=\"url(#p194beeb364)\" fill=\"#1192e8\" stroke=\"#1192e8\" stroke-width=\"1.5\"/><g clip-path=\"url(#p194beeb364)\"><g transform=\"translate(37.189 48.734) scale(.1625 -.1625)\"><defs><path id=\"DejaVuSans-Oblique-71\" transform=\"scale(.015625)\" d=\"m2669 525q-231-303-546-460-314-156-695-156-531 0-833 358-301 358-301 986 0 506 186 978t533 847q225 244 517 375t614 131q387 0 637-153t363-462l100 525h578l-934-4813h-579l360 1844zm-1778 813q0-463 193-705 194-242 560-242 544 0 928 520t384 1264q0 450-199 689-198 239-569 239-272 0-504-127-231-126-403-370-181-256-286-600-104-343-104-668z\"/><path id=\"DejaVuSans-30\" transform=\"scale(.015625)\" d=\"m2034 4250q-487 0-733-480-245-479-245-1442 0-959 245-1439 246-480 733-480 491 0 736 480 246 480 246 1439 0 963-246 1442-245 480-736 480zm0 500q785 0 1199-621 414-620 414-1801 0-1178-414-1799-414-620-1199-620-784 0-1198 620-414 621-414 1799 0 1181 414 1801 414 621 1198 621z\"/></defs><use xlink:href=\"#DejaVuSans-Oblique-71\"/><use transform=\"translate(63.477 -16.406) scale(.7)\" xlink:href=\"#DejaVuSans-30\"/></g></g><g clip-path=\"url(#p194beeb364)\"><g transform=\"translate(37.189 95.088) scale(.1625 -.1625)\"><defs><path id=\"DejaVuSans-31\" transform=\"scale(.015625)\" d=\"m794 531h1031v3560l-1122-225v575l1116 225h631v-4135h1031v-531h-2687v531z\"/></defs><use xlink:href=\"#DejaVuSans-Oblique-71\"/><use transform=\"translate(63.477 -16.406) scale(.7)\" xlink:href=\"#DejaVuSans-31\"/></g></g><defs><clipPath id=\"p194beeb364\"><rect x=\"7.2\" y=\"7.2\" width=\"112.92\" height=\"111.25\"/></clipPath></defs></svg>"
      ],
      "text/plain": [
       "<Figure size 203.683x200.667 with 1 Axes>"
      ]
     },
     "execution_count": 8,
     "metadata": {},
     "output_type": "execute_result"
    }
   ],
   "source": [
    "oracle = QuantumCircuit(2)\n",
    "oracle.cz(0,1)  # invert phase of |11>\n",
    "oracle.draw()"
   ]
  },
  {
   "cell_type": "markdown",
   "metadata": {},
   "source": [
    "Here's a short function to show the matrix representation of this circuit:"
   ]
  },
  {
   "cell_type": "code",
   "execution_count": 9,
   "metadata": {},
   "outputs": [
    {
     "data": {
      "text/latex": [
       "$$\n",
       "U_\\text{oracle}=\n",
       "\\begin{bmatrix}\n",
       "1 & 0 & 0 & 0  \\\\\n",
       " 0 & 1 & 0 & 0  \\\\\n",
       " 0 & 0 & 1 & 0  \\\\\n",
       " 0 & 0 & 0 & -1  \\\\\n",
       " \\end{bmatrix}\n",
       "$$"
      ],
      "text/plain": [
       "<IPython.core.display.Latex object>"
      ]
     },
     "metadata": {},
     "output_type": "display_data"
    }
   ],
   "source": [
    "def display_unitary(qc, prefix=\"\"):\n",
    "    \"\"\"Simulates a simple circuit and display its matrix representation.\n",
    "    Args:\n",
    "        qc (QuantumCircuit): The circuit to compile to a unitary matrix\n",
    "        prefix (str): Optional LaTeX to be displayed before the matrix\n",
    "    Returns:\n",
    "        None (displays matrix as side effect)\n",
    "    \"\"\"\n",
    "    from qiskit import Aer\n",
    "    from qiskit.visualization import array_to_latex\n",
    "    sim = Aer.get_backend('aer_simulator')\n",
    "    # Next, we'll create a copy of the circuit and work on\n",
    "    # that so we don't change anything as a side effect\n",
    "    qc = qc.copy()\n",
    "    # Tell the simulator to save the unitary matrix of this circuit\n",
    "    qc.save_unitary()\n",
    "    unitary = sim.run(qc).result().get_unitary()\n",
    "    display(array_to_latex(unitary, prefix=prefix))\n",
    "\n",
    "display_unitary(oracle, \"U_\\\\text{oracle}=\")"
   ]
  },
  {
   "cell_type": "markdown",
   "metadata": {},
   "source": [
    "<!-- ::: q-block.exercise -->\n",
    "\n",
    "### Try it\n",
    "\n",
    "Can you create 3 more oracle circuits that instead target the other 3 computational basis states ($|00\\rangle$, $|01\\rangle$ and $|10\\rangle$)? Use `display_unitary` to check your answer.\n",
    "\n",
    "_Hint:_ Try to create circuits that transform $|11\\rangle$ to and from the basis state you're targeting, can you then use these circuits with the `cz` gate?\n",
    "\n",
    "[Try in IBM Quantum Lab](https://quantum-computing.ibm.com/lab)\n",
    "\n",
    "<!-- ::: -->"
   ]
  },
  {
   "cell_type": "markdown",
   "metadata": {},
   "source": [
    "### Creating the diffuser\n",
    "\n",
    "Next we'll create a diffuser for two qubits. Remember that we want to do a reflection around the state $|s\\rangle$, so let's see if we can use the tools we already have to build a circuit that does this reflection.\n",
    "\n",
    "We've already seen that the `cz` gate does a reflection around $|11\\rangle$ (up to a global phase), so if we know the transformation that maps $|s\\rangle \\rightarrow |11\\rangle$, we can:\n",
    "1. Do the transformation $|s\\rangle \\rightarrow |11\\rangle$\n",
    "2. Reflect around $|11\\rangle$ (i.e the `cz` gate)\n",
    "3. Do the transformation $|11\\rangle \\rightarrow |s\\rangle$\n",
    "\n",
    "We know that we can create the state $|s\\rangle$ from the state $|00\\rangle$ by applying a H-gate to each qubit. Since the H-gate is its own inverse, applying H-gates to each qubit also does $|s\\rangle \\rightarrow |00\\rangle$."
   ]
  },
  {
   "cell_type": "code",
   "execution_count": 10,
   "metadata": {},
   "outputs": [
    {
     "data": {
      "image/svg+xml": [
       "<?xml version=\"1.0\" encoding=\"UTF-8\"?><!DOCTYPE svg  PUBLIC '-//W3C//DTD SVG 1.1//EN'  'http://www.w3.org/Graphics/SVG/1.1/DTD/svg11.dtd'><svg width=\"127.32pt\" height=\"125.65pt\" version=\"1.1\" viewBox=\"0 0 127.32 125.65\" xmlns=\"http://www.w3.org/2000/svg\" xmlns:xlink=\"http://www.w3.org/1999/xlink\"><defs><style type=\"text/css\">*{stroke-linejoin: round; stroke-linecap: butt}</style></defs><path d=\"m-0 125.65h127.32v-125.65h-127.32z\" fill=\"#ffffff\"/><path d=\"m64.497 44.283h50.989\" clip-path=\"url(#p5642ea09e7)\" fill=\"none\" stroke=\"#000000\" stroke-linecap=\"square\" stroke-width=\"2\"/><path d=\"m64.497 90.637h50.989\" clip-path=\"url(#p5642ea09e7)\" fill=\"none\" stroke=\"#000000\" stroke-linecap=\"square\" stroke-width=\"2\"/><path d=\"m74.463 59.348h30.13v-30.13h-30.13z\" clip-path=\"url(#p5642ea09e7)\" fill=\"#1192e8\" stroke=\"#1192e8\" stroke-width=\"1.5\"/><path d=\"m74.463 105.7h30.13v-30.13h-30.13z\" clip-path=\"url(#p5642ea09e7)\" fill=\"#1192e8\" stroke=\"#1192e8\" stroke-width=\"1.5\"/><g clip-path=\"url(#p5642ea09e7)\"><g transform=\"translate(37.189 48.734) scale(.1625 -.1625)\"><defs><path id=\"DejaVuSans-Oblique-71\" transform=\"scale(.015625)\" d=\"m2669 525q-231-303-546-460-314-156-695-156-531 0-833 358-301 358-301 986 0 506 186 978t533 847q225 244 517 375t614 131q387 0 637-153t363-462l100 525h578l-934-4813h-579l360 1844zm-1778 813q0-463 193-705 194-242 560-242 544 0 928 520t384 1264q0 450-199 689-198 239-569 239-272 0-504-127-231-126-403-370-181-256-286-600-104-343-104-668z\"/><path id=\"DejaVuSans-30\" transform=\"scale(.015625)\" d=\"m2034 4250q-487 0-733-480-245-479-245-1442 0-959 245-1439 246-480 733-480 491 0 736 480 246 480 246 1439 0 963-246 1442-245 480-736 480zm0 500q785 0 1199-621 414-620 414-1801 0-1178-414-1799-414-620-1199-620-784 0-1198 620-414 621-414 1799 0 1181 414 1801 414 621 1198 621z\"/></defs><use xlink:href=\"#DejaVuSans-Oblique-71\"/><use transform=\"translate(63.477 -16.406) scale(.7)\" xlink:href=\"#DejaVuSans-30\"/></g></g><g clip-path=\"url(#p5642ea09e7)\"><g transform=\"translate(37.189 95.088) scale(.1625 -.1625)\"><defs><path id=\"DejaVuSans-31\" transform=\"scale(.015625)\" d=\"m794 531h1031v3560l-1122-225v575l1116 225h631v-4135h1031v-531h-2687v531z\"/></defs><use xlink:href=\"#DejaVuSans-Oblique-71\"/><use transform=\"translate(63.477 -16.406) scale(.7)\" xlink:href=\"#DejaVuSans-31\"/></g></g><g clip-path=\"url(#p5642ea09e7)\"><g transform=\"translate(84.64 47.87) scale(.13 -.13)\" fill=\"#ffffff\"><defs><path id=\"DejaVuSans-48\" transform=\"scale(.015625)\" d=\"m628 4666h631v-1913h2294v1913h631v-4666h-631v2222h-2294v-2222h-631v4666z\"/></defs><use xlink:href=\"#DejaVuSans-48\"/></g></g><g clip-path=\"url(#p5642ea09e7)\"><g transform=\"translate(84.64 94.224) scale(.13 -.13)\" fill=\"#ffffff\"><use xlink:href=\"#DejaVuSans-48\"/></g></g><defs><clipPath id=\"p5642ea09e7\"><rect x=\"7.2\" y=\"7.2\" width=\"112.92\" height=\"111.25\"/></clipPath></defs></svg>"
      ],
      "text/plain": [
       "<Figure size 203.683x200.667 with 1 Axes>"
      ]
     },
     "execution_count": 10,
     "metadata": {},
     "output_type": "execute_result"
    }
   ],
   "source": [
    "diffuser = QuantumCircuit(2)\n",
    "diffuser.h([0, 1])\n",
    "diffuser.draw()"
   ]
  },
  {
   "cell_type": "markdown",
   "metadata": {},
   "source": [
    "Now we need to work out how we transform $|00\\rangle \\rightarrow |11\\rangle$.\n",
    "\n",
    "<!-- ::: q-block.exercise -->\n",
    "\n",
    "### Quick quiz\n",
    "\n",
    "<!-- ::: q-quiz(goal=\"intro-grover-5\") -->\n",
    "\n",
    "<!-- ::: .question -->\n",
    "\n",
    "Which of these gates transforms $|0\\rangle \\rightarrow |1\\rangle$?\n",
    "\n",
    "<!-- ::: -->\n",
    "\n",
    "<!-- ::: .option(correct) -->\n",
    "\n",
    "1. `x`\n",
    "\n",
    "<!-- ::: -->\n",
    "\n",
    "<!-- ::: .option -->\n",
    "\n",
    "2. `z`\n",
    "\n",
    "<!-- ::: -->\n",
    "\n",
    "<!-- ::: .option -->\n",
    "\n",
    "3. `h`\n",
    "\n",
    "<!-- ::: -->\n",
    "\n",
    "<!-- ::: .option -->\n",
    "\n",
    "3. `s`\n",
    "\n",
    "<!-- ::: -->\n",
    "\n",
    "<!-- ::: -->\n",
    "\n",
    "<!-- ::: -->"
   ]
  },
  {
   "cell_type": "markdown",
   "metadata": {},
   "source": [
    "So applying an X-gate to each qubit will do the transformation $|00\\rangle \\rightarrow |11\\rangle$. Let's do that:"
   ]
  },
  {
   "cell_type": "code",
   "execution_count": 11,
   "metadata": {},
   "outputs": [
    {
     "data": {
      "image/svg+xml": [
       "<?xml version=\"1.0\" encoding=\"UTF-8\"?><!DOCTYPE svg  PUBLIC '-//W3C//DTD SVG 1.1//EN'  'http://www.w3.org/Graphics/SVG/1.1/DTD/svg11.dtd'><svg width=\"173.68pt\" height=\"125.65pt\" version=\"1.1\" viewBox=\"0 0 173.68 125.65\" xmlns=\"http://www.w3.org/2000/svg\" xmlns:xlink=\"http://www.w3.org/1999/xlink\"><defs><style type=\"text/css\">*{stroke-linejoin: round; stroke-linecap: butt}</style></defs><path d=\"m-0 125.65h173.68v-125.65h-173.68z\" fill=\"#ffffff\"/><path d=\"m64.497 44.283h97.343\" clip-path=\"url(#pe372e88da6)\" fill=\"none\" stroke=\"#000000\" stroke-linecap=\"square\" stroke-width=\"2\"/><path d=\"m64.497 90.637h97.343\" clip-path=\"url(#pe372e88da6)\" fill=\"none\" stroke=\"#000000\" stroke-linecap=\"square\" stroke-width=\"2\"/><path d=\"m74.463 59.348h30.13v-30.13h-30.13z\" clip-path=\"url(#pe372e88da6)\" fill=\"#1192e8\" stroke=\"#1192e8\" stroke-width=\"1.5\"/><path d=\"m74.463 105.7h30.13v-30.13h-30.13z\" clip-path=\"url(#pe372e88da6)\" fill=\"#1192e8\" stroke=\"#1192e8\" stroke-width=\"1.5\"/><path d=\"m120.82 59.348h30.13v-30.13h-30.13z\" clip-path=\"url(#pe372e88da6)\" fill=\"#005d5d\" stroke=\"#005d5d\" stroke-width=\"1.5\"/><path d=\"m120.82 105.7h30.13v-30.13h-30.13z\" clip-path=\"url(#pe372e88da6)\" fill=\"#005d5d\" stroke=\"#005d5d\" stroke-width=\"1.5\"/><g clip-path=\"url(#pe372e88da6)\"><g transform=\"translate(37.189 48.734) scale(.1625 -.1625)\"><defs><path id=\"DejaVuSans-Oblique-71\" transform=\"scale(.015625)\" d=\"m2669 525q-231-303-546-460-314-156-695-156-531 0-833 358-301 358-301 986 0 506 186 978t533 847q225 244 517 375t614 131q387 0 637-153t363-462l100 525h578l-934-4813h-579l360 1844zm-1778 813q0-463 193-705 194-242 560-242 544 0 928 520t384 1264q0 450-199 689-198 239-569 239-272 0-504-127-231-126-403-370-181-256-286-600-104-343-104-668z\"/><path id=\"DejaVuSans-30\" transform=\"scale(.015625)\" d=\"m2034 4250q-487 0-733-480-245-479-245-1442 0-959 245-1439 246-480 733-480 491 0 736 480 246 480 246 1439 0 963-246 1442-245 480-736 480zm0 500q785 0 1199-621 414-620 414-1801 0-1178-414-1799-414-620-1199-620-784 0-1198 620-414 621-414 1799 0 1181 414 1801 414 621 1198 621z\"/></defs><use xlink:href=\"#DejaVuSans-Oblique-71\"/><use transform=\"translate(63.477 -16.406) scale(.7)\" xlink:href=\"#DejaVuSans-30\"/></g></g><g clip-path=\"url(#pe372e88da6)\"><g transform=\"translate(37.189 95.088) scale(.1625 -.1625)\"><defs><path id=\"DejaVuSans-31\" transform=\"scale(.015625)\" d=\"m794 531h1031v3560l-1122-225v575l1116 225h631v-4135h1031v-531h-2687v531z\"/></defs><use xlink:href=\"#DejaVuSans-Oblique-71\"/><use transform=\"translate(63.477 -16.406) scale(.7)\" xlink:href=\"#DejaVuSans-31\"/></g></g><g clip-path=\"url(#pe372e88da6)\"><g transform=\"translate(84.64 47.87) scale(.13 -.13)\" fill=\"#ffffff\"><defs><path id=\"DejaVuSans-48\" transform=\"scale(.015625)\" d=\"m628 4666h631v-1913h2294v1913h631v-4666h-631v2222h-2294v-2222h-631v4666z\"/></defs><use xlink:href=\"#DejaVuSans-48\"/></g></g><g clip-path=\"url(#pe372e88da6)\"><g transform=\"translate(84.64 94.224) scale(.13 -.13)\" fill=\"#ffffff\"><use xlink:href=\"#DejaVuSans-48\"/></g></g><g clip-path=\"url(#pe372e88da6)\"><g transform=\"translate(131.43 47.87) scale(.13 -.13)\" fill=\"#ffffff\"><defs><path id=\"DejaVuSans-58\" transform=\"scale(.015625)\" d=\"m403 4666h678l1160-1735 1165 1735h678l-1500-2241 1600-2425h-678l-1312 1984-1322-1984h-681l1665 2491-1453 2175z\"/></defs><use xlink:href=\"#DejaVuSans-58\"/></g></g><g clip-path=\"url(#pe372e88da6)\"><g transform=\"translate(131.43 94.224) scale(.13 -.13)\" fill=\"#ffffff\"><use xlink:href=\"#DejaVuSans-58\"/></g></g><defs><clipPath id=\"pe372e88da6\"><rect x=\"7.2\" y=\"7.2\" width=\"159.28\" height=\"111.25\"/></clipPath></defs></svg>"
      ],
      "text/plain": [
       "<Figure size 287.294x200.667 with 1 Axes>"
      ]
     },
     "execution_count": 11,
     "metadata": {},
     "output_type": "execute_result"
    }
   ],
   "source": [
    "diffuser.x([0,1])\n",
    "diffuser.draw()"
   ]
  },
  {
   "cell_type": "markdown",
   "metadata": {},
   "source": [
    "Now we have the transformation $|s\\rangle \\rightarrow |11\\rangle$, we can apply our `cz` gate and reverse the transformation."
   ]
  },
  {
   "cell_type": "code",
   "execution_count": 12,
   "metadata": {},
   "outputs": [
    {
     "data": {
      "image/svg+xml": [
       "<?xml version=\"1.0\" encoding=\"UTF-8\"?><!DOCTYPE svg  PUBLIC '-//W3C//DTD SVG 1.1//EN'  'http://www.w3.org/Graphics/SVG/1.1/DTD/svg11.dtd'><svg width=\"312.74pt\" height=\"125.65pt\" version=\"1.1\" viewBox=\"0 0 312.74 125.65\" xmlns=\"http://www.w3.org/2000/svg\" xmlns:xlink=\"http://www.w3.org/1999/xlink\"><defs><style type=\"text/css\">*{stroke-linejoin: round; stroke-linecap: butt}</style></defs><path d=\"m0 125.65h312.74v-125.65h-312.74z\" fill=\"#ffffff\"/><path d=\"m64.497 44.283h236.41\" clip-path=\"url(#pd21c059ef1)\" fill=\"none\" stroke=\"#000000\" stroke-linecap=\"square\" stroke-width=\"2\"/><path d=\"m64.497 90.637h236.41\" clip-path=\"url(#pd21c059ef1)\" fill=\"none\" stroke=\"#000000\" stroke-linecap=\"square\" stroke-width=\"2\"/><path d=\"m182.24 90.637v-46.354\" clip-path=\"url(#pd21c059ef1)\" fill=\"none\" stroke=\"#1192e8\" stroke-linecap=\"square\" stroke-width=\"2\"/><path d=\"m182.24 90.637v-46.354\" clip-path=\"url(#pd21c059ef1)\" fill=\"none\" stroke=\"#1192e8\" stroke-linecap=\"square\" stroke-width=\"2\"/><path d=\"m74.463 59.348h30.13v-30.13h-30.13z\" clip-path=\"url(#pd21c059ef1)\" fill=\"#1192e8\" stroke=\"#1192e8\" stroke-width=\"1.5\"/><path d=\"m74.463 105.7h30.13v-30.13h-30.13z\" clip-path=\"url(#pd21c059ef1)\" fill=\"#1192e8\" stroke=\"#1192e8\" stroke-width=\"1.5\"/><path d=\"m120.82 59.348h30.13v-30.13h-30.13z\" clip-path=\"url(#pd21c059ef1)\" fill=\"#005d5d\" stroke=\"#005d5d\" stroke-width=\"1.5\"/><path d=\"m120.82 105.7h30.13v-30.13h-30.13z\" clip-path=\"url(#pd21c059ef1)\" fill=\"#005d5d\" stroke=\"#005d5d\" stroke-width=\"1.5\"/><path d=\"m182.24 48.803c1.1986 0 2.3482-0.4762 3.1958-1.3237 0.84753-0.84753 1.3237-1.9972 1.3237-3.1958 0-1.1986-0.4762-2.3482-1.3237-3.1958-0.84753-0.84753-1.9972-1.3237-3.1958-1.3237s-2.3482 0.4762-3.1958 1.3237c-0.84753 0.84753-1.3237 1.9972-1.3237 3.1958 0 1.1986 0.4762 2.3482 1.3237 3.1958 0.84753 0.84753 1.9972 1.3237 3.1958 1.3237z\" clip-path=\"url(#pd21c059ef1)\" fill=\"#1192e8\" stroke=\"#1192e8\" stroke-width=\"1.5\"/><path d=\"m182.24 95.157c1.1986 0 2.3482-0.4762 3.1958-1.3237 0.84753-0.84753 1.3237-1.9972 1.3237-3.1958s-0.4762-2.3482-1.3237-3.1958c-0.84753-0.84753-1.9972-1.3237-3.1958-1.3237s-2.3482 0.4762-3.1958 1.3237c-0.84753 0.84753-1.3237 1.9972-1.3237 3.1958s0.4762 2.3482 1.3237 3.1958c0.84753 0.84753 1.9972 1.3237 3.1958 1.3237z\" clip-path=\"url(#pd21c059ef1)\" fill=\"#1192e8\" stroke=\"#1192e8\" stroke-width=\"1.5\"/><path d=\"m213.53 59.348h30.13v-30.13h-30.13z\" clip-path=\"url(#pd21c059ef1)\" fill=\"#005d5d\" stroke=\"#005d5d\" stroke-width=\"1.5\"/><path d=\"m213.53 105.7h30.13v-30.13h-30.13z\" clip-path=\"url(#pd21c059ef1)\" fill=\"#005d5d\" stroke=\"#005d5d\" stroke-width=\"1.5\"/><path d=\"m259.88 59.348h30.13v-30.13h-30.13z\" clip-path=\"url(#pd21c059ef1)\" fill=\"#1192e8\" stroke=\"#1192e8\" stroke-width=\"1.5\"/><path d=\"m259.88 105.7h30.13v-30.13h-30.13z\" clip-path=\"url(#pd21c059ef1)\" fill=\"#1192e8\" stroke=\"#1192e8\" stroke-width=\"1.5\"/><g clip-path=\"url(#pd21c059ef1)\"><g transform=\"translate(37.189 48.734) scale(.1625 -.1625)\"><defs><path id=\"DejaVuSans-Oblique-71\" transform=\"scale(.015625)\" d=\"m2669 525q-231-303-546-460-314-156-695-156-531 0-833 358-301 358-301 986 0 506 186 978t533 847q225 244 517 375t614 131q387 0 637-153t363-462l100 525h578l-934-4813h-579l360 1844zm-1778 813q0-463 193-705 194-242 560-242 544 0 928 520t384 1264q0 450-199 689-198 239-569 239-272 0-504-127-231-126-403-370-181-256-286-600-104-343-104-668z\"/><path id=\"DejaVuSans-30\" transform=\"scale(.015625)\" d=\"m2034 4250q-487 0-733-480-245-479-245-1442 0-959 245-1439 246-480 733-480 491 0 736 480 246 480 246 1439 0 963-246 1442-245 480-736 480zm0 500q785 0 1199-621 414-620 414-1801 0-1178-414-1799-414-620-1199-620-784 0-1198 620-414 621-414 1799 0 1181 414 1801 414 621 1198 621z\"/></defs><use xlink:href=\"#DejaVuSans-Oblique-71\"/><use transform=\"translate(63.477 -16.406) scale(.7)\" xlink:href=\"#DejaVuSans-30\"/></g></g><g clip-path=\"url(#pd21c059ef1)\"><g transform=\"translate(37.189 95.088) scale(.1625 -.1625)\"><defs><path id=\"DejaVuSans-31\" transform=\"scale(.015625)\" d=\"m794 531h1031v3560l-1122-225v575l1116 225h631v-4135h1031v-531h-2687v531z\"/></defs><use xlink:href=\"#DejaVuSans-Oblique-71\"/><use transform=\"translate(63.477 -16.406) scale(.7)\" xlink:href=\"#DejaVuSans-31\"/></g></g><g clip-path=\"url(#pd21c059ef1)\"><g transform=\"translate(84.64 47.87) scale(.13 -.13)\" fill=\"#ffffff\"><defs><path id=\"DejaVuSans-48\" transform=\"scale(.015625)\" d=\"m628 4666h631v-1913h2294v1913h631v-4666h-631v2222h-2294v-2222h-631v4666z\"/></defs><use xlink:href=\"#DejaVuSans-48\"/></g></g><g clip-path=\"url(#pd21c059ef1)\"><g transform=\"translate(84.64 94.224) scale(.13 -.13)\" fill=\"#ffffff\"><use xlink:href=\"#DejaVuSans-48\"/></g></g><g clip-path=\"url(#pd21c059ef1)\"><g transform=\"translate(131.43 47.87) scale(.13 -.13)\" fill=\"#ffffff\"><defs><path id=\"DejaVuSans-58\" transform=\"scale(.015625)\" d=\"m403 4666h678l1160-1735 1165 1735h678l-1500-2241 1600-2425h-678l-1312 1984-1322-1984h-681l1665 2491-1453 2175z\"/></defs><use xlink:href=\"#DejaVuSans-58\"/></g></g><g clip-path=\"url(#pd21c059ef1)\"><g transform=\"translate(131.43 94.224) scale(.13 -.13)\" fill=\"#ffffff\"><use xlink:href=\"#DejaVuSans-58\"/></g></g><g clip-path=\"url(#pd21c059ef1)\"><g transform=\"translate(224.14 47.87) scale(.13 -.13)\" fill=\"#ffffff\"><use xlink:href=\"#DejaVuSans-58\"/></g></g><g clip-path=\"url(#pd21c059ef1)\"><g transform=\"translate(224.14 94.224) scale(.13 -.13)\" fill=\"#ffffff\"><use xlink:href=\"#DejaVuSans-58\"/></g></g><g clip-path=\"url(#pd21c059ef1)\"><g transform=\"translate(270.06 47.87) scale(.13 -.13)\" fill=\"#ffffff\"><use xlink:href=\"#DejaVuSans-48\"/></g></g><g clip-path=\"url(#pd21c059ef1)\"><g transform=\"translate(270.06 94.224) scale(.13 -.13)\" fill=\"#ffffff\"><use xlink:href=\"#DejaVuSans-48\"/></g></g><defs><clipPath id=\"pd21c059ef1\"><rect x=\"7.2\" y=\"7.2\" width=\"298.34\" height=\"111.25\"/></clipPath></defs></svg>"
      ],
      "text/plain": [
       "<Figure size 538.128x200.667 with 1 Axes>"
      ]
     },
     "execution_count": 12,
     "metadata": {},
     "output_type": "execute_result"
    }
   ],
   "source": [
    "diffuser.cz(0,1)\n",
    "diffuser.x([0,1])\n",
    "diffuser.h([0,1])\n",
    "diffuser.draw()"
   ]
  },
  {
   "cell_type": "markdown",
   "metadata": {},
   "source": [
    "### Putting it together\n",
    "\n",
    "We now have two circuits, `oracle` and `diffuser`, so we can put this together into a circuit that performs Grover's algorithm. Remember the three steps:\n",
    "1. Initialise the qubits to the state $|s\\rangle$\n",
    "2. Perform the oracle\n",
    "3. Perform the diffuser"
   ]
  },
  {
   "cell_type": "code",
   "execution_count": 13,
   "metadata": {},
   "outputs": [
    {
     "data": {
      "image/svg+xml": [
       "<?xml version=\"1.0\" encoding=\"UTF-8\"?><!DOCTYPE svg  PUBLIC '-//W3C//DTD SVG 1.1//EN'  'http://www.w3.org/Graphics/SVG/1.1/DTD/svg11.dtd'><svg width=\"567.94pt\" height=\"172pt\" version=\"1.1\" viewBox=\"0 0 567.94 172\" xmlns=\"http://www.w3.org/2000/svg\" xmlns:xlink=\"http://www.w3.org/1999/xlink\"><defs><style type=\"text/css\">*{stroke-linejoin: round; stroke-linecap: butt}</style></defs><path d=\"m0 172h567.94v-172h-567.94z\" fill=\"#ffffff\"/><path d=\"m477.76 126.45h12.052l-6.026 8.6914z\" clip-path=\"url(#p0c855a2e1a)\" fill=\"#778899\"/><path d=\"m524.12 126.45h12.052l-6.026 8.6914z\" clip-path=\"url(#p0c855a2e1a)\" fill=\"#778899\"/><path d=\"m87.926 44.283h468.18\" clip-path=\"url(#p0c855a2e1a)\" fill=\"none\" stroke=\"#000000\" stroke-linecap=\"square\" stroke-width=\"2\"/><path d=\"m87.926 90.637h468.18\" clip-path=\"url(#p0c855a2e1a)\" fill=\"none\" stroke=\"#000000\" stroke-linecap=\"square\" stroke-width=\"2\"/><path d=\"m87.926 135.48h468.18\" clip-path=\"url(#p0c855a2e1a)\" fill=\"none\" stroke=\"#778899\" stroke-linecap=\"square\" stroke-width=\"2\"/><path d=\"m87.926 138.5h468.18\" clip-path=\"url(#p0c855a2e1a)\" fill=\"none\" stroke=\"#778899\" stroke-linecap=\"square\" stroke-width=\"2\"/><path d=\"m97.197 141.63 4.6354-9.2708\" clip-path=\"url(#p0c855a2e1a)\" fill=\"none\" stroke=\"#778899\" stroke-linecap=\"square\"/><path d=\"m159.31 90.637v-46.354\" clip-path=\"url(#p0c855a2e1a)\" fill=\"none\" stroke=\"#1192e8\" stroke-linecap=\"square\" stroke-width=\"2\"/><path d=\"m298.37 90.637v-46.354\" clip-path=\"url(#p0c855a2e1a)\" fill=\"none\" stroke=\"#1192e8\" stroke-linecap=\"square\" stroke-width=\"2\"/><path d=\"m428.4 67.46h18.078v-46.354h-18.078z\" clip-path=\"url(#p0c855a2e1a)\" fill=\"#bdbdbd\" opacity=\".6\"/><path d=\"m428.4 113.81h18.078v-46.354h-18.078z\" clip-path=\"url(#p0c855a2e1a)\" fill=\"#bdbdbd\" opacity=\".6\"/><path d=\"m485.3 44.283v82.162\" clip-path=\"url(#p0c855a2e1a)\" fill=\"none\" stroke=\"#778899\" stroke-linecap=\"square\" stroke-width=\"2\"/><path d=\"m482.28 44.283v82.162\" clip-path=\"url(#p0c855a2e1a)\" fill=\"none\" stroke=\"#778899\" stroke-linecap=\"square\" stroke-width=\"2\"/><path d=\"m531.65 90.637v35.808\" clip-path=\"url(#p0c855a2e1a)\" fill=\"none\" stroke=\"#778899\" stroke-linecap=\"square\" stroke-width=\"2\"/><path d=\"m528.64 90.637v35.808\" clip-path=\"url(#p0c855a2e1a)\" fill=\"none\" stroke=\"#778899\" stroke-linecap=\"square\" stroke-width=\"2\"/><path d=\"m159.31 90.637v-46.354\" clip-path=\"url(#p0c855a2e1a)\" fill=\"none\" stroke=\"#1192e8\" stroke-linecap=\"square\" stroke-width=\"2\"/><path d=\"m298.37 90.637v-46.354\" clip-path=\"url(#p0c855a2e1a)\" fill=\"none\" stroke=\"#1192e8\" stroke-linecap=\"square\" stroke-width=\"2\"/><path d=\"m97.892 59.348h30.13v-30.13h-30.13z\" clip-path=\"url(#p0c855a2e1a)\" fill=\"#1192e8\" stroke=\"#1192e8\" stroke-width=\"1.5\"/><path d=\"m97.892 105.7h30.13v-30.13h-30.13z\" clip-path=\"url(#p0c855a2e1a)\" fill=\"#1192e8\" stroke=\"#1192e8\" stroke-width=\"1.5\"/><path d=\"m159.31 48.803c1.1986 0 2.3482-0.4762 3.1958-1.3237 0.84753-0.84753 1.3237-1.9972 1.3237-3.1958 0-1.1986-0.4762-2.3482-1.3237-3.1958-0.84753-0.84753-1.9972-1.3237-3.1958-1.3237-1.1986 0-2.3482 0.4762-3.1958 1.3237s-1.3237 1.9972-1.3237 3.1958c0 1.1986 0.4762 2.3482 1.3237 3.1958s1.9972 1.3237 3.1958 1.3237z\" clip-path=\"url(#p0c855a2e1a)\" fill=\"#1192e8\" stroke=\"#1192e8\" stroke-width=\"1.5\"/><path d=\"m159.31 95.157c1.1986 0 2.3482-0.4762 3.1958-1.3237 0.84753-0.84753 1.3237-1.9972 1.3237-3.1958s-0.4762-2.3482-1.3237-3.1958c-0.84753-0.84753-1.9972-1.3237-3.1958-1.3237-1.1986 0-2.3482 0.4762-3.1958 1.3237-0.84753 0.84753-1.3237 1.9972-1.3237 3.1958s0.4762 2.3482 1.3237 3.1958c0.84753 0.84753 1.9972 1.3237 3.1958 1.3237z\" clip-path=\"url(#p0c855a2e1a)\" fill=\"#1192e8\" stroke=\"#1192e8\" stroke-width=\"1.5\"/><path d=\"m190.6 59.348h30.13v-30.13h-30.13z\" clip-path=\"url(#p0c855a2e1a)\" fill=\"#1192e8\" stroke=\"#1192e8\" stroke-width=\"1.5\"/><path d=\"m190.6 105.7h30.13v-30.13h-30.13z\" clip-path=\"url(#p0c855a2e1a)\" fill=\"#1192e8\" stroke=\"#1192e8\" stroke-width=\"1.5\"/><path d=\"m236.95 59.348h30.13v-30.13h-30.13z\" clip-path=\"url(#p0c855a2e1a)\" fill=\"#005d5d\" stroke=\"#005d5d\" stroke-width=\"1.5\"/><path d=\"m236.95 105.7h30.13v-30.13h-30.13z\" clip-path=\"url(#p0c855a2e1a)\" fill=\"#005d5d\" stroke=\"#005d5d\" stroke-width=\"1.5\"/><path d=\"m298.37 48.803c1.1986 0 2.3482-0.4762 3.1958-1.3237 0.84753-0.84753 1.3237-1.9972 1.3237-3.1958 0-1.1986-0.4762-2.3482-1.3237-3.1958-0.84753-0.84753-1.9972-1.3237-3.1958-1.3237s-2.3482 0.4762-3.1958 1.3237c-0.84753 0.84753-1.3237 1.9972-1.3237 3.1958 0 1.1986 0.4762 2.3482 1.3237 3.1958 0.84753 0.84753 1.9972 1.3237 3.1958 1.3237z\" clip-path=\"url(#p0c855a2e1a)\" fill=\"#1192e8\" stroke=\"#1192e8\" stroke-width=\"1.5\"/><path d=\"m298.37 95.157c1.1986 0 2.3482-0.4762 3.1958-1.3237 0.84753-0.84753 1.3237-1.9972 1.3237-3.1958s-0.4762-2.3482-1.3237-3.1958c-0.84753-0.84753-1.9972-1.3237-3.1958-1.3237s-2.3482 0.4762-3.1958 1.3237c-0.84753 0.84753-1.3237 1.9972-1.3237 3.1958s0.4762 2.3482 1.3237 3.1958c0.84753 0.84753 1.9972 1.3237 3.1958 1.3237z\" clip-path=\"url(#p0c855a2e1a)\" fill=\"#1192e8\" stroke=\"#1192e8\" stroke-width=\"1.5\"/><path d=\"m329.66 59.348h30.13v-30.13h-30.13z\" clip-path=\"url(#p0c855a2e1a)\" fill=\"#005d5d\" stroke=\"#005d5d\" stroke-width=\"1.5\"/><path d=\"m329.66 105.7h30.13v-30.13h-30.13z\" clip-path=\"url(#p0c855a2e1a)\" fill=\"#005d5d\" stroke=\"#005d5d\" stroke-width=\"1.5\"/><path d=\"m376.02 59.348h30.13v-30.13h-30.13z\" clip-path=\"url(#p0c855a2e1a)\" fill=\"#1192e8\" stroke=\"#1192e8\" stroke-width=\"1.5\"/><path d=\"m376.02 105.7h30.13v-30.13h-30.13z\" clip-path=\"url(#p0c855a2e1a)\" fill=\"#1192e8\" stroke=\"#1192e8\" stroke-width=\"1.5\"/><path d=\"m468.72 59.348h30.13v-30.13h-30.13z\" clip-path=\"url(#p0c855a2e1a)\" fill=\"#121619\" stroke=\"#121619\" stroke-width=\"1.5\"/><path d=\"m494.33 48.803c0-2.7958-1.1118-5.4799-3.0887-7.4568s-4.661-3.0887-7.4568-3.0887c-2.7958 0-5.4799 1.1118-7.4568 3.0887s-3.0887 4.661-3.0887 7.4568\" clip-path=\"url(#p0c855a2e1a)\" fill=\"none\" stroke=\"#ffffff\" stroke-width=\"2\"/><path d=\"m483.79 48.803 10.546-10.546\" clip-path=\"url(#p0c855a2e1a)\" fill=\"none\" stroke=\"#ffffff\" stroke-linecap=\"square\" stroke-width=\"2\"/><path d=\"m515.08 105.7h30.13v-30.13h-30.13z\" clip-path=\"url(#p0c855a2e1a)\" fill=\"#121619\" stroke=\"#121619\" stroke-width=\"1.5\"/><path d=\"m540.69 95.157c0-2.7958-1.1118-5.4799-3.0887-7.4568s-4.661-3.0887-7.4568-3.0887-5.4799 1.1118-7.4568 3.0887-3.0887 4.661-3.0887 7.4568\" clip-path=\"url(#p0c855a2e1a)\" fill=\"none\" stroke=\"#ffffff\" stroke-width=\"2\"/><path d=\"m530.14 95.157 10.546-10.546\" clip-path=\"url(#p0c855a2e1a)\" fill=\"none\" stroke=\"#ffffff\" stroke-linecap=\"square\" stroke-width=\"2\"/><g clip-path=\"url(#p0c855a2e1a)\"><g transform=\"translate(60.617 48.734) scale(.1625 -.1625)\"><defs><path id=\"DejaVuSans-Oblique-71\" transform=\"scale(.015625)\" d=\"m2669 525q-231-303-546-460-314-156-695-156-531 0-833 358-301 358-301 986 0 506 186 978t533 847q225 244 517 375t614 131q387 0 637-153t363-462l100 525h578l-934-4813h-579l360 1844zm-1778 813q0-463 193-705 194-242 560-242 544 0 928 520t384 1264q0 450-199 689-198 239-569 239-272 0-504-127-231-126-403-370-181-256-286-600-104-343-104-668z\"/><path id=\"DejaVuSans-30\" transform=\"scale(.015625)\" d=\"m2034 4250q-487 0-733-480-245-479-245-1442 0-959 245-1439 246-480 733-480 491 0 736 480 246 480 246 1439 0 963-246 1442-245 480-736 480zm0 500q785 0 1199-621 414-620 414-1801 0-1178-414-1799-414-620-1199-620-784 0-1198 620-414 621-414 1799 0 1181 414 1801 414 621 1198 621z\"/></defs><use xlink:href=\"#DejaVuSans-Oblique-71\"/><use transform=\"translate(63.477 -16.406) scale(.7)\" xlink:href=\"#DejaVuSans-30\"/></g></g><g clip-path=\"url(#p0c855a2e1a)\"><g transform=\"translate(60.617 95.088) scale(.1625 -.1625)\"><defs><path id=\"DejaVuSans-31\" transform=\"scale(.015625)\" d=\"m794 531h1031v3560l-1122-225v575l1116 225h631v-4135h1031v-531h-2687v531z\"/></defs><use xlink:href=\"#DejaVuSans-Oblique-71\"/><use transform=\"translate(63.477 -16.406) scale(.7)\" xlink:href=\"#DejaVuSans-31\"/></g></g><g clip-path=\"url(#p0c855a2e1a)\"><g transform=\"translate(92.561 130.19) scale(.104 -.104)\"><defs><path id=\"DejaVuSans-32\" transform=\"scale(.015625)\" d=\"m1228 531h2203v-531h-2962v531q359 372 979 998 621 627 780 809 303 340 423 576 121 236 121 464 0 372-261 606-261 235-680 235-297 0-627-103-329-103-704-313v638q381 153 712 231 332 78 607 78 725 0 1156-363 431-362 431-968 0-288-108-546-107-257-392-607-78-91-497-524-418-433-1181-1211z\"/></defs><use xlink:href=\"#DejaVuSans-32\"/></g></g><g clip-path=\"url(#p0c855a2e1a)\"><g transform=\"translate(34.404 141.48) scale(.1625 -.1625)\"><defs><path id=\"DejaVuSans-6d\" transform=\"scale(.015625)\" d=\"m3328 2828q216 388 516 572t706 184q547 0 844-383 297-382 297-1088v-2113h-578v2094q0 503-179 746-178 244-543 244-447 0-707-297-259-296-259-809v-1978h-578v2094q0 506-178 748t-550 242q-441 0-701-298-259-298-259-808v-1978h-578v3500h578v-544q197 322 472 475t653 153q382 0 649-194 267-193 395-562z\"/><path id=\"DejaVuSans-65\" transform=\"scale(.015625)\" d=\"m3597 1894v-281h-2644q38-594 358-905t892-311q331 0 642 81t618 244v-544q-310-131-635-200t-659-69q-838 0-1327 487-489 488-489 1320 0 859 464 1363 464 505 1252 505 706 0 1117-455 411-454 411-1235zm-575 169q-6 471-264 752-258 282-683 282-481 0-770-272t-333-766l2050 4z\"/><path id=\"DejaVuSans-61\" transform=\"scale(.015625)\" d=\"m2194 1759q-697 0-966-159t-269-544q0-306 202-486 202-179 548-179 479 0 768 339t289 901v128h-572zm1147 238v-1997h-575v531q-197-318-491-470t-719-152q-537 0-855 302-317 302-317 808 0 590 395 890 396 300 1180 300h807v57q0 397-261 614t-733 217q-300 0-585-72-284-72-546-216v532q315 122 612 182 297 61 578 61 760 0 1135-394 375-393 375-1193z\"/><path id=\"DejaVuSans-73\" transform=\"scale(.015625)\" d=\"m2834 3397v-544q-243 125-506 187-262 63-544 63-428 0-642-131t-214-394q0-200 153-314t616-217l197-44q612-131 870-370t258-667q0-488-386-773-386-284-1061-284-281 0-586 55t-642 164v594q319-166 628-249 309-82 613-82 406 0 624 139 219 139 219 392 0 234-158 359-157 125-692 241l-200 47q-534 112-772 345-237 233-237 639 0 494 350 762 350 269 994 269 318 0 599-47 282-46 519-140z\"/></defs><use xlink:href=\"#DejaVuSans-6d\"/><use x=\"97.412109\" xlink:href=\"#DejaVuSans-65\"/><use x=\"158.935547\" xlink:href=\"#DejaVuSans-61\"/><use x=\"220.214844\" xlink:href=\"#DejaVuSans-73\"/></g></g><g clip-path=\"url(#p0c855a2e1a)\"><g transform=\"translate(108.07 47.87) scale(.13 -.13)\" fill=\"#ffffff\"><defs><path id=\"DejaVuSans-48\" transform=\"scale(.015625)\" d=\"m628 4666h631v-1913h2294v1913h631v-4666h-631v2222h-2294v-2222h-631v4666z\"/></defs><use xlink:href=\"#DejaVuSans-48\"/></g></g><g clip-path=\"url(#p0c855a2e1a)\"><g transform=\"translate(108.07 94.224) scale(.13 -.13)\" fill=\"#ffffff\"><use xlink:href=\"#DejaVuSans-48\"/></g></g><g clip-path=\"url(#p0c855a2e1a)\"><g transform=\"translate(200.78 47.87) scale(.13 -.13)\" fill=\"#ffffff\"><use xlink:href=\"#DejaVuSans-48\"/></g></g><g clip-path=\"url(#p0c855a2e1a)\"><g transform=\"translate(200.78 94.224) scale(.13 -.13)\" fill=\"#ffffff\"><use xlink:href=\"#DejaVuSans-48\"/></g></g><g clip-path=\"url(#p0c855a2e1a)\"><g transform=\"translate(247.57 47.87) scale(.13 -.13)\" fill=\"#ffffff\"><defs><path id=\"DejaVuSans-58\" transform=\"scale(.015625)\" d=\"m403 4666h678l1160-1735 1165 1735h678l-1500-2241 1600-2425h-678l-1312 1984-1322-1984h-681l1665 2491-1453 2175z\"/></defs><use xlink:href=\"#DejaVuSans-58\"/></g></g><g clip-path=\"url(#p0c855a2e1a)\"><g transform=\"translate(247.57 94.224) scale(.13 -.13)\" fill=\"#ffffff\"><use xlink:href=\"#DejaVuSans-58\"/></g></g><g clip-path=\"url(#p0c855a2e1a)\"><g transform=\"translate(340.27 47.87) scale(.13 -.13)\" fill=\"#ffffff\"><use xlink:href=\"#DejaVuSans-58\"/></g></g><g clip-path=\"url(#p0c855a2e1a)\"><g transform=\"translate(340.27 94.224) scale(.13 -.13)\" fill=\"#ffffff\"><use xlink:href=\"#DejaVuSans-58\"/></g></g><g clip-path=\"url(#p0c855a2e1a)\"><g transform=\"translate(386.19 47.87) scale(.13 -.13)\" fill=\"#ffffff\"><use xlink:href=\"#DejaVuSans-48\"/></g></g><g clip-path=\"url(#p0c855a2e1a)\"><g transform=\"translate(386.19 94.224) scale(.13 -.13)\" fill=\"#ffffff\"><use xlink:href=\"#DejaVuSans-48\"/></g></g><path d=\"m437.43 21.106v46.354\" clip-path=\"url(#p0c855a2e1a)\" fill=\"none\" stroke=\"#000000\" stroke-dasharray=\"3.7,1.6\"/><path d=\"m437.43 67.46v46.354\" clip-path=\"url(#p0c855a2e1a)\" fill=\"none\" stroke=\"#000000\" stroke-dasharray=\"3.7,1.6\"/><g clip-path=\"url(#p0c855a2e1a)\"><g transform=\"translate(495.38 130.19) scale(.104 -.104)\"><use xlink:href=\"#DejaVuSans-30\"/></g></g><g clip-path=\"url(#p0c855a2e1a)\"><g transform=\"translate(541.73 130.19) scale(.104 -.104)\"><use xlink:href=\"#DejaVuSans-31\"/></g></g><defs><clipPath id=\"p0c855a2e1a\"><rect x=\"7.2\" y=\"7.2\" width=\"553.54\" height=\"157.6\"/></clipPath></defs></svg>"
      ],
      "text/plain": [
       "<Figure size 998.442x284.278 with 1 Axes>"
      ]
     },
     "execution_count": 13,
     "metadata": {},
     "output_type": "execute_result"
    }
   ],
   "source": [
    "grover = QuantumCircuit(2)\n",
    "grover.h([0,1])  # initialise |s>\n",
    "grover = grover.compose(oracle)\n",
    "grover = grover.compose(diffuser)\n",
    "grover.measure_all()\n",
    "grover.draw()"
   ]
  },
  {
   "cell_type": "markdown",
   "metadata": {},
   "source": [
    "And when we simulate, we can see a 100% probability of measuring $|11\\rangle$, which was the solution to our oracle!"
   ]
  },
  {
   "cell_type": "code",
   "execution_count": 14,
   "metadata": {},
   "outputs": [
    {
     "data": {
      "text/plain": [
       "{'11': 1024}"
      ]
     },
     "execution_count": 14,
     "metadata": {},
     "output_type": "execute_result"
    }
   ],
   "source": [
    "from qiskit import Aer\n",
    "sim = Aer.get_backend('aer_simulator')\n",
    "sim.run(grover).result().get_counts()"
   ]
  },
  {
   "cell_type": "markdown",
   "metadata": {},
   "source": [
    "<!-- ::: q-block.exercise -->\n",
    "\n",
    "### Try it\n",
    "\n",
    "Try replacing the oracle in this circuit with the different oracles you created above. Do you get the expected result?\n",
    "\n",
    "[Try in IBM Quantum Lab](https://quantum-computing.ibm.com/lab)\n",
    "\n",
    "<!-- ::: -->"
   ]
  },
  {
   "cell_type": "markdown",
   "metadata": {
    "formulas": {
     "Big-N": {
      "meaning": "This is the number of entries in a database, or the number of possible inputs to search through."
     },
     "lil-n": {
      "meaning": "This is the number of bits in our problem."
     }
    }
   },
   "source": [
    "## SAT problems are hard\n",
    "\n",
    "![Graph of problem size vs algorithm running time. Both random guessing and Grover's algorithm are shown as exponential curves, with Grover growing slightly slower than random guessing.](images/grover/rg-vs-grover-sat.svg)\n",
    "\n",
    "Random guessing grows linearly with the number of entries in the database, which isn’t actually too bad (although we know we can do much better). But we usually measure how algorithms grow by their input length in _bits_, so how do these two connect? Each extra variable (bit) in our SAT problem _doubles_ the number of possible solutions (i.e. entries to our database), so the search space grows exponentially with the number of bits.\n",
    "\n",
    "$$\\cssId{Big-N}{N} = 2^\\cssId{lil-n}{n}$$\n",
    "\n",
    "Since random guessing grows linearly with $N$, the running time will grow by roughly $2^n$.\n",
    "\n",
    "<!-- ::: q-block.exercise -->\n",
    "\n",
    "### Quick quiz\n",
    "\n",
    "<!-- ::: q-quiz(goal=\"intro-grover-6\") -->\n",
    "\n",
    "<!-- ::: .question -->\n",
    "\n",
    "How does the running time of Grover's algorithm grow with the number of input bits (when there is only one solution)?\n",
    "\n",
    "<!-- ::: -->\n",
    "\n",
    "<!-- ::: .option -->\n",
    "\n",
    "1. $\\sqrt{n}$\n",
    "\n",
    "<!-- ::: -->\n",
    "\n",
    "<!-- ::: .option -->\n",
    "\n",
    "2. $2^n$\n",
    "\n",
    "<!-- ::: -->\n",
    "\n",
    "<!-- ::: .option(correct) -->\n",
    "\n",
    "3. $\\sqrt{2^n}$\n",
    "\n",
    "<!-- ::: -->\n",
    "\n",
    "<!-- ::: .option -->\n",
    "\n",
    "3. $\\sqrt{2^{n/2}}$\n",
    "\n",
    "<!-- ::: -->\n",
    "\n",
    "<!-- ::: -->\n",
    "\n",
    "<!-- ::: -->\n",
    "\n",
    "## Making use of structure\n",
    "\n",
    "So far, we’ve treated SAT problems as if they’re completely unstructured, but unlike the unsorted phone book, we _do_ have some clues that will help us in our search. A SAT problem isn’t a black box, but a set of individual clauses, and we can use these clauses to home in on a correct answer. We won’t get anything nearly as efficient as binary search, but it’s still much better than random guessing. One (classical) algorithm that uses the structure of SAT problems is Schöning’s algorithm.\n",
    "\n",
    "![Graph of problem size vs algorithm running time. Random guessing, Grover's algorithm and Schöning's algorithm are shown as exponential curves, with Schöning growing slightly slower than Grover, which in turn grows slower than random guessing](images/grover/rg-vs-grov-vs-schoning.svg)\n",
    "\n",
    "Like random guessing, Schöning’s algorithm chooses an input at random and checks if it works. But unlike random guessing, it doesn’t just throw this string away. Instead, it picks an unsatisfied clause and toggles a bit in the string to satisfy that clause. Annoyingly, this new string might un-satisfy a different, previously-satisfied clause, but on average it's beneficial to keep toggling bits in this manner a few times. If the initial guess was close enough, there’s a fair chance we’ll stumble upon the correct solution. If not, then after some number of steps, the computer starts again with a new completely random guess. It turns out for 3-SAT (although not (>3)-SAT), this algorithm grows with roughly $1.3334^n$, which not only beats random guessing, but also beats Grover's algorithm!\n",
    "\n",
    "![Graph of problem size vs algorithm running time. The random guessing, Grover, Schöning, and \"Grover+Schöning\" algorithms are all shown as exponential curves. \"Grover+Schöning\" grows fairly slower than Schöning, which grows slightly slower than Grover, which in turn grows slower than random guessing](images/grover/all-algos.svg)\n",
    "\n",
    "It may not be obvious at first glance, but we can actually combine Grover and Schöning's algorithms to get something even better than either individually. If you create a circuit that carries out the bit-toggling part of Schöning's algorithm, you can use this as the oracle and use Grover's algorithm to find the best \"initial guess\". We won't go into it in this course, but it's a fun project to investigate it!"
   ]
  }
 ],
 "metadata": {
  "kernelspec": {
   "display_name": "Python 3",
   "language": "python",
   "name": "python3"
  },
  "language_info": {
   "codemirror_mode": {
    "name": "ipython",
    "version": 3
   },
   "file_extension": ".py",
   "mimetype": "text/x-python",
   "name": "python",
   "nbconvert_exporter": "python",
   "pygments_lexer": "ipython3",
   "version": "3.9"
  }
 },
 "nbformat": 4,
 "nbformat_minor": 4
}
