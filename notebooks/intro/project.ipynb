{
 "cells": [
  {
   "cell_type": "markdown",
   "metadata": {},
   "source": [
    "# Project"
   ]
  },
  {
   "cell_type": "markdown",
   "metadata": {
    "gloss": {
     "git": {
      "text": "Git is a program you can use to track changes to computer files. Git tracks the entire state of a folder (known as a Git repository).",
      "title": "Git"
     },
     "github": {
      "text": "Github is a website you can use to host your project. Similar to video / image sharing websites, but aimed at software developers. As well as hosting software, Github also makes it easy to display your project and collaborate with others.",
      "title": "GitHub"
     },
     "slack": {
      "text": "Slack is a messaging app.",
      "title": "Slack"
     }
    }
   },
   "source": [
    "## Congratulations!\n",
    "\n",
    "![Trophy](images/project/trophy.png)\n",
    "\n",
    "Congratulations! You’ve finished the taught part of this course. You’ve learnt a lot, including:\n",
    "- How we measure and compare different algorithms\n",
    "- How we break computing down to bits and gates\n",
    "- What quantum interference is, and the effects it has\n",
    "- What entanglement is, and how it makes quantum computers difficult to simulate\n",
    "- How we can use quantum computers to improve search algorithms\n",
    "\n",
    "\n",
    "## Completing a guided project\n",
    "\n",
    "Hopefully you enjoyed learning about quantum computing. If so, we now encourage you to try a project. In your project, you'll pick an area you’ve come across that you find interesting and investigate it. The final form of your project can be whatever you choose, from a blog post explaining an investigation, to improving Qiskit itself.\n",
    "\n",
    "### Step 1: Connect to the community\n",
    "\n",
    "If you haven’t joined already, the Qiskit [Slack](gloss:slack) workspace is a great place to ask questions and get support. The developers of Qiskit and this online textbook hang out there, as well as plenty of students and enthusiasts. You can join via [this link](https://qisk.it/join-slack), and introduce yourself in the [`#textbook-projects`](https://qiskit.slack.com/archives/C028AGU6KDX) channel.\n",
    "\n",
    "### Step 2: Get started with GitHub\n",
    "\n",
    "Using [GitHub](gloss:github) you can:\n",
    "- Display code you've written.\n",
    "- Create your own web page (e.g. for a blog or online demo) using [GitHub pages](https://pages.github.com/).\n",
    "- Fork [Qiskit](https://github.com/Qiskit/qiskit-terra) and start working on an issue.\n",
    "\n",
    "[Git](gloss:git) and GitHub are great tools, but they also come with a fair bit of jargon. We'll include tooltips for some of these terms when we come across them.\n",
    "\n",
    "You can follow GitHub's quickstart guide [here](https://docs.github.com/en/get-started/quickstart)."
   ]
  },
  {
   "cell_type": "markdown",
   "metadata": {},
   "source": [
    "### Step 3: Decide on a project\n",
    "\n",
    "Your project can be on anything you want. You can post your ideas in the [`#textbook-projects`](https://qiskit.slack.com/archives/C028AGU6KDX) Slack channel to get advice from mentors, and find other people to collaborate with.\n",
    "\n",
    "Below are some ideas to get your imagination going. Each set of bullet points is roughly ordered from easier to harder projects. You can use one of these ideas, adapt them, or do something completely different!\n",
    "\n",
    "<!-- ::: q-block.tabs -->\n",
    "\n",
    "## Project ideas\n",
    "\n",
    "\n",
    "<!-- ::: tab -->\n",
    "\n",
    "### Writing based\n",
    "\n",
    "If you enjoy writing, you could:\n",
    "- Write a blog post explaining what you’ve learnt and how the experience was. Use this blog to document your journey, through quantum computing or any other areas of interest.\n",
    "- Write a blog post explaining the Hardy paradox to a specific target audience, e.g. “someone who hates maths”, or “someone who loves puzzles”.\n",
    "- Tackle an open issue on the Qiskit Textbook GitHub repo, or suggest a change for something you think could be improved.\n",
    "- Investigate a proposed application of quantum computing. What kind of advantages can we expect? And what performance will we need from a quantum computer to be able to reach this advantage? Be careful of bold claims and pseudoscience. Write up your results as a blog post.\n",
    "\n",
    "<!-- ::: tab -->\n",
    "\n",
    "### Code based\n",
    "\n",
    "If you’re more comfortable with code:\n",
    "- Create a program that builds an oracle for a given string (e.g. given `01101`, will return a `QuantumCircuit` that inverts the phase of the state $|01101\\rangle$ and leaves all other states unchanged.\n",
    "- Tackle an open issue in the Qiskit Terra repo.\n",
    "- Create a program that builds an oracle circuit from a problem (like the `PhaseOracle` class does in the previous page). Assess how the size of your circuits grow with the size of the problem.\n",
    "- Try making a [quantum game](https://github.com/qiskit-community/Qisge).\n",
    "\n",
    "<!-- ::: tab -->\n",
    "\n",
    "### More theoretical\n",
    "\n",
    "If you preferred the mathematical side of things:\n",
    "- Work out how many times Grover’s algorithm needs to query the oracle if there are multiple solutions. Write up your working as a short blog post.\n",
    "- Write an introduction to “maths for quantum computing”. Research the maths needed to read other quantum computing textbooks and build a guide for new learners.\n",
    "- Investigate how you would combine Schöning’s algorithm with Grover’s algorithm. What would a circuit for this look like? Are there any potential problems?\n",
    "\n",
    "<!-- ::: tab -->\n",
    "\n",
    "### Something else\n",
    "\n",
    "If you prefer a lighter project:\n",
    "- Write a song about quantum computing. Post it on Soundcloud or YouTube.\n",
    "- Make a piece of art representing an interesting concept you’ve come across in this course. Write a short blog post presenting and explaining it.\n",
    "- Use Qiskit and [MatPlotLib](https://matplotlib.org/) (or [Bokeh](https://docs.bokeh.org/en/latest/index.html), or anything really) to create something visually interesting. Write a short blog post presenting and explaining it.\n",
    "    \n",
    "<!-- ::: -->\n",
    "\n",
    "<!-- ::: -->"
   ]
  },
  {
   "cell_type": "markdown",
   "metadata": {},
   "source": [
    "### Step 4: Have fun!\n",
    "\n",
    "Start working towards your goal. If you find your project too difficult, get stuck, or simply get bored, ask for help in the [`#textbook-projects`](https://qiskit.slack.com/archives/C028AGU6KDX) channel. The mentors can either point you in the right direction, or help you adjust your project’s goals.\n",
    "\n",
    "### Step 5: Share your work\n",
    "\n",
    "After you’ve put in the time and effort, share your work with others on the [`#textbook-projects`](https://qiskit.slack.com/archives/C028AGU6KDX) channel. If you maintain your GitHub profile and GitHub pages web page, you can use this to evidence your knowledge and experience to others (e.g. in applications or interviews)."
   ]
  }
 ],
 "metadata": {
  "kernelspec": {
   "display_name": "Python 3",
   "language": "python",
   "name": "python3"
  },
  "language_info": {
   "codemirror_mode": {
    "name": "ipython",
    "version": 3
   },
   "file_extension": ".py",
   "mimetype": "text/x-python",
   "name": "python",
   "nbconvert_exporter": "python",
   "pygments_lexer": "ipython3",
   "version": "3.9"
  }
 },
 "nbformat": 4,
 "nbformat_minor": 4
}
