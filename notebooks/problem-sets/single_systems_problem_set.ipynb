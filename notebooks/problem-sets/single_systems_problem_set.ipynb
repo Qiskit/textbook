{
 "cells": [
  {
   "cell_type": "markdown",
   "metadata": {},
   "source": [
    "# Single Systems - Problem Set"
   ]
  },
  {
   "cell_type": "markdown",
   "metadata": {},
   "source": [
    "## Problem 1\n",
    "\n",
    "<!-- ::: q-block.exercise -->\n",
    "\n",
    "### Quick quiz\n",
    "\n",
    "<!-- ::: q-quiz(goal=\"ps1-quiz-0\") -->\n",
    "\n",
    "<!-- ::: .question -->\n",
    "\n",
    "Which one of these is a valid probability vector?\n",
    "\n",
    "<!-- ::: -->\n",
    "\n",
    "<!-- ::: .option -->\n",
    "\n",
    "1. $\\begin{pmatrix} \\sqrt{2}\\\\\\\\ 1 - \\sqrt{2} \\end{pmatrix}$\n",
    "\n",
    "<!-- ::: -->\n",
    "\n",
    "<!-- ::: .option -->\n",
    "\n",
    "2. $\\begin{pmatrix} 0.3 \\\\\\\\ 0.3 \\end{pmatrix}$\n",
    "\n",
    "<!-- ::: -->\n",
    "\n",
    "<!-- ::: .option(correct) -->\n",
    "\n",
    "3. $\\begin{pmatrix} 0 \\\\\\\\ 1 \\\\\\\\ 0 \\end{pmatrix}$\n",
    "\n",
    "<!-- ::: -->\n",
    "\n",
    "<!-- ::: -->\n",
    "\n",
    "<!-- ::: -->"
   ]
  },
  {
   "cell_type": "markdown",
   "metadata": {},
   "source": [
    "## Problem 2\n",
    "\n",
    "<!-- ::: q-block.exercise -->\n",
    "\n",
    "### Quick quiz\n",
    "\n",
    "<!-- ::: q-quiz(goal=\"ps1-quiz-1\") -->\n",
    "\n",
    "<!-- ::: .question -->\n",
    "\n",
    "Which one of these is matrices is unitary?\n",
    "\n",
    "<!-- ::: -->\n",
    "\n",
    "<!-- ::: .option -->\n",
    "\n",
    "1. $\\begin{pmatrix} 1 & 0 \\\\\\\\ 1 & 0 \\end{pmatrix}$\n",
    "\n",
    "<!-- ::: -->\n",
    "\n",
    "<!-- ::: .option -->\n",
    "\n",
    "2. $\\begin{pmatrix} 0 & \\frac{1}{2} \\\\\\\\ \\frac{-i}{2} & 0 \\end{pmatrix}$\n",
    "\n",
    "<!-- ::: -->\n",
    "\n",
    "<!-- ::: .option(correct) -->\n",
    "\n",
    "3. $\\begin{pmatrix} 1 & 0 \\\\\\\\ 0 & i \\end{pmatrix}$\n",
    "\n",
    "<!-- ::: -->\n",
    "\n",
    "<!-- ::: -->\n",
    "\n",
    "<!-- ::: -->"
   ]
  },
  {
   "cell_type": "markdown",
   "metadata": {},
   "source": [
    "## Problem 3\n",
    "\n",
    "Using Qiskit, create a `QuantumCircuit` that represents the following state:\n",
    "\n",
    "$|\\beta_{01} \\rangle = \\frac{1}{\\sqrt2}(|00\\rangle + |10\\rangle)$"
   ]
  },
  {
   "cell_type": "code",
   "execution_count": null,
   "metadata": {
    "goals": [
     {
      "id": "ps1-quiz-2"
     }
    ],
    "grader_answer": "qc",
    "grader_id": "textbook_practice_exam/problem2a"
   },
   "outputs": [],
   "source": [
    "from qiskit import *\n",
    "\n",
    "# Start your work here.\n",
    "# We've provided the circuit that is shown above\n",
    "# Your circuit MUST be named qc\n",
    "\n",
    "qc = QuantumCircuit(2)\n",
    "\n",
    "qc.draw()"
   ]
  },
  {
   "cell_type": "markdown",
   "metadata": {},
   "source": [
    "## Problem 4\n",
    "\n",
    "Using Qiskit, create a `QuantumCircuit` that represents the following state:\n",
    "\n",
    "$|\\beta_{10} \\rangle = \\frac{1}{\\sqrt2}(|00\\rangle - |11\\rangle)$"
   ]
  },
  {
   "cell_type": "code",
   "execution_count": null,
   "metadata": {
    "goals": [
     {
      "id": "ps1-quiz-3"
     }
    ],
    "grader_answer": "qc",
    "grader_id": "textbook_practice_exam/problem2b"
   },
   "outputs": [],
   "source": [
    "from qiskit import *\n",
    "\n",
    "# Start your work here.\n",
    "# We've provided the circuit that is shown above\n",
    "# Your circuit MUST be named qc\n",
    "\n",
    "qc = QuantumCircuit(2)\n",
    "\n",
    "qc.draw()"
   ]
  },
  {
   "cell_type": "markdown",
   "metadata": {},
   "source": [
    "## Problem 5\n",
    "\n",
    "Using Qiskit, create a `QuantumCircuit` that represents the following state:\n",
    "\n",
    "$|\\beta_{11} \\rangle = \\frac{1}{\\sqrt2}(|01\\rangle - |10\\rangle)$"
   ]
  },
  {
   "cell_type": "code",
   "execution_count": null,
   "metadata": {
    "goals": [
     {
      "id": "ps1-quiz-4"
     }
    ],
    "grader_answer": "qc",
    "grader_id": "textbook_practice_exam/problem2c"
   },
   "outputs": [],
   "source": [
    "from qiskit import *\n",
    "\n",
    "# Start your work here.\n",
    "# We've provided the circuit that is shown above\n",
    "# Your circuit MUST be named qc\n",
    "\n",
    "qc = QuantumCircuit(2)\n",
    "\n",
    "qc.draw()"
   ]
  }
 ],
 "metadata": {
  "kernelspec": {
   "display_name": "Python 3",
   "language": "python",
   "name": "python3"
  },
  "language_info": {
   "codemirror_mode": {
    "name": "ipython",
    "version": 3
   },
   "file_extension": ".py",
   "mimetype": "text/x-python",
   "name": "python",
   "nbconvert_exporter": "python",
   "pygments_lexer": "ipython3",
   "version": "3.9"
  }
 },
 "nbformat": 4,
 "nbformat_minor": 4
}
