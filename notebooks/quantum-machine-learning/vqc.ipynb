{
 "cells": [
  {
   "attachments": {},
   "cell_type": "markdown",
   "metadata": {
    "formulas": {
     "_eq_1": {
      "meaning": "The quantum state is a function of both the input data and the parameters, equivalent to the encoding applied on the ground state then the parameterized circuit applied."
     },
     "_map_1": {
      "meaning": "This means f is a function that takes a bit string of length n, and returns a single bit."
     }
    },
    "gloss": {
     "adhoc-dataset": {
      "text": "A dataset just created as needed.",
      "title": "Adhoc dataset"
     },
     "barren-plateaus": {
      "text": "A ‘plateau’ is a flat, high area of land. ‘Barren’ means empty, or bleak. The barren plateau problem is where the loss landscape becomes increasingly flat (and thus hard to determine the direction to the minimum).",
      "title": "Barren plateau"
     },
     "classifier": {
      "text": "Classification is the problem of working out which class a datapoint belongs to, e.g. working out whether or not a photo contains a tortoise.",
      "title": "Classifier"
     },
     "eigensolver": {
      "text": "An eigensolver is an algorithm that finds eigenvectors, eigenvalues of an operator.",
      "title": "Eigensolver"
     },
     "global-minimum": {
      "text": "A global minimum is <i>the</i> lowest point, anywhere in our function (i.e. for any value of θ).",
      "title": "Global minimum"
     },
     "local-minimum": {
      "text": "A local minimum is the lowest point of the function, for a small range of values of θ.",
      "title": "Local minimum"
     },
     "near-term-algorithm": {
      "text": "For the next few years, quantum computers will be very noisy, and have limited qubit counts. “Near-term” algorithms are more resiliant to noise, and require less qubits, so are more likely to be useful on these machines.",
      "title": "Near-term algorithm"
     },
     "parity-function": {
      "text": "A parity function returns True if the input bit string has an odd number of 1s, and returns False otherwise.",
      "title": "Parity function"
     }
    }
   },
   "source": [
    "# Variational classification\n",
    "\n",
    "In this page, we introduce variational algorithms, then describe and implement variational quantum [classifier](gloss:classifier) and discuss variational training. "
   ]
  },
  {
   "attachments": {},
   "cell_type": "markdown",
   "metadata": {},
   "source": [
    "## Variational algorithms\n",
    "\n",
    "Variational algorithms were introduced in 2014, with the variational [eigensolver](gloss:eigensolver) in Reference 1 and the quantum approximate optimization algorithm in Reference 2. A variational algorithm is a [near-term algorithm](gloss:near-term-algorithm) that can be executed on current quantum computers in concert with classical computers. \n",
    "\n",
    "Using a parameterized quantum circuit, or ansatz, $U(\\theta)$, we prepare a state $|\\psi(\\theta) \\rangle = U(\\theta) |0 \\rangle$, and measure the expectation value using a quantum computer. We define a cost function $C(\\theta)$, that determines how good $\\theta$ is for the problem we are trying to solve. We then use a classical computer to calculate the cost function and provide updated circuit parameters using an optimization algorithm. The goal of the algorithm is to find the circuit parameters $\\theta$ for the parameterized quantum circuit $U(\\theta)$ that minimizes the cost function $C(\\theta)$. \n",
    "\n",
    "![](images/vqc/va.svg)"
   ]
  },
  {
   "attachments": {},
   "cell_type": "markdown",
   "metadata": {},
   "source": [
    "## The variational quantum classifier\n",
    "\n",
    "The variational quantum classifier is a variational algorithm where the measured expectation value is interpreted as the output of a classifier, introduced by multiple groups in 2018. For a binary classification problem, with input data vectors $\\vec{x}_i$ and binary output labels $y_i = \\{0,1\\}$; for each input data vector, we build a parameterized quantum circuit that outputs the quantum state:\n",
    "\n",
    "$$ \\cssId{_eq_1}{|\\psi(\\vec{x}_i;\\vec{\\theta}) \\rangle =  U_{W(\\vec{\\theta})}U_{\\phi(\\vec{x}_i)}|0 \\rangle}$$\n",
    "\n",
    "where $U_{W(\\vec{\\theta})}$ corresponds to the variational circuit unitary and $U_{\\phi(\\vec{x}_i)}$ corresponds to the data encoding circuit unitary. After creating and measuring the circuit of $n$ qubits, we're left with a $n$ length bitstring from which we must derive the binary output which will be our classification result. This is done with the help of a Boolean function $ \\cssId{_map_1}{ f: \\{0, 1\\}^{n} \\rightarrow \\{0, 1\\} }$. The [parity function](gloss:parity-function) is a popular choice for this.\n",
    "\n",
    "![](images/vqc/vqc.svg)\n",
    "\n",
    "In the training phase, we're trying to find the values for $\\vec{\\theta}$ that give us the best predictions. The classical computer compares the predicted labels $\\hat{y_i}$, to the provided labels $y_i$, and we calculate the success of our predictions using a cost function. Based on this cost, the classical computer chooses another value for $\\vec{\\theta}$ using a classical optimization algorithm. This new $\\vec{\\theta}$ is then used to run a new circuit, and the process is repeated until the cost function stabilizes."
   ]
  },
  {
   "attachments": {},
   "cell_type": "markdown",
   "metadata": {},
   "source": [
    "### Full implementation\n",
    "\n",
    "Let's implement all the separate components of the variational quantum classifier, and classify the `adhoc` dataset, as described in Reference 3, following [this implementation](https://github.com/0x6f736f646f/variational-quantum-classifier-on-heartattack/blob/main/Src/Notebooks/02-qiskit.ipynb) from [Rodney Osodo](https://medium.com/qiskit/building-a-quantum-variational-classifier-using-real-world-data-809c59eb17c2).\n",
    "\n",
    "1. We create 20 training data points and 5 testing data points of 2 features from each class."
   ]
  },
  {
   "cell_type": "code",
   "execution_count": 1,
   "metadata": {},
   "outputs": [],
   "source": [
    "from qiskit.utils import algorithm_globals\n",
    "algorithm_globals.random_seed = 3142\n",
    "\n",
    "import numpy as np\n",
    "np.random.seed(algorithm_globals.random_seed)\n",
    "\n",
    "from qiskit_machine_learning.datasets import ad_hoc_data\n",
    "# pylint: disable=unbalanced-tuple-unpacking\n",
    "TRAIN_DATA, TRAIN_LABELS, TEST_DATA, TEST_LABELS = (\n",
    "    ad_hoc_data(training_size=20,\n",
    "                test_size=5,\n",
    "                n=2,\n",
    "                gap=0.3,\n",
    "                one_hot=False)\n",
    ")\n",
    "# pylint: enable=unbalanced-tuple-unpacking"
   ]
  },
  {
   "attachments": {},
   "cell_type": "markdown",
   "metadata": {},
   "source": [
    "2. We prepare the classification circuit, using the Qiskit `ZZFeatureMap` as the data encoding circuit, and the Qiskit `TwoLocal` circuit with $Y$ and $Z$ rotations and controlled-phase gates, as the variational circuit, as per Reference 3."
   ]
  },
  {
   "cell_type": "code",
   "execution_count": 2,
   "metadata": {},
   "outputs": [
    {
     "data": {
      "image/svg+xml": [
       "<?xml version=\"1.0\" encoding=\"UTF-8\"?><!DOCTYPE svg  PUBLIC '-//W3C//DTD SVG 1.1//EN'  'http://www.w3.org/Graphics/SVG/1.1/DTD/svg11.dtd'><svg width=\"1263.2pt\" height=\"172pt\" version=\"1.1\" viewBox=\"0 0 1263.2 172\" xmlns=\"http://www.w3.org/2000/svg\" xmlns:xlink=\"http://www.w3.org/1999/xlink\"><defs><style type=\"text/css\">*{stroke-linejoin: round; stroke-linecap: butt}</style></defs><path d=\"m0 172h1263.2v-172h-1263.2z\" fill=\"#ffffff\"/><path d=\"m1173.1 126.45h12.052l-6.026 8.6914z\" clip-path=\"url(#pf567f7c41a)\" fill=\"#778899\"/><path d=\"m1219.4 126.45h12.052l-6.026 8.6914z\" clip-path=\"url(#pf567f7c41a)\" fill=\"#778899\"/><path d=\"m87.926 44.283h1163.5\" clip-path=\"url(#pf567f7c41a)\" fill=\"none\" stroke=\"#000000\" stroke-linecap=\"square\" stroke-width=\"2\"/><path d=\"m87.926 90.637h1163.5\" clip-path=\"url(#pf567f7c41a)\" fill=\"none\" stroke=\"#000000\" stroke-linecap=\"square\" stroke-width=\"2\"/><path d=\"m87.926 135.48h1163.5\" clip-path=\"url(#pf567f7c41a)\" fill=\"none\" stroke=\"#778899\" stroke-linecap=\"square\" stroke-width=\"2\"/><path d=\"m87.926 138.5h1163.5\" clip-path=\"url(#pf567f7c41a)\" fill=\"none\" stroke=\"#778899\" stroke-linecap=\"square\" stroke-width=\"2\"/><path d=\"m97.197 141.63 4.6354-9.2708\" clip-path=\"url(#pf567f7c41a)\" fill=\"none\" stroke=\"#778899\" stroke-linecap=\"square\"/><path d=\"m205.66 90.637v-46.354\" clip-path=\"url(#pf567f7c41a)\" fill=\"none\" stroke=\"#1192e8\" stroke-linecap=\"square\" stroke-width=\"2\"/><path d=\"m391.08 90.637v-46.354\" clip-path=\"url(#pf567f7c41a)\" fill=\"none\" stroke=\"#1192e8\" stroke-linecap=\"square\" stroke-width=\"2\"/><path d=\"m530.14 90.637v-46.354\" clip-path=\"url(#pf567f7c41a)\" fill=\"none\" stroke=\"#1192e8\" stroke-linecap=\"square\" stroke-width=\"2\"/><path d=\"m715.56 90.637v-46.354\" clip-path=\"url(#pf567f7c41a)\" fill=\"none\" stroke=\"#1192e8\" stroke-linecap=\"square\" stroke-width=\"2\"/><path d=\"m854.62 90.637v-46.354\" clip-path=\"url(#pf567f7c41a)\" fill=\"none\" stroke=\"#1192e8\" stroke-linecap=\"square\" stroke-width=\"2\"/><path d=\"m993.68 90.637v-46.354\" clip-path=\"url(#pf567f7c41a)\" fill=\"none\" stroke=\"#1192e8\" stroke-linecap=\"square\" stroke-width=\"2\"/><path d=\"m1123.7 67.46h18.078v-46.354h-18.078z\" clip-path=\"url(#pf567f7c41a)\" fill=\"#bdbdbd\" opacity=\".6\"/><path d=\"m1123.7 113.81h18.078v-46.354h-18.078z\" clip-path=\"url(#pf567f7c41a)\" fill=\"#bdbdbd\" opacity=\".6\"/><path d=\"m1180.6 44.283v82.162\" clip-path=\"url(#pf567f7c41a)\" fill=\"none\" stroke=\"#778899\" stroke-linecap=\"square\" stroke-width=\"2\"/><path d=\"m1177.6 44.283v82.162\" clip-path=\"url(#pf567f7c41a)\" fill=\"none\" stroke=\"#778899\" stroke-linecap=\"square\" stroke-width=\"2\"/><path d=\"m1227 90.637v35.808\" clip-path=\"url(#pf567f7c41a)\" fill=\"none\" stroke=\"#778899\" stroke-linecap=\"square\" stroke-width=\"2\"/><path d=\"m1223.9 90.637v35.808\" clip-path=\"url(#pf567f7c41a)\" fill=\"none\" stroke=\"#778899\" stroke-linecap=\"square\" stroke-width=\"2\"/><path d=\"m854.62 90.637v-46.354\" clip-path=\"url(#pf567f7c41a)\" fill=\"none\" stroke=\"#1192e8\" stroke-linecap=\"square\" stroke-width=\"2\"/><path d=\"m993.68 90.637v-46.354\" clip-path=\"url(#pf567f7c41a)\" fill=\"none\" stroke=\"#1192e8\" stroke-linecap=\"square\" stroke-width=\"2\"/><path d=\"m97.892 59.348h30.13v-30.13h-30.13z\" clip-path=\"url(#pf567f7c41a)\" fill=\"#1192e8\" stroke=\"#1192e8\" stroke-width=\"1.5\"/><path d=\"m97.892 105.7h30.13v-30.13h-30.13z\" clip-path=\"url(#pf567f7c41a)\" fill=\"#1192e8\" stroke=\"#1192e8\" stroke-width=\"1.5\"/><path d=\"m141.59 59.348h35.447v-30.13h-35.447z\" clip-path=\"url(#pf567f7c41a)\" fill=\"#6929c4\" stroke=\"#6929c4\" stroke-width=\"1.5\"/><path d=\"m141.59 105.7h35.447v-30.13h-35.447z\" clip-path=\"url(#pf567f7c41a)\" fill=\"#6929c4\" stroke=\"#6929c4\" stroke-width=\"1.5\"/><path d=\"m205.66 48.803c1.1986 0 2.3482-0.4762 3.1958-1.3237 0.84753-0.84753 1.3237-1.9972 1.3237-3.1958 0-1.1986-0.4762-2.3482-1.3237-3.1958-0.84753-0.84753-1.9972-1.3237-3.1958-1.3237-1.1986 0-2.3482 0.4762-3.1958 1.3237-0.84753 0.84753-1.3237 1.9972-1.3237 3.1958 0 1.1986 0.4762 2.3482 1.3237 3.1958 0.84753 0.84753 1.9972 1.3237 3.1958 1.3237z\" clip-path=\"url(#pf567f7c41a)\" fill=\"#1192e8\" stroke=\"#1192e8\" stroke-width=\"1.5\"/><path d=\"m205.66 101.18c2.7967 0 5.4792-1.1111 7.4568-3.0887 1.9776-1.9776 3.0887-4.6601 3.0887-7.4568 0-2.7967-1.1111-5.4792-3.0887-7.4568-1.9776-1.9776-4.6601-3.0887-7.4568-3.0887-2.7967 0-5.4792 1.1111-7.4568 3.0887-1.9776 1.9776-3.0887 4.6601-3.0887 7.4568 0 2.7967 1.1111 5.4792 3.0887 7.4568 1.9776 1.9776 4.6601 3.0887 7.4568 3.0887z\" clip-path=\"url(#pf567f7c41a)\" fill=\"#1192e8\" stroke=\"#1192e8\" stroke-width=\"2\"/><path d=\"m245.65 105.7h105.45v-30.13h-105.45z\" clip-path=\"url(#pf567f7c41a)\" fill=\"#6929c4\" stroke=\"#6929c4\" stroke-width=\"1.5\"/><path d=\"m391.08 48.803c1.1986 0 2.3482-0.4762 3.1958-1.3237 0.84753-0.84753 1.3237-1.9972 1.3237-3.1958 0-1.1986-0.4762-2.3482-1.3237-3.1958-0.84753-0.84753-1.9972-1.3237-3.1958-1.3237-1.1986 0-2.3482 0.4762-3.1958 1.3237s-1.3237 1.9972-1.3237 3.1958c0 1.1986 0.4762 2.3482 1.3237 3.1958s1.9972 1.3237 3.1958 1.3237z\" clip-path=\"url(#pf567f7c41a)\" fill=\"#1192e8\" stroke=\"#1192e8\" stroke-width=\"1.5\"/><path d=\"m391.08 101.18c2.7967 0 5.4792-1.1111 7.4568-3.0887 1.9776-1.9776 3.0887-4.6601 3.0887-7.4568 0-2.7967-1.1111-5.4792-3.0887-7.4568-1.9776-1.9776-4.6601-3.0887-7.4568-3.0887-2.7967 0-5.4792 1.1111-7.4568 3.0887-1.9776 1.9776-3.0887 4.6601-3.0887 7.4568 0 2.7967 1.1111 5.4792 3.0887 7.4568 1.9776 1.9776 4.6601 3.0887 7.4568 3.0887z\" clip-path=\"url(#pf567f7c41a)\" fill=\"#1192e8\" stroke=\"#1192e8\" stroke-width=\"2\"/><path d=\"m422.37 59.348h30.13v-30.13h-30.13z\" clip-path=\"url(#pf567f7c41a)\" fill=\"#1192e8\" stroke=\"#1192e8\" stroke-width=\"1.5\"/><path d=\"m422.37 105.7h30.13v-30.13h-30.13z\" clip-path=\"url(#pf567f7c41a)\" fill=\"#1192e8\" stroke=\"#1192e8\" stroke-width=\"1.5\"/><path d=\"m466.07 59.348h35.447v-30.13h-35.447z\" clip-path=\"url(#pf567f7c41a)\" fill=\"#6929c4\" stroke=\"#6929c4\" stroke-width=\"1.5\"/><path d=\"m466.07 105.7h35.447v-30.13h-35.447z\" clip-path=\"url(#pf567f7c41a)\" fill=\"#6929c4\" stroke=\"#6929c4\" stroke-width=\"1.5\"/><path d=\"m530.14 48.803c1.1986 0 2.3482-0.4762 3.1958-1.3237 0.84753-0.84753 1.3237-1.9972 1.3237-3.1958 0-1.1986-0.4762-2.3482-1.3237-3.1958-0.84753-0.84753-1.9972-1.3237-3.1958-1.3237-1.1986 0-2.3482 0.4762-3.1958 1.3237s-1.3237 1.9972-1.3237 3.1958c0 1.1986 0.4762 2.3482 1.3237 3.1958s1.9972 1.3237 3.1958 1.3237z\" clip-path=\"url(#pf567f7c41a)\" fill=\"#1192e8\" stroke=\"#1192e8\" stroke-width=\"1.5\"/><path d=\"m530.14 101.18c2.7967 0 5.4792-1.1111 7.4568-3.0887 1.9776-1.9776 3.0887-4.6601 3.0887-7.4568 0-2.7967-1.1111-5.4792-3.0887-7.4568-1.9776-1.9776-4.6601-3.0887-7.4568-3.0887-2.7967 0-5.4792 1.1111-7.4568 3.0887-1.9776 1.9776-3.0887 4.6601-3.0887 7.4568 0 2.7967 1.1111 5.4792 3.0887 7.4568 1.9776 1.9776 4.6601 3.0887 7.4568 3.0887z\" clip-path=\"url(#pf567f7c41a)\" fill=\"#1192e8\" stroke=\"#1192e8\" stroke-width=\"2\"/><path d=\"m570.13 105.7h105.45v-30.13h-105.45z\" clip-path=\"url(#pf567f7c41a)\" fill=\"#6929c4\" stroke=\"#6929c4\" stroke-width=\"1.5\"/><path d=\"m715.56 48.803c1.1986 0 2.3482-0.4762 3.1958-1.3237s1.3237-1.9972 1.3237-3.1958c0-1.1986-0.4762-2.3482-1.3237-3.1958s-1.9972-1.3237-3.1958-1.3237c-1.1986 0-2.3482 0.4762-3.1958 1.3237-0.84753 0.84753-1.3237 1.9972-1.3237 3.1958 0 1.1986 0.4762 2.3482 1.3237 3.1958 0.84753 0.84753 1.9972 1.3237 3.1958 1.3237z\" clip-path=\"url(#pf567f7c41a)\" fill=\"#1192e8\" stroke=\"#1192e8\" stroke-width=\"1.5\"/><path d=\"m715.56 101.18c2.7967 0 5.4792-1.1111 7.4568-3.0887 1.9776-1.9776 3.0887-4.6601 3.0887-7.4568 0-2.7967-1.1111-5.4792-3.0887-7.4568-1.9776-1.9776-4.6601-3.0887-7.4568-3.0887-2.7967 0-5.4792 1.1111-7.4568 3.0887-1.9776 1.9776-3.0887 4.6601-3.0887 7.4568 0 2.7967 1.1111 5.4792 3.0887 7.4568 1.9776 1.9776 4.6601 3.0887 7.4568 3.0887z\" clip-path=\"url(#pf567f7c41a)\" fill=\"#1192e8\" stroke=\"#1192e8\" stroke-width=\"2\"/><path d=\"m746.85 59.348h30.13v-30.13h-30.13z\" clip-path=\"url(#pf567f7c41a)\" fill=\"#6929c4\" stroke=\"#6929c4\" stroke-width=\"1.5\"/><path d=\"m746.85 105.7h30.13v-30.13h-30.13z\" clip-path=\"url(#pf567f7c41a)\" fill=\"#6929c4\" stroke=\"#6929c4\" stroke-width=\"1.5\"/><path d=\"m793.2 59.348h30.13v-30.13h-30.13z\" clip-path=\"url(#pf567f7c41a)\" fill=\"#6929c4\" stroke=\"#6929c4\" stroke-width=\"1.5\"/><path d=\"m793.2 105.7h30.13v-30.13h-30.13z\" clip-path=\"url(#pf567f7c41a)\" fill=\"#6929c4\" stroke=\"#6929c4\" stroke-width=\"1.5\"/><path d=\"m854.62 48.803c1.1986 0 2.3482-0.4762 3.1958-1.3237s1.3237-1.9972 1.3237-3.1958c0-1.1986-0.4762-2.3482-1.3237-3.1958s-1.9972-1.3237-3.1958-1.3237c-1.1986 0-2.3482 0.4762-3.1958 1.3237s-1.3237 1.9972-1.3237 3.1958c0 1.1986 0.4762 2.3482 1.3237 3.1958s1.9972 1.3237 3.1958 1.3237z\" clip-path=\"url(#pf567f7c41a)\" fill=\"#1192e8\" stroke=\"#1192e8\" stroke-width=\"1.5\"/><path d=\"m854.62 95.157c1.1986 0 2.3482-0.4762 3.1958-1.3237 0.84753-0.84753 1.3237-1.9972 1.3237-3.1958s-0.4762-2.3482-1.3237-3.1958c-0.84753-0.84753-1.9972-1.3237-3.1958-1.3237-1.1986 0-2.3482 0.4762-3.1958 1.3237-0.84753 0.84753-1.3237 1.9972-1.3237 3.1958s0.4762 2.3482 1.3237 3.1958c0.84753 0.84753 1.9972 1.3237 3.1958 1.3237z\" clip-path=\"url(#pf567f7c41a)\" fill=\"#1192e8\" stroke=\"#1192e8\" stroke-width=\"1.5\"/><path d=\"m885.91 59.348h30.13v-30.13h-30.13z\" clip-path=\"url(#pf567f7c41a)\" fill=\"#6929c4\" stroke=\"#6929c4\" stroke-width=\"1.5\"/><path d=\"m885.91 105.7h30.13v-30.13h-30.13z\" clip-path=\"url(#pf567f7c41a)\" fill=\"#6929c4\" stroke=\"#6929c4\" stroke-width=\"1.5\"/><path d=\"m932.26 59.348h30.13v-30.13h-30.13z\" clip-path=\"url(#pf567f7c41a)\" fill=\"#6929c4\" stroke=\"#6929c4\" stroke-width=\"1.5\"/><path d=\"m932.26 105.7h30.13v-30.13h-30.13z\" clip-path=\"url(#pf567f7c41a)\" fill=\"#6929c4\" stroke=\"#6929c4\" stroke-width=\"1.5\"/><path d=\"m993.68 48.803c1.1986 0 2.3482-0.4762 3.1958-1.3237 0.84753-0.84753 1.3237-1.9972 1.3237-3.1958 0-1.1986-0.4762-2.3482-1.3237-3.1958-0.84753-0.84753-1.9972-1.3237-3.1958-1.3237-1.1986 0-2.3482 0.4762-3.1958 1.3237s-1.3237 1.9972-1.3237 3.1958c0 1.1986 0.4762 2.3482 1.3237 3.1958s1.9972 1.3237 3.1958 1.3237z\" clip-path=\"url(#pf567f7c41a)\" fill=\"#1192e8\" stroke=\"#1192e8\" stroke-width=\"1.5\"/><path d=\"m993.68 95.157c1.1986 0 2.3482-0.4762 3.1958-1.3237 0.84753-0.84753 1.3237-1.9972 1.3237-3.1958s-0.4762-2.3482-1.3237-3.1958c-0.84753-0.84753-1.9972-1.3237-3.1958-1.3237-1.1986 0-2.3482 0.4762-3.1958 1.3237-0.84753 0.84753-1.3237 1.9972-1.3237 3.1958s0.4762 2.3482 1.3237 3.1958c0.84753 0.84753 1.9972 1.3237 3.1958 1.3237z\" clip-path=\"url(#pf567f7c41a)\" fill=\"#1192e8\" stroke=\"#1192e8\" stroke-width=\"1.5\"/><path d=\"m1025 59.348h30.13v-30.13h-30.13z\" clip-path=\"url(#pf567f7c41a)\" fill=\"#6929c4\" stroke=\"#6929c4\" stroke-width=\"1.5\"/><path d=\"m1025 105.7h30.13v-30.13h-30.13z\" clip-path=\"url(#pf567f7c41a)\" fill=\"#6929c4\" stroke=\"#6929c4\" stroke-width=\"1.5\"/><path d=\"m1071.3 59.348h30.13v-30.13h-30.13z\" clip-path=\"url(#pf567f7c41a)\" fill=\"#6929c4\" stroke=\"#6929c4\" stroke-width=\"1.5\"/><path d=\"m1071.3 105.7h30.13v-30.13h-30.13z\" clip-path=\"url(#pf567f7c41a)\" fill=\"#6929c4\" stroke=\"#6929c4\" stroke-width=\"1.5\"/><path d=\"m1164 59.348h30.13v-30.13h-30.13z\" clip-path=\"url(#pf567f7c41a)\" fill=\"#121619\" stroke=\"#121619\" stroke-width=\"1.5\"/><path d=\"m1189.6 48.803c0-2.7958-1.1118-5.4799-3.0887-7.4568s-4.661-3.0887-7.4568-3.0887-5.4799 1.1118-7.4568 3.0887-3.0887 4.661-3.0887 7.4568\" clip-path=\"url(#pf567f7c41a)\" fill=\"none\" stroke=\"#ffffff\" stroke-width=\"2\"/><path d=\"m1179.1 48.803 10.546-10.546\" clip-path=\"url(#pf567f7c41a)\" fill=\"none\" stroke=\"#ffffff\" stroke-linecap=\"square\" stroke-width=\"2\"/><path d=\"m1210.4 105.7h30.13v-30.13h-30.13z\" clip-path=\"url(#pf567f7c41a)\" fill=\"#121619\" stroke=\"#121619\" stroke-width=\"1.5\"/><path d=\"m1236 95.157c0-2.7958-1.1118-5.4799-3.0887-7.4568s-4.661-3.0887-7.4568-3.0887c-2.7958 0-5.4799 1.1118-7.4568 3.0887s-3.0887 4.661-3.0887 7.4568\" clip-path=\"url(#pf567f7c41a)\" fill=\"none\" stroke=\"#ffffff\" stroke-width=\"2\"/><path d=\"m1225.5 95.157 10.546-10.546\" clip-path=\"url(#pf567f7c41a)\" fill=\"none\" stroke=\"#ffffff\" stroke-linecap=\"square\" stroke-width=\"2\"/><g clip-path=\"url(#pf567f7c41a)\"><g transform=\"translate(60.617 48.734) scale(.1625 -.1625)\"><defs><path id=\"DejaVuSans-Oblique-71\" transform=\"scale(.015625)\" d=\"m2669 525q-231-303-546-460-314-156-695-156-531 0-833 358-301 358-301 986 0 506 186 978t533 847q225 244 517 375t614 131q387 0 637-153t363-462l100 525h578l-934-4813h-579l360 1844zm-1778 813q0-463 193-705 194-242 560-242 544 0 928 520t384 1264q0 450-199 689-198 239-569 239-272 0-504-127-231-126-403-370-181-256-286-600-104-343-104-668z\"/><path id=\"DejaVuSans-30\" transform=\"scale(.015625)\" d=\"m2034 4250q-487 0-733-480-245-479-245-1442 0-959 245-1439 246-480 733-480 491 0 736 480 246 480 246 1439 0 963-246 1442-245 480-736 480zm0 500q785 0 1199-621 414-620 414-1801 0-1178-414-1799-414-620-1199-620-784 0-1198 620-414 621-414 1799 0 1181 414 1801 414 621 1198 621z\"/></defs><use xlink:href=\"#DejaVuSans-Oblique-71\"/><use transform=\"translate(63.477 -16.406) scale(.7)\" xlink:href=\"#DejaVuSans-30\"/></g></g><g clip-path=\"url(#pf567f7c41a)\"><g transform=\"translate(60.617 95.088) scale(.1625 -.1625)\"><defs><path id=\"DejaVuSans-31\" transform=\"scale(.015625)\" d=\"m794 531h1031v3560l-1122-225v575l1116 225h631v-4135h1031v-531h-2687v531z\"/></defs><use xlink:href=\"#DejaVuSans-Oblique-71\"/><use transform=\"translate(63.477 -16.406) scale(.7)\" xlink:href=\"#DejaVuSans-31\"/></g></g><g clip-path=\"url(#pf567f7c41a)\"><g transform=\"translate(92.561 130.19) scale(.104 -.104)\"><defs><path id=\"DejaVuSans-32\" transform=\"scale(.015625)\" d=\"m1228 531h2203v-531h-2962v531q359 372 979 998 621 627 780 809 303 340 423 576 121 236 121 464 0 372-261 606-261 235-680 235-297 0-627-103-329-103-704-313v638q381 153 712 231 332 78 607 78 725 0 1156-363 431-362 431-968 0-288-108-546-107-257-392-607-78-91-497-524-418-433-1181-1211z\"/></defs><use xlink:href=\"#DejaVuSans-32\"/></g></g><g clip-path=\"url(#pf567f7c41a)\"><g transform=\"translate(34.404 141.48) scale(.1625 -.1625)\"><defs><path id=\"DejaVuSans-6d\" transform=\"scale(.015625)\" d=\"m3328 2828q216 388 516 572t706 184q547 0 844-383 297-382 297-1088v-2113h-578v2094q0 503-179 746-178 244-543 244-447 0-707-297-259-296-259-809v-1978h-578v2094q0 506-178 748t-550 242q-441 0-701-298-259-298-259-808v-1978h-578v3500h578v-544q197 322 472 475t653 153q382 0 649-194 267-193 395-562z\"/><path id=\"DejaVuSans-65\" transform=\"scale(.015625)\" d=\"m3597 1894v-281h-2644q38-594 358-905t892-311q331 0 642 81t618 244v-544q-310-131-635-200t-659-69q-838 0-1327 487-489 488-489 1320 0 859 464 1363 464 505 1252 505 706 0 1117-455 411-454 411-1235zm-575 169q-6 471-264 752-258 282-683 282-481 0-770-272t-333-766l2050 4z\"/><path id=\"DejaVuSans-61\" transform=\"scale(.015625)\" d=\"m2194 1759q-697 0-966-159t-269-544q0-306 202-486 202-179 548-179 479 0 768 339t289 901v128h-572zm1147 238v-1997h-575v531q-197-318-491-470t-719-152q-537 0-855 302-317 302-317 808 0 590 395 890 396 300 1180 300h807v57q0 397-261 614t-733 217q-300 0-585-72-284-72-546-216v532q315 122 612 182 297 61 578 61 760 0 1135-394 375-393 375-1193z\"/><path id=\"DejaVuSans-73\" transform=\"scale(.015625)\" d=\"m2834 3397v-544q-243 125-506 187-262 63-544 63-428 0-642-131t-214-394q0-200 153-314t616-217l197-44q612-131 870-370t258-667q0-488-386-773-386-284-1061-284-281 0-586 55t-642 164v594q319-166 628-249 309-82 613-82 406 0 624 139 219 139 219 392 0 234-158 359-157 125-692 241l-200 47q-534 112-772 345-237 233-237 639 0 494 350 762 350 269 994 269 318 0 599-47 282-46 519-140z\"/></defs><use xlink:href=\"#DejaVuSans-6d\"/><use x=\"97.412109\" xlink:href=\"#DejaVuSans-65\"/><use x=\"158.935547\" xlink:href=\"#DejaVuSans-61\"/><use x=\"220.214844\" xlink:href=\"#DejaVuSans-73\"/></g></g><g clip-path=\"url(#pf567f7c41a)\"><g transform=\"translate(108.07 47.87) scale(.13 -.13)\" fill=\"#ffffff\"><defs><path id=\"DejaVuSans-48\" transform=\"scale(.015625)\" d=\"m628 4666h631v-1913h2294v1913h631v-4666h-631v2222h-2294v-2222h-631v4666z\"/></defs><use xlink:href=\"#DejaVuSans-48\"/></g></g><g clip-path=\"url(#pf567f7c41a)\"><g transform=\"translate(108.07 94.224) scale(.13 -.13)\" fill=\"#ffffff\"><use xlink:href=\"#DejaVuSans-48\"/></g></g><g clip-path=\"url(#pf567f7c41a)\"><g transform=\"translate(142.92 55.53) scale(.08 -.08)\" fill=\"#ffffff\"><defs><path id=\"DejaVuSans-2e\" transform=\"scale(.015625)\" d=\"m684 794h660v-794h-660v794z\"/><path id=\"DejaVuSans-2a\" transform=\"scale(.015625)\" d=\"m3009 3897-1121-606 1121-610-181-306-1050 634v-1178h-356v1178l-1050-634-181 306 1122 610-1122 606 181 309 1050-634v1178h356v-1178l1050 634 181-309z\"/><path id=\"DejaVuSans-78\" transform=\"scale(.015625)\" d=\"m3513 3500-1266-1703 1331-1797h-678l-1019 1375-1018-1375h-679l1360 1831-1244 1669h678l928-1247 928 1247h679z\"/><path id=\"DejaVuSans-5b\" transform=\"scale(.015625)\" d=\"m550 4863h1325v-447h-750v-4813h750v-447h-1325v5707z\"/><path id=\"DejaVuSans-5d\" transform=\"scale(.015625)\" d=\"m1947 4863v-5707h-1325v447h747v4813h-747v447h1325z\"/></defs><use xlink:href=\"#DejaVuSans-32\"/><use x=\"63.623047\" xlink:href=\"#DejaVuSans-2e\"/><use x=\"95.410156\" xlink:href=\"#DejaVuSans-30\"/><use x=\"159.033203\" xlink:href=\"#DejaVuSans-2a\"/><use x=\"209.033203\" xlink:href=\"#DejaVuSans-78\"/><use x=\"268.212891\" xlink:href=\"#DejaVuSans-5b\"/><use x=\"307.226562\" xlink:href=\"#DejaVuSans-30\"/><use x=\"370.849609\" xlink:href=\"#DejaVuSans-5d\"/></g></g><g clip-path=\"url(#pf567f7c41a)\"><g transform=\"translate(155.39 43.351) scale(.13 -.13)\" fill=\"#ffffff\"><defs><path id=\"DejaVuSans-50\" transform=\"scale(.015625)\" d=\"m1259 4147v-1753h794q441 0 681 228 241 228 241 650 0 419-241 647-240 228-681 228h-794zm-631 519h1425q785 0 1186-355 402-355 402-1039 0-691-402-1044-401-353-1186-353h-794v-1875h-631v4666z\"/></defs><use xlink:href=\"#DejaVuSans-50\"/></g></g><g clip-path=\"url(#pf567f7c41a)\"><g transform=\"translate(142.92 101.88) scale(.08 -.08)\" fill=\"#ffffff\"><use xlink:href=\"#DejaVuSans-32\"/><use x=\"63.623047\" xlink:href=\"#DejaVuSans-2e\"/><use x=\"95.410156\" xlink:href=\"#DejaVuSans-30\"/><use x=\"159.033203\" xlink:href=\"#DejaVuSans-2a\"/><use x=\"209.033203\" xlink:href=\"#DejaVuSans-78\"/><use x=\"268.212891\" xlink:href=\"#DejaVuSans-5b\"/><use x=\"307.226562\" xlink:href=\"#DejaVuSans-31\"/><use x=\"370.849609\" xlink:href=\"#DejaVuSans-5d\"/></g></g><g clip-path=\"url(#pf567f7c41a)\"><g transform=\"translate(155.39 89.705) scale(.13 -.13)\" fill=\"#ffffff\"><use xlink:href=\"#DejaVuSans-50\"/></g></g><path d=\"m205.66 96.663v-12.052\" clip-path=\"url(#pf567f7c41a)\" fill=\"none\" stroke=\"#ffffff\" stroke-linecap=\"square\" stroke-width=\"2\"/><path d=\"m199.64 90.637h12.052\" clip-path=\"url(#pf567f7c41a)\" fill=\"none\" stroke=\"#ffffff\" stroke-linecap=\"square\" stroke-width=\"2\"/><g clip-path=\"url(#pf567f7c41a)\"><g transform=\"translate(249.09 101.88) scale(.08 -.08)\" fill=\"#ffffff\"><defs><path id=\"DejaVuSans-28\" transform=\"scale(.015625)\" d=\"m1984 4856q-418-718-622-1422-203-703-203-1425 0-721 205-1429t620-1424h-500q-468 735-701 1444t-233 1409q0 697 231 1403 232 707 703 1444h500z\"/><path id=\"DejaVuSans-Oblique-3c0\" transform=\"scale(.015625)\" d=\"m584 3500h3354l-113-575h-441l-418-2150q-44-225 15-325 57-97 228-97 47 0 116 10 72 6 94 9l-81-416q-116-40-235-59-122-19-237-19-375 0-478 203-104 207 3 757l406 2087h-1291l-568-2925h-588l569 2925h-447l112 575z\"/><path id=\"DejaVuSans-2212\" transform=\"scale(.015625)\" d=\"m678 2272h4006v-531h-4006v531z\"/><path id=\"DejaVuSans-29\" transform=\"scale(.015625)\" d=\"m513 4856h500q468-737 701-1444 233-706 233-1403 0-700-233-1409t-701-1444h-500q415 716 620 1424t205 1429q0 722-205 1425-205 704-620 1422z\"/></defs><use transform=\"translate(0 .015625)\" xlink:href=\"#DejaVuSans-32\"/><use transform=\"translate(63.623 .015625)\" xlink:href=\"#DejaVuSans-2e\"/><use transform=\"translate(95.41 .015625)\" xlink:href=\"#DejaVuSans-30\"/><use transform=\"translate(159.03 .015625)\" xlink:href=\"#DejaVuSans-2a\"/><use transform=\"translate(209.03 .015625)\" xlink:href=\"#DejaVuSans-28\"/><use transform=\"translate(248.05 .015625)\" xlink:href=\"#DejaVuSans-Oblique-3c0\"/><use transform=\"translate(308.25 .015625)\" xlink:href=\"#DejaVuSans-20\"/><use transform=\"translate(340.04 .015625)\" xlink:href=\"#DejaVuSans-2212\"/><use transform=\"translate(423.83 .015625)\" xlink:href=\"#DejaVuSans-20\"/><use transform=\"translate(455.62 .015625)\" xlink:href=\"#DejaVuSans-78\"/><use transform=\"translate(514.79 .015625)\" xlink:href=\"#DejaVuSans-5b\"/><use transform=\"translate(553.81 .015625)\" xlink:href=\"#DejaVuSans-30\"/><use transform=\"translate(617.43 .015625)\" xlink:href=\"#DejaVuSans-5d\"/><use transform=\"translate(656.45 .015625)\" xlink:href=\"#DejaVuSans-29\"/><use transform=\"translate(695.46 .015625)\" xlink:href=\"#DejaVuSans-2a\"/><use transform=\"translate(745.46 .015625)\" xlink:href=\"#DejaVuSans-28\"/><use transform=\"translate(784.47 .015625)\" xlink:href=\"#DejaVuSans-Oblique-3c0\"/><use transform=\"translate(844.68 .015625)\" xlink:href=\"#DejaVuSans-20\"/><use transform=\"translate(876.46 .015625)\" xlink:href=\"#DejaVuSans-2212\"/><use transform=\"translate(960.25 .015625)\" xlink:href=\"#DejaVuSans-20\"/><use transform=\"translate(992.04 .015625)\" xlink:href=\"#DejaVuSans-78\"/><use transform=\"translate(1051.2 .015625)\" xlink:href=\"#DejaVuSans-5b\"/><use transform=\"translate(1090.2 .015625)\" xlink:href=\"#DejaVuSans-31\"/><use transform=\"translate(1153.9 .015625)\" xlink:href=\"#DejaVuSans-5d\"/><use transform=\"translate(1192.9 .015625)\" xlink:href=\"#DejaVuSans-29\"/></g></g><g clip-path=\"url(#pf567f7c41a)\"><g transform=\"translate(294.45 89.705) scale(.13 -.13)\" fill=\"#ffffff\"><use xlink:href=\"#DejaVuSans-50\"/></g></g><path d=\"m391.08 96.663v-12.052\" clip-path=\"url(#pf567f7c41a)\" fill=\"none\" stroke=\"#ffffff\" stroke-linecap=\"square\" stroke-width=\"2\"/><path d=\"m385.05 90.637h12.052\" clip-path=\"url(#pf567f7c41a)\" fill=\"none\" stroke=\"#ffffff\" stroke-linecap=\"square\" stroke-width=\"2\"/><g clip-path=\"url(#pf567f7c41a)\"><g transform=\"translate(432.55 47.87) scale(.13 -.13)\" fill=\"#ffffff\"><use xlink:href=\"#DejaVuSans-48\"/></g></g><g clip-path=\"url(#pf567f7c41a)\"><g transform=\"translate(432.55 94.224) scale(.13 -.13)\" fill=\"#ffffff\"><use xlink:href=\"#DejaVuSans-48\"/></g></g><g clip-path=\"url(#pf567f7c41a)\"><g transform=\"translate(467.39 55.53) scale(.08 -.08)\" fill=\"#ffffff\"><use xlink:href=\"#DejaVuSans-32\"/><use x=\"63.623047\" xlink:href=\"#DejaVuSans-2e\"/><use x=\"95.410156\" xlink:href=\"#DejaVuSans-30\"/><use x=\"159.033203\" xlink:href=\"#DejaVuSans-2a\"/><use x=\"209.033203\" xlink:href=\"#DejaVuSans-78\"/><use x=\"268.212891\" xlink:href=\"#DejaVuSans-5b\"/><use x=\"307.226562\" xlink:href=\"#DejaVuSans-30\"/><use x=\"370.849609\" xlink:href=\"#DejaVuSans-5d\"/></g></g><g clip-path=\"url(#pf567f7c41a)\"><g transform=\"translate(479.87 43.351) scale(.13 -.13)\" fill=\"#ffffff\"><use xlink:href=\"#DejaVuSans-50\"/></g></g><g clip-path=\"url(#pf567f7c41a)\"><g transform=\"translate(467.39 101.88) scale(.08 -.08)\" fill=\"#ffffff\"><use xlink:href=\"#DejaVuSans-32\"/><use x=\"63.623047\" xlink:href=\"#DejaVuSans-2e\"/><use x=\"95.410156\" xlink:href=\"#DejaVuSans-30\"/><use x=\"159.033203\" xlink:href=\"#DejaVuSans-2a\"/><use x=\"209.033203\" xlink:href=\"#DejaVuSans-78\"/><use x=\"268.212891\" xlink:href=\"#DejaVuSans-5b\"/><use x=\"307.226562\" xlink:href=\"#DejaVuSans-31\"/><use x=\"370.849609\" xlink:href=\"#DejaVuSans-5d\"/></g></g><g clip-path=\"url(#pf567f7c41a)\"><g transform=\"translate(479.87 89.705) scale(.13 -.13)\" fill=\"#ffffff\"><use xlink:href=\"#DejaVuSans-50\"/></g></g><path d=\"m530.14 96.663v-12.052\" clip-path=\"url(#pf567f7c41a)\" fill=\"none\" stroke=\"#ffffff\" stroke-linecap=\"square\" stroke-width=\"2\"/><path d=\"m524.12 90.637h12.052\" clip-path=\"url(#pf567f7c41a)\" fill=\"none\" stroke=\"#ffffff\" stroke-linecap=\"square\" stroke-width=\"2\"/><g clip-path=\"url(#pf567f7c41a)\"><g transform=\"translate(573.57 101.88) scale(.08 -.08)\" fill=\"#ffffff\"><use transform=\"translate(0 .015625)\" xlink:href=\"#DejaVuSans-32\"/><use transform=\"translate(63.623 .015625)\" xlink:href=\"#DejaVuSans-2e\"/><use transform=\"translate(95.41 .015625)\" xlink:href=\"#DejaVuSans-30\"/><use transform=\"translate(159.03 .015625)\" xlink:href=\"#DejaVuSans-2a\"/><use transform=\"translate(209.03 .015625)\" xlink:href=\"#DejaVuSans-28\"/><use transform=\"translate(248.05 .015625)\" xlink:href=\"#DejaVuSans-Oblique-3c0\"/><use transform=\"translate(308.25 .015625)\" xlink:href=\"#DejaVuSans-20\"/><use transform=\"translate(340.04 .015625)\" xlink:href=\"#DejaVuSans-2212\"/><use transform=\"translate(423.83 .015625)\" xlink:href=\"#DejaVuSans-20\"/><use transform=\"translate(455.62 .015625)\" xlink:href=\"#DejaVuSans-78\"/><use transform=\"translate(514.79 .015625)\" xlink:href=\"#DejaVuSans-5b\"/><use transform=\"translate(553.81 .015625)\" xlink:href=\"#DejaVuSans-30\"/><use transform=\"translate(617.43 .015625)\" xlink:href=\"#DejaVuSans-5d\"/><use transform=\"translate(656.45 .015625)\" xlink:href=\"#DejaVuSans-29\"/><use transform=\"translate(695.46 .015625)\" xlink:href=\"#DejaVuSans-2a\"/><use transform=\"translate(745.46 .015625)\" xlink:href=\"#DejaVuSans-28\"/><use transform=\"translate(784.47 .015625)\" xlink:href=\"#DejaVuSans-Oblique-3c0\"/><use transform=\"translate(844.68 .015625)\" xlink:href=\"#DejaVuSans-20\"/><use transform=\"translate(876.46 .015625)\" xlink:href=\"#DejaVuSans-2212\"/><use transform=\"translate(960.25 .015625)\" xlink:href=\"#DejaVuSans-20\"/><use transform=\"translate(992.04 .015625)\" xlink:href=\"#DejaVuSans-78\"/><use transform=\"translate(1051.2 .015625)\" xlink:href=\"#DejaVuSans-5b\"/><use transform=\"translate(1090.2 .015625)\" xlink:href=\"#DejaVuSans-31\"/><use transform=\"translate(1153.9 .015625)\" xlink:href=\"#DejaVuSans-5d\"/><use transform=\"translate(1192.9 .015625)\" xlink:href=\"#DejaVuSans-29\"/></g></g><g clip-path=\"url(#pf567f7c41a)\"><g transform=\"translate(618.93 89.705) scale(.13 -.13)\" fill=\"#ffffff\"><use xlink:href=\"#DejaVuSans-50\"/></g></g><path d=\"m715.56 96.663v-12.052\" clip-path=\"url(#pf567f7c41a)\" fill=\"none\" stroke=\"#ffffff\" stroke-linecap=\"square\" stroke-width=\"2\"/><path d=\"m709.53 90.637h12.052\" clip-path=\"url(#pf567f7c41a)\" fill=\"none\" stroke=\"#ffffff\" stroke-linecap=\"square\" stroke-width=\"2\"/><g clip-path=\"url(#pf567f7c41a)\"><g transform=\"translate(753.8 55.53) scale(.08 -.08)\" fill=\"#ffffff\"><defs><path id=\"DejaVuSans-3b8\" transform=\"scale(.015625)\" d=\"m2953 2219h-1990q46-935 262-1331 269-488 734-488 469 0 729 491 228 431 265 1328zm-9 531q-88 888-256 1200-269 494-729 494-478 0-731-488-200-393-259-1206h1975zm-985 2163q750 0 1179-663 428-659 428-1828 0-1166-428-1828-429-666-1179-666-753 0-1178 666-428 662-428 1828 0 1169 428 1828 425 663 1178 663z\"/></defs><use xlink:href=\"#DejaVuSans-3b8\"/><use x=\"61.181641\" xlink:href=\"#DejaVuSans-5b\"/><use x=\"100.195312\" xlink:href=\"#DejaVuSans-30\"/><use x=\"163.818359\" xlink:href=\"#DejaVuSans-5d\"/></g></g><g clip-path=\"url(#pf567f7c41a)\"><g transform=\"translate(754.37 43.351) scale(.13 -.13)\" fill=\"#ffffff\"><defs><path id=\"DejaVuSans-52\" transform=\"scale(.015625)\" d=\"m2841 2188q203-69 395-294t386-619l641-1275h-679l-596 1197q-232 469-449 622t-592 153h-688v-1972h-631v4666h1425q800 0 1194-335 394-334 394-1009 0-441-205-732-205-290-595-402zm-1582 1959v-1656h794q456 0 689 211t233 620-233 617-689 208h-794z\"/><path id=\"DejaVuSans-59\" transform=\"scale(.015625)\" d=\"m-13 4666h679l1293-1919 1285 1919h678l-1650-2444v-2222h-634v2222l-1651 2444z\"/></defs><use transform=\"translate(0 .09375)\" xlink:href=\"#DejaVuSans-52\"/><use transform=\"translate(70.439 -16.312) scale(.7)\" xlink:href=\"#DejaVuSans-59\"/></g></g><g clip-path=\"url(#pf567f7c41a)\"><g transform=\"translate(753.8 101.88) scale(.08 -.08)\" fill=\"#ffffff\"><use xlink:href=\"#DejaVuSans-3b8\"/><use x=\"61.181641\" xlink:href=\"#DejaVuSans-5b\"/><use x=\"100.195312\" xlink:href=\"#DejaVuSans-31\"/><use x=\"163.818359\" xlink:href=\"#DejaVuSans-5d\"/></g></g><g clip-path=\"url(#pf567f7c41a)\"><g transform=\"translate(754.37 89.705) scale(.13 -.13)\" fill=\"#ffffff\"><use transform=\"translate(0 .09375)\" xlink:href=\"#DejaVuSans-52\"/><use transform=\"translate(70.439 -16.312) scale(.7)\" xlink:href=\"#DejaVuSans-59\"/></g></g><g clip-path=\"url(#pf567f7c41a)\"><g transform=\"translate(800.15 55.53) scale(.08 -.08)\" fill=\"#ffffff\"><use xlink:href=\"#DejaVuSans-3b8\"/><use x=\"61.181641\" xlink:href=\"#DejaVuSans-5b\"/><use x=\"100.195312\" xlink:href=\"#DejaVuSans-32\"/><use x=\"163.818359\" xlink:href=\"#DejaVuSans-5d\"/></g></g><g clip-path=\"url(#pf567f7c41a)\"><g transform=\"translate(800.34 43.351) scale(.13 -.13)\" fill=\"#ffffff\"><defs><path id=\"DejaVuSans-5a\" transform=\"scale(.015625)\" d=\"m359 4666h3666v-482l-2950-3653h3022v-531h-3809v481l2950 3653h-2879v532z\"/></defs><use transform=\"translate(0 .09375)\" xlink:href=\"#DejaVuSans-52\"/><use transform=\"translate(70.439 -16.312) scale(.7)\" xlink:href=\"#DejaVuSans-5a\"/></g></g><g clip-path=\"url(#pf567f7c41a)\"><g transform=\"translate(800.15 101.88) scale(.08 -.08)\" fill=\"#ffffff\"><defs><path id=\"DejaVuSans-33\" transform=\"scale(.015625)\" d=\"m2597 2516q453-97 707-404 255-306 255-756 0-690-475-1069-475-378-1350-378-293 0-604 58t-642 174v609q262-153 574-231 313-78 654-78 593 0 904 234t311 681q0 413-289 645-289 233-804 233h-544v519h569q465 0 712 186t247 536q0 359-255 551-254 193-729 193-260 0-557-57-297-56-653-174v562q360 100 674 150t592 50q719 0 1137-327 419-326 419-882 0-388-222-655t-631-370z\"/></defs><use xlink:href=\"#DejaVuSans-3b8\"/><use x=\"61.181641\" xlink:href=\"#DejaVuSans-5b\"/><use x=\"100.195312\" xlink:href=\"#DejaVuSans-33\"/><use x=\"163.818359\" xlink:href=\"#DejaVuSans-5d\"/></g></g><g clip-path=\"url(#pf567f7c41a)\"><g transform=\"translate(800.34 89.705) scale(.13 -.13)\" fill=\"#ffffff\"><use transform=\"translate(0 .09375)\" xlink:href=\"#DejaVuSans-52\"/><use transform=\"translate(70.439 -16.312) scale(.7)\" xlink:href=\"#DejaVuSans-5a\"/></g></g><g clip-path=\"url(#pf567f7c41a)\"><g transform=\"translate(892.86 55.53) scale(.08 -.08)\" fill=\"#ffffff\"><defs><path id=\"DejaVuSans-34\" transform=\"scale(.015625)\" d=\"m2419 4116-1594-2491h1594v2491zm-166 550h794v-3041h666v-525h-666v-1100h-628v1100h-2106v609l1940 2957z\"/></defs><use xlink:href=\"#DejaVuSans-3b8\"/><use x=\"61.181641\" xlink:href=\"#DejaVuSans-5b\"/><use x=\"100.195312\" xlink:href=\"#DejaVuSans-34\"/><use x=\"163.818359\" xlink:href=\"#DejaVuSans-5d\"/></g></g><g clip-path=\"url(#pf567f7c41a)\"><g transform=\"translate(893.43 43.351) scale(.13 -.13)\" fill=\"#ffffff\"><use transform=\"translate(0 .09375)\" xlink:href=\"#DejaVuSans-52\"/><use transform=\"translate(70.439 -16.312) scale(.7)\" xlink:href=\"#DejaVuSans-59\"/></g></g><g clip-path=\"url(#pf567f7c41a)\"><g transform=\"translate(892.86 101.88) scale(.08 -.08)\" fill=\"#ffffff\"><defs><path id=\"DejaVuSans-35\" transform=\"scale(.015625)\" d=\"m691 4666h2478v-532h-1900v-1143q137 47 274 70 138 23 276 23 781 0 1237-428 457-428 457-1159 0-753-469-1171-469-417-1322-417-294 0-599 50-304 50-629 150v635q281-153 581-228t634-75q541 0 856 284 316 284 316 772 0 487-316 771-315 285-856 285-253 0-505-56-251-56-513-175v2344z\"/></defs><use xlink:href=\"#DejaVuSans-3b8\"/><use x=\"61.181641\" xlink:href=\"#DejaVuSans-5b\"/><use x=\"100.195312\" xlink:href=\"#DejaVuSans-35\"/><use x=\"163.818359\" xlink:href=\"#DejaVuSans-5d\"/></g></g><g clip-path=\"url(#pf567f7c41a)\"><g transform=\"translate(893.43 89.705) scale(.13 -.13)\" fill=\"#ffffff\"><use transform=\"translate(0 .09375)\" xlink:href=\"#DejaVuSans-52\"/><use transform=\"translate(70.439 -16.312) scale(.7)\" xlink:href=\"#DejaVuSans-59\"/></g></g><g clip-path=\"url(#pf567f7c41a)\"><g transform=\"translate(939.22 55.53) scale(.08 -.08)\" fill=\"#ffffff\"><defs><path id=\"DejaVuSans-36\" transform=\"scale(.015625)\" d=\"m2113 2584q-425 0-674-291-248-290-248-796 0-503 248-796 249-292 674-292t673 292q248 293 248 796 0 506-248 796-248 291-673 291zm1253 1979v-575q-238 112-480 171-242 60-480 60-625 0-955-422-329-422-376-1275 184 272 462 417 279 145 613 145 703 0 1111-427 408-426 408-1160 0-719-425-1154-425-434-1131-434-810 0-1238 620-428 621-428 1799 0 1106 525 1764t1409 658q238 0 480-47t505-140z\"/></defs><use xlink:href=\"#DejaVuSans-3b8\"/><use x=\"61.181641\" xlink:href=\"#DejaVuSans-5b\"/><use x=\"100.195312\" xlink:href=\"#DejaVuSans-36\"/><use x=\"163.818359\" xlink:href=\"#DejaVuSans-5d\"/></g></g><g clip-path=\"url(#pf567f7c41a)\"><g transform=\"translate(939.4 43.351) scale(.13 -.13)\" fill=\"#ffffff\"><use transform=\"translate(0 .09375)\" xlink:href=\"#DejaVuSans-52\"/><use transform=\"translate(70.439 -16.312) scale(.7)\" xlink:href=\"#DejaVuSans-5a\"/></g></g><g clip-path=\"url(#pf567f7c41a)\"><g transform=\"translate(939.22 101.88) scale(.08 -.08)\" fill=\"#ffffff\"><defs><path id=\"DejaVuSans-37\" transform=\"scale(.015625)\" d=\"m525 4666h3e3v-269l-1694-4397h-659l1594 4134h-2241v532z\"/></defs><use xlink:href=\"#DejaVuSans-3b8\"/><use x=\"61.181641\" xlink:href=\"#DejaVuSans-5b\"/><use x=\"100.195312\" xlink:href=\"#DejaVuSans-37\"/><use x=\"163.818359\" xlink:href=\"#DejaVuSans-5d\"/></g></g><g clip-path=\"url(#pf567f7c41a)\"><g transform=\"translate(939.4 89.705) scale(.13 -.13)\" fill=\"#ffffff\"><use transform=\"translate(0 .09375)\" xlink:href=\"#DejaVuSans-52\"/><use transform=\"translate(70.439 -16.312) scale(.7)\" xlink:href=\"#DejaVuSans-5a\"/></g></g><g clip-path=\"url(#pf567f7c41a)\"><g transform=\"translate(1031.9 55.53) scale(.08 -.08)\" fill=\"#ffffff\"><defs><path id=\"DejaVuSans-38\" transform=\"scale(.015625)\" d=\"m2034 2216q-450 0-708-241-257-241-257-662 0-422 257-663 258-241 708-241t709 242q260 243 260 662 0 421-258 662-257 241-711 241zm-631 268q-406 100-633 378-226 279-226 679 0 559 398 884 399 325 1092 325 697 0 1094-325t397-884q0-400-227-679-226-278-629-378 456-106 710-416 255-309 255-755 0-679-414-1042-414-362-1186-362-771 0-1186 362-414 363-414 1042 0 446 256 755 257 310 713 416zm-231 997q0-362 226-565 227-203 636-203 407 0 636 203 230 203 230 565 0 363-230 566-229 203-636 203-409 0-636-203-226-203-226-566z\"/></defs><use xlink:href=\"#DejaVuSans-3b8\"/><use x=\"61.181641\" xlink:href=\"#DejaVuSans-5b\"/><use x=\"100.195312\" xlink:href=\"#DejaVuSans-38\"/><use x=\"163.818359\" xlink:href=\"#DejaVuSans-5d\"/></g></g><g clip-path=\"url(#pf567f7c41a)\"><g transform=\"translate(1032.5 43.351) scale(.13 -.13)\" fill=\"#ffffff\"><use transform=\"translate(0 .09375)\" xlink:href=\"#DejaVuSans-52\"/><use transform=\"translate(70.439 -16.312) scale(.7)\" xlink:href=\"#DejaVuSans-59\"/></g></g><g clip-path=\"url(#pf567f7c41a)\"><g transform=\"translate(1031.9 101.88) scale(.08 -.08)\" fill=\"#ffffff\"><defs><path id=\"DejaVuSans-39\" transform=\"scale(.015625)\" d=\"m703 97v575q238-113 481-172 244-59 479-59 625 0 954 420 330 420 377 1277-181-269-460-413-278-144-615-144-700 0-1108 423-408 424-408 1159 0 718 425 1152 425 435 1131 435 810 0 1236-621 427-620 427-1801 0-1103-524-1761-523-658-1407-658-238 0-482 47-243 47-506 141zm1256 1978q425 0 673 290 249 291 249 798 0 503-249 795-248 292-673 292t-673-292-248-795q0-507 248-798 248-290 673-290z\"/></defs><use xlink:href=\"#DejaVuSans-3b8\"/><use x=\"61.181641\" xlink:href=\"#DejaVuSans-5b\"/><use x=\"100.195312\" xlink:href=\"#DejaVuSans-39\"/><use x=\"163.818359\" xlink:href=\"#DejaVuSans-5d\"/></g></g><g clip-path=\"url(#pf567f7c41a)\"><g transform=\"translate(1032.5 89.705) scale(.13 -.13)\" fill=\"#ffffff\"><use transform=\"translate(0 .09375)\" xlink:href=\"#DejaVuSans-52\"/><use transform=\"translate(70.439 -16.312) scale(.7)\" xlink:href=\"#DejaVuSans-59\"/></g></g><g clip-path=\"url(#pf567f7c41a)\"><g transform=\"translate(1075.7 55.53) scale(.08 -.08)\" fill=\"#ffffff\"><use xlink:href=\"#DejaVuSans-3b8\"/><use x=\"61.181641\" xlink:href=\"#DejaVuSans-5b\"/><use x=\"100.195312\" xlink:href=\"#DejaVuSans-31\"/><use x=\"163.818359\" xlink:href=\"#DejaVuSans-30\"/><use x=\"227.441406\" xlink:href=\"#DejaVuSans-5d\"/></g></g><g clip-path=\"url(#pf567f7c41a)\"><g transform=\"translate(1078.5 43.351) scale(.13 -.13)\" fill=\"#ffffff\"><use transform=\"translate(0 .09375)\" xlink:href=\"#DejaVuSans-52\"/><use transform=\"translate(70.439 -16.312) scale(.7)\" xlink:href=\"#DejaVuSans-5a\"/></g></g><g clip-path=\"url(#pf567f7c41a)\"><g transform=\"translate(1075.7 101.88) scale(.08 -.08)\" fill=\"#ffffff\"><use xlink:href=\"#DejaVuSans-3b8\"/><use x=\"61.181641\" xlink:href=\"#DejaVuSans-5b\"/><use x=\"100.195312\" xlink:href=\"#DejaVuSans-31\"/><use x=\"163.818359\" xlink:href=\"#DejaVuSans-31\"/><use x=\"227.441406\" xlink:href=\"#DejaVuSans-5d\"/></g></g><g clip-path=\"url(#pf567f7c41a)\"><g transform=\"translate(1078.5 89.705) scale(.13 -.13)\" fill=\"#ffffff\"><use transform=\"translate(0 .09375)\" xlink:href=\"#DejaVuSans-52\"/><use transform=\"translate(70.439 -16.312) scale(.7)\" xlink:href=\"#DejaVuSans-5a\"/></g></g><path d=\"m1132.7 21.106v46.354\" clip-path=\"url(#pf567f7c41a)\" fill=\"none\" stroke=\"#000000\" stroke-dasharray=\"3.7,1.6\"/><path d=\"m1132.7 67.46v46.354\" clip-path=\"url(#pf567f7c41a)\" fill=\"none\" stroke=\"#000000\" stroke-dasharray=\"3.7,1.6\"/><g clip-path=\"url(#pf567f7c41a)\"><g transform=\"translate(1190.7 130.19) scale(.104 -.104)\"><use xlink:href=\"#DejaVuSans-30\"/></g></g><g clip-path=\"url(#pf567f7c41a)\"><g transform=\"translate(1237 130.19) scale(.104 -.104)\"><use xlink:href=\"#DejaVuSans-31\"/></g></g><defs><clipPath id=\"pf567f7c41a\"><rect x=\"7.2\" y=\"7.2\" width=\"1248.8\" height=\"157.6\"/></clipPath></defs></svg>"
      ],
      "text/plain": [
       "<Figure size 2252.61x284.278 with 1 Axes>"
      ]
     },
     "execution_count": 2,
     "metadata": {},
     "output_type": "execute_result"
    }
   ],
   "source": [
    "from qiskit.circuit.library import ZZFeatureMap, TwoLocal\n",
    "FEATURE_MAP = ZZFeatureMap(feature_dimension=2, reps=2)\n",
    "VAR_FORM = TwoLocal(2, ['ry', 'rz'], 'cz', reps=2)\n",
    "\n",
    "AD_HOC_CIRCUIT = FEATURE_MAP.compose(VAR_FORM)\n",
    "AD_HOC_CIRCUIT.measure_all()\n",
    "AD_HOC_CIRCUIT.decompose().draw()"
   ]
  },
  {
   "attachments": {},
   "cell_type": "markdown",
   "metadata": {},
   "source": [
    "3. We create a function that associates the data to the feature map and the variational parameters to the variational circuit. This is to ensure that the right parameters in the circuit are associated with the right quantities."
   ]
  },
  {
   "cell_type": "code",
   "execution_count": 3,
   "metadata": {},
   "outputs": [],
   "source": [
    "def circuit_instance(data, variational):\n",
    "    \"\"\"Assigns parameter values to `AD_HOC_CIRCUIT`.\n",
    "    Args:\n",
    "        data (list): Data values for the feature map\n",
    "        variational (list): Parameter values for `VAR_FORM`\n",
    "    Returns:\n",
    "        QuantumCircuit: `AD_HOC_CIRCUIT` with parameters assigned\n",
    "    \"\"\"\n",
    "    # pylint: disable=invalid-name\n",
    "    parameters = {}\n",
    "    for i, p in enumerate(FEATURE_MAP.ordered_parameters):\n",
    "        parameters[p] = data[i]\n",
    "    for i, p in enumerate(VAR_FORM.ordered_parameters):\n",
    "        parameters[p] = variational[i]\n",
    "    return AD_HOC_CIRCUIT.assign_parameters(parameters)"
   ]
  },
  {
   "attachments": {},
   "cell_type": "markdown",
   "metadata": {},
   "source": [
    "4. We create a class assignment function to calculate the parity of the given bitstring. If the parity is even, it returns a $1$ label, and if the parity is odd it returns a $0$ label, as per Reference 3."
   ]
  },
  {
   "cell_type": "code",
   "execution_count": 4,
   "metadata": {},
   "outputs": [],
   "source": [
    "def parity(bitstring):\n",
    "    \"\"\"Returns 1 if parity of `bitstring` is even, otherwise 0.\"\"\"\n",
    "    hamming_weight = sum(int(k) for k in list(bitstring))\n",
    "    return (hamming_weight+1) % 2"
   ]
  },
  {
   "attachments": {},
   "cell_type": "markdown",
   "metadata": {},
   "source": [
    "5. We create a function that returns the probability distribution over the label classes, given experimental counts from running the quantum circuit multiple times."
   ]
  },
  {
   "cell_type": "code",
   "execution_count": 5,
   "metadata": {},
   "outputs": [],
   "source": [
    "def label_probability(results):\n",
    "    \"\"\"Converts a dict of bitstrings and their counts,\n",
    "    to parities and their counts\"\"\"\n",
    "    shots = sum(results.values())\n",
    "    probabilities = {0: 0, 1: 0}\n",
    "    for bitstring, counts in results.items():\n",
    "        label = parity(bitstring)\n",
    "        probabilities[label] += counts / shots\n",
    "    return probabilities"
   ]
  },
  {
   "attachments": {},
   "cell_type": "markdown",
   "metadata": {},
   "source": [
    "6. We create a function that classifies our data. It takes in data and parameters. For every data point in the dataset, we assign the parameters to the feature map and the parameters to the variational circuit. We then evolve our system and store the quantum circuit, so as to run the circuits at once at the end. We measure each circuit and return the probabilities based on the bit string and class labels."
   ]
  },
  {
   "cell_type": "code",
   "execution_count": 6,
   "metadata": {},
   "outputs": [],
   "source": [
    "from qiskit import BasicAer, execute\n",
    "\n",
    "def classification_probability(data, variational):\n",
    "    \"\"\"Classify data points using given parameters.\n",
    "    Args:\n",
    "        data (list): Set of data points to classify\n",
    "        variational (list): Parameters for `VAR_FORM`\n",
    "    Returns:\n",
    "        list[dict]: Probability of circuit classifying\n",
    "                    each data point as 0 or 1.\n",
    "    \"\"\"\n",
    "    circuits = [circuit_instance(d, variational) for d in data]\n",
    "    backend = BasicAer.get_backend('qasm_simulator')\n",
    "    results = execute(circuits, backend).result()\n",
    "    classification = [\n",
    "        label_probability(results.get_counts(c)) for c in circuits]\n",
    "    return classification"
   ]
  },
  {
   "attachments": {},
   "cell_type": "markdown",
   "metadata": {},
   "source": [
    "7. For training, we create the loss and cost functions."
   ]
  },
  {
   "cell_type": "code",
   "execution_count": 7,
   "metadata": {},
   "outputs": [],
   "source": [
    "def cross_entropy_loss(classification, expected):\n",
    "    \"\"\"Calculate accuracy of predictions using cross entropy loss.\n",
    "    Args:\n",
    "        classification (dict): Dict where keys are possible classes,\n",
    "                               and values are the probability our\n",
    "                               circuit chooses that class.\n",
    "        expected (int): Correct classification of the data point.\n",
    "\n",
    "    Returns:\n",
    "        float: Cross entropy loss\n",
    "    \"\"\"\n",
    "    # pylint: disable=invalid-name\n",
    "    p = classification.get(expected)  # Prob. of correct classification\n",
    "    return -np.log(p + 1e-10)\n",
    "\n",
    "def cost_function(data, labels, variational):\n",
    "    \"\"\"Evaluates performance of our circuit with `variational`\n",
    "    parameters on `data`.\n",
    "\n",
    "    Args:\n",
    "        data (list): List of data points to classify\n",
    "        labels (list): List of correct labels for each data point\n",
    "        variational (list): Parameters to use in circuit\n",
    "\n",
    "    Returns:\n",
    "        float: Cost (metric of performance)\n",
    "    \"\"\"\n",
    "    # pylint: disable=invalid-name\n",
    "    classifications = classification_probability(data, variational)\n",
    "    cost = 0\n",
    "    for i, classification in enumerate(classifications):\n",
    "        cost += cross_entropy_loss(classification, labels[i])\n",
    "    cost /= len(data)\n",
    "    return cost"
   ]
  },
  {
   "attachments": {},
   "cell_type": "markdown",
   "metadata": {},
   "source": [
    "8. We set up our classical optimizer, using [`SPSA`](https://qiskit.org/documentation/stubs/qiskit.algorithms.optimizers.SPSA.html) (as per Reference 3), initialize our variational circuit parameters for reproducibility, and optimize our cost function using our 40 training data points. This optimization process modifies the variational circuit parameters based on the output of the cost function. Note that the optimization will take a while to run. "
   ]
  },
  {
   "cell_type": "code",
   "execution_count": 8,
   "metadata": {},
   "outputs": [
    {
     "data": {
      "image/svg+xml": [
       "<?xml version=\"1.0\" encoding=\"UTF-8\"?><!DOCTYPE svg  PUBLIC '-//W3C//DTD SVG 1.1//EN'  'http://www.w3.org/Graphics/SVG/1.1/DTD/svg11.dtd'><svg width=\"408.1pt\" height=\"310.87pt\" version=\"1.1\" viewBox=\"0 0 408.1 310.87\" xmlns=\"http://www.w3.org/2000/svg\" xmlns:xlink=\"http://www.w3.org/1999/xlink\"><defs><style type=\"text/css\">*{stroke-linejoin: round; stroke-linecap: butt}</style></defs><path d=\"m0 310.87h408.1v-310.87h-408.1z\" fill=\"#ffffff\"/><path d=\"m43.781 273.31h357.12v-266.11h-357.12z\" fill=\"#ffffff\"/><defs><path id=\"m1bd29f8b2e\" d=\"m0 0v3.5\" stroke=\"#343a3f\" stroke-width=\".8\"/></defs><use x=\"56.734638\" y=\"273.312\" fill=\"#343a3f\" stroke=\"#343a3f\" stroke-width=\".8\" xlink:href=\"#m1bd29f8b2e\"/><g transform=\"translate(53.553 287.91) scale(.1 -.1)\" fill=\"#343a3f\"><defs><path id=\"DejaVuSans-30\" transform=\"scale(.015625)\" d=\"m2034 4250q-487 0-733-480-245-479-245-1442 0-959 245-1439 246-480 733-480 491 0 736 480 246 480 246 1439 0 963-246 1442-245 480-736 480zm0 500q785 0 1199-621 414-620 414-1801 0-1178-414-1799-414-620-1199-620-784 0-1198 620-414 621-414 1799 0 1181 414 1801 414 621 1198 621z\"/></defs><use xlink:href=\"#DejaVuSans-30\"/></g><use x=\"111.390286\" y=\"273.312\" fill=\"#343a3f\" stroke=\"#343a3f\" stroke-width=\".8\" xlink:href=\"#m1bd29f8b2e\"/><g transform=\"translate(105.03 287.91) scale(.1 -.1)\" fill=\"#343a3f\"><defs><path id=\"DejaVuSans-35\" transform=\"scale(.015625)\" d=\"m691 4666h2478v-532h-1900v-1143q137 47 274 70 138 23 276 23 781 0 1237-428 457-428 457-1159 0-753-469-1171-469-417-1322-417-294 0-599 50-304 50-629 150v635q281-153 581-228t634-75q541 0 856 284 316 284 316 772 0 487-316 771-315 285-856 285-253 0-505-56-251-56-513-175v2344z\"/></defs><use xlink:href=\"#DejaVuSans-35\"/><use x=\"63.623047\" xlink:href=\"#DejaVuSans-30\"/></g><use x=\"166.045933\" y=\"273.312\" fill=\"#343a3f\" stroke=\"#343a3f\" stroke-width=\".8\" xlink:href=\"#m1bd29f8b2e\"/><g transform=\"translate(156.5 287.91) scale(.1 -.1)\" fill=\"#343a3f\"><defs><path id=\"DejaVuSans-31\" transform=\"scale(.015625)\" d=\"m794 531h1031v3560l-1122-225v575l1116 225h631v-4135h1031v-531h-2687v531z\"/></defs><use xlink:href=\"#DejaVuSans-31\"/><use x=\"63.623047\" xlink:href=\"#DejaVuSans-30\"/><use x=\"127.246094\" xlink:href=\"#DejaVuSans-30\"/></g><use x=\"220.701581\" y=\"273.312\" fill=\"#343a3f\" stroke=\"#343a3f\" stroke-width=\".8\" xlink:href=\"#m1bd29f8b2e\"/><g transform=\"translate(211.16 287.91) scale(.1 -.1)\" fill=\"#343a3f\"><use xlink:href=\"#DejaVuSans-31\"/><use x=\"63.623047\" xlink:href=\"#DejaVuSans-35\"/><use x=\"127.246094\" xlink:href=\"#DejaVuSans-30\"/></g><use x=\"275.357228\" y=\"273.312\" fill=\"#343a3f\" stroke=\"#343a3f\" stroke-width=\".8\" xlink:href=\"#m1bd29f8b2e\"/><g transform=\"translate(265.81 287.91) scale(.1 -.1)\" fill=\"#343a3f\"><defs><path id=\"DejaVuSans-32\" transform=\"scale(.015625)\" d=\"m1228 531h2203v-531h-2962v531q359 372 979 998 621 627 780 809 303 340 423 576 121 236 121 464 0 372-261 606-261 235-680 235-297 0-627-103-329-103-704-313v638q381 153 712 231 332 78 607 78 725 0 1156-363 431-362 431-968 0-288-108-546-107-257-392-607-78-91-497-524-418-433-1181-1211z\"/></defs><use xlink:href=\"#DejaVuSans-32\"/><use x=\"63.623047\" xlink:href=\"#DejaVuSans-30\"/><use x=\"127.246094\" xlink:href=\"#DejaVuSans-30\"/></g><use x=\"330.012875\" y=\"273.312\" fill=\"#343a3f\" stroke=\"#343a3f\" stroke-width=\".8\" xlink:href=\"#m1bd29f8b2e\"/><g transform=\"translate(320.47 287.91) scale(.1 -.1)\" fill=\"#343a3f\"><use xlink:href=\"#DejaVuSans-32\"/><use x=\"63.623047\" xlink:href=\"#DejaVuSans-35\"/><use x=\"127.246094\" xlink:href=\"#DejaVuSans-30\"/></g><use x=\"384.668523\" y=\"273.312\" fill=\"#343a3f\" stroke=\"#343a3f\" stroke-width=\".8\" xlink:href=\"#m1bd29f8b2e\"/><g transform=\"translate(375.12 287.91) scale(.1 -.1)\" fill=\"#343a3f\"><defs><path id=\"DejaVuSans-33\" transform=\"scale(.015625)\" d=\"m2597 2516q453-97 707-404 255-306 255-756 0-690-475-1069-475-378-1350-378-293 0-604 58t-642 174v609q262-153 574-231 313-78 654-78 593 0 904 234t311 681q0 413-289 645-289 233-804 233h-544v519h569q465 0 712 186t247 536q0 359-255 551-254 193-729 193-260 0-557-57-297-56-653-174v562q360 100 674 150t592 50q719 0 1137-327 419-326 419-882 0-388-222-655t-631-370z\"/></defs><use xlink:href=\"#DejaVuSans-33\"/><use x=\"63.623047\" xlink:href=\"#DejaVuSans-30\"/><use x=\"127.246094\" xlink:href=\"#DejaVuSans-30\"/></g><g transform=\"translate(208.35 301.59) scale(.1 -.1)\" fill=\"#343a3f\"><defs><path id=\"DejaVuSans-53\" transform=\"scale(.015625)\" d=\"m3425 4513v-616q-359 172-678 256-319 85-616 85-515 0-795-200t-280-569q0-310 186-468 186-157 705-254l381-78q706-135 1042-474t336-907q0-679-455-1029-454-350-1332-350-331 0-705 75-373 75-773 222v650q384-215 753-325 369-109 725-109 540 0 834 212 294 213 294 607 0 343-211 537t-692 291l-385 75q-706 140-1022 440-315 300-315 835 0 619 436 975t1201 356q329 0 669-60 341-59 697-177z\"/><path id=\"DejaVuSans-74\" transform=\"scale(.015625)\" d=\"m1172 4494v-994h1184v-447h-1184v-1900q0-428 117-550t477-122h590v-481h-590q-666 0-919 248-253 249-253 905v1900h-422v447h422v994h578z\"/><path id=\"DejaVuSans-65\" transform=\"scale(.015625)\" d=\"m3597 1894v-281h-2644q38-594 358-905t892-311q331 0 642 81t618 244v-544q-310-131-635-200t-659-69q-838 0-1327 487-489 488-489 1320 0 859 464 1363 464 505 1252 505 706 0 1117-455 411-454 411-1235zm-575 169q-6 471-264 752-258 282-683 282-481 0-770-272t-333-766l2050 4z\"/><path id=\"DejaVuSans-70\" transform=\"scale(.015625)\" d=\"m1159 525v-1856h-578v4831h578v-531q182 312 458 463 277 152 661 152 638 0 1036-506 399-506 399-1331t-399-1332q-398-506-1036-506-384 0-661 152-276 152-458 464zm1957 1222q0 634-261 995t-717 361q-457 0-718-361t-261-995 261-995 718-361q456 0 717 361t261 995z\"/><path id=\"DejaVuSans-73\" transform=\"scale(.015625)\" d=\"m2834 3397v-544q-243 125-506 187-262 63-544 63-428 0-642-131t-214-394q0-200 153-314t616-217l197-44q612-131 870-370t258-667q0-488-386-773-386-284-1061-284-281 0-586 55t-642 164v594q319-166 628-249 309-82 613-82 406 0 624 139 219 139 219 392 0 234-158 359-157 125-692 241l-200 47q-534 112-772 345-237 233-237 639 0 494 350 762 350 269 994 269 318 0 599-47 282-46 519-140z\"/></defs><use xlink:href=\"#DejaVuSans-53\"/><use x=\"63.476562\" xlink:href=\"#DejaVuSans-74\"/><use x=\"102.685547\" xlink:href=\"#DejaVuSans-65\"/><use x=\"164.208984\" xlink:href=\"#DejaVuSans-70\"/><use x=\"227.685547\" xlink:href=\"#DejaVuSans-73\"/></g><defs><path id=\"mfb43f562d4\" d=\"m0 0h-3.5\" stroke=\"#343a3f\" stroke-width=\".8\"/></defs><use x=\"43.78125\" y=\"239.905049\" fill=\"#343a3f\" stroke=\"#343a3f\" stroke-width=\".8\" xlink:href=\"#mfb43f562d4\"/><g transform=\"translate(20.878 243.7) scale(.1 -.1)\" fill=\"#343a3f\"><defs><path id=\"DejaVuSans-2e\" transform=\"scale(.015625)\" d=\"m684 794h660v-794h-660v794z\"/><path id=\"DejaVuSans-34\" transform=\"scale(.015625)\" d=\"m2419 4116-1594-2491h1594v2491zm-166 550h794v-3041h666v-525h-666v-1100h-628v1100h-2106v609l1940 2957z\"/></defs><use xlink:href=\"#DejaVuSans-30\"/><use x=\"63.623047\" xlink:href=\"#DejaVuSans-2e\"/><use x=\"95.410156\" xlink:href=\"#DejaVuSans-34\"/></g><use x=\"43.78125\" y=\"199.343107\" fill=\"#343a3f\" stroke=\"#343a3f\" stroke-width=\".8\" xlink:href=\"#mfb43f562d4\"/><g transform=\"translate(20.878 203.14) scale(.1 -.1)\" fill=\"#343a3f\"><use xlink:href=\"#DejaVuSans-30\"/><use x=\"63.623047\" xlink:href=\"#DejaVuSans-2e\"/><use x=\"95.410156\" xlink:href=\"#DejaVuSans-35\"/></g><use x=\"43.78125\" y=\"158.781165\" fill=\"#343a3f\" stroke=\"#343a3f\" stroke-width=\".8\" xlink:href=\"#mfb43f562d4\"/><g transform=\"translate(20.878 162.58) scale(.1 -.1)\" fill=\"#343a3f\"><defs><path id=\"DejaVuSans-36\" transform=\"scale(.015625)\" d=\"m2113 2584q-425 0-674-291-248-290-248-796 0-503 248-796 249-292 674-292t673 292q248 293 248 796 0 506-248 796-248 291-673 291zm1253 1979v-575q-238 112-480 171-242 60-480 60-625 0-955-422-329-422-376-1275 184 272 462 417 279 145 613 145 703 0 1111-427 408-426 408-1160 0-719-425-1154-425-434-1131-434-810 0-1238 620-428 621-428 1799 0 1106 525 1764t1409 658q238 0 480-47t505-140z\"/></defs><use xlink:href=\"#DejaVuSans-30\"/><use x=\"63.623047\" xlink:href=\"#DejaVuSans-2e\"/><use x=\"95.410156\" xlink:href=\"#DejaVuSans-36\"/></g><use x=\"43.78125\" y=\"118.219222\" fill=\"#343a3f\" stroke=\"#343a3f\" stroke-width=\".8\" xlink:href=\"#mfb43f562d4\"/><g transform=\"translate(20.878 122.02) scale(.1 -.1)\" fill=\"#343a3f\"><defs><path id=\"DejaVuSans-37\" transform=\"scale(.015625)\" d=\"m525 4666h3e3v-269l-1694-4397h-659l1594 4134h-2241v532z\"/></defs><use xlink:href=\"#DejaVuSans-30\"/><use x=\"63.623047\" xlink:href=\"#DejaVuSans-2e\"/><use x=\"95.410156\" xlink:href=\"#DejaVuSans-37\"/></g><use x=\"43.78125\" y=\"77.65728\" fill=\"#343a3f\" stroke=\"#343a3f\" stroke-width=\".8\" xlink:href=\"#mfb43f562d4\"/><g transform=\"translate(20.878 81.456) scale(.1 -.1)\" fill=\"#343a3f\"><defs><path id=\"DejaVuSans-38\" transform=\"scale(.015625)\" d=\"m2034 2216q-450 0-708-241-257-241-257-662 0-422 257-663 258-241 708-241t709 242q260 243 260 662 0 421-258 662-257 241-711 241zm-631 268q-406 100-633 378-226 279-226 679 0 559 398 884 399 325 1092 325 697 0 1094-325t397-884q0-400-227-679-226-278-629-378 456-106 710-416 255-309 255-755 0-679-414-1042-414-362-1186-362-771 0-1186 362-414 363-414 1042 0 446 256 755 257 310 713 416zm-231 997q0-362 226-565 227-203 636-203 407 0 636 203 230 203 230 565 0 363-230 566-229 203-636 203-409 0-636-203-226-203-226-566z\"/></defs><use xlink:href=\"#DejaVuSans-30\"/><use x=\"63.623047\" xlink:href=\"#DejaVuSans-2e\"/><use x=\"95.410156\" xlink:href=\"#DejaVuSans-38\"/></g><use x=\"43.78125\" y=\"37.095337\" fill=\"#343a3f\" stroke=\"#343a3f\" stroke-width=\".8\" xlink:href=\"#mfb43f562d4\"/><g transform=\"translate(20.878 40.895) scale(.1 -.1)\" fill=\"#343a3f\"><defs><path id=\"DejaVuSans-39\" transform=\"scale(.015625)\" d=\"m703 97v575q238-113 481-172 244-59 479-59 625 0 954 420 330 420 377 1277-181-269-460-413-278-144-615-144-700 0-1108 423-408 424-408 1159 0 718 425 1152 425 435 1131 435 810 0 1236-621 427-620 427-1801 0-1103-524-1761-523-658-1407-658-238 0-482 47-243 47-506 141zm1256 1978q425 0 673 290 249 291 249 798 0 503-249 795-248 292-673 292t-673-292-248-795q0-507 248-798 248-290 673-290z\"/></defs><use xlink:href=\"#DejaVuSans-30\"/><use x=\"63.623047\" xlink:href=\"#DejaVuSans-2e\"/><use x=\"95.410156\" xlink:href=\"#DejaVuSans-39\"/></g><g transform=\"translate(14.798 151.37) rotate(-90) scale(.1 -.1)\" fill=\"#343a3f\"><defs><path id=\"DejaVuSans-43\" transform=\"scale(.015625)\" d=\"m4122 4306v-665q-319 297-680 443-361 147-767 147-800 0-1225-489t-425-1414q0-922 425-1411t1225-489q406 0 767 147t680 444v-660q-331-225-702-338-370-112-782-112-1060 0-1670 648-609 649-609 1771 0 1125 609 1773 610 649 1670 649 418 0 788-111 371-111 696-333z\"/><path id=\"DejaVuSans-6f\" transform=\"scale(.015625)\" d=\"m1959 3097q-462 0-731-361t-269-989 267-989q268-361 733-361 460 0 728 362 269 363 269 988 0 622-269 986-268 364-728 364zm0 487q750 0 1178-488 429-487 429-1349 0-859-429-1349-428-489-1178-489-753 0-1180 489-426 490-426 1349 0 862 426 1349 427 488 1180 488z\"/></defs><use xlink:href=\"#DejaVuSans-43\"/><use x=\"69.824219\" xlink:href=\"#DejaVuSans-6f\"/><use x=\"131.005859\" xlink:href=\"#DejaVuSans-73\"/><use x=\"183.105469\" xlink:href=\"#DejaVuSans-74\"/></g><path d=\"m60.014 19.296 3.2793 12.65 3.2793 4.3184 3.2793-0.68163 3.2793 9.4616 3.2793 11.808 3.2793 14.94 3.2793 18.109 3.2793-2.5249 3.2793 10.669 3.2793-0.035877 3.2793 54.018 3.2793 1.3717 3.2793 5.1622 3.2793-3.3596 3.2793-1.8152 3.2793 3.3687 3.2793 0.18424 3.2793 0.94813 3.2793 0.1832 3.2793-1.25 3.2793 1.4753 3.2793 10.109 3.2793-0.23503 3.2793 0.79938 3.2793 0.53307 3.2793 0.32935 3.2793 1.3995 3.2793 1.1123 3.2793 8.991 3.2793-0.71554 3.2793 3.2229 3.2793 1.0371 3.2793-1.4472 3.2793 7.4208 3.2793-3.6342 3.2793 9.7854 3.2793-0.5125 3.2793 1.1138 3.2793 3.0007 3.2793 1.6142 3.2793-0.68679 3.2793 5.8207 3.2793 5.3934 3.2793-1.7964 3.2793 2.2099 3.2793 3.277 3.2793-0.97104 3.2793 2.0413 3.2793-5.1482 3.2793 4.7105 3.2793 3.2409 3.2793-2.7849 3.2793 2.2061 3.2793 4.5859 3.2793-0.88425 3.2793 1.7066 3.2793 2.2752 3.2793 1.1838 3.2793 0.62646 3.2793 2.7717 3.2793 0.48311 3.2793 0.49564 3.2793 4.0442 3.2793 1.3808 3.2793-1.904 3.2793 1.4108 3.2793-1.3662 3.2793-0.60809 3.2793 1.9411 3.2793-1.1859 3.2793 5.5338 3.2793-2.7179 3.2793 3.1493 3.2793-0.05684 3.2793 2.7184 3.2793 0.33985 3.2793 0.58522 3.2793-2.7262 3.2793-0.37965 3.2793 8.0663 3.2793-1.2712 3.2793 1.6111 3.2793 4.0759 3.2793-0.67424 3.2793-2.5268 3.2793 3.1999 3.2793-1.9902 3.2793 0.64672 3.2793 0.80146 3.2793-1.3142 3.2793 0.39311 3.2793 2.3891 3.2793-0.41877 3.2793 3.9087 3.2793-4.5073 3.2793 4.1114 3.2793 0.40345 3.2793-2.752 3.2793 3.929\" clip-path=\"url(#p508189b4e5)\" fill=\"none\" stroke=\"#1192e8\" stroke-linecap=\"square\"/><path d=\"m43.781 273.31v-266.11\" fill=\"none\" stroke=\"#343a3f\" stroke-linecap=\"square\" stroke-width=\".8\"/><path d=\"m43.781 273.31h357.12\" fill=\"none\" stroke=\"#343a3f\" stroke-linecap=\"square\" stroke-width=\".8\"/><defs><clipPath id=\"p508189b4e5\"><rect x=\"43.781\" y=\"7.2\" width=\"357.12\" height=\"266.11\"/></clipPath></defs></svg>"
      ],
      "text/plain": [
       "<Figure size 640x480 with 1 Axes>"
      ]
     },
     "metadata": {},
     "output_type": "display_data"
    }
   ],
   "source": [
    "class OptimizerLog:  # pylint: disable=too-few-public-methods\n",
    "    \"\"\"Log to store optimizer's intermediate results\"\"\"\n",
    "    def __init__(self):\n",
    "        self.evaluations = []\n",
    "        self.parameters = []\n",
    "        self.costs = []\n",
    "    def update(self, evaluation, parameter, cost, _stepsize, _accept):\n",
    "        \"\"\"Save intermediate results. Optimizer passes five values\n",
    "        but we ignore the last two.\"\"\"\n",
    "        self.evaluations.append(evaluation)\n",
    "        self.parameters.append(parameter)\n",
    "        self.costs.append(cost)\n",
    "\n",
    "# Set up the optimization\n",
    "from qiskit.algorithms.optimizers import SPSA\n",
    "log = OptimizerLog()\n",
    "optimizer = SPSA(maxiter=100, callback=log.update)\n",
    "\n",
    "#initial_point = np.random.random(VAR_FORM.num_parameters)\n",
    "initial_point = np.array([3.28559355, 5.48514978, 5.13099949,\n",
    "                          0.88372228, 4.08885928, 2.45568528,\n",
    "                          4.92364593, 5.59032015, 3.66837805,\n",
    "                          4.84632313, 3.60713748, 2.43546])\n",
    "\n",
    "def objective_function(variational):\n",
    "    \"\"\"Cost function of circuit parameters on training data.\n",
    "    The optimizer will attempt to minimize this.\"\"\"\n",
    "    return cost_function(TRAIN_DATA, TRAIN_LABELS, variational)\n",
    "\n",
    "# Run the optimization\n",
    "result = optimizer.minimize(objective_function, initial_point)\n",
    "\n",
    "opt_var = result.x\n",
    "opt_value = result.fun\n",
    "\n",
    "import matplotlib.pyplot as plt\n",
    "fig = plt.figure()\n",
    "plt.plot(log.evaluations, log.costs)\n",
    "plt.xlabel('Steps')\n",
    "plt.ylabel('Cost')\n",
    "plt.show()"
   ]
  },
  {
   "attachments": {},
   "cell_type": "markdown",
   "metadata": {},
   "source": [
    "Plotting the cost function with respect to optimization step, we can see it starts to converge to a minimum.\n",
    "\n",
    "9. We implement a function to score our variational quantum classifier, using the classification function we created earlier, and use it to test our trained classifier on our 10 test data points."
   ]
  },
  {
   "cell_type": "code",
   "execution_count": 9,
   "metadata": {},
   "outputs": [
    {
     "data": {
      "text/plain": [
       "0.7"
      ]
     },
     "execution_count": 9,
     "metadata": {},
     "output_type": "execute_result"
    }
   ],
   "source": [
    "def test_classifier(data, labels, variational):\n",
    "    \"\"\"Gets classifier's most likely predictions and accuracy of those\n",
    "    predictions.\n",
    "\n",
    "    Args:\n",
    "        data (list): List of data points to classify\n",
    "        labels (list): List of correct labels for each data point\n",
    "        variational (list): List of parameter values for classifier\n",
    "\n",
    "    Returns:\n",
    "        float: Average accuracy of classifier over `data`\n",
    "        list: Classifier's label predictions for each data point\n",
    "    \"\"\"\n",
    "    probability = classification_probability(data, variational)\n",
    "    predictions = [0 if p[0] >= p[1] else 1 for p in probability]\n",
    "    accuracy = 0\n",
    "    # pylint: disable=invalid-name\n",
    "    for i, prediction in enumerate(predictions):\n",
    "        if prediction == labels[i]:\n",
    "            accuracy += 1\n",
    "    accuracy /= len(labels)\n",
    "    return accuracy, predictions\n",
    "\n",
    "accuracy, predictions = test_classifier(TEST_DATA, TEST_LABELS, opt_var)\n",
    "accuracy"
   ]
  },
  {
   "cell_type": "code",
   "execution_count": 10,
   "metadata": {},
   "outputs": [
    {
     "data": {
      "image/svg+xml": [
       "<?xml version=\"1.0\" encoding=\"UTF-8\"?><!DOCTYPE svg  PUBLIC '-//W3C//DTD SVG 1.1//EN'  'http://www.w3.org/Graphics/SVG/1.1/DTD/svg11.dtd'><svg width=\"673.79pt\" height=\"392.51pt\" version=\"1.1\" viewBox=\"0 0 673.79 392.51\" xmlns=\"http://www.w3.org/2000/svg\" xmlns:xlink=\"http://www.w3.org/1999/xlink\"><defs><style type=\"text/css\">*{stroke-linejoin: round; stroke-linecap: butt}</style></defs><path d=\"m0 392.51h673.79v-392.51h-673.79z\" fill=\"#ffffff\"/><path d=\"m34.241 354.96h502.2v-332.64h-502.2z\" fill=\"#ffffff\"/><defs><path id=\"m465b4e231b\" d=\"m0 5c1.326 0 2.5979-0.52683 3.5355-1.4645 0.93763-0.93764 1.4645-2.2095 1.4645-3.5355s-0.52683-2.5979-1.4645-3.5355c-0.93764-0.93763-2.2095-1.4645-3.5355-1.4645s-2.5979 0.52683-3.5355 1.4645c-0.93763 0.93764-1.4645 2.2095-1.4645 3.5355s0.52683 2.5979 1.4645 3.5355c0.93764 0.93763 2.2095 1.4645 3.5355 1.4645z\" stroke=\"#1192e8\"/></defs><g clip-path=\"url(#p3dccf8f02a)\"><use x=\"384.489385\" y=\"142.352411\" fill=\"#1192e8\" stroke=\"#1192e8\" xlink:href=\"#m465b4e231b\"/></g><g clip-path=\"url(#p3dccf8f02a)\"><use x=\"176.968724\" y=\"120.752411\" fill=\"#1192e8\" stroke=\"#1192e8\" xlink:href=\"#m465b4e231b\"/></g><g clip-path=\"url(#p3dccf8f02a)\"><use x=\"140.076162\" y=\"296.638125\" fill=\"#1192e8\" stroke=\"#1192e8\" xlink:href=\"#m465b4e231b\"/></g><g clip-path=\"url(#p3dccf8f02a)\"><use x=\"449.051369\" y=\"278.123839\" fill=\"#1192e8\" stroke=\"#1192e8\" xlink:href=\"#m465b4e231b\"/></g><g clip-path=\"url(#p3dccf8f02a)\"><use x=\"153.910873\" y=\"154.695268\" fill=\"#1192e8\" stroke=\"#1192e8\" xlink:href=\"#m465b4e231b\"/></g><g clip-path=\"url(#p3dccf8f02a)\"><use x=\"476.72079\" y=\"170.123839\" fill=\"#1192e8\" stroke=\"#1192e8\" xlink:href=\"#m465b4e231b\"/></g><g clip-path=\"url(#p3dccf8f02a)\"><use x=\"495.167071\" y=\"80.638125\" fill=\"#1192e8\" stroke=\"#1192e8\" xlink:href=\"#m465b4e231b\"/></g><g clip-path=\"url(#p3dccf8f02a)\"><use x=\"241.530708\" y=\"339.838125\" fill=\"#1192e8\" stroke=\"#1192e8\" xlink:href=\"#m465b4e231b\"/></g><g clip-path=\"url(#p3dccf8f02a)\"><use x=\"513.613352\" y=\"133.095268\" fill=\"#1192e8\" stroke=\"#1192e8\" xlink:href=\"#m465b4e231b\"/></g><g clip-path=\"url(#p3dccf8f02a)\"><use x=\"269.200129\" y=\"99.152411\" fill=\"#1192e8\" stroke=\"#1192e8\" xlink:href=\"#m465b4e231b\"/></g><g clip-path=\"url(#p3dccf8f02a)\"><use x=\"490.555501\" y=\"241.095268\" fill=\"#1192e8\" stroke=\"#1192e8\" xlink:href=\"#m465b4e231b\"/></g><g clip-path=\"url(#p3dccf8f02a)\"><use x=\"301.481121\" y=\"225.666696\" fill=\"#1192e8\" stroke=\"#1192e8\" xlink:href=\"#m465b4e231b\"/></g><g clip-path=\"url(#p3dccf8f02a)\"><use x=\"149.299303\" y=\"142.352411\" fill=\"#1192e8\" stroke=\"#1192e8\" xlink:href=\"#m465b4e231b\"/></g><g clip-path=\"url(#p3dccf8f02a)\"><use x=\"273.811699\" y=\"96.066696\" fill=\"#1192e8\" stroke=\"#1192e8\" xlink:href=\"#m465b4e231b\"/></g><g clip-path=\"url(#p3dccf8f02a)\"><use x=\"407.547237\" y=\"330.580982\" fill=\"#1192e8\" stroke=\"#1192e8\" xlink:href=\"#m465b4e231b\"/></g><g clip-path=\"url(#p3dccf8f02a)\"><use x=\"269.200129\" y=\"238.009554\" fill=\"#1192e8\" stroke=\"#1192e8\" xlink:href=\"#m465b4e231b\"/></g><g clip-path=\"url(#p3dccf8f02a)\"><use x=\"416.770377\" y=\"55.952411\" fill=\"#1192e8\" stroke=\"#1192e8\" xlink:href=\"#m465b4e231b\"/></g><g clip-path=\"url(#p3dccf8f02a)\"><use x=\"259.976989\" y=\"238.009554\" fill=\"#1192e8\" stroke=\"#1192e8\" xlink:href=\"#m465b4e231b\"/></g><g clip-path=\"url(#p3dccf8f02a)\"><use x=\"283.03484\" y=\"114.580982\" fill=\"#1192e8\" stroke=\"#1192e8\" xlink:href=\"#m465b4e231b\"/></g><g clip-path=\"url(#p3dccf8f02a)\"><use x=\"190.803435\" y=\"37.438125\" fill=\"#1192e8\" stroke=\"#1192e8\" xlink:href=\"#m465b4e231b\"/></g><defs><path id=\"m846ed087e1\" d=\"m0 5c1.326 0 2.5979-0.52683 3.5355-1.4645 0.93763-0.93764 1.4645-2.2095 1.4645-3.5355s-0.52683-2.5979-1.4645-3.5355c-0.93764-0.93763-2.2095-1.4645-3.5355-1.4645s-2.5979 0.52683-3.5355 1.4645c-0.93763 0.93764-1.4645 2.2095-1.4645 3.5355s0.52683 2.5979 1.4645 3.5355c0.93764 0.93763 2.2095 1.4645 3.5355 1.4645z\" stroke=\"#6929c4\"/></defs><g clip-path=\"url(#p3dccf8f02a)\"><use x=\"338.373683\" y=\"86.809554\" fill=\"#6929c4\" stroke=\"#6929c4\" xlink:href=\"#m846ed087e1\"/></g><g clip-path=\"url(#p3dccf8f02a)\"><use x=\"61.679468\" y=\"271.952411\" fill=\"#6929c4\" stroke=\"#6929c4\" xlink:href=\"#m846ed087e1\"/></g><g clip-path=\"url(#p3dccf8f02a)\"><use x=\"319.927402\" y=\"253.438125\" fill=\"#6929c4\" stroke=\"#6929c4\" xlink:href=\"#m846ed087e1\"/></g><g clip-path=\"url(#p3dccf8f02a)\"><use x=\"333.762113\" y=\"40.523839\" fill=\"#6929c4\" stroke=\"#6929c4\" xlink:href=\"#m846ed087e1\"/></g><g clip-path=\"url(#p3dccf8f02a)\"><use x=\"310.704261\" y=\"281.209554\" fill=\"#6929c4\" stroke=\"#6929c4\" xlink:href=\"#m846ed087e1\"/></g><g clip-path=\"url(#p3dccf8f02a)\"><use x=\"227.695997\" y=\"200.980982\" fill=\"#6929c4\" stroke=\"#6929c4\" xlink:href=\"#m846ed087e1\"/></g><g clip-path=\"url(#p3dccf8f02a)\"><use x=\"389.100956\" y=\"312.066696\" fill=\"#6929c4\" stroke=\"#6929c4\" xlink:href=\"#m846ed087e1\"/></g><g clip-path=\"url(#p3dccf8f02a)\"><use x=\"319.927402\" y=\"333.666696\" fill=\"#6929c4\" stroke=\"#6929c4\" xlink:href=\"#m846ed087e1\"/></g><g clip-path=\"url(#p3dccf8f02a)\"><use x=\"236.919137\" y=\"287.380982\" fill=\"#6929c4\" stroke=\"#6929c4\" xlink:href=\"#m846ed087e1\"/></g><g clip-path=\"url(#p3dccf8f02a)\"><use x=\"75.514179\" y=\"117.666696\" fill=\"#6929c4\" stroke=\"#6929c4\" xlink:href=\"#m846ed087e1\"/></g><g clip-path=\"url(#p3dccf8f02a)\"><use x=\"416.770377\" y=\"296.638125\" fill=\"#6929c4\" stroke=\"#6929c4\" xlink:href=\"#m846ed087e1\"/></g><g clip-path=\"url(#p3dccf8f02a)\"><use x=\"246.142278\" y=\"200.980982\" fill=\"#6929c4\" stroke=\"#6929c4\" xlink:href=\"#m846ed087e1\"/></g><g clip-path=\"url(#p3dccf8f02a)\"><use x=\"342.985253\" y=\"139.266696\" fill=\"#6929c4\" stroke=\"#6929c4\" xlink:href=\"#m846ed087e1\"/></g><g clip-path=\"url(#p3dccf8f02a)\"><use x=\"186.191865\" y=\"83.723839\" fill=\"#6929c4\" stroke=\"#6929c4\" xlink:href=\"#m846ed087e1\"/></g><g clip-path=\"url(#p3dccf8f02a)\"><use x=\"472.10922\" y=\"99.152411\" fill=\"#6929c4\" stroke=\"#6929c4\" xlink:href=\"#m846ed087e1\"/></g><g clip-path=\"url(#p3dccf8f02a)\"><use x=\"366.043104\" y=\"200.980982\" fill=\"#6929c4\" stroke=\"#6929c4\" xlink:href=\"#m846ed087e1\"/></g><g clip-path=\"url(#p3dccf8f02a)\"><use x=\"338.373683\" y=\"86.809554\" fill=\"#6929c4\" stroke=\"#6929c4\" xlink:href=\"#m846ed087e1\"/></g><g clip-path=\"url(#p3dccf8f02a)\"><use x=\"163.134013\" y=\"210.238125\" fill=\"#6929c4\" stroke=\"#6929c4\" xlink:href=\"#m846ed087e1\"/></g><g clip-path=\"url(#p3dccf8f02a)\"><use x=\"236.919137\" y=\"46.695268\" fill=\"#6929c4\" stroke=\"#6929c4\" xlink:href=\"#m846ed087e1\"/></g><g clip-path=\"url(#p3dccf8f02a)\"><use x=\"246.142278\" y=\"191.723839\" fill=\"#6929c4\" stroke=\"#6929c4\" xlink:href=\"#m846ed087e1\"/></g><defs><path id=\"m4e5ed7527c\" d=\"m-5 5h10v-10h-10z\" stroke=\"#1192e8\"/></defs><g clip-path=\"url(#p3dccf8f02a)\"><use x=\"370.654675\" y=\"241.095268\" fill=\"#1192e8\" stroke=\"#1192e8\" xlink:href=\"#m4e5ed7527c\"/></g><g clip-path=\"url(#p3dccf8f02a)\"><use x=\"416.770377\" y=\"315.152411\" fill=\"#1192e8\" stroke=\"#1192e8\" xlink:href=\"#m4e5ed7527c\"/></g><g clip-path=\"url(#p3dccf8f02a)\"><use x=\"366.043104\" y=\"92.980982\" fill=\"#1192e8\" stroke=\"#1192e8\" xlink:href=\"#m4e5ed7527c\"/></g><g clip-path=\"url(#p3dccf8f02a)\"><use x=\"296.869551\" y=\"247.266696\" fill=\"#1192e8\" stroke=\"#1192e8\" xlink:href=\"#m4e5ed7527c\"/></g><defs><path id=\"m2952cbbe64\" d=\"m-5 5h10v-10h-10z\" stroke=\"#6929c4\"/></defs><g clip-path=\"url(#p3dccf8f02a)\"><use x=\"232.307567\" y=\"327.495268\" fill=\"#6929c4\" stroke=\"#6929c4\" xlink:href=\"#m2952cbbe64\"/></g><path d=\"m232.31 338.68c2.9651 0 5.8091-1.178 7.9057-3.2746 2.0966-2.0966 3.2746-4.9406 3.2746-7.9057s-1.178-5.8091-3.2746-7.9057c-2.0966-2.0966-4.9406-3.2746-7.9057-3.2746s-5.8091 1.178-7.9057 3.2746c-2.0966 2.0966-3.2746 4.9406-3.2746 7.9057s1.178 5.8091 3.2746 7.9057 4.9406 3.2746 7.9057 3.2746z\" clip-path=\"url(#p3dccf8f02a)\" fill=\"none\" stroke=\"#9f1853\" stroke-width=\"2.5\"/><g clip-path=\"url(#p3dccf8f02a)\"><use x=\"504.390212\" y=\"262.695268\" fill=\"#6929c4\" stroke=\"#6929c4\" xlink:href=\"#m2952cbbe64\"/></g><g clip-path=\"url(#p3dccf8f02a)\"><use x=\"504.390212\" y=\"308.980982\" fill=\"#6929c4\" stroke=\"#6929c4\" xlink:href=\"#m2952cbbe64\"/></g><g clip-path=\"url(#p3dccf8f02a)\"><use x=\"213.861286\" y=\"176.295268\" fill=\"#6929c4\" stroke=\"#6929c4\" xlink:href=\"#m2952cbbe64\"/></g><g clip-path=\"url(#p3dccf8f02a)\"><use x=\"57.067898\" y=\"52.866696\" fill=\"#1192e8\" stroke=\"#1192e8\" xlink:href=\"#m4e5ed7527c\"/></g><path d=\"m57.068 64.047c2.9651 0 5.8091-1.178 7.9057-3.2746 2.0966-2.0966 3.2746-4.9406 3.2746-7.9057 0-2.9651-1.178-5.8091-3.2746-7.9057-2.0966-2.0966-4.9406-3.2746-7.9057-3.2746s-5.8091 1.178-7.9057 3.2746c-2.0966 2.0966-3.2746 4.9406-3.2746 7.9057 0 2.9651 1.178 5.8091 3.2746 7.9057 2.0966 2.0966 4.9406 3.2746 7.9057 3.2746z\" clip-path=\"url(#p3dccf8f02a)\" fill=\"none\" stroke=\"#9f1853\" stroke-width=\"2.5\"/><g clip-path=\"url(#p3dccf8f02a)\"><use x=\"407.547237\" y=\"130.009554\" fill=\"#1192e8\" stroke=\"#1192e8\" xlink:href=\"#m4e5ed7527c\"/></g><path d=\"m407.55 141.19c2.9651 0 5.8091-1.178 7.9057-3.2746 2.0966-2.0966 3.2746-4.9406 3.2746-7.9057 0-2.9651-1.178-5.8091-3.2746-7.9057-2.0966-2.0966-4.9406-3.2746-7.9057-3.2746-2.9651 0-5.8091 1.178-7.9057 3.2746-2.0966 2.0966-3.2746 4.9406-3.2746 7.9057 0 2.9651 1.178 5.8091 3.2746 7.9057 2.0966 2.0966 4.9406 3.2746 7.9057 3.2746z\" clip-path=\"url(#p3dccf8f02a)\" fill=\"none\" stroke=\"#9f1853\" stroke-width=\"2.5\"/><defs><path id=\"m8f7edfc5d0\" d=\"m0 0v3.5\" stroke=\"#343a3f\" stroke-width=\".8\"/></defs><use x=\"57.067898\" y=\"354.958125\" fill=\"#343a3f\" stroke=\"#343a3f\" stroke-width=\".8\" xlink:href=\"#m8f7edfc5d0\"/><g transform=\"translate(53.887 369.56) scale(.1 -.1)\" fill=\"#343a3f\"><defs><path id=\"DejaVuSans-30\" transform=\"scale(.015625)\" d=\"m2034 4250q-487 0-733-480-245-479-245-1442 0-959 245-1439 246-480 733-480 491 0 736 480 246 480 246 1439 0 963-246 1442-245 480-736 480zm0 500q785 0 1199-621 414-620 414-1801 0-1178-414-1799-414-620-1199-620-784 0-1198 620-414 621-414 1799 0 1181 414 1801 414 621 1198 621z\"/></defs><use xlink:href=\"#DejaVuSans-30\"/></g><use x=\"130.463318\" y=\"354.958125\" fill=\"#343a3f\" stroke=\"#343a3f\" stroke-width=\".8\" xlink:href=\"#m8f7edfc5d0\"/><g transform=\"translate(127.28 369.56) scale(.1 -.1)\" fill=\"#343a3f\"><defs><path id=\"DejaVuSans-31\" transform=\"scale(.015625)\" d=\"m794 531h1031v3560l-1122-225v575l1116 225h631v-4135h1031v-531h-2687v531z\"/></defs><use xlink:href=\"#DejaVuSans-31\"/></g><use x=\"203.858738\" y=\"354.958125\" fill=\"#343a3f\" stroke=\"#343a3f\" stroke-width=\".8\" xlink:href=\"#m8f7edfc5d0\"/><g transform=\"translate(200.68 369.56) scale(.1 -.1)\" fill=\"#343a3f\"><defs><path id=\"DejaVuSans-32\" transform=\"scale(.015625)\" d=\"m1228 531h2203v-531h-2962v531q359 372 979 998 621 627 780 809 303 340 423 576 121 236 121 464 0 372-261 606-261 235-680 235-297 0-627-103-329-103-704-313v638q381 153 712 231 332 78 607 78 725 0 1156-363 431-362 431-968 0-288-108-546-107-257-392-607-78-91-497-524-418-433-1181-1211z\"/></defs><use xlink:href=\"#DejaVuSans-32\"/></g><use x=\"277.254158\" y=\"354.958125\" fill=\"#343a3f\" stroke=\"#343a3f\" stroke-width=\".8\" xlink:href=\"#m8f7edfc5d0\"/><g transform=\"translate(274.07 369.56) scale(.1 -.1)\" fill=\"#343a3f\"><defs><path id=\"DejaVuSans-33\" transform=\"scale(.015625)\" d=\"m2597 2516q453-97 707-404 255-306 255-756 0-690-475-1069-475-378-1350-378-293 0-604 58t-642 174v609q262-153 574-231 313-78 654-78 593 0 904 234t311 681q0 413-289 645-289 233-804 233h-544v519h569q465 0 712 186t247 536q0 359-255 551-254 193-729 193-260 0-557-57-297-56-653-174v562q360 100 674 150t592 50q719 0 1137-327 419-326 419-882 0-388-222-655t-631-370z\"/></defs><use xlink:href=\"#DejaVuSans-33\"/></g><use x=\"350.649578\" y=\"354.958125\" fill=\"#343a3f\" stroke=\"#343a3f\" stroke-width=\".8\" xlink:href=\"#m8f7edfc5d0\"/><g transform=\"translate(347.47 369.56) scale(.1 -.1)\" fill=\"#343a3f\"><defs><path id=\"DejaVuSans-34\" transform=\"scale(.015625)\" d=\"m2419 4116-1594-2491h1594v2491zm-166 550h794v-3041h666v-525h-666v-1100h-628v1100h-2106v609l1940 2957z\"/></defs><use xlink:href=\"#DejaVuSans-34\"/></g><use x=\"424.044998\" y=\"354.958125\" fill=\"#343a3f\" stroke=\"#343a3f\" stroke-width=\".8\" xlink:href=\"#m8f7edfc5d0\"/><g transform=\"translate(420.86 369.56) scale(.1 -.1)\" fill=\"#343a3f\"><defs><path id=\"DejaVuSans-35\" transform=\"scale(.015625)\" d=\"m691 4666h2478v-532h-1900v-1143q137 47 274 70 138 23 276 23 781 0 1237-428 457-428 457-1159 0-753-469-1171-469-417-1322-417-294 0-599 50-304 50-629 150v635q281-153 581-228t634-75q541 0 856 284 316 284 316 772 0 487-316 771-315 285-856 285-253 0-505-56-251-56-513-175v2344z\"/></defs><use xlink:href=\"#DejaVuSans-35\"/></g><use x=\"497.440418\" y=\"354.958125\" fill=\"#343a3f\" stroke=\"#343a3f\" stroke-width=\".8\" xlink:href=\"#m8f7edfc5d0\"/><g transform=\"translate(494.26 369.56) scale(.1 -.1)\" fill=\"#343a3f\"><defs><path id=\"DejaVuSans-36\" transform=\"scale(.015625)\" d=\"m2113 2584q-425 0-674-291-248-290-248-796 0-503 248-796 249-292 674-292t673 292q248 293 248 796 0 506-248 796-248 291-673 291zm1253 1979v-575q-238 112-480 171-242 60-480 60-625 0-955-422-329-422-376-1275 184 272 462 417 279 145 613 145 703 0 1111-427 408-426 408-1160 0-719-425-1154-425-434-1131-434-810 0-1238 620-428 621-428 1799 0 1106 525 1764t1409 658q238 0 480-47t505-140z\"/></defs><use xlink:href=\"#DejaVuSans-36\"/></g><g transform=\"translate(282.38 383.23) scale(.1 -.1)\" fill=\"#343a3f\"><defs><path id=\"DejaVuSans-78\" transform=\"scale(.015625)\" d=\"m3513 3500-1266-1703 1331-1797h-678l-1019 1375-1018-1375h-679l1360 1831-1244 1669h678l928-1247 928 1247h679z\"/></defs><use xlink:href=\"#DejaVuSans-78\"/></g><defs><path id=\"m027ad66c10\" d=\"m0 0h-3.5\" stroke=\"#343a3f\" stroke-width=\".8\"/></defs><use x=\"34.240625\" y=\"342.923839\" fill=\"#343a3f\" stroke=\"#343a3f\" stroke-width=\".8\" xlink:href=\"#m027ad66c10\"/><g transform=\"translate(20.878 346.72) scale(.1 -.1)\" fill=\"#343a3f\"><use xlink:href=\"#DejaVuSans-30\"/></g><use x=\"34.240625\" y=\"293.813171\" fill=\"#343a3f\" stroke=\"#343a3f\" stroke-width=\".8\" xlink:href=\"#m027ad66c10\"/><g transform=\"translate(20.878 297.61) scale(.1 -.1)\" fill=\"#343a3f\"><use xlink:href=\"#DejaVuSans-31\"/></g><use x=\"34.240625\" y=\"244.702503\" fill=\"#343a3f\" stroke=\"#343a3f\" stroke-width=\".8\" xlink:href=\"#m027ad66c10\"/><g transform=\"translate(20.878 248.5) scale(.1 -.1)\" fill=\"#343a3f\"><use xlink:href=\"#DejaVuSans-32\"/></g><use x=\"34.240625\" y=\"195.591835\" fill=\"#343a3f\" stroke=\"#343a3f\" stroke-width=\".8\" xlink:href=\"#m027ad66c10\"/><g transform=\"translate(20.878 199.39) scale(.1 -.1)\" fill=\"#343a3f\"><use xlink:href=\"#DejaVuSans-33\"/></g><use x=\"34.240625\" y=\"146.481167\" fill=\"#343a3f\" stroke=\"#343a3f\" stroke-width=\".8\" xlink:href=\"#m027ad66c10\"/><g transform=\"translate(20.878 150.28) scale(.1 -.1)\" fill=\"#343a3f\"><use xlink:href=\"#DejaVuSans-34\"/></g><use x=\"34.240625\" y=\"97.370499\" fill=\"#343a3f\" stroke=\"#343a3f\" stroke-width=\".8\" xlink:href=\"#m027ad66c10\"/><g transform=\"translate(20.878 101.17) scale(.1 -.1)\" fill=\"#343a3f\"><use xlink:href=\"#DejaVuSans-35\"/></g><use x=\"34.240625\" y=\"48.25983\" fill=\"#343a3f\" stroke=\"#343a3f\" stroke-width=\".8\" xlink:href=\"#m027ad66c10\"/><g transform=\"translate(20.878 52.059) scale(.1 -.1)\" fill=\"#343a3f\"><use xlink:href=\"#DejaVuSans-36\"/></g><g transform=\"translate(14.798 191.6) rotate(-90) scale(.1 -.1)\" fill=\"#343a3f\"><defs><path id=\"DejaVuSans-79\" transform=\"scale(.015625)\" d=\"m2059-325q-243-625-475-815-231-191-618-191h-460v481h338q237 0 368 113 132 112 291 531l103 262-1415 3444h609l1094-2737 1094 2737h609l-1538-3825z\"/></defs><use xlink:href=\"#DejaVuSans-79\"/></g><path d=\"m34.241 354.96v-332.64\" fill=\"none\" stroke=\"#343a3f\" stroke-linecap=\"square\" stroke-width=\".8\"/><path d=\"m34.241 354.96h502.2\" fill=\"none\" stroke=\"#343a3f\" stroke-linecap=\"square\" stroke-width=\".8\"/><g transform=\"translate(225.13 16.318) scale(.12 -.12)\" fill=\"#343a3f\"><defs><path id=\"DejaVuSans-54\" transform=\"scale(.015625)\" d=\"m-19 4666h3947v-532h-1656v-4134h-634v4134h-1657v532z\"/><path id=\"DejaVuSans-72\" transform=\"scale(.015625)\" d=\"m2631 2963q-97 56-211 82-114 27-251 27-488 0-749-317t-261-911v-1844h-578v3500h578v-544q182 319 472 473 291 155 707 155 59 0 131-8 72-7 159-23l3-590z\"/><path id=\"DejaVuSans-61\" transform=\"scale(.015625)\" d=\"m2194 1759q-697 0-966-159t-269-544q0-306 202-486 202-179 548-179 479 0 768 339t289 901v128h-572zm1147 238v-1997h-575v531q-197-318-491-470t-719-152q-537 0-855 302-317 302-317 808 0 590 395 890 396 300 1180 300h807v57q0 397-261 614t-733 217q-300 0-585-72-284-72-546-216v532q315 122 612 182 297 61 578 61 760 0 1135-394 375-393 375-1193z\"/><path id=\"DejaVuSans-69\" transform=\"scale(.015625)\" d=\"m603 3500h575v-3500h-575v3500zm0 1363h575v-729h-575v729z\"/><path id=\"DejaVuSans-6e\" transform=\"scale(.015625)\" d=\"m3513 2113v-2113h-575v2094q0 497-194 743-194 247-581 247-466 0-735-297-269-296-269-809v-1978h-578v3500h578v-544q207 316 486 472 280 156 646 156 603 0 912-373 310-373 310-1098z\"/><path id=\"DejaVuSans-67\" transform=\"scale(.015625)\" d=\"m2906 1791q0 625-258 968-257 344-723 344-462 0-720-344-258-343-258-968 0-622 258-966t720-344q466 0 723 344 258 344 258 966zm575-1357q0-893-397-1329-396-436-1215-436-303 0-572 45t-522 139v559q253-137 500-202 247-66 503-66 566 0 847 295t281 892v285q-178-310-456-463t-666-153q-643 0-1037 490-394 491-394 1301 0 812 394 1302 394 491 1037 491 388 0 666-153t456-462v531h575v-3066z\"/><path id=\"DejaVuSans-26\" transform=\"scale(.015625)\" d=\"m1556 2509q-284-253-417-505-133-251-133-526 0-456 331-759 332-303 832-303 297 0 556 98 259 99 488 299l-1657 1696zm441 350 1587-1625q185 279 288 596t122 673h581q-37-412-200-816-162-403-453-796l872-891h-788l-447 459q-325-278-681-414t-765-136q-754 0-1232 430t-478 1102q0 400 209 751 210 352 629 661-150 197-229 392-78 196-78 383 0 506 347 814t922 308q260 0 517-56 258-56 524-169v-569q-272 147-519 223-247 77-459 77-328 0-533-174-205-173-205-448 0-159 92-320 93-161 377-455z\"/><path id=\"DejaVuSans-65\" transform=\"scale(.015625)\" d=\"m3597 1894v-281h-2644q38-594 358-905t892-311q331 0 642 81t618 244v-544q-310-131-635-200t-659-69q-838 0-1327 487-489 488-489 1320 0 859 464 1363 464 505 1252 505 706 0 1117-455 411-454 411-1235zm-575 169q-6 471-264 752-258 282-683 282-481 0-770-272t-333-766l2050 4z\"/><path id=\"DejaVuSans-73\" transform=\"scale(.015625)\" d=\"m2834 3397v-544q-243 125-506 187-262 63-544 63-428 0-642-131t-214-394q0-200 153-314t616-217l197-44q612-131 870-370t258-667q0-488-386-773-386-284-1061-284-281 0-586 55t-642 164v594q319-166 628-249 309-82 613-82 406 0 624 139 219 139 219 392 0 234-158 359-157 125-692 241l-200 47q-534 112-772 345-237 233-237 639 0 494 350 762 350 269 994 269 318 0 599-47 282-46 519-140z\"/><path id=\"DejaVuSans-74\" transform=\"scale(.015625)\" d=\"m1172 4494v-994h1184v-447h-1184v-1900q0-428 117-550t477-122h590v-481h-590q-666 0-919 248-253 249-253 905v1900h-422v447h422v994h578z\"/><path id=\"DejaVuSans-44\" transform=\"scale(.015625)\" d=\"m1259 4147v-3628h763q966 0 1414 437 448 438 448 1382 0 937-448 1373t-1414 436h-763zm-631 519h1297q1356 0 1990-564 635-564 635-1764 0-1207-638-1773-637-565-1987-565h-1297v4666z\"/></defs><use xlink:href=\"#DejaVuSans-54\"/><use x=\"46.333984\" xlink:href=\"#DejaVuSans-72\"/><use x=\"87.447266\" xlink:href=\"#DejaVuSans-61\"/><use x=\"148.726562\" xlink:href=\"#DejaVuSans-69\"/><use x=\"176.509766\" xlink:href=\"#DejaVuSans-6e\"/><use x=\"239.888672\" xlink:href=\"#DejaVuSans-69\"/><use x=\"267.671875\" xlink:href=\"#DejaVuSans-6e\"/><use x=\"331.050781\" xlink:href=\"#DejaVuSans-67\"/><use x=\"394.527344\" xlink:href=\"#DejaVuSans-20\"/><use x=\"426.314453\" xlink:href=\"#DejaVuSans-26\"/><use x=\"504.292969\" xlink:href=\"#DejaVuSans-20\"/><use x=\"536.080078\" xlink:href=\"#DejaVuSans-54\"/><use x=\"580.164062\" xlink:href=\"#DejaVuSans-65\"/><use x=\"641.6875\" xlink:href=\"#DejaVuSans-73\"/><use x=\"693.787109\" xlink:href=\"#DejaVuSans-74\"/><use x=\"732.996094\" xlink:href=\"#DejaVuSans-20\"/><use x=\"764.783203\" xlink:href=\"#DejaVuSans-44\"/><use x=\"841.785156\" xlink:href=\"#DejaVuSans-61\"/><use x=\"903.064453\" xlink:href=\"#DejaVuSans-74\"/><use x=\"942.273438\" xlink:href=\"#DejaVuSans-61\"/></g><path d=\"m541.44 103.71h125.15v-76.391h-125.15z\" fill=\"#ffffff\" opacity=\".8\" stroke=\"#cccccc\"/><path d=\"m545.44 35.417h10 10\" fill=\"none\" stroke=\"#ffffff\" stroke-linecap=\"square\"/><defs><path id=\"m9325bf19bf\" d=\"m0 5c1.326 0 2.5979-0.52683 3.5355-1.4645 0.93763-0.93764 1.4645-2.2095 1.4645-3.5355s-0.52683-2.5979-1.4645-3.5355c-0.93764-0.93763-2.2095-1.4645-3.5355-1.4645s-2.5979 0.52683-3.5355 1.4645c-0.93763 0.93764-1.4645 2.2095-1.4645 3.5355s0.52683 2.5979 1.4645 3.5355c0.93764 0.93763 2.2095 1.4645 3.5355 1.4645z\" stroke=\"#ffffff\"/></defs><use x=\"555.440625\" y=\"35.416562\" fill=\"#6929c4\" stroke=\"#ffffff\" xlink:href=\"#m9325bf19bf\"/><g transform=\"translate(573.44 38.917) scale(.1 -.1)\" fill=\"#343a3f\"><defs><path id=\"DejaVuSans-41\" transform=\"scale(.015625)\" d=\"m2188 4044-857-2322h1716l-859 2322zm-357 622h716l1778-4666h-656l-425 1197h-2103l-425-1197h-666l1781 4666z\"/></defs><use xlink:href=\"#DejaVuSans-41\"/></g><path d=\"m545.44 50.095h10 10\" fill=\"none\" stroke=\"#ffffff\" stroke-linecap=\"square\"/><defs><path id=\"m410bb6d3d5\" d=\"m0 5c1.326 0 2.5979-0.52683 3.5355-1.4645 0.93763-0.93764 1.4645-2.2095 1.4645-3.5355s-0.52683-2.5979-1.4645-3.5355c-0.93764-0.93763-2.2095-1.4645-3.5355-1.4645s-2.5979 0.52683-3.5355 1.4645c-0.93763 0.93764-1.4645 2.2095-1.4645 3.5355s0.52683 2.5979 1.4645 3.5355c0.93764 0.93763 2.2095 1.4645 3.5355 1.4645z\" stroke=\"#ffffff\"/></defs><use x=\"555.440625\" y=\"50.094688\" fill=\"#1192e8\" stroke=\"#ffffff\" xlink:href=\"#m410bb6d3d5\"/><g transform=\"translate(573.44 53.595) scale(.1 -.1)\" fill=\"#343a3f\"><defs><path id=\"DejaVuSans-42\" transform=\"scale(.015625)\" d=\"m1259 2228v-1709h1013q509 0 754 211 246 211 246 645 0 438-246 645-245 208-754 208h-1013zm0 1919v-1406h935q462 0 688 173 227 174 227 530 0 353-227 528-226 175-688 175h-935zm-631 519h1613q722 0 1112-300 391-300 391-853 0-429-200-682t-588-315q466-100 724-418 258-317 258-792 0-625-425-966-425-340-1210-340h-1675v4666z\"/></defs><use xlink:href=\"#DejaVuSans-42\"/></g><path d=\"m545.44 64.773h10 10\" fill=\"none\" stroke=\"#ffffff\" stroke-linecap=\"square\"/><defs><path id=\"mcfd9809eab\" d=\"m-5 5h10v-10h-10z\" stroke=\"#ffffff\"/></defs><use x=\"555.440625\" y=\"64.772812\" fill=\"#6929c4\" stroke=\"#ffffff\" xlink:href=\"#mcfd9809eab\"/><g transform=\"translate(573.44 68.273) scale(.1 -.1)\" fill=\"#343a3f\"><defs><path id=\"DejaVuSans-70\" transform=\"scale(.015625)\" d=\"m1159 525v-1856h-578v4831h578v-531q182 312 458 463 277 152 661 152 638 0 1036-506 399-506 399-1331t-399-1332q-398-506-1036-506-384 0-661 152-276 152-458 464zm1957 1222q0 634-261 995t-717 361q-457 0-718-361t-261-995 261-995 718-361q456 0 717 361t261 995z\"/><path id=\"DejaVuSans-64\" transform=\"scale(.015625)\" d=\"m2906 2969v1894h575v-4863h-575v525q-181-312-458-464-276-152-664-152-634 0-1033 506-398 507-398 1332t398 1331q399 506 1033 506 388 0 664-152 277-151 458-463zm-1959-1222q0-634 261-995t717-361 718 361q263 361 263 995t-263 995q-262 361-718 361t-717-361-261-995z\"/><path id=\"DejaVuSans-63\" transform=\"scale(.015625)\" d=\"m3122 3366v-538q-244 135-489 202t-495 67q-560 0-870-355-309-354-309-995t309-996q310-354 870-354 250 0 495 67t489 202v-532q-241-112-499-168-257-57-548-57-791 0-1257 497-465 497-465 1341 0 856 470 1346 471 491 1290 491 265 0 518-55 253-54 491-163z\"/></defs><use xlink:href=\"#DejaVuSans-70\"/><use x=\"63.476562\" xlink:href=\"#DejaVuSans-72\"/><use x=\"102.339844\" xlink:href=\"#DejaVuSans-65\"/><use x=\"163.863281\" xlink:href=\"#DejaVuSans-64\"/><use x=\"227.339844\" xlink:href=\"#DejaVuSans-69\"/><use x=\"255.123047\" xlink:href=\"#DejaVuSans-63\"/><use x=\"310.103516\" xlink:href=\"#DejaVuSans-74\"/><use x=\"349.3125\" xlink:href=\"#DejaVuSans-20\"/><use x=\"381.099609\" xlink:href=\"#DejaVuSans-41\"/></g><path d=\"m545.44 79.451h10 10\" fill=\"none\" stroke=\"#ffffff\" stroke-linecap=\"square\"/><defs><path id=\"m498096555d\" d=\"m-5 5h10v-10h-10z\" stroke=\"#ffffff\"/></defs><use x=\"555.440625\" y=\"79.450938\" fill=\"#1192e8\" stroke=\"#ffffff\" xlink:href=\"#m498096555d\"/><g transform=\"translate(573.44 82.951) scale(.1 -.1)\" fill=\"#343a3f\"><use xlink:href=\"#DejaVuSans-70\"/><use x=\"63.476562\" xlink:href=\"#DejaVuSans-72\"/><use x=\"102.339844\" xlink:href=\"#DejaVuSans-65\"/><use x=\"163.863281\" xlink:href=\"#DejaVuSans-64\"/><use x=\"227.339844\" xlink:href=\"#DejaVuSans-69\"/><use x=\"255.123047\" xlink:href=\"#DejaVuSans-63\"/><use x=\"310.103516\" xlink:href=\"#DejaVuSans-74\"/><use x=\"349.3125\" xlink:href=\"#DejaVuSans-20\"/><use x=\"381.099609\" xlink:href=\"#DejaVuSans-42\"/></g><path d=\"m545.44 94.129h10 10\" fill=\"none\" stroke=\"#ffffff\" stroke-linecap=\"square\"/><defs><path id=\"m3aa6878f71\" d=\"m0 7.5c1.989 0 3.8968-0.79025 5.3033-2.1967s2.1967-3.3143 2.1967-5.3033-0.79025-3.8968-2.1967-5.3033-3.3143-2.1967-5.3033-2.1967-3.8968 0.79025-5.3033 2.1967-2.1967 3.3143-2.1967 5.3033 0.79025 3.8968 2.1967 5.3033 3.3143 2.1967 5.3033 2.1967z\" stroke=\"#9f1853\" stroke-width=\"2\"/></defs><use x=\"555.440625\" y=\"94.129063\" fill-opacity=\"0\" stroke=\"#9f1853\" stroke-width=\"2\" xlink:href=\"#m3aa6878f71\"/><g transform=\"translate(573.44 97.629) scale(.1 -.1)\" fill=\"#343a3f\"><defs><path id=\"DejaVuSans-77\" transform=\"scale(.015625)\" d=\"m269 3500h575l719-2731 715 2731h678l719-2731 716 2731h575l-916-3500h-678l-753 2869-756-2869h-679l-915 3500z\"/><path id=\"DejaVuSans-6f\" transform=\"scale(.015625)\" d=\"m1959 3097q-462 0-731-361t-269-989 267-989q268-361 733-361 460 0 728 362 269 363 269 988 0 622-269 986-268 364-728 364zm0 487q750 0 1178-488 429-487 429-1349 0-859-429-1349-428-489-1178-489-753 0-1180 489-426 490-426 1349 0 862 426 1349 427 488 1180 488z\"/><path id=\"DejaVuSans-6c\" transform=\"scale(.015625)\" d=\"m603 4863h575v-4863h-575v4863z\"/><path id=\"DejaVuSans-66\" transform=\"scale(.015625)\" d=\"m2375 4863v-479h-550q-309 0-430-125-120-125-120-450v-309h947v-447h-947v-3053h-578v3053h-550v447h550v244q0 584 272 851 272 268 862 268h544z\"/></defs><use xlink:href=\"#DejaVuSans-77\"/><use x=\"81.787109\" xlink:href=\"#DejaVuSans-72\"/><use x=\"120.650391\" xlink:href=\"#DejaVuSans-6f\"/><use x=\"181.832031\" xlink:href=\"#DejaVuSans-6e\"/><use x=\"245.210938\" xlink:href=\"#DejaVuSans-67\"/><use x=\"308.6875\" xlink:href=\"#DejaVuSans-6c\"/><use x=\"336.470703\" xlink:href=\"#DejaVuSans-79\"/><use x=\"395.650391\" xlink:href=\"#DejaVuSans-20\"/><use x=\"427.4375\" xlink:href=\"#DejaVuSans-63\"/><use x=\"482.417969\" xlink:href=\"#DejaVuSans-6c\"/><use x=\"510.201172\" xlink:href=\"#DejaVuSans-61\"/><use x=\"571.480469\" xlink:href=\"#DejaVuSans-73\"/><use x=\"623.580078\" xlink:href=\"#DejaVuSans-73\"/><use x=\"675.679688\" xlink:href=\"#DejaVuSans-69\"/><use x=\"703.462891\" xlink:href=\"#DejaVuSans-66\"/><use x=\"738.667969\" xlink:href=\"#DejaVuSans-69\"/><use x=\"766.451172\" xlink:href=\"#DejaVuSans-65\"/><use x=\"827.974609\" xlink:href=\"#DejaVuSans-64\"/></g><defs><clipPath id=\"p3dccf8f02a\"><rect x=\"34.241\" y=\"22.318\" width=\"502.2\" height=\"332.64\"/></clipPath></defs></svg>"
      ],
      "text/plain": [
       "<Figure size 900x600 with 1 Axes>"
      ]
     },
     "metadata": {},
     "output_type": "display_data"
    }
   ],
   "source": [
    "from matplotlib.lines import Line2D\n",
    "plt.figure(figsize=(9, 6))\n",
    "\n",
    "for feature, label in zip(TRAIN_DATA, TRAIN_LABELS):\n",
    "    COLOR = 'C0' if label == 0 else 'C1'\n",
    "    plt.scatter(feature[0], feature[1],\n",
    "                marker='o', s=100, color=COLOR)\n",
    "\n",
    "for feature, label, pred in zip(TEST_DATA, TEST_LABELS, predictions):\n",
    "    COLOR = 'C0' if pred == 0 else 'C1'\n",
    "    plt.scatter(feature[0], feature[1],\n",
    "                marker='s', s=100, color=COLOR)\n",
    "    if label != pred:  # mark wrongly classified\n",
    "        plt.scatter(feature[0], feature[1], marker='o', s=500,\n",
    "                    linewidths=2.5, facecolor='none', edgecolor='C3')\n",
    "\n",
    "legend_elements = [\n",
    "    Line2D([0], [0], marker='o', c='w', mfc='C1', label='A', ms=10),\n",
    "    Line2D([0], [0], marker='o', c='w', mfc='C0', label='B', ms=10),\n",
    "    Line2D([0], [0], marker='s', c='w', mfc='C1', label='predict A',\n",
    "           ms=10),\n",
    "    Line2D([0], [0], marker='s', c='w', mfc='C0', label='predict B',\n",
    "           ms=10),\n",
    "    Line2D([0], [0], marker='o', c='w', mfc='none', mec='C3',\n",
    "           label='wrongly classified', mew=2, ms=15)\n",
    "]\n",
    "\n",
    "plt.legend(handles=legend_elements, bbox_to_anchor=(1, 1),\n",
    "           loc='upper left')\n",
    "\n",
    "plt.title('Training & Test Data')\n",
    "plt.xlabel('x')\n",
    "plt.ylabel('y')\n",
    "plt.show()"
   ]
  },
  {
   "attachments": {},
   "cell_type": "markdown",
   "metadata": {},
   "source": [
    "We see that the performance of the trained classifier is not great on the test data. The training optimization probably needed more time to train, or found a [local minimum](gloss:local-minimum), rather than the [global minimum](gloss:global-minimum)."
   ]
  },
  {
   "attachments": {},
   "cell_type": "markdown",
   "metadata": {},
   "source": [
    "### Qiskit implementation\n",
    "\n",
    "Qiskit has an implementation of the variational quantum classifier in the [`VQC`](https://qiskit.org/documentation/machine-learning/stubs/qiskit_machine_learning.algorithms.VQC.html) class. Let's use it on the same dataset. \n",
    "\n",
    "First, we need to one hot encode our labels, as required by the algorithm."
   ]
  },
  {
   "cell_type": "code",
   "execution_count": 11,
   "metadata": {},
   "outputs": [],
   "source": [
    "from sklearn.preprocessing import OneHotEncoder\n",
    "encoder = OneHotEncoder()\n",
    "train_labels_oh = encoder.fit_transform(TRAIN_LABELS.reshape(-1, 1)\n",
    "                                       ).toarray()\n",
    "test_labels_oh = encoder.fit_transform(TEST_LABELS.reshape(-1, 1)\n",
    "                                      ).toarray()"
   ]
  },
  {
   "attachments": {},
   "cell_type": "markdown",
   "metadata": {},
   "source": [
    "Next, we set up and run the `VQC` algorithm, setting initial variational circuit parameters for reproducibility and using the callback function we created earlier to plot the results, then plot the results."
   ]
  },
  {
   "cell_type": "code",
   "execution_count": 12,
   "metadata": {},
   "outputs": [
    {
     "data": {
      "text/plain": [
       "<qiskit_machine_learning.algorithms.classifiers.vqc.VQC at 0x13abb5130>"
      ]
     },
     "execution_count": 12,
     "metadata": {},
     "output_type": "execute_result"
    }
   ],
   "source": [
    "#initial_point = np.random.random(VAR_FORM.num_parameters)\n",
    "initial_point = np.array([0.3200227 , 0.6503638 , 0.55995053,\n",
    "                          0.96566328, 0.38243769, 0.90403094,\n",
    "                          0.82271449, 0.26810137, 0.61076489,\n",
    "                          0.82301609, 0.11789148, 0.29667125])\n",
    "\n",
    "from qiskit_machine_learning.algorithms.classifiers import VQC\n",
    "log = OptimizerLog()\n",
    "vqc = VQC(feature_map=FEATURE_MAP,\n",
    "          ansatz=VAR_FORM,\n",
    "          loss='cross_entropy',\n",
    "          optimizer=SPSA(callback=log.update),\n",
    "          initial_point=initial_point,\n",
    "          quantum_instance=BasicAer.get_backend('qasm_simulator'))\n",
    "\n",
    "vqc.fit(TRAIN_DATA, train_labels_oh)"
   ]
  },
  {
   "cell_type": "code",
   "execution_count": 13,
   "metadata": {},
   "outputs": [
    {
     "data": {
      "image/svg+xml": [
       "<?xml version=\"1.0\" encoding=\"UTF-8\"?><!DOCTYPE svg  PUBLIC '-//W3C//DTD SVG 1.1//EN'  'http://www.w3.org/Graphics/SVG/1.1/DTD/svg11.dtd'><svg width=\"408.1pt\" height=\"310.87pt\" version=\"1.1\" viewBox=\"0 0 408.1 310.87\" xmlns=\"http://www.w3.org/2000/svg\" xmlns:xlink=\"http://www.w3.org/1999/xlink\"><defs><style type=\"text/css\">*{stroke-linejoin: round; stroke-linecap: butt}</style></defs><path d=\"m0 310.87h408.1v-310.87h-408.1z\" fill=\"#ffffff\"/><path d=\"m43.781 273.31h357.12v-266.11h-357.12z\" fill=\"#ffffff\"/><defs><path id=\"m552f0d5123\" d=\"m0 0v3.5\" stroke=\"#343a3f\" stroke-width=\".8\"/></defs><use x=\"56.734638\" y=\"273.312\" fill=\"#343a3f\" stroke=\"#343a3f\" stroke-width=\".8\" xlink:href=\"#m552f0d5123\"/><g transform=\"translate(53.553 287.91) scale(.1 -.1)\" fill=\"#343a3f\"><defs><path id=\"DejaVuSans-30\" transform=\"scale(.015625)\" d=\"m2034 4250q-487 0-733-480-245-479-245-1442 0-959 245-1439 246-480 733-480 491 0 736 480 246 480 246 1439 0 963-246 1442-245 480-736 480zm0 500q785 0 1199-621 414-620 414-1801 0-1178-414-1799-414-620-1199-620-784 0-1198 620-414 621-414 1799 0 1181 414 1801 414 621 1198 621z\"/></defs><use xlink:href=\"#DejaVuSans-30\"/></g><use x=\"111.390286\" y=\"273.312\" fill=\"#343a3f\" stroke=\"#343a3f\" stroke-width=\".8\" xlink:href=\"#m552f0d5123\"/><g transform=\"translate(105.03 287.91) scale(.1 -.1)\" fill=\"#343a3f\"><defs><path id=\"DejaVuSans-35\" transform=\"scale(.015625)\" d=\"m691 4666h2478v-532h-1900v-1143q137 47 274 70 138 23 276 23 781 0 1237-428 457-428 457-1159 0-753-469-1171-469-417-1322-417-294 0-599 50-304 50-629 150v635q281-153 581-228t634-75q541 0 856 284 316 284 316 772 0 487-316 771-315 285-856 285-253 0-505-56-251-56-513-175v2344z\"/></defs><use xlink:href=\"#DejaVuSans-35\"/><use x=\"63.623047\" xlink:href=\"#DejaVuSans-30\"/></g><use x=\"166.045933\" y=\"273.312\" fill=\"#343a3f\" stroke=\"#343a3f\" stroke-width=\".8\" xlink:href=\"#m552f0d5123\"/><g transform=\"translate(156.5 287.91) scale(.1 -.1)\" fill=\"#343a3f\"><defs><path id=\"DejaVuSans-31\" transform=\"scale(.015625)\" d=\"m794 531h1031v3560l-1122-225v575l1116 225h631v-4135h1031v-531h-2687v531z\"/></defs><use xlink:href=\"#DejaVuSans-31\"/><use x=\"63.623047\" xlink:href=\"#DejaVuSans-30\"/><use x=\"127.246094\" xlink:href=\"#DejaVuSans-30\"/></g><use x=\"220.701581\" y=\"273.312\" fill=\"#343a3f\" stroke=\"#343a3f\" stroke-width=\".8\" xlink:href=\"#m552f0d5123\"/><g transform=\"translate(211.16 287.91) scale(.1 -.1)\" fill=\"#343a3f\"><use xlink:href=\"#DejaVuSans-31\"/><use x=\"63.623047\" xlink:href=\"#DejaVuSans-35\"/><use x=\"127.246094\" xlink:href=\"#DejaVuSans-30\"/></g><use x=\"275.357228\" y=\"273.312\" fill=\"#343a3f\" stroke=\"#343a3f\" stroke-width=\".8\" xlink:href=\"#m552f0d5123\"/><g transform=\"translate(265.81 287.91) scale(.1 -.1)\" fill=\"#343a3f\"><defs><path id=\"DejaVuSans-32\" transform=\"scale(.015625)\" d=\"m1228 531h2203v-531h-2962v531q359 372 979 998 621 627 780 809 303 340 423 576 121 236 121 464 0 372-261 606-261 235-680 235-297 0-627-103-329-103-704-313v638q381 153 712 231 332 78 607 78 725 0 1156-363 431-362 431-968 0-288-108-546-107-257-392-607-78-91-497-524-418-433-1181-1211z\"/></defs><use xlink:href=\"#DejaVuSans-32\"/><use x=\"63.623047\" xlink:href=\"#DejaVuSans-30\"/><use x=\"127.246094\" xlink:href=\"#DejaVuSans-30\"/></g><use x=\"330.012875\" y=\"273.312\" fill=\"#343a3f\" stroke=\"#343a3f\" stroke-width=\".8\" xlink:href=\"#m552f0d5123\"/><g transform=\"translate(320.47 287.91) scale(.1 -.1)\" fill=\"#343a3f\"><use xlink:href=\"#DejaVuSans-32\"/><use x=\"63.623047\" xlink:href=\"#DejaVuSans-35\"/><use x=\"127.246094\" xlink:href=\"#DejaVuSans-30\"/></g><use x=\"384.668523\" y=\"273.312\" fill=\"#343a3f\" stroke=\"#343a3f\" stroke-width=\".8\" xlink:href=\"#m552f0d5123\"/><g transform=\"translate(375.12 287.91) scale(.1 -.1)\" fill=\"#343a3f\"><defs><path id=\"DejaVuSans-33\" transform=\"scale(.015625)\" d=\"m2597 2516q453-97 707-404 255-306 255-756 0-690-475-1069-475-378-1350-378-293 0-604 58t-642 174v609q262-153 574-231 313-78 654-78 593 0 904 234t311 681q0 413-289 645-289 233-804 233h-544v519h569q465 0 712 186t247 536q0 359-255 551-254 193-729 193-260 0-557-57-297-56-653-174v562q360 100 674 150t592 50q719 0 1137-327 419-326 419-882 0-388-222-655t-631-370z\"/></defs><use xlink:href=\"#DejaVuSans-33\"/><use x=\"63.623047\" xlink:href=\"#DejaVuSans-30\"/><use x=\"127.246094\" xlink:href=\"#DejaVuSans-30\"/></g><g transform=\"translate(208.35 301.59) scale(.1 -.1)\" fill=\"#343a3f\"><defs><path id=\"DejaVuSans-53\" transform=\"scale(.015625)\" d=\"m3425 4513v-616q-359 172-678 256-319 85-616 85-515 0-795-200t-280-569q0-310 186-468 186-157 705-254l381-78q706-135 1042-474t336-907q0-679-455-1029-454-350-1332-350-331 0-705 75-373 75-773 222v650q384-215 753-325 369-109 725-109 540 0 834 212 294 213 294 607 0 343-211 537t-692 291l-385 75q-706 140-1022 440-315 300-315 835 0 619 436 975t1201 356q329 0 669-60 341-59 697-177z\"/><path id=\"DejaVuSans-74\" transform=\"scale(.015625)\" d=\"m1172 4494v-994h1184v-447h-1184v-1900q0-428 117-550t477-122h590v-481h-590q-666 0-919 248-253 249-253 905v1900h-422v447h422v994h578z\"/><path id=\"DejaVuSans-65\" transform=\"scale(.015625)\" d=\"m3597 1894v-281h-2644q38-594 358-905t892-311q331 0 642 81t618 244v-544q-310-131-635-200t-659-69q-838 0-1327 487-489 488-489 1320 0 859 464 1363 464 505 1252 505 706 0 1117-455 411-454 411-1235zm-575 169q-6 471-264 752-258 282-683 282-481 0-770-272t-333-766l2050 4z\"/><path id=\"DejaVuSans-70\" transform=\"scale(.015625)\" d=\"m1159 525v-1856h-578v4831h578v-531q182 312 458 463 277 152 661 152 638 0 1036-506 399-506 399-1331t-399-1332q-398-506-1036-506-384 0-661 152-276 152-458 464zm1957 1222q0 634-261 995t-717 361q-457 0-718-361t-261-995 261-995 718-361q456 0 717 361t261 995z\"/><path id=\"DejaVuSans-73\" transform=\"scale(.015625)\" d=\"m2834 3397v-544q-243 125-506 187-262 63-544 63-428 0-642-131t-214-394q0-200 153-314t616-217l197-44q612-131 870-370t258-667q0-488-386-773-386-284-1061-284-281 0-586 55t-642 164v594q319-166 628-249 309-82 613-82 406 0 624 139 219 139 219 392 0 234-158 359-157 125-692 241l-200 47q-534 112-772 345-237 233-237 639 0 494 350 762 350 269 994 269 318 0 599-47 282-46 519-140z\"/></defs><use xlink:href=\"#DejaVuSans-53\"/><use x=\"63.476562\" xlink:href=\"#DejaVuSans-74\"/><use x=\"102.685547\" xlink:href=\"#DejaVuSans-65\"/><use x=\"164.208984\" xlink:href=\"#DejaVuSans-70\"/><use x=\"227.685547\" xlink:href=\"#DejaVuSans-73\"/></g><defs><path id=\"m80bea66f5b\" d=\"m0 0h-3.5\" stroke=\"#343a3f\" stroke-width=\".8\"/></defs><use x=\"43.78125\" y=\"255.295502\" fill=\"#343a3f\" stroke=\"#343a3f\" stroke-width=\".8\" xlink:href=\"#m80bea66f5b\"/><g transform=\"translate(20.878 259.09) scale(.1 -.1)\" fill=\"#343a3f\"><defs><path id=\"DejaVuSans-2e\" transform=\"scale(.015625)\" d=\"m684 794h660v-794h-660v794z\"/><path id=\"DejaVuSans-34\" transform=\"scale(.015625)\" d=\"m2419 4116-1594-2491h1594v2491zm-166 550h794v-3041h666v-525h-666v-1100h-628v1100h-2106v609l1940 2957z\"/></defs><use xlink:href=\"#DejaVuSans-30\"/><use x=\"63.623047\" xlink:href=\"#DejaVuSans-2e\"/><use x=\"95.410156\" xlink:href=\"#DejaVuSans-34\"/></g><use x=\"43.78125\" y=\"205.063467\" fill=\"#343a3f\" stroke=\"#343a3f\" stroke-width=\".8\" xlink:href=\"#m80bea66f5b\"/><g transform=\"translate(20.878 208.86) scale(.1 -.1)\" fill=\"#343a3f\"><use xlink:href=\"#DejaVuSans-30\"/><use x=\"63.623047\" xlink:href=\"#DejaVuSans-2e\"/><use x=\"95.410156\" xlink:href=\"#DejaVuSans-35\"/></g><use x=\"43.78125\" y=\"154.831432\" fill=\"#343a3f\" stroke=\"#343a3f\" stroke-width=\".8\" xlink:href=\"#m80bea66f5b\"/><g transform=\"translate(20.878 158.63) scale(.1 -.1)\" fill=\"#343a3f\"><defs><path id=\"DejaVuSans-36\" transform=\"scale(.015625)\" d=\"m2113 2584q-425 0-674-291-248-290-248-796 0-503 248-796 249-292 674-292t673 292q248 293 248 796 0 506-248 796-248 291-673 291zm1253 1979v-575q-238 112-480 171-242 60-480 60-625 0-955-422-329-422-376-1275 184 272 462 417 279 145 613 145 703 0 1111-427 408-426 408-1160 0-719-425-1154-425-434-1131-434-810 0-1238 620-428 621-428 1799 0 1106 525 1764t1409 658q238 0 480-47t505-140z\"/></defs><use xlink:href=\"#DejaVuSans-30\"/><use x=\"63.623047\" xlink:href=\"#DejaVuSans-2e\"/><use x=\"95.410156\" xlink:href=\"#DejaVuSans-36\"/></g><use x=\"43.78125\" y=\"104.599397\" fill=\"#343a3f\" stroke=\"#343a3f\" stroke-width=\".8\" xlink:href=\"#m80bea66f5b\"/><g transform=\"translate(20.878 108.4) scale(.1 -.1)\" fill=\"#343a3f\"><defs><path id=\"DejaVuSans-37\" transform=\"scale(.015625)\" d=\"m525 4666h3e3v-269l-1694-4397h-659l1594 4134h-2241v532z\"/></defs><use xlink:href=\"#DejaVuSans-30\"/><use x=\"63.623047\" xlink:href=\"#DejaVuSans-2e\"/><use x=\"95.410156\" xlink:href=\"#DejaVuSans-37\"/></g><use x=\"43.78125\" y=\"54.367362\" fill=\"#343a3f\" stroke=\"#343a3f\" stroke-width=\".8\" xlink:href=\"#m80bea66f5b\"/><g transform=\"translate(20.878 58.167) scale(.1 -.1)\" fill=\"#343a3f\"><defs><path id=\"DejaVuSans-38\" transform=\"scale(.015625)\" d=\"m2034 2216q-450 0-708-241-257-241-257-662 0-422 257-663 258-241 708-241t709 242q260 243 260 662 0 421-258 662-257 241-711 241zm-631 268q-406 100-633 378-226 279-226 679 0 559 398 884 399 325 1092 325 697 0 1094-325t397-884q0-400-227-679-226-278-629-378 456-106 710-416 255-309 255-755 0-679-414-1042-414-362-1186-362-771 0-1186 362-414 363-414 1042 0 446 256 755 257 310 713 416zm-231 997q0-362 226-565 227-203 636-203 407 0 636 203 230 203 230 565 0 363-230 566-229 203-636 203-409 0-636-203-226-203-226-566z\"/></defs><use xlink:href=\"#DejaVuSans-30\"/><use x=\"63.623047\" xlink:href=\"#DejaVuSans-2e\"/><use x=\"95.410156\" xlink:href=\"#DejaVuSans-38\"/></g><g transform=\"translate(14.798 151.37) rotate(-90) scale(.1 -.1)\" fill=\"#343a3f\"><defs><path id=\"DejaVuSans-43\" transform=\"scale(.015625)\" d=\"m4122 4306v-665q-319 297-680 443-361 147-767 147-800 0-1225-489t-425-1414q0-922 425-1411t1225-489q406 0 767 147t680 444v-660q-331-225-702-338-370-112-782-112-1060 0-1670 648-609 649-609 1771 0 1125 609 1773 610 649 1670 649 418 0 788-111 371-111 696-333z\"/><path id=\"DejaVuSans-6f\" transform=\"scale(.015625)\" d=\"m1959 3097q-462 0-731-361t-269-989 267-989q268-361 733-361 460 0 728 362 269 363 269 988 0 622-269 986-268 364-728 364zm0 487q750 0 1178-488 429-487 429-1349 0-859-429-1349-428-489-1178-489-753 0-1180 489-426 490-426 1349 0 862 426 1349 427 488 1180 488z\"/></defs><use xlink:href=\"#DejaVuSans-43\"/><use x=\"69.824219\" xlink:href=\"#DejaVuSans-6f\"/><use x=\"131.005859\" xlink:href=\"#DejaVuSans-73\"/><use x=\"183.105469\" xlink:href=\"#DejaVuSans-74\"/></g><path d=\"m60.014 19.296 3.2793 41.861 3.2793-7.267 3.2793 85.468 3.2793 4.5631 3.2793 0.9976 3.2793-3.4357 3.2793 28.549 3.2793-0.40345 3.2793 9.0867 3.2793 13.727 3.2793 2.4853 3.2793 1.0513 3.2793 24.247 3.2793-0.52654 3.2793-1.7218 3.2793 9.257 3.2793 0.61006 3.2793-0.12806 3.2793 1.5921 3.2793 8.6391 3.2793 5.0341 3.2793 8.8384 3.2793-4.1998 3.2793 1.784 3.2793 1.8189 3.2793 0.6346 3.2793-0.31563 3.2793-1.3077 3.2793 3.1325 3.2793 0.44319 3.2793-2.6536 3.2793 0.58144 3.2793 2.9257 3.2793-7.2343 3.2793 3.5992 3.2793 3.3738 3.2793-0.060784 3.2793-1.1439 3.2793 3.9293 3.2793-4.101 3.2793 0.24386 3.2793 1.7118 3.2793-2.2224 3.2793-0.53773 3.2793 2.6055 3.2793-1.8706 3.2793 1.4764 3.2793 0.9217 3.2793-0.040943 3.2793 0.14983 3.2793-1.1925 3.2793 0.66697 3.2793 2.2083 3.2793-6.3017 3.2793 2.5466 3.2793-4.4018 3.2793 10.226 3.2793-4.4647 3.2793-0.26996 3.2793 4.7681 3.2793-3.6586 3.2793 0.74592 3.2793 0.93231 3.2793-1.7597 3.2793 3.9489 3.2793-5.3021 3.2793 4.2853 3.2793-4.424 3.2793-0.58526 3.2793 0.082308 3.2793 0.94126 3.2793 6.7602 3.2793-0.42674 3.2793-12.313 3.2793 8.775 3.2793-1.5449 3.2793-2.2465 3.2793 2.7586 3.2793 2.8996 3.2793-2.6378 3.2793-0.66365 3.2793 0.83433 3.2793 0.20425 3.2793-1.5622 3.2793 4.3411 3.2793-4.4974 3.2793-5.526 3.2793 10.053 3.2793-3.8542 3.2793-0.6965 3.2793 1.7944 3.2793-3.441 3.2793 3.0261 3.2793-2.7851 3.2793-0.52486 3.2793 3.5002 3.2793 2.4212 3.2793 1.5223 3.2793-6.5557\" clip-path=\"url(#p442b57c6fa)\" fill=\"none\" stroke=\"#1192e8\" stroke-linecap=\"square\"/><path d=\"m43.781 273.31v-266.11\" fill=\"none\" stroke=\"#343a3f\" stroke-linecap=\"square\" stroke-width=\".8\"/><path d=\"m43.781 273.31h357.12\" fill=\"none\" stroke=\"#343a3f\" stroke-linecap=\"square\" stroke-width=\".8\"/><defs><clipPath id=\"p442b57c6fa\"><rect x=\"43.781\" y=\"7.2\" width=\"357.12\" height=\"266.11\"/></clipPath></defs></svg>"
      ],
      "text/plain": [
       "<Figure size 640x480 with 1 Axes>"
      ]
     },
     "metadata": {},
     "output_type": "display_data"
    }
   ],
   "source": [
    "fig = plt.figure()\n",
    "plt.plot(log.evaluations, log.costs)\n",
    "plt.xlabel('Steps')\n",
    "plt.ylabel('Cost')\n",
    "plt.show()"
   ]
  },
  {
   "attachments": {},
   "cell_type": "markdown",
   "metadata": {},
   "source": [
    "Third, we test the trained classifier on the test data."
   ]
  },
  {
   "cell_type": "code",
   "execution_count": 14,
   "metadata": {},
   "outputs": [
    {
     "data": {
      "text/plain": [
       "0.9"
      ]
     },
     "execution_count": 14,
     "metadata": {},
     "output_type": "execute_result"
    }
   ],
   "source": [
    "# score == accuracy\n",
    "vqc.score(TEST_DATA, test_labels_oh)"
   ]
  },
  {
   "cell_type": "code",
   "execution_count": 15,
   "metadata": {},
   "outputs": [
    {
     "data": {
      "image/svg+xml": [
       "<?xml version=\"1.0\" encoding=\"UTF-8\"?><!DOCTYPE svg  PUBLIC '-//W3C//DTD SVG 1.1//EN'  'http://www.w3.org/Graphics/SVG/1.1/DTD/svg11.dtd'><svg width=\"673.79pt\" height=\"392.51pt\" version=\"1.1\" viewBox=\"0 0 673.79 392.51\" xmlns=\"http://www.w3.org/2000/svg\" xmlns:xlink=\"http://www.w3.org/1999/xlink\"><defs><style type=\"text/css\">*{stroke-linejoin: round; stroke-linecap: butt}</style></defs><path d=\"m0 392.51h673.79v-392.51h-673.79z\" fill=\"#ffffff\"/><path d=\"m34.241 354.96h502.2v-332.64h-502.2z\" fill=\"#ffffff\"/><defs><path id=\"m9bbf895ca6\" d=\"m0 5c1.326 0 2.5979-0.52683 3.5355-1.4645 0.93763-0.93764 1.4645-2.2095 1.4645-3.5355s-0.52683-2.5979-1.4645-3.5355c-0.93764-0.93763-2.2095-1.4645-3.5355-1.4645s-2.5979 0.52683-3.5355 1.4645c-0.93763 0.93764-1.4645 2.2095-1.4645 3.5355s0.52683 2.5979 1.4645 3.5355c0.93764 0.93763 2.2095 1.4645 3.5355 1.4645z\" stroke=\"#1192e8\"/></defs><g clip-path=\"url(#p22521f2104)\"><use x=\"384.489385\" y=\"142.352411\" fill=\"#1192e8\" stroke=\"#1192e8\" xlink:href=\"#m9bbf895ca6\"/></g><g clip-path=\"url(#p22521f2104)\"><use x=\"176.968724\" y=\"120.752411\" fill=\"#1192e8\" stroke=\"#1192e8\" xlink:href=\"#m9bbf895ca6\"/></g><g clip-path=\"url(#p22521f2104)\"><use x=\"140.076162\" y=\"296.638125\" fill=\"#1192e8\" stroke=\"#1192e8\" xlink:href=\"#m9bbf895ca6\"/></g><g clip-path=\"url(#p22521f2104)\"><use x=\"449.051369\" y=\"278.123839\" fill=\"#1192e8\" stroke=\"#1192e8\" xlink:href=\"#m9bbf895ca6\"/></g><g clip-path=\"url(#p22521f2104)\"><use x=\"153.910873\" y=\"154.695268\" fill=\"#1192e8\" stroke=\"#1192e8\" xlink:href=\"#m9bbf895ca6\"/></g><g clip-path=\"url(#p22521f2104)\"><use x=\"476.72079\" y=\"170.123839\" fill=\"#1192e8\" stroke=\"#1192e8\" xlink:href=\"#m9bbf895ca6\"/></g><g clip-path=\"url(#p22521f2104)\"><use x=\"495.167071\" y=\"80.638125\" fill=\"#1192e8\" stroke=\"#1192e8\" xlink:href=\"#m9bbf895ca6\"/></g><g clip-path=\"url(#p22521f2104)\"><use x=\"241.530708\" y=\"339.838125\" fill=\"#1192e8\" stroke=\"#1192e8\" xlink:href=\"#m9bbf895ca6\"/></g><g clip-path=\"url(#p22521f2104)\"><use x=\"513.613352\" y=\"133.095268\" fill=\"#1192e8\" stroke=\"#1192e8\" xlink:href=\"#m9bbf895ca6\"/></g><g clip-path=\"url(#p22521f2104)\"><use x=\"269.200129\" y=\"99.152411\" fill=\"#1192e8\" stroke=\"#1192e8\" xlink:href=\"#m9bbf895ca6\"/></g><g clip-path=\"url(#p22521f2104)\"><use x=\"490.555501\" y=\"241.095268\" fill=\"#1192e8\" stroke=\"#1192e8\" xlink:href=\"#m9bbf895ca6\"/></g><g clip-path=\"url(#p22521f2104)\"><use x=\"301.481121\" y=\"225.666696\" fill=\"#1192e8\" stroke=\"#1192e8\" xlink:href=\"#m9bbf895ca6\"/></g><g clip-path=\"url(#p22521f2104)\"><use x=\"149.299303\" y=\"142.352411\" fill=\"#1192e8\" stroke=\"#1192e8\" xlink:href=\"#m9bbf895ca6\"/></g><g clip-path=\"url(#p22521f2104)\"><use x=\"273.811699\" y=\"96.066696\" fill=\"#1192e8\" stroke=\"#1192e8\" xlink:href=\"#m9bbf895ca6\"/></g><g clip-path=\"url(#p22521f2104)\"><use x=\"407.547237\" y=\"330.580982\" fill=\"#1192e8\" stroke=\"#1192e8\" xlink:href=\"#m9bbf895ca6\"/></g><g clip-path=\"url(#p22521f2104)\"><use x=\"269.200129\" y=\"238.009554\" fill=\"#1192e8\" stroke=\"#1192e8\" xlink:href=\"#m9bbf895ca6\"/></g><g clip-path=\"url(#p22521f2104)\"><use x=\"416.770377\" y=\"55.952411\" fill=\"#1192e8\" stroke=\"#1192e8\" xlink:href=\"#m9bbf895ca6\"/></g><g clip-path=\"url(#p22521f2104)\"><use x=\"259.976989\" y=\"238.009554\" fill=\"#1192e8\" stroke=\"#1192e8\" xlink:href=\"#m9bbf895ca6\"/></g><g clip-path=\"url(#p22521f2104)\"><use x=\"283.03484\" y=\"114.580982\" fill=\"#1192e8\" stroke=\"#1192e8\" xlink:href=\"#m9bbf895ca6\"/></g><g clip-path=\"url(#p22521f2104)\"><use x=\"190.803435\" y=\"37.438125\" fill=\"#1192e8\" stroke=\"#1192e8\" xlink:href=\"#m9bbf895ca6\"/></g><defs><path id=\"mbb5d3e461a\" d=\"m0 5c1.326 0 2.5979-0.52683 3.5355-1.4645 0.93763-0.93764 1.4645-2.2095 1.4645-3.5355s-0.52683-2.5979-1.4645-3.5355c-0.93764-0.93763-2.2095-1.4645-3.5355-1.4645s-2.5979 0.52683-3.5355 1.4645c-0.93763 0.93764-1.4645 2.2095-1.4645 3.5355s0.52683 2.5979 1.4645 3.5355c0.93764 0.93763 2.2095 1.4645 3.5355 1.4645z\" stroke=\"#6929c4\"/></defs><g clip-path=\"url(#p22521f2104)\"><use x=\"338.373683\" y=\"86.809554\" fill=\"#6929c4\" stroke=\"#6929c4\" xlink:href=\"#mbb5d3e461a\"/></g><g clip-path=\"url(#p22521f2104)\"><use x=\"61.679468\" y=\"271.952411\" fill=\"#6929c4\" stroke=\"#6929c4\" xlink:href=\"#mbb5d3e461a\"/></g><g clip-path=\"url(#p22521f2104)\"><use x=\"319.927402\" y=\"253.438125\" fill=\"#6929c4\" stroke=\"#6929c4\" xlink:href=\"#mbb5d3e461a\"/></g><g clip-path=\"url(#p22521f2104)\"><use x=\"333.762113\" y=\"40.523839\" fill=\"#6929c4\" stroke=\"#6929c4\" xlink:href=\"#mbb5d3e461a\"/></g><g clip-path=\"url(#p22521f2104)\"><use x=\"310.704261\" y=\"281.209554\" fill=\"#6929c4\" stroke=\"#6929c4\" xlink:href=\"#mbb5d3e461a\"/></g><g clip-path=\"url(#p22521f2104)\"><use x=\"227.695997\" y=\"200.980982\" fill=\"#6929c4\" stroke=\"#6929c4\" xlink:href=\"#mbb5d3e461a\"/></g><g clip-path=\"url(#p22521f2104)\"><use x=\"389.100956\" y=\"312.066696\" fill=\"#6929c4\" stroke=\"#6929c4\" xlink:href=\"#mbb5d3e461a\"/></g><g clip-path=\"url(#p22521f2104)\"><use x=\"319.927402\" y=\"333.666696\" fill=\"#6929c4\" stroke=\"#6929c4\" xlink:href=\"#mbb5d3e461a\"/></g><g clip-path=\"url(#p22521f2104)\"><use x=\"236.919137\" y=\"287.380982\" fill=\"#6929c4\" stroke=\"#6929c4\" xlink:href=\"#mbb5d3e461a\"/></g><g clip-path=\"url(#p22521f2104)\"><use x=\"75.514179\" y=\"117.666696\" fill=\"#6929c4\" stroke=\"#6929c4\" xlink:href=\"#mbb5d3e461a\"/></g><g clip-path=\"url(#p22521f2104)\"><use x=\"416.770377\" y=\"296.638125\" fill=\"#6929c4\" stroke=\"#6929c4\" xlink:href=\"#mbb5d3e461a\"/></g><g clip-path=\"url(#p22521f2104)\"><use x=\"246.142278\" y=\"200.980982\" fill=\"#6929c4\" stroke=\"#6929c4\" xlink:href=\"#mbb5d3e461a\"/></g><g clip-path=\"url(#p22521f2104)\"><use x=\"342.985253\" y=\"139.266696\" fill=\"#6929c4\" stroke=\"#6929c4\" xlink:href=\"#mbb5d3e461a\"/></g><g clip-path=\"url(#p22521f2104)\"><use x=\"186.191865\" y=\"83.723839\" fill=\"#6929c4\" stroke=\"#6929c4\" xlink:href=\"#mbb5d3e461a\"/></g><g clip-path=\"url(#p22521f2104)\"><use x=\"472.10922\" y=\"99.152411\" fill=\"#6929c4\" stroke=\"#6929c4\" xlink:href=\"#mbb5d3e461a\"/></g><g clip-path=\"url(#p22521f2104)\"><use x=\"366.043104\" y=\"200.980982\" fill=\"#6929c4\" stroke=\"#6929c4\" xlink:href=\"#mbb5d3e461a\"/></g><g clip-path=\"url(#p22521f2104)\"><use x=\"338.373683\" y=\"86.809554\" fill=\"#6929c4\" stroke=\"#6929c4\" xlink:href=\"#mbb5d3e461a\"/></g><g clip-path=\"url(#p22521f2104)\"><use x=\"163.134013\" y=\"210.238125\" fill=\"#6929c4\" stroke=\"#6929c4\" xlink:href=\"#mbb5d3e461a\"/></g><g clip-path=\"url(#p22521f2104)\"><use x=\"236.919137\" y=\"46.695268\" fill=\"#6929c4\" stroke=\"#6929c4\" xlink:href=\"#mbb5d3e461a\"/></g><g clip-path=\"url(#p22521f2104)\"><use x=\"246.142278\" y=\"191.723839\" fill=\"#6929c4\" stroke=\"#6929c4\" xlink:href=\"#mbb5d3e461a\"/></g><defs><path id=\"m66a66ec1a6\" d=\"m-5 5h10v-10h-10z\" stroke=\"#1192e8\"/></defs><g clip-path=\"url(#p22521f2104)\"><use x=\"370.654675\" y=\"241.095268\" fill=\"#1192e8\" stroke=\"#1192e8\" xlink:href=\"#m66a66ec1a6\"/></g><g clip-path=\"url(#p22521f2104)\"><use x=\"416.770377\" y=\"315.152411\" fill=\"#1192e8\" stroke=\"#1192e8\" xlink:href=\"#m66a66ec1a6\"/></g><g clip-path=\"url(#p22521f2104)\"><use x=\"366.043104\" y=\"92.980982\" fill=\"#1192e8\" stroke=\"#1192e8\" xlink:href=\"#m66a66ec1a6\"/></g><g clip-path=\"url(#p22521f2104)\"><use x=\"296.869551\" y=\"247.266696\" fill=\"#1192e8\" stroke=\"#1192e8\" xlink:href=\"#m66a66ec1a6\"/></g><g clip-path=\"url(#p22521f2104)\"><use x=\"232.307567\" y=\"327.495268\" fill=\"#1192e8\" stroke=\"#1192e8\" xlink:href=\"#m66a66ec1a6\"/></g><defs><path id=\"m33ac7988db\" d=\"m-5 5h10v-10h-10z\" stroke=\"#6929c4\"/></defs><g clip-path=\"url(#p22521f2104)\"><use x=\"504.390212\" y=\"262.695268\" fill=\"#6929c4\" stroke=\"#6929c4\" xlink:href=\"#m33ac7988db\"/></g><g clip-path=\"url(#p22521f2104)\"><use x=\"504.390212\" y=\"308.980982\" fill=\"#6929c4\" stroke=\"#6929c4\" xlink:href=\"#m33ac7988db\"/></g><g clip-path=\"url(#p22521f2104)\"><use x=\"213.861286\" y=\"176.295268\" fill=\"#6929c4\" stroke=\"#6929c4\" xlink:href=\"#m33ac7988db\"/></g><g clip-path=\"url(#p22521f2104)\"><use x=\"57.067898\" y=\"52.866696\" fill=\"#6929c4\" stroke=\"#6929c4\" xlink:href=\"#m33ac7988db\"/></g><g clip-path=\"url(#p22521f2104)\"><use x=\"407.547237\" y=\"130.009554\" fill=\"#1192e8\" stroke=\"#1192e8\" xlink:href=\"#m66a66ec1a6\"/></g><path d=\"m407.55 141.19c2.9651 0 5.8091-1.178 7.9057-3.2746 2.0966-2.0966 3.2746-4.9406 3.2746-7.9057 0-2.9651-1.178-5.8091-3.2746-7.9057-2.0966-2.0966-4.9406-3.2746-7.9057-3.2746-2.9651 0-5.8091 1.178-7.9057 3.2746-2.0966 2.0966-3.2746 4.9406-3.2746 7.9057 0 2.9651 1.178 5.8091 3.2746 7.9057 2.0966 2.0966 4.9406 3.2746 7.9057 3.2746z\" clip-path=\"url(#p22521f2104)\" fill=\"none\" stroke=\"#9f1853\" stroke-width=\"2.5\"/><defs><path id=\"mdaa411c4fc\" d=\"m0 0v3.5\" stroke=\"#343a3f\" stroke-width=\".8\"/></defs><use x=\"57.067898\" y=\"354.958125\" fill=\"#343a3f\" stroke=\"#343a3f\" stroke-width=\".8\" xlink:href=\"#mdaa411c4fc\"/><g transform=\"translate(53.887 369.56) scale(.1 -.1)\" fill=\"#343a3f\"><defs><path id=\"DejaVuSans-30\" transform=\"scale(.015625)\" d=\"m2034 4250q-487 0-733-480-245-479-245-1442 0-959 245-1439 246-480 733-480 491 0 736 480 246 480 246 1439 0 963-246 1442-245 480-736 480zm0 500q785 0 1199-621 414-620 414-1801 0-1178-414-1799-414-620-1199-620-784 0-1198 620-414 621-414 1799 0 1181 414 1801 414 621 1198 621z\"/></defs><use xlink:href=\"#DejaVuSans-30\"/></g><use x=\"130.463318\" y=\"354.958125\" fill=\"#343a3f\" stroke=\"#343a3f\" stroke-width=\".8\" xlink:href=\"#mdaa411c4fc\"/><g transform=\"translate(127.28 369.56) scale(.1 -.1)\" fill=\"#343a3f\"><defs><path id=\"DejaVuSans-31\" transform=\"scale(.015625)\" d=\"m794 531h1031v3560l-1122-225v575l1116 225h631v-4135h1031v-531h-2687v531z\"/></defs><use xlink:href=\"#DejaVuSans-31\"/></g><use x=\"203.858738\" y=\"354.958125\" fill=\"#343a3f\" stroke=\"#343a3f\" stroke-width=\".8\" xlink:href=\"#mdaa411c4fc\"/><g transform=\"translate(200.68 369.56) scale(.1 -.1)\" fill=\"#343a3f\"><defs><path id=\"DejaVuSans-32\" transform=\"scale(.015625)\" d=\"m1228 531h2203v-531h-2962v531q359 372 979 998 621 627 780 809 303 340 423 576 121 236 121 464 0 372-261 606-261 235-680 235-297 0-627-103-329-103-704-313v638q381 153 712 231 332 78 607 78 725 0 1156-363 431-362 431-968 0-288-108-546-107-257-392-607-78-91-497-524-418-433-1181-1211z\"/></defs><use xlink:href=\"#DejaVuSans-32\"/></g><use x=\"277.254158\" y=\"354.958125\" fill=\"#343a3f\" stroke=\"#343a3f\" stroke-width=\".8\" xlink:href=\"#mdaa411c4fc\"/><g transform=\"translate(274.07 369.56) scale(.1 -.1)\" fill=\"#343a3f\"><defs><path id=\"DejaVuSans-33\" transform=\"scale(.015625)\" d=\"m2597 2516q453-97 707-404 255-306 255-756 0-690-475-1069-475-378-1350-378-293 0-604 58t-642 174v609q262-153 574-231 313-78 654-78 593 0 904 234t311 681q0 413-289 645-289 233-804 233h-544v519h569q465 0 712 186t247 536q0 359-255 551-254 193-729 193-260 0-557-57-297-56-653-174v562q360 100 674 150t592 50q719 0 1137-327 419-326 419-882 0-388-222-655t-631-370z\"/></defs><use xlink:href=\"#DejaVuSans-33\"/></g><use x=\"350.649578\" y=\"354.958125\" fill=\"#343a3f\" stroke=\"#343a3f\" stroke-width=\".8\" xlink:href=\"#mdaa411c4fc\"/><g transform=\"translate(347.47 369.56) scale(.1 -.1)\" fill=\"#343a3f\"><defs><path id=\"DejaVuSans-34\" transform=\"scale(.015625)\" d=\"m2419 4116-1594-2491h1594v2491zm-166 550h794v-3041h666v-525h-666v-1100h-628v1100h-2106v609l1940 2957z\"/></defs><use xlink:href=\"#DejaVuSans-34\"/></g><use x=\"424.044998\" y=\"354.958125\" fill=\"#343a3f\" stroke=\"#343a3f\" stroke-width=\".8\" xlink:href=\"#mdaa411c4fc\"/><g transform=\"translate(420.86 369.56) scale(.1 -.1)\" fill=\"#343a3f\"><defs><path id=\"DejaVuSans-35\" transform=\"scale(.015625)\" d=\"m691 4666h2478v-532h-1900v-1143q137 47 274 70 138 23 276 23 781 0 1237-428 457-428 457-1159 0-753-469-1171-469-417-1322-417-294 0-599 50-304 50-629 150v635q281-153 581-228t634-75q541 0 856 284 316 284 316 772 0 487-316 771-315 285-856 285-253 0-505-56-251-56-513-175v2344z\"/></defs><use xlink:href=\"#DejaVuSans-35\"/></g><use x=\"497.440418\" y=\"354.958125\" fill=\"#343a3f\" stroke=\"#343a3f\" stroke-width=\".8\" xlink:href=\"#mdaa411c4fc\"/><g transform=\"translate(494.26 369.56) scale(.1 -.1)\" fill=\"#343a3f\"><defs><path id=\"DejaVuSans-36\" transform=\"scale(.015625)\" d=\"m2113 2584q-425 0-674-291-248-290-248-796 0-503 248-796 249-292 674-292t673 292q248 293 248 796 0 506-248 796-248 291-673 291zm1253 1979v-575q-238 112-480 171-242 60-480 60-625 0-955-422-329-422-376-1275 184 272 462 417 279 145 613 145 703 0 1111-427 408-426 408-1160 0-719-425-1154-425-434-1131-434-810 0-1238 620-428 621-428 1799 0 1106 525 1764t1409 658q238 0 480-47t505-140z\"/></defs><use xlink:href=\"#DejaVuSans-36\"/></g><g transform=\"translate(282.38 383.23) scale(.1 -.1)\" fill=\"#343a3f\"><defs><path id=\"DejaVuSans-78\" transform=\"scale(.015625)\" d=\"m3513 3500-1266-1703 1331-1797h-678l-1019 1375-1018-1375h-679l1360 1831-1244 1669h678l928-1247 928 1247h679z\"/></defs><use xlink:href=\"#DejaVuSans-78\"/></g><defs><path id=\"m2bdff11ed6\" d=\"m0 0h-3.5\" stroke=\"#343a3f\" stroke-width=\".8\"/></defs><use x=\"34.240625\" y=\"342.923839\" fill=\"#343a3f\" stroke=\"#343a3f\" stroke-width=\".8\" xlink:href=\"#m2bdff11ed6\"/><g transform=\"translate(20.878 346.72) scale(.1 -.1)\" fill=\"#343a3f\"><use xlink:href=\"#DejaVuSans-30\"/></g><use x=\"34.240625\" y=\"293.813171\" fill=\"#343a3f\" stroke=\"#343a3f\" stroke-width=\".8\" xlink:href=\"#m2bdff11ed6\"/><g transform=\"translate(20.878 297.61) scale(.1 -.1)\" fill=\"#343a3f\"><use xlink:href=\"#DejaVuSans-31\"/></g><use x=\"34.240625\" y=\"244.702503\" fill=\"#343a3f\" stroke=\"#343a3f\" stroke-width=\".8\" xlink:href=\"#m2bdff11ed6\"/><g transform=\"translate(20.878 248.5) scale(.1 -.1)\" fill=\"#343a3f\"><use xlink:href=\"#DejaVuSans-32\"/></g><use x=\"34.240625\" y=\"195.591835\" fill=\"#343a3f\" stroke=\"#343a3f\" stroke-width=\".8\" xlink:href=\"#m2bdff11ed6\"/><g transform=\"translate(20.878 199.39) scale(.1 -.1)\" fill=\"#343a3f\"><use xlink:href=\"#DejaVuSans-33\"/></g><use x=\"34.240625\" y=\"146.481167\" fill=\"#343a3f\" stroke=\"#343a3f\" stroke-width=\".8\" xlink:href=\"#m2bdff11ed6\"/><g transform=\"translate(20.878 150.28) scale(.1 -.1)\" fill=\"#343a3f\"><use xlink:href=\"#DejaVuSans-34\"/></g><use x=\"34.240625\" y=\"97.370499\" fill=\"#343a3f\" stroke=\"#343a3f\" stroke-width=\".8\" xlink:href=\"#m2bdff11ed6\"/><g transform=\"translate(20.878 101.17) scale(.1 -.1)\" fill=\"#343a3f\"><use xlink:href=\"#DejaVuSans-35\"/></g><use x=\"34.240625\" y=\"48.25983\" fill=\"#343a3f\" stroke=\"#343a3f\" stroke-width=\".8\" xlink:href=\"#m2bdff11ed6\"/><g transform=\"translate(20.878 52.059) scale(.1 -.1)\" fill=\"#343a3f\"><use xlink:href=\"#DejaVuSans-36\"/></g><g transform=\"translate(14.798 191.6) rotate(-90) scale(.1 -.1)\" fill=\"#343a3f\"><defs><path id=\"DejaVuSans-79\" transform=\"scale(.015625)\" d=\"m2059-325q-243-625-475-815-231-191-618-191h-460v481h338q237 0 368 113 132 112 291 531l103 262-1415 3444h609l1094-2737 1094 2737h609l-1538-3825z\"/></defs><use xlink:href=\"#DejaVuSans-79\"/></g><path d=\"m34.241 354.96v-332.64\" fill=\"none\" stroke=\"#343a3f\" stroke-linecap=\"square\" stroke-width=\".8\"/><path d=\"m34.241 354.96h502.2\" fill=\"none\" stroke=\"#343a3f\" stroke-linecap=\"square\" stroke-width=\".8\"/><g transform=\"translate(225.13 16.318) scale(.12 -.12)\" fill=\"#343a3f\"><defs><path id=\"DejaVuSans-54\" transform=\"scale(.015625)\" d=\"m-19 4666h3947v-532h-1656v-4134h-634v4134h-1657v532z\"/><path id=\"DejaVuSans-72\" transform=\"scale(.015625)\" d=\"m2631 2963q-97 56-211 82-114 27-251 27-488 0-749-317t-261-911v-1844h-578v3500h578v-544q182 319 472 473 291 155 707 155 59 0 131-8 72-7 159-23l3-590z\"/><path id=\"DejaVuSans-61\" transform=\"scale(.015625)\" d=\"m2194 1759q-697 0-966-159t-269-544q0-306 202-486 202-179 548-179 479 0 768 339t289 901v128h-572zm1147 238v-1997h-575v531q-197-318-491-470t-719-152q-537 0-855 302-317 302-317 808 0 590 395 890 396 300 1180 300h807v57q0 397-261 614t-733 217q-300 0-585-72-284-72-546-216v532q315 122 612 182 297 61 578 61 760 0 1135-394 375-393 375-1193z\"/><path id=\"DejaVuSans-69\" transform=\"scale(.015625)\" d=\"m603 3500h575v-3500h-575v3500zm0 1363h575v-729h-575v729z\"/><path id=\"DejaVuSans-6e\" transform=\"scale(.015625)\" d=\"m3513 2113v-2113h-575v2094q0 497-194 743-194 247-581 247-466 0-735-297-269-296-269-809v-1978h-578v3500h578v-544q207 316 486 472 280 156 646 156 603 0 912-373 310-373 310-1098z\"/><path id=\"DejaVuSans-67\" transform=\"scale(.015625)\" d=\"m2906 1791q0 625-258 968-257 344-723 344-462 0-720-344-258-343-258-968 0-622 258-966t720-344q466 0 723 344 258 344 258 966zm575-1357q0-893-397-1329-396-436-1215-436-303 0-572 45t-522 139v559q253-137 500-202 247-66 503-66 566 0 847 295t281 892v285q-178-310-456-463t-666-153q-643 0-1037 490-394 491-394 1301 0 812 394 1302 394 491 1037 491 388 0 666-153t456-462v531h575v-3066z\"/><path id=\"DejaVuSans-26\" transform=\"scale(.015625)\" d=\"m1556 2509q-284-253-417-505-133-251-133-526 0-456 331-759 332-303 832-303 297 0 556 98 259 99 488 299l-1657 1696zm441 350 1587-1625q185 279 288 596t122 673h581q-37-412-200-816-162-403-453-796l872-891h-788l-447 459q-325-278-681-414t-765-136q-754 0-1232 430t-478 1102q0 400 209 751 210 352 629 661-150 197-229 392-78 196-78 383 0 506 347 814t922 308q260 0 517-56 258-56 524-169v-569q-272 147-519 223-247 77-459 77-328 0-533-174-205-173-205-448 0-159 92-320 93-161 377-455z\"/><path id=\"DejaVuSans-65\" transform=\"scale(.015625)\" d=\"m3597 1894v-281h-2644q38-594 358-905t892-311q331 0 642 81t618 244v-544q-310-131-635-200t-659-69q-838 0-1327 487-489 488-489 1320 0 859 464 1363 464 505 1252 505 706 0 1117-455 411-454 411-1235zm-575 169q-6 471-264 752-258 282-683 282-481 0-770-272t-333-766l2050 4z\"/><path id=\"DejaVuSans-73\" transform=\"scale(.015625)\" d=\"m2834 3397v-544q-243 125-506 187-262 63-544 63-428 0-642-131t-214-394q0-200 153-314t616-217l197-44q612-131 870-370t258-667q0-488-386-773-386-284-1061-284-281 0-586 55t-642 164v594q319-166 628-249 309-82 613-82 406 0 624 139 219 139 219 392 0 234-158 359-157 125-692 241l-200 47q-534 112-772 345-237 233-237 639 0 494 350 762 350 269 994 269 318 0 599-47 282-46 519-140z\"/><path id=\"DejaVuSans-74\" transform=\"scale(.015625)\" d=\"m1172 4494v-994h1184v-447h-1184v-1900q0-428 117-550t477-122h590v-481h-590q-666 0-919 248-253 249-253 905v1900h-422v447h422v994h578z\"/><path id=\"DejaVuSans-44\" transform=\"scale(.015625)\" d=\"m1259 4147v-3628h763q966 0 1414 437 448 438 448 1382 0 937-448 1373t-1414 436h-763zm-631 519h1297q1356 0 1990-564 635-564 635-1764 0-1207-638-1773-637-565-1987-565h-1297v4666z\"/></defs><use xlink:href=\"#DejaVuSans-54\"/><use x=\"46.333984\" xlink:href=\"#DejaVuSans-72\"/><use x=\"87.447266\" xlink:href=\"#DejaVuSans-61\"/><use x=\"148.726562\" xlink:href=\"#DejaVuSans-69\"/><use x=\"176.509766\" xlink:href=\"#DejaVuSans-6e\"/><use x=\"239.888672\" xlink:href=\"#DejaVuSans-69\"/><use x=\"267.671875\" xlink:href=\"#DejaVuSans-6e\"/><use x=\"331.050781\" xlink:href=\"#DejaVuSans-67\"/><use x=\"394.527344\" xlink:href=\"#DejaVuSans-20\"/><use x=\"426.314453\" xlink:href=\"#DejaVuSans-26\"/><use x=\"504.292969\" xlink:href=\"#DejaVuSans-20\"/><use x=\"536.080078\" xlink:href=\"#DejaVuSans-54\"/><use x=\"580.164062\" xlink:href=\"#DejaVuSans-65\"/><use x=\"641.6875\" xlink:href=\"#DejaVuSans-73\"/><use x=\"693.787109\" xlink:href=\"#DejaVuSans-74\"/><use x=\"732.996094\" xlink:href=\"#DejaVuSans-20\"/><use x=\"764.783203\" xlink:href=\"#DejaVuSans-44\"/><use x=\"841.785156\" xlink:href=\"#DejaVuSans-61\"/><use x=\"903.064453\" xlink:href=\"#DejaVuSans-74\"/><use x=\"942.273438\" xlink:href=\"#DejaVuSans-61\"/></g><path d=\"m541.44 103.71h125.15v-76.391h-125.15z\" fill=\"#ffffff\" opacity=\".8\" stroke=\"#cccccc\"/><path d=\"m545.44 35.417h10 10\" fill=\"none\" stroke=\"#ffffff\" stroke-linecap=\"square\"/><defs><path id=\"m7a8d2eabec\" d=\"m0 5c1.326 0 2.5979-0.52683 3.5355-1.4645 0.93763-0.93764 1.4645-2.2095 1.4645-3.5355s-0.52683-2.5979-1.4645-3.5355c-0.93764-0.93763-2.2095-1.4645-3.5355-1.4645s-2.5979 0.52683-3.5355 1.4645c-0.93763 0.93764-1.4645 2.2095-1.4645 3.5355s0.52683 2.5979 1.4645 3.5355c0.93764 0.93763 2.2095 1.4645 3.5355 1.4645z\" stroke=\"#ffffff\"/></defs><use x=\"555.440625\" y=\"35.416562\" fill=\"#6929c4\" stroke=\"#ffffff\" xlink:href=\"#m7a8d2eabec\"/><g transform=\"translate(573.44 38.917) scale(.1 -.1)\" fill=\"#343a3f\"><defs><path id=\"DejaVuSans-41\" transform=\"scale(.015625)\" d=\"m2188 4044-857-2322h1716l-859 2322zm-357 622h716l1778-4666h-656l-425 1197h-2103l-425-1197h-666l1781 4666z\"/></defs><use xlink:href=\"#DejaVuSans-41\"/></g><path d=\"m545.44 50.095h10 10\" fill=\"none\" stroke=\"#ffffff\" stroke-linecap=\"square\"/><defs><path id=\"mc48c89308d\" d=\"m0 5c1.326 0 2.5979-0.52683 3.5355-1.4645 0.93763-0.93764 1.4645-2.2095 1.4645-3.5355s-0.52683-2.5979-1.4645-3.5355c-0.93764-0.93763-2.2095-1.4645-3.5355-1.4645s-2.5979 0.52683-3.5355 1.4645c-0.93763 0.93764-1.4645 2.2095-1.4645 3.5355s0.52683 2.5979 1.4645 3.5355c0.93764 0.93763 2.2095 1.4645 3.5355 1.4645z\" stroke=\"#ffffff\"/></defs><use x=\"555.440625\" y=\"50.094688\" fill=\"#1192e8\" stroke=\"#ffffff\" xlink:href=\"#mc48c89308d\"/><g transform=\"translate(573.44 53.595) scale(.1 -.1)\" fill=\"#343a3f\"><defs><path id=\"DejaVuSans-42\" transform=\"scale(.015625)\" d=\"m1259 2228v-1709h1013q509 0 754 211 246 211 246 645 0 438-246 645-245 208-754 208h-1013zm0 1919v-1406h935q462 0 688 173 227 174 227 530 0 353-227 528-226 175-688 175h-935zm-631 519h1613q722 0 1112-300 391-300 391-853 0-429-200-682t-588-315q466-100 724-418 258-317 258-792 0-625-425-966-425-340-1210-340h-1675v4666z\"/></defs><use xlink:href=\"#DejaVuSans-42\"/></g><path d=\"m545.44 64.773h10 10\" fill=\"none\" stroke=\"#ffffff\" stroke-linecap=\"square\"/><defs><path id=\"m5099d65a7c\" d=\"m-5 5h10v-10h-10z\" stroke=\"#ffffff\"/></defs><use x=\"555.440625\" y=\"64.772812\" fill=\"#6929c4\" stroke=\"#ffffff\" xlink:href=\"#m5099d65a7c\"/><g transform=\"translate(573.44 68.273) scale(.1 -.1)\" fill=\"#343a3f\"><defs><path id=\"DejaVuSans-70\" transform=\"scale(.015625)\" d=\"m1159 525v-1856h-578v4831h578v-531q182 312 458 463 277 152 661 152 638 0 1036-506 399-506 399-1331t-399-1332q-398-506-1036-506-384 0-661 152-276 152-458 464zm1957 1222q0 634-261 995t-717 361q-457 0-718-361t-261-995 261-995 718-361q456 0 717 361t261 995z\"/><path id=\"DejaVuSans-64\" transform=\"scale(.015625)\" d=\"m2906 2969v1894h575v-4863h-575v525q-181-312-458-464-276-152-664-152-634 0-1033 506-398 507-398 1332t398 1331q399 506 1033 506 388 0 664-152 277-151 458-463zm-1959-1222q0-634 261-995t717-361 718 361q263 361 263 995t-263 995q-262 361-718 361t-717-361-261-995z\"/><path id=\"DejaVuSans-63\" transform=\"scale(.015625)\" d=\"m3122 3366v-538q-244 135-489 202t-495 67q-560 0-870-355-309-354-309-995t309-996q310-354 870-354 250 0 495 67t489 202v-532q-241-112-499-168-257-57-548-57-791 0-1257 497-465 497-465 1341 0 856 470 1346 471 491 1290 491 265 0 518-55 253-54 491-163z\"/></defs><use xlink:href=\"#DejaVuSans-70\"/><use x=\"63.476562\" xlink:href=\"#DejaVuSans-72\"/><use x=\"102.339844\" xlink:href=\"#DejaVuSans-65\"/><use x=\"163.863281\" xlink:href=\"#DejaVuSans-64\"/><use x=\"227.339844\" xlink:href=\"#DejaVuSans-69\"/><use x=\"255.123047\" xlink:href=\"#DejaVuSans-63\"/><use x=\"310.103516\" xlink:href=\"#DejaVuSans-74\"/><use x=\"349.3125\" xlink:href=\"#DejaVuSans-20\"/><use x=\"381.099609\" xlink:href=\"#DejaVuSans-41\"/></g><path d=\"m545.44 79.451h10 10\" fill=\"none\" stroke=\"#ffffff\" stroke-linecap=\"square\"/><defs><path id=\"m286dffed46\" d=\"m-5 5h10v-10h-10z\" stroke=\"#ffffff\"/></defs><use x=\"555.440625\" y=\"79.450938\" fill=\"#1192e8\" stroke=\"#ffffff\" xlink:href=\"#m286dffed46\"/><g transform=\"translate(573.44 82.951) scale(.1 -.1)\" fill=\"#343a3f\"><use xlink:href=\"#DejaVuSans-70\"/><use x=\"63.476562\" xlink:href=\"#DejaVuSans-72\"/><use x=\"102.339844\" xlink:href=\"#DejaVuSans-65\"/><use x=\"163.863281\" xlink:href=\"#DejaVuSans-64\"/><use x=\"227.339844\" xlink:href=\"#DejaVuSans-69\"/><use x=\"255.123047\" xlink:href=\"#DejaVuSans-63\"/><use x=\"310.103516\" xlink:href=\"#DejaVuSans-74\"/><use x=\"349.3125\" xlink:href=\"#DejaVuSans-20\"/><use x=\"381.099609\" xlink:href=\"#DejaVuSans-42\"/></g><path d=\"m545.44 94.129h10 10\" fill=\"none\" stroke=\"#ffffff\" stroke-linecap=\"square\"/><defs><path id=\"m6ce5035ac7\" d=\"m0 7.5c1.989 0 3.8968-0.79025 5.3033-2.1967s2.1967-3.3143 2.1967-5.3033-0.79025-3.8968-2.1967-5.3033-3.3143-2.1967-5.3033-2.1967-3.8968 0.79025-5.3033 2.1967-2.1967 3.3143-2.1967 5.3033 0.79025 3.8968 2.1967 5.3033 3.3143 2.1967 5.3033 2.1967z\" stroke=\"#9f1853\" stroke-width=\"2\"/></defs><use x=\"555.440625\" y=\"94.129063\" fill-opacity=\"0\" stroke=\"#9f1853\" stroke-width=\"2\" xlink:href=\"#m6ce5035ac7\"/><g transform=\"translate(573.44 97.629) scale(.1 -.1)\" fill=\"#343a3f\"><defs><path id=\"DejaVuSans-77\" transform=\"scale(.015625)\" d=\"m269 3500h575l719-2731 715 2731h678l719-2731 716 2731h575l-916-3500h-678l-753 2869-756-2869h-679l-915 3500z\"/><path id=\"DejaVuSans-6f\" transform=\"scale(.015625)\" d=\"m1959 3097q-462 0-731-361t-269-989 267-989q268-361 733-361 460 0 728 362 269 363 269 988 0 622-269 986-268 364-728 364zm0 487q750 0 1178-488 429-487 429-1349 0-859-429-1349-428-489-1178-489-753 0-1180 489-426 490-426 1349 0 862 426 1349 427 488 1180 488z\"/><path id=\"DejaVuSans-6c\" transform=\"scale(.015625)\" d=\"m603 4863h575v-4863h-575v4863z\"/><path id=\"DejaVuSans-66\" transform=\"scale(.015625)\" d=\"m2375 4863v-479h-550q-309 0-430-125-120-125-120-450v-309h947v-447h-947v-3053h-578v3053h-550v447h550v244q0 584 272 851 272 268 862 268h544z\"/></defs><use xlink:href=\"#DejaVuSans-77\"/><use x=\"81.787109\" xlink:href=\"#DejaVuSans-72\"/><use x=\"120.650391\" xlink:href=\"#DejaVuSans-6f\"/><use x=\"181.832031\" xlink:href=\"#DejaVuSans-6e\"/><use x=\"245.210938\" xlink:href=\"#DejaVuSans-67\"/><use x=\"308.6875\" xlink:href=\"#DejaVuSans-6c\"/><use x=\"336.470703\" xlink:href=\"#DejaVuSans-79\"/><use x=\"395.650391\" xlink:href=\"#DejaVuSans-20\"/><use x=\"427.4375\" xlink:href=\"#DejaVuSans-63\"/><use x=\"482.417969\" xlink:href=\"#DejaVuSans-6c\"/><use x=\"510.201172\" xlink:href=\"#DejaVuSans-61\"/><use x=\"571.480469\" xlink:href=\"#DejaVuSans-73\"/><use x=\"623.580078\" xlink:href=\"#DejaVuSans-73\"/><use x=\"675.679688\" xlink:href=\"#DejaVuSans-69\"/><use x=\"703.462891\" xlink:href=\"#DejaVuSans-66\"/><use x=\"738.667969\" xlink:href=\"#DejaVuSans-69\"/><use x=\"766.451172\" xlink:href=\"#DejaVuSans-65\"/><use x=\"827.974609\" xlink:href=\"#DejaVuSans-64\"/></g><defs><clipPath id=\"p22521f2104\"><rect x=\"34.241\" y=\"22.318\" width=\"502.2\" height=\"332.64\"/></clipPath></defs></svg>"
      ],
      "text/plain": [
       "<Figure size 900x600 with 1 Axes>"
      ]
     },
     "metadata": {},
     "output_type": "display_data"
    }
   ],
   "source": [
    "from matplotlib.lines import Line2D\n",
    "plt.figure(figsize=(9, 6))\n",
    "\n",
    "for feature, label in zip(TRAIN_DATA, train_labels_oh):\n",
    "    COLOR = 'C1' if label[0] == 0 else 'C0'\n",
    "    plt.scatter(feature[0], feature[1], marker='o', s=100,\n",
    "                color=COLOR)\n",
    "\n",
    "for feature, label, pred in zip(TEST_DATA, test_labels_oh,\n",
    "                                vqc.predict(TEST_DATA)):\n",
    "    COLOR = 'C1' if pred[0] == 0 else 'C0'\n",
    "    plt.scatter(feature[0], feature[1], marker='s', s=100, color=COLOR)\n",
    "    if not np.array_equal(label,pred):  # mark wrongly classified\n",
    "        plt.scatter(feature[0], feature[1], marker='o', s=500,\n",
    "                    linewidths=2.5, facecolor='none', edgecolor='C3')\n",
    "\n",
    "legend_elements = [\n",
    "    Line2D([0], [0], marker='o', c='w', mfc='C1', label='A', ms=10),\n",
    "    Line2D([0], [0], marker='o', c='w', mfc='C0', label='B', ms=10),\n",
    "    Line2D([0], [0], marker='s', c='w', mfc='C1', label='predict A',\n",
    "           ms=10),\n",
    "    Line2D([0], [0], marker='s', c='w', mfc='C0', label='predict B',\n",
    "           ms=10),\n",
    "    Line2D([0], [0], marker='o', c='w', mfc='none', mec='C3',\n",
    "           label='wrongly classified', mew=2, ms=15)\n",
    "]\n",
    "\n",
    "plt.legend(handles=legend_elements, bbox_to_anchor=(1, 1),\n",
    "           loc='upper left')\n",
    "\n",
    "plt.title('Training & Test Data')\n",
    "plt.xlabel('x')\n",
    "plt.ylabel('y')\n",
    "plt.show()"
   ]
  },
  {
   "attachments": {},
   "cell_type": "markdown",
   "metadata": {},
   "source": [
    "We see that the performance of the trained classifier is pretty good on the test data. The training optimization probably found the global minimum.\n",
    "\n",
    "## Variational training\n",
    "\n",
    "As with all variational algorithms, finding the optimal parameters of the variational circuit takes most of the processing time, and is dependent on the optimization method used, as discussed in the [training page](./training-quantum-circuits).\n",
    "\n",
    "![](images/vqc/va.svg)\n",
    "\n",
    "Our optimal circuit parameters, $\\vec{\\theta}^*$ are found when we find the minimum of the loss function, $f(\\vec{\\theta})$. However, there isn't a simple relationship between the loss function and the circuit parameters.\n",
    "\n",
    "As a result, the loss landscape can be complicated, as shown in the hills and valleys of the example below. The optimization method navigates us around the loss landscape, searching for the minimum, as shown by the black points and lines. We observe that two-thirds of the searches end up in a local landscape minimum, rather than a global one. \n",
    "\n",
    "![](images/vqc/loss-landscape.png)\n",
    "\n",
    "Generally the optimization methods can be categorised into two groups: gradient-based and gradient-free methods. To determine an optimal solution, gradient-based methods identify an extreme point at which the gradient is equal to zero. A search direction is selected and the searching direction is determined by the derivative of the loss function. The main disadvantages of this type of optimization are the convergence speed can be very slow and there is no guarantee to achieve the optimal solution. \n",
    "\n",
    "When derivative information is unavailable or impractical to obtain (e.g. when the loss function is expensive to evaluate or somewhat noisy), gradient-free methods can be very useful. Such optimisation techniques are robust to find the global optima, while the gradient-based methods tend to converge into local optima. However, gradient-free methods require higher computational capacities, especially for the problems with high-dimensional search spaces.\n",
    "\n",
    "![](images/vqc/barren-plateaus.png)\n",
    "\n",
    "Despite what type of optimization method is used, if the loss landscape is fairly flat, it can be difficult for the method to determine which direction to search. This situation is called a _[barren plateau](gloss:barren-plateaus),_ and was studied in Reference 4. For a wide class of reasonable parameterized quantum circuits, the probability that the gradient along any reasonable direction is non-zero to some fixed precision is exponentially small as a function of the number of qubits.\n",
    "\n",
    "One approach to overcome this problem is to use structured initial guesses, such as those adopted in quantum simulation. Another possibility is to consider the full quantum circuit as a sequence of shallow blocks, selecting some parameters randomly and choosing the rest of the parameters such that all shallow blocks implement the identity to restrict the effective depth. This is an area of current investigation."
   ]
  },
  {
   "attachments": {},
   "cell_type": "markdown",
   "metadata": {},
   "source": [
    "## References\n",
    "\n",
    "1. Alberto Peruzzo, Jarrod McClean, Peter Shadbolt, Man-Hong Yung, Xiao-Qi Zhou, Peter J. Love, Alán Aspuru-Guzik and Jeremy L. O'Brien, *A variational eigenvalue solver on a quantum processor*, Nature Communications, 5:4213 (2014), [doi.org:10.1038/ncomms5213](https://doi.org/10.1038/ncomms5213), [arXiv:1304.3061](https://arxiv.org/abs/1304.3061).\n",
    "1. Edward Farhi, Jeffrey Goldstone and Sam Gutmann, *A Quantum Approximate Optimization Algorithm* (2014), [arXiv:1411.4028](https://arxiv.org/abs/1411.4028).\n",
    "1. Vojtech Havlicek, Antonio D. Córcoles, Kristan Temme, Aram W. Harrow, Abhinav  Kandala, Jerry M. Chow and Jay M. Gambetta, *Supervised learning with quantum enhanced feature spaces*, Nature 567, 209-212 (2019), [doi.org:10.1038/s41586-019-0980-2](https://doi.org/10.1038/s41586-019-0980-2), [arXiv:1804.11326](https://arxiv.org/abs/1804.11326).\n",
    "1. Jarrod R. McClean, Sergio Boixo, Vadim N. Smelyanskiy, Ryan Babbush and Hartmut Neven, *Barren plateaus in quantum neural network training landscapes*, Nature Communications volume 9, Article number: 4812 (2018), [doi.org:10.1038/s41467-018-07090-4](https://www.nature.com/articles/s41467-018-07090-4) [arXiv:1803.1117](https://arxiv.org/abs/1803.11173)."
   ]
  },
  {
   "cell_type": "code",
   "execution_count": 16,
   "metadata": {},
   "outputs": [
    {
     "data": {
      "text/html": [
       "<h3>Version Information</h3><table><tr><th>Qiskit Software</th><th>Version</th></tr><tr><td><code>qiskit-terra</code></td><td>0.22.0</td></tr><tr><td><code>qiskit-aer</code></td><td>0.11.0</td></tr><tr><td><code>qiskit-ibmq-provider</code></td><td>0.19.2</td></tr><tr><td><code>qiskit</code></td><td>0.39.0</td></tr><tr><td><code>qiskit-nature</code></td><td>0.4.1</td></tr><tr><td><code>qiskit-finance</code></td><td>0.3.2</td></tr><tr><td><code>qiskit-optimization</code></td><td>0.4.0</td></tr><tr><td><code>qiskit-machine-learning</code></td><td>0.4.0</td></tr><tr><th>System information</th></tr><tr><td>Python version</td><td>3.8.13</td></tr><tr><td>Python compiler</td><td>Clang 13.1.6 (clang-1316.0.21.2.5)</td></tr><tr><td>Python build</td><td>default, Aug 29 2022 05:17:23</td></tr><tr><td>OS</td><td>Darwin</td></tr><tr><td>CPUs</td><td>8</td></tr><tr><td>Memory (Gb)</td><td>32.0</td></tr><tr><td colspan='2'>Tue Dec 06 18:03:38 2022 GMT</td></tr></table>"
      ],
      "text/plain": [
       "<IPython.core.display.HTML object>"
      ]
     },
     "metadata": {},
     "output_type": "display_data"
    }
   ],
   "source": [
    "# pylint: disable=unused-import\n",
    "import qiskit.tools.jupyter\n",
    "%qiskit_version_table"
   ]
  }
 ],
 "metadata": {
  "kernelspec": {
   "display_name": "Python 3",
   "language": "python",
   "name": "python3"
  },
  "language_info": {
   "codemirror_mode": {
    "name": "ipython",
    "version": 3
   },
   "file_extension": ".py",
   "mimetype": "text/x-python",
   "name": "python",
   "nbconvert_exporter": "python",
   "pygments_lexer": "ipython3",
   "version": "3.10.4"
  }
 },
 "nbformat": 4,
 "nbformat_minor": 4
}
