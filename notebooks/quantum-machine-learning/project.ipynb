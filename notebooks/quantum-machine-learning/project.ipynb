{
 "cells": [
  {
   "cell_type": "markdown",
   "metadata": {},
   "source": [
    "# Project"
   ]
  },
  {
   "cell_type": "markdown",
   "metadata": {
    "gloss": {
     "git": {
      "text": "Git is a program you can use to track changes to computer files. Git tracks the entire state of a folder (known as a Git repository).",
      "title": "Git"
     },
     "github": {
      "text": "Github is a website you can use to host your project. Similar to video / image sharing websites, but aimed at software developers. As well as hosting software, Github also makes it easy to display your project and collaborate with others.",
      "title": "GitHub"
     },
     "slack": {
      "text": "Slack is a messaging app.",
      "title": "Slack"
     }
    }
   },
   "source": [
    "## Congratulations!\n",
    "\n",
    "![Congratulations](images/project/congrats.png)\n",
    "\n",
    "You’ve finished the taught part of this course.\n",
    "\n",
    "## Completing a guided project\n",
    "\n",
    "Hopefully you enjoyed learning about quantum computing. If so, we now encourage you to try a project. In your project, you'll pick an area you’ve come across that you find interesting and investigate it. The final form of your project can be whatever you choose, from a blog post explaining an investigation, to improving Qiskit itself.\n",
    "\n",
    "### Step 1: Connect to the community\n",
    "\n",
    "If you haven’t joined already, the Qiskit [Slack](gloss:slack) workspace is a great place to ask questions and get support. The developers of Qiskit and this online textbook hang out there, as well as plenty of students and enthusiasts. You can join via [this link](https://qisk.it/join-slack), and introduce yourself in the [`#textbook-projects`](https://qiskit.slack.com/archives/C028AGU6KDX) channel.\n",
    "\n",
    "### Step 2: Get started with GitHub\n",
    "\n",
    "Using [GitHub](gloss:github) you can:\n",
    "- Display code you've written.\n",
    "- Create your own web page (e.g. for a blog or online demo) using [GitHub pages](https://pages.github.com/).\n",
    "- Fork [Qiskit](https://github.com/Qiskit/qiskit-terra) and start working on an issue.\n",
    "\n",
    "[Git](gloss:git) and GitHub are great tools, but they also come with a fair bit of jargon. We'll include tooltips for some of these terms when we come across them.\n",
    "\n",
    "You can follow GitHub's quickstart guide [here](https://docs.github.com/en/get-started/quickstart)."
   ]
  },
  {
   "cell_type": "markdown",
   "metadata": {},
   "source": [
    "### Step 3: Decide on a project\n",
    "\n",
    "Your project can be on anything you want. You can post your ideas in the [`#textbook-projects`](https://qiskit.slack.com/archives/C028AGU6KDX) Slack channel to get advice from mentors, and find other people to collaborate with.\n",
    "\n",
    "Below are some ideas to get your imagination going. Each set of bullet points is roughly ordered from easier to harder projects. You can use one of these ideas, adapt them, or do something completely different!\n",
    "\n",
    "<!-- ::: q-block.tabs -->\n",
    "\n",
    "## Project ideas\n",
    "\n",
    "<!-- ::: tab -->\n",
    "\n",
    "### Lighter projects\n",
    "\n",
    "If you enjoy writing, you could:\n",
    "- Write a blog post explaining what you’ve learnt and how the experience was.\n",
    "- Write a blog post explaining the suspected advantages of quantum machine learning over classical machine learning. You could aim it at a layperson, a classical developer, or a quantum computer scientist (or anyone else). What are the most promising areas? Where are the current challenges?\n",
    "\n",
    "<!-- ::: tab -->\n",
    "\n",
    "### Implementations\n",
    "\n",
    "You can try to implement or adapt something from this course, or something from another resource. Some ideas are:\n",
    "- In the QGAN page, we use QGAN to approximate several specified distributions. Create a generalized Python function that takes as input any target distribution and outputs a circuit that approximates that distribution.\n",
    "- Starting from the most popular classical datasets such as the:\n",
    "    * [Iris dataset](https://scikit-learn.org/stable/auto_examples/datasets/plot_iris_dataset.html)\n",
    "    * [Wine dataset](https://archive.ics.uci.edu/ml/datasets/wine)\n",
    "    * [MNIST dataset](http://yann.lecun.com/exdb/mnist/)\n",
    "    * [CIFAR 10 dataset](https://www.cs.toronto.edu/~kriz/cifar.html)\n",
    "  \n",
    "  Discuss the advantages and disadvantages of different encoding and optimization techniques.\n",
    "- Implement a data reuploading classifier for (any) dataset (look at [this paper](https://quantum-journal.org/papers/q-2020-02-06-226/pdf/) and [this paper](https://journals.aps.org/pra/pdf/10.1103/PhysRevA.104.012405) for inspiration)\n",
    "\n",
    "\n",
    "<!-- ::: tab -->\n",
    "\n",
    "### Investigations\n",
    "\n",
    "You could investigate a technical area in quantum machine learning, and write up your findings. For example, you could:\n",
    "- Benchmark each ansatz (e.g. `ZZFeatureMap`, `TwoLocal`) and propose one with the lowest cost for each task.\n",
    "- Analyze some classical machine learning methods and find places that might benefit from using quantum circuits.\n",
    "- Read [this paper on variational quantum generators](https://arxiv.org/abs/1901.00848). Try to extend a QGAN to learn a certain continuous distribution (e.g. a continuous 4Q Gaussian).\n",
    "- Read [this paper on ansatz expressibility, gradient magnitudes, and barren plateaus](https://arxiv.org/pdf/2101.02138.pdf). Write about, or empirically evaluate the connection between expressibility and barren plateaus.\n",
    "- Explore other data encoding schemes and the impacts they have on the circuit (see [this paper](https://arxiv.org/pdf/2102.04032.pdf))\n",
    "- Investigate how the techniques used in this course could be applied to quantum datasets (e.g. [this dataset](https://arxiv.org/pdf/2109.03400.pdf) and [this dataset](https://arxiv.org/pdf/2108.06661.pdf)). What are the advantages and/or limitations?\n",
    "\n",
    "\n",
    "<!-- ::: -->\n",
    "\n",
    "<!-- ::: -->"
   ]
  },
  {
   "cell_type": "markdown",
   "metadata": {},
   "source": [
    "### Step 4: Have fun!\n",
    "\n",
    "Start working towards your goal. If you find your project too difficult, get stuck, or simply get bored, ask for help in the [`#textbook-projects`](https://qiskit.slack.com/archives/C028AGU6KDX) channel. The mentors can either point you in the right direction, or help you adjust your project’s goals.\n",
    "\n",
    "### Step 5: Share your work\n",
    "\n",
    "After you’ve put in the time and effort, share your work with others on the [`#textbook-projects`](https://qiskit.slack.com/archives/C028AGU6KDX) channel. If you maintain your GitHub profile and GitHub pages web page, you can use this to evidence your knowledge and experience to others (e.g. in applications or interviews)."
   ]
  }
 ],
 "metadata": {
  "kernelspec": {
   "display_name": "Python 3",
   "language": "python",
   "name": "python3"
  },
  "language_info": {
   "codemirror_mode": {
    "name": "ipython",
    "version": 3
   },
   "file_extension": ".py",
   "mimetype": "text/x-python",
   "name": "python",
   "nbconvert_exporter": "python",
   "pygments_lexer": "ipython3",
   "version": "3.9"
  }
 },
 "nbformat": 4,
 "nbformat_minor": 4
}
