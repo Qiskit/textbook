{
 "cells": [
  {
   "cell_type": "markdown",
   "metadata": {
    "tags": [
     "remove_cell"
    ]
   },
   "source": [
    "# Solving combinatorial optimization problems using QAOA"
   ]
  },
  {
   "cell_type": "markdown",
   "metadata": {},
   "source": [
    "In this tutorial, we will:\n",
    "- introduce combinatorial optimization problems,\n",
    "- explain approximate optimization algorithms,\n",
    "- explain how the Quantum Approximate Optimization Algorithm (QAOA) works,\n",
    "- and run a simple example on a simulator or a real quantum system."
   ]
  },
  {
   "cell_type": "markdown",
   "metadata": {},
   "source": [
    "## Combinatorial Optimization Problem\n",
    "\n",
    "Combinatorial optimization problems involve finding an optimal object out of a finite set of objects. We would focus on problems that involve \n",
    "finding \"optimal\" bit strings composed of 0's and 1's among a finite set of bit strings. One such problem corresponding to a graph is the Max-Cut problem. \n",
    "\n",
    "### Max-Cut problem\n",
    "A Max-Cut problem involves partitioning nodes of a graph into two sets, such that the number of edges between the sets is maximum. The example below has a graph with four nodes and some ways of partitioning it into two sets, \"red\" and \"blue\" is shown.\n",
    "\n",
    "![](images/qaoa_maxcut.svg)"
   ]
  },
  {
   "cell_type": "markdown",
   "metadata": {},
   "source": [
    "For 4 nodes, as each node can be assigned to either the \"red\" or \"blue\" sets, there are $2^4=16$ possible assignments, out of which we have to find one that gives maximum number of edges between the sets \"red\" and \"blue\". The number of such edges between two sets in the figure, as we go from left to right, are 0, 2, 2, and 4. We can see, after enumerating all possible $2^4=16$ assignments, that the rightmost figure is the assignment that gives the maximum number of edges between the two sets. Hence if we encode \"red\" as 0 and \"blue\" as 1, the bit strings \"0101\" and \"1010\" that represent the assignment of nodes to either set are the solutions.   "
   ]
  },
  {
   "cell_type": "markdown",
   "metadata": {},
   "source": [
    "As you may have realized, as the number of nodes in the graph increases, the number of possible assignments \n",
    "that you have to examine to find the solution increases exponentially."
   ]
  },
  {
   "cell_type": "markdown",
   "metadata": {},
   "source": [
    "## QAOA\n",
    "\n",
    "QAOA (Quantum Approximate Optimization Algorithm) introduced by Farhi et al.[1] is a quantum algorithm that attempts to \n",
    "solve such combinatorial problems.<br> \n",
    "\n",
    "It is a variational algorithm that uses a unitary $U(\\boldsymbol{\\beta}, \\boldsymbol{\\gamma})$ characterized by the parameters \n",
    "$(\\boldsymbol{\\beta}, \\boldsymbol{\\gamma})$ to prepare a quantum state $\\lvert \\psi(\\boldsymbol{\\beta}, \\boldsymbol{\\gamma}) \\rangle$. \n",
    "The goal of the algorithm\n",
    "is to find optimal parameters `{latex} (\\boldsymbol{\\beta}_{\\text{opt}}, \\boldsymbol{\\gamma}_{\\text{opt}})` such that the \n",
    "quantum state `{latex} \\lvert \\psi(\\boldsymbol{\\beta}_{\\text{opt}}, \\boldsymbol{\\gamma}_{\\text{opt}}) \\rangle` encodes the solution to the problem. \n",
    "\n",
    "The unitary $U(\\boldsymbol{\\beta}, \\boldsymbol{\\gamma})$ has a specific form and is composed of two unitaries \n",
    "$U(\\boldsymbol{\\beta}) = e^{-i \\boldsymbol{\\beta} H_B}$ and $U(\\boldsymbol{\\gamma}) = e^{-i \\boldsymbol{\\gamma} H_P}$\n",
    "where $H_B$ is the mixing Hamiltonian and $H_P$ is the problem Hamiltonian. Such a choice of unitary drives its inspiration \n",
    "from a related scheme called quantum annealing.\n",
    "\n",
    "The state is prepared by applying these unitaries as alternating blocks of the two unitaries applied $p$ times such that \n",
    "\n",
    "$$\\lvert \\psi(\\boldsymbol{\\beta}, \\boldsymbol{\\gamma}) \\rangle = \\underbrace{U(\\boldsymbol{\\beta}) U(\\boldsymbol{\\gamma}) \n",
    "                                            \\cdots U(\\boldsymbol{\\beta}) U(\\boldsymbol{\\gamma})}_{p \\; \\text{times}} \n",
    "\\lvert \\psi_0 \\rangle$$\n",
    "\n",
    "where $\\lvert \\psi_0 \\rangle$ is a suitable initial state. \n",
    "\n",
    "We will demonstrate these steps using the Max-Cut problem discussed above. For that we would first define\n",
    "the underlying graph of the problem shown above."
   ]
  },
  {
   "cell_type": "code",
   "execution_count": 1,
   "metadata": {},
   "outputs": [
    {
     "data": {
      "image/svg+xml": [
       "<?xml version=\"1.0\" encoding=\"UTF-8\"?><!DOCTYPE svg  PUBLIC '-//W3C//DTD SVG 1.1//EN'  'http://www.w3.org/Graphics/SVG/1.1/DTD/svg11.dtd'><svg width=\"475.2pt\" height=\"360pt\" version=\"1.1\" viewBox=\"0 0 475.2 360\" xmlns=\"http://www.w3.org/2000/svg\" xmlns:xlink=\"http://www.w3.org/1999/xlink\"><defs><style type=\"text/css\">*{stroke-linejoin: round; stroke-linecap: butt}</style></defs><path d=\"m0 360h475.2v-360h-475.2z\" fill=\"#ffffff\"/><g fill=\"none\" stroke=\"#000000\" stroke-opacity=\".8\"><path d=\"m193.71 37.19 234.31 108.93\" clip-path=\"url(#pc08ef713a1)\"/><path d=\"m193.71 37.19-146.52 176.95\" clip-path=\"url(#pc08ef713a1)\"/><path d=\"m428.01 146.12-145.02 176.69\" clip-path=\"url(#pc08ef713a1)\"/><path d=\"m283 322.81-235.81-108.67\" clip-path=\"url(#pc08ef713a1)\"/></g><defs><path id=\"ma40c361621\" d=\"m0 11.18c2.9651 0 5.8091-1.178 7.9057-3.2746 2.0966-2.0966 3.2746-4.9406 3.2746-7.9057s-1.178-5.8091-3.2746-7.9057c-2.0966-2.0966-4.9406-3.2746-7.9057-3.2746s-5.8091 1.178-7.9057 3.2746c-2.0966 2.0966-3.2746 4.9406-3.2746 7.9057s1.178 5.8091 3.2746 7.9057c2.0966 2.0966 4.9406 3.2746 7.9057 3.2746z\" stroke=\"#1f78b4\" stroke-opacity=\".8\"/></defs><g clip-path=\"url(#pc08ef713a1)\" fill=\"#1f78b4\" fill-opacity=\".8\" stroke=\"#1f78b4\" stroke-opacity=\".8\"><use x=\"193.70722\" y=\"37.190083\" xlink:href=\"#ma40c361621\"/><use x=\"428.013223\" y=\"146.12379\" xlink:href=\"#ma40c361621\"/><use x=\"282.99555\" y=\"322.809917\" xlink:href=\"#ma40c361621\"/><use x=\"47.186777\" y=\"214.144626\" xlink:href=\"#ma40c361621\"/></g><g clip-path=\"url(#pc08ef713a1)\"><g transform=\"translate(189.89 40.501) scale(.12 -.12)\" opacity=\".8\"><defs><path id=\"DejaVuSans-30\" transform=\"scale(.015625)\" d=\"m2034 4250q-487 0-733-480-245-479-245-1442 0-959 245-1439 246-480 733-480 491 0 736 480 246 480 246 1439 0 963-246 1442-245 480-736 480zm0 500q785 0 1199-621 414-620 414-1801 0-1178-414-1799-414-620-1199-620-784 0-1198 620-414 621-414 1799 0 1181 414 1801 414 621 1198 621z\"/></defs><use xlink:href=\"#DejaVuSans-30\"/></g></g><g clip-path=\"url(#pc08ef713a1)\"><g transform=\"translate(424.2 149.44) scale(.12 -.12)\" opacity=\".8\"><defs><path id=\"DejaVuSans-31\" transform=\"scale(.015625)\" d=\"m794 531h1031v3560l-1122-225v575l1116 225h631v-4135h1031v-531h-2687v531z\"/></defs><use xlink:href=\"#DejaVuSans-31\"/></g></g><g clip-path=\"url(#pc08ef713a1)\"><g transform=\"translate(279.18 326.12) scale(.12 -.12)\" opacity=\".8\"><defs><path id=\"DejaVuSans-32\" transform=\"scale(.015625)\" d=\"m1228 531h2203v-531h-2962v531q359 372 979 998 621 627 780 809 303 340 423 576 121 236 121 464 0 372-261 606-261 235-680 235-297 0-627-103-329-103-704-313v638q381 153 712 231 332 78 607 78 725 0 1156-363 431-362 431-968 0-288-108-546-107-257-392-607-78-91-497-524-418-433-1181-1211z\"/></defs><use xlink:href=\"#DejaVuSans-32\"/></g></g><g clip-path=\"url(#pc08ef713a1)\"><g transform=\"translate(43.369 217.46) scale(.12 -.12)\" opacity=\".8\"><defs><path id=\"DejaVuSans-33\" transform=\"scale(.015625)\" d=\"m2597 2516q453-97 707-404 255-306 255-756 0-690-475-1069-475-378-1350-378-293 0-604 58t-642 174v609q262-153 574-231 313-78 654-78 593 0 904 234t311 681q0 413-289 645-289 233-804 233h-544v519h569q465 0 712 186t247 536q0 359-255 551-254 193-729 193-260 0-557-57-297-56-653-174v562q360 100 674 150t592 50q719 0 1137-327 419-326 419-882 0-388-222-655t-631-370z\"/></defs><use xlink:href=\"#DejaVuSans-33\"/></g></g><defs><clipPath id=\"pc08ef713a1\"><rect x=\"7.2\" y=\"7.2\" width=\"460.8\" height=\"345.6\"/></clipPath></defs></svg>"
      ],
      "text/plain": [
       "<Figure size 640x480 with 1 Axes>"
      ]
     },
     "metadata": {},
     "output_type": "display_data"
    }
   ],
   "source": [
    "import networkx as nx\n",
    "graph = nx.Graph()\n",
    "graph.add_nodes_from([0, 1, 2, 3])\n",
    "graph.add_edges_from([(0, 1), (1, 2), (2, 3), (3, 0)])\n",
    "nx.draw(graph, with_labels=True, alpha=0.8, node_size=500)"
   ]
  },
  {
   "cell_type": "markdown",
   "metadata": {},
   "source": [
    "The problem Hamiltonian specific to the Max-Cut problem up to a constant here is:\n",
    "\n",
    "$$\n",
    "H_P = \\frac{1}{2}\\big(Z_0 \\otimes Z_1 \\otimes I_2 \\otimes I_3\\big) + \n",
    "        \\frac{1}{2}\\big(I_0 \\otimes Z_1 \\otimes Z_2 \\otimes I_3\\big) +\n",
    "        \\frac{1}{2}\\big(Z_0 \\otimes I_1 \\otimes I_2 \\otimes Z_3\\big) +\n",
    "        \\frac{1}{2}\\big(I_0 \\otimes I_1 \\otimes Z_2 \\otimes Z_3\\big)\n",
    "$$\n",
    "\n",
    "To construct such a Hamiltonian for a problem, one needs to follow a few steps that we'll cover in later sections of this page.\n",
    "\n",
    "The mixer Hamiltonian $H_B$ is usually of the form:\n",
    "\n",
    "$$\n",
    "H_B = \\big(X_0 \\otimes I_1 \\otimes I_2 \\otimes I_3 \\big) + \n",
    "      \\big(I_0 \\otimes X_1 \\otimes I_2 \\otimes I_3 \\big) +\n",
    "      \\big(I_0 \\otimes I_1 \\otimes X_2 \\otimes I_3 \\big) +\n",
    "      \\big(I_0 \\otimes I_1 \\otimes I_2 \\otimes X_3 \\big)\n",
    "$$\n",
    "\n",
    "As individual terms in the summation of $H_P$ and $H_B$ both commute, we can write the unitaries as:\n",
    "\n",
    "$$ U(H_B) = e^{-i \\beta H_B} = e^{-i \\beta X_0}e^{-i \\beta X_1}e^{-i \\beta X_2}e^{-i \\beta X_3}.$$\n",
    "\n",
    "Notice that each term in the product above corresponds to an X-rotation on each qubit. And we can write $U(H_P)$ as:\n",
    "\n",
    "$$ U(H_P) = e^{-i \\gamma H_P} = e^{-i \\gamma Z_0 Z_1}e^{-i \\gamma Z_1 Z_2}e^{-i \\gamma Z_2 Z_3}e^{-i \\gamma Z_0 Z_3}$$\n",
    "\n",
    "Let's now examine what the circuits of the two unitaries look like. "
   ]
  },
  {
   "cell_type": "markdown",
   "metadata": {},
   "source": [
    "### The Mixing Unitary"
   ]
  },
  {
   "cell_type": "code",
   "execution_count": 2,
   "metadata": {
    "tags": []
   },
   "outputs": [
    {
     "data": {
      "image/svg+xml": [
       "<?xml version=\"1.0\" encoding=\"UTF-8\"?><!DOCTYPE svg  PUBLIC '-//W3C//DTD SVG 1.1//EN'  'http://www.w3.org/Graphics/SVG/1.1/DTD/svg11.dtd'><svg width=\"127.43pt\" height=\"218.36pt\" version=\"1.1\" viewBox=\"0 0 127.43 218.36\" xmlns=\"http://www.w3.org/2000/svg\" xmlns:xlink=\"http://www.w3.org/1999/xlink\"><defs><style type=\"text/css\">*{stroke-linejoin: round; stroke-linecap: butt}</style></defs><path d=\"m0 218.36h127.43v-218.36h-127.43z\" fill=\"#ffffff\"/><path d=\"m64.609 44.283h50.989\" clip-path=\"url(#pb216d2c384)\" fill=\"none\" stroke=\"#000000\" stroke-linecap=\"square\" stroke-width=\"2\"/><path d=\"m64.609 90.637h50.989\" clip-path=\"url(#pb216d2c384)\" fill=\"none\" stroke=\"#000000\" stroke-linecap=\"square\" stroke-width=\"2\"/><path d=\"m64.609 136.99h50.989\" clip-path=\"url(#pb216d2c384)\" fill=\"none\" stroke=\"#000000\" stroke-linecap=\"square\" stroke-width=\"2\"/><path d=\"m64.609 183.35h50.989\" clip-path=\"url(#pb216d2c384)\" fill=\"none\" stroke=\"#000000\" stroke-linecap=\"square\" stroke-width=\"2\"/><path d=\"m74.575 59.348h30.13v-30.13h-30.13z\" clip-path=\"url(#pb216d2c384)\" fill=\"#6929c4\" stroke=\"#6929c4\" stroke-width=\"1.5\"/><path d=\"m74.575 105.7h30.13v-30.13h-30.13z\" clip-path=\"url(#pb216d2c384)\" fill=\"#6929c4\" stroke=\"#6929c4\" stroke-width=\"1.5\"/><path d=\"m74.575 152.06h30.13v-30.13h-30.13z\" clip-path=\"url(#pb216d2c384)\" fill=\"#6929c4\" stroke=\"#6929c4\" stroke-width=\"1.5\"/><path d=\"m74.575 198.41h30.13v-30.13h-30.13z\" clip-path=\"url(#pb216d2c384)\" fill=\"#6929c4\" stroke=\"#6929c4\" stroke-width=\"1.5\"/><g clip-path=\"url(#pb216d2c384)\"><g transform=\"translate(37.301 48.734) scale(.1625 -.1625)\"><defs><path id=\"DejaVuSans-Oblique-71\" transform=\"scale(.015625)\" d=\"m2669 525q-231-303-546-460-314-156-695-156-531 0-833 358-301 358-301 986 0 506 186 978t533 847q225 244 517 375t614 131q387 0 637-153t363-462l100 525h578l-934-4813h-579l360 1844zm-1778 813q0-463 193-705 194-242 560-242 544 0 928 520t384 1264q0 450-199 689-198 239-569 239-272 0-504-127-231-126-403-370-181-256-286-600-104-343-104-668z\"/><path id=\"DejaVuSans-30\" transform=\"scale(.015625)\" d=\"m2034 4250q-487 0-733-480-245-479-245-1442 0-959 245-1439 246-480 733-480 491 0 736 480 246 480 246 1439 0 963-246 1442-245 480-736 480zm0 500q785 0 1199-621 414-620 414-1801 0-1178-414-1799-414-620-1199-620-784 0-1198 620-414 621-414 1799 0 1181 414 1801 414 621 1198 621z\"/></defs><use xlink:href=\"#DejaVuSans-Oblique-71\"/><use transform=\"translate(63.477 -16.406) scale(.7)\" xlink:href=\"#DejaVuSans-30\"/></g></g><g clip-path=\"url(#pb216d2c384)\"><g transform=\"translate(37.301 95.088) scale(.1625 -.1625)\"><defs><path id=\"DejaVuSans-31\" transform=\"scale(.015625)\" d=\"m794 531h1031v3560l-1122-225v575l1116 225h631v-4135h1031v-531h-2687v531z\"/></defs><use xlink:href=\"#DejaVuSans-Oblique-71\"/><use transform=\"translate(63.477 -16.406) scale(.7)\" xlink:href=\"#DejaVuSans-31\"/></g></g><g clip-path=\"url(#pb216d2c384)\"><g transform=\"translate(37.301 141.44) scale(.1625 -.1625)\"><defs><path id=\"DejaVuSans-32\" transform=\"scale(.015625)\" d=\"m1228 531h2203v-531h-2962v531q359 372 979 998 621 627 780 809 303 340 423 576 121 236 121 464 0 372-261 606-261 235-680 235-297 0-627-103-329-103-704-313v638q381 153 712 231 332 78 607 78 725 0 1156-363 431-362 431-968 0-288-108-546-107-257-392-607-78-91-497-524-418-433-1181-1211z\"/></defs><use xlink:href=\"#DejaVuSans-Oblique-71\"/><use transform=\"translate(63.477 -16.406) scale(.7)\" xlink:href=\"#DejaVuSans-32\"/></g></g><g clip-path=\"url(#pb216d2c384)\"><g transform=\"translate(37.301 187.8) scale(.1625 -.1625)\"><defs><path id=\"DejaVuSans-33\" transform=\"scale(.015625)\" d=\"m2597 2516q453-97 707-404 255-306 255-756 0-690-475-1069-475-378-1350-378-293 0-604 58t-642 174v609q262-153 574-231 313-78 654-78 593 0 904 234t311 681q0 413-289 645-289 233-804 233h-544v519h569q465 0 712 186t247 536q0 359-255 551-254 193-729 193-260 0-557-57-297-56-653-174v562q360 100 674 150t592 50q719 0 1137-327 419-326 419-882 0-388-222-655t-631-370z\"/></defs><use xlink:href=\"#DejaVuSans-Oblique-71\"/><use transform=\"translate(63.477 -16.406) scale(.7)\" xlink:href=\"#DejaVuSans-33\"/></g></g><g clip-path=\"url(#pb216d2c384)\"><g transform=\"translate(82.52 55.562) scale(.08 -.08)\" fill=\"#ffffff\"><defs><path id=\"DejaVuSans-2a\" transform=\"scale(.015625)\" d=\"m3009 3897-1121-606 1121-610-181-306-1050 634v-1178h-356v1178l-1050-634-181 306 1122 610-1122 606 181 309 1050-634v1178h356v-1178l1050 634 181-309z\"/><path id=\"DejaVuSans-Oblique-3b2\" transform=\"scale(.015625)\" d=\"m872 216-300-1547h-578l934 4809q278 1425 1610 1425 1350 0 1121-1203-156-856-765-1169 819-281 659-1115-281-1485-1794-1482-662 3-887 282zm147 750q240-544 856-541 900 0 1091 981 172 882-1291 813l103 531q1131-19 1328 1e3 135 688-597 684-818 0-1006-975l-484-2493z\"/></defs><use transform=\"translate(0 .39062)\" xlink:href=\"#DejaVuSans-32\"/><use transform=\"translate(63.623 .39062)\" xlink:href=\"#DejaVuSans-2a\"/><use transform=\"translate(113.62 .39062)\" xlink:href=\"#DejaVuSans-Oblique-3b2\"/></g></g><g clip-path=\"url(#pb216d2c384)\"><g transform=\"translate(81.71 43.351) scale(.13 -.13)\" fill=\"#ffffff\"><defs><path id=\"DejaVuSans-52\" transform=\"scale(.015625)\" d=\"m2841 2188q203-69 395-294t386-619l641-1275h-679l-596 1197q-232 469-449 622t-592 153h-688v-1972h-631v4666h1425q800 0 1194-335 394-334 394-1009 0-441-205-732-205-290-595-402zm-1582 1959v-1656h794q456 0 689 211t233 620-233 617-689 208h-794z\"/><path id=\"DejaVuSans-58\" transform=\"scale(.015625)\" d=\"m403 4666h678l1160-1735 1165 1735h678l-1500-2241 1600-2425h-678l-1312 1984-1322-1984h-681l1665 2491-1453 2175z\"/></defs><use transform=\"translate(0 .09375)\" xlink:href=\"#DejaVuSans-52\"/><use transform=\"translate(70.439 -16.312) scale(.7)\" xlink:href=\"#DejaVuSans-58\"/></g></g><g clip-path=\"url(#pb216d2c384)\"><g transform=\"translate(82.52 101.92) scale(.08 -.08)\" fill=\"#ffffff\"><use transform=\"translate(0 .39062)\" xlink:href=\"#DejaVuSans-32\"/><use transform=\"translate(63.623 .39062)\" xlink:href=\"#DejaVuSans-2a\"/><use transform=\"translate(113.62 .39062)\" xlink:href=\"#DejaVuSans-Oblique-3b2\"/></g></g><g clip-path=\"url(#pb216d2c384)\"><g transform=\"translate(81.71 89.705) scale(.13 -.13)\" fill=\"#ffffff\"><use transform=\"translate(0 .09375)\" xlink:href=\"#DejaVuSans-52\"/><use transform=\"translate(70.439 -16.312) scale(.7)\" xlink:href=\"#DejaVuSans-58\"/></g></g><g clip-path=\"url(#pb216d2c384)\"><g transform=\"translate(82.52 148.27) scale(.08 -.08)\" fill=\"#ffffff\"><use transform=\"translate(0 .39062)\" xlink:href=\"#DejaVuSans-32\"/><use transform=\"translate(63.623 .39062)\" xlink:href=\"#DejaVuSans-2a\"/><use transform=\"translate(113.62 .39062)\" xlink:href=\"#DejaVuSans-Oblique-3b2\"/></g></g><g clip-path=\"url(#pb216d2c384)\"><g transform=\"translate(81.71 136.06) scale(.13 -.13)\" fill=\"#ffffff\"><use transform=\"translate(0 .09375)\" xlink:href=\"#DejaVuSans-52\"/><use transform=\"translate(70.439 -16.312) scale(.7)\" xlink:href=\"#DejaVuSans-58\"/></g></g><g clip-path=\"url(#pb216d2c384)\"><g transform=\"translate(82.52 194.62) scale(.08 -.08)\" fill=\"#ffffff\"><use transform=\"translate(0 .39062)\" xlink:href=\"#DejaVuSans-32\"/><use transform=\"translate(63.623 .39062)\" xlink:href=\"#DejaVuSans-2a\"/><use transform=\"translate(113.62 .39062)\" xlink:href=\"#DejaVuSans-Oblique-3b2\"/></g></g><g clip-path=\"url(#pb216d2c384)\"><g transform=\"translate(81.71 182.41) scale(.13 -.13)\" fill=\"#ffffff\"><use transform=\"translate(0 .09375)\" xlink:href=\"#DejaVuSans-52\"/><use transform=\"translate(70.439 -16.312) scale(.7)\" xlink:href=\"#DejaVuSans-58\"/></g></g><defs><clipPath id=\"pb216d2c384\"><rect x=\"7.2\" y=\"7.2\" width=\"113.03\" height=\"203.96\"/></clipPath></defs></svg>"
      ],
      "text/plain": [
       "<Figure size 203.885x367.889 with 1 Axes>"
      ]
     },
     "execution_count": 2,
     "metadata": {},
     "output_type": "execute_result"
    }
   ],
   "source": [
    "from qiskit import QuantumCircuit, Aer\n",
    "from qiskit.circuit import Parameter\n",
    "\n",
    "# Adjacency is essentially a matrix which tells you which nodes are\n",
    "# connected. This matrix is given as a sparse matrix, so we need to\n",
    "# convert it to a dense matrix\n",
    "adjacency = nx.adjacency_matrix(graph).todense()\n",
    "\n",
    "N_QUBITS = 4\n",
    "\n",
    "beta = Parameter(\"$\\\\beta$\")\n",
    "qc_mix = QuantumCircuit(N_QUBITS)\n",
    "for i in range(N_QUBITS):\n",
    "    qc_mix.rx(2 * beta, i)\n",
    "\n",
    "qc_mix.draw()"
   ]
  },
  {
   "cell_type": "markdown",
   "metadata": {},
   "source": [
    "### The Problem Unitary"
   ]
  },
  {
   "cell_type": "code",
   "execution_count": 3,
   "metadata": {},
   "outputs": [
    {
     "data": {
      "image/svg+xml": [
       "<?xml version=\"1.0\" encoding=\"UTF-8\"?><!DOCTYPE svg  PUBLIC '-//W3C//DTD SVG 1.1//EN'  'http://www.w3.org/Graphics/SVG/1.1/DTD/svg11.dtd'><svg width=\"822.74pt\" height=\"218.36pt\" version=\"1.1\" viewBox=\"0 0 822.74 218.36\" xmlns=\"http://www.w3.org/2000/svg\" xmlns:xlink=\"http://www.w3.org/1999/xlink\"><defs><style type=\"text/css\">*{stroke-linejoin: round; stroke-linecap: butt}</style></defs><path d=\"m0 218.36h822.74v-218.36h-822.74z\" fill=\"#ffffff\"/><path d=\"m64.609 44.283h746.3\" clip-path=\"url(#paf4f0f1eed)\" fill=\"none\" stroke=\"#000000\" stroke-linecap=\"square\" stroke-width=\"2\"/><path d=\"m64.609 90.637h746.3\" clip-path=\"url(#paf4f0f1eed)\" fill=\"none\" stroke=\"#000000\" stroke-linecap=\"square\" stroke-width=\"2\"/><path d=\"m64.609 136.99h746.3\" clip-path=\"url(#paf4f0f1eed)\" fill=\"none\" stroke=\"#000000\" stroke-linecap=\"square\" stroke-width=\"2\"/><path d=\"m64.609 183.35h746.3\" clip-path=\"url(#paf4f0f1eed)\" fill=\"none\" stroke=\"#000000\" stroke-linecap=\"square\" stroke-width=\"2\"/><path d=\"m89.64 90.637v-46.354\" clip-path=\"url(#paf4f0f1eed)\" fill=\"none\" stroke=\"#1192e8\" stroke-linecap=\"square\" stroke-width=\"2\"/><path d=\"m182.35 90.637v-46.354\" clip-path=\"url(#paf4f0f1eed)\" fill=\"none\" stroke=\"#1192e8\" stroke-linecap=\"square\" stroke-width=\"2\"/><path d=\"m219.66 67.46h18.078v-46.354h-18.078z\" clip-path=\"url(#paf4f0f1eed)\" fill=\"#bdbdbd\" opacity=\".6\"/><path d=\"m219.66 113.81h18.078v-46.354h-18.078z\" clip-path=\"url(#paf4f0f1eed)\" fill=\"#bdbdbd\" opacity=\".6\"/><path d=\"m219.66 160.17h18.078v-46.354h-18.078z\" clip-path=\"url(#paf4f0f1eed)\" fill=\"#bdbdbd\" opacity=\".6\"/><path d=\"m219.66 206.52h18.078v-46.354h-18.078z\" clip-path=\"url(#paf4f0f1eed)\" fill=\"#bdbdbd\" opacity=\".6\"/><path d=\"m275.06 183.35v-139.06\" clip-path=\"url(#paf4f0f1eed)\" fill=\"none\" stroke=\"#1192e8\" stroke-linecap=\"square\" stroke-width=\"2\"/><path d=\"m367.76 183.35v-139.06\" clip-path=\"url(#paf4f0f1eed)\" fill=\"none\" stroke=\"#1192e8\" stroke-linecap=\"square\" stroke-width=\"2\"/><path d=\"m405.08 67.46h18.078v-46.354h-18.078z\" clip-path=\"url(#paf4f0f1eed)\" fill=\"#bdbdbd\" opacity=\".6\"/><path d=\"m405.08 113.81h18.078v-46.354h-18.078z\" clip-path=\"url(#paf4f0f1eed)\" fill=\"#bdbdbd\" opacity=\".6\"/><path d=\"m405.08 160.17h18.078v-46.354h-18.078z\" clip-path=\"url(#paf4f0f1eed)\" fill=\"#bdbdbd\" opacity=\".6\"/><path d=\"m405.08 206.52h18.078v-46.354h-18.078z\" clip-path=\"url(#paf4f0f1eed)\" fill=\"#bdbdbd\" opacity=\".6\"/><path d=\"m460.47 136.99v-46.354\" clip-path=\"url(#paf4f0f1eed)\" fill=\"none\" stroke=\"#1192e8\" stroke-linecap=\"square\" stroke-width=\"2\"/><path d=\"m553.18 136.99v-46.354\" clip-path=\"url(#paf4f0f1eed)\" fill=\"none\" stroke=\"#1192e8\" stroke-linecap=\"square\" stroke-width=\"2\"/><path d=\"m590.5 67.46h18.078v-46.354h-18.078z\" clip-path=\"url(#paf4f0f1eed)\" fill=\"#bdbdbd\" opacity=\".6\"/><path d=\"m590.5 113.81h18.078v-46.354h-18.078z\" clip-path=\"url(#paf4f0f1eed)\" fill=\"#bdbdbd\" opacity=\".6\"/><path d=\"m590.5 160.17h18.078v-46.354h-18.078z\" clip-path=\"url(#paf4f0f1eed)\" fill=\"#bdbdbd\" opacity=\".6\"/><path d=\"m590.5 206.52h18.078v-46.354h-18.078z\" clip-path=\"url(#paf4f0f1eed)\" fill=\"#bdbdbd\" opacity=\".6\"/><path d=\"m645.89 183.35v-46.354\" clip-path=\"url(#paf4f0f1eed)\" fill=\"none\" stroke=\"#1192e8\" stroke-linecap=\"square\" stroke-width=\"2\"/><path d=\"m738.6 183.35v-46.354\" clip-path=\"url(#paf4f0f1eed)\" fill=\"none\" stroke=\"#1192e8\" stroke-linecap=\"square\" stroke-width=\"2\"/><path d=\"m775.91 67.46h18.078v-46.354h-18.078z\" clip-path=\"url(#paf4f0f1eed)\" fill=\"#bdbdbd\" opacity=\".6\"/><path d=\"m775.91 113.81h18.078v-46.354h-18.078z\" clip-path=\"url(#paf4f0f1eed)\" fill=\"#bdbdbd\" opacity=\".6\"/><path d=\"m775.91 160.17h18.078v-46.354h-18.078z\" clip-path=\"url(#paf4f0f1eed)\" fill=\"#bdbdbd\" opacity=\".6\"/><path d=\"m775.91 206.52h18.078v-46.354h-18.078z\" clip-path=\"url(#paf4f0f1eed)\" fill=\"#bdbdbd\" opacity=\".6\"/><path d=\"m89.64 48.803c1.1986 0 2.3482-0.4762 3.1958-1.3237 0.84753-0.84753 1.3237-1.9972 1.3237-3.1958 0-1.1986-0.4762-2.3482-1.3237-3.1958-0.84753-0.84753-1.9972-1.3237-3.1958-1.3237-1.1986 0-2.3482 0.4762-3.1958 1.3237-0.84753 0.84753-1.3237 1.9972-1.3237 3.1958 0 1.1986 0.4762 2.3482 1.3237 3.1958 0.84753 0.84753 1.9972 1.3237 3.1958 1.3237z\" clip-path=\"url(#paf4f0f1eed)\" fill=\"#1192e8\" stroke=\"#1192e8\" stroke-width=\"1.5\"/><path d=\"m89.64 101.18c2.7967 0 5.4792-1.1111 7.4568-3.0887 1.9776-1.9776 3.0887-4.6601 3.0887-7.4568 0-2.7967-1.1111-5.4792-3.0887-7.4568-1.9776-1.9776-4.6601-3.0887-7.4568-3.0887-2.7967 0-5.4792 1.1111-7.4568 3.0887-1.9776 1.9776-3.0887 4.6601-3.0887 7.4568 0 2.7967 1.1111 5.4792 3.0887 7.4568 1.9776 1.9776 4.6601 3.0887 7.4568 3.0887z\" clip-path=\"url(#paf4f0f1eed)\" fill=\"#1192e8\" stroke=\"#1192e8\" stroke-width=\"2\"/><path d=\"m120.93 105.7h30.13v-30.13h-30.13z\" clip-path=\"url(#paf4f0f1eed)\" fill=\"#6929c4\" stroke=\"#6929c4\" stroke-width=\"1.5\"/><path d=\"m182.35 48.803c1.1986 0 2.3482-0.4762 3.1958-1.3237 0.84753-0.84753 1.3237-1.9972 1.3237-3.1958 0-1.1986-0.4762-2.3482-1.3237-3.1958-0.84753-0.84753-1.9972-1.3237-3.1958-1.3237s-2.3482 0.4762-3.1958 1.3237c-0.84753 0.84753-1.3237 1.9972-1.3237 3.1958 0 1.1986 0.4762 2.3482 1.3237 3.1958 0.84753 0.84753 1.9972 1.3237 3.1958 1.3237z\" clip-path=\"url(#paf4f0f1eed)\" fill=\"#1192e8\" stroke=\"#1192e8\" stroke-width=\"1.5\"/><path d=\"m182.35 101.18c2.7967 0 5.4792-1.1111 7.4568-3.0887 1.9776-1.9776 3.0887-4.6601 3.0887-7.4568 0-2.7967-1.1111-5.4792-3.0887-7.4568-1.9776-1.9776-4.6601-3.0887-7.4568-3.0887-2.7967 0-5.4792 1.1111-7.4568 3.0887-1.9776 1.9776-3.0887 4.6601-3.0887 7.4568 0 2.7967 1.1111 5.4792 3.0887 7.4568 1.9776 1.9776 4.6601 3.0887 7.4568 3.0887z\" clip-path=\"url(#paf4f0f1eed)\" fill=\"#1192e8\" stroke=\"#1192e8\" stroke-width=\"2\"/><path d=\"m275.06 48.803c1.1986 0 2.3482-0.4762 3.1958-1.3237 0.84753-0.84753 1.3237-1.9972 1.3237-3.1958 0-1.1986-0.4762-2.3482-1.3237-3.1958-0.84753-0.84753-1.9972-1.3237-3.1958-1.3237-1.1986 0-2.3482 0.4762-3.1958 1.3237s-1.3237 1.9972-1.3237 3.1958c0 1.1986 0.4762 2.3482 1.3237 3.1958s1.9972 1.3237 3.1958 1.3237z\" clip-path=\"url(#paf4f0f1eed)\" fill=\"#1192e8\" stroke=\"#1192e8\" stroke-width=\"1.5\"/><path d=\"m275.06 193.89c2.7967 0 5.4792-1.1111 7.4568-3.0887 1.9776-1.9776 3.0887-4.6601 3.0887-7.4568 0-2.7967-1.1111-5.4792-3.0887-7.4568-1.9776-1.9776-4.6601-3.0887-7.4568-3.0887-2.7967 0-5.4792 1.1111-7.4568 3.0887-1.9776 1.9776-3.0887 4.6601-3.0887 7.4568 0 2.7967 1.1111 5.4792 3.0887 7.4568 1.9776 1.9776 4.6601 3.0887 7.4568 3.0887z\" clip-path=\"url(#paf4f0f1eed)\" fill=\"#1192e8\" stroke=\"#1192e8\" stroke-width=\"2\"/><path d=\"m306.35 198.41h30.13v-30.13h-30.13z\" clip-path=\"url(#paf4f0f1eed)\" fill=\"#6929c4\" stroke=\"#6929c4\" stroke-width=\"1.5\"/><path d=\"m367.76 48.803c1.1986 0 2.3482-0.4762 3.1958-1.3237s1.3237-1.9972 1.3237-3.1958c0-1.1986-0.4762-2.3482-1.3237-3.1958s-1.9972-1.3237-3.1958-1.3237c-1.1986 0-2.3482 0.4762-3.1958 1.3237-0.84753 0.84753-1.3237 1.9972-1.3237 3.1958 0 1.1986 0.4762 2.3482 1.3237 3.1958 0.84753 0.84753 1.9972 1.3237 3.1958 1.3237z\" clip-path=\"url(#paf4f0f1eed)\" fill=\"#1192e8\" stroke=\"#1192e8\" stroke-width=\"1.5\"/><path d=\"m367.76 193.89c2.7967 0 5.4792-1.1111 7.4568-3.0887 1.9776-1.9776 3.0887-4.6601 3.0887-7.4568 0-2.7967-1.1111-5.4792-3.0887-7.4568-1.9776-1.9776-4.6601-3.0887-7.4568-3.0887-2.7967 0-5.4792 1.1111-7.4568 3.0887-1.9776 1.9776-3.0887 4.6601-3.0887 7.4568 0 2.7967 1.1111 5.4792 3.0887 7.4568 1.9776 1.9776 4.6601 3.0887 7.4568 3.0887z\" clip-path=\"url(#paf4f0f1eed)\" fill=\"#1192e8\" stroke=\"#1192e8\" stroke-width=\"2\"/><path d=\"m460.47 95.157c1.1986 0 2.3482-0.4762 3.1958-1.3237 0.84753-0.84753 1.3237-1.9972 1.3237-3.1958s-0.4762-2.3482-1.3237-3.1958c-0.84753-0.84753-1.9972-1.3237-3.1958-1.3237-1.1986 0-2.3482 0.4762-3.1958 1.3237-0.84753 0.84753-1.3237 1.9972-1.3237 3.1958s0.4762 2.3482 1.3237 3.1958c0.84753 0.84753 1.9972 1.3237 3.1958 1.3237z\" clip-path=\"url(#paf4f0f1eed)\" fill=\"#1192e8\" stroke=\"#1192e8\" stroke-width=\"1.5\"/><path d=\"m460.47 147.54c2.7967 0 5.4792-1.1111 7.4568-3.0887 1.9776-1.9776 3.0887-4.6601 3.0887-7.4568 0-2.7967-1.1111-5.4792-3.0887-7.4568-1.9776-1.9776-4.6601-3.0887-7.4568-3.0887-2.7967 0-5.4792 1.1111-7.4568 3.0887s-3.0887 4.6601-3.0887 7.4568c0 2.7967 1.1111 5.4792 3.0887 7.4568 1.9776 1.9776 4.6601 3.0887 7.4568 3.0887z\" clip-path=\"url(#paf4f0f1eed)\" fill=\"#1192e8\" stroke=\"#1192e8\" stroke-width=\"2\"/><path d=\"m491.76 152.06h30.13v-30.13h-30.13z\" clip-path=\"url(#paf4f0f1eed)\" fill=\"#6929c4\" stroke=\"#6929c4\" stroke-width=\"1.5\"/><path d=\"m553.18 95.157c1.1986 0 2.3482-0.4762 3.1958-1.3237 0.84753-0.84753 1.3237-1.9972 1.3237-3.1958s-0.4762-2.3482-1.3237-3.1958c-0.84753-0.84753-1.9972-1.3237-3.1958-1.3237s-2.3482 0.4762-3.1958 1.3237c-0.84753 0.84753-1.3237 1.9972-1.3237 3.1958s0.4762 2.3482 1.3237 3.1958c0.84753 0.84753 1.9972 1.3237 3.1958 1.3237z\" clip-path=\"url(#paf4f0f1eed)\" fill=\"#1192e8\" stroke=\"#1192e8\" stroke-width=\"1.5\"/><path d=\"m553.18 147.54c2.7967 0 5.4792-1.1111 7.4568-3.0887 1.9776-1.9776 3.0887-4.6601 3.0887-7.4568 0-2.7967-1.1111-5.4792-3.0887-7.4568-1.9776-1.9776-4.6601-3.0887-7.4568-3.0887s-5.4792 1.1111-7.4568 3.0887c-1.9776 1.9776-3.0887 4.6601-3.0887 7.4568 0 2.7967 1.1111 5.4792 3.0887 7.4568 1.9776 1.9776 4.6601 3.0887 7.4568 3.0887z\" clip-path=\"url(#paf4f0f1eed)\" fill=\"#1192e8\" stroke=\"#1192e8\" stroke-width=\"2\"/><path d=\"m645.89 141.51c1.1986 0 2.3482-0.4762 3.1958-1.3237 0.84753-0.84753 1.3237-1.9972 1.3237-3.1958 0-1.1986-0.4762-2.3482-1.3237-3.1958-0.84753-0.84753-1.9972-1.3237-3.1958-1.3237-1.1986 0-2.3482 0.4762-3.1958 1.3237-0.84753 0.84753-1.3237 1.9972-1.3237 3.1958 0 1.1986 0.4762 2.3482 1.3237 3.1958s1.9972 1.3237 3.1958 1.3237z\" clip-path=\"url(#paf4f0f1eed)\" fill=\"#1192e8\" stroke=\"#1192e8\" stroke-width=\"1.5\"/><path d=\"m645.89 193.89c2.7967 0 5.4792-1.1111 7.4568-3.0887 1.9776-1.9776 3.0887-4.6601 3.0887-7.4568 0-2.7967-1.1111-5.4792-3.0887-7.4568-1.9776-1.9776-4.6601-3.0887-7.4568-3.0887-2.7967 0-5.4792 1.1111-7.4568 3.0887-1.9776 1.9776-3.0887 4.6601-3.0887 7.4568 0 2.7967 1.1111 5.4792 3.0887 7.4568 1.9776 1.9776 4.6601 3.0887 7.4568 3.0887z\" clip-path=\"url(#paf4f0f1eed)\" fill=\"#1192e8\" stroke=\"#1192e8\" stroke-width=\"2\"/><path d=\"m677.18 198.41h30.13v-30.13h-30.13z\" clip-path=\"url(#paf4f0f1eed)\" fill=\"#6929c4\" stroke=\"#6929c4\" stroke-width=\"1.5\"/><path d=\"m738.6 141.51c1.1986 0 2.3482-0.4762 3.1958-1.3237s1.3237-1.9972 1.3237-3.1958c0-1.1986-0.4762-2.3482-1.3237-3.1958-0.84753-0.84753-1.9972-1.3237-3.1958-1.3237-1.1986 0-2.3482 0.4762-3.1958 1.3237-0.84753 0.84753-1.3237 1.9972-1.3237 3.1958 0 1.1986 0.4762 2.3482 1.3237 3.1958s1.9972 1.3237 3.1958 1.3237z\" clip-path=\"url(#paf4f0f1eed)\" fill=\"#1192e8\" stroke=\"#1192e8\" stroke-width=\"1.5\"/><path d=\"m738.6 193.89c2.7967 0 5.4792-1.1111 7.4568-3.0887 1.9776-1.9776 3.0887-4.6601 3.0887-7.4568 0-2.7967-1.1111-5.4792-3.0887-7.4568-1.9776-1.9776-4.6601-3.0887-7.4568-3.0887-2.7967 0-5.4792 1.1111-7.4568 3.0887-1.9776 1.9776-3.0887 4.6601-3.0887 7.4568 0 2.7967 1.1111 5.4792 3.0887 7.4568 1.9776 1.9776 4.6601 3.0887 7.4568 3.0887z\" clip-path=\"url(#paf4f0f1eed)\" fill=\"#1192e8\" stroke=\"#1192e8\" stroke-width=\"2\"/><g clip-path=\"url(#paf4f0f1eed)\"><g transform=\"translate(37.301 48.734) scale(.1625 -.1625)\"><defs><path id=\"DejaVuSans-Oblique-71\" transform=\"scale(.015625)\" d=\"m2669 525q-231-303-546-460-314-156-695-156-531 0-833 358-301 358-301 986 0 506 186 978t533 847q225 244 517 375t614 131q387 0 637-153t363-462l100 525h578l-934-4813h-579l360 1844zm-1778 813q0-463 193-705 194-242 560-242 544 0 928 520t384 1264q0 450-199 689-198 239-569 239-272 0-504-127-231-126-403-370-181-256-286-600-104-343-104-668z\"/><path id=\"DejaVuSans-30\" transform=\"scale(.015625)\" d=\"m2034 4250q-487 0-733-480-245-479-245-1442 0-959 245-1439 246-480 733-480 491 0 736 480 246 480 246 1439 0 963-246 1442-245 480-736 480zm0 500q785 0 1199-621 414-620 414-1801 0-1178-414-1799-414-620-1199-620-784 0-1198 620-414 621-414 1799 0 1181 414 1801 414 621 1198 621z\"/></defs><use xlink:href=\"#DejaVuSans-Oblique-71\"/><use transform=\"translate(63.477 -16.406) scale(.7)\" xlink:href=\"#DejaVuSans-30\"/></g></g><g clip-path=\"url(#paf4f0f1eed)\"><g transform=\"translate(37.301 95.088) scale(.1625 -.1625)\"><defs><path id=\"DejaVuSans-31\" transform=\"scale(.015625)\" d=\"m794 531h1031v3560l-1122-225v575l1116 225h631v-4135h1031v-531h-2687v531z\"/></defs><use xlink:href=\"#DejaVuSans-Oblique-71\"/><use transform=\"translate(63.477 -16.406) scale(.7)\" xlink:href=\"#DejaVuSans-31\"/></g></g><g clip-path=\"url(#paf4f0f1eed)\"><g transform=\"translate(37.301 141.44) scale(.1625 -.1625)\"><defs><path id=\"DejaVuSans-32\" transform=\"scale(.015625)\" d=\"m1228 531h2203v-531h-2962v531q359 372 979 998 621 627 780 809 303 340 423 576 121 236 121 464 0 372-261 606-261 235-680 235-297 0-627-103-329-103-704-313v638q381 153 712 231 332 78 607 78 725 0 1156-363 431-362 431-968 0-288-108-546-107-257-392-607-78-91-497-524-418-433-1181-1211z\"/></defs><use xlink:href=\"#DejaVuSans-Oblique-71\"/><use transform=\"translate(63.477 -16.406) scale(.7)\" xlink:href=\"#DejaVuSans-32\"/></g></g><g clip-path=\"url(#paf4f0f1eed)\"><g transform=\"translate(37.301 187.8) scale(.1625 -.1625)\"><defs><path id=\"DejaVuSans-33\" transform=\"scale(.015625)\" d=\"m2597 2516q453-97 707-404 255-306 255-756 0-690-475-1069-475-378-1350-378-293 0-604 58t-642 174v609q262-153 574-231 313-78 654-78 593 0 904 234t311 681q0 413-289 645-289 233-804 233h-544v519h569q465 0 712 186t247 536q0 359-255 551-254 193-729 193-260 0-557-57-297-56-653-174v562q360 100 674 150t592 50q719 0 1137-327 419-326 419-882 0-388-222-655t-631-370z\"/></defs><use xlink:href=\"#DejaVuSans-Oblique-71\"/><use transform=\"translate(63.477 -16.406) scale(.7)\" xlink:href=\"#DejaVuSans-33\"/></g></g><path d=\"m89.64 96.663v-12.052\" clip-path=\"url(#paf4f0f1eed)\" fill=\"none\" stroke=\"#ffffff\" stroke-linecap=\"square\" stroke-width=\"2\"/><path d=\"m83.614 90.637h12.052\" clip-path=\"url(#paf4f0f1eed)\" fill=\"none\" stroke=\"#ffffff\" stroke-linecap=\"square\" stroke-width=\"2\"/><g clip-path=\"url(#paf4f0f1eed)\"><g transform=\"translate(129.07 101.87) scale(.08 -.08)\" fill=\"#ffffff\"><defs><path id=\"DejaVuSans-2a\" transform=\"scale(.015625)\" d=\"m3009 3897-1121-606 1121-610-181-306-1050 634v-1178h-356v1178l-1050-634-181 306 1122 610-1122 606 181 309 1050-634v1178h356v-1178l1050 634 181-309z\"/><path id=\"DejaVuSans-Oblique-3b3\" transform=\"scale(.015625)\" d=\"m1491 2950 347-2162 1618 2712h610l-2094-3500-259-1331h-575l259 1331-409 2613q-63 393-360 393h-153l94 494h219q615 0 703-550z\"/></defs><use transform=\"translate(0 .78125)\" xlink:href=\"#DejaVuSans-32\"/><use transform=\"translate(63.623 .78125)\" xlink:href=\"#DejaVuSans-2a\"/><use transform=\"translate(113.62 .78125)\" xlink:href=\"#DejaVuSans-Oblique-3b3\"/></g></g><g clip-path=\"url(#paf4f0f1eed)\"><g transform=\"translate(128.06 89.705) scale(.13 -.13)\" fill=\"#ffffff\"><defs><path id=\"DejaVuSans-52\" transform=\"scale(.015625)\" d=\"m2841 2188q203-69 395-294t386-619l641-1275h-679l-596 1197q-232 469-449 622t-592 153h-688v-1972h-631v4666h1425q800 0 1194-335 394-334 394-1009 0-441-205-732-205-290-595-402zm-1582 1959v-1656h794q456 0 689 211t233 620-233 617-689 208h-794z\"/><path id=\"DejaVuSans-5a\" transform=\"scale(.015625)\" d=\"m359 4666h3666v-482l-2950-3653h3022v-531h-3809v481l2950 3653h-2879v532z\"/></defs><use transform=\"translate(0 .09375)\" xlink:href=\"#DejaVuSans-52\"/><use transform=\"translate(70.439 -16.312) scale(.7)\" xlink:href=\"#DejaVuSans-5a\"/></g></g><path d=\"m182.35 96.663v-12.052\" clip-path=\"url(#paf4f0f1eed)\" fill=\"none\" stroke=\"#ffffff\" stroke-linecap=\"square\" stroke-width=\"2\"/><path d=\"m176.32 90.637h12.052\" clip-path=\"url(#paf4f0f1eed)\" fill=\"none\" stroke=\"#ffffff\" stroke-linecap=\"square\" stroke-width=\"2\"/><path d=\"m228.7 21.106v46.354\" clip-path=\"url(#paf4f0f1eed)\" fill=\"none\" stroke=\"#000000\" stroke-dasharray=\"3.7,1.6\"/><path d=\"m228.7 67.46v46.354\" clip-path=\"url(#paf4f0f1eed)\" fill=\"none\" stroke=\"#000000\" stroke-dasharray=\"3.7,1.6\"/><path d=\"m228.7 113.81v46.354\" clip-path=\"url(#paf4f0f1eed)\" fill=\"none\" stroke=\"#000000\" stroke-dasharray=\"3.7,1.6\"/><path d=\"m228.7 160.17v46.354\" clip-path=\"url(#paf4f0f1eed)\" fill=\"none\" stroke=\"#000000\" stroke-dasharray=\"3.7,1.6\"/><path d=\"m275.06 189.37v-12.052\" clip-path=\"url(#paf4f0f1eed)\" fill=\"none\" stroke=\"#ffffff\" stroke-linecap=\"square\" stroke-width=\"2\"/><path d=\"m269.03 183.35h12.052\" clip-path=\"url(#paf4f0f1eed)\" fill=\"none\" stroke=\"#ffffff\" stroke-linecap=\"square\" stroke-width=\"2\"/><g clip-path=\"url(#paf4f0f1eed)\"><g transform=\"translate(314.49 194.58) scale(.08 -.08)\" fill=\"#ffffff\"><use transform=\"translate(0 .78125)\" xlink:href=\"#DejaVuSans-32\"/><use transform=\"translate(63.623 .78125)\" xlink:href=\"#DejaVuSans-2a\"/><use transform=\"translate(113.62 .78125)\" xlink:href=\"#DejaVuSans-Oblique-3b3\"/></g></g><g clip-path=\"url(#paf4f0f1eed)\"><g transform=\"translate(313.48 182.41) scale(.13 -.13)\" fill=\"#ffffff\"><use transform=\"translate(0 .09375)\" xlink:href=\"#DejaVuSans-52\"/><use transform=\"translate(70.439 -16.312) scale(.7)\" xlink:href=\"#DejaVuSans-5a\"/></g></g><path d=\"m367.76 189.37v-12.052\" clip-path=\"url(#paf4f0f1eed)\" fill=\"none\" stroke=\"#ffffff\" stroke-linecap=\"square\" stroke-width=\"2\"/><path d=\"m361.74 183.35h12.052\" clip-path=\"url(#paf4f0f1eed)\" fill=\"none\" stroke=\"#ffffff\" stroke-linecap=\"square\" stroke-width=\"2\"/><path d=\"m414.12 21.106v46.354\" clip-path=\"url(#paf4f0f1eed)\" fill=\"none\" stroke=\"#000000\" stroke-dasharray=\"3.7,1.6\"/><path d=\"m414.12 67.46v46.354\" clip-path=\"url(#paf4f0f1eed)\" fill=\"none\" stroke=\"#000000\" stroke-dasharray=\"3.7,1.6\"/><path d=\"m414.12 113.81v46.354\" clip-path=\"url(#paf4f0f1eed)\" fill=\"none\" stroke=\"#000000\" stroke-dasharray=\"3.7,1.6\"/><path d=\"m414.12 160.17v46.354\" clip-path=\"url(#paf4f0f1eed)\" fill=\"none\" stroke=\"#000000\" stroke-dasharray=\"3.7,1.6\"/><path d=\"m460.47 143.02v-12.052\" clip-path=\"url(#paf4f0f1eed)\" fill=\"none\" stroke=\"#ffffff\" stroke-linecap=\"square\" stroke-width=\"2\"/><path d=\"m454.45 136.99h12.052\" clip-path=\"url(#paf4f0f1eed)\" fill=\"none\" stroke=\"#ffffff\" stroke-linecap=\"square\" stroke-width=\"2\"/><g clip-path=\"url(#paf4f0f1eed)\"><g transform=\"translate(499.91 148.22) scale(.08 -.08)\" fill=\"#ffffff\"><use transform=\"translate(0 .78125)\" xlink:href=\"#DejaVuSans-32\"/><use transform=\"translate(63.623 .78125)\" xlink:href=\"#DejaVuSans-2a\"/><use transform=\"translate(113.62 .78125)\" xlink:href=\"#DejaVuSans-Oblique-3b3\"/></g></g><g clip-path=\"url(#paf4f0f1eed)\"><g transform=\"translate(498.9 136.06) scale(.13 -.13)\" fill=\"#ffffff\"><use transform=\"translate(0 .09375)\" xlink:href=\"#DejaVuSans-52\"/><use transform=\"translate(70.439 -16.312) scale(.7)\" xlink:href=\"#DejaVuSans-5a\"/></g></g><path d=\"m553.18 143.02v-12.052\" clip-path=\"url(#paf4f0f1eed)\" fill=\"none\" stroke=\"#ffffff\" stroke-linecap=\"square\" stroke-width=\"2\"/><path d=\"m547.15 136.99h12.052\" clip-path=\"url(#paf4f0f1eed)\" fill=\"none\" stroke=\"#ffffff\" stroke-linecap=\"square\" stroke-width=\"2\"/><path d=\"m599.53 21.106v46.354\" clip-path=\"url(#paf4f0f1eed)\" fill=\"none\" stroke=\"#000000\" stroke-dasharray=\"3.7,1.6\"/><path d=\"m599.53 67.46v46.354\" clip-path=\"url(#paf4f0f1eed)\" fill=\"none\" stroke=\"#000000\" stroke-dasharray=\"3.7,1.6\"/><path d=\"m599.53 113.81v46.354\" clip-path=\"url(#paf4f0f1eed)\" fill=\"none\" stroke=\"#000000\" stroke-dasharray=\"3.7,1.6\"/><path d=\"m599.53 160.17v46.354\" clip-path=\"url(#paf4f0f1eed)\" fill=\"none\" stroke=\"#000000\" stroke-dasharray=\"3.7,1.6\"/><path d=\"m645.89 189.37v-12.052\" clip-path=\"url(#paf4f0f1eed)\" fill=\"none\" stroke=\"#ffffff\" stroke-linecap=\"square\" stroke-width=\"2\"/><path d=\"m639.86 183.35h12.052\" clip-path=\"url(#paf4f0f1eed)\" fill=\"none\" stroke=\"#ffffff\" stroke-linecap=\"square\" stroke-width=\"2\"/><g clip-path=\"url(#paf4f0f1eed)\"><g transform=\"translate(685.32 194.58) scale(.08 -.08)\" fill=\"#ffffff\"><use transform=\"translate(0 .78125)\" xlink:href=\"#DejaVuSans-32\"/><use transform=\"translate(63.623 .78125)\" xlink:href=\"#DejaVuSans-2a\"/><use transform=\"translate(113.62 .78125)\" xlink:href=\"#DejaVuSans-Oblique-3b3\"/></g></g><g clip-path=\"url(#paf4f0f1eed)\"><g transform=\"translate(684.31 182.41) scale(.13 -.13)\" fill=\"#ffffff\"><use transform=\"translate(0 .09375)\" xlink:href=\"#DejaVuSans-52\"/><use transform=\"translate(70.439 -16.312) scale(.7)\" xlink:href=\"#DejaVuSans-5a\"/></g></g><path d=\"m738.6 189.37v-12.052\" clip-path=\"url(#paf4f0f1eed)\" fill=\"none\" stroke=\"#ffffff\" stroke-linecap=\"square\" stroke-width=\"2\"/><path d=\"m732.57 183.35h12.052\" clip-path=\"url(#paf4f0f1eed)\" fill=\"none\" stroke=\"#ffffff\" stroke-linecap=\"square\" stroke-width=\"2\"/><path d=\"m784.95 21.106v46.354\" clip-path=\"url(#paf4f0f1eed)\" fill=\"none\" stroke=\"#000000\" stroke-dasharray=\"3.7,1.6\"/><path d=\"m784.95 67.46v46.354\" clip-path=\"url(#paf4f0f1eed)\" fill=\"none\" stroke=\"#000000\" stroke-dasharray=\"3.7,1.6\"/><path d=\"m784.95 113.81v46.354\" clip-path=\"url(#paf4f0f1eed)\" fill=\"none\" stroke=\"#000000\" stroke-dasharray=\"3.7,1.6\"/><path d=\"m784.95 160.17v46.354\" clip-path=\"url(#paf4f0f1eed)\" fill=\"none\" stroke=\"#000000\" stroke-dasharray=\"3.7,1.6\"/><defs><clipPath id=\"paf4f0f1eed\"><rect x=\"7.2\" y=\"7.2\" width=\"808.34\" height=\"203.96\"/></clipPath></defs></svg>"
      ],
      "text/plain": [
       "<Figure size 1458.05x367.889 with 1 Axes>"
      ]
     },
     "execution_count": 3,
     "metadata": {},
     "output_type": "execute_result"
    }
   ],
   "source": [
    "gamma = Parameter(\"$\\\\gamma$\")\n",
    "qc_p = QuantumCircuit(N_QUBITS)\n",
    "for pair in list(graph.edges()):  # pairs of nodes\n",
    "    qc_p.rzz(2 * gamma, pair[0], pair[1])\n",
    "    qc_p.barrier()\n",
    "\n",
    "qc_p.decompose().draw()"
   ]
  },
  {
   "cell_type": "markdown",
   "metadata": {},
   "source": [
    "### The Initial State\n",
    "\n",
    "The initial state used during QAOA is usually an equal superposition of all the basis states i.e.\n",
    "\n",
    "$$\\lvert \\psi_0 \\rangle = \\bigg(\\frac{1}{\\sqrt{2}}\\big(\\lvert 0 \\rangle + \\lvert 1 \\rangle\\big)\\bigg)^{\\otimes n}$$\n",
    "\n",
    "Such a state, when number of qubits is 4 ($n=4$), can be prepared by applying Hadamard gates starting from an all zero state as shown in \n",
    "the circuit below. "
   ]
  },
  {
   "cell_type": "code",
   "execution_count": 4,
   "metadata": {},
   "outputs": [
    {
     "data": {
      "image/svg+xml": [
       "<?xml version=\"1.0\" encoding=\"UTF-8\"?><!DOCTYPE svg  PUBLIC '-//W3C//DTD SVG 1.1//EN'  'http://www.w3.org/Graphics/SVG/1.1/DTD/svg11.dtd'><svg width=\"127.43pt\" height=\"218.36pt\" version=\"1.1\" viewBox=\"0 0 127.43 218.36\" xmlns=\"http://www.w3.org/2000/svg\" xmlns:xlink=\"http://www.w3.org/1999/xlink\"><defs><style type=\"text/css\">*{stroke-linejoin: round; stroke-linecap: butt}</style></defs><path d=\"m0 218.36h127.43v-218.36h-127.43z\" fill=\"#ffffff\"/><path d=\"m64.609 44.283h50.989\" clip-path=\"url(#p32bcb9006d)\" fill=\"none\" stroke=\"#000000\" stroke-linecap=\"square\" stroke-width=\"2\"/><path d=\"m64.609 90.637h50.989\" clip-path=\"url(#p32bcb9006d)\" fill=\"none\" stroke=\"#000000\" stroke-linecap=\"square\" stroke-width=\"2\"/><path d=\"m64.609 136.99h50.989\" clip-path=\"url(#p32bcb9006d)\" fill=\"none\" stroke=\"#000000\" stroke-linecap=\"square\" stroke-width=\"2\"/><path d=\"m64.609 183.35h50.989\" clip-path=\"url(#p32bcb9006d)\" fill=\"none\" stroke=\"#000000\" stroke-linecap=\"square\" stroke-width=\"2\"/><path d=\"m74.575 59.348h30.13v-30.13h-30.13z\" clip-path=\"url(#p32bcb9006d)\" fill=\"#1192e8\" stroke=\"#1192e8\" stroke-width=\"1.5\"/><path d=\"m74.575 105.7h30.13v-30.13h-30.13z\" clip-path=\"url(#p32bcb9006d)\" fill=\"#1192e8\" stroke=\"#1192e8\" stroke-width=\"1.5\"/><path d=\"m74.575 152.06h30.13v-30.13h-30.13z\" clip-path=\"url(#p32bcb9006d)\" fill=\"#1192e8\" stroke=\"#1192e8\" stroke-width=\"1.5\"/><path d=\"m74.575 198.41h30.13v-30.13h-30.13z\" clip-path=\"url(#p32bcb9006d)\" fill=\"#1192e8\" stroke=\"#1192e8\" stroke-width=\"1.5\"/><g clip-path=\"url(#p32bcb9006d)\"><g transform=\"translate(37.301 48.734) scale(.1625 -.1625)\"><defs><path id=\"DejaVuSans-Oblique-71\" transform=\"scale(.015625)\" d=\"m2669 525q-231-303-546-460-314-156-695-156-531 0-833 358-301 358-301 986 0 506 186 978t533 847q225 244 517 375t614 131q387 0 637-153t363-462l100 525h578l-934-4813h-579l360 1844zm-1778 813q0-463 193-705 194-242 560-242 544 0 928 520t384 1264q0 450-199 689-198 239-569 239-272 0-504-127-231-126-403-370-181-256-286-600-104-343-104-668z\"/><path id=\"DejaVuSans-30\" transform=\"scale(.015625)\" d=\"m2034 4250q-487 0-733-480-245-479-245-1442 0-959 245-1439 246-480 733-480 491 0 736 480 246 480 246 1439 0 963-246 1442-245 480-736 480zm0 500q785 0 1199-621 414-620 414-1801 0-1178-414-1799-414-620-1199-620-784 0-1198 620-414 621-414 1799 0 1181 414 1801 414 621 1198 621z\"/></defs><use xlink:href=\"#DejaVuSans-Oblique-71\"/><use transform=\"translate(63.477 -16.406) scale(.7)\" xlink:href=\"#DejaVuSans-30\"/></g></g><g clip-path=\"url(#p32bcb9006d)\"><g transform=\"translate(37.301 95.088) scale(.1625 -.1625)\"><defs><path id=\"DejaVuSans-31\" transform=\"scale(.015625)\" d=\"m794 531h1031v3560l-1122-225v575l1116 225h631v-4135h1031v-531h-2687v531z\"/></defs><use xlink:href=\"#DejaVuSans-Oblique-71\"/><use transform=\"translate(63.477 -16.406) scale(.7)\" xlink:href=\"#DejaVuSans-31\"/></g></g><g clip-path=\"url(#p32bcb9006d)\"><g transform=\"translate(37.301 141.44) scale(.1625 -.1625)\"><defs><path id=\"DejaVuSans-32\" transform=\"scale(.015625)\" d=\"m1228 531h2203v-531h-2962v531q359 372 979 998 621 627 780 809 303 340 423 576 121 236 121 464 0 372-261 606-261 235-680 235-297 0-627-103-329-103-704-313v638q381 153 712 231 332 78 607 78 725 0 1156-363 431-362 431-968 0-288-108-546-107-257-392-607-78-91-497-524-418-433-1181-1211z\"/></defs><use xlink:href=\"#DejaVuSans-Oblique-71\"/><use transform=\"translate(63.477 -16.406) scale(.7)\" xlink:href=\"#DejaVuSans-32\"/></g></g><g clip-path=\"url(#p32bcb9006d)\"><g transform=\"translate(37.301 187.8) scale(.1625 -.1625)\"><defs><path id=\"DejaVuSans-33\" transform=\"scale(.015625)\" d=\"m2597 2516q453-97 707-404 255-306 255-756 0-690-475-1069-475-378-1350-378-293 0-604 58t-642 174v609q262-153 574-231 313-78 654-78 593 0 904 234t311 681q0 413-289 645-289 233-804 233h-544v519h569q465 0 712 186t247 536q0 359-255 551-254 193-729 193-260 0-557-57-297-56-653-174v562q360 100 674 150t592 50q719 0 1137-327 419-326 419-882 0-388-222-655t-631-370z\"/></defs><use xlink:href=\"#DejaVuSans-Oblique-71\"/><use transform=\"translate(63.477 -16.406) scale(.7)\" xlink:href=\"#DejaVuSans-33\"/></g></g><g clip-path=\"url(#p32bcb9006d)\"><g transform=\"translate(84.752 47.87) scale(.13 -.13)\" fill=\"#ffffff\"><defs><path id=\"DejaVuSans-48\" transform=\"scale(.015625)\" d=\"m628 4666h631v-1913h2294v1913h631v-4666h-631v2222h-2294v-2222h-631v4666z\"/></defs><use xlink:href=\"#DejaVuSans-48\"/></g></g><g clip-path=\"url(#p32bcb9006d)\"><g transform=\"translate(84.752 94.224) scale(.13 -.13)\" fill=\"#ffffff\"><use xlink:href=\"#DejaVuSans-48\"/></g></g><g clip-path=\"url(#p32bcb9006d)\"><g transform=\"translate(84.752 140.58) scale(.13 -.13)\" fill=\"#ffffff\"><use xlink:href=\"#DejaVuSans-48\"/></g></g><g clip-path=\"url(#p32bcb9006d)\"><g transform=\"translate(84.752 186.93) scale(.13 -.13)\" fill=\"#ffffff\"><use xlink:href=\"#DejaVuSans-48\"/></g></g><defs><clipPath id=\"p32bcb9006d\"><rect x=\"7.2\" y=\"7.2\" width=\"113.03\" height=\"203.96\"/></clipPath></defs></svg>"
      ],
      "text/plain": [
       "<Figure size 203.885x367.889 with 1 Axes>"
      ]
     },
     "execution_count": 4,
     "metadata": {},
     "output_type": "execute_result"
    }
   ],
   "source": [
    "qc_0 = QuantumCircuit(N_QUBITS)\n",
    "for i in range(N_QUBITS):\n",
    "    qc_0.h(i)\n",
    "\n",
    "qc_0.draw()"
   ]
  },
  {
   "cell_type": "markdown",
   "metadata": {},
   "source": [
    "### The QAOA circuit\n",
    "\n",
    "So far we have seen that the preparation of a quantum state during QAOA is composed of three elements\n",
    "- Preparing an initial state\n",
    "- Applying the unitary `{latex} U(H_P) = e^{-i \\gamma H_P}` corresponding to the problem Hamiltonian\n",
    "- Then, applying the mixing unitary `{latex} U(H_B) = e^{-i \\beta H_B}`\n",
    "\n",
    "Let's see what it looks like for the example problem:"
   ]
  },
  {
   "cell_type": "code",
   "execution_count": 5,
   "metadata": {},
   "outputs": [
    {
     "data": {
      "image/svg+xml": [
       "<?xml version=\"1.0\" encoding=\"UTF-8\"?><!DOCTYPE svg  PUBLIC '-//W3C//DTD SVG 1.1//EN'  'http://www.w3.org/Graphics/SVG/1.1/DTD/svg11.dtd'><svg width=\"915.45pt\" height=\"218.36pt\" version=\"1.1\" viewBox=\"0 0 915.45 218.36\" xmlns=\"http://www.w3.org/2000/svg\" xmlns:xlink=\"http://www.w3.org/1999/xlink\"><defs><style type=\"text/css\">*{stroke-linejoin: round; stroke-linecap: butt}</style></defs><path d=\"m0 218.36h915.45v-218.36h-915.45z\" fill=\"#ffffff\"/><path d=\"m64.609 44.283h839.01\" clip-path=\"url(#pd0baa2b300)\" fill=\"none\" stroke=\"#000000\" stroke-linecap=\"square\" stroke-width=\"2\"/><path d=\"m64.609 90.637h839.01\" clip-path=\"url(#pd0baa2b300)\" fill=\"none\" stroke=\"#000000\" stroke-linecap=\"square\" stroke-width=\"2\"/><path d=\"m64.609 136.99h839.01\" clip-path=\"url(#pd0baa2b300)\" fill=\"none\" stroke=\"#000000\" stroke-linecap=\"square\" stroke-width=\"2\"/><path d=\"m64.609 183.35h839.01\" clip-path=\"url(#pd0baa2b300)\" fill=\"none\" stroke=\"#000000\" stroke-linecap=\"square\" stroke-width=\"2\"/><path d=\"m135.99 90.637v-46.354\" clip-path=\"url(#pd0baa2b300)\" fill=\"none\" stroke=\"#1192e8\" stroke-linecap=\"square\" stroke-width=\"2\"/><path d=\"m228.7 90.637v-46.354\" clip-path=\"url(#pd0baa2b300)\" fill=\"none\" stroke=\"#1192e8\" stroke-linecap=\"square\" stroke-width=\"2\"/><path d=\"m266.02 67.46h18.078v-46.354h-18.078z\" clip-path=\"url(#pd0baa2b300)\" fill=\"#bdbdbd\" opacity=\".6\"/><path d=\"m266.02 113.81h18.078v-46.354h-18.078z\" clip-path=\"url(#pd0baa2b300)\" fill=\"#bdbdbd\" opacity=\".6\"/><path d=\"m266.02 160.17h18.078v-46.354h-18.078z\" clip-path=\"url(#pd0baa2b300)\" fill=\"#bdbdbd\" opacity=\".6\"/><path d=\"m266.02 206.52h18.078v-46.354h-18.078z\" clip-path=\"url(#pd0baa2b300)\" fill=\"#bdbdbd\" opacity=\".6\"/><path d=\"m321.41 183.35v-139.06\" clip-path=\"url(#pd0baa2b300)\" fill=\"none\" stroke=\"#1192e8\" stroke-linecap=\"square\" stroke-width=\"2\"/><path d=\"m414.12 183.35v-139.06\" clip-path=\"url(#pd0baa2b300)\" fill=\"none\" stroke=\"#1192e8\" stroke-linecap=\"square\" stroke-width=\"2\"/><path d=\"m451.43 67.46h18.078v-46.354h-18.078z\" clip-path=\"url(#pd0baa2b300)\" fill=\"#bdbdbd\" opacity=\".6\"/><path d=\"m451.43 113.81h18.078v-46.354h-18.078z\" clip-path=\"url(#pd0baa2b300)\" fill=\"#bdbdbd\" opacity=\".6\"/><path d=\"m451.43 160.17h18.078v-46.354h-18.078z\" clip-path=\"url(#pd0baa2b300)\" fill=\"#bdbdbd\" opacity=\".6\"/><path d=\"m451.43 206.52h18.078v-46.354h-18.078z\" clip-path=\"url(#pd0baa2b300)\" fill=\"#bdbdbd\" opacity=\".6\"/><path d=\"m506.83 136.99v-46.354\" clip-path=\"url(#pd0baa2b300)\" fill=\"none\" stroke=\"#1192e8\" stroke-linecap=\"square\" stroke-width=\"2\"/><path d=\"m599.53 136.99v-46.354\" clip-path=\"url(#pd0baa2b300)\" fill=\"none\" stroke=\"#1192e8\" stroke-linecap=\"square\" stroke-width=\"2\"/><path d=\"m636.85 67.46h18.078v-46.354h-18.078z\" clip-path=\"url(#pd0baa2b300)\" fill=\"#bdbdbd\" opacity=\".6\"/><path d=\"m636.85 113.81h18.078v-46.354h-18.078z\" clip-path=\"url(#pd0baa2b300)\" fill=\"#bdbdbd\" opacity=\".6\"/><path d=\"m636.85 160.17h18.078v-46.354h-18.078z\" clip-path=\"url(#pd0baa2b300)\" fill=\"#bdbdbd\" opacity=\".6\"/><path d=\"m636.85 206.52h18.078v-46.354h-18.078z\" clip-path=\"url(#pd0baa2b300)\" fill=\"#bdbdbd\" opacity=\".6\"/><path d=\"m692.24 183.35v-46.354\" clip-path=\"url(#pd0baa2b300)\" fill=\"none\" stroke=\"#1192e8\" stroke-linecap=\"square\" stroke-width=\"2\"/><path d=\"m784.95 183.35v-46.354\" clip-path=\"url(#pd0baa2b300)\" fill=\"none\" stroke=\"#1192e8\" stroke-linecap=\"square\" stroke-width=\"2\"/><path d=\"m822.27 67.46h18.078v-46.354h-18.078z\" clip-path=\"url(#pd0baa2b300)\" fill=\"#bdbdbd\" opacity=\".6\"/><path d=\"m822.27 113.81h18.078v-46.354h-18.078z\" clip-path=\"url(#pd0baa2b300)\" fill=\"#bdbdbd\" opacity=\".6\"/><path d=\"m822.27 160.17h18.078v-46.354h-18.078z\" clip-path=\"url(#pd0baa2b300)\" fill=\"#bdbdbd\" opacity=\".6\"/><path d=\"m822.27 206.52h18.078v-46.354h-18.078z\" clip-path=\"url(#pd0baa2b300)\" fill=\"#bdbdbd\" opacity=\".6\"/><path d=\"m74.575 59.348h30.13v-30.13h-30.13z\" clip-path=\"url(#pd0baa2b300)\" fill=\"#9f1853\" stroke=\"#9f1853\" stroke-width=\"1.5\"/><path d=\"m74.575 105.7h30.13v-30.13h-30.13z\" clip-path=\"url(#pd0baa2b300)\" fill=\"#9f1853\" stroke=\"#9f1853\" stroke-width=\"1.5\"/><path d=\"m74.575 152.06h30.13v-30.13h-30.13z\" clip-path=\"url(#pd0baa2b300)\" fill=\"#9f1853\" stroke=\"#9f1853\" stroke-width=\"1.5\"/><path d=\"m74.575 198.41h30.13v-30.13h-30.13z\" clip-path=\"url(#pd0baa2b300)\" fill=\"#9f1853\" stroke=\"#9f1853\" stroke-width=\"1.5\"/><path d=\"m135.99 48.803c1.1986 0 2.3482-0.4762 3.1958-1.3237 0.84753-0.84753 1.3237-1.9972 1.3237-3.1958 0-1.1986-0.4762-2.3482-1.3237-3.1958-0.84753-0.84753-1.9972-1.3237-3.1958-1.3237-1.1986 0-2.3482 0.4762-3.1958 1.3237s-1.3237 1.9972-1.3237 3.1958c0 1.1986 0.4762 2.3482 1.3237 3.1958s1.9972 1.3237 3.1958 1.3237z\" clip-path=\"url(#pd0baa2b300)\" fill=\"#1192e8\" stroke=\"#1192e8\" stroke-width=\"1.5\"/><path d=\"m135.99 101.18c2.7967 0 5.4792-1.1111 7.4568-3.0887 1.9776-1.9776 3.0887-4.6601 3.0887-7.4568 0-2.7967-1.1111-5.4792-3.0887-7.4568-1.9776-1.9776-4.6601-3.0887-7.4568-3.0887-2.7967 0-5.4792 1.1111-7.4568 3.0887-1.9776 1.9776-3.0887 4.6601-3.0887 7.4568 0 2.7967 1.1111 5.4792 3.0887 7.4568 1.9776 1.9776 4.6601 3.0887 7.4568 3.0887z\" clip-path=\"url(#pd0baa2b300)\" fill=\"#1192e8\" stroke=\"#1192e8\" stroke-width=\"2\"/><path d=\"m167.28 105.7h30.13v-30.13h-30.13z\" clip-path=\"url(#pd0baa2b300)\" fill=\"#6929c4\" stroke=\"#6929c4\" stroke-width=\"1.5\"/><path d=\"m228.7 48.803c1.1986 0 2.3482-0.4762 3.1958-1.3237s1.3237-1.9972 1.3237-3.1958c0-1.1986-0.4762-2.3482-1.3237-3.1958s-1.9972-1.3237-3.1958-1.3237c-1.1986 0-2.3482 0.4762-3.1958 1.3237-0.84753 0.84753-1.3237 1.9972-1.3237 3.1958 0 1.1986 0.4762 2.3482 1.3237 3.1958 0.84753 0.84753 1.9972 1.3237 3.1958 1.3237z\" clip-path=\"url(#pd0baa2b300)\" fill=\"#1192e8\" stroke=\"#1192e8\" stroke-width=\"1.5\"/><path d=\"m228.7 101.18c2.7967 0 5.4792-1.1111 7.4568-3.0887 1.9776-1.9776 3.0887-4.6601 3.0887-7.4568 0-2.7967-1.1111-5.4792-3.0887-7.4568-1.9776-1.9776-4.6601-3.0887-7.4568-3.0887-2.7967 0-5.4792 1.1111-7.4568 3.0887-1.9776 1.9776-3.0887 4.6601-3.0887 7.4568 0 2.7967 1.1111 5.4792 3.0887 7.4568 1.9776 1.9776 4.6601 3.0887 7.4568 3.0887z\" clip-path=\"url(#pd0baa2b300)\" fill=\"#1192e8\" stroke=\"#1192e8\" stroke-width=\"2\"/><path d=\"m321.41 48.803c1.1986 0 2.3482-0.4762 3.1958-1.3237 0.84753-0.84753 1.3237-1.9972 1.3237-3.1958 0-1.1986-0.4762-2.3482-1.3237-3.1958-0.84753-0.84753-1.9972-1.3237-3.1958-1.3237s-2.3482 0.4762-3.1958 1.3237c-0.84753 0.84753-1.3237 1.9972-1.3237 3.1958 0 1.1986 0.4762 2.3482 1.3237 3.1958 0.84753 0.84753 1.9972 1.3237 3.1958 1.3237z\" clip-path=\"url(#pd0baa2b300)\" fill=\"#1192e8\" stroke=\"#1192e8\" stroke-width=\"1.5\"/><path d=\"m321.41 193.89c2.7967 0 5.4792-1.1111 7.4568-3.0887 1.9776-1.9776 3.0887-4.6601 3.0887-7.4568 0-2.7967-1.1111-5.4792-3.0887-7.4568-1.9776-1.9776-4.6601-3.0887-7.4568-3.0887-2.7967 0-5.4792 1.1111-7.4568 3.0887-1.9776 1.9776-3.0887 4.6601-3.0887 7.4568 0 2.7967 1.1111 5.4792 3.0887 7.4568 1.9776 1.9776 4.6601 3.0887 7.4568 3.0887z\" clip-path=\"url(#pd0baa2b300)\" fill=\"#1192e8\" stroke=\"#1192e8\" stroke-width=\"2\"/><path d=\"m352.7 198.41h30.13v-30.13h-30.13z\" clip-path=\"url(#pd0baa2b300)\" fill=\"#6929c4\" stroke=\"#6929c4\" stroke-width=\"1.5\"/><path d=\"m414.12 48.803c1.1986 0 2.3482-0.4762 3.1958-1.3237 0.84753-0.84753 1.3237-1.9972 1.3237-3.1958 0-1.1986-0.4762-2.3482-1.3237-3.1958-0.84753-0.84753-1.9972-1.3237-3.1958-1.3237-1.1986 0-2.3482 0.4762-3.1958 1.3237s-1.3237 1.9972-1.3237 3.1958c0 1.1986 0.4762 2.3482 1.3237 3.1958s1.9972 1.3237 3.1958 1.3237z\" clip-path=\"url(#pd0baa2b300)\" fill=\"#1192e8\" stroke=\"#1192e8\" stroke-width=\"1.5\"/><path d=\"m414.12 193.89c2.7967 0 5.4792-1.1111 7.4568-3.0887 1.9776-1.9776 3.0887-4.6601 3.0887-7.4568 0-2.7967-1.1111-5.4792-3.0887-7.4568-1.9776-1.9776-4.6601-3.0887-7.4568-3.0887-2.7967 0-5.4792 1.1111-7.4568 3.0887-1.9776 1.9776-3.0887 4.6601-3.0887 7.4568 0 2.7967 1.1111 5.4792 3.0887 7.4568 1.9776 1.9776 4.6601 3.0887 7.4568 3.0887z\" clip-path=\"url(#pd0baa2b300)\" fill=\"#1192e8\" stroke=\"#1192e8\" stroke-width=\"2\"/><path d=\"m506.83 95.157c1.1986 0 2.3482-0.4762 3.1958-1.3237 0.84753-0.84753 1.3237-1.9972 1.3237-3.1958s-0.4762-2.3482-1.3237-3.1958c-0.84753-0.84753-1.9972-1.3237-3.1958-1.3237-1.1986 0-2.3482 0.4762-3.1958 1.3237-0.84753 0.84753-1.3237 1.9972-1.3237 3.1958s0.4762 2.3482 1.3237 3.1958c0.84753 0.84753 1.9972 1.3237 3.1958 1.3237z\" clip-path=\"url(#pd0baa2b300)\" fill=\"#1192e8\" stroke=\"#1192e8\" stroke-width=\"1.5\"/><path d=\"m506.83 147.54c2.7967 0 5.4792-1.1111 7.4568-3.0887 1.9776-1.9776 3.0887-4.6601 3.0887-7.4568 0-2.7967-1.1111-5.4792-3.0887-7.4568-1.9776-1.9776-4.6601-3.0887-7.4568-3.0887-2.7967 0-5.4792 1.1111-7.4568 3.0887-1.9776 1.9776-3.0887 4.6601-3.0887 7.4568 0 2.7967 1.1111 5.4792 3.0887 7.4568 1.9776 1.9776 4.6601 3.0887 7.4568 3.0887z\" clip-path=\"url(#pd0baa2b300)\" fill=\"#1192e8\" stroke=\"#1192e8\" stroke-width=\"2\"/><path d=\"m538.12 152.06h30.13v-30.13h-30.13z\" clip-path=\"url(#pd0baa2b300)\" fill=\"#6929c4\" stroke=\"#6929c4\" stroke-width=\"1.5\"/><path d=\"m599.53 95.157c1.1986 0 2.3482-0.4762 3.1958-1.3237 0.84753-0.84753 1.3237-1.9972 1.3237-3.1958s-0.4762-2.3482-1.3237-3.1958c-0.84753-0.84753-1.9972-1.3237-3.1958-1.3237-1.1986 0-2.3482 0.4762-3.1958 1.3237-0.84753 0.84753-1.3237 1.9972-1.3237 3.1958s0.4762 2.3482 1.3237 3.1958c0.84753 0.84753 1.9972 1.3237 3.1958 1.3237z\" clip-path=\"url(#pd0baa2b300)\" fill=\"#1192e8\" stroke=\"#1192e8\" stroke-width=\"1.5\"/><path d=\"m599.53 147.54c2.7967 0 5.4792-1.1111 7.4568-3.0887 1.9776-1.9776 3.0887-4.6601 3.0887-7.4568 0-2.7967-1.1111-5.4792-3.0887-7.4568-1.9776-1.9776-4.6601-3.0887-7.4568-3.0887-2.7967 0-5.4792 1.1111-7.4568 3.0887-1.9776 1.9776-3.0887 4.6601-3.0887 7.4568 0 2.7967 1.1111 5.4792 3.0887 7.4568 1.9776 1.9776 4.6601 3.0887 7.4568 3.0887z\" clip-path=\"url(#pd0baa2b300)\" fill=\"#1192e8\" stroke=\"#1192e8\" stroke-width=\"2\"/><path d=\"m692.24 141.51c1.1986 0 2.3482-0.4762 3.1958-1.3237 0.84753-0.84753 1.3237-1.9972 1.3237-3.1958 0-1.1986-0.4762-2.3482-1.3237-3.1958-0.84753-0.84753-1.9972-1.3237-3.1958-1.3237s-2.3482 0.4762-3.1958 1.3237c-0.84753 0.84753-1.3237 1.9972-1.3237 3.1958 0 1.1986 0.4762 2.3482 1.3237 3.1958 0.84753 0.84753 1.9972 1.3237 3.1958 1.3237z\" clip-path=\"url(#pd0baa2b300)\" fill=\"#1192e8\" stroke=\"#1192e8\" stroke-width=\"1.5\"/><path d=\"m692.24 193.89c2.7967 0 5.4792-1.1111 7.4568-3.0887 1.9776-1.9776 3.0887-4.6601 3.0887-7.4568 0-2.7967-1.1111-5.4792-3.0887-7.4568-1.9776-1.9776-4.6601-3.0887-7.4568-3.0887-2.7967 0-5.4792 1.1111-7.4568 3.0887-1.9776 1.9776-3.0887 4.6601-3.0887 7.4568 0 2.7967 1.1111 5.4792 3.0887 7.4568 1.9776 1.9776 4.6601 3.0887 7.4568 3.0887z\" clip-path=\"url(#pd0baa2b300)\" fill=\"#1192e8\" stroke=\"#1192e8\" stroke-width=\"2\"/><path d=\"m723.53 198.41h30.13v-30.13h-30.13z\" clip-path=\"url(#pd0baa2b300)\" fill=\"#6929c4\" stroke=\"#6929c4\" stroke-width=\"1.5\"/><path d=\"m784.95 141.51c1.1986 0 2.3482-0.4762 3.1958-1.3237 0.84753-0.84753 1.3237-1.9972 1.3237-3.1958 0-1.1986-0.4762-2.3482-1.3237-3.1958-0.84753-0.84753-1.9972-1.3237-3.1958-1.3237s-2.3482 0.4762-3.1958 1.3237c-0.84753 0.84753-1.3237 1.9972-1.3237 3.1958 0 1.1986 0.4762 2.3482 1.3237 3.1958 0.84753 0.84753 1.9972 1.3237 3.1958 1.3237z\" clip-path=\"url(#pd0baa2b300)\" fill=\"#1192e8\" stroke=\"#1192e8\" stroke-width=\"1.5\"/><path d=\"m784.95 193.89c2.7967 0 5.4792-1.1111 7.4568-3.0887 1.9776-1.9776 3.0887-4.6601 3.0887-7.4568 0-2.7967-1.1111-5.4792-3.0887-7.4568-1.9776-1.9776-4.6601-3.0887-7.4568-3.0887-2.7967 0-5.4792 1.1111-7.4568 3.0887-1.9776 1.9776-3.0887 4.6601-3.0887 7.4568 0 2.7967 1.1111 5.4792 3.0887 7.4568 1.9776 1.9776 4.6601 3.0887 7.4568 3.0887z\" clip-path=\"url(#pd0baa2b300)\" fill=\"#1192e8\" stroke=\"#1192e8\" stroke-width=\"2\"/><path d=\"m862.59 59.348h30.13v-30.13h-30.13z\" clip-path=\"url(#pd0baa2b300)\" fill=\"#6929c4\" stroke=\"#6929c4\" stroke-width=\"1.5\"/><path d=\"m862.59 105.7h30.13v-30.13h-30.13z\" clip-path=\"url(#pd0baa2b300)\" fill=\"#6929c4\" stroke=\"#6929c4\" stroke-width=\"1.5\"/><path d=\"m862.59 152.06h30.13v-30.13h-30.13z\" clip-path=\"url(#pd0baa2b300)\" fill=\"#6929c4\" stroke=\"#6929c4\" stroke-width=\"1.5\"/><path d=\"m862.59 198.41h30.13v-30.13h-30.13z\" clip-path=\"url(#pd0baa2b300)\" fill=\"#6929c4\" stroke=\"#6929c4\" stroke-width=\"1.5\"/><g clip-path=\"url(#pd0baa2b300)\"><g transform=\"translate(37.301 48.734) scale(.1625 -.1625)\"><defs><path id=\"DejaVuSans-Oblique-71\" transform=\"scale(.015625)\" d=\"m2669 525q-231-303-546-460-314-156-695-156-531 0-833 358-301 358-301 986 0 506 186 978t533 847q225 244 517 375t614 131q387 0 637-153t363-462l100 525h578l-934-4813h-579l360 1844zm-1778 813q0-463 193-705 194-242 560-242 544 0 928 520t384 1264q0 450-199 689-198 239-569 239-272 0-504-127-231-126-403-370-181-256-286-600-104-343-104-668z\"/><path id=\"DejaVuSans-30\" transform=\"scale(.015625)\" d=\"m2034 4250q-487 0-733-480-245-479-245-1442 0-959 245-1439 246-480 733-480 491 0 736 480 246 480 246 1439 0 963-246 1442-245 480-736 480zm0 500q785 0 1199-621 414-620 414-1801 0-1178-414-1799-414-620-1199-620-784 0-1198 620-414 621-414 1799 0 1181 414 1801 414 621 1198 621z\"/></defs><use xlink:href=\"#DejaVuSans-Oblique-71\"/><use transform=\"translate(63.477 -16.406) scale(.7)\" xlink:href=\"#DejaVuSans-30\"/></g></g><g clip-path=\"url(#pd0baa2b300)\"><g transform=\"translate(37.301 95.088) scale(.1625 -.1625)\"><defs><path id=\"DejaVuSans-31\" transform=\"scale(.015625)\" d=\"m794 531h1031v3560l-1122-225v575l1116 225h631v-4135h1031v-531h-2687v531z\"/></defs><use xlink:href=\"#DejaVuSans-Oblique-71\"/><use transform=\"translate(63.477 -16.406) scale(.7)\" xlink:href=\"#DejaVuSans-31\"/></g></g><g clip-path=\"url(#pd0baa2b300)\"><g transform=\"translate(37.301 141.44) scale(.1625 -.1625)\"><defs><path id=\"DejaVuSans-32\" transform=\"scale(.015625)\" d=\"m1228 531h2203v-531h-2962v531q359 372 979 998 621 627 780 809 303 340 423 576 121 236 121 464 0 372-261 606-261 235-680 235-297 0-627-103-329-103-704-313v638q381 153 712 231 332 78 607 78 725 0 1156-363 431-362 431-968 0-288-108-546-107-257-392-607-78-91-497-524-418-433-1181-1211z\"/></defs><use xlink:href=\"#DejaVuSans-Oblique-71\"/><use transform=\"translate(63.477 -16.406) scale(.7)\" xlink:href=\"#DejaVuSans-32\"/></g></g><g clip-path=\"url(#pd0baa2b300)\"><g transform=\"translate(37.301 187.8) scale(.1625 -.1625)\"><defs><path id=\"DejaVuSans-33\" transform=\"scale(.015625)\" d=\"m2597 2516q453-97 707-404 255-306 255-756 0-690-475-1069-475-378-1350-378-293 0-604 58t-642 174v609q262-153 574-231 313-78 654-78 593 0 904 234t311 681q0 413-289 645-289 233-804 233h-544v519h569q465 0 712 186t247 536q0 359-255 551-254 193-729 193-260 0-557-57-297-56-653-174v562q360 100 674 150t592 50q719 0 1137-327 419-326 419-882 0-388-222-655t-631-370z\"/></defs><use xlink:href=\"#DejaVuSans-Oblique-71\"/><use transform=\"translate(63.477 -16.406) scale(.7)\" xlink:href=\"#DejaVuSans-33\"/></g></g><g clip-path=\"url(#pd0baa2b300)\"><g transform=\"translate(82.12 55.53) scale(.08 -.08)\" fill=\"#ffffff\"><defs><path id=\"DejaVuSans-2c\" transform=\"scale(.015625)\" d=\"m750 794h659v-538l-512-1e3h-403l256 1e3v538z\"/><path id=\"DejaVuSans-Oblique-3c0\" transform=\"scale(.015625)\" d=\"m584 3500h3354l-113-575h-441l-418-2150q-44-225 15-325 57-97 228-97 47 0 116 10 72 6 94 9l-81-416q-116-40-235-59-122-19-237-19-375 0-478 203-104 207 3 757l406 2087h-1291l-568-2925h-588l569 2925h-447l112 575z\"/></defs><use transform=\"translate(0 .78125)\" xlink:href=\"#DejaVuSans-30\"/><use transform=\"translate(63.623 .78125)\" xlink:href=\"#DejaVuSans-2c\"/><use transform=\"translate(95.41 .78125)\" xlink:href=\"#DejaVuSans-20\"/><use transform=\"translate(127.2 .78125)\" xlink:href=\"#DejaVuSans-Oblique-3c0\"/></g></g><g clip-path=\"url(#pd0baa2b300)\"><g transform=\"translate(81.71 43.351) scale(.13 -.13)\" fill=\"#ffffff\"><defs><path id=\"DejaVuSans-55\" transform=\"scale(.015625)\" d=\"m556 4666h635v-2835q0-750 271-1080 272-329 882-329 606 0 878 329 272 330 272 1080v2835h634v-2913q0-912-452-1378-451-466-1332-466-885 0-1337 466-451 466-451 1378v2913z\"/></defs><use transform=\"translate(0 .09375)\" xlink:href=\"#DejaVuSans-55\"/><use transform=\"translate(74.15 -16.312) scale(.7)\" xlink:href=\"#DejaVuSans-32\"/></g></g><g clip-path=\"url(#pd0baa2b300)\"><g transform=\"translate(82.12 101.88) scale(.08 -.08)\" fill=\"#ffffff\"><use transform=\"translate(0 .78125)\" xlink:href=\"#DejaVuSans-30\"/><use transform=\"translate(63.623 .78125)\" xlink:href=\"#DejaVuSans-2c\"/><use transform=\"translate(95.41 .78125)\" xlink:href=\"#DejaVuSans-20\"/><use transform=\"translate(127.2 .78125)\" xlink:href=\"#DejaVuSans-Oblique-3c0\"/></g></g><g clip-path=\"url(#pd0baa2b300)\"><g transform=\"translate(81.71 89.705) scale(.13 -.13)\" fill=\"#ffffff\"><use transform=\"translate(0 .09375)\" xlink:href=\"#DejaVuSans-55\"/><use transform=\"translate(74.15 -16.312) scale(.7)\" xlink:href=\"#DejaVuSans-32\"/></g></g><g clip-path=\"url(#pd0baa2b300)\"><g transform=\"translate(82.12 148.24) scale(.08 -.08)\" fill=\"#ffffff\"><use transform=\"translate(0 .78125)\" xlink:href=\"#DejaVuSans-30\"/><use transform=\"translate(63.623 .78125)\" xlink:href=\"#DejaVuSans-2c\"/><use transform=\"translate(95.41 .78125)\" xlink:href=\"#DejaVuSans-20\"/><use transform=\"translate(127.2 .78125)\" xlink:href=\"#DejaVuSans-Oblique-3c0\"/></g></g><g clip-path=\"url(#pd0baa2b300)\"><g transform=\"translate(81.71 136.06) scale(.13 -.13)\" fill=\"#ffffff\"><use transform=\"translate(0 .09375)\" xlink:href=\"#DejaVuSans-55\"/><use transform=\"translate(74.15 -16.312) scale(.7)\" xlink:href=\"#DejaVuSans-32\"/></g></g><g clip-path=\"url(#pd0baa2b300)\"><g transform=\"translate(82.12 194.59) scale(.08 -.08)\" fill=\"#ffffff\"><use transform=\"translate(0 .78125)\" xlink:href=\"#DejaVuSans-30\"/><use transform=\"translate(63.623 .78125)\" xlink:href=\"#DejaVuSans-2c\"/><use transform=\"translate(95.41 .78125)\" xlink:href=\"#DejaVuSans-20\"/><use transform=\"translate(127.2 .78125)\" xlink:href=\"#DejaVuSans-Oblique-3c0\"/></g></g><g clip-path=\"url(#pd0baa2b300)\"><g transform=\"translate(81.71 182.41) scale(.13 -.13)\" fill=\"#ffffff\"><use transform=\"translate(0 .09375)\" xlink:href=\"#DejaVuSans-55\"/><use transform=\"translate(74.15 -16.312) scale(.7)\" xlink:href=\"#DejaVuSans-32\"/></g></g><path d=\"m135.99 96.663v-12.052\" clip-path=\"url(#pd0baa2b300)\" fill=\"none\" stroke=\"#ffffff\" stroke-linecap=\"square\" stroke-width=\"2\"/><path d=\"m129.97 90.637h12.052\" clip-path=\"url(#pd0baa2b300)\" fill=\"none\" stroke=\"#ffffff\" stroke-linecap=\"square\" stroke-width=\"2\"/><g clip-path=\"url(#pd0baa2b300)\"><g transform=\"translate(175.43 101.87) scale(.08 -.08)\" fill=\"#ffffff\"><defs><path id=\"DejaVuSans-2a\" transform=\"scale(.015625)\" d=\"m3009 3897-1121-606 1121-610-181-306-1050 634v-1178h-356v1178l-1050-634-181 306 1122 610-1122 606 181 309 1050-634v1178h356v-1178l1050 634 181-309z\"/><path id=\"DejaVuSans-Oblique-3b3\" transform=\"scale(.015625)\" d=\"m1491 2950 347-2162 1618 2712h610l-2094-3500-259-1331h-575l259 1331-409 2613q-63 393-360 393h-153l94 494h219q615 0 703-550z\"/></defs><use transform=\"translate(0 .78125)\" xlink:href=\"#DejaVuSans-32\"/><use transform=\"translate(63.623 .78125)\" xlink:href=\"#DejaVuSans-2a\"/><use transform=\"translate(113.62 .78125)\" xlink:href=\"#DejaVuSans-Oblique-3b3\"/></g></g><g clip-path=\"url(#pd0baa2b300)\"><g transform=\"translate(174.42 89.705) scale(.13 -.13)\" fill=\"#ffffff\"><defs><path id=\"DejaVuSans-52\" transform=\"scale(.015625)\" d=\"m2841 2188q203-69 395-294t386-619l641-1275h-679l-596 1197q-232 469-449 622t-592 153h-688v-1972h-631v4666h1425q800 0 1194-335 394-334 394-1009 0-441-205-732-205-290-595-402zm-1582 1959v-1656h794q456 0 689 211t233 620-233 617-689 208h-794z\"/><path id=\"DejaVuSans-5a\" transform=\"scale(.015625)\" d=\"m359 4666h3666v-482l-2950-3653h3022v-531h-3809v481l2950 3653h-2879v532z\"/></defs><use transform=\"translate(0 .09375)\" xlink:href=\"#DejaVuSans-52\"/><use transform=\"translate(70.439 -16.312) scale(.7)\" xlink:href=\"#DejaVuSans-5a\"/></g></g><path d=\"m228.7 96.663v-12.052\" clip-path=\"url(#pd0baa2b300)\" fill=\"none\" stroke=\"#ffffff\" stroke-linecap=\"square\" stroke-width=\"2\"/><path d=\"m222.68 90.637h12.052\" clip-path=\"url(#pd0baa2b300)\" fill=\"none\" stroke=\"#ffffff\" stroke-linecap=\"square\" stroke-width=\"2\"/><path d=\"m275.06 21.106v46.354\" clip-path=\"url(#pd0baa2b300)\" fill=\"none\" stroke=\"#000000\" stroke-dasharray=\"3.7,1.6\"/><path d=\"m275.06 67.46v46.354\" clip-path=\"url(#pd0baa2b300)\" fill=\"none\" stroke=\"#000000\" stroke-dasharray=\"3.7,1.6\"/><path d=\"m275.06 113.81v46.354\" clip-path=\"url(#pd0baa2b300)\" fill=\"none\" stroke=\"#000000\" stroke-dasharray=\"3.7,1.6\"/><path d=\"m275.06 160.17v46.354\" clip-path=\"url(#pd0baa2b300)\" fill=\"none\" stroke=\"#000000\" stroke-dasharray=\"3.7,1.6\"/><path d=\"m321.41 189.37v-12.052\" clip-path=\"url(#pd0baa2b300)\" fill=\"none\" stroke=\"#ffffff\" stroke-linecap=\"square\" stroke-width=\"2\"/><path d=\"m315.38 183.35h12.052\" clip-path=\"url(#pd0baa2b300)\" fill=\"none\" stroke=\"#ffffff\" stroke-linecap=\"square\" stroke-width=\"2\"/><g clip-path=\"url(#pd0baa2b300)\"><g transform=\"translate(360.84 194.58) scale(.08 -.08)\" fill=\"#ffffff\"><use transform=\"translate(0 .78125)\" xlink:href=\"#DejaVuSans-32\"/><use transform=\"translate(63.623 .78125)\" xlink:href=\"#DejaVuSans-2a\"/><use transform=\"translate(113.62 .78125)\" xlink:href=\"#DejaVuSans-Oblique-3b3\"/></g></g><g clip-path=\"url(#pd0baa2b300)\"><g transform=\"translate(359.83 182.41) scale(.13 -.13)\" fill=\"#ffffff\"><use transform=\"translate(0 .09375)\" xlink:href=\"#DejaVuSans-52\"/><use transform=\"translate(70.439 -16.312) scale(.7)\" xlink:href=\"#DejaVuSans-5a\"/></g></g><path d=\"m414.12 189.37v-12.052\" clip-path=\"url(#pd0baa2b300)\" fill=\"none\" stroke=\"#ffffff\" stroke-linecap=\"square\" stroke-width=\"2\"/><path d=\"m408.09 183.35h12.052\" clip-path=\"url(#pd0baa2b300)\" fill=\"none\" stroke=\"#ffffff\" stroke-linecap=\"square\" stroke-width=\"2\"/><path d=\"m460.47 21.106v46.354\" clip-path=\"url(#pd0baa2b300)\" fill=\"none\" stroke=\"#000000\" stroke-dasharray=\"3.7,1.6\"/><path d=\"m460.47 67.46v46.354\" clip-path=\"url(#pd0baa2b300)\" fill=\"none\" stroke=\"#000000\" stroke-dasharray=\"3.7,1.6\"/><path d=\"m460.47 113.81v46.354\" clip-path=\"url(#pd0baa2b300)\" fill=\"none\" stroke=\"#000000\" stroke-dasharray=\"3.7,1.6\"/><path d=\"m460.47 160.17v46.354\" clip-path=\"url(#pd0baa2b300)\" fill=\"none\" stroke=\"#000000\" stroke-dasharray=\"3.7,1.6\"/><path d=\"m506.83 143.02v-12.052\" clip-path=\"url(#pd0baa2b300)\" fill=\"none\" stroke=\"#ffffff\" stroke-linecap=\"square\" stroke-width=\"2\"/><path d=\"m500.8 136.99h12.052\" clip-path=\"url(#pd0baa2b300)\" fill=\"none\" stroke=\"#ffffff\" stroke-linecap=\"square\" stroke-width=\"2\"/><g clip-path=\"url(#pd0baa2b300)\"><g transform=\"translate(546.26 148.22) scale(.08 -.08)\" fill=\"#ffffff\"><use transform=\"translate(0 .78125)\" xlink:href=\"#DejaVuSans-32\"/><use transform=\"translate(63.623 .78125)\" xlink:href=\"#DejaVuSans-2a\"/><use transform=\"translate(113.62 .78125)\" xlink:href=\"#DejaVuSans-Oblique-3b3\"/></g></g><g clip-path=\"url(#pd0baa2b300)\"><g transform=\"translate(545.25 136.06) scale(.13 -.13)\" fill=\"#ffffff\"><use transform=\"translate(0 .09375)\" xlink:href=\"#DejaVuSans-52\"/><use transform=\"translate(70.439 -16.312) scale(.7)\" xlink:href=\"#DejaVuSans-5a\"/></g></g><path d=\"m599.53 143.02v-12.052\" clip-path=\"url(#pd0baa2b300)\" fill=\"none\" stroke=\"#ffffff\" stroke-linecap=\"square\" stroke-width=\"2\"/><path d=\"m593.51 136.99h12.052\" clip-path=\"url(#pd0baa2b300)\" fill=\"none\" stroke=\"#ffffff\" stroke-linecap=\"square\" stroke-width=\"2\"/><path d=\"m645.89 21.106v46.354\" clip-path=\"url(#pd0baa2b300)\" fill=\"none\" stroke=\"#000000\" stroke-dasharray=\"3.7,1.6\"/><path d=\"m645.89 67.46v46.354\" clip-path=\"url(#pd0baa2b300)\" fill=\"none\" stroke=\"#000000\" stroke-dasharray=\"3.7,1.6\"/><path d=\"m645.89 113.81v46.354\" clip-path=\"url(#pd0baa2b300)\" fill=\"none\" stroke=\"#000000\" stroke-dasharray=\"3.7,1.6\"/><path d=\"m645.89 160.17v46.354\" clip-path=\"url(#pd0baa2b300)\" fill=\"none\" stroke=\"#000000\" stroke-dasharray=\"3.7,1.6\"/><path d=\"m692.24 189.37v-12.052\" clip-path=\"url(#pd0baa2b300)\" fill=\"none\" stroke=\"#ffffff\" stroke-linecap=\"square\" stroke-width=\"2\"/><path d=\"m686.22 183.35h12.052\" clip-path=\"url(#pd0baa2b300)\" fill=\"none\" stroke=\"#ffffff\" stroke-linecap=\"square\" stroke-width=\"2\"/><g clip-path=\"url(#pd0baa2b300)\"><g transform=\"translate(731.68 194.58) scale(.08 -.08)\" fill=\"#ffffff\"><use transform=\"translate(0 .78125)\" xlink:href=\"#DejaVuSans-32\"/><use transform=\"translate(63.623 .78125)\" xlink:href=\"#DejaVuSans-2a\"/><use transform=\"translate(113.62 .78125)\" xlink:href=\"#DejaVuSans-Oblique-3b3\"/></g></g><g clip-path=\"url(#pd0baa2b300)\"><g transform=\"translate(730.67 182.41) scale(.13 -.13)\" fill=\"#ffffff\"><use transform=\"translate(0 .09375)\" xlink:href=\"#DejaVuSans-52\"/><use transform=\"translate(70.439 -16.312) scale(.7)\" xlink:href=\"#DejaVuSans-5a\"/></g></g><path d=\"m784.95 189.37v-12.052\" clip-path=\"url(#pd0baa2b300)\" fill=\"none\" stroke=\"#ffffff\" stroke-linecap=\"square\" stroke-width=\"2\"/><path d=\"m778.92 183.35h12.052\" clip-path=\"url(#pd0baa2b300)\" fill=\"none\" stroke=\"#ffffff\" stroke-linecap=\"square\" stroke-width=\"2\"/><path d=\"m831.3 21.106v46.354\" clip-path=\"url(#pd0baa2b300)\" fill=\"none\" stroke=\"#000000\" stroke-dasharray=\"3.7,1.6\"/><path d=\"m831.3 67.46v46.354\" clip-path=\"url(#pd0baa2b300)\" fill=\"none\" stroke=\"#000000\" stroke-dasharray=\"3.7,1.6\"/><path d=\"m831.3 113.81v46.354\" clip-path=\"url(#pd0baa2b300)\" fill=\"none\" stroke=\"#000000\" stroke-dasharray=\"3.7,1.6\"/><path d=\"m831.3 160.17v46.354\" clip-path=\"url(#pd0baa2b300)\" fill=\"none\" stroke=\"#000000\" stroke-dasharray=\"3.7,1.6\"/><g clip-path=\"url(#pd0baa2b300)\"><g transform=\"translate(865.46 55.562) scale(.08 -.08)\" fill=\"#ffffff\"><defs><path id=\"DejaVuSans-Oblique-3b2\" transform=\"scale(.015625)\" d=\"m872 216-300-1547h-578l934 4809q278 1425 1610 1425 1350 0 1121-1203-156-856-765-1169 819-281 659-1115-281-1485-1794-1482-662 3-887 282zm147 750q240-544 856-541 900 0 1091 981 172 882-1291 813l103 531q1131-19 1328 1e3 135 688-597 684-818 0-1006-975l-484-2493z\"/></defs><use transform=\"translate(0 .39062)\" xlink:href=\"#DejaVuSans-32\"/><use transform=\"translate(63.623 .39062)\" xlink:href=\"#DejaVuSans-2a\"/><use transform=\"translate(113.62 .39062)\" xlink:href=\"#DejaVuSans-Oblique-3b2\"/><use transform=\"translate(177.44 .39062)\" xlink:href=\"#DejaVuSans-2c\"/><use transform=\"translate(209.23 .39062)\" xlink:href=\"#DejaVuSans-20\"/><use transform=\"translate(241.02 .39062)\" xlink:href=\"#DejaVuSans-30\"/></g></g><g clip-path=\"url(#pd0baa2b300)\"><g transform=\"translate(873.14 43.351) scale(.13 -.13)\" fill=\"#ffffff\"><use xlink:href=\"#DejaVuSans-52\"/></g></g><g clip-path=\"url(#pd0baa2b300)\"><g transform=\"translate(865.46 101.92) scale(.08 -.08)\" fill=\"#ffffff\"><use transform=\"translate(0 .39062)\" xlink:href=\"#DejaVuSans-32\"/><use transform=\"translate(63.623 .39062)\" xlink:href=\"#DejaVuSans-2a\"/><use transform=\"translate(113.62 .39062)\" xlink:href=\"#DejaVuSans-Oblique-3b2\"/><use transform=\"translate(177.44 .39062)\" xlink:href=\"#DejaVuSans-2c\"/><use transform=\"translate(209.23 .39062)\" xlink:href=\"#DejaVuSans-20\"/><use transform=\"translate(241.02 .39062)\" xlink:href=\"#DejaVuSans-30\"/></g></g><g clip-path=\"url(#pd0baa2b300)\"><g transform=\"translate(873.14 89.705) scale(.13 -.13)\" fill=\"#ffffff\"><use xlink:href=\"#DejaVuSans-52\"/></g></g><g clip-path=\"url(#pd0baa2b300)\"><g transform=\"translate(865.46 148.27) scale(.08 -.08)\" fill=\"#ffffff\"><use transform=\"translate(0 .39062)\" xlink:href=\"#DejaVuSans-32\"/><use transform=\"translate(63.623 .39062)\" xlink:href=\"#DejaVuSans-2a\"/><use transform=\"translate(113.62 .39062)\" xlink:href=\"#DejaVuSans-Oblique-3b2\"/><use transform=\"translate(177.44 .39062)\" xlink:href=\"#DejaVuSans-2c\"/><use transform=\"translate(209.23 .39062)\" xlink:href=\"#DejaVuSans-20\"/><use transform=\"translate(241.02 .39062)\" xlink:href=\"#DejaVuSans-30\"/></g></g><g clip-path=\"url(#pd0baa2b300)\"><g transform=\"translate(873.14 136.06) scale(.13 -.13)\" fill=\"#ffffff\"><use xlink:href=\"#DejaVuSans-52\"/></g></g><g clip-path=\"url(#pd0baa2b300)\"><g transform=\"translate(865.46 194.62) scale(.08 -.08)\" fill=\"#ffffff\"><use transform=\"translate(0 .39062)\" xlink:href=\"#DejaVuSans-32\"/><use transform=\"translate(63.623 .39062)\" xlink:href=\"#DejaVuSans-2a\"/><use transform=\"translate(113.62 .39062)\" xlink:href=\"#DejaVuSans-Oblique-3b2\"/><use transform=\"translate(177.44 .39062)\" xlink:href=\"#DejaVuSans-2c\"/><use transform=\"translate(209.23 .39062)\" xlink:href=\"#DejaVuSans-20\"/><use transform=\"translate(241.02 .39062)\" xlink:href=\"#DejaVuSans-30\"/></g></g><g clip-path=\"url(#pd0baa2b300)\"><g transform=\"translate(873.14 182.41) scale(.13 -.13)\" fill=\"#ffffff\"><use xlink:href=\"#DejaVuSans-52\"/></g></g><defs><clipPath id=\"pd0baa2b300\"><rect x=\"7.2\" y=\"7.2\" width=\"901.05\" height=\"203.96\"/></clipPath></defs></svg>"
      ],
      "text/plain": [
       "<Figure size 1625.27x367.889 with 1 Axes>"
      ]
     },
     "execution_count": 5,
     "metadata": {},
     "output_type": "execute_result"
    }
   ],
   "source": [
    "qc_qaoa = QuantumCircuit(N_QUBITS)\n",
    "qc_qaoa.append(qc_0, range(N_QUBITS))\n",
    "qc_qaoa.append(qc_p, range(N_QUBITS))\n",
    "qc_qaoa.append(qc_mix, range(N_QUBITS))\n",
    "\n",
    "qc_qaoa.decompose().decompose().draw()"
   ]
  },
  {
   "cell_type": "markdown",
   "metadata": {},
   "source": [
    "The next step is to find the optimal parameters `{latex} (\\boldsymbol{\\beta_{\\text{opt}}}, \\boldsymbol{\\gamma_{\\text{opt}}})` such that the expectation value\n",
    "\n",
    "$$ \\langle \\psi(\\boldsymbol{\\beta}_{\\text{opt}}, \\boldsymbol{\\gamma}_{\\text{opt}}) \\rvert H_P \\lvert \n",
    "\\psi(\\boldsymbol{\\beta}_{\\text{opt}}, \\boldsymbol{\\gamma}_{\\text{opt}}) \\rangle $$\n",
    "\n",
    "is minimized. Such an expectation can be obtained by doing measurement in the Z-basis. We use a classical optimization algorithm to find the optimal parameters. Following steps are involved as shown in the schematic\n",
    "\n",
    "<img src=\"images/QAOA_schematic.png\" width=\"400\" height=\"200\" class=\"center\">\n",
    "\n",
    "1. Initialize $\\boldsymbol{\\beta}$ and $\\boldsymbol{\\gamma}$ to suitable real values.\n",
    "2. Repeat until some suitable convergence criteria is met:\n",
    "    1. Prepare the state $\\lvert \\psi(\\boldsymbol{\\beta}, \\boldsymbol{\\gamma}) \\rangle$ using the QAOA circuit\n",
    "    2. Measure the state in standard basis\n",
    "    3. Compute $ \\langle \\psi(\\boldsymbol{\\beta}, \\boldsymbol{\\gamma}) \\rvert H_P \\lvert \\psi(\\boldsymbol{\\beta}, \\boldsymbol{\\gamma}) \\rangle $ \n",
    "    4. Find new set of parameters `{latex} (\\boldsymbol{\\beta}_{new}, \\boldsymbol{\\gamma}_{new})` using a classical optimization algorithm\n",
    "    5. Set current parameters $(\\boldsymbol{\\beta}, \\boldsymbol{\\gamma})$ equal to the new parameters \n",
    "      `{latex} (\\boldsymbol{\\beta}_{new}, \\boldsymbol{\\gamma}_{new})`\n",
    "\n",
    "The code below implements the steps mentioned above."
   ]
  },
  {
   "cell_type": "code",
   "execution_count": 6,
   "metadata": {},
   "outputs": [],
   "source": [
    "def maxcut_obj(solution, graph):\n",
    "    \"\"\"Given a bit string as a solution, this function returns\n",
    "    the number of edges shared between the two partitions\n",
    "    of the graph.\n",
    "    Args:\n",
    "        solution: (str) solution bit string\n",
    "        graph: networkx graph\n",
    "    Returns:\n",
    "        obj: (float) Objective\n",
    "    \"\"\"\n",
    "    # pylint: disable=invalid-name\n",
    "    obj = 0\n",
    "    for i, j in graph.edges():\n",
    "        if solution[i] != solution[j]:\n",
    "            obj -= 1\n",
    "    return obj\n",
    "\n",
    "\n",
    "def compute_expectation(counts, graph):\n",
    "    \"\"\"Computes expectation value based on measurement results\n",
    "    Args:\n",
    "        counts: (dict) key as bit string, val as count\n",
    "        graph: networkx graph\n",
    "    Returns:\n",
    "        avg: float\n",
    "             expectation value\n",
    "    \"\"\"\n",
    "    avg = 0\n",
    "    sum_count = 0\n",
    "    for bit_string, count in counts.items():\n",
    "        obj = maxcut_obj(bit_string, graph)\n",
    "        avg += obj * count\n",
    "        sum_count += count\n",
    "    return avg/sum_count\n",
    "\n",
    "\n",
    "# We will also bring the different circuit components that\n",
    "# build the qaoa circuit under a single function\n",
    "def create_qaoa_circ(graph, theta):\n",
    "    \"\"\"Creates a parametrized qaoa circuit\n",
    "    Args:\n",
    "        graph: networkx graph\n",
    "        theta: (list) unitary parameters\n",
    "    Returns:\n",
    "        (QuantumCircuit) qiskit circuit\n",
    "    \"\"\"\n",
    "    nqubits = len(graph.nodes())\n",
    "    n_layers = len(theta)//2  # number of alternating unitaries\n",
    "    beta = theta[:n_layers]\n",
    "    gamma = theta[n_layers:]\n",
    "\n",
    "    qc = QuantumCircuit(nqubits)\n",
    "\n",
    "    # initial_state\n",
    "    qc.h(range(nqubits))\n",
    "\n",
    "    for layer_index in range(n_layers):\n",
    "        # problem unitary\n",
    "        for pair in list(graph.edges()):\n",
    "            qc.rzz(2 * gamma[layer_index], pair[0], pair[1])\n",
    "        # mixer unitary\n",
    "        for qubit in range(nqubits):\n",
    "            qc.rx(2 * beta[layer_index], qubit)\n",
    "\n",
    "    qc.measure_all()\n",
    "    return qc\n",
    "\n",
    "\n",
    "# Finally we write a function that executes the circuit\n",
    "# on the chosen backend\n",
    "def get_expectation(graph, shots=512):\n",
    "    \"\"\"Runs parametrized circuit\n",
    "    Args:\n",
    "        graph: networkx graph\n",
    "    \"\"\"\n",
    "    backend = Aer.get_backend('qasm_simulator')\n",
    "    backend.shots = shots\n",
    "\n",
    "    def execute_circ(theta):\n",
    "        qc = create_qaoa_circ(graph, theta)\n",
    "        counts = backend.run(qc, seed_simulator=10,\n",
    "                             nshots=512).result().get_counts()\n",
    "        return compute_expectation(counts, graph)\n",
    "\n",
    "    return execute_circ"
   ]
  },
  {
   "cell_type": "code",
   "execution_count": 7,
   "metadata": {},
   "outputs": [
    {
     "data": {
      "text/plain": [
       " message: Optimization terminated successfully.\n",
       " success: True\n",
       "  status: 1\n",
       "     fun: -2.994140625\n",
       "       x: [ 1.979e+00  1.167e+00]\n",
       "    nfev: 30\n",
       "   maxcv: 0.0"
      ]
     },
     "execution_count": 7,
     "metadata": {},
     "output_type": "execute_result"
    }
   ],
   "source": [
    "from scipy.optimize import minimize\n",
    "expectation = get_expectation(graph)\n",
    "res = minimize(expectation,\n",
    "               [1.0, 1.0],\n",
    "               method='COBYLA')\n",
    "res"
   ]
  },
  {
   "cell_type": "markdown",
   "metadata": {},
   "source": [
    "Note that different choices of classical optimizers are present in Qiskit. We choose [COBYLA](https://github.com/Qiskit/qiskit-terra/blob/main/qiskit/algorithms/optimizers/cobyla.py) as our classical optimization algorithm here."
   ]
  },
  {
   "cell_type": "markdown",
   "metadata": {},
   "source": [
    "### Analyzing the result"
   ]
  },
  {
   "cell_type": "code",
   "execution_count": 8,
   "metadata": {
    "tags": []
   },
   "outputs": [
    {
     "data": {
      "image/svg+xml": [
       "<?xml version=\"1.0\" encoding=\"UTF-8\"?><!DOCTYPE svg  PUBLIC '-//W3C//DTD SVG 1.1//EN'  'http://www.w3.org/Graphics/SVG/1.1/DTD/svg11.dtd'><svg width=\"456.27pt\" height=\"336.72pt\" version=\"1.1\" viewBox=\"0 0 456.27 336.72\" xmlns=\"http://www.w3.org/2000/svg\" xmlns:xlink=\"http://www.w3.org/1999/xlink\"><defs><style type=\"text/css\">*{stroke-linejoin: round; stroke-linecap: butt}</style></defs><path d=\"m0 336.72h456.27v-336.72h-456.27z\" fill=\"#ffffff\"/><path d=\"m58.472 284.4h390.6v-277.2h-390.6z\" fill=\"#ffffff\"/><defs><path id=\"ma701b1e9c6\" d=\"m0 0v3.5\" stroke=\"#343a3f\" stroke-width=\".8\"/></defs><use x=\"81.953693\" y=\"284.4\" fill=\"#343a3f\" stroke=\"#343a3f\" stroke-width=\".8\" xlink:href=\"#ma701b1e9c6\"/><g transform=\"translate(79.491 328.52) rotate(-70) scale(.14 -.14)\" fill=\"#343a3f\"><defs><path id=\"DejaVuSans-30\" transform=\"scale(.015625)\" d=\"m2034 4250q-487 0-733-480-245-479-245-1442 0-959 245-1439 246-480 733-480 491 0 736 480 246 480 246 1439 0 963-246 1442-245 480-736 480zm0 500q785 0 1199-621 414-620 414-1801 0-1178-414-1799-414-620-1199-620-784 0-1198 620-414 621-414 1799 0 1181 414 1801 414 621 1198 621z\"/></defs><use xlink:href=\"#DejaVuSans-30\"/><use x=\"63.623047\" xlink:href=\"#DejaVuSans-30\"/><use x=\"127.246094\" xlink:href=\"#DejaVuSans-30\"/><use x=\"190.869141\" xlink:href=\"#DejaVuSans-30\"/></g><use x=\"104.862784\" y=\"284.4\" fill=\"#343a3f\" stroke=\"#343a3f\" stroke-width=\".8\" xlink:href=\"#ma701b1e9c6\"/><g transform=\"translate(102.4 328.52) rotate(-70) scale(.14 -.14)\" fill=\"#343a3f\"><defs><path id=\"DejaVuSans-31\" transform=\"scale(.015625)\" d=\"m794 531h1031v3560l-1122-225v575l1116 225h631v-4135h1031v-531h-2687v531z\"/></defs><use xlink:href=\"#DejaVuSans-30\"/><use x=\"63.623047\" xlink:href=\"#DejaVuSans-30\"/><use x=\"127.246094\" xlink:href=\"#DejaVuSans-30\"/><use x=\"190.869141\" xlink:href=\"#DejaVuSans-31\"/></g><use x=\"127.771875\" y=\"284.4\" fill=\"#343a3f\" stroke=\"#343a3f\" stroke-width=\".8\" xlink:href=\"#ma701b1e9c6\"/><g transform=\"translate(125.31 328.52) rotate(-70) scale(.14 -.14)\" fill=\"#343a3f\"><use xlink:href=\"#DejaVuSans-30\"/><use x=\"63.623047\" xlink:href=\"#DejaVuSans-30\"/><use x=\"127.246094\" xlink:href=\"#DejaVuSans-31\"/><use x=\"190.869141\" xlink:href=\"#DejaVuSans-30\"/></g><use x=\"150.680966\" y=\"284.4\" fill=\"#343a3f\" stroke=\"#343a3f\" stroke-width=\".8\" xlink:href=\"#ma701b1e9c6\"/><g transform=\"translate(148.22 328.52) rotate(-70) scale(.14 -.14)\" fill=\"#343a3f\"><use xlink:href=\"#DejaVuSans-30\"/><use x=\"63.623047\" xlink:href=\"#DejaVuSans-30\"/><use x=\"127.246094\" xlink:href=\"#DejaVuSans-31\"/><use x=\"190.869141\" xlink:href=\"#DejaVuSans-31\"/></g><use x=\"173.590057\" y=\"284.4\" fill=\"#343a3f\" stroke=\"#343a3f\" stroke-width=\".8\" xlink:href=\"#ma701b1e9c6\"/><g transform=\"translate(171.13 328.52) rotate(-70) scale(.14 -.14)\" fill=\"#343a3f\"><use xlink:href=\"#DejaVuSans-30\"/><use x=\"63.623047\" xlink:href=\"#DejaVuSans-31\"/><use x=\"127.246094\" xlink:href=\"#DejaVuSans-30\"/><use x=\"190.869141\" xlink:href=\"#DejaVuSans-30\"/></g><use x=\"196.499148\" y=\"284.4\" fill=\"#343a3f\" stroke=\"#343a3f\" stroke-width=\".8\" xlink:href=\"#ma701b1e9c6\"/><g transform=\"translate(194.04 328.52) rotate(-70) scale(.14 -.14)\" fill=\"#343a3f\"><use xlink:href=\"#DejaVuSans-30\"/><use x=\"63.623047\" xlink:href=\"#DejaVuSans-31\"/><use x=\"127.246094\" xlink:href=\"#DejaVuSans-30\"/><use x=\"190.869141\" xlink:href=\"#DejaVuSans-31\"/></g><use x=\"219.408239\" y=\"284.4\" fill=\"#343a3f\" stroke=\"#343a3f\" stroke-width=\".8\" xlink:href=\"#ma701b1e9c6\"/><g transform=\"translate(216.95 328.52) rotate(-70) scale(.14 -.14)\" fill=\"#343a3f\"><use xlink:href=\"#DejaVuSans-30\"/><use x=\"63.623047\" xlink:href=\"#DejaVuSans-31\"/><use x=\"127.246094\" xlink:href=\"#DejaVuSans-31\"/><use x=\"190.869141\" xlink:href=\"#DejaVuSans-30\"/></g><use x=\"242.31733\" y=\"284.4\" fill=\"#343a3f\" stroke=\"#343a3f\" stroke-width=\".8\" xlink:href=\"#ma701b1e9c6\"/><g transform=\"translate(239.85 328.52) rotate(-70) scale(.14 -.14)\" fill=\"#343a3f\"><use xlink:href=\"#DejaVuSans-30\"/><use x=\"63.623047\" xlink:href=\"#DejaVuSans-31\"/><use x=\"127.246094\" xlink:href=\"#DejaVuSans-31\"/><use x=\"190.869141\" xlink:href=\"#DejaVuSans-31\"/></g><use x=\"265.22642\" y=\"284.4\" fill=\"#343a3f\" stroke=\"#343a3f\" stroke-width=\".8\" xlink:href=\"#ma701b1e9c6\"/><g transform=\"translate(262.76 328.52) rotate(-70) scale(.14 -.14)\" fill=\"#343a3f\"><use xlink:href=\"#DejaVuSans-31\"/><use x=\"63.623047\" xlink:href=\"#DejaVuSans-30\"/><use x=\"127.246094\" xlink:href=\"#DejaVuSans-30\"/><use x=\"190.869141\" xlink:href=\"#DejaVuSans-30\"/></g><use x=\"288.135511\" y=\"284.4\" fill=\"#343a3f\" stroke=\"#343a3f\" stroke-width=\".8\" xlink:href=\"#ma701b1e9c6\"/><g transform=\"translate(285.67 328.52) rotate(-70) scale(.14 -.14)\" fill=\"#343a3f\"><use xlink:href=\"#DejaVuSans-31\"/><use x=\"63.623047\" xlink:href=\"#DejaVuSans-30\"/><use x=\"127.246094\" xlink:href=\"#DejaVuSans-30\"/><use x=\"190.869141\" xlink:href=\"#DejaVuSans-31\"/></g><use x=\"311.044602\" y=\"284.4\" fill=\"#343a3f\" stroke=\"#343a3f\" stroke-width=\".8\" xlink:href=\"#ma701b1e9c6\"/><g transform=\"translate(308.58 328.52) rotate(-70) scale(.14 -.14)\" fill=\"#343a3f\"><use xlink:href=\"#DejaVuSans-31\"/><use x=\"63.623047\" xlink:href=\"#DejaVuSans-30\"/><use x=\"127.246094\" xlink:href=\"#DejaVuSans-31\"/><use x=\"190.869141\" xlink:href=\"#DejaVuSans-30\"/></g><use x=\"333.953693\" y=\"284.4\" fill=\"#343a3f\" stroke=\"#343a3f\" stroke-width=\".8\" xlink:href=\"#ma701b1e9c6\"/><g transform=\"translate(331.49 328.52) rotate(-70) scale(.14 -.14)\" fill=\"#343a3f\"><use xlink:href=\"#DejaVuSans-31\"/><use x=\"63.623047\" xlink:href=\"#DejaVuSans-30\"/><use x=\"127.246094\" xlink:href=\"#DejaVuSans-31\"/><use x=\"190.869141\" xlink:href=\"#DejaVuSans-31\"/></g><use x=\"356.862784\" y=\"284.4\" fill=\"#343a3f\" stroke=\"#343a3f\" stroke-width=\".8\" xlink:href=\"#ma701b1e9c6\"/><g transform=\"translate(354.4 328.52) rotate(-70) scale(.14 -.14)\" fill=\"#343a3f\"><use xlink:href=\"#DejaVuSans-31\"/><use x=\"63.623047\" xlink:href=\"#DejaVuSans-31\"/><use x=\"127.246094\" xlink:href=\"#DejaVuSans-30\"/><use x=\"190.869141\" xlink:href=\"#DejaVuSans-30\"/></g><use x=\"379.771875\" y=\"284.4\" fill=\"#343a3f\" stroke=\"#343a3f\" stroke-width=\".8\" xlink:href=\"#ma701b1e9c6\"/><g transform=\"translate(377.31 328.52) rotate(-70) scale(.14 -.14)\" fill=\"#343a3f\"><use xlink:href=\"#DejaVuSans-31\"/><use x=\"63.623047\" xlink:href=\"#DejaVuSans-31\"/><use x=\"127.246094\" xlink:href=\"#DejaVuSans-30\"/><use x=\"190.869141\" xlink:href=\"#DejaVuSans-31\"/></g><use x=\"402.680966\" y=\"284.4\" fill=\"#343a3f\" stroke=\"#343a3f\" stroke-width=\".8\" xlink:href=\"#ma701b1e9c6\"/><g transform=\"translate(400.22 328.52) rotate(-70) scale(.14 -.14)\" fill=\"#343a3f\"><use xlink:href=\"#DejaVuSans-31\"/><use x=\"63.623047\" xlink:href=\"#DejaVuSans-31\"/><use x=\"127.246094\" xlink:href=\"#DejaVuSans-31\"/><use x=\"190.869141\" xlink:href=\"#DejaVuSans-30\"/></g><use x=\"425.590057\" y=\"284.4\" fill=\"#343a3f\" stroke=\"#343a3f\" stroke-width=\".8\" xlink:href=\"#ma701b1e9c6\"/><g transform=\"translate(423.13 328.52) rotate(-70) scale(.14 -.14)\" fill=\"#343a3f\"><use xlink:href=\"#DejaVuSans-31\"/><use x=\"63.623047\" xlink:href=\"#DejaVuSans-31\"/><use x=\"127.246094\" xlink:href=\"#DejaVuSans-31\"/><use x=\"190.869141\" xlink:href=\"#DejaVuSans-31\"/></g><path d=\"m58.472 284.4h390.6\" clip-path=\"url(#pf8458b9dfe)\" fill=\"none\" stroke=\"#dde1e6\" stroke-dasharray=\"2.96,1.28\" stroke-width=\".8\"/><defs><path id=\"m3313964e1c\" d=\"m0 0h-3.5\" stroke=\"#343a3f\" stroke-width=\".8\"/></defs><use x=\"58.471875\" y=\"284.4\" fill=\"#343a3f\" stroke=\"#343a3f\" stroke-width=\".8\" xlink:href=\"#m3313964e1c\"/><g transform=\"translate(42.564 289.72) scale(.14 -.14)\" fill=\"#343a3f\"><use xlink:href=\"#DejaVuSans-30\"/></g><path d=\"m58.472 212.66h390.6\" clip-path=\"url(#pf8458b9dfe)\" fill=\"none\" stroke=\"#dde1e6\" stroke-dasharray=\"2.96,1.28\" stroke-width=\".8\"/><use x=\"58.471875\" y=\"212.656228\" fill=\"#343a3f\" stroke=\"#343a3f\" stroke-width=\".8\" xlink:href=\"#m3313964e1c\"/><g transform=\"translate(33.657 217.98) scale(.14 -.14)\" fill=\"#343a3f\"><defs><path id=\"DejaVuSans-38\" transform=\"scale(.015625)\" d=\"m2034 2216q-450 0-708-241-257-241-257-662 0-422 257-663 258-241 708-241t709 242q260 243 260 662 0 421-258 662-257 241-711 241zm-631 268q-406 100-633 378-226 279-226 679 0 559 398 884 399 325 1092 325 697 0 1094-325t397-884q0-400-227-679-226-278-629-378 456-106 710-416 255-309 255-755 0-679-414-1042-414-362-1186-362-771 0-1186 362-414 363-414 1042 0 446 256 755 257 310 713 416zm-231 997q0-362 226-565 227-203 636-203 407 0 636 203 230 203 230 565 0 363-230 566-229 203-636 203-409 0-636-203-226-203-226-566z\"/></defs><use xlink:href=\"#DejaVuSans-38\"/><use x=\"63.623047\" xlink:href=\"#DejaVuSans-30\"/></g><path d=\"m58.472 140.91h390.6\" clip-path=\"url(#pf8458b9dfe)\" fill=\"none\" stroke=\"#dde1e6\" stroke-dasharray=\"2.96,1.28\" stroke-width=\".8\"/><use x=\"58.471875\" y=\"140.912456\" fill=\"#343a3f\" stroke=\"#343a3f\" stroke-width=\".8\" xlink:href=\"#m3313964e1c\"/><g transform=\"translate(24.749 146.23) scale(.14 -.14)\" fill=\"#343a3f\"><defs><path id=\"DejaVuSans-36\" transform=\"scale(.015625)\" d=\"m2113 2584q-425 0-674-291-248-290-248-796 0-503 248-796 249-292 674-292t673 292q248 293 248 796 0 506-248 796-248 291-673 291zm1253 1979v-575q-238 112-480 171-242 60-480 60-625 0-955-422-329-422-376-1275 184 272 462 417 279 145 613 145 703 0 1111-427 408-426 408-1160 0-719-425-1154-425-434-1131-434-810 0-1238 620-428 621-428 1799 0 1106 525 1764t1409 658q238 0 480-47t505-140z\"/></defs><use xlink:href=\"#DejaVuSans-31\"/><use x=\"63.623047\" xlink:href=\"#DejaVuSans-36\"/><use x=\"127.246094\" xlink:href=\"#DejaVuSans-30\"/></g><path d=\"m58.472 69.169h390.6\" clip-path=\"url(#pf8458b9dfe)\" fill=\"none\" stroke=\"#dde1e6\" stroke-dasharray=\"2.96,1.28\" stroke-width=\".8\"/><use x=\"58.471875\" y=\"69.168683\" fill=\"#343a3f\" stroke=\"#343a3f\" stroke-width=\".8\" xlink:href=\"#m3313964e1c\"/><g transform=\"translate(24.749 74.488) scale(.14 -.14)\" fill=\"#343a3f\"><defs><path id=\"DejaVuSans-32\" transform=\"scale(.015625)\" d=\"m1228 531h2203v-531h-2962v531q359 372 979 998 621 627 780 809 303 340 423 576 121 236 121 464 0 372-261 606-261 235-680 235-297 0-627-103-329-103-704-313v638q381 153 712 231 332 78 607 78 725 0 1156-363 431-362 431-968 0-288-108-546-107-257-392-607-78-91-497-524-418-433-1181-1211z\"/><path id=\"DejaVuSans-34\" transform=\"scale(.015625)\" d=\"m2419 4116-1594-2491h1594v2491zm-166 550h794v-3041h666v-525h-666v-1100h-628v1100h-2106v609l1940 2957z\"/></defs><use xlink:href=\"#DejaVuSans-32\"/><use x=\"63.623047\" xlink:href=\"#DejaVuSans-34\"/><use x=\"127.246094\" xlink:href=\"#DejaVuSans-30\"/></g><g transform=\"translate(17.838 166.59) rotate(-90) scale(.14 -.14)\" fill=\"#343a3f\"><defs><path id=\"DejaVuSans-43\" transform=\"scale(.015625)\" d=\"m4122 4306v-665q-319 297-680 443-361 147-767 147-800 0-1225-489t-425-1414q0-922 425-1411t1225-489q406 0 767 147t680 444v-660q-331-225-702-338-370-112-782-112-1060 0-1670 648-609 649-609 1771 0 1125 609 1773 610 649 1670 649 418 0 788-111 371-111 696-333z\"/><path id=\"DejaVuSans-6f\" transform=\"scale(.015625)\" d=\"m1959 3097q-462 0-731-361t-269-989 267-989q268-361 733-361 460 0 728 362 269 363 269 988 0 622-269 986-268 364-728 364zm0 487q750 0 1178-488 429-487 429-1349 0-859-429-1349-428-489-1178-489-753 0-1180 489-426 490-426 1349 0 862 426 1349 427 488 1180 488z\"/><path id=\"DejaVuSans-75\" transform=\"scale(.015625)\" d=\"m544 1381v2119h575v-2097q0-497 193-746 194-248 582-248 465 0 735 297 271 297 271 810v1984h575v-3500h-575v538q-209-319-486-474-276-155-642-155-603 0-916 375-312 375-312 1097zm1447 2203z\"/><path id=\"DejaVuSans-6e\" transform=\"scale(.015625)\" d=\"m3513 2113v-2113h-575v2094q0 497-194 743-194 247-581 247-466 0-735-297-269-296-269-809v-1978h-578v3500h578v-544q207 316 486 472 280 156 646 156 603 0 912-373 310-373 310-1098z\"/><path id=\"DejaVuSans-74\" transform=\"scale(.015625)\" d=\"m1172 4494v-994h1184v-447h-1184v-1900q0-428 117-550t477-122h590v-481h-590q-666 0-919 248-253 249-253 905v1900h-422v447h422v994h578z\"/></defs><use xlink:href=\"#DejaVuSans-43\"/><use x=\"69.824219\" xlink:href=\"#DejaVuSans-6f\"/><use x=\"131.005859\" xlink:href=\"#DejaVuSans-75\"/><use x=\"194.384766\" xlink:href=\"#DejaVuSans-6e\"/><use x=\"257.763672\" xlink:href=\"#DejaVuSans-74\"/></g><path d=\"m76.226 284.4h11.455v-16.142h-11.455z\" clip-path=\"url(#pf8458b9dfe)\" fill=\"#648fff\"/><path d=\"m99.136 284.4h11.455v-11.658h-11.455z\" clip-path=\"url(#pf8458b9dfe)\" fill=\"#648fff\"/><path d=\"m122.04 284.4h11.455v-10.762h-11.455z\" clip-path=\"url(#pf8458b9dfe)\" fill=\"#648fff\"/><path d=\"m144.95 284.4h11.455v-74.434h-11.455z\" clip-path=\"url(#pf8458b9dfe)\" fill=\"#648fff\"/><path d=\"m167.86 284.4h11.455v-8.0712h-11.455z\" clip-path=\"url(#pf8458b9dfe)\" fill=\"#648fff\"/><path d=\"m190.77 284.4h11.455v-232.27h-11.455z\" clip-path=\"url(#pf8458b9dfe)\" fill=\"#648fff\"/><path d=\"m213.68 284.4h11.455v-71.744h-11.455z\" clip-path=\"url(#pf8458b9dfe)\" fill=\"#648fff\"/><path d=\"m236.59 284.4h11.455v-17.936h-11.455z\" clip-path=\"url(#pf8458b9dfe)\" fill=\"#648fff\"/><path d=\"m259.5 284.4h11.455v-17.039h-11.455z\" clip-path=\"url(#pf8458b9dfe)\" fill=\"#648fff\"/><path d=\"m282.41 284.4h11.455v-69.95h-11.455z\" clip-path=\"url(#pf8458b9dfe)\" fill=\"#648fff\"/><path d=\"m305.32 284.4h11.455v-252h-11.455z\" clip-path=\"url(#pf8458b9dfe)\" fill=\"#648fff\"/><path d=\"m328.23 284.4h11.455v-10.762h-11.455z\" clip-path=\"url(#pf8458b9dfe)\" fill=\"#648fff\"/><path d=\"m351.14 284.4h11.455v-82.505h-11.455z\" clip-path=\"url(#pf8458b9dfe)\" fill=\"#648fff\"/><path d=\"m374.04 284.4h11.455v-16.142h-11.455z\" clip-path=\"url(#pf8458b9dfe)\" fill=\"#648fff\"/><path d=\"m396.95 284.4h11.455v-15.246h-11.455z\" clip-path=\"url(#pf8458b9dfe)\" fill=\"#648fff\"/><path d=\"m419.86 284.4h11.455v-11.658h-11.455z\" clip-path=\"url(#pf8458b9dfe)\" fill=\"#648fff\"/><path d=\"m58.472 284.4v-277.2\" fill=\"none\" stroke=\"#343a3f\" stroke-linecap=\"square\" stroke-width=\".8\"/><path d=\"m58.472 284.4h390.6\" fill=\"none\" stroke=\"#343a3f\" stroke-linecap=\"square\" stroke-width=\".8\"/><g transform=\"translate(75.591 265.37) scale(.1 -.1)\" fill=\"#343a3f\"><use xlink:href=\"#DejaVuSans-31\"/><use x=\"63.623047\" xlink:href=\"#DejaVuSans-38\"/></g><g transform=\"translate(98.5 270.08) scale(.1 -.1)\" fill=\"#343a3f\"><defs><path id=\"DejaVuSans-33\" transform=\"scale(.015625)\" d=\"m2597 2516q453-97 707-404 255-306 255-756 0-690-475-1069-475-378-1350-378-293 0-604 58t-642 174v609q262-153 574-231 313-78 654-78 593 0 904 234t311 681q0 413-289 645-289 233-804 233h-544v519h569q465 0 712 186t247 536q0 359-255 551-254 193-729 193-260 0-557-57-297-56-653-174v562q360 100 674 150t592 50q719 0 1137-327 419-326 419-882 0-388-222-655t-631-370z\"/></defs><use xlink:href=\"#DejaVuSans-31\"/><use x=\"63.623047\" xlink:href=\"#DejaVuSans-33\"/></g><g transform=\"translate(121.41 271.02) scale(.1 -.1)\" fill=\"#343a3f\"><use xlink:href=\"#DejaVuSans-31\"/><use x=\"63.623047\" xlink:href=\"#DejaVuSans-32\"/></g><g transform=\"translate(144.32 204.16) scale(.1 -.1)\" fill=\"#343a3f\"><use xlink:href=\"#DejaVuSans-38\"/><use x=\"63.623047\" xlink:href=\"#DejaVuSans-33\"/></g><g transform=\"translate(170.41 273.85) scale(.1 -.1)\" fill=\"#343a3f\"><defs><path id=\"DejaVuSans-39\" transform=\"scale(.015625)\" d=\"m703 97v575q238-113 481-172 244-59 479-59 625 0 954 420 330 420 377 1277-181-269-460-413-278-144-615-144-700 0-1108 423-408 424-408 1159 0 718 425 1152 425 435 1131 435 810 0 1236-621 427-620 427-1801 0-1103-524-1761-523-658-1407-658-238 0-482 47-243 47-506 141zm1256 1978q425 0 673 290 249 291 249 798 0 503-249 795-248 292-673 292t-673-292-248-795q0-507 248-798 248-290 673-290z\"/></defs><use xlink:href=\"#DejaVuSans-39\"/></g><g transform=\"translate(186.96 38.436) scale(.1 -.1)\" fill=\"#343a3f\"><defs><path id=\"DejaVuSans-35\" transform=\"scale(.015625)\" d=\"m691 4666h2478v-532h-1900v-1143q137 47 274 70 138 23 276 23 781 0 1237-428 457-428 457-1159 0-753-469-1171-469-417-1322-417-294 0-599 50-304 50-629 150v635q281-153 581-228t634-75q541 0 856 284 316 284 316 772 0 487-316 771-315 285-856 285-253 0-505-56-251-56-513-175v2344z\"/></defs><use xlink:href=\"#DejaVuSans-32\"/><use x=\"63.623047\" xlink:href=\"#DejaVuSans-35\"/><use x=\"127.246094\" xlink:href=\"#DejaVuSans-39\"/></g><g transform=\"translate(213.05 206.99) scale(.1 -.1)\" fill=\"#343a3f\"><use xlink:href=\"#DejaVuSans-38\"/><use x=\"63.623047\" xlink:href=\"#DejaVuSans-30\"/></g><g transform=\"translate(235.95 263.49) scale(.1 -.1)\" fill=\"#343a3f\"><use xlink:href=\"#DejaVuSans-32\"/><use x=\"63.623047\" xlink:href=\"#DejaVuSans-30\"/></g><g transform=\"translate(258.86 264.43) scale(.1 -.1)\" fill=\"#343a3f\"><use xlink:href=\"#DejaVuSans-31\"/><use x=\"63.623047\" xlink:href=\"#DejaVuSans-39\"/></g><g transform=\"translate(281.77 208.87) scale(.1 -.1)\" fill=\"#343a3f\"><defs><path id=\"DejaVuSans-37\" transform=\"scale(.015625)\" d=\"m525 4666h3e3v-269l-1694-4397h-659l1594 4134h-2241v532z\"/></defs><use xlink:href=\"#DejaVuSans-37\"/><use x=\"63.623047\" xlink:href=\"#DejaVuSans-38\"/></g><g transform=\"translate(301.5 17.72) scale(.1 -.1)\" fill=\"#343a3f\"><use xlink:href=\"#DejaVuSans-32\"/><use x=\"63.623047\" xlink:href=\"#DejaVuSans-38\"/><use x=\"127.246094\" xlink:href=\"#DejaVuSans-31\"/></g><g transform=\"translate(327.59 271.02) scale(.1 -.1)\" fill=\"#343a3f\"><use xlink:href=\"#DejaVuSans-31\"/><use x=\"63.623047\" xlink:href=\"#DejaVuSans-32\"/></g><g transform=\"translate(350.5 195.69) scale(.1 -.1)\" fill=\"#343a3f\"><use xlink:href=\"#DejaVuSans-39\"/><use x=\"63.623047\" xlink:href=\"#DejaVuSans-32\"/></g><g transform=\"translate(373.41 265.37) scale(.1 -.1)\" fill=\"#343a3f\"><use xlink:href=\"#DejaVuSans-31\"/><use x=\"63.623047\" xlink:href=\"#DejaVuSans-38\"/></g><g transform=\"translate(396.32 266.31) scale(.1 -.1)\" fill=\"#343a3f\"><use xlink:href=\"#DejaVuSans-31\"/><use x=\"63.623047\" xlink:href=\"#DejaVuSans-37\"/></g><g transform=\"translate(419.23 270.08) scale(.1 -.1)\" fill=\"#343a3f\"><use xlink:href=\"#DejaVuSans-31\"/><use x=\"63.623047\" xlink:href=\"#DejaVuSans-33\"/></g><defs><clipPath id=\"pf8458b9dfe\"><rect x=\"58.472\" y=\"7.2\" width=\"390.6\" height=\"277.2\"/></clipPath></defs></svg>"
      ],
      "text/plain": [
       "<Figure size 700x500 with 1 Axes>"
      ]
     },
     "execution_count": 8,
     "metadata": {},
     "output_type": "execute_result"
    }
   ],
   "source": [
    "backend = Aer.get_backend('aer_simulator')\n",
    "backend.shots = 512\n",
    "\n",
    "from qiskit.visualization import plot_histogram\n",
    "qc_res = create_qaoa_circ(graph, res.x)\n",
    "counts = backend.run(qc_res, seed_simulator=10).result().get_counts()\n",
    "plot_histogram(counts)"
   ]
  },
  {
   "cell_type": "markdown",
   "metadata": {},
   "source": [
    "As we notice that the bit strings \"0101\" and \"1010\" have the highest probability and are indeed the assignments of the graph (we started with) that gives 4 edges between the two partitions. "
   ]
  },
  {
   "cell_type": "markdown",
   "metadata": {},
   "source": [
    "## Appendix"
   ]
  },
  {
   "cell_type": "markdown",
   "metadata": {},
   "source": [
    "### 1. Constructing Problem Hamiltonian <a id='Constructing Hamiltonian'></a>\n",
    "\n",
    "Any maximization problem can be cast in terms of a minimization problem and vice versa. Hence the general form a combinatorial optimization problem is given by\n",
    "\n",
    "\n",
    "\n",
    "$$ \\text{maximize } \\;\\;      C(x)$$\n",
    "\n",
    "\n",
    "\n",
    "\n",
    "$$ \\text{subject to } \\;\\; x \\in S $$\n",
    "\n",
    "\n",
    "\n",
    "where $x \\in S$, is a discrete variable and $C : D \\rightarrow \\mathbb{R}$ is the cost function, that maps from some domain $S$ in to the real numbers $\\mathbb{R}$. The variable $x$ can be subject to a set of constraints and lies within the set $S \\subset D$ of feasible points.\n",
    "\n",
    "In binary combinatorial optimization problems, the cost function $C$ can typically be expressed as a sum of terms that only involve a subset $Q \\subset[n]$ of the $n$ bits in the string $x \\in \\{0,1\\}^n$ and is written in the canonical form\n",
    "\n",
    "\n",
    "\n",
    "$$ C(x) = \\sum_{(Q,\\overline{Q}) \\subset [n]} w_{(Q,\\overline{Q})} \\; \\prod_{i\\in Q} x_i \\; \\prod_{j\\in \\overline{Q}} (1- x_j), $$\n",
    "\n",
    "\n",
    "\n",
    "where $x_i \\in \\{0,1\\}$ and $w_{(Q,\\overline{Q})}\\in \\mathbb{R}$. We want to find the n-bit string $x$ for which $C(x)$ is the maximal."
   ]
  },
  {
   "cell_type": "markdown",
   "metadata": {},
   "source": [
    "#### 1.1 Diagonal Hamiltonians\n",
    "\n",
    "This cost function can be mapped to a Hamiltonian that is diagonal in the computational basis. Given the cost-function $C$ this Hamiltonian is then written as\n",
    "\n",
    "\n",
    "\n",
    "$$ H = \\sum_{x \\in \\{0,1\\}^n} C(x) |x \\rangle\\langle x| $$\n",
    "\n",
    "\n",
    "\n",
    "where $x \\in \\{0,1\\}^n$ labels the computational basis states $|x \\rangle \\in \\mathbb{C}^{2^n}$. If the cost function only has at most weight $k$ terms, i.e. when only $Q$ contribute that involve at most $Q \\leq k$ bits, then this diagonal Hamiltonian is also only a sum of weight $k$ Pauli $Z$ operators.\n",
    "\n",
    "The expansion of $H$ in to Pauli $Z$ operators can be obtained from the canonical expansion of the cost-function $C$ by substituting for every binary variable $x_i \\in \\{0,1\\}$ the matrix `{latex} x_i \\rightarrow 2^{-1}(1 - Z_i)`. Here $Z_i$ is read as the Pauli $Z$ operator that acts on qubit $i$ and trivial on all others, i.e.\n",
    "\n",
    "\n",
    "\n",
    "$$ Z_i = \\left(\\begin{array}{cc} 1 & 0 \\\\ 0 & -1 \\end{array}\\right). $$\n",
    "\n",
    "\n",
    "\n",
    "This means that the spin Hamiltonian encoding the classical cost function is written as a $|Q|$ - local quantum spin Hamiltonian only involving Pauli $Z$- operators. \n",
    "\n",
    "\n",
    "\n",
    "$$ H = \\sum_{(Q,\\overline{Q}) \\subset [n]} w_{(Q,\\overline{Q})} \\; \\frac{1}{2^{|Q| + |\\overline{Q}|}}\\prod_{i\\in Q} \\left(1 - Z_i\\right) \\; \\prod_{j\\in \\overline{Q}} \\left(1 + Z_j\\right).$$\n",
    "\n",
    "\n",
    "\n",
    "Now, we will assume that only a few (polynomially many in $n$) $w_{(Q,\\overline{Q})}$ will be non-zero. Moreover we will assume that the set $|(Q,\\overline{Q})|$ is bounded and not too large. This means we can write the cost function as well as the Hamiltonian $H$ as the sum of $m$ local terms $\\hat{C}_k$, \n",
    "\n",
    "\n",
    "\n",
    "$$ H = \\sum_{k = 1}^m \\hat{C}_k, $$\n",
    "\n",
    "\n",
    "\n",
    "where both $m$ and the support of $\\hat{C}_k$ is reasonably bounded."
   ]
  },
  {
   "cell_type": "markdown",
   "metadata": {},
   "source": [
    "### 2 Examples: <a id='examples'></a>\n",
    "\n",
    "We consider 2 examples to illustrate combinatorial optimization problems. We will only implement the first example as in Qiskit, but provide a sequence of exercises that give the instructions to implement the second example as well.  \n",
    "\n",
    "\n",
    "#### 2.1 (weighted) $MAXCUT$\n",
    "\n",
    "Consider an $n$-node non-directed graph *G = (V, E)* where *|V| = n* with edge weights $w_{ij}>0$, `{latex} w_{ij}=w_{ji}`, for $(i,j)\\in E$. A cut is defined as a partition of the original set V into two subsets. The cost function to be optimized is in this case the sum of weights of edges connecting points in the two different subsets, *crossing* the cut. By assigning $x_i=0$ or $x_i=1$ to each node $i$, one tries to maximize the global profit function (here and in the following summations run over indices 1,2,...,n)\n",
    "\n",
    "\n",
    "\n",
    "$$C(\\textbf{x}) = \\sum_{i,j = 1}^n w_{ij} x_i (1-x_j).$$\n",
    "\n",
    "\n",
    "\n",
    "To simplify notation, we assume uniform weights $ w_{ij} = 1$ for $(i,j) \\in E$. To find a solution to this problem on a quantum computer, one needs first to map it to a diagonal  Hamiltonian as discussed above. We write the sum as a sum over edges in the set $E$ \n",
    "\n",
    "\n",
    "\n",
    "$$C(\\textbf{x}) = \\sum_{i,j = 1}^n w_{ij} x_i (1-x_j)  = \\sum_{(i,j) \\in E} \\left( x_i (1-x_j) + x_j (1-x_i)\\right)$$\n",
    "\n",
    "\n",
    "\n",
    "To map it to a spin Hamiltonian, we make the assignment `{latex} x_i\\rightarrow (1-Z_i)/2`, where $Z_i$ is the Pauli Z operator that has eigenvalues $\\pm 1$ and obtain $C(\\textbf{x}) \\rightarrow H$\n",
    "\n",
    "\n",
    "\n",
    "$$ H = \\sum_{(j,k) \\in E} \\frac{1}{2}\\left(1 - Z_j Z_k \\right).$$\n",
    "\n",
    "\n",
    "\n",
    "This means that the Hamiltonian can be written as a sum of $m = |E|$ local terms:\n",
    "\n",
    "$$\\hat{C}_e = \\frac{1}{2}\\left(1 - Z_{e1}Z_{e2}\\right)$$\n",
    "\n",
    "with $e = (e1,e2) \\in E$. \n",
    "\n",
    "\n",
    "#### 2.2 Constraint satisfaction problems and $\\text{MAX 3-SAT}$.\n",
    "\n",
    "Another example of a combinatorial optimization problem is $\\text{3-SAT}$. Here the cost function `{latex} C(\\textbf{x}) = \\sum_{k = 1}^m c_k(\\textbf{x})` is a sum of clauses $c_k(\\textbf{x})$ that constrain the values of $3$ bits of some $\\textbf{x} \\in \\{0,1\\}^n$ that participate in the clause. Consider for instance this example of a $\\text{3-SAT}$ clause \n",
    "\n",
    "\n",
    "\n",
    "$$ c_1(\\textbf{x}) = (1-x_1)(1-x_3)x_{132} $$\n",
    "\n",
    "\n",
    "\n",
    "for a bit string $\\textbf{x} \\in \\{0,1\\}^{133}$. The clause can only be satisfied by setting the bits $x_1 = 0$,$x_3 = 0$ and $x_{132} = 1$. The $\\text{3-SAT}$ problem now asks whether there is a bit string that satisfies all the $m$ clauses or whether no such string exists. This decision problem is the prime example of a problem that is $NP$-complete.  \n",
    "\n",
    "The closely related optimization problem $\\text{MAX 3-SAT}$ asks to find the bit string $\\textbf{x}$ that satisfies the maximal number of clauses in $C(\\textbf{x})$. This can of course be turned again in to a decision problem if we ask where there exists a bit string that satisfies more than $\\tilde{m}$ of the $m$ clauses, which is again $NP$-complete."
   ]
  },
  {
   "cell_type": "markdown",
   "metadata": {},
   "source": [
    "### 3. Approximate optimization algorithms <a id='approximateOPT'></a>\n",
    "\n",
    "Both the previously considered problems $MAXCUT$ and $\\text{MAX 3-SAT}$ are actually known to be a NP-hard problems [3](#references). In fact it turns out that many combinatorial optimization problems are computationally hard to solve in general. In light of this fact, we can't expect to find a provably efficient algorithm, i.e. an algorithm with polynomial runtime in the problem size, that solves these problems. This also applies to quantum algorithms. There are two main approaches to dealing with such problems. First approach is approximation algorithms that are guaranteed to find solution of specified quality in polynomial time. The second approach are heuristic algorithms that don't have a polynomial runtime guarantee but appear to perform well on some instances of such problems. \n",
    "\n",
    "Approximate optimization algorithms are efficient and provide a provable guarantee on how close the approximate solution is to the actual optimum of the problem. The guarantee typically comes in the form of an approximation ratio, $\\alpha \\leq 1$. A probabilistic approximate optimization algorithm guarantees that it produces a bit-string $\\textbf{x}^* \\in \\{0,1\\}^n$ so that *with high probability* we have that with a positive `{latex} C_\\text{max} = \\max_{\\textbf{x}}C(\\textbf{x})` \n",
    "\n",
    "\n",
    "\n",
    "$$ C_\\text{max} \\geq C(\\textbf{x}^*) \\geq \\alpha C_\\text{max}. $$\n",
    "\n",
    "\n",
    "\n",
    "For the $MAXCUT$ problem there is a famous approximate algorithm due to Goemans and Williamson [2](#references) . This algorithm is based on an SDP relaxation of the original problem combined with a probabilistic rounding technique that yields an with high probability approximate solution $\\textbf{x}^*$ that has an approximation ratio of $\\alpha \\approx 0.878$. This approximation ratio is actually believed to optimal so we do not expect to see an improvement by using a quantum algorithm."
   ]
  },
  {
   "cell_type": "markdown",
   "metadata": {},
   "source": [
    "<!-- vale QiskitTextbook.SentenceLengthErr = NO -->\n",
    "\n",
    "### 4. The QAOA algorithm <a id=\"QAOA\"></a>\n",
    "The Quantum approximate optimization algorithm (QAOA) by Farhi, Goldstone and Gutmann [1](#references) is an example of a heuristic algorithm. Unlike Goemans-Williamson algorithm, QAOA does not come with performance guarantees.\n",
    "QAOA takes the approach of classical approximate algorithms and looks for a quantum analogue that will likewise produce a classical bit string $x^*$ that with high probability is expected to have a good approximation ratio $\\alpha$. Before discussing the details, let us first present the general idea of this approach. \n",
    "\n",
    "#### 4.1 Overview:\n",
    "\n",
    "We want to find a quantum state $|\\psi_p(\\vec{\\gamma},\\vec{\\beta})\\rangle$, that depends on some real parameters $\\vec{\\gamma},\\vec{\\beta} \\in \\mathbb{R}^p$, which has the property that it maximizes the expectation value with respect to the problem Hamiltonian $H$. Given this trial state we search for parameters $\\vec{\\gamma}^*,\\vec{\\beta}^*$ that maximize `{latex} F_p(\\vec{\\gamma},\\vec{\\beta}) = \\langle \\psi_p(\\vec{\\gamma},\\vec{\\beta})|H|\\psi_p(\\vec{\\gamma},\\vec{\\beta})\\rangle`. \n",
    "\n",
    "Once we have such a state and the corresponding parameters we prepare the state $|\\psi_p(\\vec{\\gamma}^*,\\vec{\\beta}^*)\\rangle$ on a quantum computer and measure the state in the $Z$ basis `{latex} |x \\rangle = |x_1,\\ldots x_n \\rangle` to obtain a random outcome $x^*$. \n",
    "\n",
    "We will see that this random $x^*$ is going to be a bit string that is with high probability close to the expected value `{latex} M_p = F_p(\\vec{\\gamma}^*,\\vec{\\beta}^*)`. Hence, if $M_p$ is close to $C_\\text{max}$ so is $C(x^*)$.\n",
    "\n",
    "#### 4.2 The components of the QAOA algorithm.\n",
    "\n",
    "#### 4.2.1 The QAOA trial state <a id=\"section_421\"></a>\n",
    "Central to QAOA is the trial state $|\\psi_p(\\vec{\\gamma},\\vec{\\beta})\\rangle$ that will be prepared on the quantum computer. Ideally we want this state to give a large expectation value `{latex} F_p(\\vec{\\gamma},\\vec{\\beta}) = \\langle \\psi_p(\\vec{\\gamma},\\vec{\\beta})|H|\\psi_p(\\vec{\\gamma},\\vec{\\beta})\\rangle` with respect to the problem Hamiltonian $H$. In Farhi [1](#references), the trial states $|\\psi_p(\\vec{\\gamma},\\vec{\\beta})\\rangle$ are constructed from the problem Hamiltonian $H$ together with single qubit Pauli $X$ rotations. That means, given a problems Hamiltonian \n",
    "\n",
    "\n",
    "$$ H = \\sum_{k = 1}^m \\hat{C}_k $$\n",
    "\n",
    " \n",
    "diagonal in the computational basis and a transverse field Hamiltonian\n",
    "\n",
    "\n",
    "$$ B = \\sum_{i = 1}^n X_i $$\n",
    "\n",
    "\n",
    "the trial state is prepared by applying $p$ alternating unitaries \n",
    "\n",
    "\n",
    "\n",
    "$$ |\\psi_p(\\vec{\\gamma},\\vec{\\beta})\\rangle = e^{ -i\\beta_p B } e^{ -i\\gamma_p H } \\ldots e^{ -i\\beta_1 B } e^{ -i\\gamma_1 H } |+\\rangle^n $$\n",
    "\n",
    "\n",
    "\n",
    "to the product state $|+\\rangle^n$ with $ X |+\\rangle = |+\\rangle$. \n",
    "\n",
    "This particular ansatz has the advantage that there exists an explicit choice for the vectors $\\vec{\\gamma}^*,\\vec{\\beta}^*$ such that for `{latex} M_p = F_p(\\vec{\\gamma}^*,\\vec{\\beta}^*)` when we take the limit `{latex} \\lim_{p \\rightarrow \\infty} M_p = C_\\text{max}`. This follows by viewing the trial state $|\\psi_p(\\vec{\\gamma},\\vec{\\beta}) \\rangle$ as the state that follows from Trotterizing the adiabatic evolution with respect to $H$ and the transverse field Hamiltonian $B$, c.f. Ref [1](#references).\n",
    "\n",
    "Conversely the disadvantage of this trial state is one would typically want a state that has been generated from a quantum circuit that is not too deep. Here depth is measured with respect to the gates that can be applied directly on the quantum chip. Hence there are other proposals that suggest using Ansatz trial state that are more tailored to the Hardware of the quantum chip Ref. [4](#references), Ref. [5](#references).\n",
    "\n",
    "\n",
    "#### 4.2.2 Computing the expectation value <a id=\"section_422\"></a>\n",
    "\n",
    "An important component of this approach is that we will have to compute or estimate the expectation value \n",
    "\n",
    "$$\n",
    "F_p(\\vec{\\gamma},\\vec{\\beta}) = \\langle \\psi_p(\\vec{\\gamma},\\vec{\\beta})|H|\\psi_p(\\vec{\\gamma},\\vec{\\beta})\\rangle \n",
    "$$\n",
    "\n",
    "so we can optimize the parameters $\\vec{\\gamma},\\vec{\\beta}$. We will be considering two scenarios here. \n",
    "\n",
    "#### Classical evaluation\n",
    "\n",
    "Note that when the circuit to prepare $|\\psi_p(\\vec{\\gamma},\\vec{\\beta})\\rangle$ is not too deep it may be possible to evaluate the expectation value $F_p$ classically.  \n",
    "\n",
    "This happens for instance when one considers $MAXCUT$ for graphs with bounded degree and one considers a circuit with $p=1$. We will see an example of this in the Qiskit implementation below (section 5.2) and  provide an exercise to compute the expectation value.\n",
    "\n",
    "To illustrate the idea, recall that the Hamiltonian can be written as a sum of individual terms `{latex} H = \\sum_{k = 1}^m \\hat{C}_k`. Due to the linearity of the expectation value, it is sufficient to consider the expectation values of the individual summands. For $p = 1$ one has that \n",
    "\n",
    "\n",
    "\n",
    "$$ \\langle \\psi_1(\\vec{\\gamma},\\vec{\\beta})|\\hat{C}_k|\\psi_1(\\vec{\\gamma},\\vec{\\beta})\\rangle =  \\langle +^n | e^{ i\\gamma_1 H } e^{   i\\beta_1 B } | \\hat{C}_k |  e^{ -i\\beta_1 B } e^{ -i\\gamma_1 H } |+^n\\rangle.$$\n",
    "\n",
    "\n",
    "\n",
    "Observe that with `{latex} B = \\sum_{i = 1}^n X_i` the unitary $e^{ -i\\beta_1 B }$ is actually a product of single qubit rotations about $X$ with an angle $\\beta$ for which we will write `{latex} X(\\beta)_k = \\exp(i\\beta X_k)`. \n",
    "\n",
    "All the individual rotations that don't act on the qubits where $\\hat{C}_k$ is supported commute with $\\hat{C}_k$ and therefore cancel. This does not increase the support of the operator $\\hat{C}_k$. This means that the second set of unitary gates `{latex} e^{ -i\\gamma_1 H } = \\prod_{l=1}^m U_l(\\gamma)` have a large set of gates `{latex} U_l(\\gamma) = e^{ -i\\gamma_1 \\hat{C}_l }` that commute with the operator `{latex} e^{ i\\beta_1 B } \\hat{C}_k  e^{ -i\\beta_1 B }`. The only gates `{latex} U_l(\\gamma) = e^{ -i\\gamma_1 \\hat{C}_l }` that contribute to the expectation value are those which involve qubits in the support of the original $\\hat{C}_k$. \n",
    "\n",
    "Hence, for bounded degree interaction the support of `{latex} e^{ i\\gamma_1 H } e^{   i\\beta_1 B } \\hat{C}_k e^{ -i\\beta_1 B } e^{ -i\\gamma_1 H }` only expands by an amount given by the degree of the interaction in $H$ and is therefore independent of the system size. This means that for these smaller sub problems the expectation values are independent of $n$ and can be evaluated classically. The case of a general degree $3$ is considered in [1](#references).\n",
    "\n",
    "This is a general observation,  which means that if we have a problem where the circuit used for the trial state preparation only increases the support of each term in the Hamiltonian by a constant amount the cost function can be directly evaluated. \n",
    "\n",
    "When this is the case, and only a few parameters $\\beta, \\gamma$ are needed in the preparation of the trial state,\n",
    "these can be found easily by a simple grid search. Furthermore, an exact optimal value of $M_p$ can be used to bound the approximation ratio\n",
    "\n",
    "\n",
    "\n",
    "$$ \\frac{M_p}{C_\\text{max}} \\geq \\alpha $$\n",
    "\n",
    "\n",
    "\n",
    "to obtain an estimate of $\\alpha$. For this case the QAOA algorithm has the same characteristics as a conventional approximate optimization algorithm that comes with a guaranteed approximation ratio that can be obtained with polynomial efficiency in the problem size.\n",
    "\n",
    "\n",
    "#### Evaluation on a quantum computer\n",
    "\n",
    "When the quantum circuit becomes too deep to be evaluated classically, or when the connectivity of the Problem Hamiltonian is too high we can resort to other means of estimating the expectation value. This involves directly estimating $F_p(\\vec{\\gamma},\\vec{\\beta})$ on the quantum computer. The approach here follows the path of the conventional expectation value estimation as used in VQE [4](#references), where a trial state $| \\psi_p(\\vec{\\gamma},\\vec{\\beta}) \\rangle$ is prepared directly on the quantum computer and the expectation value is obtained from sampling.\n",
    "\n",
    "Since QAOA  has a diagonal Hamiltonian $H$ it is actually straight forward to estimate the expectation value. We only need to obtain samples from the trial state in the computational basis. Recall that $H = \\sum_{x \\in \\{0,1\\}^n} C(x) |x \\rangle\\langle x|$ so that we can obtain the sampling estimate of \n",
    "\n",
    "\n",
    "\n",
    "$$ \\langle \\psi_p(\\vec{\\gamma},\\vec{\\beta})|H|\\psi_p(\\vec{\\gamma},\\vec{\\beta})\\rangle = \\sum_{x \\in \\{0,1\\}^n} C(x) |\\langle x| \\psi_p(\\vec{\\gamma},\\vec{\\beta}) \\rangle |^2$$\n",
    "\n",
    "\n",
    "\n",
    "by repeated single qubit measurements of the state $| \\psi_p(\\vec{\\gamma},\\vec{\\beta}) \\rangle $ in the $Z$ basis. For every bit string $x$ obtained from the distribution $|\\langle x| \\psi_p(\\vec{\\gamma},\\vec{\\beta}) \\rangle |^2$ we evaluate the cost function $C(x)$ and average it over the total number of samples. The resulting empirical average approximates the expectation value up to an additive sampling error that lies within the variance of the state. The variance will be discussed below.\n",
    "\n",
    "With access to the expectation value, we can now run a classical optimization algorithm, such as [6](#references),\n",
    "to optimize the $F_p$.\n",
    "\n",
    "While this approach does not lead to an a-priori approximation guarantee for $x^*$, the optimized function value \n",
    "can be used later to provide an estimate for the approximation ratio $\\alpha$.\n",
    "\n",
    "\n",
    "#### 4.3.3 Obtaining a solution with a given approximation ratio with high probability\n",
    "The algorithm is probabilistic in nature and produces random bit strings from the distribution $|\\langle x| \\psi_p(\\vec{\\gamma},\\vec{\\beta}) \\rangle |^2$. So how can we be sure that we will sample an approximation $x^*$ that is close to the value of the optimized expectation value $M_p$? Note that this question is also relevant to the estimation of $M_p$ on a quantum computer in the first place. If the samples drawn from $|\\langle x| \\psi_p(\\vec{\\gamma},\\vec{\\beta}) \\rangle |^2$ have too much variance, many samples are necessary to determine the mean. \n",
    "\n",
    "We will draw a bit string $x^*$ that is close to the mean $M_p$ with high probability when the energy as variable has little variance.\n",
    "\n",
    "Note that the number of terms in the Hamiltonian `{latex} H = \\sum_{k=1}^m \\hat{C}_k` are bounded by $m$. Say each individual \n",
    "summand $\\hat{C}_k$ has an operator norm that can be bounded by a universal constant $\\|\\hat{C}_k\\| \\leq \\tilde{C}$ for all $k = 1\\ldots m$. Then consider \n",
    "\n",
    "$$\n",
    "\\begin{aligned}\n",
    "\\langle \\psi_p(\\vec{\\gamma},\\vec{\\beta})|H^2|\\psi_p(\\vec{\\gamma},\\vec{\\beta})\\rangle - \\langle \\psi_p(\\vec{\\gamma},\\vec{\\beta})|H|\\psi_p(\\vec{\\gamma},\\vec{\\beta})\\rangle^2 &\\leq  \\langle \\psi_p(\\vec{\\gamma},\\vec{\\beta})|H^2|\\psi_p(\\vec{\\gamma},\\vec{\\beta})\\rangle \\\\\n",
    "&= \\sum_{k,l =1}^m  \\langle \\psi_p(\\vec{\\gamma},\\vec{\\beta})|\\hat{C}_k \\hat{C}_l |\\psi_p(\\vec{\\gamma},\\vec{\\beta})\\rangle \\\\\n",
    "&\\leq m^2 \\tilde{C}^2 \\\\\n",
    "\\end{aligned}\n",
    "$$\n",
    "\n",
    "\n",
    "where we have used that \n",
    "`{latex} \\langle \\psi_p(\\vec{\\gamma},\\vec{\\beta})|\\hat{C}_k \\hat{C}_l |\\psi_p(\\vec{\\gamma},\\vec{\\beta})\\rangle \\leq \\tilde{C}^2`. \n",
    "\n",
    "\n",
    "This means that the variance of any expectation $F_p(\\vec{\\gamma},\\vec{\\beta})$ is bounded by $m^2 \\tilde{C}^2$. Hence this in particular applies for $M_p$. Furthermore if $m$ only grows polynomially in the number of qubits $n$, we know that taking polynomially growing number of samples $s = O\\left(\\frac{\\tilde{C}^2 m^2}{\\epsilon^2}\\right)$ from $|\\langle x| \\psi_p(\\vec{\\gamma},\\vec{\\beta}) \\rangle |^2$ will be sufficient to obtain a $x^*$ that leads to an $C(x^*)$ that will be close to $M_p$."
   ]
  },
  {
   "cell_type": "markdown",
   "metadata": {},
   "source": [
    "### 5. Problems<a id=\"problems\"></a>\n",
    "\n",
    "0. The QAOA algorithm produces a bit string, is this string the optimal solution for this graph? Compare the experimental results from the superconducting chip with the results from the local QASM simulation.\n",
    "\n",
    "1. We have computed the cost function $F_1$  analytically in [section 5.2](#implementation_sec52). Verify the steps and compute $f_A(\\gamma,\\beta)$ as well $f_B(\\gamma,\\beta)$.\n",
    "\n",
    "2. We have given an exact expression for $F_1$ in the Qiskit implementation.\n",
    "      - Write a routine to estimate the expectation value $F_1(\\gamma,\\beta)$ from the samples obtained in the result \n",
    "      - Use an optimization routine,e.g. SPSA from the VQE example in this tutorial, to optimize the parameters in the sampled $F_1(\\gamma,\\beta)$ numerically. Do you find the same values for $\\gamma^*,\\beta^*$ ?\n",
    "\n",
    "3. The Trial circuit in [section 5.3](#implementation_sec53) corresponds to depth $p=1$ and was directly aimed at being compatible with the Hardware.\n",
    "    - Use the routine from exercise 2 to evaluate the cost functions $F_p(\\gamma,\\beta)$ for $p=2,3$. What do you expect to see in the actual Hardware?\n",
    "    - Generalize this class of trial state to other candidate wave functions, such as the Hardware efficient ansatz of Ref. [4](#references). "
   ]
  },
  {
   "cell_type": "markdown",
   "metadata": {},
   "source": [
    "## References<a id=\"references\"></a>\n",
    "1. Farhi, Edward, Jeffrey Goldstone, and Sam Gutmann. \"A quantum approximate optimization algorithm.\" arXiv preprint [arXiv:1411.4028 (2014)](https://arxiv.org/abs/1411.4028).\n",
    "2. Goemans, Michel X., and David P. Williamson. [Journal of the ACM (JACM) 42.6 (1995): 1115-1145](http://www-math.mit.edu/~goemans/PAPERS/maxcut-jacm.pdf).\n",
    "3. Garey, Michael R.; David S. Johnson (1979). Computers and Intractability: A Guide to the Theory of NP-Completeness. W. H. Freeman. ISBN 0-7167-1045-5\n",
    "4. Kandala, Abhinav, et al. \"Hardware-efficient variational quantum eigensolver for small molecules and quantum magnets.\" [Nature 549.7671 (2017): 242](https://www.nature.com/articles/nature23879).\n",
    "5. Farhi, Edward, et al. \"Quantum algorithms for fixed qubit architectures.\" arXiv preprint [arXiv:1703.06199 (2017)](https://arxiv.org/abs/1703.06199).\n",
    "6. Spall, J. C. (1992), [IEEE Transactions on Automatic Control, vol. 37(3), pp. 332–341](https://ieeexplore.ieee.org/document/119632).\n",
    "7. Michael Streif and Martin Leib \"Training the quantum approximate optimization algorithm without access to a quantum processing unit\" (2020) [Quantum Sci. Technol. 5 034008](https://doi.org/10.1088/2058-9565/ab8c2b)"
   ]
  },
  {
   "cell_type": "code",
   "execution_count": 9,
   "metadata": {},
   "outputs": [
    {
     "data": {
      "text/html": [
       "<h3>Version Information</h3><table><tr><th>Qiskit Software</th><th>Version</th></tr><tr><td><code>qiskit-terra</code></td><td>0.23.3</td></tr><tr><td><code>qiskit-aer</code></td><td>0.12.0</td></tr><tr><td><code>qiskit-ibmq-provider</code></td><td>0.20.2</td></tr><tr><td><code>qiskit</code></td><td>0.42.1</td></tr><tr><td><code>qiskit-nature</code></td><td>0.6.0</td></tr><tr><td><code>qiskit-finance</code></td><td>0.3.2</td></tr><tr><td><code>qiskit-optimization</code></td><td>0.4.0</td></tr><tr><td><code>qiskit-machine-learning</code></td><td>0.4.0</td></tr><tr><th>System information</th></tr><tr><td>Python version</td><td>3.8.16</td></tr><tr><td>Python compiler</td><td>Clang 14.0.0 (clang-1400.0.29.202)</td></tr><tr><td>Python build</td><td>default, Dec  7 2022 01:36:11</td></tr><tr><td>OS</td><td>Darwin</td></tr><tr><td>CPUs</td><td>8</td></tr><tr><td>Memory (Gb)</td><td>32.0</td></tr><tr><td colspan='2'>Thu Apr 20 17:02:26 2023 BST</td></tr></table>"
      ],
      "text/plain": [
       "<IPython.core.display.HTML object>"
      ]
     },
     "metadata": {},
     "output_type": "display_data"
    }
   ],
   "source": [
    "# pylint: disable=unused-import\n",
    "import qiskit.tools.jupyter\n",
    "%qiskit_version_table"
   ]
  }
 ],
 "metadata": {
  "kernelspec": {
   "display_name": "Python 3",
   "language": "python",
   "name": "python3"
  },
  "language_info": {
   "codemirror_mode": {
    "name": "ipython",
    "version": 3
   },
   "file_extension": ".py",
   "mimetype": "text/x-python",
   "name": "python",
   "nbconvert_exporter": "python",
   "pygments_lexer": "ipython3",
   "version": "3.9"
  }
 },
 "nbformat": 4,
 "nbformat_minor": 4
}
