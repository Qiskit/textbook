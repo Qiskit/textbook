{
 "cells": [
  {
   "cell_type": "markdown",
   "metadata": {
    "tags": [
     "remove_cell"
    ]
   },
   "source": [
    "# Hybrid quantum-classical Neural Networks with PyTorch and Qiskit"
   ]
  },
  {
   "cell_type": "markdown",
   "metadata": {},
   "source": [
    "Machine learning (ML) has established itself as a successful interdisciplinary field which seeks to mathematically extract generalizable information from data. Throwing in quantum computing gives rise to interesting areas of research which seek to leverage the principles of quantum mechanics to augment machine learning or vice-versa. Whether you're aiming to enhance classical ML algorithms by outsourcing difficult calculations to a quantum computer or optimise quantum algorithms using classical ML architectures - both fall under the diverse umbrella of quantum machine learning (QML).\n",
    "\n",
    "In this chapter, we explore how a classical neural network can be partially quantized to create a hybrid quantum-classical neural network. We will code up a simple example that integrates **Qiskit** with a state-of-the-art open-source software package - **[PyTorch](https://pytorch.org/)**. The purpose of this example is to demonstrate the ease of integrating Qiskit with existing ML tools and to encourage ML practitioners to explore what is possible with quantum computing.\n",
    "\n",
    "## Contents\n",
    "\n",
    "1. [How Does it Work?](#how)    \n",
    "    1.1 [Preliminaries](#prelims)    \n",
    "2. [So How Does Quantum Enter the Picture?](#quantumlayer)\n",
    "3. [Let's code!](#code)  \n",
    "    3.1 [Imports](#imports)   \n",
    "    3.2 [Create a \"Quantum Class\" with Qiskit](#q-class)    \n",
    "    3.3 [Create a \"Quantum-Classical Class\" with PyTorch](#qc-class)    \n",
    "    3.4 [Data Loading and Preprocessing](#data-loading-preprocessing)    \n",
    "    3.5 [Creating the Hybrid Neural Network](#hybrid-nn)     \n",
    "    3.6 [Training the Network](#training)    \n",
    "    3.7 [Testing the Network](#testing)\n",
    "4. [What Now?](#what-now)"
   ]
  },
  {
   "cell_type": "markdown",
   "metadata": {},
   "source": [
    "## 1. How does it work? <a id='how'></a>\n",
    "<img src=\"hybridnetwork.png\" />\n",
    "\n",
    "**Fig.1** Illustrates the framework we will construct in this chapter. Ultimately, we will create a hybrid quantum-classical neural network that seeks to classify hand drawn digits. Note that the edges shown in this image are all directed downward; however, the directionality is not visually indicated. "
   ]
  },
  {
   "cell_type": "markdown",
   "metadata": {},
   "source": [
    "### 1.1 Preliminaries <a id='prelims'></a>\n",
    "The background presented here on classical neural networks is included to establish relevant ideas and shared terminology; however, it is still extremely high-level. __If you'd like to dive one step deeper into classical neural networks, see the well made video series by youtuber__ [3Blue1Brown](https://youtu.be/aircAruvnKk). Alternatively, if you are already familiar with classical networks, you can [skip to the next section](#quantumlayer).\n",
    "\n",
    "###### Neurons and Weights\n",
    "A neural network is ultimately just an elaborate function that is built by composing smaller building blocks called neurons. A ***neuron*** is typically a simple, easy-to-compute, and nonlinear function that maps one or more inputs to a single real number. The single output of a neuron is typically copied and fed as input into other neurons. Graphically, we represent neurons as nodes in a graph and we draw directed edges between nodes to indicate how the output of one neuron will be used as input to other neurons. It's also important to note that each edge in our graph is often associated with a scalar-value called a [***weight***](https://en.wikipedia.org/wiki/Artificial_neural_network#Connections_and_weights). The idea here is that each of the inputs to a neuron will be multiplied by a different scalar before being collected and processed into a single value. The objective when training a neural network consists primarily of choosing our weights such that the network behaves in a particular way. \n",
    "\n",
    "###### Feed Forward Neural Networks\n",
    "It is also worth noting that the particular type of neural network we will concern ourselves with is called a **[feed-forward neural network (FFNN)](https://en.wikipedia.org/wiki/Feedforward_neural_network)**. This means that as data flows through our neural network, it will never return to a neuron it has already visited. Equivalently, you could say that the graph which describes our neural network is a **[directed acyclic graph (DAG)](https://en.wikipedia.org/wiki/Directed_acyclic_graph)**. Furthermore, we will stipulate that neurons within the same layer of our neural network will not have edges between them. \n",
    "\n",
    "###### IO Structure of Layers\n",
    "The input to a neural network is a classical (real-valued) vector. Each component of the input vector is multiplied by a different weight and fed into a layer of neurons according to the graph structure of the network. After each neuron in the layer has been evaluated, the results are collected into a new vector where the i'th component records the output of the i'th neuron. This new vector can then be treated as an input for a new layer, and so on. We will use the standard term ***hidden layer*** to describe all but the first and last layers of our network.\n"
   ]
  },
  {
   "cell_type": "markdown",
   "metadata": {},
   "source": [
    "## 2. So How Does Quantum Enter the Picture? <a id='quantumlayer'> </a>\n",
    "\n",
    "To create a quantum-classical neural network, one can implement a hidden layer for our neural network using a parameterized quantum circuit. By \"parameterized quantum circuit\", we mean a quantum circuit where the rotation angles for each gate are specified by the components of a classical input vector. The outputs from our neural network's previous layer will be collected and used as the inputs for our parameterized circuit. The measurement statistics of our quantum circuit can then be collected and used as inputs for the following layer. A simple example is depicted below:\n",
    "\n",
    "<img src=\"neuralnetworkQC.png\" />\n",
    "\n",
    "Here, $\\sigma$ is a [nonlinear function](https://en.wikipedia.org/wiki/Activation_function) and $h_i$ is the value of neuron $i$ at each hidden layer. $R(h_i)$ represents any rotation gate about an angle equal to $h_i$ and $y$ is the final prediction value generated from the hybrid network.  \n",
    "\n",
    "### What about backpropagation?\n",
    "If you're familiar with classical ML, you may immediately be wondering *how do we calculate gradients when quantum circuits are involved?* This would be necessary to enlist powerful optimisation techniques such as **[gradient descent](https://en.wikipedia.org/wiki/Gradient_descent)**. It gets a bit technical, but in short, we can view a quantum circuit as a black box and the gradient of this black box with respect to its parameters can be calculated as follows: \n",
    "\n",
    "<img src=\"quantumgradient.png\" />\n",
    "\n",
    "where $\\theta$ represents the parameters of the quantum circuit and $s$ is a macroscopic shift. The gradient is then simply the difference between our quantum circuit evaluated at $\\theta+s$ and $\\theta - s$. Thus, we can systematically differentiate our quantum circuit as part of a larger backpropagation routine. This closed form rule for calculating the gradient of quantum circuit parameters is known as **[the parameter shift rule](https://arxiv.org/pdf/1905.13311.pdf)**. "
   ]
  },
  {
   "cell_type": "markdown",
   "metadata": {},
   "source": [
    "## 3. Let's code! <a id='code'></a>\n",
    "\n",
    "\n",
    "### 3.1 Imports <a id='imports'></a>\n",
    "First, we import some handy packages that we will need, including Qiskit and PyTorch."
   ]
  },
  {
   "cell_type": "code",
   "execution_count": 1,
   "metadata": {},
   "outputs": [],
   "source": [
    "import numpy as np\n",
    "import matplotlib.pyplot as plt\n",
    "\n",
    "import torch\n",
    "from torch.autograd import Function\n",
    "from torchvision import datasets, transforms\n",
    "import torch.optim as optim\n",
    "import torch.nn as nn\n",
    "import torch.nn.functional as F\n",
    "\n",
    "import qiskit\n",
    "from qiskit import transpile, assemble\n",
    "from qiskit.visualization import *"
   ]
  },
  {
   "cell_type": "markdown",
   "metadata": {},
   "source": [
    "### 3.2 Create a \"Quantum Class\" with Qiskit <a id='q-class'></a>\n",
    "We can conveniently put our Qiskit quantum functions into a class. First, we specify how many trainable quantum parameters and how many shots we wish to use in our quantum circuit. In this example, we will keep it simple and use a 1-qubit circuit with one trainable quantum parameter $\\theta$. We hard code the circuit for simplicity and use a $RY-$rotation by the angle $\\theta$ to train the output of our circuit. The circuit looks like this:\n",
    "\n",
    "<img src=\"1qubitcirc.png\" width=\"400\"/>\n",
    "\n",
    "In order to measure the output in the $z-$basis, we calculate the $\\sigma_\\mathbf{z}$ expectation. \n",
    "$$\\sigma_\\mathbf{z} = \\sum_i z_i p(z_i)$$\n",
    "We will see later how this all ties into the hybrid neural network."
   ]
  },
  {
   "cell_type": "code",
   "execution_count": 6,
   "metadata": {},
   "outputs": [],
   "source": [
    "class QuantumCircuit:\n",
    "    \"\"\" \n",
    "    This class provides a simple interface for interaction \n",
    "    with the quantum circuit \n",
    "    \"\"\"\n",
    "    \n",
    "    def __init__(self, n_qubits, backend, shots):\n",
    "        # --- Circuit definition ---\n",
    "        self._circuit = qiskit.QuantumCircuit(n_qubits)\n",
    "        \n",
    "        all_qubits = [i for i in range(n_qubits)]\n",
    "        self.theta = qiskit.circuit.Parameter('theta')\n",
    "        \n",
    "        self._circuit.h(all_qubits)\n",
    "        self._circuit.barrier()\n",
    "        self._circuit.ry(self.theta, all_qubits)\n",
    "        \n",
    "        self._circuit.measure_all()\n",
    "        # ---------------------------\n",
    "\n",
    "        self.backend = backend\n",
    "        self.shots = shots\n",
    "    \n",
    "    def run(self, thetas):\n",
    "        t_qc = transpile(self._circuit,\n",
    "                         self.backend)\n",
    "        qobj = assemble(t_qc,\n",
    "                        shots=self.shots,\n",
    "                        parameter_binds = [{self.theta: theta} for theta in thetas])\n",
    "        job = self.backend.run(qobj)\n",
    "        result = job.result().get_counts()\n",
    "        \n",
    "        counts = np.array(list(result.values()))\n",
    "        states = np.array(list(result.keys())).astype(float)\n",
    "        \n",
    "        # Compute probabilities for each state\n",
    "        probabilities = counts / self.shots\n",
    "        # Get state expectation\n",
    "        expectation = np.sum(states * probabilities)\n",
    "        \n",
    "        return np.array([expectation])"
   ]
  },
  {
   "cell_type": "markdown",
   "metadata": {},
   "source": [
    "Let's test the implementation"
   ]
  },
  {
   "cell_type": "code",
   "execution_count": 3,
   "metadata": {},
   "outputs": [
    {
     "name": "stdout",
     "output_type": "stream",
     "text": [
      "Expected value for rotation pi 0.57\n"
     ]
    },
    {
     "data": {
      "image/svg+xml": "<?xml version=\"1.0\" encoding=\"UTF-8\"?><!DOCTYPE svg  PUBLIC '-//W3C//DTD SVG 1.1//EN'  'http://www.w3.org/Graphics/SVG/1.1/DTD/svg11.dtd'><svg width=\"329.9pt\" height=\"123.48pt\" version=\"1.1\" viewBox=\"0 0 329.9 123.48\" xmlns=\"http://www.w3.org/2000/svg\" xmlns:xlink=\"http://www.w3.org/1999/xlink\"><defs><style type=\"text/css\">*{stroke-linecap:butt;stroke-linejoin:round;}</style></defs><path d=\"m0 123.48h329.9v-123.48h-329.9z\" fill=\"#ffffff\"/><path d=\"m286.79 78.672h11.817l-5.9086 8.5221z\" clip-path=\"url(#pe3ba9d3080)\" fill=\"#778899\"/><path d=\"m86.353 43.561h231.8\" clip-path=\"url(#pe3ba9d3080)\" fill=\"none\" stroke=\"#000000\" stroke-linecap=\"square\" stroke-width=\"2\"/><path d=\"m86.353 87.535h231.8\" clip-path=\"url(#pe3ba9d3080)\" fill=\"none\" stroke=\"#778899\" stroke-linecap=\"square\" stroke-width=\"2\"/><path d=\"m86.353 90.489h231.8\" clip-path=\"url(#pe3ba9d3080)\" fill=\"none\" stroke=\"#778899\" stroke-linecap=\"square\" stroke-width=\"2\"/><path d=\"m147.48 66.286h17.726v-45.451h-17.726z\" clip-path=\"url(#pe3ba9d3080)\" fill=\"#bdbdbd\" opacity=\".6\"/><path d=\"m238.39 66.286h17.726v-45.451h-17.726z\" clip-path=\"url(#pe3ba9d3080)\" fill=\"#bdbdbd\" opacity=\".6\"/><path d=\"m294.18 43.561v35.111\" clip-path=\"url(#pe3ba9d3080)\" fill=\"none\" stroke=\"#778899\" stroke-linecap=\"square\" stroke-width=\"2\"/><path d=\"m291.22 43.561v35.111\" clip-path=\"url(#pe3ba9d3080)\" fill=\"none\" stroke=\"#778899\" stroke-linecap=\"square\" stroke-width=\"2\"/><path d=\"m96.125 58.332h29.543v-29.543h-29.543z\" clip-path=\"url(#pe3ba9d3080)\" fill=\"#6fa4ff\" stroke=\"#6fa4ff\" stroke-width=\"1.5\"/><path d=\"m187.03 58.332h29.543v-29.543h-29.543z\" clip-path=\"url(#pe3ba9d3080)\" fill=\"#bb8bff\" stroke=\"#bb8bff\" stroke-width=\"1.5\"/><path d=\"m277.93 58.332h29.543v-29.543h-29.543z\" clip-path=\"url(#pe3ba9d3080)\" stroke=\"#000000\" stroke-width=\"1.5\"/><path d=\"m303.04 47.992c0-2.7413-1.0901-5.3732-3.0285-7.3116-1.9384-1.9384-4.5702-3.0285-7.3116-3.0285s-5.3732 1.0901-7.3116 3.0285-3.0285 4.5702-3.0285 7.3116\" clip-path=\"url(#pe3ba9d3080)\" fill=\"none\" stroke=\"#ffffff\" stroke-width=\"2\"/><path d=\"m292.7 47.992 10.34-10.34\" clip-path=\"url(#pe3ba9d3080)\" fill=\"none\" stroke=\"#ffffff\" stroke-linecap=\"square\" stroke-width=\"2\"/><path d=\"m156.35 20.835v45.451\" clip-path=\"url(#pe3ba9d3080)\" fill=\"none\" stroke=\"#000000\" stroke-dasharray=\"3.7,1.6\"/><path d=\"m247.25 20.835v45.451\" clip-path=\"url(#pe3ba9d3080)\" fill=\"none\" stroke=\"#000000\" stroke-dasharray=\"3.7,1.6\"/><g clip-path=\"url(#pe3ba9d3080)\"><defs><path id=\"DejaVuSans-72\" d=\"m9.8125 72.906h9.8594v-29.891h35.844v29.891h9.8594v-72.906h-9.8594v34.719h-35.844v-34.719h-9.8594z\"/></defs><g transform=\"translate(106.01 47.148) scale(.13 -.13)\"><use xlink:href=\"#DejaVuSans-72\"/></g></g><g clip-path=\"url(#pe3ba9d3080)\"><defs><path id=\"DejaVuSans-82\" d=\"m44.391 34.188q3.1719-1.0781 6.1719-4.5938t6.0312-9.6719l10.016-19.922h-10.609l-9.3125 18.703q-3.625 7.3281-7.0156 9.7188t-9.25 2.3906h-10.75v-30.812h-9.8594v72.906h22.266q12.5 0 18.656-5.2344 6.1562-5.2188 6.1562-15.766 0-6.8906-3.2031-11.438-3.2031-4.5312-9.2969-6.2812zm-24.719 30.609v-25.875h12.406q7.125 0 10.766 3.2969t3.6406 9.6875-3.6406 9.6406-10.766 3.25z\"/><path id=\"DejaVuSans-89\" d=\"m-0.20312 72.906h10.609l20.203-29.984 20.078 29.984h10.594l-25.781-38.188v-34.719h-9.9062v34.719z\"/></defs><g transform=\"translate(194.26 42.717) scale(.13 -.13)\"><use transform=\"translate(0 .09375)\" xlink:href=\"#DejaVuSans-82\"/><use transform=\"translate(70.439 -16.312) scale(.7)\" xlink:href=\"#DejaVuSans-89\"/></g></g><g clip-path=\"url(#pe3ba9d3080)\"><defs><path id=\"DejaVuSans-116\" d=\"m18.312 70.219v-15.531h18.5v-6.9844h-18.5v-29.688q0-6.6875 1.8281-8.5938t7.4531-1.9062h9.2188v-7.5156h-9.2188q-10.406 0-14.359 3.875-3.9531 3.8906-3.9531 14.141v29.688h-6.5938v6.9844h6.5938v15.531z\"/><path id=\"DejaVuSans-104\" d=\"m54.891 33.016v-33.016h-8.9844v32.719q0 7.7656-3.0312 11.609-3.0312 3.8594-9.0781 3.8594-7.2812 0-11.484-4.6406-4.2031-4.625-4.2031-12.641v-30.906h-9.0312v75.984h9.0312v-29.797q3.2344 4.9375 7.5938 7.375 4.375 2.4375 10.094 2.4375 9.4219 0 14.25-5.8281 4.8438-5.8281 4.8438-17.156z\"/><path id=\"DejaVuSans-101\" d=\"m56.203 29.594v-4.3906h-41.312q0.59375-9.2812 5.5938-14.141t13.938-4.8594q5.1719 0 10.031 1.2656t9.6562 3.8125v-8.5q-4.8438-2.0469-9.9219-3.125t-10.297-1.0781q-13.094 0-20.734 7.6094-7.6406 7.625-7.6406 20.625 0 13.422 7.25 21.297 7.25 7.8906 19.562 7.8906 11.031 0 17.453-7.1094 6.4219-7.0938 6.4219-19.297zm-8.9844 2.6406q-0.09375 7.3594-4.125 11.75-4.0312 4.4062-10.672 4.4062-7.5156 0-12.031-4.25t-5.2031-11.969z\"/><path id=\"DejaVuSans-97\" d=\"m34.281 27.484q-10.891 0-15.094-2.4844t-4.2031-8.5q0-4.7812 3.1562-7.5938 3.1562-2.7969 8.5625-2.7969 7.4844 0 12 5.2969t4.5156 14.078v2zm17.922 3.7188v-31.203h-8.9844v8.2969q-3.0781-4.9688-7.6719-7.3438t-11.234-2.375q-8.3906 0-13.359 4.7188-4.9531 4.7188-4.9531 12.625 0 9.2188 6.1719 13.906 6.1875 4.6875 18.438 4.6875h12.609v0.89062q0 6.2031-4.0781 9.5938t-11.453 3.3906q-4.6875 0-9.1406-1.125-4.4375-1.125-8.5312-3.375v8.3125q4.9219 1.9062 9.5625 2.8438 4.6406 0.95312 9.0312 0.95312 11.875 0 17.734-6.1562 5.8594-6.1406 5.8594-18.641z\"/></defs><g transform=\"translate(191.21 54.631) scale(.08 -.08)\"><use xlink:href=\"#DejaVuSans-116\"/><use x=\"39.208984\" xlink:href=\"#DejaVuSans-104\"/><use x=\"102.587891\" xlink:href=\"#DejaVuSans-101\"/><use x=\"164.111328\" xlink:href=\"#DejaVuSans-116\"/><use x=\"203.320312\" xlink:href=\"#DejaVuSans-97\"/></g></g><g clip-path=\"url(#pe3ba9d3080)\"><defs><path id=\"DejaVuSans-48\" d=\"m31.781 66.406q-7.6094 0-11.453-7.5-3.8281-7.4844-3.8281-22.531 0-14.984 3.8281-22.484 3.8438-7.5 11.453-7.5 7.6719 0 11.5 7.5 3.8438 7.5 3.8438 22.484 0 15.047-3.8438 22.531-3.8281 7.5-11.5 7.5zm0 7.8125q12.266 0 18.734-9.7031 6.4688-9.6875 6.4688-28.141 0-18.406-6.4688-28.109-6.4688-9.6875-18.734-9.6875-12.25 0-18.719 9.6875-6.4688 9.7031-6.4688 28.109 0 18.453 6.4688 28.141 6.4688 9.7031 18.719 9.7031z\"/></defs><g transform=\"translate(304.06 82.304) scale(.104 -.104)\"><use xlink:href=\"#DejaVuSans-48\"/></g></g><g clip-path=\"url(#pe3ba9d3080)\"><defs><path id=\"DejaVuSans-113\" d=\"m14.797 27.297q0-9.9062 4.0781-15.547t11.203-5.6406 11.219 5.6406q4.1094 5.6406 4.1094 15.547t-4.1094 15.547q-4.0938 5.6406-11.219 5.6406t-11.203-5.6406-4.0781-15.547zm30.609-19.094q-2.8281-4.875-7.1562-7.25-4.3125-2.375-10.375-2.375-9.9062 0-16.141 7.9062-6.2188 7.9219-6.2188 20.812t6.2188 20.797q6.2344 7.9062 16.141 7.9062 6.0625 0 10.375-2.375 4.3281-2.3594 7.1562-7.2344v8.2969h8.9844v-75.484h-8.9844z\"/></defs><g transform=\"translate(66.947 48.045) scale(.1625 -.1625)\"><use xlink:href=\"#DejaVuSans-113\"/></g></g><g clip-path=\"url(#pe3ba9d3080)\"><defs><path id=\"DejaVuSans-109\" d=\"m52 44.188q3.375 6.0625 8.0625 8.9375t11.031 2.875q8.5469 0 13.188-5.9844 4.6406-5.9688 4.6406-17v-33.016h-9.0312v32.719q0 7.8594-2.7969 11.656-2.7812 3.8125-8.4844 3.8125-6.9844 0-11.047-4.6406-4.0469-4.625-4.0469-12.641v-30.906h-9.0312v32.719q0 7.9062-2.7812 11.688t-8.5938 3.7812q-6.8906 0-10.953-4.6562-4.0469-4.6562-4.0469-12.625v-30.906h-9.0312v54.688h9.0312v-8.5q3.0781 5.0312 7.375 7.4219t10.203 2.3906q5.9688 0 10.141-3.0312 4.1719-3.0156 6.1719-8.7812z\"/><path id=\"DejaVuSans-115\" d=\"m44.281 53.078v-8.5q-3.7969 1.9531-7.9062 2.9219-4.0938 0.98438-8.5 0.98438-6.6875 0-10.031-2.0469t-3.3438-6.1562q0-3.125 2.3906-4.9062t9.625-3.3906l3.0781-0.6875q9.5625-2.0469 13.594-5.7812t4.0312-10.422q0-7.625-6.0312-12.078-6.0312-4.4375-16.578-4.4375-4.3906 0-9.1562 0.85938t-10.031 2.5625v9.2812q4.9844-2.5938 9.8125-3.8906 4.8281-1.2812 9.5781-1.2812 6.3438 0 9.75 2.1719 3.4219 2.1719 3.4219 6.125 0 3.6562-2.4688 5.6094-2.4531 1.9531-10.812 3.7656l-3.125 0.73438q-8.3438 1.75-12.062 5.3906-3.7031 3.6406-3.7031 9.9844 0 7.7188 5.4688 11.906 5.4688 4.2031 15.531 4.2031 4.9688 0 9.3594-0.73438 4.4062-0.71875 8.1094-2.1875z\"/></defs><g transform=\"translate(33.012 93.496) scale(.1625 -.1625)\"><use xlink:href=\"#DejaVuSans-109\"/><use x=\"97.412109\" xlink:href=\"#DejaVuSans-101\"/><use x=\"158.935547\" xlink:href=\"#DejaVuSans-97\"/><use x=\"220.214844\" xlink:href=\"#DejaVuSans-115\"/></g></g><defs><clipPath id=\"pe3ba9d3080\"><rect x=\"7.2\" y=\"7.2\" width=\"315.5\" height=\"109.08\"/></clipPath></defs></svg>",
      "text/plain": [
       "<Figure size 417.879x144.48 with 1 Axes>"
      ]
     },
     "execution_count": 3,
     "metadata": {},
     "output_type": "execute_result"
    }
   ],
   "source": [
    "simulator = qiskit.Aer.get_backend('aer_simulator')\n",
    "\n",
    "circuit = QuantumCircuit(1, simulator, 100)\n",
    "print('Expected value for rotation pi {}'.format(circuit.run([np.pi])[0]))\n",
    "circuit._circuit.draw()"
   ]
  },
  {
   "cell_type": "markdown",
   "metadata": {},
   "source": [
    "### 3.3 Create a \"Quantum-Classical Class\" with PyTorch <a id='qc-class'></a>\n",
    "Now that our quantum circuit is defined, we can create the functions needed for backpropagation using PyTorch. [The forward and backward passes](http://www.ai.mit.edu/courses/6.034b/backprops.pdf) contain elements from our Qiskit class. The backward pass directly computes the analytical gradients using the finite difference formula we introduced above."
   ]
  },
  {
   "cell_type": "code",
   "execution_count": 8,
   "metadata": {},
   "outputs": [],
   "source": [
    "class HybridFunction(Function):\n",
    "    \"\"\" Hybrid quantum - classical function definition \"\"\"\n",
    "    \n",
    "    @staticmethod\n",
    "    def forward(ctx, input, quantum_circuit, shift):\n",
    "        \"\"\" Forward pass computation \"\"\"\n",
    "        ctx.shift = shift\n",
    "        ctx.quantum_circuit = quantum_circuit\n",
    "\n",
    "        expectation_z = ctx.quantum_circuit.run(input[0].tolist())\n",
    "        result = torch.tensor([expectation_z])\n",
    "        ctx.save_for_backward(input, result)\n",
    "\n",
    "        return result\n",
    "        \n",
    "    @staticmethod\n",
    "    def backward(ctx, grad_output):\n",
    "        \"\"\" Backward pass computation \"\"\"\n",
    "        input, expectation_z = ctx.saved_tensors\n",
    "        input_list = np.array(input.tolist())\n",
    "        \n",
    "        shift_right = input_list + np.ones(input_list.shape) * ctx.shift\n",
    "        shift_left = input_list - np.ones(input_list.shape) * ctx.shift\n",
    "        \n",
    "        gradients = []\n",
    "        for i in range(len(input_list)):\n",
    "            expectation_right = ctx.quantum_circuit.run(shift_right[i])\n",
    "            expectation_left  = ctx.quantum_circuit.run(shift_left[i])\n",
    "            \n",
    "            gradient = torch.tensor([expectation_right]) - torch.tensor([expectation_left])\n",
    "            gradients.append(gradient)\n",
    "        gradients = np.array([gradients]).T\n",
    "        return torch.tensor([gradients]).float() * grad_output.float(), None, None\n",
    "\n",
    "class Hybrid(nn.Module):\n",
    "    \"\"\" Hybrid quantum - classical layer definition \"\"\"\n",
    "    \n",
    "    def __init__(self, backend, shots, shift):\n",
    "        super(Hybrid, self).__init__()\n",
    "        self.quantum_circuit = QuantumCircuit(1, backend, shots)\n",
    "        self.shift = shift\n",
    "        \n",
    "    def forward(self, input):\n",
    "        return HybridFunction.apply(input, self.quantum_circuit, self.shift)"
   ]
  },
  {
   "cell_type": "markdown",
   "metadata": {},
   "source": [
    "### 3.4 Data Loading and Preprocessing <a id='data-loading-preprocessing'></a>\n",
    "##### Putting this all together:\n",
    "We will create a simple hybrid neural network to classify images of two types of digits (0 or 1) from the [MNIST dataset](http://yann.lecun.com/exdb/mnist/). We first load MNIST and filter for pictures containing 0's and 1's. These will serve as inputs for our neural network to classify."
   ]
  },
  {
   "cell_type": "markdown",
   "metadata": {},
   "source": [
    "#### Training data"
   ]
  },
  {
   "cell_type": "code",
   "execution_count": 9,
   "metadata": {},
   "outputs": [],
   "source": [
    "# Concentrating on the first 100 samples\n",
    "n_samples = 100\n",
    "\n",
    "X_train = datasets.MNIST(root='./data', train=True, download=True,\n",
    "                         transform=transforms.Compose([transforms.ToTensor()]))\n",
    "\n",
    "# Leaving only labels 0 and 1 \n",
    "idx = np.append(np.where(X_train.targets == 0)[0][:n_samples], \n",
    "                np.where(X_train.targets == 1)[0][:n_samples])\n",
    "\n",
    "X_train.data = X_train.data[idx]\n",
    "X_train.targets = X_train.targets[idx]\n",
    "\n",
    "train_loader = torch.utils.data.DataLoader(X_train, batch_size=1, shuffle=True)"
   ]
  },
  {
   "cell_type": "code",
   "execution_count": 6,
   "metadata": {},
   "outputs": [
    {
     "data": {
      "image/svg+xml": "<?xml version=\"1.0\" encoding=\"UTF-8\"?><!DOCTYPE svg  PUBLIC '-//W3C//DTD SVG 1.1//EN'  'http://www.w3.org/Graphics/SVG/1.1/DTD/svg11.dtd'><svg width=\"575.9pt\" height=\"112.73pt\" version=\"1.1\" viewBox=\"0 0 575.9 112.73\" xmlns=\"http://www.w3.org/2000/svg\" xmlns:xlink=\"http://www.w3.org/1999/xlink\"><defs><style type=\"text/css\">*{stroke-linecap:butt;stroke-linejoin:round;}</style></defs><path d=\"m0 112.73h575.9v-112.73h-575.9z\" fill=\"none\"/><path d=\"m10.7 102.03h79.714v-79.714h-79.714z\" fill=\"#ffffff\"/><g clip-path=\"url(#pba8f47a651)\"><image transform=\"scale(1 -1)translate(0 -80)\" x=\"10.7\" y=\"-22.032\" width=\"80\" height=\"80\" xlink:href=\"data:image/png;base64, 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\"/></g><path d=\"m10.7 102.03v-79.714\" fill=\"none\" stroke=\"#000000\" stroke-linecap=\"square\" stroke-width=\".8\"/><path d=\"m90.414 102.03v-79.714\" fill=\"none\" stroke=\"#000000\" stroke-linecap=\"square\" stroke-width=\".8\"/><path d=\"m10.7 102.03h79.714\" fill=\"none\" stroke=\"#000000\" stroke-linecap=\"square\" stroke-width=\".8\"/><path d=\"m10.7 22.318h79.714\" fill=\"none\" stroke=\"#000000\" stroke-linecap=\"square\" stroke-width=\".8\"/><defs><path id=\"DejaVuSans-76\" d=\"m9.8125 72.906h9.8594v-64.609h35.5v-8.2969h-45.359z\"/><path id=\"DejaVuSans-97\" d=\"m34.281 27.484q-10.891 0-15.094-2.4844t-4.2031-8.5q0-4.7812 3.1562-7.5938 3.1562-2.7969 8.5625-2.7969 7.4844 0 12 5.2969t4.5156 14.078v2zm17.922 3.7188v-31.203h-8.9844v8.2969q-3.0781-4.9688-7.6719-7.3438t-11.234-2.375q-8.3906 0-13.359 4.7188-4.9531 4.7188-4.9531 12.625 0 9.2188 6.1719 13.906 6.1875 4.6875 18.438 4.6875h12.609v0.89062q0 6.2031-4.0781 9.5938t-11.453 3.3906q-4.6875 0-9.1406-1.125-4.4375-1.125-8.5312-3.375v8.3125q4.9219 1.9062 9.5625 2.8438 4.6406 0.95312 9.0312 0.95312 11.875 0 17.734-6.1562 5.8594-6.1406 5.8594-18.641z\"/><path id=\"DejaVuSans-98\" d=\"m48.688 27.297q0 9.9062-4.0781 15.547t-11.203 5.6406q-7.1406 0-11.219-5.6406t-4.0781-15.547 4.0781-15.547 11.219-5.6406q7.125 0 11.203 5.6406t4.0781 15.547zm-30.578 19.094q2.8438 4.875 7.1562 7.2344 4.3281 2.375 10.328 2.375 9.9688 0 16.188-7.9062 6.2344-7.9062 6.2344-20.797t-6.2344-20.812q-6.2188-7.9062-16.188-7.9062-6 0-10.328 2.375-4.3125 2.375-7.1562 7.25v-8.2031h-9.0312v75.984h9.0312z\"/><path id=\"DejaVuSans-101\" d=\"m56.203 29.594v-4.3906h-41.312q0.59375-9.2812 5.5938-14.141t13.938-4.8594q5.1719 0 10.031 1.2656t9.6562 3.8125v-8.5q-4.8438-2.0469-9.9219-3.125t-10.297-1.0781q-13.094 0-20.734 7.6094-7.6406 7.625-7.6406 20.625 0 13.422 7.25 21.297 7.25 7.8906 19.562 7.8906 11.031 0 17.453-7.1094 6.4219-7.0938 6.4219-19.297zm-8.9844 2.6406q-0.09375 7.3594-4.125 11.75-4.0312 4.4062-10.672 4.4062-7.5156 0-12.031-4.25t-5.2031-11.969z\"/><path id=\"DejaVuSans-108\" d=\"m9.4219 75.984h8.9844v-75.984h-8.9844z\"/><path id=\"DejaVuSans-100\" d=\"m45.406 46.391v29.594h8.9844v-75.984h-8.9844v8.2031q-2.8281-4.875-7.1562-7.25-4.3125-2.375-10.375-2.375-9.9062 0-16.141 7.9062-6.2188 7.9219-6.2188 20.812t6.2188 20.797q6.2344 7.9062 16.141 7.9062 6.0625 0 10.375-2.375 4.3281-2.3594 7.1562-7.2344zm-30.609-19.094q0-9.9062 4.0781-15.547t11.203-5.6406 11.219 5.6406q4.1094 5.6406 4.1094 15.547t-4.1094 15.547q-4.0938 5.6406-11.219 5.6406t-11.203-5.6406-4.0781-15.547z\"/><path id=\"DejaVuSans-58\" d=\"m11.719 12.406h10.297v-12.406h-10.297zm0 39.297h10.297v-12.391h-10.297z\"/><path id=\"DejaVuSans-49\" d=\"m12.406 8.2969h16.109v55.625l-17.531-3.5156v8.9844l17.438 3.5156h9.8594v-64.609h16.109v-8.2969h-41.984z\"/></defs><g transform=\"translate(19.123 16.318) scale(.12 -.12)\"><use xlink:href=\"#DejaVuSans-76\"/><use x=\"55.712891\" xlink:href=\"#DejaVuSans-97\"/><use x=\"116.992188\" xlink:href=\"#DejaVuSans-98\"/><use x=\"180.46875\" xlink:href=\"#DejaVuSans-101\"/><use x=\"241.992188\" xlink:href=\"#DejaVuSans-108\"/><use x=\"269.775391\" xlink:href=\"#DejaVuSans-101\"/><use x=\"331.298828\" xlink:href=\"#DejaVuSans-100\"/><use x=\"394.775391\" xlink:href=\"#DejaVuSans-58\"/><use x=\"428.466797\" xlink:href=\"#DejaVuSans-32\"/><use x=\"460.253906\" xlink:href=\"#DejaVuSans-49\"/></g><path d=\"m106.36 102.03h79.714v-79.714h-79.714z\" fill=\"#ffffff\"/><g clip-path=\"url(#p1f8a8c4c5e)\"><image transform=\"scale(1 -1)translate(0 -80)\" x=\"106.36\" y=\"-22.032\" width=\"80\" height=\"80\" xlink:href=\"data:image/png;base64, iVBORw0KGgoAAAANSUhEUgAAAFAAAABQCAYAAACOEfKtAAAABHNCSVQICAgIfAhkiAAAEOpJREFUeJztnGlvG+fVhi8OZyGHQ3K4k9pM21ViQ42RFAVqFEWBpOj/ev9T+rkfAiQNWqBw69hOpFqxFUsU9204Q3I4nPdD8DwlHScRSS1toRsQbEP0zPDmc7b7nMMIEHKLtaHc9AP8t+OWwA1xS+CGuCVwQ9wSuCFuCdwQtwRuiFsCN8QtgRtCvY6bRKNRotEokUgETdPQNG3lawRBgO/7hGFIEATMZjPC8OaLqCsjMBKJEI1GURSFTCZDqVQiFotx//593n//fXRd/9lrCLLCMKTZbPLy5UuGwyHNZpOTkxOm0ynz+fxGibwyAhVFQVVVotEouVyO/f19UqkUn3zyCX/84x8xTfNnrzGfz5nNZgRBwOHhIZ999hmNRoMXL17QaDSYzWbA96fzpnApBEYiEeB70jRNQ1EUDMPAsiw0TaNUKlEsFkmn09i2TSKRIB6P/+x1wzDE932CICCdTpPL5ZjP5+RyObLZLJqm4bourusyn88v462sjI0JjEQiqKqKoihYlkW5XCaRSFAqlXjvvfdIJpNUKhWq1SrxeJytra0L+0Bx7Wg0Srlc5vHjx7iuy87ODtlsln6/z9dff82LFy+YTqcEQXDtRF4KgdFoFFVVSSQSbG1tkc1muXfvHr/97W8pFArk83kqlQq6rsvTusq1AbLZLJlMhvl8TjKZJBqN0u12GY/HfPvtt9JX/tcRGI1GSSQSxGIxstksW1tbFAoFKpWKNFfDMOQpFVjV8UciEUl+PB4nk8kQiUTI5/Pk83kMw2A4HOI4zrUGlY0JjMViVKtVisUid+7c4Q9/+AN7e3uYpkk+n0fXdXRdlydpUwjSHj16hOd5MqXpdrs8e/aMo6Ojaw0qGxOoaRq5XI6dnR3u3bvHo0ePuH///tJrVjHbi8CyLCzLwvd9Go0G9XqddrvN6enppd/r57AWgYqiEI/HMQyDQqHA9vY21WqVcrlMLBb7wetd12U0GhEEAaPR6CfNTFEUdF1HVVVUVSUej6OqKrquE4/Hl05yJBLBsixKpRKGYVCtVqVf7HQ6DIfDdd7eSliLQE3TqFQqlMtltre3+fjjj/nlL3+JZVlkMpml14ZhSKvV4vDwEMdxOD4+5ujoCN/333ltwzDI5/NYlkUymWR3d5dkMkkul6NarS7lj9FoVEZ1z/NIpVLcuXOHTqfDX/7yF549e3bl/nAtAqPRKJZlkcvlKBaL7O3tce/ePaLRKIZh/OD1rutSr9fp9/scHR3x5MkTJpPJO68dj8fZ3t7Gtm0ymQyqqjIej1FVVSbOApFIhEQigaZpjMdjHMdhPp/TaDR49uwZkUjkP5fATCZDuVymUChgmqY0Lc/zCMOQbrfLmzdvcF2Xk5MTnj9/zmg04vXr1/R6PabT6TuvPR6PURSFwWBAp9NhPB5jWRbb29sA2LaNbdsUCgVp5mEYEoYhuVyO2WyGaZo8fPgQ13XxPI9arcZgMFiTop/G2ia8tbXFwcEB+XyebDZLLBZjPB7T7/cZj8c8ffqUP/3pT9RqNbrdLvV6nel0yng8liS/C4qiUKvVZG4Zi8WIRqPcv3+f8/NzCoUCDx8+5PHjx1KYECf/7t27bG9vMxgMUFWVarXK2dkZf/7zn/+zCFQUBdM0SafTJJNJdF1HURTCMGQymeB5Hu12m+PjY16/fo3jOHS73bXSC0VRiEQi6LrO3t4es9mMSqUilZnFZFsk87quU6lUcF2XMAyJx+NXZs4rEagoylKdm81mZToxGAw4Pz/nb3/7G/V6naOjI+r1Oo7jMB6P13548f8GgwFHR0c0Gg1UVSWbzWLbtkykxUkUIkaxWARA13Xef/99efJbrZa0gMsgdCUCVVVF0zRZdZTLZTRNw/d92u02h4eHfPrpp7x48QLHcWg2m0wmE+bz+dollnijrVYLx3FQVZV+v08QBGSzWT744AN+9atfEYvF0HVdmvXu7i6VSoVcLsebN2/QdZ1Go8E///lPKYNdRsJ9YQJFKSVMRtd1DMMgGo0yn8+ZTqe4rkur1eL8/JzJZMJ4PL60qmA2m+E4DpFIhG63S7PZJAgCBoMBnucRiUSkGhSJRDAMA8MwSCaT2LZNNptlMpnIZ45EIpeiJa5swpqmoes6yWRSFvf9fh/P83AcR0a+2Wx2JYV9GIa0222ePXtGIpFgMpngOA6pVIoHDx6wv78vfaJItA8ODsjlcrx+/ZrhcIhlWQwGA+r1+o+mUxfFSgRGo1E0TZOfbD6fl36l3+8zGAwYjUa4rivf7FWg2WzS6/VQVZVms8np6anUB6vV6lJgsSyLDz/8kNlsxuHhIfV6nVgsJrODayNQaHOLfkY4bSG9C1931clrEAQEQbCULwIMh0MprhqGIcXdWCxGGIZYlkUqlcK2bZnqbIoLXyEajZLP59nd3WVra4t0Or3xzTdFGIb0ej2+/fZb2u02f//732V6tb+/z87OztLrLcviwYMH2LaNYRgcHR0xGo1k62AdrEzg/fv3KRQKWJZ17crH2wjDULoO0zQpFouoqkqhUCCdTrO9vb30jJZlsb+/T7lcxnVdkskknU5Htg3WsZwLEyjU3qsKDutCpDm+7+M4Dp1OB0VR6Ha70k/GYjHZGojFYszncyzLIp1Ok06ncV1XNq9WRRT4v4u8UEhYgrwHDx5w9+5dfN+n0+ngui6NRoMnT57QbDZXfpDLgHgWcX/Xdel0OpimSTKZlH48kUgwm81wXZdsNouiKPIkrooLn8D5fC57soZh4Hneyje7SgRBwPn5OfV6XZ4sUfaJH1VVSafThGHIzs4OBwcHFItFfN/nm2++Weu+K4UhIZ8vTgW8HZ2FqdxEgwe+N+nZbEa/36fRaKBpGr1eT0ZdkUgbhkEmkyEMQ1KplGw7rJpFrOQDp9OpzPNE1BLtTNG7tSyLRCKB7/uyjLtujMdj/vWvf9FoNNjb26NUKgGQTqfZ29uTRcCjR49k9ZROpxmPx0ynU6bT6YVJXInAIAjkDYIgkKfPMAxM05Qyvxjb+DHN76oxm81oNBo0m02m0ymnp6eUSiVmsxnlchlAdgt936dUKmGaJoZhyLL0oljZhIWmJ0xEJNLxeJx0Os3u7i6u69Ltdvnuu+9uzFeKExQEAcPhkG63KwkTkXuxvl8XF47C8H0g8X0fVVXZ3t4mHo8zGo3k2IWYwqpUKhiGwenpqSzrbgJhGGIYBul0WlrM3t4eqVQK+LfW+Pz5c7788kuGwyGz2WylaLzyCQyCgPF4TK/Xo9FoEAQBe3t7xONxbNuWPeF+vy/7I9fRm/gxzGYzWe5ls1kpZQltU5C47klcqxgMgoB+v8/5+Tnz+RzXdQmCQE5iiV5xPB5H13UZvW8CQqsEME2TZrOJbdvEYjGZG4r2ga7rTKfTlT7wtQicTqecnZ0Rj8cZDAY8fPiQyWSCrutUq1Xm8zm1Wk2Odmwqqm4Cz/N4+fIlJycn+L7PRx99hKZpso8jetBiYmxVdWYtAsMwZDQa0e/3SafTTCYTeQJFh05EOU3Tbuz0AbKZD8h80HEcTNOUH6hoA4hccBVTXimICIj0RRCXTCbxfZ/RaCQHjZrNJq9fv5aS0XA4vNFBSIBUKsXu7q7UNcUkRa1W47vvvkPXdTzPo9frXdha1iJQ+L1ut4vjOARBQKfTwfM82RQX6rRt2zIXu6m8UCAej5NMJplMJsRiMe7evYtlWfT7fanO9Pt9Tk9PL2w1a5uwSKgdx6HX69Fut8lmszIF0HWddDrNdDollUphGAbj8XjJF153ZA6CQLYePM+Tz6GqKqZpSreziglvLMn6vk+320XXdTKZDK7rMplMME2TBw8esLOzQzQaZTKZyNTn/PxclnrXeSqFPxwOh/LD3BQbEzibzeh0OsxmM/L5PI7jMJlMZDMHIJlMoqoqvV6Pr776aqmaEZXBdUBIWIPBQKZem2JjAkV1Mh6PGY/HTCYT2T40DANFUUgmk1J3E7MtouHuOM7Gb2IVCPNcNFNR56+jSl/KCRTzMOfn5xwfH6PrOtlsVg6WFwoFOVFq2zblcpl+v8+XX35Jr9e7tjRH13U5UZbJZOSwu+d5NJtNms0mw+FwJdPemEBRrA+HQ87Pz3n16hW6ruP7PltbW5imuTQgLkaB2+02tVqNJ0+ebPoIF4b4YMvlMrZtyxRrPB7TbrdpNpsrz1hfyp6IuOFioEgmk1L2EonqfD4nFothmiae58lKQETmy65UFqcVRHIvWpvxeFwOvQvf6HneSlogXPKmUqfT4fPPP+fp06f85je/oVqtSvU3kUjIkQvbtgnDkHw+T7lcZjQayab8ZUEo46ZpyjbsnTt3+Oijj9jd3aVYLMp+8XA45PT0lLOzM/r9/vWa8CIGgwFPnz6Vk6OtVkuO/Ir5Zl3XpYKdyWTIZrNyCvWyCBQCgaZpmKbJ9vY25XKZO3fusL+/z+7uLqZpous6YRjieR6NRoNGo7Hy1tOl78oJsdJxHM7OzjAMg3K5jGVZS+NnwqHv7e0xGAykDidE259LMYT8pCjKD1YohBqUTqdl+VYsFikWi0t7K29H33WmKq5s2fDNmzd8+umn5PN5ubEkxAVRSz9+/JhKpUK73eazzz7jH//4B67rymgIvPM0CPlJDHqaprmUlqRSKX73u99xcHCAZVns7Oxg2zamaVIoFIjH47L5tPjBrTMzeGUEdjodnj59immalMtlWXEI1VpVVe7du0exWKTVavHmzRs5yyz84U+NAQsfJ+rbxS2oQqHAwcEBv//97yVplmUtXUPkrr7vyy7jlU4mrApRdwJ0u11qtRpBEMglGeGnRIDZ3d3l4OCAwWBAIpGg0+ks7QsvYnE2UWyALg4K2bbN1taWNFdh4otmOhqNaLVasvk+mUzWmk64MgInkwntdhtVVTk6OuKLL76gVCqxv78vF66FSRuGwSeffMKvf/1rhsMhr169ot1u/ySBYgEnn89TKBSW/KCmaeTzeWzblmkMfO8OhAR3dnbGkydP6Ha7PH/+nF6vJwPIjaUxi1gcQet2u5ydnTGbzSgWi/JTFuasaRqJRAKA0WhEMpl8J4Gik2YYhiSwWCxSKpV+sMH0NoSJCr/nOA61Wo1ms0m73ZYncFVc+XcmiBG0ly9f0m63ZSROJBKUy2WKxeLSG1YURXbNgKUTIf4Up1YMC/2U/BQEAa7r4vu+zPccx+HVq1ccHh7S6XSWtt9XxbUQeHp6ynA4xDAMjo+POTw8JJPJ8PHHH5PL5Zb8l2EYlEolcrncO68F/64wADlE+WPwfZ9ms8lgMOD09JQvvviCWq1GvV7n66+/lqLGupOq1/KtHUIjFKNm8Xgcx3GknCVai4DcCRHL2eLn7VO4+Pe3fdbiv33fx/M82Vw/Ozvj5OSEVqslE+dNcC0EAnKtQJjRYDDgr3/9K/P5XE41vJ1qiK8OEGWgIGaRfPGzSJoQToVcJoJSq9Xi+PiYVqslm+ib4loIFA5c7HsMBgO5Yf7VV19hWRa/+MUv5D6cQKVSkQLA4rXE0qKQ59+WoEQPRhAlSJtOpwyHQ5k4/9cQKLD4LRyi4S1WEcSI2aI/E6MjIp8UeZzow7iuy3A4ZDAYLBE4mUyo1+vU63Ups7VarSuZsL1WAmF5VFi88V6vh+/7nJycLBGYSqU4OjpaispiE1QsL4qFnrf9nugBi1O3SbXxU4hwg19CuzibItKbt3//rii7OFX/Y4OcYu1C/P6qpiJulMD/Bdx+e9uGuCVwQ9wSuCFuCdwQtwRuiFsCN8QtgRvilsANcUvghvh/As91e1F1hbAAAAAASUVORK5CYII=\"/></g><path d=\"m106.36 102.03v-79.714\" fill=\"none\" stroke=\"#000000\" stroke-linecap=\"square\" stroke-width=\".8\"/><path d=\"m186.07 102.03v-79.714\" fill=\"none\" stroke=\"#000000\" stroke-linecap=\"square\" stroke-width=\".8\"/><path d=\"m106.36 102.03h79.714\" fill=\"none\" stroke=\"#000000\" stroke-linecap=\"square\" stroke-width=\".8\"/><path d=\"m106.36 22.318h79.714\" fill=\"none\" stroke=\"#000000\" stroke-linecap=\"square\" stroke-width=\".8\"/><defs><path id=\"DejaVuSans-48\" d=\"m31.781 66.406q-7.6094 0-11.453-7.5-3.8281-7.4844-3.8281-22.531 0-14.984 3.8281-22.484 3.8438-7.5 11.453-7.5 7.6719 0 11.5 7.5 3.8438 7.5 3.8438 22.484 0 15.047-3.8438 22.531-3.8281 7.5-11.5 7.5zm0 7.8125q12.266 0 18.734-9.7031 6.4688-9.6875 6.4688-28.141 0-18.406-6.4688-28.109-6.4688-9.6875-18.734-9.6875-12.25 0-18.719 9.6875-6.4688 9.7031-6.4688 28.109 0 18.453 6.4688 28.141 6.4688 9.7031 18.719 9.7031z\"/></defs><g transform=\"translate(114.78 16.318) scale(.12 -.12)\"><use xlink:href=\"#DejaVuSans-76\"/><use x=\"55.712891\" xlink:href=\"#DejaVuSans-97\"/><use x=\"116.992188\" xlink:href=\"#DejaVuSans-98\"/><use x=\"180.46875\" xlink:href=\"#DejaVuSans-101\"/><use x=\"241.992188\" xlink:href=\"#DejaVuSans-108\"/><use x=\"269.775391\" xlink:href=\"#DejaVuSans-101\"/><use x=\"331.298828\" xlink:href=\"#DejaVuSans-100\"/><use x=\"394.775391\" xlink:href=\"#DejaVuSans-58\"/><use x=\"428.466797\" xlink:href=\"#DejaVuSans-32\"/><use x=\"460.253906\" xlink:href=\"#DejaVuSans-48\"/></g><path d=\"m202.01 102.03h79.714v-79.714h-79.714z\" fill=\"#ffffff\"/><g clip-path=\"url(#p2d26edc35f)\"><image transform=\"scale(1 -1)translate(0 -80)\" x=\"202.01\" y=\"-22.032\" width=\"80\" height=\"80\" xlink:href=\"data:image/png;base64, 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\"/></g><path d=\"m202.01 102.03v-79.714\" fill=\"none\" stroke=\"#000000\" stroke-linecap=\"square\" stroke-width=\".8\"/><path d=\"m281.73 102.03v-79.714\" fill=\"none\" stroke=\"#000000\" stroke-linecap=\"square\" stroke-width=\".8\"/><path d=\"m202.01 102.03h79.714\" fill=\"none\" stroke=\"#000000\" stroke-linecap=\"square\" stroke-width=\".8\"/><path d=\"m202.01 22.318h79.714\" fill=\"none\" stroke=\"#000000\" stroke-linecap=\"square\" stroke-width=\".8\"/><g transform=\"translate(210.44 16.318) scale(.12 -.12)\"><use xlink:href=\"#DejaVuSans-76\"/><use x=\"55.712891\" xlink:href=\"#DejaVuSans-97\"/><use x=\"116.992188\" xlink:href=\"#DejaVuSans-98\"/><use x=\"180.46875\" xlink:href=\"#DejaVuSans-101\"/><use x=\"241.992188\" xlink:href=\"#DejaVuSans-108\"/><use x=\"269.775391\" xlink:href=\"#DejaVuSans-101\"/><use x=\"331.298828\" xlink:href=\"#DejaVuSans-100\"/><use x=\"394.775391\" xlink:href=\"#DejaVuSans-58\"/><use x=\"428.466797\" xlink:href=\"#DejaVuSans-32\"/><use x=\"460.253906\" xlink:href=\"#DejaVuSans-48\"/></g><path d=\"m297.67 102.03h79.714v-79.714h-79.714z\" fill=\"#ffffff\"/><g clip-path=\"url(#pe9732ba11e)\"><image transform=\"scale(1 -1)translate(0 -80)\" x=\"297.67\" y=\"-22.032\" width=\"80\" height=\"80\" xlink:href=\"data:image/png;base64, iVBORw0KGgoAAAANSUhEUgAAAFAAAABQCAYAAACOEfKtAAAABHNCSVQICAgIfAhkiAAACgRJREFUeJztnGlPG9kShp/eu710e2EMHjsDSIlINPk584PuP5wPGSkasonYAWLAeGm3e+/7ITrn2kmkyY3xwsivhEBwbB9eVZ2qeqtOK0DBHj8NddsbeOzYE7gi9gSuiD2BK2JP4IrYE7gi9E18iKZpaJqGoigoiiJ/XxQFeZ7L73meb2I7D4q1EagoCpqmoaoqp6envHz5knK5jOM4lEoliqLg5uaG4XBIEAR8+PCB6+tr8jwnyzKK4nGkp2sjUFVVdF1H13WeP3/OH3/8QavV4uDggF9++YU0TXn9+jXn5+fc3d2RZRnD4VCSl2XZurb2oFirCwuXtSwL13Wp1WrU63WazSZpmlKv16nVaiRJgm3bS+79WLCRM/B7UFUV13Vpt9sAOI6zJ/D/gaqqlMtlWq0WaZriOM62trIStprGqKoq3fwxWh/s88CVsSdwRayVQEVRUFUVTdMwTRPTNNE0bZ0fuXGsjUBBnK7r2LaN53nUajUcx0FV/z2Gv9b/RJBoWZasQAzDWOdHbhwa8J91vLEgT1EU2u023W6XKIpQVZVKpYKiKKRpSlEUpGlKv9/H931KpRJxHBNF0Tq29eBYG4HAUl07Ho95//49tm1zfHyMaZoYhoFt2ziOg2VZtNttDg8PGQwG3NzcrGtbD4q1JdJCWcnznLu7O968eYPrurx48YIsy1AUBcMwpEs/efIEVVWxLItKpbKubT041mqBAoZhSJftdrscHx9LsUAQGMcxqqoSxzHv3r1jNBphGAZZlu20zLV2AouiIEkSfN9nOp1KNSYIAmltmqbhOA61Wg1N0+j3+0RRhGmaBEGw0+fhRmrhNE1J05Qsy5hOp4zHYzRNk8QIxcayLKrVKrVaDc/zSNMUXd9auf5D2IgLC6iqytHREfV6nTRNaTabHB4eLuWFaZoSRRGu61KtVhmNRmRZhmEYMmrvEjZOYKVSQdd1giCg0+lwfHy8VJ0YhkGr1eLs7AzP87i+vpbnYxAEpGm6qe3+EDbqH0VREEURvu9j2zZxHFMUBUVRSDVG13VqtRp5nvP582dc16VSqRCG4U5WMBu1QEVRqFarlEolFEXh5OSEbrcrCRSJt1g7n8+5v7+XWuHV1RXz+XxT2/0hbPyEFqQAjEYjxuMxSZLIvFAQCVCr1fj9999ptVqoqsqff/656e3+IzbuwlmWyVJtPp8TBAGKolAqlb5ZL9Ib13Upl8sYhoGmabINugvYqAsLJElCFEV4nodhGEynU5m+fN03FtL/dDrlw4cP5HmOpmny/Nw2Nk5gkiQEQUAcx7KRNJ/PabfbtNvtJQKFkuO6LuPxmLdv35IkCVmWMZvNdqL1uZWwJlw5SRLiOCaO42/IEH0S0Vs2TRPHcSiXy1iWtTM9lK2l+aLEC4KA+Xy+lN8J8kRzvigKXNel0+mgKApJktDr9ba19SVstU5K05QwDImiiDzPv+nQiYhcFAWO49BqtcjznMFgsDOtga1a4Hw+ZzQaYds24/GY8XgsNcKvlWvTNPE8jziOcV0X27YJw1BqjtvCVqIwfCEwjmNGoxG+71Ov13Ech9lsJkVWsQ6+6IqmadJsNvF9n4uLC/n3JEm28S8AWyYwDEMmk4nUCRuNBnmeU6/XqVarS2tFQCmXy1xfX3N+fk4URVJ82FZKsxPFZZqmDIdDer0e19fXhGH4zRqhVtu2TbPZ5LfffuP09JRGo7HV83BrFrgIRVHkeNtsNuPZs2d0Op2lNaqqYhiGTGEcx6HT6RAEAf1+f2sqzU6olcIC8zzHcZzvCgaqqmKaJkVR0Gg0OD4+xvM8Xr9+ja7rKIqyFTfeCQLzPCcMQ6bTKaPRiMFgwOXlpVSoFyOysL6DgwMsy8LzPCzLIgxDqXxvEjvhwiKSzudzdF2n0+lgmiZhGFKtVrFte2m9YRi4rovrurx7945Xr16Rpil5nm+cwJ2wQPhf3yQIAiaTCff39+i6/l1CRDtU0zRKpZLsMcdxvHFX3gkLXIRpmlQqFVkjN5tNLMuSKszXas39/T1JknB0dISiKERRJBtRm0iwd47AoigIgoCrqyvCMKTb7VIqlcjzHNu2l1IWRVGwbZtut8vTp08Jw5C7uztpjXEcr32/O+PCAlmW4fs+WZbJKmU2m0lRYdECFUWhXC5zdHSEbdvU63U51TCZTDay352zQIEsy9A0Ddu2GY1GpGnK4eHhd2epdV2X+aHneRweHspovm7sHIGLsr+IzFdXV2iaxosXL/A8T64VfRTbtimXyzQaDU5OTjg8POTt27e8efNm7QFl51wYkNe/kiRhOp0CX1xyMpng+z6GYWCappS+RHARZ+VsNqNer1Ov12X7QDTlxddDYecscBHCGmezGWmakiQJFxcXRFFEs9nENM2l9UJwME0Ty7I4OTnh6dOn8r0sy3rwYaWdJnAxLwyCgPF4zMXFBY7jcHZ2ttTJE5ZoWRalUolff/2Vly9f0u12ub29ZTqdomka8/lcyl8PYYk76cKLENYSxzGz2UyOeERRJEc+vr4JKoKPoii4rkur1aLdbjMej5nNZsCX5pYQZFfBTlvgIsSV2SRJaLVanJ6eAl8szzTNb8Y+VFVFVVWZ3pydnfHkyRMAORHr+/7KYuzOW6BAkiRMJhOiKOL+/p7hcIiu62ia9s1Eq4jOuq7jOA6NRgOAv//+W7YQLi4uuLy8JAiClfb1aAgUQoGiKIzHY/r9PmEYyoaTuIfytXIjmvOAHOgUkw5CBoOfPw8fjQuLaX6RG37+/Jnz83OSJMFxHIIgQNd1Obj0PQjJTCg9Hz9+lNrjz56Fj8oCRW17eXnJdDqVczOnp6eyj/J1ubcIwzCo1+vkec6nT5+WZm1+VsV5NAQuQlQqqqoynU65vb0lyzIajYa0RHE+LkI06gVxDzFv+CgJFEPrURTR6/X466+/qNVqGIYhRz88z6NcLi+9TuiHcRzLNEdUPT97Bj5KAsUTPvI8ZzKZcHNzQ5IkjEYjZrMZeZ5/Qx4sVypCM1y1tHuUBAoURcF0OqXf7zMejzk4OJDCgrhSIeT/UqlEkiQMh0Pu7u4YjUYkSfJDBIp80jAM8jxfmuV51ATmec719bXM7WazGZ8+faJarfLs2TO63S6e5/H8+XNKpRJBEPDx40d6vR79fp/5fP5Dj1jRNE0+ICMMQwaDgRQ5HjWBAFEUEUURQRAwGAwolUr4vi+v1ooJCDFO5/u+LOkEef9E4KJstphXwr+AQAFxHvb7fXkDoNfrUalUeP/+PfV6ndvbW169esXt7S2DwYD5fP5D51+e5/i+D3wJYIvln8K/6AmWonwT9bGon8XPaZrK80uM1v1oAq3rOqqqSolNvO5fReA2sBPDRY8ZewJXxJ7AFbEncEXsCVwRewJXxJ7AFbEncEXsCVwRewJXxJ7AFbEncEX8F/FEYis0mKl+AAAAAElFTkSuQmCC\"/></g><path d=\"m297.67 102.03v-79.714\" fill=\"none\" stroke=\"#000000\" stroke-linecap=\"square\" stroke-width=\".8\"/><path d=\"m377.39 102.03v-79.714\" fill=\"none\" stroke=\"#000000\" stroke-linecap=\"square\" stroke-width=\".8\"/><path d=\"m297.67 102.03h79.714\" fill=\"none\" stroke=\"#000000\" stroke-linecap=\"square\" stroke-width=\".8\"/><path d=\"m297.67 22.318h79.714\" fill=\"none\" stroke=\"#000000\" stroke-linecap=\"square\" stroke-width=\".8\"/><g transform=\"translate(306.09 16.318) scale(.12 -.12)\"><use xlink:href=\"#DejaVuSans-76\"/><use x=\"55.712891\" xlink:href=\"#DejaVuSans-97\"/><use x=\"116.992188\" xlink:href=\"#DejaVuSans-98\"/><use x=\"180.46875\" xlink:href=\"#DejaVuSans-101\"/><use x=\"241.992188\" xlink:href=\"#DejaVuSans-108\"/><use x=\"269.775391\" xlink:href=\"#DejaVuSans-101\"/><use x=\"331.298828\" xlink:href=\"#DejaVuSans-100\"/><use x=\"394.775391\" xlink:href=\"#DejaVuSans-58\"/><use x=\"428.466797\" xlink:href=\"#DejaVuSans-32\"/><use x=\"460.253906\" xlink:href=\"#DejaVuSans-49\"/></g><path d=\"m393.33 102.03h79.714v-79.714h-79.714z\" fill=\"#ffffff\"/><g clip-path=\"url(#p50d754304a)\"><image transform=\"scale(1 -1)translate(0 -80)\" x=\"393.33\" y=\"-22.032\" width=\"80\" height=\"80\" xlink:href=\"data:image/png;base64, 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\"/></g><path d=\"m393.33 102.03v-79.714\" fill=\"none\" stroke=\"#000000\" stroke-linecap=\"square\" stroke-width=\".8\"/><path d=\"m473.04 102.03v-79.714\" fill=\"none\" stroke=\"#000000\" stroke-linecap=\"square\" stroke-width=\".8\"/><path d=\"m393.33 102.03h79.714\" fill=\"none\" stroke=\"#000000\" stroke-linecap=\"square\" stroke-width=\".8\"/><path d=\"m393.33 22.318h79.714\" fill=\"none\" stroke=\"#000000\" stroke-linecap=\"square\" stroke-width=\".8\"/><g transform=\"translate(401.75 16.318) scale(.12 -.12)\"><use xlink:href=\"#DejaVuSans-76\"/><use x=\"55.712891\" xlink:href=\"#DejaVuSans-97\"/><use x=\"116.992188\" xlink:href=\"#DejaVuSans-98\"/><use x=\"180.46875\" xlink:href=\"#DejaVuSans-101\"/><use x=\"241.992188\" xlink:href=\"#DejaVuSans-108\"/><use x=\"269.775391\" xlink:href=\"#DejaVuSans-101\"/><use x=\"331.298828\" xlink:href=\"#DejaVuSans-100\"/><use x=\"394.775391\" xlink:href=\"#DejaVuSans-58\"/><use x=\"428.466797\" xlink:href=\"#DejaVuSans-32\"/><use x=\"460.253906\" xlink:href=\"#DejaVuSans-48\"/></g><path d=\"m488.99 102.03h79.714v-79.714h-79.714z\" fill=\"#ffffff\"/><g clip-path=\"url(#p2b91aa26fd)\"><image transform=\"scale(1 -1)translate(0 -80)\" x=\"488.99\" y=\"-22.032\" width=\"80\" height=\"80\" xlink:href=\"data:image/png;base64, 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\"/></g><path d=\"m488.99 102.03v-79.714\" fill=\"none\" stroke=\"#000000\" stroke-linecap=\"square\" stroke-width=\".8\"/><path d=\"m568.7 102.03v-79.714\" fill=\"none\" stroke=\"#000000\" stroke-linecap=\"square\" stroke-width=\".8\"/><path d=\"m488.99 102.03h79.714\" fill=\"none\" stroke=\"#000000\" stroke-linecap=\"square\" stroke-width=\".8\"/><path d=\"m488.99 22.318h79.714\" fill=\"none\" stroke=\"#000000\" stroke-linecap=\"square\" stroke-width=\".8\"/><g transform=\"translate(497.41 16.318) scale(.12 -.12)\"><use xlink:href=\"#DejaVuSans-76\"/><use x=\"55.712891\" xlink:href=\"#DejaVuSans-97\"/><use x=\"116.992188\" xlink:href=\"#DejaVuSans-98\"/><use x=\"180.46875\" xlink:href=\"#DejaVuSans-101\"/><use x=\"241.992188\" xlink:href=\"#DejaVuSans-108\"/><use x=\"269.775391\" xlink:href=\"#DejaVuSans-101\"/><use x=\"331.298828\" xlink:href=\"#DejaVuSans-100\"/><use x=\"394.775391\" xlink:href=\"#DejaVuSans-58\"/><use x=\"428.466797\" xlink:href=\"#DejaVuSans-32\"/><use x=\"460.253906\" xlink:href=\"#DejaVuSans-48\"/></g><defs><clipPath id=\"pba8f47a651\"><rect x=\"10.7\" y=\"22.318\" width=\"79.714\" height=\"79.714\"/></clipPath><clipPath id=\"p1f8a8c4c5e\"><rect x=\"106.36\" y=\"22.318\" width=\"79.714\" height=\"79.714\"/></clipPath><clipPath id=\"p2d26edc35f\"><rect x=\"202.01\" y=\"22.318\" width=\"79.714\" height=\"79.714\"/></clipPath><clipPath id=\"pe9732ba11e\"><rect x=\"297.67\" y=\"22.318\" width=\"79.714\" height=\"79.714\"/></clipPath><clipPath id=\"p50d754304a\"><rect x=\"393.33\" y=\"22.318\" width=\"79.714\" height=\"79.714\"/></clipPath><clipPath id=\"p2b91aa26fd\"><rect x=\"488.99\" y=\"22.318\" width=\"79.714\" height=\"79.714\"/></clipPath></defs></svg>",
      "text/plain": [
       "<Figure size 720x216 with 6 Axes>"
      ]
     },
     "metadata": {},
     "output_type": "display_data"
    }
   ],
   "source": [
    "n_samples_show = 6\n",
    "\n",
    "data_iter = iter(train_loader)\n",
    "fig, axes = plt.subplots(nrows=1, ncols=n_samples_show, figsize=(10, 3))\n",
    "\n",
    "while n_samples_show > 0:\n",
    "    images, targets = data_iter.__next__()\n",
    "\n",
    "    axes[n_samples_show - 1].imshow(images[0].numpy().squeeze(), cmap='gray')\n",
    "    axes[n_samples_show - 1].set_xticks([])\n",
    "    axes[n_samples_show - 1].set_yticks([])\n",
    "    axes[n_samples_show - 1].set_title(\"Labeled: {}\".format(targets.item()))\n",
    "    \n",
    "    n_samples_show -= 1"
   ]
  },
  {
   "cell_type": "markdown",
   "metadata": {},
   "source": [
    "#### Testing data"
   ]
  },
  {
   "cell_type": "code",
   "execution_count": 11,
   "metadata": {},
   "outputs": [],
   "source": [
    "n_samples = 50\n",
    "\n",
    "X_test = datasets.MNIST(root='./data', train=False, download=True,\n",
    "                        transform=transforms.Compose([transforms.ToTensor()]))\n",
    "\n",
    "idx = np.append(np.where(X_test.targets == 0)[0][:n_samples], \n",
    "                np.where(X_test.targets == 1)[0][:n_samples])\n",
    "\n",
    "X_test.data = X_test.data[idx]\n",
    "X_test.targets = X_test.targets[idx]\n",
    "\n",
    "test_loader = torch.utils.data.DataLoader(X_test, batch_size=1, shuffle=True)"
   ]
  },
  {
   "cell_type": "markdown",
   "metadata": {},
   "source": [
    "So far, we have loaded the data and coded a class that creates our quantum circuit which contains 1 trainable parameter. This quantum parameter will be inserted into a classical neural network along with the other classical parameters to form the hybrid neural network. We also created backward and forward pass functions that allow us to do backpropagation and optimise our neural network. Lastly, we need to specify our neural network architecture such that we can begin to train our parameters using optimisation techniques provided by PyTorch. \n",
    "\n",
    "\n",
    "### 3.5 Creating the Hybrid Neural Network <a id='hybrid-nn'></a>\n",
    "We can use a neat PyTorch pipeline to create a neural network architecture. The network will need to be compatible in terms of its dimensionality when we insert the quantum layer (i.e. our quantum circuit). Since our quantum  in this example contains 1 parameter, we must ensure the network condenses neurons down to size 1. We create a typical Convolutional Neural Network with two fully-connected layers at the end. The value of the last neuron of the fully-connected layer is fed as the parameter $\\theta$ into our quantum circuit. The circuit measurement then serves as the final prediction for 0 or 1 as provided by a $\\sigma_z$ measurement."
   ]
  },
  {
   "cell_type": "code",
   "execution_count": 12,
   "metadata": {},
   "outputs": [],
   "source": [
    "class Net(nn.Module):\n",
    "    def __init__(self):\n",
    "        super(Net, self).__init__()\n",
    "        self.conv1 = nn.Conv2d(1, 6, kernel_size=5)\n",
    "        self.conv2 = nn.Conv2d(6, 16, kernel_size=5)\n",
    "        self.dropout = nn.Dropout2d()\n",
    "        self.fc1 = nn.Linear(256, 64)\n",
    "        self.fc2 = nn.Linear(64, 1)\n",
    "        self.hybrid = Hybrid(qiskit.Aer.get_backend('aer_simulator'), 100, np.pi / 2)\n",
    "\n",
    "    def forward(self, x):\n",
    "        x = F.relu(self.conv1(x))\n",
    "        x = F.max_pool2d(x, 2)\n",
    "        x = F.relu(self.conv2(x))\n",
    "        x = F.max_pool2d(x, 2)\n",
    "        x = self.dropout(x)\n",
    "        x = x.view(1, -1)\n",
    "        x = F.relu(self.fc1(x))\n",
    "        x = self.fc2(x)\n",
    "        x = self.hybrid(x)\n",
    "        return torch.cat((x, 1 - x), -1)\n"
   ]
  },
  {
   "cell_type": "markdown",
   "metadata": {},
   "source": [
    "### 3.6 Training the Network <a id='training'></a>\n",
    "We now have all the ingredients to train our hybrid network! We can specify any [PyTorch optimiser](https://pytorch.org/docs/stable/optim.html), [learning rate](https://en.wikipedia.org/wiki/Learning_rate) and [cost/loss function](https://en.wikipedia.org/wiki/Loss_function) in order to train over multiple epochs. In this instance, we use the [Adam optimiser](https://arxiv.org/abs/1412.6980), a learning rate of 0.001 and the [negative log-likelihood loss function](https://pytorch.org/docs/stable/_modules/torch/nn/modules/loss.html)."
   ]
  },
  {
   "cell_type": "code",
   "execution_count": 9,
   "metadata": {},
   "outputs": [
    {
     "name": "stderr",
     "output_type": "stream",
     "text": [
      "/usr/local/anaconda3/lib/python3.7/site-packages/ipykernel_launcher.py:32: FutureWarning: The input object of type 'Tensor' is an array-like implementing one of the corresponding protocols (`__array__`, `__array_interface__` or `__array_struct__`); but not a sequence (or 0-D). In the future, this object will be coerced as if it was first converted using `np.array(obj)`. To retain the old behaviour, you have to either modify the type 'Tensor', or assign to an empty array created with `np.empty(correct_shape, dtype=object)`.\n"
     ]
    },
    {
     "name": "stdout",
     "output_type": "stream",
     "text": [
      "Training [5%]\tLoss: -0.7741\n",
      "Training [10%]\tLoss: -0.9155\n",
      "Training [15%]\tLoss: -0.9489\n",
      "Training [20%]\tLoss: -0.9400\n",
      "Training [25%]\tLoss: -0.9496\n",
      "Training [30%]\tLoss: -0.9561\n",
      "Training [35%]\tLoss: -0.9627\n",
      "Training [40%]\tLoss: -0.9499\n",
      "Training [45%]\tLoss: -0.9664\n",
      "Training [50%]\tLoss: -0.9676\n",
      "Training [55%]\tLoss: -0.9761\n",
      "Training [60%]\tLoss: -0.9790\n",
      "Training [65%]\tLoss: -0.9846\n",
      "Training [70%]\tLoss: -0.9836\n",
      "Training [75%]\tLoss: -0.9857\n",
      "Training [80%]\tLoss: -0.9877\n",
      "Training [85%]\tLoss: -0.9895\n",
      "Training [90%]\tLoss: -0.9912\n",
      "Training [95%]\tLoss: -0.9936\n",
      "Training [100%]\tLoss: -0.9901\n"
     ]
    }
   ],
   "source": [
    "model = Net()\n",
    "optimizer = optim.Adam(model.parameters(), lr=0.001)\n",
    "loss_func = nn.NLLLoss()\n",
    "\n",
    "epochs = 20\n",
    "loss_list = []\n",
    "\n",
    "model.train()\n",
    "for epoch in range(epochs):\n",
    "    total_loss = []\n",
    "    for batch_idx, (data, target) in enumerate(train_loader):\n",
    "        optimizer.zero_grad()\n",
    "        # Forward pass\n",
    "        output = model(data)\n",
    "        # Calculating loss\n",
    "        loss = loss_func(output, target)\n",
    "        # Backward pass\n",
    "        loss.backward()\n",
    "        # Optimize the weights\n",
    "        optimizer.step()\n",
    "        \n",
    "        total_loss.append(loss.item())\n",
    "    loss_list.append(sum(total_loss)/len(total_loss))\n",
    "    print('Training [{:.0f}%]\\tLoss: {:.4f}'.format(\n",
    "        100. * (epoch + 1) / epochs, loss_list[-1]))"
   ]
  },
  {
   "cell_type": "markdown",
   "metadata": {},
   "source": [
    "Plot the training graph"
   ]
  },
  {
   "cell_type": "code",
   "execution_count": 14,
   "metadata": {},
   "outputs": [
    {
     "data": {
      "text/plain": [
       "Text(0, 0.5, 'Neg Log Likelihood Loss')"
      ]
     },
     "execution_count": 10,
     "metadata": {},
     "output_type": "execute_result"
    },
    {
     "data": {
      "image/svg+xml": "<?xml version=\"1.0\" encoding=\"UTF-8\"?><!DOCTYPE svg  PUBLIC '-//W3C//DTD SVG 1.1//EN'  'http://www.w3.org/Graphics/SVG/1.1/DTD/svg11.dtd'><svg width=\"400.52pt\" height=\"277.31pt\" version=\"1.1\" viewBox=\"0 0 400.52 277.31\" xmlns=\"http://www.w3.org/2000/svg\" xmlns:xlink=\"http://www.w3.org/1999/xlink\"><defs><style type=\"text/css\">*{stroke-linecap:butt;stroke-linejoin:round;}</style></defs><path d=\"m0 277.31h400.52v-277.31h-400.52z\" fill=\"none\"/><path d=\"m58.523 239.76h334.8v-217.44h-334.8z\" fill=\"#ffffff\"/><defs><path id=\"m6b0e646a2d\" d=\"m0 0v3.5\" stroke=\"#000000\" stroke-width=\".8\"/></defs><use x=\"73.741619\" y=\"239.758125\" stroke=\"#000000\" stroke-width=\".8\" xlink:href=\"#m6b0e646a2d\"/><defs><path id=\"DejaVuSans-48\" d=\"m31.781 66.406q-7.6094 0-11.453-7.5-3.8281-7.4844-3.8281-22.531 0-14.984 3.8281-22.484 3.8438-7.5 11.453-7.5 7.6719 0 11.5 7.5 3.8438 7.5 3.8438 22.484 0 15.047-3.8438 22.531-3.8281 7.5-11.5 7.5zm0 7.8125q12.266 0 18.734-9.7031 6.4688-9.6875 6.4688-28.141 0-18.406-6.4688-28.109-6.4688-9.6875-18.734-9.6875-12.25 0-18.719 9.6875-6.4688 9.7031-6.4688 28.109 0 18.453 6.4688 28.141 6.4688 9.7031 18.719 9.7031z\"/><path id=\"DejaVuSans-46\" d=\"m10.688 12.406h10.312v-12.406h-10.312z\"/></defs><g transform=\"translate(65.79 254.36) scale(.1 -.1)\"><use xlink:href=\"#DejaVuSans-48\"/><use x=\"63.623047\" xlink:href=\"#DejaVuSans-46\"/><use x=\"95.410156\" xlink:href=\"#DejaVuSans-48\"/></g><use x=\"113.789466\" y=\"239.758125\" stroke=\"#000000\" stroke-width=\".8\" xlink:href=\"#m6b0e646a2d\"/><defs><path id=\"DejaVuSans-50\" d=\"m19.188 8.2969h34.422v-8.2969h-46.281v8.2969q5.6094 5.8125 15.297 15.594 9.7031 9.7969 12.188 12.641 4.7344 5.3125 6.6094 9 1.8906 3.6875 1.8906 7.25 0 5.8125-4.0781 9.4688-4.0781 3.6719-10.625 3.6719-4.6406 0-9.7969-1.6094-5.1406-1.6094-11-4.8906v9.9688q5.9531 2.3906 11.125 3.6094 5.1875 1.2188 9.4844 1.2188 11.328 0 18.062-5.6719 6.7344-5.6562 6.7344-15.125 0-4.5-1.6875-8.5312-1.6719-4.0156-6.125-9.4844-1.2188-1.4219-7.7656-8.1875-6.5312-6.7656-18.453-18.922z\"/><path id=\"DejaVuSans-53\" d=\"m10.797 72.906h38.719v-8.3125h-29.688v-17.859q2.1406 0.73438 4.2812 1.0938 2.1562 0.35938 4.3125 0.35938 12.203 0 19.328-6.6875 7.1406-6.6875 7.1406-18.109 0-11.766-7.3281-18.297-7.3281-6.5156-20.656-6.5156-4.5938 0-9.3594 0.78125-4.75 0.78125-9.8281 2.3438v9.9219q4.3906-2.3906 9.0781-3.5625t9.9062-1.1719q8.4531 0 13.375 4.4375 4.9375 4.4375 4.9375 12.062 0 7.6094-4.9375 12.047-4.9219 4.4531-13.375 4.4531-3.9531 0-7.8906-0.875-3.9219-0.875-8.0156-2.7344z\"/></defs><g transform=\"translate(105.84 254.36) scale(.1 -.1)\"><use xlink:href=\"#DejaVuSans-50\"/><use x=\"63.623047\" xlink:href=\"#DejaVuSans-46\"/><use x=\"95.410156\" xlink:href=\"#DejaVuSans-53\"/></g><use x=\"153.837313\" y=\"239.758125\" stroke=\"#000000\" stroke-width=\".8\" xlink:href=\"#m6b0e646a2d\"/><g transform=\"translate(145.89 254.36) scale(.1 -.1)\"><use xlink:href=\"#DejaVuSans-53\"/><use x=\"63.623047\" xlink:href=\"#DejaVuSans-46\"/><use x=\"95.410156\" xlink:href=\"#DejaVuSans-48\"/></g><use x=\"193.88516\" y=\"239.758125\" stroke=\"#000000\" stroke-width=\".8\" xlink:href=\"#m6b0e646a2d\"/><defs><path id=\"DejaVuSans-55\" d=\"m8.2031 72.906h46.875v-4.2031l-26.469-68.703h-10.297l24.906 64.594h-35.016z\"/></defs><g transform=\"translate(185.93 254.36) scale(.1 -.1)\"><use xlink:href=\"#DejaVuSans-55\"/><use x=\"63.623047\" xlink:href=\"#DejaVuSans-46\"/><use x=\"95.410156\" xlink:href=\"#DejaVuSans-53\"/></g><use x=\"233.933007\" y=\"239.758125\" stroke=\"#000000\" stroke-width=\".8\" xlink:href=\"#m6b0e646a2d\"/><defs><path id=\"DejaVuSans-49\" d=\"m12.406 8.2969h16.109v55.625l-17.531-3.5156v8.9844l17.438 3.5156h9.8594v-64.609h16.109v-8.2969h-41.984z\"/></defs><g transform=\"translate(222.8 254.36) scale(.1 -.1)\"><use xlink:href=\"#DejaVuSans-49\"/><use x=\"63.623047\" xlink:href=\"#DejaVuSans-48\"/><use x=\"127.246094\" xlink:href=\"#DejaVuSans-46\"/><use x=\"159.033203\" xlink:href=\"#DejaVuSans-48\"/></g><use x=\"273.980854\" y=\"239.758125\" stroke=\"#000000\" stroke-width=\".8\" xlink:href=\"#m6b0e646a2d\"/><g transform=\"translate(262.85 254.36) scale(.1 -.1)\"><use xlink:href=\"#DejaVuSans-49\"/><use x=\"63.623047\" xlink:href=\"#DejaVuSans-50\"/><use x=\"127.246094\" xlink:href=\"#DejaVuSans-46\"/><use x=\"159.033203\" xlink:href=\"#DejaVuSans-53\"/></g><use x=\"314.028701\" y=\"239.758125\" stroke=\"#000000\" stroke-width=\".8\" xlink:href=\"#m6b0e646a2d\"/><g transform=\"translate(302.9 254.36) scale(.1 -.1)\"><use xlink:href=\"#DejaVuSans-49\"/><use x=\"63.623047\" xlink:href=\"#DejaVuSans-53\"/><use x=\"127.246094\" xlink:href=\"#DejaVuSans-46\"/><use x=\"159.033203\" xlink:href=\"#DejaVuSans-48\"/></g><use x=\"354.076548\" y=\"239.758125\" stroke=\"#000000\" stroke-width=\".8\" xlink:href=\"#m6b0e646a2d\"/><g transform=\"translate(342.94 254.36) scale(.1 -.1)\"><use xlink:href=\"#DejaVuSans-49\"/><use x=\"63.623047\" xlink:href=\"#DejaVuSans-55\"/><use x=\"127.246094\" xlink:href=\"#DejaVuSans-46\"/><use x=\"159.033203\" xlink:href=\"#DejaVuSans-53\"/></g><defs><path id=\"DejaVuSans-84\" d=\"m-0.29688 72.906h61.672v-8.3125h-25.875v-64.594h-9.9062v64.594h-25.891z\"/><path id=\"DejaVuSans-114\" d=\"m41.109 46.297q-1.5156 0.875-3.2969 1.2812-1.7812 0.42188-3.9219 0.42188-7.625 0-11.703-4.9531t-4.0781-14.234v-28.812h-9.0312v54.688h9.0312v-8.5q2.8438 4.9844 7.375 7.3906 4.5469 2.4219 11.047 2.4219 0.92188 0 2.0469-0.125 1.125-0.10938 2.4844-0.35938z\"/><path id=\"DejaVuSans-97\" d=\"m34.281 27.484q-10.891 0-15.094-2.4844t-4.2031-8.5q0-4.7812 3.1562-7.5938 3.1562-2.7969 8.5625-2.7969 7.4844 0 12 5.2969t4.5156 14.078v2zm17.922 3.7188v-31.203h-8.9844v8.2969q-3.0781-4.9688-7.6719-7.3438t-11.234-2.375q-8.3906 0-13.359 4.7188-4.9531 4.7188-4.9531 12.625 0 9.2188 6.1719 13.906 6.1875 4.6875 18.438 4.6875h12.609v0.89062q0 6.2031-4.0781 9.5938t-11.453 3.3906q-4.6875 0-9.1406-1.125-4.4375-1.125-8.5312-3.375v8.3125q4.9219 1.9062 9.5625 2.8438 4.6406 0.95312 9.0312 0.95312 11.875 0 17.734-6.1562 5.8594-6.1406 5.8594-18.641z\"/><path id=\"DejaVuSans-105\" d=\"m9.4219 54.688h8.9844v-54.688h-8.9844zm0 21.297h8.9844v-11.391h-8.9844z\"/><path id=\"DejaVuSans-110\" d=\"m54.891 33.016v-33.016h-8.9844v32.719q0 7.7656-3.0312 11.609-3.0312 3.8594-9.0781 3.8594-7.2812 0-11.484-4.6406-4.2031-4.625-4.2031-12.641v-30.906h-9.0312v54.688h9.0312v-8.5q3.2344 4.9375 7.5938 7.375 4.375 2.4375 10.094 2.4375 9.4219 0 14.25-5.8281 4.8438-5.8281 4.8438-17.156z\"/><path id=\"DejaVuSans-103\" d=\"m45.406 27.984q0 9.7656-4.0312 15.125-4.0156 5.375-11.297 5.375-7.2188 0-11.25-5.375-4.0312-5.3594-4.0312-15.125 0-9.7188 4.0312-15.094t11.25-5.375q7.2812 0 11.297 5.375 4.0312 5.375 4.0312 15.094zm8.9844-21.203q0-13.953-6.2031-20.766-6.1875-6.8125-18.984-6.8125-4.7344 0-8.9375 0.70312t-8.1562 2.1719v8.7344q3.9531-2.1406 7.8125-3.1562 3.8594-1.0312 7.8594-1.0312 8.8438 0 13.234 4.6094t4.3906 13.938v4.4531q-2.7812-4.8438-7.125-7.2344t-10.406-2.3906q-10.047 0-16.203 7.6562-6.1562 7.6719-6.1562 20.328 0 12.688 6.1562 20.344 6.1562 7.6719 16.203 7.6719 6.0625 0 10.406-2.3906t7.125-7.2188v8.2969h8.9844z\"/><path id=\"DejaVuSans-73\" d=\"m9.8125 72.906h9.8594v-72.906h-9.8594z\"/><path id=\"DejaVuSans-116\" d=\"m18.312 70.219v-15.531h18.5v-6.9844h-18.5v-29.688q0-6.6875 1.8281-8.5938t7.4531-1.9062h9.2188v-7.5156h-9.2188q-10.406 0-14.359 3.875-3.9531 3.8906-3.9531 14.141v29.688h-6.5938v6.9844h6.5938v15.531z\"/><path id=\"DejaVuSans-101\" d=\"m56.203 29.594v-4.3906h-41.312q0.59375-9.2812 5.5938-14.141t13.938-4.8594q5.1719 0 10.031 1.2656t9.6562 3.8125v-8.5q-4.8438-2.0469-9.9219-3.125t-10.297-1.0781q-13.094 0-20.734 7.6094-7.6406 7.625-7.6406 20.625 0 13.422 7.25 21.297 7.25 7.8906 19.562 7.8906 11.031 0 17.453-7.1094 6.4219-7.0938 6.4219-19.297zm-8.9844 2.6406q-0.09375 7.3594-4.125 11.75-4.0312 4.4062-10.672 4.4062-7.5156 0-12.031-4.25t-5.2031-11.969z\"/><path id=\"DejaVuSans-111\" d=\"m30.609 48.391q-7.2188 0-11.422-5.6406t-4.2031-15.453 4.1719-15.453q4.1875-5.6406 11.453-5.6406 7.1875 0 11.375 5.6562 4.2031 5.6719 4.2031 15.438 0 9.7188-4.2031 15.406-4.1875 5.6875-11.375 5.6875zm0 7.6094q11.719 0 18.406-7.625 6.7031-7.6094 6.7031-21.078 0-13.422-6.7031-21.078-6.6875-7.6406-18.406-7.6406-11.766 0-18.438 7.6406-6.6562 7.6562-6.6562 21.078 0 13.469 6.6562 21.078 6.6719 7.625 18.438 7.625z\"/><path id=\"DejaVuSans-115\" d=\"m44.281 53.078v-8.5q-3.7969 1.9531-7.9062 2.9219-4.0938 0.98438-8.5 0.98438-6.6875 0-10.031-2.0469t-3.3438-6.1562q0-3.125 2.3906-4.9062t9.625-3.3906l3.0781-0.6875q9.5625-2.0469 13.594-5.7812t4.0312-10.422q0-7.625-6.0312-12.078-6.0312-4.4375-16.578-4.4375-4.3906 0-9.1562 0.85938t-10.031 2.5625v9.2812q4.9844-2.5938 9.8125-3.8906 4.8281-1.2812 9.5781-1.2812 6.3438 0 9.75 2.1719 3.4219 2.1719 3.4219 6.125 0 3.6562-2.4688 5.6094-2.4531 1.9531-10.812 3.7656l-3.125 0.73438q-8.3438 1.75-12.062 5.3906-3.7031 3.6406-3.7031 9.9844 0 7.7188 5.4688 11.906 5.4688 4.2031 15.531 4.2031 4.9688 0 9.3594-0.73438 4.4062-0.71875 8.1094-2.1875z\"/></defs><g transform=\"translate(180.8 268.03) scale(.1 -.1)\"><use xlink:href=\"#DejaVuSans-84\"/><use x=\"46.333984\" xlink:href=\"#DejaVuSans-114\"/><use x=\"87.447266\" xlink:href=\"#DejaVuSans-97\"/><use x=\"148.726562\" xlink:href=\"#DejaVuSans-105\"/><use x=\"176.509766\" xlink:href=\"#DejaVuSans-110\"/><use x=\"239.888672\" xlink:href=\"#DejaVuSans-105\"/><use x=\"267.671875\" xlink:href=\"#DejaVuSans-110\"/><use x=\"331.050781\" xlink:href=\"#DejaVuSans-103\"/><use x=\"394.527344\" xlink:href=\"#DejaVuSans-32\"/><use x=\"426.314453\" xlink:href=\"#DejaVuSans-73\"/><use x=\"455.806641\" xlink:href=\"#DejaVuSans-116\"/><use x=\"495.015625\" xlink:href=\"#DejaVuSans-101\"/><use x=\"556.539062\" xlink:href=\"#DejaVuSans-114\"/><use x=\"597.652344\" xlink:href=\"#DejaVuSans-97\"/><use x=\"658.931641\" xlink:href=\"#DejaVuSans-116\"/><use x=\"698.140625\" xlink:href=\"#DejaVuSans-105\"/><use x=\"725.923828\" xlink:href=\"#DejaVuSans-111\"/><use x=\"787.105469\" xlink:href=\"#DejaVuSans-110\"/><use x=\"850.484375\" xlink:href=\"#DejaVuSans-115\"/></g><defs><path id=\"m9201cb8b91\" d=\"m0 0h-3.5\" stroke=\"#000000\" stroke-width=\".8\"/></defs><use x=\"58.523438\" y=\"235.638067\" stroke=\"#000000\" stroke-width=\".8\" xlink:href=\"#m9201cb8b91\"/><defs><path id=\"DejaVuSans-8722\" d=\"m10.594 35.5h62.594v-8.2969h-62.594z\"/></defs><g transform=\"translate(20.878 239.44) scale(.1 -.1)\"><use xlink:href=\"#DejaVuSans-8722\"/><use x=\"83.789062\" xlink:href=\"#DejaVuSans-49\"/><use x=\"147.412109\" xlink:href=\"#DejaVuSans-46\"/><use x=\"179.199219\" xlink:href=\"#DejaVuSans-48\"/><use x=\"242.822266\" xlink:href=\"#DejaVuSans-48\"/></g><use x=\"58.523438\" y=\"190.610111\" stroke=\"#000000\" stroke-width=\".8\" xlink:href=\"#m9201cb8b91\"/><defs><path id=\"DejaVuSans-57\" d=\"m10.984 1.5156v8.9844q3.7188-1.7656 7.5156-2.6875 3.8125-0.92188 7.4844-0.92188 9.7656 0 14.906 6.5625 5.1562 6.5625 5.8906 19.953-2.8281-4.2031-7.1875-6.4531-4.3438-2.25-9.6094-2.25-10.938 0-17.312 6.6094-6.375 6.625-6.375 18.109 0 11.219 6.6406 18 6.6406 6.7969 17.672 6.7969 12.656 0 19.312-9.7031 6.6719-9.6875 6.6719-28.141 0-17.234-8.1875-27.516-8.1719-10.281-21.984-10.281-3.7188 0-7.5312 0.73438-3.7969 0.73438-7.9062 2.2031zm19.625 30.906q6.6406 0 10.516 4.5312 3.8906 4.5469 3.8906 12.469 0 7.8594-3.8906 12.422-3.875 4.5625-10.516 4.5625t-10.516-4.5625-3.875-12.422q0-7.9219 3.875-12.469 3.875-4.5312 10.516-4.5312z\"/></defs><g transform=\"translate(20.878 194.41) scale(.1 -.1)\"><use xlink:href=\"#DejaVuSans-8722\"/><use x=\"83.789062\" xlink:href=\"#DejaVuSans-48\"/><use x=\"147.412109\" xlink:href=\"#DejaVuSans-46\"/><use x=\"179.199219\" xlink:href=\"#DejaVuSans-57\"/><use x=\"242.822266\" xlink:href=\"#DejaVuSans-53\"/></g><use x=\"58.523438\" y=\"145.582155\" stroke=\"#000000\" stroke-width=\".8\" xlink:href=\"#m9201cb8b91\"/><g transform=\"translate(20.878 149.38) scale(.1 -.1)\"><use xlink:href=\"#DejaVuSans-8722\"/><use x=\"83.789062\" xlink:href=\"#DejaVuSans-48\"/><use x=\"147.412109\" xlink:href=\"#DejaVuSans-46\"/><use x=\"179.199219\" xlink:href=\"#DejaVuSans-57\"/><use x=\"242.822266\" xlink:href=\"#DejaVuSans-48\"/></g><use x=\"58.523438\" y=\"100.554199\" stroke=\"#000000\" stroke-width=\".8\" xlink:href=\"#m9201cb8b91\"/><defs><path id=\"DejaVuSans-56\" d=\"m31.781 34.625q-7.0312 0-11.062-3.7656-4.0156-3.7656-4.0156-10.344 0-6.5938 4.0156-10.359 4.0312-3.7656 11.062-3.7656t11.078 3.7812q4.0625 3.7969 4.0625 10.344 0 6.5781-4.0312 10.344-4.0156 3.7656-11.109 3.7656zm-9.8594 4.1875q-6.3438 1.5625-9.8906 5.9062-3.5312 4.3594-3.5312 10.609 0 8.7344 6.2188 13.812 6.2344 5.0781 17.062 5.0781 10.891 0 17.094-5.0781t6.2031-13.812q0-6.25-3.5469-10.609-3.5312-4.3438-9.8281-5.9062 7.125-1.6562 11.094-6.5 3.9844-4.8281 3.9844-11.797 0-10.609-6.4688-16.281-6.4688-5.6562-18.531-5.6562-12.047 0-18.531 5.6562-6.4688 5.6719-6.4688 16.281 0 6.9688 4 11.797 4.0156 4.8438 11.141 6.5zm-3.6094 15.578q0-5.6562 3.5312-8.8281 3.5469-3.1719 9.9375-3.1719 6.3594 0 9.9375 3.1719 3.5938 3.1719 3.5938 8.8281 0 5.6719-3.5938 8.8438-3.5781 3.1719-9.9375 3.1719-6.3906 0-9.9375-3.1719-3.5312-3.1719-3.5312-8.8438z\"/></defs><g transform=\"translate(20.878 104.35) scale(.1 -.1)\"><use xlink:href=\"#DejaVuSans-8722\"/><use x=\"83.789062\" xlink:href=\"#DejaVuSans-48\"/><use x=\"147.412109\" xlink:href=\"#DejaVuSans-46\"/><use x=\"179.199219\" xlink:href=\"#DejaVuSans-56\"/><use x=\"242.822266\" xlink:href=\"#DejaVuSans-53\"/></g><use x=\"58.523438\" y=\"55.526243\" stroke=\"#000000\" stroke-width=\".8\" xlink:href=\"#m9201cb8b91\"/><g transform=\"translate(20.878 59.325) scale(.1 -.1)\"><use xlink:href=\"#DejaVuSans-8722\"/><use x=\"83.789062\" xlink:href=\"#DejaVuSans-48\"/><use x=\"147.412109\" xlink:href=\"#DejaVuSans-46\"/><use x=\"179.199219\" xlink:href=\"#DejaVuSans-56\"/><use x=\"242.822266\" xlink:href=\"#DejaVuSans-48\"/></g><defs><path id=\"DejaVuSans-78\" d=\"m9.8125 72.906h13.281l32.328-60.984v60.984h9.5625v-72.906h-13.281l-32.312 60.984v-60.984h-9.5781z\"/><path id=\"DejaVuSans-76\" d=\"m9.8125 72.906h9.8594v-64.609h35.5v-8.2969h-45.359z\"/><path id=\"DejaVuSans-107\" d=\"m9.0781 75.984h9.0312v-44.875l26.812 23.578h11.469l-29-25.578 30.234-29.109h-11.719l-27.797 26.703v-26.703h-9.0312z\"/><path id=\"DejaVuSans-108\" d=\"m9.4219 75.984h8.9844v-75.984h-8.9844z\"/><path id=\"DejaVuSans-104\" d=\"m54.891 33.016v-33.016h-8.9844v32.719q0 7.7656-3.0312 11.609-3.0312 3.8594-9.0781 3.8594-7.2812 0-11.484-4.6406-4.2031-4.625-4.2031-12.641v-30.906h-9.0312v75.984h9.0312v-29.797q3.2344 4.9375 7.5938 7.375 4.375 2.4375 10.094 2.4375 9.4219 0 14.25-5.8281 4.8438-5.8281 4.8438-17.156z\"/><path id=\"DejaVuSans-100\" d=\"m45.406 46.391v29.594h8.9844v-75.984h-8.9844v8.2031q-2.8281-4.875-7.1562-7.25-4.3125-2.375-10.375-2.375-9.9062 0-16.141 7.9062-6.2188 7.9219-6.2188 20.812t6.2188 20.797q6.2344 7.9062 16.141 7.9062 6.0625 0 10.375-2.375 4.3281-2.3594 7.1562-7.2344zm-30.609-19.094q0-9.9062 4.0781-15.547t11.203-5.6406 11.219 5.6406q4.1094 5.6406 4.1094 15.547t-4.1094 15.547q-4.0938 5.6406-11.219 5.6406t-11.203-5.6406-4.0781-15.547z\"/></defs><g transform=\"translate(14.798 190.9) rotate(-90) scale(.1 -.1)\"><use xlink:href=\"#DejaVuSans-78\"/><use x=\"74.804688\" xlink:href=\"#DejaVuSans-101\"/><use x=\"136.328125\" xlink:href=\"#DejaVuSans-103\"/><use x=\"199.804688\" xlink:href=\"#DejaVuSans-32\"/><use x=\"231.591797\" xlink:href=\"#DejaVuSans-76\"/><use x=\"285.554688\" xlink:href=\"#DejaVuSans-111\"/><use x=\"346.736328\" xlink:href=\"#DejaVuSans-103\"/><use x=\"410.212891\" xlink:href=\"#DejaVuSans-32\"/><use x=\"442\" xlink:href=\"#DejaVuSans-76\"/><use x=\"497.712891\" xlink:href=\"#DejaVuSans-105\"/><use x=\"525.496094\" xlink:href=\"#DejaVuSans-107\"/><use x=\"579.78125\" xlink:href=\"#DejaVuSans-101\"/><use x=\"641.304688\" xlink:href=\"#DejaVuSans-108\"/><use x=\"669.087891\" xlink:href=\"#DejaVuSans-105\"/><use x=\"696.871094\" xlink:href=\"#DejaVuSans-104\"/><use x=\"760.25\" xlink:href=\"#DejaVuSans-111\"/><use x=\"821.431641\" xlink:href=\"#DejaVuSans-111\"/><use x=\"882.613281\" xlink:href=\"#DejaVuSans-100\"/><use x=\"946.089844\" xlink:href=\"#DejaVuSans-32\"/><use x=\"977.876953\" xlink:href=\"#DejaVuSans-76\"/><use x=\"1031.839844\" xlink:href=\"#DejaVuSans-111\"/><use x=\"1093.021484\" xlink:href=\"#DejaVuSans-115\"/><use x=\"1145.121094\" xlink:href=\"#DejaVuSans-115\"/></g><path d=\"m73.742 32.202 16.019 127.38 16.019 30.034 16.019-8.06 16.019 8.7354 16.019 5.8086 16.019 5.9437 16.019-11.482 16.019 14.859 16.019 1.0807 16.019 7.6097 16.019 2.6116 16.019 4.9981 16.019-0.85553 16.019 1.8912 16.019 1.7561 32.038 3.242 16.019 2.1163 16.019-3.1069\" clip-path=\"url(#p1f3d03418a)\" fill=\"none\" stroke=\"#1f77b4\" stroke-linecap=\"square\" stroke-width=\"1.5\"/><path d=\"m58.523 239.76v-217.44\" fill=\"none\" stroke=\"#000000\" stroke-linecap=\"square\" stroke-width=\".8\"/><path d=\"m393.32 239.76v-217.44\" fill=\"none\" stroke=\"#000000\" stroke-linecap=\"square\" stroke-width=\".8\"/><path d=\"m58.523 239.76h334.8\" fill=\"none\" stroke=\"#000000\" stroke-linecap=\"square\" stroke-width=\".8\"/><path d=\"m58.523 22.318h334.8\" fill=\"none\" stroke=\"#000000\" stroke-linecap=\"square\" stroke-width=\".8\"/><defs><path id=\"DejaVuSans-72\" d=\"m9.8125 72.906h9.8594v-29.891h35.844v29.891h9.8594v-72.906h-9.8594v34.719h-35.844v-34.719h-9.8594z\"/><path id=\"DejaVuSans-121\" d=\"m32.172-5.0781q-3.7969-9.7656-7.4219-12.734-3.6094-2.9844-9.6562-2.9844h-7.1875v7.5156h5.2812q3.7031 0 5.75 1.7656 2.0625 1.75 4.5469 8.2969l1.6094 4.0938-22.109 53.812h9.5156l17.094-42.766 17.094 42.766h9.5156z\"/><path id=\"DejaVuSans-98\" d=\"m48.688 27.297q0 9.9062-4.0781 15.547t-11.203 5.6406q-7.1406 0-11.219-5.6406t-4.0781-15.547 4.0781-15.547 11.219-5.6406q7.125 0 11.203 5.6406t4.0781 15.547zm-30.578 19.094q2.8438 4.875 7.1562 7.2344 4.3281 2.375 10.328 2.375 9.9688 0 16.188-7.9062 6.2344-7.9062 6.2344-20.797t-6.2344-20.812q-6.2188-7.9062-16.188-7.9062-6 0-10.328 2.375-4.3125 2.375-7.1562 7.25v-8.2031h-9.0312v75.984h9.0312z\"/><path id=\"DejaVuSans-67\" d=\"m64.406 67.281v-10.391q-4.9844 4.6406-10.625 6.9219-5.6406 2.2969-11.984 2.2969-12.5 0-19.141-7.6406t-6.6406-22.094q0-14.406 6.6406-22.047t19.141-7.6406q6.3438 0 11.984 2.2969t10.625 6.9375v-10.312q-5.1719-3.5156-10.969-5.2812-5.7812-1.75-12.219-1.75-16.562 0-26.094 10.125-9.5156 10.141-9.5156 27.672 0 17.578 9.5156 27.703 9.5312 10.141 26.094 10.141 6.5312 0 12.312-1.7344 5.7969-1.7344 10.875-5.2031z\"/><path id=\"DejaVuSans-118\" d=\"m2.9844 54.688h9.5156l17.094-45.891 17.094 45.891h9.5156l-20.516-54.688h-12.203z\"/><path id=\"DejaVuSans-99\" d=\"m48.781 52.594v-8.4062q-3.8125 2.1094-7.6406 3.1562t-7.7344 1.0469q-8.75 0-13.594-5.5469-4.8281-5.5312-4.8281-15.547t4.8281-15.562q4.8438-5.5312 13.594-5.5312 3.9062 0 7.7344 1.0469t7.6406 3.1562v-8.3125q-3.7656-1.75-7.7969-2.625-4.0156-0.89062-8.5625-0.89062-12.359 0-19.641 7.7656-7.2656 7.7656-7.2656 20.953 0 13.375 7.3438 21.031 7.3594 7.6719 20.156 7.6719 4.1406 0 8.0938-0.85938 3.9531-0.84375 7.6719-2.5469z\"/></defs><g transform=\"translate(128.18 16.318) scale(.12 -.12)\"><use xlink:href=\"#DejaVuSans-72\"/><use x=\"75.195312\" xlink:href=\"#DejaVuSans-121\"/><use x=\"134.375\" xlink:href=\"#DejaVuSans-98\"/><use x=\"197.851562\" xlink:href=\"#DejaVuSans-114\"/><use x=\"238.964844\" xlink:href=\"#DejaVuSans-105\"/><use x=\"266.748047\" xlink:href=\"#DejaVuSans-100\"/><use x=\"330.224609\" xlink:href=\"#DejaVuSans-32\"/><use x=\"362.011719\" xlink:href=\"#DejaVuSans-78\"/><use x=\"436.816406\" xlink:href=\"#DejaVuSans-78\"/><use x=\"511.621094\" xlink:href=\"#DejaVuSans-32\"/><use x=\"543.408203\" xlink:href=\"#DejaVuSans-84\"/><use x=\"589.742188\" xlink:href=\"#DejaVuSans-114\"/><use x=\"630.855469\" xlink:href=\"#DejaVuSans-97\"/><use x=\"692.134766\" xlink:href=\"#DejaVuSans-105\"/><use x=\"719.917969\" xlink:href=\"#DejaVuSans-110\"/><use x=\"783.296875\" xlink:href=\"#DejaVuSans-105\"/><use x=\"811.080078\" xlink:href=\"#DejaVuSans-110\"/><use x=\"874.458984\" xlink:href=\"#DejaVuSans-103\"/><use x=\"937.935547\" xlink:href=\"#DejaVuSans-32\"/><use x=\"969.722656\" xlink:href=\"#DejaVuSans-67\"/><use x=\"1039.546875\" xlink:href=\"#DejaVuSans-111\"/><use x=\"1100.728516\" xlink:href=\"#DejaVuSans-110\"/><use x=\"1164.107422\" xlink:href=\"#DejaVuSans-118\"/><use x=\"1223.287109\" xlink:href=\"#DejaVuSans-101\"/><use x=\"1284.810547\" xlink:href=\"#DejaVuSans-114\"/><use x=\"1324.173828\" xlink:href=\"#DejaVuSans-103\"/><use x=\"1387.650391\" xlink:href=\"#DejaVuSans-101\"/><use x=\"1449.173828\" xlink:href=\"#DejaVuSans-110\"/><use x=\"1512.552734\" xlink:href=\"#DejaVuSans-99\"/><use x=\"1567.533203\" xlink:href=\"#DejaVuSans-101\"/></g><defs><clipPath id=\"p1f3d03418a\"><rect x=\"58.523\" y=\"22.318\" width=\"334.8\" height=\"217.44\"/></clipPath></defs></svg>",
      "text/plain": [
       "<Figure size 432x288 with 1 Axes>"
      ]
     },
     "metadata": {
      "needs_background": "light"
     },
     "output_type": "display_data"
    }
   ],
   "source": [
    "plt.plot(loss_list)\n",
    "plt.title('Hybrid NN Training Convergence')\n",
    "plt.xlabel('Training Iterations')\n",
    "plt.ylabel('Neg Log Likelihood Loss')"
   ]
  },
  {
   "cell_type": "markdown",
   "metadata": {},
   "source": [
    "### 3.7 Testing the Network <a id='testing'></a>"
   ]
  },
  {
   "cell_type": "code",
   "execution_count": 15,
   "metadata": {},
   "outputs": [
    {
     "name": "stdout",
     "output_type": "stream",
     "text": [
      "Performance on test data:\n",
      "\tLoss: -0.9827\n",
      "\tAccuracy: 100.0%\n"
     ]
    }
   ],
   "source": [
    "model.eval()\n",
    "with torch.no_grad():\n",
    "    \n",
    "    correct = 0\n",
    "    for batch_idx, (data, target) in enumerate(test_loader):\n",
    "        output = model(data)\n",
    "        \n",
    "        pred = output.argmax(dim=1, keepdim=True) \n",
    "        correct += pred.eq(target.view_as(pred)).sum().item()\n",
    "        \n",
    "        loss = loss_func(output, target)\n",
    "        total_loss.append(loss.item())\n",
    "        \n",
    "    print('Performance on test data:\\n\\tLoss: {:.4f}\\n\\tAccuracy: {:.1f}%'.format(\n",
    "        sum(total_loss) / len(total_loss),\n",
    "        correct / len(test_loader) * 100)\n",
    "        )"
   ]
  },
  {
   "cell_type": "code",
   "execution_count": 12,
   "metadata": {},
   "outputs": [
    {
     "data": {
      "image/svg+xml": "<?xml version=\"1.0\" encoding=\"UTF-8\"?><!DOCTYPE svg  PUBLIC '-//W3C//DTD SVG 1.1//EN'  'http://www.w3.org/Graphics/SVG/1.1/DTD/svg11.dtd'><svg width=\"575.9pt\" height=\"112.73pt\" version=\"1.1\" viewBox=\"0 0 575.9 112.73\" xmlns=\"http://www.w3.org/2000/svg\" xmlns:xlink=\"http://www.w3.org/1999/xlink\"><defs><style type=\"text/css\">*{stroke-linecap:butt;stroke-linejoin:round;}</style></defs><path d=\"m0 112.73h575.9v-112.73h-575.9z\" fill=\"none\"/><path d=\"m10.7 102.03h79.714v-79.714h-79.714z\" fill=\"#ffffff\"/><g clip-path=\"url(#p2e07161f37)\"><image transform=\"scale(1 -1)translate(0 -80)\" x=\"10.7\" y=\"-22.032\" width=\"80\" height=\"80\" xlink:href=\"data:image/png;base64, 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\"/></g><path d=\"m10.7 102.03v-79.714\" fill=\"none\" stroke=\"#000000\" stroke-linecap=\"square\" stroke-width=\".8\"/><path d=\"m90.414 102.03v-79.714\" fill=\"none\" stroke=\"#000000\" stroke-linecap=\"square\" stroke-width=\".8\"/><path d=\"m10.7 102.03h79.714\" fill=\"none\" stroke=\"#000000\" stroke-linecap=\"square\" stroke-width=\".8\"/><path d=\"m10.7 22.318h79.714\" fill=\"none\" stroke=\"#000000\" stroke-linecap=\"square\" stroke-width=\".8\"/><defs><path id=\"DejaVuSans-80\" d=\"m19.672 64.797v-27.391h12.406q6.8906 0 10.641 3.5625 3.7656 3.5625 3.7656 10.156 0 6.5469-3.7656 10.109-3.75 3.5625-10.641 3.5625zm-9.8594 8.1094h22.266q12.266 0 18.531-5.5469 6.2812-5.5469 6.2812-16.234 0-10.797-6.2812-16.312-6.2656-5.5156-18.531-5.5156h-12.406v-29.297h-9.8594z\"/><path id=\"DejaVuSans-114\" d=\"m41.109 46.297q-1.5156 0.875-3.2969 1.2812-1.7812 0.42188-3.9219 0.42188-7.625 0-11.703-4.9531t-4.0781-14.234v-28.812h-9.0312v54.688h9.0312v-8.5q2.8438 4.9844 7.375 7.3906 4.5469 2.4219 11.047 2.4219 0.92188 0 2.0469-0.125 1.125-0.10938 2.4844-0.35938z\"/><path id=\"DejaVuSans-101\" d=\"m56.203 29.594v-4.3906h-41.312q0.59375-9.2812 5.5938-14.141t13.938-4.8594q5.1719 0 10.031 1.2656t9.6562 3.8125v-8.5q-4.8438-2.0469-9.9219-3.125t-10.297-1.0781q-13.094 0-20.734 7.6094-7.6406 7.625-7.6406 20.625 0 13.422 7.25 21.297 7.25 7.8906 19.562 7.8906 11.031 0 17.453-7.1094 6.4219-7.0938 6.4219-19.297zm-8.9844 2.6406q-0.09375 7.3594-4.125 11.75-4.0312 4.4062-10.672 4.4062-7.5156 0-12.031-4.25t-5.2031-11.969z\"/><path id=\"DejaVuSans-100\" d=\"m45.406 46.391v29.594h8.9844v-75.984h-8.9844v8.2031q-2.8281-4.875-7.1562-7.25-4.3125-2.375-10.375-2.375-9.9062 0-16.141 7.9062-6.2188 7.9219-6.2188 20.812t6.2188 20.797q6.2344 7.9062 16.141 7.9062 6.0625 0 10.375-2.375 4.3281-2.3594 7.1562-7.2344zm-30.609-19.094q0-9.9062 4.0781-15.547t11.203-5.6406 11.219 5.6406q4.1094 5.6406 4.1094 15.547t-4.1094 15.547q-4.0938 5.6406-11.219 5.6406t-11.203-5.6406-4.0781-15.547z\"/><path id=\"DejaVuSans-105\" d=\"m9.4219 54.688h8.9844v-54.688h-8.9844zm0 21.297h8.9844v-11.391h-8.9844z\"/><path id=\"DejaVuSans-99\" d=\"m48.781 52.594v-8.4062q-3.8125 2.1094-7.6406 3.1562t-7.7344 1.0469q-8.75 0-13.594-5.5469-4.8281-5.5312-4.8281-15.547t4.8281-15.562q4.8438-5.5312 13.594-5.5312 3.9062 0 7.7344 1.0469t7.6406 3.1562v-8.3125q-3.7656-1.75-7.7969-2.625-4.0156-0.89062-8.5625-0.89062-12.359 0-19.641 7.7656-7.2656 7.7656-7.2656 20.953 0 13.375 7.3438 21.031 7.3594 7.6719 20.156 7.6719 4.1406 0 8.0938-0.85938 3.9531-0.84375 7.6719-2.5469z\"/><path id=\"DejaVuSans-116\" d=\"m18.312 70.219v-15.531h18.5v-6.9844h-18.5v-29.688q0-6.6875 1.8281-8.5938t7.4531-1.9062h9.2188v-7.5156h-9.2188q-10.406 0-14.359 3.875-3.9531 3.8906-3.9531 14.141v29.688h-6.5938v6.9844h6.5938v15.531z\"/><path id=\"DejaVuSans-49\" d=\"m12.406 8.2969h16.109v55.625l-17.531-3.5156v8.9844l17.438 3.5156h9.8594v-64.609h16.109v-8.2969h-41.984z\"/></defs><g transform=\"translate(16.668 16.318) scale(.12 -.12)\"><use xlink:href=\"#DejaVuSans-80\"/><use x=\"58.552734\" xlink:href=\"#DejaVuSans-114\"/><use x=\"97.416016\" xlink:href=\"#DejaVuSans-101\"/><use x=\"158.939453\" xlink:href=\"#DejaVuSans-100\"/><use x=\"222.416016\" xlink:href=\"#DejaVuSans-105\"/><use x=\"250.199219\" xlink:href=\"#DejaVuSans-99\"/><use x=\"305.179688\" xlink:href=\"#DejaVuSans-116\"/><use x=\"344.388672\" xlink:href=\"#DejaVuSans-101\"/><use x=\"405.912109\" xlink:href=\"#DejaVuSans-100\"/><use x=\"469.388672\" xlink:href=\"#DejaVuSans-32\"/><use x=\"501.175781\" xlink:href=\"#DejaVuSans-49\"/></g><path d=\"m106.36 102.03h79.714v-79.714h-79.714z\" fill=\"#ffffff\"/><g clip-path=\"url(#p77c6ff1e64)\"><image transform=\"scale(1 -1)translate(0 -80)\" x=\"106.36\" y=\"-22.032\" width=\"80\" height=\"80\" xlink:href=\"data:image/png;base64, iVBORw0KGgoAAAANSUhEUgAAAFAAAABQCAYAAACOEfKtAAAABHNCSVQICAgIfAhkiAAAELdJREFUeJztnO1vG2nVxn9jz3jGHr/HzpudpElK2Ca7UECLWKQKJPgC3+C/5H9AWtEVCBCI1b6kadIm2yZx/G7P2J6xx/aYD/vcN3bS3aS2k+4DuaSoSuqMx9fc9znXOee6owAj7jE1Au/6Bv6/457AGXFP4Iy4J3BG3BM4I+4JnBH3BM6IewJnxD2BM0J91zdwGYqiEAwGCQQCKIoiv94Go9GIwWDAcDiU398WvjMECtIMw2BxcZFYLEYoFMI0TUKh0I2uMRqN8H2fbrfL6ekp5XIZ3/cZDoeMRiP5//PEd4JARVEIBAKoqoppmqytrbG8vEw4HGZpaYlIJHLtNUajEcPhEN/3sW2bwWCAbdsMh0M8z5sgcZ4r8s4JFGQpioKu62iaRjAYxDAMNE0jkUiwtLTE0tIS4XCYTCZDOBy+0bUFgbqus7KyguM4eJ5Ht9ul3+8zHA7p9XoMh0MGgwGe5+H7/kykKtxxN8YwDMLhMLqus7W1xfr6Orquk81mSSQSmKbJ+vo66XQaVVUJh8Oo6s2esyDC8zwqlQrNZhPXdSmVSti2TafToVKp4LoutVqNr776SpLc6/WmIvFOV6CiKDKumabJw4cPefz4sSRtaWkJwzBYXl4mFovJ33lbCCJGoxHtdpvj42NqtRrNZpOTkxMsy+Krr76i2WzK13qe990iMBAIyMQQCoWIRCIEg0HS6bTclrlcjkwmQyQSIZFIEIlE0HUdVVUJBKZXWOOka5qGaZp4ngdANpslHA4zHA5pNpskk0nq9ToXFxcyVg4Gg5u/F7e0hQ3DIB6PEwqFyOfz7OzsYJomDx48YHt7W8a38a2q6zrBYFCSOA8Mh0M6nQ6e5+F5ntyytm1TKBRwHId//etffPzxxzSbTWzbxrKsG2frW1uBqqoSiUQwDIOVlRV2d3dJpVI8evSIvb09DMNAVdW5EfVNCAaDxOPxKz/vdrtsbW3JBPPFF1/I+Gnb9o2vP9e7DwQCaJpGIBAgk8nw6NEj4vE4m5ub5HI5YrEY8XhcblGx1YTw7ff78kMI+dFut+n3+1Pfk8js4oEZhiFDi6ZpjEYjkskk+XweXdcZDAbUajWZna/DXAnUNI1kMomu6zx+/Jjf//735PN5EokECwsLaJpGJBIhHA5LOQPg+z6tVotOp0Ov16NardLpdKjX6zx//px6vT71PaVSKR4/fkw+nycajbK6uoppmqiqSjQaZTgc8vDhQ37xi1/QaDR4+vQpZ2dnUhJdR+LcV6Cu60QiERYXF9nd3WVrawtN0yRpb4Lv+3ieh+u6OI5DvV6n2WxSKpU4ODigWCxOfU9CU0ajUQCZIAKBgBTvqVSK9fV14vE4qVSKYDAoS8hbJ1BRlIltu7e3RzabZWdnh1gsdiXO9ft9+v2+LLlEYH/58iWFQgHXdalWq9i2TbPZ5Pz8nGazOfX9+b7P8+fPcRyHTCYDIFVAIpGQD3dhYYFQKEQmkyGVShEIBHAcB9d1v/X6MxMYDAal/Nja2uK3v/0tOzs7ZLNZWU2MP03XdbFtm36/T6VSoV6vU6/X+eSTT/jss89kEO/1egwGAxzHeStZcRnhcJharUYikSCfz2NZFrlcTiY2TdOIx+MYhoHrumxubpLP54lEIpRKJbrd7reuwrmtQF3XZYx58OCBJHVcz4lkIVaebdvU63Wq1Sqnp6ccHx/T7/el7JgHPM8jEAjQarVQFIVKpYJhGDL+wdexW9M0GRdN06Tb7aJp2rXbeGYCDcMgl8uxtLTE9vY2mUyGWCwmsx18vW17vR79fp/Xr19zcnKC4zi8evWK8/NzLMvi/Pycbrc70YaaB3zfx3VdKZzPzs4YDAaEw+ErD0lRFGKxGKurq+i6jmVZlEqlb73+zARGIhHee+89dnZ2WF9fJ5fLsbCwIPt6AL1eT9alBwcH/P3vf8eyLA4ODjg5OaHf7+O6Lr1eT37oeUEIadd1CQQCHB0dUa1WiUQi8v0EFEUhnU6zvb1NKpWiWCxeW0rOJQaapkkymSQWi72xihCxzHEcbNuWdWm1WqVSqcy9R3cZvu/LTN9ut1FVVa52sT1FnBa1erfbvVEfcmoCRaoXJdnq6iqZTAZd1ydeNxqNOD8/569//SuNRoODgwMODg5wXRfLsm61W3wZnudRq9VwHIdCoUC5XMY0TcLhMKZpoigKpmmytLQkK6lbWYFie4oadnFxkbW1NVn7jmM0GvHq1Sv++Mc/UiwWKRQKFAoFGevuksBer0epVCIYDFIoFCgWi5imSSqVkjE7FouxvLyMpmlEo9HbIzAUCknRLHp8oVBoIuuKdnqv15NFuuM4sql51/B9n8FgILfzYDC4krTEohCl360QqOs6Dx8+JJ/Ps7a2xtbWFktLS4RCIbkCPc+TckR0OVqt1rW66rYxPhe5PCMZz8KhUIhYLHZ7BG5ubvL48WOWl5d58OABi4uLExO0fr+Pbdu4rjtB4LSd33lhfLh0uZ2vKIrUgWILX4eZYqAQoKK7MQ4hiNvtNo7j0O/35fZ51xgfl15eYeJn4vPcuoz5JjSbTb788ksqlQovX76U8e+uE8c4FEWRrTRReaiqKvXqNLg1AtvtNicnJxQKBc7Ozmi321eE611D7ByhIAR508xdBGbSgWL7vukGhsMh3W4X13Vlo/RdQ7TbNE3DMAwMw5Dfi88gWv+tVutG9z0VgYFAgHA4TDweJxqNomnaldf0ej1qtZocKb4L2XIZYnwajUbJ5/OyVygWgu/7VKtVCoUCtVqNWq12OwSKDoxhGFe0n4BIIq1WC9d1vxMrULSuEokEyWSSRCIhx6fwtU5st9sUi0VqtRrtdvva+/6fcmeJEatwQbwp9Ih22+Va+RuvOe3NTOOaetdQVZVEIiFbbpezr2j4NhoNGo0G3W732mv+z67AUCj0jSvQdd0bJ7+pYuBoNKLf78uZ6ndBHH8TVFWVDd61tTW+//3vyxLUMIyJ14qRarvdvvE4dSoCfd/HcRwsy8IwjJnmtrcNwzDY2Nggm83y8OFDfvWrX7G1tUU0Gr1Sqo1GI2lAqtfrdDqd25vKDYdDWZ696U3E9njXsVLMOVKpFAsLCywtLbG6uip1rICojcXOEknk2uvf1o0nk0n29vZIp9Ps7+9TrVYB3tq8Mw2CwaC0yi0uLvLjH/+Y7e1tVlZWSKVSE+al0WjE2dkZR0dH2LbNP/7xD46Ojmi1Wti2fbeD9XFks1k++ugjbNtG0zSOjo5kdXLb9bCmaaysrLCyssLa2hq//vWv+eEPf4iu68Tj8QkJ4/s+h4eH/OEPf6BcLnN6esrr169lRXJdfJ86iYxbat9ERigUkj4YMXcNhUK3Gi9FuBCWtmQySTKZZGFhgWw2K50IYlQpGr6tVotSqcTFxQW1Wo1Wq3UjDQhTEihGhMViEVVVJyoN8WR1XWdhYYFoNEoul2N7e5t4PE6hULhxfHkbBAIBUqmUrDI++ugjPvjgA9LpNMvLyxM1+2g0wrZtLi4ucByHk5MTqtUqlmXhuu5bqYqpCWw0GpydnaGqKo7j4Pv+RMLQdZ1MJsNwOGR9fZ2dnR1SqRSe53FxcTF3AoPBIJlMRhrUf/nLX/LkyRM59BeTQrF7ms0mz549o16vc3R0NGEJvqkzC2aQMcIM5Lou3W6XXq8nhaqwromnbhgGsViMXq8nnao3Me7cBMIkFAqFiEajpNNp0uk0iUSCeDz+Rhud7/t0Oh2azSb1eh3btuWM5G017VQEDgYDyuWyVOvPnj0jHA4TjUZZX1+f0FeKopDJZPjggw9oNptYlsWLFy9QVZVerzdTj1BRFOLxOMlkkmg0ys9//nN+9rOfEY/H2djYmCAPwHVdyuUyjuPw+eef86c//YmLiwuKxSK2bU+V4KYmsFKpUKvVGAwGHB4eyjMdmUzmCoHpdJrd3V1arRYnJyfSMSqU/9RHDP5vCJTL5Uin0/z0pz/lN7/5zTdO1LrdLoVCgUajwf7+Pn/5y194/fr1xHzkbTG1jBFZWLStbNsmGo1emfbD12JW13WGwyGJRILl5WUMw2A0Gk089Zt+ACGCRYYX2zYajV6pc8fVgmgUjMe7WVXBzDqw2+1ydnZGMBjE8zwePXpEMplEVVWpt3RdJ5VKYZomH374IeFwmGazySeffMI///lPer0eruve2JGVSqVYXl7GNE12d3f5wQ9+QCKRYGNj40qHfDAY0Gg0cF2X4+Njnj59ysnJCefn57Tb7Vk//uwE9vt9yuUy8LXRqNPpyAwrtpGY3vm+z3vvvcfi4iKNRoNyuczh4SHBYJB+v38jAsXoUTghdnd3+clPfkI0GpVy5fL9tVot6cz69NNPefbsmXTDzoqZCRwOhziOQ6vVotFoUCqViMVixGIxstnshNVDkCmsZYuLi6yvr9PpdKTMEO6B4XAohz/iXxHbcrkc+XyeeDzOwsICpmkSiURkbStUgiCvUChQrVa5uLiQs+mbCuXrMDOBQteJ7kU0GmV/f5/vfe97PHnyRNpqAWlGEsadJ0+esLq6SqPR4M9//jP7+/t0u10ajQaO40jjkmEYZDIZHjx4gGmabG5usre3h2maZDIZstksqqoSCoVkYhJzjXK5zNOnT3nx4gX1ep1Xr17RarVk4pgVMxM4GAywLAv4OmA/e/aMarWKqqp8+OGHV14vtrNhGOzs7LC4uEi5XJZyQviSPc/DMAxpm8vn87z//vskk8kJAgVx4v2F1rMsi2KxyOnpKZ999hmff/65dMXOs5ycazOh3+9jWRbBYFBad8X4MBKJXBk+ie0sEoBt2ziOQzabxbIsSVw0GiWbzbK6ukosFpPmcCGi4T8DIfH18uVLjo+PKZfLNJtNuaXn3cSY61EvXdflOZEf/ehH/O53vyOXy7G8vMz29vYV76BwR4nTlZZl0e12qVQqtFotTNNkZWUF0zTRdV2uOPFAxo8jeJ7H4eEhJycn1Go1Pv74Yz799FNc15XhZfzw9bww9xVo2zbBYJBqtUq5XJYmnTfNhYU7wDAMTNOUurBardJut6XZ8SYHrsVB62KxSKlU4sWLF3z55Ze3Pk6dez9QPOFGo8Hz58+p1Wq4rivtYqL0EttvvHMN/zljJ1wE3+ZbES144QIT5In3vAvMlUDRElcUhdPTUzqdDoZh8P7779NsNkmlUuzs7LC3tyc7JEK+jLuhUqkUvu/L/t23vV+5XOb4+JhWq8X+/j6Hh4fSzHkXmPsKFJlQWNqCwSCpVIpSqUS/32dlZQXP86Ql7vIWE1rxch07foha/Cs0aKPRkCebbNum3W7PTeddh1tr6Y8H7EqlwhdffEEsFsN1XVqtFuFwmGQyOdFyEn+1Q/hXxiHO0HmeR71ep1gs0u12ef36tTy6XygU5OmiTqdzWx9tArf6NxPEKhJ+ak3T2NjYYHNzk0gkQj6fJ5/PTzi90um0PF05vgovLi7Y39/Hsiz29/f529/+Jk86ia6QmGOIufVdGJpu9bSz2EKi7xcIBORxV2FONwxDJgxRO7fbbVzXnSCw3W7TbDZlN+Xs7EzGOsuy3plx807/aoeiKHJmEQqFSKfTJJNJ6RwNBoOEw2E2NjZIp9MTv2tZljyif3FxwcuXL+X8Vsxk/usJBCbky7i3elzOiCpjHKLJcPl0+7siTuDOCfxvw/+UO+s2cE/gjLgncEbcEzgj7gmcEfcEzoh7AmfEPYEz4p7AGfFvRFERabCjE5QAAAAASUVORK5CYII=\"/></g><path d=\"m106.36 102.03v-79.714\" fill=\"none\" stroke=\"#000000\" stroke-linecap=\"square\" stroke-width=\".8\"/><path d=\"m186.07 102.03v-79.714\" fill=\"none\" stroke=\"#000000\" stroke-linecap=\"square\" stroke-width=\".8\"/><path d=\"m106.36 102.03h79.714\" fill=\"none\" stroke=\"#000000\" stroke-linecap=\"square\" stroke-width=\".8\"/><path d=\"m106.36 22.318h79.714\" fill=\"none\" stroke=\"#000000\" stroke-linecap=\"square\" stroke-width=\".8\"/><defs><path id=\"DejaVuSans-48\" d=\"m31.781 66.406q-7.6094 0-11.453-7.5-3.8281-7.4844-3.8281-22.531 0-14.984 3.8281-22.484 3.8438-7.5 11.453-7.5 7.6719 0 11.5 7.5 3.8438 7.5 3.8438 22.484 0 15.047-3.8438 22.531-3.8281 7.5-11.5 7.5zm0 7.8125q12.266 0 18.734-9.7031 6.4688-9.6875 6.4688-28.141 0-18.406-6.4688-28.109-6.4688-9.6875-18.734-9.6875-12.25 0-18.719 9.6875-6.4688 9.7031-6.4688 28.109 0 18.453 6.4688 28.141 6.4688 9.7031 18.719 9.7031z\"/></defs><g transform=\"translate(112.33 16.318) scale(.12 -.12)\"><use xlink:href=\"#DejaVuSans-80\"/><use x=\"58.552734\" xlink:href=\"#DejaVuSans-114\"/><use x=\"97.416016\" xlink:href=\"#DejaVuSans-101\"/><use x=\"158.939453\" xlink:href=\"#DejaVuSans-100\"/><use x=\"222.416016\" xlink:href=\"#DejaVuSans-105\"/><use x=\"250.199219\" xlink:href=\"#DejaVuSans-99\"/><use x=\"305.179688\" xlink:href=\"#DejaVuSans-116\"/><use x=\"344.388672\" xlink:href=\"#DejaVuSans-101\"/><use x=\"405.912109\" xlink:href=\"#DejaVuSans-100\"/><use x=\"469.388672\" xlink:href=\"#DejaVuSans-32\"/><use x=\"501.175781\" xlink:href=\"#DejaVuSans-48\"/></g><path d=\"m202.01 102.03h79.714v-79.714h-79.714z\" fill=\"#ffffff\"/><g clip-path=\"url(#p42940cbb77)\"><image transform=\"scale(1 -1)translate(0 -80)\" x=\"202.01\" y=\"-22.032\" width=\"80\" height=\"80\" xlink:href=\"data:image/png;base64, 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\"/></g><path d=\"m202.01 102.03v-79.714\" fill=\"none\" stroke=\"#000000\" stroke-linecap=\"square\" stroke-width=\".8\"/><path d=\"m281.73 102.03v-79.714\" fill=\"none\" stroke=\"#000000\" stroke-linecap=\"square\" stroke-width=\".8\"/><path d=\"m202.01 102.03h79.714\" fill=\"none\" stroke=\"#000000\" stroke-linecap=\"square\" stroke-width=\".8\"/><path d=\"m202.01 22.318h79.714\" fill=\"none\" stroke=\"#000000\" stroke-linecap=\"square\" stroke-width=\".8\"/><g transform=\"translate(207.98 16.318) scale(.12 -.12)\"><use xlink:href=\"#DejaVuSans-80\"/><use x=\"58.552734\" xlink:href=\"#DejaVuSans-114\"/><use x=\"97.416016\" xlink:href=\"#DejaVuSans-101\"/><use x=\"158.939453\" xlink:href=\"#DejaVuSans-100\"/><use x=\"222.416016\" xlink:href=\"#DejaVuSans-105\"/><use x=\"250.199219\" xlink:href=\"#DejaVuSans-99\"/><use x=\"305.179688\" xlink:href=\"#DejaVuSans-116\"/><use x=\"344.388672\" xlink:href=\"#DejaVuSans-101\"/><use x=\"405.912109\" xlink:href=\"#DejaVuSans-100\"/><use x=\"469.388672\" xlink:href=\"#DejaVuSans-32\"/><use x=\"501.175781\" xlink:href=\"#DejaVuSans-48\"/></g><path d=\"m297.67 102.03h79.714v-79.714h-79.714z\" fill=\"#ffffff\"/><g clip-path=\"url(#p6ba3ea390d)\"><image transform=\"scale(1 -1)translate(0 -80)\" x=\"297.67\" y=\"-22.032\" width=\"80\" height=\"80\" xlink:href=\"data:image/png;base64, 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\"/></g><path d=\"m297.67 102.03v-79.714\" fill=\"none\" stroke=\"#000000\" stroke-linecap=\"square\" stroke-width=\".8\"/><path d=\"m377.39 102.03v-79.714\" fill=\"none\" stroke=\"#000000\" stroke-linecap=\"square\" stroke-width=\".8\"/><path d=\"m297.67 102.03h79.714\" fill=\"none\" stroke=\"#000000\" stroke-linecap=\"square\" stroke-width=\".8\"/><path d=\"m297.67 22.318h79.714\" fill=\"none\" stroke=\"#000000\" stroke-linecap=\"square\" stroke-width=\".8\"/><g transform=\"translate(303.64 16.318) scale(.12 -.12)\"><use xlink:href=\"#DejaVuSans-80\"/><use x=\"58.552734\" xlink:href=\"#DejaVuSans-114\"/><use x=\"97.416016\" xlink:href=\"#DejaVuSans-101\"/><use x=\"158.939453\" xlink:href=\"#DejaVuSans-100\"/><use x=\"222.416016\" xlink:href=\"#DejaVuSans-105\"/><use x=\"250.199219\" xlink:href=\"#DejaVuSans-99\"/><use x=\"305.179688\" xlink:href=\"#DejaVuSans-116\"/><use x=\"344.388672\" xlink:href=\"#DejaVuSans-101\"/><use x=\"405.912109\" xlink:href=\"#DejaVuSans-100\"/><use x=\"469.388672\" xlink:href=\"#DejaVuSans-32\"/><use x=\"501.175781\" xlink:href=\"#DejaVuSans-49\"/></g><path d=\"m393.33 102.03h79.714v-79.714h-79.714z\" fill=\"#ffffff\"/><g clip-path=\"url(#pa2913c811f)\"><image transform=\"scale(1 -1)translate(0 -80)\" x=\"393.33\" y=\"-22.032\" width=\"80\" height=\"80\" xlink:href=\"data:image/png;base64, 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\"/></g><path d=\"m393.33 102.03v-79.714\" fill=\"none\" stroke=\"#000000\" stroke-linecap=\"square\" stroke-width=\".8\"/><path d=\"m473.04 102.03v-79.714\" fill=\"none\" stroke=\"#000000\" stroke-linecap=\"square\" stroke-width=\".8\"/><path d=\"m393.33 102.03h79.714\" fill=\"none\" stroke=\"#000000\" stroke-linecap=\"square\" stroke-width=\".8\"/><path d=\"m393.33 22.318h79.714\" fill=\"none\" stroke=\"#000000\" stroke-linecap=\"square\" stroke-width=\".8\"/><g transform=\"translate(399.3 16.318) scale(.12 -.12)\"><use xlink:href=\"#DejaVuSans-80\"/><use x=\"58.552734\" xlink:href=\"#DejaVuSans-114\"/><use x=\"97.416016\" xlink:href=\"#DejaVuSans-101\"/><use x=\"158.939453\" xlink:href=\"#DejaVuSans-100\"/><use x=\"222.416016\" xlink:href=\"#DejaVuSans-105\"/><use x=\"250.199219\" xlink:href=\"#DejaVuSans-99\"/><use x=\"305.179688\" xlink:href=\"#DejaVuSans-116\"/><use x=\"344.388672\" xlink:href=\"#DejaVuSans-101\"/><use x=\"405.912109\" xlink:href=\"#DejaVuSans-100\"/><use x=\"469.388672\" xlink:href=\"#DejaVuSans-32\"/><use x=\"501.175781\" xlink:href=\"#DejaVuSans-49\"/></g><path d=\"m488.99 102.03h79.714v-79.714h-79.714z\" fill=\"#ffffff\"/><g clip-path=\"url(#pd328bfbf4f)\"><image transform=\"scale(1 -1)translate(0 -80)\" x=\"488.99\" y=\"-22.032\" width=\"80\" height=\"80\" xlink:href=\"data:image/png;base64, iVBORw0KGgoAAAANSUhEUgAAAFAAAABQCAYAAACOEfKtAAAABHNCSVQICAgIfAhkiAAACR5JREFUeJztnEtv28YWgD++RYqinpbi2JadFG7abooii3TZv94CRRZFUBQtkDoNItdOYj0siSKpB0lRvIuCvKotp0h19fCNPkArK8Hg85k5Z2bOWABidvxrxE0P4L6zE7gkO4FLshO4JDuBS7ITuCQ7gUuyE7gkO4FLIm96AP8GSZKQZRlBEJAkCUVRABAEAYDZbIbv+4RhSBzH6WcV3CuBoigiCAJ7e3scHh6SyWQ4OjqiXq+jKAqSJCGKIq7r8uLFC169ekUQBLiuy2QyWcmY7o1AQRAQRRFRFKlUKnz11VcUCgWePn3Ks2fP0HUdWZaRZZlWq4UoigwGA4bDIb7v7wQm01WSJAzDoFwuUyqVKBaLZLNZdF1HURREUSSbzWIYBoZhEEURkiStbFz3RqCiKGSzWTRN47PPPuO7776jWq1SqVTI5/Pp9BVFkUwmQ7Va5eTkhG63y/X1Nf1+fyXjujcCk8hL1r1vvvmGBw8eIAhCmjwSVFWlWCyyv7+PKIpomraycd0bgYqiYJompmliGEYacYsQRRFd17EsC8/z0iy9Cu6NwHw+zxdffEG5XObo6AhVVe/8rqIoPHz4kCiK0HWdn376aWXjujcCdV3nwYMH1Go1SqXSBxODLMsUCgWm0yme5610Ct+bnYiiKFiWRbFYxDCMO6cvQBRFTCYTXNdlOBwynU5XNq57E4GmafLo0SNOTk7Y39//YARGUUS32+Xi4oJms8l4PF7ZuO5NBGqaRj6fp1Qqkc1mkeW7f/ez2YzJZILjOLiu++lGYFL7qapKpVKhWCxSKBTQdf1W6QJ/iUv2wa1Wi/Pzc9rtNqPRaGVj3GqBuq5zeHhIPp/n8ePH1Ot1Hj58mG7ZbjKdTgnDEMdxODs74/nz53iet7IiGrZcoCRJZLNZLMtK6z/DMNKfz5+wxHFMFEVEUUQQBHiex/X1Nb7vEwTBysa41QJlWcYwDCzL+sfMG8dxmnlt28ZxHIbDIUEQfLprYFLPlUolcrncPyYOz/Not9t0Oh16vR6DwYAoipjNZqsb48r+5/8BkiShaRqGYaCq6sLEMU8YhkwmEyaTSRp5q5QHWyowEZXNZnn06BGnp6fU6/UP7iiiKKLX6/Hnn3/SarXwPG9lp9DzbK1AQRDI5XKcnp7y9ddfk8/nyWQyd/6bpHh+8+YN19fXuK67lrFunUBBEJBlOZ2+uq5jGAaapi1MIrPZjDiOCcOQ0WiUFs+rzLzzbJ1AVVWp1Wrkcjnq9TrVapVyuYyqqre2b3Ec47oujuMwGAx4+fIlL168wHEcut3upzmFVVWlWq1Sq9U4Ojpib2+PYrG48OA0jmM8z6PZbHJ9fc2rV6/45ZdfmEwmKy1d5tm6vbAkSWQyGUzTTC+KFslLSKbueDxOrzLXkX0Tti4CNU3j8PCQJ0+eUK/X0XX9zu/OZjNs26bRaNDtdun3+6m8dUxf2EKBiqKwt7eXrn8fKl2SNfDq6oper4frumuVB1s4hZMsrKoqqqqml+nJz25O5eTi3HVdfN9fqzzYwghMDhAKhQKmaabbt5vyknaNbrfLH3/8Qa/Xo9fr7QQm15C6rt9Z+yUi4zhmOBzSbrfpdrsMh8NPW2ASZckF+V3ZNwxDfN+/lX3XlXnn2RqBibRkF5J8EpLISmq/breL67p0Oh0cx8HzPIIgWHsEbk0SSSLvZgTC3+XBXxHoeR6e5zEajQiCgCAIiKJo7ePeighUFCXtcTk5OaFarVIoFBZeHsVxzGAwoNFo0O/3abfbTCYTwjD8dAVqmsbp6Smnp6ccHBzw5MkTjo+P/9Y8mRDHMVdXVzx//px2u83Z2RmO4+D7/qe7BkqShGVZabdVcoR/F+PxmE6nQ7vdxnGcjUUfbFhgss5lMhkODg748ssvKRaL5HK5W9+NoogwDAnDkMFgQKvVot1u43neRiIvYeMCZVnGNE0+//xzvv32W3Rdp1Ao3PpuGIZpt2m73eby8pJWq8VoNPq0BSbrnGEY5PN5VFVd2I42m82YTqfpJ7n7mE6nay9d5tmYQFEUsSyLfD5PrVbDsiwymQyyLC/cfSSnzsk9bxiGGytd5tmYQEmSyOfzHBwcsL+/nwqcr//mmc1mBEGA7/upxE0UzjfZmEBBENA0jVwuh2maaJp256kz/HcNdF2X8XhMFEUblwcbFCjLMsfHxzx79oxKpUK1Wr0lL2kUiqKIRqPBDz/8QLvd5tdff11py9rHsFGB9Xqdp0+fYlkW5XL5lsCkUTIMQy4uLvj+++9pNBrYtr2ydx8fy9oFJs+0kutK0zTTFrabzGfb4XCY7n03tetYxFoFCoJAsVikXC5TLBY5Pj7m4ODgVtdVwng8ptFo0Ov1eP36Na1Wi263SxAEn65A0zTZ39+nXC5Tq9XY29tD07SFLbuTyYSrqyvev3/P27dv04ahbWKtx1mCIKCqavreIzlxvqttLWnVTY6stiXq5tnIFH78+HH6zk2SpDtPnn3fp9PppNG3rsvyj2HtAg3DoFKpUC6XyWazdxbOQPrOw7ZthsPhxncdi1i7wPnieVHPXzJtwzDEtm16vR79fh/HcXYCBUHAsiwODw8plUpYlnVLoO/7NJtNBoMBr1+/5uzsjN9//z0tX7aNjUWgZVkoirIwAofDIbZtY9s23W6XXq+30UPTD7EWgcm5n6Zp6UdV1YU9z77v8/79ey4uLri8vGQ0Gq293+VjWItAVVXTYjmXy/1tDbyJ53n89ttv/Pzzz3Q6nfSpwir/cMQyrEVg8lw/eSCT3PnerP+SMz/btmm1WvT7/a3ati1iLQKTQwFBEOj3+zSbTXzfR5IkTNMkiiJs28bzPC4vL2k2m3Q6HTzPIwzDdQzxX7MWgUnT43Q6pdVq8ebNm/TRYK1WIwgC3r17x7t37zg/P+f8/Jy3b98ynU63MvPOsxaByfo1nU4Zj8c4joMsywyHw7S3xXXdtN4bjUZMJpOtTRzzrLWMmc1mXFxc8OOPP2IYBi9fvqRWq6WR2e/3sW2bq6ur9LJo2wUKrPmP0CqKkv59lyShJA8FZ7NZ+lhwG/e9i1i7wP83tqY7676yE7gkO4FLshO4JDuBS7ITuCQ7gUuyE7gkO4FL8h9rtddCNDQlZwAAAABJRU5ErkJggg==\"/></g><path d=\"m488.99 102.03v-79.714\" fill=\"none\" stroke=\"#000000\" stroke-linecap=\"square\" stroke-width=\".8\"/><path d=\"m568.7 102.03v-79.714\" fill=\"none\" stroke=\"#000000\" stroke-linecap=\"square\" stroke-width=\".8\"/><path d=\"m488.99 102.03h79.714\" fill=\"none\" stroke=\"#000000\" stroke-linecap=\"square\" stroke-width=\".8\"/><path d=\"m488.99 22.318h79.714\" fill=\"none\" stroke=\"#000000\" stroke-linecap=\"square\" stroke-width=\".8\"/><g transform=\"translate(494.95 16.318) scale(.12 -.12)\"><use xlink:href=\"#DejaVuSans-80\"/><use x=\"58.552734\" xlink:href=\"#DejaVuSans-114\"/><use x=\"97.416016\" xlink:href=\"#DejaVuSans-101\"/><use x=\"158.939453\" xlink:href=\"#DejaVuSans-100\"/><use x=\"222.416016\" xlink:href=\"#DejaVuSans-105\"/><use x=\"250.199219\" xlink:href=\"#DejaVuSans-99\"/><use x=\"305.179688\" xlink:href=\"#DejaVuSans-116\"/><use x=\"344.388672\" xlink:href=\"#DejaVuSans-101\"/><use x=\"405.912109\" xlink:href=\"#DejaVuSans-100\"/><use x=\"469.388672\" xlink:href=\"#DejaVuSans-32\"/><use x=\"501.175781\" xlink:href=\"#DejaVuSans-49\"/></g><defs><clipPath id=\"p2e07161f37\"><rect x=\"10.7\" y=\"22.318\" width=\"79.714\" height=\"79.714\"/></clipPath><clipPath id=\"p77c6ff1e64\"><rect x=\"106.36\" y=\"22.318\" width=\"79.714\" height=\"79.714\"/></clipPath><clipPath id=\"p42940cbb77\"><rect x=\"202.01\" y=\"22.318\" width=\"79.714\" height=\"79.714\"/></clipPath><clipPath id=\"p6ba3ea390d\"><rect x=\"297.67\" y=\"22.318\" width=\"79.714\" height=\"79.714\"/></clipPath><clipPath id=\"pa2913c811f\"><rect x=\"393.33\" y=\"22.318\" width=\"79.714\" height=\"79.714\"/></clipPath><clipPath id=\"pd328bfbf4f\"><rect x=\"488.99\" y=\"22.318\" width=\"79.714\" height=\"79.714\"/></clipPath></defs></svg>",
      "text/plain": [
       "<Figure size 720x216 with 6 Axes>"
      ]
     },
     "metadata": {},
     "output_type": "display_data"
    }
   ],
   "source": [
    "n_samples_show = 6\n",
    "count = 0\n",
    "fig, axes = plt.subplots(nrows=1, ncols=n_samples_show, figsize=(10, 3))\n",
    "\n",
    "model.eval()\n",
    "with torch.no_grad():\n",
    "    for batch_idx, (data, target) in enumerate(test_loader):\n",
    "        if count == n_samples_show:\n",
    "            break\n",
    "        output = model(data)\n",
    "        \n",
    "        pred = output.argmax(dim=1, keepdim=True) \n",
    "\n",
    "        axes[count].imshow(data[0].numpy().squeeze(), cmap='gray')\n",
    "\n",
    "        axes[count].set_xticks([])\n",
    "        axes[count].set_yticks([])\n",
    "        axes[count].set_title('Predicted {}'.format(pred.item()))\n",
    "        \n",
    "        count += 1"
   ]
  },
  {
   "cell_type": "markdown",
   "metadata": {},
   "source": [
    "## 4. What Now? <a id='what-now'></a>\n",
    "\n",
    "#### While it is totally possible to create hybrid neural networks, does this actually have any benefit? \n",
    "\n",
    "In fact, the classical layers of this network train perfectly fine (in fact, better) without the quantum layer. Furthermore, you may have noticed that the quantum layer we trained here **generates no entanglement**, and will, therefore, continue to be classically simulatable as we scale up this particular architecture. This means that if you hope to achieve a quantum advantage using hybrid neural networks, you'll need to start by extending this code to include a more sophisticated quantum layer. \n",
    "\n",
    "\n",
    "The point of this exercise was to get you thinking about integrating techniques from ML and quantum computing in order to investigate if there is indeed some element of interest - and thanks to PyTorch and Qiskit, this becomes a little bit easier. "
   ]
  },
  {
   "cell_type": "code",
   "execution_count": 13,
   "metadata": {},
   "outputs": [
    {
     "data": {
      "text/html": [
       "<h3>Version Information</h3><table><tr><th>Qiskit Software</th><th>Version</th></tr><tr><td>Qiskit</td><td>0.27.0</td></tr><tr><td>Terra</td><td>0.17.4</td></tr><tr><td>Aer</td><td>0.8.2</td></tr><tr><td>Ignis</td><td>0.6.0</td></tr><tr><td>Aqua</td><td>0.9.2</td></tr><tr><td>IBM Q Provider</td><td>0.14.0</td></tr><tr><th>System information</th></tr><tr><td>Python</td><td>3.7.7 (default, May  6 2020, 04:59:01) \n",
       "[Clang 4.0.1 (tags/RELEASE_401/final)]</td></tr><tr><td>OS</td><td>Darwin</td></tr><tr><td>CPUs</td><td>8</td></tr><tr><td>Memory (Gb)</td><td>32.0</td></tr><tr><td colspan='2'>Thu Jun 17 15:17:23 2021 BST</td></tr></table>"
      ],
      "text/plain": [
       "<IPython.core.display.HTML object>"
      ]
     },
     "metadata": {},
     "output_type": "display_data"
    }
   ],
   "source": [
    "import qiskit.tools.jupyter\n",
    "%qiskit_version_table"
   ]
  }
 ],
 "metadata": {
  "kernelspec": {
   "display_name": "Python 3",
   "language": "python",
   "name": "python3"
  },
  "language_info": {
   "codemirror_mode": {
    "name": "ipython",
    "version": 3
   },
   "file_extension": ".py",
   "mimetype": "text/x-python",
   "name": "python",
   "nbconvert_exporter": "python",
   "pygments_lexer": "ipython3",
   "version": "3.9"
  }
 },
 "nbformat": 4,
 "nbformat_minor": 2
}
