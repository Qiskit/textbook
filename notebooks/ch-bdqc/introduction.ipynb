{
 "cells": [
  {
   "attachments": {},
   "cell_type": "markdown",
   "metadata": {},
   "source": [
    "# Introduction"
   ]
  },
  {
   "attachments": {},
   "cell_type": "markdown",
   "metadata": {},
   "source": [
    "Nowadays, Quantum computers act as co-processors connected to a classical machine that receives classical instructions (via a classical cloud).\n",
    "\n",
    "Therefore, what we refer to \"quantum cloud\" is a fully classical communication between a fully classical client and a classical server equipped with a quantum co-processor. This is the current model of IBM's quantum machines. \n",
    "\n",
    "It is strongly believed that more powerful and useful quantum computers will be big in size for the upcoming years, and may require special conditions to operate properly depending on the physical system (cooling, well-isolated, etc).\n",
    "\n",
    "In a yet to be reached era of quantum internet, where we have quantum communication channels and where qubits can be transmitted, we may be able to benefit even more of the power of quantum computers.\n",
    "\n",
    "Let's assume the following futuristic scenario, a client (Alice) has access to IBM's cutting-edge Quantum computer with a very big number of qubits equipped with error correction. A quantum channel and classical channel between Alice and IBM, both do exist. Alice is equipped with very limited quantum power, only the ability to generate single qubits, one at a time. Since her quantum abilities are very limited and she cannot afford to have a more powerful quantum computer, she decides to prepare the qubits at home, and send them via the quantum channel to the powerful remote quantum server where she can rent some computation time. The server can store all her qubits and perform operations on them per command.\n",
    "\n",
    "This is the scheme illustrating the idea behind Delegated quantum computing:\n",
    "\n",
    "![DQC illustration](images/dqc-scheme.png)\n",
    "\n",
    "The power of this scheme arises when we ask the following question: **What if Alice is working on a secret project and wishes for her data to remain secret, even from the server computing it?** The answer is exactly where comes the usefulness of Blind delegated quantum computing."
   ]
  }
 ],
 "metadata": {
  "language_info": {
   "name": "python"
  },
  "orig_nbformat": 4
 },
 "nbformat": 4,
 "nbformat_minor": 2
}
