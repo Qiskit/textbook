{
 "cells": [
  {
   "cell_type": "markdown",
   "metadata": {},
   "source": [
    "# Phase Kickback\n",
    "\n",
    "In this page, we'll cover a behaviour of controlled quantum gates known as \"phase kickback\". This interesting quantum effect is a building block in many famous quantum algorithms, including Shor's factoring algorithm, and Grover's search algorithm."
   ]
  },
  {
   "cell_type": "markdown",
   "metadata": {
    "formulas": {
     "_control-qubit-post": {
      "meaning": "This is the state of the control qubit after the controlled gate."
     },
     "_control-qubit-pre": {
      "meaning": "This is the control qubit. This qubit is in a superposition of |0〉 and |1〉."
     },
     "_eig-val-A": {
      "meaning": "This is a complex number, which we call the <i>eigenvalue</i>."
     },
     "_eig-val-U": {
      "meaning": "This is a complex number with magnitude 1.<br><a href='https://en.wikipedia.org/wiki/Euler%27s_formula'>Read more</a>."
     },
     "_eig-vec-A": {
      "meaning": "This is a vector. In this case, this vector is an <i>eigenvector</i> of the matrix 'A'."
     },
     "_eig-vec-U": {
      "meaning": "This is a state vector, and in this case, an eigen<i>state</i> of the matrix 'U', with eigenvalue exp(2πiθ)."
     },
     "_eig-vec-X": {
      "meaning": "This is a state vector, and in this case, an eigen<i>state</i> of the X-gate, with eigenvalue -1."
     },
     "_matrix-A": {
      "meaning": "This letter represents a matrix."
     },
     "_matrix-CU": {
      "meaning": "This is the operation U, controlled by another qubit."
     },
     "_matrix-CX": {
      "meaning": "This the controlled-X (CNOT) gate."
     },
     "_matrix-U": {
      "meaning": "This letter represents a unitary matrix (e.g. a quantum gate)."
     }
    }
   },
   "source": [
    "## Eigenvectors\n",
    "\n",
    "You should already be familiar with eigenvectors and eigenvalues, but if not, you can read a nice introduction [here](https://www.khanacademy.org/math/linear-algebra/alternate-bases/eigen-everything/v/linear-algebra-introduction-to-eigenvalues-and-eigenvectors). If you _are_ familiar, then you should recognise the eigenvector equation:\n",
    "\n",
    "$$ \\class{_matrix-A}{A}\\class{_eig-vec-A}{|x\\rangle} = \\class{_eig-val-A}{\\lambda}\\class{_eig-vec-A}{|x\\rangle} $$\n",
    "\n",
    "This is even simpler in quantum computing. Since all our state vectors have a magnitude of 1, our eigenvalues also need to have a magnitude of 1, i.e. $\\lambda = e^{2\\pi i \\theta}$. So for a quantum gate $U$ and its eigenstate $|x\\rangle$, we have:\n",
    "\n",
    "$$ \\class{_matrix-U}{U}\\class{_eig-vec-U}{|x\\rangle} = \\class{_eig-val-U}{e^{2\\pi i \\theta}}\\class{_eig-vec-U}{|x\\rangle} $$\n",
    "\n",
    "To sum up: If a gate rotates (and only rotates) all the amplitudes of a state vector by the same amount, then that state is an _eigenstate_ of that gate.\n",
    "\n",
    "\n",
    "<!-- ::: q-block -->\n",
    "\n",
    "### Exploring eigenvectors\n",
    "\n",
    "Use the widget below to see how a single-qubit gate transforms a single-qubit state. Can you work out which states are eigenstates of which gates?\n",
    "\n",
    "    q-eigenvector-widget\n",
    "\n",
    "<!-- ::: -->"
   ]
  },
  {
   "cell_type": "markdown",
   "metadata": {},
   "source": [
    "## Controlled gates & eigenstates\n",
    "\n",
    "Once you're comfortable with the concept of eigenstates, we can start to think about what happens when we control these circuits on the state of another qubit. For example, we know the Z-gate acting on the state $|1\\rangle$ introduces a negative global phase ($\\theta = 0.5$), let's work out what happens when we control this operation.\n",
    "\n",
    "<!-- ::: q-block.tabs -->\n",
    "\n",
    "### The controlled-Z gate\n",
    "\n",
    "<!-- ::: tab -->\n",
    "\n",
    "### |10〉\n",
    "\n",
    "<!-- ::: column(width=200) -->\n",
    "\n",
    "If the control qubit is $|0\\rangle$, then the behaviour is trivial; nothing happens.\n",
    "\n",
    "<!-- ::: column(width=400) -->\n",
    "\n",
    "![circuit diagram showing a two-qubit register in the state 01, acted on by a CZ-gate. The state is unchanged](images/kickback/tabs/0/0.svg)\n",
    "\n",
    "<!-- ::: -->\n",
    "\n",
    "<!-- ::: tab -->\n",
    "\n",
    "### |11〉\n",
    "\n",
    "<!-- ::: column(width=200) -->\n",
    "\n",
    "If the control qubit is $|1\\rangle$, the gate introduces a global phase (note the minus sign in the image to the right), but the qubit's states are unchanged.\n",
    "\n",
    "<!-- ::: column(width=400) -->\n",
    "\n",
    "![circuit diagram showing a two-qubit register in the state 01, acted on by a CZ-gate. The state is unchanged](images/kickback/tabs/0/1.svg)\n",
    "\n",
    "<!-- ::: -->\n",
    "\n",
    "<!-- ::: tab -->\n",
    "\n",
    "### |1+〉\n",
    "\n",
    "<!-- ::: column(width=200) -->\n",
    "\n",
    "The controlled-Z gate does nothing when the control is $|0\\rangle$, and introduces a negative phase when the control is $|1\\rangle$. When the control qubit is in superposition, the gate changes the _relative_ phase between the $|0\\rangle$ and $|1\\rangle$ states of the control qubit.\n",
    "\n",
    "<!-- ::: column(width=400) -->\n",
    "\n",
    "![circuit diagram showing a two-qubit register in the state 01, acted on by a CZ-gate. The state is unchanged](images/kickback/tabs/0/2.svg)\n",
    "\n",
    "<!-- ::: -->\n",
    "\n",
    "<!-- ::: -->\n",
    "\n",
    "<!-- ::: -->\n",
    "\n",
    "When the control is $|{+}\\rangle$, and the target is $|1\\rangle$, the controlled-Z gate changes the state of the _control_ qubit, but leaves the target qubit unchanged. This effect is called \"phase kickback\", since the eigenvalue makes its way back into the state of the control qubit."
   ]
  },
  {
   "cell_type": "markdown",
   "metadata": {},
   "source": [
    "More generally, If we have a quantum gate $U$, and it's eigenstate $|x\\rangle$, then $U$ acting on $|x\\rangle$ will add a global phase $\\theta$ as we saw above.\n",
    "\n",
    "$$ \\class{_matrix-U}{U}\\class{_eig-vec-U}{|x\\rangle} = \\class{_eig-val-U}{e^{2\\pi i \\theta}}\\class{_eig-vec-U}{|x\\rangle} $$\n",
    "\n",
    "If we control the operation $U|x\\rangle$ by another qubit in a superposition of $|0\\rangle$ and $|1\\rangle$, then this will have the effect of rotating the control qubit around the Z-axis by angle $\\theta$. I.e.:\n",
    "\n",
    "$$ \\class{_matrix-CU}{CU}\\class{_eig-vec-U}{|x\\rangle}\\class{_control-qubit-pre}{(\\alpha|0\\rangle + \\beta|1\\rangle)} = \\class{_eig-vec-U}{|x\\rangle}\\class{_control-qubit-post}{(\\alpha|0\\rangle + \\beta e^{2\\pi i \\theta}|1\\rangle)} $$"
   ]
  },
  {
   "cell_type": "markdown",
   "metadata": {},
   "source": [
    "In the example above, we see that the 'control' of the controlled-Z gate is actually doing a Z-rotation; something that should have only been observing the qubit has actually changed it. For this reason, you will often see the controlled-Z gate drawn as two controls."
   ]
  },
  {
   "cell_type": "code",
   "execution_count": 1,
   "metadata": {},
   "outputs": [
    {
     "data": {
      "image/svg+xml": [
       "<?xml version=\"1.0\" encoding=\"UTF-8\"?><!DOCTYPE svg  PUBLIC '-//W3C//DTD SVG 1.1//EN'  'http://www.w3.org/Graphics/SVG/1.1/DTD/svg11.dtd'><svg width=\"125.12pt\" height=\"123.48pt\" version=\"1.1\" viewBox=\"0 0 125.12 123.48\" xmlns=\"http://www.w3.org/2000/svg\" xmlns:xlink=\"http://www.w3.org/1999/xlink\"><defs><style type=\"text/css\">*{stroke-linejoin: round; stroke-linecap: butt}</style></defs><path d=\"m0 123.48h125.12v-123.48h-125.12z\" fill=\"#ffffff\"/><path d=\"m63.381 43.561h49.996\" clip-path=\"url(#pb03c8b0eb8)\" fill=\"none\" stroke=\"#000000\" stroke-linecap=\"square\" stroke-width=\"2\"/><path d=\"m63.381 89.012h49.996\" clip-path=\"url(#pb03c8b0eb8)\" fill=\"none\" stroke=\"#000000\" stroke-linecap=\"square\" stroke-width=\"2\"/><path d=\"m87.925 89.012v-45.451\" clip-path=\"url(#pb03c8b0eb8)\" fill=\"none\" stroke=\"#1192e8\" stroke-linecap=\"square\" stroke-width=\"2\"/><path d=\"m87.925 89.012v-45.451\" clip-path=\"url(#pb03c8b0eb8)\" fill=\"none\" stroke=\"#1192e8\" stroke-linecap=\"square\" stroke-width=\"2\"/><path d=\"m87.925 47.992c1.1752 0 2.3025-0.46693 3.1335-1.2979 0.83102-0.83102 1.2979-1.9583 1.2979-3.1335 0-1.1752-0.46693-2.3025-1.2979-3.1335-0.83102-0.83102-1.9583-1.2979-3.1335-1.2979s-2.3025 0.46693-3.1335 1.2979c-0.83102 0.83102-1.2979 1.9583-1.2979 3.1335 0 1.1752 0.46693 2.3025 1.2979 3.1335 0.83102 0.83102 1.9583 1.2979 3.1335 1.2979z\" clip-path=\"url(#pb03c8b0eb8)\" fill=\"#1192e8\" stroke=\"#1192e8\" stroke-width=\"1.5\"/><path d=\"m87.925 93.443c1.1752 0 2.3025-0.46693 3.1335-1.2979 0.83102-0.83102 1.2979-1.9583 1.2979-3.1335s-0.46693-2.3025-1.2979-3.1335c-0.83102-0.83102-1.9583-1.2979-3.1335-1.2979s-2.3025 0.46693-3.1335 1.2979c-0.83102 0.83102-1.2979 1.9583-1.2979 3.1335s0.46693 2.3025 1.2979 3.1335c0.83102 0.83102 1.9583 1.2979 3.1335 1.2979z\" clip-path=\"url(#pb03c8b0eb8)\" fill=\"#1192e8\" stroke=\"#1192e8\" stroke-width=\"1.5\"/><g clip-path=\"url(#pb03c8b0eb8)\"><g transform=\"translate(36.253 47.786) scale(.1625 -.1625)\"><defs><path id=\"DejaVuSans-Oblique-71\" transform=\"scale(.015625)\" d=\"m2669 525q-231-303-546-460-314-156-695-156-531 0-833 358-301 358-301 986 0 506 186 978t533 847q225 244 517 375t614 131q387 0 637-153t363-462l100 525h578l-934-4813h-579l360 1844zm-1778 813q0-463 193-705 194-242 560-242 544 0 928 520t384 1264q0 450-199 689-198 239-569 239-272 0-504-127-231-126-403-370-181-256-286-600-104-343-104-668z\"/><path id=\"DejaVuSans-30\" transform=\"scale(.015625)\" d=\"m2034 4250q-487 0-733-480-245-479-245-1442 0-959 245-1439 246-480 733-480 491 0 736 480 246 480 246 1439 0 963-246 1442-245 480-736 480zm0 500q785 0 1199-621 414-620 414-1801 0-1178-414-1799-414-620-1199-620-784 0-1198 620-414 621-414 1799 0 1181 414 1801 414 621 1198 621z\"/></defs><use xlink:href=\"#DejaVuSans-Oblique-71\"/><use transform=\"translate(63.477 -16.406) scale(.7)\" xlink:href=\"#DejaVuSans-30\"/></g></g><g clip-path=\"url(#pb03c8b0eb8)\"><g transform=\"translate(36.253 93.237) scale(.1625 -.1625)\"><defs><path id=\"DejaVuSans-31\" transform=\"scale(.015625)\" d=\"m794 531h1031v3560l-1122-225v575l1116 225h631v-4135h1031v-531h-2687v531z\"/></defs><use xlink:href=\"#DejaVuSans-Oblique-71\"/><use transform=\"translate(63.477 -16.406) scale(.7)\" xlink:href=\"#DejaVuSans-31\"/></g></g><defs><clipPath id=\"pb03c8b0eb8\"><rect x=\"7.2\" y=\"7.2\" width=\"110.72\" height=\"109.08\"/></clipPath></defs></svg>"
      ],
      "text/plain": [
       "<Figure size 146.652x144.48 with 1 Axes>"
      ]
     },
     "execution_count": 1,
     "metadata": {},
     "output_type": "execute_result"
    }
   ],
   "source": [
    "from qiskit import QuantumCircuit\n",
    "qc = QuantumCircuit(2)\n",
    "qc.cz(0,1)\n",
    "qc.draw()"
   ]
  },
  {
   "cell_type": "markdown",
   "metadata": {},
   "source": [
    "## The CNOT Gate\n",
    "\n",
    "Let's look at the phase kickback effect with a different two-qubit gate. Since the $|{-}\\rangle$ state is an eigenstate of the X-gate, with eigenvalue $-1$, we get:\n",
    "\n",
    "$$ \\class{_matrix-CX}{CX}\\class{_eig-vec-X}{|{-}\\rangle}\\class{_control-qubit-pre}{(\\alpha|0\\rangle + \\beta|1\\rangle)} = \\class{_eig-vec-X}{|{-}\\rangle}\\class{_control-qubit-post}{(\\alpha|0\\rangle - \\beta |1\\rangle)} $$\n",
    "\n",
    "![](images/kickback/cnot-kickback.svg)\n",
    "\n",
    "Again, in this case the phase change $\\theta = 0.5$, so our control qubit is flipped around the Z-axis.\n",
    "\n",
    "<!-- ::: q-block -->\n",
    "\n",
    "### Worked example\n",
    "\n",
    "<details>\n",
    "    <summary>Kickback with the CNOT gate (click to expand)</summary>\n",
    "\n",
    "    q-carousel\n",
    "            div.md\n",
    "                <img src=\"images/kickback/carousel/cnot/carousel-img-0.svg\"><br>By definition, the controlled-X gate (CNOT) flips the state of the target qubit (in our example, the rightmost bit is the target) if the control qubit is $|1\\rangle$. In the image above, we show the CNOT gate transforming one state vector to another.\n",
    "            div.md\n",
    "                <img src=\"images/kickback/carousel/cnot/carousel-img-1.svg\"><br>For example, if the control qubit is in the state $|0\\rangle$, then we always get the exact same statevector back. In the image above, the amplitudes of the states where the control is $|1\\rangle$ are both zero, so we see no effect when we swap them.\n",
    "            div.md\n",
    "                <img src=\"images/kickback/carousel/cnot/carousel-img-2.svg\"><br>Another example: If the control qubit is in the state $|1\\rangle$, then we do an X-gate on the target qubit. In this case, the target qubit is in an eigenstate of the X-gate, so we get the same statevector back, up to global phase. This change is a global phase, since the relative phase between the $|0\\rangle$ and $|1\\rangle$ amplitudes of the target qubit stayed the same.\n",
    "            div.md\n",
    "                <img src=\"images/kickback/carousel/cnot/carousel-img-3.svg\"><br>Let us look at the state vector when the control is in the state $|{+}\\rangle$ (i.e. $\\tfrac{1}{\\sqrt{2}}(|0\\rangle + |1\\rangle)$), and the target in the state $|{-}\\rangle$ (i.e. $\\tfrac{1}{\\sqrt{2}}(|0\\rangle - |1\\rangle)$). We can see these two qubits are separable, as measuring one does not affect the state of the other.\n",
    "            div.md\n",
    "                <img src=\"images/kickback/carousel/cnot/carousel-img-4.svg\"><br> For example, regardless of whether we measure the control qubit as $|0\\rangle$ or $|1\\rangle$, the amplitudes for measuring the target as $|0\\rangle$ or $|1\\rangle$ stay the same.\n",
    "            div.md\n",
    "                <img src=\"images/kickback/carousel/cnot/carousel-img-5.svg\"><br>With all this in mind, let's see what happens when we apply the CNOT to this $|{+}{-}\\rangle$ state.\n",
    "            div.md\n",
    "                <img src=\"images/kickback/carousel/cnot/carousel-img-6.svg\"><br>After the CNOT, these qubits are still separable, as the state of one does not change when we measure the other. However, the relative phase between the $|0\\rangle$ and $|1\\rangle$ amplitudes of the control qubit has changed!\n",
    "    \n",
    "</details>\n",
    "\n",
    "<!-- ::: -->\n",
    "\n",
    "When we remember that the H-gate does the transformation $|0\\rangle \\rightarrow |{+}\\rangle$ and $|1\\rangle \\rightarrow |{-}\\rangle$ (and vice versa), we get the following identity:\n",
    "\n",
    "![](images/kickback/cnot-identity.svg)"
   ]
  },
  {
   "cell_type": "markdown",
   "metadata": {},
   "source": [
    "## Deutsch's problem\n",
    "\n",
    "We've just seen that conditioning an action on the state of a qubit can actually change the state of the controlling qubit. This is a 'quantum' effect, i.e., something we don't see happen with classical bits.\n",
    "\n",
    "In quantum computing, we want to create algorithms that classical computers _can't_ carry out, so a good place to start is to try and reframe this effect as a problem to be solved. This way, we can prove quantum computers are at least slightly better at something than classical computers.\n",
    "\n",
    "Deutsch's problem does exactly this. Deutsch's is a 'black box' problem; an artificial problem where we're allowed to apply a function to our bits, but we're not allowed to look at how the function works. The challenge is to discover some properties of the box by trying different inputs and outputs.\n",
    "\n",
    "Deutsch's problem is as follows: We're given a classical, reversible function, (which we'll call $f$ as a shorthand), that acts on two bits, $ a $ & $ b $. The function will leave bit $ a $ alone, but may, or may not, flip bit $ b $. Deutsch's problem asks us to work out whether $f$ behaves differently depending on the value of $ a $ (we'll call this \"balanced\" behaviour), or if it ignores $ a $ and always does the same thing to $ b $ (\"constant\" behaviour). The challenge is to do this while applying $f$ as few times as possible.\n",
    "\n",
    "![Image of deutsch's problem as a quantum circuit. The circuit has two bits, the top and bottom wires labelled 'a' and 'b' respectively. Both bits are then acted on by an opaque, two-bit gate labelled 'f'. After 'f', the top wire is still labelled 'f', but the bottom wire is now labelled 'f(a, b)'.](images/kickback/deutsch-problem.svg)\n",
    "\n",
    "The best classical algorithm for this problem applies $f$ twice with different values of $ a $, then looks to see if the $f$ behaved differently."
   ]
  },
  {
   "cell_type": "markdown",
   "metadata": {},
   "source": [
    "## Deutsch's algorithm\n",
    "\n",
    "As you may have guessed, we can use phase kickback to create a quantum algorithm that does even better than the classical algorithm. If we put qubit $ a $ in the $|{+}\\rangle$ state, and qubit $ b $ in the $|{-}\\rangle$ state, then any flip conditioned on $ a $ will kick back a negative relative phase, flipping qubit $ a $ from $|{+}\\rangle$ to $|{-}\\rangle$. We can then apply a H-gate to $ a $ to see whether kickback occurred or not.\n",
    "\n",
    "![Image of deutsch's algorithm as a quantum circuit.](images/kickback/deutsch-algorithm.svg)\n",
    "\n",
    "<!-- ::: q-block.reminder -->\n",
    "\n",
    "### More info\n",
    "\n",
    "<details>\n",
    "    <summary>Inside the black box (click to expand)</summary>\n",
    "If this still seems like magic, it can help to think about all the possible Deutsch functions and the quantum circuits that implement them. There are four possible Deutsch functions: two constant, and two balanced.\n",
    "\n",
    "If constant, the function can either do nothing, or flip qubit $ b $. If balanced, the function can either flip $ b $ only when $ a $ is $|1\\rangle$, or flip $ b $ only when $ a $ is $|0\\rangle$. You can see all four scenarios in the image below.\n",
    "\n",
    "<img src=\"images/kickback/deutsch-oracles.svg\">\n",
    "\n",
    "With both constant functions, the topmost qubit will remain unchanged (since we're not doing anything to it), and in the balanced functions, the kickback effect flips the topmost qubit from $|{+}\\rangle$ to $|{-}\\rangle$.\n",
    "</details>\n",
    "\n",
    "<!-- ::: -->\n",
    "\n",
    "This isn't the most impressive example of quantum speedup; it's very specific, and we don't find black box problems in the wild. Instead, Deutsch's problem gives us an encouraging result, and some interesting effects to explore. In the rest of this course, we'll extend this simple experiment to solve even more impressive problems, including factoring."
   ]
  },
  {
   "cell_type": "markdown",
   "metadata": {},
   "source": [
    "\n",
    "\n",
    "<!-- ::: q-block.exercise -->\n",
    "\n",
    "### Exercise\n",
    "\n",
    "Make a function, `deutsch()` that takes a Deutsch function as a `QuantumCircuit` and uses the Deutsch algorithm to solve it on a quantum simulator. Your function should return `True` if the Deutsch funciton is balanced, and `False` if it's constant.\n",
    "\n",
    "You can use the function `deutsch_problem()` to create a `QuantumCircuit` you can use as input to your `deutsch()` function.\n",
    "\n",
    "<!-- ::: -->"
   ]
  },
  {
   "cell_type": "code",
   "execution_count": null,
   "metadata": {},
   "outputs": [],
   "source": [
    "from qiskit import QuantumCircuit\n",
    "import numpy as np\n",
    "\n",
    "def deutsch_problem(seed=None):\n",
    "    \"\"\"Returns a circuit that carries out the function\n",
    "    from Deutsch's problem.\n",
    "    Args:\n",
    "        seed (int): If set, then returned circuit will\n",
    "            always be the same for the same seed.\n",
    "    Returns: QuantumCircuit\n",
    "    \"\"\"\n",
    "    np.random.seed(seed)\n",
    "    problem = QuantumCircuit(2)\n",
    "    if np.random.randint(2):\n",
    "        print(\"Function is balanced.\")\n",
    "        problem.cx(0, 1)\n",
    "    else:\n",
    "        print(\"Function is constant.\")\n",
    "    if np.random.randint(2):\n",
    "        problem.x(1)\n",
    "    return problem"
   ]
  },
  {
   "cell_type": "code",
   "execution_count": null,
   "metadata": {},
   "outputs": [],
   "source": [
    "def deutsch(function):\n",
    "    \"\"\"Implements Deutsch's algorithm.\n",
    "\n",
    "    Args:\n",
    "        function (QuantumCircuit): Deutsch function to solve.\n",
    "            Must be a 2-qubit circuit, and either balanced,\n",
    "            or constant.\n",
    "    Returns:\n",
    "        bool: True if the circuit is balanced, otherwise False.\n",
    "    \"\"\"\n",
    "\n",
    "    # your code here"
   ]
  },
  {
   "cell_type": "markdown",
   "metadata": {},
   "source": [
    "## Summary\n",
    "\n",
    "In this page, we have:\n",
    "- recapped the concept of eigenvalues and eigenvectors\n",
    "- explored the phase kickback effect and covered some specific examples\n",
    "- introduced Deutsch's problem as a scenario where quantum computers have an advantage over classical computers\n",
    "\n",
    "If you forget everything else from this page, the most important thing to remember and be comfortable with is this summary of phase kickback below:\n",
    "\n",
    "<!-- ::: q-block.reminder -->\n",
    "\n",
    "### Reminder: Phase kickback\n",
    "\n",
    "If we have a quantum gate $U$, and it's eigenstate $|x\\rangle$, then $U$ acting on $|x\\rangle$ will add a global phase $\\theta$. I.e.:\n",
    "\n",
    "$$ \\class{_matrix-U}{U}\\class{_eig-vec-U}{|x\\rangle} = \\class{_eig-val-U}{e^{2\\pi i \\theta}}\\class{_eig-vec-U}{|x\\rangle} $$\n",
    "\n",
    "If we control the operation $U|x\\rangle$ by another qubit in a superposition of $|0\\rangle$ and $|1\\rangle$, then this will have the effect of rotating the control qubit around the Z-axis by angle $\\theta$. I.e.:\n",
    "\n",
    "$$ \\class{_matrix-CU}{CU}\\class{_eig-vec-U}{|x\\rangle}\\class{_control-qubit-pre}{(\\alpha|0\\rangle + \\beta|1\\rangle)} = \\class{_eig-vec-U}{|x\\rangle}\\class{_control-qubit-post}{(\\alpha|0\\rangle + \\beta e^{2\\pi i \\theta}|1\\rangle)} $$\n",
    "\n",
    "<!-- ::: -->"
   ]
  }
 ],
 "metadata": {
  "kernelspec": {
   "display_name": "Python 3",
   "language": "python",
   "name": "python3"
  },
  "language_info": {
   "codemirror_mode": {
    "name": "ipython",
    "version": 3
   },
   "file_extension": ".py",
   "mimetype": "text/x-python",
   "name": "python",
   "nbconvert_exporter": "python",
   "pygments_lexer": "ipython3",
   "version": "3.9"
  }
 },
 "nbformat": 4,
 "nbformat_minor": 4
}
