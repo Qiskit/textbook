{
 "cells": [
  {
   "cell_type": "markdown",
   "id": "b929937e",
   "metadata": {},
   "source": [
    "# Algorithmic foundations\n",
    "\n",
    "## Introduction\n",
    "\n",
    "Quantum algorithms provide provable advantages over classical algorithms in the query model — but what about more standard models of computation, where problem inputs are given explicitly rather than in the form of an oracle or black box?\n",
    "This turns out to be a much more difficult question to answer, and to address it we must first establish a solid foundation upon which to base our investigation.\n",
    "That's the purpose of this lesson.\n",
    "\n",
    "We'll begin by discussing *computational cost*, for both classical and quantum computations, and how it can be measured.\n",
    "This is a general notion that can be applied to a wide range of computational problems — but to keep things simple we'll mainly examine it through the lens of *computational number theory*, which addresses problems including basic arithmetic, computing greatest common divisors, and integer factorization, which are computational tasks that are likely to be familiar to most readers.\n",
    "While computational number theory is a narrow application domain, these problems serve well to illustrate the basic issues — and as a bonus they happen to be highly relevant to the lesson following this one.\n",
    "\n",
    "Our focus will be on *algorithms*, as opposed to the ever-improving hardware on which they're run — so we'll be more concerned with how the cost of running an algorithm scales as the specific problem instances it is run on grow in size, rather than how many seconds, minutes, or hours some particular computation requires.\n",
    "We focus on this aspect of computational cost in recognition of the fact that algorithms have fundamental importance, and will naturally be deployed against larger and larger problem instances using faster and more reliable hardware as technology develops.\n",
    "\n",
    "Finally, we turn to a critically important task, which is running *classical* computations on quantum computers.\n",
    "The reason this task is important is not because we hope to replace classical computers with quantum computers (which seems extremely unlikely to happen any time soon, if ever), but rather because it opens up many interesting possibilities for quantum algorithms.\n",
    "Specifically, classical computations running on quantum computers become available as *subroutines* — effectively leveraging decades of research and development on classical algorithms in pursuit of quantum computational advantages."
   ]
  },
  {
   "cell_type": "markdown",
   "id": "e4566cc2",
   "metadata": {},
   "source": [
    "## Two examples: factoring and GCDs\n",
    "\n",
    "The classical computers that exist today are incredibly fast, and their speed seems to be ever increasing.\n",
    "For this reason, some might be inclined to believe that computers are so fast that no computational problem is beyond their reach.\n",
    "\n",
    "This belief is false.\n",
    "Some computational problems are so inherently difficult that, although there exist algorithms to solve them, no computer on the planet Earth today is fast enough to run these algorithms to completion on even moderately sized inputs within the lifetime of a human — or even within the lifetime of the Earth itself.\n",
    "\n",
    "To explain further, let's introduce the *integer factorization* problem.\n",
    "\n",
    "<!-- ::: q-block.note -->\n",
    "\n",
    "**Integer factorization**\n",
    "\n",
    "Input:  an integer $N\\geq 2$\n",
    "\n",
    "Output: the prime factorization of $N$\n",
    "\n",
    "<!-- ::: -->\n",
    "\n",
    "By the *prime factorization* of $N$, we mean a list of the prime factors of $N$ and the powers to which they must be raised to obtain $N$ by multiplication.\n",
    "For example, the prime factors of $12$ are $2$ and $3$, and to obtain $12$ we must take the product of $2$ to the power $2$ and $3$ to the power $1:$\n",
    "\n",
    "$$\n",
    "12 = 2^2 \\cdot 3\n",
    "$$\n",
    "\n",
    "Up to the ordering of the prime factors, there is only one prime factorization for each positive integer $N\\geq 2$, which is a fact known as the *fundamental theorem of arithmetic*.\n",
    "\n",
    "The `SymPy` symbolic mathematics package for Python includes a function `factorint` that solves the integer factorization problem for whatever input $N$ we choose."
   ]
  },
  {
   "cell_type": "code",
   "execution_count": 1,
   "id": "999fdebb",
   "metadata": {},
   "outputs": [
    {
     "data": {
      "text/plain": [
       "{2: 2, 3: 1}"
      ]
     },
     "execution_count": 1,
     "metadata": {},
     "output_type": "execute_result"
    }
   ],
   "source": [
    "from sympy.ntheory import factorint\n",
    "N = 12\n",
    "factorint(N)"
   ]
  },
  {
   "cell_type": "markdown",
   "id": "8aea3921",
   "metadata": {},
   "source": [
    "Factoring small numbers like $12$ is easy, but when the number $N$ to be factored gets larger, the problem becomes more difficult.\n",
    "For example, running `factorint` on a significantly larger number will cause a noticeable delay."
   ]
  },
  {
   "cell_type": "code",
   "execution_count": 2,
   "id": "e5f7c10f",
   "metadata": {},
   "outputs": [
    {
     "data": {
      "text/plain": [
       "{3: 2, 74519450661011221: 1, 5073729280707932631243580787: 1}"
      ]
     },
     "execution_count": 2,
     "metadata": {},
     "output_type": "execute_result"
    }
   ],
   "source": [
    "N = 3402823669209384634633740743176823109843098343\n",
    "factorint(N)"
   ]
  },
  {
   "cell_type": "markdown",
   "id": "0e3cd1ac",
   "metadata": {},
   "source": [
    "For even larger values of $N$, things become impossibly difficult, at least as far as we know.\n",
    "For example, the *RSA Factoring Challenge*, which was run by RSA Laboratories from 1991 to 2007, offered a cash prize of $100,000 to factor the following number, which has 309 decimal digits (and 1024 bits when written in binary).\n",
    "The prize for this number was never collected and its prime factors remain unknown."
   ]
  },
  {
   "cell_type": "code",
   "execution_count": 3,
   "id": "074752ae",
   "metadata": {},
   "outputs": [
    {
     "name": "stdout",
     "output_type": "stream",
     "text": [
      "135066410865995223349603216278805969938881475605667027524485143851526510604859533833940287150571909441798207282164471551373680419703964191743046496589274256239341020864383202110372958725762358509643110564073501508187510676594629205563685529475213500852879416377328533906109750544334999811150056977236890927563\n"
     ]
    }
   ],
   "source": [
    "RSA1024 = 135066410865995223349603216278805969938881475605667027524485143851526510604859533833940287150571909441798207282164471551373680419703964191743046496589274256239341020864383202110372958725762358509643110564073501508187510676594629205563685529475213500852879416377328533906109750544334999811150056977236890927563\n",
    "print(RSA1024)\n"
   ]
  },
  {
   "cell_type": "markdown",
   "id": "2d2655a2",
   "metadata": {},
   "source": [
    "We need not bother running `factorint` on RSA1024, it wouldn't finish within our lifetimes."
   ]
  },
  {
   "cell_type": "markdown",
   "id": "3fbc4923",
   "metadata": {},
   "source": [
    "The fastest known algorithm for factoring large integers is known as the *number field sieve*.\n",
    "As an example of this algorithm's use, the RSA challenge number RSA250, which has 250 decimal digits (and 829 bits in its binary representation), was factored using the number field sieve in 2020.\n",
    "The computation required thousands of CPU core-years, distributed across tens of thousands of machines around the world."
   ]
  },
  {
   "cell_type": "code",
   "execution_count": 4,
   "id": "2568ca8e",
   "metadata": {},
   "outputs": [
    {
     "name": "stdout",
     "output_type": "stream",
     "text": [
      "True\n"
     ]
    }
   ],
   "source": [
    "RSA250 = 2140324650240744961264423072839333563008614715144755017797754920881418023447140136643345519095804679610992851872470914587687396261921557363047454770520805119056493106687691590019759405693457452230589325976697471681738069364894699871578494975937497937\n",
    "\n",
    "p = 64135289477071580278790190170577389084825014742943447208116859632024532344630238623598752668347708737661925585694639798853367\n",
    "q = 33372027594978156556226010605355114227940760344767554666784520987023841729210037080257448673296881877565718986258036932062711\n",
    "\n",
    "print(RSA250 == p*q)"
   ]
  },
  {
   "cell_type": "markdown",
   "id": "37d39e3c",
   "metadata": {},
   "source": [
    "The security of the RSA public-key cryptosystem is based on the computational difficulty of integer factoring;\n",
    "an efficient algorithm for integer factoring would break it."
   ]
  },
  {
   "cell_type": "markdown",
   "id": "fa3150ec",
   "metadata": {},
   "source": [
    "Next let's consider a related but very different problem, which is computing the greatest common divisor (or GCD) of two integers.\n",
    "\n",
    "<!-- ::: q-block.note -->\n",
    "\n",
    "**Greatest common divisor (GCD)**\n",
    "\n",
    "Input: nonnegative integers $N$ and $M$, at least one of which is positive\n",
    "\n",
    "Output: the greatest common divisor of $N$ and $M$\n",
    "\n",
    "<!-- ::: -->\n",
    "\n",
    "The greatest common divisor of two numbers is the largest integer that evenly divides both of them.\n",
    "\n",
    "This problem is easy for computers — it has roughly the same computational cost as multiplying the two input numbers together.\n",
    "The following code cell runs the `gcd` function from the Python `math` module on two numbers that are both quite a bit larger than RSA1024 in the blink of an eye. (In fact, RSA1024 is the GCD of the two numbers in this example.)"
   ]
  },
  {
   "cell_type": "code",
   "execution_count": 5,
   "id": "33786838",
   "metadata": {},
   "outputs": [
    {
     "data": {
      "text/plain": [
       "135066410865995223349603216278805969938881475605667027524485143851526510604859533833940287150571909441798207282164471551373680419703964191743046496589274256239341020864383202110372958725762358509643110564073501508187510676594629205563685529475213500852879416377328533906109750544334999811150056977236890927563"
      ]
     },
     "execution_count": 5,
     "metadata": {},
     "output_type": "execute_result"
    }
   ],
   "source": [
    "import math\n",
    "\n",
    "N = 4636759690183918349682239573236686632636353319755818421393667064929987310592347460711767784882455889983961546491666129915628431549982893638464243493812487979530329460863532041588297885958272943021122033997933550246447236884738870576045537199814804920281890355275625050796526864093092006894744790739778376848205654332434378295899591539239698896074\n",
    "M = 5056714874804877864225164843977749374751021379176083540426461360945653967249306494545888621353613218518084414930846655066495767441010526886803458300440345782982127522212209489410315422285463057656809702949608368597012967321172325810519806487247195259818074918082416290513738155834341957254558278151385588990304622183174568167973121179585331770773\n",
    "\n",
    "math.gcd(N,M)"
   ]
  },
  {
   "cell_type": "markdown",
   "id": "a404015e",
   "metadata": {},
   "source": [
    "We can push it even further and compute GCDs for numbers with thousands of digits in no time."
   ]
  },
  {
   "cell_type": "code",
   "execution_count": 6,
   "id": "9c012920",
   "metadata": {},
   "outputs": [
    {
     "data": {
      "text/plain": [
       "113"
      ]
     },
     "execution_count": 6,
     "metadata": {},
     "output_type": "execute_result"
    }
   ],
   "source": [
    "math.gcd(N**200 + 1 ,M**100 + M**2)"
   ]
  },
  {
   "cell_type": "markdown",
   "id": "4f884bdd",
   "metadata": {},
   "source": [
    "This is possible because we have very efficient algorithms for computing GCDs, the most well-known of which is\n",
    "*Euclid's algorithm*, discovered over 2,000 years ago.\n",
    "\n",
    "Could there be a fast algorithm for integer factorization that we just haven't discovered yet, allowing large numbers like RSA1024 to be factored in the blink of an eye?\n",
    "The answer is yes.\n",
    "Although we might expect that an efficient algorithm for factoring as simple and elegant as Euclid's algorithm for computing GCDs would have been discovered by now, there is nothing that rules out the existence of a very fast classical algorithm for integer factoring, beyond the fact that we've failed to find one thus far.\n",
    "One could be discovered tomorrow — but don't hold your breath.\n",
    "Generations of mathematicians and computer scientists have searched, and factoring numbers like RSA1024 remains beyond our reach."
   ]
  },
  {
   "cell_type": "markdown",
   "id": "a3db50dd",
   "metadata": {},
   "source": [
    "## Measuring computational cost\n",
    "\n",
    "Next we'll discuss a mathematical framework through which computational cost can be measured.\n",
    "It should be understood that this discussion is narrowly focused on the needs of this series — the *analysis of algorithms* and *computational complexity* are entire subjects onto themselves, and have much more to say about these notions.\n",
    "\n",
    "As a starting point, consider the following figure (which first appeared in Lesson 5), which represents a very high level abstraction of a computation.\n",
    "\n",
    "![Illustration of a standard computation.](images/standard-computation.png)\n",
    "\n",
    "The computation itself could be modeled or described in a variety of ways, such as by a computer program written in Python, a Turing machine, a Boolean circuit, or a quantum circuit.\n",
    "Our focus will be on circuits (both Boolean and quantum)."
   ]
  },
  {
   "cell_type": "markdown",
   "id": "3ee7705d",
   "metadata": {},
   "source": [
    "### Encodings and input length\n",
    "\n",
    "Let's begin with the input and output of a computational problem, which we'll assume are *binary strings*.\n",
    "Different symbols could be used, but we'll keep things simple for the purposes of this discussion by restricting our attention to binary string inputs and outputs.\n",
    "\n",
    "Through binary strings, we can *encode* a variety of interesting objects that the problems we're interested in solving might concern, such as numbers, vectors, matrices, and graphs, as well as lists of these and other objects.\n",
    "For example, to encode nonnegative integers, we can use *binary notation*.\n",
    "The following table lists the binary encoding of the first nine nonnegative integers, along with the *length* (meaning the total number of bits) of each encoding. \n",
    "\n",
    "| number | binary encoding | length |\n",
    "| :-- | :-- | :-- |\n",
    "| 0 | 0 | 1 |\n",
    "| 1 | 1 | 1 |\n",
    "| 2 | 10 | 2 |\n",
    "| 3 | 11 | 2 |\n",
    "| 4 | 100 | 3 |\n",
    "| 5 | 101 | 3 |\n",
    "| 6 | 110 | 3 |\n",
    "| 7 | 111 | 3 |\n",
    "| 8 | 1000 | 4 |\n",
    "\n",
    "We can easily extend this encoding to handle both positive and negative integers by appending a *sign bit* to the representations if we choose.\n",
    "Sometimes it's also convenient to allow binary representations of nonnegative integers to have leading zeros, which don't change the value being encoded but can allow representations to fill up a string or word of a fixed size.\n",
    "\n",
    "Using binary notation to represent nonnegative integers is both common and efficient, but if we wanted to we could choose a different way to represent nonnegative integers using binary strings, such as the ones suggested in the following table.\n",
    "The specifics of these alternatives are not important to this discussion — the point is only to clarify that we do have choices for the encodings we use.\n",
    "(In this table, the symbol $\\varepsilon$ represents the *empty string*, which has no symbols in it and length equal to zero. Naturally, to avoid an obvious source of confusion, we use a special symbol such as $\\varepsilon$ to represent the empty string rather than literally writing nothing.)\n",
    "\n",
    "| number | unary encoding | lexicographic encoding |\n",
    "| :-- | :-- | :-- | \n",
    "| 0 | $\\varepsilon$ | $\\varepsilon$ |\n",
    "| 1 | 0 | 0 |\n",
    "| 2 | 00 | 1 |\n",
    "| 3 | 000 | 00 |\n",
    "| 4 | 0000 | 01 |\n",
    "| 5 | 00000 | 10 |\n",
    "| 6 | 000000 | 11 |\n",
    "| 7 | 0000000 | 000 |\n",
    "| 8 | 00000000 | 001 |\n",
    "\n",
    "Other types of inputs, such as vectors and matrices, or more complicated objects like descriptions of molecules, can also be encoded as binary strings.\n",
    "Just like we have for nonnegative integers, a variety of different encoding schemes can be selected or invented.\n",
    "For whatever scheme we come up with to encode inputs to a given problem, we interpret the *length* of an input string as representing the size of the problem instance being solved.\n",
    "\n",
    "For example, the number of bits required to express a nonnegative integer $N$ in binary notation, which is sometimes denoted $\\operatorname{lg}(N)$, is given by the following formula.\n",
    "\n",
    "$$\n",
    "\\operatorname{lg}(N) = \n",
    "\\begin{cases}\n",
    "1 & N = 0\\\\\n",
    "1 + \\lfloor \\log_2 (N) \\rfloor & N \\geq 1\n",
    "\\end{cases}\n",
    "$$\n",
    "\n",
    "Assuming that we use binary notation to encode the input to the integer factoring problem, the *input length* for the number $N$ is therefore $\\operatorname{lg}(N)$.\n",
    "Note, in particular, that the length (or size) of the input $N$ is not $N$ itself — when $N$ is large we don't need nearly this many bits to express $N$ in binary notation.\n",
    "\n",
    "From a strictly formal viewpoint, whenever we consider a computational problem or task, it should be understood that a specific scheme has been selected for encoding whatever objects are given as input or produced as output.\n",
    "This allows computations that solve interesting problems to be viewed abstractly as transformations from binary string inputs to binary string outputs — and naturally the details of how objects are encoded as binary strings must be important to computations at some level.\n",
    "\n",
    "Usually, though, we don't worry all that much about these details when we're analyzing computational cost, so that we can avoid getting into details of secondary importance.\n",
    "The basic reasoning is that we expect the computational cost of converting back and forth between \"reasonable\" encoding schemes to be insignificant compared with the cost of solving the actual problem.\n",
    "In those situation in which this is not the case, the details can (and should) be clarified.\n",
    "\n",
    "For example, a very simple computation with low cost converts between the binary representation of a nonnegative integer and its lexicographic encoding (which we have not explained in detail, but it can be inferred from the table). For this reason, the computational cost of integer factoring wouldn't differ significantly if we decided to switch from using one of these encodings to the other for the input $N$.\n",
    "On the other hand, encoding nonnegative integers in unary notation incurs an exponential blow-up in the total number of symbols required, and we would not consider it to be a \"reasonable\" encoding scheme."
   ]
  },
  {
   "cell_type": "markdown",
   "id": "d2f61183",
   "metadata": {},
   "source": [
    "### Elementary operations\n",
    "\n",
    "Now let's consider the computation itself, which is represented by the blue rectangle in the figure above.\n",
    "The way that we'll measure computational cost is to count the number of *elementary operations* that each computation requires.\n",
    "Intuitively speaking, an elementary operation is one involving a small, fixed number of bits or qubits that can be performed quickly and easily — such as computing the AND of two bits.\n",
    "(In contrast, running the `factorint` function is not reasonably viewed as being an elementary operation.)\n",
    "\n",
    "Formally speaking, there are different choices for what constitutes an elementary operation depending on the computational model being used.\n",
    "Our focus will be on circuit models, and specifically quantum and Boolean circuits.\n",
    "\n",
    "#### Universal gate sets\n",
    "\n",
    "For circuit-based models of computation, it is typical that each *gate* is viewed as an elementary operation.\n",
    "This leads to the question of precisely which gates we allow.\n",
    "\n",
    "Focusing for the moment on quantum circuits, we've seen several gates thus far in the series, including $X$, $Y$, $Z$, $H$, $S$, and $T$ gates, *swap* gates, controlled versions of gates (including *controlled-NOT*, *Toffoli*, and *Fredkin* gates), as well as gates that represent standard basis measurements.\n",
    "In the context of the CHSH game we also saw a few additional *rotation* gates.\n",
    "\n",
    "We also discussed *query gates* (within the query model), and saw that any unitary operation $U$, acting on any number of qubits, can be viewed as being a gate if we so choose.\n",
    "We'll disregard both of these options for the sake of this discussion.\n",
    "We won't be working in the query model (although the implementation of query gates using elementary operations is discussed later in the lesson), and viewing arbitrary unitary gates, potentially acting on millions of qubits, as being elementary operations does not lead to meaningful or realistic notions of computational cost.\n",
    "\n",
    "Sticking with quantum gates that operate on small numbers of qubits, one approach to deciding which ones are to be considered elementary is to tease out a precise criterion — but this is not the standard approach or the one we'll take.\n",
    "Rather, we simply make a choice.\n",
    "\n",
    "Here's one standard choice, which we shall adopt as the *default* gate set for quantum circuits:\n",
    "\n",
    " - Single-qubit unitary gates from this list: $X$, $Y$, $Z$, $H$, $S$, $S^{\\dagger}$, $T$, and $T^{\\dagger}$\n",
    " - Controlled-NOT gates\n",
    " - Single-qubit standard basis measurements\n",
    "\n",
    "A common alternative is to view Toffoli, Hadamard, and $S$ gates as being elementary, in addition to standard basis measurements.\n",
    "(Sometimes all single-qubit gates are viewed as being elementary, although this does lead to an unrealistically powerful model when noise and inaccuracies are not properly accounted for.)\n",
    "\n",
    "The unitary gates in our default collection form what's called a *universal* gate set.\n",
    "This means that we can approximate any unitary operation, on any number of qubits, and to any degree of accuracy we wish, with circuits composed of these gates alone.\n",
    "To be clear, the definition of universality places no requirements on the cost of such approximations, meaning the number of gates from our set that we need.\n",
    "Indeed, a fairly simple argument based on the mathematical notion of *measure* reveals that most unitary operations must have extremely high cost.\n",
    "Proving the universality of quantum gate sets is not a simple matter and won't be covered in this series.\n",
    "\n",
    "For Boolean circuits, we'll take AND, OR, NOT, and FANOUT gates to be the ones representing elementary operations.\n",
    "We don't actually need both AND gates and OR gates — we can use *De Morgan's laws* to convert from either one to the other by placing NOT gates on all three input and output wires — but nevertheless it's both typical and convenient to allow both AND and OR gates.\n",
    "AND, OR, NOT, and FANOUT gates form a universal set for deterministic computations, meaning that any function from any fixed number of input bits to any fixed number of output bits can be implemented with these gates.\n",
    "\n",
    "#### The principle of deferred measurement\n",
    "\n",
    "Standard measurement gates can appear within quantum circuits — but sometimes it's convenient to delay them until the end, so that we can view quantum computations as consisting of a unitary part (representing the computation itself), followed by a simple read-out phase where qubits are measured and the results are output.\n",
    "\n",
    "This can always be done, provided that we're willing to add an additional qubit for each standard basis measurement.\n",
    "In the following figure, the circuit on the right illustrates how this can be done for the gate on the left.\n",
    "\n",
    "![Deferring measurements](images/deferred-measurement.png)\n",
    "\n",
    "Specifically, the classical bit in the circuit on the left is replaced by a qubit on the right (initialized to the $\\vert 0\\rangle$ state), and the standard basis measurement is replaced by a controlled-NOT gate, followed by a standard basis measurement on the bottom qubit.\n",
    "The point is that the standard basis measurement in the right-hand circuit can be pushed all the way to the end of the circuit.\n",
    "If the classical bit in the circuit on the left is later used as a control bit, we can use the bottom *qubit* in the circuit on the right as a control instead, and the overall effect will be the same.\n",
    "(We are assuming that the classical bit in the circuit on the left doesn't get overwritten after the measurement takes place by another measurement — but if it did we could always just use a new classical bit rather than overwriting one that was used for a previous measurement.)"
   ]
  },
  {
   "cell_type": "markdown",
   "id": "78ea8a62",
   "metadata": {},
   "source": [
    "### Circuit size and depth\n",
    "\n",
    "#### Circuit size\n",
    "\n",
    "The total number of gates in a circuit is referred to as that circuit's *size*.\n",
    "Thus, presuming that the gates in our circuits represent elementary operations, we have that a circuit's size represents the number of elementary operations it requires — or, in other words, its *computational cost*.\n",
    "We write $\\operatorname{size}(C)$ to refer to the size of a given circuit $C$.\n",
    "\n",
    "For example, consider the following Boolean circuit (from Lesson 3) for computing the XOR of two bits.\n",
    "\n",
    "![Boolean circuit for XOR](images/Boolean-circuit-XOR.png)\n",
    "\n",
    "The size of this circuit is 7, because there are 7 gates in total.\n",
    "(Fanout operations are not always counted as being gates, but for the purposes of this lesson we will count FANOUT operations as being gates.)\n",
    "\n",
    "#### Time, cost, and circuit depth\n",
    "\n",
    "In the previous lesson we discussed the importance of *time* as a resource, or limiting constraint, on computations.\n",
    "The examples above, such as the task of factoring RSA1024, reinforce this viewpoint.\n",
    "The `factorint` function doesn't fail to factor RSA1024 per se, it's just that we don't have enough time to let it finish.\n",
    "\n",
    "The notion of computational cost, as the number of elementary operations required to perform a computation, is\n",
    "intended to be an abstract proxy for the time required to implement a computation.\n",
    "Each elementary operation requires a certain amount of time to perform, and the more of them a computation needs to perform the longer it's going to take, at least in general.\n",
    "In the interest of simplicity, we'll continue to make this association between computational cost and the time required to run algorithms as we continue on in the series.\n",
    "\n",
    "But notice that the size of a circuit doesn't necessarily correspond directly to how long it takes to run.\n",
    "In our Boolean circuit for computing the XOR of two bits, for instance, the two FANOUT gates could be performed simultaneously, as could the two NOT gates, as well as the two AND gates.\n",
    "\n",
    "A different way to measure efficiency for circuits, which takes this possibility of *parallelization* into account, is by their *depth*.\n",
    "This is the minimum number of *layers* of gates needed within the circuit, where the gates within in each layer operate on different wires.\n",
    "Equivalently, the depth of a circuit is the maximum number of gates encountered on any path from an input wire to an output wire.\n",
    "For the circuit above, for instance, the depth is 4.\n",
    "\n",
    "Circuit depth is one way to formalize the running time of parallel computations.\n",
    "It's an advanced topic, and there exist very sophisticated circuit constructions known to minimize the depth required for certain computations.\n",
    "There are also some fascinating unanswered questions concerning circuit depth.\n",
    "(For example, much remains unknown about the circuit depth required to compute GCDs.)\n",
    "We won't have too much more to say about circuit depth in this series, aside from including a few interesting facts concerning circuit depth as we go along, but it should be clearly acknowledged that parallelization is a potential source of computational advantages.\n",
    "\n",
    "#### Assigning costs to different gates\n",
    "\n",
    "One final note concerning circuit size and computational cost is that it is possible to assign different costs to different gates, rather than viewing every gate as contributing equally to cost.\n",
    "\n",
    "For example, as was already mentioned, FANOUT gates are often viewed as being free for Boolean circuits — which is to say that we could choose that FANOUT gates have zero cost.\n",
    "As another example, when we're working in the query model and we count the number of queries that a circuit makes to an input function (in the form of a black box), we're effectively assigning unit cost to query gates and zero cost to other gates, such as Hadamard gates.\n",
    "A final example is that we sometimes weigh the costs of different gates depending on how difficult they are to implement, depending on the particular hardware implementation we have in mind.\n",
    "\n",
    "While all of these options are sensible in different contexts, for this lesson we'll keep things simple and stick with circuit size as a representation of computational cost."
   ]
  },
  {
   "cell_type": "markdown",
   "id": "2f0684fe",
   "metadata": {},
   "source": [
    "### Cost as a function of input length\n",
    "\n",
    "We're primarily interested in how computational cost scales as inputs become larger and larger.\n",
    "This leads us to represent the costs of algorithms as *functions* of the input length.\n",
    "\n",
    "#### Families of circuits\n",
    "\n",
    "Inputs to a given computational problem can vary in length, potentially becoming arbitrarily large.\n",
    "Every circuit, on the other hand, has a fixed number of gates and wires.\n",
    "For this reason, when we think about algorithms in terms of circuits, we generally need infinitely large *families* of circuits to represent algorithms.\n",
    "By a family of circuits, we mean a sequence of circuits that grow in size, allowing larger and larger inputs to be accommodated.\n",
    "\n",
    "For example, imagine that we have a classical algorithm for integer factorization, such as the one used by `factorint`.\n",
    "Like all classical algorithms, it is possible to implement this algorithm using Boolean circuits — but to do it we'll need a separate circuit for each possible input length.\n",
    "If we looked at the resulting circuits for different input lengths, we would see that their sizes naturally grow as the input length grows — reflecting the fact that factoring 4-bit integers is much easier and requires far fewer elementary operations than factoring 1024-bit integers, for instance.\n",
    "\n",
    "This leads us to represent the computational cost of an algorithm by a function $t$, defined so that $t(n)$ is the number of gates in the circuit that implements the algorithm for $n$ bit inputs.\n",
    "In more formal terms, an algorithm in the Boolean circuit model is described by a sequence of circuits\n",
    "$\\{C_1, C_2, C_3,\\ldots\\}$, where $C_n$ solves whatever problem we're talking about for $n$-bit inputs (or, more generally, for inputs whose size is parameterized in some way by $n$), and the function $t$ representing the cost of this algorithm is defined as \n",
    "\n",
    "$$\n",
    "t(n) = \\operatorname{size}(C_n).\n",
    "$$\n",
    "\n",
    "For quantum circuits the situation is similar, where larger and larger circuits are needed to accommodate longer and longer input strings.\n",
    "\n",
    "#### Example: integer addition\n",
    "\n",
    "To explain this further, let's take a moment to consider a much simpler problem than integer factoring, or even computing GCDs, which is the problem of addition.\n",
    "\n",
    "<!-- ::: q-block.note -->\n",
    "\n",
    "**Integer addition**\n",
    "\n",
    "Input: integers $N$ and $M$\n",
    "\n",
    "Output: $N+M$\n",
    "\n",
    "<!-- ::: -->\n",
    "\n",
    "How might we design Boolean circuits for solving this problem?\n",
    "\n",
    "Just to keep things simple, let's restrict our attention to the case where $N$ and $M$ are both nonnegative integers represented by $n$-bit registers using binary notation.\n",
    "We'll allow for any number of leading zeros in these encodings, so that $0\\leq N,M\\leq 2^n - 1$.\n",
    "The output will be an $(n+1)$-bit binary string representing the sum, which is the maximum number of bits we need to express the result.\n",
    "\n",
    "We begin with an algorithm — the *standard* algorithm for addition of binary representations — which is the base $2$ analogue to the way addition is taught in elementary/primary schools around the world.\n",
    "This algorithm can be implemented with Boolean circuits as follows.\n",
    "\n",
    "Starting from the least significant bits, we can compute their XOR to determine the least significant bit for the sum.\n",
    "Then we can compute the carry bit, which is the AND of the two least significant bits of $N$ and $M$.\n",
    "Sometimes these two operations together are known as a *half adder*.\n",
    "Using the XOR circuit we've now seen a few times together with an AND gate and two FANOUT gates, we can build a half adder with 10 gates.\n",
    "If for some reason we changed our minds and decided to include XOR gates in our set of elementary operations, we would need 1 AND gate, 1 XOR gate, and 2 FANOUT gates to build a half adder.\n",
    "\n",
    "![A half-adder](images/half-adder.png)\n",
    "\n",
    "Moving on to the more significant bits we can use a similar procedure, but this time including the carry bit from each previous position into our calculation.\n",
    "By cascading 2 half adders and taking the OR of the carry bits they produce, we can create what's known as a *full adder*.\n",
    "(Fortunately both carry bits can't be $1$, so we don't need to worry about that case.)\n",
    "This requires 21 gates in total: 2 AND gates, 2 XOR gates (each requiring 7 gates to implement), one OR gate, and 4 FANOUT gates.\n",
    "\n",
    "![A full-adder](images/full-adder.png)\n",
    "\n",
    "Finally, by cascading the full adders, we obtain a Boolean circuit for nonnegative integer addition having \n",
    "$21 (n-1) + 10 = 21 n - 11$ gates.\n",
    "Had we decided to include XOR gates in our set of elementary operations, we'd need \n",
    "$2n-1$ AND gates, $2n-1$ XOR gates, $n-1$ OR gates, and $4n-2$ FANOUT gates, for a total of $9n-5$ gates.\n",
    "If in addition we decide not to count FANOUT gates, it's $5n-3$ gates.\n",
    "\n",
    "For example, the following circuit computes the sum of two 4-bit integers.\n",
    "\n",
    "![A circuit for addition of two 4-bit integers](images/addition-circuit.png)\n",
    "\n",
    "\n",
    "#### Asymptotic notation\n",
    "\n",
    "On the one hand, it is good to know precisely how many gates are needed to perform various computations, like in the example of integer addition above.\n",
    "These details are important for actually building the circuits.\n",
    "\n",
    "On the other hand, if we perform analyses at this level of detail for all the computations we're interested in, including ones for tasks that are much more complicated than addition, we'll very quickly be buried in details.\n",
    "To keep things manageable, and to intentionally suppress details of secondary importance, we typically use *Big-O* notation when analyzing algorithms.\n",
    "Through this notation we can express the *order* at which functions grow.\n",
    "\n",
    "Formally speaking, if we have two functions $g(n)$ and $h(n)$, we write that $g(n) = O(h(n))$ if there exists a positive real number $c > 0$ and a positive integer $n_0$ such that\n",
    "\n",
    "$$\n",
    "g(n) \\leq c\\cdot h(n)\n",
    "$$\n",
    "\n",
    "for all $n \\geq n_0$.\n",
    "Typically $h(n)$ is chosen to be as simple an expression as possible, so that the notation can be used to reveal the limiting behavior of a function in simple terms.\n",
    "For example, $17 n^3 - 257 n^2 + 65537 = O(n^3)$.\n",
    "\n",
    "This notation can be extended to functions having multiple arguments in a fairly straightforward way.\n",
    "For instance, if we have two functions $g(n,m)$ and $h(n,m)$ defined on positive integers $n$ and $m$, we write that $g(n,m) = O(h(n,m))$ if there exists a positive real number $c > 0$ and a positive integer $k_0$ such that\n",
    "\n",
    "$$\n",
    "g(n,m) \\leq c\\cdot h(n,m)\n",
    "$$\n",
    "\n",
    "whenever $n+m \\geq k_0$.\n",
    "\n",
    "Connecting this notation to the example of nonnegative integer addition, we conclude that there exists a family of\n",
    "Boolean circuits $\\{C_1, C_2,\\ldots,\\}$, where $C_n$ adds two $n$-bit nonnegative integers together, such that\n",
    "$\\operatorname{size}(C_n) = O(n)$.\n",
    "This reveals the most essential feature of how the cost of addition scales with the input size: it scales *linearly*.\n",
    "Notice also that it doesn't depend on the specific detail of whether we consider XOR gates to have unit cost or cost $7$.\n",
    "In general, using Big-O notation allows us to make statements about computational costs that aren't sensitive to such low-level details."
   ]
  },
  {
   "cell_type": "markdown",
   "id": "22e69f48",
   "metadata": {},
   "source": [
    "#### More examples\n",
    "\n",
    "Here are a few more examples of problems from computational number theory, beginning with *multiplication*.\n",
    "\n",
    "<!-- ::: q-block.note -->\n",
    "\n",
    "**Integer multiplication**\n",
    "\n",
    "Input: integers $N$ and $M$\n",
    "\n",
    "Output: $NM$\n",
    "\n",
    "<!-- ::: -->\n",
    "\n",
    "Creating Boolean circuits for this problem is more difficult than creating circuits for addition — but by thinking about the standard multiplication algorithm, we can come up with circuits having size $O(n^2)$ for this problem (assuming $N$ and $M$ are both represented by $n$-bit binary representations).\n",
    "More generally, if $N$ has $n$ bits and $M$ has $m$ bits, there are Boolean circuits of size $O(nm)$ for multiplying $N$ and $M$.\n",
    "\n",
    "There are, in fact, other ways to multiply that scale better.\n",
    "For instance, the Schönhage-Strassen multiplication algorithm can be used to create a Boolean circuits for multiplying two $n$-bit integers having size $O(n \\operatorname{lg}(n) \\operatorname{lg}(\\operatorname{lg}(n)))$.\n",
    "The intricacy of this method causes a lot of overhead, however, making it only practical for numbers having tens of thousands of bits.\n",
    "\n",
    "Another basic problem is *division*, which we interpret to mean computing both the quotient and remainder given an integer divisor and dividend.\n",
    "\n",
    "<!-- ::: q-block.note -->\n",
    "\n",
    "**Integer division**\n",
    "\n",
    "Input: integers $N$ and $M\\neq0$\n",
    "\n",
    "Output: integers $q$ and $r$ satisfying $0\\leq r < |M|$ and $N = q M + r$\n",
    "\n",
    "<!-- ::: -->\n",
    "\n",
    "The cost of integer division is similar to multiplication: if $N$ has $n$ bits and $M$ has $m$ bits, there are Boolean circuits of size $O(nm)$ for solving this problem.\n",
    "Like multiplication, there are asymptotically superior methods.\n",
    "\n",
    "We can now compare known algorithms for computing GCDs with those for addition and multiplication.\n",
    "Euclid's algorithm for computing the GCD of an $n$-bit number $N$ and an $m$-bit number $M$ requires Boolean circuits of size $O(nm)$, similar to the standard algorithms for multiplication and division.\n",
    "Also similar to multiplication and division, there are asymptotically faster GCD algorithms — including ones requiring $O(n(\\operatorname{lg}(n))^2 \\operatorname{lg}(\\operatorname{lg}(n)))$ elementary operations to compute the GCD of two $n$-bit numbers.\n",
    "\n",
    "A somewhat more expensive computation that arises in number theory is *modular exponentiation*.\n",
    "\n",
    "<!-- ::: q-block.note -->\n",
    "\n",
    "**Integer modular exponentiation**\n",
    "\n",
    "Input: integers $N$, $K$, and $M$ with $K\\geq 0$ and $M\\geq 1$\n",
    "\n",
    "Output: $N^K \\hspace{1mm} (\\text{mod }M)$\n",
    "\n",
    "<!-- ::: -->\n",
    "\n",
    "By $N^K\\hspace{1mm} (\\text{mod }M)$ we mean the remainder when $N^K$ is divided by $M$ — meaning the unique integer $r$ satisfying $0\\leq r < M$ and $N^K = q M + r$ for some integer $q$.\n",
    "\n",
    "If $N$ has $n$ bits, $M$ has $m$ bits, and $K$ has $k$ bits, this problem can solved by Boolean circuits having size $O(k m^2 + nm)$ — which is not at all obvious at first glance.\n",
    "The solution is not to first compute $N^K$ and then take the remainder — that would require exponentially many bits just to store the number $N^K$.\n",
    "Rather, we can use the *power algorithm* (known alternatively as the *binary method* and *repeated squaring*), where we use the binary representation of $K$ to perform the entire computation modulo $M$.\n",
    "Assuming $N$, $M$, and $K$ are all $n$-bit numbers, we obtain an $O(n^3)$ algorithm — or a *cubic* time algorithm.\n",
    "(Once again, there are asymptotically faster algorithms.)\n",
    "\n",
    "Here's a code cell that computes a modular exponent for fairly large input numbers."
   ]
  },
  {
   "cell_type": "code",
   "execution_count": 7,
   "id": "79c8b245",
   "metadata": {},
   "outputs": [
    {
     "data": {
      "text/plain": [
       "5420808908959774060288987536719770456217318912094898225713892936909049029205875268391016773496273016272919329382669533127141405381618319955871147811133071683113976741106560564348611362839209748910974112799894385464900617664468329271717655067495341858822704829649579551724483155264208314048742469387847020407987537873027379036515942355206425576104942394452390040081069041858525217985044712018028991394635458870225358476099232040714610377672598679720015462702833934580459151626243131178465271884695260294198503010478207039551370657556801980546328939683389782893101937977023160027020824612118350981172299997784862364914426784395705304625946981620876565903630321426713564601636615003526450559450988257054265576673783996389684225946503950767764911765912500478971120407712043832726706539999202935732936820400534970855338294653369081634048804115320256182211145544094816107629124112742249226319353536843143250675559791743355892993051078488285292927178023438402583054839832109503781471596500072959107707020065782555861325253891174468479828455070701800024212593144971400832140786063620665224339027746048978496589265602430286475229240500730395030244167373760773225724090156004049352594635867027935465962414764456373585290956999305794964617561548270565216080421238370652518997421499178722058617256564053290758153841574743341020230723665105568383923335524981262395314837292291351213579853233800664543959697570668968932545105391200894345122403901126855808339292892144618034647640594129638891809347433516954054255735374114229687467253661509404329081038467536976485314005457794642793240728907716748113582623047896927299525364803461784339899349011331842366119834985254767022797817541982842136038797346045524543446837609691961446346898034481960162369906547207851740703325595273724313509866798139791862738941412435088490790473992542655256187359052648995226579813780101763700632784177318998593960123977376065188642849714402071821332656099246595192273548124579308954369379166791375504366177963367167357734204250134523901012053728414505662083719483277149998297345600850207968594611610502058119754052458059616153460321784141539990056380808571117172677389938997159425776949065037133138197247161115127659585109470076784212846689843449874294528288829117435818727532583190741742686601090580534050289592016761135679603364904072305569448382741870366244397396582565453282641402195407023981530691751496898222633942198230270907098913253995651978611545066193950188718245653197837791596426329560941347753939650429611447245577078846931722372616367550006355620360276455568080512099035179175416756143233950934214736621950039902506644221443998435341460452476466171419972558395644689971465747907674896790822097660307109062931957694684033978412952567599593488687529011526359106169809555979667401866723277931201510177630302133847932158278990312682334549377652520626935835739547712983314320798573894229076437190704856364396327795151484278956526648597260084828697308427169704251546673832583609705456575281533722178029103192256765343504645112826902073960223407989624481672668703972408414665894403347181679160774217536153364422436840721557202572348021932511877708639899866042064925150997870115610130091923308716372491505600234638328560252998561255435872867079194898819838898311502430190295512215594677576275248220954675704199712880196887650126401810574270118295619216693001247689245264372564423355830421087279204264834276290790089692636984198176930764597788529620410821188522782016777910796700483449826"
      ]
     },
     "execution_count": 7,
     "metadata": {},
     "output_type": "execute_result"
    }
   ],
   "source": [
    "K = 64135289477071580278790190170577389084825014742943447208116859632024532344630238623598752668347708737661925585694639798853367\n",
    "N = 4636759690183918349682239573236686632636353319755818421393667064929987310592347460711767784882455889983961546491666129915628431549982893638464243493812487979530329460863532041588297885958272943021122033997933550246447236884738870576045537199814804920281890355275625050796526864093092006894744790739778376848205654332434378295899591539239698896074\n",
    "M = 5056714874804877864225164843977749374751021379176083540426461360945653967249306494545888621353613218518084414930846655066495767441010526886803458300440345782982127522212209489410315422285463057656809702949608368597012967321172325810519806487247195259818074918082416290513738155834341957254558278151385588990304622183174568167973121179585331770773\n",
    "\n",
    "pow(N,K**10+1,M**10 + 1)\n"
   ]
  },
  {
   "cell_type": "markdown",
   "id": "5a21c198",
   "metadata": {},
   "source": [
    "It's a little bit slower than computing GCDs, but it's still fast."
   ]
  },
  {
   "cell_type": "markdown",
   "id": "8691fa99",
   "metadata": {},
   "source": [
    "A different example, outside of the domain of computational number theory, arose in the previous lesson.\n",
    "For the post-processing step of Simon's algorithm, we need to compute the null space modulo $2$ of an $n\\times m$ matrix of binary values (so here the input length is $nm$ bits in total).\n",
    "We can do this using Gaussian elimination with $O(n m \\min\\{n,m\\})$ elementary operations, which is $O(n^3)$ elementary operations if $m=O(n)$.\n",
    "Even for a $1000\\times 1000$ binary matrix, which is a million bits of input, the computation time is on the order of seconds."
   ]
  },
  {
   "cell_type": "code",
   "execution_count": 8,
   "id": "75327a9d",
   "metadata": {},
   "outputs": [
    {
     "name": "stderr",
     "output_type": "stream",
     "text": [
      "OMP: Info #276: omp_set_nested routine deprecated, please use omp_set_max_active_levels instead.\n"
     ]
    },
    {
     "data": {
      "text/plain": [
       "GF([[1, 0, 1, 0, 0, 0, 1, 1, 0, 1, 0, 1, 1, 1, 1, 1, 0, 1, 1, 1, 0, 1, 0,\n",
       "     0, 0, 1, 0, 0, 1, 0, 0, 0, 0, 0, 0, 0, 1, 1, 1, 1, 1, 1, 0, 1, 0, 0,\n",
       "     1, 0, 1, 1, 1, 0, 1, 1, 0, 0, 1, 1, 0, 1, 0, 0, 0, 1, 0, 0, 0, 0, 1,\n",
       "     1, 0, 1, 1, 1, 1, 0, 0, 0, 0, 0, 0, 0, 1, 0, 1, 0, 1, 0, 1, 1, 0, 1,\n",
       "     1, 0, 1, 0, 0, 1, 0, 0, 1, 1, 0, 0, 0, 1, 1, 0, 1, 0, 1, 0, 0, 0, 1,\n",
       "     0, 1, 1, 0, 1, 0, 1, 0, 1, 1, 0, 1, 1, 1, 0, 0, 1, 0, 1, 0, 1, 1, 0,\n",
       "     1, 0, 1, 1, 1, 0, 1, 1, 1, 1, 1, 1, 0, 0, 1, 0, 0, 1, 0, 1, 0, 0, 1,\n",
       "     0, 1, 1, 1, 0, 1, 1, 0, 0, 1, 0, 0, 0, 1, 0, 0, 1, 0, 0, 1, 0, 0, 1,\n",
       "     1, 1, 0, 0, 1, 1, 0, 1, 1, 0, 0, 1, 0, 1, 0, 0, 1, 1, 0, 0, 1, 0, 0,\n",
       "     1, 1, 1, 0, 0, 0, 0, 0, 1, 1, 1, 0, 0, 1, 1, 1, 0, 0, 1, 1, 1, 0, 1,\n",
       "     1, 0, 1, 0, 1, 0, 1, 1, 1, 0, 0, 1, 1, 1, 1, 1, 1, 1, 0, 0, 1, 1, 1,\n",
       "     1, 1, 1, 0, 1, 1, 1, 0, 1, 0, 0, 0, 1, 0, 1, 1, 0, 0, 1, 1, 0, 1, 1,\n",
       "     1, 1, 0, 1, 1, 0, 1, 1, 1, 0, 1, 1, 1, 0, 1, 1, 0, 0, 1, 0, 0, 1, 0,\n",
       "     1, 1, 0, 0, 0, 0, 0, 0, 0, 0, 0, 1, 1, 0, 0, 0, 0, 0, 1, 1, 0, 0, 1,\n",
       "     1, 1, 1, 1, 0, 1, 1, 1, 0, 1, 0, 1, 0, 0, 1, 0, 0, 1, 1, 0, 0, 0, 1,\n",
       "     0, 0, 1, 0, 1, 1, 0, 1, 0, 1, 0, 1, 1, 0, 0, 0, 0, 0, 1, 1, 1, 1, 1,\n",
       "     1, 1, 1, 0, 1, 0, 0, 0, 0, 0, 1, 1, 0, 0, 0, 1, 0, 1, 1, 0, 1, 1, 0,\n",
       "     1, 0, 0, 0, 1, 1, 1, 0, 1, 0, 0, 0, 0, 0, 0, 1, 0, 0, 0, 1, 0, 0, 1,\n",
       "     1, 0, 1, 1, 1, 1, 0, 1, 1, 0, 0, 1, 0, 1, 0, 0, 1, 0, 1, 0, 0, 0, 1,\n",
       "     1, 0, 0, 1, 0, 0, 0, 0, 1, 0, 0, 1, 0, 1, 1, 0, 0, 1, 1, 0, 1, 0, 0,\n",
       "     0, 0, 0, 1, 1, 1, 0, 1, 1, 1, 1, 1, 1, 0, 0, 0, 0, 0, 0, 1, 0, 1, 0,\n",
       "     1, 1, 1, 1, 1, 0, 0, 0, 0, 0, 0, 1, 1, 1, 1, 0, 0, 1, 0, 0, 0, 0, 0,\n",
       "     0, 0, 1, 1, 0, 0, 1, 0, 1, 0, 0, 1, 1, 0, 1, 0, 1, 0, 0, 1, 0, 1, 0,\n",
       "     0, 1, 0, 0, 0, 0, 1, 0, 0, 0, 1, 1, 1, 0, 1, 0, 0, 0, 0, 1, 1, 1, 0,\n",
       "     1, 0, 1, 1, 1, 1, 0, 1, 1, 1, 0, 1, 0, 1, 0, 1, 0, 1, 0, 1, 1, 1, 1,\n",
       "     0, 1, 1, 1, 1, 1, 1, 0, 1, 1, 0, 1, 1, 1, 0, 0, 1, 1, 1, 0, 0, 1, 1,\n",
       "     0, 1, 0, 1, 0, 0, 1, 0, 0, 0, 0, 0, 1, 1, 1, 1, 1, 0, 1, 1, 1, 0, 0,\n",
       "     1, 1, 1, 1, 0, 0, 0, 1, 1, 0, 0, 0, 1, 1, 1, 0, 0, 0, 1, 1, 1, 1, 0,\n",
       "     0, 1, 1, 0, 0, 0, 0, 0, 0, 0, 1, 1, 0, 1, 0, 1, 1, 0, 0, 1, 1, 0, 1,\n",
       "     0, 1, 0, 1, 0, 1, 0, 1, 0, 1, 0, 1, 1, 0, 1, 0, 1, 0, 0, 0, 1, 1, 1,\n",
       "     0, 1, 1, 1, 1, 1, 1, 0, 0, 0, 1, 0, 0, 1, 1, 1, 1, 1, 0, 1, 0, 0, 1,\n",
       "     0, 0, 1, 0, 1, 0, 0, 1, 0, 1, 1, 1, 0, 1, 1, 1, 1, 1, 1, 1, 0, 1, 0,\n",
       "     0, 1, 1, 1, 1, 1, 0, 0, 0, 0, 1, 0, 0, 1, 0, 0, 0, 0, 1, 0, 0, 1, 0,\n",
       "     0, 1, 1, 1, 0, 1, 1, 1, 1, 0, 0, 0, 1, 1, 1, 0, 1, 1, 1, 0, 1, 0, 0,\n",
       "     1, 1, 1, 1, 1, 1, 0, 0, 0, 0, 1, 1, 0, 1, 1, 1, 1, 1, 1, 0, 0, 0, 0,\n",
       "     1, 0, 1, 0, 1, 0, 0, 0, 1, 1, 0, 1, 0, 0, 0, 0, 0, 0, 1, 1, 1, 0, 1,\n",
       "     1, 0, 1, 1, 0, 1, 0, 0, 0, 0, 0, 1, 0, 0, 1, 0, 0, 1, 1, 1, 0, 0, 1,\n",
       "     0, 0, 0, 1, 1, 0, 0, 1, 1, 0, 1, 1, 1, 0, 0, 0, 0, 0, 1, 1, 0, 1, 0,\n",
       "     1, 0, 0, 0, 1, 0, 0, 1, 0, 1, 1, 1, 1, 1, 0, 1, 1, 1, 1, 0, 1, 1, 0,\n",
       "     1, 1, 0, 1, 0, 0, 1, 1, 0, 1, 1, 0, 1, 0, 0, 0, 0, 1, 0, 1, 0, 1, 1,\n",
       "     0, 1, 0, 0, 0, 0, 1, 0, 0, 0, 0, 0, 1, 0, 0, 1, 1, 0, 0, 0, 0, 1, 1,\n",
       "     1, 1, 1, 1, 1, 1, 0, 1, 0, 0, 1, 0, 1, 0, 1, 0, 1, 1, 0, 1, 0, 1, 0,\n",
       "     1, 0, 0, 1, 0, 0, 1, 0, 0, 0, 0, 1, 1, 0, 1, 0, 0, 0, 1, 0, 0, 0, 1,\n",
       "     0, 1, 0, 1, 0, 0, 0, 1, 0, 0, 0]], order=2)"
      ]
     },
     "metadata": {},
     "output_type": "display_data"
    }
   ],
   "source": [
    "import galois\n",
    "GF = galois.GF(2)\n",
    "\n",
    "N, n = 1000, 1000\n",
    "\n",
    "A = GF.Random((N, n))\n",
    "B = A.null_space()\n",
    "display(B)"
   ]
  },
  {
   "cell_type": "markdown",
   "id": "3ab95746",
   "metadata": {},
   "source": [
    "#### Cost of integer factorization\n",
    "\n",
    "In contrast to the algorithms just discussed, known algorithms for integer factorization are much more expensive — as we might expect from the examples in the first section of the lesson.\n",
    "\n",
    "If we consider a simple *trial division* algorithm that searches through the list $2,\\ldots,\\sqrt{N}$ for prime factors of an input number $N$, then we have $\\sqrt{N}$ iterations — which means $O(2^{n/2})$ iterations when $N$ is an $n$-bit number.\n",
    "Each iteration requires a trial division, which means $O(n^2)$ elementary operations for each iteration (using a standard algorithm for integer division).\n",
    "So we end up with circuits of size $O(n^2 2^{n/2})$, which is *exponential* in the input size $n$.\n",
    "\n",
    "There are algorithms for integer factorization having better scaling.\n",
    "The number field sieve mentioned earlier, for instance, which is an algorithm that makes use of randomness, is generally believed (but not rigorously proven) to require\n",
    "\n",
    "$$\n",
    "2^{O\\bigl(n^{1/3} \\operatorname{lg}^{2/3}(n)\\bigr)}\n",
    "$$\n",
    "\n",
    "elementary operations to factor $n$-bit integers with high probability.\n",
    "While it is quite significant that $n$ is raised to the power $1/3$, the fact that $n^{1/3}$ appears in the exponent is still a problem that causes poor scaling — and explains in part why RSA1024 remains outside of its domain of applicability."
   ]
  },
  {
   "cell_type": "markdown",
   "id": "38d29b7e",
   "metadata": {},
   "source": [
    "#### Polynomial versus exponential cost\n",
    "\n",
    "As we have seen, classical algorithms for integer addition, multiplication, division, and computing greatest common divisors allow us to solve these problems in the blink of an eye for inputs with thousands of bits.\n",
    "Addition has *linear* cost while the other three problems have *quadratic* cost (or *subquadratic* cost using asymptotically fast algorithms).\n",
    "Modular exponentiation is more expensive but can still be done pretty efficiently, with *cubic* cost (or sub-cubic cost using asymptotically fast algorithms).\n",
    "Computing the null space modulo $2$ of an $n\\times n$ binary matrix has cost $O(n^3)$ (bearing in mind that there are $n^2$ input bits for this problem).\n",
    "\n",
    "All of these algorithms are examples having *polynomial* cost, meaning that they have cost $O(n^c)$ for some choice of a fixed constant $c > 0$.\n",
    "As a rough, first-order approximation, algorithms having polynomial cost are abstractly viewed as representing *efficient* algorithms.\n",
    "\n",
    "In contrast, known classical algorithms for integer factoring have *exponential* cost.\n",
    "Sometimes the cost of the number field sieve is described as *sub-exponential*, but in complexity theory it is more typical to reserve this term for algorithms whose cost is\n",
    "\n",
    "$$\n",
    "O\\left(2^{n^{\\varepsilon}}\\right)\n",
    "$$\n",
    "\n",
    "for *every* $\\varepsilon > 0$.\n",
    "\n",
    "The so-called *NP-complete* problems are a class of problems not known to (and widely conjectured not to) have polynomial-cost algorithms.\n",
    "A circuit-based formulation of the *exponential-time hypothesis* posits something even stronger, which is that no NP-complete problem can have a sub-exponential cost algorithm.\n",
    "\n",
    "The association of polynomial-cost algorithms with efficient algorithms must be understood as being a loose abstraction.\n",
    "Of course, if an algorithm's cost scales as $n^{1000}$ or $n^{1000000}$ for inputs of size $n$, then it's a stretch to describe that algorithm as efficient.\n",
    "\n",
    "However, even an algorithm having cost that scales as $n^{1000000}$ must be doing something clever to avoid having *exponential* cost, which is generally what we expect of algorithms based in some way on \"brute force\" or \"exhaustive search.\"\n",
    "Even the sophisticated refinements of the number field sieve, for instance, fail to avoid this exponential scaling in cost.\n",
    "Polynomial-cost algorithms, on the other hand, manage take advantage of the problem structure in some way that avoids an exponential scaling.\n",
    "\n",
    "In practice, the identification of a polynomial cost algorithm for a problem is just a first step toward actual efficiency.\n",
    "Through algorithmic refinements, polynomial-cost algorithms with large exponents can sometimes be improved dramatically, lowering the cost to a more \"reasonable\" polynomial scaling.\n",
    "Sometimes things become easier when they're known to be possible — so the identification of a polynomial-cost algorithm for a problem can also have the effect of inspiring new, more efficient algorithms.\n",
    "\n",
    "As we consider advantages of quantum computing over classical computing, our eyes are generally turned first toward *exponential* advantages, or at least *super-polynomial* advantages — ideally finding polynomial-cost quantum algorithms for problems not known to have polynomial-cost classical algorithms.\n",
    "Theoretical advantages on this order have the greatest chances to lead to actual practical advantages — but identifying such advantages is an extremely difficult challenge.\n",
    "Only a few examples are currently known, but the search continues.\n",
    "\n",
    "Polynomial (but not super-polynomial) advantages in computational cost of quantum over classical are also interesting and should not be dismissed — but given the current gap between quantum and classical computing technology, they do seem rather less compelling at the present time.\n",
    "One day, though, they could become significant.\n",
    "Grover's algorithm, which is covered in Lesson 8, provides an example of a *quadratic* advantage of quantum over classical for so-called *unstructured searching*, which could potentially be broadly applicable."
   ]
  },
  {
   "cell_type": "markdown",
   "id": "740332ac",
   "metadata": {},
   "source": [
    "#### A hidden cost of circuit computation\n",
    "\n",
    "There is one final issue that is worth mentioning, although we will not concern ourselves with it further in this series.\n",
    "There's a \"hidden\" computational cost when we're working with circuits, and it concerns the specifications of the circuits themselves.\n",
    "As inputs get longer, we need larger and larger circuits — but somehow we're going to need to get our hands on the descriptions of these circuits if we're going to implement them.\n",
    "\n",
    "For all of the examples we've discussed, or will discuss later in the series, there's some underlying algorithm from which the circuits are derived.\n",
    "Usually the circuits in a family follow some basic pattern that's easy to extrapolate to larger and larger inputs\n",
    "— such as cascading full adders to create Boolean circuits for addition or performing layers of Hadamard gates and other gates in some simple to describe pattern.\n",
    "\n",
    "But what happens if there are prohibitive computational costs associated with the patterns of the circuits themselves?\n",
    "For instance, the description of each member $C_n$ in a circuit family could, in principle, be determined by some extremely difficult to compute function of $n$.\n",
    "\n",
    "The answer is that this is a problem, and we must place additional restrictions on families of circuits beyond having polynomial cost in order for them to truly represent efficient algorithms.\n",
    "The property of *uniformity* for circuits does this by stipulating that it must (in various precise formulations) be computationally easy to obtain the description of each circuit in a family.\n",
    "All of the circuit families we'll discuss do indeed have this property, so we won't concern ourselves with it further — but this is an important issue to be aware of when studying circuit models of computation from a formal viewpoint."
   ]
  },
  {
   "cell_type": "markdown",
   "id": "d15daf3e",
   "metadata": {},
   "source": [
    "## Classical computations on quantum computers\n",
    "\n",
    "We'll now turn our attention to implementing classical algorithms on quantum computers.\n",
    "We'll see that any computation that can be performed with a classical Boolean circuit can also be performed by a quantum circuit with asymptotically the same computational cost.\n",
    "Moreover, this can be done in a \"clean\" manner, which is an important requirement for using these computations as subroutines inside of larger quantum computations.\n",
    "\n",
    "### Simulating Boolean circuits with quantum circuits\n",
    "\n",
    "Boolean circuits are composed of AND, OR, NOT, and FANOUT gates.\n",
    "To simulate Boolean circuit with quantum circuit, we'll begin by showing how each of these four gates can be simulated by quantum gates.\n",
    "Once that's done, converting a given Boolean circuit to a quantum circuit is a simple matter of simulating one gate at a time.\n",
    "We'll only need NOT gates, controlled-NOT gates, and Toffoli gates to do this, which are all deterministic operations in addition to being unitary.\n",
    "\n",
    "#### Toffoli gates\n",
    "\n",
    "Toffoli gates can alternatively be described as controlled-controlled-NOT (or CCX) gates, whose action on standard basis states is as the following figure suggests.\n",
    "\n",
    "![Toffoli gate](images/Toffoli-gate.png)\n",
    "\n",
    "The matrix representation of this gate is as follows.\n",
    "\n",
    "$$\n",
    "\\mathrm{CCX} =\n",
    "\\begin{pmatrix}\n",
    "1 & 0 & 0 & 0 & 0 & 0 & 0 & 0 \\\\\n",
    "0 & 1 & 0 & 0 & 0 & 0 & 0 & 0 \\\\\n",
    "0 & 0 & 1 & 0 & 0 & 0 & 0 & 0 \\\\\n",
    "0 & 0 & 0 & 0 & 0 & 0 & 0 & 1 \\\\\n",
    "0 & 0 & 0 & 0 & 1 & 0 & 0 & 0 \\\\\n",
    "0 & 0 & 0 & 0 & 0 & 1 & 0 & 0 \\\\\n",
    "0 & 0 & 0 & 0 & 0 & 0 & 1 & 0 \\\\\n",
    "0 & 0 & 0 & 1 & 0 & 0 & 0 & 0 \n",
    "\\end{pmatrix}\n",
    "$$"
   ]
  },
  {
   "cell_type": "markdown",
   "id": "c32ef23e",
   "metadata": {},
   "source": [
    "Another way to think about Toffoli gates is that they're essentially query gates for the AND function, in the sense that they follow exactly the same pattern we saw in the previous lesson for the unitary query gate implementation of arbitrary functions with binary string inputs and outputs.\n",
    "\n",
    "Toffoli gates are not included in the default gate set discussed earlier in the lesson, but it is possible to construct a Tofolli gate from $H$, $T$, $T^{\\dagger}$, and CNOT gates as the following Qiskit code cell illustrates."
   ]
  },
  {
   "cell_type": "code",
   "execution_count": 9,
   "id": "9e36d499",
   "metadata": {},
   "outputs": [
    {
     "data": {
      "image/svg+xml": [
       "<?xml version=\"1.0\" encoding=\"UTF-8\"?><!DOCTYPE svg  PUBLIC '-//W3C//DTD SVG 1.1//EN'  'http://www.w3.org/Graphics/SVG/1.1/DTD/svg11.dtd'><svg width=\"590.97pt\" height=\"172pt\" version=\"1.1\" viewBox=\"0 0 590.97 172\" xmlns=\"http://www.w3.org/2000/svg\" xmlns:xlink=\"http://www.w3.org/1999/xlink\"><defs><style type=\"text/css\">*{stroke-linejoin: round; stroke-linecap: butt}</style></defs><path d=\"m0 172h590.97v-172h-590.97z\" fill=\"#ffffff\"/><path d=\"m64.609 44.283h514.53\" clip-path=\"url(#pf1c9db5bd8)\" fill=\"none\" stroke=\"#000000\" stroke-linecap=\"square\" stroke-width=\"2\"/><path d=\"m64.609 90.637h514.53\" clip-path=\"url(#pf1c9db5bd8)\" fill=\"none\" stroke=\"#000000\" stroke-linecap=\"square\" stroke-width=\"2\"/><path d=\"m64.609 136.99h514.53\" clip-path=\"url(#pf1c9db5bd8)\" fill=\"none\" stroke=\"#000000\" stroke-linecap=\"square\" stroke-width=\"2\"/><path d=\"m135.99 136.99v-46.354\" clip-path=\"url(#pf1c9db5bd8)\" fill=\"none\" stroke=\"#1192e8\" stroke-linecap=\"square\" stroke-width=\"2\"/><path d=\"m228.7 136.99v-92.708\" clip-path=\"url(#pf1c9db5bd8)\" fill=\"none\" stroke=\"#1192e8\" stroke-linecap=\"square\" stroke-width=\"2\"/><path d=\"m321.41 136.99v-46.354\" clip-path=\"url(#pf1c9db5bd8)\" fill=\"none\" stroke=\"#1192e8\" stroke-linecap=\"square\" stroke-width=\"2\"/><path d=\"m414.12 136.99v-92.708\" clip-path=\"url(#pf1c9db5bd8)\" fill=\"none\" stroke=\"#1192e8\" stroke-linecap=\"square\" stroke-width=\"2\"/><path d=\"m460.47 90.637v-46.354\" clip-path=\"url(#pf1c9db5bd8)\" fill=\"none\" stroke=\"#1192e8\" stroke-linecap=\"square\" stroke-width=\"2\"/><path d=\"m553.18 90.637v-46.354\" clip-path=\"url(#pf1c9db5bd8)\" fill=\"none\" stroke=\"#1192e8\" stroke-linecap=\"square\" stroke-width=\"2\"/><path d=\"m74.575 152.06h30.13v-30.13h-30.13z\" clip-path=\"url(#pf1c9db5bd8)\" fill=\"#1192e8\" stroke=\"#1192e8\" stroke-width=\"1.5\"/><path d=\"m135.99 95.157c1.1986 0 2.3482-0.4762 3.1958-1.3237 0.84753-0.84753 1.3237-1.9972 1.3237-3.1958s-0.4762-2.3482-1.3237-3.1958c-0.84753-0.84753-1.9972-1.3237-3.1958-1.3237-1.1986 0-2.3482 0.4762-3.1958 1.3237-0.84753 0.84753-1.3237 1.9972-1.3237 3.1958s0.4762 2.3482 1.3237 3.1958c0.84753 0.84753 1.9972 1.3237 3.1958 1.3237z\" clip-path=\"url(#pf1c9db5bd8)\" fill=\"#1192e8\" stroke=\"#1192e8\" stroke-width=\"1.5\"/><path d=\"m135.99 147.54c2.7967 0 5.4792-1.1111 7.4568-3.0887 1.9776-1.9776 3.0887-4.6601 3.0887-7.4568 0-2.7967-1.1111-5.4792-3.0887-7.4568-1.9776-1.9776-4.6601-3.0887-7.4568-3.0887-2.7967 0-5.4792 1.1111-7.4568 3.0887-1.9776 1.9776-3.0887 4.6601-3.0887 7.4568 0 2.7967 1.1111 5.4792 3.0887 7.4568 1.9776 1.9776 4.6601 3.0887 7.4568 3.0887z\" clip-path=\"url(#pf1c9db5bd8)\" fill=\"#1192e8\" stroke=\"#1192e8\" stroke-width=\"2\"/><path d=\"m167.28 152.06h30.13v-30.13h-30.13z\" clip-path=\"url(#pf1c9db5bd8)\" fill=\"#6929c4\" stroke=\"#6929c4\" stroke-width=\"1.5\"/><path d=\"m228.7 48.803c1.1986 0 2.3482-0.4762 3.1958-1.3237s1.3237-1.9972 1.3237-3.1958c0-1.1986-0.4762-2.3482-1.3237-3.1958s-1.9972-1.3237-3.1958-1.3237c-1.1986 0-2.3482 0.4762-3.1958 1.3237-0.84753 0.84753-1.3237 1.9972-1.3237 3.1958 0 1.1986 0.4762 2.3482 1.3237 3.1958 0.84753 0.84753 1.9972 1.3237 3.1958 1.3237z\" clip-path=\"url(#pf1c9db5bd8)\" fill=\"#1192e8\" stroke=\"#1192e8\" stroke-width=\"1.5\"/><path d=\"m228.7 147.54c2.7967 0 5.4792-1.1111 7.4568-3.0887 1.9776-1.9776 3.0887-4.6601 3.0887-7.4568 0-2.7967-1.1111-5.4792-3.0887-7.4568-1.9776-1.9776-4.6601-3.0887-7.4568-3.0887-2.7967 0-5.4792 1.1111-7.4568 3.0887-1.9776 1.9776-3.0887 4.6601-3.0887 7.4568 0 2.7967 1.1111 5.4792 3.0887 7.4568 1.9776 1.9776 4.6601 3.0887 7.4568 3.0887z\" clip-path=\"url(#pf1c9db5bd8)\" fill=\"#1192e8\" stroke=\"#1192e8\" stroke-width=\"2\"/><path d=\"m259.99 152.06h30.13v-30.13h-30.13z\" clip-path=\"url(#pf1c9db5bd8)\" fill=\"#6929c4\" stroke=\"#6929c4\" stroke-width=\"1.5\"/><path d=\"m321.41 95.157c1.1986 0 2.3482-0.4762 3.1958-1.3237 0.84753-0.84753 1.3237-1.9972 1.3237-3.1958s-0.4762-2.3482-1.3237-3.1958c-0.84753-0.84753-1.9972-1.3237-3.1958-1.3237s-2.3482 0.4762-3.1958 1.3237c-0.84753 0.84753-1.3237 1.9972-1.3237 3.1958s0.4762 2.3482 1.3237 3.1958c0.84753 0.84753 1.9972 1.3237 3.1958 1.3237z\" clip-path=\"url(#pf1c9db5bd8)\" fill=\"#1192e8\" stroke=\"#1192e8\" stroke-width=\"1.5\"/><path d=\"m321.41 147.54c2.7967 0 5.4792-1.1111 7.4568-3.0887 1.9776-1.9776 3.0887-4.6601 3.0887-7.4568 0-2.7967-1.1111-5.4792-3.0887-7.4568-1.9776-1.9776-4.6601-3.0887-7.4568-3.0887-2.7967 0-5.4792 1.1111-7.4568 3.0887-1.9776 1.9776-3.0887 4.6601-3.0887 7.4568 0 2.7967 1.1111 5.4792 3.0887 7.4568 1.9776 1.9776 4.6601 3.0887 7.4568 3.0887z\" clip-path=\"url(#pf1c9db5bd8)\" fill=\"#1192e8\" stroke=\"#1192e8\" stroke-width=\"2\"/><path d=\"m352.7 152.06h30.13v-30.13h-30.13z\" clip-path=\"url(#pf1c9db5bd8)\" fill=\"#6929c4\" stroke=\"#6929c4\" stroke-width=\"1.5\"/><path d=\"m352.7 105.7h30.13v-30.13h-30.13z\" clip-path=\"url(#pf1c9db5bd8)\" fill=\"#6929c4\" stroke=\"#6929c4\" stroke-width=\"1.5\"/><path d=\"m414.12 48.803c1.1986 0 2.3482-0.4762 3.1958-1.3237 0.84753-0.84753 1.3237-1.9972 1.3237-3.1958 0-1.1986-0.4762-2.3482-1.3237-3.1958-0.84753-0.84753-1.9972-1.3237-3.1958-1.3237-1.1986 0-2.3482 0.4762-3.1958 1.3237s-1.3237 1.9972-1.3237 3.1958c0 1.1986 0.4762 2.3482 1.3237 3.1958s1.9972 1.3237 3.1958 1.3237z\" clip-path=\"url(#pf1c9db5bd8)\" fill=\"#1192e8\" stroke=\"#1192e8\" stroke-width=\"1.5\"/><path d=\"m414.12 147.54c2.7967 0 5.4792-1.1111 7.4568-3.0887 1.9776-1.9776 3.0887-4.6601 3.0887-7.4568 0-2.7967-1.1111-5.4792-3.0887-7.4568s-4.6601-3.0887-7.4568-3.0887c-2.7967 0-5.4792 1.1111-7.4568 3.0887-1.9776 1.9776-3.0887 4.6601-3.0887 7.4568 0 2.7967 1.1111 5.4792 3.0887 7.4568 1.9776 1.9776 4.6601 3.0887 7.4568 3.0887z\" clip-path=\"url(#pf1c9db5bd8)\" fill=\"#1192e8\" stroke=\"#1192e8\" stroke-width=\"2\"/><path d=\"m445.41 152.06h30.13v-30.13h-30.13z\" clip-path=\"url(#pf1c9db5bd8)\" fill=\"#6929c4\" stroke=\"#6929c4\" stroke-width=\"1.5\"/><path d=\"m460.47 48.803c1.1986 0 2.3482-0.4762 3.1958-1.3237s1.3237-1.9972 1.3237-3.1958c0-1.1986-0.4762-2.3482-1.3237-3.1958s-1.9972-1.3237-3.1958-1.3237c-1.1986 0-2.3482 0.4762-3.1958 1.3237-0.84753 0.84753-1.3237 1.9972-1.3237 3.1958 0 1.1986 0.4762 2.3482 1.3237 3.1958 0.84753 0.84753 1.9972 1.3237 3.1958 1.3237z\" clip-path=\"url(#pf1c9db5bd8)\" fill=\"#1192e8\" stroke=\"#1192e8\" stroke-width=\"1.5\"/><path d=\"m460.47 101.18c2.7967 0 5.4792-1.1111 7.4568-3.0887 1.9776-1.9776 3.0887-4.6601 3.0887-7.4568 0-2.7967-1.1111-5.4792-3.0887-7.4568-1.9776-1.9776-4.6601-3.0887-7.4568-3.0887-2.7967 0-5.4792 1.1111-7.4568 3.0887-1.9776 1.9776-3.0887 4.6601-3.0887 7.4568 0 2.7967 1.1111 5.4792 3.0887 7.4568 1.9776 1.9776 4.6601 3.0887 7.4568 3.0887z\" clip-path=\"url(#pf1c9db5bd8)\" fill=\"#1192e8\" stroke=\"#1192e8\" stroke-width=\"2\"/><path d=\"m491.76 59.348h30.13v-30.13h-30.13z\" clip-path=\"url(#pf1c9db5bd8)\" fill=\"#6929c4\" stroke=\"#6929c4\" stroke-width=\"1.5\"/><path d=\"m491.76 105.7h30.13v-30.13h-30.13z\" clip-path=\"url(#pf1c9db5bd8)\" fill=\"#6929c4\" stroke=\"#6929c4\" stroke-width=\"1.5\"/><path d=\"m491.76 152.06h30.13v-30.13h-30.13z\" clip-path=\"url(#pf1c9db5bd8)\" fill=\"#1192e8\" stroke=\"#1192e8\" stroke-width=\"1.5\"/><path d=\"m553.18 48.803c1.1986 0 2.3482-0.4762 3.1958-1.3237 0.84753-0.84753 1.3237-1.9972 1.3237-3.1958 0-1.1986-0.4762-2.3482-1.3237-3.1958-0.84753-0.84753-1.9972-1.3237-3.1958-1.3237s-2.3482 0.4762-3.1958 1.3237c-0.84753 0.84753-1.3237 1.9972-1.3237 3.1958 0 1.1986 0.4762 2.3482 1.3237 3.1958 0.84753 0.84753 1.9972 1.3237 3.1958 1.3237z\" clip-path=\"url(#pf1c9db5bd8)\" fill=\"#1192e8\" stroke=\"#1192e8\" stroke-width=\"1.5\"/><path d=\"m553.18 101.18c2.7967 0 5.4792-1.1111 7.4568-3.0887 1.9776-1.9776 3.0887-4.6601 3.0887-7.4568 0-2.7967-1.1111-5.4792-3.0887-7.4568-1.9776-1.9776-4.6601-3.0887-7.4568-3.0887s-5.4792 1.1111-7.4568 3.0887c-1.9776 1.9776-3.0887 4.6601-3.0887 7.4568 0 2.7967 1.1111 5.4792 3.0887 7.4568 1.9776 1.9776 4.6601 3.0887 7.4568 3.0887z\" clip-path=\"url(#pf1c9db5bd8)\" fill=\"#1192e8\" stroke=\"#1192e8\" stroke-width=\"2\"/><g clip-path=\"url(#pf1c9db5bd8)\"><g transform=\"translate(37.301 48.734) scale(.1625 -.1625)\"><defs><path id=\"DejaVuSans-Oblique-71\" transform=\"scale(.015625)\" d=\"m2669 525q-231-303-546-460-314-156-695-156-531 0-833 358-301 358-301 986 0 506 186 978t533 847q225 244 517 375t614 131q387 0 637-153t363-462l100 525h578l-934-4813h-579l360 1844zm-1778 813q0-463 193-705 194-242 560-242 544 0 928 520t384 1264q0 450-199 689-198 239-569 239-272 0-504-127-231-126-403-370-181-256-286-600-104-343-104-668z\"/><path id=\"DejaVuSans-30\" transform=\"scale(.015625)\" d=\"m2034 4250q-487 0-733-480-245-479-245-1442 0-959 245-1439 246-480 733-480 491 0 736 480 246 480 246 1439 0 963-246 1442-245 480-736 480zm0 500q785 0 1199-621 414-620 414-1801 0-1178-414-1799-414-620-1199-620-784 0-1198 620-414 621-414 1799 0 1181 414 1801 414 621 1198 621z\"/></defs><use xlink:href=\"#DejaVuSans-Oblique-71\"/><use transform=\"translate(63.477 -16.406) scale(.7)\" xlink:href=\"#DejaVuSans-30\"/></g></g><g clip-path=\"url(#pf1c9db5bd8)\"><g transform=\"translate(37.301 95.088) scale(.1625 -.1625)\"><defs><path id=\"DejaVuSans-31\" transform=\"scale(.015625)\" d=\"m794 531h1031v3560l-1122-225v575l1116 225h631v-4135h1031v-531h-2687v531z\"/></defs><use xlink:href=\"#DejaVuSans-Oblique-71\"/><use transform=\"translate(63.477 -16.406) scale(.7)\" xlink:href=\"#DejaVuSans-31\"/></g></g><g clip-path=\"url(#pf1c9db5bd8)\"><g transform=\"translate(37.301 141.44) scale(.1625 -.1625)\"><defs><path id=\"DejaVuSans-32\" transform=\"scale(.015625)\" d=\"m1228 531h2203v-531h-2962v531q359 372 979 998 621 627 780 809 303 340 423 576 121 236 121 464 0 372-261 606-261 235-680 235-297 0-627-103-329-103-704-313v638q381 153 712 231 332 78 607 78 725 0 1156-363 431-362 431-968 0-288-108-546-107-257-392-607-78-91-497-524-418-433-1181-1211z\"/></defs><use xlink:href=\"#DejaVuSans-Oblique-71\"/><use transform=\"translate(63.477 -16.406) scale(.7)\" xlink:href=\"#DejaVuSans-32\"/></g></g><g clip-path=\"url(#pf1c9db5bd8)\"><g transform=\"translate(84.752 140.58) scale(.13 -.13)\" fill=\"#ffffff\"><defs><path id=\"DejaVuSans-48\" transform=\"scale(.015625)\" d=\"m628 4666h631v-1913h2294v1913h631v-4666h-631v2222h-2294v-2222h-631v4666z\"/></defs><use xlink:href=\"#DejaVuSans-48\"/></g></g><path d=\"m135.99 143.02v-12.052\" clip-path=\"url(#pf1c9db5bd8)\" fill=\"none\" stroke=\"#ffffff\" stroke-linecap=\"square\" stroke-width=\"2\"/><path d=\"m129.97 136.99h12.052\" clip-path=\"url(#pf1c9db5bd8)\" fill=\"none\" stroke=\"#ffffff\" stroke-linecap=\"square\" stroke-width=\"2\"/><g clip-path=\"url(#pf1c9db5bd8)\"><g transform=\"translate(174.03 140.58) scale(.13 -.13)\" fill=\"#ffffff\"><defs><path id=\"DejaVuSans-54\" transform=\"scale(.015625)\" d=\"m-19 4666h3947v-532h-1656v-4134h-634v4134h-1657v532z\"/><path id=\"DejaVuSans-2020\" transform=\"scale(.015625)\" d=\"m1325 4666h550v-1313h1147v-478h-1147v-3491h-550v3491h-1147v478h1147v1313z\"/></defs><use transform=\"translate(0 .68438)\" xlink:href=\"#DejaVuSans-54\"/><use transform=\"translate(75.679 38.966) scale(.7)\" xlink:href=\"#DejaVuSans-2020\"/></g></g><path d=\"m228.7 143.02v-12.052\" clip-path=\"url(#pf1c9db5bd8)\" fill=\"none\" stroke=\"#ffffff\" stroke-linecap=\"square\" stroke-width=\"2\"/><path d=\"m222.68 136.99h12.052\" clip-path=\"url(#pf1c9db5bd8)\" fill=\"none\" stroke=\"#ffffff\" stroke-linecap=\"square\" stroke-width=\"2\"/><g clip-path=\"url(#pf1c9db5bd8)\"><g transform=\"translate(271.09 140.58) scale(.13 -.13)\" fill=\"#ffffff\"><use xlink:href=\"#DejaVuSans-54\"/></g></g><path d=\"m321.41 143.02v-12.052\" clip-path=\"url(#pf1c9db5bd8)\" fill=\"none\" stroke=\"#ffffff\" stroke-linecap=\"square\" stroke-width=\"2\"/><path d=\"m315.38 136.99h12.052\" clip-path=\"url(#pf1c9db5bd8)\" fill=\"none\" stroke=\"#ffffff\" stroke-linecap=\"square\" stroke-width=\"2\"/><g clip-path=\"url(#pf1c9db5bd8)\"><g transform=\"translate(359.44 140.58) scale(.13 -.13)\" fill=\"#ffffff\"><use transform=\"translate(0 .68438)\" xlink:href=\"#DejaVuSans-54\"/><use transform=\"translate(75.679 38.966) scale(.7)\" xlink:href=\"#DejaVuSans-2020\"/></g></g><g clip-path=\"url(#pf1c9db5bd8)\"><g transform=\"translate(363.79 94.224) scale(.13 -.13)\" fill=\"#ffffff\"><use xlink:href=\"#DejaVuSans-54\"/></g></g><path d=\"m414.12 143.02v-12.052\" clip-path=\"url(#pf1c9db5bd8)\" fill=\"none\" stroke=\"#ffffff\" stroke-linecap=\"square\" stroke-width=\"2\"/><path d=\"m408.09 136.99h12.052\" clip-path=\"url(#pf1c9db5bd8)\" fill=\"none\" stroke=\"#ffffff\" stroke-linecap=\"square\" stroke-width=\"2\"/><g clip-path=\"url(#pf1c9db5bd8)\"><g transform=\"translate(456.5 140.58) scale(.13 -.13)\" fill=\"#ffffff\"><use xlink:href=\"#DejaVuSans-54\"/></g></g><path d=\"m460.47 96.663v-12.052\" clip-path=\"url(#pf1c9db5bd8)\" fill=\"none\" stroke=\"#ffffff\" stroke-linecap=\"square\" stroke-width=\"2\"/><path d=\"m454.45 90.637h12.052\" clip-path=\"url(#pf1c9db5bd8)\" fill=\"none\" stroke=\"#ffffff\" stroke-linecap=\"square\" stroke-width=\"2\"/><g clip-path=\"url(#pf1c9db5bd8)\"><g transform=\"translate(502.86 47.87) scale(.13 -.13)\" fill=\"#ffffff\"><use xlink:href=\"#DejaVuSans-54\"/></g></g><g clip-path=\"url(#pf1c9db5bd8)\"><g transform=\"translate(498.51 94.224) scale(.13 -.13)\" fill=\"#ffffff\"><use transform=\"translate(0 .68438)\" xlink:href=\"#DejaVuSans-54\"/><use transform=\"translate(75.679 38.966) scale(.7)\" xlink:href=\"#DejaVuSans-2020\"/></g></g><g clip-path=\"url(#pf1c9db5bd8)\"><g transform=\"translate(501.94 140.58) scale(.13 -.13)\" fill=\"#ffffff\"><use xlink:href=\"#DejaVuSans-48\"/></g></g><path d=\"m553.18 96.663v-12.052\" clip-path=\"url(#pf1c9db5bd8)\" fill=\"none\" stroke=\"#ffffff\" stroke-linecap=\"square\" stroke-width=\"2\"/><path d=\"m547.15 90.637h12.052\" clip-path=\"url(#pf1c9db5bd8)\" fill=\"none\" stroke=\"#ffffff\" stroke-linecap=\"square\" stroke-width=\"2\"/><defs><clipPath id=\"pf1c9db5bd8\"><rect x=\"7.2\" y=\"7.2\" width=\"576.57\" height=\"157.6\"/></clipPath></defs></svg>"
      ],
      "text/plain": [
       "<Figure size 1040x284.278 with 1 Axes>"
      ]
     },
     "metadata": {},
     "output_type": "display_data"
    },
    {
     "data": {
      "text/latex": [
       "$$\n",
       "\n",
       "\\begin{bmatrix}\n",
       "1 & 0 & 0 & 0 & 0 & 0 & 0 & 0  \\\\\n",
       " 0 & 1 & 0 & 0 & 0 & 0 & 0 & 0  \\\\\n",
       " 0 & 0 & 1 & 0 & 0 & 0 & 0 & 0  \\\\\n",
       " 0 & 0 & 0 & 0 & 0 & 0 & 0 & 1  \\\\\n",
       " 0 & 0 & 0 & 0 & 1 & 0 & 0 & 0  \\\\\n",
       " 0 & 0 & 0 & 0 & 0 & 1 & 0 & 0  \\\\\n",
       " 0 & 0 & 0 & 0 & 0 & 0 & 1 & 0  \\\\\n",
       " 0 & 0 & 0 & 1 & 0 & 0 & 0 & 0  \\\\\n",
       " \\end{bmatrix}\n",
       "$$"
      ],
      "text/plain": [
       "<IPython.core.display.Latex object>"
      ]
     },
     "execution_count": 9,
     "metadata": {},
     "output_type": "execute_result"
    }
   ],
   "source": [
    "from qiskit import QuantumCircuit\n",
    "from qiskit.quantum_info import Statevector, Operator\n",
    "from qiskit.visualization import array_to_latex\n",
    "\n",
    "Toffoli = QuantumCircuit(3)\n",
    "\n",
    "Toffoli.h(2)\n",
    "Toffoli.cx(1, 2)\n",
    "Toffoli.tdg(2)\n",
    "Toffoli.cx(0, 2)\n",
    "Toffoli.t(2)\n",
    "Toffoli.cx(1, 2)\n",
    "Toffoli.tdg(2)\n",
    "Toffoli.cx(0, 2)\n",
    "Toffoli.t(1)\n",
    "Toffoli.t(2)\n",
    "Toffoli.cx(0, 1)\n",
    "Toffoli.t(0)\n",
    "Toffoli.tdg(1)\n",
    "Toffoli.h(2)\n",
    "Toffoli.cx(0, 1)\n",
    "\n",
    "display(Toffoli.draw())\n",
    "U = Operator(Toffoli)\n",
    "\n",
    "array_to_latex(U)"
   ]
  },
  {
   "cell_type": "markdown",
   "id": "66991522",
   "metadata": {},
   "source": [
    "#### Simulating Boolean gates with Toffoli, controlled-NOT, and NOT gates\n",
    "\n",
    "A single Toffoli gate, used in conjunction with a few NOT gates, can implement an AND and OR gate, as the following diagrams suggest.\n",
    "\n",
    "![Simulating AND and OR gates with Toffoli gates](images/AND-and-OR-with-Toffoli.png)\n",
    "\n",
    "FANOUT gates can easily be implemented using controlled-NOT gates like this:\n",
    "\n",
    "![Simulating FANOUT gates with CNOT gates](images/FANOUT-with-CNOT.png)\n",
    "\n",
    "In all three cases, the bits that the AND, OR, and FANOUT gates act upon come in from the left as inputs, and in addition we require one *workspace* qubit initialized to the zero state.\n",
    "These workspace qubits appear within the dotted rectangles to illustrate that they're new, and one of the costs\n",
    "of implementing Boolean gates and circuits through the method being described is the inclusion of these new qubits.\n",
    "\n",
    "For the AND and OR gates, in addition to the output bits we also have two additional qubits left over.\n",
    "For example, inside the dotted rectangle in the diagram for an AND gate, the top two qubits are left in the states $\\vert a\\rangle$ and $\\vert b\\rangle$.\n",
    "These bits appear inside the dotted rectangles to illustrate that they're no longer needed — they aren't output by the Boolean logic gates we're simulating, and we can simply ignore them (for now at least).\n",
    "\n",
    "The remaining Boolean gate, the NOT gate, is also a gate in our default set of quantum gates, so we don't need to worry about simulating them in a special way."
   ]
  },
  {
   "cell_type": "markdown",
   "id": "50f183c2",
   "metadata": {},
   "source": [
    "#### Gate-by-gate simulation of Boolean circuits\n",
    "\n",
    "Now suppose that we have an ordinary Boolean circuit named $C$, composed of AND, OR, NOT, and FANOUT gates, and having\n",
    "$n$ input bits and $m$ of output bits.\n",
    "We'll let $t$ be the total number of gates in $C$, and we'll give the name $f$ to the function that $C$ computes — so this function takes the form $f:\\Sigma^n\\rightarrow\\Sigma^m$ where $\\Sigma = \\{0,1\\}$.\n",
    "\n",
    "Now consider what happens when we go one at a time through the AND, OR, and FANOUT gates of $C$, replacing each one by the simulation described above, including the addition of a workspace qubit.\n",
    "We'll arrange the qubits of $R$ so that the $n$ input bits of $C$ are on the top and the workspace qubits are on the bottom.\n",
    "As a result of performing these substitutions, we obtain a new circuit $R$ that operates as this figure suggests:\n",
    "\n",
    "![Reversible circuit simulation](images/reversible-circuit-simulation.png)\n",
    "\n",
    "Here, $k$ is the number of workspace qubits that need to be added, and $g$ is a function of the form\n",
    "$g:\\Sigma^n \\rightarrow \\Sigma^{n+k-m}$ that describes the states of the leftover qubits after $R$ is executed.\n",
    "\n",
    "In the figure, the qubits corresponding to the output $f(x)$ are on the top and the remaining, leftover qubits storing $g(x)$ are on the bottom.\n",
    "We can force this to happen if we wish by rearranging the qubits using swap gates.\n",
    "A swap gate can be implemented with three controlled-NOT gates like this:\n",
    "\n",
    "![Swapping with cNOT gates](images/swap.png)\n",
    "\n",
    "As we'll see in the next section, it isn't essential to rearrange the output qubits like this, but it's easy enough to do it if we choose.\n",
    "\n",
    "The function $g$ that describes the classical states of the leftover qubits is determined somehow by the circuit $C$, but we don't really need to worry all that much about it, because we really don't care specifically what state these qubits are in when the computation finishes.\n",
    "The letter $g$ comes after $f$, so it is a reasonable name for this function on that account, but there's a better reason to pick the name $g;$ \n",
    "it's short for *garbage* — or stuff left over from the simulation that's cluttering up these qubits."
   ]
  },
  {
   "cell_type": "markdown",
   "id": "ca1e5224",
   "metadata": {},
   "source": [
    "### Cleaning up the garbage\n",
    "\n",
    "If our only interest is in computing whatever function $f$ is computed by a given Boolean circuit $C$ with a quantum circuit, we don't need to proceed any further than the gate-by-gate simulation just described — and we can accept that in addition to the answer we'll have a bunch of garbage left over.\n",
    "\n",
    "This, however, won't be good enough if we want to perform classical computations as subroutines within larger quantum computations, because those garbage qubits will cause problems.\n",
    "As we saw in the previous lesson, the phenomenon of *interference* is critically important to quantum algorithms, and garbage qubits can ruin the interference patterns needed to make quantum algorithms work.\n",
    "\n",
    "Fortunately, it's not to difficult to clean up the garbage, so-to-speak.\n",
    "The key is to use the fact that because $R$ is a quantum circuit, we can run it in reverse — by simply replacing each gate with its inverse and applying them in the reverse order — thereby obtaining a quantum circuit for the operation $R^{\\dagger}$.\n",
    "(Toffoli gates, CNOT gates, and NOT gates are their own inverses, so in this case running $R$ in reverse is just a matter of applying the gates in the reverse order — but more generally any quantum circuit can be reversed as just described.)\n",
    "\n",
    "So, what we can do is to add $m$ more qubits (recalling that $m$ is the number of output bits of the function $f$), use CNOT gates to copy the output of $R$ onto these qubits, and then reverse $R$ to clean up the garbage.\n",
    "The following figure illustrates the resulting circuit and describes its action on standard basis states.\n",
    "\n",
    "![Garbage-free computation](images/garbage-free-computation.png)\n",
    "\n",
    "If we put a box around the entire circuit and call it $Q$, it looks like this:\n",
    "\n",
    "![Simulation as a query gate](images/simulation-as-query-gate.png)\n",
    "\n",
    "If $C$ has $t$ gates, then $Q$ has $O(t)$ gates.\n",
    "\n",
    "If we disregard the $k$ additional workspace qubits, what we have is a circuit $Q$ that functions exactly like a query gate for the function $f$.\n",
    "If we simply want to compute the function $f$ on some string $x$, we can set $y = 0^m$ and the resulting value $f(x)$ will appear on the bottom $m$ qubits — or we can feed in a different state to the bottom $m$ qubits if we wish\n",
    "(perhaps to make use of a phase kickback, like in Deutsch's or the Deutsch-Jozsa algorithm).\n",
    "This means that for any query algorithm, if we have a Boolean circuit that computes the input function, we can replace each query gate with a unitary implementation as just described and the query algorithm will function correctly.\n",
    "\n",
    "Note that the workspace qubits are needed to make this process work — but they are, in fact, returned to their initial states once the combined circuit is executed, so they could be used again as workspace qubits for other purposes.\n",
    "There are strategies that reduce the number of workspace qubits required, but we won't discuss those strategies here."
   ]
  },
  {
   "cell_type": "markdown",
   "id": "9aca4d6f",
   "metadata": {},
   "source": [
    "#### Implementing invertible functions\n",
    "\n",
    "The construction just described allows us to simulate any Boolean circuit with a quantum circuit in a garbage-free manner, following this basic pattern:\n",
    "if $C$ is a Boolean circuit implementing a function $f:\\Sigma^n \\rightarrow \\Sigma^m$, then \n",
    "we obtain a quantum circuit $Q$ that operates as the next equation describes on standard basis states.\n",
    "\n",
    "$$\n",
    "Q \\bigl( \\vert y \\rangle \\vert 0^k \\rangle \\vert x\\rangle\\bigr)\n",
    "= \\vert y \\oplus f(x) \\rangle \\vert 0^k \\rangle \\vert x\\rangle\n",
    "$$\n",
    "\n",
    "The number $k$ indicates how many workspace qubits are required, and depends on how many gates $C$ has and which ones they are.\n",
    "\n",
    "This will be enough for the purposes of this series, but it is possible to take this one step further when the \n",
    "function $f$ itself is invertible.\n",
    "To be precise, suppose that the function $f$ takes the form $f:\\Sigma^n \\rightarrow \\Sigma^n$, and suppose furthermore there exists a function $f^{-1}$ such that $f^{-1}(f(x)) = x$ for every $x\\in\\Sigma^n$.\n",
    "(The function $f^{-1}$ is necessarily unique when it exists.)\n",
    "\n",
    "This means that the operation that transforms $\\vert x \\rangle$ into $\\vert f(x) \\rangle$ for every $x\\in\\Sigma^n$ is unitary — so we might hope to build a quantum circuit that implements the unitary operation defined by\n",
    "\n",
    "$$\n",
    "U \\vert x \\rangle = \\vert f(x) \\rangle\n",
    "$$\n",
    "\n",
    "for every $x\\in\\Sigma^n$.\n",
    "To be clear, the fact that this is a unitary operation relies on $f$ being invertible — it's not unitary when $f$ isn't invertible.\n",
    "Disregarding the workspace qubits, $U$ is different from the operation that the circuit $Q$ implements because we're not keeping a copy of the input around and XORing it to an arbitrary string, we're *replacing* $x$ by $f(x)$.\n",
    "\n",
    "So the question is: when $f$ is invertible, can we do this?\n",
    "The answer is yes — provided that in addition to having a Boolean circuit that computes $f$, we also have one that computes $f^{-1}$.\n",
    "(So this won't be a shortcut to inverting functions computationally if we don't already know how to do that.)\n",
    "The following diagram illustrates how it can be done by composing two quantum circuits, $Q_f$ and $Q_{f^{-1}}$, which are obtained individually for the functions $f$ and $f^{-1}$ through the method described above.\n",
    "\n",
    "![Simulation of an invertible function](images/fully-reversible-simulation.png)\n"
   ]
  },
  {
   "cell_type": "code",
   "execution_count": 10,
   "id": "afe4325b",
   "metadata": {},
   "outputs": [
    {
     "data": {
      "text/html": [
       "<h3>Version Information</h3><table><tr><th>Qiskit Software</th><th>Version</th></tr><tr><td><code>qiskit-terra</code></td><td>0.24.1</td></tr><tr><td><code>qiskit-aer</code></td><td>0.12.1</td></tr><tr><td><code>qiskit-ibmq-provider</code></td><td>0.20.2</td></tr><tr><td><code>qiskit</code></td><td>0.43.2</td></tr><tr><td><code>qiskit-nature</code></td><td>0.6.0</td></tr><tr><td><code>qiskit-finance</code></td><td>0.3.4</td></tr><tr><td><code>qiskit-optimization</code></td><td>0.5.0</td></tr><tr><td><code>qiskit-machine-learning</code></td><td>0.6.1</td></tr><tr><th>System information</th></tr><tr><td>Python version</td><td>3.10.11</td></tr><tr><td>Python compiler</td><td>Clang 14.0.0 (clang-1400.0.29.202)</td></tr><tr><td>Python build</td><td>main, Apr  7 2023 07:31:31</td></tr><tr><td>OS</td><td>Darwin</td></tr><tr><td>CPUs</td><td>8</td></tr><tr><td>Memory (Gb)</td><td>32.0</td></tr><tr><td colspan='2'>Tue Jul 18 12:32:10 2023 BST</td></tr></table>"
      ],
      "text/plain": [
       "<IPython.core.display.HTML object>"
      ]
     },
     "metadata": {},
     "output_type": "display_data"
    }
   ],
   "source": [
    "# pylint: disable=unused-import\n",
    "import qiskit.tools.jupyter\n",
    "%qiskit_version_table"
   ]
  }
 ],
 "metadata": {
  "kernelspec": {
   "display_name": "Python 3",
   "language": "python",
   "name": "python3"
  },
  "language_info": {
   "codemirror_mode": {
    "name": "ipython",
    "version": 3
   },
   "file_extension": ".py",
   "mimetype": "text/x-python",
   "name": "python",
   "nbconvert_exporter": "python",
   "pygments_lexer": "ipython3",
   "version": "3.9"
  }
 },
 "nbformat": 4,
 "nbformat_minor": 5
}
