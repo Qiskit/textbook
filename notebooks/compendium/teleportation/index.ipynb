{
 "cells": [
  {
   "cell_type": "markdown",
   "id": "35344cca",
   "metadata": {},
   "source": [
    "# Quantum teleportation\n",
    "\n",
    "- **Type:** protocol\n",
    "- **Difficulty:** easy\n",
    "- **Keywords:** entanglement, quantum communication"
   ]
  },
  {
   "cell_type": "markdown",
   "id": "8d257176",
   "metadata": {},
   "source": [
    "## Description\n",
    "\n",
    "Quantum teleportation is a protocol where a sender (Alice) transmits a quantum state to a receiver (Bob). The protocol requires Alice and Bob share a pair of entangled qubits, and that Alice can send two classical bits to Bob.\n",
    "\n",
    "Qubits are fragile, which makes sending physical qubits between locations difficult. Rather than send the physical system (such as a trapped ion or supercooled circuit) that holds the quantum state, the teleportation protocol erases the quantum state from Alice's system and recreates it on Bob's system. The original state must be erased as it's impossible to copy quantum states (see the no-cloning theorem).\n",
    "\n",
    "The protocol can send any quantum state, including states entangled with other quantum systems. Alice and Bob don't need to know anything about the state they're sending.\n",
    "\n",
    "### Setup\n",
    "\n",
    "Alice has a qubit $\\mathsf{Q}$ that holds the state she wants to send. For the protocol, Alice and Bob must share an e-bit: Alice holds a qubit $\\mathsf{A}$, Bob holds a qubit $\\mathsf{B}$, and together the pair $(\\mathsf{A},\\mathsf{B})$ is in the state \n",
    "\n",
    "$$\n",
    "\\vert\\phi^+\\rangle = \\frac{1}{\\sqrt{2}} \\vert 00\\rangle + \\frac{1}{\\sqrt{2}} \\vert 11\\rangle.\n",
    "$$\n",
    "\n",
    "A third party could create this e-bit and distribute the qubits to Alice and Bob.\n",
    "\n",
    "\n",
    "\n",
    "### Protocol\n",
    "\n",
    "The following quantum circuit diagram describes the teleportation protocol.\n",
    "\n",
    "![Circuit diagram with three qubit wires: \"Q\", \"A\", and \"B\". Alice performs a CNOT operation controlled by Q with target A. Alice then performs a Hadamard gate on Q. Alice measures Q and A, and sends the measurement bits to Bob. Bob performs an X-gate if the measurement result of A is 1, followed by a Z-gate if the measurement result of Q is 1. Qubit B now holds the quantum state that qubit Q started with.](images/teleportation.png)"
   ]
  },
  {
   "cell_type": "markdown",
   "id": "97b31da2",
   "metadata": {},
   "source": [
    "## Explanation\n",
    "\n",
    "\n",
    "A qubit in a pure state can be described by two values:\n",
    " - The probability of the qubit being 1 (it's Z-axis expectation value)\n",
    " - The relative phase between the $|0\\rangle$ and $|1\\rangle$ states (related to it's X-axis expectation value)\n",
    "\n",
    "To avoid destroying the quantum state through measurement, the protocol uses the e-bit as a secret key to encrypt $|\\psi\\rangle$. First, we'll see how the protocol \"teleports\" the classical probability (that is, it's Z-axis expectation value). If it helps, for this step, you can consider each qubit to be in a classical state.\n",
    "\n",
    "Say $\\mathsf{Q}$ has initial value $x$, and $\\mathsf{A}$ and $\\mathsf{B}$ both have initial value $y$. When Alice performs the CNOT gate, the value of $\\mathsf{A}$ becomes $x \\oplus y$. Alice can now safely measure $\\mathsf{A}$ because the measurement result doesn't tell us anything about $x$; it's encrypted by the secret key $y$. When Bob XORs $\\mathsf{B}$ with this measurement result, the value of $\\mathsf{B}$ becomes $x \\oplus y \\oplus y = x$. Bob has decrypted $x$ and stored it to $\\mathsf{B}$. This logic also holds if $x$ is a probabilistic state.\n",
    "\n",
    "So far, this protocol is identical to a classical encryption protocol called the _one-time pad._ Unlike the one-time pad (where only trusted people can know the secret key), in quantum teleportation, there must be _no way of knowing_ what the secret key is. The next step extends the protocol to work for quantum states too.\n",
    "\n",
    "To teleport the phase, Alice first needs to encrypt it as she did with the classical probability. Fortunately, the CNOT gate also does this. This effect is easier to see when writing $|\\phi^+\\rangle$ as $\\tfrac{1}{\\sqrt{2}}(|{+}{+}\\rangle + |{-}{-}\\rangle)$; phase kickback will flip the phase of $\\mathsf{Q}$ if $\\mathsf{A}$ is $|{-}\\rangle$, and do nothing if $\\mathsf{A}$ is $|{+}\\rangle$. When Alice performs a H-gate and measures $\\mathsf{Q}$, she is measuring the relative phase of $|\\psi\\rangle$, encrypted by the phase of $\\mathsf{A}$'s initial state. Since we know $\\mathsf{B}$ must have the same initial phase as $\\mathsf{A}$, Bob can use Alice's measurement to fully recreate $|\\psi\\rangle$ on qubit $\\mathsf{B}$."
   ]
  },
  {
   "cell_type": "markdown",
   "id": "e4a4a26b",
   "metadata": {},
   "source": [
    "## Proof for pure states\n",
    "\n",
    "If the qubit $\\mathsf{Q}$ begins the protocol in the state $\\alpha\\vert 0\\rangle + \\beta\\vert 1\\rangle,$ the state of the three qubits $(\\mathsf{B},\\mathsf{A},\\mathsf{Q})$ together at the start of the protocol is\n",
    "\n",
    "$$\n",
    "\\vert \\phi^+\\rangle \\otimes\n",
    "\\bigl(\\alpha\\vert 0\\rangle + \\beta\\vert 1\\rangle \\bigr)\n",
    "= \\frac{\\alpha \\vert 000 \\rangle + \\alpha \\vert 110\\rangle + \\beta \\vert 001\\rangle + \\beta \\vert 111\\rangle}{\\sqrt{2}}.\n",
    "$$\n",
    "\n",
    "After the controlled-NOT gate, the joint state is\n",
    "\n",
    "$$\n",
    "\\frac{\\alpha \\vert 000 \\rangle + \\alpha \\vert 110\\rangle + \\beta \\vert 011\\rangle + \\beta \\vert 101\\rangle}{\\sqrt{2}}.\n",
    "$$\n",
    "\n",
    "Then the Hadamard gate transforms the joint state into\n",
    "\n",
    "$$\n",
    "\\begin{aligned}\n",
    "&\n",
    "\\frac{\\alpha \\vert 00\\rangle \\vert + \\rangle + \\alpha \\vert 11\\rangle\\vert +\\rangle + \\beta \\vert 01\\rangle\\vert -\\rangle + \\beta \\vert 10\\rangle\\vert -\\rangle}{\\sqrt{2}}\\\\[2mm]\n",
    "& \\qquad = \\frac{\\alpha \\vert 000 \\rangle\n",
    "+ \\alpha \\vert 001 \\rangle\n",
    "+ \\alpha \\vert 110 \\rangle\n",
    "+ \\alpha \\vert 111 \\rangle\n",
    "+ \\beta \\vert 010 \\rangle\n",
    "- \\beta \\vert 011 \\rangle\n",
    "+ \\beta \\vert 100 \\rangle\n",
    "- \\beta \\vert 101 \\rangle}{2}.\n",
    "\\end{aligned}\n",
    "$$\n",
    "\n",
    "We can also write this state as follows:\n",
    "\n",
    "$$\n",
    "\\begin{aligned}\n",
    "& \\frac{1}{2} \\bigl(\\alpha\\vert 0 \\rangle + \\beta \\vert 1\\rangle \\bigr)\\vert 00\\rangle \\\\[1mm]\n",
    "+ & \\frac{1}{2} \\bigl(\\alpha\\vert 0 \\rangle - \\beta \\vert 1\\rangle \\bigr)\\vert 01\\rangle \\\\[1mm]\n",
    "+ & \\frac{1}{2} \\bigl(\\alpha\\vert 1 \\rangle + \\beta \\vert 0\\rangle \\bigr)\\vert 10\\rangle \\\\[1mm]\n",
    "+ & \\frac{1}{2} \\bigl(\\alpha\\vert 1 \\rangle - \\beta \\vert 0\\rangle \\bigr)\\vert 11\\rangle.\n",
    "\\end{aligned}\n",
    "$$\n",
    "\n",
    "Now let's consider the four possible outcomes of Alice's standard basis measurements, together with the actions that Bob performs as a result.\n",
    "\n",
    "#### Possible outcomes\n",
    "\n",
    " - The outcome of Alice's measurement is $ab = 00$ with probability\n",
    "\n",
    "   $$\n",
    "   \\Biggl\\| \\frac{1}{2}\\bigl(\\alpha \\vert 0\\rangle + \\beta\\vert 1\\rangle\\bigr) \\Biggr\\|^2 \n",
    "   = \\frac{\\vert\\alpha\\vert^2 + \\vert\\beta\\vert^2}{4} = \\frac{1}{4},\n",
    "   $$\n",
    "\n",
    "   in which case the state of $(\\mathsf{B},\\mathsf{A},\\mathsf{Q})$ becomes\n",
    "\n",
    "   $$\n",
    "   \\bigl( \\alpha \\vert 0 \\rangle + \\beta \\vert 1 \\rangle \\bigr) \\vert 00 \\rangle.\n",
    "   $$\n",
    "\n",
    "   Bob does nothing in this case, and so this is the final state of these three qubits.\n",
    "\n",
    " - The outcome of Alice's measurement is $ab = 01$ with probability\n",
    "\n",
    "   $$\n",
    "   \\Biggl\\| \\frac{1}{2}\\bigl(\\alpha \\vert 0\\rangle - \\beta\\vert 1\\rangle\\bigr) \\Biggr\\|^2 \n",
    "   = \\frac{\\vert\\alpha\\vert^2 + \\vert{-\\beta}\\vert^2}{4} = \\frac{1}{4},\n",
    "   $$\n",
    "\n",
    "   in which case the state of $(\\mathsf{B},\\mathsf{A},\\mathsf{Q})$ becomes\n",
    "\n",
    "   $$\n",
    "   \\bigl( \\alpha \\vert 0 \\rangle - \\beta \\vert 1 \\rangle \\bigr) \\vert 01 \\rangle.\n",
    "   $$\n",
    "\n",
    "   In this case Bob applies a $Z$ gate to $\\mathsf{B},$ leaving $(\\mathsf{B},\\mathsf{A},\\mathsf{Q})$ in the state\n",
    "\n",
    "   $$\n",
    "   \\bigl( \\alpha \\vert 0 \\rangle + \\beta \\vert 1 \\rangle \\bigr) \\vert 01 \\rangle.\n",
    "   $$\n",
    "\n",
    " - The outcome of Alice's measurement is $ab = 10$ with probability\n",
    "\n",
    "   $$\n",
    "   \\Biggl\\| \\frac{1}{2}\\bigl(\\alpha \\vert 1\\rangle + \\beta\\vert 0\\rangle\\bigr) \\Biggr\\|^2 \n",
    "   = \\frac{\\vert\\alpha\\vert^2 + \\vert\\beta\\vert^2}{4} = \\frac{1}{4},\n",
    "   $$\n",
    "\n",
    "   in which case the state of $(\\mathsf{B},\\mathsf{A},\\mathsf{Q})$ becomes\n",
    "\n",
    "   $$\n",
    "   \\bigl( \\alpha \\vert 1 \\rangle + \\beta \\vert 0 \\rangle \\bigr) \\vert 10 \\rangle.\n",
    "   $$\n",
    "\n",
    "   In this case, Bob applies an $X$ gate to the qubit $\\mathsf{B},$ leaving $(\\mathsf{B},\\mathsf{A},\\mathsf{Q})$ in the state\n",
    "\n",
    "   $$\n",
    "   \\bigl( \\alpha \\vert 0 \\rangle + \\beta \\vert 1 \\rangle \\bigr) \\vert 10 \\rangle.\n",
    "   $$\n",
    "\n",
    " - The outcome of Alice's measurement is $ab = 11$ with probability\n",
    "\n",
    "   $$\n",
    "   \\Biggl\\| \\frac{1}{2}\\bigl(\\alpha \\vert 1\\rangle - \\beta\\vert 0\\rangle\\bigr) \\Biggr\\|^2 \n",
    "   = \\frac{\\vert\\alpha\\vert^2 + \\vert{-\\beta}\\vert^2}{4} = \\frac{1}{4},\n",
    "   $$\n",
    "\n",
    "   in which case the state of $(\\mathsf{B},\\mathsf{A},\\mathsf{Q})$ becomes\n",
    "\n",
    "   $$\n",
    "   \\bigl( \\alpha \\vert 1 \\rangle - \\beta \\vert 0 \\rangle \\bigr) \\vert 11 \\rangle.\n",
    "   $$\n",
    "\n",
    "   In this case, Bob performs the operation $ZX$ on the qubit $\\mathsf{B},$ leaving $(\\mathsf{B},\\mathsf{A},\\mathsf{Q})$ in the state\n",
    "\n",
    "   $$\n",
    "   \\bigl( \\alpha \\vert 0 \\rangle + \\beta \\vert 1 \\rangle \\bigr) \\vert 11 \\rangle.\n",
    "   $$\n",
    "\n",
    "We now see, in all four cases, that Bob's qubit $\\mathsf{B}$ is left in the state\n",
    "$\\alpha\\vert 0\\rangle + \\beta\\vert 1\\rangle$ at the end of the protocol, which is the initial state of the qubit $\\mathsf{Q}.$\n",
    "This is what we wanted to show: the teleportation protocol has worked correctly in the case at hand.\n",
    "\n",
    "The analysis can be extended to the situation in which $\\mathsf{Q}$ is initially entangled with one or more other systems."
   ]
  },
  {
   "cell_type": "markdown",
   "id": "af7b0ed3",
   "metadata": {},
   "source": [
    "## Qiskit implementation\n",
    "\n",
    "The following cell creates a quantum circuit that carries out the teleportation protocol."
   ]
  },
  {
   "cell_type": "code",
   "execution_count": 1,
   "id": "8c2860c2",
   "metadata": {},
   "outputs": [
    {
     "data": {
      "image/svg+xml": [
       "<?xml version=\"1.0\" encoding=\"UTF-8\"?><!DOCTYPE svg  PUBLIC '-//W3C//DTD SVG 1.1//EN'  'http://www.w3.org/Graphics/SVG/1.1/DTD/svg11.dtd'><svg width=\"675.9pt\" height=\"264.71pt\" version=\"1.1\" viewBox=\"0 0 675.9 264.71\" xmlns=\"http://www.w3.org/2000/svg\" xmlns:xlink=\"http://www.w3.org/1999/xlink\"><defs><style type=\"text/css\">*{stroke-linejoin: round; stroke-linecap: butt}</style></defs><path d=\"m0 264.71h675.9v-264.71h-675.9z\" fill=\"#ffffff\"/><path d=\"m353.96 172.8h12.052l-6.026 8.6914z\" clip-path=\"url(#p519f699b46)\" fill=\"#778899\"/><path d=\"m400.31 219.15h12.052l-6.026 8.6914z\" clip-path=\"url(#p519f699b46)\" fill=\"#778899\"/><path d=\"m56.832 44.283h607.24\" clip-path=\"url(#p519f699b46)\" fill=\"none\" stroke=\"#000000\" stroke-linecap=\"square\" stroke-width=\"2\"/><path d=\"m56.832 90.637h607.24\" clip-path=\"url(#p519f699b46)\" fill=\"none\" stroke=\"#000000\" stroke-linecap=\"square\" stroke-width=\"2\"/><path d=\"m56.832 136.99h607.24\" clip-path=\"url(#p519f699b46)\" fill=\"none\" stroke=\"#000000\" stroke-linecap=\"square\" stroke-width=\"2\"/><path d=\"m56.832 181.84h607.24\" clip-path=\"url(#p519f699b46)\" fill=\"none\" stroke=\"#778899\" stroke-linecap=\"square\" stroke-width=\"2\"/><path d=\"m56.832 184.85h607.24\" clip-path=\"url(#p519f699b46)\" fill=\"none\" stroke=\"#778899\" stroke-linecap=\"square\" stroke-width=\"2\"/><path d=\"m56.832 228.19h607.24\" clip-path=\"url(#p519f699b46)\" fill=\"none\" stroke=\"#778899\" stroke-linecap=\"square\" stroke-width=\"2\"/><path d=\"m56.832 231.21h607.24\" clip-path=\"url(#p519f699b46)\" fill=\"none\" stroke=\"#778899\" stroke-linecap=\"square\" stroke-width=\"2\"/><path d=\"m128.22 136.99v-46.354\" clip-path=\"url(#p519f699b46)\" fill=\"none\" stroke=\"#1192e8\" stroke-linecap=\"square\" stroke-width=\"2\"/><path d=\"m165.53 67.46h18.078v-46.354h-18.078z\" clip-path=\"url(#p519f699b46)\" fill=\"#bdbdbd\" opacity=\".6\"/><path d=\"m165.53 113.81h18.078v-46.354h-18.078z\" clip-path=\"url(#p519f699b46)\" fill=\"#bdbdbd\" opacity=\".6\"/><path d=\"m165.53 160.17h18.078v-46.354h-18.078z\" clip-path=\"url(#p519f699b46)\" fill=\"#bdbdbd\" opacity=\".6\"/><path d=\"m220.92 90.637v-46.354\" clip-path=\"url(#p519f699b46)\" fill=\"none\" stroke=\"#1192e8\" stroke-linecap=\"square\" stroke-width=\"2\"/><path d=\"m304.59 67.46h18.078v-46.354h-18.078z\" clip-path=\"url(#p519f699b46)\" fill=\"#bdbdbd\" opacity=\".6\"/><path d=\"m304.59 113.81h18.078v-46.354h-18.078z\" clip-path=\"url(#p519f699b46)\" fill=\"#bdbdbd\" opacity=\".6\"/><path d=\"m304.59 160.17h18.078v-46.354h-18.078z\" clip-path=\"url(#p519f699b46)\" fill=\"#bdbdbd\" opacity=\".6\"/><path d=\"m361.49 90.637v82.162\" clip-path=\"url(#p519f699b46)\" fill=\"none\" stroke=\"#778899\" stroke-linecap=\"square\" stroke-width=\"2\"/><path d=\"m358.48 90.637v82.162\" clip-path=\"url(#p519f699b46)\" fill=\"none\" stroke=\"#778899\" stroke-linecap=\"square\" stroke-width=\"2\"/><path d=\"m407.85 44.283v174.87\" clip-path=\"url(#p519f699b46)\" fill=\"none\" stroke=\"#778899\" stroke-linecap=\"square\" stroke-width=\"2\"/><path d=\"m404.83 44.283v174.87\" clip-path=\"url(#p519f699b46)\" fill=\"none\" stroke=\"#778899\" stroke-linecap=\"square\" stroke-width=\"2\"/><path d=\"m443.66 67.46h18.078v-46.354h-18.078z\" clip-path=\"url(#p519f699b46)\" fill=\"#bdbdbd\" opacity=\".6\"/><path d=\"m443.66 113.81h18.078v-46.354h-18.078z\" clip-path=\"url(#p519f699b46)\" fill=\"#bdbdbd\" opacity=\".6\"/><path d=\"m443.66 160.17h18.078v-46.354h-18.078z\" clip-path=\"url(#p519f699b46)\" fill=\"#bdbdbd\" opacity=\".6\"/><path d=\"m523.73 136.99v46.354\" clip-path=\"url(#p519f699b46)\" fill=\"none\" stroke=\"#778899\" stroke-linecap=\"square\" stroke-width=\"2\"/><path d=\"m520.72 136.99v46.354\" clip-path=\"url(#p519f699b46)\" fill=\"none\" stroke=\"#778899\" stroke-linecap=\"square\" stroke-width=\"2\"/><path d=\"m616.44 136.99v92.708\" clip-path=\"url(#p519f699b46)\" fill=\"none\" stroke=\"#778899\" stroke-linecap=\"square\" stroke-width=\"2\"/><path d=\"m613.43 136.99v92.708\" clip-path=\"url(#p519f699b46)\" fill=\"none\" stroke=\"#778899\" stroke-linecap=\"square\" stroke-width=\"2\"/><path d=\"m66.798 105.7h30.13v-30.13h-30.13z\" clip-path=\"url(#p519f699b46)\" fill=\"#1192e8\" stroke=\"#1192e8\" stroke-width=\"1.5\"/><path d=\"m128.22 95.157c1.1986 0 2.3482-0.4762 3.1958-1.3237 0.84753-0.84753 1.3237-1.9972 1.3237-3.1958s-0.4762-2.3482-1.3237-3.1958c-0.84753-0.84753-1.9972-1.3237-3.1958-1.3237-1.1986 0-2.3482 0.4762-3.1958 1.3237-0.84753 0.84753-1.3237 1.9972-1.3237 3.1958s0.4762 2.3482 1.3237 3.1958c0.84753 0.84753 1.9972 1.3237 3.1958 1.3237z\" clip-path=\"url(#p519f699b46)\" fill=\"#1192e8\" stroke=\"#1192e8\" stroke-width=\"1.5\"/><path d=\"m128.22 147.54c2.7967 0 5.4792-1.1111 7.4568-3.0887 1.9776-1.9776 3.0887-4.6601 3.0887-7.4568 0-2.7967-1.1111-5.4792-3.0887-7.4568s-4.6601-3.0887-7.4568-3.0887c-2.7967 0-5.4792 1.1111-7.4568 3.0887-1.9776 1.9776-3.0887 4.6601-3.0887 7.4568 0 2.7967 1.1111 5.4792 3.0887 7.4568 1.9776 1.9776 4.6601 3.0887 7.4568 3.0887z\" clip-path=\"url(#p519f699b46)\" fill=\"#1192e8\" stroke=\"#1192e8\" stroke-width=\"2\"/><path d=\"m220.92 48.803c1.1986 0 2.3482-0.4762 3.1958-1.3237s1.3237-1.9972 1.3237-3.1958c0-1.1986-0.4762-2.3482-1.3237-3.1958s-1.9972-1.3237-3.1958-1.3237c-1.1986 0-2.3482 0.4762-3.1958 1.3237s-1.3237 1.9972-1.3237 3.1958c0 1.1986 0.4762 2.3482 1.3237 3.1958s1.9972 1.3237 3.1958 1.3237z\" clip-path=\"url(#p519f699b46)\" fill=\"#1192e8\" stroke=\"#1192e8\" stroke-width=\"1.5\"/><path d=\"m220.92 101.18c2.7967 0 5.4792-1.1111 7.4568-3.0887 1.9776-1.9776 3.0887-4.6601 3.0887-7.4568 0-2.7967-1.1111-5.4792-3.0887-7.4568-1.9776-1.9776-4.6601-3.0887-7.4568-3.0887-2.7967 0-5.4792 1.1111-7.4568 3.0887-1.9776 1.9776-3.0887 4.6601-3.0887 7.4568 0 2.7967 1.1111 5.4792 3.0887 7.4568 1.9776 1.9776 4.6601 3.0887 7.4568 3.0887z\" clip-path=\"url(#p519f699b46)\" fill=\"#1192e8\" stroke=\"#1192e8\" stroke-width=\"2\"/><path d=\"m252.21 59.348h30.13v-30.13h-30.13z\" clip-path=\"url(#p519f699b46)\" fill=\"#1192e8\" stroke=\"#1192e8\" stroke-width=\"1.5\"/><path d=\"m344.92 105.7h30.13v-30.13h-30.13z\" clip-path=\"url(#p519f699b46)\" fill=\"#121619\" stroke=\"#121619\" stroke-width=\"1.5\"/><path d=\"m370.53 95.157c0-2.7958-1.1118-5.4799-3.0887-7.4568s-4.661-3.0887-7.4568-3.0887-5.4799 1.1118-7.4568 3.0887c-1.9769 1.9769-3.0887 4.661-3.0887 7.4568\" clip-path=\"url(#p519f699b46)\" fill=\"none\" stroke=\"#ffffff\" stroke-width=\"2\"/><path d=\"m359.99 95.157 10.546-10.546\" clip-path=\"url(#p519f699b46)\" fill=\"none\" stroke=\"#ffffff\" stroke-linecap=\"square\" stroke-width=\"2\"/><path d=\"m391.28 59.348h30.13v-30.13h-30.13z\" clip-path=\"url(#p519f699b46)\" fill=\"#121619\" stroke=\"#121619\" stroke-width=\"1.5\"/><path d=\"m416.89 48.803c0-2.7958-1.1118-5.4799-3.0887-7.4568s-4.661-3.0887-7.4568-3.0887-5.4799 1.1118-7.4568 3.0887-3.0887 4.661-3.0887 7.4568\" clip-path=\"url(#p519f699b46)\" fill=\"none\" stroke=\"#ffffff\" stroke-width=\"2\"/><path d=\"m406.34 48.803 10.546-10.546\" clip-path=\"url(#p519f699b46)\" fill=\"none\" stroke=\"#ffffff\" stroke-linecap=\"square\" stroke-width=\"2\"/><path d=\"m522.23 187.86c1.1986 0 2.3482-0.4762 3.1958-1.3237 0.84753-0.84753 1.3237-1.9972 1.3237-3.1958 0-1.1986-0.4762-2.3482-1.3237-3.1958s-1.9972-1.3237-3.1958-1.3237c-1.1986 0-2.3482 0.4762-3.1958 1.3237s-1.3237 1.9972-1.3237 3.1958c0 1.1986 0.4762 2.3482 1.3237 3.1958 0.84753 0.84753 1.9972 1.3237 3.1958 1.3237z\" clip-path=\"url(#p519f699b46)\" stroke=\"#000000\" stroke-width=\"1.5\"/><path d=\"m495.2 198.41h54.058v-76.484h-54.058z\" clip-path=\"url(#p519f699b46)\" fill=\"#6929c4\" stroke=\"#6929c4\" stroke-width=\"1.5\"/><path d=\"m614.93 234.22c1.1986 0 2.3482-0.4762 3.1958-1.3237 0.84753-0.84753 1.3237-1.9972 1.3237-3.1958s-0.4762-2.3482-1.3237-3.1958c-0.84753-0.84753-1.9972-1.3237-3.1958-1.3237-1.1986 0-2.3482 0.4762-3.1958 1.3237-0.84753 0.84753-1.3237 1.9972-1.3237 3.1958s0.4762 2.3482 1.3237 3.1958c0.84753 0.84753 1.9972 1.3237 3.1958 1.3237z\" clip-path=\"url(#p519f699b46)\" stroke=\"#000000\" stroke-width=\"1.5\"/><path d=\"m587.9 244.76h54.058v-122.84h-54.058z\" clip-path=\"url(#p519f699b46)\" fill=\"#6929c4\" stroke=\"#6929c4\" stroke-width=\"1.5\"/><g clip-path=\"url(#p519f699b46)\"><g transform=\"translate(34.723 48.767) scale(.1625 -.1625)\"><defs><path id=\"DejaVuSans-Oblique-51\" transform=\"scale(.015625)\" d=\"m2309-84q-34-4-72-5-37-2-112-2-875 0-1369 502-493 502-493 1386 0 522 189 1047t526 944q391 481 880 721 489 241 1080 241 856 0 1349-505 494-504 494-1376 0-941-516-1722-515-781-1346-1103l634-869h-706l-538 741zm610 4322q-519 0-916-252t-690-767q-188-328-287-697-98-369-98-744 0-650 311-1003t880-353q512 0 913 254 402 255 687 758 190 338 290 708 100 371 100 739 0 647-313 1002-312 355-877 355z\"/></defs><use transform=\"translate(0 .78125)\" xlink:href=\"#DejaVuSans-Oblique-51\"/></g></g><g clip-path=\"url(#p519f699b46)\"><g transform=\"translate(36.348 95.121) scale(.1625 -.1625)\"><defs><path id=\"DejaVuSans-Oblique-41\" transform=\"scale(.015625)\" d=\"m2356 4666h716l866-4666h-660l-194 1197h-2100l-659-1197h-666l2697 4666zm228-622-1309-2322h1713l-404 2322z\"/></defs><use transform=\"translate(0 .09375)\" xlink:href=\"#DejaVuSans-Oblique-41\"/></g></g><g clip-path=\"url(#p519f699b46)\"><g transform=\"translate(36.348 141.48) scale(.1625 -.1625)\"><defs><path id=\"DejaVuSans-Oblique-42\" transform=\"scale(.015625)\" d=\"m1081 4666h1613q656 0 981-244t325-734q0-450-280-777-279-327-732-395 387-88 581-335t194-659q0-703-521-1113-520-409-1423-409h-1647l909 4666zm153-2438-331-1709h1016q572 0 881 262 309 263 309 741 0 369-205 537-204 169-657 169h-1013zm372 1919-275-1406h941q503 0 786 218 283 219 283 607 0 303-191 442t-609 139h-935z\"/></defs><use transform=\"translate(0 .09375)\" xlink:href=\"#DejaVuSans-Oblique-42\"/></g></g><g clip-path=\"url(#p519f699b46)\"><g transform=\"translate(37.486 187.83) scale(.1625 -.1625)\"><defs><path id=\"DejaVuSans-Oblique-61\" transform=\"scale(.015625)\" d=\"m3438 1997-391-1997h-575l106 531q-253-312-577-467-323-155-720-155-447 0-733 273-285 274-285 702 0 613 489 969t1348 356h800l31 154q7 25 10 54 3 30 3 92 0 279-227 433-226 155-636 155-281 0-577-72-295-72-607-216l100 532q325 122 636 182 311 61 601 61 619 0 942-269 324-268 324-781 0-103-16-242-15-139-46-295zm-622-238h-575q-707 0-1046-189t-339-586q0-275 173-431 174-156 480-156 469 0 819 336t463 898l25 128z\"/></defs><use xlink:href=\"#DejaVuSans-Oblique-61\"/></g></g><g clip-path=\"url(#p519f699b46)\"><g transform=\"translate(37.161 234.18) scale(.1625 -.1625)\"><defs><path id=\"DejaVuSans-Oblique-62\" transform=\"scale(.015625)\" d=\"m3169 2138q0 453-208 709t-573 256q-266 0-499-130-233-129-405-376-181-259-286-602-104-342-104-682 0-432 204-677 205-245 565-245 271 0 502 126 232 127 407 374 178 256 287 596 110 341 110 651zm-1788 831q213 287 533 451t670 164q538 0 855-363 317-362 317-980 0-507-186-982t-529-843q-225-244-519-376-294-131-616-131-340 0-590 156-250 157-407 466l-103-531h-575l947 4863h575l-372-1894z\"/></defs><use transform=\"translate(0 .015625)\" xlink:href=\"#DejaVuSans-Oblique-62\"/></g></g><g clip-path=\"url(#p519f699b46)\"><g transform=\"translate(76.975 94.224) scale(.13 -.13)\" fill=\"#ffffff\"><defs><path id=\"DejaVuSans-48\" transform=\"scale(.015625)\" d=\"m628 4666h631v-1913h2294v1913h631v-4666h-631v2222h-2294v-2222h-631v4666z\"/></defs><use xlink:href=\"#DejaVuSans-48\"/></g></g><path d=\"m128.22 143.02v-12.052\" clip-path=\"url(#p519f699b46)\" fill=\"none\" stroke=\"#ffffff\" stroke-linecap=\"square\" stroke-width=\"2\"/><path d=\"m122.19 136.99h12.052\" clip-path=\"url(#p519f699b46)\" fill=\"none\" stroke=\"#ffffff\" stroke-linecap=\"square\" stroke-width=\"2\"/><path d=\"m174.57 21.106v46.354\" clip-path=\"url(#p519f699b46)\" fill=\"none\" stroke=\"#000000\" stroke-dasharray=\"3.7,1.6\"/><path d=\"m174.57 67.46v46.354\" clip-path=\"url(#p519f699b46)\" fill=\"none\" stroke=\"#000000\" stroke-dasharray=\"3.7,1.6\"/><path d=\"m174.57 113.81v46.354\" clip-path=\"url(#p519f699b46)\" fill=\"none\" stroke=\"#000000\" stroke-dasharray=\"3.7,1.6\"/><path d=\"m220.92 96.663v-12.052\" clip-path=\"url(#p519f699b46)\" fill=\"none\" stroke=\"#ffffff\" stroke-linecap=\"square\" stroke-width=\"2\"/><path d=\"m214.9 90.637h12.052\" clip-path=\"url(#p519f699b46)\" fill=\"none\" stroke=\"#ffffff\" stroke-linecap=\"square\" stroke-width=\"2\"/><g clip-path=\"url(#p519f699b46)\"><g transform=\"translate(262.39 47.87) scale(.13 -.13)\" fill=\"#ffffff\"><use xlink:href=\"#DejaVuSans-48\"/></g></g><path d=\"m313.63 21.106v46.354\" clip-path=\"url(#p519f699b46)\" fill=\"none\" stroke=\"#000000\" stroke-dasharray=\"3.7,1.6\"/><path d=\"m313.63 67.46v46.354\" clip-path=\"url(#p519f699b46)\" fill=\"none\" stroke=\"#000000\" stroke-dasharray=\"3.7,1.6\"/><path d=\"m313.63 113.81v46.354\" clip-path=\"url(#p519f699b46)\" fill=\"none\" stroke=\"#000000\" stroke-dasharray=\"3.7,1.6\"/><path d=\"m452.69 21.106v46.354\" clip-path=\"url(#p519f699b46)\" fill=\"none\" stroke=\"#000000\" stroke-dasharray=\"3.7,1.6\"/><path d=\"m452.69 67.46v46.354\" clip-path=\"url(#p519f699b46)\" fill=\"none\" stroke=\"#000000\" stroke-dasharray=\"3.7,1.6\"/><path d=\"m452.69 113.81v46.354\" clip-path=\"url(#p519f699b46)\" fill=\"none\" stroke=\"#000000\" stroke-dasharray=\"3.7,1.6\"/><g clip-path=\"url(#p519f699b46)\"><g transform=\"translate(514.77 198.46) scale(.08 -.08)\"><defs><path id=\"DejaVuSans-30\" transform=\"scale(.015625)\" d=\"m2034 4250q-487 0-733-480-245-479-245-1442 0-959 245-1439 246-480 733-480 491 0 736 480 246 480 246 1439 0 963-246 1442-245 480-736 480zm0 500q785 0 1199-621 414-620 414-1801 0-1178-414-1799-414-620-1199-620-784 0-1198 620-414 621-414 1799 0 1181 414 1801 414 621 1198 621z\"/><path id=\"DejaVuSans-78\" transform=\"scale(.015625)\" d=\"m3513 3500-1266-1703 1331-1797h-678l-1019 1375-1018-1375h-679l1360 1831-1244 1669h678l928-1247 928 1247h679z\"/><path id=\"DejaVuSans-31\" transform=\"scale(.015625)\" d=\"m794 531h1031v3560l-1122-225v575l1116 225h631v-4135h1031v-531h-2687v531z\"/></defs><use xlink:href=\"#DejaVuSans-30\"/><use x=\"63.623047\" xlink:href=\"#DejaVuSans-78\"/><use x=\"122.802734\" xlink:href=\"#DejaVuSans-31\"/></g></g><g clip-path=\"url(#p519f699b46)\"><g transform=\"translate(498.44 140.58) scale(.13 -.13)\" fill=\"#ffffff\"><use xlink:href=\"#DejaVuSans-30\"/></g></g><g clip-path=\"url(#p519f699b46)\"><g transform=\"translate(498.44 186.93) scale(.13 -.13)\" fill=\"#ffffff\"><use xlink:href=\"#DejaVuSans-30\"/></g></g><g clip-path=\"url(#p519f699b46)\"><g transform=\"translate(506.68 163.57) scale(.13 -.13)\" fill=\"#ffffff\"><defs><path id=\"DejaVuSans-49\" transform=\"scale(.015625)\" d=\"m628 4666h631v-4666h-631v4666z\"/><path id=\"DejaVuSans-66\" transform=\"scale(.015625)\" d=\"m2375 4863v-479h-550q-309 0-430-125-120-125-120-450v-309h947v-447h-947v-3053h-578v3053h-550v447h550v244q0 584 272 851 272 268 862 268h544z\"/><path id=\"DejaVuSans-5f\" transform=\"scale(.015625)\" d=\"m3263-1063v-446h-3326v446h3326z\"/><path id=\"DejaVuSans-65\" transform=\"scale(.015625)\" d=\"m3597 1894v-281h-2644q38-594 358-905t892-311q331 0 642 81t618 244v-544q-310-131-635-200t-659-69q-838 0-1327 487-489 488-489 1320 0 859 464 1363 464 505 1252 505 706 0 1117-455 411-454 411-1235zm-575 169q-6 471-264 752-258 282-683 282-481 0-770-272t-333-766l2050 4z\"/><path id=\"DejaVuSans-6c\" transform=\"scale(.015625)\" d=\"m603 4863h575v-4863h-575v4863z\"/><path id=\"DejaVuSans-73\" transform=\"scale(.015625)\" d=\"m2834 3397v-544q-243 125-506 187-262 63-544 63-428 0-642-131t-214-394q0-200 153-314t616-217l197-44q612-131 870-370t258-667q0-488-386-773-386-284-1061-284-281 0-586 55t-642 164v594q319-166 628-249 309-82 613-82 406 0 624 139 219 139 219 392 0 234-158 359-157 125-692 241l-200 47q-534 112-772 345-237 233-237 639 0 494 350 762 350 269 994 269 318 0 599-47 282-46 519-140z\"/></defs><use xlink:href=\"#DejaVuSans-49\"/><use x=\"29.492188\" xlink:href=\"#DejaVuSans-66\"/><use x=\"64.697266\" xlink:href=\"#DejaVuSans-5f\"/><use x=\"114.697266\" xlink:href=\"#DejaVuSans-65\"/><use x=\"176.220703\" xlink:href=\"#DejaVuSans-6c\"/><use x=\"204.003906\" xlink:href=\"#DejaVuSans-73\"/><use x=\"256.103516\" xlink:href=\"#DejaVuSans-65\"/></g></g><g clip-path=\"url(#p519f699b46)\"><g transform=\"translate(607.48 244.82) scale(.08 -.08)\"><use xlink:href=\"#DejaVuSans-30\"/><use x=\"63.623047\" xlink:href=\"#DejaVuSans-78\"/><use x=\"122.802734\" xlink:href=\"#DejaVuSans-31\"/></g></g><g clip-path=\"url(#p519f699b46)\"><g transform=\"translate(591.15 140.58) scale(.13 -.13)\" fill=\"#ffffff\"><use xlink:href=\"#DejaVuSans-30\"/></g></g><g clip-path=\"url(#p519f699b46)\"><g transform=\"translate(591.15 233.29) scale(.13 -.13)\" fill=\"#ffffff\"><use xlink:href=\"#DejaVuSans-30\"/></g></g><g clip-path=\"url(#p519f699b46)\"><g transform=\"translate(599.39 186.75) scale(.13 -.13)\" fill=\"#ffffff\"><use xlink:href=\"#DejaVuSans-49\"/><use x=\"29.492188\" xlink:href=\"#DejaVuSans-66\"/><use x=\"64.697266\" xlink:href=\"#DejaVuSans-5f\"/><use x=\"114.697266\" xlink:href=\"#DejaVuSans-65\"/><use x=\"176.220703\" xlink:href=\"#DejaVuSans-6c\"/><use x=\"204.003906\" xlink:href=\"#DejaVuSans-73\"/><use x=\"256.103516\" xlink:href=\"#DejaVuSans-65\"/></g></g><defs><clipPath id=\"p519f699b46\"><rect x=\"7.2\" y=\"7.2\" width=\"661.5\" height=\"250.31\"/></clipPath></defs></svg>"
      ],
      "text/plain": [
       "<Figure size 1193.19x451.5 with 1 Axes>"
      ]
     },
     "execution_count": 1,
     "metadata": {},
     "output_type": "execute_result"
    }
   ],
   "source": [
    "from qiskit import QuantumCircuit, QuantumRegister, ClassicalRegister\n",
    "\n",
    "# pylint: disable=invalid-name, not-context-manager\n",
    "qubit = QuantumRegister(1, \"Q\")\n",
    "ebit0 = QuantumRegister(1, \"A\")\n",
    "ebit1 = QuantumRegister(1, \"B\")\n",
    "a = ClassicalRegister(1, \"a\")\n",
    "b = ClassicalRegister(1, \"b\")\n",
    "\n",
    "protocol = QuantumCircuit(qubit, ebit0, ebit1, a, b)\n",
    "\n",
    "# Prepare ebit used for teleportation\n",
    "protocol.h(ebit0)\n",
    "protocol.cx(ebit0, ebit1)\n",
    "protocol.barrier()\n",
    "\n",
    "# Alice's operations\n",
    "protocol.cx(qubit, ebit0)\n",
    "protocol.h(qubit)\n",
    "protocol.barrier()\n",
    "\n",
    "# Alice measures and sends classical bits to Bob\n",
    "protocol.measure(ebit0, a)\n",
    "protocol.measure(qubit, b)\n",
    "protocol.barrier()\n",
    "\n",
    "# Bob uses the classical bits to conditionally apply gates\n",
    "with protocol.if_test((a, 1)):\n",
    "    protocol.x(ebit1)\n",
    "with protocol.if_test((b, 1)):\n",
    "    protocol.z(ebit1)\n",
    "\n",
    "protocol.draw()"
   ]
  },
  {
   "cell_type": "markdown",
   "id": "26fad35a",
   "metadata": {},
   "source": [
    "To test that the protocol works correctly, let's try teleporting an entangled qubit.\n",
    "\n",
    "We'll create a circuit including a new qubit, $\\mathsf{R}$, compose it with our protocol, and then add gates and measurements to perform the test."
   ]
  },
  {
   "cell_type": "code",
   "execution_count": 2,
   "id": "315d0685",
   "metadata": {},
   "outputs": [
    {
     "data": {
      "image/svg+xml": [
       "<?xml version=\"1.0\" encoding=\"UTF-8\"?><!DOCTYPE svg  PUBLIC '-//W3C//DTD SVG 1.1//EN'  'http://www.w3.org/Graphics/SVG/1.1/DTD/svg11.dtd'><svg width=\"1073pt\" height=\"357.42pt\" version=\"1.1\" viewBox=\"0 0 1073 357.42\" xmlns=\"http://www.w3.org/2000/svg\" xmlns:xlink=\"http://www.w3.org/1999/xlink\"><defs><style type=\"text/css\">*{stroke-linejoin: round; stroke-linecap: butt}</style></defs><path d=\"m0 357.42h1073v-357.42h-1073z\" fill=\"#ffffff\"/><path d=\"m565.65 219.15h12.052l-6.026 8.6914z\" clip-path=\"url(#p3a273e4664)\" fill=\"#778899\"/><path d=\"m612 265.51h12.052l-6.026 8.6914z\" clip-path=\"url(#p3a273e4664)\" fill=\"#778899\"/><path d=\"m1029.2 311.86h12.052l-6.026 8.6914z\" clip-path=\"url(#p3a273e4664)\" fill=\"#778899\"/><path d=\"m129.46 44.283h931.72\" clip-path=\"url(#p3a273e4664)\" fill=\"none\" stroke=\"#000000\" stroke-linecap=\"square\" stroke-width=\"2\"/><path d=\"m129.46 90.637h931.72\" clip-path=\"url(#p3a273e4664)\" fill=\"none\" stroke=\"#000000\" stroke-linecap=\"square\" stroke-width=\"2\"/><path d=\"m129.46 136.99h931.72\" clip-path=\"url(#p3a273e4664)\" fill=\"none\" stroke=\"#000000\" stroke-linecap=\"square\" stroke-width=\"2\"/><path d=\"m129.46 183.35h931.72\" clip-path=\"url(#p3a273e4664)\" fill=\"none\" stroke=\"#000000\" stroke-linecap=\"square\" stroke-width=\"2\"/><path d=\"m129.46 228.19h931.72\" clip-path=\"url(#p3a273e4664)\" fill=\"none\" stroke=\"#778899\" stroke-linecap=\"square\" stroke-width=\"2\"/><path d=\"m129.46 231.21h931.72\" clip-path=\"url(#p3a273e4664)\" fill=\"none\" stroke=\"#778899\" stroke-linecap=\"square\" stroke-width=\"2\"/><path d=\"m129.46 274.55h931.72\" clip-path=\"url(#p3a273e4664)\" fill=\"none\" stroke=\"#778899\" stroke-linecap=\"square\" stroke-width=\"2\"/><path d=\"m129.46 277.56h931.72\" clip-path=\"url(#p3a273e4664)\" fill=\"none\" stroke=\"#778899\" stroke-linecap=\"square\" stroke-width=\"2\"/><path d=\"m129.46 320.9h931.72\" clip-path=\"url(#p3a273e4664)\" fill=\"none\" stroke=\"#778899\" stroke-linecap=\"square\" stroke-width=\"2\"/><path d=\"m129.46 323.91h931.72\" clip-path=\"url(#p3a273e4664)\" fill=\"none\" stroke=\"#778899\" stroke-linecap=\"square\" stroke-width=\"2\"/><path d=\"m200.84 90.637v-46.354\" clip-path=\"url(#p3a273e4664)\" fill=\"none\" stroke=\"#1192e8\" stroke-linecap=\"square\" stroke-width=\"2\"/><path d=\"m238.16 67.46h18.078v-46.354h-18.078z\" clip-path=\"url(#p3a273e4664)\" fill=\"#bdbdbd\" opacity=\".6\"/><path d=\"m238.16 113.81h18.078v-46.354h-18.078z\" clip-path=\"url(#p3a273e4664)\" fill=\"#bdbdbd\" opacity=\".6\"/><path d=\"m238.16 160.17h18.078v-46.354h-18.078z\" clip-path=\"url(#p3a273e4664)\" fill=\"#bdbdbd\" opacity=\".6\"/><path d=\"m238.16 206.52h18.078v-46.354h-18.078z\" clip-path=\"url(#p3a273e4664)\" fill=\"#bdbdbd\" opacity=\".6\"/><path d=\"m339.9 183.35v-46.354\" clip-path=\"url(#p3a273e4664)\" fill=\"none\" stroke=\"#1192e8\" stroke-linecap=\"square\" stroke-width=\"2\"/><path d=\"m377.22 113.81h18.078v-46.354h-18.078z\" clip-path=\"url(#p3a273e4664)\" fill=\"#bdbdbd\" opacity=\".6\"/><path d=\"m377.22 160.17h18.078v-46.354h-18.078z\" clip-path=\"url(#p3a273e4664)\" fill=\"#bdbdbd\" opacity=\".6\"/><path d=\"m377.22 206.52h18.078v-46.354h-18.078z\" clip-path=\"url(#p3a273e4664)\" fill=\"#bdbdbd\" opacity=\".6\"/><path d=\"m432.61 136.99v-46.354\" clip-path=\"url(#p3a273e4664)\" fill=\"none\" stroke=\"#1192e8\" stroke-linecap=\"square\" stroke-width=\"2\"/><path d=\"m516.28 113.81h18.078v-46.354h-18.078z\" clip-path=\"url(#p3a273e4664)\" fill=\"#bdbdbd\" opacity=\".6\"/><path d=\"m516.28 160.17h18.078v-46.354h-18.078z\" clip-path=\"url(#p3a273e4664)\" fill=\"#bdbdbd\" opacity=\".6\"/><path d=\"m516.28 206.52h18.078v-46.354h-18.078z\" clip-path=\"url(#p3a273e4664)\" fill=\"#bdbdbd\" opacity=\".6\"/><path d=\"m573.18 136.99v82.162\" clip-path=\"url(#p3a273e4664)\" fill=\"none\" stroke=\"#778899\" stroke-linecap=\"square\" stroke-width=\"2\"/><path d=\"m570.17 136.99v82.162\" clip-path=\"url(#p3a273e4664)\" fill=\"none\" stroke=\"#778899\" stroke-linecap=\"square\" stroke-width=\"2\"/><path d=\"m619.53 90.637v174.87\" clip-path=\"url(#p3a273e4664)\" fill=\"none\" stroke=\"#778899\" stroke-linecap=\"square\" stroke-width=\"2\"/><path d=\"m616.52 90.637v174.87\" clip-path=\"url(#p3a273e4664)\" fill=\"none\" stroke=\"#778899\" stroke-linecap=\"square\" stroke-width=\"2\"/><path d=\"m655.34 113.81h18.078v-46.354h-18.078z\" clip-path=\"url(#p3a273e4664)\" fill=\"#bdbdbd\" opacity=\".6\"/><path d=\"m655.34 160.17h18.078v-46.354h-18.078z\" clip-path=\"url(#p3a273e4664)\" fill=\"#bdbdbd\" opacity=\".6\"/><path d=\"m655.34 206.52h18.078v-46.354h-18.078z\" clip-path=\"url(#p3a273e4664)\" fill=\"#bdbdbd\" opacity=\".6\"/><path d=\"m735.42 183.35v46.354\" clip-path=\"url(#p3a273e4664)\" fill=\"none\" stroke=\"#778899\" stroke-linecap=\"square\" stroke-width=\"2\"/><path d=\"m732.41 183.35v46.354\" clip-path=\"url(#p3a273e4664)\" fill=\"none\" stroke=\"#778899\" stroke-linecap=\"square\" stroke-width=\"2\"/><path d=\"m828.13 183.35v92.708\" clip-path=\"url(#p3a273e4664)\" fill=\"none\" stroke=\"#778899\" stroke-linecap=\"square\" stroke-width=\"2\"/><path d=\"m825.11 183.35v92.708\" clip-path=\"url(#p3a273e4664)\" fill=\"none\" stroke=\"#778899\" stroke-linecap=\"square\" stroke-width=\"2\"/><path d=\"m887.11 67.46h18.078v-46.354h-18.078z\" clip-path=\"url(#p3a273e4664)\" fill=\"#bdbdbd\" opacity=\".6\"/><path d=\"m887.11 113.81h18.078v-46.354h-18.078z\" clip-path=\"url(#p3a273e4664)\" fill=\"#bdbdbd\" opacity=\".6\"/><path d=\"m887.11 160.17h18.078v-46.354h-18.078z\" clip-path=\"url(#p3a273e4664)\" fill=\"#bdbdbd\" opacity=\".6\"/><path d=\"m887.11 206.52h18.078v-46.354h-18.078z\" clip-path=\"url(#p3a273e4664)\" fill=\"#bdbdbd\" opacity=\".6\"/><path d=\"m942.51 183.35v-139.06\" clip-path=\"url(#p3a273e4664)\" fill=\"none\" stroke=\"#1192e8\" stroke-linecap=\"square\" stroke-width=\"2\"/><path d=\"m1036.7 44.283v267.58\" clip-path=\"url(#p3a273e4664)\" fill=\"none\" stroke=\"#778899\" stroke-linecap=\"square\" stroke-width=\"2\"/><path d=\"m1033.7 44.283v267.58\" clip-path=\"url(#p3a273e4664)\" fill=\"none\" stroke=\"#778899\" stroke-linecap=\"square\" stroke-width=\"2\"/><path d=\"m139.42 59.348h30.13v-30.13h-30.13z\" clip-path=\"url(#p3a273e4664)\" fill=\"#1192e8\" stroke=\"#1192e8\" stroke-width=\"1.5\"/><path d=\"m200.84 48.803c1.1986 0 2.3482-0.4762 3.1958-1.3237 0.84753-0.84753 1.3237-1.9972 1.3237-3.1958 0-1.1986-0.4762-2.3482-1.3237-3.1958-0.84753-0.84753-1.9972-1.3237-3.1958-1.3237-1.1986 0-2.3482 0.4762-3.1958 1.3237s-1.3237 1.9972-1.3237 3.1958c0 1.1986 0.4762 2.3482 1.3237 3.1958s1.9972 1.3237 3.1958 1.3237z\" clip-path=\"url(#p3a273e4664)\" fill=\"#1192e8\" stroke=\"#1192e8\" stroke-width=\"1.5\"/><path d=\"m200.84 101.18c2.7967 0 5.4792-1.1111 7.4568-3.0887 1.9776-1.9776 3.0887-4.6601 3.0887-7.4568 0-2.7967-1.1111-5.4792-3.0887-7.4568-1.9776-1.9776-4.6601-3.0887-7.4568-3.0887-2.7967 0-5.4792 1.1111-7.4568 3.0887-1.9776 1.9776-3.0887 4.6601-3.0887 7.4568 0 2.7967 1.1111 5.4792 3.0887 7.4568 1.9776 1.9776 4.6601 3.0887 7.4568 3.0887z\" clip-path=\"url(#p3a273e4664)\" fill=\"#1192e8\" stroke=\"#1192e8\" stroke-width=\"2\"/><path d=\"m278.49 152.06h30.13v-30.13h-30.13z\" clip-path=\"url(#p3a273e4664)\" fill=\"#1192e8\" stroke=\"#1192e8\" stroke-width=\"1.5\"/><path d=\"m339.9 141.51c1.1986 0 2.3482-0.4762 3.1958-1.3237 0.84753-0.84753 1.3237-1.9972 1.3237-3.1958 0-1.1986-0.4762-2.3482-1.3237-3.1958-0.84753-0.84753-1.9972-1.3237-3.1958-1.3237s-2.3482 0.4762-3.1958 1.3237c-0.84753 0.84753-1.3237 1.9972-1.3237 3.1958 0 1.1986 0.4762 2.3482 1.3237 3.1958 0.84753 0.84753 1.9972 1.3237 3.1958 1.3237z\" clip-path=\"url(#p3a273e4664)\" fill=\"#1192e8\" stroke=\"#1192e8\" stroke-width=\"1.5\"/><path d=\"m339.9 193.89c2.7967 0 5.4792-1.1111 7.4568-3.0887 1.9776-1.9776 3.0887-4.6601 3.0887-7.4568 0-2.7967-1.1111-5.4792-3.0887-7.4568-1.9776-1.9776-4.6601-3.0887-7.4568-3.0887-2.7967 0-5.4792 1.1111-7.4568 3.0887-1.9776 1.9776-3.0887 4.6601-3.0887 7.4568 0 2.7967 1.1111 5.4792 3.0887 7.4568 1.9776 1.9776 4.6601 3.0887 7.4568 3.0887z\" clip-path=\"url(#p3a273e4664)\" fill=\"#1192e8\" stroke=\"#1192e8\" stroke-width=\"2\"/><path d=\"m432.61 95.157c1.1986 0 2.3482-0.4762 3.1958-1.3237 0.84753-0.84753 1.3237-1.9972 1.3237-3.1958s-0.4762-2.3482-1.3237-3.1958c-0.84753-0.84753-1.9972-1.3237-3.1958-1.3237-1.1986 0-2.3482 0.4762-3.1958 1.3237-0.84753 0.84753-1.3237 1.9972-1.3237 3.1958s0.4762 2.3482 1.3237 3.1958c0.84753 0.84753 1.9972 1.3237 3.1958 1.3237z\" clip-path=\"url(#p3a273e4664)\" fill=\"#1192e8\" stroke=\"#1192e8\" stroke-width=\"1.5\"/><path d=\"m432.61 147.54c2.7967 0 5.4792-1.1111 7.4568-3.0887 1.9776-1.9776 3.0887-4.6601 3.0887-7.4568 0-2.7967-1.1111-5.4792-3.0887-7.4568s-4.6601-3.0887-7.4568-3.0887c-2.7967 0-5.4792 1.1111-7.4568 3.0887-1.9776 1.9776-3.0887 4.6601-3.0887 7.4568 0 2.7967 1.1111 5.4792 3.0887 7.4568 1.9776 1.9776 4.6601 3.0887 7.4568 3.0887z\" clip-path=\"url(#p3a273e4664)\" fill=\"#1192e8\" stroke=\"#1192e8\" stroke-width=\"2\"/><path d=\"m463.9 105.7h30.13v-30.13h-30.13z\" clip-path=\"url(#p3a273e4664)\" fill=\"#1192e8\" stroke=\"#1192e8\" stroke-width=\"1.5\"/><path d=\"m556.61 152.06h30.13v-30.13h-30.13z\" clip-path=\"url(#p3a273e4664)\" fill=\"#121619\" stroke=\"#121619\" stroke-width=\"1.5\"/><path d=\"m582.22 141.51c0-2.7958-1.1118-5.4799-3.0887-7.4568s-4.661-3.0887-7.4568-3.0887-5.4799 1.1118-7.4568 3.0887-3.0887 4.661-3.0887 7.4568\" clip-path=\"url(#p3a273e4664)\" fill=\"none\" stroke=\"#ffffff\" stroke-width=\"2\"/><path d=\"m571.67 141.51 10.546-10.546\" clip-path=\"url(#p3a273e4664)\" fill=\"none\" stroke=\"#ffffff\" stroke-linecap=\"square\" stroke-width=\"2\"/><path d=\"m602.96 105.7h30.13v-30.13h-30.13z\" clip-path=\"url(#p3a273e4664)\" fill=\"#121619\" stroke=\"#121619\" stroke-width=\"1.5\"/><path d=\"m628.57 95.157c0-2.7958-1.1118-5.4799-3.0887-7.4568-1.9769-1.9769-4.661-3.0887-7.4568-3.0887s-5.4799 1.1118-7.4568 3.0887-3.0887 4.661-3.0887 7.4568\" clip-path=\"url(#p3a273e4664)\" fill=\"none\" stroke=\"#ffffff\" stroke-width=\"2\"/><path d=\"m618.03 95.157 10.546-10.546\" clip-path=\"url(#p3a273e4664)\" fill=\"none\" stroke=\"#ffffff\" stroke-linecap=\"square\" stroke-width=\"2\"/><path d=\"m733.91 234.22c1.1986 0 2.3482-0.4762 3.1958-1.3237 0.84753-0.84753 1.3237-1.9972 1.3237-3.1958s-0.4762-2.3482-1.3237-3.1958c-0.84753-0.84753-1.9972-1.3237-3.1958-1.3237-1.1986 0-2.3482 0.4762-3.1958 1.3237-0.84753 0.84753-1.3237 1.9972-1.3237 3.1958s0.4762 2.3482 1.3237 3.1958c0.84753 0.84753 1.9972 1.3237 3.1958 1.3237z\" clip-path=\"url(#p3a273e4664)\" stroke=\"#000000\" stroke-width=\"1.5\"/><path d=\"m706.88 244.76h54.058v-76.484h-54.058z\" clip-path=\"url(#p3a273e4664)\" fill=\"#6929c4\" stroke=\"#6929c4\" stroke-width=\"1.5\"/><path d=\"m826.62 280.57c1.1986 0 2.3482-0.4762 3.1958-1.3237s1.3237-1.9972 1.3237-3.1958c0-1.1986-0.4762-2.3482-1.3237-3.1958-0.84753-0.84753-1.9972-1.3237-3.1958-1.3237-1.1986 0-2.3482 0.4762-3.1958 1.3237-0.84753 0.84753-1.3237 1.9972-1.3237 3.1958 0 1.1986 0.4762 2.3482 1.3237 3.1958s1.9972 1.3237 3.1958 1.3237z\" clip-path=\"url(#p3a273e4664)\" stroke=\"#000000\" stroke-width=\"1.5\"/><path d=\"m799.59 291.12h54.058v-122.84h-54.058z\" clip-path=\"url(#p3a273e4664)\" fill=\"#6929c4\" stroke=\"#6929c4\" stroke-width=\"1.5\"/><path d=\"m942.51 48.803c1.1986 0 2.3482-0.4762 3.1958-1.3237 0.84753-0.84753 1.3237-1.9972 1.3237-3.1958 0-1.1986-0.4762-2.3482-1.3237-3.1958-0.84753-0.84753-1.9972-1.3237-3.1958-1.3237s-2.3482 0.4762-3.1958 1.3237c-0.84753 0.84753-1.3237 1.9972-1.3237 3.1958 0 1.1986 0.4762 2.3482 1.3237 3.1958 0.84753 0.84753 1.9972 1.3237 3.1958 1.3237z\" clip-path=\"url(#p3a273e4664)\" fill=\"#1192e8\" stroke=\"#1192e8\" stroke-width=\"1.5\"/><path d=\"m942.51 193.89c2.7967 0 5.4792-1.1111 7.4568-3.0887 1.9776-1.9776 3.0887-4.6601 3.0887-7.4568 0-2.7967-1.1111-5.4792-3.0887-7.4568-1.9776-1.9776-4.6601-3.0887-7.4568-3.0887-2.7967 0-5.4792 1.1111-7.4568 3.0887-1.9776 1.9776-3.0887 4.6601-3.0887 7.4568 0 2.7967 1.1111 5.4792 3.0887 7.4568 1.9776 1.9776 4.6601 3.0887 7.4568 3.0887z\" clip-path=\"url(#p3a273e4664)\" fill=\"#1192e8\" stroke=\"#1192e8\" stroke-width=\"2\"/><path d=\"m973.8 59.348h30.13v-30.13h-30.13z\" clip-path=\"url(#p3a273e4664)\" fill=\"#1192e8\" stroke=\"#1192e8\" stroke-width=\"1.5\"/><path d=\"m1020.1 59.348h30.13v-30.13h-30.13z\" clip-path=\"url(#p3a273e4664)\" fill=\"#121619\" stroke=\"#121619\" stroke-width=\"1.5\"/><path d=\"m1045.8 48.803c0-2.7958-1.1118-5.4799-3.0887-7.4568s-4.661-3.0887-7.4568-3.0887-5.4799 1.1118-7.4568 3.0887c-1.9769 1.9769-3.0887 4.661-3.0887 7.4568\" clip-path=\"url(#p3a273e4664)\" fill=\"none\" stroke=\"#ffffff\" stroke-width=\"2\"/><path d=\"m1035.2 48.803 10.546-10.546\" clip-path=\"url(#p3a273e4664)\" fill=\"none\" stroke=\"#ffffff\" stroke-linecap=\"square\" stroke-width=\"2\"/><g clip-path=\"url(#p3a273e4664)\"><g transform=\"translate(108.81 48.767) scale(.1625 -.1625)\"><defs><path id=\"DejaVuSans-Oblique-52\" transform=\"scale(.015625)\" d=\"m1613 4147-319-1656h812q478 0 773 264 296 264 296 689 0 340-199 521-198 182-570 182h-793zm1159-1906q200-47 333-232 133-184 308-734l396-1275h-665l-366 1197q-140 462-325 618-184 157-565 157h-697l-385-1972h-634l909 4666h1422q647 0 992-293 346-292 346-842 0-487-294-844-294-356-775-446z\"/></defs><use transform=\"translate(0 .09375)\" xlink:href=\"#DejaVuSans-Oblique-52\"/></g></g><g clip-path=\"url(#p3a273e4664)\"><g transform=\"translate(107.35 95.121) scale(.1625 -.1625)\"><defs><path id=\"DejaVuSans-Oblique-51\" transform=\"scale(.015625)\" d=\"m2309-84q-34-4-72-5-37-2-112-2-875 0-1369 502-493 502-493 1386 0 522 189 1047t526 944q391 481 880 721 489 241 1080 241 856 0 1349-505 494-504 494-1376 0-941-516-1722-515-781-1346-1103l634-869h-706l-538 741zm610 4322q-519 0-916-252t-690-767q-188-328-287-697-98-369-98-744 0-650 311-1003t880-353q512 0 913 254 402 255 687 758 190 338 290 708 100 371 100 739 0 647-313 1002-312 355-877 355z\"/></defs><use transform=\"translate(0 .78125)\" xlink:href=\"#DejaVuSans-Oblique-51\"/></g></g><g clip-path=\"url(#p3a273e4664)\"><g transform=\"translate(108.97 141.48) scale(.1625 -.1625)\"><defs><path id=\"DejaVuSans-Oblique-41\" transform=\"scale(.015625)\" d=\"m2356 4666h716l866-4666h-660l-194 1197h-2100l-659-1197h-666l2697 4666zm228-622-1309-2322h1713l-404 2322z\"/></defs><use transform=\"translate(0 .09375)\" xlink:href=\"#DejaVuSans-Oblique-41\"/></g></g><g clip-path=\"url(#p3a273e4664)\"><g transform=\"translate(108.97 187.83) scale(.1625 -.1625)\"><defs><path id=\"DejaVuSans-Oblique-42\" transform=\"scale(.015625)\" d=\"m1081 4666h1613q656 0 981-244t325-734q0-450-280-777-279-327-732-395 387-88 581-335t194-659q0-703-521-1113-520-409-1423-409h-1647l909 4666zm153-2438-331-1709h1016q572 0 881 262 309 263 309 741 0 369-205 537-204 169-657 169h-1013zm372 1919-275-1406h941q503 0 786 218 283 219 283 607 0 303-191 442t-609 139h-935z\"/></defs><use transform=\"translate(0 .09375)\" xlink:href=\"#DejaVuSans-Oblique-42\"/></g></g><g clip-path=\"url(#p3a273e4664)\"><g transform=\"translate(110.11 234.18) scale(.1625 -.1625)\"><defs><path id=\"DejaVuSans-Oblique-61\" transform=\"scale(.015625)\" d=\"m3438 1997-391-1997h-575l106 531q-253-312-577-467-323-155-720-155-447 0-733 273-285 274-285 702 0 613 489 969t1348 356h800l31 154q7 25 10 54 3 30 3 92 0 279-227 433-226 155-636 155-281 0-577-72-295-72-607-216l100 532q325 122 636 182 311 61 601 61 619 0 942-269 324-268 324-781 0-103-16-242-15-139-46-295zm-622-238h-575q-707 0-1046-189t-339-586q0-275 173-431 174-156 480-156 469 0 819 336t463 898l25 128z\"/></defs><use xlink:href=\"#DejaVuSans-Oblique-61\"/></g></g><g clip-path=\"url(#p3a273e4664)\"><g transform=\"translate(109.79 280.54) scale(.1625 -.1625)\"><defs><path id=\"DejaVuSans-Oblique-62\" transform=\"scale(.015625)\" d=\"m3169 2138q0 453-208 709t-573 256q-266 0-499-130-233-129-405-376-181-259-286-602-104-342-104-682 0-432 204-677 205-245 565-245 271 0 502 126 232 127 407 374 178 256 287 596 110 341 110 651zm-1788 831q213 287 533 451t670 164q538 0 855-363 317-362 317-980 0-507-186-982t-529-843q-225-244-519-376-294-131-616-131-340 0-590 156-250 157-407 466l-103-531h-575l947 4863h575l-372-1894z\"/></defs><use transform=\"translate(0 .015625)\" xlink:href=\"#DejaVuSans-Oblique-62\"/></g></g><g clip-path=\"url(#p3a273e4664)\"><g transform=\"translate(34.549 326.89) scale(.1625 -.1625)\"><defs><path id=\"DejaVuSans-Oblique-54\" transform=\"scale(.015625)\" d=\"m378 4666h3947l-100-532h-1666l-800-4134h-634l800 4134h-1650l103 532z\"/><path id=\"DejaVuSans-Oblique-65\" transform=\"scale(.015625)\" d=\"m3078 2063q10 50 14 103 5 53 5 106 0 381-224 603-223 222-607 222-428 0-757-271-328-270-496-767l2065 4zm500-450h-2675q-19-119-25-188t-6-119q0-434 267-672 267-237 755-237 375 0 709 84 335 85 622 247l-109-569q-310-125-640-187-329-63-670-63-728 0-1120 348-392 349-392 990 0 547 195 1017t574 839q243 231 579 356t714 125q594 0 945-356 352-356 352-956 0-144-19-308-18-164-56-351z\"/><path id=\"DejaVuSans-Oblique-73\" transform=\"scale(.015625)\" d=\"m3200 3397-109-544q-228 125-482 187-253 63-521 63-454 0-715-155-260-154-260-420 0-309 606-475 47-12 69-19l184-56q575-159 767-334t192-478q0-557-442-907t-1158-350q-278 0-584 54-306 53-675 165l112 594q316-163 622-247 307-84 588-84 422 0 686 181t264 459q0 300-694 485l-59 15-197 50q-438 116-641 305t-203 483q0 559 420 887 421 328 1143 328 284 0 554-47 271-46 533-140z\"/><path id=\"DejaVuSans-Oblique-74\" transform=\"scale(.015625)\" d=\"m2706 3500-87-447h-1147l-372-1900q-19-106-28-178t-9-112q0-200 120-291t386-91h581l-97-481h-550q-512 0-764 200-251 200-251 606 0 72 9 158t28 189l372 1900h-488l91 447h478l194 994h575l-191-994h1150z\"/><path id=\"DejaVuSans-Oblique-72\" transform=\"scale(.015625)\" d=\"m2853 2969q-87 47-200 72-112 25-240 25-460 0-804-349-343-348-456-933l-353-1784h-575l684 3500h575l-109-544q228 303 545 465 318 163 677 163 94 0 184-11 91-10 182-35l-110-569z\"/><path id=\"DejaVuSans-Oblique-75\" transform=\"scale(.015625)\" d=\"m428 1388 410 2112h578l-410-2091q-31-153-45-262t-14-181q0-266 162-412 163-145 460-145 462 0 799 312 338 313 441 842l385 1937h575l-678-3500h-575l115 550q-243-306-579-474-336-167-714-167-460 0-716 252t-256 702q0 93 15 234 16 141 47 291z\"/><path id=\"DejaVuSans-Oblique-6c\" transform=\"scale(.015625)\" d=\"m1172 4863h575l-947-4863h-575l947 4863z\"/></defs><use transform=\"translate(0 .015625)\" xlink:href=\"#DejaVuSans-Oblique-54\"/><use transform=\"translate(61.084 .015625)\" xlink:href=\"#DejaVuSans-Oblique-65\"/><use transform=\"translate(122.61 .015625)\" xlink:href=\"#DejaVuSans-Oblique-73\"/><use transform=\"translate(174.71 .015625)\" xlink:href=\"#DejaVuSans-Oblique-74\"/><use transform=\"translate(240.98 .015625)\" xlink:href=\"#DejaVuSans-Oblique-72\"/><use transform=\"translate(282.09 .015625)\" xlink:href=\"#DejaVuSans-Oblique-65\"/><use transform=\"translate(343.61 .015625)\" xlink:href=\"#DejaVuSans-Oblique-73\"/><use transform=\"translate(395.71 .015625)\" xlink:href=\"#DejaVuSans-Oblique-75\"/><use transform=\"translate(459.09 .015625)\" xlink:href=\"#DejaVuSans-Oblique-6c\"/><use transform=\"translate(486.87 .015625)\" xlink:href=\"#DejaVuSans-Oblique-74\"/></g></g><g clip-path=\"url(#p3a273e4664)\"><g transform=\"translate(149.6 47.87) scale(.13 -.13)\" fill=\"#ffffff\"><defs><path id=\"DejaVuSans-48\" transform=\"scale(.015625)\" d=\"m628 4666h631v-1913h2294v1913h631v-4666h-631v2222h-2294v-2222h-631v4666z\"/></defs><use xlink:href=\"#DejaVuSans-48\"/></g></g><path d=\"m200.84 96.663v-12.052\" clip-path=\"url(#p3a273e4664)\" fill=\"none\" stroke=\"#ffffff\" stroke-linecap=\"square\" stroke-width=\"2\"/><path d=\"m194.82 90.637h12.052\" clip-path=\"url(#p3a273e4664)\" fill=\"none\" stroke=\"#ffffff\" stroke-linecap=\"square\" stroke-width=\"2\"/><path d=\"m247.2 21.106v46.354\" clip-path=\"url(#p3a273e4664)\" fill=\"none\" stroke=\"#000000\" stroke-dasharray=\"3.7,1.6\"/><path d=\"m247.2 67.46v46.354\" clip-path=\"url(#p3a273e4664)\" fill=\"none\" stroke=\"#000000\" stroke-dasharray=\"3.7,1.6\"/><path d=\"m247.2 113.81v46.354\" clip-path=\"url(#p3a273e4664)\" fill=\"none\" stroke=\"#000000\" stroke-dasharray=\"3.7,1.6\"/><path d=\"m247.2 160.17v46.354\" clip-path=\"url(#p3a273e4664)\" fill=\"none\" stroke=\"#000000\" stroke-dasharray=\"3.7,1.6\"/><g clip-path=\"url(#p3a273e4664)\"><g transform=\"translate(288.66 140.58) scale(.13 -.13)\" fill=\"#ffffff\"><use xlink:href=\"#DejaVuSans-48\"/></g></g><path d=\"m339.9 189.37v-12.052\" clip-path=\"url(#p3a273e4664)\" fill=\"none\" stroke=\"#ffffff\" stroke-linecap=\"square\" stroke-width=\"2\"/><path d=\"m333.88 183.35h12.052\" clip-path=\"url(#p3a273e4664)\" fill=\"none\" stroke=\"#ffffff\" stroke-linecap=\"square\" stroke-width=\"2\"/><path d=\"m386.26 67.46v46.354\" clip-path=\"url(#p3a273e4664)\" fill=\"none\" stroke=\"#000000\" stroke-dasharray=\"3.7,1.6\"/><path d=\"m386.26 113.81v46.354\" clip-path=\"url(#p3a273e4664)\" fill=\"none\" stroke=\"#000000\" stroke-dasharray=\"3.7,1.6\"/><path d=\"m386.26 160.17v46.354\" clip-path=\"url(#p3a273e4664)\" fill=\"none\" stroke=\"#000000\" stroke-dasharray=\"3.7,1.6\"/><path d=\"m432.61 143.02v-12.052\" clip-path=\"url(#p3a273e4664)\" fill=\"none\" stroke=\"#ffffff\" stroke-linecap=\"square\" stroke-width=\"2\"/><path d=\"m426.59 136.99h12.052\" clip-path=\"url(#p3a273e4664)\" fill=\"none\" stroke=\"#ffffff\" stroke-linecap=\"square\" stroke-width=\"2\"/><g clip-path=\"url(#p3a273e4664)\"><g transform=\"translate(474.08 94.224) scale(.13 -.13)\" fill=\"#ffffff\"><use xlink:href=\"#DejaVuSans-48\"/></g></g><path d=\"m525.32 67.46v46.354\" clip-path=\"url(#p3a273e4664)\" fill=\"none\" stroke=\"#000000\" stroke-dasharray=\"3.7,1.6\"/><path d=\"m525.32 113.81v46.354\" clip-path=\"url(#p3a273e4664)\" fill=\"none\" stroke=\"#000000\" stroke-dasharray=\"3.7,1.6\"/><path d=\"m525.32 160.17v46.354\" clip-path=\"url(#p3a273e4664)\" fill=\"none\" stroke=\"#000000\" stroke-dasharray=\"3.7,1.6\"/><path d=\"m664.38 67.46v46.354\" clip-path=\"url(#p3a273e4664)\" fill=\"none\" stroke=\"#000000\" stroke-dasharray=\"3.7,1.6\"/><path d=\"m664.38 113.81v46.354\" clip-path=\"url(#p3a273e4664)\" fill=\"none\" stroke=\"#000000\" stroke-dasharray=\"3.7,1.6\"/><path d=\"m664.38 160.17v46.354\" clip-path=\"url(#p3a273e4664)\" fill=\"none\" stroke=\"#000000\" stroke-dasharray=\"3.7,1.6\"/><g clip-path=\"url(#p3a273e4664)\"><g transform=\"translate(726.46 244.82) scale(.08 -.08)\"><defs><path id=\"DejaVuSans-30\" transform=\"scale(.015625)\" d=\"m2034 4250q-487 0-733-480-245-479-245-1442 0-959 245-1439 246-480 733-480 491 0 736 480 246 480 246 1439 0 963-246 1442-245 480-736 480zm0 500q785 0 1199-621 414-620 414-1801 0-1178-414-1799-414-620-1199-620-784 0-1198 620-414 621-414 1799 0 1181 414 1801 414 621 1198 621z\"/><path id=\"DejaVuSans-78\" transform=\"scale(.015625)\" d=\"m3513 3500-1266-1703 1331-1797h-678l-1019 1375-1018-1375h-679l1360 1831-1244 1669h678l928-1247 928 1247h679z\"/><path id=\"DejaVuSans-31\" transform=\"scale(.015625)\" d=\"m794 531h1031v3560l-1122-225v575l1116 225h631v-4135h1031v-531h-2687v531z\"/></defs><use xlink:href=\"#DejaVuSans-30\"/><use x=\"63.623047\" xlink:href=\"#DejaVuSans-78\"/><use x=\"122.802734\" xlink:href=\"#DejaVuSans-31\"/></g></g><g clip-path=\"url(#p3a273e4664)\"><g transform=\"translate(710.13 186.93) scale(.13 -.13)\" fill=\"#ffffff\"><use xlink:href=\"#DejaVuSans-30\"/></g></g><g clip-path=\"url(#p3a273e4664)\"><g transform=\"translate(710.13 233.29) scale(.13 -.13)\" fill=\"#ffffff\"><use xlink:href=\"#DejaVuSans-30\"/></g></g><g clip-path=\"url(#p3a273e4664)\"><g transform=\"translate(718.37 209.93) scale(.13 -.13)\" fill=\"#ffffff\"><defs><path id=\"DejaVuSans-49\" transform=\"scale(.015625)\" d=\"m628 4666h631v-4666h-631v4666z\"/><path id=\"DejaVuSans-66\" transform=\"scale(.015625)\" d=\"m2375 4863v-479h-550q-309 0-430-125-120-125-120-450v-309h947v-447h-947v-3053h-578v3053h-550v447h550v244q0 584 272 851 272 268 862 268h544z\"/><path id=\"DejaVuSans-5f\" transform=\"scale(.015625)\" d=\"m3263-1063v-446h-3326v446h3326z\"/><path id=\"DejaVuSans-65\" transform=\"scale(.015625)\" d=\"m3597 1894v-281h-2644q38-594 358-905t892-311q331 0 642 81t618 244v-544q-310-131-635-200t-659-69q-838 0-1327 487-489 488-489 1320 0 859 464 1363 464 505 1252 505 706 0 1117-455 411-454 411-1235zm-575 169q-6 471-264 752-258 282-683 282-481 0-770-272t-333-766l2050 4z\"/><path id=\"DejaVuSans-6c\" transform=\"scale(.015625)\" d=\"m603 4863h575v-4863h-575v4863z\"/><path id=\"DejaVuSans-73\" transform=\"scale(.015625)\" d=\"m2834 3397v-544q-243 125-506 187-262 63-544 63-428 0-642-131t-214-394q0-200 153-314t616-217l197-44q612-131 870-370t258-667q0-488-386-773-386-284-1061-284-281 0-586 55t-642 164v594q319-166 628-249 309-82 613-82 406 0 624 139 219 139 219 392 0 234-158 359-157 125-692 241l-200 47q-534 112-772 345-237 233-237 639 0 494 350 762 350 269 994 269 318 0 599-47 282-46 519-140z\"/></defs><use xlink:href=\"#DejaVuSans-49\"/><use x=\"29.492188\" xlink:href=\"#DejaVuSans-66\"/><use x=\"64.697266\" xlink:href=\"#DejaVuSans-5f\"/><use x=\"114.697266\" xlink:href=\"#DejaVuSans-65\"/><use x=\"176.220703\" xlink:href=\"#DejaVuSans-6c\"/><use x=\"204.003906\" xlink:href=\"#DejaVuSans-73\"/><use x=\"256.103516\" xlink:href=\"#DejaVuSans-65\"/></g></g><g clip-path=\"url(#p3a273e4664)\"><g transform=\"translate(819.16 291.17) scale(.08 -.08)\"><use xlink:href=\"#DejaVuSans-30\"/><use x=\"63.623047\" xlink:href=\"#DejaVuSans-78\"/><use x=\"122.802734\" xlink:href=\"#DejaVuSans-31\"/></g></g><g clip-path=\"url(#p3a273e4664)\"><g transform=\"translate(802.84 186.93) scale(.13 -.13)\" fill=\"#ffffff\"><use xlink:href=\"#DejaVuSans-30\"/></g></g><g clip-path=\"url(#p3a273e4664)\"><g transform=\"translate(802.84 279.64) scale(.13 -.13)\" fill=\"#ffffff\"><use xlink:href=\"#DejaVuSans-30\"/></g></g><g clip-path=\"url(#p3a273e4664)\"><g transform=\"translate(811.07 233.11) scale(.13 -.13)\" fill=\"#ffffff\"><use xlink:href=\"#DejaVuSans-49\"/><use x=\"29.492188\" xlink:href=\"#DejaVuSans-66\"/><use x=\"64.697266\" xlink:href=\"#DejaVuSans-5f\"/><use x=\"114.697266\" xlink:href=\"#DejaVuSans-65\"/><use x=\"176.220703\" xlink:href=\"#DejaVuSans-6c\"/><use x=\"204.003906\" xlink:href=\"#DejaVuSans-73\"/><use x=\"256.103516\" xlink:href=\"#DejaVuSans-65\"/></g></g><path d=\"m896.15 21.106v46.354\" clip-path=\"url(#p3a273e4664)\" fill=\"none\" stroke=\"#000000\" stroke-dasharray=\"3.7,1.6\"/><path d=\"m896.15 67.46v46.354\" clip-path=\"url(#p3a273e4664)\" fill=\"none\" stroke=\"#000000\" stroke-dasharray=\"3.7,1.6\"/><path d=\"m896.15 113.81v46.354\" clip-path=\"url(#p3a273e4664)\" fill=\"none\" stroke=\"#000000\" stroke-dasharray=\"3.7,1.6\"/><path d=\"m896.15 160.17v46.354\" clip-path=\"url(#p3a273e4664)\" fill=\"none\" stroke=\"#000000\" stroke-dasharray=\"3.7,1.6\"/><path d=\"m942.51 189.37v-12.052\" clip-path=\"url(#p3a273e4664)\" fill=\"none\" stroke=\"#ffffff\" stroke-linecap=\"square\" stroke-width=\"2\"/><path d=\"m936.48 183.35h12.052\" clip-path=\"url(#p3a273e4664)\" fill=\"none\" stroke=\"#ffffff\" stroke-linecap=\"square\" stroke-width=\"2\"/><g clip-path=\"url(#p3a273e4664)\"><g transform=\"translate(983.97 47.87) scale(.13 -.13)\" fill=\"#ffffff\"><use xlink:href=\"#DejaVuSans-48\"/></g></g><defs><clipPath id=\"p3a273e4664\"><rect x=\"7.2\" y=\"7.2\" width=\"1058.6\" height=\"343.02\"/></clipPath></defs></svg>"
      ],
      "text/plain": [
       "<Figure size 1909.47x618.722 with 1 Axes>"
      ]
     },
     "execution_count": 2,
     "metadata": {},
     "output_type": "execute_result"
    }
   ],
   "source": [
    "# Create a new circuit including the same bits and qubits used in the\n",
    "# teleportation protocol, along with a new \"auxiliary\" qubit R.\n",
    "aux = QuantumRegister(1, \"R\")\n",
    "test = QuantumCircuit(aux, qubit, ebit0, ebit1, a, b)\n",
    "\n",
    "# Entangle Q with R\n",
    "test.h(aux)\n",
    "test.cx(aux, qubit)\n",
    "test.barrier()\n",
    "\n",
    "# Append the protocol the circuit. The \"qubits\" argument tells Qiskit that\n",
    "# the protocol should operate on the qubits numbered 1, 2, and 3 (skipping\n",
    "# qubit 0, which is R).\n",
    "test = test.compose(protocol, qubits=[1, 2, 3])\n",
    "test.barrier()\n",
    "\n",
    "# After the protocol runs, check that (B,R) is in a phi+ state. We can add\n",
    "# a new classical bit to the circuit to do this.\n",
    "test.cx(aux, ebit1)\n",
    "test.h(aux)\n",
    "result = ClassicalRegister(1, \"Test result\")\n",
    "test.add_register(result)\n",
    "test.measure(aux, result)\n",
    "\n",
    "test.draw()"
   ]
  },
  {
   "cell_type": "markdown",
   "id": "5b6dd244",
   "metadata": {},
   "source": [
    "Finally let's run this circuit on a simulator and plot a histogram of the outputs.\n",
    "We'll see the statistics for all three classical bits:\n",
    "the most significant (leftmost) bit should always be $0$, indicating that the qubit $\\mathsf{Q}$ was successfully teleported to $\\mathsf{B}$, while the other two bits should be roughly uniform."
   ]
  },
  {
   "cell_type": "code",
   "execution_count": 3,
   "id": "3907d6c3",
   "metadata": {},
   "outputs": [
    {
     "data": {
      "image/svg+xml": [
       "<?xml version=\"1.0\" encoding=\"UTF-8\"?><!DOCTYPE svg  PUBLIC '-//W3C//DTD SVG 1.1//EN'  'http://www.w3.org/Graphics/SVG/1.1/DTD/svg11.dtd'><svg width=\"460.72pt\" height=\"328.35pt\" version=\"1.1\" viewBox=\"0 0 460.72 328.35\" xmlns=\"http://www.w3.org/2000/svg\" xmlns:xlink=\"http://www.w3.org/1999/xlink\"><defs><style type=\"text/css\">*{stroke-linejoin: round; stroke-linecap: butt}</style></defs><path d=\"m0 328.35h460.72v-328.35h-460.72z\" fill=\"#ffffff\"/><path d=\"m62.921 284.4h390.6v-277.2h-390.6z\" fill=\"#ffffff\"/><defs><path id=\"m883d8e8f5f\" d=\"m0 0v3.5\" stroke=\"#343a3f\" stroke-width=\".8\"/></defs><use x=\"106.039432\" y=\"284.4\" fill=\"#343a3f\" stroke=\"#343a3f\" stroke-width=\".8\" xlink:href=\"#m883d8e8f5f\"/><g transform=\"translate(105.1 320.15) rotate(-70) scale(.14 -.14)\" fill=\"#343a3f\"><defs><path id=\"DejaVuSans-30\" transform=\"scale(.015625)\" d=\"m2034 4250q-487 0-733-480-245-479-245-1442 0-959 245-1439 246-480 733-480 491 0 736 480 246 480 246 1439 0 963-246 1442-245 480-736 480zm0 500q785 0 1199-621 414-620 414-1801 0-1178-414-1799-414-620-1199-620-784 0-1198 620-414 621-414 1799 0 1181 414 1801 414 621 1198 621z\"/></defs><use xlink:href=\"#DejaVuSans-30\"/><use x=\"63.623047\" xlink:href=\"#DejaVuSans-30\"/><use x=\"127.246094\" xlink:href=\"#DejaVuSans-30\"/></g><use x=\"207.493977\" y=\"284.4\" fill=\"#343a3f\" stroke=\"#343a3f\" stroke-width=\".8\" xlink:href=\"#m883d8e8f5f\"/><g transform=\"translate(206.55 320.15) rotate(-70) scale(.14 -.14)\" fill=\"#343a3f\"><defs><path id=\"DejaVuSans-31\" transform=\"scale(.015625)\" d=\"m794 531h1031v3560l-1122-225v575l1116 225h631v-4135h1031v-531h-2687v531z\"/></defs><use xlink:href=\"#DejaVuSans-30\"/><use x=\"63.623047\" xlink:href=\"#DejaVuSans-30\"/><use x=\"127.246094\" xlink:href=\"#DejaVuSans-31\"/></g><use x=\"308.948523\" y=\"284.4\" fill=\"#343a3f\" stroke=\"#343a3f\" stroke-width=\".8\" xlink:href=\"#m883d8e8f5f\"/><g transform=\"translate(308.01 320.15) rotate(-70) scale(.14 -.14)\" fill=\"#343a3f\"><use xlink:href=\"#DejaVuSans-30\"/><use x=\"63.623047\" xlink:href=\"#DejaVuSans-31\"/><use x=\"127.246094\" xlink:href=\"#DejaVuSans-30\"/></g><use x=\"410.403068\" y=\"284.4\" fill=\"#343a3f\" stroke=\"#343a3f\" stroke-width=\".8\" xlink:href=\"#m883d8e8f5f\"/><g transform=\"translate(409.46 320.15) rotate(-70) scale(.14 -.14)\" fill=\"#343a3f\"><use xlink:href=\"#DejaVuSans-30\"/><use x=\"63.623047\" xlink:href=\"#DejaVuSans-31\"/><use x=\"127.246094\" xlink:href=\"#DejaVuSans-31\"/></g><path d=\"m62.921 284.4h390.6\" clip-path=\"url(#pd2eb5e605b)\" fill=\"none\" stroke=\"#dde1e6\" stroke-dasharray=\"2.96,1.28\" stroke-width=\".8\"/><defs><path id=\"m55a1410908\" d=\"m0 0h-3.5\" stroke=\"#343a3f\" stroke-width=\".8\"/></defs><use x=\"62.92125\" y=\"284.4\" fill=\"#343a3f\" stroke=\"#343a3f\" stroke-width=\".8\" xlink:href=\"#m55a1410908\"/><g transform=\"translate(24.749 289.72) scale(.14 -.14)\" fill=\"#343a3f\"><defs><path id=\"DejaVuSans-2e\" transform=\"scale(.015625)\" d=\"m684 794h660v-794h-660v794z\"/></defs><use xlink:href=\"#DejaVuSans-30\"/><use x=\"63.623047\" xlink:href=\"#DejaVuSans-2e\"/><use x=\"95.410156\" xlink:href=\"#DejaVuSans-30\"/><use x=\"159.033203\" xlink:href=\"#DejaVuSans-30\"/></g><path d=\"m62.921 227.89h390.6\" clip-path=\"url(#pd2eb5e605b)\" fill=\"none\" stroke=\"#dde1e6\" stroke-dasharray=\"2.96,1.28\" stroke-width=\".8\"/><use x=\"62.92125\" y=\"227.893139\" fill=\"#343a3f\" stroke=\"#343a3f\" stroke-width=\".8\" xlink:href=\"#m55a1410908\"/><g transform=\"translate(24.749 233.21) scale(.14 -.14)\" fill=\"#343a3f\"><defs><path id=\"DejaVuSans-36\" transform=\"scale(.015625)\" d=\"m2113 2584q-425 0-674-291-248-290-248-796 0-503 248-796 249-292 674-292t673 292q248 293 248 796 0 506-248 796-248 291-673 291zm1253 1979v-575q-238 112-480 171-242 60-480 60-625 0-955-422-329-422-376-1275 184 272 462 417 279 145 613 145 703 0 1111-427 408-426 408-1160 0-719-425-1154-425-434-1131-434-810 0-1238 620-428 621-428 1799 0 1106 525 1764t1409 658q238 0 480-47t505-140z\"/></defs><use xlink:href=\"#DejaVuSans-30\"/><use x=\"63.623047\" xlink:href=\"#DejaVuSans-2e\"/><use x=\"95.410156\" xlink:href=\"#DejaVuSans-30\"/><use x=\"159.033203\" xlink:href=\"#DejaVuSans-36\"/></g><path d=\"m62.921 171.39h390.6\" clip-path=\"url(#pd2eb5e605b)\" fill=\"none\" stroke=\"#dde1e6\" stroke-dasharray=\"2.96,1.28\" stroke-width=\".8\"/><use x=\"62.92125\" y=\"171.386277\" fill=\"#343a3f\" stroke=\"#343a3f\" stroke-width=\".8\" xlink:href=\"#m55a1410908\"/><g transform=\"translate(24.749 176.71) scale(.14 -.14)\" fill=\"#343a3f\"><defs><path id=\"DejaVuSans-32\" transform=\"scale(.015625)\" d=\"m1228 531h2203v-531h-2962v531q359 372 979 998 621 627 780 809 303 340 423 576 121 236 121 464 0 372-261 606-261 235-680 235-297 0-627-103-329-103-704-313v638q381 153 712 231 332 78 607 78 725 0 1156-363 431-362 431-968 0-288-108-546-107-257-392-607-78-91-497-524-418-433-1181-1211z\"/></defs><use xlink:href=\"#DejaVuSans-30\"/><use x=\"63.623047\" xlink:href=\"#DejaVuSans-2e\"/><use x=\"95.410156\" xlink:href=\"#DejaVuSans-31\"/><use x=\"159.033203\" xlink:href=\"#DejaVuSans-32\"/></g><path d=\"m62.921 114.88h390.6\" clip-path=\"url(#pd2eb5e605b)\" fill=\"none\" stroke=\"#dde1e6\" stroke-dasharray=\"2.96,1.28\" stroke-width=\".8\"/><use x=\"62.92125\" y=\"114.879416\" fill=\"#343a3f\" stroke=\"#343a3f\" stroke-width=\".8\" xlink:href=\"#m55a1410908\"/><g transform=\"translate(24.749 120.2) scale(.14 -.14)\" fill=\"#343a3f\"><defs><path id=\"DejaVuSans-38\" transform=\"scale(.015625)\" d=\"m2034 2216q-450 0-708-241-257-241-257-662 0-422 257-663 258-241 708-241t709 242q260 243 260 662 0 421-258 662-257 241-711 241zm-631 268q-406 100-633 378-226 279-226 679 0 559 398 884 399 325 1092 325 697 0 1094-325t397-884q0-400-227-679-226-278-629-378 456-106 710-416 255-309 255-755 0-679-414-1042-414-362-1186-362-771 0-1186 362-414 363-414 1042 0 446 256 755 257 310 713 416zm-231 997q0-362 226-565 227-203 636-203 407 0 636 203 230 203 230 565 0 363-230 566-229 203-636 203-409 0-636-203-226-203-226-566z\"/></defs><use xlink:href=\"#DejaVuSans-30\"/><use x=\"63.623047\" xlink:href=\"#DejaVuSans-2e\"/><use x=\"95.410156\" xlink:href=\"#DejaVuSans-31\"/><use x=\"159.033203\" xlink:href=\"#DejaVuSans-38\"/></g><path d=\"m62.921 58.373h390.6\" clip-path=\"url(#pd2eb5e605b)\" fill=\"none\" stroke=\"#dde1e6\" stroke-dasharray=\"2.96,1.28\" stroke-width=\".8\"/><use x=\"62.92125\" y=\"58.372555\" fill=\"#343a3f\" stroke=\"#343a3f\" stroke-width=\".8\" xlink:href=\"#m55a1410908\"/><g transform=\"translate(24.749 63.691) scale(.14 -.14)\" fill=\"#343a3f\"><defs><path id=\"DejaVuSans-34\" transform=\"scale(.015625)\" d=\"m2419 4116-1594-2491h1594v2491zm-166 550h794v-3041h666v-525h-666v-1100h-628v1100h-2106v609l1940 2957z\"/></defs><use xlink:href=\"#DejaVuSans-30\"/><use x=\"63.623047\" xlink:href=\"#DejaVuSans-2e\"/><use x=\"95.410156\" xlink:href=\"#DejaVuSans-32\"/><use x=\"159.033203\" xlink:href=\"#DejaVuSans-34\"/></g><g transform=\"translate(17.838 205.5) rotate(-90) scale(.14 -.14)\" fill=\"#343a3f\"><defs><path id=\"DejaVuSans-51\" transform=\"scale(.015625)\" d=\"m2522 4238q-688 0-1093-513-404-512-404-1397 0-881 404-1394 405-512 1093-512 687 0 1089 512 402 513 402 1394 0 885-402 1397-402 513-1089 513zm884-4154 832-909h-763l-691 747q-103-6-158-9-54-4-104-4-984 0-1574 658-589 658-589 1761 0 1106 589 1764 590 658 1574 658 981 0 1568-658 588-658 588-1764 0-812-327-1391-326-578-945-853z\"/><path id=\"DejaVuSans-75\" transform=\"scale(.015625)\" d=\"m544 1381v2119h575v-2097q0-497 193-746 194-248 582-248 465 0 735 297 271 297 271 810v1984h575v-3500h-575v538q-209-319-486-474-276-155-642-155-603 0-916 375-312 375-312 1097zm1447 2203z\"/><path id=\"DejaVuSans-61\" transform=\"scale(.015625)\" d=\"m2194 1759q-697 0-966-159t-269-544q0-306 202-486 202-179 548-179 479 0 768 339t289 901v128h-572zm1147 238v-1997h-575v531q-197-318-491-470t-719-152q-537 0-855 302-317 302-317 808 0 590 395 890 396 300 1180 300h807v57q0 397-261 614t-733 217q-300 0-585-72-284-72-546-216v532q315 122 612 182 297 61 578 61 760 0 1135-394 375-393 375-1193z\"/><path id=\"DejaVuSans-73\" transform=\"scale(.015625)\" d=\"m2834 3397v-544q-243 125-506 187-262 63-544 63-428 0-642-131t-214-394q0-200 153-314t616-217l197-44q612-131 870-370t258-667q0-488-386-773-386-284-1061-284-281 0-586 55t-642 164v594q319-166 628-249 309-82 613-82 406 0 624 139 219 139 219 392 0 234-158 359-157 125-692 241l-200 47q-534 112-772 345-237 233-237 639 0 494 350 762 350 269 994 269 318 0 599-47 282-46 519-140z\"/><path id=\"DejaVuSans-69\" transform=\"scale(.015625)\" d=\"m603 3500h575v-3500h-575v3500zm0 1363h575v-729h-575v729z\"/><path id=\"DejaVuSans-2d\" transform=\"scale(.015625)\" d=\"m313 2009h1684v-512h-1684v512z\"/><path id=\"DejaVuSans-70\" transform=\"scale(.015625)\" d=\"m1159 525v-1856h-578v4831h578v-531q182 312 458 463 277 152 661 152 638 0 1036-506 399-506 399-1331t-399-1332q-398-506-1036-506-384 0-661 152-276 152-458 464zm1957 1222q0 634-261 995t-717 361q-457 0-718-361t-261-995 261-995 718-361q456 0 717 361t261 995z\"/><path id=\"DejaVuSans-72\" transform=\"scale(.015625)\" d=\"m2631 2963q-97 56-211 82-114 27-251 27-488 0-749-317t-261-911v-1844h-578v3500h578v-544q182 319 472 473 291 155 707 155 59 0 131-8 72-7 159-23l3-590z\"/><path id=\"DejaVuSans-6f\" transform=\"scale(.015625)\" d=\"m1959 3097q-462 0-731-361t-269-989 267-989q268-361 733-361 460 0 728 362 269 363 269 988 0 622-269 986-268 364-728 364zm0 487q750 0 1178-488 429-487 429-1349 0-859-429-1349-428-489-1178-489-753 0-1180 489-426 490-426 1349 0 862 426 1349 427 488 1180 488z\"/><path id=\"DejaVuSans-62\" transform=\"scale(.015625)\" d=\"m3116 1747q0 634-261 995t-717 361q-457 0-718-361t-261-995 261-995 718-361q456 0 717 361t261 995zm-1957 1222q182 312 458 463 277 152 661 152 638 0 1036-506 399-506 399-1331t-399-1332q-398-506-1036-506-384 0-661 152-276 152-458 464v-525h-578v4863h578v-1894z\"/><path id=\"DejaVuSans-6c\" transform=\"scale(.015625)\" d=\"m603 4863h575v-4863h-575v4863z\"/><path id=\"DejaVuSans-74\" transform=\"scale(.015625)\" d=\"m1172 4494v-994h1184v-447h-1184v-1900q0-428 117-550t477-122h590v-481h-590q-666 0-919 248-253 249-253 905v1900h-422v447h422v994h578z\"/><path id=\"DejaVuSans-79\" transform=\"scale(.015625)\" d=\"m2059-325q-243-625-475-815-231-191-618-191h-460v481h338q237 0 368 113 132 112 291 531l103 262-1415 3444h609l1094-2737 1094 2737h609l-1538-3825z\"/></defs><use xlink:href=\"#DejaVuSans-51\"/><use x=\"78.710938\" xlink:href=\"#DejaVuSans-75\"/><use x=\"142.089844\" xlink:href=\"#DejaVuSans-61\"/><use x=\"203.369141\" xlink:href=\"#DejaVuSans-73\"/><use x=\"255.46875\" xlink:href=\"#DejaVuSans-69\"/><use x=\"283.251953\" xlink:href=\"#DejaVuSans-2d\"/><use x=\"319.335938\" xlink:href=\"#DejaVuSans-70\"/><use x=\"382.8125\" xlink:href=\"#DejaVuSans-72\"/><use x=\"421.675781\" xlink:href=\"#DejaVuSans-6f\"/><use x=\"482.857422\" xlink:href=\"#DejaVuSans-62\"/><use x=\"546.333984\" xlink:href=\"#DejaVuSans-61\"/><use x=\"607.613281\" xlink:href=\"#DejaVuSans-62\"/><use x=\"671.089844\" xlink:href=\"#DejaVuSans-69\"/><use x=\"698.873047\" xlink:href=\"#DejaVuSans-6c\"/><use x=\"726.65625\" xlink:href=\"#DejaVuSans-69\"/><use x=\"754.439453\" xlink:href=\"#DejaVuSans-74\"/><use x=\"793.648438\" xlink:href=\"#DejaVuSans-79\"/></g><path d=\"m80.676 284.4h50.727v-252h-50.727z\" clip-path=\"url(#pd2eb5e605b)\" fill=\"#648fff\"/><path d=\"m182.13 284.4h50.727v-225.33h-50.727z\" clip-path=\"url(#pd2eb5e605b)\" fill=\"#648fff\"/><path d=\"m283.58 284.4h50.727v-239.12h-50.727z\" clip-path=\"url(#pd2eb5e605b)\" fill=\"#648fff\"/><path d=\"m385.04 284.4h50.727v-225.33h-50.727z\" clip-path=\"url(#pd2eb5e605b)\" fill=\"#648fff\"/><path d=\"m62.921 284.4v-277.2\" fill=\"none\" stroke=\"#343a3f\" stroke-linecap=\"square\" stroke-width=\".8\"/><path d=\"m62.921 284.4h390.6\" fill=\"none\" stroke=\"#343a3f\" stroke-linecap=\"square\" stroke-width=\".8\"/><g transform=\"translate(91.725 17.303) scale(.1 -.1)\" fill=\"#343a3f\"><use xlink:href=\"#DejaVuSans-30\"/><use x=\"63.623047\" xlink:href=\"#DejaVuSans-2e\"/><use x=\"95.410156\" xlink:href=\"#DejaVuSans-32\"/><use x=\"159.033203\" xlink:href=\"#DejaVuSans-36\"/><use x=\"222.65625\" xlink:href=\"#DejaVuSans-38\"/></g><g transform=\"translate(193.18 45.98) scale(.1 -.1)\" fill=\"#343a3f\"><defs><path id=\"DejaVuSans-33\" transform=\"scale(.015625)\" d=\"m2597 2516q453-97 707-404 255-306 255-756 0-690-475-1069-475-378-1350-378-293 0-604 58t-642 174v609q262-153 574-231 313-78 654-78 593 0 904 234t311 681q0 413-289 645-289 233-804 233h-544v519h569q465 0 712 186t247 536q0 359-255 551-254 193-729 193-260 0-557-57-297-56-653-174v562q360 100 674 150t592 50q719 0 1137-327 419-326 419-882 0-388-222-655t-631-370z\"/><path id=\"DejaVuSans-39\" transform=\"scale(.015625)\" d=\"m703 97v575q238-113 481-172 244-59 479-59 625 0 954 420 330 420 377 1277-181-269-460-413-278-144-615-144-700 0-1108 423-408 424-408 1159 0 718 425 1152 425 435 1131 435 810 0 1236-621 427-620 427-1801 0-1103-524-1761-523-658-1407-658-238 0-482 47-243 47-506 141zm1256 1978q425 0 673 290 249 291 249 798 0 503-249 795-248 292-673 292t-673-292-248-795q0-507 248-798 248-290 673-290z\"/></defs><use xlink:href=\"#DejaVuSans-30\"/><use x=\"63.623047\" xlink:href=\"#DejaVuSans-2e\"/><use x=\"95.410156\" xlink:href=\"#DejaVuSans-32\"/><use x=\"159.033203\" xlink:href=\"#DejaVuSans-33\"/><use x=\"222.65625\" xlink:href=\"#DejaVuSans-39\"/></g><g transform=\"translate(294.63 31.147) scale(.1 -.1)\" fill=\"#343a3f\"><defs><path id=\"DejaVuSans-35\" transform=\"scale(.015625)\" d=\"m691 4666h2478v-532h-1900v-1143q137 47 274 70 138 23 276 23 781 0 1237-428 457-428 457-1159 0-753-469-1171-469-417-1322-417-294 0-599 50-304 50-629 150v635q281-153 581-228t634-75q541 0 856 284 316 284 316 772 0 487-316 771-315 285-856 285-253 0-505-56-251-56-513-175v2344z\"/></defs><use xlink:href=\"#DejaVuSans-30\"/><use x=\"63.623047\" xlink:href=\"#DejaVuSans-2e\"/><use x=\"95.410156\" xlink:href=\"#DejaVuSans-32\"/><use x=\"159.033203\" xlink:href=\"#DejaVuSans-35\"/><use x=\"222.65625\" xlink:href=\"#DejaVuSans-34\"/></g><g transform=\"translate(396.09 45.98) scale(.1 -.1)\" fill=\"#343a3f\"><use xlink:href=\"#DejaVuSans-30\"/><use x=\"63.623047\" xlink:href=\"#DejaVuSans-2e\"/><use x=\"95.410156\" xlink:href=\"#DejaVuSans-32\"/><use x=\"159.033203\" xlink:href=\"#DejaVuSans-33\"/><use x=\"222.65625\" xlink:href=\"#DejaVuSans-39\"/></g><defs><clipPath id=\"pd2eb5e605b\"><rect x=\"62.921\" y=\"7.2\" width=\"390.6\" height=\"277.2\"/></clipPath></defs></svg>"
      ],
      "text/plain": [
       "<Figure size 700x500 with 1 Axes>"
      ]
     },
     "execution_count": 3,
     "metadata": {},
     "output_type": "execute_result"
    }
   ],
   "source": [
    "from qiskit_aer.primitives import Sampler\n",
    "from qiskit.visualization import plot_histogram\n",
    "\n",
    "counts = Sampler().run(test).result().quasi_dists[0].binary_probabilities()\n",
    "plot_histogram(counts)"
   ]
  },
  {
   "cell_type": "markdown",
   "id": "7bddff9f",
   "metadata": {},
   "source": [
    "The following cell filters out the other qubits, leaving just the probabilities for the leftmost qubit."
   ]
  },
  {
   "cell_type": "code",
   "execution_count": 4,
   "id": "e225b881",
   "metadata": {
    "scrolled": false
   },
   "outputs": [
    {
     "data": {
      "image/svg+xml": [
       "<?xml version=\"1.0\" encoding=\"UTF-8\"?><!DOCTYPE svg  PUBLIC '-//W3C//DTD SVG 1.1//EN'  'http://www.w3.org/Graphics/SVG/1.1/DTD/svg11.dtd'><svg width=\"468.61pt\" height=\"311.6pt\" version=\"1.1\" viewBox=\"0 0 468.61 311.6\" xmlns=\"http://www.w3.org/2000/svg\" xmlns:xlink=\"http://www.w3.org/1999/xlink\"><defs><style type=\"text/css\">*{stroke-linejoin: round; stroke-linecap: butt}</style></defs><path d=\"m0 311.6h468.61v-311.6h-468.61z\" fill=\"#ffffff\"/><path d=\"m62.921 284.4h390.6v-277.2h-390.6z\" fill=\"#ffffff\"/><defs><path id=\"me23ed3eaa6\" d=\"m0 0v3.5\" stroke=\"#343a3f\" stroke-width=\".8\"/></defs><use x=\"147.168309\" y=\"284.4\" fill=\"#343a3f\" stroke=\"#343a3f\" stroke-width=\".8\" xlink:href=\"#me23ed3eaa6\"/><g transform=\"translate(149.28 303.41) rotate(-70) scale(.14 -.14)\" fill=\"#343a3f\"><defs><path id=\"DejaVuSans-30\" transform=\"scale(.015625)\" d=\"m2034 4250q-487 0-733-480-245-479-245-1442 0-959 245-1439 246-480 733-480 491 0 736 480 246 480 246 1439 0 963-246 1442-245 480-736 480zm0 500q785 0 1199-621 414-620 414-1801 0-1178-414-1799-414-620-1199-620-784 0-1198 620-414 621-414 1799 0 1181 414 1801 414 621 1198 621z\"/></defs><use xlink:href=\"#DejaVuSans-30\"/></g><use x=\"453.52125\" y=\"284.4\" fill=\"#343a3f\" stroke=\"#343a3f\" stroke-width=\".8\" xlink:href=\"#me23ed3eaa6\"/><g transform=\"translate(455.63 303.41) rotate(-70) scale(.14 -.14)\" fill=\"#343a3f\"><defs><path id=\"DejaVuSans-31\" transform=\"scale(.015625)\" d=\"m794 531h1031v3560l-1122-225v575l1116 225h631v-4135h1031v-531h-2687v531z\"/></defs><use xlink:href=\"#DejaVuSans-31\"/></g><path d=\"m62.921 284.4h390.6\" clip-path=\"url(#p641efa8c6e)\" fill=\"none\" stroke=\"#dde1e6\" stroke-dasharray=\"2.96,1.28\" stroke-width=\".8\"/><defs><path id=\"m4734796c19\" d=\"m0 0h-3.5\" stroke=\"#343a3f\" stroke-width=\".8\"/></defs><use x=\"62.92125\" y=\"284.4\" fill=\"#343a3f\" stroke=\"#343a3f\" stroke-width=\".8\" xlink:href=\"#m4734796c19\"/><g transform=\"translate(24.749 289.72) scale(.14 -.14)\" fill=\"#343a3f\"><defs><path id=\"DejaVuSans-2e\" transform=\"scale(.015625)\" d=\"m684 794h660v-794h-660v794z\"/></defs><use xlink:href=\"#DejaVuSans-30\"/><use x=\"63.623047\" xlink:href=\"#DejaVuSans-2e\"/><use x=\"95.410156\" xlink:href=\"#DejaVuSans-30\"/><use x=\"159.033203\" xlink:href=\"#DejaVuSans-30\"/></g><path d=\"m62.921 221.4h390.6\" clip-path=\"url(#p641efa8c6e)\" fill=\"none\" stroke=\"#dde1e6\" stroke-dasharray=\"2.96,1.28\" stroke-width=\".8\"/><use x=\"62.92125\" y=\"221.4\" fill=\"#343a3f\" stroke=\"#343a3f\" stroke-width=\".8\" xlink:href=\"#m4734796c19\"/><g transform=\"translate(24.749 226.72) scale(.14 -.14)\" fill=\"#343a3f\"><defs><path id=\"DejaVuSans-32\" transform=\"scale(.015625)\" d=\"m1228 531h2203v-531h-2962v531q359 372 979 998 621 627 780 809 303 340 423 576 121 236 121 464 0 372-261 606-261 235-680 235-297 0-627-103-329-103-704-313v638q381 153 712 231 332 78 607 78 725 0 1156-363 431-362 431-968 0-288-108-546-107-257-392-607-78-91-497-524-418-433-1181-1211z\"/><path id=\"DejaVuSans-35\" transform=\"scale(.015625)\" d=\"m691 4666h2478v-532h-1900v-1143q137 47 274 70 138 23 276 23 781 0 1237-428 457-428 457-1159 0-753-469-1171-469-417-1322-417-294 0-599 50-304 50-629 150v635q281-153 581-228t634-75q541 0 856 284 316 284 316 772 0 487-316 771-315 285-856 285-253 0-505-56-251-56-513-175v2344z\"/></defs><use xlink:href=\"#DejaVuSans-30\"/><use x=\"63.623047\" xlink:href=\"#DejaVuSans-2e\"/><use x=\"95.410156\" xlink:href=\"#DejaVuSans-32\"/><use x=\"159.033203\" xlink:href=\"#DejaVuSans-35\"/></g><path d=\"m62.921 158.4h390.6\" clip-path=\"url(#p641efa8c6e)\" fill=\"none\" stroke=\"#dde1e6\" stroke-dasharray=\"2.96,1.28\" stroke-width=\".8\"/><use x=\"62.92125\" y=\"158.4\" fill=\"#343a3f\" stroke=\"#343a3f\" stroke-width=\".8\" xlink:href=\"#m4734796c19\"/><g transform=\"translate(24.749 163.72) scale(.14 -.14)\" fill=\"#343a3f\"><use xlink:href=\"#DejaVuSans-30\"/><use x=\"63.623047\" xlink:href=\"#DejaVuSans-2e\"/><use x=\"95.410156\" xlink:href=\"#DejaVuSans-35\"/><use x=\"159.033203\" xlink:href=\"#DejaVuSans-30\"/></g><path d=\"m62.921 95.4h390.6\" clip-path=\"url(#p641efa8c6e)\" fill=\"none\" stroke=\"#dde1e6\" stroke-dasharray=\"2.96,1.28\" stroke-width=\".8\"/><use x=\"62.92125\" y=\"95.4\" fill=\"#343a3f\" stroke=\"#343a3f\" stroke-width=\".8\" xlink:href=\"#m4734796c19\"/><g transform=\"translate(24.749 100.72) scale(.14 -.14)\" fill=\"#343a3f\"><defs><path id=\"DejaVuSans-37\" transform=\"scale(.015625)\" d=\"m525 4666h3e3v-269l-1694-4397h-659l1594 4134h-2241v532z\"/></defs><use xlink:href=\"#DejaVuSans-30\"/><use x=\"63.623047\" xlink:href=\"#DejaVuSans-2e\"/><use x=\"95.410156\" xlink:href=\"#DejaVuSans-37\"/><use x=\"159.033203\" xlink:href=\"#DejaVuSans-35\"/></g><path d=\"m62.921 32.4h390.6\" clip-path=\"url(#p641efa8c6e)\" fill=\"none\" stroke=\"#dde1e6\" stroke-dasharray=\"2.96,1.28\" stroke-width=\".8\"/><use x=\"62.92125\" y=\"32.4\" fill=\"#343a3f\" stroke=\"#343a3f\" stroke-width=\".8\" xlink:href=\"#m4734796c19\"/><g transform=\"translate(24.749 37.719) scale(.14 -.14)\" fill=\"#343a3f\"><use xlink:href=\"#DejaVuSans-31\"/><use x=\"63.623047\" xlink:href=\"#DejaVuSans-2e\"/><use x=\"95.410156\" xlink:href=\"#DejaVuSans-30\"/><use x=\"159.033203\" xlink:href=\"#DejaVuSans-30\"/></g><g transform=\"translate(17.838 205.5) rotate(-90) scale(.14 -.14)\" fill=\"#343a3f\"><defs><path id=\"DejaVuSans-51\" transform=\"scale(.015625)\" d=\"m2522 4238q-688 0-1093-513-404-512-404-1397 0-881 404-1394 405-512 1093-512 687 0 1089 512 402 513 402 1394 0 885-402 1397-402 513-1089 513zm884-4154 832-909h-763l-691 747q-103-6-158-9-54-4-104-4-984 0-1574 658-589 658-589 1761 0 1106 589 1764 590 658 1574 658 981 0 1568-658 588-658 588-1764 0-812-327-1391-326-578-945-853z\"/><path id=\"DejaVuSans-75\" transform=\"scale(.015625)\" d=\"m544 1381v2119h575v-2097q0-497 193-746 194-248 582-248 465 0 735 297 271 297 271 810v1984h575v-3500h-575v538q-209-319-486-474-276-155-642-155-603 0-916 375-312 375-312 1097zm1447 2203z\"/><path id=\"DejaVuSans-61\" transform=\"scale(.015625)\" d=\"m2194 1759q-697 0-966-159t-269-544q0-306 202-486 202-179 548-179 479 0 768 339t289 901v128h-572zm1147 238v-1997h-575v531q-197-318-491-470t-719-152q-537 0-855 302-317 302-317 808 0 590 395 890 396 300 1180 300h807v57q0 397-261 614t-733 217q-300 0-585-72-284-72-546-216v532q315 122 612 182 297 61 578 61 760 0 1135-394 375-393 375-1193z\"/><path id=\"DejaVuSans-73\" transform=\"scale(.015625)\" d=\"m2834 3397v-544q-243 125-506 187-262 63-544 63-428 0-642-131t-214-394q0-200 153-314t616-217l197-44q612-131 870-370t258-667q0-488-386-773-386-284-1061-284-281 0-586 55t-642 164v594q319-166 628-249 309-82 613-82 406 0 624 139 219 139 219 392 0 234-158 359-157 125-692 241l-200 47q-534 112-772 345-237 233-237 639 0 494 350 762 350 269 994 269 318 0 599-47 282-46 519-140z\"/><path id=\"DejaVuSans-69\" transform=\"scale(.015625)\" d=\"m603 3500h575v-3500h-575v3500zm0 1363h575v-729h-575v729z\"/><path id=\"DejaVuSans-2d\" transform=\"scale(.015625)\" d=\"m313 2009h1684v-512h-1684v512z\"/><path id=\"DejaVuSans-70\" transform=\"scale(.015625)\" d=\"m1159 525v-1856h-578v4831h578v-531q182 312 458 463 277 152 661 152 638 0 1036-506 399-506 399-1331t-399-1332q-398-506-1036-506-384 0-661 152-276 152-458 464zm1957 1222q0 634-261 995t-717 361q-457 0-718-361t-261-995 261-995 718-361q456 0 717 361t261 995z\"/><path id=\"DejaVuSans-72\" transform=\"scale(.015625)\" d=\"m2631 2963q-97 56-211 82-114 27-251 27-488 0-749-317t-261-911v-1844h-578v3500h578v-544q182 319 472 473 291 155 707 155 59 0 131-8 72-7 159-23l3-590z\"/><path id=\"DejaVuSans-6f\" transform=\"scale(.015625)\" d=\"m1959 3097q-462 0-731-361t-269-989 267-989q268-361 733-361 460 0 728 362 269 363 269 988 0 622-269 986-268 364-728 364zm0 487q750 0 1178-488 429-487 429-1349 0-859-429-1349-428-489-1178-489-753 0-1180 489-426 490-426 1349 0 862 426 1349 427 488 1180 488z\"/><path id=\"DejaVuSans-62\" transform=\"scale(.015625)\" d=\"m3116 1747q0 634-261 995t-717 361q-457 0-718-361t-261-995 261-995 718-361q456 0 717 361t261 995zm-1957 1222q182 312 458 463 277 152 661 152 638 0 1036-506 399-506 399-1331t-399-1332q-398-506-1036-506-384 0-661 152-276 152-458 464v-525h-578v4863h578v-1894z\"/><path id=\"DejaVuSans-6c\" transform=\"scale(.015625)\" d=\"m603 4863h575v-4863h-575v4863z\"/><path id=\"DejaVuSans-74\" transform=\"scale(.015625)\" d=\"m1172 4494v-994h1184v-447h-1184v-1900q0-428 117-550t477-122h590v-481h-590q-666 0-919 248-253 249-253 905v1900h-422v447h422v994h578z\"/><path id=\"DejaVuSans-79\" transform=\"scale(.015625)\" d=\"m2059-325q-243-625-475-815-231-191-618-191h-460v481h338q237 0 368 113 132 112 291 531l103 262-1415 3444h609l1094-2737 1094 2737h609l-1538-3825z\"/></defs><use xlink:href=\"#DejaVuSans-51\"/><use x=\"78.710938\" xlink:href=\"#DejaVuSans-75\"/><use x=\"142.089844\" xlink:href=\"#DejaVuSans-61\"/><use x=\"203.369141\" xlink:href=\"#DejaVuSans-73\"/><use x=\"255.46875\" xlink:href=\"#DejaVuSans-69\"/><use x=\"283.251953\" xlink:href=\"#DejaVuSans-2d\"/><use x=\"319.335938\" xlink:href=\"#DejaVuSans-70\"/><use x=\"382.8125\" xlink:href=\"#DejaVuSans-72\"/><use x=\"421.675781\" xlink:href=\"#DejaVuSans-6f\"/><use x=\"482.857422\" xlink:href=\"#DejaVuSans-62\"/><use x=\"546.333984\" xlink:href=\"#DejaVuSans-61\"/><use x=\"607.613281\" xlink:href=\"#DejaVuSans-62\"/><use x=\"671.089844\" xlink:href=\"#DejaVuSans-69\"/><use x=\"698.873047\" xlink:href=\"#DejaVuSans-6c\"/><use x=\"726.65625\" xlink:href=\"#DejaVuSans-69\"/><use x=\"754.439453\" xlink:href=\"#DejaVuSans-74\"/><use x=\"793.648438\" xlink:href=\"#DejaVuSans-79\"/></g><path d=\"m70.58 284.4h153.18v-252h-153.18z\" clip-path=\"url(#p641efa8c6e)\" fill=\"#648fff\"/><path d=\"m62.921 284.4v-277.2\" fill=\"none\" stroke=\"#343a3f\" stroke-linecap=\"square\" stroke-width=\".8\"/><path d=\"m62.921 284.4h390.6\" fill=\"none\" stroke=\"#343a3f\" stroke-linecap=\"square\" stroke-width=\".8\"/><g transform=\"translate(139.22 17.72) scale(.1 -.1)\" fill=\"#343a3f\"><use xlink:href=\"#DejaVuSans-31\"/><use x=\"63.623047\" xlink:href=\"#DejaVuSans-2e\"/><use x=\"95.410156\" xlink:href=\"#DejaVuSans-30\"/></g><defs><clipPath id=\"p641efa8c6e\"><rect x=\"62.921\" y=\"7.2\" width=\"390.6\" height=\"277.2\"/></clipPath></defs></svg>"
      ],
      "text/plain": [
       "<Figure size 700x500 with 1 Axes>"
      ]
     },
     "execution_count": 4,
     "metadata": {},
     "output_type": "execute_result"
    }
   ],
   "source": [
    "filtered_counts = {\"0\": 0, \"1\": 0}\n",
    "\n",
    "for result, probability in counts.items():\n",
    "    filtered_counts[result[0]] += probability\n",
    "\n",
    "plot_histogram(filtered_counts)"
   ]
  },
  {
   "cell_type": "markdown",
   "id": "ded1c736",
   "metadata": {},
   "source": [
    "The test qubit is $0$ every time, indicating that teleportation has worked correctly."
   ]
  },
  {
   "cell_type": "code",
   "execution_count": 5,
   "id": "45507aa9",
   "metadata": {},
   "outputs": [
    {
     "data": {
      "text/html": [
       "<h3>Version Information</h3><table><tr><th>Qiskit Software</th><th>Version</th></tr><tr><td><code>qiskit-terra</code></td><td>0.23.3</td></tr><tr><td><code>qiskit-aer</code></td><td>0.12.0</td></tr><tr><td><code>qiskit-ibmq-provider</code></td><td>0.20.2</td></tr><tr><td><code>qiskit</code></td><td>0.42.1</td></tr><tr><td><code>qiskit-nature</code></td><td>0.6.0</td></tr><tr><td><code>qiskit-finance</code></td><td>0.3.4</td></tr><tr><td><code>qiskit-optimization</code></td><td>0.5.0</td></tr><tr><td><code>qiskit-machine-learning</code></td><td>0.6.1</td></tr><tr><th>System information</th></tr><tr><td>Python version</td><td>3.10.11</td></tr><tr><td>Python compiler</td><td>Clang 14.0.0 (clang-1400.0.29.202)</td></tr><tr><td>Python build</td><td>main, Apr  7 2023 07:31:31</td></tr><tr><td>OS</td><td>Darwin</td></tr><tr><td>CPUs</td><td>8</td></tr><tr><td>Memory (Gb)</td><td>32.0</td></tr><tr><td colspan='2'>Wed Jun 21 16:46:19 2023 BST</td></tr></table>"
      ],
      "text/plain": [
       "<IPython.core.display.HTML object>"
      ]
     },
     "metadata": {},
     "output_type": "display_data"
    }
   ],
   "source": [
    "import qiskit.tools.jupyter\n",
    "%qiskit_version_table"
   ]
  }
 ],
 "metadata": {
  "kernelspec": {
   "display_name": "Python 3",
   "language": "python",
   "name": "python3"
  },
  "language_info": {
   "codemirror_mode": {
    "name": "ipython",
    "version": 3
   },
   "file_extension": ".py",
   "mimetype": "text/x-python",
   "name": "python",
   "nbconvert_exporter": "python",
   "pygments_lexer": "ipython3",
   "version": "3.9"
  }
 },
 "nbformat": 4,
 "nbformat_minor": 5
}
