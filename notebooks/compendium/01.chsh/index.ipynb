{
 "cells": [
  {
   "cell_type": "markdown",
   "id": "9b991b0a",
   "metadata": {},
   "source": [
    "# CHSH game"
   ]
  },
  {
   "cell_type": "markdown",
   "id": "a0bed888",
   "metadata": {},
   "source": [
    "- Example type: game theory; thought experiment\n",
    "- Keywords: entanglement, nonlocality, Bell's theorem\n",
    "- Difficulty: easy\n",
    "- Requires two qubits\n",
    "- Notable connection: the 2022 Nobel Prize in Physics"
   ]
  },
  {
   "cell_type": "markdown",
   "id": "ff0a4f6f",
   "metadata": {},
   "source": [
    "## Description\n",
    "\n",
    "How can we prove that entanglement is real? Can you use quantum properties to cheat at a game? The CHSH Game (named after the 4 folks who invented it: Clauser, Horne, Shimony, and Holt) aims to answer those questions directly.\n",
    "\n",
    "The *CHSH game* is an abstract game involving two players, traditionally named *Alice* and *Bob*, and run by an impartial *referee*.\n",
    "It is alternatively described as a *Bell test* or *Bell experiment*, which demonstrates that entanglement allows for correlations, or improvements, that cannot be produced classically.\n",
    "\n",
    "The CHSH game is not a traditional game that relies on luck, skill, or emotion. Instead, it is a mathematical game, used to study or evaluate a premise. In this type of logical game you can assume the \"players\" always act rationally, and follow the rules set for them. \n",
    "\n",
    "### Game description\n",
    "\n",
    "The two players, Alice and Bob, work together as a team. In this game they are each given a piece of data by the referee, and then respond to the referee. The referee evaluates their answers based on a rule sheet, and tells them if they win or lose. That's the entire game. \n",
    "\n",
    "To make this game more difficult, Alice and Bob are *physically separated* and are *unable to communicate* with one another while the game is being played. They can, however, agree on a strategy beforehand, which is exactly what they do. As this fictional game is meant to demonstrate the usefulness of entanglement, they are also allowed to share an entangled quantum state.\n",
    "\n",
    "Here's how a normal round would play out:\n",
    "\n",
    "1. The game begins with the referee randomly choosing two binary values, $x$ and $y$, uniformly at random. The bit $x$ is given to Alice, and the bit $y$ is given to Bob. Neither Alice or Bob can communicate about what bit they were given.\n",
    "\n",
    "2. Alice and Bob must now each respond to the referee with a single bit as their **answer**: Alice responds with a bit $a$ and Bob responds with a bit $b$ \n",
    "\n",
    "3. The Referee consults the Rules Table, and determines if they won or lost.\n",
    "\n",
    "The following figure illustrates the basic set-up:\n",
    "\n",
    "![Nonlocal game](images/nonlocal-game.png)\n",
    "\n",
    "And this is the Rules Table that the referee uses:\n",
    "\n",
    "|The Referee Provides $$(x,y)$$ | They Win if: | They Lose if: |\n",
    "|:---:|:---:|:---:|\n",
    "|$$(0,0)$$ | $$a=b$$ | $$a\\not=b$$ |\n",
    "|$$(0,1)$$ | $$a=b$$ | $$a\\not=b$$ |\n",
    "|$$(1,0)$$ | $$a=b$$ | $$a\\not=b$$ |\n",
    "|$$(1,1)$$ | $$a\\not=b$$ | $$a=b$$ |\n",
    "\n",
    "In the Rules Table you can see that in order to win in 3 of the possible scenarios, Alice and Bob need to say the same answer (provide matching bits) to the referee. To win in the last scenario, they must give opposite answers. We'll explore in the Strategies section what an example game would look like. \n",
    "\n"
   ]
  },
  {
   "cell_type": "markdown",
   "id": "5641ce83-59c3-43da-9c0b-69a8dbd176f1",
   "metadata": {},
   "source": [
    "## Strategies\n",
    "\n",
    "Because the referee chooses the bits $x$ and $y$ randomly, and Alice and Bob are unable to communicate during the game, they are faced with uncertainty: neither player knows which number the other received. This presents a challenge for them. We'll use a round of the game to examine two of the possible strategies that Alice and Bob could use to overcome this challenge. \n",
    "\n",
    "The game has just begun in our fictional Round 1. Alice has been given bit $x$ by the referee. In this round $x$ = 1. Bob has been given bit $y$ by the referee. In this round $y$ = 0. Based on the Rules Table, in order to win Round 1 they must respond with the same answer to win. They must either both say 0 or both say 1. \n",
    "\n",
    "Let us first consider a *classical strategy* that Alice and Bob could agree upon before the round begins to give themselves the highest chance of winning. An easy-to-see strategy would be to decide they will always respond with the bit 0, no matter what they're given by the referee. In three of the four win cases, this would result in a victory for the team. Over the span of many rounds, the maximum probability with which they can win is $3/4.$ In fact, using any classicaly considered strategy we could imagine, the maximum win probability remains at $75\\%.$\n",
    "\n",
    "If, however, Alice and Bob share an _entangled quantum state_ and use what we'll call the _quantum strategy_, they can cheat at the game and increase their odds to $85\\%.$ How do they achieve this? Through the beauty of a Bell State!\n",
    "\n",
    "Before the game, Alice and Bob agree to share the *entangled* quantum state\n",
    "\n",
    "$$\n",
    "\\vert \\phi^+ \\rangle = \\frac{1}{\\sqrt{2}} \\vert 00 \\rangle + \\frac{1}{\\sqrt{2}} \\vert 11 \\rangle,\n",
    "$$\n",
    "\n",
    "This is a Bell state. It consists of two qubits which are maximally **entangled**. The outcome of measuring this state will only ever be 00 or 11.\n",
    "\n",
    "Alice and Bob are going to use this Bell state as a resource. This does **not** allow them to communicate, but it does provide both Alice and Bob something to consider, to help influence them to decide what the best answer would be. Because Alice and Bob share the two entangled qubits, when Alice measures hers, Bob knows he will get the same measurement.\n",
    "\n",
    "We're showing it as sharing 00 and 11, but note that they could also share qubits entangled in the following way:\n",
    "\n",
    "$$\n",
    "\\vert \\phi^+ \\rangle = \\frac{1}{\\sqrt{2}} \\vert ++ \\rangle + \\frac{1}{\\sqrt{2}} \\vert -- \\rangle,\n",
    "$$\n",
    "\n",
    "These qubits are still entangled! The difference is, we've decided to assess the qubits through a different basis, measuring through the X basis. The truth about entanglement is you can choose to measure through any basis, and end up with the same result: Alice and Bob will share the same measurement answer. \n",
    "\n",
    "This is the crux of the _quantum strategy_. **Alice and Bob know their measurements will be the same, regardless of the basis they choose to measure in.** By acting strategic and choosing to use the entangled resource to their advantage, they have effectively put their thumb on the scale, and found a way to \"cheat\" at the game. Alice and Bob decide to measure in a basis that is separated by a $(\\pi/8)$ rotation.\n",
    "\n",
    "**INSERT A PICTURE HERE OF A PI / 8 ROTATION!!!!**\n",
    "\n",
    "Even though it's just a shift of 1/16th of a circle, the probability of them measuring a 0 or a 1 shifts by a different amount. We can measure the probability of measurement by taking the square of cos. \n",
    "\n",
    "**INSERT A PICTURE HERE OF THE PROBABILITY BEING MEASURED**\n",
    "\n",
    "We now see that the probability is **not** linear. By shifting the measurement basis slightly, it causes the probabilities to be shifted in the favor of Alice and Bob. We can explore this mathematically by assigning the rotatation between those two bases to Theta $\\theta$\n",
    "\n",
    "The _quantum strategy_ can be fully explained by saying Alice and Bob decide to make a special set of rules for themselves to follow during the game. After they're given the bit by the referee, they use this special set of rules to tell them which basis state to measure their shared entangled quantum state through. If Alice gets a 1 from the ref, she measures in a _different_ basis state than if she was given a 0. The same is true for Bob as well. Because they both worked together to pick those basis states carefully before the game started, they know that the information they learn from measuing their entangled quantum state leads to higher odds of winning. They get an extra bit of confidence that the answer they now say back to the referee (which they decide based on the result of measuing the quantum state) will result in a win. By doing so, they can increase their winning probability to $\\cos^2(\\pi/8) \\approx 0.85.$ \n",
    "\n",
    "The _quantum strategy_ is illustrated in the following figure:\n",
    "\n",
    "![Nonlocal game](images/CHSH-strategy.png)\n",
    "\n",
    "In this figure, the *rotation* operation $R(\\theta)$ is defined as\n",
    "\n",
    "$$\n",
    "R(\\theta) = \\begin{pmatrix}\n",
    "\\cos(\\theta/2) & -\\sin(\\theta/2)\\\\\n",
    "\\sin(\\theta/2) & \\cos(\\theta/2)\n",
    "\\end{pmatrix}\n",
    "$$\n",
    "\n",
    "for every angle $\\theta.$ (The operation $R(\\theta)$ is commonly written $R_y(\\theta)$.)"
   ]
  },
  {
   "cell_type": "markdown",
   "id": "3964eced-fbb4-416b-bfdd-b0d3b9f4ac48",
   "metadata": {},
   "source": [
    "### Some final notes about the _quantum strategy_ and it's methods:\n",
    "- Alice and Bob never communicate during the game. Entanglement does **not** allow them to talk, nor does it provide faster-than-light communication.\n",
    "- This provable increase in odds of winning the CHSH game was used to help prove that entanglement is both a real, observable phenomenon, and that clever uses quantum properties like entanglement are worth investigating. \n",
    "- The measurement probability increases in a non-linear fashion as $R(\\theta)$ increases. Simply put, the probability of measuring a 0 or 1 increases faster than the degree of change moves. \n",
    "- Because of the non-linearity of the measurement probabilities, Alice and Bob can use the entangled resource to “put a thumb on the scale” of the game"
   ]
  },
  {
   "cell_type": "markdown",
   "id": "d8db6854",
   "metadata": {},
   "source": [
    "## Qiskit implementation"
   ]
  },
  {
   "cell_type": "markdown",
   "id": "d8a4b918",
   "metadata": {},
   "source": [
    "To implement the quantum strategy described above, we'll first define a function that takes the two question bits as input and produces one of four possible circuits as output.\n",
    "Each circuit includes the preparation of the $\\vert \\phi^+\\rangle$ state, as well as the rotation operations and measurements described above."
   ]
  },
  {
   "cell_type": "code",
   "execution_count": 1,
   "id": "e90f576a",
   "metadata": {},
   "outputs": [],
   "source": [
    "from qiskit import QuantumCircuit\n",
    "from numpy import pi\n",
    "\n",
    "def chsh_circuit(x, y):\n",
    "    qc = QuantumCircuit(2, 2)\n",
    "    qc.h(0)\n",
    "    qc.cx(0,1)\n",
    "    qc.barrier()\n",
    "\n",
    "    # Alice\n",
    "    if x == 0:\n",
    "        qc.ry(0, 0)\n",
    "    else:\n",
    "        qc.ry(-pi/2, 0)\n",
    "    qc.measure(0, 0)\n",
    "\n",
    "    # Bob\n",
    "    if y == 0:\n",
    "        qc.ry(-pi/4, 1)\n",
    "    else:\n",
    "        qc.ry(pi/4, 1)\n",
    "    qc.measure(1, 1)\n",
    "\n",
    "    return qc"
   ]
  },
  {
   "cell_type": "markdown",
   "id": "c3b645e7",
   "metadata": {},
   "source": [
    "Running the following code cell shows us the four possible circuits."
   ]
  },
  {
   "cell_type": "code",
   "execution_count": 2,
   "id": "6bf6059e",
   "metadata": {},
   "outputs": [
    {
     "name": "stdout",
     "output_type": "stream",
     "text": [
      "(x,y) = (0,0)\n"
     ]
    },
    {
     "data": {
      "image/png": "[encoded data removed]",
      "text/plain": [
       "<Figure size 447.652x204.68 with 1 Axes>"
      ]
     },
     "metadata": {},
     "output_type": "display_data"
    },
    {
     "name": "stdout",
     "output_type": "stream",
     "text": [
      "(x,y) = (0,1)\n"
     ]
    },
    {
     "data": {
      "image/png": "[encoded data removed]",
      "text/plain": [
       "<Figure size 447.652x204.68 with 1 Axes>"
      ]
     },
     "metadata": {},
     "output_type": "display_data"
    },
    {
     "name": "stdout",
     "output_type": "stream",
     "text": [
      "(x,y) = (1,0)\n"
     ]
    },
    {
     "data": {
      "image/png": "[encoded data removed]",
      "text/plain": [
       "<Figure size 447.652x204.68 with 1 Axes>"
      ]
     },
     "metadata": {},
     "output_type": "display_data"
    },
    {
     "name": "stdout",
     "output_type": "stream",
     "text": [
      "(x,y) = (1,1)\n"
     ]
    },
    {
     "data": {
      "image/png": "[encoded data removed]",
      "text/plain": [
       "<Figure size 447.652x204.68 with 1 Axes>"
      ]
     },
     "metadata": {},
     "output_type": "display_data"
    }
   ],
   "source": [
    "# Draw the four possible circuits\n",
    "\n",
    "print(f\"(x,y) = (0,0)\")\n",
    "display(chsh_circuit(0, 0).draw())\n",
    "\n",
    "print(f\"(x,y) = (0,1)\")\n",
    "display(chsh_circuit(0, 1).draw())\n",
    "\n",
    "print(f\"(x,y) = (1,0)\")\n",
    "display(chsh_circuit(1, 0).draw())\n",
    "\n",
    "print(f\"(x,y) = (1,1)\")\n",
    "display(chsh_circuit(1, 1).draw())"
   ]
  },
  {
   "cell_type": "markdown",
   "id": "0f4ed529",
   "metadata": {},
   "source": [
    "Next we'll define a job using the Aer simulator, which runs the circuit for a given pair of questions $(x,y)$ a single time."
   ]
  },
  {
   "cell_type": "code",
   "execution_count": 4,
   "id": "4be2854c",
   "metadata": {},
   "outputs": [],
   "source": [
    "from qiskit_aer import AerSimulator\n",
    "simulator = AerSimulator()\n",
    "\n",
    "def quantum_strategy(x, y):\n",
    "    job = simulator.run(chsh_circuit(x, y),\n",
    "                        shots=1,  # run the circuit once\n",
    "                        memory=True)  # enables `.get_memory()`\n",
    "    result = job.result().get_memory()[0]\n",
    "    a, b = result[0], result[1]\n",
    "    return a, b"
   ]
  },
  {
   "cell_type": "markdown",
   "id": "61c12443",
   "metadata": {},
   "source": [
    "Calling the function `quantum_strategy` runs the strategy one time on a given pair of questions."
   ]
  },
  {
   "cell_type": "code",
   "execution_count": 8,
   "id": "1c09f3f0",
   "metadata": {},
   "outputs": [
    {
     "data": {
      "text/plain": [
       "('0', '1')"
      ]
     },
     "execution_count": 8,
     "metadata": {},
     "output_type": "execute_result"
    }
   ],
   "source": [
    "quantum_strategy(1,1)"
   ]
  },
  {
   "cell_type": "markdown",
   "id": "23c8338a",
   "metadata": {},
   "source": [
    "To test out how well it does in the CHSH game, let's define a function that implements the game, including the random selection of the question bits. It takes an arbitrary strategy as an argument."
   ]
  },
  {
   "cell_type": "code",
   "execution_count": 9,
   "id": "b118d5dc",
   "metadata": {},
   "outputs": [],
   "source": [
    "from numpy.random import randint\n",
    "\n",
    "def chsh_game(strategy):\n",
    "    # Referee chooses x and y randomly\n",
    "    x, y = randint(0, 2), randint(0, 2)\n",
    "    \n",
    "    # Use strategy to choose a and b\n",
    "    a, b = strategy(x, y)\n",
    "    \n",
    "    # Referee decides if Alice and Bob win or lose\n",
    "    if (a != b) == (x & y):\n",
    "        return 1  # Win\n",
    "    return 0  # Lose"
   ]
  },
  {
   "cell_type": "markdown",
   "id": "81e16625",
   "metadata": {},
   "source": [
    "Finally, we can pass our strategy as the argument to the `CHSH_game` function to play the game.\n",
    "Let's play 1,000 times and see what fraction of games it wins."
   ]
  },
  {
   "cell_type": "code",
   "execution_count": 10,
   "id": "821ae9df",
   "metadata": {},
   "outputs": [
    {
     "name": "stdout",
     "output_type": "stream",
     "text": [
      "Fraction of games won: 0.859\n"
     ]
    }
   ],
   "source": [
    "NUM_GAMES = 1000\n",
    "total_score = 0\n",
    "\n",
    "for _ in range(NUM_GAMES):\n",
    "    total_score += chsh_game(quantum_strategy)\n",
    "\n",
    "print(f\"Fraction of games won:\", total_score/NUM_GAMES)"
   ]
  },
  {
   "cell_type": "markdown",
   "id": "b9ff84c5",
   "metadata": {},
   "source": [
    "We can also define a classical strategy and see how it compares. (Feel free to change the code to try out different strategies.)"
   ]
  },
  {
   "cell_type": "code",
   "execution_count": 16,
   "id": "413d989d",
   "metadata": {},
   "outputs": [],
   "source": [
    "def classical_strategy(x, y):\n",
    "\n",
    "    # Alice's answer\n",
    "    if (x == 0): a = 0\n",
    "    elif (x == 1): a = 1\n",
    "\n",
    "    # Bob's answer    \n",
    "    if (y == 0): b = 1\n",
    "    elif (y == 1): b = 0\n",
    "        \n",
    "    return a, b"
   ]
  },
  {
   "cell_type": "markdown",
   "id": "f1407fe4",
   "metadata": {},
   "source": [
    "Again let's play the game 1,000 times to see how well it works."
   ]
  },
  {
   "cell_type": "code",
   "execution_count": 17,
   "id": "f23ee6de",
   "metadata": {},
   "outputs": [
    {
     "name": "stdout",
     "output_type": "stream",
     "text": [
      "Fraction of games won: 0.751\n"
     ]
    }
   ],
   "source": [
    "NUM_GAMES = 1000\n",
    "total_score = 0\n",
    "\n",
    "for _ in range(NUM_GAMES):\n",
    "    total_score += chsh_game(classical_strategy)\n",
    "\n",
    "print(f\"Fraction of games won:\", total_score/NUM_GAMES)"
   ]
  },
  {
   "cell_type": "markdown",
   "id": "4463f5af",
   "metadata": {},
   "source": [
    "## Discussion and further reading\n",
    "\n",
    "Lesson 4 of the Understanding Quantum Information and Computation series, produced by IBM Quantum, covers this game and goes much more into detail about entanglement over. Watch that here - https://www.youtube.com/watch?v=GSsElSQgMbU&list=PLOFEBzvs-VvqKKMXX4vbi4EB1uaErFMSO&index=6 \n",
    "\n",
    "The CHSH game is sometimes used as a subroutine within cryptographic protocols, as a way to force untrusted parties to follow certain instructions.\n",
    "\n",
    "### Cited or Influential Work:\n",
    "\n",
    "- Ben W. Reichardt, Falk Unger, Umesh Vazirani. A classical leash for a quantum system: Command of quantum systems via rigidity of CHSH games. arXiv:1209.0448\n",
    "\n",
    "- Coladangelo, Andrea; Grilo, Alex; Jeffery, Stacey; Vidick, Thomas (January 9, 2020). \"Verifier-on-a-Leash: new schemes for verifiable delegated quantum computation, with quasilinear resources\". arXiv:1708.07359\n",
    " \n",
    "- Grilo, Alex B. (June 5, 2020). \"A simple protocol for verifiable delegation of quantum computation in one round\". arXiv:1711.09585\n",
    " \n",
    "- Vazirani, Umesh V.; Vidick, Thomas (November 25, 2011). \"Certifiable Quantum Dice - Or, testable exponential randomness expansion\". arXiv:1111.6054 \n",
    " \n",
    "- Vazirani, Umesh; Vidick, Thomas (September 29, 2014). \"Fully device independent quantum key distribution\". Physical Review Letters. 113 (14): 140501. arXiv:1210.1810. doi:10.1103/PhysRevLett.113.140501. PMID 25325625. S2CID 119299119 \n",
    "\n"
   ]
  }
 ],
 "metadata": {
  "kernelspec": {
   "display_name": "Python 3",
   "language": "python",
   "name": "python3"
  },
  "language_info": {
   "codemirror_mode": {
    "name": "ipython",
    "version": 3
   },
   "file_extension": ".py",
   "mimetype": "text/x-python",
   "name": "python",
   "nbconvert_exporter": "python",
   "pygments_lexer": "ipython3",
   "version": "3.9"
  }
 },
 "nbformat": 4,
 "nbformat_minor": 5
}
