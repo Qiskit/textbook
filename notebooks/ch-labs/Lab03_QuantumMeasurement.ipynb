{
 "cells": [
  {
   "cell_type": "markdown",
   "metadata": {
    "tags": [
     "remove_cell"
    ]
   },
   "source": [
    "# Lab 3 Quantum Measurements"
   ]
  },
  {
   "cell_type": "markdown",
   "metadata": {},
   "source": [
    "Prerequisite\n",
    "- [Ch.1.4 Single Qubit Gates](/course/ch-states/single-qubit-gates)\n",
    "- [Ch.2.2 Multiple Qubits and Entangled States](/course/ch-gates/multiple-qubits-and-entangled-states)\n",
    "- [Mitigating Noise on Real Quantum Computers](https://www.youtube.com/watch?v=yuDxHJOKsVA&list=PLOFEBzvs-Vvp2xg9-POLJhQwtVktlYGbY&index=8)\n",
    "\n",
    "Other relevant materials\n",
    "- [Feynman Lectures Ch. III - 12](https://www.feynmanlectures.caltech.edu/III_12.html)\n",
    "- [Quantum Operation](https://qiskit.org/documentation/tutorials/circuits/3_summary_of_quantum_operations.html)\n",
    "- [Interactive Bloch Sphere](https://nonhermitian.org/kaleido/stubs/kaleidoscope.interactive.bloch_sphere.html#kaleidoscope.interactive.bloch_sphere)\n",
    "- [Ch.5.2 Measurement Error Mitigation](/course/quantum-hardware/measurement-error-mitigation)"
   ]
  },
  {
   "cell_type": "code",
   "execution_count": 1,
   "metadata": {},
   "outputs": [],
   "source": [
    "from qiskit import *\n",
    "import numpy as np\n",
    "from numpy import linalg as la\n",
    "from qiskit.tools.monitor import job_monitor\n",
    "import qiskit.tools.jupyter"
   ]
  },
  {
   "cell_type": "markdown",
   "metadata": {},
   "source": [
    "## Part 1: Measuring the state of a qubit\n",
    "\n",
    "\n",
    "**Goal**\n",
    "\n",
    "Determine the Bloch components of a qubit.\n",
    "\n",
    "Fundamental to the operation of a quantum computer is the ability to compute the Bloch components of a qubit or qubits.  These components correspond to the expectation values of the Pauli operators $X, Y, Z$, and are important quantities for applications such as quantum chemistry and optimization.  Unfortunately, it is impossible to simultaneously compute these values, thus requiring many executions of the same circuit.  In addition, measurements are restricted to the computational basis (Z-basis) so that each Pauli needs to be rotated to the standard basis to access the x and y components.  Here we verify the methods by considering the case of a random vector on the Bloch sphere."
   ]
  },
  {
   "cell_type": "markdown",
   "metadata": {},
   "source": [
    "### &#128211; 1. Express the expectation values of the Pauli operators for an arbitrary qubit state $|q\\rangle$ in the computational basis.\n",
    "\n",
    "The case for the expectation value of Pauli Z gate is given as an example. "
   ]
  },
  {
   "cell_type": "markdown",
   "metadata": {},
   "source": [
    "Using the diagonal representation, also known as spectral form or orthonormal decomposition, of Pauli $Z$ gate and the relations among the Pauli gates (see [here](/course/ch-states/single-qubit-gates)), expectation values of $ X, Y, Z $ gates can be written as  \n",
    "\n",
    "$$\n",
    "\\begin{aligned}\n",
    "\\langle Z \\rangle &=\\langle q | Z | q\\rangle =\\langle q|0\\rangle\\langle 0|q\\rangle - \\langle q|1\\rangle\\langle 1|q\\rangle\n",
    "=|\\langle 0 |q\\rangle|^2 - |\\langle 1 | q\\rangle|^2\\\\\\\\\n",
    "\\langle X \\rangle &= \\\\\\\\\n",
    "\\langle Y \\rangle &=\n",
    "\\end{aligned}\n",
    "\\\\\n",
    "$$\n",
    ", respectively.\n",
    "\n",
    "Therefore, the expectation values of the Paulis for a qubit state $|q\\rangle$ can be obtained by making a measurement in the standard basis after rotating the standard basis frame to lie along the corresponding axis. The probabilities of obtaining the two possible outcomes 0 and 1 are used to evaluate the desired expectation value as the above equations show."
   ]
  },
  {
   "cell_type": "markdown",
   "metadata": {},
   "source": [
    "### 2. Measure the Bloch sphere coordinates of a qubit using the qasm simulator and plot the vector on the bloch sphere."
   ]
  },
  {
   "cell_type": "markdown",
   "metadata": {},
   "source": [
    "#### &#128211;Step A. Create a qubit state using the circuit method, <code>initialize</code> with two random complex numbers as the parameter.\n",
    "\n",
    "To learn how to use the function `initialize`, check [here](https://qiskit.org/documentation/tutorials/circuits/3_summary_of_quantum_operations.html). ( go to the `arbitrary initialization` section. )"
   ]
  },
  {
   "cell_type": "code",
   "execution_count": 2,
   "metadata": {},
   "outputs": [],
   "source": [
    "qc = QuantumCircuit(1)\n",
    "\n",
    "#### your code goes here\n",
    "\n",
    "\n"
   ]
  },
  {
   "cell_type": "markdown",
   "metadata": {},
   "source": [
    "#### &#128211;Step B. Build the circuits to measure the expectation values of $X, Y, Z$ gate based on your answers to the question 1.  Run the cell below to estimate the bloch sphere coordinates of the qubit from step A using the qasm simulator.\n",
    "\n",
    "The circuit for $Z$ gate measurement is given as an example."
   ]
  },
  {
   "cell_type": "code",
   "execution_count": 3,
   "metadata": {},
   "outputs": [],
   "source": [
    "# z measurement of qubit 0\n",
    "measure_z = QuantumCircuit(1,1)\n",
    "measure_z.measure(0,0)\n",
    "\n",
    "# x measurement of qubit 0\n",
    "measure_x = QuantumCircuit(1,1)\n",
    "# your code goes here\n",
    "\n",
    "\n",
    "\n",
    "\n",
    "\n",
    "\n",
    "\n",
    "# y measurement of qubit 0\n",
    "measure_y = QuantumCircuit(1,1)\n",
    "# your code goes here\n",
    "\n",
    "\n",
    "\n",
    "\n",
    "\n",
    "\n",
    "\n",
    "shots = 2**14 # number of samples used for statistics\n",
    "sim = Aer.get_backend('qasm_simulator')\n",
    "bloch_vector_measure = []\n",
    "for measure_circuit in [measure_x, measure_y, measure_z]:\n",
    "    \n",
    "    # run the circuit with a the selected measurement and get the number of samples that output each bit value\n",
    "    counts = execute(qc+measure_circuit, sim, shots=shots).result().get_counts()\n",
    "\n",
    "    # calculate the probabilities for each bit value\n",
    "    probs = {}\n",
    "    for output in ['0','1']:\n",
    "        if output in counts:\n",
    "            probs[output] = counts[output]/shots\n",
    "        else:\n",
    "            probs[output] = 0\n",
    "            \n",
    "    bloch_vector_measure.append( probs['0'] -  probs['1'] )\n",
    "\n",
    "# normalizing the bloch sphere vector\n",
    "bloch_vector = bloch_vector_measure/la.norm(bloch_vector_measure)\n",
    "\n",
    "print('The bloch sphere coordinates are [{0:4.3f}, {1:4.3f}, {2:4.3f}]'\n",
    "      .format(*bloch_vector))    "
   ]
  },
  {
   "cell_type": "markdown",
   "metadata": {},
   "source": [
    "#### Step C. Plot the vector on the bloch sphere.\n",
    "\n",
    "Note that the following cell for the interactive bloch_sphere would not run properly unless you work in [IQX](https://quantum-computing.ibm.com/login). You can either use `plot_bloch_vector` for the non-interactive version or install `kaleidoscope` by running \n",
    "\n",
    "```\n",
    "pip install kaleidoscope\n",
    "\n",
    "```\n",
    "in a terminal.  You also need to restart your kernel after the installation.  To learn more about how to use the interactive bloch sphere, go [here](https://nonhermitian.org/kaleido/stubs/kaleidoscope.interactive.bloch_sphere.html#kaleidoscope.interactive.bloch_sphere)."
   ]
  },
  {
   "cell_type": "code",
   "execution_count": 4,
   "metadata": {},
   "outputs": [],
   "source": [
    "from kaleidoscope.interactive import bloch_sphere\n",
    "\n",
    "bloch_sphere(bloch_vector, vectors_annotation=True)"
   ]
  },
  {
   "cell_type": "code",
   "execution_count": 5,
   "metadata": {},
   "outputs": [],
   "source": [
    "from qiskit.visualization import plot_bloch_vector\n",
    "\n",
    "plot_bloch_vector( bloch_vector )"
   ]
  },
  {
   "cell_type": "markdown",
   "metadata": {},
   "source": [
    "## Part 2: Measuring Energy\n",
    "\n",
    "\n",
    "**Goal**\n",
    "\n",
    "Evaluate the energy levels of the hydrogen ground state using qasm simulator.\n",
    "\n",
    "\n",
    "The energy of a quantum system can be estimated by measuring the expectation value of its hamiltonian, which is a hermitian operator, through the procedure we mastered in part 1.\n",
    "\n",
    "The ground state of hydrogen is not defined as a single unique state but actually contains four different states due to the spins of the electron and proton. In part 2 of this lab, we evaluate the energy difference among these four states, which is from the `hyperfine splitting`, by computing the energy expectation value for the system of two spins with the hamiltonian expressed in Pauli operators. For more information about `hyperfine structure`, see [here](https://www.feynmanlectures.caltech.edu/III_12.html)"
   ]
  },
  {
   "cell_type": "markdown",
   "metadata": {},
   "source": [
    "Consider the system with two qubit interaction hamiltonian $H = A(XX+YY+ZZ)$ where $A = 1.47e^{-6} eV$ and $X, Y, Z$ are Pauli gates. Then the energy expectation value of the system can be evaluated by combining the expectation value of each term in the hamiltonian.\n",
    "In this case, $E = \\langle H\\rangle = A( \\langle XX\\rangle + \\langle YY\\rangle + \\langle ZZ\\rangle )$. "
   ]
  },
  {
   "cell_type": "markdown",
   "metadata": {},
   "source": [
    "### &#128211; 1. Express the expectation value of each term in the hamiltonian for an arbitrary two qubit state   $|\\psi \\rangle$ in the computational basis.\n",
    "\n",
    "The case for the term $\\langle ZZ\\rangle$ is given as an example.\n",
    "\n",
    "$$\n",
    "\\begin{aligned}\n",
    "\\langle ZZ\\rangle &=\\langle \\psi | ZZ | \\psi\\rangle =\\langle \\psi|(|0\\rangle\\langle 0| - |1\\rangle\\langle 1|)\\otimes(|0\\rangle\\langle 0| - |1\\rangle\\langle 1|) |\\psi\\rangle\n",
    "=|\\langle 00|\\psi\\rangle|^2 - |\\langle 01 | \\psi\\rangle|^2 - |\\langle 10 | \\psi\\rangle|^2 + |\\langle 11|\\psi\\rangle|^2\\\\\\\\\n",
    "\\langle XX\\rangle &= \\\\\\\\\n",
    "\\langle YY\\rangle &=\n",
    "\\end{aligned}\n",
    "$$"
   ]
  },
  {
   "cell_type": "markdown",
   "metadata": {},
   "source": [
    "### 2. Measure the expected energy of the system using the qasm simulator when two qubits are entangled. Regard the bell basis, four different entangled states."
   ]
  },
  {
   "cell_type": "markdown",
   "metadata": {},
   "source": [
    "#### &#128211;Step A. Construct the circuits to prepare four different bell states.\n",
    "\n",
    "Let's label each bell state as,\n",
    "$$\n",
    "\\begin{aligned}\n",
    "Tri1 &= \\frac{1}{\\sqrt2} (|00\\rangle + |11\\rangle)\\\\\n",
    "Tri2 &= \\frac{1}{\\sqrt2} (|00\\rangle - |11\\rangle)\\\\\n",
    "Tri3 &= \\frac{1}{\\sqrt2} (|01\\rangle + |10\\rangle)\\\\\n",
    "Sing &= \\frac{1}{\\sqrt2} (|10\\rangle - |01\\rangle)\n",
    "\\end{aligned}\n",
    "$$"
   ]
  },
  {
   "cell_type": "code",
   "execution_count": 6,
   "metadata": {},
   "outputs": [],
   "source": [
    "# circuit for the state Tri1\n",
    "Tri1 = QuantumCircuit(2)\n",
    "# your code goes here\n",
    "\n",
    "\n",
    "\n",
    "\n",
    "\n",
    "\n",
    "# circuit for the state Tri2\n",
    "Tri2 = QuantumCircuit(2)\n",
    "# your code goes here\n",
    "\n",
    "\n",
    "\n",
    "\n",
    "\n",
    "# circuit for the state Tri3\n",
    "Tri3 = QuantumCircuit(2)\n",
    "# your code goes here\n",
    "\n",
    "\n",
    "\n",
    "\n",
    "\n",
    "\n",
    "# circuit for the state Sing\n",
    "Sing = QuantumCircuit(2)\n",
    "# your code goes here\n",
    "\n",
    "\n",
    "\n",
    "\n",
    "\n"
   ]
  },
  {
   "cell_type": "markdown",
   "metadata": {},
   "source": [
    "#### &#128211;Step B. Create the circuits to measure the expectation value of each term in the hamiltonian based on your answer to the question 1."
   ]
  },
  {
   "cell_type": "code",
   "execution_count": 135,
   "metadata": {},
   "outputs": [],
   "source": [
    "# <ZZ> \n",
    "measure_ZZ = QuantumCircuit(2)\n",
    "measure_ZZ.measure_all()\n",
    "\n",
    "# <XX>\n",
    "measure_XX = QuantumCircuit(2)\n",
    "# your code goes here\n",
    "\n",
    "\n",
    "\n",
    "\n",
    "\n",
    "# <YY>\n",
    "measure_YY = QuantumCircuit(2)\n",
    "# your code goes here\n",
    "\n",
    "\n",
    "\n",
    "\n"
   ]
  },
  {
   "cell_type": "markdown",
   "metadata": {},
   "source": [
    "#### Step C. Execute the circuits on qasm simulator by runnng the cell below and evaluate the energy expectation value for each state."
   ]
  },
  {
   "cell_type": "code",
   "execution_count": 136,
   "metadata": {},
   "outputs": [],
   "source": [
    "shots = 2**14 # number of samples used for statistics\n",
    "\n",
    "A = 1.47e-6 #unit of A is eV\n",
    "E_sim = []\n",
    "for state_init in [Tri1,Tri2,Tri3,Sing]:\n",
    "    Energy_meas = []\n",
    "    for measure_circuit in [measure_XX, measure_YY, measure_ZZ]:\n",
    "    \n",
    "        # run the circuit with a the selected measurement and get the number of samples that output each bit value\n",
    "        qc = state_init+measure_circuit\n",
    "        counts = execute(qc, sim, shots=shots).result().get_counts()\n",
    "\n",
    "        # calculate the probabilities for each computational basis\n",
    "        probs = {}\n",
    "        for output in ['00','01', '10', '11']:\n",
    "            if output in counts:\n",
    "                probs[output] = counts[output]/shots\n",
    "            else:\n",
    "                probs[output] = 0\n",
    "            \n",
    "        Energy_meas.append( probs['00'] - probs['01'] - probs['10'] + probs['11'] )\n",
    " \n",
    "    E_sim.append(A * np.sum(np.array(Energy_meas)))"
   ]
  },
  {
   "cell_type": "code",
   "execution_count": 7,
   "metadata": {},
   "outputs": [],
   "source": [
    "# Run this cell to print out your results\n",
    "\n",
    "print('Energy expection value of the state Tri1 : {:.3e} eV'.format(E_sim[0]))\n",
    "print('Energy expection value of the state Tri2 : {:.3e} eV'.format(E_sim[1]))\n",
    "print('Energy expection value of the state Tri3 : {:.3e} eV'.format(E_sim[2]))\n",
    "print('Energy expection value of the state Sing : {:.3e} eV'.format(E_sim[3]))"
   ]
  },
  {
   "cell_type": "markdown",
   "metadata": {},
   "source": [
    "#### Step D. Understanding the result.\n",
    "\n",
    "If you found the energy expectation values successfully, you would have obtained exactly the same value, $A (= 1.47e^{-6} eV)$, for the trplet tates, $|Tri1\\rangle, |Tri2\\rangle, |Tri3\\rangle$ and one lower energy level, $-3A (= -4.41e^{-6} eV)$ for the singlet state $|Sing\\rangle$.   \n",
    "\n",
    "What we have done here is measuring the energies of the four different spin states corresponding to the ground state of hydrogen and observed `hyperfine structure` in the energy levels caused by spin-spin coupling.  This tiny energy difference between the singlet and triplet states is the reason for the famous 21-cm wavelength radiation used to map the structure of the galaxy.  "
   ]
  },
  {
   "cell_type": "markdown",
   "metadata": {},
   "source": [
    "In the cell below, we varify the wavelength of the emission from the transition between the triplet states and singlet state. "
   ]
  },
  {
   "cell_type": "code",
   "execution_count": 8,
   "metadata": {},
   "outputs": [],
   "source": [
    "# reduced plank constant in (eV) and the speed of light(cgs units)\n",
    "hbar, c = 4.1357e-15, 3e10\n",
    "\n",
    "# energy difference between the triplets and singlet\n",
    "E_del = abs(E_sim[0] - E_sim[3])\n",
    "\n",
    "# frequency associated with the energy difference\n",
    "f = E_del/hbar\n",
    "\n",
    "# convert frequency to wavelength in (cm) \n",
    "wavelength = c/f\n",
    "\n",
    "print('The wavelength of the radiation from the transition\\\n",
    " in the hyperfine structure is : {:.1f} cm'.format(wavelength))"
   ]
  },
  {
   "cell_type": "markdown",
   "metadata": {},
   "source": [
    "## Part 3: Execute the circuits on Quantum Computer\n",
    "\n",
    "\n",
    "**Goal**\n",
    "\n",
    "Re-run the circuits on a IBM quantum system.  Perform measurement error mitigations on the result to improve the accuracy in the energy estimation.\n"
   ]
  },
  {
   "cell_type": "markdown",
   "metadata": {},
   "source": [
    "#### Step A. Run the following cells to load your account and select the backend"
   ]
  },
  {
   "cell_type": "code",
   "execution_count": 139,
   "metadata": {
    "tags": [
     "uses-hardware"
    ]
   },
   "outputs": [],
   "source": [
    "provider = IBMQ.load_account()"
   ]
  },
  {
   "cell_type": "code",
   "execution_count": 178,
   "metadata": {
    "tags": [
     "uses-hardware"
    ]
   },
   "outputs": [],
   "source": [
    "backend = provider.get_backend('ibmq_athens')"
   ]
  },
  {
   "cell_type": "markdown",
   "metadata": {},
   "source": [
    "#### Step B. Execute the circuits on the quantum system.\n",
    "\n",
    "\n",
    "In Lab1 when we excuted multiple circuits on a real quantum system, we submitted each circuit as a sperate job which produces the multiple job ids.  This time, we put all the circuits in a list and execute the list of the circuits as one job. In this way, all the circuit execution can happen at once, which would possibly decrease your wait time in the queue.\n",
    "\n",
    "In addition, `transpile` is not used here as all the circuits that we run consist of one or two qubit gates.  We can still specify the initial_layout and optimization_level through `execute` function.  Without using `transpile`, the transpiled circuits are not accessible which is not a concern for this case. "
   ]
  },
  {
   "cell_type": "markdown",
   "metadata": {},
   "source": [
    "&#128211; Check the backend configuration information and error map through the widget to determine your <code>initial_layout</code>."
   ]
  },
  {
   "cell_type": "code",
   "execution_count": null,
   "metadata": {
    "tags": [
     "uses-hardware"
    ]
   },
   "outputs": [],
   "source": [
    "# run this cell to get the backend information through the widget\n",
    "backend"
   ]
  },
  {
   "cell_type": "code",
   "execution_count": null,
   "metadata": {
    "tags": [
     "uses-hardware"
    ]
   },
   "outputs": [],
   "source": [
    "# assign your choice for the initial layout to the list variable `initial_layout`.\n",
    "initial_layout = "
   ]
  },
  {
   "cell_type": "markdown",
   "metadata": {},
   "source": [
    "Run the following cell to execute the circuits with the initial_layout on the backend."
   ]
  },
  {
   "cell_type": "code",
   "execution_count": 9,
   "metadata": {
    "tags": [
     "uses-hardware"
    ]
   },
   "outputs": [],
   "source": [
    "qc_all = [state_init+measure_circuit for state_init in [Tri1,Tri2,Tri3,Sing] \n",
    "          for measure_circuit in [measure_XX, measure_YY, measure_ZZ] ]  \n",
    "\n",
    "shots = 8192\n",
    "job = execute(qc_all, backend, initial_layout=initial_layout, optimization_level=3, shots=shots)\n",
    "print(job.job_id())\n",
    "job_monitor(job)"
   ]
  },
  {
   "cell_type": "code",
   "execution_count": 159,
   "metadata": {
    "tags": [
     "uses-hardware"
    ]
   },
   "outputs": [],
   "source": [
    "# getting the results of your job\n",
    "results = job.result()"
   ]
  },
  {
   "cell_type": "code",
   "execution_count": 160,
   "metadata": {
    "tags": [
     "uses-hardware"
    ]
   },
   "outputs": [],
   "source": [
    "## To access the results of the completed job\n",
    "#results = backend.retrieve_job('job_id').result()"
   ]
  },
  {
   "cell_type": "markdown",
   "metadata": {},
   "source": [
    "#### Step C. Estimate the ground state energy levels from the results of the previous step by executing the cells below."
   ]
  },
  {
   "cell_type": "code",
   "execution_count": 161,
   "metadata": {
    "tags": [
     "uses-hardware"
    ]
   },
   "outputs": [],
   "source": [
    "def Energy(results, shots):\n",
    "    \"\"\"Compute the energy levels of the hydrogen ground state.\n",
    "    \n",
    "    Parameters:\n",
    "        results (obj): results, results from executing the circuits for measuring a hamiltonian.\n",
    "        shots (int): shots, number of shots used for the circuit execution.\n",
    "        \n",
    "    Returns:\n",
    "        Energy (list): energy values of the four different hydrogen ground states\n",
    "    \"\"\"\n",
    "    E = []\n",
    "    A = 1.47e-6\n",
    "\n",
    "    for ind_state in range(4):\n",
    "        Energy_meas = []\n",
    "        for ind_comp in range(3):\n",
    "            counts = results.get_counts(ind_state*3+ind_comp)\n",
    "        \n",
    "            # calculate the probabilities for each computational basis\n",
    "            probs = {}\n",
    "            for output in ['00','01', '10', '11']:\n",
    "                if output in counts:\n",
    "                    probs[output] = counts[output]/shots\n",
    "                else:\n",
    "                    probs[output] = 0\n",
    "            \n",
    "            Energy_meas.append( probs['00'] - probs['01'] - probs['10'] + probs['11'] )\n",
    "\n",
    "        E.append(A * np.sum(np.array(Energy_meas)))\n",
    "    \n",
    "    return E"
   ]
  },
  {
   "cell_type": "code",
   "execution_count": 10,
   "metadata": {
    "tags": [
     "uses-hardware"
    ]
   },
   "outputs": [],
   "source": [
    "E = Energy(results, shots)\n",
    "\n",
    "print('Energy expection value of the state Tri1 : {:.3e} eV'.format(E[0]))\n",
    "print('Energy expection value of the state Tri2 : {:.3e} eV'.format(E[1]))\n",
    "print('Energy expection value of the state Tri3 : {:.3e} eV'.format(E[2]))\n",
    "print('Energy expection value of the state Sing : {:.3e} eV'.format(E[3]))"
   ]
  },
  {
   "cell_type": "markdown",
   "metadata": {},
   "source": [
    "#### Step D. Measurement error mitigation.\n",
    "\n",
    "The results you obtained from running the circuits on the quantum system are not exact due to the noise from the various sources such as enery relaxation, dephasing, crosstalk between qubits, etc. In this step, we will alleviate the effects of the noise through the measurement error mitigation. Before we start, watch this [video](https://www.youtube.com/watch?v=yuDxHJOKsVA&list=PLOFEBzvs-Vvp2xg9-POLJhQwtVktlYGbY&index=8). "
   ]
  },
  {
   "cell_type": "code",
   "execution_count": 163,
   "metadata": {
    "tags": [
     "uses-hardware"
    ]
   },
   "outputs": [],
   "source": [
    "from qiskit.ignis.mitigation.measurement import *"
   ]
  },
  {
   "cell_type": "markdown",
   "metadata": {},
   "source": [
    "&#128211;Construct the circuits to profile the measurement errors of all basis states using the function 'complete_meas_cal'.  Obtain the measurement filter object, 'meas_filter', which will be applied to the noisy results to mitigate readout (measurement) error. "
   ]
  },
  {
   "cell_type": "markdown",
   "metadata": {},
   "source": [
    "For further helpful information to complete this task, check [here](/course/quantum-hardware/measurement-error-mitigation) . "
   ]
  },
  {
   "cell_type": "code",
   "execution_count": 11,
   "metadata": {
    "scrolled": true,
    "tags": [
     "uses-hardware"
    ]
   },
   "outputs": [],
   "source": [
    "# your code to create the circuits, meas_calibs, goes here\n",
    "meas_calibs, state_labels = \n",
    "\n",
    "\n",
    "\n",
    "# execute meas_calibs on your choice of the backend\n",
    "job = execute(meas_calibs, backend, shots = shots)\n",
    "print(job.job_id())\n",
    "job_monitor(job)\n",
    "cal_results = job.result()\n",
    "## To access the results of the completed job\n",
    "#cal_results = backend.retrieve_job('job_id').result()\n",
    "\n",
    "\n",
    "# your code to obtain the measurement filter object, 'meas_filter', goes here\n",
    "\n",
    "\n",
    "\n",
    "\n"
   ]
  },
  {
   "cell_type": "code",
   "execution_count": 165,
   "metadata": {
    "tags": [
     "uses-hardware"
    ]
   },
   "outputs": [],
   "source": [
    "results_new = meas_filter.apply(results)"
   ]
  },
  {
   "cell_type": "code",
   "execution_count": 13,
   "metadata": {
    "tags": [
     "uses-hardware"
    ]
   },
   "outputs": [],
   "source": [
    "E_new = Energy(results_new, shots)\n",
    "\n",
    "print('Energy expection value of the state Tri1 : {:.3e} eV'.format(E_new[0]))\n",
    "print('Energy expection value of the state Tri2 : {:.3e} eV'.format(E_new[1]))\n",
    "print('Energy expection value of the state Tri3 : {:.3e} eV'.format(E_new[2]))\n",
    "print('Energy expection value of the state Sing : {:.3e} eV'.format(E_new[3]))"
   ]
  },
  {
   "cell_type": "markdown",
   "metadata": {},
   "source": [
    "#### Step E. Interpret the result."
   ]
  },
  {
   "cell_type": "markdown",
   "metadata": {},
   "source": [
    "&#128211; Compute the relative errors ( or the fractional error ) of the energy values for all four states with and without measurement error mitigation."
   ]
  },
  {
   "cell_type": "code",
   "execution_count": 167,
   "metadata": {
    "tags": [
     "uses-hardware"
    ]
   },
   "outputs": [],
   "source": [
    "# results for the energy estimation from the simulation, \n",
    "# execution on a quantum system without error mitigation and\n",
    "# with error mitigation in numpy array format \n",
    "Energy_exact, Energy_exp_orig, Energy_exp_new = np.array(E_sim), np.array(E), np.array(E_new)"
   ]
  },
  {
   "cell_type": "code",
   "execution_count": 179,
   "metadata": {
    "tags": [
     "uses-hardware"
    ]
   },
   "outputs": [],
   "source": [
    "# Calculate the relative errors of the energy values without error mitigation \n",
    "# and assign to the numpy array variable `Err_rel_orig` of size 4\n",
    "Err_rel_orig = "
   ]
  },
  {
   "cell_type": "code",
   "execution_count": 169,
   "metadata": {
    "tags": [
     "uses-hardware"
    ]
   },
   "outputs": [],
   "source": [
    "# Calculate the relative errors of the energy values with error mitigation \n",
    "# and assign to the numpy array variable `Err_rel_new` of size 4\n",
    "Err_rel_new = "
   ]
  },
  {
   "cell_type": "code",
   "execution_count": 14,
   "metadata": {
    "tags": [
     "uses-hardware"
    ]
   },
   "outputs": [],
   "source": [
    "np.set_printoptions(precision=3)\n",
    "\n",
    "print('The relative errors of the energy values for four bell basis\\\n",
    " without measurement error mitigation : {}'.format(Err_rel_orig))"
   ]
  },
  {
   "cell_type": "code",
   "execution_count": 15,
   "metadata": {
    "tags": [
     "uses-hardware"
    ]
   },
   "outputs": [],
   "source": [
    "np.set_printoptions(precision=3)\n",
    "\n",
    "print('The relative errors of the energy values for four bell basis\\\n",
    " with measurement error mitigation : {}'.format(Err_rel_new))"
   ]
  },
  {
   "cell_type": "markdown",
   "metadata": {},
   "source": [
    "&#128211; Compare the size of the errors before and after the measurment error mitigation and discuss about the effect of the readout error regarding the error map information of the backend that you selected.  "
   ]
  },
  {
   "cell_type": "markdown",
   "metadata": {},
   "source": [
    "**Your answer:**"
   ]
  }
 ],
 "metadata": {
  "kernelspec": {
   "display_name": "Python 3",
   "language": "python",
   "name": "python3"
  },
  "language_info": {
   "codemirror_mode": {
    "name": "ipython",
    "version": 3
   },
   "file_extension": ".py",
   "mimetype": "text/x-python",
   "name": "python",
   "nbconvert_exporter": "python",
   "pygments_lexer": "ipython3",
   "version": "3.9"
  }
 },
 "nbformat": 4,
 "nbformat_minor": 2
}
