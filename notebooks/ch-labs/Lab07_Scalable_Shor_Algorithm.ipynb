{
 "cells": [
  {
   "cell_type": "markdown",
   "metadata": {
    "tags": [
     "remove_cell"
    ]
   },
   "source": [
    "# Lab 7 Scalable Shor’s Algorithm"
   ]
  },
  {
   "cell_type": "markdown",
   "metadata": {},
   "source": [
    "Prerequisites:\n",
    "- [Ch.3.7 Shor's Algorithm](/course/ch-algorithms/shors-algorithm)\n",
    "\n",
    "Other relevant materials:\n",
    "- [Experimental demonstration of Shor’s algorithm with quantum entanglement](https://arxiv.org/pdf/0705.1398.pdf)\n",
    "- [Realization of a scalable Shor algorithm](https://arxiv.org/pdf/1507.08852.pdf)"
   ]
  },
  {
   "cell_type": "code",
   "execution_count": 1,
   "metadata": {},
   "outputs": [],
   "source": [
    "from qiskit import *\n",
    "import numpy as np\n",
    "from qiskit.visualization import plot_histogram\n",
    "import qiskit.tools.jupyter \n",
    "import matplotlib.pyplot as plt"
   ]
  },
  {
   "cell_type": "code",
   "execution_count": 2,
   "metadata": {},
   "outputs": [],
   "source": [
    "sim = Aer.get_backend('qasm_simulator')\n",
    "shots = 20000"
   ]
  },
  {
   "cell_type": "markdown",
   "metadata": {},
   "source": [
    "## Part 1: Quantum circuit for Shor's algorithm\n",
    "\n",
    "\n",
    "**Goal**\n",
    "\n",
    "Construct a compiled version of quantum circuit for Shor's algorithm.\n",
    " \n",
    "Shor's algorithm consists of the following steps; choose a co-prime $a$, where $a \\in [2, N-1]$ and the greatest common divisor of $a$ and $N$ is 1, find the order of $a$ modulo $N$, the smallest integer $r$ such that $a^{r}modN = 1$, and then obtain the factor of $N$ by computing the greatst common divisor of $a^{r/2} \\pm 1$ and $N$. In this procedure, the second step, finding the order of $a$ modulo $N$, is the only quantum part, *quantum order-finding*.  \n",
    "\n",
    "In [Ch.3.9 Shor's Algorithm](/course/ch-algorithms/shors-algorithm), we built a quantum circuit to find the order for $a=7$ and $N=15$. However, as we are very well aware by now, such a large depth circuit is not practical to run on near-term quantum systems due to the presence of noise. Here in part 1 of this lab, we construct a practical quantum circuit for the same example, which could generate a meaningful solution when executed on today's quantum computers. "
   ]
  },
  {
   "cell_type": "markdown",
   "metadata": {},
   "source": [
    "In general, the quantum order-finding circuit to factorize the number $N$ requires $m = [log_{2}(N)]$ qubits in the computational (auxiliary) register and $2m (=t)$qubit in the period ( counting ) registers .i.e. total $3m$ qubits, at minimum.  Therefore, 12 qubits were used in the quantum circuit to factorize the number 15 in [Ch.3.9 Shor's Algorithm](/course/ch-algorithms/shors-algorithm). In addition, the cotrolled unitary operator for the modular function, $f(x) = a^xmodN$ was applied in a cascading manner as shown in the figure below to produce the highly entangled state $\\Sigma^{2^m-1}_{x=0}|x\\rangle|a^xmodN>$, which increseas the circuit depth substantially.  However the size of the circuit can be reduced based on several observations."
   ]
  },
  {
   "cell_type": "markdown",
   "metadata": {},
   "source": [
    "![](images/L7_Circ_gen.svg)"
   ]
  },
  {
   "cell_type": "markdown",
   "metadata": {},
   "source": [
    "### 1. Remove redundancy."
   ]
  },
  {
   "cell_type": "markdown",
   "metadata": {},
   "source": [
    "#### Step A. Run the following cell to create the gate <code>U</code> for  the function <code>7mod15</code>."
   ]
  },
  {
   "cell_type": "markdown",
   "metadata": {},
   "source": [
    "The unitary operator $U$ is defined as $U|x\\rangle \\equiv |7x(mod15)\\rangle$."
   ]
  },
  {
   "cell_type": "code",
   "execution_count": 3,
   "metadata": {},
   "outputs": [],
   "source": [
    "## Create 7mod15 gate\n",
    "N = 15\n",
    "m = int(np.ceil(np.log2(N)))\n",
    "\n",
    "U_qc = QuantumCircuit(m)\n",
    "U_qc.x(range(m))\n",
    "U_qc.swap(1, 2)\n",
    "U_qc.swap(2, 3)\n",
    "U_qc.swap(0, 3)\n",
    "\n",
    "U = U_qc.to_gate()\n",
    "U.name ='{}Mod{}'.format(7, N)"
   ]
  },
  {
   "cell_type": "markdown",
   "metadata": {},
   "source": [
    "&#128211; Confirm if the unitary operator $U$ works properly by creating a quantum circuit with $m$ qubits.  Prepare the input state representing any integer between 0 and 15 (exclusive) such as $|1\\rangle (=|0001\\rangle), |5\\rangle (=|0101\\rangle), |13\\rangle (=|1101\\rangle)$ etc, and apply $U$ gate on it. Check if the circuit produces the expected outcomes for several inputs.  The outcome state for the input $|1\\rangle$ should be $|7\\rangle (=|0111>$) and $|1\\rangle$ for the input $|13\\rangle$, for example. "
   ]
  },
  {
   "cell_type": "code",
   "execution_count": 136,
   "metadata": {},
   "outputs": [],
   "source": [
    "### your code goes here\n",
    "\n",
    "\n",
    "\n",
    "\n",
    "\n",
    "\n",
    "\n",
    "\n",
    "\n",
    "\n",
    "\n",
    "\n",
    "\n",
    "\n",
    "\n",
    "\n"
   ]
  },
  {
   "cell_type": "markdown",
   "metadata": {},
   "source": [
    "#### &#128211;Step B. Create a quantum circuit with $m$ qubits implementing $U$ gate $4(=2^{2})$ times and run it on the <code>unitary_simulator</code> to obtain the matrix resprentation of the gates in the circuit.  Verify $U^{2^{2}} = I $  "
   ]
  },
  {
   "cell_type": "markdown",
   "metadata": {},
   "source": [
    "As shown in the above figure, modular exponentiation is realized by implementing the controlled unitary operator $U$ on each qubit $2^{n}$ times in series when $n$ goes from 0 to 7 for our example.  However, we will find out that whole sets of operations are redundant when $n > 1$ for `7mod15` case, hence the redundant operation can be removed from the circuit.   "
   ]
  },
  {
   "cell_type": "code",
   "execution_count": 1,
   "metadata": {},
   "outputs": [],
   "source": [
    "### your code goes here\n",
    "\n",
    "\n",
    "\n",
    "\n",
    "\n",
    "\n",
    "\n",
    "\n",
    "\n",
    "\n",
    "\n",
    "\n",
    "\n",
    "\n"
   ]
  },
  {
   "cell_type": "markdown",
   "metadata": {},
   "source": [
    "#### Step C. Run the cells below to see the reduced circuit, <code>shor_QPE</code>, and execute it on the <code>qasm_simulator</code> to check if it reproduce the estimated phases in the Qiskit textbook Ch.3.9. "
   ]
  },
  {
   "cell_type": "code",
   "execution_count": 4,
   "metadata": {},
   "outputs": [],
   "source": [
    "def cU_multi(k):\n",
    "    circ = QuantumCircuit(m)\n",
    "    for _ in range(2**k):\n",
    "        circ.append(U, range(m))\n",
    "    \n",
    "    U_multi = circ.to_gate()\n",
    "    U_multi.name = '7Mod15_[2^{}]'.format(k)\n",
    "    \n",
    "    cU_multi = U_multi.control()\n",
    "    return cU_multi"
   ]
  },
  {
   "cell_type": "code",
   "execution_count": 5,
   "metadata": {},
   "outputs": [],
   "source": [
    "def qft(n):\n",
    "    \"\"\"Creates an n-qubit QFT circuit\"\"\"\n",
    "    circuit = QuantumCircuit(n)\n",
    "    def swap_registers(circuit, n):\n",
    "        for qubit in range(n//2):\n",
    "            circuit.swap(qubit, n-qubit-1)\n",
    "        return circuit\n",
    "    def qft_rotations(circuit, n):\n",
    "        \"\"\"Performs qft on the first n qubits in circuit (without swaps)\"\"\"\n",
    "        if n == 0:\n",
    "            return circuit\n",
    "        n -= 1\n",
    "        circuit.h(n)\n",
    "        for qubit in range(n):\n",
    "            circuit.cp(np.pi/2**(n-qubit), qubit, n)\n",
    "        qft_rotations(circuit, n)\n",
    "    \n",
    "    qft_rotations(circuit, n)\n",
    "    swap_registers(circuit, n)\n",
    "    return circuit"
   ]
  },
  {
   "cell_type": "code",
   "execution_count": 6,
   "metadata": {
    "scrolled": false
   },
   "outputs": [
    {
     "data": {
      "image/svg+xml": [
       "<?xml version=\"1.0\" encoding=\"UTF-8\"?><!DOCTYPE svg  PUBLIC '-//W3C//DTD SVG 1.1//EN'  'http://www.w3.org/Graphics/SVG/1.1/DTD/svg11.dtd'><svg width=\"625.19pt\" height=\"396.19pt\" version=\"1.1\" viewBox=\"0 0 625.19 396.19\" xmlns=\"http://www.w3.org/2000/svg\" xmlns:xlink=\"http://www.w3.org/1999/xlink\"><defs><style type=\"text/css\">*{stroke-linecap:butt;stroke-linejoin:round;}</style></defs><path d=\"m0 396.19h625.19v-396.19h-625.19z\" fill=\"#ffffff\"/><path d=\"m491.18 351.38h11.817l-5.9086 8.5221z\" clip-path=\"url(#p93e9b33546)\" fill=\"#778899\"/><path d=\"m536.64 351.38h11.817l-5.9086 8.5221z\" clip-path=\"url(#p93e9b33546)\" fill=\"#778899\"/><path d=\"m582.09 351.38h11.817l-5.9086 8.5221z\" clip-path=\"url(#p93e9b33546)\" fill=\"#778899\"/><path d=\"m63.491 43.561h549.96\" clip-path=\"url(#p93e9b33546)\" fill=\"none\" stroke=\"#000000\" stroke-linecap=\"square\" stroke-width=\"2\"/><path d=\"m63.491 89.012h549.96\" clip-path=\"url(#p93e9b33546)\" fill=\"none\" stroke=\"#000000\" stroke-linecap=\"square\" stroke-width=\"2\"/><path d=\"m63.491 134.46h549.96\" clip-path=\"url(#p93e9b33546)\" fill=\"none\" stroke=\"#000000\" stroke-linecap=\"square\" stroke-width=\"2\"/><path d=\"m63.491 179.91h549.96\" clip-path=\"url(#p93e9b33546)\" fill=\"none\" stroke=\"#000000\" stroke-linecap=\"square\" stroke-width=\"2\"/><path d=\"m63.491 225.36h549.96\" clip-path=\"url(#p93e9b33546)\" fill=\"none\" stroke=\"#000000\" stroke-linecap=\"square\" stroke-width=\"2\"/><path d=\"m63.491 270.82h549.96\" clip-path=\"url(#p93e9b33546)\" fill=\"none\" stroke=\"#000000\" stroke-linecap=\"square\" stroke-width=\"2\"/><path d=\"m63.491 316.27h549.96\" clip-path=\"url(#p93e9b33546)\" fill=\"none\" stroke=\"#000000\" stroke-linecap=\"square\" stroke-width=\"2\"/><path d=\"m63.491 360.24h549.96\" clip-path=\"url(#p93e9b33546)\" fill=\"none\" stroke=\"#778899\" stroke-linecap=\"square\" stroke-width=\"2\"/><path d=\"m63.491 363.19h549.96\" clip-path=\"url(#p93e9b33546)\" fill=\"none\" stroke=\"#778899\" stroke-linecap=\"square\" stroke-width=\"2\"/><path d=\"m178.94 316.27v-272.71\" clip-path=\"url(#p93e9b33546)\" fill=\"none\" stroke=\"#bb8bff\" stroke-linecap=\"square\" stroke-width=\"2\"/><path d=\"m315.29 316.27v-227.26\" clip-path=\"url(#p93e9b33546)\" fill=\"none\" stroke=\"#bb8bff\" stroke-linecap=\"square\" stroke-width=\"2\"/><path d=\"m498.57 43.561v307.82\" clip-path=\"url(#p93e9b33546)\" fill=\"none\" stroke=\"#778899\" stroke-linecap=\"square\" stroke-width=\"2\"/><path d=\"m495.62 43.561v307.82\" clip-path=\"url(#p93e9b33546)\" fill=\"none\" stroke=\"#778899\" stroke-linecap=\"square\" stroke-width=\"2\"/><path d=\"m544.02 89.012v262.37\" clip-path=\"url(#p93e9b33546)\" fill=\"none\" stroke=\"#778899\" stroke-linecap=\"square\" stroke-width=\"2\"/><path d=\"m541.07 89.012v262.37\" clip-path=\"url(#p93e9b33546)\" fill=\"none\" stroke=\"#778899\" stroke-linecap=\"square\" stroke-width=\"2\"/><path d=\"m589.47 134.46v216.91\" clip-path=\"url(#p93e9b33546)\" fill=\"none\" stroke=\"#778899\" stroke-linecap=\"square\" stroke-width=\"2\"/><path d=\"m586.52 134.46v216.91\" clip-path=\"url(#p93e9b33546)\" fill=\"none\" stroke=\"#778899\" stroke-linecap=\"square\" stroke-width=\"2\"/><path d=\"m72.581 366.26 4.5451-9.0902\" clip-path=\"url(#p93e9b33546)\" fill=\"none\" stroke=\"#778899\" stroke-linecap=\"square\" stroke-width=\"1.5\"/><path d=\"m73.263 58.332h29.543v-29.543h-29.543z\" clip-path=\"url(#p93e9b33546)\" fill=\"#6fa4ff\" stroke=\"#6fa4ff\" stroke-width=\"1.5\"/><path d=\"m73.263 103.78h29.543v-29.543h-29.543z\" clip-path=\"url(#p93e9b33546)\" fill=\"#6fa4ff\" stroke=\"#6fa4ff\" stroke-width=\"1.5\"/><path d=\"m73.263 149.23h29.543v-29.543h-29.543z\" clip-path=\"url(#p93e9b33546)\" fill=\"#6fa4ff\" stroke=\"#6fa4ff\" stroke-width=\"1.5\"/><path d=\"m73.263 194.69h29.543v-29.543h-29.543z\" clip-path=\"url(#p93e9b33546)\" fill=\"#05bab6\" stroke=\"#05bab6\" stroke-width=\"1.5\"/><path d=\"m178.94 47.992c1.1752 0 2.3025-0.46693 3.1335-1.2979 0.83102-0.83102 1.2979-1.9583 1.2979-3.1335s-0.46693-2.3025-1.2979-3.1335c-0.83102-0.83102-1.9583-1.2979-3.1335-1.2979s-2.3025 0.46693-3.1335 1.2979c-0.83102 0.83102-1.2979 1.9583-1.2979 3.1335s0.46693 2.3025 1.2979 3.1335c0.83102 0.83102 1.9583 1.2979 3.1335 1.2979z\" clip-path=\"url(#p93e9b33546)\" fill=\"#bb8bff\" stroke=\"#bb8bff\" stroke-width=\"1.5\"/><path d=\"m123.69 331.04h110.49v-165.9h-110.49z\" clip-path=\"url(#p93e9b33546)\" fill=\"#bb8bff\" stroke=\"#bb8bff\" stroke-width=\"1.5\"/><path d=\"m315.29 93.443c1.1752 0 2.3025-0.46693 3.1335-1.2979 0.83102-0.83102 1.2979-1.9583 1.2979-3.1335s-0.46693-2.3025-1.2979-3.1335c-0.83102-0.83102-1.9583-1.2979-3.1335-1.2979s-2.3025 0.46693-3.1335 1.2979c-0.83102 0.83102-1.2979 1.9583-1.2979 3.1335s0.46693 2.3025 1.2979 3.1335c0.83102 0.83102 1.9583 1.2979 3.1335 1.2979z\" clip-path=\"url(#p93e9b33546)\" fill=\"#bb8bff\" stroke=\"#bb8bff\" stroke-width=\"1.5\"/><path d=\"m260 331.04h110.59v-165.9h-110.59z\" clip-path=\"url(#p93e9b33546)\" fill=\"#bb8bff\" stroke=\"#bb8bff\" stroke-width=\"1.5\"/><path d=\"m405.02 149.23h47.796v-120.45h-47.796z\" clip-path=\"url(#p93e9b33546)\" fill=\"#bb8bff\" stroke=\"#bb8bff\" stroke-width=\"1.5\"/><path d=\"m482.32 58.332h29.543v-29.543h-29.543z\" clip-path=\"url(#p93e9b33546)\" stroke=\"#000000\" stroke-width=\"1.5\"/><path d=\"m507.43 47.992c0-2.7413-1.0901-5.3732-3.0285-7.3116s-4.5702-3.0285-7.3116-3.0285-5.3732 1.0901-7.3116 3.0285c-1.9384 1.9384-3.0285 4.5702-3.0285 7.3116\" clip-path=\"url(#p93e9b33546)\" fill=\"none\" stroke=\"#ffffff\" stroke-width=\"2\"/><path d=\"m527.77 103.78h29.543v-29.543h-29.543z\" clip-path=\"url(#p93e9b33546)\" stroke=\"#000000\" stroke-width=\"1.5\"/><path d=\"m552.88 93.443c0-2.7413-1.0901-5.3732-3.0285-7.3116s-4.5702-3.0285-7.3116-3.0285-5.3732 1.0901-7.3116 3.0285c-1.9384 1.9384-3.0285 4.5702-3.0285 7.3116\" clip-path=\"url(#p93e9b33546)\" fill=\"none\" stroke=\"#ffffff\" stroke-width=\"2\"/><path d=\"m573.22 149.23h29.543v-29.543h-29.543z\" clip-path=\"url(#p93e9b33546)\" stroke=\"#000000\" stroke-width=\"1.5\"/><path d=\"m598.34 138.89c0-2.7413-1.0901-5.3732-3.0285-7.3116s-4.5702-3.0285-7.3116-3.0285-5.3732 1.0901-7.3116 3.0285c-1.9384 1.9384-3.0285 4.5702-3.0285 7.3116\" clip-path=\"url(#p93e9b33546)\" fill=\"none\" stroke=\"#ffffff\" stroke-width=\"2\"/><path d=\"m497.09 47.992 10.34-10.34\" clip-path=\"url(#p93e9b33546)\" fill=\"none\" stroke=\"#ffffff\" stroke-linecap=\"square\" stroke-width=\"2\"/><path d=\"m542.54 93.443 10.34-10.34\" clip-path=\"url(#p93e9b33546)\" fill=\"none\" stroke=\"#ffffff\" stroke-linecap=\"square\" stroke-width=\"2\"/><path d=\"m588 138.89 10.34-10.34\" clip-path=\"url(#p93e9b33546)\" fill=\"none\" stroke=\"#ffffff\" stroke-linecap=\"square\" stroke-width=\"2\"/><g clip-path=\"url(#p93e9b33546)\"><defs><path id=\"DejaVuSans-72\" d=\"m9.8125 72.906h9.8594v-29.891h35.844v29.891h9.8594v-72.906h-9.8594v34.719h-35.844v-34.719h-9.8594z\"/></defs><g transform=\"translate(83.146 47.148) scale(.13 -.13)\"><use xlink:href=\"#DejaVuSans-72\"/></g></g><g clip-path=\"url(#p93e9b33546)\"><g transform=\"translate(83.146 92.599) scale(.13 -.13)\"><use xlink:href=\"#DejaVuSans-72\"/></g></g><g clip-path=\"url(#p93e9b33546)\"><g transform=\"translate(83.146 138.05) scale(.13 -.13)\"><use xlink:href=\"#DejaVuSans-72\"/></g></g><g clip-path=\"url(#p93e9b33546)\"><defs><path id=\"DejaVuSans-88\" d=\"m6.2969 72.906h10.594l18.125-27.109 18.203 27.109h10.594l-23.438-35.016 25-37.891h-10.594l-20.5 31-20.656-31h-10.641l26.016 38.922z\"/></defs><g transform=\"translate(83.582 183.5) scale(.13 -.13)\"><use xlink:href=\"#DejaVuSans-88\"/></g></g><g clip-path=\"url(#p93e9b33546)\"><defs><path id=\"DejaVuSans-48\" d=\"m31.781 66.406q-7.6094 0-11.453-7.5-3.8281-7.4844-3.8281-22.531 0-14.984 3.8281-22.484 3.8438-7.5 11.453-7.5 7.6719 0 11.5 7.5 3.8438 7.5 3.8438 22.484 0 15.047-3.8438 22.531-3.8281 7.5-11.5 7.5zm0 7.8125q12.266 0 18.734-9.7031 6.4688-9.6875 6.4688-28.141 0-18.406-6.4688-28.109-6.4688-9.6875-18.734-9.6875-12.25 0-18.719 9.6875-6.4688 9.7031-6.4688 28.109 0 18.453 6.4688 28.141 6.4688 9.7031 18.719 9.7031z\"/></defs><g transform=\"translate(126.87 183.5) scale(.13 -.13)\"><use xlink:href=\"#DejaVuSans-48\"/></g></g><g clip-path=\"url(#p93e9b33546)\"><defs><path id=\"DejaVuSans-49\" d=\"m12.406 8.2969h16.109v55.625l-17.531-3.5156v8.9844l17.438 3.5156h9.8594v-64.609h16.109v-8.2969h-41.984z\"/></defs><g transform=\"translate(126.87 228.95) scale(.13 -.13)\"><use xlink:href=\"#DejaVuSans-49\"/></g></g><g clip-path=\"url(#p93e9b33546)\"><defs><path id=\"DejaVuSans-50\" d=\"m19.188 8.2969h34.422v-8.2969h-46.281v8.2969q5.6094 5.8125 15.297 15.594 9.7031 9.7969 12.188 12.641 4.7344 5.3125 6.6094 9 1.8906 3.6875 1.8906 7.25 0 5.8125-4.0781 9.4688-4.0781 3.6719-10.625 3.6719-4.6406 0-9.7969-1.6094-5.1406-1.6094-11-4.8906v9.9688q5.9531 2.3906 11.125 3.6094 5.1875 1.2188 9.4844 1.2188 11.328 0 18.062-5.6719 6.7344-5.6562 6.7344-15.125 0-4.5-1.6875-8.5312-1.6719-4.0156-6.125-9.4844-1.2188-1.4219-7.7656-8.1875-6.5312-6.7656-18.453-18.922z\"/></defs><g transform=\"translate(126.87 274.4) scale(.13 -.13)\"><use xlink:href=\"#DejaVuSans-50\"/></g></g><g clip-path=\"url(#p93e9b33546)\"><defs><path id=\"DejaVuSans-51\" d=\"m40.578 39.312q7.0781-1.5156 11.047-6.3125 3.9844-4.7812 3.9844-11.812 0-10.781-7.4219-16.703-7.4219-5.9062-21.094-5.9062-4.5781 0-9.4375 0.90625t-10.031 2.7188v9.5156q4.0938-2.3906 8.9688-3.6094 4.8906-1.2188 10.219-1.2188 9.2656 0 14.125 3.6562t4.8594 10.641q0 6.4531-4.5156 10.078-4.5156 3.6406-12.562 3.6406h-8.5v8.1094h8.8906q7.2656 0 11.125 2.9062t3.8594 8.375q0 5.6094-3.9844 8.6094-3.9688 3.0156-11.391 3.0156-4.0625 0-8.7031-0.89062-4.6406-0.875-10.203-2.7188v8.7812q5.625 1.5625 10.531 2.3438t9.25 0.78125q11.234 0 17.766-5.1094 6.5469-5.0938 6.5469-13.781 0-6.0625-3.4688-10.234t-9.8594-5.7812z\"/></defs><g transform=\"translate(126.87 319.85) scale(.13 -.13)\"><use xlink:href=\"#DejaVuSans-51\"/></g></g><g clip-path=\"url(#p93e9b33546)\"><defs><path id=\"DejaVuSans-55\" d=\"m8.2031 72.906h46.875v-4.2031l-26.469-68.703h-10.297l24.906 64.594h-35.016z\"/><path id=\"DejaVuSans-77\" d=\"m9.8125 72.906h14.703l18.594-49.609 18.703 49.609h14.703v-72.906h-9.625v64.016l-18.797-50h-9.9062l-18.797 50v-64.016h-9.5781z\"/><path id=\"DejaVuSans-111\" d=\"m30.609 48.391q-7.2188 0-11.422-5.6406t-4.2031-15.453 4.1719-15.453q4.1875-5.6406 11.453-5.6406 7.1875 0 11.375 5.6562 4.2031 5.6719 4.2031 15.438 0 9.7188-4.2031 15.406-4.1875 5.6875-11.375 5.6875zm0 7.6094q11.719 0 18.406-7.625 6.7031-7.6094 6.7031-21.078 0-13.422-6.7031-21.078-6.6875-7.6406-18.406-7.6406-11.766 0-18.438 7.6406-6.6562 7.6562-6.6562 21.078 0 13.469 6.6562 21.078 6.6719 7.625 18.438 7.625z\"/><path id=\"DejaVuSans-100\" d=\"m45.406 46.391v29.594h8.9844v-75.984h-8.9844v8.2031q-2.8281-4.875-7.1562-7.25-4.3125-2.375-10.375-2.375-9.9062 0-16.141 7.9062-6.2188 7.9219-6.2188 20.812t6.2188 20.797q6.2344 7.9062 16.141 7.9062 6.0625 0 10.375-2.375 4.3281-2.3594 7.1562-7.2344zm-30.609-19.094q0-9.9062 4.0781-15.547t11.203-5.6406 11.219 5.6406q4.1094 5.6406 4.1094 15.547t-4.1094 15.547q-4.0938 5.6406-11.219 5.6406t-11.203-5.6406-4.0781-15.547z\"/><path id=\"DejaVuSans-53\" d=\"m10.797 72.906h38.719v-8.3125h-29.688v-17.859q2.1406 0.73438 4.2812 1.0938 2.1562 0.35938 4.3125 0.35938 12.203 0 19.328-6.6875 7.1406-6.6875 7.1406-18.109 0-11.766-7.3281-18.297-7.3281-6.5156-20.656-6.5156-4.5938 0-9.3594 0.78125-4.75 0.78125-9.8281 2.3438v9.9219q4.3906-2.3906 9.0781-3.5625t9.9062-1.1719q8.4531 0 13.375 4.4375 4.9375 4.4375 4.9375 12.062 0 7.6094-4.9375 12.047-4.9219 4.4531-13.375 4.4531-3.9531 0-7.8906-0.875-3.9219-0.875-8.0156-2.7344z\"/><path id=\"DejaVuSans-95\" d=\"m50.984-16.609v-6.9688h-51.969v6.9688z\"/><path id=\"DejaVuSans-91\" d=\"m8.5938 75.984h20.703v-6.9844h-11.719v-75.203h11.719v-6.9844h-20.703z\"/><path id=\"DejaVuSans-94\" d=\"m46.688 72.906 26.5-27.203h-9.8125l-21.484 19.281-21.484-19.281h-9.8125l26.516 27.203z\"/><path id=\"DejaVuSans-93\" d=\"m30.422 75.984v-89.172h-20.703v6.9844h11.672v75.203h-11.672v6.9844z\"/></defs><g transform=\"translate(135.78 251.5) scale(.13 -.13)\"><use xlink:href=\"#DejaVuSans-55\"/><use x=\"63.623047\" xlink:href=\"#DejaVuSans-77\"/><use x=\"149.902344\" xlink:href=\"#DejaVuSans-111\"/><use x=\"211.083984\" xlink:href=\"#DejaVuSans-100\"/><use x=\"274.560547\" xlink:href=\"#DejaVuSans-49\"/><use x=\"338.183594\" xlink:href=\"#DejaVuSans-53\"/><use x=\"401.806641\" xlink:href=\"#DejaVuSans-95\"/><use x=\"451.806641\" xlink:href=\"#DejaVuSans-91\"/><use x=\"490.820312\" xlink:href=\"#DejaVuSans-50\"/><use x=\"554.443359\" xlink:href=\"#DejaVuSans-94\"/><use x=\"638.232422\" xlink:href=\"#DejaVuSans-48\"/><use x=\"701.855469\" xlink:href=\"#DejaVuSans-93\"/></g></g><g clip-path=\"url(#p93e9b33546)\"><g transform=\"translate(263.18 183.5) scale(.13 -.13)\"><use xlink:href=\"#DejaVuSans-48\"/></g></g><g clip-path=\"url(#p93e9b33546)\"><g transform=\"translate(263.18 228.95) scale(.13 -.13)\"><use xlink:href=\"#DejaVuSans-49\"/></g></g><g clip-path=\"url(#p93e9b33546)\"><g transform=\"translate(263.18 274.4) scale(.13 -.13)\"><use xlink:href=\"#DejaVuSans-50\"/></g></g><g clip-path=\"url(#p93e9b33546)\"><g transform=\"translate(263.18 319.85) scale(.13 -.13)\"><use xlink:href=\"#DejaVuSans-51\"/></g></g><g clip-path=\"url(#p93e9b33546)\"><g transform=\"translate(272.13 251.5) scale(.13 -.13)\"><use xlink:href=\"#DejaVuSans-55\"/><use x=\"63.623047\" xlink:href=\"#DejaVuSans-77\"/><use x=\"149.902344\" xlink:href=\"#DejaVuSans-111\"/><use x=\"211.083984\" xlink:href=\"#DejaVuSans-100\"/><use x=\"274.560547\" xlink:href=\"#DejaVuSans-49\"/><use x=\"338.183594\" xlink:href=\"#DejaVuSans-53\"/><use x=\"401.806641\" xlink:href=\"#DejaVuSans-95\"/><use x=\"451.806641\" xlink:href=\"#DejaVuSans-91\"/><use x=\"490.820312\" xlink:href=\"#DejaVuSans-50\"/><use x=\"554.443359\" xlink:href=\"#DejaVuSans-94\"/><use x=\"638.232422\" xlink:href=\"#DejaVuSans-49\"/><use x=\"701.855469\" xlink:href=\"#DejaVuSans-93\"/></g></g><g clip-path=\"url(#p93e9b33546)\"><g transform=\"translate(408.2 47.148) scale(.13 -.13)\"><use xlink:href=\"#DejaVuSans-48\"/></g></g><g clip-path=\"url(#p93e9b33546)\"><g transform=\"translate(408.2 92.599) scale(.13 -.13)\"><use xlink:href=\"#DejaVuSans-49\"/></g></g><g clip-path=\"url(#p93e9b33546)\"><g transform=\"translate(408.2 138.05) scale(.13 -.13)\"><use xlink:href=\"#DejaVuSans-50\"/></g></g><g clip-path=\"url(#p93e9b33546)\"><defs><path id=\"DejaVuSans-81\" d=\"m39.406 66.219q-10.75 0-17.078-8.0156-6.3125-8-6.3125-21.828 0-13.766 6.3125-21.781 6.3281-8 17.078-8 10.734 0 17.016 8 6.2812 8.0156 6.2812 21.781 0 13.828-6.2812 21.828-6.2812 8.0156-17.016 8.0156zm13.812-64.906 13-14.203h-11.922l-10.797 11.672q-1.6094-0.09375-2.4688-0.14062-0.84375-0.0625-1.625-0.0625-15.375 0-24.594 10.281-9.2031 10.281-9.2031 27.516 0 17.281 9.2031 27.562 9.2188 10.281 24.594 10.281 15.328 0 24.5-10.281 9.1875-10.281 9.1875-27.562 0-12.688-5.1094-21.734-5.0938-9.0312-14.766-13.328z\"/><path id=\"DejaVuSans-70\" d=\"m9.8125 72.906h41.891v-8.3125h-32.031v-21.484h28.906v-8.2969h-28.906v-34.812h-9.8594z\"/><path id=\"DejaVuSans-84\" d=\"m-0.29688 72.906h61.672v-8.3125h-25.875v-64.594h-9.9062v64.594h-25.891z\"/><path id=\"DejaVuSans-43\" d=\"m46 62.703v-27.203h27.188v-8.2969h-27.188v-27.203h-8.2031v27.203h-27.203v8.2969h27.203v27.203z\"/></defs><g transform=\"translate(415.76 92.599) scale(.13 -.13)\"><use xlink:href=\"#DejaVuSans-81\"/><use x=\"78.710938\" xlink:href=\"#DejaVuSans-70\"/><use x=\"134.480469\" xlink:href=\"#DejaVuSans-84\"/><use x=\"195.564453\" xlink:href=\"#DejaVuSans-43\"/></g></g><g clip-path=\"url(#p93e9b33546)\"><g transform=\"translate(508.46 355.01) scale(.104 -.104)\"><use xlink:href=\"#DejaVuSans-48\"/></g></g><g clip-path=\"url(#p93e9b33546)\"><g transform=\"translate(553.91 355.01) scale(.104 -.104)\"><use xlink:href=\"#DejaVuSans-49\"/></g></g><g clip-path=\"url(#p93e9b33546)\"><g transform=\"translate(599.36 355.01) scale(.104 -.104)\"><use xlink:href=\"#DejaVuSans-50\"/></g></g><g clip-path=\"url(#p93e9b33546)\"><defs><path id=\"DejaVuSans-Oblique-113\" d=\"m41.703 8.2031q-3.6094-4.7344-8.5312-7.1875-4.9062-2.4375-10.859-2.4375-8.2969 0-13.016 5.5938-4.7031 5.5938-4.7031 15.406 0 7.9062 2.9062 15.281t8.3281 13.234q3.5156 3.8125 8.0781 5.8594t9.5938 2.0469q6.0469 0 9.9531-2.3906t5.6719-7.2188l1.5625 8.2031h9.0312l-14.594-75.203h-9.0469zm-27.781 12.703q0-7.2344 3.0156-11.016 3.0312-3.7812 8.75-3.7812 8.5 0 14.5 8.125t6 19.75q0 7.0312-3.1094 10.766-3.0938 3.7344-8.8906 3.7344-4.25 0-7.875-1.9844-3.6094-1.9688-6.2969-5.7812-2.8281-4-4.4688-9.375-1.625-5.3594-1.625-10.438z\"/></defs><g transform=\"translate(36.363 48.012) scale(.1625 -.1625)\"><use xlink:href=\"#DejaVuSans-Oblique-113\"/><use transform=\"translate(63.477 -16.406) scale(.7)\" xlink:href=\"#DejaVuSans-48\"/></g></g><g clip-path=\"url(#p93e9b33546)\"><g transform=\"translate(36.363 93.463) scale(.1625 -.1625)\"><use xlink:href=\"#DejaVuSans-Oblique-113\"/><use transform=\"translate(63.477 -16.406) scale(.7)\" xlink:href=\"#DejaVuSans-49\"/></g></g><g clip-path=\"url(#p93e9b33546)\"><g transform=\"translate(36.363 138.91) scale(.1625 -.1625)\"><use xlink:href=\"#DejaVuSans-Oblique-113\"/><use transform=\"translate(63.477 -16.406) scale(.7)\" xlink:href=\"#DejaVuSans-50\"/></g></g><g clip-path=\"url(#p93e9b33546)\"><g transform=\"translate(36.363 184.36) scale(.1625 -.1625)\"><use xlink:href=\"#DejaVuSans-Oblique-113\"/><use transform=\"translate(63.477 -16.406) scale(.7)\" xlink:href=\"#DejaVuSans-51\"/></g></g><g clip-path=\"url(#p93e9b33546)\"><defs><path id=\"DejaVuSans-52\" d=\"m37.797 64.312-24.906-38.922h24.906zm-2.5938 8.5938h12.406v-47.516h10.406v-8.2031h-10.406v-17.188h-9.8125v17.188h-32.906v9.5156z\"/></defs><g transform=\"translate(36.363 229.82) scale(.1625 -.1625)\"><use xlink:href=\"#DejaVuSans-Oblique-113\"/><use transform=\"translate(63.477 -16.406) scale(.7)\" xlink:href=\"#DejaVuSans-52\"/></g></g><g clip-path=\"url(#p93e9b33546)\"><g transform=\"translate(36.363 275.27) scale(.1625 -.1625)\"><use xlink:href=\"#DejaVuSans-Oblique-113\"/><use transform=\"translate(63.477 -16.406) scale(.7)\" xlink:href=\"#DejaVuSans-53\"/></g></g><g clip-path=\"url(#p93e9b33546)\"><defs><path id=\"DejaVuSans-54\" d=\"m33.016 40.375q-6.6406 0-10.531-4.5469-3.875-4.5312-3.875-12.438 0-7.8594 3.875-12.438 3.8906-4.5625 10.531-4.5625t10.516 4.5625q3.875 4.5781 3.875 12.438 0 7.9062-3.875 12.438-3.875 4.5469-10.516 4.5469zm19.578 30.922v-8.9844q-3.7188 1.75-7.5 2.6719-3.7812 0.9375-7.5 0.9375-9.7656 0-14.922-6.5938-5.1406-6.5938-5.875-19.922 2.875 4.25 7.2188 6.5156 4.3594 2.2656 9.5781 2.2656 10.984 0 17.359-6.6719 6.375-6.6562 6.375-18.125 0-11.234-6.6406-18.031-6.6406-6.7812-17.672-6.7812-12.656 0-19.344 9.6875-6.6875 9.7031-6.6875 28.109 0 17.281 8.2031 27.562t22.016 10.281q3.7188 0 7.5-0.73438t7.8906-2.1875z\"/></defs><g transform=\"translate(36.363 320.72) scale(.1625 -.1625)\"><use xlink:href=\"#DejaVuSans-Oblique-113\"/><use transform=\"translate(63.477 -16.406) scale(.7)\" xlink:href=\"#DejaVuSans-54\"/></g></g><g clip-path=\"url(#p93e9b33546)\"><g transform=\"translate(68.036 355.01) scale(.104 -.104)\"><use xlink:href=\"#DejaVuSans-51\"/></g></g><g clip-path=\"url(#p93e9b33546)\"><defs><path id=\"DejaVuSans-99\" d=\"m48.781 52.594v-8.4062q-3.8125 2.1094-7.6406 3.1562t-7.7344 1.0469q-8.75 0-13.594-5.5469-4.8281-5.5312-4.8281-15.547t4.8281-15.562q4.8438-5.5312 13.594-5.5312 3.9062 0 7.7344 1.0469t7.6406 3.1562v-8.3125q-3.7656-1.75-7.7969-2.625-4.0156-0.89062-8.5625-0.89062-12.359 0-19.641 7.7656-7.2656 7.7656-7.2656 20.953 0 13.375 7.3438 21.031 7.3594 7.6719 20.156 7.6719 4.1406 0 8.0938-0.85938 3.9531-0.84375 7.6719-2.5469z\"/></defs><g transform=\"translate(45.466 366.2) scale(.1625 -.1625)\"><use xlink:href=\"#DejaVuSans-99\"/></g></g><defs><clipPath id=\"p93e9b33546\"><rect x=\"7.2\" y=\"7.2\" width=\"610.79\" height=\"381.79\"/></clipPath></defs></svg>"
      ],
      "text/plain": [
       "<Figure size 808.997x505.68 with 1 Axes>"
      ]
     },
     "execution_count": 6,
     "metadata": {},
     "output_type": "execute_result"
    }
   ],
   "source": [
    "# QPE circuit for Shor\n",
    "t = 3 \n",
    "shor_QPE = QuantumCircuit(t+m, t)\n",
    "shor_QPE.h(range(t))\n",
    "\n",
    "shor_QPE.x(t)\n",
    "for idx in range(t-1):\n",
    "    shor_QPE.append(cU_multi(idx), [idx]+ list(range(t,t+m)))\n",
    "\n",
    "qft_dag = qft(t).inverse()\n",
    "qft_dag.name = 'QFT+'\n",
    "\n",
    "shor_QPE.append(qft_dag, range(t))\n",
    "shor_QPE.measure(range(t), range(t))\n",
    "\n",
    "shor_QPE.draw()"
   ]
  },
  {
   "cell_type": "code",
   "execution_count": 7,
   "metadata": {},
   "outputs": [
    {
     "data": {
      "image/svg+xml": [
       "<?xml version=\"1.0\" encoding=\"UTF-8\"?><!DOCTYPE svg  PUBLIC '-//W3C//DTD SVG 1.1//EN'  'http://www.w3.org/Graphics/SVG/1.1/DTD/svg11.dtd'><svg width=\"460.72pt\" height=\"327.13pt\" version=\"1.1\" viewBox=\"0 0 460.72 327.13\" xmlns=\"http://www.w3.org/2000/svg\" xmlns:xlink=\"http://www.w3.org/1999/xlink\"><defs><style type=\"text/css\">*{stroke-linecap:butt;stroke-linejoin:round;}</style></defs><path d=\"m0 327.13h460.72v-327.13h-460.72z\" fill=\"none\"/><path d=\"m62.921 279h390.6v-271.8h-390.6z\" fill=\"#ffffff\"/><defs><path id=\"ma3973a9663\" d=\"m0 0v3.5\" stroke=\"#000000\" stroke-width=\".8\"/></defs><use x=\"106.039432\" y=\"279\" stroke=\"#000000\" stroke-width=\".8\" xlink:href=\"#ma3973a9663\"/><defs><path id=\"DejaVuSans-48\" d=\"m31.781 66.406q-7.6094 0-11.453-7.5-3.8281-7.4844-3.8281-22.531 0-14.984 3.8281-22.484 3.8438-7.5 11.453-7.5 7.6719 0 11.5 7.5 3.8438 7.5 3.8438 22.484 0 15.047-3.8438 22.531-3.8281 7.5-11.5 7.5zm0 7.8125q12.266 0 18.734-9.7031 6.4688-9.6875 6.4688-28.141 0-18.406-6.4688-28.109-6.4688-9.6875-18.734-9.6875-12.25 0-18.719 9.6875-6.4688 9.7031-6.4688 28.109 0 18.453 6.4688 28.141 6.4688 9.7031 18.719 9.7031z\"/><path id=\"DejaVuSans-46\" d=\"m10.688 12.406h10.312v-12.406h-10.312z\"/></defs><g transform=\"translate(105.86 310.56) rotate(-70) scale(.14 -.14)\"><use xlink:href=\"#DejaVuSans-48\"/><use x=\"63.623047\" xlink:href=\"#DejaVuSans-46\"/><use x=\"95.410156\" xlink:href=\"#DejaVuSans-48\"/></g><use x=\"207.493977\" y=\"279\" stroke=\"#000000\" stroke-width=\".8\" xlink:href=\"#ma3973a9663\"/><defs><path id=\"DejaVuSans-50\" d=\"m19.188 8.2969h34.422v-8.2969h-46.281v8.2969q5.6094 5.8125 15.297 15.594 9.7031 9.7969 12.188 12.641 4.7344 5.3125 6.6094 9 1.8906 3.6875 1.8906 7.25 0 5.8125-4.0781 9.4688-4.0781 3.6719-10.625 3.6719-4.6406 0-9.7969-1.6094-5.1406-1.6094-11-4.8906v9.9688q5.9531 2.3906 11.125 3.6094 5.1875 1.2188 9.4844 1.2188 11.328 0 18.062-5.6719 6.7344-5.6562 6.7344-15.125 0-4.5-1.6875-8.5312-1.6719-4.0156-6.125-9.4844-1.2188-1.4219-7.7656-8.1875-6.5312-6.7656-18.453-18.922z\"/><path id=\"DejaVuSans-53\" d=\"m10.797 72.906h38.719v-8.3125h-29.688v-17.859q2.1406 0.73438 4.2812 1.0938 2.1562 0.35938 4.3125 0.35938 12.203 0 19.328-6.6875 7.1406-6.6875 7.1406-18.109 0-11.766-7.3281-18.297-7.3281-6.5156-20.656-6.5156-4.5938 0-9.3594 0.78125-4.75 0.78125-9.8281 2.3438v9.9219q4.3906-2.3906 9.0781-3.5625t9.9062-1.1719q8.4531 0 13.375 4.4375 4.9375 4.4375 4.9375 12.062 0 7.6094-4.9375 12.047-4.9219 4.4531-13.375 4.4531-3.9531 0-7.8906-0.875-3.9219-0.875-8.0156-2.7344z\"/></defs><g transform=\"translate(205.79 318.93) rotate(-70) scale(.14 -.14)\"><use xlink:href=\"#DejaVuSans-48\"/><use x=\"63.623047\" xlink:href=\"#DejaVuSans-46\"/><use x=\"95.410156\" xlink:href=\"#DejaVuSans-50\"/><use x=\"159.033203\" xlink:href=\"#DejaVuSans-53\"/></g><use x=\"308.948523\" y=\"279\" stroke=\"#000000\" stroke-width=\".8\" xlink:href=\"#ma3973a9663\"/><g transform=\"translate(308.77 310.56) rotate(-70) scale(.14 -.14)\"><use xlink:href=\"#DejaVuSans-48\"/><use x=\"63.623047\" xlink:href=\"#DejaVuSans-46\"/><use x=\"95.410156\" xlink:href=\"#DejaVuSans-53\"/></g><use x=\"410.403068\" y=\"279\" stroke=\"#000000\" stroke-width=\".8\" xlink:href=\"#ma3973a9663\"/><defs><path id=\"DejaVuSans-55\" d=\"m8.2031 72.906h46.875v-4.2031l-26.469-68.703h-10.297l24.906 64.594h-35.016z\"/></defs><g transform=\"translate(408.7 318.93) rotate(-70) scale(.14 -.14)\"><use xlink:href=\"#DejaVuSans-48\"/><use x=\"63.623047\" xlink:href=\"#DejaVuSans-46\"/><use x=\"95.410156\" xlink:href=\"#DejaVuSans-55\"/><use x=\"159.033203\" xlink:href=\"#DejaVuSans-53\"/></g><path d=\"m62.921 279h390.6\" clip-path=\"url(#p7229f964ac)\" fill=\"none\" stroke=\"#b0b0b0\" stroke-dasharray=\"2.96,1.28\" stroke-width=\".8\"/><defs><path id=\"m713a8f44f5\" d=\"m0 0h-3.5\" stroke=\"#000000\" stroke-width=\".8\"/></defs><use x=\"62.92125\" y=\"279\" stroke=\"#000000\" stroke-width=\".8\" xlink:href=\"#m713a8f44f5\"/><g transform=\"translate(24.749 284.32) scale(.14 -.14)\"><use xlink:href=\"#DejaVuSans-48\"/><use x=\"63.623047\" xlink:href=\"#DejaVuSans-46\"/><use x=\"95.410156\" xlink:href=\"#DejaVuSans-48\"/><use x=\"159.033203\" xlink:href=\"#DejaVuSans-48\"/></g><path d=\"m62.921 208.36h390.6\" clip-path=\"url(#p7229f964ac)\" fill=\"none\" stroke=\"#b0b0b0\" stroke-dasharray=\"2.96,1.28\" stroke-width=\".8\"/><use x=\"62.92125\" y=\"208.356725\" stroke=\"#000000\" stroke-width=\".8\" xlink:href=\"#m713a8f44f5\"/><defs><path id=\"DejaVuSans-56\" d=\"m31.781 34.625q-7.0312 0-11.062-3.7656-4.0156-3.7656-4.0156-10.344 0-6.5938 4.0156-10.359 4.0312-3.7656 11.062-3.7656t11.078 3.7812q4.0625 3.7969 4.0625 10.344 0 6.5781-4.0312 10.344-4.0156 3.7656-11.109 3.7656zm-9.8594 4.1875q-6.3438 1.5625-9.8906 5.9062-3.5312 4.3594-3.5312 10.609 0 8.7344 6.2188 13.812 6.2344 5.0781 17.062 5.0781 10.891 0 17.094-5.0781t6.2031-13.812q0-6.25-3.5469-10.609-3.5312-4.3438-9.8281-5.9062 7.125-1.6562 11.094-6.5 3.9844-4.8281 3.9844-11.797 0-10.609-6.4688-16.281-6.4688-5.6562-18.531-5.6562-12.047 0-18.531 5.6562-6.4688 5.6719-6.4688 16.281 0 6.9688 4 11.797 4.0156 4.8438 11.141 6.5zm-3.6094 15.578q0-5.6562 3.5312-8.8281 3.5469-3.1719 9.9375-3.1719 6.3594 0 9.9375 3.1719 3.5938 3.1719 3.5938 8.8281 0 5.6719-3.5938 8.8438-3.5781 3.1719-9.9375 3.1719-6.3906 0-9.9375-3.1719-3.5312-3.1719-3.5312-8.8438z\"/></defs><g transform=\"translate(24.749 213.68) scale(.14 -.14)\"><use xlink:href=\"#DejaVuSans-48\"/><use x=\"63.623047\" xlink:href=\"#DejaVuSans-46\"/><use x=\"95.410156\" xlink:href=\"#DejaVuSans-48\"/><use x=\"159.033203\" xlink:href=\"#DejaVuSans-56\"/></g><path d=\"m62.921 137.71h390.6\" clip-path=\"url(#p7229f964ac)\" fill=\"none\" stroke=\"#b0b0b0\" stroke-dasharray=\"2.96,1.28\" stroke-width=\".8\"/><use x=\"62.92125\" y=\"137.71345\" stroke=\"#000000\" stroke-width=\".8\" xlink:href=\"#m713a8f44f5\"/><defs><path id=\"DejaVuSans-49\" d=\"m12.406 8.2969h16.109v55.625l-17.531-3.5156v8.9844l17.438 3.5156h9.8594v-64.609h16.109v-8.2969h-41.984z\"/><path id=\"DejaVuSans-54\" d=\"m33.016 40.375q-6.6406 0-10.531-4.5469-3.875-4.5312-3.875-12.438 0-7.8594 3.875-12.438 3.8906-4.5625 10.531-4.5625t10.516 4.5625q3.875 4.5781 3.875 12.438 0 7.9062-3.875 12.438-3.875 4.5469-10.516 4.5469zm19.578 30.922v-8.9844q-3.7188 1.75-7.5 2.6719-3.7812 0.9375-7.5 0.9375-9.7656 0-14.922-6.5938-5.1406-6.5938-5.875-19.922 2.875 4.25 7.2188 6.5156 4.3594 2.2656 9.5781 2.2656 10.984 0 17.359-6.6719 6.375-6.6562 6.375-18.125 0-11.234-6.6406-18.031-6.6406-6.7812-17.672-6.7812-12.656 0-19.344 9.6875-6.6875 9.7031-6.6875 28.109 0 17.281 8.2031 27.562t22.016 10.281q3.7188 0 7.5-0.73438t7.8906-2.1875z\"/></defs><g transform=\"translate(24.749 143.03) scale(.14 -.14)\"><use xlink:href=\"#DejaVuSans-48\"/><use x=\"63.623047\" xlink:href=\"#DejaVuSans-46\"/><use x=\"95.410156\" xlink:href=\"#DejaVuSans-49\"/><use x=\"159.033203\" xlink:href=\"#DejaVuSans-54\"/></g><path d=\"m62.921 67.07h390.6\" clip-path=\"url(#p7229f964ac)\" fill=\"none\" stroke=\"#b0b0b0\" stroke-dasharray=\"2.96,1.28\" stroke-width=\".8\"/><use x=\"62.92125\" y=\"67.070175\" stroke=\"#000000\" stroke-width=\".8\" xlink:href=\"#m713a8f44f5\"/><defs><path id=\"DejaVuSans-52\" d=\"m37.797 64.312-24.906-38.922h24.906zm-2.5938 8.5938h12.406v-47.516h10.406v-8.2031h-10.406v-17.188h-9.8125v17.188h-32.906v9.5156z\"/></defs><g transform=\"translate(24.749 72.389) scale(.14 -.14)\"><use xlink:href=\"#DejaVuSans-48\"/><use x=\"63.623047\" xlink:href=\"#DejaVuSans-46\"/><use x=\"95.410156\" xlink:href=\"#DejaVuSans-50\"/><use x=\"159.033203\" xlink:href=\"#DejaVuSans-52\"/></g><defs><path id=\"DejaVuSans-80\" d=\"m19.672 64.797v-27.391h12.406q6.8906 0 10.641 3.5625 3.7656 3.5625 3.7656 10.156 0 6.5469-3.7656 10.109-3.75 3.5625-10.641 3.5625zm-9.8594 8.1094h22.266q12.266 0 18.531-5.5469 6.2812-5.5469 6.2812-16.234 0-10.797-6.2812-16.312-6.2656-5.5156-18.531-5.5156h-12.406v-29.297h-9.8594z\"/><path id=\"DejaVuSans-114\" d=\"m41.109 46.297q-1.5156 0.875-3.2969 1.2812-1.7812 0.42188-3.9219 0.42188-7.625 0-11.703-4.9531t-4.0781-14.234v-28.812h-9.0312v54.688h9.0312v-8.5q2.8438 4.9844 7.375 7.3906 4.5469 2.4219 11.047 2.4219 0.92188 0 2.0469-0.125 1.125-0.10938 2.4844-0.35938z\"/><path id=\"DejaVuSans-111\" d=\"m30.609 48.391q-7.2188 0-11.422-5.6406t-4.2031-15.453 4.1719-15.453q4.1875-5.6406 11.453-5.6406 7.1875 0 11.375 5.6562 4.2031 5.6719 4.2031 15.438 0 9.7188-4.2031 15.406-4.1875 5.6875-11.375 5.6875zm0 7.6094q11.719 0 18.406-7.625 6.7031-7.6094 6.7031-21.078 0-13.422-6.7031-21.078-6.6875-7.6406-18.406-7.6406-11.766 0-18.438 7.6406-6.6562 7.6562-6.6562 21.078 0 13.469 6.6562 21.078 6.6719 7.625 18.438 7.625z\"/><path id=\"DejaVuSans-98\" d=\"m48.688 27.297q0 9.9062-4.0781 15.547t-11.203 5.6406q-7.1406 0-11.219-5.6406t-4.0781-15.547 4.0781-15.547 11.219-5.6406q7.125 0 11.203 5.6406t4.0781 15.547zm-30.578 19.094q2.8438 4.875 7.1562 7.2344 4.3281 2.375 10.328 2.375 9.9688 0 16.188-7.9062 6.2344-7.9062 6.2344-20.797t-6.2344-20.812q-6.2188-7.9062-16.188-7.9062-6 0-10.328 2.375-4.3125 2.375-7.1562 7.25v-8.2031h-9.0312v75.984h9.0312z\"/><path id=\"DejaVuSans-97\" d=\"m34.281 27.484q-10.891 0-15.094-2.4844t-4.2031-8.5q0-4.7812 3.1562-7.5938 3.1562-2.7969 8.5625-2.7969 7.4844 0 12 5.2969t4.5156 14.078v2zm17.922 3.7188v-31.203h-8.9844v8.2969q-3.0781-4.9688-7.6719-7.3438t-11.234-2.375q-8.3906 0-13.359 4.7188-4.9531 4.7188-4.9531 12.625 0 9.2188 6.1719 13.906 6.1875 4.6875 18.438 4.6875h12.609v0.89062q0 6.2031-4.0781 9.5938t-11.453 3.3906q-4.6875 0-9.1406-1.125-4.4375-1.125-8.5312-3.375v8.3125q4.9219 1.9062 9.5625 2.8438 4.6406 0.95312 9.0312 0.95312 11.875 0 17.734-6.1562 5.8594-6.1406 5.8594-18.641z\"/><path id=\"DejaVuSans-105\" d=\"m9.4219 54.688h8.9844v-54.688h-8.9844zm0 21.297h8.9844v-11.391h-8.9844z\"/><path id=\"DejaVuSans-108\" d=\"m9.4219 75.984h8.9844v-75.984h-8.9844z\"/><path id=\"DejaVuSans-116\" d=\"m18.312 70.219v-15.531h18.5v-6.9844h-18.5v-29.688q0-6.6875 1.8281-8.5938t7.4531-1.9062h9.2188v-7.5156h-9.2188q-10.406 0-14.359 3.875-3.9531 3.8906-3.9531 14.141v29.688h-6.5938v6.9844h6.5938v15.531z\"/><path id=\"DejaVuSans-101\" d=\"m56.203 29.594v-4.3906h-41.312q0.59375-9.2812 5.5938-14.141t13.938-4.8594q5.1719 0 10.031 1.2656t9.6562 3.8125v-8.5q-4.8438-2.0469-9.9219-3.125t-10.297-1.0781q-13.094 0-20.734 7.6094-7.6406 7.625-7.6406 20.625 0 13.422 7.25 21.297 7.25 7.8906 19.562 7.8906 11.031 0 17.453-7.1094 6.4219-7.0938 6.4219-19.297zm-8.9844 2.6406q-0.09375 7.3594-4.125 11.75-4.0312 4.4062-10.672 4.4062-7.5156 0-12.031-4.25t-5.2031-11.969z\"/><path id=\"DejaVuSans-115\" d=\"m44.281 53.078v-8.5q-3.7969 1.9531-7.9062 2.9219-4.0938 0.98438-8.5 0.98438-6.6875 0-10.031-2.0469t-3.3438-6.1562q0-3.125 2.3906-4.9062t9.625-3.3906l3.0781-0.6875q9.5625-2.0469 13.594-5.7812t4.0312-10.422q0-7.625-6.0312-12.078-6.0312-4.4375-16.578-4.4375-4.3906 0-9.1562 0.85938t-10.031 2.5625v9.2812q4.9844-2.5938 9.8125-3.8906 4.8281-1.2812 9.5781-1.2812 6.3438 0 9.75 2.1719 3.4219 2.1719 3.4219 6.125 0 3.6562-2.4688 5.6094-2.4531 1.9531-10.812 3.7656l-3.125 0.73438q-8.3438 1.75-12.062 5.3906-3.7031 3.6406-3.7031 9.9844 0 7.7188 5.4688 11.906 5.4688 4.2031 15.531 4.2031 4.9688 0 9.3594-0.73438 4.4062-0.71875 8.1094-2.1875z\"/></defs><g transform=\"translate(17.838 185.86) rotate(-90) scale(.14 -.14)\"><use xlink:href=\"#DejaVuSans-80\"/><use x=\"58.552734\" xlink:href=\"#DejaVuSans-114\"/><use x=\"97.416016\" xlink:href=\"#DejaVuSans-111\"/><use x=\"158.597656\" xlink:href=\"#DejaVuSans-98\"/><use x=\"222.074219\" xlink:href=\"#DejaVuSans-97\"/><use x=\"283.353516\" xlink:href=\"#DejaVuSans-98\"/><use x=\"346.830078\" xlink:href=\"#DejaVuSans-105\"/><use x=\"374.613281\" xlink:href=\"#DejaVuSans-108\"/><use x=\"402.396484\" xlink:href=\"#DejaVuSans-105\"/><use x=\"430.179688\" xlink:href=\"#DejaVuSans-116\"/><use x=\"469.388672\" xlink:href=\"#DejaVuSans-105\"/><use x=\"497.171875\" xlink:href=\"#DejaVuSans-101\"/><use x=\"558.695312\" xlink:href=\"#DejaVuSans-115\"/></g><path d=\"m80.676 279h50.727v-218.69h-50.727z\" clip-path=\"url(#p7229f964ac)\" fill=\"#648fff\"/><path d=\"m182.13 279h50.727v-222.08h-50.727z\" clip-path=\"url(#p7229f964ac)\" fill=\"#648fff\"/><path d=\"m283.58 279h50.727v-226.5h-50.727z\" clip-path=\"url(#p7229f964ac)\" fill=\"#648fff\"/><path d=\"m385.04 279h50.727v-215.77h-50.727z\" clip-path=\"url(#p7229f964ac)\" fill=\"#648fff\"/><path d=\"m62.921 279v-271.8\" fill=\"none\" stroke=\"#000000\" stroke-linecap=\"square\" stroke-width=\".8\"/><path d=\"m453.52 279v-271.8\" fill=\"none\" stroke=\"#000000\" stroke-linecap=\"square\" stroke-width=\".8\"/><path d=\"m62.921 279h390.6\" fill=\"none\" stroke=\"#000000\" stroke-linecap=\"square\" stroke-width=\".8\"/><path d=\"m62.921 7.2h390.6\" fill=\"none\" stroke=\"#000000\" stroke-linecap=\"square\" stroke-width=\".8\"/><g transform=\"translate(91.725 47.301) scale(.1 -.1)\"><use xlink:href=\"#DejaVuSans-48\"/><use x=\"63.623047\" xlink:href=\"#DejaVuSans-46\"/><use x=\"95.410156\" xlink:href=\"#DejaVuSans-50\"/><use x=\"159.033203\" xlink:href=\"#DejaVuSans-52\"/><use x=\"222.65625\" xlink:href=\"#DejaVuSans-56\"/></g><g transform=\"translate(193.18 43.731) scale(.1 -.1)\"><use xlink:href=\"#DejaVuSans-48\"/><use x=\"63.623047\" xlink:href=\"#DejaVuSans-46\"/><use x=\"95.410156\" xlink:href=\"#DejaVuSans-50\"/><use x=\"159.033203\" xlink:href=\"#DejaVuSans-53\"/><use x=\"222.65625\" xlink:href=\"#DejaVuSans-50\"/></g><g transform=\"translate(294.63 39.095) scale(.1 -.1)\"><use xlink:href=\"#DejaVuSans-48\"/><use x=\"63.623047\" xlink:href=\"#DejaVuSans-46\"/><use x=\"95.410156\" xlink:href=\"#DejaVuSans-50\"/><use x=\"159.033203\" xlink:href=\"#DejaVuSans-53\"/><use x=\"222.65625\" xlink:href=\"#DejaVuSans-55\"/></g><g transform=\"translate(396.09 50.361) scale(.1 -.1)\"><use xlink:href=\"#DejaVuSans-48\"/><use x=\"63.623047\" xlink:href=\"#DejaVuSans-46\"/><use x=\"95.410156\" xlink:href=\"#DejaVuSans-50\"/><use x=\"159.033203\" xlink:href=\"#DejaVuSans-52\"/><use x=\"222.65625\" xlink:href=\"#DejaVuSans-52\"/></g><defs><clipPath id=\"p7229f964ac\"><rect x=\"62.921\" y=\"7.2\" width=\"390.6\" height=\"271.8\"/></clipPath></defs></svg>"
      ],
      "text/plain": [
       "<Figure size 504x360 with 1 Axes>"
      ]
     },
     "execution_count": 7,
     "metadata": {},
     "output_type": "execute_result"
    }
   ],
   "source": [
    "count_QPE = execute(shor_QPE, sim, shots=shots).result().get_counts()\n",
    "key_new = [str(int(key,2)/2**3) for key in count_QPE.keys()]\n",
    "count_new_QPE = dict(zip(key_new, count_QPE.values()))\n",
    "plot_histogram(count_new_QPE)"
   ]
  },
  {
   "cell_type": "markdown",
   "metadata": {},
   "source": [
    "### 2. Implement Iterative Phase Esitmation (IPE) algorithm."
   ]
  },
  {
   "cell_type": "markdown",
   "metadata": {},
   "source": [
    "The circuit above, `shor_QPE` can be optimized further by implementing IPE algorithm as we learned in the previous lab, `Lab6 Iterative Phase Estimation Algorithm`."
   ]
  },
  {
   "cell_type": "markdown",
   "metadata": {},
   "source": [
    "#### &#128211; Create the circuit <code>shor_IPE</code> by modifying the above circuit (<code>shor_QPE</code>) with a single period (counting) qubit register and check its result through <code>qasm_simulator</code>. "
   ]
  },
  {
   "cell_type": "code",
   "execution_count": 2,
   "metadata": {},
   "outputs": [],
   "source": [
    "### your code goes here\n",
    "\n",
    "\n",
    "\n",
    "\n",
    "\n",
    "\n",
    "\n",
    "\n",
    "\n",
    "\n",
    "\n",
    "\n",
    "\n",
    "\n",
    "\n",
    "\n",
    "\n",
    "\n"
   ]
  },
  {
   "cell_type": "markdown",
   "metadata": {},
   "source": [
    "## Part 2: Noise simulation of the quantum order-finding circuits.\n",
    "\n",
    "\n",
    "**Goal**\n",
    "\n",
    "Perform the noise simulaton of all three quantum order-finding circuits: the one in Qiskit textbook, compiled version of QPE circuit in the first section of Part1 , compiled version of IPE circuit in Part 1. Compare their results.\n",
    "\n",
    "In part 1, we constructed the compiled version of the circuit for shor's algorithm; removed the redundant gates and optimized it further by implementing IPE algorithm that we learned in the previous lab, Lab6. In part 2, we inspect how each optimization plays a role to improved the outcomes by comparing their noise simulation results."
   ]
  },
  {
   "cell_type": "markdown",
   "metadata": {},
   "source": [
    "Run the following cells to construct the shor's circuit in Qiskit texbook [Ch.3.9 Shor's Algorithm](/course/ch-algorithms/shors-algorithm), 'shor_Orig',and to obtain its simulation result."
   ]
  },
  {
   "cell_type": "code",
   "execution_count": 8,
   "metadata": {},
   "outputs": [
    {
     "data": {
      "image/svg+xml": [
       "<?xml version=\"1.0\" encoding=\"UTF-8\"?><!DOCTYPE svg  PUBLIC '-//W3C//DTD SVG 1.1//EN'  'http://www.w3.org/Graphics/SVG/1.1/DTD/svg11.dtd'><svg width=\"1680.4pt\" height=\"623.44pt\" version=\"1.1\" viewBox=\"0 0 1680.4 623.44\" xmlns=\"http://www.w3.org/2000/svg\" xmlns:xlink=\"http://www.w3.org/1999/xlink\"><defs><style type=\"text/css\">*{stroke-linecap:butt;stroke-linejoin:round;}</style></defs><path d=\"m0 623.44h1680.4v-623.44h-1680.4z\" fill=\"#ffffff\"/><path d=\"m1319.1 578.63h11.817l-5.9086 8.5221z\" clip-path=\"url(#pe170044360)\" fill=\"#778899\"/><path d=\"m1364.6 578.63h11.817l-5.9086 8.5221z\" clip-path=\"url(#pe170044360)\" fill=\"#778899\"/><path d=\"m1410 578.63h11.817l-5.9086 8.5221z\" clip-path=\"url(#pe170044360)\" fill=\"#778899\"/><path d=\"m1455.5 578.63h11.817l-5.9086 8.5221z\" clip-path=\"url(#pe170044360)\" fill=\"#778899\"/><path d=\"m1500.9 578.63h11.817l-5.9086 8.5221z\" clip-path=\"url(#pe170044360)\" fill=\"#778899\"/><path d=\"m1546.4 578.63h11.817l-5.9086 8.5221z\" clip-path=\"url(#pe170044360)\" fill=\"#778899\"/><path d=\"m1591.8 578.63h11.817l-5.9086 8.5221z\" clip-path=\"url(#pe170044360)\" fill=\"#778899\"/><path d=\"m1637.3 578.63h11.817l-5.9086 8.5221z\" clip-path=\"url(#pe170044360)\" fill=\"#778899\"/><path d=\"m73.291 43.561h1595.3\" clip-path=\"url(#pe170044360)\" fill=\"none\" stroke=\"#000000\" stroke-linecap=\"square\" stroke-width=\"2\"/><path d=\"m73.291 89.012h1595.3\" clip-path=\"url(#pe170044360)\" fill=\"none\" stroke=\"#000000\" stroke-linecap=\"square\" stroke-width=\"2\"/><path d=\"m73.291 134.46h1595.3\" clip-path=\"url(#pe170044360)\" fill=\"none\" stroke=\"#000000\" stroke-linecap=\"square\" stroke-width=\"2\"/><path d=\"m73.291 179.91h1595.3\" clip-path=\"url(#pe170044360)\" fill=\"none\" stroke=\"#000000\" stroke-linecap=\"square\" stroke-width=\"2\"/><path d=\"m73.291 225.36h1595.3\" clip-path=\"url(#pe170044360)\" fill=\"none\" stroke=\"#000000\" stroke-linecap=\"square\" stroke-width=\"2\"/><path d=\"m73.291 270.82h1595.3\" clip-path=\"url(#pe170044360)\" fill=\"none\" stroke=\"#000000\" stroke-linecap=\"square\" stroke-width=\"2\"/><path d=\"m73.291 316.27h1595.3\" clip-path=\"url(#pe170044360)\" fill=\"none\" stroke=\"#000000\" stroke-linecap=\"square\" stroke-width=\"2\"/><path d=\"m73.291 361.72h1595.3\" clip-path=\"url(#pe170044360)\" fill=\"none\" stroke=\"#000000\" stroke-linecap=\"square\" stroke-width=\"2\"/><path d=\"m73.291 407.17h1595.3\" clip-path=\"url(#pe170044360)\" fill=\"none\" stroke=\"#000000\" stroke-linecap=\"square\" stroke-width=\"2\"/><path d=\"m73.291 452.62h1595.3\" clip-path=\"url(#pe170044360)\" fill=\"none\" stroke=\"#000000\" stroke-linecap=\"square\" stroke-width=\"2\"/><path d=\"m73.291 498.07h1595.3\" clip-path=\"url(#pe170044360)\" fill=\"none\" stroke=\"#000000\" stroke-linecap=\"square\" stroke-width=\"2\"/><path d=\"m73.291 543.52h1595.3\" clip-path=\"url(#pe170044360)\" fill=\"none\" stroke=\"#000000\" stroke-linecap=\"square\" stroke-width=\"2\"/><path d=\"m73.291 587.5h1595.3\" clip-path=\"url(#pe170044360)\" fill=\"none\" stroke=\"#778899\" stroke-linecap=\"square\" stroke-width=\"2\"/><path d=\"m73.291 590.45h1595.3\" clip-path=\"url(#pe170044360)\" fill=\"none\" stroke=\"#778899\" stroke-linecap=\"square\" stroke-width=\"2\"/><path d=\"m188.74 543.52v-499.96\" clip-path=\"url(#pe170044360)\" fill=\"none\" stroke=\"#bb8bff\" stroke-linecap=\"square\" stroke-width=\"2\"/><path d=\"m325.09 543.52v-454.51\" clip-path=\"url(#pe170044360)\" fill=\"none\" stroke=\"#bb8bff\" stroke-linecap=\"square\" stroke-width=\"2\"/><path d=\"m461.44 543.52v-409.06\" clip-path=\"url(#pe170044360)\" fill=\"none\" stroke=\"#bb8bff\" stroke-linecap=\"square\" stroke-width=\"2\"/><path d=\"m597.8 543.52v-363.61\" clip-path=\"url(#pe170044360)\" fill=\"none\" stroke=\"#bb8bff\" stroke-linecap=\"square\" stroke-width=\"2\"/><path d=\"m734.15 543.52v-318.16\" clip-path=\"url(#pe170044360)\" fill=\"none\" stroke=\"#bb8bff\" stroke-linecap=\"square\" stroke-width=\"2\"/><path d=\"m870.5 543.52v-272.71\" clip-path=\"url(#pe170044360)\" fill=\"none\" stroke=\"#bb8bff\" stroke-linecap=\"square\" stroke-width=\"2\"/><path d=\"m1006.9 543.52v-227.26\" clip-path=\"url(#pe170044360)\" fill=\"none\" stroke=\"#bb8bff\" stroke-linecap=\"square\" stroke-width=\"2\"/><path d=\"m1143.2 543.52v-181.8\" clip-path=\"url(#pe170044360)\" fill=\"none\" stroke=\"#bb8bff\" stroke-linecap=\"square\" stroke-width=\"2\"/><path d=\"m1326.5 43.561v535.07\" clip-path=\"url(#pe170044360)\" fill=\"none\" stroke=\"#778899\" stroke-linecap=\"square\" stroke-width=\"2\"/><path d=\"m1323.5 43.561v535.07\" clip-path=\"url(#pe170044360)\" fill=\"none\" stroke=\"#778899\" stroke-linecap=\"square\" stroke-width=\"2\"/><path d=\"m1371.9 89.012v489.62\" clip-path=\"url(#pe170044360)\" fill=\"none\" stroke=\"#778899\" stroke-linecap=\"square\" stroke-width=\"2\"/><path d=\"m1369 89.012v489.62\" clip-path=\"url(#pe170044360)\" fill=\"none\" stroke=\"#778899\" stroke-linecap=\"square\" stroke-width=\"2\"/><path d=\"m1417.4 134.46v444.17\" clip-path=\"url(#pe170044360)\" fill=\"none\" stroke=\"#778899\" stroke-linecap=\"square\" stroke-width=\"2\"/><path d=\"m1414.4 134.46v444.17\" clip-path=\"url(#pe170044360)\" fill=\"none\" stroke=\"#778899\" stroke-linecap=\"square\" stroke-width=\"2\"/><path d=\"m1462.8 179.91v398.72\" clip-path=\"url(#pe170044360)\" fill=\"none\" stroke=\"#778899\" stroke-linecap=\"square\" stroke-width=\"2\"/><path d=\"m1459.9 179.91v398.72\" clip-path=\"url(#pe170044360)\" fill=\"none\" stroke=\"#778899\" stroke-linecap=\"square\" stroke-width=\"2\"/><path d=\"m1508.3 225.36v353.27\" clip-path=\"url(#pe170044360)\" fill=\"none\" stroke=\"#778899\" stroke-linecap=\"square\" stroke-width=\"2\"/><path d=\"m1505.3 225.36v353.27\" clip-path=\"url(#pe170044360)\" fill=\"none\" stroke=\"#778899\" stroke-linecap=\"square\" stroke-width=\"2\"/><path d=\"m1553.7 270.82v307.82\" clip-path=\"url(#pe170044360)\" fill=\"none\" stroke=\"#778899\" stroke-linecap=\"square\" stroke-width=\"2\"/><path d=\"m1550.8 270.82v307.82\" clip-path=\"url(#pe170044360)\" fill=\"none\" stroke=\"#778899\" stroke-linecap=\"square\" stroke-width=\"2\"/><path d=\"m1599.2 316.27v262.37\" clip-path=\"url(#pe170044360)\" fill=\"none\" stroke=\"#778899\" stroke-linecap=\"square\" stroke-width=\"2\"/><path d=\"m1596.2 316.27v262.37\" clip-path=\"url(#pe170044360)\" fill=\"none\" stroke=\"#778899\" stroke-linecap=\"square\" stroke-width=\"2\"/><path d=\"m1644.6 361.72v216.91\" clip-path=\"url(#pe170044360)\" fill=\"none\" stroke=\"#778899\" stroke-linecap=\"square\" stroke-width=\"2\"/><path d=\"m1641.7 361.72v216.91\" clip-path=\"url(#pe170044360)\" fill=\"none\" stroke=\"#778899\" stroke-linecap=\"square\" stroke-width=\"2\"/><path d=\"m82.381 593.52 4.5451-9.0902\" clip-path=\"url(#pe170044360)\" fill=\"none\" stroke=\"#778899\" stroke-linecap=\"square\" stroke-width=\"1.5\"/><path d=\"m83.063 58.332h29.543v-29.543h-29.543z\" clip-path=\"url(#pe170044360)\" fill=\"#6fa4ff\" stroke=\"#6fa4ff\" stroke-width=\"1.5\"/><path d=\"m83.063 103.78h29.543v-29.543h-29.543z\" clip-path=\"url(#pe170044360)\" fill=\"#6fa4ff\" stroke=\"#6fa4ff\" stroke-width=\"1.5\"/><path d=\"m83.063 149.23h29.543v-29.543h-29.543z\" clip-path=\"url(#pe170044360)\" fill=\"#6fa4ff\" stroke=\"#6fa4ff\" stroke-width=\"1.5\"/><path d=\"m83.063 194.69h29.543v-29.543h-29.543z\" clip-path=\"url(#pe170044360)\" fill=\"#6fa4ff\" stroke=\"#6fa4ff\" stroke-width=\"1.5\"/><path d=\"m83.063 240.14h29.543v-29.543h-29.543z\" clip-path=\"url(#pe170044360)\" fill=\"#6fa4ff\" stroke=\"#6fa4ff\" stroke-width=\"1.5\"/><path d=\"m83.063 285.59h29.543v-29.543h-29.543z\" clip-path=\"url(#pe170044360)\" fill=\"#6fa4ff\" stroke=\"#6fa4ff\" stroke-width=\"1.5\"/><path d=\"m83.063 331.04h29.543v-29.543h-29.543z\" clip-path=\"url(#pe170044360)\" fill=\"#6fa4ff\" stroke=\"#6fa4ff\" stroke-width=\"1.5\"/><path d=\"m83.063 376.49h29.543v-29.543h-29.543z\" clip-path=\"url(#pe170044360)\" fill=\"#6fa4ff\" stroke=\"#6fa4ff\" stroke-width=\"1.5\"/><path d=\"m83.063 421.94h29.543v-29.543h-29.543z\" clip-path=\"url(#pe170044360)\" fill=\"#05bab6\" stroke=\"#05bab6\" stroke-width=\"1.5\"/><path d=\"m188.74 47.992c1.1752 0 2.3025-0.46693 3.1335-1.2979 0.83102-0.83102 1.2979-1.9583 1.2979-3.1335s-0.46693-2.3025-1.2979-3.1335c-0.83102-0.83102-1.9583-1.2979-3.1335-1.2979s-2.3025 0.46693-3.1335 1.2979c-0.83102 0.83102-1.2979 1.9583-1.2979 3.1335s0.46693 2.3025 1.2979 3.1335c0.83102 0.83102 1.9583 1.2979 3.1335 1.2979z\" clip-path=\"url(#pe170044360)\" fill=\"#bb8bff\" stroke=\"#bb8bff\" stroke-width=\"1.5\"/><path d=\"m133.49 558.29h110.49v-165.9h-110.49z\" clip-path=\"url(#pe170044360)\" fill=\"#bb8bff\" stroke=\"#bb8bff\" stroke-width=\"1.5\"/><path d=\"m325.09 93.443c1.1752 0 2.3025-0.46693 3.1335-1.2979 0.83102-0.83102 1.2979-1.9583 1.2979-3.1335s-0.46693-2.3025-1.2979-3.1335c-0.83102-0.83102-1.9583-1.2979-3.1335-1.2979s-2.3025 0.46693-3.1335 1.2979c-0.83102 0.83102-1.2979 1.9583-1.2979 3.1335s0.46693 2.3025 1.2979 3.1335c0.83102 0.83102 1.9583 1.2979 3.1335 1.2979z\" clip-path=\"url(#pe170044360)\" fill=\"#bb8bff\" stroke=\"#bb8bff\" stroke-width=\"1.5\"/><path d=\"m269.8 558.29h110.59v-165.9h-110.59z\" clip-path=\"url(#pe170044360)\" fill=\"#bb8bff\" stroke=\"#bb8bff\" stroke-width=\"1.5\"/><path d=\"m461.44 138.89c1.1752 0 2.3025-0.46693 3.1335-1.2979 0.83102-0.83102 1.2979-1.9583 1.2979-3.1335s-0.46693-2.3025-1.2979-3.1335c-0.83102-0.83102-1.9583-1.2979-3.1335-1.2979s-2.3025 0.46693-3.1335 1.2979c-0.83102 0.83102-1.2979 1.9583-1.2979 3.1335s0.46693 2.3025 1.2979 3.1335c0.83102 0.83102 1.9583 1.2979 3.1335 1.2979z\" clip-path=\"url(#pe170044360)\" fill=\"#bb8bff\" stroke=\"#bb8bff\" stroke-width=\"1.5\"/><path d=\"m406.1 558.29h110.68v-165.9h-110.68z\" clip-path=\"url(#pe170044360)\" fill=\"#bb8bff\" stroke=\"#bb8bff\" stroke-width=\"1.5\"/><path d=\"m597.8 184.35c1.1752 0 2.3025-0.46693 3.1335-1.2979 0.83102-0.83102 1.2979-1.9583 1.2979-3.1335s-0.46693-2.3025-1.2979-3.1335c-0.83102-0.83102-1.9583-1.2979-3.1335-1.2979s-2.3025 0.46693-3.1335 1.2979c-0.83102 0.83102-1.2979 1.9583-1.2979 3.1335s0.46693 2.3025 1.2979 3.1335c0.83102 0.83102 1.9583 1.2979 3.1335 1.2979z\" clip-path=\"url(#pe170044360)\" fill=\"#bb8bff\" stroke=\"#bb8bff\" stroke-width=\"1.5\"/><path d=\"m542.45 558.29h110.68v-165.9h-110.68z\" clip-path=\"url(#pe170044360)\" fill=\"#bb8bff\" stroke=\"#bb8bff\" stroke-width=\"1.5\"/><path d=\"m734.15 229.8c1.1752 0 2.3025-0.46693 3.1335-1.2979 0.83102-0.83102 1.2979-1.9583 1.2979-3.1335s-0.46693-2.3025-1.2979-3.1335c-0.83102-0.83102-1.9583-1.2979-3.1335-1.2979s-2.3025 0.46693-3.1335 1.2979c-0.83102 0.83102-1.2979 1.9583-1.2979 3.1335s0.46693 2.3025 1.2979 3.1335c0.83102 0.83102 1.9583 1.2979 3.1335 1.2979z\" clip-path=\"url(#pe170044360)\" fill=\"#bb8bff\" stroke=\"#bb8bff\" stroke-width=\"1.5\"/><path d=\"m678.81 558.29h110.68v-165.9h-110.68z\" clip-path=\"url(#pe170044360)\" fill=\"#bb8bff\" stroke=\"#bb8bff\" stroke-width=\"1.5\"/><path d=\"m870.5 275.25c1.1752 0 2.3025-0.46693 3.1335-1.2979 0.83102-0.83102 1.2979-1.9583 1.2979-3.1335s-0.46693-2.3025-1.2979-3.1335c-0.83102-0.83102-1.9583-1.2979-3.1335-1.2979s-2.3025 0.46693-3.1335 1.2979c-0.83102 0.83102-1.2979 1.9583-1.2979 3.1335s0.46693 2.3025 1.2979 3.1335c0.83102 0.83102 1.9583 1.2979 3.1335 1.2979z\" clip-path=\"url(#pe170044360)\" fill=\"#bb8bff\" stroke=\"#bb8bff\" stroke-width=\"1.5\"/><path d=\"m815.16 558.29h110.68v-165.9h-110.68z\" clip-path=\"url(#pe170044360)\" fill=\"#bb8bff\" stroke=\"#bb8bff\" stroke-width=\"1.5\"/><path d=\"m1006.9 320.7c1.1752 0 2.3025-0.46693 3.1335-1.2979 0.83102-0.83102 1.2979-1.9583 1.2979-3.1335s-0.46693-2.3025-1.2979-3.1335c-0.83102-0.83102-1.9583-1.2979-3.1335-1.2979s-2.3025 0.46693-3.1335 1.2979c-0.83102 0.83102-1.2979 1.9583-1.2979 3.1335s0.46693 2.3025 1.2979 3.1335c0.83102 0.83102 1.9583 1.2979 3.1335 1.2979z\" clip-path=\"url(#pe170044360)\" fill=\"#bb8bff\" stroke=\"#bb8bff\" stroke-width=\"1.5\"/><path d=\"m951.56 558.29h110.59v-165.9h-110.59z\" clip-path=\"url(#pe170044360)\" fill=\"#bb8bff\" stroke=\"#bb8bff\" stroke-width=\"1.5\"/><path d=\"m1143.2 366.15c1.1752 0 2.3025-0.46693 3.1335-1.2979 0.83102-0.83102 1.2979-1.9583 1.2979-3.1335s-0.46693-2.3025-1.2979-3.1335c-0.83102-0.83102-1.9583-1.2979-3.1335-1.2979s-2.3025 0.46693-3.1335 1.2979c-0.83102 0.83102-1.2979 1.9583-1.2979 3.1335s0.46693 2.3025 1.2979 3.1335c0.83102 0.83102 1.9583 1.2979 3.1335 1.2979z\" clip-path=\"url(#pe170044360)\" fill=\"#bb8bff\" stroke=\"#bb8bff\" stroke-width=\"1.5\"/><path d=\"m1087.9 558.29h110.68v-165.9h-110.68z\" clip-path=\"url(#pe170044360)\" fill=\"#bb8bff\" stroke=\"#bb8bff\" stroke-width=\"1.5\"/><path d=\"m1232.9 376.49h47.796v-347.7h-47.796z\" clip-path=\"url(#pe170044360)\" fill=\"#bb8bff\" stroke=\"#bb8bff\" stroke-width=\"1.5\"/><path d=\"m1310.2 58.332h29.543v-29.543h-29.543z\" clip-path=\"url(#pe170044360)\" stroke=\"#000000\" stroke-width=\"1.5\"/><path d=\"m1335.4 47.992c0-2.7413-1.0901-5.3732-3.0285-7.3116-1.9384-1.9384-4.5702-3.0285-7.3116-3.0285s-5.3732 1.0901-7.3116 3.0285c-1.9384 1.9384-3.0285 4.5702-3.0285 7.3116\" clip-path=\"url(#pe170044360)\" fill=\"none\" stroke=\"#ffffff\" stroke-width=\"2\"/><path d=\"m1355.7 103.78h29.543v-29.543h-29.543z\" clip-path=\"url(#pe170044360)\" stroke=\"#000000\" stroke-width=\"1.5\"/><path d=\"m1380.8 93.443c0-2.7413-1.0901-5.3732-3.0285-7.3116-1.9384-1.9384-4.5702-3.0285-7.3116-3.0285s-5.3732 1.0901-7.3116 3.0285c-1.9384 1.9384-3.0285 4.5702-3.0285 7.3116\" clip-path=\"url(#pe170044360)\" fill=\"none\" stroke=\"#ffffff\" stroke-width=\"2\"/><path d=\"m1401.1 149.23h29.543v-29.543h-29.543z\" clip-path=\"url(#pe170044360)\" stroke=\"#000000\" stroke-width=\"1.5\"/><path d=\"m1426.3 138.89c0-2.7413-1.0901-5.3732-3.0285-7.3116-1.9384-1.9384-4.5702-3.0285-7.3116-3.0285s-5.3732 1.0901-7.3116 3.0285c-1.9384 1.9384-3.0285 4.5702-3.0285 7.3116\" clip-path=\"url(#pe170044360)\" fill=\"none\" stroke=\"#ffffff\" stroke-width=\"2\"/><path d=\"m1446.6 194.69h29.543v-29.543h-29.543z\" clip-path=\"url(#pe170044360)\" stroke=\"#000000\" stroke-width=\"1.5\"/><path d=\"m1471.7 184.35c0-2.7413-1.0901-5.3732-3.0285-7.3116-1.9384-1.9384-4.5702-3.0285-7.3116-3.0285s-5.3732 1.0901-7.3116 3.0285c-1.9384 1.9384-3.0285 4.5702-3.0285 7.3116\" clip-path=\"url(#pe170044360)\" fill=\"none\" stroke=\"#ffffff\" stroke-width=\"2\"/><path d=\"m1492 240.14h29.543v-29.543h-29.543z\" clip-path=\"url(#pe170044360)\" stroke=\"#000000\" stroke-width=\"1.5\"/><path d=\"m1517.2 229.8c0-2.7413-1.0901-5.3732-3.0285-7.3116-1.9384-1.9384-4.5702-3.0285-7.3116-3.0285s-5.3732 1.0901-7.3116 3.0285c-1.9384 1.9384-3.0285 4.5702-3.0285 7.3116\" clip-path=\"url(#pe170044360)\" fill=\"none\" stroke=\"#ffffff\" stroke-width=\"2\"/><path d=\"m1537.5 285.59h29.543v-29.543h-29.543z\" clip-path=\"url(#pe170044360)\" stroke=\"#000000\" stroke-width=\"1.5\"/><path d=\"m1562.6 275.25c0-2.7413-1.0901-5.3732-3.0285-7.3116-1.9384-1.9384-4.5702-3.0285-7.3116-3.0285s-5.3732 1.0901-7.3116 3.0285c-1.9384 1.9384-3.0285 4.5702-3.0285 7.3116\" clip-path=\"url(#pe170044360)\" fill=\"none\" stroke=\"#ffffff\" stroke-width=\"2\"/><path d=\"m1582.9 331.04h29.543v-29.543h-29.543z\" clip-path=\"url(#pe170044360)\" stroke=\"#000000\" stroke-width=\"1.5\"/><path d=\"m1608.1 320.7c0-2.7413-1.0901-5.3732-3.0285-7.3116-1.9384-1.9384-4.5702-3.0285-7.3116-3.0285s-5.3732 1.0901-7.3116 3.0285c-1.9384 1.9384-3.0285 4.5702-3.0285 7.3116\" clip-path=\"url(#pe170044360)\" fill=\"none\" stroke=\"#ffffff\" stroke-width=\"2\"/><path d=\"m1628.4 376.49h29.543v-29.543h-29.543z\" clip-path=\"url(#pe170044360)\" stroke=\"#000000\" stroke-width=\"1.5\"/><path d=\"m1653.5 366.15c0-2.7413-1.0901-5.3732-3.0285-7.3116-1.9384-1.9384-4.5702-3.0285-7.3116-3.0285s-5.3732 1.0901-7.3116 3.0285c-1.9384 1.9384-3.0285 4.5702-3.0285 7.3116\" clip-path=\"url(#pe170044360)\" fill=\"none\" stroke=\"#ffffff\" stroke-width=\"2\"/><path d=\"m1325 47.992 10.34-10.34\" clip-path=\"url(#pe170044360)\" fill=\"none\" stroke=\"#ffffff\" stroke-linecap=\"square\" stroke-width=\"2\"/><path d=\"m1370.5 93.443 10.34-10.34\" clip-path=\"url(#pe170044360)\" fill=\"none\" stroke=\"#ffffff\" stroke-linecap=\"square\" stroke-width=\"2\"/><path d=\"m1415.9 138.89 10.34-10.34\" clip-path=\"url(#pe170044360)\" fill=\"none\" stroke=\"#ffffff\" stroke-linecap=\"square\" stroke-width=\"2\"/><path d=\"m1461.4 184.35 10.34-10.34\" clip-path=\"url(#pe170044360)\" fill=\"none\" stroke=\"#ffffff\" stroke-linecap=\"square\" stroke-width=\"2\"/><path d=\"m1506.8 229.8 10.34-10.34\" clip-path=\"url(#pe170044360)\" fill=\"none\" stroke=\"#ffffff\" stroke-linecap=\"square\" stroke-width=\"2\"/><path d=\"m1552.3 275.25 10.34-10.34\" clip-path=\"url(#pe170044360)\" fill=\"none\" stroke=\"#ffffff\" stroke-linecap=\"square\" stroke-width=\"2\"/><path d=\"m1597.7 320.7 10.34-10.34\" clip-path=\"url(#pe170044360)\" fill=\"none\" stroke=\"#ffffff\" stroke-linecap=\"square\" stroke-width=\"2\"/><path d=\"m1643.2 366.15 10.34-10.34\" clip-path=\"url(#pe170044360)\" fill=\"none\" stroke=\"#ffffff\" stroke-linecap=\"square\" stroke-width=\"2\"/><g clip-path=\"url(#pe170044360)\"><defs><path id=\"DejaVuSans-72\" d=\"m9.8125 72.906h9.8594v-29.891h35.844v29.891h9.8594v-72.906h-9.8594v34.719h-35.844v-34.719h-9.8594z\"/></defs><g transform=\"translate(92.947 47.148) scale(.13 -.13)\"><use xlink:href=\"#DejaVuSans-72\"/></g></g><g clip-path=\"url(#pe170044360)\"><g transform=\"translate(92.947 92.599) scale(.13 -.13)\"><use xlink:href=\"#DejaVuSans-72\"/></g></g><g clip-path=\"url(#pe170044360)\"><g transform=\"translate(92.947 138.05) scale(.13 -.13)\"><use xlink:href=\"#DejaVuSans-72\"/></g></g><g clip-path=\"url(#pe170044360)\"><g transform=\"translate(92.947 183.5) scale(.13 -.13)\"><use xlink:href=\"#DejaVuSans-72\"/></g></g><g clip-path=\"url(#pe170044360)\"><g transform=\"translate(92.947 228.95) scale(.13 -.13)\"><use xlink:href=\"#DejaVuSans-72\"/></g></g><g clip-path=\"url(#pe170044360)\"><g transform=\"translate(92.947 274.4) scale(.13 -.13)\"><use xlink:href=\"#DejaVuSans-72\"/></g></g><g clip-path=\"url(#pe170044360)\"><g transform=\"translate(92.947 319.85) scale(.13 -.13)\"><use xlink:href=\"#DejaVuSans-72\"/></g></g><g clip-path=\"url(#pe170044360)\"><g transform=\"translate(92.947 365.3) scale(.13 -.13)\"><use xlink:href=\"#DejaVuSans-72\"/></g></g><g clip-path=\"url(#pe170044360)\"><defs><path id=\"DejaVuSans-88\" d=\"m6.2969 72.906h10.594l18.125-27.109 18.203 27.109h10.594l-23.438-35.016 25-37.891h-10.594l-20.5 31-20.656-31h-10.641l26.016 38.922z\"/></defs><g transform=\"translate(93.382 410.76) scale(.13 -.13)\"><use xlink:href=\"#DejaVuSans-88\"/></g></g><g clip-path=\"url(#pe170044360)\"><defs><path id=\"DejaVuSans-48\" d=\"m31.781 66.406q-7.6094 0-11.453-7.5-3.8281-7.4844-3.8281-22.531 0-14.984 3.8281-22.484 3.8438-7.5 11.453-7.5 7.6719 0 11.5 7.5 3.8438 7.5 3.8438 22.484 0 15.047-3.8438 22.531-3.8281 7.5-11.5 7.5zm0 7.8125q12.266 0 18.734-9.7031 6.4688-9.6875 6.4688-28.141 0-18.406-6.4688-28.109-6.4688-9.6875-18.734-9.6875-12.25 0-18.719 9.6875-6.4688 9.7031-6.4688 28.109 0 18.453 6.4688 28.141 6.4688 9.7031 18.719 9.7031z\"/></defs><g transform=\"translate(136.67 410.76) scale(.13 -.13)\"><use xlink:href=\"#DejaVuSans-48\"/></g></g><g clip-path=\"url(#pe170044360)\"><defs><path id=\"DejaVuSans-49\" d=\"m12.406 8.2969h16.109v55.625l-17.531-3.5156v8.9844l17.438 3.5156h9.8594v-64.609h16.109v-8.2969h-41.984z\"/></defs><g transform=\"translate(136.67 456.21) scale(.13 -.13)\"><use xlink:href=\"#DejaVuSans-49\"/></g></g><g clip-path=\"url(#pe170044360)\"><defs><path id=\"DejaVuSans-50\" d=\"m19.188 8.2969h34.422v-8.2969h-46.281v8.2969q5.6094 5.8125 15.297 15.594 9.7031 9.7969 12.188 12.641 4.7344 5.3125 6.6094 9 1.8906 3.6875 1.8906 7.25 0 5.8125-4.0781 9.4688-4.0781 3.6719-10.625 3.6719-4.6406 0-9.7969-1.6094-5.1406-1.6094-11-4.8906v9.9688q5.9531 2.3906 11.125 3.6094 5.1875 1.2188 9.4844 1.2188 11.328 0 18.062-5.6719 6.7344-5.6562 6.7344-15.125 0-4.5-1.6875-8.5312-1.6719-4.0156-6.125-9.4844-1.2188-1.4219-7.7656-8.1875-6.5312-6.7656-18.453-18.922z\"/></defs><g transform=\"translate(136.67 501.66) scale(.13 -.13)\"><use xlink:href=\"#DejaVuSans-50\"/></g></g><g clip-path=\"url(#pe170044360)\"><defs><path id=\"DejaVuSans-51\" d=\"m40.578 39.312q7.0781-1.5156 11.047-6.3125 3.9844-4.7812 3.9844-11.812 0-10.781-7.4219-16.703-7.4219-5.9062-21.094-5.9062-4.5781 0-9.4375 0.90625t-10.031 2.7188v9.5156q4.0938-2.3906 8.9688-3.6094 4.8906-1.2188 10.219-1.2188 9.2656 0 14.125 3.6562t4.8594 10.641q0 6.4531-4.5156 10.078-4.5156 3.6406-12.562 3.6406h-8.5v8.1094h8.8906q7.2656 0 11.125 2.9062t3.8594 8.375q0 5.6094-3.9844 8.6094-3.9688 3.0156-11.391 3.0156-4.0625 0-8.7031-0.89062-4.6406-0.875-10.203-2.7188v8.7812q5.625 1.5625 10.531 2.3438t9.25 0.78125q11.234 0 17.766-5.1094 6.5469-5.0938 6.5469-13.781 0-6.0625-3.4688-10.234t-9.8594-5.7812z\"/></defs><g transform=\"translate(136.67 547.11) scale(.13 -.13)\"><use xlink:href=\"#DejaVuSans-51\"/></g></g><g clip-path=\"url(#pe170044360)\"><defs><path id=\"DejaVuSans-55\" d=\"m8.2031 72.906h46.875v-4.2031l-26.469-68.703h-10.297l24.906 64.594h-35.016z\"/><path id=\"DejaVuSans-77\" d=\"m9.8125 72.906h14.703l18.594-49.609 18.703 49.609h14.703v-72.906h-9.625v64.016l-18.797-50h-9.9062l-18.797 50v-64.016h-9.5781z\"/><path id=\"DejaVuSans-111\" d=\"m30.609 48.391q-7.2188 0-11.422-5.6406t-4.2031-15.453 4.1719-15.453q4.1875-5.6406 11.453-5.6406 7.1875 0 11.375 5.6562 4.2031 5.6719 4.2031 15.438 0 9.7188-4.2031 15.406-4.1875 5.6875-11.375 5.6875zm0 7.6094q11.719 0 18.406-7.625 6.7031-7.6094 6.7031-21.078 0-13.422-6.7031-21.078-6.6875-7.6406-18.406-7.6406-11.766 0-18.438 7.6406-6.6562 7.6562-6.6562 21.078 0 13.469 6.6562 21.078 6.6719 7.625 18.438 7.625z\"/><path id=\"DejaVuSans-100\" d=\"m45.406 46.391v29.594h8.9844v-75.984h-8.9844v8.2031q-2.8281-4.875-7.1562-7.25-4.3125-2.375-10.375-2.375-9.9062 0-16.141 7.9062-6.2188 7.9219-6.2188 20.812t6.2188 20.797q6.2344 7.9062 16.141 7.9062 6.0625 0 10.375-2.375 4.3281-2.3594 7.1562-7.2344zm-30.609-19.094q0-9.9062 4.0781-15.547t11.203-5.6406 11.219 5.6406q4.1094 5.6406 4.1094 15.547t-4.1094 15.547q-4.0938 5.6406-11.219 5.6406t-11.203-5.6406-4.0781-15.547z\"/><path id=\"DejaVuSans-53\" d=\"m10.797 72.906h38.719v-8.3125h-29.688v-17.859q2.1406 0.73438 4.2812 1.0938 2.1562 0.35938 4.3125 0.35938 12.203 0 19.328-6.6875 7.1406-6.6875 7.1406-18.109 0-11.766-7.3281-18.297-7.3281-6.5156-20.656-6.5156-4.5938 0-9.3594 0.78125-4.75 0.78125-9.8281 2.3438v9.9219q4.3906-2.3906 9.0781-3.5625t9.9062-1.1719q8.4531 0 13.375 4.4375 4.9375 4.4375 4.9375 12.062 0 7.6094-4.9375 12.047-4.9219 4.4531-13.375 4.4531-3.9531 0-7.8906-0.875-3.9219-0.875-8.0156-2.7344z\"/><path id=\"DejaVuSans-95\" d=\"m50.984-16.609v-6.9688h-51.969v6.9688z\"/><path id=\"DejaVuSans-91\" d=\"m8.5938 75.984h20.703v-6.9844h-11.719v-75.203h11.719v-6.9844h-20.703z\"/><path id=\"DejaVuSans-94\" d=\"m46.688 72.906 26.5-27.203h-9.8125l-21.484 19.281-21.484-19.281h-9.8125l26.516 27.203z\"/><path id=\"DejaVuSans-93\" d=\"m30.422 75.984v-89.172h-20.703v6.9844h11.672v75.203h-11.672v6.9844z\"/></defs><g transform=\"translate(145.58 478.75) scale(.13 -.13)\"><use xlink:href=\"#DejaVuSans-55\"/><use x=\"63.623047\" xlink:href=\"#DejaVuSans-77\"/><use x=\"149.902344\" xlink:href=\"#DejaVuSans-111\"/><use x=\"211.083984\" xlink:href=\"#DejaVuSans-100\"/><use x=\"274.560547\" xlink:href=\"#DejaVuSans-49\"/><use x=\"338.183594\" xlink:href=\"#DejaVuSans-53\"/><use x=\"401.806641\" xlink:href=\"#DejaVuSans-95\"/><use x=\"451.806641\" xlink:href=\"#DejaVuSans-91\"/><use x=\"490.820312\" xlink:href=\"#DejaVuSans-50\"/><use x=\"554.443359\" xlink:href=\"#DejaVuSans-94\"/><use x=\"638.232422\" xlink:href=\"#DejaVuSans-48\"/><use x=\"701.855469\" xlink:href=\"#DejaVuSans-93\"/></g></g><g clip-path=\"url(#pe170044360)\"><g transform=\"translate(272.98 410.76) scale(.13 -.13)\"><use xlink:href=\"#DejaVuSans-48\"/></g></g><g clip-path=\"url(#pe170044360)\"><g transform=\"translate(272.98 456.21) scale(.13 -.13)\"><use xlink:href=\"#DejaVuSans-49\"/></g></g><g clip-path=\"url(#pe170044360)\"><g transform=\"translate(272.98 501.66) scale(.13 -.13)\"><use xlink:href=\"#DejaVuSans-50\"/></g></g><g clip-path=\"url(#pe170044360)\"><g transform=\"translate(272.98 547.11) scale(.13 -.13)\"><use xlink:href=\"#DejaVuSans-51\"/></g></g><g clip-path=\"url(#pe170044360)\"><g transform=\"translate(281.93 478.75) scale(.13 -.13)\"><use xlink:href=\"#DejaVuSans-55\"/><use x=\"63.623047\" xlink:href=\"#DejaVuSans-77\"/><use x=\"149.902344\" xlink:href=\"#DejaVuSans-111\"/><use x=\"211.083984\" xlink:href=\"#DejaVuSans-100\"/><use x=\"274.560547\" xlink:href=\"#DejaVuSans-49\"/><use x=\"338.183594\" xlink:href=\"#DejaVuSans-53\"/><use x=\"401.806641\" xlink:href=\"#DejaVuSans-95\"/><use x=\"451.806641\" xlink:href=\"#DejaVuSans-91\"/><use x=\"490.820312\" xlink:href=\"#DejaVuSans-50\"/><use x=\"554.443359\" xlink:href=\"#DejaVuSans-94\"/><use x=\"638.232422\" xlink:href=\"#DejaVuSans-49\"/><use x=\"701.855469\" xlink:href=\"#DejaVuSans-93\"/></g></g><g clip-path=\"url(#pe170044360)\"><g transform=\"translate(409.28 410.76) scale(.13 -.13)\"><use xlink:href=\"#DejaVuSans-48\"/></g></g><g clip-path=\"url(#pe170044360)\"><g transform=\"translate(409.28 456.21) scale(.13 -.13)\"><use xlink:href=\"#DejaVuSans-49\"/></g></g><g clip-path=\"url(#pe170044360)\"><g transform=\"translate(409.28 501.66) scale(.13 -.13)\"><use xlink:href=\"#DejaVuSans-50\"/></g></g><g clip-path=\"url(#pe170044360)\"><g transform=\"translate(409.28 547.11) scale(.13 -.13)\"><use xlink:href=\"#DejaVuSans-51\"/></g></g><g clip-path=\"url(#pe170044360)\"><g transform=\"translate(418.28 478.75) scale(.13 -.13)\"><use xlink:href=\"#DejaVuSans-55\"/><use x=\"63.623047\" xlink:href=\"#DejaVuSans-77\"/><use x=\"149.902344\" xlink:href=\"#DejaVuSans-111\"/><use x=\"211.083984\" xlink:href=\"#DejaVuSans-100\"/><use x=\"274.560547\" xlink:href=\"#DejaVuSans-49\"/><use x=\"338.183594\" xlink:href=\"#DejaVuSans-53\"/><use x=\"401.806641\" xlink:href=\"#DejaVuSans-95\"/><use x=\"451.806641\" xlink:href=\"#DejaVuSans-91\"/><use x=\"490.820312\" xlink:href=\"#DejaVuSans-50\"/><use x=\"554.443359\" xlink:href=\"#DejaVuSans-94\"/><use x=\"638.232422\" xlink:href=\"#DejaVuSans-50\"/><use x=\"701.855469\" xlink:href=\"#DejaVuSans-93\"/></g></g><g clip-path=\"url(#pe170044360)\"><g transform=\"translate(545.64 410.76) scale(.13 -.13)\"><use xlink:href=\"#DejaVuSans-48\"/></g></g><g clip-path=\"url(#pe170044360)\"><g transform=\"translate(545.64 456.21) scale(.13 -.13)\"><use xlink:href=\"#DejaVuSans-49\"/></g></g><g clip-path=\"url(#pe170044360)\"><g transform=\"translate(545.64 501.66) scale(.13 -.13)\"><use xlink:href=\"#DejaVuSans-50\"/></g></g><g clip-path=\"url(#pe170044360)\"><g transform=\"translate(545.64 547.11) scale(.13 -.13)\"><use xlink:href=\"#DejaVuSans-51\"/></g></g><g clip-path=\"url(#pe170044360)\"><g transform=\"translate(554.64 478.75) scale(.13 -.13)\"><use xlink:href=\"#DejaVuSans-55\"/><use x=\"63.623047\" xlink:href=\"#DejaVuSans-77\"/><use x=\"149.902344\" xlink:href=\"#DejaVuSans-111\"/><use x=\"211.083984\" xlink:href=\"#DejaVuSans-100\"/><use x=\"274.560547\" xlink:href=\"#DejaVuSans-49\"/><use x=\"338.183594\" xlink:href=\"#DejaVuSans-53\"/><use x=\"401.806641\" xlink:href=\"#DejaVuSans-95\"/><use x=\"451.806641\" xlink:href=\"#DejaVuSans-91\"/><use x=\"490.820312\" xlink:href=\"#DejaVuSans-50\"/><use x=\"554.443359\" xlink:href=\"#DejaVuSans-94\"/><use x=\"638.232422\" xlink:href=\"#DejaVuSans-51\"/><use x=\"701.855469\" xlink:href=\"#DejaVuSans-93\"/></g></g><g clip-path=\"url(#pe170044360)\"><g transform=\"translate(681.99 410.76) scale(.13 -.13)\"><use xlink:href=\"#DejaVuSans-48\"/></g></g><g clip-path=\"url(#pe170044360)\"><g transform=\"translate(681.99 456.21) scale(.13 -.13)\"><use xlink:href=\"#DejaVuSans-49\"/></g></g><g clip-path=\"url(#pe170044360)\"><g transform=\"translate(681.99 501.66) scale(.13 -.13)\"><use xlink:href=\"#DejaVuSans-50\"/></g></g><g clip-path=\"url(#pe170044360)\"><g transform=\"translate(681.99 547.11) scale(.13 -.13)\"><use xlink:href=\"#DejaVuSans-51\"/></g></g><g clip-path=\"url(#pe170044360)\"><defs><path id=\"DejaVuSans-52\" d=\"m37.797 64.312-24.906-38.922h24.906zm-2.5938 8.5938h12.406v-47.516h10.406v-8.2031h-10.406v-17.188h-9.8125v17.188h-32.906v9.5156z\"/></defs><g transform=\"translate(690.99 478.75) scale(.13 -.13)\"><use xlink:href=\"#DejaVuSans-55\"/><use x=\"63.623047\" xlink:href=\"#DejaVuSans-77\"/><use x=\"149.902344\" xlink:href=\"#DejaVuSans-111\"/><use x=\"211.083984\" xlink:href=\"#DejaVuSans-100\"/><use x=\"274.560547\" xlink:href=\"#DejaVuSans-49\"/><use x=\"338.183594\" xlink:href=\"#DejaVuSans-53\"/><use x=\"401.806641\" xlink:href=\"#DejaVuSans-95\"/><use x=\"451.806641\" xlink:href=\"#DejaVuSans-91\"/><use x=\"490.820312\" xlink:href=\"#DejaVuSans-50\"/><use x=\"554.443359\" xlink:href=\"#DejaVuSans-94\"/><use x=\"638.232422\" xlink:href=\"#DejaVuSans-52\"/><use x=\"701.855469\" xlink:href=\"#DejaVuSans-93\"/></g></g><g clip-path=\"url(#pe170044360)\"><g transform=\"translate(818.34 410.76) scale(.13 -.13)\"><use xlink:href=\"#DejaVuSans-48\"/></g></g><g clip-path=\"url(#pe170044360)\"><g transform=\"translate(818.34 456.21) scale(.13 -.13)\"><use xlink:href=\"#DejaVuSans-49\"/></g></g><g clip-path=\"url(#pe170044360)\"><g transform=\"translate(818.34 501.66) scale(.13 -.13)\"><use xlink:href=\"#DejaVuSans-50\"/></g></g><g clip-path=\"url(#pe170044360)\"><g transform=\"translate(818.34 547.11) scale(.13 -.13)\"><use xlink:href=\"#DejaVuSans-51\"/></g></g><g clip-path=\"url(#pe170044360)\"><g transform=\"translate(827.34 478.75) scale(.13 -.13)\"><use xlink:href=\"#DejaVuSans-55\"/><use x=\"63.623047\" xlink:href=\"#DejaVuSans-77\"/><use x=\"149.902344\" xlink:href=\"#DejaVuSans-111\"/><use x=\"211.083984\" xlink:href=\"#DejaVuSans-100\"/><use x=\"274.560547\" xlink:href=\"#DejaVuSans-49\"/><use x=\"338.183594\" xlink:href=\"#DejaVuSans-53\"/><use x=\"401.806641\" xlink:href=\"#DejaVuSans-95\"/><use x=\"451.806641\" xlink:href=\"#DejaVuSans-91\"/><use x=\"490.820312\" xlink:href=\"#DejaVuSans-50\"/><use x=\"554.443359\" xlink:href=\"#DejaVuSans-94\"/><use x=\"638.232422\" xlink:href=\"#DejaVuSans-53\"/><use x=\"701.855469\" xlink:href=\"#DejaVuSans-93\"/></g></g><g clip-path=\"url(#pe170044360)\"><g transform=\"translate(954.74 410.76) scale(.13 -.13)\"><use xlink:href=\"#DejaVuSans-48\"/></g></g><g clip-path=\"url(#pe170044360)\"><g transform=\"translate(954.74 456.21) scale(.13 -.13)\"><use xlink:href=\"#DejaVuSans-49\"/></g></g><g clip-path=\"url(#pe170044360)\"><g transform=\"translate(954.74 501.66) scale(.13 -.13)\"><use xlink:href=\"#DejaVuSans-50\"/></g></g><g clip-path=\"url(#pe170044360)\"><g transform=\"translate(954.74 547.11) scale(.13 -.13)\"><use xlink:href=\"#DejaVuSans-51\"/></g></g><g clip-path=\"url(#pe170044360)\"><defs><path id=\"DejaVuSans-54\" d=\"m33.016 40.375q-6.6406 0-10.531-4.5469-3.875-4.5312-3.875-12.438 0-7.8594 3.875-12.438 3.8906-4.5625 10.531-4.5625t10.516 4.5625q3.875 4.5781 3.875 12.438 0 7.9062-3.875 12.438-3.875 4.5469-10.516 4.5469zm19.578 30.922v-8.9844q-3.7188 1.75-7.5 2.6719-3.7812 0.9375-7.5 0.9375-9.7656 0-14.922-6.5938-5.1406-6.5938-5.875-19.922 2.875 4.25 7.2188 6.5156 4.3594 2.2656 9.5781 2.2656 10.984 0 17.359-6.6719 6.375-6.6562 6.375-18.125 0-11.234-6.6406-18.031-6.6406-6.7812-17.672-6.7812-12.656 0-19.344 9.6875-6.6875 9.7031-6.6875 28.109 0 17.281 8.2031 27.562t22.016 10.281q3.7188 0 7.5-0.73438t7.8906-2.1875z\"/></defs><g transform=\"translate(963.7 478.75) scale(.13 -.13)\"><use xlink:href=\"#DejaVuSans-55\"/><use x=\"63.623047\" xlink:href=\"#DejaVuSans-77\"/><use x=\"149.902344\" xlink:href=\"#DejaVuSans-111\"/><use x=\"211.083984\" xlink:href=\"#DejaVuSans-100\"/><use x=\"274.560547\" xlink:href=\"#DejaVuSans-49\"/><use x=\"338.183594\" xlink:href=\"#DejaVuSans-53\"/><use x=\"401.806641\" xlink:href=\"#DejaVuSans-95\"/><use x=\"451.806641\" xlink:href=\"#DejaVuSans-91\"/><use x=\"490.820312\" xlink:href=\"#DejaVuSans-50\"/><use x=\"554.443359\" xlink:href=\"#DejaVuSans-94\"/><use x=\"638.232422\" xlink:href=\"#DejaVuSans-54\"/><use x=\"701.855469\" xlink:href=\"#DejaVuSans-93\"/></g></g><g clip-path=\"url(#pe170044360)\"><g transform=\"translate(1091 410.76) scale(.13 -.13)\"><use xlink:href=\"#DejaVuSans-48\"/></g></g><g clip-path=\"url(#pe170044360)\"><g transform=\"translate(1091 456.21) scale(.13 -.13)\"><use xlink:href=\"#DejaVuSans-49\"/></g></g><g clip-path=\"url(#pe170044360)\"><g transform=\"translate(1091 501.66) scale(.13 -.13)\"><use xlink:href=\"#DejaVuSans-50\"/></g></g><g clip-path=\"url(#pe170044360)\"><g transform=\"translate(1091 547.11) scale(.13 -.13)\"><use xlink:href=\"#DejaVuSans-51\"/></g></g><g clip-path=\"url(#pe170044360)\"><g transform=\"translate(1100 478.75) scale(.13 -.13)\"><use xlink:href=\"#DejaVuSans-55\"/><use x=\"63.623047\" xlink:href=\"#DejaVuSans-77\"/><use x=\"149.902344\" xlink:href=\"#DejaVuSans-111\"/><use x=\"211.083984\" xlink:href=\"#DejaVuSans-100\"/><use x=\"274.560547\" xlink:href=\"#DejaVuSans-49\"/><use x=\"338.183594\" xlink:href=\"#DejaVuSans-53\"/><use x=\"401.806641\" xlink:href=\"#DejaVuSans-95\"/><use x=\"451.806641\" xlink:href=\"#DejaVuSans-91\"/><use x=\"490.820312\" xlink:href=\"#DejaVuSans-50\"/><use x=\"554.443359\" xlink:href=\"#DejaVuSans-94\"/><use x=\"638.232422\" xlink:href=\"#DejaVuSans-55\"/><use x=\"701.855469\" xlink:href=\"#DejaVuSans-93\"/></g></g><g clip-path=\"url(#pe170044360)\"><g transform=\"translate(1236.1 47.148) scale(.13 -.13)\"><use xlink:href=\"#DejaVuSans-48\"/></g></g><g clip-path=\"url(#pe170044360)\"><g transform=\"translate(1236.1 92.599) scale(.13 -.13)\"><use xlink:href=\"#DejaVuSans-49\"/></g></g><g clip-path=\"url(#pe170044360)\"><g transform=\"translate(1236.1 138.05) scale(.13 -.13)\"><use xlink:href=\"#DejaVuSans-50\"/></g></g><g clip-path=\"url(#pe170044360)\"><g transform=\"translate(1236.1 183.5) scale(.13 -.13)\"><use xlink:href=\"#DejaVuSans-51\"/></g></g><g clip-path=\"url(#pe170044360)\"><g transform=\"translate(1236.1 228.95) scale(.13 -.13)\"><use xlink:href=\"#DejaVuSans-52\"/></g></g><g clip-path=\"url(#pe170044360)\"><g transform=\"translate(1236.1 274.4) scale(.13 -.13)\"><use xlink:href=\"#DejaVuSans-53\"/></g></g><g clip-path=\"url(#pe170044360)\"><g transform=\"translate(1236.1 319.85) scale(.13 -.13)\"><use xlink:href=\"#DejaVuSans-54\"/></g></g><g clip-path=\"url(#pe170044360)\"><g transform=\"translate(1236.1 365.3) scale(.13 -.13)\"><use xlink:href=\"#DejaVuSans-55\"/></g></g><g clip-path=\"url(#pe170044360)\"><defs><path id=\"DejaVuSans-81\" d=\"m39.406 66.219q-10.75 0-17.078-8.0156-6.3125-8-6.3125-21.828 0-13.766 6.3125-21.781 6.3281-8 17.078-8 10.734 0 17.016 8 6.2812 8.0156 6.2812 21.781 0 13.828-6.2812 21.828-6.2812 8.0156-17.016 8.0156zm13.812-64.906 13-14.203h-11.922l-10.797 11.672q-1.6094-0.09375-2.4688-0.14062-0.84375-0.0625-1.625-0.0625-15.375 0-24.594 10.281-9.2031 10.281-9.2031 27.516 0 17.281 9.2031 27.562 9.2188 10.281 24.594 10.281 15.328 0 24.5-10.281 9.1875-10.281 9.1875-27.562 0-12.688-5.1094-21.734-5.0938-9.0312-14.766-13.328z\"/><path id=\"DejaVuSans-70\" d=\"m9.8125 72.906h41.891v-8.3125h-32.031v-21.484h28.906v-8.2969h-28.906v-34.812h-9.8594z\"/><path id=\"DejaVuSans-84\" d=\"m-0.29688 72.906h61.672v-8.3125h-25.875v-64.594h-9.9062v64.594h-25.891z\"/><path id=\"DejaVuSans-43\" d=\"m46 62.703v-27.203h27.188v-8.2969h-27.188v-27.203h-8.2031v27.203h-27.203v8.2969h27.203v27.203z\"/></defs><g transform=\"translate(1243.7 206.23) scale(.13 -.13)\"><use xlink:href=\"#DejaVuSans-81\"/><use x=\"78.710938\" xlink:href=\"#DejaVuSans-70\"/><use x=\"134.480469\" xlink:href=\"#DejaVuSans-84\"/><use x=\"195.564453\" xlink:href=\"#DejaVuSans-43\"/></g></g><g clip-path=\"url(#pe170044360)\"><g transform=\"translate(1336.4 582.26) scale(.104 -.104)\"><use xlink:href=\"#DejaVuSans-48\"/></g></g><g clip-path=\"url(#pe170044360)\"><g transform=\"translate(1381.8 582.26) scale(.104 -.104)\"><use xlink:href=\"#DejaVuSans-49\"/></g></g><g clip-path=\"url(#pe170044360)\"><g transform=\"translate(1427.3 582.26) scale(.104 -.104)\"><use xlink:href=\"#DejaVuSans-50\"/></g></g><g clip-path=\"url(#pe170044360)\"><g transform=\"translate(1472.7 582.26) scale(.104 -.104)\"><use xlink:href=\"#DejaVuSans-51\"/></g></g><g clip-path=\"url(#pe170044360)\"><g transform=\"translate(1518.2 582.26) scale(.104 -.104)\"><use xlink:href=\"#DejaVuSans-52\"/></g></g><g clip-path=\"url(#pe170044360)\"><g transform=\"translate(1563.6 582.26) scale(.104 -.104)\"><use xlink:href=\"#DejaVuSans-53\"/></g></g><g clip-path=\"url(#pe170044360)\"><g transform=\"translate(1609.1 582.26) scale(.104 -.104)\"><use xlink:href=\"#DejaVuSans-54\"/></g></g><g clip-path=\"url(#pe170044360)\"><g transform=\"translate(1654.5 582.26) scale(.104 -.104)\"><use xlink:href=\"#DejaVuSans-55\"/></g></g><g clip-path=\"url(#pe170044360)\"><defs><path id=\"DejaVuSans-Oblique-113\" d=\"m41.703 8.2031q-3.6094-4.7344-8.5312-7.1875-4.9062-2.4375-10.859-2.4375-8.2969 0-13.016 5.5938-4.7031 5.5938-4.7031 15.406 0 7.9062 2.9062 15.281t8.3281 13.234q3.5156 3.8125 8.0781 5.8594t9.5938 2.0469q6.0469 0 9.9531-2.3906t5.6719-7.2188l1.5625 8.2031h9.0312l-14.594-75.203h-9.0469zm-27.781 12.703q0-7.2344 3.0156-11.016 3.0312-3.7812 8.75-3.7812 8.5 0 14.5 8.125t6 19.75q0 7.0312-3.1094 10.766-3.0938 3.7344-8.8906 3.7344-4.25 0-7.875-1.9844-3.6094-1.9688-6.2969-5.7812-2.8281-4-4.4688-9.375-1.625-5.3594-1.625-10.438z\"/></defs><g transform=\"translate(46.164 48.012) scale(.1625 -.1625)\"><use xlink:href=\"#DejaVuSans-Oblique-113\"/><use transform=\"translate(63.477 -16.406) scale(.7)\" xlink:href=\"#DejaVuSans-48\"/></g></g><g clip-path=\"url(#pe170044360)\"><g transform=\"translate(46.164 93.463) scale(.1625 -.1625)\"><use xlink:href=\"#DejaVuSans-Oblique-113\"/><use transform=\"translate(63.477 -16.406) scale(.7)\" xlink:href=\"#DejaVuSans-49\"/></g></g><g clip-path=\"url(#pe170044360)\"><g transform=\"translate(46.164 138.91) scale(.1625 -.1625)\"><use xlink:href=\"#DejaVuSans-Oblique-113\"/><use transform=\"translate(63.477 -16.406) scale(.7)\" xlink:href=\"#DejaVuSans-50\"/></g></g><g clip-path=\"url(#pe170044360)\"><g transform=\"translate(46.164 184.36) scale(.1625 -.1625)\"><use xlink:href=\"#DejaVuSans-Oblique-113\"/><use transform=\"translate(63.477 -16.406) scale(.7)\" xlink:href=\"#DejaVuSans-51\"/></g></g><g clip-path=\"url(#pe170044360)\"><g transform=\"translate(46.164 229.82) scale(.1625 -.1625)\"><use xlink:href=\"#DejaVuSans-Oblique-113\"/><use transform=\"translate(63.477 -16.406) scale(.7)\" xlink:href=\"#DejaVuSans-52\"/></g></g><g clip-path=\"url(#pe170044360)\"><g transform=\"translate(46.164 275.27) scale(.1625 -.1625)\"><use xlink:href=\"#DejaVuSans-Oblique-113\"/><use transform=\"translate(63.477 -16.406) scale(.7)\" xlink:href=\"#DejaVuSans-53\"/></g></g><g clip-path=\"url(#pe170044360)\"><g transform=\"translate(46.164 320.72) scale(.1625 -.1625)\"><use xlink:href=\"#DejaVuSans-Oblique-113\"/><use transform=\"translate(63.477 -16.406) scale(.7)\" xlink:href=\"#DejaVuSans-54\"/></g></g><g clip-path=\"url(#pe170044360)\"><g transform=\"translate(46.164 366.17) scale(.1625 -.1625)\"><use xlink:href=\"#DejaVuSans-Oblique-113\"/><use transform=\"translate(63.477 -16.406) scale(.7)\" xlink:href=\"#DejaVuSans-55\"/></g></g><g clip-path=\"url(#pe170044360)\"><defs><path id=\"DejaVuSans-56\" d=\"m31.781 34.625q-7.0312 0-11.062-3.7656-4.0156-3.7656-4.0156-10.344 0-6.5938 4.0156-10.359 4.0312-3.7656 11.062-3.7656t11.078 3.7812q4.0625 3.7969 4.0625 10.344 0 6.5781-4.0312 10.344-4.0156 3.7656-11.109 3.7656zm-9.8594 4.1875q-6.3438 1.5625-9.8906 5.9062-3.5312 4.3594-3.5312 10.609 0 8.7344 6.2188 13.812 6.2344 5.0781 17.062 5.0781 10.891 0 17.094-5.0781t6.2031-13.812q0-6.25-3.5469-10.609-3.5312-4.3438-9.8281-5.9062 7.125-1.6562 11.094-6.5 3.9844-4.8281 3.9844-11.797 0-10.609-6.4688-16.281-6.4688-5.6562-18.531-5.6562-12.047 0-18.531 5.6562-6.4688 5.6719-6.4688 16.281 0 6.9688 4 11.797 4.0156 4.8438 11.141 6.5zm-3.6094 15.578q0-5.6562 3.5312-8.8281 3.5469-3.1719 9.9375-3.1719 6.3594 0 9.9375 3.1719 3.5938 3.1719 3.5938 8.8281 0 5.6719-3.5938 8.8438-3.5781 3.1719-9.9375 3.1719-6.3906 0-9.9375-3.1719-3.5312-3.1719-3.5312-8.8438z\"/></defs><g transform=\"translate(46.164 411.62) scale(.1625 -.1625)\"><use xlink:href=\"#DejaVuSans-Oblique-113\"/><use transform=\"translate(63.477 -16.406) scale(.7)\" xlink:href=\"#DejaVuSans-56\"/></g></g><g clip-path=\"url(#pe170044360)\"><defs><path id=\"DejaVuSans-57\" d=\"m10.984 1.5156v8.9844q3.7188-1.7656 7.5156-2.6875 3.8125-0.92188 7.4844-0.92188 9.7656 0 14.906 6.5625 5.1562 6.5625 5.8906 19.953-2.8281-4.2031-7.1875-6.4531-4.3438-2.25-9.6094-2.25-10.938 0-17.312 6.6094-6.375 6.625-6.375 18.109 0 11.219 6.6406 18 6.6406 6.7969 17.672 6.7969 12.656 0 19.312-9.7031 6.6719-9.6875 6.6719-28.141 0-17.234-8.1875-27.516-8.1719-10.281-21.984-10.281-3.7188 0-7.5312 0.73438-3.7969 0.73438-7.9062 2.2031zm19.625 30.906q6.6406 0 10.516 4.5312 3.8906 4.5469 3.8906 12.469 0 7.8594-3.8906 12.422-3.875 4.5625-10.516 4.5625t-10.516-4.5625-3.875-12.422q0-7.9219 3.875-12.469 3.875-4.5312 10.516-4.5312z\"/></defs><g transform=\"translate(46.164 457.07) scale(.1625 -.1625)\"><use xlink:href=\"#DejaVuSans-Oblique-113\"/><use transform=\"translate(63.477 -16.406) scale(.7)\" xlink:href=\"#DejaVuSans-57\"/></g></g><g clip-path=\"url(#pe170044360)\"><g transform=\"translate(38.851 502.52) scale(.1625 -.1625)\"><use xlink:href=\"#DejaVuSans-Oblique-113\"/><use transform=\"translate(63.477 -16.406) scale(.7)\" xlink:href=\"#DejaVuSans-49\"/><use transform=\"translate(108.01 -16.406) scale(.7)\" xlink:href=\"#DejaVuSans-48\"/></g></g><g clip-path=\"url(#pe170044360)\"><g transform=\"translate(38.851 547.97) scale(.1625 -.1625)\"><use xlink:href=\"#DejaVuSans-Oblique-113\"/><use transform=\"translate(63.477 -16.406) scale(.7)\" xlink:href=\"#DejaVuSans-49\"/><use transform=\"translate(108.01 -16.406) scale(.7)\" xlink:href=\"#DejaVuSans-49\"/></g></g><g clip-path=\"url(#pe170044360)\"><g transform=\"translate(77.836 582.26) scale(.104 -.104)\"><use xlink:href=\"#DejaVuSans-56\"/></g></g><g clip-path=\"url(#pe170044360)\"><defs><path id=\"DejaVuSans-99\" d=\"m48.781 52.594v-8.4062q-3.8125 2.1094-7.6406 3.1562t-7.7344 1.0469q-8.75 0-13.594-5.5469-4.8281-5.5312-4.8281-15.547t4.8281-15.562q4.8438-5.5312 13.594-5.5312 3.9062 0 7.7344 1.0469t7.6406 3.1562v-8.3125q-3.7656-1.75-7.7969-2.625-4.0156-0.89062-8.5625-0.89062-12.359 0-19.641 7.7656-7.2656 7.7656-7.2656 20.953 0 13.375 7.3438 21.031 7.3594 7.6719 20.156 7.6719 4.1406 0 8.0938-0.85938 3.9531-0.84375 7.6719-2.5469z\"/></defs><g transform=\"translate(55.266 593.46) scale(.1625 -.1625)\"><use xlink:href=\"#DejaVuSans-99\"/></g></g><defs><clipPath id=\"pe170044360\"><rect x=\"7.2\" y=\"7.2\" width=\"1666\" height=\"609.04\"/></clipPath></defs></svg>"
      ],
      "text/plain": [
       "<Figure size 2206.58x806.68 with 1 Axes>"
      ]
     },
     "execution_count": 8,
     "metadata": {},
     "output_type": "execute_result"
    }
   ],
   "source": [
    "t = 2*m\n",
    "\n",
    "shor_Orig = QuantumCircuit(t+m, t)\n",
    "shor_Orig.h(range(t))\n",
    "\n",
    "shor_Orig.x(t)\n",
    "for idx in range(t):\n",
    "    shor_Orig.append(cU_multi(idx), [idx]+ list(range(t,t+m)))\n",
    "\n",
    "qft_dag = qft(t).inverse()\n",
    "qft_dag.name = 'QFT+'\n",
    "\n",
    "shor_Orig.append(qft_dag, range(t))\n",
    "shor_Orig.measure(range(t), range(t))\n",
    "    \n",
    "shor_Orig.draw()"
   ]
  },
  {
   "cell_type": "code",
   "execution_count": 9,
   "metadata": {},
   "outputs": [
    {
     "data": {
      "image/svg+xml": [
       "<?xml version=\"1.0\" encoding=\"UTF-8\"?><!DOCTYPE svg  PUBLIC '-//W3C//DTD SVG 1.1//EN'  'http://www.w3.org/Graphics/SVG/1.1/DTD/svg11.dtd'><svg width=\"460.72pt\" height=\"342.24pt\" version=\"1.1\" viewBox=\"0 0 460.72 342.24\" xmlns=\"http://www.w3.org/2000/svg\" xmlns:xlink=\"http://www.w3.org/1999/xlink\"><defs><style type=\"text/css\">*{stroke-linecap:butt;stroke-linejoin:round;}</style></defs><path d=\"m0 342.24h460.72v-342.24h-460.72z\" fill=\"none\"/><path d=\"m62.921 294.12h390.6v-271.8h-390.6z\" fill=\"#ffffff\"/><defs><path id=\"mc72f13c37d\" d=\"m0 0v3.5\" stroke=\"#000000\" stroke-width=\".8\"/></defs><use x=\"106.039432\" y=\"294.118125\" stroke=\"#000000\" stroke-width=\".8\" xlink:href=\"#mc72f13c37d\"/><defs><path id=\"DejaVuSans-48\" d=\"m31.781 66.406q-7.6094 0-11.453-7.5-3.8281-7.4844-3.8281-22.531 0-14.984 3.8281-22.484 3.8438-7.5 11.453-7.5 7.6719 0 11.5 7.5 3.8438 7.5 3.8438 22.484 0 15.047-3.8438 22.531-3.8281 7.5-11.5 7.5zm0 7.8125q12.266 0 18.734-9.7031 6.4688-9.6875 6.4688-28.141 0-18.406-6.4688-28.109-6.4688-9.6875-18.734-9.6875-12.25 0-18.719 9.6875-6.4688 9.7031-6.4688 28.109 0 18.453 6.4688 28.141 6.4688 9.7031 18.719 9.7031z\"/><path id=\"DejaVuSans-46\" d=\"m10.688 12.406h10.312v-12.406h-10.312z\"/></defs><g transform=\"translate(105.86 325.68) rotate(-70) scale(.14 -.14)\"><use xlink:href=\"#DejaVuSans-48\"/><use x=\"63.623047\" xlink:href=\"#DejaVuSans-46\"/><use x=\"95.410156\" xlink:href=\"#DejaVuSans-48\"/></g><use x=\"207.493977\" y=\"294.118125\" stroke=\"#000000\" stroke-width=\".8\" xlink:href=\"#mc72f13c37d\"/><defs><path id=\"DejaVuSans-50\" d=\"m19.188 8.2969h34.422v-8.2969h-46.281v8.2969q5.6094 5.8125 15.297 15.594 9.7031 9.7969 12.188 12.641 4.7344 5.3125 6.6094 9 1.8906 3.6875 1.8906 7.25 0 5.8125-4.0781 9.4688-4.0781 3.6719-10.625 3.6719-4.6406 0-9.7969-1.6094-5.1406-1.6094-11-4.8906v9.9688q5.9531 2.3906 11.125 3.6094 5.1875 1.2188 9.4844 1.2188 11.328 0 18.062-5.6719 6.7344-5.6562 6.7344-15.125 0-4.5-1.6875-8.5312-1.6719-4.0156-6.125-9.4844-1.2188-1.4219-7.7656-8.1875-6.5312-6.7656-18.453-18.922z\"/><path id=\"DejaVuSans-53\" d=\"m10.797 72.906h38.719v-8.3125h-29.688v-17.859q2.1406 0.73438 4.2812 1.0938 2.1562 0.35938 4.3125 0.35938 12.203 0 19.328-6.6875 7.1406-6.6875 7.1406-18.109 0-11.766-7.3281-18.297-7.3281-6.5156-20.656-6.5156-4.5938 0-9.3594 0.78125-4.75 0.78125-9.8281 2.3438v9.9219q4.3906-2.3906 9.0781-3.5625t9.9062-1.1719q8.4531 0 13.375 4.4375 4.9375 4.4375 4.9375 12.062 0 7.6094-4.9375 12.047-4.9219 4.4531-13.375 4.4531-3.9531 0-7.8906-0.875-3.9219-0.875-8.0156-2.7344z\"/></defs><g transform=\"translate(205.79 334.05) rotate(-70) scale(.14 -.14)\"><use xlink:href=\"#DejaVuSans-48\"/><use x=\"63.623047\" xlink:href=\"#DejaVuSans-46\"/><use x=\"95.410156\" xlink:href=\"#DejaVuSans-50\"/><use x=\"159.033203\" xlink:href=\"#DejaVuSans-53\"/></g><use x=\"308.948523\" y=\"294.118125\" stroke=\"#000000\" stroke-width=\".8\" xlink:href=\"#mc72f13c37d\"/><g transform=\"translate(308.77 325.68) rotate(-70) scale(.14 -.14)\"><use xlink:href=\"#DejaVuSans-48\"/><use x=\"63.623047\" xlink:href=\"#DejaVuSans-46\"/><use x=\"95.410156\" xlink:href=\"#DejaVuSans-53\"/></g><use x=\"410.403068\" y=\"294.118125\" stroke=\"#000000\" stroke-width=\".8\" xlink:href=\"#mc72f13c37d\"/><defs><path id=\"DejaVuSans-55\" d=\"m8.2031 72.906h46.875v-4.2031l-26.469-68.703h-10.297l24.906 64.594h-35.016z\"/></defs><g transform=\"translate(408.7 334.05) rotate(-70) scale(.14 -.14)\"><use xlink:href=\"#DejaVuSans-48\"/><use x=\"63.623047\" xlink:href=\"#DejaVuSans-46\"/><use x=\"95.410156\" xlink:href=\"#DejaVuSans-55\"/><use x=\"159.033203\" xlink:href=\"#DejaVuSans-53\"/></g><path d=\"m62.921 294.12h390.6\" clip-path=\"url(#p7d5fe8855d)\" fill=\"none\" stroke=\"#b0b0b0\" stroke-dasharray=\"2.96,1.28\" stroke-width=\".8\"/><defs><path id=\"mf44a7fba76\" d=\"m0 0h-3.5\" stroke=\"#000000\" stroke-width=\".8\"/></defs><use x=\"62.92125\" y=\"294.118125\" stroke=\"#000000\" stroke-width=\".8\" xlink:href=\"#mf44a7fba76\"/><g transform=\"translate(24.749 299.44) scale(.14 -.14)\"><use xlink:href=\"#DejaVuSans-48\"/><use x=\"63.623047\" xlink:href=\"#DejaVuSans-46\"/><use x=\"95.410156\" xlink:href=\"#DejaVuSans-48\"/><use x=\"159.033203\" xlink:href=\"#DejaVuSans-48\"/></g><path d=\"m62.921 223.76h390.6\" clip-path=\"url(#p7d5fe8855d)\" fill=\"none\" stroke=\"#b0b0b0\" stroke-dasharray=\"2.96,1.28\" stroke-width=\".8\"/><use x=\"62.92125\" y=\"223.762854\" stroke=\"#000000\" stroke-width=\".8\" xlink:href=\"#mf44a7fba76\"/><defs><path id=\"DejaVuSans-56\" d=\"m31.781 34.625q-7.0312 0-11.062-3.7656-4.0156-3.7656-4.0156-10.344 0-6.5938 4.0156-10.359 4.0312-3.7656 11.062-3.7656t11.078 3.7812q4.0625 3.7969 4.0625 10.344 0 6.5781-4.0312 10.344-4.0156 3.7656-11.109 3.7656zm-9.8594 4.1875q-6.3438 1.5625-9.8906 5.9062-3.5312 4.3594-3.5312 10.609 0 8.7344 6.2188 13.812 6.2344 5.0781 17.062 5.0781 10.891 0 17.094-5.0781t6.2031-13.812q0-6.25-3.5469-10.609-3.5312-4.3438-9.8281-5.9062 7.125-1.6562 11.094-6.5 3.9844-4.8281 3.9844-11.797 0-10.609-6.4688-16.281-6.4688-5.6562-18.531-5.6562-12.047 0-18.531 5.6562-6.4688 5.6719-6.4688 16.281 0 6.9688 4 11.797 4.0156 4.8438 11.141 6.5zm-3.6094 15.578q0-5.6562 3.5312-8.8281 3.5469-3.1719 9.9375-3.1719 6.3594 0 9.9375 3.1719 3.5938 3.1719 3.5938 8.8281 0 5.6719-3.5938 8.8438-3.5781 3.1719-9.9375 3.1719-6.3906 0-9.9375-3.1719-3.5312-3.1719-3.5312-8.8438z\"/></defs><g transform=\"translate(24.749 229.08) scale(.14 -.14)\"><use xlink:href=\"#DejaVuSans-48\"/><use x=\"63.623047\" xlink:href=\"#DejaVuSans-46\"/><use x=\"95.410156\" xlink:href=\"#DejaVuSans-48\"/><use x=\"159.033203\" xlink:href=\"#DejaVuSans-56\"/></g><path d=\"m62.921 153.41h390.6\" clip-path=\"url(#p7d5fe8855d)\" fill=\"none\" stroke=\"#b0b0b0\" stroke-dasharray=\"2.96,1.28\" stroke-width=\".8\"/><use x=\"62.92125\" y=\"153.407583\" stroke=\"#000000\" stroke-width=\".8\" xlink:href=\"#mf44a7fba76\"/><defs><path id=\"DejaVuSans-49\" d=\"m12.406 8.2969h16.109v55.625l-17.531-3.5156v8.9844l17.438 3.5156h9.8594v-64.609h16.109v-8.2969h-41.984z\"/><path id=\"DejaVuSans-54\" d=\"m33.016 40.375q-6.6406 0-10.531-4.5469-3.875-4.5312-3.875-12.438 0-7.8594 3.875-12.438 3.8906-4.5625 10.531-4.5625t10.516 4.5625q3.875 4.5781 3.875 12.438 0 7.9062-3.875 12.438-3.875 4.5469-10.516 4.5469zm19.578 30.922v-8.9844q-3.7188 1.75-7.5 2.6719-3.7812 0.9375-7.5 0.9375-9.7656 0-14.922-6.5938-5.1406-6.5938-5.875-19.922 2.875 4.25 7.2188 6.5156 4.3594 2.2656 9.5781 2.2656 10.984 0 17.359-6.6719 6.375-6.6562 6.375-18.125 0-11.234-6.6406-18.031-6.6406-6.7812-17.672-6.7812-12.656 0-19.344 9.6875-6.6875 9.7031-6.6875 28.109 0 17.281 8.2031 27.562t22.016 10.281q3.7188 0 7.5-0.73438t7.8906-2.1875z\"/></defs><g transform=\"translate(24.749 158.73) scale(.14 -.14)\"><use xlink:href=\"#DejaVuSans-48\"/><use x=\"63.623047\" xlink:href=\"#DejaVuSans-46\"/><use x=\"95.410156\" xlink:href=\"#DejaVuSans-49\"/><use x=\"159.033203\" xlink:href=\"#DejaVuSans-54\"/></g><path d=\"m62.921 83.052h390.6\" clip-path=\"url(#p7d5fe8855d)\" fill=\"none\" stroke=\"#b0b0b0\" stroke-dasharray=\"2.96,1.28\" stroke-width=\".8\"/><use x=\"62.92125\" y=\"83.052313\" stroke=\"#000000\" stroke-width=\".8\" xlink:href=\"#mf44a7fba76\"/><defs><path id=\"DejaVuSans-52\" d=\"m37.797 64.312-24.906-38.922h24.906zm-2.5938 8.5938h12.406v-47.516h10.406v-8.2031h-10.406v-17.188h-9.8125v17.188h-32.906v9.5156z\"/></defs><g transform=\"translate(24.749 88.371) scale(.14 -.14)\"><use xlink:href=\"#DejaVuSans-48\"/><use x=\"63.623047\" xlink:href=\"#DejaVuSans-46\"/><use x=\"95.410156\" xlink:href=\"#DejaVuSans-50\"/><use x=\"159.033203\" xlink:href=\"#DejaVuSans-52\"/></g><defs><path id=\"DejaVuSans-80\" d=\"m19.672 64.797v-27.391h12.406q6.8906 0 10.641 3.5625 3.7656 3.5625 3.7656 10.156 0 6.5469-3.7656 10.109-3.75 3.5625-10.641 3.5625zm-9.8594 8.1094h22.266q12.266 0 18.531-5.5469 6.2812-5.5469 6.2812-16.234 0-10.797-6.2812-16.312-6.2656-5.5156-18.531-5.5156h-12.406v-29.297h-9.8594z\"/><path id=\"DejaVuSans-114\" d=\"m41.109 46.297q-1.5156 0.875-3.2969 1.2812-1.7812 0.42188-3.9219 0.42188-7.625 0-11.703-4.9531t-4.0781-14.234v-28.812h-9.0312v54.688h9.0312v-8.5q2.8438 4.9844 7.375 7.3906 4.5469 2.4219 11.047 2.4219 0.92188 0 2.0469-0.125 1.125-0.10938 2.4844-0.35938z\"/><path id=\"DejaVuSans-111\" d=\"m30.609 48.391q-7.2188 0-11.422-5.6406t-4.2031-15.453 4.1719-15.453q4.1875-5.6406 11.453-5.6406 7.1875 0 11.375 5.6562 4.2031 5.6719 4.2031 15.438 0 9.7188-4.2031 15.406-4.1875 5.6875-11.375 5.6875zm0 7.6094q11.719 0 18.406-7.625 6.7031-7.6094 6.7031-21.078 0-13.422-6.7031-21.078-6.6875-7.6406-18.406-7.6406-11.766 0-18.438 7.6406-6.6562 7.6562-6.6562 21.078 0 13.469 6.6562 21.078 6.6719 7.625 18.438 7.625z\"/><path id=\"DejaVuSans-98\" d=\"m48.688 27.297q0 9.9062-4.0781 15.547t-11.203 5.6406q-7.1406 0-11.219-5.6406t-4.0781-15.547 4.0781-15.547 11.219-5.6406q7.125 0 11.203 5.6406t4.0781 15.547zm-30.578 19.094q2.8438 4.875 7.1562 7.2344 4.3281 2.375 10.328 2.375 9.9688 0 16.188-7.9062 6.2344-7.9062 6.2344-20.797t-6.2344-20.812q-6.2188-7.9062-16.188-7.9062-6 0-10.328 2.375-4.3125 2.375-7.1562 7.25v-8.2031h-9.0312v75.984h9.0312z\"/><path id=\"DejaVuSans-97\" d=\"m34.281 27.484q-10.891 0-15.094-2.4844t-4.2031-8.5q0-4.7812 3.1562-7.5938 3.1562-2.7969 8.5625-2.7969 7.4844 0 12 5.2969t4.5156 14.078v2zm17.922 3.7188v-31.203h-8.9844v8.2969q-3.0781-4.9688-7.6719-7.3438t-11.234-2.375q-8.3906 0-13.359 4.7188-4.9531 4.7188-4.9531 12.625 0 9.2188 6.1719 13.906 6.1875 4.6875 18.438 4.6875h12.609v0.89062q0 6.2031-4.0781 9.5938t-11.453 3.3906q-4.6875 0-9.1406-1.125-4.4375-1.125-8.5312-3.375v8.3125q4.9219 1.9062 9.5625 2.8438 4.6406 0.95312 9.0312 0.95312 11.875 0 17.734-6.1562 5.8594-6.1406 5.8594-18.641z\"/><path id=\"DejaVuSans-105\" d=\"m9.4219 54.688h8.9844v-54.688h-8.9844zm0 21.297h8.9844v-11.391h-8.9844z\"/><path id=\"DejaVuSans-108\" d=\"m9.4219 75.984h8.9844v-75.984h-8.9844z\"/><path id=\"DejaVuSans-116\" d=\"m18.312 70.219v-15.531h18.5v-6.9844h-18.5v-29.688q0-6.6875 1.8281-8.5938t7.4531-1.9062h9.2188v-7.5156h-9.2188q-10.406 0-14.359 3.875-3.9531 3.8906-3.9531 14.141v29.688h-6.5938v6.9844h6.5938v15.531z\"/><path id=\"DejaVuSans-101\" d=\"m56.203 29.594v-4.3906h-41.312q0.59375-9.2812 5.5938-14.141t13.938-4.8594q5.1719 0 10.031 1.2656t9.6562 3.8125v-8.5q-4.8438-2.0469-9.9219-3.125t-10.297-1.0781q-13.094 0-20.734 7.6094-7.6406 7.625-7.6406 20.625 0 13.422 7.25 21.297 7.25 7.8906 19.562 7.8906 11.031 0 17.453-7.1094 6.4219-7.0938 6.4219-19.297zm-8.9844 2.6406q-0.09375 7.3594-4.125 11.75-4.0312 4.4062-10.672 4.4062-7.5156 0-12.031-4.25t-5.2031-11.969z\"/><path id=\"DejaVuSans-115\" d=\"m44.281 53.078v-8.5q-3.7969 1.9531-7.9062 2.9219-4.0938 0.98438-8.5 0.98438-6.6875 0-10.031-2.0469t-3.3438-6.1562q0-3.125 2.3906-4.9062t9.625-3.3906l3.0781-0.6875q9.5625-2.0469 13.594-5.7812t4.0312-10.422q0-7.625-6.0312-12.078-6.0312-4.4375-16.578-4.4375-4.3906 0-9.1562 0.85938t-10.031 2.5625v9.2812q4.9844-2.5938 9.8125-3.8906 4.8281-1.2812 9.5781-1.2812 6.3438 0 9.75 2.1719 3.4219 2.1719 3.4219 6.125 0 3.6562-2.4688 5.6094-2.4531 1.9531-10.812 3.7656l-3.125 0.73438q-8.3438 1.75-12.062 5.3906-3.7031 3.6406-3.7031 9.9844 0 7.7188 5.4688 11.906 5.4688 4.2031 15.531 4.2031 4.9688 0 9.3594-0.73438 4.4062-0.71875 8.1094-2.1875z\"/></defs><g transform=\"translate(17.838 200.97) rotate(-90) scale(.14 -.14)\"><use xlink:href=\"#DejaVuSans-80\"/><use x=\"58.552734\" xlink:href=\"#DejaVuSans-114\"/><use x=\"97.416016\" xlink:href=\"#DejaVuSans-111\"/><use x=\"158.597656\" xlink:href=\"#DejaVuSans-98\"/><use x=\"222.074219\" xlink:href=\"#DejaVuSans-97\"/><use x=\"283.353516\" xlink:href=\"#DejaVuSans-98\"/><use x=\"346.830078\" xlink:href=\"#DejaVuSans-105\"/><use x=\"374.613281\" xlink:href=\"#DejaVuSans-108\"/><use x=\"402.396484\" xlink:href=\"#DejaVuSans-105\"/><use x=\"430.179688\" xlink:href=\"#DejaVuSans-116\"/><use x=\"469.388672\" xlink:href=\"#DejaVuSans-105\"/><use x=\"497.171875\" xlink:href=\"#DejaVuSans-101\"/><use x=\"558.695312\" xlink:href=\"#DejaVuSans-115\"/></g><path d=\"m80.676 294.12h50.727v-226.5h-50.727z\" clip-path=\"url(#p7d5fe8855d)\" fill=\"#648fff\"/><path d=\"m182.13 294.12h50.727v-221.71h-50.727z\" clip-path=\"url(#p7d5fe8855d)\" fill=\"#648fff\"/><path d=\"m283.58 294.12h50.727v-212.82h-50.727z\" clip-path=\"url(#p7d5fe8855d)\" fill=\"#648fff\"/><path d=\"m385.04 294.12h50.727v-218.41h-50.727z\" clip-path=\"url(#p7d5fe8855d)\" fill=\"#648fff\"/><path d=\"m62.921 294.12v-271.8\" fill=\"none\" stroke=\"#000000\" stroke-linecap=\"square\" stroke-width=\".8\"/><path d=\"m453.52 294.12v-271.8\" fill=\"none\" stroke=\"#000000\" stroke-linecap=\"square\" stroke-width=\".8\"/><path d=\"m62.921 294.12h390.6\" fill=\"none\" stroke=\"#000000\" stroke-linecap=\"square\" stroke-width=\".8\"/><path d=\"m62.921 22.318h390.6\" fill=\"none\" stroke=\"#000000\" stroke-linecap=\"square\" stroke-width=\".8\"/><g transform=\"translate(91.725 54.213) scale(.1 -.1)\"><use xlink:href=\"#DejaVuSans-48\"/><use x=\"63.623047\" xlink:href=\"#DejaVuSans-46\"/><use x=\"95.410156\" xlink:href=\"#DejaVuSans-50\"/><use x=\"159.033203\" xlink:href=\"#DejaVuSans-53\"/><use x=\"222.65625\" xlink:href=\"#DejaVuSans-56\"/></g><g transform=\"translate(193.18 59.246) scale(.1 -.1)\"><use xlink:href=\"#DejaVuSans-48\"/><use x=\"63.623047\" xlink:href=\"#DejaVuSans-46\"/><use x=\"95.410156\" xlink:href=\"#DejaVuSans-50\"/><use x=\"159.033203\" xlink:href=\"#DejaVuSans-53\"/><use x=\"222.65625\" xlink:href=\"#DejaVuSans-50\"/></g><g transform=\"translate(294.63 68.573) scale(.1 -.1)\"><use xlink:href=\"#DejaVuSans-48\"/><use x=\"63.623047\" xlink:href=\"#DejaVuSans-46\"/><use x=\"95.410156\" xlink:href=\"#DejaVuSans-50\"/><use x=\"159.033203\" xlink:href=\"#DejaVuSans-52\"/><use x=\"222.65625\" xlink:href=\"#DejaVuSans-50\"/></g><g transform=\"translate(396.09 62.709) scale(.1 -.1)\"><use xlink:href=\"#DejaVuSans-48\"/><use x=\"63.623047\" xlink:href=\"#DejaVuSans-46\"/><use x=\"95.410156\" xlink:href=\"#DejaVuSans-50\"/><use x=\"159.033203\" xlink:href=\"#DejaVuSans-52\"/><use x=\"222.65625\" xlink:href=\"#DejaVuSans-56\"/></g><defs><path id=\"DejaVuSans-120\" d=\"m54.891 54.688-19.781-26.609 20.797-28.078h-10.594l-15.922 21.484-15.906-21.484h-10.609l21.25 28.609-19.438 26.078h10.594l14.5-19.484 14.5 19.484z\"/><path id=\"DejaVuSans-107\" d=\"m9.0781 75.984h9.0312v-44.875l26.812 23.578h11.469l-29-25.578 30.234-29.109h-11.719l-27.797 26.703v-26.703h-9.0312z\"/><path id=\"DejaVuSans-99\" d=\"m48.781 52.594v-8.4062q-3.8125 2.1094-7.6406 3.1562t-7.7344 1.0469q-8.75 0-13.594-5.5469-4.8281-5.5312-4.8281-15.547t4.8281-15.562q4.8438-5.5312 13.594-5.5312 3.9062 0 7.7344 1.0469t7.6406 3.1562v-8.3125q-3.7656-1.75-7.7969-2.625-4.0156-0.89062-8.5625-0.89062-12.359 0-19.641 7.7656-7.2656 7.7656-7.2656 20.953 0 13.375 7.3438 21.031 7.3594 7.6719 20.156 7.6719 4.1406 0 8.0938-0.85938 3.9531-0.84375 7.6719-2.5469z\"/><path id=\"DejaVuSans-117\" d=\"m8.5 21.578v33.109h8.9844v-32.766q0-7.7656 3.0156-11.656 3.0312-3.875 9.0938-3.875 7.2656 0 11.484 4.6406 4.2344 4.6406 4.2344 12.656v31h8.9844v-54.688h-8.9844v8.4062q-3.2656-4.9844-7.5938-7.4062-4.3125-2.4219-10.031-2.4219-9.4219 0-14.312 5.8594-4.875 5.8594-4.875 17.141z\"/><path id=\"DejaVuSans-109\" d=\"m52 44.188q3.375 6.0625 8.0625 8.9375t11.031 2.875q8.5469 0 13.188-5.9844 4.6406-5.9688 4.6406-17v-33.016h-9.0312v32.719q0 7.8594-2.7969 11.656-2.7812 3.8125-8.4844 3.8125-6.9844 0-11.047-4.6406-4.0469-4.625-4.0469-12.641v-30.906h-9.0312v32.719q0 7.9062-2.7812 11.688t-8.5938 3.7812q-6.8906 0-10.953-4.6562-4.0469-4.6562-4.0469-12.625v-30.906h-9.0312v54.688h9.0312v-8.5q3.0781 5.0312 7.375 7.4219t10.203 2.3906q5.9688 0 10.141-3.0312 4.1719-3.0156 6.1719-8.7812z\"/><path id=\"DejaVuSans-110\" d=\"m54.891 33.016v-33.016h-8.9844v32.719q0 7.7656-3.0312 11.609-3.0312 3.8594-9.0781 3.8594-7.2812 0-11.484-4.6406-4.2031-4.625-4.2031-12.641v-30.906h-9.0312v54.688h9.0312v-8.5q3.2344 4.9375 7.5938 7.375 4.375 2.4375 10.094 2.4375 9.4219 0 14.25-5.8281 4.8438-5.8281 4.8438-17.156z\"/><path id=\"DejaVuSans-78\" d=\"m9.8125 72.906h13.281l32.328-60.984v60.984h9.5625v-72.906h-13.281l-32.312 60.984v-60.984h-9.5781z\"/></defs><g transform=\"translate(131.44 16.318) scale(.12 -.12)\"><use xlink:href=\"#DejaVuSans-116\"/><use x=\"39.208984\" xlink:href=\"#DejaVuSans-101\"/><use x=\"98.982422\" xlink:href=\"#DejaVuSans-120\"/><use x=\"158.162109\" xlink:href=\"#DejaVuSans-116\"/><use x=\"197.371094\" xlink:href=\"#DejaVuSans-98\"/><use x=\"260.847656\" xlink:href=\"#DejaVuSans-111\"/><use x=\"322.029297\" xlink:href=\"#DejaVuSans-111\"/><use x=\"383.210938\" xlink:href=\"#DejaVuSans-107\"/><use x=\"441.121094\" xlink:href=\"#DejaVuSans-32\"/><use x=\"472.908203\" xlink:href=\"#DejaVuSans-99\"/><use x=\"527.888672\" xlink:href=\"#DejaVuSans-105\"/><use x=\"555.671875\" xlink:href=\"#DejaVuSans-114\"/><use x=\"594.535156\" xlink:href=\"#DejaVuSans-99\"/><use x=\"649.515625\" xlink:href=\"#DejaVuSans-117\"/><use x=\"712.894531\" xlink:href=\"#DejaVuSans-105\"/><use x=\"740.677734\" xlink:href=\"#DejaVuSans-116\"/><use x=\"779.886719\" xlink:href=\"#DejaVuSans-32\"/><use x=\"811.673828\" xlink:href=\"#DejaVuSans-115\"/><use x=\"863.773438\" xlink:href=\"#DejaVuSans-105\"/><use x=\"891.556641\" xlink:href=\"#DejaVuSans-109\"/><use x=\"988.96875\" xlink:href=\"#DejaVuSans-117\"/><use x=\"1052.347656\" xlink:href=\"#DejaVuSans-108\"/><use x=\"1080.130859\" xlink:href=\"#DejaVuSans-97\"/><use x=\"1141.410156\" xlink:href=\"#DejaVuSans-116\"/><use x=\"1180.619141\" xlink:href=\"#DejaVuSans-105\"/><use x=\"1208.402344\" xlink:href=\"#DejaVuSans-111\"/><use x=\"1269.583984\" xlink:href=\"#DejaVuSans-110\"/><use x=\"1332.962891\" xlink:href=\"#DejaVuSans-32\"/><use x=\"1364.75\" xlink:href=\"#DejaVuSans-114\"/><use x=\"1403.613281\" xlink:href=\"#DejaVuSans-101\"/><use x=\"1465.136719\" xlink:href=\"#DejaVuSans-115\"/><use x=\"1517.236328\" xlink:href=\"#DejaVuSans-117\"/><use x=\"1580.615234\" xlink:href=\"#DejaVuSans-108\"/><use x=\"1608.398438\" xlink:href=\"#DejaVuSans-116\"/><use x=\"1647.607422\" xlink:href=\"#DejaVuSans-32\"/><use x=\"1679.394531\" xlink:href=\"#DejaVuSans-78\"/><use x=\"1754.199219\" xlink:href=\"#DejaVuSans-111\"/><use x=\"1815.380859\" xlink:href=\"#DejaVuSans-32\"/><use x=\"1847.167969\" xlink:href=\"#DejaVuSans-110\"/><use x=\"1910.546875\" xlink:href=\"#DejaVuSans-111\"/><use x=\"1971.728516\" xlink:href=\"#DejaVuSans-105\"/><use x=\"1999.511719\" xlink:href=\"#DejaVuSans-115\"/><use x=\"2051.611328\" xlink:href=\"#DejaVuSans-101\"/></g><defs><clipPath id=\"p7d5fe8855d\"><rect x=\"62.921\" y=\"22.318\" width=\"390.6\" height=\"271.8\"/></clipPath></defs></svg>"
      ],
      "text/plain": [
       "<Figure size 504x360 with 1 Axes>"
      ]
     },
     "execution_count": 9,
     "metadata": {},
     "output_type": "execute_result"
    }
   ],
   "source": [
    "count_Orig = execute(shor_Orig, sim, shots=shots).result().get_counts()\n",
    "key_new = [str(int(key,2)/2**t) for key in count_Orig.keys()]\n",
    "count_new_Orig = dict(zip(key_new, count_Orig.values()))\n",
    "plot_histogram(count_new_Orig, title='textbook circuit simulation result No noise')"
   ]
  },
  {
   "cell_type": "markdown",
   "metadata": {},
   "source": [
    "#### Perform the noise simulations of all three circuits, <code>shor_Orig</code>, <code>shor_QPE</code>, <code>shor_IPE</code> on the backend <code>FakeMelbourne</code> and plot their noise simulation results together with ones without noise for comparison."
   ]
  },
  {
   "cell_type": "markdown",
   "metadata": {},
   "source": [
    "Run the following cell. "
   ]
  },
  {
   "cell_type": "code",
   "execution_count": 111,
   "metadata": {},
   "outputs": [],
   "source": [
    "from qiskit.providers.fake_provider import FakeMelbourne\n",
    "backend = FakeMelbourne()\n",
    "shots=8192"
   ]
  },
  {
   "cell_type": "markdown",
   "metadata": {},
   "source": [
    "The comparison plot of the simulation results with/without noise for the textbook circuit `shor_Orig` is given below. The code is there to show how the result is generated but not recommended to run as it takes for long time."
   ]
  },
  {
   "cell_type": "code",
   "execution_count": 125,
   "metadata": {},
   "outputs": [],
   "source": [
    "# shorOrig_trans = transpile(shor_Orig, backend, optimization_level=3)\n",
    "# count_shorOrig_noise = execute(shor_Orig, backend, shots=shots).result().get_counts()"
   ]
  },
  {
   "cell_type": "code",
   "execution_count": 172,
   "metadata": {},
   "outputs": [],
   "source": [
    "# key_new = [str(np.round(int(key,2)/2**t,3)) for key in count_shorOrig_noise.keys()]\n",
    "# count_new_Orig_noise = dict(zip(key_new, count_shorOrig_noise.values()))"
   ]
  },
  {
   "cell_type": "code",
   "execution_count": 3,
   "metadata": {
    "scrolled": false
   },
   "outputs": [],
   "source": [
    "# fig, ax = plt.subplots(2,1, figsize=(30,13))\n",
    "# fig.suptitle('Simulation results for the order finding circuit of $7^{r} mod 15 = 1$', fontsize=23)\n",
    "# plot_histogram(count_new_Orig, ax=ax[0])\n",
    "# plot_histogram(count_new_Orig_noise, ax=ax[1])\n",
    "# ax[0].set_title('sim No noise', fontsize=16)\n",
    "# ax[1].set_title('sim on Melbourne', fontsize=16)\n",
    "# plt.show()"
   ]
  },
  {
   "cell_type": "markdown",
   "metadata": {},
   "source": [
    "![](images/L7_textbook_result.png)"
   ]
  },
  {
   "cell_type": "markdown",
   "metadata": {},
   "source": [
    "&#128211; Carry out the same task for the circuits, `shor_QPE` and `shor_IPE`."
   ]
  },
  {
   "cell_type": "code",
   "execution_count": null,
   "metadata": {},
   "outputs": [],
   "source": [
    "### your code goes here\n",
    "\n",
    "\n",
    "\n",
    "\n",
    "\n",
    "\n",
    "\n",
    "\n",
    "\n",
    "\n",
    "\n",
    "\n",
    "\n",
    "\n",
    "\n",
    "\n"
   ]
  }
 ],
 "metadata": {
  "kernelspec": {
   "display_name": "Python 3",
   "language": "python",
   "name": "python3"
  },
  "language_info": {
   "codemirror_mode": {
    "name": "ipython",
    "version": 3
   },
   "file_extension": ".py",
   "mimetype": "text/x-python",
   "name": "python",
   "nbconvert_exporter": "python",
   "pygments_lexer": "ipython3",
   "version": "3.9"
  }
 },
 "nbformat": 4,
 "nbformat_minor": 4
}
