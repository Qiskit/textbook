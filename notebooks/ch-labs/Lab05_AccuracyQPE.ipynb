{
 "cells": [
  {
   "cell_type": "markdown",
   "metadata": {},
   "source": [
    "# Lab 5 Accuracy of Quantum Phase Estimation"
   ]
  },
  {
   "cell_type": "markdown",
   "metadata": {},
   "source": [
    "Prerequisite\n",
    "- [Ch.3.5 Quantum Fourier Transform](/course/ch-algorithms/quantum-fourier-transform)\n",
    "- [Ch.3.6 Quantum Phase Estimation](/course/ch-algorithms/quantum-phase-estimation)\n",
    "\n",
    "Other relevant materials\n",
    "- [QCQI] Michael A. Nielsen and Isaac L. Chuang. 2011. Quantum Computation and Quantum Information"
   ]
  },
  {
   "cell_type": "code",
   "execution_count": 2,
   "metadata": {},
   "outputs": [],
   "source": [
    "from qiskit import *\n",
    "import numpy as np\n",
    "from qiskit.visualization import plot_histogram\n",
    "import qiskit.tools.jupyter\n",
    "from qiskit.tools.monitor import job_monitor\n",
    "from qiskit.ignis.mitigation.measurement import *\n",
    "import matplotlib.pyplot as plt"
   ]
  },
  {
   "cell_type": "markdown",
   "metadata": {},
   "source": [
    "## Part 1: Performance of Quantum Phase Estimation\n",
    "\n",
    "\n",
    "**Goal**\n",
    "\n",
    "Investigate the relationship between the number of qubits required for the desired accuracy of the phase estimation with high probability.\n",
    "\n",
    "\n",
    "The accuracy of the estimated value through Quantum Phase Estimation (QPE) and its probability of success depend on the number of qubits employed in QPE circuits. Therefore, one might want to know the necessary number of qubits to achieve the targeted level of QPE performance, especially when the phase that needs to be determined cannot be decomposed in a finite bit binary expansion. \n",
    "In Part 1 of this lab, we examine the number of qubits required to accomplish the desired accuracy and the probability of success in determining the phase through QPE."
   ]
  },
  {
   "cell_type": "markdown",
   "metadata": {},
   "source": [
    "### 1. Find the probability of obtaining the estimation for a phase value accurate to $2^{-2}$ successfully with four counting qubits."
   ]
  },
  {
   "cell_type": "markdown",
   "metadata": {},
   "source": [
    "#### &#128211;Step A. Set up the QPE circuit with four counting qubits and save the circuit to the variable 'qc4'.  Execute 'qc4' on a qasm simulator.  Plot the histogram of the result."
   ]
  },
  {
   "cell_type": "markdown",
   "metadata": {},
   "source": [
    "Check the QPE chapter in Qiskit textbook ( go to `3. Example: Getting More Precision` section [here](/course/ch-algorithms/quantum-phase-estimation) ) for the circuit."
   ]
  },
  {
   "cell_type": "code",
   "execution_count": 7,
   "metadata": {},
   "outputs": [],
   "source": [
    "def qft(n):\n",
    "    \"\"\"Creates an n-qubit QFT circuit\"\"\"\n",
    "    circuit = QuantumCircuit(n)\n",
    "    def swap_registers(circuit, n):\n",
    "        for qubit in range(n//2):\n",
    "            circuit.swap(qubit, n-qubit-1)\n",
    "        return circuit\n",
    "    def qft_rotations(circuit, n):\n",
    "        \"\"\"Performs qft on the first n qubits in circuit (without swaps)\"\"\"\n",
    "        if n == 0:\n",
    "            return circuit\n",
    "        n -= 1\n",
    "        circuit.h(n)\n",
    "        for qubit in range(n):\n",
    "            circuit.cp(np.pi/2**(n-qubit), qubit, n)\n",
    "        qft_rotations(circuit, n)\n",
    "    \n",
    "    qft_rotations(circuit, n)\n",
    "    swap_registers(circuit, n)\n",
    "    return circuit"
   ]
  },
  {
   "cell_type": "code",
   "execution_count": 1,
   "metadata": {},
   "outputs": [],
   "source": [
    "## Start your code to create the circuit, qc4\n",
    "\n",
    "\n",
    "\n",
    "\n",
    "\n",
    "\n",
    "\n",
    "\n",
    "\n",
    "\n",
    "\n",
    "qc4.draw()"
   ]
  },
  {
   "cell_type": "code",
   "execution_count": 8,
   "metadata": {},
   "outputs": [],
   "source": [
    "## Run this cell to simulate 'qc4' and to plot the histogram of the result\n",
    "sim = Aer.get_backend('qasm_simulator')\n",
    "shots = 20000\n",
    "count_qc4 = execute(qc4, sim, shots=shots).result().get_counts()\n",
    "plot_histogram(count_qc4, figsize=(9,5))"
   ]
  },
  {
   "cell_type": "markdown",
   "metadata": {},
   "source": [
    "Having performed `Step A` successfully, you will have obtained a distribution similar to the one shown below with the highest probability at `0101` which corresponds to the estimated $\\phi$ value, `0.3125`."
   ]
  },
  {
   "cell_type": "markdown",
   "metadata": {},
   "source": [
    "![](images/L5_qc4_hist.png)"
   ]
  },
  {
   "cell_type": "markdown",
   "metadata": {},
   "source": [
    "Since the number of counting qubits used for the circuit is four, the best estimated value should be accurate to $\\delta = 2^{-4} = 0.0625$.  However, there are multiple possible outcomes as $\\theta = 1/3$ cannot be expressed in a finite number of bits, the estimation by QPE here is not always bounded by this accuracy. "
   ]
  },
  {
   "cell_type": "markdown",
   "metadata": {},
   "source": [
    "Running the following cell shows the same histogram but with all possible estimated $\\phi$ values on the x-axis."
   ]
  },
  {
   "cell_type": "code",
   "execution_count": 5,
   "metadata": {
    "scrolled": true
   },
   "outputs": [],
   "source": [
    "phi_est = np.array([round(int(key, 2)/2**t,3) for key in list(count_qc4.keys())])\n",
    "key_new = list(map(str, phi_est))\n",
    "count_new = dict(zip(key_new, count_qc4.values()))\n",
    "plot_histogram(count_new, figsize=(9,5))"
   ]
  },
  {
   "cell_type": "markdown",
   "metadata": {},
   "source": [
    "**Suppose the outcome of the final measurement is $m$, and let $b$ the best estimation which is `0.3125` for this case.**\n",
    "#### &#128211;Step B. Find $e$, the maximum difference in integer from the best estimation <code>0101</code> so that all the outcomes, 'm's, would approximate $\\phi$ to an accuracy $2^{-2}$ when $|m - b| \\leq \\frac{e}{2^{t}}$. "
   ]
  },
  {
   "cell_type": "markdown",
   "metadata": {},
   "source": [
    "In this case, the values of $t$ and $b$ are $4$ and $0.3125$, respectively."
   ]
  },
  {
   "cell_type": "markdown",
   "metadata": {},
   "source": [
    "For example, under $e = 1$, the considered outcomes are `0100`, `0101`, `0110` which correspond to the values of $m$: $0.25,~0.312,~0.375$, respectively, and all of them approximate the value $\\frac{1}{3}$ to an accuracy $2^{-2}$."
   ]
  },
  {
   "cell_type": "code",
   "execution_count": 2,
   "metadata": {},
   "outputs": [],
   "source": [
    "## Your code goes here\n",
    "\n",
    "\n",
    "\n",
    "\n",
    "\n",
    "\n",
    "\n",
    "\n",
    "\n"
   ]
  },
  {
   "cell_type": "markdown",
   "metadata": {},
   "source": [
    "#### &#128211;Step C. Compute the probability of obtaining an approximation correct to an accuracy $2^{-2}$.  Verify that the computed probability value is larger or equal to $1- \\frac{1}{2(2^{(t-n)}-2)}$ where $t$ is the number of counting bits and the $2^{-n}$ is the desired accuracy. "
   ]
  },
  {
   "cell_type": "markdown",
   "metadata": {},
   "source": [
    "Now it is easy to evaluate the probability of the success from the histogram since all the outcomes that approximate $\\phi$ to the accuracy $2^{-2}$ can be found based on the maximum difference $e$ from the best estimate. "
   ]
  },
  {
   "cell_type": "code",
   "execution_count": 3,
   "metadata": {},
   "outputs": [],
   "source": [
    "## Your code goes here\n",
    "\n",
    "\n",
    "\n",
    "\n",
    "\n",
    "\n",
    "\n",
    "\n",
    "\n",
    "\n",
    "\n",
    "\n"
   ]
  },
  {
   "cell_type": "markdown",
   "metadata": {},
   "source": [
    "### 2. Compute the probability of success for the accuracy $2^{-2}$ when the number of counting qubits, $t$, varies from four to nine. Compare your result with the equation $t=n+log(2+\\frac{1}{2\\epsilon})$ when $2^{-n}$ is the desired accuracy and $\\epsilon$ is 1 - probability  of success. "
   ]
  },
  {
   "cell_type": "markdown",
   "metadata": {},
   "source": [
    "The following plot shows the relationship between the number of counting qubit, t, and the minimum probability of success to approximate the phase to an accuracy $2^{-2}$.  Check the Ch. 5.2.1 Performance and requirements in `[QCQI]`."
   ]
  },
  {
   "cell_type": "code",
   "execution_count": 3,
   "metadata": {},
   "outputs": [
    {
     "data": {
      "image/svg+xml": [
       "<?xml version=\"1.0\" encoding=\"UTF-8\"?><!DOCTYPE svg  PUBLIC '-//W3C//DTD SVG 1.1//EN'  'http://www.w3.org/Graphics/SVG/1.1/DTD/svg11.dtd'><svg width=\"443.1pt\" height=\"331.67pt\" version=\"1.1\" viewBox=\"0 0 443.1 331.67\" xmlns=\"http://www.w3.org/2000/svg\" xmlns:xlink=\"http://www.w3.org/1999/xlink\"><defs><style type=\"text/css\">*{stroke-linecap:butt;stroke-linejoin:round;}</style></defs><path d=\"m0 331.67h443.1v-331.67h-443.1z\" fill=\"none\"/><path d=\"m45.303 294.12h390.6v-271.8h-390.6z\" fill=\"#ffffff\"/><defs><path id=\"me8ee379c96\" d=\"m0 0v3.5\" stroke=\"#000000\" stroke-width=\".8\"/></defs><use x=\"92.64858\" y=\"294.118125\" stroke=\"#000000\" stroke-width=\".8\" xlink:href=\"#me8ee379c96\"/><defs><path id=\"DejaVuSans-52\" d=\"m37.797 64.312-24.906-38.922h24.906zm-2.5938 8.5938h12.406v-47.516h10.406v-8.2031h-10.406v-17.188h-9.8125v17.188h-32.906v9.5156z\"/></defs><g transform=\"translate(89.467 308.72) scale(.1 -.1)\"><use xlink:href=\"#DejaVuSans-52\"/></g><use x=\"151.830398\" y=\"294.118125\" stroke=\"#000000\" stroke-width=\".8\" xlink:href=\"#me8ee379c96\"/><defs><path id=\"DejaVuSans-53\" d=\"m10.797 72.906h38.719v-8.3125h-29.688v-17.859q2.1406 0.73438 4.2812 1.0938 2.1562 0.35938 4.3125 0.35938 12.203 0 19.328-6.6875 7.1406-6.6875 7.1406-18.109 0-11.766-7.3281-18.297-7.3281-6.5156-20.656-6.5156-4.5938 0-9.3594 0.78125-4.75 0.78125-9.8281 2.3438v9.9219q4.3906-2.3906 9.0781-3.5625t9.9062-1.1719q8.4531 0 13.375 4.4375 4.9375 4.4375 4.9375 12.062 0 7.6094-4.9375 12.047-4.9219 4.4531-13.375 4.4531-3.9531 0-7.8906-0.875-3.9219-0.875-8.0156-2.7344z\"/></defs><g transform=\"translate(148.65 308.72) scale(.1 -.1)\"><use xlink:href=\"#DejaVuSans-53\"/></g><use x=\"211.012216\" y=\"294.118125\" stroke=\"#000000\" stroke-width=\".8\" xlink:href=\"#me8ee379c96\"/><defs><path id=\"DejaVuSans-54\" d=\"m33.016 40.375q-6.6406 0-10.531-4.5469-3.875-4.5312-3.875-12.438 0-7.8594 3.875-12.438 3.8906-4.5625 10.531-4.5625t10.516 4.5625q3.875 4.5781 3.875 12.438 0 7.9062-3.875 12.438-3.875 4.5469-10.516 4.5469zm19.578 30.922v-8.9844q-3.7188 1.75-7.5 2.6719-3.7812 0.9375-7.5 0.9375-9.7656 0-14.922-6.5938-5.1406-6.5938-5.875-19.922 2.875 4.25 7.2188 6.5156 4.3594 2.2656 9.5781 2.2656 10.984 0 17.359-6.6719 6.375-6.6562 6.375-18.125 0-11.234-6.6406-18.031-6.6406-6.7812-17.672-6.7812-12.656 0-19.344 9.6875-6.6875 9.7031-6.6875 28.109 0 17.281 8.2031 27.562t22.016 10.281q3.7188 0 7.5-0.73438t7.8906-2.1875z\"/></defs><g transform=\"translate(207.83 308.72) scale(.1 -.1)\"><use xlink:href=\"#DejaVuSans-54\"/></g><use x=\"270.194034\" y=\"294.118125\" stroke=\"#000000\" stroke-width=\".8\" xlink:href=\"#me8ee379c96\"/><defs><path id=\"DejaVuSans-55\" d=\"m8.2031 72.906h46.875v-4.2031l-26.469-68.703h-10.297l24.906 64.594h-35.016z\"/></defs><g transform=\"translate(267.01 308.72) scale(.1 -.1)\"><use xlink:href=\"#DejaVuSans-55\"/></g><use x=\"329.375852\" y=\"294.118125\" stroke=\"#000000\" stroke-width=\".8\" xlink:href=\"#me8ee379c96\"/><defs><path id=\"DejaVuSans-56\" d=\"m31.781 34.625q-7.0312 0-11.062-3.7656-4.0156-3.7656-4.0156-10.344 0-6.5938 4.0156-10.359 4.0312-3.7656 11.062-3.7656t11.078 3.7812q4.0625 3.7969 4.0625 10.344 0 6.5781-4.0312 10.344-4.0156 3.7656-11.109 3.7656zm-9.8594 4.1875q-6.3438 1.5625-9.8906 5.9062-3.5312 4.3594-3.5312 10.609 0 8.7344 6.2188 13.812 6.2344 5.0781 17.062 5.0781 10.891 0 17.094-5.0781t6.2031-13.812q0-6.25-3.5469-10.609-3.5312-4.3438-9.8281-5.9062 7.125-1.6562 11.094-6.5 3.9844-4.8281 3.9844-11.797 0-10.609-6.4688-16.281-6.4688-5.6562-18.531-5.6562-12.047 0-18.531 5.6562-6.4688 5.6719-6.4688 16.281 0 6.9688 4 11.797 4.0156 4.8438 11.141 6.5zm-3.6094 15.578q0-5.6562 3.5312-8.8281 3.5469-3.1719 9.9375-3.1719 6.3594 0 9.9375 3.1719 3.5938 3.1719 3.5938 8.8281 0 5.6719-3.5938 8.8438-3.5781 3.1719-9.9375 3.1719-6.3906 0-9.9375-3.1719-3.5312-3.1719-3.5312-8.8438z\"/></defs><g transform=\"translate(326.19 308.72) scale(.1 -.1)\"><use xlink:href=\"#DejaVuSans-56\"/></g><use x=\"388.55767\" y=\"294.118125\" stroke=\"#000000\" stroke-width=\".8\" xlink:href=\"#me8ee379c96\"/><defs><path id=\"DejaVuSans-57\" d=\"m10.984 1.5156v8.9844q3.7188-1.7656 7.5156-2.6875 3.8125-0.92188 7.4844-0.92188 9.7656 0 14.906 6.5625 5.1562 6.5625 5.8906 19.953-2.8281-4.2031-7.1875-6.4531-4.3438-2.25-9.6094-2.25-10.938 0-17.312 6.6094-6.375 6.625-6.375 18.109 0 11.219 6.6406 18 6.6406 6.7969 17.672 6.7969 12.656 0 19.312-9.7031 6.6719-9.6875 6.6719-28.141 0-17.234-8.1875-27.516-8.1719-10.281-21.984-10.281-3.7188 0-7.5312 0.73438-3.7969 0.73438-7.9062 2.2031zm19.625 30.906q6.6406 0 10.516 4.5312 3.8906 4.5469 3.8906 12.469 0 7.8594-3.8906 12.422-3.875 4.5625-10.516 4.5625t-10.516-4.5625-3.875-12.422q0-7.9219 3.875-12.469 3.875-4.5312 10.516-4.5312z\"/></defs><g transform=\"translate(385.38 308.72) scale(.1 -.1)\"><use xlink:href=\"#DejaVuSans-57\"/></g><defs><path id=\"DejaVuSans-116\" d=\"m18.312 70.219v-15.531h18.5v-6.9844h-18.5v-29.688q0-6.6875 1.8281-8.5938t7.4531-1.9062h9.2188v-7.5156h-9.2188q-10.406 0-14.359 3.875-3.9531 3.8906-3.9531 14.141v29.688h-6.5938v6.9844h6.5938v15.531z\"/><path id=\"DejaVuSans-58\" d=\"m11.719 12.406h10.297v-12.406h-10.297zm0 39.297h10.297v-12.391h-10.297z\"/><path id=\"DejaVuSans-110\" d=\"m54.891 33.016v-33.016h-8.9844v32.719q0 7.7656-3.0312 11.609-3.0312 3.8594-9.0781 3.8594-7.2812 0-11.484-4.6406-4.2031-4.625-4.2031-12.641v-30.906h-9.0312v54.688h9.0312v-8.5q3.2344 4.9375 7.5938 7.375 4.375 2.4375 10.094 2.4375 9.4219 0 14.25-5.8281 4.8438-5.8281 4.8438-17.156z\"/><path id=\"DejaVuSans-117\" d=\"m8.5 21.578v33.109h8.9844v-32.766q0-7.7656 3.0156-11.656 3.0312-3.875 9.0938-3.875 7.2656 0 11.484 4.6406 4.2344 4.6406 4.2344 12.656v31h8.9844v-54.688h-8.9844v8.4062q-3.2656-4.9844-7.5938-7.4062-4.3125-2.4219-10.031-2.4219-9.4219 0-14.312 5.8594-4.875 5.8594-4.875 17.141z\"/><path id=\"DejaVuSans-109\" d=\"m52 44.188q3.375 6.0625 8.0625 8.9375t11.031 2.875q8.5469 0 13.188-5.9844 4.6406-5.9688 4.6406-17v-33.016h-9.0312v32.719q0 7.8594-2.7969 11.656-2.7812 3.8125-8.4844 3.8125-6.9844 0-11.047-4.6406-4.0469-4.625-4.0469-12.641v-30.906h-9.0312v32.719q0 7.9062-2.7812 11.688t-8.5938 3.7812q-6.8906 0-10.953-4.6562-4.0469-4.6562-4.0469-12.625v-30.906h-9.0312v54.688h9.0312v-8.5q3.0781 5.0312 7.375 7.4219t10.203 2.3906q5.9688 0 10.141-3.0312 4.1719-3.0156 6.1719-8.7812z\"/><path id=\"DejaVuSans-98\" d=\"m48.688 27.297q0 9.9062-4.0781 15.547t-11.203 5.6406q-7.1406 0-11.219-5.6406t-4.0781-15.547 4.0781-15.547 11.219-5.6406q7.125 0 11.203 5.6406t4.0781 15.547zm-30.578 19.094q2.8438 4.875 7.1562 7.2344 4.3281 2.375 10.328 2.375 9.9688 0 16.188-7.9062 6.2344-7.9062 6.2344-20.797t-6.2344-20.812q-6.2188-7.9062-16.188-7.9062-6 0-10.328 2.375-4.3125 2.375-7.1562 7.25v-8.2031h-9.0312v75.984h9.0312z\"/><path id=\"DejaVuSans-101\" d=\"m56.203 29.594v-4.3906h-41.312q0.59375-9.2812 5.5938-14.141t13.938-4.8594q5.1719 0 10.031 1.2656t9.6562 3.8125v-8.5q-4.8438-2.0469-9.9219-3.125t-10.297-1.0781q-13.094 0-20.734 7.6094-7.6406 7.625-7.6406 20.625 0 13.422 7.25 21.297 7.25 7.8906 19.562 7.8906 11.031 0 17.453-7.1094 6.4219-7.0938 6.4219-19.297zm-8.9844 2.6406q-0.09375 7.3594-4.125 11.75-4.0312 4.4062-10.672 4.4062-7.5156 0-12.031-4.25t-5.2031-11.969z\"/><path id=\"DejaVuSans-114\" d=\"m41.109 46.297q-1.5156 0.875-3.2969 1.2812-1.7812 0.42188-3.9219 0.42188-7.625 0-11.703-4.9531t-4.0781-14.234v-28.812h-9.0312v54.688h9.0312v-8.5q2.8438 4.9844 7.375 7.3906 4.5469 2.4219 11.047 2.4219 0.92188 0 2.0469-0.125 1.125-0.10938 2.4844-0.35938z\"/><path id=\"DejaVuSans-111\" d=\"m30.609 48.391q-7.2188 0-11.422-5.6406t-4.2031-15.453 4.1719-15.453q4.1875-5.6406 11.453-5.6406 7.1875 0 11.375 5.6562 4.2031 5.6719 4.2031 15.438 0 9.7188-4.2031 15.406-4.1875 5.6875-11.375 5.6875zm0 7.6094q11.719 0 18.406-7.625 6.7031-7.6094 6.7031-21.078 0-13.422-6.7031-21.078-6.6875-7.6406-18.406-7.6406-11.766 0-18.438 7.6406-6.6562 7.6562-6.6562 21.078 0 13.469 6.6562 21.078 6.6719 7.625 18.438 7.625z\"/><path id=\"DejaVuSans-102\" d=\"m37.109 75.984v-7.4844h-8.5938q-4.8281 0-6.7188-1.9531-1.875-1.9531-1.875-7.0312v-4.8281h14.797v-6.9844h-14.797v-47.703h-9.0312v47.703h-8.5938v6.9844h8.5938v3.8125q0 9.125 4.25 13.297 4.25 4.1875 13.469 4.1875z\"/><path id=\"DejaVuSans-99\" d=\"m48.781 52.594v-8.4062q-3.8125 2.1094-7.6406 3.1562t-7.7344 1.0469q-8.75 0-13.594-5.5469-4.8281-5.5312-4.8281-15.547t4.8281-15.562q4.8438-5.5312 13.594-5.5312 3.9062 0 7.7344 1.0469t7.6406 3.1562v-8.3125q-3.7656-1.75-7.7969-2.625-4.0156-0.89062-8.5625-0.89062-12.359 0-19.641 7.7656-7.2656 7.7656-7.2656 20.953 0 13.375 7.3438 21.031 7.3594 7.6719 20.156 7.6719 4.1406 0 8.0938-0.85938 3.9531-0.84375 7.6719-2.5469z\"/><path id=\"DejaVuSans-105\" d=\"m9.4219 54.688h8.9844v-54.688h-8.9844zm0 21.297h8.9844v-11.391h-8.9844z\"/><path id=\"DejaVuSans-103\" d=\"m45.406 27.984q0 9.7656-4.0312 15.125-4.0156 5.375-11.297 5.375-7.2188 0-11.25-5.375-4.0312-5.3594-4.0312-15.125 0-9.7188 4.0312-15.094t11.25-5.375q7.2812 0 11.297 5.375 4.0312 5.375 4.0312 15.094zm8.9844-21.203q0-13.953-6.2031-20.766-6.1875-6.8125-18.984-6.8125-4.7344 0-8.9375 0.70312t-8.1562 2.1719v8.7344q3.9531-2.1406 7.8125-3.1562 3.8594-1.0312 7.8594-1.0312 8.8438 0 13.234 4.6094t4.3906 13.938v4.4531q-2.7812-4.8438-7.125-7.2344t-10.406-2.3906q-10.047 0-16.203 7.6562-6.1562 7.6719-6.1562 20.328 0 12.688 6.1562 20.344 6.1562 7.6719 16.203 7.6719 6.0625 0 10.406-2.3906t7.125-7.2188v8.2969h8.9844z\"/><path id=\"DejaVuSans-113\" d=\"m14.797 27.297q0-9.9062 4.0781-15.547t11.203-5.6406 11.219 5.6406q4.1094 5.6406 4.1094 15.547t-4.1094 15.547q-4.0938 5.6406-11.219 5.6406t-11.203-5.6406-4.0781-15.547zm30.609-19.094q-2.8281-4.875-7.1562-7.25-4.3125-2.375-10.375-2.375-9.9062 0-16.141 7.9062-6.2188 7.9219-6.2188 20.812t6.2188 20.797q6.2344 7.9062 16.141 7.9062 6.0625 0 10.375-2.375 4.3281-2.3594 7.1562-7.2344v8.2969h8.9844v-75.484h-8.9844z\"/><path id=\"DejaVuSans-115\" d=\"m44.281 53.078v-8.5q-3.7969 1.9531-7.9062 2.9219-4.0938 0.98438-8.5 0.98438-6.6875 0-10.031-2.0469t-3.3438-6.1562q0-3.125 2.3906-4.9062t9.625-3.3906l3.0781-0.6875q9.5625-2.0469 13.594-5.7812t4.0312-10.422q0-7.625-6.0312-12.078-6.0312-4.4375-16.578-4.4375-4.3906 0-9.1562 0.85938t-10.031 2.5625v9.2812q4.9844-2.5938 9.8125-3.8906 4.8281-1.2812 9.5781-1.2812 6.3438 0 9.75 2.1719 3.4219 2.1719 3.4219 6.125 0 3.6562-2.4688 5.6094-2.4531 1.9531-10.812 3.7656l-3.125 0.73438q-8.3438 1.75-12.062 5.3906-3.7031 3.6406-3.7031 9.9844 0 7.7188 5.4688 11.906 5.4688 4.2031 15.531 4.2031 4.9688 0 9.3594-0.73438 4.4062-0.71875 8.1094-2.1875z\"/></defs><g transform=\"translate(168.96 322.39) scale(.1 -.1)\"><use xlink:href=\"#DejaVuSans-116\"/><use x=\"39.208984\" xlink:href=\"#DejaVuSans-58\"/><use x=\"72.900391\" xlink:href=\"#DejaVuSans-32\"/><use x=\"104.6875\" xlink:href=\"#DejaVuSans-110\"/><use x=\"168.066406\" xlink:href=\"#DejaVuSans-117\"/><use x=\"231.445312\" xlink:href=\"#DejaVuSans-109\"/><use x=\"328.857422\" xlink:href=\"#DejaVuSans-98\"/><use x=\"392.333984\" xlink:href=\"#DejaVuSans-101\"/><use x=\"453.857422\" xlink:href=\"#DejaVuSans-114\"/><use x=\"494.970703\" xlink:href=\"#DejaVuSans-32\"/><use x=\"526.757812\" xlink:href=\"#DejaVuSans-111\"/><use x=\"587.939453\" xlink:href=\"#DejaVuSans-102\"/><use x=\"623.144531\" xlink:href=\"#DejaVuSans-32\"/><use x=\"654.931641\" xlink:href=\"#DejaVuSans-99\"/><use x=\"709.912109\" xlink:href=\"#DejaVuSans-111\"/><use x=\"771.09375\" xlink:href=\"#DejaVuSans-117\"/><use x=\"834.472656\" xlink:href=\"#DejaVuSans-110\"/><use x=\"897.851562\" xlink:href=\"#DejaVuSans-116\"/><use x=\"937.060547\" xlink:href=\"#DejaVuSans-105\"/><use x=\"964.84375\" xlink:href=\"#DejaVuSans-110\"/><use x=\"1028.222656\" xlink:href=\"#DejaVuSans-103\"/><use x=\"1091.699219\" xlink:href=\"#DejaVuSans-32\"/><use x=\"1123.486328\" xlink:href=\"#DejaVuSans-113\"/><use x=\"1186.962891\" xlink:href=\"#DejaVuSans-117\"/><use x=\"1250.341797\" xlink:href=\"#DejaVuSans-98\"/><use x=\"1313.818359\" xlink:href=\"#DejaVuSans-105\"/><use x=\"1341.601562\" xlink:href=\"#DejaVuSans-116\"/><use x=\"1380.810547\" xlink:href=\"#DejaVuSans-115\"/></g><defs><path id=\"m884b5942b4\" d=\"m0 0h-3.5\" stroke=\"#000000\" stroke-width=\".8\"/></defs><use x=\"45.303125\" y=\"280.302081\" stroke=\"#000000\" stroke-width=\".8\" xlink:href=\"#m884b5942b4\"/><defs><path id=\"DejaVuSans-48\" d=\"m31.781 66.406q-7.6094 0-11.453-7.5-3.8281-7.4844-3.8281-22.531 0-14.984 3.8281-22.484 3.8438-7.5 11.453-7.5 7.6719 0 11.5 7.5 3.8438 7.5 3.8438 22.484 0 15.047-3.8438 22.531-3.8281 7.5-11.5 7.5zm0 7.8125q12.266 0 18.734-9.7031 6.4688-9.6875 6.4688-28.141 0-18.406-6.4688-28.109-6.4688-9.6875-18.734-9.6875-12.25 0-18.719 9.6875-6.4688 9.7031-6.4688 28.109 0 18.453 6.4688 28.141 6.4688 9.7031 18.719 9.7031z\"/><path id=\"DejaVuSans-46\" d=\"m10.688 12.406h10.312v-12.406h-10.312z\"/></defs><g transform=\"translate(22.4 284.1) scale(.1 -.1)\"><use xlink:href=\"#DejaVuSans-48\"/><use x=\"63.623047\" xlink:href=\"#DejaVuSans-46\"/><use x=\"95.410156\" xlink:href=\"#DejaVuSans-52\"/></g><use x=\"45.303125\" y=\"239.172387\" stroke=\"#000000\" stroke-width=\".8\" xlink:href=\"#m884b5942b4\"/><g transform=\"translate(22.4 242.97) scale(.1 -.1)\"><use xlink:href=\"#DejaVuSans-48\"/><use x=\"63.623047\" xlink:href=\"#DejaVuSans-46\"/><use x=\"95.410156\" xlink:href=\"#DejaVuSans-53\"/></g><use x=\"45.303125\" y=\"198.042694\" stroke=\"#000000\" stroke-width=\".8\" xlink:href=\"#m884b5942b4\"/><g transform=\"translate(22.4 201.84) scale(.1 -.1)\"><use xlink:href=\"#DejaVuSans-48\"/><use x=\"63.623047\" xlink:href=\"#DejaVuSans-46\"/><use x=\"95.410156\" xlink:href=\"#DejaVuSans-54\"/></g><use x=\"45.303125\" y=\"156.913001\" stroke=\"#000000\" stroke-width=\".8\" xlink:href=\"#m884b5942b4\"/><g transform=\"translate(22.4 160.71) scale(.1 -.1)\"><use xlink:href=\"#DejaVuSans-48\"/><use x=\"63.623047\" xlink:href=\"#DejaVuSans-46\"/><use x=\"95.410156\" xlink:href=\"#DejaVuSans-55\"/></g><use x=\"45.303125\" y=\"115.783307\" stroke=\"#000000\" stroke-width=\".8\" xlink:href=\"#m884b5942b4\"/><g transform=\"translate(22.4 119.58) scale(.1 -.1)\"><use xlink:href=\"#DejaVuSans-48\"/><use x=\"63.623047\" xlink:href=\"#DejaVuSans-46\"/><use x=\"95.410156\" xlink:href=\"#DejaVuSans-56\"/></g><use x=\"45.303125\" y=\"74.653614\" stroke=\"#000000\" stroke-width=\".8\" xlink:href=\"#m884b5942b4\"/><g transform=\"translate(22.4 78.453) scale(.1 -.1)\"><use xlink:href=\"#DejaVuSans-48\"/><use x=\"63.623047\" xlink:href=\"#DejaVuSans-46\"/><use x=\"95.410156\" xlink:href=\"#DejaVuSans-57\"/></g><use x=\"45.303125\" y=\"33.52392\" stroke=\"#000000\" stroke-width=\".8\" xlink:href=\"#m884b5942b4\"/><defs><path id=\"DejaVuSans-49\" d=\"m12.406 8.2969h16.109v55.625l-17.531-3.5156v8.9844l17.438 3.5156h9.8594v-64.609h16.109v-8.2969h-41.984z\"/></defs><g transform=\"translate(22.4 37.323) scale(.1 -.1)\"><use xlink:href=\"#DejaVuSans-49\"/><use x=\"63.623047\" xlink:href=\"#DejaVuSans-46\"/><use x=\"95.410156\" xlink:href=\"#DejaVuSans-48\"/></g><defs><path id=\"DejaVuSans-112\" d=\"m18.109 8.2031v-29h-9.0312v75.484h9.0312v-8.2969q2.8438 4.875 7.1562 7.2344 4.3281 2.375 10.328 2.375 9.9688 0 16.188-7.9062 6.2344-7.9062 6.2344-20.797t-6.2344-20.812q-6.2188-7.9062-16.188-7.9062-6 0-10.328 2.375-4.3125 2.375-7.1562 7.25zm30.578 19.094q0 9.9062-4.0781 15.547t-11.203 5.6406q-7.1406 0-11.219-5.6406t-4.0781-15.547 4.0781-15.547 11.219-5.6406q7.125 0 11.203 5.6406t4.0781 15.547z\"/><path id=\"DejaVuSans-97\" d=\"m34.281 27.484q-10.891 0-15.094-2.4844t-4.2031-8.5q0-4.7812 3.1562-7.5938 3.1562-2.7969 8.5625-2.7969 7.4844 0 12 5.2969t4.5156 14.078v2zm17.922 3.7188v-31.203h-8.9844v8.2969q-3.0781-4.9688-7.6719-7.3438t-11.234-2.375q-8.3906 0-13.359 4.7188-4.9531 4.7188-4.9531 12.625 0 9.2188 6.1719 13.906 6.1875 4.6875 18.438 4.6875h12.609v0.89062q0 6.2031-4.0781 9.5938t-11.453 3.3906q-4.6875 0-9.1406-1.125-4.4375-1.125-8.5312-3.375v8.3125q4.9219 1.9062 9.5625 2.8438 4.6406 0.95312 9.0312 0.95312 11.875 0 17.734-6.1562 5.8594-6.1406 5.8594-18.641z\"/><path id=\"DejaVuSans-108\" d=\"m9.4219 75.984h8.9844v-75.984h-8.9844z\"/><path id=\"DejaVuSans-121\" d=\"m32.172-5.0781q-3.7969-9.7656-7.4219-12.734-3.6094-2.9844-9.6562-2.9844h-7.1875v7.5156h5.2812q3.7031 0 5.75 1.7656 2.0625 1.75 4.5469 8.2969l1.6094 4.0938-22.109 53.812h9.5156l17.094-42.766 17.094 42.766h9.5156z\"/><path id=\"DejaVuSans-104\" d=\"m54.891 33.016v-33.016h-8.9844v32.719q0 7.7656-3.0312 11.609-3.0312 3.8594-9.0781 3.8594-7.2812 0-11.484-4.6406-4.2031-4.625-4.2031-12.641v-30.906h-9.0312v75.984h9.0312v-29.797q3.2344 4.9375 7.5938 7.375 4.375 2.4375 10.094 2.4375 9.4219 0 14.25-5.8281 4.8438-5.8281 4.8438-17.156z\"/><path id=\"DejaVuSans-50\" d=\"m19.188 8.2969h34.422v-8.2969h-46.281v8.2969q5.6094 5.8125 15.297 15.594 9.7031 9.7969 12.188 12.641 4.7344 5.3125 6.6094 9 1.8906 3.6875 1.8906 7.25 0 5.8125-4.0781 9.4688-4.0781 3.6719-10.625 3.6719-4.6406 0-9.7969-1.6094-5.1406-1.6094-11-4.8906v9.9688q5.9531 2.3906 11.125 3.6094 5.1875 1.2188 9.4844 1.2188 11.328 0 18.062-5.6719 6.7344-5.6562 6.7344-15.125 0-4.5-1.6875-8.5312-1.6719-4.0156-6.125-9.4844-1.2188-1.4219-7.7656-8.1875-6.5312-6.7656-18.453-18.922z\"/><path id=\"DejaVuSans-8722\" d=\"m10.594 35.5h62.594v-8.2969h-62.594z\"/></defs><g transform=\"translate(16.3 265.12) rotate(-90) scale(.1 -.1)\"><use transform=\"translate(0 .76562)\" xlink:href=\"#DejaVuSans-112\"/><use transform=\"translate(63.477 .76562)\" xlink:href=\"#DejaVuSans-114\"/><use transform=\"translate(104.59 .76562)\" xlink:href=\"#DejaVuSans-111\"/><use transform=\"translate(165.77 .76562)\" xlink:href=\"#DejaVuSans-98\"/><use transform=\"translate(229.25 .76562)\" xlink:href=\"#DejaVuSans-97\"/><use transform=\"translate(290.53 .76562)\" xlink:href=\"#DejaVuSans-98\"/><use transform=\"translate(354 .76562)\" xlink:href=\"#DejaVuSans-105\"/><use transform=\"translate(381.79 .76562)\" xlink:href=\"#DejaVuSans-108\"/><use transform=\"translate(409.57 .76562)\" xlink:href=\"#DejaVuSans-105\"/><use transform=\"translate(437.35 .76562)\" xlink:href=\"#DejaVuSans-116\"/><use transform=\"translate(476.56 .76562)\" xlink:href=\"#DejaVuSans-121\"/><use transform=\"translate(535.74 .76562)\" xlink:href=\"#DejaVuSans-32\"/><use transform=\"translate(567.53 .76562)\" xlink:href=\"#DejaVuSans-111\"/><use transform=\"translate(628.71 .76562)\" xlink:href=\"#DejaVuSans-102\"/><use transform=\"translate(663.92 .76562)\" xlink:href=\"#DejaVuSans-32\"/><use transform=\"translate(695.7 .76562)\" xlink:href=\"#DejaVuSans-115\"/><use transform=\"translate(747.8 .76562)\" xlink:href=\"#DejaVuSans-117\"/><use transform=\"translate(811.18 .76562)\" xlink:href=\"#DejaVuSans-99\"/><use transform=\"translate(866.16 .76562)\" xlink:href=\"#DejaVuSans-99\"/><use transform=\"translate(921.14 .76562)\" xlink:href=\"#DejaVuSans-101\"/><use transform=\"translate(982.67 .76562)\" xlink:href=\"#DejaVuSans-115\"/><use transform=\"translate(1034.8 .76562)\" xlink:href=\"#DejaVuSans-115\"/><use transform=\"translate(1086.9 .76562)\" xlink:href=\"#DejaVuSans-32\"/><use transform=\"translate(1118.7 .76562)\" xlink:href=\"#DejaVuSans-102\"/><use transform=\"translate(1153.9 .76562)\" xlink:href=\"#DejaVuSans-111\"/><use transform=\"translate(1215 .76562)\" xlink:href=\"#DejaVuSans-114\"/><use transform=\"translate(1256.2 .76562)\" xlink:href=\"#DejaVuSans-32\"/><use transform=\"translate(1287.9 .76562)\" xlink:href=\"#DejaVuSans-116\"/><use transform=\"translate(1327.1 .76562)\" xlink:href=\"#DejaVuSans-104\"/><use transform=\"translate(1390.5 .76562)\" xlink:href=\"#DejaVuSans-101\"/><use transform=\"translate(1452.1 .76562)\" xlink:href=\"#DejaVuSans-32\"/><use transform=\"translate(1483.8 .76562)\" xlink:href=\"#DejaVuSans-97\"/><use transform=\"translate(1545.1 .76562)\" xlink:href=\"#DejaVuSans-99\"/><use transform=\"translate(1600.1 .76562)\" xlink:href=\"#DejaVuSans-99\"/><use transform=\"translate(1655.1 .76562)\" xlink:href=\"#DejaVuSans-117\"/><use transform=\"translate(1718.5 .76562)\" xlink:href=\"#DejaVuSans-114\"/><use transform=\"translate(1759.6 .76562)\" xlink:href=\"#DejaVuSans-97\"/><use transform=\"translate(1820.8 .76562)\" xlink:href=\"#DejaVuSans-99\"/><use transform=\"translate(1875.8 .76562)\" xlink:href=\"#DejaVuSans-121\"/><use transform=\"translate(1935 .76562)\" xlink:href=\"#DejaVuSans-32\"/><use transform=\"translate(1966.8 .76562)\" xlink:href=\"#DejaVuSans-50\"/><use transform=\"translate(2031.4 39.047) scale(.7)\" xlink:href=\"#DejaVuSans-8722\"/><use transform=\"translate(2090 39.047) scale(.7)\" xlink:href=\"#DejaVuSans-50\"/></g><path d=\"m63.058 281.76 3.5868-31.717 3.5868-25.459 3.5868-20.87 3.5868-17.405 3.5868-14.725 3.5868-12.609 3.5868-10.91 3.5868-9.5249 3.5868-8.3807 3.5868-7.4249 3.5868-6.6182 3.5868-5.9312 3.5868-5.3415 3.5868-4.8314 3.5868-4.3874 3.5868-3.9986 3.5868-3.6561 3.5868-3.353 3.5868-3.0835 3.5868-2.8428 3.5868-2.627 3.5868-2.4328 3.5868-2.2575 3.5868-2.0986 3.5868-1.9543 3.5868-1.8228 3.5868-1.7028 3.5868-1.5928 3.5868-1.4919 3.5868-1.399 3.5868-1.3135 3.5868-1.2345 3.5868-1.1614 3.5868-1.0937 3.5868-1.0309 3.5868-0.97251 3.5868-0.91814 3.5868-0.86746 3.5868-0.82016 3.5868-0.77597 3.5868-0.73461 3.5868-0.69588 3.5868-0.65957 3.5868-0.62549 3.5868-0.59348 3.5868-0.56337 3.5868-0.53504 3.5868-0.50836 3.5868-0.4832 3.5868-0.45948 3.5868-0.43708 3.5868-0.41592 3.5868-0.39593 3.5868-0.37701 3.5868-0.35911 3.5868-0.34216 3.5868-0.3261 3.5868-0.31088 3.5868-0.29644 3.5868-0.28275 3.5868-0.26974 3.5868-0.2574 3.5868-0.24567 3.5868-0.23452 3.5868-0.22392 3.5868-0.21384 3.5868-0.20424 3.5868-0.19511 3.5868-0.18642 3.5868-0.17814 3.5868-0.17026 3.5868-0.16275 3.5868-0.15559 3.5868-0.14876 3.5868-0.14225 3.5868-0.13604 3.5868-0.13012 3.5868-0.12446 3.5868-0.11907 3.5868-0.11392 3.5868-0.109 3.5868-0.1043 3.5868-0.09982 3.5868-0.095536 3.5868-0.091442 3.5868-0.087531 3.5868-0.083793 3.5868-0.080221 3.5868-0.076805 3.5868-0.073539 3.5868-0.070417 3.5868-0.067431 3.5868-0.064575 3.5868-0.061844 3.5868-0.059231 3.5868-0.056731 3.5868-0.054339 3.5868-0.05205 3.5868-0.049861\" clip-path=\"url(#p62b9a4edf1)\" fill=\"none\" stroke=\"#1f77b4\" stroke-linecap=\"square\" stroke-width=\"1.5\"/><path d=\"m45.303 294.12v-271.8\" fill=\"none\" stroke=\"#000000\" stroke-linecap=\"square\" stroke-width=\".8\"/><path d=\"m435.9 294.12v-271.8\" fill=\"none\" stroke=\"#000000\" stroke-linecap=\"square\" stroke-width=\".8\"/><path d=\"m45.303 294.12h390.6\" fill=\"none\" stroke=\"#000000\" stroke-linecap=\"square\" stroke-width=\".8\"/><path d=\"m45.303 22.318h390.6\" fill=\"none\" stroke=\"#000000\" stroke-linecap=\"square\" stroke-width=\".8\"/><defs><path id=\"DejaVuSans-80\" d=\"m19.672 64.797v-27.391h12.406q6.8906 0 10.641 3.5625 3.7656 3.5625 3.7656 10.156 0 6.5469-3.7656 10.109-3.75 3.5625-10.641 3.5625zm-9.8594 8.1094h22.266q12.266 0 18.531-5.5469 6.2812-5.5469 6.2812-16.234 0-10.797-6.2812-16.312-6.2656-5.5156-18.531-5.5156h-12.406v-29.297h-9.8594z\"/><path id=\"DejaVuSans-100\" d=\"m45.406 46.391v29.594h8.9844v-75.984h-8.9844v8.2031q-2.8281-4.875-7.1562-7.25-4.3125-2.375-10.375-2.375-9.9062 0-16.141 7.9062-6.2188 7.9219-6.2188 20.812t6.2188 20.797q6.2344 7.9062 16.141 7.9062 6.0625 0 10.375-2.375 4.3281-2.3594 7.1562-7.2344zm-30.609-19.094q0-9.9062 4.0781-15.547t11.203-5.6406 11.219 5.6406q4.1094 5.6406 4.1094 15.547t-4.1094 15.547q-4.0938 5.6406-11.219 5.6406t-11.203-5.6406-4.0781-15.547z\"/></defs><g transform=\"translate(56.589 16.318) scale(.12 -.12)\"><use xlink:href=\"#DejaVuSans-80\"/><use x=\"58.552734\" xlink:href=\"#DejaVuSans-114\"/><use x=\"97.416016\" xlink:href=\"#DejaVuSans-111\"/><use x=\"158.597656\" xlink:href=\"#DejaVuSans-98\"/><use x=\"222.074219\" xlink:href=\"#DejaVuSans-97\"/><use x=\"283.353516\" xlink:href=\"#DejaVuSans-98\"/><use x=\"346.830078\" xlink:href=\"#DejaVuSans-105\"/><use x=\"374.613281\" xlink:href=\"#DejaVuSans-108\"/><use x=\"402.396484\" xlink:href=\"#DejaVuSans-105\"/><use x=\"430.179688\" xlink:href=\"#DejaVuSans-116\"/><use x=\"469.388672\" xlink:href=\"#DejaVuSans-121\"/><use x=\"528.568359\" xlink:href=\"#DejaVuSans-32\"/><use x=\"560.355469\" xlink:href=\"#DejaVuSans-111\"/><use x=\"621.537109\" xlink:href=\"#DejaVuSans-102\"/><use x=\"656.742188\" xlink:href=\"#DejaVuSans-32\"/><use x=\"688.529297\" xlink:href=\"#DejaVuSans-115\"/><use x=\"740.628906\" xlink:href=\"#DejaVuSans-117\"/><use x=\"804.007812\" xlink:href=\"#DejaVuSans-99\"/><use x=\"858.988281\" xlink:href=\"#DejaVuSans-99\"/><use x=\"913.96875\" xlink:href=\"#DejaVuSans-101\"/><use x=\"975.492188\" xlink:href=\"#DejaVuSans-115\"/><use x=\"1027.591797\" xlink:href=\"#DejaVuSans-115\"/><use x=\"1079.691406\" xlink:href=\"#DejaVuSans-32\"/><use x=\"1111.478516\" xlink:href=\"#DejaVuSans-102\"/><use x=\"1146.683594\" xlink:href=\"#DejaVuSans-111\"/><use x=\"1207.865234\" xlink:href=\"#DejaVuSans-114\"/><use x=\"1248.978516\" xlink:href=\"#DejaVuSans-32\"/><use x=\"1280.765625\" xlink:href=\"#DejaVuSans-100\"/><use x=\"1344.242188\" xlink:href=\"#DejaVuSans-105\"/><use x=\"1372.025391\" xlink:href=\"#DejaVuSans-102\"/><use x=\"1407.230469\" xlink:href=\"#DejaVuSans-102\"/><use x=\"1442.435547\" xlink:href=\"#DejaVuSans-101\"/><use x=\"1503.958984\" xlink:href=\"#DejaVuSans-114\"/><use x=\"1542.822266\" xlink:href=\"#DejaVuSans-101\"/><use x=\"1604.345703\" xlink:href=\"#DejaVuSans-110\"/><use x=\"1667.724609\" xlink:href=\"#DejaVuSans-116\"/><use x=\"1706.933594\" xlink:href=\"#DejaVuSans-32\"/><use x=\"1738.720703\" xlink:href=\"#DejaVuSans-110\"/><use x=\"1802.099609\" xlink:href=\"#DejaVuSans-117\"/><use x=\"1865.478516\" xlink:href=\"#DejaVuSans-109\"/><use x=\"1962.890625\" xlink:href=\"#DejaVuSans-98\"/><use x=\"2026.367188\" xlink:href=\"#DejaVuSans-101\"/><use x=\"2087.890625\" xlink:href=\"#DejaVuSans-114\"/><use x=\"2129.003906\" xlink:href=\"#DejaVuSans-32\"/><use x=\"2160.791016\" xlink:href=\"#DejaVuSans-111\"/><use x=\"2221.972656\" xlink:href=\"#DejaVuSans-102\"/><use x=\"2257.177734\" xlink:href=\"#DejaVuSans-32\"/><use x=\"2288.964844\" xlink:href=\"#DejaVuSans-99\"/><use x=\"2343.945312\" xlink:href=\"#DejaVuSans-111\"/><use x=\"2405.126953\" xlink:href=\"#DejaVuSans-117\"/><use x=\"2468.505859\" xlink:href=\"#DejaVuSans-110\"/><use x=\"2531.884766\" xlink:href=\"#DejaVuSans-116\"/><use x=\"2571.09375\" xlink:href=\"#DejaVuSans-105\"/><use x=\"2598.876953\" xlink:href=\"#DejaVuSans-110\"/><use x=\"2662.255859\" xlink:href=\"#DejaVuSans-103\"/><use x=\"2725.732422\" xlink:href=\"#DejaVuSans-32\"/><use x=\"2757.519531\" xlink:href=\"#DejaVuSans-113\"/><use x=\"2820.996094\" xlink:href=\"#DejaVuSans-117\"/><use x=\"2884.375\" xlink:href=\"#DejaVuSans-98\"/><use x=\"2947.851562\" xlink:href=\"#DejaVuSans-105\"/><use x=\"2975.634766\" xlink:href=\"#DejaVuSans-116\"/><use x=\"3014.84375\" xlink:href=\"#DejaVuSans-115\"/></g><path d=\"m377 289.12h51.9q2 0 2-2v-13.698q0-2-2-2h-51.9q-2 0-2 2v13.698q0 2 2 2z\" fill=\"#ffffff\" opacity=\".8\" stroke=\"#cccccc\"/><path d=\"m379 279.52h20\" fill=\"none\" stroke=\"#1f77b4\" stroke-linecap=\"square\" stroke-width=\"1.5\"/><defs><path id=\"DejaVuSans-Oblique-112\" d=\"m49.609 33.688q0 7.1875-3.125 10.984-3.125 3.8125-8.9844 3.8125-4 0-7.6406-2.0469t-6.4688-5.9531q-2.7812-3.8594-4.4531-9.3281-1.6562-5.4688-1.6562-10.844 0-6.8281 3.125-10.516t8.8906-3.6875q4.25 0 7.8906 2t6.2188 5.8125q2.7812 4 4.4844 9.4219 1.7188 5.4219 1.7188 10.344zm-27.828 12.703q3.6094 4.7344 8.5156 7.1719t10.922 2.4375q8.3906 0 13.031-5.5 4.6406-5.4844 4.6406-15.391 0-8.1094-2.8906-15.453-2.875-7.3438-8.2969-13.156-3.6094-3.8594-8.1562-5.8906-4.5312-2.0312-9.5625-2.0312-5.8125 0-9.7656 2.4219t-5.9062 7.2031l-5.625-29h-8.9844l14.703 75.484h8.9844z\"/><path id=\"DejaVuSans-Oblique-109\" d=\"m89.797 33.016-6.3906-33.016h-8.9844l6.2969 32.719q0.39062 2.0938 0.57812 3.6094 0.20312 1.5156 0.20312 2.5938 0 4.3906-2.4531 6.8281-2.4375 2.4375-6.8281 2.4375-6.5469 0-11.672-4.9062t-6.6406-12.766l-6-30.516h-8.9844l6.3906 32.719q0.39062 1.7969 0.57812 3.3281 0.20312 1.5469 0.20312 2.7656 0 4.4531-2.4375 6.9062-2.4375 2.4688-6.7344 2.4688-6.6406 0-11.781-4.9062-5.125-4.9062-6.6406-12.766l-6-30.516h-8.9844l10.688 54.688h8.9844l-1.7031-8.5q3.6562 4.7969 8.5625 7.2969 4.9219 2.5156 10.531 2.5156 5.9531 0 9.7812-3.125 3.8438-3.125 4.625-8.6875 4.0938 5.7656 9.4844 8.7812 5.4062 3.0312 11.406 3.0312 7.0312 0 10.859-4.0469 3.8438-4.0469 3.8438-11.469 0-1.6094-0.20312-3.5469-0.1875-1.9219-0.57812-3.9219z\"/><path id=\"DejaVuSans-Oblique-105\" d=\"m18.312 75.984h8.9844l-2.2031-11.391h-8.9844zm-4.1094-21.297h8.9844l-10.688-54.688h-8.9844z\"/><path id=\"DejaVuSans-Oblique-110\" d=\"m55.719 33.016-6.4062-33.016h-9.0312l6.4062 32.672q0.4375 2.2969 0.67188 4.0469 0.25 1.7656 0.25 2.7812 0 4.1094-2.5938 6.3906-2.5781 2.2969-7.2188 2.2969-7.2344 0-12.453-4.8125-5.2188-4.7969-6.8438-13.047l-6-30.328h-8.9844l10.594 54.688h8.9844l-1.7969-8.5938q3.75 4.7344 9.0156 7.3125 5.2812 2.5938 11.094 2.5938 7.2344 0 11.203-3.9062 3.9844-3.9062 3.9844-10.984 0-1.75-0.21875-3.75t-0.65625-4.3438z\"/></defs><g transform=\"translate(407 283.02) scale(.1 -.1)\"><use xlink:href=\"#DejaVuSans-Oblique-112\"/><use transform=\"translate(63.477 -16.406) scale(.7)\" xlink:href=\"#DejaVuSans-Oblique-109\"/><use transform=\"translate(131.67 -16.406) scale(.7)\" xlink:href=\"#DejaVuSans-Oblique-105\"/><use transform=\"translate(151.11 -16.406) scale(.7)\" xlink:href=\"#DejaVuSans-Oblique-110\"/></g><defs><clipPath id=\"p62b9a4edf1\"><rect x=\"45.303\" y=\"22.318\" width=\"390.6\" height=\"271.8\"/></clipPath></defs></svg>"
      ],
      "text/plain": [
       "<Figure size 504x360 with 1 Axes>"
      ]
     },
     "metadata": {
      "needs_background": "light"
     },
     "output_type": "display_data"
    }
   ],
   "source": [
    "y = lambda t, n: 1-1/(2*(2**(t-n)-2))\n",
    "t_q = np.linspace(3.5, 9.5, 100 )\n",
    "p_min = y(t_q, 2)\n",
    "\n",
    "plt.figure(figsize=(7, 5))\n",
    "plt.plot(t_q, p_min, label='$p_{min}$')\n",
    "plt.xlabel('t: number of counting qubits')\n",
    "plt.ylabel('probability of success for the accuracy $2^{-2}$')\n",
    "plt.legend(loc='lower right')\n",
    "plt.title('Probability of success for different number of counting qubits')\n",
    "plt.show()"
   ]
  },
  {
   "cell_type": "markdown",
   "metadata": {},
   "source": [
    "#### &#128211;Step A. Construct QPE circuit to estimate $\\phi$ when $\\phi = 1/3$ with for the different number of counting qubits, $t$, when $t = [4, 5, 6, 7, 8, 9]$. Store all the circuits in a list variable 'circ' to simulate all the circuits at once as we did in Lab3. "
   ]
  },
  {
   "cell_type": "code",
   "execution_count": 15,
   "metadata": {},
   "outputs": [],
   "source": [
    "## Your Code to create the list variable 'circ' goes here\n",
    "\n",
    "\n",
    "\n",
    "\n",
    "\n",
    "\n",
    "\n",
    "\n",
    "\n",
    "\n",
    "\n",
    "\n",
    "\n",
    "\n",
    "\n",
    "\n",
    "\n"
   ]
  },
  {
   "cell_type": "code",
   "execution_count": 4,
   "metadata": {},
   "outputs": [],
   "source": [
    "# Run this cell to simulate `circ` and plot the histograms of the results\n",
    "\n",
    "results = execute(circ, sim, shots=shots).result()\n",
    "\n",
    "n_circ = len(circ)\n",
    "counts = [results.get_counts(idx) for idx in range(n_circ)]\n",
    "\n",
    "fig, ax = plt.subplots(n_circ,1,figsize=(25,40))\n",
    "for idx in range(n_circ):\n",
    "    plot_histogram(counts[idx], ax=ax[idx])\n",
    "plt.tight_layout()"
   ]
  },
  {
   "cell_type": "markdown",
   "metadata": {},
   "source": [
    "#### &#128211;Step B. Determine $e$, the maximum difference in integer from the best estimation for the different numer of counting qubits, $t = [4, 5, 6, 7, 8, 9]$. Verify the relationship $e=2^{t-n}-1$ where $n=2$ since the desired accuracy is $2^{-2}$ in this case. "
   ]
  },
  {
   "cell_type": "code",
   "execution_count": 17,
   "metadata": {},
   "outputs": [],
   "source": [
    "## Your Code goes here\n",
    "\n",
    "\n",
    "\n",
    "\n",
    "\n",
    "\n",
    "\n",
    "\n",
    "\n",
    "\n",
    "\n",
    "\n",
    "\n",
    "\n",
    "\n",
    "\n",
    "\n"
   ]
  },
  {
   "cell_type": "markdown",
   "metadata": {},
   "source": [
    "If you successfully calculated $e$ values for all the counting qubits, $t=[4,5,6,7,8,9]$, you will be able to generate the following graph that verifies the relationship $e = 2^{t-2} -1$ with the $e$ values that you computed."
   ]
  },
  {
   "cell_type": "markdown",
   "metadata": {},
   "source": [
    "![](images/L5_e_max.png)"
   ]
  },
  {
   "cell_type": "markdown",
   "metadata": {},
   "source": [
    "#### &#128211;Step C. Evaluate the probability of success estimating $\\phi$ to an accuracy $2^{-2}$ for all the values of $t$, the number of counting qubits. Save the probabilities to the list variable, 'prob_success'.  "
   ]
  },
  {
   "cell_type": "code",
   "execution_count": 19,
   "metadata": {},
   "outputs": [],
   "source": [
    "## Your code to create the list variable, 'prob_success',  goes here\n",
    "\n",
    "\n",
    "\n",
    "\n",
    "\n",
    "\n",
    "\n",
    "\n",
    "\n",
    "\n",
    "\n",
    "\n",
    "\n",
    "\n",
    "\n",
    "\n",
    "\n",
    "\n"
   ]
  },
  {
   "cell_type": "markdown",
   "metadata": {},
   "source": [
    "#### &#128211;Step D. Overlay the results of Step C on the graph that shows the relationship between the number of counting qubits, $t$, and the minimum probability of success to approximate the phase to an accuracy $2^{-2}$. Understand the result.  "
   ]
  },
  {
   "cell_type": "code",
   "execution_count": 4,
   "metadata": {},
   "outputs": [],
   "source": [
    "## Your code goes here\n",
    "\n",
    "\n",
    "\n",
    "\n",
    "\n",
    "\n",
    "\n",
    "\n",
    "\n",
    "\n",
    "\n",
    "\n",
    "\n",
    "\n",
    "\n",
    "\n",
    "\n",
    "\n",
    "\n",
    "\n",
    "\n"
   ]
  },
  {
   "cell_type": "markdown",
   "metadata": {},
   "source": [
    "![](images/L5_prob_t.png)"
   ]
  },
  {
   "cell_type": "markdown",
   "metadata": {},
   "source": [
    "Your plot should be similar to the above one. \n",
    "The line plot in the left pannel shows the minimum success probability to estimate $\\phi$ within the accuracy $2^{-2}$ as the number of counting qubits varies. The overlayed orange dots are the same values, but from the simulation, which confirms the relationship the line plot represents as the lower bound.  The right pannel displays the same result but zoomed by adjusting the y-axis range."
   ]
  },
  {
   "cell_type": "markdown",
   "metadata": {},
   "source": [
    "The following graph exhibits the relationships with different accuracy levels.  The relationship, $t=n+log(2+\\frac{1}{2\\epsilon})$, indicates the number of counting qubits $t$ to estimate $\\phi$ to an accuracy $2^{-2}$ with probability of success at least $1-\\epsilon$, as we validated above. "
   ]
  },
  {
   "cell_type": "code",
   "execution_count": 4,
   "metadata": {},
   "outputs": [
    {
     "data": {
      "image/svg+xml": [
       "<?xml version=\"1.0\" encoding=\"UTF-8\"?><!DOCTYPE svg  PUBLIC '-//W3C//DTD SVG 1.1//EN'  'http://www.w3.org/Graphics/SVG/1.1/DTD/svg11.dtd'><svg width=\"454.53pt\" height=\"320.36pt\" version=\"1.1\" viewBox=\"0 0 454.53 320.36\" xmlns=\"http://www.w3.org/2000/svg\" xmlns:xlink=\"http://www.w3.org/1999/xlink\"><defs><style type=\"text/css\">*{stroke-linecap:butt;stroke-linejoin:round;}</style></defs><path d=\"m0 320.36h454.53v-320.36h-454.53z\" fill=\"none\"/><path d=\"m50.366 282.8h390.6v-271.8h-390.6z\" fill=\"#ffffff\"/><path d=\"m50.366 282.8v-271.8\" clip-path=\"url(#pa968772752)\" fill=\"none\" stroke=\"#b0b0b0\" stroke-linecap=\"square\" stroke-width=\".8\"/><defs><path id=\"m6f6061dc26\" d=\"m0 0v3.5\" stroke=\"#000000\" stroke-width=\".8\"/></defs><use x=\"50.365625\" y=\"282.799219\" stroke=\"#000000\" stroke-width=\".8\" xlink:href=\"#m6f6061dc26\"/><defs><path id=\"DejaVuSans-53\" d=\"m10.797 72.906h38.719v-8.3125h-29.688v-17.859q2.1406 0.73438 4.2812 1.0938 2.1562 0.35938 4.3125 0.35938 12.203 0 19.328-6.6875 7.1406-6.6875 7.1406-18.109 0-11.766-7.3281-18.297-7.3281-6.5156-20.656-6.5156-4.5938 0-9.3594 0.78125-4.75 0.78125-9.8281 2.3438v9.9219q4.3906-2.3906 9.0781-3.5625t9.9062-1.1719q8.4531 0 13.375 4.4375 4.9375 4.4375 4.9375 12.062 0 7.6094-4.9375 12.047-4.9219 4.4531-13.375 4.4531-3.9531 0-7.8906-0.875-3.9219-0.875-8.0156-2.7344z\"/></defs><g transform=\"translate(47.184 297.4) scale(.1 -.1)\"><use xlink:href=\"#DejaVuSans-53\"/></g><path d=\"m128.49 282.8v-271.8\" clip-path=\"url(#pa968772752)\" fill=\"none\" stroke=\"#b0b0b0\" stroke-linecap=\"square\" stroke-width=\".8\"/><use x=\"128.485625\" y=\"282.799219\" stroke=\"#000000\" stroke-width=\".8\" xlink:href=\"#m6f6061dc26\"/><defs><path id=\"DejaVuSans-54\" d=\"m33.016 40.375q-6.6406 0-10.531-4.5469-3.875-4.5312-3.875-12.438 0-7.8594 3.875-12.438 3.8906-4.5625 10.531-4.5625t10.516 4.5625q3.875 4.5781 3.875 12.438 0 7.9062-3.875 12.438-3.875 4.5469-10.516 4.5469zm19.578 30.922v-8.9844q-3.7188 1.75-7.5 2.6719-3.7812 0.9375-7.5 0.9375-9.7656 0-14.922-6.5938-5.1406-6.5938-5.875-19.922 2.875 4.25 7.2188 6.5156 4.3594 2.2656 9.5781 2.2656 10.984 0 17.359-6.6719 6.375-6.6562 6.375-18.125 0-11.234-6.6406-18.031-6.6406-6.7812-17.672-6.7812-12.656 0-19.344 9.6875-6.6875 9.7031-6.6875 28.109 0 17.281 8.2031 27.562t22.016 10.281q3.7188 0 7.5-0.73438t7.8906-2.1875z\"/></defs><g transform=\"translate(125.3 297.4) scale(.1 -.1)\"><use xlink:href=\"#DejaVuSans-54\"/></g><path d=\"m206.61 282.8v-271.8\" clip-path=\"url(#pa968772752)\" fill=\"none\" stroke=\"#b0b0b0\" stroke-linecap=\"square\" stroke-width=\".8\"/><use x=\"206.605625\" y=\"282.799219\" stroke=\"#000000\" stroke-width=\".8\" xlink:href=\"#m6f6061dc26\"/><defs><path id=\"DejaVuSans-55\" d=\"m8.2031 72.906h46.875v-4.2031l-26.469-68.703h-10.297l24.906 64.594h-35.016z\"/></defs><g transform=\"translate(203.42 297.4) scale(.1 -.1)\"><use xlink:href=\"#DejaVuSans-55\"/></g><path d=\"m284.73 282.8v-271.8\" clip-path=\"url(#pa968772752)\" fill=\"none\" stroke=\"#b0b0b0\" stroke-linecap=\"square\" stroke-width=\".8\"/><use x=\"284.725625\" y=\"282.799219\" stroke=\"#000000\" stroke-width=\".8\" xlink:href=\"#m6f6061dc26\"/><defs><path id=\"DejaVuSans-56\" d=\"m31.781 34.625q-7.0312 0-11.062-3.7656-4.0156-3.7656-4.0156-10.344 0-6.5938 4.0156-10.359 4.0312-3.7656 11.062-3.7656t11.078 3.7812q4.0625 3.7969 4.0625 10.344 0 6.5781-4.0312 10.344-4.0156 3.7656-11.109 3.7656zm-9.8594 4.1875q-6.3438 1.5625-9.8906 5.9062-3.5312 4.3594-3.5312 10.609 0 8.7344 6.2188 13.812 6.2344 5.0781 17.062 5.0781 10.891 0 17.094-5.0781t6.2031-13.812q0-6.25-3.5469-10.609-3.5312-4.3438-9.8281-5.9062 7.125-1.6562 11.094-6.5 3.9844-4.8281 3.9844-11.797 0-10.609-6.4688-16.281-6.4688-5.6562-18.531-5.6562-12.047 0-18.531 5.6562-6.4688 5.6719-6.4688 16.281 0 6.9688 4 11.797 4.0156 4.8438 11.141 6.5zm-3.6094 15.578q0-5.6562 3.5312-8.8281 3.5469-3.1719 9.9375-3.1719 6.3594 0 9.9375 3.1719 3.5938 3.1719 3.5938 8.8281 0 5.6719-3.5938 8.8438-3.5781 3.1719-9.9375 3.1719-6.3906 0-9.9375-3.1719-3.5312-3.1719-3.5312-8.8438z\"/></defs><g transform=\"translate(281.54 297.4) scale(.1 -.1)\"><use xlink:href=\"#DejaVuSans-56\"/></g><path d=\"m362.85 282.8v-271.8\" clip-path=\"url(#pa968772752)\" fill=\"none\" stroke=\"#b0b0b0\" stroke-linecap=\"square\" stroke-width=\".8\"/><use x=\"362.845625\" y=\"282.799219\" stroke=\"#000000\" stroke-width=\".8\" xlink:href=\"#m6f6061dc26\"/><defs><path id=\"DejaVuSans-57\" d=\"m10.984 1.5156v8.9844q3.7188-1.7656 7.5156-2.6875 3.8125-0.92188 7.4844-0.92188 9.7656 0 14.906 6.5625 5.1562 6.5625 5.8906 19.953-2.8281-4.2031-7.1875-6.4531-4.3438-2.25-9.6094-2.25-10.938 0-17.312 6.6094-6.375 6.625-6.375 18.109 0 11.219 6.6406 18 6.6406 6.7969 17.672 6.7969 12.656 0 19.312-9.7031 6.6719-9.6875 6.6719-28.141 0-17.234-8.1875-27.516-8.1719-10.281-21.984-10.281-3.7188 0-7.5312 0.73438-3.7969 0.73438-7.9062 2.2031zm19.625 30.906q6.6406 0 10.516 4.5312 3.8906 4.5469 3.8906 12.469 0 7.8594-3.8906 12.422-3.875 4.5625-10.516 4.5625t-10.516-4.5625-3.875-12.422q0-7.9219 3.875-12.469 3.875-4.5312 10.516-4.5312z\"/></defs><g transform=\"translate(359.66 297.4) scale(.1 -.1)\"><use xlink:href=\"#DejaVuSans-57\"/></g><path d=\"m440.97 282.8v-271.8\" clip-path=\"url(#pa968772752)\" fill=\"none\" stroke=\"#b0b0b0\" stroke-linecap=\"square\" stroke-width=\".8\"/><use x=\"440.965625\" y=\"282.799219\" stroke=\"#000000\" stroke-width=\".8\" xlink:href=\"#m6f6061dc26\"/><defs><path id=\"DejaVuSans-49\" d=\"m12.406 8.2969h16.109v55.625l-17.531-3.5156v8.9844l17.438 3.5156h9.8594v-64.609h16.109v-8.2969h-41.984z\"/><path id=\"DejaVuSans-48\" d=\"m31.781 66.406q-7.6094 0-11.453-7.5-3.8281-7.4844-3.8281-22.531 0-14.984 3.8281-22.484 3.8438-7.5 11.453-7.5 7.6719 0 11.5 7.5 3.8438 7.5 3.8438 22.484 0 15.047-3.8438 22.531-3.8281 7.5-11.5 7.5zm0 7.8125q12.266 0 18.734-9.7031 6.4688-9.6875 6.4688-28.141 0-18.406-6.4688-28.109-6.4688-9.6875-18.734-9.6875-12.25 0-18.719 9.6875-6.4688 9.7031-6.4688 28.109 0 18.453 6.4688 28.141 6.4688 9.7031 18.719 9.7031z\"/></defs><g transform=\"translate(434.6 297.4) scale(.1 -.1)\"><use xlink:href=\"#DejaVuSans-49\"/><use x=\"63.623047\" xlink:href=\"#DejaVuSans-48\"/></g><defs><path id=\"DejaVuSans-116\" d=\"m18.312 70.219v-15.531h18.5v-6.9844h-18.5v-29.688q0-6.6875 1.8281-8.5938t7.4531-1.9062h9.2188v-7.5156h-9.2188q-10.406 0-14.359 3.875-3.9531 3.8906-3.9531 14.141v29.688h-6.5938v6.9844h6.5938v15.531z\"/><path id=\"DejaVuSans-58\" d=\"m11.719 12.406h10.297v-12.406h-10.297zm0 39.297h10.297v-12.391h-10.297z\"/><path id=\"DejaVuSans-110\" d=\"m54.891 33.016v-33.016h-8.9844v32.719q0 7.7656-3.0312 11.609-3.0312 3.8594-9.0781 3.8594-7.2812 0-11.484-4.6406-4.2031-4.625-4.2031-12.641v-30.906h-9.0312v54.688h9.0312v-8.5q3.2344 4.9375 7.5938 7.375 4.375 2.4375 10.094 2.4375 9.4219 0 14.25-5.8281 4.8438-5.8281 4.8438-17.156z\"/><path id=\"DejaVuSans-117\" d=\"m8.5 21.578v33.109h8.9844v-32.766q0-7.7656 3.0156-11.656 3.0312-3.875 9.0938-3.875 7.2656 0 11.484 4.6406 4.2344 4.6406 4.2344 12.656v31h8.9844v-54.688h-8.9844v8.4062q-3.2656-4.9844-7.5938-7.4062-4.3125-2.4219-10.031-2.4219-9.4219 0-14.312 5.8594-4.875 5.8594-4.875 17.141z\"/><path id=\"DejaVuSans-109\" d=\"m52 44.188q3.375 6.0625 8.0625 8.9375t11.031 2.875q8.5469 0 13.188-5.9844 4.6406-5.9688 4.6406-17v-33.016h-9.0312v32.719q0 7.8594-2.7969 11.656-2.7812 3.8125-8.4844 3.8125-6.9844 0-11.047-4.6406-4.0469-4.625-4.0469-12.641v-30.906h-9.0312v32.719q0 7.9062-2.7812 11.688t-8.5938 3.7812q-6.8906 0-10.953-4.6562-4.0469-4.6562-4.0469-12.625v-30.906h-9.0312v54.688h9.0312v-8.5q3.0781 5.0312 7.375 7.4219t10.203 2.3906q5.9688 0 10.141-3.0312 4.1719-3.0156 6.1719-8.7812z\"/><path id=\"DejaVuSans-98\" d=\"m48.688 27.297q0 9.9062-4.0781 15.547t-11.203 5.6406q-7.1406 0-11.219-5.6406t-4.0781-15.547 4.0781-15.547 11.219-5.6406q7.125 0 11.203 5.6406t4.0781 15.547zm-30.578 19.094q2.8438 4.875 7.1562 7.2344 4.3281 2.375 10.328 2.375 9.9688 0 16.188-7.9062 6.2344-7.9062 6.2344-20.797t-6.2344-20.812q-6.2188-7.9062-16.188-7.9062-6 0-10.328 2.375-4.3125 2.375-7.1562 7.25v-8.2031h-9.0312v75.984h9.0312z\"/><path id=\"DejaVuSans-101\" d=\"m56.203 29.594v-4.3906h-41.312q0.59375-9.2812 5.5938-14.141t13.938-4.8594q5.1719 0 10.031 1.2656t9.6562 3.8125v-8.5q-4.8438-2.0469-9.9219-3.125t-10.297-1.0781q-13.094 0-20.734 7.6094-7.6406 7.625-7.6406 20.625 0 13.422 7.25 21.297 7.25 7.8906 19.562 7.8906 11.031 0 17.453-7.1094 6.4219-7.0938 6.4219-19.297zm-8.9844 2.6406q-0.09375 7.3594-4.125 11.75-4.0312 4.4062-10.672 4.4062-7.5156 0-12.031-4.25t-5.2031-11.969z\"/><path id=\"DejaVuSans-114\" d=\"m41.109 46.297q-1.5156 0.875-3.2969 1.2812-1.7812 0.42188-3.9219 0.42188-7.625 0-11.703-4.9531t-4.0781-14.234v-28.812h-9.0312v54.688h9.0312v-8.5q2.8438 4.9844 7.375 7.3906 4.5469 2.4219 11.047 2.4219 0.92188 0 2.0469-0.125 1.125-0.10938 2.4844-0.35938z\"/><path id=\"DejaVuSans-111\" d=\"m30.609 48.391q-7.2188 0-11.422-5.6406t-4.2031-15.453 4.1719-15.453q4.1875-5.6406 11.453-5.6406 7.1875 0 11.375 5.6562 4.2031 5.6719 4.2031 15.438 0 9.7188-4.2031 15.406-4.1875 5.6875-11.375 5.6875zm0 7.6094q11.719 0 18.406-7.625 6.7031-7.6094 6.7031-21.078 0-13.422-6.7031-21.078-6.6875-7.6406-18.406-7.6406-11.766 0-18.438 7.6406-6.6562 7.6562-6.6562 21.078 0 13.469 6.6562 21.078 6.6719 7.625 18.438 7.625z\"/><path id=\"DejaVuSans-102\" d=\"m37.109 75.984v-7.4844h-8.5938q-4.8281 0-6.7188-1.9531-1.875-1.9531-1.875-7.0312v-4.8281h14.797v-6.9844h-14.797v-47.703h-9.0312v47.703h-8.5938v6.9844h8.5938v3.8125q0 9.125 4.25 13.297 4.25 4.1875 13.469 4.1875z\"/><path id=\"DejaVuSans-99\" d=\"m48.781 52.594v-8.4062q-3.8125 2.1094-7.6406 3.1562t-7.7344 1.0469q-8.75 0-13.594-5.5469-4.8281-5.5312-4.8281-15.547t4.8281-15.562q4.8438-5.5312 13.594-5.5312 3.9062 0 7.7344 1.0469t7.6406 3.1562v-8.3125q-3.7656-1.75-7.7969-2.625-4.0156-0.89062-8.5625-0.89062-12.359 0-19.641 7.7656-7.2656 7.7656-7.2656 20.953 0 13.375 7.3438 21.031 7.3594 7.6719 20.156 7.6719 4.1406 0 8.0938-0.85938 3.9531-0.84375 7.6719-2.5469z\"/><path id=\"DejaVuSans-105\" d=\"m9.4219 54.688h8.9844v-54.688h-8.9844zm0 21.297h8.9844v-11.391h-8.9844z\"/><path id=\"DejaVuSans-103\" d=\"m45.406 27.984q0 9.7656-4.0312 15.125-4.0156 5.375-11.297 5.375-7.2188 0-11.25-5.375-4.0312-5.3594-4.0312-15.125 0-9.7188 4.0312-15.094t11.25-5.375q7.2812 0 11.297 5.375 4.0312 5.375 4.0312 15.094zm8.9844-21.203q0-13.953-6.2031-20.766-6.1875-6.8125-18.984-6.8125-4.7344 0-8.9375 0.70312t-8.1562 2.1719v8.7344q3.9531-2.1406 7.8125-3.1562 3.8594-1.0312 7.8594-1.0312 8.8438 0 13.234 4.6094t4.3906 13.938v4.4531q-2.7812-4.8438-7.125-7.2344t-10.406-2.3906q-10.047 0-16.203 7.6562-6.1562 7.6719-6.1562 20.328 0 12.688 6.1562 20.344 6.1562 7.6719 16.203 7.6719 6.0625 0 10.406-2.3906t7.125-7.2188v8.2969h8.9844z\"/><path id=\"DejaVuSans-113\" d=\"m14.797 27.297q0-9.9062 4.0781-15.547t11.203-5.6406 11.219 5.6406q4.1094 5.6406 4.1094 15.547t-4.1094 15.547q-4.0938 5.6406-11.219 5.6406t-11.203-5.6406-4.0781-15.547zm30.609-19.094q-2.8281-4.875-7.1562-7.25-4.3125-2.375-10.375-2.375-9.9062 0-16.141 7.9062-6.2188 7.9219-6.2188 20.812t6.2188 20.797q6.2344 7.9062 16.141 7.9062 6.0625 0 10.375-2.375 4.3281-2.3594 7.1562-7.2344v8.2969h8.9844v-75.484h-8.9844z\"/><path id=\"DejaVuSans-115\" d=\"m44.281 53.078v-8.5q-3.7969 1.9531-7.9062 2.9219-4.0938 0.98438-8.5 0.98438-6.6875 0-10.031-2.0469t-3.3438-6.1562q0-3.125 2.3906-4.9062t9.625-3.3906l3.0781-0.6875q9.5625-2.0469 13.594-5.7812t4.0312-10.422q0-7.625-6.0312-12.078-6.0312-4.4375-16.578-4.4375-4.3906 0-9.1562 0.85938t-10.031 2.5625v9.2812q4.9844-2.5938 9.8125-3.8906 4.8281-1.2812 9.5781-1.2812 6.3438 0 9.75 2.1719 3.4219 2.1719 3.4219 6.125 0 3.6562-2.4688 5.6094-2.4531 1.9531-10.812 3.7656l-3.125 0.73438q-8.3438 1.75-12.062 5.3906-3.7031 3.6406-3.7031 9.9844 0 7.7188 5.4688 11.906 5.4688 4.2031 15.531 4.2031 4.9688 0 9.3594-0.73438 4.4062-0.71875 8.1094-2.1875z\"/></defs><g transform=\"translate(174.02 311.08) scale(.1 -.1)\"><use xlink:href=\"#DejaVuSans-116\"/><use x=\"39.208984\" xlink:href=\"#DejaVuSans-58\"/><use x=\"72.900391\" xlink:href=\"#DejaVuSans-32\"/><use x=\"104.6875\" xlink:href=\"#DejaVuSans-110\"/><use x=\"168.066406\" xlink:href=\"#DejaVuSans-117\"/><use x=\"231.445312\" xlink:href=\"#DejaVuSans-109\"/><use x=\"328.857422\" xlink:href=\"#DejaVuSans-98\"/><use x=\"392.333984\" xlink:href=\"#DejaVuSans-101\"/><use x=\"453.857422\" xlink:href=\"#DejaVuSans-114\"/><use x=\"494.970703\" xlink:href=\"#DejaVuSans-32\"/><use x=\"526.757812\" xlink:href=\"#DejaVuSans-111\"/><use x=\"587.939453\" xlink:href=\"#DejaVuSans-102\"/><use x=\"623.144531\" xlink:href=\"#DejaVuSans-32\"/><use x=\"654.931641\" xlink:href=\"#DejaVuSans-99\"/><use x=\"709.912109\" xlink:href=\"#DejaVuSans-111\"/><use x=\"771.09375\" xlink:href=\"#DejaVuSans-117\"/><use x=\"834.472656\" xlink:href=\"#DejaVuSans-110\"/><use x=\"897.851562\" xlink:href=\"#DejaVuSans-116\"/><use x=\"937.060547\" xlink:href=\"#DejaVuSans-105\"/><use x=\"964.84375\" xlink:href=\"#DejaVuSans-110\"/><use x=\"1028.222656\" xlink:href=\"#DejaVuSans-103\"/><use x=\"1091.699219\" xlink:href=\"#DejaVuSans-32\"/><use x=\"1123.486328\" xlink:href=\"#DejaVuSans-113\"/><use x=\"1186.962891\" xlink:href=\"#DejaVuSans-117\"/><use x=\"1250.341797\" xlink:href=\"#DejaVuSans-98\"/><use x=\"1313.818359\" xlink:href=\"#DejaVuSans-105\"/><use x=\"1341.601562\" xlink:href=\"#DejaVuSans-116\"/><use x=\"1380.810547\" xlink:href=\"#DejaVuSans-115\"/></g><path d=\"m50.366 282.8h390.6\" clip-path=\"url(#pa968772752)\" fill=\"none\" stroke=\"#b0b0b0\" stroke-linecap=\"square\" stroke-width=\".8\"/><defs><path id=\"m65eaf73224\" d=\"m0 0h-3.5\" stroke=\"#000000\" stroke-width=\".8\"/></defs><use x=\"50.365625\" y=\"282.799219\" stroke=\"#000000\" stroke-width=\".8\" xlink:href=\"#m65eaf73224\"/><defs><path id=\"DejaVuSans-46\" d=\"m10.688 12.406h10.312v-12.406h-10.312z\"/></defs><g transform=\"translate(21.1 286.6) scale(.1 -.1)\"><use xlink:href=\"#DejaVuSans-48\"/><use x=\"63.623047\" xlink:href=\"#DejaVuSans-46\"/><use x=\"95.410156\" xlink:href=\"#DejaVuSans-55\"/><use x=\"159.033203\" xlink:href=\"#DejaVuSans-48\"/></g><path d=\"m50.366 243.97h390.6\" clip-path=\"url(#pa968772752)\" fill=\"none\" stroke=\"#b0b0b0\" stroke-linecap=\"square\" stroke-width=\".8\"/><use x=\"50.365625\" y=\"243.970647\" stroke=\"#000000\" stroke-width=\".8\" xlink:href=\"#m65eaf73224\"/><g transform=\"translate(21.1 247.77) scale(.1 -.1)\"><use xlink:href=\"#DejaVuSans-48\"/><use x=\"63.623047\" xlink:href=\"#DejaVuSans-46\"/><use x=\"95.410156\" xlink:href=\"#DejaVuSans-55\"/><use x=\"159.033203\" xlink:href=\"#DejaVuSans-53\"/></g><path d=\"m50.366 205.14h390.6\" clip-path=\"url(#pa968772752)\" fill=\"none\" stroke=\"#b0b0b0\" stroke-linecap=\"square\" stroke-width=\".8\"/><use x=\"50.365625\" y=\"205.142076\" stroke=\"#000000\" stroke-width=\".8\" xlink:href=\"#m65eaf73224\"/><g transform=\"translate(21.1 208.94) scale(.1 -.1)\"><use xlink:href=\"#DejaVuSans-48\"/><use x=\"63.623047\" xlink:href=\"#DejaVuSans-46\"/><use x=\"95.410156\" xlink:href=\"#DejaVuSans-56\"/><use x=\"159.033203\" xlink:href=\"#DejaVuSans-48\"/></g><path d=\"m50.366 166.31h390.6\" clip-path=\"url(#pa968772752)\" fill=\"none\" stroke=\"#b0b0b0\" stroke-linecap=\"square\" stroke-width=\".8\"/><use x=\"50.365625\" y=\"166.313504\" stroke=\"#000000\" stroke-width=\".8\" xlink:href=\"#m65eaf73224\"/><g transform=\"translate(21.1 170.11) scale(.1 -.1)\"><use xlink:href=\"#DejaVuSans-48\"/><use x=\"63.623047\" xlink:href=\"#DejaVuSans-46\"/><use x=\"95.410156\" xlink:href=\"#DejaVuSans-56\"/><use x=\"159.033203\" xlink:href=\"#DejaVuSans-53\"/></g><path d=\"m50.366 127.48h390.6\" clip-path=\"url(#pa968772752)\" fill=\"none\" stroke=\"#b0b0b0\" stroke-linecap=\"square\" stroke-width=\".8\"/><use x=\"50.365625\" y=\"127.484933\" stroke=\"#000000\" stroke-width=\".8\" xlink:href=\"#m65eaf73224\"/><g transform=\"translate(21.1 131.28) scale(.1 -.1)\"><use xlink:href=\"#DejaVuSans-48\"/><use x=\"63.623047\" xlink:href=\"#DejaVuSans-46\"/><use x=\"95.410156\" xlink:href=\"#DejaVuSans-57\"/><use x=\"159.033203\" xlink:href=\"#DejaVuSans-48\"/></g><path d=\"m50.366 88.656h390.6\" clip-path=\"url(#pa968772752)\" fill=\"none\" stroke=\"#b0b0b0\" stroke-linecap=\"square\" stroke-width=\".8\"/><use x=\"50.365625\" y=\"88.656362\" stroke=\"#000000\" stroke-width=\".8\" xlink:href=\"#m65eaf73224\"/><g transform=\"translate(21.1 92.456) scale(.1 -.1)\"><use xlink:href=\"#DejaVuSans-48\"/><use x=\"63.623047\" xlink:href=\"#DejaVuSans-46\"/><use x=\"95.410156\" xlink:href=\"#DejaVuSans-57\"/><use x=\"159.033203\" xlink:href=\"#DejaVuSans-53\"/></g><path d=\"m50.366 49.828h390.6\" clip-path=\"url(#pa968772752)\" fill=\"none\" stroke=\"#b0b0b0\" stroke-linecap=\"square\" stroke-width=\".8\"/><use x=\"50.365625\" y=\"49.82779\" stroke=\"#000000\" stroke-width=\".8\" xlink:href=\"#m65eaf73224\"/><g transform=\"translate(21.1 53.627) scale(.1 -.1)\"><use xlink:href=\"#DejaVuSans-49\"/><use x=\"63.623047\" xlink:href=\"#DejaVuSans-46\"/><use x=\"95.410156\" xlink:href=\"#DejaVuSans-48\"/><use x=\"159.033203\" xlink:href=\"#DejaVuSans-48\"/></g><path d=\"m50.366 10.999h390.6\" clip-path=\"url(#pa968772752)\" fill=\"none\" stroke=\"#b0b0b0\" stroke-linecap=\"square\" stroke-width=\".8\"/><use x=\"50.365625\" y=\"10.999219\" stroke=\"#000000\" stroke-width=\".8\" xlink:href=\"#m65eaf73224\"/><g transform=\"translate(21.1 14.798) scale(.1 -.1)\"><use xlink:href=\"#DejaVuSans-49\"/><use x=\"63.623047\" xlink:href=\"#DejaVuSans-46\"/><use x=\"95.410156\" xlink:href=\"#DejaVuSans-48\"/><use x=\"159.033203\" xlink:href=\"#DejaVuSans-53\"/></g><defs><path id=\"DejaVuSans-112\" d=\"m18.109 8.2031v-29h-9.0312v75.484h9.0312v-8.2969q2.8438 4.875 7.1562 7.2344 4.3281 2.375 10.328 2.375 9.9688 0 16.188-7.9062 6.2344-7.9062 6.2344-20.797t-6.2344-20.812q-6.2188-7.9062-16.188-7.9062-6 0-10.328 2.375-4.3125 2.375-7.1562 7.25zm30.578 19.094q0 9.9062-4.0781 15.547t-11.203 5.6406q-7.1406 0-11.219-5.6406t-4.0781-15.547 4.0781-15.547 11.219-5.6406q7.125 0 11.203 5.6406t4.0781 15.547z\"/><path id=\"DejaVuSans-97\" d=\"m34.281 27.484q-10.891 0-15.094-2.4844t-4.2031-8.5q0-4.7812 3.1562-7.5938 3.1562-2.7969 8.5625-2.7969 7.4844 0 12 5.2969t4.5156 14.078v2zm17.922 3.7188v-31.203h-8.9844v8.2969q-3.0781-4.9688-7.6719-7.3438t-11.234-2.375q-8.3906 0-13.359 4.7188-4.9531 4.7188-4.9531 12.625 0 9.2188 6.1719 13.906 6.1875 4.6875 18.438 4.6875h12.609v0.89062q0 6.2031-4.0781 9.5938t-11.453 3.3906q-4.6875 0-9.1406-1.125-4.4375-1.125-8.5312-3.375v8.3125q4.9219 1.9062 9.5625 2.8438 4.6406 0.95312 9.0312 0.95312 11.875 0 17.734-6.1562 5.8594-6.1406 5.8594-18.641z\"/><path id=\"DejaVuSans-108\" d=\"m9.4219 75.984h8.9844v-75.984h-8.9844z\"/><path id=\"DejaVuSans-121\" d=\"m32.172-5.0781q-3.7969-9.7656-7.4219-12.734-3.6094-2.9844-9.6562-2.9844h-7.1875v7.5156h5.2812q3.7031 0 5.75 1.7656 2.0625 1.75 4.5469 8.2969l1.6094 4.0938-22.109 53.812h9.5156l17.094-42.766 17.094 42.766h9.5156z\"/><path id=\"DejaVuSans-104\" d=\"m54.891 33.016v-33.016h-8.9844v32.719q0 7.7656-3.0312 11.609-3.0312 3.8594-9.0781 3.8594-7.2812 0-11.484-4.6406-4.2031-4.625-4.2031-12.641v-30.906h-9.0312v75.984h9.0312v-29.797q3.2344 4.9375 7.5938 7.375 4.375 2.4375 10.094 2.4375 9.4219 0 14.25-5.8281 4.8438-5.8281 4.8438-17.156z\"/><path id=\"DejaVuSans-50\" d=\"m19.188 8.2969h34.422v-8.2969h-46.281v8.2969q5.6094 5.8125 15.297 15.594 9.7031 9.7969 12.188 12.641 4.7344 5.3125 6.6094 9 1.8906 3.6875 1.8906 7.25 0 5.8125-4.0781 9.4688-4.0781 3.6719-10.625 3.6719-4.6406 0-9.7969-1.6094-5.1406-1.6094-11-4.8906v9.9688q5.9531 2.3906 11.125 3.6094 5.1875 1.2188 9.4844 1.2188 11.328 0 18.062-5.6719 6.7344-5.6562 6.7344-15.125 0-4.5-1.6875-8.5312-1.6719-4.0156-6.125-9.4844-1.2188-1.4219-7.7656-8.1875-6.5312-6.7656-18.453-18.922z\"/><path id=\"DejaVuSans-8722\" d=\"m10.594 35.5h62.594v-8.2969h-62.594z\"/><path id=\"DejaVuSans-Oblique-110\" d=\"m55.719 33.016-6.4062-33.016h-9.0312l6.4062 32.672q0.4375 2.2969 0.67188 4.0469 0.25 1.7656 0.25 2.7812 0 4.1094-2.5938 6.3906-2.5781 2.2969-7.2188 2.2969-7.2344 0-12.453-4.8125-5.2188-4.7969-6.8438-13.047l-6-30.328h-8.9844l10.594 54.688h8.9844l-1.7969-8.5938q3.75 4.7344 9.0156 7.3125 5.2812 2.5938 11.094 2.5938 7.2344 0 11.203-3.9062 3.9844-3.9062 3.9844-10.984 0-1.75-0.21875-3.75t-0.65625-4.3438z\"/></defs><g transform=\"translate(15 253.8) rotate(-90) scale(.1 -.1)\"><use transform=\"translate(0 .51875)\" xlink:href=\"#DejaVuSans-112\"/><use transform=\"translate(63.477 .51875)\" xlink:href=\"#DejaVuSans-114\"/><use transform=\"translate(104.59 .51875)\" xlink:href=\"#DejaVuSans-111\"/><use transform=\"translate(165.77 .51875)\" xlink:href=\"#DejaVuSans-98\"/><use transform=\"translate(229.25 .51875)\" xlink:href=\"#DejaVuSans-97\"/><use transform=\"translate(290.53 .51875)\" xlink:href=\"#DejaVuSans-98\"/><use transform=\"translate(354 .51875)\" xlink:href=\"#DejaVuSans-105\"/><use transform=\"translate(381.79 .51875)\" xlink:href=\"#DejaVuSans-108\"/><use transform=\"translate(409.57 .51875)\" xlink:href=\"#DejaVuSans-105\"/><use transform=\"translate(437.35 .51875)\" xlink:href=\"#DejaVuSans-116\"/><use transform=\"translate(476.56 .51875)\" xlink:href=\"#DejaVuSans-121\"/><use transform=\"translate(535.74 .51875)\" xlink:href=\"#DejaVuSans-32\"/><use transform=\"translate(567.53 .51875)\" xlink:href=\"#DejaVuSans-111\"/><use transform=\"translate(628.71 .51875)\" xlink:href=\"#DejaVuSans-102\"/><use transform=\"translate(663.92 .51875)\" xlink:href=\"#DejaVuSans-32\"/><use transform=\"translate(695.7 .51875)\" xlink:href=\"#DejaVuSans-115\"/><use transform=\"translate(747.8 .51875)\" xlink:href=\"#DejaVuSans-117\"/><use transform=\"translate(811.18 .51875)\" xlink:href=\"#DejaVuSans-99\"/><use transform=\"translate(866.16 .51875)\" xlink:href=\"#DejaVuSans-99\"/><use transform=\"translate(921.14 .51875)\" xlink:href=\"#DejaVuSans-101\"/><use transform=\"translate(982.67 .51875)\" xlink:href=\"#DejaVuSans-115\"/><use transform=\"translate(1034.8 .51875)\" xlink:href=\"#DejaVuSans-115\"/><use transform=\"translate(1086.9 .51875)\" xlink:href=\"#DejaVuSans-32\"/><use transform=\"translate(1118.7 .51875)\" xlink:href=\"#DejaVuSans-102\"/><use transform=\"translate(1153.9 .51875)\" xlink:href=\"#DejaVuSans-111\"/><use transform=\"translate(1215 .51875)\" xlink:href=\"#DejaVuSans-114\"/><use transform=\"translate(1256.2 .51875)\" xlink:href=\"#DejaVuSans-32\"/><use transform=\"translate(1287.9 .51875)\" xlink:href=\"#DejaVuSans-116\"/><use transform=\"translate(1327.1 .51875)\" xlink:href=\"#DejaVuSans-104\"/><use transform=\"translate(1390.5 .51875)\" xlink:href=\"#DejaVuSans-101\"/><use transform=\"translate(1452.1 .51875)\" xlink:href=\"#DejaVuSans-32\"/><use transform=\"translate(1483.8 .51875)\" xlink:href=\"#DejaVuSans-97\"/><use transform=\"translate(1545.1 .51875)\" xlink:href=\"#DejaVuSans-99\"/><use transform=\"translate(1600.1 .51875)\" xlink:href=\"#DejaVuSans-99\"/><use transform=\"translate(1655.1 .51875)\" xlink:href=\"#DejaVuSans-117\"/><use transform=\"translate(1718.5 .51875)\" xlink:href=\"#DejaVuSans-114\"/><use transform=\"translate(1759.6 .51875)\" xlink:href=\"#DejaVuSans-97\"/><use transform=\"translate(1820.8 .51875)\" xlink:href=\"#DejaVuSans-99\"/><use transform=\"translate(1875.8 .51875)\" xlink:href=\"#DejaVuSans-121\"/><use transform=\"translate(1935 .51875)\" xlink:href=\"#DejaVuSans-32\"/><use transform=\"translate(1966.8 .51875)\" xlink:href=\"#DejaVuSans-50\"/><use transform=\"translate(2031.4 38.8) scale(.7)\" xlink:href=\"#DejaVuSans-8722\"/><use transform=\"translate(2090 38.8) scale(.7)\" xlink:href=\"#DejaVuSans-Oblique-110\"/></g><path d=\"m58.178 108.89 3.8665-2.5715 3.8665-2.4356 3.8665-2.3089 3.8665-2.1906 3.8665-2.08 3.8665-1.9764 3.8665-1.8792 3.8665-1.7881 3.8665-1.7024 3.8665-1.6218 3.8665-1.5459 3.8665-1.4744 3.8665-1.4069 3.8665-1.3432 3.8665-1.283 3.8665-1.226 3.8665-1.172 3.8665-1.1209 3.8665-1.0725 3.8665-1.0265 3.8665-0.98288 3.8665-0.94143 3.8665-0.90202 3.8665-0.86454 3.8665-0.82887 3.8665-0.7949 3.8665-0.76254 3.8665-0.73169 3.8665-0.70228 3.8665-0.67421 3.8665-0.64742 3.8665-0.62184 3.8665-0.5974 3.8665-0.57404 3.8665-0.5517 3.8665-0.53034 3.8665-0.5099 3.8665-0.49034 3.8665-0.47161 3.8665-0.45367 3.8665-0.43648 3.8665-0.42001 3.8665-0.40422 3.8665-0.38908 3.8665-0.37456 3.8665-0.36062 3.8665-0.34726 3.8665-0.33442 3.8665-0.3221 3.8665-0.31027 3.8665-0.29891 3.8665-0.28799 3.8665-0.2775 3.8665-0.26742 3.8665-0.25773 3.8665-0.24841 3.8665-0.23945 3.8665-0.23083 3.8665-0.22254 3.8665-0.21457 3.8665-0.2069 3.8665-0.19951 3.8665-0.19241 3.8665-0.18557 3.8665-0.17898 3.8665-0.17264 3.8665-0.16653 3.8665-0.16065 3.8665-0.15499 3.8665-0.14953 3.8665-0.14427 3.8665-0.13921 3.8665-0.13433 3.8665-0.12962 3.8665-0.12509 3.8665-0.12072 3.8665-0.11651 3.8665-0.11245 3.8665-0.10854 3.8665-0.10476 3.8665-0.10112 3.8665-0.097616 3.8665-0.094232 3.8665-0.090968 3.8665-0.08782 3.8665-0.084784 3.8665-0.081855 3.8665-0.07903 3.8665-0.076304 3.8665-0.073675 3.8665-0.071137 3.8665-0.068689 3.8665-0.066327 3.8665-0.064047 3.8665-0.061848 3.8665-0.059725 3.8665-0.057676 3.8665-0.055698 3.8665-0.05379\" clip-path=\"url(#pa968772752)\" fill=\"none\" stroke=\"#1f77b4\" stroke-linecap=\"square\" stroke-width=\"1.5\"/><path d=\"m58.178 219.6 3.8665-10.425 3.8665-9.5214 3.8665-8.7254 3.8665-8.0206 3.8665-7.3938 3.8665-6.8338 3.8665-6.3315 3.8665-5.8793 3.8665-5.4708 3.8665-5.1005 3.8665-4.7638 3.8665-4.4569 3.8665-4.1763 3.8665-3.9192 3.8665-3.683 3.8665-3.4656 3.8665-3.265 3.8665-3.0796 3.8665-2.9078 3.8665-2.7485 3.8665-2.6004 3.8665-2.4626 3.8665-2.3341 3.8665-2.2141 3.8665-2.102 3.8665-1.997 3.8665-1.8986 3.8665-1.8062 3.8665-1.7195 3.8665-1.6379 3.8665-1.5611 3.8665-1.4887 3.8665-1.4204 3.8665-1.3559 3.8665-1.295 3.8665-1.2374 3.8665-1.1828 3.8665-1.1311 3.8665-1.0822 3.8665-1.0357 3.8665-0.99161 3.8665-0.94972 3.8665-0.9099 3.8665-0.87204 3.8665-0.836 3.8665-0.8017 3.8665-0.76902 3.8665-0.73787 3.8665-0.70817 3.8665-0.67983 3.8665-0.65279 3.8665-0.62696 3.8665-0.60229 3.8665-0.57872 3.8665-0.55618 3.8665-0.53462 3.8665-0.514 3.8665-0.49426 3.8665-0.47536 3.8665-0.45727 3.8665-0.43993 3.8665-0.42331 3.8665-0.40739 3.8665-0.39212 3.8665-0.37747 3.8665-0.36342 3.8665-0.34994 3.8665-0.337 3.8665-0.32458 3.8665-0.31265 3.8665-0.30119 3.8665-0.29018 3.8665-0.27961 3.8665-0.26944 3.8665-0.25967 3.8665-0.25028 3.8665-0.24125 3.8665-0.23256 3.8665-0.22421 3.8665-0.21617 3.8665-0.20844 3.8665-0.201 3.8665-0.19384 3.8665-0.18694 3.8665-0.1803 3.8665-0.17391 3.8665-0.16776 3.8665-0.16183 3.8665-0.15613 3.8665-0.15063 3.8665-0.14533 3.8665-0.14023 3.8665-0.13531 3.8665-0.13057 3.8665-0.126 3.8665-0.1216 3.8665-0.11736 3.8665-0.11327 3.8665-0.10932\" clip-path=\"url(#pa968772752)\" fill=\"none\" stroke=\"#ff7f0e\" stroke-linecap=\"square\" stroke-width=\"1.5\"/><path d=\"m111.21 321.36 1.0973-6.5184 3.8665-20.207 3.8665-17.905 3.8665-15.966 3.8665-14.318 3.8665-12.905 3.8665-11.685 3.8665-10.625 3.8665-9.6965 3.8665-8.8799 3.8665-8.1577 3.8665-7.516 3.8665-6.9431 3.8665-6.4297 3.8665-5.9678 3.8665-5.5509 3.8665-5.1732 3.8665-4.83 3.8665-4.5173 3.8665-4.2316 3.8665-3.9699 3.8665-3.7297 3.8665-3.5086 3.8665-3.3047 3.8665-3.1163 3.8665-2.9418 3.8665-2.7801 3.8665-2.6298 3.8665-2.4899 3.8665-2.3596 3.8665-2.2379 3.8665-2.1243 3.8665-2.0178 3.8665-1.9181 3.8665-1.8246 3.8665-1.7367 3.8665-1.6541 3.8665-1.5764 3.8665-1.5031 3.8665-1.434 3.8665-1.3688 3.8665-1.3071 3.8665-1.2489 3.8665-1.1937 3.8665-1.1415 3.8665-1.092 3.8665-1.045 3.8665-1.0004 3.8665-0.95809 3.8665-0.91786 3.8665-0.87961 3.8665-0.84322 3.8665-0.80856 3.8665-0.77556 3.8665-0.74411 3.8665-0.71412 3.8665-0.68551 3.8665-0.6582 3.8665-0.63214 3.8665-0.60724 3.8665-0.58344 3.8665-0.5607 3.8665-0.53894 3.8665-0.51814 3.8665-0.49822 3.8665-0.47916 3.8665-0.4609 3.8665-0.44341 3.8665-0.42665 3.8665-0.41058 3.8665-0.39518 3.8665-0.38041 3.8665-0.36624 3.8665-0.35265 3.8665-0.3396 3.8665-0.32707 3.8665-0.31504 3.8665-0.30349 3.8665-0.29239 3.8665-0.28173 3.8665-0.27148 3.8665-0.26164 3.8665-0.25217 3.8665-0.24306 3.8665-0.23431 3.8665-0.22589\" clip-path=\"url(#pa968772752)\" fill=\"none\" stroke=\"#2ca02c\" stroke-linecap=\"square\" stroke-width=\"1.5\"/><path d=\"m58.178 49.828h3.8665 3.8665 3.8665 3.8665 3.8665 3.8665 3.8665 3.8665 3.8665 3.8665 3.8665 3.8665 3.8665 3.8665 3.8665 3.8665 3.8665 3.8665 3.8665 3.8665 3.8665 3.8665 3.8665 3.8665 3.8665 3.8665 3.8665 3.8665 3.8665 3.8665 3.8665 3.8665 3.8665 3.8665 3.8665 3.8665 3.8665 3.8665 3.8665 3.8665 3.8665 3.8665 3.8665 3.8665 3.8665 3.8665 3.8665 3.8665 3.8665 3.8665 3.8665 3.8665 3.8665 3.8665 3.8665 3.8665 3.8665 3.8665 3.8665 3.8665 3.8665 3.8665 3.8665 3.8665 3.8665 3.8665 3.8665 3.8665 3.8665 3.8665 3.8665 3.8665 3.8665 3.8665 3.8665 3.8665 3.8665 3.8665 3.8665 3.8665 3.8665 3.8665 3.8665 3.8665 3.8665 3.8665 3.8665 3.8665 3.8665 3.8665 3.8665 3.8665 3.8665 3.8665 3.8665 3.8665 3.8665 3.8665 3.8665\" clip-path=\"url(#pa968772752)\" fill=\"none\" stroke=\"#d62728\" stroke-dasharray=\"5.55,2.4\" stroke-width=\"1.5\"/><path d=\"m50.366 282.8v-271.8\" fill=\"none\" stroke=\"#000000\" stroke-linecap=\"square\" stroke-width=\".8\"/><path d=\"m440.97 282.8v-271.8\" fill=\"none\" stroke=\"#000000\" stroke-linecap=\"square\" stroke-width=\".8\"/><path d=\"m50.366 282.8h390.6\" fill=\"none\" stroke=\"#000000\" stroke-linecap=\"square\" stroke-width=\".8\"/><path d=\"m50.366 10.999h390.6\" fill=\"none\" stroke=\"#000000\" stroke-linecap=\"square\" stroke-width=\".8\"/><path d=\"m374.53 277.8h59.436q2 0 2-2v-43.034q0-2-2-2h-59.436q-2 0-2 2v43.034q0 2 2 2z\" fill=\"#ffffff\" opacity=\".8\" stroke=\"#cccccc\"/><path d=\"m376.53 238.86h20\" fill=\"none\" stroke=\"#1f77b4\" stroke-linecap=\"square\" stroke-width=\"1.5\"/><defs><path id=\"DejaVuSans-61\" d=\"m10.594 45.406h62.594v-8.2031h-62.594zm0-19.922h62.594v-8.2969h-62.594z\"/></defs><g transform=\"translate(404.53 242.36) scale(.1 -.1)\"><use xlink:href=\"#DejaVuSans-110\"/><use x=\"63.378906\" xlink:href=\"#DejaVuSans-32\"/><use x=\"95.166016\" xlink:href=\"#DejaVuSans-61\"/><use x=\"178.955078\" xlink:href=\"#DejaVuSans-32\"/><use x=\"210.742188\" xlink:href=\"#DejaVuSans-50\"/></g><path d=\"m376.53 253.54h20\" fill=\"none\" stroke=\"#ff7f0e\" stroke-linecap=\"square\" stroke-width=\"1.5\"/><defs><path id=\"DejaVuSans-51\" d=\"m40.578 39.312q7.0781-1.5156 11.047-6.3125 3.9844-4.7812 3.9844-11.812 0-10.781-7.4219-16.703-7.4219-5.9062-21.094-5.9062-4.5781 0-9.4375 0.90625t-10.031 2.7188v9.5156q4.0938-2.3906 8.9688-3.6094 4.8906-1.2188 10.219-1.2188 9.2656 0 14.125 3.6562t4.8594 10.641q0 6.4531-4.5156 10.078-4.5156 3.6406-12.562 3.6406h-8.5v8.1094h8.8906q7.2656 0 11.125 2.9062t3.8594 8.375q0 5.6094-3.9844 8.6094-3.9688 3.0156-11.391 3.0156-4.0625 0-8.7031-0.89062-4.6406-0.875-10.203-2.7188v8.7812q5.625 1.5625 10.531 2.3438t9.25 0.78125q11.234 0 17.766-5.1094 6.5469-5.0938 6.5469-13.781 0-6.0625-3.4688-10.234t-9.8594-5.7812z\"/></defs><g transform=\"translate(404.53 257.04) scale(.1 -.1)\"><use xlink:href=\"#DejaVuSans-110\"/><use x=\"63.378906\" xlink:href=\"#DejaVuSans-32\"/><use x=\"95.166016\" xlink:href=\"#DejaVuSans-61\"/><use x=\"178.955078\" xlink:href=\"#DejaVuSans-32\"/><use x=\"210.742188\" xlink:href=\"#DejaVuSans-51\"/></g><path d=\"m376.53 268.22h20\" fill=\"none\" stroke=\"#2ca02c\" stroke-linecap=\"square\" stroke-width=\"1.5\"/><defs><path id=\"DejaVuSans-52\" d=\"m37.797 64.312-24.906-38.922h24.906zm-2.5938 8.5938h12.406v-47.516h10.406v-8.2031h-10.406v-17.188h-9.8125v17.188h-32.906v9.5156z\"/></defs><g transform=\"translate(404.53 271.72) scale(.1 -.1)\"><use xlink:href=\"#DejaVuSans-110\"/><use x=\"63.378906\" xlink:href=\"#DejaVuSans-32\"/><use x=\"95.166016\" xlink:href=\"#DejaVuSans-61\"/><use x=\"178.955078\" xlink:href=\"#DejaVuSans-32\"/><use x=\"210.742188\" xlink:href=\"#DejaVuSans-52\"/></g><defs><clipPath id=\"pa968772752\"><rect x=\"50.366\" y=\"10.999\" width=\"390.6\" height=\"271.8\"/></clipPath></defs></svg>"
      ],
      "text/plain": [
       "<Figure size 504x360 with 1 Axes>"
      ]
     },
     "metadata": {
      "needs_background": "light"
     },
     "output_type": "display_data"
    }
   ],
   "source": [
    "t = np.linspace(5.1, 10, 100)\n",
    "prob_success_n = [y(t, n) for n in [2, 3, 4]]\n",
    "prob_n2, prob_n3, prob_n4  = prob_success_n[0], prob_success_n[1], prob_success_n[2]\n",
    "\n",
    "plt.figure(figsize=(7, 5))\n",
    "plt.plot(t, prob_n2, t, prob_n3, t, prob_n4, t, [1]*len(t),'--' )\n",
    "plt.axis([5, 10, 0.7, 1.05])\n",
    "plt.xlabel('t: number of counting qubits')\n",
    "plt.ylabel('probability of success for the accuracy $2^{-n}$')\n",
    "plt.legend(['n = 2', 'n = 3', 'n = 4'], loc='lower right')\n",
    "plt.grid(True)"
   ]
  },
  {
   "cell_type": "markdown",
   "metadata": {},
   "source": [
    "## Part 2: QPE on Noisy Quantum System\n",
    "\n",
    "\n",
    "**Goal**\n",
    "\n",
    "Run the QPE circuit on a real quantum system to understand the result and limitations when using noisy quantum systems\n",
    "\n",
    "\n",
    "The accuracy anaylsis that we performed in Part 1 would not be correct when the QPE circuit is executed on present day noisy quantum systems.  In part 2, we will obtain QPE results by running the circuit on a backend from IBM Quantum Experience to examine how noise affects the outcome and learn techniques to reduce its impact.   "
   ]
  },
  {
   "cell_type": "markdown",
   "metadata": {},
   "source": [
    "#### &#128211;Step A. Load your account and select the backend from your provider. "
   ]
  },
  {
   "cell_type": "code",
   "execution_count": null,
   "metadata": {},
   "outputs": [],
   "source": [
    "## Your code goes here.  \n",
    "\n",
    "\n",
    "\n",
    "\n",
    "\n",
    "\n",
    "\n"
   ]
  },
  {
   "cell_type": "markdown",
   "metadata": {},
   "source": [
    "#### &#128211;Step B. Generate multiple ( as many as you want ) transpiled circuits of <code>qc4</code> that you set up in Part 1 at the beginning. Choose one with the minimum circuit depth, and the other with the maximum circuit depth."
   ]
  },
  {
   "cell_type": "markdown",
   "metadata": {},
   "source": [
    "Transpile the circuit with the parameter `optimization_level = 3` to reduce the error in the result.  As we learned in Lab 1, Qiskit by default uses a stochastic swap mapper to place the needed SWAP gates, which varies the tranpiled circuit results even under the same runtime settings.  Therefore, to achieve shorter depth transpiled circuit for smaller error in the outcome, transpile `qc4` multiple times and choose one with the minimum circuit depth. Select the maximum circuit depth one as well for comparison purposes. "
   ]
  },
  {
   "cell_type": "code",
   "execution_count": 138,
   "metadata": {},
   "outputs": [],
   "source": [
    "## Your code goes here\n",
    "\n",
    "\n",
    "\n",
    "\n",
    "\n",
    "\n",
    "\n",
    "\n",
    "\n",
    "\n"
   ]
  },
  {
   "cell_type": "markdown",
   "metadata": {},
   "source": [
    "#### &#128211;Step C. Execute both circuits on the backend that you picked. Plot the histogram for the results and compare them with the simulation result in Part 1."
   ]
  },
  {
   "cell_type": "code",
   "execution_count": 6,
   "metadata": {},
   "outputs": [],
   "source": [
    "## Your code goes here\n",
    "\n",
    "\n",
    "\n",
    "\n",
    "\n",
    "\n",
    "\n",
    "\n",
    "\n",
    "\n",
    "\n",
    "\n"
   ]
  },
  {
   "cell_type": "markdown",
   "metadata": {},
   "source": [
    "The following shows the sample result."
   ]
  },
  {
   "cell_type": "markdown",
   "metadata": {},
   "source": [
    "![](images/L5_QPEresults.png)"
   ]
  },
  {
   "cell_type": "markdown",
   "metadata": {},
   "source": [
    "#### Step D. Measurement Error Mitigation "
   ]
  },
  {
   "cell_type": "markdown",
   "metadata": {},
   "source": [
    "In the previous step, we utilized our knowledge about Qiskit transpiler to get the best result. Here, we try to mitigate the errors in the result further through the measurement mitigation technique that we learned in Lab 3."
   ]
  },
  {
   "cell_type": "markdown",
   "metadata": {},
   "source": [
    "&#128211;Construct the circuits to profile the measurement errors of all basis states using the function 'complete_meas_cal'.  Obtain the measurement filter object, 'meas_filter', which will be applied to the noisy results to mitigate readout (measurement) error."
   ]
  },
  {
   "cell_type": "code",
   "execution_count": 1,
   "metadata": {},
   "outputs": [],
   "source": [
    "##  Your Code goes here\n",
    "\n",
    "\n",
    "\n",
    "\n",
    "\n",
    "\n",
    "\n",
    "\n",
    "\n",
    "\n",
    "\n",
    "\n"
   ]
  },
  {
   "cell_type": "markdown",
   "metadata": {},
   "source": [
    "&#128211;Plot the histogram of the results before and after the measurement error mitigation to exhibit the improvement."
   ]
  },
  {
   "cell_type": "code",
   "execution_count": null,
   "metadata": {},
   "outputs": [],
   "source": [
    "## Your Code goes here\n",
    "\n",
    "\n",
    "\n",
    "\n",
    "\n",
    "\n",
    "\n",
    "\n",
    "\n",
    "\n",
    "\n",
    "\n",
    "\n"
   ]
  },
  {
   "cell_type": "markdown",
   "metadata": {},
   "source": [
    "The following plot shows the sample result. "
   ]
  },
  {
   "cell_type": "markdown",
   "metadata": {},
   "source": [
    "![](images/L5_QPEresults_final.png)"
   ]
  },
  {
   "cell_type": "markdown",
   "metadata": {},
   "source": [
    "The figure below displays a simulation result with the sample final results from both the best and worst SWAP mapping cases after applying the measurement error mitigation.  In Lab 3, as the major source of the error was from the measurement, after the error mitigation procedure, the outcomes were significantly improved.  For QPE case, however, the measurement error doesn't seem to be the foremost cause for the noise in the result; CNOT gate errors dominate the noise profile. In this case, choosing the transpiled circuit with the least depth was the crucial procedure to reduce the errors in the result."
   ]
  },
  {
   "cell_type": "markdown",
   "metadata": {},
   "source": [
    "![](images/L5_QPE_final.png)"
   ]
  }
 ],
 "metadata": {
  "kernelspec": {
   "display_name": "Python 3",
   "language": "python",
   "name": "python3"
  },
  "language_info": {
   "codemirror_mode": {
    "name": "ipython",
    "version": 3
   },
   "file_extension": ".py",
   "mimetype": "text/x-python",
   "name": "python",
   "nbconvert_exporter": "python",
   "pygments_lexer": "ipython3",
   "version": "3.9"
  }
 },
 "nbformat": 4,
 "nbformat_minor": 4
}
