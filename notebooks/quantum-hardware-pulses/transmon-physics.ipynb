{
 "cells": [
  {
   "cell_type": "markdown",
   "metadata": {
    "tags": [
     "remove_cell"
    ]
   },
   "source": [
    "# Introduction to Transmon Physics"
   ]
  },
  {
   "cell_type": "markdown",
   "metadata": {
    "tags": [
     "contents"
    ]
   },
   "source": [
    "## Contents\n",
    "\n",
    "1. [Multi-level Quantum Systems as Qubits](#mlqsaq)\n",
    "2. [Hamiltonians of Quantum Circuits](#hoqc)\n",
    "3. [Quantizing the Hamiltonian](#qth)\n",
    "4. [The Quantized Transmon](#tqt)\n",
    "5. [Comparison of the Transmon and the Quantum Harmonic Oscillator](#cottatqho)\n",
    "6. [Qubit Drive and the Rotating Wave Approximation](#qdatrwa)"
   ]
  },
  {
   "cell_type": "markdown",
   "metadata": {},
   "source": [
    "## 1. Multi-level Quantum Systems as Qubits <a id='mlqsaq'></a>\n",
    "\n",
    "Studying qubits is fundamentally about learning the physics of two-level systems. One such example of a purely two-level system is the spin of an electron (or any other spin-$1/2$ particle): it can either point up or down, and we label these states $|0\\rangle$ and $|1\\rangle$, respectively. Historically, the reason the $|0\\rangle$ state is at the \"north pole\" of the Bloch sphere is that this is the lower-energy state when a magnetic field is applied in the $+\\hat{z}$ direction.\n",
    "\n",
    "Another such two-level system occurs in the first type of superconducting qubit discovered: the [Cooper Pair Box](https://arxiv.org/pdf/cond-mat/9904003v1.pdf). The reason there is no electrical resistance in superconductors is that electrons combine as Cooper pairs, which take energy to break up (and that energy is not available thermally at low temperatures), because they are effectively attracted to each other. This situation is quite counterintuitive, because electrons are both negatively-charged, they should repel each other! However, in many material systems effective interactions can be mediated by collective effects: one can think of the electrons as being attracted to the wake of other electrons in the lattice of positive charge. The Cooper Pair Box consists of a superconducting island that possesses an extra Cooper pair of charge $2e$ ($|0\\rangle$) or does not ($|1\\rangle$). These states can be manipulated by voltages on tunnel junctions, and is periodic with \"gate\" voltage control, so it is indeed a two-level system. \n",
    "\n",
    "Qubits encoded as charge states are particularly sensitive to *charge noise*, and this is true of the Cooper Pair Box, which is why it fell out of favor with researchers. Many other quantum systems are not two-level systems, such as atoms that each feature unique spectral lines (energy transitions) that are used by astronomers to determine the composition of our universe. By effectively isolating and controlling just two levels, such as the ground and first excited state of an atom, then you could treat it as a qubit. But what about using other types of superconducting circuits as qubits? The solution to the charge noise problem of the Cooper Pair Box hedged on designing a qubit with higher-order energy levels: the [transmon](https://arxiv.org/pdf/cond-mat/0703002.pdf). (The name is derived from *transmission-line shunted plasma oscillation* qubit). By sacrificing anharmonicity (the difference between the $|0\\rangle \\to |1\\rangle$ and $|1\\rangle \\to |2\\rangle$ transition frequencies, see section on [Accessing Higher Energy States](/course/quantum-hardware-pulses/accessing-higher-energy-states-with-qiskit-pulse)), charge noise is suppressed while still allowing the lowest two levels to be addressed as a qubit. Now the quantum states are encoded in oscillations of Cooper Pairs across a tunnel junction between two superconducting islands, with the excited $|1\\rangle$ state oscillating at a high frequency than the ground $|0\\rangle$."
   ]
  },
  {
   "cell_type": "markdown",
   "metadata": {},
   "source": [
    "## 2. Hamiltonians of Quantum Circuits <a id='hoqc'></a>\n",
    "\n",
    "The Hamiltonian is a function that equals the total energy of a system, potential and kinetic. This is true in classical mechanics, and the quantum Hamiltonian is found by promoting the variables to operators. By comparing classical Poisson brackets to quantum commutators, it is found that they do not commute, meaning they cannot be observed simultaneously, as in Heisenberg's uncertainty principle.\n",
    "\n",
    "We'll first consider a linear $LC$ circuit, where $L$ is the inductance and $C$ is the capacitance. The Hamiltonian is the sum of the kinetic energy (represented by charge variable $Q$) and potential energy (represented by flux variable $\\Phi$),\n",
    "$$\n",
    "\\mathcal{H} = \\frac{Q^2}{2C} + \\frac{\\Phi^2}{2L}\n",
    "$$\n",
    "\n",
    "<details>\n",
    "    <summary>Branch-Flux Method for Linear Circuits (click here to expand)</summary>\n",
    "\n",
    "Hamiltonians and Lagrangians are functions involving the energies of massive objects and have a rich history in the dynamics of classical systems. They still serve as a template for \"quantizing\" objects, including the transmon. The method consists of writing the Lagrangian in terms of generalized coordinate: we will choose a quantity called flux that is defined by the history of voltages, classically one often chooses position in 3-dimensional space. The conjugate variable to our generalized coordinate is then calculated, and will end up being charge in our case (usually momentum in the classical case). By way of a Legendre transformation, the Hamiltonian is calculated, which represents the sum of energies of the system.\n",
    "    \n",
    "The circuit Hamiltonian can be found by considering the capacitative and inductive energies using the branch-flux method, which itself is based on classical Lagrangian mechanics. Defining the flux and charge to be time integrals of voltage and current, respectively,\n",
    "$$\n",
    "\\Phi(t) = \\int_{-\\infty}^t V(t')\\,dt' \\quad {\\rm and} \\quad Q(t) = \\int_{-\\infty}^t I(t')\\,dt' \n",
    "$$\n",
    "we will work with flux $\\Phi$ as our generalized coordinate, where $V(t')$ and $I(t')$ are the voltage and current flowing across the transmon at time $t'$. In electric circuits, voltage functions much like potential energy and current like kinetic energy. The instantaneous energy across the transmon at time $t$ is \n",
    "$$\n",
    "E(t) = \\int_{-\\infty}^t V(t') I(t')\\,dt'.\n",
    "$$\n",
    "The voltage and current across a capacitor (with capacitance $C$) and inductor (with inductance $L$), are related to each other by $V=L dI/dt$ and $I = C dV/dt$, respectively. In circuits, capacitors store charge and inductors store flux (current). We will work with the flux as our \"coordinate\" of choice. Then because inductors store flux, the potential energy is represented as\n",
    "$$\n",
    "U_L(t) = \\int_{-\\infty}^t L\\frac{dI(t')}{dt'} I(t')\\, dt' = \\frac{1}{2} LI(t)^2 = \\frac{1}{2L}\\Phi^2\n",
    "\\quad {\\rm because} \\quad\n",
    "\\Phi(t) = \\int_{-\\infty}^t L \\frac{dI(t')}{dt'}\\,dt' = LI(t)\n",
    "$$\n",
    "by integration by parts. Similarly, voltage is the rate of change of flux, so it corresponds to the kinetic energy\n",
    "$$\n",
    "\\tau_C(t) = \\int_{-\\infty}^t C\\frac{dV(t')}{dt'} V(t')\\, dt' = \\frac{1}{2} CV(t)^2 = \\frac{1}{2}C\\dot{\\Phi}^2 \\quad {\\rm where} \\quad \\dot{\\Phi} = \\frac{d\\Phi}{dt}\n",
    "$$\n",
    "is the common way to denote time derivatives in Lagrangian mechanics. The Lagrangian is defined as the difference between the kinetic and potential energies and is thus\n",
    "$$\n",
    "\\mathcal{L} = \\tau_C - U_L = \\frac{1}{2} C \\dot{\\Phi}^2 - \\frac{1}{2L} \\Phi^2. \n",
    "$$\n",
    "The dynamics are determined by the Euler-Lagrange equation\n",
    "$$\n",
    "0 \\equiv \\frac{\\partial\\mathcal{L}}{\\partial\\Phi} - \\frac{d}{dt} \\left(\\frac{\\partial\\mathcal{L}}{\\partial\\dot{\\Phi}}\\right)  \n",
    "= \\frac{\\Phi}{L} + C\\ddot{\\Phi},\n",
    "$$\n",
    "which describes a harmonic oscillator in $\\Phi$ with angular frequency $\\omega = 1/\\sqrt{LC}$ (now two dots corresponds to the second time derivative, $\\ddot{\\Phi} = d^2\\Phi/dt^2$). However, we wish to move to the Hamiltonian framework and quantize from there. While the conjugate coordinate to flux $\\Phi$ is defined by\n",
    "$$\n",
    "\\frac{d\\mathcal{L}}{d\\dot{\\Phi}} = C \\dot{\\Phi} = CV \\equiv Q\n",
    "$$\n",
    "it is exactly the same for charge defined above due to the definition of capacitance. Now, the Hamiltonian is defined in terms of the Lagrangian as $\\mathcal{H} = Q\\dot{\\Phi} - \\mathcal{L}$, and one arrives at the equation above.\n",
    "    \n",
    "    \n",
    "</details>\n",
    "\n",
    "\n"
   ]
  },
  {
   "cell_type": "markdown",
   "metadata": {},
   "source": [
    "## 3. Quantizing the Hamiltonian <a id='qth'></a>\n",
    "\n",
    "The quantum harmonic oscillator (QHO) is what we get when we quantize the Hamiltonian of an $LC$ circuit. Promote the conjugate variables to operators, $Q \\to \\hat{Q}$, $\\Phi \\to \\hat{\\Phi}$, so that the quantized Hamiltonian is\n",
    "$$\n",
    "\\hat{H} = \\frac{\\hat{Q}^2}{2C} + \\frac{\\hat{\\Phi}^2}{2L},\n",
    "$$\n",
    "where the \"hats\" remind us that these are quantum mechanical operators. Then make an association between the Poisson bracket of classical mechanics and the commutator of quantum mechanics via the correspondence\n",
    "$$\n",
    "\\{A,B\\} = \\frac{\\delta A}{\\delta \\Phi} \\frac{\\delta B}{\\delta Q} - \\frac{\\delta B}{\\delta \\Phi} \\frac{\\delta A}{\\delta Q} \\Longleftrightarrow\n",
    "\\frac{1}{i\\hbar} [\\hat{A},\\hat{B}] = \\frac{1}{i\\hbar}\\left(\\hat{A}\\hat{B} - \\hat{B}\\hat{A}\\right),\n",
    "$$\n",
    "where the $\\delta$'s here represent functional derivates and the commutator reflects that the order of operations matter in quantum mechanics. Inserting our variables/operators, we arrive at\n",
    "$$\n",
    "\\{\\Phi,Q\\} = \\frac{\\delta \\Phi}{\\delta \\Phi}\\frac{\\delta Q}{\\delta Q} - \\frac{\\delta Q}{\\delta \\Phi}\\frac{\\delta \\Phi}{\\delta Q} = 1-0=1 \\Longrightarrow [\\hat{\\Phi}, \\hat{Q}] = i\\hbar.\n",
    "$$\n",
    "This implies, that just like position and momentum, charge and flux also obey a Heisenberg Uncertainty Principle ($[\\hat{x},\\hat{p}] = i\\hbar$, as well). This means that they are not simultaneous observables, and are in fact, conjugate variables defined in the same way with the same properties. This result has been used over the history of superconducting qubits to inform design decisions and classify the types of superconducting qubits. \n",
    "\n",
    "The above quantized Hamiltonian is usually written in a friendlier form using the reduced charge $\\hat{n} = \\hat{Q}/2e$ and phase $\\hat{\\phi} = 2\\pi\\hat{\\Phi}/\\Phi_0$, where $\\Phi_0 = h/2e$ is the flux quanta, corresponding to the operators for the number of Cooper pairs and the phase across the Josephson junction, respectively. Then, the quantized Hamiltonian becomes\n",
    "\n",
    "$$ \\hat{H}_{\\rm QHO}= 4E_c\\hat{n}^2 + \\frac{1}{2} E_L \\hat{\\phi}^2,$$\n",
    "\n",
    "where $E_c = e^2/2C$ is the charging energy (the 4 in front corresponds to the fact we're dealing with Cooper pairs, not single electrons) and $E_L = (\\Phi_0/2\\pi)^2/L$ is the inductive energy."
   ]
  },
  {
   "cell_type": "markdown",
   "metadata": {},
   "source": [
    "<details>\n",
    "    <summary>Click to Expand: The Quantum Harmonic Oscillator</summary>\n",
    "\n",
    "The Hamiltonian above represents a simple harmonic oscillator, and taking $\\hat{\\phi}$ as the position variable, then we can define creation and annihilation operators in terms of the zero-point fluctuations of the charge and phase,\n",
    "\n",
    "$$ \\hat{n} = i n_{\\mathrm zpf}(\\hat{a}^\\dagger - \\hat{a}) \\quad \\mathrm{and} \\quad \n",
    "   \\hat{\\phi} = \\phi_{\\mathrm zpf}(\\hat{a}^\\dagger + \\hat{a}), \\qquad \\mathrm{where} \\quad \n",
    "   n_\\mathrm{zpf} = \\left( \\frac{E_L}{32 E_c} \\right)^{1/4} \\quad \\mathrm{and} \\quad\n",
    "   \\phi_{\\mathrm{zpf}} = \\left(\\frac{2E_c}{E_L}\\right)^{1/4}.$$\n",
    "   \n",
    "The Hamiltonian is then that of a harmonic oscillator,\n",
    "\n",
    "$$ H_{\\mathrm{QHO}} = \\hbar \\omega \\left( \\hat{a}^\\dagger \\hat{a} + \\frac{1}{2} \\right) \\qquad \\mathrm{with} \\qquad\n",
    "\\omega = \\sqrt{8 E_L E_c}/\\hbar = 1/\\sqrt{LC}.$$ \n",
    "\n",
    "Here we see that the energy spacing of the QHO corresponds to the classical resonance frequency $\\omega=1/\\sqrt{LC}$ of an $LC$ oscillator.\n",
    "</details>"
   ]
  },
  {
   "cell_type": "markdown",
   "metadata": {},
   "source": [
    "<details>\n",
    "    <summary>Click to Expand: The Branch-Flux Method for Transmons</summary>\n",
    "\n",
    "While the above concerns quantizing a linear circuit, [Vool and Devoret](https://arxiv.org/abs/1610.03438) discuss the branch-flux method for quantizing circuits in general. Basically, this gives us a systematic way of enforcing Kirchhoff's Laws for circuits: the sum of the currents at a node must equal zero and the addition of voltages around any loop must also equal zero. These Kirchhoff Laws give us the equations of motion for the circuit.\n",
    "    \n",
    "There is a very special relationship between the current and flux in Josephson junctions, given by the Josephson relation\n",
    "$$\n",
    "I = I_0 \\sin\\left(2\\pi \\Phi/\\Phi_0\\right)\n",
    "$$\n",
    "where $I_0$ is the maximum current (critical current) that can flow through the junction while maintaining a superconducting state, and $\\Phi_0 = h/2e$ is the flux quantum. Enforcing Kirchhoff's current law, the sum of the Josephson current and the current across the total capacitance $C = C_S + C_J$, where $C_S$ is the shunt capacitor and $C_J$ is the capacitance of the Josephson junction and $C_S \\gg C_J$, must vanish. This gives us an equation of motion\n",
    "$$\n",
    "I_0 \\sin\\left(2\\pi \\Phi/\\Phi_0\\right) + C\\ddot{\\Phi} = 0.\n",
    "$$\n",
    "Unlike the typical situation where the equations of motions are calculated by placing the Lagrangian into the Euler-Lagrange equation as we did in the case of the QHO, here we already have the equation of motion for the variable $\\Phi$. But since we want to quantize the Hamiltonian, we must convert this equation of motion to a Lagrangian and then perform a Legendre transform to find the Hamiltonian. This is achieved by \"integrating\" the equation of motion:\n",
    "$$\n",
    "0 = \\frac{\\partial\\mathcal{L}}{\\partial\\Phi} - \\frac{d}{dt}\\left(\\frac{\\partial\\mathcal{L}}{\\partial\\dot{\\Phi}}\\right) = I_0 \\sin\\left(2\\pi \\Phi/\\Phi_0\\right) + C\\ddot{\\Phi} \\Longrightarrow\n",
    "\\frac{I_0 \\Phi_0}{2\\pi} \\cos\\left(2\\pi \\Phi/\\Phi_0\\right) + \\frac{C\\dot{\\Phi}^2}{2} = \\mathcal{L}\n",
    "$$\n",
    "Now that we have gone \"backward\" to find the Lagrangian, we can continue forward to find the Hamiltonian by finding the conjugate variable $Q = \\partial \\mathcal{L}/\\partial\\dot{\\Phi} = C\\dot{\\Phi}$, which turns out to be  the same as in the QHO case, and \n",
    "$$\n",
    "\\mathcal{H} = Q\\dot{\\Phi} - \\mathcal{L} = \\frac{Q^2}{2C} - \\frac{I_0 \\Phi_0}{2\\pi} \\cos\\left(2\\pi \\Phi/\\Phi_0\\right)\n",
    "$$\n",
    "    </details>"
   ]
  },
  {
   "cell_type": "markdown",
   "metadata": {},
   "source": [
    "## 4. The Quantized Transmon <a id='tqt'></a>\n",
    "\n",
    "Making the same variable substitutions as for the QHO, we can rewrite the transmon Hamiltonian in familiar form\n",
    "$$\n",
    "\\hat{H}_{\\rm tr} = 4E_c \\hat{n}^2 - E_J \\cos \\hat{\\phi},\n",
    "$$\n",
    "where the Josephson energy $E_J = I_0\\Phi_0/2\\pi$ replaces the inductive energy from the QHO. Note that the functional form of the phase is different from the QHO due to the presence of the Josephson junction instead of a linear inductor. Often $\\hat{n} \\to \\hat{n} - n_g$ to reflect a gate offset charge, but this is not important in the transmon regime. Now we can approach the quantization similarly to the QHO, where we define the creation and annihilation operators in terms of the zero-point fluctuations of charge and phase \n",
    "$$ \\hat{n} = i n_{\\mathrm zpf}(\\hat{c}^\\dagger - \\hat{c}) \\quad \\mathrm{and} \\quad \n",
    "   \\hat{\\phi} = \\phi_{\\mathrm zpf}(\\hat{c}^\\dagger + \\hat{c}), \\qquad \\mathrm{where} \\quad \n",
    "   n_\\mathrm{zpf} = \\left( \\frac{E_J}{32 E_c} \\right)^{1/4} \\quad \\mathrm{and} \\quad\n",
    "   \\phi_{\\mathrm{zpf}} = \\left(\\frac{2 E_c}{E_J}\\right)^{1/4},\n",
    "$$\n",
    "where the Josephson energy $E_J$ has replaced the linear inductive energy $E_L$ of the QHO. Here we use $\\hat{c} = \\sum_j \\sqrt{j+1} |j\\rangle\\langle j+1|$ to denote the transmon annihilation operator and distinguish it from the evenly-spaced energy modes of $\\hat{a}$. Now, noting that $\\phi \\ll 1$ because in the transmon regime $E_J/E_c \\gg 1$, we can take a Taylor expansion of $\\cos \\hat{\\phi}$ to approximate the Hamiltonian\n",
    "$$\n",
    "H = -4E_c n_{zpf}^2 (\\hat{c}^\\dagger - \\hat{c})^2 - E_J\\left(1 - \\frac{1}{2} \\phi_{zpf}^2 (\\hat{c}^\\dagger + \\hat{c})^2 + \\frac{1}{24} \\phi_{zpf}^4(\\hat{c}^\\dagger+\\hat{c})^4 + \\ldots \\right) \\\\\n",
    " \\approx \\sqrt{8 E_c E_J} \\left(\\hat{c}^\\dagger \\hat{c} + \\frac{1}{2}\\right) - E_J - \\frac{E_c}{12}(\\hat{c}^\\dagger + \\hat{c})^4,\n",
    "$$\n",
    "where it is helpful to observe $8 E_c n_{\\rm zpf}^2 = E_J\\phi_{zpf}^2 = \\sqrt{2 E_c E_J}$. Expanding the terms of the transmon operator $\\hat{c}$ and dropping the fast-rotating terms (i.e. those with an uneven number of $\\hat{c}$ and $\\hat{c}^\\dagger$), neglecting constants that have no influence on transmon dynamics, and defining $\\omega_0 = \\sqrt{8 E_c E_J}$ and identifying $\\delta = -E_c$ as the transmon anharmonicity, we have\n",
    "$$\n",
    "\\hat{H}_{\\rm tr} = \\omega_0 \\hat{c}^\\dagger \\hat{c} + \\frac{\\delta}{2}\\left((\\hat{c}^\\dagger \\hat{c})^2 + \\hat{c}^\\dagger \\hat{c}\\right)\n",
    "= \\left(\\omega_0 + \\frac{\\delta}{2}\\right) \\hat{c}^\\dagger \\hat{c} + \\frac{\\delta}{2}(\\hat{c}^\\dagger \\hat{c})^2\n",
    "$$\n",
    "which is the Hamiltonian of a Duffing oscillator. Defining $\\omega \\equiv \\omega_0+\\delta$, we see that the transmon levels have energy spacings that each differ by the anharmonicity, as $\\omega_{j+1}-\\omega_j = \\omega + \\delta j$, so that $\\omega$ corresponds to \"the frequency\" of the transmon qubit (the transition $\\omega_1-\\omega_0$). From the definition of the transmon operator, $\\hat{c}^\\dagger \\hat{c} = \\sum_j j |j\\rangle \\langle j|$, we arrive at\n",
    "$$\n",
    "\\hat{H}_{\\rm tr} = \\omega \\hat{c}^\\dagger \\hat{c} + \\frac{\\delta}{2} \\hat{c}^\\dagger \\hat{c} (\\hat{c}^\\dagger \\hat{c} - 1)\n",
    " = \\sum_j \\left(\\left(\\omega-\\frac{\\delta}{2}\\right)j + \\frac{\\delta}{2} j^2\\right) |j\\rangle\\langle j| \\equiv \\sum_j \\omega_j |j\\rangle \\langle j|\n",
    "$$\n",
    "so that\n",
    "$$\n",
    "\\omega_j = \\left(\\omega-\\frac{\\delta}{2}\\right)j + \\frac{\\delta}{2} j^2\n",
    "$$\n",
    "are the energy levels of the transmon."
   ]
  },
  {
   "cell_type": "markdown",
   "metadata": {},
   "source": [
    "## 5. Comparison of the Transmon and the Quantum Harmonic Oscillator<a id='cottatqho'></a>\n",
    "\n",
    "The QHO has even-spaced energy levels and the transmon does not, which is why we can use it as a qubit. Here we show the difference in energy levels by calculating them from their Hamiltonians using [`QuTiP`](http://www.qutip.org). "
   ]
  },
  {
   "cell_type": "code",
   "execution_count": 1,
   "metadata": {},
   "outputs": [],
   "source": [
    "import numpy as np\n",
    "import matplotlib.pyplot as plt\n",
    "\n",
    "E_J = 20e9\n",
    "w = 5e9\n",
    "anharm = -300e6\n",
    "\n",
    "N_phis = 101\n",
    "phis = np.linspace(-np.pi,np.pi,N_phis)\n",
    "mid_idx = int((N_phis+1)/2)\n",
    "\n",
    "# potential energies of the QHO & transmon\n",
    "U_QHO = 0.5*E_J*phis**2\n",
    "U_QHO = U_QHO/w\n",
    "U_transmon = (E_J-E_J*np.cos(phis))\n",
    "U_transmon = U_transmon/w"
   ]
  },
  {
   "cell_type": "code",
   "execution_count": 2,
   "metadata": {},
   "outputs": [],
   "source": [
    "# import QuTiP, construct Hamiltonians, and solve for energies\n",
    "\n",
    "from qutip import destroy\n",
    "N = 35\n",
    "N_energies = 5\n",
    "c = destroy(N)\n",
    "H_QHO = w*c.dag()*c\n",
    "E_QHO = H_QHO.eigenenergies()[0:N_energies]\n",
    "H_transmon = w*c.dag()*c + (anharm/2)*(c.dag()*c)*(c.dag()*c - 1)\n",
    "E_transmon = H_transmon.eigenenergies()[0:2*N_energies]"
   ]
  },
  {
   "cell_type": "code",
   "execution_count": 3,
   "metadata": {},
   "outputs": [
    {
     "name": "stdout",
     "output_type": "stream",
     "text": [
      "[0.0e+00 5.0e+09 1.0e+10 1.5e+10]\n",
      "[0.00e+00 1.70e+09 5.00e+09 6.60e+09 9.70e+09 1.12e+10 1.41e+10 1.55e+10]\n"
     ]
    }
   ],
   "source": [
    "print(E_QHO[:4])\n",
    "print(E_transmon[:8])"
   ]
  },
  {
   "cell_type": "code",
   "execution_count": 4,
   "metadata": {},
   "outputs": [
    {
     "data": {
      "text/plain": [
       "<matplotlib.legend.Legend at 0x13c8317f0>"
      ]
     },
     "execution_count": 4,
     "metadata": {},
     "output_type": "execute_result"
    },
    {
     "data": {
      "image/svg+xml": [
       "<?xml version=\"1.0\" encoding=\"UTF-8\"?><!DOCTYPE svg  PUBLIC '-//W3C//DTD SVG 1.1//EN'  'http://www.w3.org/Graphics/SVG/1.1/DTD/svg11.dtd'><svg width=\"389.84pt\" height=\"394.8pt\" version=\"1.1\" viewBox=\"0 0 389.84 394.8\" xmlns=\"http://www.w3.org/2000/svg\" xmlns:xlink=\"http://www.w3.org/1999/xlink\"><defs><style type=\"text/css\">*{stroke-linejoin: round; stroke-linecap: butt}</style></defs><path d=\"m0 394.8h389.84v-394.8h-389.84z\" fill=\"#ffffff\"/><path d=\"m47.842 343.64h334.8v-332.64h-334.8z\" fill=\"#ffffff\"/><defs><path id=\"m6c61745a86\" d=\"m0 0v3.5\" stroke=\"#343a3f\" stroke-width=\".8\"/></defs><use x=\"69.919568\" y=\"343.639219\" fill=\"#343a3f\" stroke=\"#343a3f\" stroke-width=\".8\" xlink:href=\"#m6c61745a86\"/><g transform=\"translate(62.548 358.24) scale(.1 -.1)\" fill=\"#343a3f\"><defs><path id=\"DejaVuSans-2212\" transform=\"scale(.015625)\" d=\"m678 2272h4006v-531h-4006v531z\"/><path id=\"DejaVuSans-33\" transform=\"scale(.015625)\" d=\"m2597 2516q453-97 707-404 255-306 255-756 0-690-475-1069-475-378-1350-378-293 0-604 58t-642 174v609q262-153 574-231 313-78 654-78 593 0 904 234t311 681q0 413-289 645-289 233-804 233h-544v519h569q465 0 712 186t247 536q0 359-255 551-254 193-729 193-260 0-557-57-297-56-653-174v562q360 100 674 150t592 50q719 0 1137-327 419-326 419-882 0-388-222-655t-631-370z\"/></defs><use xlink:href=\"#DejaVuSans-2212\"/><use x=\"83.789062\" xlink:href=\"#DejaVuSans-33\"/></g><use x=\"118.360546\" y=\"343.639219\" fill=\"#343a3f\" stroke=\"#343a3f\" stroke-width=\".8\" xlink:href=\"#m6c61745a86\"/><g transform=\"translate(110.99 358.24) scale(.1 -.1)\" fill=\"#343a3f\"><defs><path id=\"DejaVuSans-32\" transform=\"scale(.015625)\" d=\"m1228 531h2203v-531h-2962v531q359 372 979 998 621 627 780 809 303 340 423 576 121 236 121 464 0 372-261 606-261 235-680 235-297 0-627-103-329-103-704-313v638q381 153 712 231 332 78 607 78 725 0 1156-363 431-362 431-968 0-288-108-546-107-257-392-607-78-91-497-524-418-433-1181-1211z\"/></defs><use xlink:href=\"#DejaVuSans-2212\"/><use x=\"83.789062\" xlink:href=\"#DejaVuSans-32\"/></g><use x=\"166.801523\" y=\"343.639219\" fill=\"#343a3f\" stroke=\"#343a3f\" stroke-width=\".8\" xlink:href=\"#m6c61745a86\"/><g transform=\"translate(159.43 358.24) scale(.1 -.1)\" fill=\"#343a3f\"><defs><path id=\"DejaVuSans-31\" transform=\"scale(.015625)\" d=\"m794 531h1031v3560l-1122-225v575l1116 225h631v-4135h1031v-531h-2687v531z\"/></defs><use xlink:href=\"#DejaVuSans-2212\"/><use x=\"83.789062\" xlink:href=\"#DejaVuSans-31\"/></g><use x=\"215.2425\" y=\"343.639219\" fill=\"#343a3f\" stroke=\"#343a3f\" stroke-width=\".8\" xlink:href=\"#m6c61745a86\"/><g transform=\"translate(212.06 358.24) scale(.1 -.1)\" fill=\"#343a3f\"><defs><path id=\"DejaVuSans-30\" transform=\"scale(.015625)\" d=\"m2034 4250q-487 0-733-480-245-479-245-1442 0-959 245-1439 246-480 733-480 491 0 736 480 246 480 246 1439 0 963-246 1442-245 480-736 480zm0 500q785 0 1199-621 414-620 414-1801 0-1178-414-1799-414-620-1199-620-784 0-1198 620-414 621-414 1799 0 1181 414 1801 414 621 1198 621z\"/></defs><use xlink:href=\"#DejaVuSans-30\"/></g><use x=\"263.683477\" y=\"343.639219\" fill=\"#343a3f\" stroke=\"#343a3f\" stroke-width=\".8\" xlink:href=\"#m6c61745a86\"/><g transform=\"translate(260.5 358.24) scale(.1 -.1)\" fill=\"#343a3f\"><use xlink:href=\"#DejaVuSans-31\"/></g><use x=\"312.124454\" y=\"343.639219\" fill=\"#343a3f\" stroke=\"#343a3f\" stroke-width=\".8\" xlink:href=\"#m6c61745a86\"/><g transform=\"translate(308.94 358.24) scale(.1 -.1)\" fill=\"#343a3f\"><use xlink:href=\"#DejaVuSans-32\"/></g><use x=\"360.565432\" y=\"343.639219\" fill=\"#343a3f\" stroke=\"#343a3f\" stroke-width=\".8\" xlink:href=\"#m6c61745a86\"/><g transform=\"translate(357.38 358.24) scale(.1 -.1)\" fill=\"#343a3f\"><use xlink:href=\"#DejaVuSans-33\"/></g><g transform=\"translate(167.6 382.56) scale(.24 -.24)\" fill=\"#343a3f\"><defs><path id=\"DejaVuSans-50\" transform=\"scale(.015625)\" d=\"m1259 4147v-1753h794q441 0 681 228 241 228 241 650 0 419-241 647-240 228-681 228h-794zm-631 519h1425q785 0 1186-355 402-355 402-1039 0-691-402-1044-401-353-1186-353h-794v-1875h-631v4666z\"/><path id=\"DejaVuSans-68\" transform=\"scale(.015625)\" d=\"m3513 2113v-2113h-575v2094q0 497-194 743-194 247-581 247-466 0-735-297-269-296-269-809v-1978h-578v4863h578v-1907q207 316 486 472 280 156 646 156 603 0 912-373 310-373 310-1098z\"/><path id=\"DejaVuSans-61\" transform=\"scale(.015625)\" d=\"m2194 1759q-697 0-966-159t-269-544q0-306 202-486 202-179 548-179 479 0 768 339t289 901v128h-572zm1147 238v-1997h-575v531q-197-318-491-470t-719-152q-537 0-855 302-317 302-317 808 0 590 395 890 396 300 1180 300h807v57q0 397-261 614t-733 217q-300 0-585-72-284-72-546-216v532q315 122 612 182 297 61 578 61 760 0 1135-394 375-393 375-1193z\"/><path id=\"DejaVuSans-73\" transform=\"scale(.015625)\" d=\"m2834 3397v-544q-243 125-506 187-262 63-544 63-428 0-642-131t-214-394q0-200 153-314t616-217l197-44q612-131 870-370t258-667q0-488-386-773-386-284-1061-284-281 0-586 55t-642 164v594q319-166 628-249 309-82 613-82 406 0 624 139 219 139 219 392 0 234-158 359-157 125-692 241l-200 47q-534 112-772 345-237 233-237 639 0 494 350 762 350 269 994 269 318 0 599-47 282-46 519-140z\"/><path id=\"DejaVuSans-65\" transform=\"scale(.015625)\" d=\"m3597 1894v-281h-2644q38-594 358-905t892-311q331 0 642 81t618 244v-544q-310-131-635-200t-659-69q-838 0-1327 487-489 488-489 1320 0 859 464 1363 464 505 1252 505 706 0 1117-455 411-454 411-1235zm-575 169q-6 471-264 752-258 282-683 282-481 0-770-272t-333-766l2050 4z\"/><path id=\"DejaVuSans-Oblique-3d5\" transform=\"scale(.015625)\" d=\"m2991 4863-253-1291q625 0 946-478 332-488 166-1347-169-859-691-1347-506-478-1131-478l-244-1253h-571l243 1253q-622 0-947 478-331 488-162 1347 166 859 687 1347 510 478 1132 478l253 1291h572zm-863-4429q353 0 656 322 332 360 460 991 125 625-75 991-178 321-531 321l-510-2625zm-572 0 510 2625q-350 0-653-321-341-366-460-991-119-631 75-991 175-322 528-322z\"/></defs><use transform=\"translate(0 .015625)\" xlink:href=\"#DejaVuSans-50\"/><use transform=\"translate(60.303 .015625)\" xlink:href=\"#DejaVuSans-68\"/><use transform=\"translate(123.68 .015625)\" xlink:href=\"#DejaVuSans-61\"/><use transform=\"translate(184.96 .015625)\" xlink:href=\"#DejaVuSans-73\"/><use transform=\"translate(237.06 .015625)\" xlink:href=\"#DejaVuSans-65\"/><use transform=\"translate(298.58 .015625)\" xlink:href=\"#DejaVuSans-20\"/><use transform=\"translate(330.37 .015625)\" xlink:href=\"#DejaVuSans-Oblique-3d5\"/></g><defs><path id=\"m57f0230b45\" d=\"m0 0h-3.5\" stroke=\"#343a3f\" stroke-width=\".8\"/></defs><use x=\"47.8425\" y=\"330.845373\" fill=\"#343a3f\" stroke=\"#343a3f\" stroke-width=\".8\" xlink:href=\"#m57f0230b45\"/><g transform=\"translate(34.48 334.64) scale(.1 -.1)\" fill=\"#343a3f\"><use xlink:href=\"#DejaVuSans-30\"/></g><use x=\"47.8425\" y=\"266.876142\" fill=\"#343a3f\" stroke=\"#343a3f\" stroke-width=\".8\" xlink:href=\"#m57f0230b45\"/><g transform=\"translate(34.48 270.68) scale(.1 -.1)\" fill=\"#343a3f\"><use xlink:href=\"#DejaVuSans-31\"/></g><use x=\"47.8425\" y=\"202.906911\" fill=\"#343a3f\" stroke=\"#343a3f\" stroke-width=\".8\" xlink:href=\"#m57f0230b45\"/><g transform=\"translate(34.48 206.71) scale(.1 -.1)\" fill=\"#343a3f\"><use xlink:href=\"#DejaVuSans-32\"/></g><use x=\"47.8425\" y=\"138.93768\" fill=\"#343a3f\" stroke=\"#343a3f\" stroke-width=\".8\" xlink:href=\"#m57f0230b45\"/><g transform=\"translate(34.48 142.74) scale(.1 -.1)\" fill=\"#343a3f\"><use xlink:href=\"#DejaVuSans-33\"/></g><use x=\"47.8425\" y=\"74.96845\" fill=\"#343a3f\" stroke=\"#343a3f\" stroke-width=\".8\" xlink:href=\"#m57f0230b45\"/><g transform=\"translate(34.48 78.768) scale(.1 -.1)\" fill=\"#343a3f\"><defs><path id=\"DejaVuSans-34\" transform=\"scale(.015625)\" d=\"m2419 4116-1594-2491h1594v2491zm-166 550h794v-3041h666v-525h-666v-1100h-628v1100h-2106v609l1940 2957z\"/></defs><use xlink:href=\"#DejaVuSans-34\"/></g><use x=\"47.8425\" y=\"10.999219\" fill=\"#343a3f\" stroke=\"#343a3f\" stroke-width=\".8\" xlink:href=\"#m57f0230b45\"/><g transform=\"translate(34.48 14.798) scale(.1 -.1)\" fill=\"#343a3f\"><defs><path id=\"DejaVuSans-35\" transform=\"scale(.015625)\" d=\"m691 4666h2478v-532h-1900v-1143q137 47 274 70 138 23 276 23 781 0 1237-428 457-428 457-1159 0-753-469-1171-469-417-1322-417-294 0-599 50-304 50-629 150v635q281-153 581-228t634-75q541 0 856 284 316 284 316 772 0 487-316 771-315 285-856 285-253 0-505-56-251-56-513-175v2344z\"/></defs><use xlink:href=\"#DejaVuSans-35\"/></g><g transform=\"translate(25.44 291.56) rotate(-90) scale(.24 -.24)\" fill=\"#343a3f\"><defs><path id=\"DejaVuSans-45\" transform=\"scale(.015625)\" d=\"m628 4666h2950v-532h-2319v-1381h2222v-531h-2222v-1691h2375v-531h-3006v4666z\"/><path id=\"DejaVuSans-6e\" transform=\"scale(.015625)\" d=\"m3513 2113v-2113h-575v2094q0 497-194 743-194 247-581 247-466 0-735-297-269-296-269-809v-1978h-578v3500h578v-544q207 316 486 472 280 156 646 156 603 0 912-373 310-373 310-1098z\"/><path id=\"DejaVuSans-72\" transform=\"scale(.015625)\" d=\"m2631 2963q-97 56-211 82-114 27-251 27-488 0-749-317t-261-911v-1844h-578v3500h578v-544q182 319 472 473 291 155 707 155 59 0 131-8 72-7 159-23l3-590z\"/><path id=\"DejaVuSans-67\" transform=\"scale(.015625)\" d=\"m2906 1791q0 625-258 968-257 344-723 344-462 0-720-344-258-343-258-968 0-622 258-966t720-344q466 0 723 344 258 344 258 966zm575-1357q0-893-397-1329-396-436-1215-436-303 0-572 45t-522 139v559q253-137 500-202 247-66 503-66 566 0 847 295t281 892v285q-178-310-456-463t-666-153q-643 0-1037 490-394 491-394 1301 0 812 394 1302 394 491 1037 491 388 0 666-153t456-462v531h575v-3066z\"/><path id=\"DejaVuSans-79\" transform=\"scale(.015625)\" d=\"m2059-325q-243-625-475-815-231-191-618-191h-460v481h338q237 0 368 113 132 112 291 531l103 262-1415 3444h609l1094-2737 1094 2737h609l-1538-3825z\"/><path id=\"DejaVuSans-4c\" transform=\"scale(.015625)\" d=\"m628 4666h631v-4135h2272v-531h-2903v4666z\"/><path id=\"DejaVuSans-76\" transform=\"scale(.015625)\" d=\"m191 3500h609l1094-2937 1094 2937h609l-1313-3500h-781l-1312 3500z\"/><path id=\"DejaVuSans-6c\" transform=\"scale(.015625)\" d=\"m603 4863h575v-4863h-575v4863z\"/><path id=\"DejaVuSans-2f\" transform=\"scale(.015625)\" d=\"m1625 4666h531l-1625-5260h-531l1625 5260z\"/><path id=\"DejaVuSans-Oblique-127\" transform=\"scale(.015625)\" d=\"m3634 2113-409-2113h-575l406 2094q38 197 38 356 0 238-88 388-143 246-531 246-466 0-794-296-325-297-425-810l-384-1978h-578l772 3969h-391l100 512h391l72 382h578l-72-382h1100l-100-512h-1100l-197-1013q266 316 578 472 306 156 675 156 600 0 838-371 150-238 150-607 0-225-54-493z\"/><path id=\"DejaVuSans-Oblique-3c9\" transform=\"scale(.015625)\" d=\"m1369-91q-1297 0-935 1857 141 734 822 1734h619q-644-1e3 -787-1750-269-1353 431-1353 647 0 959 1681h531q-340-1690 307-1681 697 6 959 1353 144 750-106 1750h619q287-1e3 146-1734-356-1860-1656-1857-850 3-775 935-309-935-1134-935z\"/></defs><use transform=\"translate(0 .015625)\" xlink:href=\"#DejaVuSans-45\"/><use transform=\"translate(63.184 .015625)\" xlink:href=\"#DejaVuSans-6e\"/><use transform=\"translate(126.56 .015625)\" xlink:href=\"#DejaVuSans-65\"/><use transform=\"translate(188.09 .015625)\" xlink:href=\"#DejaVuSans-72\"/><use transform=\"translate(229.2 .015625)\" xlink:href=\"#DejaVuSans-67\"/><use transform=\"translate(292.68 .015625)\" xlink:href=\"#DejaVuSans-79\"/><use transform=\"translate(351.86 .015625)\" xlink:href=\"#DejaVuSans-20\"/><use transform=\"translate(383.64 .015625)\" xlink:href=\"#DejaVuSans-4c\"/><use transform=\"translate(439.36 .015625)\" xlink:href=\"#DejaVuSans-65\"/><use transform=\"translate(500.88 .015625)\" xlink:href=\"#DejaVuSans-76\"/><use transform=\"translate(560.06 .015625)\" xlink:href=\"#DejaVuSans-65\"/><use transform=\"translate(621.58 .015625)\" xlink:href=\"#DejaVuSans-6c\"/><use transform=\"translate(649.37 .015625)\" xlink:href=\"#DejaVuSans-73\"/><use transform=\"translate(701.46 .015625)\" xlink:href=\"#DejaVuSans-20\"/><use transform=\"translate(733.25 .015625)\" xlink:href=\"#DejaVuSans-2f\"/><use transform=\"translate(766.94 .015625)\" xlink:href=\"#DejaVuSans-20\"/><use transform=\"translate(798.73 .015625)\" xlink:href=\"#DejaVuSans-Oblique-127\"/><use transform=\"translate(868.21 .015625)\" xlink:href=\"#DejaVuSans-Oblique-3c9\"/></g><path d=\"m124.55-1 2.432 12.334 3.0436 15.687 3.0436 15.877 3.0436 16.003 6.0873 32.133 3.0436 16.003 3.0436 15.877 3.0436 15.687 3.0436 15.436 3.0436 15.124 3.0436 14.753 3.0436 14.323 3.0436 13.836 3.0436 13.295 3.0436 12.701 3.0436 12.058 3.0436 11.366 3.0436 10.63 3.0436 9.8522 3.0436 9.0353 3.0436 8.1826 3.0436 7.2977 3.0436 6.384 3.0436 5.4451 3.0436 4.4847 3.0436 3.5066 3.0436 2.5146 3.0436 1.5128 3.0436 0.50492 3.0436-0.50492 3.0436-1.5128 3.0436-2.5146 3.0436-3.5066 3.0436-4.4847 3.0436-5.4451 3.0436-6.384 3.0436-7.2977 3.0436-8.1826 3.0436-9.0353 3.0436-9.8522 3.0436-10.63 3.0436-11.366 3.0436-12.058 3.0436-12.701 3.0436-13.295 3.0436-13.836 3.0436-14.323 3.0436-14.753 3.0436-15.124 3.0436-15.436 3.0436-15.687 3.0436-15.877 3.0436-16.003 6.0873-32.133 3.0436-16.003 3.0436-15.877 3.0436-15.687 2.432-12.334\" clip-path=\"url(#pccde97bfd7)\" fill=\"none\" stroke=\"#ffa500\" stroke-linecap=\"square\" stroke-width=\"3\"/><path d=\"m137.24-1 1.9106 16.17 3.0436 24.749 3.0436 23.739 3.0436 22.729 3.0436 21.718 3.0436 20.708 3.0436 19.698 3.0436 18.688 3.0436 17.678 3.0436 16.668 3.0436 15.658 3.0436 14.647 3.0436 13.637 3.0436 12.627 3.0436 11.617 3.0436 10.607 3.0436 9.5965 3.0436 8.5864 3.0436 7.5762 3.0436 6.5661 3.0436 5.5559 3.0436 4.5457 3.0436 3.5356 3.0436 2.5254 3.0436 1.5152 3.0436 0.50508 3.0436-0.50508 3.0436-1.5152 3.0436-2.5254 3.0436-3.5356 3.0436-4.5457 3.0436-5.5559 3.0436-6.5661 3.0436-7.5762 3.0436-8.5864 3.0436-9.5965 3.0436-10.607 3.0436-11.617 3.0436-12.627 3.0436-13.637 3.0436-14.647 3.0436-15.658 3.0436-16.668 3.0436-17.678 3.0436-18.688 3.0436-19.698 3.0436-20.708 3.0436-21.718 3.0436-22.729 3.0436-23.739 3.0436-24.749 1.9106-16.17\" clip-path=\"url(#pccde97bfd7)\" fill=\"none\" stroke=\"#0000ff\" stroke-dasharray=\"11.1,4.8\" stroke-width=\"3\"/><path d=\"m181.76 266.88h66.96\" clip-path=\"url(#pccde97bfd7)\" fill=\"none\" stroke=\"#ffa500\" stroke-linecap=\"square\" stroke-width=\"3\"/><path d=\"m181.76 266.88h66.96\" clip-path=\"url(#pccde97bfd7)\" fill=\"none\" stroke=\"#0000ff\" stroke-dasharray=\"11.1,4.8\" stroke-width=\"3\"/><path d=\"m166.54 206.75h97.396\" clip-path=\"url(#pccde97bfd7)\" fill=\"none\" stroke=\"#ffa500\" stroke-linecap=\"square\" stroke-width=\"3\"/><path d=\"m169.59 202.91h91.309\" clip-path=\"url(#pccde97bfd7)\" fill=\"none\" stroke=\"#0000ff\" stroke-dasharray=\"11.1,4.8\" stroke-width=\"3\"/><path d=\"m154.37 150.45h121.75\" clip-path=\"url(#pccde97bfd7)\" fill=\"none\" stroke=\"#ffa500\" stroke-linecap=\"square\" stroke-width=\"3\"/><path d=\"m157.41 138.94h115.66\" clip-path=\"url(#pccde97bfd7)\" fill=\"none\" stroke=\"#0000ff\" stroke-dasharray=\"11.1,4.8\" stroke-width=\"3\"/><path d=\"m145.24 97.997h140.01\" clip-path=\"url(#pccde97bfd7)\" fill=\"none\" stroke=\"#ffa500\" stroke-linecap=\"square\" stroke-width=\"3\"/><path d=\"m148.28 74.968h133.92\" clip-path=\"url(#pccde97bfd7)\" fill=\"none\" stroke=\"#0000ff\" stroke-dasharray=\"11.1,4.8\" stroke-width=\"3\"/><path d=\"m47.842 343.64v-332.64\" fill=\"none\" stroke=\"#343a3f\" stroke-linecap=\"square\" stroke-width=\".8\"/><path d=\"m47.842 343.64h334.8\" fill=\"none\" stroke=\"#343a3f\" stroke-linecap=\"square\" stroke-width=\".8\"/><path d=\"m54.842 63.298h183.44v-45.299h-183.44z\" fill=\"#ffffff\" opacity=\".8\" stroke=\"#cccccc\"/><path d=\"m60.442 29.337h14 14\" fill=\"none\" stroke=\"#ffa500\" stroke-linecap=\"square\" stroke-width=\"3\"/><g transform=\"translate(99.642 34.237) scale(.14 -.14)\" fill=\"#343a3f\"><defs><path id=\"DejaVuSans-54\" transform=\"scale(.015625)\" d=\"m-19 4666h3947v-532h-1656v-4134h-634v4134h-1657v532z\"/><path id=\"DejaVuSans-6d\" transform=\"scale(.015625)\" d=\"m3328 2828q216 388 516 572t706 184q547 0 844-383 297-382 297-1088v-2113h-578v2094q0 503-179 746-178 244-543 244-447 0-707-297-259-296-259-809v-1978h-578v2094q0 506-178 748t-550 242q-441 0-701-298-259-298-259-808v-1978h-578v3500h578v-544q197 322 472 475t653 153q382 0 649-194 267-193 395-562z\"/><path id=\"DejaVuSans-6f\" transform=\"scale(.015625)\" d=\"m1959 3097q-462 0-731-361t-269-989 267-989q268-361 733-361 460 0 728 362 269 363 269 988 0 622-269 986-268 364-728 364zm0 487q750 0 1178-488 429-487 429-1349 0-859-429-1349-428-489-1178-489-753 0-1180 489-426 490-426 1349 0 862 426 1349 427 488 1180 488z\"/><path id=\"DejaVuSans-69\" transform=\"scale(.015625)\" d=\"m603 3500h575v-3500h-575v3500zm0 1363h575v-729h-575v729z\"/></defs><use xlink:href=\"#DejaVuSans-54\"/><use x=\"46.333984\" xlink:href=\"#DejaVuSans-72\"/><use x=\"87.447266\" xlink:href=\"#DejaVuSans-61\"/><use x=\"148.726562\" xlink:href=\"#DejaVuSans-6e\"/><use x=\"212.105469\" xlink:href=\"#DejaVuSans-73\"/><use x=\"264.205078\" xlink:href=\"#DejaVuSans-6d\"/><use x=\"361.617188\" xlink:href=\"#DejaVuSans-6f\"/><use x=\"422.798828\" xlink:href=\"#DejaVuSans-6e\"/><use x=\"486.177734\" xlink:href=\"#DejaVuSans-20\"/><use x=\"517.964844\" xlink:href=\"#DejaVuSans-45\"/><use x=\"581.148438\" xlink:href=\"#DejaVuSans-6e\"/><use x=\"644.527344\" xlink:href=\"#DejaVuSans-65\"/><use x=\"706.050781\" xlink:href=\"#DejaVuSans-72\"/><use x=\"745.414062\" xlink:href=\"#DejaVuSans-67\"/><use x=\"808.890625\" xlink:href=\"#DejaVuSans-69\"/><use x=\"836.673828\" xlink:href=\"#DejaVuSans-65\"/><use x=\"898.197266\" xlink:href=\"#DejaVuSans-73\"/></g><path d=\"m60.442 49.886h14 14\" fill=\"none\" stroke=\"#0000ff\" stroke-dasharray=\"11.1,4.8\" stroke-width=\"3\"/><g transform=\"translate(99.642 54.786) scale(.14 -.14)\" fill=\"#343a3f\"><defs><path id=\"DejaVuSans-51\" transform=\"scale(.015625)\" d=\"m2522 4238q-688 0-1093-513-404-512-404-1397 0-881 404-1394 405-512 1093-512 687 0 1089 512 402 513 402 1394 0 885-402 1397-402 513-1089 513zm884-4154 832-909h-763l-691 747q-103-6-158-9-54-4-104-4-984 0-1574 658-589 658-589 1761 0 1106 589 1764 590 658 1574 658 981 0 1568-658 588-658 588-1764 0-812-327-1391-326-578-945-853z\"/><path id=\"DejaVuSans-48\" transform=\"scale(.015625)\" d=\"m628 4666h631v-1913h2294v1913h631v-4666h-631v2222h-2294v-2222h-631v4666z\"/><path id=\"DejaVuSans-4f\" transform=\"scale(.015625)\" d=\"m2522 4238q-688 0-1093-513-404-512-404-1397 0-881 404-1394 405-512 1093-512 687 0 1089 512 402 513 402 1394 0 885-402 1397-402 513-1089 513zm0 512q981 0 1568-658 588-658 588-1764 0-1103-588-1761-587-658-1568-658-984 0-1574 656-589 657-589 1763t589 1764q590 658 1574 658z\"/></defs><use xlink:href=\"#DejaVuSans-51\"/><use x=\"78.710938\" xlink:href=\"#DejaVuSans-48\"/><use x=\"153.90625\" xlink:href=\"#DejaVuSans-4f\"/><use x=\"232.617188\" xlink:href=\"#DejaVuSans-20\"/><use x=\"264.404297\" xlink:href=\"#DejaVuSans-45\"/><use x=\"327.587891\" xlink:href=\"#DejaVuSans-6e\"/><use x=\"390.966797\" xlink:href=\"#DejaVuSans-65\"/><use x=\"452.490234\" xlink:href=\"#DejaVuSans-72\"/><use x=\"491.853516\" xlink:href=\"#DejaVuSans-67\"/><use x=\"555.330078\" xlink:href=\"#DejaVuSans-69\"/><use x=\"583.113281\" xlink:href=\"#DejaVuSans-65\"/><use x=\"644.636719\" xlink:href=\"#DejaVuSans-73\"/></g><defs><clipPath id=\"pccde97bfd7\"><rect x=\"47.842\" y=\"10.999\" width=\"334.8\" height=\"332.64\"/></clipPath></defs></svg>"
      ],
      "text/plain": [
       "<Figure size 600x600 with 1 Axes>"
      ]
     },
     "metadata": {},
     "output_type": "display_data"
    }
   ],
   "source": [
    "fig, axes = plt.subplots(1, 1, figsize=(6,6))\n",
    "\n",
    "axes.plot(phis, U_transmon, '-', color='orange', linewidth=3.0)\n",
    "axes.plot(phis, U_QHO, '--', color='blue', linewidth=3.0)\n",
    "\n",
    "for eidx in range(1,N_energies):\n",
    "    delta_E_QHO = (E_QHO[eidx]-E_QHO[0])/w\n",
    "    delta_E_transmon = (E_transmon[2*eidx]-E_transmon[0])/w\n",
    "    QHO_lim_idx = min(np.where(U_QHO[int((N_phis+1)/2):N_phis] > delta_E_QHO)[0])\n",
    "    trans_lim_idx = min(np.where(U_transmon[int((N_phis+1)/2):N_phis] > delta_E_transmon)[0])\n",
    "    trans_label, = axes.plot([phis[mid_idx-trans_lim_idx-1], phis[mid_idx+trans_lim_idx-1]], \\\n",
    "                             [delta_E_transmon, delta_E_transmon], '-', color='orange', linewidth=3.0)\n",
    "    qho_label, = axes.plot([phis[mid_idx-QHO_lim_idx-1], phis[mid_idx+QHO_lim_idx-1]], \\\n",
    "                           [delta_E_QHO, delta_E_QHO], '--', color='blue', linewidth=3.0)\n",
    "    \n",
    "axes.set_xlabel('Phase $\\phi$', fontsize=24)\n",
    "axes.set_ylabel('Energy Levels / $\\hbar\\omega$', fontsize=24)\n",
    "axes.set_ylim(-0.2,5)\n",
    "\n",
    "qho_label.set_label('QHO Energies')\n",
    "trans_label.set_label('Transmon Energies')\n",
    "axes.legend(loc=2, fontsize=14)\n"
   ]
  },
  {
   "cell_type": "markdown",
   "metadata": {},
   "source": [
    "## 6. Qubit Drive and the Rotating Wave Approximation <a id='qdatrwa'></a>\n",
    "\n",
    "Here we will treat the transmon as a qubit for simplicity, which by definition means there are only two levels. Therefore the transmon Hamiltonian becomes\n",
    "$$\n",
    "\\hat{H}_0 = \\sum_{j=0}^1 \\hbar \\omega_j |j\\rangle \\langle j| \\equiv 0 |0\\rangle \\langle 0| + \\hbar\\omega_q |1\\rangle \\langle 1|.\n",
    "$$\n",
    "Since we can add or subtract constant energy from the Hamiltonian without effecting the dynamics, we make the $|0\\rangle$ and $|1\\rangle$ state energies symmetric about $E=0$ by subtracting half the qubit frequency,\n",
    "$$\n",
    "\\hat{H}_0 = - (1/2)\\hbar\\omega_q |0\\rangle \\langle 0| + (1/2)\\hbar \\omega_q |1\\rangle \\langle 1| = \n",
    "-\\frac{1}{2} \\hbar \\omega_q \\sigma^z \\qquad {\\rm where} \\qquad\n",
    "\\sigma^z = \\begin{pmatrix}\n",
    "1 & 0 \\\\\n",
    "0 & -1 \\end{pmatrix}\n",
    "$$\n",
    "is the Pauli-Z matrix. Now, applying an electric drive field $\\vec{E}(t) = \\vec{E}_0 e^{-i\\omega_d t} + \\vec{E}_0^* e^{i\\omega_d t}$ to the transmon introduces a dipole interaction between the transmon and microwave field. The Hamiltonian is the sum of the qubit Hamiltonian $\\hat{H}_0$ and drive Hamiltonian $\\hat{H}_d$,\n",
    "$$\n",
    "\\hat{H} = \\hat{H}_0 + \\hat{H}_d.\n",
    "$$\n",
    "Treating the transmon as a qubit allows us to use the Pauli raising/lowering operators $\\sigma^\\pm = (1/2)(\\sigma^x \\mp i\\sigma^y)$ that have the effect $\\sigma^+ |0\\rangle = |1\\rangle$ and $\\sigma^- |1\\rangle = |0\\rangle$. (Note that this definition reflects that we are using *qubit* raising/lower operators instead of those for *spin*. For the reason discussed in [Section 1](#mlqsaq), $|0\\rangle \\equiv |\\uparrow\\rangle$ and $|1\\rangle \\equiv |\\downarrow \\rangle$ so the raising and lowering operators are inverted). Now since the field will excite and de-excite the qubit, we define the dipole operator $\\vec{d} = \\vec{d}_0 \\sigma^+ + \\vec{d}_0^* \\sigma^-$. The drive Hamiltonian from the dipole interaction is then\n",
    "$$\n",
    "\\hat{H}_d = -\\vec{d} \\cdot \\vec{E}(t) = -\\left(\\vec{d}_0 \\sigma^+ + \\vec{d}_0^* \\sigma^-\\right) \\cdot \\left(\\vec{E}_0 e^{-i\\omega_d t} + \\vec{E}_0^* e^{i\\omega_d t}\\right) \\\\\n",
    "= -\\left(\\vec{d}_0 \\cdot \\vec{E}_0 e^{-i\\omega_d t} + \\vec{d}_0 \\cdot \\vec{E}_0^* e^{i\\omega_d t}\\right)\\sigma^+\n",
    "-\\left(\\vec{d}_0^* \\cdot \\vec{E}_0 e^{-i\\omega_d t} + \\vec{d}_0^* \\cdot \\vec{E}_0^* e^{i\\omega_d t}\\right)\\sigma^-\\\\\n",
    "\\equiv -\\hbar\\left(\\Omega e^{-i\\omega_d t} + \\tilde{\\Omega} e^{i\\omega_d t}\\right)\\sigma^+\n",
    "-\\hbar\\left(\\tilde{\\Omega}^* e^{-i\\omega_d t} + \\Omega^* e^{i\\omega_d t}\\right)\\sigma^-\n",
    "$$\n",
    "where we made the substitutions $\\Omega = \\vec{d}_0 \\cdot \\vec{E}_0$ and $\\tilde{\\Omega} = \\vec{d}_0 \\cdot \\vec{E}_0^*$ to describe the strength of the field and dipole. Now we transform to the interaction picture $\\hat{H}_{d,I} = U\\hat{H}_dU^\\dagger$ (omitting terms that cancel for simplicity) with \n",
    "$$\n",
    "U = e^{i\\hat{H}_0t/\\hbar} = e^{-i\\omega_q t \\sigma^z/2} = I\\cos(\\omega_q t/2) - i\\sigma^z\\sin(\\omega_q t/2)\n",
    "$$\n",
    "which can be calculated by noting that\n",
    "$$\n",
    "\\sigma^\\pm \\sigma^z = (1/2) \\left(\\sigma^x \\sigma^z \\mp i \\sigma^y \\sigma^z\\right) = (1/2)(-i\\sigma^y \\pm \\sigma^x) = \\pm\\sigma^\\pm = -\\sigma^z \\sigma^\\pm.\n",
    "$$\n",
    "Then\n",
    "$$U\\sigma^\\pm U^\\dagger = \\left(I\\cos(\\omega_q t/2) - i\\sigma^z\\sin(\\omega_q t/2)\\right) \\sigma^\\pm \\left(I\\cos(\\omega_q t/2) + i\\sigma^z\\sin(\\omega_q t/2)\\right) \\\\\n",
    "= \\sigma^\\pm \\left( \\cos(\\omega_q t/2) \\pm i\\sin(\\omega_q t/2)\\right) \\left(\\cos(\\omega_q t/2) \\pm i\\sin(\\omega_q t/2) \\right) \\\\\n",
    "= \\sigma^\\pm \\left( \\cos^2(\\omega_q t/2) \\pm 2i\\cos(\\omega_q t/2)\\sin(\\omega_q t/2) - \\sin^2(\\omega_q t/2)\\right) \\\\\n",
    "= \\sigma^\\pm \\left( \\cos(\\omega_q t) \\pm i\\sin(\\omega_q t) \\right) = e^{\\pm i\\omega_q t} \\sigma^{\\pm},$$\n",
    "where we have used the double-angle formula from trigonometry. The transformed Hamiltonian is then\n",
    "$$\n",
    "\\hat{H}_{d,I} = U\\hat{H}_dU^\\dagger = -\\hbar\\left(\\Omega e^{-i\\omega_d t} + \\tilde{\\Omega} e^{i\\omega_d t}\\right)e^{i\\omega_q t} \\sigma^+ -\\hbar\\left(\\tilde{\\Omega}^* e^{-i\\omega_d t} + \\Omega^* e^{i\\omega_d t}\\right)e^{-i\\omega_q t} \\sigma^-\\\\\n",
    "= -\\hbar\\left(\\Omega e^{i\\Delta_q t} + \\tilde{\\Omega} e^{i(\\omega_q+\\omega_d) t}\\right) \\sigma^+ -\\hbar\\left(\\tilde{\\Omega}^* e^{-i(\\omega_q+\\omega_d) t} + \\Omega^* e^{-i\\Delta_q t}\\right) \\sigma^-\n",
    "$$\n",
    "Now we make the rotating-wave approximation: since $\\omega_q+\\omega_d$ is much larger than $\\Delta_q = \\omega_q-\\omega_d$, the terms with the sum in the exponential oscillate much faster, so effectively average out their contribution and we therefore drop those terms from the Hamiltonian. Now the RWA interaction Hamiltonian becomes\n",
    "$$\n",
    "\\hat{H}_{d,I}^{\\rm (RWA)} =-\\hbar\\Omega e^{i\\Delta_q t}  \\sigma^+ -\\hbar \\Omega^* e^{-i\\Delta_q t} \\sigma^-\n",
    "$$\n",
    "Moving back to the Schrödinger picture,\n",
    "$$\n",
    "\\hat{H}_{d}^{\\rm (RWA)} = U^\\dagger \\hat{H}_{d,I}^{\\rm (RWA)} U = -\\hbar\\Omega e^{-i\\omega_d t} \\sigma^+ -\\hbar\\Omega^* e^{i\\omega_d t} \\sigma^-\n",
    "$$\n",
    "so that the total qubit and drive Hamiltonian is\n",
    "$$\n",
    "\\hat{H}^{\\rm (RWA)} = -\\frac{1}{2} \\hbar\\omega_q \\sigma^z -\\hbar\\Omega e^{-i\\omega_d t} \\sigma^+ -\\hbar\\Omega^* e^{i\\omega_d t} \\sigma^-.\n",
    "$$"
   ]
  },
  {
   "cell_type": "markdown",
   "metadata": {},
   "source": [
    "Going into the frame of the drive, using the transformation $U_d = \\exp\\{-i\\omega_d t\\sigma^z/2\\}$, the Hamiltonian becomes\n",
    "$$\n",
    "\\hat{H}_{\\rm eff} = U_d \\hat{H}^{\\rm (RWA)} U_d^\\dagger - i\\hbar U_d \\dot{U}_d^\\dagger\n",
    "$$\n",
    "where $\\dot{U}_d = dU_d/dt$ is the time derivative of $U_d$. Then in the drive frame under the RWA\n",
    "$$\n",
    "\\hat{H}_{\\rm eff} = -\\frac{1}{2} \\hbar\\omega_q \\sigma^z -\\hbar\\Omega \\sigma^+ -\\hbar\\Omega^* \\sigma^- + \\frac{1}{2} \\hbar\\omega_d \\sigma^z = -\\frac{1}{2}\\hbar \\Delta_q \\sigma^z -\\hbar\\Omega \\sigma^+ -\\hbar\\Omega^* \\sigma^-\n",
    "$$\n",
    "assuming the drive is real so that $\\Omega = \\Omega^*$, this simplifies to\n",
    "$$\n",
    "\\hat{H}_{\\rm eff} = -\\frac{1}{2}\\hbar \\Delta_q \\sigma^z -\\hbar\\Omega \\sigma^x.\n",
    "$$\n",
    "This shows that when the drive is resonant with the qubit (i.e., $\\Delta_q = 0$), the drive causes an $x$ rotation in the Bloch sphere that is generated by $\\sigma^x$ with a strength of $\\Omega$. We can see the effect of this on-resonant qubit drive in the [finding the frequency of a qubit with spectroscopy](/course/quantum-hardware-pulses/calibrating-qubits-using-qiskit-pulse) section. An off-resonant drive has additional $z$ rotations generated by the $\\sigma^z$ contribution, and these manifest themselves as oscillations in a [Ramsey experiment](/course/quantum-hardware-pulses/calibrating-qubits-using-qiskit-pulse)."
   ]
  }
 ],
 "metadata": {
  "kernelspec": {
   "display_name": "Python 3",
   "language": "python",
   "name": "python3"
  },
  "language_info": {
   "codemirror_mode": {
    "name": "ipython",
    "version": 3
   },
   "file_extension": ".py",
   "mimetype": "text/x-python",
   "name": "python",
   "nbconvert_exporter": "python",
   "pygments_lexer": "ipython3",
   "version": "3.9"
  }
 },
 "nbformat": 4,
 "nbformat_minor": 4
}
