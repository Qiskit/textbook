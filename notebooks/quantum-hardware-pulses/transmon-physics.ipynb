{
 "cells": [
  {
   "cell_type": "markdown",
   "metadata": {
    "tags": [
     "remove_cell"
    ]
   },
   "source": [
    "# Introduction to Transmon Physics"
   ]
  },
  {
   "cell_type": "markdown",
   "metadata": {
    "tags": [
     "contents"
    ]
   },
   "source": [
    "## Contents\n",
    "\n",
    "1. [Multi-level Quantum Systems as Qubits](#mlqsaq)\n",
    "2. [Hamiltonians of Quantum Circuits](#hoqc)\n",
    "3. [Quantizing the Hamiltonian](#qth)\n",
    "4. [The Quantized Transmon](#tqt)\n",
    "5. [Comparison of the Transmon and the Quantum Harmonic Oscillator](#cottatqho)\n",
    "6. [Qubit Drive and the Rotating Wave Approximation](#qdatrwa)"
   ]
  },
  {
   "cell_type": "markdown",
   "metadata": {},
   "source": [
    "## 1. Multi-level Quantum Systems as Qubits <a id='mlqsaq'></a>\n",
    "\n",
    "Studying qubits is fundamentally about learning the physics of two-level systems. One such example of a purely two-level system is the spin of an electron (or any other spin-$1/2$ particle): it can either point up or down, and we label these states $|0\\rangle$ and $|1\\rangle$, respectively. Historically, the reason the $|0\\rangle$ state is at the \"north pole\" of the Bloch sphere is that this is the lower-energy state when a magnetic field is applied in the $+\\hat{z}$ direction.\n",
    "\n",
    "Another such two-level system occurs in the first type of superconducting qubit discovered: the [Cooper Pair Box](https://arxiv.org/pdf/cond-mat/9904003v1.pdf). The reason there is no electrical resistance in superconductors is that electrons combine as Cooper pairs, which take energy to break up (and that energy is not available thermally at low temperatures), because they are effectively attracted to each other. This situation is quite counterintuitive, because electrons are both negatively-charged, they should repel each other! However, in many material systems effective interactions can be mediated by collective effects: one can think of the electrons as being attracted to the wake of other electrons in the lattice of positive charge. The Cooper Pair Box consists of a superconducting island that possesses an extra Cooper pair of charge $2e$ ($|0\\rangle$) or does not ($|1\\rangle$). These states can be manipulated by voltages on tunnel junctions, and is periodic with \"gate\" voltage control, so it is indeed a two-level system. \n",
    "\n",
    "Qubits encoded as charge states are particularly sensitive to *charge noise*, and this is true of the Cooper Pair Box, which is why it fell out of favor with researchers. Many other quantum systems are not two-level systems, such as atoms that each feature unique spectral lines (energy transitions) that are used by astronomers to determine the composition of our universe. By effectively isolating and controlling just two levels, such as the ground and first excited state of an atom, then you could treat it as a qubit. But what about using other types of superconducting circuits as qubits? The solution to the charge noise problem of the Cooper Pair Box hedged on designing a qubit with higher-order energy levels: the [transmon](https://arxiv.org/pdf/cond-mat/0703002.pdf). (The name is derived from *transmission-line shunted plasma oscillation* qubit). By sacrificing anharmonicity (the difference between the $|0\\rangle \\to |1\\rangle$ and $|1\\rangle \\to |2\\rangle$ transition frequencies, see section on [Accessing Higher Energy States](/course/quantum-hardware-pulses/accessing-higher-energy-states-with-qiskit-pulse)), charge noise is suppressed while still allowing the lowest two levels to be addressed as a qubit. Now the quantum states are encoded in oscillations of Cooper Pairs across a tunnel junction between two superconducting islands, with the excited $|1\\rangle$ state oscillating at a high frequency than the ground $|0\\rangle$."
   ]
  },
  {
   "cell_type": "markdown",
   "metadata": {},
   "source": [
    "## 2. Hamiltonians of Quantum Circuits <a id='hoqc'></a>\n",
    "\n",
    "The Hamiltonian is a function that equals the total energy of a system, potential and kinetic. This is true in classical mechanics, and the quantum Hamiltonian is found by promoting the variables to operators. By comparing classical Poisson brackets to quantum commutators, it is found that they do not commute, meaning they cannot be observed simultaneously, as in Heisenberg's uncertainty principle.\n",
    "\n",
    "We'll first consider a linear $LC$ circuit, where $L$ is the inductance and $C$ is the capacitance. The Hamiltonian is the sum of the kinetic energy (represented by charge variable $Q$) and potential energy (represented by flux variable $\\Phi$),\n",
    "$$\n",
    "\\mathcal{H} = \\frac{Q^2}{2C} + \\frac{\\Phi^2}{2L}\n",
    "$$\n",
    "\n",
    "<details>\n",
    "    <summary>Branch-Flux Method for Linear Circuits (click here to expand)</summary>\n",
    "\n",
    "Hamiltonians and Lagrangians are functions involving the energies of massive objects and have a rich history in the dynamics of classical systems. They still serve as a template for \"quantizing\" objects, including the transmon. The method consists of writing the Lagrangian in terms of generalized coordinate: we will choose a quantity called flux that is defined by the history of voltages, classically one often chooses position in 3-dimensional space. The conjugate variable to our generalized coordinate is then calculated, and will end up being charge in our case (usually momentum in the classical case). By way of a Legendre transformation, the Hamiltonian is calculated, which represents the sum of energies of the system.\n",
    "    \n",
    "The circuit Hamiltonian can be found by considering the capacitative and inductive energies using the branch-flux method, which itself is based on classical Lagrangian mechanics. Defining the flux and charge to be time integrals of voltage and current, respectively,\n",
    "$$\n",
    "\\Phi(t) = \\int_{-\\infty}^t V(t')\\,dt' \\quad {\\rm and} \\quad Q(t) = \\int_{-\\infty}^t I(t')\\,dt' \n",
    "$$\n",
    "we will work with flux $\\Phi$ as our generalized coordinate, where $V(t')$ and $I(t')$ are the voltage and current flowing across the transmon at time $t'$. In electric circuits, voltage functions much like potential energy and current like kinetic energy. The instantaneous energy across the transmon at time $t$ is \n",
    "$$\n",
    "E(t) = \\int_{-\\infty}^t V(t') I(t')\\,dt'.\n",
    "$$\n",
    "The voltage and current across a capacitor (with capacitance $C$) and inductor (with inductance $L$), are related to each other by $V=L dI/dt$ and $I = C dV/dt$, respectively. In circuits, capacitors store charge and inductors store flux (current). We will work with the flux as our \"coordinate\" of choice. Then because inductors store flux, the potential energy is represented as\n",
    "$$\n",
    "U_L(t) = \\int_{-\\infty}^t L\\frac{dI(t')}{dt'} I(t')\\, dt' = \\frac{1}{2} LI(t)^2 = \\frac{1}{2L}\\Phi^2\n",
    "\\quad {\\rm because} \\quad\n",
    "\\Phi(t) = \\int_{-\\infty}^t L \\frac{dI(t')}{dt'}\\,dt' = LI(t)\n",
    "$$\n",
    "by integration by parts. Similarly, voltage is the rate of change of flux, so it corresponds to the kinetic energy\n",
    "$$\n",
    "\\tau_C(t) = \\int_{-\\infty}^t C\\frac{dV(t')}{dt'} V(t')\\, dt' = \\frac{1}{2} CV(t)^2 = \\frac{1}{2}C\\dot{\\Phi}^2 \\quad {\\rm where} \\quad \\dot{\\Phi} = \\frac{d\\Phi}{dt}\n",
    "$$\n",
    "is the common way to denote time derivatives in Lagrangian mechanics. The Lagrangian is defined as the difference between the kinetic and potential energies and is thus\n",
    "$$\n",
    "\\mathcal{L} = \\tau_C - U_L = \\frac{1}{2} C \\dot{\\Phi}^2 - \\frac{1}{2L} \\Phi^2. \n",
    "$$\n",
    "The dynamics are determined by the Euler-Lagrange equation\n",
    "$$\n",
    "0 \\equiv \\frac{\\partial\\mathcal{L}}{\\partial\\Phi} - \\frac{d}{dt} \\left(\\frac{\\partial\\mathcal{L}}{\\partial\\dot{\\Phi}}\\right)  \n",
    "= \\frac{\\Phi}{L} + C\\ddot{\\Phi},\n",
    "$$\n",
    "which describes a harmonic oscillator in $\\Phi$ with angular frequency $\\omega = 1/\\sqrt{LC}$ (now two dots corresponds to the second time derivative, $\\ddot{\\Phi} = d^2\\Phi/dt^2$). However, we wish to move to the Hamiltonian framework and quantize from there. While the conjugate coordinate to flux $\\Phi$ is defined by\n",
    "$$\n",
    "\\frac{d\\mathcal{L}}{d\\dot{\\Phi}} = C \\dot{\\Phi} = CV \\equiv Q\n",
    "$$\n",
    "it is exactly the same for charge defined above due to the definition of capacitance. Now, the Hamiltonian is defined in terms of the Lagrangian as $\\mathcal{H} = Q\\dot{\\Phi} - \\mathcal{L}$, and one arrives at the equation above.\n",
    "    \n",
    "    \n",
    "</details>\n",
    "\n",
    "\n"
   ]
  },
  {
   "cell_type": "markdown",
   "metadata": {},
   "source": [
    "## 3. Quantizing the Hamiltonian <a id='qth'></a>\n",
    "\n",
    "The quantum harmonic oscillator (QHO) is what we get when we quantize the Hamiltonian of an $LC$ circuit. Promote the conjugate variables to operators, $Q \\to \\hat{Q}$, $\\Phi \\to \\hat{\\Phi}$, so that the quantized Hamiltonian is\n",
    "$$\n",
    "\\hat{H} = \\frac{\\hat{Q}^2}{2C} + \\frac{\\hat{\\Phi}^2}{2L},\n",
    "$$\n",
    "where the \"hats\" remind us that these are quantum mechanical operators. Then make an association between the Poisson bracket of classical mechanics and the commutator of quantum mechanics via the correspondence\n",
    "$$\n",
    "\\{A,B\\} = \\frac{\\delta A}{\\delta \\Phi} \\frac{\\delta B}{\\delta Q} - \\frac{\\delta B}{\\delta \\Phi} \\frac{\\delta A}{\\delta Q} \\Longleftrightarrow\n",
    "\\frac{1}{i\\hbar} [\\hat{A},\\hat{B}] = \\frac{1}{i\\hbar}\\left(\\hat{A}\\hat{B} - \\hat{B}\\hat{A}\\right),\n",
    "$$\n",
    "where the $\\delta$'s here represent functional derivates and the commutator reflects that the order of operations matter in quantum mechanics. Inserting our variables/operators, we arrive at\n",
    "$$\n",
    "\\{\\Phi,Q\\} = \\frac{\\delta \\Phi}{\\delta \\Phi}\\frac{\\delta Q}{\\delta Q} - \\frac{\\delta Q}{\\delta \\Phi}\\frac{\\delta \\Phi}{\\delta Q} = 1-0=1 \\Longrightarrow [\\hat{\\Phi}, \\hat{Q}] = i\\hbar.\n",
    "$$\n",
    "This implies, that just like position and momentum, charge and flux also obey a Heisenberg Uncertainty Principle ($[\\hat{x},\\hat{p}] = i\\hbar$, as well). This means that they are not simultaneous observables, and are in fact, conjugate variables defined in the same way with the same properties. This result has been used over the history of superconducting qubits to inform design decisions and classify the types of superconducting qubits. \n",
    "\n",
    "The above quantized Hamiltonian is usually written in a friendlier form using the reduced charge $\\hat{n} = \\hat{Q}/2e$ and phase $\\hat{\\phi} = 2\\pi\\hat{\\Phi}/\\Phi_0$, where $\\Phi_0 = h/2e$ is the flux quanta, corresponding to the operators for the number of Cooper pairs and the phase across the Josephson junction, respectively. Then, the quantized Hamiltonian becomes\n",
    "\n",
    "$$ \\hat{H}_{\\rm QHO}= 4E_c\\hat{n}^2 + \\frac{1}{2} E_L \\hat{\\phi}^2,$$\n",
    "\n",
    "where $E_c = e^2/2C$ is the charging energy (the 4 in front corresponds to the fact we're dealing with Cooper pairs, not single electrons) and $E_L = (\\Phi_0/2\\pi)^2/L$ is the inductive energy."
   ]
  },
  {
   "cell_type": "markdown",
   "metadata": {},
   "source": [
    "<details>\n",
    "    <summary>Click to Expand: The Quantum Harmonic Oscillator</summary>\n",
    "\n",
    "The Hamiltonian above represents a simple harmonic oscillator, and taking $\\hat{\\phi}$ as the position variable, then we can define creation and annihilation operators in terms of the zero-point fluctuations of the charge and phase,\n",
    "\n",
    "$$ \\hat{n} = i n_{\\mathrm zpf}(\\hat{a}^\\dagger - \\hat{a}) \\quad \\mathrm{and} \\quad \n",
    "   \\hat{\\phi} = \\phi_{\\mathrm zpf}(\\hat{a}^\\dagger + \\hat{a}), \\qquad \\mathrm{where} \\quad \n",
    "   n_\\mathrm{zpf} = \\left( \\frac{E_L}{32 E_c} \\right)^{1/4} \\quad \\mathrm{and} \\quad\n",
    "   \\phi_{\\mathrm{zpf}} = \\left(\\frac{2E_c}{E_L}\\right)^{1/4}.$$\n",
    "   \n",
    "The Hamiltonian is then that of a harmonic oscillator,\n",
    "\n",
    "$$ H_{\\mathrm{QHO}} = \\hbar \\omega \\left( \\hat{a}^\\dagger \\hat{a} + \\frac{1}{2} \\right) \\qquad \\mathrm{with} \\qquad\n",
    "\\omega = \\sqrt{8 E_L E_c}/\\hbar = 1/\\sqrt{LC}.$$ \n",
    "\n",
    "Here we see that the energy spacing of the QHO corresponds to the classical resonance frequency $\\omega=1/\\sqrt{LC}$ of an $LC$ oscillator.\n",
    "</details>"
   ]
  },
  {
   "cell_type": "markdown",
   "metadata": {},
   "source": [
    "<details>\n",
    "    <summary>Click to Expand: The Branch-Flux Method for Transmons</summary>\n",
    "\n",
    "While the above concerns quantizing a linear circuit, [Vool and Devoret](https://arxiv.org/abs/1610.03438) discuss the branch-flux method for quantizing circuits in general. Basically, this gives us a systematic way of enforcing Kirchhoff's Laws for circuits: the sum of the currents at a node must equal zero and the addition of voltages around any loop must also equal zero. These Kirchhoff Laws give us the equations of motion for the circuit.\n",
    "    \n",
    "There is a very special relationship between the current and flux in Josephson junctions, given by the Josephson relation\n",
    "$$\n",
    "I = I_0 \\sin\\left(2\\pi \\Phi/\\Phi_0\\right)\n",
    "$$\n",
    "where $I_0$ is the maximum current (critical current) that can flow through the junction while maintaining a superconducting state, and $\\Phi_0 = h/2e$ is the flux quantum. Enforcing Kirchhoff's current law, the sum of the Josephson current and the current across the total capacitance $C = C_S + C_J$, where $C_S$ is the shunt capacitor and $C_J$ is the capacitance of the Josephson junction and $C_S \\gg C_J$, must vanish. This gives us an equation of motion\n",
    "$$\n",
    "I_0 \\sin\\left(2\\pi \\Phi/\\Phi_0\\right) + C\\ddot{\\Phi} = 0.\n",
    "$$\n",
    "Unlike the typical situation where the equations of motions are calculated by placing the Lagrangian into the Euler-Lagrange equation as we did in the case of the QHO, here we already have the equation of motion for the variable $\\Phi$. But since we want to quantize the Hamiltonian, we must convert this equation of motion to a Lagrangian and then perform a Legendre transform to find the Hamiltonian. This is achieved by \"integrating\" the equation of motion:\n",
    "$$\n",
    "0 = \\frac{\\partial\\mathcal{L}}{\\partial\\Phi} - \\frac{d}{dt}\\left(\\frac{\\partial\\mathcal{L}}{\\partial\\dot{\\Phi}}\\right) = I_0 \\sin\\left(2\\pi \\Phi/\\Phi_0\\right) + C\\ddot{\\Phi} \\Longrightarrow\n",
    "\\frac{I_0 \\Phi_0}{2\\pi} \\cos\\left(2\\pi \\Phi/\\Phi_0\\right) + \\frac{C\\dot{\\Phi}^2}{2} = \\mathcal{L}\n",
    "$$\n",
    "Now that we have gone \"backward\" to find the Lagrangian, we can continue forward to find the Hamiltonian by finding the conjugate variable $Q = \\partial \\mathcal{L}/\\partial\\dot{\\Phi} = C\\dot{\\Phi}$, which turns out to be  the same as in the QHO case, and \n",
    "$$\n",
    "\\mathcal{H} = Q\\dot{\\Phi} - \\mathcal{L} = \\frac{Q^2}{2C} - \\frac{I_0 \\Phi_0}{2\\pi} \\cos\\left(2\\pi \\Phi/\\Phi_0\\right)\n",
    "$$\n",
    "    </details>"
   ]
  },
  {
   "cell_type": "markdown",
   "metadata": {},
   "source": [
    "## 4. The Quantized Transmon <a id='tqt'></a>\n",
    "\n",
    "Making the same variable substitutions as for the QHO, we can rewrite the transmon Hamiltonian in familiar form\n",
    "$$\n",
    "\\hat{H}_{\\rm tr} = 4E_c \\hat{n}^2 - E_J \\cos \\hat{\\phi},\n",
    "$$\n",
    "where the Josephson energy $E_J = I_0\\Phi_0/2\\pi$ replaces the inductive energy from the QHO. Note that the functional form of the phase is different from the QHO due to the presence of the Josephson junction instead of a linear inductor. Often $\\hat{n} \\to \\hat{n} - n_g$ to reflect a gate offset charge, but this is not important in the transmon regime. Now we can approach the quantization similarly to the QHO, where we define the creation and annihilation operators in terms of the zero-point fluctuations of charge and phase \n",
    "$$ \\hat{n} = i n_{\\mathrm zpf}(\\hat{c}^\\dagger - \\hat{c}) \\quad \\mathrm{and} \\quad \n",
    "   \\hat{\\phi} = \\phi_{\\mathrm zpf}(\\hat{c}^\\dagger + \\hat{c}), \\qquad \\mathrm{where} \\quad \n",
    "   n_\\mathrm{zpf} = \\left( \\frac{E_J}{32 E_c} \\right)^{1/4} \\quad \\mathrm{and} \\quad\n",
    "   \\phi_{\\mathrm{zpf}} = \\left(\\frac{2 E_c}{E_J}\\right)^{1/4},\n",
    "$$\n",
    "where the Josephson energy $E_J$ has replaced the linear inductive energy $E_L$ of the QHO. Here we use $\\hat{c} = \\sum_j \\sqrt{j+1} |j\\rangle\\langle j+1|$ to denote the transmon annihilation operator and distinguish it from the evenly-spaced energy modes of $\\hat{a}$. Now, noting that $\\phi \\ll 1$ because in the transmon regime $E_J/E_c \\gg 1$, we can take a Taylor expansion of $\\cos \\hat{\\phi}$ to approximate the Hamiltonian\n",
    "$$\n",
    "H = -4E_c n_{zpf}^2 (\\hat{c}^\\dagger - \\hat{c})^2 - E_J\\left(1 - \\frac{1}{2} \\phi_{zpf}^2 (\\hat{c}^\\dagger + \\hat{c})^2 + \\frac{1}{24} \\phi_{zpf}^4(\\hat{c}^\\dagger+\\hat{c})^4 + \\ldots \\right) \\\\\n",
    " \\approx \\sqrt{8 E_c E_J} \\left(\\hat{c}^\\dagger \\hat{c} + \\frac{1}{2}\\right) - E_J - \\frac{E_c}{12}(\\hat{c}^\\dagger + \\hat{c})^4,\n",
    "$$\n",
    "where it is helpful to observe $8 E_c n_{\\rm zpf}^2 = E_J\\phi_{zpf}^2 = \\sqrt{2 E_c E_J}$. Expanding the terms of the transmon operator $\\hat{c}$ and dropping the fast-rotating terms (i.e. those with an uneven number of $\\hat{c}$ and $\\hat{c}^\\dagger$), neglecting constants that have no influence on transmon dynamics, and defining $\\omega_0 = \\sqrt{8 E_c E_J}$ and identifying $\\delta = -E_c$ as the transmon anharmonicity, we have\n",
    "$$\n",
    "\\hat{H}_{\\rm tr} = \\omega_0 \\hat{c}^\\dagger \\hat{c} + \\frac{\\delta}{2}\\left((\\hat{c}^\\dagger \\hat{c})^2 + \\hat{c}^\\dagger \\hat{c}\\right)\n",
    "= \\left(\\omega_0 + \\frac{\\delta}{2}\\right) \\hat{c}^\\dagger \\hat{c} + \\frac{\\delta}{2}(\\hat{c}^\\dagger \\hat{c})^2\n",
    "$$\n",
    "which is the Hamiltonian of a Duffing oscillator. Defining $\\omega \\equiv \\omega_0+\\delta$, we see that the transmon levels have energy spacings that each differ by the anharmonicity, as $\\omega_{j+1}-\\omega_j = \\omega + \\delta j$, so that $\\omega$ corresponds to \"the frequency\" of the transmon qubit (the transition $\\omega_1-\\omega_0$). From the definition of the transmon operator, $\\hat{c}^\\dagger \\hat{c} = \\sum_j j |j\\rangle \\langle j|$, we arrive at\n",
    "$$\n",
    "\\hat{H}_{\\rm tr} = \\omega \\hat{c}^\\dagger \\hat{c} + \\frac{\\delta}{2} \\hat{c}^\\dagger \\hat{c} (\\hat{c}^\\dagger \\hat{c} - 1)\n",
    " = \\sum_j \\left(\\left(\\omega-\\frac{\\delta}{2}\\right)j + \\frac{\\delta}{2} j^2\\right) |j\\rangle\\langle j| \\equiv \\sum_j \\omega_j |j\\rangle \\langle j|\n",
    "$$\n",
    "so that\n",
    "$$\n",
    "\\omega_j = \\left(\\omega-\\frac{\\delta}{2}\\right)j + \\frac{\\delta}{2} j^2\n",
    "$$\n",
    "are the energy levels of the transmon."
   ]
  },
  {
   "cell_type": "markdown",
   "metadata": {},
   "source": [
    "## 5. Comparison of the Transmon and the Quantum Harmonic Oscillator<a id='cottatqho'></a>\n",
    "\n",
    "The QHO has even-spaced energy levels and the transmon does not, which is why we can use it as a qubit. Here we show the difference in energy levels by calculating them from their Hamiltonians using [`QuTiP`](http://www.qutip.org). "
   ]
  },
  {
   "cell_type": "code",
   "execution_count": 1,
   "metadata": {},
   "outputs": [],
   "source": [
    "import numpy as np\n",
    "import matplotlib.pyplot as plt\n",
    "\n",
    "E_J = 20e9\n",
    "w = 5e9\n",
    "anharm = -300e6\n",
    "\n",
    "N_phis = 101\n",
    "phis = np.linspace(-np.pi,np.pi,N_phis)\n",
    "mid_idx = int((N_phis+1)/2)\n",
    "\n",
    "# potential energies of the QHO & transmon\n",
    "U_QHO = 0.5*E_J*phis**2\n",
    "U_QHO = U_QHO/w\n",
    "U_transmon = (E_J-E_J*np.cos(phis))\n",
    "U_transmon = U_transmon/w"
   ]
  },
  {
   "cell_type": "code",
   "execution_count": 2,
   "metadata": {},
   "outputs": [],
   "source": [
    "# import QuTiP, construct Hamiltonians, and solve for energies\n",
    "\n",
    "from qutip import destroy\n",
    "N = 35\n",
    "N_energies = 5\n",
    "c = destroy(N)\n",
    "H_QHO = w*c.dag()*c\n",
    "E_QHO = H_QHO.eigenenergies()[0:N_energies]\n",
    "H_transmon = w*c.dag()*c + (anharm/2)*(c.dag()*c)*(c.dag()*c - 1)\n",
    "E_transmon = H_transmon.eigenenergies()[0:2*N_energies]"
   ]
  },
  {
   "cell_type": "code",
   "execution_count": 3,
   "metadata": {},
   "outputs": [
    {
     "name": "stdout",
     "output_type": "stream",
     "text": [
      "[0.0e+00 5.0e+09 1.0e+10 1.5e+10]\n",
      "[0.00e+00 1.70e+09 5.00e+09 6.60e+09 9.70e+09 1.12e+10 1.41e+10 1.55e+10]\n"
     ]
    }
   ],
   "source": [
    "print(E_QHO[:4])\n",
    "print(E_transmon[:8])"
   ]
  },
  {
   "cell_type": "code",
   "execution_count": 4,
   "metadata": {},
   "outputs": [
    {
     "data": {
      "text/plain": [
       "<matplotlib.legend.Legend at 0x7fd009c03f10>"
      ]
     },
     "execution_count": 4,
     "metadata": {},
     "output_type": "execute_result"
    },
    {
     "data": {
      "image/svg+xml": [
       "<?xml version=\"1.0\" encoding=\"UTF-8\"?><!DOCTYPE svg  PUBLIC '-//W3C//DTD SVG 1.1//EN'  'http://www.w3.org/Graphics/SVG/1.1/DTD/svg11.dtd'><svg width=\"389.84pt\" height=\"388.32pt\" version=\"1.1\" viewBox=\"0 0 389.84 388.32\" xmlns=\"http://www.w3.org/2000/svg\" xmlns:xlink=\"http://www.w3.org/1999/xlink\"><defs><style type=\"text/css\">*{stroke-linecap:butt;stroke-linejoin:round;}</style></defs><path d=\"m0 388.32h389.84v-388.32h-389.84z\" fill=\"none\"/><path d=\"m47.842 337.16h334.8v-326.16h-334.8z\" fill=\"#ffffff\"/><defs><path id=\"m4a575a1776\" d=\"m0 0v3.5\" stroke=\"#000000\" stroke-width=\".8\"/></defs><use x=\"69.919568\" y=\"337.159219\" stroke=\"#000000\" stroke-width=\".8\" xlink:href=\"#m4a575a1776\"/><defs><path id=\"DejaVuSans-8722\" d=\"m10.594 35.5h62.594v-8.2969h-62.594z\"/><path id=\"DejaVuSans-51\" d=\"m40.578 39.312q7.0781-1.5156 11.047-6.3125 3.9844-4.7812 3.9844-11.812 0-10.781-7.4219-16.703-7.4219-5.9062-21.094-5.9062-4.5781 0-9.4375 0.90625t-10.031 2.7188v9.5156q4.0938-2.3906 8.9688-3.6094 4.8906-1.2188 10.219-1.2188 9.2656 0 14.125 3.6562t4.8594 10.641q0 6.4531-4.5156 10.078-4.5156 3.6406-12.562 3.6406h-8.5v8.1094h8.8906q7.2656 0 11.125 2.9062t3.8594 8.375q0 5.6094-3.9844 8.6094-3.9688 3.0156-11.391 3.0156-4.0625 0-8.7031-0.89062-4.6406-0.875-10.203-2.7188v8.7812q5.625 1.5625 10.531 2.3438t9.25 0.78125q11.234 0 17.766-5.1094 6.5469-5.0938 6.5469-13.781 0-6.0625-3.4688-10.234t-9.8594-5.7812z\"/></defs><g transform=\"translate(62.548 351.76) scale(.1 -.1)\"><use xlink:href=\"#DejaVuSans-8722\"/><use x=\"83.789062\" xlink:href=\"#DejaVuSans-51\"/></g><use x=\"118.360546\" y=\"337.159219\" stroke=\"#000000\" stroke-width=\".8\" xlink:href=\"#m4a575a1776\"/><defs><path id=\"DejaVuSans-50\" d=\"m19.188 8.2969h34.422v-8.2969h-46.281v8.2969q5.6094 5.8125 15.297 15.594 9.7031 9.7969 12.188 12.641 4.7344 5.3125 6.6094 9 1.8906 3.6875 1.8906 7.25 0 5.8125-4.0781 9.4688-4.0781 3.6719-10.625 3.6719-4.6406 0-9.7969-1.6094-5.1406-1.6094-11-4.8906v9.9688q5.9531 2.3906 11.125 3.6094 5.1875 1.2188 9.4844 1.2188 11.328 0 18.062-5.6719 6.7344-5.6562 6.7344-15.125 0-4.5-1.6875-8.5312-1.6719-4.0156-6.125-9.4844-1.2188-1.4219-7.7656-8.1875-6.5312-6.7656-18.453-18.922z\"/></defs><g transform=\"translate(110.99 351.76) scale(.1 -.1)\"><use xlink:href=\"#DejaVuSans-8722\"/><use x=\"83.789062\" xlink:href=\"#DejaVuSans-50\"/></g><use x=\"166.801523\" y=\"337.159219\" stroke=\"#000000\" stroke-width=\".8\" xlink:href=\"#m4a575a1776\"/><defs><path id=\"DejaVuSans-49\" d=\"m12.406 8.2969h16.109v55.625l-17.531-3.5156v8.9844l17.438 3.5156h9.8594v-64.609h16.109v-8.2969h-41.984z\"/></defs><g transform=\"translate(159.43 351.76) scale(.1 -.1)\"><use xlink:href=\"#DejaVuSans-8722\"/><use x=\"83.789062\" xlink:href=\"#DejaVuSans-49\"/></g><use x=\"215.2425\" y=\"337.159219\" stroke=\"#000000\" stroke-width=\".8\" xlink:href=\"#m4a575a1776\"/><defs><path id=\"DejaVuSans-48\" d=\"m31.781 66.406q-7.6094 0-11.453-7.5-3.8281-7.4844-3.8281-22.531 0-14.984 3.8281-22.484 3.8438-7.5 11.453-7.5 7.6719 0 11.5 7.5 3.8438 7.5 3.8438 22.484 0 15.047-3.8438 22.531-3.8281 7.5-11.5 7.5zm0 7.8125q12.266 0 18.734-9.7031 6.4688-9.6875 6.4688-28.141 0-18.406-6.4688-28.109-6.4688-9.6875-18.734-9.6875-12.25 0-18.719 9.6875-6.4688 9.7031-6.4688 28.109 0 18.453 6.4688 28.141 6.4688 9.7031 18.719 9.7031z\"/></defs><g transform=\"translate(212.06 351.76) scale(.1 -.1)\"><use xlink:href=\"#DejaVuSans-48\"/></g><use x=\"263.683477\" y=\"337.159219\" stroke=\"#000000\" stroke-width=\".8\" xlink:href=\"#m4a575a1776\"/><g transform=\"translate(260.5 351.76) scale(.1 -.1)\"><use xlink:href=\"#DejaVuSans-49\"/></g><use x=\"312.124454\" y=\"337.159219\" stroke=\"#000000\" stroke-width=\".8\" xlink:href=\"#m4a575a1776\"/><g transform=\"translate(308.94 351.76) scale(.1 -.1)\"><use xlink:href=\"#DejaVuSans-50\"/></g><use x=\"360.565432\" y=\"337.159219\" stroke=\"#000000\" stroke-width=\".8\" xlink:href=\"#m4a575a1776\"/><g transform=\"translate(357.38 351.76) scale(.1 -.1)\"><use xlink:href=\"#DejaVuSans-51\"/></g><defs><path id=\"DejaVuSans-80\" d=\"m19.672 64.797v-27.391h12.406q6.8906 0 10.641 3.5625 3.7656 3.5625 3.7656 10.156 0 6.5469-3.7656 10.109-3.75 3.5625-10.641 3.5625zm-9.8594 8.1094h22.266q12.266 0 18.531-5.5469 6.2812-5.5469 6.2812-16.234 0-10.797-6.2812-16.312-6.2656-5.5156-18.531-5.5156h-12.406v-29.297h-9.8594z\"/><path id=\"DejaVuSans-104\" d=\"m54.891 33.016v-33.016h-8.9844v32.719q0 7.7656-3.0312 11.609-3.0312 3.8594-9.0781 3.8594-7.2812 0-11.484-4.6406-4.2031-4.625-4.2031-12.641v-30.906h-9.0312v75.984h9.0312v-29.797q3.2344 4.9375 7.5938 7.375 4.375 2.4375 10.094 2.4375 9.4219 0 14.25-5.8281 4.8438-5.8281 4.8438-17.156z\"/><path id=\"DejaVuSans-97\" d=\"m34.281 27.484q-10.891 0-15.094-2.4844t-4.2031-8.5q0-4.7812 3.1562-7.5938 3.1562-2.7969 8.5625-2.7969 7.4844 0 12 5.2969t4.5156 14.078v2zm17.922 3.7188v-31.203h-8.9844v8.2969q-3.0781-4.9688-7.6719-7.3438t-11.234-2.375q-8.3906 0-13.359 4.7188-4.9531 4.7188-4.9531 12.625 0 9.2188 6.1719 13.906 6.1875 4.6875 18.438 4.6875h12.609v0.89062q0 6.2031-4.0781 9.5938t-11.453 3.3906q-4.6875 0-9.1406-1.125-4.4375-1.125-8.5312-3.375v8.3125q4.9219 1.9062 9.5625 2.8438 4.6406 0.95312 9.0312 0.95312 11.875 0 17.734-6.1562 5.8594-6.1406 5.8594-18.641z\"/><path id=\"DejaVuSans-115\" d=\"m44.281 53.078v-8.5q-3.7969 1.9531-7.9062 2.9219-4.0938 0.98438-8.5 0.98438-6.6875 0-10.031-2.0469t-3.3438-6.1562q0-3.125 2.3906-4.9062t9.625-3.3906l3.0781-0.6875q9.5625-2.0469 13.594-5.7812t4.0312-10.422q0-7.625-6.0312-12.078-6.0312-4.4375-16.578-4.4375-4.3906 0-9.1562 0.85938t-10.031 2.5625v9.2812q4.9844-2.5938 9.8125-3.8906 4.8281-1.2812 9.5781-1.2812 6.3438 0 9.75 2.1719 3.4219 2.1719 3.4219 6.125 0 3.6562-2.4688 5.6094-2.4531 1.9531-10.812 3.7656l-3.125 0.73438q-8.3438 1.75-12.062 5.3906-3.7031 3.6406-3.7031 9.9844 0 7.7188 5.4688 11.906 5.4688 4.2031 15.531 4.2031 4.9688 0 9.3594-0.73438 4.4062-0.71875 8.1094-2.1875z\"/><path id=\"DejaVuSans-101\" d=\"m56.203 29.594v-4.3906h-41.312q0.59375-9.2812 5.5938-14.141t13.938-4.8594q5.1719 0 10.031 1.2656t9.6562 3.8125v-8.5q-4.8438-2.0469-9.9219-3.125t-10.297-1.0781q-13.094 0-20.734 7.6094-7.6406 7.625-7.6406 20.625 0 13.422 7.25 21.297 7.25 7.8906 19.562 7.8906 11.031 0 17.453-7.1094 6.4219-7.0938 6.4219-19.297zm-8.9844 2.6406q-0.09375 7.3594-4.125 11.75-4.0312 4.4062-10.672 4.4062-7.5156 0-12.031-4.25t-5.2031-11.969z\"/><path id=\"DejaVuSans-Oblique-981\" d=\"m46.734 75.984-3.9531-20.172q9.7656 0 14.781-7.4688 5.1875-7.625 2.5938-21.047-2.6406-13.422-10.797-21.047-7.9062-7.4688-17.672-7.4688l-3.8125-19.578h-8.9219l3.7969 19.578q-9.7188 0-14.797 7.4688-5.1719 7.625-2.5312 21.047 2.5938 13.422 10.734 21.047 7.9688 7.4688 17.688 7.4688l3.9531 20.172zm-13.484-69.203q5.5156 0 10.25 5.0312 5.1875 5.625 7.1875 15.484 1.9531 9.7656-1.1719 15.484-2.7812 5.0156-8.2969 5.0156zm-8.9375 0 7.9688 41.016q-5.4688 0-10.203-5.0156-5.3281-5.7188-7.1875-15.484-1.8594-9.8594 1.1719-15.484 2.7344-5.0312 8.25-5.0312z\"/></defs><g transform=\"translate(167.6 376.08) scale(.24 -.24)\"><use transform=\"translate(0 .015625)\" xlink:href=\"#DejaVuSans-80\"/><use transform=\"translate(60.303 .015625)\" xlink:href=\"#DejaVuSans-104\"/><use transform=\"translate(123.68 .015625)\" xlink:href=\"#DejaVuSans-97\"/><use transform=\"translate(184.96 .015625)\" xlink:href=\"#DejaVuSans-115\"/><use transform=\"translate(237.06 .015625)\" xlink:href=\"#DejaVuSans-101\"/><use transform=\"translate(298.58 .015625)\" xlink:href=\"#DejaVuSans-32\"/><use transform=\"translate(330.37 .015625)\" xlink:href=\"#DejaVuSans-Oblique-981\"/></g><defs><path id=\"ma440fef69b\" d=\"m0 0h-3.5\" stroke=\"#000000\" stroke-width=\".8\"/></defs><use x=\"47.8425\" y=\"324.614603\" stroke=\"#000000\" stroke-width=\".8\" xlink:href=\"#ma440fef69b\"/><g transform=\"translate(34.48 328.41) scale(.1 -.1)\"><use xlink:href=\"#DejaVuSans-48\"/></g><use x=\"47.8425\" y=\"261.891526\" stroke=\"#000000\" stroke-width=\".8\" xlink:href=\"#ma440fef69b\"/><g transform=\"translate(34.48 265.69) scale(.1 -.1)\"><use xlink:href=\"#DejaVuSans-49\"/></g><use x=\"47.8425\" y=\"199.16845\" stroke=\"#000000\" stroke-width=\".8\" xlink:href=\"#ma440fef69b\"/><g transform=\"translate(34.48 202.97) scale(.1 -.1)\"><use xlink:href=\"#DejaVuSans-50\"/></g><use x=\"47.8425\" y=\"136.445373\" stroke=\"#000000\" stroke-width=\".8\" xlink:href=\"#ma440fef69b\"/><g transform=\"translate(34.48 140.24) scale(.1 -.1)\"><use xlink:href=\"#DejaVuSans-51\"/></g><use x=\"47.8425\" y=\"73.722296\" stroke=\"#000000\" stroke-width=\".8\" xlink:href=\"#ma440fef69b\"/><defs><path id=\"DejaVuSans-52\" d=\"m37.797 64.312-24.906-38.922h24.906zm-2.5938 8.5938h12.406v-47.516h10.406v-8.2031h-10.406v-17.188h-9.8125v17.188h-32.906v9.5156z\"/></defs><g transform=\"translate(34.48 77.522) scale(.1 -.1)\"><use xlink:href=\"#DejaVuSans-52\"/></g><use x=\"47.8425\" y=\"10.999219\" stroke=\"#000000\" stroke-width=\".8\" xlink:href=\"#ma440fef69b\"/><defs><path id=\"DejaVuSans-53\" d=\"m10.797 72.906h38.719v-8.3125h-29.688v-17.859q2.1406 0.73438 4.2812 1.0938 2.1562 0.35938 4.3125 0.35938 12.203 0 19.328-6.6875 7.1406-6.6875 7.1406-18.109 0-11.766-7.3281-18.297-7.3281-6.5156-20.656-6.5156-4.5938 0-9.3594 0.78125-4.75 0.78125-9.8281 2.3438v9.9219q4.3906-2.3906 9.0781-3.5625t9.9062-1.1719q8.4531 0 13.375 4.4375 4.9375 4.4375 4.9375 12.062 0 7.6094-4.9375 12.047-4.9219 4.4531-13.375 4.4531-3.9531 0-7.8906-0.875-3.9219-0.875-8.0156-2.7344z\"/></defs><g transform=\"translate(34.48 14.798) scale(.1 -.1)\"><use xlink:href=\"#DejaVuSans-53\"/></g><defs><path id=\"DejaVuSans-69\" d=\"m9.8125 72.906h46.094v-8.3125h-36.234v-21.578h34.719v-8.2969h-34.719v-26.422h37.109v-8.2969h-46.969z\"/><path id=\"DejaVuSans-110\" d=\"m54.891 33.016v-33.016h-8.9844v32.719q0 7.7656-3.0312 11.609-3.0312 3.8594-9.0781 3.8594-7.2812 0-11.484-4.6406-4.2031-4.625-4.2031-12.641v-30.906h-9.0312v54.688h9.0312v-8.5q3.2344 4.9375 7.5938 7.375 4.375 2.4375 10.094 2.4375 9.4219 0 14.25-5.8281 4.8438-5.8281 4.8438-17.156z\"/><path id=\"DejaVuSans-114\" d=\"m41.109 46.297q-1.5156 0.875-3.2969 1.2812-1.7812 0.42188-3.9219 0.42188-7.625 0-11.703-4.9531t-4.0781-14.234v-28.812h-9.0312v54.688h9.0312v-8.5q2.8438 4.9844 7.375 7.3906 4.5469 2.4219 11.047 2.4219 0.92188 0 2.0469-0.125 1.125-0.10938 2.4844-0.35938z\"/><path id=\"DejaVuSans-103\" d=\"m45.406 27.984q0 9.7656-4.0312 15.125-4.0156 5.375-11.297 5.375-7.2188 0-11.25-5.375-4.0312-5.3594-4.0312-15.125 0-9.7188 4.0312-15.094t11.25-5.375q7.2812 0 11.297 5.375 4.0312 5.375 4.0312 15.094zm8.9844-21.203q0-13.953-6.2031-20.766-6.1875-6.8125-18.984-6.8125-4.7344 0-8.9375 0.70312t-8.1562 2.1719v8.7344q3.9531-2.1406 7.8125-3.1562 3.8594-1.0312 7.8594-1.0312 8.8438 0 13.234 4.6094t4.3906 13.938v4.4531q-2.7812-4.8438-7.125-7.2344t-10.406-2.3906q-10.047 0-16.203 7.6562-6.1562 7.6719-6.1562 20.328 0 12.688 6.1562 20.344 6.1562 7.6719 16.203 7.6719 6.0625 0 10.406-2.3906t7.125-7.2188v8.2969h8.9844z\"/><path id=\"DejaVuSans-121\" d=\"m32.172-5.0781q-3.7969-9.7656-7.4219-12.734-3.6094-2.9844-9.6562-2.9844h-7.1875v7.5156h5.2812q3.7031 0 5.75 1.7656 2.0625 1.75 4.5469 8.2969l1.6094 4.0938-22.109 53.812h9.5156l17.094-42.766 17.094 42.766h9.5156z\"/><path id=\"DejaVuSans-76\" d=\"m9.8125 72.906h9.8594v-64.609h35.5v-8.2969h-45.359z\"/><path id=\"DejaVuSans-118\" d=\"m2.9844 54.688h9.5156l17.094-45.891 17.094 45.891h9.5156l-20.516-54.688h-12.203z\"/><path id=\"DejaVuSans-108\" d=\"m9.4219 75.984h8.9844v-75.984h-8.9844z\"/><path id=\"DejaVuSans-47\" d=\"m25.391 72.906h8.2969l-25.391-82.188h-8.2969z\"/><path id=\"DejaVuSans-Oblique-295\" d=\"m56.781 33.016-6.3906-33.016h-8.9844l6.3438 32.719q0.59375 3.0781 0.59375 5.5625 0 3.7188-1.375 6.0625-2.2344 3.8438-8.2969 3.8438-7.2812 0-12.406-4.625-5.0781-4.6406-6.6406-12.656l-6-30.906h-9.0312l12.062 62.016h-6.1094l1.5625 8h6.1094l1.125 5.9688h9.0312l-1.125-5.9688h17.188l-1.5625-8h-17.188l-3.0781-15.828q4.1562 4.9375 9.0312 7.375 4.7812 2.4375 10.547 2.4375 9.375 0 13.094-5.7969 2.3438-3.7188 2.3438-9.4844 0-3.5156-0.84375-7.7031z\"/><path id=\"DejaVuSans-Oblique-969\" d=\"m21.391-1.4219q-20.266 0-14.609 29.016 2.2031 11.469 12.844 27.094h9.6719q-10.062-15.625-12.297-27.344-4.2031-21.141 6.7344-21.141 10.109 0 14.984 26.266h8.2969q-5.3125-26.406 4.7969-26.266 10.891 0.09375 14.984 21.141 2.25 11.719-1.6562 27.344h9.6719q4.4844-15.625 2.2812-27.094-5.5625-29.062-25.875-29.016-13.281 0.046875-12.109 14.609-4.8281-14.609-17.719-14.609z\"/></defs><g transform=\"translate(25.44 288.32) rotate(-90) scale(.24 -.24)\"><use transform=\"translate(0 .015625)\" xlink:href=\"#DejaVuSans-69\"/><use transform=\"translate(63.184 .015625)\" xlink:href=\"#DejaVuSans-110\"/><use transform=\"translate(126.56 .015625)\" xlink:href=\"#DejaVuSans-101\"/><use transform=\"translate(188.09 .015625)\" xlink:href=\"#DejaVuSans-114\"/><use transform=\"translate(229.2 .015625)\" xlink:href=\"#DejaVuSans-103\"/><use transform=\"translate(292.68 .015625)\" xlink:href=\"#DejaVuSans-121\"/><use transform=\"translate(351.86 .015625)\" xlink:href=\"#DejaVuSans-32\"/><use transform=\"translate(383.64 .015625)\" xlink:href=\"#DejaVuSans-76\"/><use transform=\"translate(439.36 .015625)\" xlink:href=\"#DejaVuSans-101\"/><use transform=\"translate(500.88 .015625)\" xlink:href=\"#DejaVuSans-118\"/><use transform=\"translate(560.06 .015625)\" xlink:href=\"#DejaVuSans-101\"/><use transform=\"translate(621.58 .015625)\" xlink:href=\"#DejaVuSans-108\"/><use transform=\"translate(649.37 .015625)\" xlink:href=\"#DejaVuSans-115\"/><use transform=\"translate(701.46 .015625)\" xlink:href=\"#DejaVuSans-32\"/><use transform=\"translate(733.25 .015625)\" xlink:href=\"#DejaVuSans-47\"/><use transform=\"translate(766.94 .015625)\" xlink:href=\"#DejaVuSans-32\"/><use transform=\"translate(798.73 .015625)\" xlink:href=\"#DejaVuSans-Oblique-295\"/><use transform=\"translate(868.21 .015625)\" xlink:href=\"#DejaVuSans-Oblique-969\"/></g><path d=\"m124.5-1 2.479 12.328 3.0436 15.382 3.0436 15.567 3.0436 15.691 6.0873 31.507 3.0436 15.691 3.0436 15.567 3.0436 15.382 3.0436 15.136 3.0436 14.83 3.0436 14.465 3.0436 14.044 3.0436 13.567 3.0436 13.036 3.0436 12.454 3.0436 11.823 3.0436 11.145 3.0436 10.423 3.0436 9.6603 3.0436 8.8592 3.0436 8.0232 3.0436 7.1555 3.0436 6.2596 3.0436 5.339 3.0436 4.3973 3.0436 3.4383 3.0436 2.4656 3.0436 1.4833 3.0436 0.49508 3.0436-0.49508 3.0436-1.4833 3.0436-2.4656 3.0436-3.4383 3.0436-4.3973 3.0436-5.339 3.0436-6.2596 3.0436-7.1555 3.0436-8.0232 3.0436-8.8592 3.0436-9.6603 3.0436-10.423 3.0436-11.145 3.0436-11.823 3.0436-12.454 3.0436-13.036 3.0436-13.567 3.0436-14.044 3.0436-14.465 3.0436-14.83 3.0436-15.136 3.0436-15.382 3.0436-15.567 3.0436-15.691 6.0873-31.507 3.0436-15.691 3.0436-15.567 3.0436-15.382 2.479-12.328\" clip-path=\"url(#p0e4fc58300)\" fill=\"none\" stroke=\"#ffa500\" stroke-linecap=\"square\" stroke-width=\"3\"/><path d=\"m137.21-1 1.9388 16.089 3.0436 24.267 3.0436 23.276 3.0436 22.286 3.0436 21.295 3.0436 20.305 3.0436 19.314 3.0436 18.324 3.0436 17.333 3.0436 16.343 3.0436 15.352 3.0436 14.362 3.0436 13.372 3.0436 12.381 3.0436 11.391 3.0436 10.4 3.0436 9.4096 3.0436 8.4191 3.0436 7.4286 3.0436 6.4381 3.0436 5.4477 3.0436 4.4572 3.0436 3.4667 3.0436 2.4762 3.0436 1.4857 3.0436 0.49524 3.0436-0.49524 3.0436-1.4857 3.0436-2.4762 3.0436-3.4667 3.0436-4.4572 3.0436-5.4477 3.0436-6.4381 3.0436-7.4286 3.0436-8.4191 3.0436-9.4096 3.0436-10.4 3.0436-11.391 3.0436-12.381 3.0436-13.372 3.0436-14.362 3.0436-15.352 3.0436-16.343 3.0436-17.333 3.0436-18.324 3.0436-19.314 3.0436-20.305 3.0436-21.295 3.0436-22.286 3.0436-23.276 3.0436-24.267 1.9388-16.089\" clip-path=\"url(#p0e4fc58300)\" fill=\"none\" stroke=\"#0000ff\" stroke-dasharray=\"11.1,4.8\" stroke-width=\"3\"/><path d=\"m181.76 261.89h66.96\" clip-path=\"url(#p0e4fc58300)\" fill=\"none\" stroke=\"#ffa500\" stroke-linecap=\"square\" stroke-width=\"3\"/><path d=\"m181.76 261.89h66.96\" clip-path=\"url(#p0e4fc58300)\" fill=\"none\" stroke=\"#0000ff\" stroke-dasharray=\"11.1,4.8\" stroke-width=\"3\"/><path d=\"m166.54 202.93h97.396\" clip-path=\"url(#p0e4fc58300)\" fill=\"none\" stroke=\"#ffa500\" stroke-linecap=\"square\" stroke-width=\"3\"/><path d=\"m169.59 199.17h91.309\" clip-path=\"url(#p0e4fc58300)\" fill=\"none\" stroke=\"#0000ff\" stroke-dasharray=\"11.1,4.8\" stroke-width=\"3\"/><path d=\"m154.37 147.74h121.75\" clip-path=\"url(#p0e4fc58300)\" fill=\"none\" stroke=\"#ffa500\" stroke-linecap=\"square\" stroke-width=\"3\"/><path d=\"m157.41 136.45h115.66\" clip-path=\"url(#p0e4fc58300)\" fill=\"none\" stroke=\"#0000ff\" stroke-dasharray=\"11.1,4.8\" stroke-width=\"3\"/><path d=\"m145.24 96.303h140.01\" clip-path=\"url(#p0e4fc58300)\" fill=\"none\" stroke=\"#ffa500\" stroke-linecap=\"square\" stroke-width=\"3\"/><path d=\"m148.28 73.722h133.92\" clip-path=\"url(#p0e4fc58300)\" fill=\"none\" stroke=\"#0000ff\" stroke-dasharray=\"11.1,4.8\" stroke-width=\"3\"/><path d=\"m47.842 337.16v-326.16\" fill=\"none\" stroke=\"#000000\" stroke-linecap=\"square\" stroke-width=\".8\"/><path d=\"m382.64 337.16v-326.16\" fill=\"none\" stroke=\"#000000\" stroke-linecap=\"square\" stroke-width=\".8\"/><path d=\"m47.842 337.16h334.8\" fill=\"none\" stroke=\"#000000\" stroke-linecap=\"square\" stroke-width=\".8\"/><path d=\"m47.842 10.999h334.8\" fill=\"none\" stroke=\"#000000\" stroke-linecap=\"square\" stroke-width=\".8\"/><path d=\"m57.642 63.298h177.84q2.8 0 2.8-2.8v-39.699q0-2.8-2.8-2.8h-177.84q-2.8 0-2.8 2.8v39.699q0 2.8 2.8 2.8z\" fill=\"#ffffff\" opacity=\".8\" stroke=\"#cccccc\"/><path d=\"m60.442 29.337h28\" fill=\"none\" stroke=\"#ffa500\" stroke-linecap=\"square\" stroke-width=\"3\"/><defs><path id=\"DejaVuSans-84\" d=\"m-0.29688 72.906h61.672v-8.3125h-25.875v-64.594h-9.9062v64.594h-25.891z\"/><path id=\"DejaVuSans-109\" d=\"m52 44.188q3.375 6.0625 8.0625 8.9375t11.031 2.875q8.5469 0 13.188-5.9844 4.6406-5.9688 4.6406-17v-33.016h-9.0312v32.719q0 7.8594-2.7969 11.656-2.7812 3.8125-8.4844 3.8125-6.9844 0-11.047-4.6406-4.0469-4.625-4.0469-12.641v-30.906h-9.0312v32.719q0 7.9062-2.7812 11.688t-8.5938 3.7812q-6.8906 0-10.953-4.6562-4.0469-4.6562-4.0469-12.625v-30.906h-9.0312v54.688h9.0312v-8.5q3.0781 5.0312 7.375 7.4219t10.203 2.3906q5.9688 0 10.141-3.0312 4.1719-3.0156 6.1719-8.7812z\"/><path id=\"DejaVuSans-111\" d=\"m30.609 48.391q-7.2188 0-11.422-5.6406t-4.2031-15.453 4.1719-15.453q4.1875-5.6406 11.453-5.6406 7.1875 0 11.375 5.6562 4.2031 5.6719 4.2031 15.438 0 9.7188-4.2031 15.406-4.1875 5.6875-11.375 5.6875zm0 7.6094q11.719 0 18.406-7.625 6.7031-7.6094 6.7031-21.078 0-13.422-6.7031-21.078-6.6875-7.6406-18.406-7.6406-11.766 0-18.438 7.6406-6.6562 7.6562-6.6562 21.078 0 13.469 6.6562 21.078 6.6719 7.625 18.438 7.625z\"/><path id=\"DejaVuSans-105\" d=\"m9.4219 54.688h8.9844v-54.688h-8.9844zm0 21.297h8.9844v-11.391h-8.9844z\"/></defs><g transform=\"translate(99.642 34.237) scale(.14 -.14)\"><use xlink:href=\"#DejaVuSans-84\"/><use x=\"46.333984\" xlink:href=\"#DejaVuSans-114\"/><use x=\"87.447266\" xlink:href=\"#DejaVuSans-97\"/><use x=\"148.726562\" xlink:href=\"#DejaVuSans-110\"/><use x=\"212.105469\" xlink:href=\"#DejaVuSans-115\"/><use x=\"264.205078\" xlink:href=\"#DejaVuSans-109\"/><use x=\"361.617188\" xlink:href=\"#DejaVuSans-111\"/><use x=\"422.798828\" xlink:href=\"#DejaVuSans-110\"/><use x=\"486.177734\" xlink:href=\"#DejaVuSans-32\"/><use x=\"517.964844\" xlink:href=\"#DejaVuSans-69\"/><use x=\"581.148438\" xlink:href=\"#DejaVuSans-110\"/><use x=\"644.527344\" xlink:href=\"#DejaVuSans-101\"/><use x=\"706.050781\" xlink:href=\"#DejaVuSans-114\"/><use x=\"745.414062\" xlink:href=\"#DejaVuSans-103\"/><use x=\"808.890625\" xlink:href=\"#DejaVuSans-105\"/><use x=\"836.673828\" xlink:href=\"#DejaVuSans-101\"/><use x=\"898.197266\" xlink:href=\"#DejaVuSans-115\"/></g><path d=\"m60.442 49.886h28\" fill=\"none\" stroke=\"#0000ff\" stroke-dasharray=\"11.1,4.8\" stroke-width=\"3\"/><defs><path id=\"DejaVuSans-81\" d=\"m39.406 66.219q-10.75 0-17.078-8.0156-6.3125-8-6.3125-21.828 0-13.766 6.3125-21.781 6.3281-8 17.078-8 10.734 0 17.016 8 6.2812 8.0156 6.2812 21.781 0 13.828-6.2812 21.828-6.2812 8.0156-17.016 8.0156zm13.812-64.906 13-14.203h-11.922l-10.797 11.672q-1.6094-0.09375-2.4688-0.14062-0.84375-0.0625-1.625-0.0625-15.375 0-24.594 10.281-9.2031 10.281-9.2031 27.516 0 17.281 9.2031 27.562 9.2188 10.281 24.594 10.281 15.328 0 24.5-10.281 9.1875-10.281 9.1875-27.562 0-12.688-5.1094-21.734-5.0938-9.0312-14.766-13.328z\"/><path id=\"DejaVuSans-72\" d=\"m9.8125 72.906h9.8594v-29.891h35.844v29.891h9.8594v-72.906h-9.8594v34.719h-35.844v-34.719h-9.8594z\"/><path id=\"DejaVuSans-79\" d=\"m39.406 66.219q-10.75 0-17.078-8.0156-6.3125-8-6.3125-21.828 0-13.766 6.3125-21.781 6.3281-8 17.078-8 10.734 0 17.016 8 6.2812 8.0156 6.2812 21.781 0 13.828-6.2812 21.828-6.2812 8.0156-17.016 8.0156zm0 8q15.328 0 24.5-10.281 9.1875-10.281 9.1875-27.562 0-17.234-9.1875-27.516-9.1719-10.281-24.5-10.281-15.375 0-24.594 10.25-9.2031 10.266-9.2031 27.547t9.2031 27.562q9.2188 10.281 24.594 10.281z\"/></defs><g transform=\"translate(99.642 54.786) scale(.14 -.14)\"><use xlink:href=\"#DejaVuSans-81\"/><use x=\"78.710938\" xlink:href=\"#DejaVuSans-72\"/><use x=\"153.90625\" xlink:href=\"#DejaVuSans-79\"/><use x=\"232.617188\" xlink:href=\"#DejaVuSans-32\"/><use x=\"264.404297\" xlink:href=\"#DejaVuSans-69\"/><use x=\"327.587891\" xlink:href=\"#DejaVuSans-110\"/><use x=\"390.966797\" xlink:href=\"#DejaVuSans-101\"/><use x=\"452.490234\" xlink:href=\"#DejaVuSans-114\"/><use x=\"491.853516\" xlink:href=\"#DejaVuSans-103\"/><use x=\"555.330078\" xlink:href=\"#DejaVuSans-105\"/><use x=\"583.113281\" xlink:href=\"#DejaVuSans-101\"/><use x=\"644.636719\" xlink:href=\"#DejaVuSans-115\"/></g><defs><clipPath id=\"p0e4fc58300\"><rect x=\"47.842\" y=\"10.999\" width=\"334.8\" height=\"326.16\"/></clipPath></defs></svg>"
      ],
      "text/plain": [
       "<Figure size 432x432 with 1 Axes>"
      ]
     },
     "metadata": {
      "needs_background": "light"
     },
     "output_type": "display_data"
    }
   ],
   "source": [
    "fig, axes = plt.subplots(1, 1, figsize=(6,6))\n",
    "\n",
    "axes.plot(phis, U_transmon, '-', color='orange', linewidth=3.0)\n",
    "axes.plot(phis, U_QHO, '--', color='blue', linewidth=3.0)\n",
    "\n",
    "for eidx in range(1,N_energies):\n",
    "    delta_E_QHO = (E_QHO[eidx]-E_QHO[0])/w\n",
    "    delta_E_transmon = (E_transmon[2*eidx]-E_transmon[0])/w\n",
    "    QHO_lim_idx = min(np.where(U_QHO[int((N_phis+1)/2):N_phis] > delta_E_QHO)[0])\n",
    "    trans_lim_idx = min(np.where(U_transmon[int((N_phis+1)/2):N_phis] > delta_E_transmon)[0])\n",
    "    trans_label, = axes.plot([phis[mid_idx-trans_lim_idx-1], phis[mid_idx+trans_lim_idx-1]], \\\n",
    "                             [delta_E_transmon, delta_E_transmon], '-', color='orange', linewidth=3.0)\n",
    "    qho_label, = axes.plot([phis[mid_idx-QHO_lim_idx-1], phis[mid_idx+QHO_lim_idx-1]], \\\n",
    "                           [delta_E_QHO, delta_E_QHO], '--', color='blue', linewidth=3.0)\n",
    "    \n",
    "axes.set_xlabel('Phase $\\phi$', fontsize=24)\n",
    "axes.set_ylabel('Energy Levels / $\\hbar\\omega$', fontsize=24)\n",
    "axes.set_ylim(-0.2,5)\n",
    "\n",
    "qho_label.set_label('QHO Energies')\n",
    "trans_label.set_label('Transmon Energies')\n",
    "axes.legend(loc=2, fontsize=14)\n"
   ]
  },
  {
   "cell_type": "markdown",
   "metadata": {},
   "source": [
    "## 6. Qubit Drive and the Rotating Wave Approximation <a id='qdatrwa'></a>\n",
    "\n",
    "Here we will treat the transmon as a qubit for simplicity, which by definition means there are only two levels. Therefore the transmon Hamiltonian becomes\n",
    "$$\n",
    "\\hat{H}_0 = \\sum_{j=0}^1 \\hbar \\omega_j |j\\rangle \\langle j| \\equiv 0 |0\\rangle \\langle 0| + \\hbar\\omega_q |1\\rangle \\langle 1|.\n",
    "$$\n",
    "Since we can add or subtract constant energy from the Hamiltonian without effecting the dynamics, we make the $|0\\rangle$ and $|1\\rangle$ state energies symmetric about $E=0$ by subtracting half the qubit frequency,\n",
    "$$\n",
    "\\hat{H}_0 = - (1/2)\\hbar\\omega_q |0\\rangle \\langle 0| + (1/2)\\hbar \\omega_q |1\\rangle \\langle 1| = \n",
    "-\\frac{1}{2} \\hbar \\omega_q \\sigma^z \\qquad {\\rm where} \\qquad\n",
    "\\sigma^z = \\begin{pmatrix}\n",
    "1 & 0 \\\\\n",
    "0 & -1 \\end{pmatrix}\n",
    "$$\n",
    "is the Pauli-Z matrix. Now, applying an electric drive field $\\vec{E}(t) = \\vec{E}_0 e^{-i\\omega_d t} + \\vec{E}_0^* e^{i\\omega_d t}$ to the transmon introduces a dipole interaction between the transmon and microwave field. The Hamiltonian is the sum of the qubit Hamiltonian $\\hat{H}_0$ and drive Hamiltonian $\\hat{H}_d$,\n",
    "$$\n",
    "\\hat{H} = \\hat{H}_0 + \\hat{H}_d.\n",
    "$$\n",
    "Treating the transmon as a qubit allows us to use the Pauli raising/lowering operators $\\sigma^\\pm = (1/2)(\\sigma^x \\mp i\\sigma^y)$ that have the effect $\\sigma^+ |0\\rangle = |1\\rangle$ and $\\sigma^+ |1\\rangle = |0\\rangle$. (Note that this definition reflects that we are using *qubit* raising/lower operators instead of those for *spin*. For the reason discussed in [Section 1](#mlqsaq), $|0\\rangle \\equiv |\\uparrow\\rangle$ and $|1\\rangle \\equiv |\\downarrow \\rangle$ so the raising and lowering operators are inverted). Now since the field will excite and de-excite the qubit, we define the dipole operator $\\vec{d} = \\vec{d}_0 \\sigma^+ + \\vec{d}_0^* \\sigma^-$. The drive Hamiltonian from the dipole interaction is then\n",
    "$$\n",
    "\\hat{H}_d = -\\vec{d} \\cdot \\vec{E}(t) = -\\left(\\vec{d}_0 \\sigma^+ + \\vec{d}_0^* \\sigma^-\\right) \\cdot \\left(\\vec{E}_0 e^{-i\\omega_d t} + \\vec{E}_0^* e^{i\\omega_d t}\\right) \\\\\n",
    "= -\\left(\\vec{d}_0 \\cdot \\vec{E}_0 e^{-i\\omega_d t} + \\vec{d}_0 \\cdot \\vec{E}_0^* e^{i\\omega_d t}\\right)\\sigma^+\n",
    "-\\left(\\vec{d}_0^* \\cdot \\vec{E}_0 e^{-i\\omega_d t} + \\vec{d}_0^* \\cdot \\vec{E}_0^* e^{i\\omega_d t}\\right)\\sigma^-\\\\\n",
    "\\equiv -\\hbar\\left(\\Omega e^{-i\\omega_d t} + \\tilde{\\Omega} e^{i\\omega_d t}\\right)\\sigma^+\n",
    "-\\hbar\\left(\\tilde{\\Omega}^* e^{-i\\omega_d t} + \\Omega^* e^{i\\omega_d t}\\right)\\sigma^-\n",
    "$$\n",
    "where we made the substitutions $\\Omega = \\vec{d}_0 \\cdot \\vec{E}_0$ and $\\tilde{\\Omega} = \\vec{d}_0 \\cdot \\vec{E}_0^*$ to describe the strength of the field and dipole. Now we transform to the interaction picture $\\hat{H}_{d,I} = U\\hat{H}_dU^\\dagger$ (omitting terms that cancel for simplicity) with \n",
    "$$\n",
    "U = e^{i\\hat{H}_0t/\\hbar} = e^{-i\\omega_q t \\sigma^z/2} = I\\cos(\\omega_q t/2) - i\\sigma^z\\sin(\\omega_q t/2)\n",
    "$$\n",
    "which can be calculated by noting that\n",
    "$$\n",
    "\\sigma^\\pm \\sigma^z = (1/2) \\left(\\sigma^x \\sigma^z \\mp i \\sigma^y \\sigma^z\\right) = (1/2)(-i\\sigma^y \\pm \\sigma^x) = \\pm\\sigma^\\pm = -\\sigma^z \\sigma^\\pm.\n",
    "$$\n",
    "Then\n",
    "$$U\\sigma^\\pm U^\\dagger = \\left(I\\cos(\\omega_q t/2) - i\\sigma^z\\sin(\\omega_q t/2)\\right) \\sigma^\\pm \\left(I\\cos(\\omega_q t/2) + i\\sigma^z\\sin(\\omega_q t/2)\\right) \\\\\n",
    "= \\sigma^\\pm \\left( \\cos(\\omega_q t/2) \\pm i\\sin(\\omega_q t/2)\\right) \\left(\\cos(\\omega_q t/2) \\pm i\\sin(\\omega_q t/2) \\right) \\\\\n",
    "= \\sigma^\\pm \\left( \\cos^2(\\omega_q t/2) \\pm 2i\\cos(\\omega_q t/2)\\sin(\\omega_q t/2) - \\sin^2(\\omega_q t/2)\\right) \\\\\n",
    "= \\sigma^\\pm \\left( \\cos(\\omega_q t) \\pm i\\sin(\\omega_q t) \\right) = e^{\\pm i\\omega_q t} \\sigma^{\\pm},$$\n",
    "where we have used the double-angle formula from trigonometry. The transformed Hamiltonian is then\n",
    "$$\n",
    "\\hat{H}_{d,I} = U\\hat{H}_dU^\\dagger = -\\hbar\\left(\\Omega e^{-i\\omega_d t} + \\tilde{\\Omega} e^{i\\omega_d t}\\right)e^{i\\omega_q t} \\sigma^+ -\\hbar\\left(\\tilde{\\Omega}^* e^{-i\\omega_d t} + \\Omega^* e^{i\\omega_d t}\\right)e^{-i\\omega_q t} \\sigma^-\\\\\n",
    "= -\\hbar\\left(\\Omega e^{i\\Delta_q t} + \\tilde{\\Omega} e^{i(\\omega_q+\\omega_d) t}\\right) \\sigma^+ -\\hbar\\left(\\tilde{\\Omega}^* e^{-i(\\omega_q+\\omega_d) t} + \\Omega^* e^{-i\\Delta_q t}\\right) \\sigma^-\n",
    "$$\n",
    "Now we make the rotating-wave approximation: since $\\omega_q+\\omega_d$ is much larger than $\\Delta_q = \\omega_q-\\omega_d$, the terms with the sum in the exponential oscillate much faster, so effectively average out their contribution and we therefore drop those terms from the Hamiltonian. Now the RWA interaction Hamiltonian becomes\n",
    "$$\n",
    "\\hat{H}_{d,I}^{\\rm (RWA)} =-\\hbar\\Omega e^{i\\Delta_q t}  \\sigma^+ -\\hbar \\Omega^* e^{-i\\Delta_q t} \\sigma^-\n",
    "$$\n",
    "Moving back to the Schrödinger picture,\n",
    "$$\n",
    "\\hat{H}_{d}^{\\rm (RWA)} = U^\\dagger \\hat{H}_{d,I}^{\\rm (RWA)} U = -\\hbar\\Omega e^{-i\\omega_d t} \\sigma^+ -\\hbar\\Omega^* e^{i\\omega_d t} \\sigma^-\n",
    "$$\n",
    "so that the total qubit and drive Hamiltonian is\n",
    "$$\n",
    "\\hat{H}^{\\rm (RWA)} = -\\frac{1}{2} \\hbar\\omega_q \\sigma^z -\\hbar\\Omega e^{-i\\omega_d t} \\sigma^+ -\\hbar\\Omega^* e^{i\\omega_d t} \\sigma^-.\n",
    "$$"
   ]
  },
  {
   "cell_type": "markdown",
   "metadata": {},
   "source": [
    "Going into the frame of the drive, using the transformation $U_d = \\exp\\{-i\\omega_d t\\sigma^z/2\\}$, the Hamiltonian becomes\n",
    "$$\n",
    "\\hat{H}_{\\rm eff} = U_d \\hat{H}^{\\rm (RWA)} U_d^\\dagger - i\\hbar U_d \\dot{U}_d^\\dagger\n",
    "$$\n",
    "where $\\dot{U}_d = dU_d/dt$ is the time derivative of $U_d$. Then in the drive frame under the RWA\n",
    "$$\n",
    "\\hat{H}_{\\rm eff} = -\\frac{1}{2} \\hbar\\omega_q \\sigma^z -\\hbar\\Omega \\sigma^+ -\\hbar\\Omega^* \\sigma^- + \\frac{1}{2} \\hbar\\omega_d \\sigma^z = -\\frac{1}{2}\\hbar \\Delta_q \\sigma^z -\\hbar\\Omega \\sigma^+ -\\hbar\\Omega^* \\sigma^-\n",
    "$$\n",
    "assuming the drive is real so that $\\Omega = \\Omega^*$, this simplifies to\n",
    "$$\n",
    "\\hat{H}_{\\rm eff} = -\\frac{1}{2}\\hbar \\Delta_q \\sigma^z -\\hbar\\Omega \\sigma^x.\n",
    "$$\n",
    "This shows that when the drive is resonant with the qubit (i.e., $\\Delta_q = 0$), the drive causes an $x$ rotation in the Bloch sphere that is generated by $\\sigma^x$ with a strength of $\\Omega$. We can see the effect of this on-resonant qubit drive in the [finding the frequency of a qubit with spectroscopy](/course/quantum-hardware-pulses/calibrating-qubits-using-qiskit-pulse) section. An off-resonant drive has additional $z$ rotations generated by the $\\sigma^z$ contribution, and these manifest themselves as oscillations in a [Ramsey experiment](/course/quantum-hardware-pulses/calibrating-qubits-using-qiskit-pulse)."
   ]
  }
 ],
 "metadata": {
  "kernelspec": {
   "display_name": "Python 3",
   "language": "python",
   "name": "python3"
  },
  "language_info": {
   "codemirror_mode": {
    "name": "ipython",
    "version": 3
   },
   "file_extension": ".py",
   "mimetype": "text/x-python",
   "name": "python",
   "nbconvert_exporter": "python",
   "pygments_lexer": "ipython3",
   "version": "3.9"
  }
 },
 "nbformat": 4,
 "nbformat_minor": 4
}
