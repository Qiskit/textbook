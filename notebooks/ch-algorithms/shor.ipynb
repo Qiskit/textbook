{
 "cells": [
  {
   "cell_type": "markdown",
   "metadata": {
    "tags": [
     "remove_cell"
    ]
   },
   "source": [
    "# Shor's Algorithm"
   ]
  },
  {
   "cell_type": "markdown",
   "metadata": {},
   "source": [
    "Shor’s algorithm is famous for factoring integers in polynomial time. Since the best-known classical algorithm requires superpolynomial time to factor the product of two primes, the widely used cryptosystem, RSA, relies on factoring being impossible for large enough integers.\n",
    "\n",
    "In this chapter we will focus on the quantum part of Shor’s algorithm, which actually solves the problem of _period finding_. Since a factoring problem can be turned into a period finding problem in polynomial time, an efficient period finding algorithm can be used to factor integers efficiently too. For now its enough to show that if we can compute the period of $a^x\\bmod N$ efficiently, then we can also efficiently factor. Since period finding is a worthy problem in its own right, we will first solve this, then discuss how this can be used to factor in section 5."
   ]
  },
  {
   "cell_type": "code",
   "execution_count": 1,
   "metadata": {
    "tags": [
     "thebelab-init"
    ]
   },
   "outputs": [],
   "source": [
    "import matplotlib.pyplot as plt\n",
    "import numpy as np\n",
    "from qiskit import QuantumCircuit, Aer, transpile, assemble\n",
    "from qiskit.visualization import plot_histogram\n",
    "from math import gcd\n",
    "from numpy.random import randint\n",
    "import pandas as pd\n",
    "from fractions import Fraction"
   ]
  },
  {
   "cell_type": "markdown",
   "metadata": {},
   "source": [
    "## 1. The Problem: Period Finding\n",
    "\n",
    "Let’s look at the periodic function:\n",
    "\n",
    "$$ f(x) = a^x \\bmod{N}$$\n",
    "\n",
    "<details>\n",
    "    <summary>Reminder: Modulo &amp; Modular Arithmetic (Click here to expand)</summary>\n",
    "\n",
    "The modulo operation (abbreviated to 'mod') simply means to find the remainder when dividing one number by another. For example:\n",
    "\n",
    "$$ 17 \\bmod 5 = 2 $$\n",
    "\n",
    "Since $17 \\div 5 = 3$ with remainder $2$. (i.e. $17 = (3\\times 5) + 2$). In Python, the modulo operation is denoted through the <code>%</code> symbol.\n",
    "\n",
    "This behaviour is used in <a href=\"https://en.wikipedia.org/wiki/Modular_arithmetic\">modular arithmetic</a>, where numbers 'wrap round' after reaching a certain value (the modulus). Using modular arithmetic, we could write:\n",
    "\n",
    "$$ 17 = 2 \\pmod 5$$\n",
    "\n",
    "Note that here the $\\pmod 5$ applies to the entire equation (since it is in parenthesis), unlike the equation above where it only applied to the left-hand side of the equation.\n",
    "</details>\n",
    "\n",
    "where $a$ and $N$ are positive integers, $a$ is less than $N$, and they have no common factors. The period, or order ($r$), is the smallest (non-zero) integer such that:\n",
    "\n",
    "$$a^r \\bmod N = 1 $$ \n",
    "\n",
    "We can see an example of this function plotted on the graph below. Note that the lines between points are to help see the periodicity and do not represent the intermediate values between the x-markers."
   ]
  },
  {
   "cell_type": "code",
   "execution_count": 2,
   "metadata": {
    "tags": [
     "remove_input"
    ]
   },
   "outputs": [
    {
     "data": {
      "image/svg+xml": [
       "<?xml version=\"1.0\" encoding=\"UTF-8\"?><!DOCTYPE svg  PUBLIC '-//W3C//DTD SVG 1.1//EN'  'http://www.w3.org/Graphics/SVG/1.1/DTD/svg11.dtd'><svg width=\"381.6pt\" height=\"276.52pt\" version=\"1.1\" viewBox=\"0 0 381.6 276.52\" xmlns=\"http://www.w3.org/2000/svg\" xmlns:xlink=\"http://www.w3.org/1999/xlink\"><defs><style type=\"text/css\">*{stroke-linecap:butt;stroke-linejoin:round;}</style></defs><path d=\"m-0 276.52h381.6v-276.52h-381.6z\" fill=\"none\"/><path d=\"m39.6 239.52h334.8v-217.44h-334.8z\" fill=\"#ffffff\"/><defs><path id=\"m644252499e\" d=\"m0 0v3.5\" stroke=\"#dde1e6\" stroke-width=\".8\"/></defs><use x=\"54.818182\" y=\"239.52\" fill=\"#dde1e6\" stroke=\"#dde1e6\" stroke-width=\".8\" xlink:href=\"#m644252499e\"/><g transform=\"translate(51.818 253.92) scale(.1 -.1)\" fill=\"#343a3f\"><defs><path id=\"IBMPlexSans-30\" transform=\"scale(.015625)\" d=\"m1920-77q-800 0-1168 608t-368 1703q0 1094 368 1702t1168 608 1168-608 368-1702q0-1095-368-1703t-1168-608zm0 467q262 0 448 109t301 307q115 199 169 467 55 269 55 596v729q0 327-55 595-54 269-169 467-115 199-301 308t-448 109-448-109-301-308q-115-198-170-467-54-268-54-595v-729q0-327 54-596 55-268 170-467 115-198 301-307t448-109z\"/></defs><use xlink:href=\"#IBMPlexSans-30\"/></g><use x=\"99.57754\" y=\"239.52\" fill=\"#dde1e6\" stroke=\"#dde1e6\" stroke-width=\".8\" xlink:href=\"#m644252499e\"/><g transform=\"translate(96.578 253.92) scale(.1 -.1)\" fill=\"#343a3f\"><defs><path id=\"IBMPlexSans-35\" transform=\"scale(.015625)\" d=\"m3187 3994h-1958l-128-1703h45q160 224 361 358 202 135 554 135 288 0 531-96t422-272q180-176 279-432t99-582q0-327-103-599-102-272-297-467t-474-304q-278-109-630-109-282 0-496 64t-381 173q-166 109-291 243-125 135-227 282l403 307q83-134 176-243t205-186 259-119q147-41 352-41 461 0 697 243 237 244 237 685v64q0 442-237 685-236 243-697 243-307 0-483-112t-317-265l-454 64 160 2457h2393v-473z\"/></defs><use xlink:href=\"#IBMPlexSans-35\"/></g><use x=\"144.336898\" y=\"239.52\" fill=\"#dde1e6\" stroke=\"#dde1e6\" stroke-width=\".8\" xlink:href=\"#m644252499e\"/><g transform=\"translate(138.34 253.92) scale(.1 -.1)\" fill=\"#343a3f\"><defs><path id=\"IBMPlexSans-31\" transform=\"scale(.015625)\" d=\"m563 0v474h1248v3596h-45l-1126-1049-314 339 1184 1107h839v-3993h1152v-474h-2938z\"/></defs><use xlink:href=\"#IBMPlexSans-31\"/><use x=\"59.999985\" xlink:href=\"#IBMPlexSans-30\"/></g><use x=\"189.096257\" y=\"239.52\" fill=\"#dde1e6\" stroke=\"#dde1e6\" stroke-width=\".8\" xlink:href=\"#m644252499e\"/><g transform=\"translate(183.1 253.92) scale(.1 -.1)\" fill=\"#343a3f\"><use xlink:href=\"#IBMPlexSans-31\"/><use x=\"59.999985\" xlink:href=\"#IBMPlexSans-35\"/></g><use x=\"233.855615\" y=\"239.52\" fill=\"#dde1e6\" stroke=\"#dde1e6\" stroke-width=\".8\" xlink:href=\"#m644252499e\"/><g transform=\"translate(227.86 253.92) scale(.1 -.1)\" fill=\"#343a3f\"><defs><path id=\"IBMPlexSans-32\" transform=\"scale(.015625)\" d=\"m3411 0h-2931v550l1459 1344q314 288 525 611 211 324 211 650v77q0 371-205 601-204 231-620 231-205 0-359-58-153-57-265-160-112-102-186-240-74-137-118-297l-480 185q64 199 176 387 112 189 281 336 170 148 410 237 240 90 566 90 327 0 583-96t428-269q173-173 266-410 93-236 93-524 0-263-74-487-73-224-201-426-128-201-311-393-182-192-393-384l-1204-1081h2349v-474z\"/></defs><use xlink:href=\"#IBMPlexSans-32\"/><use x=\"59.999985\" xlink:href=\"#IBMPlexSans-30\"/></g><use x=\"278.614973\" y=\"239.52\" fill=\"#dde1e6\" stroke=\"#dde1e6\" stroke-width=\".8\" xlink:href=\"#m644252499e\"/><g transform=\"translate(272.61 253.92) scale(.1 -.1)\" fill=\"#343a3f\"><use xlink:href=\"#IBMPlexSans-32\"/><use x=\"59.999985\" xlink:href=\"#IBMPlexSans-35\"/></g><use x=\"323.374332\" y=\"239.52\" fill=\"#dde1e6\" stroke=\"#dde1e6\" stroke-width=\".8\" xlink:href=\"#m644252499e\"/><g transform=\"translate(317.37 253.92) scale(.1 -.1)\" fill=\"#343a3f\"><defs><path id=\"IBMPlexSans-33\" transform=\"scale(.015625)\" d=\"m1670 2573q455 0 682 208t227 534v45q0 352-221 528-220 176-579 176-345 0-563-151-218-150-358-406l-397 307q83 135 201 266 119 131 279 233 160 103 371 167t480 64q282 0 531-74 250-73 432-217 183-144 288-356 106-211 106-479 0-218-68-391-67-173-182-301t-272-218q-157-89-336-134v-25q179-39 349-125t301-224 211-333 80-445q0-288-109-528t-307-410q-198-169-480-265t-621-96q-288 0-512 64t-397 173q-172 109-304 243-131 135-233 282l403 307q83-134 182-243 100-109 221-186 122-77 275-119 154-41 359-41 473 0 716 214 244 215 244 612v51q0 397-244 611-243 215-716 215h-525v467h486z\"/></defs><use xlink:href=\"#IBMPlexSans-33\"/><use x=\"59.999985\" xlink:href=\"#IBMPlexSans-30\"/></g><use x=\"368.13369\" y=\"239.52\" fill=\"#dde1e6\" stroke=\"#dde1e6\" stroke-width=\".8\" xlink:href=\"#m644252499e\"/><g transform=\"translate(362.13 253.92) scale(.1 -.1)\" fill=\"#343a3f\"><use xlink:href=\"#IBMPlexSans-33\"/><use x=\"59.999985\" xlink:href=\"#IBMPlexSans-35\"/></g><g transform=\"translate(204 267.32) scale(.1 -.1)\" fill=\"#343a3f\"><defs><path id=\"DejaVuSans-Oblique-78\" transform=\"scale(.015625)\" d=\"m3841 3500-1607-1716 985-1784h-660l-740 1388-1288-1388h-697l1722 1844-915 1656h659l672-1266 1172 1266h697z\"/></defs><use transform=\"translate(0 .3125)\" xlink:href=\"#DejaVuSans-Oblique-78\"/></g><defs><path id=\"m767a22e33b\" d=\"m0 0h-3.5\" stroke=\"#dde1e6\" stroke-width=\".8\"/></defs><use x=\"39.6\" y=\"235.813636\" fill=\"#dde1e6\" stroke=\"#dde1e6\" stroke-width=\".8\" xlink:href=\"#m767a22e33b\"/><g transform=\"translate(26.6 239.51) scale(.1 -.1)\" fill=\"#343a3f\"><use xlink:href=\"#IBMPlexSans-30\"/></g><use x=\"39.6\" y=\"204.927273\" fill=\"#dde1e6\" stroke=\"#dde1e6\" stroke-width=\".8\" xlink:href=\"#m767a22e33b\"/><g transform=\"translate(26.6 208.63) scale(.1 -.1)\" fill=\"#343a3f\"><use xlink:href=\"#IBMPlexSans-35\"/></g><use x=\"39.6\" y=\"174.040909\" fill=\"#dde1e6\" stroke=\"#dde1e6\" stroke-width=\".8\" xlink:href=\"#m767a22e33b\"/><g transform=\"translate(20.6 177.74) scale(.1 -.1)\" fill=\"#343a3f\"><use xlink:href=\"#IBMPlexSans-31\"/><use x=\"59.999985\" xlink:href=\"#IBMPlexSans-30\"/></g><use x=\"39.6\" y=\"143.154545\" fill=\"#dde1e6\" stroke=\"#dde1e6\" stroke-width=\".8\" xlink:href=\"#m767a22e33b\"/><g transform=\"translate(20.6 146.85) scale(.1 -.1)\" fill=\"#343a3f\"><use xlink:href=\"#IBMPlexSans-31\"/><use x=\"59.999985\" xlink:href=\"#IBMPlexSans-35\"/></g><use x=\"39.6\" y=\"112.268182\" fill=\"#dde1e6\" stroke=\"#dde1e6\" stroke-width=\".8\" xlink:href=\"#m767a22e33b\"/><g transform=\"translate(20.6 115.97) scale(.1 -.1)\" fill=\"#343a3f\"><use xlink:href=\"#IBMPlexSans-32\"/><use x=\"59.999985\" xlink:href=\"#IBMPlexSans-30\"/></g><use x=\"39.6\" y=\"81.381818\" fill=\"#dde1e6\" stroke=\"#dde1e6\" stroke-width=\".8\" xlink:href=\"#m767a22e33b\"/><g transform=\"translate(20.6 85.082) scale(.1 -.1)\" fill=\"#343a3f\"><use xlink:href=\"#IBMPlexSans-32\"/><use x=\"59.999985\" xlink:href=\"#IBMPlexSans-35\"/></g><use x=\"39.6\" y=\"50.495455\" fill=\"#dde1e6\" stroke=\"#dde1e6\" stroke-width=\".8\" xlink:href=\"#m767a22e33b\"/><g transform=\"translate(20.6 54.195) scale(.1 -.1)\" fill=\"#343a3f\"><use xlink:href=\"#IBMPlexSans-33\"/><use x=\"59.999985\" xlink:href=\"#IBMPlexSans-30\"/></g><g transform=\"translate(14.6 155.05)rotate(-90)scale(0.1 -0.1)\" fill=\"#343a3f\"><defs><path id=\"DejaVuSans-33\" transform=\"scale(.015625)\" d=\"m2597 2516q453-97 707-404 255-306 255-756 0-690-475-1069-475-378-1350-378-293 0-604 58t-642 174v609q262-153 574-231 313-78 654-78 593 0 904 234t311 681q0 413-289 645-289 233-804 233h-544v519h569q465 0 712 186t247 536q0 359-255 551-254 193-729 193-260 0-557-57-297-56-653-174v562q360 100 674 150t592 50q719 0 1137-327 419-326 419-882 0-388-222-655t-631-370z\"/><path id=\"IBMPlexSans-6d\" transform=\"scale(.015625)\" d=\"m544 0v3302h512v-537h26q57 128 130 240 74 112 180 195t246 131q141 48 333 48 327 0 602-157 275-156 409-515h13q90 269 336 470 247 202 669 202 506 0 790-330 285-329 285-931v-2118h-512v2029q0 441-173 665-172 224-550 224-154 0-292-38-137-38-246-115-108-77-172-196-64-118-64-278v-2291h-512v2029q0 441-173 665t-538 224q-153 0-294-38t-250-115-176-196q-67-118-67-278v-2291h-512z\"/><path id=\"IBMPlexSans-6f\" transform=\"scale(.015625)\" d=\"m1792-77q-333 0-608 121-275 122-471 349-195 228-304 544-108 317-108 714 0 391 108 711 109 320 304 547 196 227 471 348 275 122 608 122t605-122q272-121 470-348 199-227 307-547 109-320 109-711 0-397-109-714-108-316-307-544-198-227-470-349-272-121-605-121zm0 455q416 0 678 256 263 256 263 780v474q0 525-263 781-262 256-678 256t-679-256q-262-256-262-781v-474q0-524 262-780 263-256 679-256z\"/><path id=\"IBMPlexSans-64\" transform=\"scale(.015625)\" d=\"m2656 538h-26q-300-615-966-615-307 0-557 121-249 122-425 346t-269 544-93 717 93 717 269 544 425 345q250 122 557 122 346 0 592-151 246-150 374-463h26v1971h512v-4736h-512v538zm-851-154q173 0 329 45 157 45 272 131 116 86 183 211t67 285v1229q0 134-67 252-67 119-183 202-115 83-272 131-156 48-329 48-435 0-685-272t-250-713v-563q0-442 250-714t685-272z\"/><path id=\"DejaVuSans-35\" transform=\"scale(.015625)\" d=\"m691 4666h2478v-532h-1900v-1143q137 47 274 70 138 23 276 23 781 0 1237-428 457-428 457-1159 0-753-469-1171-469-417-1322-417-294 0-599 50-304 50-629 150v635q281-153 581-228t634-75q541 0 856 284 316 284 316 772 0 487-316 771-315 285-856 285-253 0-505-56-251-56-513-175v2344z\"/></defs><use transform=\"translate(0 .4375)\" xlink:href=\"#DejaVuSans-33\"/><use transform=\"translate(64.58 38.719) scale(.7)\" xlink:href=\"#DejaVuSans-Oblique-78\"/><use transform=\"translate(108.74 .4375)\" xlink:href=\"#IBMPlexSans-20\"/><use transform=\"translate(132.34 .4375)\" xlink:href=\"#IBMPlexSans-6d\"/><use transform=\"translate(219.64 .4375)\" xlink:href=\"#IBMPlexSans-6f\"/><use transform=\"translate(275.64 .4375)\" xlink:href=\"#IBMPlexSans-64\"/><use transform=\"translate(333.64 .4375)\" xlink:href=\"#IBMPlexSans-20\"/><use transform=\"translate(357.24 .4375)\" xlink:href=\"#DejaVuSans-33\"/><use transform=\"translate(420.86 .4375)\" xlink:href=\"#DejaVuSans-35\"/></g><path d=\"m54.818 229.64 8.9519-12.355 8.9519-37.064 8.9519-111.19 8.9519 98.836 8.9519-135.9 8.9519 24.709 8.9519 74.127 8.9519 6.1773 8.9519 18.532 8.9519 55.595 8.9519-49.418 8.9519 67.95 8.9519-12.355 8.9519-37.064 8.9519-111.19 8.9519 98.836 8.9519-135.9 8.9519 24.709 8.9519 74.127 8.9519 6.1773 8.9519 18.532 8.9519 55.595 8.9519-49.418 8.9519 67.95 8.9519-12.355 8.9519-37.064 8.9519-111.19 8.9519 98.836 8.9519-135.9 8.9519 24.709 8.9519 74.127 8.9519 6.1773 8.9519 18.532 8.9519 55.595\" clip-path=\"url(#p8c7757f6f7)\" fill=\"none\" stroke=\"#0f62fe\" stroke-dasharray=\"1,1.65\"/><defs><path id=\"mb523624618\" d=\"m-3 3 6-6m-6 0 6 6\" stroke=\"#0f62fe\"/></defs><g clip-path=\"url(#p8c7757f6f7)\" fill=\"#0f62fe\" stroke=\"#0f62fe\"><use x=\"54.818182\" y=\"229.636364\" xlink:href=\"#mb523624618\"/><use x=\"63.770053\" y=\"217.281818\" xlink:href=\"#mb523624618\"/><use x=\"72.721925\" y=\"180.218182\" xlink:href=\"#mb523624618\"/><use x=\"81.673797\" y=\"69.027273\" xlink:href=\"#mb523624618\"/><use x=\"90.625668\" y=\"167.863636\" xlink:href=\"#mb523624618\"/><use x=\"99.57754\" y=\"31.963636\" xlink:href=\"#mb523624618\"/><use x=\"108.529412\" y=\"56.672727\" xlink:href=\"#mb523624618\"/><use x=\"117.481283\" y=\"130.8\" xlink:href=\"#mb523624618\"/><use x=\"126.433155\" y=\"136.977273\" xlink:href=\"#mb523624618\"/><use x=\"135.385027\" y=\"155.509091\" xlink:href=\"#mb523624618\"/><use x=\"144.336898\" y=\"211.104545\" xlink:href=\"#mb523624618\"/><use x=\"153.28877\" y=\"161.686364\" xlink:href=\"#mb523624618\"/><use x=\"162.240642\" y=\"229.636364\" xlink:href=\"#mb523624618\"/><use x=\"171.192513\" y=\"217.281818\" xlink:href=\"#mb523624618\"/><use x=\"180.144385\" y=\"180.218182\" xlink:href=\"#mb523624618\"/><use x=\"189.096257\" y=\"69.027273\" xlink:href=\"#mb523624618\"/><use x=\"198.048128\" y=\"167.863636\" xlink:href=\"#mb523624618\"/><use x=\"207\" y=\"31.963636\" xlink:href=\"#mb523624618\"/><use x=\"215.951872\" y=\"56.672727\" xlink:href=\"#mb523624618\"/><use x=\"224.903743\" y=\"130.8\" xlink:href=\"#mb523624618\"/><use x=\"233.855615\" y=\"136.977273\" xlink:href=\"#mb523624618\"/><use x=\"242.807487\" y=\"155.509091\" xlink:href=\"#mb523624618\"/><use x=\"251.759358\" y=\"211.104545\" xlink:href=\"#mb523624618\"/><use x=\"260.71123\" y=\"161.686364\" xlink:href=\"#mb523624618\"/><use x=\"269.663102\" y=\"229.636364\" xlink:href=\"#mb523624618\"/><use x=\"278.614973\" y=\"217.281818\" xlink:href=\"#mb523624618\"/><use x=\"287.566845\" y=\"180.218182\" xlink:href=\"#mb523624618\"/><use x=\"296.518717\" y=\"69.027273\" xlink:href=\"#mb523624618\"/><use x=\"305.470588\" y=\"167.863636\" xlink:href=\"#mb523624618\"/><use x=\"314.42246\" y=\"31.963636\" xlink:href=\"#mb523624618\"/><use x=\"323.374332\" y=\"56.672727\" xlink:href=\"#mb523624618\"/><use x=\"332.326203\" y=\"130.8\" xlink:href=\"#mb523624618\"/><use x=\"341.278075\" y=\"136.977273\" xlink:href=\"#mb523624618\"/><use x=\"350.229947\" y=\"155.509091\" xlink:href=\"#mb523624618\"/><use x=\"359.181818\" y=\"211.104545\" xlink:href=\"#mb523624618\"/></g><path d=\"m39.6 239.52v-217.44\" fill=\"none\" stroke=\"#dde1e6\" stroke-linecap=\"square\" stroke-width=\".8\"/><path d=\"m374.4 239.52v-217.44\" fill=\"none\" stroke=\"#dde1e6\" stroke-linecap=\"square\" stroke-width=\".8\"/><path d=\"m39.6 239.52h334.8\" fill=\"none\" stroke=\"#dde1e6\" stroke-linecap=\"square\" stroke-width=\".8\"/><path d=\"m39.6 22.08h334.8\" fill=\"none\" stroke=\"#dde1e6\" stroke-linecap=\"square\" stroke-width=\".8\"/><g fill=\"none\" stroke=\"#343a3f\" stroke-linecap=\"round\"><path d=\"m159.12 229.64q-50.593 0-101.19 0\"/><path d=\"m155.12 227.64 4 2-4 2\"/><path d=\"m61.934 231.64-4-2 4-2\"/></g><g transform=\"translate(90.626 226.55) scale(.1 -.1)\" fill=\"#343a3f\"><defs><path id=\"DejaVuSans-Oblique-72\" transform=\"scale(.015625)\" d=\"m2853 2969q-87 47-200 72-112 25-240 25-460 0-804-349-343-348-456-933l-353-1784h-575l684 3500h575l-109-544q228 303 545 465 318 163 677 163 94 0 184-11 91-10 182-35l-110-569z\"/><path id=\"DejaVuSans-3d\" transform=\"scale(.015625)\" d=\"m678 2906h4006v-525h-4006v525zm0-1275h4006v-531h-4006v531z\"/><path id=\"DejaVuSans-31\" transform=\"scale(.015625)\" d=\"m794 531h1031v3560l-1122-225v575l1116 225h631v-4135h1031v-531h-2687v531z\"/><path id=\"DejaVuSans-32\" transform=\"scale(.015625)\" d=\"m1228 531h2203v-531h-2962v531q359 372 979 998 621 627 780 809 303 340 423 576 121 236 121 464 0 372-261 606-261 235-680 235-297 0-627-103-329-103-704-313v638q381 153 712 231 332 78 607 78 725 0 1156-363 431-362 431-968 0-288-108-546-107-257-392-607-78-91-497-524-418-433-1181-1211z\"/></defs><use transform=\"translate(0 .78125)\" xlink:href=\"#DejaVuSans-Oblique-72\"/><use transform=\"translate(60.596 .78125)\" xlink:href=\"#DejaVuSans-3d\"/><use transform=\"translate(163.87 .78125)\" xlink:href=\"#DejaVuSans-31\"/><use transform=\"translate(227.49 .78125)\" xlink:href=\"#DejaVuSans-32\"/></g><g transform=\"translate(76.065 16.08) scale(.12 -.12)\" fill=\"#343a3f\"><defs><path id=\"IBMPlexSans-45\" transform=\"scale(.015625)\" d=\"m595 0v4467h2727v-473h-2189v-1498h2061v-474h-2061v-1548h2189v-474h-2727z\"/><path id=\"IBMPlexSans-78\" transform=\"scale(.015625)\" d=\"m134 0 1223 1664-1171 1638h601l839-1228h19l870 1228h570l-1165-1600 1190-1702h-601l-858 1293h-19l-928-1293h-570z\"/><path id=\"IBMPlexSans-61\" transform=\"scale(.015625)\" d=\"m2944 0q-288 0-413 153-125 154-157 385h-32q-108-308-358-462-250-153-595-153-525 0-816 269t-291 730q0 467 342 716 342 250 1066 250h652v326q0 352-192 538t-588 186q-301 0-503-135-201-134-336-358l-307 288q134 269 428 457 295 189 743 189 602 0 934-295 333-294 333-818v-1818h378v-448h-288zm-1472 358q192 0 352 45t275 128 179 192 64 237v544h-678q-442 0-644-128-201-128-201-371v-135q0-243 176-378 176-134 477-134z\"/><path id=\"IBMPlexSans-70\" transform=\"scale(.015625)\" d=\"m544 3302h512v-537h26q128 313 374 463 246 151 592 151 307 0 556-122 250-121 426-345t269-544 93-717-93-717-269-544-426-346q-249-121-556-121-672 0-966 615h-26v-1818h-512v4582zm1363-2918q435 0 685 272t250 714v563q0 441-250 713t-685 272q-173 0-330-48-156-48-272-131-115-83-182-202-67-118-67-252v-1229q0-160 67-285t182-211q116-86 272-131 157-45 330-45z\"/><path id=\"IBMPlexSans-6c\" transform=\"scale(.015625)\" d=\"m1088 0q-269 0-407 150-137 151-137 381v4205h512v-4288h486v-448h-454z\"/><path id=\"IBMPlexSans-65\" transform=\"scale(.015625)\" d=\"m1786-77q-340 0-612 121-272 122-467 349-195 228-301 544-105 317-105 714 0 391 105 711 106 320 301 547t467 348q272 122 612 122 332 0 594-122 263-121 448-336 186-214 285-509 100-294 100-646v-243h-2375v-153q0-212 67-394 68-182 192-317 125-134 307-211 183-77 414-77 313 0 546 147 234 148 362 423l365-263q-160-339-499-547t-806-208zm0 3027q-212 0-385-74-172-73-297-208-125-134-196-316-70-182-70-400v-45h1824v71q0 441-240 706-240 266-636 266z\"/><path id=\"IBMPlexSans-66\" transform=\"scale(.015625)\" d=\"m723 2854h-537v448h537v666q0 346 179 557 180 211 544 211h500v-448h-711v-986h711v-448h-711v-2854h-512v2854z\"/><path id=\"IBMPlexSans-50\" transform=\"scale(.015625)\" d=\"m595 0v4467h1779q602 0 925-343 323-342 323-937t-323-938q-323-342-925-342h-1241v-1907h-538zm538 2381h1241q320 0 496 166 176 167 176 474v333q0 307-176 473-176 167-496 167h-1241v-1613z\"/><path id=\"IBMPlexSans-72\" transform=\"scale(.015625)\" d=\"m544 0v3302h512v-608h32q90 237 320 422 230 186 634 186h198v-512h-301q-416 0-650-157-233-156-233-393v-2240h-512z\"/><path id=\"IBMPlexSans-69\" transform=\"scale(.015625)\" d=\"m800 4077q-166 0-240 80t-74 208v83q0 128 74 208t240 80 240-80 74-208v-83q0-128-74-208t-240-80zm-256-775h512v-3302h-512v3302z\"/><path id=\"IBMPlexSans-63\" transform=\"scale(.015625)\" d=\"m1773-77q-346 0-621 121-275 122-464 346t-288 544-99 717 99 717 288 544 464 345q275 122 621 122 493 0 790-215 298-214 445-559l-429-218q-89 256-294 397t-512 141q-231 0-404-74-172-73-288-205-115-131-173-314-57-182-57-399v-563q0-436 233-714 234-278 689-278 621 0 896 576l371-250q-160-358-477-570-317-211-790-211z\"/><path id=\"IBMPlexSans-46\" transform=\"scale(.015625)\" d=\"m595 0v4467h2663v-473h-2125v-1498h1939v-474h-1939v-2022h-538z\"/><path id=\"IBMPlexSans-75\" transform=\"scale(.015625)\" d=\"m2579 538h-25q-52-116-126-228-73-112-182-198-108-86-262-137-154-52-358-52-512 0-813 329-301 330-301 932v2118h512v-2028q0-890 755-890 154 0 298 38 144 39 256 115 112 77 179 195 67 119 67 286v2284h512v-3302h-512v538z\"/><path id=\"IBMPlexSans-6e\" transform=\"scale(.015625)\" d=\"m544 0v3302h512v-537h26q121 281 342 447 221 167 592 167 512 0 809-330 298-329 298-931v-2118h-512v2029q0 889-749 889-153 0-297-38t-260-115q-115-77-182-196-67-118-67-278v-2291h-512z\"/><path id=\"IBMPlexSans-74\" transform=\"scale(.015625)\" d=\"m1274 0q-269 0-407 150-137 151-137 394v2310h-544v448h307q166 0 227 67 61 68 61 234v615h461v-916h723v-448h-723v-2406h672v-448h-640z\"/><path id=\"IBMPlexSans-53\" transform=\"scale(.015625)\" d=\"m1850-77q-544 0-928 208t-653 573l397 333q236-314 524-477t679-163q480 0 732 230 253 231 253 615 0 320-192 492-192 173-633 276l-365 83q-614 141-938 425-323 285-323 804 0 294 109 524 109 231 304 384 195 154 467 234t599 80q505 0 866-186 362-185 612-544l-403-294q-186 256-449 403-262 147-652 147-429 0-676-182-246-182-246-547 0-320 208-484 208-163 631-259l365-83q659-147 953-448 295-301 295-800 0-307-106-557-106-249-304-422t-483-269-643-96z\"/><path id=\"IBMPlexSans-68\" transform=\"scale(.015625)\" d=\"m544 4736h512v-1971h26q121 281 342 447 221 167 592 167 512 0 809-330 298-329 298-931v-2118h-512v2029q0 889-749 889-153 0-297-38t-260-115q-115-77-182-196-67-118-67-278v-2291h-512v4736z\"/><path id=\"IBMPlexSans-27\" transform=\"scale(.015625)\" d=\"m544 2944v1792h461v-1792h-461z\"/><path id=\"IBMPlexSans-73\" transform=\"scale(.015625)\" d=\"m1536-77q-461 0-772 176-310 176-534 471l365 294q192-243 429-375 237-131 550-131 327 0 509 141 183 141 183 397 0 192-125 329-125 138-451 189l-263 39q-230 32-422 99t-336 179-224 278q-80 167-80 397 0 244 89 426 90 182 247 304t374 182q218 61 467 61 404 0 676-141 272-140 476-390l-339-307q-109 153-320 278t-531 125-483-138q-163-137-163-374 0-243 163-352t470-160l256-38q551-84 781-318 230-233 230-610 0-480-326-756-326-275-896-275z\"/><path id=\"IBMPlexSans-41\" transform=\"scale(.015625)\" d=\"m3392 0-448 1318h-1805l-448-1318h-544l1562 4467h685l1561-4467h-563zm-1338 3968h-32l-755-2176h1543l-756 2176z\"/><path id=\"IBMPlexSans-67\" transform=\"scale(.015625)\" d=\"m3328-365q0-512-400-752t-1200-240q-774 0-1114 212-339 211-339 601 0 269 141 420 141 150 384 220v70q-294 141-294 461 0 250 160 381t409 195v26q-294 141-458 403-163 262-163 608 0 250 90 461t253 361q163 151 390 234t509 83q352 0 627-128v58q0 192 89 316 90 125 295 125h493v-448h-627v-211q179-153 278-368 99-214 99-483 0-250-90-461-89-211-252-362-163-150-394-233-230-83-512-83-160 0-320 32-166-45-301-132-134-86-134-239 0-148 141-199t365-51h704q614 0 892-234 279-233 279-643zm-480-38q0 198-151 317-150 118-534 118h-1101q-307-141-307-448 0-218 163-371 164-154 554-154h474q428 0 665 135 237 134 237 403zm-1146 1913q327 0 519 157t192 483v180q0 326-192 483t-519 157q-326 0-518-157t-192-483v-180q0-326 192-483t518-157z\"/></defs><use xlink:href=\"#IBMPlexSans-45\"/><use x=\"58.299988\" xlink:href=\"#IBMPlexSans-78\"/><use x=\"108.999985\" xlink:href=\"#IBMPlexSans-61\"/><use x=\"162.399979\" xlink:href=\"#IBMPlexSans-6d\"/><use x=\"249.699966\" xlink:href=\"#IBMPlexSans-70\"/><use x=\"307.699951\" xlink:href=\"#IBMPlexSans-6c\"/><use x=\"334.899948\" xlink:href=\"#IBMPlexSans-65\"/><use x=\"389.799942\" xlink:href=\"#IBMPlexSans-20\"/><use x=\"413.399933\" xlink:href=\"#IBMPlexSans-6f\"/><use x=\"469.399918\" xlink:href=\"#IBMPlexSans-66\"/><use x=\"501.799911\" xlink:href=\"#IBMPlexSans-20\"/><use x=\"525.399902\" xlink:href=\"#IBMPlexSans-50\"/><use x=\"585.999893\" xlink:href=\"#IBMPlexSans-65\"/><use x=\"640.899887\" xlink:href=\"#IBMPlexSans-72\"/><use x=\"677.599884\" xlink:href=\"#IBMPlexSans-69\"/><use x=\"702.599869\" xlink:href=\"#IBMPlexSans-6f\"/><use x=\"758.599854\" xlink:href=\"#IBMPlexSans-64\"/><use x=\"816.599838\" xlink:href=\"#IBMPlexSans-69\"/><use x=\"841.599823\" xlink:href=\"#IBMPlexSans-63\"/><use x=\"891.899811\" xlink:href=\"#IBMPlexSans-20\"/><use x=\"915.499802\" xlink:href=\"#IBMPlexSans-46\"/><use x=\"971.399796\" xlink:href=\"#IBMPlexSans-75\"/><use x=\"1028.199783\" xlink:href=\"#IBMPlexSans-6e\"/><use x=\"1084.999771\" xlink:href=\"#IBMPlexSans-63\"/><use x=\"1135.299759\" xlink:href=\"#IBMPlexSans-74\"/><use x=\"1170.39975\" xlink:href=\"#IBMPlexSans-69\"/><use x=\"1195.399734\" xlink:href=\"#IBMPlexSans-6f\"/><use x=\"1251.399719\" xlink:href=\"#IBMPlexSans-6e\"/><use x=\"1308.199707\" xlink:href=\"#IBMPlexSans-20\"/><use x=\"1331.799698\" xlink:href=\"#IBMPlexSans-69\"/><use x=\"1356.799683\" xlink:href=\"#IBMPlexSans-6e\"/><use x=\"1413.59967\" xlink:href=\"#IBMPlexSans-20\"/><use x=\"1437.199661\" xlink:href=\"#IBMPlexSans-53\"/><use x=\"1495.299652\" xlink:href=\"#IBMPlexSans-68\"/><use x=\"1552.09964\" xlink:href=\"#IBMPlexSans-6f\"/><use x=\"1608.099625\" xlink:href=\"#IBMPlexSans-72\"/><use x=\"1644.799622\" xlink:href=\"#IBMPlexSans-27\"/><use x=\"1668.999619\" xlink:href=\"#IBMPlexSans-73\"/><use x=\"1717.699615\" xlink:href=\"#IBMPlexSans-20\"/><use x=\"1741.299606\" xlink:href=\"#IBMPlexSans-41\"/><use x=\"1805.399597\" xlink:href=\"#IBMPlexSans-6c\"/><use x=\"1832.599594\" xlink:href=\"#IBMPlexSans-67\"/><use x=\"1885.399582\" xlink:href=\"#IBMPlexSans-6f\"/><use x=\"1941.399567\" xlink:href=\"#IBMPlexSans-72\"/><use x=\"1978.099564\" xlink:href=\"#IBMPlexSans-69\"/><use x=\"2003.099548\" xlink:href=\"#IBMPlexSans-74\"/><use x=\"2038.199539\" xlink:href=\"#IBMPlexSans-68\"/><use x=\"2094.999527\" xlink:href=\"#IBMPlexSans-6d\"/></g><defs><clipPath id=\"p8c7757f6f7\"><rect x=\"39.6\" y=\"22.08\" width=\"334.8\" height=\"217.44\"/></clipPath></defs></svg>"
      ],
      "text/plain": [
       "<Figure size 432x288 with 1 Axes>"
      ]
     },
     "metadata": {
      "needs_background": "light"
     },
     "output_type": "display_data"
    }
   ],
   "source": [
    "N = 35\n",
    "a = 3\n",
    "\n",
    "# Calculate the plotting data\n",
    "xvals = np.arange(35)\n",
    "yvals = [np.mod(a**x, N) for x in xvals]\n",
    "\n",
    "# Use matplotlib to display it nicely\n",
    "fig, ax = plt.subplots()\n",
    "ax.plot(xvals, yvals, linewidth=1, linestyle='dotted', marker='x')\n",
    "ax.set(xlabel='$x$', ylabel='$%i^x$ mod $%i$' % (a, N),\n",
    "       title=\"Example of Periodic Function in Shor's Algorithm\")\n",
    "try: # plot r on the graph\n",
    "    r = yvals[1:].index(1) +1 \n",
    "    plt.annotate('', xy=(0,1), xytext=(r,1), arrowprops=dict(arrowstyle='<->'))\n",
    "    plt.annotate('$r=%i$' % r, xy=(r/3,1.5))\n",
    "except ValueError:\n",
    "    print('Could not find period, check a < N and have no common factors.')"
   ]
  },
  {
   "cell_type": "markdown",
   "metadata": {},
   "source": [
    "## 2. The Solution\n",
    "\n",
    "Shor’s solution was to use [quantum phase estimation](./quantum-phase-estimation.html) on the unitary operator:\n",
    "\n",
    "$$ U|y\\rangle \\equiv |ay \\bmod N \\rangle $$\n",
    "\n",
    "To see how this is helpful, let’s work out what an eigenstate of U might look like. If we started in the state $|1\\rangle$, we can see that each successive application of U will multiply the state of our register by $a \\pmod N$, and after $r$ applications we will arrive at the state $|1\\rangle$ again. For example with $a = 3$ and $N = 35$:\n",
    "\n",
    "$$\\begin{aligned}\n",
    "U|1\\rangle &= |3\\rangle & \\\\\n",
    "U^2|1\\rangle &= |9\\rangle \\\\\n",
    "U^3|1\\rangle &= |27\\rangle \\\\\n",
    "& \\vdots \\\\\n",
    "U^{(r-1)}|1\\rangle &= |12\\rangle \\\\\n",
    "U^r|1\\rangle &= |1\\rangle \n",
    "\\end{aligned}$$"
   ]
  },
  {
   "cell_type": "code",
   "execution_count": 3,
   "metadata": {
    "scrolled": false,
    "tags": [
     "remove_input"
    ]
   },
   "outputs": [
    {
     "data": {
      "image/svg+xml": [
       "<?xml version=\"1.0\" encoding=\"UTF-8\"?><!DOCTYPE svg  PUBLIC '-//W3C//DTD SVG 1.1//EN'  'http://www.w3.org/Graphics/SVG/1.1/DTD/svg11.dtd'><svg width=\"381.72pt\" height=\"276.52pt\" version=\"1.1\" viewBox=\"0 0 381.72 276.52\" xmlns=\"http://www.w3.org/2000/svg\" xmlns:xlink=\"http://www.w3.org/1999/xlink\"><defs><style type=\"text/css\">*{stroke-linecap:butt;stroke-linejoin:round;}</style></defs><path d=\"m0 276.52h381.72v-276.52h-381.72z\" fill=\"none\"/><path d=\"m39.72 239.52h334.8v-217.44h-334.8z\" fill=\"#ffffff\"/><defs><path id=\"m823170ccfd\" d=\"m0 0v3.5\" stroke=\"#dde1e6\" stroke-width=\".8\"/></defs><use x=\"54.938494\" y=\"239.52\" fill=\"#dde1e6\" stroke=\"#dde1e6\" stroke-width=\".8\" xlink:href=\"#m823170ccfd\"/><g transform=\"translate(51.938 253.92) scale(.1 -.1)\" fill=\"#343a3f\"><defs><path id=\"IBMPlexSans-30\" transform=\"scale(.015625)\" d=\"m1920-77q-800 0-1168 608t-368 1703q0 1094 368 1702t1168 608 1168-608 368-1702q0-1095-368-1703t-1168-608zm0 467q262 0 448 109t301 307q115 199 169 467 55 269 55 596v729q0 327-55 595-54 269-169 467-115 199-301 308t-448 109-448-109-301-308q-115-198-170-467-54-268-54-595v-729q0-327 54-596 55-268 170-467 115-198 301-307t448-109z\"/></defs><use xlink:href=\"#IBMPlexSans-30\"/></g><use x=\"99.697853\" y=\"239.52\" fill=\"#dde1e6\" stroke=\"#dde1e6\" stroke-width=\".8\" xlink:href=\"#m823170ccfd\"/><g transform=\"translate(96.698 253.92) scale(.1 -.1)\" fill=\"#343a3f\"><defs><path id=\"IBMPlexSans-35\" transform=\"scale(.015625)\" d=\"m3187 3994h-1958l-128-1703h45q160 224 361 358 202 135 554 135 288 0 531-96t422-272q180-176 279-432t99-582q0-327-103-599-102-272-297-467t-474-304q-278-109-630-109-282 0-496 64t-381 173q-166 109-291 243-125 135-227 282l403 307q83-134 176-243t205-186 259-119q147-41 352-41 461 0 697 243 237 244 237 685v64q0 442-237 685-236 243-697 243-307 0-483-112t-317-265l-454 64 160 2457h2393v-473z\"/></defs><use xlink:href=\"#IBMPlexSans-35\"/></g><use x=\"144.457211\" y=\"239.52\" fill=\"#dde1e6\" stroke=\"#dde1e6\" stroke-width=\".8\" xlink:href=\"#m823170ccfd\"/><g transform=\"translate(138.46 253.92) scale(.1 -.1)\" fill=\"#343a3f\"><defs><path id=\"IBMPlexSans-31\" transform=\"scale(.015625)\" d=\"m563 0v474h1248v3596h-45l-1126-1049-314 339 1184 1107h839v-3993h1152v-474h-2938z\"/></defs><use xlink:href=\"#IBMPlexSans-31\"/><use x=\"59.999985\" xlink:href=\"#IBMPlexSans-30\"/></g><use x=\"189.216569\" y=\"239.52\" fill=\"#dde1e6\" stroke=\"#dde1e6\" stroke-width=\".8\" xlink:href=\"#m823170ccfd\"/><g transform=\"translate(183.22 253.92) scale(.1 -.1)\" fill=\"#343a3f\"><use xlink:href=\"#IBMPlexSans-31\"/><use x=\"59.999985\" xlink:href=\"#IBMPlexSans-35\"/></g><use x=\"233.975927\" y=\"239.52\" fill=\"#dde1e6\" stroke=\"#dde1e6\" stroke-width=\".8\" xlink:href=\"#m823170ccfd\"/><g transform=\"translate(227.98 253.92) scale(.1 -.1)\" fill=\"#343a3f\"><defs><path id=\"IBMPlexSans-32\" transform=\"scale(.015625)\" d=\"m3411 0h-2931v550l1459 1344q314 288 525 611 211 324 211 650v77q0 371-205 601-204 231-620 231-205 0-359-58-153-57-265-160-112-102-186-240-74-137-118-297l-480 185q64 199 176 387 112 189 281 336 170 148 410 237 240 90 566 90 327 0 583-96t428-269q173-173 266-410 93-236 93-524 0-263-74-487-73-224-201-426-128-201-311-393-182-192-393-384l-1204-1081h2349v-474z\"/></defs><use xlink:href=\"#IBMPlexSans-32\"/><use x=\"59.999985\" xlink:href=\"#IBMPlexSans-30\"/></g><use x=\"278.735286\" y=\"239.52\" fill=\"#dde1e6\" stroke=\"#dde1e6\" stroke-width=\".8\" xlink:href=\"#m823170ccfd\"/><g transform=\"translate(272.74 253.92) scale(.1 -.1)\" fill=\"#343a3f\"><use xlink:href=\"#IBMPlexSans-32\"/><use x=\"59.999985\" xlink:href=\"#IBMPlexSans-35\"/></g><use x=\"323.494644\" y=\"239.52\" fill=\"#dde1e6\" stroke=\"#dde1e6\" stroke-width=\".8\" xlink:href=\"#m823170ccfd\"/><g transform=\"translate(317.49 253.92) scale(.1 -.1)\" fill=\"#343a3f\"><defs><path id=\"IBMPlexSans-33\" transform=\"scale(.015625)\" d=\"m1670 2573q455 0 682 208t227 534v45q0 352-221 528-220 176-579 176-345 0-563-151-218-150-358-406l-397 307q83 135 201 266 119 131 279 233 160 103 371 167t480 64q282 0 531-74 250-73 432-217 183-144 288-356 106-211 106-479 0-218-68-391-67-173-182-301t-272-218q-157-89-336-134v-25q179-39 349-125t301-224 211-333 80-445q0-288-109-528t-307-410q-198-169-480-265t-621-96q-288 0-512 64t-397 173q-172 109-304 243-131 135-233 282l403 307q83-134 182-243 100-109 221-186 122-77 275-119 154-41 359-41 473 0 716 214 244 215 244 612v51q0 397-244 611-243 215-716 215h-525v467h486z\"/></defs><use xlink:href=\"#IBMPlexSans-33\"/><use x=\"59.999985\" xlink:href=\"#IBMPlexSans-30\"/></g><use x=\"368.254002\" y=\"239.52\" fill=\"#dde1e6\" stroke=\"#dde1e6\" stroke-width=\".8\" xlink:href=\"#m823170ccfd\"/><g transform=\"translate(362.25 253.92) scale(.1 -.1)\" fill=\"#343a3f\"><use xlink:href=\"#IBMPlexSans-33\"/><use x=\"59.999985\" xlink:href=\"#IBMPlexSans-35\"/></g><g transform=\"translate(144.61 267.32) scale(.1 -.1)\" fill=\"#343a3f\"><defs><path id=\"IBMPlexSans-4e\" transform=\"scale(.015625)\" d=\"m1677 2726-538 992h-19v-3718h-525v4467h621l1632-2726 538-992h19v3718h525v-4467h-621l-1632 2726z\"/><path id=\"IBMPlexSans-75\" transform=\"scale(.015625)\" d=\"m2579 538h-25q-52-116-126-228-73-112-182-198-108-86-262-137-154-52-358-52-512 0-813 329-301 330-301 932v2118h512v-2028q0-890 755-890 154 0 298 38 144 39 256 115 112 77 179 195 67 119 67 286v2284h512v-3302h-512v538z\"/><path id=\"IBMPlexSans-6d\" transform=\"scale(.015625)\" d=\"m544 0v3302h512v-537h26q57 128 130 240 74 112 180 195t246 131q141 48 333 48 327 0 602-157 275-156 409-515h13q90 269 336 470 247 202 669 202 506 0 790-330 285-329 285-931v-2118h-512v2029q0 441-173 665-172 224-550 224-154 0-292-38-137-38-246-115-108-77-172-196-64-118-64-278v-2291h-512v2029q0 441-173 665t-538 224q-153 0-294-38t-250-115-176-196q-67-118-67-278v-2291h-512z\"/><path id=\"IBMPlexSans-62\" transform=\"scale(.015625)\" d=\"m544 4736h512v-1971h26q128 313 374 463 246 151 592 151 307 0 556-122 250-121 426-345t269-544 93-717-93-717-269-544-426-346q-249-121-556-121-672 0-966 615h-26v-538h-512v4736zm1363-4352q435 0 685 272t250 714v563q0 441-250 713t-685 272q-173 0-330-48-156-48-272-131-115-83-182-202-67-118-67-252v-1229q0-160 67-285t182-211q116-86 272-131 157-45 330-45z\"/><path id=\"IBMPlexSans-65\" transform=\"scale(.015625)\" d=\"m1786-77q-340 0-612 121-272 122-467 349-195 228-301 544-105 317-105 714 0 391 105 711 106 320 301 547t467 348q272 122 612 122 332 0 594-122 263-121 448-336 186-214 285-509 100-294 100-646v-243h-2375v-153q0-212 67-394 68-182 192-317 125-134 307-211 183-77 414-77 313 0 546 147 234 148 362 423l365-263q-160-339-499-547t-806-208zm0 3027q-212 0-385-74-172-73-297-208-125-134-196-316-70-182-70-400v-45h1824v71q0 441-240 706-240 266-636 266z\"/><path id=\"IBMPlexSans-72\" transform=\"scale(.015625)\" d=\"m544 0v3302h512v-608h32q90 237 320 422 230 186 634 186h198v-512h-301q-416 0-650-157-233-156-233-393v-2240h-512z\"/><path id=\"IBMPlexSans-6f\" transform=\"scale(.015625)\" d=\"m1792-77q-333 0-608 121-275 122-471 349-195 228-304 544-108 317-108 714 0 391 108 711 109 320 304 547 196 227 471 348 275 122 608 122t605-122q272-121 470-348 199-227 307-547 109-320 109-711 0-397-109-714-108-316-307-544-198-227-470-349-272-121-605-121zm0 455q416 0 678 256 263 256 263 780v474q0 525-263 781-262 256-678 256t-679-256q-262-256-262-781v-474q0-524 262-780 263-256 679-256z\"/><path id=\"IBMPlexSans-66\" transform=\"scale(.015625)\" d=\"m723 2854h-537v448h537v666q0 346 179 557 180 211 544 211h500v-448h-711v-986h711v-448h-711v-2854h-512v2854z\"/><path id=\"IBMPlexSans-61\" transform=\"scale(.015625)\" d=\"m2944 0q-288 0-413 153-125 154-157 385h-32q-108-308-358-462-250-153-595-153-525 0-816 269t-291 730q0 467 342 716 342 250 1066 250h652v326q0 352-192 538t-588 186q-301 0-503-135-201-134-336-358l-307 288q134 269 428 457 295 189 743 189 602 0 934-295 333-294 333-818v-1818h378v-448h-288zm-1472 358q192 0 352 45t275 128 179 192 64 237v544h-678q-442 0-644-128-201-128-201-371v-135q0-243 176-378 176-134 477-134z\"/><path id=\"IBMPlexSans-70\" transform=\"scale(.015625)\" d=\"m544 3302h512v-537h26q128 313 374 463 246 151 592 151 307 0 556-122 250-121 426-345t269-544 93-717-93-717-269-544-426-346q-249-121-556-121-672 0-966 615h-26v-1818h-512v4582zm1363-2918q435 0 685 272t250 714v563q0 441-250 713t-685 272q-173 0-330-48-156-48-272-131-115-83-182-202-67-118-67-252v-1229q0-160 67-285t182-211q116-86 272-131 157-45 330-45z\"/><path id=\"IBMPlexSans-6c\" transform=\"scale(.015625)\" d=\"m1088 0q-269 0-407 150-137 151-137 381v4205h512v-4288h486v-448h-454z\"/><path id=\"IBMPlexSans-69\" transform=\"scale(.015625)\" d=\"m800 4077q-166 0-240 80t-74 208v83q0 128 74 208t240 80 240-80 74-208v-83q0-128-74-208t-240-80zm-256-775h512v-3302h-512v3302z\"/><path id=\"IBMPlexSans-63\" transform=\"scale(.015625)\" d=\"m1773-77q-346 0-621 121-275 122-464 346t-288 544-99 717 99 717 288 544 464 345q275 122 621 122 493 0 790-215 298-214 445-559l-429-218q-89 256-294 397t-512 141q-231 0-404-74-172-73-288-205-115-131-173-314-57-182-57-399v-563q0-436 233-714 234-278 689-278 621 0 896 576l371-250q-160-358-477-570-317-211-790-211z\"/><path id=\"IBMPlexSans-74\" transform=\"scale(.015625)\" d=\"m1274 0q-269 0-407 150-137 151-137 394v2310h-544v448h307q166 0 227 67 61 68 61 234v615h461v-916h723v-448h-723v-2406h672v-448h-640z\"/><path id=\"IBMPlexSans-6e\" transform=\"scale(.015625)\" d=\"m544 0v3302h512v-537h26q121 281 342 447 221 167 592 167 512 0 809-330 298-329 298-931v-2118h-512v2029q0 889-749 889-153 0-297-38t-260-115q-115-77-182-196-67-118-67-278v-2291h-512z\"/><path id=\"IBMPlexSans-73\" transform=\"scale(.015625)\" d=\"m1536-77q-461 0-772 176-310 176-534 471l365 294q192-243 429-375 237-131 550-131 327 0 509 141 183 141 183 397 0 192-125 329-125 138-451 189l-263 39q-230 32-422 99t-336 179-224 278q-80 167-80 397 0 244 89 426 90 182 247 304t374 182q218 61 467 61 404 0 676-141 272-140 476-390l-339-307q-109 153-320 278t-531 125-483-138q-163-137-163-374 0-243 163-352t470-160l256-38q551-84 781-318 230-233 230-610 0-480-326-756-326-275-896-275z\"/><path id=\"IBMPlexSans-55\" transform=\"scale(.015625)\" d=\"m1101 4467v-2765q0-640 236-970 237-329 833-329 595 0 831 329 237 330 237 970v2765h538v-2637q0-486-87-845-86-358-278-595-192-236-503-352-310-115-758-115t-752 115q-304 116-490 352-185 237-265 595-80 359-80 845v2637h538z\"/></defs><use xlink:href=\"#IBMPlexSans-4e\"/><use x=\"70.699982\" xlink:href=\"#IBMPlexSans-75\"/><use x=\"127.499969\" xlink:href=\"#IBMPlexSans-6d\"/><use x=\"214.799957\" xlink:href=\"#IBMPlexSans-62\"/><use x=\"272.799942\" xlink:href=\"#IBMPlexSans-65\"/><use x=\"327.699936\" xlink:href=\"#IBMPlexSans-72\"/><use x=\"364.399933\" xlink:href=\"#IBMPlexSans-20\"/><use x=\"387.999924\" xlink:href=\"#IBMPlexSans-6f\"/><use x=\"443.999908\" xlink:href=\"#IBMPlexSans-66\"/><use x=\"476.399902\" xlink:href=\"#IBMPlexSans-20\"/><use x=\"499.999893\" xlink:href=\"#IBMPlexSans-61\"/><use x=\"553.399887\" xlink:href=\"#IBMPlexSans-70\"/><use x=\"611.399872\" xlink:href=\"#IBMPlexSans-70\"/><use x=\"669.399857\" xlink:href=\"#IBMPlexSans-6c\"/><use x=\"696.599854\" xlink:href=\"#IBMPlexSans-69\"/><use x=\"721.599838\" xlink:href=\"#IBMPlexSans-63\"/><use x=\"771.899826\" xlink:href=\"#IBMPlexSans-61\"/><use x=\"825.29982\" xlink:href=\"#IBMPlexSans-74\"/><use x=\"860.399811\" xlink:href=\"#IBMPlexSans-69\"/><use x=\"885.399796\" xlink:href=\"#IBMPlexSans-6f\"/><use x=\"941.39978\" xlink:href=\"#IBMPlexSans-6e\"/><use x=\"998.199768\" xlink:href=\"#IBMPlexSans-73\"/><use x=\"1046.899765\" xlink:href=\"#IBMPlexSans-20\"/><use x=\"1070.499756\" xlink:href=\"#IBMPlexSans-6f\"/><use x=\"1126.499741\" xlink:href=\"#IBMPlexSans-66\"/><use x=\"1158.899734\" xlink:href=\"#IBMPlexSans-20\"/><use x=\"1182.499725\" xlink:href=\"#IBMPlexSans-55\"/></g><defs><path id=\"m02c6f47917\" d=\"m0 0h-3.5\" stroke=\"#dde1e6\" stroke-width=\".8\"/></defs><use x=\"39.720313\" y=\"235.813636\" fill=\"#dde1e6\" stroke=\"#dde1e6\" stroke-width=\".8\" xlink:href=\"#m02c6f47917\"/><g transform=\"translate(26.72 239.51) scale(.1 -.1)\" fill=\"#343a3f\"><use xlink:href=\"#IBMPlexSans-30\"/></g><use x=\"39.720313\" y=\"204.927273\" fill=\"#dde1e6\" stroke=\"#dde1e6\" stroke-width=\".8\" xlink:href=\"#m02c6f47917\"/><g transform=\"translate(26.72 208.63) scale(.1 -.1)\" fill=\"#343a3f\"><use xlink:href=\"#IBMPlexSans-35\"/></g><use x=\"39.720313\" y=\"174.040909\" fill=\"#dde1e6\" stroke=\"#dde1e6\" stroke-width=\".8\" xlink:href=\"#m02c6f47917\"/><g transform=\"translate(20.72 177.74) scale(.1 -.1)\" fill=\"#343a3f\"><use xlink:href=\"#IBMPlexSans-31\"/><use x=\"59.999985\" xlink:href=\"#IBMPlexSans-30\"/></g><use x=\"39.720313\" y=\"143.154545\" fill=\"#dde1e6\" stroke=\"#dde1e6\" stroke-width=\".8\" xlink:href=\"#m02c6f47917\"/><g transform=\"translate(20.72 146.85) scale(.1 -.1)\" fill=\"#343a3f\"><use xlink:href=\"#IBMPlexSans-31\"/><use x=\"59.999985\" xlink:href=\"#IBMPlexSans-35\"/></g><use x=\"39.720313\" y=\"112.268182\" fill=\"#dde1e6\" stroke=\"#dde1e6\" stroke-width=\".8\" xlink:href=\"#m02c6f47917\"/><g transform=\"translate(20.72 115.97) scale(.1 -.1)\" fill=\"#343a3f\"><use xlink:href=\"#IBMPlexSans-32\"/><use x=\"59.999985\" xlink:href=\"#IBMPlexSans-30\"/></g><use x=\"39.720313\" y=\"81.381818\" fill=\"#dde1e6\" stroke=\"#dde1e6\" stroke-width=\".8\" xlink:href=\"#m02c6f47917\"/><g transform=\"translate(20.72 85.082) scale(.1 -.1)\" fill=\"#343a3f\"><use xlink:href=\"#IBMPlexSans-32\"/><use x=\"59.999985\" xlink:href=\"#IBMPlexSans-35\"/></g><use x=\"39.720313\" y=\"50.495455\" fill=\"#dde1e6\" stroke=\"#dde1e6\" stroke-width=\".8\" xlink:href=\"#m02c6f47917\"/><g transform=\"translate(20.72 54.195) scale(.1 -.1)\" fill=\"#343a3f\"><use xlink:href=\"#IBMPlexSans-33\"/><use x=\"59.999985\" xlink:href=\"#IBMPlexSans-30\"/></g><g transform=\"translate(14.6 176.01) rotate(-90) scale(.1 -.1)\" fill=\"#343a3f\"><defs><path id=\"IBMPlexSans-45\" transform=\"scale(.015625)\" d=\"m595 0v4467h2727v-473h-2189v-1498h2061v-474h-2061v-1548h2189v-474h-2727z\"/><path id=\"IBMPlexSans-64\" transform=\"scale(.015625)\" d=\"m2656 538h-26q-300-615-966-615-307 0-557 121-249 122-425 346t-269 544-93 717 93 717 269 544 425 345q250 122 557 122 346 0 592-151 246-150 374-463h26v1971h512v-4736h-512v538zm-851-154q173 0 329 45 157 45 272 131 116 86 183 211t67 285v1229q0 134-67 252-67 119-183 202-115 83-272 131-156 48-329 48-435 0-685-272t-250-713v-563q0-442 250-714t685-272z\"/><path id=\"IBMPlexSans-67\" transform=\"scale(.015625)\" d=\"m3328-365q0-512-400-752t-1200-240q-774 0-1114 212-339 211-339 601 0 269 141 420 141 150 384 220v70q-294 141-294 461 0 250 160 381t409 195v26q-294 141-458 403-163 262-163 608 0 250 90 461t253 361q163 151 390 234t509 83q352 0 627-128v58q0 192 89 316 90 125 295 125h493v-448h-627v-211q179-153 278-368 99-214 99-483 0-250-90-461-89-211-252-362-163-150-394-233-230-83-512-83-160 0-320 32-166-45-301-132-134-86-134-239 0-148 141-199t365-51h704q614 0 892-234 279-233 279-643zm-480-38q0 198-151 317-150 118-534 118h-1101q-307-141-307-448 0-218 163-371 164-154 554-154h474q428 0 665 135 237 134 237 403zm-1146 1913q327 0 519 157t192 483v180q0 326-192 483t-519 157q-326 0-518-157t-192-483v-180q0-326 192-483t518-157z\"/></defs><use xlink:href=\"#IBMPlexSans-45\"/><use x=\"58.299988\" xlink:href=\"#IBMPlexSans-6e\"/><use x=\"115.099976\" xlink:href=\"#IBMPlexSans-64\"/><use x=\"173.09996\" xlink:href=\"#IBMPlexSans-20\"/><use x=\"196.699951\" xlink:href=\"#IBMPlexSans-73\"/><use x=\"245.399948\" xlink:href=\"#IBMPlexSans-74\"/><use x=\"280.499939\" xlink:href=\"#IBMPlexSans-61\"/><use x=\"333.899933\" xlink:href=\"#IBMPlexSans-74\"/><use x=\"368.999924\" xlink:href=\"#IBMPlexSans-65\"/><use x=\"423.899918\" xlink:href=\"#IBMPlexSans-20\"/><use x=\"447.499908\" xlink:href=\"#IBMPlexSans-6f\"/><use x=\"503.499893\" xlink:href=\"#IBMPlexSans-66\"/><use x=\"535.899887\" xlink:href=\"#IBMPlexSans-20\"/><use x=\"559.499878\" xlink:href=\"#IBMPlexSans-72\"/><use x=\"596.199875\" xlink:href=\"#IBMPlexSans-65\"/><use x=\"651.099869\" xlink:href=\"#IBMPlexSans-67\"/><use x=\"703.899857\" xlink:href=\"#IBMPlexSans-69\"/><use x=\"728.899841\" xlink:href=\"#IBMPlexSans-73\"/><use x=\"777.599838\" xlink:href=\"#IBMPlexSans-74\"/><use x=\"812.699829\" xlink:href=\"#IBMPlexSans-65\"/><use x=\"867.599823\" xlink:href=\"#IBMPlexSans-72\"/></g><path d=\"m54.938 229.64 8.9519-12.355 8.9519-37.064 8.9519-111.19 8.9519 98.836 8.9519-135.9 8.9519 24.709 8.9519 74.127 8.9519 6.1773 8.9519 18.532 8.9519 55.595 8.9519-49.418 8.9519 67.95 8.9519-12.355 8.9519-37.064 8.9519-111.19 8.9519 98.836 8.9519-135.9 8.9519 24.709 8.9519 74.127 8.9519 6.1773 8.9519 18.532 8.9519 55.595 8.9519-49.418 8.9519 67.95 8.9519-12.355 8.9519-37.064 8.9519-111.19 8.9519 98.836 8.9519-135.9 8.9519 24.709 8.9519 74.127 8.9519 6.1773 8.9519 18.532 8.9519 55.595\" clip-path=\"url(#pf9c92879c9)\" fill=\"none\" stroke=\"#0f62fe\" stroke-dasharray=\"1,1.65\"/><defs><path id=\"md2f8e6c09a\" d=\"m-3 3 6-6m-6 0 6 6\" stroke=\"#0f62fe\"/></defs><g clip-path=\"url(#pf9c92879c9)\" fill=\"#0f62fe\" stroke=\"#0f62fe\"><use x=\"54.938494\" y=\"229.636364\" xlink:href=\"#md2f8e6c09a\"/><use x=\"63.890366\" y=\"217.281818\" xlink:href=\"#md2f8e6c09a\"/><use x=\"72.842238\" y=\"180.218182\" xlink:href=\"#md2f8e6c09a\"/><use x=\"81.794109\" y=\"69.027273\" xlink:href=\"#md2f8e6c09a\"/><use x=\"90.745981\" y=\"167.863636\" xlink:href=\"#md2f8e6c09a\"/><use x=\"99.697853\" y=\"31.963636\" xlink:href=\"#md2f8e6c09a\"/><use x=\"108.649724\" y=\"56.672727\" xlink:href=\"#md2f8e6c09a\"/><use x=\"117.601596\" y=\"130.8\" xlink:href=\"#md2f8e6c09a\"/><use x=\"126.553468\" y=\"136.977273\" xlink:href=\"#md2f8e6c09a\"/><use x=\"135.505339\" y=\"155.509091\" xlink:href=\"#md2f8e6c09a\"/><use x=\"144.457211\" y=\"211.104545\" xlink:href=\"#md2f8e6c09a\"/><use x=\"153.409083\" y=\"161.686364\" xlink:href=\"#md2f8e6c09a\"/><use x=\"162.360954\" y=\"229.636364\" xlink:href=\"#md2f8e6c09a\"/><use x=\"171.312826\" y=\"217.281818\" xlink:href=\"#md2f8e6c09a\"/><use x=\"180.264698\" y=\"180.218182\" xlink:href=\"#md2f8e6c09a\"/><use x=\"189.216569\" y=\"69.027273\" xlink:href=\"#md2f8e6c09a\"/><use x=\"198.168441\" y=\"167.863636\" xlink:href=\"#md2f8e6c09a\"/><use x=\"207.120313\" y=\"31.963636\" xlink:href=\"#md2f8e6c09a\"/><use x=\"216.072184\" y=\"56.672727\" xlink:href=\"#md2f8e6c09a\"/><use x=\"225.024056\" y=\"130.8\" xlink:href=\"#md2f8e6c09a\"/><use x=\"233.975927\" y=\"136.977273\" xlink:href=\"#md2f8e6c09a\"/><use x=\"242.927799\" y=\"155.509091\" xlink:href=\"#md2f8e6c09a\"/><use x=\"251.879671\" y=\"211.104545\" xlink:href=\"#md2f8e6c09a\"/><use x=\"260.831542\" y=\"161.686364\" xlink:href=\"#md2f8e6c09a\"/><use x=\"269.783414\" y=\"229.636364\" xlink:href=\"#md2f8e6c09a\"/><use x=\"278.735286\" y=\"217.281818\" xlink:href=\"#md2f8e6c09a\"/><use x=\"287.687157\" y=\"180.218182\" xlink:href=\"#md2f8e6c09a\"/><use x=\"296.639029\" y=\"69.027273\" xlink:href=\"#md2f8e6c09a\"/><use x=\"305.590901\" y=\"167.863636\" xlink:href=\"#md2f8e6c09a\"/><use x=\"314.542772\" y=\"31.963636\" xlink:href=\"#md2f8e6c09a\"/><use x=\"323.494644\" y=\"56.672727\" xlink:href=\"#md2f8e6c09a\"/><use x=\"332.446516\" y=\"130.8\" xlink:href=\"#md2f8e6c09a\"/><use x=\"341.398387\" y=\"136.977273\" xlink:href=\"#md2f8e6c09a\"/><use x=\"350.350259\" y=\"155.509091\" xlink:href=\"#md2f8e6c09a\"/><use x=\"359.302131\" y=\"211.104545\" xlink:href=\"#md2f8e6c09a\"/></g><path d=\"m39.72 239.52v-217.44\" fill=\"none\" stroke=\"#dde1e6\" stroke-linecap=\"square\" stroke-width=\".8\"/><path d=\"m374.52 239.52v-217.44\" fill=\"none\" stroke=\"#dde1e6\" stroke-linecap=\"square\" stroke-width=\".8\"/><path d=\"m39.72 239.52h334.8\" fill=\"none\" stroke=\"#dde1e6\" stroke-linecap=\"square\" stroke-width=\".8\"/><path d=\"m39.72 22.08h334.8\" fill=\"none\" stroke=\"#dde1e6\" stroke-linecap=\"square\" stroke-width=\".8\"/><g fill=\"none\" stroke=\"#343a3f\" stroke-linecap=\"round\"><path d=\"m159.24 229.64q-50.593 0-101.19 0\"/><path d=\"m155.24 227.64 4 2-4 2\"/><path d=\"m62.054 231.64-4-2 4-2\"/></g><g transform=\"translate(90.746 226.55) scale(.1 -.1)\" fill=\"#343a3f\"><defs><path id=\"DejaVuSans-Oblique-72\" transform=\"scale(.015625)\" d=\"m2853 2969q-87 47-200 72-112 25-240 25-460 0-804-349-343-348-456-933l-353-1784h-575l684 3500h575l-109-544q228 303 545 465 318 163 677 163 94 0 184-11 91-10 182-35l-110-569z\"/><path id=\"DejaVuSans-3d\" transform=\"scale(.015625)\" d=\"m678 2906h4006v-525h-4006v525zm0-1275h4006v-531h-4006v531z\"/><path id=\"DejaVuSans-31\" transform=\"scale(.015625)\" d=\"m794 531h1031v3560l-1122-225v575l1116 225h631v-4135h1031v-531h-2687v531z\"/><path id=\"DejaVuSans-32\" transform=\"scale(.015625)\" d=\"m1228 531h2203v-531h-2962v531q359 372 979 998 621 627 780 809 303 340 423 576 121 236 121 464 0 372-261 606-261 235-680 235-297 0-627-103-329-103-704-313v638q381 153 712 231 332 78 607 78 725 0 1156-363 431-362 431-968 0-288-108-546-107-257-392-607-78-91-497-524-418-433-1181-1211z\"/></defs><use transform=\"translate(0 .78125)\" xlink:href=\"#DejaVuSans-Oblique-72\"/><use transform=\"translate(60.596 .78125)\" xlink:href=\"#DejaVuSans-3d\"/><use transform=\"translate(163.87 .78125)\" xlink:href=\"#DejaVuSans-31\"/><use transform=\"translate(227.49 .78125)\" xlink:href=\"#DejaVuSans-32\"/></g><g transform=\"translate(106.29 16.08) scale(.12 -.12)\" fill=\"#343a3f\"><defs><path id=\"IBMPlexSans-53\" transform=\"scale(.015625)\" d=\"m1850-77q-544 0-928 208t-653 573l397 333q236-314 524-477t679-163q480 0 732 230 253 231 253 615 0 320-192 492-192 173-633 276l-365 83q-614 141-938 425-323 285-323 804 0 294 109 524 109 231 304 384 195 154 467 234t599 80q505 0 866-186 362-185 612-544l-403-294q-186 256-449 403-262 147-652 147-429 0-676-182-246-182-246-547 0-320 208-484 208-163 631-259l365-83q659-147 953-448 295-301 295-800 0-307-106-557-106-249-304-422t-483-269-643-96z\"/><path id=\"IBMPlexSans-76\" transform=\"scale(.015625)\" d=\"m1274 0-1159 3302h512l576-1638 359-1126h32l358 1126 589 1638h493l-1165-3302h-595z\"/><path id=\"IBMPlexSans-41\" transform=\"scale(.015625)\" d=\"m3392 0-448 1318h-1805l-448-1318h-544l1562 4467h685l1561-4467h-563zm-1338 3968h-32l-755-2176h1543l-756 2176z\"/></defs><use xlink:href=\"#IBMPlexSans-45\"/><use x=\"58.299988\" xlink:href=\"#IBMPlexSans-66\"/><use x=\"90.699982\" xlink:href=\"#IBMPlexSans-66\"/><use x=\"123.099976\" xlink:href=\"#IBMPlexSans-65\"/><use x=\"177.999969\" xlink:href=\"#IBMPlexSans-63\"/><use x=\"228.299957\" xlink:href=\"#IBMPlexSans-74\"/><use x=\"263.399948\" xlink:href=\"#IBMPlexSans-20\"/><use x=\"286.999939\" xlink:href=\"#IBMPlexSans-6f\"/><use x=\"342.999924\" xlink:href=\"#IBMPlexSans-66\"/><use x=\"375.399918\" xlink:href=\"#IBMPlexSans-20\"/><use x=\"398.999908\" xlink:href=\"#IBMPlexSans-53\"/><use x=\"457.099899\" xlink:href=\"#IBMPlexSans-75\"/><use x=\"513.899887\" xlink:href=\"#IBMPlexSans-63\"/><use x=\"564.199875\" xlink:href=\"#IBMPlexSans-63\"/><use x=\"614.499863\" xlink:href=\"#IBMPlexSans-65\"/><use x=\"669.399857\" xlink:href=\"#IBMPlexSans-73\"/><use x=\"718.099854\" xlink:href=\"#IBMPlexSans-73\"/><use x=\"766.79985\" xlink:href=\"#IBMPlexSans-69\"/><use x=\"791.799835\" xlink:href=\"#IBMPlexSans-76\"/><use x=\"840.999832\" xlink:href=\"#IBMPlexSans-65\"/><use x=\"895.899826\" xlink:href=\"#IBMPlexSans-20\"/><use x=\"919.499817\" xlink:href=\"#IBMPlexSans-41\"/><use x=\"983.599808\" xlink:href=\"#IBMPlexSans-70\"/><use x=\"1041.599792\" xlink:href=\"#IBMPlexSans-70\"/><use x=\"1099.599777\" xlink:href=\"#IBMPlexSans-6c\"/><use x=\"1126.799774\" xlink:href=\"#IBMPlexSans-69\"/><use x=\"1151.799759\" xlink:href=\"#IBMPlexSans-63\"/><use x=\"1202.099747\" xlink:href=\"#IBMPlexSans-61\"/><use x=\"1255.499741\" xlink:href=\"#IBMPlexSans-74\"/><use x=\"1290.599731\" xlink:href=\"#IBMPlexSans-69\"/><use x=\"1315.599716\" xlink:href=\"#IBMPlexSans-6f\"/><use x=\"1371.599701\" xlink:href=\"#IBMPlexSans-6e\"/><use x=\"1428.399689\" xlink:href=\"#IBMPlexSans-73\"/><use x=\"1477.099686\" xlink:href=\"#IBMPlexSans-20\"/><use x=\"1500.699677\" xlink:href=\"#IBMPlexSans-6f\"/><use x=\"1556.699661\" xlink:href=\"#IBMPlexSans-66\"/><use x=\"1589.099655\" xlink:href=\"#IBMPlexSans-20\"/><use x=\"1612.699646\" xlink:href=\"#IBMPlexSans-55\"/></g><defs><clipPath id=\"pf9c92879c9\"><rect x=\"39.72\" y=\"22.08\" width=\"334.8\" height=\"217.44\"/></clipPath></defs></svg>"
      ],
      "text/plain": [
       "<Figure size 432x288 with 1 Axes>"
      ]
     },
     "execution_count": 3,
     "metadata": {},
     "output_type": "execute_result"
    }
   ],
   "source": [
    "ax.set(xlabel='Number of applications of U', ylabel='End state of register',\n",
    "       title=\"Effect of Successive Applications of U\")\n",
    "fig"
   ]
  },
  {
   "cell_type": "markdown",
   "metadata": {},
   "source": [
    "So a superposition of the states in this cycle ($|u_0\\rangle$) would be an eigenstate of $U$:\n",
    "\n",
    "$$|u_0\\rangle = \\tfrac{1}{\\sqrt{r}}\\sum_{k=0}^{r-1}{|a^k \\bmod N\\rangle} $$\n",
    "\n",
    "\n",
    "<details>\n",
    "    <summary>Click to Expand: Example with $a = 3$ and $N=35$</summary>\n",
    "\n",
    "$$\\begin{aligned}\n",
    "|u_0\\rangle &= \\tfrac{1}{\\sqrt{12}}(|1\\rangle + |3\\rangle + |9\\rangle \\dots + |4\\rangle + |12\\rangle) \\\\[10pt]\n",
    "U|u_0\\rangle &= \\tfrac{1}{\\sqrt{12}}(U|1\\rangle + U|3\\rangle + U|9\\rangle \\dots + U|4\\rangle + U|12\\rangle) \\\\[10pt]\n",
    " &= \\tfrac{1}{\\sqrt{12}}(|3\\rangle + |9\\rangle + |27\\rangle \\dots + |12\\rangle + |1\\rangle) \\\\[10pt]\n",
    " &= |u_0\\rangle\n",
    "\\end{aligned}$$\n",
    "</details>\n",
    "\n",
    "\n",
    "This eigenstate has an eigenvalue of 1, which isn’t very interesting. A more interesting eigenstate could be one in which the phase is different for each of these computational basis states. Specifically, let’s look at the case in which the phase of the $k$th state is proportional to $k$:\n",
    "\n",
    "$$\\begin{aligned}\n",
    "|u_1\\rangle &= \\tfrac{1}{\\sqrt{r}}\\sum_{k=0}^{r-1}{e^{-\\tfrac{2\\pi i k}{r}}|a^k \\bmod N\\rangle}\\\\[10pt]\n",
    "U|u_1\\rangle &= e^{\\tfrac{2\\pi i}{r}}|u_1\\rangle \n",
    "\\end{aligned}\n",
    "$$\n",
    "\n",
    "<details>\n",
    "    <summary>Click to Expand: Example with $a = 3$ and $N=35$</summary>\n",
    "\n",
    "$$\\begin{aligned}\n",
    "|u_1\\rangle &= \\tfrac{1}{\\sqrt{12}}(|1\\rangle + e^{-\\tfrac{2\\pi i}{12}}|3\\rangle + e^{-\\tfrac{4\\pi i}{12}}|9\\rangle \\dots + e^{-\\tfrac{20\\pi i}{12}}|4\\rangle + e^{-\\tfrac{22\\pi i}{12}}|12\\rangle) \\\\[10pt]\n",
    "U|u_1\\rangle &= \\tfrac{1}{\\sqrt{12}}(|3\\rangle + e^{-\\tfrac{2\\pi i}{12}}|9\\rangle + e^{-\\tfrac{4\\pi i}{12}}|27\\rangle \\dots + e^{-\\tfrac{20\\pi i}{12}}|12\\rangle + e^{-\\tfrac{22\\pi i}{12}}|1\\rangle) \\\\[10pt]\n",
    "U|u_1\\rangle &= e^{\\tfrac{2\\pi i}{12}}\\cdot\\tfrac{1}{\\sqrt{12}}(e^{\\tfrac{-2\\pi i}{12}}|3\\rangle + e^{-\\tfrac{4\\pi i}{12}}|9\\rangle + e^{-\\tfrac{6\\pi i}{12}}|27\\rangle \\dots + e^{-\\tfrac{22\\pi i}{12}}|12\\rangle + e^{-\\tfrac{24\\pi i}{12}}|1\\rangle) \\\\[10pt]\n",
    "U|u_1\\rangle &= e^{\\tfrac{2\\pi i}{12}}|u_1\\rangle\n",
    "\\end{aligned}$$\n",
    "\n",
    "(We can see $r = 12$ appears in the denominator of the phase.)\n",
    "</details>\n",
    "\n",
    "This is a particularly interesting eigenvalue as it contains $r$. In fact, $r$ has to be included to make sure the phase differences between the $r$ computational basis states are equal. This is not the only eigenstate with this behaviour; to generalise this further, we can multiply an integer, $s$, to this phase difference, which will show up in our eigenvalue:\n",
    "\n",
    "$$\\begin{aligned}\n",
    "|u_s\\rangle &= \\tfrac{1}{\\sqrt{r}}\\sum_{k=0}^{r-1}{e^{-\\tfrac{2\\pi i s k}{r}}|a^k \\bmod N\\rangle}\\\\[10pt]\n",
    "U|u_s\\rangle &= e^{\\tfrac{2\\pi i s}{r}}|u_s\\rangle \n",
    "\\end{aligned}\n",
    "$$\n",
    "\n",
    "<details>\n",
    "    <summary>Click to Expand: Example with $a = 3$ and $N=35$</summary>\n",
    "\n",
    "$$\\begin{aligned}\n",
    "|u_s\\rangle &= \\tfrac{1}{\\sqrt{12}}(|1\\rangle + e^{-\\tfrac{2\\pi i s}{12}}|3\\rangle + e^{-\\tfrac{4\\pi i s}{12}}|9\\rangle \\dots + e^{-\\tfrac{20\\pi i s}{12}}|4\\rangle + e^{-\\tfrac{22\\pi i s}{12}}|12\\rangle) \\\\[10pt]\n",
    "U|u_s\\rangle &= \\tfrac{1}{\\sqrt{12}}(|3\\rangle + e^{-\\tfrac{2\\pi i s}{12}}|9\\rangle + e^{-\\tfrac{4\\pi i s}{12}}|27\\rangle \\dots + e^{-\\tfrac{20\\pi i s}{12}}|12\\rangle + e^{-\\tfrac{22\\pi i s}{12}}|1\\rangle) \\\\[10pt]\n",
    "U|u_s\\rangle &= e^{\\tfrac{2\\pi i s}{12}}\\cdot\\tfrac{1}{\\sqrt{12}}(e^{-\\tfrac{2\\pi i s}{12}}|3\\rangle + e^{-\\tfrac{4\\pi i s}{12}}|9\\rangle + e^{-\\tfrac{6\\pi i s}{12}}|27\\rangle \\dots + e^{-\\tfrac{22\\pi i s}{12}}|12\\rangle + e^{-\\tfrac{24\\pi i s}{12}}|1\\rangle) \\\\[10pt]\n",
    "U|u_s\\rangle &= e^{\\tfrac{2\\pi i s}{12}}|u_s\\rangle\n",
    "\\end{aligned}$$\n",
    "\n",
    "</details>\n",
    "\n",
    "We now have a unique eigenstate for each integer value of $s$ where $$0 \\leq s \\leq r-1.$$ Very conveniently, if we sum up all these eigenstates, the different phases cancel out all computational basis states except $|1\\rangle$:\n",
    "\n",
    "$$ \\tfrac{1}{\\sqrt{r}}\\sum_{s=0}^{r-1} |u_s\\rangle = |1\\rangle$$\n",
    "\n",
    "<details>\n",
    "    <summary>Click to Expand: Example with $a = 7$ and $N=15$</summary>\n",
    "\n",
    "For this, we will look at a smaller example where $a = 7$ and $N=15$. In this case $r=4$:\n",
    "\n",
    "$$\\begin{aligned}\n",
    "\\tfrac{1}{2}(\\quad|u_0\\rangle &= \\tfrac{1}{2}(|1\\rangle \\hphantom{e^{-\\tfrac{2\\pi i}{12}}}+ |7\\rangle \\hphantom{e^{-\\tfrac{12\\pi i}{12}}} + |4\\rangle \\hphantom{e^{-\\tfrac{12\\pi i}{12}}} + |13\\rangle)\\dots \\\\[10pt]\n",
    "+ |u_1\\rangle &= \\tfrac{1}{2}(|1\\rangle + e^{-\\tfrac{2\\pi i}{4}}|7\\rangle + e^{-\\tfrac{\\hphantom{1}4\\pi i}{4}}|4\\rangle + e^{-\\tfrac{\\hphantom{1}6\\pi i}{4}}|13\\rangle)\\dots \\\\[10pt]\n",
    "+ |u_2\\rangle &= \\tfrac{1}{2}(|1\\rangle + e^{-\\tfrac{4\\pi i}{4}}|7\\rangle + e^{-\\tfrac{\\hphantom{1}8\\pi i}{4}}|4\\rangle + e^{-\\tfrac{12\\pi i}{4}}|13\\rangle)\\dots \\\\[10pt]\n",
    "+ |u_3\\rangle &= \\tfrac{1}{2}(|1\\rangle + e^{-\\tfrac{6\\pi i}{4}}|7\\rangle + e^{-\\tfrac{12\\pi i}{4}}|4\\rangle + e^{-\\tfrac{18\\pi i}{4}}|13\\rangle)\\quad) = |1\\rangle \\\\[10pt]\n",
    "\\end{aligned}$$\n",
    "\n",
    "</details>\n",
    "\n",
    "Since the computational basis state $|1\\rangle$ is a superposition of these eigenstates, which means if we do QPE on $U$ using the state $|1\\rangle$, we will measure a phase:\n",
    "\n",
    "$$\\phi = \\frac{s}{r}$$\n",
    "\n",
    "Where $s$ is a random integer between $0$ and $r-1$. We finally use the [continued fractions](https://en.wikipedia.org/wiki/Continued_fraction) algorithm on $\\phi$ to find $r$. The circuit diagram looks like this (note that this diagram uses Qiskit's qubit ordering convention):\n",
    "\n",
    "<img src=\"images/shor_circuit_1.svg\">\n",
    "\n",
    "We will next demonstrate Shor’s algorithm using Qiskit’s simulators. For this demonstration we will provide the circuits for $U$ without explanation, but in section 4 we will discuss how circuits for $U^{2^j}$ can be constructed efficiently."
   ]
  },
  {
   "cell_type": "markdown",
   "metadata": {},
   "source": [
    "## 3. Qiskit Implementation\n",
    "\n",
    "In this example we will solve the period finding problem for $a=7$ and $N=15$. We provide the circuits for $U$ where:\n",
    "\n",
    "$$U|y\\rangle = |ay\\bmod 15\\rangle $$\n",
    "\n",
    "without explanation. To create $U^x$, we will simply repeat the circuit $x$ times. In the next section we will discuss a general method for creating these circuits efficiently. The function `c_amod15` returns the controlled-U gate for `a`, repeated `power` times."
   ]
  },
  {
   "cell_type": "code",
   "execution_count": 4,
   "metadata": {
    "tags": [
     "thebelab-init"
    ]
   },
   "outputs": [],
   "source": [
    "def c_amod15(a, power):\n",
    "    \"\"\"Controlled multiplication by a mod 15\"\"\"\n",
    "    if a not in [2,4,7,8,11,13]:\n",
    "        raise ValueError(\"'a' must be 2,4,7,8,11 or 13\")\n",
    "    U = QuantumCircuit(4)        \n",
    "    for iteration in range(power):\n",
    "        if a in [2,13]:\n",
    "            U.swap(0,1)\n",
    "            U.swap(1,2)\n",
    "            U.swap(2,3)\n",
    "        if a in [7,8]:\n",
    "            U.swap(2,3)\n",
    "            U.swap(1,2)\n",
    "            U.swap(0,1)\n",
    "        if a in [4, 11]:\n",
    "            U.swap(1,3)\n",
    "            U.swap(0,2)\n",
    "        if a in [7,11,13]:\n",
    "            for q in range(4):\n",
    "                U.x(q)\n",
    "    U = U.to_gate()\n",
    "    U.name = \"%i^%i mod 15\" % (a, power)\n",
    "    c_U = U.control()\n",
    "    return c_U"
   ]
  },
  {
   "cell_type": "markdown",
   "metadata": {},
   "source": [
    "We will use 8 counting qubits:"
   ]
  },
  {
   "cell_type": "code",
   "execution_count": 5,
   "metadata": {
    "tags": [
     "thebelab-init"
    ]
   },
   "outputs": [],
   "source": [
    "# Specify variables\n",
    "n_count = 8  # number of counting qubits\n",
    "a = 7"
   ]
  },
  {
   "cell_type": "markdown",
   "metadata": {},
   "source": [
    "We also import the circuit for the QFT (you can read more about the QFT in the [quantum Fourier transform chapter](./quantum-fourier-transform.html#generalqft)):"
   ]
  },
  {
   "cell_type": "code",
   "execution_count": 6,
   "metadata": {
    "tags": [
     "thebelab-init"
    ]
   },
   "outputs": [],
   "source": [
    "def qft_dagger(n):\n",
    "    \"\"\"n-qubit QFTdagger the first n qubits in circ\"\"\"\n",
    "    qc = QuantumCircuit(n)\n",
    "    # Don't forget the Swaps!\n",
    "    for qubit in range(n//2):\n",
    "        qc.swap(qubit, n-qubit-1)\n",
    "    for j in range(n):\n",
    "        for m in range(j):\n",
    "            qc.cp(-np.pi/float(2**(j-m)), m, j)\n",
    "        qc.h(j)\n",
    "    qc.name = \"QFT†\"\n",
    "    return qc"
   ]
  },
  {
   "cell_type": "markdown",
   "metadata": {},
   "source": [
    "With these building blocks we can easily construct the circuit for Shor's algorithm:"
   ]
  },
  {
   "cell_type": "code",
   "execution_count": 7,
   "metadata": {
    "scrolled": false
   },
   "outputs": [
    {
     "data": {
      "image/svg+xml": [
       "<?xml version=\"1.0\" encoding=\"UTF-8\"?><!DOCTYPE svg  PUBLIC '-//W3C//DTD SVG 1.1//EN'  'http://www.w3.org/Graphics/SVG/1.1/DTD/svg11.dtd'><svg width=\"1680.4pt\" height=\"623.44pt\" version=\"1.1\" viewBox=\"0 0 1680.4 623.44\" xmlns=\"http://www.w3.org/2000/svg\" xmlns:xlink=\"http://www.w3.org/1999/xlink\"><defs><style type=\"text/css\">*{stroke-linecap:butt;stroke-linejoin:round;}</style></defs><path d=\"m0 623.44h1680.4v-623.44h-1680.4z\" fill=\"#ffffff\"/><path d=\"m1319.1 578.63h11.817l-5.9086 8.5221z\" clip-path=\"url(#p526f0eeec8)\" fill=\"#778899\"/><path d=\"m1364.6 578.63h11.817l-5.9086 8.5221z\" clip-path=\"url(#p526f0eeec8)\" fill=\"#778899\"/><path d=\"m1410 578.63h11.817l-5.9086 8.5221z\" clip-path=\"url(#p526f0eeec8)\" fill=\"#778899\"/><path d=\"m1455.5 578.63h11.817l-5.9086 8.5221z\" clip-path=\"url(#p526f0eeec8)\" fill=\"#778899\"/><path d=\"m1500.9 578.63h11.817l-5.9086 8.5221z\" clip-path=\"url(#p526f0eeec8)\" fill=\"#778899\"/><path d=\"m1546.4 578.63h11.817l-5.9086 8.5221z\" clip-path=\"url(#p526f0eeec8)\" fill=\"#778899\"/><path d=\"m1591.8 578.63h11.817l-5.9086 8.5221z\" clip-path=\"url(#p526f0eeec8)\" fill=\"#778899\"/><path d=\"m1637.3 578.63h11.817l-5.9086 8.5221z\" clip-path=\"url(#p526f0eeec8)\" fill=\"#778899\"/><path d=\"m73.291 43.561h1595.3\" clip-path=\"url(#p526f0eeec8)\" fill=\"none\" stroke=\"#000000\" stroke-linecap=\"square\" stroke-width=\"2\"/><path d=\"m73.291 89.012h1595.3\" clip-path=\"url(#p526f0eeec8)\" fill=\"none\" stroke=\"#000000\" stroke-linecap=\"square\" stroke-width=\"2\"/><path d=\"m73.291 134.46h1595.3\" clip-path=\"url(#p526f0eeec8)\" fill=\"none\" stroke=\"#000000\" stroke-linecap=\"square\" stroke-width=\"2\"/><path d=\"m73.291 179.91h1595.3\" clip-path=\"url(#p526f0eeec8)\" fill=\"none\" stroke=\"#000000\" stroke-linecap=\"square\" stroke-width=\"2\"/><path d=\"m73.291 225.36h1595.3\" clip-path=\"url(#p526f0eeec8)\" fill=\"none\" stroke=\"#000000\" stroke-linecap=\"square\" stroke-width=\"2\"/><path d=\"m73.291 270.82h1595.3\" clip-path=\"url(#p526f0eeec8)\" fill=\"none\" stroke=\"#000000\" stroke-linecap=\"square\" stroke-width=\"2\"/><path d=\"m73.291 316.27h1595.3\" clip-path=\"url(#p526f0eeec8)\" fill=\"none\" stroke=\"#000000\" stroke-linecap=\"square\" stroke-width=\"2\"/><path d=\"m73.291 361.72h1595.3\" clip-path=\"url(#p526f0eeec8)\" fill=\"none\" stroke=\"#000000\" stroke-linecap=\"square\" stroke-width=\"2\"/><path d=\"m73.291 407.17h1595.3\" clip-path=\"url(#p526f0eeec8)\" fill=\"none\" stroke=\"#000000\" stroke-linecap=\"square\" stroke-width=\"2\"/><path d=\"m73.291 452.62h1595.3\" clip-path=\"url(#p526f0eeec8)\" fill=\"none\" stroke=\"#000000\" stroke-linecap=\"square\" stroke-width=\"2\"/><path d=\"m73.291 498.07h1595.3\" clip-path=\"url(#p526f0eeec8)\" fill=\"none\" stroke=\"#000000\" stroke-linecap=\"square\" stroke-width=\"2\"/><path d=\"m73.291 543.52h1595.3\" clip-path=\"url(#p526f0eeec8)\" fill=\"none\" stroke=\"#000000\" stroke-linecap=\"square\" stroke-width=\"2\"/><path d=\"m73.291 587.5h1595.3\" clip-path=\"url(#p526f0eeec8)\" fill=\"none\" stroke=\"#778899\" stroke-linecap=\"square\" stroke-width=\"2\"/><path d=\"m73.291 590.45h1595.3\" clip-path=\"url(#p526f0eeec8)\" fill=\"none\" stroke=\"#778899\" stroke-linecap=\"square\" stroke-width=\"2\"/><path d=\"m82.381 593.52 4.5451-9.0902\" clip-path=\"url(#p526f0eeec8)\" fill=\"none\" stroke=\"#778899\" stroke-linecap=\"square\" stroke-width=\"1.5\"/><path d=\"m188.74 543.52v-499.96\" clip-path=\"url(#p526f0eeec8)\" fill=\"none\" stroke=\"#6929c4\" stroke-linecap=\"square\" stroke-width=\"2\"/><path d=\"m325.09 543.52v-454.51\" clip-path=\"url(#p526f0eeec8)\" fill=\"none\" stroke=\"#6929c4\" stroke-linecap=\"square\" stroke-width=\"2\"/><path d=\"m461.44 543.52v-409.06\" clip-path=\"url(#p526f0eeec8)\" fill=\"none\" stroke=\"#6929c4\" stroke-linecap=\"square\" stroke-width=\"2\"/><path d=\"m597.8 543.52v-363.61\" clip-path=\"url(#p526f0eeec8)\" fill=\"none\" stroke=\"#6929c4\" stroke-linecap=\"square\" stroke-width=\"2\"/><path d=\"m734.15 543.52v-318.16\" clip-path=\"url(#p526f0eeec8)\" fill=\"none\" stroke=\"#6929c4\" stroke-linecap=\"square\" stroke-width=\"2\"/><path d=\"m870.5 543.52v-272.71\" clip-path=\"url(#p526f0eeec8)\" fill=\"none\" stroke=\"#6929c4\" stroke-linecap=\"square\" stroke-width=\"2\"/><path d=\"m1006.9 543.52v-227.25\" clip-path=\"url(#p526f0eeec8)\" fill=\"none\" stroke=\"#6929c4\" stroke-linecap=\"square\" stroke-width=\"2\"/><path d=\"m1143.2 543.52v-181.8\" clip-path=\"url(#p526f0eeec8)\" fill=\"none\" stroke=\"#6929c4\" stroke-linecap=\"square\" stroke-width=\"2\"/><path d=\"m1326.5 43.561v535.07\" clip-path=\"url(#p526f0eeec8)\" fill=\"none\" stroke=\"#778899\" stroke-linecap=\"square\" stroke-width=\"2\"/><path d=\"m1323.5 43.561v535.07\" clip-path=\"url(#p526f0eeec8)\" fill=\"none\" stroke=\"#778899\" stroke-linecap=\"square\" stroke-width=\"2\"/><path d=\"m1371.9 89.012v489.62\" clip-path=\"url(#p526f0eeec8)\" fill=\"none\" stroke=\"#778899\" stroke-linecap=\"square\" stroke-width=\"2\"/><path d=\"m1369 89.012v489.62\" clip-path=\"url(#p526f0eeec8)\" fill=\"none\" stroke=\"#778899\" stroke-linecap=\"square\" stroke-width=\"2\"/><path d=\"m1417.4 134.46v444.17\" clip-path=\"url(#p526f0eeec8)\" fill=\"none\" stroke=\"#778899\" stroke-linecap=\"square\" stroke-width=\"2\"/><path d=\"m1414.4 134.46v444.17\" clip-path=\"url(#p526f0eeec8)\" fill=\"none\" stroke=\"#778899\" stroke-linecap=\"square\" stroke-width=\"2\"/><path d=\"m1462.8 179.91v398.72\" clip-path=\"url(#p526f0eeec8)\" fill=\"none\" stroke=\"#778899\" stroke-linecap=\"square\" stroke-width=\"2\"/><path d=\"m1459.9 179.91v398.72\" clip-path=\"url(#p526f0eeec8)\" fill=\"none\" stroke=\"#778899\" stroke-linecap=\"square\" stroke-width=\"2\"/><path d=\"m1508.3 225.36v353.27\" clip-path=\"url(#p526f0eeec8)\" fill=\"none\" stroke=\"#778899\" stroke-linecap=\"square\" stroke-width=\"2\"/><path d=\"m1505.3 225.36v353.27\" clip-path=\"url(#p526f0eeec8)\" fill=\"none\" stroke=\"#778899\" stroke-linecap=\"square\" stroke-width=\"2\"/><path d=\"m1553.7 270.82v307.82\" clip-path=\"url(#p526f0eeec8)\" fill=\"none\" stroke=\"#778899\" stroke-linecap=\"square\" stroke-width=\"2\"/><path d=\"m1550.8 270.82v307.82\" clip-path=\"url(#p526f0eeec8)\" fill=\"none\" stroke=\"#778899\" stroke-linecap=\"square\" stroke-width=\"2\"/><path d=\"m1599.2 316.27v262.37\" clip-path=\"url(#p526f0eeec8)\" fill=\"none\" stroke=\"#778899\" stroke-linecap=\"square\" stroke-width=\"2\"/><path d=\"m1596.2 316.27v262.37\" clip-path=\"url(#p526f0eeec8)\" fill=\"none\" stroke=\"#778899\" stroke-linecap=\"square\" stroke-width=\"2\"/><path d=\"m1644.6 361.72v216.91\" clip-path=\"url(#p526f0eeec8)\" fill=\"none\" stroke=\"#778899\" stroke-linecap=\"square\" stroke-width=\"2\"/><path d=\"m1641.7 361.72v216.91\" clip-path=\"url(#p526f0eeec8)\" fill=\"none\" stroke=\"#778899\" stroke-linecap=\"square\" stroke-width=\"2\"/><path d=\"m83.063 58.332h29.543v-29.543h-29.543z\" clip-path=\"url(#p526f0eeec8)\" fill=\"#1192e8\" stroke=\"#1192e8\" stroke-width=\"1.5\"/><path d=\"m83.063 103.78h29.543v-29.543h-29.543z\" clip-path=\"url(#p526f0eeec8)\" fill=\"#1192e8\" stroke=\"#1192e8\" stroke-width=\"1.5\"/><path d=\"m83.063 149.23h29.543v-29.543h-29.543z\" clip-path=\"url(#p526f0eeec8)\" fill=\"#1192e8\" stroke=\"#1192e8\" stroke-width=\"1.5\"/><path d=\"m83.063 194.69h29.543v-29.543h-29.543z\" clip-path=\"url(#p526f0eeec8)\" fill=\"#1192e8\" stroke=\"#1192e8\" stroke-width=\"1.5\"/><path d=\"m83.063 240.14h29.543v-29.543h-29.543z\" clip-path=\"url(#p526f0eeec8)\" fill=\"#1192e8\" stroke=\"#1192e8\" stroke-width=\"1.5\"/><path d=\"m83.063 285.59h29.543v-29.543h-29.543z\" clip-path=\"url(#p526f0eeec8)\" fill=\"#1192e8\" stroke=\"#1192e8\" stroke-width=\"1.5\"/><path d=\"m83.063 331.04h29.543v-29.543h-29.543z\" clip-path=\"url(#p526f0eeec8)\" fill=\"#1192e8\" stroke=\"#1192e8\" stroke-width=\"1.5\"/><path d=\"m83.063 376.49h29.543v-29.543h-29.543z\" clip-path=\"url(#p526f0eeec8)\" fill=\"#1192e8\" stroke=\"#1192e8\" stroke-width=\"1.5\"/><path d=\"m83.063 558.29h29.543v-29.543h-29.543z\" clip-path=\"url(#p526f0eeec8)\" fill=\"#005d5d\" stroke=\"#005d5d\" stroke-width=\"1.5\"/><path d=\"m188.74 47.992c1.1752 0 2.3025-0.46693 3.1335-1.2979 0.83102-0.83102 1.2979-1.9583 1.2979-3.1335 0-1.1752-0.46693-2.3025-1.2979-3.1335-0.83102-0.83102-1.9583-1.2979-3.1335-1.2979-1.1752 0-2.3025 0.46693-3.1335 1.2979-0.83102 0.83102-1.2979 1.9583-1.2979 3.1335 0 1.1752 0.46693 2.3025 1.2979 3.1335 0.83102 0.83102 1.9583 1.2979 3.1335 1.2979z\" clip-path=\"url(#p526f0eeec8)\" fill=\"#6929c4\" stroke=\"#6929c4\" stroke-width=\"1.5\"/><path d=\"m141.45 558.29h94.579v-165.9h-94.579z\" clip-path=\"url(#p526f0eeec8)\" fill=\"#6929c4\" stroke=\"#6929c4\" stroke-width=\"1.5\"/><path d=\"m325.09 93.443c1.1752 0 2.3025-0.46693 3.1335-1.2979s1.2979-1.9583 1.2979-3.1335-0.46693-2.3025-1.2979-3.1335c-0.83102-0.83102-1.9583-1.2979-3.1335-1.2979s-2.3025 0.46693-3.1335 1.2979c-0.83102 0.83102-1.2979 1.9583-1.2979 3.1335s0.46693 2.3025 1.2979 3.1335c0.83102 0.83102 1.9583 1.2979 3.1335 1.2979z\" clip-path=\"url(#p526f0eeec8)\" fill=\"#6929c4\" stroke=\"#6929c4\" stroke-width=\"1.5\"/><path d=\"m277.75 558.29h94.674v-165.9h-94.674z\" clip-path=\"url(#p526f0eeec8)\" fill=\"#6929c4\" stroke=\"#6929c4\" stroke-width=\"1.5\"/><path d=\"m461.44 138.89c1.1752 0 2.3025-0.46693 3.1335-1.2979 0.83102-0.83102 1.2979-1.9583 1.2979-3.1335 0-1.1752-0.46693-2.3025-1.2979-3.1335-0.83102-0.83102-1.9583-1.2979-3.1335-1.2979s-2.3025 0.46693-3.1335 1.2979-1.2979 1.9583-1.2979 3.1335c0 1.1752 0.46693 2.3025 1.2979 3.1335 0.83102 0.83102 1.9583 1.2979 3.1335 1.2979z\" clip-path=\"url(#p526f0eeec8)\" fill=\"#6929c4\" stroke=\"#6929c4\" stroke-width=\"1.5\"/><path d=\"m414.11 558.29h94.674v-165.9h-94.674z\" clip-path=\"url(#p526f0eeec8)\" fill=\"#6929c4\" stroke=\"#6929c4\" stroke-width=\"1.5\"/><path d=\"m597.8 184.35c1.1752 0 2.3025-0.46693 3.1335-1.2979 0.83102-0.83102 1.2979-1.9583 1.2979-3.1335 0-1.1752-0.46693-2.3025-1.2979-3.1335-0.83102-0.83102-1.9583-1.2979-3.1335-1.2979-1.1752 0-2.3025 0.46693-3.1335 1.2979-0.83102 0.83102-1.2979 1.9583-1.2979 3.1335 0 1.1752 0.46693 2.3025 1.2979 3.1335s1.9583 1.2979 3.1335 1.2979z\" clip-path=\"url(#p526f0eeec8)\" fill=\"#6929c4\" stroke=\"#6929c4\" stroke-width=\"1.5\"/><path d=\"m550.51 558.29h94.579v-165.9h-94.579z\" clip-path=\"url(#p526f0eeec8)\" fill=\"#6929c4\" stroke=\"#6929c4\" stroke-width=\"1.5\"/><path d=\"m734.15 229.8c1.1752 0 2.3025-0.46693 3.1335-1.2979 0.83102-0.83102 1.2979-1.9583 1.2979-3.1335s-0.46693-2.3025-1.2979-3.1335c-0.83102-0.83102-1.9583-1.2979-3.1335-1.2979-1.1752 0-2.3025 0.46693-3.1335 1.2979-0.83102 0.83102-1.2979 1.9583-1.2979 3.1335s0.46693 2.3025 1.2979 3.1335c0.83102 0.83102 1.9583 1.2979 3.1335 1.2979z\" clip-path=\"url(#p526f0eeec8)\" fill=\"#6929c4\" stroke=\"#6929c4\" stroke-width=\"1.5\"/><path d=\"m682.55 558.29h103.2v-165.9h-103.2z\" clip-path=\"url(#p526f0eeec8)\" fill=\"#6929c4\" stroke=\"#6929c4\" stroke-width=\"1.5\"/><path d=\"m870.5 275.25c1.1752 0 2.3025-0.46693 3.1335-1.2979 0.83102-0.83102 1.2979-1.9583 1.2979-3.1335 0-1.1752-0.46693-2.3025-1.2979-3.1335-0.83102-0.83102-1.9583-1.2979-3.1335-1.2979-1.1752 0-2.3025 0.46693-3.1335 1.2979-0.83102 0.83102-1.2979 1.9583-1.2979 3.1335 0 1.1752 0.46693 2.3025 1.2979 3.1335 0.83102 0.83102 1.9583 1.2979 3.1335 1.2979z\" clip-path=\"url(#p526f0eeec8)\" fill=\"#6929c4\" stroke=\"#6929c4\" stroke-width=\"1.5\"/><path d=\"m818.81 558.29h103.39v-165.9h-103.39z\" clip-path=\"url(#p526f0eeec8)\" fill=\"#6929c4\" stroke=\"#6929c4\" stroke-width=\"1.5\"/><path d=\"m1006.9 320.7c1.1752 0 2.3025-0.46693 3.1335-1.2979s1.2979-1.9583 1.2979-3.1335-0.46693-2.3025-1.2979-3.1335c-0.83102-0.83102-1.9583-1.2979-3.1335-1.2979s-2.3025 0.46693-3.1335 1.2979c-0.83102 0.83102-1.2979 1.9583-1.2979 3.1335s0.46693 2.3025 1.2979 3.1335c0.83102 0.83102 1.9583 1.2979 3.1335 1.2979z\" clip-path=\"url(#p526f0eeec8)\" fill=\"#6929c4\" stroke=\"#6929c4\" stroke-width=\"1.5\"/><path d=\"m955.21 558.29h103.29v-165.9h-103.29z\" clip-path=\"url(#p526f0eeec8)\" fill=\"#6929c4\" stroke=\"#6929c4\" stroke-width=\"1.5\"/><path d=\"m1143.2 366.15c1.1752 0 2.3025-0.46693 3.1335-1.2979 0.83102-0.83102 1.2979-1.9583 1.2979-3.1335 0-1.1752-0.46693-2.3025-1.2979-3.1335-0.83102-0.83102-1.9583-1.2979-3.1335-1.2979s-2.3025 0.46693-3.1335 1.2979c-0.83102 0.83102-1.2979 1.9583-1.2979 3.1335 0 1.1752 0.46693 2.3025 1.2979 3.1335 0.83102 0.83102 1.9583 1.2979 3.1335 1.2979z\" clip-path=\"url(#p526f0eeec8)\" fill=\"#6929c4\" stroke=\"#6929c4\" stroke-width=\"1.5\"/><path d=\"m1087.3 558.29h111.91v-165.9h-111.91z\" clip-path=\"url(#p526f0eeec8)\" fill=\"#6929c4\" stroke=\"#6929c4\" stroke-width=\"1.5\"/><path d=\"m1234.9 376.49h43.915v-347.7h-43.915z\" clip-path=\"url(#p526f0eeec8)\" fill=\"#6929c4\" stroke=\"#6929c4\" stroke-width=\"1.5\"/><path d=\"m1310.2 58.332h29.543v-29.543h-29.543z\" clip-path=\"url(#p526f0eeec8)\" fill=\"#121619\" stroke=\"#121619\" stroke-width=\"1.5\"/><path d=\"m1335.4 47.992c0-2.7413-1.0901-5.3732-3.0285-7.3116-1.9384-1.9384-4.5702-3.0285-7.3116-3.0285s-5.3732 1.0901-7.3116 3.0285c-1.9384 1.9384-3.0285 4.5702-3.0285 7.3116\" clip-path=\"url(#p526f0eeec8)\" fill=\"none\" stroke=\"#ffffff\" stroke-width=\"2\"/><path d=\"m1355.7 103.78h29.543v-29.543h-29.543z\" clip-path=\"url(#p526f0eeec8)\" fill=\"#121619\" stroke=\"#121619\" stroke-width=\"1.5\"/><path d=\"m1380.8 93.443c0-2.7413-1.0901-5.3732-3.0285-7.3116-1.9384-1.9384-4.5702-3.0285-7.3116-3.0285s-5.3732 1.0901-7.3116 3.0285c-1.9384 1.9384-3.0285 4.5702-3.0285 7.3116\" clip-path=\"url(#p526f0eeec8)\" fill=\"none\" stroke=\"#ffffff\" stroke-width=\"2\"/><path d=\"m1401.1 149.23h29.543v-29.543h-29.543z\" clip-path=\"url(#p526f0eeec8)\" fill=\"#121619\" stroke=\"#121619\" stroke-width=\"1.5\"/><path d=\"m1426.3 138.89c0-2.7413-1.0901-5.3732-3.0285-7.3116-1.9384-1.9384-4.5702-3.0285-7.3116-3.0285-2.7413 0-5.3732 1.0901-7.3116 3.0285-1.9384 1.9384-3.0285 4.5702-3.0285 7.3116\" clip-path=\"url(#p526f0eeec8)\" fill=\"none\" stroke=\"#ffffff\" stroke-width=\"2\"/><path d=\"m1446.6 194.69h29.543v-29.543h-29.543z\" clip-path=\"url(#p526f0eeec8)\" fill=\"#121619\" stroke=\"#121619\" stroke-width=\"1.5\"/><path d=\"m1471.7 184.35c0-2.7413-1.0901-5.3732-3.0285-7.3116-1.9384-1.9384-4.5702-3.0285-7.3116-3.0285s-5.3732 1.0901-7.3116 3.0285c-1.9384 1.9384-3.0285 4.5702-3.0285 7.3116\" clip-path=\"url(#p526f0eeec8)\" fill=\"none\" stroke=\"#ffffff\" stroke-width=\"2\"/><path d=\"m1492 240.14h29.543v-29.543h-29.543z\" clip-path=\"url(#p526f0eeec8)\" fill=\"#121619\" stroke=\"#121619\" stroke-width=\"1.5\"/><path d=\"m1517.2 229.8c0-2.7413-1.0901-5.3732-3.0285-7.3116-1.9384-1.9384-4.5702-3.0285-7.3116-3.0285s-5.3732 1.0901-7.3116 3.0285c-1.9384 1.9384-3.0285 4.5702-3.0285 7.3116\" clip-path=\"url(#p526f0eeec8)\" fill=\"none\" stroke=\"#ffffff\" stroke-width=\"2\"/><path d=\"m1537.5 285.59h29.543v-29.543h-29.543z\" clip-path=\"url(#p526f0eeec8)\" fill=\"#121619\" stroke=\"#121619\" stroke-width=\"1.5\"/><path d=\"m1562.6 275.25c0-2.7413-1.0901-5.3732-3.0285-7.3116-1.9384-1.9384-4.5702-3.0285-7.3116-3.0285-2.7413 0-5.3732 1.0901-7.3116 3.0285-1.9384 1.9384-3.0285 4.5702-3.0285 7.3116\" clip-path=\"url(#p526f0eeec8)\" fill=\"none\" stroke=\"#ffffff\" stroke-width=\"2\"/><path d=\"m1582.9 331.04h29.543v-29.543h-29.543z\" clip-path=\"url(#p526f0eeec8)\" fill=\"#121619\" stroke=\"#121619\" stroke-width=\"1.5\"/><path d=\"m1608.1 320.7c0-2.7413-1.0901-5.3732-3.0285-7.3116-1.9384-1.9384-4.5702-3.0285-7.3116-3.0285s-5.3732 1.0901-7.3116 3.0285c-1.9384 1.9384-3.0285 4.5702-3.0285 7.3116\" clip-path=\"url(#p526f0eeec8)\" fill=\"none\" stroke=\"#ffffff\" stroke-width=\"2\"/><path d=\"m1628.4 376.49h29.543v-29.543h-29.543z\" clip-path=\"url(#p526f0eeec8)\" fill=\"#121619\" stroke=\"#121619\" stroke-width=\"1.5\"/><path d=\"m1653.5 366.15c0-2.7413-1.0901-5.3732-3.0285-7.3116-1.9384-1.9384-4.5702-3.0285-7.3116-3.0285s-5.3732 1.0901-7.3116 3.0285c-1.9384 1.9384-3.0285 4.5702-3.0285 7.3116\" clip-path=\"url(#p526f0eeec8)\" fill=\"none\" stroke=\"#ffffff\" stroke-width=\"2\"/><path d=\"m1325 47.992 10.34-10.34\" clip-path=\"url(#p526f0eeec8)\" fill=\"none\" stroke=\"#ffffff\" stroke-linecap=\"square\" stroke-width=\"2\"/><path d=\"m1370.5 93.443 10.34-10.34\" clip-path=\"url(#p526f0eeec8)\" fill=\"none\" stroke=\"#ffffff\" stroke-linecap=\"square\" stroke-width=\"2\"/><path d=\"m1415.9 138.89 10.34-10.34\" clip-path=\"url(#p526f0eeec8)\" fill=\"none\" stroke=\"#ffffff\" stroke-linecap=\"square\" stroke-width=\"2\"/><path d=\"m1461.4 184.35 10.34-10.34\" clip-path=\"url(#p526f0eeec8)\" fill=\"none\" stroke=\"#ffffff\" stroke-linecap=\"square\" stroke-width=\"2\"/><path d=\"m1506.8 229.8 10.34-10.34\" clip-path=\"url(#p526f0eeec8)\" fill=\"none\" stroke=\"#ffffff\" stroke-linecap=\"square\" stroke-width=\"2\"/><path d=\"m1552.3 275.25 10.34-10.34\" clip-path=\"url(#p526f0eeec8)\" fill=\"none\" stroke=\"#ffffff\" stroke-linecap=\"square\" stroke-width=\"2\"/><path d=\"m1597.7 320.7 10.34-10.34\" clip-path=\"url(#p526f0eeec8)\" fill=\"none\" stroke=\"#ffffff\" stroke-linecap=\"square\" stroke-width=\"2\"/><path d=\"m1643.2 366.15 10.34-10.34\" clip-path=\"url(#p526f0eeec8)\" fill=\"none\" stroke=\"#ffffff\" stroke-linecap=\"square\" stroke-width=\"2\"/><g clip-path=\"url(#p526f0eeec8)\"><g transform=\"translate(46.164 48.012) scale(.1625 -.1625)\"><defs><path id=\"DejaVuSans-Oblique-71\" transform=\"scale(.015625)\" d=\"m2669 525q-231-303-546-460-314-156-695-156-531 0-833 358-301 358-301 986 0 506 186 978t533 847q225 244 517 375t614 131q387 0 637-153t363-462l100 525h578l-934-4813h-579l360 1844zm-1778 813q0-463 193-705 194-242 560-242 544 0 928 520t384 1264q0 450-199 689-198 239-569 239-272 0-504-127-231-126-403-370-181-256-286-600-104-343-104-668z\"/><path id=\"DejaVuSans-30\" transform=\"scale(.015625)\" d=\"m2034 4250q-487 0-733-480-245-479-245-1442 0-959 245-1439 246-480 733-480 491 0 736 480 246 480 246 1439 0 963-246 1442-245 480-736 480zm0 500q785 0 1199-621 414-620 414-1801 0-1178-414-1799-414-620-1199-620-784 0-1198 620-414 621-414 1799 0 1181 414 1801 414 621 1198 621z\"/></defs><use xlink:href=\"#DejaVuSans-Oblique-71\"/><use transform=\"translate(63.477 -16.406) scale(.7)\" xlink:href=\"#DejaVuSans-30\"/></g></g><g clip-path=\"url(#p526f0eeec8)\"><g transform=\"translate(46.164 93.463) scale(.1625 -.1625)\"><defs><path id=\"DejaVuSans-31\" transform=\"scale(.015625)\" d=\"m794 531h1031v3560l-1122-225v575l1116 225h631v-4135h1031v-531h-2687v531z\"/></defs><use xlink:href=\"#DejaVuSans-Oblique-71\"/><use transform=\"translate(63.477 -16.406) scale(.7)\" xlink:href=\"#DejaVuSans-31\"/></g></g><g clip-path=\"url(#p526f0eeec8)\"><g transform=\"translate(46.164 138.91) scale(.1625 -.1625)\"><defs><path id=\"DejaVuSans-32\" transform=\"scale(.015625)\" d=\"m1228 531h2203v-531h-2962v531q359 372 979 998 621 627 780 809 303 340 423 576 121 236 121 464 0 372-261 606-261 235-680 235-297 0-627-103-329-103-704-313v638q381 153 712 231 332 78 607 78 725 0 1156-363 431-362 431-968 0-288-108-546-107-257-392-607-78-91-497-524-418-433-1181-1211z\"/></defs><use xlink:href=\"#DejaVuSans-Oblique-71\"/><use transform=\"translate(63.477 -16.406) scale(.7)\" xlink:href=\"#DejaVuSans-32\"/></g></g><g clip-path=\"url(#p526f0eeec8)\"><g transform=\"translate(46.164 184.36) scale(.1625 -.1625)\"><defs><path id=\"DejaVuSans-33\" transform=\"scale(.015625)\" d=\"m2597 2516q453-97 707-404 255-306 255-756 0-690-475-1069-475-378-1350-378-293 0-604 58t-642 174v609q262-153 574-231 313-78 654-78 593 0 904 234t311 681q0 413-289 645-289 233-804 233h-544v519h569q465 0 712 186t247 536q0 359-255 551-254 193-729 193-260 0-557-57-297-56-653-174v562q360 100 674 150t592 50q719 0 1137-327 419-326 419-882 0-388-222-655t-631-370z\"/></defs><use xlink:href=\"#DejaVuSans-Oblique-71\"/><use transform=\"translate(63.477 -16.406) scale(.7)\" xlink:href=\"#DejaVuSans-33\"/></g></g><g clip-path=\"url(#p526f0eeec8)\"><g transform=\"translate(46.164 229.82) scale(.1625 -.1625)\"><defs><path id=\"DejaVuSans-34\" transform=\"scale(.015625)\" d=\"m2419 4116-1594-2491h1594v2491zm-166 550h794v-3041h666v-525h-666v-1100h-628v1100h-2106v609l1940 2957z\"/></defs><use xlink:href=\"#DejaVuSans-Oblique-71\"/><use transform=\"translate(63.477 -16.406) scale(.7)\" xlink:href=\"#DejaVuSans-34\"/></g></g><g clip-path=\"url(#p526f0eeec8)\"><g transform=\"translate(46.164 275.27) scale(.1625 -.1625)\"><defs><path id=\"DejaVuSans-35\" transform=\"scale(.015625)\" d=\"m691 4666h2478v-532h-1900v-1143q137 47 274 70 138 23 276 23 781 0 1237-428 457-428 457-1159 0-753-469-1171-469-417-1322-417-294 0-599 50-304 50-629 150v635q281-153 581-228t634-75q541 0 856 284 316 284 316 772 0 487-316 771-315 285-856 285-253 0-505-56-251-56-513-175v2344z\"/></defs><use xlink:href=\"#DejaVuSans-Oblique-71\"/><use transform=\"translate(63.477 -16.406) scale(.7)\" xlink:href=\"#DejaVuSans-35\"/></g></g><g clip-path=\"url(#p526f0eeec8)\"><g transform=\"translate(46.164 320.72) scale(.1625 -.1625)\"><defs><path id=\"DejaVuSans-36\" transform=\"scale(.015625)\" d=\"m2113 2584q-425 0-674-291-248-290-248-796 0-503 248-796 249-292 674-292t673 292q248 293 248 796 0 506-248 796-248 291-673 291zm1253 1979v-575q-238 112-480 171-242 60-480 60-625 0-955-422-329-422-376-1275 184 272 462 417 279 145 613 145 703 0 1111-427 408-426 408-1160 0-719-425-1154-425-434-1131-434-810 0-1238 620-428 621-428 1799 0 1106 525 1764t1409 658q238 0 480-47t505-140z\"/></defs><use xlink:href=\"#DejaVuSans-Oblique-71\"/><use transform=\"translate(63.477 -16.406) scale(.7)\" xlink:href=\"#DejaVuSans-36\"/></g></g><g clip-path=\"url(#p526f0eeec8)\"><g transform=\"translate(46.164 366.17) scale(.1625 -.1625)\"><defs><path id=\"DejaVuSans-37\" transform=\"scale(.015625)\" d=\"m525 4666h3e3v-269l-1694-4397h-659l1594 4134h-2241v532z\"/></defs><use xlink:href=\"#DejaVuSans-Oblique-71\"/><use transform=\"translate(63.477 -16.406) scale(.7)\" xlink:href=\"#DejaVuSans-37\"/></g></g><g clip-path=\"url(#p526f0eeec8)\"><g transform=\"translate(46.164 411.62) scale(.1625 -.1625)\"><defs><path id=\"DejaVuSans-38\" transform=\"scale(.015625)\" d=\"m2034 2216q-450 0-708-241-257-241-257-662 0-422 257-663 258-241 708-241t709 242q260 243 260 662 0 421-258 662-257 241-711 241zm-631 268q-406 100-633 378-226 279-226 679 0 559 398 884 399 325 1092 325 697 0 1094-325t397-884q0-400-227-679-226-278-629-378 456-106 710-416 255-309 255-755 0-679-414-1042-414-362-1186-362-771 0-1186 362-414 363-414 1042 0 446 256 755 257 310 713 416zm-231 997q0-362 226-565 227-203 636-203 407 0 636 203 230 203 230 565 0 363-230 566-229 203-636 203-409 0-636-203-226-203-226-566z\"/></defs><use xlink:href=\"#DejaVuSans-Oblique-71\"/><use transform=\"translate(63.477 -16.406) scale(.7)\" xlink:href=\"#DejaVuSans-38\"/></g></g><g clip-path=\"url(#p526f0eeec8)\"><g transform=\"translate(46.164 457.07) scale(.1625 -.1625)\"><defs><path id=\"DejaVuSans-39\" transform=\"scale(.015625)\" d=\"m703 97v575q238-113 481-172 244-59 479-59 625 0 954 420 330 420 377 1277-181-269-460-413-278-144-615-144-700 0-1108 423-408 424-408 1159 0 718 425 1152 425 435 1131 435 810 0 1236-621 427-620 427-1801 0-1103-524-1761-523-658-1407-658-238 0-482 47-243 47-506 141zm1256 1978q425 0 673 290 249 291 249 798 0 503-249 795-248 292-673 292t-673-292-248-795q0-507 248-798 248-290 673-290z\"/></defs><use xlink:href=\"#DejaVuSans-Oblique-71\"/><use transform=\"translate(63.477 -16.406) scale(.7)\" xlink:href=\"#DejaVuSans-39\"/></g></g><g clip-path=\"url(#p526f0eeec8)\"><g transform=\"translate(38.851 502.52) scale(.1625 -.1625)\"><use xlink:href=\"#DejaVuSans-Oblique-71\"/><use transform=\"translate(63.477 -16.406) scale(.7)\" xlink:href=\"#DejaVuSans-31\"/><use transform=\"translate(108.01 -16.406) scale(.7)\" xlink:href=\"#DejaVuSans-30\"/></g></g><g clip-path=\"url(#p526f0eeec8)\"><g transform=\"translate(38.851 547.97) scale(.1625 -.1625)\"><use xlink:href=\"#DejaVuSans-Oblique-71\"/><use transform=\"translate(63.477 -16.406) scale(.7)\" xlink:href=\"#DejaVuSans-31\"/><use transform=\"translate(108.01 -16.406) scale(.7)\" xlink:href=\"#DejaVuSans-31\"/></g></g><g clip-path=\"url(#p526f0eeec8)\"><g transform=\"translate(77.836 582.26) scale(.104 -.104)\"><use xlink:href=\"#DejaVuSans-38\"/></g></g><g clip-path=\"url(#p526f0eeec8)\"><g transform=\"translate(55.266 593.46) scale(.1625 -.1625)\"><defs><path id=\"DejaVuSans-63\" transform=\"scale(.015625)\" d=\"m3122 3366v-538q-244 135-489 202t-495 67q-560 0-870-355-309-354-309-995t309-996q310-354 870-354 250 0 495 67t489 202v-532q-241-112-499-168-257-57-548-57-791 0-1257 497-465 497-465 1341 0 856 470 1346 471 491 1290 491 265 0 518-55 253-54 491-163z\"/></defs><use xlink:href=\"#DejaVuSans-63\"/></g></g><g clip-path=\"url(#p526f0eeec8)\"><g transform=\"translate(92.947 47.148) scale(.13 -.13)\" fill=\"#ffffff\"><defs><path id=\"DejaVuSans-48\" transform=\"scale(.015625)\" d=\"m628 4666h631v-1913h2294v1913h631v-4666h-631v2222h-2294v-2222h-631v4666z\"/></defs><use xlink:href=\"#DejaVuSans-48\"/></g></g><g clip-path=\"url(#p526f0eeec8)\"><g transform=\"translate(92.947 92.599) scale(.13 -.13)\" fill=\"#ffffff\"><use xlink:href=\"#DejaVuSans-48\"/></g></g><g clip-path=\"url(#p526f0eeec8)\"><g transform=\"translate(92.947 138.05) scale(.13 -.13)\" fill=\"#ffffff\"><use xlink:href=\"#DejaVuSans-48\"/></g></g><g clip-path=\"url(#p526f0eeec8)\"><g transform=\"translate(92.947 183.5) scale(.13 -.13)\" fill=\"#ffffff\"><use xlink:href=\"#DejaVuSans-48\"/></g></g><g clip-path=\"url(#p526f0eeec8)\"><g transform=\"translate(92.947 228.95) scale(.13 -.13)\" fill=\"#ffffff\"><use xlink:href=\"#DejaVuSans-48\"/></g></g><g clip-path=\"url(#p526f0eeec8)\"><g transform=\"translate(92.947 274.4) scale(.13 -.13)\" fill=\"#ffffff\"><use xlink:href=\"#DejaVuSans-48\"/></g></g><g clip-path=\"url(#p526f0eeec8)\"><g transform=\"translate(92.947 319.85) scale(.13 -.13)\" fill=\"#ffffff\"><use xlink:href=\"#DejaVuSans-48\"/></g></g><g clip-path=\"url(#p526f0eeec8)\"><g transform=\"translate(92.947 365.3) scale(.13 -.13)\" fill=\"#ffffff\"><use xlink:href=\"#DejaVuSans-48\"/></g></g><g clip-path=\"url(#p526f0eeec8)\"><g transform=\"translate(93.382 547.11) scale(.13 -.13)\" fill=\"#ffffff\"><defs><path id=\"DejaVuSans-58\" transform=\"scale(.015625)\" d=\"m403 4666h678l1160-1735 1165 1735h678l-1500-2241 1600-2425h-678l-1312 1984-1322-1984h-681l1665 2491-1453 2175z\"/></defs><use xlink:href=\"#DejaVuSans-58\"/></g></g><g clip-path=\"url(#p526f0eeec8)\"><g transform=\"translate(144.63 410.76) scale(.13 -.13)\" fill=\"#ffffff\"><use xlink:href=\"#DejaVuSans-30\"/></g></g><g clip-path=\"url(#p526f0eeec8)\"><g transform=\"translate(144.63 456.21) scale(.13 -.13)\" fill=\"#ffffff\"><use xlink:href=\"#DejaVuSans-31\"/></g></g><g clip-path=\"url(#p526f0eeec8)\"><g transform=\"translate(144.63 501.66) scale(.13 -.13)\" fill=\"#ffffff\"><use xlink:href=\"#DejaVuSans-32\"/></g></g><g clip-path=\"url(#p526f0eeec8)\"><g transform=\"translate(144.63 547.11) scale(.13 -.13)\" fill=\"#ffffff\"><use xlink:href=\"#DejaVuSans-33\"/></g></g><g clip-path=\"url(#p526f0eeec8)\"><g transform=\"translate(153.18 478.93) scale(.13 -.13)\" fill=\"#ffffff\"><defs><path id=\"DejaVuSans-5e\" transform=\"scale(.015625)\" d=\"m2988 4666 1696-1741h-628l-1375 1234-1375-1234h-628l1697 1741h613z\"/><path id=\"DejaVuSans-6d\" transform=\"scale(.015625)\" d=\"m3328 2828q216 388 516 572t706 184q547 0 844-383 297-382 297-1088v-2113h-578v2094q0 503-179 746-178 244-543 244-447 0-707-297-259-296-259-809v-1978h-578v2094q0 506-178 748t-550 242q-441 0-701-298-259-298-259-808v-1978h-578v3500h578v-544q197 322 472 475t653 153q382 0 649-194 267-193 395-562z\"/><path id=\"DejaVuSans-6f\" transform=\"scale(.015625)\" d=\"m1959 3097q-462 0-731-361t-269-989 267-989q268-361 733-361 460 0 728 362 269 363 269 988 0 622-269 986-268 364-728 364zm0 487q750 0 1178-488 429-487 429-1349 0-859-429-1349-428-489-1178-489-753 0-1180 489-426 490-426 1349 0 862 426 1349 427 488 1180 488z\"/><path id=\"DejaVuSans-64\" transform=\"scale(.015625)\" d=\"m2906 2969v1894h575v-4863h-575v525q-181-312-458-464-276-152-664-152-634 0-1033 506-398 507-398 1332t398 1331q399 506 1033 506 388 0 664-152 277-151 458-463zm-1959-1222q0-634 261-995t717-361 718 361q263 361 263 995t-263 995q-262 361-718 361t-717-361-261-995z\"/></defs><use xlink:href=\"#DejaVuSans-37\"/><use x=\"63.623047\" xlink:href=\"#DejaVuSans-5e\"/><use x=\"147.412109\" xlink:href=\"#DejaVuSans-31\"/><use x=\"211.035156\" xlink:href=\"#DejaVuSans-20\"/><use x=\"242.822266\" xlink:href=\"#DejaVuSans-6d\"/><use x=\"340.234375\" xlink:href=\"#DejaVuSans-6f\"/><use x=\"401.416016\" xlink:href=\"#DejaVuSans-64\"/><use x=\"464.892578\" xlink:href=\"#DejaVuSans-20\"/><use x=\"496.679688\" xlink:href=\"#DejaVuSans-31\"/><use x=\"560.302734\" xlink:href=\"#DejaVuSans-35\"/></g></g><g clip-path=\"url(#p526f0eeec8)\"><g transform=\"translate(280.93 410.76) scale(.13 -.13)\" fill=\"#ffffff\"><use xlink:href=\"#DejaVuSans-30\"/></g></g><g clip-path=\"url(#p526f0eeec8)\"><g transform=\"translate(280.93 456.21) scale(.13 -.13)\" fill=\"#ffffff\"><use xlink:href=\"#DejaVuSans-31\"/></g></g><g clip-path=\"url(#p526f0eeec8)\"><g transform=\"translate(280.93 501.66) scale(.13 -.13)\" fill=\"#ffffff\"><use xlink:href=\"#DejaVuSans-32\"/></g></g><g clip-path=\"url(#p526f0eeec8)\"><g transform=\"translate(280.93 547.11) scale(.13 -.13)\" fill=\"#ffffff\"><use xlink:href=\"#DejaVuSans-33\"/></g></g><g clip-path=\"url(#p526f0eeec8)\"><g transform=\"translate(289.53 478.93) scale(.13 -.13)\" fill=\"#ffffff\"><use xlink:href=\"#DejaVuSans-37\"/><use x=\"63.623047\" xlink:href=\"#DejaVuSans-5e\"/><use x=\"147.412109\" xlink:href=\"#DejaVuSans-32\"/><use x=\"211.035156\" xlink:href=\"#DejaVuSans-20\"/><use x=\"242.822266\" xlink:href=\"#DejaVuSans-6d\"/><use x=\"340.234375\" xlink:href=\"#DejaVuSans-6f\"/><use x=\"401.416016\" xlink:href=\"#DejaVuSans-64\"/><use x=\"464.892578\" xlink:href=\"#DejaVuSans-20\"/><use x=\"496.679688\" xlink:href=\"#DejaVuSans-31\"/><use x=\"560.302734\" xlink:href=\"#DejaVuSans-35\"/></g></g><g clip-path=\"url(#p526f0eeec8)\"><g transform=\"translate(417.29 410.76) scale(.13 -.13)\" fill=\"#ffffff\"><use xlink:href=\"#DejaVuSans-30\"/></g></g><g clip-path=\"url(#p526f0eeec8)\"><g transform=\"translate(417.29 456.21) scale(.13 -.13)\" fill=\"#ffffff\"><use xlink:href=\"#DejaVuSans-31\"/></g></g><g clip-path=\"url(#p526f0eeec8)\"><g transform=\"translate(417.29 501.66) scale(.13 -.13)\" fill=\"#ffffff\"><use xlink:href=\"#DejaVuSans-32\"/></g></g><g clip-path=\"url(#p526f0eeec8)\"><g transform=\"translate(417.29 547.11) scale(.13 -.13)\" fill=\"#ffffff\"><use xlink:href=\"#DejaVuSans-33\"/></g></g><g clip-path=\"url(#p526f0eeec8)\"><g transform=\"translate(425.89 478.93) scale(.13 -.13)\" fill=\"#ffffff\"><use xlink:href=\"#DejaVuSans-37\"/><use x=\"63.623047\" xlink:href=\"#DejaVuSans-5e\"/><use x=\"147.412109\" xlink:href=\"#DejaVuSans-34\"/><use x=\"211.035156\" xlink:href=\"#DejaVuSans-20\"/><use x=\"242.822266\" xlink:href=\"#DejaVuSans-6d\"/><use x=\"340.234375\" xlink:href=\"#DejaVuSans-6f\"/><use x=\"401.416016\" xlink:href=\"#DejaVuSans-64\"/><use x=\"464.892578\" xlink:href=\"#DejaVuSans-20\"/><use x=\"496.679688\" xlink:href=\"#DejaVuSans-31\"/><use x=\"560.302734\" xlink:href=\"#DejaVuSans-35\"/></g></g><g clip-path=\"url(#p526f0eeec8)\"><g transform=\"translate(553.69 410.76) scale(.13 -.13)\" fill=\"#ffffff\"><use xlink:href=\"#DejaVuSans-30\"/></g></g><g clip-path=\"url(#p526f0eeec8)\"><g transform=\"translate(553.69 456.21) scale(.13 -.13)\" fill=\"#ffffff\"><use xlink:href=\"#DejaVuSans-31\"/></g></g><g clip-path=\"url(#p526f0eeec8)\"><g transform=\"translate(553.69 501.66) scale(.13 -.13)\" fill=\"#ffffff\"><use xlink:href=\"#DejaVuSans-32\"/></g></g><g clip-path=\"url(#p526f0eeec8)\"><g transform=\"translate(553.69 547.11) scale(.13 -.13)\" fill=\"#ffffff\"><use xlink:href=\"#DejaVuSans-33\"/></g></g><g clip-path=\"url(#p526f0eeec8)\"><g transform=\"translate(562.24 478.93) scale(.13 -.13)\" fill=\"#ffffff\"><use xlink:href=\"#DejaVuSans-37\"/><use x=\"63.623047\" xlink:href=\"#DejaVuSans-5e\"/><use x=\"147.412109\" xlink:href=\"#DejaVuSans-38\"/><use x=\"211.035156\" xlink:href=\"#DejaVuSans-20\"/><use x=\"242.822266\" xlink:href=\"#DejaVuSans-6d\"/><use x=\"340.234375\" xlink:href=\"#DejaVuSans-6f\"/><use x=\"401.416016\" xlink:href=\"#DejaVuSans-64\"/><use x=\"464.892578\" xlink:href=\"#DejaVuSans-20\"/><use x=\"496.679688\" xlink:href=\"#DejaVuSans-31\"/><use x=\"560.302734\" xlink:href=\"#DejaVuSans-35\"/></g></g><g clip-path=\"url(#p526f0eeec8)\"><g transform=\"translate(685.73 410.76) scale(.13 -.13)\" fill=\"#ffffff\"><use xlink:href=\"#DejaVuSans-30\"/></g></g><g clip-path=\"url(#p526f0eeec8)\"><g transform=\"translate(685.73 456.21) scale(.13 -.13)\" fill=\"#ffffff\"><use xlink:href=\"#DejaVuSans-31\"/></g></g><g clip-path=\"url(#p526f0eeec8)\"><g transform=\"translate(685.73 501.66) scale(.13 -.13)\" fill=\"#ffffff\"><use xlink:href=\"#DejaVuSans-32\"/></g></g><g clip-path=\"url(#p526f0eeec8)\"><g transform=\"translate(685.73 547.11) scale(.13 -.13)\" fill=\"#ffffff\"><use xlink:href=\"#DejaVuSans-33\"/></g></g><g clip-path=\"url(#p526f0eeec8)\"><g transform=\"translate(694.46 478.93) scale(.13 -.13)\" fill=\"#ffffff\"><use xlink:href=\"#DejaVuSans-37\"/><use x=\"63.623047\" xlink:href=\"#DejaVuSans-5e\"/><use x=\"147.412109\" xlink:href=\"#DejaVuSans-31\"/><use x=\"211.035156\" xlink:href=\"#DejaVuSans-36\"/><use x=\"274.658203\" xlink:href=\"#DejaVuSans-20\"/><use x=\"306.445312\" xlink:href=\"#DejaVuSans-6d\"/><use x=\"403.857422\" xlink:href=\"#DejaVuSans-6f\"/><use x=\"465.039062\" xlink:href=\"#DejaVuSans-64\"/><use x=\"528.515625\" xlink:href=\"#DejaVuSans-20\"/><use x=\"560.302734\" xlink:href=\"#DejaVuSans-31\"/><use x=\"623.925781\" xlink:href=\"#DejaVuSans-35\"/></g></g><g clip-path=\"url(#p526f0eeec8)\"><g transform=\"translate(821.99 410.76) scale(.13 -.13)\" fill=\"#ffffff\"><use xlink:href=\"#DejaVuSans-30\"/></g></g><g clip-path=\"url(#p526f0eeec8)\"><g transform=\"translate(821.99 456.21) scale(.13 -.13)\" fill=\"#ffffff\"><use xlink:href=\"#DejaVuSans-31\"/></g></g><g clip-path=\"url(#p526f0eeec8)\"><g transform=\"translate(821.99 501.66) scale(.13 -.13)\" fill=\"#ffffff\"><use xlink:href=\"#DejaVuSans-32\"/></g></g><g clip-path=\"url(#p526f0eeec8)\"><g transform=\"translate(821.99 547.11) scale(.13 -.13)\" fill=\"#ffffff\"><use xlink:href=\"#DejaVuSans-33\"/></g></g><g clip-path=\"url(#p526f0eeec8)\"><g transform=\"translate(830.81 478.93) scale(.13 -.13)\" fill=\"#ffffff\"><use xlink:href=\"#DejaVuSans-37\"/><use x=\"63.623047\" xlink:href=\"#DejaVuSans-5e\"/><use x=\"147.412109\" xlink:href=\"#DejaVuSans-33\"/><use x=\"211.035156\" xlink:href=\"#DejaVuSans-32\"/><use x=\"274.658203\" xlink:href=\"#DejaVuSans-20\"/><use x=\"306.445312\" xlink:href=\"#DejaVuSans-6d\"/><use x=\"403.857422\" xlink:href=\"#DejaVuSans-6f\"/><use x=\"465.039062\" xlink:href=\"#DejaVuSans-64\"/><use x=\"528.515625\" xlink:href=\"#DejaVuSans-20\"/><use x=\"560.302734\" xlink:href=\"#DejaVuSans-31\"/><use x=\"623.925781\" xlink:href=\"#DejaVuSans-35\"/></g></g><g clip-path=\"url(#p526f0eeec8)\"><g transform=\"translate(958.39 410.76) scale(.13 -.13)\" fill=\"#ffffff\"><use xlink:href=\"#DejaVuSans-30\"/></g></g><g clip-path=\"url(#p526f0eeec8)\"><g transform=\"translate(958.39 456.21) scale(.13 -.13)\" fill=\"#ffffff\"><use xlink:href=\"#DejaVuSans-31\"/></g></g><g clip-path=\"url(#p526f0eeec8)\"><g transform=\"translate(958.39 501.66) scale(.13 -.13)\" fill=\"#ffffff\"><use xlink:href=\"#DejaVuSans-32\"/></g></g><g clip-path=\"url(#p526f0eeec8)\"><g transform=\"translate(958.39 547.11) scale(.13 -.13)\" fill=\"#ffffff\"><use xlink:href=\"#DejaVuSans-33\"/></g></g><g clip-path=\"url(#p526f0eeec8)\"><g transform=\"translate(967.16 478.93) scale(.13 -.13)\" fill=\"#ffffff\"><use xlink:href=\"#DejaVuSans-37\"/><use x=\"63.623047\" xlink:href=\"#DejaVuSans-5e\"/><use x=\"147.412109\" xlink:href=\"#DejaVuSans-36\"/><use x=\"211.035156\" xlink:href=\"#DejaVuSans-34\"/><use x=\"274.658203\" xlink:href=\"#DejaVuSans-20\"/><use x=\"306.445312\" xlink:href=\"#DejaVuSans-6d\"/><use x=\"403.857422\" xlink:href=\"#DejaVuSans-6f\"/><use x=\"465.039062\" xlink:href=\"#DejaVuSans-64\"/><use x=\"528.515625\" xlink:href=\"#DejaVuSans-20\"/><use x=\"560.302734\" xlink:href=\"#DejaVuSans-31\"/><use x=\"623.925781\" xlink:href=\"#DejaVuSans-35\"/></g></g><g clip-path=\"url(#p526f0eeec8)\"><g transform=\"translate(1090.4 410.76) scale(.13 -.13)\" fill=\"#ffffff\"><use xlink:href=\"#DejaVuSans-30\"/></g></g><g clip-path=\"url(#p526f0eeec8)\"><g transform=\"translate(1090.4 456.21) scale(.13 -.13)\" fill=\"#ffffff\"><use xlink:href=\"#DejaVuSans-31\"/></g></g><g clip-path=\"url(#p526f0eeec8)\"><g transform=\"translate(1090.4 501.66) scale(.13 -.13)\" fill=\"#ffffff\"><use xlink:href=\"#DejaVuSans-32\"/></g></g><g clip-path=\"url(#p526f0eeec8)\"><g transform=\"translate(1090.4 547.11) scale(.13 -.13)\" fill=\"#ffffff\"><use xlink:href=\"#DejaVuSans-33\"/></g></g><g clip-path=\"url(#p526f0eeec8)\"><g transform=\"translate(1099.4 478.93) scale(.13 -.13)\" fill=\"#ffffff\"><use xlink:href=\"#DejaVuSans-37\"/><use x=\"63.623047\" xlink:href=\"#DejaVuSans-5e\"/><use x=\"147.412109\" xlink:href=\"#DejaVuSans-31\"/><use x=\"211.035156\" xlink:href=\"#DejaVuSans-32\"/><use x=\"274.658203\" xlink:href=\"#DejaVuSans-38\"/><use x=\"338.28125\" xlink:href=\"#DejaVuSans-20\"/><use x=\"370.068359\" xlink:href=\"#DejaVuSans-6d\"/><use x=\"467.480469\" xlink:href=\"#DejaVuSans-6f\"/><use x=\"528.662109\" xlink:href=\"#DejaVuSans-64\"/><use x=\"592.138672\" xlink:href=\"#DejaVuSans-20\"/><use x=\"623.925781\" xlink:href=\"#DejaVuSans-31\"/><use x=\"687.548828\" xlink:href=\"#DejaVuSans-35\"/></g></g><g clip-path=\"url(#p526f0eeec8)\"><g transform=\"translate(1238.1 47.148) scale(.13 -.13)\" fill=\"#ffffff\"><use xlink:href=\"#DejaVuSans-30\"/></g></g><g clip-path=\"url(#p526f0eeec8)\"><g transform=\"translate(1238.1 92.599) scale(.13 -.13)\" fill=\"#ffffff\"><use xlink:href=\"#DejaVuSans-31\"/></g></g><g clip-path=\"url(#p526f0eeec8)\"><g transform=\"translate(1238.1 138.05) scale(.13 -.13)\" fill=\"#ffffff\"><use xlink:href=\"#DejaVuSans-32\"/></g></g><g clip-path=\"url(#p526f0eeec8)\"><g transform=\"translate(1238.1 183.5) scale(.13 -.13)\" fill=\"#ffffff\"><use xlink:href=\"#DejaVuSans-33\"/></g></g><g clip-path=\"url(#p526f0eeec8)\"><g transform=\"translate(1238.1 228.95) scale(.13 -.13)\" fill=\"#ffffff\"><use xlink:href=\"#DejaVuSans-34\"/></g></g><g clip-path=\"url(#p526f0eeec8)\"><g transform=\"translate(1238.1 274.4) scale(.13 -.13)\" fill=\"#ffffff\"><use xlink:href=\"#DejaVuSans-35\"/></g></g><g clip-path=\"url(#p526f0eeec8)\"><g transform=\"translate(1238.1 319.85) scale(.13 -.13)\" fill=\"#ffffff\"><use xlink:href=\"#DejaVuSans-36\"/></g></g><g clip-path=\"url(#p526f0eeec8)\"><g transform=\"translate(1238.1 365.3) scale(.13 -.13)\" fill=\"#ffffff\"><use xlink:href=\"#DejaVuSans-37\"/></g></g><g clip-path=\"url(#p526f0eeec8)\"><g transform=\"translate(1245.9 206.23) scale(.13 -.13)\" fill=\"#ffffff\"><defs><path id=\"DejaVuSans-51\" transform=\"scale(.015625)\" d=\"m2522 4238q-688 0-1093-513-404-512-404-1397 0-881 404-1394 405-512 1093-512 687 0 1089 512 402 513 402 1394 0 885-402 1397-402 513-1089 513zm884-4154 832-909h-763l-691 747q-103-6-158-9-54-4-104-4-984 0-1574 658-589 658-589 1761 0 1106 589 1764 590 658 1574 658 981 0 1568-658 588-658 588-1764 0-812-327-1391-326-578-945-853z\"/><path id=\"DejaVuSans-46\" transform=\"scale(.015625)\" d=\"m628 4666h2681v-532h-2050v-1375h1850v-531h-1850v-2228h-631v4666z\"/><path id=\"DejaVuSans-54\" transform=\"scale(.015625)\" d=\"m-19 4666h3947v-532h-1656v-4134h-634v4134h-1657v532z\"/><path id=\"DejaVuSans-2020\" transform=\"scale(.015625)\" d=\"m1325 4666h550v-1313h1147v-478h-1147v-3491h-550v3491h-1147v478h1147v1313z\"/></defs><use xlink:href=\"#DejaVuSans-51\"/><use x=\"78.710938\" xlink:href=\"#DejaVuSans-46\"/><use x=\"134.480469\" xlink:href=\"#DejaVuSans-54\"/><use x=\"195.564453\" xlink:href=\"#DejaVuSans-2020\"/></g></g><g clip-path=\"url(#p526f0eeec8)\"><g transform=\"translate(1336.4 582.26) scale(.104 -.104)\"><use xlink:href=\"#DejaVuSans-30\"/></g></g><g clip-path=\"url(#p526f0eeec8)\"><g transform=\"translate(1381.8 582.26) scale(.104 -.104)\"><use xlink:href=\"#DejaVuSans-31\"/></g></g><g clip-path=\"url(#p526f0eeec8)\"><g transform=\"translate(1427.3 582.26) scale(.104 -.104)\"><use xlink:href=\"#DejaVuSans-32\"/></g></g><g clip-path=\"url(#p526f0eeec8)\"><g transform=\"translate(1472.7 582.26) scale(.104 -.104)\"><use xlink:href=\"#DejaVuSans-33\"/></g></g><g clip-path=\"url(#p526f0eeec8)\"><g transform=\"translate(1518.2 582.26) scale(.104 -.104)\"><use xlink:href=\"#DejaVuSans-34\"/></g></g><g clip-path=\"url(#p526f0eeec8)\"><g transform=\"translate(1563.6 582.26) scale(.104 -.104)\"><use xlink:href=\"#DejaVuSans-35\"/></g></g><g clip-path=\"url(#p526f0eeec8)\"><g transform=\"translate(1609.1 582.26) scale(.104 -.104)\"><use xlink:href=\"#DejaVuSans-36\"/></g></g><g clip-path=\"url(#p526f0eeec8)\"><g transform=\"translate(1654.5 582.26) scale(.104 -.104)\"><use xlink:href=\"#DejaVuSans-37\"/></g></g><defs><clipPath id=\"p526f0eeec8\"><rect x=\"7.2\" y=\"7.2\" width=\"1666\" height=\"609.04\"/></clipPath></defs></svg>"
      ],
      "text/plain": [
       "<Figure size 2206.58x806.68 with 1 Axes>"
      ]
     },
     "execution_count": 7,
     "metadata": {},
     "output_type": "execute_result"
    }
   ],
   "source": [
    "# Create QuantumCircuit with n_count counting qubits\n",
    "# plus 4 qubits for U to act on\n",
    "qc = QuantumCircuit(n_count + 4, n_count)\n",
    "\n",
    "# Initialize counting qubits\n",
    "# in state |+>\n",
    "for q in range(n_count):\n",
    "    qc.h(q)\n",
    "    \n",
    "# And auxiliary register in state |1>\n",
    "qc.x(3+n_count)\n",
    "\n",
    "# Do controlled-U operations\n",
    "for q in range(n_count):\n",
    "    qc.append(c_amod15(a, 2**q), \n",
    "             [q] + [i+n_count for i in range(4)])\n",
    "\n",
    "# Do inverse-QFT\n",
    "qc.append(qft_dagger(n_count), range(n_count))\n",
    "\n",
    "# Measure circuit\n",
    "qc.measure(range(n_count), range(n_count))\n",
    "qc.draw(fold=-1)  # -1 means 'do not fold' "
   ]
  },
  {
   "cell_type": "markdown",
   "metadata": {},
   "source": [
    "Let's see what results we measure:"
   ]
  },
  {
   "cell_type": "code",
   "execution_count": 8,
   "metadata": {},
   "outputs": [
    {
     "data": {
      "image/svg+xml": [
       "<?xml version=\"1.0\" encoding=\"UTF-8\"?><!DOCTYPE svg  PUBLIC '-//W3C//DTD SVG 1.1//EN'  'http://www.w3.org/Graphics/SVG/1.1/DTD/svg11.dtd'><svg width=\"460.72pt\" height=\"364.8pt\" version=\"1.1\" viewBox=\"0 0 460.72 364.8\" xmlns=\"http://www.w3.org/2000/svg\" xmlns:xlink=\"http://www.w3.org/1999/xlink\"><defs><style type=\"text/css\">*{stroke-linecap:butt;stroke-linejoin:round;}</style></defs><path d=\"m0 364.8h460.72v-364.8h-460.72z\" fill=\"none\"/><path d=\"m62.921 279h390.6v-271.8h-390.6z\" fill=\"#ffffff\"/><defs><path id=\"mb3e11790fd\" d=\"m0 0v3.5\" stroke=\"#000000\" stroke-width=\".8\"/></defs><use x=\"106.039432\" y=\"279\" stroke=\"#000000\" stroke-width=\".8\" xlink:href=\"#mb3e11790fd\"/><g transform=\"translate(97.483 356.6) rotate(-70) scale(.14 -.14)\"><defs><path id=\"DejaVuSans-30\" transform=\"scale(.015625)\" d=\"m2034 4250q-487 0-733-480-245-479-245-1442 0-959 245-1439 246-480 733-480 491 0 736 480 246 480 246 1439 0 963-246 1442-245 480-736 480zm0 500q785 0 1199-621 414-620 414-1801 0-1178-414-1799-414-620-1199-620-784 0-1198 620-414 621-414 1799 0 1181 414 1801 414 621 1198 621z\"/></defs><use xlink:href=\"#DejaVuSans-30\"/><use x=\"63.623047\" xlink:href=\"#DejaVuSans-30\"/><use x=\"127.246094\" xlink:href=\"#DejaVuSans-30\"/><use x=\"190.869141\" xlink:href=\"#DejaVuSans-30\"/><use x=\"254.492188\" xlink:href=\"#DejaVuSans-30\"/><use x=\"318.115234\" xlink:href=\"#DejaVuSans-30\"/><use x=\"381.738281\" xlink:href=\"#DejaVuSans-30\"/><use x=\"445.361328\" xlink:href=\"#DejaVuSans-30\"/></g><use x=\"207.493977\" y=\"279\" stroke=\"#000000\" stroke-width=\".8\" xlink:href=\"#mb3e11790fd\"/><g transform=\"translate(198.94 356.6) rotate(-70) scale(.14 -.14)\"><defs><path id=\"DejaVuSans-31\" transform=\"scale(.015625)\" d=\"m794 531h1031v3560l-1122-225v575l1116 225h631v-4135h1031v-531h-2687v531z\"/></defs><use xlink:href=\"#DejaVuSans-30\"/><use x=\"63.623047\" xlink:href=\"#DejaVuSans-31\"/><use x=\"127.246094\" xlink:href=\"#DejaVuSans-30\"/><use x=\"190.869141\" xlink:href=\"#DejaVuSans-30\"/><use x=\"254.492188\" xlink:href=\"#DejaVuSans-30\"/><use x=\"318.115234\" xlink:href=\"#DejaVuSans-30\"/><use x=\"381.738281\" xlink:href=\"#DejaVuSans-30\"/><use x=\"445.361328\" xlink:href=\"#DejaVuSans-30\"/></g><use x=\"308.948523\" y=\"279\" stroke=\"#000000\" stroke-width=\".8\" xlink:href=\"#mb3e11790fd\"/><g transform=\"translate(300.39 356.6) rotate(-70) scale(.14 -.14)\"><use xlink:href=\"#DejaVuSans-31\"/><use x=\"63.623047\" xlink:href=\"#DejaVuSans-30\"/><use x=\"127.246094\" xlink:href=\"#DejaVuSans-30\"/><use x=\"190.869141\" xlink:href=\"#DejaVuSans-30\"/><use x=\"254.492188\" xlink:href=\"#DejaVuSans-30\"/><use x=\"318.115234\" xlink:href=\"#DejaVuSans-30\"/><use x=\"381.738281\" xlink:href=\"#DejaVuSans-30\"/><use x=\"445.361328\" xlink:href=\"#DejaVuSans-30\"/></g><use x=\"410.403068\" y=\"279\" stroke=\"#000000\" stroke-width=\".8\" xlink:href=\"#mb3e11790fd\"/><g transform=\"translate(401.85 356.6) rotate(-70) scale(.14 -.14)\"><use xlink:href=\"#DejaVuSans-31\"/><use x=\"63.623047\" xlink:href=\"#DejaVuSans-31\"/><use x=\"127.246094\" xlink:href=\"#DejaVuSans-30\"/><use x=\"190.869141\" xlink:href=\"#DejaVuSans-30\"/><use x=\"254.492188\" xlink:href=\"#DejaVuSans-30\"/><use x=\"318.115234\" xlink:href=\"#DejaVuSans-30\"/><use x=\"381.738281\" xlink:href=\"#DejaVuSans-30\"/><use x=\"445.361328\" xlink:href=\"#DejaVuSans-30\"/></g><path d=\"m62.921 279h390.6\" clip-path=\"url(#p05a631fe29)\" fill=\"none\" stroke=\"#b0b0b0\" stroke-dasharray=\"2.96,1.28\" stroke-width=\".8\"/><defs><path id=\"m7645129111\" d=\"m0 0h-3.5\" stroke=\"#000000\" stroke-width=\".8\"/></defs><use x=\"62.92125\" y=\"279\" stroke=\"#000000\" stroke-width=\".8\" xlink:href=\"#m7645129111\"/><g transform=\"translate(24.749 284.32) scale(.14 -.14)\"><defs><path id=\"DejaVuSans-2e\" transform=\"scale(.015625)\" d=\"m684 794h660v-794h-660v794z\"/></defs><use xlink:href=\"#DejaVuSans-30\"/><use x=\"63.623047\" xlink:href=\"#DejaVuSans-2e\"/><use x=\"95.410156\" xlink:href=\"#DejaVuSans-30\"/><use x=\"159.033203\" xlink:href=\"#DejaVuSans-30\"/></g><path d=\"m62.921 210.78h390.6\" clip-path=\"url(#p05a631fe29)\" fill=\"none\" stroke=\"#b0b0b0\" stroke-dasharray=\"2.96,1.28\" stroke-width=\".8\"/><use x=\"62.92125\" y=\"210.783529\" stroke=\"#000000\" stroke-width=\".8\" xlink:href=\"#m7645129111\"/><g transform=\"translate(24.749 216.1) scale(.14 -.14)\"><defs><path id=\"DejaVuSans-38\" transform=\"scale(.015625)\" d=\"m2034 2216q-450 0-708-241-257-241-257-662 0-422 257-663 258-241 708-241t709 242q260 243 260 662 0 421-258 662-257 241-711 241zm-631 268q-406 100-633 378-226 279-226 679 0 559 398 884 399 325 1092 325 697 0 1094-325t397-884q0-400-227-679-226-278-629-378 456-106 710-416 255-309 255-755 0-679-414-1042-414-362-1186-362-771 0-1186 362-414 363-414 1042 0 446 256 755 257 310 713 416zm-231 997q0-362 226-565 227-203 636-203 407 0 636 203 230 203 230 565 0 363-230 566-229 203-636 203-409 0-636-203-226-203-226-566z\"/></defs><use xlink:href=\"#DejaVuSans-30\"/><use x=\"63.623047\" xlink:href=\"#DejaVuSans-2e\"/><use x=\"95.410156\" xlink:href=\"#DejaVuSans-30\"/><use x=\"159.033203\" xlink:href=\"#DejaVuSans-38\"/></g><path d=\"m62.921 142.57h390.6\" clip-path=\"url(#p05a631fe29)\" fill=\"none\" stroke=\"#b0b0b0\" stroke-dasharray=\"2.96,1.28\" stroke-width=\".8\"/><use x=\"62.92125\" y=\"142.567059\" stroke=\"#000000\" stroke-width=\".8\" xlink:href=\"#m7645129111\"/><g transform=\"translate(24.749 147.89) scale(.14 -.14)\"><defs><path id=\"DejaVuSans-36\" transform=\"scale(.015625)\" d=\"m2113 2584q-425 0-674-291-248-290-248-796 0-503 248-796 249-292 674-292t673 292q248 293 248 796 0 506-248 796-248 291-673 291zm1253 1979v-575q-238 112-480 171-242 60-480 60-625 0-955-422-329-422-376-1275 184 272 462 417 279 145 613 145 703 0 1111-427 408-426 408-1160 0-719-425-1154-425-434-1131-434-810 0-1238 620-428 621-428 1799 0 1106 525 1764t1409 658q238 0 480-47t505-140z\"/></defs><use xlink:href=\"#DejaVuSans-30\"/><use x=\"63.623047\" xlink:href=\"#DejaVuSans-2e\"/><use x=\"95.410156\" xlink:href=\"#DejaVuSans-31\"/><use x=\"159.033203\" xlink:href=\"#DejaVuSans-36\"/></g><path d=\"m62.921 74.351h390.6\" clip-path=\"url(#p05a631fe29)\" fill=\"none\" stroke=\"#b0b0b0\" stroke-dasharray=\"2.96,1.28\" stroke-width=\".8\"/><use x=\"62.92125\" y=\"74.350588\" stroke=\"#000000\" stroke-width=\".8\" xlink:href=\"#m7645129111\"/><g transform=\"translate(24.749 79.669) scale(.14 -.14)\"><defs><path id=\"DejaVuSans-32\" transform=\"scale(.015625)\" d=\"m1228 531h2203v-531h-2962v531q359 372 979 998 621 627 780 809 303 340 423 576 121 236 121 464 0 372-261 606-261 235-680 235-297 0-627-103-329-103-704-313v638q381 153 712 231 332 78 607 78 725 0 1156-363 431-362 431-968 0-288-108-546-107-257-392-607-78-91-497-524-418-433-1181-1211z\"/><path id=\"DejaVuSans-34\" transform=\"scale(.015625)\" d=\"m2419 4116-1594-2491h1594v2491zm-166 550h794v-3041h666v-525h-666v-1100h-628v1100h-2106v609l1940 2957z\"/></defs><use xlink:href=\"#DejaVuSans-30\"/><use x=\"63.623047\" xlink:href=\"#DejaVuSans-2e\"/><use x=\"95.410156\" xlink:href=\"#DejaVuSans-32\"/><use x=\"159.033203\" xlink:href=\"#DejaVuSans-34\"/></g><g transform=\"translate(17.838 185.86) rotate(-90) scale(.14 -.14)\"><defs><path id=\"DejaVuSans-50\" transform=\"scale(.015625)\" d=\"m1259 4147v-1753h794q441 0 681 228 241 228 241 650 0 419-241 647-240 228-681 228h-794zm-631 519h1425q785 0 1186-355 402-355 402-1039 0-691-402-1044-401-353-1186-353h-794v-1875h-631v4666z\"/><path id=\"DejaVuSans-72\" transform=\"scale(.015625)\" d=\"m2631 2963q-97 56-211 82-114 27-251 27-488 0-749-317t-261-911v-1844h-578v3500h578v-544q182 319 472 473 291 155 707 155 59 0 131-8 72-7 159-23l3-590z\"/><path id=\"DejaVuSans-6f\" transform=\"scale(.015625)\" d=\"m1959 3097q-462 0-731-361t-269-989 267-989q268-361 733-361 460 0 728 362 269 363 269 988 0 622-269 986-268 364-728 364zm0 487q750 0 1178-488 429-487 429-1349 0-859-429-1349-428-489-1178-489-753 0-1180 489-426 490-426 1349 0 862 426 1349 427 488 1180 488z\"/><path id=\"DejaVuSans-62\" transform=\"scale(.015625)\" d=\"m3116 1747q0 634-261 995t-717 361q-457 0-718-361t-261-995 261-995 718-361q456 0 717 361t261 995zm-1957 1222q182 312 458 463 277 152 661 152 638 0 1036-506 399-506 399-1331t-399-1332q-398-506-1036-506-384 0-661 152-276 152-458 464v-525h-578v4863h578v-1894z\"/><path id=\"DejaVuSans-61\" transform=\"scale(.015625)\" d=\"m2194 1759q-697 0-966-159t-269-544q0-306 202-486 202-179 548-179 479 0 768 339t289 901v128h-572zm1147 238v-1997h-575v531q-197-318-491-470t-719-152q-537 0-855 302-317 302-317 808 0 590 395 890 396 300 1180 300h807v57q0 397-261 614t-733 217q-300 0-585-72-284-72-546-216v532q315 122 612 182 297 61 578 61 760 0 1135-394 375-393 375-1193z\"/><path id=\"DejaVuSans-69\" transform=\"scale(.015625)\" d=\"m603 3500h575v-3500h-575v3500zm0 1363h575v-729h-575v729z\"/><path id=\"DejaVuSans-6c\" transform=\"scale(.015625)\" d=\"m603 4863h575v-4863h-575v4863z\"/><path id=\"DejaVuSans-74\" transform=\"scale(.015625)\" d=\"m1172 4494v-994h1184v-447h-1184v-1900q0-428 117-550t477-122h590v-481h-590q-666 0-919 248-253 249-253 905v1900h-422v447h422v994h578z\"/><path id=\"DejaVuSans-65\" transform=\"scale(.015625)\" d=\"m3597 1894v-281h-2644q38-594 358-905t892-311q331 0 642 81t618 244v-544q-310-131-635-200t-659-69q-838 0-1327 487-489 488-489 1320 0 859 464 1363 464 505 1252 505 706 0 1117-455 411-454 411-1235zm-575 169q-6 471-264 752-258 282-683 282-481 0-770-272t-333-766l2050 4z\"/><path id=\"DejaVuSans-73\" transform=\"scale(.015625)\" d=\"m2834 3397v-544q-243 125-506 187-262 63-544 63-428 0-642-131t-214-394q0-200 153-314t616-217l197-44q612-131 870-370t258-667q0-488-386-773-386-284-1061-284-281 0-586 55t-642 164v594q319-166 628-249 309-82 613-82 406 0 624 139 219 139 219 392 0 234-158 359-157 125-692 241l-200 47q-534 112-772 345-237 233-237 639 0 494 350 762 350 269 994 269 318 0 599-47 282-46 519-140z\"/></defs><use xlink:href=\"#DejaVuSans-50\"/><use x=\"58.552734\" xlink:href=\"#DejaVuSans-72\"/><use x=\"97.416016\" xlink:href=\"#DejaVuSans-6f\"/><use x=\"158.597656\" xlink:href=\"#DejaVuSans-62\"/><use x=\"222.074219\" xlink:href=\"#DejaVuSans-61\"/><use x=\"283.353516\" xlink:href=\"#DejaVuSans-62\"/><use x=\"346.830078\" xlink:href=\"#DejaVuSans-69\"/><use x=\"374.613281\" xlink:href=\"#DejaVuSans-6c\"/><use x=\"402.396484\" xlink:href=\"#DejaVuSans-69\"/><use x=\"430.179688\" xlink:href=\"#DejaVuSans-74\"/><use x=\"469.388672\" xlink:href=\"#DejaVuSans-69\"/><use x=\"497.171875\" xlink:href=\"#DejaVuSans-65\"/><use x=\"558.695312\" xlink:href=\"#DejaVuSans-73\"/></g><path d=\"m80.676 279h50.727v-205.68h-50.727z\" clip-path=\"url(#p05a631fe29)\" fill=\"#648fff\"/><path d=\"m182.13 279h50.727v-212.34h-50.727z\" clip-path=\"url(#p05a631fe29)\" fill=\"#648fff\"/><path d=\"m283.58 279h50.727v-226.5h-50.727z\" clip-path=\"url(#p05a631fe29)\" fill=\"#648fff\"/><path d=\"m385.04 279h50.727v-208.18h-50.727z\" clip-path=\"url(#p05a631fe29)\" fill=\"#648fff\"/><path d=\"m62.921 279v-271.8\" fill=\"none\" stroke=\"#000000\" stroke-linecap=\"square\" stroke-width=\".8\"/><path d=\"m453.52 279v-271.8\" fill=\"none\" stroke=\"#000000\" stroke-linecap=\"square\" stroke-width=\".8\"/><path d=\"m62.921 279h390.6\" fill=\"none\" stroke=\"#000000\" stroke-linecap=\"square\" stroke-width=\".8\"/><path d=\"m62.921 7.2h390.6\" fill=\"none\" stroke=\"#000000\" stroke-linecap=\"square\" stroke-width=\".8\"/><g transform=\"translate(91.725 60.954) scale(.1 -.1)\"><use xlink:href=\"#DejaVuSans-30\"/><use x=\"63.623047\" xlink:href=\"#DejaVuSans-2e\"/><use x=\"95.410156\" xlink:href=\"#DejaVuSans-32\"/><use x=\"159.033203\" xlink:href=\"#DejaVuSans-34\"/><use x=\"222.65625\" xlink:href=\"#DejaVuSans-31\"/></g><g transform=\"translate(193.18 53.959) scale(.1 -.1)\"><defs><path id=\"DejaVuSans-39\" transform=\"scale(.015625)\" d=\"m703 97v575q238-113 481-172 244-59 479-59 625 0 954 420 330 420 377 1277-181-269-460-413-278-144-615-144-700 0-1108 423-408 424-408 1159 0 718 425 1152 425 435 1131 435 810 0 1236-621 427-620 427-1801 0-1103-524-1761-523-658-1407-658-238 0-482 47-243 47-506 141zm1256 1978q425 0 673 290 249 291 249 798 0 503-249 795-248 292-673 292t-673-292-248-795q0-507 248-798 248-290 673-290z\"/></defs><use xlink:href=\"#DejaVuSans-30\"/><use x=\"63.623047\" xlink:href=\"#DejaVuSans-2e\"/><use x=\"95.410156\" xlink:href=\"#DejaVuSans-32\"/><use x=\"159.033203\" xlink:href=\"#DejaVuSans-34\"/><use x=\"222.65625\" xlink:href=\"#DejaVuSans-39\"/></g><g transform=\"translate(294.63 39.095) scale(.1 -.1)\"><use xlink:href=\"#DejaVuSans-30\"/><use x=\"63.623047\" xlink:href=\"#DejaVuSans-2e\"/><use x=\"95.410156\" xlink:href=\"#DejaVuSans-32\"/><use x=\"159.033203\" xlink:href=\"#DejaVuSans-36\"/><use x=\"222.65625\" xlink:href=\"#DejaVuSans-36\"/></g><g transform=\"translate(396.09 58.331) scale(.1 -.1)\"><use xlink:href=\"#DejaVuSans-30\"/><use x=\"63.623047\" xlink:href=\"#DejaVuSans-2e\"/><use x=\"95.410156\" xlink:href=\"#DejaVuSans-32\"/><use x=\"159.033203\" xlink:href=\"#DejaVuSans-34\"/><use x=\"222.65625\" xlink:href=\"#DejaVuSans-34\"/></g><defs><clipPath id=\"p05a631fe29\"><rect x=\"62.921\" y=\"7.2\" width=\"390.6\" height=\"271.8\"/></clipPath></defs></svg>"
      ],
      "text/plain": [
       "<Figure size 504x360 with 1 Axes>"
      ]
     },
     "execution_count": 8,
     "metadata": {},
     "output_type": "execute_result"
    }
   ],
   "source": [
    "aer_sim = Aer.get_backend('aer_simulator')\n",
    "t_qc = transpile(qc, aer_sim)\n",
    "results = aer_sim.run(t_qc).result()\n",
    "counts = results.get_counts()\n",
    "plot_histogram(counts)"
   ]
  },
  {
   "cell_type": "markdown",
   "metadata": {},
   "source": [
    "Since we have 8 qubits, these results correspond to measured phases of:"
   ]
  },
  {
   "cell_type": "code",
   "execution_count": 9,
   "metadata": {},
   "outputs": [
    {
     "name": "stdout",
     "output_type": "stream",
     "text": [
      "            Register Output           Phase\n",
      "0  00000000(bin) =   0(dec)    0/256 = 0.00\n",
      "1  11000000(bin) = 192(dec)  192/256 = 0.75\n",
      "2  01000000(bin) =  64(dec)   64/256 = 0.25\n",
      "3  10000000(bin) = 128(dec)  128/256 = 0.50\n"
     ]
    }
   ],
   "source": [
    "rows, measured_phases = [], []\n",
    "for output in counts:\n",
    "    decimal = int(output, 2)  # Convert (base 2) string to decimal\n",
    "    phase = decimal/(2**n_count)  # Find corresponding eigenvalue\n",
    "    measured_phases.append(phase)\n",
    "    # Add these values to the rows in our table:\n",
    "    rows.append([f\"{output}(bin) = {decimal:>3}(dec)\", \n",
    "                 f\"{decimal}/{2**n_count} = {phase:.2f}\"])\n",
    "# Print the rows in a table\n",
    "headers=[\"Register Output\", \"Phase\"]\n",
    "df = pd.DataFrame(rows, columns=headers)\n",
    "print(df)"
   ]
  },
  {
   "cell_type": "markdown",
   "metadata": {},
   "source": [
    "We can now use the continued fractions algorithm to attempt to find $s$ and $r$. Python has this functionality built in: We can use the `fractions` module to turn a float into a `Fraction` object, for example:"
   ]
  },
  {
   "cell_type": "code",
   "execution_count": 10,
   "metadata": {},
   "outputs": [
    {
     "data": {
      "text/plain": [
       "Fraction(5998794703657501, 9007199254740992)"
      ]
     },
     "execution_count": 10,
     "metadata": {},
     "output_type": "execute_result"
    }
   ],
   "source": [
    "Fraction(0.666)"
   ]
  },
  {
   "cell_type": "markdown",
   "metadata": {},
   "source": [
    "Because this gives fractions that return the result exactly (in this case, `0.6660000...`), this can give gnarly results like the one above. We can use the `.limit_denominator()` method to get the fraction that most closely resembles our float, with denominator below a certain value:"
   ]
  },
  {
   "cell_type": "code",
   "execution_count": 11,
   "metadata": {},
   "outputs": [
    {
     "data": {
      "text/plain": [
       "Fraction(2, 3)"
      ]
     },
     "execution_count": 11,
     "metadata": {},
     "output_type": "execute_result"
    }
   ],
   "source": [
    "# Get fraction that most closely resembles 0.666\n",
    "# with denominator < 15\n",
    "Fraction(0.666).limit_denominator(15)"
   ]
  },
  {
   "cell_type": "markdown",
   "metadata": {},
   "source": [
    "Much nicer! The order (r) must be less than N, so we will set the maximum denominator to be `15`:"
   ]
  },
  {
   "cell_type": "code",
   "execution_count": 12,
   "metadata": {},
   "outputs": [
    {
     "name": "stdout",
     "output_type": "stream",
     "text": [
      "   Phase Fraction  Guess for r\n",
      "0   0.00      0/1            1\n",
      "1   0.75      3/4            4\n",
      "2   0.25      1/4            4\n",
      "3   0.50      1/2            2\n"
     ]
    }
   ],
   "source": [
    "rows = []\n",
    "for phase in measured_phases:\n",
    "    frac = Fraction(phase).limit_denominator(15)\n",
    "    rows.append([phase, f\"{frac.numerator}/{frac.denominator}\", frac.denominator])\n",
    "# Print as a table\n",
    "headers=[\"Phase\", \"Fraction\", \"Guess for r\"]\n",
    "df = pd.DataFrame(rows, columns=headers)\n",
    "print(df)"
   ]
  },
  {
   "cell_type": "markdown",
   "metadata": {},
   "source": [
    "We can see that two of the measured eigenvalues provided us with the correct result: $r=4$, and we can see that Shor’s algorithm has a chance of failing. These bad results are because $s = 0$, or because $s$ and $r$ are not coprime and instead of $r$ we are given a factor of $r$. The easiest solution to this is to simply repeat the experiment until we get a satisfying result for $r$.\n",
    "\n",
    "### Quick Exercise\n",
    "\n",
    "- Modify the circuit above for values of $a = 2, 8, 11$ and $13$. What results do you get and why?"
   ]
  },
  {
   "cell_type": "markdown",
   "metadata": {},
   "source": [
    "## 4. Modular Exponentiation\n",
    "\n",
    "You may have noticed that the method of creating the $U^{2^j}$ gates by repeating $U$ grows exponentially with $j$ and will not result in a polynomial time algorithm. We want a way to create the operator:\n",
    "\n",
    "$$ U^{2^j}|y\\rangle = |a^{2^j}y \\bmod N \\rangle $$\n",
    "\n",
    "that grows polynomially with $j$. Fortunately, calculating:\n",
    "\n",
    "$$ a^{2^j} \\bmod N$$\n",
    "\n",
    "efficiently is possible. Classical computers can use an algorithm known as _repeated squaring_ to calculate an exponential. In our case, since we are only dealing with exponentials of the form $2^j$, the repeated squaring algorithm becomes very simple:"
   ]
  },
  {
   "cell_type": "code",
   "execution_count": 13,
   "metadata": {
    "tags": [
     "thebelab-init"
    ]
   },
   "outputs": [],
   "source": [
    "def a2jmodN(a, j, N):\n",
    "    \"\"\"Compute a^{2^j} (mod N) by repeated squaring\"\"\"\n",
    "    for i in range(j):\n",
    "        a = np.mod(a**2, N)\n",
    "    return a"
   ]
  },
  {
   "cell_type": "code",
   "execution_count": 14,
   "metadata": {},
   "outputs": [
    {
     "data": {
      "text/plain": [
       "47"
      ]
     },
     "execution_count": 14,
     "metadata": {},
     "output_type": "execute_result"
    }
   ],
   "source": [
    "a2jmodN(7, 2049, 53)"
   ]
  },
  {
   "cell_type": "markdown",
   "metadata": {},
   "source": [
    "If an efficient algorithm is possible in Python, then we can use the same algorithm on a quantum computer. Unfortunately, despite scaling polynomially with $j$, modular exponentiation circuits are not straightforward and are the bottleneck in Shor’s algorithm. A beginner-friendly implementation can be found in reference [1].\n",
    "\n",
    "## 5. Factoring from Period Finding\n",
    "\n",
    "Not all factoring problems are difficult; we can spot an even number instantly and know that one of its factors is 2. In fact, there are [specific criteria](https://nvlpubs.nist.gov/nistpubs/FIPS/NIST.FIPS.186-4.pdf#%5B%7B%22num%22%3A127%2C%22gen%22%3A0%7D%2C%7B%22name%22%3A%22XYZ%22%7D%2C70%2C223%2C0%5D) for choosing numbers that are difficult to factor, but the basic idea is to choose the product of two large prime numbers.\n",
    "\n",
    "A general factoring algorithm will first check to see if there is a shortcut to factoring the integer (is the number even? Is the number of the form $N = a^b$?), before using Shor’s period finding for the worst-case scenario. Since we aim to focus on the quantum part of the algorithm, we will jump straight to the case in which N is the product of two primes.\n",
    "\n",
    "### Example: Factoring 15\n",
    "\n",
    "To see an example of factoring on a small number of qubits, we will factor 15, which we all know is the product of the not-so-large prime numbers 3 and 5."
   ]
  },
  {
   "cell_type": "code",
   "execution_count": 15,
   "metadata": {
    "tags": [
     "thebelab-init"
    ]
   },
   "outputs": [],
   "source": [
    "N = 15"
   ]
  },
  {
   "cell_type": "markdown",
   "metadata": {},
   "source": [
    "The first step is to choose a random number, $a$, between $1$ and $N-1$:"
   ]
  },
  {
   "cell_type": "code",
   "execution_count": 16,
   "metadata": {
    "tags": [
     "thebelab-init"
    ]
   },
   "outputs": [
    {
     "name": "stdout",
     "output_type": "stream",
     "text": [
      "7\n"
     ]
    }
   ],
   "source": [
    "np.random.seed(1) # This is to make sure we get reproduceable results\n",
    "a = randint(2, 15)\n",
    "print(a)"
   ]
  },
  {
   "cell_type": "markdown",
   "metadata": {},
   "source": [
    "Next we quickly check it isn't already a non-trivial factor of $N$:"
   ]
  },
  {
   "cell_type": "code",
   "execution_count": 17,
   "metadata": {
    "scrolled": true
   },
   "outputs": [
    {
     "data": {
      "text/plain": [
       "1"
      ]
     },
     "execution_count": 17,
     "metadata": {},
     "output_type": "execute_result"
    }
   ],
   "source": [
    "from math import gcd # greatest common divisor\n",
    "gcd(a, N)"
   ]
  },
  {
   "cell_type": "markdown",
   "metadata": {},
   "source": [
    "Great. Next, we do Shor's order finding algorithm for `a = 7` and `N = 15`. Remember that the phase we measure will be $s/r$ where:\n",
    "\n",
    "$$ a^r \\bmod N = 1 $$\n",
    "\n",
    "and $s$ is a random integer between 0 and $r-1$."
   ]
  },
  {
   "cell_type": "code",
   "execution_count": 18,
   "metadata": {
    "tags": [
     "thebelab-init"
    ]
   },
   "outputs": [],
   "source": [
    "def qpe_amod15(a):\n",
    "    n_count = 8\n",
    "    qc = QuantumCircuit(4+n_count, n_count)\n",
    "    for q in range(n_count):\n",
    "        qc.h(q)     # Initialize counting qubits in state |+>\n",
    "    qc.x(3+n_count) # And auxiliary register in state |1>\n",
    "    for q in range(n_count): # Do controlled-U operations\n",
    "        qc.append(c_amod15(a, 2**q), \n",
    "                 [q] + [i+n_count for i in range(4)])\n",
    "    qc.append(qft_dagger(n_count), range(n_count)) # Do inverse-QFT\n",
    "    qc.measure(range(n_count), range(n_count))\n",
    "    # Simulate Results\n",
    "    aer_sim = Aer.get_backend('aer_simulator')\n",
    "    # Setting memory=True below allows us to see a list of each sequential reading\n",
    "    t_qc = transpile(qc, aer_sim)\n",
    "    result = aer_sim.run(t_qc, shots=1, memory=True).result()\n",
    "    readings = result.get_memory()\n",
    "    print(\"Register Reading: \" + readings[0])\n",
    "    phase = int(readings[0],2)/(2**n_count)\n",
    "    print(\"Corresponding Phase: %f\" % phase)\n",
    "    return phase"
   ]
  },
  {
   "cell_type": "markdown",
   "metadata": {},
   "source": [
    "From this phase, we can easily find a guess for $r$:"
   ]
  },
  {
   "cell_type": "code",
   "execution_count": 19,
   "metadata": {},
   "outputs": [
    {
     "name": "stdout",
     "output_type": "stream",
     "text": [
      "Register Reading: 00000000\n",
      "Corresponding Phase: 0.000000\n"
     ]
    },
    {
     "data": {
      "text/plain": [
       "Fraction(0, 1)"
      ]
     },
     "execution_count": 19,
     "metadata": {},
     "output_type": "execute_result"
    }
   ],
   "source": [
    "phase = qpe_amod15(a) # Phase = s/r\n",
    "Fraction(phase).limit_denominator(15) # Denominator should (hopefully!) tell us r"
   ]
  },
  {
   "cell_type": "code",
   "execution_count": 20,
   "metadata": {},
   "outputs": [
    {
     "name": "stdout",
     "output_type": "stream",
     "text": [
      "1\n"
     ]
    }
   ],
   "source": [
    "frac = Fraction(phase).limit_denominator(15)\n",
    "s, r = frac.numerator, frac.denominator\n",
    "print(r)"
   ]
  },
  {
   "cell_type": "markdown",
   "metadata": {},
   "source": [
    "Now we have $r$, we might be able to use this to find a factor of $N$. Since:\n",
    "\n",
    "$$a^r \\bmod N = 1 $$\n",
    "\n",
    "then:\n",
    "\n",
    "$$(a^r - 1) \\bmod N = 0 $$\n",
    "\n",
    "which means $N$ must divide $a^r-1$. And if $r$ is also even, then we can write:\n",
    "\n",
    "$$a^r -1 = (a^{r/2}-1)(a^{r/2}+1)$$\n",
    "\n",
    "(if $r$ is not even, we cannot go further and must try again with a different value for $a$). There is then a high probability that the greatest common divisor of $N$ and either $a^{r/2}-1$, or $a^{r/2}+1$ is a proper factor of $N$ [2]:"
   ]
  },
  {
   "cell_type": "code",
   "execution_count": 21,
   "metadata": {},
   "outputs": [
    {
     "name": "stdout",
     "output_type": "stream",
     "text": [
      "[15, 1]\n"
     ]
    }
   ],
   "source": [
    "guesses = [gcd(a**(r//2)-1, N), gcd(a**(r//2)+1, N)]\n",
    "print(guesses)"
   ]
  },
  {
   "cell_type": "markdown",
   "metadata": {},
   "source": [
    "The cell below repeats the algorithm until at least one factor of 15 is found. You should try re-running the cell a few times to see how it behaves."
   ]
  },
  {
   "cell_type": "code",
   "execution_count": 22,
   "metadata": {},
   "outputs": [
    {
     "name": "stdout",
     "output_type": "stream",
     "text": [
      "\n",
      "Attempt 1:\n",
      "Register Reading: 01000000\n",
      "Corresponding Phase: 0.250000\n",
      "Result: r = 4\n",
      "Guessed Factors: 3 and 5\n",
      "*** Non-trivial factor found: 3 ***\n",
      "*** Non-trivial factor found: 5 ***\n"
     ]
    }
   ],
   "source": [
    "a = 7\n",
    "factor_found = False\n",
    "attempt = 0\n",
    "while not factor_found:\n",
    "    attempt += 1\n",
    "    print(\"\\nAttempt %i:\" % attempt)\n",
    "    phase = qpe_amod15(a) # Phase = s/r\n",
    "    frac = Fraction(phase).limit_denominator(N) # Denominator should (hopefully!) tell us r\n",
    "    r = frac.denominator\n",
    "    print(\"Result: r = %i\" % r)\n",
    "    if phase != 0:\n",
    "        # Guesses for factors are gcd(x^{r/2} ±1 , 15)\n",
    "        guesses = [gcd(a**(r//2)-1, N), gcd(a**(r//2)+1, N)]\n",
    "        print(\"Guessed Factors: %i and %i\" % (guesses[0], guesses[1]))\n",
    "        for guess in guesses:\n",
    "            if guess not in [1,N] and (N % guess) == 0: # Check to see if guess is a factor\n",
    "                print(\"*** Non-trivial factor found: %i ***\" % guess)\n",
    "                factor_found = True"
   ]
  },
  {
   "cell_type": "markdown",
   "metadata": {},
   "source": [
    "## 6. References\n",
    "\n",
    "1. Stephane Beauregard, _Circuit for Shor's algorithm using 2n+3 qubits,_ [arXiv:quant-ph/0205095](https://arxiv.org/abs/quant-ph/0205095)\n",
    "\n",
    "2. M. Nielsen and I. Chuang, _Quantum Computation and Quantum Information,_ Cambridge Series on Information and the Natural Sciences (Cambridge University Press, Cambridge, 2000). (Page 633)"
   ]
  },
  {
   "cell_type": "code",
   "execution_count": 23,
   "metadata": {},
   "outputs": [
    {
     "name": "stderr",
     "output_type": "stream",
     "text": [
      "/usr/local/anaconda3/envs/terra-unstable/lib/python3.9/site-packages/qiskit/aqua/__init__.py:86: DeprecationWarning: The package qiskit.aqua is deprecated. It was moved/refactored to qiskit-terra For more information see <https://github.com/Qiskit/qiskit-aqua/blob/main/README.md#migration-guide>\n",
      "  warn_package('aqua', 'qiskit-terra')\n"
     ]
    },
    {
     "data": {
      "text/html": [
       "<h3>Version Information</h3><table><tr><th>Qiskit Software</th><th>Version</th></tr><tr><td><code>qiskit-terra</code></td><td>0.19.0</td></tr><tr><td><code>qiskit-aer</code></td><td>0.9.1</td></tr><tr><td><code>qiskit-ignis</code></td><td>0.6.0</td></tr><tr><td><code>qiskit-ibmq-provider</code></td><td>0.17.0</td></tr><tr><td><code>qiskit-aqua</code></td><td>0.9.5</td></tr><tr><td><code>qiskit</code></td><td>0.31.0</td></tr><tr><th>System information</th></tr><tr><td>Python version</td><td>3.9.7</td></tr><tr><td>Python compiler</td><td>Clang 10.0.0 </td></tr><tr><td>Python build</td><td>default, Sep 16 2021 08:50:36</td></tr><tr><td>OS</td><td>Darwin</td></tr><tr><td>CPUs</td><td>8</td></tr><tr><td>Memory (Gb)</td><td>32.0</td></tr><tr><td colspan='2'>Fri Nov 05 15:40:46 2021 GMT</td></tr></table>"
      ],
      "text/plain": [
       "<IPython.core.display.HTML object>"
      ]
     },
     "metadata": {},
     "output_type": "display_data"
    }
   ],
   "source": [
    "import qiskit.tools.jupyter\n",
    "%qiskit_version_table"
   ]
  }
 ],
 "metadata": {
  "kernelspec": {
   "display_name": "Python 3",
   "language": "python",
   "name": "python3"
  },
  "language_info": {
   "codemirror_mode": {
    "name": "ipython",
    "version": 3
   },
   "file_extension": ".py",
   "mimetype": "text/x-python",
   "name": "python",
   "nbconvert_exporter": "python",
   "pygments_lexer": "ipython3",
   "version": "3.9"
  }
 },
 "nbformat": 4,
 "nbformat_minor": 4
}
