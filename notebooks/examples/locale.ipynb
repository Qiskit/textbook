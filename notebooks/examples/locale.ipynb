{
 "cells": [
  {
   "cell_type": "markdown",
   "id": "a3f02f6d",
   "metadata": {},
   "source": [
    "# Locale"
   ]
  },
  {
   "cell_type": "markdown",
   "id": "5884a5c0",
   "metadata": {
    "formulas": {
     "matrix_a": {
      "meaning": "A is a matrix"
     },
     "some_number": {
      "meaning": "λ is some number"
     }
    }
   },
   "source": [
    "## Notations\n",
    "\n",
    "$$\\cssId{matrix_a}{A} |v\\rangle \\ = \\ \\class{some_number}{\\lambda} |v\\rangle,$$\n"
   ]
  },
  {
   "cell_type": "markdown",
   "id": "092e09ac",
   "metadata": {
    "gloss": {
     "vector": {
      "text": "Formally, a **vector** |v⟩ is defined as elements of a set known as a vector space. A more intuitive and geometric definition is that a vector \"is a mathematical quantity with both direction and magnitude\".",
      "title": "vector"
     }
    }
   },
   "source": [
    "## Glossary\n",
    "\n",
    "We will start our investigation into introductory linear algebra by first discussing one of the most important mathematical quantities in quantum computation: the [vector](gloss:vector).\n"
   ]
  },
  {
   "cell_type": "markdown",
   "id": "a7b5e37d",
   "metadata": {},
   "source": [
    "## Code\n"
   ]
  },
  {
   "cell_type": "code",
   "execution_count": 2,
   "id": "a6489c3f",
   "metadata": {},
   "outputs": [
    {
     "name": "stdout",
     "output_type": "stream",
     "text": [
      "hello\n"
     ]
    }
   ],
   "source": [
    "print('hello')"
   ]
  },
  {
   "cell_type": "markdown",
   "id": "cd6152c2",
   "metadata": {},
   "source": [
    "## Image\n",
    "\n",
    "![textbook](images/qiskit-textbook.jpg)\n"
   ]
  },
  {
   "cell_type": "code",
   "execution_count": null,
   "id": "fa2fd176",
   "metadata": {},
   "outputs": [],
   "source": []
  }
 ],
 "metadata": {
  "kernelspec": {
   "display_name": "Python 3",
   "language": "python",
   "name": "python3"
  },
  "language_info": {
   "codemirror_mode": {
    "name": "ipython",
    "version": 3
   },
   "file_extension": ".py",
   "mimetype": "text/x-python",
   "name": "python",
   "nbconvert_exporter": "python",
   "pygments_lexer": "ipython3",
   "version": "3.9"
  }
 },
 "nbformat": 4,
 "nbformat_minor": 5
}
