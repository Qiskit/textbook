{
 "cells": [
  {
   "cell_type": "markdown",
   "metadata": {},
   "source": [
    "# Widgets\n",
    "\n",
    "**Note:** Each widget should have a unique `goal` value. If you copy the code from here, make sure to update goal name."
   ]
  },
  {
   "cell_type": "markdown",
   "metadata": {},
   "source": [
    "## Circuit sandbox\n",
    "\n",
    "<!-- ::: q-block -->\n",
    "\n",
    "### Circuit sandbox\n",
    "\n",
    "    q-circuit-sandbox-widget(goal=\"circuit-sandbox\")\n",
    "        .availableGates H X Z Y T S\n",
    "        .instructions Text here establishing what this widget is, how the user can use it, and what we intend them to use it for. Lorem ipsum dolor sit amet, consectetur adipiscing elit, lorem ipsum dolor sit amet, consectetur.\n",
    "        .explanation Text here to explain the difference between the matrix view and the state vector view\n",
    "\n",
    "<!-- ::: -->\n"
   ]
  },
  {
   "cell_type": "markdown",
   "metadata": {},
   "source": [
    "## Code Exercise\n"
   ]
  },
  {
   "cell_type": "markdown",
   "metadata": {
    "goals": [
     {
      "id": "widgets-grader-md"
     }
    ]
   },
   "source": [
    "### Quantum Hardware\n",
    "\n",
    "\n",
    "<!-- ::: q-code-exercise -->\n",
    "\n",
    "```\n",
    "from qiskit import *\n",
    "from qiskit.visualization import plot_histogram\n",
    "\n",
    "qc = QuantumCircuit(2, 2)\n",
    "qc.h(0)\n",
    "qc.cx(0, 1)\n",
    "\n",
    "qc.measure_all();\n",
    "qc.draw();\n",
    "\n",
    "provider = IBMQ.get_provider('ibm-q')\n",
    "backend = provider.get_backend('ibmq_lima')\n",
    "\n",
    "shots = 1024\n",
    "job = execute(qc, backend, shots=shots, memory=True)\n",
    "\n",
    "# Get the results from the computation\n",
    "results = job.result()\n",
    "answer = results.get_counts()\n",
    "\n",
    "plot_histogram(answer)\n",
    "```\n",
    "\n",
    "<!-- ::: -->\n",
    "\n"
   ]
  },
  {
   "cell_type": "markdown",
   "metadata": {},
   "source": [
    "### Using markdown cell\n",
    "\n",
    "<!-- ::: q-code-exercise -->\n",
    "\n",
    "```python\n",
    "p1 = 0.01\n",
    "p3 = 3 * p1**2 * (1-p1) + p1**3 # probability of 2 or 3 errors\n",
    "\n",
    "print('Probability of a single reply being garbled: {}'.format(p1))\n",
    "print('Probability of a the majority of three replies being garbled: {:.4f}'.format(p3))\n",
    "```\n",
    "\n",
    "<!-- ::: -->\n"
   ]
  },
  {
   "cell_type": "markdown",
   "metadata": {},
   "source": [
    "### Using code cell\n"
   ]
  },
  {
   "cell_type": "code",
   "execution_count": null,
   "metadata": {},
   "outputs": [],
   "source": [
    "p2 = 0.01\n",
    "p4 = 3 * p2**2 * (1-p2) + p2**3 # probability of 2 or 3 errors\n",
    "\n",
    "print('Probability of a single reply being garbled: {}'.format(p2))\n",
    "print('Probability of a the majority of three replies being garbled: {:.4f}'.format(p4))\n"
   ]
  },
  {
   "cell_type": "markdown",
   "metadata": {},
   "source": [
    "## Eigenvector Widget\n",
    "\n",
    "<!-- ::: q-block -->\n",
    "\n",
    "### Understanding Eigenvectors\n",
    "\n",
    "Lorem ipsum dolor sit amet, consectetur adipiscing elit, sed do eiusmod tempor incididunt ut labore et dolore magna aliqua. Ut enim ad minim veniam, quis nostrud exercitation ullamco laboris nisi ut aliquip ex ea commodo consequat.\n",
    "\n",
    "    q-eigenvector-widget\n",
    "\n",
    "<!-- ::: -->\n",
    "\n",
    "<!-- ::: q-block -->\n",
    "\n",
    "### Amplitude encoding\n",
    "\n",
    "    q-statevector-amplitude-encoding\n",
    "      p Amplitude encoding description. Lorem ipsum dolor sit amet, consectetur adipiscing elit. Convallis vitae lit fermentum sit. Pellentesque congue risus sed condimentum viverra dolor. Sapien nunc vulputate posuere vel.\n",
    "\n",
    "<!-- ::: -->"
   ]
  },
  {
   "cell_type": "markdown",
   "metadata": {},
   "source": [
    "## Statevector Widget\n",
    "\n",
    "<!-- ::: q-block -->\n",
    "\n",
    "### Binary encoding\n",
    "\n",
    "    q-statevector-binary-encoding\n",
    "      p Binary encoding description. Lorem ipsum dolor sit amet, consectetur adipiscing elit. Convallis vitae lit fermentum sit. Pellentesque congue risus sed condimentum viverra dolor. Sapien nunc vulputate posuere vel.\n",
    "\n",
    "<!-- ::: -->\n",
    "\n",
    "<!-- ::: q-block -->\n",
    "\n",
    "### Amplitude encoding\n",
    "\n",
    "    q-statevector-amplitude-encoding\n",
    "      p Amplitude encoding description. Lorem ipsum dolor sit amet, consectetur adipiscing elit. Convallis vitae lit fermentum sit. Pellentesque congue risus sed condimentum viverra dolor. Sapien nunc vulputate posuere vel.\n",
    "\n",
    "<!-- ::: -->"
   ]
  },
  {
   "cell_type": "markdown",
   "metadata": {},
   "source": [
    "## Amplitude Addition Widget\n",
    "\n",
    "<!-- ::: q-block.binary -->\n",
    "\n",
    "### Amplitude Addition Widget\n",
    "\n",
    "    q-amplitude-addition-widget\n",
    "\n",
    "<!-- ::: -->\n",
    "\n",
    "\n",
    "## Amplitude Disk\n",
    "\n",
    "    q-amplitude-disk\n",
    "    q-amplitude-disk(magnitude=1, phase=0, is-interactive)\n",
    "    q-amplitude-disk(magnitude=1.1, phase=270)\n",
    "\n",
    "## Amplitude Disk With Values\n",
    "\n",
    "    q-amplitude-disk-with-values(magnitude=1, phase=0)\n",
    "    q-amplitude-disk-with-values(magnitude=1, phase=0, is-interactive)\n",
    "\n",
    "## Amplitude Addition Disk\n",
    "\n",
    "    q-amplitude-addition-disk(magnitude-a=0.7, phase-a=50, magnitude-b=0.4, phase-b=190)\n",
    "    q-amplitude-addition-disk(magnitude-a=0.7, phase-a=50, magnitude-b=0.7, phase-b=60)\n",
    "\n",
    "## Amplitude Addition Disk With Values\n",
    "\n",
    "    q-amplitude-addition-disk-with-values(magnitude-a=0.7, phase-a=50, magnitude-b=0.4, phase-b=190)\n",
    "    q-amplitude-addition-disk-with-values(magnitude-a=0.7, phase-a=50, magnitude-b=0.7, phase-b=60)\n"
   ]
  },
  {
   "cell_type": "markdown",
   "metadata": {},
   "source": [
    "## QML Approaches\n",
    "\n",
    "<!-- ::: q-block.tabs.qml-approaches -->\n",
    "\n",
    "### QML Approaches\n",
    "\n",
    "#### Type of algorithm\n",
    "#### Type of data\n",
    "\n",
    "<!-- ::: tab -->\n",
    "\n",
    "### CC\n",
    "\n",
    "**CC** refers to processing Classical data using Classical computers, but using algorithms inspired by quantum computing, such as this recommendation system algorithm.\n",
    "\n",
    "<!-- ::: tab -->\n",
    "\n",
    "### CQ\n",
    "\n",
    "**CQ** refers to processing Quantum_ data using _Classical machine learning algorithms. This is an active area of investigation, with classical machine learning algorithms used in many areas in the quantum computing, such as qubit characterization, control and readout.\n",
    "\n",
    "<!-- ::: tab -->\n",
    "\n",
    "### QC\n",
    "\n",
    "**QC** refers to processing Classical_ data using _Quantum machine learning algorithms, and will be what this chapter focuses on.\n",
    "\n",
    "<!-- ::: tab -->\n",
    "\n",
    "### QQ\n",
    "\n",
    "**QQ** refers to processing Quantum_ data using _Quantum machine learning algorithms. This is an interesting topic, but very much still in its infancy.\n",
    "\n",
    "<!-- ::: -->\n",
    "\n",
    "<!-- ::: -->"
   ]
  },
  {
   "cell_type": "markdown",
   "metadata": {
    "goals": [
     {
      "id": "minicomposer"
     }
    ]
   },
   "source": [
    "## minicomposer\n",
    "\n",
    "    q-mini-composer(goal=\"minicomposer\")\n",
    "        .slide\n",
    "            .circuit\n",
    "                .autoMeasureGate\n",
    "                .availableGates H X Z\n",
    "                .initialCircuit\n",
    "                    .qubit\n",
    "                .goalCircuit\n",
    "                    .qubit H\n",
    "                .startProbabilities 0: 1, 1: 0\n",
    "                .endProbabilities 0: 0.5, 1: 0.5\n",
    "            .instructions first slide instructions\n",
    "            .lesson this is the lesson on the first slide\n",
    "            .info congratulations! 1º slide\n",
    "        .slide\n",
    "            .circuit\n",
    "                .autoMeasureGate\n",
    "                .availableGates H\n",
    "                .initialCircuit\n",
    "                    .qubit H\n",
    "                    .qubit H H\n",
    "                .goalCircuit\n",
    "                    .qubit H H\n",
    "                    .qubit H H\n",
    "                .startProbabilities 00: 0.5, 01: 0.5, 10: 0, 11: 0\n",
    "                .endProbabilities 00: 0.25, 01: 0.25, 10: 0.25, 11: 0.25\n",
    "            .instructions second slide instructions\n",
    "            .lesson this is the lesson on the second slide\n",
    "            .info congratulations! 2º slide\n",
    "        .slide\n",
    "            .circuit\n",
    "                .availableGates Measure Measure\n",
    "                .initialCircuit\n",
    "                    .qubit H\n",
    "                    .qubit H H\n",
    "                .goalCircuit\n",
    "                    .qubit H Measure\n",
    "                    .qubit H H Measure\n",
    "                .startProbabilities 00: 0, 01: 0, 10: 0, 11: 0\n",
    "                .endProbabilities 00: 0.5, 01: 0.5, 10: 0, 11: 0\n",
    "            .instructions third slide instructions\n",
    "            .lesson this is the lesson on the third slide\n",
    "            .info congratulations! 3º slide\n",
    "        .slide\n",
    "            .circuit\n",
    "                .availableGates H H Measure Measure\n",
    "                .initialCircuit\n",
    "                    .qubit H\n",
    "                    .qubit H H\n",
    "                .goalCircuit\n",
    "                    .qubit H H\n",
    "                    .qubit H H H Measure\n",
    "                .startProbabilities 00: 0, 01: 0, 10: 0, 11: 0\n",
    "                .endProbabilities 00: 0, 01: 0, 10: 0.5, 11: 0.5\n",
    "            .instructions fourth slide instructions\n",
    "            .lesson this is the lesson on the fourth slide\n",
    "            .info congratulations! 4º slide\n",
    "        .slide\n",
    "            .circuit\n",
    "                .availableGates RX(theta) RZ(phi) RX(a) RZ\n",
    "                .initialCircuit\n",
    "                    .qubit \n",
    "                    .qubit \n",
    "                .goalCircuit\n",
    "                    .qubit RX(theta) RX(a)\n",
    "                    .qubit RZ(phi) RZ\n",
    "            .instructions Both RXs on the first qubit and RZs on the second\n",
    "            .lesson this is the lesson on the fifth slide\n",
    "            .info congratulations! 5º slide\n",
    "\n"
   ]
  },
  {
   "cell_type": "markdown",
   "metadata": {},
   "source": [
    "## Carousel\n",
    "\n",
    "    q-carousel\n",
    "        div.\n",
    "            Lorem ipsum dolor sit amet, consectetur adipiscing elit. Morbi non libero pharetra, feugiat tortor ac, hendrerit est. Suspendisse potenti.\n",
    "        div.\n",
    "            Nulla vitae turpis a orci luctus gravida. Fusce scelerisque consectetur augue eget vulputate. Aenean quis velit luctus, feugiat nisl posuere.\n",
    "        div.\n",
    "            Maecenas ornare nunc quis viverra mollis. Vestibulum ultricies diam at venenatis sodales. Cras auctor lectus felis, nec accumsan mauris.\n"
   ]
  },
  {
   "cell_type": "markdown",
   "metadata": {},
   "source": [
    "\n",
    "&nbsp;\n",
    "\n",
    "## Layers circuit\n",
    "\n",
    "    q-layers-circuit\n"
   ]
  },
  {
   "cell_type": "markdown",
   "metadata": {
    "goals": [
     {
      "id": "wiqv"
     }
    ]
   },
   "source": [
    "\n",
    "&nbsp;\n",
    "\n",
    "## What is quantum volume\n",
    "\n",
    "    q-what-is-quantum-volume(goal=\"wiqv\")\n"
   ]
  },
  {
   "cell_type": "markdown",
   "metadata": {},
   "source": [
    "\n",
    "&nbsp;\n",
    "\n",
    "## Drag and drop code\n",
    "\n",
    "    q-drag-and-drop-code\n",
    "        .line def fib(num):\n",
    "            .line if num <= 1:\n",
    "                .line return num\n",
    "            .line else:\n",
    "                .line return fib(num - 1) + fib(num - 2)\n",
    "        .result-info.md Fibonacci Sequence\n"
   ]
  },
  {
   "cell_type": "markdown",
   "metadata": {
    "goals": [
     {
      "id": "quiz1"
     },
     {
      "id": "exmpl-quiz2"
     }
    ]
   },
   "source": [
    "## Quiz\n",
    "\n",
    "    q-quiz(goal=\"quiz1\")\n",
    "        .option(x) This is the correct answer\n",
    "        .option.md This is an example with math notation: $\\frac{\\class{qv_nh}{n_h}}{\\class{qv_nc}{n_c}\\class{qv_ns}{n_s}}\\gt{\\frac{2}{3}}$\n",
    "        .option This is a multiline example: Lorem ipsum dolor sit amet, consectetur adipiscing elit, sed do eiusmod tempor incididunt ut labore et dolore magna aliqua. Ut enim ad minim veniam, quis nostrud exercitation ullamco laboris nisi ut aliquip ex ea commodo consequat.\n",
    "\n",
    "## Quiz with side text\n",
    "\n",
    "<!-- ::: q-quiz(goal=\"exmpl-quiz2\") -->\n",
    "\n",
    "<!-- ::: .question -->\n",
    "\n",
    "Lorem ipsum dolor sit amet, consectetur adipiscing elit, sed do eiusmod tempor incididunt ut labore et dolore magna aliqua.\n",
    "\n",
    "<!-- ::: -->\n",
    "\n",
    "<!-- ::: .option(correct) -->\n",
    "\n",
    "1. This is the correct answer\n",
    "\n",
    "<!-- ::: -->\n",
    "\n",
    "<!-- ::: .option -->\n",
    "\n",
    "2. This is an example with math notation: $\\frac{\\class{qv_nh}{n_h}}{\\class{qv_nc}{n_c}\\class{qv_ns}{n_s}}\\gt{\\frac{2}{3}}$\n",
    "\n",
    "<!-- ::: -->\n",
    "\n",
    "<!-- ::: .option -->\n",
    "\n",
    "3. This is a multiline example: Lorem ipsum dolor sit amet, consectetur adipiscing elit, sed do eiusmod tempor incididunt ut labore et dolore magna aliqua. Ut enim ad minim veniam, quis nostrud exercitation ullamco laboris nisi ut aliquip ex ea commodo consequat.\n",
    "\n",
    "<!-- ::: -->\n",
    "\n",
    "<!-- ::: -->\n",
    "\n",
    "    \n"
   ]
  },
  {
   "cell_type": "markdown",
   "metadata": {},
   "source": [
    "\n",
    "&nbsp;\n",
    "\n",
    "## Binary Demo\n",
    "\n",
    "<!-- ::: q-block.binary -->\n",
    "\n",
    "### Binary Title\n",
    "\n",
    "    q-binary\n",
    "\n",
    "<!-- ::: -->\n"
   ]
  }
 ],
 "metadata": {
  "kernelspec": {
   "display_name": "Python 3",
   "language": "python",
   "name": "python3"
  },
  "language_info": {
   "codemirror_mode": {
    "name": "ipython",
    "version": 3
   },
   "file_extension": ".py",
   "mimetype": "text/x-python",
   "name": "python",
   "nbconvert_exporter": "python",
   "pygments_lexer": "ipython3",
   "version": "3.9"
  }
 },
 "nbformat": 4,
 "nbformat_minor": 4
}
