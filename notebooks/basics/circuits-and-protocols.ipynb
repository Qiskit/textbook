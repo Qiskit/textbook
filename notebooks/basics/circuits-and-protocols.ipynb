{
 "cells": [
  {
   "cell_type": "markdown",
   "id": "5c7f8618",
   "metadata": {},
   "source": [
    "# Circuits, protocols, and games"
   ]
  },
  {
   "cell_type": "markdown",
   "id": "29a82162",
   "metadata": {},
   "source": [
    "![Illustration of hands assembling machinery](images/under-construction.png)\n",
    "\n",
    "We're still working on this page but hope to make it available soon. In the meantime, you can check out other learning materials by Qiskit [here](https://qiskit.org/learn).\n",
    "\n",
    "Follow Qiskit on social media to receive updates on this course and share your feedback.\n",
    "\n",
    "- [Qiskit YouTube Channel](https://www.youtube.com/Qiskit)\n",
    "- [@Qiskit on Twitter](https://twitter.com/Qiskit)\n",
    "- [Join the Qiskit community on Slack](https://ibm.co/joinqiskitslack)\n",
    "- [Read the Qiskit blog on Medium](https://medium.com/Qiskit)"
   ]
  }
 ],
 "metadata": {
  "kernelspec": {
   "display_name": "Python 3",
   "language": "python",
   "name": "python3"
  },
  "language_info": {
   "codemirror_mode": {
    "name": "ipython",
    "version": 3
   },
   "file_extension": ".py",
   "mimetype": "text/x-python",
   "name": "python",
   "nbconvert_exporter": "python",
   "pygments_lexer": "ipython3",
   "version": "3.9"
  }
 },
 "nbformat": 4,
 "nbformat_minor": 5
}
