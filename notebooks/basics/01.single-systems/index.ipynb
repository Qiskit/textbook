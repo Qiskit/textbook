{
 "cells": [
  {
   "cell_type": "markdown",
   "id": "13690dd7",
   "metadata": {},
   "source": [
    "# Single systems\n",
    "\n",
    "## Introduction\n",
    "\n",
    "![Illustration of a notebook and an atom.](images/hero.png)\n",
    "\n",
    "This lesson introduces the basic framework of [quantum information][quantum-information], including the description of quantum states as vectors with complex number entries, measurements that allow classical information to be extracted from quantum states, and operations on quantum states that are described by unitary matrices.\n",
    "We will restrict our attention in this lesson to the comparatively simple setting in which a single system is considered in isolation.\n",
    "In the next lesson, we will expand our view to multiple systems, which can interact with one another and be correlated, for instance.\n",
    "\n",
    "[quantum-information]: #definition-tooltip \"*Quantum information* is both a concept and a framework for modeling and describing information in quantum systems. While it is based on and motivated by quantum physics, the physical details can largely be abstracted away, leaving a mathematical framework that is applicable to a variety of specific physical systems.\"\n",
    "\n",
    "There are, in fact, two common mathematical descriptions of quantum information.\n",
    "The one introduced in this lesson is the simpler of the two.\n",
    "This description is sufficient for understanding many (or perhaps most) quantum algorithms, and is a natural place to start from a pedagogical viewpoint.\n",
    "\n",
    "A more general, and ultimately more powerful description of quantum information, in which quantum states are represented by *density matrices*, will be introduced in a later lesson.\n",
    "The density matrix description is essential to the study of quantum information, for several reasons.\n",
    "As examples, they can be used to model the effects of [noise][noise] on quantum computations, or the state of one piece of an entangled pair. More generally, density matrices serve as a mathematical basis for quantum information theory and quantum cryptography, and are quite beautiful from a mathematical perspective.\n",
    "For these reasons, we encourage you to learn more about it when the time is right, but for now our focus will be on the simpler description of quantum information.\n",
    "\n",
    "[noise]: #definition-tooltip \"In the context of information, *noise* refers to unwanted disturbances or alterations, which may be caused by imperfect hardware or uncontrollable factors in the environment. As an example phrased in mathematical terms, a bit in a computer memory that spontaneously flips with some probability could be described as being noisy.\""
   ]
  },
  {
   "cell_type": "markdown",
   "id": "96a87980",
   "metadata": {
    "gloss": {
     "classical": {
      "text": "The term *classical* refers to concepts, ideas, and descriptions based on physical theories (such as Newtonian physics) that predate the discovery of quantum theory. In the context of information, it can be interpreted as meaning *not quantum* or not specifically connected to quantum information.",
      "title": "Classical"
     }
    }
   },
   "source": [
    "## Classical information\n",
    "\n",
    "![Illustration of dice, a DNA helix, and coins.](images/classical-information.png)\n",
    "\n",
    "To describe quantum information and how it works, we will begin with an overview of [classical][classical] information.\n",
    "Some readers may wonder why we choose to devote so much attention to classical information in a course on *quantum* information, but there are good reasons. \n",
    "For one, although quantum and classical information are different in some pretty spectacular ways, their mathematical descriptions are actually quite similar.\n",
    "\n",
    "[classical]: #definition-tooltip \"The term *classical* refers to concepts, ideas, and descriptions based on physical theories (such as Newtonian physics) that predate the discovery of quantum theory. In the context of information, it can be interpreted as meaning *not quantum* or not specifically connected to quantum information.\"\n",
    "\n",
    "Classical information also serves as a familiar point of reference when studying quantum information, as well as a source of analogy that goes a surprisingly long way.\n",
    "It is common that people ask questions about quantum information that have natural classical analogs — often with simple answers that can provide both clarity and insight into the original questions about quantum information.\n",
    "Indeed, it is not at all unreasonable to claim that one cannot truly understand quantum information without understanding classical information.\n",
    "\n",
    "Some readers may already be familiar with the material to be discussed in this section, while others may not — but the discussion is meant for both audiences.\n",
    "In addition to highlighting the aspects of classical information that are most relevant to an introduction to quantum information, this section introduces the *Dirac notation*, which is often used to describe vectors and matrices in quantum information and computation.\n",
    "As it turns out, the Dirac notation is not specific to quantum information: it can equally well be used in the context of classical information, as well as for many other settings in which vectors and matrices arise."
   ]
  },
  {
   "cell_type": "markdown",
   "id": "21a83c79",
   "metadata": {
    "formulas": {
     "_sigma": {
      "say": "\"Sigma\""
     },
     "probability": {
      "meaning": "The probability of the expression in the parentheses to the right being true."
     }
    },
    "gloss": {
     "system": {
      "text": "In this course, a system is an abstraction of a physical device or a medium that stores information.",
      "title": "System"
     }
    }
   },
   "source": [
    "### Classical states and probability vectors\n",
    "\n",
    "Suppose that we have a [system][system] that stores information.\n",
    "More specifically, let's assume that this system can be in one of a finite number of *classical states* at each instant.\n",
    "Here, the term \"classical state\" should be understood in intuitive terms, as a configuration that can be recognized and described unambiguously.\n",
    "\n",
    "[system]: #definition-tooltip \"In this course, a system is an abstraction of a physical device or a medium that stores information.\"\n",
    "\n",
    "The archetypal example, which we will come back to repeatedly, is that of a *bit*, which is a system whose classical states are $0$ and $1.$\n",
    "Other examples include a standard six-sided die, whose classical states are $1$, $2$, $3$, $4$, $5$, and $6;$ a nucleobase in a strand of DNA, whose classical states are *A*, *C*, *G*, and *T*; and a switch on an electric fan, whose classical states are (commonly) *high*, *medium*, *low*, and *off*.\n",
    "In mathematical terms, the specification of the classical states of a system are, in fact, the starting point: we define a bit to be a system that has classical states $0$ and $1$, and likewise for systems having different classical state sets.\n",
    "\n",
    "For the sake of this discussion, let us give the name $\\mathsf{X}$ to the system being considered, and let us use the symbol $\\Sigma$ to refer to the set of classical states of $\\mathsf{X}.$\n",
    "As well as the assumption that $\\Sigma$ is finite, as mentioned earlier, we naturally assume that $\\Sigma$ is nonempty: it is nonsensical for a physical system to have no states at all.\n",
    "Although it does make sense to consider physical systems having infinitely many classical states, we will ignore this possibility for now. There are plenty of interesting ideas to explore even within only a finite number of states.\n",
    "For the sake of convenience and brevity, we will hereafter use the term *classical state set* to mean any finite and nonempty set.\n",
    "\n",
    "Here are a few examples:\n",
    "\n",
    "1. If $\\mathsf{X}$ is a bit, then $\\Sigma = \\{0,1\\}.$ In words, we'll refer to this set as the *binary alphabet*.\n",
    "2. If $\\mathsf{X}$ is a six-sided die, then $\\Sigma = \\{1,2,3,4,5,6\\}.$\n",
    "3. If $\\mathsf{X}$ is an electric fan switch, then \n",
    "$\\Sigma = \\{\\mathrm{high}, \\mathrm{medium}, \\mathrm{low}, \\mathrm{off}\\}.$\n",
    "\n",
    "When thinking about $\\mathsf{X}$ as a carrier of information, the different classical states of $\\mathsf{X}$ could be assigned certain meanings, leading to different outcomes or consequences. \n",
    "In such cases, it may be sufficient to describe $\\mathsf{X}$ as simply being in one of its possible classical states.\n",
    "For instance, if $\\mathsf{X}$ is a fan switch, we might happen to know with certainty that it is set to *high*.\n",
    "\n",
    "Often in information processing, however, our knowledge of $\\mathsf{X}$ is uncertain. \n",
    "We represent our knowledge of the classical state of $\\mathsf{X}$ by assigning probabilities to each classical state, resulting in a *probabilistic state*.\n",
    "For example, suppose $\\mathsf{X}$ is a bit.\n",
    "Based on what we know or expect about what has happened to $\\mathsf{X}$ in the past, perhaps we believe that $\\mathsf{X}$ is in the classical state $0$ with probability $3/4$ and in the state $1$ with probability $1/4.$\n",
    "We may represent such a belief by writing this:\n",
    "\n",
    "$$\n",
    "\\operatorname{Pr}(\\mathsf{X}=0) = \\frac{3}{4}\n",
    "\\quad\\text{and}\\quad\n",
    "\\operatorname{Pr}(\\mathsf{X}=1) = \\frac{1}{4}.\n",
    "$$\n",
    "\n",
    "A more succinct way to represent this probabilistic state is by a column vector.\n",
    "\n",
    "$$\n",
    "\\begin{pmatrix}\n",
    "  \\frac{3}{4}\\\\[2mm]\n",
    "  \\frac{1}{4}\n",
    "\\end{pmatrix}\n",
    "$$\n",
    "\n",
    "The probability of the bit being $0$ is placed at the top of the vector and the probability of the bit being $1$ is placed at the bottom, simply because this is the conventional way to order the set $\\{0,1\\}.$\n",
    "\n",
    "In general, we can represent a probabilistic state of a system having any classical state set in the same way, as a vector of probabilities.\n",
    "The probabilities can be ordered in any way we choose — which is typically determined by some natural or default way to order the classical state set we're working with. To be precise, we can represent any probabilistic state through a column vector satisfying two properties:\n",
    "\n",
    "1. All entries of the vector are *nonnegative real numbers*.\n",
    "2. The sum of the entries is equal to $1.$\n",
    "\n",
    "Conversely, any column vector that satisfies these two properties can be taken as a representation of a probabilistic state.\n",
    "Hereafter, we will refer to vectors of this form as *probability vectors*.\n",
    "\n",
    "Alongside the succinctness of this notation, identifying probabilistic states as column vectors has the advantage that operations on probabilistic states are represented through matrix–vector multiplication, as will be discussed below.\n",
    "\n"
   ]
  },
  {
   "cell_type": "markdown",
   "id": "936e5686",
   "metadata": {},
   "source": [
    "### Measuring probabilistic states\n",
    "\n",
    "Now let us briefly consider what happens if we *measure* a system when it is in a probabilistic state. By measuring a system, we mean that we look at the system and unambiguously recognize whatever classical state it is in. Intuitively, we can never \"see\" a system in a probabilistic state; a measurement will yield exactly one of the allowed classical states.\n",
    "\n",
    "Measurement changes our knowledge of the system, and therefore changes the probabilistic state that we associate with that system: if we recognize that $\\mathsf{X}$ is in the classical state $a\\in\\Sigma$, then the new probability vector representing our knowledge of $\\mathsf{X}$ becomes a vector having a $1$ in the entry corresponding to $a$ and $0$ for all other entries.\n",
    "This vector indicates that $\\mathsf{X}$ is in the classical state $a$ with certainty, which we know having just recognized it.\n",
    "\n",
    "We denote the vector just described, meaning the vector having a $1$ in the entry corresponding to $a$ and $0$ for all other entries, by $\\vert a\\rangle.$\n",
    "This vector is read as \"ket $a$\" for a reason that will be explained shortly.\n",
    "Vectors of this sort are also called *standard basis* vectors.\n",
    "\n",
    "For example, assuming that the system we have in mind is a bit, the standard basis vectors are given by\n",
    "\n",
    "$$\n",
    "  \\vert 0\\rangle = \\begin{pmatrix}1\\\\0\\end{pmatrix}\n",
    "  \\quad\\text{and}\\quad\n",
    "  \\vert 1\\rangle = \\begin{pmatrix}0\\\\1\\end{pmatrix}.\n",
    "$$\n",
    "\n",
    "Notice that any two-dimensional column vector can be expressed as a linear combination of these two vectors.\n",
    "For example, we have\n",
    "\n",
    "$$\n",
    "\\begin{pmatrix}\n",
    "  \\frac{3}{4}\\\\[2mm]\n",
    "  \\frac{1}{4}\n",
    "\\end{pmatrix}\n",
    "= \\frac{3}{4}\\,\\vert 0\\rangle + \\frac{1}{4}\\,\\vert 1\\rangle.\n",
    "$$\n",
    "\n",
    "This fact naturally generalizes to any classical state set: any column vector is a linear combination over the classical states.\n",
    "We will often express vectors in this way.\n",
    "\n",
    "Returning to the change of a probabilistic state upon being measured, we may note the following connection to our everyday experiences.\n",
    "Suppose we flip a fair coin, but cover up the coin before looking at it. \n",
    "We would then say that its probabilistic state is\n",
    "\n",
    "$$\n",
    "\\begin{pmatrix}\n",
    "  \\frac{1}{2}\\\\[2mm]\n",
    "  \\frac{1}{2}\n",
    "\\end{pmatrix}\n",
    "= \\frac{1}{2}\\,\\vert\\text{heads}\\rangle + \\frac{1}{2}\\,\\vert\\text{tails}\\rangle.\n",
    "$$\n",
    "\n",
    "Here, the classical state set of our coin is $\\{\\text{heads},\\text{tails}\\}.$ We'll choose to order these states as heads first, tails second.\n",
    "\n",
    "$$\n",
    "\\vert\\text{heads}\\rangle = \\begin{pmatrix}1\\\\0\\end{pmatrix}\n",
    "\\quad\\text{and}\\quad\n",
    "\\vert\\text{tails}\\rangle = \\begin{pmatrix}0\\\\1\\end{pmatrix}\n",
    "$$\n",
    "\n",
    "If we were to uncover the coin and look at it, we would see one of the two classical states: heads or tails.\n",
    "Supposing that the result were tails, we would naturally update our description of the probabilistic state of the coin so that it becomes $|\\text{tails}\\rangle.$\n",
    "Of course, if we were then to cover up the coin, and then uncover it and look at it again, the classical state would still be tails, which is consistent with the probabilistic state being described by the vector\n",
    "$|\\text{tails}\\rangle.$\n",
    "This may seem trivial, and in some sense it is. However, quantum systems behave in an entirely analogous way, yet their measurement properties are frequently considered unusual or \"spooky.\" By establishing the measurement properties of classical systems, the analogous behavior for quantum information might seem less unusual.\n",
    "\n",
    "One final remark concerning measurements of probabilistic states: they may describe knowledge or belief, not necessarily something actual.\n",
    "The state of our coin after we flip it, but before we look, is either heads or tails, and we simply don't know which until we look. \n",
    "Doing so doesn't actually change the state, but only our knowledge of it.\n",
    "Upon seeing that the classical state is tails, we naturally update our knowledge by assigning the vector $|\\text{tails}\\rangle$ to the coin, but to someone else who didn't see the coin when it was uncovered, the probabilistic state remains unchanged.\n",
    "This is not a cause for concern: different individuals may have different knowledge or beliefs about a particular system, and hence describe that system by different probability vectors."
   ]
  },
  {
   "cell_type": "markdown",
   "id": "5ac2b210",
   "metadata": {
    "formulas": {
     "_m00": {
      "meaning": "The probability this operation transforms the input bit from 0 to 0."
     },
     "_m01": {
      "meaning": "The probability this operation transforms the input bit from 0 to 1."
     },
     "_m10": {
      "meaning": "The probability this operation transforms the input bit from 1 to 0."
     },
     "_m11": {
      "meaning": "The probability this operation transforms the input bit from 1 to 1."
     }
    },
    "gloss": {
     "altdeterministic": {
      "text": "An operation is deterministic if the result is completely determined by the input without any element of chance or uncertainty.",
      "title": "Deterministic"
     },
     "altstochastic": {
      "text": "*Stochastic* means ivolving randomness, chance, or uncertainty.",
      "title": "Stochastic"
     },
     "associative": {
      "text": "An operation is associative if we can move the position of the parentheses and get the same result. <br><a href=\"https://en.wikipedia.org/wiki/Associative_property\">Read more</a>",
      "title": "Associativity"
     },
     "commutative": {
      "text": "If an operation is commutative, switching the order of the inputs does not change the result.<br><a href=\"https://en.wikipedia.org/wiki/Commutative_property\">Read more</a>",
      "title": "Commutativity"
     },
     "composing": {
      "text": "Composition refers to applying one function after another.<br><a href=\"https://en.wikipedia.org/wiki/Function_composition\">Read more</a>.",
      "title": "Composition"
     },
     "dirac": {
      "text": "Paul Dirac was a physicist who made key contributions to the development of quantum physics.<br><a href=\"https://en.wikipedia.org/wiki/Paul_Dirac\">Read more</a>.",
      "title": "Paul Dirac"
     },
     "identity-function": {
      "text": "The identity function returns its input unchanged.",
      "title": "Identity"
     }
    }
   },
   "source": [
    "### Classical operations\n",
    "\n",
    "In the last part of this brief summary of classical information, we will consider the sorts of operations one might perform on a classical system.\n",
    "\n",
    "#### Deterministic operations\n",
    "\n",
    "First, there are [deterministic][deterministic] operations, where each classical state $a\\in\\Sigma$ is transformed into $f(a)$ for some function $f$ of the form $f:\\Sigma\\rightarrow\\Sigma.$\n",
    "\n",
    "[deterministic]: #definition-tooltip \"An operation is deterministic if the result is completely determined by the input without any element of chance or uncertainty.\"\n",
    "\n",
    "For example, if $\\Sigma = \\{0,1\\},$ there are four functions of this form, $f_1,$ $f_2,$ $f_3,$ and $f_4,$ which can be represented by tables of values as follows:\n",
    "\n",
    "$$\n",
    "\\begin{array}{c|c}\n",
    "  a & f_1(a)\\\\\n",
    "  \\hline\n",
    "  0 & 0\\\\\n",
    "  1 & 0\n",
    "\\end{array}\n",
    "\\qquad\n",
    "\\begin{array}{c|c}\n",
    "  a & f_2(a)\\\\\n",
    "  \\hline\n",
    "  0 & 0\\\\\n",
    "  1 & 1\n",
    "\\end{array}\n",
    "\\qquad\n",
    "\\begin{array}{c|c}\n",
    "  a & f_3(a)\\\\\n",
    "  \\hline\n",
    "  0 & 1\\\\\n",
    "  1 & 0\n",
    "\\end{array}\n",
    "\\qquad\n",
    "\\begin{array}{c|c}\n",
    "  a & f_4(a)\\\\\n",
    "  \\hline\n",
    "  0 & 1\\\\\n",
    "  1 & 1\n",
    "\\end{array}\n",
    "$$\n",
    "\n",
    "The first and last of these functions are *constant*: $f_1(a) = 0$ and $f_4(a) = 1$ for each $a\\in\\Sigma.$\n",
    "The middle two are not constant, they are *balanced*, in the sense that the two possible output values occur the same number of times as we range over the possible inputs.\n",
    "The function $f_2$ is the [identity function][identity-function]: $f_2(a) = a$ for each $a\\in\\Sigma.$\n",
    "And $f_3$ is the function $f_3(0) = 1$ and $f_3(1) = 0,$ which is better-known as the NOT function.\n",
    "\n",
    "[identity-function]: #definition-tooltip \"The identity function returns its input unchanged.\"\n",
    "\n",
    "The actions of deterministic operations on probabilistic states can be represented by matrix-vector multiplication.\n",
    "Specifically, the matrix $M$ that represents a given function $f:\\Sigma\\rightarrow\\Sigma$ is the one that satisfies\n",
    "\n",
    "$$\n",
    "M \\vert a \\rangle = \\vert f(a)\\rangle\n",
    "$$\n",
    "\n",
    "for every $a\\in\\Sigma.$\n",
    "Such a matrix always exists and is unique.\n",
    "\n",
    "For example, the matrices $M_1,\\ldots,M_4$ corresponding to the functions $f_1,\\ldots,f_4$ above are as follows:\n",
    "\n",
    "$$\n",
    "  M_1 =\n",
    "  \\begin{pmatrix}\n",
    "    1 & 1\\\\\n",
    "    0 & 0\n",
    "  \\end{pmatrix},\n",
    "  \\hspace{4mm}\n",
    "  M_2 =\n",
    "  \\begin{pmatrix}\n",
    "    {1} & {0}\\\\\n",
    "    {0} & {1}\n",
    "  \\end{pmatrix},\n",
    "  \\hspace{4mm}\n",
    "  M_3 =\n",
    "  \\begin{pmatrix}\n",
    "    {0} & {1}\\\\\n",
    "    {1} & {0}\n",
    "  \\end{pmatrix},\n",
    "  \\hspace{4mm}\n",
    "  M_4 =\n",
    "  \\begin{pmatrix}\n",
    "    {0} & {0}\\\\\n",
    "    {1} & {1}\n",
    "  \\end{pmatrix}.\n",
    "$$\n",
    "\n",
    "Matrices that represent deterministic operations always have exactly one $1$ in each column, and $0$ for all other entries.\n",
    "\n",
    "A convenient way to represent matrices of these and other forms makes use of an analogous notation for row vectors to the one for column vectors discussed previously. We denote by $\\langle a \\vert$ the *row* vector having a $1$ in the entry corresponding to $a$ and zero for all other entries, for each $a\\in\\Sigma.$\n",
    "This vector is read as \"bra $a.$\"\n",
    "\n",
    "For example, if $\\Sigma = \\{0,1\\},$ then\n",
    "\n",
    "$$\n",
    "  \\langle 0 \\vert = \\begin{pmatrix}\n",
    "    1 & 0\n",
    "  \\end{pmatrix}\n",
    "  \\quad\\text{and}\\quad\n",
    "  \\langle 1 \\vert = \\begin{pmatrix}\n",
    "    0 & 1\n",
    "  \\end{pmatrix}.\n",
    "$$\n",
    "\n",
    "For an arbitrary choice of a classical state set $\\Sigma,$ viewing row vectors and column vectors as matrices and performing the matrix multiplication $\\vert b\\rangle \\langle a\\vert,$ one obtains a square matrix having a $1$ in the entry corresponding to the pair $(b,a),$ meaning that the row of the entry corresponds to $b$ and the column corresponds to $a,$ and $0$ for all other entries. For example,\n",
    "\n",
    "$$\n",
    "  \\vert 0 \\rangle \\langle 1 \\vert = \\begin{pmatrix}\n",
    "    0 & 1 \\\\\n",
    "    0 & 0\n",
    "  \\end{pmatrix}.\n",
    "$$\n",
    "\n",
    "Using this notation, for any function $f:\\Sigma\\rightarrow\\Sigma,$ we may express the matrix $M$ corresponding to the function $f$ as \n",
    "\n",
    "$$\n",
    "  M = \\sum_{a\\in\\Sigma} \\vert f(a) \\rangle \\langle a \\vert.\n",
    "$$\n",
    "\n",
    "Now, if we again think about vectors as matrices, but this time consider the multiplication $\\langle a \\vert \\vert b \\rangle,$ then we obtain a $1\\times 1$ matrix, which we can think about as a scalar (i.e., a number).\n",
    "For the sake of tidiness we write this product as $\\langle a \\vert b\\rangle$ rather than $\\langle a \\vert \\vert b \\rangle.$\n",
    "This product satisfies the following simple formula:\n",
    "\n",
    "$$\n",
    "  \\langle a \\vert b \\rangle\n",
    "  = \\begin{cases}\n",
    "    1 & a = b\\\\\n",
    "    0 & a \\not= b.\n",
    "  \\end{cases}\n",
    "$$\n",
    "\n",
    "Using this observation, together with the fact that matrix multiplication is associative and linear, we obtain\n",
    "\n",
    "$$\n",
    "  M \\vert b \\rangle = \n",
    "  \\Biggl(\n",
    "  \\sum_{a\\in\\Sigma} \\vert f(a) \\rangle \\langle a \\vert\n",
    "  \\Biggr)\n",
    "  \\vert b\\rangle\n",
    "  = \\sum_{a\\in\\Sigma} \\vert f(a) \\rangle \\langle a \\vert b \\rangle\n",
    "  = \\vert f(b)\\rangle,\n",
    "$$\n",
    "\n",
    "for each $b\\in\\Sigma,$ which is what we require of $M.$\n",
    "\n",
    "As we will discuss in greater detail in Lesson 3, $\\langle a \\vert b \\rangle$ may also be seen as an *inner product* between the vectors $\\vert a\\rangle$ and $\\vert b\\rangle.$\n",
    "Inner products are critically important in quantum information, but we will delay a discussion of them until they are needed.\n",
    "\n",
    "At this point the names \"bra\" and \"ket\" may be evident: putting a \"bra\" $\\langle a\\vert$ together with a \"ket\" $\\vert b\\rangle$ yields a \"bracket\" $\\langle a \\vert b\\rangle.$\n",
    "This notation and terminology is due to [Paul Dirac][Dirac], and for this reason is known as the *Dirac notation*.\n",
    "\n",
    "[Dirac]: #definition-tooltip \"Paul Dirac was a physicist who made key contributions to the development of quantum physics.<br><a href=\\\"https://en.wikipedia.org/wiki/Paul_Dirac\\\">Read more</a>.\""
   ]
  },
  {
   "cell_type": "markdown",
   "id": "be8094f7",
   "metadata": {
    "formulas": {
     "_m00": {
      "meaning": "The probability this operation transforms the input bit from 0 to 0."
     },
     "_m01": {
      "meaning": "The probability this operation transforms the input bit from 0 to 1."
     },
     "_m10": {
      "meaning": "The probability this operation transforms the input bit from 1 to 0."
     },
     "_m11": {
      "meaning": "The probability this operation transforms the input bit from 1 to 1."
     }
    },
    "gloss": {
     "altdeterministic": {
      "text": "An operation is deterministic if the result is completely determined by the input without any element of chance or uncertainty.",
      "title": "Deterministic"
     },
     "associative": {
      "text": "An operation is associative if we can move the position of the parentheses and get the same result. <br><a href=\"https://en.wikipedia.org/wiki/Associative_property\">Read more</a>",
      "title": "Associativity"
     },
     "commutative": {
      "text": "If an operation is commutative, switching the order of the inputs does not change the result.<br><a href=\"https://en.wikipedia.org/wiki/Commutative_property\">Read more</a>",
      "title": "Commutativity"
     },
     "composing": {
      "text": "Composition refers to applying one function or operation after another.<br><a href=\"https://en.wikipedia.org/wiki/Function_composition\">Read more</a>.",
      "title": "Composition"
     },
     "dirac": {
      "text": "Paul Dirac was a physicist who made key contributions to the development of quantum physics.<br><a href=\"https://en.wikipedia.org/wiki/Paul_Dirac\">Read more</a>.",
      "title": "Paul Dirac"
     },
     "identity-function": {
      "text": "The identity function returns its input unchanged.",
      "title": "Identity"
     },
     "stochastic-matrix": {
      "text": "'Stochastic' roughly means 'random'. A stochastic matrix represents a random process.",
      "title": "Stochastic"
     }
    }
   },
   "source": [
    "#### Probabilistic operations and stochastic matrices\n",
    "\n",
    "In addition to deterministic operations, we have *probabilistic operations*.\n",
    "\n",
    "For example, consider an operation on a bit where, if the classical state of the bit is $0,$ it is left alone, and if the classical state of the bit is $1,$ it is flipped to $0$ with probability $1/2.$\n",
    "This operation is represented by the matrix\n",
    "\n",
    "$$\n",
    "  \\begin{pmatrix}\n",
    "    1 & \\frac{1}{2}\\\\[1mm]\n",
    "    0 & \\frac{1}{2}\n",
    "  \\end{pmatrix}.\n",
    "$$\n",
    "\n",
    "We can check that this matrix does the correct thing by multiplying with the standard basis vectors. \n",
    "\n",
    "For an arbitrary choice of a classical state set, we can describe the set of all probabilistic operations in mathematical terms as those that are represented by [stochastic][stochastic] matrices, which are matrices satisfying these two properties:\n",
    "\n",
    "[stochastic]: #definition-tooltip \"'Stochastic' roughly means 'random'. A stochastic matrix represents a random process.\"\n",
    "\n",
    "1. All entries are nonnegative real numbers.\n",
    "2. The entries in every column sum to $1.$\n",
    "\n",
    "Equivalently, stochastic matrices are matrices whose columns all form probability vectors.\n",
    "\n",
    "We can think about probabilistic operations at an intuitive level as ones where randomness might somehow be used or introduced during the operation, just like in the example above.\n",
    "With respect to the stochastic matrix description of a probabilistic operation, each column can be viewed as a vector representation of the probabilistic state that is generated given whatever classical state input corresponds to that column.\n",
    "\n",
    "We can also think about stochastic matrices as being exactly those matrices that always map probability vectors to probability vectors.\n",
    "That is, stochastic matrices always map probability vectors to probability vectors, and any matrix that always maps probability vectors to probability vectors must be a stochastic matrix.\n",
    "\n",
    "Finally, another way to think about probabilistic operations is that they are random choices of deterministic operations.\n",
    "For instance, we can think about the operation in the example above as applying either the identity function or the constant 0 function, each with probability $1/2.$\n",
    "This is consistent with the equation\n",
    "\n",
    "$$\n",
    "  \\begin{pmatrix}\n",
    "    1 & \\frac{1}{2}\\\\[1mm]\n",
    "    0 & \\frac{1}{2}\n",
    "  \\end{pmatrix}\n",
    "  = \\frac{1}{2}\n",
    "  \\begin{pmatrix}\n",
    "    1 & 0\\\\[1mm]\n",
    "    0 & 1\n",
    "  \\end{pmatrix}\n",
    "  + \\frac{1}{2}\n",
    "  \\begin{pmatrix}\n",
    "    1 & 1\\\\[1mm]\n",
    "    0 & 0\n",
    "  \\end{pmatrix}.\n",
    "$$\n",
    "\n",
    "Such an expression is always possible, for an arbitrary choice of a classical state set and any stochastic matrix with rows and columns identified with that classical state set.\n",
    "\n",
    "#### Compositions of probabilistic operations\n",
    "\n",
    "Suppose that $\\mathsf{X}$ is a system having classical state set $\\Sigma$, and $M_1,\\ldots,M_n$ are stochastic matrices representing probabilistic operations on the system $\\mathsf{X}.$\n",
    "\n",
    "If the first operation $M_1$ is applied to the probabilistic state represented by a probability vector $u$, the resulting probabilistic state is represented by the vector $M_1 u.$\n",
    "If we then apply the second probabilistic operation $M_2$ to this new probability vector, we obtain the probability vector\n",
    "\n",
    "$$\n",
    "  M_2 (M_1 u) = (M_2 M_1) u.\n",
    "$$\n",
    "\n",
    "The equality follows from the fact that matrix multiplication (which includes matrix-vector multiplication as a special case) is an [associative][associative] operation.\n",
    "Thus, the probabilistic operation obtained by [composing][composition] the first and second probabilistic operations, where we first apply $M_1$ and then apply $M_2$, is represented by the matrix $M_2 M_1$, which is necessarily stochastic.\n",
    "\n",
    "[associative]: #definition-tooltip \"An operation is associative if we can move the position of the parentheses and get the same result.\"\n",
    "\n",
    "[composition]: #definition-tooltip \"Composition refers to applying one function or operation after another.\"\n",
    "\n",
    "More generally, composing the probabilistic operations represented by the matrices $M_1,\\ldots,M_n$ in that order, meaning that $M_1$ is applied first, $M_2$ is applied second, and so on, with $M_n$ applied last, is represented by\n",
    "the matrix\n",
    "\n",
    "$$\n",
    "  M_n \\,\\cdots\\, M_1.\n",
    "$$\n",
    "\n",
    "Note that the ordering is important here: although matrix multiplication is associative, it is not a [commutative][commutative] operation in general.\n",
    "\n",
    "[commutative]: #definition-tooltip \"An operation is commutative if switching the order of the inputs does not change the result.\"\n",
    "\n",
    "For example, if we have\n",
    "\n",
    "$$\n",
    "  M_1 = \n",
    "  \\begin{pmatrix}\n",
    "    1 & 1\\\\[1mm]\n",
    "    0 & 0\n",
    "  \\end{pmatrix}\n",
    "  \\quad\\text{and}\\quad\n",
    "  M_2 =\n",
    "  \\begin{pmatrix}\n",
    "    0 & 1\\\\[1mm]\n",
    "    1 & 0\n",
    "  \\end{pmatrix},\n",
    "$$\n",
    "\n",
    "then\n",
    "\n",
    "$$\n",
    "  M_2 M_1 = \n",
    "  \\begin{pmatrix}\n",
    "    0 & 0 \\\\[1mm]\n",
    "    1 & 1\n",
    "  \\end{pmatrix}\n",
    "  \\quad\\text{and}\\quad\n",
    "  M_1 M_2 =\n",
    "  \\begin{pmatrix}\n",
    "    1 & 1\\\\[1mm]\n",
    "    0 & 0\n",
    "  \\end{pmatrix}.\n",
    "$$\n",
    "\n",
    "That is, the order in which probabilistic operations are composed matters: changing the order in which operations are applied in a composition can change the resulting operation."
   ]
  },
  {
   "cell_type": "markdown",
   "id": "a6cd0323",
   "metadata": {},
   "source": [
    "## Quantum information\n",
    "\n",
    "![Illustration of a deck of cards.](images/quantum-information.png)\n",
    "\n",
    "Now we move on to quantum information, where we make a different choice for the type of vector that represents a state — in this case a *quantum state* — of the system being considered.\n",
    "As in the previous section, we'll be concerned with systems having finite and nonempty sets of classical states, and we will make use of much of the notation that was introduced in that section."
   ]
  },
  {
   "cell_type": "markdown",
   "id": "897e71c0",
   "metadata": {},
   "source": [
    "### Quantum state vectors\n",
    "\n",
    "A *quantum state* of a system is represented by a column vector, similar to probabilistic states. As before, the indices of the vector label the classical states of the system.\n",
    "Vectors representing quantum states are characterized by these two properties:\n",
    "\n",
    "1. The entries of a quantum state vector are *complex numbers*.\n",
    "2. The sum of the *absolute values squared* of the entries of a quantum state vector is $1.$\n",
    "\n",
    "Thus, in contrast to the probabilistic case, vectors representing quantum states need not have nonnegative real number entries, and it is the sum of the absolute values squared of the entries (as opposed to the sum of the entries) that must equal $1.$ Simple as these changes are, they give rise to all the differences between quantum and classical information. Any speedup from a quantum computer, or improvement in a communication protocol, ultimately derives from these simple mathematical changes. \n",
    "\n",
    "The *Euclidean norm* of a column vector\n",
    "\n",
    "$$\n",
    "  v = \\begin{pmatrix}\n",
    "    \\alpha_1\\\\\n",
    "    \\vdots\\\\\n",
    "    \\alpha_n\n",
    "  \\end{pmatrix}\n",
    "$$\n",
    "\n",
    "is denoted and defined as follows:\n",
    "\n",
    "$$\n",
    "  \\| v \\| = \\sqrt{\\sum_{k=1}^n |\\alpha_k|^2}.\n",
    "$$\n",
    "\n",
    "The condition that the sum of the absolute values squared of a quantum state vector equals $1$ is therefore equivalent to that vector having Euclidean norm equal to $1.$\n",
    "That is, quantum state vectors are *unit vectors* with respect to the Euclidean norm.\n",
    "\n",
    "#### Examples of qubit states\n",
    "\n",
    "The term *qubit* refers to a quantum system whose classical state set is $\\{0,1\\}.$\n",
    "That is, a qubit is really just a bit — but by using this name we explicitly recognize that this bit can be in a quantum state.\n",
    "\n",
    "These are examples of quantum states of a qubit:\n",
    "\n",
    "$$\n",
    "  \\begin{pmatrix}\n",
    "    1\\\\[2mm]\n",
    "    0\n",
    "  \\end{pmatrix}\n",
    "  = \\vert 0\\rangle\n",
    "  \\quad\\text{and}\\quad\n",
    "  \\begin{pmatrix}\n",
    "    0\\\\[2mm]\n",
    "    1\n",
    "  \\end{pmatrix}\n",
    "  = \\vert 1\\rangle,\n",
    "$$\n",
    "\n",
    "$$  \n",
    "  \\begin{pmatrix}\n",
    "    \\frac{1}{\\sqrt{2}}\\\\[2mm]\n",
    "    \\frac{1}{\\sqrt{2}}\n",
    "  \\end{pmatrix}\n",
    "  = \\frac{1}{\\sqrt{2}}\\,\\vert 0\\rangle + \\frac{1}{\\sqrt{2}}\\,\\vert 1\\rangle,\n",
    "  \\tag{1}\n",
    "$$\n",
    "and\n",
    "$$\n",
    "  \\begin{pmatrix}\n",
    "    \\frac{1+2i}{3}\\\\[2mm]\n",
    "    -\\frac{2}{3}\n",
    "  \\end{pmatrix}\n",
    "  = \\frac{1+2i}{3}\\,\\vert 0\\rangle - \\frac{2}{3}\\,\\vert 1\\rangle.\n",
    "$$\n",
    "\n",
    "The first two examples, $\\vert 0\\rangle$ and $\\vert 1\\rangle,$ illustrate that standard basis elements are valid quantum state vectors: their entries are complex numbers (where the imaginary part of these numbers happens to be $0$) and computing the sum of the absolute values squared of the entries yields\n",
    "\n",
    "$$\n",
    "  \\vert 1\\vert^2 + \\vert 0\\vert^2 = 1\n",
    "  \\quad\\text{and}\\quad\n",
    "  \\vert 0\\vert^2 + \\vert 1\\vert^2 = 1,\n",
    "$$\n",
    "\n",
    "as required.\n",
    "Similar to the classical setting, we associate the quantum state vectors $\\vert 0\\rangle$ and $\\vert 1\\rangle$ with a qubit being in the classical state $0$ or $1,$ respectively, with certainty.\n",
    "\n",
    "For the other two examples, we again have complex number entries, and computing the sum of the absolute value squared of the entries yields\n",
    "\n",
    "$$\n",
    "  \\biggl\\vert\\frac{1}{\\sqrt{2}}\\biggr\\vert^2 +\n",
    "  \\biggl\\vert\\frac{1}{\\sqrt{2}}\\biggr\\vert^2 = \\frac{1}{2} + \\frac{1}{2} = 1\n",
    "$$\n",
    "\n",
    "and\n",
    "\n",
    "$$\n",
    "  \\biggl\\vert \\frac{1+2i}{3} \\biggr\\vert^2 +\n",
    "  \\biggl\\vert -\\frac{2}{3} \\biggr\\vert^2 = \\frac{5}{9} + \\frac{4}{9} = 1.\n",
    "$$\n",
    "\n",
    "These are therefore valid quantum state vectors. Note that they are linear combinations of the states $\\vert 0 \\rangle$ and $\\vert 1 \\rangle.$ We often say that these states are *superpositions* of the $0$ and $1$ states. Within the context of quantum states, \"superposition\" and \"linear combination\" are essentially synonymous. \n",
    "\n",
    "The example $(1)$ of a qubit state vector above is very commonly encountered — it is called the *plus state* and is denoted as follows:\n",
    "\n",
    "$$\n",
    "  \\vert + \\rangle = \\frac{1}{\\sqrt{2}} \\vert 0\\rangle + \\frac{1}{\\sqrt{2}} \\vert 1\\rangle.\n",
    "$$\n",
    "\n",
    "We also use the notation\n",
    "\n",
    "$$\n",
    "  \\vert - \\rangle = \\frac{1}{\\sqrt{2}} \\vert 0\\rangle - \\frac{1}{\\sqrt{2}} \\vert 1\\rangle\n",
    "$$\n",
    "\n",
    "to refer to a related quantum state vector where the second entry is negative rather than positive, and we call this state the *minus state*.\n",
    "This sort of notation, where some symbol other than one referring to a classical state appears inside of a ket, is common — we can use whatever name we wish inside of a ket to name a vector.\n",
    "Indeed, it is quite common to use the notation $\\vert\\psi\\rangle,$ or other names in place of $\\psi,$ to refer to an arbitrary vector that may not necessarily be a standard basis vector.\n",
    "\n",
    "Notice that if we have a vector $\\vert \\psi \\rangle$ whose indices correspond to some classical state set $\\Sigma,$ and if $a\\in\\Sigma$ is an element of this classical state set, then the (matrix) product $\\langle a\\vert \\vert \\psi\\rangle$ is equal to the entry of the vector $\\vert \\psi \\rangle$ whose index corresponds to $a.$\n",
    "As we did when $\\vert \\psi \\rangle$ is a standard basis vector, we write $\\langle a \\vert \\psi \\rangle$ rather than\n",
    "$\\langle a\\vert \\vert \\psi\\rangle$ for the sake of readability.\n",
    "\n",
    "For example, if $\\Sigma = \\{0,1\\}$ and\n",
    "\n",
    "$$\n",
    "\\vert \\psi \\rangle =\n",
    "\\frac{1+2i}{3} \\vert 0\\rangle - \\frac{2}{3} \\vert 1\\rangle\n",
    "= \\begin{pmatrix}\n",
    "    \\frac{1+2i}{3}\\\\[2mm]\n",
    "    -\\frac{2}{3}\n",
    "  \\end{pmatrix},\n",
    "  \\tag{2}\n",
    "$$\n",
    "\n",
    "then\n",
    "\n",
    "$$\n",
    "  \\langle 0 \\vert \\psi \\rangle = \\frac{1+2i}{3}\n",
    "  \\quad\\text{and}\\quad\n",
    "  \\langle 1 \\vert \\psi \\rangle = -\\frac{2}{3}.\n",
    "$$\n",
    "\n",
    "It must be understood when using this notation that $\\langle \\psi \\vert$ refers to the row vector obtained by taking the *conjugate-transpose* of the column vector $\\vert\\psi\\rangle,$ where the vector is transposed from a column vector to a row vector and each entry is replaced by its complex conjugate.\n",
    "\n",
    "For example, if $\\vert\\psi\\rangle$ is the vector defined in $(2),$ then\n",
    "\n",
    "$$\n",
    "\\langle\\psi\\vert = \\frac{1-2i}{3} \\langle 0\\vert - \\frac{2}{3} \\langle 1\\vert\n",
    "= \\begin{pmatrix}\n",
    "    \\frac{1-2i}{3} &\n",
    "    -\\frac{2}{3}\n",
    "  \\end{pmatrix}.\n",
    "$$\n",
    "\n",
    "The reason we take the complex conjugate, in addition to the transpose, will become more clear in Lesson 3 when we discuss the *inner product*."
   ]
  },
  {
   "cell_type": "markdown",
   "id": "a32a6551",
   "metadata": {},
   "source": [
    "#### Quantum states of other systems\n",
    "\n",
    "We can consider quantum states of systems having arbitrary classical state sets.\n",
    "\n",
    "For example, here is a quantum state vector for an electrical fan switch:\n",
    "\n",
    "$$\n",
    "  \\begin{pmatrix}\n",
    "    \\frac{1}{2}\\\\[1mm]\n",
    "    0 \\\\[1mm]\n",
    "    -\\frac{i}{2}\\\\[1mm]\n",
    "    \\frac{1}{\\sqrt{2}}\n",
    "  \\end{pmatrix}\n",
    "  =    \n",
    "  \\frac{1}{2} \\vert\\mathrm{high}\\rangle\n",
    "  - \\frac{i}{2} \\vert\\mathrm{low}\\rangle\n",
    "  + \\frac{1}{\\sqrt{2}} \\vert\\mathrm{off}\\rangle.\n",
    "$$\n",
    "\n",
    "The assumption here is that the classical states are ordered as *high*, *medium*, *low*, *off*.\n",
    "There may be no particular reason why one would want to consider a quantum state of an electrical fan switch, but it is possible in principle.\n",
    "\n",
    "Here's another example, this time of a quantum decimal digit whose classical states are $0, 1, \\ldots, 9:$\n",
    "\n",
    "$$\n",
    "  \\frac{1}{\\sqrt{385}}\n",
    "  \\begin{pmatrix}\n",
    "    1\\\\\n",
    "    2\\\\\n",
    "    3\\\\\n",
    "    4\\\\\n",
    "    5\\\\\n",
    "    6\\\\\n",
    "    7\\\\\n",
    "    8\\\\\n",
    "    9\\\\\n",
    "    10\n",
    "  \\end{pmatrix}\n",
    "  =\n",
    "  \\frac{1}{\\sqrt{385}}\\sum_{k = 0}^9 (k+1) \\vert k \\rangle.\n",
    "$$\n",
    "\n",
    "This example illustrates the convenience of writing state vectors using the Dirac notation.\n",
    "For this particular example, the column vector representation is merely cumbersome — but if there were significantly more classical states it would become unusable.\n",
    "The Dirac notation, in contrast, supports precise descriptions of large and complicated vectors in a compact form.\n",
    "\n",
    "The Dirac notation also allows for the expression of vectors where different aspects of the vectors are *indeterminate* (meaning unknown or not yet established).\n",
    "For example, for an arbitrary classical state set $\\Sigma$, we can consider the quantum state vector\n",
    "\n",
    "$$\n",
    "  \\frac{1}{\\sqrt{|\\Sigma|}} \\sum_{a\\in\\Sigma} \\vert a \\rangle,\n",
    "$$\n",
    "\n",
    "which is a uniform superposition over the classical states in $\\Sigma$.\n",
    "(Here, the notation $\\vert\\Sigma\\vert$ refers to the number of elements in $\\Sigma$.)\n",
    "\n",
    "We'll encounter much more complicated expressions of quantum state vectors in later lessons, where the use of column vectors would be impractical or impossible.\n",
    "In fact, we'll mostly abandon the column vector representation of state vectors, except for vectors having a small number of entries (often in the context of examples), where it may be helpful to display and examine the entries explicitly.\n",
    "\n",
    "There is one more reason why expressing state vectors using the Dirac notation is generally more convenient: it alleviates the need to explicitly specify an ordering of the classical states (or, equivalently, the correspondence between classical states and vector indices).\n",
    "For example, a quantum state vector for a system having classical state set \n",
    "$\\{\\clubsuit,\\diamondsuit,\\heartsuit,\\spadesuit\\}$, such as\n",
    "\n",
    "$$\n",
    "    \\frac{1}{2} \\vert\\clubsuit\\rangle\n",
    "  + \\frac{i}{2} \\vert\\diamondsuit\\rangle\n",
    "  - \\frac{1}{2} \\vert\\heartsuit\\rangle\n",
    "  - \\frac{i}{2} \\vert\\spadesuit\\rangle,\n",
    "$$\n",
    "\n",
    "is unambiguously described by this expression, and there really is no need to choose or specify an ordering of this classical state set in order to make sense of the expression.\n",
    "In this case, it is not difficult to simply specify an ordering of the standard card suits — for instance, we could order them as follows: $\\clubsuit$, $\\diamondsuit$, $\\heartsuit$, $\\spadesuit$.\n",
    "If we choose this particular ordering, the quantum state vector above would be represented by the column vector\n",
    "\n",
    "$$\n",
    "\\begin{pmatrix}\n",
    " \\frac{1}{2}\\\\[2mm]\n",
    " \\frac{i}{2}\\\\[2mm]\n",
    " -\\frac{1}{2}\\\\[2mm]\n",
    " -\\frac{i}{2}\n",
    "\\end{pmatrix}.\n",
    "$$\n",
    "\n",
    "In general, however, it is convenient to simply ignore the question of how classical state sets are ordered, and take the view that quantum state vectors are directly indexed by classical states."
   ]
  },
  {
   "cell_type": "markdown",
   "id": "b44fece2",
   "metadata": {},
   "source": [
    "### Measuring quantum states\n",
    "\n",
    "Next let us consider what happens when a quantum state is *measured*, focusing on a simple type of measurement known as a *standard basis measurement*.\n",
    "(There are more general notions of measurement that will be discussed later on.)\n",
    "\n",
    "Similar to the probabilistic setting, when a system in a quantum state is measured, the observer performing the measurement won't see a quantum state vector, but rather some classical state.\n",
    "In this sense, measurements act as the interface between quantum and classical information, through which classical information is extracted from quantum states.\n",
    "\n",
    "The rule is simple: if a quantum state is measured, each classical state of the system results with probability equal to the *absolute value squared* of the entry in the quantum state vector corresponding to that classical state.\n",
    "This is known as the *Born rule* in quantum mechanics.\n",
    "Notice that this rule is consistent with the requirement that the absolute values squared of the entries in a quantum state vector sum to $1,$ as it implies that the probabilities of different classical state measurement outcomes sum to $1.$\n",
    "\n",
    "For example, measuring the plus state\n",
    "\n",
    "$$\n",
    "  \\vert + \\rangle = \n",
    "  \\frac{1}{\\sqrt{2}} \\vert 0 \\rangle\n",
    "  + \\frac{1}{\\sqrt{2}} \\vert 1 \\rangle\n",
    "$$\n",
    "\n",
    "results in the two possible outcomes, $0$ and $1,$ with probabilities as follows.\n",
    "\n",
    "$$\n",
    "  \\operatorname{Pr}(\\text{outcome is 0})\n",
    "  = \\bigl\\vert \\langle 0 \\vert + \\rangle \\bigr\\vert^2\n",
    "  = \\biggl\\vert \\frac{1}{\\sqrt{2}} \\biggr\\vert^2\n",
    "  = \\frac{1}{2}\n",
    "$$\n",
    "\n",
    "$$\n",
    "  \\operatorname{Pr}(\\text{outcome is 1})\n",
    "  = \\bigl\\vert \\langle 1 \\vert + \\rangle \\bigr\\vert^2\n",
    "  = \\biggl\\vert \\frac{1}{\\sqrt{2}} \\biggr\\vert^2\n",
    "  = \\frac{1}{2}\n",
    "$$\n",
    "\n",
    "Interestingly, measuring the minus state\n",
    "\n",
    "$$\n",
    "  \\vert - \\rangle = \n",
    "  \\frac{1}{\\sqrt{2}} \\vert 0 \\rangle\n",
    "  - \\frac{1}{\\sqrt{2}} \\vert 1 \\rangle\n",
    "$$\n",
    "\n",
    "results in exactly the same probabilities for the two outcomes.\n",
    "\n",
    "$$\n",
    "  \\operatorname{Pr}(\\text{outcome is 0})\n",
    "  = \\bigl\\vert \\langle 0 \\vert - \\rangle \\bigr\\vert^2\n",
    "  = \\biggl\\vert \\frac{1}{\\sqrt{2}} \\biggr\\vert^2\n",
    "  = \\frac{1}{2}\n",
    "$$\n",
    "\n",
    "$$\n",
    "  \\operatorname{Pr}(\\text{outcome is 1})\n",
    "  = \\bigl\\vert \\langle 1 \\vert - \\rangle \\bigr\\vert^2\n",
    "  = \\biggl\\vert -\\frac{1}{\\sqrt{2}} \\biggr\\vert^2\n",
    "  = \\frac{1}{2}\n",
    "$$\n",
    "\n",
    "This suggests that, as far as standard basis measurements are concerned, the plus and minus states are exactly the same. Why should we care to make a distinction, then? We will begin to address this question in the subsection following this one.\n",
    "\n",
    "Of course, measuring the quantum state $\\vert 0\\rangle$ results in the classical state $0$ with certainty, and likewise measuring the quantum state $\\vert 1\\rangle$ results in the classical state $1$ with certainty. \n",
    "This is consistent with the identification of these quantum states with the system *being* in the corresponding classical state, as was suggested previously.\n",
    "\n",
    "As a final example, measuring the state\n",
    "\n",
    "$$\n",
    "  \\vert \\psi \\rangle = \\frac{1+2i}{3} \\vert 0\\rangle - \\frac{2}{3} \\vert 1\\rangle\n",
    "$$\n",
    "\n",
    "has probabilities given by\n",
    "\n",
    "$$\n",
    "  \\operatorname{Pr}(\\text{outcome is 0})\n",
    "  = \\bigl\\vert \\langle 0 \\vert \\psi \\rangle \\bigr\\vert^2\n",
    "  = \\biggl\\vert \\frac{1+2i}{3} \\biggr\\vert^2\n",
    "  = \\frac{5}{9},\n",
    "$$\n",
    "\n",
    "and\n",
    "\n",
    "$$\n",
    "  \\operatorname{Pr}(\\text{outcome is 1})\n",
    "  = \\bigl\\vert \\langle 1 \\vert \\psi \\rangle \\bigr\\vert^2\n",
    "  = \\biggl\\vert -\\frac{2}{3} \\biggr\\vert^2\n",
    "  = \\frac{4}{9}.\n",
    "$$"
   ]
  },
  {
   "cell_type": "markdown",
   "id": "dbbdd27b",
   "metadata": {
    "formulas": {
     "conjugate-transpose": {
      "meaning": "This symbol represents the conjugate transpose.<br><a href=\"https://en.wikipedia.org/wiki/Conjugate_transpose\">Read more</a>.",
      "say": "\"Dagger\""
     },
     "identity-matrix": {
      "meaning": "This is the *identity matrix*, which represents the operation that has no effect (i.e., the identity operation)."
     }
    }
   },
   "source": [
    "### Unitary operations\n",
    "\n",
    "Thus far, it may not be evident why quantum information is fundamentally different from classical information.\n",
    "That is, when a quantum state is measured, the probability to obtain each classical state is given by the absolute value squared of the corresponding vector entry — so why not simply record these probabilities in a probability\n",
    "vector?\n",
    "\n",
    "The answer, at least in part, is that the set of allowable *operations* that can be performed on a quantum state is different than it is for classical information.\n",
    "Similar to the probabilistic setting, operations on quantum states are linear mappings — but rather than being represented by stochastic matrices as in the classical case, operations on quantum state vectors are represented by *unitary* matrices.\n",
    "\n",
    "A square matrix $U$ having complex number entries is *unitary* if it satisfies the equations\n",
    "\n",
    "$$\n",
    "  \\begin{aligned}\n",
    "    U U^{\\dagger} &= \\I \\\\\n",
    "    U^{\\dagger} U &= \\I.\n",
    "  \\end{aligned}\n",
    "  \\tag{3}\n",
    "$$\n",
    "\n",
    "Here, $\\I$ is the identity matrix, and $U^{\\dagger}$ is the *conjugate transpose* of $U$, meaning the matrix obtained by transposing $U$ and taking the complex conjugate of each entry.\n",
    "\n",
    "$$\n",
    "  U^{\\dagger} = \\overline{U^T}\n",
    "$$\n",
    "\n",
    "If either of the two equalities numbered $(1)$ above is true, then the other must also be true.\n",
    "Both equalities are equivalent to $U^{\\dagger}$ being the inverse of $U:$\n",
    "\n",
    "$$\n",
    "  U^{-1} = U^{\\dagger}.\n",
    "$$\n",
    "\n",
    "(Warning: if $M$ is not a square matrix, then it could be that $M^{\\dagger} M = \\I$ and $M M^{\\dagger} \\not= \\I$, for instance.\n",
    "The equivalence of the two equalities in the first equation above is only true for square matrices.)\n",
    "\n",
    "The condition that $U$ is unitary is equivalent to the condition that multiplication by $U$ does not change the Euclidean norm of any vector.\n",
    "That is, an $n\\times n$ matrix $U$ is unitary if and only if \n",
    "$\\| U \\vert \\psi \\rangle \\| = \\|\\vert \\psi \\rangle \\|$\n",
    "for every $n$-dimensional column vector $\\vert \\psi \\rangle$ with complex number entries.\n",
    "Thus, because the set of all quantum state vectors is the same as the set of vectors having Euclidean norm equal to $1,$ multiplying a unitary matrix to a quantum state vector results in another quantum state vector.\n",
    "\n",
    "Indeed, unitary matrices are exactly the set of linear mappings which always transform quantum state vectors to other quantum state vectors. Notice here a resemblance to the classical probabilistic case, where operations are associated with stochastic matrices, which are the ones that always transform probability vectors into probability vectors.\n",
    "\n"
   ]
  },
  {
   "cell_type": "markdown",
   "id": "50da89b7",
   "metadata": {},
   "source": [
    "#### Important examples of unitary operations on qubits\n",
    "\n",
    "The following list describes some important unitary operations on qubits.\n",
    "\n",
    "\n",
    "1. *Pauli operations.* The four Pauli matrices are as follows:        \n",
    "\n",
    "   $$\n",
    "     \\I =\n",
    "     \\begin{pmatrix}\n",
    "       1 & 0\\\\\n",
    "       0 & 1\n",
    "     \\end{pmatrix},\n",
    "     \\quad\n",
    "     \\sigma_x =\n",
    "     \\begin{pmatrix}\n",
    "       0 & 1\\\\\n",
    "       1 & 0\n",
    "     \\end{pmatrix},\n",
    "     \\quad\n",
    "     \\sigma_y =\n",
    "     \\begin{pmatrix}\n",
    "       0 & -i\\\\\n",
    "       i & 0\n",
    "     \\end{pmatrix},\n",
    "     \\quad\n",
    "     \\sigma_z =\n",
    "     \\begin{pmatrix}\n",
    "       1 & 0\\\\\n",
    "       0 & -1\n",
    "     \\end{pmatrix}.\n",
    "   $$\n",
    "   \n",
    "   A common notation, which we will often use, is $X = \\sigma_x$, $Y = \\sigma_y$, and $Z = \\sigma_z$ — but be aware that the letters $X$, $Y$, and $Z$ are also commonly used for other purposes. The $X$ operation is also called a *bit flip* or a *NOT operation* because it induces this action on bits:\n",
    "\n",
    "   $$\n",
    "     X \\vert 0\\rangle = \\vert 1\\rangle \n",
    "     \\quad \\text{and} \\quad\n",
    "     X \\vert 1\\rangle = \\vert 0\\rangle.\n",
    "   $$\n",
    "\n",
    "   The $Z$ operation is also called a *phase flip* because it has this action:\n",
    "    \n",
    "   $$\n",
    "     Z \\vert 0\\rangle = \\vert 0\\rangle\n",
    "     \\quad \\text{and} \\quad\n",
    "     Z \\vert 1\\rangle = - \\vert 1\\rangle.\n",
    "   $$\n",
    "\n",
    "2. *Hadamard operation*. The Hadamard operation is described by this matrix:\n",
    "\n",
    "   $$\n",
    "     H = \\begin{pmatrix}\n",
    "       \\frac{1}{\\sqrt{2}} & \\frac{1}{\\sqrt{2}} \\\\[2mm]\n",
    "       \\frac{1}{\\sqrt{2}} & -\\frac{1}{\\sqrt{2}}\n",
    "     \\end{pmatrix}.\n",
    "   $$\n",
    "\n",
    "3. *Phase operations.*  A phase operation is one described by the matrix \n",
    "\n",
    "   $$\n",
    "     P_{\\theta} =\n",
    "     \\begin{pmatrix}\n",
    "       1 & 0\\\\\n",
    "       0 & e^{i\\theta}\n",
    "     \\end{pmatrix}\n",
    "   $$\n",
    "\n",
    "   for any choice of a real number $\\theta.$\n",
    "   The operations\n",
    "   \n",
    "   $$\n",
    "     S = P_{\\pi/2} =\n",
    "     \\begin{pmatrix}\n",
    "       1 & 0\\\\\n",
    "       0 & i\n",
    "     \\end{pmatrix}\n",
    "     \\quad \\text{and} \\quad\n",
    "     T = P_{\\pi/4} =\n",
    "     \\begin{pmatrix}\n",
    "       1 & 0\\\\\n",
    "       0 & \\frac{1 + i}{\\sqrt{2}}\n",
    "     \\end{pmatrix}\n",
    "   $$\n",
    "\n",
    "   are particularly important examples. Other examples include $\\I = P_0$ and $Z = P_{\\pi}.$\n",
    "\n",
    "  \n",
    "All of the matrices just defined are unitary, and therefore represent quantum operations on a single qubit.\n",
    "\n",
    "For example, here is a calculation that verifies that $H$ is unitary:\n",
    "\n",
    "$$\n",
    "  \\begin{pmatrix}\n",
    "    \\frac{1}{\\sqrt{2}} & \\frac{1}{\\sqrt{2}} \\\\[2mm]\n",
    "    \\frac{1}{\\sqrt{2}} & -\\frac{1}{\\sqrt{2}}\n",
    "  \\end{pmatrix}^{\\dagger}\n",
    "  \\begin{pmatrix}\n",
    "    \\frac{1}{\\sqrt{2}} & \\frac{1}{\\sqrt{2}} \\\\[2mm]\n",
    "    \\frac{1}{\\sqrt{2}} & -\\frac{1}{\\sqrt{2}}\n",
    "  \\end{pmatrix}\n",
    "  =\n",
    "  \\begin{pmatrix}\n",
    "    \\frac{1}{\\sqrt{2}} & \\frac{1}{\\sqrt{2}} \\\\[2mm]\n",
    "    \\frac{1}{\\sqrt{2}} & -\\frac{1}{\\sqrt{2}}\n",
    "  \\end{pmatrix}\n",
    "  \\begin{pmatrix}\n",
    "    \\frac{1}{\\sqrt{2}} & \\frac{1}{\\sqrt{2}} \\\\[2mm]\n",
    "    \\frac{1}{\\sqrt{2}} & -\\frac{1}{\\sqrt{2}}\n",
    "  \\end{pmatrix}\\\\[3mm]\n",
    "  \\hspace{2cm}\n",
    "  = \\begin{pmatrix}\n",
    "    \\frac{1}{2} + \\frac{1}{2} & \\frac{1}{2} - \\frac{1}{2}\\\\[2mm]\n",
    "    \\frac{1}{2} - \\frac{1}{2} & \\frac{1}{2} + \\frac{1}{2}\n",
    "  \\end{pmatrix}\n",
    "  =\n",
    "  \\begin{pmatrix}\n",
    "    1 & 0\\\\\n",
    "    0 & 1\n",
    "  \\end{pmatrix}.\n",
    "$$\n",
    "\n",
    "Here's the action of the Hadamard operation on a few qubit state vectors.\n",
    "\n",
    "$$\n",
    "   \\begin{aligned}\n",
    "  H \\vert 0 \\rangle & = \n",
    "  \\begin{pmatrix}\n",
    "    \\frac{1}{\\sqrt{2}} & \\frac{1}{\\sqrt{2}} \\\\[2mm]\n",
    "    \\frac{1}{\\sqrt{2}} & -\\frac{1}{\\sqrt{2}}\n",
    "  \\end{pmatrix}\n",
    "  \\begin{pmatrix}\n",
    "    1\\\\[2mm]\n",
    "    0\n",
    "  \\end{pmatrix}\n",
    "  =\n",
    "  \\begin{pmatrix}\n",
    "    \\frac{1}{\\sqrt{2}}\\\\[2mm]\n",
    "    \\frac{1}{\\sqrt{2}}\n",
    "  \\end{pmatrix}\n",
    "  = \\vert + \\rangle\\\\[6mm]\n",
    "  H \\vert 1 \\rangle\n",
    "  & =\n",
    "  \\begin{pmatrix}\n",
    "    \\frac{1}{\\sqrt{2}} & \\frac{1}{\\sqrt{2}} \\\\[2mm]\n",
    "    \\frac{1}{\\sqrt{2}} & -\\frac{1}{\\sqrt{2}}\n",
    "  \\end{pmatrix}\n",
    "  \\begin{pmatrix}\n",
    "    0\\\\[2mm]\n",
    "    1\n",
    "  \\end{pmatrix}\n",
    "  =\n",
    "  \\begin{pmatrix}\n",
    "    \\frac{1}{\\sqrt{2}}\\\\[2mm]\n",
    "    -\\frac{1}{\\sqrt{2}}\n",
    "  \\end{pmatrix}\n",
    "  = \\vert - \\rangle\\\\[6mm]\n",
    "  H \\vert + \\rangle\n",
    "  & =\n",
    "  \\begin{pmatrix}\n",
    "    \\frac{1}{\\sqrt{2}} & \\frac{1}{\\sqrt{2}} \\\\[2mm]\n",
    "    \\frac{1}{\\sqrt{2}} & -\\frac{1}{\\sqrt{2}}\n",
    "  \\end{pmatrix}\n",
    "  \\begin{pmatrix}\n",
    "    \\frac{1}{\\sqrt{2}}\\\\[2mm]\n",
    "    \\frac{1}{\\sqrt{2}}\n",
    "  \\end{pmatrix}\n",
    "  =\n",
    "  \\begin{pmatrix}\n",
    "    1\\\\[2mm]\n",
    "    0\n",
    "  \\end{pmatrix}\n",
    "  = \\vert 0 \\rangle\\\\[6mm]\n",
    "  H \\vert - \\rangle\n",
    "  & =\n",
    "  \\begin{pmatrix}\n",
    "    \\frac{1}{\\sqrt{2}} & \\frac{1}{\\sqrt{2}} \\\\[2mm]\n",
    "    \\frac{1}{\\sqrt{2}} & -\\frac{1}{\\sqrt{2}}\n",
    "  \\end{pmatrix}\n",
    "  \\begin{pmatrix}\n",
    "    \\frac{1}{\\sqrt{2}}\\\\[2mm]\n",
    "    -\\frac{1}{\\sqrt{2}}\n",
    "  \\end{pmatrix}\n",
    "  =\n",
    "  \\begin{pmatrix}\n",
    "    0\\\\[2mm]\n",
    "    1\n",
    "  \\end{pmatrix}\n",
    "  = \\vert 1 \\rangle\n",
    "  \\end{aligned}\\\\[3mm]\n",
    "    H \\biggl(\\frac{1+2i}{3} \\vert 0\\rangle - \\frac{2}{3} \\vert 1\\rangle\\biggr)\n",
    "    =\n",
    "    \\begin{pmatrix}\n",
    "      \\frac{1}{\\sqrt{2}} & \\frac{1}{\\sqrt{2}} \\\\[2mm]\n",
    "      \\frac{1}{\\sqrt{2}} & -\\frac{1}{\\sqrt{2}}\n",
    "    \\end{pmatrix}\n",
    "    \\begin{pmatrix}\n",
    "      \\frac{1+2i}{3}\\\\[2mm]\n",
    "      -\\frac{2}{3}\n",
    "    \\end{pmatrix}\\qquad\\\\[2mm]\n",
    "    \\qquad =\n",
    "    \\begin{pmatrix}\n",
    "      \\frac{-1+2i}{3\\sqrt{2}}\\\\[2mm]\n",
    "      \\frac{3+2i}{3\\sqrt{2}}\n",
    "    \\end{pmatrix}\n",
    "    =\n",
    "    \\frac{-1+2i}{3\\sqrt{2}} | 0 \\rangle\n",
    "    + \\frac{3+2i}{3\\sqrt{2}} | 1 \\rangle\n",
    "$$\n",
    "\n",
    "The last of these examples is not important, but the others are well-worth summarizing more succinctly.\n",
    "\n",
    "$$\n",
    "  \\begin{aligned}\n",
    "    H \\vert 0 \\rangle & = \\vert + \\rangle\\\\[1mm]\n",
    "    H \\vert 1 \\rangle & = \\vert - \\rangle\\\\[1mm]\n",
    "    H \\vert + \\rangle & = \\vert 0 \\rangle\\\\[1mm]\n",
    "    H \\vert - \\rangle & = \\vert 1 \\rangle\n",
    "  \\end{aligned}\n",
    "$$\n",
    "\n",
    "It's worth pausing to consider the fact that $H\\vert +\\rangle = \\vert 0\\rangle$ and \n",
    "$H\\vert -\\rangle = \\vert 1\\rangle.$\n",
    "Consider a situation in which a qubit is prepared in one of the two quantum  states $\\vert +\\rangle$ and \n",
    "$\\vert -\\rangle$, but where it is not known to us which one it is.\n",
    "Measuring either state produces the same output distribution as the other: $0$ and $1$ both appear with equal probability $1/2.$\n",
    "So, doing this provides no information about which of the two states $\\vert +\\rangle$ and $\\vert -\\rangle$ was originally prepared.\n",
    "However, if we apply a Hadamard operation and then measure, we obtain the outcome $0$ with certainty if the original state was $\\vert +\\rangle$ and we obtain the outcome $1,$ again with certainty, if the original state was $\\vert -\\rangle.$\n",
    "\n",
    "Thus, the quantum states $\\vert +\\rangle$ and $\\vert -\\rangle$ can be discriminated *perfectly*.\n",
    "This reveals that sign changes, or more generally changes to the *phases* (which are also traditionally called *arguments*) of the complex number entries of a quantum state vector, can significantly change that state.\n",
    "\n",
    "Here's another example, this time of the action of a $T$ operation on a plus state.\n",
    "\n",
    "$$\n",
    "  T \\vert +\\rangle \n",
    "  = T \\biggl(\\frac{1}{\\sqrt{2}} \\vert 0\\rangle + \\frac{1}{\\sqrt{2}} \\vert 1\\rangle\\biggr) \n",
    "  = \\frac{1}{\\sqrt{2}} T\\vert 0\\rangle + \\frac{1}{\\sqrt{2}} T\\vert 1\\rangle\n",
    "  = \\frac{1}{\\sqrt{2}} \\vert 0\\rangle + \\frac{1+i}{2} \\vert 1\\rangle\n",
    "$$\n",
    "\n",
    "Notice here that we did not bother to convert to the equivalent matrix/vector forms, and instead used the linearity of matrix multiplication together with the formulas \n",
    "\n",
    "$$\n",
    "T \\vert 0\\rangle = \\vert 0\\rangle \n",
    "\\quad\\text{and}\\quad\n",
    "T \\vert 1\\rangle = \\frac{1 + i}{\\sqrt{2}} \\vert 1\\rangle.\n",
    "$$\n",
    "\n",
    "Along similar lines, we may compute the result of applying a Hadamard operation to the quantum state vector just obtained:\n",
    "\n",
    "$$\n",
    "\\begin{aligned}\n",
    "H\\,  \\biggl(\\frac{1}{\\sqrt{2}} \\vert 0\\rangle + \\frac{1+i}{2} \\vert 1\\rangle\\biggr)\n",
    "& = \\frac{1}{\\sqrt{2}} H \\vert 0\\rangle + \\frac{1+i}{2} H \\vert 1\\rangle\\\\\n",
    "& = \\frac{1}{\\sqrt{2}} \\vert +\\rangle + \\frac{1+i}{2} \\vert -\\rangle \\\\\n",
    "& = \\biggl(\\frac{1}{2} \\vert 0\\rangle + \\frac{1}{2} \\vert 1\\rangle\\biggr)\n",
    "+ \\biggl(\\frac{1+i}{2\\sqrt{2}} \\vert 0\\rangle - \\frac{1+i}{2\\sqrt{2}} \\vert 1\\rangle\\biggr)\\\\\n",
    "& = \\biggl(\\frac{1}{2} + \\frac{1+i}{2\\sqrt{2}}\\biggr) \\vert 0\\rangle\n",
    "+ \\biggl(\\frac{1}{2} - \\frac{1+i}{2\\sqrt{2}}\\biggr) \\vert 1\\rangle.\n",
    "\\end{aligned}\n",
    "$$\n",
    "\n",
    "The two approaches — one where we explicitly convert to matrix representations and the other where we use linearity and plug in the actions of an operation on standard basis states — are equivalent.\n",
    "We can use whichever one is more convenient in the case at hand.\n",
    "\n",
    "#### Compositions of qubit unitary operations\n",
    "\n",
    "Compositions of unitary operations are represented by matrix multiplication, just like we had in the probabilistic setting.\n",
    "For example, if we first apply a Hadamard operation, followed by the $S$ operation, followed by another Hadamard operation, the resulting operation (which we'll name $R$) is as follows:\n",
    "\n",
    "$$\n",
    "  R = H S H =\n",
    "  \\begin{pmatrix}\n",
    "    \\frac{1}{\\sqrt{2}} & \\frac{1}{\\sqrt{2}} \\\\[2mm]\n",
    "    \\frac{1}{\\sqrt{2}} & -\\frac{1}{\\sqrt{2}}\n",
    "  \\end{pmatrix}\n",
    "  \\begin{pmatrix}\n",
    "    1 & 0\\\\\n",
    "    0 & i\n",
    "  \\end{pmatrix}\n",
    "  \\begin{pmatrix}\n",
    "    \\frac{1}{\\sqrt{2}} & \\frac{1}{\\sqrt{2}} \\\\[2mm]\n",
    "    \\frac{1}{\\sqrt{2}} & -\\frac{1}{\\sqrt{2}}\n",
    "  \\end{pmatrix}\n",
    "  =\n",
    "  \\begin{pmatrix}\n",
    "    \\frac{1+i}{2} & \\frac{1-i}{2} \\\\[2mm]\n",
    "    \\frac{1-i}{2} & \\frac{1+i}{2}\n",
    "  \\end{pmatrix}.\n",
    "$$\n",
    "\n",
    "This unitary operation $R$ is an interesting example.\n",
    "By applying this operation twice, which is equivalent to squaring its matrix representation, we obtain a NOT operation:\n",
    "\n",
    "$$\n",
    "  R^2 = \n",
    "  \\begin{pmatrix}\n",
    "    \\frac{1+i}{2} & \\frac{1-i}{2} \\\\[2mm]\n",
    "    \\frac{1-i}{2} & \\frac{1+i}{2}\n",
    "  \\end{pmatrix}^2\n",
    "  =\n",
    "  \\begin{pmatrix}\n",
    "    0 & 1 \\\\[2mm]\n",
    "    1 & 0\n",
    "  \\end{pmatrix}.\n",
    "$$\n",
    "\n",
    "That is, $R$ is a *square root of NOT* operation.\n",
    "Such a behavior, where the same operation is applied twice to yield a NOT operation, is not possible for a classical operation on a single bit. This is related to the fact that you can't take the square root of a negative number and stay on the real line.\n",
    "\n",
    "You can use the interactive component below to compose a sequence of qubit unitary operations. \n",
    "It shows you both the matrix representation of the resulting unitary operation as well as its action on the state $\\vert 0\\rangle$, which we take to be the default, initialized state of a qubit. \n",
    "To specify the sequence, drag the operations you'd like to perform on the qubit down onto the line: \n",
    "the leftmost operation is applied first, and the rightmost applied last. \n",
    "Diagrams like this represent *quantum circuits*, which are discussed in greater detail and generality in Lesson 3."
   ]
  },
  {
   "cell_type": "markdown",
   "id": "e3b623b4",
   "metadata": {
    "formulas": {
     "_u00": {
      "meaning": "The probability amplitude of this operation transforming the input qubit from 0 → 0."
     },
     "_u01": {
      "meaning": "The probability amplitude of this operation transforming the input qubit from 0 → 1."
     },
     "_u02": {
      "meaning": "The probability amplitude of this operation transforming the input qubit from 0 → 2."
     },
     "_u10": {
      "meaning": "The probability amplitude of this operation transforming the input qubit from 1 → 0."
     },
     "_u11": {
      "meaning": "The probability amplitude of this operation transforming the input qubit from 1 → 1."
     },
     "_u12": {
      "meaning": "The probability amplitude of this operation transforming the input qubit from 1 → 2."
     },
     "_u20": {
      "meaning": "The probability amplitude of this operation transforming the input qubit from 2 → 0."
     },
     "_u21": {
      "meaning": "The probability amplitude of this operation transforming the input qubit from 2 → 1."
     },
     "_u22": {
      "meaning": "The probability amplitude of this operation transforming the input qubit from 2 → 2."
     }
    }
   },
   "source": [
    "#### Unitary operations on larger systems\n",
    "\n",
    "In later lessons, we will see many examples of unitary operations on systems having more than two classical states.\n",
    "An example of a unitary operation on a system having three classical states is given by the following matrix.\n",
    "\n",
    "$$\n",
    "  A = \n",
    "  \\begin{pmatrix}\n",
    "    {0} & {0} & {1} \\\\\n",
    "    {1} & {0} & {0} \\\\\n",
    "    {0} & {1} & {0}\n",
    "  \\end{pmatrix}\n",
    "$$\n",
    "\n",
    "Assuming that the classical states of the system are $0$, $1$, and $2$, we can describe this operation as addition modulo $3.$\n",
    "\n",
    "$$\n",
    "  A \\vert 0\\rangle = \\vert 1\\rangle,\n",
    "  \\quad\n",
    "  A \\vert 1\\rangle = \\vert 2\\rangle,\n",
    "  \\quad\\text{and}\\quad\n",
    "  A \\vert 2\\rangle = \\vert 0\\rangle\n",
    "$$\n",
    "\n",
    "The matrix $A$ is an example of a *permutation matrix*, which is a matrix in which every row and column has exactly one $1.$ Such matrices only rearrange, or permute, the entries of the vector it acts on. The identity is the simplest permutation matrix; another example is the NOT operation on a bit or qubit. \n",
    "Every permutation matrix, in any positive integer dimension, is unitary.\n",
    "These are the only examples of matrices that represent both classical and quantum operations: a matrix is both stochastic and unitary if and only if it is a permutation matrix.\n",
    "\n",
    "Another example of a unitary matrix, this time being a $4\\times 4$ matrix, is this one:\n",
    "\n",
    "$$\n",
    "  U = \n",
    "  \\frac{1}{2}\n",
    "  \\begin{pmatrix}\n",
    "    1 & 1 & 1 & 1 \\\\[1mm]\n",
    "    1 & i & -1 & -i \\\\[1mm]\n",
    "    1 & -1 & 1 & -1 \\\\[1mm]\n",
    "    1 & -i & -1 & i\n",
    "  \\end{pmatrix}.\n",
    "$$\n",
    "\n",
    "This matrix describes an operation known as the *quantum Fourier transform*, specifically in the $4\\times 4$ case.\n",
    "The quantum Fourier transform can be defined more generally, for any positive integer dimension $n$, and will play a key role in the second unit of this series."
   ]
  },
  {
   "cell_type": "markdown",
   "id": "defaab70",
   "metadata": {},
   "source": [
    "## Qiskit examples\n",
    "\n",
    "In this section we present some examples of Qiskit implementations of the concepts introduced in this lesson.\n",
    "\n",
    "### Vectors and matrices in Python\n",
    "\n",
    "Qiskit uses the Python programming language, so before discussing Qiskit specifically it may be helpful to very briefly discuss matrix and vector computations in Python.\n",
    "In Python, matrix and vector computations can be performed using the `array` class from the `NumPy` library (which includes many additional components for numerical computation).\n",
    "\n",
    "Here is an example of a code cell that defines two vectors, `ket0` and `ket1`, corresponding to the qubit state vectors $\\vert 0\\rangle$ and $\\vert 1\\rangle$, and displays their average.\n"
   ]
  },
  {
   "cell_type": "code",
   "execution_count": 1,
   "id": "d76964d8",
   "metadata": {},
   "outputs": [
    {
     "data": {
      "text/plain": [
       "array([0.5, 0.5])"
      ]
     },
     "metadata": {},
     "output_type": "display_data"
    }
   ],
   "source": [
    "from numpy import array\n",
    "\n",
    "ket0 = array([1, 0])\n",
    "ket1 = array([0, 1])\n",
    "\n",
    "display(ket0 / 2 + ket1 / 2)"
   ]
  },
  {
   "cell_type": "markdown",
   "id": "07f77c64",
   "metadata": {},
   "source": [
    "It is not actually necessary to explicitly use the `display` command to see the result of this computation.\n",
    "We may instead simply write the expression of interest as the last line of the code cell, and it will be returned as its output:"
   ]
  },
  {
   "cell_type": "code",
   "execution_count": 2,
   "id": "b51320d3",
   "metadata": {},
   "outputs": [
    {
     "data": {
      "text/plain": [
       "array([0.5, 0.5])"
      ]
     },
     "execution_count": 2,
     "metadata": {},
     "output_type": "execute_result"
    }
   ],
   "source": [
    "ket0 / 2 + ket1 / 2"
   ]
  },
  {
   "cell_type": "markdown",
   "id": "c33bdaa6",
   "metadata": {},
   "source": [
    "This code cell also illustrates that running code cells sequentially on a given page of this textbook has a cumulative effect, so it is not necessary to reload the `array` class or define `ket0` and `ket1` again.\n",
    "Reloading the page or switching to another page will, however, reset everything to its initial state.\n",
    "\n",
    "As a general guideline, code cells within each subsection of this course are intended to be run sequentially.\n",
    "So, if running a code cell generates an error, be sure to first run all previous code cells within the subsection in which that code cell appears."
   ]
  },
  {
   "cell_type": "markdown",
   "id": "963b22d1",
   "metadata": {},
   "source": [
    "We can also use `array` to create matrices that represent operations."
   ]
  },
  {
   "cell_type": "code",
   "execution_count": 3,
   "id": "11733a15",
   "metadata": {
    "scrolled": true
   },
   "outputs": [
    {
     "data": {
      "text/plain": [
       "array([[1. , 1. ],\n",
       "       [0.5, 0. ]])"
      ]
     },
     "execution_count": 3,
     "metadata": {},
     "output_type": "execute_result"
    }
   ],
   "source": [
    "M1 = array([[1, 1], [0, 0]])\n",
    "M2 = array([[1, 1], [1, 0]])\n",
    "\n",
    "M1 / 2 + M2 / 2"
   ]
  },
  {
   "cell_type": "markdown",
   "id": "947648f3",
   "metadata": {},
   "source": [
    "Matrix multiplication (including matrix-vector multiplication as a special case) can be performed using the `matmul` function from `NumPy`:"
   ]
  },
  {
   "cell_type": "code",
   "execution_count": 4,
   "id": "ade2c9dc",
   "metadata": {},
   "outputs": [
    {
     "data": {
      "text/plain": [
       "array([1, 0])"
      ]
     },
     "metadata": {},
     "output_type": "display_data"
    },
    {
     "data": {
      "text/plain": [
       "array([[2, 1],\n",
       "       [0, 0]])"
      ]
     },
     "metadata": {},
     "output_type": "display_data"
    },
    {
     "data": {
      "text/plain": [
       "array([[1, 1],\n",
       "       [1, 1]])"
      ]
     },
     "metadata": {},
     "output_type": "display_data"
    }
   ],
   "source": [
    "from numpy import matmul\n",
    "\n",
    "display(matmul(M1, ket1))\n",
    "display(matmul(M1, M2))\n",
    "display(matmul(M2, M1))"
   ]
  },
  {
   "cell_type": "markdown",
   "id": "20e10506",
   "metadata": {},
   "source": [
    "### States, measurements, and operations\n",
    "\n",
    "Qiskit includes several classes that allow for states, measurements, and operations to be easily created and manipulated — so starting from scratch and programming everything that is needed to simulate quantum states, measurements, and operations in Python is not required.\n",
    "Some examples to get started are included below.\n",
    "\n",
    "#### Defining and displaying state vectors\n",
    "\n",
    "Qiskit's `Statevector` class provides functionality for defining and manipulating quantum state vectors.\n",
    "The following code cell imports the `Statevector` class and defines a few vectors using it.\n",
    "(Note that we need the `sqrt` function from the `NumPy` library to compute the square roots for the vector `u`.)"
   ]
  },
  {
   "cell_type": "code",
   "execution_count": 5,
   "id": "36e7b320",
   "metadata": {},
   "outputs": [
    {
     "name": "stdout",
     "output_type": "stream",
     "text": [
      "State vectors u, v, and w have been defined.\n"
     ]
    }
   ],
   "source": [
    "from qiskit.quantum_info import Statevector\n",
    "from numpy import sqrt\n",
    "\n",
    "u = Statevector([1 / sqrt(2), 1 / sqrt(2)])\n",
    "v = Statevector([(1 + 2.0j) / 3, -2 / 3])\n",
    "w = Statevector([1 / 3, 2 / 3])\n",
    "\n",
    "print(\"State vectors u, v, and w have been defined.\")"
   ]
  },
  {
   "cell_type": "markdown",
   "id": "70e704a3",
   "metadata": {},
   "source": [
    "The `Statevector` class provides a `draw` method for displaying state vectors, including `latex` and `text` options for different visualizations, as this code cell demonstrates:"
   ]
  },
  {
   "cell_type": "code",
   "execution_count": 6,
   "id": "7578e036",
   "metadata": {},
   "outputs": [
    {
     "data": {
      "text/latex": [
       "$$\\frac{\\sqrt{2}}{2} |0\\rangle+\\frac{\\sqrt{2}}{2} |1\\rangle$$"
      ],
      "text/plain": [
       "<IPython.core.display.Latex object>"
      ]
     },
     "metadata": {},
     "output_type": "display_data"
    },
    {
     "data": {
      "text/plain": [
       "[ 0.33333333+0.66666667j,-0.66666667+0.j        ]"
      ]
     },
     "metadata": {},
     "output_type": "display_data"
    }
   ],
   "source": [
    "display(u.draw(\"latex\"))\n",
    "display(v.draw(\"text\"))"
   ]
  },
  {
   "cell_type": "markdown",
   "id": "61448553",
   "metadata": {},
   "source": [
    "The `Statevector` class also includes the `is_valid` method, which checks to see if a given vector is a valid quantum state vector (i.e., that it has Euclidean norm equal to 1):"
   ]
  },
  {
   "cell_type": "code",
   "execution_count": 7,
   "id": "68dc6a1b",
   "metadata": {
    "scrolled": true
   },
   "outputs": [
    {
     "data": {
      "text/plain": [
       "True"
      ]
     },
     "metadata": {},
     "output_type": "display_data"
    },
    {
     "data": {
      "text/plain": [
       "False"
      ]
     },
     "metadata": {},
     "output_type": "display_data"
    }
   ],
   "source": [
    "display(u.is_valid())\n",
    "display(w.is_valid())"
   ]
  },
  {
   "cell_type": "markdown",
   "id": "26918a81",
   "metadata": {},
   "source": [
    "#### Simulating measurements using `Statevector`\n",
    "\n",
    "Next we will see one way that measurements of quantum states can be simulated in Qiskit, using the `measure` method from the `Statevector` class.\n",
    "\n",
    "First, we create a qubit state vector `v` and then display it."
   ]
  },
  {
   "cell_type": "code",
   "execution_count": 8,
   "id": "d811bcf2",
   "metadata": {},
   "outputs": [
    {
     "data": {
      "text/latex": [
       "$$(\\frac{1}{3} + \\frac{2 i}{3}) |0\\rangle- \\frac{2}{3} |1\\rangle$$"
      ],
      "text/plain": [
       "<IPython.core.display.Latex object>"
      ]
     },
     "execution_count": 8,
     "metadata": {},
     "output_type": "execute_result"
    }
   ],
   "source": [
    "v = Statevector([(1 + 2.0j) / 3, -2 / 3])\n",
    "v.draw(\"latex\")"
   ]
  },
  {
   "cell_type": "markdown",
   "id": "cdd4d5e1",
   "metadata": {},
   "source": [
    "Code cells can be modified — so go ahead and change the specification of the vector if you wish.\n",
    "\n",
    "Next, running the `measure` method simulates a standard basis measurement.\n",
    "It returns the result of that measurement, plus the new quantum state of our system after that measurement."
   ]
  },
  {
   "cell_type": "code",
   "execution_count": 9,
   "id": "0eeafda1",
   "metadata": {
    "scrolled": true
   },
   "outputs": [
    {
     "data": {
      "text/plain": [
       "('0',\n",
       " Statevector([0.4472136+0.89442719j, 0.       +0.j        ],\n",
       "             dims=(2,)))"
      ]
     },
     "execution_count": 9,
     "metadata": {},
     "output_type": "execute_result"
    }
   ],
   "source": [
    "v.measure()"
   ]
  },
  {
   "cell_type": "markdown",
   "id": "b4843cbc",
   "metadata": {},
   "source": [
    "Measurement outcomes are probabilistic, so the same method can return different results.\n",
    "Try running the cell a few times to see this.\n",
    "\n",
    "For the particular example of the vector `v` defined above, the `measure` method defines the quantum state vector after the measurement takes place to be\n",
    "\n",
    "$$\n",
    "\\frac{1 + 2i}{\\sqrt{5}} \\vert 0\\rangle\n",
    "$$\n",
    "\n",
    "(rather than $\\vert 0\\rangle$) or\n",
    "\n",
    "$$\n",
    "- \\vert 1\\rangle\n",
    "$$\n",
    "\n",
    "(rather than $\\vert 1\\rangle$), depending on the measurement outcome.\n",
    "In both cases the alternatives are, in fact, equivalent — they are said to *differ by a global phase* because one is equal to the other multiplied by a complex number on the unit circle.\n",
    "This issue is discussed in greater detail in Lesson 3, and can safely be ignored for now.\n",
    "\n",
    "As an aside, `Statevector` will throw an error if the `measure` method is applied to an invalid quantum state vector.\n",
    "Feel free to give it a try if you're interested in seeing what an error looks like.\n",
    "\n",
    "`Statevector` also comes with a `sample_counts` method that allows for the simulation of any number of measurements on the system. For example, the following cell shows the outcome of measuring the vector `v` $1000$ times, which (with high probability) results in the outcome $0$ approximately $5$ out of every $9$ times (or about $556$ of the $1000$ trials) and the the outcome $1$ approximately $4$ out of every $9$ times (or about $444$ out of the $1000$ trials).\n",
    "The cell also demonstrates the `plot_histogram` function for visualizing the results."
   ]
  },
  {
   "cell_type": "code",
   "execution_count": 10,
   "id": "fde6ccf9",
   "metadata": {
    "scrolled": false
   },
   "outputs": [
    {
     "data": {
      "text/plain": [
       "{'0': 530, '1': 470}"
      ]
     },
     "metadata": {},
     "output_type": "display_data"
    },
    {
     "data": {
      "image/svg+xml": [
       "<?xml version=\"1.0\" encoding=\"UTF-8\"?><!DOCTYPE svg  PUBLIC '-//W3C//DTD SVG 1.1//EN'  'http://www.w3.org/Graphics/SVG/1.1/DTD/svg11.dtd'><svg width=\"456.27pt\" height=\"311.6pt\" version=\"1.1\" viewBox=\"0 0 456.27 311.6\" xmlns=\"http://www.w3.org/2000/svg\" xmlns:xlink=\"http://www.w3.org/1999/xlink\"><defs><style type=\"text/css\">*{stroke-linejoin: round; stroke-linecap: butt}</style></defs><path d=\"m0 311.6h456.27v-311.6h-456.27z\" fill=\"#ffffff\"/><path d=\"m58.472 284.4h390.6v-277.2h-390.6z\" fill=\"#ffffff\"/><defs><path id=\"m7bf8ce8abc\" d=\"m0 0v3.5\" stroke=\"#343a3f\" stroke-width=\".8\"/></defs><use x=\"135.408239\" y=\"284.4\" fill=\"#343a3f\" stroke=\"#343a3f\" stroke-width=\".8\" xlink:href=\"#m7bf8ce8abc\"/><g transform=\"translate(137.52 303.41) rotate(-70) scale(.14 -.14)\" fill=\"#343a3f\"><defs><path id=\"DejaVuSans-30\" transform=\"scale(.015625)\" d=\"m2034 4250q-487 0-733-480-245-479-245-1442 0-959 245-1439 246-480 733-480 491 0 736 480 246 480 246 1439 0 963-246 1442-245 480-736 480zm0 500q785 0 1199-621 414-620 414-1801 0-1178-414-1799-414-620-1199-620-784 0-1198 620-414 621-414 1799 0 1181 414 1801 414 621 1198 621z\"/></defs><use xlink:href=\"#DejaVuSans-30\"/></g><use x=\"372.135511\" y=\"284.4\" fill=\"#343a3f\" stroke=\"#343a3f\" stroke-width=\".8\" xlink:href=\"#m7bf8ce8abc\"/><g transform=\"translate(374.24 303.41) rotate(-70) scale(.14 -.14)\" fill=\"#343a3f\"><defs><path id=\"DejaVuSans-31\" transform=\"scale(.015625)\" d=\"m794 531h1031v3560l-1122-225v575l1116 225h631v-4135h1031v-531h-2687v531z\"/></defs><use xlink:href=\"#DejaVuSans-31\"/></g><path d=\"m58.472 284.4h390.6\" clip-path=\"url(#pcff1c05937)\" fill=\"none\" stroke=\"#dde1e6\" stroke-dasharray=\"2.96,1.28\" stroke-width=\".8\"/><defs><path id=\"m7e2332dc5a\" d=\"m0 0h-3.5\" stroke=\"#343a3f\" stroke-width=\".8\"/></defs><use x=\"58.471875\" y=\"284.4\" fill=\"#343a3f\" stroke=\"#343a3f\" stroke-width=\".8\" xlink:href=\"#m7e2332dc5a\"/><g transform=\"translate(42.564 289.72) scale(.14 -.14)\" fill=\"#343a3f\"><use xlink:href=\"#DejaVuSans-30\"/></g><path d=\"m58.472 213.08h390.6\" clip-path=\"url(#pcff1c05937)\" fill=\"none\" stroke=\"#dde1e6\" stroke-dasharray=\"2.96,1.28\" stroke-width=\".8\"/><use x=\"58.471875\" y=\"213.079245\" fill=\"#343a3f\" stroke=\"#343a3f\" stroke-width=\".8\" xlink:href=\"#m7e2332dc5a\"/><g transform=\"translate(24.749 218.4) scale(.14 -.14)\" fill=\"#343a3f\"><defs><path id=\"DejaVuSans-35\" transform=\"scale(.015625)\" d=\"m691 4666h2478v-532h-1900v-1143q137 47 274 70 138 23 276 23 781 0 1237-428 457-428 457-1159 0-753-469-1171-469-417-1322-417-294 0-599 50-304 50-629 150v635q281-153 581-228t634-75q541 0 856 284 316 284 316 772 0 487-316 771-315 285-856 285-253 0-505-56-251-56-513-175v2344z\"/></defs><use xlink:href=\"#DejaVuSans-31\"/><use x=\"63.623047\" xlink:href=\"#DejaVuSans-35\"/><use x=\"127.246094\" xlink:href=\"#DejaVuSans-30\"/></g><path d=\"m58.472 141.76h390.6\" clip-path=\"url(#pcff1c05937)\" fill=\"none\" stroke=\"#dde1e6\" stroke-dasharray=\"2.96,1.28\" stroke-width=\".8\"/><use x=\"58.471875\" y=\"141.758491\" fill=\"#343a3f\" stroke=\"#343a3f\" stroke-width=\".8\" xlink:href=\"#m7e2332dc5a\"/><g transform=\"translate(24.749 147.08) scale(.14 -.14)\" fill=\"#343a3f\"><defs><path id=\"DejaVuSans-33\" transform=\"scale(.015625)\" d=\"m2597 2516q453-97 707-404 255-306 255-756 0-690-475-1069-475-378-1350-378-293 0-604 58t-642 174v609q262-153 574-231 313-78 654-78 593 0 904 234t311 681q0 413-289 645-289 233-804 233h-544v519h569q465 0 712 186t247 536q0 359-255 551-254 193-729 193-260 0-557-57-297-56-653-174v562q360 100 674 150t592 50q719 0 1137-327 419-326 419-882 0-388-222-655t-631-370z\"/></defs><use xlink:href=\"#DejaVuSans-33\"/><use x=\"63.623047\" xlink:href=\"#DejaVuSans-30\"/><use x=\"127.246094\" xlink:href=\"#DejaVuSans-30\"/></g><path d=\"m58.472 70.438h390.6\" clip-path=\"url(#pcff1c05937)\" fill=\"none\" stroke=\"#dde1e6\" stroke-dasharray=\"2.96,1.28\" stroke-width=\".8\"/><use x=\"58.471875\" y=\"70.437736\" fill=\"#343a3f\" stroke=\"#343a3f\" stroke-width=\".8\" xlink:href=\"#m7e2332dc5a\"/><g transform=\"translate(24.749 75.757) scale(.14 -.14)\" fill=\"#343a3f\"><defs><path id=\"DejaVuSans-34\" transform=\"scale(.015625)\" d=\"m2419 4116-1594-2491h1594v2491zm-166 550h794v-3041h666v-525h-666v-1100h-628v1100h-2106v609l1940 2957z\"/></defs><use xlink:href=\"#DejaVuSans-34\"/><use x=\"63.623047\" xlink:href=\"#DejaVuSans-35\"/><use x=\"127.246094\" xlink:href=\"#DejaVuSans-30\"/></g><g transform=\"translate(17.838 166.59) rotate(-90) scale(.14 -.14)\" fill=\"#343a3f\"><defs><path id=\"DejaVuSans-43\" transform=\"scale(.015625)\" d=\"m4122 4306v-665q-319 297-680 443-361 147-767 147-800 0-1225-489t-425-1414q0-922 425-1411t1225-489q406 0 767 147t680 444v-660q-331-225-702-338-370-112-782-112-1060 0-1670 648-609 649-609 1771 0 1125 609 1773 610 649 1670 649 418 0 788-111 371-111 696-333z\"/><path id=\"DejaVuSans-6f\" transform=\"scale(.015625)\" d=\"m1959 3097q-462 0-731-361t-269-989 267-989q268-361 733-361 460 0 728 362 269 363 269 988 0 622-269 986-268 364-728 364zm0 487q750 0 1178-488 429-487 429-1349 0-859-429-1349-428-489-1178-489-753 0-1180 489-426 490-426 1349 0 862 426 1349 427 488 1180 488z\"/><path id=\"DejaVuSans-75\" transform=\"scale(.015625)\" d=\"m544 1381v2119h575v-2097q0-497 193-746 194-248 582-248 465 0 735 297 271 297 271 810v1984h575v-3500h-575v538q-209-319-486-474-276-155-642-155-603 0-916 375-312 375-312 1097zm1447 2203z\"/><path id=\"DejaVuSans-6e\" transform=\"scale(.015625)\" d=\"m3513 2113v-2113h-575v2094q0 497-194 743-194 247-581 247-466 0-735-297-269-296-269-809v-1978h-578v3500h578v-544q207 316 486 472 280 156 646 156 603 0 912-373 310-373 310-1098z\"/><path id=\"DejaVuSans-74\" transform=\"scale(.015625)\" d=\"m1172 4494v-994h1184v-447h-1184v-1900q0-428 117-550t477-122h590v-481h-590q-666 0-919 248-253 249-253 905v1900h-422v447h422v994h578z\"/></defs><use xlink:href=\"#DejaVuSans-43\"/><use x=\"69.824219\" xlink:href=\"#DejaVuSans-6f\"/><use x=\"131.005859\" xlink:href=\"#DejaVuSans-75\"/><use x=\"194.384766\" xlink:href=\"#DejaVuSans-6e\"/><use x=\"257.763672\" xlink:href=\"#DejaVuSans-74\"/></g><path d=\"m76.226 284.4h118.36v-252h-118.36z\" clip-path=\"url(#pcff1c05937)\" fill=\"#648fff\"/><path d=\"m312.95 284.4h118.36v-223.47h-118.36z\" clip-path=\"url(#pcff1c05937)\" fill=\"#648fff\"/><path d=\"m58.472 284.4v-277.2\" fill=\"none\" stroke=\"#343a3f\" stroke-linecap=\"square\" stroke-width=\".8\"/><path d=\"m58.472 284.4h390.6\" fill=\"none\" stroke=\"#343a3f\" stroke-linecap=\"square\" stroke-width=\".8\"/><g transform=\"translate(125.86 17.72) scale(.1 -.1)\" fill=\"#343a3f\"><use xlink:href=\"#DejaVuSans-35\"/><use x=\"63.623047\" xlink:href=\"#DejaVuSans-33\"/><use x=\"127.246094\" xlink:href=\"#DejaVuSans-30\"/></g><g transform=\"translate(362.59 47.675) scale(.1 -.1)\" fill=\"#343a3f\"><defs><path id=\"DejaVuSans-37\" transform=\"scale(.015625)\" d=\"m525 4666h3e3v-269l-1694-4397h-659l1594 4134h-2241v532z\"/></defs><use xlink:href=\"#DejaVuSans-34\"/><use x=\"63.623047\" xlink:href=\"#DejaVuSans-37\"/><use x=\"127.246094\" xlink:href=\"#DejaVuSans-30\"/></g><defs><clipPath id=\"pcff1c05937\"><rect x=\"58.472\" y=\"7.2\" width=\"390.6\" height=\"277.2\"/></clipPath></defs></svg>"
      ],
      "text/plain": [
       "<Figure size 700x500 with 1 Axes>"
      ]
     },
     "execution_count": 10,
     "metadata": {},
     "output_type": "execute_result"
    }
   ],
   "source": [
    "from qiskit.visualization import plot_histogram\n",
    "\n",
    "statistics = v.sample_counts(1000)\n",
    "display(statistics)\n",
    "plot_histogram(statistics)"
   ]
  },
  {
   "cell_type": "markdown",
   "id": "dccc139c",
   "metadata": {},
   "source": [
    "Running the cell multiple times and trying different numbers of samples in place of $1000$ may be helpful for developing some intuition for how the number of trials influences the estimated probabilities."
   ]
  },
  {
   "cell_type": "markdown",
   "id": "326d298e",
   "metadata": {},
   "source": [
    "#### Performing operations with `Operator` and `Statevector`\n",
    "\n",
    "Unitary operations can be defined and performed on state vectors in Qiskit using the `Operator` class, as in the example that follows."
   ]
  },
  {
   "cell_type": "code",
   "execution_count": 11,
   "id": "4fe2e414",
   "metadata": {},
   "outputs": [
    {
     "data": {
      "text/plain": [
       "[ 0.85355339+0.35355339j,-0.35355339+0.14644661j]"
      ]
     },
     "execution_count": 11,
     "metadata": {},
     "output_type": "execute_result"
    }
   ],
   "source": [
    "from qiskit.quantum_info import Operator\n",
    "\n",
    "X = Operator([[0, 1], [1, 0]])\n",
    "Y = Operator([[0, -1.0j], [1.0j, 0]])\n",
    "Z = Operator([[1, 0], [0, -1]])\n",
    "H = Operator([[1 / sqrt(2), 1 / sqrt(2)], [1 / sqrt(2), -1 / sqrt(2)]])\n",
    "S = Operator([[1, 0], [0, 1.0j]])\n",
    "T = Operator([[1, 0], [0, (1 + 1.0j) / sqrt(2)]])\n",
    "\n",
    "v = Statevector([1, 0])\n",
    "\n",
    "v = v.evolve(H)\n",
    "v = v.evolve(T)\n",
    "v = v.evolve(H)\n",
    "v = v.evolve(T)\n",
    "v = v.evolve(Z)\n",
    "\n",
    "v.draw(\"text\")"
   ]
  },
  {
   "cell_type": "markdown",
   "id": "fafda2cc",
   "metadata": {},
   "source": [
    "#### Looking ahead toward quantum circuits\n",
    "\n",
    "Quantum circuits won't be formally introduced until Lesson 3, but we can nevertheless experiment with composing qubit unitary operations using Qiskit's `QuantumCircuit` class.\n",
    "In particular, we may define a quantum circuit (which in this case will simply be a sequence of unitary operations performed on a single qubit) as follows."
   ]
  },
  {
   "cell_type": "code",
   "execution_count": 12,
   "id": "68490946",
   "metadata": {},
   "outputs": [
    {
     "data": {
      "image/svg+xml": [
       "<?xml version=\"1.0\" encoding=\"UTF-8\"?><!DOCTYPE svg  PUBLIC '-//W3C//DTD SVG 1.1//EN'  'http://www.w3.org/Graphics/SVG/1.1/DTD/svg11.dtd'><svg width=\"302.63pt\" height=\"79.296pt\" version=\"1.1\" viewBox=\"0 0 302.63 79.296\" xmlns=\"http://www.w3.org/2000/svg\" xmlns:xlink=\"http://www.w3.org/1999/xlink\"><defs><style type=\"text/css\">*{stroke-linejoin: round; stroke-linecap: butt}</style></defs><path d=\"m0 79.296h302.63v-79.296h-302.63z\" fill=\"#ffffff\"/><path d=\"m54.39 44.283h236.41\" clip-path=\"url(#pff014a3724)\" fill=\"none\" stroke=\"#000000\" stroke-linecap=\"square\" stroke-width=\"2\"/><path d=\"m64.356 59.348h30.13v-30.13h-30.13z\" clip-path=\"url(#pff014a3724)\" fill=\"#1192e8\" stroke=\"#1192e8\" stroke-width=\"1.5\"/><path d=\"m110.71 59.348h30.13v-30.13h-30.13z\" clip-path=\"url(#pff014a3724)\" fill=\"#6929c4\" stroke=\"#6929c4\" stroke-width=\"1.5\"/><path d=\"m157.06 59.348h30.13v-30.13h-30.13z\" clip-path=\"url(#pff014a3724)\" fill=\"#1192e8\" stroke=\"#1192e8\" stroke-width=\"1.5\"/><path d=\"m203.42 59.348h30.13v-30.13h-30.13z\" clip-path=\"url(#pff014a3724)\" fill=\"#6929c4\" stroke=\"#6929c4\" stroke-width=\"1.5\"/><path d=\"m249.77 59.348h30.13v-30.13h-30.13z\" clip-path=\"url(#pff014a3724)\" fill=\"#005d5d\" stroke=\"#005d5d\" stroke-width=\"1.5\"/><g clip-path=\"url(#pff014a3724)\"><g transform=\"translate(34.719 48.734) scale(.1625 -.1625)\"><defs><path id=\"DejaVuSans-Oblique-71\" transform=\"scale(.015625)\" d=\"m2669 525q-231-303-546-460-314-156-695-156-531 0-833 358-301 358-301 986 0 506 186 978t533 847q225 244 517 375t614 131q387 0 637-153t363-462l100 525h578l-934-4813h-579l360 1844zm-1778 813q0-463 193-705 194-242 560-242 544 0 928 520t384 1264q0 450-199 689-198 239-569 239-272 0-504-127-231-126-403-370-181-256-286-600-104-343-104-668z\"/></defs><use xlink:href=\"#DejaVuSans-Oblique-71\"/></g></g><g clip-path=\"url(#pff014a3724)\"><g transform=\"translate(74.533 47.87) scale(.13 -.13)\" fill=\"#ffffff\"><defs><path id=\"DejaVuSans-48\" transform=\"scale(.015625)\" d=\"m628 4666h631v-1913h2294v1913h631v-4666h-631v2222h-2294v-2222h-631v4666z\"/></defs><use xlink:href=\"#DejaVuSans-48\"/></g></g><g clip-path=\"url(#pff014a3724)\"><g transform=\"translate(121.81 47.87) scale(.13 -.13)\" fill=\"#ffffff\"><defs><path id=\"DejaVuSans-54\" transform=\"scale(.015625)\" d=\"m-19 4666h3947v-532h-1656v-4134h-634v4134h-1657v532z\"/></defs><use xlink:href=\"#DejaVuSans-54\"/></g></g><g clip-path=\"url(#pff014a3724)\"><g transform=\"translate(167.24 47.87) scale(.13 -.13)\" fill=\"#ffffff\"><use xlink:href=\"#DejaVuSans-48\"/></g></g><g clip-path=\"url(#pff014a3724)\"><g transform=\"translate(214.51 47.87) scale(.13 -.13)\" fill=\"#ffffff\"><use xlink:href=\"#DejaVuSans-54\"/></g></g><g clip-path=\"url(#pff014a3724)\"><g transform=\"translate(260.38 47.87) scale(.13 -.13)\" fill=\"#ffffff\"><defs><path id=\"DejaVuSans-5a\" transform=\"scale(.015625)\" d=\"m359 4666h3666v-482l-2950-3653h3022v-531h-3809v481l2950 3653h-2879v532z\"/></defs><use xlink:href=\"#DejaVuSans-5a\"/></g></g><defs><clipPath id=\"pff014a3724\"><rect x=\"7.2\" y=\"7.2\" width=\"288.23\" height=\"64.896\"/></clipPath></defs></svg>"
      ],
      "text/plain": [
       "<Figure size 519.897x117.056 with 1 Axes>"
      ]
     },
     "execution_count": 12,
     "metadata": {},
     "output_type": "execute_result"
    }
   ],
   "source": [
    "from qiskit import QuantumCircuit\n",
    "\n",
    "circuit = QuantumCircuit(1)\n",
    "\n",
    "circuit.h(0)\n",
    "circuit.t(0)\n",
    "circuit.h(0)\n",
    "circuit.t(0)\n",
    "circuit.z(0)\n",
    "\n",
    "circuit.draw()"
   ]
  },
  {
   "cell_type": "markdown",
   "id": "8426be38",
   "metadata": {},
   "source": [
    "The operations are applied sequentially, starting on the left and ending on the right in the figure.\n",
    "Let us first initialize a starting quantum state vector and then evolve that state according to the sequence of operations."
   ]
  },
  {
   "cell_type": "code",
   "execution_count": 13,
   "id": "5a81f9bf",
   "metadata": {},
   "outputs": [
    {
     "data": {
      "text/plain": [
       "[ 0.85355339+0.35355339j,-0.35355339+0.14644661j]"
      ]
     },
     "execution_count": 13,
     "metadata": {},
     "output_type": "execute_result"
    }
   ],
   "source": [
    "ket0 = Statevector([1, 0])\n",
    "v = ket0.evolve(circuit)\n",
    "v.draw(\"text\")"
   ]
  },
  {
   "cell_type": "markdown",
   "id": "fc2b9797",
   "metadata": {},
   "source": [
    "Finally, let's simulate the result of running this experiment (i.e., preparing the state $\\vert 0\\rangle$, applying the sequence of operations represented by the circuit, and measuring) 4000 times."
   ]
  },
  {
   "cell_type": "code",
   "execution_count": 14,
   "id": "26dec838",
   "metadata": {
    "scrolled": false
   },
   "outputs": [
    {
     "data": {
      "image/svg+xml": [
       "<?xml version=\"1.0\" encoding=\"UTF-8\"?><!DOCTYPE svg  PUBLIC '-//W3C//DTD SVG 1.1//EN'  'http://www.w3.org/Graphics/SVG/1.1/DTD/svg11.dtd'><svg width=\"465.18pt\" height=\"311.6pt\" version=\"1.1\" viewBox=\"0 0 465.18 311.6\" xmlns=\"http://www.w3.org/2000/svg\" xmlns:xlink=\"http://www.w3.org/1999/xlink\"><defs><style type=\"text/css\">*{stroke-linejoin: round; stroke-linecap: butt}</style></defs><path d=\"m0 311.6h465.18v-311.6h-465.18z\" fill=\"#ffffff\"/><path d=\"m67.379 284.4h390.6v-277.2h-390.6z\" fill=\"#ffffff\"/><defs><path id=\"m412a61f3fa\" d=\"m0 0v3.5\" stroke=\"#343a3f\" stroke-width=\".8\"/></defs><use x=\"144.315739\" y=\"284.4\" fill=\"#343a3f\" stroke=\"#343a3f\" stroke-width=\".8\" xlink:href=\"#m412a61f3fa\"/><g transform=\"translate(146.42 303.41) rotate(-70) scale(.14 -.14)\" fill=\"#343a3f\"><defs><path id=\"DejaVuSans-30\" transform=\"scale(.015625)\" d=\"m2034 4250q-487 0-733-480-245-479-245-1442 0-959 245-1439 246-480 733-480 491 0 736 480 246 480 246 1439 0 963-246 1442-245 480-736 480zm0 500q785 0 1199-621 414-620 414-1801 0-1178-414-1799-414-620-1199-620-784 0-1198 620-414 621-414 1799 0 1181 414 1801 414 621 1198 621z\"/></defs><use xlink:href=\"#DejaVuSans-30\"/></g><use x=\"381.043011\" y=\"284.4\" fill=\"#343a3f\" stroke=\"#343a3f\" stroke-width=\".8\" xlink:href=\"#m412a61f3fa\"/><g transform=\"translate(383.15 303.41) rotate(-70) scale(.14 -.14)\" fill=\"#343a3f\"><defs><path id=\"DejaVuSans-31\" transform=\"scale(.015625)\" d=\"m794 531h1031v3560l-1122-225v575l1116 225h631v-4135h1031v-531h-2687v531z\"/></defs><use xlink:href=\"#DejaVuSans-31\"/></g><path d=\"m67.379 284.4h390.6\" clip-path=\"url(#pc4c89273d6)\" fill=\"none\" stroke=\"#dde1e6\" stroke-dasharray=\"2.96,1.28\" stroke-width=\".8\"/><defs><path id=\"m522e2616c3\" d=\"m0 0h-3.5\" stroke=\"#343a3f\" stroke-width=\".8\"/></defs><use x=\"67.379375\" y=\"284.4\" fill=\"#343a3f\" stroke=\"#343a3f\" stroke-width=\".8\" xlink:href=\"#m522e2616c3\"/><g transform=\"translate(51.472 289.72) scale(.14 -.14)\" fill=\"#343a3f\"><use xlink:href=\"#DejaVuSans-30\"/></g><path d=\"m67.379 225.37h390.6\" clip-path=\"url(#pc4c89273d6)\" fill=\"none\" stroke=\"#dde1e6\" stroke-dasharray=\"2.96,1.28\" stroke-width=\".8\"/><use x=\"67.379375\" y=\"225.366325\" fill=\"#343a3f\" stroke=\"#343a3f\" stroke-width=\".8\" xlink:href=\"#m522e2616c3\"/><g transform=\"translate(33.657 230.69) scale(.14 -.14)\" fill=\"#343a3f\"><defs><path id=\"DejaVuSans-38\" transform=\"scale(.015625)\" d=\"m2034 2216q-450 0-708-241-257-241-257-662 0-422 257-663 258-241 708-241t709 242q260 243 260 662 0 421-258 662-257 241-711 241zm-631 268q-406 100-633 378-226 279-226 679 0 559 398 884 399 325 1092 325 697 0 1094-325t397-884q0-400-227-679-226-278-629-378 456-106 710-416 255-309 255-755 0-679-414-1042-414-362-1186-362-771 0-1186 362-414 363-414 1042 0 446 256 755 257 310 713 416zm-231 997q0-362 226-565 227-203 636-203 407 0 636 203 230 203 230 565 0 363-230 566-229 203-636 203-409 0-636-203-226-203-226-566z\"/></defs><use xlink:href=\"#DejaVuSans-38\"/><use x=\"63.623047\" xlink:href=\"#DejaVuSans-30\"/><use x=\"127.246094\" xlink:href=\"#DejaVuSans-30\"/></g><path d=\"m67.379 166.33h390.6\" clip-path=\"url(#pc4c89273d6)\" fill=\"none\" stroke=\"#dde1e6\" stroke-dasharray=\"2.96,1.28\" stroke-width=\".8\"/><use x=\"67.379375\" y=\"166.33265\" fill=\"#343a3f\" stroke=\"#343a3f\" stroke-width=\".8\" xlink:href=\"#m522e2616c3\"/><g transform=\"translate(24.749 171.65) scale(.14 -.14)\" fill=\"#343a3f\"><defs><path id=\"DejaVuSans-36\" transform=\"scale(.015625)\" d=\"m2113 2584q-425 0-674-291-248-290-248-796 0-503 248-796 249-292 674-292t673 292q248 293 248 796 0 506-248 796-248 291-673 291zm1253 1979v-575q-238 112-480 171-242 60-480 60-625 0-955-422-329-422-376-1275 184 272 462 417 279 145 613 145 703 0 1111-427 408-426 408-1160 0-719-425-1154-425-434-1131-434-810 0-1238 620-428 621-428 1799 0 1106 525 1764t1409 658q238 0 480-47t505-140z\"/></defs><use xlink:href=\"#DejaVuSans-31\"/><use x=\"63.623047\" xlink:href=\"#DejaVuSans-36\"/><use x=\"127.246094\" xlink:href=\"#DejaVuSans-30\"/><use x=\"190.869141\" xlink:href=\"#DejaVuSans-30\"/></g><path d=\"m67.379 107.3h390.6\" clip-path=\"url(#pc4c89273d6)\" fill=\"none\" stroke=\"#dde1e6\" stroke-dasharray=\"2.96,1.28\" stroke-width=\".8\"/><use x=\"67.379375\" y=\"107.298975\" fill=\"#343a3f\" stroke=\"#343a3f\" stroke-width=\".8\" xlink:href=\"#m522e2616c3\"/><g transform=\"translate(24.749 112.62) scale(.14 -.14)\" fill=\"#343a3f\"><defs><path id=\"DejaVuSans-32\" transform=\"scale(.015625)\" d=\"m1228 531h2203v-531h-2962v531q359 372 979 998 621 627 780 809 303 340 423 576 121 236 121 464 0 372-261 606-261 235-680 235-297 0-627-103-329-103-704-313v638q381 153 712 231 332 78 607 78 725 0 1156-363 431-362 431-968 0-288-108-546-107-257-392-607-78-91-497-524-418-433-1181-1211z\"/><path id=\"DejaVuSans-34\" transform=\"scale(.015625)\" d=\"m2419 4116-1594-2491h1594v2491zm-166 550h794v-3041h666v-525h-666v-1100h-628v1100h-2106v609l1940 2957z\"/></defs><use xlink:href=\"#DejaVuSans-32\"/><use x=\"63.623047\" xlink:href=\"#DejaVuSans-34\"/><use x=\"127.246094\" xlink:href=\"#DejaVuSans-30\"/><use x=\"190.869141\" xlink:href=\"#DejaVuSans-30\"/></g><path d=\"m67.379 48.265h390.6\" clip-path=\"url(#pc4c89273d6)\" fill=\"none\" stroke=\"#dde1e6\" stroke-dasharray=\"2.96,1.28\" stroke-width=\".8\"/><use x=\"67.379375\" y=\"48.2653\" fill=\"#343a3f\" stroke=\"#343a3f\" stroke-width=\".8\" xlink:href=\"#m522e2616c3\"/><g transform=\"translate(24.749 53.584) scale(.14 -.14)\" fill=\"#343a3f\"><defs><path id=\"DejaVuSans-33\" transform=\"scale(.015625)\" d=\"m2597 2516q453-97 707-404 255-306 255-756 0-690-475-1069-475-378-1350-378-293 0-604 58t-642 174v609q262-153 574-231 313-78 654-78 593 0 904 234t311 681q0 413-289 645-289 233-804 233h-544v519h569q465 0 712 186t247 536q0 359-255 551-254 193-729 193-260 0-557-57-297-56-653-174v562q360 100 674 150t592 50q719 0 1137-327 419-326 419-882 0-388-222-655t-631-370z\"/></defs><use xlink:href=\"#DejaVuSans-33\"/><use x=\"63.623047\" xlink:href=\"#DejaVuSans-32\"/><use x=\"127.246094\" xlink:href=\"#DejaVuSans-30\"/><use x=\"190.869141\" xlink:href=\"#DejaVuSans-30\"/></g><g transform=\"translate(17.838 166.59) rotate(-90) scale(.14 -.14)\" fill=\"#343a3f\"><defs><path id=\"DejaVuSans-43\" transform=\"scale(.015625)\" d=\"m4122 4306v-665q-319 297-680 443-361 147-767 147-800 0-1225-489t-425-1414q0-922 425-1411t1225-489q406 0 767 147t680 444v-660q-331-225-702-338-370-112-782-112-1060 0-1670 648-609 649-609 1771 0 1125 609 1773 610 649 1670 649 418 0 788-111 371-111 696-333z\"/><path id=\"DejaVuSans-6f\" transform=\"scale(.015625)\" d=\"m1959 3097q-462 0-731-361t-269-989 267-989q268-361 733-361 460 0 728 362 269 363 269 988 0 622-269 986-268 364-728 364zm0 487q750 0 1178-488 429-487 429-1349 0-859-429-1349-428-489-1178-489-753 0-1180 489-426 490-426 1349 0 862 426 1349 427 488 1180 488z\"/><path id=\"DejaVuSans-75\" transform=\"scale(.015625)\" d=\"m544 1381v2119h575v-2097q0-497 193-746 194-248 582-248 465 0 735 297 271 297 271 810v1984h575v-3500h-575v538q-209-319-486-474-276-155-642-155-603 0-916 375-312 375-312 1097zm1447 2203z\"/><path id=\"DejaVuSans-6e\" transform=\"scale(.015625)\" d=\"m3513 2113v-2113h-575v2094q0 497-194 743-194 247-581 247-466 0-735-297-269-296-269-809v-1978h-578v3500h578v-544q207 316 486 472 280 156 646 156 603 0 912-373 310-373 310-1098z\"/><path id=\"DejaVuSans-74\" transform=\"scale(.015625)\" d=\"m1172 4494v-994h1184v-447h-1184v-1900q0-428 117-550t477-122h590v-481h-590q-666 0-919 248-253 249-253 905v1900h-422v447h422v994h578z\"/></defs><use xlink:href=\"#DejaVuSans-43\"/><use x=\"69.824219\" xlink:href=\"#DejaVuSans-6f\"/><use x=\"131.005859\" xlink:href=\"#DejaVuSans-75\"/><use x=\"194.384766\" xlink:href=\"#DejaVuSans-6e\"/><use x=\"257.763672\" xlink:href=\"#DejaVuSans-74\"/></g><path d=\"m85.134 284.4h118.36v-252h-118.36z\" clip-path=\"url(#pc4c89273d6)\" fill=\"#648fff\"/><path d=\"m321.86 284.4h118.36v-43.168h-118.36z\" clip-path=\"url(#pc4c89273d6)\" fill=\"#648fff\"/><path d=\"m67.379 284.4v-277.2\" fill=\"none\" stroke=\"#343a3f\" stroke-linecap=\"square\" stroke-width=\".8\"/><path d=\"m67.379 284.4h390.6\" fill=\"none\" stroke=\"#343a3f\" stroke-linecap=\"square\" stroke-width=\".8\"/><g transform=\"translate(131.59 17.72) scale(.1 -.1)\" fill=\"#343a3f\"><defs><path id=\"DejaVuSans-35\" transform=\"scale(.015625)\" d=\"m691 4666h2478v-532h-1900v-1143q137 47 274 70 138 23 276 23 781 0 1237-428 457-428 457-1159 0-753-469-1171-469-417-1322-417-294 0-599 50-304 50-629 150v635q281-153 581-228t634-75q541 0 856 284 316 284 316 772 0 487-316 771-315 285-856 285-253 0-505-56-251-56-513-175v2344z\"/></defs><use xlink:href=\"#DejaVuSans-33\"/><use x=\"63.623047\" xlink:href=\"#DejaVuSans-34\"/><use x=\"127.246094\" xlink:href=\"#DejaVuSans-31\"/><use x=\"190.869141\" xlink:href=\"#DejaVuSans-35\"/></g><g transform=\"translate(371.5 236.99) scale(.1 -.1)\" fill=\"#343a3f\"><use xlink:href=\"#DejaVuSans-35\"/><use x=\"63.623047\" xlink:href=\"#DejaVuSans-38\"/><use x=\"127.246094\" xlink:href=\"#DejaVuSans-35\"/></g><defs><clipPath id=\"pc4c89273d6\"><rect x=\"67.379\" y=\"7.2\" width=\"390.6\" height=\"277.2\"/></clipPath></defs></svg>"
      ],
      "text/plain": [
       "<Figure size 700x500 with 1 Axes>"
      ]
     },
     "execution_count": 14,
     "metadata": {},
     "output_type": "execute_result"
    }
   ],
   "source": [
    "statistics = v.sample_counts(4000)\n",
    "plot_histogram(statistics)"
   ]
  }
 ],
 "metadata": {
  "kernelspec": {
   "display_name": "Python 3",
   "language": "python",
   "name": "python3"
  },
  "language_info": {
   "codemirror_mode": {
    "name": "ipython",
    "version": 3
   },
   "file_extension": ".py",
   "mimetype": "text/x-python",
   "name": "python",
   "nbconvert_exporter": "python",
   "pygments_lexer": "ipython3",
   "version": "3.9"
  }
 },
 "nbformat": 4,
 "nbformat_minor": 5
}
