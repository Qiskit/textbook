{
 "cells": [
  {
   "attachments": {},
   "cell_type": "markdown",
   "metadata": {},
   "source": [
    "# Entangled resource states: Graph states and Cluster states"
   ]
  },
  {
   "attachments": {},
   "cell_type": "markdown",
   "metadata": {},
   "source": [
    "There are 3 common names we hear for patterns to build the resource state:\n",
    "- Cluster state\n",
    "- Brickwork state\n",
    "- (Generic) Graph state.\n",
    "\n",
    "\n",
    "\n",
    "A graph state is generally a graph that does not have to follow a particular structure, but the particular case where a graph with N layers (columns) and M rows has all nodes connected is known as a cluster state.\n",
    "\n",
    "\n",
    "![Example of 2x2 cluster state](images/cluster+circ.png)\n",
    "\n",
    "The nodes represent a $|+\\rangle$ state and the edges between them represent a CZ gate\n",
    "\n",
    "Cluster states can also have 1 single row, we refer to them as (1D) linear clusters\n",
    "\n",
    "![Example of a line cluster state](images/liner-cluster3x1.png)\n",
    "\n",
    "\n",
    "A brickwork state is built like a cluster but reduces the number of CZ gates. This reduction does not impact the universality, anything that can be done on a cluster can be done on a brickwork state.\n",
    "\n",
    "![A brickwork state](images/brickwork.png)\n",
    "\n",
    "Notice how not all nodes are connected vertically\n",
    "\n",
    "While the previous two are graph states, the term is generally used to refer to graph states without a particularly identifiable form. A more general definition is given in  [GraphState API documentation](https://Qiskit.org/documentation/stubs/Qiskit.circuit.library.GraphState.html).\n",
    "An example of a graph state that is neither cluster nor brickwork:\n",
    "\n",
    "![A graph state](images/graph-state.png)\n",
    "\n",
    "For the remainder of this chapter, we will focus a bit more on teleportation via a linear cluster since it is the simplest example.\n"
   ]
  },
  {
   "attachments": {},
   "cell_type": "markdown",
   "metadata": {},
   "source": [
    "# Implementing a graph state in Qiskit\n",
    "\n",
    "Let us implement the linear cluster we saw above with 3 nodes. This cluster performs the identity. This means if the very first qubit started with 0 before the cluster preparation, then the last qubit after measurement and correction should give us a 0.\n",
    "\n",
    "First of all, we prepare the qubit in the X basis ($ \\{ |+\\rangle, |-\\rangle \\}$), which is done using the Hadamard gate"
   ]
  },
  {
   "cell_type": "code",
   "execution_count": 5,
   "metadata": {},
   "outputs": [
    {
     "data": {
      "image/png": "[encoded data removed]",
      "text/plain": [
       "<Figure size 389.338x367.889 with 1 Axes>"
      ]
     },
     "execution_count": 5,
     "metadata": {},
     "output_type": "execute_result"
    }
   ],
   "source": [
    "from Qiskit import *\n",
    "\n",
    "nb_reg=3\n",
    "q = QuantumRegister(nb_reg)\n",
    "c = ClassicalRegister(nb_reg) # Changed from 9 to 1\n",
    "qc = QuantumCircuit(q, c)\n",
    "\n",
    "# apply H on all gates\n",
    "for q in range(nb_reg):\n",
    "    qc.h(q)\n",
    "# Apply CZ to entangle the state\n",
    "for q in range(nb_reg-1):\n",
    "    qc.cz(q,q+1)\n",
    "\n",
    "qc.draw(output=\"mpl\")\n"
   ]
  },
  {
   "attachments": {},
   "cell_type": "markdown",
   "metadata": {},
   "source": [
    "Qiskit is also equipped with a primitive to prepare graph states based on an adjacency matrix.\n",
    "In the above, we noticed :\n",
    "- qubit 0 is connected to qubit 1 so the first row representing the neighbors of qubit 0 will have 0 for 0th place (it is not neighbor to itself) 1 for 1st place, 0 for 2nd place\n",
    "so [0,1,0]\n",
    "- qubit 1 is connected to qubit 0 and to qubit 2 so [1,0,1]\n",
    "- qubit 2 is connected to qubit 1 so [0,1,0]\n",
    "\n",
    "So an adjacency matrix for this graph is:\n",
    "\n",
    "$$\n",
    "\\begin{equation}\n",
    "\\text{Adjacency matrix for linear cluster 3$\\times$1} = \\left[ \\begin{array}{rrr} \n",
    "0 & 1 & 0 \\\\ \n",
    "1 & 0 & 1 \\\\\n",
    "0 & 1 & 0 \\\\ \n",
    "\\end{array}\\right] \\hspace{1cm}\n",
    "\\end{equation}\n",
    "$$"
   ]
  },
  {
   "cell_type": "code",
   "execution_count": 4,
   "metadata": {},
   "outputs": [
    {
     "data": {
      "image/png": "[encoded data removed]",
      "text/plain": [
       "<Figure size 621.941x535.111 with 1 Axes>"
      ]
     },
     "execution_count": 4,
     "metadata": {},
     "output_type": "execute_result"
    }
   ],
   "source": [
    "# Alternative way to build a graph/cluster state in Qiskit\n",
    "import Qiskit as qs\n",
    "mat=[[0,1,0],[1,0,1],[0,1,0]]\n",
    "circ=qs.circuit.library.GraphState(mat)\n",
    "cbits=ClassicalRegister(3)\n",
    "circ.add_bits(cbits)\n",
    "circ.draw(output=\"mpl\")"
   ]
  },
  {
   "attachments": {},
   "cell_type": "markdown",
   "metadata": {},
   "source": [
    "This concludes the preparation phase, now it is time to perform the measurement."
   ]
  }
 ],
 "metadata": {
  "kernelspec": {
   "display_name": "base",
   "language": "python",
   "name": "python3"
  },
  "language_info": {
   "codemirror_mode": {
    "name": "ipython",
    "version": 3
   },
   "file_extension": ".py",
   "mimetype": "text/x-python",
   "name": "python",
   "nbconvert_exporter": "python",
   "pygments_lexer": "ipython3",
   "version": "3.9.13"
  },
  "orig_nbformat": 4
 },
 "nbformat": 4,
 "nbformat_minor": 2
}
