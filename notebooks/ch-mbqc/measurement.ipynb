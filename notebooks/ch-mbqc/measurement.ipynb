{
 "cells": [
  {
   "attachments": {},
   "cell_type": "markdown",
   "metadata": {},
   "source": [
    "## Measurement and performing the computation"
   ]
  },
  {
   "attachments": {},
   "cell_type": "markdown",
   "metadata": {},
   "source": [
    "Now that we have seen the preparation of the resource state, we are ready to perform the actual computation we want.\n",
    "This is done by applying rotations and measuring in the X/Y basis. \n",
    "\n",
    "So in general for each qubit, we apply:\n",
    "- A phase shift (i.e a P gate)\n",
    "- Followed by a Hadamard\n",
    "- Then a measurement in the 0/1 basis.\n",
    "\n",
    "For the sake of simplicity let's assume, the computation we want is the identity, so no rotations are needed and we will only measure our qubits.\n",
    "\n",
    "\n",
    "Now the question is, in which order do we measure our qubits? "
   ]
  },
  {
   "attachments": {},
   "cell_type": "markdown",
   "metadata": {},
   "source": [
    "# Graph flow\n",
    "In a graph of N columns, each column is considered a (computation) layer, the information flows from left to right. The first layer is considered to be the input layer and the last layer is the output layer.\n",
    "\n",
    "For cluster states, we perform the measurement layer-by-layer and in each layer, we perform the measurement row-by-row from top to bottom.\n",
    "Information and some other side effects of the projective measurement propagate to the neighboring qubits, this mechanism is known as feed-forward.\n",
    "\n",
    "![Cluster feed-forward illustration](images/feed-forward.png)\n",
    "\n",
    "(from [Cluster State Quantum Computing](https://www.cs.umd.edu/class/spring2018/cmsc457/report/Cluster_State_Quantum_Computing.pdf))\n",
    "\n",
    "\n",
    "The idea here is to teleport information across the cluster. If you recall the teleportation chapter from the Qiskit textbook, you will notice that at the end of the protocol, we corrected the teleportation by applying X and Z gates selectively depending on previous measurement outcomes. MBQC also works by relying on the same teleportation concept. It is strongly suggested to check out the teleportation tutorial if you haven't yet!\n",
    "\n",
    "In our case, we also need to apply the same correction concept which is based on what is known as Pauli stabilizers.\n",
    "Simply put, Pauli stabilizers are a set of operators, each associated to one vertex of the graph, the idea is that a stabilizer $K$ should not change the graph $|G\\rangle$ so\n",
    "$$ K_i := X_i \\otimes_ {j\\in N(i)} Z_j $$\n",
    "$$ K_i |G\\rangle = |G\\rangle $$\n",
    "\n",
    "\n",
    "The Flow tells us how to apply the stabilizers to correct the side effects of projective measurements. \n",
    "\n",
    "Measuring in the Z-basis (computational basis) is equivalent to cutting the node from the graph and if the measurement outcome is 1, then a Z gate gets applied to all of its neighbors (nodes it had a cz gate with) in the remaining unmeasured part of the cluster state. \n",
    "\n",
    "Measuring in the X-basis (i.e applying a Hadamard gate before measuring in the computational basis) gives an interesting effect that can be illustrated as follows:\n",
    "\n",
    "When measuring a node $n_i$, if measurement outcome of $n_i =1$:\n",
    "- Apply X correction to the successor (according to flow, usually the node in the next layer on the same row)\n",
    "- Apply Z correction to all neighbors of the successor (excluding $n_i$)\n",
    "\n",
    "if measurement outcome of $n_i = 0$ we do nothing.\n",
    "\n",
    "Another way of saying this is: In MBQC (initialized with $|+\\rangle$ state) we always want to obtain a 0, if we do not get a zero, it means an error occurred and a correction needs to follow.\n",
    "\n",
    "An illustration of this on a 2D cluster, when we measure qubit 1 and get 1:\n",
    "\n",
    "![Byproduct correction illustration for 1st qubit](images/measure-1.png)\n",
    "\n",
    "Then we measure qubit 2 and get 1:\n",
    "\n",
    "![Byproduct correction illustration for 2nd qubit](images/measure-2.png)\n",
    "\n",
    "This simple flow we used here works fine for brickwork and cluster states, for other irregular graph shapes, if a flow exists, there are ways to find it and find the order of measurements and corrections, but it is beyond the scope of this guide.\n",
    "\n",
    "For the linear cluster example, we are trying to implement:\n",
    "\n",
    "![Byproduct correction illustration for linear cluster](images/linear-correction.png)\n",
    "\n"
   ]
  },
  {
   "attachments": {},
   "cell_type": "markdown",
   "metadata": {},
   "source": [
    "## Implementation of measurement\n",
    "\n",
    "First of all, we are going to define a function for X measurement, also instead of using the usual Qiskit notation with MSB first, we are going to use LSB first for the sake of easier readability and comparison with the visual cluster"
   ]
  },
  {
   "cell_type": "code",
   "execution_count": 1,
   "metadata": {},
   "outputs": [],
   "source": [
    "# Linear cluster State preparation from the previous step\n",
    "def x_measurement(qbit:int):\n",
    "    # The function measures the LSB as the bit on the left (for consistency with the literature, as opposed to the usual order in Qiskit)\n",
    "    # Measurement is done in the X basis, i.e Hadamard before measurement\n",
    "    qc.h(qbit)\n",
    "    qc.measure(q[qbit],c[nb_reg-1-qbit])"
   ]
  },
  {
   "attachments": {},
   "cell_type": "markdown",
   "metadata": {},
   "source": [
    "And here is what it looks like if we perform the measurement WITHOUT the byproduct correction"
   ]
  },
  {
   "cell_type": "code",
   "execution_count": null,
   "metadata": {},
   "outputs": [],
   "source": [
    "x_measurement(0)\n",
    "x_measurement(1)\n",
    "x_measurement(2)\n",
    "# then run it on a backend of choice."
   ]
  },
  {
   "attachments": {},
   "cell_type": "markdown",
   "metadata": {},
   "source": [
    "If we run the above code we will get one of the following values:\n",
    "\n",
    "- 11**1**\n",
    "- 010\n",
    "- 10**1**\n",
    "- 000\n",
    "\n",
    "But, we started our input qubit (the first qubit) in $|+\\rangle$ that is $H|0\\rangle$, so we expect to always find 0 for the last qubit (output qubit), but 2 of the possible outcomes are wrong, they are not performing the teleportation properly, we expect to always find 0 in the end, not 1. Which is why the byproduct correction conditioned by values of previous measurement outcome is important. So the final code after adding the correction becomes"
   ]
  },
  {
   "cell_type": "code",
   "execution_count": 3,
   "metadata": {},
   "outputs": [
    {
     "name": "stdout",
     "output_type": "stream",
     "text": [
      "       ┌───┐   ┌───┐┌─┐                                               \n",
      "q21_0: ┤ H ├─■─┤ H ├┤M├───────────────────────────────────────────────\n",
      "       ├───┤ │ └───┘└╥┘┌──────────┐   ┌───┐    ┌─┐                    \n",
      "q21_1: ┤ H ├─■───■───╫─┤0         ├───┤ H ├────┤M├────────────────────\n",
      "       ├───┤     │   ║ │          │┌──┴───┴───┐└╥┘┌──────────┐┌───┐┌─┐\n",
      "q21_2: ┤ H ├─────■───╫─┤          ├┤0         ├─╫─┤0         ├┤ H ├┤M├\n",
      "       └───┘         ║ │          ││  If_else │ ║ │          │└───┘└╥┘\n",
      " c1_0: ══════════════╬═╡  If_else ╞╡          ╞═╬═╡          ╞══════╩═\n",
      "                     ║ │          ││          │ ║ │          │        \n",
      " c1_1: ══════════════╬═╡          ╞╡          ╞═╩═╡0         ╞════════\n",
      "                     ║ │          ││          │   └──────────┘        \n",
      " c1_2: ══════════════╩═╡0         ╞╡0         ╞═══════════════════════\n",
      "                       └──────────┘└──────────┘                       \n",
      "{'100': 2537, '000': 2494, '110': 2562, '010': 2407}\n"
     ]
    }
   ],
   "source": [
    "from Qiskit import *\n",
    "\n",
    "nb_reg=3\n",
    "q = QuantumRegister(nb_reg)\n",
    "c = ClassicalRegister(nb_reg) # Changed from 9 to 1\n",
    "qc = QuantumCircuit(q, c)\n",
    "# prepare |+++> state\n",
    "for i in range(nb_reg):\n",
    "    qc.h(i)\n",
    "# prepare CZ(1,2)CZ(2,3)|+++> state\n",
    "for i in range(nb_reg-1):\n",
    "    qc.cz(i,i+1)\n",
    "\n",
    "##########Measurement\n",
    "def x_measurement(qbit:int):\n",
    "    # The function measures the LSB as the bit on the left (for consistency with the literature, as opposed to the usual order in Qiskit)\n",
    "    # Measurement is done in the X basis, i.e Hadamard before measurement\n",
    "    qc.h(qbit)\n",
    "    qc.measure(q[qbit],c[nb_reg-1-qbit])\n",
    "    \n",
    "x_measurement(0)\n",
    "\n",
    "#qubit 0 will give X correction if =1 to qubit 1\n",
    "with qc.if_test((c[nb_reg-1-(0)], 1)):\n",
    "    qc.x(1)        \n",
    "x_measurement(1)\n",
    "\n",
    "\n",
    "#qubit 0 will give Z correction if =1 to qubit 2\n",
    "with qc.if_test((c[nb_reg-1-(0)], 1)):\n",
    "    qc.z(2)        \n",
    "#qubit 1 will give X correction if =1 to qubit 2\n",
    "with qc.if_test((c[nb_reg-1-(1)], 1)):\n",
    "    qc.x(2)        \n",
    "x_measurement(2)\n",
    "\n",
    "print(qc.draw())\n",
    "\n",
    "### Running the simulator to obtain measurement outcome\n",
    "simulator = Aer.get_backend('aer_simulator_statevector') #qasm simulator\n",
    "transpiled_circuit = transpile(qc, simulator)\n",
    "job = execute(qc,simulator,shots = 10000)\n",
    "result = job.result()\n",
    "counts = result.get_counts(qc)\n",
    "print(counts)\n"
   ]
  },
  {
   "attachments": {},
   "cell_type": "markdown",
   "metadata": {},
   "source": [
    "And here we can see that the last qubit is always = 0.\n",
    "\n",
    "If we start in $|1\\rangle$ instead of 0 before preparing the cluster, we should expect to get one in the last qubit.\n",
    "The way to achieve this, is by simply applying an X gate in the code above before the preparation of the $|+++\\rangle$ state so it becomes $|-++\\rangle$.\n"
   ]
  },
  {
   "cell_type": "code",
   "execution_count": 4,
   "metadata": {},
   "outputs": [
    {
     "name": "stdout",
     "output_type": "stream",
     "text": [
      "       ┌───┐┌───┐   ┌───┐┌─┐                                               \n",
      "q42_0: ┤ X ├┤ H ├─■─┤ H ├┤M├───────────────────────────────────────────────\n",
      "       ├───┤└───┘ │ └───┘└╥┘┌──────────┐   ┌───┐    ┌─┐                    \n",
      "q42_1: ┤ H ├──────■───■───╫─┤0         ├───┤ H ├────┤M├────────────────────\n",
      "       ├───┤          │   ║ │          │┌──┴───┴───┐└╥┘┌──────────┐┌───┐┌─┐\n",
      "q42_2: ┤ H ├──────────■───╫─┤          ├┤0         ├─╫─┤0         ├┤ H ├┤M├\n",
      "       └───┘              ║ │          ││  If_else │ ║ │          │└───┘└╥┘\n",
      " c2_0: ═══════════════════╬═╡  If_else ╞╡          ╞═╬═╡          ╞══════╩═\n",
      "                          ║ │          ││          │ ║ │          │        \n",
      " c2_1: ═══════════════════╬═╡          ╞╡          ╞═╩═╡0         ╞════════\n",
      "                          ║ │          ││          │   └──────────┘        \n",
      " c2_2: ═══════════════════╩═╡0         ╞╡0         ╞═══════════════════════\n",
      "                            └──────────┘└──────────┘                       \n",
      "{'001': 2524, '011': 2430, '101': 2524, '111': 2522}\n"
     ]
    }
   ],
   "source": [
    "from Qiskit import *\n",
    "\n",
    "nb_reg=3\n",
    "q = QuantumRegister(nb_reg)\n",
    "c = ClassicalRegister(nb_reg) # Changed from 9 to 1\n",
    "qc = QuantumCircuit(q, c)\n",
    "#APPLY X GATE on first qubit\n",
    "qc.x(0)\n",
    "\n",
    "# prepare |-++> state\n",
    "for i in range(nb_reg):\n",
    "    qc.h(i)\n",
    "# prepare CZ(1,2)CZ(2,3)|-++> state\n",
    "for i in range(nb_reg-1):\n",
    "    qc.cz(i,i+1)\n",
    "\n",
    "##########Measurement\n",
    "def x_measurement(qbit:int):\n",
    "    # the function measures the MSB as the bit on the left (for consistency with the literature, as opposed to the usual order in Qiskit)\n",
    "    # Measurement is done in the X basis, i.e Hadamard before measurement\n",
    "    qc.h(qbit)\n",
    "    qc.measure(q[qbit],c[nb_reg-1-qbit])\n",
    "    \n",
    "x_measurement(0)\n",
    "\n",
    "#qubit 0 will give X correction if =1 to qubit 1\n",
    "with qc.if_test((c[nb_reg-1-(0)], 1)):\n",
    "    qc.x(1)        \n",
    "x_measurement(1)\n",
    "\n",
    "\n",
    "#qubit 0 will give Z correction if =1 to qubit 2\n",
    "with qc.if_test((c[nb_reg-1-(0)], 1)):\n",
    "    qc.z(2)        \n",
    "#qubit 1 will give X correction if =1 to qubit 2\n",
    "with qc.if_test((c[nb_reg-1-(1)], 1)):\n",
    "    qc.x(2)        \n",
    "x_measurement(2)\n",
    "\n",
    "print(qc.draw())\n",
    "\n",
    "### Running the simulator to obtain measurement outcome\n",
    "simulator = Aer.get_backend('aer_simulator_statevector') #qasm simulator\n",
    "transpiled_circuit = transpile(qc, simulator)\n",
    "job = execute(qc,simulator,shots = 10000)\n",
    "result = job.result()\n",
    "counts = result.get_counts(qc)\n",
    "print(counts)\n"
   ]
  },
  {
   "attachments": {},
   "cell_type": "markdown",
   "metadata": {},
   "source": [
    "And now if we look, we will notice that we always get 1 in the final layer (the value of the last qubit), which means we teleported the 1 from the input layer successfully!\n",
    "\n",
    "\n",
    "Two last remarks:\n",
    "- The X correction in this particular example has no effect at all because we apply no phase shifts before measurements, therefore the state won't be affected since $X|+\\rangle = |+\\rangle$ so we may omit it\n",
    "- Of course, If you wish to implement this with the Graphstate primitive provided by Qiskit that we quickly explored in the first section, you just need to replace `qc` by your graphstate (which we called `circ` in the last section), so the code (after removing the unnecessary x corrections) is:"
   ]
  },
  {
   "cell_type": "code",
   "execution_count": 5,
   "metadata": {},
   "outputs": [
    {
     "name": "stdout",
     "output_type": "stream",
     "text": [
      "{'010': 25, '000': 29, '110': 24, '100': 22}\n"
     ]
    }
   ],
   "source": [
    "import Qiskit as qs\n",
    "mat=[[0,1,0],[1,0,1],[0,1,0]]\n",
    "nb_reg=3\n",
    "#this will prepare CZ(1,2) CZ(2,3) |+++> directly\n",
    "circ=qs.circuit.library.GraphState(mat) \n",
    "cbits=ClassicalRegister(nb_reg)\n",
    "circ.add_bits(cbits)\n",
    "\n",
    "\n",
    "def x_measurement_g(qbit:int):\n",
    "    # this function has been adapted  it is not exactly like the previous one\n",
    "    # the function measures the MSB as the bit on the left (for consistency with the literature, as opposed to the usual order in Qiskit)\n",
    "    # Measurement is done in the X basis, i.e Hadamard before measurement\n",
    "    circ.h(qbit)\n",
    "    circ.measure(qbit,(nb_reg-1-qbit))\n",
    "\n",
    "\n",
    "x_measurement_g(0)\n",
    "x_measurement_g(1)\n",
    "\n",
    "with circ.if_test((cbits[2], 1)):\n",
    "    circ.z(2)\n",
    "\n",
    "x_measurement_g(2)\n",
    "\n",
    "simulator = Aer.get_backend('aer_simulator_statevector') #qasm simulator\n",
    "transpiled_circuit = transpile(circ, simulator)\n",
    "job = execute(circ,simulator,shots = 100)\n",
    "result = job.result()\n",
    "counts = result.get_counts(circ)\n",
    "print(counts)\n"
   ]
  },
  {
   "attachments": {},
   "cell_type": "markdown",
   "metadata": {},
   "source": [
    "Now before we conclude this chapter, let's have a quick look at more elaborate examples of computations in MBQC from [2]:\n",
    "\n",
    "\n",
    "![Few examples of circuit equivalences in MBQC](images/mbqc-equiv.png)\n",
    "\n",
    "Among these, we will focus on the Hadamard example. It can be also implemented as a linear cluster of 5 layers $\\times$ 1 row only, we will ignore the second row of their brickwork state for simplicity, just like we implemented the identity on a liner cluster. The angles inside the circles mean that we apply a phase shift of the amount indicated inside the circle before the X measurement.\n",
    "\n",
    "\n",
    "So the code for a Hadamard operation in MBQC inspired from the above is:"
   ]
  },
  {
   "cell_type": "code",
   "execution_count": 58,
   "metadata": {},
   "outputs": [
    {
     "name": "stdout",
     "output_type": "stream",
     "text": [
      "{'0': 5691, '1': 4309}\n"
     ]
    }
   ],
   "source": [
    "import Qiskit as qs\n",
    "import numpy as np\n",
    "mat=[[0,1,0,0,0],[1,0,1,0,0],[0,1,0,1,0],[0,0,1,0,1],[0,0,0,1,0]]\n",
    "nb_reg=5\n",
    "#this will prepare CZ(1,2) CZ(2,3)CZ(3,4),CZ(4,5) |+++++> directly\n",
    "circ=qs.circuit.library.GraphState(mat) \n",
    "cbits=ClassicalRegister(nb_reg)\n",
    "circ.add_bits(cbits)\n",
    "angles=[np.pi/4,np.pi/4,np.pi/4,0,0]\n",
    "\n",
    "def x_measurement_g(qbit:int):\n",
    "    # This function has been adapted  it is not exactly like the previous one\n",
    "    # The function measures the MSB as the bit on the left (for consistency with the literature, as opposed to the usual order in Qiskit)\n",
    "    # Measurement is done in the X basis, i.e Hadamard before measurement\n",
    "    # but before measurement we apply the phase shift\n",
    "    circ.p(angles[qbit], qbit)\n",
    "    circ.h(qbit)\n",
    "    circ.measure(qbit,(nb_reg-1-qbit))\n",
    "\n",
    "# This can be replaced by a more elegant loop, left as an exercise\n",
    "x_measurement_g(0)\n",
    "with circ.if_test((cbits[4-0], 1)):\n",
    "    circ.x(1) # x on successor\n",
    "    circ.z(2) # Z on neighbors of successor\n",
    "\n",
    "x_measurement_g(1)\n",
    "with circ.if_test((cbits[4-1], 1)):\n",
    "    circ.x(2)\n",
    "    circ.z(3)\n",
    "\n",
    "\n",
    "x_measurement_g(2)\n",
    "with circ.if_test((cbits[4-2], 1)):\n",
    "    circ.x(3)\n",
    "    circ.z(4)\n",
    "\n",
    "x_measurement_g(3)\n",
    "with circ.if_test((cbits[4-3], 1)):\n",
    "    circ.x(4)\n",
    "\n",
    "x_measurement_g(4)\n",
    "\n",
    "circ.draw(output=\"mpl\")\n",
    "simulator = Aer.get_backend('aer_simulator_statevector') #qasm simulator\n",
    "transpiled_circuit = transpile(circ, simulator)\n",
    "job = execute(circ,simulator,shots = 10000)\n",
    "result = job.result()\n",
    "counts = result.get_counts(circ)\n",
    "## we only care about the last layer/the last qubit, so we will filter the shots to get last value\n",
    "output=dict()\n",
    "output[\"0\"]=0\n",
    "output[\"1\"]=0\n",
    "for c,v in counts.items():\n",
    "    output[c[-1]]+=v #get last bit from the bitstring\n",
    "print(output)"
   ]
  },
  {
   "attachments": {},
   "cell_type": "markdown",
   "metadata": {},
   "source": [
    "As we can see we get almost a 50/50 chance of getting 0 or 1, which means it is an equal superposition of both, a Hadamard gate!"
   ]
  },
  {
   "attachments": {},
   "cell_type": "markdown",
   "metadata": {},
   "source": [
    "## references \n",
    "\n",
    "[1] A One-Way Quantum Computer, Robert Raussendorf and Hans J. Briegel, Phys. Rev. Lett. 86, 5188–5191 (2001)\n",
    "\n",
    "[2] Garbled Quantum Computation, Elham Kashefi, and Petros Wallden, arXiv:1606.06931 (2016)\n",
    "\n",
    "[3] Generalized Flow and Determinism in Measurement-based Quantum Computation, Browne, D. E., Kashefi, E., Mhalla, M., & Perdrix, S., New Journal of Physics 9, 250 (2007)\n",
    "\n",
    "[4] Universality of quantum computation with cluster states and (X,Y)-plane measurements, A. Mantri, T. F. Demarie, J. F. Fitzsimons, arXiv:1607.00758\n",
    "\n"
   ]
  }
 ],
 "metadata": {
  "kernelspec": {
   "display_name": "base",
   "language": "python",
   "name": "python3"
  },
  "language_info": {
   "codemirror_mode": {
    "name": "ipython",
    "version": 3
   },
   "file_extension": ".py",
   "mimetype": "text/x-python",
   "name": "python",
   "nbconvert_exporter": "python",
   "pygments_lexer": "ipython3",
   "version": "3.9.13"
  },
  "orig_nbformat": 4
 },
 "nbformat": 4,
 "nbformat_minor": 2
}
