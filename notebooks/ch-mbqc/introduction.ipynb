{
 "cells": [
  {
   "attachments": {},
   "cell_type": "markdown",
   "metadata": {},
   "source": [
    "# Introduction\n",
    "\n",
    "Most other chapters focus on a computation model where we describe our quantum algorithms and protocols as an array of gates, that is, a quantum circuit. However, there exists another representation for quantum operations in terms of an entangled resource state. The resource state is usually prepared in a particular way that makes it look like a cluster (2D fully connected lattice). The measurement is performed sequentially on each qubit, one after another. Since the state is entangled, measuring one qubit will affect the remaining unmeasured qubits. They will undergo a side-effect of measuring the previous qubit depending on the previous outcome. Additionally, after measuring a qubit, a few operations might be applied on the next qubits before measuring them (byproduct correction). \n",
    "\n",
    "Therefore, this paradigm is known as \"One-way quantum computing\", since we keep advancing sequentially and can't go back. A common analogy in the literature is to say we burn the entanglement links in the cluster (source: R. Raussendorf), or that we eat the cluster like a pac-man.\n",
    "\n",
    "![Burning the cluster](images/burning-qubits.png)\n",
    "\n",
    "\n",
    "The MBQC paradigm is found frequently in protocols related to quantum communication. It allows for a simpler description in a few applications such as cryptographic protocols and Fault-tolerant quantum computing.\n",
    "\n",
    "\n",
    "MBQC is universal, which means anything that can be described in the circuit model, can be achieved in the MBQC paradigm (as long as we respect certain criteria on the resource state and the measurement basis, see [4]).\n",
    "\n",
    "Computations in MBQC follow the following general procedure:\n",
    "\n",
    "1. Preparation of the resource state\n",
    "    - Preparing the qubits in the $|+\\rangle$ state (using Hadamard gate)\n",
    "    - Building the graph state using a controlled-phase entangling gate (CZ gate) according to the graph desired\n",
    "2. Computation (by single qubit measurement)\n",
    "    - Applying rotations to perform the desired computation\n",
    "    - Performing measurements sequentially in a basis of choice (usually (X,Y)-plane)\n",
    "3. Byproduct correction\n",
    "    - Applying Pauli stabilizers (X and Z operators) to perform corrections on some qubits.\n",
    "\n",
    "We will discover each step and dive more into its details in the next sections.\n"
   ]
  }
 ],
 "metadata": {
  "language_info": {
   "name": "python"
  },
  "orig_nbformat": 4
 },
 "nbformat": 4,
 "nbformat_minor": 2
}
