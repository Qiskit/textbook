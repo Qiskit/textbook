{
 "cells": [
  {
   "cell_type": "markdown",
   "metadata": {
    "tags": [
     "remove_cell"
    ]
   },
   "source": [
    "# The Case for Quantum Computers"
   ]
  },
  {
   "cell_type": "markdown",
   "metadata": {},
   "source": [
    "## 1. The Complexity of Adding <a id=\"adding\"></a>\n",
    "\n",
    "The case for quantum computers, simply put, is that they can solve certain problems that no classical computer ever could. To understand why this is, we first need to consider how much computational effort is required to solve certain problems.\n",
    "\n",
    "To begin, we can revisit the algorithm considered in the first section: adding two numbers.\n",
    "\n",
    "```code\n",
    "   9213\n",
    "+  1854\n",
    "=  ????\n",
    "```\n",
    "\n",
    "Adding two $n$-digit numbers can be done with a set of simple operations, each of which consists of just adding two single-digit numbers. To analyze the complexity of the procedure, we can think about how many of these basic additions are required and how this number depends on $n$. We'll refer to this number as $c(n)$.\n",
    "\n",
    "In the easiest case, where we don't need to carry a 1 at any point, only $n$ basic additions are required. In the worst case, we will need to perform $n$ carry operations, each of which will require an extra basic addition. From these considerations, we can conclude that $n \\leq c(n) \\leq 2n$.\n",
    "\n",
    "\n",
    "## 2. Big O Notation <a id=\"big-o\"></a>\n",
    "\n",
    "We can summarize this result by saying that $c(n)$ grows linearly with $n$. More generally, we can say that a linear function of $n$ can be found which acts as an upper bound for $c(n)$ when $n$ is large. Since this is a long and wordy sentence, we won't actually want to say this very often. Instead, we can express it more compactly using 'big O notation'.\n",
    "\n",
    "<!-- ::: q-block.reminder -->\n",
    "\n",
    "## Reminders\n",
    "\n",
    "<details>\n",
    "  <summary>Big O notation</summary>\n",
    "For some example functions $f(x)$ and $g(x)$ and parameter $x$, the statement $f(x) = O(g(x))$  means that there exist some finite numbers $M>0$ and $x_0$ such that\n",
    "$$\n",
    "f(x) \\leq M g(x) \\forall x>x_0.\n",
    "$$ \n",
    "</details>\n",
    "\n",
    "<!-- ::: -->\n",
    "\n",
    "Big O notation is useful as it allows us to compare how the resources/runtime required by an algorithm scale with input size, independent of the specific platform and algorithm implementation under consideration. Below are examples of common scaling factors of a runtime $N$ as a function of input size $n$; it is clear that for a sufficiently large problem size the runtime of a $O(a^n)$ algorithm will exceed that of a $O(n^b)$ algorithm, where $a$ and $b$ are constants.\n",
    "\n",
    "<figure>\n",
    "  <img src=\"images/1920px-Comparison_computational_complexity.png\" alt=\"Drawing\" style=\"max-width: 400px;\"/>\n",
    "  <figcaption>Comparisons of different time complexities. n is the number of input bits, and N is the number of operations required. [5]</figcaption>\n",
    "</figure>\n",
    "\n",
    "With this notation, the property described above is expressed simply as $c(n) = O(n)$. This captures the linear behavior without needing to dwell on the specifics. Therefore, independent of whether $c(n) = n$, $c(n) = 2n$, or something else, we can simply say that $c(n) = O(n)$.\n",
    "\n",
    "There is a hidden assumption in what we have considered so far. By talking about the number of digits, we have assumed the use of a specific number system. However, the number of digits will depend on which number system we are using, be it decimal, binary, or something else. For example, the number of bits $n_2$ required to express a number is related to the number of decimal digits $n_{10}$ required to express the same number by\n",
    "\n",
    "$n_2 = \\left\\lceil \\frac{\\log 10}{ \\log 2} \\, n_{10} \\right\\rceil \\approx 3.3 \\, n_{10}.$\n",
    "\n",
    "Since this too is a linear relationship, it does not change how we express the complexity using big O notation. We can equally say that $c(n_2) = O(n_2)$, $c(n_{10}) = O(n_{10})$, or even $c(n_{10}) = O(n_{2})$. It is for this reason that we can often simply speak of the number of digits, $n$, without needing to specify what number system is used.\n",
    "\n",
    "\n",
    "## 3. Complexity Theory <a id=\"complexity\"></a>\n",
    "\n",
    "Complexity theory is the study of the computational effort required to run any algorithm. By considering the best possible algorithm to solve a given problem, we can also study the computational effort inherent in solving this problem. For addition we already know the optimal algorithm, and so know that it is a problem with $O(n)$ complexity.\n",
    "\n",
    "Multiplication is not quite so simple. Algorithms you learned at school for multiplying two $n$-digit numbers will have required $O(n^2)$ basic operations, such as single-digit additions and multiplications. Though algorithms with lower asymptotic complexity have been found, it is widely regarded as impossible to perform multiplication with $O(n)$ complexity.\n",
    "\n",
    "Even so, multiplication is far from being the most complex problem. An example of a problem with far greater complexity is factorization: taking an $n$-digit number and finding its prime factors. The best known algorithm in this case has a complexity that is worse than $O\\left(e^{n^{1/3}}\\right)$. The exponential here means that the complexity grows very quickly and makes factorization a very hard problem to solve.\n",
    "\n",
    "To demonstrate this point using actual computation time, we can take a recent example.$^{1}$ Consider the following 829-digit number."
   ]
  },
  {
   "cell_type": "code",
   "execution_count": 1,
   "metadata": {},
   "outputs": [],
   "source": [
    "rsa_250 = 2140324650240744961264423072839333563008614715144755017797754920881418023447140136643345519095804679610992851872470914587687396261921557363047454770520805119056493106687691590019759405693457452230589325976697471681738069364894699871578494975937497937"
   ]
  },
  {
   "cell_type": "markdown",
   "metadata": {},
   "source": [
    "If you try using your computer to add or multiply numbers of this size, you'll find that it can solve such problems very quickly. If you multiply the number of processors your computer has with the number of seconds it takes to get the number of core-seconds, you are sure to find that very much less than 1 core-second is required.\n",
    "\n",
    "However, performing factorization on this number requires a supercomputer and around 2700 core-years, which eventually yields the following two factors."
   ]
  },
  {
   "cell_type": "code",
   "execution_count": 2,
   "metadata": {},
   "outputs": [
    {
     "data": {
      "text/plain": [
       "2140324650240744961264423072839333563008614715144755017797754920881418023447140136643345519095804679610992851872470914587687396261921557363047454770520805119056493106687691590019759405693457452230589325976697471681738069364894699871578494975937497937"
      ]
     },
     "execution_count": 2,
     "metadata": {},
     "output_type": "execute_result"
    }
   ],
   "source": [
    "p = 64135289477071580278790190170577389084825014742943447208116859632024532344630238623598752668347708737661925585694639798853367\n",
    "q = 33372027594978156556226010605355114227940760344767554666784520987023841729210037080257448673296881877565718986258036932062711\n",
    "p*q"
   ]
  },
  {
   "cell_type": "markdown",
   "metadata": {},
   "source": [
    "For the factorization of larger numbers, we easily get to a point where a planet-sized supercomputer would need to run for the age of the universe. Clearly, any such problem is practically impossible.\n",
    "\n",
    "So far we have considered only mathematical operations on $n$-digit numbers, with the complexity expressed as the number of simple single-digit operations required. However, complexity theory can be used to analyze any computational method for any kind of problem, be it searching databases, rendering graphics, simulating dynamics, or traversing a dungeon in *Legend of Zelda*. In each case, we are able to find a parameter or set of parameters that serve as our input size and express the complexity in terms of this input size using big O notation. For searching a database of $N$ entries, for example, the complexity is $O(N)$.\n",
    "\n",
    "Formally, defining the complexity of an algorithm depends on the exact theoretical model for computation we are using. Each model has a set of basic operations, known as primitive operations, with which any algorithm can be expressed. For Boolean circuits, as we considered in the first section, the primitive operations are the logic gates. For Turing machines, a hypothetical form of computer proposed by Alan Turing, we imagine a device stepping through and manipulating information stored on a tape. The RAM model has a more complex set of primitive operations and acts as an idealized form of the computers we use every day. All these are models of digital computation, based on discretized manipulations of discrete values. Different as they may seem from each other, it turns out that it is very easy for each of them to simulate the others. This means that in most cases the computational complexity does not significantly depend on which of these models is used. Rather than stating complexity specifically for the RAM model or Turing machines, we can therefore simply speak of the complexity for digital computers."
   ]
  },
  {
   "cell_type": "markdown",
   "metadata": {},
   "source": [
    "## 4. Beyond Digital Computation <a id=\"beyond\"></a>\n",
    "\n",
    "Though digital computers are dominant now, they are not the only form of computation. Analog computers were also widely studied and used in the past. Unlike the discrete values of digital computers, these are based on precise manipulations of continuously varying parameters. It has sometimes been claimed that such devices could quickly solve problems that are intractable for digital computers. However, such claims have never been realized. A major stumbling block for analog computers is the inability to build devices with arbitrarily high precision. In digital computers, the discretization means that errors must be relatively large in order to be noticeable, and methods for detecting and correcting such errors can then be implemented. In analog computers, however, errors can be arbitrarily small and impossible to detect, but still their effects can build up to ruin a computation.\n",
    "\n",
    "If one were to propose an ideal model of computation, it might seek to combine the robustness of a digital computer with the subtle manipulations of an analog computer. To achieve this we can look to quantum mechanics. We have already seen that qubits are a system with discrete outputs `0` and `1`, and yet can exist in states that can only be described by continuous parameters. This is a particular instance of the well-known notion of 'wave-particle' duality that is typical of quantum systems. They cannot be fully described as either discrete or continuous, but rather a combination of the two. As Einstein said,$^{2}$\n",
    "\n",
    "> 'It seems as though we must use sometimes the one theory and sometimes the other, while at times we may use either. We are faced with a new kind of difficulty. We have two contradictory pictures of reality; separately neither of them fully explains the phenomena...but together they do.'\n",
    "\n",
    "A quantum computer, whose primitive operations are gates applied to qubits, is therefore neither analog nor digital, but something unique. In further chapters we will explore the consequences of this unique nature. We will see that quantum computers can solve problems with a radically different complexity to digital computers. In fact, quantum computing is the only known technology that can be exponentially faster than classical computers for certain tasks, potentially reducing calculation times from years to minutes. We will also explore how quantum error correction can remove the effects of any imperfections."
   ]
  },
  {
   "cell_type": "markdown",
   "metadata": {},
   "source": [
    "## 5. When to Use a Quantum Computer <a id=\"when\"></a>\n",
    "\n",
    "With qubits and quantum gates, we can design novel algorithms that are fundamentally different from digital and analog classical ones. In this way, we hope to find solutions to problems that are intractable for classical computers.\n",
    "\n",
    "One way in which this can be done is when we have some function for which we want to determine a global property. For example, if we want to find the value of some parameter $x$ for which some function $f(x)$ is a minimum, or the period of the function if $f(x)$ is periodic. An algorithm on a digital computer might use a process in which $f(x)$ is computed for a variety of different inputs in order to get sufficient information about the global property. With a quantum computer, however, the fact that we can create superposition states means that the function can be applied to many possible inputs simultaneously. This does not mean that we can access all possible outputs since measurement of such a state simply gives us a single result. However, we can instead seek to induce a quantum interference effect, which will reveal the global property we require.\n",
    "\n",
    "This general description illustrates the workings of many of the quantum algorithms that have already been discovered. One prominent example is Grover's algorithm, which reduces the complexity of searching through $N$ items from $O(N)$ to $O(N^{1/2})$. This quadratic speedup could be useful in many applications with tasks that can be expressed as an unstructured search, such as optimization problems and machine learning."
   ]
  },
  {
   "cell_type": "code",
   "execution_count": 7,
   "metadata": {
    "tags": [
     "remove_input"
    ]
   },
   "outputs": [
    {
     "data": {
      "text/html": [
       "<figure><!DOCTYPE html>\n",
       "<html lang=\"en\">\n",
       "  <head>\n",
       "    <meta charset=\"utf-8\">\n",
       "    <title>Bokeh Application</title>\n",
       "    <script type=\"text/javascript\" src=\"https://cdn.bokeh.org/bokeh/release/bokeh-3.0.2.min.js\"></script>\n",
       "    <script type=\"text/javascript\" src=\"https://cdn.bokeh.org/bokeh/release/bokeh-widgets-3.0.2.min.js\"></script>\n",
       "    <script type=\"text/javascript\">\n",
       "        Bokeh.set_log_level(\"info\");\n",
       "    </script>\n",
       "  </head>\n",
       "  <body>\n",
       "    <div id=\"47b77a99-8e98-4a3a-93aa-5ba3635eb8ba\" data-root-id=\"p1745\" style=\"display: contents;\"></div>\n",
       "  \n",
       "    <script type=\"application/json\" id=\"p1972\">\n",
       "      {\"150bfda7-8549-464a-96b4-9df31c0b92f3\":{\"version\":\"3.0.2\",\"title\":\"Bokeh Application\",\"defs\":[],\"roots\":[{\"type\":\"object\",\"name\":\"Column\",\"id\":\"p1745\",\"attributes\":{\"children\":[{\"type\":\"object\",\"name\":\"Figure\",\"id\":\"p1655\",\"attributes\":{\"width\":800,\"height\":400,\"sizing_mode\":\"scale_width\",\"x_range\":{\"type\":\"object\",\"name\":\"Range1d\",\"id\":\"p1664\",\"attributes\":{\"end\":500}},\"y_range\":{\"type\":\"object\",\"name\":\"Range1d\",\"id\":\"p1666\",\"attributes\":{\"end\":500}},\"x_scale\":{\"type\":\"object\",\"name\":\"LinearScale\",\"id\":\"p1668\"},\"y_scale\":{\"type\":\"object\",\"name\":\"LinearScale\",\"id\":\"p1670\"},\"title\":{\"type\":\"object\",\"name\":\"Title\",\"id\":\"p1663\"},\"renderers\":[{\"type\":\"object\",\"name\":\"GlyphRenderer\",\"id\":\"p1697\",\"attributes\":{\"data_source\":{\"type\":\"object\",\"name\":\"ColumnDataSource\",\"id\":\"p1649\",\"attributes\":{\"selected\":{\"type\":\"object\",\"name\":\"Selection\",\"id\":\"p1650\",\"attributes\":{\"indices\":[],\"line_indices\":[]}},\"selection_policy\":{\"type\":\"object\",\"name\":\"UnionRenderers\",\"id\":\"p1651\"},\"data\":{\"type\":\"map\",\"entries\":[[\"x\",{\"type\":\"ndarray\",\"array\":{\"type\":\"bytes\",\"data\":\"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\"},\"shape\":[500],\"dtype\":\"int32\",\"order\":\"little\"}],[\"y\",{\"type\":\"ndarray\",\"array\":{\"type\":\"bytes\",\"data\":\"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\"},\"shape\":[500],\"dtype\":\"int32\",\"order\":\"little\"}]]}}},\"view\":{\"type\":\"object\",\"name\":\"CDSView\",\"id\":\"p1698\",\"attributes\":{\"filter\":{\"type\":\"object\",\"name\":\"AllIndices\",\"id\":\"p1699\"}}},\"glyph\":{\"type\":\"object\",\"name\":\"Line\",\"id\":\"p1694\",\"attributes\":{\"x\":{\"type\":\"field\",\"field\":\"x\"},\"y\":{\"type\":\"field\",\"field\":\"y\"},\"line_color\":\"blue\",\"line_alpha\":0.6,\"line_width\":3}},\"nonselection_glyph\":{\"type\":\"object\",\"name\":\"Line\",\"id\":\"p1695\",\"attributes\":{\"x\":{\"type\":\"field\",\"field\":\"x\"},\"y\":{\"type\":\"field\",\"field\":\"y\"},\"line_color\":\"blue\",\"line_alpha\":0.1,\"line_width\":3}},\"muted_glyph\":{\"type\":\"object\",\"name\":\"Line\",\"id\":\"p1696\",\"attributes\":{\"x\":{\"type\":\"field\",\"field\":\"x\"},\"y\":{\"type\":\"field\",\"field\":\"y\"},\"line_color\":\"blue\",\"line_alpha\":0.2,\"line_width\":3}}}},{\"type\":\"object\",\"name\":\"GlyphRenderer\",\"id\":\"p1721\",\"attributes\":{\"data_source\":{\"type\":\"object\",\"name\":\"ColumnDataSource\",\"id\":\"p1652\",\"attributes\":{\"selected\":{\"type\":\"object\",\"name\":\"Selection\",\"id\":\"p1653\",\"attributes\":{\"indices\":[],\"line_indices\":[]}},\"selection_policy\":{\"type\":\"object\",\"name\":\"UnionRenderers\",\"id\":\"p1654\"},\"data\":{\"type\":\"map\",\"entries\":[[\"x\",{\"type\":\"ndarray\",\"array\":{\"type\":\"bytes\",\"data\":\"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\"},\"shape\":[500],\"dtype\":\"int32\",\"order\":\"little\"}],[\"y\",{\"type\":\"ndarray\",\"array\":{\"type\":\"bytes\",\"data\":\"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\"},\"shape\":[500],\"dtype\":\"float64\",\"order\":\"little\"}]]}}},\"view\":{\"type\":\"object\",\"name\":\"CDSView\",\"id\":\"p1722\",\"attributes\":{\"filter\":{\"type\":\"object\",\"name\":\"AllIndices\",\"id\":\"p1723\"}}},\"glyph\":{\"type\":\"object\",\"name\":\"Line\",\"id\":\"p1718\",\"attributes\":{\"x\":{\"type\":\"field\",\"field\":\"x\"},\"y\":{\"type\":\"field\",\"field\":\"y\"},\"line_color\":\"red\",\"line_alpha\":0.6,\"line_width\":3}},\"nonselection_glyph\":{\"type\":\"object\",\"name\":\"Line\",\"id\":\"p1719\",\"attributes\":{\"x\":{\"type\":\"field\",\"field\":\"x\"},\"y\":{\"type\":\"field\",\"field\":\"y\"},\"line_color\":\"red\",\"line_alpha\":0.1,\"line_width\":3}},\"muted_glyph\":{\"type\":\"object\",\"name\":\"Line\",\"id\":\"p1720\",\"attributes\":{\"x\":{\"type\":\"field\",\"field\":\"x\"},\"y\":{\"type\":\"field\",\"field\":\"y\"},\"line_color\":\"red\",\"line_alpha\":0.2,\"line_width\":3}}}}],\"toolbar\":{\"type\":\"object\",\"name\":\"Toolbar\",\"id\":\"p1662\",\"attributes\":{\"tools\":[{\"type\":\"object\",\"name\":\"ResetTool\",\"id\":\"p1686\"},{\"type\":\"object\",\"name\":\"SaveTool\",\"id\":\"p1687\"}]}},\"left\":[{\"type\":\"object\",\"name\":\"LinearAxis\",\"id\":\"p1679\",\"attributes\":{\"ticker\":{\"type\":\"object\",\"name\":\"BasicTicker\",\"id\":\"p1682\",\"attributes\":{\"mantissas\":[1,2,5]}},\"formatter\":{\"type\":\"object\",\"name\":\"BasicTickFormatter\",\"id\":\"p1680\"},\"axis_label\":\"Time Taken to Find Solution\",\"major_label_policy\":{\"type\":\"object\",\"name\":\"AllLabels\",\"id\":\"p1681\"}}}],\"below\":[{\"type\":\"object\",\"name\":\"LinearAxis\",\"id\":\"p1672\",\"attributes\":{\"ticker\":{\"type\":\"object\",\"name\":\"BasicTicker\",\"id\":\"p1675\",\"attributes\":{\"mantissas\":[1,2,5]}},\"formatter\":{\"type\":\"object\",\"name\":\"BasicTickFormatter\",\"id\":\"p1673\"},\"axis_label\":\"Size of Problem\",\"major_label_policy\":{\"type\":\"object\",\"name\":\"AllLabels\",\"id\":\"p1674\"}}}],\"center\":[{\"type\":\"object\",\"name\":\"Grid\",\"id\":\"p1678\",\"attributes\":{\"axis\":{\"id\":\"p1672\"}}},{\"type\":\"object\",\"name\":\"Grid\",\"id\":\"p1685\",\"attributes\":{\"dimension\":1,\"axis\":{\"id\":\"p1679\"}}},{\"type\":\"object\",\"name\":\"Legend\",\"id\":\"p1713\",\"attributes\":{\"location\":\"top_left\",\"items\":[{\"type\":\"object\",\"name\":\"LegendItem\",\"id\":\"p1714\",\"attributes\":{\"label\":{\"type\":\"value\",\"value\":\"Classical Search O(N)\"},\"renderers\":[{\"id\":\"p1697\"}]}},{\"type\":\"object\",\"name\":\"LegendItem\",\"id\":\"p1742\",\"attributes\":{\"label\":{\"type\":\"value\",\"value\":\"Quantum Search O(\\u221aN)\"},\"renderers\":[{\"id\":\"p1721\"}]}}]}}]}},{\"type\":\"object\",\"name\":\"Slider\",\"id\":\"p1744\",\"attributes\":{\"js_property_callbacks\":{\"type\":\"map\",\"entries\":[[\"change:value\",[{\"type\":\"object\",\"name\":\"CustomJS\",\"id\":\"p1743\",\"attributes\":{\"args\":{\"type\":\"map\",\"entries\":[[\"source\",{\"id\":\"p1652\"}]]},\"code\":\"\\n        var data = source.data;\\n        var f = (10-cb_obj.value)*2 + 3\\n        var x = data['x']\\n        var y = data['y']\\n        for (var i = 0; i &lt; x.length; i++) {\\n            y[i] = f*Math.sqrt(x[i])\\n        }\\n        source.change.emit();\\n    \"}}]]]},\"title\":\"Relative Speed of Quantum Computer\",\"show_value\":false,\"start\":1.0,\"end\":10.0,\"value\":7.5,\"step\":0.1}}]}}]}}\n",
       "    </script>\n",
       "    <script type=\"text/javascript\">\n",
       "      (function() {\n",
       "        const fn = function() {\n",
       "          Bokeh.safely(function() {\n",
       "            (function(root) {\n",
       "              function embed_document(root) {\n",
       "              const docs_json = document.getElementById('p1972').textContent;\n",
       "              const render_items = [{\"docid\":\"150bfda7-8549-464a-96b4-9df31c0b92f3\",\"roots\":{\"p1745\":\"47b77a99-8e98-4a3a-93aa-5ba3635eb8ba\"},\"root_ids\":[\"p1745\"]}];\n",
       "              root.Bokeh.embed.embed_items(docs_json, render_items);\n",
       "              }\n",
       "              if (root.Bokeh !== undefined) {\n",
       "                embed_document(root);\n",
       "              } else {\n",
       "                let attempts = 0;\n",
       "                const timer = setInterval(function(root) {\n",
       "                  if (root.Bokeh !== undefined) {\n",
       "                    clearInterval(timer);\n",
       "                    embed_document(root);\n",
       "                  } else {\n",
       "                    attempts++;\n",
       "                    if (attempts > 100) {\n",
       "                      clearInterval(timer);\n",
       "                      console.log(\"Bokeh: ERROR: Unable to run BokehJS code because BokehJS library is missing\");\n",
       "                    }\n",
       "                  }\n",
       "                }, 10, root)\n",
       "              }\n",
       "            })(window);\n",
       "          });\n",
       "        };\n",
       "        if (document.readyState != \"loading\") fn();\n",
       "        else document.addEventListener(\"DOMContentLoaded\", fn);\n",
       "      })();\n",
       "    </script>\n",
       "  </body>\n",
       "</html><figcaption>\n",
       "Comparing performance of algorithms across different platforms is difficult. What we can tell (through big-O-notation) is \n",
       "despite the difference in speeds between our classical and quantum computers, for a large enough problem, the quantum search \n",
       "algorithm will always out-perform the classical search algorithm.</figcaption></figure>"
      ],
      "text/plain": [
       "<IPython.core.display.HTML object>"
      ]
     },
     "execution_count": 7,
     "metadata": {},
     "output_type": "execute_result"
    }
   ],
   "source": [
    "# This code is to create the interactive figure\n",
    "from bokeh.layouts import column\n",
    "from bokeh.models import ColumnDataSource, CustomJS, Slider\n",
    "from bokeh.plotting import figure, show\n",
    "from bokeh.embed import file_html\n",
    "from bokeh.resources import CDN\n",
    "import numpy as np\n",
    "import IPython\n",
    "\n",
    "x = np.arange(0,500)\n",
    "y_linear = x\n",
    "y_sqrt = 7.5*np.sqrt(x)\n",
    "\n",
    "linear_source = ColumnDataSource(data=dict(x=x, y=y_linear))\n",
    "sqrt_source = ColumnDataSource(data=dict(x=x, y=y_sqrt))\n",
    "\n",
    "plot = figure(\n",
    "              height=400, \n",
    "              width=800,\n",
    "              sizing_mode=\"scale_width\",\n",
    "              tools=\"reset,save\",\n",
    "              x_range=[0, 500], y_range=[0, 500], \n",
    "              x_axis_label=\"Size of Problem\",\n",
    "              y_axis_label=\"Time Taken to Find Solution\")\n",
    "plot.line('x', 'y', source=linear_source, line_width=3, line_alpha=0.6, color=\"blue\", legend_label=\"Classical Search O(N)\")\n",
    "plot.line('x', 'y', source=sqrt_source, line_width=3, line_alpha=0.6, color=\"red\", legend_label=\"Quantum Search O(√N)\")\n",
    "plot.legend.location = \"top_left\"\n",
    "\n",
    "callback = CustomJS(args=dict(source=sqrt_source), code=\"\"\"\n",
    "        var data = source.data;\n",
    "        var f = (10-cb_obj.value)*2 + 3\n",
    "        var x = data['x']\n",
    "        var y = data['y']\n",
    "        for (var i = 0; i < x.length; i++) {\n",
    "            y[i] = f*Math.sqrt(x[i])\n",
    "        }\n",
    "        source.change.emit();\n",
    "    \"\"\")\n",
    "\n",
    "speed_slider = Slider(title=\"Relative Speed of Quantum Computer\", value=7.5, start=1.0, end=10.0, step=0.1, show_value=False)\n",
    "speed_slider.js_on_change('value', callback)\n",
    "\n",
    "layout = column(plot, speed_slider)\n",
    "\n",
    "caption = \"\"\"\n",
    "Comparing performance of algorithms across different platforms is difficult. What we can tell (through big-O-notation) is \n",
    "despite the difference in speeds between our classical and quantum computers, for a large enough problem, the quantum search \n",
    "algorithm will always out-perform the classical search algorithm.\"\"\"\n",
    "\n",
    "html_repr = file_html(layout, CDN)\n",
    "html_fig = \"<figure>{0}<figcaption>{1}</figcaption></figure>\".format(html_repr, caption)\n",
    "IPython.display.HTML(html_fig)"
   ]
  },
  {
   "cell_type": "markdown",
   "metadata": {},
   "source": [
    "An even more impressive speedup is obtained with Shor's algorithm, which analyses periodic functions at the heart of the factorization problem. This allows a quantum solution for factoring $n$-digit numbers with complexity $O(n^3)$. This is a superpolynomial speedup compared with the complexity for digital computers, which is worse than $O\\left(e^{n^{1/3}}\\right)$.\n",
    "\n",
    "Another approach towards quantum algorithms is to use quantum computers to solve quantum problems. As we will see in the next chapter, expressing a quantum state requires an amount of information that scales exponentially with the number of qubits. Just writing down the state of $n$ qubits therefore becomes an intractable task for digital computers as $n$ increases. However, for a quantum computer we just need $n$ qubits to do the same job. This natural capability to express and manipulate quantum states allows us to study and better understand quantum systems of interest, such as molecules and fundamental particles.\n",
    "\n",
    "Applying and adapting quantum algorithms in different industries therefore has the promise of enabling disruptive use cases in business and science. These include breakthroughs in drug discovery, machine learning, materials discovery, option pricing, protein folding, and supply chain.$^{3}$ Particularly promising are those problems for which classical algorithms face inherent scaling limits and which do not require a large classical dataset to be loaded. For quantum advantage, a given problem's answers need to strongly depend on exponentially many entangled degrees of freedom with structure such that quantum mechanics evolves to a solution without having to go through all paths. Note, however, that the precise relationship between problems that are 'easy' for quantum computers (solvable in polynomial time) and other complexity-theoretic classes is still an open question.$^{4}$\n",
    "\n",
    "This is just a taste of how quantum algorithms can perform computation in an unique way. More details on these approaches can be found in later chapters. But first we need to look beyond the single qubit and invest some time into understanding the full set of quantum gates that we will need. This is the focus of the next chapter."
   ]
  },
  {
   "cell_type": "markdown",
   "metadata": {},
   "source": [
    "## 6. References <a id='references'></a>\n",
    "\n",
    "1. https://lists.gforge.inria.fr/pipermail/cado-nfs-discuss/2020-February/001166.html\n",
    "2. Albert Einstein, Leopold Infeld (1938). The Evolution of Physics: The Growth of Ideas from Early Concepts to Relativity and Quanta. Cambridge University Press.\n",
    "3. https://www.ibm.com/thought-leadership/institute-business-value/report/quantumstrategy\n",
    "4. https://www.cs.virginia.edu/~robins/The_Limits_of_Quantum_Computers.pdf\n",
    "5. Image: Cmglee / CC BY-SA (https://creativecommons.org/licenses/by-sa/4.0)"
   ]
  },
  {
   "cell_type": "code",
   "execution_count": 17,
   "metadata": {},
   "outputs": [
    {
     "data": {
      "text/html": [
       "<h3>Version Information</h3><table><tr><th>Qiskit Software</th><th>Version</th></tr><tr><td>Qiskit</td><td>0.27.0</td></tr><tr><td>Terra</td><td>0.17.4</td></tr><tr><td>Aer</td><td>0.8.2</td></tr><tr><td>Ignis</td><td>0.6.0</td></tr><tr><td>Aqua</td><td>0.9.2</td></tr><tr><td>IBM Q Provider</td><td>0.14.0</td></tr><tr><th>System information</th></tr><tr><td>Python</td><td>3.7.7 (default, May  6 2020, 04:59:01) \n",
       "[Clang 4.0.1 (tags/RELEASE_401/final)]</td></tr><tr><td>OS</td><td>Darwin</td></tr><tr><td>CPUs</td><td>8</td></tr><tr><td>Memory (Gb)</td><td>32.0</td></tr><tr><td colspan='2'>Thu Jun 17 15:13:01 2021 BST</td></tr></table>"
      ],
      "text/plain": [
       "<IPython.core.display.HTML object>"
      ]
     },
     "metadata": {},
     "output_type": "display_data"
    }
   ],
   "source": [
    "import qiskit.tools.jupyter\n",
    "%qiskit_version_table"
   ]
  }
 ],
 "metadata": {
  "kernelspec": {
   "display_name": "Python 3",
   "language": "python",
   "name": "python3"
  },
  "language_info": {
   "codemirror_mode": {
    "name": "ipython",
    "version": 3
   },
   "file_extension": ".py",
   "mimetype": "text/x-python",
   "name": "python",
   "nbconvert_exporter": "python",
   "pygments_lexer": "ipython3",
   "version": "3.9"
  }
 },
 "nbformat": 4,
 "nbformat_minor": 4
}
