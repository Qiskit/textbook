{
 "cells": [
  {
   "cell_type": "markdown",
   "metadata": {
    "tags": [
     "remove_cell"
    ]
   },
   "source": [
    "# Measuring Quantum Volume\n",
    "\n",
    "![hero:quantum volume](images/quantum_volume.png)\n"
   ]
  },
  {
   "cell_type": "markdown",
   "metadata": {
    "gloss": {
     "quantum-advantage": {
      "text": "Quantum advantage is a term used to refer to the ability for a quantum computer to perform computations beyond that which a classical computer can perform.",
      "title": "quantum advantage"
     },
     "transpiler": {
      "text": "A transpiler converts a quantum circuit to run on a particular quantum device. This conversion process may require converting the gates in the circuit to gates supported by the device, and adding swap gates if certain qubits in the device cannot interact with eachother.",
      "title": "transpiler"
     }
    }
   },
   "source": [
    "## Why quantum volume?\n",
    "\n",
    "Comparing different quantum computers is not an easy task. There are many different factors that affect the performance of a quantum computer and it’s not always clear which factors will have the biggest effect when doing useful quantum computations.\n",
    "\n",
    "Say you were designing your quantum computer: Would you trade higher fidelity gates (with less errors) for reduced qubit connectivity (requiring longer circuits)? Maybe you have a great [transpiler](gloss:transpiler) that can organise the swaps so reduced connectivity isn’t as much of an issue. Or maybe the readout errors are so high that any improvement in gate fidelity is negligible anyway? We can add each of these statistics to our quantum computer scorecard, but the exact importance of each element is up for debate. Even if we manage to score highly at each individual metric, there could still be other unforeseen problems that arise when running quantum circuits.\n",
    "\n",
    "One thing is certain, to achieve a [quantum advantage](gloss:quantum-advantage), we need many qubits, and the ability to manipulate them precisely . If we don't have enough qubits, we can't do any useful computations, and if these qubits are not precise or reliable enough, then our measurements will be meaningless."
   ]
  },
  {
   "cell_type": "markdown",
   "metadata": {
    "goals": [
     {
      "click": "true",
      "id": "tabclicked2",
      "selector": ".tabs .titles > h3:nth-child(2)"
     },
     {
      "click": "true",
      "id": "tabclicked3",
      "selector": ".tabs .titles > h3:nth-child(3)"
     },
     {
      "click": "true",
      "id": "tabclicked4",
      "selector": ".tabs .titles > h3:nth-child(4)"
     },
     {
      "click": "true",
      "id": "tabclicked5",
      "selector": ".tabs .titles > h3:nth-child(5)"
     }
    ]
   },
   "source": [
    "<!-- ::: q-block.tabs -->\n",
    "\n",
    "## What affects computing power?\n",
    "\n",
    "\n",
    "<!-- ::: tab -->\n",
    "\n",
    "### Qubit count\n",
    "\n",
    "<!-- ::: column(width=350) -->\n",
    "\n",
    "**Number of qubits (more is better)**\n",
    "\n",
    "The number of qubits in our quantum computer sets an upper limit on the power of the computations it can do. To gain advantage over classical computers, we want to be able to entangle as many qubits as possible.\n",
    "\n",
    "<!-- ::: column(width=250) -->\n",
    "\n",
    "<img src=\"images/qubit_count.png\" width=\"195\"/>\n",
    "    \n",
    "<!-- ::: -->\n",
    "\n",
    "<!-- ::: tab -->\n",
    "\n",
    "### Readout errors\n",
    "\n",
    "<!-- ::: column(width=350) -->\n",
    "\n",
    "**Gate and readout errors (less is better)**\n",
    "\n",
    "As mentioned above, the errors in our quantum computer also set an upper limit on the power of our quantum computer. If we can’t reliably manipulate our quantum states, then we’re not going to get meaningful results from our quantum computer.\n",
    "\n",
    "<!-- ::: column(width=250) -->\n",
    "    \n",
    "<img src=\"images/readout_errors.png\" width=\"195\"/>\n",
    "    \n",
    "<!-- ::: -->\n",
    "\n",
    "<!-- ::: tab -->\n",
    "\n",
    "### Connectivity\n",
    "\n",
    "<!-- ::: column(width=350) -->\n",
    "\n",
    "**Qubit-Qubit connectivity (more is better)**\n",
    "\n",
    "If two qubits cannot communicate directly, we need to add extra ‘swap’ gates to move them to the right place, increasing the length of our computation. Quantum volume circuits assume full connectivity, so if you need to insert extra swap gates, that’s on you!\n",
    "\n",
    "<!-- ::: column(width=250) -->\n",
    "\n",
    "<img src=\"images/connectivity.png\" width=\"195\"/>\n",
    "    \n",
    "<!-- ::: -->\n",
    "\n",
    "<!-- ::: tab -->\n",
    "\n",
    "### Gate set\n",
    "\n",
    "<!-- ::: column(width=350) -->\n",
    "\n",
    "**Gate set (larger / more powerful is better)**\n",
    "\n",
    "Quantum volume asks for random two-qubit gates, but working out how to implement them is also on you. If your hardware supports more gates, you’re more likely to get decent results.\n",
    "\n",
    "<!-- ::: column(width=250) -->\n",
    "\n",
    "<img src=\"images/gate_set.png\" width=\"195\"/>\n",
    "    \n",
    "<!-- ::: -->\n",
    "\n",
    "<!-- ::: tab -->\n",
    "\n",
    "### Software stack\n",
    "\n",
    "<!-- ::: column(width=350) -->\n",
    "\n",
    "**Compilers and software stack (more intelligent is better)**\n",
    "    \n",
    "Some other problems (inserting extra swap gates, creating the specified gates from your available gate set, and dealing with noise) can be mitigated using intelligent classical software such as the transpiler.\n",
    "\n",
    "<!-- ::: column(width=250) -->\n",
    "\n",
    "<img src=\"images/software_stack.png\" width=\"195\"/>\n",
    "    \n",
    "<!-- ::: -->\n",
    "\n",
    "<!-- ::: -->\n",
    "\n",
    "<!-- ::: -->\n"
   ]
  },
  {
   "cell_type": "markdown",
   "metadata": {},
   "source": [
    "This is where quantum volume comes in. Quantum volume is a _holistic_ benchmark. Instead of looking at the details, we simply measure how good the quantum computer is at doing the thing we want it to do: running quantum circuits. The quantum volume test creates randomized circuits to a specification, and the ‘score’ of the quantum computer increases with the size of the circuit it can reliably run.\n",
    "\n",
    "In this chapter, we will learn:\n",
    "\n",
    "1.\tWhat quantum volume is.\n",
    "2.\tHow to create a random square circuit.\n",
    "3.\tHow to see if a device can achieve a certain quantum volume.\n",
    "4.\tHow to use Qiskit’s tools to make this easier for us."
   ]
  },
  {
   "cell_type": "markdown",
   "metadata": {
    "gloss": {
     "depth": {
      "text": "If each gate takes one time step to execute, the depth is the shortest number of timesteps the circuit can be carried out in.",
      "title": "depth"
     },
     "width": {
      "text": "The number of qubits in the circuit.",
      "title": "width"
     }
    }
   },
   "source": [
    "## What is Quantum Volume?\n",
    "\n",
    "Quantum volume (QV) is a single-number metric used to measure the power of a quantum computer. It’s used for near-term devices with a modest number of qubits, and measures the largest random circuit of equal [width](gloss:width) and [depth](gloss:depth) that can be reliably run."
   ]
  },
  {
   "cell_type": "markdown",
   "metadata": {
    "goals": [
     {
      "id": "wiqv-explored"
     }
    ]
   },
   "source": [
    "<!-- ::: q-block -->\n",
    "\n",
    "## Visual demo\n",
    "\n",
    "\n",
    "    q-what-is-quantum-volume(goal=\"wiqv-explored\")\n",
    "\n",
    "<!-- ::: -->\n"
   ]
  },
  {
   "cell_type": "markdown",
   "metadata": {},
   "source": [
    "## The Quantum Volume Protocol\n",
    "\n",
    "### Overview\n",
    "\n",
    "To perform the quantum volume benchmark, we first create a bunch of circuits of size $d$. We then simulate the circuits and record the most likely outputs for each. We run these same circuits on the device we’re testing and see how regularly the outputs match those we simulated. If the device produces good enough results, we increase d and start over. The quantum volume of the device is 2 to the power of the largest circuit size our device can produce acceptable results for.\n",
    "\n",
    "\n",
    "<div class=\"qv-overview\">\n",
    "\n",
    "<!-- ::: column(width=25) -->\n",
    "\n",
    "## 1.\n",
    "\n",
    "<!-- ::: column(width=100) -->\n",
    "\n",
    "![test](images/overview-1.png)\n",
    "\n",
    "<!-- ::: column.grow -->\n",
    "\n",
    "Create a set of random circuits of width and depth $d$.\n",
    "\n",
    "<!-- ::: -->\n",
    "\n",
    "\n",
    "<!-- ::: column(width=25) -->\n",
    "\n",
    "## 2.\n",
    "\n",
    "<!-- ::: column(width=100) -->\n",
    "\n",
    "![test](images/overview-2.png)\n",
    "\n",
    "<!-- ::: column.grow -->\n",
    "\n",
    "Simulate the circuits and record which outputs are most likely.\n",
    "\n",
    "<!-- ::: -->\n",
    "\n",
    "\n",
    "<!-- ::: column(width=25) -->\n",
    "\n",
    "## 3.\n",
    "\n",
    "<!-- ::: column(width=100) -->\n",
    "\n",
    "![test](images/overview-3.png)\n",
    "\n",
    "<!-- ::: column.grow -->\n",
    "\n",
    "Run the circuits on the device we’re testing and record the results.\n",
    "\n",
    "<!-- ::: -->\n",
    "\n",
    "\n",
    "<!-- ::: column(width=25) -->\n",
    "\n",
    "## 4.\n",
    "\n",
    "<!-- ::: column(width=100) -->\n",
    "\n",
    "![test](images/overview-4.png)\n",
    "\n",
    "<!-- ::: column.grow -->\n",
    "\n",
    "If the device results are statically close enough to the simulation results, increase $d$ and go to step one. Repeat until failure.\n",
    "\n",
    "<!-- ::: -->\n",
    "\n",
    "\n",
    "<!-- ::: column(width=25) -->\n",
    "\n",
    "## 5.\n",
    "\n",
    "<!-- ::: column(width=100) -->\n",
    "\n",
    "![test](images/overview-5.png)\n",
    "\n",
    "<!-- ::: column.grow -->\n",
    "\n",
    "The quantum volume is $ 2^{d_{\\text{max}}} $, where $d_{\\text{max}}$ is the width and depth of the largest circuit our device can successfully run.\n",
    "\n",
    "<!-- ::: -->\n",
    "\n",
    "</div>\n",
    "\n"
   ]
  },
  {
   "cell_type": "markdown",
   "metadata": {
    "gloss": {
     "depth": {
      "text": "If each gate takes one time step to execute, the depth is the shortest number of timesteps the circuit can be carried out in.",
      "title": "depth"
     },
     "permutation": {
      "text": "A permutation of a set is an ordering of its elements.",
      "title": "permutation"
     },
     "unitarygates": {
      "text": "A unitary gate is a reversible, quantum operation.",
      "title": "unitary gates"
     },
     "width": {
      "text": "The number of qubits in the circuit.",
      "title": "width"
     }
    }
   },
   "source": [
    "## Square circuits\n",
    "\n",
    "A square circuit is a circuit of equal [width](gloss:width) and [depth](gloss:depth). This roughly approximates the kind of circuits we will want to run on a general-purpose quantum computer, and since the depth and width are equal, they can be defined by a single number.\n",
    "\n",
    "We know we can build our quantum algorithms with quantum circuits using a polynomial number of two-qubit [unitary gates](gloss:unitarygates). The model we choose has layers of random [permutations](gloss:permutation) of the qubit labels, followed by randomly specified two-qubits gates. When we have an odd number of qubits, one of the qubits is idle in each layer.\n",
    "\n",
    "These random circuits more closely approximate the circuits found in near term quantum algorithms than the circuits found in some more traditional algorithms.\n"
   ]
  },
  {
   "cell_type": "markdown",
   "metadata": {},
   "source": [
    "<!-- ::: q-block -->\n",
    "\n",
    "## Square circuit demo\n",
    "\n",
    "### Layers and Unitaries\n",
    "\n",
    "Click on any of the layers to see examples of gates inside of each layer. Each layer affects each qubit exactly once, and all the unitary gates in a layer can be run in parallel (assuming the device has full qubit connectivity).\n",
    "\n",
    "    q-layers-circuit\n",
    "    \n",
    "<!--\n",
    "    div(data-vue-mount)\n",
    "        layers-circuit(layers=3 lines=3 :gates-inspection=\"[ [{ q1: 0, q2: 1 }, { q1: 1, q2: 2 }],[{ q1: 0, q2: 1 }, { q1: 0, q2: 1 }],[{ q1: 1, q2: 2 }, { q1: 0, q2: 1 }] ]\")\n",
    "-->\n",
    "\n",
    "<!-- ![vue:layers-circuit](images/layers_unitary.png) -->\n",
    "\n",
    "<!-- ::: -->\n"
   ]
  },
  {
   "cell_type": "markdown",
   "metadata": {},
   "source": [
    "### Creating a square circuit\n",
    "\n",
    "To start, let’s have a go at creating our own random, square circuit. The first thing we need to do is decide which qubits our circuit is going to act on. When measuring quantum volume, we can choose whichever qubits on our device we think will give us the best results. Here I’m choosing the first five qubits of an imaginary device. This means our circuit’s depth and width will both be five.\n"
   ]
  },
  {
   "cell_type": "code",
   "execution_count": 1,
   "metadata": {},
   "outputs": [],
   "source": [
    "qubit_list = [0,1,2,3,4]\n",
    "# width == depth (we'll call it 'SIZE')\n",
    "SIZE = len(qubit_list)"
   ]
  },
  {
   "cell_type": "markdown",
   "metadata": {},
   "source": [
    "Next, we need a way to create our random 2-qubit gates. Qiskit provides a tool, <code>random_unitary</code> that creates a random $n\\times n$ unitary operator for us. This function could generate any unitary, two-qubit operation possible."
   ]
  },
  {
   "cell_type": "code",
   "execution_count": 2,
   "metadata": {},
   "outputs": [
    {
     "data": {
      "text/plain": [
       "Operator([[-0.1663547 -0.1475402j ,  0.54649516-0.462691j  ,\n",
       "            0.28241371+0.462441j  , -0.37844255-0.03146636j],\n",
       "          [-0.30101315+0.13225985j,  0.07545621-0.33878943j,\n",
       "           -0.07318777+0.19436719j,  0.80932921-0.2706985j ],\n",
       "          [ 0.66330705+0.28399018j,  0.22779156-0.48691077j,\n",
       "           -0.3927297 -0.18269011j,  0.00125454+0.05280507j],\n",
       "          [-0.45888136-0.33355308j,  0.03280012-0.27702205j,\n",
       "           -0.44446419-0.52734719j, -0.23645887-0.26229166j]],\n",
       "         input_dims=(2, 2), output_dims=(2, 2))"
      ]
     },
     "execution_count": 2,
     "metadata": {},
     "output_type": "execute_result"
    }
   ],
   "source": [
    "from qiskit.quantum_info import random_unitary\n",
    "random_unitary(4)"
   ]
  },
  {
   "cell_type": "markdown",
   "metadata": {},
   "source": [
    "We can use this to create a single layer of our random, square circuit:"
   ]
  },
  {
   "cell_type": "code",
   "execution_count": 3,
   "metadata": {},
   "outputs": [
    {
     "data": {
      "image/svg+xml": [
       "<?xml version=\"1.0\" encoding=\"UTF-8\"?><!DOCTYPE svg  PUBLIC '-//W3C//DTD SVG 1.1//EN'  'http://www.w3.org/Graphics/SVG/1.1/DTD/svg11.dtd'><svg width=\"173.79pt\" height=\"264.71pt\" version=\"1.1\" viewBox=\"0 0 173.79 264.71\" xmlns=\"http://www.w3.org/2000/svg\" xmlns:xlink=\"http://www.w3.org/1999/xlink\"><defs><style type=\"text/css\">*{stroke-linejoin: round; stroke-linecap: butt}</style></defs><path d=\"m0 264.71h173.79v-264.71h-173.79z\" fill=\"#ffffff\"/><path d=\"m64.609 44.283h97.343\" clip-path=\"url(#p344f7bf10c)\" fill=\"none\" stroke=\"#000000\" stroke-linecap=\"square\" stroke-width=\"2\"/><path d=\"m64.609 90.637h97.343\" clip-path=\"url(#p344f7bf10c)\" fill=\"none\" stroke=\"#000000\" stroke-linecap=\"square\" stroke-width=\"2\"/><path d=\"m64.609 136.99h97.343\" clip-path=\"url(#p344f7bf10c)\" fill=\"none\" stroke=\"#000000\" stroke-linecap=\"square\" stroke-width=\"2\"/><path d=\"m64.609 183.35h97.343\" clip-path=\"url(#p344f7bf10c)\" fill=\"none\" stroke=\"#000000\" stroke-linecap=\"square\" stroke-width=\"2\"/><path d=\"m64.609 229.7h97.343\" clip-path=\"url(#p344f7bf10c)\" fill=\"none\" stroke=\"#000000\" stroke-linecap=\"square\" stroke-width=\"2\"/><path d=\"m82.455 105.7h60.724v-76.484h-60.724z\" clip-path=\"url(#p344f7bf10c)\" fill=\"#6929c4\" stroke=\"#6929c4\" stroke-width=\"1.5\"/><path d=\"m82.455 198.41h60.724v-76.484h-60.724z\" clip-path=\"url(#p344f7bf10c)\" fill=\"#6929c4\" stroke=\"#6929c4\" stroke-width=\"1.5\"/><g clip-path=\"url(#p344f7bf10c)\"><g transform=\"translate(37.301 48.734) scale(.1625 -.1625)\"><defs><path id=\"DejaVuSans-Oblique-71\" transform=\"scale(.015625)\" d=\"m2669 525q-231-303-546-460-314-156-695-156-531 0-833 358-301 358-301 986 0 506 186 978t533 847q225 244 517 375t614 131q387 0 637-153t363-462l100 525h578l-934-4813h-579l360 1844zm-1778 813q0-463 193-705 194-242 560-242 544 0 928 520t384 1264q0 450-199 689-198 239-569 239-272 0-504-127-231-126-403-370-181-256-286-600-104-343-104-668z\"/><path id=\"DejaVuSans-30\" transform=\"scale(.015625)\" d=\"m2034 4250q-487 0-733-480-245-479-245-1442 0-959 245-1439 246-480 733-480 491 0 736 480 246 480 246 1439 0 963-246 1442-245 480-736 480zm0 500q785 0 1199-621 414-620 414-1801 0-1178-414-1799-414-620-1199-620-784 0-1198 620-414 621-414 1799 0 1181 414 1801 414 621 1198 621z\"/></defs><use xlink:href=\"#DejaVuSans-Oblique-71\"/><use transform=\"translate(63.477 -16.406) scale(.7)\" xlink:href=\"#DejaVuSans-30\"/></g></g><g clip-path=\"url(#p344f7bf10c)\"><g transform=\"translate(37.301 95.088) scale(.1625 -.1625)\"><defs><path id=\"DejaVuSans-31\" transform=\"scale(.015625)\" d=\"m794 531h1031v3560l-1122-225v575l1116 225h631v-4135h1031v-531h-2687v531z\"/></defs><use xlink:href=\"#DejaVuSans-Oblique-71\"/><use transform=\"translate(63.477 -16.406) scale(.7)\" xlink:href=\"#DejaVuSans-31\"/></g></g><g clip-path=\"url(#p344f7bf10c)\"><g transform=\"translate(37.301 141.44) scale(.1625 -.1625)\"><defs><path id=\"DejaVuSans-32\" transform=\"scale(.015625)\" d=\"m1228 531h2203v-531h-2962v531q359 372 979 998 621 627 780 809 303 340 423 576 121 236 121 464 0 372-261 606-261 235-680 235-297 0-627-103-329-103-704-313v638q381 153 712 231 332 78 607 78 725 0 1156-363 431-362 431-968 0-288-108-546-107-257-392-607-78-91-497-524-418-433-1181-1211z\"/></defs><use xlink:href=\"#DejaVuSans-Oblique-71\"/><use transform=\"translate(63.477 -16.406) scale(.7)\" xlink:href=\"#DejaVuSans-32\"/></g></g><g clip-path=\"url(#p344f7bf10c)\"><g transform=\"translate(37.301 187.8) scale(.1625 -.1625)\"><defs><path id=\"DejaVuSans-33\" transform=\"scale(.015625)\" d=\"m2597 2516q453-97 707-404 255-306 255-756 0-690-475-1069-475-378-1350-378-293 0-604 58t-642 174v609q262-153 574-231 313-78 654-78 593 0 904 234t311 681q0 413-289 645-289 233-804 233h-544v519h569q465 0 712 186t247 536q0 359-255 551-254 193-729 193-260 0-557-57-297-56-653-174v562q360 100 674 150t592 50q719 0 1137-327 419-326 419-882 0-388-222-655t-631-370z\"/></defs><use xlink:href=\"#DejaVuSans-Oblique-71\"/><use transform=\"translate(63.477 -16.406) scale(.7)\" xlink:href=\"#DejaVuSans-33\"/></g></g><g clip-path=\"url(#p344f7bf10c)\"><g transform=\"translate(37.301 234.15) scale(.1625 -.1625)\"><defs><path id=\"DejaVuSans-34\" transform=\"scale(.015625)\" d=\"m2419 4116-1594-2491h1594v2491zm-166 550h794v-3041h666v-525h-666v-1100h-628v1100h-2106v609l1940 2957z\"/></defs><use xlink:href=\"#DejaVuSans-Oblique-71\"/><use transform=\"translate(63.477 -16.406) scale(.7)\" xlink:href=\"#DejaVuSans-34\"/></g></g><g clip-path=\"url(#p344f7bf10c)\"><g transform=\"translate(85.7 47.87) scale(.13 -.13)\" fill=\"#ffffff\"><use xlink:href=\"#DejaVuSans-30\"/></g></g><g clip-path=\"url(#p344f7bf10c)\"><g transform=\"translate(85.7 94.224) scale(.13 -.13)\" fill=\"#ffffff\"><use xlink:href=\"#DejaVuSans-31\"/></g></g><g clip-path=\"url(#p344f7bf10c)\"><g transform=\"translate(94.183 71.047) scale(.13 -.13)\" fill=\"#ffffff\"><defs><path id=\"DejaVuSans-55\" transform=\"scale(.015625)\" d=\"m556 4666h635v-2835q0-750 271-1080 272-329 882-329 606 0 878 329 272 330 272 1080v2835h634v-2913q0-912-452-1378-451-466-1332-466-885 0-1337 466-451 466-451 1378v2913z\"/><path id=\"DejaVuSans-6e\" transform=\"scale(.015625)\" d=\"m3513 2113v-2113h-575v2094q0 497-194 743-194 247-581 247-466 0-735-297-269-296-269-809v-1978h-578v3500h578v-544q207 316 486 472 280 156 646 156 603 0 912-373 310-373 310-1098z\"/><path id=\"DejaVuSans-69\" transform=\"scale(.015625)\" d=\"m603 3500h575v-3500h-575v3500zm0 1363h575v-729h-575v729z\"/><path id=\"DejaVuSans-74\" transform=\"scale(.015625)\" d=\"m1172 4494v-994h1184v-447h-1184v-1900q0-428 117-550t477-122h590v-481h-590q-666 0-919 248-253 249-253 905v1900h-422v447h422v994h578z\"/><path id=\"DejaVuSans-61\" transform=\"scale(.015625)\" d=\"m2194 1759q-697 0-966-159t-269-544q0-306 202-486 202-179 548-179 479 0 768 339t289 901v128h-572zm1147 238v-1997h-575v531q-197-318-491-470t-719-152q-537 0-855 302-317 302-317 808 0 590 395 890 396 300 1180 300h807v57q0 397-261 614t-733 217q-300 0-585-72-284-72-546-216v532q315 122 612 182 297 61 578 61 760 0 1135-394 375-393 375-1193z\"/><path id=\"DejaVuSans-72\" transform=\"scale(.015625)\" d=\"m2631 2963q-97 56-211 82-114 27-251 27-488 0-749-317t-261-911v-1844h-578v3500h578v-544q182 319 472 473 291 155 707 155 59 0 131-8 72-7 159-23l3-590z\"/><path id=\"DejaVuSans-79\" transform=\"scale(.015625)\" d=\"m2059-325q-243-625-475-815-231-191-618-191h-460v481h338q237 0 368 113 132 112 291 531l103 262-1415 3444h609l1094-2737 1094 2737h609l-1538-3825z\"/></defs><use xlink:href=\"#DejaVuSans-55\"/><use x=\"73.193359\" xlink:href=\"#DejaVuSans-6e\"/><use x=\"136.572266\" xlink:href=\"#DejaVuSans-69\"/><use x=\"164.355469\" xlink:href=\"#DejaVuSans-74\"/><use x=\"203.564453\" xlink:href=\"#DejaVuSans-61\"/><use x=\"264.84375\" xlink:href=\"#DejaVuSans-72\"/><use x=\"305.957031\" xlink:href=\"#DejaVuSans-79\"/></g></g><g clip-path=\"url(#p344f7bf10c)\"><g transform=\"translate(85.7 140.58) scale(.13 -.13)\" fill=\"#ffffff\"><use xlink:href=\"#DejaVuSans-30\"/></g></g><g clip-path=\"url(#p344f7bf10c)\"><g transform=\"translate(85.7 186.93) scale(.13 -.13)\" fill=\"#ffffff\"><use xlink:href=\"#DejaVuSans-31\"/></g></g><g clip-path=\"url(#p344f7bf10c)\"><g transform=\"translate(94.183 163.76) scale(.13 -.13)\" fill=\"#ffffff\"><use xlink:href=\"#DejaVuSans-55\"/><use x=\"73.193359\" xlink:href=\"#DejaVuSans-6e\"/><use x=\"136.572266\" xlink:href=\"#DejaVuSans-69\"/><use x=\"164.355469\" xlink:href=\"#DejaVuSans-74\"/><use x=\"203.564453\" xlink:href=\"#DejaVuSans-61\"/><use x=\"264.84375\" xlink:href=\"#DejaVuSans-72\"/><use x=\"305.957031\" xlink:href=\"#DejaVuSans-79\"/></g></g><defs><clipPath id=\"p344f7bf10c\"><rect x=\"7.2\" y=\"7.2\" width=\"159.39\" height=\"250.31\"/></clipPath></defs></svg>"
      ],
      "text/plain": [
       "<Figure size 287.496x451.5 with 1 Axes>"
      ]
     },
     "execution_count": 3,
     "metadata": {},
     "output_type": "execute_result"
    }
   ],
   "source": [
    "from qiskit import QuantumCircuit\n",
    "\n",
    "qv_layer = QuantumCircuit(SIZE)\n",
    "for pair in range(SIZE//2):  # number of pairs is SIZE/2\n",
    "    qubit_indices = qubit_list[pair*2:pair*2+2]\n",
    "    gate = random_unitary(4)\n",
    "    qv_layer.append(gate, qubit_indices)\n",
    "\n",
    "qv_layer.draw()"
   ]
  },
  {
   "cell_type": "markdown",
   "metadata": {},
   "source": [
    "Now we can create a layer from a list of qubits, all we need to do is randomly change the order of the qubits and repeat. Python has a built-in function to shuffle lists (note that this works ‘in place’, so the data `qubit_lists` refers to will change)."
   ]
  },
  {
   "cell_type": "code",
   "execution_count": 4,
   "metadata": {},
   "outputs": [
    {
     "data": {
      "text/plain": [
       "[3, 4, 2, 1, 0]"
      ]
     },
     "execution_count": 4,
     "metadata": {},
     "output_type": "execute_result"
    }
   ],
   "source": [
    "from random import shuffle\n",
    "shuffle(qubit_list)\n",
    "qubit_list"
   ]
  },
  {
   "cell_type": "markdown",
   "metadata": {},
   "source": [
    "<!-- ::: q-block.exercise -->\n",
    "\n",
    "## Exercise\n",
    "    \n",
    "Create a function, <code>random_square_circuit(n)</code> that takes an integer <code>n</code>, and returns a random <code>QuantumCircuit</code> with width and depth <code>n</code>, that could be used in a quantum volume experiment. You may use the code shown above in your solution.\n",
    "\n",
    "[Try in IBM Quantum Lab](https://quantum-computing.ibm.com/lab)\n",
    "\n",
    "<!-- ::: -->\n"
   ]
  },
  {
   "cell_type": "markdown",
   "metadata": {},
   "source": [
    "Qiskit also provides a circuit class, `QuantumVolume` (imported here as `QuantumVolumeCircuit`), that creates these circuits for us. We just need to specify the number of qubits we want to use. In the cell below, we create a quantum volume circuit with four qubits, which tests for a quantum volume of 16."
   ]
  },
  {
   "cell_type": "code",
   "execution_count": 5,
   "metadata": {},
   "outputs": [
    {
     "data": {
      "image/svg+xml": [
       "<?xml version=\"1.0\" encoding=\"UTF-8\"?><!DOCTYPE svg  PUBLIC '-//W3C//DTD SVG 1.1//EN'  'http://www.w3.org/Graphics/SVG/1.1/DTD/svg11.dtd'><svg width=\"637.33pt\" height=\"218.36pt\" version=\"1.1\" viewBox=\"0 0 637.33 218.36\" xmlns=\"http://www.w3.org/2000/svg\" xmlns:xlink=\"http://www.w3.org/1999/xlink\"><defs><style type=\"text/css\">*{stroke-linejoin: round; stroke-linecap: butt}</style></defs><path d=\"m0 218.36h637.33v-218.36h-637.33z\" fill=\"#ffffff\"/><path d=\"m64.609 44.283h560.88\" clip-path=\"url(#p6ae6b05f56)\" fill=\"none\" stroke=\"#000000\" stroke-linecap=\"square\" stroke-width=\"2\"/><path d=\"m64.609 90.637h560.88\" clip-path=\"url(#p6ae6b05f56)\" fill=\"none\" stroke=\"#000000\" stroke-linecap=\"square\" stroke-width=\"2\"/><path d=\"m64.609 136.99h560.88\" clip-path=\"url(#p6ae6b05f56)\" fill=\"none\" stroke=\"#000000\" stroke-linecap=\"square\" stroke-width=\"2\"/><path d=\"m64.609 183.35h560.88\" clip-path=\"url(#p6ae6b05f56)\" fill=\"none\" stroke=\"#000000\" stroke-linecap=\"square\" stroke-width=\"2\"/><path d=\"m78.638 152.06h68.358v-122.84h-68.358z\" clip-path=\"url(#p6ae6b05f56)\" fill=\"#6929c4\" stroke=\"#6929c4\" stroke-width=\"1.5\"/><path d=\"m171.44 198.41h68.164v-122.84h-68.164z\" clip-path=\"url(#p6ae6b05f56)\" fill=\"#6929c4\" stroke=\"#6929c4\" stroke-width=\"1.5\"/><path d=\"m268.5 152.06h59.472v-76.484h-59.472z\" clip-path=\"url(#p6ae6b05f56)\" fill=\"#6929c4\" stroke=\"#6929c4\" stroke-width=\"1.5\"/><path d=\"m356.81 198.41h68.261v-169.19h-68.261z\" clip-path=\"url(#p6ae6b05f56)\" fill=\"#6929c4\" stroke=\"#6929c4\" stroke-width=\"1.5\"/><path d=\"m449.57 105.7h68.164v-76.484h-68.164z\" clip-path=\"url(#p6ae6b05f56)\" fill=\"#6929c4\" stroke=\"#6929c4\" stroke-width=\"1.5\"/><path d=\"m449.52 198.41h68.261v-76.484h-68.261z\" clip-path=\"url(#p6ae6b05f56)\" fill=\"#6929c4\" stroke=\"#6929c4\" stroke-width=\"1.5\"/><path d=\"m542.23 105.7h68.261v-76.484h-68.261z\" clip-path=\"url(#p6ae6b05f56)\" fill=\"#6929c4\" stroke=\"#6929c4\" stroke-width=\"1.5\"/><path d=\"m542.28 198.41h68.164v-76.484h-68.164z\" clip-path=\"url(#p6ae6b05f56)\" fill=\"#6929c4\" stroke=\"#6929c4\" stroke-width=\"1.5\"/><g clip-path=\"url(#p6ae6b05f56)\"><g transform=\"translate(37.301 48.734) scale(.1625 -.1625)\"><defs><path id=\"DejaVuSans-Oblique-71\" transform=\"scale(.015625)\" d=\"m2669 525q-231-303-546-460-314-156-695-156-531 0-833 358-301 358-301 986 0 506 186 978t533 847q225 244 517 375t614 131q387 0 637-153t363-462l100 525h578l-934-4813h-579l360 1844zm-1778 813q0-463 193-705 194-242 560-242 544 0 928 520t384 1264q0 450-199 689-198 239-569 239-272 0-504-127-231-126-403-370-181-256-286-600-104-343-104-668z\"/><path id=\"DejaVuSans-30\" transform=\"scale(.015625)\" d=\"m2034 4250q-487 0-733-480-245-479-245-1442 0-959 245-1439 246-480 733-480 491 0 736 480 246 480 246 1439 0 963-246 1442-245 480-736 480zm0 500q785 0 1199-621 414-620 414-1801 0-1178-414-1799-414-620-1199-620-784 0-1198 620-414 621-414 1799 0 1181 414 1801 414 621 1198 621z\"/></defs><use xlink:href=\"#DejaVuSans-Oblique-71\"/><use transform=\"translate(63.477 -16.406) scale(.7)\" xlink:href=\"#DejaVuSans-30\"/></g></g><g clip-path=\"url(#p6ae6b05f56)\"><g transform=\"translate(37.301 95.088) scale(.1625 -.1625)\"><defs><path id=\"DejaVuSans-31\" transform=\"scale(.015625)\" d=\"m794 531h1031v3560l-1122-225v575l1116 225h631v-4135h1031v-531h-2687v531z\"/></defs><use xlink:href=\"#DejaVuSans-Oblique-71\"/><use transform=\"translate(63.477 -16.406) scale(.7)\" xlink:href=\"#DejaVuSans-31\"/></g></g><g clip-path=\"url(#p6ae6b05f56)\"><g transform=\"translate(37.301 141.44) scale(.1625 -.1625)\"><defs><path id=\"DejaVuSans-32\" transform=\"scale(.015625)\" d=\"m1228 531h2203v-531h-2962v531q359 372 979 998 621 627 780 809 303 340 423 576 121 236 121 464 0 372-261 606-261 235-680 235-297 0-627-103-329-103-704-313v638q381 153 712 231 332 78 607 78 725 0 1156-363 431-362 431-968 0-288-108-546-107-257-392-607-78-91-497-524-418-433-1181-1211z\"/></defs><use xlink:href=\"#DejaVuSans-Oblique-71\"/><use transform=\"translate(63.477 -16.406) scale(.7)\" xlink:href=\"#DejaVuSans-32\"/></g></g><g clip-path=\"url(#p6ae6b05f56)\"><g transform=\"translate(37.301 187.8) scale(.1625 -.1625)\"><defs><path id=\"DejaVuSans-33\" transform=\"scale(.015625)\" d=\"m2597 2516q453-97 707-404 255-306 255-756 0-690-475-1069-475-378-1350-378-293 0-604 58t-642 174v609q262-153 574-231 313-78 654-78 593 0 904 234t311 681q0 413-289 645-289 233-804 233h-544v519h569q465 0 712 186t247 536q0 359-255 551-254 193-729 193-260 0-557-57-297-56-653-174v562q360 100 674 150t592 50q719 0 1137-327 419-326 419-882 0-388-222-655t-631-370z\"/></defs><use xlink:href=\"#DejaVuSans-Oblique-71\"/><use transform=\"translate(63.477 -16.406) scale(.7)\" xlink:href=\"#DejaVuSans-33\"/></g></g><g clip-path=\"url(#p6ae6b05f56)\"><g transform=\"translate(81.883 47.87) scale(.13 -.13)\" fill=\"#ffffff\"><use xlink:href=\"#DejaVuSans-30\"/></g></g><g clip-path=\"url(#p6ae6b05f56)\"><g transform=\"translate(81.883 140.58) scale(.13 -.13)\" fill=\"#ffffff\"><use xlink:href=\"#DejaVuSans-31\"/></g></g><g clip-path=\"url(#p6ae6b05f56)\"><g transform=\"translate(90.618 93.863) scale(.13 -.13)\" fill=\"#ffffff\"><defs><path id=\"DejaVuSans-73\" transform=\"scale(.015625)\" d=\"m2834 3397v-544q-243 125-506 187-262 63-544 63-428 0-642-131t-214-394q0-200 153-314t616-217l197-44q612-131 870-370t258-667q0-488-386-773-386-284-1061-284-281 0-586 55t-642 164v594q319-166 628-249 309-82 613-82 406 0 624 139 219 139 219 392 0 234-158 359-157 125-692 241l-200 47q-534 112-772 345-237 233-237 639 0 494 350 762 350 269 994 269 318 0 599-47 282-46 519-140z\"/><path id=\"DejaVuSans-75\" transform=\"scale(.015625)\" d=\"m544 1381v2119h575v-2097q0-497 193-746 194-248 582-248 465 0 735 297 271 297 271 810v1984h575v-3500h-575v538q-209-319-486-474-276-155-642-155-603 0-916 375-312 375-312 1097zm1447 2203z\"/><path id=\"DejaVuSans-34\" transform=\"scale(.015625)\" d=\"m2419 4116-1594-2491h1594v2491zm-166 550h794v-3041h666v-525h-666v-1100h-628v1100h-2106v609l1940 2957z\"/><path id=\"DejaVuSans-5f\" transform=\"scale(.015625)\" d=\"m3263-1063v-446h-3326v446h3326z\"/><path id=\"DejaVuSans-35\" transform=\"scale(.015625)\" d=\"m691 4666h2478v-532h-1900v-1143q137 47 274 70 138 23 276 23 781 0 1237-428 457-428 457-1159 0-753-469-1171-469-417-1322-417-294 0-599 50-304 50-629 150v635q281-153 581-228t634-75q541 0 856 284 316 284 316 772 0 487-316 771-315 285-856 285-253 0-505-56-251-56-513-175v2344z\"/></defs><use xlink:href=\"#DejaVuSans-73\"/><use x=\"52.099609\" xlink:href=\"#DejaVuSans-75\"/><use x=\"115.478516\" xlink:href=\"#DejaVuSans-34\"/><use x=\"179.101562\" xlink:href=\"#DejaVuSans-5f\"/><use x=\"229.101562\" xlink:href=\"#DejaVuSans-35\"/><use x=\"292.724609\" xlink:href=\"#DejaVuSans-34\"/><use x=\"356.347656\" xlink:href=\"#DejaVuSans-34\"/></g></g><g clip-path=\"url(#p6ae6b05f56)\"><g transform=\"translate(174.69 94.224) scale(.13 -.13)\" fill=\"#ffffff\"><use xlink:href=\"#DejaVuSans-30\"/></g></g><g clip-path=\"url(#p6ae6b05f56)\"><g transform=\"translate(174.69 186.93) scale(.13 -.13)\" fill=\"#ffffff\"><use xlink:href=\"#DejaVuSans-31\"/></g></g><g clip-path=\"url(#p6ae6b05f56)\"><g transform=\"translate(183.33 140.28) scale(.13 -.13)\" fill=\"#ffffff\"><defs><path id=\"DejaVuSans-37\" transform=\"scale(.015625)\" d=\"m525 4666h3e3v-269l-1694-4397h-659l1594 4134h-2241v532z\"/></defs><use xlink:href=\"#DejaVuSans-73\"/><use x=\"52.099609\" xlink:href=\"#DejaVuSans-75\"/><use x=\"115.478516\" xlink:href=\"#DejaVuSans-34\"/><use x=\"179.101562\" xlink:href=\"#DejaVuSans-5f\"/><use x=\"229.101562\" xlink:href=\"#DejaVuSans-37\"/><use x=\"292.724609\" xlink:href=\"#DejaVuSans-30\"/><use x=\"356.347656\" xlink:href=\"#DejaVuSans-33\"/></g></g><g clip-path=\"url(#p6ae6b05f56)\"><g transform=\"translate(271.74 94.224) scale(.13 -.13)\" fill=\"#ffffff\"><use xlink:href=\"#DejaVuSans-30\"/></g></g><g clip-path=\"url(#p6ae6b05f56)\"><g transform=\"translate(271.74 140.58) scale(.13 -.13)\" fill=\"#ffffff\"><use xlink:href=\"#DejaVuSans-31\"/></g></g><g clip-path=\"url(#p6ae6b05f56)\"><g transform=\"translate(280.17 117.11) scale(.13 -.13)\" fill=\"#ffffff\"><defs><path id=\"DejaVuSans-39\" transform=\"scale(.015625)\" d=\"m703 97v575q238-113 481-172 244-59 479-59 625 0 954 420 330 420 377 1277-181-269-460-413-278-144-615-144-700 0-1108 423-408 424-408 1159 0 718 425 1152 425 435 1131 435 810 0 1236-621 427-620 427-1801 0-1103-524-1761-523-658-1407-658-238 0-482 47-243 47-506 141zm1256 1978q425 0 673 290 249 291 249 798 0 503-249 795-248 292-673 292t-673-292-248-795q0-507 248-798 248-290 673-290z\"/></defs><use xlink:href=\"#DejaVuSans-73\"/><use x=\"52.099609\" xlink:href=\"#DejaVuSans-75\"/><use x=\"115.478516\" xlink:href=\"#DejaVuSans-34\"/><use x=\"179.101562\" xlink:href=\"#DejaVuSans-5f\"/><use x=\"229.101562\" xlink:href=\"#DejaVuSans-32\"/><use x=\"292.724609\" xlink:href=\"#DejaVuSans-39\"/></g></g><g clip-path=\"url(#p6ae6b05f56)\"><g transform=\"translate(360.06 186.93) scale(.13 -.13)\" fill=\"#ffffff\"><use xlink:href=\"#DejaVuSans-30\"/></g></g><g clip-path=\"url(#p6ae6b05f56)\"><g transform=\"translate(360.06 47.87) scale(.13 -.13)\" fill=\"#ffffff\"><use xlink:href=\"#DejaVuSans-31\"/></g></g><g clip-path=\"url(#p6ae6b05f56)\"><g transform=\"translate(368.74 117.11) scale(.13 -.13)\" fill=\"#ffffff\"><defs><path id=\"DejaVuSans-36\" transform=\"scale(.015625)\" d=\"m2113 2584q-425 0-674-291-248-290-248-796 0-503 248-796 249-292 674-292t673 292q248 293 248 796 0 506-248 796-248 291-673 291zm1253 1979v-575q-238 112-480 171-242 60-480 60-625 0-955-422-329-422-376-1275 184 272 462 417 279 145 613 145 703 0 1111-427 408-426 408-1160 0-719-425-1154-425-434-1131-434-810 0-1238 620-428 621-428 1799 0 1106 525 1764t1409 658q238 0 480-47t505-140z\"/></defs><use xlink:href=\"#DejaVuSans-73\"/><use x=\"52.099609\" xlink:href=\"#DejaVuSans-75\"/><use x=\"115.478516\" xlink:href=\"#DejaVuSans-34\"/><use x=\"179.101562\" xlink:href=\"#DejaVuSans-5f\"/><use x=\"229.101562\" xlink:href=\"#DejaVuSans-32\"/><use x=\"292.724609\" xlink:href=\"#DejaVuSans-36\"/><use x=\"356.347656\" xlink:href=\"#DejaVuSans-32\"/></g></g><g clip-path=\"url(#p6ae6b05f56)\"><g transform=\"translate(452.81 47.87) scale(.13 -.13)\" fill=\"#ffffff\"><use xlink:href=\"#DejaVuSans-30\"/></g></g><g clip-path=\"url(#p6ae6b05f56)\"><g transform=\"translate(452.81 94.224) scale(.13 -.13)\" fill=\"#ffffff\"><use xlink:href=\"#DejaVuSans-31\"/></g></g><g clip-path=\"url(#p6ae6b05f56)\"><g transform=\"translate(461.45 70.752) scale(.13 -.13)\" fill=\"#ffffff\"><use xlink:href=\"#DejaVuSans-73\"/><use x=\"52.099609\" xlink:href=\"#DejaVuSans-75\"/><use x=\"115.478516\" xlink:href=\"#DejaVuSans-34\"/><use x=\"179.101562\" xlink:href=\"#DejaVuSans-5f\"/><use x=\"229.101562\" xlink:href=\"#DejaVuSans-37\"/><use x=\"292.724609\" xlink:href=\"#DejaVuSans-34\"/><use x=\"356.347656\" xlink:href=\"#DejaVuSans-30\"/></g></g><g clip-path=\"url(#p6ae6b05f56)\"><g transform=\"translate(452.76 186.93) scale(.13 -.13)\" fill=\"#ffffff\"><use xlink:href=\"#DejaVuSans-30\"/></g></g><g clip-path=\"url(#p6ae6b05f56)\"><g transform=\"translate(452.76 140.58) scale(.13 -.13)\" fill=\"#ffffff\"><use xlink:href=\"#DejaVuSans-31\"/></g></g><g clip-path=\"url(#p6ae6b05f56)\"><g transform=\"translate(461.45 163.39) scale(.13 -.13)\" fill=\"#ffffff\"><use xlink:href=\"#DejaVuSans-73\"/><use x=\"52.099609\" xlink:href=\"#DejaVuSans-75\"/><use x=\"115.478516\" xlink:href=\"#DejaVuSans-34\"/><use x=\"179.101562\" xlink:href=\"#DejaVuSans-5f\"/><use x=\"229.101562\" xlink:href=\"#DejaVuSans-37\"/><use x=\"292.724609\" xlink:href=\"#DejaVuSans-31\"/><use x=\"356.347656\" xlink:href=\"#DejaVuSans-34\"/></g></g><g clip-path=\"url(#p6ae6b05f56)\"><g transform=\"translate(545.47 47.87) scale(.13 -.13)\" fill=\"#ffffff\"><use xlink:href=\"#DejaVuSans-30\"/></g></g><g clip-path=\"url(#p6ae6b05f56)\"><g transform=\"translate(545.47 94.224) scale(.13 -.13)\" fill=\"#ffffff\"><use xlink:href=\"#DejaVuSans-31\"/></g></g><g clip-path=\"url(#p6ae6b05f56)\"><g transform=\"translate(554.16 70.752) scale(.13 -.13)\" fill=\"#ffffff\"><defs><path id=\"DejaVuSans-38\" transform=\"scale(.015625)\" d=\"m2034 2216q-450 0-708-241-257-241-257-662 0-422 257-663 258-241 708-241t709 242q260 243 260 662 0 421-258 662-257 241-711 241zm-631 268q-406 100-633 378-226 279-226 679 0 559 398 884 399 325 1092 325 697 0 1094-325t397-884q0-400-227-679-226-278-629-378 456-106 710-416 255-309 255-755 0-679-414-1042-414-362-1186-362-771 0-1186 362-414 363-414 1042 0 446 256 755 257 310 713 416zm-231 997q0-362 226-565 227-203 636-203 407 0 636 203 230 203 230 565 0 363-230 566-229 203-636 203-409 0-636-203-226-203-226-566z\"/></defs><use xlink:href=\"#DejaVuSans-73\"/><use x=\"52.099609\" xlink:href=\"#DejaVuSans-75\"/><use x=\"115.478516\" xlink:href=\"#DejaVuSans-34\"/><use x=\"179.101562\" xlink:href=\"#DejaVuSans-5f\"/><use x=\"229.101562\" xlink:href=\"#DejaVuSans-39\"/><use x=\"292.724609\" xlink:href=\"#DejaVuSans-37\"/><use x=\"356.347656\" xlink:href=\"#DejaVuSans-38\"/></g></g><g clip-path=\"url(#p6ae6b05f56)\"><g transform=\"translate(545.52 186.93) scale(.13 -.13)\" fill=\"#ffffff\"><use xlink:href=\"#DejaVuSans-30\"/></g></g><g clip-path=\"url(#p6ae6b05f56)\"><g transform=\"translate(545.52 140.58) scale(.13 -.13)\" fill=\"#ffffff\"><use xlink:href=\"#DejaVuSans-31\"/></g></g><g clip-path=\"url(#p6ae6b05f56)\"><g transform=\"translate(554.16 163.46) scale(.13 -.13)\" fill=\"#ffffff\"><use xlink:href=\"#DejaVuSans-73\"/><use x=\"52.099609\" xlink:href=\"#DejaVuSans-75\"/><use x=\"115.478516\" xlink:href=\"#DejaVuSans-34\"/><use x=\"179.101562\" xlink:href=\"#DejaVuSans-5f\"/><use x=\"229.101562\" xlink:href=\"#DejaVuSans-39\"/><use x=\"292.724609\" xlink:href=\"#DejaVuSans-38\"/><use x=\"356.347656\" xlink:href=\"#DejaVuSans-36\"/></g></g><defs><clipPath id=\"p6ae6b05f56\"><rect x=\"7.2\" y=\"7.2\" width=\"622.93\" height=\"203.96\"/></clipPath></defs></svg>"
      ],
      "text/plain": [
       "<Figure size 1123.61x367.889 with 1 Axes>"
      ]
     },
     "execution_count": 5,
     "metadata": {},
     "output_type": "execute_result"
    }
   ],
   "source": [
    "from qiskit.circuit.library import QuantumVolume as QuantumVolumeCircuit\n",
    "qv_circuit = QuantumVolumeCircuit(4)\n",
    "qv_circuit.decompose().draw()  # .decompose() unrolls the circuit one level"
   ]
  },
  {
   "cell_type": "markdown",
   "metadata": {},
   "source": [
    "## Running the circuit\n",
    "\n",
    "So how do we know if the quantum circuit is being run correctly? The quantum volume protocol is run on a perfect simulator as well as the quantum device we’re testing. We can then compare the simulated results (what the quantum computer _should_ do) to the experimental results (what the quantum computer _actually does_).\n",
    "\n",
    "![quantum volume circuit](images/qv_device_v_sim.png)"
   ]
  },
  {
   "cell_type": "markdown",
   "metadata": {},
   "source": [
    "## What would an ideal quantum computer do?\n",
    "\n",
    "Each circuit has an ideal output distribution. This distribution is what we’d see if we ran the circuit on a perfect quantum computer, as the number of shots approaches infinity. We can calculate this ideal distribution for small circuits using Qiskit's `Statevector` class. Let’s try this on the four-qubit circuit we created above:"
   ]
  },
  {
   "cell_type": "code",
   "execution_count": 6,
   "metadata": {},
   "outputs": [
    {
     "data": {
      "image/svg+xml": [
       "<?xml version=\"1.0\" encoding=\"UTF-8\"?><!DOCTYPE svg  PUBLIC '-//W3C//DTD SVG 1.1//EN'  'http://www.w3.org/Graphics/SVG/1.1/DTD/svg11.dtd'><svg width=\"460.72pt\" height=\"336.72pt\" version=\"1.1\" viewBox=\"0 0 460.72 336.72\" xmlns=\"http://www.w3.org/2000/svg\" xmlns:xlink=\"http://www.w3.org/1999/xlink\"><defs><style type=\"text/css\">*{stroke-linejoin: round; stroke-linecap: butt}</style></defs><path d=\"m0 336.72h460.72v-336.72h-460.72z\" fill=\"#ffffff\"/><path d=\"m62.921 284.4h390.6v-277.2h-390.6z\" fill=\"#ffffff\"/><defs><path id=\"m3a509d0071\" d=\"m0 0v3.5\" stroke=\"#343a3f\" stroke-width=\".8\"/></defs><use x=\"86.403068\" y=\"284.4\" fill=\"#343a3f\" stroke=\"#343a3f\" stroke-width=\".8\" xlink:href=\"#m3a509d0071\"/><g transform=\"translate(83.94 328.52) rotate(-70) scale(.14 -.14)\" fill=\"#343a3f\"><defs><path id=\"DejaVuSans-30\" transform=\"scale(.015625)\" d=\"m2034 4250q-487 0-733-480-245-479-245-1442 0-959 245-1439 246-480 733-480 491 0 736 480 246 480 246 1439 0 963-246 1442-245 480-736 480zm0 500q785 0 1199-621 414-620 414-1801 0-1178-414-1799-414-620-1199-620-784 0-1198 620-414 621-414 1799 0 1181 414 1801 414 621 1198 621z\"/></defs><use xlink:href=\"#DejaVuSans-30\"/><use x=\"63.623047\" xlink:href=\"#DejaVuSans-30\"/><use x=\"127.246094\" xlink:href=\"#DejaVuSans-30\"/><use x=\"190.869141\" xlink:href=\"#DejaVuSans-30\"/></g><use x=\"109.312159\" y=\"284.4\" fill=\"#343a3f\" stroke=\"#343a3f\" stroke-width=\".8\" xlink:href=\"#m3a509d0071\"/><g transform=\"translate(106.85 328.52) rotate(-70) scale(.14 -.14)\" fill=\"#343a3f\"><defs><path id=\"DejaVuSans-31\" transform=\"scale(.015625)\" d=\"m794 531h1031v3560l-1122-225v575l1116 225h631v-4135h1031v-531h-2687v531z\"/></defs><use xlink:href=\"#DejaVuSans-30\"/><use x=\"63.623047\" xlink:href=\"#DejaVuSans-30\"/><use x=\"127.246094\" xlink:href=\"#DejaVuSans-30\"/><use x=\"190.869141\" xlink:href=\"#DejaVuSans-31\"/></g><use x=\"132.22125\" y=\"284.4\" fill=\"#343a3f\" stroke=\"#343a3f\" stroke-width=\".8\" xlink:href=\"#m3a509d0071\"/><g transform=\"translate(129.76 328.52) rotate(-70) scale(.14 -.14)\" fill=\"#343a3f\"><use xlink:href=\"#DejaVuSans-30\"/><use x=\"63.623047\" xlink:href=\"#DejaVuSans-30\"/><use x=\"127.246094\" xlink:href=\"#DejaVuSans-31\"/><use x=\"190.869141\" xlink:href=\"#DejaVuSans-30\"/></g><use x=\"155.130341\" y=\"284.4\" fill=\"#343a3f\" stroke=\"#343a3f\" stroke-width=\".8\" xlink:href=\"#m3a509d0071\"/><g transform=\"translate(152.67 328.52) rotate(-70) scale(.14 -.14)\" fill=\"#343a3f\"><use xlink:href=\"#DejaVuSans-30\"/><use x=\"63.623047\" xlink:href=\"#DejaVuSans-30\"/><use x=\"127.246094\" xlink:href=\"#DejaVuSans-31\"/><use x=\"190.869141\" xlink:href=\"#DejaVuSans-31\"/></g><use x=\"178.039432\" y=\"284.4\" fill=\"#343a3f\" stroke=\"#343a3f\" stroke-width=\".8\" xlink:href=\"#m3a509d0071\"/><g transform=\"translate(175.58 328.52) rotate(-70) scale(.14 -.14)\" fill=\"#343a3f\"><use xlink:href=\"#DejaVuSans-30\"/><use x=\"63.623047\" xlink:href=\"#DejaVuSans-31\"/><use x=\"127.246094\" xlink:href=\"#DejaVuSans-30\"/><use x=\"190.869141\" xlink:href=\"#DejaVuSans-30\"/></g><use x=\"200.948523\" y=\"284.4\" fill=\"#343a3f\" stroke=\"#343a3f\" stroke-width=\".8\" xlink:href=\"#m3a509d0071\"/><g transform=\"translate(198.49 328.52) rotate(-70) scale(.14 -.14)\" fill=\"#343a3f\"><use xlink:href=\"#DejaVuSans-30\"/><use x=\"63.623047\" xlink:href=\"#DejaVuSans-31\"/><use x=\"127.246094\" xlink:href=\"#DejaVuSans-30\"/><use x=\"190.869141\" xlink:href=\"#DejaVuSans-31\"/></g><use x=\"223.857614\" y=\"284.4\" fill=\"#343a3f\" stroke=\"#343a3f\" stroke-width=\".8\" xlink:href=\"#m3a509d0071\"/><g transform=\"translate(221.39 328.52) rotate(-70) scale(.14 -.14)\" fill=\"#343a3f\"><use xlink:href=\"#DejaVuSans-30\"/><use x=\"63.623047\" xlink:href=\"#DejaVuSans-31\"/><use x=\"127.246094\" xlink:href=\"#DejaVuSans-31\"/><use x=\"190.869141\" xlink:href=\"#DejaVuSans-30\"/></g><use x=\"246.766705\" y=\"284.4\" fill=\"#343a3f\" stroke=\"#343a3f\" stroke-width=\".8\" xlink:href=\"#m3a509d0071\"/><g transform=\"translate(244.3 328.52) rotate(-70) scale(.14 -.14)\" fill=\"#343a3f\"><use xlink:href=\"#DejaVuSans-30\"/><use x=\"63.623047\" xlink:href=\"#DejaVuSans-31\"/><use x=\"127.246094\" xlink:href=\"#DejaVuSans-31\"/><use x=\"190.869141\" xlink:href=\"#DejaVuSans-31\"/></g><use x=\"269.675795\" y=\"284.4\" fill=\"#343a3f\" stroke=\"#343a3f\" stroke-width=\".8\" xlink:href=\"#m3a509d0071\"/><g transform=\"translate(267.21 328.52) rotate(-70) scale(.14 -.14)\" fill=\"#343a3f\"><use xlink:href=\"#DejaVuSans-31\"/><use x=\"63.623047\" xlink:href=\"#DejaVuSans-30\"/><use x=\"127.246094\" xlink:href=\"#DejaVuSans-30\"/><use x=\"190.869141\" xlink:href=\"#DejaVuSans-30\"/></g><use x=\"292.584886\" y=\"284.4\" fill=\"#343a3f\" stroke=\"#343a3f\" stroke-width=\".8\" xlink:href=\"#m3a509d0071\"/><g transform=\"translate(290.12 328.52) rotate(-70) scale(.14 -.14)\" fill=\"#343a3f\"><use xlink:href=\"#DejaVuSans-31\"/><use x=\"63.623047\" xlink:href=\"#DejaVuSans-30\"/><use x=\"127.246094\" xlink:href=\"#DejaVuSans-30\"/><use x=\"190.869141\" xlink:href=\"#DejaVuSans-31\"/></g><use x=\"315.493977\" y=\"284.4\" fill=\"#343a3f\" stroke=\"#343a3f\" stroke-width=\".8\" xlink:href=\"#m3a509d0071\"/><g transform=\"translate(313.03 328.52) rotate(-70) scale(.14 -.14)\" fill=\"#343a3f\"><use xlink:href=\"#DejaVuSans-31\"/><use x=\"63.623047\" xlink:href=\"#DejaVuSans-30\"/><use x=\"127.246094\" xlink:href=\"#DejaVuSans-31\"/><use x=\"190.869141\" xlink:href=\"#DejaVuSans-30\"/></g><use x=\"338.403068\" y=\"284.4\" fill=\"#343a3f\" stroke=\"#343a3f\" stroke-width=\".8\" xlink:href=\"#m3a509d0071\"/><g transform=\"translate(335.94 328.52) rotate(-70) scale(.14 -.14)\" fill=\"#343a3f\"><use xlink:href=\"#DejaVuSans-31\"/><use x=\"63.623047\" xlink:href=\"#DejaVuSans-30\"/><use x=\"127.246094\" xlink:href=\"#DejaVuSans-31\"/><use x=\"190.869141\" xlink:href=\"#DejaVuSans-31\"/></g><use x=\"361.312159\" y=\"284.4\" fill=\"#343a3f\" stroke=\"#343a3f\" stroke-width=\".8\" xlink:href=\"#m3a509d0071\"/><g transform=\"translate(358.85 328.52) rotate(-70) scale(.14 -.14)\" fill=\"#343a3f\"><use xlink:href=\"#DejaVuSans-31\"/><use x=\"63.623047\" xlink:href=\"#DejaVuSans-31\"/><use x=\"127.246094\" xlink:href=\"#DejaVuSans-30\"/><use x=\"190.869141\" xlink:href=\"#DejaVuSans-30\"/></g><use x=\"384.22125\" y=\"284.4\" fill=\"#343a3f\" stroke=\"#343a3f\" stroke-width=\".8\" xlink:href=\"#m3a509d0071\"/><g transform=\"translate(381.76 328.52) rotate(-70) scale(.14 -.14)\" fill=\"#343a3f\"><use xlink:href=\"#DejaVuSans-31\"/><use x=\"63.623047\" xlink:href=\"#DejaVuSans-31\"/><use x=\"127.246094\" xlink:href=\"#DejaVuSans-30\"/><use x=\"190.869141\" xlink:href=\"#DejaVuSans-31\"/></g><use x=\"407.130341\" y=\"284.4\" fill=\"#343a3f\" stroke=\"#343a3f\" stroke-width=\".8\" xlink:href=\"#m3a509d0071\"/><g transform=\"translate(404.67 328.52) rotate(-70) scale(.14 -.14)\" fill=\"#343a3f\"><use xlink:href=\"#DejaVuSans-31\"/><use x=\"63.623047\" xlink:href=\"#DejaVuSans-31\"/><use x=\"127.246094\" xlink:href=\"#DejaVuSans-31\"/><use x=\"190.869141\" xlink:href=\"#DejaVuSans-30\"/></g><use x=\"430.039432\" y=\"284.4\" fill=\"#343a3f\" stroke=\"#343a3f\" stroke-width=\".8\" xlink:href=\"#m3a509d0071\"/><g transform=\"translate(427.58 328.52) rotate(-70) scale(.14 -.14)\" fill=\"#343a3f\"><use xlink:href=\"#DejaVuSans-31\"/><use x=\"63.623047\" xlink:href=\"#DejaVuSans-31\"/><use x=\"127.246094\" xlink:href=\"#DejaVuSans-31\"/><use x=\"190.869141\" xlink:href=\"#DejaVuSans-31\"/></g><path d=\"m62.921 284.4h390.6\" clip-path=\"url(#p37eb831723)\" fill=\"none\" stroke=\"#dde1e6\" stroke-dasharray=\"2.96,1.28\" stroke-width=\".8\"/><defs><path id=\"mf9c21636f8\" d=\"m0 0h-3.5\" stroke=\"#343a3f\" stroke-width=\".8\"/></defs><use x=\"62.92125\" y=\"284.4\" fill=\"#343a3f\" stroke=\"#343a3f\" stroke-width=\".8\" xlink:href=\"#mf9c21636f8\"/><g transform=\"translate(24.749 289.72) scale(.14 -.14)\" fill=\"#343a3f\"><defs><path id=\"DejaVuSans-2e\" transform=\"scale(.015625)\" d=\"m684 794h660v-794h-660v794z\"/></defs><use xlink:href=\"#DejaVuSans-30\"/><use x=\"63.623047\" xlink:href=\"#DejaVuSans-2e\"/><use x=\"95.410156\" xlink:href=\"#DejaVuSans-30\"/><use x=\"159.033203\" xlink:href=\"#DejaVuSans-30\"/></g><path d=\"m62.921 227.94h390.6\" clip-path=\"url(#p37eb831723)\" fill=\"none\" stroke=\"#dde1e6\" stroke-dasharray=\"2.96,1.28\" stroke-width=\".8\"/><use x=\"62.92125\" y=\"227.937465\" fill=\"#343a3f\" stroke=\"#343a3f\" stroke-width=\".8\" xlink:href=\"#mf9c21636f8\"/><g transform=\"translate(24.749 233.26) scale(.14 -.14)\" fill=\"#343a3f\"><defs><path id=\"DejaVuSans-35\" transform=\"scale(.015625)\" d=\"m691 4666h2478v-532h-1900v-1143q137 47 274 70 138 23 276 23 781 0 1237-428 457-428 457-1159 0-753-469-1171-469-417-1322-417-294 0-599 50-304 50-629 150v635q281-153 581-228t634-75q541 0 856 284 316 284 316 772 0 487-316 771-315 285-856 285-253 0-505-56-251-56-513-175v2344z\"/></defs><use xlink:href=\"#DejaVuSans-30\"/><use x=\"63.623047\" xlink:href=\"#DejaVuSans-2e\"/><use x=\"95.410156\" xlink:href=\"#DejaVuSans-30\"/><use x=\"159.033203\" xlink:href=\"#DejaVuSans-35\"/></g><path d=\"m62.921 171.47h390.6\" clip-path=\"url(#p37eb831723)\" fill=\"none\" stroke=\"#dde1e6\" stroke-dasharray=\"2.96,1.28\" stroke-width=\".8\"/><use x=\"62.92125\" y=\"171.47493\" fill=\"#343a3f\" stroke=\"#343a3f\" stroke-width=\".8\" xlink:href=\"#mf9c21636f8\"/><g transform=\"translate(24.749 176.79) scale(.14 -.14)\" fill=\"#343a3f\"><use xlink:href=\"#DejaVuSans-30\"/><use x=\"63.623047\" xlink:href=\"#DejaVuSans-2e\"/><use x=\"95.410156\" xlink:href=\"#DejaVuSans-31\"/><use x=\"159.033203\" xlink:href=\"#DejaVuSans-30\"/></g><path d=\"m62.921 115.01h390.6\" clip-path=\"url(#p37eb831723)\" fill=\"none\" stroke=\"#dde1e6\" stroke-dasharray=\"2.96,1.28\" stroke-width=\".8\"/><use x=\"62.92125\" y=\"115.012395\" fill=\"#343a3f\" stroke=\"#343a3f\" stroke-width=\".8\" xlink:href=\"#mf9c21636f8\"/><g transform=\"translate(24.749 120.33) scale(.14 -.14)\" fill=\"#343a3f\"><use xlink:href=\"#DejaVuSans-30\"/><use x=\"63.623047\" xlink:href=\"#DejaVuSans-2e\"/><use x=\"95.410156\" xlink:href=\"#DejaVuSans-31\"/><use x=\"159.033203\" xlink:href=\"#DejaVuSans-35\"/></g><path d=\"m62.921 58.55h390.6\" clip-path=\"url(#p37eb831723)\" fill=\"none\" stroke=\"#dde1e6\" stroke-dasharray=\"2.96,1.28\" stroke-width=\".8\"/><use x=\"62.92125\" y=\"58.54986\" fill=\"#343a3f\" stroke=\"#343a3f\" stroke-width=\".8\" xlink:href=\"#mf9c21636f8\"/><g transform=\"translate(24.749 63.869) scale(.14 -.14)\" fill=\"#343a3f\"><defs><path id=\"DejaVuSans-32\" transform=\"scale(.015625)\" d=\"m1228 531h2203v-531h-2962v531q359 372 979 998 621 627 780 809 303 340 423 576 121 236 121 464 0 372-261 606-261 235-680 235-297 0-627-103-329-103-704-313v638q381 153 712 231 332 78 607 78 725 0 1156-363 431-362 431-968 0-288-108-546-107-257-392-607-78-91-497-524-418-433-1181-1211z\"/></defs><use xlink:href=\"#DejaVuSans-30\"/><use x=\"63.623047\" xlink:href=\"#DejaVuSans-2e\"/><use x=\"95.410156\" xlink:href=\"#DejaVuSans-32\"/><use x=\"159.033203\" xlink:href=\"#DejaVuSans-30\"/></g><g transform=\"translate(17.838 205.5) rotate(-90) scale(.14 -.14)\" fill=\"#343a3f\"><defs><path id=\"DejaVuSans-51\" transform=\"scale(.015625)\" d=\"m2522 4238q-688 0-1093-513-404-512-404-1397 0-881 404-1394 405-512 1093-512 687 0 1089 512 402 513 402 1394 0 885-402 1397-402 513-1089 513zm884-4154 832-909h-763l-691 747q-103-6-158-9-54-4-104-4-984 0-1574 658-589 658-589 1761 0 1106 589 1764 590 658 1574 658 981 0 1568-658 588-658 588-1764 0-812-327-1391-326-578-945-853z\"/><path id=\"DejaVuSans-75\" transform=\"scale(.015625)\" d=\"m544 1381v2119h575v-2097q0-497 193-746 194-248 582-248 465 0 735 297 271 297 271 810v1984h575v-3500h-575v538q-209-319-486-474-276-155-642-155-603 0-916 375-312 375-312 1097zm1447 2203z\"/><path id=\"DejaVuSans-61\" transform=\"scale(.015625)\" d=\"m2194 1759q-697 0-966-159t-269-544q0-306 202-486 202-179 548-179 479 0 768 339t289 901v128h-572zm1147 238v-1997h-575v531q-197-318-491-470t-719-152q-537 0-855 302-317 302-317 808 0 590 395 890 396 300 1180 300h807v57q0 397-261 614t-733 217q-300 0-585-72-284-72-546-216v532q315 122 612 182 297 61 578 61 760 0 1135-394 375-393 375-1193z\"/><path id=\"DejaVuSans-73\" transform=\"scale(.015625)\" d=\"m2834 3397v-544q-243 125-506 187-262 63-544 63-428 0-642-131t-214-394q0-200 153-314t616-217l197-44q612-131 870-370t258-667q0-488-386-773-386-284-1061-284-281 0-586 55t-642 164v594q319-166 628-249 309-82 613-82 406 0 624 139 219 139 219 392 0 234-158 359-157 125-692 241l-200 47q-534 112-772 345-237 233-237 639 0 494 350 762 350 269 994 269 318 0 599-47 282-46 519-140z\"/><path id=\"DejaVuSans-69\" transform=\"scale(.015625)\" d=\"m603 3500h575v-3500h-575v3500zm0 1363h575v-729h-575v729z\"/><path id=\"DejaVuSans-2d\" transform=\"scale(.015625)\" d=\"m313 2009h1684v-512h-1684v512z\"/><path id=\"DejaVuSans-70\" transform=\"scale(.015625)\" d=\"m1159 525v-1856h-578v4831h578v-531q182 312 458 463 277 152 661 152 638 0 1036-506 399-506 399-1331t-399-1332q-398-506-1036-506-384 0-661 152-276 152-458 464zm1957 1222q0 634-261 995t-717 361q-457 0-718-361t-261-995 261-995 718-361q456 0 717 361t261 995z\"/><path id=\"DejaVuSans-72\" transform=\"scale(.015625)\" d=\"m2631 2963q-97 56-211 82-114 27-251 27-488 0-749-317t-261-911v-1844h-578v3500h578v-544q182 319 472 473 291 155 707 155 59 0 131-8 72-7 159-23l3-590z\"/><path id=\"DejaVuSans-6f\" transform=\"scale(.015625)\" d=\"m1959 3097q-462 0-731-361t-269-989 267-989q268-361 733-361 460 0 728 362 269 363 269 988 0 622-269 986-268 364-728 364zm0 487q750 0 1178-488 429-487 429-1349 0-859-429-1349-428-489-1178-489-753 0-1180 489-426 490-426 1349 0 862 426 1349 427 488 1180 488z\"/><path id=\"DejaVuSans-62\" transform=\"scale(.015625)\" d=\"m3116 1747q0 634-261 995t-717 361q-457 0-718-361t-261-995 261-995 718-361q456 0 717 361t261 995zm-1957 1222q182 312 458 463 277 152 661 152 638 0 1036-506 399-506 399-1331t-399-1332q-398-506-1036-506-384 0-661 152-276 152-458 464v-525h-578v4863h578v-1894z\"/><path id=\"DejaVuSans-6c\" transform=\"scale(.015625)\" d=\"m603 4863h575v-4863h-575v4863z\"/><path id=\"DejaVuSans-74\" transform=\"scale(.015625)\" d=\"m1172 4494v-994h1184v-447h-1184v-1900q0-428 117-550t477-122h590v-481h-590q-666 0-919 248-253 249-253 905v1900h-422v447h422v994h578z\"/><path id=\"DejaVuSans-79\" transform=\"scale(.015625)\" d=\"m2059-325q-243-625-475-815-231-191-618-191h-460v481h338q237 0 368 113 132 112 291 531l103 262-1415 3444h609l1094-2737 1094 2737h609l-1538-3825z\"/></defs><use xlink:href=\"#DejaVuSans-51\"/><use x=\"78.710938\" xlink:href=\"#DejaVuSans-75\"/><use x=\"142.089844\" xlink:href=\"#DejaVuSans-61\"/><use x=\"203.369141\" xlink:href=\"#DejaVuSans-73\"/><use x=\"255.46875\" xlink:href=\"#DejaVuSans-69\"/><use x=\"283.251953\" xlink:href=\"#DejaVuSans-2d\"/><use x=\"319.335938\" xlink:href=\"#DejaVuSans-70\"/><use x=\"382.8125\" xlink:href=\"#DejaVuSans-72\"/><use x=\"421.675781\" xlink:href=\"#DejaVuSans-6f\"/><use x=\"482.857422\" xlink:href=\"#DejaVuSans-62\"/><use x=\"546.333984\" xlink:href=\"#DejaVuSans-61\"/><use x=\"607.613281\" xlink:href=\"#DejaVuSans-62\"/><use x=\"671.089844\" xlink:href=\"#DejaVuSans-69\"/><use x=\"698.873047\" xlink:href=\"#DejaVuSans-6c\"/><use x=\"726.65625\" xlink:href=\"#DejaVuSans-69\"/><use x=\"754.439453\" xlink:href=\"#DejaVuSans-74\"/><use x=\"793.648438\" xlink:href=\"#DejaVuSans-79\"/></g><path d=\"m80.676 284.4h11.455v-74.779h-11.455z\" clip-path=\"url(#p37eb831723)\" fill=\"#648fff\"/><path d=\"m103.58 284.4h11.455v-52.05h-11.455z\" clip-path=\"url(#p37eb831723)\" fill=\"#648fff\"/><path d=\"m126.49 284.4h11.455v-71.709h-11.455z\" clip-path=\"url(#p37eb831723)\" fill=\"#648fff\"/><path d=\"m149.4 284.4h11.455v-73.094h-11.455z\" clip-path=\"url(#p37eb831723)\" fill=\"#648fff\"/><path d=\"m172.31 284.4h11.455v-12.864h-11.455z\" clip-path=\"url(#p37eb831723)\" fill=\"#648fff\"/><path d=\"m195.22 284.4h11.455v-62.809h-11.455z\" clip-path=\"url(#p37eb831723)\" fill=\"#648fff\"/><path d=\"m218.13 284.4h11.455v-21.347h-11.455z\" clip-path=\"url(#p37eb831723)\" fill=\"#648fff\"/><path d=\"m241.04 284.4h11.455v-104.6h-11.455z\" clip-path=\"url(#p37eb831723)\" fill=\"#648fff\"/><path d=\"m263.95 284.4h11.455v-64.283h-11.455z\" clip-path=\"url(#p37eb831723)\" fill=\"#648fff\"/><path d=\"m286.86 284.4h11.455v-72.274h-11.455z\" clip-path=\"url(#p37eb831723)\" fill=\"#648fff\"/><path d=\"m309.77 284.4h11.455v-79.593h-11.455z\" clip-path=\"url(#p37eb831723)\" fill=\"#648fff\"/><path d=\"m332.68 284.4h11.455v-35.962h-11.455z\" clip-path=\"url(#p37eb831723)\" fill=\"#648fff\"/><path d=\"m355.58 284.4h11.455v-252h-11.455z\" clip-path=\"url(#p37eb831723)\" fill=\"#648fff\"/><path d=\"m378.49 284.4h11.455v-25.419h-11.455z\" clip-path=\"url(#p37eb831723)\" fill=\"#648fff\"/><path d=\"m401.4 284.4h11.455v-105.17h-11.455z\" clip-path=\"url(#p37eb831723)\" fill=\"#648fff\"/><path d=\"m424.31 284.4h11.455v-21.299h-11.455z\" clip-path=\"url(#p37eb831723)\" fill=\"#648fff\"/><path d=\"m62.921 284.4v-277.2\" fill=\"none\" stroke=\"#343a3f\" stroke-linecap=\"square\" stroke-width=\".8\"/><path d=\"m62.921 284.4h390.6\" fill=\"none\" stroke=\"#343a3f\" stroke-linecap=\"square\" stroke-width=\".8\"/><g transform=\"translate(72.089 204.06) scale(.1 -.1)\" fill=\"#343a3f\"><defs><path id=\"DejaVuSans-36\" transform=\"scale(.015625)\" d=\"m2113 2584q-425 0-674-291-248-290-248-796 0-503 248-796 249-292 674-292t673 292q248 293 248 796 0 506-248 796-248 291-673 291zm1253 1979v-575q-238 112-480 171-242 60-480 60-625 0-955-422-329-422-376-1275 184 272 462 417 279 145 613 145 703 0 1111-427 408-426 408-1160 0-719-425-1154-425-434-1131-434-810 0-1238 620-428 621-428 1799 0 1106 525 1764t1409 658q238 0 480-47t505-140z\"/></defs><use xlink:href=\"#DejaVuSans-30\"/><use x=\"63.623047\" xlink:href=\"#DejaVuSans-2e\"/><use x=\"95.410156\" xlink:href=\"#DejaVuSans-30\"/><use x=\"159.033203\" xlink:href=\"#DejaVuSans-36\"/><use x=\"222.65625\" xlink:href=\"#DejaVuSans-36\"/></g><g transform=\"translate(94.998 227.78) scale(.1 -.1)\" fill=\"#343a3f\"><defs><path id=\"DejaVuSans-34\" transform=\"scale(.015625)\" d=\"m2419 4116-1594-2491h1594v2491zm-166 550h794v-3041h666v-525h-666v-1100h-628v1100h-2106v609l1940 2957z\"/></defs><use xlink:href=\"#DejaVuSans-30\"/><use x=\"63.623047\" xlink:href=\"#DejaVuSans-2e\"/><use x=\"95.410156\" xlink:href=\"#DejaVuSans-30\"/><use x=\"159.033203\" xlink:href=\"#DejaVuSans-34\"/><use x=\"222.65625\" xlink:href=\"#DejaVuSans-36\"/></g><g transform=\"translate(117.91 206.43) scale(.1 -.1)\" fill=\"#343a3f\"><use xlink:href=\"#DejaVuSans-30\"/><use x=\"63.623047\" xlink:href=\"#DejaVuSans-2e\"/><use x=\"95.410156\" xlink:href=\"#DejaVuSans-30\"/><use x=\"159.033203\" xlink:href=\"#DejaVuSans-36\"/><use x=\"222.65625\" xlink:href=\"#DejaVuSans-34\"/></g><g transform=\"translate(140.82 205.25) scale(.1 -.1)\" fill=\"#343a3f\"><use xlink:href=\"#DejaVuSans-30\"/><use x=\"63.623047\" xlink:href=\"#DejaVuSans-2e\"/><use x=\"95.410156\" xlink:href=\"#DejaVuSans-30\"/><use x=\"159.033203\" xlink:href=\"#DejaVuSans-36\"/><use x=\"222.65625\" xlink:href=\"#DejaVuSans-35\"/></g><g transform=\"translate(163.73 269.28) scale(.1 -.1)\" fill=\"#343a3f\"><use xlink:href=\"#DejaVuSans-30\"/><use x=\"63.623047\" xlink:href=\"#DejaVuSans-2e\"/><use x=\"95.410156\" xlink:href=\"#DejaVuSans-30\"/><use x=\"159.033203\" xlink:href=\"#DejaVuSans-31\"/><use x=\"222.65625\" xlink:href=\"#DejaVuSans-31\"/></g><g transform=\"translate(186.63 215.92) scale(.1 -.1)\" fill=\"#343a3f\"><use xlink:href=\"#DejaVuSans-30\"/><use x=\"63.623047\" xlink:href=\"#DejaVuSans-2e\"/><use x=\"95.410156\" xlink:href=\"#DejaVuSans-30\"/><use x=\"159.033203\" xlink:href=\"#DejaVuSans-35\"/><use x=\"222.65625\" xlink:href=\"#DejaVuSans-36\"/></g><g transform=\"translate(209.54 259.79) scale(.1 -.1)\" fill=\"#343a3f\"><defs><path id=\"DejaVuSans-39\" transform=\"scale(.015625)\" d=\"m703 97v575q238-113 481-172 244-59 479-59 625 0 954 420 330 420 377 1277-181-269-460-413-278-144-615-144-700 0-1108 423-408 424-408 1159 0 718 425 1152 425 435 1131 435 810 0 1236-621 427-620 427-1801 0-1103-524-1761-523-658-1407-658-238 0-482 47-243 47-506 141zm1256 1978q425 0 673 290 249 291 249 798 0 503-249 795-248 292-673 292t-673-292-248-795q0-507 248-798 248-290 673-290z\"/></defs><use xlink:href=\"#DejaVuSans-30\"/><use x=\"63.623047\" xlink:href=\"#DejaVuSans-2e\"/><use x=\"95.410156\" xlink:href=\"#DejaVuSans-30\"/><use x=\"159.033203\" xlink:href=\"#DejaVuSans-31\"/><use x=\"222.65625\" xlink:href=\"#DejaVuSans-39\"/></g><g transform=\"translate(232.45 172.05) scale(.1 -.1)\" fill=\"#343a3f\"><defs><path id=\"DejaVuSans-33\" transform=\"scale(.015625)\" d=\"m2597 2516q453-97 707-404 255-306 255-756 0-690-475-1069-475-378-1350-378-293 0-604 58t-642 174v609q262-153 574-231 313-78 654-78 593 0 904 234t311 681q0 413-289 645-289 233-804 233h-544v519h569q465 0 712 186t247 536q0 359-255 551-254 193-729 193-260 0-557-57-297-56-653-174v562q360 100 674 150t592 50q719 0 1137-327 419-326 419-882 0-388-222-655t-631-370z\"/></defs><use xlink:href=\"#DejaVuSans-30\"/><use x=\"63.623047\" xlink:href=\"#DejaVuSans-2e\"/><use x=\"95.410156\" xlink:href=\"#DejaVuSans-30\"/><use x=\"159.033203\" xlink:href=\"#DejaVuSans-39\"/><use x=\"222.65625\" xlink:href=\"#DejaVuSans-33\"/></g><g transform=\"translate(255.36 214.73) scale(.1 -.1)\" fill=\"#343a3f\"><defs><path id=\"DejaVuSans-37\" transform=\"scale(.015625)\" d=\"m525 4666h3e3v-269l-1694-4397h-659l1594 4134h-2241v532z\"/></defs><use xlink:href=\"#DejaVuSans-30\"/><use x=\"63.623047\" xlink:href=\"#DejaVuSans-2e\"/><use x=\"95.410156\" xlink:href=\"#DejaVuSans-30\"/><use x=\"159.033203\" xlink:href=\"#DejaVuSans-35\"/><use x=\"222.65625\" xlink:href=\"#DejaVuSans-37\"/></g><g transform=\"translate(278.27 206.43) scale(.1 -.1)\" fill=\"#343a3f\"><use xlink:href=\"#DejaVuSans-30\"/><use x=\"63.623047\" xlink:href=\"#DejaVuSans-2e\"/><use x=\"95.410156\" xlink:href=\"#DejaVuSans-30\"/><use x=\"159.033203\" xlink:href=\"#DejaVuSans-36\"/><use x=\"222.65625\" xlink:href=\"#DejaVuSans-34\"/></g><g transform=\"translate(304.36 199.32) scale(.1 -.1)\" fill=\"#343a3f\"><use xlink:href=\"#DejaVuSans-30\"/><use x=\"63.623047\" xlink:href=\"#DejaVuSans-2e\"/><use x=\"95.410156\" xlink:href=\"#DejaVuSans-30\"/><use x=\"159.033203\" xlink:href=\"#DejaVuSans-37\"/></g><g transform=\"translate(324.09 244.38) scale(.1 -.1)\" fill=\"#343a3f\"><use xlink:href=\"#DejaVuSans-30\"/><use x=\"63.623047\" xlink:href=\"#DejaVuSans-2e\"/><use x=\"95.410156\" xlink:href=\"#DejaVuSans-30\"/><use x=\"159.033203\" xlink:href=\"#DejaVuSans-33\"/><use x=\"222.65625\" xlink:href=\"#DejaVuSans-32\"/></g><g transform=\"translate(347 17.906) scale(.1 -.1)\" fill=\"#343a3f\"><use xlink:href=\"#DejaVuSans-30\"/><use x=\"63.623047\" xlink:href=\"#DejaVuSans-2e\"/><use x=\"95.410156\" xlink:href=\"#DejaVuSans-32\"/><use x=\"159.033203\" xlink:href=\"#DejaVuSans-32\"/><use x=\"222.65625\" xlink:href=\"#DejaVuSans-33\"/></g><g transform=\"translate(369.91 255.05) scale(.1 -.1)\" fill=\"#343a3f\"><use xlink:href=\"#DejaVuSans-30\"/><use x=\"63.623047\" xlink:href=\"#DejaVuSans-2e\"/><use x=\"95.410156\" xlink:href=\"#DejaVuSans-30\"/><use x=\"159.033203\" xlink:href=\"#DejaVuSans-32\"/><use x=\"222.65625\" xlink:href=\"#DejaVuSans-33\"/></g><g transform=\"translate(392.82 172.05) scale(.1 -.1)\" fill=\"#343a3f\"><use xlink:href=\"#DejaVuSans-30\"/><use x=\"63.623047\" xlink:href=\"#DejaVuSans-2e\"/><use x=\"95.410156\" xlink:href=\"#DejaVuSans-30\"/><use x=\"159.033203\" xlink:href=\"#DejaVuSans-39\"/><use x=\"222.65625\" xlink:href=\"#DejaVuSans-33\"/></g><g transform=\"translate(415.73 259.79) scale(.1 -.1)\" fill=\"#343a3f\"><use xlink:href=\"#DejaVuSans-30\"/><use x=\"63.623047\" xlink:href=\"#DejaVuSans-2e\"/><use x=\"95.410156\" xlink:href=\"#DejaVuSans-30\"/><use x=\"159.033203\" xlink:href=\"#DejaVuSans-31\"/><use x=\"222.65625\" xlink:href=\"#DejaVuSans-39\"/></g><defs><clipPath id=\"p37eb831723\"><rect x=\"62.921\" y=\"7.2\" width=\"390.6\" height=\"277.2\"/></clipPath></defs></svg>"
      ],
      "text/plain": [
       "<Figure size 700x500 with 1 Axes>"
      ]
     },
     "execution_count": 6,
     "metadata": {},
     "output_type": "execute_result"
    }
   ],
   "source": [
    "from qiskit.quantum_info import Statevector\n",
    "from qiskit.visualization import plot_histogram\n",
    "ideal_results = Statevector.from_instruction(\n",
    "                                           qv_circuit).probabilities_dict()\n",
    "plot_histogram(ideal_results)"
   ]
  },
  {
   "cell_type": "markdown",
   "metadata": {},
   "source": [
    "The _heavy outputs_ of a circuit are the outputs with probability of occurring greater than the median probability. For any circuit, half the possible outputs are heavy outputs.\n",
    "\n",
    "![computational basis state](images/qv_heavy_outputs.svg)\n",
    "\n",
    "Below is a function, <code>get_heavy_outputs</code>, that extracts the heavy outputs from an experiment’s counts:\n"
   ]
  },
  {
   "cell_type": "code",
   "execution_count": 7,
   "metadata": {},
   "outputs": [
    {
     "name": "stdout",
     "output_type": "stream",
     "text": [
      "['0010', '1001', '0011', '0000', '1010', '0111', '1110', '1100']\n"
     ]
    }
   ],
   "source": [
    "def get_heavy_outputs(counts):\n",
    "    \"\"\"Extract heavy outputs from counts dict.\n",
    "    Args:\n",
    "        counts (dict): Output of `.get_counts()`\n",
    "    Returns:\n",
    "        list: All states with measurement probability greater\n",
    "              than the mean.\n",
    "    \"\"\"\n",
    "    # sort the keys of `counts` by value of counts.get(key)\n",
    "    sorted_counts = sorted(counts.keys(), key=counts.get)\n",
    "    # discard results with probability < median\n",
    "    heavy_outputs = sorted_counts[len(sorted_counts)//2:]\n",
    "    return heavy_outputs\n",
    "\n",
    "print(get_heavy_outputs(ideal_results))"
   ]
  },
  {
   "cell_type": "markdown",
   "metadata": {
    "formulas": {
     "qv_nc": {
      "meaning": "The number of different circuits",
      "say": "N S",
      "type": "Locally defined variable"
     },
     "qv_ncns": {
      "meaning": "Number of unique circuits multiplied by the number of shots for each circuit.",
      "say": "N C N S",
      "type": "Locally defined variable"
     },
     "qv_nh": {
      "meaning": "The total number of heavy output measured.",
      "say": "N H",
      "type": "Locally defined variable"
     },
     "qv_nhnc": {
      "meaning": "The number of heavy outputs measured divided by the number of unique circuits.",
      "say": "NH over NC",
      "type": "Locally defined variable"
     },
     "qv_ns": {
      "meaning": "The number of times we run each circuit.",
      "say": "N S",
      "type": "Locally defined variable"
     },
     "qv_z": {
      "meaning": "Sets the threshold",
      "say": "Z test",
      "type": "Universally used notation"
     }
    }
   },
   "source": [
    "We run each circuit on our device and record the number of outputs that are heavy outputs. \n",
    "To pass the heavy output test, we want the probability of measuring a heavy output to be greater than two-thirds. I.e. over a large enough number of circuits we have:\n",
    "\n",
    "$$\\frac{\\class{qv_nh}{n_h}}{\\class{qv_nc}{n_c}\\class{qv_ns}{n_s}}\\gt{\\frac{2}{3}}$$\n",
    "\n",
    "Where $n_h$ is the number of heavy outputs measured, $n_c$ is the number of circuits we created, and $n_s$ is the number of times we run each circuit (shots). But how do we decide what a “large enough” number of experiments is? Firstly, quantum volume requires at least 100 circuits are run, otherwise the test is invalid. Secondly, an adjusted threshold is used to ensure approximately 97% confidence:\n",
    "\n",
    "$$\\frac{\\class{qv_nh}{n_h} -\\cssId{qv_z}{z}\\sqrt{\\class{qv_nh}{n_h}(\\class{qv_ns}{n_s}-\\cssId{qv_nhnc}{\\frac{n_h}{n_c}})}}{\\class{qv_nc}{n_c}\\class{qv_ns}{n_s}}\\gt\\frac{2}{3}$$\n",
    "\n",
    "Adding the new term (enclosed in the square root) requires a greater heavy output probability to satisfy the inequality, or a greater number of runs. Since the new term grows more slowly than the other terms, for lots of runs this inequality resembles the simpler one shown above. If a quantum volume test satisfies the above inequality, there is at least a 97% chance the heavy output probability is greater than 2/3.\n",
    "\n",
    "Below is a function (<code>check_threshold</code>) that evaluates this inequality:\n"
   ]
  },
  {
   "cell_type": "code",
   "execution_count": 8,
   "metadata": {},
   "outputs": [],
   "source": [
    "def check_threshold(nheavies, ncircuits, nshots):\n",
    "    \"\"\"Evaluate adjusted threshold inequality for quantum volume.\n",
    "    Args:\n",
    "        nheavies (int): Total number of heavy outputs measured from device\n",
    "        ncircuits (int): Number of different square circuits run on device\n",
    "        nshots (int): Number of shots per circuit\n",
    "    Returns:\n",
    "        Bool:\n",
    "            True if heavy output probability is > 2/3 with 97% certainty,\n",
    "            otherwise False\n",
    "    \"\"\"\n",
    "    from numpy import sqrt\n",
    "    numerator = nheavies - 2*sqrt(nheavies*(nshots-(nheavies/ncircuits)))\n",
    "    return bool(numerator/(ncircuits*nshots) > 2/3)"
   ]
  },
  {
   "cell_type": "markdown",
   "metadata": {},
   "source": [
    "<!-- ::: q-block.exercise -->\n",
    "\n",
    "## Exercise\n",
    "    \n",
    "We now have everything we need to check if a quantum device can achieve a specific quantum volume. Below are the steps of an algorithm that checks if a device can achieve a specific quantum volume, try to order them correctly.\n",
    "\n",
    "Algorithm to test if algorithm passes a quantum volume test.\n",
    "    Inputs: <code>d, nc > 100, ns</code>\n",
    "\n",
    "\n",
    "    q-drag-and-drop-code\n",
    "        .line Let nh = 0\n",
    "        .line For nc repetitions do:\n",
    "            .line Let U be a randomly generated d×d quantum circuit\n",
    "            .line Let Hu be a list of U’s heavy outputs\n",
    "            .line For ns repetitions do:\n",
    "                .line Let x be the result of executing U on the device\n",
    "                .line If x is in Hu:\n",
    "                    .line Increase nh by 1\n",
    "        .result-info.md Return evaluation of $\\phantom{a}\\frac{n_h {-} z\\sqrt{n_h({n_s}-{\\frac{n_h}{n_c}})}}{n_cn_s}\\gt\\frac{2}{3}$\n",
    "\n",
    "<!-- ::: -->\n"
   ]
  },
  {
   "cell_type": "markdown",
   "metadata": {},
   "source": [
    "Here is the algorithm as Qiskit code:"
   ]
  },
  {
   "cell_type": "code",
   "execution_count": 9,
   "metadata": {},
   "outputs": [],
   "source": [
    "from qiskit import transpile\n",
    "def test_qv(device, nqubits, ncircuits, nshots):\n",
    "    \"\"\"Try to achieve 2**nqubits quantum volume on device.\n",
    "    Args:\n",
    "        device (qiskit.providers.Backend): Device to test.\n",
    "        nqubits (int): Number of qubits to use for test.\n",
    "        ncircuits (int): Number of different circuits to run on the device.\n",
    "        nshots (int): Number of shots per circuit.\n",
    "    Returns:\n",
    "        Bool\n",
    "            True if device passes test, otherwise False.\n",
    "    \"\"\"\n",
    "    def get_ideal_probabilities(circuit):\n",
    "        \"\"\"Simulates circuit behaviour on a device with no errors.\"\"\"\n",
    "        state_vector = Statevector.from_instruction(\n",
    "                circuit.remove_final_measurements(inplace=False)\n",
    "            )\n",
    "        return state_vector.probabilities_dict()\n",
    "\n",
    "    def get_real_counts(circuit, backend, shots):\n",
    "        \"\"\"Runs circuit on device and returns counts dict.\"\"\"\n",
    "        t_circuit = transpile(circuit, backend)\n",
    "        job = backend.run(t_circuit,\n",
    "                          shots=shots,\n",
    "                          memory=True)\n",
    "        return job.result().get_counts()\n",
    "\n",
    "    # generate set of random circuits\n",
    "    qv_circuits = [\n",
    "        QuantumVolumeCircuit(nqubits) for c in range(ncircuits)\n",
    "    ]\n",
    "\n",
    "    nheavies = 0  # number of measured heavy outputs\n",
    "    for circuit in qv_circuits:\n",
    "        # simulate circuit\n",
    "        ideal_heavy_outputs = get_heavy_outputs(\n",
    "            get_ideal_probabilities(circuit)\n",
    "        )\n",
    "        # run circuit on device\n",
    "        circuit.measure_all()\n",
    "        real_counts = get_real_counts(circuit, device, nshots)\n",
    "        # record whether device result is in the heavy outputs\n",
    "        for output, count in real_counts.items():\n",
    "            if output in ideal_heavy_outputs:\n",
    "                nheavies += count\n",
    "\n",
    "    # do statistical check to see if device passes test\n",
    "    is_pass = check_threshold(nheavies, ncircuits, nshots)\n",
    "    # calculate percentage of measurements that are heavy outputs\n",
    "    percent_heavy_outputs = nheavies*100/(ncircuits * nshots)\n",
    "\n",
    "    print(f\"Quantum Volume: {2**nqubits}\\n\"\n",
    "          f\"Percentage Heavy Outputs: {percent_heavy_outputs:.1f}%\\n\"\n",
    "          f\"Passed?: {is_pass}\\n\")\n",
    "    return is_pass"
   ]
  },
  {
   "cell_type": "markdown",
   "metadata": {
    "gloss": {
     "santiago": {
      "text": "IBM names its quantum systems after cities. Here we are using a simulator that mimics IBM Quantum's Santiago device.",
      "title": "santiago"
     }
    }
   },
   "source": [
    "And an example of using this to see if a simulated [Santiago](gloss:santiago) device can achieve quantum volume 16:"
   ]
  },
  {
   "cell_type": "code",
   "execution_count": 10,
   "metadata": {},
   "outputs": [
    {
     "name": "stdout",
     "output_type": "stream",
     "text": [
      "Quantum Volume: 16\n",
      "Percentage Heavy Outputs: 76.4%\n",
      "Passed?: True\n",
      "\n"
     ]
    },
    {
     "data": {
      "text/plain": [
       "True"
      ]
     },
     "execution_count": 10,
     "metadata": {},
     "output_type": "execute_result"
    }
   ],
   "source": [
    "from qiskit.providers.fake_provider import FakeSantiago\n",
    "santiago = FakeSantiago()\n",
    "test_qv(santiago, 4, ncircuits=150, nshots=50)"
   ]
  },
  {
   "cell_type": "markdown",
   "metadata": {},
   "source": [
    "<!-- ::: q-block.exercise -->\n",
    "\n",
    "## Exercise\n",
    "    \n",
    "What is the maximum quantum volume you can achieve using a simulated Athens device? What affect does changing the list of qubits have? What affect does changing the optimization level have? Can you do anything to improve the score?\n",
    "\n",
    "[Try in IBM Quantum Lab](https://quantum-computing.ibm.com/jupyter)\n",
    "\n",
    "<!-- ::: -->\n"
   ]
  },
  {
   "cell_type": "markdown",
   "metadata": {},
   "source": [
    "## Using Qiskit’s quantum volume tools\n",
    "\n",
    "The `qiskit-experiments` package also includes tools to measure quantum volume. First, we'll set up a fake device (`Boeblingen`) to demonstrate this on."
   ]
  },
  {
   "cell_type": "code",
   "execution_count": 11,
   "metadata": {},
   "outputs": [],
   "source": [
    "from qiskit.providers.fake_provider import FakeBoeblingen\n",
    "boeblingen = FakeBoeblingen()"
   ]
  },
  {
   "cell_type": "markdown",
   "metadata": {},
   "source": [
    "Next, we create a `QuantumVolume` experiment using this device and a subset of its qubits."
   ]
  },
  {
   "cell_type": "code",
   "execution_count": 12,
   "metadata": {},
   "outputs": [],
   "source": [
    "from qiskit_experiments.library import QuantumVolume\n",
    "qv_experiment = QuantumVolume(qubits=[0, 1, 2],\n",
    "                              backend=boeblingen)"
   ]
  },
  {
   "cell_type": "markdown",
   "metadata": {},
   "source": [
    "Finally, we run this experiment and view the results. The method `.analysis_results()` returns a list of different result objects, so we'll iterate through them and print each one."
   ]
  },
  {
   "cell_type": "code",
   "execution_count": 13,
   "metadata": {
    "tags": [
     "ignore-warning"
    ]
   },
   "outputs": [
    {
     "name": "stderr",
     "output_type": "stream",
     "text": [
      "Adding a job from a backend (aer_simulator) that is different than the current backend (fake_boeblingen). The new backend will be used, but service is not changed if one already exists.\n"
     ]
    },
    {
     "name": "stdout",
     "output_type": "stream",
     "text": [
      "AnalysisResult\n",
      "- name: mean_HOP\n",
      "- value: 0.79+/-0.04\n",
      "- quality: good\n",
      "- extra: <4 items>\n",
      "- device_components: ['Q0', 'Q1', 'Q2']\n",
      "- verified: False\n",
      "AnalysisResult\n",
      "- name: quantum_volume\n",
      "- value: 8\n",
      "- quality: good\n",
      "- extra: <4 items>\n",
      "- device_components: ['Q0', 'Q1', 'Q2']\n",
      "- verified: False\n"
     ]
    }
   ],
   "source": [
    "result = qv_experiment.run()\n",
    "for analysis in result.analysis_results():\n",
    "    print(analysis)"
   ]
  },
  {
   "cell_type": "markdown",
   "metadata": {},
   "source": [
    "We can see the device achieved a quantum volume of 8. The result also generates a figure we can access using the code below:"
   ]
  },
  {
   "cell_type": "code",
   "execution_count": 14,
   "metadata": {},
   "outputs": [
    {
     "data": {
      "image/png": "[encoded data removed]",
      "text/plain": [
       "<qiskit_experiments.framework.experiment_data.FigureData at 0x1345dd0d0>"
      ]
     },
     "execution_count": 14,
     "metadata": {},
     "output_type": "execute_result"
    }
   ],
   "source": [
    "result.figure(0)"
   ]
  },
  {
   "cell_type": "markdown",
   "metadata": {},
   "source": [
    "Try increasing the number of qubits in the experiment above; how does Boeblingen perform?\n",
    "\n",
    "It’s easy to imagine that, with a smart selection of qubits and lots of circuits, we could also achieve a quantum volume of 16 on the mock Boeblingen device as IBM has achieved on the real Boeblingen device. To provide another example, below is an image taken from IBM’s demonstration of QV64 on the Montreal device [2].\n",
    "\n",
    "![Quantum volume of 64 measured on IBM Quantum's Montreal device](images/qv_montreal.png)"
   ]
  },
  {
   "cell_type": "markdown",
   "metadata": {},
   "source": [
    "You can read more about how this was achieved in the paper [here](https://arxiv.org/pdf/2008.08571.pdf).\n",
    "\n",
    "## References\n",
    "\n",
    "[1] Andrew W. Cross, Lev S. Bishop, Sarah Sheldon, Paul D. Nation, and Jay M. Gambetta, Validating quantum computers using randomized model circuits, Phys. Rev. A 100, 032328 (2019). https://arxiv.org/pdf/1811.12926\n",
    "\n",
    "[2] Petar Jurcevic et. al. Demonstration of quantum volume 64 on a superconducting quantum computing system\n",
    "https://arxiv.org/pdf/2008.08571.pdf"
   ]
  }
 ],
 "metadata": {
  "kernelspec": {
   "display_name": "Python 3",
   "language": "python",
   "name": "python3"
  },
  "language_info": {
   "codemirror_mode": {
    "name": "ipython",
    "version": 3
   },
   "file_extension": ".py",
   "mimetype": "text/x-python",
   "name": "python",
   "nbconvert_exporter": "python",
   "pygments_lexer": "ipython3",
   "version": "3.9"
  }
 },
 "nbformat": 4,
 "nbformat_minor": 2
}
