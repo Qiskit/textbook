{
 "cells": [
  {
   "cell_type": "markdown",
   "metadata": {
    "tags": [
     "remove_cell"
    ]
   },
   "source": [
    "# Measurement Error Mitigation"
   ]
  },
  {
   "cell_type": "code",
   "execution_count": 1,
   "metadata": {},
   "outputs": [],
   "source": [
    "from qiskit import QuantumCircuit, QuantumRegister, Aer, execute"
   ]
  },
  {
   "cell_type": "markdown",
   "metadata": {},
   "source": [
    "### Introduction\n",
    "\n",
    "The effect of noise is to give us outputs that are not quite correct. The effect of noise that occurs throughout a computation will be quite complex in general, as one would have to consider how each gate transforms the effect of each error.\n",
    "\n",
    "A simpler form of noise is that occurring during final measurement. At this point, the only job remaining in the circuit is to extract a bit string as an output. For an $n$ qubit final measurement, this means extracting one of the $2^n$ possible $n$ bit strings. As a simple model of the noise in this process, we can imagine that the measurement first selects one of these outputs in a perfect and noiseless manner, and then noise subsequently causes this perfect output to be randomly perturbed before it is returned to the user.\n",
    "\n",
    "Given this model, it is very easy to determine exactly what the effects of measurement errors are. We can simply prepare each of the $2^n$ possible basis states, immediately measure them, and see what probability exists for each outcome.\n",
    "\n",
    "As an example, we will first create a simple noise model, which randomly flips each bit in an output with probability $p$."
   ]
  },
  {
   "cell_type": "code",
   "execution_count": 2,
   "metadata": {},
   "outputs": [],
   "source": [
    "from qiskit.providers.aer.noise import NoiseModel\n",
    "from qiskit.providers.aer.noise.errors import pauli_error, depolarizing_error\n",
    "\n",
    "def get_noise(p):\n",
    "    error_meas = pauli_error([('X',p), ('I', 1 - p)])\n",
    "\n",
    "    noise_model = NoiseModel()\n",
    "    noise_model.add_all_qubit_quantum_error(error_meas, \"measure\") # measurement error is applied to measurements\n",
    "        \n",
    "    return noise_model"
   ]
  },
  {
   "cell_type": "markdown",
   "metadata": {},
   "source": [
    "Let's start with an instance of this in which each bit is flipped $1\\%$ of the time."
   ]
  },
  {
   "cell_type": "code",
   "execution_count": 3,
   "metadata": {},
   "outputs": [],
   "source": [
    "noise_model = get_noise(0.01)"
   ]
  },
  {
   "cell_type": "markdown",
   "metadata": {},
   "source": [
    "Now we can test out its effects. Specifically, let's define a two qubit circuit and prepare the states $\\left|00\\right\\rangle$, $\\left|01\\right\\rangle$, $\\left|10\\right\\rangle$ and $\\left|11\\right\\rangle$. Without noise, these would lead to the definite outputs `'00'`, `'01'`, `'10'` and `'11'`, respectively. Let's see what happens with noise. Here, and in the rest of this section, the number of samples taken for each circuit will be `shots=10000`."
   ]
  },
  {
   "cell_type": "code",
   "execution_count": 4,
   "metadata": {},
   "outputs": [
    {
     "name": "stdout",
     "output_type": "stream",
     "text": [
      "00 becomes {'01': 108, '11': 1, '10': 110, '00': 9781}\n",
      "01 becomes {'10': 1, '11': 106, '00': 88, '01': 9805}\n",
      "10 becomes {'01': 2, '00': 90, '11': 86, '10': 9822}\n",
      "11 becomes {'01': 91, '10': 84, '11': 9825}\n"
     ]
    }
   ],
   "source": [
    "for state in ['00','01','10','11']:\n",
    "    qc = QuantumCircuit(2,2)\n",
    "    if state[0]=='1':\n",
    "        qc.x(1)\n",
    "    if state[1]=='1':\n",
    "        qc.x(0)  \n",
    "    qc.measure(qc.qregs[0],qc.cregs[0])\n",
    "    print(state +' becomes',\n",
    "          execute(qc, Aer.get_backend('qasm_simulator'),\n",
    "                  noise_model=noise_model,shots=10000).result().get_counts())"
   ]
  },
  {
   "cell_type": "markdown",
   "metadata": {},
   "source": [
    "Here we find that the correct output is certainly the most dominant. Ones that differ on only a single bit (such as `'01'`, `'10'` in the case that the correct output is `'00'` or `'11'`), occur around $1\\%$ of the time. Those than differ on two bits occur only a handful of times in 10000 samples, if at all.\n",
    "\n",
    "So what about if we ran a circuit with this same noise model, and got a result like the following?\n",
    "\n",
    "`\n",
    "{'10': 98, '11': 4884, '01': 111, '00': 4907}\n",
    "`\n",
    "\n",
    "Here `'01'` and `'10'` occur for around $1\\%$ of all samples. We know from our analysis of the basis states that such a result can be expected when these outcomes should in fact never occur, but instead the result should be something that differs from them by only one bit: `'00'` or `'11'`. When we look at the results for those two outcomes, we can see that they occur with roughly equal probability. We can therefore conclude that the initial state was not simply $\\left|00\\right\\rangle$, or $\\left|11\\right\\rangle$, but an equal superposition of the two. If true, this means that the result should have been something along the lines of.\n",
    "\n",
    "`\n",
    "{'11': 4977, '00': 5023}\n",
    "`\n",
    "\n",
    "Here is a circuit that produces results like this (up to statistical fluctuations)."
   ]
  },
  {
   "cell_type": "code",
   "execution_count": 5,
   "metadata": {},
   "outputs": [
    {
     "name": "stdout",
     "output_type": "stream",
     "text": [
      "{'01': 83, '10': 102, '11': 5006, '00': 4809}\n"
     ]
    }
   ],
   "source": [
    "qc = QuantumCircuit(2,2)\n",
    "qc.h(0)\n",
    "qc.cx(0,1)  \n",
    "qc.measure(qc.qregs[0],qc.cregs[0])\n",
    "print(execute(qc, Aer.get_backend('qasm_simulator'),\n",
    "              noise_model=noise_model,shots=10000).result().get_counts())"
   ]
  },
  {
   "cell_type": "markdown",
   "metadata": {},
   "source": [
    "In this example we first looked at results for each of the definite basis states, and used these results to mitigate the effects of errors for a more general form of state. This is the basic principle behind measurement error mitigation.\n",
    "\n",
    "### Error mitigation in with linear algebra\n",
    "\n",
    "Now we just need to find a way to perform the mitigation algorithmically rather than manually. We will do this by describing the random process using matrices. For this we need to rewrite our counts dictionaries as column vectors. For example, the dictionary `{'10': 96, '11': 1, '01': 95, '00': 9808}` describing would be rewritten as\n",
    "\n",
    "$$\n",
    "C = \n",
    "\\begin{pmatrix}\n",
    "    9808 \\\\\n",
    "    95 \\\\\n",
    "    96 \\\\\n",
    "    1\n",
    "\\end{pmatrix}.\n",
    "$$\n",
    "\n",
    "Here the first element is that for `'00'`, the next is that for `'01'`, and so on.\n",
    "\n",
    "The information gathered from the basis states $\\left|00\\right\\rangle$, $\\left|01\\right\\rangle$, $\\left|10\\right\\rangle$ and $\\left|11\\right\\rangle$ can then be used to define a matrix, which rotates from an ideal set of counts to one affected by measurement noise. This is done by simply taking the counts dictionary for $\\left|00\\right\\rangle$, normalizing it so that all elements sum to one, and then using it as the first column of the matrix. The next column is similarly defined by the counts dictionary obtained for $\\left|01\\right\\rangle$, and so on. \n",
    "\n",
    "There will be statistical variations each time the circuit for each basis state is run. In the following, we will use the data obtained when this section was written, which was as follows.\n",
    "\n",
    "```code\n",
    "00 becomes {'10': 96, '11': 1, '01': 95, '00': 9808}\n",
    "01 becomes {'10': 2, '11': 103, '01': 9788, '00': 107}\n",
    "10 becomes {'10': 9814, '11': 90, '01': 1, '00': 95}\n",
    "11 becomes {'10': 87, '11': 9805, '01': 107, '00': 1}\n",
    "```\n",
    "\n",
    "This gives us the following matrix.\n",
    "\n",
    "$$\n",
    "M = \n",
    "\\begin{pmatrix}\n",
    "    0.9808&0.0107&0.0095&0.0001 \\\\\n",
    "    0.0095&0.9788&0.0001&0.0107 \\\\\n",
    "    0.0096&0.0002&0.9814&0.0087 \\\\\n",
    "    0.0001&0.0103&0.0090&0.9805\n",
    "\\end{pmatrix}\n",
    "$$\n",
    "\n",
    "If we now take the vector describing the perfect results for a given state, applying this matrix gives us a good approximation of the results when measurement noise is present.\n",
    "\n",
    "\n",
    "$$ C_\\text{noisy} = M ~ C_\\text{ideal}$$\n",
    "\n",
    "\n",
    "As an example, let's apply this process for the state $(\\left|00\\right\\rangle+\\left|11\\right\\rangle)/\\sqrt{2}$, \n",
    "\n",
    "$$\n",
    "\\begin{pmatrix}\n",
    "    0.9808&0.0107&0.0095&0.0001 \\\\\n",
    "    0.0095&0.9788&0.0001&0.0107 \\\\\n",
    "    0.0096&0.0002&0.9814&0.0087 \\\\\n",
    "    0.0001&0.0103&0.0090&0.9805\n",
    "\\end{pmatrix}\n",
    "\\begin{pmatrix}\n",
    "    5000 \\\\\n",
    "    0 \\\\\n",
    "    0 \\\\\n",
    "    5000\n",
    "\\end{pmatrix}\n",
    "=\n",
    "\\begin{pmatrix}\n",
    "    4904.5 \\\\\n",
    "    101 \\\\\n",
    "    91.5 \\\\\n",
    "    4903\n",
    "\\end{pmatrix}.\n",
    "$$\n",
    "\n",
    "In code, we can express this as follows."
   ]
  },
  {
   "cell_type": "code",
   "execution_count": 6,
   "metadata": {},
   "outputs": [
    {
     "name": "stdout",
     "output_type": "stream",
     "text": [
      "C_noisy =\n",
      " [[4904.5]\n",
      " [ 101. ]\n",
      " [  91.5]\n",
      " [4903. ]]\n"
     ]
    }
   ],
   "source": [
    "import numpy as np\n",
    "\n",
    "M = [[0.9808,0.0107,0.0095,0.0001],\n",
    "    [0.0095,0.9788,0.0001,0.0107],\n",
    "    [0.0096,0.0002,0.9814,0.0087],\n",
    "    [0.0001,0.0103,0.0090,0.9805]]\n",
    "\n",
    "Cideal = [[5000],\n",
    "          [0],\n",
    "          [0],\n",
    "          [5000]]\n",
    "\n",
    "Cnoisy = np.dot(M, Cideal)\n",
    "print('C_noisy =\\n', Cnoisy)"
   ]
  },
  {
   "cell_type": "markdown",
   "metadata": {},
   "source": [
    "Either way, the resulting counts found in $C_\\text{noisy}$, for measuring the $(\\left|00\\right\\rangle+\\left|11\\right\\rangle)/\\sqrt{2}$ with measurement noise, come out quite close to the actual data we found earlier. So this matrix method is indeed a good way of predicting noisy results given a knowledge of what the results should be.\n",
    "\n",
    "Unfortunately, this is the exact opposite of what we need. Instead of a way to transform ideal counts data into noisy data, we need a way to transform noisy data into ideal data. In linear algebra, we do this for a matrix $M$ by finding the inverse matrix $M^{-1}$,\n",
    "\n",
    "\n",
    "\n",
    "$$C_\\text{ideal} = M^{-1} C_\\text{noisy}.$$\n",
    "\n",
    "\n"
   ]
  },
  {
   "cell_type": "code",
   "execution_count": 7,
   "metadata": {},
   "outputs": [
    {
     "name": "stdout",
     "output_type": "stream",
     "text": [
      "[[ 1.01978044e+00 -1.11470783e-02 -9.87135367e-03  1.05228426e-04]\n",
      " [-9.89772783e-03  1.02188470e+00  9.39504466e-05 -1.11514471e-02]\n",
      " [-9.97422955e-03 -4.05845410e-06  1.01913199e+00 -9.04172099e-03]\n",
      " [ 9.15212840e-05 -1.07335657e-02 -9.35458279e-03  1.02008794e+00]]\n"
     ]
    }
   ],
   "source": [
    "import scipy.linalg as la\n",
    "\n",
    "M = [[0.9808,0.0107,0.0095,0.0001],\n",
    "    [0.0095,0.9788,0.0001,0.0107],\n",
    "    [0.0096,0.0002,0.9814,0.0087],\n",
    "    [0.0001,0.0103,0.0090,0.9805]]\n",
    "\n",
    "Minv = la.inv(M)\n",
    "\n",
    "print(Minv)"
   ]
  },
  {
   "cell_type": "markdown",
   "metadata": {},
   "source": [
    "Applying this inverse to $C_\\text{noisy}$, we can obtain an approximation of the true counts."
   ]
  },
  {
   "cell_type": "code",
   "execution_count": 8,
   "metadata": {},
   "outputs": [
    {
     "name": "stdout",
     "output_type": "stream",
     "text": [
      "C_mitigated =\n",
      " [[5.00000000e+03]\n",
      " [0.00000000e+00]\n",
      " [1.42108547e-14]\n",
      " [5.00000000e+03]]\n"
     ]
    }
   ],
   "source": [
    "Cmitigated = np.dot(Minv, Cnoisy)\n",
    "print('C_mitigated =\\n', Cmitigated)"
   ]
  },
  {
   "cell_type": "markdown",
   "metadata": {},
   "source": [
    "Of course, counts should be integers, and so these values need to be rounded. This gives us a very nice result.\n",
    "$$\n",
    "C_\\text{mitigated} = \n",
    "\\begin{pmatrix}\n",
    "    5000 \\\\\n",
    "    0 \\\\\n",
    "    0 \\\\\n",
    "    5000\n",
    "\\end{pmatrix}\n",
    "$$\n",
    "\n",
    "This is exactly the true result we desire. Our mitigation worked extremely well!"
   ]
  },
  {
   "cell_type": "markdown",
   "metadata": {},
   "source": [
    "### Error mitigation in Qiskit"
   ]
  },
  {
   "cell_type": "code",
   "execution_count": 9,
   "metadata": {},
   "outputs": [],
   "source": [
    "from qiskit.utils.mitigation import complete_meas_cal, CompleteMeasFitter"
   ]
  },
  {
   "cell_type": "markdown",
   "metadata": {},
   "source": [
    "The process of measurement error mitigation can also be done using tools from Qiskit. This handles the collection of data for the basis states, the construction of the matrices and the calculation of the inverse. The latter can be done using the pseudo inverse, as we saw above. However, the default is an even more sophisticated method using least squares fitting.\n",
    "\n",
    "As an example, let's stick with doing error mitigation for a pair of qubits. For this we define a two qubit quantum register, and feed it into the function `complete_meas_cal`."
   ]
  },
  {
   "cell_type": "code",
   "execution_count": 10,
   "metadata": {},
   "outputs": [],
   "source": [
    "qr = QuantumRegister(2)\n",
    "meas_calibs, state_labels = complete_meas_cal(qr=qr, circlabel='mcal')"
   ]
  },
  {
   "cell_type": "markdown",
   "metadata": {},
   "source": [
    "This creates a set of circuits to take measurements for each of the four basis states for two qubits: $\\left|00\\right\\rangle$, $\\left|01\\right\\rangle$, $\\left|10\\right\\rangle$ and $\\left|11\\right\\rangle$."
   ]
  },
  {
   "cell_type": "code",
   "execution_count": 11,
   "metadata": {},
   "outputs": [
    {
     "name": "stdout",
     "output_type": "stream",
     "text": [
      "Circuit mcalcal_00\n",
      "        ░ ┌─┐   \n",
      "q20_0: ─░─┤M├───\n",
      "        ░ └╥┘┌─┐\n",
      "q20_1: ─░──╫─┤M├\n",
      "        ░  ║ └╥┘\n",
      " c0: 2/════╩══╩═\n",
      "           0  1 \n",
      "\n",
      "Circuit mcalcal_01\n",
      "       ┌───┐ ░ ┌─┐   \n",
      "q20_0: ┤ X ├─░─┤M├───\n",
      "       └───┘ ░ └╥┘┌─┐\n",
      "q20_1: ──────░──╫─┤M├\n",
      "             ░  ║ └╥┘\n",
      " c0: 2/═════════╩══╩═\n",
      "                0  1 \n",
      "\n",
      "Circuit mcalcal_10\n",
      "             ░ ┌─┐   \n",
      "q20_0: ──────░─┤M├───\n",
      "       ┌───┐ ░ └╥┘┌─┐\n",
      "q20_1: ┤ X ├─░──╫─┤M├\n",
      "       └───┘ ░  ║ └╥┘\n",
      " c0: 2/═════════╩══╩═\n",
      "                0  1 \n",
      "\n",
      "Circuit mcalcal_11\n",
      "       ┌───┐ ░ ┌─┐   \n",
      "q20_0: ┤ X ├─░─┤M├───\n",
      "       ├───┤ ░ └╥┘┌─┐\n",
      "q20_1: ┤ X ├─░──╫─┤M├\n",
      "       └───┘ ░  ║ └╥┘\n",
      " c0: 2/═════════╩══╩═\n",
      "                0  1 \n",
      "\n"
     ]
    }
   ],
   "source": [
    "for circuit in meas_calibs:\n",
    "    print('Circuit', circuit.name)\n",
    "    print(circuit)\n",
    "    print()"
   ]
  },
  {
   "cell_type": "markdown",
   "metadata": {},
   "source": [
    "Let's now run these circuits without any noise present."
   ]
  },
  {
   "cell_type": "code",
   "execution_count": 12,
   "metadata": {},
   "outputs": [],
   "source": [
    "# Execute the calibration circuits without noise\n",
    "backend = Aer.get_backend('qasm_simulator')\n",
    "job = execute(meas_calibs, backend=backend, shots=1000)\n",
    "cal_results = job.result()"
   ]
  },
  {
   "cell_type": "markdown",
   "metadata": {},
   "source": [
    "With the results we can construct the calibration matrix, which we have been calling $M$."
   ]
  },
  {
   "cell_type": "code",
   "execution_count": 13,
   "metadata": {},
   "outputs": [
    {
     "name": "stdout",
     "output_type": "stream",
     "text": [
      "[[1. 0. 0. 0.]\n",
      " [0. 1. 0. 0.]\n",
      " [0. 0. 1. 0.]\n",
      " [0. 0. 0. 1.]]\n"
     ]
    }
   ],
   "source": [
    "meas_fitter = CompleteMeasFitter(cal_results, state_labels, circlabel='mcal')\n",
    "print(meas_fitter.cal_matrix)"
   ]
  },
  {
   "cell_type": "markdown",
   "metadata": {},
   "source": [
    "With no noise present, this is simply the identity matrix.\n",
    "\n",
    "Now let's create a noise model. And to make things interesting, let's have the errors be ten times more likely than before."
   ]
  },
  {
   "cell_type": "code",
   "execution_count": 14,
   "metadata": {},
   "outputs": [],
   "source": [
    "noise_model = get_noise(0.1)"
   ]
  },
  {
   "cell_type": "markdown",
   "metadata": {},
   "source": [
    "Again we can run the circuits, and look at the calibration matrix, $M$."
   ]
  },
  {
   "cell_type": "code",
   "execution_count": 15,
   "metadata": {},
   "outputs": [
    {
     "name": "stdout",
     "output_type": "stream",
     "text": [
      "[[0.8   0.086 0.095 0.008]\n",
      " [0.091 0.817 0.01  0.087]\n",
      " [0.099 0.014 0.805 0.095]\n",
      " [0.01  0.083 0.09  0.81 ]]\n"
     ]
    }
   ],
   "source": [
    "backend = Aer.get_backend('qasm_simulator')\n",
    "job = execute(meas_calibs, backend=backend, shots=1000, noise_model=noise_model)\n",
    "cal_results = job.result()\n",
    "\n",
    "meas_fitter = CompleteMeasFitter(cal_results, state_labels, circlabel='mcal')\n",
    "print(meas_fitter.cal_matrix)"
   ]
  },
  {
   "cell_type": "markdown",
   "metadata": {},
   "source": [
    "This time we find a more interesting matrix, and one that we cannot use in the approach that we described earlier. Let's see how well we can mitigate for this noise. Again, let's use the Bell state $(\\left|00\\right\\rangle+\\left|11\\right\\rangle)/\\sqrt{2}$ for our test."
   ]
  },
  {
   "cell_type": "code",
   "execution_count": 16,
   "metadata": {},
   "outputs": [
    {
     "name": "stdout",
     "output_type": "stream",
     "text": [
      "{'01': 910, '10': 889, '11': 4048, '00': 4153}\n"
     ]
    }
   ],
   "source": [
    "qc = QuantumCircuit(2,2)\n",
    "qc.h(0)\n",
    "qc.cx(0,1)  \n",
    "qc.measure(qc.qregs[0],qc.cregs[0])\n",
    "\n",
    "results = execute(qc, backend=backend, shots=10000, noise_model=noise_model).result()\n",
    "\n",
    "noisy_counts = results.get_counts()\n",
    "print(noisy_counts)"
   ]
  },
  {
   "cell_type": "markdown",
   "metadata": {},
   "source": [
    "In Qiskit we mitigate for the noise by creating a measurement filter object. Then, taking the results from above, we use this to calculate a mitigated set of counts. Qiskit returns this as a dictionary, so that the user doesn't need to use vectors themselves to get the result."
   ]
  },
  {
   "cell_type": "code",
   "execution_count": 17,
   "metadata": {},
   "outputs": [],
   "source": [
    "# Get the filter object\n",
    "meas_filter = meas_fitter.filter\n",
    "\n",
    "# Results with mitigation\n",
    "mitigated_results = meas_filter.apply(results)\n",
    "mitigated_counts = mitigated_results.get_counts(0)"
   ]
  },
  {
   "cell_type": "markdown",
   "metadata": {},
   "source": [
    "To see the results most clearly, let's plot both the noisy and mitigated results."
   ]
  },
  {
   "cell_type": "code",
   "execution_count": 18,
   "metadata": {},
   "outputs": [
    {
     "data": {
      "image/svg+xml": [
       "<?xml version=\"1.0\" encoding=\"UTF-8\"?><!DOCTYPE svg  PUBLIC '-//W3C//DTD SVG 1.1//EN'  'http://www.w3.org/Graphics/SVG/1.1/DTD/svg11.dtd'><svg width=\"565.57pt\" height=\"319.97pt\" version=\"1.1\" viewBox=\"0 0 565.57 319.97\" xmlns=\"http://www.w3.org/2000/svg\" xmlns:xlink=\"http://www.w3.org/1999/xlink\"><defs><style type=\"text/css\">*{stroke-linejoin: round; stroke-linecap: butt}</style></defs><path d=\"m0 319.97h565.57v-319.97h-565.57z\" fill=\"#ffffff\"/><path d=\"m62.921 284.4h390.6v-277.2h-390.6z\" fill=\"#ffffff\"/><defs><path id=\"md1ddd3ba98\" d=\"m0 0v3.5\" stroke=\"#343a3f\" stroke-width=\".8\"/></defs><use x=\"112.956787\" y=\"284.4\" fill=\"#343a3f\" stroke=\"#343a3f\" stroke-width=\".8\" xlink:href=\"#md1ddd3ba98\"/><g transform=\"translate(113.54 311.78) rotate(-70) scale(.14 -.14)\" fill=\"#343a3f\"><defs><path id=\"DejaVuSans-30\" transform=\"scale(.015625)\" d=\"m2034 4250q-487 0-733-480-245-479-245-1442 0-959 245-1439 246-480 733-480 491 0 736 480 246 480 246 1439 0 963-246 1442-245 480-736 480zm0 500q785 0 1199-621 414-620 414-1801 0-1178-414-1799-414-620-1199-620-784 0-1198 620-414 621-414 1799 0 1181 414 1801 414 621 1198 621z\"/></defs><use xlink:href=\"#DejaVuSans-30\"/><use x=\"63.623047\" xlink:href=\"#DejaVuSans-30\"/></g><use x=\"209.799762\" y=\"284.4\" fill=\"#343a3f\" stroke=\"#343a3f\" stroke-width=\".8\" xlink:href=\"#md1ddd3ba98\"/><g transform=\"translate(210.38 311.78) rotate(-70) scale(.14 -.14)\" fill=\"#343a3f\"><defs><path id=\"DejaVuSans-31\" transform=\"scale(.015625)\" d=\"m794 531h1031v3560l-1122-225v575l1116 225h631v-4135h1031v-531h-2687v531z\"/></defs><use xlink:href=\"#DejaVuSans-30\"/><use x=\"63.623047\" xlink:href=\"#DejaVuSans-31\"/></g><use x=\"306.642738\" y=\"284.4\" fill=\"#343a3f\" stroke=\"#343a3f\" stroke-width=\".8\" xlink:href=\"#md1ddd3ba98\"/><g transform=\"translate(307.23 311.78) rotate(-70) scale(.14 -.14)\" fill=\"#343a3f\"><use xlink:href=\"#DejaVuSans-31\"/><use x=\"63.623047\" xlink:href=\"#DejaVuSans-30\"/></g><use x=\"403.485713\" y=\"284.4\" fill=\"#343a3f\" stroke=\"#343a3f\" stroke-width=\".8\" xlink:href=\"#md1ddd3ba98\"/><g transform=\"translate(404.07 311.78) rotate(-70) scale(.14 -.14)\" fill=\"#343a3f\"><use xlink:href=\"#DejaVuSans-31\"/><use x=\"63.623047\" xlink:href=\"#DejaVuSans-31\"/></g><path d=\"m62.921 284.4h390.6\" clip-path=\"url(#p8e7c5a3491)\" fill=\"none\" stroke=\"#dde1e6\" stroke-dasharray=\"2.96,1.28\" stroke-width=\".8\"/><defs><path id=\"mcfd2d10c15\" d=\"m0 0h-3.5\" stroke=\"#343a3f\" stroke-width=\".8\"/></defs><use x=\"62.92125\" y=\"284.4\" fill=\"#343a3f\" stroke=\"#343a3f\" stroke-width=\".8\" xlink:href=\"#mcfd2d10c15\"/><g transform=\"translate(24.749 289.72) scale(.14 -.14)\" fill=\"#343a3f\"><defs><path id=\"DejaVuSans-2e\" transform=\"scale(.015625)\" d=\"m684 794h660v-794h-660v794z\"/></defs><use xlink:href=\"#DejaVuSans-30\"/><use x=\"63.623047\" xlink:href=\"#DejaVuSans-2e\"/><use x=\"95.410156\" xlink:href=\"#DejaVuSans-30\"/><use x=\"159.033203\" xlink:href=\"#DejaVuSans-30\"/></g><path d=\"m62.921 216.49h390.6\" clip-path=\"url(#p8e7c5a3491)\" fill=\"none\" stroke=\"#dde1e6\" stroke-dasharray=\"2.96,1.28\" stroke-width=\".8\"/><use x=\"62.92125\" y=\"216.492278\" fill=\"#343a3f\" stroke=\"#343a3f\" stroke-width=\".8\" xlink:href=\"#mcfd2d10c15\"/><g transform=\"translate(24.749 221.81) scale(.14 -.14)\" fill=\"#343a3f\"><defs><path id=\"DejaVuSans-35\" transform=\"scale(.015625)\" d=\"m691 4666h2478v-532h-1900v-1143q137 47 274 70 138 23 276 23 781 0 1237-428 457-428 457-1159 0-753-469-1171-469-417-1322-417-294 0-599 50-304 50-629 150v635q281-153 581-228t634-75q541 0 856 284 316 284 316 772 0 487-316 771-315 285-856 285-253 0-505-56-251-56-513-175v2344z\"/></defs><use xlink:href=\"#DejaVuSans-30\"/><use x=\"63.623047\" xlink:href=\"#DejaVuSans-2e\"/><use x=\"95.410156\" xlink:href=\"#DejaVuSans-31\"/><use x=\"159.033203\" xlink:href=\"#DejaVuSans-35\"/></g><path d=\"m62.921 148.58h390.6\" clip-path=\"url(#p8e7c5a3491)\" fill=\"none\" stroke=\"#dde1e6\" stroke-dasharray=\"2.96,1.28\" stroke-width=\".8\"/><use x=\"62.92125\" y=\"148.584555\" fill=\"#343a3f\" stroke=\"#343a3f\" stroke-width=\".8\" xlink:href=\"#mcfd2d10c15\"/><g transform=\"translate(24.749 153.9) scale(.14 -.14)\" fill=\"#343a3f\"><defs><path id=\"DejaVuSans-33\" transform=\"scale(.015625)\" d=\"m2597 2516q453-97 707-404 255-306 255-756 0-690-475-1069-475-378-1350-378-293 0-604 58t-642 174v609q262-153 574-231 313-78 654-78 593 0 904 234t311 681q0 413-289 645-289 233-804 233h-544v519h569q465 0 712 186t247 536q0 359-255 551-254 193-729 193-260 0-557-57-297-56-653-174v562q360 100 674 150t592 50q719 0 1137-327 419-326 419-882 0-388-222-655t-631-370z\"/></defs><use xlink:href=\"#DejaVuSans-30\"/><use x=\"63.623047\" xlink:href=\"#DejaVuSans-2e\"/><use x=\"95.410156\" xlink:href=\"#DejaVuSans-33\"/><use x=\"159.033203\" xlink:href=\"#DejaVuSans-30\"/></g><path d=\"m62.921 80.677h390.6\" clip-path=\"url(#p8e7c5a3491)\" fill=\"none\" stroke=\"#dde1e6\" stroke-dasharray=\"2.96,1.28\" stroke-width=\".8\"/><use x=\"62.92125\" y=\"80.676833\" fill=\"#343a3f\" stroke=\"#343a3f\" stroke-width=\".8\" xlink:href=\"#mcfd2d10c15\"/><g transform=\"translate(24.749 85.996) scale(.14 -.14)\" fill=\"#343a3f\"><defs><path id=\"DejaVuSans-34\" transform=\"scale(.015625)\" d=\"m2419 4116-1594-2491h1594v2491zm-166 550h794v-3041h666v-525h-666v-1100h-628v1100h-2106v609l1940 2957z\"/></defs><use xlink:href=\"#DejaVuSans-30\"/><use x=\"63.623047\" xlink:href=\"#DejaVuSans-2e\"/><use x=\"95.410156\" xlink:href=\"#DejaVuSans-34\"/><use x=\"159.033203\" xlink:href=\"#DejaVuSans-35\"/></g><path d=\"m62.921 12.769h390.6\" clip-path=\"url(#p8e7c5a3491)\" fill=\"none\" stroke=\"#dde1e6\" stroke-dasharray=\"2.96,1.28\" stroke-width=\".8\"/><use x=\"62.92125\" y=\"12.769111\" fill=\"#343a3f\" stroke=\"#343a3f\" stroke-width=\".8\" xlink:href=\"#mcfd2d10c15\"/><g transform=\"translate(24.749 18.088) scale(.14 -.14)\" fill=\"#343a3f\"><defs><path id=\"DejaVuSans-36\" transform=\"scale(.015625)\" d=\"m2113 2584q-425 0-674-291-248-290-248-796 0-503 248-796 249-292 674-292t673 292q248 293 248 796 0 506-248 796-248 291-673 291zm1253 1979v-575q-238 112-480 171-242 60-480 60-625 0-955-422-329-422-376-1275 184 272 462 417 279 145 613 145 703 0 1111-427 408-426 408-1160 0-719-425-1154-425-434-1131-434-810 0-1238 620-428 621-428 1799 0 1106 525 1764t1409 658q238 0 480-47t505-140z\"/></defs><use xlink:href=\"#DejaVuSans-30\"/><use x=\"63.623047\" xlink:href=\"#DejaVuSans-2e\"/><use x=\"95.410156\" xlink:href=\"#DejaVuSans-36\"/><use x=\"159.033203\" xlink:href=\"#DejaVuSans-30\"/></g><g transform=\"translate(17.838 188.56) rotate(-90) scale(.14 -.14)\" fill=\"#343a3f\"><defs><path id=\"DejaVuSans-50\" transform=\"scale(.015625)\" d=\"m1259 4147v-1753h794q441 0 681 228 241 228 241 650 0 419-241 647-240 228-681 228h-794zm-631 519h1425q785 0 1186-355 402-355 402-1039 0-691-402-1044-401-353-1186-353h-794v-1875h-631v4666z\"/><path id=\"DejaVuSans-72\" transform=\"scale(.015625)\" d=\"m2631 2963q-97 56-211 82-114 27-251 27-488 0-749-317t-261-911v-1844h-578v3500h578v-544q182 319 472 473 291 155 707 155 59 0 131-8 72-7 159-23l3-590z\"/><path id=\"DejaVuSans-6f\" transform=\"scale(.015625)\" d=\"m1959 3097q-462 0-731-361t-269-989 267-989q268-361 733-361 460 0 728 362 269 363 269 988 0 622-269 986-268 364-728 364zm0 487q750 0 1178-488 429-487 429-1349 0-859-429-1349-428-489-1178-489-753 0-1180 489-426 490-426 1349 0 862 426 1349 427 488 1180 488z\"/><path id=\"DejaVuSans-62\" transform=\"scale(.015625)\" d=\"m3116 1747q0 634-261 995t-717 361q-457 0-718-361t-261-995 261-995 718-361q456 0 717 361t261 995zm-1957 1222q182 312 458 463 277 152 661 152 638 0 1036-506 399-506 399-1331t-399-1332q-398-506-1036-506-384 0-661 152-276 152-458 464v-525h-578v4863h578v-1894z\"/><path id=\"DejaVuSans-61\" transform=\"scale(.015625)\" d=\"m2194 1759q-697 0-966-159t-269-544q0-306 202-486 202-179 548-179 479 0 768 339t289 901v128h-572zm1147 238v-1997h-575v531q-197-318-491-470t-719-152q-537 0-855 302-317 302-317 808 0 590 395 890 396 300 1180 300h807v57q0 397-261 614t-733 217q-300 0-585-72-284-72-546-216v532q315 122 612 182 297 61 578 61 760 0 1135-394 375-393 375-1193z\"/><path id=\"DejaVuSans-69\" transform=\"scale(.015625)\" d=\"m603 3500h575v-3500h-575v3500zm0 1363h575v-729h-575v729z\"/><path id=\"DejaVuSans-6c\" transform=\"scale(.015625)\" d=\"m603 4863h575v-4863h-575v4863z\"/><path id=\"DejaVuSans-74\" transform=\"scale(.015625)\" d=\"m1172 4494v-994h1184v-447h-1184v-1900q0-428 117-550t477-122h590v-481h-590q-666 0-919 248-253 249-253 905v1900h-422v447h422v994h578z\"/><path id=\"DejaVuSans-65\" transform=\"scale(.015625)\" d=\"m3597 1894v-281h-2644q38-594 358-905t892-311q331 0 642 81t618 244v-544q-310-131-635-200t-659-69q-838 0-1327 487-489 488-489 1320 0 859 464 1363 464 505 1252 505 706 0 1117-455 411-454 411-1235zm-575 169q-6 471-264 752-258 282-683 282-481 0-770-272t-333-766l2050 4z\"/><path id=\"DejaVuSans-73\" transform=\"scale(.015625)\" d=\"m2834 3397v-544q-243 125-506 187-262 63-544 63-428 0-642-131t-214-394q0-200 153-314t616-217l197-44q612-131 870-370t258-667q0-488-386-773-386-284-1061-284-281 0-586 55t-642 164v594q319-166 628-249 309-82 613-82 406 0 624 139 219 139 219 392 0 234-158 359-157 125-692 241l-200 47q-534 112-772 345-237 233-237 639 0 494 350 762 350 269 994 269 318 0 599-47 282-46 519-140z\"/></defs><use xlink:href=\"#DejaVuSans-50\"/><use x=\"58.552734\" xlink:href=\"#DejaVuSans-72\"/><use x=\"97.416016\" xlink:href=\"#DejaVuSans-6f\"/><use x=\"158.597656\" xlink:href=\"#DejaVuSans-62\"/><use x=\"222.074219\" xlink:href=\"#DejaVuSans-61\"/><use x=\"283.353516\" xlink:href=\"#DejaVuSans-62\"/><use x=\"346.830078\" xlink:href=\"#DejaVuSans-69\"/><use x=\"374.613281\" xlink:href=\"#DejaVuSans-6c\"/><use x=\"402.396484\" xlink:href=\"#DejaVuSans-69\"/><use x=\"430.179688\" xlink:href=\"#DejaVuSans-74\"/><use x=\"469.388672\" xlink:href=\"#DejaVuSans-69\"/><use x=\"497.171875\" xlink:href=\"#DejaVuSans-65\"/><use x=\"558.695312\" xlink:href=\"#DejaVuSans-73\"/></g><path d=\"m80.676 284.4h32.281v-188.01h-32.281z\" clip-path=\"url(#p8e7c5a3491)\" fill=\"#648fff\"/><path d=\"m177.52 284.4h32.281v-41.197h-32.281z\" clip-path=\"url(#p8e7c5a3491)\" fill=\"#648fff\"/><path d=\"m274.36 284.4h32.281v-40.247h-32.281z\" clip-path=\"url(#p8e7c5a3491)\" fill=\"#648fff\"/><path d=\"m371.2 284.4h32.281v-183.26h-32.281z\" clip-path=\"url(#p8e7c5a3491)\" fill=\"#648fff\"/><path d=\"m112.96 284.4h32.281v-231h-32.281z\" clip-path=\"url(#p8e7c5a3491)\" fill=\"#dc267f\"/><path d=\"m209.8 284.4h32.281v-0.065681h-32.281z\" clip-path=\"url(#p8e7c5a3491)\" fill=\"#dc267f\"/><path d=\"m306.64 284.4h32.281-32.281z\" clip-path=\"url(#p8e7c5a3491)\" fill=\"#dc267f\"/><path d=\"m403.49 284.4h32.281v-221.65h-32.281z\" clip-path=\"url(#p8e7c5a3491)\" fill=\"#dc267f\"/><path d=\"m62.921 284.4v-277.2\" fill=\"none\" stroke=\"#343a3f\" stroke-linecap=\"square\" stroke-width=\".8\"/><path d=\"m62.921 284.4h390.6\" fill=\"none\" stroke=\"#343a3f\" stroke-linecap=\"square\" stroke-width=\".8\"/><g transform=\"translate(82.502 84.906) scale(.1 -.1)\" fill=\"#343a3f\"><use xlink:href=\"#DejaVuSans-30\"/><use x=\"63.623047\" xlink:href=\"#DejaVuSans-2e\"/><use x=\"95.410156\" xlink:href=\"#DejaVuSans-34\"/><use x=\"159.033203\" xlink:href=\"#DejaVuSans-31\"/><use x=\"222.65625\" xlink:href=\"#DejaVuSans-35\"/></g><g transform=\"translate(179.35 239.06) scale(.1 -.1)\" fill=\"#343a3f\"><defs><path id=\"DejaVuSans-39\" transform=\"scale(.015625)\" d=\"m703 97v575q238-113 481-172 244-59 479-59 625 0 954 420 330 420 377 1277-181-269-460-413-278-144-615-144-700 0-1108 423-408 424-408 1159 0 718 425 1152 425 435 1131 435 810 0 1236-621 427-620 427-1801 0-1103-524-1761-523-658-1407-658-238 0-482 47-243 47-506 141zm1256 1978q425 0 673 290 249 291 249 798 0 503-249 795-248 292-673 292t-673-292-248-795q0-507 248-798 248-290 673-290z\"/></defs><use xlink:href=\"#DejaVuSans-30\"/><use x=\"63.623047\" xlink:href=\"#DejaVuSans-2e\"/><use x=\"95.410156\" xlink:href=\"#DejaVuSans-30\"/><use x=\"159.033203\" xlink:href=\"#DejaVuSans-39\"/><use x=\"222.65625\" xlink:href=\"#DejaVuSans-31\"/></g><g transform=\"translate(276.19 240.06) scale(.1 -.1)\" fill=\"#343a3f\"><defs><path id=\"DejaVuSans-38\" transform=\"scale(.015625)\" d=\"m2034 2216q-450 0-708-241-257-241-257-662 0-422 257-663 258-241 708-241t709 242q260 243 260 662 0 421-258 662-257 241-711 241zm-631 268q-406 100-633 378-226 279-226 679 0 559 398 884 399 325 1092 325 697 0 1094-325t397-884q0-400-227-679-226-278-629-378 456-106 710-416 255-309 255-755 0-679-414-1042-414-362-1186-362-771 0-1186 362-414 363-414 1042 0 446 256 755 257 310 713 416zm-231 997q0-362 226-565 227-203 636-203 407 0 636 203 230 203 230 565 0 363-230 566-229 203-636 203-409 0-636-203-226-203-226-566z\"/></defs><use xlink:href=\"#DejaVuSans-30\"/><use x=\"63.623047\" xlink:href=\"#DejaVuSans-2e\"/><use x=\"95.410156\" xlink:href=\"#DejaVuSans-30\"/><use x=\"159.033203\" xlink:href=\"#DejaVuSans-38\"/><use x=\"222.65625\" xlink:href=\"#DejaVuSans-39\"/></g><g transform=\"translate(373.03 89.897) scale(.1 -.1)\" fill=\"#343a3f\"><use xlink:href=\"#DejaVuSans-30\"/><use x=\"63.623047\" xlink:href=\"#DejaVuSans-2e\"/><use x=\"95.410156\" xlink:href=\"#DejaVuSans-34\"/><use x=\"159.033203\" xlink:href=\"#DejaVuSans-30\"/><use x=\"222.65625\" xlink:href=\"#DejaVuSans-35\"/></g><g transform=\"translate(82.502 84.906) scale(.1 -.1)\" fill=\"#343a3f\"><use xlink:href=\"#DejaVuSans-30\"/><use x=\"63.623047\" xlink:href=\"#DejaVuSans-2e\"/><use x=\"95.410156\" xlink:href=\"#DejaVuSans-34\"/><use x=\"159.033203\" xlink:href=\"#DejaVuSans-31\"/><use x=\"222.65625\" xlink:href=\"#DejaVuSans-35\"/></g><g transform=\"translate(179.35 239.06) scale(.1 -.1)\" fill=\"#343a3f\"><use xlink:href=\"#DejaVuSans-30\"/><use x=\"63.623047\" xlink:href=\"#DejaVuSans-2e\"/><use x=\"95.410156\" xlink:href=\"#DejaVuSans-30\"/><use x=\"159.033203\" xlink:href=\"#DejaVuSans-39\"/><use x=\"222.65625\" xlink:href=\"#DejaVuSans-31\"/></g><g transform=\"translate(276.19 240.06) scale(.1 -.1)\" fill=\"#343a3f\"><use xlink:href=\"#DejaVuSans-30\"/><use x=\"63.623047\" xlink:href=\"#DejaVuSans-2e\"/><use x=\"95.410156\" xlink:href=\"#DejaVuSans-30\"/><use x=\"159.033203\" xlink:href=\"#DejaVuSans-38\"/><use x=\"222.65625\" xlink:href=\"#DejaVuSans-39\"/></g><g transform=\"translate(373.03 89.897) scale(.1 -.1)\" fill=\"#343a3f\"><use xlink:href=\"#DejaVuSans-30\"/><use x=\"63.623047\" xlink:href=\"#DejaVuSans-2e\"/><use x=\"95.410156\" xlink:href=\"#DejaVuSans-34\"/><use x=\"159.033203\" xlink:href=\"#DejaVuSans-30\"/><use x=\"222.65625\" xlink:href=\"#DejaVuSans-35\"/></g><g transform=\"translate(114.78 39.77) scale(.1 -.1)\" fill=\"#343a3f\"><use xlink:href=\"#DejaVuSans-30\"/><use x=\"63.623047\" xlink:href=\"#DejaVuSans-2e\"/><use x=\"95.410156\" xlink:href=\"#DejaVuSans-35\"/><use x=\"159.033203\" xlink:href=\"#DejaVuSans-31\"/><use x=\"222.65625\" xlink:href=\"#DejaVuSans-30\"/></g><g transform=\"translate(222.76 282.25) scale(.1 -.1)\" fill=\"#343a3f\"><use xlink:href=\"#DejaVuSans-30\"/></g><g transform=\"translate(319.6 282.32) scale(.1 -.1)\" fill=\"#343a3f\"><use xlink:href=\"#DejaVuSans-30\"/></g><g transform=\"translate(405.31 49.585) scale(.1 -.1)\" fill=\"#343a3f\"><use xlink:href=\"#DejaVuSans-30\"/><use x=\"63.623047\" xlink:href=\"#DejaVuSans-2e\"/><use x=\"95.410156\" xlink:href=\"#DejaVuSans-34\"/><use x=\"159.033203\" xlink:href=\"#DejaVuSans-39\"/><use x=\"222.65625\" xlink:href=\"#DejaVuSans-30\"/></g><path d=\"m457.43 46.028h100.94v-38.828h-100.94z\" fill=\"#ffffff\" opacity=\".8\" stroke=\"#cccccc\"/><path d=\"m462.23 21.118h24v-8.4h-24z\" fill=\"#648fff\"/><g transform=\"translate(495.83 21.118) scale(.12 -.12)\" fill=\"#343a3f\"><defs><path id=\"DejaVuSans-6e\" transform=\"scale(.015625)\" d=\"m3513 2113v-2113h-575v2094q0 497-194 743-194 247-581 247-466 0-735-297-269-296-269-809v-1978h-578v3500h578v-544q207 316 486 472 280 156 646 156 603 0 912-373 310-373 310-1098z\"/><path id=\"DejaVuSans-79\" transform=\"scale(.015625)\" d=\"m2059-325q-243-625-475-815-231-191-618-191h-460v481h338q237 0 368 113 132 112 291 531l103 262-1415 3444h609l1094-2737 1094 2737h609l-1538-3825z\"/></defs><use xlink:href=\"#DejaVuSans-6e\"/><use x=\"63.378906\" xlink:href=\"#DejaVuSans-6f\"/><use x=\"124.560547\" xlink:href=\"#DejaVuSans-69\"/><use x=\"152.34375\" xlink:href=\"#DejaVuSans-73\"/><use x=\"204.443359\" xlink:href=\"#DejaVuSans-79\"/></g><path d=\"m462.23 38.732h24v-8.4h-24z\" fill=\"#dc267f\"/><g transform=\"translate(495.83 38.732) scale(.12 -.12)\" fill=\"#343a3f\"><defs><path id=\"DejaVuSans-6d\" transform=\"scale(.015625)\" d=\"m3328 2828q216 388 516 572t706 184q547 0 844-383 297-382 297-1088v-2113h-578v2094q0 503-179 746-178 244-543 244-447 0-707-297-259-296-259-809v-1978h-578v2094q0 506-178 748t-550 242q-441 0-701-298-259-298-259-808v-1978h-578v3500h578v-544q197 322 472 475t653 153q382 0 649-194 267-193 395-562z\"/><path id=\"DejaVuSans-67\" transform=\"scale(.015625)\" d=\"m2906 1791q0 625-258 968-257 344-723 344-462 0-720-344-258-343-258-968 0-622 258-966t720-344q466 0 723 344 258 344 258 966zm575-1357q0-893-397-1329-396-436-1215-436-303 0-572 45t-522 139v559q253-137 500-202 247-66 503-66 566 0 847 295t281 892v285q-178-310-456-463t-666-153q-643 0-1037 490-394 491-394 1301 0 812 394 1302 394 491 1037 491 388 0 666-153t456-462v531h575v-3066z\"/><path id=\"DejaVuSans-64\" transform=\"scale(.015625)\" d=\"m2906 2969v1894h575v-4863h-575v525q-181-312-458-464-276-152-664-152-634 0-1033 506-398 507-398 1332t398 1331q399 506 1033 506 388 0 664-152 277-151 458-463zm-1959-1222q0-634 261-995t717-361 718 361q263 361 263 995t-263 995q-262 361-718 361t-717-361-261-995z\"/></defs><use xlink:href=\"#DejaVuSans-6d\"/><use x=\"97.412109\" xlink:href=\"#DejaVuSans-69\"/><use x=\"125.195312\" xlink:href=\"#DejaVuSans-74\"/><use x=\"164.404297\" xlink:href=\"#DejaVuSans-69\"/><use x=\"192.1875\" xlink:href=\"#DejaVuSans-67\"/><use x=\"255.664062\" xlink:href=\"#DejaVuSans-61\"/><use x=\"316.943359\" xlink:href=\"#DejaVuSans-74\"/><use x=\"356.152344\" xlink:href=\"#DejaVuSans-65\"/><use x=\"417.675781\" xlink:href=\"#DejaVuSans-64\"/></g><defs><clipPath id=\"p8e7c5a3491\"><rect x=\"62.921\" y=\"7.2\" width=\"390.6\" height=\"277.2\"/></clipPath></defs></svg>"
      ],
      "text/plain": [
       "<Figure size 700x500 with 1 Axes>"
      ]
     },
     "execution_count": 18,
     "metadata": {},
     "output_type": "execute_result"
    }
   ],
   "source": [
    "from qiskit.visualization import plot_histogram \n",
    "plot_histogram([noisy_counts, mitigated_counts], legend=['noisy', 'mitigated'])"
   ]
  },
  {
   "cell_type": "markdown",
   "metadata": {},
   "source": [
    "Here we have taken results for which almost $20\\%$ of samples are in the wrong state, and turned it into an exact representation of what the true results should be. However, this example does have just two qubits with a simple noise model. For more qubits, and more complex noise models or data from real devices, the mitigation will have more of a challenge. Perhaps you might find methods that are better than those Qiskit uses!"
   ]
  },
  {
   "cell_type": "code",
   "execution_count": 19,
   "metadata": {},
   "outputs": [
    {
     "data": {
      "text/plain": [
       "{'qiskit-terra': '0.21.2', 'qiskit-aer': '0.10.4', 'qiskit-ignis': None, 'qiskit-ibmq-provider': '0.19.2', 'qiskit': '0.37.2', 'qiskit-nature': '0.4.1', 'qiskit-finance': '0.3.2', 'qiskit-optimization': '0.4.0', 'qiskit-machine-learning': '0.4.0'}"
      ]
     },
     "execution_count": 19,
     "metadata": {},
     "output_type": "execute_result"
    }
   ],
   "source": [
    "import qiskit\n",
    "qiskit.__qiskit_version__"
   ]
  }
 ],
 "metadata": {
  "kernelspec": {
   "display_name": "Python 3",
   "language": "python",
   "name": "python3"
  },
  "language_info": {
   "codemirror_mode": {
    "name": "ipython",
    "version": 3
   },
   "file_extension": ".py",
   "mimetype": "text/x-python",
   "name": "python",
   "nbconvert_exporter": "python",
   "pygments_lexer": "ipython3",
   "version": "3.9"
  }
 },
 "nbformat": 4,
 "nbformat_minor": 2
}
