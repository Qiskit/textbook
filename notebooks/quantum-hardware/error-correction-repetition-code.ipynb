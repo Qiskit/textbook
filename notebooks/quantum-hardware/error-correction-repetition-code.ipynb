{
 "cells": [
  {
   "cell_type": "markdown",
   "metadata": {
    "tags": [
     "remove_cell"
    ]
   },
   "source": [
    "# Introduction to Quantum Error Correction via the Repetition Code"
   ]
  },
  {
   "cell_type": "markdown",
   "metadata": {},
   "source": [
    "## Introduction\n",
    "\n",
    "Quantum computing requires us to encode information in qubits. Most quantum algorithms developed over the past few decades have assumed that these qubits are perfect: they can be prepared in any state we desire, and be manipulated with complete precision. Qubits that obey these assumptions are often known as *logical qubits*.\n",
    "\n",
    "The last few decades have also seen great advances in finding physical systems that behave as qubits, with better quality qubits being developed all the time. However, the imperfections can never be removed entirely. These qubits will always be much too imprecise to serve directly as logical qubits. Instead, we refer to them as *physical qubits*.\n",
    "\n",
    "In the current era of quantum computing, we seek to use physical qubits despite their imperfections, by designing custom algorithms and using error mitigation effects. For the future era of fault-tolerance, however, we must find ways to build logical qubits from physical qubits. This will be done through the process of quantum error correction, in which logical qubits are encoded in a large number of physical qubits. The encoding is maintained by constantly putting the physical qubits through a highly entangling circuit. Auxilliary degrees of freedom are also constantly measured, to detect signs of errors and allow their effects to be removed. The operations on the logical qubits required to implement quantum computation will be performed by essentially making small perturbations to this procedure.\n",
    "\n",
    "Because of the vast amount of effort required for this process, most operations performed in fault-tolerant quantum computers will be done to serve the purpose of error detection and correction. So when benchmarking our progress towards fault-tolerant quantum computation, we must keep track of how well our devices perform error correction.\n",
    "\n",
    "In this chapter we will look at a particular example of error correction: the repetition code. Though not a true example of quantum error correction - it uses physical qubits to encode a logical *bit*, rather than a qubit - it serves as a simple guide to all the basic concepts in any quantum error correcting code. We will also see how it can be run on current prototype devices."
   ]
  },
  {
   "cell_type": "markdown",
   "metadata": {},
   "source": [
    "## Introduction to the repetition code"
   ]
  },
  {
   "cell_type": "markdown",
   "metadata": {},
   "source": [
    "### The basics of error correction\n",
    "\n",
    "The basic ideas behind error correction are the same for quantum information as for classical information. This allows us to begin by considering a very straightforward example: speaking on the phone. If someone asks you a question to which the answer is 'yes' or 'no', the way you give your response will depend on two factors:\n",
    "\n",
    "* How important is it that you are understood correctly?\n",
    "* How good is your connection?\n",
    "\n",
    "Both of these can be paramaterized with probabilities. For the first, we can use $P_a$, the maximum acceptable probability of being misunderstood. If you are being asked to confirm a preference for ice cream flavours, and don't mind too much if you get vanilla rather than chocolate, $P_a$ might be quite high. If you are being asked a question on which someone's life depends, however, $P_a$ will be much lower.\n",
    "\n",
    "For the second we can use $p$, the probability that your answer is garbled by a bad connection. For simplicity, let's imagine a case where a garbled 'yes' doesn't simply sound like nonsense, but sounds like a 'no'. And similarly a 'no' is transformed into 'yes'. Then $p$ is the probability that you are completely misunderstood.\n",
    "\n",
    "A good connection or a relatively unimportant question will result in $p<P_a$. In this case it is fine to simply answer in the most direct way possible: you just say 'yes' or 'no'.\n",
    "\n",
    "If, however, your connection is poor and your answer is important, we will have $p>P_a$. A single 'yes' or 'no' is not enough in this case. The probability of being misunderstood would be too high. Instead we must encode our answer in a more complex structure, allowing the receiver to decode our meaning despite the possibility of the message being disrupted. The simplest method is the one that many would do without thinking: simply repeat the answer many times. For example say 'yes, yes, yes' instead of 'yes' or 'no, no no' instead of 'no'.\n",
    "\n",
    "If the receiver hears 'yes, yes, yes' in this case, they will of course conclude that the sender meant 'yes'. If they hear 'no, yes, yes', 'yes, no, yes' or 'yes, yes, no', they will probably conclude the same thing, since there is more positivity than negativity in the answer. To be misunderstood in this case, at least two of the replies need to be garbled. The probability for this, $P$, will be less than $p$. When encoded in this way, the message therefore becomes more likely to be understood. The code cell below shows an example of this."
   ]
  },
  {
   "cell_type": "code",
   "execution_count": 1,
   "metadata": {},
   "outputs": [
    {
     "name": "stdout",
     "output_type": "stream",
     "text": [
      "Probability of a single reply being garbled: 0.01\n",
      "Probability of a the majority of three replies being garbled: 0.0003\n"
     ]
    }
   ],
   "source": [
    "p1 = 0.01\n",
    "p3 = 3 * p1**2 * (1-p1) + p1**3 # probability of 2 or 3 errors\n",
    "print('Probability of a single reply being garbled: {}'.format(p1))\n",
    "print('Probability of a the majority of three replies being garbled: {:.4f}'.format(p3))"
   ]
  },
  {
   "cell_type": "markdown",
   "metadata": {},
   "source": [
    "If $P<P_a$, this technique solves our problem. If not, we can simply add more repetitions. The fact that $P<p$ above comes from the fact that we need at least two replies to be garbled to flip the majority, and so even the most likely possibilities have a probability of $\\sim p^2$. For five repetitions we'd need at least three replies to be garbled to flip the majority, which happens with probability $\\sim p^3$. The value for $P$ in this case would then be even lower. Indeed, as we increase the number of repetitions, $P$ will decrease exponentially. No matter how bad the connection, or how certain we need to be of our message getting through correctly, we can achieve it by just repeating our answer enough times.\n",
    "\n",
    "Though this is a simple example, it contains all the aspects of error correction.\n",
    "* There is some information to be sent or stored: In this case, a 'yes' or 'no.\n",
    "* The information is encoded in a larger system to protect it against noise: In this case, by repeating the message.\n",
    "* The information is finally decoded, mitigating for the effects of noise: In this case, by trusting the majority of the transmitted messages.\n",
    "\n",
    "This same encoding scheme can also be used for binary, by simply substituting `0` and `1` for 'yes' and 'no. It can therefore also be easily generalized to qubits by using the states $\\left|0\\right\\rangle$ and $\\left|1\\right\\rangle$. In each case it is known as the *repetition code*. Many other forms of encoding are also possible in both the classical and quantum cases, which outperform the repetition code in many ways. However, its status as the simplest encoding does lend it to certain applications. One is exactly what it is used for in Qiskit: as the first and simplest test of implementing the ideas behind quantum error correction."
   ]
  },
  {
   "cell_type": "markdown",
   "metadata": {},
   "source": [
    "### Correcting errors in qubits\n",
    "\n",
    "We will now implement these ideas explicitly using Qiskit. To see the effects of imperfect qubits, we simply can use the qubits of the prototype devices. We can also reproduce the effects in simulations. The function below creates a simple noise model in order to do this. These go beyond the simple case discussed earlier, of a single noise event which happens with a probability $p$. Instead we consider two forms of error that can occur. One is a gate error: an imperfection in any operation we perform. We model this here in a simple way, using so-called depolarizing noise. The effect of this will be, with probability $p_{gate}$ ,to replace the state of any qubit with a completely random state. For two qubit gates, it is applied independently to each qubit. The other form of noise is that for measurement. This simply flips between a `0` to a `1` and vice-versa immediately before measurement with probability $p_{meas}$."
   ]
  },
  {
   "cell_type": "code",
   "execution_count": 2,
   "metadata": {},
   "outputs": [],
   "source": [
    "from qiskit.providers.aer.noise import NoiseModel\n",
    "from qiskit.providers.aer.noise.errors import pauli_error, depolarizing_error\n",
    "\n",
    "def get_noise(p_meas,p_gate):\n",
    "\n",
    "    error_meas = pauli_error([('X',p_meas), ('I', 1 - p_meas)])\n",
    "    error_gate1 = depolarizing_error(p_gate, 1)\n",
    "    error_gate2 = error_gate1.tensor(error_gate1)\n",
    "\n",
    "    noise_model = NoiseModel()\n",
    "    noise_model.add_all_qubit_quantum_error(error_meas, \"measure\") # measurement error is applied to measurements\n",
    "    noise_model.add_all_qubit_quantum_error(error_gate1, [\"x\"]) # single qubit gate error is applied to x gates\n",
    "    noise_model.add_all_qubit_quantum_error(error_gate2, [\"cx\"]) # two qubit gate error is applied to cx gates\n",
    "        \n",
    "    return noise_model"
   ]
  },
  {
   "cell_type": "markdown",
   "metadata": {},
   "source": [
    "With this we'll now create such a noise model with a probability of $1\\%$ for each type of error."
   ]
  },
  {
   "cell_type": "code",
   "execution_count": 3,
   "metadata": {},
   "outputs": [],
   "source": [
    "noise_model = get_noise(0.01,0.01)"
   ]
  },
  {
   "cell_type": "markdown",
   "metadata": {},
   "source": [
    "Let's see what effect this has when trying to store a `0` using three qubits in state $\\left|0\\right\\rangle$. We'll repeat the process `shots=1024` times to see how likely different results are."
   ]
  },
  {
   "cell_type": "code",
   "execution_count": 4,
   "metadata": {},
   "outputs": [
    {
     "name": "stdout",
     "output_type": "stream",
     "text": [
      "{'001': 6, '100': 10, '010': 11, '000': 997}\n"
     ]
    }
   ],
   "source": [
    "from qiskit import QuantumCircuit, execute, Aer\n",
    "\n",
    "qc0 = QuantumCircuit(3,3,name='0') # initialize circuit with three qubits in the 0 state\n",
    "\n",
    "qc0.measure(qc0.qregs[0],qc0.cregs[0]) # measure the qubits\n",
    "\n",
    "# run the circuit with th noise model and extract the counts\n",
    "counts = execute( qc0, Aer.get_backend('qasm_simulator'),noise_model=noise_model).result().get_counts()\n",
    "\n",
    "print(counts)"
   ]
  },
  {
   "cell_type": "code",
   "execution_count": 5,
   "metadata": {
    "tags": [
     "sanity-check"
    ]
   },
   "outputs": [],
   "source": [
    "# ...almost all results still come out '000',...\n",
    "assert counts['000'] > sum(counts.values())*0.95"
   ]
  },
  {
   "cell_type": "markdown",
   "metadata": {},
   "source": [
    "Here we see that almost all results still come out `'000'`, as they would if there was no noise. Of the remaining possibilities, those with a majority of `0`s are most likely. In total, much less than 10 samples come out with a majority of `1`s. When using this circuit to encode a `0`, this means that $P<1\\%$\n",
    "\n",
    "Now let's try the same for storing a `1` using three qubits in state $\\left|1\\right\\rangle$."
   ]
  },
  {
   "cell_type": "code",
   "execution_count": 6,
   "metadata": {},
   "outputs": [
    {
     "name": "stdout",
     "output_type": "stream",
     "text": [
      "{'001': 1, '110': 16, '101': 19, '011': 9, '111': 979}\n"
     ]
    }
   ],
   "source": [
    "qc1 = QuantumCircuit(3, 3, name='0') # initialize circuit with three qubits in the 0 state\n",
    "qc1.x(qc1.qregs[0]) # flip each 0 to 1\n",
    "\n",
    "qc1.measure(qc1.qregs[0],qc1.cregs[0]) # measure the qubits\n",
    "\n",
    "# run the circuit with th noise model and extract the counts\n",
    "counts = execute(qc1, Aer.get_backend('qasm_simulator'),noise_model=noise_model).result().get_counts()\n",
    "\n",
    "print(counts)"
   ]
  },
  {
   "cell_type": "code",
   "execution_count": 7,
   "metadata": {
    "tags": [
     "sanity-check"
    ]
   },
   "outputs": [],
   "source": [
    "# ...number of samples that come out with a majority in the wrong state\n",
    "# (0 in this case) is again much less than 10,...\n",
    "assert counts.get('000', 0) < 10"
   ]
  },
  {
   "cell_type": "markdown",
   "metadata": {},
   "source": [
    "The number of samples that come out with a majority in the wrong state (`0` in this case) is again much less than 10, so $P<1\\%$. Whether we store a `0` or a `1`, we can retrieve the information with a smaller probability of error than either of our sources of noise.\n",
    "\n",
    "This was possible because the noise we considered was relatively weak. As we increase $p_{meas}$ and $p_{gate}$, the higher the probability $P$ will be. The extreme case of this is for either of them to have a $50/50$ chance of applying the bit flip error, `x`. For example, let's run the same circuit as before but with $p_{meas}=0.5$ and $p_{gate}=0$."
   ]
  },
  {
   "cell_type": "code",
   "execution_count": 8,
   "metadata": {},
   "outputs": [
    {
     "name": "stdout",
     "output_type": "stream",
     "text": [
      "{'100': 124, '001': 126, '110': 119, '101': 133, '010': 117, '000': 127, '011': 139, '111': 139}\n"
     ]
    }
   ],
   "source": [
    "noise_model = get_noise(0.5,0.0)\n",
    "counts = execute(qc1, Aer.get_backend('qasm_simulator'),noise_model=noise_model).result().get_counts()\n",
    "print(counts)"
   ]
  },
  {
   "cell_type": "code",
   "execution_count": 9,
   "metadata": {
    "tags": [
     "sanity-check"
    ]
   },
   "outputs": [],
   "source": [
    "# ...all outcomes occur with equal probability, with\n",
    "# differences in results being due only to statistical noise.\n",
    "assert max(counts.values()) < 200"
   ]
  },
  {
   "cell_type": "markdown",
   "metadata": {},
   "source": [
    "With this noise, all outcomes occur with equal probability, with differences in results being due only to statistical noise. No trace of the encoded state remains. This is an important point to consider for error correction: sometimes the noise is too strong to be corrected. The optimal approach is to combine a good way of encoding the information you require, with hardware whose noise is not too strong."
   ]
  },
  {
   "cell_type": "markdown",
   "metadata": {},
   "source": [
    "### Storing qubits\n",
    "\n",
    "So far, we have considered cases where there is no delay between encoding and decoding. For qubits, this means that there is no significant amount of time that passes between initializing the circuit, and making the final measurements.\n",
    "\n",
    "However, there are many cases for which there will be a significant delay. As an obvious example, one may wish to encode a quantum state and store it for a long time, like a quantum hard drive. A less obvious but much more important example is performing fault-tolerant quantum computation itself. For this, we need to store quantum states and preserve their integrity during the computation. This must also be done in a way that allows us to manipulate the stored information in any way we need, and which corrects any errors we may introduce when performing the manipulations.\n",
    "\n",
    "In all cases, we need account for the fact that errors do not only occur when something happens (like a gate or measurement), they also occur when the qubits are idle. Such noise is due to the fact that the qubits interact with each other and their environment. The longer we leave our qubits idle for, the greater the effects of this noise becomes. If we leave them for long enough, we'll encounter a situation like the $p_{meas}=0.5$ case above, where the noise is too strong for errors to be reliably corrected.\n",
    "\n",
    "The solution is to keep measuring throughout. No qubit is left idle for too long. Instead, information is constantly being extracted from the system to keep track of the errors that have occurred.\n",
    "\n",
    "For the case of classical information, where we simply wish to store a `0` or `1`, this can be done by just constantly measuring the value of each qubit. By keeping track of when the values change due to noise, we can easily deduce a history of when errors occurred. \n",
    "\n",
    "For quantum information, however, it is not so easy. For example, consider the case that we wish to encode the logical state $\\left|+\\right\\rangle$. Our encoding is such that\n",
    "\n",
    "\n",
    "\n",
    "$$\\left|0\\right\\rangle \\rightarrow \\left|000\\right\\rangle, \\left|1\\right\\rangle \\rightarrow \\left|111\\right\\rangle.$$\n",
    "\n",
    "\n",
    "\n",
    "To encode the logical $\\left|+\\right\\rangle$ state we therefore need\n",
    "\n",
    "\n",
    "\n",
    "$$\\left|+\\right\\rangle =\\frac{1}{\\sqrt{2}}\\left(\\left|0\\right\\rangle+\\left|1\\right\\rangle\\right)\\rightarrow\\frac{1}{\\sqrt{2}}\\left(\\left|000\\right\\rangle+\\left|111\\right\\rangle\\right).$$\n",
    "\n",
    "\n",
    "\n",
    "With the repetition encoding that we are using, a z measurement (which distinguishes between the $\\left|0\\right\\rangle$ and $\\left|1\\right\\rangle$ states) of the logical qubit is done using a z measurement of each physical qubit. The final result for the logical measurement is decoded from the physical qubit measurement results by simply looking which output is in the majority.\n",
    "\n",
    "As mentioned earlier, we can keep track of errors on logical qubits that are stored for a long time by constantly performing z measurements of the physical qubits. However, note that this effectively corresponds to constantly performing z measurements of the physical qubits. This is fine if we are simply storing a `0` or `1`, but it has undesired effects if we are storing a superposition. Specifically: the first time we do such a check for errors, we will collapse the superposition.\n",
    "\n",
    "This is not ideal. If we wanted to do some computation on our logical qubit, or if we wish to perform a basis change before final measurement, we need to preserve the superposition. Destroying it is an error. But this is not an error caused by imperfections in our devices. It is an error that we have introduced as part of our attempts to correct errors. And since we cannot hope to recreate any arbitrary superposition stored in our quantum computer, it is an error that cannot be corrected.\n",
    "\n",
    "For this reason, we must find another way of keeping track of the errors that occur when our logical qubit is stored for long times. This should give us the information we need to detect and correct errors, and to decode the final measurement result with high probability. However, it should not cause uncorrectable errors to occur during the process by collapsing superpositions that we need to preserve.\n",
    "\n",
    "The way to do this is with the following circuit element."
   ]
  },
  {
   "cell_type": "code",
   "execution_count": 10,
   "metadata": {},
   "outputs": [
    {
     "data": {
      "image/svg+xml": [
       "<?xml version=\"1.0\" encoding=\"UTF-8\"?><!DOCTYPE svg  PUBLIC '-//W3C//DTD SVG 1.1//EN'  'http://www.w3.org/Graphics/SVG/1.1/DTD/svg11.dtd'><svg width=\"308.77pt\" height=\"218.36pt\" version=\"1.1\" viewBox=\"0 0 308.77 218.36\" xmlns=\"http://www.w3.org/2000/svg\" xmlns:xlink=\"http://www.w3.org/1999/xlink\"><defs><style type=\"text/css\">*{stroke-linejoin: round; stroke-linecap: butt}</style></defs><path d=\"m0 218.36h308.77v-218.36h-308.77z\" fill=\"#ffffff\"/><path d=\"m264.95 172.8h12.052l-6.026 8.6914z\" clip-path=\"url(#p1f60cd54d5)\" fill=\"#778899\"/><path d=\"m153.23 44.283h143.7\" clip-path=\"url(#p1f60cd54d5)\" fill=\"none\" stroke=\"#000000\" stroke-linecap=\"square\" stroke-width=\"2\"/><path d=\"m153.23 90.637h143.7\" clip-path=\"url(#p1f60cd54d5)\" fill=\"none\" stroke=\"#000000\" stroke-linecap=\"square\" stroke-width=\"2\"/><path d=\"m153.23 136.99h143.7\" clip-path=\"url(#p1f60cd54d5)\" fill=\"none\" stroke=\"#000000\" stroke-linecap=\"square\" stroke-width=\"2\"/><path d=\"m153.23 181.84h143.7\" clip-path=\"url(#p1f60cd54d5)\" fill=\"none\" stroke=\"#778899\" stroke-linecap=\"square\" stroke-width=\"2\"/><path d=\"m153.23 184.85h143.7\" clip-path=\"url(#p1f60cd54d5)\" fill=\"none\" stroke=\"#778899\" stroke-linecap=\"square\" stroke-width=\"2\"/><path d=\"m162.5 187.98 4.6354-9.2708\" clip-path=\"url(#p1f60cd54d5)\" fill=\"none\" stroke=\"#778899\" stroke-linecap=\"square\"/><path d=\"m178.26 136.99v-92.708\" clip-path=\"url(#p1f60cd54d5)\" fill=\"none\" stroke=\"#1192e8\" stroke-linecap=\"square\" stroke-width=\"2\"/><path d=\"m224.62 136.99v-46.354\" clip-path=\"url(#p1f60cd54d5)\" fill=\"none\" stroke=\"#1192e8\" stroke-linecap=\"square\" stroke-width=\"2\"/><path d=\"m272.48 136.99v35.808\" clip-path=\"url(#p1f60cd54d5)\" fill=\"none\" stroke=\"#778899\" stroke-linecap=\"square\" stroke-width=\"2\"/><path d=\"m269.46 136.99v35.808\" clip-path=\"url(#p1f60cd54d5)\" fill=\"none\" stroke=\"#778899\" stroke-linecap=\"square\" stroke-width=\"2\"/><path d=\"m178.26 48.803c1.1986 0 2.3482-0.4762 3.1958-1.3237 0.84753-0.84753 1.3237-1.9972 1.3237-3.1958 0-1.1986-0.4762-2.3482-1.3237-3.1958-0.84753-0.84753-1.9972-1.3237-3.1958-1.3237-1.1986 0-2.3482 0.4762-3.1958 1.3237s-1.3237 1.9972-1.3237 3.1958c0 1.1986 0.4762 2.3482 1.3237 3.1958s1.9972 1.3237 3.1958 1.3237z\" clip-path=\"url(#p1f60cd54d5)\" fill=\"#1192e8\" stroke=\"#1192e8\" stroke-width=\"1.5\"/><path d=\"m178.26 147.54c2.7967 0 5.4792-1.1111 7.4568-3.0887 1.9776-1.9776 3.0887-4.6601 3.0887-7.4568 0-2.7967-1.1111-5.4792-3.0887-7.4568-1.9776-1.9776-4.6601-3.0887-7.4568-3.0887-2.7967 0-5.4792 1.1111-7.4568 3.0887-1.9776 1.9776-3.0887 4.6601-3.0887 7.4568 0 2.7967 1.1111 5.4792 3.0887 7.4568 1.9776 1.9776 4.6601 3.0887 7.4568 3.0887z\" clip-path=\"url(#p1f60cd54d5)\" fill=\"#1192e8\" stroke=\"#1192e8\" stroke-width=\"2\"/><path d=\"m224.62 95.157c1.1986 0 2.3482-0.4762 3.1958-1.3237 0.84753-0.84753 1.3237-1.9972 1.3237-3.1958s-0.4762-2.3482-1.3237-3.1958c-0.84753-0.84753-1.9972-1.3237-3.1958-1.3237s-2.3482 0.4762-3.1958 1.3237c-0.84753 0.84753-1.3237 1.9972-1.3237 3.1958s0.4762 2.3482 1.3237 3.1958c0.84753 0.84753 1.9972 1.3237 3.1958 1.3237z\" clip-path=\"url(#p1f60cd54d5)\" fill=\"#1192e8\" stroke=\"#1192e8\" stroke-width=\"1.5\"/><path d=\"m224.62 147.54c2.7967 0 5.4792-1.1111 7.4568-3.0887 1.9776-1.9776 3.0887-4.6601 3.0887-7.4568 0-2.7967-1.1111-5.4792-3.0887-7.4568-1.9776-1.9776-4.6601-3.0887-7.4568-3.0887-2.7967 0-5.4792 1.1111-7.4568 3.0887-1.9776 1.9776-3.0887 4.6601-3.0887 7.4568 0 2.7967 1.1111 5.4792 3.0887 7.4568 1.9776 1.9776 4.6601 3.0887 7.4568 3.0887z\" clip-path=\"url(#p1f60cd54d5)\" fill=\"#1192e8\" stroke=\"#1192e8\" stroke-width=\"2\"/><path d=\"m255.91 152.06h30.13v-30.13h-30.13z\" clip-path=\"url(#p1f60cd54d5)\" fill=\"#121619\" stroke=\"#121619\" stroke-width=\"1.5\"/><path d=\"m281.52 141.51c0-2.7958-1.1118-5.4799-3.0887-7.4568s-4.661-3.0887-7.4568-3.0887c-2.7958 0-5.4799 1.1118-7.4568 3.0887s-3.0887 4.661-3.0887 7.4568\" clip-path=\"url(#p1f60cd54d5)\" fill=\"none\" stroke=\"#ffffff\" stroke-width=\"2\"/><path d=\"m270.97 141.51 10.546-10.546\" clip-path=\"url(#p1f60cd54d5)\" fill=\"none\" stroke=\"#ffffff\" stroke-linecap=\"square\" stroke-width=\"2\"/><g clip-path=\"url(#p1f60cd54d5)\"><g transform=\"translate(47.111 48.508) scale(.1625 -.1625)\"><defs><path id=\"DejaVuSans-Oblique-63\" transform=\"scale(.015625)\" d=\"m3431 3366-115-569q-207 150-440 225-232 75-482 75-275 0-524-97-248-97-417-275-269-272-416-638-146-365-146-756 0-472 236-703t717-231q237 0 504 72 268 72 558 215l-109-568q-250-103-514-155t-542-52q-697 0-1072 348-375 349-375 996 0 544 195 1002t580 823q262 250 615 378 354 128 772 128 244 0 484-55 241-54 491-163z\"/><path id=\"DejaVuSans-Oblique-6f\" transform=\"scale(.015625)\" d=\"m1625-91q-616 0-974 380-357 380-357 1036 0 381 123 776 124 396 321 665 309 418 690 618t863 200q597 0 964-372 367-371 367-971 0-416-122-829-122-412-319-684-306-419-687-619t-869-200zm-734 1435q0-475 198-711 199-236 602-236 578 0 957 504 380 505 380 1280 0 453-203 684-203 232-597 232-325 0-578-152-253-151-453-461-147-231-227-528-79-297-79-612z\"/><path id=\"DejaVuSans-Oblique-64\" transform=\"scale(.015625)\" d=\"m2675 525q-231-303-547-460-315-156-700-156-525 0-830 358-304 358-304 980 0 519 184 989 185 470 535 842 231 247 521 376 291 130 610 130 337 0 595-163 258-162 399-465l375 1907h578l-947-4863h-578l109 525zm-1784 825q0-453 204-706 205-253 568-253 268 0 498 129 230 130 405 383 184 263 290 606 107 344 107 679 0 434-205 677-205 244-564 244-272 0-507-128-234-128-399-368-182-260-290-604-107-343-107-659z\"/><path id=\"DejaVuSans-Oblique-65\" transform=\"scale(.015625)\" d=\"m3078 2063q10 50 14 103 5 53 5 106 0 381-224 603-223 222-607 222-428 0-757-271-328-270-496-767l2065 4zm500-450h-2675q-19-119-25-188t-6-119q0-434 267-672 267-237 755-237 375 0 709 84 335 85 622 247l-109-569q-310-125-640-187-329-63-670-63-728 0-1120 348-392 349-392 990 0 547 195 1017t574 839q243 231 579 356t714 125q594 0 945-356 352-356 352-956 0-144-19-308-18-164-56-351z\"/><path id=\"DejaVuSans-5f\" transform=\"scale(.015625)\" d=\"m3263-1063v-446h-3326v446h3326z\"/><path id=\"DejaVuSans-Oblique-71\" transform=\"scale(.015625)\" d=\"m2669 525q-231-303-546-460-314-156-695-156-531 0-833 358-301 358-301 986 0 506 186 978t533 847q225 244 517 375t614 131q387 0 637-153t363-462l100 525h578l-934-4813h-579l360 1844zm-1778 813q0-463 193-705 194-242 560-242 544 0 928 520t384 1264q0 450-199 689-198 239-569 239-272 0-504-127-231-126-403-370-181-256-286-600-104-343-104-668z\"/><path id=\"DejaVuSans-Oblique-75\" transform=\"scale(.015625)\" d=\"m428 1388 410 2112h578l-410-2091q-31-153-45-262t-14-181q0-266 162-412 163-145 460-145 462 0 799 312 338 313 441 842l385 1937h575l-678-3500h-575l115 550q-243-306-579-474-336-167-714-167-460 0-716 252t-256 702q0 93 15 234 16 141 47 291z\"/><path id=\"DejaVuSans-Oblique-62\" transform=\"scale(.015625)\" d=\"m3169 2138q0 453-208 709t-573 256q-266 0-499-130-233-129-405-376-181-259-286-602-104-342-104-682 0-432 204-677 205-245 565-245 271 0 502 126 232 127 407 374 178 256 287 596 110 341 110 651zm-1788 831q213 287 533 451t670 164q538 0 855-363 317-362 317-980 0-507-186-982t-529-843q-225-244-519-376-294-131-616-131-340 0-590 156-250 157-407 466l-103-531h-575l947 4863h575l-372-1894z\"/><path id=\"DejaVuSans-Oblique-69\" transform=\"scale(.015625)\" d=\"m1172 4863h575l-141-729h-575l141 729zm-263-1363h575l-684-3500h-575l684 3500z\"/><path id=\"DejaVuSans-Oblique-74\" transform=\"scale(.015625)\" d=\"m2706 3500-87-447h-1147l-372-1900q-19-106-28-178t-9-112q0-200 120-291t386-91h581l-97-481h-550q-512 0-764 200-251 200-251 606 0 72 9 158t28 189l372 1900h-488l91 447h478l194 994h575l-191-994h1150z\"/><path id=\"DejaVuSans-30\" transform=\"scale(.015625)\" d=\"m2034 4250q-487 0-733-480-245-479-245-1442 0-959 245-1439 246-480 733-480 491 0 736 480 246 480 246 1439 0 963-246 1442-245 480-736 480zm0 500q785 0 1199-621 414-620 414-1801 0-1178-414-1799-414-620-1199-620-784 0-1198 620-414 621-414 1799 0 1181 414 1801 414 621 1198 621z\"/></defs><use transform=\"translate(0 .015625)\" xlink:href=\"#DejaVuSans-Oblique-63\"/><use transform=\"translate(54.98 .015625)\" xlink:href=\"#DejaVuSans-Oblique-6f\"/><use transform=\"translate(116.16 .015625)\" xlink:href=\"#DejaVuSans-Oblique-64\"/><use transform=\"translate(179.64 .015625)\" xlink:href=\"#DejaVuSans-Oblique-65\"/><use transform=\"translate(241.16 .015625)\" xlink:href=\"#DejaVuSans-5f\"/><use transform=\"translate(291.16 .015625)\" xlink:href=\"#DejaVuSans-Oblique-71\"/><use transform=\"translate(354.64 .015625)\" xlink:href=\"#DejaVuSans-Oblique-75\"/><use transform=\"translate(418.02 .015625)\" xlink:href=\"#DejaVuSans-Oblique-62\"/><use transform=\"translate(481.49 .015625)\" xlink:href=\"#DejaVuSans-Oblique-69\"/><use transform=\"translate(509.28 .015625)\" xlink:href=\"#DejaVuSans-Oblique-74\"/><use transform=\"translate(548.49 -16.391) scale(.7)\" xlink:href=\"#DejaVuSans-30\"/></g></g><g clip-path=\"url(#p1f60cd54d5)\"><g transform=\"translate(47.111 94.862) scale(.1625 -.1625)\"><defs><path id=\"DejaVuSans-31\" transform=\"scale(.015625)\" d=\"m794 531h1031v3560l-1122-225v575l1116 225h631v-4135h1031v-531h-2687v531z\"/></defs><use transform=\"translate(0 .015625)\" xlink:href=\"#DejaVuSans-Oblique-63\"/><use transform=\"translate(54.98 .015625)\" xlink:href=\"#DejaVuSans-Oblique-6f\"/><use transform=\"translate(116.16 .015625)\" xlink:href=\"#DejaVuSans-Oblique-64\"/><use transform=\"translate(179.64 .015625)\" xlink:href=\"#DejaVuSans-Oblique-65\"/><use transform=\"translate(241.16 .015625)\" xlink:href=\"#DejaVuSans-5f\"/><use transform=\"translate(291.16 .015625)\" xlink:href=\"#DejaVuSans-Oblique-71\"/><use transform=\"translate(354.64 .015625)\" xlink:href=\"#DejaVuSans-Oblique-75\"/><use transform=\"translate(418.02 .015625)\" xlink:href=\"#DejaVuSans-Oblique-62\"/><use transform=\"translate(481.49 .015625)\" xlink:href=\"#DejaVuSans-Oblique-69\"/><use transform=\"translate(509.28 .015625)\" xlink:href=\"#DejaVuSans-Oblique-74\"/><use transform=\"translate(548.49 -16.391) scale(.7)\" xlink:href=\"#DejaVuSans-31\"/></g></g><g clip-path=\"url(#p1f60cd54d5)\"><g transform=\"translate(41.261 141.22) scale(.1625 -.1625)\"><defs><path id=\"DejaVuSans-Oblique-61\" transform=\"scale(.015625)\" d=\"m3438 1997-391-1997h-575l106 531q-253-312-577-467-323-155-720-155-447 0-733 273-285 274-285 702 0 613 489 969t1348 356h800l31 154q7 25 10 54 3 30 3 92 0 279-227 433-226 155-636 155-281 0-577-72-295-72-607-216l100 532q325 122 636 182 311 61 601 61 619 0 942-269 324-268 324-781 0-103-16-242-15-139-46-295zm-622-238h-575q-707 0-1046-189t-339-586q0-275 173-431 174-156 480-156 469 0 819 336t463 898l25 128z\"/><path id=\"DejaVuSans-Oblique-6e\" transform=\"scale(.015625)\" d=\"m3566 2113-410-2113h-578l410 2091q28 147 43 259 16 113 16 178 0 263-166 409-165 147-462 147-463 0-797-308-334-307-438-835l-384-1941h-575l678 3500h575l-115-550q240 303 577 468 338 166 710 166 463 0 717-250 255-250 255-703 0-112-14-240t-42-278z\"/><path id=\"DejaVuSans-Oblique-6c\" transform=\"scale(.015625)\" d=\"m1172 4863h575l-947-4863h-575l947 4863z\"/></defs><use transform=\"translate(0 .015625)\" xlink:href=\"#DejaVuSans-Oblique-61\"/><use transform=\"translate(61.279 .015625)\" xlink:href=\"#DejaVuSans-Oblique-6e\"/><use transform=\"translate(124.66 .015625)\" xlink:href=\"#DejaVuSans-Oblique-63\"/><use transform=\"translate(179.64 .015625)\" xlink:href=\"#DejaVuSans-Oblique-69\"/><use transform=\"translate(207.42 .015625)\" xlink:href=\"#DejaVuSans-Oblique-6c\"/><use transform=\"translate(235.21 .015625)\" xlink:href=\"#DejaVuSans-Oblique-6c\"/><use transform=\"translate(262.99 .015625)\" xlink:href=\"#DejaVuSans-Oblique-61\"/><use transform=\"translate(324.27 .015625)\" xlink:href=\"#DejaVuSans-5f\"/><use transform=\"translate(374.27 .015625)\" xlink:href=\"#DejaVuSans-Oblique-71\"/><use transform=\"translate(437.74 .015625)\" xlink:href=\"#DejaVuSans-Oblique-75\"/><use transform=\"translate(501.12 .015625)\" xlink:href=\"#DejaVuSans-Oblique-62\"/><use transform=\"translate(564.6 .015625)\" xlink:href=\"#DejaVuSans-Oblique-69\"/><use transform=\"translate(592.38 .015625)\" xlink:href=\"#DejaVuSans-Oblique-74\"/></g></g><g clip-path=\"url(#p1f60cd54d5)\"><g transform=\"translate(157.87 176.55) scale(.104 -.104)\"><use xlink:href=\"#DejaVuSans-31\"/></g></g><g clip-path=\"url(#p1f60cd54d5)\"><g transform=\"translate(33.852 187.6) scale(.1625 -.1625)\"><defs><path id=\"DejaVuSans-73\" transform=\"scale(.015625)\" d=\"m2834 3397v-544q-243 125-506 187-262 63-544 63-428 0-642-131t-214-394q0-200 153-314t616-217l197-44q612-131 870-370t258-667q0-488-386-773-386-284-1061-284-281 0-586 55t-642 164v594q319-166 628-249 309-82 613-82 406 0 624 139 219 139 219 392 0 234-158 359-157 125-692 241l-200 47q-534 112-772 345-237 233-237 639 0 494 350 762 350 269 994 269 318 0 599-47 282-46 519-140z\"/><path id=\"DejaVuSans-79\" transform=\"scale(.015625)\" d=\"m2059-325q-243-625-475-815-231-191-618-191h-460v481h338q237 0 368 113 132 112 291 531l103 262-1415 3444h609l1094-2737 1094 2737h609l-1538-3825z\"/><path id=\"DejaVuSans-6e\" transform=\"scale(.015625)\" d=\"m3513 2113v-2113h-575v2094q0 497-194 743-194 247-581 247-466 0-735-297-269-296-269-809v-1978h-578v3500h578v-544q207 316 486 472 280 156 646 156 603 0 912-373 310-373 310-1098z\"/><path id=\"DejaVuSans-64\" transform=\"scale(.015625)\" d=\"m2906 2969v1894h575v-4863h-575v525q-181-312-458-464-276-152-664-152-634 0-1033 506-398 507-398 1332t398 1331q399 506 1033 506 388 0 664-152 277-151 458-463zm-1959-1222q0-634 261-995t717-361 718 361q263 361 263 995t-263 995q-262 361-718 361t-717-361-261-995z\"/><path id=\"DejaVuSans-72\" transform=\"scale(.015625)\" d=\"m2631 2963q-97 56-211 82-114 27-251 27-488 0-749-317t-261-911v-1844h-578v3500h578v-544q182 319 472 473 291 155 707 155 59 0 131-8 72-7 159-23l3-590z\"/><path id=\"DejaVuSans-6f\" transform=\"scale(.015625)\" d=\"m1959 3097q-462 0-731-361t-269-989 267-989q268-361 733-361 460 0 728 362 269 363 269 988 0 622-269 986-268 364-728 364zm0 487q750 0 1178-488 429-487 429-1349 0-859-429-1349-428-489-1178-489-753 0-1180 489-426 490-426 1349 0 862 426 1349 427 488 1180 488z\"/><path id=\"DejaVuSans-6d\" transform=\"scale(.015625)\" d=\"m3328 2828q216 388 516 572t706 184q547 0 844-383 297-382 297-1088v-2113h-578v2094q0 503-179 746-178 244-543 244-447 0-707-297-259-296-259-809v-1978h-578v2094q0 506-178 748t-550 242q-441 0-701-298-259-298-259-808v-1978h-578v3500h578v-544q197 322 472 475t653 153q382 0 649-194 267-193 395-562z\"/><path id=\"DejaVuSans-65\" transform=\"scale(.015625)\" d=\"m3597 1894v-281h-2644q38-594 358-905t892-311q331 0 642 81t618 244v-544q-310-131-635-200t-659-69q-838 0-1327 487-489 488-489 1320 0 859 464 1363 464 505 1252 505 706 0 1117-455 411-454 411-1235zm-575 169q-6 471-264 752-258 282-683 282-481 0-770-272t-333-766l2050 4z\"/><path id=\"DejaVuSans-62\" transform=\"scale(.015625)\" d=\"m3116 1747q0 634-261 995t-717 361q-457 0-718-361t-261-995 261-995 718-361q456 0 717 361t261 995zm-1957 1222q182 312 458 463 277 152 661 152 638 0 1036-506 399-506 399-1331t-399-1332q-398-506-1036-506-384 0-661 152-276 152-458 464v-525h-578v4863h578v-1894z\"/><path id=\"DejaVuSans-69\" transform=\"scale(.015625)\" d=\"m603 3500h575v-3500h-575v3500zm0 1363h575v-729h-575v729z\"/><path id=\"DejaVuSans-74\" transform=\"scale(.015625)\" d=\"m1172 4494v-994h1184v-447h-1184v-1900q0-428 117-550t477-122h590v-481h-590q-666 0-919 248-253 249-253 905v1900h-422v447h422v994h578z\"/></defs><use xlink:href=\"#DejaVuSans-73\"/><use x=\"52.099609\" xlink:href=\"#DejaVuSans-79\"/><use x=\"111.279297\" xlink:href=\"#DejaVuSans-6e\"/><use x=\"174.658203\" xlink:href=\"#DejaVuSans-64\"/><use x=\"238.134766\" xlink:href=\"#DejaVuSans-72\"/><use x=\"276.998047\" xlink:href=\"#DejaVuSans-6f\"/><use x=\"338.179688\" xlink:href=\"#DejaVuSans-6d\"/><use x=\"435.591797\" xlink:href=\"#DejaVuSans-65\"/><use x=\"497.115234\" xlink:href=\"#DejaVuSans-5f\"/><use x=\"547.115234\" xlink:href=\"#DejaVuSans-62\"/><use x=\"610.591797\" xlink:href=\"#DejaVuSans-69\"/><use x=\"638.375\" xlink:href=\"#DejaVuSans-74\"/></g></g><path d=\"m178.26 143.02v-12.052\" clip-path=\"url(#p1f60cd54d5)\" fill=\"none\" stroke=\"#ffffff\" stroke-linecap=\"square\" stroke-width=\"2\"/><path d=\"m172.24 136.99h12.052\" clip-path=\"url(#p1f60cd54d5)\" fill=\"none\" stroke=\"#ffffff\" stroke-linecap=\"square\" stroke-width=\"2\"/><path d=\"m224.62 143.02v-12.052\" clip-path=\"url(#p1f60cd54d5)\" fill=\"none\" stroke=\"#ffffff\" stroke-linecap=\"square\" stroke-width=\"2\"/><path d=\"m218.59 136.99h12.052\" clip-path=\"url(#p1f60cd54d5)\" fill=\"none\" stroke=\"#ffffff\" stroke-linecap=\"square\" stroke-width=\"2\"/><g clip-path=\"url(#p1f60cd54d5)\"><g transform=\"translate(282.56 176.55) scale(.104 -.104)\"><use xlink:href=\"#DejaVuSans-30\"/></g></g><defs><clipPath id=\"p1f60cd54d5\"><rect x=\"7.2\" y=\"7.2\" width=\"294.37\" height=\"203.96\"/></clipPath></defs></svg>"
      ],
      "text/plain": [
       "<Figure size 530.961x367.889 with 1 Axes>"
      ]
     },
     "execution_count": 10,
     "metadata": {},
     "output_type": "execute_result"
    }
   ],
   "source": [
    "from qiskit import QuantumRegister, ClassicalRegister\n",
    "\n",
    "cq = QuantumRegister(2, 'code_qubit')\n",
    "lq = QuantumRegister(1, 'ancilla_qubit')\n",
    "sb = ClassicalRegister(1, 'syndrome_bit')\n",
    "qc = QuantumCircuit(cq, lq, sb)\n",
    "qc.cx(cq[0], lq[0])\n",
    "qc.cx(cq[1], lq[0])\n",
    "qc.measure(lq, sb)\n",
    "qc.draw()"
   ]
  },
  {
   "cell_type": "markdown",
   "metadata": {},
   "source": [
    "Here we have three physical qubits. Two are called 'code qubits', and the other is called an 'ancilla qubit'. One bit of output is extracted, called the syndrome bit. The ancilla qubit is always initialized in state $\\left|0\\right\\rangle$. The code qubits, however, can be initialized in different states. To see what affect different inputs have on the output, we can create a circuit `qc_init` that prepares the code qubits in some state, and then run the circuit `qc_init+qc`.\n",
    "\n",
    "First, the trivial case: `qc_init` does nothing, and so the code qubits are initially $\\left|00\\right\\rangle$."
   ]
  },
  {
   "cell_type": "code",
   "execution_count": 11,
   "metadata": {},
   "outputs": [
    {
     "data": {
      "image/svg+xml": [
       "<?xml version=\"1.0\" encoding=\"UTF-8\"?><!DOCTYPE svg  PUBLIC '-//W3C//DTD SVG 1.1//EN'  'http://www.w3.org/Graphics/SVG/1.1/DTD/svg11.dtd'><svg width=\"308.77pt\" height=\"218.36pt\" version=\"1.1\" viewBox=\"0 0 308.77 218.36\" xmlns=\"http://www.w3.org/2000/svg\" xmlns:xlink=\"http://www.w3.org/1999/xlink\"><defs><style type=\"text/css\">*{stroke-linejoin: round; stroke-linecap: butt}</style></defs><path d=\"m0 218.36h308.77v-218.36h-308.77z\" fill=\"#ffffff\"/><path d=\"m264.95 172.8h12.052l-6.026 8.6914z\" clip-path=\"url(#p859af63ede)\" fill=\"#778899\"/><path d=\"m153.23 44.283h143.7\" clip-path=\"url(#p859af63ede)\" fill=\"none\" stroke=\"#000000\" stroke-linecap=\"square\" stroke-width=\"2\"/><path d=\"m153.23 90.637h143.7\" clip-path=\"url(#p859af63ede)\" fill=\"none\" stroke=\"#000000\" stroke-linecap=\"square\" stroke-width=\"2\"/><path d=\"m153.23 136.99h143.7\" clip-path=\"url(#p859af63ede)\" fill=\"none\" stroke=\"#000000\" stroke-linecap=\"square\" stroke-width=\"2\"/><path d=\"m153.23 181.84h143.7\" clip-path=\"url(#p859af63ede)\" fill=\"none\" stroke=\"#778899\" stroke-linecap=\"square\" stroke-width=\"2\"/><path d=\"m153.23 184.85h143.7\" clip-path=\"url(#p859af63ede)\" fill=\"none\" stroke=\"#778899\" stroke-linecap=\"square\" stroke-width=\"2\"/><path d=\"m162.5 187.98 4.6354-9.2708\" clip-path=\"url(#p859af63ede)\" fill=\"none\" stroke=\"#778899\" stroke-linecap=\"square\"/><path d=\"m178.26 136.99v-92.708\" clip-path=\"url(#p859af63ede)\" fill=\"none\" stroke=\"#1192e8\" stroke-linecap=\"square\" stroke-width=\"2\"/><path d=\"m224.62 136.99v-46.354\" clip-path=\"url(#p859af63ede)\" fill=\"none\" stroke=\"#1192e8\" stroke-linecap=\"square\" stroke-width=\"2\"/><path d=\"m272.48 136.99v35.808\" clip-path=\"url(#p859af63ede)\" fill=\"none\" stroke=\"#778899\" stroke-linecap=\"square\" stroke-width=\"2\"/><path d=\"m269.46 136.99v35.808\" clip-path=\"url(#p859af63ede)\" fill=\"none\" stroke=\"#778899\" stroke-linecap=\"square\" stroke-width=\"2\"/><path d=\"m178.26 48.803c1.1986 0 2.3482-0.4762 3.1958-1.3237 0.84753-0.84753 1.3237-1.9972 1.3237-3.1958 0-1.1986-0.4762-2.3482-1.3237-3.1958-0.84753-0.84753-1.9972-1.3237-3.1958-1.3237-1.1986 0-2.3482 0.4762-3.1958 1.3237s-1.3237 1.9972-1.3237 3.1958c0 1.1986 0.4762 2.3482 1.3237 3.1958s1.9972 1.3237 3.1958 1.3237z\" clip-path=\"url(#p859af63ede)\" fill=\"#1192e8\" stroke=\"#1192e8\" stroke-width=\"1.5\"/><path d=\"m178.26 147.54c2.7967 0 5.4792-1.1111 7.4568-3.0887 1.9776-1.9776 3.0887-4.6601 3.0887-7.4568 0-2.7967-1.1111-5.4792-3.0887-7.4568-1.9776-1.9776-4.6601-3.0887-7.4568-3.0887-2.7967 0-5.4792 1.1111-7.4568 3.0887-1.9776 1.9776-3.0887 4.6601-3.0887 7.4568 0 2.7967 1.1111 5.4792 3.0887 7.4568 1.9776 1.9776 4.6601 3.0887 7.4568 3.0887z\" clip-path=\"url(#p859af63ede)\" fill=\"#1192e8\" stroke=\"#1192e8\" stroke-width=\"2\"/><path d=\"m224.62 95.157c1.1986 0 2.3482-0.4762 3.1958-1.3237 0.84753-0.84753 1.3237-1.9972 1.3237-3.1958s-0.4762-2.3482-1.3237-3.1958c-0.84753-0.84753-1.9972-1.3237-3.1958-1.3237s-2.3482 0.4762-3.1958 1.3237c-0.84753 0.84753-1.3237 1.9972-1.3237 3.1958s0.4762 2.3482 1.3237 3.1958c0.84753 0.84753 1.9972 1.3237 3.1958 1.3237z\" clip-path=\"url(#p859af63ede)\" fill=\"#1192e8\" stroke=\"#1192e8\" stroke-width=\"1.5\"/><path d=\"m224.62 147.54c2.7967 0 5.4792-1.1111 7.4568-3.0887 1.9776-1.9776 3.0887-4.6601 3.0887-7.4568 0-2.7967-1.1111-5.4792-3.0887-7.4568-1.9776-1.9776-4.6601-3.0887-7.4568-3.0887-2.7967 0-5.4792 1.1111-7.4568 3.0887-1.9776 1.9776-3.0887 4.6601-3.0887 7.4568 0 2.7967 1.1111 5.4792 3.0887 7.4568 1.9776 1.9776 4.6601 3.0887 7.4568 3.0887z\" clip-path=\"url(#p859af63ede)\" fill=\"#1192e8\" stroke=\"#1192e8\" stroke-width=\"2\"/><path d=\"m255.91 152.06h30.13v-30.13h-30.13z\" clip-path=\"url(#p859af63ede)\" fill=\"#121619\" stroke=\"#121619\" stroke-width=\"1.5\"/><path d=\"m281.52 141.51c0-2.7958-1.1118-5.4799-3.0887-7.4568s-4.661-3.0887-7.4568-3.0887c-2.7958 0-5.4799 1.1118-7.4568 3.0887s-3.0887 4.661-3.0887 7.4568\" clip-path=\"url(#p859af63ede)\" fill=\"none\" stroke=\"#ffffff\" stroke-width=\"2\"/><path d=\"m270.97 141.51 10.546-10.546\" clip-path=\"url(#p859af63ede)\" fill=\"none\" stroke=\"#ffffff\" stroke-linecap=\"square\" stroke-width=\"2\"/><g clip-path=\"url(#p859af63ede)\"><g transform=\"translate(47.111 48.508) scale(.1625 -.1625)\"><defs><path id=\"DejaVuSans-Oblique-63\" transform=\"scale(.015625)\" d=\"m3431 3366-115-569q-207 150-440 225-232 75-482 75-275 0-524-97-248-97-417-275-269-272-416-638-146-365-146-756 0-472 236-703t717-231q237 0 504 72 268 72 558 215l-109-568q-250-103-514-155t-542-52q-697 0-1072 348-375 349-375 996 0 544 195 1002t580 823q262 250 615 378 354 128 772 128 244 0 484-55 241-54 491-163z\"/><path id=\"DejaVuSans-Oblique-6f\" transform=\"scale(.015625)\" d=\"m1625-91q-616 0-974 380-357 380-357 1036 0 381 123 776 124 396 321 665 309 418 690 618t863 200q597 0 964-372 367-371 367-971 0-416-122-829-122-412-319-684-306-419-687-619t-869-200zm-734 1435q0-475 198-711 199-236 602-236 578 0 957 504 380 505 380 1280 0 453-203 684-203 232-597 232-325 0-578-152-253-151-453-461-147-231-227-528-79-297-79-612z\"/><path id=\"DejaVuSans-Oblique-64\" transform=\"scale(.015625)\" d=\"m2675 525q-231-303-547-460-315-156-700-156-525 0-830 358-304 358-304 980 0 519 184 989 185 470 535 842 231 247 521 376 291 130 610 130 337 0 595-163 258-162 399-465l375 1907h578l-947-4863h-578l109 525zm-1784 825q0-453 204-706 205-253 568-253 268 0 498 129 230 130 405 383 184 263 290 606 107 344 107 679 0 434-205 677-205 244-564 244-272 0-507-128-234-128-399-368-182-260-290-604-107-343-107-659z\"/><path id=\"DejaVuSans-Oblique-65\" transform=\"scale(.015625)\" d=\"m3078 2063q10 50 14 103 5 53 5 106 0 381-224 603-223 222-607 222-428 0-757-271-328-270-496-767l2065 4zm500-450h-2675q-19-119-25-188t-6-119q0-434 267-672 267-237 755-237 375 0 709 84 335 85 622 247l-109-569q-310-125-640-187-329-63-670-63-728 0-1120 348-392 349-392 990 0 547 195 1017t574 839q243 231 579 356t714 125q594 0 945-356 352-356 352-956 0-144-19-308-18-164-56-351z\"/><path id=\"DejaVuSans-5f\" transform=\"scale(.015625)\" d=\"m3263-1063v-446h-3326v446h3326z\"/><path id=\"DejaVuSans-Oblique-71\" transform=\"scale(.015625)\" d=\"m2669 525q-231-303-546-460-314-156-695-156-531 0-833 358-301 358-301 986 0 506 186 978t533 847q225 244 517 375t614 131q387 0 637-153t363-462l100 525h578l-934-4813h-579l360 1844zm-1778 813q0-463 193-705 194-242 560-242 544 0 928 520t384 1264q0 450-199 689-198 239-569 239-272 0-504-127-231-126-403-370-181-256-286-600-104-343-104-668z\"/><path id=\"DejaVuSans-Oblique-75\" transform=\"scale(.015625)\" d=\"m428 1388 410 2112h578l-410-2091q-31-153-45-262t-14-181q0-266 162-412 163-145 460-145 462 0 799 312 338 313 441 842l385 1937h575l-678-3500h-575l115 550q-243-306-579-474-336-167-714-167-460 0-716 252t-256 702q0 93 15 234 16 141 47 291z\"/><path id=\"DejaVuSans-Oblique-62\" transform=\"scale(.015625)\" d=\"m3169 2138q0 453-208 709t-573 256q-266 0-499-130-233-129-405-376-181-259-286-602-104-342-104-682 0-432 204-677 205-245 565-245 271 0 502 126 232 127 407 374 178 256 287 596 110 341 110 651zm-1788 831q213 287 533 451t670 164q538 0 855-363 317-362 317-980 0-507-186-982t-529-843q-225-244-519-376-294-131-616-131-340 0-590 156-250 157-407 466l-103-531h-575l947 4863h575l-372-1894z\"/><path id=\"DejaVuSans-Oblique-69\" transform=\"scale(.015625)\" d=\"m1172 4863h575l-141-729h-575l141 729zm-263-1363h575l-684-3500h-575l684 3500z\"/><path id=\"DejaVuSans-Oblique-74\" transform=\"scale(.015625)\" d=\"m2706 3500-87-447h-1147l-372-1900q-19-106-28-178t-9-112q0-200 120-291t386-91h581l-97-481h-550q-512 0-764 200-251 200-251 606 0 72 9 158t28 189l372 1900h-488l91 447h478l194 994h575l-191-994h1150z\"/><path id=\"DejaVuSans-30\" transform=\"scale(.015625)\" d=\"m2034 4250q-487 0-733-480-245-479-245-1442 0-959 245-1439 246-480 733-480 491 0 736 480 246 480 246 1439 0 963-246 1442-245 480-736 480zm0 500q785 0 1199-621 414-620 414-1801 0-1178-414-1799-414-620-1199-620-784 0-1198 620-414 621-414 1799 0 1181 414 1801 414 621 1198 621z\"/></defs><use transform=\"translate(0 .015625)\" xlink:href=\"#DejaVuSans-Oblique-63\"/><use transform=\"translate(54.98 .015625)\" xlink:href=\"#DejaVuSans-Oblique-6f\"/><use transform=\"translate(116.16 .015625)\" xlink:href=\"#DejaVuSans-Oblique-64\"/><use transform=\"translate(179.64 .015625)\" xlink:href=\"#DejaVuSans-Oblique-65\"/><use transform=\"translate(241.16 .015625)\" xlink:href=\"#DejaVuSans-5f\"/><use transform=\"translate(291.16 .015625)\" xlink:href=\"#DejaVuSans-Oblique-71\"/><use transform=\"translate(354.64 .015625)\" xlink:href=\"#DejaVuSans-Oblique-75\"/><use transform=\"translate(418.02 .015625)\" xlink:href=\"#DejaVuSans-Oblique-62\"/><use transform=\"translate(481.49 .015625)\" xlink:href=\"#DejaVuSans-Oblique-69\"/><use transform=\"translate(509.28 .015625)\" xlink:href=\"#DejaVuSans-Oblique-74\"/><use transform=\"translate(548.49 -16.391) scale(.7)\" xlink:href=\"#DejaVuSans-30\"/></g></g><g clip-path=\"url(#p859af63ede)\"><g transform=\"translate(47.111 94.862) scale(.1625 -.1625)\"><defs><path id=\"DejaVuSans-31\" transform=\"scale(.015625)\" d=\"m794 531h1031v3560l-1122-225v575l1116 225h631v-4135h1031v-531h-2687v531z\"/></defs><use transform=\"translate(0 .015625)\" xlink:href=\"#DejaVuSans-Oblique-63\"/><use transform=\"translate(54.98 .015625)\" xlink:href=\"#DejaVuSans-Oblique-6f\"/><use transform=\"translate(116.16 .015625)\" xlink:href=\"#DejaVuSans-Oblique-64\"/><use transform=\"translate(179.64 .015625)\" xlink:href=\"#DejaVuSans-Oblique-65\"/><use transform=\"translate(241.16 .015625)\" xlink:href=\"#DejaVuSans-5f\"/><use transform=\"translate(291.16 .015625)\" xlink:href=\"#DejaVuSans-Oblique-71\"/><use transform=\"translate(354.64 .015625)\" xlink:href=\"#DejaVuSans-Oblique-75\"/><use transform=\"translate(418.02 .015625)\" xlink:href=\"#DejaVuSans-Oblique-62\"/><use transform=\"translate(481.49 .015625)\" xlink:href=\"#DejaVuSans-Oblique-69\"/><use transform=\"translate(509.28 .015625)\" xlink:href=\"#DejaVuSans-Oblique-74\"/><use transform=\"translate(548.49 -16.391) scale(.7)\" xlink:href=\"#DejaVuSans-31\"/></g></g><g clip-path=\"url(#p859af63ede)\"><g transform=\"translate(41.261 141.22) scale(.1625 -.1625)\"><defs><path id=\"DejaVuSans-Oblique-61\" transform=\"scale(.015625)\" d=\"m3438 1997-391-1997h-575l106 531q-253-312-577-467-323-155-720-155-447 0-733 273-285 274-285 702 0 613 489 969t1348 356h800l31 154q7 25 10 54 3 30 3 92 0 279-227 433-226 155-636 155-281 0-577-72-295-72-607-216l100 532q325 122 636 182 311 61 601 61 619 0 942-269 324-268 324-781 0-103-16-242-15-139-46-295zm-622-238h-575q-707 0-1046-189t-339-586q0-275 173-431 174-156 480-156 469 0 819 336t463 898l25 128z\"/><path id=\"DejaVuSans-Oblique-6e\" transform=\"scale(.015625)\" d=\"m3566 2113-410-2113h-578l410 2091q28 147 43 259 16 113 16 178 0 263-166 409-165 147-462 147-463 0-797-308-334-307-438-835l-384-1941h-575l678 3500h575l-115-550q240 303 577 468 338 166 710 166 463 0 717-250 255-250 255-703 0-112-14-240t-42-278z\"/><path id=\"DejaVuSans-Oblique-6c\" transform=\"scale(.015625)\" d=\"m1172 4863h575l-947-4863h-575l947 4863z\"/></defs><use transform=\"translate(0 .015625)\" xlink:href=\"#DejaVuSans-Oblique-61\"/><use transform=\"translate(61.279 .015625)\" xlink:href=\"#DejaVuSans-Oblique-6e\"/><use transform=\"translate(124.66 .015625)\" xlink:href=\"#DejaVuSans-Oblique-63\"/><use transform=\"translate(179.64 .015625)\" xlink:href=\"#DejaVuSans-Oblique-69\"/><use transform=\"translate(207.42 .015625)\" xlink:href=\"#DejaVuSans-Oblique-6c\"/><use transform=\"translate(235.21 .015625)\" xlink:href=\"#DejaVuSans-Oblique-6c\"/><use transform=\"translate(262.99 .015625)\" xlink:href=\"#DejaVuSans-Oblique-61\"/><use transform=\"translate(324.27 .015625)\" xlink:href=\"#DejaVuSans-5f\"/><use transform=\"translate(374.27 .015625)\" xlink:href=\"#DejaVuSans-Oblique-71\"/><use transform=\"translate(437.74 .015625)\" xlink:href=\"#DejaVuSans-Oblique-75\"/><use transform=\"translate(501.12 .015625)\" xlink:href=\"#DejaVuSans-Oblique-62\"/><use transform=\"translate(564.6 .015625)\" xlink:href=\"#DejaVuSans-Oblique-69\"/><use transform=\"translate(592.38 .015625)\" xlink:href=\"#DejaVuSans-Oblique-74\"/></g></g><g clip-path=\"url(#p859af63ede)\"><g transform=\"translate(157.87 176.55) scale(.104 -.104)\"><use xlink:href=\"#DejaVuSans-31\"/></g></g><g clip-path=\"url(#p859af63ede)\"><g transform=\"translate(33.852 187.6) scale(.1625 -.1625)\"><defs><path id=\"DejaVuSans-73\" transform=\"scale(.015625)\" d=\"m2834 3397v-544q-243 125-506 187-262 63-544 63-428 0-642-131t-214-394q0-200 153-314t616-217l197-44q612-131 870-370t258-667q0-488-386-773-386-284-1061-284-281 0-586 55t-642 164v594q319-166 628-249 309-82 613-82 406 0 624 139 219 139 219 392 0 234-158 359-157 125-692 241l-200 47q-534 112-772 345-237 233-237 639 0 494 350 762 350 269 994 269 318 0 599-47 282-46 519-140z\"/><path id=\"DejaVuSans-79\" transform=\"scale(.015625)\" d=\"m2059-325q-243-625-475-815-231-191-618-191h-460v481h338q237 0 368 113 132 112 291 531l103 262-1415 3444h609l1094-2737 1094 2737h609l-1538-3825z\"/><path id=\"DejaVuSans-6e\" transform=\"scale(.015625)\" d=\"m3513 2113v-2113h-575v2094q0 497-194 743-194 247-581 247-466 0-735-297-269-296-269-809v-1978h-578v3500h578v-544q207 316 486 472 280 156 646 156 603 0 912-373 310-373 310-1098z\"/><path id=\"DejaVuSans-64\" transform=\"scale(.015625)\" d=\"m2906 2969v1894h575v-4863h-575v525q-181-312-458-464-276-152-664-152-634 0-1033 506-398 507-398 1332t398 1331q399 506 1033 506 388 0 664-152 277-151 458-463zm-1959-1222q0-634 261-995t717-361 718 361q263 361 263 995t-263 995q-262 361-718 361t-717-361-261-995z\"/><path id=\"DejaVuSans-72\" transform=\"scale(.015625)\" d=\"m2631 2963q-97 56-211 82-114 27-251 27-488 0-749-317t-261-911v-1844h-578v3500h578v-544q182 319 472 473 291 155 707 155 59 0 131-8 72-7 159-23l3-590z\"/><path id=\"DejaVuSans-6f\" transform=\"scale(.015625)\" d=\"m1959 3097q-462 0-731-361t-269-989 267-989q268-361 733-361 460 0 728 362 269 363 269 988 0 622-269 986-268 364-728 364zm0 487q750 0 1178-488 429-487 429-1349 0-859-429-1349-428-489-1178-489-753 0-1180 489-426 490-426 1349 0 862 426 1349 427 488 1180 488z\"/><path id=\"DejaVuSans-6d\" transform=\"scale(.015625)\" d=\"m3328 2828q216 388 516 572t706 184q547 0 844-383 297-382 297-1088v-2113h-578v2094q0 503-179 746-178 244-543 244-447 0-707-297-259-296-259-809v-1978h-578v2094q0 506-178 748t-550 242q-441 0-701-298-259-298-259-808v-1978h-578v3500h578v-544q197 322 472 475t653 153q382 0 649-194 267-193 395-562z\"/><path id=\"DejaVuSans-65\" transform=\"scale(.015625)\" d=\"m3597 1894v-281h-2644q38-594 358-905t892-311q331 0 642 81t618 244v-544q-310-131-635-200t-659-69q-838 0-1327 487-489 488-489 1320 0 859 464 1363 464 505 1252 505 706 0 1117-455 411-454 411-1235zm-575 169q-6 471-264 752-258 282-683 282-481 0-770-272t-333-766l2050 4z\"/><path id=\"DejaVuSans-62\" transform=\"scale(.015625)\" d=\"m3116 1747q0 634-261 995t-717 361q-457 0-718-361t-261-995 261-995 718-361q456 0 717 361t261 995zm-1957 1222q182 312 458 463 277 152 661 152 638 0 1036-506 399-506 399-1331t-399-1332q-398-506-1036-506-384 0-661 152-276 152-458 464v-525h-578v4863h578v-1894z\"/><path id=\"DejaVuSans-69\" transform=\"scale(.015625)\" d=\"m603 3500h575v-3500h-575v3500zm0 1363h575v-729h-575v729z\"/><path id=\"DejaVuSans-74\" transform=\"scale(.015625)\" d=\"m1172 4494v-994h1184v-447h-1184v-1900q0-428 117-550t477-122h590v-481h-590q-666 0-919 248-253 249-253 905v1900h-422v447h422v994h578z\"/></defs><use xlink:href=\"#DejaVuSans-73\"/><use x=\"52.099609\" xlink:href=\"#DejaVuSans-79\"/><use x=\"111.279297\" xlink:href=\"#DejaVuSans-6e\"/><use x=\"174.658203\" xlink:href=\"#DejaVuSans-64\"/><use x=\"238.134766\" xlink:href=\"#DejaVuSans-72\"/><use x=\"276.998047\" xlink:href=\"#DejaVuSans-6f\"/><use x=\"338.179688\" xlink:href=\"#DejaVuSans-6d\"/><use x=\"435.591797\" xlink:href=\"#DejaVuSans-65\"/><use x=\"497.115234\" xlink:href=\"#DejaVuSans-5f\"/><use x=\"547.115234\" xlink:href=\"#DejaVuSans-62\"/><use x=\"610.591797\" xlink:href=\"#DejaVuSans-69\"/><use x=\"638.375\" xlink:href=\"#DejaVuSans-74\"/></g></g><path d=\"m178.26 143.02v-12.052\" clip-path=\"url(#p859af63ede)\" fill=\"none\" stroke=\"#ffffff\" stroke-linecap=\"square\" stroke-width=\"2\"/><path d=\"m172.24 136.99h12.052\" clip-path=\"url(#p859af63ede)\" fill=\"none\" stroke=\"#ffffff\" stroke-linecap=\"square\" stroke-width=\"2\"/><path d=\"m224.62 143.02v-12.052\" clip-path=\"url(#p859af63ede)\" fill=\"none\" stroke=\"#ffffff\" stroke-linecap=\"square\" stroke-width=\"2\"/><path d=\"m218.59 136.99h12.052\" clip-path=\"url(#p859af63ede)\" fill=\"none\" stroke=\"#ffffff\" stroke-linecap=\"square\" stroke-width=\"2\"/><g clip-path=\"url(#p859af63ede)\"><g transform=\"translate(282.56 176.55) scale(.104 -.104)\"><use xlink:href=\"#DejaVuSans-30\"/></g></g><defs><clipPath id=\"p859af63ede\"><rect x=\"7.2\" y=\"7.2\" width=\"294.37\" height=\"203.96\"/></clipPath></defs></svg>"
      ],
      "text/plain": [
       "<Figure size 530.961x367.889 with 1 Axes>"
      ]
     },
     "execution_count": 11,
     "metadata": {},
     "output_type": "execute_result"
    }
   ],
   "source": [
    "qc_init = QuantumCircuit(cq, lq, sb)\n",
    "\n",
    "qc_init.compose(qc).draw()"
   ]
  },
  {
   "cell_type": "code",
   "execution_count": 12,
   "metadata": {},
   "outputs": [
    {
     "name": "stdout",
     "output_type": "stream",
     "text": [
      "Results: {'0': 1024}\n"
     ]
    }
   ],
   "source": [
    "counts = execute(qc_init.compose(qc), Aer.get_backend('qasm_simulator')).result().get_counts()\n",
    "print('Results:', counts)"
   ]
  },
  {
   "cell_type": "code",
   "execution_count": 13,
   "metadata": {
    "tags": [
     "sanity-check"
    ]
   },
   "outputs": [],
   "source": [
    "# The outcome, in all cases, is 0.\n",
    "assert list(counts.keys()) == ['0']"
   ]
  },
  {
   "cell_type": "markdown",
   "metadata": {},
   "source": [
    "The outcome, in all cases, is `0`.\n",
    "\n",
    "Now let's try an initial state of $\\left|11\\right\\rangle$."
   ]
  },
  {
   "cell_type": "code",
   "execution_count": 14,
   "metadata": {},
   "outputs": [
    {
     "data": {
      "image/svg+xml": [
       "<?xml version=\"1.0\" encoding=\"UTF-8\"?><!DOCTYPE svg  PUBLIC '-//W3C//DTD SVG 1.1//EN'  'http://www.w3.org/Graphics/SVG/1.1/DTD/svg11.dtd'><svg width=\"355.12pt\" height=\"218.36pt\" version=\"1.1\" viewBox=\"0 0 355.12 218.36\" xmlns=\"http://www.w3.org/2000/svg\" xmlns:xlink=\"http://www.w3.org/1999/xlink\"><defs><style type=\"text/css\">*{stroke-linejoin: round; stroke-linecap: butt}</style></defs><path d=\"m0 218.36h355.12v-218.36h-355.12z\" fill=\"#ffffff\"/><path d=\"m311.3 172.8h12.052l-6.026 8.6914z\" clip-path=\"url(#pab9884f212)\" fill=\"#778899\"/><path d=\"m153.23 44.283h190.05\" clip-path=\"url(#pab9884f212)\" fill=\"none\" stroke=\"#000000\" stroke-linecap=\"square\" stroke-width=\"2\"/><path d=\"m153.23 90.637h190.05\" clip-path=\"url(#pab9884f212)\" fill=\"none\" stroke=\"#000000\" stroke-linecap=\"square\" stroke-width=\"2\"/><path d=\"m153.23 136.99h190.05\" clip-path=\"url(#pab9884f212)\" fill=\"none\" stroke=\"#000000\" stroke-linecap=\"square\" stroke-width=\"2\"/><path d=\"m153.23 181.84h190.05\" clip-path=\"url(#pab9884f212)\" fill=\"none\" stroke=\"#778899\" stroke-linecap=\"square\" stroke-width=\"2\"/><path d=\"m153.23 184.85h190.05\" clip-path=\"url(#pab9884f212)\" fill=\"none\" stroke=\"#778899\" stroke-linecap=\"square\" stroke-width=\"2\"/><path d=\"m162.5 187.98 4.6354-9.2708\" clip-path=\"url(#pab9884f212)\" fill=\"none\" stroke=\"#778899\" stroke-linecap=\"square\"/><path d=\"m224.62 136.99v-92.708\" clip-path=\"url(#pab9884f212)\" fill=\"none\" stroke=\"#1192e8\" stroke-linecap=\"square\" stroke-width=\"2\"/><path d=\"m270.97 136.99v-46.354\" clip-path=\"url(#pab9884f212)\" fill=\"none\" stroke=\"#1192e8\" stroke-linecap=\"square\" stroke-width=\"2\"/><path d=\"m318.83 136.99v35.808\" clip-path=\"url(#pab9884f212)\" fill=\"none\" stroke=\"#778899\" stroke-linecap=\"square\" stroke-width=\"2\"/><path d=\"m315.82 136.99v35.808\" clip-path=\"url(#pab9884f212)\" fill=\"none\" stroke=\"#778899\" stroke-linecap=\"square\" stroke-width=\"2\"/><path d=\"m163.2 59.348h30.13v-30.13h-30.13z\" clip-path=\"url(#pab9884f212)\" fill=\"#005d5d\" stroke=\"#005d5d\" stroke-width=\"1.5\"/><path d=\"m163.2 105.7h30.13v-30.13h-30.13z\" clip-path=\"url(#pab9884f212)\" fill=\"#005d5d\" stroke=\"#005d5d\" stroke-width=\"1.5\"/><path d=\"m224.62 48.803c1.1986 0 2.3482-0.4762 3.1958-1.3237 0.84753-0.84753 1.3237-1.9972 1.3237-3.1958 0-1.1986-0.4762-2.3482-1.3237-3.1958-0.84753-0.84753-1.9972-1.3237-3.1958-1.3237s-2.3482 0.4762-3.1958 1.3237c-0.84753 0.84753-1.3237 1.9972-1.3237 3.1958 0 1.1986 0.4762 2.3482 1.3237 3.1958 0.84753 0.84753 1.9972 1.3237 3.1958 1.3237z\" clip-path=\"url(#pab9884f212)\" fill=\"#1192e8\" stroke=\"#1192e8\" stroke-width=\"1.5\"/><path d=\"m224.62 147.54c2.7967 0 5.4792-1.1111 7.4568-3.0887 1.9776-1.9776 3.0887-4.6601 3.0887-7.4568 0-2.7967-1.1111-5.4792-3.0887-7.4568-1.9776-1.9776-4.6601-3.0887-7.4568-3.0887-2.7967 0-5.4792 1.1111-7.4568 3.0887-1.9776 1.9776-3.0887 4.6601-3.0887 7.4568 0 2.7967 1.1111 5.4792 3.0887 7.4568 1.9776 1.9776 4.6601 3.0887 7.4568 3.0887z\" clip-path=\"url(#pab9884f212)\" fill=\"#1192e8\" stroke=\"#1192e8\" stroke-width=\"2\"/><path d=\"m270.97 95.157c1.1986 0 2.3482-0.4762 3.1958-1.3237 0.84753-0.84753 1.3237-1.9972 1.3237-3.1958s-0.4762-2.3482-1.3237-3.1958c-0.84753-0.84753-1.9972-1.3237-3.1958-1.3237-1.1986 0-2.3482 0.4762-3.1958 1.3237-0.84753 0.84753-1.3237 1.9972-1.3237 3.1958s0.4762 2.3482 1.3237 3.1958c0.84753 0.84753 1.9972 1.3237 3.1958 1.3237z\" clip-path=\"url(#pab9884f212)\" fill=\"#1192e8\" stroke=\"#1192e8\" stroke-width=\"1.5\"/><path d=\"m270.97 147.54c2.7967 0 5.4792-1.1111 7.4568-3.0887 1.9776-1.9776 3.0887-4.6601 3.0887-7.4568 0-2.7967-1.1111-5.4792-3.0887-7.4568-1.9776-1.9776-4.6601-3.0887-7.4568-3.0887-2.7967 0-5.4792 1.1111-7.4568 3.0887-1.9776 1.9776-3.0887 4.6601-3.0887 7.4568 0 2.7967 1.1111 5.4792 3.0887 7.4568 1.9776 1.9776 4.6601 3.0887 7.4568 3.0887z\" clip-path=\"url(#pab9884f212)\" fill=\"#1192e8\" stroke=\"#1192e8\" stroke-width=\"2\"/><path d=\"m302.26 152.06h30.13v-30.13h-30.13z\" clip-path=\"url(#pab9884f212)\" fill=\"#121619\" stroke=\"#121619\" stroke-width=\"1.5\"/><path d=\"m327.87 141.51c0-2.7958-1.1118-5.4799-3.0887-7.4568s-4.661-3.0887-7.4568-3.0887-5.4799 1.1118-7.4568 3.0887-3.0887 4.661-3.0887 7.4568\" clip-path=\"url(#pab9884f212)\" fill=\"none\" stroke=\"#ffffff\" stroke-width=\"2\"/><path d=\"m317.33 141.51 10.546-10.546\" clip-path=\"url(#pab9884f212)\" fill=\"none\" stroke=\"#ffffff\" stroke-linecap=\"square\" stroke-width=\"2\"/><g clip-path=\"url(#pab9884f212)\"><g transform=\"translate(47.111 48.508) scale(.1625 -.1625)\"><defs><path id=\"DejaVuSans-Oblique-63\" transform=\"scale(.015625)\" d=\"m3431 3366-115-569q-207 150-440 225-232 75-482 75-275 0-524-97-248-97-417-275-269-272-416-638-146-365-146-756 0-472 236-703t717-231q237 0 504 72 268 72 558 215l-109-568q-250-103-514-155t-542-52q-697 0-1072 348-375 349-375 996 0 544 195 1002t580 823q262 250 615 378 354 128 772 128 244 0 484-55 241-54 491-163z\"/><path id=\"DejaVuSans-Oblique-6f\" transform=\"scale(.015625)\" d=\"m1625-91q-616 0-974 380-357 380-357 1036 0 381 123 776 124 396 321 665 309 418 690 618t863 200q597 0 964-372 367-371 367-971 0-416-122-829-122-412-319-684-306-419-687-619t-869-200zm-734 1435q0-475 198-711 199-236 602-236 578 0 957 504 380 505 380 1280 0 453-203 684-203 232-597 232-325 0-578-152-253-151-453-461-147-231-227-528-79-297-79-612z\"/><path id=\"DejaVuSans-Oblique-64\" transform=\"scale(.015625)\" d=\"m2675 525q-231-303-547-460-315-156-700-156-525 0-830 358-304 358-304 980 0 519 184 989 185 470 535 842 231 247 521 376 291 130 610 130 337 0 595-163 258-162 399-465l375 1907h578l-947-4863h-578l109 525zm-1784 825q0-453 204-706 205-253 568-253 268 0 498 129 230 130 405 383 184 263 290 606 107 344 107 679 0 434-205 677-205 244-564 244-272 0-507-128-234-128-399-368-182-260-290-604-107-343-107-659z\"/><path id=\"DejaVuSans-Oblique-65\" transform=\"scale(.015625)\" d=\"m3078 2063q10 50 14 103 5 53 5 106 0 381-224 603-223 222-607 222-428 0-757-271-328-270-496-767l2065 4zm500-450h-2675q-19-119-25-188t-6-119q0-434 267-672 267-237 755-237 375 0 709 84 335 85 622 247l-109-569q-310-125-640-187-329-63-670-63-728 0-1120 348-392 349-392 990 0 547 195 1017t574 839q243 231 579 356t714 125q594 0 945-356 352-356 352-956 0-144-19-308-18-164-56-351z\"/><path id=\"DejaVuSans-5f\" transform=\"scale(.015625)\" d=\"m3263-1063v-446h-3326v446h3326z\"/><path id=\"DejaVuSans-Oblique-71\" transform=\"scale(.015625)\" d=\"m2669 525q-231-303-546-460-314-156-695-156-531 0-833 358-301 358-301 986 0 506 186 978t533 847q225 244 517 375t614 131q387 0 637-153t363-462l100 525h578l-934-4813h-579l360 1844zm-1778 813q0-463 193-705 194-242 560-242 544 0 928 520t384 1264q0 450-199 689-198 239-569 239-272 0-504-127-231-126-403-370-181-256-286-600-104-343-104-668z\"/><path id=\"DejaVuSans-Oblique-75\" transform=\"scale(.015625)\" d=\"m428 1388 410 2112h578l-410-2091q-31-153-45-262t-14-181q0-266 162-412 163-145 460-145 462 0 799 312 338 313 441 842l385 1937h575l-678-3500h-575l115 550q-243-306-579-474-336-167-714-167-460 0-716 252t-256 702q0 93 15 234 16 141 47 291z\"/><path id=\"DejaVuSans-Oblique-62\" transform=\"scale(.015625)\" d=\"m3169 2138q0 453-208 709t-573 256q-266 0-499-130-233-129-405-376-181-259-286-602-104-342-104-682 0-432 204-677 205-245 565-245 271 0 502 126 232 127 407 374 178 256 287 596 110 341 110 651zm-1788 831q213 287 533 451t670 164q538 0 855-363 317-362 317-980 0-507-186-982t-529-843q-225-244-519-376-294-131-616-131-340 0-590 156-250 157-407 466l-103-531h-575l947 4863h575l-372-1894z\"/><path id=\"DejaVuSans-Oblique-69\" transform=\"scale(.015625)\" d=\"m1172 4863h575l-141-729h-575l141 729zm-263-1363h575l-684-3500h-575l684 3500z\"/><path id=\"DejaVuSans-Oblique-74\" transform=\"scale(.015625)\" d=\"m2706 3500-87-447h-1147l-372-1900q-19-106-28-178t-9-112q0-200 120-291t386-91h581l-97-481h-550q-512 0-764 200-251 200-251 606 0 72 9 158t28 189l372 1900h-488l91 447h478l194 994h575l-191-994h1150z\"/><path id=\"DejaVuSans-30\" transform=\"scale(.015625)\" d=\"m2034 4250q-487 0-733-480-245-479-245-1442 0-959 245-1439 246-480 733-480 491 0 736 480 246 480 246 1439 0 963-246 1442-245 480-736 480zm0 500q785 0 1199-621 414-620 414-1801 0-1178-414-1799-414-620-1199-620-784 0-1198 620-414 621-414 1799 0 1181 414 1801 414 621 1198 621z\"/></defs><use transform=\"translate(0 .015625)\" xlink:href=\"#DejaVuSans-Oblique-63\"/><use transform=\"translate(54.98 .015625)\" xlink:href=\"#DejaVuSans-Oblique-6f\"/><use transform=\"translate(116.16 .015625)\" xlink:href=\"#DejaVuSans-Oblique-64\"/><use transform=\"translate(179.64 .015625)\" xlink:href=\"#DejaVuSans-Oblique-65\"/><use transform=\"translate(241.16 .015625)\" xlink:href=\"#DejaVuSans-5f\"/><use transform=\"translate(291.16 .015625)\" xlink:href=\"#DejaVuSans-Oblique-71\"/><use transform=\"translate(354.64 .015625)\" xlink:href=\"#DejaVuSans-Oblique-75\"/><use transform=\"translate(418.02 .015625)\" xlink:href=\"#DejaVuSans-Oblique-62\"/><use transform=\"translate(481.49 .015625)\" xlink:href=\"#DejaVuSans-Oblique-69\"/><use transform=\"translate(509.28 .015625)\" xlink:href=\"#DejaVuSans-Oblique-74\"/><use transform=\"translate(548.49 -16.391) scale(.7)\" xlink:href=\"#DejaVuSans-30\"/></g></g><g clip-path=\"url(#pab9884f212)\"><g transform=\"translate(47.111 94.862) scale(.1625 -.1625)\"><defs><path id=\"DejaVuSans-31\" transform=\"scale(.015625)\" d=\"m794 531h1031v3560l-1122-225v575l1116 225h631v-4135h1031v-531h-2687v531z\"/></defs><use transform=\"translate(0 .015625)\" xlink:href=\"#DejaVuSans-Oblique-63\"/><use transform=\"translate(54.98 .015625)\" xlink:href=\"#DejaVuSans-Oblique-6f\"/><use transform=\"translate(116.16 .015625)\" xlink:href=\"#DejaVuSans-Oblique-64\"/><use transform=\"translate(179.64 .015625)\" xlink:href=\"#DejaVuSans-Oblique-65\"/><use transform=\"translate(241.16 .015625)\" xlink:href=\"#DejaVuSans-5f\"/><use transform=\"translate(291.16 .015625)\" xlink:href=\"#DejaVuSans-Oblique-71\"/><use transform=\"translate(354.64 .015625)\" xlink:href=\"#DejaVuSans-Oblique-75\"/><use transform=\"translate(418.02 .015625)\" xlink:href=\"#DejaVuSans-Oblique-62\"/><use transform=\"translate(481.49 .015625)\" xlink:href=\"#DejaVuSans-Oblique-69\"/><use transform=\"translate(509.28 .015625)\" xlink:href=\"#DejaVuSans-Oblique-74\"/><use transform=\"translate(548.49 -16.391) scale(.7)\" xlink:href=\"#DejaVuSans-31\"/></g></g><g clip-path=\"url(#pab9884f212)\"><g transform=\"translate(41.261 141.22) scale(.1625 -.1625)\"><defs><path id=\"DejaVuSans-Oblique-61\" transform=\"scale(.015625)\" d=\"m3438 1997-391-1997h-575l106 531q-253-312-577-467-323-155-720-155-447 0-733 273-285 274-285 702 0 613 489 969t1348 356h800l31 154q7 25 10 54 3 30 3 92 0 279-227 433-226 155-636 155-281 0-577-72-295-72-607-216l100 532q325 122 636 182 311 61 601 61 619 0 942-269 324-268 324-781 0-103-16-242-15-139-46-295zm-622-238h-575q-707 0-1046-189t-339-586q0-275 173-431 174-156 480-156 469 0 819 336t463 898l25 128z\"/><path id=\"DejaVuSans-Oblique-6e\" transform=\"scale(.015625)\" d=\"m3566 2113-410-2113h-578l410 2091q28 147 43 259 16 113 16 178 0 263-166 409-165 147-462 147-463 0-797-308-334-307-438-835l-384-1941h-575l678 3500h575l-115-550q240 303 577 468 338 166 710 166 463 0 717-250 255-250 255-703 0-112-14-240t-42-278z\"/><path id=\"DejaVuSans-Oblique-6c\" transform=\"scale(.015625)\" d=\"m1172 4863h575l-947-4863h-575l947 4863z\"/></defs><use transform=\"translate(0 .015625)\" xlink:href=\"#DejaVuSans-Oblique-61\"/><use transform=\"translate(61.279 .015625)\" xlink:href=\"#DejaVuSans-Oblique-6e\"/><use transform=\"translate(124.66 .015625)\" xlink:href=\"#DejaVuSans-Oblique-63\"/><use transform=\"translate(179.64 .015625)\" xlink:href=\"#DejaVuSans-Oblique-69\"/><use transform=\"translate(207.42 .015625)\" xlink:href=\"#DejaVuSans-Oblique-6c\"/><use transform=\"translate(235.21 .015625)\" xlink:href=\"#DejaVuSans-Oblique-6c\"/><use transform=\"translate(262.99 .015625)\" xlink:href=\"#DejaVuSans-Oblique-61\"/><use transform=\"translate(324.27 .015625)\" xlink:href=\"#DejaVuSans-5f\"/><use transform=\"translate(374.27 .015625)\" xlink:href=\"#DejaVuSans-Oblique-71\"/><use transform=\"translate(437.74 .015625)\" xlink:href=\"#DejaVuSans-Oblique-75\"/><use transform=\"translate(501.12 .015625)\" xlink:href=\"#DejaVuSans-Oblique-62\"/><use transform=\"translate(564.6 .015625)\" xlink:href=\"#DejaVuSans-Oblique-69\"/><use transform=\"translate(592.38 .015625)\" xlink:href=\"#DejaVuSans-Oblique-74\"/></g></g><g clip-path=\"url(#pab9884f212)\"><g transform=\"translate(157.87 176.55) scale(.104 -.104)\"><use xlink:href=\"#DejaVuSans-31\"/></g></g><g clip-path=\"url(#pab9884f212)\"><g transform=\"translate(33.852 187.6) scale(.1625 -.1625)\"><defs><path id=\"DejaVuSans-73\" transform=\"scale(.015625)\" d=\"m2834 3397v-544q-243 125-506 187-262 63-544 63-428 0-642-131t-214-394q0-200 153-314t616-217l197-44q612-131 870-370t258-667q0-488-386-773-386-284-1061-284-281 0-586 55t-642 164v594q319-166 628-249 309-82 613-82 406 0 624 139 219 139 219 392 0 234-158 359-157 125-692 241l-200 47q-534 112-772 345-237 233-237 639 0 494 350 762 350 269 994 269 318 0 599-47 282-46 519-140z\"/><path id=\"DejaVuSans-79\" transform=\"scale(.015625)\" d=\"m2059-325q-243-625-475-815-231-191-618-191h-460v481h338q237 0 368 113 132 112 291 531l103 262-1415 3444h609l1094-2737 1094 2737h609l-1538-3825z\"/><path id=\"DejaVuSans-6e\" transform=\"scale(.015625)\" d=\"m3513 2113v-2113h-575v2094q0 497-194 743-194 247-581 247-466 0-735-297-269-296-269-809v-1978h-578v3500h578v-544q207 316 486 472 280 156 646 156 603 0 912-373 310-373 310-1098z\"/><path id=\"DejaVuSans-64\" transform=\"scale(.015625)\" d=\"m2906 2969v1894h575v-4863h-575v525q-181-312-458-464-276-152-664-152-634 0-1033 506-398 507-398 1332t398 1331q399 506 1033 506 388 0 664-152 277-151 458-463zm-1959-1222q0-634 261-995t717-361 718 361q263 361 263 995t-263 995q-262 361-718 361t-717-361-261-995z\"/><path id=\"DejaVuSans-72\" transform=\"scale(.015625)\" d=\"m2631 2963q-97 56-211 82-114 27-251 27-488 0-749-317t-261-911v-1844h-578v3500h578v-544q182 319 472 473 291 155 707 155 59 0 131-8 72-7 159-23l3-590z\"/><path id=\"DejaVuSans-6f\" transform=\"scale(.015625)\" d=\"m1959 3097q-462 0-731-361t-269-989 267-989q268-361 733-361 460 0 728 362 269 363 269 988 0 622-269 986-268 364-728 364zm0 487q750 0 1178-488 429-487 429-1349 0-859-429-1349-428-489-1178-489-753 0-1180 489-426 490-426 1349 0 862 426 1349 427 488 1180 488z\"/><path id=\"DejaVuSans-6d\" transform=\"scale(.015625)\" d=\"m3328 2828q216 388 516 572t706 184q547 0 844-383 297-382 297-1088v-2113h-578v2094q0 503-179 746-178 244-543 244-447 0-707-297-259-296-259-809v-1978h-578v2094q0 506-178 748t-550 242q-441 0-701-298-259-298-259-808v-1978h-578v3500h578v-544q197 322 472 475t653 153q382 0 649-194 267-193 395-562z\"/><path id=\"DejaVuSans-65\" transform=\"scale(.015625)\" d=\"m3597 1894v-281h-2644q38-594 358-905t892-311q331 0 642 81t618 244v-544q-310-131-635-200t-659-69q-838 0-1327 487-489 488-489 1320 0 859 464 1363 464 505 1252 505 706 0 1117-455 411-454 411-1235zm-575 169q-6 471-264 752-258 282-683 282-481 0-770-272t-333-766l2050 4z\"/><path id=\"DejaVuSans-62\" transform=\"scale(.015625)\" d=\"m3116 1747q0 634-261 995t-717 361q-457 0-718-361t-261-995 261-995 718-361q456 0 717 361t261 995zm-1957 1222q182 312 458 463 277 152 661 152 638 0 1036-506 399-506 399-1331t-399-1332q-398-506-1036-506-384 0-661 152-276 152-458 464v-525h-578v4863h578v-1894z\"/><path id=\"DejaVuSans-69\" transform=\"scale(.015625)\" d=\"m603 3500h575v-3500h-575v3500zm0 1363h575v-729h-575v729z\"/><path id=\"DejaVuSans-74\" transform=\"scale(.015625)\" d=\"m1172 4494v-994h1184v-447h-1184v-1900q0-428 117-550t477-122h590v-481h-590q-666 0-919 248-253 249-253 905v1900h-422v447h422v994h578z\"/></defs><use xlink:href=\"#DejaVuSans-73\"/><use x=\"52.099609\" xlink:href=\"#DejaVuSans-79\"/><use x=\"111.279297\" xlink:href=\"#DejaVuSans-6e\"/><use x=\"174.658203\" xlink:href=\"#DejaVuSans-64\"/><use x=\"238.134766\" xlink:href=\"#DejaVuSans-72\"/><use x=\"276.998047\" xlink:href=\"#DejaVuSans-6f\"/><use x=\"338.179688\" xlink:href=\"#DejaVuSans-6d\"/><use x=\"435.591797\" xlink:href=\"#DejaVuSans-65\"/><use x=\"497.115234\" xlink:href=\"#DejaVuSans-5f\"/><use x=\"547.115234\" xlink:href=\"#DejaVuSans-62\"/><use x=\"610.591797\" xlink:href=\"#DejaVuSans-69\"/><use x=\"638.375\" xlink:href=\"#DejaVuSans-74\"/></g></g><g clip-path=\"url(#pab9884f212)\"><g transform=\"translate(173.81 47.87) scale(.13 -.13)\" fill=\"#ffffff\"><defs><path id=\"DejaVuSans-58\" transform=\"scale(.015625)\" d=\"m403 4666h678l1160-1735 1165 1735h678l-1500-2241 1600-2425h-678l-1312 1984-1322-1984h-681l1665 2491-1453 2175z\"/></defs><use xlink:href=\"#DejaVuSans-58\"/></g></g><g clip-path=\"url(#pab9884f212)\"><g transform=\"translate(173.81 94.224) scale(.13 -.13)\" fill=\"#ffffff\"><use xlink:href=\"#DejaVuSans-58\"/></g></g><path d=\"m224.62 143.02v-12.052\" clip-path=\"url(#pab9884f212)\" fill=\"none\" stroke=\"#ffffff\" stroke-linecap=\"square\" stroke-width=\"2\"/><path d=\"m218.59 136.99h12.052\" clip-path=\"url(#pab9884f212)\" fill=\"none\" stroke=\"#ffffff\" stroke-linecap=\"square\" stroke-width=\"2\"/><path d=\"m270.97 143.02v-12.052\" clip-path=\"url(#pab9884f212)\" fill=\"none\" stroke=\"#ffffff\" stroke-linecap=\"square\" stroke-width=\"2\"/><path d=\"m264.95 136.99h12.052\" clip-path=\"url(#pab9884f212)\" fill=\"none\" stroke=\"#ffffff\" stroke-linecap=\"square\" stroke-width=\"2\"/><g clip-path=\"url(#pab9884f212)\"><g transform=\"translate(328.91 176.55) scale(.104 -.104)\"><use xlink:href=\"#DejaVuSans-30\"/></g></g><defs><clipPath id=\"pab9884f212\"><rect x=\"7.2\" y=\"7.2\" width=\"340.72\" height=\"203.96\"/></clipPath></defs></svg>"
      ],
      "text/plain": [
       "<Figure size 614.573x367.889 with 1 Axes>"
      ]
     },
     "execution_count": 14,
     "metadata": {},
     "output_type": "execute_result"
    }
   ],
   "source": [
    "qc_init = QuantumCircuit(cq, lq, sb)\n",
    "qc_init.x(cq)\n",
    "\n",
    "qc_init.compose(qc).draw()"
   ]
  },
  {
   "cell_type": "code",
   "execution_count": 15,
   "metadata": {},
   "outputs": [
    {
     "name": "stdout",
     "output_type": "stream",
     "text": [
      "Results: {'0': 1024}\n"
     ]
    }
   ],
   "source": [
    "counts = execute(qc_init.compose(qc), Aer.get_backend('qasm_simulator')).result().get_counts()\n",
    "print('Results:', counts)"
   ]
  },
  {
   "cell_type": "code",
   "execution_count": 16,
   "metadata": {
    "tags": [
     "sanity-check"
    ]
   },
   "outputs": [],
   "source": [
    "# The outcome in this case is also always 0.\n",
    "assert list(counts.keys()) == ['0']"
   ]
  },
  {
   "cell_type": "markdown",
   "metadata": {},
   "source": [
    "The outcome in this case is also always `0`. Given the linearity of quantum mechanics, we can expect the same to be true also for any superposition of $\\left|00\\right\\rangle$ and $\\left|11\\right\\rangle$, such as the example below."
   ]
  },
  {
   "cell_type": "code",
   "execution_count": 17,
   "metadata": {},
   "outputs": [
    {
     "data": {
      "image/svg+xml": [
       "<?xml version=\"1.0\" encoding=\"UTF-8\"?><!DOCTYPE svg  PUBLIC '-//W3C//DTD SVG 1.1//EN'  'http://www.w3.org/Graphics/SVG/1.1/DTD/svg11.dtd'><svg width=\"401.47pt\" height=\"218.36pt\" version=\"1.1\" viewBox=\"0 0 401.47 218.36\" xmlns=\"http://www.w3.org/2000/svg\" xmlns:xlink=\"http://www.w3.org/1999/xlink\"><defs><style type=\"text/css\">*{stroke-linejoin: round; stroke-linecap: butt}</style></defs><path d=\"m0 218.36h401.47v-218.36h-401.47z\" fill=\"#ffffff\"/><path d=\"m357.65 172.8h12.052l-6.026 8.6914z\" clip-path=\"url(#p18dd4d3bfc)\" fill=\"#778899\"/><path d=\"m153.23 44.283h236.41\" clip-path=\"url(#p18dd4d3bfc)\" fill=\"none\" stroke=\"#000000\" stroke-linecap=\"square\" stroke-width=\"2\"/><path d=\"m153.23 90.637h236.41\" clip-path=\"url(#p18dd4d3bfc)\" fill=\"none\" stroke=\"#000000\" stroke-linecap=\"square\" stroke-width=\"2\"/><path d=\"m153.23 136.99h236.41\" clip-path=\"url(#p18dd4d3bfc)\" fill=\"none\" stroke=\"#000000\" stroke-linecap=\"square\" stroke-width=\"2\"/><path d=\"m153.23 181.84h236.41\" clip-path=\"url(#p18dd4d3bfc)\" fill=\"none\" stroke=\"#778899\" stroke-linecap=\"square\" stroke-width=\"2\"/><path d=\"m153.23 184.85h236.41\" clip-path=\"url(#p18dd4d3bfc)\" fill=\"none\" stroke=\"#778899\" stroke-linecap=\"square\" stroke-width=\"2\"/><path d=\"m162.5 187.98 4.6354-9.2708\" clip-path=\"url(#p18dd4d3bfc)\" fill=\"none\" stroke=\"#778899\" stroke-linecap=\"square\"/><path d=\"m224.62 90.637v-46.354\" clip-path=\"url(#p18dd4d3bfc)\" fill=\"none\" stroke=\"#1192e8\" stroke-linecap=\"square\" stroke-width=\"2\"/><path d=\"m270.97 136.99v-92.708\" clip-path=\"url(#p18dd4d3bfc)\" fill=\"none\" stroke=\"#1192e8\" stroke-linecap=\"square\" stroke-width=\"2\"/><path d=\"m317.33 136.99v-46.354\" clip-path=\"url(#p18dd4d3bfc)\" fill=\"none\" stroke=\"#1192e8\" stroke-linecap=\"square\" stroke-width=\"2\"/><path d=\"m365.19 136.99v35.808\" clip-path=\"url(#p18dd4d3bfc)\" fill=\"none\" stroke=\"#778899\" stroke-linecap=\"square\" stroke-width=\"2\"/><path d=\"m362.17 136.99v35.808\" clip-path=\"url(#p18dd4d3bfc)\" fill=\"none\" stroke=\"#778899\" stroke-linecap=\"square\" stroke-width=\"2\"/><path d=\"m163.2 59.348h30.13v-30.13h-30.13z\" clip-path=\"url(#p18dd4d3bfc)\" fill=\"#1192e8\" stroke=\"#1192e8\" stroke-width=\"1.5\"/><path d=\"m224.62 48.803c1.1986 0 2.3482-0.4762 3.1958-1.3237 0.84753-0.84753 1.3237-1.9972 1.3237-3.1958 0-1.1986-0.4762-2.3482-1.3237-3.1958-0.84753-0.84753-1.9972-1.3237-3.1958-1.3237s-2.3482 0.4762-3.1958 1.3237c-0.84753 0.84753-1.3237 1.9972-1.3237 3.1958 0 1.1986 0.4762 2.3482 1.3237 3.1958 0.84753 0.84753 1.9972 1.3237 3.1958 1.3237z\" clip-path=\"url(#p18dd4d3bfc)\" fill=\"#1192e8\" stroke=\"#1192e8\" stroke-width=\"1.5\"/><path d=\"m224.62 101.18c2.7967 0 5.4792-1.1111 7.4568-3.0887 1.9776-1.9776 3.0887-4.6601 3.0887-7.4568 0-2.7967-1.1111-5.4792-3.0887-7.4568-1.9776-1.9776-4.6601-3.0887-7.4568-3.0887-2.7967 0-5.4792 1.1111-7.4568 3.0887-1.9776 1.9776-3.0887 4.6601-3.0887 7.4568 0 2.7967 1.1111 5.4792 3.0887 7.4568 1.9776 1.9776 4.6601 3.0887 7.4568 3.0887z\" clip-path=\"url(#p18dd4d3bfc)\" fill=\"#1192e8\" stroke=\"#1192e8\" stroke-width=\"2\"/><path d=\"m270.97 48.803c1.1986 0 2.3482-0.4762 3.1958-1.3237s1.3237-1.9972 1.3237-3.1958c0-1.1986-0.4762-2.3482-1.3237-3.1958s-1.9972-1.3237-3.1958-1.3237c-1.1986 0-2.3482 0.4762-3.1958 1.3237-0.84753 0.84753-1.3237 1.9972-1.3237 3.1958 0 1.1986 0.4762 2.3482 1.3237 3.1958 0.84753 0.84753 1.9972 1.3237 3.1958 1.3237z\" clip-path=\"url(#p18dd4d3bfc)\" fill=\"#1192e8\" stroke=\"#1192e8\" stroke-width=\"1.5\"/><path d=\"m270.97 147.54c2.7967 0 5.4792-1.1111 7.4568-3.0887 1.9776-1.9776 3.0887-4.6601 3.0887-7.4568 0-2.7967-1.1111-5.4792-3.0887-7.4568-1.9776-1.9776-4.6601-3.0887-7.4568-3.0887-2.7967 0-5.4792 1.1111-7.4568 3.0887-1.9776 1.9776-3.0887 4.6601-3.0887 7.4568 0 2.7967 1.1111 5.4792 3.0887 7.4568 1.9776 1.9776 4.6601 3.0887 7.4568 3.0887z\" clip-path=\"url(#p18dd4d3bfc)\" fill=\"#1192e8\" stroke=\"#1192e8\" stroke-width=\"2\"/><path d=\"m317.33 95.157c1.1986 0 2.3482-0.4762 3.1958-1.3237 0.84753-0.84753 1.3237-1.9972 1.3237-3.1958s-0.4762-2.3482-1.3237-3.1958c-0.84753-0.84753-1.9972-1.3237-3.1958-1.3237-1.1986 0-2.3482 0.4762-3.1958 1.3237-0.84753 0.84753-1.3237 1.9972-1.3237 3.1958s0.4762 2.3482 1.3237 3.1958c0.84753 0.84753 1.9972 1.3237 3.1958 1.3237z\" clip-path=\"url(#p18dd4d3bfc)\" fill=\"#1192e8\" stroke=\"#1192e8\" stroke-width=\"1.5\"/><path d=\"m317.33 147.54c2.7967 0 5.4792-1.1111 7.4568-3.0887 1.9776-1.9776 3.0887-4.6601 3.0887-7.4568 0-2.7967-1.1111-5.4792-3.0887-7.4568s-4.6601-3.0887-7.4568-3.0887c-2.7967 0-5.4792 1.1111-7.4568 3.0887-1.9776 1.9776-3.0887 4.6601-3.0887 7.4568 0 2.7967 1.1111 5.4792 3.0887 7.4568 1.9776 1.9776 4.6601 3.0887 7.4568 3.0887z\" clip-path=\"url(#p18dd4d3bfc)\" fill=\"#1192e8\" stroke=\"#1192e8\" stroke-width=\"2\"/><path d=\"m348.61 152.06h30.13v-30.13h-30.13z\" clip-path=\"url(#p18dd4d3bfc)\" fill=\"#121619\" stroke=\"#121619\" stroke-width=\"1.5\"/><path d=\"m374.22 141.51c0-2.7958-1.1118-5.4799-3.0887-7.4568-1.9769-1.9769-4.661-3.0887-7.4568-3.0887s-5.4799 1.1118-7.4568 3.0887-3.0887 4.661-3.0887 7.4568\" clip-path=\"url(#p18dd4d3bfc)\" fill=\"none\" stroke=\"#ffffff\" stroke-width=\"2\"/><path d=\"m363.68 141.51 10.546-10.546\" clip-path=\"url(#p18dd4d3bfc)\" fill=\"none\" stroke=\"#ffffff\" stroke-linecap=\"square\" stroke-width=\"2\"/><g clip-path=\"url(#p18dd4d3bfc)\"><g transform=\"translate(47.111 48.508) scale(.1625 -.1625)\"><defs><path id=\"DejaVuSans-Oblique-63\" transform=\"scale(.015625)\" d=\"m3431 3366-115-569q-207 150-440 225-232 75-482 75-275 0-524-97-248-97-417-275-269-272-416-638-146-365-146-756 0-472 236-703t717-231q237 0 504 72 268 72 558 215l-109-568q-250-103-514-155t-542-52q-697 0-1072 348-375 349-375 996 0 544 195 1002t580 823q262 250 615 378 354 128 772 128 244 0 484-55 241-54 491-163z\"/><path id=\"DejaVuSans-Oblique-6f\" transform=\"scale(.015625)\" d=\"m1625-91q-616 0-974 380-357 380-357 1036 0 381 123 776 124 396 321 665 309 418 690 618t863 200q597 0 964-372 367-371 367-971 0-416-122-829-122-412-319-684-306-419-687-619t-869-200zm-734 1435q0-475 198-711 199-236 602-236 578 0 957 504 380 505 380 1280 0 453-203 684-203 232-597 232-325 0-578-152-253-151-453-461-147-231-227-528-79-297-79-612z\"/><path id=\"DejaVuSans-Oblique-64\" transform=\"scale(.015625)\" d=\"m2675 525q-231-303-547-460-315-156-700-156-525 0-830 358-304 358-304 980 0 519 184 989 185 470 535 842 231 247 521 376 291 130 610 130 337 0 595-163 258-162 399-465l375 1907h578l-947-4863h-578l109 525zm-1784 825q0-453 204-706 205-253 568-253 268 0 498 129 230 130 405 383 184 263 290 606 107 344 107 679 0 434-205 677-205 244-564 244-272 0-507-128-234-128-399-368-182-260-290-604-107-343-107-659z\"/><path id=\"DejaVuSans-Oblique-65\" transform=\"scale(.015625)\" d=\"m3078 2063q10 50 14 103 5 53 5 106 0 381-224 603-223 222-607 222-428 0-757-271-328-270-496-767l2065 4zm500-450h-2675q-19-119-25-188t-6-119q0-434 267-672 267-237 755-237 375 0 709 84 335 85 622 247l-109-569q-310-125-640-187-329-63-670-63-728 0-1120 348-392 349-392 990 0 547 195 1017t574 839q243 231 579 356t714 125q594 0 945-356 352-356 352-956 0-144-19-308-18-164-56-351z\"/><path id=\"DejaVuSans-5f\" transform=\"scale(.015625)\" d=\"m3263-1063v-446h-3326v446h3326z\"/><path id=\"DejaVuSans-Oblique-71\" transform=\"scale(.015625)\" d=\"m2669 525q-231-303-546-460-314-156-695-156-531 0-833 358-301 358-301 986 0 506 186 978t533 847q225 244 517 375t614 131q387 0 637-153t363-462l100 525h578l-934-4813h-579l360 1844zm-1778 813q0-463 193-705 194-242 560-242 544 0 928 520t384 1264q0 450-199 689-198 239-569 239-272 0-504-127-231-126-403-370-181-256-286-600-104-343-104-668z\"/><path id=\"DejaVuSans-Oblique-75\" transform=\"scale(.015625)\" d=\"m428 1388 410 2112h578l-410-2091q-31-153-45-262t-14-181q0-266 162-412 163-145 460-145 462 0 799 312 338 313 441 842l385 1937h575l-678-3500h-575l115 550q-243-306-579-474-336-167-714-167-460 0-716 252t-256 702q0 93 15 234 16 141 47 291z\"/><path id=\"DejaVuSans-Oblique-62\" transform=\"scale(.015625)\" d=\"m3169 2138q0 453-208 709t-573 256q-266 0-499-130-233-129-405-376-181-259-286-602-104-342-104-682 0-432 204-677 205-245 565-245 271 0 502 126 232 127 407 374 178 256 287 596 110 341 110 651zm-1788 831q213 287 533 451t670 164q538 0 855-363 317-362 317-980 0-507-186-982t-529-843q-225-244-519-376-294-131-616-131-340 0-590 156-250 157-407 466l-103-531h-575l947 4863h575l-372-1894z\"/><path id=\"DejaVuSans-Oblique-69\" transform=\"scale(.015625)\" d=\"m1172 4863h575l-141-729h-575l141 729zm-263-1363h575l-684-3500h-575l684 3500z\"/><path id=\"DejaVuSans-Oblique-74\" transform=\"scale(.015625)\" d=\"m2706 3500-87-447h-1147l-372-1900q-19-106-28-178t-9-112q0-200 120-291t386-91h581l-97-481h-550q-512 0-764 200-251 200-251 606 0 72 9 158t28 189l372 1900h-488l91 447h478l194 994h575l-191-994h1150z\"/><path id=\"DejaVuSans-30\" transform=\"scale(.015625)\" d=\"m2034 4250q-487 0-733-480-245-479-245-1442 0-959 245-1439 246-480 733-480 491 0 736 480 246 480 246 1439 0 963-246 1442-245 480-736 480zm0 500q785 0 1199-621 414-620 414-1801 0-1178-414-1799-414-620-1199-620-784 0-1198 620-414 621-414 1799 0 1181 414 1801 414 621 1198 621z\"/></defs><use transform=\"translate(0 .015625)\" xlink:href=\"#DejaVuSans-Oblique-63\"/><use transform=\"translate(54.98 .015625)\" xlink:href=\"#DejaVuSans-Oblique-6f\"/><use transform=\"translate(116.16 .015625)\" xlink:href=\"#DejaVuSans-Oblique-64\"/><use transform=\"translate(179.64 .015625)\" xlink:href=\"#DejaVuSans-Oblique-65\"/><use transform=\"translate(241.16 .015625)\" xlink:href=\"#DejaVuSans-5f\"/><use transform=\"translate(291.16 .015625)\" xlink:href=\"#DejaVuSans-Oblique-71\"/><use transform=\"translate(354.64 .015625)\" xlink:href=\"#DejaVuSans-Oblique-75\"/><use transform=\"translate(418.02 .015625)\" xlink:href=\"#DejaVuSans-Oblique-62\"/><use transform=\"translate(481.49 .015625)\" xlink:href=\"#DejaVuSans-Oblique-69\"/><use transform=\"translate(509.28 .015625)\" xlink:href=\"#DejaVuSans-Oblique-74\"/><use transform=\"translate(548.49 -16.391) scale(.7)\" xlink:href=\"#DejaVuSans-30\"/></g></g><g clip-path=\"url(#p18dd4d3bfc)\"><g transform=\"translate(47.111 94.862) scale(.1625 -.1625)\"><defs><path id=\"DejaVuSans-31\" transform=\"scale(.015625)\" d=\"m794 531h1031v3560l-1122-225v575l1116 225h631v-4135h1031v-531h-2687v531z\"/></defs><use transform=\"translate(0 .015625)\" xlink:href=\"#DejaVuSans-Oblique-63\"/><use transform=\"translate(54.98 .015625)\" xlink:href=\"#DejaVuSans-Oblique-6f\"/><use transform=\"translate(116.16 .015625)\" xlink:href=\"#DejaVuSans-Oblique-64\"/><use transform=\"translate(179.64 .015625)\" xlink:href=\"#DejaVuSans-Oblique-65\"/><use transform=\"translate(241.16 .015625)\" xlink:href=\"#DejaVuSans-5f\"/><use transform=\"translate(291.16 .015625)\" xlink:href=\"#DejaVuSans-Oblique-71\"/><use transform=\"translate(354.64 .015625)\" xlink:href=\"#DejaVuSans-Oblique-75\"/><use transform=\"translate(418.02 .015625)\" xlink:href=\"#DejaVuSans-Oblique-62\"/><use transform=\"translate(481.49 .015625)\" xlink:href=\"#DejaVuSans-Oblique-69\"/><use transform=\"translate(509.28 .015625)\" xlink:href=\"#DejaVuSans-Oblique-74\"/><use transform=\"translate(548.49 -16.391) scale(.7)\" xlink:href=\"#DejaVuSans-31\"/></g></g><g clip-path=\"url(#p18dd4d3bfc)\"><g transform=\"translate(41.261 141.22) scale(.1625 -.1625)\"><defs><path id=\"DejaVuSans-Oblique-61\" transform=\"scale(.015625)\" d=\"m3438 1997-391-1997h-575l106 531q-253-312-577-467-323-155-720-155-447 0-733 273-285 274-285 702 0 613 489 969t1348 356h800l31 154q7 25 10 54 3 30 3 92 0 279-227 433-226 155-636 155-281 0-577-72-295-72-607-216l100 532q325 122 636 182 311 61 601 61 619 0 942-269 324-268 324-781 0-103-16-242-15-139-46-295zm-622-238h-575q-707 0-1046-189t-339-586q0-275 173-431 174-156 480-156 469 0 819 336t463 898l25 128z\"/><path id=\"DejaVuSans-Oblique-6e\" transform=\"scale(.015625)\" d=\"m3566 2113-410-2113h-578l410 2091q28 147 43 259 16 113 16 178 0 263-166 409-165 147-462 147-463 0-797-308-334-307-438-835l-384-1941h-575l678 3500h575l-115-550q240 303 577 468 338 166 710 166 463 0 717-250 255-250 255-703 0-112-14-240t-42-278z\"/><path id=\"DejaVuSans-Oblique-6c\" transform=\"scale(.015625)\" d=\"m1172 4863h575l-947-4863h-575l947 4863z\"/></defs><use transform=\"translate(0 .015625)\" xlink:href=\"#DejaVuSans-Oblique-61\"/><use transform=\"translate(61.279 .015625)\" xlink:href=\"#DejaVuSans-Oblique-6e\"/><use transform=\"translate(124.66 .015625)\" xlink:href=\"#DejaVuSans-Oblique-63\"/><use transform=\"translate(179.64 .015625)\" xlink:href=\"#DejaVuSans-Oblique-69\"/><use transform=\"translate(207.42 .015625)\" xlink:href=\"#DejaVuSans-Oblique-6c\"/><use transform=\"translate(235.21 .015625)\" xlink:href=\"#DejaVuSans-Oblique-6c\"/><use transform=\"translate(262.99 .015625)\" xlink:href=\"#DejaVuSans-Oblique-61\"/><use transform=\"translate(324.27 .015625)\" xlink:href=\"#DejaVuSans-5f\"/><use transform=\"translate(374.27 .015625)\" xlink:href=\"#DejaVuSans-Oblique-71\"/><use transform=\"translate(437.74 .015625)\" xlink:href=\"#DejaVuSans-Oblique-75\"/><use transform=\"translate(501.12 .015625)\" xlink:href=\"#DejaVuSans-Oblique-62\"/><use transform=\"translate(564.6 .015625)\" xlink:href=\"#DejaVuSans-Oblique-69\"/><use transform=\"translate(592.38 .015625)\" xlink:href=\"#DejaVuSans-Oblique-74\"/></g></g><g clip-path=\"url(#p18dd4d3bfc)\"><g transform=\"translate(157.87 176.55) scale(.104 -.104)\"><use xlink:href=\"#DejaVuSans-31\"/></g></g><g clip-path=\"url(#p18dd4d3bfc)\"><g transform=\"translate(33.852 187.6) scale(.1625 -.1625)\"><defs><path id=\"DejaVuSans-73\" transform=\"scale(.015625)\" d=\"m2834 3397v-544q-243 125-506 187-262 63-544 63-428 0-642-131t-214-394q0-200 153-314t616-217l197-44q612-131 870-370t258-667q0-488-386-773-386-284-1061-284-281 0-586 55t-642 164v594q319-166 628-249 309-82 613-82 406 0 624 139 219 139 219 392 0 234-158 359-157 125-692 241l-200 47q-534 112-772 345-237 233-237 639 0 494 350 762 350 269 994 269 318 0 599-47 282-46 519-140z\"/><path id=\"DejaVuSans-79\" transform=\"scale(.015625)\" d=\"m2059-325q-243-625-475-815-231-191-618-191h-460v481h338q237 0 368 113 132 112 291 531l103 262-1415 3444h609l1094-2737 1094 2737h609l-1538-3825z\"/><path id=\"DejaVuSans-6e\" transform=\"scale(.015625)\" d=\"m3513 2113v-2113h-575v2094q0 497-194 743-194 247-581 247-466 0-735-297-269-296-269-809v-1978h-578v3500h578v-544q207 316 486 472 280 156 646 156 603 0 912-373 310-373 310-1098z\"/><path id=\"DejaVuSans-64\" transform=\"scale(.015625)\" d=\"m2906 2969v1894h575v-4863h-575v525q-181-312-458-464-276-152-664-152-634 0-1033 506-398 507-398 1332t398 1331q399 506 1033 506 388 0 664-152 277-151 458-463zm-1959-1222q0-634 261-995t717-361 718 361q263 361 263 995t-263 995q-262 361-718 361t-717-361-261-995z\"/><path id=\"DejaVuSans-72\" transform=\"scale(.015625)\" d=\"m2631 2963q-97 56-211 82-114 27-251 27-488 0-749-317t-261-911v-1844h-578v3500h578v-544q182 319 472 473 291 155 707 155 59 0 131-8 72-7 159-23l3-590z\"/><path id=\"DejaVuSans-6f\" transform=\"scale(.015625)\" d=\"m1959 3097q-462 0-731-361t-269-989 267-989q268-361 733-361 460 0 728 362 269 363 269 988 0 622-269 986-268 364-728 364zm0 487q750 0 1178-488 429-487 429-1349 0-859-429-1349-428-489-1178-489-753 0-1180 489-426 490-426 1349 0 862 426 1349 427 488 1180 488z\"/><path id=\"DejaVuSans-6d\" transform=\"scale(.015625)\" d=\"m3328 2828q216 388 516 572t706 184q547 0 844-383 297-382 297-1088v-2113h-578v2094q0 503-179 746-178 244-543 244-447 0-707-297-259-296-259-809v-1978h-578v2094q0 506-178 748t-550 242q-441 0-701-298-259-298-259-808v-1978h-578v3500h578v-544q197 322 472 475t653 153q382 0 649-194 267-193 395-562z\"/><path id=\"DejaVuSans-65\" transform=\"scale(.015625)\" d=\"m3597 1894v-281h-2644q38-594 358-905t892-311q331 0 642 81t618 244v-544q-310-131-635-200t-659-69q-838 0-1327 487-489 488-489 1320 0 859 464 1363 464 505 1252 505 706 0 1117-455 411-454 411-1235zm-575 169q-6 471-264 752-258 282-683 282-481 0-770-272t-333-766l2050 4z\"/><path id=\"DejaVuSans-62\" transform=\"scale(.015625)\" d=\"m3116 1747q0 634-261 995t-717 361q-457 0-718-361t-261-995 261-995 718-361q456 0 717 361t261 995zm-1957 1222q182 312 458 463 277 152 661 152 638 0 1036-506 399-506 399-1331t-399-1332q-398-506-1036-506-384 0-661 152-276 152-458 464v-525h-578v4863h578v-1894z\"/><path id=\"DejaVuSans-69\" transform=\"scale(.015625)\" d=\"m603 3500h575v-3500h-575v3500zm0 1363h575v-729h-575v729z\"/><path id=\"DejaVuSans-74\" transform=\"scale(.015625)\" d=\"m1172 4494v-994h1184v-447h-1184v-1900q0-428 117-550t477-122h590v-481h-590q-666 0-919 248-253 249-253 905v1900h-422v447h422v994h578z\"/></defs><use xlink:href=\"#DejaVuSans-73\"/><use x=\"52.099609\" xlink:href=\"#DejaVuSans-79\"/><use x=\"111.279297\" xlink:href=\"#DejaVuSans-6e\"/><use x=\"174.658203\" xlink:href=\"#DejaVuSans-64\"/><use x=\"238.134766\" xlink:href=\"#DejaVuSans-72\"/><use x=\"276.998047\" xlink:href=\"#DejaVuSans-6f\"/><use x=\"338.179688\" xlink:href=\"#DejaVuSans-6d\"/><use x=\"435.591797\" xlink:href=\"#DejaVuSans-65\"/><use x=\"497.115234\" xlink:href=\"#DejaVuSans-5f\"/><use x=\"547.115234\" xlink:href=\"#DejaVuSans-62\"/><use x=\"610.591797\" xlink:href=\"#DejaVuSans-69\"/><use x=\"638.375\" xlink:href=\"#DejaVuSans-74\"/></g></g><g clip-path=\"url(#p18dd4d3bfc)\"><g transform=\"translate(173.38 47.87) scale(.13 -.13)\" fill=\"#ffffff\"><defs><path id=\"DejaVuSans-48\" transform=\"scale(.015625)\" d=\"m628 4666h631v-1913h2294v1913h631v-4666h-631v2222h-2294v-2222h-631v4666z\"/></defs><use xlink:href=\"#DejaVuSans-48\"/></g></g><path d=\"m224.62 96.663v-12.052\" clip-path=\"url(#p18dd4d3bfc)\" fill=\"none\" stroke=\"#ffffff\" stroke-linecap=\"square\" stroke-width=\"2\"/><path d=\"m218.59 90.637h12.052\" clip-path=\"url(#p18dd4d3bfc)\" fill=\"none\" stroke=\"#ffffff\" stroke-linecap=\"square\" stroke-width=\"2\"/><path d=\"m270.97 143.02v-12.052\" clip-path=\"url(#p18dd4d3bfc)\" fill=\"none\" stroke=\"#ffffff\" stroke-linecap=\"square\" stroke-width=\"2\"/><path d=\"m264.95 136.99h12.052\" clip-path=\"url(#p18dd4d3bfc)\" fill=\"none\" stroke=\"#ffffff\" stroke-linecap=\"square\" stroke-width=\"2\"/><path d=\"m317.33 143.02v-12.052\" clip-path=\"url(#p18dd4d3bfc)\" fill=\"none\" stroke=\"#ffffff\" stroke-linecap=\"square\" stroke-width=\"2\"/><path d=\"m311.3 136.99h12.052\" clip-path=\"url(#p18dd4d3bfc)\" fill=\"none\" stroke=\"#ffffff\" stroke-linecap=\"square\" stroke-width=\"2\"/><g clip-path=\"url(#p18dd4d3bfc)\"><g transform=\"translate(375.27 176.55) scale(.104 -.104)\"><use xlink:href=\"#DejaVuSans-30\"/></g></g><defs><clipPath id=\"p18dd4d3bfc\"><rect x=\"7.2\" y=\"7.2\" width=\"387.07\" height=\"203.96\"/></clipPath></defs></svg>"
      ],
      "text/plain": [
       "<Figure size 698.184x367.889 with 1 Axes>"
      ]
     },
     "execution_count": 17,
     "metadata": {},
     "output_type": "execute_result"
    }
   ],
   "source": [
    "qc_init = QuantumCircuit(cq, lq, sb)\n",
    "qc_init.h(cq[0])\n",
    "qc_init.cx(cq[0], cq[1])\n",
    "\n",
    "qc_init.compose(qc).draw()"
   ]
  },
  {
   "cell_type": "code",
   "execution_count": 18,
   "metadata": {},
   "outputs": [
    {
     "name": "stdout",
     "output_type": "stream",
     "text": [
      "Results: {'0': 1024}\n"
     ]
    }
   ],
   "source": [
    "counts = execute(qc_init.compose(qc), Aer.get_backend('qasm_simulator')).result().get_counts()\n",
    "print('Results:', counts)"
   ]
  },
  {
   "cell_type": "code",
   "execution_count": 19,
   "metadata": {
    "tags": [
     "sanity-check"
    ]
   },
   "outputs": [],
   "source": [
    "# ...we can expect the same to be true also for\n",
    "# any superposition of |00⟩ and |11⟩...\n",
    "assert list(counts.keys()) == ['0']"
   ]
  },
  {
   "cell_type": "markdown",
   "metadata": {},
   "source": [
    "The opposite outcome will be found for an initial state of $\\left|01\\right\\rangle$, $\\left|10\\right\\rangle$ or any superposition thereof."
   ]
  },
  {
   "cell_type": "code",
   "execution_count": 20,
   "metadata": {},
   "outputs": [
    {
     "data": {
      "image/svg+xml": [
       "<?xml version=\"1.0\" encoding=\"UTF-8\"?><!DOCTYPE svg  PUBLIC '-//W3C//DTD SVG 1.1//EN'  'http://www.w3.org/Graphics/SVG/1.1/DTD/svg11.dtd'><svg width=\"447.83pt\" height=\"218.36pt\" version=\"1.1\" viewBox=\"0 0 447.83 218.36\" xmlns=\"http://www.w3.org/2000/svg\" xmlns:xlink=\"http://www.w3.org/1999/xlink\"><defs><style type=\"text/css\">*{stroke-linejoin: round; stroke-linecap: butt}</style></defs><path d=\"m0 218.36h447.83v-218.36h-447.83z\" fill=\"#ffffff\"/><path d=\"m404.01 172.8h12.052l-6.026 8.6914z\" clip-path=\"url(#p1ab4d53d2d)\" fill=\"#778899\"/><path d=\"m153.23 44.283h282.76\" clip-path=\"url(#p1ab4d53d2d)\" fill=\"none\" stroke=\"#000000\" stroke-linecap=\"square\" stroke-width=\"2\"/><path d=\"m153.23 90.637h282.76\" clip-path=\"url(#p1ab4d53d2d)\" fill=\"none\" stroke=\"#000000\" stroke-linecap=\"square\" stroke-width=\"2\"/><path d=\"m153.23 136.99h282.76\" clip-path=\"url(#p1ab4d53d2d)\" fill=\"none\" stroke=\"#000000\" stroke-linecap=\"square\" stroke-width=\"2\"/><path d=\"m153.23 181.84h282.76\" clip-path=\"url(#p1ab4d53d2d)\" fill=\"none\" stroke=\"#778899\" stroke-linecap=\"square\" stroke-width=\"2\"/><path d=\"m153.23 184.85h282.76\" clip-path=\"url(#p1ab4d53d2d)\" fill=\"none\" stroke=\"#778899\" stroke-linecap=\"square\" stroke-width=\"2\"/><path d=\"m162.5 187.98 4.6354-9.2708\" clip-path=\"url(#p1ab4d53d2d)\" fill=\"none\" stroke=\"#778899\" stroke-linecap=\"square\"/><path d=\"m224.62 90.637v-46.354\" clip-path=\"url(#p1ab4d53d2d)\" fill=\"none\" stroke=\"#1192e8\" stroke-linecap=\"square\" stroke-width=\"2\"/><path d=\"m317.33 136.99v-92.708\" clip-path=\"url(#p1ab4d53d2d)\" fill=\"none\" stroke=\"#1192e8\" stroke-linecap=\"square\" stroke-width=\"2\"/><path d=\"m363.68 136.99v-46.354\" clip-path=\"url(#p1ab4d53d2d)\" fill=\"none\" stroke=\"#1192e8\" stroke-linecap=\"square\" stroke-width=\"2\"/><path d=\"m411.54 136.99v35.808\" clip-path=\"url(#p1ab4d53d2d)\" fill=\"none\" stroke=\"#778899\" stroke-linecap=\"square\" stroke-width=\"2\"/><path d=\"m408.53 136.99v35.808\" clip-path=\"url(#p1ab4d53d2d)\" fill=\"none\" stroke=\"#778899\" stroke-linecap=\"square\" stroke-width=\"2\"/><path d=\"m163.2 59.348h30.13v-30.13h-30.13z\" clip-path=\"url(#p1ab4d53d2d)\" fill=\"#1192e8\" stroke=\"#1192e8\" stroke-width=\"1.5\"/><path d=\"m224.62 48.803c1.1986 0 2.3482-0.4762 3.1958-1.3237 0.84753-0.84753 1.3237-1.9972 1.3237-3.1958 0-1.1986-0.4762-2.3482-1.3237-3.1958-0.84753-0.84753-1.9972-1.3237-3.1958-1.3237s-2.3482 0.4762-3.1958 1.3237c-0.84753 0.84753-1.3237 1.9972-1.3237 3.1958 0 1.1986 0.4762 2.3482 1.3237 3.1958 0.84753 0.84753 1.9972 1.3237 3.1958 1.3237z\" clip-path=\"url(#p1ab4d53d2d)\" fill=\"#1192e8\" stroke=\"#1192e8\" stroke-width=\"1.5\"/><path d=\"m224.62 101.18c2.7967 0 5.4792-1.1111 7.4568-3.0887 1.9776-1.9776 3.0887-4.6601 3.0887-7.4568 0-2.7967-1.1111-5.4792-3.0887-7.4568-1.9776-1.9776-4.6601-3.0887-7.4568-3.0887-2.7967 0-5.4792 1.1111-7.4568 3.0887-1.9776 1.9776-3.0887 4.6601-3.0887 7.4568 0 2.7967 1.1111 5.4792 3.0887 7.4568 1.9776 1.9776 4.6601 3.0887 7.4568 3.0887z\" clip-path=\"url(#p1ab4d53d2d)\" fill=\"#1192e8\" stroke=\"#1192e8\" stroke-width=\"2\"/><path d=\"m255.91 59.348h30.13v-30.13h-30.13z\" clip-path=\"url(#p1ab4d53d2d)\" fill=\"#005d5d\" stroke=\"#005d5d\" stroke-width=\"1.5\"/><path d=\"m317.33 48.803c1.1986 0 2.3482-0.4762 3.1958-1.3237 0.84753-0.84753 1.3237-1.9972 1.3237-3.1958 0-1.1986-0.4762-2.3482-1.3237-3.1958-0.84753-0.84753-1.9972-1.3237-3.1958-1.3237-1.1986 0-2.3482 0.4762-3.1958 1.3237-0.84753 0.84753-1.3237 1.9972-1.3237 3.1958 0 1.1986 0.4762 2.3482 1.3237 3.1958 0.84753 0.84753 1.9972 1.3237 3.1958 1.3237z\" clip-path=\"url(#p1ab4d53d2d)\" fill=\"#1192e8\" stroke=\"#1192e8\" stroke-width=\"1.5\"/><path d=\"m317.33 147.54c2.7967 0 5.4792-1.1111 7.4568-3.0887 1.9776-1.9776 3.0887-4.6601 3.0887-7.4568 0-2.7967-1.1111-5.4792-3.0887-7.4568s-4.6601-3.0887-7.4568-3.0887c-2.7967 0-5.4792 1.1111-7.4568 3.0887-1.9776 1.9776-3.0887 4.6601-3.0887 7.4568 0 2.7967 1.1111 5.4792 3.0887 7.4568 1.9776 1.9776 4.6601 3.0887 7.4568 3.0887z\" clip-path=\"url(#p1ab4d53d2d)\" fill=\"#1192e8\" stroke=\"#1192e8\" stroke-width=\"2\"/><path d=\"m363.68 95.157c1.1986 0 2.3482-0.4762 3.1958-1.3237 0.84753-0.84753 1.3237-1.9972 1.3237-3.1958s-0.4762-2.3482-1.3237-3.1958c-0.84753-0.84753-1.9972-1.3237-3.1958-1.3237-1.1986 0-2.3482 0.4762-3.1958 1.3237-0.84753 0.84753-1.3237 1.9972-1.3237 3.1958s0.4762 2.3482 1.3237 3.1958c0.84753 0.84753 1.9972 1.3237 3.1958 1.3237z\" clip-path=\"url(#p1ab4d53d2d)\" fill=\"#1192e8\" stroke=\"#1192e8\" stroke-width=\"1.5\"/><path d=\"m363.68 147.54c2.7967 0 5.4792-1.1111 7.4568-3.0887 1.9776-1.9776 3.0887-4.6601 3.0887-7.4568 0-2.7967-1.1111-5.4792-3.0887-7.4568-1.9776-1.9776-4.6601-3.0887-7.4568-3.0887-2.7967 0-5.4792 1.1111-7.4568 3.0887s-3.0887 4.6601-3.0887 7.4568c0 2.7967 1.1111 5.4792 3.0887 7.4568 1.9776 1.9776 4.6601 3.0887 7.4568 3.0887z\" clip-path=\"url(#p1ab4d53d2d)\" fill=\"#1192e8\" stroke=\"#1192e8\" stroke-width=\"2\"/><path d=\"m394.97 152.06h30.13v-30.13h-30.13z\" clip-path=\"url(#p1ab4d53d2d)\" fill=\"#121619\" stroke=\"#121619\" stroke-width=\"1.5\"/><path d=\"m420.58 141.51c0-2.7958-1.1118-5.4799-3.0887-7.4568s-4.661-3.0887-7.4568-3.0887-5.4799 1.1118-7.4568 3.0887-3.0887 4.661-3.0887 7.4568\" clip-path=\"url(#p1ab4d53d2d)\" fill=\"none\" stroke=\"#ffffff\" stroke-width=\"2\"/><path d=\"m410.03 141.51 10.546-10.546\" clip-path=\"url(#p1ab4d53d2d)\" fill=\"none\" stroke=\"#ffffff\" stroke-linecap=\"square\" stroke-width=\"2\"/><g clip-path=\"url(#p1ab4d53d2d)\"><g transform=\"translate(47.111 48.508) scale(.1625 -.1625)\"><defs><path id=\"DejaVuSans-Oblique-63\" transform=\"scale(.015625)\" d=\"m3431 3366-115-569q-207 150-440 225-232 75-482 75-275 0-524-97-248-97-417-275-269-272-416-638-146-365-146-756 0-472 236-703t717-231q237 0 504 72 268 72 558 215l-109-568q-250-103-514-155t-542-52q-697 0-1072 348-375 349-375 996 0 544 195 1002t580 823q262 250 615 378 354 128 772 128 244 0 484-55 241-54 491-163z\"/><path id=\"DejaVuSans-Oblique-6f\" transform=\"scale(.015625)\" d=\"m1625-91q-616 0-974 380-357 380-357 1036 0 381 123 776 124 396 321 665 309 418 690 618t863 200q597 0 964-372 367-371 367-971 0-416-122-829-122-412-319-684-306-419-687-619t-869-200zm-734 1435q0-475 198-711 199-236 602-236 578 0 957 504 380 505 380 1280 0 453-203 684-203 232-597 232-325 0-578-152-253-151-453-461-147-231-227-528-79-297-79-612z\"/><path id=\"DejaVuSans-Oblique-64\" transform=\"scale(.015625)\" d=\"m2675 525q-231-303-547-460-315-156-700-156-525 0-830 358-304 358-304 980 0 519 184 989 185 470 535 842 231 247 521 376 291 130 610 130 337 0 595-163 258-162 399-465l375 1907h578l-947-4863h-578l109 525zm-1784 825q0-453 204-706 205-253 568-253 268 0 498 129 230 130 405 383 184 263 290 606 107 344 107 679 0 434-205 677-205 244-564 244-272 0-507-128-234-128-399-368-182-260-290-604-107-343-107-659z\"/><path id=\"DejaVuSans-Oblique-65\" transform=\"scale(.015625)\" d=\"m3078 2063q10 50 14 103 5 53 5 106 0 381-224 603-223 222-607 222-428 0-757-271-328-270-496-767l2065 4zm500-450h-2675q-19-119-25-188t-6-119q0-434 267-672 267-237 755-237 375 0 709 84 335 85 622 247l-109-569q-310-125-640-187-329-63-670-63-728 0-1120 348-392 349-392 990 0 547 195 1017t574 839q243 231 579 356t714 125q594 0 945-356 352-356 352-956 0-144-19-308-18-164-56-351z\"/><path id=\"DejaVuSans-5f\" transform=\"scale(.015625)\" d=\"m3263-1063v-446h-3326v446h3326z\"/><path id=\"DejaVuSans-Oblique-71\" transform=\"scale(.015625)\" d=\"m2669 525q-231-303-546-460-314-156-695-156-531 0-833 358-301 358-301 986 0 506 186 978t533 847q225 244 517 375t614 131q387 0 637-153t363-462l100 525h578l-934-4813h-579l360 1844zm-1778 813q0-463 193-705 194-242 560-242 544 0 928 520t384 1264q0 450-199 689-198 239-569 239-272 0-504-127-231-126-403-370-181-256-286-600-104-343-104-668z\"/><path id=\"DejaVuSans-Oblique-75\" transform=\"scale(.015625)\" d=\"m428 1388 410 2112h578l-410-2091q-31-153-45-262t-14-181q0-266 162-412 163-145 460-145 462 0 799 312 338 313 441 842l385 1937h575l-678-3500h-575l115 550q-243-306-579-474-336-167-714-167-460 0-716 252t-256 702q0 93 15 234 16 141 47 291z\"/><path id=\"DejaVuSans-Oblique-62\" transform=\"scale(.015625)\" d=\"m3169 2138q0 453-208 709t-573 256q-266 0-499-130-233-129-405-376-181-259-286-602-104-342-104-682 0-432 204-677 205-245 565-245 271 0 502 126 232 127 407 374 178 256 287 596 110 341 110 651zm-1788 831q213 287 533 451t670 164q538 0 855-363 317-362 317-980 0-507-186-982t-529-843q-225-244-519-376-294-131-616-131-340 0-590 156-250 157-407 466l-103-531h-575l947 4863h575l-372-1894z\"/><path id=\"DejaVuSans-Oblique-69\" transform=\"scale(.015625)\" d=\"m1172 4863h575l-141-729h-575l141 729zm-263-1363h575l-684-3500h-575l684 3500z\"/><path id=\"DejaVuSans-Oblique-74\" transform=\"scale(.015625)\" d=\"m2706 3500-87-447h-1147l-372-1900q-19-106-28-178t-9-112q0-200 120-291t386-91h581l-97-481h-550q-512 0-764 200-251 200-251 606 0 72 9 158t28 189l372 1900h-488l91 447h478l194 994h575l-191-994h1150z\"/><path id=\"DejaVuSans-30\" transform=\"scale(.015625)\" d=\"m2034 4250q-487 0-733-480-245-479-245-1442 0-959 245-1439 246-480 733-480 491 0 736 480 246 480 246 1439 0 963-246 1442-245 480-736 480zm0 500q785 0 1199-621 414-620 414-1801 0-1178-414-1799-414-620-1199-620-784 0-1198 620-414 621-414 1799 0 1181 414 1801 414 621 1198 621z\"/></defs><use transform=\"translate(0 .015625)\" xlink:href=\"#DejaVuSans-Oblique-63\"/><use transform=\"translate(54.98 .015625)\" xlink:href=\"#DejaVuSans-Oblique-6f\"/><use transform=\"translate(116.16 .015625)\" xlink:href=\"#DejaVuSans-Oblique-64\"/><use transform=\"translate(179.64 .015625)\" xlink:href=\"#DejaVuSans-Oblique-65\"/><use transform=\"translate(241.16 .015625)\" xlink:href=\"#DejaVuSans-5f\"/><use transform=\"translate(291.16 .015625)\" xlink:href=\"#DejaVuSans-Oblique-71\"/><use transform=\"translate(354.64 .015625)\" xlink:href=\"#DejaVuSans-Oblique-75\"/><use transform=\"translate(418.02 .015625)\" xlink:href=\"#DejaVuSans-Oblique-62\"/><use transform=\"translate(481.49 .015625)\" xlink:href=\"#DejaVuSans-Oblique-69\"/><use transform=\"translate(509.28 .015625)\" xlink:href=\"#DejaVuSans-Oblique-74\"/><use transform=\"translate(548.49 -16.391) scale(.7)\" xlink:href=\"#DejaVuSans-30\"/></g></g><g clip-path=\"url(#p1ab4d53d2d)\"><g transform=\"translate(47.111 94.862) scale(.1625 -.1625)\"><defs><path id=\"DejaVuSans-31\" transform=\"scale(.015625)\" d=\"m794 531h1031v3560l-1122-225v575l1116 225h631v-4135h1031v-531h-2687v531z\"/></defs><use transform=\"translate(0 .015625)\" xlink:href=\"#DejaVuSans-Oblique-63\"/><use transform=\"translate(54.98 .015625)\" xlink:href=\"#DejaVuSans-Oblique-6f\"/><use transform=\"translate(116.16 .015625)\" xlink:href=\"#DejaVuSans-Oblique-64\"/><use transform=\"translate(179.64 .015625)\" xlink:href=\"#DejaVuSans-Oblique-65\"/><use transform=\"translate(241.16 .015625)\" xlink:href=\"#DejaVuSans-5f\"/><use transform=\"translate(291.16 .015625)\" xlink:href=\"#DejaVuSans-Oblique-71\"/><use transform=\"translate(354.64 .015625)\" xlink:href=\"#DejaVuSans-Oblique-75\"/><use transform=\"translate(418.02 .015625)\" xlink:href=\"#DejaVuSans-Oblique-62\"/><use transform=\"translate(481.49 .015625)\" xlink:href=\"#DejaVuSans-Oblique-69\"/><use transform=\"translate(509.28 .015625)\" xlink:href=\"#DejaVuSans-Oblique-74\"/><use transform=\"translate(548.49 -16.391) scale(.7)\" xlink:href=\"#DejaVuSans-31\"/></g></g><g clip-path=\"url(#p1ab4d53d2d)\"><g transform=\"translate(41.261 141.22) scale(.1625 -.1625)\"><defs><path id=\"DejaVuSans-Oblique-61\" transform=\"scale(.015625)\" d=\"m3438 1997-391-1997h-575l106 531q-253-312-577-467-323-155-720-155-447 0-733 273-285 274-285 702 0 613 489 969t1348 356h800l31 154q7 25 10 54 3 30 3 92 0 279-227 433-226 155-636 155-281 0-577-72-295-72-607-216l100 532q325 122 636 182 311 61 601 61 619 0 942-269 324-268 324-781 0-103-16-242-15-139-46-295zm-622-238h-575q-707 0-1046-189t-339-586q0-275 173-431 174-156 480-156 469 0 819 336t463 898l25 128z\"/><path id=\"DejaVuSans-Oblique-6e\" transform=\"scale(.015625)\" d=\"m3566 2113-410-2113h-578l410 2091q28 147 43 259 16 113 16 178 0 263-166 409-165 147-462 147-463 0-797-308-334-307-438-835l-384-1941h-575l678 3500h575l-115-550q240 303 577 468 338 166 710 166 463 0 717-250 255-250 255-703 0-112-14-240t-42-278z\"/><path id=\"DejaVuSans-Oblique-6c\" transform=\"scale(.015625)\" d=\"m1172 4863h575l-947-4863h-575l947 4863z\"/></defs><use transform=\"translate(0 .015625)\" xlink:href=\"#DejaVuSans-Oblique-61\"/><use transform=\"translate(61.279 .015625)\" xlink:href=\"#DejaVuSans-Oblique-6e\"/><use transform=\"translate(124.66 .015625)\" xlink:href=\"#DejaVuSans-Oblique-63\"/><use transform=\"translate(179.64 .015625)\" xlink:href=\"#DejaVuSans-Oblique-69\"/><use transform=\"translate(207.42 .015625)\" xlink:href=\"#DejaVuSans-Oblique-6c\"/><use transform=\"translate(235.21 .015625)\" xlink:href=\"#DejaVuSans-Oblique-6c\"/><use transform=\"translate(262.99 .015625)\" xlink:href=\"#DejaVuSans-Oblique-61\"/><use transform=\"translate(324.27 .015625)\" xlink:href=\"#DejaVuSans-5f\"/><use transform=\"translate(374.27 .015625)\" xlink:href=\"#DejaVuSans-Oblique-71\"/><use transform=\"translate(437.74 .015625)\" xlink:href=\"#DejaVuSans-Oblique-75\"/><use transform=\"translate(501.12 .015625)\" xlink:href=\"#DejaVuSans-Oblique-62\"/><use transform=\"translate(564.6 .015625)\" xlink:href=\"#DejaVuSans-Oblique-69\"/><use transform=\"translate(592.38 .015625)\" xlink:href=\"#DejaVuSans-Oblique-74\"/></g></g><g clip-path=\"url(#p1ab4d53d2d)\"><g transform=\"translate(157.87 176.55) scale(.104 -.104)\"><use xlink:href=\"#DejaVuSans-31\"/></g></g><g clip-path=\"url(#p1ab4d53d2d)\"><g transform=\"translate(33.852 187.6) scale(.1625 -.1625)\"><defs><path id=\"DejaVuSans-73\" transform=\"scale(.015625)\" d=\"m2834 3397v-544q-243 125-506 187-262 63-544 63-428 0-642-131t-214-394q0-200 153-314t616-217l197-44q612-131 870-370t258-667q0-488-386-773-386-284-1061-284-281 0-586 55t-642 164v594q319-166 628-249 309-82 613-82 406 0 624 139 219 139 219 392 0 234-158 359-157 125-692 241l-200 47q-534 112-772 345-237 233-237 639 0 494 350 762 350 269 994 269 318 0 599-47 282-46 519-140z\"/><path id=\"DejaVuSans-79\" transform=\"scale(.015625)\" d=\"m2059-325q-243-625-475-815-231-191-618-191h-460v481h338q237 0 368 113 132 112 291 531l103 262-1415 3444h609l1094-2737 1094 2737h609l-1538-3825z\"/><path id=\"DejaVuSans-6e\" transform=\"scale(.015625)\" d=\"m3513 2113v-2113h-575v2094q0 497-194 743-194 247-581 247-466 0-735-297-269-296-269-809v-1978h-578v3500h578v-544q207 316 486 472 280 156 646 156 603 0 912-373 310-373 310-1098z\"/><path id=\"DejaVuSans-64\" transform=\"scale(.015625)\" d=\"m2906 2969v1894h575v-4863h-575v525q-181-312-458-464-276-152-664-152-634 0-1033 506-398 507-398 1332t398 1331q399 506 1033 506 388 0 664-152 277-151 458-463zm-1959-1222q0-634 261-995t717-361 718 361q263 361 263 995t-263 995q-262 361-718 361t-717-361-261-995z\"/><path id=\"DejaVuSans-72\" transform=\"scale(.015625)\" d=\"m2631 2963q-97 56-211 82-114 27-251 27-488 0-749-317t-261-911v-1844h-578v3500h578v-544q182 319 472 473 291 155 707 155 59 0 131-8 72-7 159-23l3-590z\"/><path id=\"DejaVuSans-6f\" transform=\"scale(.015625)\" d=\"m1959 3097q-462 0-731-361t-269-989 267-989q268-361 733-361 460 0 728 362 269 363 269 988 0 622-269 986-268 364-728 364zm0 487q750 0 1178-488 429-487 429-1349 0-859-429-1349-428-489-1178-489-753 0-1180 489-426 490-426 1349 0 862 426 1349 427 488 1180 488z\"/><path id=\"DejaVuSans-6d\" transform=\"scale(.015625)\" d=\"m3328 2828q216 388 516 572t706 184q547 0 844-383 297-382 297-1088v-2113h-578v2094q0 503-179 746-178 244-543 244-447 0-707-297-259-296-259-809v-1978h-578v2094q0 506-178 748t-550 242q-441 0-701-298-259-298-259-808v-1978h-578v3500h578v-544q197 322 472 475t653 153q382 0 649-194 267-193 395-562z\"/><path id=\"DejaVuSans-65\" transform=\"scale(.015625)\" d=\"m3597 1894v-281h-2644q38-594 358-905t892-311q331 0 642 81t618 244v-544q-310-131-635-200t-659-69q-838 0-1327 487-489 488-489 1320 0 859 464 1363 464 505 1252 505 706 0 1117-455 411-454 411-1235zm-575 169q-6 471-264 752-258 282-683 282-481 0-770-272t-333-766l2050 4z\"/><path id=\"DejaVuSans-62\" transform=\"scale(.015625)\" d=\"m3116 1747q0 634-261 995t-717 361q-457 0-718-361t-261-995 261-995 718-361q456 0 717 361t261 995zm-1957 1222q182 312 458 463 277 152 661 152 638 0 1036-506 399-506 399-1331t-399-1332q-398-506-1036-506-384 0-661 152-276 152-458 464v-525h-578v4863h578v-1894z\"/><path id=\"DejaVuSans-69\" transform=\"scale(.015625)\" d=\"m603 3500h575v-3500h-575v3500zm0 1363h575v-729h-575v729z\"/><path id=\"DejaVuSans-74\" transform=\"scale(.015625)\" d=\"m1172 4494v-994h1184v-447h-1184v-1900q0-428 117-550t477-122h590v-481h-590q-666 0-919 248-253 249-253 905v1900h-422v447h422v994h578z\"/></defs><use xlink:href=\"#DejaVuSans-73\"/><use x=\"52.099609\" xlink:href=\"#DejaVuSans-79\"/><use x=\"111.279297\" xlink:href=\"#DejaVuSans-6e\"/><use x=\"174.658203\" xlink:href=\"#DejaVuSans-64\"/><use x=\"238.134766\" xlink:href=\"#DejaVuSans-72\"/><use x=\"276.998047\" xlink:href=\"#DejaVuSans-6f\"/><use x=\"338.179688\" xlink:href=\"#DejaVuSans-6d\"/><use x=\"435.591797\" xlink:href=\"#DejaVuSans-65\"/><use x=\"497.115234\" xlink:href=\"#DejaVuSans-5f\"/><use x=\"547.115234\" xlink:href=\"#DejaVuSans-62\"/><use x=\"610.591797\" xlink:href=\"#DejaVuSans-69\"/><use x=\"638.375\" xlink:href=\"#DejaVuSans-74\"/></g></g><g clip-path=\"url(#p1ab4d53d2d)\"><g transform=\"translate(173.38 47.87) scale(.13 -.13)\" fill=\"#ffffff\"><defs><path id=\"DejaVuSans-48\" transform=\"scale(.015625)\" d=\"m628 4666h631v-1913h2294v1913h631v-4666h-631v2222h-2294v-2222h-631v4666z\"/></defs><use xlink:href=\"#DejaVuSans-48\"/></g></g><path d=\"m224.62 96.663v-12.052\" clip-path=\"url(#p1ab4d53d2d)\" fill=\"none\" stroke=\"#ffffff\" stroke-linecap=\"square\" stroke-width=\"2\"/><path d=\"m218.59 90.637h12.052\" clip-path=\"url(#p1ab4d53d2d)\" fill=\"none\" stroke=\"#ffffff\" stroke-linecap=\"square\" stroke-width=\"2\"/><g clip-path=\"url(#p1ab4d53d2d)\"><g transform=\"translate(266.52 47.87) scale(.13 -.13)\" fill=\"#ffffff\"><defs><path id=\"DejaVuSans-58\" transform=\"scale(.015625)\" d=\"m403 4666h678l1160-1735 1165 1735h678l-1500-2241 1600-2425h-678l-1312 1984-1322-1984h-681l1665 2491-1453 2175z\"/></defs><use xlink:href=\"#DejaVuSans-58\"/></g></g><path d=\"m317.33 143.02v-12.052\" clip-path=\"url(#p1ab4d53d2d)\" fill=\"none\" stroke=\"#ffffff\" stroke-linecap=\"square\" stroke-width=\"2\"/><path d=\"m311.3 136.99h12.052\" clip-path=\"url(#p1ab4d53d2d)\" fill=\"none\" stroke=\"#ffffff\" stroke-linecap=\"square\" stroke-width=\"2\"/><path d=\"m363.68 143.02v-12.052\" clip-path=\"url(#p1ab4d53d2d)\" fill=\"none\" stroke=\"#ffffff\" stroke-linecap=\"square\" stroke-width=\"2\"/><path d=\"m357.65 136.99h12.052\" clip-path=\"url(#p1ab4d53d2d)\" fill=\"none\" stroke=\"#ffffff\" stroke-linecap=\"square\" stroke-width=\"2\"/><g clip-path=\"url(#p1ab4d53d2d)\"><g transform=\"translate(421.62 176.55) scale(.104 -.104)\"><use xlink:href=\"#DejaVuSans-30\"/></g></g><defs><clipPath id=\"p1ab4d53d2d\"><rect x=\"7.2\" y=\"7.2\" width=\"433.43\" height=\"203.96\"/></clipPath></defs></svg>"
      ],
      "text/plain": [
       "<Figure size 781.795x367.889 with 1 Axes>"
      ]
     },
     "execution_count": 20,
     "metadata": {},
     "output_type": "execute_result"
    }
   ],
   "source": [
    "qc_init = QuantumCircuit(cq, lq, sb)\n",
    "qc_init.h(cq[0])\n",
    "qc_init.cx(cq[0],cq[1])\n",
    "qc_init.x(cq[0])\n",
    "\n",
    "qc_init.compose(qc).draw()"
   ]
  },
  {
   "cell_type": "code",
   "execution_count": 21,
   "metadata": {},
   "outputs": [
    {
     "name": "stdout",
     "output_type": "stream",
     "text": [
      "Results: {'1': 1024}\n"
     ]
    }
   ],
   "source": [
    "counts = execute(qc_init.compose(qc), Aer.get_backend('qasm_simulator')).result().get_counts()\n",
    "print('Results:',counts)"
   ]
  },
  {
   "cell_type": "code",
   "execution_count": 22,
   "metadata": {
    "tags": [
     "sanity-check"
    ]
   },
   "outputs": [],
   "source": [
    "# In such cases the output is always '1'.\n",
    "assert list(counts.keys()) == ['1']"
   ]
  },
  {
   "cell_type": "markdown",
   "metadata": {},
   "source": [
    "In such cases the output is always `'1'`.\n",
    "\n",
    "This measurement is therefore telling us about a collective property of multiple qubits. Specifically, it looks at the two code qubits and determines whether their state is the same or different in the z basis. For basis states that are the same in the z basis, like $\\left|00\\right\\rangle$ and $\\left|11\\right\\rangle$, the measurement simply returns `0`. It also does so for any superposition of these. Since it does not distinguish between these states in any way, it also does not collapse such a superposition.\n",
    "\n",
    "Similarly, For basis states that are different in the z basis it returns a `1`. This occurs for $\\left|01\\right\\rangle$, $\\left|10\\right\\rangle$ or any superposition thereof.\n",
    "\n",
    "Now suppose we apply such a 'syndrome measurement' on all pairs of physical qubits in our repetition code. If their state is described by a repeated $\\left|0\\right\\rangle$, a repeated $\\left|1\\right\\rangle$, or any superposition thereof, all the syndrome measurements will return `0`. Given this result, we will know that our states are indeed encoded in the repeated states that we want them to be, and can deduce that no errors have occurred. If some syndrome measurements return `1`, however, it is a signature of an error. We can therefore use these measurement results to determine how to decode the result."
   ]
  },
  {
   "cell_type": "markdown",
   "metadata": {},
   "source": [
    "### Quantum repetition code\n",
    "\n",
    "We now know enough to understand exactly how the quantum version of the repetition code is implemented\n",
    "\n",
    "In this page, we'll use the [NCCR-SPIN/topological_codes](https://github.com/NCCR-SPIN/topological_codes) package. You can install this by running:\n",
    "\n",
    "```\n",
    "pip install git+https://github.com/NCCR-SPIN/topological_codes.git\n",
    "```\n",
    "\n",
    "from a terminal, and restarting your kernel."
   ]
  },
  {
   "cell_type": "code",
   "execution_count": 23,
   "metadata": {},
   "outputs": [],
   "source": [
    "from topological_codes import RepetitionCode\n",
    "from topological_codes import lookuptable_decoding\n",
    "from topological_codes import GraphDecoder"
   ]
  },
  {
   "cell_type": "markdown",
   "metadata": {},
   "source": [
    "We are free to choose how many physical qubits we want the logical qubit to be encoded in. We can also choose how many times the syndrome measurements will be applied while we store our logical qubit, before the final readout measurement. Let us start with the smallest non-trivial case: three repetitions and one syndrome measurement round. The circuits for the repetition code can then be created automatically from using the `RepetitionCode` object from `topological_codes`."
   ]
  },
  {
   "cell_type": "code",
   "execution_count": 24,
   "metadata": {},
   "outputs": [],
   "source": [
    "n = 3\n",
    "T = 1\n",
    "\n",
    "code = RepetitionCode(n, T)"
   ]
  },
  {
   "cell_type": "markdown",
   "metadata": {},
   "source": [
    "With this we can inspect various properties of the code, such as the names of the qubit registers used for the code and ancilla qubits."
   ]
  },
  {
   "cell_type": "markdown",
   "metadata": {},
   "source": [
    "The `RepetitionCode` contains two quantum circuits that implement the code: One for each of the two possible logical bit values. Here are those for logical `0` and `1`, respectively."
   ]
  },
  {
   "cell_type": "code",
   "execution_count": 25,
   "metadata": {},
   "outputs": [
    {
     "data": {
      "image/svg+xml": [
       "<?xml version=\"1.0\" encoding=\"UTF-8\"?><!DOCTYPE svg  PUBLIC '-//W3C//DTD SVG 1.1//EN'  'http://www.w3.org/Graphics/SVG/1.1/DTD/svg11.dtd'><svg width=\"608.44pt\" height=\"357.42pt\" version=\"1.1\" viewBox=\"0 0 608.44 357.42\" xmlns=\"http://www.w3.org/2000/svg\" xmlns:xlink=\"http://www.w3.org/1999/xlink\"><defs><style type=\"text/css\">*{stroke-linejoin: round; stroke-linecap: butt}</style></defs><path d=\"m0 357.42h608.44v-357.42h-608.44z\" fill=\"#ffffff\"/><path d=\"m379.2 311.86h12.052l-6.026 8.6914z\" clip-path=\"url(#p07e9427139)\" fill=\"#778899\"/><path d=\"m425.55 265.51h12.052l-6.026 8.6914z\" clip-path=\"url(#p07e9427139)\" fill=\"#778899\"/><path d=\"m471.91 265.51h12.052l-6.026 8.6914z\" clip-path=\"url(#p07e9427139)\" fill=\"#778899\"/><path d=\"m518.26 311.86h12.052l-6.026 8.6914z\" clip-path=\"url(#p07e9427139)\" fill=\"#778899\"/><path d=\"m564.62 311.86h12.052l-6.026 8.6914z\" clip-path=\"url(#p07e9427139)\" fill=\"#778899\"/><path d=\"m174.78 44.283h421.82\" clip-path=\"url(#p07e9427139)\" fill=\"none\" stroke=\"#000000\" stroke-linecap=\"square\" stroke-width=\"2\"/><path d=\"m174.78 90.637h421.82\" clip-path=\"url(#p07e9427139)\" fill=\"none\" stroke=\"#000000\" stroke-linecap=\"square\" stroke-width=\"2\"/><path d=\"m174.78 136.99h421.82\" clip-path=\"url(#p07e9427139)\" fill=\"none\" stroke=\"#000000\" stroke-linecap=\"square\" stroke-width=\"2\"/><path d=\"m174.78 183.35h421.82\" clip-path=\"url(#p07e9427139)\" fill=\"none\" stroke=\"#000000\" stroke-linecap=\"square\" stroke-width=\"2\"/><path d=\"m174.78 229.7h421.82\" clip-path=\"url(#p07e9427139)\" fill=\"none\" stroke=\"#000000\" stroke-linecap=\"square\" stroke-width=\"2\"/><path d=\"m174.78 274.55h421.82\" clip-path=\"url(#p07e9427139)\" fill=\"none\" stroke=\"#778899\" stroke-linecap=\"square\" stroke-width=\"2\"/><path d=\"m174.78 277.56h421.82\" clip-path=\"url(#p07e9427139)\" fill=\"none\" stroke=\"#778899\" stroke-linecap=\"square\" stroke-width=\"2\"/><path d=\"m174.78 320.9h421.82\" clip-path=\"url(#p07e9427139)\" fill=\"none\" stroke=\"#778899\" stroke-linecap=\"square\" stroke-width=\"2\"/><path d=\"m174.78 323.91h421.82\" clip-path=\"url(#p07e9427139)\" fill=\"none\" stroke=\"#778899\" stroke-linecap=\"square\" stroke-width=\"2\"/><path d=\"m184.05 280.69 4.6354-9.2708\" clip-path=\"url(#p07e9427139)\" fill=\"none\" stroke=\"#778899\" stroke-linecap=\"square\"/><path d=\"m184.05 327.04 4.6354-9.2708\" clip-path=\"url(#p07e9427139)\" fill=\"none\" stroke=\"#778899\" stroke-linecap=\"square\"/><path d=\"m199.81 136.99v-92.708\" clip-path=\"url(#p07e9427139)\" fill=\"none\" stroke=\"#1192e8\" stroke-linecap=\"square\" stroke-width=\"2\"/><path d=\"m246.16 183.35v-92.708\" clip-path=\"url(#p07e9427139)\" fill=\"none\" stroke=\"#1192e8\" stroke-linecap=\"square\" stroke-width=\"2\"/><path d=\"m292.52 183.35v-139.06\" clip-path=\"url(#p07e9427139)\" fill=\"none\" stroke=\"#1192e8\" stroke-linecap=\"square\" stroke-width=\"2\"/><path d=\"m338.87 229.7v-139.06\" clip-path=\"url(#p07e9427139)\" fill=\"none\" stroke=\"#1192e8\" stroke-linecap=\"square\" stroke-width=\"2\"/><path d=\"m386.73 136.99v174.87\" clip-path=\"url(#p07e9427139)\" fill=\"none\" stroke=\"#778899\" stroke-linecap=\"square\" stroke-width=\"2\"/><path d=\"m383.72 136.99v174.87\" clip-path=\"url(#p07e9427139)\" fill=\"none\" stroke=\"#778899\" stroke-linecap=\"square\" stroke-width=\"2\"/><path d=\"m433.09 44.283v221.22\" clip-path=\"url(#p07e9427139)\" fill=\"none\" stroke=\"#778899\" stroke-linecap=\"square\" stroke-width=\"2\"/><path d=\"m430.07 44.283v221.22\" clip-path=\"url(#p07e9427139)\" fill=\"none\" stroke=\"#778899\" stroke-linecap=\"square\" stroke-width=\"2\"/><path d=\"m479.44 90.637v174.87\" clip-path=\"url(#p07e9427139)\" fill=\"none\" stroke=\"#778899\" stroke-linecap=\"square\" stroke-width=\"2\"/><path d=\"m476.43 90.637v174.87\" clip-path=\"url(#p07e9427139)\" fill=\"none\" stroke=\"#778899\" stroke-linecap=\"square\" stroke-width=\"2\"/><path d=\"m525.79 183.35v128.52\" clip-path=\"url(#p07e9427139)\" fill=\"none\" stroke=\"#778899\" stroke-linecap=\"square\" stroke-width=\"2\"/><path d=\"m522.78 183.35v128.52\" clip-path=\"url(#p07e9427139)\" fill=\"none\" stroke=\"#778899\" stroke-linecap=\"square\" stroke-width=\"2\"/><path d=\"m572.15 229.7v82.162\" clip-path=\"url(#p07e9427139)\" fill=\"none\" stroke=\"#778899\" stroke-linecap=\"square\" stroke-width=\"2\"/><path d=\"m569.14 229.7v82.162\" clip-path=\"url(#p07e9427139)\" fill=\"none\" stroke=\"#778899\" stroke-linecap=\"square\" stroke-width=\"2\"/><path d=\"m199.81 141.51c1.1986 0 2.3482-0.4762 3.1958-1.3237s1.3237-1.9972 1.3237-3.1958c0-1.1986-0.4762-2.3482-1.3237-3.1958-0.84753-0.84753-1.9972-1.3237-3.1958-1.3237-1.1986 0-2.3482 0.4762-3.1958 1.3237-0.84753 0.84753-1.3237 1.9972-1.3237 3.1958 0 1.1986 0.4762 2.3482 1.3237 3.1958 0.84753 0.84753 1.9972 1.3237 3.1958 1.3237z\" clip-path=\"url(#p07e9427139)\" fill=\"#1192e8\" stroke=\"#1192e8\" stroke-width=\"1.5\"/><path d=\"m199.81 54.829c2.7967 0 5.4792-1.1111 7.4568-3.0887 1.9776-1.9776 3.0887-4.6601 3.0887-7.4568 0-2.7967-1.1111-5.4792-3.0887-7.4568-1.9776-1.9776-4.6601-3.0887-7.4568-3.0887-2.7967 0-5.4792 1.1111-7.4568 3.0887-1.9776 1.9776-3.0887 4.6601-3.0887 7.4568 0 2.7967 1.1111 5.4792 3.0887 7.4568 1.9776 1.9776 4.6601 3.0887 7.4568 3.0887z\" clip-path=\"url(#p07e9427139)\" fill=\"#1192e8\" stroke=\"#1192e8\" stroke-width=\"2\"/><path d=\"m246.16 187.86c1.1986 0 2.3482-0.4762 3.1958-1.3237 0.84753-0.84753 1.3237-1.9972 1.3237-3.1958 0-1.1986-0.4762-2.3482-1.3237-3.1958-0.84753-0.84753-1.9972-1.3237-3.1958-1.3237-1.1986 0-2.3482 0.4762-3.1958 1.3237s-1.3237 1.9972-1.3237 3.1958c0 1.1986 0.4762 2.3482 1.3237 3.1958 0.84753 0.84753 1.9972 1.3237 3.1958 1.3237z\" clip-path=\"url(#p07e9427139)\" fill=\"#1192e8\" stroke=\"#1192e8\" stroke-width=\"1.5\"/><path d=\"m246.16 101.18c2.7967 0 5.4792-1.1111 7.4568-3.0887 1.9776-1.9776 3.0887-4.6601 3.0887-7.4568 0-2.7967-1.1111-5.4792-3.0887-7.4568-1.9776-1.9776-4.6601-3.0887-7.4568-3.0887-2.7967 0-5.4792 1.1111-7.4568 3.0887-1.9776 1.9776-3.0887 4.6601-3.0887 7.4568 0 2.7967 1.1111 5.4792 3.0887 7.4568 1.9776 1.9776 4.6601 3.0887 7.4568 3.0887z\" clip-path=\"url(#p07e9427139)\" fill=\"#1192e8\" stroke=\"#1192e8\" stroke-width=\"2\"/><path d=\"m292.52 187.86c1.1986 0 2.3482-0.4762 3.1958-1.3237 0.84753-0.84753 1.3237-1.9972 1.3237-3.1958 0-1.1986-0.4762-2.3482-1.3237-3.1958-0.84753-0.84753-1.9972-1.3237-3.1958-1.3237s-2.3482 0.4762-3.1958 1.3237c-0.84753 0.84753-1.3237 1.9972-1.3237 3.1958 0 1.1986 0.4762 2.3482 1.3237 3.1958 0.84753 0.84753 1.9972 1.3237 3.1958 1.3237z\" clip-path=\"url(#p07e9427139)\" fill=\"#1192e8\" stroke=\"#1192e8\" stroke-width=\"1.5\"/><path d=\"m292.52 54.829c2.7967 0 5.4792-1.1111 7.4568-3.0887 1.9776-1.9776 3.0887-4.6601 3.0887-7.4568 0-2.7967-1.1111-5.4792-3.0887-7.4568-1.9776-1.9776-4.6601-3.0887-7.4568-3.0887s-5.4792 1.1111-7.4568 3.0887c-1.9776 1.9776-3.0887 4.6601-3.0887 7.4568 0 2.7967 1.1111 5.4792 3.0887 7.4568 1.9776 1.9776 4.6601 3.0887 7.4568 3.0887z\" clip-path=\"url(#p07e9427139)\" fill=\"#1192e8\" stroke=\"#1192e8\" stroke-width=\"2\"/><path d=\"m338.87 234.22c1.1986 0 2.3482-0.4762 3.1958-1.3237 0.84753-0.84753 1.3237-1.9972 1.3237-3.1958s-0.4762-2.3482-1.3237-3.1958c-0.84753-0.84753-1.9972-1.3237-3.1958-1.3237-1.1986 0-2.3482 0.4762-3.1958 1.3237-0.84753 0.84753-1.3237 1.9972-1.3237 3.1958s0.4762 2.3482 1.3237 3.1958c0.84753 0.84753 1.9972 1.3237 3.1958 1.3237z\" clip-path=\"url(#p07e9427139)\" fill=\"#1192e8\" stroke=\"#1192e8\" stroke-width=\"1.5\"/><path d=\"m338.87 101.18c2.7967 0 5.4792-1.1111 7.4568-3.0887 1.9776-1.9776 3.0887-4.6601 3.0887-7.4568 0-2.7967-1.1111-5.4792-3.0887-7.4568-1.9776-1.9776-4.6601-3.0887-7.4568-3.0887-2.7967 0-5.4792 1.1111-7.4568 3.0887-1.9776 1.9776-3.0887 4.6601-3.0887 7.4568 0 2.7967 1.1111 5.4792 3.0887 7.4568 1.9776 1.9776 4.6601 3.0887 7.4568 3.0887z\" clip-path=\"url(#p07e9427139)\" fill=\"#1192e8\" stroke=\"#1192e8\" stroke-width=\"2\"/><path d=\"m370.16 152.06h30.13v-30.13h-30.13z\" clip-path=\"url(#p07e9427139)\" fill=\"#121619\" stroke=\"#121619\" stroke-width=\"1.5\"/><path d=\"m395.77 141.51c0-2.7958-1.1118-5.4799-3.0887-7.4568s-4.661-3.0887-7.4568-3.0887-5.4799 1.1118-7.4568 3.0887-3.0887 4.661-3.0887 7.4568\" clip-path=\"url(#p07e9427139)\" fill=\"none\" stroke=\"#ffffff\" stroke-width=\"2\"/><path d=\"m385.23 141.51 10.546-10.546\" clip-path=\"url(#p07e9427139)\" fill=\"none\" stroke=\"#ffffff\" stroke-linecap=\"square\" stroke-width=\"2\"/><path d=\"m416.52 59.348h30.13v-30.13h-30.13z\" clip-path=\"url(#p07e9427139)\" fill=\"#121619\" stroke=\"#121619\" stroke-width=\"1.5\"/><path d=\"m442.13 48.803c0-2.7958-1.1118-5.4799-3.0887-7.4568s-4.661-3.0887-7.4568-3.0887-5.4799 1.1118-7.4568 3.0887-3.0887 4.661-3.0887 7.4568\" clip-path=\"url(#p07e9427139)\" fill=\"none\" stroke=\"#ffffff\" stroke-width=\"2\"/><path d=\"m431.58 48.803 10.546-10.546\" clip-path=\"url(#p07e9427139)\" fill=\"none\" stroke=\"#ffffff\" stroke-linecap=\"square\" stroke-width=\"2\"/><path d=\"m462.87 105.7h30.13v-30.13h-30.13z\" clip-path=\"url(#p07e9427139)\" fill=\"#121619\" stroke=\"#121619\" stroke-width=\"1.5\"/><path d=\"m488.48 95.157c0-2.7958-1.1118-5.4799-3.0887-7.4568s-4.661-3.0887-7.4568-3.0887c-2.7958 0-5.4799 1.1118-7.4568 3.0887s-3.0887 4.661-3.0887 7.4568\" clip-path=\"url(#p07e9427139)\" fill=\"none\" stroke=\"#ffffff\" stroke-width=\"2\"/><path d=\"m477.93 95.157 10.546-10.546\" clip-path=\"url(#p07e9427139)\" fill=\"none\" stroke=\"#ffffff\" stroke-linecap=\"square\" stroke-width=\"2\"/><path d=\"m509.22 198.41h30.13v-30.13h-30.13z\" clip-path=\"url(#p07e9427139)\" fill=\"#121619\" stroke=\"#121619\" stroke-width=\"1.5\"/><path d=\"m534.83 187.86c0-2.7958-1.1118-5.4799-3.0887-7.4568s-4.661-3.0887-7.4568-3.0887-5.4799 1.1118-7.4568 3.0887-3.0887 4.661-3.0887 7.4568\" clip-path=\"url(#p07e9427139)\" fill=\"none\" stroke=\"#ffffff\" stroke-width=\"2\"/><path d=\"m524.29 187.86 10.546-10.546\" clip-path=\"url(#p07e9427139)\" fill=\"none\" stroke=\"#ffffff\" stroke-linecap=\"square\" stroke-width=\"2\"/><path d=\"m555.58 244.76h30.13v-30.13h-30.13z\" clip-path=\"url(#p07e9427139)\" fill=\"#121619\" stroke=\"#121619\" stroke-width=\"1.5\"/><path d=\"m581.19 234.22c0-2.7958-1.1118-5.4799-3.0887-7.4568-1.9769-1.9769-4.661-3.0887-7.4568-3.0887s-5.4799 1.1118-7.4568 3.0887-3.0887 4.661-3.0887 7.4568\" clip-path=\"url(#p07e9427139)\" fill=\"none\" stroke=\"#ffffff\" stroke-width=\"2\"/><path d=\"m570.64 234.22 10.546-10.546\" clip-path=\"url(#p07e9427139)\" fill=\"none\" stroke=\"#ffffff\" stroke-linecap=\"square\" stroke-width=\"2\"/><g clip-path=\"url(#p07e9427139)\"><g transform=\"translate(79.058 48.508) scale(.1625 -.1625)\"><defs><path id=\"DejaVuSans-Oblique-6c\" transform=\"scale(.015625)\" d=\"m1172 4863h575l-947-4863h-575l947 4863z\"/><path id=\"DejaVuSans-Oblique-69\" transform=\"scale(.015625)\" d=\"m1172 4863h575l-141-729h-575l141 729zm-263-1363h575l-684-3500h-575l684 3500z\"/><path id=\"DejaVuSans-Oblique-6e\" transform=\"scale(.015625)\" d=\"m3566 2113-410-2113h-578l410 2091q28 147 43 259 16 113 16 178 0 263-166 409-165 147-462 147-463 0-797-308-334-307-438-835l-384-1941h-575l678 3500h575l-115-550q240 303 577 468 338 166 710 166 463 0 717-250 255-250 255-703 0-112-14-240t-42-278z\"/><path id=\"DejaVuSans-Oblique-6b\" transform=\"scale(.015625)\" d=\"m1172 4863h575l-550-2835 1972 1472h747l-2200-1675 1606-1825h-697l-1494 1709-331-1709h-575l947 4863z\"/><path id=\"DejaVuSans-5f\" transform=\"scale(.015625)\" d=\"m3263-1063v-446h-3326v446h3326z\"/><path id=\"DejaVuSans-Oblique-71\" transform=\"scale(.015625)\" d=\"m2669 525q-231-303-546-460-314-156-695-156-531 0-833 358-301 358-301 986 0 506 186 978t533 847q225 244 517 375t614 131q387 0 637-153t363-462l100 525h578l-934-4813h-579l360 1844zm-1778 813q0-463 193-705 194-242 560-242 544 0 928 520t384 1264q0 450-199 689-198 239-569 239-272 0-504-127-231-126-403-370-181-256-286-600-104-343-104-668z\"/><path id=\"DejaVuSans-Oblique-75\" transform=\"scale(.015625)\" d=\"m428 1388 410 2112h578l-410-2091q-31-153-45-262t-14-181q0-266 162-412 163-145 460-145 462 0 799 312 338 313 441 842l385 1937h575l-678-3500h-575l115 550q-243-306-579-474-336-167-714-167-460 0-716 252t-256 702q0 93 15 234 16 141 47 291z\"/><path id=\"DejaVuSans-Oblique-62\" transform=\"scale(.015625)\" d=\"m3169 2138q0 453-208 709t-573 256q-266 0-499-130-233-129-405-376-181-259-286-602-104-342-104-682 0-432 204-677 205-245 565-245 271 0 502 126 232 127 407 374 178 256 287 596 110 341 110 651zm-1788 831q213 287 533 451t670 164q538 0 855-363 317-362 317-980 0-507-186-982t-529-843q-225-244-519-376-294-131-616-131-340 0-590 156-250 157-407 466l-103-531h-575l947 4863h575l-372-1894z\"/><path id=\"DejaVuSans-Oblique-74\" transform=\"scale(.015625)\" d=\"m2706 3500-87-447h-1147l-372-1900q-19-106-28-178t-9-112q0-200 120-291t386-91h581l-97-481h-550q-512 0-764 200-251 200-251 606 0 72 9 158t28 189l372 1900h-488l91 447h478l194 994h575l-191-994h1150z\"/><path id=\"DejaVuSans-30\" transform=\"scale(.015625)\" d=\"m2034 4250q-487 0-733-480-245-479-245-1442 0-959 245-1439 246-480 733-480 491 0 736 480 246 480 246 1439 0 963-246 1442-245 480-736 480zm0 500q785 0 1199-621 414-620 414-1801 0-1178-414-1799-414-620-1199-620-784 0-1198 620-414 621-414 1799 0 1181 414 1801 414 621 1198 621z\"/></defs><use transform=\"translate(0 .015625)\" xlink:href=\"#DejaVuSans-Oblique-6c\"/><use transform=\"translate(27.783 .015625)\" xlink:href=\"#DejaVuSans-Oblique-69\"/><use transform=\"translate(55.566 .015625)\" xlink:href=\"#DejaVuSans-Oblique-6e\"/><use transform=\"translate(118.95 .015625)\" xlink:href=\"#DejaVuSans-Oblique-6b\"/><use transform=\"translate(176.86 .015625)\" xlink:href=\"#DejaVuSans-5f\"/><use transform=\"translate(226.86 .015625)\" xlink:href=\"#DejaVuSans-Oblique-71\"/><use transform=\"translate(290.33 .015625)\" xlink:href=\"#DejaVuSans-Oblique-75\"/><use transform=\"translate(353.71 .015625)\" xlink:href=\"#DejaVuSans-Oblique-62\"/><use transform=\"translate(417.19 .015625)\" xlink:href=\"#DejaVuSans-Oblique-69\"/><use transform=\"translate(444.97 .015625)\" xlink:href=\"#DejaVuSans-Oblique-74\"/><use transform=\"translate(484.18 -16.391) scale(.7)\" xlink:href=\"#DejaVuSans-30\"/></g></g><g clip-path=\"url(#p07e9427139)\"><g transform=\"translate(79.058 94.862) scale(.1625 -.1625)\"><defs><path id=\"DejaVuSans-31\" transform=\"scale(.015625)\" d=\"m794 531h1031v3560l-1122-225v575l1116 225h631v-4135h1031v-531h-2687v531z\"/></defs><use transform=\"translate(0 .015625)\" xlink:href=\"#DejaVuSans-Oblique-6c\"/><use transform=\"translate(27.783 .015625)\" xlink:href=\"#DejaVuSans-Oblique-69\"/><use transform=\"translate(55.566 .015625)\" xlink:href=\"#DejaVuSans-Oblique-6e\"/><use transform=\"translate(118.95 .015625)\" xlink:href=\"#DejaVuSans-Oblique-6b\"/><use transform=\"translate(176.86 .015625)\" xlink:href=\"#DejaVuSans-5f\"/><use transform=\"translate(226.86 .015625)\" xlink:href=\"#DejaVuSans-Oblique-71\"/><use transform=\"translate(290.33 .015625)\" xlink:href=\"#DejaVuSans-Oblique-75\"/><use transform=\"translate(353.71 .015625)\" xlink:href=\"#DejaVuSans-Oblique-62\"/><use transform=\"translate(417.19 .015625)\" xlink:href=\"#DejaVuSans-Oblique-69\"/><use transform=\"translate(444.97 .015625)\" xlink:href=\"#DejaVuSans-Oblique-74\"/><use transform=\"translate(484.18 -16.391) scale(.7)\" xlink:href=\"#DejaVuSans-31\"/></g></g><g clip-path=\"url(#p07e9427139)\"><g transform=\"translate(68.658 141.22) scale(.1625 -.1625)\"><defs><path id=\"DejaVuSans-Oblique-63\" transform=\"scale(.015625)\" d=\"m3431 3366-115-569q-207 150-440 225-232 75-482 75-275 0-524-97-248-97-417-275-269-272-416-638-146-365-146-756 0-472 236-703t717-231q237 0 504 72 268 72 558 215l-109-568q-250-103-514-155t-542-52q-697 0-1072 348-375 349-375 996 0 544 195 1002t580 823q262 250 615 378 354 128 772 128 244 0 484-55 241-54 491-163z\"/><path id=\"DejaVuSans-Oblique-6f\" transform=\"scale(.015625)\" d=\"m1625-91q-616 0-974 380-357 380-357 1036 0 381 123 776 124 396 321 665 309 418 690 618t863 200q597 0 964-372 367-371 367-971 0-416-122-829-122-412-319-684-306-419-687-619t-869-200zm-734 1435q0-475 198-711 199-236 602-236 578 0 957 504 380 505 380 1280 0 453-203 684-203 232-597 232-325 0-578-152-253-151-453-461-147-231-227-528-79-297-79-612z\"/><path id=\"DejaVuSans-Oblique-64\" transform=\"scale(.015625)\" d=\"m2675 525q-231-303-547-460-315-156-700-156-525 0-830 358-304 358-304 980 0 519 184 989 185 470 535 842 231 247 521 376 291 130 610 130 337 0 595-163 258-162 399-465l375 1907h578l-947-4863h-578l109 525zm-1784 825q0-453 204-706 205-253 568-253 268 0 498 129 230 130 405 383 184 263 290 606 107 344 107 679 0 434-205 677-205 244-564 244-272 0-507-128-234-128-399-368-182-260-290-604-107-343-107-659z\"/><path id=\"DejaVuSans-Oblique-65\" transform=\"scale(.015625)\" d=\"m3078 2063q10 50 14 103 5 53 5 106 0 381-224 603-223 222-607 222-428 0-757-271-328-270-496-767l2065 4zm500-450h-2675q-19-119-25-188t-6-119q0-434 267-672 267-237 755-237 375 0 709 84 335 85 622 247l-109-569q-310-125-640-187-329-63-670-63-728 0-1120 348-392 349-392 990 0 547 195 1017t574 839q243 231 579 356t714 125q594 0 945-356 352-356 352-956 0-144-19-308-18-164-56-351z\"/></defs><use transform=\"translate(0 .015625)\" xlink:href=\"#DejaVuSans-Oblique-63\"/><use transform=\"translate(54.98 .015625)\" xlink:href=\"#DejaVuSans-Oblique-6f\"/><use transform=\"translate(116.16 .015625)\" xlink:href=\"#DejaVuSans-Oblique-64\"/><use transform=\"translate(179.64 .015625)\" xlink:href=\"#DejaVuSans-Oblique-65\"/><use transform=\"translate(241.16 .015625)\" xlink:href=\"#DejaVuSans-5f\"/><use transform=\"translate(291.16 .015625)\" xlink:href=\"#DejaVuSans-Oblique-71\"/><use transform=\"translate(354.64 .015625)\" xlink:href=\"#DejaVuSans-Oblique-75\"/><use transform=\"translate(418.02 .015625)\" xlink:href=\"#DejaVuSans-Oblique-62\"/><use transform=\"translate(481.49 .015625)\" xlink:href=\"#DejaVuSans-Oblique-69\"/><use transform=\"translate(509.28 .015625)\" xlink:href=\"#DejaVuSans-Oblique-74\"/><use transform=\"translate(548.49 -16.391) scale(.7)\" xlink:href=\"#DejaVuSans-30\"/></g></g><g clip-path=\"url(#p07e9427139)\"><g transform=\"translate(68.658 187.57) scale(.1625 -.1625)\"><use transform=\"translate(0 .015625)\" xlink:href=\"#DejaVuSans-Oblique-63\"/><use transform=\"translate(54.98 .015625)\" xlink:href=\"#DejaVuSans-Oblique-6f\"/><use transform=\"translate(116.16 .015625)\" xlink:href=\"#DejaVuSans-Oblique-64\"/><use transform=\"translate(179.64 .015625)\" xlink:href=\"#DejaVuSans-Oblique-65\"/><use transform=\"translate(241.16 .015625)\" xlink:href=\"#DejaVuSans-5f\"/><use transform=\"translate(291.16 .015625)\" xlink:href=\"#DejaVuSans-Oblique-71\"/><use transform=\"translate(354.64 .015625)\" xlink:href=\"#DejaVuSans-Oblique-75\"/><use transform=\"translate(418.02 .015625)\" xlink:href=\"#DejaVuSans-Oblique-62\"/><use transform=\"translate(481.49 .015625)\" xlink:href=\"#DejaVuSans-Oblique-69\"/><use transform=\"translate(509.28 .015625)\" xlink:href=\"#DejaVuSans-Oblique-74\"/><use transform=\"translate(548.49 -16.391) scale(.7)\" xlink:href=\"#DejaVuSans-31\"/></g></g><g clip-path=\"url(#p07e9427139)\"><g transform=\"translate(68.658 233.92) scale(.1625 -.1625)\"><defs><path id=\"DejaVuSans-32\" transform=\"scale(.015625)\" d=\"m1228 531h2203v-531h-2962v531q359 372 979 998 621 627 780 809 303 340 423 576 121 236 121 464 0 372-261 606-261 235-680 235-297 0-627-103-329-103-704-313v638q381 153 712 231 332 78 607 78 725 0 1156-363 431-362 431-968 0-288-108-546-107-257-392-607-78-91-497-524-418-433-1181-1211z\"/></defs><use transform=\"translate(0 .015625)\" xlink:href=\"#DejaVuSans-Oblique-63\"/><use transform=\"translate(54.98 .015625)\" xlink:href=\"#DejaVuSans-Oblique-6f\"/><use transform=\"translate(116.16 .015625)\" xlink:href=\"#DejaVuSans-Oblique-64\"/><use transform=\"translate(179.64 .015625)\" xlink:href=\"#DejaVuSans-Oblique-65\"/><use transform=\"translate(241.16 .015625)\" xlink:href=\"#DejaVuSans-5f\"/><use transform=\"translate(291.16 .015625)\" xlink:href=\"#DejaVuSans-Oblique-71\"/><use transform=\"translate(354.64 .015625)\" xlink:href=\"#DejaVuSans-Oblique-75\"/><use transform=\"translate(418.02 .015625)\" xlink:href=\"#DejaVuSans-Oblique-62\"/><use transform=\"translate(481.49 .015625)\" xlink:href=\"#DejaVuSans-Oblique-69\"/><use transform=\"translate(509.28 .015625)\" xlink:href=\"#DejaVuSans-Oblique-74\"/><use transform=\"translate(548.49 -16.391) scale(.7)\" xlink:href=\"#DejaVuSans-32\"/></g></g><g clip-path=\"url(#p07e9427139)\"><g transform=\"translate(179.41 269.25) scale(.104 -.104)\"><use xlink:href=\"#DejaVuSans-32\"/></g></g><g clip-path=\"url(#p07e9427139)\"><g transform=\"translate(33.685 280.31) scale(.1625 -.1625)\"><defs><path id=\"DejaVuSans-72\" transform=\"scale(.015625)\" d=\"m2631 2963q-97 56-211 82-114 27-251 27-488 0-749-317t-261-911v-1844h-578v3500h578v-544q182 319 472 473 291 155 707 155 59 0 131-8 72-7 159-23l3-590z\"/><path id=\"DejaVuSans-6f\" transform=\"scale(.015625)\" d=\"m1959 3097q-462 0-731-361t-269-989 267-989q268-361 733-361 460 0 728 362 269 363 269 988 0 622-269 986-268 364-728 364zm0 487q750 0 1178-488 429-487 429-1349 0-859-429-1349-428-489-1178-489-753 0-1180 489-426 490-426 1349 0 862 426 1349 427 488 1180 488z\"/><path id=\"DejaVuSans-75\" transform=\"scale(.015625)\" d=\"m544 1381v2119h575v-2097q0-497 193-746 194-248 582-248 465 0 735 297 271 297 271 810v1984h575v-3500h-575v538q-209-319-486-474-276-155-642-155-603 0-916 375-312 375-312 1097zm1447 2203z\"/><path id=\"DejaVuSans-6e\" transform=\"scale(.015625)\" d=\"m3513 2113v-2113h-575v2094q0 497-194 743-194 247-581 247-466 0-735-297-269-296-269-809v-1978h-578v3500h578v-544q207 316 486 472 280 156 646 156 603 0 912-373 310-373 310-1098z\"/><path id=\"DejaVuSans-64\" transform=\"scale(.015625)\" d=\"m2906 2969v1894h575v-4863h-575v525q-181-312-458-464-276-152-664-152-634 0-1033 506-398 507-398 1332t398 1331q399 506 1033 506 388 0 664-152 277-151 458-463zm-1959-1222q0-634 261-995t717-361 718 361q263 361 263 995t-263 995q-262 361-718 361t-717-361-261-995z\"/><path id=\"DejaVuSans-6c\" transform=\"scale(.015625)\" d=\"m603 4863h575v-4863h-575v4863z\"/><path id=\"DejaVuSans-69\" transform=\"scale(.015625)\" d=\"m603 3500h575v-3500h-575v3500zm0 1363h575v-729h-575v729z\"/><path id=\"DejaVuSans-6b\" transform=\"scale(.015625)\" d=\"m581 4863h578v-2872l1716 1509h734l-1856-1637 1935-1863h-750l-1779 1709v-1709h-578v4863z\"/><path id=\"DejaVuSans-62\" transform=\"scale(.015625)\" d=\"m3116 1747q0 634-261 995t-717 361q-457 0-718-361t-261-995 261-995 718-361q456 0 717 361t261 995zm-1957 1222q182 312 458 463 277 152 661 152 638 0 1036-506 399-506 399-1331t-399-1332q-398-506-1036-506-384 0-661 152-276 152-458 464v-525h-578v4863h578v-1894z\"/><path id=\"DejaVuSans-74\" transform=\"scale(.015625)\" d=\"m1172 4494v-994h1184v-447h-1184v-1900q0-428 117-550t477-122h590v-481h-590q-666 0-919 248-253 249-253 905v1900h-422v447h422v994h578z\"/></defs><use xlink:href=\"#DejaVuSans-72\"/><use x=\"38.863281\" xlink:href=\"#DejaVuSans-6f\"/><use x=\"100.044922\" xlink:href=\"#DejaVuSans-75\"/><use x=\"163.423828\" xlink:href=\"#DejaVuSans-6e\"/><use x=\"226.802734\" xlink:href=\"#DejaVuSans-64\"/><use x=\"290.279297\" xlink:href=\"#DejaVuSans-5f\"/><use x=\"340.279297\" xlink:href=\"#DejaVuSans-30\"/><use x=\"403.902344\" xlink:href=\"#DejaVuSans-5f\"/><use x=\"453.902344\" xlink:href=\"#DejaVuSans-6c\"/><use x=\"481.685547\" xlink:href=\"#DejaVuSans-69\"/><use x=\"509.46875\" xlink:href=\"#DejaVuSans-6e\"/><use x=\"572.847656\" xlink:href=\"#DejaVuSans-6b\"/><use x=\"630.757812\" xlink:href=\"#DejaVuSans-5f\"/><use x=\"680.757812\" xlink:href=\"#DejaVuSans-62\"/><use x=\"744.234375\" xlink:href=\"#DejaVuSans-69\"/><use x=\"772.017578\" xlink:href=\"#DejaVuSans-74\"/></g></g><g clip-path=\"url(#p07e9427139)\"><g transform=\"translate(179.41 315.61) scale(.104 -.104)\"><defs><path id=\"DejaVuSans-33\" transform=\"scale(.015625)\" d=\"m2597 2516q453-97 707-404 255-306 255-756 0-690-475-1069-475-378-1350-378-293 0-604 58t-642 174v609q262-153 574-231 313-78 654-78 593 0 904 234t311 681q0 413-289 645-289 233-804 233h-544v519h569q465 0 712 186t247 536q0 359-255 551-254 193-729 193-260 0-557-57-297-56-653-174v562q360 100 674 150t592 50q719 0 1137-327 419-326 419-882 0-388-222-655t-631-370z\"/></defs><use xlink:href=\"#DejaVuSans-33\"/></g></g><g clip-path=\"url(#p07e9427139)\"><g transform=\"translate(96.989 326.67) scale(.1625 -.1625)\"><defs><path id=\"DejaVuSans-63\" transform=\"scale(.015625)\" d=\"m3122 3366v-538q-244 135-489 202t-495 67q-560 0-870-355-309-354-309-995t309-996q310-354 870-354 250 0 495 67t489 202v-532q-241-112-499-168-257-57-548-57-791 0-1257 497-465 497-465 1341 0 856 470 1346 471 491 1290 491 265 0 518-55 253-54 491-163z\"/><path id=\"DejaVuSans-65\" transform=\"scale(.015625)\" d=\"m3597 1894v-281h-2644q38-594 358-905t892-311q331 0 642 81t618 244v-544q-310-131-635-200t-659-69q-838 0-1327 487-489 488-489 1320 0 859 464 1363 464 505 1252 505 706 0 1117-455 411-454 411-1235zm-575 169q-6 471-264 752-258 282-683 282-481 0-770-272t-333-766l2050 4z\"/></defs><use xlink:href=\"#DejaVuSans-63\"/><use x=\"54.980469\" xlink:href=\"#DejaVuSans-6f\"/><use x=\"116.162109\" xlink:href=\"#DejaVuSans-64\"/><use x=\"179.638672\" xlink:href=\"#DejaVuSans-65\"/><use x=\"241.162109\" xlink:href=\"#DejaVuSans-5f\"/><use x=\"291.162109\" xlink:href=\"#DejaVuSans-62\"/><use x=\"354.638672\" xlink:href=\"#DejaVuSans-69\"/><use x=\"382.421875\" xlink:href=\"#DejaVuSans-74\"/></g></g><path d=\"m199.81 50.309v-12.052\" clip-path=\"url(#p07e9427139)\" fill=\"none\" stroke=\"#ffffff\" stroke-linecap=\"square\" stroke-width=\"2\"/><path d=\"m193.78 44.283h12.052\" clip-path=\"url(#p07e9427139)\" fill=\"none\" stroke=\"#ffffff\" stroke-linecap=\"square\" stroke-width=\"2\"/><path d=\"m246.16 96.663v-12.052\" clip-path=\"url(#p07e9427139)\" fill=\"none\" stroke=\"#ffffff\" stroke-linecap=\"square\" stroke-width=\"2\"/><path d=\"m240.14 90.637h12.052\" clip-path=\"url(#p07e9427139)\" fill=\"none\" stroke=\"#ffffff\" stroke-linecap=\"square\" stroke-width=\"2\"/><path d=\"m292.52 50.309v-12.052\" clip-path=\"url(#p07e9427139)\" fill=\"none\" stroke=\"#ffffff\" stroke-linecap=\"square\" stroke-width=\"2\"/><path d=\"m286.49 44.283h12.052\" clip-path=\"url(#p07e9427139)\" fill=\"none\" stroke=\"#ffffff\" stroke-linecap=\"square\" stroke-width=\"2\"/><path d=\"m338.87 96.663v-12.052\" clip-path=\"url(#p07e9427139)\" fill=\"none\" stroke=\"#ffffff\" stroke-linecap=\"square\" stroke-width=\"2\"/><path d=\"m332.85 90.637h12.052\" clip-path=\"url(#p07e9427139)\" fill=\"none\" stroke=\"#ffffff\" stroke-linecap=\"square\" stroke-width=\"2\"/><g clip-path=\"url(#p07e9427139)\"><g transform=\"translate(396.81 315.61) scale(.104 -.104)\"><use xlink:href=\"#DejaVuSans-30\"/></g></g><g clip-path=\"url(#p07e9427139)\"><g transform=\"translate(443.17 269.25) scale(.104 -.104)\"><use xlink:href=\"#DejaVuSans-30\"/></g></g><g clip-path=\"url(#p07e9427139)\"><g transform=\"translate(489.52 269.25) scale(.104 -.104)\"><use xlink:href=\"#DejaVuSans-31\"/></g></g><g clip-path=\"url(#p07e9427139)\"><g transform=\"translate(535.88 315.61) scale(.104 -.104)\"><use xlink:href=\"#DejaVuSans-31\"/></g></g><g clip-path=\"url(#p07e9427139)\"><g transform=\"translate(582.23 315.61) scale(.104 -.104)\"><use xlink:href=\"#DejaVuSans-32\"/></g></g><defs><clipPath id=\"p07e9427139\"><rect x=\"7.2\" y=\"7.2\" width=\"594.04\" height=\"343.02\"/></clipPath></defs></svg>"
      ],
      "text/plain": [
       "<Figure size 1071.49x618.722 with 1 Axes>"
      ]
     },
     "execution_count": 25,
     "metadata": {},
     "output_type": "execute_result"
    }
   ],
   "source": [
    "code.circuit['0'].draw()"
   ]
  },
  {
   "cell_type": "code",
   "execution_count": 26,
   "metadata": {},
   "outputs": [
    {
     "data": {
      "image/svg+xml": [
       "<?xml version=\"1.0\" encoding=\"UTF-8\"?><!DOCTYPE svg  PUBLIC '-//W3C//DTD SVG 1.1//EN'  'http://www.w3.org/Graphics/SVG/1.1/DTD/svg11.dtd'><svg width=\"654.79pt\" height=\"357.42pt\" version=\"1.1\" viewBox=\"0 0 654.79 357.42\" xmlns=\"http://www.w3.org/2000/svg\" xmlns:xlink=\"http://www.w3.org/1999/xlink\"><defs><style type=\"text/css\">*{stroke-linejoin: round; stroke-linecap: butt}</style></defs><path d=\"m0 357.42h654.79v-357.42h-654.79z\" fill=\"#ffffff\"/><path d=\"m425.55 311.86h12.052l-6.026 8.6914z\" clip-path=\"url(#p9d05ac07af)\" fill=\"#778899\"/><path d=\"m471.91 265.51h12.052l-6.026 8.6914z\" clip-path=\"url(#p9d05ac07af)\" fill=\"#778899\"/><path d=\"m518.26 265.51h12.052l-6.026 8.6914z\" clip-path=\"url(#p9d05ac07af)\" fill=\"#778899\"/><path d=\"m564.62 311.86h12.052l-6.026 8.6914z\" clip-path=\"url(#p9d05ac07af)\" fill=\"#778899\"/><path d=\"m610.97 311.86h12.052l-6.026 8.6914z\" clip-path=\"url(#p9d05ac07af)\" fill=\"#778899\"/><path d=\"m174.78 44.283h468.18\" clip-path=\"url(#p9d05ac07af)\" fill=\"none\" stroke=\"#000000\" stroke-linecap=\"square\" stroke-width=\"2\"/><path d=\"m174.78 90.637h468.18\" clip-path=\"url(#p9d05ac07af)\" fill=\"none\" stroke=\"#000000\" stroke-linecap=\"square\" stroke-width=\"2\"/><path d=\"m174.78 136.99h468.18\" clip-path=\"url(#p9d05ac07af)\" fill=\"none\" stroke=\"#000000\" stroke-linecap=\"square\" stroke-width=\"2\"/><path d=\"m174.78 183.35h468.18\" clip-path=\"url(#p9d05ac07af)\" fill=\"none\" stroke=\"#000000\" stroke-linecap=\"square\" stroke-width=\"2\"/><path d=\"m174.78 229.7h468.18\" clip-path=\"url(#p9d05ac07af)\" fill=\"none\" stroke=\"#000000\" stroke-linecap=\"square\" stroke-width=\"2\"/><path d=\"m174.78 274.55h468.18\" clip-path=\"url(#p9d05ac07af)\" fill=\"none\" stroke=\"#778899\" stroke-linecap=\"square\" stroke-width=\"2\"/><path d=\"m174.78 277.56h468.18\" clip-path=\"url(#p9d05ac07af)\" fill=\"none\" stroke=\"#778899\" stroke-linecap=\"square\" stroke-width=\"2\"/><path d=\"m174.78 320.9h468.18\" clip-path=\"url(#p9d05ac07af)\" fill=\"none\" stroke=\"#778899\" stroke-linecap=\"square\" stroke-width=\"2\"/><path d=\"m174.78 323.91h468.18\" clip-path=\"url(#p9d05ac07af)\" fill=\"none\" stroke=\"#778899\" stroke-linecap=\"square\" stroke-width=\"2\"/><path d=\"m184.05 280.69 4.6354-9.2708\" clip-path=\"url(#p9d05ac07af)\" fill=\"none\" stroke=\"#778899\" stroke-linecap=\"square\"/><path d=\"m184.05 327.04 4.6354-9.2708\" clip-path=\"url(#p9d05ac07af)\" fill=\"none\" stroke=\"#778899\" stroke-linecap=\"square\"/><path d=\"m246.16 136.99v-92.708\" clip-path=\"url(#p9d05ac07af)\" fill=\"none\" stroke=\"#1192e8\" stroke-linecap=\"square\" stroke-width=\"2\"/><path d=\"m292.52 183.35v-92.708\" clip-path=\"url(#p9d05ac07af)\" fill=\"none\" stroke=\"#1192e8\" stroke-linecap=\"square\" stroke-width=\"2\"/><path d=\"m338.87 183.35v-139.06\" clip-path=\"url(#p9d05ac07af)\" fill=\"none\" stroke=\"#1192e8\" stroke-linecap=\"square\" stroke-width=\"2\"/><path d=\"m385.23 229.7v-139.06\" clip-path=\"url(#p9d05ac07af)\" fill=\"none\" stroke=\"#1192e8\" stroke-linecap=\"square\" stroke-width=\"2\"/><path d=\"m433.09 136.99v174.87\" clip-path=\"url(#p9d05ac07af)\" fill=\"none\" stroke=\"#778899\" stroke-linecap=\"square\" stroke-width=\"2\"/><path d=\"m430.07 136.99v174.87\" clip-path=\"url(#p9d05ac07af)\" fill=\"none\" stroke=\"#778899\" stroke-linecap=\"square\" stroke-width=\"2\"/><path d=\"m479.44 44.283v221.22\" clip-path=\"url(#p9d05ac07af)\" fill=\"none\" stroke=\"#778899\" stroke-linecap=\"square\" stroke-width=\"2\"/><path d=\"m476.43 44.283v221.22\" clip-path=\"url(#p9d05ac07af)\" fill=\"none\" stroke=\"#778899\" stroke-linecap=\"square\" stroke-width=\"2\"/><path d=\"m525.79 90.637v174.87\" clip-path=\"url(#p9d05ac07af)\" fill=\"none\" stroke=\"#778899\" stroke-linecap=\"square\" stroke-width=\"2\"/><path d=\"m522.78 90.637v174.87\" clip-path=\"url(#p9d05ac07af)\" fill=\"none\" stroke=\"#778899\" stroke-linecap=\"square\" stroke-width=\"2\"/><path d=\"m572.15 183.35v128.52\" clip-path=\"url(#p9d05ac07af)\" fill=\"none\" stroke=\"#778899\" stroke-linecap=\"square\" stroke-width=\"2\"/><path d=\"m569.14 183.35v128.52\" clip-path=\"url(#p9d05ac07af)\" fill=\"none\" stroke=\"#778899\" stroke-linecap=\"square\" stroke-width=\"2\"/><path d=\"m618.5 229.7v82.162\" clip-path=\"url(#p9d05ac07af)\" fill=\"none\" stroke=\"#778899\" stroke-linecap=\"square\" stroke-width=\"2\"/><path d=\"m615.49 229.7v82.162\" clip-path=\"url(#p9d05ac07af)\" fill=\"none\" stroke=\"#778899\" stroke-linecap=\"square\" stroke-width=\"2\"/><path d=\"m184.75 152.06h30.13v-30.13h-30.13z\" clip-path=\"url(#p9d05ac07af)\" fill=\"#005d5d\" stroke=\"#005d5d\" stroke-width=\"1.5\"/><path d=\"m184.75 198.41h30.13v-30.13h-30.13z\" clip-path=\"url(#p9d05ac07af)\" fill=\"#005d5d\" stroke=\"#005d5d\" stroke-width=\"1.5\"/><path d=\"m184.75 244.76h30.13v-30.13h-30.13z\" clip-path=\"url(#p9d05ac07af)\" fill=\"#005d5d\" stroke=\"#005d5d\" stroke-width=\"1.5\"/><path d=\"m246.16 141.51c1.1986 0 2.3482-0.4762 3.1958-1.3237 0.84753-0.84753 1.3237-1.9972 1.3237-3.1958 0-1.1986-0.4762-2.3482-1.3237-3.1958-0.84753-0.84753-1.9972-1.3237-3.1958-1.3237-1.1986 0-2.3482 0.4762-3.1958 1.3237-0.84753 0.84753-1.3237 1.9972-1.3237 3.1958 0 1.1986 0.4762 2.3482 1.3237 3.1958s1.9972 1.3237 3.1958 1.3237z\" clip-path=\"url(#p9d05ac07af)\" fill=\"#1192e8\" stroke=\"#1192e8\" stroke-width=\"1.5\"/><path d=\"m246.16 54.829c2.7967 0 5.4792-1.1111 7.4568-3.0887 1.9776-1.9776 3.0887-4.6601 3.0887-7.4568 0-2.7967-1.1111-5.4792-3.0887-7.4568-1.9776-1.9776-4.6601-3.0887-7.4568-3.0887-2.7967 0-5.4792 1.1111-7.4568 3.0887-1.9776 1.9776-3.0887 4.6601-3.0887 7.4568 0 2.7967 1.1111 5.4792 3.0887 7.4568 1.9776 1.9776 4.6601 3.0887 7.4568 3.0887z\" clip-path=\"url(#p9d05ac07af)\" fill=\"#1192e8\" stroke=\"#1192e8\" stroke-width=\"2\"/><path d=\"m292.52 187.86c1.1986 0 2.3482-0.4762 3.1958-1.3237 0.84753-0.84753 1.3237-1.9972 1.3237-3.1958 0-1.1986-0.4762-2.3482-1.3237-3.1958-0.84753-0.84753-1.9972-1.3237-3.1958-1.3237s-2.3482 0.4762-3.1958 1.3237c-0.84753 0.84753-1.3237 1.9972-1.3237 3.1958 0 1.1986 0.4762 2.3482 1.3237 3.1958 0.84753 0.84753 1.9972 1.3237 3.1958 1.3237z\" clip-path=\"url(#p9d05ac07af)\" fill=\"#1192e8\" stroke=\"#1192e8\" stroke-width=\"1.5\"/><path d=\"m292.52 101.18c2.7967 0 5.4792-1.1111 7.4568-3.0887 1.9776-1.9776 3.0887-4.6601 3.0887-7.4568 0-2.7967-1.1111-5.4792-3.0887-7.4568-1.9776-1.9776-4.6601-3.0887-7.4568-3.0887s-5.4792 1.1111-7.4568 3.0887c-1.9776 1.9776-3.0887 4.6601-3.0887 7.4568 0 2.7967 1.1111 5.4792 3.0887 7.4568 1.9776 1.9776 4.6601 3.0887 7.4568 3.0887z\" clip-path=\"url(#p9d05ac07af)\" fill=\"#1192e8\" stroke=\"#1192e8\" stroke-width=\"2\"/><path d=\"m338.87 187.86c1.1986 0 2.3482-0.4762 3.1958-1.3237 0.84753-0.84753 1.3237-1.9972 1.3237-3.1958 0-1.1986-0.4762-2.3482-1.3237-3.1958s-1.9972-1.3237-3.1958-1.3237c-1.1986 0-2.3482 0.4762-3.1958 1.3237-0.84753 0.84753-1.3237 1.9972-1.3237 3.1958 0 1.1986 0.4762 2.3482 1.3237 3.1958 0.84753 0.84753 1.9972 1.3237 3.1958 1.3237z\" clip-path=\"url(#p9d05ac07af)\" fill=\"#1192e8\" stroke=\"#1192e8\" stroke-width=\"1.5\"/><path d=\"m338.87 54.829c2.7967 0 5.4792-1.1111 7.4568-3.0887 1.9776-1.9776 3.0887-4.6601 3.0887-7.4568 0-2.7967-1.1111-5.4792-3.0887-7.4568-1.9776-1.9776-4.6601-3.0887-7.4568-3.0887-2.7967 0-5.4792 1.1111-7.4568 3.0887-1.9776 1.9776-3.0887 4.6601-3.0887 7.4568 0 2.7967 1.1111 5.4792 3.0887 7.4568 1.9776 1.9776 4.6601 3.0887 7.4568 3.0887z\" clip-path=\"url(#p9d05ac07af)\" fill=\"#1192e8\" stroke=\"#1192e8\" stroke-width=\"2\"/><path d=\"m385.23 234.22c1.1986 0 2.3482-0.4762 3.1958-1.3237 0.84753-0.84753 1.3237-1.9972 1.3237-3.1958s-0.4762-2.3482-1.3237-3.1958c-0.84753-0.84753-1.9972-1.3237-3.1958-1.3237-1.1986 0-2.3482 0.4762-3.1958 1.3237-0.84753 0.84753-1.3237 1.9972-1.3237 3.1958s0.4762 2.3482 1.3237 3.1958c0.84753 0.84753 1.9972 1.3237 3.1958 1.3237z\" clip-path=\"url(#p9d05ac07af)\" fill=\"#1192e8\" stroke=\"#1192e8\" stroke-width=\"1.5\"/><path d=\"m385.23 101.18c2.7967 0 5.4792-1.1111 7.4568-3.0887 1.9776-1.9776 3.0887-4.6601 3.0887-7.4568 0-2.7967-1.1111-5.4792-3.0887-7.4568-1.9776-1.9776-4.6601-3.0887-7.4568-3.0887-2.7967 0-5.4792 1.1111-7.4568 3.0887-1.9776 1.9776-3.0887 4.6601-3.0887 7.4568 0 2.7967 1.1111 5.4792 3.0887 7.4568 1.9776 1.9776 4.6601 3.0887 7.4568 3.0887z\" clip-path=\"url(#p9d05ac07af)\" fill=\"#1192e8\" stroke=\"#1192e8\" stroke-width=\"2\"/><path d=\"m416.52 152.06h30.13v-30.13h-30.13z\" clip-path=\"url(#p9d05ac07af)\" fill=\"#121619\" stroke=\"#121619\" stroke-width=\"1.5\"/><path d=\"m442.13 141.51c0-2.7958-1.1118-5.4799-3.0887-7.4568s-4.661-3.0887-7.4568-3.0887-5.4799 1.1118-7.4568 3.0887-3.0887 4.661-3.0887 7.4568\" clip-path=\"url(#p9d05ac07af)\" fill=\"none\" stroke=\"#ffffff\" stroke-width=\"2\"/><path d=\"m431.58 141.51 10.546-10.546\" clip-path=\"url(#p9d05ac07af)\" fill=\"none\" stroke=\"#ffffff\" stroke-linecap=\"square\" stroke-width=\"2\"/><path d=\"m462.87 59.348h30.13v-30.13h-30.13z\" clip-path=\"url(#p9d05ac07af)\" fill=\"#121619\" stroke=\"#121619\" stroke-width=\"1.5\"/><path d=\"m488.48 48.803c0-2.7958-1.1118-5.4799-3.0887-7.4568s-4.661-3.0887-7.4568-3.0887c-2.7958 0-5.4799 1.1118-7.4568 3.0887s-3.0887 4.661-3.0887 7.4568\" clip-path=\"url(#p9d05ac07af)\" fill=\"none\" stroke=\"#ffffff\" stroke-width=\"2\"/><path d=\"m477.93 48.803 10.546-10.546\" clip-path=\"url(#p9d05ac07af)\" fill=\"none\" stroke=\"#ffffff\" stroke-linecap=\"square\" stroke-width=\"2\"/><path d=\"m509.22 105.7h30.13v-30.13h-30.13z\" clip-path=\"url(#p9d05ac07af)\" fill=\"#121619\" stroke=\"#121619\" stroke-width=\"1.5\"/><path d=\"m534.83 95.157c0-2.7958-1.1118-5.4799-3.0887-7.4568s-4.661-3.0887-7.4568-3.0887-5.4799 1.1118-7.4568 3.0887-3.0887 4.661-3.0887 7.4568\" clip-path=\"url(#p9d05ac07af)\" fill=\"none\" stroke=\"#ffffff\" stroke-width=\"2\"/><path d=\"m524.29 95.157 10.546-10.546\" clip-path=\"url(#p9d05ac07af)\" fill=\"none\" stroke=\"#ffffff\" stroke-linecap=\"square\" stroke-width=\"2\"/><path d=\"m555.58 198.41h30.13v-30.13h-30.13z\" clip-path=\"url(#p9d05ac07af)\" fill=\"#121619\" stroke=\"#121619\" stroke-width=\"1.5\"/><path d=\"m581.19 187.86c0-2.7958-1.1118-5.4799-3.0887-7.4568-1.9769-1.9769-4.661-3.0887-7.4568-3.0887s-5.4799 1.1118-7.4568 3.0887-3.0887 4.661-3.0887 7.4568\" clip-path=\"url(#p9d05ac07af)\" fill=\"none\" stroke=\"#ffffff\" stroke-width=\"2\"/><path d=\"m570.64 187.86 10.546-10.546\" clip-path=\"url(#p9d05ac07af)\" fill=\"none\" stroke=\"#ffffff\" stroke-linecap=\"square\" stroke-width=\"2\"/><path d=\"m601.93 244.76h30.13v-30.13h-30.13z\" clip-path=\"url(#p9d05ac07af)\" fill=\"#121619\" stroke=\"#121619\" stroke-width=\"1.5\"/><path d=\"m627.54 234.22c0-2.7958-1.1118-5.4799-3.0887-7.4568s-4.661-3.0887-7.4568-3.0887-5.4799 1.1118-7.4568 3.0887c-1.9769 1.9769-3.0887 4.661-3.0887 7.4568\" clip-path=\"url(#p9d05ac07af)\" fill=\"none\" stroke=\"#ffffff\" stroke-width=\"2\"/><path d=\"m617 234.22 10.546-10.546\" clip-path=\"url(#p9d05ac07af)\" fill=\"none\" stroke=\"#ffffff\" stroke-linecap=\"square\" stroke-width=\"2\"/><g clip-path=\"url(#p9d05ac07af)\"><g transform=\"translate(79.058 48.508) scale(.1625 -.1625)\"><defs><path id=\"DejaVuSans-Oblique-6c\" transform=\"scale(.015625)\" d=\"m1172 4863h575l-947-4863h-575l947 4863z\"/><path id=\"DejaVuSans-Oblique-69\" transform=\"scale(.015625)\" d=\"m1172 4863h575l-141-729h-575l141 729zm-263-1363h575l-684-3500h-575l684 3500z\"/><path id=\"DejaVuSans-Oblique-6e\" transform=\"scale(.015625)\" d=\"m3566 2113-410-2113h-578l410 2091q28 147 43 259 16 113 16 178 0 263-166 409-165 147-462 147-463 0-797-308-334-307-438-835l-384-1941h-575l678 3500h575l-115-550q240 303 577 468 338 166 710 166 463 0 717-250 255-250 255-703 0-112-14-240t-42-278z\"/><path id=\"DejaVuSans-Oblique-6b\" transform=\"scale(.015625)\" d=\"m1172 4863h575l-550-2835 1972 1472h747l-2200-1675 1606-1825h-697l-1494 1709-331-1709h-575l947 4863z\"/><path id=\"DejaVuSans-5f\" transform=\"scale(.015625)\" d=\"m3263-1063v-446h-3326v446h3326z\"/><path id=\"DejaVuSans-Oblique-71\" transform=\"scale(.015625)\" d=\"m2669 525q-231-303-546-460-314-156-695-156-531 0-833 358-301 358-301 986 0 506 186 978t533 847q225 244 517 375t614 131q387 0 637-153t363-462l100 525h578l-934-4813h-579l360 1844zm-1778 813q0-463 193-705 194-242 560-242 544 0 928 520t384 1264q0 450-199 689-198 239-569 239-272 0-504-127-231-126-403-370-181-256-286-600-104-343-104-668z\"/><path id=\"DejaVuSans-Oblique-75\" transform=\"scale(.015625)\" d=\"m428 1388 410 2112h578l-410-2091q-31-153-45-262t-14-181q0-266 162-412 163-145 460-145 462 0 799 312 338 313 441 842l385 1937h575l-678-3500h-575l115 550q-243-306-579-474-336-167-714-167-460 0-716 252t-256 702q0 93 15 234 16 141 47 291z\"/><path id=\"DejaVuSans-Oblique-62\" transform=\"scale(.015625)\" d=\"m3169 2138q0 453-208 709t-573 256q-266 0-499-130-233-129-405-376-181-259-286-602-104-342-104-682 0-432 204-677 205-245 565-245 271 0 502 126 232 127 407 374 178 256 287 596 110 341 110 651zm-1788 831q213 287 533 451t670 164q538 0 855-363 317-362 317-980 0-507-186-982t-529-843q-225-244-519-376-294-131-616-131-340 0-590 156-250 157-407 466l-103-531h-575l947 4863h575l-372-1894z\"/><path id=\"DejaVuSans-Oblique-74\" transform=\"scale(.015625)\" d=\"m2706 3500-87-447h-1147l-372-1900q-19-106-28-178t-9-112q0-200 120-291t386-91h581l-97-481h-550q-512 0-764 200-251 200-251 606 0 72 9 158t28 189l372 1900h-488l91 447h478l194 994h575l-191-994h1150z\"/><path id=\"DejaVuSans-30\" transform=\"scale(.015625)\" d=\"m2034 4250q-487 0-733-480-245-479-245-1442 0-959 245-1439 246-480 733-480 491 0 736 480 246 480 246 1439 0 963-246 1442-245 480-736 480zm0 500q785 0 1199-621 414-620 414-1801 0-1178-414-1799-414-620-1199-620-784 0-1198 620-414 621-414 1799 0 1181 414 1801 414 621 1198 621z\"/></defs><use transform=\"translate(0 .015625)\" xlink:href=\"#DejaVuSans-Oblique-6c\"/><use transform=\"translate(27.783 .015625)\" xlink:href=\"#DejaVuSans-Oblique-69\"/><use transform=\"translate(55.566 .015625)\" xlink:href=\"#DejaVuSans-Oblique-6e\"/><use transform=\"translate(118.95 .015625)\" xlink:href=\"#DejaVuSans-Oblique-6b\"/><use transform=\"translate(176.86 .015625)\" xlink:href=\"#DejaVuSans-5f\"/><use transform=\"translate(226.86 .015625)\" xlink:href=\"#DejaVuSans-Oblique-71\"/><use transform=\"translate(290.33 .015625)\" xlink:href=\"#DejaVuSans-Oblique-75\"/><use transform=\"translate(353.71 .015625)\" xlink:href=\"#DejaVuSans-Oblique-62\"/><use transform=\"translate(417.19 .015625)\" xlink:href=\"#DejaVuSans-Oblique-69\"/><use transform=\"translate(444.97 .015625)\" xlink:href=\"#DejaVuSans-Oblique-74\"/><use transform=\"translate(484.18 -16.391) scale(.7)\" xlink:href=\"#DejaVuSans-30\"/></g></g><g clip-path=\"url(#p9d05ac07af)\"><g transform=\"translate(79.058 94.862) scale(.1625 -.1625)\"><defs><path id=\"DejaVuSans-31\" transform=\"scale(.015625)\" d=\"m794 531h1031v3560l-1122-225v575l1116 225h631v-4135h1031v-531h-2687v531z\"/></defs><use transform=\"translate(0 .015625)\" xlink:href=\"#DejaVuSans-Oblique-6c\"/><use transform=\"translate(27.783 .015625)\" xlink:href=\"#DejaVuSans-Oblique-69\"/><use transform=\"translate(55.566 .015625)\" xlink:href=\"#DejaVuSans-Oblique-6e\"/><use transform=\"translate(118.95 .015625)\" xlink:href=\"#DejaVuSans-Oblique-6b\"/><use transform=\"translate(176.86 .015625)\" xlink:href=\"#DejaVuSans-5f\"/><use transform=\"translate(226.86 .015625)\" xlink:href=\"#DejaVuSans-Oblique-71\"/><use transform=\"translate(290.33 .015625)\" xlink:href=\"#DejaVuSans-Oblique-75\"/><use transform=\"translate(353.71 .015625)\" xlink:href=\"#DejaVuSans-Oblique-62\"/><use transform=\"translate(417.19 .015625)\" xlink:href=\"#DejaVuSans-Oblique-69\"/><use transform=\"translate(444.97 .015625)\" xlink:href=\"#DejaVuSans-Oblique-74\"/><use transform=\"translate(484.18 -16.391) scale(.7)\" xlink:href=\"#DejaVuSans-31\"/></g></g><g clip-path=\"url(#p9d05ac07af)\"><g transform=\"translate(68.658 141.22) scale(.1625 -.1625)\"><defs><path id=\"DejaVuSans-Oblique-63\" transform=\"scale(.015625)\" d=\"m3431 3366-115-569q-207 150-440 225-232 75-482 75-275 0-524-97-248-97-417-275-269-272-416-638-146-365-146-756 0-472 236-703t717-231q237 0 504 72 268 72 558 215l-109-568q-250-103-514-155t-542-52q-697 0-1072 348-375 349-375 996 0 544 195 1002t580 823q262 250 615 378 354 128 772 128 244 0 484-55 241-54 491-163z\"/><path id=\"DejaVuSans-Oblique-6f\" transform=\"scale(.015625)\" d=\"m1625-91q-616 0-974 380-357 380-357 1036 0 381 123 776 124 396 321 665 309 418 690 618t863 200q597 0 964-372 367-371 367-971 0-416-122-829-122-412-319-684-306-419-687-619t-869-200zm-734 1435q0-475 198-711 199-236 602-236 578 0 957 504 380 505 380 1280 0 453-203 684-203 232-597 232-325 0-578-152-253-151-453-461-147-231-227-528-79-297-79-612z\"/><path id=\"DejaVuSans-Oblique-64\" transform=\"scale(.015625)\" d=\"m2675 525q-231-303-547-460-315-156-700-156-525 0-830 358-304 358-304 980 0 519 184 989 185 470 535 842 231 247 521 376 291 130 610 130 337 0 595-163 258-162 399-465l375 1907h578l-947-4863h-578l109 525zm-1784 825q0-453 204-706 205-253 568-253 268 0 498 129 230 130 405 383 184 263 290 606 107 344 107 679 0 434-205 677-205 244-564 244-272 0-507-128-234-128-399-368-182-260-290-604-107-343-107-659z\"/><path id=\"DejaVuSans-Oblique-65\" transform=\"scale(.015625)\" d=\"m3078 2063q10 50 14 103 5 53 5 106 0 381-224 603-223 222-607 222-428 0-757-271-328-270-496-767l2065 4zm500-450h-2675q-19-119-25-188t-6-119q0-434 267-672 267-237 755-237 375 0 709 84 335 85 622 247l-109-569q-310-125-640-187-329-63-670-63-728 0-1120 348-392 349-392 990 0 547 195 1017t574 839q243 231 579 356t714 125q594 0 945-356 352-356 352-956 0-144-19-308-18-164-56-351z\"/></defs><use transform=\"translate(0 .015625)\" xlink:href=\"#DejaVuSans-Oblique-63\"/><use transform=\"translate(54.98 .015625)\" xlink:href=\"#DejaVuSans-Oblique-6f\"/><use transform=\"translate(116.16 .015625)\" xlink:href=\"#DejaVuSans-Oblique-64\"/><use transform=\"translate(179.64 .015625)\" xlink:href=\"#DejaVuSans-Oblique-65\"/><use transform=\"translate(241.16 .015625)\" xlink:href=\"#DejaVuSans-5f\"/><use transform=\"translate(291.16 .015625)\" xlink:href=\"#DejaVuSans-Oblique-71\"/><use transform=\"translate(354.64 .015625)\" xlink:href=\"#DejaVuSans-Oblique-75\"/><use transform=\"translate(418.02 .015625)\" xlink:href=\"#DejaVuSans-Oblique-62\"/><use transform=\"translate(481.49 .015625)\" xlink:href=\"#DejaVuSans-Oblique-69\"/><use transform=\"translate(509.28 .015625)\" xlink:href=\"#DejaVuSans-Oblique-74\"/><use transform=\"translate(548.49 -16.391) scale(.7)\" xlink:href=\"#DejaVuSans-30\"/></g></g><g clip-path=\"url(#p9d05ac07af)\"><g transform=\"translate(68.658 187.57) scale(.1625 -.1625)\"><use transform=\"translate(0 .015625)\" xlink:href=\"#DejaVuSans-Oblique-63\"/><use transform=\"translate(54.98 .015625)\" xlink:href=\"#DejaVuSans-Oblique-6f\"/><use transform=\"translate(116.16 .015625)\" xlink:href=\"#DejaVuSans-Oblique-64\"/><use transform=\"translate(179.64 .015625)\" xlink:href=\"#DejaVuSans-Oblique-65\"/><use transform=\"translate(241.16 .015625)\" xlink:href=\"#DejaVuSans-5f\"/><use transform=\"translate(291.16 .015625)\" xlink:href=\"#DejaVuSans-Oblique-71\"/><use transform=\"translate(354.64 .015625)\" xlink:href=\"#DejaVuSans-Oblique-75\"/><use transform=\"translate(418.02 .015625)\" xlink:href=\"#DejaVuSans-Oblique-62\"/><use transform=\"translate(481.49 .015625)\" xlink:href=\"#DejaVuSans-Oblique-69\"/><use transform=\"translate(509.28 .015625)\" xlink:href=\"#DejaVuSans-Oblique-74\"/><use transform=\"translate(548.49 -16.391) scale(.7)\" xlink:href=\"#DejaVuSans-31\"/></g></g><g clip-path=\"url(#p9d05ac07af)\"><g transform=\"translate(68.658 233.92) scale(.1625 -.1625)\"><defs><path id=\"DejaVuSans-32\" transform=\"scale(.015625)\" d=\"m1228 531h2203v-531h-2962v531q359 372 979 998 621 627 780 809 303 340 423 576 121 236 121 464 0 372-261 606-261 235-680 235-297 0-627-103-329-103-704-313v638q381 153 712 231 332 78 607 78 725 0 1156-363 431-362 431-968 0-288-108-546-107-257-392-607-78-91-497-524-418-433-1181-1211z\"/></defs><use transform=\"translate(0 .015625)\" xlink:href=\"#DejaVuSans-Oblique-63\"/><use transform=\"translate(54.98 .015625)\" xlink:href=\"#DejaVuSans-Oblique-6f\"/><use transform=\"translate(116.16 .015625)\" xlink:href=\"#DejaVuSans-Oblique-64\"/><use transform=\"translate(179.64 .015625)\" xlink:href=\"#DejaVuSans-Oblique-65\"/><use transform=\"translate(241.16 .015625)\" xlink:href=\"#DejaVuSans-5f\"/><use transform=\"translate(291.16 .015625)\" xlink:href=\"#DejaVuSans-Oblique-71\"/><use transform=\"translate(354.64 .015625)\" xlink:href=\"#DejaVuSans-Oblique-75\"/><use transform=\"translate(418.02 .015625)\" xlink:href=\"#DejaVuSans-Oblique-62\"/><use transform=\"translate(481.49 .015625)\" xlink:href=\"#DejaVuSans-Oblique-69\"/><use transform=\"translate(509.28 .015625)\" xlink:href=\"#DejaVuSans-Oblique-74\"/><use transform=\"translate(548.49 -16.391) scale(.7)\" xlink:href=\"#DejaVuSans-32\"/></g></g><g clip-path=\"url(#p9d05ac07af)\"><g transform=\"translate(179.41 269.25) scale(.104 -.104)\"><use xlink:href=\"#DejaVuSans-32\"/></g></g><g clip-path=\"url(#p9d05ac07af)\"><g transform=\"translate(33.685 280.31) scale(.1625 -.1625)\"><defs><path id=\"DejaVuSans-72\" transform=\"scale(.015625)\" d=\"m2631 2963q-97 56-211 82-114 27-251 27-488 0-749-317t-261-911v-1844h-578v3500h578v-544q182 319 472 473 291 155 707 155 59 0 131-8 72-7 159-23l3-590z\"/><path id=\"DejaVuSans-6f\" transform=\"scale(.015625)\" d=\"m1959 3097q-462 0-731-361t-269-989 267-989q268-361 733-361 460 0 728 362 269 363 269 988 0 622-269 986-268 364-728 364zm0 487q750 0 1178-488 429-487 429-1349 0-859-429-1349-428-489-1178-489-753 0-1180 489-426 490-426 1349 0 862 426 1349 427 488 1180 488z\"/><path id=\"DejaVuSans-75\" transform=\"scale(.015625)\" d=\"m544 1381v2119h575v-2097q0-497 193-746 194-248 582-248 465 0 735 297 271 297 271 810v1984h575v-3500h-575v538q-209-319-486-474-276-155-642-155-603 0-916 375-312 375-312 1097zm1447 2203z\"/><path id=\"DejaVuSans-6e\" transform=\"scale(.015625)\" d=\"m3513 2113v-2113h-575v2094q0 497-194 743-194 247-581 247-466 0-735-297-269-296-269-809v-1978h-578v3500h578v-544q207 316 486 472 280 156 646 156 603 0 912-373 310-373 310-1098z\"/><path id=\"DejaVuSans-64\" transform=\"scale(.015625)\" d=\"m2906 2969v1894h575v-4863h-575v525q-181-312-458-464-276-152-664-152-634 0-1033 506-398 507-398 1332t398 1331q399 506 1033 506 388 0 664-152 277-151 458-463zm-1959-1222q0-634 261-995t717-361 718 361q263 361 263 995t-263 995q-262 361-718 361t-717-361-261-995z\"/><path id=\"DejaVuSans-6c\" transform=\"scale(.015625)\" d=\"m603 4863h575v-4863h-575v4863z\"/><path id=\"DejaVuSans-69\" transform=\"scale(.015625)\" d=\"m603 3500h575v-3500h-575v3500zm0 1363h575v-729h-575v729z\"/><path id=\"DejaVuSans-6b\" transform=\"scale(.015625)\" d=\"m581 4863h578v-2872l1716 1509h734l-1856-1637 1935-1863h-750l-1779 1709v-1709h-578v4863z\"/><path id=\"DejaVuSans-62\" transform=\"scale(.015625)\" d=\"m3116 1747q0 634-261 995t-717 361q-457 0-718-361t-261-995 261-995 718-361q456 0 717 361t261 995zm-1957 1222q182 312 458 463 277 152 661 152 638 0 1036-506 399-506 399-1331t-399-1332q-398-506-1036-506-384 0-661 152-276 152-458 464v-525h-578v4863h578v-1894z\"/><path id=\"DejaVuSans-74\" transform=\"scale(.015625)\" d=\"m1172 4494v-994h1184v-447h-1184v-1900q0-428 117-550t477-122h590v-481h-590q-666 0-919 248-253 249-253 905v1900h-422v447h422v994h578z\"/></defs><use xlink:href=\"#DejaVuSans-72\"/><use x=\"38.863281\" xlink:href=\"#DejaVuSans-6f\"/><use x=\"100.044922\" xlink:href=\"#DejaVuSans-75\"/><use x=\"163.423828\" xlink:href=\"#DejaVuSans-6e\"/><use x=\"226.802734\" xlink:href=\"#DejaVuSans-64\"/><use x=\"290.279297\" xlink:href=\"#DejaVuSans-5f\"/><use x=\"340.279297\" xlink:href=\"#DejaVuSans-30\"/><use x=\"403.902344\" xlink:href=\"#DejaVuSans-5f\"/><use x=\"453.902344\" xlink:href=\"#DejaVuSans-6c\"/><use x=\"481.685547\" xlink:href=\"#DejaVuSans-69\"/><use x=\"509.46875\" xlink:href=\"#DejaVuSans-6e\"/><use x=\"572.847656\" xlink:href=\"#DejaVuSans-6b\"/><use x=\"630.757812\" xlink:href=\"#DejaVuSans-5f\"/><use x=\"680.757812\" xlink:href=\"#DejaVuSans-62\"/><use x=\"744.234375\" xlink:href=\"#DejaVuSans-69\"/><use x=\"772.017578\" xlink:href=\"#DejaVuSans-74\"/></g></g><g clip-path=\"url(#p9d05ac07af)\"><g transform=\"translate(179.41 315.61) scale(.104 -.104)\"><defs><path id=\"DejaVuSans-33\" transform=\"scale(.015625)\" d=\"m2597 2516q453-97 707-404 255-306 255-756 0-690-475-1069-475-378-1350-378-293 0-604 58t-642 174v609q262-153 574-231 313-78 654-78 593 0 904 234t311 681q0 413-289 645-289 233-804 233h-544v519h569q465 0 712 186t247 536q0 359-255 551-254 193-729 193-260 0-557-57-297-56-653-174v562q360 100 674 150t592 50q719 0 1137-327 419-326 419-882 0-388-222-655t-631-370z\"/></defs><use xlink:href=\"#DejaVuSans-33\"/></g></g><g clip-path=\"url(#p9d05ac07af)\"><g transform=\"translate(96.989 326.67) scale(.1625 -.1625)\"><defs><path id=\"DejaVuSans-63\" transform=\"scale(.015625)\" d=\"m3122 3366v-538q-244 135-489 202t-495 67q-560 0-870-355-309-354-309-995t309-996q310-354 870-354 250 0 495 67t489 202v-532q-241-112-499-168-257-57-548-57-791 0-1257 497-465 497-465 1341 0 856 470 1346 471 491 1290 491 265 0 518-55 253-54 491-163z\"/><path id=\"DejaVuSans-65\" transform=\"scale(.015625)\" d=\"m3597 1894v-281h-2644q38-594 358-905t892-311q331 0 642 81t618 244v-544q-310-131-635-200t-659-69q-838 0-1327 487-489 488-489 1320 0 859 464 1363 464 505 1252 505 706 0 1117-455 411-454 411-1235zm-575 169q-6 471-264 752-258 282-683 282-481 0-770-272t-333-766l2050 4z\"/></defs><use xlink:href=\"#DejaVuSans-63\"/><use x=\"54.980469\" xlink:href=\"#DejaVuSans-6f\"/><use x=\"116.162109\" xlink:href=\"#DejaVuSans-64\"/><use x=\"179.638672\" xlink:href=\"#DejaVuSans-65\"/><use x=\"241.162109\" xlink:href=\"#DejaVuSans-5f\"/><use x=\"291.162109\" xlink:href=\"#DejaVuSans-62\"/><use x=\"354.638672\" xlink:href=\"#DejaVuSans-69\"/><use x=\"382.421875\" xlink:href=\"#DejaVuSans-74\"/></g></g><g clip-path=\"url(#p9d05ac07af)\"><g transform=\"translate(195.36 140.58) scale(.13 -.13)\" fill=\"#ffffff\"><defs><path id=\"DejaVuSans-58\" transform=\"scale(.015625)\" d=\"m403 4666h678l1160-1735 1165 1735h678l-1500-2241 1600-2425h-678l-1312 1984-1322-1984h-681l1665 2491-1453 2175z\"/></defs><use xlink:href=\"#DejaVuSans-58\"/></g></g><g clip-path=\"url(#p9d05ac07af)\"><g transform=\"translate(195.36 186.93) scale(.13 -.13)\" fill=\"#ffffff\"><use xlink:href=\"#DejaVuSans-58\"/></g></g><g clip-path=\"url(#p9d05ac07af)\"><g transform=\"translate(195.36 233.29) scale(.13 -.13)\" fill=\"#ffffff\"><use xlink:href=\"#DejaVuSans-58\"/></g></g><path d=\"m246.16 50.309v-12.052\" clip-path=\"url(#p9d05ac07af)\" fill=\"none\" stroke=\"#ffffff\" stroke-linecap=\"square\" stroke-width=\"2\"/><path d=\"m240.14 44.283h12.052\" clip-path=\"url(#p9d05ac07af)\" fill=\"none\" stroke=\"#ffffff\" stroke-linecap=\"square\" stroke-width=\"2\"/><path d=\"m292.52 96.663v-12.052\" clip-path=\"url(#p9d05ac07af)\" fill=\"none\" stroke=\"#ffffff\" stroke-linecap=\"square\" stroke-width=\"2\"/><path d=\"m286.49 90.637h12.052\" clip-path=\"url(#p9d05ac07af)\" fill=\"none\" stroke=\"#ffffff\" stroke-linecap=\"square\" stroke-width=\"2\"/><path d=\"m338.87 50.309v-12.052\" clip-path=\"url(#p9d05ac07af)\" fill=\"none\" stroke=\"#ffffff\" stroke-linecap=\"square\" stroke-width=\"2\"/><path d=\"m332.85 44.283h12.052\" clip-path=\"url(#p9d05ac07af)\" fill=\"none\" stroke=\"#ffffff\" stroke-linecap=\"square\" stroke-width=\"2\"/><path d=\"m385.23 96.663v-12.052\" clip-path=\"url(#p9d05ac07af)\" fill=\"none\" stroke=\"#ffffff\" stroke-linecap=\"square\" stroke-width=\"2\"/><path d=\"m379.2 90.637h12.052\" clip-path=\"url(#p9d05ac07af)\" fill=\"none\" stroke=\"#ffffff\" stroke-linecap=\"square\" stroke-width=\"2\"/><g clip-path=\"url(#p9d05ac07af)\"><g transform=\"translate(443.17 315.61) scale(.104 -.104)\"><use xlink:href=\"#DejaVuSans-30\"/></g></g><g clip-path=\"url(#p9d05ac07af)\"><g transform=\"translate(489.52 269.25) scale(.104 -.104)\"><use xlink:href=\"#DejaVuSans-30\"/></g></g><g clip-path=\"url(#p9d05ac07af)\"><g transform=\"translate(535.88 269.25) scale(.104 -.104)\"><use xlink:href=\"#DejaVuSans-31\"/></g></g><g clip-path=\"url(#p9d05ac07af)\"><g transform=\"translate(582.23 315.61) scale(.104 -.104)\"><use xlink:href=\"#DejaVuSans-31\"/></g></g><g clip-path=\"url(#p9d05ac07af)\"><g transform=\"translate(628.58 315.61) scale(.104 -.104)\"><use xlink:href=\"#DejaVuSans-32\"/></g></g><defs><clipPath id=\"p9d05ac07af\"><rect x=\"7.2\" y=\"7.2\" width=\"640.39\" height=\"343.02\"/></clipPath></defs></svg>"
      ],
      "text/plain": [
       "<Figure size 1155.1x618.722 with 1 Axes>"
      ]
     },
     "execution_count": 26,
     "metadata": {},
     "output_type": "execute_result"
    }
   ],
   "source": [
    "code.circuit['1'].draw()"
   ]
  },
  {
   "cell_type": "markdown",
   "metadata": {},
   "source": [
    "In these circuits, we have two types of physical qubits. There are the 'code qubits', which are the three physical qubits across which the logical state is encoded. There are also the 'link qubits', which serve as the ancilla qubits for the syndrome measurements.\n",
    "\n",
    "Our single round of syndrome measurements in these circuits consist of just two syndrome measurements. One compares code qubits 0 and 1, and the other compares code qubits 1 and 2. One might expect that a further measurement, comparing code qubits 0 and 2, should be required to create a full set. However, these two are sufficient. This is because of the information on whether 0 and 2 have the same z basis state can be inferred from the same information about 0 and 1 with that for 1 and 2. Indeed, for $n$ qubits, we can get the required information from just $n-1$ syndrome measurements of neighbouring pairs of qubits.\n",
    "\n",
    "Running these circuits on a simulator without any noise leads to very simple results."
   ]
  },
  {
   "cell_type": "code",
   "execution_count": 27,
   "metadata": {
    "scrolled": false
   },
   "outputs": [
    {
     "name": "stdout",
     "output_type": "stream",
     "text": [
      "Logical 0: {'000 00': 1024}\n",
      "Logical 1: {'111 00': 1024}\n"
     ]
    }
   ],
   "source": [
    "def get_raw_results(code,noise_model=None):\n",
    "    circuits = code.get_circuit_list()\n",
    "    raw_results = {}\n",
    "    for log in range(2):\n",
    "        job = execute( circuits[log], Aer.get_backend('qasm_simulator'), noise_model=noise_model)\n",
    "        raw_results[str(log)] = job.result().get_counts(str(log))\n",
    "    return raw_results\n",
    "\n",
    "raw_results = get_raw_results(code)\n",
    "for log in raw_results:\n",
    "    print(f'Logical {log}: {raw_results[log]}')"
   ]
  },
  {
   "cell_type": "markdown",
   "metadata": {},
   "source": [
    "Here we see that the output comes in two parts. The part on the right holds the outcomes of the two syndrome measurements. That on the left holds the outcomes of the three final measurements of the code qubits.\n",
    "\n",
    "For more measurement rounds, $T=4$ for example, we would have the results of more syndrome measurements on the right."
   ]
  },
  {
   "cell_type": "code",
   "execution_count": 28,
   "metadata": {},
   "outputs": [
    {
     "name": "stdout",
     "output_type": "stream",
     "text": [
      "Logical 0: {'000 00 00 00 00': 1024}\n",
      "Logical 1: {'111 00 00 00 00': 1024}\n"
     ]
    }
   ],
   "source": [
    "code = RepetitionCode(n, 4)\n",
    "\n",
    "raw_results = get_raw_results(code)\n",
    "for log in raw_results:\n",
    "    print(f'Logical {log}: {raw_results[log]}')"
   ]
  },
  {
   "cell_type": "markdown",
   "metadata": {},
   "source": [
    "For more repetitions, $n=5$ for example, each set of measurements would be larger. The final measurement on the left would be of $n$ qubits. The $T$ syndrome measurements would each be of the $n-1$ possible neighbouring pairs."
   ]
  },
  {
   "cell_type": "code",
   "execution_count": 29,
   "metadata": {},
   "outputs": [
    {
     "name": "stdout",
     "output_type": "stream",
     "text": [
      "Logical 0: {'00000 0000 0000 0000 0000': 1024}\n",
      "Logical 1: {'11111 0000 0000 0000 0000': 1024}\n"
     ]
    }
   ],
   "source": [
    "code = RepetitionCode(5, 4)\n",
    "\n",
    "raw_results = get_raw_results(code)\n",
    "for log in raw_results:\n",
    "    print(f'Logical {log}: {raw_results[log]}')"
   ]
  },
  {
   "cell_type": "markdown",
   "metadata": {},
   "source": [
    "### Lookup table decoding\n",
    "\n",
    "Now let's return to the $n=3$, $T=1$ example and look at a case with some noise."
   ]
  },
  {
   "cell_type": "code",
   "execution_count": 30,
   "metadata": {
    "scrolled": true
   },
   "outputs": [
    {
     "name": "stdout",
     "output_type": "stream",
     "text": [
      "Logical 0: {'011 11': 1, '010 11': 1, '001 01': 3, '101 00': 6, '100 10': 12, '110 00': 1, '100 00': 49, '110 01': 1, '010 10': 12, '100 01': 5, '010 00': 52, '010 01': 26, '000 00': 650, '000 10': 64, '011 00': 5, '001 00': 52, '000 11': 6, '000 01': 74, '001 10': 4}\n",
      "\n",
      "Logical 1: {'011 11': 2, '100 10': 1, '010 10': 1, '101 10': 9, '110 11': 1, '000 11': 1, '001 11': 1, '101 00': 47, '100 01': 3, '010 00': 4, '101 01': 31, '001 01': 1, '110 00': 40, '110 01': 24, '100 00': 5, '001 10': 2, '111 01': 74, '001 00': 3, '011 00': 59, '100 11': 7, '011 10': 25, '111 00': 574, '011 01': 5, '101 11': 20, '010 11': 4, '110 10': 6, '111 11': 5, '111 10': 69}\n",
      "\n"
     ]
    }
   ],
   "source": [
    "code = RepetitionCode(3, 1)\n",
    "\n",
    "noise_model = get_noise(0.05, 0.05)\n",
    "\n",
    "raw_results = get_raw_results(code,noise_model)\n",
    "for log in raw_results:\n",
    "    print(f'Logical {log}: {raw_results[log]}\\n')"
   ]
  },
  {
   "cell_type": "markdown",
   "metadata": {},
   "source": [
    "Here we have created `raw_results`, a dictionary that holds both the results for a circuit encoding a logical `0` and `1` encoded for a logical `1`.\n",
    "\n",
    "Our task when confronted with any of the possible outcomes we see here is to determine what the outcome should have been, if there was no noise. For an outcome of `'000 00'` or `'111 00'`, the answer is obvious. These are the results we just saw for a logical `0` and logical `1`, respectively, when no errors occur. The former is the most common outcome for the logical `0` even with noise, and the latter is the most common for the logical `1`. We will therefore conclude that the outcome was indeed that for logical `0` whenever we encounter `'000 00'`, and the same for logical `1` when we encounter `'111 00'`.\n",
    "\n",
    "Though this tactic is optimal, it can nevertheless fail. Note that `'111 00'` typically occurs in a handful of cases for an encoded `0`, and `'000 00'` similarly occurs for an encoded `1`. In this case, through no fault of our own, we will incorrectly decode the output. In these cases, a large number of errors conspired to make it look like we had a noiseless case of the opposite logical value, and so correction becomes impossible.\n",
    "\n",
    "We can employ a similar tactic to decode all other outcomes. The outcome `'001 00'`, for example, occurs far more for a logical `0` than a logical `1`. This is because it could be caused by just a single measurement error in the former case (which incorrectly reports a single `0` to be `1`), but would require at least two errors in the latter. So whenever we see `'001 00'`, we can decode it as a logical `0`.\n",
    "\n",
    "Applying this tactic over all the strings is a form of so-called 'lookup table decoding'. This is where every possible outcome is analyzed, and the most likely value to decode it as is determined. For many qubits, this quickly becomes intractable, as the number of possible outcomes becomes so large. In these cases, more algorithmic decoders are needed. However, lookup table decoding works well for testing out small codes.\n",
    "\n",
    "We can use tools in Qiskit to implement lookup table decoding for any code. For this we need two sets of results. One is the set of results that we actually want to decode, and for which we want to calculate the probability of incorrect decoding, $P$. We will use the `raw_results` we already have for this.\n",
    "\n",
    "The other set of results is one to be used as the lookup table. This will need to be run for a large number of samples, to ensure that it gets good statistics for each possible outcome. We'll use `shots=10000`.\n"
   ]
  },
  {
   "cell_type": "code",
   "execution_count": 31,
   "metadata": {},
   "outputs": [],
   "source": [
    "circuits = code.get_circuit_list()\n",
    "table_results = {}\n",
    "for log in range(2):\n",
    "    job = execute( circuits[log], Aer.get_backend('qasm_simulator'), noise_model=noise_model, shots=10000 )\n",
    "    table_results[str(log)] = job.result().get_counts(str(log))"
   ]
  },
  {
   "cell_type": "markdown",
   "metadata": {},
   "source": [
    "With this data, which we call `table_results`, we can now use the `lookuptable_decoding` function from Qiskit. This takes each outcome from `raw_results` and decodes it with the information in `table_results`. Then it checks if the decoding was correct, and uses this information to calculate $P$."
   ]
  },
  {
   "cell_type": "code",
   "execution_count": 32,
   "metadata": {},
   "outputs": [
    {
     "name": "stdout",
     "output_type": "stream",
     "text": [
      "P = {'0': 0.0219, '1': 0.0253}\n"
     ]
    }
   ],
   "source": [
    "P = lookuptable_decoding(raw_results, table_results)\n",
    "print('P =', P)"
   ]
  },
  {
   "cell_type": "markdown",
   "metadata": {},
   "source": [
    "Here we see that the values for $P$ are lower than those for $p_{meas}$ and $p_{gate}$, so we get an improvement in the reliability for storing the bit value. Note also that the value of $P$ for an encoded `1` is higher than that for `0`. This is because the encoding of `1` requires the application of `x` gates, which are an additional source of noise."
   ]
  },
  {
   "cell_type": "markdown",
   "metadata": {},
   "source": [
    "### Graph theoretic decoding\n",
    "\n",
    "The decoding considered above produces the best possible results, and does so without needing to use any details of the code. However, it has a major drawback that counters these advantages: the lookup table grows exponentially large as code size increases. For this reason, decoding is typically done in a more algorithmic manner that takes into account the structure of the code and its resulting syndromes.\n",
    "\n",
    "For the codes of `topological_codes` this structure is revealed using post-processing of the syndromes. Instead of using the form shown above, with the final measurement of the code qubits on the left and the outputs of the syndrome measurement rounds on the right, we use the `process_results` method of the code object to rewrite them in a different form.\n",
    "\n",
    "For example, below is the processed form of a `raw_results` dictionary, in this case for $n=3$ and $T=2$. Only results with 50 or more samples are shown for clarity."
   ]
  },
  {
   "cell_type": "code",
   "execution_count": 33,
   "metadata": {},
   "outputs": [
    {
     "name": "stdout",
     "output_type": "stream",
     "text": [
      "\n",
      "Logical 0:\n",
      "raw results        {'000 10 00': 55, '000 00 00': 463, '000 01 01': 56, '000 01 00': 52}\n",
      "processed results  {'0 0  00 10 10': 55, '0 0  00 00 00': 463, '0 0  01 01 00': 56, '0 0  00 01 01': 52}\n",
      "\n",
      "Logical 1:\n",
      "raw results        {'111 10 00': 53, '111 00 00': 437, '111 01 00': 59, '111 10 10': 54}\n",
      "processed results  {'1 1  00 10 10': 53, '1 1  00 00 00': 437, '1 1  00 01 01': 59, '1 1  10 10 00': 54}\n"
     ]
    }
   ],
   "source": [
    "code = RepetitionCode(3, 2)\n",
    "\n",
    "raw_results = get_raw_results(code, noise_model)\n",
    "\n",
    "results = code.process_results(raw_results)\n",
    "\n",
    "for log in ['0', '1']:\n",
    "    print(f'\\nLogical {log}:')\n",
    "    print('raw results       ', {string:raw_results[log][string] for string in raw_results[log] if raw_results[log][string]>=50 })\n",
    "    print('processed results ', {string:results[log][string] for string in results[log] if results[log][string]>=50 })"
   ]
  },
  {
   "cell_type": "markdown",
   "metadata": {},
   "source": [
    "Here we can see that `'000 00 00'` has been transformed to `'0 0  00 00 00'`, and `'111 00 00'` to `'1 1  00 00 00'`, and so on.\n",
    "\n",
    "In these new strings, the `0 0` to the far left for the logical `0` results and the `1 1` to the far left of the logical `1` results are the logical readout. Any code qubit could be used for this readout, since they should (without errors) all be equal. It would therefore be possible in principle to just have a single `0` or `1` at this position. We could also do as in the original form of the result and have $n$, one for each qubit. Instead we use two, from the two qubits at either end of the line. The reason for this will be shown later. In the absence of errors, these two values will always be equal, since they represent the same encoded bit value.\n",
    "\n",
    "After the logical values follow the $n-1$ results of the syndrome measurements for the first round. A `0` implies that the corresponding pair of qubits have the same value, and `1` implies they are different from each other. There are $n-1$ results because the line of $d$ code qubits has $n-1$ possible neighboring pairs. In the absence of errors, they will all be `0`. This is exactly the same as the first such set of syndrome results from the original form of the result.\n",
    "\n",
    "The next block is the next round of syndrome results. However, rather than presenting these results directly, it instead gives us the syndrome change between the first and second rounds. It is therefore the bitwise `OR` of the syndrome measurement results from the second round with those from the first. In the absence of errors, they will all be `0`.\n",
    "\n",
    "Any subsequent blocks follow the same formula, though the last of all requires some comment. This is not measured using the standard method (with a link qubit). Instead it is calculated from the final readout measurement of all code qubits. Again it is presented as a syndrome change, and will be all `0` in the absence of errors. This is the $T+1$-th block of syndrome measurements since, as it is not done in the same way as the others, it is not counted among the $T$ syndrome measurement rounds.\n",
    "\n",
    "The following examples further illustrate this convention.\n",
    "\n",
    "**Example 1:** `0 0  0110 0000 0000` represents a $d=5$, $T=2$ repetition code with encoded `0`. The syndrome shows that (most likely) the middle code qubit was flipped by an error before the first measurement round. This causes it to disagree with both neighboring code qubits for the rest of the circuit. This is shown by the syndrome in the first round, but the blocks for subsequent rounds do not report it as it no longer represents a change. Other sets of errors could also have caused this syndrome, but they would need to be more complex and so presumably less likely.\n",
    "\n",
    "**Example 2:** `0 0  0010 0010 0000` represents a $d=5$, $T=2$ repetition code with encoded `0`. Here one of the syndrome measurements reported a difference between two code qubits in the first round, leading to a `1`. The next round did not see the same effect, and so resulted in a `0`. However, since this disagreed with the previous result for the same syndrome measurement, and since we track syndrome changes, this change results in another `1`. Subsequent rounds also do not detect anything, but this no longer represents a change and hence results in a `0` in the same position. Most likely the measurement result leading to the first `1` was an error.\n",
    "\n",
    "**Example 3:** `0 1  0000 0001 0000` represents a $d=5$, $T=2$ repetition code with encoded `1`. A code qubit on the end of the line is flipped before the second round of syndrome measurements. This is detected by only a single syndrome measurement, because it is on the end of the line. For the same reason, it also disturbs one of the logical readouts.\n",
    "\n",
    "Note that in all these examples, a single error causes exactly two characters in the string to change from the value they would have with no errors. This is the defining feature of the convention used to represent stabilizers in `topological_codes`. It is used to define the graph on which the decoding problem is defined.  \n",
    "\n",
    "Specifically, the graph is constructed by first taking the circuit encoding logical `0`, for which all bit values in the output string should be `0`. Many copies of this and then created and run on a simulator, with a different single Pauli operator inserted into each. This is done for each of the three types of Pauli operators on each of the qubits and at every circuit depth. The output from each of these circuits can be used to determine the effects of each possible single error. Since the circuit contains only Clifford operations, the simulation can be performed efficiently.\n",
    "\n",
    "In each case, the error will change exactly two of the characters (unless it has no effect). A graph is then constructed for which each bit of the output string corresponds to a node, and the pairs of bits affected by the same error correspond to an edge.\n",
    "\n",
    "The process of decoding a particular output string typically requires the algorithm to deduce which set of errors occurred, given the syndrome found in the output string. This can be done by constructing a second graph, containing only nodes that correspond to non-trivial syndrome bits in the output. An edge is then placed between each pair of nodes, with an corresponding weight equal to the length of the minimal path between those nodes in the original graph. A set of errors consistent with the syndrome then corresponds then to finding a perfect matching of this graph. To deduce the most likely set of errors to have occurred, a good tactic would be to find one with the least possible number of errors that is consistent with the observed syndrome. This corresponds to a minimum weight perfect matching of the graph.\n",
    "\n",
    "Using minimal weight perfect matching is a standard decoding technique for the repetition code and surface code, and is implemented in `topological_codes`. It can also be used in other cases, such as Color codes, but it does not find the best approximation of the most likely set of errors for every code and noise model. For that reason, other decoding techniques based on the same graph can be used. The `GraphDecoder` of `topological_codes` calculates these graphs for a given code, and will provide a range of methods to analyze it. At time of writing, only minimum weight perfect matching is implemented.\n",
    "\n",
    "Note that, for codes such as the surface code, it is not strictly true than each single error will change the value of only two bits in the output string. A $\\sigma^y$ error, for example would flip a pair of values corresponding to two different types of stabilizer, which are typically decoded independently. Output for these codes will therefore be presented in a way that acknowledges this, and analysis of such syndromes will correspondingly create multiple independent graphs to represent the different syndrome types."
   ]
  },
  {
   "cell_type": "markdown",
   "metadata": {},
   "source": [
    "## Running a repetition code benchmarking procedure\n",
    "\n",
    "We will now run examples of repetition codes on real devices, and use the results as a benchmark. First, we will briefly summarize the process. This applies to this example of the repetition code, but also for other benchmarking procedures in `topological_codes`, and indeed for `topological_codes` in general. In each case, the following three-step process is used.\n",
    "\n",
    "1. A task is defined. `topological_codes` determines the set of circuits that must be run and creates them.\n",
    "2. The circuits are run. This is typically done using Qiskit. However, in principle any service or experimental equipment could be interfaced.\n",
    "3. `topological_codes` is used to process the results from the circuits, to create the output required for the given task.\n",
    "\n",
    "For `topological_codes`, step 1 requires the type and size of quantum error correction code to be chosen. Each type of code has a dedicated Python class. A corresponding object is initialized by providing the parameters required, such as `n` and `T` for a `RepetitionCode` object. The resulting object then contains the circuits corresponding to the given code encoding simple logical qubit states (such as $\\left|0\\right\\rangle$ and $\\left|1\\right\\rangle$), and then running the procedure of error detection for a specified number of rounds, before final readout in a straightforward logical basis (typically a standard $\\left|0\\right\\rangle$ / $\\left|1\\right\\rangle$ measurement).\n",
    "\n",
    "For `topological_codes`, the main processing of step 3 is the decoding, which aims to mitigate for any errors in the final readout by using the information obtained from error detection. The optimal algorithm for decoding typically varies between codes. However, codes with similar structure often make use of similar methods.\n",
    "\n",
    "The aim of `topological_codes` is to provide a variety of decoding methods, implemented such that all the decoders can be used on all of the codes. This is done by restricting to codes for which decoding can be described as a graph-theoretic minimization problem. This classic example of such codes are the toric and surface codes. The property is also shared by 2D color codes and matching codes. All of these are prominent examples of so-called topological quantum error correcting codes, which led to the name of the subpackage. However, note that not all topological codes are compatible with such a decoder. Also, some non-topological codes will be compatible, such as the repetition code.\n",
    "\n",
    "The decoding is done by the `GraphDecoder` class. A corresponding object is initialized by providing the code object for which the decoding will be performed. This is then used to determine the graph on which the decoding problem will be defined. The results can then be processed using the various methods of the decoder object.\n",
    "\n",
    "In the following we will see the above ideas put into practice for the repetition code. In doing this we will employ two Boolean variables, `step_2` and `step_3`. The variable `step_2` is used to show which parts of the program need to be run when taking data from a device, and `step_3` is used to show the parts which process the resulting data.\n",
    "\n",
    "Both are set to false by default, to ensure that all the program snippets below can be run using only previously collected and processed data. However, to obtain new data one only needs to use `step_2 = True`, and perform decoding on any data one only needs to use `step_3 = True`."
   ]
  },
  {
   "cell_type": "code",
   "execution_count": 34,
   "metadata": {},
   "outputs": [],
   "source": [
    "step_2 = False\n",
    "step_3 = False"
   ]
  },
  {
   "cell_type": "markdown",
   "metadata": {},
   "source": [
    "To benchmark a real device we need the tools required to access that device over the cloud, and compile circuits suitable to run on it. These are imported as follows."
   ]
  },
  {
   "cell_type": "code",
   "execution_count": 35,
   "metadata": {
    "tags": [
     "uses-hardware"
    ]
   },
   "outputs": [],
   "source": [
    "from qiskit import IBMQ\n",
    "from qiskit.compiler import transpile\n",
    "from qiskit.transpiler import PassManager"
   ]
  },
  {
   "cell_type": "markdown",
   "metadata": {},
   "source": [
    "We can now create the backend object, which is used to run the circuits. This is done by supplying the string used to specify the device. Here `'ibmq_16_melbourne'` is used, which has 15 active qubits at time of writing. We will also consider the 53 qubit *Rochester* device, which is specified with `'ibmq_rochester'`."
   ]
  },
  {
   "cell_type": "code",
   "execution_count": 36,
   "metadata": {
    "tags": [
     "uses-hardware"
    ]
   },
   "outputs": [],
   "source": [
    "device_name = 'ibmq_16_melbourne'\n",
    "\n",
    "if step_2:\n",
    "    \n",
    "    IBMQ.load_account()\n",
    "    \n",
    "    for provider in IBMQ.providers():\n",
    "        for potential_backend in provider.backends():\n",
    "            if potential_backend.name()==device_name:\n",
    "                backend = potential_backend\n",
    "\n",
    "    coupling_map = backend.configuration().coupling_map"
   ]
  },
  {
   "cell_type": "markdown",
   "metadata": {},
   "source": [
    "When running a circuit on a real device, a transpilation process is first implemented. This changes the gates of the circuit into the native gate set implement by the device. In some cases these changes are fairly trivial, such as expressing each Hadamard as a single qubit rotation by the corresponding Euler angles. However, the changes can be more major if the circuit does not respect the connectivity of the device. For example, suppose the circuit requires a controlled-NOT that is not directly implemented by the device. The effect must be then be reproduced with techniques such as using additional controlled-NOT gates to move the qubit states around. As well as introducing additional noise, this also delocalizes any noise already present. A single qubit error in the original circuit could become a multiqubit monstrosity under the action of the additional transpilation. Such non-trivial transpilation must therefore be prevented when running quantum error correction circuits.\n",
    "\n",
    "Tests of the repetition code require qubits to be effectively ordered along a line. The only controlled-NOT gates required are between neighbours along that line. Our first job is therefore to study the coupling map of the device, and find a line.\n",
    "\n",
    "![Fig. 1. The coupling map of the IBM Q Melbourne device.](images/melbourne.png)\n",
    "\n",
    "For Melbourne it is possible to find a line that covers all 15 qubits. The choice one specified in the list `line` below is designed to avoid the most error prone `cx` gates. For the 53 qubit *Rochester* device, there is no single line that covers all 53 qubits. Instead we can use the following choice, which covers 43."
   ]
  },
  {
   "cell_type": "code",
   "execution_count": 37,
   "metadata": {
    "tags": [
     "uses-hardware"
    ]
   },
   "outputs": [],
   "source": [
    "if device_name=='ibmq_16_melbourne':\n",
    "    line = [13,14,0,1,2,12,11,3,4,10,9,5,6,8,7]\n",
    "elif device_name=='ibmq_rochester':\n",
    "    line = [10,11,17,23,22,21,20,19,16,7,8,9,5]#,0,1,2,3,4,6,13,14,15,18,27,26,25,29,36,37,38,41,50,49,48,47,46,45,44,43,42,39,30,31]"
   ]
  },
  {
   "cell_type": "markdown",
   "metadata": {},
   "source": [
    "Now we know how many qubits we have access to, we can create the repetition code objects for each code that we will run. Note that a code with `n` repetitions uses $n$ code qubits and $n-1$ link qubits, and so $2n-1$ in all."
   ]
  },
  {
   "cell_type": "code",
   "execution_count": 38,
   "metadata": {
    "tags": [
     "uses-hardware"
    ]
   },
   "outputs": [],
   "source": [
    "n_min = 3\n",
    "n_max = int((len(line)+1)/2)\n",
    "\n",
    "code = {}\n",
    "\n",
    "for n in range(n_min,n_max+1):\n",
    "    code[n] = RepetitionCode(n,1)"
   ]
  },
  {
   "cell_type": "markdown",
   "metadata": {},
   "source": [
    "Before running the circuits from these codes, we need to ensure that the transpiler knows which physical qubits on the device it should use. This means using the qubit of `line[0]` to serve as the first code qubit, that of `line[1]` to be the first link qubit, and so on. This is done by the following function, which takes a repetition code object and a `line`, and creates a Python dictionary to specify which qubit of the code corresponds to which element of the line."
   ]
  },
  {
   "cell_type": "code",
   "execution_count": 39,
   "metadata": {
    "tags": [
     "uses-hardware"
    ]
   },
   "outputs": [],
   "source": [
    "def get_initial_layout(code,line):\n",
    "    initial_layout = {}\n",
    "    for j in range(n):\n",
    "        initial_layout[code.code_qubit[j]] = line[2*j]\n",
    "    for j in range(n-1):\n",
    "        initial_layout[code.link_qubit[j]] = line[2*j+1]\n",
    "    return initial_layout"
   ]
  },
  {
   "cell_type": "markdown",
   "metadata": {},
   "source": [
    "Now we can transpile the circuits, to create the circuits that will actually be run by the device. A check is also made to ensure that the transpilation indeed has not introduced non-trivial effects by increasing the number of qubits. Furthermore, the compiled circuits are collected into a single list, to allow them all to be submitted at once in the same batch job."
   ]
  },
  {
   "cell_type": "code",
   "execution_count": 40,
   "metadata": {
    "tags": [
     "uses-hardware"
    ]
   },
   "outputs": [],
   "source": [
    "if step_2:\n",
    "    \n",
    "    circuits = []\n",
    "    for n in range(n_min,n_max+1):\n",
    "        initial_layout = get_initial_layout(code[n],line)\n",
    "        for log in ['0','1']:\n",
    "            circuits.append( transpile(code[n].circuit[log], backend=backend, initial_layout=initial_layout) )\n",
    "            num_cx = dict(circuits[-1].count_ops())['cx']\n",
    "            assert num_cx==2*(n-1), str(num_cx) + ' instead of ' + str(2*(n-1)) + ' cx gates for n = ' + str(n)"
   ]
  },
  {
   "cell_type": "markdown",
   "metadata": {},
   "source": [
    "We are now ready to run the job. As with the simulated jobs considered already, the results from this are extracted into a dictionary `raw_results`. However, in this case it is extended to hold the results from different code sizes. This means that `raw_results[n]` in the following is equivalent to one of the `raw_results` dictionaries used earlier, for a given `n`."
   ]
  },
  {
   "cell_type": "code",
   "execution_count": 41,
   "metadata": {
    "tags": [
     "uses-hardware"
    ]
   },
   "outputs": [],
   "source": [
    "if step_2:\n",
    "    \n",
    "    job = execute(circuits,backend,shots=8192)\n",
    "\n",
    "    raw_results = {}\n",
    "    j = 0\n",
    "    for d in range(n_min,n_max+1):\n",
    "        raw_results[d] = {}\n",
    "        for log in ['0','1']:\n",
    "            raw_results[d][log] = job.result().get_counts(j)\n",
    "            j += 1"
   ]
  },
  {
   "cell_type": "markdown",
   "metadata": {},
   "source": [
    "It can be convenient to save the data to file, so that the processing of step 3 can be done or repeated at a later time."
   ]
  },
  {
   "cell_type": "code",
   "execution_count": 42,
   "metadata": {
    "tags": [
     "uses-hardware"
    ]
   },
   "outputs": [],
   "source": [
    "if step_2: # save results\n",
    "    with open('results/raw_results_'+device_name+'.txt', 'w') as file:\n",
    "        file.write(str(raw_results))\n",
    "elif step_3: # read results\n",
    "    with open('results/raw_results_'+device_name+'.txt', 'r') as file:\n",
    "        raw_results = eval(file.read())"
   ]
  },
  {
   "cell_type": "markdown",
   "metadata": {},
   "source": [
    "As we saw previously, the process of decoding first needs the results to be rewritten in order for the syndrome to be expressed in the correct form. As such, the `process_results` method of each the repetition code object `code[n]` is used to create a results dictionary `results[n]` from each `raw_results[n]`."
   ]
  },
  {
   "cell_type": "code",
   "execution_count": 43,
   "metadata": {
    "tags": [
     "uses-hardware"
    ]
   },
   "outputs": [],
   "source": [
    "if step_3:\n",
    "    results = {}\n",
    "    for n in range(n_min,n_max+1):\n",
    "        results[n] = code[n].process_results( raw_results[n] )"
   ]
  },
  {
   "cell_type": "markdown",
   "metadata": {},
   "source": [
    "The decoding also needs us to set up the `GraphDecoder` object for each code. The initialization of these involves the construction of the graph corresponding to the syndrome, as described in the last section."
   ]
  },
  {
   "cell_type": "code",
   "execution_count": 44,
   "metadata": {
    "tags": [
     "uses-hardware"
    ]
   },
   "outputs": [],
   "source": [
    "if step_3:\n",
    "    dec = {}\n",
    "    for n in range(n_min,n_max+1):\n",
    "        dec[n] = GraphDecoder(code[n])"
   ]
  },
  {
   "cell_type": "markdown",
   "metadata": {},
   "source": [
    "Finally, the decoder object can be used to process the results. Here the default algorithm, minimum weight perfect matching, is used. The end result is a calculation of the logical error probability. When running step 3, the following snippet also saves the logical error probabilities. Otherwise, it reads in previously saved probabilities."
   ]
  },
  {
   "cell_type": "code",
   "execution_count": 45,
   "metadata": {
    "tags": [
     "uses-hardware"
    ]
   },
   "outputs": [],
   "source": [
    "if step_3:\n",
    "    \n",
    "    logical_prob_match = {}\n",
    "    for n in range(n_min,n_max+1):\n",
    "        logical_prob_match[n] = dec[n].get_logical_prob(results[n])\n",
    "        \n",
    "    with open('results/logical_prob_match_'+device_name+'.txt', 'w') as file:\n",
    "        file.write(str(logical_prob_match))\n",
    "        \n",
    "else:\n",
    "    with open('results/logical_prob_match_'+device_name+'.txt', 'r') as file:\n",
    "        logical_prob_match = eval(file.read())"
   ]
  },
  {
   "cell_type": "markdown",
   "metadata": {},
   "source": [
    "The resulting logical error probabilities are displayed in the following graph, which uses a log scale used on the y axis. We would expect that the logical error probability decays exponentially with increasing $n$. If this is the case, it is a confirmation that the device is compatible with this basis test of quantum error correction. If not, it implies that the qubits and gates are not sufficiently reliable.\n",
    "\n",
    "Fortunately, the results from IBM Q prototype devices typically do show the expected exponential decay. For the results below, we can see that small codes do represent an exception to this rule. Other deviations can also be expected, such as when an increase in the size of the code includes a group of qubits with either exceptionally low or high noise."
   ]
  },
  {
   "cell_type": "code",
   "execution_count": 46,
   "metadata": {
    "tags": [
     "uses-hardware"
    ]
   },
   "outputs": [
    {
     "data": {
      "image/svg+xml": [
       "<?xml version=\"1.0\" encoding=\"UTF-8\"?><!DOCTYPE svg  PUBLIC '-//W3C//DTD SVG 1.1//EN'  'http://www.w3.org/Graphics/SVG/1.1/DTD/svg11.dtd'><svg width=\"415.7pt\" height=\"310.87pt\" version=\"1.1\" viewBox=\"0 0 415.7 310.87\" xmlns=\"http://www.w3.org/2000/svg\" xmlns:xlink=\"http://www.w3.org/1999/xlink\"><defs><style type=\"text/css\">*{stroke-linejoin: round; stroke-linecap: butt}</style></defs><path d=\"m0 310.87h415.7v-310.87h-415.7z\" fill=\"#ffffff\"/><path d=\"m51.378 273.31h357.12v-266.11h-357.12z\" fill=\"#ffffff\"/><defs><path id=\"m3aa1b0cd7f\" d=\"m0 3c0.79561 0 1.5587-0.3161 2.1213-0.87868 0.56258-0.56258 0.87868-1.3257 0.87868-2.1213s-0.3161-1.5587-0.87868-2.1213c-0.56258-0.56258-1.3257-0.87868-2.1213-0.87868s-1.5587 0.3161-2.1213 0.87868c-0.56258 0.56258-0.87868 1.3257-0.87868 2.1213s0.3161 1.5587 0.87868 2.1213c0.56258 0.56258 1.3257 0.87868 2.1213 0.87868z\" stroke=\"#1192e8\"/></defs><g clip-path=\"url(#pbad1361991)\" fill=\"#1192e8\" stroke=\"#1192e8\"><use x=\"67.610852\" y=\"39.560324\" xlink:href=\"#m3aa1b0cd7f\"/><use x=\"132.541761\" y=\"79.002073\" xlink:href=\"#m3aa1b0cd7f\"/><use x=\"197.47267\" y=\"83.806272\" xlink:href=\"#m3aa1b0cd7f\"/><use x=\"262.40358\" y=\"152.406319\" xlink:href=\"#m3aa1b0cd7f\"/><use x=\"327.334489\" y=\"208.649332\" xlink:href=\"#m3aa1b0cd7f\"/><use x=\"392.265398\" y=\"250.351985\" xlink:href=\"#m3aa1b0cd7f\"/></g><defs><path id=\"m8a759a2c2b\" d=\"m0 3c0.79561 0 1.5587-0.3161 2.1213-0.87868 0.56258-0.56258 0.87868-1.3257 0.87868-2.1213s-0.3161-1.5587-0.87868-2.1213c-0.56258-0.56258-1.3257-0.87868-2.1213-0.87868s-1.5587 0.3161-2.1213 0.87868c-0.56258 0.56258-0.87868 1.3257-0.87868 2.1213s0.3161 1.5587 0.87868 2.1213c0.56258 0.56258 1.3257 0.87868 2.1213 0.87868z\" stroke=\"#6929c4\"/></defs><g clip-path=\"url(#pbad1361991)\" fill=\"#6929c4\" stroke=\"#6929c4\"><use x=\"67.610852\" y=\"54.952479\" xlink:href=\"#m8a759a2c2b\"/><use x=\"132.541761\" y=\"73.270539\" xlink:href=\"#m8a759a2c2b\"/><use x=\"197.47267\" y=\"58.478674\" xlink:href=\"#m8a759a2c2b\"/><use x=\"262.40358\" y=\"94.713522\" xlink:href=\"#m8a759a2c2b\"/><use x=\"327.334489\" y=\"134.780831\" xlink:href=\"#m8a759a2c2b\"/><use x=\"392.265398\" y=\"166.408945\" xlink:href=\"#m8a759a2c2b\"/></g><defs><path id=\"mb8d780628a\" d=\"m0 0v3.5\" stroke=\"#343a3f\" stroke-width=\".8\"/></defs><use x=\"67.610852\" y=\"273.312\" fill=\"#343a3f\" stroke=\"#343a3f\" stroke-width=\".8\" xlink:href=\"#mb8d780628a\"/><g transform=\"translate(64.43 287.91) scale(.1 -.1)\" fill=\"#343a3f\"><defs><path id=\"DejaVuSans-33\" transform=\"scale(.015625)\" d=\"m2597 2516q453-97 707-404 255-306 255-756 0-690-475-1069-475-378-1350-378-293 0-604 58t-642 174v609q262-153 574-231 313-78 654-78 593 0 904 234t311 681q0 413-289 645-289 233-804 233h-544v519h569q465 0 712 186t247 536q0 359-255 551-254 193-729 193-260 0-557-57-297-56-653-174v562q360 100 674 150t592 50q719 0 1137-327 419-326 419-882 0-388-222-655t-631-370z\"/></defs><use xlink:href=\"#DejaVuSans-33\"/></g><use x=\"132.541761\" y=\"273.312\" fill=\"#343a3f\" stroke=\"#343a3f\" stroke-width=\".8\" xlink:href=\"#mb8d780628a\"/><g transform=\"translate(129.36 287.91) scale(.1 -.1)\" fill=\"#343a3f\"><defs><path id=\"DejaVuSans-34\" transform=\"scale(.015625)\" d=\"m2419 4116-1594-2491h1594v2491zm-166 550h794v-3041h666v-525h-666v-1100h-628v1100h-2106v609l1940 2957z\"/></defs><use xlink:href=\"#DejaVuSans-34\"/></g><use x=\"197.47267\" y=\"273.312\" fill=\"#343a3f\" stroke=\"#343a3f\" stroke-width=\".8\" xlink:href=\"#mb8d780628a\"/><g transform=\"translate(194.29 287.91) scale(.1 -.1)\" fill=\"#343a3f\"><defs><path id=\"DejaVuSans-35\" transform=\"scale(.015625)\" d=\"m691 4666h2478v-532h-1900v-1143q137 47 274 70 138 23 276 23 781 0 1237-428 457-428 457-1159 0-753-469-1171-469-417-1322-417-294 0-599 50-304 50-629 150v635q281-153 581-228t634-75q541 0 856 284 316 284 316 772 0 487-316 771-315 285-856 285-253 0-505-56-251-56-513-175v2344z\"/></defs><use xlink:href=\"#DejaVuSans-35\"/></g><use x=\"262.40358\" y=\"273.312\" fill=\"#343a3f\" stroke=\"#343a3f\" stroke-width=\".8\" xlink:href=\"#mb8d780628a\"/><g transform=\"translate(259.22 287.91) scale(.1 -.1)\" fill=\"#343a3f\"><defs><path id=\"DejaVuSans-36\" transform=\"scale(.015625)\" d=\"m2113 2584q-425 0-674-291-248-290-248-796 0-503 248-796 249-292 674-292t673 292q248 293 248 796 0 506-248 796-248 291-673 291zm1253 1979v-575q-238 112-480 171-242 60-480 60-625 0-955-422-329-422-376-1275 184 272 462 417 279 145 613 145 703 0 1111-427 408-426 408-1160 0-719-425-1154-425-434-1131-434-810 0-1238 620-428 621-428 1799 0 1106 525 1764t1409 658q238 0 480-47t505-140z\"/></defs><use xlink:href=\"#DejaVuSans-36\"/></g><use x=\"327.334489\" y=\"273.312\" fill=\"#343a3f\" stroke=\"#343a3f\" stroke-width=\".8\" xlink:href=\"#mb8d780628a\"/><g transform=\"translate(324.15 287.91) scale(.1 -.1)\" fill=\"#343a3f\"><defs><path id=\"DejaVuSans-37\" transform=\"scale(.015625)\" d=\"m525 4666h3e3v-269l-1694-4397h-659l1594 4134h-2241v532z\"/></defs><use xlink:href=\"#DejaVuSans-37\"/></g><use x=\"392.265398\" y=\"273.312\" fill=\"#343a3f\" stroke=\"#343a3f\" stroke-width=\".8\" xlink:href=\"#mb8d780628a\"/><g transform=\"translate(389.08 287.91) scale(.1 -.1)\" fill=\"#343a3f\"><defs><path id=\"DejaVuSans-38\" transform=\"scale(.015625)\" d=\"m2034 2216q-450 0-708-241-257-241-257-662 0-422 257-663 258-241 708-241t709 242q260 243 260 662 0 421-258 662-257 241-711 241zm-631 268q-406 100-633 378-226 279-226 679 0 559 398 884 399 325 1092 325 697 0 1094-325t397-884q0-400-227-679-226-278-629-378 456-106 710-416 255-309 255-755 0-679-414-1042-414-362-1186-362-771 0-1186 362-414 363-414 1042 0 446 256 755 257 310 713 416zm-231 997q0-362 226-565 227-203 636-203 407 0 636 203 230 203 230 565 0 363-230 566-229 203-636 203-409 0-636-203-226-203-226-566z\"/></defs><use xlink:href=\"#DejaVuSans-38\"/></g><g transform=\"translate(188.01 301.59) scale(.1 -.1)\" fill=\"#343a3f\"><defs><path id=\"DejaVuSans-43\" transform=\"scale(.015625)\" d=\"m4122 4306v-665q-319 297-680 443-361 147-767 147-800 0-1225-489t-425-1414q0-922 425-1411t1225-489q406 0 767 147t680 444v-660q-331-225-702-338-370-112-782-112-1060 0-1670 648-609 649-609 1771 0 1125 609 1773 610 649 1670 649 418 0 788-111 371-111 696-333z\"/><path id=\"DejaVuSans-6f\" transform=\"scale(.015625)\" d=\"m1959 3097q-462 0-731-361t-269-989 267-989q268-361 733-361 460 0 728 362 269 363 269 988 0 622-269 986-268 364-728 364zm0 487q750 0 1178-488 429-487 429-1349 0-859-429-1349-428-489-1178-489-753 0-1180 489-426 490-426 1349 0 862 426 1349 427 488 1180 488z\"/><path id=\"DejaVuSans-64\" transform=\"scale(.015625)\" d=\"m2906 2969v1894h575v-4863h-575v525q-181-312-458-464-276-152-664-152-634 0-1033 506-398 507-398 1332t398 1331q399 506 1033 506 388 0 664-152 277-151 458-463zm-1959-1222q0-634 261-995t717-361 718 361q263 361 263 995t-263 995q-262 361-718 361t-717-361-261-995z\"/><path id=\"DejaVuSans-65\" transform=\"scale(.015625)\" d=\"m3597 1894v-281h-2644q38-594 358-905t892-311q331 0 642 81t618 244v-544q-310-131-635-200t-659-69q-838 0-1327 487-489 488-489 1320 0 859 464 1363 464 505 1252 505 706 0 1117-455 411-454 411-1235zm-575 169q-6 471-264 752-258 282-683 282-481 0-770-272t-333-766l2050 4z\"/><path id=\"DejaVuSans-69\" transform=\"scale(.015625)\" d=\"m603 3500h575v-3500h-575v3500zm0 1363h575v-729h-575v729z\"/><path id=\"DejaVuSans-73\" transform=\"scale(.015625)\" d=\"m2834 3397v-544q-243 125-506 187-262 63-544 63-428 0-642-131t-214-394q0-200 153-314t616-217l197-44q612-131 870-370t258-667q0-488-386-773-386-284-1061-284-281 0-586 55t-642 164v594q319-166 628-249 309-82 613-82 406 0 624 139 219 139 219 392 0 234-158 359-157 125-692 241l-200 47q-534 112-772 345-237 233-237 639 0 494 350 762 350 269 994 269 318 0 599-47 282-46 519-140z\"/><path id=\"DejaVuSans-74\" transform=\"scale(.015625)\" d=\"m1172 4494v-994h1184v-447h-1184v-1900q0-428 117-550t477-122h590v-481h-590q-666 0-919 248-253 249-253 905v1900h-422v447h422v994h578z\"/><path id=\"DejaVuSans-61\" transform=\"scale(.015625)\" d=\"m2194 1759q-697 0-966-159t-269-544q0-306 202-486 202-179 548-179 479 0 768 339t289 901v128h-572zm1147 238v-1997h-575v531q-197-318-491-470t-719-152q-537 0-855 302-317 302-317 808 0 590 395 890 396 300 1180 300h807v57q0 397-261 614t-733 217q-300 0-585-72-284-72-546-216v532q315 122 612 182 297 61 578 61 760 0 1135-394 375-393 375-1193z\"/><path id=\"DejaVuSans-6e\" transform=\"scale(.015625)\" d=\"m3513 2113v-2113h-575v2094q0 497-194 743-194 247-581 247-466 0-735-297-269-296-269-809v-1978h-578v3500h578v-544q207 316 486 472 280 156 646 156 603 0 912-373 310-373 310-1098z\"/><path id=\"DejaVuSans-63\" transform=\"scale(.015625)\" d=\"m3122 3366v-538q-244 135-489 202t-495 67q-560 0-870-355-309-354-309-995t309-996q310-354 870-354 250 0 495 67t489 202v-532q-241-112-499-168-257-57-548-57-791 0-1257 497-465 497-465 1341 0 856 470 1346 471 491 1290 491 265 0 518-55 253-54 491-163z\"/><path id=\"DejaVuSans-2c\" transform=\"scale(.015625)\" d=\"m750 794h659v-538l-512-1e3h-403l256 1e3v538z\"/></defs><use xlink:href=\"#DejaVuSans-43\"/><use x=\"69.824219\" xlink:href=\"#DejaVuSans-6f\"/><use x=\"131.005859\" xlink:href=\"#DejaVuSans-64\"/><use x=\"194.482422\" xlink:href=\"#DejaVuSans-65\"/><use x=\"256.005859\" xlink:href=\"#DejaVuSans-20\"/><use x=\"287.792969\" xlink:href=\"#DejaVuSans-64\"/><use x=\"351.269531\" xlink:href=\"#DejaVuSans-69\"/><use x=\"379.052734\" xlink:href=\"#DejaVuSans-73\"/><use x=\"431.152344\" xlink:href=\"#DejaVuSans-74\"/><use x=\"470.361328\" xlink:href=\"#DejaVuSans-61\"/><use x=\"531.640625\" xlink:href=\"#DejaVuSans-6e\"/><use x=\"595.019531\" xlink:href=\"#DejaVuSans-63\"/><use x=\"650\" xlink:href=\"#DejaVuSans-65\"/><use x=\"711.523438\" xlink:href=\"#DejaVuSans-2c\"/><use x=\"743.310547\" xlink:href=\"#DejaVuSans-20\"/><use x=\"775.097656\" xlink:href=\"#DejaVuSans-6e\"/></g><defs><path id=\"m5bd10b647f\" d=\"m0 0h-3.5\" stroke=\"#343a3f\" stroke-width=\".8\"/></defs><use x=\"51.378125\" y=\"267.848786\" fill=\"#343a3f\" stroke=\"#343a3f\" stroke-width=\".8\" xlink:href=\"#m5bd10b647f\"/><g transform=\"translate(20.878 271.65) scale(.1 -.1)\" fill=\"#343a3f\"><defs><path id=\"DejaVuSans-31\" transform=\"scale(.015625)\" d=\"m794 531h1031v3560l-1122-225v575l1116 225h631v-4135h1031v-531h-2687v531z\"/><path id=\"DejaVuSans-30\" transform=\"scale(.015625)\" d=\"m2034 4250q-487 0-733-480-245-479-245-1442 0-959 245-1439 246-480 733-480 491 0 736 480 246 480 246 1439 0 963-246 1442-245 480-736 480zm0 500q785 0 1199-621 414-620 414-1801 0-1178-414-1799-414-620-1199-620-784 0-1198 620-414 621-414 1799 0 1181 414 1801 414 621 1198 621z\"/><path id=\"DejaVuSans-2212\" transform=\"scale(.015625)\" d=\"m678 2272h4006v-531h-4006v531z\"/><path id=\"DejaVuSans-32\" transform=\"scale(.015625)\" d=\"m1228 531h2203v-531h-2962v531q359 372 979 998 621 627 780 809 303 340 423 576 121 236 121 464 0 372-261 606-261 235-680 235-297 0-627-103-329-103-704-313v638q381 153 712 231 332 78 607 78 725 0 1156-363 431-362 431-968 0-288-108-546-107-257-392-607-78-91-497-524-418-433-1181-1211z\"/></defs><use transform=\"translate(0 .76562)\" xlink:href=\"#DejaVuSans-31\"/><use transform=\"translate(63.623 .76562)\" xlink:href=\"#DejaVuSans-30\"/><use transform=\"translate(128.2 39.047) scale(.7)\" xlink:href=\"#DejaVuSans-2212\"/><use transform=\"translate(186.86 39.047) scale(.7)\" xlink:href=\"#DejaVuSans-32\"/></g><use x=\"51.378125\" y=\"84.078596\" fill=\"#343a3f\" stroke=\"#343a3f\" stroke-width=\".8\" xlink:href=\"#m5bd10b647f\"/><g transform=\"translate(20.878 87.878) scale(.1 -.1)\" fill=\"#343a3f\"><use transform=\"translate(0 .68438)\" xlink:href=\"#DejaVuSans-31\"/><use transform=\"translate(63.623 .68438)\" xlink:href=\"#DejaVuSans-30\"/><use transform=\"translate(128.2 38.966) scale(.7)\" xlink:href=\"#DejaVuSans-2212\"/><use transform=\"translate(186.86 38.966) scale(.7)\" xlink:href=\"#DejaVuSans-31\"/></g><defs><path id=\"mc2e7b4f66b\" d=\"m0 0h-2\" stroke=\"#343a3f\" stroke-width=\".6\"/></defs><use x=\"51.378125\" y=\"212.528447\" fill=\"#343a3f\" stroke=\"#343a3f\" stroke-width=\".6\" xlink:href=\"#mc2e7b4f66b\"/><use x=\"51.378125\" y=\"180.168122\" fill=\"#343a3f\" stroke=\"#343a3f\" stroke-width=\".6\" xlink:href=\"#mc2e7b4f66b\"/><use x=\"51.378125\" y=\"157.208107\" fill=\"#343a3f\" stroke=\"#343a3f\" stroke-width=\".6\" xlink:href=\"#mc2e7b4f66b\"/><use x=\"51.378125\" y=\"139.398936\" fill=\"#343a3f\" stroke=\"#343a3f\" stroke-width=\".6\" xlink:href=\"#mc2e7b4f66b\"/><use x=\"51.378125\" y=\"124.847783\" fill=\"#343a3f\" stroke=\"#343a3f\" stroke-width=\".6\" xlink:href=\"#mc2e7b4f66b\"/><use x=\"51.378125\" y=\"112.544959\" fill=\"#343a3f\" stroke=\"#343a3f\" stroke-width=\".6\" xlink:href=\"#mc2e7b4f66b\"/><use x=\"51.378125\" y=\"101.887767\" fill=\"#343a3f\" stroke=\"#343a3f\" stroke-width=\".6\" xlink:href=\"#mc2e7b4f66b\"/><use x=\"51.378125\" y=\"92.487459\" fill=\"#343a3f\" stroke=\"#343a3f\" stroke-width=\".6\" xlink:href=\"#mc2e7b4f66b\"/><use x=\"51.378125\" y=\"28.758256\" fill=\"#343a3f\" stroke=\"#343a3f\" stroke-width=\".6\" xlink:href=\"#mc2e7b4f66b\"/><g transform=\"translate(14.798 208.2) rotate(-90) scale(.1 -.1)\" fill=\"#343a3f\"><defs><path id=\"DejaVuSans-6c\" transform=\"scale(.015625)\" d=\"m603 4863h575v-4863h-575v4863z\"/><path id=\"DejaVuSans-28\" transform=\"scale(.015625)\" d=\"m1984 4856q-418-718-622-1422-203-703-203-1425 0-721 205-1429t620-1424h-500q-468 735-701 1444t-233 1409q0 697 231 1403 232 707 703 1444h500z\"/><path id=\"DejaVuSans-4c\" transform=\"scale(.015625)\" d=\"m628 4666h631v-4135h2272v-531h-2903v4666z\"/><path id=\"DejaVuSans-67\" transform=\"scale(.015625)\" d=\"m2906 1791q0 625-258 968-257 344-723 344-462 0-720-344-258-343-258-968 0-622 258-966t720-344q466 0 723 344 258 344 258 966zm575-1357q0-893-397-1329-396-436-1215-436-303 0-572 45t-522 139v559q253-137 500-202 247-66 503-66 566 0 847 295t281 892v285q-178-310-456-463t-666-153q-643 0-1037 490-394 491-394 1301 0 812 394 1302 394 491 1037 491 388 0 666-153t456-462v531h575v-3066z\"/><path id=\"DejaVuSans-72\" transform=\"scale(.015625)\" d=\"m2631 2963q-97 56-211 82-114 27-251 27-488 0-749-317t-261-911v-1844h-578v3500h578v-544q182 319 472 473 291 155 707 155 59 0 131-8 72-7 159-23l3-590z\"/><path id=\"DejaVuSans-70\" transform=\"scale(.015625)\" d=\"m1159 525v-1856h-578v4831h578v-531q182 312 458 463 277 152 661 152 638 0 1036-506 399-506 399-1331t-399-1332q-398-506-1036-506-384 0-661 152-276 152-458 464zm1957 1222q0 634-261 995t-717 361q-457 0-718-361t-261-995 261-995 718-361q456 0 717 361t261 995z\"/><path id=\"DejaVuSans-62\" transform=\"scale(.015625)\" d=\"m3116 1747q0 634-261 995t-717 361q-457 0-718-361t-261-995 261-995 718-361q456 0 717 361t261 995zm-1957 1222q182 312 458 463 277 152 661 152 638 0 1036-506 399-506 399-1331t-399-1332q-398-506-1036-506-384 0-661 152-276 152-458 464v-525h-578v4863h578v-1894z\"/><path id=\"DejaVuSans-79\" transform=\"scale(.015625)\" d=\"m2059-325q-243-625-475-815-231-191-618-191h-460v481h338q237 0 368 113 132 112 291 531l103 262-1415 3444h609l1094-2737 1094 2737h609l-1538-3825z\"/><path id=\"DejaVuSans-29\" transform=\"scale(.015625)\" d=\"m513 4856h500q468-737 701-1444 233-706 233-1403 0-700-233-1409t-701-1444h-500q415 716 620 1424t205 1429q0 722-205 1425-205 704-620 1422z\"/></defs><use xlink:href=\"#DejaVuSans-6c\"/><use x=\"27.783203\" xlink:href=\"#DejaVuSans-6e\"/><use x=\"91.162109\" xlink:href=\"#DejaVuSans-28\"/><use x=\"130.175781\" xlink:href=\"#DejaVuSans-4c\"/><use x=\"184.138672\" xlink:href=\"#DejaVuSans-6f\"/><use x=\"245.320312\" xlink:href=\"#DejaVuSans-67\"/><use x=\"308.796875\" xlink:href=\"#DejaVuSans-69\"/><use x=\"336.580078\" xlink:href=\"#DejaVuSans-63\"/><use x=\"391.560547\" xlink:href=\"#DejaVuSans-61\"/><use x=\"452.839844\" xlink:href=\"#DejaVuSans-6c\"/><use x=\"480.623047\" xlink:href=\"#DejaVuSans-20\"/><use x=\"512.410156\" xlink:href=\"#DejaVuSans-65\"/><use x=\"573.933594\" xlink:href=\"#DejaVuSans-72\"/><use x=\"613.296875\" xlink:href=\"#DejaVuSans-72\"/><use x=\"652.160156\" xlink:href=\"#DejaVuSans-6f\"/><use x=\"713.341797\" xlink:href=\"#DejaVuSans-72\"/><use x=\"754.455078\" xlink:href=\"#DejaVuSans-20\"/><use x=\"786.242188\" xlink:href=\"#DejaVuSans-70\"/><use x=\"849.71875\" xlink:href=\"#DejaVuSans-72\"/><use x=\"888.582031\" xlink:href=\"#DejaVuSans-6f\"/><use x=\"949.763672\" xlink:href=\"#DejaVuSans-62\"/><use x=\"1013.240234\" xlink:href=\"#DejaVuSans-61\"/><use x=\"1074.519531\" xlink:href=\"#DejaVuSans-62\"/><use x=\"1137.996094\" xlink:href=\"#DejaVuSans-69\"/><use x=\"1165.779297\" xlink:href=\"#DejaVuSans-6c\"/><use x=\"1193.5625\" xlink:href=\"#DejaVuSans-69\"/><use x=\"1221.345703\" xlink:href=\"#DejaVuSans-74\"/><use x=\"1260.554688\" xlink:href=\"#DejaVuSans-79\"/><use x=\"1319.734375\" xlink:href=\"#DejaVuSans-29\"/></g><path d=\"m51.378 273.31v-266.11\" fill=\"none\" stroke=\"#343a3f\" stroke-linecap=\"square\" stroke-width=\".8\"/><path d=\"m51.378 273.31h357.12\" fill=\"none\" stroke=\"#343a3f\" stroke-linecap=\"square\" stroke-width=\".8\"/><path d=\"m325.53 44.556h77.969v-32.356h-77.969z\" fill=\"#ffffff\" opacity=\".8\" stroke=\"#cccccc\"/><use x=\"339.529375\" y=\"21.173437\" fill=\"#1192e8\" stroke=\"#1192e8\" xlink:href=\"#m3aa1b0cd7f\"/><g transform=\"translate(357.53 23.798) scale(.1 -.1)\" fill=\"#343a3f\"><use xlink:href=\"#DejaVuSans-6c\"/><use x=\"27.783203\" xlink:href=\"#DejaVuSans-6f\"/><use x=\"88.964844\" xlink:href=\"#DejaVuSans-67\"/><use x=\"152.441406\" xlink:href=\"#DejaVuSans-69\"/><use x=\"180.224609\" xlink:href=\"#DejaVuSans-63\"/><use x=\"235.205078\" xlink:href=\"#DejaVuSans-61\"/><use x=\"296.484375\" xlink:href=\"#DejaVuSans-6c\"/><use x=\"324.267578\" xlink:href=\"#DejaVuSans-20\"/><use x=\"356.054688\" xlink:href=\"#DejaVuSans-30\"/></g><use x=\"339.529375\" y=\"35.851562\" fill=\"#6929c4\" stroke=\"#6929c4\" xlink:href=\"#m8a759a2c2b\"/><g transform=\"translate(357.53 38.477) scale(.1 -.1)\" fill=\"#343a3f\"><use xlink:href=\"#DejaVuSans-6c\"/><use x=\"27.783203\" xlink:href=\"#DejaVuSans-6f\"/><use x=\"88.964844\" xlink:href=\"#DejaVuSans-67\"/><use x=\"152.441406\" xlink:href=\"#DejaVuSans-69\"/><use x=\"180.224609\" xlink:href=\"#DejaVuSans-63\"/><use x=\"235.205078\" xlink:href=\"#DejaVuSans-61\"/><use x=\"296.484375\" xlink:href=\"#DejaVuSans-6c\"/><use x=\"324.267578\" xlink:href=\"#DejaVuSans-20\"/><use x=\"356.054688\" xlink:href=\"#DejaVuSans-31\"/></g><defs><clipPath id=\"pbad1361991\"><rect x=\"51.378\" y=\"7.2\" width=\"357.12\" height=\"266.11\"/></clipPath></defs></svg>"
      ],
      "text/plain": [
       "<Figure size 640x480 with 1 Axes>"
      ]
     },
     "metadata": {},
     "output_type": "display_data"
    }
   ],
   "source": [
    "import matplotlib.pyplot as plt\n",
    "import numpy as np\n",
    "\n",
    "x_axis = range(n_min,n_max+1)\n",
    "P = { log: [logical_prob_match[n][log] for n in x_axis] for log in ['0', '1'] }\n",
    "\n",
    "ax = plt.gca()\n",
    "plt.xlabel('Code distance, n')\n",
    "plt.ylabel('ln(Logical error probability)')\n",
    "ax.scatter( x_axis, P['0'], label=\"logical 0\")\n",
    "ax.scatter( x_axis, P['1'], label=\"logical 1\")\n",
    "ax.set_yscale('log')\n",
    "ax.set_ylim(ymax=1.5*max(P['0']+P['1']),ymin=0.75*min(P['0']+P['1']))\n",
    "plt.legend()\n",
    "\n",
    "plt.show()"
   ]
  },
  {
   "cell_type": "markdown",
   "metadata": {},
   "source": [
    "Another insight we can gain is to use the results to determine how likely certain error processes are to occur.\n",
    "\n",
    "To do this we use the fact that each edge in the syndrome graph represents a particular form of error, occurring on a particular qubit at a particular point within the circuit. This is the unique single error that causes the syndrome values corresponding to both of the adjacent nodes to change. Using the results to estimate the probability of such a syndrome therefore allows us to estimate the probability of such an error event. Specifically, to first order it is clear that\n",
    "\n",
    "$$\n",
    "\\frac{p}{1-p} \\approx \\frac{C_{11}}{C_{00}}\n",
    "$$\n",
    "\n",
    "Here $p$ is the probability of the error corresponding to a particular edge, $C_{11}$ is the number of counts in the `results[n]['0']` corresponding to the syndrome value of both adjacent nodes being `1`, and $C_{00}$ is the same for them both being `0`.\n",
    "\n",
    "The decoder object has a method `weight_syndrome_graph` which determines these ratios, and assigns each edge the weight $-\\ln(p/(1-p))$. By employing this method and inspecting the weights, we can easily retrieve these probabilities."
   ]
  },
  {
   "cell_type": "code",
   "execution_count": 47,
   "metadata": {
    "tags": [
     "uses-hardware"
    ]
   },
   "outputs": [],
   "source": [
    "if step_3:\n",
    "\n",
    "    dec[n_max].weight_syndrome_graph(results=results[n_max])\n",
    "\n",
    "    probs = []\n",
    "    for edge in dec[n_max].S.edges:\n",
    "        ratio = np.exp(-dec[n_max].S.get_edge_data(edge[0],edge[1])['distance'])\n",
    "        probs.append( ratio/(1+ratio) )\n",
    "        \n",
    "    with open('results/probs_'+device_name+'.txt', 'w') as file:\n",
    "        file.write(str(probs))\n",
    "        \n",
    "else:\n",
    "    \n",
    "    with open('results/probs_'+device_name+'.txt', 'r') as file:\n",
    "        probs = eval(file.read())"
   ]
  },
  {
   "cell_type": "markdown",
   "metadata": {},
   "source": [
    "Rather than display the full list, we can obtain a summary via the mean, standard deviation, minimum, maximum and quartiles."
   ]
  },
  {
   "cell_type": "code",
   "execution_count": 48,
   "metadata": {
    "tags": [
     "uses-hardware"
    ]
   },
   "outputs": [
    {
     "data": {
      "text/plain": [
       "{'count': 29.0,\n",
       " 'mean': 0.1839624024105741,\n",
       " 'std': 0.08969281029182916,\n",
       " 'min': 0.032099523882660116,\n",
       " '25%': 0.1202076677316294,\n",
       " '50%': 0.15479808944854537,\n",
       " '75%': 0.2585266030013643,\n",
       " 'max': 0.3820573455512858}"
      ]
     },
     "execution_count": 48,
     "metadata": {},
     "output_type": "execute_result"
    }
   ],
   "source": [
    "import pandas as pd\n",
    "\n",
    "pd.Series(probs).describe().to_dict()"
   ]
  },
  {
   "cell_type": "markdown",
   "metadata": {},
   "source": [
    "The benchmarking of the devices does not produce any set of error probabilities that is exactly equivalent. However, the probabilities for readout errors and controlled-NOT gate errors could serve as a good comparison. Specifically, we can use the `backend` object to obtain these values from the benchmarking."
   ]
  },
  {
   "cell_type": "code",
   "execution_count": 49,
   "metadata": {
    "tags": [
     "uses-hardware"
    ]
   },
   "outputs": [
    {
     "data": {
      "text/plain": [
       "{'count': 43.0,\n",
       " 'mean': 0.03964249408264689,\n",
       " 'std': 0.02227486941657462,\n",
       " 'min': 0.01279016878072245,\n",
       " '25%': 0.025389504940856747,\n",
       " '50%': 0.03296455263355727,\n",
       " '75%': 0.046331516695269206,\n",
       " 'max': 0.11660000000000004}"
      ]
     },
     "execution_count": 49,
     "metadata": {},
     "output_type": "execute_result"
    }
   ],
   "source": [
    "if step_3:\n",
    "\n",
    "    gate_probs = []\n",
    "    for j,qubit in enumerate(line):\n",
    "        \n",
    "        gate_probs.append( backend.properties().readout_error(qubit) )\n",
    "        \n",
    "        cx1,cx2 = 0,0\n",
    "        if j>0:\n",
    "            gate_probs( backend.properties().gate_error('cx',[qubit,line[j-1]]) )\n",
    "        if j<len(line)-1:\n",
    "            gate_probs( backend.properties().gate_error('cx',[qubit,line[j+1]]) )\n",
    "                \n",
    "    with open('results/gate_probs_'+device_name+'.txt', 'w') as file:\n",
    "        file.write(str(gate_probs))\n",
    "        \n",
    "else:\n",
    "    \n",
    "    with open('results/gate_probs_'+device_name+'.txt', 'r') as file:\n",
    "        gate_probs = eval(file.read())\n",
    "    \n",
    "pd.Series(gate_probs).describe().to_dict()"
   ]
  },
  {
   "cell_type": "code",
   "execution_count": 50,
   "metadata": {
    "scrolled": true
   },
   "outputs": [
    {
     "data": {
      "text/plain": [
       "{'qiskit-terra': '0.21.2', 'qiskit-aer': '0.10.4', 'qiskit-ignis': None, 'qiskit-ibmq-provider': '0.19.2', 'qiskit': '0.37.2', 'qiskit-nature': '0.4.1', 'qiskit-finance': '0.3.2', 'qiskit-optimization': '0.4.0', 'qiskit-machine-learning': '0.4.0'}"
      ]
     },
     "execution_count": 50,
     "metadata": {},
     "output_type": "execute_result"
    }
   ],
   "source": [
    "import qiskit\n",
    "qiskit.__qiskit_version__"
   ]
  }
 ],
 "metadata": {
  "kernelspec": {
   "display_name": "Python 3",
   "language": "python",
   "name": "python3"
  },
  "language_info": {
   "codemirror_mode": {
    "name": "ipython",
    "version": 3
   },
   "file_extension": ".py",
   "mimetype": "text/x-python",
   "name": "python",
   "nbconvert_exporter": "python",
   "pygments_lexer": "ipython3",
   "version": "3.9"
  }
 },
 "nbformat": 4,
 "nbformat_minor": 2
}
