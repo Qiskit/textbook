{
  "cells": [
    {
      "cell_type": "markdown",
      "metadata": {
        "tags": [
          "remove_cell"
        ]
      },
      "source": [
        "# Introducción"
      ]
    },
    {
      "cell_type": "markdown",
      "metadata": {
      },
      "source": [
        "Hemos visto algunos efectos interesantes con qubits individuales y compuertas de un solo qubit, pero el verdadero poder de la computación cuántica se realiza a través de las interacciones entre qubits. En esta sección, presentaremos compuertas de múltiples qubits y exploraremos los comportamientos interesantes de los sistemas multi-qubit.\n",
        "\n",
        "Por lo general, las compuertas que se pueden implementar directamente en el hardware actuarán solo en uno o dos qubits. En nuestros circuitos, podemos querer usar compuertas complejas que actúen sobre una gran cantidad de qubits. Afortunadamente, esto no será un problema. Con las compuertas de uno y dos qubits que nos proporciona el hardware, es posible construir cualquier otra compuerta.\n",
        "\n",
        "En este capítulo, primero presentaremos las compuertas multi-qubit más básicas, así como las matemáticas utilizadas para describirlas y analizarlas. Luego, mostraremos cómo probar que estas compuertas se pueden usar para crear cualquier algoritmo cuántico posible. Después, el capítulo concluye examinando los usos a pequeña escala de las compuertas cuánticas. Por ejemplo, vemos cómo construir compuertas de tres qubits como Toffoli a partir de operaciones con uno y dos qubits.\n",
        "\n",
        "![Una Toffoli hecha de compuertas de uno y dos qubits](images/basic3.png)\n",
        "\n",
        "Esta es una Toffoli con 3 qubits (q0,q1,q2) respectivamente. En este ejemplo de circuito, q0 está conectado con q2 pero q0 no está conectado con q1."
      ]
    }
  ],
  "metadata": {
    "kernelspec": {
      "display_name": "Python 3",
      "language": "python",
      "name": "python3"
    },
    "language_info": {
      "codemirror_mode": {
        "name": "ipython",
        "version": 3
      },
      "file_extension": ".py",
      "mimetype": "text/x-python",
      "name": "python",
      "nbconvert_exporter": "python",
      "pygments_lexer": "ipython3",
      "version": "3.9"
    }
  },
  "nbformat": 4,
  "nbformat_minor": 2
}
