{
  "cells": [
    {
      "cell_type": "markdown",
      "metadata": {
        "tags": [
          "remove_cell"
        ]
      },
      "source": [
        "# Probando la Universalidad"
      ]
    },
    {
      "cell_type": "markdown",
      "metadata": {
      },
      "source": [
        "## Contenido\n",
        "\n",
        "1. [Introducción](#intro)\n",
        "2. [Diversión con Matrices](#fun)<br> 2.1 [Matrices como productos exteriores](#outer)<br> 2.2 [Matrices unitarias y Hermitianas](#u-and-h)<br> 2.3 [Descomposición de Pauli](#pauli)\n",
        "3. [Definición de Universalidad](#defining)\n",
        "4. [Conjuntos de Compuertas Básicas](#basic)<br> 4.1 [Compuertas de Clifford](#big-red)<br> 4.2 [Compuertas No Clifford](#non-clifford)<br> 4.3 [Expansión del Conjunto de Compuertas](#expanding)\n",
        "5. [Probando la Universalidad](#proving)\n",
        "6. [Conjuntos Universales de Compuertas Cuánticas](#gate-sets)"
      ]
    },
    {
      "cell_type": "markdown",
      "metadata": {
      },
      "source": [
        "## 1. Introducción <a id=\"intro\"></a>\n",
        "\n",
        "¿Qué puede hacer cualquier computadora dada? ¿Cuáles son los límites de lo que se considera computable, en general? Estas fueron preguntas abordadas por Alan Turing antes de que tuviéramos una buena idea de qué era una computadora o cómo construir una.\n",
        "\n",
        "Para hacer esta pregunta de nuestras computadoras clásicas, y específicamente a nuestras computadoras digitales estándar, debemos eliminar todas las pantallas, altavoces y dispositivos de entrada sofisticados. Lo que nos queda es simplemente una máquina que convierte cadenas de bits de entrada en cadenas de bits de salida. Si un dispositivo puede realizar cualquier conversión de este tipo, tomando cualquier conjunto arbitrario de entradas y convirtiéndolas en un conjunto de salidas correspondientes elegido arbitrariamente, lo llamamos *universal*.\n",
        "\n",
        "De manera similar, las computadoras cuánticas toman estados de entrada y los convierten en estados de salida. Por lo tanto, podremos definir la universalidad de manera similar. Para ser más precisos, y poder probar cuándo se puede y no se puede lograr la universalidad, es útil utilizar la representación matricial de nuestras compuertas cuánticas. Pero primero necesitaremos repasar algunas técnicas."
      ]
    },
    {
      "cell_type": "markdown",
      "metadata": {
      },
      "source": [
        "## 2. Diversión con Matrices <a id=\"fun\"></a>\n",
        "\n",
        "### 2.1 Matrices como productos exteriores <a id=\"outer\"></a>\n",
        "\n",
        "En secciones anteriores hemos calculado muchos productos internos, como $\\langle0|0\\rangle =1$. Estos combinan un bra y un ket para darnos un solo número. También podemos combinarlos de forma que nos den una matriz, simplemente poniéndolos en orden inverso. Esto se llama producto externo y funciona mediante la multiplicación de matrices estándar. Por ejemplo\n",
        "\n",
        "$$\n",
        "|0\\rangle\\langle0|= \\begin{pmatrix} 1 \\\\ 0 \\end{pmatrix} \\begin{pmatrix} 1 & 0 \\end{pmatrix} = \\begin{pmatrix} 1&0 \\\\ 0&0 \\end{pmatrix},\\\\\n",
        "|0\\rangle\\langle1| = \\begin{pmatrix} 1 \\\\ 0 \\end{pmatrix} \\begin{pmatrix} 0 & 1 \\end{pmatrix} = \\begin{pmatrix} 0&1 \\\\ 0&0 \\end{pmatrix},\\\\\n",
        "|1\\rangle\\langle0| = \\begin{pmatrix} 0 \\\\ 1 \\end{pmatrix} \\begin{pmatrix} 1 & 0 \\end{pmatrix} = \\begin{pmatrix} 0&0 \\\\ 1&0 \\end{pmatrix},\\\\\n",
        "|1\\rangle\\langle1| = \\begin{pmatrix} 0 \\\\ 1 \\end{pmatrix} \\begin{pmatrix} 0 & 1 \\end{pmatrix} = \\begin{pmatrix} 0&0 \\\\ 0&1 \\end{pmatrix}.\\\\\n",
        "$$\n",
        "\n",
        "Esto también significa que podemos escribir cualquier matriz puramente en términos de productos externos. En los ejemplos anteriores, construimos las cuatro matrices que cubren cada uno de los elementos individuales en una matriz de un solo qubit, por lo que podemos escribir cualquier otra matriz de un solo qubit en términos de ellas.\n",
        "\n",
        "$$\n",
        "M= \\begin{pmatrix} m_{0,0}& m_{0,1} \\\\ m_{1,0}&m_{1,1} \\end{pmatrix} = m_{0,0} |0\\rangle\\langle0|+ m_{0,1} |0\\rangle\\langle1|+ m_{1,0} |1\\rangle\\langle0|+ m_{1,1} |1\\rangle\\langle1|\n",
        "$$\n",
        "\n",
        "Esta propiedad también se extiende a matrices para cualquier número de qubits, $n$. Simplemente, usamos los productos externos de las correspondientes cadenas de $n$ bits.\n",
        "\n",
        "### 2.2 Matrices unitarias y Hermitianas <a id=\"u-and-h\"></a>\n",
        "\n",
        "El conjugado Hermitiano $M^\\dagger$ de una matriz $M$ es la combinación de la transpuesta (reemplazar el elemento inferior izquierdo con el superior derecho, y así sucesivamente) y el conjugado complejo de cada elemento. Dos familias de matrices que son muy importantes para la computación cuántica se definen por su relación con el conjugado Hermitiano. Una es la familia de matrices unitarias, para las cuales\n",
        "\n",
        "$$ U U^\\dagger = U^\\dagger U = 1. $$\n",
        "\n",
        "Esto quiere decir que el conjugado Hermitiano de una unitaria es su inverso: otra unitaria $U^\\dagger$ con el poder de deshacer los efectos de $U$. Todas las compuertas en la computación cuántica, con la excepción de las operaciones de medición y restablecimiento, pueden representarse mediante matrices unitarias.\n",
        "\n",
        "Otra consecuencia de la unitaridad es que conserva el producto interno entre dos estados arbitrarios. Específicamente, toma dos estados $\\left| \\psi_0 \\right\\rangle$ y $\\left| \\psi_1 \\right\\rangle$. El producto interno de estos es $\\left\\langle \\psi_0 | \\psi_1 \\right\\rangle$. Si aplicamos la misma unitaria $U$ a ambos, el producto interno de los estados resultantes es exactamente el mismo,\n",
        "\n",
        "$$ \\left( \\left\\langle \\psi_0 \\right| U^\\dagger \\right) \\left( U \\left| \\psi_1 \\right\\rangle \\right) = \\left\\langle \\psi_0 \\right|U^\\dagger U\\left| \\psi_1 \\right\\rangle = \\left\\langle \\psi_0 | \\psi_1 \\right\\rangle. $$\n",
        "\n",
        "Esta propiedad nos proporciona una forma útil de pensar en estas compuertas. Significa que para cualquier conjunto de estados ${ \\left| \\psi_j \\right\\rangle }$ que proporcionen una base ortonormal para nuestro sistema, el conjunto de estados ${ \\left| \\phi_j \\right\\rangle = U \\left| \\psi_j \\right\\rangle }$ también será una base ortonormal. Entonces, se puede pensar en la unitaria como una rotación entre estas bases y, en consecuencia, se puede escribir como\n",
        "\n",
        "$$ U = \\sum_j \\left| \\phi_j \\right\\rangle \\left\\langle \\psi_j \\right|. $$\n",
        "\n",
        "Esta es esencialmente la versión cuántica de las 'tablas de verdad' que describen la acción de las compuertas Booleanas clásicas.\n",
        "\n",
        "La otra familia importante de matrices son las matrices Hermitianas. Estas son aquellas que no se ven afectadas por el conjugado Hermitiano.\n",
        "\n",
        "$$ H = H^\\dagger. $$\n",
        "\n",
        "Las matrices $X$, $Y$, $Z$ y $H$ son ejemplos de matrices Hermitianas que ya has visto (casualmente, también son todas unitarias, ya que son sus propias inversas).\n",
        "\n",
        "Todas las matrices unitarias y las matrices Hermitianas tienen la propiedad de ser diagonalizables. Esto significa que se pueden escribir en la forma\n",
        "\n",
        "$$ M = \\sum_j \\lambda_j |h_j\\rangle\\langle h_j|, $$\n",
        "\n",
        "donde $\\lambda_j$ son los valores propios de la matriz y $|h_j\\rangle$ son los estados propios correspondientes.\n",
        "\n",
        "Para las unitarias, aplicar la condición $U U^\\dagger=1$ en esta forma diagonal implica que $\\lambda_j \\lambda_j^* = 1$. Por lo tanto, los valores propios son siempre números complejos de magnitud 1, por lo que se pueden expresar como $e^{ih_j}$ para algún valor real $h_j$. Para las matrices Hermitianas, la condición $H = H^\\dagger$ implica $\\lambda_j = \\lambda_j^*$ y, debido a eso, todos los valores propios son reales.\n",
        "\n",
        "Por lo tanto, estos dos tipos de matrices difieren solo en que una debe tener números reales para los valores propios y la otra debe tener exponenciales complejas de números reales. Esto significa que, para cada unidad, podemos definir una matriz Hermitiana correspondiente. Para esto, simplemente reutilizamos los mismos estados propios y usamos $h_j$ de cada $e^{ih_j}$ como el valor propio correspondiente.\n",
        "\n",
        "De manera similar, para cada matriz Hermitiana existe una unitaria. Simplemente, reutilizamos los mismos estados propios y exponenciamos $h_j$ para crear los valores propios $e^{ih_j}$. Esto se puede expresar como\n",
        "\n",
        "$$ U = e^{iH} $$\n",
        "\n",
        "Aquí hemos usado la definición estándar de cómo exponenciar una matriz, que tiene exactamente las propiedades que requerimos: preservar los estados propios y exponenciar los valores propios.\n",
        "\n",
        "### 2.3 Descomposición de Pauli <a id=\"pauli\"></a>\n",
        "\n",
        "Como vimos anteriormente, es posible escribir matrices enteramente en términos de productos externos.\n",
        "\n",
        "$$\n",
        "M= \\begin{pmatrix} m_{0,0}&m_{0,1} \\\\ m_{1,0}&m_{1,1} \\end{pmatrix} = m_{0,0} |0\\rangle\\langle0|+ m_{0,1} |0\\rangle\\langle1|+ m_{1,0} |1\\rangle\\langle0|+ m_{1,1} |1\\rangle\\langle1|\n",
        "$$\n",
        "\n",
        "Ahora veremos que también es posible escribirlos completamente en términos de operadores de Pauli. Para esto, la clave a tener en cuenta es que\n",
        "\n",
        "$$\n",
        "\\frac{1+Z}{2} = \\frac{1}{2}\\left[ \\begin{pmatrix} 1&0 \\\\0&1 \\end{pmatrix}+\\begin{pmatrix} 1&0 \\\\0&-1 \\end{pmatrix}\\right] = |0\\rangle\\langle0|,\\\\\\frac{1-Z}{2} = \\frac{1}{2}\\left[ \\begin{pmatrix} 1&0 \\\\0&1 \\end{pmatrix}-\\begin{pmatrix} 1&0 \\\\0&-1 \\end{pmatrix}\\right] = |1\\rangle\\langle1|\n",
        "$$\n",
        "\n",
        "Esto muestra que $|0\\rangle\\langle0|$ y $|1\\rangle\\langle1|$ pueden expresarse usando la matriz identidad y $Z$. Ahora, usando la propiedad de que $X|0\\rangle = |1\\rangle$, también podemos producir\n",
        "\n",
        "$$ |0\\rangle\\langle1| = |0\\rangle\\langle0|X = \\frac{1}{2}(1+Z)~X = \\frac{X+iY}{2},\\\\ |1\\rangle\\langle0| = X|0\\rangle\\langle0| = X~\\frac{1}{2}(1+Z) = \\frac{X-iY}{2}. $$\n",
        "\n",
        "Como tenemos todos los productos externos, ahora podemos usar esto para escribir la matriz en términos de matrices de Pauli:\n",
        "\n",
        "$$ M = \\frac{m_{0,0}+m_{1,1}}{2}~1~+~\\frac{m_{0,1}+m_{1,0}}{2}~X~+~i\\frac{m_{0,1}-m_{1,0}}{2}~Y~+~\\frac{m_{0,0}-m_{1,1}}{2}~Z. $$\n",
        "\n",
        "Este ejemplo fue para una matriz general de un solo qubit, pero el resultado correspondiente también es válido para matrices para cualquier número de qubits. Partimos simplemente de la observación de que\n",
        "\n",
        "$$ \\left(\\frac{1+Z}{2}\\right)\\otimes\\left(\\frac{1+Z}{2}\\right)\\otimes\\ldots\\otimes\\left(\\frac{1+Z}{2}\\right) = |00\\ldots0\\rangle\\langle00\\ldots0|, $$\n",
        "\n",
        "y puedes entonces proceder de la misma manera que arriba. Al final se puede demostrar que cualquier matriz se puede expresar en términos de productos tensoriales de matrices de Pauli:\n",
        "\n",
        "$$ M = \\sum_{P_{n-1},\\ldots,P_0 \\in {1,X,Y,Z}} C_{P_{n-1}\\ldots,P_0}~~P_{n-1} \\otimes P_{n-2}\\otimes\\ldots\\otimes P_0. $$\n",
        "\n",
        "Para las matrices Hermitianas, ten en cuenta que los coeficientes $C_{P_{n-1}\\ldots,P_0}$ aquí serán todos reales."
      ]
    },
    {
      "cell_type": "markdown",
      "metadata": {
      },
      "source": [
        "## 3. Definición de Universalidad <a id=\"defining\"></a>\n",
        "\n",
        "Así como cada compuerta cuántica puede representarse mediante una unitaria, también podemos describir un cálculo cuántico completo mediante una operación unitaria (muy grande). El efecto de esto es rotar el estado de entrada al estado de salida.\n",
        "\n",
        "Un posible caso especial de esto es que los estados de entrada y salida describan cadenas de bits expresadas en forma cuántica. El mapeo de cada entrada $x$ a su salida $f(x)$ podría describirse mediante algún cálculo clásico (reversible). Por lo tanto, cualquier cálculo de este tipo podría expresarse como unitario.\n",
        "\n",
        "$$ U = \\sum_j \\left| f(x) \\right\\rangle \\left\\langle x \\right|. $$\n",
        "\n",
        "Si pudiéramos implementar cualquier unitaria posible, significaría que podríamos lograr la universalidad en el sentido de las computadoras digitales estándar.\n",
        "\n",
        "Otro caso especial es que los estados de entrada y salida podrían describir un sistema físico, y el cálculo que realizamos es para simular la dinámica de ese sistema. Este es un problema importante que no es práctico para las computadoras clásicas, pero es una aplicación natural de las computadoras cuánticas. La evolución temporal del sistema en este caso corresponde a la unitaria que aplicamos, y la matriz Hermitiana asociada es el Hamiltoniano del sistema. Por lo tanto, lograr cualquier unitaria correspondería a simular cualquier evolución temporal y diseñar los efectos de cualquier Hamiltoniano.\n",
        "\n",
        "Combinando estos conocimientos, podemos definir qué significa que las computadoras cuánticas sean universales. Es simplemente la capacidad de lograr cualquier unitaria deseada en cualquier número arbitrario de qubits. Si tenemos esto, sabemos que podemos reproducir cualquier cosa que pueda hacer una computadora digital, simular cualquier sistema cuántico y hacer todo lo demás que es posible para una computadora cuántica."
      ]
    },
    {
      "cell_type": "markdown",
      "metadata": {
      },
      "source": [
        "## 4. Conjuntos de Compuertas Básicas <a id=\"basic\"></a>\n",
        "\n",
        "Si podemos o no construir cualquier unitaria a partir de un conjunto de compuertas básicas, depende en gran medida de las compuertas básicas a las que tengamos acceso. Para cada realización posible de computación cuántica tolerante a fallas, hay un conjunto de operaciones cuánticas que son más sencillas de realizar. A menudo, estas consisten en compuertas de uno y dos qubits, la mayoría de las cuales corresponden al conjunto de las llamadas *compuertas de Clifford*. Este es un conjunto de operaciones muy importante, que hace mucho del trabajo pesado en cualquier algoritmo cuántico."
      ]
    },
    {
      "cell_type": "markdown",
      "metadata": {
      },
      "source": [
        "### 4.1 Compuertas de Clifford <a id=\"big-red\"></a>\n",
        "\n",
        "Para entender las compuertas de Clifford, comencemos con un ejemplo que ya has visto muchas veces: la Hadamard.\n",
        "\n",
        "$$ H = |+\\rangle\\langle0|~+~ |-\\rangle\\langle1| = |0\\rangle\\langle+|~+~ |1\\rangle\\langle-|. $$\n",
        "\n",
        "Esta compuerta se expresa arriba usando productos externos, como se describe arriba. Cuando se expresa de esta forma, su famoso efecto se vuelve obvio: toma $|0\\rangle$ y lo rota a $|+\\rangle$. Más generalmente, podemos decir que rota los estados básicos de la medición en z, ${ |0\\rangle,|1\\rangle }$, a los estados básicos de la medición en x, ${ |+\\rangle,|-\\rangle }$, y viceversa.\n",
        "\n",
        "De esta forma, el efecto de la Hadamard es mover información alrededor de un qubit. Intercambia cualquier información a la que antes se accedía mediante una medición en x con aquella a la que se accedía mediante una medición en z.\n",
        "\n",
        "La Hadamard se puede combinar con otras compuertas para realizar diferentes operaciones, por ejemplo:\n",
        "\n",
        "$$ H X H = Z,\\\\ H Z H = X. $$\n",
        "\n",
        "Al aplicar una Hadamard antes y después de una $X$, hacemos que la acción que se aplicó previamente a los estados de la base z se transfiera a los estados de la base x. El efecto combinado es entonces idéntico al de una $Z$. Del mismo modo, podemos crear una $X$ a partir de Hadamards y una $Z$.\n",
        "\n",
        "Se puede ver un comportamiento similar para la compuerta $S$ y su conjugado Hermitiano,\n",
        "\n",
        "$$ S X S^{\\dagger} = Y,\\\\ S Y S^{\\dagger} = -X,\\\\ S Z S^{\\dagger} = Z. $$\n",
        "\n",
        "Esto tiene un efecto similar a la Hadamard, excepto que intercambia $X$ y $Y$ en lugar de $X$ y $Z$. En combinación con la Hadamard, podríamos hacer una compuerta compuesta que cambie la información de y con z.\n",
        "\n",
        "Esta propiedad de transformar Paulis en otros Paulis es la característica definitoria de las compuertas de Clifford. Explícitamente, para el caso de un solo qubit: si $U$ es una Clifford y $P$ es una Pauli, $U P U^{\\dagger}$ también será una Pauli. Para las compuertas Hermitianas, como la Hadamard, simplemente podemos usar $U P U$.\n",
        "\n",
        "Otros ejemplos de compuertas de Clifford de un solo qubit son las propias Paulis. Estas no transforman la Pauli sobre la que actúan. En su lugar, simplemente asignan una fase de $-1$ a las dos con las que trabajan. Por ejemplo,\n",
        "\n",
        "$$ Z X Z = -X,\\\\ Z Y Z = -Y,\\\\ Z Z Z= ~~~~Z. $$\n",
        "\n",
        "Es posible que hayas notado que también surgió una fase similar en el efecto de la compuerta $S$. Al combinar esto con una Pauli, podríamos crear una compuerta compuesta que cancelaría esta fase e intercambiaría $X$ y $Y$ de una manera más similar al intercambio de la Hadamard de $X$ y $Z$.\n",
        "\n",
        "Para las compuertas de Clifford de múltiples qubits, la propiedad que las define es que transforman los productos tensoriales de Paulis en otros productos tensoriales de Paulis. Por ejemplo, la compuerta de Clifford de dos qubits más destacada es la CNOT. La propiedad de esto, que haremos uso en este capítulo es\n",
        "\n",
        "$$ { CX}*{j,k}~ (X \\otimes 1)~{ CX}*{j,k} = X \\otimes X. $$\n",
        "\n",
        "Esto efectivamente 'copia' una $X$ del qubit de control al objetivo.\n",
        "\n",
        "El proceso de intercalar una matriz entre una unitaria y su conjugada Hermitiana se conoce como conjugación por esa unitaria. Este proceso transforma los estados propios de la matriz, pero deja los valores propios sin cambios. La razón por la que la conjugación de Cliffords puede transformarse entre Paulis es que todos los Paulis comparten el mismo conjunto de valores propios."
      ]
    },
    {
      "cell_type": "markdown",
      "metadata": {
      },
      "source": [
        "### 4.2 Compuertas No Clifford <a id=\"non-clifford\"></a>\n",
        "\n",
        "Las compuertas de Clifford son muy importantes, pero no son poderosas por sí solas. Para hacer cualquier cálculo cuántico, necesitamos compuertas que no sean Cliffords. Tres ejemplos importantes son las rotaciones arbitrarias alrededor de los tres ejes del qubit, $R_x(\\theta)$, $R_y(\\theta)$ y $R_z(\\theta)$.\n",
        "\n",
        "Centrémonos en $R_x(\\theta)$. Como vimos anteriormente, cualquier unitaria se puede expresar en forma exponencial utilizando una matriz Hermitiana. Para esta compuerta, encontramos\n",
        "\n",
        "$$ R_x(\\theta) = e^{i \\frac{\\theta}{2} X}. $$\n",
        "\n",
        "La última sección también nos mostró que la unitaria y su matriz Hermitiana correspondiente tienen los mismos estados propios. En esta sección, hemos visto que la conjugación por una unitaria transforma los estados propios y deja los valores propios sin cambios. Con esto en mente, se puede demostrar que\n",
        "\n",
        "$$ U R_x(\\theta)U^\\dagger = e^{i \\frac{\\theta}{2} ~U X U^\\dagger}. $$\n",
        "\n",
        "Al conjugar esta rotación por una Clifford, podemos transformarla en la misma rotación alrededor de otro eje. Entonces, incluso si no tuviéramos una forma directa de realizar $R_y(\\theta)$ y $R_z(\\theta)$, podríamos hacerlo con $R_x(\\theta)$ combinado con las compuertas de Clifford. Esta técnica de aumentar el poder de las compuertas que no son de Clifford combinándolas con las compuertas de Clifford es una a la que le damos un gran uso en la computación cuántica."
      ]
    },
    {
      "cell_type": "markdown",
      "metadata": {
      },
      "source": [
        "### 4.3 Expansión del Conjunto de Compuertas <a id=\"expanding\"></a>\n",
        "\n",
        "Como otro ejemplo de combinación de $R_x(\\theta)$ con Cliffords, conjuguémosla con un CNOT.\n",
        "\n",
        "$$ CX_{j,k} ~(R_x(\\theta) \\otimes 1)~ CX_{j,k} = CX_{j,k} ~ e^{i \\frac{\\theta}{2} ~ (X\\otimes 1)}~ CX_{j,k} = e^{i \\frac{\\theta}{2} ~CX_{j,k} ~ (X\\otimes 1)~ CX_{j,k}} = e^{i \\frac{\\theta}{2} ~ X\\otimes X} $$\n",
        "\n",
        "Esto transforma nuestra simple rotación de un solo qubit en una compuerta de dos qubits mucho más poderosa. Esto no es solo equivalente a realizar la misma rotación de forma independiente en ambos qubits. En cambio, es una compuerta capaz de generar y manipular estados entrelazados.\n",
        "\n",
        "No necesitamos detenernos allí. Podemos usar el mismo truco para extender la operación a cualquier número de qubits. Todo lo que se necesita son más conjugaciones por parte del CNOT para seguir copiando las $X$ en nuevos qubits.\n",
        "\n",
        "Además, podemos usar Cliffords de un solo qubit para transformar la Pauli en diferentes qubits. Por ejemplo, en nuestro ejemplo de dos qubits, podríamos conjugar $S$ en el qubit de la derecha para convertir la $X$de ahí en $Y$:\n",
        "\n",
        "$$ \\left( I \\otimes S \\right)  ~e^{i \\frac{\\theta}{2} ~ X\\otimes X}~\\left( I \\otimes S^\\dagger \\right) = e^{i \\frac{\\theta}{2} ~ X\\otimes Y}. $$\n",
        "\n",
        "Con estas técnicas, podemos realizar operaciones entrelazadas complejas que actúen sobre cualquier número arbitrario de qubits, de la forma\n",
        "\n",
        "$$ U = e^{i\\frac{\\theta}{2} ~ P_{n-1}\\otimes P_{n-2}\\otimes...\\otimes P_0}, ~~~ P_j \\in {I,X,Y,Z}. $$\n",
        "\n",
        "Todo esto demuestra que la combinación de las compuertas de Clifford de uno y dos qubits con rotaciones alrededor del eje x nos brinda un poderoso conjunto de posibilidades. Lo que queda por demostrar es que podemos usarlos para hacer cualquier cosa."
      ]
    },
    {
      "cell_type": "markdown",
      "metadata": {
      },
      "source": [
        "## 5. Probando la Universalidad <a id=\"proving\"></a>\n",
        "\n",
        "En cuanto a las computadoras clásicas, necesitaremos dividir este gran trabajo en partes manejables. Tendremos que encontrar un conjunto de compuertas básicas que nos permitan lograr esto. Como veremos, las compuertas de uno y dos qubits de la última sección son suficientes para la tarea.\n",
        "\n",
        "Supongamos que deseamos implementar la unitaria\n",
        "\n",
        "$$ U = e^{i(aX + bZ)}, $$\n",
        "\n",
        "pero las únicas compuertas que tenemos son $R_x(\\theta) = e^{i \\frac{\\theta}{2} X}$ y $R_z(\\theta) = e^{i \\frac{\\theta}{2} Z}$. La mejor manera de resolver este problema sería usar ángulos de Euler. Pero consideremos en su lugar un método diferente.\n",
        "\n",
        "La matriz Hermitiana en la exponencial para $U$ es simplemente la suma de las de las rotaciones $R_x(\\theta)$ y $R_z(\\theta)$. Esto sugiere un enfoque ingenuo para resolver nuestro problema: podríamos aplicar $R_z(2b) = e^{i bZ}$ seguido de $R_x(2a) = e^{i a X}$. Desafortunadamente, debido a que estamos exponenciando matrices que no conmutan, este enfoque no funcionará.\n",
        "\n",
        "$$ e^{i a X} e^{i b Z} \\neq e^{i(aX + bZ)} $$\n",
        "\n",
        "Sin embargo, podríamos usar la siguiente versión modificada:\n",
        "\n",
        "$$ U = \\lim_{n\\rightarrow\\infty} ~ \\left(e^{iaX/n}e^{ibZ/n}\\right)^n. $$\n",
        "\n",
        "Aquí dividimos $U$ en $n$ porciones pequeñas. Para cada rebanada, es una buena aproximación decir que\n",
        "\n",
        "$$ e^{iaX/n}e^{ibZ/n} = e^{i(aX + bZ)/n} $$\n",
        "\n",
        "El error en esta aproximación escala como $1/n^2$. Cuando combinamos las $n$ porciones, obtenemos una aproximación de nuestra unitaria objetivo cuyo error escala como $1/n$. Entonces, simplemente aumentando el número de rebanadas, podemos acercarnos a $U$ tanto como necesitemos. También son posibles otros métodos para crear la secuencia para obtener versiones aún más precisas de nuestra unitaria objetivo.\n",
        "\n",
        "El poder de este método es que puede usarse en casos más complejos que para un solo qubit. Por ejemplo, considera la unitaria\n",
        "\n",
        "$$ U = e^{i(aX\\otimes X\\otimes X + bZ\\otimes Z\\otimes Z)}. $$\n",
        "\n",
        "Sabemos cómo crear la unitaria $e^{i\\frac{\\theta}{2} X\\otimes X\\otimes X}$ a partir de un solo qubit $R_x(\\theta)$ y dos NOT controlados.\n",
        "\n",
        "```python\n",
        "qc.cx(0,2)\n",
        "qc.cx(0,1)\n",
        "qc.rx(theta,0)\n",
        "qc.cx(0,1)\n",
        "qc.cx(0,2)\n",
        "```\n",
        "\n",
        "Con algunos Hadamards, podemos hacer lo mismo para $e^{i\\frac{\\theta}{2} Z\\otimes Z\\otimes Z}$.\n",
        "\n",
        "```python\n",
        "qc.h(0)\n",
        "qc.h(1)\n",
        "qc.h(2)\n",
        "qc.cx(0,2)\n",
        "qc.cx(0,1)\n",
        "qc.rx(theta,0)\n",
        "qc.cx(0,1)\n",
        "qc.cx(0,2)\n",
        "qc.h(2)\n",
        "qc.h(1)\n",
        "qc.h(0)\n",
        "```\n",
        "\n",
        "Esto nos da la capacidad de reproducir una pequeña porción de nuestra nueva $U$ de tres qubits:\n",
        "\n",
        "$$ e^{iaX\\otimes X\\otimes X/n}e^{ibZ\\otimes Z\\otimes Z/n} = e^{i(aX\\otimes X\\otimes X + bZ\\otimes Z\\otimes Z)/n}. $$\n",
        "\n",
        "Como antes, podemos combinar las rebanadas para obtener una aproximación arbitrariamente precisa de $U$.\n",
        "\n",
        "Este método continúa funcionando a medida que aumentamos la cantidad de qubits y también la cantidad de términos que necesitan simulación. Se debe tener cuidado para garantizar que la aproximación siga siendo precisa, pero esto se puede hacer de manera que requiera recursos razonables. Agregar términos adicionales para simular, o aumentar la precisión deseada, solo requiere que la complejidad del método aumente polinómicamente.\n",
        "\n",
        "Los métodos de esta forma pueden reproducir cualquier unitaria $U = e^{iH}$ para la cual $H$ se puede expresar como una suma de productos tensoriales de Paulis. Ya que hemos mostrado previamente que todas las matrices pueden expresarse de esta manera, esto es suficiente para demostrar que podemos reproducir todas las unitarias. Aunque otros métodos pueden ser mejores en la práctica, el concepto principal que se desprende de este capítulo es que ciertamente hay una manera de reproducir todas las unitarias multi-qubit usando solo las operaciones básicas que se encuentran en Qiskit. ¡Se puede lograr la universalidad cuántica!\n",
        "\n",
        "Este conjunto de compuertas no es el único que puede alcanzar la universalidad. Por ejemplo, se puede demostrar que solo Hadamard y Toffoli son suficientes para la universalidad. También se han considerado muchos otros conjuntos de compuertas y se ha demostrado que son universales, cada uno motivado por diferentes rutas para lograr que las compuertas sean tolerantes a fallos.\n",
        "\n",
        "Todo lo que hemos discutido en este libro sigue el modelo de circuito de computación. Sin embargo, el modelo de circuito no es el único modelo universal de computación cuántica. Existen otras formas de computación cuántica, como la computación cuántica adiabática o la computación cuántica basada en mediciones. El hecho de que sean universales significa que se ha demostrado que existe un mapeo en tiempo polinomial y recursos del modelo de circuito a estos otros modelos de computación. Estos otros modelos a menudo aprovechan otras propiedades mecánicas cuánticas para realizar su cálculo. Si bien existen estas otras maneras de computación cuántica, es importante tener en cuenta que los beneficios de cada una se refieren solo a problemas físicos y de hardware. Dado que un modelo universal de computación cuántica puede realizar cualquier algoritmo cuántico, solamente necesitamos apegarnos al modelo de circuito y podemos ignorar otros modelos universales para nuestra discusión.\n",
        "\n",
        "Existen otras formas de computación cuántica que no son universales, pero se pueden emplear a aplicaciones específicas. Por ejemplo, el recocido (annealing) cuántico puede ser útil para problemas de optimización y muestreo. El recocido es el proceso de calentar un metal a una temperatura alta y luego dejar que se enfríe lentamente. Este proceso hace que el metal fundido fluya sobre la superficie de la pieza de metal y se redistribuya; cambiando muchas propiedades del metal en cuestión. El recocido cuántico es análogo al proceso físico de recocido en algún sentido. Implica codificar problemas en una especie de paisaje energético y luego dejar que un estado cuántico explore el paisaje. Mientras que las ondas normales pueden quedar atrapadas en valles que son más bajos que su entorno (mínimos locales), los efectos cuánticos aumentan la velocidad a la que los estados cuánticos encuentran el verdadero punto más bajo en el paisaje (mínimos globales)."
      ]
    },
    {
      "cell_type": "code",
      "execution_count": 7,
      "metadata": {
      },
      "outputs": [
        {
          "data": {
            "text/html": [
              "<h3>Version Information</h3><table><tr><th>Qiskit Software</th><th>Version</th></tr><tr><td>Qiskit</td><td>0.27.0</td></tr><tr><td>Terra</td><td>0.17.4</td></tr><tr><td>Aer</td><td>0.8.2</td></tr><tr><td>Ignis</td><td>0.6.0</td></tr><tr><td>Aqua</td><td>0.9.2</td></tr><tr><td>IBM Q Provider</td><td>0.14.0</td></tr><tr><th>System information</th></tr><tr><td>Python</td><td>3.7.7 (default, May  6 2020, 04:59:01) \n",
              "[Clang 4.0.1 (tags/RELEASE_401/final)]</td></tr><tr><td>OS</td><td>Darwin</td></tr><tr><td>CPUs</td><td>8</td></tr><tr><td>Memory (Gb)</td><td>32.0</td></tr><tr><td colspan='2'>Thu Jun 17 15:13:23 2021 BST</td></tr></table>"
            ],
            "text/plain": [
              "<IPython.core.display.HTML object>"
            ]
          },
          "metadata": {
          },
          "output_type": "display_data"
        }
      ],
      "source": [
        "import qiskit.tools.jupyter\n",
        "%qiskit_version_table"
      ]
    }
  ],
  "metadata": {
    "kernelspec": {
      "display_name": "Python 3",
      "language": "python",
      "name": "python3"
    },
    "language_info": {
      "codemirror_mode": {
        "name": "ipython",
        "version": 3
      },
      "file_extension": ".py",
      "mimetype": "text/x-python",
      "name": "python",
      "nbconvert_exporter": "python",
      "pygments_lexer": "ipython3",
      "version": "3.9"
    }
  },
  "nbformat": 4,
  "nbformat_minor": 4
}
