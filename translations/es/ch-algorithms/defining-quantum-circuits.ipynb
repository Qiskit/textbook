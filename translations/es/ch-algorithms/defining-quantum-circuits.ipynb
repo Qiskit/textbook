{
  "cells": [
    {
      "cell_type": "markdown",
      "metadata": {
        "tags": [
          "remove_cell"
        ]
      },
      "source": [
        "# Circuitos Cuánticos"
      ]
    },
    {
      "cell_type": "markdown",
      "metadata": {
      },
      "source": [
        "## Contenido\n",
        "\n",
        "1. [Introducción](#intro)\n",
        "2. [¿Qué es un Circuito Cuántico?](#whatis)\n",
        "3. [Ejemplo: Teleportación Cuántica](#teleportation)\n",
        "4. [Ejemplo: Solucionadores Propios Cuánticos Variacionales](#vqe)\n",
        "5. [¿Por qué las Partes Clásicas?](#why-classical)\n",
        "\n",
        "## 1. Introducción <a id=\"intro\"></a>\n",
        "\n",
        "Hasta ahora, hemos visto varias compuertas [de un solo qubit](https://qiskit.org/textbook/ch-states/single-qubit-gates.html) y [de múltiples qubits](https://qiskit.org/textbook/ch-gates/introduction.html). También hemos visto cómo usar estas compuertas junto con otros componentes para construir circuitos cuánticos.\n",
        "\n",
        "Antes de implementar algoritmos cuánticos en computadoras cuánticas reales, es importante resaltar la definición de un circuito cuántico en concreto, ya que construiremos circuitos cuánticos para implementar estos algoritmos.\n",
        "\n",
        "## 2. ¿Qué es un Circuito Cuántico? <a id=\"whatis\"></a>\n",
        "\n",
        "Un circuito cuántico es una rutina computacional que consiste de *operaciones cuánticas coherentes sobre datos cuánticos, tales como qubits, y computación clásica simultánea en tiempo real* . Es una secuencia ordenada de *compuertas cuánticas,* *mediciones y restablecimientos,* todos los cuales pueden condicionarse y utilizar datos de la computación clásica en tiempo real.\n",
        "\n",
        "Se dice que un conjunto de compuertas cuánticas es [universal](https://qiskit.org/textbook/ch-gates/proving-universality.html) si cualquier transformación unitaria de los datos cuánticos se puede aproximar eficientemente de manera arbitraria como una secuencia de compuertas en el conjunto. Cualquier programa cuántico puede representarse mediante una secuencia de circuitos cuánticos y computación clásica no concurrente.\n",
        "\n",
        "## 3. Ejemplo: Teleportación Cuántica <a id=\"teleportation\"></a>\n",
        "\n",
        "Revisa el circuito cuántico a continuación. Aprenderás más adelante en este capítulo que implementa [el algoritmo de teleportación cuántica](https://qiskit.org/textbook/ch-algorithms/teleportation.html). Por ahora, basta con observar los componentes del circuito cuántico.\n",
        "\n",
        "![Teleportación Cuántica Etiquetada](images/teleportation_labelled.svg)\n",
        "\n",
        "El circuito cuántico utiliza tres qubits y dos bits clásicos. Hay cuatro componentes principales en este circuito cuántico.\n",
        "\n",
        "### Inicialización y restablecimiento\n",
        "\n",
        "Primero, necesitamos comenzar nuestro cálculo cuántico con un estado cuántico bien definido. Esto se logra utilizando las operaciones de inicialización y restablecimiento. Los restablecimientos se pueden realizar mediante una combinación de compuertas de un solo qubit y computación clásica simultánea en tiempo real que monitorea si hemos creado con éxito el estado deseado a través de mediciones. La inicialización de $q_0$ en un estado deseado $\\vert\\psi\\rangle$ puede seguirse con la aplicación de compuertas de un solo qubit.\n",
        "\n",
        "### Compuertas cuánticas\n",
        "\n",
        "Segundo, aplicamos una secuencia de compuertas cuánticas que manipulan los tres qubits según lo requiera el algoritmo de teleportación. En este caso, solo necesitamos aplicar compuertas Hadamard de un solo qubit ($H$) y compuertas de dos qubits X Controladas ($\\oplus$).\n",
        "\n",
        "### Mediciones\n",
        "\n",
        "Tercero, medimos dos de los tres qubits. Una computadora clásica interpreta las mediciones de cada qubit como resultados clásicos (0 y 1) y los almacena en los dos bits clásicos.\n",
        "\n",
        "### Compuertas cuánticas condicionadas de manera clásica\n",
        "\n",
        "En cuarto lugar, aplicamos compuertas cuánticas $Z$ y $X$ de un solo qubit en el tercer qubit. Estas compuertas están condicionadas a los resultados de las mediciones que se almacenan en los dos bits clásicos. En este caso, estamos utilizando los resultados del cálculo clásico simultáneamente en tiempo real dentro del mismo circuito cuántico."
      ]
    },
    {
      "cell_type": "markdown",
      "metadata": {
      },
      "source": [
        "## 4. Ejemplo: Solucionadores Propios Cuánticos Variacionales <a id=\"vqe\"></a>\n",
        "\n",
        "Este es un ejemplo de un programa cuántico. Aprenderás en los siguientes capítulos a implementar un [solucionador propio cuántico variacional](https://qiskit.org/textbook/ch-applications/vqe-molecules.html) . En este programa, una computadora clásica funciona *de manera no simultánea* en sintonía con una computadora cuántica.\n",
        "\n",
        "![Solucionador Propio Cuántico Variacional Etiquetado](images/vqe-labeled.png)\n",
        "\n",
        "### El bloque cuántico\n",
        "\n",
        "Al igual que con el ejemplo anterior sobre teleportación cuántica, se prepara un estado cuántico $\\vert\\Psi(\\theta)\\rangle$ mediante una combinación de restablecimientos con compuertas cuánticas de uno y varios qubits. Aquí, los parámetros del estado se parametrizan usando la cantidad $\\theta$. Una vez preparado, el estado cuántico se manipula utilizando compuertas cuánticas y se mide. Todas las operaciones dentro del bloque cuántico consisten en circuitos cuánticos.\n",
        "\n",
        "### El bloque clásico\n",
        "\n",
        "Una vez que se ha medido el estado cuántico, una computadora clásica interpreta esos resultados de medición y calcula su costo utilizando una función de costo que se ha elegido para la aplicación prevista. Basada en este costo, la computadora clásica determina otro valor para el parámetro $\\theta$.\n",
        "\n",
        "### Operación combinada\n",
        "\n",
        "Después que la computadora clásica determina el siguiente parámetro para $\\theta$, se usa una secuencia de restablecimientos, compuertas cuánticas de uno y varios qubits en un circuito cuántico para preparar $\\vert\\Psi(\\theta)\\rangle$, y este proceso continúa hasta que se estabiliza el costo de los estados cuánticos medidos, o hasta que se alcanza otro resultado predeterminado."
      ]
    },
    {
      "cell_type": "markdown",
      "metadata": {
      },
      "source": [
        "## 5. ¿Por qué las Partes Clásicas? <a id=\"why-classical\"></a>\n",
        "\n",
        "Si bien una computadora cuántica universal puede hacer cualquier cosa que pueda hacer cualquier computadora clásica, a menudo agregamos partes clásicas a nuestros circuitos cuánticos porque los estados cuánticos son frágiles.\n",
        "\n",
        "Cuando medimos el qubit, colapsamos su estado y destruimos mucha información. Dado que toda medición destruye información, en teoría siempre podemos medir en última instancia y no perder ninguna ventaja computacional. En realidad, la medición temprana ofrece muchas ventajas prácticas.\n",
        "\n",
        "Por ejemplo, en el circuito de teleportación, medimos los qubits para poder enviar la información a través de canales clásicos en lugar de canales cuánticos. La ventaja es que los canales clásicos son muy estables, mientras que realmente no tenemos una forma de enviar información cuántica a otras personas, ya que los canales son muy difíciles de crear.\n",
        "\n",
        "En el ejemplo del solucionador propio cuántico variacional, dividir el cálculo en cálculos cuánticos más pequeños en realidad nos hace perder cierta ventaja computacional, pero compensa esto en hardware ruidoso al reducir el tiempo que nuestros qubits están en superposición. Esto significa que hay menos posibilidades de que la interferencia introduzca imprecisiones en nuestros resultados.\n",
        "\n",
        "Finalmente, para usar los resultados de nuestro cálculo cuántico en nuestro mundo cotidiano clásico, necesitamos medir e interpretar estos estados al final del mismo.\n"
      ]
    }
  ],
  "metadata": {
    "kernelspec": {
      "display_name": "Python 3",
      "language": "python",
      "name": "python3"
    },
    "language_info": {
      "codemirror_mode": {
        "name": "ipython",
        "version": 3
      },
      "file_extension": ".py",
      "mimetype": "text/x-python",
      "name": "python",
      "nbconvert_exporter": "python",
      "pygments_lexer": "ipython3",
      "version": "3.9"
    }
  },
  "nbformat": 4,
  "nbformat_minor": 2
}
