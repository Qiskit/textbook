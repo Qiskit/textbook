{
  "cells": [
    {
      "cell_type": "markdown",
      "metadata": {
        "tags": [
          "remove_cell"
        ]
      },
      "source": [
        "# Introducción\n"
      ]
    },
    {
      "cell_type": "markdown",
      "metadata": {
      },
      "source": [
        "Si crees que la mecánica cuántica suena desafiante, no estás solo. Todas nuestras intuiciones se basan en experiencias cotidianas, por lo que son mejores para comprender el comportamiento de las pelotas y los plátanos que de los átomos o los electrones. Aunque los objetos cuánticos pueden parecer aleatorios y caóticos al principio, simplemente siguen un conjunto diferente de reglas. Una vez que sabemos cuáles son esas reglas, podemos usarlas para crear tecnología nueva y poderosa. La computación cuántica será el ejemplo más revolucionario de esto."
      ]
    },
    {
      "cell_type": "markdown",
      "metadata": {
      },
      "source": [
        "![imagen1](images/atoms10.png)"
      ]
    },
    {
      "cell_type": "markdown",
      "metadata": {
        "goals": [
          {
            "id": "bitdescription"
          }
        ]
      },
      "source": [
        "Para comenzar tu viaje hacia la computación cuántica, probemos lo que ya sabes.\n",
        "\n",
        "### Ejercicio Rápido\n",
        "\n",
        "¿Cuál de las siguientes es la descripción correcta de un *bit*? (ejemplos de definiciones en inglés)\n",
        "\n",
        "- La unidad de información más pequeña: un `0` o un `1`.\n",
        "- Una herramienta metálica utilizada por un carpintero (<em>bit</em> = broca).\n",
        "- Algo que pones en la boca de un caballo (<em>bit</em> = bocado o freno)."
      ]
    },
    {
      "cell_type": "markdown",
      "metadata": {
        "gloss": {
          "qubit": {
            "text": "A __qubit__ or __quantum bit__ is the basic unit of quantum information. It is a two-state quantum-mechanical system, and one of the simplest systems displaying the peculiarity of quantum mechanics.",
            "title": "Qubit"
          }
        }
      },
      "source": [
        "En realidad, todas tienen razón: ¡es una palabra muy polivalente! Pero si elegiste \"la unidad de información más pequeña\", muestra que ya estás pensando en la línea correcta. La idea de que la información se puede almacenar y procesar como una serie de `0`s y `1`s es un gran obstáculo conceptual, pero es algo que la mayoría de la gente sabe sin siquiera pensar en ello. Tomando esto como punto de partida, podemos comenzar a imaginar bits que obedezcan las reglas de la mecánica cuántica. Estos [bits cuánticos](gloss:qubit), o *qubits*, nos permitirán procesar la información de formas nuevas y diferentes.\n",
        "\n",
        "Comenzaremos a sumergirnos más profundamente en el mundo de los qubits. Para esto, necesitaremos alguna forma de realizar un seguimiento de lo que están haciendo cuando aplicamos las compuertas. La forma más poderosa de hacer esto es usar el lenguaje matemático de vectores y matrices.\n"
      ]
    },
    {
      "cell_type": "markdown",
      "metadata": {
      },
      "source": [
        "![imagen2](images/bloch.png)\n"
      ]
    },
    {
      "cell_type": "markdown",
      "metadata": {
      },
      "source": [
        "Este capítulo será más efectivo para lectores que ya estén familiarizados con vectores y matrices. Aquellos que no estén familiarizados probablemente también estarán bien, aunque puede ser útil consultar nuestra [Introducción al Álgebra Lineal para Computación Cuántica](/course/ch-appendix/an-introduction-to-linear-algebra-for-quantum-computing) de vez en cuando.\n",
        "\n",
        "Dado que usaremos Qiskit, nuestro framework basado en Python para computación cuántica, también sería útil conocer los conceptos básicos de Python. Aquellos que necesiten un preámbulo pueden consultar la [Introducción a Python y cuadernos de Jupyter](/course/ch-prerequisites/introduction-to-python-and-jupyter-notebooks)."
      ]
    }
  ],
  "metadata": {
    "kernelspec": {
      "display_name": "Python 3",
      "language": "python",
      "name": "python3"
    },
    "language_info": {
      "codemirror_mode": {
        "name": "ipython",
        "version": 3
      },
      "file_extension": ".py",
      "mimetype": "text/x-python",
      "name": "python",
      "nbconvert_exporter": "python",
      "pygments_lexer": "ipython3",
      "version": "3.9"
    }
  },
  "nbformat": 4,
  "nbformat_minor": 2
}
