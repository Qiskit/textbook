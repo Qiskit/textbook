{
  "cells": [
    {
      "cell_type": "markdown",
      "metadata": {
        "tags": [
          "remove_cell"
        ]
      },
      "source": [
        "# Los Átomos de la Computación"
      ]
    },
    {
      "cell_type": "markdown",
      "metadata": {
      },
      "source": [
        "Programar una computadora cuántica ahora es algo que cualquiera puede hacer en la comodidad de su hogar.\n",
        "\n",
        "Pero ¿qué crear? ¿Qué es un programa cuántico de todos modos? De hecho, ¿qué es una computadora cuántica?\n",
        "\n",
        "Estas preguntas se pueden responder haciendo comparaciones con computadoras digitales estándar. Desafortunadamente, la mayoría de las personas tampoco entienden cómo funcionan las computadoras digitales. En este artículo, veremos los principios básicos detrás de estos dispositivos. Para ayudarnos a hacer la transición a la computación cuántica más adelante, lo haremos usando las mismas herramientas que usaremos para lo cuántico."
      ]
    },
    {
      "cell_type": "markdown",
      "metadata": {
      },
      "source": [
        "A continuación se muestra un código de Python que necesitaremos ejecutar si queremos usar el código en esta página:"
      ]
    },
    {
      "cell_type": "code",
      "execution_count": 1,
      "metadata": {
      },
      "outputs": [

      ],
      "source": [
        "from qiskit import QuantumCircuit, assemble, Aer\n",
        "from qiskit.visualization import plot_histogram"
      ]
    },
    {
      "cell_type": "markdown",
      "metadata": {
      },
      "source": [
        "## 1. Dividir la información en bits <a id=\"bits\"></a>"
      ]
    },
    {
      "cell_type": "markdown",
      "metadata": {
      },
      "source": [
        "Lo primero que debemos conocer es la idea de bits. Estos están diseñados para ser el alfabeto más simple del mundo. Con solo dos caracteres, 0 y 1, podemos representar cualquier pieza de información.\n",
        "\n",
        "Un ejemplo son los números. Probablemente estés acostumbrado a representar un número a través de una cadena de los diez dígitos 0, 1, 2, 3, 4, 5, 6, 7, 8 y 9. En esta cadena de dígitos, cada uno representa cuántas veces el número contiene una cierta potencia de diez. Por ejemplo, cuando escribimos 9213, queremos decir\n",
        "\n",
        "$$ 9000 + 200 + 10 + 3 $$\n",
        "\n",
        "o, expresado de una manera que enfatiza las potencias de diez\n",
        "\n",
        "$$ (9\\times10^3) + (2\\times10^2) + (1\\times10^1) + (3\\times10^0) $$\n",
        "\n",
        "Aunque generalmente usamos este sistema basado en el número 10, podemos usar uno basado en cualquier otro número. El sistema numérico binario, por ejemplo, se basa en el número dos. Esto significa usar los dos caracteres 0 y 1 para expresar números como múltiplos de potencias de dos. Por ejemplo, 9213 se convierte en 10001111111101, ya que\n",
        "\n",
        "\n",
        "$$\n",
        "\\begin{aligned}\n",
        "9213  &= (1 \\times 2^{13}) + (0 \\times 2^{12}) + (0 \\times 2^{11}) + (0 \\times 2^{10}) \\\\\n",
        " &+ (1 \\times 2^9) + (1 \\times 2^8) + (1 \\times 2^7) + (1 \\times 2^6) \\\\\n",
        " &+ (1 \\times 2^5) + (1 \\times 2^4) + (1 \\times 2^3) + (1 \\times 2^2) \\\\\n",
        " &+ (0 \\times 2^1) + (1 \\times 2^0) \n",
        "\\end{aligned}\n",
        "$$\n",
        "\n",
        "\n",
        "\n",
        "En esto, estamos expresando números como múltiplos de 2, 4, 8, 16, 32, etc. en lugar de 10, 100, 1000, etc.\n"
      ]
    },
    {
      "cell_type": "code",
      "execution_count": null,
      "metadata": {
      },
      "outputs": [

      ],
      "source": [
        "from qiskit_textbook.widgets import binary_widget\n",
        "binary_widget(nbits=5)"
      ]
    },
    {
      "cell_type": "markdown",
      "metadata": {
      },
      "source": [
        "Estas cadenas de bits, conocidas como cadenas binarias, se pueden usar para representar más que solo números. Por ejemplo, hay una forma de representar cualquier texto utilizando bits. Para cualquier letra, número o signo de puntuación que quieras usar, puedes encontrar una cadena correspondiente de ocho bits como máximo usando [esta tabla](https://www.ibm.com/support/knowledgecenter/en/ssw_aix_72/com.ibm.aix.networkcomm/conversion_table.htm). Aunque estos son bastante arbitrarios, este es un estándar ampliamente aceptado. De hecho, es lo que se utilizó para transmitirte este artículo a través de Internet.\n",
        "\n",
        "Así es como se representa toda la información en las computadoras. Ya sean números, letras, imágenes o sonido, todo existe en forma de cadenas binarias.\n",
        "\n",
        "Al igual que nuestras computadoras digitales estándar, las computadoras cuánticas se basan en esta misma idea básica. La principal diferencia es que utilizan *qubits*, una extensión del bit a la mecánica cuántica. En el resto de este libro de texto, exploraremos qué son los qubits, qué pueden hacer y cómo lo hacen. En esta sección, sin embargo, no estamos hablando de cuántica en absoluto. Entonces, solo usamos qubits como si fueran bits."
      ]
    },
    {
      "cell_type": "markdown",
      "metadata": {
      },
      "source": [
        "<!-- ::: q-block.exercise -->\n",
        "\n",
        "## Ejercicio\n",
        "\n",
        "Completa estas oraciones:\n",
        "\n",
        "1. El número \"5\" en decimal es [[101|11001|110|001]] en binario.\n",
        "2. Si nuestra computadora tiene 1 bit, puede estar en [[2|1|3|4]] estados diferentes.\n",
        "3. Si nuestra computadora tiene 2 bits, puede estar en [[4|3|2|8]] estados diferentes.\n",
        "4. Si nuestra computadora tiene 8 bits, puede estar en [[256|128|342]] estados diferentes.\n",
        "5. Si tienes $n$ bits, pueden estar en [[$2^n$|$n×2$|$n^2$]] estados diferentes.\n",
        "\n",
        "<!-- ::: -->\n"
      ]
    },
    {
      "cell_type": "markdown",
      "metadata": {
      },
      "source": [
        "## 2. Computación como un diagrama <a id=\"diagram\"></a>\n",
        "\n",
        "Ya sea que usemos qubits o bits, debemos manipularlos para convertir las entradas que tenemos en las salidas que necesitamos. Para los programas más simples con muy pocos bits, es útil representar este proceso en un diagrama conocido como *diagrama de circuito*. Estos tienen entradas a la izquierda, salidas a la derecha y operaciones representadas por símbolos arcanos en medio. Estas operaciones se denominan 'compuertas', principalmente por razones históricas.\n",
        "\n",
        "Aquí hay un ejemplo de cómo se ve un circuito para computadoras estándar basadas en bits. No se espera que entiendas lo que hace. Simplemente debería darte una idea de cómo se ven estos circuitos.\n",
        "\n",
        "![imagen1](images/classical_circuit.png)\n",
        "\n",
        "Para las computadoras cuánticas, usamos la misma idea básica pero tenemos diferentes convenciones sobre cómo representar entradas, salidas y los símbolos utilizados para las operaciones. Aquí está el circuito cuántico que representa el mismo proceso que el anterior.\n",
        "\n",
        "![imagen2](images/quantum_circuit.png)\n",
        "\n",
        "En el resto de esta sección, explicaremos cómo construir circuitos. Al final, sabrás cómo crear el circuito anterior, qué hace y por qué es útil."
      ]
    },
    {
      "cell_type": "markdown",
      "metadata": {
      },
      "source": [
        "## 3. Tu primer circuito cuántico <a id=\"first-circuit\"></a>"
      ]
    },
    {
      "cell_type": "markdown",
      "metadata": {
      },
      "source": [
        "En un circuito, normalmente necesitamos hacer tres trabajos: primero, codificar la entrada, luego hacer algunos cálculos reales y finalmente extraer una salida. Para tu primer circuito cuántico, nos centraremos en el último de estos trabajos. Comenzamos creando un circuito con ocho qubits y ocho salidas."
      ]
    },
    {
      "cell_type": "code",
      "execution_count": 3,
      "metadata": {
      },
      "outputs": [

      ],
      "source": [
        "qc_output = QuantumCircuit(8)"
      ]
    },
    {
      "cell_type": "markdown",
      "metadata": {
      },
      "source": [
        "Este circuito, que hemos llamado `qc_output`, lo crea Qiskit usando `QuantumCircuit`. El `QuantumCircuit` toma el número de qubits del circuito cuántico como argumento.\n",
        "\n",
        "La extracción de salidas en un circuito cuántico se realiza mediante una operación llamada `measure_all()`. Cada medición le dice a un qubit específico que dé una salida a un bit de salida específico. El comando `qc_output.measure_all()` agrega una medición a cada qubit en el circuito `qc_output` y también agrega algunos bits clásicos para escribir la salida."
      ]
    },
    {
      "cell_type": "code",
      "execution_count": 4,
      "metadata": {
      },
      "outputs": [

      ],
      "source": [
        "qc_output.measure_all()"
      ]
    },
    {
      "cell_type": "markdown",
      "metadata": {
      },
      "source": [
        "Ahora que nuestro circuito tiene algo, echemos un vistazo."
      ]
    },
    {
      "cell_type": "code",
      "execution_count": 5,
      "metadata": {
      },
      "outputs": [
        {
          "data": {
            "image/svg+xml": [
              "<?xml version=\"1.0\" encoding=\"UTF-8\"?><!DOCTYPE svg  PUBLIC '-//W3C//DTD SVG 1.1//EN'  'http://www.w3.org/Graphics/SVG/1.1/DTD/svg11.dtd'><svg width=\"521.94pt\" height=\"441.64pt\" version=\"1.1\" viewBox=\"0 0 521.94 441.64\" xmlns=\"http://www.w3.org/2000/svg\" xmlns:xlink=\"http://www.w3.org/1999/xlink\"><defs><style type=\"text/css\">*{stroke-linecap:butt;stroke-linejoin:round;}</style></defs><path d=\"m0 441.64h521.94v-441.64h-521.94z\" fill=\"#ffffff\"/><path d=\"m160.68 396.83h11.817l-5.9086 8.5221z\" clip-path=\"url(#pe815d3b368)\" fill=\"#778899\"/><path d=\"m206.13 396.83h11.817l-5.9086 8.5221z\" clip-path=\"url(#pe815d3b368)\" fill=\"#778899\"/><path d=\"m251.58 396.83h11.817l-5.9086 8.5221z\" clip-path=\"url(#pe815d3b368)\" fill=\"#778899\"/><path d=\"m297.03 396.83h11.817l-5.9086 8.5221z\" clip-path=\"url(#pe815d3b368)\" fill=\"#778899\"/><path d=\"m342.48 396.83h11.817l-5.9086 8.5221z\" clip-path=\"url(#pe815d3b368)\" fill=\"#778899\"/><path d=\"m387.93 396.83h11.817l-5.9086 8.5221z\" clip-path=\"url(#pe815d3b368)\" fill=\"#778899\"/><path d=\"m433.38 396.83h11.817l-5.9086 8.5221z\" clip-path=\"url(#pe815d3b368)\" fill=\"#778899\"/><path d=\"m478.84 396.83h11.817l-5.9086 8.5221z\" clip-path=\"url(#pe815d3b368)\" fill=\"#778899\"/><path d=\"m96.593 43.561h413.6\" clip-path=\"url(#pe815d3b368)\" fill=\"none\" stroke=\"#000000\" stroke-linecap=\"square\" stroke-width=\"2\"/><path d=\"m96.593 89.012h413.6\" clip-path=\"url(#pe815d3b368)\" fill=\"none\" stroke=\"#000000\" stroke-linecap=\"square\" stroke-width=\"2\"/><path d=\"m96.593 134.46h413.6\" clip-path=\"url(#pe815d3b368)\" fill=\"none\" stroke=\"#000000\" stroke-linecap=\"square\" stroke-width=\"2\"/><path d=\"m96.593 179.91h413.6\" clip-path=\"url(#pe815d3b368)\" fill=\"none\" stroke=\"#000000\" stroke-linecap=\"square\" stroke-width=\"2\"/><path d=\"m96.593 225.36h413.6\" clip-path=\"url(#pe815d3b368)\" fill=\"none\" stroke=\"#000000\" stroke-linecap=\"square\" stroke-width=\"2\"/><path d=\"m96.593 270.82h413.6\" clip-path=\"url(#pe815d3b368)\" fill=\"none\" stroke=\"#000000\" stroke-linecap=\"square\" stroke-width=\"2\"/><path d=\"m96.593 316.27h413.6\" clip-path=\"url(#pe815d3b368)\" fill=\"none\" stroke=\"#000000\" stroke-linecap=\"square\" stroke-width=\"2\"/><path d=\"m96.593 361.72h413.6\" clip-path=\"url(#pe815d3b368)\" fill=\"none\" stroke=\"#000000\" stroke-linecap=\"square\" stroke-width=\"2\"/><path d=\"m96.593 405.69h413.6\" clip-path=\"url(#pe815d3b368)\" fill=\"none\" stroke=\"#778899\" stroke-linecap=\"square\" stroke-width=\"2\"/><path d=\"m96.593 408.65h413.6\" clip-path=\"url(#pe815d3b368)\" fill=\"none\" stroke=\"#778899\" stroke-linecap=\"square\" stroke-width=\"2\"/><path d=\"m112.27 66.286h17.726v-45.451h-17.726z\" clip-path=\"url(#pe815d3b368)\" fill=\"#bdbdbd\" opacity=\".6\"/><path d=\"m112.27 111.74h17.726v-45.451h-17.726z\" clip-path=\"url(#pe815d3b368)\" fill=\"#bdbdbd\" opacity=\".6\"/><path d=\"m112.27 157.19h17.726v-45.451h-17.726z\" clip-path=\"url(#pe815d3b368)\" fill=\"#bdbdbd\" opacity=\".6\"/><path d=\"m112.27 202.64h17.726v-45.451h-17.726z\" clip-path=\"url(#pe815d3b368)\" fill=\"#bdbdbd\" opacity=\".6\"/><path d=\"m112.27 248.09h17.726v-45.451h-17.726z\" clip-path=\"url(#pe815d3b368)\" fill=\"#bdbdbd\" opacity=\".6\"/><path d=\"m112.27 293.54h17.726v-45.451h-17.726z\" clip-path=\"url(#pe815d3b368)\" fill=\"#bdbdbd\" opacity=\".6\"/><path d=\"m112.27 338.99h17.726v-45.451h-17.726z\" clip-path=\"url(#pe815d3b368)\" fill=\"#bdbdbd\" opacity=\".6\"/><path d=\"m112.27 384.44h17.726v-45.451h-17.726z\" clip-path=\"url(#pe815d3b368)\" fill=\"#bdbdbd\" opacity=\".6\"/><path d=\"m168.06 43.561v353.27\" clip-path=\"url(#pe815d3b368)\" fill=\"none\" stroke=\"#778899\" stroke-linecap=\"square\" stroke-width=\"2\"/><path d=\"m165.11 43.561v353.27\" clip-path=\"url(#pe815d3b368)\" fill=\"none\" stroke=\"#778899\" stroke-linecap=\"square\" stroke-width=\"2\"/><path d=\"m213.52 89.012v307.82\" clip-path=\"url(#pe815d3b368)\" fill=\"none\" stroke=\"#778899\" stroke-linecap=\"square\" stroke-width=\"2\"/><path d=\"m210.56 89.012v307.82\" clip-path=\"url(#pe815d3b368)\" fill=\"none\" stroke=\"#778899\" stroke-linecap=\"square\" stroke-width=\"2\"/><path d=\"m258.97 134.46v262.37\" clip-path=\"url(#pe815d3b368)\" fill=\"none\" stroke=\"#778899\" stroke-linecap=\"square\" stroke-width=\"2\"/><path d=\"m256.01 134.46v262.37\" clip-path=\"url(#pe815d3b368)\" fill=\"none\" stroke=\"#778899\" stroke-linecap=\"square\" stroke-width=\"2\"/><path d=\"m304.42 179.91v216.91\" clip-path=\"url(#pe815d3b368)\" fill=\"none\" stroke=\"#778899\" stroke-linecap=\"square\" stroke-width=\"2\"/><path d=\"m301.46 179.91v216.91\" clip-path=\"url(#pe815d3b368)\" fill=\"none\" stroke=\"#778899\" stroke-linecap=\"square\" stroke-width=\"2\"/><path d=\"m349.87 225.36v171.46\" clip-path=\"url(#pe815d3b368)\" fill=\"none\" stroke=\"#778899\" stroke-linecap=\"square\" stroke-width=\"2\"/><path d=\"m346.91 225.36v171.46\" clip-path=\"url(#pe815d3b368)\" fill=\"none\" stroke=\"#778899\" stroke-linecap=\"square\" stroke-width=\"2\"/><path d=\"m395.32 270.82v126.01\" clip-path=\"url(#pe815d3b368)\" fill=\"none\" stroke=\"#778899\" stroke-linecap=\"square\" stroke-width=\"2\"/><path d=\"m392.36 270.82v126.01\" clip-path=\"url(#pe815d3b368)\" fill=\"none\" stroke=\"#778899\" stroke-linecap=\"square\" stroke-width=\"2\"/><path d=\"m440.77 316.27v80.562\" clip-path=\"url(#pe815d3b368)\" fill=\"none\" stroke=\"#778899\" stroke-linecap=\"square\" stroke-width=\"2\"/><path d=\"m437.82 316.27v80.562\" clip-path=\"url(#pe815d3b368)\" fill=\"none\" stroke=\"#778899\" stroke-linecap=\"square\" stroke-width=\"2\"/><path d=\"m486.22 361.72v35.111\" clip-path=\"url(#pe815d3b368)\" fill=\"none\" stroke=\"#778899\" stroke-linecap=\"square\" stroke-width=\"2\"/><path d=\"m483.27 361.72v35.111\" clip-path=\"url(#pe815d3b368)\" fill=\"none\" stroke=\"#778899\" stroke-linecap=\"square\" stroke-width=\"2\"/><path d=\"m105.68 411.71 4.5451-9.0902\" clip-path=\"url(#pe815d3b368)\" fill=\"none\" stroke=\"#778899\" stroke-linecap=\"square\" stroke-width=\"1.5\"/><path d=\"m151.82 58.332h29.543v-29.543h-29.543z\" clip-path=\"url(#pe815d3b368)\" stroke=\"#000000\" stroke-width=\"1.5\"/><path d=\"m176.93 47.992c0-2.7413-1.0901-5.3732-3.0285-7.3116s-4.5702-3.0285-7.3116-3.0285-5.3732 1.0901-7.3116 3.0285c-1.9384 1.9384-3.0285 4.5702-3.0285 7.3116\" clip-path=\"url(#pe815d3b368)\" fill=\"none\" stroke=\"#ffffff\" stroke-width=\"2\"/><path d=\"m197.27 103.78h29.543v-29.543h-29.543z\" clip-path=\"url(#pe815d3b368)\" stroke=\"#000000\" stroke-width=\"1.5\"/><path d=\"m222.38 93.443c0-2.7413-1.0901-5.3732-3.0285-7.3116s-4.5702-3.0285-7.3116-3.0285-5.3732 1.0901-7.3116 3.0285c-1.9384 1.9384-3.0285 4.5702-3.0285 7.3116\" clip-path=\"url(#pe815d3b368)\" fill=\"none\" stroke=\"#ffffff\" stroke-width=\"2\"/><path d=\"m242.72 149.23h29.543v-29.543h-29.543z\" clip-path=\"url(#pe815d3b368)\" stroke=\"#000000\" stroke-width=\"1.5\"/><path d=\"m267.83 138.89c0-2.7413-1.0901-5.3732-3.0285-7.3116s-4.5702-3.0285-7.3116-3.0285-5.3732 1.0901-7.3116 3.0285c-1.9384 1.9384-3.0285 4.5702-3.0285 7.3116\" clip-path=\"url(#pe815d3b368)\" fill=\"none\" stroke=\"#ffffff\" stroke-width=\"2\"/><path d=\"m288.17 194.69h29.543v-29.543h-29.543z\" clip-path=\"url(#pe815d3b368)\" stroke=\"#000000\" stroke-width=\"1.5\"/><path d=\"m313.28 184.35c0-2.7413-1.0901-5.3732-3.0285-7.3116s-4.5702-3.0285-7.3116-3.0285-5.3732 1.0901-7.3116 3.0285c-1.9384 1.9384-3.0285 4.5702-3.0285 7.3116\" clip-path=\"url(#pe815d3b368)\" fill=\"none\" stroke=\"#ffffff\" stroke-width=\"2\"/><path d=\"m333.62 240.14h29.543v-29.543h-29.543z\" clip-path=\"url(#pe815d3b368)\" stroke=\"#000000\" stroke-width=\"1.5\"/><path d=\"m358.73 229.8c0-2.7413-1.0901-5.3732-3.0285-7.3116s-4.5702-3.0285-7.3116-3.0285-5.3732 1.0901-7.3116 3.0285c-1.9384 1.9384-3.0285 4.5702-3.0285 7.3116\" clip-path=\"url(#pe815d3b368)\" fill=\"none\" stroke=\"#ffffff\" stroke-width=\"2\"/><path d=\"m379.07 285.59h29.543v-29.543h-29.543z\" clip-path=\"url(#pe815d3b368)\" stroke=\"#000000\" stroke-width=\"1.5\"/><path d=\"m404.18 275.25c0-2.7413-1.0901-5.3732-3.0285-7.3116s-4.5702-3.0285-7.3116-3.0285-5.3732 1.0901-7.3116 3.0285c-1.9384 1.9384-3.0285 4.5702-3.0285 7.3116\" clip-path=\"url(#pe815d3b368)\" fill=\"none\" stroke=\"#ffffff\" stroke-width=\"2\"/><path d=\"m424.52 331.04h29.543v-29.543h-29.543z\" clip-path=\"url(#pe815d3b368)\" stroke=\"#000000\" stroke-width=\"1.5\"/><path d=\"m449.63 320.7c0-2.7413-1.0901-5.3732-3.0285-7.3116s-4.5702-3.0285-7.3116-3.0285-5.3732 1.0901-7.3116 3.0285c-1.9384 1.9384-3.0285 4.5702-3.0285 7.3116\" clip-path=\"url(#pe815d3b368)\" fill=\"none\" stroke=\"#ffffff\" stroke-width=\"2\"/><path d=\"m469.97 376.49h29.543v-29.543h-29.543z\" clip-path=\"url(#pe815d3b368)\" stroke=\"#000000\" stroke-width=\"1.5\"/><path d=\"m495.08 366.15c0-2.7413-1.0901-5.3732-3.0285-7.3116s-4.5702-3.0285-7.3116-3.0285-5.3732 1.0901-7.3116 3.0285c-1.9384 1.9384-3.0285 4.5702-3.0285 7.3116\" clip-path=\"url(#pe815d3b368)\" fill=\"none\" stroke=\"#ffffff\" stroke-width=\"2\"/><path d=\"m166.59 47.992 10.34-10.34\" clip-path=\"url(#pe815d3b368)\" fill=\"none\" stroke=\"#ffffff\" stroke-linecap=\"square\" stroke-width=\"2\"/><path d=\"m212.04 93.443 10.34-10.34\" clip-path=\"url(#pe815d3b368)\" fill=\"none\" stroke=\"#ffffff\" stroke-linecap=\"square\" stroke-width=\"2\"/><path d=\"m257.49 138.89 10.34-10.34\" clip-path=\"url(#pe815d3b368)\" fill=\"none\" stroke=\"#ffffff\" stroke-linecap=\"square\" stroke-width=\"2\"/><path d=\"m302.94 184.35 10.34-10.34\" clip-path=\"url(#pe815d3b368)\" fill=\"none\" stroke=\"#ffffff\" stroke-linecap=\"square\" stroke-width=\"2\"/><path d=\"m348.39 229.8 10.34-10.34\" clip-path=\"url(#pe815d3b368)\" fill=\"none\" stroke=\"#ffffff\" stroke-linecap=\"square\" stroke-width=\"2\"/><path d=\"m393.84 275.25 10.34-10.34\" clip-path=\"url(#pe815d3b368)\" fill=\"none\" stroke=\"#ffffff\" stroke-linecap=\"square\" stroke-width=\"2\"/><path d=\"m439.29 320.7 10.34-10.34\" clip-path=\"url(#pe815d3b368)\" fill=\"none\" stroke=\"#ffffff\" stroke-linecap=\"square\" stroke-width=\"2\"/><path d=\"m484.74 366.15 10.34-10.34\" clip-path=\"url(#pe815d3b368)\" fill=\"none\" stroke=\"#ffffff\" stroke-linecap=\"square\" stroke-width=\"2\"/><path d=\"m121.14 20.835v45.451\" clip-path=\"url(#pe815d3b368)\" fill=\"none\" stroke=\"#000000\" stroke-dasharray=\"3.7,1.6\"/><path d=\"m121.14 66.286v45.451\" clip-path=\"url(#pe815d3b368)\" fill=\"none\" stroke=\"#000000\" stroke-dasharray=\"3.7,1.6\"/><path d=\"m121.14 111.74v45.451\" clip-path=\"url(#pe815d3b368)\" fill=\"none\" stroke=\"#000000\" stroke-dasharray=\"3.7,1.6\"/><path d=\"m121.14 157.19v45.451\" clip-path=\"url(#pe815d3b368)\" fill=\"none\" stroke=\"#000000\" stroke-dasharray=\"3.7,1.6\"/><path d=\"m121.14 202.64v45.451\" clip-path=\"url(#pe815d3b368)\" fill=\"none\" stroke=\"#000000\" stroke-dasharray=\"3.7,1.6\"/><path d=\"m121.14 248.09v45.451\" clip-path=\"url(#pe815d3b368)\" fill=\"none\" stroke=\"#000000\" stroke-dasharray=\"3.7,1.6\"/><path d=\"m121.14 293.54v45.451\" clip-path=\"url(#pe815d3b368)\" fill=\"none\" stroke=\"#000000\" stroke-dasharray=\"3.7,1.6\"/><path d=\"m121.14 338.99v45.451\" clip-path=\"url(#pe815d3b368)\" fill=\"none\" stroke=\"#000000\" stroke-dasharray=\"3.7,1.6\"/><g clip-path=\"url(#pe815d3b368)\"><g transform=\"translate(177.95 400.46) scale(.104 -.104)\"><defs><path id=\"DejaVuSans-30\" transform=\"scale(.015625)\" d=\"m2034 4250q-487 0-733-480-245-479-245-1442 0-959 245-1439 246-480 733-480 491 0 736 480 246 480 246 1439 0 963-246 1442-245 480-736 480zm0 500q785 0 1199-621 414-620 414-1801 0-1178-414-1799-414-620-1199-620-784 0-1198 620-414 621-414 1799 0 1181 414 1801 414 621 1198 621z\"/></defs><use xlink:href=\"#DejaVuSans-30\"/></g></g><g clip-path=\"url(#pe815d3b368)\"><g transform=\"translate(223.4 400.46) scale(.104 -.104)\"><defs><path id=\"DejaVuSans-31\" transform=\"scale(.015625)\" d=\"m794 531h1031v3560l-1122-225v575l1116 225h631v-4135h1031v-531h-2687v531z\"/></defs><use xlink:href=\"#DejaVuSans-31\"/></g></g><g clip-path=\"url(#pe815d3b368)\"><g transform=\"translate(268.85 400.46) scale(.104 -.104)\"><defs><path id=\"DejaVuSans-32\" transform=\"scale(.015625)\" d=\"m1228 531h2203v-531h-2962v531q359 372 979 998 621 627 780 809 303 340 423 576 121 236 121 464 0 372-261 606-261 235-680 235-297 0-627-103-329-103-704-313v638q381 153 712 231 332 78 607 78 725 0 1156-363 431-362 431-968 0-288-108-546-107-257-392-607-78-91-497-524-418-433-1181-1211z\"/></defs><use xlink:href=\"#DejaVuSans-32\"/></g></g><g clip-path=\"url(#pe815d3b368)\"><g transform=\"translate(314.3 400.46) scale(.104 -.104)\"><defs><path id=\"DejaVuSans-33\" transform=\"scale(.015625)\" d=\"m2597 2516q453-97 707-404 255-306 255-756 0-690-475-1069-475-378-1350-378-293 0-604 58t-642 174v609q262-153 574-231 313-78 654-78 593 0 904 234t311 681q0 413-289 645-289 233-804 233h-544v519h569q465 0 712 186t247 536q0 359-255 551-254 193-729 193-260 0-557-57-297-56-653-174v562q360 100 674 150t592 50q719 0 1137-327 419-326 419-882 0-388-222-655t-631-370z\"/></defs><use xlink:href=\"#DejaVuSans-33\"/></g></g><g clip-path=\"url(#pe815d3b368)\"><g transform=\"translate(359.75 400.46) scale(.104 -.104)\"><defs><path id=\"DejaVuSans-34\" transform=\"scale(.015625)\" d=\"m2419 4116-1594-2491h1594v2491zm-166 550h794v-3041h666v-525h-666v-1100h-628v1100h-2106v609l1940 2957z\"/></defs><use xlink:href=\"#DejaVuSans-34\"/></g></g><g clip-path=\"url(#pe815d3b368)\"><g transform=\"translate(405.2 400.46) scale(.104 -.104)\"><defs><path id=\"DejaVuSans-35\" transform=\"scale(.015625)\" d=\"m691 4666h2478v-532h-1900v-1143q137 47 274 70 138 23 276 23 781 0 1237-428 457-428 457-1159 0-753-469-1171-469-417-1322-417-294 0-599 50-304 50-629 150v635q281-153 581-228t634-75q541 0 856 284 316 284 316 772 0 487-316 771-315 285-856 285-253 0-505-56-251-56-513-175v2344z\"/></defs><use xlink:href=\"#DejaVuSans-35\"/></g></g><g clip-path=\"url(#pe815d3b368)\"><g transform=\"translate(450.66 400.46) scale(.104 -.104)\"><defs><path id=\"DejaVuSans-36\" transform=\"scale(.015625)\" d=\"m2113 2584q-425 0-674-291-248-290-248-796 0-503 248-796 249-292 674-292t673 292q248 293 248 796 0 506-248 796-248 291-673 291zm1253 1979v-575q-238 112-480 171-242 60-480 60-625 0-955-422-329-422-376-1275 184 272 462 417 279 145 613 145 703 0 1111-427 408-426 408-1160 0-719-425-1154-425-434-1131-434-810 0-1238 620-428 621-428 1799 0 1106 525 1764t1409 658q238 0 480-47t505-140z\"/></defs><use xlink:href=\"#DejaVuSans-36\"/></g></g><g clip-path=\"url(#pe815d3b368)\"><g transform=\"translate(496.11 400.46) scale(.104 -.104)\"><defs><path id=\"DejaVuSans-37\" transform=\"scale(.015625)\" d=\"m525 4666h3e3v-269l-1694-4397h-659l1594 4134h-2241v532z\"/></defs><use xlink:href=\"#DejaVuSans-37\"/></g></g><g clip-path=\"url(#pe815d3b368)\"><g transform=\"translate(34.852 47.867) scale(.1625 -.1625)\"><defs><path id=\"DejaVuSans-Oblique-71\" transform=\"scale(.015625)\" d=\"m2669 525q-231-303-546-460-314-156-695-156-531 0-833 358-301 358-301 986 0 506 186 978t533 847q225 244 517 375t614 131q387 0 637-153t363-462l100 525h578l-934-4813h-579l360 1844zm-1778 813q0-463 193-705 194-242 560-242 544 0 928 520t384 1264q0 450-199 689-198 239-569 239-272 0-504-127-231-126-403-370-181-256-286-600-104-343-104-668z\"/><path id=\"DejaVuSans-7c\" transform=\"scale(.015625)\" d=\"m1344 4891v-6400h-531v6400h531z\"/><path id=\"DejaVuSans-3e\" transform=\"scale(.015625)\" d=\"m678 3150v569l4006-1453v-519l-4006-1453v569l3219 1140-3219 1147z\"/></defs><use transform=\"translate(0 .57812)\" xlink:href=\"#DejaVuSans-Oblique-71\"/><use transform=\"translate(63.477 -15.828) scale(.7)\" xlink:href=\"#DejaVuSans-30\"/><use transform=\"translate(110.75 .57812)\" xlink:href=\"#DejaVuSans-20\"/><use transform=\"translate(142.53 .57812)\" xlink:href=\"#DejaVuSans-7c\"/><use transform=\"translate(176.23 .57812)\" xlink:href=\"#DejaVuSans-30\"/><use transform=\"translate(239.85 .57812)\" xlink:href=\"#DejaVuSans-3e\"/></g></g><g clip-path=\"url(#pe815d3b368)\"><g transform=\"translate(34.852 93.318) scale(.1625 -.1625)\"><use transform=\"translate(0 .57812)\" xlink:href=\"#DejaVuSans-Oblique-71\"/><use transform=\"translate(63.477 -15.828) scale(.7)\" xlink:href=\"#DejaVuSans-31\"/><use transform=\"translate(110.75 .57812)\" xlink:href=\"#DejaVuSans-20\"/><use transform=\"translate(142.53 .57812)\" xlink:href=\"#DejaVuSans-7c\"/><use transform=\"translate(176.23 .57812)\" xlink:href=\"#DejaVuSans-30\"/><use transform=\"translate(239.85 .57812)\" xlink:href=\"#DejaVuSans-3e\"/></g></g><g clip-path=\"url(#pe815d3b368)\"><g transform=\"translate(34.852 138.77) scale(.1625 -.1625)\"><use transform=\"translate(0 .57812)\" xlink:href=\"#DejaVuSans-Oblique-71\"/><use transform=\"translate(63.477 -15.828) scale(.7)\" xlink:href=\"#DejaVuSans-32\"/><use transform=\"translate(110.75 .57812)\" xlink:href=\"#DejaVuSans-20\"/><use transform=\"translate(142.53 .57812)\" xlink:href=\"#DejaVuSans-7c\"/><use transform=\"translate(176.23 .57812)\" xlink:href=\"#DejaVuSans-30\"/><use transform=\"translate(239.85 .57812)\" xlink:href=\"#DejaVuSans-3e\"/></g></g><g clip-path=\"url(#pe815d3b368)\"><g transform=\"translate(34.852 184.22) scale(.1625 -.1625)\"><use transform=\"translate(0 .57812)\" xlink:href=\"#DejaVuSans-Oblique-71\"/><use transform=\"translate(63.477 -15.828) scale(.7)\" xlink:href=\"#DejaVuSans-33\"/><use transform=\"translate(110.75 .57812)\" xlink:href=\"#DejaVuSans-20\"/><use transform=\"translate(142.53 .57812)\" xlink:href=\"#DejaVuSans-7c\"/><use transform=\"translate(176.23 .57812)\" xlink:href=\"#DejaVuSans-30\"/><use transform=\"translate(239.85 .57812)\" xlink:href=\"#DejaVuSans-3e\"/></g></g><g clip-path=\"url(#pe815d3b368)\"><g transform=\"translate(34.852 229.67) scale(.1625 -.1625)\"><use transform=\"translate(0 .57812)\" xlink:href=\"#DejaVuSans-Oblique-71\"/><use transform=\"translate(63.477 -15.828) scale(.7)\" xlink:href=\"#DejaVuSans-34\"/><use transform=\"translate(110.75 .57812)\" xlink:href=\"#DejaVuSans-20\"/><use transform=\"translate(142.53 .57812)\" xlink:href=\"#DejaVuSans-7c\"/><use transform=\"translate(176.23 .57812)\" xlink:href=\"#DejaVuSans-30\"/><use transform=\"translate(239.85 .57812)\" xlink:href=\"#DejaVuSans-3e\"/></g></g><g clip-path=\"url(#pe815d3b368)\"><g transform=\"translate(34.852 275.12) scale(.1625 -.1625)\"><use transform=\"translate(0 .57812)\" xlink:href=\"#DejaVuSans-Oblique-71\"/><use transform=\"translate(63.477 -15.828) scale(.7)\" xlink:href=\"#DejaVuSans-35\"/><use transform=\"translate(110.75 .57812)\" xlink:href=\"#DejaVuSans-20\"/><use transform=\"translate(142.53 .57812)\" xlink:href=\"#DejaVuSans-7c\"/><use transform=\"translate(176.23 .57812)\" xlink:href=\"#DejaVuSans-30\"/><use transform=\"translate(239.85 .57812)\" xlink:href=\"#DejaVuSans-3e\"/></g></g><g clip-path=\"url(#pe815d3b368)\"><g transform=\"translate(34.852 320.57) scale(.1625 -.1625)\"><use transform=\"translate(0 .57812)\" xlink:href=\"#DejaVuSans-Oblique-71\"/><use transform=\"translate(63.477 -15.828) scale(.7)\" xlink:href=\"#DejaVuSans-36\"/><use transform=\"translate(110.75 .57812)\" xlink:href=\"#DejaVuSans-20\"/><use transform=\"translate(142.53 .57812)\" xlink:href=\"#DejaVuSans-7c\"/><use transform=\"translate(176.23 .57812)\" xlink:href=\"#DejaVuSans-30\"/><use transform=\"translate(239.85 .57812)\" xlink:href=\"#DejaVuSans-3e\"/></g></g><g clip-path=\"url(#pe815d3b368)\"><g transform=\"translate(34.852 366.02) scale(.1625 -.1625)\"><use transform=\"translate(0 .57812)\" xlink:href=\"#DejaVuSans-Oblique-71\"/><use transform=\"translate(63.477 -15.828) scale(.7)\" xlink:href=\"#DejaVuSans-37\"/><use transform=\"translate(110.75 .57812)\" xlink:href=\"#DejaVuSans-20\"/><use transform=\"translate(142.53 .57812)\" xlink:href=\"#DejaVuSans-7c\"/><use transform=\"translate(176.23 .57812)\" xlink:href=\"#DejaVuSans-30\"/><use transform=\"translate(239.85 .57812)\" xlink:href=\"#DejaVuSans-3e\"/></g></g><g clip-path=\"url(#pe815d3b368)\"><g transform=\"translate(101.14 400.46) scale(.104 -.104)\"><defs><path id=\"DejaVuSans-38\" transform=\"scale(.015625)\" d=\"m2034 2216q-450 0-708-241-257-241-257-662 0-422 257-663 258-241 708-241t709 242q260 243 260 662 0 421-258 662-257 241-711 241zm-631 268q-406 100-633 378-226 279-226 679 0 559 398 884 399 325 1092 325 697 0 1094-325t397-884q0-400-227-679-226-278-629-378 456-106 710-416 255-309 255-755 0-679-414-1042-414-362-1186-362-771 0-1186 362-414 363-414 1042 0 446 256 755 257 310 713 416zm-231 997q0-362 226-565 227-203 636-203 407 0 636 203 230 203 230 565 0 363-230 566-229 203-636 203-409 0-636-203-226-203-226-566z\"/></defs><use xlink:href=\"#DejaVuSans-38\"/></g></g><g clip-path=\"url(#pe815d3b368)\"><g transform=\"translate(27.748 411.65) scale(.1625 -.1625)\"><defs><path id=\"DejaVuSans-6d\" transform=\"scale(.015625)\" d=\"m3328 2828q216 388 516 572t706 184q547 0 844-383 297-382 297-1088v-2113h-578v2094q0 503-179 746-178 244-543 244-447 0-707-297-259-296-259-809v-1978h-578v2094q0 506-178 748t-550 242q-441 0-701-298-259-298-259-808v-1978h-578v3500h578v-544q197 322 472 475t653 153q382 0 649-194 267-193 395-562z\"/><path id=\"DejaVuSans-65\" transform=\"scale(.015625)\" d=\"m3597 1894v-281h-2644q38-594 358-905t892-311q331 0 642 81t618 244v-544q-310-131-635-200t-659-69q-838 0-1327 487-489 488-489 1320 0 859 464 1363 464 505 1252 505 706 0 1117-455 411-454 411-1235zm-575 169q-6 471-264 752-258 282-683 282-481 0-770-272t-333-766l2050 4z\"/><path id=\"DejaVuSans-61\" transform=\"scale(.015625)\" d=\"m2194 1759q-697 0-966-159t-269-544q0-306 202-486 202-179 548-179 479 0 768 339t289 901v128h-572zm1147 238v-1997h-575v531q-197-318-491-470t-719-152q-537 0-855 302-317 302-317 808 0 590 395 890 396 300 1180 300h807v57q0 397-261 614t-733 217q-300 0-585-72-284-72-546-216v532q315 122 612 182 297 61 578 61 760 0 1135-394 375-393 375-1193z\"/><path id=\"DejaVuSans-73\" transform=\"scale(.015625)\" d=\"m2834 3397v-544q-243 125-506 187-262 63-544 63-428 0-642-131t-214-394q0-200 153-314t616-217l197-44q612-131 870-370t258-667q0-488-386-773-386-284-1061-284-281 0-586 55t-642 164v594q319-166 628-249 309-82 613-82 406 0 624 139 219 139 219 392 0 234-158 359-157 125-692 241l-200 47q-534 112-772 345-237 233-237 639 0 494 350 762 350 269 994 269 318 0 599-47 282-46 519-140z\"/></defs><use xlink:href=\"#DejaVuSans-6d\"/><use x=\"97.412109\" xlink:href=\"#DejaVuSans-65\"/><use x=\"158.935547\" xlink:href=\"#DejaVuSans-61\"/><use x=\"220.214844\" xlink:href=\"#DejaVuSans-73\"/><use x=\"272.314453\" xlink:href=\"#DejaVuSans-20\"/><use x=\"304.101562\" xlink:href=\"#DejaVuSans-30\"/></g></g><defs><clipPath id=\"pe815d3b368\"><rect x=\"7.2\" y=\"7.2\" width=\"507.54\" height=\"427.24\"/></clipPath></defs></svg>"
            ],
            "text/plain": [
              "<Figure size 672.241x565.88 with 1 Axes>"
            ]
          },
          "execution_count": 5,
          "metadata": {
          },
          "output_type": "execute_result"
        }
      ],
      "source": [
        "qc_output.draw(initial_state=True) "
      ]
    },
    {
      "cell_type": "markdown",
      "metadata": {
      },
      "source": [
        "Los qubits siempre se inicializan para dar la salida `0`. Dado que no hacemos nada con nuestros qubits en el circuito anterior, este es exactamente el resultado que obtendremos cuando los midamos. Podemos ver esto ejecutando el circuito muchas veces y graficando los resultados en un histograma. Veremos que el resultado siempre es `00000000`: un `0` por cada qubit."
      ]
    },
    {
      "cell_type": "code",
      "execution_count": 6,
      "metadata": {
      },
      "outputs": [
        {
          "data": {
            "image/svg+xml": [
              "<?xml version=\"1.0\" encoding=\"UTF-8\"?><!DOCTYPE svg  PUBLIC '-//W3C//DTD SVG 1.1//EN'  'http://www.w3.org/Graphics/SVG/1.1/DTD/svg11.dtd'><svg width=\"460.72pt\" height=\"364.8pt\" version=\"1.1\" viewBox=\"0 0 460.72 364.8\" xmlns=\"http://www.w3.org/2000/svg\" xmlns:xlink=\"http://www.w3.org/1999/xlink\"><defs><style type=\"text/css\">*{stroke-linecap:butt;stroke-linejoin:round;}</style></defs><path d=\"m0 364.8h460.72v-364.8h-460.72z\" fill=\"none\"/><path d=\"m62.921 279h390.6v-271.8h-390.6z\" fill=\"#ffffff\"/><defs><path id=\"mbe343afcd1\" d=\"m0 0v3.5\" stroke=\"#000000\" stroke-width=\".8\"/></defs><use x=\"258.22125\" y=\"279\" stroke=\"#000000\" stroke-width=\".8\" xlink:href=\"#mbe343afcd1\"/><g transform=\"translate(249.67 356.6) rotate(-70) scale(.14 -.14)\"><defs><path id=\"DejaVuSans-30\" transform=\"scale(.015625)\" d=\"m2034 4250q-487 0-733-480-245-479-245-1442 0-959 245-1439 246-480 733-480 491 0 736 480 246 480 246 1439 0 963-246 1442-245 480-736 480zm0 500q785 0 1199-621 414-620 414-1801 0-1178-414-1799-414-620-1199-620-784 0-1198 620-414 621-414 1799 0 1181 414 1801 414 621 1198 621z\"/></defs><use xlink:href=\"#DejaVuSans-30\"/><use x=\"63.623047\" xlink:href=\"#DejaVuSans-30\"/><use x=\"127.246094\" xlink:href=\"#DejaVuSans-30\"/><use x=\"190.869141\" xlink:href=\"#DejaVuSans-30\"/><use x=\"254.492188\" xlink:href=\"#DejaVuSans-30\"/><use x=\"318.115234\" xlink:href=\"#DejaVuSans-30\"/><use x=\"381.738281\" xlink:href=\"#DejaVuSans-30\"/><use x=\"445.361328\" xlink:href=\"#DejaVuSans-30\"/></g><path d=\"m62.921 279h390.6\" clip-path=\"url(#pa205c310c0)\" fill=\"none\" stroke=\"#b0b0b0\" stroke-dasharray=\"2.96,1.28\" stroke-width=\".8\"/><defs><path id=\"m6d38be090a\" d=\"m0 0h-3.5\" stroke=\"#000000\" stroke-width=\".8\"/></defs><use x=\"62.92125\" y=\"279\" stroke=\"#000000\" stroke-width=\".8\" xlink:href=\"#m6d38be090a\"/><g transform=\"translate(24.749 284.32) scale(.14 -.14)\"><defs><path id=\"DejaVuSans-2e\" transform=\"scale(.015625)\" d=\"m684 794h660v-794h-660v794z\"/></defs><use xlink:href=\"#DejaVuSans-30\"/><use x=\"63.623047\" xlink:href=\"#DejaVuSans-2e\"/><use x=\"95.410156\" xlink:href=\"#DejaVuSans-30\"/><use x=\"159.033203\" xlink:href=\"#DejaVuSans-30\"/></g><path d=\"m62.921 222.38h390.6\" clip-path=\"url(#pa205c310c0)\" fill=\"none\" stroke=\"#b0b0b0\" stroke-dasharray=\"2.96,1.28\" stroke-width=\".8\"/><use x=\"62.92125\" y=\"222.375\" stroke=\"#000000\" stroke-width=\".8\" xlink:href=\"#m6d38be090a\"/><g transform=\"translate(24.749 227.69) scale(.14 -.14)\"><defs><path id=\"DejaVuSans-32\" transform=\"scale(.015625)\" d=\"m1228 531h2203v-531h-2962v531q359 372 979 998 621 627 780 809 303 340 423 576 121 236 121 464 0 372-261 606-261 235-680 235-297 0-627-103-329-103-704-313v638q381 153 712 231 332 78 607 78 725 0 1156-363 431-362 431-968 0-288-108-546-107-257-392-607-78-91-497-524-418-433-1181-1211z\"/><path id=\"DejaVuSans-35\" transform=\"scale(.015625)\" d=\"m691 4666h2478v-532h-1900v-1143q137 47 274 70 138 23 276 23 781 0 1237-428 457-428 457-1159 0-753-469-1171-469-417-1322-417-294 0-599 50-304 50-629 150v635q281-153 581-228t634-75q541 0 856 284 316 284 316 772 0 487-316 771-315 285-856 285-253 0-505-56-251-56-513-175v2344z\"/></defs><use xlink:href=\"#DejaVuSans-30\"/><use x=\"63.623047\" xlink:href=\"#DejaVuSans-2e\"/><use x=\"95.410156\" xlink:href=\"#DejaVuSans-32\"/><use x=\"159.033203\" xlink:href=\"#DejaVuSans-35\"/></g><path d=\"m62.921 165.75h390.6\" clip-path=\"url(#pa205c310c0)\" fill=\"none\" stroke=\"#b0b0b0\" stroke-dasharray=\"2.96,1.28\" stroke-width=\".8\"/><use x=\"62.92125\" y=\"165.75\" stroke=\"#000000\" stroke-width=\".8\" xlink:href=\"#m6d38be090a\"/><g transform=\"translate(24.749 171.07) scale(.14 -.14)\"><use xlink:href=\"#DejaVuSans-30\"/><use x=\"63.623047\" xlink:href=\"#DejaVuSans-2e\"/><use x=\"95.410156\" xlink:href=\"#DejaVuSans-35\"/><use x=\"159.033203\" xlink:href=\"#DejaVuSans-30\"/></g><path d=\"m62.921 109.12h390.6\" clip-path=\"url(#pa205c310c0)\" fill=\"none\" stroke=\"#b0b0b0\" stroke-dasharray=\"2.96,1.28\" stroke-width=\".8\"/><use x=\"62.92125\" y=\"109.125\" stroke=\"#000000\" stroke-width=\".8\" xlink:href=\"#m6d38be090a\"/><g transform=\"translate(24.749 114.44) scale(.14 -.14)\"><defs><path id=\"DejaVuSans-37\" transform=\"scale(.015625)\" d=\"m525 4666h3e3v-269l-1694-4397h-659l1594 4134h-2241v532z\"/></defs><use xlink:href=\"#DejaVuSans-30\"/><use x=\"63.623047\" xlink:href=\"#DejaVuSans-2e\"/><use x=\"95.410156\" xlink:href=\"#DejaVuSans-37\"/><use x=\"159.033203\" xlink:href=\"#DejaVuSans-35\"/></g><path d=\"m62.921 52.5h390.6\" clip-path=\"url(#pa205c310c0)\" fill=\"none\" stroke=\"#b0b0b0\" stroke-dasharray=\"2.96,1.28\" stroke-width=\".8\"/><use x=\"62.92125\" y=\"52.5\" stroke=\"#000000\" stroke-width=\".8\" xlink:href=\"#m6d38be090a\"/><g transform=\"translate(24.749 57.819) scale(.14 -.14)\"><defs><path id=\"DejaVuSans-31\" transform=\"scale(.015625)\" d=\"m794 531h1031v3560l-1122-225v575l1116 225h631v-4135h1031v-531h-2687v531z\"/></defs><use xlink:href=\"#DejaVuSans-31\"/><use x=\"63.623047\" xlink:href=\"#DejaVuSans-2e\"/><use x=\"95.410156\" xlink:href=\"#DejaVuSans-30\"/><use x=\"159.033203\" xlink:href=\"#DejaVuSans-30\"/></g><g transform=\"translate(17.838 185.86) rotate(-90) scale(.14 -.14)\"><defs><path id=\"DejaVuSans-50\" transform=\"scale(.015625)\" d=\"m1259 4147v-1753h794q441 0 681 228 241 228 241 650 0 419-241 647-240 228-681 228h-794zm-631 519h1425q785 0 1186-355 402-355 402-1039 0-691-402-1044-401-353-1186-353h-794v-1875h-631v4666z\"/><path id=\"DejaVuSans-72\" transform=\"scale(.015625)\" d=\"m2631 2963q-97 56-211 82-114 27-251 27-488 0-749-317t-261-911v-1844h-578v3500h578v-544q182 319 472 473 291 155 707 155 59 0 131-8 72-7 159-23l3-590z\"/><path id=\"DejaVuSans-6f\" transform=\"scale(.015625)\" d=\"m1959 3097q-462 0-731-361t-269-989 267-989q268-361 733-361 460 0 728 362 269 363 269 988 0 622-269 986-268 364-728 364zm0 487q750 0 1178-488 429-487 429-1349 0-859-429-1349-428-489-1178-489-753 0-1180 489-426 490-426 1349 0 862 426 1349 427 488 1180 488z\"/><path id=\"DejaVuSans-62\" transform=\"scale(.015625)\" d=\"m3116 1747q0 634-261 995t-717 361q-457 0-718-361t-261-995 261-995 718-361q456 0 717 361t261 995zm-1957 1222q182 312 458 463 277 152 661 152 638 0 1036-506 399-506 399-1331t-399-1332q-398-506-1036-506-384 0-661 152-276 152-458 464v-525h-578v4863h578v-1894z\"/><path id=\"DejaVuSans-61\" transform=\"scale(.015625)\" d=\"m2194 1759q-697 0-966-159t-269-544q0-306 202-486 202-179 548-179 479 0 768 339t289 901v128h-572zm1147 238v-1997h-575v531q-197-318-491-470t-719-152q-537 0-855 302-317 302-317 808 0 590 395 890 396 300 1180 300h807v57q0 397-261 614t-733 217q-300 0-585-72-284-72-546-216v532q315 122 612 182 297 61 578 61 760 0 1135-394 375-393 375-1193z\"/><path id=\"DejaVuSans-69\" transform=\"scale(.015625)\" d=\"m603 3500h575v-3500h-575v3500zm0 1363h575v-729h-575v729z\"/><path id=\"DejaVuSans-6c\" transform=\"scale(.015625)\" d=\"m603 4863h575v-4863h-575v4863z\"/><path id=\"DejaVuSans-74\" transform=\"scale(.015625)\" d=\"m1172 4494v-994h1184v-447h-1184v-1900q0-428 117-550t477-122h590v-481h-590q-666 0-919 248-253 249-253 905v1900h-422v447h422v994h578z\"/><path id=\"DejaVuSans-65\" transform=\"scale(.015625)\" d=\"m3597 1894v-281h-2644q38-594 358-905t892-311q331 0 642 81t618 244v-544q-310-131-635-200t-659-69q-838 0-1327 487-489 488-489 1320 0 859 464 1363 464 505 1252 505 706 0 1117-455 411-454 411-1235zm-575 169q-6 471-264 752-258 282-683 282-481 0-770-272t-333-766l2050 4z\"/><path id=\"DejaVuSans-73\" transform=\"scale(.015625)\" d=\"m2834 3397v-544q-243 125-506 187-262 63-544 63-428 0-642-131t-214-394q0-200 153-314t616-217l197-44q612-131 870-370t258-667q0-488-386-773-386-284-1061-284-281 0-586 55t-642 164v594q319-166 628-249 309-82 613-82 406 0 624 139 219 139 219 392 0 234-158 359-157 125-692 241l-200 47q-534 112-772 345-237 233-237 639 0 494 350 762 350 269 994 269 318 0 599-47 282-46 519-140z\"/></defs><use xlink:href=\"#DejaVuSans-50\"/><use x=\"58.552734\" xlink:href=\"#DejaVuSans-72\"/><use x=\"97.416016\" xlink:href=\"#DejaVuSans-6f\"/><use x=\"158.597656\" xlink:href=\"#DejaVuSans-62\"/><use x=\"222.074219\" xlink:href=\"#DejaVuSans-61\"/><use x=\"283.353516\" xlink:href=\"#DejaVuSans-62\"/><use x=\"346.830078\" xlink:href=\"#DejaVuSans-69\"/><use x=\"374.613281\" xlink:href=\"#DejaVuSans-6c\"/><use x=\"402.396484\" xlink:href=\"#DejaVuSans-69\"/><use x=\"430.179688\" xlink:href=\"#DejaVuSans-74\"/><use x=\"469.388672\" xlink:href=\"#DejaVuSans-69\"/><use x=\"497.171875\" xlink:href=\"#DejaVuSans-65\"/><use x=\"558.695312\" xlink:href=\"#DejaVuSans-73\"/></g><path d=\"m80.676 279h355.09v-226.5h-355.09z\" clip-path=\"url(#pa205c310c0)\" fill=\"#648fff\"/><path d=\"m62.921 279v-271.8\" fill=\"none\" stroke=\"#000000\" stroke-linecap=\"square\" stroke-width=\".8\"/><path d=\"m453.52 279v-271.8\" fill=\"none\" stroke=\"#000000\" stroke-linecap=\"square\" stroke-width=\".8\"/><path d=\"m62.921 279h390.6\" fill=\"none\" stroke=\"#000000\" stroke-linecap=\"square\" stroke-width=\".8\"/><path d=\"m62.921 7.2h390.6\" fill=\"none\" stroke=\"#000000\" stroke-linecap=\"square\" stroke-width=\".8\"/><g transform=\"translate(243.91 39.095) scale(.1 -.1)\"><use xlink:href=\"#DejaVuSans-31\"/><use x=\"63.623047\" xlink:href=\"#DejaVuSans-2e\"/><use x=\"95.410156\" xlink:href=\"#DejaVuSans-30\"/><use x=\"159.033203\" xlink:href=\"#DejaVuSans-30\"/><use x=\"222.65625\" xlink:href=\"#DejaVuSans-30\"/></g><defs><clipPath id=\"pa205c310c0\"><rect x=\"62.921\" y=\"7.2\" width=\"390.6\" height=\"271.8\"/></clipPath></defs></svg>"
            ],
            "text/plain": [
              "<Figure size 504x360 with 1 Axes>"
            ]
          },
          "execution_count": 6,
          "metadata": {
          },
          "output_type": "execute_result"
        }
      ],
      "source": [
        "sim = Aer.get_backend('aer_simulator') \n",
        "result = sim.run(qc_output).result()\n",
        "counts = result.get_counts()\n",
        "plot_histogram(counts)"
      ]
    },
    {
      "cell_type": "markdown",
      "metadata": {
      },
      "source": [
        "La razón para ejecutar muchas veces y mostrar el resultado como un histograma es que las computadoras cuánticas pueden tener cierta aleatoriedad en sus resultados. En este caso, dado que no estamos haciendo nada cuántico, solo obtenemos el resultado `00000000` con certeza.\n",
        "\n",
        "Ten en cuenta que este resultado proviene de un simulador cuántico, que es una computadora estándar que calcula lo que haría una computadora cuántica ideal. Las simulaciones solo son posibles para una pequeña cantidad de qubits (~30 qubits), pero, sin embargo, son una herramienta muy útil al diseñar tus primeros circuitos cuánticos. Para ejecutarlo en un dispositivo real, solo necesitas reemplazar `Aer.get_backend('aer_simulator')` con el objeto de backend del dispositivo que deseas usar. "
      ]
    },
    {
      "cell_type": "markdown",
      "metadata": {
      },
      "source": [
        "## 4. Ejemplo: Creación de un Circuito Sumador <a id=\"adder\"></a>\n",
        "\n",
        "### 4.1 Codificar una entrada <a id=\"encoding\"></a>\n",
        "\n",
        "Ahora veamos cómo codificar una cadena binaria diferente como entrada. Para ello necesitamos lo que se conoce como compuerta NOT. Esta es la operación más básica que puedes hacer en una computadora. Simplemente cambia el valor del bit: `0` se convierte en `1` y `1` se convierte en `0`. Para qubits, es una operación llamada `x` que hace el trabajo del NOT.\n",
        "\n",
        "A continuación, creamos un nuevo circuito dedicado al trabajo de codificación y lo llamamos `qc_encode`. Por ahora, solo especificamos el número de qubits."
      ]
    },
    {
      "cell_type": "code",
      "execution_count": 7,
      "metadata": {
      },
      "outputs": [
        {
          "data": {
            "image/svg+xml": [
              "<?xml version=\"1.0\" encoding=\"UTF-8\"?><!DOCTYPE svg  PUBLIC '-//W3C//DTD SVG 1.1//EN'  'http://www.w3.org/Graphics/SVG/1.1/DTD/svg11.dtd'><svg width=\"125.23pt\" height=\"396.19pt\" version=\"1.1\" viewBox=\"0 0 125.23 396.19\" xmlns=\"http://www.w3.org/2000/svg\" xmlns:xlink=\"http://www.w3.org/1999/xlink\"><defs><style type=\"text/css\">*{stroke-linecap:butt;stroke-linejoin:round;}</style></defs><path d=\"m0 396.19h125.23v-396.19h-125.23z\" fill=\"#ffffff\"/><path d=\"m63.491 43.561h49.996\" clip-path=\"url(#pdd02188ee0)\" fill=\"none\" stroke=\"#000000\" stroke-linecap=\"square\" stroke-width=\"2\"/><path d=\"m63.491 89.012h49.996\" clip-path=\"url(#pdd02188ee0)\" fill=\"none\" stroke=\"#000000\" stroke-linecap=\"square\" stroke-width=\"2\"/><path d=\"m63.491 134.46h49.996\" clip-path=\"url(#pdd02188ee0)\" fill=\"none\" stroke=\"#000000\" stroke-linecap=\"square\" stroke-width=\"2\"/><path d=\"m63.491 179.91h49.996\" clip-path=\"url(#pdd02188ee0)\" fill=\"none\" stroke=\"#000000\" stroke-linecap=\"square\" stroke-width=\"2\"/><path d=\"m63.491 225.36h49.996\" clip-path=\"url(#pdd02188ee0)\" fill=\"none\" stroke=\"#000000\" stroke-linecap=\"square\" stroke-width=\"2\"/><path d=\"m63.491 270.82h49.996\" clip-path=\"url(#pdd02188ee0)\" fill=\"none\" stroke=\"#000000\" stroke-linecap=\"square\" stroke-width=\"2\"/><path d=\"m63.491 316.27h49.996\" clip-path=\"url(#pdd02188ee0)\" fill=\"none\" stroke=\"#000000\" stroke-linecap=\"square\" stroke-width=\"2\"/><path d=\"m63.491 361.72h49.996\" clip-path=\"url(#pdd02188ee0)\" fill=\"none\" stroke=\"#000000\" stroke-linecap=\"square\" stroke-width=\"2\"/><path d=\"m73.263 376.49h29.543v-29.543h-29.543z\" clip-path=\"url(#pdd02188ee0)\" fill=\"#05bab6\" stroke=\"#05bab6\" stroke-width=\"1.5\"/><g clip-path=\"url(#pdd02188ee0)\"><g transform=\"translate(83.582 365.3) scale(.13 -.13)\"><defs><path id=\"DejaVuSans-58\" transform=\"scale(.015625)\" d=\"m403 4666h678l1160-1735 1165 1735h678l-1500-2241 1600-2425h-678l-1312 1984-1322-1984h-681l1665 2491-1453 2175z\"/></defs><use xlink:href=\"#DejaVuSans-58\"/></g></g><g clip-path=\"url(#pdd02188ee0)\"><g transform=\"translate(36.363 48.012) scale(.1625 -.1625)\"><defs><path id=\"DejaVuSans-Oblique-71\" transform=\"scale(.015625)\" d=\"m2669 525q-231-303-546-460-314-156-695-156-531 0-833 358-301 358-301 986 0 506 186 978t533 847q225 244 517 375t614 131q387 0 637-153t363-462l100 525h578l-934-4813h-579l360 1844zm-1778 813q0-463 193-705 194-242 560-242 544 0 928 520t384 1264q0 450-199 689-198 239-569 239-272 0-504-127-231-126-403-370-181-256-286-600-104-343-104-668z\"/><path id=\"DejaVuSans-30\" transform=\"scale(.015625)\" d=\"m2034 4250q-487 0-733-480-245-479-245-1442 0-959 245-1439 246-480 733-480 491 0 736 480 246 480 246 1439 0 963-246 1442-245 480-736 480zm0 500q785 0 1199-621 414-620 414-1801 0-1178-414-1799-414-620-1199-620-784 0-1198 620-414 621-414 1799 0 1181 414 1801 414 621 1198 621z\"/></defs><use xlink:href=\"#DejaVuSans-Oblique-71\"/><use transform=\"translate(63.477 -16.406) scale(.7)\" xlink:href=\"#DejaVuSans-30\"/></g></g><g clip-path=\"url(#pdd02188ee0)\"><g transform=\"translate(36.363 93.463) scale(.1625 -.1625)\"><defs><path id=\"DejaVuSans-31\" transform=\"scale(.015625)\" d=\"m794 531h1031v3560l-1122-225v575l1116 225h631v-4135h1031v-531h-2687v531z\"/></defs><use xlink:href=\"#DejaVuSans-Oblique-71\"/><use transform=\"translate(63.477 -16.406) scale(.7)\" xlink:href=\"#DejaVuSans-31\"/></g></g><g clip-path=\"url(#pdd02188ee0)\"><g transform=\"translate(36.363 138.91) scale(.1625 -.1625)\"><defs><path id=\"DejaVuSans-32\" transform=\"scale(.015625)\" d=\"m1228 531h2203v-531h-2962v531q359 372 979 998 621 627 780 809 303 340 423 576 121 236 121 464 0 372-261 606-261 235-680 235-297 0-627-103-329-103-704-313v638q381 153 712 231 332 78 607 78 725 0 1156-363 431-362 431-968 0-288-108-546-107-257-392-607-78-91-497-524-418-433-1181-1211z\"/></defs><use xlink:href=\"#DejaVuSans-Oblique-71\"/><use transform=\"translate(63.477 -16.406) scale(.7)\" xlink:href=\"#DejaVuSans-32\"/></g></g><g clip-path=\"url(#pdd02188ee0)\"><g transform=\"translate(36.363 184.36) scale(.1625 -.1625)\"><defs><path id=\"DejaVuSans-33\" transform=\"scale(.015625)\" d=\"m2597 2516q453-97 707-404 255-306 255-756 0-690-475-1069-475-378-1350-378-293 0-604 58t-642 174v609q262-153 574-231 313-78 654-78 593 0 904 234t311 681q0 413-289 645-289 233-804 233h-544v519h569q465 0 712 186t247 536q0 359-255 551-254 193-729 193-260 0-557-57-297-56-653-174v562q360 100 674 150t592 50q719 0 1137-327 419-326 419-882 0-388-222-655t-631-370z\"/></defs><use xlink:href=\"#DejaVuSans-Oblique-71\"/><use transform=\"translate(63.477 -16.406) scale(.7)\" xlink:href=\"#DejaVuSans-33\"/></g></g><g clip-path=\"url(#pdd02188ee0)\"><g transform=\"translate(36.363 229.82) scale(.1625 -.1625)\"><defs><path id=\"DejaVuSans-34\" transform=\"scale(.015625)\" d=\"m2419 4116-1594-2491h1594v2491zm-166 550h794v-3041h666v-525h-666v-1100h-628v1100h-2106v609l1940 2957z\"/></defs><use xlink:href=\"#DejaVuSans-Oblique-71\"/><use transform=\"translate(63.477 -16.406) scale(.7)\" xlink:href=\"#DejaVuSans-34\"/></g></g><g clip-path=\"url(#pdd02188ee0)\"><g transform=\"translate(36.363 275.27) scale(.1625 -.1625)\"><defs><path id=\"DejaVuSans-35\" transform=\"scale(.015625)\" d=\"m691 4666h2478v-532h-1900v-1143q137 47 274 70 138 23 276 23 781 0 1237-428 457-428 457-1159 0-753-469-1171-469-417-1322-417-294 0-599 50-304 50-629 150v635q281-153 581-228t634-75q541 0 856 284 316 284 316 772 0 487-316 771-315 285-856 285-253 0-505-56-251-56-513-175v2344z\"/></defs><use xlink:href=\"#DejaVuSans-Oblique-71\"/><use transform=\"translate(63.477 -16.406) scale(.7)\" xlink:href=\"#DejaVuSans-35\"/></g></g><g clip-path=\"url(#pdd02188ee0)\"><g transform=\"translate(36.363 320.72) scale(.1625 -.1625)\"><defs><path id=\"DejaVuSans-36\" transform=\"scale(.015625)\" d=\"m2113 2584q-425 0-674-291-248-290-248-796 0-503 248-796 249-292 674-292t673 292q248 293 248 796 0 506-248 796-248 291-673 291zm1253 1979v-575q-238 112-480 171-242 60-480 60-625 0-955-422-329-422-376-1275 184 272 462 417 279 145 613 145 703 0 1111-427 408-426 408-1160 0-719-425-1154-425-434-1131-434-810 0-1238 620-428 621-428 1799 0 1106 525 1764t1409 658q238 0 480-47t505-140z\"/></defs><use xlink:href=\"#DejaVuSans-Oblique-71\"/><use transform=\"translate(63.477 -16.406) scale(.7)\" xlink:href=\"#DejaVuSans-36\"/></g></g><g clip-path=\"url(#pdd02188ee0)\"><g transform=\"translate(36.363 366.17) scale(.1625 -.1625)\"><defs><path id=\"DejaVuSans-37\" transform=\"scale(.015625)\" d=\"m525 4666h3e3v-269l-1694-4397h-659l1594 4134h-2241v532z\"/></defs><use xlink:href=\"#DejaVuSans-Oblique-71\"/><use transform=\"translate(63.477 -16.406) scale(.7)\" xlink:href=\"#DejaVuSans-37\"/></g></g><defs><clipPath id=\"pdd02188ee0\"><rect x=\"7.2\" y=\"7.2\" width=\"110.83\" height=\"381.79\"/></clipPath></defs></svg>"
            ],
            "text/plain": [
              "<Figure size 146.797x505.68 with 1 Axes>"
            ]
          },
          "execution_count": 7,
          "metadata": {
          },
          "output_type": "execute_result"
        }
      ],
      "source": [
        "qc_encode = QuantumCircuit(8)\n",
        "qc_encode.x(7)\n",
        "qc_encode.draw()"
      ]
    },
    {
      "cell_type": "markdown",
      "metadata": {
      },
      "source": [
        "La extracción de resultados se puede hacer usando el circuito que teníamos antes: `qc_output`."
      ]
    },
    {
      "cell_type": "code",
      "execution_count": 8,
      "metadata": {
      },
      "outputs": [
        {
          "data": {
            "image/svg+xml": [
              "<?xml version=\"1.0\" encoding=\"UTF-8\"?><!DOCTYPE svg  PUBLIC '-//W3C//DTD SVG 1.1//EN'  'http://www.w3.org/Graphics/SVG/1.1/DTD/svg11.dtd'><svg width=\"557.15pt\" height=\"441.64pt\" version=\"1.1\" viewBox=\"0 0 557.15 441.64\" xmlns=\"http://www.w3.org/2000/svg\" xmlns:xlink=\"http://www.w3.org/1999/xlink\"><defs><style type=\"text/css\">*{stroke-linecap:butt;stroke-linejoin:round;}</style></defs><path d=\"m0 441.64h557.15v-441.64h-557.15z\" fill=\"#ffffff\"/><path d=\"m195.89 396.83h11.817l-5.9086 8.5221z\" clip-path=\"url(#p4fc83b5da7)\" fill=\"#778899\"/><path d=\"m241.34 396.83h11.817l-5.9086 8.5221z\" clip-path=\"url(#p4fc83b5da7)\" fill=\"#778899\"/><path d=\"m286.79 396.83h11.817l-5.9086 8.5221z\" clip-path=\"url(#p4fc83b5da7)\" fill=\"#778899\"/><path d=\"m332.24 396.83h11.817l-5.9086 8.5221z\" clip-path=\"url(#p4fc83b5da7)\" fill=\"#778899\"/><path d=\"m377.69 396.83h11.817l-5.9086 8.5221z\" clip-path=\"url(#p4fc83b5da7)\" fill=\"#778899\"/><path d=\"m423.15 396.83h11.817l-5.9086 8.5221z\" clip-path=\"url(#p4fc83b5da7)\" fill=\"#778899\"/><path d=\"m468.6 396.83h11.817l-5.9086 8.5221z\" clip-path=\"url(#p4fc83b5da7)\" fill=\"#778899\"/><path d=\"m514.05 396.83h11.817l-5.9086 8.5221z\" clip-path=\"url(#p4fc83b5da7)\" fill=\"#778899\"/><path d=\"m86.353 43.561h459.06\" clip-path=\"url(#p4fc83b5da7)\" fill=\"none\" stroke=\"#000000\" stroke-linecap=\"square\" stroke-width=\"2\"/><path d=\"m86.353 89.012h459.06\" clip-path=\"url(#p4fc83b5da7)\" fill=\"none\" stroke=\"#000000\" stroke-linecap=\"square\" stroke-width=\"2\"/><path d=\"m86.353 134.46h459.06\" clip-path=\"url(#p4fc83b5da7)\" fill=\"none\" stroke=\"#000000\" stroke-linecap=\"square\" stroke-width=\"2\"/><path d=\"m86.353 179.91h459.06\" clip-path=\"url(#p4fc83b5da7)\" fill=\"none\" stroke=\"#000000\" stroke-linecap=\"square\" stroke-width=\"2\"/><path d=\"m86.353 225.36h459.06\" clip-path=\"url(#p4fc83b5da7)\" fill=\"none\" stroke=\"#000000\" stroke-linecap=\"square\" stroke-width=\"2\"/><path d=\"m86.353 270.82h459.06\" clip-path=\"url(#p4fc83b5da7)\" fill=\"none\" stroke=\"#000000\" stroke-linecap=\"square\" stroke-width=\"2\"/><path d=\"m86.353 316.27h459.06\" clip-path=\"url(#p4fc83b5da7)\" fill=\"none\" stroke=\"#000000\" stroke-linecap=\"square\" stroke-width=\"2\"/><path d=\"m86.353 361.72h459.06\" clip-path=\"url(#p4fc83b5da7)\" fill=\"none\" stroke=\"#000000\" stroke-linecap=\"square\" stroke-width=\"2\"/><path d=\"m86.353 405.69h459.06\" clip-path=\"url(#p4fc83b5da7)\" fill=\"none\" stroke=\"#778899\" stroke-linecap=\"square\" stroke-width=\"2\"/><path d=\"m86.353 408.65h459.06\" clip-path=\"url(#p4fc83b5da7)\" fill=\"none\" stroke=\"#778899\" stroke-linecap=\"square\" stroke-width=\"2\"/><path d=\"m147.48 66.286h17.726v-45.451h-17.726z\" clip-path=\"url(#p4fc83b5da7)\" fill=\"#bdbdbd\" opacity=\".6\"/><path d=\"m147.48 111.74h17.726v-45.451h-17.726z\" clip-path=\"url(#p4fc83b5da7)\" fill=\"#bdbdbd\" opacity=\".6\"/><path d=\"m147.48 157.19h17.726v-45.451h-17.726z\" clip-path=\"url(#p4fc83b5da7)\" fill=\"#bdbdbd\" opacity=\".6\"/><path d=\"m147.48 202.64h17.726v-45.451h-17.726z\" clip-path=\"url(#p4fc83b5da7)\" fill=\"#bdbdbd\" opacity=\".6\"/><path d=\"m147.48 248.09h17.726v-45.451h-17.726z\" clip-path=\"url(#p4fc83b5da7)\" fill=\"#bdbdbd\" opacity=\".6\"/><path d=\"m147.48 293.54h17.726v-45.451h-17.726z\" clip-path=\"url(#p4fc83b5da7)\" fill=\"#bdbdbd\" opacity=\".6\"/><path d=\"m147.48 338.99h17.726v-45.451h-17.726z\" clip-path=\"url(#p4fc83b5da7)\" fill=\"#bdbdbd\" opacity=\".6\"/><path d=\"m147.48 384.44h17.726v-45.451h-17.726z\" clip-path=\"url(#p4fc83b5da7)\" fill=\"#bdbdbd\" opacity=\".6\"/><path d=\"m203.28 43.561v353.27\" clip-path=\"url(#p4fc83b5da7)\" fill=\"none\" stroke=\"#778899\" stroke-linecap=\"square\" stroke-width=\"2\"/><path d=\"m200.32 43.561v353.27\" clip-path=\"url(#p4fc83b5da7)\" fill=\"none\" stroke=\"#778899\" stroke-linecap=\"square\" stroke-width=\"2\"/><path d=\"m248.73 89.012v307.82\" clip-path=\"url(#p4fc83b5da7)\" fill=\"none\" stroke=\"#778899\" stroke-linecap=\"square\" stroke-width=\"2\"/><path d=\"m245.77 89.012v307.82\" clip-path=\"url(#p4fc83b5da7)\" fill=\"none\" stroke=\"#778899\" stroke-linecap=\"square\" stroke-width=\"2\"/><path d=\"m294.18 134.46v262.37\" clip-path=\"url(#p4fc83b5da7)\" fill=\"none\" stroke=\"#778899\" stroke-linecap=\"square\" stroke-width=\"2\"/><path d=\"m291.22 134.46v262.37\" clip-path=\"url(#p4fc83b5da7)\" fill=\"none\" stroke=\"#778899\" stroke-linecap=\"square\" stroke-width=\"2\"/><path d=\"m339.63 179.91v216.91\" clip-path=\"url(#p4fc83b5da7)\" fill=\"none\" stroke=\"#778899\" stroke-linecap=\"square\" stroke-width=\"2\"/><path d=\"m336.67 179.91v216.91\" clip-path=\"url(#p4fc83b5da7)\" fill=\"none\" stroke=\"#778899\" stroke-linecap=\"square\" stroke-width=\"2\"/><path d=\"m385.08 225.36v171.46\" clip-path=\"url(#p4fc83b5da7)\" fill=\"none\" stroke=\"#778899\" stroke-linecap=\"square\" stroke-width=\"2\"/><path d=\"m382.13 225.36v171.46\" clip-path=\"url(#p4fc83b5da7)\" fill=\"none\" stroke=\"#778899\" stroke-linecap=\"square\" stroke-width=\"2\"/><path d=\"m430.53 270.82v126.01\" clip-path=\"url(#p4fc83b5da7)\" fill=\"none\" stroke=\"#778899\" stroke-linecap=\"square\" stroke-width=\"2\"/><path d=\"m427.58 270.82v126.01\" clip-path=\"url(#p4fc83b5da7)\" fill=\"none\" stroke=\"#778899\" stroke-linecap=\"square\" stroke-width=\"2\"/><path d=\"m475.98 316.27v80.562\" clip-path=\"url(#p4fc83b5da7)\" fill=\"none\" stroke=\"#778899\" stroke-linecap=\"square\" stroke-width=\"2\"/><path d=\"m473.03 316.27v80.562\" clip-path=\"url(#p4fc83b5da7)\" fill=\"none\" stroke=\"#778899\" stroke-linecap=\"square\" stroke-width=\"2\"/><path d=\"m521.43 361.72v35.111\" clip-path=\"url(#p4fc83b5da7)\" fill=\"none\" stroke=\"#778899\" stroke-linecap=\"square\" stroke-width=\"2\"/><path d=\"m518.48 361.72v35.111\" clip-path=\"url(#p4fc83b5da7)\" fill=\"none\" stroke=\"#778899\" stroke-linecap=\"square\" stroke-width=\"2\"/><path d=\"m95.443 411.71 4.5451-9.0902\" clip-path=\"url(#p4fc83b5da7)\" fill=\"none\" stroke=\"#778899\" stroke-linecap=\"square\" stroke-width=\"1.5\"/><path d=\"m96.125 376.49h29.543v-29.543h-29.543z\" clip-path=\"url(#p4fc83b5da7)\" fill=\"#05bab6\" stroke=\"#05bab6\" stroke-width=\"1.5\"/><path d=\"m187.03 58.332h29.543v-29.543h-29.543z\" clip-path=\"url(#p4fc83b5da7)\" stroke=\"#000000\" stroke-width=\"1.5\"/><path d=\"m212.14 47.992c0-2.7413-1.0901-5.3732-3.0285-7.3116-1.9384-1.9384-4.5702-3.0285-7.3116-3.0285s-5.3732 1.0901-7.3116 3.0285-3.0285 4.5702-3.0285 7.3116\" clip-path=\"url(#p4fc83b5da7)\" fill=\"none\" stroke=\"#ffffff\" stroke-width=\"2\"/><path d=\"m232.48 103.78h29.543v-29.543h-29.543z\" clip-path=\"url(#p4fc83b5da7)\" stroke=\"#000000\" stroke-width=\"1.5\"/><path d=\"m257.59 93.443c0-2.7413-1.0901-5.3732-3.0285-7.3116-1.9384-1.9384-4.5702-3.0285-7.3116-3.0285s-5.3732 1.0901-7.3116 3.0285-3.0285 4.5702-3.0285 7.3116\" clip-path=\"url(#p4fc83b5da7)\" fill=\"none\" stroke=\"#ffffff\" stroke-width=\"2\"/><path d=\"m277.93 149.23h29.543v-29.543h-29.543z\" clip-path=\"url(#p4fc83b5da7)\" stroke=\"#000000\" stroke-width=\"1.5\"/><path d=\"m303.04 138.89c0-2.7413-1.0901-5.3732-3.0285-7.3116-1.9384-1.9384-4.5702-3.0285-7.3116-3.0285s-5.3732 1.0901-7.3116 3.0285-3.0285 4.5702-3.0285 7.3116\" clip-path=\"url(#p4fc83b5da7)\" fill=\"none\" stroke=\"#ffffff\" stroke-width=\"2\"/><path d=\"m323.38 194.69h29.543v-29.543h-29.543z\" clip-path=\"url(#p4fc83b5da7)\" stroke=\"#000000\" stroke-width=\"1.5\"/><path d=\"m348.49 184.35c0-2.7413-1.0901-5.3732-3.0285-7.3116-1.9384-1.9384-4.5702-3.0285-7.3116-3.0285s-5.3732 1.0901-7.3116 3.0285-3.0285 4.5702-3.0285 7.3116\" clip-path=\"url(#p4fc83b5da7)\" fill=\"none\" stroke=\"#ffffff\" stroke-width=\"2\"/><path d=\"m368.83 240.14h29.543v-29.543h-29.543z\" clip-path=\"url(#p4fc83b5da7)\" stroke=\"#000000\" stroke-width=\"1.5\"/><path d=\"m393.94 229.8c0-2.7413-1.0901-5.3732-3.0285-7.3116-1.9384-1.9384-4.5702-3.0285-7.3116-3.0285s-5.3732 1.0901-7.3116 3.0285-3.0285 4.5702-3.0285 7.3116\" clip-path=\"url(#p4fc83b5da7)\" fill=\"none\" stroke=\"#ffffff\" stroke-width=\"2\"/><path d=\"m414.28 285.59h29.543v-29.543h-29.543z\" clip-path=\"url(#p4fc83b5da7)\" stroke=\"#000000\" stroke-width=\"1.5\"/><path d=\"m439.39 275.25c0-2.7413-1.0901-5.3732-3.0285-7.3116-1.9384-1.9384-4.5702-3.0285-7.3116-3.0285s-5.3732 1.0901-7.3116 3.0285-3.0285 4.5702-3.0285 7.3116\" clip-path=\"url(#p4fc83b5da7)\" fill=\"none\" stroke=\"#ffffff\" stroke-width=\"2\"/><path d=\"m459.73 331.04h29.543v-29.543h-29.543z\" clip-path=\"url(#p4fc83b5da7)\" stroke=\"#000000\" stroke-width=\"1.5\"/><path d=\"m484.84 320.7c0-2.7413-1.0901-5.3732-3.0285-7.3116-1.9384-1.9384-4.5702-3.0285-7.3116-3.0285s-5.3732 1.0901-7.3116 3.0285-3.0285 4.5702-3.0285 7.3116\" clip-path=\"url(#p4fc83b5da7)\" fill=\"none\" stroke=\"#ffffff\" stroke-width=\"2\"/><path d=\"m505.18 376.49h29.543v-29.543h-29.543z\" clip-path=\"url(#p4fc83b5da7)\" stroke=\"#000000\" stroke-width=\"1.5\"/><path d=\"m530.3 366.15c0-2.7413-1.0901-5.3732-3.0285-7.3116-1.9384-1.9384-4.5702-3.0285-7.3116-3.0285s-5.3732 1.0901-7.3116 3.0285-3.0285 4.5702-3.0285 7.3116\" clip-path=\"url(#p4fc83b5da7)\" fill=\"none\" stroke=\"#ffffff\" stroke-width=\"2\"/><path d=\"m201.8 47.992 10.34-10.34\" clip-path=\"url(#p4fc83b5da7)\" fill=\"none\" stroke=\"#ffffff\" stroke-linecap=\"square\" stroke-width=\"2\"/><path d=\"m247.25 93.443 10.34-10.34\" clip-path=\"url(#p4fc83b5da7)\" fill=\"none\" stroke=\"#ffffff\" stroke-linecap=\"square\" stroke-width=\"2\"/><path d=\"m292.7 138.89 10.34-10.34\" clip-path=\"url(#p4fc83b5da7)\" fill=\"none\" stroke=\"#ffffff\" stroke-linecap=\"square\" stroke-width=\"2\"/><path d=\"m338.15 184.35 10.34-10.34\" clip-path=\"url(#p4fc83b5da7)\" fill=\"none\" stroke=\"#ffffff\" stroke-linecap=\"square\" stroke-width=\"2\"/><path d=\"m383.6 229.8 10.34-10.34\" clip-path=\"url(#p4fc83b5da7)\" fill=\"none\" stroke=\"#ffffff\" stroke-linecap=\"square\" stroke-width=\"2\"/><path d=\"m429.05 275.25 10.34-10.34\" clip-path=\"url(#p4fc83b5da7)\" fill=\"none\" stroke=\"#ffffff\" stroke-linecap=\"square\" stroke-width=\"2\"/><path d=\"m474.5 320.7 10.34-10.34\" clip-path=\"url(#p4fc83b5da7)\" fill=\"none\" stroke=\"#ffffff\" stroke-linecap=\"square\" stroke-width=\"2\"/><path d=\"m519.96 366.15 10.34-10.34\" clip-path=\"url(#p4fc83b5da7)\" fill=\"none\" stroke=\"#ffffff\" stroke-linecap=\"square\" stroke-width=\"2\"/><path d=\"m156.35 20.835v45.451\" clip-path=\"url(#p4fc83b5da7)\" fill=\"none\" stroke=\"#000000\" stroke-dasharray=\"3.7,1.6\"/><path d=\"m156.35 66.286v45.451\" clip-path=\"url(#p4fc83b5da7)\" fill=\"none\" stroke=\"#000000\" stroke-dasharray=\"3.7,1.6\"/><path d=\"m156.35 111.74v45.451\" clip-path=\"url(#p4fc83b5da7)\" fill=\"none\" stroke=\"#000000\" stroke-dasharray=\"3.7,1.6\"/><path d=\"m156.35 157.19v45.451\" clip-path=\"url(#p4fc83b5da7)\" fill=\"none\" stroke=\"#000000\" stroke-dasharray=\"3.7,1.6\"/><path d=\"m156.35 202.64v45.451\" clip-path=\"url(#p4fc83b5da7)\" fill=\"none\" stroke=\"#000000\" stroke-dasharray=\"3.7,1.6\"/><path d=\"m156.35 248.09v45.451\" clip-path=\"url(#p4fc83b5da7)\" fill=\"none\" stroke=\"#000000\" stroke-dasharray=\"3.7,1.6\"/><path d=\"m156.35 293.54v45.451\" clip-path=\"url(#p4fc83b5da7)\" fill=\"none\" stroke=\"#000000\" stroke-dasharray=\"3.7,1.6\"/><path d=\"m156.35 338.99v45.451\" clip-path=\"url(#p4fc83b5da7)\" fill=\"none\" stroke=\"#000000\" stroke-dasharray=\"3.7,1.6\"/><g clip-path=\"url(#p4fc83b5da7)\"><g transform=\"translate(106.44 365.3) scale(.13 -.13)\"><defs><path id=\"DejaVuSans-58\" transform=\"scale(.015625)\" d=\"m403 4666h678l1160-1735 1165 1735h678l-1500-2241 1600-2425h-678l-1312 1984-1322-1984h-681l1665 2491-1453 2175z\"/></defs><use xlink:href=\"#DejaVuSans-58\"/></g></g><g clip-path=\"url(#p4fc83b5da7)\"><g transform=\"translate(213.16 400.46) scale(.104 -.104)\"><defs><path id=\"DejaVuSans-30\" transform=\"scale(.015625)\" d=\"m2034 4250q-487 0-733-480-245-479-245-1442 0-959 245-1439 246-480 733-480 491 0 736 480 246 480 246 1439 0 963-246 1442-245 480-736 480zm0 500q785 0 1199-621 414-620 414-1801 0-1178-414-1799-414-620-1199-620-784 0-1198 620-414 621-414 1799 0 1181 414 1801 414 621 1198 621z\"/></defs><use xlink:href=\"#DejaVuSans-30\"/></g></g><g clip-path=\"url(#p4fc83b5da7)\"><g transform=\"translate(258.61 400.46) scale(.104 -.104)\"><defs><path id=\"DejaVuSans-31\" transform=\"scale(.015625)\" d=\"m794 531h1031v3560l-1122-225v575l1116 225h631v-4135h1031v-531h-2687v531z\"/></defs><use xlink:href=\"#DejaVuSans-31\"/></g></g><g clip-path=\"url(#p4fc83b5da7)\"><g transform=\"translate(304.06 400.46) scale(.104 -.104)\"><defs><path id=\"DejaVuSans-32\" transform=\"scale(.015625)\" d=\"m1228 531h2203v-531h-2962v531q359 372 979 998 621 627 780 809 303 340 423 576 121 236 121 464 0 372-261 606-261 235-680 235-297 0-627-103-329-103-704-313v638q381 153 712 231 332 78 607 78 725 0 1156-363 431-362 431-968 0-288-108-546-107-257-392-607-78-91-497-524-418-433-1181-1211z\"/></defs><use xlink:href=\"#DejaVuSans-32\"/></g></g><g clip-path=\"url(#p4fc83b5da7)\"><g transform=\"translate(349.51 400.46) scale(.104 -.104)\"><defs><path id=\"DejaVuSans-33\" transform=\"scale(.015625)\" d=\"m2597 2516q453-97 707-404 255-306 255-756 0-690-475-1069-475-378-1350-378-293 0-604 58t-642 174v609q262-153 574-231 313-78 654-78 593 0 904 234t311 681q0 413-289 645-289 233-804 233h-544v519h569q465 0 712 186t247 536q0 359-255 551-254 193-729 193-260 0-557-57-297-56-653-174v562q360 100 674 150t592 50q719 0 1137-327 419-326 419-882 0-388-222-655t-631-370z\"/></defs><use xlink:href=\"#DejaVuSans-33\"/></g></g><g clip-path=\"url(#p4fc83b5da7)\"><g transform=\"translate(394.97 400.46) scale(.104 -.104)\"><defs><path id=\"DejaVuSans-34\" transform=\"scale(.015625)\" d=\"m2419 4116-1594-2491h1594v2491zm-166 550h794v-3041h666v-525h-666v-1100h-628v1100h-2106v609l1940 2957z\"/></defs><use xlink:href=\"#DejaVuSans-34\"/></g></g><g clip-path=\"url(#p4fc83b5da7)\"><g transform=\"translate(440.42 400.46) scale(.104 -.104)\"><defs><path id=\"DejaVuSans-35\" transform=\"scale(.015625)\" d=\"m691 4666h2478v-532h-1900v-1143q137 47 274 70 138 23 276 23 781 0 1237-428 457-428 457-1159 0-753-469-1171-469-417-1322-417-294 0-599 50-304 50-629 150v635q281-153 581-228t634-75q541 0 856 284 316 284 316 772 0 487-316 771-315 285-856 285-253 0-505-56-251-56-513-175v2344z\"/></defs><use xlink:href=\"#DejaVuSans-35\"/></g></g><g clip-path=\"url(#p4fc83b5da7)\"><g transform=\"translate(485.87 400.46) scale(.104 -.104)\"><defs><path id=\"DejaVuSans-36\" transform=\"scale(.015625)\" d=\"m2113 2584q-425 0-674-291-248-290-248-796 0-503 248-796 249-292 674-292t673 292q248 293 248 796 0 506-248 796-248 291-673 291zm1253 1979v-575q-238 112-480 171-242 60-480 60-625 0-955-422-329-422-376-1275 184 272 462 417 279 145 613 145 703 0 1111-427 408-426 408-1160 0-719-425-1154-425-434-1131-434-810 0-1238 620-428 621-428 1799 0 1106 525 1764t1409 658q238 0 480-47t505-140z\"/></defs><use xlink:href=\"#DejaVuSans-36\"/></g></g><g clip-path=\"url(#p4fc83b5da7)\"><g transform=\"translate(531.32 400.46) scale(.104 -.104)\"><defs><path id=\"DejaVuSans-37\" transform=\"scale(.015625)\" d=\"m525 4666h3e3v-269l-1694-4397h-659l1594 4134h-2241v532z\"/></defs><use xlink:href=\"#DejaVuSans-37\"/></g></g><g clip-path=\"url(#p4fc83b5da7)\"><g transform=\"translate(59.225 48.012) scale(.1625 -.1625)\"><defs><path id=\"DejaVuSans-Oblique-71\" transform=\"scale(.015625)\" d=\"m2669 525q-231-303-546-460-314-156-695-156-531 0-833 358-301 358-301 986 0 506 186 978t533 847q225 244 517 375t614 131q387 0 637-153t363-462l100 525h578l-934-4813h-579l360 1844zm-1778 813q0-463 193-705 194-242 560-242 544 0 928 520t384 1264q0 450-199 689-198 239-569 239-272 0-504-127-231-126-403-370-181-256-286-600-104-343-104-668z\"/></defs><use xlink:href=\"#DejaVuSans-Oblique-71\"/><use transform=\"translate(63.477 -16.406) scale(.7)\" xlink:href=\"#DejaVuSans-30\"/></g></g><g clip-path=\"url(#p4fc83b5da7)\"><g transform=\"translate(59.225 93.463) scale(.1625 -.1625)\"><use xlink:href=\"#DejaVuSans-Oblique-71\"/><use transform=\"translate(63.477 -16.406) scale(.7)\" xlink:href=\"#DejaVuSans-31\"/></g></g><g clip-path=\"url(#p4fc83b5da7)\"><g transform=\"translate(59.225 138.91) scale(.1625 -.1625)\"><use xlink:href=\"#DejaVuSans-Oblique-71\"/><use transform=\"translate(63.477 -16.406) scale(.7)\" xlink:href=\"#DejaVuSans-32\"/></g></g><g clip-path=\"url(#p4fc83b5da7)\"><g transform=\"translate(59.225 184.36) scale(.1625 -.1625)\"><use xlink:href=\"#DejaVuSans-Oblique-71\"/><use transform=\"translate(63.477 -16.406) scale(.7)\" xlink:href=\"#DejaVuSans-33\"/></g></g><g clip-path=\"url(#p4fc83b5da7)\"><g transform=\"translate(59.225 229.82) scale(.1625 -.1625)\"><use xlink:href=\"#DejaVuSans-Oblique-71\"/><use transform=\"translate(63.477 -16.406) scale(.7)\" xlink:href=\"#DejaVuSans-34\"/></g></g><g clip-path=\"url(#p4fc83b5da7)\"><g transform=\"translate(59.225 275.27) scale(.1625 -.1625)\"><use xlink:href=\"#DejaVuSans-Oblique-71\"/><use transform=\"translate(63.477 -16.406) scale(.7)\" xlink:href=\"#DejaVuSans-35\"/></g></g><g clip-path=\"url(#p4fc83b5da7)\"><g transform=\"translate(59.225 320.72) scale(.1625 -.1625)\"><use xlink:href=\"#DejaVuSans-Oblique-71\"/><use transform=\"translate(63.477 -16.406) scale(.7)\" xlink:href=\"#DejaVuSans-36\"/></g></g><g clip-path=\"url(#p4fc83b5da7)\"><g transform=\"translate(59.225 366.17) scale(.1625 -.1625)\"><use xlink:href=\"#DejaVuSans-Oblique-71\"/><use transform=\"translate(63.477 -16.406) scale(.7)\" xlink:href=\"#DejaVuSans-37\"/></g></g><g clip-path=\"url(#p4fc83b5da7)\"><g transform=\"translate(90.898 400.46) scale(.104 -.104)\"><defs><path id=\"DejaVuSans-38\" transform=\"scale(.015625)\" d=\"m2034 2216q-450 0-708-241-257-241-257-662 0-422 257-663 258-241 708-241t709 242q260 243 260 662 0 421-258 662-257 241-711 241zm-631 268q-406 100-633 378-226 279-226 679 0 559 398 884 399 325 1092 325 697 0 1094-325t397-884q0-400-227-679-226-278-629-378 456-106 710-416 255-309 255-755 0-679-414-1042-414-362-1186-362-771 0-1186 362-414 363-414 1042 0 446 256 755 257 310 713 416zm-231 997q0-362 226-565 227-203 636-203 407 0 636 203 230 203 230 565 0 363-230 566-229 203-636 203-409 0-636-203-226-203-226-566z\"/></defs><use xlink:href=\"#DejaVuSans-38\"/></g></g><g clip-path=\"url(#p4fc83b5da7)\"><g transform=\"translate(33.012 411.65) scale(.1625 -.1625)\"><defs><path id=\"DejaVuSans-6d\" transform=\"scale(.015625)\" d=\"m3328 2828q216 388 516 572t706 184q547 0 844-383 297-382 297-1088v-2113h-578v2094q0 503-179 746-178 244-543 244-447 0-707-297-259-296-259-809v-1978h-578v2094q0 506-178 748t-550 242q-441 0-701-298-259-298-259-808v-1978h-578v3500h578v-544q197 322 472 475t653 153q382 0 649-194 267-193 395-562z\"/><path id=\"DejaVuSans-65\" transform=\"scale(.015625)\" d=\"m3597 1894v-281h-2644q38-594 358-905t892-311q331 0 642 81t618 244v-544q-310-131-635-200t-659-69q-838 0-1327 487-489 488-489 1320 0 859 464 1363 464 505 1252 505 706 0 1117-455 411-454 411-1235zm-575 169q-6 471-264 752-258 282-683 282-481 0-770-272t-333-766l2050 4z\"/><path id=\"DejaVuSans-61\" transform=\"scale(.015625)\" d=\"m2194 1759q-697 0-966-159t-269-544q0-306 202-486 202-179 548-179 479 0 768 339t289 901v128h-572zm1147 238v-1997h-575v531q-197-318-491-470t-719-152q-537 0-855 302-317 302-317 808 0 590 395 890 396 300 1180 300h807v57q0 397-261 614t-733 217q-300 0-585-72-284-72-546-216v532q315 122 612 182 297 61 578 61 760 0 1135-394 375-393 375-1193z\"/><path id=\"DejaVuSans-73\" transform=\"scale(.015625)\" d=\"m2834 3397v-544q-243 125-506 187-262 63-544 63-428 0-642-131t-214-394q0-200 153-314t616-217l197-44q612-131 870-370t258-667q0-488-386-773-386-284-1061-284-281 0-586 55t-642 164v594q319-166 628-249 309-82 613-82 406 0 624 139 219 139 219 392 0 234-158 359-157 125-692 241l-200 47q-534 112-772 345-237 233-237 639 0 494 350 762 350 269 994 269 318 0 599-47 282-46 519-140z\"/></defs><use xlink:href=\"#DejaVuSans-6d\"/><use x=\"97.412109\" xlink:href=\"#DejaVuSans-65\"/><use x=\"158.935547\" xlink:href=\"#DejaVuSans-61\"/><use x=\"220.214844\" xlink:href=\"#DejaVuSans-73\"/></g></g><defs><clipPath id=\"p4fc83b5da7\"><rect x=\"7.2\" y=\"7.2\" width=\"542.75\" height=\"427.24\"/></clipPath></defs></svg>"
            ],
            "text/plain": [
              "<Figure size 718.879x565.88 with 1 Axes>"
            ]
          },
          "execution_count": 8,
          "metadata": {
          },
          "output_type": "execute_result"
        }
      ],
      "source": [
        "qc_encode.measure_all()\n",
        "qc_encode.draw()"
      ]
    },
    {
      "cell_type": "markdown",
      "metadata": {
      },
      "source": [
        "Ahora podemos ejecutar el circuito combinado y ver los resultados."
      ]
    },
    {
      "cell_type": "code",
      "execution_count": 9,
      "metadata": {
      },
      "outputs": [
        {
          "data": {
            "image/svg+xml": [
              "<?xml version=\"1.0\" encoding=\"UTF-8\"?><!DOCTYPE svg  PUBLIC '-//W3C//DTD SVG 1.1//EN'  'http://www.w3.org/Graphics/SVG/1.1/DTD/svg11.dtd'><svg width=\"460.72pt\" height=\"364.8pt\" version=\"1.1\" viewBox=\"0 0 460.72 364.8\" xmlns=\"http://www.w3.org/2000/svg\" xmlns:xlink=\"http://www.w3.org/1999/xlink\"><defs><style type=\"text/css\">*{stroke-linecap:butt;stroke-linejoin:round;}</style></defs><path d=\"m0 364.8h460.72v-364.8h-460.72z\" fill=\"none\"/><path d=\"m62.921 279h390.6v-271.8h-390.6z\" fill=\"#ffffff\"/><defs><path id=\"m93bdf8d1b8\" d=\"m0 0v3.5\" stroke=\"#000000\" stroke-width=\".8\"/></defs><use x=\"258.22125\" y=\"279\" stroke=\"#000000\" stroke-width=\".8\" xlink:href=\"#m93bdf8d1b8\"/><g transform=\"translate(249.67 356.6) rotate(-70) scale(.14 -.14)\"><defs><path id=\"DejaVuSans-31\" transform=\"scale(.015625)\" d=\"m794 531h1031v3560l-1122-225v575l1116 225h631v-4135h1031v-531h-2687v531z\"/><path id=\"DejaVuSans-30\" transform=\"scale(.015625)\" d=\"m2034 4250q-487 0-733-480-245-479-245-1442 0-959 245-1439 246-480 733-480 491 0 736 480 246 480 246 1439 0 963-246 1442-245 480-736 480zm0 500q785 0 1199-621 414-620 414-1801 0-1178-414-1799-414-620-1199-620-784 0-1198 620-414 621-414 1799 0 1181 414 1801 414 621 1198 621z\"/></defs><use xlink:href=\"#DejaVuSans-31\"/><use x=\"63.623047\" xlink:href=\"#DejaVuSans-30\"/><use x=\"127.246094\" xlink:href=\"#DejaVuSans-30\"/><use x=\"190.869141\" xlink:href=\"#DejaVuSans-30\"/><use x=\"254.492188\" xlink:href=\"#DejaVuSans-30\"/><use x=\"318.115234\" xlink:href=\"#DejaVuSans-30\"/><use x=\"381.738281\" xlink:href=\"#DejaVuSans-30\"/><use x=\"445.361328\" xlink:href=\"#DejaVuSans-30\"/></g><path d=\"m62.921 279h390.6\" clip-path=\"url(#p28c8f19dac)\" fill=\"none\" stroke=\"#b0b0b0\" stroke-dasharray=\"2.96,1.28\" stroke-width=\".8\"/><defs><path id=\"m688759d740\" d=\"m0 0h-3.5\" stroke=\"#000000\" stroke-width=\".8\"/></defs><use x=\"62.92125\" y=\"279\" stroke=\"#000000\" stroke-width=\".8\" xlink:href=\"#m688759d740\"/><g transform=\"translate(24.749 284.32) scale(.14 -.14)\"><defs><path id=\"DejaVuSans-2e\" transform=\"scale(.015625)\" d=\"m684 794h660v-794h-660v794z\"/></defs><use xlink:href=\"#DejaVuSans-30\"/><use x=\"63.623047\" xlink:href=\"#DejaVuSans-2e\"/><use x=\"95.410156\" xlink:href=\"#DejaVuSans-30\"/><use x=\"159.033203\" xlink:href=\"#DejaVuSans-30\"/></g><path d=\"m62.921 222.38h390.6\" clip-path=\"url(#p28c8f19dac)\" fill=\"none\" stroke=\"#b0b0b0\" stroke-dasharray=\"2.96,1.28\" stroke-width=\".8\"/><use x=\"62.92125\" y=\"222.375\" stroke=\"#000000\" stroke-width=\".8\" xlink:href=\"#m688759d740\"/><g transform=\"translate(24.749 227.69) scale(.14 -.14)\"><defs><path id=\"DejaVuSans-32\" transform=\"scale(.015625)\" d=\"m1228 531h2203v-531h-2962v531q359 372 979 998 621 627 780 809 303 340 423 576 121 236 121 464 0 372-261 606-261 235-680 235-297 0-627-103-329-103-704-313v638q381 153 712 231 332 78 607 78 725 0 1156-363 431-362 431-968 0-288-108-546-107-257-392-607-78-91-497-524-418-433-1181-1211z\"/><path id=\"DejaVuSans-35\" transform=\"scale(.015625)\" d=\"m691 4666h2478v-532h-1900v-1143q137 47 274 70 138 23 276 23 781 0 1237-428 457-428 457-1159 0-753-469-1171-469-417-1322-417-294 0-599 50-304 50-629 150v635q281-153 581-228t634-75q541 0 856 284 316 284 316 772 0 487-316 771-315 285-856 285-253 0-505-56-251-56-513-175v2344z\"/></defs><use xlink:href=\"#DejaVuSans-30\"/><use x=\"63.623047\" xlink:href=\"#DejaVuSans-2e\"/><use x=\"95.410156\" xlink:href=\"#DejaVuSans-32\"/><use x=\"159.033203\" xlink:href=\"#DejaVuSans-35\"/></g><path d=\"m62.921 165.75h390.6\" clip-path=\"url(#p28c8f19dac)\" fill=\"none\" stroke=\"#b0b0b0\" stroke-dasharray=\"2.96,1.28\" stroke-width=\".8\"/><use x=\"62.92125\" y=\"165.75\" stroke=\"#000000\" stroke-width=\".8\" xlink:href=\"#m688759d740\"/><g transform=\"translate(24.749 171.07) scale(.14 -.14)\"><use xlink:href=\"#DejaVuSans-30\"/><use x=\"63.623047\" xlink:href=\"#DejaVuSans-2e\"/><use x=\"95.410156\" xlink:href=\"#DejaVuSans-35\"/><use x=\"159.033203\" xlink:href=\"#DejaVuSans-30\"/></g><path d=\"m62.921 109.12h390.6\" clip-path=\"url(#p28c8f19dac)\" fill=\"none\" stroke=\"#b0b0b0\" stroke-dasharray=\"2.96,1.28\" stroke-width=\".8\"/><use x=\"62.92125\" y=\"109.125\" stroke=\"#000000\" stroke-width=\".8\" xlink:href=\"#m688759d740\"/><g transform=\"translate(24.749 114.44) scale(.14 -.14)\"><defs><path id=\"DejaVuSans-37\" transform=\"scale(.015625)\" d=\"m525 4666h3e3v-269l-1694-4397h-659l1594 4134h-2241v532z\"/></defs><use xlink:href=\"#DejaVuSans-30\"/><use x=\"63.623047\" xlink:href=\"#DejaVuSans-2e\"/><use x=\"95.410156\" xlink:href=\"#DejaVuSans-37\"/><use x=\"159.033203\" xlink:href=\"#DejaVuSans-35\"/></g><path d=\"m62.921 52.5h390.6\" clip-path=\"url(#p28c8f19dac)\" fill=\"none\" stroke=\"#b0b0b0\" stroke-dasharray=\"2.96,1.28\" stroke-width=\".8\"/><use x=\"62.92125\" y=\"52.5\" stroke=\"#000000\" stroke-width=\".8\" xlink:href=\"#m688759d740\"/><g transform=\"translate(24.749 57.819) scale(.14 -.14)\"><use xlink:href=\"#DejaVuSans-31\"/><use x=\"63.623047\" xlink:href=\"#DejaVuSans-2e\"/><use x=\"95.410156\" xlink:href=\"#DejaVuSans-30\"/><use x=\"159.033203\" xlink:href=\"#DejaVuSans-30\"/></g><g transform=\"translate(17.838 185.86) rotate(-90) scale(.14 -.14)\"><defs><path id=\"DejaVuSans-50\" transform=\"scale(.015625)\" d=\"m1259 4147v-1753h794q441 0 681 228 241 228 241 650 0 419-241 647-240 228-681 228h-794zm-631 519h1425q785 0 1186-355 402-355 402-1039 0-691-402-1044-401-353-1186-353h-794v-1875h-631v4666z\"/><path id=\"DejaVuSans-72\" transform=\"scale(.015625)\" d=\"m2631 2963q-97 56-211 82-114 27-251 27-488 0-749-317t-261-911v-1844h-578v3500h578v-544q182 319 472 473 291 155 707 155 59 0 131-8 72-7 159-23l3-590z\"/><path id=\"DejaVuSans-6f\" transform=\"scale(.015625)\" d=\"m1959 3097q-462 0-731-361t-269-989 267-989q268-361 733-361 460 0 728 362 269 363 269 988 0 622-269 986-268 364-728 364zm0 487q750 0 1178-488 429-487 429-1349 0-859-429-1349-428-489-1178-489-753 0-1180 489-426 490-426 1349 0 862 426 1349 427 488 1180 488z\"/><path id=\"DejaVuSans-62\" transform=\"scale(.015625)\" d=\"m3116 1747q0 634-261 995t-717 361q-457 0-718-361t-261-995 261-995 718-361q456 0 717 361t261 995zm-1957 1222q182 312 458 463 277 152 661 152 638 0 1036-506 399-506 399-1331t-399-1332q-398-506-1036-506-384 0-661 152-276 152-458 464v-525h-578v4863h578v-1894z\"/><path id=\"DejaVuSans-61\" transform=\"scale(.015625)\" d=\"m2194 1759q-697 0-966-159t-269-544q0-306 202-486 202-179 548-179 479 0 768 339t289 901v128h-572zm1147 238v-1997h-575v531q-197-318-491-470t-719-152q-537 0-855 302-317 302-317 808 0 590 395 890 396 300 1180 300h807v57q0 397-261 614t-733 217q-300 0-585-72-284-72-546-216v532q315 122 612 182 297 61 578 61 760 0 1135-394 375-393 375-1193z\"/><path id=\"DejaVuSans-69\" transform=\"scale(.015625)\" d=\"m603 3500h575v-3500h-575v3500zm0 1363h575v-729h-575v729z\"/><path id=\"DejaVuSans-6c\" transform=\"scale(.015625)\" d=\"m603 4863h575v-4863h-575v4863z\"/><path id=\"DejaVuSans-74\" transform=\"scale(.015625)\" d=\"m1172 4494v-994h1184v-447h-1184v-1900q0-428 117-550t477-122h590v-481h-590q-666 0-919 248-253 249-253 905v1900h-422v447h422v994h578z\"/><path id=\"DejaVuSans-65\" transform=\"scale(.015625)\" d=\"m3597 1894v-281h-2644q38-594 358-905t892-311q331 0 642 81t618 244v-544q-310-131-635-200t-659-69q-838 0-1327 487-489 488-489 1320 0 859 464 1363 464 505 1252 505 706 0 1117-455 411-454 411-1235zm-575 169q-6 471-264 752-258 282-683 282-481 0-770-272t-333-766l2050 4z\"/><path id=\"DejaVuSans-73\" transform=\"scale(.015625)\" d=\"m2834 3397v-544q-243 125-506 187-262 63-544 63-428 0-642-131t-214-394q0-200 153-314t616-217l197-44q612-131 870-370t258-667q0-488-386-773-386-284-1061-284-281 0-586 55t-642 164v594q319-166 628-249 309-82 613-82 406 0 624 139 219 139 219 392 0 234-158 359-157 125-692 241l-200 47q-534 112-772 345-237 233-237 639 0 494 350 762 350 269 994 269 318 0 599-47 282-46 519-140z\"/></defs><use xlink:href=\"#DejaVuSans-50\"/><use x=\"58.552734\" xlink:href=\"#DejaVuSans-72\"/><use x=\"97.416016\" xlink:href=\"#DejaVuSans-6f\"/><use x=\"158.597656\" xlink:href=\"#DejaVuSans-62\"/><use x=\"222.074219\" xlink:href=\"#DejaVuSans-61\"/><use x=\"283.353516\" xlink:href=\"#DejaVuSans-62\"/><use x=\"346.830078\" xlink:href=\"#DejaVuSans-69\"/><use x=\"374.613281\" xlink:href=\"#DejaVuSans-6c\"/><use x=\"402.396484\" xlink:href=\"#DejaVuSans-69\"/><use x=\"430.179688\" xlink:href=\"#DejaVuSans-74\"/><use x=\"469.388672\" xlink:href=\"#DejaVuSans-69\"/><use x=\"497.171875\" xlink:href=\"#DejaVuSans-65\"/><use x=\"558.695312\" xlink:href=\"#DejaVuSans-73\"/></g><path d=\"m80.676 279h355.09v-226.5h-355.09z\" clip-path=\"url(#p28c8f19dac)\" fill=\"#648fff\"/><path d=\"m62.921 279v-271.8\" fill=\"none\" stroke=\"#000000\" stroke-linecap=\"square\" stroke-width=\".8\"/><path d=\"m453.52 279v-271.8\" fill=\"none\" stroke=\"#000000\" stroke-linecap=\"square\" stroke-width=\".8\"/><path d=\"m62.921 279h390.6\" fill=\"none\" stroke=\"#000000\" stroke-linecap=\"square\" stroke-width=\".8\"/><path d=\"m62.921 7.2h390.6\" fill=\"none\" stroke=\"#000000\" stroke-linecap=\"square\" stroke-width=\".8\"/><g transform=\"translate(243.91 39.095) scale(.1 -.1)\"><use xlink:href=\"#DejaVuSans-31\"/><use x=\"63.623047\" xlink:href=\"#DejaVuSans-2e\"/><use x=\"95.410156\" xlink:href=\"#DejaVuSans-30\"/><use x=\"159.033203\" xlink:href=\"#DejaVuSans-30\"/><use x=\"222.65625\" xlink:href=\"#DejaVuSans-30\"/></g><defs><clipPath id=\"p28c8f19dac\"><rect x=\"62.921\" y=\"7.2\" width=\"390.6\" height=\"271.8\"/></clipPath></defs></svg>"
            ],
            "text/plain": [
              "<Figure size 504x360 with 1 Axes>"
            ]
          },
          "execution_count": 9,
          "metadata": {
          },
          "output_type": "execute_result"
        }
      ],
      "source": [
        "sim = Aer.get_backend('aer_simulator') \n",
        "result = sim.run(qc_encode).result()\n",
        "counts = result.get_counts()\n",
        "plot_histogram(counts)"
      ]
    },
    {
      "cell_type": "markdown",
      "metadata": {
      },
      "source": [
        "Ahora nuestra computadora genera la cadena `10000000` en su lugar.\n",
        "\n",
        "El bit que volteamos, que proviene del qubit 7, vive en el extremo izquierdo de la cadena. Esto se debe a que Qiskit numera los bits de una cadena de derecha a izquierda. Algunos prefieren numerar sus bits al revés, pero el sistema de Qiskit ciertamente tiene sus ventajas cuando usamos los bits para representar números. Específicamente, significa que el qubit 7 nos dice cuántos `2^7` tenemos en nuestro número. Entonces, al voltear este bit, ahora hemos escrito el número [[128|256|64|32]] en nuestra computadora simple de 8 bits.\n",
        "\n",
        "Ahora intenta escribir otro número por ti mismo. Podrías hacer tu edad, por ejemplo. Simplemente, usa un motor de búsqueda para averiguar cómo se ve el número en binario (si incluye un '0b', simplemente ignóralo) y luego agrega algunos 0s al lado izquierdo si tienes menos de 128 años."
      ]
    },
    {
      "cell_type": "code",
      "execution_count": 10,
      "metadata": {
      },
      "outputs": [
        {
          "data": {
            "image/svg+xml": [
              "<?xml version=\"1.0\" encoding=\"UTF-8\"?><!DOCTYPE svg  PUBLIC '-//W3C//DTD SVG 1.1//EN'  'http://www.w3.org/Graphics/SVG/1.1/DTD/svg11.dtd'><svg width=\"125.23pt\" height=\"396.19pt\" version=\"1.1\" viewBox=\"0 0 125.23 396.19\" xmlns=\"http://www.w3.org/2000/svg\" xmlns:xlink=\"http://www.w3.org/1999/xlink\"><defs><style type=\"text/css\">*{stroke-linecap:butt;stroke-linejoin:round;}</style></defs><path d=\"m0 396.19h125.23v-396.19h-125.23z\" fill=\"#ffffff\"/><path d=\"m63.491 43.561h49.996\" clip-path=\"url(#p09a6436628)\" fill=\"none\" stroke=\"#000000\" stroke-linecap=\"square\" stroke-width=\"2\"/><path d=\"m63.491 89.012h49.996\" clip-path=\"url(#p09a6436628)\" fill=\"none\" stroke=\"#000000\" stroke-linecap=\"square\" stroke-width=\"2\"/><path d=\"m63.491 134.46h49.996\" clip-path=\"url(#p09a6436628)\" fill=\"none\" stroke=\"#000000\" stroke-linecap=\"square\" stroke-width=\"2\"/><path d=\"m63.491 179.91h49.996\" clip-path=\"url(#p09a6436628)\" fill=\"none\" stroke=\"#000000\" stroke-linecap=\"square\" stroke-width=\"2\"/><path d=\"m63.491 225.36h49.996\" clip-path=\"url(#p09a6436628)\" fill=\"none\" stroke=\"#000000\" stroke-linecap=\"square\" stroke-width=\"2\"/><path d=\"m63.491 270.82h49.996\" clip-path=\"url(#p09a6436628)\" fill=\"none\" stroke=\"#000000\" stroke-linecap=\"square\" stroke-width=\"2\"/><path d=\"m63.491 316.27h49.996\" clip-path=\"url(#p09a6436628)\" fill=\"none\" stroke=\"#000000\" stroke-linecap=\"square\" stroke-width=\"2\"/><path d=\"m63.491 361.72h49.996\" clip-path=\"url(#p09a6436628)\" fill=\"none\" stroke=\"#000000\" stroke-linecap=\"square\" stroke-width=\"2\"/><path d=\"m73.263 103.78h29.543v-29.543h-29.543z\" clip-path=\"url(#p09a6436628)\" fill=\"#05bab6\" stroke=\"#05bab6\" stroke-width=\"1.5\"/><path d=\"m73.263 285.59h29.543v-29.543h-29.543z\" clip-path=\"url(#p09a6436628)\" fill=\"#05bab6\" stroke=\"#05bab6\" stroke-width=\"1.5\"/><g clip-path=\"url(#p09a6436628)\"><g transform=\"translate(83.582 92.599) scale(.13 -.13)\"><defs><path id=\"DejaVuSans-58\" transform=\"scale(.015625)\" d=\"m403 4666h678l1160-1735 1165 1735h678l-1500-2241 1600-2425h-678l-1312 1984-1322-1984h-681l1665 2491-1453 2175z\"/></defs><use xlink:href=\"#DejaVuSans-58\"/></g></g><g clip-path=\"url(#p09a6436628)\"><g transform=\"translate(83.582 274.4) scale(.13 -.13)\"><use xlink:href=\"#DejaVuSans-58\"/></g></g><g clip-path=\"url(#p09a6436628)\"><g transform=\"translate(36.363 48.012) scale(.1625 -.1625)\"><defs><path id=\"DejaVuSans-Oblique-71\" transform=\"scale(.015625)\" d=\"m2669 525q-231-303-546-460-314-156-695-156-531 0-833 358-301 358-301 986 0 506 186 978t533 847q225 244 517 375t614 131q387 0 637-153t363-462l100 525h578l-934-4813h-579l360 1844zm-1778 813q0-463 193-705 194-242 560-242 544 0 928 520t384 1264q0 450-199 689-198 239-569 239-272 0-504-127-231-126-403-370-181-256-286-600-104-343-104-668z\"/><path id=\"DejaVuSans-30\" transform=\"scale(.015625)\" d=\"m2034 4250q-487 0-733-480-245-479-245-1442 0-959 245-1439 246-480 733-480 491 0 736 480 246 480 246 1439 0 963-246 1442-245 480-736 480zm0 500q785 0 1199-621 414-620 414-1801 0-1178-414-1799-414-620-1199-620-784 0-1198 620-414 621-414 1799 0 1181 414 1801 414 621 1198 621z\"/></defs><use xlink:href=\"#DejaVuSans-Oblique-71\"/><use transform=\"translate(63.477 -16.406) scale(.7)\" xlink:href=\"#DejaVuSans-30\"/></g></g><g clip-path=\"url(#p09a6436628)\"><g transform=\"translate(36.363 93.463) scale(.1625 -.1625)\"><defs><path id=\"DejaVuSans-31\" transform=\"scale(.015625)\" d=\"m794 531h1031v3560l-1122-225v575l1116 225h631v-4135h1031v-531h-2687v531z\"/></defs><use xlink:href=\"#DejaVuSans-Oblique-71\"/><use transform=\"translate(63.477 -16.406) scale(.7)\" xlink:href=\"#DejaVuSans-31\"/></g></g><g clip-path=\"url(#p09a6436628)\"><g transform=\"translate(36.363 138.91) scale(.1625 -.1625)\"><defs><path id=\"DejaVuSans-32\" transform=\"scale(.015625)\" d=\"m1228 531h2203v-531h-2962v531q359 372 979 998 621 627 780 809 303 340 423 576 121 236 121 464 0 372-261 606-261 235-680 235-297 0-627-103-329-103-704-313v638q381 153 712 231 332 78 607 78 725 0 1156-363 431-362 431-968 0-288-108-546-107-257-392-607-78-91-497-524-418-433-1181-1211z\"/></defs><use xlink:href=\"#DejaVuSans-Oblique-71\"/><use transform=\"translate(63.477 -16.406) scale(.7)\" xlink:href=\"#DejaVuSans-32\"/></g></g><g clip-path=\"url(#p09a6436628)\"><g transform=\"translate(36.363 184.36) scale(.1625 -.1625)\"><defs><path id=\"DejaVuSans-33\" transform=\"scale(.015625)\" d=\"m2597 2516q453-97 707-404 255-306 255-756 0-690-475-1069-475-378-1350-378-293 0-604 58t-642 174v609q262-153 574-231 313-78 654-78 593 0 904 234t311 681q0 413-289 645-289 233-804 233h-544v519h569q465 0 712 186t247 536q0 359-255 551-254 193-729 193-260 0-557-57-297-56-653-174v562q360 100 674 150t592 50q719 0 1137-327 419-326 419-882 0-388-222-655t-631-370z\"/></defs><use xlink:href=\"#DejaVuSans-Oblique-71\"/><use transform=\"translate(63.477 -16.406) scale(.7)\" xlink:href=\"#DejaVuSans-33\"/></g></g><g clip-path=\"url(#p09a6436628)\"><g transform=\"translate(36.363 229.82) scale(.1625 -.1625)\"><defs><path id=\"DejaVuSans-34\" transform=\"scale(.015625)\" d=\"m2419 4116-1594-2491h1594v2491zm-166 550h794v-3041h666v-525h-666v-1100h-628v1100h-2106v609l1940 2957z\"/></defs><use xlink:href=\"#DejaVuSans-Oblique-71\"/><use transform=\"translate(63.477 -16.406) scale(.7)\" xlink:href=\"#DejaVuSans-34\"/></g></g><g clip-path=\"url(#p09a6436628)\"><g transform=\"translate(36.363 275.27) scale(.1625 -.1625)\"><defs><path id=\"DejaVuSans-35\" transform=\"scale(.015625)\" d=\"m691 4666h2478v-532h-1900v-1143q137 47 274 70 138 23 276 23 781 0 1237-428 457-428 457-1159 0-753-469-1171-469-417-1322-417-294 0-599 50-304 50-629 150v635q281-153 581-228t634-75q541 0 856 284 316 284 316 772 0 487-316 771-315 285-856 285-253 0-505-56-251-56-513-175v2344z\"/></defs><use xlink:href=\"#DejaVuSans-Oblique-71\"/><use transform=\"translate(63.477 -16.406) scale(.7)\" xlink:href=\"#DejaVuSans-35\"/></g></g><g clip-path=\"url(#p09a6436628)\"><g transform=\"translate(36.363 320.72) scale(.1625 -.1625)\"><defs><path id=\"DejaVuSans-36\" transform=\"scale(.015625)\" d=\"m2113 2584q-425 0-674-291-248-290-248-796 0-503 248-796 249-292 674-292t673 292q248 293 248 796 0 506-248 796-248 291-673 291zm1253 1979v-575q-238 112-480 171-242 60-480 60-625 0-955-422-329-422-376-1275 184 272 462 417 279 145 613 145 703 0 1111-427 408-426 408-1160 0-719-425-1154-425-434-1131-434-810 0-1238 620-428 621-428 1799 0 1106 525 1764t1409 658q238 0 480-47t505-140z\"/></defs><use xlink:href=\"#DejaVuSans-Oblique-71\"/><use transform=\"translate(63.477 -16.406) scale(.7)\" xlink:href=\"#DejaVuSans-36\"/></g></g><g clip-path=\"url(#p09a6436628)\"><g transform=\"translate(36.363 366.17) scale(.1625 -.1625)\"><defs><path id=\"DejaVuSans-37\" transform=\"scale(.015625)\" d=\"m525 4666h3e3v-269l-1694-4397h-659l1594 4134h-2241v532z\"/></defs><use xlink:href=\"#DejaVuSans-Oblique-71\"/><use transform=\"translate(63.477 -16.406) scale(.7)\" xlink:href=\"#DejaVuSans-37\"/></g></g><defs><clipPath id=\"p09a6436628\"><rect x=\"7.2\" y=\"7.2\" width=\"110.83\" height=\"381.79\"/></clipPath></defs></svg>"
            ],
            "text/plain": [
              "<Figure size 146.797x505.68 with 1 Axes>"
            ]
          },
          "execution_count": 10,
          "metadata": {
          },
          "output_type": "execute_result"
        }
      ],
      "source": [
        "qc_encode = QuantumCircuit(8)\n",
        "qc_encode.x(1)\n",
        "qc_encode.x(5)\n",
        "\n",
        "qc_encode.draw()"
      ]
    },
    {
      "cell_type": "markdown",
      "metadata": {
      },
      "source": [
        "Ahora sabemos cómo codificar información en una computadora. El siguiente paso es procesarla: tomar una entrada que hemos codificado y convertirla en una salida que necesitemos."
      ]
    },
    {
      "cell_type": "markdown",
      "metadata": {
      },
      "source": [
        "### 4.2 Recordando cómo sumar <a id=\"remembering-add\"></a>"
      ]
    },
    {
      "cell_type": "markdown",
      "metadata": {
      },
      "source": [
        "Para ver cómo convertir las entradas en salidas, necesitamos un problema a resolver. Hagamos algunas matemáticas básicas. En la escuela primaria, habrás aprendido cómo tomar grandes problemas matemáticos y dividirlos en partes manejables. Por ejemplo, ¿cómo harías para resolver lo siguiente?\n",
        "\n",
        "```code\n",
        "   9213\n",
        "+  1854\n",
        "=  ????\n",
        "```\n",
        "\n",
        "Una forma de hacerlo es dígito por dígito, de derecha a izquierda. Así que empezamos con 3+4\n",
        "\n",
        "```code\n",
        "   9213\n",
        "+  1854\n",
        "=  ???7\n",
        "```\n",
        "\n",
        "Y luego 1+5\n",
        "\n",
        "```code\n",
        "   9213\n",
        "+  1854\n",
        "=  ??67\n",
        "```\n",
        "\n",
        "Entonces tenemos 2+8=10. Dado que esta es una respuesta de dos dígitos, debemos acarrear el uno sobre la siguiente columna.\n",
        "\n",
        "```code\n",
        "   9213\n",
        "+  1854\n",
        "=  ?067\n",
        "   ¹\n",
        "```\n",
        "\n",
        "Finalmente tenemos 9+1+1=11, y obtenemos nuestra respuesta\n",
        "\n",
        "```code\n",
        "   9213\n",
        "+  1854\n",
        "= 11067\n",
        "   ¹\n",
        "```\n",
        "\n",
        "Esto puede ser solo una simple suma, pero demuestra los principios detrás de todos los algoritmos. Ya sea que el algoritmo esté diseñado para resolver problemas matemáticos o procesar texto o imágenes, siempre dividimos las tareas grandes en pasos pequeños y simples.\n",
        "\n",
        "Para ejecutarse en una computadora, los algoritmos deben compilarse en pasos más pequeños y simples posibles. Para ver cómo se ven, hagamos el problema de la suma anterior nuevamente, pero esta vez en binario.\n",
        "\n",
        "```code\n",
        "   10001111111101\n",
        "+  00011100111110\n",
        "                                    \n",
        "=  ??????????????\n",
        "```\n",
        "\n",
        "Ten en cuenta que el segundo número tiene un montón de 0s adicionales a la izquierda. Esto solo sirve para que las dos cadenas tengan la misma longitud.\n",
        "\n",
        "Nuestra primera tarea es hacer el 1+0 para la columna de la derecha. En binario, como en cualquier sistema numérico, la respuesta es 1. Obtenemos el mismo resultado para el 0+1 de la segunda columna.\n",
        "\n",
        "```code\n",
        "   10001111111101\n",
        "+  00011100111110\n",
        "\n",
        "=  ????????????11\n",
        "```\n",
        "\n",
        "A continuación, tenemos 1+1. Como seguramente sabrás, 1+1=2. En binario, el número 2 se escribe `10`, por lo que requiere dos bits. Esto significa que necesitamos acarrear el 1, tal como lo haríamos con el número 10 en decimal.\n",
        "\n",
        "```code\n",
        "   10001111111101\n",
        "+  00011100111110\n",
        "=  ???????????011\n",
        "             ¹\n",
        "```\n",
        "\n",
        "La siguiente columna ahora requiere que calculemos `1+1+1`. Esto significa sumar tres números, por lo que las cosas se están complicando para nuestra computadora. Pero aún podemos compilarlo en operaciones más simples, y hacerlo de una manera que solo requiera que agreguemos dos bits juntos. Para esto, podemos comenzar con solo los dos primeros 1s.\n",
        "\n",
        "```code\n",
        "   1\n",
        "+  1\n",
        "= 10\n",
        "```\n",
        "\n",
        "Ahora debemos agregar este `10` al `1` final, lo que se puede hacer usando nuestro método habitual de pasar por las columnas.\n",
        "\n",
        "```code\n",
        "  10\n",
        "+ 01\n",
        "= 11\n",
        "```\n",
        "\n",
        "La respuesta final es `11` (también conocido como 3).\n",
        "\n",
        "Ahora podemos volver al resto del problema. Con la respuesta de `11`, tenemos otro bit de acarreo.\n",
        "\n",
        "```code\n",
        "   10001111111101\n",
        "+  00011100111110\n",
        "=  ??????????1011\n",
        "            ¹¹\n",
        "```\n",
        "\n",
        "Así que ahora tenemos otro 1+1+1 que hacer. Pero ya sabemos cómo hacerlo, así que no es gran cosa.\n",
        "\n",
        "De hecho, todo lo que queda hasta ahora es algo que ya sabemos hacer. Esto se debe a que, si descompones todo en sumar solo dos bits, solo hay cuatro cosas posibles que necesitarás calcular. Aquí están las cuatro sumas básicas (escribiremos todas las respuestas con dos bits para ser consistentes).\n",
        "\n",
        "```code\n",
        "0+0 = 00 (en decimal, esto es 0+0=0)\n",
        "0+1 = 01 (en decimal, esto es 0+1=1)\n",
        "1+0 = 01 (en decimal, esto es 1+0=1)\n",
        "1+1 = 10 (en decimal, esto es 1+1=2)\n",
        "```\n",
        "\n",
        "Esto se llama *semisumador*. Si nuestra computadora puede implementar esto, y si puede encadenar muchos de ellos juntos, puede sumar cualquier cosa."
      ]
    },
    {
      "cell_type": "markdown",
      "metadata": {
      },
      "source": [
        "### 4.3 Sumar con Qiskit <a id=\"adding-qiskit\"></a>"
      ]
    },
    {
      "cell_type": "markdown",
      "metadata": {
      },
      "source": [
        "Hagamos nuestro propio semisumador usando Qiskit. Esto incluirá una parte del circuito que codifica la entrada, una parte que ejecuta el algoritmo y una parte que extrae el resultado. La primera parte habrá que cambiarla cada vez que queramos utilizar una nueva entrada, pero el resto permanecerá siempre igual."
      ]
    },
    {
      "cell_type": "markdown",
      "metadata": {
      },
      "source": [
        "![semisumador implementado en un circuito cuántico](images/half-adder.svg)\n"
      ]
    },
    {
      "cell_type": "markdown",
      "metadata": {
        "gloss": {
          "xor": {
            "text": "An XOR gate implements an exclusive or; that is, a true output results if one, and only one, of the inputs to the gate is true. If both inputs are false or both are true, a false output results",
            "title": "XOR gate"
          }
        }
      },
      "source": [
        "Los dos bits que queremos agregar están codificados en los qubits 0 y 1. El ejemplo anterior codifica un `1` en ambos qubits, por lo que busca encontrar la solución de `1+1`. El resultado será una cadena de dos bits, que leeremos de los qubits 2 y 3 y almacenaremos en los bits clásicos 0 y 1, respectivamente.\n",
        "\n",
        "Las operaciones básicas de la computación se conocen como compuertas lógicas. Ya hemos usado la compuerta NOT, pero esto no es suficiente para hacer nuestro semisumador. Solo podíamos usarlo para escribir manualmente las respuestas. Dado que queremos que la computadora haga el cálculo real por nosotros, necesitaremos algunas compuertas más poderosas.\n",
        "\n",
        "Para ver lo que necesitamos, echemos otro vistazo a lo que necesita hacer nuestro semisumador.\n",
        "\n",
        "```code\n",
        "0+0 = 00\n",
        "0+1 = 01\n",
        "1+0 = 01\n",
        "1+1 = 10\n",
        "```\n",
        "\n",
        "El bit más a la derecha en las cuatro respuestas está completamente determinado por si los dos bits que estamos sumando son iguales o diferentes. Entonces, para `0+0` y `1+1`, donde los dos bits son iguales, el bit más a la derecha de la respuesta es [[0|1]]. Para `0+1` y `1+0`, donde estamos sumando diferentes valores de bit, el bit más a la derecha es [[1|0]].\n",
        "\n",
        "Para que esta parte de nuestra solución sea correcta, necesitamos algo que pueda determinar si dos bits son diferentes o no. Tradicionalmente, en el estudio de la computación digital, esto se denomina [compuerta XOR](gloss:xor).\n",
        "\n",
        "Entrada 1 | Entrada 2 | Salida XOR\n",
        ":-: | :-: | :-:\n",
        "0 | 0 | 0\n",
        "0 | 1 | 1\n",
        "1 | 0 | 1\n",
        "1 | 1 | 0\n",
        "\n",
        "En las computadoras cuánticas, el trabajo de la compuerta XOR lo realiza la compuerta NOT controlada. Dado que es un nombre bastante largo, generalmente la llamamos CNOT. En Qiskit su nombre es `cx`, que es aún más corto. En los diagramas de circuito, se dibuja como en la imagen de abajo."
      ]
    },
    {
      "cell_type": "code",
      "execution_count": 11,
      "metadata": {
      },
      "outputs": [
        {
          "data": {
            "image/svg+xml": [
              "<?xml version=\"1.0\" encoding=\"UTF-8\"?><!DOCTYPE svg  PUBLIC '-//W3C//DTD SVG 1.1//EN'  'http://www.w3.org/Graphics/SVG/1.1/DTD/svg11.dtd'><svg width=\"125.12pt\" height=\"123.48pt\" version=\"1.1\" viewBox=\"0 0 125.12 123.48\" xmlns=\"http://www.w3.org/2000/svg\" xmlns:xlink=\"http://www.w3.org/1999/xlink\"><defs><style type=\"text/css\">*{stroke-linecap:butt;stroke-linejoin:round;}</style></defs><path d=\"m0 123.48h125.12v-123.48h-125.12z\" fill=\"#ffffff\"/><path d=\"m63.381 43.561h49.996\" clip-path=\"url(#pe5255c2968)\" fill=\"none\" stroke=\"#000000\" stroke-linecap=\"square\" stroke-width=\"2\"/><path d=\"m63.381 89.012h49.996\" clip-path=\"url(#pe5255c2968)\" fill=\"none\" stroke=\"#000000\" stroke-linecap=\"square\" stroke-width=\"2\"/><path d=\"m87.925 89.012v-45.451\" clip-path=\"url(#pe5255c2968)\" fill=\"none\" stroke=\"#6fa4ff\" stroke-linecap=\"square\" stroke-width=\"2\"/><path d=\"m87.925 47.992c1.1752 0 2.3025-0.46693 3.1335-1.2979 0.83102-0.83102 1.2979-1.9583 1.2979-3.1335s-0.46693-2.3025-1.2979-3.1335c-0.83102-0.83102-1.9583-1.2979-3.1335-1.2979s-2.3025 0.46693-3.1335 1.2979c-0.83102 0.83102-1.2979 1.9583-1.2979 3.1335s0.46693 2.3025 1.2979 3.1335c0.83102 0.83102 1.9583 1.2979 3.1335 1.2979z\" clip-path=\"url(#pe5255c2968)\" fill=\"#6fa4ff\" stroke=\"#6fa4ff\" stroke-width=\"1.5\"/><path d=\"m87.925 99.352c2.7422 0 5.3725-1.0895 7.3116-3.0285 1.939-1.939 3.0285-4.5693 3.0285-7.3116s-1.0895-5.3725-3.0285-7.3116c-1.939-1.939-4.5693-3.0285-7.3116-3.0285s-5.3725 1.0895-7.3116 3.0285c-1.939 1.939-3.0285 4.5693-3.0285 7.3116s1.0895 5.3725 3.0285 7.3116c1.939 1.939 4.5693 3.0285 7.3116 3.0285z\" clip-path=\"url(#pe5255c2968)\" fill=\"#6fa4ff\" stroke=\"#6fa4ff\" stroke-width=\"2\"/><path d=\"m87.925 94.92v-11.817\" clip-path=\"url(#pe5255c2968)\" fill=\"none\" stroke=\"#ffffff\" stroke-linecap=\"square\" stroke-width=\"2\"/><path d=\"m82.016 89.012h11.817\" clip-path=\"url(#pe5255c2968)\" fill=\"none\" stroke=\"#ffffff\" stroke-linecap=\"square\" stroke-width=\"2\"/><g clip-path=\"url(#pe5255c2968)\"><g transform=\"translate(36.253 48.012) scale(.1625 -.1625)\"><defs><path id=\"DejaVuSans-Oblique-71\" transform=\"scale(.015625)\" d=\"m2669 525q-231-303-546-460-314-156-695-156-531 0-833 358-301 358-301 986 0 506 186 978t533 847q225 244 517 375t614 131q387 0 637-153t363-462l100 525h578l-934-4813h-579l360 1844zm-1778 813q0-463 193-705 194-242 560-242 544 0 928 520t384 1264q0 450-199 689-198 239-569 239-272 0-504-127-231-126-403-370-181-256-286-600-104-343-104-668z\"/><path id=\"DejaVuSans-30\" transform=\"scale(.015625)\" d=\"m2034 4250q-487 0-733-480-245-479-245-1442 0-959 245-1439 246-480 733-480 491 0 736 480 246 480 246 1439 0 963-246 1442-245 480-736 480zm0 500q785 0 1199-621 414-620 414-1801 0-1178-414-1799-414-620-1199-620-784 0-1198 620-414 621-414 1799 0 1181 414 1801 414 621 1198 621z\"/></defs><use xlink:href=\"#DejaVuSans-Oblique-71\"/><use transform=\"translate(63.477 -16.406) scale(.7)\" xlink:href=\"#DejaVuSans-30\"/></g></g><g clip-path=\"url(#pe5255c2968)\"><g transform=\"translate(36.253 93.463) scale(.1625 -.1625)\"><defs><path id=\"DejaVuSans-31\" transform=\"scale(.015625)\" d=\"m794 531h1031v3560l-1122-225v575l1116 225h631v-4135h1031v-531h-2687v531z\"/></defs><use xlink:href=\"#DejaVuSans-Oblique-71\"/><use transform=\"translate(63.477 -16.406) scale(.7)\" xlink:href=\"#DejaVuSans-31\"/></g></g><defs><clipPath id=\"pe5255c2968\"><rect x=\"7.2\" y=\"7.2\" width=\"110.72\" height=\"109.08\"/></clipPath></defs></svg>"
            ],
            "text/plain": [
              "<Figure size 146.652x144.48 with 1 Axes>"
            ]
          },
          "execution_count": 11,
          "metadata": {
          },
          "output_type": "execute_result"
        }
      ],
      "source": [
        "qc_cnot = QuantumCircuit(2)\n",
        "qc_cnot.cx(0,1)\n",
        "qc_cnot.draw()"
      ]
    },
    {
      "cell_type": "markdown",
      "metadata": {
      },
      "source": [
        "Esto se aplica a un par de qubits. Uno actúa como el qubit de control (este es el que tiene el pequeño punto). El otro actúa como el *qubit objetivo* (con el círculo grande que tiene un `+` dentro).\n",
        "\n",
        "Hay múltiples formas de explicar el efecto del CNOT. Una es decir que se fija en sus dos bits de entrada para ver si son iguales o diferentes. A continuación, sobrescribe el qubit objetivo con la respuesta. El objetivo se convierte en `0` si son iguales y `1` si son diferentes.\n",
        "\n",
        "<img src=\"images/cnot_xor.svg\">\n",
        "\n",
        "Otra forma de explicar el CNOT es decir que hace un NOT en el objetivo si el control es `1` y no hace nada en caso contrario. Esta explicación es tan válida como la anterior (de hecho, es la que da nombre a la compuerta).\n",
        "\n",
        "Prueba el CNOT tu mismo intentando con cada una de las entradas posibles. Por ejemplo, aquí hay un circuito que prueba el CNOT con la entrada `01`."
      ]
    },
    {
      "cell_type": "code",
      "execution_count": 12,
      "metadata": {
      },
      "outputs": [
        {
          "data": {
            "image/svg+xml": [
              "<?xml version=\"1.0\" encoding=\"UTF-8\"?><!DOCTYPE svg  PUBLIC '-//W3C//DTD SVG 1.1//EN'  'http://www.w3.org/Graphics/SVG/1.1/DTD/svg11.dtd'><svg width=\"261.48pt\" height=\"168.93pt\" version=\"1.1\" viewBox=\"0 0 261.48 168.93\" xmlns=\"http://www.w3.org/2000/svg\" xmlns:xlink=\"http://www.w3.org/1999/xlink\"><defs><style type=\"text/css\">*{stroke-linecap:butt;stroke-linejoin:round;}</style></defs><path d=\"m0 168.93h261.48v-168.93h-261.48z\" fill=\"#ffffff\"/><path d=\"m172.92 124.12h11.817l-5.9086 8.5221z\" clip-path=\"url(#p8f3b521eb2)\" fill=\"#778899\"/><path d=\"m218.37 124.12h11.817l-5.9086 8.5221z\" clip-path=\"url(#p8f3b521eb2)\" fill=\"#778899\"/><path d=\"m63.381 43.561h186.35\" clip-path=\"url(#p8f3b521eb2)\" fill=\"none\" stroke=\"#000000\" stroke-linecap=\"square\" stroke-width=\"2\"/><path d=\"m63.381 89.012h186.35\" clip-path=\"url(#p8f3b521eb2)\" fill=\"none\" stroke=\"#000000\" stroke-linecap=\"square\" stroke-width=\"2\"/><path d=\"m63.381 132.99h186.35\" clip-path=\"url(#p8f3b521eb2)\" fill=\"none\" stroke=\"#778899\" stroke-linecap=\"square\" stroke-width=\"2\"/><path d=\"m63.381 135.94h186.35\" clip-path=\"url(#p8f3b521eb2)\" fill=\"none\" stroke=\"#778899\" stroke-linecap=\"square\" stroke-width=\"2\"/><path d=\"m133.38 89.012v-45.451\" clip-path=\"url(#p8f3b521eb2)\" fill=\"none\" stroke=\"#6fa4ff\" stroke-linecap=\"square\" stroke-width=\"2\"/><path d=\"m180.3 43.561v80.562\" clip-path=\"url(#p8f3b521eb2)\" fill=\"none\" stroke=\"#778899\" stroke-linecap=\"square\" stroke-width=\"2\"/><path d=\"m177.35 43.561v80.562\" clip-path=\"url(#p8f3b521eb2)\" fill=\"none\" stroke=\"#778899\" stroke-linecap=\"square\" stroke-width=\"2\"/><path d=\"m225.75 89.012v35.111\" clip-path=\"url(#p8f3b521eb2)\" fill=\"none\" stroke=\"#778899\" stroke-linecap=\"square\" stroke-width=\"2\"/><path d=\"m222.8 89.012v35.111\" clip-path=\"url(#p8f3b521eb2)\" fill=\"none\" stroke=\"#778899\" stroke-linecap=\"square\" stroke-width=\"2\"/><path d=\"m72.471 139.01 4.5451-9.0902\" clip-path=\"url(#p8f3b521eb2)\" fill=\"none\" stroke=\"#778899\" stroke-linecap=\"square\" stroke-width=\"1.5\"/><path d=\"m73.153 58.332h29.543v-29.543h-29.543z\" clip-path=\"url(#p8f3b521eb2)\" fill=\"#05bab6\" stroke=\"#05bab6\" stroke-width=\"1.5\"/><path d=\"m133.38 47.992c1.1752 0 2.3025-0.46693 3.1335-1.2979 0.83102-0.83102 1.2979-1.9583 1.2979-3.1335s-0.46693-2.3025-1.2979-3.1335c-0.83102-0.83102-1.9583-1.2979-3.1335-1.2979s-2.3025 0.46693-3.1335 1.2979c-0.83102 0.83102-1.2979 1.9583-1.2979 3.1335s0.46693 2.3025 1.2979 3.1335c0.83102 0.83102 1.9583 1.2979 3.1335 1.2979z\" clip-path=\"url(#p8f3b521eb2)\" fill=\"#6fa4ff\" stroke=\"#6fa4ff\" stroke-width=\"1.5\"/><path d=\"m133.38 99.352c2.7422 0 5.3725-1.0895 7.3116-3.0285 1.939-1.939 3.0285-4.5693 3.0285-7.3116s-1.0895-5.3725-3.0285-7.3116c-1.939-1.939-4.5693-3.0285-7.3116-3.0285s-5.3725 1.0895-7.3116 3.0285c-1.939 1.939-3.0285 4.5693-3.0285 7.3116s1.0895 5.3725 3.0285 7.3116c1.939 1.939 4.5693 3.0285 7.3116 3.0285z\" clip-path=\"url(#p8f3b521eb2)\" fill=\"#6fa4ff\" stroke=\"#6fa4ff\" stroke-width=\"2\"/><path d=\"m164.06 58.332h29.543v-29.543h-29.543z\" clip-path=\"url(#p8f3b521eb2)\" stroke=\"#000000\" stroke-width=\"1.5\"/><path d=\"m189.17 47.992c0-2.7413-1.0901-5.3732-3.0285-7.3116-1.9384-1.9384-4.5702-3.0285-7.3116-3.0285s-5.3732 1.0901-7.3116 3.0285c-1.9384 1.9384-3.0285 4.5702-3.0285 7.3116\" clip-path=\"url(#p8f3b521eb2)\" fill=\"none\" stroke=\"#ffffff\" stroke-width=\"2\"/><path d=\"m209.51 103.78h29.543v-29.543h-29.543z\" clip-path=\"url(#p8f3b521eb2)\" stroke=\"#000000\" stroke-width=\"1.5\"/><path d=\"m234.62 93.443c0-2.7413-1.0901-5.3732-3.0285-7.3116-1.9384-1.9384-4.5702-3.0285-7.3116-3.0285s-5.3732 1.0901-7.3116 3.0285c-1.9384 1.9384-3.0285 4.5702-3.0285 7.3116\" clip-path=\"url(#p8f3b521eb2)\" fill=\"none\" stroke=\"#ffffff\" stroke-width=\"2\"/><path d=\"m178.83 47.992 10.34-10.34\" clip-path=\"url(#p8f3b521eb2)\" fill=\"none\" stroke=\"#ffffff\" stroke-linecap=\"square\" stroke-width=\"2\"/><path d=\"m224.28 93.443 10.34-10.34\" clip-path=\"url(#p8f3b521eb2)\" fill=\"none\" stroke=\"#ffffff\" stroke-linecap=\"square\" stroke-width=\"2\"/><path d=\"m133.38 94.92v-11.817\" clip-path=\"url(#p8f3b521eb2)\" fill=\"none\" stroke=\"#ffffff\" stroke-linecap=\"square\" stroke-width=\"2\"/><path d=\"m127.47 89.012h11.817\" clip-path=\"url(#p8f3b521eb2)\" fill=\"none\" stroke=\"#ffffff\" stroke-linecap=\"square\" stroke-width=\"2\"/><g clip-path=\"url(#p8f3b521eb2)\"><g transform=\"translate(83.472 47.148) scale(.13 -.13)\"><defs><path id=\"DejaVuSans-58\" transform=\"scale(.015625)\" d=\"m403 4666h678l1160-1735 1165 1735h678l-1500-2241 1600-2425h-678l-1312 1984-1322-1984h-681l1665 2491-1453 2175z\"/></defs><use xlink:href=\"#DejaVuSans-58\"/></g></g><g clip-path=\"url(#p8f3b521eb2)\"><g transform=\"translate(190.19 127.75) scale(.104 -.104)\"><defs><path id=\"DejaVuSans-30\" transform=\"scale(.015625)\" d=\"m2034 4250q-487 0-733-480-245-479-245-1442 0-959 245-1439 246-480 733-480 491 0 736 480 246 480 246 1439 0 963-246 1442-245 480-736 480zm0 500q785 0 1199-621 414-620 414-1801 0-1178-414-1799-414-620-1199-620-784 0-1198 620-414 621-414 1799 0 1181 414 1801 414 621 1198 621z\"/></defs><use xlink:href=\"#DejaVuSans-30\"/></g></g><g clip-path=\"url(#p8f3b521eb2)\"><g transform=\"translate(235.64 127.75) scale(.104 -.104)\"><defs><path id=\"DejaVuSans-31\" transform=\"scale(.015625)\" d=\"m794 531h1031v3560l-1122-225v575l1116 225h631v-4135h1031v-531h-2687v531z\"/></defs><use xlink:href=\"#DejaVuSans-31\"/></g></g><g clip-path=\"url(#p8f3b521eb2)\"><g transform=\"translate(36.253 48.012) scale(.1625 -.1625)\"><defs><path id=\"DejaVuSans-Oblique-71\" transform=\"scale(.015625)\" d=\"m2669 525q-231-303-546-460-314-156-695-156-531 0-833 358-301 358-301 986 0 506 186 978t533 847q225 244 517 375t614 131q387 0 637-153t363-462l100 525h578l-934-4813h-579l360 1844zm-1778 813q0-463 193-705 194-242 560-242 544 0 928 520t384 1264q0 450-199 689-198 239-569 239-272 0-504-127-231-126-403-370-181-256-286-600-104-343-104-668z\"/></defs><use xlink:href=\"#DejaVuSans-Oblique-71\"/><use transform=\"translate(63.477 -16.406) scale(.7)\" xlink:href=\"#DejaVuSans-30\"/></g></g><g clip-path=\"url(#p8f3b521eb2)\"><g transform=\"translate(36.253 93.463) scale(.1625 -.1625)\"><use xlink:href=\"#DejaVuSans-Oblique-71\"/><use transform=\"translate(63.477 -16.406) scale(.7)\" xlink:href=\"#DejaVuSans-31\"/></g></g><g clip-path=\"url(#p8f3b521eb2)\"><g transform=\"translate(67.926 127.75) scale(.104 -.104)\"><defs><path id=\"DejaVuSans-32\" transform=\"scale(.015625)\" d=\"m1228 531h2203v-531h-2962v531q359 372 979 998 621 627 780 809 303 340 423 576 121 236 121 464 0 372-261 606-261 235-680 235-297 0-627-103-329-103-704-313v638q381 153 712 231 332 78 607 78 725 0 1156-363 431-362 431-968 0-288-108-546-107-257-392-607-78-91-497-524-418-433-1181-1211z\"/></defs><use xlink:href=\"#DejaVuSans-32\"/></g></g><g clip-path=\"url(#p8f3b521eb2)\"><g transform=\"translate(45.356 138.95) scale(.1625 -.1625)\"><defs><path id=\"DejaVuSans-63\" transform=\"scale(.015625)\" d=\"m3122 3366v-538q-244 135-489 202t-495 67q-560 0-870-355-309-354-309-995t309-996q310-354 870-354 250 0 495 67t489 202v-532q-241-112-499-168-257-57-548-57-791 0-1257 497-465 497-465 1341 0 856 470 1346 471 491 1290 491 265 0 518-55 253-54 491-163z\"/></defs><use xlink:href=\"#DejaVuSans-63\"/></g></g><defs><clipPath id=\"p8f3b521eb2\"><rect x=\"7.2\" y=\"7.2\" width=\"247.08\" height=\"154.53\"/></clipPath></defs></svg>"
            ],
            "text/plain": [
              "<Figure size 327.252x204.68 with 1 Axes>"
            ]
          },
          "execution_count": 12,
          "metadata": {
          },
          "output_type": "execute_result"
        }
      ],
      "source": [
        "qc = QuantumCircuit(2,2)\n",
        "qc.x(0)\n",
        "qc.cx(0,1)\n",
        "qc.measure(0,0)\n",
        "qc.measure(1,1)\n",
        "qc.draw()"
      ]
    },
    {
      "cell_type": "markdown",
      "metadata": {
      },
      "source": [
        "Si ejecutas este circuito, encontrarás que la salida es `11`. Podemos pensar que esto sucede por cualquiera de las siguientes razones.\n",
        "\n",
        "- El CNOT calcula si los valores de entrada son diferentes y descubre que lo son, lo que significa que quiere generar un `1`. Para ello, escribe sobre el estado del qubit 1 (que, recuerda, está a la izquierda de la cadena de bits), convirtiendo `01` en `11`.\n",
        "\n",
        "- El CNOT ve que el qubit 0 está en el estado `1`, por lo que aplica un NOT al qubit 1. Esto convierte el `0` del qubit 1 en un `1`, por lo que convierte `01` en `11`.\n",
        "\n",
        "Aquí hay una tabla que muestra todas las entradas posibles y las salidas correspondientes de la compuerta CNOT:\n",
        "\n",
        "Entrada (q1 q0) | Salida (q1 q0)\n",
        ":-: | :-:\n",
        "00 | 00\n",
        "01 | 11\n",
        "10 | 10\n",
        "11 | 01\n",
        "\n",
        "Para nuestro semisumador, no queremos sobrescribir una de nuestras entradas. En cambio, queremos escribir el resultado en un par diferente de qubits. Para ello, podemos utilizar dos CNOT."
      ]
    },
    {
      "cell_type": "code",
      "execution_count": 13,
      "metadata": {
      },
      "outputs": [
        {
          "data": {
            "image/svg+xml": [
              "<?xml version=\"1.0\" encoding=\"UTF-8\"?><!DOCTYPE svg  PUBLIC '-//W3C//DTD SVG 1.1//EN'  'http://www.w3.org/Graphics/SVG/1.1/DTD/svg11.dtd'><svg width=\"397.94pt\" height=\"259.84pt\" version=\"1.1\" viewBox=\"0 0 397.94 259.84\" xmlns=\"http://www.w3.org/2000/svg\" xmlns:xlink=\"http://www.w3.org/1999/xlink\"><defs><style type=\"text/css\">*{stroke-linecap:butt;stroke-linejoin:round;}</style></defs><path d=\"m0 259.84h397.94v-259.84h-397.94z\" fill=\"#ffffff\"/><path d=\"m309.38 215.02h11.817l-5.9086 8.5221z\" clip-path=\"url(#p0da38d45c0)\" fill=\"#778899\"/><path d=\"m354.83 215.02h11.817l-5.9086 8.5221z\" clip-path=\"url(#p0da38d45c0)\" fill=\"#778899\"/><path d=\"m63.491 43.561h322.7\" clip-path=\"url(#p0da38d45c0)\" fill=\"none\" stroke=\"#000000\" stroke-linecap=\"square\" stroke-width=\"2\"/><path d=\"m63.491 89.012h322.7\" clip-path=\"url(#p0da38d45c0)\" fill=\"none\" stroke=\"#000000\" stroke-linecap=\"square\" stroke-width=\"2\"/><path d=\"m63.491 134.46h322.7\" clip-path=\"url(#p0da38d45c0)\" fill=\"none\" stroke=\"#000000\" stroke-linecap=\"square\" stroke-width=\"2\"/><path d=\"m63.491 179.91h322.7\" clip-path=\"url(#p0da38d45c0)\" fill=\"none\" stroke=\"#000000\" stroke-linecap=\"square\" stroke-width=\"2\"/><path d=\"m63.491 223.89h322.7\" clip-path=\"url(#p0da38d45c0)\" fill=\"none\" stroke=\"#778899\" stroke-linecap=\"square\" stroke-width=\"2\"/><path d=\"m63.491 226.84h322.7\" clip-path=\"url(#p0da38d45c0)\" fill=\"none\" stroke=\"#778899\" stroke-linecap=\"square\" stroke-width=\"2\"/><path d=\"m124.62 66.286h17.726v-45.451h-17.726z\" clip-path=\"url(#p0da38d45c0)\" fill=\"#bdbdbd\" opacity=\".6\"/><path d=\"m124.62 111.74h17.726v-45.451h-17.726z\" clip-path=\"url(#p0da38d45c0)\" fill=\"#bdbdbd\" opacity=\".6\"/><path d=\"m124.62 157.19h17.726v-45.451h-17.726z\" clip-path=\"url(#p0da38d45c0)\" fill=\"#bdbdbd\" opacity=\".6\"/><path d=\"m124.62 202.64h17.726v-45.451h-17.726z\" clip-path=\"url(#p0da38d45c0)\" fill=\"#bdbdbd\" opacity=\".6\"/><path d=\"m260.98 66.286h17.726v-45.451h-17.726z\" clip-path=\"url(#p0da38d45c0)\" fill=\"#bdbdbd\" opacity=\".6\"/><path d=\"m260.98 111.74h17.726v-45.451h-17.726z\" clip-path=\"url(#p0da38d45c0)\" fill=\"#bdbdbd\" opacity=\".6\"/><path d=\"m260.98 157.19h17.726v-45.451h-17.726z\" clip-path=\"url(#p0da38d45c0)\" fill=\"#bdbdbd\" opacity=\".6\"/><path d=\"m260.98 202.64h17.726v-45.451h-17.726z\" clip-path=\"url(#p0da38d45c0)\" fill=\"#bdbdbd\" opacity=\".6\"/><path d=\"m178.94 134.46v-90.902\" clip-path=\"url(#p0da38d45c0)\" fill=\"none\" stroke=\"#6fa4ff\" stroke-linecap=\"square\" stroke-width=\"2\"/><path d=\"m224.39 134.46v-45.451\" clip-path=\"url(#p0da38d45c0)\" fill=\"none\" stroke=\"#6fa4ff\" stroke-linecap=\"square\" stroke-width=\"2\"/><path d=\"m316.77 134.46v80.562\" clip-path=\"url(#p0da38d45c0)\" fill=\"none\" stroke=\"#778899\" stroke-linecap=\"square\" stroke-width=\"2\"/><path d=\"m313.81 134.46v80.562\" clip-path=\"url(#p0da38d45c0)\" fill=\"none\" stroke=\"#778899\" stroke-linecap=\"square\" stroke-width=\"2\"/><path d=\"m362.22 179.91v35.111\" clip-path=\"url(#p0da38d45c0)\" fill=\"none\" stroke=\"#778899\" stroke-linecap=\"square\" stroke-width=\"2\"/><path d=\"m359.26 179.91v35.111\" clip-path=\"url(#p0da38d45c0)\" fill=\"none\" stroke=\"#778899\" stroke-linecap=\"square\" stroke-width=\"2\"/><path d=\"m72.581 229.91 4.5451-9.0902\" clip-path=\"url(#p0da38d45c0)\" fill=\"none\" stroke=\"#778899\" stroke-linecap=\"square\" stroke-width=\"1.5\"/><path d=\"m73.263 58.332h29.543v-29.543h-29.543z\" clip-path=\"url(#p0da38d45c0)\" fill=\"#05bab6\" stroke=\"#05bab6\" stroke-width=\"1.5\"/><path d=\"m73.263 103.78h29.543v-29.543h-29.543z\" clip-path=\"url(#p0da38d45c0)\" fill=\"#05bab6\" stroke=\"#05bab6\" stroke-width=\"1.5\"/><path d=\"m178.94 47.992c1.1752 0 2.3025-0.46693 3.1335-1.2979 0.83102-0.83102 1.2979-1.9583 1.2979-3.1335s-0.46693-2.3025-1.2979-3.1335c-0.83102-0.83102-1.9583-1.2979-3.1335-1.2979s-2.3025 0.46693-3.1335 1.2979c-0.83102 0.83102-1.2979 1.9583-1.2979 3.1335s0.46693 2.3025 1.2979 3.1335c0.83102 0.83102 1.9583 1.2979 3.1335 1.2979z\" clip-path=\"url(#p0da38d45c0)\" fill=\"#6fa4ff\" stroke=\"#6fa4ff\" stroke-width=\"1.5\"/><path d=\"m178.94 144.8c2.7422 0 5.3725-1.0895 7.3116-3.0285 1.939-1.939 3.0285-4.5693 3.0285-7.3116s-1.0895-5.3725-3.0285-7.3116c-1.939-1.939-4.5693-3.0285-7.3116-3.0285s-5.3725 1.0895-7.3116 3.0285c-1.939 1.939-3.0285 4.5693-3.0285 7.3116s1.0895 5.3725 3.0285 7.3116c1.939 1.939 4.5693 3.0285 7.3116 3.0285z\" clip-path=\"url(#p0da38d45c0)\" fill=\"#6fa4ff\" stroke=\"#6fa4ff\" stroke-width=\"2\"/><path d=\"m224.39 93.443c1.1752 0 2.3025-0.46693 3.1335-1.2979 0.83102-0.83102 1.2979-1.9583 1.2979-3.1335s-0.46693-2.3025-1.2979-3.1335c-0.83102-0.83102-1.9583-1.2979-3.1335-1.2979s-2.3025 0.46693-3.1335 1.2979c-0.83102 0.83102-1.2979 1.9583-1.2979 3.1335s0.46693 2.3025 1.2979 3.1335c0.83102 0.83102 1.9583 1.2979 3.1335 1.2979z\" clip-path=\"url(#p0da38d45c0)\" fill=\"#6fa4ff\" stroke=\"#6fa4ff\" stroke-width=\"1.5\"/><path d=\"m224.39 144.8c2.7422 0 5.3725-1.0895 7.3116-3.0285 1.939-1.939 3.0285-4.5693 3.0285-7.3116s-1.0895-5.3725-3.0285-7.3116c-1.939-1.939-4.5693-3.0285-7.3116-3.0285s-5.3725 1.0895-7.3116 3.0285c-1.939 1.939-3.0285 4.5693-3.0285 7.3116s1.0895 5.3725 3.0285 7.3116c1.939 1.939 4.5693 3.0285 7.3116 3.0285z\" clip-path=\"url(#p0da38d45c0)\" fill=\"#6fa4ff\" stroke=\"#6fa4ff\" stroke-width=\"2\"/><path d=\"m300.52 149.23h29.543v-29.543h-29.543z\" clip-path=\"url(#p0da38d45c0)\" stroke=\"#000000\" stroke-width=\"1.5\"/><path d=\"m325.63 138.89c0-2.7413-1.0901-5.3732-3.0285-7.3116s-4.5702-3.0285-7.3116-3.0285-5.3732 1.0901-7.3116 3.0285c-1.9384 1.9384-3.0285 4.5702-3.0285 7.3116\" clip-path=\"url(#p0da38d45c0)\" fill=\"none\" stroke=\"#ffffff\" stroke-width=\"2\"/><path d=\"m345.97 194.69h29.543v-29.543h-29.543z\" clip-path=\"url(#p0da38d45c0)\" stroke=\"#000000\" stroke-width=\"1.5\"/><path d=\"m371.08 184.35c0-2.7413-1.0901-5.3732-3.0285-7.3116s-4.5702-3.0285-7.3116-3.0285-5.3732 1.0901-7.3116 3.0285c-1.9384 1.9384-3.0285 4.5702-3.0285 7.3116\" clip-path=\"url(#p0da38d45c0)\" fill=\"none\" stroke=\"#ffffff\" stroke-width=\"2\"/><path d=\"m315.29 138.89 10.34-10.34\" clip-path=\"url(#p0da38d45c0)\" fill=\"none\" stroke=\"#ffffff\" stroke-linecap=\"square\" stroke-width=\"2\"/><path d=\"m360.74 184.35 10.34-10.34\" clip-path=\"url(#p0da38d45c0)\" fill=\"none\" stroke=\"#ffffff\" stroke-linecap=\"square\" stroke-width=\"2\"/><path d=\"m133.49 20.835v45.451\" clip-path=\"url(#p0da38d45c0)\" fill=\"none\" stroke=\"#000000\" stroke-dasharray=\"3.7,1.6\"/><path d=\"m133.49 66.286v45.451\" clip-path=\"url(#p0da38d45c0)\" fill=\"none\" stroke=\"#000000\" stroke-dasharray=\"3.7,1.6\"/><path d=\"m133.49 111.74v45.451\" clip-path=\"url(#p0da38d45c0)\" fill=\"none\" stroke=\"#000000\" stroke-dasharray=\"3.7,1.6\"/><path d=\"m133.49 157.19v45.451\" clip-path=\"url(#p0da38d45c0)\" fill=\"none\" stroke=\"#000000\" stroke-dasharray=\"3.7,1.6\"/><path d=\"m178.94 140.37v-11.817\" clip-path=\"url(#p0da38d45c0)\" fill=\"none\" stroke=\"#ffffff\" stroke-linecap=\"square\" stroke-width=\"2\"/><path d=\"m173.03 134.46h11.817\" clip-path=\"url(#p0da38d45c0)\" fill=\"none\" stroke=\"#ffffff\" stroke-linecap=\"square\" stroke-width=\"2\"/><path d=\"m224.39 140.37v-11.817\" clip-path=\"url(#p0da38d45c0)\" fill=\"none\" stroke=\"#ffffff\" stroke-linecap=\"square\" stroke-width=\"2\"/><path d=\"m218.48 134.46h11.817\" clip-path=\"url(#p0da38d45c0)\" fill=\"none\" stroke=\"#ffffff\" stroke-linecap=\"square\" stroke-width=\"2\"/><path d=\"m269.84 20.835v45.451\" clip-path=\"url(#p0da38d45c0)\" fill=\"none\" stroke=\"#000000\" stroke-dasharray=\"3.7,1.6\"/><path d=\"m269.84 66.286v45.451\" clip-path=\"url(#p0da38d45c0)\" fill=\"none\" stroke=\"#000000\" stroke-dasharray=\"3.7,1.6\"/><path d=\"m269.84 111.74v45.451\" clip-path=\"url(#p0da38d45c0)\" fill=\"none\" stroke=\"#000000\" stroke-dasharray=\"3.7,1.6\"/><path d=\"m269.84 157.19v45.451\" clip-path=\"url(#p0da38d45c0)\" fill=\"none\" stroke=\"#000000\" stroke-dasharray=\"3.7,1.6\"/><g clip-path=\"url(#p0da38d45c0)\"><g transform=\"translate(83.582 47.148) scale(.13 -.13)\"><defs><path id=\"DejaVuSans-58\" transform=\"scale(.015625)\" d=\"m403 4666h678l1160-1735 1165 1735h678l-1500-2241 1600-2425h-678l-1312 1984-1322-1984h-681l1665 2491-1453 2175z\"/></defs><use xlink:href=\"#DejaVuSans-58\"/></g></g><g clip-path=\"url(#p0da38d45c0)\"><g transform=\"translate(83.582 92.599) scale(.13 -.13)\"><use xlink:href=\"#DejaVuSans-58\"/></g></g><g clip-path=\"url(#p0da38d45c0)\"><g transform=\"translate(326.65 218.66) scale(.104 -.104)\"><defs><path id=\"DejaVuSans-30\" transform=\"scale(.015625)\" d=\"m2034 4250q-487 0-733-480-245-479-245-1442 0-959 245-1439 246-480 733-480 491 0 736 480 246 480 246 1439 0 963-246 1442-245 480-736 480zm0 500q785 0 1199-621 414-620 414-1801 0-1178-414-1799-414-620-1199-620-784 0-1198 620-414 621-414 1799 0 1181 414 1801 414 621 1198 621z\"/></defs><use xlink:href=\"#DejaVuSans-30\"/></g></g><g clip-path=\"url(#p0da38d45c0)\"><g transform=\"translate(372.1 218.66) scale(.104 -.104)\"><defs><path id=\"DejaVuSans-31\" transform=\"scale(.015625)\" d=\"m794 531h1031v3560l-1122-225v575l1116 225h631v-4135h1031v-531h-2687v531z\"/></defs><use xlink:href=\"#DejaVuSans-31\"/></g></g><g clip-path=\"url(#p0da38d45c0)\"><g transform=\"translate(36.363 48.012) scale(.1625 -.1625)\"><defs><path id=\"DejaVuSans-Oblique-71\" transform=\"scale(.015625)\" d=\"m2669 525q-231-303-546-460-314-156-695-156-531 0-833 358-301 358-301 986 0 506 186 978t533 847q225 244 517 375t614 131q387 0 637-153t363-462l100 525h578l-934-4813h-579l360 1844zm-1778 813q0-463 193-705 194-242 560-242 544 0 928 520t384 1264q0 450-199 689-198 239-569 239-272 0-504-127-231-126-403-370-181-256-286-600-104-343-104-668z\"/></defs><use xlink:href=\"#DejaVuSans-Oblique-71\"/><use transform=\"translate(63.477 -16.406) scale(.7)\" xlink:href=\"#DejaVuSans-30\"/></g></g><g clip-path=\"url(#p0da38d45c0)\"><g transform=\"translate(36.363 93.463) scale(.1625 -.1625)\"><use xlink:href=\"#DejaVuSans-Oblique-71\"/><use transform=\"translate(63.477 -16.406) scale(.7)\" xlink:href=\"#DejaVuSans-31\"/></g></g><g clip-path=\"url(#p0da38d45c0)\"><g transform=\"translate(36.363 138.91) scale(.1625 -.1625)\"><defs><path id=\"DejaVuSans-32\" transform=\"scale(.015625)\" d=\"m1228 531h2203v-531h-2962v531q359 372 979 998 621 627 780 809 303 340 423 576 121 236 121 464 0 372-261 606-261 235-680 235-297 0-627-103-329-103-704-313v638q381 153 712 231 332 78 607 78 725 0 1156-363 431-362 431-968 0-288-108-546-107-257-392-607-78-91-497-524-418-433-1181-1211z\"/></defs><use xlink:href=\"#DejaVuSans-Oblique-71\"/><use transform=\"translate(63.477 -16.406) scale(.7)\" xlink:href=\"#DejaVuSans-32\"/></g></g><g clip-path=\"url(#p0da38d45c0)\"><g transform=\"translate(36.363 184.36) scale(.1625 -.1625)\"><defs><path id=\"DejaVuSans-33\" transform=\"scale(.015625)\" d=\"m2597 2516q453-97 707-404 255-306 255-756 0-690-475-1069-475-378-1350-378-293 0-604 58t-642 174v609q262-153 574-231 313-78 654-78 593 0 904 234t311 681q0 413-289 645-289 233-804 233h-544v519h569q465 0 712 186t247 536q0 359-255 551-254 193-729 193-260 0-557-57-297-56-653-174v562q360 100 674 150t592 50q719 0 1137-327 419-326 419-882 0-388-222-655t-631-370z\"/></defs><use xlink:href=\"#DejaVuSans-Oblique-71\"/><use transform=\"translate(63.477 -16.406) scale(.7)\" xlink:href=\"#DejaVuSans-33\"/></g></g><g clip-path=\"url(#p0da38d45c0)\"><g transform=\"translate(68.036 218.66) scale(.104 -.104)\"><use xlink:href=\"#DejaVuSans-32\"/></g></g><g clip-path=\"url(#p0da38d45c0)\"><g transform=\"translate(45.466 229.85) scale(.1625 -.1625)\"><defs><path id=\"DejaVuSans-63\" transform=\"scale(.015625)\" d=\"m3122 3366v-538q-244 135-489 202t-495 67q-560 0-870-355-309-354-309-995t309-996q310-354 870-354 250 0 495 67t489 202v-532q-241-112-499-168-257-57-548-57-791 0-1257 497-465 497-465 1341 0 856 470 1346 471 491 1290 491 265 0 518-55 253-54 491-163z\"/></defs><use xlink:href=\"#DejaVuSans-63\"/></g></g><defs><clipPath id=\"p0da38d45c0\"><rect x=\"7.2\" y=\"7.2\" width=\"383.54\" height=\"245.44\"/></clipPath></defs></svg>"
            ],
            "text/plain": [
              "<Figure size 507.997x325.08 with 1 Axes>"
            ]
          },
          "execution_count": 13,
          "metadata": {
          },
          "output_type": "execute_result"
        }
      ],
      "source": [
        "qc_ha = QuantumCircuit(4,2)\n",
        "# codificar las entradas en los qubits 0 y 1\n",
        "qc_ha.x(0) # Para a=0, remover esta línea. Para a=1, dejarla.\n",
        "qc_ha.x(1) # Para b=0, remover esta línea. Para b=1, dejarla\n",
        "qc_ha.barrier()\n",
        "# usar cnots para escribir el XOR de las entradas en el qubit 2\n",
        "qc_ha.cx(0,2)\n",
        "qc_ha.cx(1,2)\n",
        "qc_ha.barrier()\n",
        "# extraer las salidas\n",
        "qc_ha.measure(2,0) # extraer el valor del XOR\n",
        "qc_ha.measure(3,1)\n",
        "\n",
        "qc_ha.draw()"
      ]
    },
    {
      "cell_type": "markdown",
      "metadata": {
        "gloss": {
          "toffoli": {
            "text": "The Toffoli gate, invented by Tommaso Toffoli, is a universal reversible logic gate, which means that any reversible circuit can be constructed from Toffoli gates. It is also known as the _controlled-controlled-not_ gate, which describes its action. It has 3-bit inputs and outputs; if the first two bits are both set to 1, it inverts the third bit, otherwise all bits stay the same.",
            "title": "Toffoli"
          }
        }
      },
      "source": [
        "Ahora estamos a mitad de camino hacia un semisumador completamente funcional. Solo nos queda por hacer la otra parte de la salida: la que vivirá en qubit 3.\n",
        "\n",
        "Si vuelves a mirar las cuatro sumas posibles, notarás que solo hay un caso para el que es `1` en lugar de `0`: `1+1`=`10`. Ocurre solo cuando los dos bits que estamos agregando son `1`.\n",
        "\n",
        "Para calcular esta parte de la salida, podríamos simplemente hacer que nuestra computadora examinara si ambas entradas son `1`. Si lo son, y solo si lo son, necesitamos aplicar una compuerta NOT en el qubit 3. Eso lo cambiará al valor requerido de `1` solamente para este caso, dándonos la salida que necesitamos.\n",
        "\n",
        "Para esto, necesitamos una nueva compuerta: como un CNOT pero controlado en dos qubits en lugar de solo uno. Esto realizará un NOT en el qubit objetivo solo cuando ambos controles estén en el estado `1`. Esta nueva compuerta se llama [Toffoli](gloss:toffoli). Para aquellos de ustedes que están familiarizados con las compuertas lógicas Booleanas, es básicamente una compuerta AND.\n",
        "\n",
        "En Qiskit, la Toffoli se representa con el comando `ccx`."
      ]
    },
    {
      "cell_type": "code",
      "execution_count": 14,
      "metadata": {
      },
      "outputs": [
        {
          "data": {
            "image/svg+xml": [
              "<?xml version=\"1.0\" encoding=\"UTF-8\"?><!DOCTYPE svg  PUBLIC '-//W3C//DTD SVG 1.1//EN'  'http://www.w3.org/Graphics/SVG/1.1/DTD/svg11.dtd'><svg width=\"443.39pt\" height=\"259.84pt\" version=\"1.1\" viewBox=\"0 0 443.39 259.84\" xmlns=\"http://www.w3.org/2000/svg\" xmlns:xlink=\"http://www.w3.org/1999/xlink\"><defs><style type=\"text/css\">*{stroke-linecap:butt;stroke-linejoin:round;}</style></defs><path d=\"m0 259.84h443.39v-259.84h-443.39z\" fill=\"#ffffff\"/><path d=\"m354.83 215.02h11.817l-5.9086 8.5221z\" clip-path=\"url(#p4e207b9b32)\" fill=\"#778899\"/><path d=\"m400.28 215.02h11.817l-5.9086 8.5221z\" clip-path=\"url(#p4e207b9b32)\" fill=\"#778899\"/><path d=\"m63.491 43.561h368.15\" clip-path=\"url(#p4e207b9b32)\" fill=\"none\" stroke=\"#000000\" stroke-linecap=\"square\" stroke-width=\"2\"/><path d=\"m63.491 89.012h368.15\" clip-path=\"url(#p4e207b9b32)\" fill=\"none\" stroke=\"#000000\" stroke-linecap=\"square\" stroke-width=\"2\"/><path d=\"m63.491 134.46h368.15\" clip-path=\"url(#p4e207b9b32)\" fill=\"none\" stroke=\"#000000\" stroke-linecap=\"square\" stroke-width=\"2\"/><path d=\"m63.491 179.91h368.15\" clip-path=\"url(#p4e207b9b32)\" fill=\"none\" stroke=\"#000000\" stroke-linecap=\"square\" stroke-width=\"2\"/><path d=\"m63.491 223.89h368.15\" clip-path=\"url(#p4e207b9b32)\" fill=\"none\" stroke=\"#778899\" stroke-linecap=\"square\" stroke-width=\"2\"/><path d=\"m63.491 226.84h368.15\" clip-path=\"url(#p4e207b9b32)\" fill=\"none\" stroke=\"#778899\" stroke-linecap=\"square\" stroke-width=\"2\"/><path d=\"m124.62 66.286h17.726v-45.451h-17.726z\" clip-path=\"url(#p4e207b9b32)\" fill=\"#bdbdbd\" opacity=\".6\"/><path d=\"m124.62 111.74h17.726v-45.451h-17.726z\" clip-path=\"url(#p4e207b9b32)\" fill=\"#bdbdbd\" opacity=\".6\"/><path d=\"m124.62 157.19h17.726v-45.451h-17.726z\" clip-path=\"url(#p4e207b9b32)\" fill=\"#bdbdbd\" opacity=\".6\"/><path d=\"m124.62 202.64h17.726v-45.451h-17.726z\" clip-path=\"url(#p4e207b9b32)\" fill=\"#bdbdbd\" opacity=\".6\"/><path d=\"m306.43 66.286h17.726v-45.451h-17.726z\" clip-path=\"url(#p4e207b9b32)\" fill=\"#bdbdbd\" opacity=\".6\"/><path d=\"m306.43 111.74h17.726v-45.451h-17.726z\" clip-path=\"url(#p4e207b9b32)\" fill=\"#bdbdbd\" opacity=\".6\"/><path d=\"m306.43 157.19h17.726v-45.451h-17.726z\" clip-path=\"url(#p4e207b9b32)\" fill=\"#bdbdbd\" opacity=\".6\"/><path d=\"m306.43 202.64h17.726v-45.451h-17.726z\" clip-path=\"url(#p4e207b9b32)\" fill=\"#bdbdbd\" opacity=\".6\"/><path d=\"m178.94 134.46v-90.902\" clip-path=\"url(#p4e207b9b32)\" fill=\"none\" stroke=\"#6fa4ff\" stroke-linecap=\"square\" stroke-width=\"2\"/><path d=\"m224.39 134.46v-45.451\" clip-path=\"url(#p4e207b9b32)\" fill=\"none\" stroke=\"#6fa4ff\" stroke-linecap=\"square\" stroke-width=\"2\"/><path d=\"m269.84 179.91v-136.35\" clip-path=\"url(#p4e207b9b32)\" fill=\"none\" stroke=\"#bb8bff\" stroke-linecap=\"square\" stroke-width=\"2\"/><path d=\"m362.22 134.46v80.562\" clip-path=\"url(#p4e207b9b32)\" fill=\"none\" stroke=\"#778899\" stroke-linecap=\"square\" stroke-width=\"2\"/><path d=\"m359.26 134.46v80.562\" clip-path=\"url(#p4e207b9b32)\" fill=\"none\" stroke=\"#778899\" stroke-linecap=\"square\" stroke-width=\"2\"/><path d=\"m407.67 179.91v35.111\" clip-path=\"url(#p4e207b9b32)\" fill=\"none\" stroke=\"#778899\" stroke-linecap=\"square\" stroke-width=\"2\"/><path d=\"m404.71 179.91v35.111\" clip-path=\"url(#p4e207b9b32)\" fill=\"none\" stroke=\"#778899\" stroke-linecap=\"square\" stroke-width=\"2\"/><path d=\"m72.581 229.91 4.5451-9.0902\" clip-path=\"url(#p4e207b9b32)\" fill=\"none\" stroke=\"#778899\" stroke-linecap=\"square\" stroke-width=\"1.5\"/><path d=\"m73.263 58.332h29.543v-29.543h-29.543z\" clip-path=\"url(#p4e207b9b32)\" fill=\"#05bab6\" stroke=\"#05bab6\" stroke-width=\"1.5\"/><path d=\"m73.263 103.78h29.543v-29.543h-29.543z\" clip-path=\"url(#p4e207b9b32)\" fill=\"#05bab6\" stroke=\"#05bab6\" stroke-width=\"1.5\"/><path d=\"m178.94 47.992c1.1752 0 2.3025-0.46693 3.1335-1.2979 0.83102-0.83102 1.2979-1.9583 1.2979-3.1335s-0.46693-2.3025-1.2979-3.1335c-0.83102-0.83102-1.9583-1.2979-3.1335-1.2979s-2.3025 0.46693-3.1335 1.2979c-0.83102 0.83102-1.2979 1.9583-1.2979 3.1335s0.46693 2.3025 1.2979 3.1335c0.83102 0.83102 1.9583 1.2979 3.1335 1.2979z\" clip-path=\"url(#p4e207b9b32)\" fill=\"#6fa4ff\" stroke=\"#6fa4ff\" stroke-width=\"1.5\"/><path d=\"m178.94 144.8c2.7422 0 5.3725-1.0895 7.3116-3.0285 1.939-1.939 3.0285-4.5693 3.0285-7.3116s-1.0895-5.3725-3.0285-7.3116c-1.939-1.939-4.5693-3.0285-7.3116-3.0285s-5.3725 1.0895-7.3116 3.0285c-1.939 1.939-3.0285 4.5693-3.0285 7.3116s1.0895 5.3725 3.0285 7.3116c1.939 1.939 4.5693 3.0285 7.3116 3.0285z\" clip-path=\"url(#p4e207b9b32)\" fill=\"#6fa4ff\" stroke=\"#6fa4ff\" stroke-width=\"2\"/><path d=\"m224.39 93.443c1.1752 0 2.3025-0.46693 3.1335-1.2979 0.83102-0.83102 1.2979-1.9583 1.2979-3.1335s-0.46693-2.3025-1.2979-3.1335c-0.83102-0.83102-1.9583-1.2979-3.1335-1.2979s-2.3025 0.46693-3.1335 1.2979c-0.83102 0.83102-1.2979 1.9583-1.2979 3.1335s0.46693 2.3025 1.2979 3.1335c0.83102 0.83102 1.9583 1.2979 3.1335 1.2979z\" clip-path=\"url(#p4e207b9b32)\" fill=\"#6fa4ff\" stroke=\"#6fa4ff\" stroke-width=\"1.5\"/><path d=\"m224.39 144.8c2.7422 0 5.3725-1.0895 7.3116-3.0285 1.939-1.939 3.0285-4.5693 3.0285-7.3116s-1.0895-5.3725-3.0285-7.3116c-1.939-1.939-4.5693-3.0285-7.3116-3.0285s-5.3725 1.0895-7.3116 3.0285c-1.939 1.939-3.0285 4.5693-3.0285 7.3116s1.0895 5.3725 3.0285 7.3116c1.939 1.939 4.5693 3.0285 7.3116 3.0285z\" clip-path=\"url(#p4e207b9b32)\" fill=\"#6fa4ff\" stroke=\"#6fa4ff\" stroke-width=\"2\"/><path d=\"m269.84 47.992c1.1752 0 2.3025-0.46693 3.1335-1.2979 0.83102-0.83102 1.2979-1.9583 1.2979-3.1335s-0.46693-2.3025-1.2979-3.1335c-0.83102-0.83102-1.9583-1.2979-3.1335-1.2979s-2.3025 0.46693-3.1335 1.2979c-0.83102 0.83102-1.2979 1.9583-1.2979 3.1335s0.46693 2.3025 1.2979 3.1335c0.83102 0.83102 1.9583 1.2979 3.1335 1.2979z\" clip-path=\"url(#p4e207b9b32)\" fill=\"#bb8bff\" stroke=\"#bb8bff\" stroke-width=\"1.5\"/><path d=\"m269.84 93.443c1.1752 0 2.3025-0.46693 3.1335-1.2979 0.83102-0.83102 1.2979-1.9583 1.2979-3.1335s-0.46693-2.3025-1.2979-3.1335c-0.83102-0.83102-1.9583-1.2979-3.1335-1.2979s-2.3025 0.46693-3.1335 1.2979c-0.83102 0.83102-1.2979 1.9583-1.2979 3.1335s0.46693 2.3025 1.2979 3.1335c0.83102 0.83102 1.9583 1.2979 3.1335 1.2979z\" clip-path=\"url(#p4e207b9b32)\" fill=\"#bb8bff\" stroke=\"#bb8bff\" stroke-width=\"1.5\"/><path d=\"m269.84 190.25c2.7422 0 5.3725-1.0895 7.3116-3.0285 1.939-1.939 3.0285-4.5693 3.0285-7.3116s-1.0895-5.3725-3.0285-7.3116c-1.939-1.939-4.5693-3.0285-7.3116-3.0285s-5.3725 1.0895-7.3116 3.0285c-1.939 1.939-3.0285 4.5693-3.0285 7.3116s1.0895 5.3725 3.0285 7.3116c1.939 1.939 4.5693 3.0285 7.3116 3.0285z\" clip-path=\"url(#p4e207b9b32)\" fill=\"#bb8bff\" stroke=\"#bb8bff\" stroke-width=\"2\"/><path d=\"m345.97 149.23h29.543v-29.543h-29.543z\" clip-path=\"url(#p4e207b9b32)\" stroke=\"#000000\" stroke-width=\"1.5\"/><path d=\"m371.08 138.89c0-2.7413-1.0901-5.3732-3.0285-7.3116s-4.5702-3.0285-7.3116-3.0285-5.3732 1.0901-7.3116 3.0285c-1.9384 1.9384-3.0285 4.5702-3.0285 7.3116\" clip-path=\"url(#p4e207b9b32)\" fill=\"none\" stroke=\"#ffffff\" stroke-width=\"2\"/><path d=\"m391.42 194.69h29.543v-29.543h-29.543z\" clip-path=\"url(#p4e207b9b32)\" stroke=\"#000000\" stroke-width=\"1.5\"/><path d=\"m416.53 184.35c0-2.7413-1.0901-5.3732-3.0285-7.3116s-4.5702-3.0285-7.3116-3.0285-5.3732 1.0901-7.3116 3.0285c-1.9384 1.9384-3.0285 4.5702-3.0285 7.3116\" clip-path=\"url(#p4e207b9b32)\" fill=\"none\" stroke=\"#ffffff\" stroke-width=\"2\"/><path d=\"m360.74 138.89 10.34-10.34\" clip-path=\"url(#p4e207b9b32)\" fill=\"none\" stroke=\"#ffffff\" stroke-linecap=\"square\" stroke-width=\"2\"/><path d=\"m406.19 184.35 10.34-10.34\" clip-path=\"url(#p4e207b9b32)\" fill=\"none\" stroke=\"#ffffff\" stroke-linecap=\"square\" stroke-width=\"2\"/><path d=\"m133.49 20.835v45.451\" clip-path=\"url(#p4e207b9b32)\" fill=\"none\" stroke=\"#000000\" stroke-dasharray=\"3.7,1.6\"/><path d=\"m133.49 66.286v45.451\" clip-path=\"url(#p4e207b9b32)\" fill=\"none\" stroke=\"#000000\" stroke-dasharray=\"3.7,1.6\"/><path d=\"m133.49 111.74v45.451\" clip-path=\"url(#p4e207b9b32)\" fill=\"none\" stroke=\"#000000\" stroke-dasharray=\"3.7,1.6\"/><path d=\"m133.49 157.19v45.451\" clip-path=\"url(#p4e207b9b32)\" fill=\"none\" stroke=\"#000000\" stroke-dasharray=\"3.7,1.6\"/><path d=\"m178.94 140.37v-11.817\" clip-path=\"url(#p4e207b9b32)\" fill=\"none\" stroke=\"#ffffff\" stroke-linecap=\"square\" stroke-width=\"2\"/><path d=\"m173.03 134.46h11.817\" clip-path=\"url(#p4e207b9b32)\" fill=\"none\" stroke=\"#ffffff\" stroke-linecap=\"square\" stroke-width=\"2\"/><path d=\"m224.39 140.37v-11.817\" clip-path=\"url(#p4e207b9b32)\" fill=\"none\" stroke=\"#ffffff\" stroke-linecap=\"square\" stroke-width=\"2\"/><path d=\"m218.48 134.46h11.817\" clip-path=\"url(#p4e207b9b32)\" fill=\"none\" stroke=\"#ffffff\" stroke-linecap=\"square\" stroke-width=\"2\"/><path d=\"m269.84 185.82v-11.817\" clip-path=\"url(#p4e207b9b32)\" fill=\"none\" stroke=\"#ffffff\" stroke-linecap=\"square\" stroke-width=\"2\"/><path d=\"m263.93 179.91h11.817\" clip-path=\"url(#p4e207b9b32)\" fill=\"none\" stroke=\"#ffffff\" stroke-linecap=\"square\" stroke-width=\"2\"/><path d=\"m315.29 20.835v45.451\" clip-path=\"url(#p4e207b9b32)\" fill=\"none\" stroke=\"#000000\" stroke-dasharray=\"3.7,1.6\"/><path d=\"m315.29 66.286v45.451\" clip-path=\"url(#p4e207b9b32)\" fill=\"none\" stroke=\"#000000\" stroke-dasharray=\"3.7,1.6\"/><path d=\"m315.29 111.74v45.451\" clip-path=\"url(#p4e207b9b32)\" fill=\"none\" stroke=\"#000000\" stroke-dasharray=\"3.7,1.6\"/><path d=\"m315.29 157.19v45.451\" clip-path=\"url(#p4e207b9b32)\" fill=\"none\" stroke=\"#000000\" stroke-dasharray=\"3.7,1.6\"/><g clip-path=\"url(#p4e207b9b32)\"><g transform=\"translate(83.582 47.148) scale(.13 -.13)\"><defs><path id=\"DejaVuSans-58\" transform=\"scale(.015625)\" d=\"m403 4666h678l1160-1735 1165 1735h678l-1500-2241 1600-2425h-678l-1312 1984-1322-1984h-681l1665 2491-1453 2175z\"/></defs><use xlink:href=\"#DejaVuSans-58\"/></g></g><g clip-path=\"url(#p4e207b9b32)\"><g transform=\"translate(83.582 92.599) scale(.13 -.13)\"><use xlink:href=\"#DejaVuSans-58\"/></g></g><g clip-path=\"url(#p4e207b9b32)\"><g transform=\"translate(372.1 218.66) scale(.104 -.104)\"><defs><path id=\"DejaVuSans-30\" transform=\"scale(.015625)\" d=\"m2034 4250q-487 0-733-480-245-479-245-1442 0-959 245-1439 246-480 733-480 491 0 736 480 246 480 246 1439 0 963-246 1442-245 480-736 480zm0 500q785 0 1199-621 414-620 414-1801 0-1178-414-1799-414-620-1199-620-784 0-1198 620-414 621-414 1799 0 1181 414 1801 414 621 1198 621z\"/></defs><use xlink:href=\"#DejaVuSans-30\"/></g></g><g clip-path=\"url(#p4e207b9b32)\"><g transform=\"translate(417.55 218.66) scale(.104 -.104)\"><defs><path id=\"DejaVuSans-31\" transform=\"scale(.015625)\" d=\"m794 531h1031v3560l-1122-225v575l1116 225h631v-4135h1031v-531h-2687v531z\"/></defs><use xlink:href=\"#DejaVuSans-31\"/></g></g><g clip-path=\"url(#p4e207b9b32)\"><g transform=\"translate(36.363 48.012) scale(.1625 -.1625)\"><defs><path id=\"DejaVuSans-Oblique-71\" transform=\"scale(.015625)\" d=\"m2669 525q-231-303-546-460-314-156-695-156-531 0-833 358-301 358-301 986 0 506 186 978t533 847q225 244 517 375t614 131q387 0 637-153t363-462l100 525h578l-934-4813h-579l360 1844zm-1778 813q0-463 193-705 194-242 560-242 544 0 928 520t384 1264q0 450-199 689-198 239-569 239-272 0-504-127-231-126-403-370-181-256-286-600-104-343-104-668z\"/></defs><use xlink:href=\"#DejaVuSans-Oblique-71\"/><use transform=\"translate(63.477 -16.406) scale(.7)\" xlink:href=\"#DejaVuSans-30\"/></g></g><g clip-path=\"url(#p4e207b9b32)\"><g transform=\"translate(36.363 93.463) scale(.1625 -.1625)\"><use xlink:href=\"#DejaVuSans-Oblique-71\"/><use transform=\"translate(63.477 -16.406) scale(.7)\" xlink:href=\"#DejaVuSans-31\"/></g></g><g clip-path=\"url(#p4e207b9b32)\"><g transform=\"translate(36.363 138.91) scale(.1625 -.1625)\"><defs><path id=\"DejaVuSans-32\" transform=\"scale(.015625)\" d=\"m1228 531h2203v-531h-2962v531q359 372 979 998 621 627 780 809 303 340 423 576 121 236 121 464 0 372-261 606-261 235-680 235-297 0-627-103-329-103-704-313v638q381 153 712 231 332 78 607 78 725 0 1156-363 431-362 431-968 0-288-108-546-107-257-392-607-78-91-497-524-418-433-1181-1211z\"/></defs><use xlink:href=\"#DejaVuSans-Oblique-71\"/><use transform=\"translate(63.477 -16.406) scale(.7)\" xlink:href=\"#DejaVuSans-32\"/></g></g><g clip-path=\"url(#p4e207b9b32)\"><g transform=\"translate(36.363 184.36) scale(.1625 -.1625)\"><defs><path id=\"DejaVuSans-33\" transform=\"scale(.015625)\" d=\"m2597 2516q453-97 707-404 255-306 255-756 0-690-475-1069-475-378-1350-378-293 0-604 58t-642 174v609q262-153 574-231 313-78 654-78 593 0 904 234t311 681q0 413-289 645-289 233-804 233h-544v519h569q465 0 712 186t247 536q0 359-255 551-254 193-729 193-260 0-557-57-297-56-653-174v562q360 100 674 150t592 50q719 0 1137-327 419-326 419-882 0-388-222-655t-631-370z\"/></defs><use xlink:href=\"#DejaVuSans-Oblique-71\"/><use transform=\"translate(63.477 -16.406) scale(.7)\" xlink:href=\"#DejaVuSans-33\"/></g></g><g clip-path=\"url(#p4e207b9b32)\"><g transform=\"translate(68.036 218.66) scale(.104 -.104)\"><use xlink:href=\"#DejaVuSans-32\"/></g></g><g clip-path=\"url(#p4e207b9b32)\"><g transform=\"translate(45.466 229.85) scale(.1625 -.1625)\"><defs><path id=\"DejaVuSans-63\" transform=\"scale(.015625)\" d=\"m3122 3366v-538q-244 135-489 202t-495 67q-560 0-870-355-309-354-309-995t309-996q310-354 870-354 250 0 495 67t489 202v-532q-241-112-499-168-257-57-548-57-791 0-1257 497-465 497-465 1341 0 856 470 1346 471 491 1290 491 265 0 518-55 253-54 491-163z\"/></defs><use xlink:href=\"#DejaVuSans-63\"/></g></g><defs><clipPath id=\"p4e207b9b32\"><rect x=\"7.2\" y=\"7.2\" width=\"428.99\" height=\"245.44\"/></clipPath></defs></svg>"
            ],
            "text/plain": [
              "<Figure size 568.197x325.08 with 1 Axes>"
            ]
          },
          "execution_count": 14,
          "metadata": {
          },
          "output_type": "execute_result"
        }
      ],
      "source": [
        "qc_ha = QuantumCircuit(4,2)\n",
        "# codificar las entradas en los qubits 0 y 1\n",
        "qc_ha.x(0) # Para a=0, remover esta línea. Para a=1, dejarla.\n",
        "qc_ha.x(1) # Para b=0, remover esta línea. Para b=1, dejarla.\n",
        "qc_ha.barrier()\n",
        "# usar cnots para escribir el XOR de las entradas en el qubit 2\n",
        "qc_ha.cx(0,2)\n",
        "qc_ha.cx(1,2)\n",
        "# usar ccx para escribir el AND de las entradas en el qubit 3\n",
        "qc_ha.ccx(0,1,3)\n",
        "qc_ha.barrier()\n",
        "# extraer las salidas\n",
        "qc_ha.measure(2,0) # extraer el valor del XOR\n",
        "qc_ha.measure(3,1) # extraer el valor del AND\n",
        "\n",
        "qc_ha.draw()"
      ]
    },
    {
      "cell_type": "markdown",
      "metadata": {
      },
      "source": [
        "En este ejemplo, estamos calculando `1+1`, porque los dos bits de entrada son ambos `1`. Veamos qué obtenemos."
      ]
    },
    {
      "cell_type": "code",
      "execution_count": 15,
      "metadata": {
      },
      "outputs": [
        {
          "name": "stderr",
          "output_type": "stream",
          "text": [
            "/home/divs/.local/lib/python3.8/site-packages/qiskit/utils/deprecation.py:62: DeprecationWarning: Using a qobj for run() is deprecated as of qiskit-aer 0.9.0 and will be removed no sooner than 3 months from that release date. Transpiled circuits should now be passed directly using `backend.run(circuits, **run_options).\n",
            "  return func(*args, **kwargs)\n"
          ]
        },
        {
          "data": {
            "image/svg+xml": [
              "<?xml version=\"1.0\" encoding=\"UTF-8\"?><!DOCTYPE svg  PUBLIC '-//W3C//DTD SVG 1.1//EN'  'http://www.w3.org/Graphics/SVG/1.1/DTD/svg11.dtd'><svg width=\"460.72pt\" height=\"314.57pt\" version=\"1.1\" viewBox=\"0 0 460.72 314.57\" xmlns=\"http://www.w3.org/2000/svg\" xmlns:xlink=\"http://www.w3.org/1999/xlink\"><defs><style type=\"text/css\">*{stroke-linecap:butt;stroke-linejoin:round;}</style></defs><path d=\"m0 314.57h460.72v-314.57h-460.72z\" fill=\"none\"/><path d=\"m62.921 279h390.6v-271.8h-390.6z\" fill=\"#ffffff\"/><defs><path id=\"m3c85d64d64\" d=\"m0 0v3.5\" stroke=\"#000000\" stroke-width=\".8\"/></defs><use x=\"258.22125\" y=\"279\" stroke=\"#000000\" stroke-width=\".8\" xlink:href=\"#m3c85d64d64\"/><g transform=\"translate(258.8 306.38) rotate(-70) scale(.14 -.14)\"><defs><path id=\"DejaVuSans-31\" transform=\"scale(.015625)\" d=\"m794 531h1031v3560l-1122-225v575l1116 225h631v-4135h1031v-531h-2687v531z\"/><path id=\"DejaVuSans-30\" transform=\"scale(.015625)\" d=\"m2034 4250q-487 0-733-480-245-479-245-1442 0-959 245-1439 246-480 733-480 491 0 736 480 246 480 246 1439 0 963-246 1442-245 480-736 480zm0 500q785 0 1199-621 414-620 414-1801 0-1178-414-1799-414-620-1199-620-784 0-1198 620-414 621-414 1799 0 1181 414 1801 414 621 1198 621z\"/></defs><use xlink:href=\"#DejaVuSans-31\"/><use x=\"63.623047\" xlink:href=\"#DejaVuSans-30\"/></g><path d=\"m62.921 279h390.6\" clip-path=\"url(#pf122a43369)\" fill=\"none\" stroke=\"#b0b0b0\" stroke-dasharray=\"2.96,1.28\" stroke-width=\".8\"/><defs><path id=\"m372e3748b7\" d=\"m0 0h-3.5\" stroke=\"#000000\" stroke-width=\".8\"/></defs><use x=\"62.92125\" y=\"279\" stroke=\"#000000\" stroke-width=\".8\" xlink:href=\"#m372e3748b7\"/><g transform=\"translate(24.749 284.32) scale(.14 -.14)\"><defs><path id=\"DejaVuSans-2e\" transform=\"scale(.015625)\" d=\"m684 794h660v-794h-660v794z\"/></defs><use xlink:href=\"#DejaVuSans-30\"/><use x=\"63.623047\" xlink:href=\"#DejaVuSans-2e\"/><use x=\"95.410156\" xlink:href=\"#DejaVuSans-30\"/><use x=\"159.033203\" xlink:href=\"#DejaVuSans-30\"/></g><path d=\"m62.921 222.38h390.6\" clip-path=\"url(#pf122a43369)\" fill=\"none\" stroke=\"#b0b0b0\" stroke-dasharray=\"2.96,1.28\" stroke-width=\".8\"/><use x=\"62.92125\" y=\"222.375\" stroke=\"#000000\" stroke-width=\".8\" xlink:href=\"#m372e3748b7\"/><g transform=\"translate(24.749 227.69) scale(.14 -.14)\"><defs><path id=\"DejaVuSans-32\" transform=\"scale(.015625)\" d=\"m1228 531h2203v-531h-2962v531q359 372 979 998 621 627 780 809 303 340 423 576 121 236 121 464 0 372-261 606-261 235-680 235-297 0-627-103-329-103-704-313v638q381 153 712 231 332 78 607 78 725 0 1156-363 431-362 431-968 0-288-108-546-107-257-392-607-78-91-497-524-418-433-1181-1211z\"/><path id=\"DejaVuSans-35\" transform=\"scale(.015625)\" d=\"m691 4666h2478v-532h-1900v-1143q137 47 274 70 138 23 276 23 781 0 1237-428 457-428 457-1159 0-753-469-1171-469-417-1322-417-294 0-599 50-304 50-629 150v635q281-153 581-228t634-75q541 0 856 284 316 284 316 772 0 487-316 771-315 285-856 285-253 0-505-56-251-56-513-175v2344z\"/></defs><use xlink:href=\"#DejaVuSans-30\"/><use x=\"63.623047\" xlink:href=\"#DejaVuSans-2e\"/><use x=\"95.410156\" xlink:href=\"#DejaVuSans-32\"/><use x=\"159.033203\" xlink:href=\"#DejaVuSans-35\"/></g><path d=\"m62.921 165.75h390.6\" clip-path=\"url(#pf122a43369)\" fill=\"none\" stroke=\"#b0b0b0\" stroke-dasharray=\"2.96,1.28\" stroke-width=\".8\"/><use x=\"62.92125\" y=\"165.75\" stroke=\"#000000\" stroke-width=\".8\" xlink:href=\"#m372e3748b7\"/><g transform=\"translate(24.749 171.07) scale(.14 -.14)\"><use xlink:href=\"#DejaVuSans-30\"/><use x=\"63.623047\" xlink:href=\"#DejaVuSans-2e\"/><use x=\"95.410156\" xlink:href=\"#DejaVuSans-35\"/><use x=\"159.033203\" xlink:href=\"#DejaVuSans-30\"/></g><path d=\"m62.921 109.12h390.6\" clip-path=\"url(#pf122a43369)\" fill=\"none\" stroke=\"#b0b0b0\" stroke-dasharray=\"2.96,1.28\" stroke-width=\".8\"/><use x=\"62.92125\" y=\"109.125\" stroke=\"#000000\" stroke-width=\".8\" xlink:href=\"#m372e3748b7\"/><g transform=\"translate(24.749 114.44) scale(.14 -.14)\"><defs><path id=\"DejaVuSans-37\" transform=\"scale(.015625)\" d=\"m525 4666h3e3v-269l-1694-4397h-659l1594 4134h-2241v532z\"/></defs><use xlink:href=\"#DejaVuSans-30\"/><use x=\"63.623047\" xlink:href=\"#DejaVuSans-2e\"/><use x=\"95.410156\" xlink:href=\"#DejaVuSans-37\"/><use x=\"159.033203\" xlink:href=\"#DejaVuSans-35\"/></g><path d=\"m62.921 52.5h390.6\" clip-path=\"url(#pf122a43369)\" fill=\"none\" stroke=\"#b0b0b0\" stroke-dasharray=\"2.96,1.28\" stroke-width=\".8\"/><use x=\"62.92125\" y=\"52.5\" stroke=\"#000000\" stroke-width=\".8\" xlink:href=\"#m372e3748b7\"/><g transform=\"translate(24.749 57.819) scale(.14 -.14)\"><use xlink:href=\"#DejaVuSans-31\"/><use x=\"63.623047\" xlink:href=\"#DejaVuSans-2e\"/><use x=\"95.410156\" xlink:href=\"#DejaVuSans-30\"/><use x=\"159.033203\" xlink:href=\"#DejaVuSans-30\"/></g><g transform=\"translate(17.838 185.86) rotate(-90) scale(.14 -.14)\"><defs><path id=\"DejaVuSans-50\" transform=\"scale(.015625)\" d=\"m1259 4147v-1753h794q441 0 681 228 241 228 241 650 0 419-241 647-240 228-681 228h-794zm-631 519h1425q785 0 1186-355 402-355 402-1039 0-691-402-1044-401-353-1186-353h-794v-1875h-631v4666z\"/><path id=\"DejaVuSans-72\" transform=\"scale(.015625)\" d=\"m2631 2963q-97 56-211 82-114 27-251 27-488 0-749-317t-261-911v-1844h-578v3500h578v-544q182 319 472 473 291 155 707 155 59 0 131-8 72-7 159-23l3-590z\"/><path id=\"DejaVuSans-6f\" transform=\"scale(.015625)\" d=\"m1959 3097q-462 0-731-361t-269-989 267-989q268-361 733-361 460 0 728 362 269 363 269 988 0 622-269 986-268 364-728 364zm0 487q750 0 1178-488 429-487 429-1349 0-859-429-1349-428-489-1178-489-753 0-1180 489-426 490-426 1349 0 862 426 1349 427 488 1180 488z\"/><path id=\"DejaVuSans-62\" transform=\"scale(.015625)\" d=\"m3116 1747q0 634-261 995t-717 361q-457 0-718-361t-261-995 261-995 718-361q456 0 717 361t261 995zm-1957 1222q182 312 458 463 277 152 661 152 638 0 1036-506 399-506 399-1331t-399-1332q-398-506-1036-506-384 0-661 152-276 152-458 464v-525h-578v4863h578v-1894z\"/><path id=\"DejaVuSans-61\" transform=\"scale(.015625)\" d=\"m2194 1759q-697 0-966-159t-269-544q0-306 202-486 202-179 548-179 479 0 768 339t289 901v128h-572zm1147 238v-1997h-575v531q-197-318-491-470t-719-152q-537 0-855 302-317 302-317 808 0 590 395 890 396 300 1180 300h807v57q0 397-261 614t-733 217q-300 0-585-72-284-72-546-216v532q315 122 612 182 297 61 578 61 760 0 1135-394 375-393 375-1193z\"/><path id=\"DejaVuSans-69\" transform=\"scale(.015625)\" d=\"m603 3500h575v-3500h-575v3500zm0 1363h575v-729h-575v729z\"/><path id=\"DejaVuSans-6c\" transform=\"scale(.015625)\" d=\"m603 4863h575v-4863h-575v4863z\"/><path id=\"DejaVuSans-74\" transform=\"scale(.015625)\" d=\"m1172 4494v-994h1184v-447h-1184v-1900q0-428 117-550t477-122h590v-481h-590q-666 0-919 248-253 249-253 905v1900h-422v447h422v994h578z\"/><path id=\"DejaVuSans-65\" transform=\"scale(.015625)\" d=\"m3597 1894v-281h-2644q38-594 358-905t892-311q331 0 642 81t618 244v-544q-310-131-635-200t-659-69q-838 0-1327 487-489 488-489 1320 0 859 464 1363 464 505 1252 505 706 0 1117-455 411-454 411-1235zm-575 169q-6 471-264 752-258 282-683 282-481 0-770-272t-333-766l2050 4z\"/><path id=\"DejaVuSans-73\" transform=\"scale(.015625)\" d=\"m2834 3397v-544q-243 125-506 187-262 63-544 63-428 0-642-131t-214-394q0-200 153-314t616-217l197-44q612-131 870-370t258-667q0-488-386-773-386-284-1061-284-281 0-586 55t-642 164v594q319-166 628-249 309-82 613-82 406 0 624 139 219 139 219 392 0 234-158 359-157 125-692 241l-200 47q-534 112-772 345-237 233-237 639 0 494 350 762 350 269 994 269 318 0 599-47 282-46 519-140z\"/></defs><use xlink:href=\"#DejaVuSans-50\"/><use x=\"58.552734\" xlink:href=\"#DejaVuSans-72\"/><use x=\"97.416016\" xlink:href=\"#DejaVuSans-6f\"/><use x=\"158.597656\" xlink:href=\"#DejaVuSans-62\"/><use x=\"222.074219\" xlink:href=\"#DejaVuSans-61\"/><use x=\"283.353516\" xlink:href=\"#DejaVuSans-62\"/><use x=\"346.830078\" xlink:href=\"#DejaVuSans-69\"/><use x=\"374.613281\" xlink:href=\"#DejaVuSans-6c\"/><use x=\"402.396484\" xlink:href=\"#DejaVuSans-69\"/><use x=\"430.179688\" xlink:href=\"#DejaVuSans-74\"/><use x=\"469.388672\" xlink:href=\"#DejaVuSans-69\"/><use x=\"497.171875\" xlink:href=\"#DejaVuSans-65\"/><use x=\"558.695312\" xlink:href=\"#DejaVuSans-73\"/></g><path d=\"m80.676 279h355.09v-226.5h-355.09z\" clip-path=\"url(#pf122a43369)\" fill=\"#648fff\"/><path d=\"m62.921 279v-271.8\" fill=\"none\" stroke=\"#000000\" stroke-linecap=\"square\" stroke-width=\".8\"/><path d=\"m453.52 279v-271.8\" fill=\"none\" stroke=\"#000000\" stroke-linecap=\"square\" stroke-width=\".8\"/><path d=\"m62.921 279h390.6\" fill=\"none\" stroke=\"#000000\" stroke-linecap=\"square\" stroke-width=\".8\"/><path d=\"m62.921 7.2h390.6\" fill=\"none\" stroke=\"#000000\" stroke-linecap=\"square\" stroke-width=\".8\"/><g transform=\"translate(243.91 39.095) scale(.1 -.1)\"><use xlink:href=\"#DejaVuSans-31\"/><use x=\"63.623047\" xlink:href=\"#DejaVuSans-2e\"/><use x=\"95.410156\" xlink:href=\"#DejaVuSans-30\"/><use x=\"159.033203\" xlink:href=\"#DejaVuSans-30\"/><use x=\"222.65625\" xlink:href=\"#DejaVuSans-30\"/></g><defs><clipPath id=\"pf122a43369\"><rect x=\"62.921\" y=\"7.2\" width=\"390.6\" height=\"271.8\"/></clipPath></defs></svg>"
            ],
            "text/plain": [
              "<Figure size 504x360 with 1 Axes>"
            ]
          },
          "execution_count": 15,
          "metadata": {
          },
          "output_type": "execute_result"
        }
      ],
      "source": [
        "qobj = assemble(qc_ha)\n",
        "counts = sim.run(qobj).result().get_counts()\n",
        "plot_histogram(counts)"
      ]
    },
    {
      "cell_type": "markdown",
      "metadata": {
      },
      "source": [
        "El resultado es `10`, que es la representación binaria del número 2. ¡Hemos construido una computadora que puede resolver el famoso problema matemático de 1+1!\n",
        "\n",
        "Ahora puedes probarlo con las otras tres entradas posibles y demostrar que nuestro algoritmo también da los resultados correctos para ellas.\n",
        "\n",
        "El semisumador contiene todo lo que necesitas para sumar. Con las compuertas NOT, CNOT y Toffoli, podemos crear programas que suman cualquier conjunto de números de cualquier tamaño.\n",
        "\n",
        "Estas tres compuertas también son suficientes para hacer todo lo demás en computación. De hecho, incluso podemos prescindir del CNOT. Además, la compuerta NOT solo es realmente necesaria para crear bits con valor `1`. La compuerta Toffoli es esencialmente el átomo de las matemáticas. Es el elemento más simple, a partir del cual se pueden compilar todas las demás técnicas de resolución de problemas.\n",
        "\n",
        "Como veremos, en la computación cuántica dividimos el átomo."
      ]
    },
    {
      "cell_type": "code",
      "execution_count": 16,
      "metadata": {
      },
      "outputs": [
        {
          "name": "stderr",
          "output_type": "stream",
          "text": [
            "/home/divs/.local/lib/python3.8/site-packages/qiskit/aqua/__init__.py:86: DeprecationWarning: The package qiskit.aqua is deprecated. It was moved/refactored to qiskit-terra For more information see <https://github.com/Qiskit/qiskit-aqua/blob/main/README.md#migration-guide>\n",
            "  warn_package('aqua', 'qiskit-terra')\n"
          ]
        },
        {
          "data": {
            "text/html": [
              "<h3>Version Information</h3><table><tr><th>Qiskit Software</th><th>Version</th></tr><tr><td><code>qiskit-terra</code></td><td>0.18.2</td></tr><tr><td><code>qiskit-aer</code></td><td>0.9.0</td></tr><tr><td><code>qiskit-ignis</code></td><td>0.6.0</td></tr><tr><td><code>qiskit-ibmq-provider</code></td><td>0.16.0</td></tr><tr><td><code>qiskit-aqua</code></td><td>0.9.5</td></tr><tr><td><code>qiskit</code></td><td>0.30.0</td></tr><tr><td><code>qiskit-nature</code></td><td>0.2.1</td></tr><tr><td><code>qiskit-finance</code></td><td>0.2.1</td></tr><tr><td><code>qiskit-optimization</code></td><td>0.2.2</td></tr><tr><td><code>qiskit-machine-learning</code></td><td>0.2.1</td></tr><tr><th>System information</th></tr><tr><td>Python</td><td>3.8.10 (default, Jun  2 2021, 10:49:15) \n",
              "[GCC 9.4.0]</td></tr><tr><td>OS</td><td>Linux</td></tr><tr><td>CPUs</td><td>2</td></tr><tr><td>Memory (Gb)</td><td>7.521877288818359</td></tr><tr><td colspan='2'>Sun Oct 03 22:50:56 2021 IST</td></tr></table>"
            ],
            "text/plain": [
              "<IPython.core.display.HTML object>"
            ]
          },
          "metadata": {
          },
          "output_type": "display_data"
        }
      ],
      "source": [
        "import qiskit.tools.jupyter\n",
        "%qiskit_version_table"
      ]
    }
  ],
  "metadata": {
    "kernelspec": {
      "display_name": "Python 3",
      "language": "python",
      "name": "python3"
    },
    "language_info": {
      "codemirror_mode": {
        "name": "ipython",
        "version": 3
      },
      "file_extension": ".py",
      "mimetype": "text/x-python",
      "name": "python",
      "nbconvert_exporter": "python",
      "pygments_lexer": "ipython3",
      "version": "3.9"
    }
  },
  "nbformat": 4,
  "nbformat_minor": 2
}
