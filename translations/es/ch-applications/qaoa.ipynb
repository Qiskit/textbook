{
  "cells": [
    {
      "cell_type": "markdown",
      "metadata": {
        "tags": [
          "remove_cell"
        ]
      },
      "source": [
        "# Resolución de problemas de optimización combinatoria utilizando QAOA"
      ]
    },
    {
      "cell_type": "markdown",
      "metadata": {
      },
      "source": [
        "En este tutorial, presentamos problemas de optimización combinatoria, explicamos algoritmos de optimización aproximada, explicamos cómo funciona el Algoritmo Cuántico de Optimización Aproximada (Quantum Approximate Optimization Algorithm, QAOA) y presentamos la implementación de un ejemplo que se puede ejecutar en un simulador o en un sistema cuántico real."
      ]
    },
    {
      "cell_type": "code",
      "execution_count": 1,
      "metadata": {
      },
      "outputs": [

      ],
      "source": [
        "import networkx as nx\n",
        "import matplotlib.pyplot as plt"
      ]
    },
    {
      "cell_type": "markdown",
      "metadata": {
      },
      "source": [
        "## Problema de Optimización Combinatoria\n",
        "\n",
        "Los problemas de optimización combinatoria implican encontrar un objeto óptimo a partir de un conjunto finito de objetos. Nos centraríamos en problemas que impliquen encontrar cadenas de bits \"óptimas\" compuestas de 0s y 1s entre un conjunto finito de cadenas de bits. Uno de esos problemas correspondientes a un grafo es el problema de Max-Cut (máximo corte).\n",
        "\n",
        "### Problema Max-Cut\n",
        "\n",
        "Un problema de Max-Cut (máximo corte) implica dividir los nodos de un grafo en dos conjuntos, de modo que el número de aristas entre los conjuntos sea el máximo. El siguiente ejemplo tiene un grafo con cuatro nodos y se muestran algunas de las formas en que se puede dividir en dos conjuntos, \"rojo\" y \"azul\".\n",
        "\n",
        "![](images/qaoa_maxcut.svg)"
      ]
    },
    {
      "cell_type": "markdown",
      "metadata": {
      },
      "source": [
        "Para 4 nodos, como cada nodo se puede asignar a los conjuntos \"rojo\" o \"azul\", hay $2^4=16$ asignaciones posibles, de las cuales tenemos que encontrar una que proporcione el máximo número de aristas entre los conjuntos \"rojo\" y \"azul\". El número de tales aristas entre dos conjuntos en la figura, a medida que avanzamos de izquierda a derecha, son 0, 2, 2 y 4. Podemos ver, después de enumerar todas las asignaciones posibles de $2^4=16$, que la figura más a la derecha es la asignación que da el número máximo de aristas entre los dos conjuntos. Por lo tanto, si codificamos \"rojo\" como 0 y \"azul\" como 1, las cadenas de bits \"0101\" y \"1010\" que representan la asignación de nodos a cualquiera de los conjuntos son las soluciones. "
      ]
    },
    {
      "cell_type": "markdown",
      "metadata": {
      },
      "source": [
        "Como te habrás dado cuenta, a medida que aumenta la cantidad de nodos en el grafo, la cantidad de asignaciones posibles que debes examinar para encontrar la solución aumenta exponencialmente."
      ]
    },
    {
      "cell_type": "markdown",
      "metadata": {
      },
      "source": [
        "## QAOA\n",
        "\n",
        "QAOA (Algoritmo Cuántico de Optimización Aproximada) presentado por Farhi et al.[1] es un algoritmo cuántico que intenta resolver este tipo de problemas combinatorios.<br>\n",
        "\n",
        "Es un algoritmo variacional que utiliza una unitaria $U(\\boldsymbol{\\beta}, \\boldsymbol{\\gamma})$ caracterizada por los parámetros $(\\boldsymbol{\\beta}, \\boldsymbol{\\gamma})$ para preparar un estado cuántico $\\lvert \\psi(\\boldsymbol{\\beta}, \\boldsymbol{\\gamma}) \\rangle$. El objetivo del algoritmo es encontrar parámetros óptimos `{latex} (\\boldsymbol{\\beta}_{\\text{opt}}, \\boldsymbol{\\gamma}_{\\text{opt}})` tales que el estado cuántico `{latex} \\lvert \\psi(\\boldsymbol{\\beta}_{\\text{opt}}, \\boldsymbol{\\gamma}_{\\text{opt}}) \\rangle` codifique la solución al problema.\n",
        "\n",
        "La unitaria $U(\\boldsymbol{\\beta}, \\boldsymbol{\\gamma})$ tiene una forma específica y está compuesta por dos unitarias $U(\\boldsymbol{\\beta}) = e^{-i \\boldsymbol{\\beta} H_B}$ y $U(\\boldsymbol{\\gamma}) = e^{-i \\boldsymbol{\\gamma} H_P}$ donde $H_B$ es el Hamiltoniano de mezcla y $H_P$ es el Hamiltoniano del problema. Tal elección de unitarias se inspira en un esquema relacionado llamado recocido cuántico (quantum annealing).\n",
        "\n",
        "El estado se prepara aplicando estas unitarias como bloques alternos de las dos unitarias aplicadas $p$ veces tal que\n",
        "\n",
        "$$\\lvert \\psi(\\boldsymbol{\\beta}, \\boldsymbol{\\gamma}) \\rangle = \\underbrace{U(\\boldsymbol{\\beta}) U(\\boldsymbol{\\gamma}) \\cdots U(\\boldsymbol{\\beta}) U(\\boldsymbol{\\gamma})}_{p ; \\text{times}} \\lvert \\psi_0 \\rangle$$\n",
        "\n",
        "donde $\\lvert \\psi_0 \\rangle$ es un estado inicial adecuado.\n",
        "\n",
        "Demostraremos estos pasos usando el problema Max-Cut discutido anteriormente. Para eso, primero definiríamos el grafo subyacente del problema que se muestra arriba."
      ]
    },
    {
      "cell_type": "code",
      "execution_count": 2,
      "metadata": {
      },
      "outputs": [
        {
          "data": {
            "image/svg+xml": [
              "<?xml version=\"1.0\" encoding=\"UTF-8\"?><!DOCTYPE svg  PUBLIC '-//W3C//DTD SVG 1.1//EN'  'http://www.w3.org/Graphics/SVG/1.1/DTD/svg11.dtd'><svg width=\"446.4pt\" height=\"302.4pt\" version=\"1.1\" viewBox=\"0 0 446.4 302.4\" xmlns=\"http://www.w3.org/2000/svg\" xmlns:xlink=\"http://www.w3.org/1999/xlink\"><defs><style type=\"text/css\">*{stroke-linecap:butt;stroke-linejoin:round;}</style></defs><path d=\"m0 302.4h446.4v-302.4h-446.4z\" fill=\"#ffffff\"/><g fill=\"none\" stroke=\"#000000\" stroke-opacity=\".8\"><path d=\"m26.836 138.07 175.81 144.04\" clip-path=\"url(#p5a16acdaa8)\"/><path d=\"m26.836 138.07 217.06-117.78\" clip-path=\"url(#p5a16acdaa8)\"/><path d=\"m202.65 282.11 216.91-116.84\" clip-path=\"url(#p5a16acdaa8)\"/><path d=\"m419.56 165.27-175.67-144.98\" clip-path=\"url(#p5a16acdaa8)\"/></g><defs><path id=\"m0affb553be\" d=\"m0 11.18c2.9651 0 5.8091-1.178 7.9057-3.2746 2.0966-2.0966 3.2746-4.9406 3.2746-7.9057s-1.178-5.8091-3.2746-7.9057c-2.0966-2.0966-4.9406-3.2746-7.9057-3.2746s-5.8091 1.178-7.9057 3.2746c-2.0966 2.0966-3.2746 4.9406-3.2746 7.9057s1.178 5.8091 3.2746 7.9057c2.0966 2.0966 4.9406 3.2746 7.9057 3.2746z\" stroke=\"#1f78b4\" stroke-opacity=\".8\"/></defs><g clip-path=\"url(#p5a16acdaa8)\" fill=\"#1f78b4\" fill-opacity=\".8\" stroke=\"#1f78b4\" stroke-opacity=\".8\"><use x=\"26.836364\" y=\"138.073658\" xlink:href=\"#m0affb553be\"/><use x=\"202.649721\" y=\"282.109091\" xlink:href=\"#m0affb553be\"/><use x=\"419.563636\" y=\"165.267092\" xlink:href=\"#m0affb553be\"/><use x=\"243.898488\" y=\"20.290909\" xlink:href=\"#m0affb553be\"/></g><g clip-path=\"url(#p5a16acdaa8)\"><defs><path id=\"DejaVuSans-48\" d=\"m31.781 66.406q-7.6094 0-11.453-7.5-3.8281-7.4844-3.8281-22.531 0-14.984 3.8281-22.484 3.8438-7.5 11.453-7.5 7.6719 0 11.5 7.5 3.8438 7.5 3.8438 22.484 0 15.047-3.8438 22.531-3.8281 7.5-11.5 7.5zm0 7.8125q12.266 0 18.734-9.7031 6.4688-9.6875 6.4688-28.141 0-18.406-6.4688-28.109-6.4688-9.6875-18.734-9.6875-12.25 0-18.719 9.6875-6.4688 9.7031-6.4688 28.109 0 18.453 6.4688 28.141 6.4688 9.7031 18.719 9.7031z\"/></defs><g transform=\"translate(23.019 141.38) scale(.12 -.12)\" opacity=\".8\"><use xlink:href=\"#DejaVuSans-48\"/></g></g><g clip-path=\"url(#p5a16acdaa8)\"><defs><path id=\"DejaVuSans-49\" d=\"m12.406 8.2969h16.109v55.625l-17.531-3.5156v8.9844l17.438 3.5156h9.8594v-64.609h16.109v-8.2969h-41.984z\"/></defs><g transform=\"translate(198.83 285.42) scale(.12 -.12)\" opacity=\".8\"><use xlink:href=\"#DejaVuSans-49\"/></g></g><g clip-path=\"url(#p5a16acdaa8)\"><defs><path id=\"DejaVuSans-50\" d=\"m19.188 8.2969h34.422v-8.2969h-46.281v8.2969q5.6094 5.8125 15.297 15.594 9.7031 9.7969 12.188 12.641 4.7344 5.3125 6.6094 9 1.8906 3.6875 1.8906 7.25 0 5.8125-4.0781 9.4688-4.0781 3.6719-10.625 3.6719-4.6406 0-9.7969-1.6094-5.1406-1.6094-11-4.8906v9.9688q5.9531 2.3906 11.125 3.6094 5.1875 1.2188 9.4844 1.2188 11.328 0 18.062-5.6719 6.7344-5.6562 6.7344-15.125 0-4.5-1.6875-8.5312-1.6719-4.0156-6.125-9.4844-1.2188-1.4219-7.7656-8.1875-6.5312-6.7656-18.453-18.922z\"/></defs><g transform=\"translate(415.75 168.58) scale(.12 -.12)\" opacity=\".8\"><use xlink:href=\"#DejaVuSans-50\"/></g></g><g clip-path=\"url(#p5a16acdaa8)\"><defs><path id=\"DejaVuSans-51\" d=\"m40.578 39.312q7.0781-1.5156 11.047-6.3125 3.9844-4.7812 3.9844-11.812 0-10.781-7.4219-16.703-7.4219-5.9062-21.094-5.9062-4.5781 0-9.4375 0.90625t-10.031 2.7188v9.5156q4.0938-2.3906 8.9688-3.6094 4.8906-1.2188 10.219-1.2188 9.2656 0 14.125 3.6562t4.8594 10.641q0 6.4531-4.5156 10.078-4.5156 3.6406-12.562 3.6406h-8.5v8.1094h8.8906q7.2656 0 11.125 2.9062t3.8594 8.375q0 5.6094-3.9844 8.6094-3.9688 3.0156-11.391 3.0156-4.0625 0-8.7031-0.89062-4.6406-0.875-10.203-2.7188v8.7812q5.625 1.5625 10.531 2.3438t9.25 0.78125q11.234 0 17.766-5.1094 6.5469-5.0938 6.5469-13.781 0-6.0625-3.4688-10.234t-9.8594-5.7812z\"/></defs><g transform=\"translate(240.08 23.602) scale(.12 -.12)\" opacity=\".8\"><use xlink:href=\"#DejaVuSans-51\"/></g></g><defs><clipPath id=\"p5a16acdaa8\"><rect x=\"7.2\" y=\"7.2\" width=\"432\" height=\"288\"/></clipPath></defs></svg>"
            ],
            "text/plain": [
              "<Figure size 432x288 with 1 Axes>"
            ]
          },
          "metadata": {
          },
          "output_type": "display_data"
        }
      ],
      "source": [
        "import networkx as nx\n",
        "\n",
        "G = nx.Graph()\n",
        "G.add_nodes_from([0, 1, 2, 3])\n",
        "G.add_edges_from([(0, 1), (1, 2), (2, 3), (3, 0)])\n",
        "nx.draw(G, with_labels=True, alpha=0.8, node_size=500)"
      ]
    },
    {
      "cell_type": "markdown",
      "metadata": {
      },
      "source": [
        "El Hamiltoniano del problema específico del problema Max-Cut hasta una constante aquí es:\n",
        "\n",
        "$$ H_P = \\frac{1}{2}\\big(Z_0 \\otimes Z_1 \\otimes I_2 \\otimes I_3\\big) + \\frac{1}{2}\\big(I_0 \\otimes Z_1 \\otimes Z_2 \\otimes I_3\\big) + \\frac{1}{2}\\big(Z_0 \\otimes I_1 \\otimes I_2 \\otimes Z_3\\big) + \\frac{1}{2}\\big(I_0 \\otimes I_1 \\otimes Z_2 \\otimes Z_3\\big) $$\n",
        "\n",
        "Para construir un Hamiltoniano de este tipo para un problema, es necesario seguir algunos pasos que cubriremos en secciones posteriores de esta página.\n",
        "\n",
        "El Hamiltoniano mezclador $H_B$ suele tener la forma:\n",
        "\n",
        "$$ H_B = \\big(X_0 \\otimes I_1 \\otimes I_2 \\otimes I_3 \\big) + \\big(I_0 \\otimes X_1 \\otimes I_2 \\otimes I_3 \\big) + \\big(I_0 \\otimes I_1 \\otimes X_2 \\otimes I_3 \\big) + \\big(I_0 \\otimes I_1 \\otimes I_2 \\otimes X_3 \\big) $$\n",
        "\n",
        "Como términos individuales en la suma de $H_P$ y $H_B$ ambos conmutan, podemos escribir las unitarias como:\n",
        "\n",
        "$$ U(H_B) = e^{-i \\beta H_B} = e^{-i \\beta X_0}e^{-i \\beta X_1}e^{-i \\beta X_2}e^{-i \\beta X_3}.$$\n",
        "\n",
        "Ten en cuenta que cada término en el producto anterior corresponde a una rotación X en cada qubit. Y podemos escribir $U(H_P)$ como:\n",
        "\n",
        "$$ U(H_P) = e^{-i \\gamma H_P} = e^{-i \\gamma Z_0 Z_1}e^{-i \\gamma Z_1 Z_2}e^{-i \\gamma Z_2 Z_3}e^{-i \\gamma Z_0 Z_3}$$\n",
        "\n",
        "Examinemos ahora cómo se ven los circuitos de las dos unitarias. "
      ]
    },
    {
      "cell_type": "markdown",
      "metadata": {
      },
      "source": [
        "### La Unitaria Mezcladora"
      ]
    },
    {
      "cell_type": "code",
      "execution_count": 3,
      "metadata": {
      },
      "outputs": [
        {
          "data": {
            "image/svg+xml": [
              "<?xml version=\"1.0\" encoding=\"UTF-8\"?><!DOCTYPE svg  PUBLIC '-//W3C//DTD SVG 1.1//EN'  'http://www.w3.org/Graphics/SVG/1.1/DTD/svg11.dtd'><svg width=\"125.23pt\" height=\"214.38pt\" version=\"1.1\" viewBox=\"0 0 125.23 214.38\" xmlns=\"http://www.w3.org/2000/svg\" xmlns:xlink=\"http://www.w3.org/1999/xlink\"><defs><style type=\"text/css\">*{stroke-linecap:butt;stroke-linejoin:round;}</style></defs><path d=\"m0 214.38h125.23v-214.38h-125.23z\" fill=\"#ffffff\"/><path d=\"m63.491 43.561h49.996\" clip-path=\"url(#pd94a167159)\" fill=\"none\" stroke=\"#000000\" stroke-linecap=\"square\" stroke-width=\"2\"/><path d=\"m63.491 89.012h49.996\" clip-path=\"url(#pd94a167159)\" fill=\"none\" stroke=\"#000000\" stroke-linecap=\"square\" stroke-width=\"2\"/><path d=\"m63.491 134.46h49.996\" clip-path=\"url(#pd94a167159)\" fill=\"none\" stroke=\"#000000\" stroke-linecap=\"square\" stroke-width=\"2\"/><path d=\"m63.491 179.91h49.996\" clip-path=\"url(#pd94a167159)\" fill=\"none\" stroke=\"#000000\" stroke-linecap=\"square\" stroke-width=\"2\"/><path d=\"m73.263 58.332h29.543v-29.543h-29.543z\" clip-path=\"url(#pd94a167159)\" fill=\"#bb8bff\" stroke=\"#bb8bff\" stroke-width=\"1.5\"/><path d=\"m73.263 103.78h29.543v-29.543h-29.543z\" clip-path=\"url(#pd94a167159)\" fill=\"#bb8bff\" stroke=\"#bb8bff\" stroke-width=\"1.5\"/><path d=\"m73.263 149.23h29.543v-29.543h-29.543z\" clip-path=\"url(#pd94a167159)\" fill=\"#bb8bff\" stroke=\"#bb8bff\" stroke-width=\"1.5\"/><path d=\"m73.263 194.69h29.543v-29.543h-29.543z\" clip-path=\"url(#pd94a167159)\" fill=\"#bb8bff\" stroke=\"#bb8bff\" stroke-width=\"1.5\"/><g clip-path=\"url(#pd94a167159)\"><defs><path id=\"DejaVuSans-82\" d=\"m44.391 34.188q3.1719-1.0781 6.1719-4.5938t6.0312-9.6719l10.016-19.922h-10.609l-9.3125 18.703q-3.625 7.3281-7.0156 9.7188t-9.25 2.3906h-10.75v-30.812h-9.8594v72.906h22.266q12.5 0 18.656-5.2344 6.1562-5.2188 6.1562-15.766 0-6.8906-3.2031-11.438-3.2031-4.5312-9.2969-6.2812zm-24.719 30.609v-25.875h12.406q7.125 0 10.766 3.2969t3.6406 9.6875-3.6406 9.6406-10.766 3.25z\"/><path id=\"DejaVuSans-88\" d=\"m6.2969 72.906h10.594l18.125-27.109 18.203 27.109h10.594l-23.438-35.016 25-37.891h-10.594l-20.5 31-20.656-31h-10.641l26.016 38.922z\"/></defs><g transform=\"translate(80.104 42.717) scale(.13 -.13)\"><use transform=\"translate(0 .09375)\" xlink:href=\"#DejaVuSans-82\"/><use transform=\"translate(70.439 -16.312) scale(.7)\" xlink:href=\"#DejaVuSans-88\"/></g></g><g clip-path=\"url(#pd94a167159)\"><defs><path id=\"DejaVuSans-50\" d=\"m19.188 8.2969h34.422v-8.2969h-46.281v8.2969q5.6094 5.8125 15.297 15.594 9.7031 9.7969 12.188 12.641 4.7344 5.3125 6.6094 9 1.8906 3.6875 1.8906 7.25 0 5.8125-4.0781 9.4688-4.0781 3.6719-10.625 3.6719-4.6406 0-9.7969-1.6094-5.1406-1.6094-11-4.8906v9.9688q5.9531 2.3906 11.125 3.6094 5.1875 1.2188 9.4844 1.2188 11.328 0 18.062-5.6719 6.7344-5.6562 6.7344-15.125 0-4.5-1.6875-8.5312-1.6719-4.0156-6.125-9.4844-1.2188-1.4219-7.7656-8.1875-6.5312-6.7656-18.453-18.922z\"/><path id=\"DejaVuSans-42\" d=\"m47.016 60.891-17.516-9.4688 17.516-9.5312-2.8281-4.7812-16.406 9.9062v-18.406h-5.5625v18.406l-16.406-9.9062-2.8281 4.7812 17.531 9.5312-17.531 9.4688 2.8281 4.8281 16.406-9.9062v18.406h5.5625v-18.406l16.406 9.9062z\"/><path id=\"DejaVuSans-Oblique-946\" d=\"m13.625 3.375-4.6875-24.172h-9.0312l14.594 75.141q4.3438 22.266 25.156 22.266 21.094 0 17.516-18.797-2.4375-13.375-11.953-18.266 12.797-4.3906 10.297-17.422-4.3906-23.203-28.031-23.156-10.344 0.046875-13.859 4.4062zm2.2969 11.719q3.75-8.5 13.375-8.4531 14.062 0 17.047 15.328 2.6875 13.781-20.172 12.703l1.6094 8.2969q17.672-0.29688 20.75 15.625 2.1094 10.75-9.3281 10.688-12.781 0-15.719-15.234z\"/></defs><g transform=\"translate(80.914 54.664) scale(.08 -.08)\"><use transform=\"translate(0 .39062)\" xlink:href=\"#DejaVuSans-50\"/><use transform=\"translate(63.623 .39062)\" xlink:href=\"#DejaVuSans-42\"/><use transform=\"translate(113.62 .39062)\" xlink:href=\"#DejaVuSans-Oblique-946\"/></g></g><g clip-path=\"url(#pd94a167159)\"><g transform=\"translate(80.104 88.168) scale(.13 -.13)\"><use transform=\"translate(0 .09375)\" xlink:href=\"#DejaVuSans-82\"/><use transform=\"translate(70.439 -16.312) scale(.7)\" xlink:href=\"#DejaVuSans-88\"/></g></g><g clip-path=\"url(#pd94a167159)\"><g transform=\"translate(80.914 100.11) scale(.08 -.08)\"><use transform=\"translate(0 .39062)\" xlink:href=\"#DejaVuSans-50\"/><use transform=\"translate(63.623 .39062)\" xlink:href=\"#DejaVuSans-42\"/><use transform=\"translate(113.62 .39062)\" xlink:href=\"#DejaVuSans-Oblique-946\"/></g></g><g clip-path=\"url(#pd94a167159)\"><g transform=\"translate(80.104 133.62) scale(.13 -.13)\"><use transform=\"translate(0 .09375)\" xlink:href=\"#DejaVuSans-82\"/><use transform=\"translate(70.439 -16.312) scale(.7)\" xlink:href=\"#DejaVuSans-88\"/></g></g><g clip-path=\"url(#pd94a167159)\"><g transform=\"translate(80.914 145.57) scale(.08 -.08)\"><use transform=\"translate(0 .39062)\" xlink:href=\"#DejaVuSans-50\"/><use transform=\"translate(63.623 .39062)\" xlink:href=\"#DejaVuSans-42\"/><use transform=\"translate(113.62 .39062)\" xlink:href=\"#DejaVuSans-Oblique-946\"/></g></g><g clip-path=\"url(#pd94a167159)\"><g transform=\"translate(80.104 179.07) scale(.13 -.13)\"><use transform=\"translate(0 .09375)\" xlink:href=\"#DejaVuSans-82\"/><use transform=\"translate(70.439 -16.312) scale(.7)\" xlink:href=\"#DejaVuSans-88\"/></g></g><g clip-path=\"url(#pd94a167159)\"><g transform=\"translate(80.914 191.02) scale(.08 -.08)\"><use transform=\"translate(0 .39062)\" xlink:href=\"#DejaVuSans-50\"/><use transform=\"translate(63.623 .39062)\" xlink:href=\"#DejaVuSans-42\"/><use transform=\"translate(113.62 .39062)\" xlink:href=\"#DejaVuSans-Oblique-946\"/></g></g><g clip-path=\"url(#pd94a167159)\"><defs><path id=\"DejaVuSans-Oblique-113\" d=\"m41.703 8.2031q-3.6094-4.7344-8.5312-7.1875-4.9062-2.4375-10.859-2.4375-8.2969 0-13.016 5.5938-4.7031 5.5938-4.7031 15.406 0 7.9062 2.9062 15.281t8.3281 13.234q3.5156 3.8125 8.0781 5.8594t9.5938 2.0469q6.0469 0 9.9531-2.3906t5.6719-7.2188l1.5625 8.2031h9.0312l-14.594-75.203h-9.0469zm-27.781 12.703q0-7.2344 3.0156-11.016 3.0312-3.7812 8.75-3.7812 8.5 0 14.5 8.125t6 19.75q0 7.0312-3.1094 10.766-3.0938 3.7344-8.8906 3.7344-4.25 0-7.875-1.9844-3.6094-1.9688-6.2969-5.7812-2.8281-4-4.4688-9.375-1.625-5.3594-1.625-10.438z\"/><path id=\"DejaVuSans-48\" d=\"m31.781 66.406q-7.6094 0-11.453-7.5-3.8281-7.4844-3.8281-22.531 0-14.984 3.8281-22.484 3.8438-7.5 11.453-7.5 7.6719 0 11.5 7.5 3.8438 7.5 3.8438 22.484 0 15.047-3.8438 22.531-3.8281 7.5-11.5 7.5zm0 7.8125q12.266 0 18.734-9.7031 6.4688-9.6875 6.4688-28.141 0-18.406-6.4688-28.109-6.4688-9.6875-18.734-9.6875-12.25 0-18.719 9.6875-6.4688 9.7031-6.4688 28.109 0 18.453 6.4688 28.141 6.4688 9.7031 18.719 9.7031z\"/></defs><g transform=\"translate(36.363 48.012) scale(.1625 -.1625)\"><use xlink:href=\"#DejaVuSans-Oblique-113\"/><use transform=\"translate(63.477 -16.406) scale(.7)\" xlink:href=\"#DejaVuSans-48\"/></g></g><g clip-path=\"url(#pd94a167159)\"><defs><path id=\"DejaVuSans-49\" d=\"m12.406 8.2969h16.109v55.625l-17.531-3.5156v8.9844l17.438 3.5156h9.8594v-64.609h16.109v-8.2969h-41.984z\"/></defs><g transform=\"translate(36.363 93.463) scale(.1625 -.1625)\"><use xlink:href=\"#DejaVuSans-Oblique-113\"/><use transform=\"translate(63.477 -16.406) scale(.7)\" xlink:href=\"#DejaVuSans-49\"/></g></g><g clip-path=\"url(#pd94a167159)\"><g transform=\"translate(36.363 138.91) scale(.1625 -.1625)\"><use xlink:href=\"#DejaVuSans-Oblique-113\"/><use transform=\"translate(63.477 -16.406) scale(.7)\" xlink:href=\"#DejaVuSans-50\"/></g></g><g clip-path=\"url(#pd94a167159)\"><defs><path id=\"DejaVuSans-51\" d=\"m40.578 39.312q7.0781-1.5156 11.047-6.3125 3.9844-4.7812 3.9844-11.812 0-10.781-7.4219-16.703-7.4219-5.9062-21.094-5.9062-4.5781 0-9.4375 0.90625t-10.031 2.7188v9.5156q4.0938-2.3906 8.9688-3.6094 4.8906-1.2188 10.219-1.2188 9.2656 0 14.125 3.6562t4.8594 10.641q0 6.4531-4.5156 10.078-4.5156 3.6406-12.562 3.6406h-8.5v8.1094h8.8906q7.2656 0 11.125 2.9062t3.8594 8.375q0 5.6094-3.9844 8.6094-3.9688 3.0156-11.391 3.0156-4.0625 0-8.7031-0.89062-4.6406-0.875-10.203-2.7188v8.7812q5.625 1.5625 10.531 2.3438t9.25 0.78125q11.234 0 17.766-5.1094 6.5469-5.0938 6.5469-13.781 0-6.0625-3.4688-10.234t-9.8594-5.7812z\"/></defs><g transform=\"translate(36.363 184.36) scale(.1625 -.1625)\"><use xlink:href=\"#DejaVuSans-Oblique-113\"/><use transform=\"translate(63.477 -16.406) scale(.7)\" xlink:href=\"#DejaVuSans-51\"/></g></g><defs><clipPath id=\"pd94a167159\"><rect x=\"7.2\" y=\"7.2\" width=\"110.83\" height=\"199.98\"/></clipPath></defs></svg>"
            ],
            "text/plain": [
              "<Figure size 146.797x264.88 with 1 Axes>"
            ]
          },
          "execution_count": 3,
          "metadata": {
          },
          "output_type": "execute_result"
        }
      ],
      "source": [
        "from qiskit import QuantumCircuit, ClassicalRegister, QuantumRegister\n",
        "from qiskit import Aer, execute\n",
        "from qiskit.circuit import Parameter\n",
        "\n",
        "# La adjacency es esencialmente una matriz que te dice qué nodos están\n",
        "# conectados. Esta matriz se da como una matriz dispersa, por lo que debemos\n",
        "# convertirla en una matriz densa\n",
        "adjacency = nx.adjacency_matrix(G).todense()\n",
        "\n",
        "nqubits = 4\n",
        "\n",
        "beta = Parameter(\"$\\\\beta$\")\n",
        "qc_mix = QuantumCircuit(nqubits)\n",
        "for i in range(0, nqubits):\n",
        "    qc_mix.rx(2 * beta, i)\n",
        "    \n",
        "qc_mix.draw()"
      ]
    },
    {
      "cell_type": "markdown",
      "metadata": {
      },
      "source": [
        "### El Problema de la Unitaria"
      ]
    },
    {
      "cell_type": "code",
      "execution_count": 4,
      "metadata": {
      },
      "outputs": [
        {
          "data": {
            "image/svg+xml": [
              "<?xml version=\"1.0\" encoding=\"UTF-8\"?><!DOCTYPE svg  PUBLIC '-//W3C//DTD SVG 1.1//EN'  'http://www.w3.org/Graphics/SVG/1.1/DTD/svg11.dtd'><svg width=\"807pt\" height=\"214.38pt\" version=\"1.1\" viewBox=\"0 0 807 214.38\" xmlns=\"http://www.w3.org/2000/svg\" xmlns:xlink=\"http://www.w3.org/1999/xlink\"><defs><style type=\"text/css\">*{stroke-linecap:butt;stroke-linejoin:round;}</style></defs><path d=\"m0 214.38h807v-214.38h-807z\" fill=\"#ffffff\"/><path d=\"m63.491 43.561h731.76\" clip-path=\"url(#p307a4a4c19)\" fill=\"none\" stroke=\"#000000\" stroke-linecap=\"square\" stroke-width=\"2\"/><path d=\"m63.491 89.012h731.76\" clip-path=\"url(#p307a4a4c19)\" fill=\"none\" stroke=\"#000000\" stroke-linecap=\"square\" stroke-width=\"2\"/><path d=\"m63.491 134.46h731.76\" clip-path=\"url(#p307a4a4c19)\" fill=\"none\" stroke=\"#000000\" stroke-linecap=\"square\" stroke-width=\"2\"/><path d=\"m63.491 179.91h731.76\" clip-path=\"url(#p307a4a4c19)\" fill=\"none\" stroke=\"#000000\" stroke-linecap=\"square\" stroke-width=\"2\"/><path d=\"m215.52 66.286h17.726v-45.451h-17.726z\" clip-path=\"url(#p307a4a4c19)\" fill=\"#bdbdbd\" opacity=\".6\"/><path d=\"m215.52 111.74h17.726v-45.451h-17.726z\" clip-path=\"url(#p307a4a4c19)\" fill=\"#bdbdbd\" opacity=\".6\"/><path d=\"m215.52 157.19h17.726v-45.451h-17.726z\" clip-path=\"url(#p307a4a4c19)\" fill=\"#bdbdbd\" opacity=\".6\"/><path d=\"m215.52 202.64h17.726v-45.451h-17.726z\" clip-path=\"url(#p307a4a4c19)\" fill=\"#bdbdbd\" opacity=\".6\"/><path d=\"m397.33 66.286h17.726v-45.451h-17.726z\" clip-path=\"url(#p307a4a4c19)\" fill=\"#bdbdbd\" opacity=\".6\"/><path d=\"m397.33 111.74h17.726v-45.451h-17.726z\" clip-path=\"url(#p307a4a4c19)\" fill=\"#bdbdbd\" opacity=\".6\"/><path d=\"m397.33 157.19h17.726v-45.451h-17.726z\" clip-path=\"url(#p307a4a4c19)\" fill=\"#bdbdbd\" opacity=\".6\"/><path d=\"m397.33 202.64h17.726v-45.451h-17.726z\" clip-path=\"url(#p307a4a4c19)\" fill=\"#bdbdbd\" opacity=\".6\"/><path d=\"m579.13 66.286h17.726v-45.451h-17.726z\" clip-path=\"url(#p307a4a4c19)\" fill=\"#bdbdbd\" opacity=\".6\"/><path d=\"m579.13 111.74h17.726v-45.451h-17.726z\" clip-path=\"url(#p307a4a4c19)\" fill=\"#bdbdbd\" opacity=\".6\"/><path d=\"m579.13 157.19h17.726v-45.451h-17.726z\" clip-path=\"url(#p307a4a4c19)\" fill=\"#bdbdbd\" opacity=\".6\"/><path d=\"m579.13 202.64h17.726v-45.451h-17.726z\" clip-path=\"url(#p307a4a4c19)\" fill=\"#bdbdbd\" opacity=\".6\"/><path d=\"m760.94 66.286h17.726v-45.451h-17.726z\" clip-path=\"url(#p307a4a4c19)\" fill=\"#bdbdbd\" opacity=\".6\"/><path d=\"m760.94 111.74h17.726v-45.451h-17.726z\" clip-path=\"url(#p307a4a4c19)\" fill=\"#bdbdbd\" opacity=\".6\"/><path d=\"m760.94 157.19h17.726v-45.451h-17.726z\" clip-path=\"url(#p307a4a4c19)\" fill=\"#bdbdbd\" opacity=\".6\"/><path d=\"m760.94 202.64h17.726v-45.451h-17.726z\" clip-path=\"url(#p307a4a4c19)\" fill=\"#bdbdbd\" opacity=\".6\"/><path d=\"m88.034 89.012v-45.451\" clip-path=\"url(#p307a4a4c19)\" fill=\"none\" stroke=\"#6fa4ff\" stroke-linecap=\"square\" stroke-width=\"2\"/><path d=\"m178.94 89.012v-45.451\" clip-path=\"url(#p307a4a4c19)\" fill=\"none\" stroke=\"#6fa4ff\" stroke-linecap=\"square\" stroke-width=\"2\"/><path d=\"m269.84 179.91v-136.35\" clip-path=\"url(#p307a4a4c19)\" fill=\"none\" stroke=\"#6fa4ff\" stroke-linecap=\"square\" stroke-width=\"2\"/><path d=\"m360.74 179.91v-136.35\" clip-path=\"url(#p307a4a4c19)\" fill=\"none\" stroke=\"#6fa4ff\" stroke-linecap=\"square\" stroke-width=\"2\"/><path d=\"m451.64 134.46v-45.451\" clip-path=\"url(#p307a4a4c19)\" fill=\"none\" stroke=\"#6fa4ff\" stroke-linecap=\"square\" stroke-width=\"2\"/><path d=\"m542.54 134.46v-45.451\" clip-path=\"url(#p307a4a4c19)\" fill=\"none\" stroke=\"#6fa4ff\" stroke-linecap=\"square\" stroke-width=\"2\"/><path d=\"m633.45 179.91v-45.451\" clip-path=\"url(#p307a4a4c19)\" fill=\"none\" stroke=\"#6fa4ff\" stroke-linecap=\"square\" stroke-width=\"2\"/><path d=\"m724.35 179.91v-45.451\" clip-path=\"url(#p307a4a4c19)\" fill=\"none\" stroke=\"#6fa4ff\" stroke-linecap=\"square\" stroke-width=\"2\"/><path d=\"m88.034 47.992c1.1752 0 2.3025-0.46693 3.1335-1.2979 0.83102-0.83102 1.2979-1.9583 1.2979-3.1335s-0.46693-2.3025-1.2979-3.1335c-0.83102-0.83102-1.9583-1.2979-3.1335-1.2979s-2.3025 0.46693-3.1335 1.2979c-0.83102 0.83102-1.2979 1.9583-1.2979 3.1335s0.46693 2.3025 1.2979 3.1335c0.83102 0.83102 1.9583 1.2979 3.1335 1.2979z\" clip-path=\"url(#p307a4a4c19)\" fill=\"#6fa4ff\" stroke=\"#6fa4ff\" stroke-width=\"1.5\"/><path d=\"m88.034 99.352c2.7422 0 5.3725-1.0895 7.3116-3.0285 1.939-1.939 3.0285-4.5693 3.0285-7.3116s-1.0895-5.3725-3.0285-7.3116c-1.939-1.939-4.5693-3.0285-7.3116-3.0285s-5.3725 1.0895-7.3116 3.0285c-1.939 1.939-3.0285 4.5693-3.0285 7.3116s1.0895 5.3725 3.0285 7.3116c1.939 1.939 4.5693 3.0285 7.3116 3.0285z\" clip-path=\"url(#p307a4a4c19)\" fill=\"#6fa4ff\" stroke=\"#6fa4ff\" stroke-width=\"2\"/><path d=\"m118.71 103.78h29.543v-29.543h-29.543z\" clip-path=\"url(#p307a4a4c19)\" fill=\"#bb8bff\" stroke=\"#bb8bff\" stroke-width=\"1.5\"/><path d=\"m178.94 47.992c1.1752 0 2.3025-0.46693 3.1335-1.2979 0.83102-0.83102 1.2979-1.9583 1.2979-3.1335s-0.46693-2.3025-1.2979-3.1335c-0.83102-0.83102-1.9583-1.2979-3.1335-1.2979s-2.3025 0.46693-3.1335 1.2979c-0.83102 0.83102-1.2979 1.9583-1.2979 3.1335s0.46693 2.3025 1.2979 3.1335c0.83102 0.83102 1.9583 1.2979 3.1335 1.2979z\" clip-path=\"url(#p307a4a4c19)\" fill=\"#6fa4ff\" stroke=\"#6fa4ff\" stroke-width=\"1.5\"/><path d=\"m178.94 99.352c2.7422 0 5.3725-1.0895 7.3116-3.0285 1.939-1.939 3.0285-4.5693 3.0285-7.3116s-1.0895-5.3725-3.0285-7.3116c-1.939-1.939-4.5693-3.0285-7.3116-3.0285s-5.3725 1.0895-7.3116 3.0285c-1.939 1.939-3.0285 4.5693-3.0285 7.3116s1.0895 5.3725 3.0285 7.3116c1.939 1.939 4.5693 3.0285 7.3116 3.0285z\" clip-path=\"url(#p307a4a4c19)\" fill=\"#6fa4ff\" stroke=\"#6fa4ff\" stroke-width=\"2\"/><path d=\"m269.84 47.992c1.1752 0 2.3025-0.46693 3.1335-1.2979 0.83102-0.83102 1.2979-1.9583 1.2979-3.1335s-0.46693-2.3025-1.2979-3.1335c-0.83102-0.83102-1.9583-1.2979-3.1335-1.2979s-2.3025 0.46693-3.1335 1.2979c-0.83102 0.83102-1.2979 1.9583-1.2979 3.1335s0.46693 2.3025 1.2979 3.1335c0.83102 0.83102 1.9583 1.2979 3.1335 1.2979z\" clip-path=\"url(#p307a4a4c19)\" fill=\"#6fa4ff\" stroke=\"#6fa4ff\" stroke-width=\"1.5\"/><path d=\"m269.84 190.25c2.7422 0 5.3725-1.0895 7.3116-3.0285 1.939-1.939 3.0285-4.5693 3.0285-7.3116s-1.0895-5.3725-3.0285-7.3116c-1.939-1.939-4.5693-3.0285-7.3116-3.0285s-5.3725 1.0895-7.3116 3.0285c-1.939 1.939-3.0285 4.5693-3.0285 7.3116s1.0895 5.3725 3.0285 7.3116c1.939 1.939 4.5693 3.0285 7.3116 3.0285z\" clip-path=\"url(#p307a4a4c19)\" fill=\"#6fa4ff\" stroke=\"#6fa4ff\" stroke-width=\"2\"/><path d=\"m300.52 194.69h29.543v-29.543h-29.543z\" clip-path=\"url(#p307a4a4c19)\" fill=\"#bb8bff\" stroke=\"#bb8bff\" stroke-width=\"1.5\"/><path d=\"m360.74 47.992c1.1752 0 2.3025-0.46693 3.1335-1.2979 0.83102-0.83102 1.2979-1.9583 1.2979-3.1335s-0.46693-2.3025-1.2979-3.1335c-0.83102-0.83102-1.9583-1.2979-3.1335-1.2979s-2.3025 0.46693-3.1335 1.2979c-0.83102 0.83102-1.2979 1.9583-1.2979 3.1335s0.46693 2.3025 1.2979 3.1335c0.83102 0.83102 1.9583 1.2979 3.1335 1.2979z\" clip-path=\"url(#p307a4a4c19)\" fill=\"#6fa4ff\" stroke=\"#6fa4ff\" stroke-width=\"1.5\"/><path d=\"m360.74 190.25c2.7422 0 5.3725-1.0895 7.3116-3.0285 1.939-1.939 3.0285-4.5693 3.0285-7.3116s-1.0895-5.3725-3.0285-7.3116c-1.939-1.939-4.5693-3.0285-7.3116-3.0285s-5.3725 1.0895-7.3116 3.0285c-1.939 1.939-3.0285 4.5693-3.0285 7.3116s1.0895 5.3725 3.0285 7.3116c1.939 1.939 4.5693 3.0285 7.3116 3.0285z\" clip-path=\"url(#p307a4a4c19)\" fill=\"#6fa4ff\" stroke=\"#6fa4ff\" stroke-width=\"2\"/><path d=\"m451.64 93.443c1.1752 0 2.3025-0.46693 3.1335-1.2979 0.83102-0.83102 1.2979-1.9583 1.2979-3.1335s-0.46693-2.3025-1.2979-3.1335c-0.83102-0.83102-1.9583-1.2979-3.1335-1.2979s-2.3025 0.46693-3.1335 1.2979c-0.83102 0.83102-1.2979 1.9583-1.2979 3.1335s0.46693 2.3025 1.2979 3.1335c0.83102 0.83102 1.9583 1.2979 3.1335 1.2979z\" clip-path=\"url(#p307a4a4c19)\" fill=\"#6fa4ff\" stroke=\"#6fa4ff\" stroke-width=\"1.5\"/><path d=\"m451.64 144.8c2.7422 0 5.3725-1.0895 7.3116-3.0285 1.939-1.939 3.0285-4.5693 3.0285-7.3116s-1.0895-5.3725-3.0285-7.3116c-1.939-1.939-4.5693-3.0285-7.3116-3.0285s-5.3725 1.0895-7.3116 3.0285c-1.939 1.939-3.0285 4.5693-3.0285 7.3116s1.0895 5.3725 3.0285 7.3116c1.939 1.939 4.5693 3.0285 7.3116 3.0285z\" clip-path=\"url(#p307a4a4c19)\" fill=\"#6fa4ff\" stroke=\"#6fa4ff\" stroke-width=\"2\"/><path d=\"m482.32 149.23h29.543v-29.543h-29.543z\" clip-path=\"url(#p307a4a4c19)\" fill=\"#bb8bff\" stroke=\"#bb8bff\" stroke-width=\"1.5\"/><path d=\"m542.54 93.443c1.1752 0 2.3025-0.46693 3.1335-1.2979 0.83102-0.83102 1.2979-1.9583 1.2979-3.1335s-0.46693-2.3025-1.2979-3.1335c-0.83102-0.83102-1.9583-1.2979-3.1335-1.2979s-2.3025 0.46693-3.1335 1.2979c-0.83102 0.83102-1.2979 1.9583-1.2979 3.1335s0.46693 2.3025 1.2979 3.1335c0.83102 0.83102 1.9583 1.2979 3.1335 1.2979z\" clip-path=\"url(#p307a4a4c19)\" fill=\"#6fa4ff\" stroke=\"#6fa4ff\" stroke-width=\"1.5\"/><path d=\"m542.54 144.8c2.7422 0 5.3725-1.0895 7.3116-3.0285 1.939-1.939 3.0285-4.5693 3.0285-7.3116s-1.0895-5.3725-3.0285-7.3116c-1.939-1.939-4.5693-3.0285-7.3116-3.0285s-5.3725 1.0895-7.3116 3.0285c-1.939 1.939-3.0285 4.5693-3.0285 7.3116s1.0895 5.3725 3.0285 7.3116c1.939 1.939 4.5693 3.0285 7.3116 3.0285z\" clip-path=\"url(#p307a4a4c19)\" fill=\"#6fa4ff\" stroke=\"#6fa4ff\" stroke-width=\"2\"/><path d=\"m633.45 138.89c1.1752 0 2.3025-0.46693 3.1335-1.2979 0.83102-0.83102 1.2979-1.9583 1.2979-3.1335s-0.46693-2.3025-1.2979-3.1335c-0.83102-0.83102-1.9583-1.2979-3.1335-1.2979s-2.3025 0.46693-3.1335 1.2979c-0.83102 0.83102-1.2979 1.9583-1.2979 3.1335s0.46693 2.3025 1.2979 3.1335c0.83102 0.83102 1.9583 1.2979 3.1335 1.2979z\" clip-path=\"url(#p307a4a4c19)\" fill=\"#6fa4ff\" stroke=\"#6fa4ff\" stroke-width=\"1.5\"/><path d=\"m633.45 190.25c2.7422 0 5.3725-1.0895 7.3116-3.0285 1.939-1.939 3.0285-4.5693 3.0285-7.3116s-1.0895-5.3725-3.0285-7.3116c-1.939-1.939-4.5693-3.0285-7.3116-3.0285s-5.3725 1.0895-7.3116 3.0285c-1.939 1.939-3.0285 4.5693-3.0285 7.3116s1.0895 5.3725 3.0285 7.3116c1.939 1.939 4.5693 3.0285 7.3116 3.0285z\" clip-path=\"url(#p307a4a4c19)\" fill=\"#6fa4ff\" stroke=\"#6fa4ff\" stroke-width=\"2\"/><path d=\"m664.13 194.69h29.543v-29.543h-29.543z\" clip-path=\"url(#p307a4a4c19)\" fill=\"#bb8bff\" stroke=\"#bb8bff\" stroke-width=\"1.5\"/><path d=\"m724.35 138.89c1.1752 0 2.3025-0.46693 3.1335-1.2979 0.83102-0.83102 1.2979-1.9583 1.2979-3.1335s-0.46693-2.3025-1.2979-3.1335c-0.83102-0.83102-1.9583-1.2979-3.1335-1.2979s-2.3025 0.46693-3.1335 1.2979c-0.83102 0.83102-1.2979 1.9583-1.2979 3.1335s0.46693 2.3025 1.2979 3.1335c0.83102 0.83102 1.9583 1.2979 3.1335 1.2979z\" clip-path=\"url(#p307a4a4c19)\" fill=\"#6fa4ff\" stroke=\"#6fa4ff\" stroke-width=\"1.5\"/><path d=\"m724.35 190.25c2.7422 0 5.3725-1.0895 7.3116-3.0285 1.939-1.939 3.0285-4.5693 3.0285-7.3116s-1.0895-5.3725-3.0285-7.3116c-1.939-1.939-4.5693-3.0285-7.3116-3.0285s-5.3725 1.0895-7.3116 3.0285c-1.939 1.939-3.0285 4.5693-3.0285 7.3116s1.0895 5.3725 3.0285 7.3116c1.939 1.939 4.5693 3.0285 7.3116 3.0285z\" clip-path=\"url(#p307a4a4c19)\" fill=\"#6fa4ff\" stroke=\"#6fa4ff\" stroke-width=\"2\"/><path d=\"m88.034 94.92v-11.817\" clip-path=\"url(#p307a4a4c19)\" fill=\"none\" stroke=\"#ffffff\" stroke-linecap=\"square\" stroke-width=\"2\"/><path d=\"m82.126 89.012h11.817\" clip-path=\"url(#p307a4a4c19)\" fill=\"none\" stroke=\"#ffffff\" stroke-linecap=\"square\" stroke-width=\"2\"/><path d=\"m178.94 94.92v-11.817\" clip-path=\"url(#p307a4a4c19)\" fill=\"none\" stroke=\"#ffffff\" stroke-linecap=\"square\" stroke-width=\"2\"/><path d=\"m173.03 89.012h11.817\" clip-path=\"url(#p307a4a4c19)\" fill=\"none\" stroke=\"#ffffff\" stroke-linecap=\"square\" stroke-width=\"2\"/><path d=\"m224.39 20.835v45.451\" clip-path=\"url(#p307a4a4c19)\" fill=\"none\" stroke=\"#000000\" stroke-dasharray=\"3.7,1.6\"/><path d=\"m224.39 66.286v45.451\" clip-path=\"url(#p307a4a4c19)\" fill=\"none\" stroke=\"#000000\" stroke-dasharray=\"3.7,1.6\"/><path d=\"m224.39 111.74v45.451\" clip-path=\"url(#p307a4a4c19)\" fill=\"none\" stroke=\"#000000\" stroke-dasharray=\"3.7,1.6\"/><path d=\"m224.39 157.19v45.451\" clip-path=\"url(#p307a4a4c19)\" fill=\"none\" stroke=\"#000000\" stroke-dasharray=\"3.7,1.6\"/><path d=\"m269.84 185.82v-11.817\" clip-path=\"url(#p307a4a4c19)\" fill=\"none\" stroke=\"#ffffff\" stroke-linecap=\"square\" stroke-width=\"2\"/><path d=\"m263.93 179.91h11.817\" clip-path=\"url(#p307a4a4c19)\" fill=\"none\" stroke=\"#ffffff\" stroke-linecap=\"square\" stroke-width=\"2\"/><path d=\"m360.74 185.82v-11.817\" clip-path=\"url(#p307a4a4c19)\" fill=\"none\" stroke=\"#ffffff\" stroke-linecap=\"square\" stroke-width=\"2\"/><path d=\"m354.83 179.91h11.817\" clip-path=\"url(#p307a4a4c19)\" fill=\"none\" stroke=\"#ffffff\" stroke-linecap=\"square\" stroke-width=\"2\"/><path d=\"m406.19 20.835v45.451\" clip-path=\"url(#p307a4a4c19)\" fill=\"none\" stroke=\"#000000\" stroke-dasharray=\"3.7,1.6\"/><path d=\"m406.19 66.286v45.451\" clip-path=\"url(#p307a4a4c19)\" fill=\"none\" stroke=\"#000000\" stroke-dasharray=\"3.7,1.6\"/><path d=\"m406.19 111.74v45.451\" clip-path=\"url(#p307a4a4c19)\" fill=\"none\" stroke=\"#000000\" stroke-dasharray=\"3.7,1.6\"/><path d=\"m406.19 157.19v45.451\" clip-path=\"url(#p307a4a4c19)\" fill=\"none\" stroke=\"#000000\" stroke-dasharray=\"3.7,1.6\"/><path d=\"m451.64 140.37v-11.817\" clip-path=\"url(#p307a4a4c19)\" fill=\"none\" stroke=\"#ffffff\" stroke-linecap=\"square\" stroke-width=\"2\"/><path d=\"m445.73 134.46h11.817\" clip-path=\"url(#p307a4a4c19)\" fill=\"none\" stroke=\"#ffffff\" stroke-linecap=\"square\" stroke-width=\"2\"/><path d=\"m542.54 140.37v-11.817\" clip-path=\"url(#p307a4a4c19)\" fill=\"none\" stroke=\"#ffffff\" stroke-linecap=\"square\" stroke-width=\"2\"/><path d=\"m536.64 134.46h11.817\" clip-path=\"url(#p307a4a4c19)\" fill=\"none\" stroke=\"#ffffff\" stroke-linecap=\"square\" stroke-width=\"2\"/><path d=\"m588 20.835v45.451\" clip-path=\"url(#p307a4a4c19)\" fill=\"none\" stroke=\"#000000\" stroke-dasharray=\"3.7,1.6\"/><path d=\"m588 66.286v45.451\" clip-path=\"url(#p307a4a4c19)\" fill=\"none\" stroke=\"#000000\" stroke-dasharray=\"3.7,1.6\"/><path d=\"m588 111.74v45.451\" clip-path=\"url(#p307a4a4c19)\" fill=\"none\" stroke=\"#000000\" stroke-dasharray=\"3.7,1.6\"/><path d=\"m588 157.19v45.451\" clip-path=\"url(#p307a4a4c19)\" fill=\"none\" stroke=\"#000000\" stroke-dasharray=\"3.7,1.6\"/><path d=\"m633.45 185.82v-11.817\" clip-path=\"url(#p307a4a4c19)\" fill=\"none\" stroke=\"#ffffff\" stroke-linecap=\"square\" stroke-width=\"2\"/><path d=\"m627.54 179.91h11.817\" clip-path=\"url(#p307a4a4c19)\" fill=\"none\" stroke=\"#ffffff\" stroke-linecap=\"square\" stroke-width=\"2\"/><path d=\"m724.35 185.82v-11.817\" clip-path=\"url(#p307a4a4c19)\" fill=\"none\" stroke=\"#ffffff\" stroke-linecap=\"square\" stroke-width=\"2\"/><path d=\"m718.44 179.91h11.817\" clip-path=\"url(#p307a4a4c19)\" fill=\"none\" stroke=\"#ffffff\" stroke-linecap=\"square\" stroke-width=\"2\"/><path d=\"m769.8 20.835v45.451\" clip-path=\"url(#p307a4a4c19)\" fill=\"none\" stroke=\"#000000\" stroke-dasharray=\"3.7,1.6\"/><path d=\"m769.8 66.286v45.451\" clip-path=\"url(#p307a4a4c19)\" fill=\"none\" stroke=\"#000000\" stroke-dasharray=\"3.7,1.6\"/><path d=\"m769.8 111.74v45.451\" clip-path=\"url(#p307a4a4c19)\" fill=\"none\" stroke=\"#000000\" stroke-dasharray=\"3.7,1.6\"/><path d=\"m769.8 157.19v45.451\" clip-path=\"url(#p307a4a4c19)\" fill=\"none\" stroke=\"#000000\" stroke-dasharray=\"3.7,1.6\"/><g clip-path=\"url(#p307a4a4c19)\"><defs><path id=\"DejaVuSans-82\" d=\"m44.391 34.188q3.1719-1.0781 6.1719-4.5938t6.0312-9.6719l10.016-19.922h-10.609l-9.3125 18.703q-3.625 7.3281-7.0156 9.7188t-9.25 2.3906h-10.75v-30.812h-9.8594v72.906h22.266q12.5 0 18.656-5.2344 6.1562-5.2188 6.1562-15.766 0-6.8906-3.2031-11.438-3.2031-4.5312-9.2969-6.2812zm-24.719 30.609v-25.875h12.406q7.125 0 10.766 3.2969t3.6406 9.6875-3.6406 9.6406-10.766 3.25z\"/><path id=\"DejaVuSans-90\" d=\"m5.6094 72.906h57.281v-7.5312l-46.094-57.078h47.219v-8.2969h-59.516v7.5156l46.094 57.078h-44.984z\"/></defs><g transform=\"translate(125.56 88.168) scale(.13 -.13)\"><use transform=\"translate(0 .09375)\" xlink:href=\"#DejaVuSans-82\"/><use transform=\"translate(70.439 -16.312) scale(.7)\" xlink:href=\"#DejaVuSans-90\"/></g></g><g clip-path=\"url(#p307a4a4c19)\"><defs><path id=\"DejaVuSans-50\" d=\"m19.188 8.2969h34.422v-8.2969h-46.281v8.2969q5.6094 5.8125 15.297 15.594 9.7031 9.7969 12.188 12.641 4.7344 5.3125 6.6094 9 1.8906 3.6875 1.8906 7.25 0 5.8125-4.0781 9.4688-4.0781 3.6719-10.625 3.6719-4.6406 0-9.7969-1.6094-5.1406-1.6094-11-4.8906v9.9688q5.9531 2.3906 11.125 3.6094 5.1875 1.2188 9.4844 1.2188 11.328 0 18.062-5.6719 6.7344-5.6562 6.7344-15.125 0-4.5-1.6875-8.5312-1.6719-4.0156-6.125-9.4844-1.2188-1.4219-7.7656-8.1875-6.5312-6.7656-18.453-18.922z\"/><path id=\"DejaVuSans-42\" d=\"m47.016 60.891-17.516-9.4688 17.516-9.5312-2.8281-4.7812-16.406 9.9062v-18.406h-5.5625v18.406l-16.406-9.9062-2.8281 4.7812 17.531 9.5312-17.531 9.4688 2.8281 4.8281 16.406-9.9062v18.406h5.5625v-18.406l16.406 9.9062z\"/><path id=\"DejaVuSans-Oblique-947\" d=\"m23.297 46.094 5.4219-33.781 25.281 42.375h9.5312l-32.719-54.688-4.0469-20.797h-8.9844l4.0469 20.797-6.3906 40.828q-0.98438 6.1406-5.625 6.1406h-2.3906l1.4688 7.7188h3.4219q9.6094 0 10.984-8.5938z\"/></defs><g transform=\"translate(126.57 100.07) scale(.08 -.08)\"><use transform=\"translate(0 .78125)\" xlink:href=\"#DejaVuSans-50\"/><use transform=\"translate(63.623 .78125)\" xlink:href=\"#DejaVuSans-42\"/><use transform=\"translate(113.62 .78125)\" xlink:href=\"#DejaVuSans-Oblique-947\"/></g></g><g clip-path=\"url(#p307a4a4c19)\"><g transform=\"translate(307.36 179.07) scale(.13 -.13)\"><use transform=\"translate(0 .09375)\" xlink:href=\"#DejaVuSans-82\"/><use transform=\"translate(70.439 -16.312) scale(.7)\" xlink:href=\"#DejaVuSans-90\"/></g></g><g clip-path=\"url(#p307a4a4c19)\"><g transform=\"translate(308.37 190.97) scale(.08 -.08)\"><use transform=\"translate(0 .78125)\" xlink:href=\"#DejaVuSans-50\"/><use transform=\"translate(63.623 .78125)\" xlink:href=\"#DejaVuSans-42\"/><use transform=\"translate(113.62 .78125)\" xlink:href=\"#DejaVuSans-Oblique-947\"/></g></g><g clip-path=\"url(#p307a4a4c19)\"><g transform=\"translate(489.16 133.62) scale(.13 -.13)\"><use transform=\"translate(0 .09375)\" xlink:href=\"#DejaVuSans-82\"/><use transform=\"translate(70.439 -16.312) scale(.7)\" xlink:href=\"#DejaVuSans-90\"/></g></g><g clip-path=\"url(#p307a4a4c19)\"><g transform=\"translate(490.17 145.52) scale(.08 -.08)\"><use transform=\"translate(0 .78125)\" xlink:href=\"#DejaVuSans-50\"/><use transform=\"translate(63.623 .78125)\" xlink:href=\"#DejaVuSans-42\"/><use transform=\"translate(113.62 .78125)\" xlink:href=\"#DejaVuSans-Oblique-947\"/></g></g><g clip-path=\"url(#p307a4a4c19)\"><g transform=\"translate(670.97 179.07) scale(.13 -.13)\"><use transform=\"translate(0 .09375)\" xlink:href=\"#DejaVuSans-82\"/><use transform=\"translate(70.439 -16.312) scale(.7)\" xlink:href=\"#DejaVuSans-90\"/></g></g><g clip-path=\"url(#p307a4a4c19)\"><g transform=\"translate(671.98 190.97) scale(.08 -.08)\"><use transform=\"translate(0 .78125)\" xlink:href=\"#DejaVuSans-50\"/><use transform=\"translate(63.623 .78125)\" xlink:href=\"#DejaVuSans-42\"/><use transform=\"translate(113.62 .78125)\" xlink:href=\"#DejaVuSans-Oblique-947\"/></g></g><g clip-path=\"url(#p307a4a4c19)\"><defs><path id=\"DejaVuSans-Oblique-113\" d=\"m41.703 8.2031q-3.6094-4.7344-8.5312-7.1875-4.9062-2.4375-10.859-2.4375-8.2969 0-13.016 5.5938-4.7031 5.5938-4.7031 15.406 0 7.9062 2.9062 15.281t8.3281 13.234q3.5156 3.8125 8.0781 5.8594t9.5938 2.0469q6.0469 0 9.9531-2.3906t5.6719-7.2188l1.5625 8.2031h9.0312l-14.594-75.203h-9.0469zm-27.781 12.703q0-7.2344 3.0156-11.016 3.0312-3.7812 8.75-3.7812 8.5 0 14.5 8.125t6 19.75q0 7.0312-3.1094 10.766-3.0938 3.7344-8.8906 3.7344-4.25 0-7.875-1.9844-3.6094-1.9688-6.2969-5.7812-2.8281-4-4.4688-9.375-1.625-5.3594-1.625-10.438z\"/><path id=\"DejaVuSans-48\" d=\"m31.781 66.406q-7.6094 0-11.453-7.5-3.8281-7.4844-3.8281-22.531 0-14.984 3.8281-22.484 3.8438-7.5 11.453-7.5 7.6719 0 11.5 7.5 3.8438 7.5 3.8438 22.484 0 15.047-3.8438 22.531-3.8281 7.5-11.5 7.5zm0 7.8125q12.266 0 18.734-9.7031 6.4688-9.6875 6.4688-28.141 0-18.406-6.4688-28.109-6.4688-9.6875-18.734-9.6875-12.25 0-18.719 9.6875-6.4688 9.7031-6.4688 28.109 0 18.453 6.4688 28.141 6.4688 9.7031 18.719 9.7031z\"/></defs><g transform=\"translate(36.363 48.012) scale(.1625 -.1625)\"><use xlink:href=\"#DejaVuSans-Oblique-113\"/><use transform=\"translate(63.477 -16.406) scale(.7)\" xlink:href=\"#DejaVuSans-48\"/></g></g><g clip-path=\"url(#p307a4a4c19)\"><defs><path id=\"DejaVuSans-49\" d=\"m12.406 8.2969h16.109v55.625l-17.531-3.5156v8.9844l17.438 3.5156h9.8594v-64.609h16.109v-8.2969h-41.984z\"/></defs><g transform=\"translate(36.363 93.463) scale(.1625 -.1625)\"><use xlink:href=\"#DejaVuSans-Oblique-113\"/><use transform=\"translate(63.477 -16.406) scale(.7)\" xlink:href=\"#DejaVuSans-49\"/></g></g><g clip-path=\"url(#p307a4a4c19)\"><g transform=\"translate(36.363 138.91) scale(.1625 -.1625)\"><use xlink:href=\"#DejaVuSans-Oblique-113\"/><use transform=\"translate(63.477 -16.406) scale(.7)\" xlink:href=\"#DejaVuSans-50\"/></g></g><g clip-path=\"url(#p307a4a4c19)\"><defs><path id=\"DejaVuSans-51\" d=\"m40.578 39.312q7.0781-1.5156 11.047-6.3125 3.9844-4.7812 3.9844-11.812 0-10.781-7.4219-16.703-7.4219-5.9062-21.094-5.9062-4.5781 0-9.4375 0.90625t-10.031 2.7188v9.5156q4.0938-2.3906 8.9688-3.6094 4.8906-1.2188 10.219-1.2188 9.2656 0 14.125 3.6562t4.8594 10.641q0 6.4531-4.5156 10.078-4.5156 3.6406-12.562 3.6406h-8.5v8.1094h8.8906q7.2656 0 11.125 2.9062t3.8594 8.375q0 5.6094-3.9844 8.6094-3.9688 3.0156-11.391 3.0156-4.0625 0-8.7031-0.89062-4.6406-0.875-10.203-2.7188v8.7812q5.625 1.5625 10.531 2.3438t9.25 0.78125q11.234 0 17.766-5.1094 6.5469-5.0938 6.5469-13.781 0-6.0625-3.4688-10.234t-9.8594-5.7812z\"/></defs><g transform=\"translate(36.363 184.36) scale(.1625 -.1625)\"><use xlink:href=\"#DejaVuSans-Oblique-113\"/><use transform=\"translate(63.477 -16.406) scale(.7)\" xlink:href=\"#DejaVuSans-51\"/></g></g><defs><clipPath id=\"p307a4a4c19\"><rect x=\"7.2\" y=\"7.2\" width=\"792.6\" height=\"199.98\"/></clipPath></defs></svg>"
            ],
            "text/plain": [
              "<Figure size 1049.8x264.88 with 1 Axes>"
            ]
          },
          "execution_count": 4,
          "metadata": {
          },
          "output_type": "execute_result"
        }
      ],
      "source": [
        "gamma = Parameter(\"$\\\\gamma$\")\n",
        "qc_p = QuantumCircuit(nqubits)\n",
        "for pair in list(G.edges()):  # pares de nodos\n",
        "    qc_p.rzz(2 * gamma, pair[0], pair[1])\n",
        "    qc_p.barrier()\n",
        "    \n",
        "qc_p.decompose().draw()"
      ]
    },
    {
      "cell_type": "markdown",
      "metadata": {
      },
      "source": [
        "### El Estado Inicial\n",
        "\n",
        "El estado inicial utilizado durante QAOA suele ser una superposición igual de todos los estados básicos, es decir,\n",
        "\n",
        "$$\\lvert \\psi_0 \\rangle = \\bigg(\\frac{1}{\\sqrt{2}}\\big(\\lvert 0 \\rangle + \\lvert 1 \\rangle\\big)\\bigg)^{\\otimes n}$$\n",
        "\n",
        "Dicho estado, cuando el número de qubits es 4 ($n=4$), se puede preparar aplicando compuertas Hadamard a partir de un estado totalmente cero, como se muestra en el siguiente circuito. "
      ]
    },
    {
      "cell_type": "code",
      "execution_count": 5,
      "metadata": {
      },
      "outputs": [
        {
          "data": {
            "image/svg+xml": [
              "<?xml version=\"1.0\" encoding=\"UTF-8\"?><!DOCTYPE svg  PUBLIC '-//W3C//DTD SVG 1.1//EN'  'http://www.w3.org/Graphics/SVG/1.1/DTD/svg11.dtd'><svg width=\"125.23pt\" height=\"214.38pt\" version=\"1.1\" viewBox=\"0 0 125.23 214.38\" xmlns=\"http://www.w3.org/2000/svg\" xmlns:xlink=\"http://www.w3.org/1999/xlink\"><defs><style type=\"text/css\">*{stroke-linecap:butt;stroke-linejoin:round;}</style></defs><path d=\"m0 214.38h125.23v-214.38h-125.23z\" fill=\"#ffffff\"/><path d=\"m63.491 43.561h49.996\" clip-path=\"url(#p10f716f123)\" fill=\"none\" stroke=\"#000000\" stroke-linecap=\"square\" stroke-width=\"2\"/><path d=\"m63.491 89.012h49.996\" clip-path=\"url(#p10f716f123)\" fill=\"none\" stroke=\"#000000\" stroke-linecap=\"square\" stroke-width=\"2\"/><path d=\"m63.491 134.46h49.996\" clip-path=\"url(#p10f716f123)\" fill=\"none\" stroke=\"#000000\" stroke-linecap=\"square\" stroke-width=\"2\"/><path d=\"m63.491 179.91h49.996\" clip-path=\"url(#p10f716f123)\" fill=\"none\" stroke=\"#000000\" stroke-linecap=\"square\" stroke-width=\"2\"/><path d=\"m73.263 58.332h29.543v-29.543h-29.543z\" clip-path=\"url(#p10f716f123)\" fill=\"#6fa4ff\" stroke=\"#6fa4ff\" stroke-width=\"1.5\"/><path d=\"m73.263 103.78h29.543v-29.543h-29.543z\" clip-path=\"url(#p10f716f123)\" fill=\"#6fa4ff\" stroke=\"#6fa4ff\" stroke-width=\"1.5\"/><path d=\"m73.263 149.23h29.543v-29.543h-29.543z\" clip-path=\"url(#p10f716f123)\" fill=\"#6fa4ff\" stroke=\"#6fa4ff\" stroke-width=\"1.5\"/><path d=\"m73.263 194.69h29.543v-29.543h-29.543z\" clip-path=\"url(#p10f716f123)\" fill=\"#6fa4ff\" stroke=\"#6fa4ff\" stroke-width=\"1.5\"/><g clip-path=\"url(#p10f716f123)\"><defs><path id=\"DejaVuSans-72\" d=\"m9.8125 72.906h9.8594v-29.891h35.844v29.891h9.8594v-72.906h-9.8594v34.719h-35.844v-34.719h-9.8594z\"/></defs><g transform=\"translate(83.146 47.148) scale(.13 -.13)\"><use xlink:href=\"#DejaVuSans-72\"/></g></g><g clip-path=\"url(#p10f716f123)\"><g transform=\"translate(83.146 92.599) scale(.13 -.13)\"><use xlink:href=\"#DejaVuSans-72\"/></g></g><g clip-path=\"url(#p10f716f123)\"><g transform=\"translate(83.146 138.05) scale(.13 -.13)\"><use xlink:href=\"#DejaVuSans-72\"/></g></g><g clip-path=\"url(#p10f716f123)\"><g transform=\"translate(83.146 183.5) scale(.13 -.13)\"><use xlink:href=\"#DejaVuSans-72\"/></g></g><g clip-path=\"url(#p10f716f123)\"><defs><path id=\"DejaVuSans-Oblique-113\" d=\"m41.703 8.2031q-3.6094-4.7344-8.5312-7.1875-4.9062-2.4375-10.859-2.4375-8.2969 0-13.016 5.5938-4.7031 5.5938-4.7031 15.406 0 7.9062 2.9062 15.281t8.3281 13.234q3.5156 3.8125 8.0781 5.8594t9.5938 2.0469q6.0469 0 9.9531-2.3906t5.6719-7.2188l1.5625 8.2031h9.0312l-14.594-75.203h-9.0469zm-27.781 12.703q0-7.2344 3.0156-11.016 3.0312-3.7812 8.75-3.7812 8.5 0 14.5 8.125t6 19.75q0 7.0312-3.1094 10.766-3.0938 3.7344-8.8906 3.7344-4.25 0-7.875-1.9844-3.6094-1.9688-6.2969-5.7812-2.8281-4-4.4688-9.375-1.625-5.3594-1.625-10.438z\"/><path id=\"DejaVuSans-48\" d=\"m31.781 66.406q-7.6094 0-11.453-7.5-3.8281-7.4844-3.8281-22.531 0-14.984 3.8281-22.484 3.8438-7.5 11.453-7.5 7.6719 0 11.5 7.5 3.8438 7.5 3.8438 22.484 0 15.047-3.8438 22.531-3.8281 7.5-11.5 7.5zm0 7.8125q12.266 0 18.734-9.7031 6.4688-9.6875 6.4688-28.141 0-18.406-6.4688-28.109-6.4688-9.6875-18.734-9.6875-12.25 0-18.719 9.6875-6.4688 9.7031-6.4688 28.109 0 18.453 6.4688 28.141 6.4688 9.7031 18.719 9.7031z\"/></defs><g transform=\"translate(36.363 48.012) scale(.1625 -.1625)\"><use xlink:href=\"#DejaVuSans-Oblique-113\"/><use transform=\"translate(63.477 -16.406) scale(.7)\" xlink:href=\"#DejaVuSans-48\"/></g></g><g clip-path=\"url(#p10f716f123)\"><defs><path id=\"DejaVuSans-49\" d=\"m12.406 8.2969h16.109v55.625l-17.531-3.5156v8.9844l17.438 3.5156h9.8594v-64.609h16.109v-8.2969h-41.984z\"/></defs><g transform=\"translate(36.363 93.463) scale(.1625 -.1625)\"><use xlink:href=\"#DejaVuSans-Oblique-113\"/><use transform=\"translate(63.477 -16.406) scale(.7)\" xlink:href=\"#DejaVuSans-49\"/></g></g><g clip-path=\"url(#p10f716f123)\"><defs><path id=\"DejaVuSans-50\" d=\"m19.188 8.2969h34.422v-8.2969h-46.281v8.2969q5.6094 5.8125 15.297 15.594 9.7031 9.7969 12.188 12.641 4.7344 5.3125 6.6094 9 1.8906 3.6875 1.8906 7.25 0 5.8125-4.0781 9.4688-4.0781 3.6719-10.625 3.6719-4.6406 0-9.7969-1.6094-5.1406-1.6094-11-4.8906v9.9688q5.9531 2.3906 11.125 3.6094 5.1875 1.2188 9.4844 1.2188 11.328 0 18.062-5.6719 6.7344-5.6562 6.7344-15.125 0-4.5-1.6875-8.5312-1.6719-4.0156-6.125-9.4844-1.2188-1.4219-7.7656-8.1875-6.5312-6.7656-18.453-18.922z\"/></defs><g transform=\"translate(36.363 138.91) scale(.1625 -.1625)\"><use xlink:href=\"#DejaVuSans-Oblique-113\"/><use transform=\"translate(63.477 -16.406) scale(.7)\" xlink:href=\"#DejaVuSans-50\"/></g></g><g clip-path=\"url(#p10f716f123)\"><defs><path id=\"DejaVuSans-51\" d=\"m40.578 39.312q7.0781-1.5156 11.047-6.3125 3.9844-4.7812 3.9844-11.812 0-10.781-7.4219-16.703-7.4219-5.9062-21.094-5.9062-4.5781 0-9.4375 0.90625t-10.031 2.7188v9.5156q4.0938-2.3906 8.9688-3.6094 4.8906-1.2188 10.219-1.2188 9.2656 0 14.125 3.6562t4.8594 10.641q0 6.4531-4.5156 10.078-4.5156 3.6406-12.562 3.6406h-8.5v8.1094h8.8906q7.2656 0 11.125 2.9062t3.8594 8.375q0 5.6094-3.9844 8.6094-3.9688 3.0156-11.391 3.0156-4.0625 0-8.7031-0.89062-4.6406-0.875-10.203-2.7188v8.7812q5.625 1.5625 10.531 2.3438t9.25 0.78125q11.234 0 17.766-5.1094 6.5469-5.0938 6.5469-13.781 0-6.0625-3.4688-10.234t-9.8594-5.7812z\"/></defs><g transform=\"translate(36.363 184.36) scale(.1625 -.1625)\"><use xlink:href=\"#DejaVuSans-Oblique-113\"/><use transform=\"translate(63.477 -16.406) scale(.7)\" xlink:href=\"#DejaVuSans-51\"/></g></g><defs><clipPath id=\"p10f716f123\"><rect x=\"7.2\" y=\"7.2\" width=\"110.83\" height=\"199.98\"/></clipPath></defs></svg>"
            ],
            "text/plain": [
              "<Figure size 146.797x264.88 with 1 Axes>"
            ]
          },
          "execution_count": 5,
          "metadata": {
          },
          "output_type": "execute_result"
        }
      ],
      "source": [
        "qc_0 = QuantumCircuit(nqubits)\n",
        "for i in range(0, nqubits):\n",
        "    qc_0.h(i)\n",
        "    \n",
        "qc_0.draw()"
      ]
    },
    {
      "cell_type": "markdown",
      "metadata": {
      },
      "source": [
        "### El circuito QAOA\n",
        "\n",
        "Hasta ahora hemos visto que la preparación de un estado cuántico durante QAOA se compone de tres elementos\n",
        "\n",
        "- Preparar un estado inicial\n",
        "- Aplicar la unitaria `{latex} U(H_P) = e^{-i \\gamma H_P}` correspondiente al Hamiltoniano del problema\n",
        "- Luego, aplicar la mezcla unitaria `{latex} U(H_B) = e^{-i \\beta H_B}`\n",
        "\n",
        "Veamos cómo se ve para el problema de ejemplo:"
      ]
    },
    {
      "cell_type": "code",
      "execution_count": 6,
      "metadata": {
      },
      "outputs": [
        {
          "data": {
            "image/svg+xml": [
              "<?xml version=\"1.0\" encoding=\"UTF-8\"?><!DOCTYPE svg  PUBLIC '-//W3C//DTD SVG 1.1//EN'  'http://www.w3.org/Graphics/SVG/1.1/DTD/svg11.dtd'><svg width=\"897.9pt\" height=\"214.38pt\" version=\"1.1\" viewBox=\"0 0 897.9 214.38\" xmlns=\"http://www.w3.org/2000/svg\" xmlns:xlink=\"http://www.w3.org/1999/xlink\"><defs><style type=\"text/css\">*{stroke-linecap:butt;stroke-linejoin:round;}</style></defs><path d=\"m0 214.38h897.9v-214.38h-897.9z\" fill=\"#ffffff\"/><path d=\"m63.491 43.561h822.66\" clip-path=\"url(#p7fe8ee2928)\" fill=\"none\" stroke=\"#000000\" stroke-linecap=\"square\" stroke-width=\"2\"/><path d=\"m63.491 89.012h822.66\" clip-path=\"url(#p7fe8ee2928)\" fill=\"none\" stroke=\"#000000\" stroke-linecap=\"square\" stroke-width=\"2\"/><path d=\"m63.491 134.46h822.66\" clip-path=\"url(#p7fe8ee2928)\" fill=\"none\" stroke=\"#000000\" stroke-linecap=\"square\" stroke-width=\"2\"/><path d=\"m63.491 179.91h822.66\" clip-path=\"url(#p7fe8ee2928)\" fill=\"none\" stroke=\"#000000\" stroke-linecap=\"square\" stroke-width=\"2\"/><path d=\"m306.43 66.286h17.726v-45.451h-17.726z\" clip-path=\"url(#p7fe8ee2928)\" fill=\"#bdbdbd\" opacity=\".6\"/><path d=\"m306.43 111.74h17.726v-45.451h-17.726z\" clip-path=\"url(#p7fe8ee2928)\" fill=\"#bdbdbd\" opacity=\".6\"/><path d=\"m306.43 157.19h17.726v-45.451h-17.726z\" clip-path=\"url(#p7fe8ee2928)\" fill=\"#bdbdbd\" opacity=\".6\"/><path d=\"m306.43 202.64h17.726v-45.451h-17.726z\" clip-path=\"url(#p7fe8ee2928)\" fill=\"#bdbdbd\" opacity=\".6\"/><path d=\"m488.23 66.286h17.726v-45.451h-17.726z\" clip-path=\"url(#p7fe8ee2928)\" fill=\"#bdbdbd\" opacity=\".6\"/><path d=\"m488.23 111.74h17.726v-45.451h-17.726z\" clip-path=\"url(#p7fe8ee2928)\" fill=\"#bdbdbd\" opacity=\".6\"/><path d=\"m488.23 157.19h17.726v-45.451h-17.726z\" clip-path=\"url(#p7fe8ee2928)\" fill=\"#bdbdbd\" opacity=\".6\"/><path d=\"m488.23 202.64h17.726v-45.451h-17.726z\" clip-path=\"url(#p7fe8ee2928)\" fill=\"#bdbdbd\" opacity=\".6\"/><path d=\"m670.03 66.286h17.726v-45.451h-17.726z\" clip-path=\"url(#p7fe8ee2928)\" fill=\"#bdbdbd\" opacity=\".6\"/><path d=\"m670.03 111.74h17.726v-45.451h-17.726z\" clip-path=\"url(#p7fe8ee2928)\" fill=\"#bdbdbd\" opacity=\".6\"/><path d=\"m670.03 157.19h17.726v-45.451h-17.726z\" clip-path=\"url(#p7fe8ee2928)\" fill=\"#bdbdbd\" opacity=\".6\"/><path d=\"m670.03 202.64h17.726v-45.451h-17.726z\" clip-path=\"url(#p7fe8ee2928)\" fill=\"#bdbdbd\" opacity=\".6\"/><path d=\"m851.84 66.286h17.726v-45.451h-17.726z\" clip-path=\"url(#p7fe8ee2928)\" fill=\"#bdbdbd\" opacity=\".6\"/><path d=\"m851.84 111.74h17.726v-45.451h-17.726z\" clip-path=\"url(#p7fe8ee2928)\" fill=\"#bdbdbd\" opacity=\".6\"/><path d=\"m851.84 157.19h17.726v-45.451h-17.726z\" clip-path=\"url(#p7fe8ee2928)\" fill=\"#bdbdbd\" opacity=\".6\"/><path d=\"m851.84 202.64h17.726v-45.451h-17.726z\" clip-path=\"url(#p7fe8ee2928)\" fill=\"#bdbdbd\" opacity=\".6\"/><path d=\"m178.94 89.012v-45.451\" clip-path=\"url(#p7fe8ee2928)\" fill=\"none\" stroke=\"#6fa4ff\" stroke-linecap=\"square\" stroke-width=\"2\"/><path d=\"m269.84 89.012v-45.451\" clip-path=\"url(#p7fe8ee2928)\" fill=\"none\" stroke=\"#6fa4ff\" stroke-linecap=\"square\" stroke-width=\"2\"/><path d=\"m360.74 179.91v-136.35\" clip-path=\"url(#p7fe8ee2928)\" fill=\"none\" stroke=\"#6fa4ff\" stroke-linecap=\"square\" stroke-width=\"2\"/><path d=\"m451.64 179.91v-136.35\" clip-path=\"url(#p7fe8ee2928)\" fill=\"none\" stroke=\"#6fa4ff\" stroke-linecap=\"square\" stroke-width=\"2\"/><path d=\"m542.54 134.46v-45.451\" clip-path=\"url(#p7fe8ee2928)\" fill=\"none\" stroke=\"#6fa4ff\" stroke-linecap=\"square\" stroke-width=\"2\"/><path d=\"m633.45 134.46v-45.451\" clip-path=\"url(#p7fe8ee2928)\" fill=\"none\" stroke=\"#6fa4ff\" stroke-linecap=\"square\" stroke-width=\"2\"/><path d=\"m724.35 179.91v-45.451\" clip-path=\"url(#p7fe8ee2928)\" fill=\"none\" stroke=\"#6fa4ff\" stroke-linecap=\"square\" stroke-width=\"2\"/><path d=\"m815.25 179.91v-45.451\" clip-path=\"url(#p7fe8ee2928)\" fill=\"none\" stroke=\"#6fa4ff\" stroke-linecap=\"square\" stroke-width=\"2\"/><path d=\"m73.263 58.332h29.543v-29.543h-29.543z\" clip-path=\"url(#p7fe8ee2928)\" fill=\"#fa74a6\" stroke=\"#fa74a6\" stroke-width=\"1.5\"/><path d=\"m73.263 103.78h29.543v-29.543h-29.543z\" clip-path=\"url(#p7fe8ee2928)\" fill=\"#fa74a6\" stroke=\"#fa74a6\" stroke-width=\"1.5\"/><path d=\"m73.263 149.23h29.543v-29.543h-29.543z\" clip-path=\"url(#p7fe8ee2928)\" fill=\"#fa74a6\" stroke=\"#fa74a6\" stroke-width=\"1.5\"/><path d=\"m73.263 194.69h29.543v-29.543h-29.543z\" clip-path=\"url(#p7fe8ee2928)\" fill=\"#fa74a6\" stroke=\"#fa74a6\" stroke-width=\"1.5\"/><path d=\"m118.71 58.332h29.543v-29.543h-29.543z\" clip-path=\"url(#p7fe8ee2928)\" fill=\"#bb8bff\" stroke=\"#bb8bff\" stroke-width=\"1.5\"/><path d=\"m118.71 103.78h29.543v-29.543h-29.543z\" clip-path=\"url(#p7fe8ee2928)\" fill=\"#bb8bff\" stroke=\"#bb8bff\" stroke-width=\"1.5\"/><path d=\"m118.71 149.23h29.543v-29.543h-29.543z\" clip-path=\"url(#p7fe8ee2928)\" fill=\"#bb8bff\" stroke=\"#bb8bff\" stroke-width=\"1.5\"/><path d=\"m118.71 194.69h29.543v-29.543h-29.543z\" clip-path=\"url(#p7fe8ee2928)\" fill=\"#bb8bff\" stroke=\"#bb8bff\" stroke-width=\"1.5\"/><path d=\"m178.94 47.992c1.1752 0 2.3025-0.46693 3.1335-1.2979 0.83102-0.83102 1.2979-1.9583 1.2979-3.1335s-0.46693-2.3025-1.2979-3.1335c-0.83102-0.83102-1.9583-1.2979-3.1335-1.2979s-2.3025 0.46693-3.1335 1.2979c-0.83102 0.83102-1.2979 1.9583-1.2979 3.1335s0.46693 2.3025 1.2979 3.1335c0.83102 0.83102 1.9583 1.2979 3.1335 1.2979z\" clip-path=\"url(#p7fe8ee2928)\" fill=\"#6fa4ff\" stroke=\"#6fa4ff\" stroke-width=\"1.5\"/><path d=\"m178.94 99.352c2.7422 0 5.3725-1.0895 7.3116-3.0285 1.939-1.939 3.0285-4.5693 3.0285-7.3116s-1.0895-5.3725-3.0285-7.3116c-1.939-1.939-4.5693-3.0285-7.3116-3.0285s-5.3725 1.0895-7.3116 3.0285c-1.939 1.939-3.0285 4.5693-3.0285 7.3116s1.0895 5.3725 3.0285 7.3116c1.939 1.939 4.5693 3.0285 7.3116 3.0285z\" clip-path=\"url(#p7fe8ee2928)\" fill=\"#6fa4ff\" stroke=\"#6fa4ff\" stroke-width=\"2\"/><path d=\"m209.62 103.78h29.543v-29.543h-29.543z\" clip-path=\"url(#p7fe8ee2928)\" fill=\"#bb8bff\" stroke=\"#bb8bff\" stroke-width=\"1.5\"/><path d=\"m269.84 47.992c1.1752 0 2.3025-0.46693 3.1335-1.2979 0.83102-0.83102 1.2979-1.9583 1.2979-3.1335s-0.46693-2.3025-1.2979-3.1335c-0.83102-0.83102-1.9583-1.2979-3.1335-1.2979s-2.3025 0.46693-3.1335 1.2979c-0.83102 0.83102-1.2979 1.9583-1.2979 3.1335s0.46693 2.3025 1.2979 3.1335c0.83102 0.83102 1.9583 1.2979 3.1335 1.2979z\" clip-path=\"url(#p7fe8ee2928)\" fill=\"#6fa4ff\" stroke=\"#6fa4ff\" stroke-width=\"1.5\"/><path d=\"m269.84 99.352c2.7422 0 5.3725-1.0895 7.3116-3.0285 1.939-1.939 3.0285-4.5693 3.0285-7.3116s-1.0895-5.3725-3.0285-7.3116c-1.939-1.939-4.5693-3.0285-7.3116-3.0285s-5.3725 1.0895-7.3116 3.0285c-1.939 1.939-3.0285 4.5693-3.0285 7.3116s1.0895 5.3725 3.0285 7.3116c1.939 1.939 4.5693 3.0285 7.3116 3.0285z\" clip-path=\"url(#p7fe8ee2928)\" fill=\"#6fa4ff\" stroke=\"#6fa4ff\" stroke-width=\"2\"/><path d=\"m360.74 47.992c1.1752 0 2.3025-0.46693 3.1335-1.2979 0.83102-0.83102 1.2979-1.9583 1.2979-3.1335s-0.46693-2.3025-1.2979-3.1335c-0.83102-0.83102-1.9583-1.2979-3.1335-1.2979s-2.3025 0.46693-3.1335 1.2979c-0.83102 0.83102-1.2979 1.9583-1.2979 3.1335s0.46693 2.3025 1.2979 3.1335c0.83102 0.83102 1.9583 1.2979 3.1335 1.2979z\" clip-path=\"url(#p7fe8ee2928)\" fill=\"#6fa4ff\" stroke=\"#6fa4ff\" stroke-width=\"1.5\"/><path d=\"m360.74 190.25c2.7422 0 5.3725-1.0895 7.3116-3.0285 1.939-1.939 3.0285-4.5693 3.0285-7.3116s-1.0895-5.3725-3.0285-7.3116c-1.939-1.939-4.5693-3.0285-7.3116-3.0285s-5.3725 1.0895-7.3116 3.0285c-1.939 1.939-3.0285 4.5693-3.0285 7.3116s1.0895 5.3725 3.0285 7.3116c1.939 1.939 4.5693 3.0285 7.3116 3.0285z\" clip-path=\"url(#p7fe8ee2928)\" fill=\"#6fa4ff\" stroke=\"#6fa4ff\" stroke-width=\"2\"/><path d=\"m391.42 194.69h29.543v-29.543h-29.543z\" clip-path=\"url(#p7fe8ee2928)\" fill=\"#bb8bff\" stroke=\"#bb8bff\" stroke-width=\"1.5\"/><path d=\"m451.64 47.992c1.1752 0 2.3025-0.46693 3.1335-1.2979 0.83102-0.83102 1.2979-1.9583 1.2979-3.1335s-0.46693-2.3025-1.2979-3.1335c-0.83102-0.83102-1.9583-1.2979-3.1335-1.2979s-2.3025 0.46693-3.1335 1.2979c-0.83102 0.83102-1.2979 1.9583-1.2979 3.1335s0.46693 2.3025 1.2979 3.1335c0.83102 0.83102 1.9583 1.2979 3.1335 1.2979z\" clip-path=\"url(#p7fe8ee2928)\" fill=\"#6fa4ff\" stroke=\"#6fa4ff\" stroke-width=\"1.5\"/><path d=\"m451.64 190.25c2.7422 0 5.3725-1.0895 7.3116-3.0285 1.939-1.939 3.0285-4.5693 3.0285-7.3116s-1.0895-5.3725-3.0285-7.3116c-1.939-1.939-4.5693-3.0285-7.3116-3.0285s-5.3725 1.0895-7.3116 3.0285c-1.939 1.939-3.0285 4.5693-3.0285 7.3116s1.0895 5.3725 3.0285 7.3116c1.939 1.939 4.5693 3.0285 7.3116 3.0285z\" clip-path=\"url(#p7fe8ee2928)\" fill=\"#6fa4ff\" stroke=\"#6fa4ff\" stroke-width=\"2\"/><path d=\"m542.54 93.443c1.1752 0 2.3025-0.46693 3.1335-1.2979 0.83102-0.83102 1.2979-1.9583 1.2979-3.1335s-0.46693-2.3025-1.2979-3.1335c-0.83102-0.83102-1.9583-1.2979-3.1335-1.2979s-2.3025 0.46693-3.1335 1.2979c-0.83102 0.83102-1.2979 1.9583-1.2979 3.1335s0.46693 2.3025 1.2979 3.1335c0.83102 0.83102 1.9583 1.2979 3.1335 1.2979z\" clip-path=\"url(#p7fe8ee2928)\" fill=\"#6fa4ff\" stroke=\"#6fa4ff\" stroke-width=\"1.5\"/><path d=\"m542.54 144.8c2.7422 0 5.3725-1.0895 7.3116-3.0285 1.939-1.939 3.0285-4.5693 3.0285-7.3116s-1.0895-5.3725-3.0285-7.3116c-1.939-1.939-4.5693-3.0285-7.3116-3.0285s-5.3725 1.0895-7.3116 3.0285c-1.939 1.939-3.0285 4.5693-3.0285 7.3116s1.0895 5.3725 3.0285 7.3116c1.939 1.939 4.5693 3.0285 7.3116 3.0285z\" clip-path=\"url(#p7fe8ee2928)\" fill=\"#6fa4ff\" stroke=\"#6fa4ff\" stroke-width=\"2\"/><path d=\"m573.22 149.23h29.543v-29.543h-29.543z\" clip-path=\"url(#p7fe8ee2928)\" fill=\"#bb8bff\" stroke=\"#bb8bff\" stroke-width=\"1.5\"/><path d=\"m633.45 93.443c1.1752 0 2.3025-0.46693 3.1335-1.2979 0.83102-0.83102 1.2979-1.9583 1.2979-3.1335s-0.46693-2.3025-1.2979-3.1335c-0.83102-0.83102-1.9583-1.2979-3.1335-1.2979s-2.3025 0.46693-3.1335 1.2979c-0.83102 0.83102-1.2979 1.9583-1.2979 3.1335s0.46693 2.3025 1.2979 3.1335c0.83102 0.83102 1.9583 1.2979 3.1335 1.2979z\" clip-path=\"url(#p7fe8ee2928)\" fill=\"#6fa4ff\" stroke=\"#6fa4ff\" stroke-width=\"1.5\"/><path d=\"m633.45 144.8c2.7422 0 5.3725-1.0895 7.3116-3.0285 1.939-1.939 3.0285-4.5693 3.0285-7.3116s-1.0895-5.3725-3.0285-7.3116c-1.939-1.939-4.5693-3.0285-7.3116-3.0285s-5.3725 1.0895-7.3116 3.0285c-1.939 1.939-3.0285 4.5693-3.0285 7.3116s1.0895 5.3725 3.0285 7.3116c1.939 1.939 4.5693 3.0285 7.3116 3.0285z\" clip-path=\"url(#p7fe8ee2928)\" fill=\"#6fa4ff\" stroke=\"#6fa4ff\" stroke-width=\"2\"/><path d=\"m724.35 138.89c1.1752 0 2.3025-0.46693 3.1335-1.2979 0.83102-0.83102 1.2979-1.9583 1.2979-3.1335s-0.46693-2.3025-1.2979-3.1335c-0.83102-0.83102-1.9583-1.2979-3.1335-1.2979s-2.3025 0.46693-3.1335 1.2979c-0.83102 0.83102-1.2979 1.9583-1.2979 3.1335s0.46693 2.3025 1.2979 3.1335c0.83102 0.83102 1.9583 1.2979 3.1335 1.2979z\" clip-path=\"url(#p7fe8ee2928)\" fill=\"#6fa4ff\" stroke=\"#6fa4ff\" stroke-width=\"1.5\"/><path d=\"m724.35 190.25c2.7422 0 5.3725-1.0895 7.3116-3.0285 1.939-1.939 3.0285-4.5693 3.0285-7.3116s-1.0895-5.3725-3.0285-7.3116c-1.939-1.939-4.5693-3.0285-7.3116-3.0285s-5.3725 1.0895-7.3116 3.0285c-1.939 1.939-3.0285 4.5693-3.0285 7.3116s1.0895 5.3725 3.0285 7.3116c1.939 1.939 4.5693 3.0285 7.3116 3.0285z\" clip-path=\"url(#p7fe8ee2928)\" fill=\"#6fa4ff\" stroke=\"#6fa4ff\" stroke-width=\"2\"/><path d=\"m755.03 194.69h29.543v-29.543h-29.543z\" clip-path=\"url(#p7fe8ee2928)\" fill=\"#bb8bff\" stroke=\"#bb8bff\" stroke-width=\"1.5\"/><path d=\"m815.25 138.89c1.1752 0 2.3025-0.46693 3.1335-1.2979 0.83102-0.83102 1.2979-1.9583 1.2979-3.1335s-0.46693-2.3025-1.2979-3.1335c-0.83102-0.83102-1.9583-1.2979-3.1335-1.2979s-2.3025 0.46693-3.1335 1.2979c-0.83102 0.83102-1.2979 1.9583-1.2979 3.1335s0.46693 2.3025 1.2979 3.1335c0.83102 0.83102 1.9583 1.2979 3.1335 1.2979z\" clip-path=\"url(#p7fe8ee2928)\" fill=\"#6fa4ff\" stroke=\"#6fa4ff\" stroke-width=\"1.5\"/><path d=\"m815.25 190.25c2.7422 0 5.3725-1.0895 7.3116-3.0285 1.939-1.939 3.0285-4.5693 3.0285-7.3116s-1.0895-5.3725-3.0285-7.3116c-1.939-1.939-4.5693-3.0285-7.3116-3.0285s-5.3725 1.0895-7.3116 3.0285c-1.939 1.939-3.0285 4.5693-3.0285 7.3116s1.0895 5.3725 3.0285 7.3116c1.939 1.939 4.5693 3.0285 7.3116 3.0285z\" clip-path=\"url(#p7fe8ee2928)\" fill=\"#6fa4ff\" stroke=\"#6fa4ff\" stroke-width=\"2\"/><path d=\"m178.94 94.92v-11.817\" clip-path=\"url(#p7fe8ee2928)\" fill=\"none\" stroke=\"#ffffff\" stroke-linecap=\"square\" stroke-width=\"2\"/><path d=\"m173.03 89.012h11.817\" clip-path=\"url(#p7fe8ee2928)\" fill=\"none\" stroke=\"#ffffff\" stroke-linecap=\"square\" stroke-width=\"2\"/><path d=\"m269.84 94.92v-11.817\" clip-path=\"url(#p7fe8ee2928)\" fill=\"none\" stroke=\"#ffffff\" stroke-linecap=\"square\" stroke-width=\"2\"/><path d=\"m263.93 89.012h11.817\" clip-path=\"url(#p7fe8ee2928)\" fill=\"none\" stroke=\"#ffffff\" stroke-linecap=\"square\" stroke-width=\"2\"/><path d=\"m315.29 20.835v45.451\" clip-path=\"url(#p7fe8ee2928)\" fill=\"none\" stroke=\"#000000\" stroke-dasharray=\"3.7,1.6\"/><path d=\"m315.29 66.286v45.451\" clip-path=\"url(#p7fe8ee2928)\" fill=\"none\" stroke=\"#000000\" stroke-dasharray=\"3.7,1.6\"/><path d=\"m315.29 111.74v45.451\" clip-path=\"url(#p7fe8ee2928)\" fill=\"none\" stroke=\"#000000\" stroke-dasharray=\"3.7,1.6\"/><path d=\"m315.29 157.19v45.451\" clip-path=\"url(#p7fe8ee2928)\" fill=\"none\" stroke=\"#000000\" stroke-dasharray=\"3.7,1.6\"/><path d=\"m360.74 185.82v-11.817\" clip-path=\"url(#p7fe8ee2928)\" fill=\"none\" stroke=\"#ffffff\" stroke-linecap=\"square\" stroke-width=\"2\"/><path d=\"m354.83 179.91h11.817\" clip-path=\"url(#p7fe8ee2928)\" fill=\"none\" stroke=\"#ffffff\" stroke-linecap=\"square\" stroke-width=\"2\"/><path d=\"m451.64 185.82v-11.817\" clip-path=\"url(#p7fe8ee2928)\" fill=\"none\" stroke=\"#ffffff\" stroke-linecap=\"square\" stroke-width=\"2\"/><path d=\"m445.73 179.91h11.817\" clip-path=\"url(#p7fe8ee2928)\" fill=\"none\" stroke=\"#ffffff\" stroke-linecap=\"square\" stroke-width=\"2\"/><path d=\"m497.09 20.835v45.451\" clip-path=\"url(#p7fe8ee2928)\" fill=\"none\" stroke=\"#000000\" stroke-dasharray=\"3.7,1.6\"/><path d=\"m497.09 66.286v45.451\" clip-path=\"url(#p7fe8ee2928)\" fill=\"none\" stroke=\"#000000\" stroke-dasharray=\"3.7,1.6\"/><path d=\"m497.09 111.74v45.451\" clip-path=\"url(#p7fe8ee2928)\" fill=\"none\" stroke=\"#000000\" stroke-dasharray=\"3.7,1.6\"/><path d=\"m497.09 157.19v45.451\" clip-path=\"url(#p7fe8ee2928)\" fill=\"none\" stroke=\"#000000\" stroke-dasharray=\"3.7,1.6\"/><path d=\"m542.54 140.37v-11.817\" clip-path=\"url(#p7fe8ee2928)\" fill=\"none\" stroke=\"#ffffff\" stroke-linecap=\"square\" stroke-width=\"2\"/><path d=\"m536.64 134.46h11.817\" clip-path=\"url(#p7fe8ee2928)\" fill=\"none\" stroke=\"#ffffff\" stroke-linecap=\"square\" stroke-width=\"2\"/><path d=\"m633.45 140.37v-11.817\" clip-path=\"url(#p7fe8ee2928)\" fill=\"none\" stroke=\"#ffffff\" stroke-linecap=\"square\" stroke-width=\"2\"/><path d=\"m627.54 134.46h11.817\" clip-path=\"url(#p7fe8ee2928)\" fill=\"none\" stroke=\"#ffffff\" stroke-linecap=\"square\" stroke-width=\"2\"/><path d=\"m678.9 20.835v45.451\" clip-path=\"url(#p7fe8ee2928)\" fill=\"none\" stroke=\"#000000\" stroke-dasharray=\"3.7,1.6\"/><path d=\"m678.9 66.286v45.451\" clip-path=\"url(#p7fe8ee2928)\" fill=\"none\" stroke=\"#000000\" stroke-dasharray=\"3.7,1.6\"/><path d=\"m678.9 111.74v45.451\" clip-path=\"url(#p7fe8ee2928)\" fill=\"none\" stroke=\"#000000\" stroke-dasharray=\"3.7,1.6\"/><path d=\"m678.9 157.19v45.451\" clip-path=\"url(#p7fe8ee2928)\" fill=\"none\" stroke=\"#000000\" stroke-dasharray=\"3.7,1.6\"/><path d=\"m724.35 185.82v-11.817\" clip-path=\"url(#p7fe8ee2928)\" fill=\"none\" stroke=\"#ffffff\" stroke-linecap=\"square\" stroke-width=\"2\"/><path d=\"m718.44 179.91h11.817\" clip-path=\"url(#p7fe8ee2928)\" fill=\"none\" stroke=\"#ffffff\" stroke-linecap=\"square\" stroke-width=\"2\"/><path d=\"m815.25 185.82v-11.817\" clip-path=\"url(#p7fe8ee2928)\" fill=\"none\" stroke=\"#ffffff\" stroke-linecap=\"square\" stroke-width=\"2\"/><path d=\"m809.34 179.91h11.817\" clip-path=\"url(#p7fe8ee2928)\" fill=\"none\" stroke=\"#ffffff\" stroke-linecap=\"square\" stroke-width=\"2\"/><path d=\"m860.7 20.835v45.451\" clip-path=\"url(#p7fe8ee2928)\" fill=\"none\" stroke=\"#000000\" stroke-dasharray=\"3.7,1.6\"/><path d=\"m860.7 66.286v45.451\" clip-path=\"url(#p7fe8ee2928)\" fill=\"none\" stroke=\"#000000\" stroke-dasharray=\"3.7,1.6\"/><path d=\"m860.7 111.74v45.451\" clip-path=\"url(#p7fe8ee2928)\" fill=\"none\" stroke=\"#000000\" stroke-dasharray=\"3.7,1.6\"/><path d=\"m860.7 157.19v45.451\" clip-path=\"url(#p7fe8ee2928)\" fill=\"none\" stroke=\"#000000\" stroke-dasharray=\"3.7,1.6\"/><g clip-path=\"url(#p7fe8ee2928)\"><defs><path id=\"DejaVuSans-85\" d=\"m8.6875 72.906h9.9219v-44.297q0-11.719 4.2344-16.875 4.25-5.1406 13.781-5.1406 9.4688 0 13.719 5.1406 4.25 5.1562 4.25 16.875v44.297h9.9062v-45.516q0-14.25-7.0625-21.531-7.0469-7.2812-20.812-7.2812-13.828 0-20.891 7.2812-7.0469 7.2812-7.0469 21.531z\"/><path id=\"DejaVuSans-50\" d=\"m19.188 8.2969h34.422v-8.2969h-46.281v8.2969q5.6094 5.8125 15.297 15.594 9.7031 9.7969 12.188 12.641 4.7344 5.3125 6.6094 9 1.8906 3.6875 1.8906 7.25 0 5.8125-4.0781 9.4688-4.0781 3.6719-10.625 3.6719-4.6406 0-9.7969-1.6094-5.1406-1.6094-11-4.8906v9.9688q5.9531 2.3906 11.125 3.6094 5.1875 1.2188 9.4844 1.2188 11.328 0 18.062-5.6719 6.7344-5.6562 6.7344-15.125 0-4.5-1.6875-8.5312-1.6719-4.0156-6.125-9.4844-1.2188-1.4219-7.7656-8.1875-6.5312-6.7656-18.453-18.922z\"/></defs><g transform=\"translate(80.104 42.717) scale(.13 -.13)\"><use transform=\"translate(0 .09375)\" xlink:href=\"#DejaVuSans-85\"/><use transform=\"translate(74.15 -16.312) scale(.7)\" xlink:href=\"#DejaVuSans-50\"/></g></g><g clip-path=\"url(#p7fe8ee2928)\"><defs><path id=\"DejaVuSans-48\" d=\"m31.781 66.406q-7.6094 0-11.453-7.5-3.8281-7.4844-3.8281-22.531 0-14.984 3.8281-22.484 3.8438-7.5 11.453-7.5 7.6719 0 11.5 7.5 3.8438 7.5 3.8438 22.484 0 15.047-3.8438 22.531-3.8281 7.5-11.5 7.5zm0 7.8125q12.266 0 18.734-9.7031 6.4688-9.6875 6.4688-28.141 0-18.406-6.4688-28.109-6.4688-9.6875-18.734-9.6875-12.25 0-18.719 9.6875-6.4688 9.7031-6.4688 28.109 0 18.453 6.4688 28.141 6.4688 9.7031 18.719 9.7031z\"/><path id=\"DejaVuSans-44\" d=\"m11.719 12.406h10.297v-8.4062l-8-15.625h-6.2969l4 15.625z\"/><path id=\"DejaVuSans-Oblique-960\" d=\"m9.125 54.688h52.406l-1.7656-8.9844h-6.8906l-6.5312-33.594q-0.6875-3.5156 0.23438-5.0781 0.89062-1.5156 3.5625-1.5156 0.73438 0 1.8125 0.15625 1.125 0.09375 1.4688 0.14062l-1.2656-6.5q-1.8125-0.625-3.6719-0.92188-1.9062-0.29688-3.7031-0.29688-5.8594 0-7.4688 3.1719-1.625 3.2344 0.046875 11.828l6.3438 32.609h-20.172l-8.875-45.703h-9.1875l8.8906 45.703h-6.9844z\"/></defs><g transform=\"translate(80.514 54.631) scale(.08 -.08)\"><use transform=\"translate(0 .78125)\" xlink:href=\"#DejaVuSans-48\"/><use transform=\"translate(63.623 .78125)\" xlink:href=\"#DejaVuSans-44\"/><use transform=\"translate(95.41 .78125)\" xlink:href=\"#DejaVuSans-32\"/><use transform=\"translate(127.2 .78125)\" xlink:href=\"#DejaVuSans-Oblique-960\"/></g></g><g clip-path=\"url(#p7fe8ee2928)\"><g transform=\"translate(80.104 88.168) scale(.13 -.13)\"><use transform=\"translate(0 .09375)\" xlink:href=\"#DejaVuSans-85\"/><use transform=\"translate(74.15 -16.312) scale(.7)\" xlink:href=\"#DejaVuSans-50\"/></g></g><g clip-path=\"url(#p7fe8ee2928)\"><g transform=\"translate(80.514 100.08) scale(.08 -.08)\"><use transform=\"translate(0 .78125)\" xlink:href=\"#DejaVuSans-48\"/><use transform=\"translate(63.623 .78125)\" xlink:href=\"#DejaVuSans-44\"/><use transform=\"translate(95.41 .78125)\" xlink:href=\"#DejaVuSans-32\"/><use transform=\"translate(127.2 .78125)\" xlink:href=\"#DejaVuSans-Oblique-960\"/></g></g><g clip-path=\"url(#p7fe8ee2928)\"><g transform=\"translate(80.104 133.62) scale(.13 -.13)\"><use transform=\"translate(0 .09375)\" xlink:href=\"#DejaVuSans-85\"/><use transform=\"translate(74.15 -16.312) scale(.7)\" xlink:href=\"#DejaVuSans-50\"/></g></g><g clip-path=\"url(#p7fe8ee2928)\"><g transform=\"translate(80.514 145.53) scale(.08 -.08)\"><use transform=\"translate(0 .78125)\" xlink:href=\"#DejaVuSans-48\"/><use transform=\"translate(63.623 .78125)\" xlink:href=\"#DejaVuSans-44\"/><use transform=\"translate(95.41 .78125)\" xlink:href=\"#DejaVuSans-32\"/><use transform=\"translate(127.2 .78125)\" xlink:href=\"#DejaVuSans-Oblique-960\"/></g></g><g clip-path=\"url(#p7fe8ee2928)\"><g transform=\"translate(80.104 179.07) scale(.13 -.13)\"><use transform=\"translate(0 .09375)\" xlink:href=\"#DejaVuSans-85\"/><use transform=\"translate(74.15 -16.312) scale(.7)\" xlink:href=\"#DejaVuSans-50\"/></g></g><g clip-path=\"url(#p7fe8ee2928)\"><g transform=\"translate(80.514 190.98) scale(.08 -.08)\"><use transform=\"translate(0 .78125)\" xlink:href=\"#DejaVuSans-48\"/><use transform=\"translate(63.623 .78125)\" xlink:href=\"#DejaVuSans-44\"/><use transform=\"translate(95.41 .78125)\" xlink:href=\"#DejaVuSans-32\"/><use transform=\"translate(127.2 .78125)\" xlink:href=\"#DejaVuSans-Oblique-960\"/></g></g><g clip-path=\"url(#p7fe8ee2928)\"><defs><path id=\"DejaVuSans-82\" d=\"m44.391 34.188q3.1719-1.0781 6.1719-4.5938t6.0312-9.6719l10.016-19.922h-10.609l-9.3125 18.703q-3.625 7.3281-7.0156 9.7188t-9.25 2.3906h-10.75v-30.812h-9.8594v72.906h22.266q12.5 0 18.656-5.2344 6.1562-5.2188 6.1562-15.766 0-6.8906-3.2031-11.438-3.2031-4.5312-9.2969-6.2812zm-24.719 30.609v-25.875h12.406q7.125 0 10.766 3.2969t3.6406 9.6875-3.6406 9.6406-10.766 3.25z\"/></defs><g transform=\"translate(128.97 42.717) scale(.13 -.13)\"><use xlink:href=\"#DejaVuSans-82\"/></g></g><g clip-path=\"url(#p7fe8ee2928)\"><defs><path id=\"DejaVuSans-42\" d=\"m47.016 60.891-17.516-9.4688 17.516-9.5312-2.8281-4.7812-16.406 9.9062v-18.406h-5.5625v18.406l-16.406-9.9062-2.8281 4.7812 17.531 9.5312-17.531 9.4688 2.8281 4.8281 16.406-9.9062v18.406h5.5625v-18.406l16.406 9.9062z\"/><path id=\"DejaVuSans-Oblique-946\" d=\"m13.625 3.375-4.6875-24.172h-9.0312l14.594 75.141q4.3438 22.266 25.156 22.266 21.094 0 17.516-18.797-2.4375-13.375-11.953-18.266 12.797-4.3906 10.297-17.422-4.3906-23.203-28.031-23.156-10.344 0.046875-13.859 4.4062zm2.2969 11.719q3.75-8.5 13.375-8.4531 14.062 0 17.047 15.328 2.6875 13.781-20.172 12.703l1.6094 8.2969q17.672-0.29688 20.75 15.625 2.1094 10.75-9.3281 10.688-12.781 0-15.719-15.234z\"/></defs><g transform=\"translate(121.29 54.664) scale(.08 -.08)\"><use transform=\"translate(0 .39062)\" xlink:href=\"#DejaVuSans-50\"/><use transform=\"translate(63.623 .39062)\" xlink:href=\"#DejaVuSans-42\"/><use transform=\"translate(113.62 .39062)\" xlink:href=\"#DejaVuSans-Oblique-946\"/><use transform=\"translate(177.44 .39062)\" xlink:href=\"#DejaVuSans-44\"/><use transform=\"translate(209.23 .39062)\" xlink:href=\"#DejaVuSans-32\"/><use transform=\"translate(241.02 .39062)\" xlink:href=\"#DejaVuSans-48\"/></g></g><g clip-path=\"url(#p7fe8ee2928)\"><g transform=\"translate(128.97 88.168) scale(.13 -.13)\"><use xlink:href=\"#DejaVuSans-82\"/></g></g><g clip-path=\"url(#p7fe8ee2928)\"><g transform=\"translate(121.29 100.11) scale(.08 -.08)\"><use transform=\"translate(0 .39062)\" xlink:href=\"#DejaVuSans-50\"/><use transform=\"translate(63.623 .39062)\" xlink:href=\"#DejaVuSans-42\"/><use transform=\"translate(113.62 .39062)\" xlink:href=\"#DejaVuSans-Oblique-946\"/><use transform=\"translate(177.44 .39062)\" xlink:href=\"#DejaVuSans-44\"/><use transform=\"translate(209.23 .39062)\" xlink:href=\"#DejaVuSans-32\"/><use transform=\"translate(241.02 .39062)\" xlink:href=\"#DejaVuSans-48\"/></g></g><g clip-path=\"url(#p7fe8ee2928)\"><g transform=\"translate(128.97 133.62) scale(.13 -.13)\"><use xlink:href=\"#DejaVuSans-82\"/></g></g><g clip-path=\"url(#p7fe8ee2928)\"><g transform=\"translate(121.29 145.57) scale(.08 -.08)\"><use transform=\"translate(0 .39062)\" xlink:href=\"#DejaVuSans-50\"/><use transform=\"translate(63.623 .39062)\" xlink:href=\"#DejaVuSans-42\"/><use transform=\"translate(113.62 .39062)\" xlink:href=\"#DejaVuSans-Oblique-946\"/><use transform=\"translate(177.44 .39062)\" xlink:href=\"#DejaVuSans-44\"/><use transform=\"translate(209.23 .39062)\" xlink:href=\"#DejaVuSans-32\"/><use transform=\"translate(241.02 .39062)\" xlink:href=\"#DejaVuSans-48\"/></g></g><g clip-path=\"url(#p7fe8ee2928)\"><g transform=\"translate(128.97 179.07) scale(.13 -.13)\"><use xlink:href=\"#DejaVuSans-82\"/></g></g><g clip-path=\"url(#p7fe8ee2928)\"><g transform=\"translate(121.29 191.02) scale(.08 -.08)\"><use transform=\"translate(0 .39062)\" xlink:href=\"#DejaVuSans-50\"/><use transform=\"translate(63.623 .39062)\" xlink:href=\"#DejaVuSans-42\"/><use transform=\"translate(113.62 .39062)\" xlink:href=\"#DejaVuSans-Oblique-946\"/><use transform=\"translate(177.44 .39062)\" xlink:href=\"#DejaVuSans-44\"/><use transform=\"translate(209.23 .39062)\" xlink:href=\"#DejaVuSans-32\"/><use transform=\"translate(241.02 .39062)\" xlink:href=\"#DejaVuSans-48\"/></g></g><g clip-path=\"url(#p7fe8ee2928)\"><defs><path id=\"DejaVuSans-90\" d=\"m5.6094 72.906h57.281v-7.5312l-46.094-57.078h47.219v-8.2969h-59.516v7.5156l46.094 57.078h-44.984z\"/></defs><g transform=\"translate(216.46 88.168) scale(.13 -.13)\"><use transform=\"translate(0 .09375)\" xlink:href=\"#DejaVuSans-82\"/><use transform=\"translate(70.439 -16.312) scale(.7)\" xlink:href=\"#DejaVuSans-90\"/></g></g><g clip-path=\"url(#p7fe8ee2928)\"><defs><path id=\"DejaVuSans-Oblique-947\" d=\"m23.297 46.094 5.4219-33.781 25.281 42.375h9.5312l-32.719-54.688-4.0469-20.797h-8.9844l4.0469 20.797-6.3906 40.828q-0.98438 6.1406-5.625 6.1406h-2.3906l1.4688 7.7188h3.4219q9.6094 0 10.984-8.5938z\"/></defs><g transform=\"translate(217.47 100.07) scale(.08 -.08)\"><use transform=\"translate(0 .78125)\" xlink:href=\"#DejaVuSans-50\"/><use transform=\"translate(63.623 .78125)\" xlink:href=\"#DejaVuSans-42\"/><use transform=\"translate(113.62 .78125)\" xlink:href=\"#DejaVuSans-Oblique-947\"/></g></g><g clip-path=\"url(#p7fe8ee2928)\"><g transform=\"translate(398.26 179.07) scale(.13 -.13)\"><use transform=\"translate(0 .09375)\" xlink:href=\"#DejaVuSans-82\"/><use transform=\"translate(70.439 -16.312) scale(.7)\" xlink:href=\"#DejaVuSans-90\"/></g></g><g clip-path=\"url(#p7fe8ee2928)\"><g transform=\"translate(399.27 190.97) scale(.08 -.08)\"><use transform=\"translate(0 .78125)\" xlink:href=\"#DejaVuSans-50\"/><use transform=\"translate(63.623 .78125)\" xlink:href=\"#DejaVuSans-42\"/><use transform=\"translate(113.62 .78125)\" xlink:href=\"#DejaVuSans-Oblique-947\"/></g></g><g clip-path=\"url(#p7fe8ee2928)\"><g transform=\"translate(580.07 133.62) scale(.13 -.13)\"><use transform=\"translate(0 .09375)\" xlink:href=\"#DejaVuSans-82\"/><use transform=\"translate(70.439 -16.312) scale(.7)\" xlink:href=\"#DejaVuSans-90\"/></g></g><g clip-path=\"url(#p7fe8ee2928)\"><g transform=\"translate(581.08 145.52) scale(.08 -.08)\"><use transform=\"translate(0 .78125)\" xlink:href=\"#DejaVuSans-50\"/><use transform=\"translate(63.623 .78125)\" xlink:href=\"#DejaVuSans-42\"/><use transform=\"translate(113.62 .78125)\" xlink:href=\"#DejaVuSans-Oblique-947\"/></g></g><g clip-path=\"url(#p7fe8ee2928)\"><g transform=\"translate(761.87 179.07) scale(.13 -.13)\"><use transform=\"translate(0 .09375)\" xlink:href=\"#DejaVuSans-82\"/><use transform=\"translate(70.439 -16.312) scale(.7)\" xlink:href=\"#DejaVuSans-90\"/></g></g><g clip-path=\"url(#p7fe8ee2928)\"><g transform=\"translate(762.88 190.97) scale(.08 -.08)\"><use transform=\"translate(0 .78125)\" xlink:href=\"#DejaVuSans-50\"/><use transform=\"translate(63.623 .78125)\" xlink:href=\"#DejaVuSans-42\"/><use transform=\"translate(113.62 .78125)\" xlink:href=\"#DejaVuSans-Oblique-947\"/></g></g><g clip-path=\"url(#p7fe8ee2928)\"><defs><path id=\"DejaVuSans-Oblique-113\" d=\"m41.703 8.2031q-3.6094-4.7344-8.5312-7.1875-4.9062-2.4375-10.859-2.4375-8.2969 0-13.016 5.5938-4.7031 5.5938-4.7031 15.406 0 7.9062 2.9062 15.281t8.3281 13.234q3.5156 3.8125 8.0781 5.8594t9.5938 2.0469q6.0469 0 9.9531-2.3906t5.6719-7.2188l1.5625 8.2031h9.0312l-14.594-75.203h-9.0469zm-27.781 12.703q0-7.2344 3.0156-11.016 3.0312-3.7812 8.75-3.7812 8.5 0 14.5 8.125t6 19.75q0 7.0312-3.1094 10.766-3.0938 3.7344-8.8906 3.7344-4.25 0-7.875-1.9844-3.6094-1.9688-6.2969-5.7812-2.8281-4-4.4688-9.375-1.625-5.3594-1.625-10.438z\"/></defs><g transform=\"translate(36.363 48.012) scale(.1625 -.1625)\"><use xlink:href=\"#DejaVuSans-Oblique-113\"/><use transform=\"translate(63.477 -16.406) scale(.7)\" xlink:href=\"#DejaVuSans-48\"/></g></g><g clip-path=\"url(#p7fe8ee2928)\"><defs><path id=\"DejaVuSans-49\" d=\"m12.406 8.2969h16.109v55.625l-17.531-3.5156v8.9844l17.438 3.5156h9.8594v-64.609h16.109v-8.2969h-41.984z\"/></defs><g transform=\"translate(36.363 93.463) scale(.1625 -.1625)\"><use xlink:href=\"#DejaVuSans-Oblique-113\"/><use transform=\"translate(63.477 -16.406) scale(.7)\" xlink:href=\"#DejaVuSans-49\"/></g></g><g clip-path=\"url(#p7fe8ee2928)\"><g transform=\"translate(36.363 138.91) scale(.1625 -.1625)\"><use xlink:href=\"#DejaVuSans-Oblique-113\"/><use transform=\"translate(63.477 -16.406) scale(.7)\" xlink:href=\"#DejaVuSans-50\"/></g></g><g clip-path=\"url(#p7fe8ee2928)\"><defs><path id=\"DejaVuSans-51\" d=\"m40.578 39.312q7.0781-1.5156 11.047-6.3125 3.9844-4.7812 3.9844-11.812 0-10.781-7.4219-16.703-7.4219-5.9062-21.094-5.9062-4.5781 0-9.4375 0.90625t-10.031 2.7188v9.5156q4.0938-2.3906 8.9688-3.6094 4.8906-1.2188 10.219-1.2188 9.2656 0 14.125 3.6562t4.8594 10.641q0 6.4531-4.5156 10.078-4.5156 3.6406-12.562 3.6406h-8.5v8.1094h8.8906q7.2656 0 11.125 2.9062t3.8594 8.375q0 5.6094-3.9844 8.6094-3.9688 3.0156-11.391 3.0156-4.0625 0-8.7031-0.89062-4.6406-0.875-10.203-2.7188v8.7812q5.625 1.5625 10.531 2.3438t9.25 0.78125q11.234 0 17.766-5.1094 6.5469-5.0938 6.5469-13.781 0-6.0625-3.4688-10.234t-9.8594-5.7812z\"/></defs><g transform=\"translate(36.363 184.36) scale(.1625 -.1625)\"><use xlink:href=\"#DejaVuSans-Oblique-113\"/><use transform=\"translate(63.477 -16.406) scale(.7)\" xlink:href=\"#DejaVuSans-51\"/></g></g><defs><clipPath id=\"p7fe8ee2928\"><rect x=\"7.2\" y=\"7.2\" width=\"883.5\" height=\"199.98\"/></clipPath></defs></svg>"
            ],
            "text/plain": [
              "<Figure size 1170.2x264.88 with 1 Axes>"
            ]
          },
          "execution_count": 6,
          "metadata": {
          },
          "output_type": "execute_result"
        }
      ],
      "source": [
        "qc_qaoa = QuantumCircuit(nqubits)\n",
        "\n",
        "qc_qaoa.append(qc_0, [i for i in range(0, nqubits)])\n",
        "qc_qaoa.append(qc_p, [i for i in range(0, nqubits)])\n",
        "qc_qaoa.append(qc_mix, [i for i in range(0, nqubits)])\n",
        "\n",
        "qc_qaoa.decompose().decompose().draw()"
      ]
    },
    {
      "cell_type": "markdown",
      "metadata": {
      },
      "source": [
        "El siguiente paso es encontrar los parámetros óptimos `{latex} (\\boldsymbol{\\beta_{\\text{opt}}}, \\boldsymbol{\\gamma_{\\text{opt}}})` tales que el valor esperado\n",
        "\n",
        "$$ \\langle \\psi(\\boldsymbol{\\beta}*{\\text{opt}}, \\boldsymbol{\\gamma}*{\\text{opt}}) \\rvert H_P \\lvert \\psi(\\boldsymbol{\\beta}*{\\text{opt}}, \\boldsymbol{\\gamma}*{\\text{opt}}) \\rangle $$\n",
        "\n",
        "se minimiza. Tal expectativa se puede obtener al hacer la medición en la base Z. Usamos un algoritmo de optimización clásico para encontrar los parámetros óptimos. Los siguientes pasos están involucrados como se muestra en el esquema.\n",
        "\n",
        "<img src=\"images/QAOA_schematic.png\" width=\"400\" height=\"200\" class=\"center\">\n",
        "\n",
        "1. Inicializa $\\boldsymbol{\\beta}$ y $\\boldsymbol{\\gamma}$ con valores reales adecuados.\n",
        "2. Repite hasta que se cumplan algunos criterios de convergencia adecuados:\n",
        "    1. Preparar el estado $\\lvert \\psi(\\boldsymbol{\\beta}, \\boldsymbol{\\gamma}) \\rangle$ usando el circuito qaoa\n",
        "    2. Medir el estado en la base estándar\n",
        "    3. Calcular $ \\langle \\psi(\\boldsymbol{\\beta}, \\boldsymbol{\\gamma}) \\rvert H_P \\lvert \\psi(\\boldsymbol{\\beta}, \\boldsymbol{\\gamma}) \\rangle $\n",
        "    4. Encontrar un nuevo conjunto de parámetros `{latex} (\\boldsymbol{\\beta}_{new}, \\boldsymbol{\\gamma}_{new})` usando un algoritmo de optimización clásico\n",
        "    5. Establecer los parámetros actuales $(\\boldsymbol{\\beta}, \\boldsymbol{\\gamma})$ iguales a los nuevos parámetros `{latex} (\\boldsymbol{\\beta}_{new}, \\boldsymbol{\\gamma}_{new})`\n",
        "\n",
        "El siguiente código implementa los pasos mencionados anteriormente."
      ]
    },
    {
      "cell_type": "code",
      "execution_count": 7,
      "metadata": {
      },
      "outputs": [

      ],
      "source": [
        "def maxcut_obj(x, G):\n",
        "    \"\"\"\n",
        "    Dada una cadena de bits como solución, esta función devuelve\n",
        "    el número de aristas compartidas entre las dos particiones\n",
        "    del grafo.\n",
        "    \n",
        "    Args:\n",
        "        x: str\n",
        "           cadena de bits de la solución\n",
        "           \n",
        "        G: grafo networkx\n",
        "        \n",
        "    Returns:\n",
        "        obj: float\n",
        "             Objectivo\n",
        "    \"\"\"\n",
        "    obj = 0\n",
        "    for i, j in G.edges():\n",
        "        if x[i] != x[j]:\n",
        "            obj -= 1\n",
        "            \n",
        "    return obj\n",
        "\n",
        "\n",
        "def compute_expectation(counts, G):\n",
        "    \n",
        "    \"\"\"\n",
        "    Calcula el valor esperado en función de los resultados \n",
        "    de la medición\n",
        "    \n",
        "    Args:\n",
        "        counts: dict\n",
        "                key como la cadena de bits, val como el conteo\n",
        "           \n",
        "        G: grafo networkx\n",
        "        \n",
        "    Returns:\n",
        "        avg: float\n",
        "             valor esperado\n",
        "    \"\"\"\n",
        "    \n",
        "    avg = 0\n",
        "    sum_count = 0\n",
        "    for bitstring, count in counts.items():\n",
        "        \n",
        "        obj = maxcut_obj(bitstring, G)\n",
        "        avg += obj * count\n",
        "        sum_count += count\n",
        "        \n",
        "    return avg/sum_count\n",
        "\n",
        "\n",
        "# También traeremos los diferentes componentes del circuito\n",
        "# que construyen el circuito qaoa bajo una sola función\n",
        "def create_qaoa_circ(G, theta):\n",
        "    \n",
        "    \"\"\"\n",
        "    Crea un circuito qaoa parametrizado\n",
        "    \n",
        "    Args:  \n",
        "        G: grafo networkx\n",
        "        theta: list\n",
        "               parámetros unitarios\n",
        "                     \n",
        "    Returns:\n",
        "        qc: circuito qiskit\n",
        "    \"\"\"\n",
        "    \n",
        "    nqubits = len(G.nodes())\n",
        "    p = len(theta)//2  # número de unitarias alternas\n",
        "    qc = QuantumCircuit(nqubits)\n",
        "    \n",
        "    beta = theta[:p]\n",
        "    gamma = theta[p:]\n",
        "    \n",
        "    # initial_state\n",
        "    for i in range(0, nqubits):\n",
        "        qc.h(i)\n",
        "    \n",
        "    for irep in range(0, p):\n",
        "        \n",
        "        # problema unitario\n",
        "        for pair in list(G.edges()):\n",
        "            qc.rzz(2 * gamma[irep], pair[0], pair[1])\n",
        "\n",
        "        # mezclador unitario\n",
        "        for i in range(0, nqubits):\n",
        "            qc.rx(2 * beta[irep], i)\n",
        "            \n",
        "    qc.measure_all()\n",
        "        \n",
        "    return qc\n",
        "\n",
        "# Finalmente escribimos una función que ejecuta el circuito en el backend elegido\n",
        "def get_expectation(G, p, shots=512):\n",
        "    \n",
        "    \"\"\"\n",
        "    Ejecuta el circuito parametrizado\n",
        "    \n",
        "    Args:\n",
        "        G: grafo networkx\n",
        "        p: int,\n",
        "           Número de repeticiones de las unitarias\n",
        "    \"\"\"\n",
        "    \n",
        "    backend = Aer.get_backend('qasm_simulator')\n",
        "    backend.shots = shots\n",
        "    \n",
        "    def execute_circ(theta):\n",
        "        \n",
        "        qc = create_qaoa_circ(G, theta)\n",
        "        counts = backend.run(qc, seed_simulator=10, \n",
        "                             nshots=512).result().get_counts()\n",
        "        \n",
        "        return compute_expectation(counts, G)\n",
        "    \n",
        "    return execute_circ"
      ]
    },
    {
      "cell_type": "code",
      "execution_count": 8,
      "metadata": {
      },
      "outputs": [
        {
          "data": {
            "text/plain": [
              "     fun: -2.994140625\n",
              "   maxcv: 0.0\n",
              " message: 'Optimization terminated successfully.'\n",
              "    nfev: 30\n",
              "  status: 1\n",
              " success: True\n",
              "       x: array([1.9793337 , 1.16663483])"
            ]
          },
          "execution_count": 8,
          "metadata": {
          },
          "output_type": "execute_result"
        }
      ],
      "source": [
        "from scipy.optimize import minimize\n",
        "\n",
        "\n",
        "expectation = get_expectation(G, p=1)\n",
        "\n",
        "res = minimize(expectation, \n",
        "                      [1.0, 1.0], \n",
        "                      method='COBYLA')\n",
        "res"
      ]
    },
    {
      "cell_type": "markdown",
      "metadata": {
      },
      "source": [
        "Observa que qiskit presenta diferentes opciones de optimizadores clásicos. Aquí elegimos [COBYLA](https://github.com/Qiskit/qiskit-terra/blob/main/qiskit/algorithms/optimizers/cobyla.py) como nuestro algoritmo de optimización clásico."
      ]
    },
    {
      "cell_type": "markdown",
      "metadata": {
      },
      "source": [
        "### Analizando el resultado"
      ]
    },
    {
      "cell_type": "code",
      "execution_count": 9,
      "metadata": {
        "tags": [

        ]
      },
      "outputs": [
        {
          "data": {
            "image/svg+xml": [
              "<?xml version=\"1.0\" encoding=\"UTF-8\"?><!DOCTYPE svg  PUBLIC '-//W3C//DTD SVG 1.1//EN'  'http://www.w3.org/Graphics/SVG/1.1/DTD/svg11.dtd'><svg width=\"460.72pt\" height=\"331.32pt\" version=\"1.1\" viewBox=\"0 0 460.72 331.32\" xmlns=\"http://www.w3.org/2000/svg\" xmlns:xlink=\"http://www.w3.org/1999/xlink\"><defs><style type=\"text/css\">*{stroke-linecap:butt;stroke-linejoin:round;}</style></defs><path d=\"m0 331.32h460.72v-331.32h-460.72z\" fill=\"none\"/><path d=\"m62.921 279h390.6v-271.8h-390.6z\" fill=\"#ffffff\"/><defs><path id=\"m0f126e55d0\" d=\"m0 0v3.5\" stroke=\"#000000\" stroke-width=\".8\"/></defs><use x=\"86.403068\" y=\"279\" stroke=\"#000000\" stroke-width=\".8\" xlink:href=\"#m0f126e55d0\"/><defs><path id=\"DejaVuSans-48\" d=\"m31.781 66.406q-7.6094 0-11.453-7.5-3.8281-7.4844-3.8281-22.531 0-14.984 3.8281-22.484 3.8438-7.5 11.453-7.5 7.6719 0 11.5 7.5 3.8438 7.5 3.8438 22.484 0 15.047-3.8438 22.531-3.8281 7.5-11.5 7.5zm0 7.8125q12.266 0 18.734-9.7031 6.4688-9.6875 6.4688-28.141 0-18.406-6.4688-28.109-6.4688-9.6875-18.734-9.6875-12.25 0-18.719 9.6875-6.4688 9.7031-6.4688 28.109 0 18.453 6.4688 28.141 6.4688 9.7031 18.719 9.7031z\"/></defs><g transform=\"translate(83.94 323.12) rotate(-70) scale(.14 -.14)\"><use xlink:href=\"#DejaVuSans-48\"/><use x=\"63.623047\" xlink:href=\"#DejaVuSans-48\"/><use x=\"127.246094\" xlink:href=\"#DejaVuSans-48\"/><use x=\"190.869141\" xlink:href=\"#DejaVuSans-48\"/></g><use x=\"109.312159\" y=\"279\" stroke=\"#000000\" stroke-width=\".8\" xlink:href=\"#m0f126e55d0\"/><defs><path id=\"DejaVuSans-49\" d=\"m12.406 8.2969h16.109v55.625l-17.531-3.5156v8.9844l17.438 3.5156h9.8594v-64.609h16.109v-8.2969h-41.984z\"/></defs><g transform=\"translate(106.85 323.12) rotate(-70) scale(.14 -.14)\"><use xlink:href=\"#DejaVuSans-48\"/><use x=\"63.623047\" xlink:href=\"#DejaVuSans-48\"/><use x=\"127.246094\" xlink:href=\"#DejaVuSans-48\"/><use x=\"190.869141\" xlink:href=\"#DejaVuSans-49\"/></g><use x=\"132.22125\" y=\"279\" stroke=\"#000000\" stroke-width=\".8\" xlink:href=\"#m0f126e55d0\"/><g transform=\"translate(129.76 323.12) rotate(-70) scale(.14 -.14)\"><use xlink:href=\"#DejaVuSans-48\"/><use x=\"63.623047\" xlink:href=\"#DejaVuSans-48\"/><use x=\"127.246094\" xlink:href=\"#DejaVuSans-49\"/><use x=\"190.869141\" xlink:href=\"#DejaVuSans-48\"/></g><use x=\"155.130341\" y=\"279\" stroke=\"#000000\" stroke-width=\".8\" xlink:href=\"#m0f126e55d0\"/><g transform=\"translate(152.67 323.12) rotate(-70) scale(.14 -.14)\"><use xlink:href=\"#DejaVuSans-48\"/><use x=\"63.623047\" xlink:href=\"#DejaVuSans-48\"/><use x=\"127.246094\" xlink:href=\"#DejaVuSans-49\"/><use x=\"190.869141\" xlink:href=\"#DejaVuSans-49\"/></g><use x=\"178.039432\" y=\"279\" stroke=\"#000000\" stroke-width=\".8\" xlink:href=\"#m0f126e55d0\"/><g transform=\"translate(175.58 323.12) rotate(-70) scale(.14 -.14)\"><use xlink:href=\"#DejaVuSans-48\"/><use x=\"63.623047\" xlink:href=\"#DejaVuSans-49\"/><use x=\"127.246094\" xlink:href=\"#DejaVuSans-48\"/><use x=\"190.869141\" xlink:href=\"#DejaVuSans-48\"/></g><use x=\"200.948523\" y=\"279\" stroke=\"#000000\" stroke-width=\".8\" xlink:href=\"#m0f126e55d0\"/><g transform=\"translate(198.49 323.12) rotate(-70) scale(.14 -.14)\"><use xlink:href=\"#DejaVuSans-48\"/><use x=\"63.623047\" xlink:href=\"#DejaVuSans-49\"/><use x=\"127.246094\" xlink:href=\"#DejaVuSans-48\"/><use x=\"190.869141\" xlink:href=\"#DejaVuSans-49\"/></g><use x=\"223.857614\" y=\"279\" stroke=\"#000000\" stroke-width=\".8\" xlink:href=\"#m0f126e55d0\"/><g transform=\"translate(221.39 323.12) rotate(-70) scale(.14 -.14)\"><use xlink:href=\"#DejaVuSans-48\"/><use x=\"63.623047\" xlink:href=\"#DejaVuSans-49\"/><use x=\"127.246094\" xlink:href=\"#DejaVuSans-49\"/><use x=\"190.869141\" xlink:href=\"#DejaVuSans-48\"/></g><use x=\"246.766705\" y=\"279\" stroke=\"#000000\" stroke-width=\".8\" xlink:href=\"#m0f126e55d0\"/><g transform=\"translate(244.3 323.12) rotate(-70) scale(.14 -.14)\"><use xlink:href=\"#DejaVuSans-48\"/><use x=\"63.623047\" xlink:href=\"#DejaVuSans-49\"/><use x=\"127.246094\" xlink:href=\"#DejaVuSans-49\"/><use x=\"190.869141\" xlink:href=\"#DejaVuSans-49\"/></g><use x=\"269.675795\" y=\"279\" stroke=\"#000000\" stroke-width=\".8\" xlink:href=\"#m0f126e55d0\"/><g transform=\"translate(267.21 323.12) rotate(-70) scale(.14 -.14)\"><use xlink:href=\"#DejaVuSans-49\"/><use x=\"63.623047\" xlink:href=\"#DejaVuSans-48\"/><use x=\"127.246094\" xlink:href=\"#DejaVuSans-48\"/><use x=\"190.869141\" xlink:href=\"#DejaVuSans-48\"/></g><use x=\"292.584886\" y=\"279\" stroke=\"#000000\" stroke-width=\".8\" xlink:href=\"#m0f126e55d0\"/><g transform=\"translate(290.12 323.12) rotate(-70) scale(.14 -.14)\"><use xlink:href=\"#DejaVuSans-49\"/><use x=\"63.623047\" xlink:href=\"#DejaVuSans-48\"/><use x=\"127.246094\" xlink:href=\"#DejaVuSans-48\"/><use x=\"190.869141\" xlink:href=\"#DejaVuSans-49\"/></g><use x=\"315.493977\" y=\"279\" stroke=\"#000000\" stroke-width=\".8\" xlink:href=\"#m0f126e55d0\"/><g transform=\"translate(313.03 323.12) rotate(-70) scale(.14 -.14)\"><use xlink:href=\"#DejaVuSans-49\"/><use x=\"63.623047\" xlink:href=\"#DejaVuSans-48\"/><use x=\"127.246094\" xlink:href=\"#DejaVuSans-49\"/><use x=\"190.869141\" xlink:href=\"#DejaVuSans-48\"/></g><use x=\"338.403068\" y=\"279\" stroke=\"#000000\" stroke-width=\".8\" xlink:href=\"#m0f126e55d0\"/><g transform=\"translate(335.94 323.12) rotate(-70) scale(.14 -.14)\"><use xlink:href=\"#DejaVuSans-49\"/><use x=\"63.623047\" xlink:href=\"#DejaVuSans-48\"/><use x=\"127.246094\" xlink:href=\"#DejaVuSans-49\"/><use x=\"190.869141\" xlink:href=\"#DejaVuSans-49\"/></g><use x=\"361.312159\" y=\"279\" stroke=\"#000000\" stroke-width=\".8\" xlink:href=\"#m0f126e55d0\"/><g transform=\"translate(358.85 323.12) rotate(-70) scale(.14 -.14)\"><use xlink:href=\"#DejaVuSans-49\"/><use x=\"63.623047\" xlink:href=\"#DejaVuSans-49\"/><use x=\"127.246094\" xlink:href=\"#DejaVuSans-48\"/><use x=\"190.869141\" xlink:href=\"#DejaVuSans-48\"/></g><use x=\"384.22125\" y=\"279\" stroke=\"#000000\" stroke-width=\".8\" xlink:href=\"#m0f126e55d0\"/><g transform=\"translate(381.76 323.12) rotate(-70) scale(.14 -.14)\"><use xlink:href=\"#DejaVuSans-49\"/><use x=\"63.623047\" xlink:href=\"#DejaVuSans-49\"/><use x=\"127.246094\" xlink:href=\"#DejaVuSans-48\"/><use x=\"190.869141\" xlink:href=\"#DejaVuSans-49\"/></g><use x=\"407.130341\" y=\"279\" stroke=\"#000000\" stroke-width=\".8\" xlink:href=\"#m0f126e55d0\"/><g transform=\"translate(404.67 323.12) rotate(-70) scale(.14 -.14)\"><use xlink:href=\"#DejaVuSans-49\"/><use x=\"63.623047\" xlink:href=\"#DejaVuSans-49\"/><use x=\"127.246094\" xlink:href=\"#DejaVuSans-49\"/><use x=\"190.869141\" xlink:href=\"#DejaVuSans-48\"/></g><use x=\"430.039432\" y=\"279\" stroke=\"#000000\" stroke-width=\".8\" xlink:href=\"#m0f126e55d0\"/><g transform=\"translate(427.58 323.12) rotate(-70) scale(.14 -.14)\"><use xlink:href=\"#DejaVuSans-49\"/><use x=\"63.623047\" xlink:href=\"#DejaVuSans-49\"/><use x=\"127.246094\" xlink:href=\"#DejaVuSans-49\"/><use x=\"190.869141\" xlink:href=\"#DejaVuSans-49\"/></g><path d=\"m62.921 279h390.6\" clip-path=\"url(#p3131f3a382)\" fill=\"none\" stroke=\"#b0b0b0\" stroke-dasharray=\"2.96,1.28\" stroke-width=\".8\"/><defs><path id=\"mb59992f03d\" d=\"m0 0h-3.5\" stroke=\"#000000\" stroke-width=\".8\"/></defs><use x=\"62.92125\" y=\"279\" stroke=\"#000000\" stroke-width=\".8\" xlink:href=\"#mb59992f03d\"/><defs><path id=\"DejaVuSans-46\" d=\"m10.688 12.406h10.312v-12.406h-10.312z\"/></defs><g transform=\"translate(24.749 284.32) scale(.14 -.14)\"><use xlink:href=\"#DejaVuSans-48\"/><use x=\"63.623047\" xlink:href=\"#DejaVuSans-46\"/><use x=\"95.410156\" xlink:href=\"#DejaVuSans-48\"/><use x=\"159.033203\" xlink:href=\"#DejaVuSans-48\"/></g><path d=\"m62.921 212.97h390.6\" clip-path=\"url(#p3131f3a382)\" fill=\"none\" stroke=\"#b0b0b0\" stroke-dasharray=\"2.96,1.28\" stroke-width=\".8\"/><use x=\"62.92125\" y=\"212.968399\" stroke=\"#000000\" stroke-width=\".8\" xlink:href=\"#mb59992f03d\"/><defs><path id=\"DejaVuSans-56\" d=\"m31.781 34.625q-7.0312 0-11.062-3.7656-4.0156-3.7656-4.0156-10.344 0-6.5938 4.0156-10.359 4.0312-3.7656 11.062-3.7656t11.078 3.7812q4.0625 3.7969 4.0625 10.344 0 6.5781-4.0312 10.344-4.0156 3.7656-11.109 3.7656zm-9.8594 4.1875q-6.3438 1.5625-9.8906 5.9062-3.5312 4.3594-3.5312 10.609 0 8.7344 6.2188 13.812 6.2344 5.0781 17.062 5.0781 10.891 0 17.094-5.0781t6.2031-13.812q0-6.25-3.5469-10.609-3.5312-4.3438-9.8281-5.9062 7.125-1.6562 11.094-6.5 3.9844-4.8281 3.9844-11.797 0-10.609-6.4688-16.281-6.4688-5.6562-18.531-5.6562-12.047 0-18.531 5.6562-6.4688 5.6719-6.4688 16.281 0 6.9688 4 11.797 4.0156 4.8438 11.141 6.5zm-3.6094 15.578q0-5.6562 3.5312-8.8281 3.5469-3.1719 9.9375-3.1719 6.3594 0 9.9375 3.1719 3.5938 3.1719 3.5938 8.8281 0 5.6719-3.5938 8.8438-3.5781 3.1719-9.9375 3.1719-6.3906 0-9.9375-3.1719-3.5312-3.1719-3.5312-8.8438z\"/></defs><g transform=\"translate(24.749 218.29) scale(.14 -.14)\"><use xlink:href=\"#DejaVuSans-48\"/><use x=\"63.623047\" xlink:href=\"#DejaVuSans-46\"/><use x=\"95.410156\" xlink:href=\"#DejaVuSans-48\"/><use x=\"159.033203\" xlink:href=\"#DejaVuSans-56\"/></g><path d=\"m62.921 146.94h390.6\" clip-path=\"url(#p3131f3a382)\" fill=\"none\" stroke=\"#b0b0b0\" stroke-dasharray=\"2.96,1.28\" stroke-width=\".8\"/><use x=\"62.92125\" y=\"146.936797\" stroke=\"#000000\" stroke-width=\".8\" xlink:href=\"#mb59992f03d\"/><defs><path id=\"DejaVuSans-54\" d=\"m33.016 40.375q-6.6406 0-10.531-4.5469-3.875-4.5312-3.875-12.438 0-7.8594 3.875-12.438 3.8906-4.5625 10.531-4.5625t10.516 4.5625q3.875 4.5781 3.875 12.438 0 7.9062-3.875 12.438-3.875 4.5469-10.516 4.5469zm19.578 30.922v-8.9844q-3.7188 1.75-7.5 2.6719-3.7812 0.9375-7.5 0.9375-9.7656 0-14.922-6.5938-5.1406-6.5938-5.875-19.922 2.875 4.25 7.2188 6.5156 4.3594 2.2656 9.5781 2.2656 10.984 0 17.359-6.6719 6.375-6.6562 6.375-18.125 0-11.234-6.6406-18.031-6.6406-6.7812-17.672-6.7812-12.656 0-19.344 9.6875-6.6875 9.7031-6.6875 28.109 0 17.281 8.2031 27.562t22.016 10.281q3.7188 0 7.5-0.73438t7.8906-2.1875z\"/></defs><g transform=\"translate(24.749 152.26) scale(.14 -.14)\"><use xlink:href=\"#DejaVuSans-48\"/><use x=\"63.623047\" xlink:href=\"#DejaVuSans-46\"/><use x=\"95.410156\" xlink:href=\"#DejaVuSans-49\"/><use x=\"159.033203\" xlink:href=\"#DejaVuSans-54\"/></g><path d=\"m62.921 80.905h390.6\" clip-path=\"url(#p3131f3a382)\" fill=\"none\" stroke=\"#b0b0b0\" stroke-dasharray=\"2.96,1.28\" stroke-width=\".8\"/><use x=\"62.92125\" y=\"80.905196\" stroke=\"#000000\" stroke-width=\".8\" xlink:href=\"#mb59992f03d\"/><defs><path id=\"DejaVuSans-50\" d=\"m19.188 8.2969h34.422v-8.2969h-46.281v8.2969q5.6094 5.8125 15.297 15.594 9.7031 9.7969 12.188 12.641 4.7344 5.3125 6.6094 9 1.8906 3.6875 1.8906 7.25 0 5.8125-4.0781 9.4688-4.0781 3.6719-10.625 3.6719-4.6406 0-9.7969-1.6094-5.1406-1.6094-11-4.8906v9.9688q5.9531 2.3906 11.125 3.6094 5.1875 1.2188 9.4844 1.2188 11.328 0 18.062-5.6719 6.7344-5.6562 6.7344-15.125 0-4.5-1.6875-8.5312-1.6719-4.0156-6.125-9.4844-1.2188-1.4219-7.7656-8.1875-6.5312-6.7656-18.453-18.922z\"/><path id=\"DejaVuSans-52\" d=\"m37.797 64.312-24.906-38.922h24.906zm-2.5938 8.5938h12.406v-47.516h10.406v-8.2031h-10.406v-17.188h-9.8125v17.188h-32.906v9.5156z\"/></defs><g transform=\"translate(24.749 86.224) scale(.14 -.14)\"><use xlink:href=\"#DejaVuSans-48\"/><use x=\"63.623047\" xlink:href=\"#DejaVuSans-46\"/><use x=\"95.410156\" xlink:href=\"#DejaVuSans-50\"/><use x=\"159.033203\" xlink:href=\"#DejaVuSans-52\"/></g><path d=\"m62.921 14.874h390.6\" clip-path=\"url(#p3131f3a382)\" fill=\"none\" stroke=\"#b0b0b0\" stroke-dasharray=\"2.96,1.28\" stroke-width=\".8\"/><use x=\"62.92125\" y=\"14.873594\" stroke=\"#000000\" stroke-width=\".8\" xlink:href=\"#mb59992f03d\"/><defs><path id=\"DejaVuSans-51\" d=\"m40.578 39.312q7.0781-1.5156 11.047-6.3125 3.9844-4.7812 3.9844-11.812 0-10.781-7.4219-16.703-7.4219-5.9062-21.094-5.9062-4.5781 0-9.4375 0.90625t-10.031 2.7188v9.5156q4.0938-2.3906 8.9688-3.6094 4.8906-1.2188 10.219-1.2188 9.2656 0 14.125 3.6562t4.8594 10.641q0 6.4531-4.5156 10.078-4.5156 3.6406-12.562 3.6406h-8.5v8.1094h8.8906q7.2656 0 11.125 2.9062t3.8594 8.375q0 5.6094-3.9844 8.6094-3.9688 3.0156-11.391 3.0156-4.0625 0-8.7031-0.89062-4.6406-0.875-10.203-2.7188v8.7812q5.625 1.5625 10.531 2.3438t9.25 0.78125q11.234 0 17.766-5.1094 6.5469-5.0938 6.5469-13.781 0-6.0625-3.4688-10.234t-9.8594-5.7812z\"/></defs><g transform=\"translate(24.749 20.193) scale(.14 -.14)\"><use xlink:href=\"#DejaVuSans-48\"/><use x=\"63.623047\" xlink:href=\"#DejaVuSans-46\"/><use x=\"95.410156\" xlink:href=\"#DejaVuSans-51\"/><use x=\"159.033203\" xlink:href=\"#DejaVuSans-50\"/></g><defs><path id=\"DejaVuSans-80\" d=\"m19.672 64.797v-27.391h12.406q6.8906 0 10.641 3.5625 3.7656 3.5625 3.7656 10.156 0 6.5469-3.7656 10.109-3.75 3.5625-10.641 3.5625zm-9.8594 8.1094h22.266q12.266 0 18.531-5.5469 6.2812-5.5469 6.2812-16.234 0-10.797-6.2812-16.312-6.2656-5.5156-18.531-5.5156h-12.406v-29.297h-9.8594z\"/><path id=\"DejaVuSans-114\" d=\"m41.109 46.297q-1.5156 0.875-3.2969 1.2812-1.7812 0.42188-3.9219 0.42188-7.625 0-11.703-4.9531t-4.0781-14.234v-28.812h-9.0312v54.688h9.0312v-8.5q2.8438 4.9844 7.375 7.3906 4.5469 2.4219 11.047 2.4219 0.92188 0 2.0469-0.125 1.125-0.10938 2.4844-0.35938z\"/><path id=\"DejaVuSans-111\" d=\"m30.609 48.391q-7.2188 0-11.422-5.6406t-4.2031-15.453 4.1719-15.453q4.1875-5.6406 11.453-5.6406 7.1875 0 11.375 5.6562 4.2031 5.6719 4.2031 15.438 0 9.7188-4.2031 15.406-4.1875 5.6875-11.375 5.6875zm0 7.6094q11.719 0 18.406-7.625 6.7031-7.6094 6.7031-21.078 0-13.422-6.7031-21.078-6.6875-7.6406-18.406-7.6406-11.766 0-18.438 7.6406-6.6562 7.6562-6.6562 21.078 0 13.469 6.6562 21.078 6.6719 7.625 18.438 7.625z\"/><path id=\"DejaVuSans-98\" d=\"m48.688 27.297q0 9.9062-4.0781 15.547t-11.203 5.6406q-7.1406 0-11.219-5.6406t-4.0781-15.547 4.0781-15.547 11.219-5.6406q7.125 0 11.203 5.6406t4.0781 15.547zm-30.578 19.094q2.8438 4.875 7.1562 7.2344 4.3281 2.375 10.328 2.375 9.9688 0 16.188-7.9062 6.2344-7.9062 6.2344-20.797t-6.2344-20.812q-6.2188-7.9062-16.188-7.9062-6 0-10.328 2.375-4.3125 2.375-7.1562 7.25v-8.2031h-9.0312v75.984h9.0312z\"/><path id=\"DejaVuSans-97\" d=\"m34.281 27.484q-10.891 0-15.094-2.4844t-4.2031-8.5q0-4.7812 3.1562-7.5938 3.1562-2.7969 8.5625-2.7969 7.4844 0 12 5.2969t4.5156 14.078v2zm17.922 3.7188v-31.203h-8.9844v8.2969q-3.0781-4.9688-7.6719-7.3438t-11.234-2.375q-8.3906 0-13.359 4.7188-4.9531 4.7188-4.9531 12.625 0 9.2188 6.1719 13.906 6.1875 4.6875 18.438 4.6875h12.609v0.89062q0 6.2031-4.0781 9.5938t-11.453 3.3906q-4.6875 0-9.1406-1.125-4.4375-1.125-8.5312-3.375v8.3125q4.9219 1.9062 9.5625 2.8438 4.6406 0.95312 9.0312 0.95312 11.875 0 17.734-6.1562 5.8594-6.1406 5.8594-18.641z\"/><path id=\"DejaVuSans-105\" d=\"m9.4219 54.688h8.9844v-54.688h-8.9844zm0 21.297h8.9844v-11.391h-8.9844z\"/><path id=\"DejaVuSans-108\" d=\"m9.4219 75.984h8.9844v-75.984h-8.9844z\"/><path id=\"DejaVuSans-116\" d=\"m18.312 70.219v-15.531h18.5v-6.9844h-18.5v-29.688q0-6.6875 1.8281-8.5938t7.4531-1.9062h9.2188v-7.5156h-9.2188q-10.406 0-14.359 3.875-3.9531 3.8906-3.9531 14.141v29.688h-6.5938v6.9844h6.5938v15.531z\"/><path id=\"DejaVuSans-101\" d=\"m56.203 29.594v-4.3906h-41.312q0.59375-9.2812 5.5938-14.141t13.938-4.8594q5.1719 0 10.031 1.2656t9.6562 3.8125v-8.5q-4.8438-2.0469-9.9219-3.125t-10.297-1.0781q-13.094 0-20.734 7.6094-7.6406 7.625-7.6406 20.625 0 13.422 7.25 21.297 7.25 7.8906 19.562 7.8906 11.031 0 17.453-7.1094 6.4219-7.0938 6.4219-19.297zm-8.9844 2.6406q-0.09375 7.3594-4.125 11.75-4.0312 4.4062-10.672 4.4062-7.5156 0-12.031-4.25t-5.2031-11.969z\"/><path id=\"DejaVuSans-115\" d=\"m44.281 53.078v-8.5q-3.7969 1.9531-7.9062 2.9219-4.0938 0.98438-8.5 0.98438-6.6875 0-10.031-2.0469t-3.3438-6.1562q0-3.125 2.3906-4.9062t9.625-3.3906l3.0781-0.6875q9.5625-2.0469 13.594-5.7812t4.0312-10.422q0-7.625-6.0312-12.078-6.0312-4.4375-16.578-4.4375-4.3906 0-9.1562 0.85938t-10.031 2.5625v9.2812q4.9844-2.5938 9.8125-3.8906 4.8281-1.2812 9.5781-1.2812 6.3438 0 9.75 2.1719 3.4219 2.1719 3.4219 6.125 0 3.6562-2.4688 5.6094-2.4531 1.9531-10.812 3.7656l-3.125 0.73438q-8.3438 1.75-12.062 5.3906-3.7031 3.6406-3.7031 9.9844 0 7.7188 5.4688 11.906 5.4688 4.2031 15.531 4.2031 4.9688 0 9.3594-0.73438 4.4062-0.71875 8.1094-2.1875z\"/></defs><g transform=\"translate(17.838 185.86) rotate(-90) scale(.14 -.14)\"><use xlink:href=\"#DejaVuSans-80\"/><use x=\"58.552734\" xlink:href=\"#DejaVuSans-114\"/><use x=\"97.416016\" xlink:href=\"#DejaVuSans-111\"/><use x=\"158.597656\" xlink:href=\"#DejaVuSans-98\"/><use x=\"222.074219\" xlink:href=\"#DejaVuSans-97\"/><use x=\"283.353516\" xlink:href=\"#DejaVuSans-98\"/><use x=\"346.830078\" xlink:href=\"#DejaVuSans-105\"/><use x=\"374.613281\" xlink:href=\"#DejaVuSans-108\"/><use x=\"402.396484\" xlink:href=\"#DejaVuSans-105\"/><use x=\"430.179688\" xlink:href=\"#DejaVuSans-116\"/><use x=\"469.388672\" xlink:href=\"#DejaVuSans-105\"/><use x=\"497.171875\" xlink:href=\"#DejaVuSans-101\"/><use x=\"558.695312\" xlink:href=\"#DejaVuSans-115\"/></g><path d=\"m80.676 279h11.455v-14.509h-11.455z\" clip-path=\"url(#p3131f3a382)\" fill=\"#648fff\"/><path d=\"m103.58 279h11.455v-10.479h-11.455z\" clip-path=\"url(#p3131f3a382)\" fill=\"#648fff\"/><path d=\"m126.49 279h11.455v-9.6726h-11.455z\" clip-path=\"url(#p3131f3a382)\" fill=\"#648fff\"/><path d=\"m149.4 279h11.455v-66.902h-11.455z\" clip-path=\"url(#p3131f3a382)\" fill=\"#648fff\"/><path d=\"m172.31 279h11.455v-7.2544h-11.455z\" clip-path=\"url(#p3131f3a382)\" fill=\"#648fff\"/><path d=\"m195.22 279h11.455v-208.77h-11.455z\" clip-path=\"url(#p3131f3a382)\" fill=\"#648fff\"/><path d=\"m218.13 279h11.455v-64.484h-11.455z\" clip-path=\"url(#p3131f3a382)\" fill=\"#648fff\"/><path d=\"m241.04 279h11.455v-16.121h-11.455z\" clip-path=\"url(#p3131f3a382)\" fill=\"#648fff\"/><path d=\"m263.95 279h11.455v-15.315h-11.455z\" clip-path=\"url(#p3131f3a382)\" fill=\"#648fff\"/><path d=\"m286.86 279h11.455v-62.872h-11.455z\" clip-path=\"url(#p3131f3a382)\" fill=\"#648fff\"/><path d=\"m309.77 279h11.455v-226.5h-11.455z\" clip-path=\"url(#p3131f3a382)\" fill=\"#648fff\"/><path d=\"m332.68 279h11.455v-9.6726h-11.455z\" clip-path=\"url(#p3131f3a382)\" fill=\"#648fff\"/><path d=\"m355.58 279h11.455v-74.157h-11.455z\" clip-path=\"url(#p3131f3a382)\" fill=\"#648fff\"/><path d=\"m378.49 279h11.455v-14.509h-11.455z\" clip-path=\"url(#p3131f3a382)\" fill=\"#648fff\"/><path d=\"m401.4 279h11.455v-13.703h-11.455z\" clip-path=\"url(#p3131f3a382)\" fill=\"#648fff\"/><path d=\"m424.31 279h11.455v-10.479h-11.455z\" clip-path=\"url(#p3131f3a382)\" fill=\"#648fff\"/><path d=\"m62.921 279v-271.8\" fill=\"none\" stroke=\"#000000\" stroke-linecap=\"square\" stroke-width=\".8\"/><path d=\"m453.52 279v-271.8\" fill=\"none\" stroke=\"#000000\" stroke-linecap=\"square\" stroke-width=\".8\"/><path d=\"m62.921 279h390.6\" fill=\"none\" stroke=\"#000000\" stroke-linecap=\"square\" stroke-width=\".8\"/><path d=\"m62.921 7.2h390.6\" fill=\"none\" stroke=\"#000000\" stroke-linecap=\"square\" stroke-width=\".8\"/><g transform=\"translate(72.089 261.69) scale(.1 -.1)\"><use xlink:href=\"#DejaVuSans-48\"/><use x=\"63.623047\" xlink:href=\"#DejaVuSans-46\"/><use x=\"95.410156\" xlink:href=\"#DejaVuSans-48\"/><use x=\"159.033203\" xlink:href=\"#DejaVuSans-49\"/><use x=\"222.65625\" xlink:href=\"#DejaVuSans-56\"/></g><g transform=\"translate(94.998 265.92) scale(.1 -.1)\"><use xlink:href=\"#DejaVuSans-48\"/><use x=\"63.623047\" xlink:href=\"#DejaVuSans-46\"/><use x=\"95.410156\" xlink:href=\"#DejaVuSans-48\"/><use x=\"159.033203\" xlink:href=\"#DejaVuSans-49\"/><use x=\"222.65625\" xlink:href=\"#DejaVuSans-51\"/></g><g transform=\"translate(117.91 266.76) scale(.1 -.1)\"><use xlink:href=\"#DejaVuSans-48\"/><use x=\"63.623047\" xlink:href=\"#DejaVuSans-46\"/><use x=\"95.410156\" xlink:href=\"#DejaVuSans-48\"/><use x=\"159.033203\" xlink:href=\"#DejaVuSans-49\"/><use x=\"222.65625\" xlink:href=\"#DejaVuSans-50\"/></g><g transform=\"translate(140.82 206.67) scale(.1 -.1)\"><use xlink:href=\"#DejaVuSans-48\"/><use x=\"63.623047\" xlink:href=\"#DejaVuSans-46\"/><use x=\"95.410156\" xlink:href=\"#DejaVuSans-48\"/><use x=\"159.033203\" xlink:href=\"#DejaVuSans-56\"/><use x=\"222.65625\" xlink:href=\"#DejaVuSans-49\"/></g><defs><path id=\"DejaVuSans-57\" d=\"m10.984 1.5156v8.9844q3.7188-1.7656 7.5156-2.6875 3.8125-0.92188 7.4844-0.92188 9.7656 0 14.906 6.5625 5.1562 6.5625 5.8906 19.953-2.8281-4.2031-7.1875-6.4531-4.3438-2.25-9.6094-2.25-10.938 0-17.312 6.6094-6.375 6.625-6.375 18.109 0 11.219 6.6406 18 6.6406 6.7969 17.672 6.7969 12.656 0 19.312-9.7031 6.6719-9.6875 6.6719-28.141 0-17.234-8.1875-27.516-8.1719-10.281-21.984-10.281-3.7188 0-7.5312 0.73438-3.7969 0.73438-7.9062 2.2031zm19.625 30.906q6.6406 0 10.516 4.5312 3.8906 4.5469 3.8906 12.469 0 7.8594-3.8906 12.422-3.875 4.5625-10.516 4.5625t-10.516-4.5625-3.875-12.422q0-7.9219 3.875-12.469 3.875-4.5312 10.516-4.5312z\"/></defs><g transform=\"translate(163.73 269.3) scale(.1 -.1)\"><use xlink:href=\"#DejaVuSans-48\"/><use x=\"63.623047\" xlink:href=\"#DejaVuSans-46\"/><use x=\"95.410156\" xlink:href=\"#DejaVuSans-48\"/><use x=\"159.033203\" xlink:href=\"#DejaVuSans-48\"/><use x=\"222.65625\" xlink:href=\"#DejaVuSans-57\"/></g><defs><path id=\"DejaVuSans-53\" d=\"m10.797 72.906h38.719v-8.3125h-29.688v-17.859q2.1406 0.73438 4.2812 1.0938 2.1562 0.35938 4.3125 0.35938 12.203 0 19.328-6.6875 7.1406-6.6875 7.1406-18.109 0-11.766-7.3281-18.297-7.3281-6.5156-20.656-6.5156-4.5938 0-9.3594 0.78125-4.75 0.78125-9.8281 2.3438v9.9219q4.3906-2.3906 9.0781-3.5625t9.9062-1.1719q8.4531 0 13.375 4.4375 4.9375 4.4375 4.9375 12.062 0 7.6094-4.9375 12.047-4.9219 4.4531-13.375 4.4531-3.9531 0-7.8906-0.875-3.9219-0.875-8.0156-2.7344z\"/></defs><g transform=\"translate(186.63 57.715) scale(.1 -.1)\"><use xlink:href=\"#DejaVuSans-48\"/><use x=\"63.623047\" xlink:href=\"#DejaVuSans-46\"/><use x=\"95.410156\" xlink:href=\"#DejaVuSans-50\"/><use x=\"159.033203\" xlink:href=\"#DejaVuSans-53\"/><use x=\"222.65625\" xlink:href=\"#DejaVuSans-51\"/></g><defs><path id=\"DejaVuSans-55\" d=\"m8.2031 72.906h46.875v-4.2031l-26.469-68.703h-10.297l24.906 64.594h-35.016z\"/></defs><g transform=\"translate(209.54 209.21) scale(.1 -.1)\"><use xlink:href=\"#DejaVuSans-48\"/><use x=\"63.623047\" xlink:href=\"#DejaVuSans-46\"/><use x=\"95.410156\" xlink:href=\"#DejaVuSans-48\"/><use x=\"159.033203\" xlink:href=\"#DejaVuSans-55\"/><use x=\"222.65625\" xlink:href=\"#DejaVuSans-56\"/></g><g transform=\"translate(232.45 259.99) scale(.1 -.1)\"><use xlink:href=\"#DejaVuSans-48\"/><use x=\"63.623047\" xlink:href=\"#DejaVuSans-46\"/><use x=\"95.410156\" xlink:href=\"#DejaVuSans-48\"/><use x=\"159.033203\" xlink:href=\"#DejaVuSans-50\"/><use x=\"222.65625\" xlink:href=\"#DejaVuSans-48\"/></g><g transform=\"translate(255.36 260.84) scale(.1 -.1)\"><use xlink:href=\"#DejaVuSans-48\"/><use x=\"63.623047\" xlink:href=\"#DejaVuSans-46\"/><use x=\"95.410156\" xlink:href=\"#DejaVuSans-48\"/><use x=\"159.033203\" xlink:href=\"#DejaVuSans-49\"/><use x=\"222.65625\" xlink:href=\"#DejaVuSans-57\"/></g><g transform=\"translate(278.27 210.9) scale(.1 -.1)\"><use xlink:href=\"#DejaVuSans-48\"/><use x=\"63.623047\" xlink:href=\"#DejaVuSans-46\"/><use x=\"95.410156\" xlink:href=\"#DejaVuSans-48\"/><use x=\"159.033203\" xlink:href=\"#DejaVuSans-55\"/><use x=\"222.65625\" xlink:href=\"#DejaVuSans-54\"/></g><g transform=\"translate(301.18 39.095) scale(.1 -.1)\"><use xlink:href=\"#DejaVuSans-48\"/><use x=\"63.623047\" xlink:href=\"#DejaVuSans-46\"/><use x=\"95.410156\" xlink:href=\"#DejaVuSans-50\"/><use x=\"159.033203\" xlink:href=\"#DejaVuSans-55\"/><use x=\"222.65625\" xlink:href=\"#DejaVuSans-52\"/></g><g transform=\"translate(324.09 266.76) scale(.1 -.1)\"><use xlink:href=\"#DejaVuSans-48\"/><use x=\"63.623047\" xlink:href=\"#DejaVuSans-46\"/><use x=\"95.410156\" xlink:href=\"#DejaVuSans-48\"/><use x=\"159.033203\" xlink:href=\"#DejaVuSans-49\"/><use x=\"222.65625\" xlink:href=\"#DejaVuSans-50\"/></g><g transform=\"translate(347 199.06) scale(.1 -.1)\"><use xlink:href=\"#DejaVuSans-48\"/><use x=\"63.623047\" xlink:href=\"#DejaVuSans-46\"/><use x=\"95.410156\" xlink:href=\"#DejaVuSans-48\"/><use x=\"159.033203\" xlink:href=\"#DejaVuSans-57\"/><use x=\"222.65625\" xlink:href=\"#DejaVuSans-48\"/></g><g transform=\"translate(369.91 261.69) scale(.1 -.1)\"><use xlink:href=\"#DejaVuSans-48\"/><use x=\"63.623047\" xlink:href=\"#DejaVuSans-46\"/><use x=\"95.410156\" xlink:href=\"#DejaVuSans-48\"/><use x=\"159.033203\" xlink:href=\"#DejaVuSans-49\"/><use x=\"222.65625\" xlink:href=\"#DejaVuSans-56\"/></g><g transform=\"translate(392.82 262.53) scale(.1 -.1)\"><use xlink:href=\"#DejaVuSans-48\"/><use x=\"63.623047\" xlink:href=\"#DejaVuSans-46\"/><use x=\"95.410156\" xlink:href=\"#DejaVuSans-48\"/><use x=\"159.033203\" xlink:href=\"#DejaVuSans-49\"/><use x=\"222.65625\" xlink:href=\"#DejaVuSans-55\"/></g><g transform=\"translate(415.73 265.92) scale(.1 -.1)\"><use xlink:href=\"#DejaVuSans-48\"/><use x=\"63.623047\" xlink:href=\"#DejaVuSans-46\"/><use x=\"95.410156\" xlink:href=\"#DejaVuSans-48\"/><use x=\"159.033203\" xlink:href=\"#DejaVuSans-49\"/><use x=\"222.65625\" xlink:href=\"#DejaVuSans-51\"/></g><defs><clipPath id=\"p3131f3a382\"><rect x=\"62.921\" y=\"7.2\" width=\"390.6\" height=\"271.8\"/></clipPath></defs></svg>"
            ],
            "text/plain": [
              "<Figure size 504x360 with 1 Axes>"
            ]
          },
          "execution_count": 9,
          "metadata": {
          },
          "output_type": "execute_result"
        }
      ],
      "source": [
        "from qiskit.visualization import plot_histogram\n",
        "\n",
        "backend = Aer.get_backend('aer_simulator')\n",
        "backend.shots = 512\n",
        "\n",
        "qc_res = create_qaoa_circ(G, res.x)\n",
        "\n",
        "counts = backend.run(qc_res, seed_simulator=10).result().get_counts()\n",
        "\n",
        "plot_histogram(counts)"
      ]
    },
    {
      "cell_type": "markdown",
      "metadata": {
      },
      "source": [
        "Como notamos que las cadenas de bits \"0101\" y \"1010\" tienen la probabilidad más alta y, de hecho, son las asignaciones del grafo (con el que empezamos) que da 4 aristas entre las dos particiones. "
      ]
    },
    {
      "cell_type": "markdown",
      "metadata": {
      },
      "source": [
        "## Apéndice"
      ]
    },
    {
      "cell_type": "markdown",
      "metadata": {
      },
      "source": [
        "### 1. Construcción del Hamiltoniano del Problema <a id=\"Constructing Hamiltonian\"></a>\n",
        "\n",
        "Cualquier problema de maximización puede expresarse en términos de un problema de minimización y viceversa. Por lo tanto, la forma general de un problema de optimización combinatoria viene dada por\n",
        "\n",
        "$$ \\text{maximizar } ;;      C(x)$$\n",
        "\n",
        "$$ \\text{sujeto a } ;; x \\in S $$\n",
        "\n",
        "donde $x \\in S$, es una variable discreta y $C : D \\rightarrow \\mathbb{R}$ es la función de costo, que mapea desde algún dominio $S$ a los números reales $\\mathbb{R}$. La variable $x$ puede estar sujeta a un conjunto de restricciones y se encuentra dentro del conjunto $S \\subset D$ de puntos factibles.\n",
        "\n",
        "En los problemas de optimización combinatoria binaria, la función de costo $C$ generalmente se puede expresar como una suma de términos que solo involucran un subconjunto $Q \\subset[n]$ de los $n$ bits en la cadena $x \\in {0,1}^n$ y está escrito en la forma canónica\n",
        "\n",
        "$$ C(x) = \\sum_{(Q,\\overline{Q}) \\subset [n]} w_{(Q,\\overline{Q})} ; \\prod_{i\\in Q} x_i ; \\prod_{j\\in \\overline{Q}} (1- x_j), $$\n",
        "\n",
        "donde  $x_i \\in {0,1}$ y $w_{(Q,\\overline{Q})}\\in \\mathbb{R}$. Queremos encontrar la cadena de n bits $x$ para la cual $C(x)$ es el máximo."
      ]
    },
    {
      "cell_type": "markdown",
      "metadata": {
      },
      "source": [
        "#### 1.1 Hamiltonianos Diagonales\n",
        "\n",
        "Esta función de costo se puede mapear a un Hamiltoniano que es diagonal en la base computacional. Dada la función de costo $C$, este Hamiltoniano se escribe como\n",
        "\n",
        "$$ H = \\sum_{x \\in {0,1}^n} C(x) |x \\rangle\\langle x| $$\n",
        "\n",
        "donde $x \\in {0,1}^n$ etiqueta los estados de la base computacional $|x \\rangle \\in \\mathbb{C}^{2^n}$. Si la función de costo solo tiene como máximo $k$ términos de peso, es decir, cuando solo contribuye $Q$ que involucra como máximo $Q \\leq k$ bits, entonces este Hamiltoniano diagonal también es solo una suma de operadores Pauli con ponderación $k$.\n",
        "\n",
        "La expansión de $H$ en operadores de Pauli $Z$ se puede obtener a partir de la expansión canónica de la función de costo $C$ sustituyendo cada variable binaria $x_i \\in {0,1}$ por la matriz `{latex} x_i \\rightarrow 2^{-1}(1 - Z_i)`. Aquí $Z_i$ se lee como el operador de Pauli $Z$ que actúa sobre el qubit $i$ y es trivial sobre todos los demás, es decir\n",
        "\n",
        "$$ Z_i = \\left(\\begin{array}{cc} 1 &amp; 0 \\ 0 &amp; -1 \\end{array}\\right). $$\n",
        "\n",
        "Esto significa que el Hamiltoniano de espín que codifica la función de costo clásica se escribe como $|Q|$, Hamiltoniano de espín cuántico local que solo involucra a los operadores Pauli $Z$.\n",
        "\n",
        "$$ H = \\sum_{(Q,\\overline{Q}) \\subset [n]} w_{(Q,\\overline{Q})} ; \\frac{1}{2^{|Q| + |\\overline{Q}|}}\\prod_{i\\in Q} \\left(1 - Z_i\\right) ; \\prod_{j\\in \\overline{Q}} \\left(1 + Z_j\\right).$$\n",
        "\n",
        "Ahora, supondremos que solo unos pocos (polinomialmente muchos en $n$) $w_{(Q,\\overline{Q})}$ serán distintos de cero. Además, supondremos que el conjunto $|(Q,\\overline{Q})|$ está acotado y no es demasiado grande. Esto significa que podemos escribir la función de costo así como el Hamiltoniano $H$ como la suma de $m$ términos locales $\\hat{C}_k$,\n",
        "\n",
        "$$ H = \\sum_{k = 1}^m \\hat{C}_k, $$\n",
        "\n",
        "donde tanto $m$ como el soporte de $\\hat{C}_k$ están razonablemente acotados."
      ]
    },
    {
      "cell_type": "markdown",
      "metadata": {
      },
      "source": [
        "### 2 Ejemplos: <a id=\"examples\"></a>\n",
        "\n",
        "Consideramos 2 ejemplos para ilustrar problemas de optimización combinatoria. Solo implementaremos el primer ejemplo en Qiskit, pero proporcionaremos una secuencia de ejercicios que dan las instrucciones para implementar el segundo ejemplo también.\n",
        "\n",
        "#### 2.1 $MAXCUT$ (ponderado)\n",
        "\n",
        "Considera un grafo no dirigido de $n$ nodos *G = (V, E)* donde *|V| = n* con pesos de arista $w_{ij}&gt;0$, `{latex} w_{ij}=w_{ji}`, para $(i,j)\\in E$. Un corte se define como una partición del conjunto original V en dos subconjuntos. La función de costo a optimizar es en este caso es la suma de los pesos de los puntos de conexión de las aristas en los dos subconjuntos diferentes, *cruzando* el corte. Al asignar $x_i=0$ o $x_i=1$ a cada nodo $i$, se intenta maximizar la función de ganancia global (aquí y en las siguientes sumas sobre los índices 1,2,...,n)\n",
        "\n",
        "$$C(\\textbf{x}) = \\sum_{i,j = 1}^n w_{ij} x_i (1-x_j).$$\n",
        "\n",
        "Para simplificar la notación, asumimos pesos uniformes $ w_{ij} = 1$ para $(i,j) \\in E$. Para encontrar una solución a este problema en una computadora cuántica, primero es necesario mapearlo a un Hamiltoniano diagonal como se discutió anteriormente. Escribimos la suma sobre aristas en el conjunto $E$\n",
        "\n",
        "$$C(\\textbf{x}) = \\sum_{i,j = 1}^n w_{ij} x_i (1-x_j)  = \\sum_{(i,j) \\in E} \\left( x_i (1-x_j) + x_j (1-x_i)\\right)$$\n",
        "\n",
        "Para mapearlo a un Hamiltoniano de espín, hacemos la asignación `{latex} x_i\\rightarrow (1-Z_i)/2`, donde $Z_i$ es el operador Pauli Z que tiene valores propios $\\pm 1$ y obtenemos $C(\\textbf{x}) \\rightarrow H$\n",
        "\n",
        "$$ H = \\sum_{(j,k) \\in E} \\frac{1}{2}\\left(1 - Z_j Z_k \\right).$$\n",
        "\n",
        "Esto significa que el Hamiltoniano se puede escribir como una suma de $m = |E|$ términos locales:\n",
        "\n",
        "$$\\hat{C}*e = \\frac{1}{2}\\left(1 - Z*<e>Z_<e>\\right)$$</e></e>\n",
        "\n",
        "con $e = (e1,e2) \\in E$.\n",
        "\n",
        "#### 2.2 Problemas de satisfacción de restricciones y $\\text{MAX 3-SAT}$.\n",
        "\n",
        "Otro ejemplo de un problema de optimización combinatoria es $\\text{3-SAT}$. Aquí la función de costo `{latex} C(\\textbf{x}) = \\sum_{k = 1}^m c_k(\\textbf{x})` es una suma de cláusulas $c_k(\\textbf{x})$ que restringen los valores de $3$ bits de algunas $\\textbf{x} \\in {0,1}^n$ que participan en la cláusula. Considera, por ejemplo, este caso de una cláusula $\\text{3-SAT}$\n",
        "\n",
        "$$ c_1(\\textbf{x}) = (1-x_1)(1-x_3)x_{132} $$\n",
        "\n",
        "para una cadena de bits $\\textbf{x} \\in {0,1}^{133}$. La cláusula solo puede cumplirse configurando los bits $x_1 = 0$, $x_3 = 0$ y $x_{132} = 1$. El problema $\\text{3-SAT}$ ahora pregunta si hay una cadena de bits que satisfaga todas las cláusulas $m$ o si no existe tal cadena. Este problema de decisión es el principal ejemplo de un problema que es $NP$ completo.\n",
        "\n",
        "El problema de optimización estrechamente relacionado $\\text{MAX 3-SAT}$ pide encontrar la cadena de bits $\\textbf{x}$ que satisface el número máximo de cláusulas en $C(\\textbf{x})$. Por supuesto, esto puede convertirse nuevamente en un problema de decisión si preguntamos dónde existe una cadena de bits que satisface más de $\\tilde{m}$ de las $m$ cláusulas, que nuevamente es $NP$ completo."
      ]
    },
    {
      "cell_type": "markdown",
      "metadata": {
      },
      "source": [
        "### 3. Algoritmos de optimización aproximada <a id=\"approximateOPT\"></a>\n",
        "\n",
        "Tanto los problemas considerados anteriormente $MAXCUT$ como $\\text{MAX 3-SAT}$ son en realidad problemas NP-difíciles (NP-hard) [3](#references). De hecho, resulta que muchos problemas de optimización combinatoria son computacionalmente difíciles de resolver en general. A la luz de este hecho, no podemos esperar encontrar un algoritmo demostrablemente eficiente, es decir, un algoritmo con tiempo de ejecución polinomial en el tamaño del problema, que resuelva estos problemas. Esto también se aplica a los algoritmos cuánticos. Hay dos enfoques principales para tratar estos problemas. El primer enfoque son los algoritmos de aproximación que están garantizados para encontrar una solución de calidad específica en tiempo polinomial. El segundo enfoque son los algoritmos heurísticos que no tienen una garantía de tiempo de ejecución polinomial pero parecen funcionar bien en algunos casos de tales problemas.\n",
        "\n",
        "Los algoritmos de optimización aproximada son eficientes y brindan una garantía comprobable de qué tan cerca está la solución aproximada del óptimo real del problema. La garantía generalmente se presenta en forma de una relación de aproximación, $\\alpha \\leq 1$. Un algoritmo de optimización aproximada probabilística garantiza que produce una cadena de bits $\\textbf{x}^* \\in {0,1}^n$ de modo que *con alta probabilidad* tenemos que con un `{latex} C_\\text{max} = \\max_{\\textbf{x}}C(\\textbf{x})` positivo\n",
        "\n",
        "$$ C_\\text{max} \\geq C(\\textbf{x}^*) \\geq \\alpha C_\\text{max}. $$\n",
        "\n",
        "Para el problema de $MAXCUT$ existe un famoso algoritmo aproximado debido a Goemans y Williamson [2](#references). Este algoritmo se basa en una relajación SDP del problema original combinada con una técnica de redondeo probabilístico que arroja una solución aproximada de alta probabilidad $\\textbf{x}^*$ que tiene una relación de aproximación de $\\alpha \\approx 0.878$. En realidad, se cree que esta relación de aproximación es óptima, por lo que no esperamos ver una mejora mediante el uso de un algoritmo cuántico."
      ]
    },
    {
      "cell_type": "markdown",
      "metadata": {
      },
      "source": [
        "### 4. El algoritmo QAOA <a id=\"QAOA\"></a>\n",
        "\n",
        "El algoritmo de optimización aproximada cuántica (Quantum Approximate Optimization Algorithm, QAOA) de Farhi, Goldstone y Gutmann [1](#references) es un ejemplo de algoritmo heurístico. A diferencia del algoritmo de Goemans-Williamson, QAOA no viene con garantías de rendimiento. QAOA adopta el enfoque de los algoritmos aproximados clásicos y busca un análogo cuántico que también produzca una cadena de bits clásica $x^*$ que, con alta probabilidad, se espera que tenga una buena relación de aproximación $\\alpha$. Antes de discutir los detalles, primero presentemos la idea general de este enfoque.\n",
        "\n",
        "#### 4.1 Descripción general:\n",
        "\n",
        "Queremos encontrar un estado cuántico $|\\psi_p(\\vec{\\gamma},\\vec{\\beta})\\rangle$, que depende de unos parámetros reales $\\vec{\\gamma},\\vec{\\beta} \\in \\mathbb{R}^p$, que tiene la propiedad de maximizar el valor esperado con respecto al Hamiltoniano del problema $H$. Dado este estado de prueba, buscamos parámetros $\\vec{\\gamma}^*,\\vec{\\beta}^*$ que maximicen `{latex} F_p(\\vec{\\gamma},\\vec{\\beta}) = \\langle \\psi_p(\\vec{\\gamma},\\vec{\\beta})|H|\\psi_p(\\vec{\\gamma},\\vec{\\beta})\\rangle`.\n",
        "\n",
        "Una vez que tenemos dicho estado y los parámetros correspondientes, preparamos el estado $|\\psi_p(\\vec{\\gamma}^*,\\vec{\\beta}^*)\\rangle$ en una computadora cuántica y medimos el estado en la base $Z$ `{latex} |x \\rangle = |x_1,\\ldots x_n \\rangle` para obtener un resultado aleatorio $x^*$.\n",
        "\n",
        "Veremos que este $x^*$ aleatorio va a ser una cadena de bits con alta probabilidad cercana al valor esperado `{latex} M_p = F_p(\\vec{\\gamma}^*,\\vec{\\beta}^*)`. Por lo tanto, si $M_p$ está cerca de $C_\\text{max}$, también lo está $C(x^*)$.\n",
        "\n",
        "#### 4.2 Los componentes del algoritmo QAOA.\n",
        "\n",
        "#### 4.2.1 El estado de prueba de QAOA <a id=\"section_421\"></a>\n",
        "\n",
        "El elemento central de QAOA es el estado de prueba $|\\psi_p(\\vec{\\gamma},\\vec{\\beta})\\rangle$ que se preparará en la computadora cuántica. Idealmente, queremos que este estado dé lugar a un valor esperado grande {`{latex} F_p(\\vec{\\gamma},\\vec{\\beta}) = \\langle \\psi_p(\\vec{\\gamma},\\vec{\\beta})|H|\\psi_p(\\vec{\\gamma},\\vec{\\beta})\\rangle` con respecto al Hamiltoniano del problema $H$. En Farhi [1](#references), los estados de prueba $|\\psi_p(\\vec{\\gamma},\\vec{\\beta})\\rangle$ se construyen a partir del Hamiltoniano del problema $H$ junto con rotaciones Pauli $X$ de un solo qubit. Eso significa que, dado un Hamiltoniano del problema\n",
        "\n",
        "$$ H = \\sum_{k = 1}^m \\hat{C}_k $$\n",
        "\n",
        "diagonal en la base computacional y un Hamiltoniano de campo transversal\n",
        "\n",
        "$$ B = \\sum_{i = 1}^n X_i $$\n",
        "\n",
        "el estado de prueba se prepara aplicando $p$ unitarias alternas\n",
        "\n",
        "$$ |\\psi_p(\\vec{\\gamma},\\vec{\\beta})\\rangle = e^{ -i\\beta_p B } e^{ -i\\gamma_p H } \\ldots e^{ -i\\beta_1 B } e^{ -i\\gamma_1 H } |+\\rangle^n $$\n",
        "\n",
        "al estado del producto $|+\\rangle^n$ con $ X |+\\rangle = |+\\rangle$.\n",
        "\n",
        "Este ansatz en particular tiene la ventaja de que existe una elección explícita para los vectores $\\vec{\\gamma}^*,\\vec{\\beta}^*$ tal que para `{latex} M_p = F_p(\\vec{\\gamma}^*,\\vec{\\beta}^*)` cuando tomamos el límite `{latex} \\lim_{p \\rightarrow \\infty} M_p = C_\\text{max}`. Esto sigue de ver el estado de prueba $|\\psi_p(\\vec{\\gamma},\\vec{\\beta}) \\rangle$ como el estado que sigue de la trotterización de la evolución adiabática con respecto a $H$ y el Hamiltoniano de campo transversal $B$, cf. Ref [1](#references).\n",
        "\n",
        "Por el contrario, la desventaja de este estado de prueba es que normalmente se desearía un estado generado a partir de un circuito cuántico que no sea demasiado profundo. Aquí se mide la profundidad con respecto a las compuertas que se pueden aplicar directamente en el chip cuántico. De ahí que existan otras propuestas que sugieran utilizar el estado de prueba Ansatz que se adaptan más al Hardware del chip cuántico Ref. [4](#references), Ref. [5](#references).\n",
        "\n",
        "#### 4.2.2 Cálculo del valor esperado <a id=\"section_422\"></a>\n",
        "\n",
        "Un componente importante de este enfoque es que tendremos que calcular o estimar el valor esperado\n",
        "\n",
        "$$ F_p(\\vec{\\gamma},\\vec{\\beta}) = \\langle \\psi_p(\\vec{\\gamma},\\vec{\\beta})|H|\\psi_p(\\vec{\\gamma},\\vec{\\beta})\\rangle $$\n",
        "\n",
        "para que podamos optimizar los parámetros $\\vec{\\gamma},\\vec{\\beta}$. Vamos a considerar dos escenarios aquí.\n",
        "\n",
        "#### Evaluación clásica\n",
        "\n",
        "Ten en cuenta que cuando el circuito a preparar $|\\psi_p(\\vec{\\gamma},\\vec{\\beta})\\rangle$ no es demasiado profundo, puede ser posible evaluar el valor esperado $F_p$ clásicamente.\n",
        "\n",
        "Esto sucede por ejemplo cuando se considera $MAXCUT$ para grafos con grado acotado y se considera un circuito con $p=1$. Veremos un ejemplo de esto en la implementación de Qiskit a continuación (sección 5.2) y proporcionaremos un ejercicio para calcular el valor esperado.\n",
        "\n",
        "Para ilustrar la idea, recuerda que el Hamiltoniano se puede escribir como una suma de términos individuales `{latex} H = \\sum_{k = 1}^m \\hat{C}_k`. Debido a la linealidad del valor esperado, es suficiente considerar los valores esperados de los sumandos individuales. Para $p = 1$ se tiene que\n",
        "\n",
        "$$ \\langle \\psi_1(\\vec{\\gamma},\\vec{\\beta})|\\hat{C}_k|\\psi_1(\\vec{\\gamma},\\vec{\\beta})\\rangle =  \\langle +^n | e^{ i\\gamma_1 H } e^{   i\\beta_1 B } | \\hat{C}_k |  e^{ -i\\beta_1 B } e^{ -i\\gamma_1 H } |+^n\\rangle.$$\n",
        "\n",
        "Observa que con `{latex} B = \\sum_{i = 1}^n X_i` la unitaria $e^{ -i\\beta_1 B }$ es en realidad un producto de rotaciones de un solo qubit alrededor de $X$ con un ángulo $\\beta$ para el cual escribiremos `{latex} X(\\beta)_k = \\exp(i\\beta X_k)`.\n",
        "\n",
        "Todas las rotaciones individuales que no actúan en los qubits donde se admite $\\hat{C}_k$ conmutan con $\\hat{C}_k$ y, por lo tanto, se cancelan. Esto no aumenta el soporte del operador $\\hat{C}_k$. Esto significa que el segundo conjunto de compuertas unitarias `{latex} e^{ -i\\gamma_1 H } = \\prod_{l=1}^m U_l(\\gamma)` tiene un gran conjunto de compuertas `{latex} U_l(\\gamma) = e^{ -i\\gamma_1 \\hat{C}_l }` que conmutan con el operador `{latex} e^{ i\\beta_1 B } \\hat{C}_k e^{ -i\\beta_1 B }`. Las únicas compuertas `{latex} U_l(\\gamma) = e^{ -i\\gamma_1 \\hat{C}_l }` que contribuyen al valor esperado son aquellas que involucran qubits en el soporte del original $\\hat{C}_k$.\n",
        "\n",
        "Por lo tanto, para la interacción de grado acotado, el soporte de `{latex} e^{ i\\gamma_1 H } e^{ i\\beta_1 B } \\hat{C}_k e^{ -i\\beta_1 B } e^{ -i\\gamma_1 H }` solo se expande en una cantidad dada por el grado de interacción en $H$ y, por lo tanto, es independiente del tamaño del sistema. Esto significa que para estos subproblemas más pequeños, los valores esperados son independientes de $n$ y se pueden evaluar de forma clásica. El caso de un grado en general $3$ se considera en [1](#references).\n",
        "\n",
        "Esta es una observación general, lo que significa que si tenemos un problema en el que el circuito utilizado para la preparación del estado de prueba solo aumenta el soporte de cada término en el Hamiltoniano en una cantidad constante, la función de costo puede evaluarse directamente.\n",
        "\n",
        "Cuando este es el caso, y solo se necesitan unos pocos parámetros $\\beta, \\gamma$ en la preparación del estado de prueba, estos se pueden encontrar fácilmente mediante una simple búsqueda en cuadrícula. Además, se puede usar un valor óptimo exacto de $M_p$ para acotar la relación de aproximación\n",
        "\n",
        "$$ \\frac{M_p}{C_\\text{max}} \\geq \\alpha $$\n",
        "\n",
        "para obtener una estimación de $\\alpha$. Para este caso el algoritmo QAOA tiene las mismas características que un algoritmo de optimización aproximada convencional que viene con una relación de aproximación garantizada que se puede obtener con eficiencia polinomial en el tamaño del problema.\n",
        "\n",
        "#### Evaluación en una computadora cuántica\n",
        "\n",
        "Cuando el circuito cuántico se vuelve demasiado profundo para ser evaluado de forma clásica, o cuando la conectividad del Hamiltoniano del problema es demasiado alta, podemos recurrir a otros medios para estimar el valor esperado. Esto implica estimar directamente $F_p(\\vec{\\gamma},\\vec{\\beta})$ en la computadora cuántica. El enfoque aquí sigue el camino de la estimación del valor esperado convencional como se usa en VQE [4](#references), donde un estado de prueba $| \\psi_p(\\vec{\\gamma},\\vec{\\beta}) \\rangle$ se prepara directamente en la computadora cuántica y el valor esperado se obtiene del muestreo.\n",
        "\n",
        "Dado que QAOA tiene un Hamiltoniano diagonal $H$, en realidad es sencillo estimar el valor esperado. Solo necesitamos obtener muestras del estado de prueba en la base computacional. Recuerda que $H = \\sum_{x \\in {0,1}^n} C(x) |x \\rangle\\langle x|$ para que podamos obtener la estimación muestral de\n",
        "\n",
        "$$ \\langle \\psi_p(\\vec{\\gamma},\\vec{\\beta})|H|\\psi_p(\\vec{\\gamma},\\vec{\\beta})\\rangle = \\sum_{x \\in {0,1}^n} C(x) |\\langle x| \\psi_p(\\vec{\\gamma},\\vec{\\beta}) \\rangle |^2$$\n",
        "\n",
        "mediante mediciones repetidas de un solo qubit del estado $| \\psi_p(\\vec{\\gamma},\\vec{\\beta}) \\rangle $ en la base $Z$. Por cada cadena de bits $x$ obtenida de la distribución $|\\langle x| \\psi_p(\\vec{\\gamma},\\vec{\\beta}) \\rangle |^2$ evaluamos la función de costo $C(x)$ y la promediamos sobre el número total de muestras. El promedio empírico resultante se aproxima al valor esperado hasta un error de muestreo aditivo que se encuentra dentro de la varianza del estado. La varianza se discutirá a continuación.\n",
        "\n",
        "Con acceso al valor esperado, ahora podemos ejecutar un algoritmo de optimización clásico, como en [6](#references), para optimizar $F_p$.\n",
        "\n",
        "Si bien este enfoque no conduce a una garantía de aproximación a priori para $x^*$, el valor de la función optimizada se puede usar más tarde para proporcionar una estimación de la relación de aproximación $\\alpha$.\n",
        "\n",
        "#### 4.3.3 Obtener una solución con una tasa de aproximación dada con alta probabilidad\n",
        "\n",
        "El algoritmo es de naturaleza probabilística y produce cadenas de bits aleatorias a partir de la distribución $|\\langle x| \\psi_p(\\vec{\\gamma},\\vec{\\beta}) \\rangle |^2$. Entonces, ¿cómo podemos estar seguros de que muestrearemos una aproximación $x^*$ cercana al valor esperado optimizado $M_p$? Ten en cuenta que esta pregunta también es relevante para la estimación de $M_p$ en una computadora cuántica en primer lugar. Si las muestras extraídas de $|\\langle x| \\psi_p(\\vec{\\gamma},\\vec{\\beta}) \\rangle |^2$ tienen demasiada varianza, se necesitan muchas muestras para determinar la media.\n",
        "\n",
        "Dibujaremos una cadena de bits $x^*$ que está cerca de la media $M_p$ con alta probabilidad cuando la energía como variable tiene poca varianza.\n",
        "\n",
        "Ten en cuenta que el número de términos en el Hamiltoniano `{latex} H = \\sum_{k=1}^m \\hat{C}_k` está limitado por $m$. Digamos que cada sumando individual $\\hat{C}_k$ tiene una norma de operador que puede estar limitada por una constante universal $|\\hat{C}_k| \\leq \\tilde{C}$ para todo $k = 1\\ldots m$. Entonces considera\n",
        "\n",
        "$$ \\begin{aligned} \\langle \\psi_p(\\vec{\\gamma},\\vec{\\beta})|H^2|\\psi_p(\\vec{\\gamma},\\vec{\\beta})\\rangle - \\langle \\psi_p(\\vec{\\gamma},\\vec{\\beta})|H|\\psi_p(\\vec{\\gamma},\\vec{\\beta})\\rangle^2 &amp;\\leq  \\langle \\psi_p(\\vec{\\gamma},\\vec{\\beta})|H^2|\\psi_p(\\vec{\\gamma},\\vec{\\beta})\\rangle \\ &amp;= \\sum_{k,l =1}^m  \\langle \\psi_p(\\vec{\\gamma},\\vec{\\beta})|\\hat{C}_k \\hat{C}_l |\\psi_p(\\vec{\\gamma},\\vec{\\beta})\\rangle \\ &amp;\\leq m^2 \\tilde{C}^2 \\ \\end{aligned} $$\n",
        "\n",
        "donde hemos usado que `{latex} \\langle \\psi_p(\\vec{\\gamma},\\vec{\\beta})|\\hat{C}_k \\hat{C}_l |\\psi_p(\\vec{\\gamma},\\vec{\\beta})\\rangle \\leq \\tilde{C}^2`.\n",
        "\n",
        "Esto significa que la varianza de cualquier valor esperado $F_p(\\vec{\\gamma},\\vec{\\beta})$ está limitada por $m^2 \\tilde{C}^2$. Por lo tanto, esto se aplica en particular a $M_p$. Además, si $m$ solo crece polinomialmente en el número de qubits $n$, sabemos que tomando un número creciente polinomial de muestras $s = O\\left(\\frac{\\tilde{C}^2 m^2}{\\epsilon^2}\\right)$ de $|\\langle x| \\psi_p(\\vec{\\gamma},\\vec{\\beta}) \\rangle |^2$ será suficiente para obtener un $x^*$ que conduce a un $C(x^*)$ que estará cerca de $M_p$."
      ]
    },
    {
      "cell_type": "markdown",
      "metadata": {
      },
      "source": [
        "### 5. Problemas<a id=\"problems\"></a>\n",
        "\n",
        "1. El algoritmo QAOA produce una cadena de bits, ¿es esta cadena la solución óptima para este grafo? Compara los resultados experimentales del chip superconductor con los resultados de la simulación QASM local.\n",
        "\n",
        "2. Hemos calculado la función de costo $F_1$ analíticamente en la [sección 5.2](#implementation_sec52). Verifica los pasos y calcula $f_A(\\gamma,\\beta)$ así como $f_B(\\gamma,\\beta)$.\n",
        "\n",
        "3. Hemos dado una expresión exacta para $F_1$ en la implementación de Qiskit.\n",
        "\n",
        "    - Escribe una rutina para estimar el valor esperado $F_1(\\gamma,\\beta)$ a partir de las muestras obtenidas en el resultado (pista: usa la función cost_function_C(x,G) de la [sección 5.4](#implementation_sec54) y la evaluación de los datos en ambas secciones [5.a / 5.b](#implementationsim))\n",
        "\n",
        "    - Utiliza una rutina de optimización, por ejemplo, SPSA del ejemplo de VQE en este tutorial, para optimizar los parámetros en la $F_1(\\gamma,\\beta)$ muestreada numéricamente. ¿Encuentras los mismos valores para $\\gamma^*,\\beta^*$ ?\n",
        "\n",
        "4. El circuito de Prueba en la [sección 5.3](#implementation_sec53) corresponde a la profundidad $p=1$ y estaba destinado directamente a ser compatible con el Hardware.\n",
        "\n",
        "    - Usa la rutina del ejercicio 2 para evaluar las funciones de costo $F_p(\\gamma,\\beta)$ para $p=2,3$. ¿Qué esperas ver en el Hardware real?\n",
        "    - Generaliza esta clase de estado de prueba a otras funciones de onda candidatas, como el ansatz eficiente en Hardware de la Ref. [4](#references).\n",
        "\n",
        "5. Considera un ejemplo de $\\text{MAX 3-SAT}$ como se describe en la sección de ejemplos y modifica la función cost_function_C(c,G) de la [sección 5.4](#implementation_sec54) que usaste para calcular $F_p$ en consecuencia. Ejecuta el algoritmo QAOA para esta instancia de $\\text{MAX 3-SAT}$ usando el algoritmo eficiente en Hardware y analiza los resultados. "
      ]
    },
    {
      "cell_type": "markdown",
      "metadata": {
      },
      "source": [
        "## Referencias<a id=\"references\"></a>\n",
        "\n",
        "1. Farhi, Edward, Jeffrey Goldstone, and Sam Gutmann. \"A quantum approximate optimization algorithm.\" arXiv preprint [arXiv:1411.4028 (2014)](https://arxiv.org/abs/1411.4028).\n",
        "2. Goemans, Michel X., and David P. Williamson. [Journal of the ACM (JACM) 42.6 (1995): 1115-1145](http://www-math.mit.edu/~goemans/PAPERS/maxcut-jacm.pdf).\n",
        "3. Garey, Michael R.; David S. Johnson (1979). Computers and Intractability: A Guide to the Theory of NP-Completeness. W. H. Freeman. ISBN 0-7167-1045-5\n",
        "4. Kandala, Abhinav, et al. \"Hardware-efficient variational quantum eigensolver for small molecules and quantum magnets.\" [Nature 549.7671 (2017): 242](https://www.nature.com/articles/nature23879).\n",
        "5. Farhi, Edward, et al. \"Quantum algorithms for fixed qubit architectures.\" arXiv preprint [arXiv:1703.06199 (2017)](https://arxiv.org/abs/1703.06199).\n",
        "6. Spall, J. C. (1992), [IEEE Transactions on Automatic Control, vol. 37(3), pp. 332–341](https://ieeexplore.ieee.org/document/119632).\n",
        "7. Michael Streif and Martin Leib \"Training the quantum approximate optimization algorithm without access to a quantum processing unit\" (2020) [Quantum Sci. Technol. 5 034008](https://doi.org/10.1088/2058-9565/ab8c2b)"
      ]
    },
    {
      "cell_type": "code",
      "execution_count": 10,
      "metadata": {
      },
      "outputs": [
        {
          "data": {
            "text/html": [
              "<h3>Version Information</h3><table><tr><th>Qiskit Software</th><th>Version</th></tr><tr><td>Qiskit</td><td>0.27.0</td></tr><tr><td>Terra</td><td>0.17.4</td></tr><tr><td>Aer</td><td>0.8.2</td></tr><tr><td>Ignis</td><td>0.6.0</td></tr><tr><td>Aqua</td><td>0.9.2</td></tr><tr><td>IBM Q Provider</td><td>0.14.0</td></tr><tr><th>System information</th></tr><tr><td>Python</td><td>3.7.7 (default, May  6 2020, 04:59:01) \n",
              "[Clang 4.0.1 (tags/RELEASE_401/final)]</td></tr><tr><td>OS</td><td>Darwin</td></tr><tr><td>CPUs</td><td>8</td></tr><tr><td>Memory (Gb)</td><td>32.0</td></tr><tr><td colspan='2'>Wed Jul 07 17:00:44 2021 BST</td></tr></table>"
            ],
            "text/plain": [
              "<IPython.core.display.HTML object>"
            ]
          },
          "metadata": {
          },
          "output_type": "display_data"
        }
      ],
      "source": [
        "import qiskit.tools.jupyter\n",
        "%qiskit_version_table"
      ]
    }
  ],
  "metadata": {
    "kernelspec": {
      "display_name": "Python 3",
      "language": "python",
      "name": "python3"
    },
    "language_info": {
      "codemirror_mode": {
        "name": "ipython",
        "version": 3
      },
      "file_extension": ".py",
      "mimetype": "text/x-python",
      "name": "python",
      "nbconvert_exporter": "python",
      "pygments_lexer": "ipython3",
      "version": "3.9"
    }
  },
  "nbformat": 4,
  "nbformat_minor": 4
}
