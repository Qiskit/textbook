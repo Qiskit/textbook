{
  "cells": [
    {
      "cell_type": "markdown",
      "metadata": {
      },
      "source": [
        "# Retroceso de Fase (Phase Kickback)\n",
        "\n",
        "En esta página, cubriremos un comportamiento de compuertas cuánticas controladas conocido como \"retroceso de fase\" (phase kickback). Este interesante efecto cuántico es un bloque de construcción en muchos algoritmos cuánticos famosos, incluido el algoritmo de factorización de Shor y el algoritmo de búsqueda de Grover."
      ]
    },
    {
      "cell_type": "markdown",
      "metadata": {
        "formulas": {
          "_control-qubit-post": {
            "meaning": "This is the state of the control qubit after the controlled gate."
          },
          "_control-qubit-pre": {
            "meaning": "This is the control qubit. This qubit is in a superposition of |0〉 and |1〉."
          },
          "_eig-val-A": {
            "meaning": "This is a complex number, which we call the <i>eigenvalue</i>."
          },
          "_eig-val-U": {
            "meaning": "This is a complex number with magnitude 1.<br><a href='https://en.wikipedia.org/wiki/Euler%27s_formula'>Read more</a>."
          },
          "_eig-vec-A": {
            "meaning": "This is a vector. In this case, this vector is an <i>eigenvector</i> of the matrix 'A'."
          },
          "_eig-vec-U": {
            "meaning": "This is a state vector, and in this case, an eigen<i>state</i> of the matrix 'U', with eigenvalue exp(2πiθ)."
          },
          "_eig-vec-X": {
            "meaning": "This is a state vector, and in this case, an eigen<i>state</i> of the X-gate, with eigenvalue -1."
          },
          "_matrix-A": {
            "meaning": "This letter represents a matrix."
          },
          "_matrix-CU": {
            "meaning": "This is the operation U, controlled by another qubit."
          },
          "_matrix-CX": {
            "meaning": "This the controlled-X (CNOT) gate."
          },
          "_matrix-U": {
            "meaning": "This letter represents a unitary matrix (e.g. a quantum gate)."
          }
        }
      },
      "source": [
        "## Vectores propios\n",
        "\n",
        "Ya deberías estar familiarizado con los vectores propios y los valores propios, pero si no, puedes leer una buena introducción [aquí](https://www.khanacademy.org/math/linear-algebra/alternate-bases/eigen-everything/v/linear-algebra-introduction-to-eigenvalues-and-eigenvectors) . Si *estás* familiarizado, entonces deberías reconocer la ecuación de vector propio:\n",
        "\n",
        "$$ \\class{_matrix-A}{A}\\class{_eig-vec-A}{|x\\rangle} = \\class{_eig-val-A}{\\lambda}\\class{_eig-vec-A}{|x\\rangle} $$\n",
        "\n",
        "Esto es aún más simple en la computación cuántica. Dado que todos nuestros vectores de estado tienen una magnitud de 1, nuestros valores propios también deben tener una magnitud de 1, es decir, $\\lambda = e^{2\\pi i \\theta}$. Entonces, para una compuerta cuántica $U$ y su estado propio $|x\\rangle$, tenemos:\n",
        "\n",
        "$$ \\class{_matrix-U}{U}\\class{_eig-vec-U}{|x\\rangle} = \\class{_eig-val-U}{e^{2\\pi i \\theta}}\\class{_eig-vec-U}{|x\\rangle} $$\n",
        "\n",
        "Para resumir: si una compuerta gira (y solo gira) todas las amplitudes de un vector de estado en la misma cantidad, entonces ese estado es un *estado* propio de esa compuerta.\n",
        "\n",
        "<!-- ::: q-block -->\n",
        "\n",
        "### Explorando los vectores propios\n",
        "\n",
        "Usa el widget a continuación para ver cómo una compuerta de un solo qubit transforma un estado de un solo qubit. ¿Puedes averiguar qué estados son propios y de qué compuertas?\n",
        "\n",
        "```\n",
        "q-eigenvector-widget\n",
        "```\n",
        "\n",
        "<!-- ::: -->"
      ]
    },
    {
      "cell_type": "markdown",
      "metadata": {
      },
      "source": [
        "## Compuertas controladas y estados propios\n",
        "\n",
        "Una vez que te sientas cómodo con el concepto de estados propios, podemos comenzar a pensar en lo que sucede cuando controlamos estos circuitos en el estado de otro qubit. Por ejemplo, sabemos que la compuerta Z que actúa sobre el estado $|1\\rangle$ introduce una fase global negativa ($\\theta = 0.5$), averigüemos qué sucede cuando controlamos esta operación.\n",
        "\n",
        "<!-- ::: q-block.tabs -->\n",
        "\n",
        "### La compuerta Z controlada\n",
        "\n",
        "<!-- ::: tab -->\n",
        "\n",
        "### |10〉\n",
        "\n",
        "<!-- ::: column(width=200) -->\n",
        "\n",
        "Si el qubit de control es $|0\\rangle$, entonces el comportamiento es trivial, no pasa nada.\n",
        "\n",
        "<!-- ::: column(width=400) -->\n",
        "\n",
        "![diagrama de circuito que muestra un registro de dos qubits en el estado 01, accionado por una compuerta CZ. El estado no cambia](images/kickback/tabs/0/0.svg)\n",
        "\n",
        "<!-- ::: -->\n",
        "\n",
        "<!-- ::: tab -->\n",
        "\n",
        "### |11〉\n",
        "\n",
        "<!-- ::: column(width=200) -->\n",
        "\n",
        "Si el qubit de control es $|1\\rangle$, la compuerta introduce una fase global (observa el signo menos en la imagen de la derecha), pero los estados del qubit no cambian.\n",
        "\n",
        "<!-- ::: column(width=400) -->\n",
        "\n",
        "![diagrama de circuito que muestra un registro de dos qubits en el estado 01, accionado por una compuerta CZ. El estado no cambia](images/kickback/tabs/0/1.svg)\n",
        "\n",
        "<!-- ::: -->\n",
        "\n",
        "<!-- ::: tab -->\n",
        "\n",
        "### |1+〉\n",
        "\n",
        "<!-- ::: column(width=200) -->\n",
        "\n",
        "La compuerta Z controlada no hace nada cuando el control es $|0\\rangle$, e introduce una fase negativa cuando el control es $|1\\rangle$. Cuando el qubit de control está en superposición, la compuerta cambia la fase *relativa* entre los estados $|0\\rangle$ y $|1\\rangle$ del qubit de control.\n",
        "\n",
        "<!-- ::: column(width=400) -->\n",
        "\n",
        "![diagrama de circuito que muestra un registro de dos qubits en el estado 01, accionado por una compuerta CZ. El estado no cambia](images/kickback/tabs/0/2.svg)\n",
        "\n",
        "<!-- ::: -->\n",
        "\n",
        "<!-- ::: -->\n",
        "\n",
        "<!-- ::: -->\n",
        "\n",
        "Cuando el control es $|{+}\\rangle$, y el objetivo es $|1\\rangle$, la compuerta Z controlada cambia el estado del qubit de *control* , pero deja el qubit objetivo sin cambios. Este efecto se denomina \"retroceso de fase\" (phase kickback), ya que el valor propio regresa al estado del qubit de control."
      ]
    },
    {
      "cell_type": "markdown",
      "metadata": {
      },
      "source": [
        "En términos más generales, si tenemos una compuerta cuántica $U$ y su estado propio $|x\\rangle$, entonces $U$ actuando sobre $|x\\rangle$ agregará una fase global $\\theta$ como vimos anteriormente.\n",
        "\n",
        "$$ \\class{_matrix-U}{U}\\class{_eig-vec-U}{|x\\rangle} = \\class{_eig-val-U}{e^{2\\pi i \\theta}}\\class{_eig-vec-U}{|x\\rangle} $$\n",
        "\n",
        "Si controlamos la operación $U|x\\rangle$ por otro qubit en una superposición de $|0\\rangle$ y $|1\\rangle$, entonces esto tendrá el efecto de rotar el qubit de control alrededor del eje Z por un ángulo $\\theta$. Es decir:\n",
        "\n",
        "$$ \\class{_matrix-CU}{CU}\\class{_eig-vec-U}{|x\\rangle}\\class{_control-qubit-pre}{(\\alpha|0\\rangle + \\beta|1\\rangle)} = \\class{_eig-vec-U}{|x\\rangle}\\class{_control-qubit-post}{(\\alpha|0\\rangle + \\beta e^{2\\pi i \\theta}|1\\rangle)} $$"
      ]
    },
    {
      "cell_type": "markdown",
      "metadata": {
      },
      "source": [
        "En el ejemplo anterior, vemos que el 'control' de la compuerta Z controlada en realidad está haciendo una rotación en Z; algo que solo debería haber estado observando el qubit que ha cambiado. Por esta razón, a menudo verás la compuerta Z controlada dibujada como dos controles."
      ]
    },
    {
      "cell_type": "code",
      "execution_count": 1,
      "metadata": {
      },
      "outputs": [
        {
          "data": {
            "image/svg+xml": [
              "<?xml version=\"1.0\" encoding=\"UTF-8\"?><!DOCTYPE svg  PUBLIC '-//W3C//DTD SVG 1.1//EN'  'http://www.w3.org/Graphics/SVG/1.1/DTD/svg11.dtd'><svg width=\"125.12pt\" height=\"123.48pt\" version=\"1.1\" viewBox=\"0 0 125.12 123.48\" xmlns=\"http://www.w3.org/2000/svg\" xmlns:xlink=\"http://www.w3.org/1999/xlink\"><defs><style type=\"text/css\">*{stroke-linejoin: round; stroke-linecap: butt}</style></defs><path d=\"m0 123.48h125.12v-123.48h-125.12z\" fill=\"#ffffff\"/><path d=\"m63.381 43.561h49.996\" clip-path=\"url(#pb03c8b0eb8)\" fill=\"none\" stroke=\"#000000\" stroke-linecap=\"square\" stroke-width=\"2\"/><path d=\"m63.381 89.012h49.996\" clip-path=\"url(#pb03c8b0eb8)\" fill=\"none\" stroke=\"#000000\" stroke-linecap=\"square\" stroke-width=\"2\"/><path d=\"m87.925 89.012v-45.451\" clip-path=\"url(#pb03c8b0eb8)\" fill=\"none\" stroke=\"#1192e8\" stroke-linecap=\"square\" stroke-width=\"2\"/><path d=\"m87.925 89.012v-45.451\" clip-path=\"url(#pb03c8b0eb8)\" fill=\"none\" stroke=\"#1192e8\" stroke-linecap=\"square\" stroke-width=\"2\"/><path d=\"m87.925 47.992c1.1752 0 2.3025-0.46693 3.1335-1.2979 0.83102-0.83102 1.2979-1.9583 1.2979-3.1335 0-1.1752-0.46693-2.3025-1.2979-3.1335-0.83102-0.83102-1.9583-1.2979-3.1335-1.2979s-2.3025 0.46693-3.1335 1.2979c-0.83102 0.83102-1.2979 1.9583-1.2979 3.1335 0 1.1752 0.46693 2.3025 1.2979 3.1335 0.83102 0.83102 1.9583 1.2979 3.1335 1.2979z\" clip-path=\"url(#pb03c8b0eb8)\" fill=\"#1192e8\" stroke=\"#1192e8\" stroke-width=\"1.5\"/><path d=\"m87.925 93.443c1.1752 0 2.3025-0.46693 3.1335-1.2979 0.83102-0.83102 1.2979-1.9583 1.2979-3.1335s-0.46693-2.3025-1.2979-3.1335c-0.83102-0.83102-1.9583-1.2979-3.1335-1.2979s-2.3025 0.46693-3.1335 1.2979c-0.83102 0.83102-1.2979 1.9583-1.2979 3.1335s0.46693 2.3025 1.2979 3.1335c0.83102 0.83102 1.9583 1.2979 3.1335 1.2979z\" clip-path=\"url(#pb03c8b0eb8)\" fill=\"#1192e8\" stroke=\"#1192e8\" stroke-width=\"1.5\"/><g clip-path=\"url(#pb03c8b0eb8)\"><g transform=\"translate(36.253 47.786) scale(.1625 -.1625)\"><defs><path id=\"DejaVuSans-Oblique-71\" transform=\"scale(.015625)\" d=\"m2669 525q-231-303-546-460-314-156-695-156-531 0-833 358-301 358-301 986 0 506 186 978t533 847q225 244 517 375t614 131q387 0 637-153t363-462l100 525h578l-934-4813h-579l360 1844zm-1778 813q0-463 193-705 194-242 560-242 544 0 928 520t384 1264q0 450-199 689-198 239-569 239-272 0-504-127-231-126-403-370-181-256-286-600-104-343-104-668z\"/><path id=\"DejaVuSans-30\" transform=\"scale(.015625)\" d=\"m2034 4250q-487 0-733-480-245-479-245-1442 0-959 245-1439 246-480 733-480 491 0 736 480 246 480 246 1439 0 963-246 1442-245 480-736 480zm0 500q785 0 1199-621 414-620 414-1801 0-1178-414-1799-414-620-1199-620-784 0-1198 620-414 621-414 1799 0 1181 414 1801 414 621 1198 621z\"/></defs><use xlink:href=\"#DejaVuSans-Oblique-71\"/><use transform=\"translate(63.477 -16.406) scale(.7)\" xlink:href=\"#DejaVuSans-30\"/></g></g><g clip-path=\"url(#pb03c8b0eb8)\"><g transform=\"translate(36.253 93.237) scale(.1625 -.1625)\"><defs><path id=\"DejaVuSans-31\" transform=\"scale(.015625)\" d=\"m794 531h1031v3560l-1122-225v575l1116 225h631v-4135h1031v-531h-2687v531z\"/></defs><use xlink:href=\"#DejaVuSans-Oblique-71\"/><use transform=\"translate(63.477 -16.406) scale(.7)\" xlink:href=\"#DejaVuSans-31\"/></g></g><defs><clipPath id=\"pb03c8b0eb8\"><rect x=\"7.2\" y=\"7.2\" width=\"110.72\" height=\"109.08\"/></clipPath></defs></svg>"
            ],
            "text/plain": [
              "<Figure size 146.652x144.48 with 1 Axes>"
            ]
          },
          "execution_count": 1,
          "metadata": {
          },
          "output_type": "execute_result"
        }
      ],
      "source": [
        "from qiskit import QuantumCircuit\n",
        "qc = QuantumCircuit(2)\n",
        "qc.cz(0,1)\n",
        "qc.draw()"
      ]
    },
    {
      "cell_type": "markdown",
      "metadata": {
      },
      "source": [
        "## La Compuerta CNOT\n",
        "\n",
        "Veamos el efecto de retroceso de fase con una compuerta diferente de dos qubits. Dado que el estado $|{-}\\rangle$ es un estado propio de la compuerta X, con valor propio $-1$, obtenemos:\n",
        "\n",
        "$$ \\class{_matrix-CX}{CX}\\class{_eig-vec-X}{|{-}\\rangle}\\class{_control-qubit-pre}{(\\alpha|0\\rangle + \\beta|1\\rangle)} = \\class{_eig-vec-X}{|{-}\\rangle}\\class{_control-qubit-post}{(\\alpha|0\\rangle - \\beta |1\\rangle)} $$\n",
        "\n",
        "![](images/kickback/cnot-kickback.svg)\n",
        "\n",
        "Nuevamente, en este caso el cambio de fase es $\\theta = 0.5$, por lo que nuestro qubit de control se voltea alrededor del eje Z.\n",
        "\n",
        "<!-- ::: q-block -->\n",
        "\n",
        "### Ejemplo resuelto\n",
        "\n",
        "<details>\n",
        "    <summary>Retroceso con la compuerta CNOT (haz clic para expander)</summary>\n",
        "\n",
        "    q-carousel\n",
        "        div.md\n",
        "            <img src=\"images/kickback/carousel/cnot/carousel-img-0.svg\"><br>Por definición, la compuerta X controlada (CNOT) cambia el estado del qubit objetivo (en nuestro ejemplo, el bit más a la derecha es el objetivo) si el qubit de control es $|1\\rangle$. En la imagen de arriba, mostramos la compuerta CNOT transformando un vector de estado a otro.\n",
        "        div.md\n",
        "            <img src=\"images/kickback/carousel/cnot/carousel-img-1.svg\"><br>Por ejemplo, si el qubit de control está en el estado $|0\\rangle$, siempre obtenemos exactamente el mismo vector de estado. En la imagen de arriba, las amplitudes de los estados donde el control es $|1\\rangle$ son cero, por lo que no vemos ningún efecto cuando los intercambiamos.\n",
        "        div.md\n",
        "            <img src=\"images/kickback/carousel/cnot/carousel-img-2.svg\"><br>Otro ejemplo: si el qubit de control está en el estado $|1\\rangle$, entonces usamos una compuerta X en el qubit objetivo. En este caso, el qubit objetivo está en un estado propio de la compuerta X, por lo que obtenemos el mismo vector de estado, hasta la fase global. Este cambio es una fase global, ya que la fase relativa entre las amplitudes $|0\\rangle$ y $|1\\rangle$ del qubit objetivo permaneció igual.\n",
        "        div.md\n",
        "            <img src=\"images/kickback/carousel/cnot/carousel-img-3.svg\"><br>Veamos el vector de estado cuando el control está en el estado $|{+}\\rangle$ (es decir, $\\tfrac{1}{\\sqrt{2}}(|0\\rangle + |1\\rangle)$), y el objetivo en el estado $|{-}\\rangle$ (es decir, $\\tfrac{1}{\\sqrt{2}}(|0\\rangle - |1\\rangle)$). Podemos ver que estos dos qubits son separables, ya que medir uno no afecta el estado del otro.\n",
        "        div.md\n",
        "            <img src=\"images/kickback/carousel/cnot/carousel-img-4.svg\"><br> Por ejemplo, independientemente de si medimos el qubit de control como $|0\\rangle$ o $|1\\rangle$, las amplitudes para medir el objetivo como $|0\\rangle$ o $|1\\rangle$ permanecen iguales.\n",
        "        div.md\n",
        "            <img src=\"images/kickback/carousel/cnot/carousel-img-5.svg\"><br>Con todo esto en mente, veamos qué sucede cuando aplicamos el CNOT a este estado $|{+}{-}\\rangle$.\n",
        "        div.md\n",
        "            <img src=\"images/kickback/carousel/cnot/carousel-img-6.svg\"><br>Después del CNOT, estos qubits siguen siendo separables, ya que el estado de uno no cambia cuando medimos el otro. Sin embargo, la fase relativa entre las amplitudes $|0\\rangle$ y $|1\\rangle$ del qubit de control ha cambiado.\n",
        "    \n",
        "</details>\n",
        "\n",
        "<!-- ::: -->\n",
        "\n",
        "Cuando recordamos que la compuerta H hace la transformación $|0\\rangle \\rightarrow |{+}\\rangle$ y $|1\\rangle \\rightarrow |{-}\\rangle$ (y viceversa), obtenemos lo siguiente identidad:\n",
        "\n",
        "![](images/kickback/cnot-identity.svg)"
      ]
    },
    {
      "cell_type": "markdown",
      "metadata": {
      },
      "source": [
        "## El problema de Deutsch\n",
        "\n",
        "Acabamos de ver que condicionar una acción en el estado de un qubit en realidad puede cambiar el estado del qubit de control. Este es un efecto 'cuántico', es decir, algo que no vemos que suceda con los bits clásicos.\n",
        "\n",
        "En la computación cuántica, queremos crear algoritmos que las computadoras clásicas *no puedan* ejecutar, por lo que un buen lugar para comenzar es tratar de replantear este efecto como un problema a resolver. De esta manera, podemos probar que las computadoras cuánticas son al menos un poco mejores en algo que las computadoras clásicas.\n",
        "\n",
        "El problema de Deutsch hace exactamente esto. Este es un problema de 'caja negra'; un problema artificial en el que se nos permite aplicar una función a nuestros bits, pero no podemos ver cómo opera la función. El desafío es descubrir algunas propiedades de la caja probando diferentes entradas y salidas.\n",
        "\n",
        "El problema de Deutsch es el siguiente: tenemos una función reversible clásica (a la que llamaremos $f$ de forma abreviada), que actúa sobre dos bits, $ a $ y $ b $. La función dejará el bit $ a $ solo, pero puede o no cambiar el bit $ b $. El problema de Deutsch nos pide que averigüemos si $f$ se comporta de manera diferente dependiendo del valor de $ a $ (lo llamaremos comportamiento \"balanceado\"), o si ignora a $ a $ y siempre hace lo mismo con $ b $ (comportamiento \"constante\"). El desafío es hacer esto aplicando $f$ la menor cantidad de veces posible.\n",
        "\n",
        "![Imagen del problema de Deutsch como un circuito cuántico. El circuito tiene dos bits, los cables superior e inferior etiquetados como 'a' y 'b' respectivamente. Luego, ambos bits son activados por una compuerta opaca de dos bits etiquetada como 'f'. Después de 'f', el qubit superior todavía tiene la etiqueta 'f', pero el qubit inferior ahora tiene la etiqueta 'f (a, b)'.](images/kickback/deutsch-problem.svg)\n",
        "\n",
        "El mejor algoritmo clásico para este problema aplica $f$ dos veces con diferentes valores de $ a $, luego observa si $f$ se comportó de manera diferente."
      ]
    },
    {
      "cell_type": "markdown",
      "metadata": {
      },
      "source": [
        "## Algoritmo de Deutsch\n",
        "\n",
        "Como habrás adivinado, podemos usar el retroceso de fase (phase kickback) para crear un algoritmo cuántico que funciona incluso mejor que el algoritmo clásico. Si ponemos el qubit $ a $ en el estado $|{+}\\rangle$ y el qubit $ b $ en el estado $|{-}\\rangle$, entonces cualquier cambio condicionado a $ a $ devolverá una fase negativa relativa, volteando al qubit $ a $ de $|{+}\\rangle$ a $|{-}\\rangle$. Luego podemos aplicar una compuerta H a $ a $ para ver si se produjo un retroceso de fase o no.\n",
        "\n",
        "![Imagen del algoritmo de Deutsch como circuito cuántico.](images/kickback/deutsch-algorithm.svg)\n",
        "\n",
        "<!-- ::: q-block.reminder -->\n",
        "\n",
        "### Más información\n",
        "\n",
        "<details><summary>Dentro de la caja negra (haz clic para ampliar)</summary> Si esto todavía parece mágico, puede ayudar pensar en todas las posibles funciones de Deutsch y los circuitos cuánticos que las implementan. Hay cuatro posibles funciones de Deutsch: dos constantes y dos balanceadas.</details>\n",
        "\n",
        "Si es constante, la función puede no hacer nada o voltear el qubit $ b $. Si está balanceada, la función puede voltear a $ b $ solo cuando $ a $ es $|1\\rangle$, o voltear a $ b $ solo cuando $ a $ es $|0\\rangle$. Puedes ver los cuatro escenarios en la imagen a continuación.\n",
        "\n",
        "<img src=\"images/kickback/deutsch-oracles.svg\">\n",
        "\n",
        "Con ambas funciones constantes, el qubit superior permanecerá sin cambios (ya que no le estamos haciendo nada), y con las funciones equilibradas, el efecto de retroceso cambia el qubit superior de $|{+}\\rangle$ a $|{- }\\rangle$.\n",
        "\n",
        "\n",
        "\n",
        "\n",
        "<!-- ::: -->\n",
        "\n",
        "Este no es el ejemplo más impresionante de aceleración cuántica; es muy específico y no encontramos problemas de caja negra en la naturaleza. En cambio, el problema de Deutsch nos da un resultado alentador y algunos efectos interesantes para ser explorados. En el resto de este curso, ampliaremos este sencillo experimento para resolver problemas aún más impresionantes, incluida la factorización."
      ]
    },
    {
      "cell_type": "markdown",
      "metadata": {
      },
      "source": [
        "<!-- ::: q-block.exercise -->\n",
        "\n",
        "### Ejercicio\n",
        "\n",
        "Haz una función, `deutsch()` que tome una función Deutsch como `QuantumCircuit` y use el algoritmo Deutsch para resolverlo en un simulador cuántico. Tu función debe devolver `True` si la función Deutsch está balanceada y `False` si es constante.\n",
        "\n",
        "Puedes usar la función `deutsch_problem()` para crear un `QuantumCircuit` que puedes usar como entrada para tu función `deutsch()`.\n",
        "\n",
        "<!-- ::: -->"
      ]
    },
    {
      "cell_type": "code",
      "execution_count": null,
      "metadata": {
      },
      "outputs": [

      ],
      "source": [
        "from qiskit import QuantumCircuit\n",
        "import numpy as np\n",
        "\n",
        "def deutsch_problem(seed=None):\n",
        "    \"\"\"Devuelve un circuito que realiza la función del \n",
        "    problema de Deutsch.\n",
        "    Args:\n",
        "        seed (int): Si se establece, el circuito devuelto \n",
        "            siempre será el mismo para la misma semilla.\n",
        "    Returns: QuantumCircuit\n",
        "    \"\"\"\n",
        "    np.random.seed(seed)\n",
        "    problem = QuantumCircuit(2)\n",
        "    if np.random.randint(2):\n",
        "        print(\"La función es balanceada.\")\n",
        "        problem.cx(0, 1)\n",
        "    else:\n",
        "        print(\"La función es constante.\")\n",
        "    if np.random.randint(2):\n",
        "        problem.x(1)\n",
        "    return problem"
      ]
    },
    {
      "cell_type": "code",
      "execution_count": null,
      "metadata": {
      },
      "outputs": [

      ],
      "source": [
        "def deutsch(function):\n",
        "    \"\"\"Implementa el algoritmo de Deutsch.\n",
        "\n",
        "    Args:\n",
        "        function (QuantumCircuit): Función Deutsch a ser resuelta.\n",
        "            Debe ser un circuito de 2 qubits ya sea balanceado\n",
        "            o constante.\n",
        "    Returns:\n",
        "        bool: True si el circuito está balanceado, \n",
        "            de lo contrario False.\n",
        "    \"\"\"\n",
        "\n",
        "    # tu código aquí"
      ]
    },
    {
      "cell_type": "markdown",
      "metadata": {
      },
      "source": [
        "## Resumen\n",
        "\n",
        "En esta página revisamos:\n",
        "\n",
        "- recapitulación del concepto de valores y vectores propios\n",
        "- exploración del efecto de retroceso de fase (phase kickback) y revisión de algunos ejemplos específicos\n",
        "- se introdujo el problema de Deutsch como un escenario donde las computadoras cuánticas tienen una ventaja sobre las computadoras clásicas\n",
        "\n",
        "Si olvidas todo lo demás de esta página, lo más importante que debes recordar y sentirte cómodo es este resumen de retroceso de fase a continuación:\n",
        "\n",
        "<!-- ::: q-block.reminder -->\n",
        "\n",
        "### Recordatorio: Retroceso de fase (Phase kickback)\n",
        "\n",
        "Si tenemos una compuerta cuántica $U$ y su estado propio $|x\\rangle$, entonces $U$ actuando sobre $|x\\rangle$ agregará una fase global $\\theta$. Es decir:\n",
        "\n",
        "$$ \\class{_matrix-U}{U}\\class{_eig-vec-U}{|x\\rangle} = \\class{_eig-val-U}{e^{2\\pi i \\theta}}\\class{_eig-vec-U}{|x\\rangle} $$\n",
        "\n",
        "Si controlamos la operación $U|x\\rangle$ por otro qubit en una superposición de $|0\\rangle$ y $|1\\rangle$, entonces esto tendrá el efecto de rotar el qubit de control alrededor del eje Z por un ángulo $\\theta$. Es decir:\n",
        "\n",
        "$$ \\class{_matrix-CU}{CU}\\class{_eig-vec-U}{|x\\rangle}\\class{_control-qubit-pre}{(\\alpha|0\\rangle + \\beta|1\\rangle)} = \\class{_eig-vec-U}{|x\\rangle}\\class{_control-qubit-post}{(\\alpha|0\\rangle + \\beta e^{2\\pi i \\theta}|1\\rangle)} $$\n",
        "\n",
        "<!-- ::: -->"
      ]
    }
  ],
  "metadata": {
    "kernelspec": {
      "display_name": "Python 3",
      "language": "python",
      "name": "python3"
    },
    "language_info": {
      "codemirror_mode": {
        "name": "ipython",
        "version": 3
      },
      "file_extension": ".py",
      "mimetype": "text/x-python",
      "name": "python",
      "nbconvert_exporter": "python",
      "pygments_lexer": "ipython3",
      "version": "3.9"
    }
  },
  "nbformat": 4,
  "nbformat_minor": 4
}
