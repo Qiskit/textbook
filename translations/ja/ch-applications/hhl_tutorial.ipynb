{
 "cells": [
  {
   "cell_type": "markdown",
   "metadata": {
    "tags": [
     "remove_cell"
    ]
   },
   "source": [
    "# HHL を利用して線形方程式系を解きQiskit で実装する"
   ]
  },
  {
   "cell_type": "markdown",
   "metadata": {},
   "source": [
    "このチュートリアルでは、HHL アルゴリズムを紹介したあと量子回路を導出し、Qiskit を利用して実装します。HHL をどのようにシミュレーターと５量子ビットデバイスで実行するかも示します。\n",
    "\n",
    "## 目次\n",
    "1. [はじめに](#introduction)\n",
    "2. [HHLアルゴリズム](#hhlalg)\n",
    "    1. [いくつかの数学的背景](#mathbackground)\n",
    "    2. [HHL アルゴリムの説明](#hhldescription)\n",
    "    3. [HHLでの量子位相推定(QPE) について](#qpe)\n",
    "    4. [正確でない QPE の場合](#qpe2)\n",
    "3. [例: 4量子ビット HHL](#example1)\n",
    "4. [Qiskit実装](#implementation)\n",
    "    1. [HHL をシミュレーターで実行する: 一般的な方法](#implementationsim)\n",
    "    2. [HHL を実量子デバイスで実行する：最適化例](#implementationdev)\n",
    "5. [演習](#problems)\n",
    "6. [参考文献](#references)"
   ]
  },
  {
   "cell_type": "markdown",
   "metadata": {},
   "source": [
    "## 1. はじめに <a id='introduction'></a>\n",
    "\n",
    "線形方程式系は様々な分野で、多くの実世界アプリケーションとして自然に現れます。例えば、偏微分方程式の解、金融モデルの校正（キャリブレーション)、流体シミュレーション、あるいは数値場計算などです。問題は次のように定義できます：行列　\n",
    "$A\\in\\mathbb{C}^{N\\times N}$ とベクトル $\\vec{b}\\in\\mathbb{C}^{N}$ が与えられている時、 $A\\vec{x}=\\vec{b}　$　を満足する $\\vec{x}\\in\\mathbb{C}^{N} $ を求める。\n",
    "\n",
    "$N=2$ の場合に以下の例を見てみましょう。\n",
    "\n",
    "$$A = \\begin{pmatrix}1 & -1/3\\\\-1/3 & 1 \\end{pmatrix},\\quad \\vec{x}=\\begin{pmatrix} x_{1}\\\\ x_{2}\\end{pmatrix}\\quad , \\quad \\vec{b}=\\begin{pmatrix}1 \\\\ 0\\end{pmatrix}.$$\n",
    "\n",
    "この問題は以下のように $x_{1}, x_{2}\\in\\mathbb{C}$ を見つけるというものに書き換えることもできます。\n",
    "\n",
    "$$\\begin{cases}x_{1} - \\frac{x_{2}}{3} = 1 \\\\ -\\frac{x_{1}}{3} + x_{2} = 0\\end{cases}. $$\n",
    "\n",
    "線形方程式系は$A$の行もしくは列に高々$s$個の非ゼロ成分を持つ時に、$s$-sparse (スパース、疎行列)と呼ばれます。$N$ サイズの $s$-sparse系を古典コンピューターで解くには、共役勾配法(conjugate gradient method) を用いても $\\mathcal{ O }(Ns\\kappa\\log(1/\\epsilon))$ の実行時間が必要です <sup>[1](#conjgrad)</sup>。ここで、$\\kappa$ はシステムの条件数、$\\epsilon$ は近似の正確度です。\n",
    "\n",
    "HHLは、データのローディングを実施する効果的なオラクル(Oracle)が存在し、ハミルトニアン シミュレーションと解の関数の計算が可能であるという仮定のもとで、$A$ がエルミート行列である時、複雑な式 $\\mathcal{ O }(\\log(N)s^{2}\\kappa^{2}/\\epsilon)$<sup>[2](#hhl)</sup> に比例した時間で解の関数を推測するという量子アルゴリズムです。これはシステムのサイズに対して指数関数的スピードアップです。ただし、非常に重要な注意点があり、古典アルゴリズムが完全解を返すのに対して、HHL は解となるベクトルを与える関数を近似するだけです。"
   ]
  },
  {
   "cell_type": "markdown",
   "metadata": {},
   "source": [
    "## 2. HHLアルゴリズム<a id='hhlalg'></a>\n",
    "\n",
    "### A. いくつかの数学的背景<a id='mathbackground'></a>\n",
    "量子コンピューターを利用して線形方程式系を解く最初のステップは、問題を量子の言葉に落とし込むことです。系を再スケールすることで、$\\vec{b}$ と $\\vec{x}$ は正規化できると仮定でき、それぞれ量子状態 $|b\\rangle$ と $|x\\rangle$ にマップできます。通常、利用されるマッピングは次のようなものです。すなわち、$\\vec{b}$ (resp. $\\vec{x}$) の $i$ 番目の成分は、量子状態 $|b\\rangle$ (resp. $|x\\rangle$) の $i$番目の基底状態の振幅に対応するというものです。ここからは、再スケールされた問題にフォーカスします。\n",
    "\n",
    "$$ A|x\\rangle=|b\\rangle.$$\n",
    "\n",
    "$A$ はエルミートなので、スペクトル分解を持ちます。\n",
    "\n",
    "$$\n",
    "A=\\sum_{j=0}^{N-1}\\lambda_{j}|u_{j}\\rangle\\langle u_{j}|,\\quad \\lambda_{j}\\in\\mathbb{ R },\n",
    "$$\n",
    "\n",
    "ここで、$|u_{j}\\rangle$ は $A$ の $j$ 番目の固有ベクトルで、固有値 はそれぞれ $\\lambda_{j}$ です。次に、逆行列です。\n",
    "\n",
    "$$\n",
    "A^{-1}=\\sum_{j=0}^{N-1}\\lambda_{j}^{-1}|u_{j}\\rangle\\langle u_{j}|,\n",
    "$$\n",
    "\n",
    "系の右側は $A$ の固有基底を用いて次のように書けます。\n",
    "$$\n",
    "|b\\rangle=\\sum_{j=0}^{N-1}b_{j}|u_{j}\\rangle,\\quad b_{j}\\in\\mathbb{ C }.\n",
    "$$\n",
    "\n",
    "HHLの目的は、次の状態でレジスターを読み込むことでアルゴリズムを終了させることを銘記してください。\n",
    "$$\n",
    "|x\\rangle=A^{-1}|b\\rangle=\\sum_{j=0}^{N-1}\\lambda_{j}^{-1}b_{j}|u_{j}\\rangle.\n",
    "$$\n",
    "量子状態について話しているので、既に暗黙的な規格化定数が入っていることに着目してください。\n"
   ]
  },
  {
   "cell_type": "markdown",
   "metadata": {},
   "source": [
    "### B. HHL アルゴリムの説明 <a id='hhldescription'></a>\n",
    "\n",
    "アルゴリズムは３つの量子レジスターを利用し、アルゴリズムの開始時点ではすべて $|0\\rangle $ にセットされます。一つのレジスター(ここでは $n_{l}$ とサブインデックスで示します)は $A$ の固有値のバイナリー表現の保管に利用されます。２つ目のレジスター、$n_{b}$はベクトル解が保管されます。ここからは $N=2^{n_{b}}$ とします。補助量子ビットとして追加のレジスターがあります。追加レジスターは、個々の計算の中間段階で利用されますが、各計算の最初に $|0\\rangle $ にセットされ、個々の操作の最後には、$|0\\rangle $ 状態に戻されるため、以下の説明では省略しています。\n",
    "\n",
    "以下の手順で対応する回路のハイレベルな図形で HHL アルゴリズムのアウトラインを説明します。簡単のため、引き続く説明ではすべての計算が正確であると仮定し、正確でない場合の詳細なセクション [2.D.](#qpe2) で説明します。\n",
    "\n",
    "<img src=\"images/hhlcircuit.png\" width = \"75%\" height = \"75%\">\n",
    "\n",
    "1. データ $|b\\rangle\\in\\mathbb{ C }^{N}$ のロード。すなわち、以下の変換を実行します。\n",
    "\n",
    "$$\n",
    "|0\\rangle _{n_{b}} \\mapsto |b\\rangle _{n_{b}}. \n",
    "$$\n",
    "    \n",
    "2. 量子位相推定(Quantum Phase Estimation - QPE) を適用します。\n",
    "\n",
    "$$ \n",
    "U = e ^ { i A t } := \\sum _{j=0}^{N-1}e ^ { i \\lambda _ { j } t } |u_{j}\\rangle\\langle u_{j}|.\n",
    "$$\n",
    "    \n",
    "$A$ の固有基底で表現されるレジスターの量子状態は次のようになります。\n",
    "\n",
    "$$\\sum_{j=0}^{N-1} b _ { j } |\\lambda _ {j }\\rangle_{n_{l}} |u_{j}\\rangle_{n_{b}},$$\n",
    "\n",
    "ここで、 $|\\lambda _ {j }\\rangle_{n_{l}}$ は $\\lambda _ {j }$ の $n_{l}$ ビットバイナリー表現です。\n",
    "    \n",
    "3.  補助量子ビットを追加し、 $|\\lambda_{ j }\\rangle$ の条件に応じて回転を適用します。\n",
    "\n",
    "$$\\sum_{j=0}^{N-1} b _ { j } |\\lambda _ { j }\\rangle_{n_{l}}|u_{j}\\rangle_{n_{b}} \\left( \\sqrt { 1 - \\frac { C^{2}  } { \\lambda _ { j } ^ { 2 } } } |0\\rangle + \\frac { C } { \\lambda _ { j } } |1\\rangle \\right)$$\n",
    "\n",
    "    \n",
    "$C$ は規格化定数です。\n",
    "\n",
    "        \n",
    "4.  QPE$^{\\dagger}$ を適用します。QPE で発生しうるエラーを無視すると、次の結果になります。\n",
    "\n",
    "$$\\sum_{j=0}^{N-1} b _ { j } |0\\rangle_{n_{l}}|u_{j}\\rangle_{n_{b}} \\left( \\sqrt { 1 - \\frac {C^{2}  } { \\lambda _ { j } ^ { 2 } } } |0\\rangle + \\frac { C } { \\lambda _ { j } } |1\\rangle \\right).$$\n",
    "    \n",
    "5. 計算基底にて補助量子ビットを測定します。結果が $1$ の場合、測定後のレジスターの状態は次のようになります。\n",
    "\n",
    "$$\\left( \\sqrt { \\frac { 1 } { \\sum_{j=0}^{N-1} \\left| b _ { j } \\right| ^ { 2 } / \\left| \\lambda _ { j } \\right| ^ { 2 } } } \\right) \\sum _{j=0}^{N-1} \\frac{b _ { j }}{\\lambda _ { j }} |0\\rangle_{n_{l}}|u_{j}\\rangle_{n_{b}},$$\n",
    "    \n",
    "規格化定数を除き、解になっています。\n",
    "\n",
    "6. オブザーバブル $M$ を適用し、$F(x):=\\langle x|M|x\\rangle$ を計算します。\n",
    "    \n",
    "### C. HHLでの量子位相推定(QPE) について <a id='qpe'></a>\n",
    "\n",
    "量子位相推定については第３章でより詳しく説明がされていますが、HHLアルゴリズムではこの量子処理が要になっているので、ここで定義を再確認したいと思います。大雑把にいうと、固有ベクトリ $|\\psi\\rangle_{m}$ と 固有値 $e^{2\\pi i\\theta}$ をもつユニタリー $U$ が与えられた場合に  $\\theta$ を求めるという量子アルゴリズムです。次のように正確に定義できます。\n",
    "\n",
    "**定義:** $U\\in\\mathbb{ C }^{2^{m}\\times 2^{m}}$ がユニタリーであり、$|\\psi\\rangle_{m}\\in\\mathbb{ C }^{2^{m}}$ がそれぞれ固有値 $e^{2\\pi i\\theta}$ を持つ固有ベクトルである時、**量子位相推定(Quantum Phase Estimation)** (省略して **QPE**) アルゴリズムは、$U$ に対応するユニタリーゲートと状態 $|0\\rangle_{n}|\\psi\\rangle_{m}$ を入力として、状態 $|\\tilde{\\theta}\\rangle_{n}|\\psi\\rangle_{m}$ を返すアルゴリズムです。\n",
    "\n",
    "$\\tilde{\\theta}$ は $2^{n}\\theta$ に対するバイナリー近似を示しており、$n$ の添え文字は $n$ ディジットに切り捨てられていることを示しています。\n",
    "$$\n",
    "\\operatorname { QPE } ( U , |0\\rangle_{n}|\\psi\\rangle_{m} ) = |\\tilde{\\theta}\\rangle_{n}|\\psi\\rangle_{m}.\n",
    "$$\n",
    "\n",
    "HHLでは QPE を $U = e ^ { i A t }$ に対して適用しています。ここで $A$ は行列で解きたい系に関係しています。この場合、\n",
    "$$\n",
    "e ^ { i A t } = \\sum_{j=0}^{N-1}e^{i\\lambda_{j}t}|u_{j}\\rangle\\langle u_{j}|.\n",
    "$$\n",
    "です。さらに、固有値 $e ^ { i \\lambda _ { j } t }$ をもつ固有ベクトル $|u_{j}\\rangle_{n_{b}}$ に対しては QPE は $|\\tilde{\\lambda }_ { j }\\rangle_{n_{l}}|u_{j}\\rangle_{n_{b}}$ を出力します。$\\tilde{\\lambda }_ { j }$ は、$2^{n_l}\\frac{\\lambda_ { j }t}{2\\pi}$ に対する $n_{l}$-bit バイナリー近似です。従って、仮にそれぞれの $\\lambda_{j}$ が $n_{l}$ビットで正確に記述できる場合には、\n",
    "$$\n",
    "\\operatorname { QPE } ( e ^ { i A 2\\pi } , \\sum_{j=0}^{N-1}b_{j}|0\\rangle_{n_{l}}|u_{j}\\rangle_{n_{b}} ) = \\sum_{j=0}^{N-1}b_{j}|\\lambda_{j}\\rangle_{n_{l}}|u_{j}\\rangle_{n_{b}}.\n",
    "$$\n",
    "となります。\n",
    "\n",
    "### D. 正確でない QPE の場合<a id='qpe2'></a>\n",
    "\n",
    "現実には、QPE を初期状態に適用したあとのレジスターの量子状態は、\n",
    "$$\n",
    "\\sum _ { j=0 }^{N-1} b _ { j } \\left( \\sum _ { l = 0 } ^ { 2 ^ { n_{l} } - 1 } \\alpha _ { l | j } |l\\rangle_{n_{l}} \\right)|u_{j}\\rangle_{n_{b}},\n",
    "$$\n",
    "です。ここで、\n",
    "$$\n",
    "\\alpha _ { l | j } = \\frac { 1 } { 2 ^ { n_{l} } } \\sum _ { k = 0 } ^ { 2^{n_{l}}- 1 } \\left( e ^ { 2 \\pi i \\left( \\frac { \\lambda _ { j } t } { 2 \\pi } - \\frac { l } { 2 ^ { n_{l} } } \\right) } \\right) ^ { k }.\n",
    "$$\n",
    "\n",
    "$\\tilde{\\lambda_{j}}$ で表すのは、 $\\lambda_{j}$, $1\\leq j\\leq N$ に対する ベストな $n_{l}$ビット近似です。次に、$n_{l}$-レジスターを再ラベルし、$\\alpha _ { l | j }$ が $|l + \\tilde { \\lambda } _ { j } \\rangle_{n_{l}}$ の振幅を表すようにします。そうすると、以下のように変形できます。\n",
    "$$\n",
    "\\alpha _ { l | j } : = \\frac { 1 } { 2 ^ { n_{l}} } \\sum _ { k = 0 } ^ { 2 ^ { n_{l} } - 1 } \\left( e ^ { 2 \\pi i \\left( \\frac { \\lambda _ { j } t } { 2 \\pi } - \\frac { l + \\tilde { \\lambda } _ { j } } { 2 ^ { n_{l} } } \\right) } \\right) ^ { k }.\n",
    "$$\n",
    "各 $\\frac { \\lambda _ { j } t } { 2 \\pi }$ が $n_{l}$ バイナリービットで正確に表現できる場合には、$\\frac { \\lambda _ { j } t } { 2 \\pi }=\\frac { \\tilde { \\lambda } _ { j } } { 2 ^ { n_{l} } }$  $\\forall j$  となります。従って、 $\\forall j$ , $1\\leq j \\leq N$　の場合は、 $\\alpha _ { 0 | j } = 1$ と $\\alpha _ { l | j } = 0 \\quad \\forall l \\neq 0$ を保持します。この場合のみ、QPE を適用した後のレジスターの状態を次のように書けます。\n",
    "$$\n",
    "\t\\sum_{j=0}^{N-1} b _ { j } |\\lambda _ {j }\\rangle_{n_{l}} |u_{j}\\rangle_{n_{b}}.\n",
    "$$\n",
    "それ以外の場合は、 $|\\alpha _ { l | j }|$ は $\\frac { \\lambda _ { j } t } { 2 \\pi } \\approx \\frac { l + \\tilde { \\lambda } _ { j } } { 2 ^ { n_{l} } }$ の場合のみ大きく、レジスターの状態は次のようになります。\n",
    "$$\n",
    "\\sum _ { j=0 }^{N-1}  \\sum _ { l = 0 } ^ { 2 ^ { n_{l} } - 1 } \\alpha _ { l | j } b _ { j }|l\\rangle_{n_{l}} |u_{j}\\rangle_{n_{b}}.\n",
    "$$"
   ]
  },
  {
   "cell_type": "markdown",
   "metadata": {},
   "source": [
    "## 3. 例: 4量子ビット HHL<a id='example1'></a>\n",
    "\n",
    "はじめにのセクションで紹介した小さな例をとってアルゴリズムを説明しましょう。こうでした。\n",
    "$$A = \\begin{pmatrix}1 & -1/3\\\\-1/3 & 1 \\end{pmatrix}\\quad , \\quad |b\\rangle=\\begin{pmatrix}1 \\\\ 0\\end{pmatrix}.$$\n",
    "\n",
    "$|b\\rangle$ には $n_{b}=1$ 量子ビットを利用し、解 $|x\\rangle$ には、$n_{l}=2$ 量子ビットを固有値のバイナリー表現を利用し、$1$ 補助量子ビットを制御回転に利用します。このようにするとアルゴリズムが成功します。\n",
    "\n",
    "アルゴリズムの例示のため、少しごまかして $A$ の固有値を計算して、$n_{l}$-レジスターの再スケールされた固有値の正確なバイナリー表現を得るために、 $t$ を選択できるようにします。なお、HHL アルゴリズムの実装には固有値の事前知識は必要ないことは心に留めてください。とは言ったものの、簡単に計算すると、\n",
    "$$\\lambda_{1} = 2/3\\quad , \\quad\\lambda_{2}=4/3.$$\n",
    "が得られます。\n",
    "\n",
    "前のセクションを思い出すと、 QPE は $\\frac{\\lambda_ { j }t}{2\\pi}$ に対する $n_{l}$ビット (この例では $2$ビット) バイナリー近似を出力するものでした。従って、 \n",
    "$$t=2\\pi\\cdot \\frac{3}{8},$$\n",
    "を設定すると、QPE は\n",
    "$$\\frac{\\lambda_ { 1 }t}{2\\pi} = 1/4\\quad , \\quad\\frac{\\lambda_ { 2 }t}{2\\pi}=1/2,$$\n",
    "への$2$ビットバイナリー近似を与えます。これらはそれぞれ、\n",
    "$$|01\\rangle_{n_{l}}\\quad , \\quad|10\\rangle_{n_{l}}.$$\n",
    "に対応します。\n",
    "\n",
    "固有ベクトルはそれぞれ、\n",
    "$$|u_{1}\\rangle=\\begin{pmatrix}1 \\\\ -1\\end{pmatrix}\\quad , \\quad|u_{2}\\rangle=\\begin{pmatrix}1 \\\\ 1\\end{pmatrix}.$$\n",
    "再度、HHL の実装には固有ベクトルの計算は必要ないことを心に銘記してください。事実、$N$ 次元の一般的なエルミート行列 $A$ は $N$ 個の異なる固有値を持つことがあり、従って計算には $\\mathcal{O}(N)$ 時間かかるので、量子アドバンテージが失われてしまいます。\n",
    "\n",
    "次に、$A$ の固有基底で $|b\\rangle$ が次のように書けます。\n",
    "$$|b\\rangle _{n_{b}}=\\sum_{j=0}^{N-1}\\frac{1}{\\sqrt{2}}|u_{j}\\rangle _{n_{b}}.$$\n",
    "\n",
    "ここで、HHL アルゴリズムを適用する準備が整いましたので、ひとつひとつ見ていきます。\n",
    "\n",
    "1. この例における初期状態準備は簡単です。 $|b\\rangle=|0\\rangle$。\n",
    "2. QPE を適用します。\n",
    "$$\n",
    "\\frac{1}{\\sqrt{2}}|01\\rangle|u_{1}\\rangle + \\frac{1}{\\sqrt{2}}|10\\rangle|u_{2}\\rangle.\n",
    "$$\n",
    "3. 固有値を再スケールした結果を補うため $C=3/8$ で制御回転させます。\n",
    "$$\\frac{1}{\\sqrt{2}}|01\\rangle|u_{1}\\rangle\\left( \\sqrt { 1 - \\frac { (3/8)^{2}  } {(1/4)^{2} } } |0\\rangle + \\frac { 3/8 } { 1/4 } |1\\rangle \\right) + \\frac{1}{\\sqrt{2}}|10\\rangle|u_{2}\\rangle\\left( \\sqrt { 1 - \\frac { (3/8)^{2}  } {(1/2)^{2} } } |0\\rangle + \\frac { 3/8 } { 1/2 } |1\\rangle \\right)\n",
    "$$\n",
    "$$\n",
    "=\\frac{1}{\\sqrt{2}}|01\\rangle|u_{1}\\rangle\\left( \\sqrt { 1 - \\frac { 9  } {4 } } |0\\rangle + \\frac { 3 } { 2 } |1\\rangle \\right) + \\frac{1}{\\sqrt{2}}|10\\rangle|u_{2}\\rangle\\left( \\sqrt { 1 - \\frac { 9  } {16 } } |0\\rangle + \\frac { 3 } { 4 } |1\\rangle \\right).\n",
    "$$\n",
    "4. QPE$^{\\dagger}$ を量子コンピューターで適用した後は、次の状態になります。\n",
    "$$\n",
    "\\frac{1}{\\sqrt{2}}|00\\rangle|u_{1}\\rangle\\left( \\sqrt { 1 - \\frac { 9  } {4 } } |0\\rangle + \\frac { 3 } { 2 } |1\\rangle \\right) + \\frac{1}{\\sqrt{2}}|00\\rangle|u_{2}\\rangle\\left( \\sqrt { 1 - \\frac { 9  } {16 } } |0\\rangle + \\frac { 3 } { 4 } |1\\rangle \\right).\n",
    "$$\n",
    "5. 補助ビットを計測し、$1$ が出た場合には状態は次のようになります。\n",
    "$$\n",
    "\\frac{\\frac{1}{\\sqrt{2}}|00\\rangle|u_{1}\\rangle\\frac { 3 } { 2 } |1\\rangle + \\frac{1}{\\sqrt{2}}|00\\rangle|u_{2}\\rangle\\frac { 3 } { 4 } |1\\rangle}{\\sqrt{45/32}}.\n",
    "$$\n",
    "簡単に計算すると：\n",
    "$$\n",
    "\\frac{\\frac{3}{2\\sqrt{2}}|u_{1}\\rangle+ \\frac{3}{4\\sqrt{2}}|u_{2}\\rangle}{\\sqrt{45/32}} = \\frac{|x\\rangle}{||x||}.\n",
    "$$\n",
    "6. 追加のゲートを利用しなくても、$|x\\rangle$ のノルムを計算できます、それは前のステップで補助ビットを $1$ で測定する確率になります。\n",
    "$$\n",
    "P[|1\\rangle] = \\left(\\frac{3}{2\\sqrt{2}}\\right)^{2} + \\left(\\frac{3}{4\\sqrt{2}}\\right)^{2} = \\frac{45}{32} = |||x\\rangle||^{2}.\n",
    "$$\n",
    "\n"
   ]
  },
  {
   "cell_type": "markdown",
   "metadata": {},
   "source": [
    "## 4. Qiskit 実装<a id='implementation'></a>"
   ]
  },
  {
   "cell_type": "markdown",
   "metadata": {},
   "source": [
    "例を利用して問題を分析的に解きましたが、HHL を量子シミュレーターと実ハードウェアで実行することを示したいと思います。量子シミュレーターの場合は、Qiskit Aqua に行列$A$ と $|b\\rangle$ を基本入力として要求する HHL アルゴリズム実装が既に提供されています。主なアドバンテージは一般的なエルミート行列と任意の初期状態を入力することができる点です。これが意味することは、このアルゴリズムは一般の目的のために設計されており、特定の問題のための回路の最適化は実施しないということです。そのため、既存の実ハードウェアで実行することが目的の場合には問題が生じます。この章を記述している時点で、既存の量子コンピューターはノイズがあり、小さな回路しか実行できません。そのため、セクション[4.B.](#implementationdev)では、この例が帰属する問題のクラスに利用できる最適化された回路を見ることにし、ノイズのある量子コンピューターに対する既存の処理方法について述べます。"
   ]
  },
  {
   "cell_type": "markdown",
   "metadata": {},
   "source": [
    "## A. HHL をシミュレーターで実行する: 一般的な方法<a id='implementationsim'></a>"
   ]
  },
  {
   "cell_type": "markdown",
   "metadata": {},
   "source": [
    "Qiskit Aqua が提供する HHL アルゴリズムを実行するには、適切なモジュールをインポートし以下のようにパラメータをセットするだけです。いままで見てきた例では、ハミルトニアンシミュレーションの時間を $t=2\\pi\\cdot \\frac{3}{8}$ にセットしましたが、固有値の知識が必要ないことを示すためこのパラメータをセットしないでシミュレーションを実行してみます。それにも関わらず、行列がある構造がある場合には、固有値情報を得て適切な $t$ を選択し HHLが返す解の精度を向上させることができるかも知れません。8の演習で、$t=2\\pi\\cdot \\frac{3}{8}$ をセットし正常に実行されると解のフィデリティーは $1$ になることを確認します。"
   ]
  },
  {
   "cell_type": "code",
   "execution_count": 1,
   "metadata": {},
   "outputs": [],
   "source": [
    "from qiskit import Aer\n",
    "from qiskit.circuit.library import QFT\n",
    "from qiskit.aqua import QuantumInstance, aqua_globals\n",
    "from qiskit.quantum_info import state_fidelity\n",
    "from qiskit.aqua.algorithms import HHL, NumPyLSsolver\n",
    "from qiskit.aqua.components.eigs import EigsQPE\n",
    "from qiskit.aqua.components.reciprocals import LookupRotation\n",
    "from qiskit.aqua.operators import MatrixOperator\n",
    "from qiskit.aqua.components.initial_states import Custom\n",
    "import numpy as np"
   ]
  },
  {
   "cell_type": "code",
   "execution_count": 2,
   "metadata": {},
   "outputs": [],
   "source": [
    "def create_eigs(matrix, num_ancillae, num_time_slices, negative_evals):\n",
    "    ne_qfts = [None, None]\n",
    "    if negative_evals:\n",
    "        num_ancillae += 1\n",
    "        ne_qfts = [QFT(num_ancillae - 1), QFT(num_ancillae - 1).inverse()]\n",
    "\n",
    "    return EigsQPE(MatrixOperator(matrix=matrix),\n",
    "                   QFT(num_ancillae).inverse(),\n",
    "                   num_time_slices=num_time_slices,\n",
    "                   num_ancillae=num_ancillae,\n",
    "                   expansion_mode='suzuki',\n",
    "                   expansion_order=2,\n",
    "                   evo_time=None,  # This is t, can set to: np.pi*3/4\n",
    "                   negative_evals=negative_evals,\n",
    "                   ne_qfts=ne_qfts)"
   ]
  },
  {
   "cell_type": "markdown",
   "metadata": {},
   "source": [
    "次の関数を使って HHL アルゴリズムが返した解のフィデリティーを計算します。\n"
   ]
  },
  {
   "cell_type": "code",
   "execution_count": 3,
   "metadata": {},
   "outputs": [],
   "source": [
    "def fidelity(hhl, ref):\n",
    "    solution_hhl_normed = hhl / np.linalg.norm(hhl)\n",
    "    solution_ref_normed = ref / np.linalg.norm(ref)\n",
    "    fidelity = state_fidelity(solution_hhl_normed, solution_ref_normed)\n",
    "    print(\"Fidelity:\\t\\t %f\" % fidelity)"
   ]
  },
  {
   "cell_type": "code",
   "execution_count": 4,
   "metadata": {},
   "outputs": [],
   "source": [
    "matrix = [[1, -1/3], [-1/3, 1]]\n",
    "vector = [1, 0]"
   ]
  },
  {
   "cell_type": "code",
   "execution_count": 5,
   "metadata": {},
   "outputs": [],
   "source": [
    "orig_size = len(vector)\n",
    "matrix, vector, truncate_powerdim, truncate_hermitian = HHL.matrix_resize(matrix, vector)\n",
    "\n",
    "# Initialize eigenvalue finding module\n",
    "eigs = create_eigs(matrix, 3, 50, False)\n",
    "num_q, num_a = eigs.get_register_sizes()\n",
    "\n",
    "# Initialize initial state module\n",
    "init_state = Custom(num_q, state_vector=vector)\n",
    "\n",
    "# Initialize reciprocal rotation module\n",
    "reci = LookupRotation(negative_evals=eigs._negative_evals, evo_time=eigs._evo_time)\n",
    "\n",
    "algo = HHL(matrix, vector, truncate_powerdim, truncate_hermitian, eigs,\n",
    "           init_state, reci, num_q, num_a, orig_size)\n"
   ]
  },
  {
   "cell_type": "markdown",
   "metadata": {},
   "source": [
    "$t=2\\pi\\cdot \\frac{3}{8}$ を選択した理由は固有値を再スケールさせるためでした。今はこの場合に当てはまらないので、表現は近似になり、QPE は非正確で結果の解も近似になります。"
   ]
  },
  {
   "cell_type": "code",
   "execution_count": 6,
   "metadata": {},
   "outputs": [
    {
     "name": "stdout",
     "output_type": "stream",
     "text": [
      "Solution:\t\t [1.13586-0.j 0.40896+0.j]\n",
      "Classical Solution:\t [1.125 0.375]\n",
      "Probability:\t\t 0.056291\n",
      "Fidelity:\t\t 0.999432\n"
     ]
    }
   ],
   "source": [
    "result = algo.run(QuantumInstance(Aer.get_backend('statevector_simulator')))\n",
    "print(\"Solution:\\t\\t\", np.round(result['solution'], 5))\n",
    "\n",
    "result_ref = NumPyLSsolver(matrix, vector).run()\n",
    "print(\"Classical Solution:\\t\", np.round(result_ref['solution'], 5))\n",
    "\n",
    "print(\"Probability:\\t\\t %f\" % result['probability_result'])\n",
    "fidelity(result['solution'], result_ref['solution'])"
   ]
  },
  {
   "cell_type": "markdown",
   "metadata": {},
   "source": [
    "アルゴリズムは利用したリソースを出力します。depth は単一量子ビットに適用されたゲート数の最大値で、width は利用した量子ビットの数として定義されます。また、CNOT の数も出力してみます。この数をもちいて、実行している回路が現在の実ハードウェアで実行することができるかを判断することができます。"
   ]
  },
  {
   "cell_type": "code",
   "execution_count": 7,
   "metadata": {},
   "outputs": [
    {
     "name": "stdout",
     "output_type": "stream",
     "text": [
      "circuit_width:\t 7\n",
      "circuit_depth:\t 102\n",
      "CNOT gates:\t 54\n"
     ]
    }
   ],
   "source": [
    "print(\"circuit_width:\\t\", result['circuit_info']['width'])\n",
    "print(\"circuit_depth:\\t\", result['circuit_info']['depth'])\n",
    "print(\"CNOT gates:\\t\", result['circuit_info']['operations']['cx'])"
   ]
  },
  {
   "cell_type": "markdown",
   "metadata": {},
   "source": [
    "## B. HHL を実量子デバイスで実行する：最適化例<a id='implementationdev'></a>"
   ]
  },
  {
   "cell_type": "markdown",
   "metadata": {},
   "source": [
    "前のセクションでは Qiskit が提供する標準のアルゴリズムを実行し、$7$ 量子ビットを利用し、depth が $102$ ゲートで、かつ $54$ CNOTゲートを利用しているのを見ました。この数は現在利用可能なハードウェアで実行するには不適切で、量を減らす必要があります。特にゴールは単一量子ゲートに比べフィデリティーが悪化する CNOTの数を $10$ のファクターで減らすことです。さらに量子ビットの数を $4$ にします。これはもともとの問題での数です。Qiskit の方法は一般的な問題のために書かれているため、余分な $3$ 補助量子ビットが追加されました。\n",
    "\n",
    "ところが、単純にゲートや量子ビットの数を減らすだけでは実ハードウェア上の解としてよい近似が出てきません。二つのエラーソースが原因です：実行時に発生するものと読み取りエラーです。\n",
    "\n",
    "Qiskit には、個別に全ての基底状態を準備測定することで読み取りエラーを回避するモジュールが提供されています。このトピックの詳細は  Dewes et al.<sup>[3](#readouterr)</sup> を参照してください。回路の実行時に発生するエラーを取り扱うために、回路を３回実行し、それぞれ CNOTゲートを $1$, $3$, $5$ CNOT で置き換えるという Richardson 外挿を利用します<sup>[4](#richardson)</sup>。\n",
    "\n",
    "理論的には３つの回路は同じ結果をもたらしますが、実ハードウェアでは CNOT を追加するということはエラーを増幅することになるというアイデアに基づきます。得られた結果がエラーが増幅したことによるということを知るので、それぞれの場合でどの程度エラーが増幅したのかを推定できます。これらの量を組み合わせることで、前の詳細な値よりも解析解により近い近似値をだすあたらしい結果を得ることができます。\n",
    "\n",
    "以下はどのようなフォームの問題でも利用できる最適化された回路です。\n",
    "$$A = \\begin{pmatrix}a & b\\\\b & a \\end{pmatrix}\\quad , \\quad |b\\rangle=\\begin{pmatrix}\\cos(\\theta) \\\\ \\sin(\\theta)\\end{pmatrix},\\quad a,b,\\theta\\in\\mathbb{R}.$$\n",
    "\n",
    "以下の最適化は HHL for tridiagonal symmetric matrices<sup>[5](#tridi)</sup> での結果から引用したもので、特に回路は UniversalQCompiler software<sup>[6](#qcompiler)</sup> の助けを借りて導出しました。"
   ]
  },
  {
   "cell_type": "code",
   "execution_count": 8,
   "metadata": {},
   "outputs": [
    {
     "name": "stdout",
     "output_type": "stream",
     "text": [
      "Depth: 26\n",
      "CNOTS: 10\n"
     ]
    },
    {
     "data": {
      "image/svg+xml": [
       "<?xml version=\"1.0\" encoding=\"UTF-8\"?><!DOCTYPE svg  PUBLIC '-//W3C//DTD SVG 1.1//EN'  'http://www.w3.org/Graphics/SVG/1.1/DTD/svg11.dtd'><svg width=\"1574.3pt\" height=\"259.84pt\" version=\"1.1\" viewBox=\"0 0 1574.3 259.84\" xmlns=\"http://www.w3.org/2000/svg\" xmlns:xlink=\"http://www.w3.org/1999/xlink\"><defs><style type=\"text/css\">*{stroke-linecap:butt;stroke-linejoin:round;}</style></defs><path d=\"m0 259.84h1574.3v-259.84h-1574.3z\" fill=\"#ffffff\"/><path d=\"m1374.8 215.02h11.817l-5.9086 10.34z\" clip-path=\"url(#pc6b8689289)\" fill=\"#778899\"/><path d=\"m1420.3 215.02h11.817l-5.9086 10.34z\" clip-path=\"url(#pc6b8689289)\" fill=\"#778899\"/><path d=\"m1465.7 215.02h11.817l-5.9086 10.34z\" clip-path=\"url(#pc6b8689289)\" fill=\"#778899\"/><path d=\"m1511.2 215.02h11.817l-5.9086 10.34z\" clip-path=\"url(#pc6b8689289)\" fill=\"#778899\"/><path d=\"m117.19 43.561h1445.3\" clip-path=\"url(#pc6b8689289)\" fill=\"none\" stroke=\"#000000\" stroke-linecap=\"square\" stroke-width=\"2\"/><path d=\"m117.19 89.012h1445.3\" clip-path=\"url(#pc6b8689289)\" fill=\"none\" stroke=\"#000000\" stroke-linecap=\"square\" stroke-width=\"2\"/><path d=\"m117.19 134.46h1445.3\" clip-path=\"url(#pc6b8689289)\" fill=\"none\" stroke=\"#000000\" stroke-linecap=\"square\" stroke-width=\"2\"/><path d=\"m117.19 179.91h1445.3\" clip-path=\"url(#pc6b8689289)\" fill=\"none\" stroke=\"#000000\" stroke-linecap=\"square\" stroke-width=\"2\"/><path d=\"m117.19 223.89h1445.3\" clip-path=\"url(#pc6b8689289)\" fill=\"none\" stroke=\"#778899\" stroke-linecap=\"square\" stroke-width=\"2\"/><path d=\"m117.19 226.84h1445.3\" clip-path=\"url(#pc6b8689289)\" fill=\"none\" stroke=\"#778899\" stroke-linecap=\"square\" stroke-width=\"2\"/><path d=\"m1326.4 202.64h17.726v-181.8h-17.726z\" clip-path=\"url(#pc6b8689289)\" fill=\"#bdbdbd\" opacity=\".6\"/><path d=\"m335.36 89.012v-45.451\" clip-path=\"url(#pc6b8689289)\" fill=\"none\" stroke=\"#6fa4ff\" stroke-linecap=\"square\" stroke-width=\"2\"/><path d=\"m426.26 89.012v-45.451\" clip-path=\"url(#pc6b8689289)\" fill=\"none\" stroke=\"#6fa4ff\" stroke-linecap=\"square\" stroke-width=\"2\"/><path d=\"m608.06 134.46v-90.902\" clip-path=\"url(#pc6b8689289)\" fill=\"none\" stroke=\"#6fa4ff\" stroke-linecap=\"square\" stroke-width=\"2\"/><path d=\"m698.96 134.46v-90.902\" clip-path=\"url(#pc6b8689289)\" fill=\"none\" stroke=\"#6fa4ff\" stroke-linecap=\"square\" stroke-width=\"2\"/><path d=\"m835.32 134.46v-45.451\" clip-path=\"url(#pc6b8689289)\" fill=\"none\" stroke=\"#6fa4ff\" stroke-linecap=\"square\" stroke-width=\"2\"/><path d=\"m926.22 134.46v-45.451\" clip-path=\"url(#pc6b8689289)\" fill=\"none\" stroke=\"#6fa4ff\" stroke-linecap=\"square\" stroke-width=\"2\"/><path d=\"m971.67 179.91v-45.451\" clip-path=\"url(#pc6b8689289)\" fill=\"none\" stroke=\"#6fa4ff\" stroke-linecap=\"square\" stroke-width=\"2\"/><path d=\"m1062.6 179.91v-90.902\" clip-path=\"url(#pc6b8689289)\" fill=\"none\" stroke=\"#6fa4ff\" stroke-linecap=\"square\" stroke-width=\"2\"/><path d=\"m1153.5 179.91v-45.451\" clip-path=\"url(#pc6b8689289)\" fill=\"none\" stroke=\"#6fa4ff\" stroke-linecap=\"square\" stroke-width=\"2\"/><path d=\"m1244.4 179.91v-90.902\" clip-path=\"url(#pc6b8689289)\" fill=\"none\" stroke=\"#6fa4ff\" stroke-linecap=\"square\" stroke-width=\"2\"/><path d=\"m1382.2 43.561v171.46\" clip-path=\"url(#pc6b8689289)\" fill=\"none\" stroke=\"#778899\" stroke-linecap=\"square\" stroke-width=\"2\"/><path d=\"m1379.3 43.561v171.46\" clip-path=\"url(#pc6b8689289)\" fill=\"none\" stroke=\"#778899\" stroke-linecap=\"square\" stroke-width=\"2\"/><path d=\"m1427.7 89.012v126.01\" clip-path=\"url(#pc6b8689289)\" fill=\"none\" stroke=\"#778899\" stroke-linecap=\"square\" stroke-width=\"2\"/><path d=\"m1424.7 89.012v126.01\" clip-path=\"url(#pc6b8689289)\" fill=\"none\" stroke=\"#778899\" stroke-linecap=\"square\" stroke-width=\"2\"/><path d=\"m1473.1 134.46v80.562\" clip-path=\"url(#pc6b8689289)\" fill=\"none\" stroke=\"#778899\" stroke-linecap=\"square\" stroke-width=\"2\"/><path d=\"m1470.2 134.46v80.562\" clip-path=\"url(#pc6b8689289)\" fill=\"none\" stroke=\"#778899\" stroke-linecap=\"square\" stroke-width=\"2\"/><path d=\"m1518.6 179.91v35.111\" clip-path=\"url(#pc6b8689289)\" fill=\"none\" stroke=\"#778899\" stroke-linecap=\"square\" stroke-width=\"2\"/><path d=\"m1515.6 179.91v35.111\" clip-path=\"url(#pc6b8689289)\" fill=\"none\" stroke=\"#778899\" stroke-linecap=\"square\" stroke-width=\"2\"/><path d=\"m158.1 229.91 4.5451-9.0902\" clip-path=\"url(#pc6b8689289)\" fill=\"none\" stroke=\"#778899\" stroke-linecap=\"square\" stroke-width=\"1.5\"/><path d=\"m138.78 58.332h29.543v-29.543h-29.543z\" clip-path=\"url(#pc6b8689289)\" fill=\"#bb8bff\"/><path d=\"m138.78 103.78h29.543v-29.543h-29.543z\" clip-path=\"url(#pc6b8689289)\" fill=\"#6fa4ff\"/><path d=\"m138.78 149.23h29.543v-29.543h-29.543z\" clip-path=\"url(#pc6b8689289)\" fill=\"#6fa4ff\"/><path d=\"m206.96 103.78h29.543v-29.543h-29.543z\" clip-path=\"url(#pc6b8689289)\" fill=\"#fa74a6\"/><path d=\"m206.96 149.23h29.543v-29.543h-29.543z\" clip-path=\"url(#pc6b8689289)\" fill=\"#fa74a6\"/><path d=\"m175.2 58.332h93.061v-29.543h-93.061z\" clip-path=\"url(#pc6b8689289)\" fill=\"#fa74a6\"/><path d=\"m275.13 58.332h29.543v-29.543h-29.543z\" clip-path=\"url(#pc6b8689289)\" fill=\"#fa74a6\"/><path d=\"m335.36 93.443c1.1752 0 2.3025-0.46693 3.1335-1.2979 0.83102-0.83102 1.2979-1.9583 1.2979-3.1335s-0.46693-2.3025-1.2979-3.1335c-0.83102-0.83102-1.9583-1.2979-3.1335-1.2979s-2.3025 0.46693-3.1335 1.2979c-0.83102 0.83102-1.2979 1.9583-1.2979 3.1335s0.46693 2.3025 1.2979 3.1335c0.83102 0.83102 1.9583 1.2979 3.1335 1.2979z\" clip-path=\"url(#pc6b8689289)\" fill=\"#6fa4ff\" stroke=\"#6fa4ff\" stroke-width=\"1.5\"/><path d=\"m335.36 53.901c2.7422 0 5.3725-1.0895 7.3116-3.0285 1.939-1.939 3.0285-4.5693 3.0285-7.3116s-1.0895-5.3725-3.0285-7.3116c-1.939-1.939-4.5693-3.0285-7.3116-3.0285s-5.3725 1.0895-7.3116 3.0285c-1.939 1.939-3.0285 4.5693-3.0285 7.3116s1.0895 5.3725 3.0285 7.3116c1.939 1.939 4.5693 3.0285 7.3116 3.0285z\" clip-path=\"url(#pc6b8689289)\" fill=\"#6fa4ff\" stroke=\"#6fa4ff\" stroke-width=\"2\"/><path d=\"m366.04 58.332h29.543v-29.543h-29.543z\" clip-path=\"url(#pc6b8689289)\" fill=\"#bb8bff\"/><path d=\"m426.26 93.443c1.1752 0 2.3025-0.46693 3.1335-1.2979 0.83102-0.83102 1.2979-1.9583 1.2979-3.1335s-0.46693-2.3025-1.2979-3.1335c-0.83102-0.83102-1.9583-1.2979-3.1335-1.2979s-2.3025 0.46693-3.1335 1.2979c-0.83102 0.83102-1.2979 1.9583-1.2979 3.1335s0.46693 2.3025 1.2979 3.1335c0.83102 0.83102 1.9583 1.2979 3.1335 1.2979z\" clip-path=\"url(#pc6b8689289)\" fill=\"#6fa4ff\" stroke=\"#6fa4ff\" stroke-width=\"1.5\"/><path d=\"m426.26 53.901c2.7422 0 5.3725-1.0895 7.3116-3.0285 1.939-1.939 3.0285-4.5693 3.0285-7.3116s-1.0895-5.3725-3.0285-7.3116c-1.939-1.939-4.5693-3.0285-7.3116-3.0285s-5.3725 1.0895-7.3116 3.0285c-1.939 1.939-3.0285 4.5693-3.0285 7.3116s1.0895 5.3725 3.0285 7.3116c1.939 1.939 4.5693 3.0285 7.3116 3.0285z\" clip-path=\"url(#pc6b8689289)\" fill=\"#6fa4ff\" stroke=\"#6fa4ff\" stroke-width=\"2\"/><path d=\"m456.94 58.332h29.543v-29.543h-29.543z\" clip-path=\"url(#pc6b8689289)\" fill=\"#bb8bff\"/><path d=\"m502.39 58.332h29.543v-29.543h-29.543z\" clip-path=\"url(#pc6b8689289)\" fill=\"#fa74a6\"/><path d=\"m547.84 58.332h29.543v-29.543h-29.543z\" clip-path=\"url(#pc6b8689289)\" fill=\"#fa74a6\"/><path d=\"m608.06 138.89c1.1752 0 2.3025-0.46693 3.1335-1.2979 0.83102-0.83102 1.2979-1.9583 1.2979-3.1335s-0.46693-2.3025-1.2979-3.1335c-0.83102-0.83102-1.9583-1.2979-3.1335-1.2979s-2.3025 0.46693-3.1335 1.2979c-0.83102 0.83102-1.2979 1.9583-1.2979 3.1335s0.46693 2.3025 1.2979 3.1335c0.83102 0.83102 1.9583 1.2979 3.1335 1.2979z\" clip-path=\"url(#pc6b8689289)\" fill=\"#6fa4ff\" stroke=\"#6fa4ff\" stroke-width=\"1.5\"/><path d=\"m608.06 53.901c2.7422 0 5.3725-1.0895 7.3116-3.0285 1.939-1.939 3.0285-4.5693 3.0285-7.3116s-1.0895-5.3725-3.0285-7.3116c-1.939-1.939-4.5693-3.0285-7.3116-3.0285s-5.3725 1.0895-7.3116 3.0285c-1.939 1.939-3.0285 4.5693-3.0285 7.3116s1.0895 5.3725 3.0285 7.3116c1.939 1.939 4.5693 3.0285 7.3116 3.0285z\" clip-path=\"url(#pc6b8689289)\" fill=\"#6fa4ff\" stroke=\"#6fa4ff\" stroke-width=\"2\"/><path d=\"m638.74 58.332h29.543v-29.543h-29.543z\" clip-path=\"url(#pc6b8689289)\" fill=\"#bb8bff\"/><path d=\"m698.96 138.89c1.1752 0 2.3025-0.46693 3.1335-1.2979 0.83102-0.83102 1.2979-1.9583 1.2979-3.1335s-0.46693-2.3025-1.2979-3.1335c-0.83102-0.83102-1.9583-1.2979-3.1335-1.2979s-2.3025 0.46693-3.1335 1.2979c-0.83102 0.83102-1.2979 1.9583-1.2979 3.1335s0.46693 2.3025 1.2979 3.1335c0.83102 0.83102 1.9583 1.2979 3.1335 1.2979z\" clip-path=\"url(#pc6b8689289)\" fill=\"#6fa4ff\" stroke=\"#6fa4ff\" stroke-width=\"1.5\"/><path d=\"m698.96 53.901c2.7422 0 5.3725-1.0895 7.3116-3.0285 1.939-1.939 3.0285-4.5693 3.0285-7.3116s-1.0895-5.3725-3.0285-7.3116c-1.939-1.939-4.5693-3.0285-7.3116-3.0285s-5.3725 1.0895-7.3116 3.0285c-1.939 1.939-3.0285 4.5693-3.0285 7.3116s1.0895 5.3725 3.0285 7.3116c1.939 1.939 4.5693 3.0285 7.3116 3.0285z\" clip-path=\"url(#pc6b8689289)\" fill=\"#6fa4ff\" stroke=\"#6fa4ff\" stroke-width=\"2\"/><path d=\"m729.64 58.332h29.543v-29.543h-29.543z\" clip-path=\"url(#pc6b8689289)\" fill=\"#bb8bff\"/><path d=\"m729.64 149.23h29.543v-29.543h-29.543z\" clip-path=\"url(#pc6b8689289)\" fill=\"#6fa4ff\"/><path d=\"m775.09 58.332h29.543v-29.543h-29.543z\" clip-path=\"url(#pc6b8689289)\" fill=\"#fa74a6\"/><path d=\"m775.09 149.23h29.543v-29.543h-29.543z\" clip-path=\"url(#pc6b8689289)\" fill=\"#bb8bff\"/><path d=\"m835.32 93.443c1.1752 0 2.3025-0.46693 3.1335-1.2979 0.83102-0.83102 1.2979-1.9583 1.2979-3.1335s-0.46693-2.3025-1.2979-3.1335c-0.83102-0.83102-1.9583-1.2979-3.1335-1.2979s-2.3025 0.46693-3.1335 1.2979c-0.83102 0.83102-1.2979 1.9583-1.2979 3.1335s0.46693 2.3025 1.2979 3.1335c0.83102 0.83102 1.9583 1.2979 3.1335 1.2979z\" clip-path=\"url(#pc6b8689289)\" fill=\"#6fa4ff\" stroke=\"#6fa4ff\" stroke-width=\"1.5\"/><path d=\"m835.32 144.8c2.7422 0 5.3725-1.0895 7.3116-3.0285 1.939-1.939 3.0285-4.5693 3.0285-7.3116s-1.0895-5.3725-3.0285-7.3116c-1.939-1.939-4.5693-3.0285-7.3116-3.0285s-5.3725 1.0895-7.3116 3.0285c-1.939 1.939-3.0285 4.5693-3.0285 7.3116s1.0895 5.3725 3.0285 7.3116c1.939 1.939 4.5693 3.0285 7.3116 3.0285z\" clip-path=\"url(#pc6b8689289)\" fill=\"#6fa4ff\" stroke=\"#6fa4ff\" stroke-width=\"2\"/><path d=\"m866 149.23h29.543v-29.543h-29.543z\" clip-path=\"url(#pc6b8689289)\" fill=\"#bb8bff\"/><path d=\"m926.22 93.443c1.1752 0 2.3025-0.46693 3.1335-1.2979 0.83102-0.83102 1.2979-1.9583 1.2979-3.1335s-0.46693-2.3025-1.2979-3.1335c-0.83102-0.83102-1.9583-1.2979-3.1335-1.2979s-2.3025 0.46693-3.1335 1.2979c-0.83102 0.83102-1.2979 1.9583-1.2979 3.1335s0.46693 2.3025 1.2979 3.1335c0.83102 0.83102 1.9583 1.2979 3.1335 1.2979z\" clip-path=\"url(#pc6b8689289)\" fill=\"#6fa4ff\" stroke=\"#6fa4ff\" stroke-width=\"1.5\"/><path d=\"m926.22 144.8c2.7422 0 5.3725-1.0895 7.3116-3.0285 1.939-1.939 3.0285-4.5693 3.0285-7.3116s-1.0895-5.3725-3.0285-7.3116c-1.939-1.939-4.5693-3.0285-7.3116-3.0285s-5.3725 1.0895-7.3116 3.0285c-1.939 1.939-3.0285 4.5693-3.0285 7.3116s1.0895 5.3725 3.0285 7.3116c1.939 1.939 4.5693 3.0285 7.3116 3.0285z\" clip-path=\"url(#pc6b8689289)\" fill=\"#6fa4ff\" stroke=\"#6fa4ff\" stroke-width=\"2\"/><path d=\"m956.9 103.78h29.543v-29.543h-29.543z\" clip-path=\"url(#pc6b8689289)\" fill=\"#bb8bff\"/><path d=\"m971.67 138.89c1.1752 0 2.3025-0.46693 3.1335-1.2979 0.83102-0.83102 1.2979-1.9583 1.2979-3.1335s-0.46693-2.3025-1.2979-3.1335c-0.83102-0.83102-1.9583-1.2979-3.1335-1.2979s-2.3025 0.46693-3.1335 1.2979c-0.83102 0.83102-1.2979 1.9583-1.2979 3.1335s0.46693 2.3025 1.2979 3.1335c0.83102 0.83102 1.9583 1.2979 3.1335 1.2979z\" clip-path=\"url(#pc6b8689289)\" fill=\"#6fa4ff\" stroke=\"#6fa4ff\" stroke-width=\"1.5\"/><path d=\"m971.67 190.25c2.7422 0 5.3725-1.0895 7.3116-3.0285 1.939-1.939 3.0285-4.5693 3.0285-7.3116s-1.0895-5.3725-3.0285-7.3116c-1.939-1.939-4.5693-3.0285-7.3116-3.0285s-5.3725 1.0895-7.3116 3.0285c-1.939 1.939-3.0285 4.5693-3.0285 7.3116s1.0895 5.3725 3.0285 7.3116c1.939 1.939 4.5693 3.0285 7.3116 3.0285z\" clip-path=\"url(#pc6b8689289)\" fill=\"#6fa4ff\" stroke=\"#6fa4ff\" stroke-width=\"2\"/><path d=\"m1002.3 103.78h29.543v-29.543h-29.543z\" clip-path=\"url(#pc6b8689289)\" fill=\"#6fa4ff\"/><path d=\"m1002.3 194.69h29.543v-29.543h-29.543z\" clip-path=\"url(#pc6b8689289)\" fill=\"#bb8bff\"/><path d=\"m1062.6 93.443c1.1752 0 2.3025-0.46693 3.1335-1.2979 0.83102-0.83102 1.2979-1.9583 1.2979-3.1335s-0.46693-2.3025-1.2979-3.1335c-0.83102-0.83102-1.9583-1.2979-3.1335-1.2979s-2.3025 0.46693-3.1335 1.2979c-0.83102 0.83102-1.2979 1.9583-1.2979 3.1335s0.46693 2.3025 1.2979 3.1335c0.83102 0.83102 1.9583 1.2979 3.1335 1.2979z\" clip-path=\"url(#pc6b8689289)\" fill=\"#6fa4ff\" stroke=\"#6fa4ff\" stroke-width=\"1.5\"/><path d=\"m1062.6 190.25c2.7422 0 5.3725-1.0895 7.3116-3.0285 1.939-1.939 3.0285-4.5693 3.0285-7.3116s-1.0895-5.3725-3.0285-7.3116c-1.939-1.939-4.5693-3.0285-7.3116-3.0285s-5.3725 1.0895-7.3116 3.0285c-1.939 1.939-3.0285 4.5693-3.0285 7.3116s1.0895 5.3725 3.0285 7.3116c1.939 1.939 4.5693 3.0285 7.3116 3.0285z\" clip-path=\"url(#pc6b8689289)\" fill=\"#6fa4ff\" stroke=\"#6fa4ff\" stroke-width=\"2\"/><path d=\"m1093.3 194.69h29.543v-29.543h-29.543z\" clip-path=\"url(#pc6b8689289)\" fill=\"#bb8bff\"/><path d=\"m1153.5 138.89c1.1752 0 2.3025-0.46693 3.1335-1.2979 0.83102-0.83102 1.2979-1.9583 1.2979-3.1335s-0.46693-2.3025-1.2979-3.1335c-0.83102-0.83102-1.9583-1.2979-3.1335-1.2979s-2.3025 0.46693-3.1335 1.2979c-0.83102 0.83102-1.2979 1.9583-1.2979 3.1335s0.46693 2.3025 1.2979 3.1335c0.83102 0.83102 1.9583 1.2979 3.1335 1.2979z\" clip-path=\"url(#pc6b8689289)\" fill=\"#6fa4ff\" stroke=\"#6fa4ff\" stroke-width=\"1.5\"/><path d=\"m1153.5 190.25c2.7422 0 5.3725-1.0895 7.3116-3.0285 1.939-1.939 3.0285-4.5693 3.0285-7.3116s-1.0895-5.3725-3.0285-7.3116c-1.939-1.939-4.5693-3.0285-7.3116-3.0285s-5.3725 1.0895-7.3116 3.0285c-1.939 1.939-3.0285 4.5693-3.0285 7.3116s1.0895 5.3725 3.0285 7.3116c1.939 1.939 4.5693 3.0285 7.3116 3.0285z\" clip-path=\"url(#pc6b8689289)\" fill=\"#6fa4ff\" stroke=\"#6fa4ff\" stroke-width=\"2\"/><path d=\"m1184.2 194.69h29.543v-29.543h-29.543z\" clip-path=\"url(#pc6b8689289)\" fill=\"#bb8bff\"/><path d=\"m1244.4 93.443c1.1752 0 2.3025-0.46693 3.1335-1.2979 0.83102-0.83102 1.2979-1.9583 1.2979-3.1335s-0.46693-2.3025-1.2979-3.1335c-0.83102-0.83102-1.9583-1.2979-3.1335-1.2979s-2.3025 0.46693-3.1335 1.2979c-0.83102 0.83102-1.2979 1.9583-1.2979 3.1335s0.46693 2.3025 1.2979 3.1335c0.83102 0.83102 1.9583 1.2979 3.1335 1.2979z\" clip-path=\"url(#pc6b8689289)\" fill=\"#6fa4ff\" stroke=\"#6fa4ff\" stroke-width=\"1.5\"/><path d=\"m1244.4 190.25c2.7422 0 5.3725-1.0895 7.3116-3.0285 1.939-1.939 3.0285-4.5693 3.0285-7.3116s-1.0895-5.3725-3.0285-7.3116c-1.939-1.939-4.5693-3.0285-7.3116-3.0285s-5.3725 1.0895-7.3116 3.0285c-1.939 1.939-3.0285 4.5693-3.0285 7.3116s1.0895 5.3725 3.0285 7.3116c1.939 1.939 4.5693 3.0285 7.3116 3.0285z\" clip-path=\"url(#pc6b8689289)\" fill=\"#6fa4ff\" stroke=\"#6fa4ff\" stroke-width=\"2\"/><path d=\"m1275.1 194.69h29.543v-29.543h-29.543z\" clip-path=\"url(#pc6b8689289)\" fill=\"#bb8bff\"/><path d=\"m1366 58.332h29.543v-29.543h-29.543z\" clip-path=\"url(#pc6b8689289)\"/><path d=\"m1391.1 47.992c0-2.7413-1.0901-5.3732-3.0285-7.3116-1.9384-1.9384-4.5702-3.0285-7.3116-3.0285s-5.3732 1.0901-7.3116 3.0285c-1.9384 1.9384-3.0285 4.5702-3.0285 7.3116\" clip-path=\"url(#pc6b8689289)\" fill=\"none\" stroke=\"#ffffff\" stroke-width=\"2\"/><path d=\"m1411.4 103.78h29.543v-29.543h-29.543z\" clip-path=\"url(#pc6b8689289)\"/><path d=\"m1436.5 93.443c0-2.7413-1.0901-5.3732-3.0285-7.3116-1.9384-1.9384-4.5702-3.0285-7.3116-3.0285s-5.3732 1.0901-7.3116 3.0285c-1.9384 1.9384-3.0285 4.5702-3.0285 7.3116\" clip-path=\"url(#pc6b8689289)\" fill=\"none\" stroke=\"#ffffff\" stroke-width=\"2\"/><path d=\"m1456.9 149.23h29.543v-29.543h-29.543z\" clip-path=\"url(#pc6b8689289)\"/><path d=\"m1482 138.89c0-2.7413-1.0901-5.3732-3.0285-7.3116-1.9384-1.9384-4.5702-3.0285-7.3116-3.0285s-5.3732 1.0901-7.3116 3.0285c-1.9384 1.9384-3.0285 4.5702-3.0285 7.3116\" clip-path=\"url(#pc6b8689289)\" fill=\"none\" stroke=\"#ffffff\" stroke-width=\"2\"/><path d=\"m1502.3 194.69h29.543v-29.543h-29.543z\" clip-path=\"url(#pc6b8689289)\"/><path d=\"m1527.4 184.35c0-2.7413-1.0901-5.3732-3.0285-7.3116-1.9384-1.9384-4.5702-3.0285-7.3116-3.0285s-5.3732 1.0901-7.3116 3.0285c-1.9384 1.9384-3.0285 4.5702-3.0285 7.3116\" clip-path=\"url(#pc6b8689289)\" fill=\"none\" stroke=\"#ffffff\" stroke-width=\"2\"/><path d=\"m1380.7 47.992 10.34-10.34\" clip-path=\"url(#pc6b8689289)\" fill=\"none\" stroke=\"#ffffff\" stroke-linecap=\"square\" stroke-width=\"2\"/><path d=\"m1426.2 93.443 10.34-10.34\" clip-path=\"url(#pc6b8689289)\" fill=\"none\" stroke=\"#ffffff\" stroke-linecap=\"square\" stroke-width=\"2\"/><path d=\"m1471.6 138.89 10.34-10.34\" clip-path=\"url(#pc6b8689289)\" fill=\"none\" stroke=\"#ffffff\" stroke-linecap=\"square\" stroke-width=\"2\"/><path d=\"m1517.1 184.35 10.34-10.34\" clip-path=\"url(#pc6b8689289)\" fill=\"none\" stroke=\"#ffffff\" stroke-linecap=\"square\" stroke-width=\"2\"/><path d=\"m335.36 49.469v-11.817\" clip-path=\"url(#pc6b8689289)\" fill=\"none\" stroke=\"#ffffff\" stroke-linecap=\"square\" stroke-width=\"2\"/><path d=\"m329.45 43.561h11.817\" clip-path=\"url(#pc6b8689289)\" fill=\"none\" stroke=\"#ffffff\" stroke-linecap=\"square\" stroke-width=\"2\"/><path d=\"m426.26 49.469v-11.817\" clip-path=\"url(#pc6b8689289)\" fill=\"none\" stroke=\"#ffffff\" stroke-linecap=\"square\" stroke-width=\"2\"/><path d=\"m420.35 43.561h11.817\" clip-path=\"url(#pc6b8689289)\" fill=\"none\" stroke=\"#ffffff\" stroke-linecap=\"square\" stroke-width=\"2\"/><path d=\"m608.06 49.469v-11.817\" clip-path=\"url(#pc6b8689289)\" fill=\"none\" stroke=\"#ffffff\" stroke-linecap=\"square\" stroke-width=\"2\"/><path d=\"m602.15 43.561h11.817\" clip-path=\"url(#pc6b8689289)\" fill=\"none\" stroke=\"#ffffff\" stroke-linecap=\"square\" stroke-width=\"2\"/><path d=\"m698.96 49.469v-11.817\" clip-path=\"url(#pc6b8689289)\" fill=\"none\" stroke=\"#ffffff\" stroke-linecap=\"square\" stroke-width=\"2\"/><path d=\"m693.06 43.561h11.817\" clip-path=\"url(#pc6b8689289)\" fill=\"none\" stroke=\"#ffffff\" stroke-linecap=\"square\" stroke-width=\"2\"/><path d=\"m835.32 140.37v-11.817\" clip-path=\"url(#pc6b8689289)\" fill=\"none\" stroke=\"#ffffff\" stroke-linecap=\"square\" stroke-width=\"2\"/><path d=\"m829.41 134.46h11.817\" clip-path=\"url(#pc6b8689289)\" fill=\"none\" stroke=\"#ffffff\" stroke-linecap=\"square\" stroke-width=\"2\"/><path d=\"m926.22 140.37v-11.817\" clip-path=\"url(#pc6b8689289)\" fill=\"none\" stroke=\"#ffffff\" stroke-linecap=\"square\" stroke-width=\"2\"/><path d=\"m920.31 134.46h11.817\" clip-path=\"url(#pc6b8689289)\" fill=\"none\" stroke=\"#ffffff\" stroke-linecap=\"square\" stroke-width=\"2\"/><path d=\"m971.67 185.82v-11.817\" clip-path=\"url(#pc6b8689289)\" fill=\"none\" stroke=\"#ffffff\" stroke-linecap=\"square\" stroke-width=\"2\"/><path d=\"m965.76 179.91h11.817\" clip-path=\"url(#pc6b8689289)\" fill=\"none\" stroke=\"#ffffff\" stroke-linecap=\"square\" stroke-width=\"2\"/><path d=\"m1062.6 185.82v-11.817\" clip-path=\"url(#pc6b8689289)\" fill=\"none\" stroke=\"#ffffff\" stroke-linecap=\"square\" stroke-width=\"2\"/><path d=\"m1056.7 179.91h11.817\" clip-path=\"url(#pc6b8689289)\" fill=\"none\" stroke=\"#ffffff\" stroke-linecap=\"square\" stroke-width=\"2\"/><path d=\"m1153.5 185.82v-11.817\" clip-path=\"url(#pc6b8689289)\" fill=\"none\" stroke=\"#ffffff\" stroke-linecap=\"square\" stroke-width=\"2\"/><path d=\"m1147.6 179.91h11.817\" clip-path=\"url(#pc6b8689289)\" fill=\"none\" stroke=\"#ffffff\" stroke-linecap=\"square\" stroke-width=\"2\"/><path d=\"m1244.4 185.82v-11.817\" clip-path=\"url(#pc6b8689289)\" fill=\"none\" stroke=\"#ffffff\" stroke-linecap=\"square\" stroke-width=\"2\"/><path d=\"m1238.5 179.91h11.817\" clip-path=\"url(#pc6b8689289)\" fill=\"none\" stroke=\"#ffffff\" stroke-linecap=\"square\" stroke-width=\"2\"/><path d=\"m1335.3 20.835v45.451\" clip-path=\"url(#pc6b8689289)\" fill=\"none\" stroke=\"#000000\" stroke-dasharray=\"3.7,1.6\"/><path d=\"m1335.3 66.286v45.451\" clip-path=\"url(#pc6b8689289)\" fill=\"none\" stroke=\"#000000\" stroke-dasharray=\"3.7,1.6\"/><path d=\"m1335.3 111.74v45.451\" clip-path=\"url(#pc6b8689289)\" fill=\"none\" stroke=\"#000000\" stroke-dasharray=\"3.7,1.6\"/><path d=\"m1335.3 157.19v45.451\" clip-path=\"url(#pc6b8689289)\" fill=\"none\" stroke=\"#000000\" stroke-dasharray=\"3.7,1.6\"/><g clip-path=\"url(#pc6b8689289)\"><defs><path id=\"DejaVuSans-Oblique-82\" d=\"m25.203 64.797-4.9844-25.875h12.688q7.4688 0 12.078 4.125 4.625 4.125 4.625 10.766 0 5.3125-3.1094 8.1406-3.0938 2.8438-8.9062 2.8438zm18.109-29.781q3.125-0.73438 5.2031-3.625 2.0781-2.875 4.8125-11.469l6.1875-19.922h-10.391l-5.7188 18.703q-2.1875 7.2188-5.0781 9.6562-2.875 2.4531-8.8281 2.4531h-10.891l-6.0156-30.812h-9.9062l14.203 72.906h22.219q10.109 0 15.5-4.5781 5.4062-4.5625 5.4062-13.156 0-7.6094-4.5938-13.188-4.5938-5.5625-12.109-6.9688z\"/><path id=\"DejaVuSans-Oblique-121\" d=\"m24.812-5.0781q-6.25-10.5-10.188-13.109t-10.031-2.6094h-7.0781l1.5 7.5156h5.1875q3.75 0 6.3906 2.0469t5.9062 8.0156l2.7812 5.2188-12.109 52.688h9.5312l9.0781-41.891 25.094 41.891h9.4219z\"/></defs><g transform=\"translate(146.14 41.859) scale(.13 -.13)\"><use transform=\"translate(0 .09375)\" xlink:href=\"#DejaVuSans-Oblique-82\"/><use transform=\"translate(69.482 -16.312) scale(.7)\" xlink:href=\"#DejaVuSans-Oblique-121\"/></g></g><g clip-path=\"url(#pc6b8689289)\"><defs><path id=\"DejaVuSans-48\" d=\"m31.781 66.406q-7.6094 0-11.453-7.5-3.8281-7.4844-3.8281-22.531 0-14.984 3.8281-22.484 3.8438-7.5 11.453-7.5 7.6719 0 11.5 7.5 3.8438 7.5 3.8438 22.484 0 15.047-3.8438 22.531-3.8281 7.5-11.5 7.5zm0 7.8125q12.266 0 18.734-9.7031 6.4688-9.6875 6.4688-28.141 0-18.406-6.4688-28.109-6.4688-9.6875-18.734-9.6875-12.25 0-18.719 9.6875-6.4688 9.7031-6.4688 28.109 0 18.453 6.4688 28.141 6.4688 9.7031 18.719 9.7031z\"/></defs><g transform=\"translate(151.01 54.631) scale(.08 -.08)\"><use xlink:href=\"#DejaVuSans-48\"/></g></g><g clip-path=\"url(#pc6b8689289)\"><defs><path id=\"DejaVuSans-Oblique-72\" d=\"m16.891 72.906h9.9219l-5.8125-29.891h35.781l5.8125 29.891h9.9219l-14.219-72.906h-9.9062l6.7812 34.719h-35.781l-6.7969-34.719h-9.9062z\"/></defs><g transform=\"translate(148.61 92.599) scale(.13 -.13)\"><use transform=\"translate(0 .09375)\" xlink:href=\"#DejaVuSans-Oblique-72\"/></g></g><g clip-path=\"url(#pc6b8689289)\"><g transform=\"translate(148.61 138.05) scale(.13 -.13)\"><use transform=\"translate(0 .09375)\" xlink:href=\"#DejaVuSans-Oblique-72\"/></g></g><g clip-path=\"url(#pc6b8689289)\"><defs><path id=\"DejaVuSans-Oblique-85\" d=\"m15.484 72.906h9.9062l-8.5938-44.297q-0.53125-2.9688-0.75-4.9062-0.21875-1.9219-0.21875-3.3906 0-6.7344 3.75-10.234 3.7656-3.4844 11.031-3.4844 9.4375 0 14.672 5.1719 5.25 5.1719 7.5 16.844l8.5938 44.297h9.9219l-8.7969-45.516q-2.875-14.75-10.938-21.781t-22.062-7.0312q-10.938 0-17.312 5.5t-6.375 14.922q0 1.7031 0.23438 3.8281 0.25 2.125 0.73438 4.5625z\"/><path id=\"DejaVuSans-49\" d=\"m12.406 8.2969h16.109v55.625l-17.531-3.5156v8.9844l17.438 3.5156h9.8594v-64.609h16.109v-8.2969h-41.984z\"/></defs><g transform=\"translate(213.86 88.168) scale(.13 -.13)\"><use transform=\"translate(0 .09375)\" xlink:href=\"#DejaVuSans-Oblique-85\"/><use transform=\"translate(73.193 -16.312) scale(.7)\" xlink:href=\"#DejaVuSans-49\"/></g></g><g clip-path=\"url(#pc6b8689289)\"><defs><path id=\"DejaVuSans-50\" d=\"m19.188 8.2969h34.422v-8.2969h-46.281v8.2969q5.6094 5.8125 15.297 15.594 9.7031 9.7969 12.188 12.641 4.7344 5.3125 6.6094 9 1.8906 3.6875 1.8906 7.25 0 5.8125-4.0781 9.4688-4.0781 3.6719-10.625 3.6719-4.6406 0-9.7969-1.6094-5.1406-1.6094-11-4.8906v9.9688q5.9531 2.3906 11.125 3.6094 5.1875 1.2188 9.4844 1.2188 11.328 0 18.062-5.6719 6.7344-5.6562 6.7344-15.125 0-4.5-1.6875-8.5312-1.6719-4.0156-6.125-9.4844-1.2188-1.4219-7.7656-8.1875-6.5312-6.7656-18.453-18.922z\"/></defs><g transform=\"translate(219.18 100.08) scale(.08 -.08)\"><use xlink:href=\"#DejaVuSans-50\"/></g></g><g clip-path=\"url(#pc6b8689289)\"><g transform=\"translate(213.86 133.62) scale(.13 -.13)\"><use transform=\"translate(0 .09375)\" xlink:href=\"#DejaVuSans-Oblique-85\"/><use transform=\"translate(73.193 -16.312) scale(.7)\" xlink:href=\"#DejaVuSans-49\"/></g></g><g clip-path=\"url(#pc6b8689289)\"><defs><path id=\"DejaVuSans-52\" d=\"m37.797 64.312-24.906-38.922h24.906zm-2.5938 8.5938h12.406v-47.516h10.406v-8.2031h-10.406v-17.188h-9.8125v17.188h-32.906v9.5156z\"/></defs><g transform=\"translate(219.18 145.53) scale(.08 -.08)\"><use xlink:href=\"#DejaVuSans-52\"/></g></g><g clip-path=\"url(#pc6b8689289)\"><defs><path id=\"DejaVuSans-51\" d=\"m40.578 39.312q7.0781-1.5156 11.047-6.3125 3.9844-4.7812 3.9844-11.812 0-10.781-7.4219-16.703-7.4219-5.9062-21.094-5.9062-4.5781 0-9.4375 0.90625t-10.031 2.7188v9.5156q4.0938-2.3906 8.9688-3.6094 4.8906-1.2188 10.219-1.2188 9.2656 0 14.125 3.6562t4.8594 10.641q0 6.4531-4.5156 10.078-4.5156 3.6406-12.562 3.6406h-8.5v8.1094h8.8906q7.2656 0 11.125 2.9062t3.8594 8.375q0 5.6094-3.9844 8.6094-3.9688 3.0156-11.391 3.0156-4.0625 0-8.7031-0.89062-4.6406-0.875-10.203-2.7188v8.7812q5.625 1.5625 10.531 2.3438t9.25 0.78125q11.234 0 17.766-5.1094 6.5469-5.0938 6.5469-13.781 0-6.0625-3.4688-10.234t-9.8594-5.7812z\"/></defs><g transform=\"translate(213.86 42.717) scale(.13 -.13)\"><use transform=\"translate(0 .09375)\" xlink:href=\"#DejaVuSans-Oblique-85\"/><use transform=\"translate(73.193 -16.312) scale(.7)\" xlink:href=\"#DejaVuSans-51\"/></g></g><g clip-path=\"url(#pc6b8689289)\"><defs><path id=\"DejaVuSans-8722\" d=\"m10.594 35.5h62.594v-8.2969h-62.594z\"/><path id=\"DejaVuSans-46\" d=\"m10.688 12.406h10.312v-12.406h-10.312z\"/><path id=\"DejaVuSans-54\" d=\"m33.016 40.375q-6.6406 0-10.531-4.5469-3.875-4.5312-3.875-12.438 0-7.8594 3.875-12.438 3.8906-4.5625 10.531-4.5625t10.516 4.5625q3.875 4.5781 3.875 12.438 0 7.9062-3.875 12.438-3.875 4.5469-10.516 4.5469zm19.578 30.922v-8.9844q-3.7188 1.75-7.5 2.6719-3.7812 0.9375-7.5 0.9375-9.7656 0-14.922-6.5938-5.1406-6.5938-5.875-19.922 2.875 4.25 7.2188 6.5156 4.3594 2.2656 9.5781 2.2656 10.984 0 17.359-6.6719 6.375-6.6562 6.375-18.125 0-11.234-6.6406-18.031-6.6406-6.7812-17.672-6.7812-12.656 0-19.344 9.6875-6.6875 9.7031-6.6875 28.109 0 17.281 8.2031 27.562t22.016 10.281q3.7188 0 7.5-0.73438t7.8906-2.1875z\"/><path id=\"DejaVuSans-55\" d=\"m8.2031 72.906h46.875v-4.2031l-26.469-68.703h-10.297l24.906 64.594h-35.016z\"/><path id=\"DejaVuSans-44\" d=\"m11.719 12.406h10.297v-8.4062l-8-15.625h-6.2969l4 15.625z\"/><path id=\"DejaVuSans-Oblique-960\" d=\"m9.125 54.688h52.406l-1.7656-8.9844h-6.8906l-6.5312-33.594q-0.6875-3.5156 0.23438-5.0781 0.89062-1.5156 3.5625-1.5156 0.73438 0 1.8125 0.15625 1.125 0.09375 1.4688 0.14062l-1.2656-6.5q-1.8125-0.625-3.6719-0.92188-1.9062-0.29688-3.7031-0.29688-5.8594 0-7.4688 3.1719-1.625 3.2344 0.046875 11.828l6.3438 32.609h-20.172l-8.875-45.703h-9.1875l8.8906 45.703h-6.9844z\"/><path id=\"DejaVuSans-47\" d=\"m25.391 72.906h8.2969l-25.391-82.188h-8.2969z\"/></defs><g transform=\"translate(186.17 54.631) scale(.08 -.08)\"><use transform=\"translate(0 .78125)\" xlink:href=\"#DejaVuSans-8722\"/><use transform=\"translate(83.789 .78125)\" xlink:href=\"#DejaVuSans-48\"/><use transform=\"translate(147.41 .78125)\" xlink:href=\"#DejaVuSans-46\"/><use transform=\"translate(179.2 .78125)\" xlink:href=\"#DejaVuSans-54\"/><use transform=\"translate(242.82 .78125)\" xlink:href=\"#DejaVuSans-54\"/><use transform=\"translate(306.45 .78125)\" xlink:href=\"#DejaVuSans-55\"/><use transform=\"translate(370.07 .78125)\" xlink:href=\"#DejaVuSans-44\"/><use transform=\"translate(401.86 .78125)\" xlink:href=\"#DejaVuSans-32\"/><use transform=\"translate(433.64 .78125)\" xlink:href=\"#DejaVuSans-8722\"/><use transform=\"translate(517.43 .78125)\" xlink:href=\"#DejaVuSans-Oblique-960\"/><use transform=\"translate(577.64 .78125)\" xlink:href=\"#DejaVuSans-47\"/><use transform=\"translate(607.7 .78125)\" xlink:href=\"#DejaVuSans-50\"/><use transform=\"translate(671.33 .78125)\" xlink:href=\"#DejaVuSans-44\"/><use transform=\"translate(703.11 .78125)\" xlink:href=\"#DejaVuSans-32\"/><use transform=\"translate(734.9 .78125)\" xlink:href=\"#DejaVuSans-Oblique-960\"/><use transform=\"translate(795.11 .78125)\" xlink:href=\"#DejaVuSans-47\"/><use transform=\"translate(825.17 .78125)\" xlink:href=\"#DejaVuSans-50\"/></g></g><g clip-path=\"url(#pc6b8689289)\"><g transform=\"translate(282.04 42.717) scale(.13 -.13)\"><use transform=\"translate(0 .09375)\" xlink:href=\"#DejaVuSans-Oblique-85\"/><use transform=\"translate(73.193 -16.312) scale(.7)\" xlink:href=\"#DejaVuSans-49\"/></g></g><g clip-path=\"url(#pc6b8689289)\"><g transform=\"translate(283.75 54.631) scale(.08 -.08)\"><use transform=\"translate(0 .78125)\" xlink:href=\"#DejaVuSans-Oblique-960\"/><use transform=\"translate(60.205 .78125)\" xlink:href=\"#DejaVuSans-47\"/><use transform=\"translate(90.271 .78125)\" xlink:href=\"#DejaVuSans-50\"/></g></g><g clip-path=\"url(#pc6b8689289)\"><g transform=\"translate(373.4 41.859) scale(.13 -.13)\"><use transform=\"translate(0 .09375)\" xlink:href=\"#DejaVuSans-Oblique-82\"/><use transform=\"translate(69.482 -16.312) scale(.7)\" xlink:href=\"#DejaVuSans-Oblique-121\"/></g></g><g clip-path=\"url(#pc6b8689289)\"><g transform=\"translate(365.97 54.631) scale(.08 -.08)\"><use transform=\"translate(0 .78125)\" xlink:href=\"#DejaVuSans-8722\"/><use transform=\"translate(83.789 .78125)\" xlink:href=\"#DejaVuSans-48\"/><use transform=\"translate(147.41 .78125)\" xlink:href=\"#DejaVuSans-46\"/><use transform=\"translate(179.2 .78125)\" xlink:href=\"#DejaVuSans-54\"/><use transform=\"translate(242.82 .78125)\" xlink:href=\"#DejaVuSans-54\"/><use transform=\"translate(306.45 .78125)\" xlink:href=\"#DejaVuSans-55\"/></g></g><g clip-path=\"url(#pc6b8689289)\"><g transform=\"translate(464.3 41.859) scale(.13 -.13)\"><use transform=\"translate(0 .09375)\" xlink:href=\"#DejaVuSans-Oblique-82\"/><use transform=\"translate(69.482 -16.312) scale(.7)\" xlink:href=\"#DejaVuSans-Oblique-121\"/></g></g><g clip-path=\"url(#pc6b8689289)\"><g transform=\"translate(460.26 54.631) scale(.08 -.08)\"><use xlink:href=\"#DejaVuSans-48\"/><use x=\"63.623047\" xlink:href=\"#DejaVuSans-46\"/><use x=\"95.410156\" xlink:href=\"#DejaVuSans-54\"/><use x=\"159.033203\" xlink:href=\"#DejaVuSans-54\"/><use x=\"222.65625\" xlink:href=\"#DejaVuSans-55\"/></g></g><g clip-path=\"url(#pc6b8689289)\"><g transform=\"translate(509.3 42.717) scale(.13 -.13)\"><use transform=\"translate(0 .09375)\" xlink:href=\"#DejaVuSans-Oblique-85\"/><use transform=\"translate(73.193 -16.312) scale(.7)\" xlink:href=\"#DejaVuSans-49\"/></g></g><g clip-path=\"url(#pc6b8689289)\"><g transform=\"translate(508.44 54.631) scale(.08 -.08)\"><use transform=\"translate(0 .78125)\" xlink:href=\"#DejaVuSans-51\"/><use transform=\"translate(63.623 .78125)\" xlink:href=\"#DejaVuSans-Oblique-960\"/><use transform=\"translate(123.83 .78125)\" xlink:href=\"#DejaVuSans-47\"/><use transform=\"translate(153.89 .78125)\" xlink:href=\"#DejaVuSans-50\"/></g></g><g clip-path=\"url(#pc6b8689289)\"><g transform=\"translate(554.75 42.717) scale(.13 -.13)\"><use transform=\"translate(0 .09375)\" xlink:href=\"#DejaVuSans-Oblique-85\"/><use transform=\"translate(73.193 -16.312) scale(.7)\" xlink:href=\"#DejaVuSans-49\"/></g></g><g clip-path=\"url(#pc6b8689289)\"><g transform=\"translate(556.45 54.631) scale(.08 -.08)\"><use transform=\"translate(0 .78125)\" xlink:href=\"#DejaVuSans-Oblique-960\"/><use transform=\"translate(60.205 .78125)\" xlink:href=\"#DejaVuSans-47\"/><use transform=\"translate(90.271 .78125)\" xlink:href=\"#DejaVuSans-50\"/></g></g><g clip-path=\"url(#pc6b8689289)\"><g transform=\"translate(646.1 41.859) scale(.13 -.13)\"><use transform=\"translate(0 .09375)\" xlink:href=\"#DejaVuSans-Oblique-82\"/><use transform=\"translate(69.482 -16.312) scale(.7)\" xlink:href=\"#DejaVuSans-Oblique-121\"/></g></g><g clip-path=\"url(#pc6b8689289)\"><g transform=\"translate(641.23 54.631) scale(.08 -.08)\"><use transform=\"translate(0 .78125)\" xlink:href=\"#DejaVuSans-8722\"/><use transform=\"translate(83.789 .78125)\" xlink:href=\"#DejaVuSans-49\"/><use transform=\"translate(147.41 .78125)\" xlink:href=\"#DejaVuSans-46\"/><use transform=\"translate(179.2 .78125)\" xlink:href=\"#DejaVuSans-51\"/><use transform=\"translate(242.82 .78125)\" xlink:href=\"#DejaVuSans-51\"/></g></g><g clip-path=\"url(#pc6b8689289)\"><g transform=\"translate(737.01 41.859) scale(.13 -.13)\"><use transform=\"translate(0 .09375)\" xlink:href=\"#DejaVuSans-Oblique-82\"/><use transform=\"translate(69.482 -16.312) scale(.7)\" xlink:href=\"#DejaVuSans-Oblique-121\"/></g></g><g clip-path=\"url(#pc6b8689289)\"><g transform=\"translate(735.51 54.631) scale(.08 -.08)\"><use xlink:href=\"#DejaVuSans-49\"/><use x=\"63.623047\" xlink:href=\"#DejaVuSans-46\"/><use x=\"95.410156\" xlink:href=\"#DejaVuSans-51\"/><use x=\"159.033203\" xlink:href=\"#DejaVuSans-51\"/></g></g><g clip-path=\"url(#pc6b8689289)\"><g transform=\"translate(739.48 138.05) scale(.13 -.13)\"><use transform=\"translate(0 .09375)\" xlink:href=\"#DejaVuSans-Oblique-72\"/></g></g><g clip-path=\"url(#pc6b8689289)\"><g transform=\"translate(782 42.717) scale(.13 -.13)\"><use transform=\"translate(0 .09375)\" xlink:href=\"#DejaVuSans-Oblique-85\"/><use transform=\"translate(73.193 -16.312) scale(.7)\" xlink:href=\"#DejaVuSans-49\"/></g></g><g clip-path=\"url(#pc6b8689289)\"><g transform=\"translate(781.15 54.631) scale(.08 -.08)\"><use transform=\"translate(0 .78125)\" xlink:href=\"#DejaVuSans-51\"/><use transform=\"translate(63.623 .78125)\" xlink:href=\"#DejaVuSans-Oblique-960\"/><use transform=\"translate(123.83 .78125)\" xlink:href=\"#DejaVuSans-47\"/><use transform=\"translate(153.89 .78125)\" xlink:href=\"#DejaVuSans-50\"/></g></g><g clip-path=\"url(#pc6b8689289)\"><defs><path id=\"DejaVuSans-Oblique-122\" d=\"m11.625 54.688h42.672l-1.6094-8.2031-41.156-39.312h33.984l-1.4219-7.1719h-44.391l1.6094 8.2031 41.172 39.312h-32.281z\"/></defs><g transform=\"translate(782.78 133.62) scale(.13 -.13)\"><use transform=\"translate(0 .09375)\" xlink:href=\"#DejaVuSans-Oblique-82\"/><use transform=\"translate(69.482 -16.312) scale(.7)\" xlink:href=\"#DejaVuSans-Oblique-122\"/></g></g><g clip-path=\"url(#pc6b8689289)\"><g transform=\"translate(780.19 145.53) scale(.08 -.08)\"><use transform=\"translate(0 .09375)\" xlink:href=\"#DejaVuSans-8722\"/><use transform=\"translate(83.789 .09375)\" xlink:href=\"#DejaVuSans-Oblique-960\"/><use transform=\"translate(143.99 .09375)\" xlink:href=\"#DejaVuSans-47\"/><use transform=\"translate(177.69 .09375)\" xlink:href=\"#DejaVuSans-52\"/></g></g><g clip-path=\"url(#pc6b8689289)\"><g transform=\"translate(873.68 133.62) scale(.13 -.13)\"><use transform=\"translate(0 .09375)\" xlink:href=\"#DejaVuSans-Oblique-82\"/><use transform=\"translate(69.482 -16.312) scale(.7)\" xlink:href=\"#DejaVuSans-Oblique-122\"/></g></g><g clip-path=\"url(#pc6b8689289)\"><g transform=\"translate(874.45 145.53) scale(.08 -.08)\"><use transform=\"translate(0 .09375)\" xlink:href=\"#DejaVuSans-Oblique-960\"/><use transform=\"translate(60.205 .09375)\" xlink:href=\"#DejaVuSans-47\"/><use transform=\"translate(93.896 .09375)\" xlink:href=\"#DejaVuSans-52\"/></g></g><g clip-path=\"url(#pc6b8689289)\"><g transform=\"translate(964.59 88.168) scale(.13 -.13)\"><use transform=\"translate(0 .09375)\" xlink:href=\"#DejaVuSans-Oblique-82\"/><use transform=\"translate(69.482 -16.312) scale(.7)\" xlink:href=\"#DejaVuSans-Oblique-122\"/></g></g><g clip-path=\"url(#pc6b8689289)\"><g transform=\"translate(961.99 100.08) scale(.08 -.08)\"><use transform=\"translate(0 .09375)\" xlink:href=\"#DejaVuSans-8722\"/><use transform=\"translate(83.789 .09375)\" xlink:href=\"#DejaVuSans-Oblique-960\"/><use transform=\"translate(143.99 .09375)\" xlink:href=\"#DejaVuSans-47\"/><use transform=\"translate(177.69 .09375)\" xlink:href=\"#DejaVuSans-52\"/></g></g><g clip-path=\"url(#pc6b8689289)\"><g transform=\"translate(1012.2 92.599) scale(.13 -.13)\"><use transform=\"translate(0 .09375)\" xlink:href=\"#DejaVuSans-Oblique-72\"/></g></g><g clip-path=\"url(#pc6b8689289)\"><g transform=\"translate(1009.7 178.21) scale(.13 -.13)\"><use transform=\"translate(0 .09375)\" xlink:href=\"#DejaVuSans-Oblique-82\"/><use transform=\"translate(69.482 -16.312) scale(.7)\" xlink:href=\"#DejaVuSans-Oblique-121\"/></g></g><g clip-path=\"url(#pc6b8689289)\"><defs><path id=\"DejaVuSans-57\" d=\"m10.984 1.5156v8.9844q3.7188-1.7656 7.5156-2.6875 3.8125-0.92188 7.4844-0.92188 9.7656 0 14.906 6.5625 5.1562 6.5625 5.8906 19.953-2.8281-4.2031-7.1875-6.4531-4.3438-2.25-9.6094-2.25-10.938 0-17.312 6.6094-6.375 6.625-6.375 18.109 0 11.219 6.6406 18 6.6406 6.7969 17.672 6.7969 12.656 0 19.312-9.7031 6.6719-9.6875 6.6719-28.141 0-17.234-8.1875-27.516-8.1719-10.281-21.984-10.281-3.7188 0-7.5312 0.73438-3.7969 0.73438-7.9062 2.2031zm19.625 30.906q6.6406 0 10.516 4.5312 3.8906 4.5469 3.8906 12.469 0 7.8594-3.8906 12.422-3.875 4.5625-10.516 4.5625t-10.516-4.5625-3.875-12.422q0-7.9219 3.875-12.469 3.875-4.5312 10.516-4.5312z\"/></defs><g transform=\"translate(1002.3 190.98) scale(.08 -.08)\"><use transform=\"translate(0 .78125)\" xlink:href=\"#DejaVuSans-8722\"/><use transform=\"translate(83.789 .78125)\" xlink:href=\"#DejaVuSans-48\"/><use transform=\"translate(147.41 .78125)\" xlink:href=\"#DejaVuSans-46\"/><use transform=\"translate(179.2 .78125)\" xlink:href=\"#DejaVuSans-54\"/><use transform=\"translate(242.82 .78125)\" xlink:href=\"#DejaVuSans-57\"/><use transform=\"translate(306.45 .78125)\" xlink:href=\"#DejaVuSans-52\"/></g></g><g clip-path=\"url(#pc6b8689289)\"><g transform=\"translate(1100.6 178.21) scale(.13 -.13)\"><use transform=\"translate(0 .09375)\" xlink:href=\"#DejaVuSans-Oblique-82\"/><use transform=\"translate(69.482 -16.312) scale(.7)\" xlink:href=\"#DejaVuSans-Oblique-121\"/></g></g><g clip-path=\"url(#pc6b8689289)\"><defs><path id=\"DejaVuSans-56\" d=\"m31.781 34.625q-7.0312 0-11.062-3.7656-4.0156-3.7656-4.0156-10.344 0-6.5938 4.0156-10.359 4.0312-3.7656 11.062-3.7656t11.078 3.7812q4.0625 3.7969 4.0625 10.344 0 6.5781-4.0312 10.344-4.0156 3.7656-11.109 3.7656zm-9.8594 4.1875q-6.3438 1.5625-9.8906 5.9062-3.5312 4.3594-3.5312 10.609 0 8.7344 6.2188 13.812 6.2344 5.0781 17.062 5.0781 10.891 0 17.094-5.0781t6.2031-13.812q0-6.25-3.5469-10.609-3.5312-4.3438-9.8281-5.9062 7.125-1.6562 11.094-6.5 3.9844-4.8281 3.9844-11.797 0-10.609-6.4688-16.281-6.4688-5.6562-18.531-5.6562-12.047 0-18.531 5.6562-6.4688 5.6719-6.4688 16.281 0 6.9688 4 11.797 4.0156 4.8438 11.141 6.5zm-3.6094 15.578q0-5.6562 3.5312-8.8281 3.5469-3.1719 9.9375-3.1719 6.3594 0 9.9375 3.1719 3.5938 3.1719 3.5938 8.8281 0 5.6719-3.5938 8.8438-3.5781 3.1719-9.9375 3.1719-6.3906 0-9.9375-3.1719-3.5312-3.1719-3.5312-8.8438z\"/></defs><g transform=\"translate(1093.4 190.98) scale(.08 -.08)\"><use transform=\"translate(0 .78125)\" xlink:href=\"#DejaVuSans-8722\"/><use transform=\"translate(83.789 .78125)\" xlink:href=\"#DejaVuSans-48\"/><use transform=\"translate(147.41 .78125)\" xlink:href=\"#DejaVuSans-46\"/><use transform=\"translate(176.57 .78125)\" xlink:href=\"#DejaVuSans-56\"/><use transform=\"translate(240.2 .78125)\" xlink:href=\"#DejaVuSans-55\"/><use transform=\"translate(302.07 .78125)\" xlink:href=\"#DejaVuSans-55\"/></g></g><g clip-path=\"url(#pc6b8689289)\"><g transform=\"translate(1191.5 178.21) scale(.13 -.13)\"><use transform=\"translate(0 .09375)\" xlink:href=\"#DejaVuSans-Oblique-82\"/><use transform=\"translate(69.482 -16.312) scale(.7)\" xlink:href=\"#DejaVuSans-Oblique-121\"/></g></g><g clip-path=\"url(#pc6b8689289)\"><defs><path id=\"DejaVuSans-53\" d=\"m10.797 72.906h38.719v-8.3125h-29.688v-17.859q2.1406 0.73438 4.2812 1.0938 2.1562 0.35938 4.3125 0.35938 12.203 0 19.328-6.6875 7.1406-6.6875 7.1406-18.109 0-11.766-7.3281-18.297-7.3281-6.5156-20.656-6.5156-4.5938 0-9.3594 0.78125-4.75 0.78125-9.8281 2.3438v9.9219q4.3906-2.3906 9.0781-3.5625t9.9062-1.1719q8.4531 0 13.375 4.4375 4.9375 4.4375 4.9375 12.062 0 7.6094-4.9375 12.047-4.9219 4.4531-13.375 4.4531-3.9531 0-7.8906-0.875-3.9219-0.875-8.0156-2.7344z\"/></defs><g transform=\"translate(1187.5 190.98) scale(.08 -.08)\"><use xlink:href=\"#DejaVuSans-48\"/><use x=\"63.623047\" xlink:href=\"#DejaVuSans-46\"/><use x=\"95.410156\" xlink:href=\"#DejaVuSans-51\"/><use x=\"159.033203\" xlink:href=\"#DejaVuSans-53\"/><use x=\"222.65625\" xlink:href=\"#DejaVuSans-52\"/></g></g><g clip-path=\"url(#pc6b8689289)\"><g transform=\"translate(1282.4 178.21) scale(.13 -.13)\"><use transform=\"translate(0 .09375)\" xlink:href=\"#DejaVuSans-Oblique-82\"/><use transform=\"translate(69.482 -16.312) scale(.7)\" xlink:href=\"#DejaVuSans-Oblique-121\"/></g></g><g clip-path=\"url(#pc6b8689289)\"><g transform=\"translate(1280.9 190.98) scale(.08 -.08)\"><use xlink:href=\"#DejaVuSans-49\"/><use x=\"63.623047\" xlink:href=\"#DejaVuSans-46\"/><use x=\"95.410156\" xlink:href=\"#DejaVuSans-50\"/><use x=\"159.033203\" xlink:href=\"#DejaVuSans-50\"/></g></g><g clip-path=\"url(#pc6b8689289)\"><g transform=\"translate(1392.1 218.66) scale(.104 -.104)\"><use xlink:href=\"#DejaVuSans-48\"/></g></g><g clip-path=\"url(#pc6b8689289)\"><g transform=\"translate(1437.5 218.66) scale(.104 -.104)\"><use xlink:href=\"#DejaVuSans-49\"/></g></g><g clip-path=\"url(#pc6b8689289)\"><g transform=\"translate(1483 218.66) scale(.104 -.104)\"><use xlink:href=\"#DejaVuSans-50\"/></g></g><g clip-path=\"url(#pc6b8689289)\"><g transform=\"translate(1528.4 218.66) scale(.104 -.104)\"><use xlink:href=\"#DejaVuSans-51\"/></g></g><g clip-path=\"url(#pc6b8689289)\"><defs><path id=\"DejaVuSans-Oblique-113\" d=\"m41.703 8.2031q-3.6094-4.7344-8.5312-7.1875-4.9062-2.4375-10.859-2.4375-8.2969 0-13.016 5.5938-4.7031 5.5938-4.7031 15.406 0 7.9062 2.9062 15.281t8.3281 13.234q3.5156 3.8125 8.0781 5.8594t9.5938 2.0469q6.0469 0 9.9531-2.3906t5.6719-7.2188l1.5625 8.2031h9.0312l-14.594-75.203h-9.0469zm-27.781 12.703q0-7.2344 3.0156-11.016 3.0312-3.7812 8.75-3.7812 8.5 0 14.5 8.125t6 19.75q0 7.0312-3.1094 10.766-3.0938 3.7344-8.8906 3.7344-4.25 0-7.875-1.9844-3.6094-1.9688-6.2969-5.7812-2.8281-4-4.4688-9.375-1.625-5.3594-1.625-10.438z\"/></defs><g transform=\"translate(60.174 48.012) scale(.1625 -.1625)\"><use transform=\"translate(0 .09375)\" xlink:href=\"#DejaVuSans-Oblique-113\"/><use transform=\"translate(63.477 .09375)\" xlink:href=\"#DejaVuSans-49\"/><use transform=\"translate(127.1 .09375)\" xlink:href=\"#DejaVuSans-49\"/><use transform=\"translate(191.68 -16.312) scale(.7)\" xlink:href=\"#DejaVuSans-48\"/></g></g><g clip-path=\"url(#pc6b8689289)\"><g transform=\"translate(60.174 93.463) scale(.1625 -.1625)\"><use transform=\"translate(0 .09375)\" xlink:href=\"#DejaVuSans-Oblique-113\"/><use transform=\"translate(63.477 .09375)\" xlink:href=\"#DejaVuSans-49\"/><use transform=\"translate(127.1 .09375)\" xlink:href=\"#DejaVuSans-49\"/><use transform=\"translate(191.68 -16.312) scale(.7)\" xlink:href=\"#DejaVuSans-49\"/></g></g><g clip-path=\"url(#pc6b8689289)\"><g transform=\"translate(60.174 138.91) scale(.1625 -.1625)\"><use transform=\"translate(0 .09375)\" xlink:href=\"#DejaVuSans-Oblique-113\"/><use transform=\"translate(63.477 .09375)\" xlink:href=\"#DejaVuSans-49\"/><use transform=\"translate(127.1 .09375)\" xlink:href=\"#DejaVuSans-49\"/><use transform=\"translate(191.68 -16.312) scale(.7)\" xlink:href=\"#DejaVuSans-50\"/></g></g><g clip-path=\"url(#pc6b8689289)\"><g transform=\"translate(60.174 184.36) scale(.1625 -.1625)\"><use transform=\"translate(0 .09375)\" xlink:href=\"#DejaVuSans-Oblique-113\"/><use transform=\"translate(63.477 .09375)\" xlink:href=\"#DejaVuSans-49\"/><use transform=\"translate(127.1 .09375)\" xlink:href=\"#DejaVuSans-49\"/><use transform=\"translate(191.68 -16.312) scale(.7)\" xlink:href=\"#DejaVuSans-51\"/></g></g><g clip-path=\"url(#pc6b8689289)\"><g transform=\"translate(153.55 218.66) scale(.104 -.104)\"><use xlink:href=\"#DejaVuSans-52\"/></g></g><g clip-path=\"url(#pc6b8689289)\"><defs><path id=\"DejaVuSans-Oblique-109\" d=\"m89.797 33.016-6.3906-33.016h-8.9844l6.2969 32.719q0.39062 2.0938 0.57812 3.6094 0.20312 1.5156 0.20312 2.5938 0 4.3906-2.4531 6.8281-2.4375 2.4375-6.8281 2.4375-6.5469 0-11.672-4.9062t-6.6406-12.766l-6-30.516h-8.9844l6.3906 32.719q0.39062 1.7969 0.57812 3.3281 0.20312 1.5469 0.20312 2.7656 0 4.4531-2.4375 6.9062-2.4375 2.4688-6.7344 2.4688-6.6406 0-11.781-4.9062-5.125-4.9062-6.6406-12.766l-6-30.516h-8.9844l10.688 54.688h8.9844l-1.7031-8.5q3.6562 4.7969 8.5625 7.2969 4.9219 2.5156 10.531 2.5156 5.9531 0 9.7812-3.125 3.8438-3.125 4.625-8.6875 4.0938 5.7656 9.4844 8.7812 5.4062 3.0312 11.406 3.0312 7.0312 0 10.859-4.0469 3.8438-4.0469 3.8438-11.469 0-1.6094-0.20312-3.5469-0.1875-1.9219-0.57812-3.9219z\"/><path id=\"DejaVuSans-Oblique-101\" d=\"m48.094 32.234q0.15625 0.78125 0.21875 1.6094 0.078125 0.82812 0.078125 1.6562 0 5.9531-3.5 9.4219-3.4844 3.4688-9.4844 3.4688-6.6875 0-11.828-4.2344-5.125-4.2188-7.75-11.984zm7.8125-7.0312h-41.797q-0.29688-1.8594-0.39062-2.9375t-0.09375-1.8594q0-6.7812 4.1719-10.5 4.1719-3.7031 11.797-3.7031 5.8594 0 11.078 1.3125 5.2344 1.3281 9.7188 3.8594l-1.7031-8.8906q-4.8438-1.9531-10-2.9219-5.1406-0.98438-10.469-0.98438-11.375 0-17.5 5.4375-6.125 5.4531-6.125 15.469 0 8.5469 3.0469 15.891t8.9688 13.109q3.7969 3.6094 9.0469 5.5625t11.156 1.9531q9.2812 0 14.766-5.5625 5.5-5.5625 5.5-14.938 0-2.25-0.29688-4.8125-0.28125-2.5625-0.875-5.4844z\"/><path id=\"DejaVuSans-Oblique-97\" d=\"m53.719 31.203-6.1094-31.203h-8.9844l1.6562 8.2969q-3.9531-4.875-9.0156-7.2969-5.0469-2.4219-11.25-2.4219-6.9844 0-11.453 4.2656-4.4531 4.2812-4.4531 10.969 0 9.5781 7.6406 15.141t21.062 5.5625h12.5l0.48438 2.4062q0.10938 0.39062 0.15625 0.84375 0.046875 0.46875 0.046875 1.4375 0 4.3594-3.5469 6.7656-3.5312 2.4219-9.9375 2.4219-4.3906 0-9.0156-1.125-4.6094-1.125-9.4844-3.375l1.5625 8.3125q5.0781 1.9062 9.9375 2.8438 4.8594 0.95312 9.3906 0.95312 9.6719 0 14.719-4.2031 5.0625-4.1875 5.0625-12.203 0-1.6094-0.25-3.7812-0.23438-2.1719-0.71875-4.6094zm-9.7188-3.7188h-8.9844q-11.047 0-16.344-2.9531t-5.2969-9.1562q0-4.2969 2.7031-6.7344 2.7188-2.4375 7.5-2.4375 7.3281 0 12.797 5.25t7.2344 14.031z\"/><path id=\"DejaVuSans-Oblique-115\" d=\"m50 53.078-1.7031-8.5q-3.5625 1.9531-7.5312 2.9219-3.9531 0.98438-8.1406 0.98438-7.0938 0-11.172-2.4219-4.0625-2.4062-4.0625-6.5625 0-4.8281 9.4688-7.4219 0.73438-0.1875 1.0781-0.29688l2.875-0.875q8.9844-2.4844 11.984-5.2188t3-7.4688q0-8.7031-6.9062-14.172t-18.094-5.4688q-4.3438 0-9.125 0.84375-4.7812 0.82812-10.547 2.5781l1.75 9.2812q4.9375-2.5469 9.7188-3.8594 4.7969-1.3125 9.1875-1.3125 6.5938 0 10.719 2.8281t4.125 7.1719q0 4.6875-10.844 7.5781l-0.92188 0.23438-3.0781 0.78125q-6.8438 1.8125-10.016 4.7656t-3.1719 7.5469q0 8.7344 6.5625 13.859 6.5781 5.125 17.859 5.125 4.4375 0 8.6562-0.73438 4.2344-0.71875 8.3281-2.1875z\"/></defs><g transform=\"translate(45.776 230.75) scale(.195 -.195)\"><use xlink:href=\"#DejaVuSans-Oblique-109\"/><use transform=\"translate(97.412)\" xlink:href=\"#DejaVuSans-Oblique-101\"/><use transform=\"translate(158.94)\" xlink:href=\"#DejaVuSans-Oblique-97\"/><use transform=\"translate(220.21)\" xlink:href=\"#DejaVuSans-Oblique-115\"/></g></g><defs><clipPath id=\"pc6b8689289\"><rect x=\"7.2\" y=\"7.2\" width=\"1559.9\" height=\"245.44\"/></clipPath></defs></svg>"
      ],
      "text/plain": [
       "<Figure size 2066.06x325.08 with 1 Axes>"
      ]
     },
     "execution_count": 8,
     "metadata": {},
     "output_type": "execute_result"
    }
   ],
   "source": [
    "from qiskit import QuantumRegister, QuantumCircuit\n",
    "import numpy as np\n",
    "\n",
    "t = 2  # This is not optimal; As an exercise, set this to the\n",
    "       # value that will get the best results. See section 8 for solution.\n",
    "\n",
    "nqubits = 4  # Total number of qubits\n",
    "nb = 1  # Number of qubits representing the solution\n",
    "nl = 2  # Number of qubits representing the eigenvalues\n",
    "\n",
    "theta = 0  # Angle defining |b>\n",
    "\n",
    "a = 1  # Matrix diagonal\n",
    "b = -1/3  # Matrix off-diagonal\n",
    "\n",
    "# Initialise the quantum and classical registers\n",
    "qr = QuantumRegister(nqubits)\n",
    "\n",
    "# Create a Quantum Circuit\n",
    "qc = QuantumCircuit(qr)\n",
    "\n",
    "qrb = qr[0:nb]\n",
    "qrl = qr[nb:nb+nl]\n",
    "qra = qr[nb+nl:nb+nl+1]\n",
    "\n",
    "# State preparation. \n",
    "qc.ry(2*theta, qrb[0])\n",
    "    \n",
    "# QPE with e^{iAt}\n",
    "for qu in qrl:\n",
    "    qc.h(qu)\n",
    "\n",
    "qc.u1(a*t, qrl[0])\n",
    "qc.u1(a*t*2, qrl[1])\n",
    "\n",
    "qc.u3(b*t, -np.pi/2, np.pi/2, qrb[0])\n",
    "\n",
    "\n",
    "# Controlled e^{iAt} on \\lambda_{1}:\n",
    "params=b*t\n",
    "\n",
    "qc.u1(np.pi/2,qrb[0])\n",
    "qc.cx(qrl[0],qrb[0])\n",
    "qc.ry(params,qrb[0])\n",
    "qc.cx(qrl[0],qrb[0])\n",
    "qc.ry(-params,qrb[0])\n",
    "qc.u1(3*np.pi/2,qrb[0])\n",
    "\n",
    "# Controlled e^{2iAt} on \\lambda_{2}:\n",
    "params = b*t*2\n",
    "\n",
    "qc.u1(np.pi/2,qrb[0])\n",
    "qc.cx(qrl[1],qrb[0])\n",
    "qc.ry(params,qrb[0])\n",
    "qc.cx(qrl[1],qrb[0])\n",
    "qc.ry(-params,qrb[0])\n",
    "qc.u1(3*np.pi/2,qrb[0])\n",
    "\n",
    "# Inverse QFT\n",
    "qc.h(qrl[1])\n",
    "qc.rz(-np.pi/4,qrl[1])\n",
    "qc.cx(qrl[0],qrl[1])\n",
    "qc.rz(np.pi/4,qrl[1])\n",
    "qc.cx(qrl[0],qrl[1])\n",
    "qc.rz(-np.pi/4,qrl[0])\n",
    "qc.h(qrl[0])\n",
    "\n",
    "# Eigenvalue rotation\n",
    "t1=(-np.pi +np.pi/3 - 2*np.arcsin(1/3))/4\n",
    "t2=(-np.pi -np.pi/3 + 2*np.arcsin(1/3))/4\n",
    "t3=(np.pi -np.pi/3 - 2*np.arcsin(1/3))/4\n",
    "t4=(np.pi +np.pi/3 + 2*np.arcsin(1/3))/4\n",
    "\n",
    "qc.cx(qrl[1],qra[0])\n",
    "qc.ry(t1,qra[0])\n",
    "qc.cx(qrl[0],qra[0])\n",
    "qc.ry(t2,qra[0])\n",
    "qc.cx(qrl[1],qra[0])\n",
    "qc.ry(t3,qra[0])\n",
    "qc.cx(qrl[0],qra[0])\n",
    "qc.ry(t4,qra[0])\n",
    "qc.measure_all()\n",
    "\n",
    "print(\"Depth: %i\" % qc.depth())\n",
    "print(\"CNOTS: %i\" % qc.count_ops()['cx'])\n",
    "qc.draw(fold=100)"
   ]
  },
  {
   "cell_type": "markdown",
   "metadata": {},
   "source": [
    "以下のコードでは回路、実ハードウェアのバックエンド、及び利用したい量子ビットのセットを入力とし、特定のデバイスで実行した結果とインスタンス情報を出力します。\n",
    "\n",
    "実デバイスは定期的にキャリブレーションが必要なため、時間によっては特定の量子ビットもしくはゲートのフィデリティーが異なります。さらには、異なるチップは異なる接続性を持ちます。特定のデバイスで接続されていない２つの量子ビットゲートを実行する時には、トランスパイラーは SWAP を追加します。ですので、実行する前に、特定の時間で正しい接続性をもつかエラー率が低いかを IBM Q Experience Webページ<sup>[7](#qexperience)</sup> で確認することを推奨します。"
   ]
  },
  {
   "cell_type": "code",
   "execution_count": 9,
   "metadata": {},
   "outputs": [],
   "source": [
    "from qiskit import execute, BasicAer, ClassicalRegister, IBMQ\n",
    "from qiskit.compiler import transpile\n",
    "from qiskit.ignis.mitigation.measurement import (complete_meas_cal, # Measurement error mitigation functions\n",
    "                                                 CompleteMeasFitter, \n",
    "                                                 MeasurementFilter)\n",
    "\n",
    "provider = IBMQ.load_account()\n",
    "\n",
    "backend = provider.get_backend('ibmqx2') # calibrate using real hardware\n",
    "layout = [2,3,0,4]\n",
    "chip_qubits = 5\n",
    "\n",
    "# Transpiled circuit for the real hardware\n",
    "qc_qa_cx = transpile(qc, backend=backend, initial_layout=layout)"
   ]
  },
  {
   "cell_type": "markdown",
   "metadata": {},
   "source": [
    "次のステップでは読み取りエラーを回避するための回路を追加しています<sup>[3](#readouterr)</sup>。"
   ]
  },
  {
   "cell_type": "code",
   "execution_count": 10,
   "metadata": {},
   "outputs": [],
   "source": [
    "meas_cals, state_labels = complete_meas_cal(qubit_list=layout, qr=QuantumRegister(chip_qubits))\n",
    "qcs = meas_cals + [qc_qa_cx]\n",
    "\n",
    "shots = 10\n",
    "job = execute(qcs, backend=backend, shots=shots, optimization_level=0)"
   ]
  },
  {
   "cell_type": "markdown",
   "metadata": {},
   "source": [
    "次のプロットは <sup>[5](#tridi)</sup> 上記の回路を $10$ の異なる初期状態から実行して得られた結果を示しています。$x$軸は各々の場合の初期状態で定義される $\\theta$ 角です。結果は読み取りエラーを回避、$1$, $3$, $5$ の回路結果から得られたエラーを外挿した後の結果を表示しています。 \n",
    "\n",
    "<img src=\"images/norm_public.png\">\n",
    "\n",
    "以下はエラー回避や CNOT からの外挿がない場合の比較です <sup>[5](#tridi)</sup>。\n",
    "\n",
    "<img src=\"images/noerrmit_public.png\">"
   ]
  },
  {
   "cell_type": "markdown",
   "metadata": {},
   "source": [
    "## 8. 演習<a id='problems'></a>\n",
    "\n",
    "##### 実ハードウェア:\n",
    "\n",
    "1. 最適化された例で時間のパラメータをセットせよ。\n",
    "\n",
    "<details>\n",
    "    <summary> 解 (Click to expand)</summary>\n",
    "    t = 2.344915690192344\n",
    "    \n",
    "ベストな結果はこの値をセットします。なぜならその逆行列が解に対して最も大きく寄与するため、最小の固有値が表現できるようになるからです。\n",
    "</details>\n",
    "\n",
    "2. 与えられた回路 `qc` から $3$ と $5$ の CNOT のトランスパイル回路を作成せよ。`transpile()`関数を使ったときに、これらの連続したCNOTゲートがキャンセルされないように、回路を作るときにbarriersを追加する必要がある。\n",
    "3. 実ハードウェアで作成した回路を実行し、結果に対して２次フィットを適用し、外挿値を求めよ。"
   ]
  },
  {
   "cell_type": "markdown",
   "metadata": {},
   "source": [
    "## 9. 参考文献<a id='references'></a>"
   ]
  },
  {
   "cell_type": "markdown",
   "metadata": {},
   "source": [
    "1. J. R. Shewchuk. An Introduction to the Conjugate Gradient Method Without the Agonizing Pain. Technical Report CMU-CS-94-125, School of Computer Science, Carnegie Mellon University, Pittsburgh, Pennsylvania, March 1994.<a id='conjgrad'></a> \n",
    "2. A. W. Harrow, A. Hassidim, and S. Lloyd, “Quantum algorithm for linear systems of equations,” Phys. Rev. Lett. 103.15 (2009), p. 150502.<a id='hhl'></a>\n",
    "3. A. Dewes, F. R. Ong, V. Schmitt, R. Lauro, N. Boulant, P. Bertet, D. Vion, and D. Esteve, “Characterization of a two-transmon processor with individual single-shot qubit readout,” Phys. Rev. Lett. 108, 057002 (2012). <a id='readouterr'></a>\n",
    "4. N. Stamatopoulos, D. J. Egger, Y. Sun, C. Zoufal, R. Iten, N. Shen, and S. Woerner, “Option Pricing using Quantum Computers,” arXiv:1905.02666 . <a id='richardson'></a>\n",
    "5. A. Carrera Vazquez, A. Frisch, D. Steenken, H. S. Barowski, R. Hiptmair, and S. Woerner, “Enhancing Quantum Linear System Algorithm by Richardson Extrapolation,” (to be included).<a id='tridi'></a>\n",
    "6. R. Iten, O. Reardon-Smith, L. Mondada, E. Redmond, R. Singh Kohli, R. Colbeck, “Introduction to UniversalQCompiler,” arXiv:1904.01072 .<a id='qcompiler'></a>\n",
    "7. https://quantum-computing.ibm.com/ .<a id='qexperience'></a>\n",
    "8. D. Bucher, J. Mueggenburg, G. Kus, I. Haide, S. Deutschle, H. Barowski, D. Steenken, A. Frisch, \"Qiskit Aqua: Solving linear systems of equations with the HHL algorithm\" https://github.com/Qiskit/qiskit-tutorials/blob/master/legacy_tutorials/aqua/linear_systems_of_equations.ipynb"
   ]
  },
  {
   "cell_type": "code",
   "execution_count": null,
   "metadata": {},
   "outputs": [],
   "source": []
  },
  {
   "cell_type": "code",
   "execution_count": null,
   "metadata": {},
   "outputs": [],
   "source": []
  }
 ],
 "metadata": {
  "kernelspec": {
   "display_name": "Python 3",
   "language": "python",
   "name": "python3"
  },
  "language_info": {
   "codemirror_mode": {
    "name": "ipython",
    "version": 3
   },
   "file_extension": ".py",
   "mimetype": "text/x-python",
   "name": "python",
   "nbconvert_exporter": "python",
   "pygments_lexer": "ipython3",
   "version": "3.9"
  }
 },
 "nbformat": 4,
 "nbformat_minor": 2
}
