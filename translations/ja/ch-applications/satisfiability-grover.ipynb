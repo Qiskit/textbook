{
 "cells": [
  {
   "cell_type": "markdown",
   "metadata": {},
   "source": [
    "# Groverのアルゴリズムを用いた充足可能性問題の解法"
   ]
  },
  {
   "cell_type": "markdown",
   "metadata": {},
   "source": [
    "このセクションでは、Qiskit Aqua内のGroverのアルゴリズムの実装を用いた、充足可能性問題の解法を説明します。  \n",
    "\n",
    "## 目次\n",
    "\n",
    "1. [序論](#introduction)\n",
    "\n",
    "2. [3-SAT問題](#3satproblem)\n",
    "\n",
    "3. [Qiskitでの実装](#implementation)\n",
    "\n",
    "4. [演習問題](#problems)\n",
    "\n",
    "5. [参考文献](#references)"
   ]
  },
  {
   "cell_type": "markdown",
   "metadata": {},
   "source": [
    "## 1. 序論 <a id='introduction'></a>\n",
    "\n",
    "[前のセクション](../ch-algorithms/grover.ipynb)では、非構造化探索に対するGroverのアルゴリズムについて、Qiskit Terraを用いた例と実装とともに紹介しました。Groverの探索は、古典的なコンピューターのものより二乗のオーダーで、早く正しい解を探すことができる量子アルゴリズムであることがお分かりいただけたと思います。ここでは、Groverのアルゴリズムを使用して、組合せブール値の充足可能性問題の解法を説明しましょう。\n",
    "\n",
    "コンピューター・サイエンスにおいて、ブール値の充足性問題とは、与えられたブール式を満たす解が存在するかどうかを決定する問題です。言い換えると、式がTRUEと評価されるように、与えられたブール式の変数をTRUEまたはFALSEの値で置き換えることができるかどうかを問う問題になります。置き換えられる場合、式は「充足している」と言います。 一方、そのような値の割り当てが存在しない場合は、式で表される関数は、すべての可能な変数値に対してFALSEになり、式は「充足していない」と言います。 つまり、ブール式を満たす割り当てを解とすると、これは探索問題と見なすことができます。"
   ]
  },
  {
   "cell_type": "markdown",
   "metadata": {},
   "source": [
    "## 2. 3-SAT問題  <a id='3satproblem'></a>\n",
    "\n",
    "3体充足度問題（3-SAT問題）は、次の具体的な問題が最良の説明となります。以下の様に、3つのブール変数 $v_1,v_2,v_3$ とブール関数 $f$ を考えましょう：\n",
    "\n",
    "$$f(v_1,v_2,v_3) = (\\neg v_1 \\vee \\neg v_2 \\vee \\neg v_3) \\wedge (v_1 \\vee \\neg v_2 \\vee v_3) \\wedge (v_1 \\vee v_2 \\vee \\neg v_3) \\wedge (v_1 \\vee \\neg v_2 \\vee \\neg v_3) \\wedge (\\neg v_1 \\vee v_2 \\vee v_3)$$\n",
    "\n",
    "上の関数において、右側の方程式の項の$()$の内側を、節と呼びます。つまり、この関数には5つの節があります。3-SAT問題であるため、各節には必ず3つのリテラルがあります。 例えば、最初の節には、 $ \\neg v_1$、 $\\neg v_2$ 、および $\\neg v_3$ がリテラルとして含まれています。 記号 $\\neg$ は、後続のリテラルの値を否定する（または反転する）論理NOTです。 記号 $\\vee$ と $\\wedge$  は、それぞれ論理ORと論理ANDになります。 $f(v_1, v_2, v_3) = 1$ と評価できる $v_1, v_2, v_3$ の値がある場合には、ブール関数 $f$ は充足します（つまり、 $f$ がTrueと評価できるということです）。\n",
    "\n",
    "そのような値を見つけるための馬鹿正直な方法は、$f$の入力値の可能なすべての組み合わせを試行することです。以下の表は、 $v_1, v_2, v_3$ のすべての可能な組み合わせを試行した時に得られる表です。 説明を容易にするため、 $0$ はFalseと、 $1$ はTrueと同義とします。\n",
    "\n",
    "|$v_1$ | $v_2$ | $v_3$ | $f$ | コメント | \n",
    "|------|-------|-------|-----|---------|\n",
    "| 0    |  0    |  0    |  1  | **解** | \n",
    "| 0    |  0    |  1    |  0  | $f$ がFalseなので解ではない | \n",
    "| 0    |  1    |  0    |  0  | $f$ がFalseなので解ではない | \n",
    "| 0    |  1    |  1    |  0  | $f$ がFalseなので解ではない | \n",
    "| 1    |  0    |  0    |  0  | $f$ がFalseなので解ではない | \n",
    "| 1    |  0    |  1    |  1  | **解** | \n",
    "| 1    |  1    |  0    |  1  | **解** | \n",
    "| 1    |  1    |  1    |  0  | $f$ がFalseなので解ではない | \n",
    "\n",
    "上の表から、この3-SAT問題が、3つの充足解 $(v_1, v_2, v_3) = (T, F, T)$ or $(F, F, F)$ or $(T, T, F)$ を持つことがわかります。\n",
    "\n",
    "一般的に、ブール関数 $f$ は、多くの節と、より多くのブール型変数を持ちます。3-SAT問題は、連言標準形（Conjunctive Normal Form、CNF)、つまり3つのリテラルの選言からなる節と一つ以上の節の連言として常に表現できることに注意してください。すなわち、3つの論理和の論理積となります。"
   ]
  },
  {
   "cell_type": "markdown",
   "metadata": {},
   "source": [
    "## 3. Qiskitでの実装 <a id='implementation'></a>\n",
    "\n",
    "では、Qiskit Aquaを使って、3-SATの例題を解いてみましょう: \n",
    "$$f(v_1,v_2,v_3) = (\\neg v_1 \\vee \\neg v_2 \\vee \\neg v_3) \\wedge (v_1 \\vee \\neg v_2 \\vee v_3) \\wedge (v_1 \\vee v_2 \\vee \\neg v_3) \\wedge (v_1 \\vee \\neg v_2 \\vee \\neg v_3) \\wedge (\\neg v_1 \\vee v_2 \\vee v_3)$$\n",
    "\n",
    "まず、Qiskit Aquaがこの様な問題を解くために使用している入力フォーマット [DIMACS CNF](http://www.satcompetition.org/2009/format-benchmarks2009.html) ついて理解する必要があります：\n",
    "\t\n",
    "~~~\n",
    "c example DIMACS CNF 3-SAT\n",
    "p cnf 3 5\n",
    "-1 -2 -3 0\n",
    "1 -2 3 0\n",
    "1 2 -3 0\n",
    "1 -2 -3 0\n",
    "-1 2 3 0\n",
    "~~~\n",
    "\n",
    "- `c` から始まる行はコメントです\n",
    "    - 例： `c example DIMACS CNF 3-SAT`\n",
    "- 最初の非コメント行は、`p cnf nbvar nbclauses` という形である必要があります。ここで：\n",
    "  - `cnf` は、入力がCNF形式であることを意味します\n",
    "  - `nbvar` は、ファイル内に出現する変数の正確な数です\n",
    "  - `nbclauses` は、ファイル内に含まれる節の正確な数です\n",
    "  - 例： `p cnf 3 5`\n",
    "- 次に、各節の行が記述されます。ここで：\n",
    "  - 各節は `-nbvar` から `nbvar`の間の個別の非Null値の数列で、行は`0`で終わります\n",
    "  - 反数 i と -i を同時に含むことはできません\n",
    "  - 正の数は対応する変数を意味します\n",
    "  - 負の数は対応する変数の否定を意味します\n",
    "  - 例：`-1 2 3 0` は、節 $\\neg v_1 \\vee v_2 \\vee v_3$ に対応します。\n",
    "\n",
    "同様に、前の問題の解 $(v_1, v_2, v_3) = (T, F, T)$ , $(F, F, F)$ , $(T, T, F)$ は、`1 -2 3` , `-1 -2 -3` , `1 2 -3` と書くことができます.\n",
    "\n",
    "この例題を入力として、Grover探索に対応する Oracle を作成します。具体的には、Aquaで提供されるLogicalExpressionOracleコンポーネントを使用します。このコンポーネントは、DIMACS CNF構文文字列の解析と、対応するOracle回路の構築をサポートしています。"
   ]
  },
  {
   "cell_type": "code",
   "execution_count": 1,
   "metadata": {},
   "outputs": [],
   "source": [
    "import numpy as np\n",
    "from qiskit import BasicAer\n",
    "from qiskit.visualization import plot_histogram\n",
    "%config InlineBackend.figure_format = 'svg' # Makes the images look nice\n",
    "from qiskit.aqua import QuantumInstance, run_algorithm\n",
    "from qiskit.aqua.algorithms import Grover\n",
    "from qiskit.aqua.components.oracles import LogicalExpressionOracle, TruthTableOracle"
   ]
  },
  {
   "cell_type": "code",
   "execution_count": 2,
   "metadata": {},
   "outputs": [],
   "source": [
    "input_3sat = '''\n",
    "c example DIMACS-CNF 3-SAT\n",
    "p cnf 3 5\n",
    "-1 -2 -3 0\n",
    "1 -2 3 0\n",
    "1 2 -3 0\n",
    "1 -2 -3 0\n",
    "-1 2 3 0\n",
    "'''"
   ]
  },
  {
   "cell_type": "code",
   "execution_count": 3,
   "metadata": {},
   "outputs": [],
   "source": [
    "oracle = LogicalExpressionOracle(input_3sat)"
   ]
  },
  {
   "cell_type": "markdown",
   "metadata": {},
   "source": [
    "`oracle` はGroverのインスタンスを作成するために使用されます："
   ]
  },
  {
   "cell_type": "code",
   "execution_count": 4,
   "metadata": {},
   "outputs": [],
   "source": [
    "grover = Grover(oracle)"
   ]
  },
  {
   "cell_type": "markdown",
   "metadata": {},
   "source": [
    "シミュレーター・バックエンドを構成し、Groverのインスタンスを実行して結果を得ることができます："
   ]
  },
  {
   "cell_type": "code",
   "execution_count": 5,
   "metadata": {},
   "outputs": [
    {
     "name": "stdout",
     "output_type": "stream",
     "text": [
      "[1, -2, 3]\n"
     ]
    }
   ],
   "source": [
    "backend = BasicAer.get_backend('qasm_simulator')\n",
    "quantum_instance = QuantumInstance(backend, shots=1024)\n",
    "result = grover.run(quantum_instance)\n",
    "print(result['result'])"
   ]
  },
  {
   "cell_type": "markdown",
   "metadata": {},
   "source": [
    "上に示される通り、与えられた3-SAT問題を充足する解が得られました。これは確かに3つの充足解の1つです。\n",
    "\n",
    "シミュレーター・バックエンドを使用しているため、以下の図に示すように、完全な測定結果も返されます。3つの充足解に対応するバイナリ文字列 `000`、`011`および`101`（各文字列のビット・オーダーに注意してください）が高い確率を持っていることが見て取れます。"
   ]
  },
  {
   "cell_type": "code",
   "execution_count": 6,
   "metadata": {},
   "outputs": [
    {
     "data": {
      "image/svg+xml": [
       "<?xml version=\"1.0\" encoding=\"UTF-8\"?><!DOCTYPE svg  PUBLIC '-//W3C//DTD SVG 1.1//EN'  'http://www.w3.org/Graphics/SVG/1.1/DTD/svg11.dtd'><svg width=\"460.72pt\" height=\"322.95pt\" version=\"1.1\" viewBox=\"0 0 460.72 322.95\" xmlns=\"http://www.w3.org/2000/svg\" xmlns:xlink=\"http://www.w3.org/1999/xlink\"><defs><style type=\"text/css\">*{stroke-linecap:butt;stroke-linejoin:round;}</style></defs><path d=\"m0 322.95h460.72v-322.95h-460.72z\" fill=\"none\"/><path d=\"m62.921 279h390.6v-271.8h-390.6z\" fill=\"#ffffff\"/><defs><path id=\"mffc94b659e\" d=\"m0 0v3.5\" stroke=\"#000000\" stroke-width=\".8\"/></defs><use x=\"92.512159\" y=\"279\" stroke=\"#000000\" stroke-width=\".8\" xlink:href=\"#mffc94b659e\"/><defs><path id=\"DejaVuSans-48\" d=\"m31.781 66.406q-7.6094 0-11.453-7.5-3.8281-7.4844-3.8281-22.531 0-14.984 3.8281-22.484 3.8438-7.5 11.453-7.5 7.6719 0 11.5 7.5 3.8438 7.5 3.8438 22.484 0 15.047-3.8438 22.531-3.8281 7.5-11.5 7.5zm0 7.8125q12.266 0 18.734-9.7031 6.4688-9.6875 6.4688-28.141 0-18.406-6.4688-28.109-6.4688-9.6875-18.734-9.6875-12.25 0-18.719 9.6875-6.4688 9.7031-6.4688 28.109 0 18.453 6.4688 28.141 6.4688 9.7031 18.719 9.7031z\"/></defs><g transform=\"translate(91.572 314.75) rotate(-70) scale(.14 -.14)\"><use xlink:href=\"#DejaVuSans-48\"/><use x=\"63.623047\" xlink:href=\"#DejaVuSans-48\"/><use x=\"127.246094\" xlink:href=\"#DejaVuSans-48\"/></g><use x=\"139.857614\" y=\"279\" stroke=\"#000000\" stroke-width=\".8\" xlink:href=\"#mffc94b659e\"/><defs><path id=\"DejaVuSans-49\" d=\"m12.406 8.2969h16.109v55.625l-17.531-3.5156v8.9844l17.438 3.5156h9.8594v-64.609h16.109v-8.2969h-41.984z\"/></defs><g transform=\"translate(138.92 314.75) rotate(-70) scale(.14 -.14)\"><use xlink:href=\"#DejaVuSans-48\"/><use x=\"63.623047\" xlink:href=\"#DejaVuSans-48\"/><use x=\"127.246094\" xlink:href=\"#DejaVuSans-49\"/></g><use x=\"187.203068\" y=\"279\" stroke=\"#000000\" stroke-width=\".8\" xlink:href=\"#mffc94b659e\"/><g transform=\"translate(186.26 314.75) rotate(-70) scale(.14 -.14)\"><use xlink:href=\"#DejaVuSans-48\"/><use x=\"63.623047\" xlink:href=\"#DejaVuSans-49\"/><use x=\"127.246094\" xlink:href=\"#DejaVuSans-48\"/></g><use x=\"234.548523\" y=\"279\" stroke=\"#000000\" stroke-width=\".8\" xlink:href=\"#mffc94b659e\"/><g transform=\"translate(233.61 314.75) rotate(-70) scale(.14 -.14)\"><use xlink:href=\"#DejaVuSans-48\"/><use x=\"63.623047\" xlink:href=\"#DejaVuSans-49\"/><use x=\"127.246094\" xlink:href=\"#DejaVuSans-49\"/></g><use x=\"281.893977\" y=\"279\" stroke=\"#000000\" stroke-width=\".8\" xlink:href=\"#mffc94b659e\"/><g transform=\"translate(280.95 314.75) rotate(-70) scale(.14 -.14)\"><use xlink:href=\"#DejaVuSans-49\"/><use x=\"63.623047\" xlink:href=\"#DejaVuSans-48\"/><use x=\"127.246094\" xlink:href=\"#DejaVuSans-48\"/></g><use x=\"329.239432\" y=\"279\" stroke=\"#000000\" stroke-width=\".8\" xlink:href=\"#mffc94b659e\"/><g transform=\"translate(328.3 314.75) rotate(-70) scale(.14 -.14)\"><use xlink:href=\"#DejaVuSans-49\"/><use x=\"63.623047\" xlink:href=\"#DejaVuSans-48\"/><use x=\"127.246094\" xlink:href=\"#DejaVuSans-49\"/></g><use x=\"376.584886\" y=\"279\" stroke=\"#000000\" stroke-width=\".8\" xlink:href=\"#mffc94b659e\"/><g transform=\"translate(375.65 314.75) rotate(-70) scale(.14 -.14)\"><use xlink:href=\"#DejaVuSans-49\"/><use x=\"63.623047\" xlink:href=\"#DejaVuSans-49\"/><use x=\"127.246094\" xlink:href=\"#DejaVuSans-48\"/></g><use x=\"423.930341\" y=\"279\" stroke=\"#000000\" stroke-width=\".8\" xlink:href=\"#mffc94b659e\"/><g transform=\"translate(422.99 314.75) rotate(-70) scale(.14 -.14)\"><use xlink:href=\"#DejaVuSans-49\"/><use x=\"63.623047\" xlink:href=\"#DejaVuSans-49\"/><use x=\"127.246094\" xlink:href=\"#DejaVuSans-49\"/></g><path d=\"m62.921 279h390.6\" clip-path=\"url(#p13d69d20ae)\" fill=\"none\" stroke=\"#b0b0b0\" stroke-dasharray=\"2.96,1.28\" stroke-width=\".8\"/><defs><path id=\"maf637391ca\" d=\"m0 0h-3.5\" stroke=\"#000000\" stroke-width=\".8\"/></defs><use x=\"62.92125\" y=\"279\" stroke=\"#000000\" stroke-width=\".8\" xlink:href=\"#maf637391ca\"/><defs><path id=\"DejaVuSans-46\" d=\"m10.688 12.406h10.312v-12.406h-10.312z\"/></defs><g transform=\"translate(24.749 284.32) scale(.14 -.14)\"><use xlink:href=\"#DejaVuSans-48\"/><use x=\"63.623047\" xlink:href=\"#DejaVuSans-46\"/><use x=\"95.410156\" xlink:href=\"#DejaVuSans-48\"/><use x=\"159.033203\" xlink:href=\"#DejaVuSans-48\"/></g><path d=\"m62.921 218.36h390.6\" clip-path=\"url(#p13d69d20ae)\" fill=\"none\" stroke=\"#b0b0b0\" stroke-dasharray=\"2.96,1.28\" stroke-width=\".8\"/><use x=\"62.92125\" y=\"218.363137\" stroke=\"#000000\" stroke-width=\".8\" xlink:href=\"#maf637391ca\"/><defs><path id=\"DejaVuSans-56\" d=\"m31.781 34.625q-7.0312 0-11.062-3.7656-4.0156-3.7656-4.0156-10.344 0-6.5938 4.0156-10.359 4.0312-3.7656 11.062-3.7656t11.078 3.7812q4.0625 3.7969 4.0625 10.344 0 6.5781-4.0312 10.344-4.0156 3.7656-11.109 3.7656zm-9.8594 4.1875q-6.3438 1.5625-9.8906 5.9062-3.5312 4.3594-3.5312 10.609 0 8.7344 6.2188 13.812 6.2344 5.0781 17.062 5.0781 10.891 0 17.094-5.0781t6.2031-13.812q0-6.25-3.5469-10.609-3.5312-4.3438-9.8281-5.9062 7.125-1.6562 11.094-6.5 3.9844-4.8281 3.9844-11.797 0-10.609-6.4688-16.281-6.4688-5.6562-18.531-5.6562-12.047 0-18.531 5.6562-6.4688 5.6719-6.4688 16.281 0 6.9688 4 11.797 4.0156 4.8438 11.141 6.5zm-3.6094 15.578q0-5.6562 3.5312-8.8281 3.5469-3.1719 9.9375-3.1719 6.3594 0 9.9375 3.1719 3.5938 3.1719 3.5938 8.8281 0 5.6719-3.5938 8.8438-3.5781 3.1719-9.9375 3.1719-6.3906 0-9.9375-3.1719-3.5312-3.1719-3.5312-8.8438z\"/></defs><g transform=\"translate(24.749 223.68) scale(.14 -.14)\"><use xlink:href=\"#DejaVuSans-48\"/><use x=\"63.623047\" xlink:href=\"#DejaVuSans-46\"/><use x=\"95.410156\" xlink:href=\"#DejaVuSans-48\"/><use x=\"159.033203\" xlink:href=\"#DejaVuSans-56\"/></g><path d=\"m62.921 157.73h390.6\" clip-path=\"url(#p13d69d20ae)\" fill=\"none\" stroke=\"#b0b0b0\" stroke-dasharray=\"2.96,1.28\" stroke-width=\".8\"/><use x=\"62.92125\" y=\"157.726275\" stroke=\"#000000\" stroke-width=\".8\" xlink:href=\"#maf637391ca\"/><defs><path id=\"DejaVuSans-54\" d=\"m33.016 40.375q-6.6406 0-10.531-4.5469-3.875-4.5312-3.875-12.438 0-7.8594 3.875-12.438 3.8906-4.5625 10.531-4.5625t10.516 4.5625q3.875 4.5781 3.875 12.438 0 7.9062-3.875 12.438-3.875 4.5469-10.516 4.5469zm19.578 30.922v-8.9844q-3.7188 1.75-7.5 2.6719-3.7812 0.9375-7.5 0.9375-9.7656 0-14.922-6.5938-5.1406-6.5938-5.875-19.922 2.875 4.25 7.2188 6.5156 4.3594 2.2656 9.5781 2.2656 10.984 0 17.359-6.6719 6.375-6.6562 6.375-18.125 0-11.234-6.6406-18.031-6.6406-6.7812-17.672-6.7812-12.656 0-19.344 9.6875-6.6875 9.7031-6.6875 28.109 0 17.281 8.2031 27.562t22.016 10.281q3.7188 0 7.5-0.73438t7.8906-2.1875z\"/></defs><g transform=\"translate(24.749 163.05) scale(.14 -.14)\"><use xlink:href=\"#DejaVuSans-48\"/><use x=\"63.623047\" xlink:href=\"#DejaVuSans-46\"/><use x=\"95.410156\" xlink:href=\"#DejaVuSans-49\"/><use x=\"159.033203\" xlink:href=\"#DejaVuSans-54\"/></g><path d=\"m62.921 97.089h390.6\" clip-path=\"url(#p13d69d20ae)\" fill=\"none\" stroke=\"#b0b0b0\" stroke-dasharray=\"2.96,1.28\" stroke-width=\".8\"/><use x=\"62.92125\" y=\"97.089412\" stroke=\"#000000\" stroke-width=\".8\" xlink:href=\"#maf637391ca\"/><defs><path id=\"DejaVuSans-50\" d=\"m19.188 8.2969h34.422v-8.2969h-46.281v8.2969q5.6094 5.8125 15.297 15.594 9.7031 9.7969 12.188 12.641 4.7344 5.3125 6.6094 9 1.8906 3.6875 1.8906 7.25 0 5.8125-4.0781 9.4688-4.0781 3.6719-10.625 3.6719-4.6406 0-9.7969-1.6094-5.1406-1.6094-11-4.8906v9.9688q5.9531 2.3906 11.125 3.6094 5.1875 1.2188 9.4844 1.2188 11.328 0 18.062-5.6719 6.7344-5.6562 6.7344-15.125 0-4.5-1.6875-8.5312-1.6719-4.0156-6.125-9.4844-1.2188-1.4219-7.7656-8.1875-6.5312-6.7656-18.453-18.922z\"/><path id=\"DejaVuSans-52\" d=\"m37.797 64.312-24.906-38.922h24.906zm-2.5938 8.5938h12.406v-47.516h10.406v-8.2031h-10.406v-17.188h-9.8125v17.188h-32.906v9.5156z\"/></defs><g transform=\"translate(24.749 102.41) scale(.14 -.14)\"><use xlink:href=\"#DejaVuSans-48\"/><use x=\"63.623047\" xlink:href=\"#DejaVuSans-46\"/><use x=\"95.410156\" xlink:href=\"#DejaVuSans-50\"/><use x=\"159.033203\" xlink:href=\"#DejaVuSans-52\"/></g><path d=\"m62.921 36.453h390.6\" clip-path=\"url(#p13d69d20ae)\" fill=\"none\" stroke=\"#b0b0b0\" stroke-dasharray=\"2.96,1.28\" stroke-width=\".8\"/><use x=\"62.92125\" y=\"36.452549\" stroke=\"#000000\" stroke-width=\".8\" xlink:href=\"#maf637391ca\"/><defs><path id=\"DejaVuSans-51\" d=\"m40.578 39.312q7.0781-1.5156 11.047-6.3125 3.9844-4.7812 3.9844-11.812 0-10.781-7.4219-16.703-7.4219-5.9062-21.094-5.9062-4.5781 0-9.4375 0.90625t-10.031 2.7188v9.5156q4.0938-2.3906 8.9688-3.6094 4.8906-1.2188 10.219-1.2188 9.2656 0 14.125 3.6562t4.8594 10.641q0 6.4531-4.5156 10.078-4.5156 3.6406-12.562 3.6406h-8.5v8.1094h8.8906q7.2656 0 11.125 2.9062t3.8594 8.375q0 5.6094-3.9844 8.6094-3.9688 3.0156-11.391 3.0156-4.0625 0-8.7031-0.89062-4.6406-0.875-10.203-2.7188v8.7812q5.625 1.5625 10.531 2.3438t9.25 0.78125q11.234 0 17.766-5.1094 6.5469-5.0938 6.5469-13.781 0-6.0625-3.4688-10.234t-9.8594-5.7812z\"/></defs><g transform=\"translate(24.749 41.771) scale(.14 -.14)\"><use xlink:href=\"#DejaVuSans-48\"/><use x=\"63.623047\" xlink:href=\"#DejaVuSans-46\"/><use x=\"95.410156\" xlink:href=\"#DejaVuSans-51\"/><use x=\"159.033203\" xlink:href=\"#DejaVuSans-50\"/></g><defs><path id=\"DejaVuSans-80\" d=\"m19.672 64.797v-27.391h12.406q6.8906 0 10.641 3.5625 3.7656 3.5625 3.7656 10.156 0 6.5469-3.7656 10.109-3.75 3.5625-10.641 3.5625zm-9.8594 8.1094h22.266q12.266 0 18.531-5.5469 6.2812-5.5469 6.2812-16.234 0-10.797-6.2812-16.312-6.2656-5.5156-18.531-5.5156h-12.406v-29.297h-9.8594z\"/><path id=\"DejaVuSans-114\" d=\"m41.109 46.297q-1.5156 0.875-3.2969 1.2812-1.7812 0.42188-3.9219 0.42188-7.625 0-11.703-4.9531t-4.0781-14.234v-28.812h-9.0312v54.688h9.0312v-8.5q2.8438 4.9844 7.375 7.3906 4.5469 2.4219 11.047 2.4219 0.92188 0 2.0469-0.125 1.125-0.10938 2.4844-0.35938z\"/><path id=\"DejaVuSans-111\" d=\"m30.609 48.391q-7.2188 0-11.422-5.6406t-4.2031-15.453 4.1719-15.453q4.1875-5.6406 11.453-5.6406 7.1875 0 11.375 5.6562 4.2031 5.6719 4.2031 15.438 0 9.7188-4.2031 15.406-4.1875 5.6875-11.375 5.6875zm0 7.6094q11.719 0 18.406-7.625 6.7031-7.6094 6.7031-21.078 0-13.422-6.7031-21.078-6.6875-7.6406-18.406-7.6406-11.766 0-18.438 7.6406-6.6562 7.6562-6.6562 21.078 0 13.469 6.6562 21.078 6.6719 7.625 18.438 7.625z\"/><path id=\"DejaVuSans-98\" d=\"m48.688 27.297q0 9.9062-4.0781 15.547t-11.203 5.6406q-7.1406 0-11.219-5.6406t-4.0781-15.547 4.0781-15.547 11.219-5.6406q7.125 0 11.203 5.6406t4.0781 15.547zm-30.578 19.094q2.8438 4.875 7.1562 7.2344 4.3281 2.375 10.328 2.375 9.9688 0 16.188-7.9062 6.2344-7.9062 6.2344-20.797t-6.2344-20.812q-6.2188-7.9062-16.188-7.9062-6 0-10.328 2.375-4.3125 2.375-7.1562 7.25v-8.2031h-9.0312v75.984h9.0312z\"/><path id=\"DejaVuSans-97\" d=\"m34.281 27.484q-10.891 0-15.094-2.4844t-4.2031-8.5q0-4.7812 3.1562-7.5938 3.1562-2.7969 8.5625-2.7969 7.4844 0 12 5.2969t4.5156 14.078v2zm17.922 3.7188v-31.203h-8.9844v8.2969q-3.0781-4.9688-7.6719-7.3438t-11.234-2.375q-8.3906 0-13.359 4.7188-4.9531 4.7188-4.9531 12.625 0 9.2188 6.1719 13.906 6.1875 4.6875 18.438 4.6875h12.609v0.89062q0 6.2031-4.0781 9.5938t-11.453 3.3906q-4.6875 0-9.1406-1.125-4.4375-1.125-8.5312-3.375v8.3125q4.9219 1.9062 9.5625 2.8438 4.6406 0.95312 9.0312 0.95312 11.875 0 17.734-6.1562 5.8594-6.1406 5.8594-18.641z\"/><path id=\"DejaVuSans-105\" d=\"m9.4219 54.688h8.9844v-54.688h-8.9844zm0 21.297h8.9844v-11.391h-8.9844z\"/><path id=\"DejaVuSans-108\" d=\"m9.4219 75.984h8.9844v-75.984h-8.9844z\"/><path id=\"DejaVuSans-116\" d=\"m18.312 70.219v-15.531h18.5v-6.9844h-18.5v-29.688q0-6.6875 1.8281-8.5938t7.4531-1.9062h9.2188v-7.5156h-9.2188q-10.406 0-14.359 3.875-3.9531 3.8906-3.9531 14.141v29.688h-6.5938v6.9844h6.5938v15.531z\"/><path id=\"DejaVuSans-101\" d=\"m56.203 29.594v-4.3906h-41.312q0.59375-9.2812 5.5938-14.141t13.938-4.8594q5.1719 0 10.031 1.2656t9.6562 3.8125v-8.5q-4.8438-2.0469-9.9219-3.125t-10.297-1.0781q-13.094 0-20.734 7.6094-7.6406 7.625-7.6406 20.625 0 13.422 7.25 21.297 7.25 7.8906 19.562 7.8906 11.031 0 17.453-7.1094 6.4219-7.0938 6.4219-19.297zm-8.9844 2.6406q-0.09375 7.3594-4.125 11.75-4.0312 4.4062-10.672 4.4062-7.5156 0-12.031-4.25t-5.2031-11.969z\"/><path id=\"DejaVuSans-115\" d=\"m44.281 53.078v-8.5q-3.7969 1.9531-7.9062 2.9219-4.0938 0.98438-8.5 0.98438-6.6875 0-10.031-2.0469t-3.3438-6.1562q0-3.125 2.3906-4.9062t9.625-3.3906l3.0781-0.6875q9.5625-2.0469 13.594-5.7812t4.0312-10.422q0-7.625-6.0312-12.078-6.0312-4.4375-16.578-4.4375-4.3906 0-9.1562 0.85938t-10.031 2.5625v9.2812q4.9844-2.5938 9.8125-3.8906 4.8281-1.2812 9.5781-1.2812 6.3438 0 9.75 2.1719 3.4219 2.1719 3.4219 6.125 0 3.6562-2.4688 5.6094-2.4531 1.9531-10.812 3.7656l-3.125 0.73438q-8.3438 1.75-12.062 5.3906-3.7031 3.6406-3.7031 9.9844 0 7.7188 5.4688 11.906 5.4688 4.2031 15.531 4.2031 4.9688 0 9.3594-0.73438 4.4062-0.71875 8.1094-2.1875z\"/></defs><g transform=\"translate(17.838 186.13) rotate(-90) scale(.14 -.14)\"><use xlink:href=\"#DejaVuSans-80\"/><use x=\"60.287109\" xlink:href=\"#DejaVuSans-114\"/><use x=\"101.369141\" xlink:href=\"#DejaVuSans-111\"/><use x=\"162.550781\" xlink:href=\"#DejaVuSans-98\"/><use x=\"226.027344\" xlink:href=\"#DejaVuSans-97\"/><use x=\"287.306641\" xlink:href=\"#DejaVuSans-98\"/><use x=\"350.783203\" xlink:href=\"#DejaVuSans-105\"/><use x=\"378.566406\" xlink:href=\"#DejaVuSans-108\"/><use x=\"406.349609\" xlink:href=\"#DejaVuSans-105\"/><use x=\"434.132812\" xlink:href=\"#DejaVuSans-116\"/><use x=\"473.341797\" xlink:href=\"#DejaVuSans-105\"/><use x=\"501.125\" xlink:href=\"#DejaVuSans-101\"/><use x=\"562.648438\" xlink:href=\"#DejaVuSans-115\"/></g><path d=\"m80.676 279h23.673v-199.85h-23.673z\" clip-path=\"url(#p13d69d20ae)\" fill=\"#648fff\"/><path d=\"m128.02 279h23.673v-28.127h-23.673z\" clip-path=\"url(#p13d69d20ae)\" fill=\"#648fff\"/><path d=\"m175.37 279h23.673v-25.907h-23.673z\" clip-path=\"url(#p13d69d20ae)\" fill=\"#648fff\"/><path d=\"m222.71 279h23.673v-214.66h-23.673z\" clip-path=\"url(#p13d69d20ae)\" fill=\"#648fff\"/><path d=\"m270.06 279h23.673v-19.245h-23.673z\" clip-path=\"url(#p13d69d20ae)\" fill=\"#648fff\"/><path d=\"m317.4 279h23.673v-226.5h-23.673z\" clip-path=\"url(#p13d69d20ae)\" fill=\"#648fff\"/><path d=\"m364.75 279h23.673v-17.765h-23.673z\" clip-path=\"url(#p13d69d20ae)\" fill=\"#648fff\"/><path d=\"m412.09 279h23.673v-25.907h-23.673z\" clip-path=\"url(#p13d69d20ae)\" fill=\"#648fff\"/><path d=\"m62.921 279v-271.8\" fill=\"none\" stroke=\"#000000\" stroke-linecap=\"square\" stroke-width=\".8\"/><path d=\"m453.52 279v-271.8\" fill=\"none\" stroke=\"#000000\" stroke-linecap=\"square\" stroke-width=\".8\"/><path d=\"m62.921 279h390.6\" fill=\"none\" stroke=\"#000000\" stroke-linecap=\"square\" stroke-width=\".8\"/><path d=\"m62.921 7.2h390.6\" fill=\"none\" stroke=\"#000000\" stroke-linecap=\"square\" stroke-width=\".8\"/><g transform=\"translate(78.198 67.075) scale(.1 -.1)\"><use xlink:href=\"#DejaVuSans-48\"/><use x=\"63.623047\" xlink:href=\"#DejaVuSans-46\"/><use x=\"95.410156\" xlink:href=\"#DejaVuSans-50\"/><use x=\"159.033203\" xlink:href=\"#DejaVuSans-54\"/><use x=\"222.65625\" xlink:href=\"#DejaVuSans-52\"/></g><defs><path id=\"DejaVuSans-55\" d=\"m8.2031 72.906h46.875v-4.2031l-26.469-68.703h-10.297l24.906 64.594h-35.016z\"/></defs><g transform=\"translate(125.54 247.39) scale(.1 -.1)\"><use xlink:href=\"#DejaVuSans-48\"/><use x=\"63.623047\" xlink:href=\"#DejaVuSans-46\"/><use x=\"95.410156\" xlink:href=\"#DejaVuSans-48\"/><use x=\"159.033203\" xlink:href=\"#DejaVuSans-51\"/><use x=\"222.65625\" xlink:href=\"#DejaVuSans-55\"/></g><g transform=\"translate(172.89 249.72) scale(.1 -.1)\"><use xlink:href=\"#DejaVuSans-48\"/><use x=\"63.623047\" xlink:href=\"#DejaVuSans-46\"/><use x=\"95.410156\" xlink:href=\"#DejaVuSans-48\"/><use x=\"159.033203\" xlink:href=\"#DejaVuSans-51\"/><use x=\"222.65625\" xlink:href=\"#DejaVuSans-52\"/></g><g transform=\"translate(220.23 51.531) scale(.1 -.1)\"><use xlink:href=\"#DejaVuSans-48\"/><use x=\"63.623047\" xlink:href=\"#DejaVuSans-46\"/><use x=\"95.410156\" xlink:href=\"#DejaVuSans-50\"/><use x=\"159.033203\" xlink:href=\"#DejaVuSans-56\"/><use x=\"222.65625\" xlink:href=\"#DejaVuSans-51\"/></g><defs><path id=\"DejaVuSans-53\" d=\"m10.797 72.906h38.719v-8.3125h-29.688v-17.859q2.1406 0.73438 4.2812 1.0938 2.1562 0.35938 4.3125 0.35938 12.203 0 19.328-6.6875 7.1406-6.6875 7.1406-18.109 0-11.766-7.3281-18.297-7.3281-6.5156-20.656-6.5156-4.5938 0-9.3594 0.78125-4.75 0.78125-9.8281 2.3438v9.9219q4.3906-2.3906 9.0781-3.5625t9.9062-1.1719q8.4531 0 13.375 4.4375 4.9375 4.4375 4.9375 12.062 0 7.6094-4.9375 12.047-4.9219 4.4531-13.375 4.4531-3.9531 0-7.8906-0.875-3.9219-0.875-8.0156-2.7344z\"/></defs><g transform=\"translate(267.58 256.71) scale(.1 -.1)\"><use xlink:href=\"#DejaVuSans-48\"/><use x=\"63.623047\" xlink:href=\"#DejaVuSans-46\"/><use x=\"95.410156\" xlink:href=\"#DejaVuSans-48\"/><use x=\"159.033203\" xlink:href=\"#DejaVuSans-50\"/><use x=\"222.65625\" xlink:href=\"#DejaVuSans-53\"/></g><defs><path id=\"DejaVuSans-57\" d=\"m10.984 1.5156v8.9844q3.7188-1.7656 7.5156-2.6875 3.8125-0.92188 7.4844-0.92188 9.7656 0 14.906 6.5625 5.1562 6.5625 5.8906 19.953-2.8281-4.2031-7.1875-6.4531-4.3438-2.25-9.6094-2.25-10.938 0-17.312 6.6094-6.375 6.625-6.375 18.109 0 11.219 6.6406 18 6.6406 6.7969 17.672 6.7969 12.656 0 19.312-9.7031 6.6719-9.6875 6.6719-28.141 0-17.234-8.1875-27.516-8.1719-10.281-21.984-10.281-3.7188 0-7.5312 0.73438-3.7969 0.73438-7.9062 2.2031zm19.625 30.906q6.6406 0 10.516 4.5312 3.8906 4.5469 3.8906 12.469 0 7.8594-3.8906 12.422-3.875 4.5625-10.516 4.5625t-10.516-4.5625-3.875-12.422q0-7.9219 3.875-12.469 3.875-4.5312 10.516-4.5312z\"/></defs><g transform=\"translate(314.93 39.095) scale(.1 -.1)\"><use xlink:href=\"#DejaVuSans-48\"/><use x=\"63.623047\" xlink:href=\"#DejaVuSans-46\"/><use x=\"95.410156\" xlink:href=\"#DejaVuSans-50\"/><use x=\"159.033203\" xlink:href=\"#DejaVuSans-57\"/><use x=\"222.65625\" xlink:href=\"#DejaVuSans-57\"/></g><g transform=\"translate(362.27 258.27) scale(.1 -.1)\"><use xlink:href=\"#DejaVuSans-48\"/><use x=\"63.623047\" xlink:href=\"#DejaVuSans-46\"/><use x=\"95.410156\" xlink:href=\"#DejaVuSans-48\"/><use x=\"159.033203\" xlink:href=\"#DejaVuSans-50\"/><use x=\"222.65625\" xlink:href=\"#DejaVuSans-51\"/></g><g transform=\"translate(409.62 249.72) scale(.1 -.1)\"><use xlink:href=\"#DejaVuSans-48\"/><use x=\"63.623047\" xlink:href=\"#DejaVuSans-46\"/><use x=\"95.410156\" xlink:href=\"#DejaVuSans-48\"/><use x=\"159.033203\" xlink:href=\"#DejaVuSans-51\"/><use x=\"222.65625\" xlink:href=\"#DejaVuSans-52\"/></g><defs><clipPath id=\"p13d69d20ae\"><rect x=\"62.921\" y=\"7.2\" width=\"390.6\" height=\"271.8\"/></clipPath></defs></svg>"
      ],
      "text/plain": [
       "<Figure size 504x360 with 1 Axes>"
      ]
     },
     "execution_count": 6,
     "metadata": {},
     "output_type": "execute_result"
    }
   ],
   "source": [
    "plot_histogram(result['measurement'])"
   ]
  },
  {
   "cell_type": "markdown",
   "metadata": {},
   "source": [
    "シミュレーターが例題の解を見つけられることを確認しました。ノイズと不完全なゲートを持つ本物の量子デバイスを使用したとき、何が起こるか見てみましょう。\n",
    "\n",
    "ただし、ネットワークを介して実装置に送信できる文字列の長さの制限（この回路のQASMは6万文字以上あります）があるため、上記の回路を実装置のバックエンドで実行することはできません。以下のように、実装置の`ibmq_16_melbourne`バックエンド上でコンパイルしたQASMを表示することはできます："
   ]
  },
  {
   "cell_type": "code",
   "execution_count": 7,
   "metadata": {},
   "outputs": [],
   "source": [
    "# Load our saved IBMQ accounts and get the ibmq_16_melbourne backend\n",
    "from qiskit import IBMQ\n",
    "IBMQ.load_account()\n",
    "provider = IBMQ.get_provider(hub='ibm-q')\n",
    "backend = provider.get_backend('ibmq_16_melbourne')"
   ]
  },
  {
   "cell_type": "code",
   "execution_count": 8,
   "metadata": {},
   "outputs": [
    {
     "name": "stdout",
     "output_type": "stream",
     "text": [
      "gates =  OrderedDict([('cx', 366), ('u3', 120), ('u2', 79), ('u1', 74), ('measure', 3), ('barrier', 2)])\n",
      "depth =  408\n"
     ]
    }
   ],
   "source": [
    "from qiskit.compiler import transpile\n",
    "\n",
    "# transpile the circuit for ibmq_16_melbourne\n",
    "grover_compiled = transpile(result['circuit'], backend=backend, optimization_level=3)\n",
    "\n",
    "print('gates = ', grover_compiled.count_ops())\n",
    "print('depth = ', grover_compiled.depth())"
   ]
  },
  {
   "cell_type": "markdown",
   "metadata": {},
   "source": [
    "必要とされるゲート数は、現在の短期量子コンピュータのデコヒーレンス時間に関する制限をはるかに上回ります。 つまり、充足問題や他の最適化問題を解決するGrover探索の量子回路を設計することはまだ難しいのです。"
   ]
  },
  {
   "cell_type": "markdown",
   "metadata": {},
   "source": [
    "## 4. 演習問題 <a id='problems'></a>\n",
    "\n",
    "1. Qiskit Aquaを使用して、次の3-SAT問題を解いてください： $f(x_1, x_2, x_3) = (x_1 \\vee x_2 \\vee \\neg x_3) \\wedge (\\neg x_1 \\vee \\neg x_2 \\vee \\neg x_3) \\wedge (\\neg x_1 \\vee x_2 \\vee x_3)$ 。 結果は期待したものでしたか？\n"
   ]
  },
  {
   "cell_type": "markdown",
   "metadata": {},
   "source": [
    "## 5. 参考文献 <a id='references'></a>\n",
    "\n",
    "1. Giacomo Nannicini (2017), \"An Introduction to Quantum Computing, Without the Physics\", [arXiv:1708.03684 ](https://arxiv.org/abs/1708.03684)"
   ]
  },
  {
   "cell_type": "code",
   "execution_count": 9,
   "metadata": {},
   "outputs": [
    {
     "data": {
      "text/plain": [
       "{'qiskit-terra': '0.11.1',\n",
       " 'qiskit-aer': '0.3.4',\n",
       " 'qiskit-ignis': '0.2.0',\n",
       " 'qiskit-ibmq-provider': '0.4.5',\n",
       " 'qiskit-aqua': '0.6.2',\n",
       " 'qiskit': '0.14.1'}"
      ]
     },
     "execution_count": 9,
     "metadata": {},
     "output_type": "execute_result"
    }
   ],
   "source": [
    "import qiskit\n",
    "qiskit.__qiskit_version__"
   ]
  }
 ],
 "metadata": {
  "kernelspec": {
   "display_name": "Python 3",
   "language": "python",
   "name": "python3"
  },
  "language_info": {
   "codemirror_mode": {
    "name": "ipython",
    "version": 3
   },
   "file_extension": ".py",
   "mimetype": "text/x-python",
   "name": "python",
   "nbconvert_exporter": "python",
   "pygments_lexer": "ipython3",
   "version": "3.9"
  }
 },
 "nbformat": 4,
 "nbformat_minor": 2
}
