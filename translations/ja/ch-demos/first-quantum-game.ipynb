{
  "cells": [
    {
      "cell_type": "markdown",
      "metadata": {
      },
      "source": [
        "# はじめての量子ゲーム"
      ]
    },
    {
      "cell_type": "markdown",
      "metadata": {
      },
      "source": [
        "このテキストブックをすでにある程度読んでいる場合は、少なくとも量子ゲートを多少は理解している必要があります。学んだ知識をどう活かすか迷っているなら、ゲームを作るとよいでしょう。簡単なゲーム作成は、新しいプログラミングの知識を楽しんで試す手です。\n",
        "\n",
        "ゲームを作るにはゲームエンジンが必要です。ここではテキストブックのJupyterノートブックで実行できる簡単なゲームエンジンを紹介します。これを使用して単一量子ビットゲートに基づいた非常に単純なゲームを作成します。\n",
        "\n",
        "まずはゲームエンジンをインポートします。"
      ]
    },
    {
      "cell_type": "code",
      "execution_count": null,
      "metadata": {
      },
      "outputs": [

      ],
      "source": [
        "from qiskit_textbook.games.qiskit_game_engine import QiskitGameEngine"
      ]
    },
    {
      "cell_type": "markdown",
      "metadata": {
      },
      "source": [
        "## 簡単な例\n",
        "\n",
        "このゲーム エンジンを使用する最小限の例は、単純にすべてのピクセルを特定の色に設定することです。"
      ]
    },
    {
      "cell_type": "code",
      "execution_count": null,
      "metadata": {
      },
      "outputs": [

      ],
      "source": [
        "# function called when setting up\n",
        "def start(engine):\n",
        "    # just move on to the first frame\n",
        "    next_frame(engine)\n",
        "\n",
        "# this is the function that does everything\n",
        "def next_frame (engine):\n",
        "    \n",
        "    # set all pixels to green\n",
        "    for x in range(engine.L):\n",
        "        for y in range(engine.L):\n",
        "            engine.screen.pixel[x,y].set_color('green')\n",
        "    \n",
        "# run the game for an 8x8 screen\n",
        "engine = QiskitGameEngine(start,next_frame,L=8)"
      ]
    },
    {
      "cell_type": "markdown",
      "metadata": {
      },
      "source": [
        "次に、特定のピクセルを別の色に設定しましょう。"
      ]
    },
    {
      "cell_type": "code",
      "execution_count": null,
      "metadata": {
        "scrolled": false
      },
      "outputs": [

      ],
      "source": [
        "# function called when setting up\n",
        "def start(engine):\n",
        "    \n",
        "    # set a parameter to keep track of the player pixel\n",
        "    engine.X = 1\n",
        "    engine.Y = 2\n",
        "    \n",
        "    # then move on to the first frame\n",
        "    next_frame(engine)\n",
        "\n",
        "# this is the function that does everything\n",
        "def next_frame (engine):\n",
        "    \n",
        "    # set all pixels to green\n",
        "    for x in range(engine.L):\n",
        "        for y in range(engine.L):\n",
        "            engine.screen.pixel[x,y].set_color('green')\n",
        "            \n",
        "    # draw the player pixel\n",
        "    engine.screen.pixel[engine.X,engine.Y].set_color('red')\n",
        "    \n",
        "# run the game\n",
        "engine = QiskitGameEngine(start,next_frame,L=8)"
      ]
    },
    {
      "cell_type": "markdown",
      "metadata": {
      },
      "source": [
        "矢印ボタンを使用して移動させます。"
      ]
    },
    {
      "cell_type": "code",
      "execution_count": null,
      "metadata": {
        "scrolled": false
      },
      "outputs": [

      ],
      "source": [
        "# this is the function that does everything\n",
        "def next_frame (engine):\n",
        "    \n",
        "    # change player position\n",
        "    if engine.controller['up'].value:\n",
        "        engine.Y -= 1\n",
        "    if engine.controller['down'].value:\n",
        "        engine.Y += 1\n",
        "    if engine.controller['right'].value:\n",
        "        engine.X += 1\n",
        "    if engine.controller['left'].value:\n",
        "        engine.X -= 1\n",
        "    \n",
        "    # set all pixels to green\n",
        "    for x in range(engine.L):\n",
        "        for y in range(engine.L):\n",
        "            engine.screen.pixel[x,y].set_color('green')\n",
        "            \n",
        "    # draw the player pixel\n",
        "    engine.screen.pixel[engine.X,engine.Y].set_color('red')\n",
        "    \n",
        "# run the game\n",
        "engine = QiskitGameEngine(start,next_frame,L=8)"
      ]
    },
    {
      "cell_type": "markdown",
      "metadata": {
      },
      "source": [
        "画面の端から離れると、エラーが発生します。これは修正できます。"
      ]
    },
    {
      "cell_type": "code",
      "execution_count": null,
      "metadata": {
        "scrolled": false
      },
      "outputs": [

      ],
      "source": [
        "# this is the function that does everything\n",
        "def next_frame (engine):\n",
        "    \n",
        "    # change player position\n",
        "    if engine.controller['up'].value:\n",
        "        engine.Y -= 1\n",
        "    if engine.controller['down'].value:\n",
        "        engine.Y += 1\n",
        "    if engine.controller['right'].value:\n",
        "        engine.X += 1\n",
        "    if engine.controller['left'].value:\n",
        "        engine.X -= 1\n",
        "    \n",
        "    # set all pixels to green\n",
        "    for x in range(engine.L):\n",
        "        for y in range(engine.L):\n",
        "            engine.screen.pixel[x,y].set_color('green')\n",
        "            \n",
        "    # draw the player pixel\n",
        "    Xs = engine.X%engine.L\n",
        "    Ys = engine.Y%engine.L\n",
        "    engine.screen.pixel[Xs,Ys].set_color('red')\n",
        "    \n",
        "# run the game\n",
        "engine = QiskitGameEngine(start,next_frame,L=8)"
      ]
    },
    {
      "cell_type": "markdown",
      "metadata": {
      },
      "source": [
        "ここでは `engine.X`座標と`engine.Y`座標は相変わらず画面外に行けますが、ピクセルは折り返されるように表示されます。これは、ピクセルが別の画面に移動していると解釈できます。\n",
        "\n",
        "それでは、ピクセルでエキサイティングな世界を探検出来るようにしましょう。関数を使用して、各点の色を決定します。あまり変わらないところから始めましょう。"
      ]
    },
    {
      "cell_type": "code",
      "execution_count": null,
      "metadata": {
      },
      "outputs": [

      ],
      "source": [
        "import numpy as np\n",
        "\n",
        "def get_color(X,Y):\n",
        "    return 'green'\n",
        "\n",
        "# this is the function that does everything\n",
        "def next_frame (engine):\n",
        "    \n",
        "    # change player position\n",
        "    if engine.controller['up'].value:\n",
        "        engine.Y -= 1\n",
        "    if engine.controller['down'].value:\n",
        "        engine.Y += 1\n",
        "    if engine.controller['right'].value:\n",
        "        engine.X += 1\n",
        "    if engine.controller['left'].value:\n",
        "        engine.X -= 1\n",
        "    \n",
        "    # set all pixels to green\n",
        "    for x in range(engine.L):\n",
        "        for y in range(engine.L):\n",
        "            # get the 'world' coordinates X,Y from the onscreen coordinates x,y\n",
        "            X = np.floor(engine.X/engine.L)*engine.L+x\n",
        "            Y = np.floor(engine.Y/engine.L)*engine.L+y\n",
        "            # set it to whatever colour it should be\n",
        "            engine.screen.pixel[x,y].set_color(get_color(X,Y))\n",
        "            \n",
        "    # draw the player pixel\n",
        "    Xs = engine.X%engine.L\n",
        "    Ys = engine.Y%engine.L\n",
        "    engine.screen.pixel[Xs,Ys].set_color('red')\n",
        "    \n",
        "# run the game\n",
        "engine = QiskitGameEngine(start,next_frame,L=8)"
      ]
    },
    {
      "cell_type": "markdown",
      "metadata": {
      },
      "source": [
        "次に、 `get_color`を変更してビーチを作成しましょう。"
      ]
    },
    {
      "cell_type": "code",
      "execution_count": null,
      "metadata": {
        "scrolled": false
      },
      "outputs": [

      ],
      "source": [
        "def get_color(X,Y):\n",
        "    if X<12:\n",
        "        color = 'green'\n",
        "    else:\n",
        "        color = 'orange'\n",
        "    return color\n",
        "    \n",
        "# run the game\n",
        "engine = QiskitGameEngine(start,next_frame,L=8)"
      ]
    },
    {
      "cell_type": "markdown",
      "metadata": {
      },
      "source": [
        "このジェネレーター内に単一量子ビット回路を配置して地形を作成することで単一量子ビットゲートを実験できるようにします。そのためには、いくつかのQiskitツールが必要です。"
      ]
    },
    {
      "cell_type": "code",
      "execution_count": null,
      "metadata": {
      },
      "outputs": [

      ],
      "source": [
        "from qiskit import QuantumCircuit\n",
        "from qiskit.quantum_info import Statevector"
      ]
    },
    {
      "cell_type": "markdown",
      "metadata": {
      },
      "source": [
        "まず、回路の結果がどのようになるかを見てみましょう。これは、特定の回転角に対して`ry`ゲートだけを使用した例です。"
      ]
    },
    {
      "cell_type": "code",
      "execution_count": null,
      "metadata": {
      },
      "outputs": [

      ],
      "source": [
        "theta = np.pi/2\n",
        "\n",
        "qc = QuantumCircuit(1)\n",
        "qc.ry(theta,0)\n",
        "\n",
        "state = Statevector.from_instruction(qc)\n",
        "probs = state.probabilities_dict()\n",
        "\n",
        "print(probs)"
      ]
    },
    {
      "cell_type": "markdown",
      "metadata": {
      },
      "source": [
        "ここで、角度$\\pi/2$は、この回路の最後での測定結果が`0`または`1`となる可能性が等しいことを意味します。他の角度については、どちらか一方にバイアスをかけることができます。これは、第1章で説明したように、まさにこれらのゲートに期待される動作です。"
      ]
    },
    {
      "cell_type": "markdown",
      "metadata": {
      },
      "source": [
        "出力「1」の確率を高さとして使用し、それに応じて色を設定しましょう。"
      ]
    },
    {
      "cell_type": "code",
      "execution_count": null,
      "metadata": {
      },
      "outputs": [

      ],
      "source": [
        "def get_color(X,Y):\n",
        "    \n",
        "    # set an angle for ry based on the coordinate\n",
        "    theta = X*(np.pi/16)\n",
        "    \n",
        "    # create and simulate the circuit\n",
        "    qc = QuantumCircuit(1)\n",
        "    qc.ry(theta,0)\n",
        "    state = Statevector.from_instruction(qc)\n",
        "    probs = state.probabilities_dict()\n",
        "    \n",
        "    # get the prob of '1'\n",
        "    if '1' in probs:\n",
        "        height = probs['1']\n",
        "    else:\n",
        "        height = 0\n",
        "    \n",
        "    # set colour accordingly\n",
        "    if height<0.1: # sea/river\n",
        "        color = 'blue'\n",
        "    elif height<0.3: # beach\n",
        "        color = 'orange'\n",
        "    elif height<0.9: # grass\n",
        "        color = 'green'\n",
        "    else: # mountain\n",
        "        color = 'grey'\n",
        "        \n",
        "    return color\n",
        "    \n",
        "# run the game\n",
        "engine = QiskitGameEngine(start,next_frame,L=8)"
      ]
    },
    {
      "cell_type": "markdown",
      "metadata": {
      },
      "source": [
        "より複雑な回転ゲートを追加し、これらのゲートがどのように組み合わされるかを考えることで、より複雑な地形を作成できます。"
      ]
    },
    {
      "cell_type": "code",
      "execution_count": null,
      "metadata": {
      },
      "outputs": [

      ],
      "source": [
        "import random\n",
        "\n",
        "seed = [random.random() for _ in range(4)]\n",
        "\n",
        "def get_color(X,Y):\n",
        "    \n",
        "    qc = QuantumCircuit(1)\n",
        "\n",
        "    theta1 = (seed[0]*X+seed[1]*Y)*np.pi/16\n",
        "    theta2 = (seed[2]*X-seed[3]*Y)*np.pi/16\n",
        "    qc.ry(theta1,0)\n",
        "    qc.rx(theta2,0)\n",
        "\n",
        "    state = Statevector.from_instruction(qc)\n",
        "    probs = state.probabilities_dict()\n",
        "    \n",
        "    try:\n",
        "        height = probs['1']\n",
        "    except:\n",
        "        height = 0\n",
        "        \n",
        "    # set colour accordingly\n",
        "    if height<0.1: # sea/river\n",
        "        color = 'blue'\n",
        "    elif height<0.3: # beach\n",
        "        color = 'orange'\n",
        "    elif height<0.9: # grass\n",
        "        color = 'green'\n",
        "    else: # mountain\n",
        "        color = 'grey'\n",
        "        \n",
        "    return color\n",
        "\n",
        "# run the game\n",
        "engine = QiskitGameEngine(start,next_frame,L=8)"
      ]
    },
    {
      "cell_type": "markdown",
      "metadata": {
      },
      "source": [
        "次に、自分の回路を作成してより興味深い地形を生成してみて、それを使用して単純な量子ゲートで何ができるかを調べます。または、全く新しいゲームを作ってください！"
      ]
    },
    {
      "cell_type": "markdown",
      "metadata": {
      },
      "source": [
        "## ゲームエンジンの使い方\n",
        "\n",
        "ゲームエンジンを最大限に活用するには、全ての動作の詳細が必要になります。これにより、Dパッドと5つのボタンで制御される、低ピクセル画面（デフォルトでは8x8）用のゲームを作成できます。画面はボタンが押されたときにのみ更新されることに注意してください。\n",
        "\n",
        "ゲームエンジンはすべて`QiskitGameEngine`オブジェクトに基づいています。これは好きなように命名できます。以下では、これを`engine`と呼びます。\n",
        "\n",
        "### スクリーン\n",
        "\n",
        "ピクセルは `engine.screen`を使用して関数で位置指定できます。位置（x、y）のピクセルは、 `engine.screen.pixel[x,y]`として指定されます。 以下の3つの方法があります。\n",
        "\n",
        "- `set_color(color)` -引数`color`は文字列です： `'grey'` 、 `'green'` 、 `'blue'` 、 `'orange'`または`'red'`のいずれか。\n",
        "- `set_brightness(bright)` -引数`bright`はブール値です。dimの場合は`False` 、brightの場合は`True`です。\n",
        "- `set_text(text)` -引数は表示されるテキストです。\n",
        "\n",
        "ほとんどのピクセルには、数文字以上の文字が含まれないことに注意してください。長いテキストは画面下部の長いピクセルに書き込むことができます。このピクセルには、 `engine.screen.pixel['text']`でアクセスできます。\n",
        "\n",
        "### コントローラー\n",
        "\n",
        "コントローラーは `engine.controller`で使用します。ボタンはキー`'down'` 、 `'up'` 、 `'left'` 、 `'right'` 、 `'A'` 、 `'B'` 、 `'X'` 、 `'Y'` 、および`'next'`を使用して位置指定されます。それぞれがJupyterウィジェットボタンオブジェクトです。これらのボタンのいずれかを押すと `next_frame`関数が実行されます。各ボタンの`value`属性を使用してボタンが押されたか（ `True` ）押されていないか（ `False` ）を判別します。\n",
        "\n",
        "### ゲームループ\n",
        "\n",
        "ゲームは `start`と`next_frame`の2つの関数を定義することによって作成されます。 `start`関数はゲームの開始時に実行され、 `next_frame`は、ボタンを押してゲームを進めるたびに実行されます。どちらにも、クラス`engine`という1つの引数が必要です。ゲームに必要なすべてのパラメーターは、 `engine`クラスの属性として定義する必要があります。\n",
        "\n",
        "### まとめ\n",
        "\n",
        "ゲームは、`start`関数と`next_frame`関数を使用して`QiskitGameEngine`オブジェクトを開始することによって開始されます。キーワード引数`L`を使用して、デフォルトの8x8グリッド以外のサイズを選択することもできます。\n",
        "\n",
        "```\n",
        "QiskitGameEngine(start,next_frame,L=8)\n",
        "```\n",
        "\n",
        "グリッドサイズは`start`および`next_frame`関数で`engine.L`としてアクセスできることに注意してください。 キーワード引数`L`を使用して、デフォルトの8x8グリッド以外のサイズを選択することもできます。"
      ]
    },
    {
      "cell_type": "code",
      "execution_count": null,
      "metadata": {
      },
      "outputs": [

      ],
      "source": [

      ]
    }
  ],
  "metadata": {
    "kernelspec": {
      "display_name": "Python 3",
      "language": "python",
      "name": "python3"
    },
    "language_info": {
      "codemirror_mode": {
        "name": "ipython",
        "version": 3
      },
      "file_extension": ".py",
      "mimetype": "text/x-python",
      "name": "python",
      "nbconvert_exporter": "python",
      "pygments_lexer": "ipython3",
      "version": "3.9"
    }
  },
  "nbformat": 4,
  "nbformat_minor": 4
}
