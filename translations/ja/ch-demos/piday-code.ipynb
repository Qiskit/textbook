{
 "cells": [
  {
   "cell_type": "markdown",
   "metadata": {
    "tags": [
     "remove_cell"
    ]
   },
   "source": [
    "# 量子位相推定を使った円周率の推定"
   ]
  },
  {
   "cell_type": "markdown",
   "metadata": {},
   "source": [
    "### 1.量子位相推定アルゴリズムの概要\n",
    "\n",
    "[量子推定アルゴリズム](../ch-algorithms/quantum-phase-estimation.html)（QPE）は多くの非常に複雑な量子アルゴリズムの一角を担う量子アルゴリズムの１つです。その中心にあるのは、QPEはかなり簡単な問題を解きます。$U\\vert\\psi\\rangle = \\exp\\left(2 \\pi i  \\theta\\right)\\vert\\psi\\rangle$）となっている演算子$U$の量子状態$\\vert\\psi\\rangle$が与えられているとき、$\\theta$の推定値を得ることができますか？\n",
    "\n",
    "この答えは”yes\"です。QPEアルゴリズムから$2^n\\theta$を得られます。ここで$n$とは$\\theta$を推定するために使っている量子ビット数です。\n",
    "\n",
    "\n",
    "### 2.円周率$\\pi$の推定\n",
    "\n",
    "このデモでは、演算子と状態を次のように選びます。\n",
    "\n",
    "$$U =  u_1(\\theta), \\vert\\psi\\rangle = \\vert1\\rangle$$\n",
    "\n",
    "ここで\n",
    "\n",
    "$$\n",
    "u_1(\\theta) = \\begin{bmatrix}\n",
    "1 & 0\\\\ 0 & \\exp(i\\theta)\n",
    "\\end{bmatrix}\n",
    "$$\n",
    "\n",
    "この行列はQiskitで利用可能な量子ゲートの１つで、そして以下を満たします。\n",
    "\n",
    "$$u_1(\\theta)\\vert1\\rangle = \\exp(i\\theta)\\vert1\\rangle.$$ \n",
    "\n",
    "$\\theta =  1$となるようにゲートの位相を選ぶと、次の関係性を利用して$\\pi$を推定することができます。\n",
    "\n",
    "1. QPEアルゴリズムの結果から、$2^n\\theta$の推定値を測定します。そのとき、 $\\theta = \\text{measured} / 2^n$ となります。\n",
    "2. 上記の$u_1(\\theta)$ゲートの定義から、$2\\pi\\theta = 1 \\Rightarrow \\pi = 1 / 2\\theta$であることを知ることができます。\n",
    "\n",
    "これらの関係性を使って、 $\\pi = 1 / \\left(2 \\times (\\text{(measured)}/2^n)\\right)$であることがわかります。\n",
    "\n",
    "QPEのより詳細な解説には、Qiskit Textbook中の専用の章を参照してください。 \n",
    "[qiskit.org/textbook](../ch-algorithms/quantum-phase-estimation.html)."
   ]
  },
  {
   "cell_type": "markdown",
   "metadata": {},
   "source": [
    "## 3. コードを書いてみよう！"
   ]
  },
  {
   "cell_type": "markdown",
   "metadata": {},
   "source": [
    "まずは、次の必要なライブラリをインポートすることから始めていきましょう。"
   ]
  },
  {
   "cell_type": "code",
   "execution_count": 1,
   "metadata": {},
   "outputs": [],
   "source": [
    "## 作業に必要になるライブラリのインポート\n",
    "from IPython.display import clear_output\n",
    "from qiskit import *\n",
    "from qiskit.visualization import plot_histogram\n",
    "import numpy as np\n",
    "import matplotlib.pyplot as plotter\n",
    "from qiskit.tools.monitor import job_monitor\n",
    "# 可視化の設定\n",
    "import seaborn as sns, operator\n",
    "sns.set_style(\"dark\")\n",
    "\n",
    "pi = np.pi"
   ]
  },
  {
   "cell_type": "markdown",
   "metadata": {},
   "source": [
    "関数`qft_dagger`は、逆量子フーリエ変換を計算します。このアルゴリズムのより詳細な解説は、[Qiskit Textbook](../ch-algorithms/quantum-fourier-transform.html)の以下の章を参照してください。"
   ]
  },
  {
   "cell_type": "code",
   "execution_count": 2,
   "metadata": {},
   "outputs": [],
   "source": [
    "## 逆量子フーリエ変換のコード\n",
    "## Qiskit Textbook qiskit.org/textbookから抜粋\n",
    "\n",
    "def qft_dagger(circ_, n_qubits):\n",
    "    \"\"\"n-qubit QFTdagger the first n qubits in circ\"\"\"\n",
    "    for qubit in range(int(n_qubits/2)):\n",
    "        circ_.swap(qubit, n_qubits-qubit-1)\n",
    "    for j in range(0,n_qubits):\n",
    "        for m in range(j):\n",
    "            circ_.cp(-np.pi/float(2**(j-m)), m, j)\n",
    "        circ_.h(j)"
   ]
  },
  {
   "cell_type": "markdown",
   "metadata": {},
   "source": [
    "次の関数`qpe_pre`は、推定値に対する初期状態を準備します。開始時の状態は、最後の量子ビット以外の全ての量子ビットにアダマールゲートを適用し、最後の量子ビットには$\\vert1\\rangle$をセットすることで生成されていることに注意してください。"
   ]
  },
  {
   "cell_type": "code",
   "execution_count": 3,
   "metadata": {},
   "outputs": [],
   "source": [
    "## 量子位相推定の初期状態のコード\n",
    "## Qiskit textbook　qiskit.org/textbookから抜粋\n",
    "## 開始時の状態には最後の量子ビット以外にHを適用し、最後の量子ビットには|psi> = |1>にセットすることに注意\n",
    "\n",
    "def qpe_pre(circ_, n_qubits):\n",
    "    circ_.h(range(n_qubits))\n",
    "    circ_.x(n_qubits)\n",
    "\n",
    "    for x in reversed(range(n_qubits)):\n",
    "        for _ in range(2**(n_qubits-1-x)):\n",
    "            circ_.cp(1, n_qubits-1-x, n_qubits)"
   ]
  },
  {
   "cell_type": "markdown",
   "metadata": {},
   "source": [
    "次に、回路を実行し結果を返すための簡単な関数`run_job`を書きましょう。"
   ]
  },
  {
   "cell_type": "code",
   "execution_count": 4,
   "metadata": {},
   "outputs": [],
   "source": [
    "## 実機かシミュレーターでQiskitジョブの実行\n",
    "\n",
    "def run_job(circ, backend, shots=1000, optimization_level=0):\n",
    "    t_circ = transpile(circ, backend, optimization_level=optimization_level)\n",
    "    qobj = assemble(t_circ, shots=shots)\n",
    "    job = backend.run(qobj)\n",
    "    job_monitor(job)\n",
    "    return job.result().get_counts()"
   ]
  },
  {
   "cell_type": "markdown",
   "metadata": {},
   "source": [
    "その次に、クラウドのシミュレーターか実デバイスを使うためにご自身のアカウントを読み込みます。"
   ]
  },
  {
   "cell_type": "code",
   "execution_count": null,
   "metadata": {
    "tags": [
     "uses-hardware"
    ]
   },
   "outputs": [],
   "source": [
    "## クラウド上のシミュレーターか実量子デバイスを使いたい場合は、ご自身のIBMQアカウントを読み込む\n",
    "my_provider = IBMQ.load_account()\n",
    "simulator_cloud = my_provider.get_backend('ibmq_qasm_simulator')\n",
    "device = my_provider.get_backend('ibmq_16_melbourne')"
   ]
  },
  {
   "cell_type": "code",
   "execution_count": 5,
   "metadata": {},
   "outputs": [],
   "source": [
    "simulator = Aer.get_backend('aer_simulator')"
   ]
  },
  {
   "cell_type": "markdown",
   "metadata": {},
   "source": [
    "最後に、上記の関数を$\\pi$の推定値を得るために`n_qubits`を使うように`get_pi_estimate`と呼ばれる関数にまとめます。"
   ]
  },
  {
   "cell_type": "code",
   "execution_count": 6,
   "metadata": {},
   "outputs": [],
   "source": [
    "## 円周率を推定するための関数\n",
    "## サマリ：Qiskit textbook(qiskit.org/textbook)の記法を用いて、\n",
    "## u1(theta)|1> = exp(2 x pi x i x theta)|1>であるような\n",
    "## 演算子U = u1(theta) and |psi> = |1>の量子位相推定を実行する。\n",
    "## thetaを1ラジアンにセットすることで 2^n x 1 ラジアン = 最も頻繁したカウント = 2 x piを用いることで円周率を求める\n",
    "\n",
    "def get_pi_estimate(n_qubits):\n",
    "\n",
    "    # 量子回路の生成\n",
    "    circ = QuantumCircuit(n_qubits + 1, n_qubits)\n",
    "    # 入力状態の生成\n",
    "    qpe_pre(circ, n_qubits)\n",
    "    # バリアの適用\n",
    "    circ.barrier()\n",
    "    # 逆フーリエ変換の実行\n",
    "    qft_dagger(circ, n_qubits)\n",
    "    # バリアの適用\n",
    "    circ.barrier()\n",
    "    # 最終量子ビット以外の測定\n",
    "    circ.measure(range(n_qubits), range(n_qubits))\n",
    "\n",
    "    # ジョブの実行と結果の取得\n",
    "    counts = run_job(circ, backend=simulator, shots=10000, optimization_level=0)\n",
    "    # print(counts) \n",
    "\n",
    "    # 最も多く発生した結果の取得\n",
    "    max_counts_result = max(counts, key=counts.get)\n",
    "    max_counts_result = int(max_counts_result, 2)\n",
    "    \n",
    "    # 測定値から円周率を推定する\n",
    "    theta = max_counts_result/2**n_qubits\n",
    "    return (1./(2*theta))"
   ]
  },
  {
   "cell_type": "markdown",
   "metadata": {},
   "source": [
    "ここでは、異なる量子ビット数で`get_pi_estimate`関数を実行し、推定値を表示しています。"
   ]
  },
  {
   "cell_type": "code",
   "execution_count": 7,
   "metadata": {
    "scrolled": false
   },
   "outputs": [
    {
     "name": "stdout",
     "output_type": "stream",
     "text": [
      "Job Status: job has successfully run\n",
      "2 qubits, pi ≈ 2.0\n",
      "Job Status: job has successfully run\n",
      "3 qubits, pi ≈ 4.0\n",
      "Job Status: job has successfully run\n",
      "4 qubits, pi ≈ 2.6666666666666665\n",
      "Job Status: job has successfully run\n",
      "5 qubits, pi ≈ 3.2\n",
      "Job Status: job has successfully run\n",
      "6 qubits, pi ≈ 3.2\n",
      "Job Status: job has successfully run\n",
      "7 qubits, pi ≈ 3.2\n",
      "Job Status: job has successfully run\n",
      "8 qubits, pi ≈ 3.1219512195121952\n",
      "Job Status: job has successfully run\n",
      "9 qubits, pi ≈ 3.1604938271604937\n",
      "Job Status: job has successfully run\n",
      "10 qubits, pi ≈ 3.1411042944785277\n",
      "Job Status: job has successfully run\n",
      "11 qubits, pi ≈ 3.1411042944785277\n",
      "Job Status: job has successfully run\n",
      "12 qubits, pi ≈ 3.1411042944785277\n"
     ]
    }
   ],
   "source": [
    "# 異なる量子ビット数で円周率を推定\n",
    "nqs = list(range(2,12+1))\n",
    "pi_estimates = []\n",
    "for nq in nqs:\n",
    "    thisnq_pi_estimate = get_pi_estimate(nq)\n",
    "    pi_estimates.append(thisnq_pi_estimate)\n",
    "    print(f\"{nq} qubits, pi ≈ {thisnq_pi_estimate}\")"
   ]
  },
  {
   "cell_type": "markdown",
   "metadata": {},
   "source": [
    "そして、全ての結果をプロットします。"
   ]
  },
  {
   "cell_type": "code",
   "execution_count": 8,
   "metadata": {},
   "outputs": [
    {
     "data": {
      "image/svg+xml": [
       "<?xml version=\"1.0\" encoding=\"UTF-8\"?><!DOCTYPE svg  PUBLIC '-//W3C//DTD SVG 1.1//EN'  'http://www.w3.org/Graphics/SVG/1.1/DTD/svg11.dtd'><svg width=\"395.17pt\" height=\"276.64pt\" version=\"1.1\" viewBox=\"0 0 395.17 276.64\" xmlns=\"http://www.w3.org/2000/svg\" xmlns:xlink=\"http://www.w3.org/1999/xlink\"><defs><style type=\"text/css\">*{stroke-linecap:butt;stroke-linejoin:round;}</style></defs><path d=\"m0 276.64h395.17v-276.64h-395.17z\" fill=\"#ffffff\"/><path d=\"m53.171 228.93h334.8v-217.44h-334.8z\" fill=\"#eaeaf2\"/><g transform=\"translate(65.052 244.52) scale(.12 -.12)\" fill=\"#262626\"><defs><path id=\"ArialMT-50\" d=\"m50.344 8.4531v-8.4531h-47.312q-0.09375 3.1719 1.0156 6.1094 1.8125 4.8281 5.7812 9.5156 3.9844 4.6875 11.516 10.844 11.672 9.5625 15.766 15.156 4.1094 5.5938 4.1094 10.578 0 5.2188-3.75 8.7969-3.7344 3.5938-9.7344 3.5938-6.3438 0-10.156-3.8125-3.8125-3.7969-3.8594-10.531l-9.0312 0.92188q0.92188 10.109 6.9688 15.406 6.0625 5.2969 16.281 5.2969 10.297 0 16.297-5.7188 6.0156-5.7031 6.0156-14.156 0-4.2969-1.7656-8.4531-1.75-4.1406-5.8281-8.7344t-13.547-12.594q-7.9219-6.6406-10.172-9.0156-2.2344-2.3594-3.7031-4.75z\"/></defs><use xlink:href=\"#ArialMT-50\"/></g><g transform=\"translate(125.92 244.52) scale(.12 -.12)\" fill=\"#262626\"><defs><path id=\"ArialMT-52\" d=\"m32.328 0v17.141h-31.062v8.0625l32.672 46.375h7.1719v-46.375h9.6719v-8.0625h-9.6719v-17.141zm0 25.203v32.266l-22.422-32.266z\"/></defs><use xlink:href=\"#ArialMT-52\"/></g><g transform=\"translate(186.8 244.52) scale(.12 -.12)\" fill=\"#262626\"><defs><path id=\"ArialMT-54\" d=\"m49.75 54.047-8.7344-0.67188q-1.1719 5.1719-3.3125 7.5156-3.5781 3.7656-8.7969 3.7656-4.2031 0-7.375-2.3438-4.1406-3.0312-6.5469-8.8438-2.3906-5.8125-2.4844-16.547 3.1719 4.8281 7.7656 7.1719t9.625 2.3438q8.7812 0 14.953-6.4688 6.1875-6.4688 6.1875-16.719 0-6.75-2.9062-12.531t-7.9844-8.8594-11.531-3.0781q-10.984 0-17.922 8.0781-6.9219 8.0781-6.9219 26.641 0 20.75 7.6562 30.172 6.6875 8.2031 18.016 8.2031 8.4531 0 13.844-4.7344 5.4062-4.7344 6.4688-13.094zm-35.875-30.859q0-4.5312 1.9219-8.6875 1.9219-4.1406 5.3906-6.3281 3.4688-2.1719 7.2812-2.1719 5.5625 0 9.5625 4.4844 4.0156 4.5 4.0156 12.219 0 7.4219-3.9688 11.688-3.9531 4.2812-9.9531 4.2812-5.9531 0-10.109-4.2812-4.1406-4.2656-4.1406-11.203z\"/></defs><use xlink:href=\"#ArialMT-54\"/></g><g transform=\"translate(247.67 244.52) scale(.12 -.12)\" fill=\"#262626\"><defs><path id=\"ArialMT-56\" d=\"m17.672 38.812q-5.4688 2.0156-8.1094 5.7188-2.625 3.7188-2.625 8.8906 0 7.8125 5.6094 13.125 5.625 5.3281 14.938 5.3281 9.375 0 15.094-5.4531 5.7188-5.4375 5.7188-13.25 0-4.9844-2.625-8.6719-2.6094-3.6719-7.9219-5.6875 6.5938-2.1406 10.031-6.9375 3.4375-4.7812 3.4375-11.422 0-9.1719-6.5-15.422-6.4844-6.25-17.078-6.25t-17.094 6.2656q-6.5 6.2812-6.5 15.656 0 6.9844 3.5469 11.688 3.5469 4.7188 10.078 6.4219zm-1.75 14.906q0-5.0781 3.2656-8.3125 3.2812-3.2188 8.5-3.2188 5.0781 0 8.3281 3.1875 3.25 3.2031 3.25 7.8438 0 4.8438-3.3594 8.1406-3.3438 3.2969-8.3125 3.2969-5.0312 0-8.3594-3.2344-3.3125-3.2188-3.3125-7.7031zm-2.8281-33.062q0-3.7656 1.7812-7.2812t5.2969-5.4531q3.5156-1.9219 7.5625-1.9219 6.2969 0 10.391 4.0469 4.1094 4.0625 4.1094 10.312 0 6.3438-4.2188 10.5t-10.578 4.1562q-6.2031 0-10.281-4.1094-4.0625-4.0938-4.0625-10.25z\"/></defs><use xlink:href=\"#ArialMT-56\"/></g><g transform=\"translate(305.21 244.52) scale(.12 -.12)\" fill=\"#262626\"><defs><path id=\"ArialMT-49\" d=\"m37.25 0h-8.7812v56q-3.1719-3.0156-8.3281-6.0469t-9.25-4.5469v8.5q7.375 3.4688 12.891 8.3906 5.5156 4.9375 7.8125 9.5781h5.6562z\"/><path id=\"ArialMT-48\" d=\"m4.1562 35.297q0 12.703 2.6094 20.438 2.6094 7.75 7.75 11.938 5.1562 4.2031 12.969 4.2031 5.7656 0 10.109-2.3281 4.3438-2.3125 7.1719-6.6875 2.8438-4.3594 4.4531-10.641 1.6094-6.2656 1.6094-16.922 0-12.594-2.5938-20.328-2.5781-7.7344-7.7344-11.969-5.1406-4.2188-13.016-4.2188-10.344 0-16.25 7.4219-7.0781 8.9375-7.0781 29.094zm9.0312 0q0-17.625 4.125-23.469 4.125-5.8281 10.172-5.8281 6.0625 0 10.188 5.8594t4.125 23.438q0 17.688-4.125 23.484-4.125 5.8125-10.281 5.8125-6.0469 0-9.6719-5.125-4.5312-6.5312-4.5312-24.172z\"/></defs><use xlink:href=\"#ArialMT-49\"/><use x=\"55.615234\" xlink:href=\"#ArialMT-48\"/></g><g transform=\"translate(366.08 244.52) scale(.12 -.12)\" fill=\"#262626\"><use xlink:href=\"#ArialMT-49\"/><use x=\"55.615234\" xlink:href=\"#ArialMT-50\"/></g><g transform=\"translate(144.43 265.47) scale(.2 -.2)\" fill=\"#262626\"><defs><path id=\"ArialMT-78\" d=\"m7.625 0v71.578h9.7031l37.609-56.203v56.203h9.0781v-71.578h-9.7188l-37.594 56.25v-56.25z\"/><path id=\"ArialMT-117\" d=\"m40.578 0v7.625q-6.0625-8.7969-16.453-8.7969-4.5938 0-8.5781 1.75-3.9688 1.7656-5.9062 4.4219-1.9219 2.6719-2.7031 6.5312-0.54688 2.5781-0.54688 8.2031v32.125h8.7969v-28.766q0-6.875 0.53125-9.2812 0.82812-3.4531 3.5156-5.4375t6.6406-1.9844 7.4219 2.0312 4.9062 5.5156q1.4531 3.5 1.4531 10.141v27.781h8.7812v-51.859z\"/><path id=\"ArialMT-109\" d=\"m6.5938 0v51.859h7.8594v-7.2812q2.4375 3.8125 6.4844 6.125 4.0625 2.3281 9.2344 2.3281 5.7656 0 9.4531-2.3906t5.2031-6.6875q6.1562 9.0781 16.016 9.0781 7.7188 0 11.859-4.2812 4.1562-4.2656 4.1562-13.156v-35.594h-8.75v32.672q0 5.2656-0.85938 7.5781-0.84375 2.3281-3.0938 3.7344-2.2344 1.4219-5.2656 1.4219-5.4688 0-9.0938-3.6406-3.6094-3.625-3.6094-11.641v-30.125h-8.7812v33.688q0 5.8594-2.1562 8.7812-2.1406 2.9375-7.0312 2.9375-3.7031 0-6.8594-1.9531-3.1406-1.9531-4.5625-5.7188-1.4219-3.75-1.4219-10.828v-26.906z\"/><path id=\"ArialMT-98\" d=\"m14.703 0h-8.1562v71.578h8.7812v-25.531q5.5781 6.9844 14.219 6.9844 4.7812 0 9.0469-1.9375 4.2812-1.9219 7.0312-5.4219 2.7656-3.4844 4.3281-8.4219 1.5625-4.9219 1.5625-10.547 0-13.328-6.5938-20.609-6.5938-7.2656-15.812-7.2656-9.1875 0-14.406 7.6719zm-0.10938 26.312q0-9.3125 2.5469-13.469 4.1562-6.7812 11.234-6.7812 5.75 0 9.9531 5t4.2031 14.922q0 10.156-4.0312 14.984t-9.7344 4.8281q-5.7656 0-9.9688-5t-4.2031-14.484z\"/><path id=\"ArialMT-101\" d=\"m42.094 16.703 9.0781-1.125q-2.1406-7.9531-7.9531-12.359-5.8125-4.3906-14.844-4.3906-11.375 0-18.047 7-6.6719 7.0156-6.6719 19.656 0 13.094 6.7344 20.312 6.75 7.2344 17.484 7.2344 10.406 0 17-7.0781t6.5938-19.922q0-0.78125-0.046875-2.3438h-38.672q0.48438-8.5469 4.8281-13.094 4.3438-4.5312 10.844-4.5312 4.8281 0 8.25 2.5312 3.4219 2.5469 5.4219 8.1094zm-28.859 14.203h28.953q-0.57812 6.5469-3.3125 9.8125-4.2031 5.0781-10.891 5.0781-6.0625 0-10.188-4.0469t-4.5625-10.844z\"/><path id=\"ArialMT-114\" d=\"m6.5 0v51.859h7.9062v-7.8594q3.0312 5.5156 5.5938 7.2656 2.5625 1.7656 5.6406 1.7656 4.4375 0 9.0312-2.8281l-3.0312-8.1562q-3.2188 1.9062-6.4375 1.9062-2.8906 0-5.1875-1.7344t-3.2656-4.8125q-1.4688-4.6875-1.4688-10.25v-27.156z\"/><path id=\"ArialMT-111\" d=\"m3.3281 25.922q0 14.406 8 21.344 6.6875 5.7656 16.312 5.7656 10.688 0 17.469-7.0156 6.7969-7 6.7969-19.359 0-10-3-15.75-3-5.7344-8.75-8.9062-5.7344-3.1719-12.516-3.1719-10.891 0-17.609 6.9844-6.7031 6.9844-6.7031 20.109zm9.0312 0q0-9.9531 4.3438-14.906t10.938-4.9531q6.5469 0 10.891 4.9688 4.3438 4.9844 4.3438 15.188 0 9.625-4.375 14.578t-10.859 4.9531q-6.5938 0-10.938-4.9375-4.3438-4.9219-4.3438-14.891z\"/><path id=\"ArialMT-102\" d=\"m8.6875 0v45.016h-7.7656v6.8438h7.7656v5.5156q0 5.2188 0.9375 7.7656 1.2656 3.4219 4.4531 5.5312 3.2031 2.125 8.9688 2.125 3.7188 0 8.2031-0.875l-1.3125-7.6562q-2.7344 0.48438-5.1875 0.48438-4 0-5.6562-1.7188-1.6562-1.7031-1.6562-6.3906v-4.7812h10.109v-6.8438h-10.109v-45.016z\"/><path id=\"ArialMT-113\" d=\"m39.656-19.875v25.391q-2.0625-2.875-5.75-4.7812t-7.8281-1.9062q-9.2344 0-15.906 7.375-6.6562 7.375-6.6562 20.219 0 7.8125 2.7031 14 2.7188 6.2031 7.8594 9.4062 5.1562 3.2031 11.312 3.2031 9.625 0 15.141-8.1094v6.9375h7.9062v-71.734zm-27.109 45.953q0-10.016 4.2031-15.016t10.062-5q5.6094 0 9.6562 4.75 4.0625 4.7656 4.0625 14.484 0 10.344-4.2812 15.562-4.2656 5.2344-10.031 5.2344-5.7031 0-9.6875-4.8594t-3.9844-15.156z\"/><path id=\"ArialMT-105\" d=\"m6.6406 61.469v10.109h8.7969v-10.109zm0-61.469v51.859h8.7969v-51.859z\"/><path id=\"ArialMT-116\" d=\"m25.781 7.8594 1.2656-7.7656q-3.7031-0.78125-6.6406-0.78125-4.7812 0-7.4219 1.5156-2.625 1.5156-3.7031 3.9844t-1.0781 10.375v29.828h-6.4375v6.8438h6.4375v12.844l8.7344 5.2656v-18.109h8.8438v-6.8438h-8.8438v-30.312q0-3.7656 0.46875-4.8438 0.46875-1.0625 1.5156-1.7031t3-0.64062q1.4688 0 3.8594 0.34375z\"/><path id=\"ArialMT-115\" d=\"m3.0781 15.484 8.6875 1.3594q0.73438-5.2188 4.0781-8t9.3594-2.7812q6.0469 0 8.9688 2.4531 2.9375 2.4688 2.9375 5.7969 0 2.9688-2.5938 4.6875-1.7969 1.1719-8.9844 2.9688-9.6562 2.4531-13.391 4.2344t-5.6719 4.9219q-1.9219 3.1562-1.9219 6.9688 0 3.4531 1.5781 6.4062 1.5938 2.9688 4.3281 4.9219 2.0469 1.5 5.5781 2.5469 3.5469 1.0625 7.6094 1.0625 6.0938 0 10.703-1.7656 4.625-1.75 6.8125-4.7656 2.2031-3 3.0312-8.0156l-8.5938-1.1719q-0.57812 4-3.3906 6.2344-2.8125 2.25-7.9375 2.25-6.0469 0-8.6406-2t-2.5938-4.6875q0-1.7031 1.0781-3.0781 1.0781-1.4062 3.375-2.3438 1.3125-0.48438 7.7656-2.2344 9.3281-2.5 13-4.0938 3.6875-1.5781 5.7812-4.6094 2.1094-3.0156 2.1094-7.5156 0-4.3906-2.5625-8.2812-2.5625-3.875-7.4062-6-4.8281-2.125-10.922-2.125-10.109 0-15.406 4.2031t-6.7656 12.453z\"/></defs><use xlink:href=\"#ArialMT-78\"/><use x=\"72.216797\" xlink:href=\"#ArialMT-117\"/><use x=\"127.832031\" xlink:href=\"#ArialMT-109\"/><use x=\"211.132812\" xlink:href=\"#ArialMT-98\"/><use x=\"266.748047\" xlink:href=\"#ArialMT-101\"/><use x=\"322.363281\" xlink:href=\"#ArialMT-114\"/><use x=\"355.664062\" xlink:href=\"#ArialMT-32\"/><use x=\"383.447266\" xlink:href=\"#ArialMT-111\"/><use x=\"439.0625\" xlink:href=\"#ArialMT-102\"/><use x=\"466.845703\" xlink:href=\"#ArialMT-32\"/><use x=\"494.628906\" xlink:href=\"#ArialMT-113\"/><use x=\"550.244141\" xlink:href=\"#ArialMT-117\"/><use x=\"605.859375\" xlink:href=\"#ArialMT-98\"/><use x=\"661.474609\" xlink:href=\"#ArialMT-105\"/><use x=\"683.691406\" xlink:href=\"#ArialMT-116\"/><use x=\"711.474609\" xlink:href=\"#ArialMT-115\"/></g><g transform=\"translate(29.491 233.23) scale(.12 -.12)\" fill=\"#262626\"><defs><path id=\"ArialMT-46\" d=\"m9.0781 0v10.016h10.016v-10.016z\"/><path id=\"ArialMT-53\" d=\"m4.1562 18.75 9.2188 0.78125q1.0312-6.7344 4.7656-10.141 3.7344-3.3906 9.0156-3.3906 6.3438 0 10.734 4.7812 4.3906 4.7969 4.3906 12.703 0 7.5156-4.2188 11.859-4.2188 4.3594-11.062 4.3594-4.25 0-7.6719-1.9375-3.4062-1.9219-5.3594-5l-8.25 1.0781 6.9219 36.766h35.609v-8.4062h-28.578l-3.8438-19.234q6.4375 4.5 13.516 4.5 9.375 0 15.812-6.5 6.4531-6.5 6.4531-16.703 0-9.7188-5.6562-16.797-6.8906-8.6875-18.797-8.6875-9.7656 0-15.953 5.4688-6.1719 5.4688-7.0469 14.5z\"/></defs><use xlink:href=\"#ArialMT-49\"/><use x=\"55.615234\" xlink:href=\"#ArialMT-46\"/><use x=\"83.398438\" xlink:href=\"#ArialMT-53\"/></g><g transform=\"translate(29.491 196.99) scale(.12 -.12)\" fill=\"#262626\"><use xlink:href=\"#ArialMT-50\"/><use x=\"55.615234\" xlink:href=\"#ArialMT-46\"/><use x=\"83.398438\" xlink:href=\"#ArialMT-48\"/></g><g transform=\"translate(29.491 160.75) scale(.12 -.12)\" fill=\"#262626\"><use xlink:href=\"#ArialMT-50\"/><use x=\"55.615234\" xlink:href=\"#ArialMT-46\"/><use x=\"83.398438\" xlink:href=\"#ArialMT-53\"/></g><g transform=\"translate(29.491 124.51) scale(.12 -.12)\" fill=\"#262626\"><defs><path id=\"ArialMT-51\" d=\"m4.2031 18.891 8.7812 1.1719q1.5156-7.4688 5.1562-10.766t8.8594-3.2969q6.2031 0 10.469 4.2969 4.2812 4.2969 4.2812 10.656 0 6.0469-3.9531 9.9688-3.9531 3.9375-10.062 3.9375-2.4844 0-6.2031-0.96875l0.98438 7.7188q0.875-0.10938 1.4062-0.10938 5.625 0 10.109 2.9219 4.5 2.9375 4.5 9.0469 0 4.8281-3.2812 8-3.2656 3.1875-8.4375 3.1875-5.125 0-8.5469-3.2344-3.4219-3.2188-4.3906-9.6562l-8.7969 1.5625q1.6094 8.8281 7.3125 13.688 5.7188 4.8594 14.219 4.8594 5.8594 0 10.781-2.5156 4.9375-2.5156 7.5469-6.8594 2.625-4.3438 2.625-9.2344 0-4.625-2.5-8.4375-2.4844-3.8125-7.3594-6.0625 6.3438-1.4531 9.8594-6.0781 3.5156-4.6094 3.5156-11.547 0-9.375-6.8438-15.891-6.8281-6.5156-17.281-6.5156-9.4219 0-15.656 5.6094-6.2188 5.625-7.0938 14.547z\"/></defs><use xlink:href=\"#ArialMT-51\"/><use x=\"55.615234\" xlink:href=\"#ArialMT-46\"/><use x=\"83.398438\" xlink:href=\"#ArialMT-48\"/></g><g transform=\"translate(29.491 88.269) scale(.12 -.12)\" fill=\"#262626\"><use xlink:href=\"#ArialMT-51\"/><use x=\"55.615234\" xlink:href=\"#ArialMT-46\"/><use x=\"83.398438\" xlink:href=\"#ArialMT-53\"/></g><g transform=\"translate(29.491 52.029) scale(.12 -.12)\" fill=\"#262626\"><use xlink:href=\"#ArialMT-52\"/><use x=\"55.615234\" xlink:href=\"#ArialMT-46\"/><use x=\"83.398438\" xlink:href=\"#ArialMT-48\"/></g><g transform=\"translate(29.491 15.789) scale(.12 -.12)\" fill=\"#262626\"><use xlink:href=\"#ArialMT-52\"/><use x=\"55.615234\" xlink:href=\"#ArialMT-46\"/><use x=\"83.398438\" xlink:href=\"#ArialMT-53\"/></g><g transform=\"translate(21.516 206.21) rotate(-90) scale(.2 -.2)\" fill=\"#262626\"><defs><path id=\"DejaVuSans-Oblique-960\" d=\"m9.125 54.688h52.406l-1.7656-8.9844h-6.8906l-6.5312-33.594q-0.6875-3.5156 0.23438-5.0781 0.89062-1.5156 3.5625-1.5156 0.73438 0 1.8125 0.15625 1.125 0.09375 1.4688 0.14062l-1.2656-6.5q-1.8125-0.625-3.6719-0.92188-1.9062-0.29688-3.7031-0.29688-5.8594 0-7.4688 3.1719-1.625 3.2344 0.046875 11.828l6.3438 32.609h-20.172l-8.875-45.703h-9.1875l8.8906 45.703h-6.9844z\"/><path id=\"ArialMT-97\" d=\"m40.438 6.3906q-4.8906-4.1406-9.4062-5.8594-4.5156-1.7031-9.6875-1.7031-8.5469 0-13.141 4.1719t-4.5938 10.672q0 3.8125 1.7344 6.9531 1.7344 3.1562 4.5469 5.0625t6.3281 2.875q2.5781 0.6875 7.8125 1.3281 10.641 1.2656 15.672 3.0156 0.046875 1.8125 0.046875 2.2969 0 5.375-2.5 7.5781-3.3594 2.9688-10 2.9688-6.2031 0-9.1562-2.1719t-4.375-7.6875l-8.5938 1.1719q1.1719 5.5156 3.8594 8.9062t7.7656 5.2188q5.0781 1.8438 11.766 1.8438 6.6406 0 10.781-1.5625 4.1562-1.5625 6.1094-3.9375 1.9531-2.3594 2.7344-5.9844 0.4375-2.2344 0.4375-8.0938v-11.719q0-12.266 0.5625-15.516 0.5625-3.2344 2.2344-6.2188h-9.1875q-1.3594 2.7344-1.75 6.3906zm-0.73438 19.641q-4.7969-1.9531-14.359-3.3281-5.4219-0.78125-7.6719-1.7656-2.2344-0.96875-3.4688-2.8438-1.2188-1.875-1.2188-4.1719 0-3.5156 2.6562-5.8594 2.6719-2.3438 7.7969-2.3438 5.0781 0 9.0312 2.2188t5.8125 6.0781q1.4219 2.9844 1.4219 8.7812z\"/><path id=\"ArialMT-110\" d=\"m6.5938 0v51.859h7.9062v-7.375q5.7188 8.5469 16.5 8.5469 4.6875 0 8.625-1.6875t5.8906-4.4219 2.7344-6.4844q0.48438-2.4531 0.48438-8.5469v-31.891h-8.7969v31.547q0 5.375-1.0312 8.0312-1.0156 2.6562-3.625 4.2344-2.6094 1.5938-6.125 1.5938-5.625 0-9.7031-3.5625t-4.0781-13.516v-28.328z\"/><path id=\"ArialMT-100\" d=\"m40.234 0v6.5469q-4.9375-7.7188-14.5-7.7188-6.2031 0-11.406 3.4219t-8.0625 9.5469q-2.8438 6.125-2.8438 14.078 0 7.7656 2.5781 14.094 2.5938 6.3281 7.7656 9.6875 5.1875 3.375 11.578 3.375 4.6875 0 8.3438-1.9844 3.6719-1.9688 5.9688-5.1406v25.672h8.7344v-71.578zm-27.781 25.875q0-9.9531 4.1875-14.891 4.2031-4.9219 9.9219-4.9219 5.7656 0 9.7812 4.7031 4.0312 4.7188 4.0312 14.375 0 10.656-4.1094 15.625-4.0938 4.9844-10.094 4.9844-5.8594 0-9.7969-4.7812-3.9219-4.7812-3.9219-15.094z\"/></defs><use transform=\"translate(0 .20312)\" xlink:href=\"#DejaVuSans-Oblique-960\"/><use transform=\"translate(60.205 .20312)\" xlink:href=\"#ArialMT-32\"/><use transform=\"translate(87.988 .20312)\" xlink:href=\"#ArialMT-97\"/><use transform=\"translate(143.6 .20312)\" xlink:href=\"#ArialMT-110\"/><use transform=\"translate(199.22 .20312)\" xlink:href=\"#ArialMT-100\"/><use transform=\"translate(254.83 .20312)\" xlink:href=\"#ArialMT-32\"/><use transform=\"translate(282.62 .20312)\" xlink:href=\"#ArialMT-101\"/><use transform=\"translate(338.23 .20312)\" xlink:href=\"#ArialMT-115\"/><use transform=\"translate(388.23 .20312)\" xlink:href=\"#ArialMT-116\"/><use transform=\"translate(416.02 .20312)\" xlink:href=\"#ArialMT-105\"/><use transform=\"translate(438.23 .20312)\" xlink:href=\"#ArialMT-109\"/><use transform=\"translate(521.53 .20312)\" xlink:href=\"#ArialMT-97\"/><use transform=\"translate(577.15 .20312)\" xlink:href=\"#ArialMT-116\"/><use transform=\"translate(604.93 .20312)\" xlink:href=\"#ArialMT-101\"/><use transform=\"translate(660.55 .20312)\" xlink:href=\"#ArialMT-32\"/><use transform=\"translate(688.33 .20312)\" xlink:href=\"#ArialMT-111\"/><use transform=\"translate(743.95 .20312)\" xlink:href=\"#ArialMT-102\"/><use transform=\"translate(771.73 .20312)\" xlink:href=\"#ArialMT-32\"/><use transform=\"translate(799.51 .20312)\" xlink:href=\"#DejaVuSans-Oblique-960\"/></g><path d=\"m68.389 109.95h30.436 30.436 30.436 30.436 30.436 30.436 30.436 30.436 30.436 30.436\" clip-path=\"url(#p381583459e)\" fill=\"none\" stroke=\"#ff0000\" stroke-dasharray=\"5.55,2.4\" stroke-width=\"1.5\"/><path d=\"m68.389 192.69 30.436-144.96 30.436 96.64 30.436-38.656h30.436 30.436l30.436 5.657 30.436-2.7936 30.436 1.4054h30.436 30.436\" clip-path=\"url(#p381583459e)\" fill=\"none\" stroke=\"#1f77b4\" stroke-linecap=\"round\" stroke-width=\"1.5\"/><defs><path id=\"m5159d73e90\" d=\"m0 3c0.79561 0 1.5587-0.3161 2.1213-0.87868 0.56258-0.56258 0.87868-1.3257 0.87868-2.1213s-0.3161-1.5587-0.87868-2.1213c-0.56258-0.56258-1.3257-0.87868-2.1213-0.87868s-1.5587 0.3161-2.1213 0.87868c-0.56258 0.56258-0.87868 1.3257-0.87868 2.1213s0.3161 1.5587 0.87868 2.1213c0.56258 0.56258 1.3257 0.87868 2.1213 0.87868z\" stroke=\"#1f77b4\"/></defs><g clip-path=\"url(#p381583459e)\" fill=\"#1f77b4\" stroke=\"#1f77b4\"><use x=\"68.388807\" y=\"192.694687\" xlink:href=\"#m5159d73e90\"/><use x=\"98.82517\" y=\"47.734688\" xlink:href=\"#m5159d73e90\"/><use x=\"129.261534\" y=\"144.374687\" xlink:href=\"#m5159d73e90\"/><use x=\"159.697898\" y=\"105.718687\" xlink:href=\"#m5159d73e90\"/><use x=\"190.134261\" y=\"105.718687\" xlink:href=\"#m5159d73e90\"/><use x=\"220.570625\" y=\"105.718687\" xlink:href=\"#m5159d73e90\"/><use x=\"251.006989\" y=\"111.375663\" xlink:href=\"#m5159d73e90\"/><use x=\"281.443352\" y=\"108.582095\" xlink:href=\"#m5159d73e90\"/><use x=\"311.879716\" y=\"109.987448\" xlink:href=\"#m5159d73e90\"/><use x=\"342.31608\" y=\"109.987448\" xlink:href=\"#m5159d73e90\"/><use x=\"372.752443\" y=\"109.987448\" xlink:href=\"#m5159d73e90\"/></g><path d=\"m53.171 228.93v-217.44\" fill=\"none\" stroke=\"#ffffff\" stroke-linecap=\"square\" stroke-width=\".8\"/><path d=\"m387.97 228.93v-217.44\" fill=\"none\" stroke=\"#ffffff\" stroke-linecap=\"square\" stroke-width=\".8\"/><path d=\"m53.171 228.93h334.8\" fill=\"none\" stroke=\"#ffffff\" stroke-linecap=\"square\" stroke-width=\".8\"/><path d=\"m53.171 11.495h334.8\" fill=\"none\" stroke=\"#ffffff\" stroke-linecap=\"square\" stroke-width=\".8\"/><path d=\"m291.17 47.785h89.8q2 0 2-2v-27.291q0-2-2-2h-89.8q-2 0-2 2v27.291q0 2 2 2z\" fill=\"#eaeaf2\" opacity=\".8\" stroke=\"#cccccc\"/><path d=\"m293.17 24.152h20\" fill=\"none\" stroke=\"#ff0000\" stroke-dasharray=\"5.55,2.4\" stroke-width=\"1.5\"/><g transform=\"translate(321.17 27.652) scale(.1 -.1)\" fill=\"#262626\"><use transform=\"translate(0 .3125)\" xlink:href=\"#DejaVuSans-Oblique-960\"/></g><path d=\"m293.17 38.298h20\" fill=\"none\" stroke=\"#1f77b4\" stroke-linecap=\"round\" stroke-width=\"1.5\"/><use x=\"303.170625\" y=\"38.297812\" fill=\"#1f77b4\" stroke=\"#1f77b4\" xlink:href=\"#m5159d73e90\"/><g transform=\"translate(321.17 41.798) scale(.1 -.1)\" fill=\"#262626\"><use transform=\"translate(0 .20312)\" xlink:href=\"#ArialMT-101\"/><use transform=\"translate(55.615 .20312)\" xlink:href=\"#ArialMT-115\"/><use transform=\"translate(105.62 .20312)\" xlink:href=\"#ArialMT-116\"/><use transform=\"translate(133.4 .20312)\" xlink:href=\"#ArialMT-105\"/><use transform=\"translate(155.62 .20312)\" xlink:href=\"#ArialMT-109\"/><use transform=\"translate(238.92 .20312)\" xlink:href=\"#ArialMT-97\"/><use transform=\"translate(294.53 .20312)\" xlink:href=\"#ArialMT-116\"/><use transform=\"translate(322.31 .20312)\" xlink:href=\"#ArialMT-101\"/><use transform=\"translate(377.93 .20312)\" xlink:href=\"#ArialMT-32\"/><use transform=\"translate(405.71 .20312)\" xlink:href=\"#ArialMT-111\"/><use transform=\"translate(461.33 .20312)\" xlink:href=\"#ArialMT-102\"/><use transform=\"translate(489.11 .20312)\" xlink:href=\"#ArialMT-32\"/><use transform=\"translate(516.89 .20312)\" xlink:href=\"#DejaVuSans-Oblique-960\"/></g><defs><clipPath id=\"p381583459e\"><rect x=\"53.171\" y=\"11.495\" width=\"334.8\" height=\"217.44\"/></clipPath></defs></svg>"
      ],
      "text/plain": [
       "<Figure size 432x288 with 1 Axes>"
      ]
     },
     "metadata": {},
     "output_type": "display_data"
    }
   ],
   "source": [
    "plotter.plot(nqs, [pi]*len(nqs), '--r')\n",
    "plotter.plot(nqs, pi_estimates, '.-', markersize=12)\n",
    "plotter.xlim([1.5, 12.5])\n",
    "plotter.ylim([1.5, 4.5])\n",
    "plotter.legend(['$\\pi$', 'estimate of $\\pi$'])\n",
    "plotter.xlabel('Number of qubits', fontdict={'size':20})\n",
    "plotter.ylabel('$\\pi$ and estimate of $\\pi$', fontdict={'size':20})\n",
    "plotter.tick_params(axis='x', labelsize=12)\n",
    "plotter.tick_params(axis='y', labelsize=12)\n",
    "plotter.show()"
   ]
  },
  {
   "cell_type": "code",
   "execution_count": 9,
   "metadata": {},
   "outputs": [
    {
     "data": {
      "text/plain": [
       "{'qiskit-terra': '0.15.1',\n",
       " 'qiskit-aer': '0.6.1',\n",
       " 'qiskit-ignis': '0.4.0',\n",
       " 'qiskit-ibmq-provider': '0.8.0',\n",
       " 'qiskit-aqua': '0.7.5',\n",
       " 'qiskit': '0.20.0'}"
      ]
     },
     "execution_count": 9,
     "metadata": {},
     "output_type": "execute_result"
    }
   ],
   "source": [
    "import qiskit.tools.jupyter\n",
    "%qiskit_version_table"
   ]
  }
 ],
 "metadata": {
  "kernelspec": {
   "display_name": "Python 3",
   "language": "python",
   "name": "python3"
  },
  "language_info": {
   "codemirror_mode": {
    "name": "ipython",
    "version": 3
   },
   "file_extension": ".py",
   "mimetype": "text/x-python",
   "name": "python",
   "nbconvert_exporter": "python",
   "pygments_lexer": "ipython3",
   "version": "3.9"
  }
 },
 "nbformat": 4,
 "nbformat_minor": 2
}
