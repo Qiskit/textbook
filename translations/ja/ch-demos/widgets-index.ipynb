{
  "cells": [
    {
      "cell_type": "markdown",
      "metadata": {
        "tags": [
          "remove_cell"
        ]
      },
      "source": [
        "# ウィジェットによるデモ"
      ]
    },
    {
      "cell_type": "markdown",
      "metadata": {
      },
      "source": [
        "このテキストブックでは、読者が実験できるようなコードを提供するだけでなく、特定の概念を説明するためのウィジェットも多数提供しています。このページでは、その一部をインデックスとして掲載しています。各セルを実行すると、ウィジェットと対話ベースで進めることができます。\n",
        "\n",
        "**注意** コードセルの左下にある「Try」を押すか、 [IBM Quantum Experience](https://quantum-computing.ibm.com/jupyter/user/qiskit-textbook/content/widgets-index.ipynb) でこのページを見ることによって、対話機能を有効にする必要があります。\n",
        "\n",
        "### インタラクティブコード\n",
        "\n",
        "このテキストブックの最も重要なインタラクティブな要素は、コードを変更して実験する機能です。これは教科書のWebページで直接可能ですが、Jupyterノートブックとして閲覧することもでき、そこでさらにセルを追加したり変更を保存したりすることができます。インタラクティブなPythonコードは [ipywidgets](https://ipywidgets.readthedocs.io/en/latest/) を介したウィジェットも可能で、このページの残りの部分はQiskitテキストブックが提供するウィジェットの一部を紹介します。"
      ]
    },
    {
      "cell_type": "code",
      "execution_count": null,
      "metadata": {
      },
      "outputs": [

      ],
      "source": [
        "# 「try」をクリックしてから「run」をクリックして出力を確認します\n",
        "print(\"This code works!\")"
      ]
    },
    {
      "cell_type": "markdown",
      "metadata": {
      },
      "source": [
        "### ゲートデモ\n",
        "\n",
        "このウィジェットはいくつかのゲートが量子ビットに与える操作をブロッホ球で表示します。これは [単一量子ビットゲート](https://qiskit.org/textbook/ch-states/single-qubit-gates.html) で多く使用されています。"
      ]
    },
    {
      "cell_type": "code",
      "execution_count": 1,
      "metadata": {
      },
      "outputs": [
        {
          "data": {
            "application/vnd.jupyter.widget-view+json": {
              "model_id": "eb11a5aee6da420faac24b1725f1ae04",
              "version_major": 2,
              "version_minor": 0
            },
            "text/plain": [
              "VBox(children=(HBox(children=(Button(description='I', layout=Layout(height='3em', width='3em'), style=ButtonSt…"
            ]
          },
          "metadata": {
          },
          "output_type": "display_data"
        },
        {
          "data": {
            "application/vnd.jupyter.widget-view+json": {
              "model_id": "dd3288a303f841be8c01f38c874ac7c2",
              "version_major": 2,
              "version_minor": 0
            },
            "text/plain": [
              "Image(value=b'\\x89PNG\\r\\n\\x1a\\n\\x00\\x00\\x00\\rIHDR\\x00\\x00\\x01 \\x00\\x00\\x01 \\x08\\x06\\x00\\x00\\x00\\x14\\x83\\xae\\x8…"
            ]
          },
          "metadata": {
          },
          "output_type": "display_data"
        }
      ],
      "source": [
        "from qiskit_textbook.widgets import gate_demo\n",
        "gate_demo()"
      ]
    },
    {
      "cell_type": "markdown",
      "metadata": {
      },
      "source": [
        "### バイナリーデモンストレーション\n",
        "\n",
        "このシンプルなウィジェットを使用すると、2進数を操作できます。 [The Atoms of Computation](https://qiskit.org/textbook/ch-states/atoms-computation.html) で見ることができます。"
      ]
    },
    {
      "cell_type": "code",
      "execution_count": 2,
      "metadata": {
      },
      "outputs": [
        {
          "data": {
            "application/vnd.jupyter.widget-view+json": {
              "model_id": "9adc0a1d89d54b82a6cc154c529decda",
              "version_major": 2,
              "version_minor": 0
            },
            "text/plain": [
              "VBox(children=(Label(value='Toggle the bits below to change the binary number.'), Label(value='Think of a numb…"
            ]
          },
          "metadata": {
          },
          "output_type": "display_data"
        },
        {
          "data": {
            "application/vnd.jupyter.widget-view+json": {
              "model_id": "824fc6d4ed5542acaacda36473b502cd",
              "version_major": 2,
              "version_minor": 0
            },
            "text/plain": [
              "HTML(value='<pre>Binary   Decimal\\n 00000 = 0</pre>')"
            ]
          },
          "metadata": {
          },
          "output_type": "display_data"
        }
      ],
      "source": [
        "from qiskit_textbook.widgets import binary_widget\n",
        "binary_widget(nbits=5)"
      ]
    },
    {
      "cell_type": "markdown",
      "metadata": {
      },
      "source": [
        "### スケーラブルな回路ウィジェット\n",
        "\n",
        "[量子フーリエ変換の章](https://qiskit.org/textbook/ch-algorithms/quantum-fourier-transform.html) にあるような回路を扱うとき、これらの量子ビット数の変化に応じてどのようにスケールするかを見ることはしばしば役に立ちます。もし私たちの関数が回路(`QuantumCircuit`) と量子ビット数 (`int`) を入力として受け取る場合、下のウィジェットを使ってどのようにスケーリングするかを見ることができます。これらの関数内のコードを変更して、セルを再実行してみてください。"
      ]
    },
    {
      "cell_type": "code",
      "execution_count": 3,
      "metadata": {
      },
      "outputs": [
        {
          "data": {
            "application/vnd.jupyter.widget-view+json": {
              "model_id": "f6986099fb0d4772bc5253a03df84dce",
              "version_major": 2,
              "version_minor": 0
            },
            "text/plain": [
              "IntSlider(value=4, max=8, min=1)"
            ]
          },
          "metadata": {
          },
          "output_type": "display_data"
        },
        {
          "data": {
            "application/vnd.jupyter.widget-view+json": {
              "model_id": "ebb44e520dd24fdda8655b2c09ccae4e",
              "version_major": 2,
              "version_minor": 0
            },
            "text/plain": [
              "Image(value=b'\\x89PNG\\r\\n\\x1a\\n\\x00\\x00\\x00\\rIHDR\\x00\\x00\\x03H\\x00\\x00\\x01\\x08\\x08\\x06\\x00\\x00\\x00e \\xd4\\x9e\\x…"
            ]
          },
          "metadata": {
          },
          "output_type": "display_data"
        }
      ],
      "source": [
        "from qiskit_textbook.widgets import scalable_circuit\n",
        "from numpy import pi\n",
        "\n",
        "def qft_rotations(circuit, n):\n",
        "    \"\"\"回路内の最初のn量子ビットに対してqftを実行(スワップなし)\"\"\"\n",
        "    if n == 0:\n",
        "        return circuit\n",
        "    n -= 1\n",
        "    circuit.h(n)\n",
        "    for qubit in range(n):\n",
        "        circuit.cp(pi/2**(n-qubit), qubit, n)\n",
        "    # 関数の最後で、次の量子ビットに対して同じ関数を\n",
        "    # 再び呼び出します （関数の中で先にnを1つ減らしました）\n",
        "    qft_rotations(circuit, n)\n",
        "\n",
        "def swap_qubits(circuit, n):\n",
        "    \"\"\"量子ビットの順番を反転\"\"\"\n",
        "    for qubit in range(n//2):\n",
        "        circuit.swap(qubit, n-qubit-1)\n",
        "    return circuit\n",
        "\n",
        "def qft(circuit, n):\n",
        "    \"\"\"回路の最初のn量子ビットのQFT\"\"\"\n",
        "    qft_rotations(circuit, n)\n",
        "    swap_qubits(circuit, n)\n",
        "    return circuit\n",
        "\n",
        "scalable_circuit(qft)"
      ]
    },
    {
      "cell_type": "markdown",
      "metadata": {
      },
      "source": [
        "### ベルンシュタイン-ヴァジラニ ウィジェット\n",
        "\n",
        "このウィジェットにより、読者は [ベルンシュタイン-ヴァジラニ アルゴリズム](https://qiskit.org/textbook/ch-algorithms/bernstein-vazirani.html) のインスタンスを用いて、その数学を追うことができます。ボタンを押すと、アルゴリズムの異なるステップを適用します。最初の引数で量子ビットの数を設定し、2番目の引数で隠されたバイナリ文字列を設定し、セルを再実行します。また、 `hide_oracle=False` と設定してセルを再実行すれば、オラクルの中身を明らかにすることができます。"
      ]
    },
    {
      "cell_type": "code",
      "execution_count": 4,
      "metadata": {
      },
      "outputs": [
        {
          "data": {
            "application/vnd.jupyter.widget-view+json": {
              "model_id": "304a42ca667b46d981bc7322a63c920d",
              "version_major": 2,
              "version_minor": 0
            },
            "text/plain": [
              "HBox(children=(Button(description='H⊗ⁿ', style=ButtonStyle()), Button(description='Oracle', style=ButtonStyle(…"
            ]
          },
          "metadata": {
          },
          "output_type": "display_data"
        },
        {
          "data": {
            "application/vnd.jupyter.widget-view+json": {
              "model_id": "0e6ab71983424081a163c94c26c97030",
              "version_major": 2,
              "version_minor": 0
            },
            "text/plain": [
              "HTMLMath(value='$$ |00\\\\rangle = |00\\\\rangle $$')"
            ]
          },
          "metadata": {
          },
          "output_type": "display_data"
        },
        {
          "data": {
            "application/vnd.jupyter.widget-view+json": {
              "model_id": "b826fd450edd413689f5bc578e409d8a",
              "version_major": 2,
              "version_minor": 0
            },
            "text/plain": [
              "Image(value=b'\\x89PNG\\r\\n\\x1a\\n\\x00\\x00\\x00\\rIHDR\\x00\\x00\\x01*\\x00\\x00\\x00\\xcc\\x08\\x06\\x00\\x00\\x00\\xc4P\\xee\\x0…"
            ]
          },
          "metadata": {
          },
          "output_type": "display_data"
        }
      ],
      "source": [
        "from qiskit_textbook.widgets import bv_widget\n",
        "bv_widget(2, \"11\", hide_oracle=True)"
      ]
    },
    {
      "cell_type": "markdown",
      "metadata": {
      },
      "source": [
        "### ドイチ-ジョサ ウィジェット\n",
        "\n",
        "ベルンシュタイン-ヴァジラニのウィジェットと同様に、ドイチ-ジョサのウィジェットで読者は [ドイチ-ジョサのアルゴリズム](https://qiskit.org/textbook/ch-algorithms/deutsch-josza.html) のインスタンスを介してその数学を追うことができます。ボタンを押すと、アルゴリズムの異なるステップを適用することができます。 `case` は「balanced」または「constant」、 `size` は「small」または「large」です。ランダムに選ばれたオラクルに対してセルを再実行します。また、 `hide_oracle=False` を設定してセルを再実行すると、オラクルの中身を明らかにすることができます。"
      ]
    },
    {
      "cell_type": "code",
      "execution_count": 5,
      "metadata": {
      },
      "outputs": [
        {
          "data": {
            "application/vnd.jupyter.widget-view+json": {
              "model_id": "a5e438f908b2473393f0a7a9c9cd797e",
              "version_major": 2,
              "version_minor": 0
            },
            "text/plain": [
              "HBox(children=(Button(description='H⊗ⁿ', style=ButtonStyle()), Button(description='Oracle', style=ButtonStyle(…"
            ]
          },
          "metadata": {
          },
          "output_type": "display_data"
        },
        {
          "data": {
            "application/vnd.jupyter.widget-view+json": {
              "model_id": "673df635752040c397052b311517126d",
              "version_major": 2,
              "version_minor": 0
            },
            "text/plain": [
              "HTMLMath(value='$$ |0000\\\\rangle = |0000\\\\rangle $$')"
            ]
          },
          "metadata": {
          },
          "output_type": "display_data"
        },
        {
          "data": {
            "application/vnd.jupyter.widget-view+json": {
              "model_id": "bf8f9d92ec4247adab4861ac52922e23",
              "version_major": 2,
              "version_minor": 0
            },
            "text/plain": [
              "Image(value=b'\\x89PNG\\r\\n\\x1a\\n\\x00\\x00\\x00\\rIHDR\\x00\\x00\\x01*\\x00\\x00\\x01E\\x08\\x06\\x00\\x00\\x00[\\x98\\xa0\\xa0\\x…"
            ]
          },
          "metadata": {
          },
          "output_type": "display_data"
        }
      ],
      "source": [
        "from qiskit_textbook.widgets import dj_widget\n",
        "dj_widget(size=\"large\", case=\"balanced\", hide_oracle=True)"
      ]
    },
    {
      "cell_type": "code",
      "execution_count": null,
      "metadata": {
      },
      "outputs": [

      ],
      "source": [

      ]
    }
  ],
  "metadata": {
    "kernelspec": {
      "display_name": "Python 3",
      "language": "python",
      "name": "python3"
    },
    "language_info": {
      "codemirror_mode": {
        "name": "ipython",
        "version": 3
      },
      "file_extension": ".py",
      "mimetype": "text/x-python",
      "name": "python",
      "nbconvert_exporter": "python",
      "pygments_lexer": "ipython3",
      "version": "3.9"
    }
  },
  "nbformat": 4,
  "nbformat_minor": 4
}
