{
 "cells": [
  {
   "cell_type": "markdown",
   "metadata": {},
   "source": [
    "# 位相キックバック\n",
    "\n",
    "このページでは、制御量子ゲートの振る舞いとして知られている「位相キックバック」を取り上げます。この興味深い量子効果は、Shorの因数分解アルゴリズムやGroverの探索アルゴリズムなど、多くの有名な量子アルゴリズムの構成要素となっています。"
   ]
  },
  {
   "cell_type": "markdown",
   "metadata": {
    "formulas": {
     "_control-qubit-post": {
      "meaning": "This is the state of the control qubit after the controlled gate."
     },
     "_control-qubit-pre": {
      "meaning": "This is the control qubit. This qubit is in a superposition of |0〉 and |1〉."
     },
     "_eig-val-A": {
      "meaning": "This is a complex number, which we call the <i>eigenvalue</i>."
     },
     "_eig-val-U": {
      "meaning": "This is a complex number with magnitude 1.<br><a href='https://en.wikipedia.org/wiki/Euler%27s_formula'>Read more</a>."
     },
     "_eig-vec-A": {
      "meaning": "This is a vector. In this case, this vector is an <i>eigenvector</i> of the matrix 'A'."
     },
     "_eig-vec-U": {
      "meaning": "This is a state vector, and in this case, an eigen<i>state</i> of the matrix 'U', with eigenvalue exp(2πiθ)."
     },
     "_eig-vec-X": {
      "meaning": "This is a state vector, and in this case, an eigen<i>state</i> of the X-gate, with eigenvalue -1."
     },
     "_matrix-A": {
      "meaning": "This letter represents a matrix."
     },
     "_matrix-CU": {
      "meaning": "This is the operation U, controlled by another qubit."
     },
     "_matrix-CX": {
      "meaning": "This the controlled-X (CNOT) gate."
     },
     "_matrix-U": {
      "meaning": "This letter represents a unitary matrix (e.g. a quantum gate)."
     }
    }
   },
   "source": [
    "## 固有ベクトル\n",
    "\n",
    "固有ベクトルと固有値についてはすでによくご存知のはずですが、そうでない場合は[ここに](https://www.khanacademy.org/math/linear-algebra/alternate-bases/eigen-everything/v/linear-algebra-introduction-to-eigenvalues-and-eigenvectors)書かれた入門書を読むとよいでしょう。もしあなたが精通して*いる*なら、固有ベクトル方程式を理解することができるはずです。\n",
    "\n",
    "$$ \\class{_matrix-A}{A}\\class{_eig-vec-A}{|x\\rangle} = \\class{_eig-val-A}{\\lambda}\\class{_eig-vec-A}{|x\\rangle} $$\n",
    "\n",
    "量子コンピューターではもっと簡単です。すべての状態ベクトルの大きさが1なので、固有値も1である必要があります。つまり、 $\\lambda = e^{2\\pi i \\theta}$ となります。故に、量子ゲート $U$ とその固有状態 $|x\\rangle$ について、以下のようになります。\n",
    "\n",
    "$$ \\class{_matrix-U}{U}\\class{_eig-vec-U}{|x\\rangle} = \\class{_eig-val-U}{e^{2\\pi i \\theta}}\\class{_eig-vec-U}{|x\\rangle} $$\n",
    "\n",
    "要約: あるゲートが状態ベクトルの全ての振幅を同じだけ回転させる（そして回転させるのみの）場合、その量子状態はそのゲートの*固有状態*です。\n",
    "\n",
    "<!-- ::: q-block -->\n",
    "\n",
    "### 固有ベクトルを見つけてみよう\n",
    "\n",
    "下のウィジェットを使って、単一量子ビットのゲートが単一量子ビットの状態をどのように変換するかを見てみましょう。どの状態がどのゲートの固有状態であるかわかりますか？\n",
    "\n",
    "    q-eigenvector-widget\n",
    "\n",
    "<!-- ::: -->"
   ]
  },
  {
   "cell_type": "markdown",
   "metadata": {},
   "source": [
    "## 制御ゲートと固有状態\n",
    "\n",
    "固有状態の概念に慣れたら、これらの回路を別の量子ビットの状態で制御するとどうなるかを考え始めることができます。例えば、Zゲートが作用している状態 $|1\\rangle$ は負のグローバル位相 ($\\theta = 0.5$) を与えることが分かっていますが、この操作を制御するとどうなるかを考えてみましょう。\n",
    "\n",
    "<!-- ::: q-block.tabs -->\n",
    "\n",
    "### 制御Zゲート\n",
    "\n",
    "<!-- ::: tab -->\n",
    "\n",
    "### |10〉\n",
    "\n",
    "<!-- ::: column(width=200) -->\n",
    "\n",
    "もし制御量子ビットが $|0\\rangle$ であれば、動きは単純で何も起こりません。\n",
    "\n",
    "<!-- ::: column(width=400) -->\n",
    "\n",
    "![状態01の2量子ビットレジスタをCZゲートで動作させた場合の回路図。状態は変化しません。](images/kickback/tabs/0/0.svg)\n",
    "\n",
    "<!-- ::: -->\n",
    "\n",
    "<!-- ::: tab -->\n",
    "\n",
    "### |11〉\n",
    "\n",
    "<!-- ::: column(width=200) -->\n",
    "\n",
    "制御量子ビットが $|1\\rangle$ の場合、ゲートはグローバルな位相を与えますが（右図のマイナス記号に注意）、量子ビットの状態は変化しません。\n",
    "\n",
    "<!-- ::: column(width=400) -->\n",
    "\n",
    "![状態11の2量子ビットレジスタをCZゲートで動作させた場合の回路図。グローバル位相を与えますが、状態は変化しません。](images/kickback/tabs/0/1.svg)\n",
    "\n",
    "<!-- ::: -->\n",
    "\n",
    "<!-- ::: tab -->\n",
    "\n",
    "### |1+〉\n",
    "\n",
    "<!-- ::: column(width=200) -->\n",
    "\n",
    "制御Zゲートは制御量子ビットが $|0\\rangle$ の時何もせず、 $|1\\rangle$ の時に負の位相を与えます。制御量子ビットが重ね合わせ状態にあるとき、そのゲートは制御量子ビットの $|0\\rangle$ と $|1\\rangle$ の*相対*位相を変化させます。\n",
    "\n",
    "<!-- ::: column(width=400) -->\n",
    "\n",
    "![状態+1の2量子ビットレジスタをCZゲートで動作させた場合の回路図。相対位相を変化させます。](images/kickback/tabs/0/2.svg)\n",
    "\n",
    "<!-- ::: -->\n",
    "\n",
    "<!-- ::: -->\n",
    "\n",
    "<!-- ::: -->\n",
    "\n",
    "制御量子ビットが $|{+}\\rangle$ で標的量子ビットが $|1\\rangle$ の時、制御Zゲートは*制御*量子ビットの状態は変化させますが、標的量子ビットは変化させません。この効果は「位相キックバック」と呼ばれ、固有値が制御量子ビットの状態に戻ってくるからです。"
   ]
  },
  {
   "cell_type": "markdown",
   "metadata": {},
   "source": [
    "より一般的には、量子ゲート $U$ があり、その固有状態が $|x\\rangle$ であれば、 $U$ が $|x\\rangle$ に作用すると、上で見たようにグローバル位相 $\\theta$ が与えられる。\n",
    "\n",
    "$$ \\class{_matrix-U}{U}\\class{_eig-vec-U}{|x\\rangle} = \\class{_eig-val-U}{e^{2\\pi i \\theta}}\\class{_eig-vec-U}{|x\\rangle} $$\n",
    "\n",
    "$U|x\\rangle$ の操作を $|0\\rangle$ と $|1\\rangle$ の重ね合わせの別の量子ビットで制御すると、制御量子ビットをZ軸周りに角度 $\\theta$ だけ回転させる効果がある。すなわち\n",
    "\n",
    "$$ \\class{_matrix-CU}{CU}\\class{_eig-vec-U}{|x\\rangle}\\class{_control-qubit-pre}{(\\alpha|0\\rangle + \\beta|1\\rangle)} = \\class{_eig-vec-U}{|x\\rangle}\\class{_control-qubit-post}{(\\alpha|0\\rangle + \\beta e^{2\\pi i \\theta}|1\\rangle)} $$"
   ]
  },
  {
   "cell_type": "markdown",
   "metadata": {},
   "source": [
    "上の例では、制御Zゲートの「制御量子ビット」が実際にZ回転していることがわかります。つまり、その量子ビットを見るだけであったはずが、実際には変化してしまっているのです。このため、制御Zゲートは2つの制御として描かれることがよくあります。"
   ]
  },
  {
   "cell_type": "code",
   "execution_count": 1,
   "metadata": {},
   "outputs": [
    {
     "data": {
      "image/svg+xml": [
       "<?xml version=\"1.0\" encoding=\"UTF-8\"?><!DOCTYPE svg  PUBLIC '-//W3C//DTD SVG 1.1//EN'  'http://www.w3.org/Graphics/SVG/1.1/DTD/svg11.dtd'><svg width=\"125.12pt\" height=\"123.48pt\" version=\"1.1\" viewBox=\"0 0 125.12 123.48\" xmlns=\"http://www.w3.org/2000/svg\" xmlns:xlink=\"http://www.w3.org/1999/xlink\"><defs><style type=\"text/css\">*{stroke-linejoin: round; stroke-linecap: butt}</style></defs><path d=\"m0 123.48h125.12v-123.48h-125.12z\" fill=\"#ffffff\"/><path d=\"m63.381 43.561h49.996\" clip-path=\"url(#pb03c8b0eb8)\" fill=\"none\" stroke=\"#000000\" stroke-linecap=\"square\" stroke-width=\"2\"/><path d=\"m63.381 89.012h49.996\" clip-path=\"url(#pb03c8b0eb8)\" fill=\"none\" stroke=\"#000000\" stroke-linecap=\"square\" stroke-width=\"2\"/><path d=\"m87.925 89.012v-45.451\" clip-path=\"url(#pb03c8b0eb8)\" fill=\"none\" stroke=\"#1192e8\" stroke-linecap=\"square\" stroke-width=\"2\"/><path d=\"m87.925 89.012v-45.451\" clip-path=\"url(#pb03c8b0eb8)\" fill=\"none\" stroke=\"#1192e8\" stroke-linecap=\"square\" stroke-width=\"2\"/><path d=\"m87.925 47.992c1.1752 0 2.3025-0.46693 3.1335-1.2979 0.83102-0.83102 1.2979-1.9583 1.2979-3.1335 0-1.1752-0.46693-2.3025-1.2979-3.1335-0.83102-0.83102-1.9583-1.2979-3.1335-1.2979s-2.3025 0.46693-3.1335 1.2979c-0.83102 0.83102-1.2979 1.9583-1.2979 3.1335 0 1.1752 0.46693 2.3025 1.2979 3.1335 0.83102 0.83102 1.9583 1.2979 3.1335 1.2979z\" clip-path=\"url(#pb03c8b0eb8)\" fill=\"#1192e8\" stroke=\"#1192e8\" stroke-width=\"1.5\"/><path d=\"m87.925 93.443c1.1752 0 2.3025-0.46693 3.1335-1.2979 0.83102-0.83102 1.2979-1.9583 1.2979-3.1335s-0.46693-2.3025-1.2979-3.1335c-0.83102-0.83102-1.9583-1.2979-3.1335-1.2979s-2.3025 0.46693-3.1335 1.2979c-0.83102 0.83102-1.2979 1.9583-1.2979 3.1335s0.46693 2.3025 1.2979 3.1335c0.83102 0.83102 1.9583 1.2979 3.1335 1.2979z\" clip-path=\"url(#pb03c8b0eb8)\" fill=\"#1192e8\" stroke=\"#1192e8\" stroke-width=\"1.5\"/><g clip-path=\"url(#pb03c8b0eb8)\"><g transform=\"translate(36.253 47.786) scale(.1625 -.1625)\"><defs><path id=\"DejaVuSans-Oblique-71\" transform=\"scale(.015625)\" d=\"m2669 525q-231-303-546-460-314-156-695-156-531 0-833 358-301 358-301 986 0 506 186 978t533 847q225 244 517 375t614 131q387 0 637-153t363-462l100 525h578l-934-4813h-579l360 1844zm-1778 813q0-463 193-705 194-242 560-242 544 0 928 520t384 1264q0 450-199 689-198 239-569 239-272 0-504-127-231-126-403-370-181-256-286-600-104-343-104-668z\"/><path id=\"DejaVuSans-30\" transform=\"scale(.015625)\" d=\"m2034 4250q-487 0-733-480-245-479-245-1442 0-959 245-1439 246-480 733-480 491 0 736 480 246 480 246 1439 0 963-246 1442-245 480-736 480zm0 500q785 0 1199-621 414-620 414-1801 0-1178-414-1799-414-620-1199-620-784 0-1198 620-414 621-414 1799 0 1181 414 1801 414 621 1198 621z\"/></defs><use xlink:href=\"#DejaVuSans-Oblique-71\"/><use transform=\"translate(63.477 -16.406) scale(.7)\" xlink:href=\"#DejaVuSans-30\"/></g></g><g clip-path=\"url(#pb03c8b0eb8)\"><g transform=\"translate(36.253 93.237) scale(.1625 -.1625)\"><defs><path id=\"DejaVuSans-31\" transform=\"scale(.015625)\" d=\"m794 531h1031v3560l-1122-225v575l1116 225h631v-4135h1031v-531h-2687v531z\"/></defs><use xlink:href=\"#DejaVuSans-Oblique-71\"/><use transform=\"translate(63.477 -16.406) scale(.7)\" xlink:href=\"#DejaVuSans-31\"/></g></g><defs><clipPath id=\"pb03c8b0eb8\"><rect x=\"7.2\" y=\"7.2\" width=\"110.72\" height=\"109.08\"/></clipPath></defs></svg>"
      ],
      "text/plain": [
       "<Figure size 146.652x144.48 with 1 Axes>"
      ]
     },
     "execution_count": 1,
     "metadata": {},
     "output_type": "execute_result"
    }
   ],
   "source": [
    "from qiskit import QuantumCircuit\n",
    "qc = QuantumCircuit(2)\n",
    "qc.cz(0,1)\n",
    "qc.draw()"
   ]
  },
  {
   "cell_type": "markdown",
   "metadata": {},
   "source": [
    "## CNOTゲート\n",
    "\n",
    "位相キックバックの効果を別の2量子ビットゲートで見てみましょう。$|{-}\\rangle$ 状態はXゲートの固有値 $-1$ であるため、次のようになります。\n",
    "\n",
    "$$ \\class{_matrix-CX}{CX}\\class{_eig-vec-X}{|{-}\\rangle}\\class{_control-qubit-pre}{(\\alpha|0\\rangle + \\beta|1\\rangle)} = \\class{_eig-vec-X}{|{-}\\rangle}\\class{_control-qubit-post}{(\\alpha|0\\rangle - \\beta |1\\rangle)} $$\n",
    "\n",
    "![](images/kickback/cnot-kickback.svg)\n",
    "\n",
    "この場合も位相変化 $\\theta = 0.5$ なので、制御量子ビットはZ軸の周りで反転します。\n",
    "\n",
    "<!-- ::: q-block -->\n",
    "\n",
    "### 例\n",
    "\n",
    "<details>\n",
    "    <summary>CNOTゲートによるキックバック (クリックで拡大)</summary> \n",
    "    \n",
    "    q-carousel\n",
    "            div.md\n",
    "                <img src=\"images/kickback/carousel/cnot/carousel-img-0.svg\"><br>定義によれば、制御Xゲート（CNOT）は、制御量子ビットが $|1\\rangle$ であれば、ターゲット量子ビット（この例では、右端のビットがターゲット）の状態を反転させる。上の図では、CNOTゲートがある状態ベクトルを別の状態に変換している様子を示しています。\n",
    "            div.md\n",
    "                <img src=\"images/kickback/carousel/cnot/carousel-img-1.svg\"><br>例えば、制御量子ビットが状態 $|0\\rangle$ であれば、常に全く同じ状態ベクトルが戻ってきます。上の画像では、制御が $|1\\rangle$ である状態の振幅は両方とも0なので、それらを入れ替えても何の効果も見られません。\n",
    "            div.md\n",
    "                <img src=\"images/kickback/carousel/cnot/carousel-img-2.svg\"><br>もう一つの例。もし制御量子ビットが $|1\\rangle$ の状態であれば、ターゲット量子ビットに対してXゲートを行います。この場合、ターゲット量子ビットはXゲートの固有状態にあるので、グローバル位相まで同じ状態ベクトルを取り戻します。この変化は、ターゲット量子ビットの $|0\\rangle$ と $|1\\rangle$ の振幅間の相対位相が同じままだったので、グローバル位相です。\n",
    "            div.md\n",
    "                <img src=\"images/kickback/carousel/cnot/carousel-img-3.svg\"><br>制御が $|{+}\\rangle$ の状態（すなわち $\\tfrac{1}{\\sqrt{2}}(|0\\rangle + |1\\rangle)$ ）、目標が $|{-}\\rangle$ の状態（すなわち $\\tfrac{1}{\\sqrt{2}}(|0\\rangle - |1\\rangle)$ ）のときの状態ベクトルを見てみましょう。これらの2つの量子ビットは分離可能であり、一方を測定しても他方の状態には影響しないことがわかります。\n",
    "            div.md\n",
    "                <img src=\"images/kickback/carousel/cnot/carousel-img-4.svg\"><br> 例えば、制御量子ビットを $|0\\rangle$ と測ろうが $|1\\rangle$ と測ろうが、対象を $|0\\rangle$ と測った場合と $|1\\rangle$ と測った場合の振幅は同じになります。\n",
    "            div.md\n",
    "                <img src=\"images/kickback/carousel/cnot/carousel-img-5.svg\"><br>これらを踏まえて、この $|{+}{-}\\rangle$ の状態にCNOTを適用するとどうなるかを見てみましょう。\n",
    "            div.md\n",
    "                <img src=\"images/kickback/carousel/cnot/carousel-img-6.svg\"><br>CNOTの後、これらの量子ビットはまだ分離可能であり、一方の状態は他方を測定しても変化していません。しかし、制御量子ビットの $|0\\rangle$ と $|1\\rangle$ の振幅の間の相対的な位相は変化しているのです!\n",
    "\n",
    "</details>\n",
    "\n",
    "<!-- ::: -->\n",
    "\n",
    "H-gateは変換 $|0\\rangle \\rightarrow |{+}\\rangle$ と $|1\\rangle \\rightarrow |{-}\\rangle$ をする（逆も同様）と覚えると、次のような恒等式が得られます：\n",
    "\n",
    "![](images/kickback/cnot-identity.svg)"
   ]
  },
  {
   "cell_type": "markdown",
   "metadata": {},
   "source": [
    "## ドイチの問題\n",
    "\n",
    "先ほど、ある量子ビットの状態に条件付けをすると、制御している量子ビットの状態を実際に変化させることができることを見てきました。これは「量子」効果であり、古典ビットでは起こらない現象です。\n",
    "\n",
    "量子コンピューターでは、古典的なコンピューターが実行*できない*ようなアルゴリズムを作りたいので、この効果を解決すべき問題として捉え直すことが良い出発点となります。そうすることで、少なくとも量子コンピューターが古典的なコンピューターよりもわずかに優れていることを証明することができるのです。\n",
    "\n",
    "ドイチの問題は、まさにこれを実現したものです。ドイチの問題は「ブラックボックス」問題です。人工的な問題で、ある関数をビットに適用することは許されていますが、その関数がどのように機能するかを見ることは許されていません。この問題では、異なる入力と出力を試すことによって、ブラックボックスの特性を発見します。\n",
    "\n",
    "ドイチの問題は次のようなものです。$ a $ と $ b $ の２つのビットに作用する古典的な可逆関数(以下では $f$ と略記)が与えられます。この関数はビット $ a $ をそのままにしておきますが、ビット $ b $ はそのまま、もしくは反転させる場合があります。 ドイチの問題は $f$ が $ a $ の値によって異なる振る舞いをするのか(これを「分布型」の振る舞いと呼ぶ)、もしくは $ a $ に関係なく $ b $ に対して同じ作用をするのか(「定値型」の振る舞い)を判別する問題です。この問題は $f$ の適応回数をできるだけ少なくしながら判別を行うことです。\n",
    "\n",
    "![量子回路としてのdeutschの問題のイメージ。回路には2つのビットがあり、それぞれ「a」と「b」のラベルが付いた上部と下部のワイヤがあります。次に、両方のビットは、「f」というラベルの付いた不透明な2ビットゲートによって処理されます。 「f」の後、上のワイヤには「f」というラベルが付けられていますが、下のワイヤには「f(a,b)」というラベルが付けられています。](images/kickback/deutsch-problem.svg)\n",
    "\n",
    "この問題に対する最も優れた古典的アルゴリズムは、 $ a $ の値を変えて $f$ を2回適用し、 $f$ の振る舞いが異なるかどうかを調べるものである。"
   ]
  },
  {
   "cell_type": "markdown",
   "metadata": {},
   "source": [
    "## ドイチのアルゴリズム\n",
    "\n",
    "お気づきかもしれませんが、古典アルゴリズムよりもさらに優れた量子アルゴリズムを作るために、位相キックバックを利用することができます。量子ビット $ a $ を $|{+}\\rangle$ 状態に、そして量子ビット $ b $ を $|{-}\\rangle$ 状態とすると、 $ a $ を条件とした反転は負の相対位相をキックバックし、量子ビット $ a $ を $|{+}\\rangle$ から $|{-}\\rangle$ に反転させます。そして $ a $ にHゲートを作用させることで、位相キックバックが起こったかどうかを確認することができます。\n",
    "\n",
    "![Image of deutsch's algorithm as a quantum circuit.](images/kickback/deutsch-algorithm.svg)\n",
    "\n",
    "<!-- ::: q-block.reminder -->\n",
    "\n",
    "### より詳しい情報\n",
    "\n",
    "<details> \n",
    "    <summary>ブラックボックス内（クリックして展開）</summary>\n",
    "それでも魔法のように思える場合は、考えられるすべてのドイチ関数とそれらを実装する量子回路について考えると役立ちます。可能なドイチ関数は4つあります。2つは定数、2つは平衡です。\n",
    "\n",
    "定値型ならその関数は何もしないか、量子ビット $ b $ を反転させます。分布型なら  $ a $ が $|1\\rangle$ の時のみ $ b $ を反転させるか、 $ a $ が $|0\\rangle$ の時のみ $ b $ を反転させます。 下の画像で4つのシナリオを見ることができます。\n",
    "\n",
    "<img src=\"images/kickback/deutsch-oracles.svg\">\n",
    "\n",
    "定値型関数では、両方とも一番上の量子ビットは変化せず（一番上の量子ビットに対して何もしていないため）、分布型関数では、キックバックの効果で一番上の量子ビットが $|{+}\\rangle$ から $|{-}\\rangle$ に反転します。\n",
    "</details>\n",
    "\n",
    "<!-- ::: -->\n",
    "\n",
    "この問題は非常に特殊な設定であり、ブラックボックス問題は通常は見かけないため、量子力学のスピードアップの例としてはあまり印象的ではありません。その代わり、ドイチの問題では我々にとって励みになる結果を得ることができ、また、いくつかの興味深い効果を調べることができます。このコースの残りの部分では、この単純な実験を拡張して、因数分解を含むより印象的な問題を解いていきます。"
   ]
  },
  {
   "cell_type": "markdown",
   "metadata": {},
   "source": [
    "<!-- ::: q-block.exercise -->\n",
    "\n",
    "### 練習問題\n",
    "\n",
    "ドイチ関数を `QuantumCircuit` で受け取る `deutsch()` という関数を作り、量子シミュレーター上でドイチのアルゴリズムを使って問題を解きましょう。作成する関数は、ドイチ関数が分布型であれば `True` を、定値型であれば `False` を返さなければなりません。\n",
    "\n",
    "`deutsch_problem()` 関数を使って `QuantumCircuit` を作成し、 `deutsch()` 関数の入力として使うことができます。\n",
    "\n",
    "<!-- ::: -->"
   ]
  },
  {
   "cell_type": "code",
   "execution_count": null,
   "metadata": {},
   "outputs": [],
   "source": [
    "from qiskit import QuantumCircuit\n",
    "import numpy as np\n",
    "\n",
    "def deutsch_problem(seed=None):\n",
    "    \"\"\"ドイチの問題から関数を実行する回路を返します。\n",
    "    Args:\n",
    "        seed (int): 同じseedに対して常に同じ回路が返されます。\n",
    "    Returns: QuantumCircuit\n",
    "    \"\"\"\n",
    "    np.random.seed(seed)\n",
    "    problem = QuantumCircuit(2)\n",
    "    if np.random.randint(2):\n",
    "        print(\"Function is balanced.\")\n",
    "        problem.cx(0, 1)\n",
    "    else:\n",
    "        print(\"Function is constant.\")\n",
    "    if np.random.randint(2):\n",
    "        problem.x(1)\n",
    "    return problem"
   ]
  },
  {
   "cell_type": "code",
   "execution_count": null,
   "metadata": {},
   "outputs": [],
   "source": [
    "def deutsch(function):\n",
    "    \"\"\"ドイチのアルゴリズムを実装してみよう。\n",
    "\n",
    "    Args:\n",
    "        function (QuantumCircuit): ドイチの関数\n",
    "            分布型か定値型の2量子ビット回路でなければならない。\n",
    "    Returns:\n",
    "        bool: 回路が分布型の場合はTrue、そうでない場合はFalse\n",
    "    \"\"\"\n",
    "\n",
    "    # コードはここへ記入"
   ]
  },
  {
   "cell_type": "markdown",
   "metadata": {},
   "source": [
    "## まとめ\n",
    "\n",
    "このページでは、以下を学びました。\n",
    "\n",
    "- 固有値と固有ベクトルの概念を再考しました。\n",
    "- 位相キックバックの効果を調べ、いくつかの例を取り上げました。\n",
    "- 量子コンピューターが古典コンピューターよりも優位であるシナリオとしてドイチの問題を紹介しました。\n",
    "\n",
    "このページから他のすべての内容を忘れたとしても、覚えておくべき最も重要なことは、以下の位相キックバックの要約です。\n",
    "\n",
    "<!-- ::: q-block.reminder -->\n",
    "\n",
    "### リマインダー：位相キックバック\n",
    "\n",
    "量子ゲート $U$ があり、その固有状態が $|x\\rangle$ であれば、 $U$ が $|x\\rangle$ に作用すると、グローバル位相 $\\theta$ が与えられる。\n",
    "\n",
    "$$ \\class{_matrix-U}{U}\\class{_eig-vec-U}{|x\\rangle} = \\class{_eig-val-U}{e^{2\\pi i \\theta}}\\class{_eig-vec-U}{|x\\rangle} $$\n",
    "\n",
    "$U|x\\rangle$ の操作を $|0\\rangle$ と $|1\\rangle$ の重ね合わせの別の量子ビットで制御すると、制御量子ビットをZ軸周りに角度 $\\theta$ だけ回転させる効果がある。すなわち\n",
    "\n",
    "$$ \\class{_matrix-CU}{CU}\\class{_eig-vec-U}{|x\\rangle}\\class{_control-qubit-pre}{(\\alpha|0\\rangle + \\beta|1\\rangle)} = \\class{_eig-vec-U}{|x\\rangle}\\class{_control-qubit-post}{(\\alpha|0\\rangle + \\beta e^{2\\pi i \\theta}|1\\rangle)} $$\n",
    "\n",
    "<!-- ::: -->"
   ]
  }
 ],
 "metadata": {
  "kernelspec": {
   "display_name": "Python 3",
   "language": "python",
   "name": "python3"
  },
  "language_info": {
   "codemirror_mode": {
    "name": "ipython",
    "version": 3
   },
   "file_extension": ".py",
   "mimetype": "text/x-python",
   "name": "python",
   "nbconvert_exporter": "python",
   "pygments_lexer": "ipython3",
   "version": "3.9"
  }
 },
 "nbformat": 4,
 "nbformat_minor": 4
}
