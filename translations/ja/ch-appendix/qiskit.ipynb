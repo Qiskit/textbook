{
 "cells": [
  {
   "cell_type": "markdown",
   "metadata": {},
   "source": [
    "# Qiskitの文法の基礎"
   ]
  },
  {
   "cell_type": "markdown",
   "metadata": {},
   "source": [
    "### インストール\n",
    "\n",
    "Qiskitは、あなたが量子コンピューティングで必要とするすべてを実行してくれるPythonのパッケージです。\n",
    "\n",
    "もしまだお持ちでないのなら、インストールする必要があります。インストールしてあるのなら、インポートする必要があります。\n",
    "\n",
    "一般的に、Qiskitをインストールするには2つのステップが必要です。最初のステップは、Anacondaのインストールです。Anacondaは、あなたが必要とするほぼすべての依存関係を搭載したのPythonパッケージです。Anacondaをインストールすれば、ターミナルで以下のコマンドを実行することでQiskitをインストールできます。\n",
    "```\n",
    "pip install qiskit\n",
    "```\n",
    "インストール方法の詳細については、 [この文書](https://qiskit.org/documentation/install.html) を参照してください。\n",
    "\n",
    "**注：この後のセクションは、既に量子コンピューティングの基礎を知っている人向けです。** 後続の章に直ぐに移動してそのコンセプトを利用したい読者が利用できるものです。その他の読者は、まず[Introduction to Python and Jupyter notebooks](../ch-prerequisites/python-and-jupyter-notebooks.html) を読み、次に [Chapter 1](../ch-states/introduction.html) の最初に直接移動すべきです。"
   ]
  },
  {
   "cell_type": "markdown",
   "metadata": {},
   "source": [
    "### 量子回路"
   ]
  },
  {
   "cell_type": "code",
   "execution_count": 1,
   "metadata": {},
   "outputs": [],
   "source": [
    "from qiskit import *"
   ]
  },
  {
   "cell_type": "code",
   "execution_count": 2,
   "metadata": {},
   "outputs": [],
   "source": [
    "# For Jupyter Notebooks:\n",
    "%config InlineBackend.figure_format = 'svg' # Makes the images look nice"
   ]
  },
  {
   "cell_type": "markdown",
   "metadata": {},
   "source": [
    "Qiskitの心臓部といえるオブジェクトは量子回路です。作り方は以下の通りです。ここでは `qc` としましょう。"
   ]
  },
  {
   "cell_type": "code",
   "execution_count": 3,
   "metadata": {},
   "outputs": [],
   "source": [
    "qc = QuantumCircuit()"
   ]
  },
  {
   "cell_type": "markdown",
   "metadata": {},
   "source": [
    "この回路は、量子ビットも出力もなく、現時点で完全に空です。"
   ]
  },
  {
   "cell_type": "markdown",
   "metadata": {},
   "source": [
    "### 量子レジスター"
   ]
  },
  {
   "cell_type": "markdown",
   "metadata": {},
   "source": [
    "回路を意味あるものにするためには、量子ビットのレジスタを定義する必要があります。これには、`QuantumRegister` オブジェクトを使用します。 例えば、2つの量子ビットで構成されるレジスターを定義し、それを `qr` としましょう。"
   ]
  },
  {
   "cell_type": "code",
   "execution_count": 4,
   "metadata": {},
   "outputs": [],
   "source": [
    "qr = QuantumRegister(2,'qreg')"
   ]
  },
  {
   "cell_type": "markdown",
   "metadata": {},
   "source": [
    "オプションで、 レジスタに`'qreg'` といった名前をつけることもできます。\n",
    "\n",
    "`add_register` メソッドを使うことで、レジスタを回路に追加できます。また、回路オブジェクトの `qregs` 変数をチェックすることで、追加されたことを確認できます。このガイドは [Jupyter notebook](https://jupyter.org/) を使用しています。Jupyter notebookでは、セルの最終行の出力がセルの下に表示されます："
   ]
  },
  {
   "cell_type": "code",
   "execution_count": 5,
   "metadata": {},
   "outputs": [
    {
     "data": {
      "text/plain": [
       "[QuantumRegister(2, 'qreg')]"
      ]
     },
     "execution_count": 5,
     "metadata": {},
     "output_type": "execute_result"
    }
   ],
   "source": [
    "qc.add_register( qr )\n",
    "\n",
    "qc.qregs"
   ]
  },
  {
   "cell_type": "markdown",
   "metadata": {},
   "source": [
    "回路はいくつかの量子ビットを持っていますので、別の属性 `draw()`、を使って、回路がどの様に見えるか確認しましょう。"
   ]
  },
  {
   "cell_type": "code",
   "execution_count": 6,
   "metadata": {},
   "outputs": [
    {
     "data": {
      "image/svg+xml": [
       "<?xml version=\"1.0\" encoding=\"UTF-8\"?><!DOCTYPE svg  PUBLIC '-//W3C//DTD SVG 1.1//EN'  'http://www.w3.org/Graphics/SVG/1.1/DTD/svg11.dtd'><svg width=\"173.48pt\" height=\"123.48pt\" version=\"1.1\" viewBox=\"0 0 173.48 123.48\" xmlns=\"http://www.w3.org/2000/svg\" xmlns:xlink=\"http://www.w3.org/1999/xlink\"><defs><style type=\"text/css\">*{stroke-linecap:butt;stroke-linejoin:round;}</style></defs><path d=\"m0 123.48h173.48v-123.48h-173.48z\" fill=\"#ffffff\"/><path d=\"m139.01 43.561h22.726\" clip-path=\"url(#p1d311e870f)\" fill=\"none\" stroke=\"#000000\" stroke-linecap=\"square\" stroke-width=\"2\"/><path d=\"m139.01 89.012h22.726\" clip-path=\"url(#p1d311e870f)\" fill=\"none\" stroke=\"#000000\" stroke-linecap=\"square\" stroke-width=\"2\"/><g clip-path=\"url(#p1d311e870f)\"><defs><path id=\"DejaVuSans-Oblique-113\" d=\"m41.703 8.2031q-3.6094-4.7344-8.5312-7.1875-4.9062-2.4375-10.859-2.4375-8.2969 0-13.016 5.5938-4.7031 5.5938-4.7031 15.406 0 7.9062 2.9062 15.281t8.3281 13.234q3.5156 3.8125 8.0781 5.8594t9.5938 2.0469q6.0469 0 9.9531-2.3906t5.6719-7.2188l1.5625 8.2031h9.0312l-14.594-75.203h-9.0469zm-27.781 12.703q0-7.2344 3.0156-11.016 3.0312-3.7812 8.75-3.7812 8.5 0 14.5 8.125t6 19.75q0 7.0312-3.1094 10.766-3.0938 3.7344-8.8906 3.7344-4.25 0-7.875-1.9844-3.6094-1.9688-6.2969-5.7812-2.8281-4-4.4688-9.375-1.625-5.3594-1.625-10.438z\"/><path id=\"DejaVuSans-Oblique-114\" d=\"m44.578 46.391q-1.3594 0.73438-3.125 1.125-1.75 0.39062-3.75 0.39062-7.1875 0-12.562-5.4531-5.3594-5.4375-7.125-14.578l-5.5156-27.875h-8.9844l10.688 54.688h8.9844l-1.7031-8.5q3.5625 4.7344 8.5156 7.2656 4.9688 2.5469 10.578 2.5469 1.4688 0 2.875-0.17188 1.4219-0.15625 2.8438-0.54688z\"/><path id=\"DejaVuSans-Oblique-101\" d=\"m48.094 32.234q0.15625 0.78125 0.21875 1.6094 0.078125 0.82812 0.078125 1.6562 0 5.9531-3.5 9.4219-3.4844 3.4688-9.4844 3.4688-6.6875 0-11.828-4.2344-5.125-4.2188-7.75-11.984zm7.8125-7.0312h-41.797q-0.29688-1.8594-0.39062-2.9375t-0.09375-1.8594q0-6.7812 4.1719-10.5 4.1719-3.7031 11.797-3.7031 5.8594 0 11.078 1.3125 5.2344 1.3281 9.7188 3.8594l-1.7031-8.8906q-4.8438-1.9531-10-2.9219-5.1406-0.98438-10.469-0.98438-11.375 0-17.5 5.4375-6.125 5.4531-6.125 15.469 0 8.5469 3.0469 15.891t8.9688 13.109q3.7969 3.6094 9.0469 5.5625t11.156 1.9531q9.2812 0 14.766-5.5625 5.5-5.5625 5.5-14.938 0-2.25-0.29688-4.8125-0.28125-2.5625-0.875-5.4844z\"/><path id=\"DejaVuSans-Oblique-103\" d=\"m59.625 54.688-9.3281-47.906q-2.6875-13.906-10.281-20.734-7.5938-6.8438-20.438-6.8438-4.7344 0-8.7969 0.70312-4.0469 0.70312-7.5625 2.1719l1.6719 8.7344q3.3125-2.1406 7.0156-3.1562 3.7188-1.0312 7.9219-1.0312 8.5469 0 14.031 4.6719 5.5 4.6562 7.25 13.391l0.78125 4.1094q-3.75-4.2969-8.7344-6.5469t-10.75-2.25q-8.2969 0-13.062 5.4844-4.75 5.5-4.75 15.125 0 7.5625 2.875 14.812 2.8906 7.25 8.1094 12.875 3.4688 3.7031 8.0781 5.7031t9.6406 2q5.5156 0 9.6094-2.5625 4.1094-2.5625 6.125-7.25l1.5625 8.5zm-13.531-20.062q0 6.6406-3.125 10.25t-8.8906 3.6094q-3.5625 0-6.7812-1.4219-3.2188-1.4062-5.5156-3.9531-3.7188-4.1875-5.7969-9.875-2.0625-5.6875-2.0625-11.75 0-6.7344 3.1406-10.359 3.1562-3.6094 9.0625-3.6094 8.5469 0 14.25 7.7344 5.7188 7.75 5.7188 19.375z\"/><path id=\"DejaVuSans-48\" d=\"m31.781 66.406q-7.6094 0-11.453-7.5-3.8281-7.4844-3.8281-22.531 0-14.984 3.8281-22.484 3.8438-7.5 11.453-7.5 7.6719 0 11.5 7.5 3.8438 7.5 3.8438 22.484 0 15.047-3.8438 22.531-3.8281 7.5-11.5 7.5zm0 7.8125q12.266 0 18.734-9.7031 6.4688-9.6875 6.4688-28.141 0-18.406-6.4688-28.109-6.4688-9.6875-18.734-9.6875-12.25 0-18.719 9.6875-6.4688 9.7031-6.4688 28.109 0 18.453 6.4688 28.141 6.4688 9.7031 18.719 9.7031z\"/></defs><g transform=\"translate(71.27 48.012) scale(.1625 -.1625)\"><use xlink:href=\"#DejaVuSans-Oblique-113\"/><use transform=\"translate(63.477)\" xlink:href=\"#DejaVuSans-Oblique-114\"/><use transform=\"translate(104.59)\" xlink:href=\"#DejaVuSans-Oblique-101\"/><use transform=\"translate(166.11)\" xlink:href=\"#DejaVuSans-Oblique-103\"/><use transform=\"translate(229.59 -16.406) scale(.7)\" xlink:href=\"#DejaVuSans-48\"/></g></g><g clip-path=\"url(#p1d311e870f)\"><defs><path id=\"DejaVuSans-49\" d=\"m12.406 8.2969h16.109v55.625l-17.531-3.5156v8.9844l17.438 3.5156h9.8594v-64.609h16.109v-8.2969h-41.984z\"/></defs><g transform=\"translate(71.27 93.463) scale(.1625 -.1625)\"><use xlink:href=\"#DejaVuSans-Oblique-113\"/><use transform=\"translate(63.477)\" xlink:href=\"#DejaVuSans-Oblique-114\"/><use transform=\"translate(104.59)\" xlink:href=\"#DejaVuSans-Oblique-101\"/><use transform=\"translate(166.11)\" xlink:href=\"#DejaVuSans-Oblique-103\"/><use transform=\"translate(229.59 -16.406) scale(.7)\" xlink:href=\"#DejaVuSans-49\"/></g></g><defs><clipPath id=\"p1d311e870f\"><rect x=\"7.2\" y=\"7.2\" width=\"159.08\" height=\"109.08\"/></clipPath></defs></svg>"
      ],
      "text/plain": [
       "<Figure size 210.7x144.48 with 1 Axes>"
      ]
     },
     "execution_count": 6,
     "metadata": {},
     "output_type": "execute_result"
    }
   ],
   "source": [
    "qc.draw(output='mpl')"
   ]
  },
  {
   "cell_type": "markdown",
   "metadata": {},
   "source": [
    "量子ビットは彼らの旅を始める準備ができましたが、今は単純に状態 $\\left|0\\right\\rangle$ にいるだけです。"
   ]
  },
  {
   "cell_type": "markdown",
   "metadata": {},
   "source": [
    "#### ゲートの適用"
   ]
  },
  {
   "cell_type": "markdown",
   "metadata": {},
   "source": [
    "何かを起こさせるには、ゲートを追加する必要があります。例えば、 `h()` を試してみましょう。"
   ]
  },
  {
   "cell_type": "code",
   "execution_count": 6,
   "metadata": {},
   "outputs": [
    {
     "ename": "TypeError",
     "evalue": "h() missing 1 required positional argument: 'qubit'",
     "output_type": "error",
     "traceback": [
      "\u001b[0;31m---------------------------------------------------------------------------\u001b[0m",
      "\u001b[0;31mTypeError\u001b[0m                                 Traceback (most recent call last)",
      "\u001b[0;32m/var/folders/z_/6s4ntyps5lsb232v7f82201r0000gn/T/ipykernel_29075/1977323532.py\u001b[0m in \u001b[0;36m<module>\u001b[0;34m\u001b[0m\n\u001b[0;32m----> 1\u001b[0;31m \u001b[0mqc\u001b[0m\u001b[0;34m.\u001b[0m\u001b[0mh\u001b[0m\u001b[0;34m(\u001b[0m\u001b[0;34m)\u001b[0m\u001b[0;34m\u001b[0m\u001b[0;34m\u001b[0m\u001b[0m\n\u001b[0m",
      "\u001b[0;31mTypeError\u001b[0m: h() missing 1 required positional argument: 'qubit'"
     ]
    }
   ],
   "source": [
    "qc.h()"
   ]
  },
  {
   "cell_type": "markdown",
   "metadata": {},
   "source": [
    "この操作をどの量子ビットに作用させるか指定しなかったため、エラーが発生しました。レジスタ `qr` 内の2つの量子ビットは、`qr[0]` と `qr[1]` として別々にアクセスできます。"
   ]
  },
  {
   "cell_type": "code",
   "execution_count": 8,
   "metadata": {},
   "outputs": [
    {
     "data": {
      "text/plain": [
       "<qiskit.circuit.instructionset.InstructionSet at 0x7fc69b4b4bd0>"
      ]
     },
     "execution_count": 8,
     "metadata": {},
     "output_type": "execute_result"
    }
   ],
   "source": [
    "qc.h(qr[0])"
   ]
  },
  {
   "cell_type": "markdown",
   "metadata": {},
   "source": [
    "上記出力は無視してください。セルの最終行に `=` がない場合、Jupyter notebookはこの様な出力をします。上の場合、QiskitにてHadamard が定義されていることを伝えています。この出力を抑制したい場合は、 `;` を使用します。\n",
    "\n",
    "`cx` を使って、制御NOTを追加することもできます。これは2つの引数、制御量子ビットとターゲット量子ビットを必要とします。"
   ]
  },
  {
   "cell_type": "code",
   "execution_count": 9,
   "metadata": {},
   "outputs": [],
   "source": [
    "qc.cx(qr[0], qr[1]);"
   ]
  },
  {
   "cell_type": "markdown",
   "metadata": {},
   "source": [
    "回路を表示させましょう。"
   ]
  },
  {
   "cell_type": "code",
   "execution_count": 10,
   "metadata": {},
   "outputs": [
    {
     "data": {
      "image/svg+xml": [
       "<?xml version=\"1.0\" encoding=\"UTF-8\"?><!DOCTYPE svg  PUBLIC '-//W3C//DTD SVG 1.1//EN'  'http://www.w3.org/Graphics/SVG/1.1/DTD/svg11.dtd'><svg width=\"264.38pt\" height=\"123.48pt\" version=\"1.1\" viewBox=\"0 0 264.38 123.48\" xmlns=\"http://www.w3.org/2000/svg\" xmlns:xlink=\"http://www.w3.org/1999/xlink\"><defs><style type=\"text/css\">*{stroke-linecap:butt;stroke-linejoin:round;}</style></defs><path d=\"m0 123.48h264.38v-123.48h-264.38z\" fill=\"#ffffff\"/><path d=\"m139.01 43.561h113.63\" clip-path=\"url(#p32d613739c)\" fill=\"none\" stroke=\"#000000\" stroke-linecap=\"square\" stroke-width=\"2\"/><path d=\"m139.01 89.012h113.63\" clip-path=\"url(#p32d613739c)\" fill=\"none\" stroke=\"#000000\" stroke-linecap=\"square\" stroke-width=\"2\"/><path d=\"m207.18 89.012v-45.451\" clip-path=\"url(#p32d613739c)\" fill=\"none\" stroke=\"#6fa4ff\" stroke-linecap=\"square\" stroke-width=\"2\"/><path d=\"m146.96 58.332h29.543v-29.543h-29.543z\" clip-path=\"url(#p32d613739c)\" fill=\"#6fa4ff\"/><path d=\"m207.18 47.992c1.1752 0 2.3025-0.46693 3.1335-1.2979 0.83102-0.83102 1.2979-1.9583 1.2979-3.1335s-0.46693-2.3025-1.2979-3.1335c-0.83102-0.83102-1.9583-1.2979-3.1335-1.2979s-2.3025 0.46693-3.1335 1.2979c-0.83102 0.83102-1.2979 1.9583-1.2979 3.1335s0.46693 2.3025 1.2979 3.1335c0.83102 0.83102 1.9583 1.2979 3.1335 1.2979z\" clip-path=\"url(#p32d613739c)\" fill=\"#6fa4ff\" stroke=\"#6fa4ff\" stroke-width=\"1.5\"/><path d=\"m207.18 99.352c2.7422 0 5.3725-1.0895 7.3116-3.0285 1.939-1.939 3.0285-4.5693 3.0285-7.3116s-1.0895-5.3725-3.0285-7.3116c-1.939-1.939-4.5693-3.0285-7.3116-3.0285s-5.3725 1.0895-7.3116 3.0285c-1.939 1.939-3.0285 4.5693-3.0285 7.3116s1.0895 5.3725 3.0285 7.3116c1.939 1.939 4.5693 3.0285 7.3116 3.0285z\" clip-path=\"url(#p32d613739c)\" fill=\"#6fa4ff\" stroke=\"#6fa4ff\" stroke-width=\"2\"/><path d=\"m207.18 94.92v-11.817\" clip-path=\"url(#p32d613739c)\" fill=\"none\" stroke=\"#ffffff\" stroke-linecap=\"square\" stroke-width=\"2\"/><path d=\"m201.28 89.012h11.817\" clip-path=\"url(#p32d613739c)\" fill=\"none\" stroke=\"#ffffff\" stroke-linecap=\"square\" stroke-width=\"2\"/><g clip-path=\"url(#p32d613739c)\"><defs><path id=\"DejaVuSans-Oblique-72\" d=\"m16.891 72.906h9.9219l-5.8125-29.891h35.781l5.8125 29.891h9.9219l-14.219-72.906h-9.9062l6.7812 34.719h-35.781l-6.7969-34.719h-9.9062z\"/></defs><g transform=\"translate(156.79 47.148) scale(.13 -.13)\"><use transform=\"translate(0 .09375)\" xlink:href=\"#DejaVuSans-Oblique-72\"/></g></g><g clip-path=\"url(#p32d613739c)\"><defs><path id=\"DejaVuSans-Oblique-113\" d=\"m41.703 8.2031q-3.6094-4.7344-8.5312-7.1875-4.9062-2.4375-10.859-2.4375-8.2969 0-13.016 5.5938-4.7031 5.5938-4.7031 15.406 0 7.9062 2.9062 15.281t8.3281 13.234q3.5156 3.8125 8.0781 5.8594t9.5938 2.0469q6.0469 0 9.9531-2.3906t5.6719-7.2188l1.5625 8.2031h9.0312l-14.594-75.203h-9.0469zm-27.781 12.703q0-7.2344 3.0156-11.016 3.0312-3.7812 8.75-3.7812 8.5 0 14.5 8.125t6 19.75q0 7.0312-3.1094 10.766-3.0938 3.7344-8.8906 3.7344-4.25 0-7.875-1.9844-3.6094-1.9688-6.2969-5.7812-2.8281-4-4.4688-9.375-1.625-5.3594-1.625-10.438z\"/><path id=\"DejaVuSans-Oblique-114\" d=\"m44.578 46.391q-1.3594 0.73438-3.125 1.125-1.75 0.39062-3.75 0.39062-7.1875 0-12.562-5.4531-5.3594-5.4375-7.125-14.578l-5.5156-27.875h-8.9844l10.688 54.688h8.9844l-1.7031-8.5q3.5625 4.7344 8.5156 7.2656 4.9688 2.5469 10.578 2.5469 1.4688 0 2.875-0.17188 1.4219-0.15625 2.8438-0.54688z\"/><path id=\"DejaVuSans-Oblique-101\" d=\"m48.094 32.234q0.15625 0.78125 0.21875 1.6094 0.078125 0.82812 0.078125 1.6562 0 5.9531-3.5 9.4219-3.4844 3.4688-9.4844 3.4688-6.6875 0-11.828-4.2344-5.125-4.2188-7.75-11.984zm7.8125-7.0312h-41.797q-0.29688-1.8594-0.39062-2.9375t-0.09375-1.8594q0-6.7812 4.1719-10.5 4.1719-3.7031 11.797-3.7031 5.8594 0 11.078 1.3125 5.2344 1.3281 9.7188 3.8594l-1.7031-8.8906q-4.8438-1.9531-10-2.9219-5.1406-0.98438-10.469-0.98438-11.375 0-17.5 5.4375-6.125 5.4531-6.125 15.469 0 8.5469 3.0469 15.891t8.9688 13.109q3.7969 3.6094 9.0469 5.5625t11.156 1.9531q9.2812 0 14.766-5.5625 5.5-5.5625 5.5-14.938 0-2.25-0.29688-4.8125-0.28125-2.5625-0.875-5.4844z\"/><path id=\"DejaVuSans-Oblique-103\" d=\"m59.625 54.688-9.3281-47.906q-2.6875-13.906-10.281-20.734-7.5938-6.8438-20.438-6.8438-4.7344 0-8.7969 0.70312-4.0469 0.70312-7.5625 2.1719l1.6719 8.7344q3.3125-2.1406 7.0156-3.1562 3.7188-1.0312 7.9219-1.0312 8.5469 0 14.031 4.6719 5.5 4.6562 7.25 13.391l0.78125 4.1094q-3.75-4.2969-8.7344-6.5469t-10.75-2.25q-8.2969 0-13.062 5.4844-4.75 5.5-4.75 15.125 0 7.5625 2.875 14.812 2.8906 7.25 8.1094 12.875 3.4688 3.7031 8.0781 5.7031t9.6406 2q5.5156 0 9.6094-2.5625 4.1094-2.5625 6.125-7.25l1.5625 8.5zm-13.531-20.062q0 6.6406-3.125 10.25t-8.8906 3.6094q-3.5625 0-6.7812-1.4219-3.2188-1.4062-5.5156-3.9531-3.7188-4.1875-5.7969-9.875-2.0625-5.6875-2.0625-11.75 0-6.7344 3.1406-10.359 3.1562-3.6094 9.0625-3.6094 8.5469 0 14.25 7.7344 5.7188 7.75 5.7188 19.375z\"/><path id=\"DejaVuSans-48\" d=\"m31.781 66.406q-7.6094 0-11.453-7.5-3.8281-7.4844-3.8281-22.531 0-14.984 3.8281-22.484 3.8438-7.5 11.453-7.5 7.6719 0 11.5 7.5 3.8438 7.5 3.8438 22.484 0 15.047-3.8438 22.531-3.8281 7.5-11.5 7.5zm0 7.8125q12.266 0 18.734-9.7031 6.4688-9.6875 6.4688-28.141 0-18.406-6.4688-28.109-6.4688-9.6875-18.734-9.6875-12.25 0-18.719 9.6875-6.4688 9.7031-6.4688 28.109 0 18.453 6.4688 28.141 6.4688 9.7031 18.719 9.7031z\"/></defs><g transform=\"translate(71.27 48.012) scale(.1625 -.1625)\"><use xlink:href=\"#DejaVuSans-Oblique-113\"/><use transform=\"translate(63.477)\" xlink:href=\"#DejaVuSans-Oblique-114\"/><use transform=\"translate(104.59)\" xlink:href=\"#DejaVuSans-Oblique-101\"/><use transform=\"translate(166.11)\" xlink:href=\"#DejaVuSans-Oblique-103\"/><use transform=\"translate(229.59 -16.406) scale(.7)\" xlink:href=\"#DejaVuSans-48\"/></g></g><g clip-path=\"url(#p32d613739c)\"><defs><path id=\"DejaVuSans-49\" d=\"m12.406 8.2969h16.109v55.625l-17.531-3.5156v8.9844l17.438 3.5156h9.8594v-64.609h16.109v-8.2969h-41.984z\"/></defs><g transform=\"translate(71.27 93.463) scale(.1625 -.1625)\"><use xlink:href=\"#DejaVuSans-Oblique-113\"/><use transform=\"translate(63.477)\" xlink:href=\"#DejaVuSans-Oblique-114\"/><use transform=\"translate(104.59)\" xlink:href=\"#DejaVuSans-Oblique-101\"/><use transform=\"translate(166.11)\" xlink:href=\"#DejaVuSans-Oblique-103\"/><use transform=\"translate(229.59 -16.406) scale(.7)\" xlink:href=\"#DejaVuSans-49\"/></g></g><defs><clipPath id=\"p32d613739c\"><rect x=\"7.2\" y=\"7.2\" width=\"249.98\" height=\"109.08\"/></clipPath></defs></svg>"
      ],
      "text/plain": [
       "<Figure size 331.1x144.48 with 1 Axes>"
      ]
     },
     "execution_count": 10,
     "metadata": {},
     "output_type": "execute_result"
    }
   ],
   "source": [
    "qc.draw(output='mpl')"
   ]
  },
  {
   "cell_type": "markdown",
   "metadata": {},
   "source": [
    "### Statevector simulator"
   ]
  },
  {
   "cell_type": "markdown",
   "metadata": {},
   "source": [
    "回路の出力を実際に見ることができるステージにやってきました。具体的には、'statevector simulator' を使用して、2つの量子ビットの状態ベクトルに何が起きているのかを見てみます。\n",
    "\n",
    "次の行を使用して、シミュレーターを準備します。"
   ]
  },
  {
   "cell_type": "code",
   "execution_count": 11,
   "metadata": {},
   "outputs": [],
   "source": [
    "vector_sim = Aer.get_backend('statevector_simulator')"
   ]
  },
  {
   "cell_type": "markdown",
   "metadata": {},
   "source": [
    "Qiskitでは、量子プログラムを実際に実行するもの（シミュレータもしくは実量子デバイス）を *バックエンド* と呼びます。バックエンドに対しジョブを指定するには、対応するバックエンド・オブジェクトを設定する必要があります。\n",
    "\n",
    "必要なシミュレータは、Qiskitの`Aer`と呼ばれる部分に定義されています。Aerの`get_backend()` メソッドに必要なシミュレータ名を与えることで、必要なバックエンド・オブジェクトを取得できます。今回の名前は `'statevector_simulator'` です。\n",
    "\n",
    "Aerで利用可能な全シミュレータのリストは、以下の様に取得できます。"
   ]
  },
  {
   "cell_type": "code",
   "execution_count": 7,
   "metadata": {},
   "outputs": [
    {
     "data": {
      "text/plain": [
       "[AerSimulator('aer_simulator'),\n",
       " AerSimulator('aer_simulator_statevector'),\n",
       " AerSimulator('aer_simulator_density_matrix'),\n",
       " AerSimulator('aer_simulator_stabilizer'),\n",
       " AerSimulator('aer_simulator_matrix_product_state'),\n",
       " AerSimulator('aer_simulator_extended_stabilizer'),\n",
       " AerSimulator('aer_simulator_unitary'),\n",
       " AerSimulator('aer_simulator_superop'),\n",
       " QasmSimulator('qasm_simulator'),\n",
       " StatevectorSimulator('statevector_simulator'),\n",
       " UnitarySimulator('unitary_simulator'),\n",
       " PulseSimulator('pulse_simulator')]"
      ]
     },
     "execution_count": 7,
     "metadata": {},
     "output_type": "execute_result"
    }
   ],
   "source": [
    "Aer.backends()"
   ]
  },
  {
   "cell_type": "markdown",
   "metadata": {},
   "source": [
    "これらのシミュレータは全部 'ローカル' 、つまりQiskitがインストールされたマシン上で実行されます。あなたのマシン上で使う場合、IBMQのユーザー同意書に同意せずに実行することができます。\n",
    "\n",
    "Qiskitの `execute` コマンドでシミュレーションを実行できます。このコマンドには、実行される回路と実行する「バックエンド」（今回はシミュレータ）が必要です。"
   ]
  },
  {
   "cell_type": "code",
   "execution_count": 13,
   "metadata": {},
   "outputs": [],
   "source": [
    "job = execute(qc, vector_sim)"
   ]
  },
  {
   "cell_type": "markdown",
   "metadata": {},
   "source": [
    "このコマンドは、`job`と呼ばれるこの実行を操作するオブジェクトを生成します。我々が必要なのは、結果を抽出することです。具体的には、状態ベクトルが欲しいのです。"
   ]
  },
  {
   "cell_type": "code",
   "execution_count": 14,
   "metadata": {},
   "outputs": [
    {
     "name": "stdout",
     "output_type": "stream",
     "text": [
      "(0.7071067811865476+0j)\n",
      "0j\n",
      "0j\n",
      "(0.7071067811865475+0j)\n"
     ]
    }
   ],
   "source": [
    "ket = job.result().get_statevector()\n",
    "for amplitude in ket:\n",
    "    print(amplitude)"
   ]
  },
  {
   "cell_type": "markdown",
   "metadata": {},
   "source": [
    "これはBell状態 $\\left( \\left|00\\right\\rangle + \\left|11\\right\\rangle \\right)/\\sqrt{2}$ に対するベクトルで、私たちがこの回路から期待するものです。"
   ]
  },
  {
   "cell_type": "markdown",
   "metadata": {},
   "source": [
    "私たちはうまく状態ベクトルを定義できましたが、Qiskitの別の特徴をお見せしましょう。それは次の様に、任意の純粋状態で回路を初期化することが可能なのです。"
   ]
  },
  {
   "cell_type": "code",
   "execution_count": 15,
   "metadata": {},
   "outputs": [
    {
     "data": {
      "text/plain": [
       "<qiskit.circuit.instructionset.InstructionSet at 0x7fc69b5abbd0>"
      ]
     },
     "execution_count": 15,
     "metadata": {},
     "output_type": "execute_result"
    }
   ],
   "source": [
    "new_qc = QuantumCircuit(qr)\n",
    "\n",
    "new_qc.initialize(ket, qr)"
   ]
  },
  {
   "cell_type": "markdown",
   "metadata": {},
   "source": [
    "### 古典レジスタと qasm simulator"
   ]
  },
  {
   "cell_type": "markdown",
   "metadata": {},
   "source": [
    "上のシミュレーションでは、statevectorを取り上げました。これは本物の量子コンピューターから得られるものではありません。本物には測定が必要です。測定を操作するためには、結果がどこに保存されるか定義する必要があります。これを実現するのが `ClassicalRegister` です。2つの量子ビットを測定するため、2ビットの古典レジスタを定義しましょう："
   ]
  },
  {
   "cell_type": "code",
   "execution_count": 16,
   "metadata": {},
   "outputs": [],
   "source": [
    "cr = ClassicalRegister(2,'creg')\n",
    "\n",
    "qc.add_register(cr)"
   ]
  },
  {
   "cell_type": "markdown",
   "metadata": {},
   "source": [
    "ここで、量子回路の`measure` メソッドを使用します。このメソッドは、測定される量子ビットと結果が書き込まれるビットの、2つの引数が必要です。\n",
    "\n",
    "両方の量子ビットを測定し、その結果を別々のビットに書き込みましょう。"
   ]
  },
  {
   "cell_type": "code",
   "execution_count": 17,
   "metadata": {},
   "outputs": [
    {
     "data": {
      "image/svg+xml": [
       "<?xml version=\"1.0\" encoding=\"UTF-8\"?><!DOCTYPE svg  PUBLIC '-//W3C//DTD SVG 1.1//EN'  'http://www.w3.org/Graphics/SVG/1.1/DTD/svg11.dtd'><svg width=\"355.28pt\" height=\"168.93pt\" version=\"1.1\" viewBox=\"0 0 355.28 168.93\" xmlns=\"http://www.w3.org/2000/svg\" xmlns:xlink=\"http://www.w3.org/1999/xlink\"><defs><style type=\"text/css\">*{stroke-linecap:butt;stroke-linejoin:round;}</style></defs><path d=\"m0 168.93h355.28v-168.93h-355.28z\" fill=\"#ffffff\"/><path d=\"m246.73 124.12h11.817l-5.9086 10.34z\" clip-path=\"url(#p41e59db8e8)\" fill=\"#778899\"/><path d=\"m292.18 124.12h11.817l-5.9086 10.34z\" clip-path=\"url(#p41e59db8e8)\" fill=\"#778899\"/><path d=\"m139.01 43.561h204.53\" clip-path=\"url(#p41e59db8e8)\" fill=\"none\" stroke=\"#000000\" stroke-linecap=\"square\" stroke-width=\"2\"/><path d=\"m139.01 89.012h204.53\" clip-path=\"url(#p41e59db8e8)\" fill=\"none\" stroke=\"#000000\" stroke-linecap=\"square\" stroke-width=\"2\"/><path d=\"m139.01 132.99h204.53\" clip-path=\"url(#p41e59db8e8)\" fill=\"none\" stroke=\"#778899\" stroke-linecap=\"square\" stroke-width=\"2\"/><path d=\"m139.01 135.94h204.53\" clip-path=\"url(#p41e59db8e8)\" fill=\"none\" stroke=\"#778899\" stroke-linecap=\"square\" stroke-width=\"2\"/><path d=\"m207.18 89.012v-45.451\" clip-path=\"url(#p41e59db8e8)\" fill=\"none\" stroke=\"#6fa4ff\" stroke-linecap=\"square\" stroke-width=\"2\"/><path d=\"m254.11 43.561v80.562\" clip-path=\"url(#p41e59db8e8)\" fill=\"none\" stroke=\"#778899\" stroke-linecap=\"square\" stroke-width=\"2\"/><path d=\"m251.16 43.561v80.562\" clip-path=\"url(#p41e59db8e8)\" fill=\"none\" stroke=\"#778899\" stroke-linecap=\"square\" stroke-width=\"2\"/><path d=\"m299.56 89.012v35.111\" clip-path=\"url(#p41e59db8e8)\" fill=\"none\" stroke=\"#778899\" stroke-linecap=\"square\" stroke-width=\"2\"/><path d=\"m296.61 89.012v35.111\" clip-path=\"url(#p41e59db8e8)\" fill=\"none\" stroke=\"#778899\" stroke-linecap=\"square\" stroke-width=\"2\"/><path d=\"m166.28 139.01 4.5451-9.0902\" clip-path=\"url(#p41e59db8e8)\" fill=\"none\" stroke=\"#778899\" stroke-linecap=\"square\" stroke-width=\"1.5\"/><path d=\"m146.96 58.332h29.543v-29.543h-29.543z\" clip-path=\"url(#p41e59db8e8)\" fill=\"#6fa4ff\"/><path d=\"m207.18 47.992c1.1752 0 2.3025-0.46693 3.1335-1.2979 0.83102-0.83102 1.2979-1.9583 1.2979-3.1335s-0.46693-2.3025-1.2979-3.1335c-0.83102-0.83102-1.9583-1.2979-3.1335-1.2979s-2.3025 0.46693-3.1335 1.2979c-0.83102 0.83102-1.2979 1.9583-1.2979 3.1335s0.46693 2.3025 1.2979 3.1335c0.83102 0.83102 1.9583 1.2979 3.1335 1.2979z\" clip-path=\"url(#p41e59db8e8)\" fill=\"#6fa4ff\" stroke=\"#6fa4ff\" stroke-width=\"1.5\"/><path d=\"m207.18 99.352c2.7422 0 5.3725-1.0895 7.3116-3.0285 1.939-1.939 3.0285-4.5693 3.0285-7.3116s-1.0895-5.3725-3.0285-7.3116c-1.939-1.939-4.5693-3.0285-7.3116-3.0285s-5.3725 1.0895-7.3116 3.0285c-1.939 1.939-3.0285 4.5693-3.0285 7.3116s1.0895 5.3725 3.0285 7.3116c1.939 1.939 4.5693 3.0285 7.3116 3.0285z\" clip-path=\"url(#p41e59db8e8)\" fill=\"#6fa4ff\" stroke=\"#6fa4ff\" stroke-width=\"2\"/><path d=\"m237.86 58.332h29.543v-29.543h-29.543z\" clip-path=\"url(#p41e59db8e8)\"/><path d=\"m262.98 47.992c0-2.7413-1.0901-5.3732-3.0285-7.3116-1.9384-1.9384-4.5702-3.0285-7.3116-3.0285s-5.3732 1.0901-7.3116 3.0285c-1.9384 1.9384-3.0285 4.5702-3.0285 7.3116\" clip-path=\"url(#p41e59db8e8)\" fill=\"none\" stroke=\"#ffffff\" stroke-width=\"2\"/><path d=\"m283.31 103.78h29.543v-29.543h-29.543z\" clip-path=\"url(#p41e59db8e8)\"/><path d=\"m308.43 93.443c0-2.7413-1.0901-5.3732-3.0285-7.3116-1.9384-1.9384-4.5702-3.0285-7.3116-3.0285s-5.3732 1.0901-7.3116 3.0285c-1.9384 1.9384-3.0285 4.5702-3.0285 7.3116\" clip-path=\"url(#p41e59db8e8)\" fill=\"none\" stroke=\"#ffffff\" stroke-width=\"2\"/><path d=\"m252.64 47.992 10.34-10.34\" clip-path=\"url(#p41e59db8e8)\" fill=\"none\" stroke=\"#ffffff\" stroke-linecap=\"square\" stroke-width=\"2\"/><path d=\"m298.09 93.443 10.34-10.34\" clip-path=\"url(#p41e59db8e8)\" fill=\"none\" stroke=\"#ffffff\" stroke-linecap=\"square\" stroke-width=\"2\"/><path d=\"m207.18 94.92v-11.817\" clip-path=\"url(#p41e59db8e8)\" fill=\"none\" stroke=\"#ffffff\" stroke-linecap=\"square\" stroke-width=\"2\"/><path d=\"m201.28 89.012h11.817\" clip-path=\"url(#p41e59db8e8)\" fill=\"none\" stroke=\"#ffffff\" stroke-linecap=\"square\" stroke-width=\"2\"/><g clip-path=\"url(#p41e59db8e8)\"><defs><path id=\"DejaVuSans-Oblique-72\" d=\"m16.891 72.906h9.9219l-5.8125-29.891h35.781l5.8125 29.891h9.9219l-14.219-72.906h-9.9062l6.7812 34.719h-35.781l-6.7969-34.719h-9.9062z\"/></defs><g transform=\"translate(156.79 47.148) scale(.13 -.13)\"><use transform=\"translate(0 .09375)\" xlink:href=\"#DejaVuSans-Oblique-72\"/></g></g><g clip-path=\"url(#p41e59db8e8)\"><defs><path id=\"DejaVuSans-48\" d=\"m31.781 66.406q-7.6094 0-11.453-7.5-3.8281-7.4844-3.8281-22.531 0-14.984 3.8281-22.484 3.8438-7.5 11.453-7.5 7.6719 0 11.5 7.5 3.8438 7.5 3.8438 22.484 0 15.047-3.8438 22.531-3.8281 7.5-11.5 7.5zm0 7.8125q12.266 0 18.734-9.7031 6.4688-9.6875 6.4688-28.141 0-18.406-6.4688-28.109-6.4688-9.6875-18.734-9.6875-12.25 0-18.719 9.6875-6.4688 9.7031-6.4688 28.109 0 18.453 6.4688 28.141 6.4688 9.7031 18.719 9.7031z\"/></defs><g transform=\"translate(264 127.75) scale(.104 -.104)\"><use xlink:href=\"#DejaVuSans-48\"/></g></g><g clip-path=\"url(#p41e59db8e8)\"><defs><path id=\"DejaVuSans-49\" d=\"m12.406 8.2969h16.109v55.625l-17.531-3.5156v8.9844l17.438 3.5156h9.8594v-64.609h16.109v-8.2969h-41.984z\"/></defs><g transform=\"translate(309.45 127.75) scale(.104 -.104)\"><use xlink:href=\"#DejaVuSans-49\"/></g></g><g clip-path=\"url(#p41e59db8e8)\"><defs><path id=\"DejaVuSans-Oblique-113\" d=\"m41.703 8.2031q-3.6094-4.7344-8.5312-7.1875-4.9062-2.4375-10.859-2.4375-8.2969 0-13.016 5.5938-4.7031 5.5938-4.7031 15.406 0 7.9062 2.9062 15.281t8.3281 13.234q3.5156 3.8125 8.0781 5.8594t9.5938 2.0469q6.0469 0 9.9531-2.3906t5.6719-7.2188l1.5625 8.2031h9.0312l-14.594-75.203h-9.0469zm-27.781 12.703q0-7.2344 3.0156-11.016 3.0312-3.7812 8.75-3.7812 8.5 0 14.5 8.125t6 19.75q0 7.0312-3.1094 10.766-3.0938 3.7344-8.8906 3.7344-4.25 0-7.875-1.9844-3.6094-1.9688-6.2969-5.7812-2.8281-4-4.4688-9.375-1.625-5.3594-1.625-10.438z\"/><path id=\"DejaVuSans-Oblique-114\" d=\"m44.578 46.391q-1.3594 0.73438-3.125 1.125-1.75 0.39062-3.75 0.39062-7.1875 0-12.562-5.4531-5.3594-5.4375-7.125-14.578l-5.5156-27.875h-8.9844l10.688 54.688h8.9844l-1.7031-8.5q3.5625 4.7344 8.5156 7.2656 4.9688 2.5469 10.578 2.5469 1.4688 0 2.875-0.17188 1.4219-0.15625 2.8438-0.54688z\"/><path id=\"DejaVuSans-Oblique-101\" d=\"m48.094 32.234q0.15625 0.78125 0.21875 1.6094 0.078125 0.82812 0.078125 1.6562 0 5.9531-3.5 9.4219-3.4844 3.4688-9.4844 3.4688-6.6875 0-11.828-4.2344-5.125-4.2188-7.75-11.984zm7.8125-7.0312h-41.797q-0.29688-1.8594-0.39062-2.9375t-0.09375-1.8594q0-6.7812 4.1719-10.5 4.1719-3.7031 11.797-3.7031 5.8594 0 11.078 1.3125 5.2344 1.3281 9.7188 3.8594l-1.7031-8.8906q-4.8438-1.9531-10-2.9219-5.1406-0.98438-10.469-0.98438-11.375 0-17.5 5.4375-6.125 5.4531-6.125 15.469 0 8.5469 3.0469 15.891t8.9688 13.109q3.7969 3.6094 9.0469 5.5625t11.156 1.9531q9.2812 0 14.766-5.5625 5.5-5.5625 5.5-14.938 0-2.25-0.29688-4.8125-0.28125-2.5625-0.875-5.4844z\"/><path id=\"DejaVuSans-Oblique-103\" d=\"m59.625 54.688-9.3281-47.906q-2.6875-13.906-10.281-20.734-7.5938-6.8438-20.438-6.8438-4.7344 0-8.7969 0.70312-4.0469 0.70312-7.5625 2.1719l1.6719 8.7344q3.3125-2.1406 7.0156-3.1562 3.7188-1.0312 7.9219-1.0312 8.5469 0 14.031 4.6719 5.5 4.6562 7.25 13.391l0.78125 4.1094q-3.75-4.2969-8.7344-6.5469t-10.75-2.25q-8.2969 0-13.062 5.4844-4.75 5.5-4.75 15.125 0 7.5625 2.875 14.812 2.8906 7.25 8.1094 12.875 3.4688 3.7031 8.0781 5.7031t9.6406 2q5.5156 0 9.6094-2.5625 4.1094-2.5625 6.125-7.25l1.5625 8.5zm-13.531-20.062q0 6.6406-3.125 10.25t-8.8906 3.6094q-3.5625 0-6.7812-1.4219-3.2188-1.4062-5.5156-3.9531-3.7188-4.1875-5.7969-9.875-2.0625-5.6875-2.0625-11.75 0-6.7344 3.1406-10.359 3.1562-3.6094 9.0625-3.6094 8.5469 0 14.25 7.7344 5.7188 7.75 5.7188 19.375z\"/></defs><g transform=\"translate(71.27 48.012) scale(.1625 -.1625)\"><use xlink:href=\"#DejaVuSans-Oblique-113\"/><use transform=\"translate(63.477)\" xlink:href=\"#DejaVuSans-Oblique-114\"/><use transform=\"translate(104.59)\" xlink:href=\"#DejaVuSans-Oblique-101\"/><use transform=\"translate(166.11)\" xlink:href=\"#DejaVuSans-Oblique-103\"/><use transform=\"translate(229.59 -16.406) scale(.7)\" xlink:href=\"#DejaVuSans-48\"/></g></g><g clip-path=\"url(#p41e59db8e8)\"><g transform=\"translate(71.27 93.463) scale(.1625 -.1625)\"><use xlink:href=\"#DejaVuSans-Oblique-113\"/><use transform=\"translate(63.477)\" xlink:href=\"#DejaVuSans-Oblique-114\"/><use transform=\"translate(104.59)\" xlink:href=\"#DejaVuSans-Oblique-101\"/><use transform=\"translate(166.11)\" xlink:href=\"#DejaVuSans-Oblique-103\"/><use transform=\"translate(229.59 -16.406) scale(.7)\" xlink:href=\"#DejaVuSans-49\"/></g></g><g clip-path=\"url(#p41e59db8e8)\"><defs><path id=\"DejaVuSans-50\" d=\"m19.188 8.2969h34.422v-8.2969h-46.281v8.2969q5.6094 5.8125 15.297 15.594 9.7031 9.7969 12.188 12.641 4.7344 5.3125 6.6094 9 1.8906 3.6875 1.8906 7.25 0 5.8125-4.0781 9.4688-4.0781 3.6719-10.625 3.6719-4.6406 0-9.7969-1.6094-5.1406-1.6094-11-4.8906v9.9688q5.9531 2.3906 11.125 3.6094 5.1875 1.2188 9.4844 1.2188 11.328 0 18.062-5.6719 6.7344-5.6562 6.7344-15.125 0-4.5-1.6875-8.5312-1.6719-4.0156-6.125-9.4844-1.2188-1.4219-7.7656-8.1875-6.5312-6.7656-18.453-18.922z\"/></defs><g transform=\"translate(161.73 127.75) scale(.104 -.104)\"><use xlink:href=\"#DejaVuSans-50\"/></g></g><g clip-path=\"url(#p41e59db8e8)\"><defs><path id=\"DejaVuSans-Oblique-99\" d=\"m53.609 52.594-1.7969-8.8906q-3.2344 2.3438-6.875 3.5156-3.625 1.1719-7.5312 1.1719-4.2969 0-8.1875-1.5156-3.875-1.5156-6.5156-4.2969-4.2031-4.25-6.5-9.9688-2.2812-5.7031-2.2812-11.812 0-7.375 3.6875-10.984t11.203-3.6094q3.7031 0 7.875 1.125 4.1875 1.125 8.7188 3.3594l-1.7031-8.875q-3.9062-1.6094-8.0312-2.4219t-8.4688-0.8125q-10.891 0-16.75 5.4375-5.8594 5.4531-5.8594 15.562 0 8.5 3.0469 15.656t9.0625 12.859q4.0938 3.9062 9.6094 5.9062 5.5312 2 12.062 2 3.8125 0 7.5625-0.85938 3.7656-0.84375 7.6719-2.5469z\"/></defs><g transform=\"translate(72.992 139.8) scale(.195 -.195)\"><use xlink:href=\"#DejaVuSans-Oblique-99\"/><use transform=\"translate(54.98)\" xlink:href=\"#DejaVuSans-Oblique-114\"/><use transform=\"translate(96.094)\" xlink:href=\"#DejaVuSans-Oblique-101\"/><use transform=\"translate(157.62)\" xlink:href=\"#DejaVuSans-Oblique-103\"/></g></g><defs><clipPath id=\"p41e59db8e8\"><rect x=\"7.2\" y=\"7.2\" width=\"340.88\" height=\"154.53\"/></clipPath></defs></svg>"
      ],
      "text/plain": [
       "<Figure size 451.5x204.68 with 1 Axes>"
      ]
     },
     "execution_count": 17,
     "metadata": {},
     "output_type": "execute_result"
    }
   ],
   "source": [
    "qc.measure(qr[0],cr[0])\n",
    "qc.measure(qr[1],cr[1])\n",
    "\n",
    "qc.draw(output='mpl')"
   ]
  },
  {
   "cell_type": "markdown",
   "metadata": {},
   "source": [
    "本物の量子装置をエミュレートする効果のあるローカル・シミュレータ上で、この回路を実行できます このためには、`execute` 関数に別の入力`shots`を追加する必要があります。`shots` は、統計を取るためにこの回路を実行する回数を指定します。指定しない場合は、デフォルトの1024が使用されます。"
   ]
  },
  {
   "cell_type": "code",
   "execution_count": 18,
   "metadata": {},
   "outputs": [],
   "source": [
    "emulator = Aer.get_backend('qasm_simulator')\n",
    "\n",
    "job = execute( qc, emulator, shots=8192 )"
   ]
  },
  {
   "cell_type": "markdown",
   "metadata": {},
   "source": [
    "本質的な結果は、Pythonのdictionary形式のオブジェクトになります。`print`を使用すると、これを表示できます。"
   ]
  },
  {
   "cell_type": "code",
   "execution_count": 19,
   "metadata": {},
   "outputs": [
    {
     "name": "stdout",
     "output_type": "stream",
     "text": [
      "{'11': 4181, '00': 4011}\n"
     ]
    }
   ],
   "source": [
    "hist = job.result().get_counts()\n",
    "print(hist)"
   ]
  },
  {
   "cell_type": "markdown",
   "metadata": {},
   "source": [
    "Qiskitにこの結果をヒストグラムとしてプロットさせることもできます。"
   ]
  },
  {
   "cell_type": "code",
   "execution_count": 20,
   "metadata": {},
   "outputs": [
    {
     "data": {
      "image/svg+xml": [
       "<?xml version=\"1.0\" encoding=\"UTF-8\"?><!DOCTYPE svg  PUBLIC '-//W3C//DTD SVG 1.1//EN'  'http://www.w3.org/Graphics/SVG/1.1/DTD/svg11.dtd'><svg width=\"460.72pt\" height=\"314.57pt\" version=\"1.1\" viewBox=\"0 0 460.72 314.57\" xmlns=\"http://www.w3.org/2000/svg\" xmlns:xlink=\"http://www.w3.org/1999/xlink\"><defs><style type=\"text/css\">*{stroke-linecap:butt;stroke-linejoin:round;}</style></defs><path d=\"m0 314.57h460.72v-314.57h-460.72z\" fill=\"none\"/><path d=\"m62.921 279h390.6v-271.8h-390.6z\" fill=\"#ffffff\"/><defs><path id=\"mbd81d0cfe4\" d=\"m0 0v3.5\" stroke=\"#000000\" stroke-width=\".8\"/></defs><use x=\"139.857614\" y=\"279\" stroke=\"#000000\" stroke-width=\".8\" xlink:href=\"#mbd81d0cfe4\"/><defs><path id=\"DejaVuSans-48\" d=\"m31.781 66.406q-7.6094 0-11.453-7.5-3.8281-7.4844-3.8281-22.531 0-14.984 3.8281-22.484 3.8438-7.5 11.453-7.5 7.6719 0 11.5 7.5 3.8438 7.5 3.8438 22.484 0 15.047-3.8438 22.531-3.8281 7.5-11.5 7.5zm0 7.8125q12.266 0 18.734-9.7031 6.4688-9.6875 6.4688-28.141 0-18.406-6.4688-28.109-6.4688-9.6875-18.734-9.6875-12.25 0-18.719 9.6875-6.4688 9.7031-6.4688 28.109 0 18.453 6.4688 28.141 6.4688 9.7031 18.719 9.7031z\"/></defs><g transform=\"translate(140.44 306.38) rotate(-70) scale(.14 -.14)\"><use xlink:href=\"#DejaVuSans-48\"/><use x=\"63.623047\" xlink:href=\"#DejaVuSans-48\"/></g><use x=\"376.584886\" y=\"279\" stroke=\"#000000\" stroke-width=\".8\" xlink:href=\"#mbd81d0cfe4\"/><defs><path id=\"DejaVuSans-49\" d=\"m12.406 8.2969h16.109v55.625l-17.531-3.5156v8.9844l17.438 3.5156h9.8594v-64.609h16.109v-8.2969h-41.984z\"/></defs><g transform=\"translate(377.17 306.38) rotate(-70) scale(.14 -.14)\"><use xlink:href=\"#DejaVuSans-49\"/><use x=\"63.623047\" xlink:href=\"#DejaVuSans-49\"/></g><path d=\"m62.921 279h390.6\" clip-path=\"url(#p475db39187)\" fill=\"none\" stroke=\"#b0b0b0\" stroke-dasharray=\"2.96,1.28\" stroke-width=\".8\"/><defs><path id=\"m4536df21db\" d=\"m0 0h-3.5\" stroke=\"#000000\" stroke-width=\".8\"/></defs><use x=\"62.92125\" y=\"279\" stroke=\"#000000\" stroke-width=\".8\" xlink:href=\"#m4536df21db\"/><defs><path id=\"DejaVuSans-46\" d=\"m10.688 12.406h10.312v-12.406h-10.312z\"/></defs><g transform=\"translate(24.749 284.32) scale(.14 -.14)\"><use xlink:href=\"#DejaVuSans-48\"/><use x=\"63.623047\" xlink:href=\"#DejaVuSans-46\"/><use x=\"95.410156\" xlink:href=\"#DejaVuSans-48\"/><use x=\"159.033203\" xlink:href=\"#DejaVuSans-48\"/></g><path d=\"m62.921 212.43h390.6\" clip-path=\"url(#p475db39187)\" fill=\"none\" stroke=\"#b0b0b0\" stroke-dasharray=\"2.96,1.28\" stroke-width=\".8\"/><use x=\"62.92125\" y=\"212.431428\" stroke=\"#000000\" stroke-width=\".8\" xlink:href=\"#m4536df21db\"/><defs><path id=\"DejaVuSans-53\" d=\"m10.797 72.906h38.719v-8.3125h-29.688v-17.859q2.1406 0.73438 4.2812 1.0938 2.1562 0.35938 4.3125 0.35938 12.203 0 19.328-6.6875 7.1406-6.6875 7.1406-18.109 0-11.766-7.3281-18.297-7.3281-6.5156-20.656-6.5156-4.5938 0-9.3594 0.78125-4.75 0.78125-9.8281 2.3438v9.9219q4.3906-2.3906 9.0781-3.5625t9.9062-1.1719q8.4531 0 13.375 4.4375 4.9375 4.4375 4.9375 12.062 0 7.6094-4.9375 12.047-4.9219 4.4531-13.375 4.4531-3.9531 0-7.8906-0.875-3.9219-0.875-8.0156-2.7344z\"/></defs><g transform=\"translate(24.749 217.75) scale(.14 -.14)\"><use xlink:href=\"#DejaVuSans-48\"/><use x=\"63.623047\" xlink:href=\"#DejaVuSans-46\"/><use x=\"95.410156\" xlink:href=\"#DejaVuSans-49\"/><use x=\"159.033203\" xlink:href=\"#DejaVuSans-53\"/></g><path d=\"m62.921 145.86h390.6\" clip-path=\"url(#p475db39187)\" fill=\"none\" stroke=\"#b0b0b0\" stroke-dasharray=\"2.96,1.28\" stroke-width=\".8\"/><use x=\"62.92125\" y=\"145.862856\" stroke=\"#000000\" stroke-width=\".8\" xlink:href=\"#m4536df21db\"/><defs><path id=\"DejaVuSans-51\" d=\"m40.578 39.312q7.0781-1.5156 11.047-6.3125 3.9844-4.7812 3.9844-11.812 0-10.781-7.4219-16.703-7.4219-5.9062-21.094-5.9062-4.5781 0-9.4375 0.90625t-10.031 2.7188v9.5156q4.0938-2.3906 8.9688-3.6094 4.8906-1.2188 10.219-1.2188 9.2656 0 14.125 3.6562t4.8594 10.641q0 6.4531-4.5156 10.078-4.5156 3.6406-12.562 3.6406h-8.5v8.1094h8.8906q7.2656 0 11.125 2.9062t3.8594 8.375q0 5.6094-3.9844 8.6094-3.9688 3.0156-11.391 3.0156-4.0625 0-8.7031-0.89062-4.6406-0.875-10.203-2.7188v8.7812q5.625 1.5625 10.531 2.3438t9.25 0.78125q11.234 0 17.766-5.1094 6.5469-5.0938 6.5469-13.781 0-6.0625-3.4688-10.234t-9.8594-5.7812z\"/></defs><g transform=\"translate(24.749 151.18) scale(.14 -.14)\"><use xlink:href=\"#DejaVuSans-48\"/><use x=\"63.623047\" xlink:href=\"#DejaVuSans-46\"/><use x=\"95.410156\" xlink:href=\"#DejaVuSans-51\"/><use x=\"159.033203\" xlink:href=\"#DejaVuSans-48\"/></g><path d=\"m62.921 79.294h390.6\" clip-path=\"url(#p475db39187)\" fill=\"none\" stroke=\"#b0b0b0\" stroke-dasharray=\"2.96,1.28\" stroke-width=\".8\"/><use x=\"62.92125\" y=\"79.294284\" stroke=\"#000000\" stroke-width=\".8\" xlink:href=\"#m4536df21db\"/><defs><path id=\"DejaVuSans-52\" d=\"m37.797 64.312-24.906-38.922h24.906zm-2.5938 8.5938h12.406v-47.516h10.406v-8.2031h-10.406v-17.188h-9.8125v17.188h-32.906v9.5156z\"/></defs><g transform=\"translate(24.749 84.613) scale(.14 -.14)\"><use xlink:href=\"#DejaVuSans-48\"/><use x=\"63.623047\" xlink:href=\"#DejaVuSans-46\"/><use x=\"95.410156\" xlink:href=\"#DejaVuSans-52\"/><use x=\"159.033203\" xlink:href=\"#DejaVuSans-53\"/></g><path d=\"m62.921 12.726h390.6\" clip-path=\"url(#p475db39187)\" fill=\"none\" stroke=\"#b0b0b0\" stroke-dasharray=\"2.96,1.28\" stroke-width=\".8\"/><use x=\"62.92125\" y=\"12.725712\" stroke=\"#000000\" stroke-width=\".8\" xlink:href=\"#m4536df21db\"/><defs><path id=\"DejaVuSans-54\" d=\"m33.016 40.375q-6.6406 0-10.531-4.5469-3.875-4.5312-3.875-12.438 0-7.8594 3.875-12.438 3.8906-4.5625 10.531-4.5625t10.516 4.5625q3.875 4.5781 3.875 12.438 0 7.9062-3.875 12.438-3.875 4.5469-10.516 4.5469zm19.578 30.922v-8.9844q-3.7188 1.75-7.5 2.6719-3.7812 0.9375-7.5 0.9375-9.7656 0-14.922-6.5938-5.1406-6.5938-5.875-19.922 2.875 4.25 7.2188 6.5156 4.3594 2.2656 9.5781 2.2656 10.984 0 17.359-6.6719 6.375-6.6562 6.375-18.125 0-11.234-6.6406-18.031-6.6406-6.7812-17.672-6.7812-12.656 0-19.344 9.6875-6.6875 9.7031-6.6875 28.109 0 17.281 8.2031 27.562t22.016 10.281q3.7188 0 7.5-0.73438t7.8906-2.1875z\"/></defs><g transform=\"translate(24.749 18.045) scale(.14 -.14)\"><use xlink:href=\"#DejaVuSans-48\"/><use x=\"63.623047\" xlink:href=\"#DejaVuSans-46\"/><use x=\"95.410156\" xlink:href=\"#DejaVuSans-54\"/><use x=\"159.033203\" xlink:href=\"#DejaVuSans-48\"/></g><defs><path id=\"DejaVuSans-80\" d=\"m19.672 64.797v-27.391h12.406q6.8906 0 10.641 3.5625 3.7656 3.5625 3.7656 10.156 0 6.5469-3.7656 10.109-3.75 3.5625-10.641 3.5625zm-9.8594 8.1094h22.266q12.266 0 18.531-5.5469 6.2812-5.5469 6.2812-16.234 0-10.797-6.2812-16.312-6.2656-5.5156-18.531-5.5156h-12.406v-29.297h-9.8594z\"/><path id=\"DejaVuSans-114\" d=\"m41.109 46.297q-1.5156 0.875-3.2969 1.2812-1.7812 0.42188-3.9219 0.42188-7.625 0-11.703-4.9531t-4.0781-14.234v-28.812h-9.0312v54.688h9.0312v-8.5q2.8438 4.9844 7.375 7.3906 4.5469 2.4219 11.047 2.4219 0.92188 0 2.0469-0.125 1.125-0.10938 2.4844-0.35938z\"/><path id=\"DejaVuSans-111\" d=\"m30.609 48.391q-7.2188 0-11.422-5.6406t-4.2031-15.453 4.1719-15.453q4.1875-5.6406 11.453-5.6406 7.1875 0 11.375 5.6562 4.2031 5.6719 4.2031 15.438 0 9.7188-4.2031 15.406-4.1875 5.6875-11.375 5.6875zm0 7.6094q11.719 0 18.406-7.625 6.7031-7.6094 6.7031-21.078 0-13.422-6.7031-21.078-6.6875-7.6406-18.406-7.6406-11.766 0-18.438 7.6406-6.6562 7.6562-6.6562 21.078 0 13.469 6.6562 21.078 6.6719 7.625 18.438 7.625z\"/><path id=\"DejaVuSans-98\" d=\"m48.688 27.297q0 9.9062-4.0781 15.547t-11.203 5.6406q-7.1406 0-11.219-5.6406t-4.0781-15.547 4.0781-15.547 11.219-5.6406q7.125 0 11.203 5.6406t4.0781 15.547zm-30.578 19.094q2.8438 4.875 7.1562 7.2344 4.3281 2.375 10.328 2.375 9.9688 0 16.188-7.9062 6.2344-7.9062 6.2344-20.797t-6.2344-20.812q-6.2188-7.9062-16.188-7.9062-6 0-10.328 2.375-4.3125 2.375-7.1562 7.25v-8.2031h-9.0312v75.984h9.0312z\"/><path id=\"DejaVuSans-97\" d=\"m34.281 27.484q-10.891 0-15.094-2.4844t-4.2031-8.5q0-4.7812 3.1562-7.5938 3.1562-2.7969 8.5625-2.7969 7.4844 0 12 5.2969t4.5156 14.078v2zm17.922 3.7188v-31.203h-8.9844v8.2969q-3.0781-4.9688-7.6719-7.3438t-11.234-2.375q-8.3906 0-13.359 4.7188-4.9531 4.7188-4.9531 12.625 0 9.2188 6.1719 13.906 6.1875 4.6875 18.438 4.6875h12.609v0.89062q0 6.2031-4.0781 9.5938t-11.453 3.3906q-4.6875 0-9.1406-1.125-4.4375-1.125-8.5312-3.375v8.3125q4.9219 1.9062 9.5625 2.8438 4.6406 0.95312 9.0312 0.95312 11.875 0 17.734-6.1562 5.8594-6.1406 5.8594-18.641z\"/><path id=\"DejaVuSans-105\" d=\"m9.4219 54.688h8.9844v-54.688h-8.9844zm0 21.297h8.9844v-11.391h-8.9844z\"/><path id=\"DejaVuSans-108\" d=\"m9.4219 75.984h8.9844v-75.984h-8.9844z\"/><path id=\"DejaVuSans-116\" d=\"m18.312 70.219v-15.531h18.5v-6.9844h-18.5v-29.688q0-6.6875 1.8281-8.5938t7.4531-1.9062h9.2188v-7.5156h-9.2188q-10.406 0-14.359 3.875-3.9531 3.8906-3.9531 14.141v29.688h-6.5938v6.9844h6.5938v15.531z\"/><path id=\"DejaVuSans-101\" d=\"m56.203 29.594v-4.3906h-41.312q0.59375-9.2812 5.5938-14.141t13.938-4.8594q5.1719 0 10.031 1.2656t9.6562 3.8125v-8.5q-4.8438-2.0469-9.9219-3.125t-10.297-1.0781q-13.094 0-20.734 7.6094-7.6406 7.625-7.6406 20.625 0 13.422 7.25 21.297 7.25 7.8906 19.562 7.8906 11.031 0 17.453-7.1094 6.4219-7.0938 6.4219-19.297zm-8.9844 2.6406q-0.09375 7.3594-4.125 11.75-4.0312 4.4062-10.672 4.4062-7.5156 0-12.031-4.25t-5.2031-11.969z\"/><path id=\"DejaVuSans-115\" d=\"m44.281 53.078v-8.5q-3.7969 1.9531-7.9062 2.9219-4.0938 0.98438-8.5 0.98438-6.6875 0-10.031-2.0469t-3.3438-6.1562q0-3.125 2.3906-4.9062t9.625-3.3906l3.0781-0.6875q9.5625-2.0469 13.594-5.7812t4.0312-10.422q0-7.625-6.0312-12.078-6.0312-4.4375-16.578-4.4375-4.3906 0-9.1562 0.85938t-10.031 2.5625v9.2812q4.9844-2.5938 9.8125-3.8906 4.8281-1.2812 9.5781-1.2812 6.3438 0 9.75 2.1719 3.4219 2.1719 3.4219 6.125 0 3.6562-2.4688 5.6094-2.4531 1.9531-10.812 3.7656l-3.125 0.73438q-8.3438 1.75-12.062 5.3906-3.7031 3.6406-3.7031 9.9844 0 7.7188 5.4688 11.906 5.4688 4.2031 15.531 4.2031 4.9688 0 9.3594-0.73438 4.4062-0.71875 8.1094-2.1875z\"/></defs><g transform=\"translate(17.838 186.13) rotate(-90) scale(.14 -.14)\"><use xlink:href=\"#DejaVuSans-80\"/><use x=\"60.287109\" xlink:href=\"#DejaVuSans-114\"/><use x=\"101.369141\" xlink:href=\"#DejaVuSans-111\"/><use x=\"162.550781\" xlink:href=\"#DejaVuSans-98\"/><use x=\"226.027344\" xlink:href=\"#DejaVuSans-97\"/><use x=\"287.306641\" xlink:href=\"#DejaVuSans-98\"/><use x=\"350.783203\" xlink:href=\"#DejaVuSans-105\"/><use x=\"378.566406\" xlink:href=\"#DejaVuSans-108\"/><use x=\"406.349609\" xlink:href=\"#DejaVuSans-105\"/><use x=\"434.132812\" xlink:href=\"#DejaVuSans-116\"/><use x=\"473.341797\" xlink:href=\"#DejaVuSans-105\"/><use x=\"501.125\" xlink:href=\"#DejaVuSans-101\"/><use x=\"562.648438\" xlink:href=\"#DejaVuSans-115\"/></g><path d=\"m80.676 279h118.36v-217.29h-118.36z\" clip-path=\"url(#p475db39187)\" fill=\"#648fff\"/><path d=\"m317.4 279h118.36v-226.5h-118.36z\" clip-path=\"url(#p475db39187)\" fill=\"#648fff\"/><path d=\"m62.921 279v-271.8\" fill=\"none\" stroke=\"#000000\" stroke-linecap=\"square\" stroke-width=\".8\"/><path d=\"m453.52 279v-271.8\" fill=\"none\" stroke=\"#000000\" stroke-linecap=\"square\" stroke-width=\".8\"/><path d=\"m62.921 279h390.6\" fill=\"none\" stroke=\"#000000\" stroke-linecap=\"square\" stroke-width=\".8\"/><path d=\"m62.921 7.2h390.6\" fill=\"none\" stroke=\"#000000\" stroke-linecap=\"square\" stroke-width=\".8\"/><defs><path id=\"DejaVuSans-57\" d=\"m10.984 1.5156v8.9844q3.7188-1.7656 7.5156-2.6875 3.8125-0.92188 7.4844-0.92188 9.7656 0 14.906 6.5625 5.1562 6.5625 5.8906 19.953-2.8281-4.2031-7.1875-6.4531-4.3438-2.25-9.6094-2.25-10.938 0-17.312 6.6094-6.375 6.625-6.375 18.109 0 11.219 6.6406 18 6.6406 6.7969 17.672 6.7969 12.656 0 19.312-9.7031 6.6719-9.6875 6.6719-28.141 0-17.234-8.1875-27.516-8.1719-10.281-21.984-10.281-3.7188 0-7.5312 0.73438-3.7969 0.73438-7.9062 2.2031zm19.625 30.906q6.6406 0 10.516 4.5312 3.8906 4.5469 3.8906 12.469 0 7.8594-3.8906 12.422-3.875 4.5625-10.516 4.5625t-10.516-4.5625-3.875-12.422q0-7.9219 3.875-12.469 3.875-4.5312 10.516-4.5312z\"/></defs><g transform=\"translate(125.54 48.765) scale(.1 -.1)\"><use xlink:href=\"#DejaVuSans-48\"/><use x=\"63.623047\" xlink:href=\"#DejaVuSans-46\"/><use x=\"95.410156\" xlink:href=\"#DejaVuSans-52\"/><use x=\"159.033203\" xlink:href=\"#DejaVuSans-57\"/><use x=\"222.65625\" xlink:href=\"#DejaVuSans-48\"/></g><g transform=\"translate(362.27 39.095) scale(.1 -.1)\"><use xlink:href=\"#DejaVuSans-48\"/><use x=\"63.623047\" xlink:href=\"#DejaVuSans-46\"/><use x=\"95.410156\" xlink:href=\"#DejaVuSans-53\"/><use x=\"159.033203\" xlink:href=\"#DejaVuSans-49\"/><use x=\"222.65625\" xlink:href=\"#DejaVuSans-48\"/></g><defs><clipPath id=\"p475db39187\"><rect x=\"62.921\" y=\"7.2\" width=\"390.6\" height=\"271.8\"/></clipPath></defs></svg>"
      ],
      "text/plain": [
       "<Figure size 504x360 with 1 Axes>"
      ]
     },
     "execution_count": 20,
     "metadata": {},
     "output_type": "execute_result"
    }
   ],
   "source": [
    "from qiskit.visualization import plot_histogram\n",
    "\n",
    "plot_histogram(hist)"
   ]
  },
  {
   "cell_type": "markdown",
   "metadata": {},
   "source": [
    "互換性のあるバックエンドに対しては、結果を並べたリストを要求し、取得することもできます。"
   ]
  },
  {
   "cell_type": "code",
   "execution_count": 21,
   "metadata": {},
   "outputs": [
    {
     "name": "stdout",
     "output_type": "stream",
     "text": [
      "['11', '00', '00', '00', '00', '00', '00', '11', '11', '00']\n"
     ]
    }
   ],
   "source": [
    "job = execute(qc, emulator, shots=10, memory=True)\n",
    "samples = job.result().get_memory()\n",
    "print(samples)"
   ]
  },
  {
   "cell_type": "markdown",
   "metadata": {},
   "source": [
    "ビットには右から左にラベルが付いていることに注意してください。従って、`cr[0]` は最も右端にあるものになります。 次の例は、`7`と番号付けされた量子ビットだけにPauli $X$ ゲートがあり、`7` と番号付けされたビットに出力が格納される、8量子ビットの回路です。"
   ]
  },
  {
   "cell_type": "code",
   "execution_count": 22,
   "metadata": {},
   "outputs": [
    {
     "data": {
      "text/plain": [
       "{'10000000': 8192}"
      ]
     },
     "execution_count": 22,
     "metadata": {},
     "output_type": "execute_result"
    }
   ],
   "source": [
    "qubit = QuantumRegister(8)\n",
    "bit = ClassicalRegister(8)\n",
    "circuit = QuantumCircuit(qubit,bit)\n",
    "\n",
    "circuit.x(qubit[7])\n",
    "circuit.measure(qubit,bit) # this is a way to do all the qc.measure(qr8[j],cr8[j]) at once\n",
    "\n",
    "execute(circuit, emulator, shots=8192).result().get_counts()"
   ]
  },
  {
   "cell_type": "markdown",
   "metadata": {},
   "source": [
    "`1` は左に出現します。\n",
    "\n",
    "この番号付けは、整数を表現する時のビットの役割を反映しています。\n",
    "\n",
    "\n",
    "\n",
    "$$ b_{n-1} ~ b_{n-2} ~ \\ldots ~ b_1 ~ b_0 = \\sum_j ~ b_j ~ 2^j $$\n",
    "\n",
    "\n",
    "\n",
    "つまり、結果として得られた文字列は、`7`と番号付けされたビットに`1` があるので、 $2^7$ のバイナリ表現です。"
   ]
  },
  {
   "cell_type": "markdown",
   "metadata": {},
   "source": [
    "### 簡略表記"
   ]
  },
  {
   "cell_type": "markdown",
   "metadata": {},
   "source": [
    "複数の量子・古典レジスターを回路に追加することができます。しかし、それぞれが一つしか必要ない場合は、簡略表記を使うことができます。\n",
    "\n",
    "例えば、次を考えましょう。"
   ]
  },
  {
   "cell_type": "code",
   "execution_count": 23,
   "metadata": {},
   "outputs": [],
   "source": [
    "qc = QuantumCircuit(3)"
   ]
  },
  {
   "cell_type": "markdown",
   "metadata": {},
   "source": [
    "`QuantumCircuit` の単独引数は、必要な量子ビットの数と解釈されます。つまり、これは、3量子ビットを含む単一量子レジスタを持ち、古典レジスタを持たない回路です。\n",
    "\n",
    "ゲートを追加する時、3つの量子ビットは、インデックス、0、1、2で参照できます。以下は、Hadamardを量子ビット1に追加した例です。"
   ]
  },
  {
   "cell_type": "code",
   "execution_count": 24,
   "metadata": {},
   "outputs": [
    {
     "data": {
      "image/svg+xml": [
       "<?xml version=\"1.0\" encoding=\"UTF-8\"?><!DOCTYPE svg  PUBLIC '-//W3C//DTD SVG 1.1//EN'  'http://www.w3.org/Graphics/SVG/1.1/DTD/svg11.dtd'><svg width=\"194.39pt\" height=\"168.93pt\" version=\"1.1\" viewBox=\"0 0 194.39 168.93\" xmlns=\"http://www.w3.org/2000/svg\" xmlns:xlink=\"http://www.w3.org/1999/xlink\"><defs><style type=\"text/css\">*{stroke-linecap:butt;stroke-linejoin:round;}</style></defs><path d=\"m-0 168.93h194.39v-168.93h-194.39z\" fill=\"#ffffff\"/><path d=\"m114.46 43.561h68.176\" clip-path=\"url(#p9c7fe54ed8)\" fill=\"none\" stroke=\"#000000\" stroke-linecap=\"square\" stroke-width=\"2\"/><path d=\"m114.46 89.012h68.176\" clip-path=\"url(#p9c7fe54ed8)\" fill=\"none\" stroke=\"#000000\" stroke-linecap=\"square\" stroke-width=\"2\"/><path d=\"m114.46 134.46h68.176\" clip-path=\"url(#p9c7fe54ed8)\" fill=\"none\" stroke=\"#000000\" stroke-linecap=\"square\" stroke-width=\"2\"/><path d=\"m122.42 103.78h29.543v-29.543h-29.543z\" clip-path=\"url(#p9c7fe54ed8)\" fill=\"#6fa4ff\"/><g clip-path=\"url(#p9c7fe54ed8)\"><defs><path id=\"DejaVuSans-Oblique-72\" d=\"m16.891 72.906h9.9219l-5.8125-29.891h35.781l5.8125 29.891h9.9219l-14.219-72.906h-9.9062l6.7812 34.719h-35.781l-6.7969-34.719h-9.9062z\"/></defs><g transform=\"translate(132.25 92.599) scale(.13 -.13)\"><use transform=\"translate(0 .09375)\" xlink:href=\"#DejaVuSans-Oblique-72\"/></g></g><g clip-path=\"url(#p9c7fe54ed8)\"><defs><path id=\"DejaVuSans-Oblique-113\" d=\"m41.703 8.2031q-3.6094-4.7344-8.5312-7.1875-4.9062-2.4375-10.859-2.4375-8.2969 0-13.016 5.5938-4.7031 5.5938-4.7031 15.406 0 7.9062 2.9062 15.281t8.3281 13.234q3.5156 3.8125 8.0781 5.8594t9.5938 2.0469q6.0469 0 9.9531-2.3906t5.6719-7.2188l1.5625 8.2031h9.0312l-14.594-75.203h-9.0469zm-27.781 12.703q0-7.2344 3.0156-11.016 3.0312-3.7812 8.75-3.7812 8.5 0 14.5 8.125t6 19.75q0 7.0312-3.1094 10.766-3.0938 3.7344-8.8906 3.7344-4.25 0-7.875-1.9844-3.6094-1.9688-6.2969-5.7812-2.8281-4-4.4688-9.375-1.625-5.3594-1.625-10.438z\"/><path id=\"DejaVuSans-48\" d=\"m31.781 66.406q-7.6094 0-11.453-7.5-3.8281-7.4844-3.8281-22.531 0-14.984 3.8281-22.484 3.8438-7.5 11.453-7.5 7.6719 0 11.5 7.5 3.8438 7.5 3.8438 22.484 0 15.047-3.8438 22.531-3.8281 7.5-11.5 7.5zm0 7.8125q12.266 0 18.734-9.7031 6.4688-9.6875 6.4688-28.141 0-18.406-6.4688-28.109-6.4688-9.6875-18.734-9.6875-12.25 0-18.719 9.6875-6.4688 9.7031-6.4688 28.109 0 18.453 6.4688 28.141 6.4688 9.7031 18.719 9.7031z\"/></defs><g transform=\"translate(73.701 48.012) scale(.1625 -.1625)\"><use xlink:href=\"#DejaVuSans-Oblique-113\"/><use transform=\"translate(63.477 -16.406) scale(.7)\" xlink:href=\"#DejaVuSans-48\"/></g></g><g clip-path=\"url(#p9c7fe54ed8)\"><defs><path id=\"DejaVuSans-49\" d=\"m12.406 8.2969h16.109v55.625l-17.531-3.5156v8.9844l17.438 3.5156h9.8594v-64.609h16.109v-8.2969h-41.984z\"/></defs><g transform=\"translate(73.701 93.463) scale(.1625 -.1625)\"><use xlink:href=\"#DejaVuSans-Oblique-113\"/><use transform=\"translate(63.477 -16.406) scale(.7)\" xlink:href=\"#DejaVuSans-49\"/></g></g><g clip-path=\"url(#p9c7fe54ed8)\"><defs><path id=\"DejaVuSans-50\" d=\"m19.188 8.2969h34.422v-8.2969h-46.281v8.2969q5.6094 5.8125 15.297 15.594 9.7031 9.7969 12.188 12.641 4.7344 5.3125 6.6094 9 1.8906 3.6875 1.8906 7.25 0 5.8125-4.0781 9.4688-4.0781 3.6719-10.625 3.6719-4.6406 0-9.7969-1.6094-5.1406-1.6094-11-4.8906v9.9688q5.9531 2.3906 11.125 3.6094 5.1875 1.2188 9.4844 1.2188 11.328 0 18.062-5.6719 6.7344-5.6562 6.7344-15.125 0-4.5-1.6875-8.5312-1.6719-4.0156-6.125-9.4844-1.2188-1.4219-7.7656-8.1875-6.5312-6.7656-18.453-18.922z\"/></defs><g transform=\"translate(73.701 138.91) scale(.1625 -.1625)\"><use xlink:href=\"#DejaVuSans-Oblique-113\"/><use transform=\"translate(63.477 -16.406) scale(.7)\" xlink:href=\"#DejaVuSans-50\"/></g></g><defs><clipPath id=\"p9c7fe54ed8\"><rect x=\"7.2\" y=\"7.2\" width=\"179.99\" height=\"154.53\"/></clipPath></defs></svg>"
      ],
      "text/plain": [
       "<Figure size 238.392x204.68 with 1 Axes>"
      ]
     },
     "execution_count": 24,
     "metadata": {},
     "output_type": "execute_result"
    }
   ],
   "source": [
    "qc.h(1)\n",
    "\n",
    "qc.draw(output='mpl')"
   ]
  },
  {
   "cell_type": "markdown",
   "metadata": {},
   "source": [
    "量子レジスタと古典レジスタを両方回路に定義するためには、 `QuantumCircuit` に2つの引数を与えます。最初の引数は量子ビットの数として、2番目はビットの数として解釈されます。以下は、出力に単一古典ビットを持つ2量子ビット回路の例です。"
   ]
  },
  {
   "cell_type": "code",
   "execution_count": 25,
   "metadata": {},
   "outputs": [],
   "source": [
    "qc = QuantumCircuit(2,1)"
   ]
  },
  {
   "cell_type": "markdown",
   "metadata": {},
   "source": [
    "これを実際に見てみるために、単純な回路を使用します。測定を行う際には、インデックスを使って古典レジスタのビットを参照することに注意してください。"
   ]
  },
  {
   "cell_type": "code",
   "execution_count": 26,
   "metadata": {},
   "outputs": [
    {
     "data": {
      "image/svg+xml": [
       "<?xml version=\"1.0\" encoding=\"UTF-8\"?><!DOCTYPE svg  PUBLIC '-//W3C//DTD SVG 1.1//EN'  'http://www.w3.org/Graphics/SVG/1.1/DTD/svg11.dtd'><svg width=\"285.29pt\" height=\"168.93pt\" version=\"1.1\" viewBox=\"0 0 285.29 168.93\" xmlns=\"http://www.w3.org/2000/svg\" xmlns:xlink=\"http://www.w3.org/1999/xlink\"><defs><style type=\"text/css\">*{stroke-linecap:butt;stroke-linejoin:round;}</style></defs><path d=\"m0 168.93h285.29v-168.93h-285.29z\" fill=\"#ffffff\"/><path d=\"m222.18 124.12h11.817l-5.9086 10.34z\" clip-path=\"url(#p8946d8a1b8)\" fill=\"#778899\"/><path d=\"m114.46 43.561h159.08\" clip-path=\"url(#p8946d8a1b8)\" fill=\"none\" stroke=\"#000000\" stroke-linecap=\"square\" stroke-width=\"2\"/><path d=\"m114.46 89.012h159.08\" clip-path=\"url(#p8946d8a1b8)\" fill=\"none\" stroke=\"#000000\" stroke-linecap=\"square\" stroke-width=\"2\"/><path d=\"m114.46 132.99h159.08\" clip-path=\"url(#p8946d8a1b8)\" fill=\"none\" stroke=\"#778899\" stroke-linecap=\"square\" stroke-width=\"2\"/><path d=\"m114.46 135.94h159.08\" clip-path=\"url(#p8946d8a1b8)\" fill=\"none\" stroke=\"#778899\" stroke-linecap=\"square\" stroke-width=\"2\"/><path d=\"m182.64 89.012v-45.451\" clip-path=\"url(#p8946d8a1b8)\" fill=\"none\" stroke=\"#6fa4ff\" stroke-linecap=\"square\" stroke-width=\"2\"/><path d=\"m229.57 89.012v35.111\" clip-path=\"url(#p8946d8a1b8)\" fill=\"none\" stroke=\"#778899\" stroke-linecap=\"square\" stroke-width=\"2\"/><path d=\"m226.61 89.012v35.111\" clip-path=\"url(#p8946d8a1b8)\" fill=\"none\" stroke=\"#778899\" stroke-linecap=\"square\" stroke-width=\"2\"/><path d=\"m122.42 58.332h29.543v-29.543h-29.543z\" clip-path=\"url(#p8946d8a1b8)\" fill=\"#6fa4ff\"/><path d=\"m182.64 47.992c1.1752 0 2.3025-0.46693 3.1335-1.2979 0.83102-0.83102 1.2979-1.9583 1.2979-3.1335s-0.46693-2.3025-1.2979-3.1335c-0.83102-0.83102-1.9583-1.2979-3.1335-1.2979s-2.3025 0.46693-3.1335 1.2979c-0.83102 0.83102-1.2979 1.9583-1.2979 3.1335s0.46693 2.3025 1.2979 3.1335c0.83102 0.83102 1.9583 1.2979 3.1335 1.2979z\" clip-path=\"url(#p8946d8a1b8)\" fill=\"#6fa4ff\" stroke=\"#6fa4ff\" stroke-width=\"1.5\"/><path d=\"m182.64 99.352c2.7422 0 5.3725-1.0895 7.3116-3.0285 1.939-1.939 3.0285-4.5693 3.0285-7.3116s-1.0895-5.3725-3.0285-7.3116c-1.939-1.939-4.5693-3.0285-7.3116-3.0285s-5.3725 1.0895-7.3116 3.0285c-1.939 1.939-3.0285 4.5693-3.0285 7.3116s1.0895 5.3725 3.0285 7.3116c1.939 1.939 4.5693 3.0285 7.3116 3.0285z\" clip-path=\"url(#p8946d8a1b8)\" fill=\"#6fa4ff\" stroke=\"#6fa4ff\" stroke-width=\"2\"/><path d=\"m213.32 103.78h29.543v-29.543h-29.543z\" clip-path=\"url(#p8946d8a1b8)\"/><path d=\"m238.43 93.443c0-2.7413-1.0901-5.3732-3.0285-7.3116-1.9384-1.9384-4.5702-3.0285-7.3116-3.0285s-5.3732 1.0901-7.3116 3.0285c-1.9384 1.9384-3.0285 4.5702-3.0285 7.3116\" clip-path=\"url(#p8946d8a1b8)\" fill=\"none\" stroke=\"#ffffff\" stroke-width=\"2\"/><path d=\"m228.09 93.443 10.34-10.34\" clip-path=\"url(#p8946d8a1b8)\" fill=\"none\" stroke=\"#ffffff\" stroke-linecap=\"square\" stroke-width=\"2\"/><path d=\"m182.64 94.92v-11.817\" clip-path=\"url(#p8946d8a1b8)\" fill=\"none\" stroke=\"#ffffff\" stroke-linecap=\"square\" stroke-width=\"2\"/><path d=\"m176.73 89.012h11.817\" clip-path=\"url(#p8946d8a1b8)\" fill=\"none\" stroke=\"#ffffff\" stroke-linecap=\"square\" stroke-width=\"2\"/><g clip-path=\"url(#p8946d8a1b8)\"><defs><path id=\"DejaVuSans-Oblique-72\" d=\"m16.891 72.906h9.9219l-5.8125-29.891h35.781l5.8125 29.891h9.9219l-14.219-72.906h-9.9062l6.7812 34.719h-35.781l-6.7969-34.719h-9.9062z\"/></defs><g transform=\"translate(132.25 47.148) scale(.13 -.13)\"><use transform=\"translate(0 .09375)\" xlink:href=\"#DejaVuSans-Oblique-72\"/></g></g><g clip-path=\"url(#p8946d8a1b8)\"><defs><path id=\"DejaVuSans-48\" d=\"m31.781 66.406q-7.6094 0-11.453-7.5-3.8281-7.4844-3.8281-22.531 0-14.984 3.8281-22.484 3.8438-7.5 11.453-7.5 7.6719 0 11.5 7.5 3.8438 7.5 3.8438 22.484 0 15.047-3.8438 22.531-3.8281 7.5-11.5 7.5zm0 7.8125q12.266 0 18.734-9.7031 6.4688-9.6875 6.4688-28.141 0-18.406-6.4688-28.109-6.4688-9.6875-18.734-9.6875-12.25 0-18.719 9.6875-6.4688 9.7031-6.4688 28.109 0 18.453 6.4688 28.141 6.4688 9.7031 18.719 9.7031z\"/></defs><g transform=\"translate(239.45 127.75) scale(.104 -.104)\"><use xlink:href=\"#DejaVuSans-48\"/></g></g><g clip-path=\"url(#p8946d8a1b8)\"><defs><path id=\"DejaVuSans-Oblique-113\" d=\"m41.703 8.2031q-3.6094-4.7344-8.5312-7.1875-4.9062-2.4375-10.859-2.4375-8.2969 0-13.016 5.5938-4.7031 5.5938-4.7031 15.406 0 7.9062 2.9062 15.281t8.3281 13.234q3.5156 3.8125 8.0781 5.8594t9.5938 2.0469q6.0469 0 9.9531-2.3906t5.6719-7.2188l1.5625 8.2031h9.0312l-14.594-75.203h-9.0469zm-27.781 12.703q0-7.2344 3.0156-11.016 3.0312-3.7812 8.75-3.7812 8.5 0 14.5 8.125t6 19.75q0 7.0312-3.1094 10.766-3.0938 3.7344-8.8906 3.7344-4.25 0-7.875-1.9844-3.6094-1.9688-6.2969-5.7812-2.8281-4-4.4688-9.375-1.625-5.3594-1.625-10.438z\"/></defs><g transform=\"translate(73.701 48.012) scale(.1625 -.1625)\"><use xlink:href=\"#DejaVuSans-Oblique-113\"/><use transform=\"translate(63.477 -16.406) scale(.7)\" xlink:href=\"#DejaVuSans-48\"/></g></g><g clip-path=\"url(#p8946d8a1b8)\"><defs><path id=\"DejaVuSans-49\" d=\"m12.406 8.2969h16.109v55.625l-17.531-3.5156v8.9844l17.438 3.5156h9.8594v-64.609h16.109v-8.2969h-41.984z\"/></defs><g transform=\"translate(73.701 93.463) scale(.1625 -.1625)\"><use xlink:href=\"#DejaVuSans-Oblique-113\"/><use transform=\"translate(63.477 -16.406) scale(.7)\" xlink:href=\"#DejaVuSans-49\"/></g></g><g clip-path=\"url(#p8946d8a1b8)\"><defs><path id=\"DejaVuSans-Oblique-99\" d=\"m53.609 52.594-1.7969-8.8906q-3.2344 2.3438-6.875 3.5156-3.625 1.1719-7.5312 1.1719-4.2969 0-8.1875-1.5156-3.875-1.5156-6.5156-4.2969-4.2031-4.25-6.5-9.9688-2.2812-5.7031-2.2812-11.812 0-7.375 3.6875-10.984t11.203-3.6094q3.7031 0 7.875 1.125 4.1875 1.125 8.7188 3.3594l-1.7031-8.875q-3.9062-1.6094-8.0312-2.4219t-8.4688-0.8125q-10.891 0-16.75 5.4375-5.8594 5.4531-5.8594 15.562 0 8.5 3.0469 15.656t9.0625 12.859q4.0938 3.9062 9.6094 5.9062 5.5312 2 12.062 2 3.8125 0 7.5625-0.85938 3.7656-0.84375 7.6719-2.5469z\"/></defs><g transform=\"translate(81.014 139.84) scale(.195 -.195)\"><use xlink:href=\"#DejaVuSans-Oblique-99\"/></g></g><defs><clipPath id=\"p8946d8a1b8\"><rect x=\"7.2\" y=\"7.2\" width=\"270.89\" height=\"154.53\"/></clipPath></defs></svg>"
      ],
      "text/plain": [
       "<Figure size 358.792x204.68 with 1 Axes>"
      ]
     },
     "execution_count": 26,
     "metadata": {},
     "output_type": "execute_result"
    }
   ],
   "source": [
    "qc.h(0)\n",
    "qc.cx(0,1)\n",
    "qc.measure(1,0)\n",
    "\n",
    "qc.draw(output='mpl')"
   ]
  },
  {
   "cell_type": "markdown",
   "metadata": {},
   "source": [
    "### カスタム・ゲートの作成"
   ]
  },
  {
   "cell_type": "markdown",
   "metadata": {},
   "source": [
    "これまで見てきたように、異なる回路を組み合わせてより大きな回路を作成することができます。また、より洗練されたバージョンとして、カスタムゲートを作成することもできます。例えば、量子ビット1にプロセスを仲介させて、量子ビット0と2の間で `cx` を実装する回路を次に示します。"
   ]
  },
  {
   "cell_type": "code",
   "execution_count": 27,
   "metadata": {},
   "outputs": [
    {
     "data": {
      "image/svg+xml": [
       "<?xml version=\"1.0\" encoding=\"UTF-8\"?><!DOCTYPE svg  PUBLIC '-//W3C//DTD SVG 1.1//EN'  'http://www.w3.org/Graphics/SVG/1.1/DTD/svg11.dtd'><svg width=\"330.74pt\" height=\"168.93pt\" version=\"1.1\" viewBox=\"0 0 330.74 168.93\" xmlns=\"http://www.w3.org/2000/svg\" xmlns:xlink=\"http://www.w3.org/1999/xlink\"><defs><style type=\"text/css\">*{stroke-linecap:butt;stroke-linejoin:round;}</style></defs><path d=\"m0 168.93h330.74v-168.93h-330.74z\" fill=\"#ffffff\"/><path d=\"m114.46 43.561h204.53\" clip-path=\"url(#p68a02467ba)\" fill=\"none\" stroke=\"#000000\" stroke-linecap=\"square\" stroke-width=\"2\"/><path d=\"m114.46 89.012h204.53\" clip-path=\"url(#p68a02467ba)\" fill=\"none\" stroke=\"#000000\" stroke-linecap=\"square\" stroke-width=\"2\"/><path d=\"m114.46 134.46h204.53\" clip-path=\"url(#p68a02467ba)\" fill=\"none\" stroke=\"#000000\" stroke-linecap=\"square\" stroke-width=\"2\"/><path d=\"m137.19 89.012v-45.451\" clip-path=\"url(#p68a02467ba)\" fill=\"none\" stroke=\"#6fa4ff\" stroke-linecap=\"square\" stroke-width=\"2\"/><path d=\"m182.64 134.46v-45.451\" clip-path=\"url(#p68a02467ba)\" fill=\"none\" stroke=\"#6fa4ff\" stroke-linecap=\"square\" stroke-width=\"2\"/><path d=\"m228.09 89.012v-45.451\" clip-path=\"url(#p68a02467ba)\" fill=\"none\" stroke=\"#6fa4ff\" stroke-linecap=\"square\" stroke-width=\"2\"/><path d=\"m273.54 134.46v-45.451\" clip-path=\"url(#p68a02467ba)\" fill=\"none\" stroke=\"#6fa4ff\" stroke-linecap=\"square\" stroke-width=\"2\"/><path d=\"m137.19 47.992c1.1752 0 2.3025-0.46693 3.1335-1.2979 0.83102-0.83102 1.2979-1.9583 1.2979-3.1335s-0.46693-2.3025-1.2979-3.1335c-0.83102-0.83102-1.9583-1.2979-3.1335-1.2979s-2.3025 0.46693-3.1335 1.2979c-0.83102 0.83102-1.2979 1.9583-1.2979 3.1335s0.46693 2.3025 1.2979 3.1335c0.83102 0.83102 1.9583 1.2979 3.1335 1.2979z\" clip-path=\"url(#p68a02467ba)\" fill=\"#6fa4ff\" stroke=\"#6fa4ff\" stroke-width=\"1.5\"/><path d=\"m137.19 99.352c2.7422 0 5.3725-1.0895 7.3116-3.0285 1.939-1.939 3.0285-4.5693 3.0285-7.3116s-1.0895-5.3725-3.0285-7.3116c-1.939-1.939-4.5693-3.0285-7.3116-3.0285s-5.3725 1.0895-7.3116 3.0285c-1.939 1.939-3.0285 4.5693-3.0285 7.3116s1.0895 5.3725 3.0285 7.3116c1.939 1.939 4.5693 3.0285 7.3116 3.0285z\" clip-path=\"url(#p68a02467ba)\" fill=\"#6fa4ff\" stroke=\"#6fa4ff\" stroke-width=\"2\"/><path d=\"m182.64 93.443c1.1752 0 2.3025-0.46693 3.1335-1.2979 0.83102-0.83102 1.2979-1.9583 1.2979-3.1335s-0.46693-2.3025-1.2979-3.1335c-0.83102-0.83102-1.9583-1.2979-3.1335-1.2979s-2.3025 0.46693-3.1335 1.2979c-0.83102 0.83102-1.2979 1.9583-1.2979 3.1335s0.46693 2.3025 1.2979 3.1335c0.83102 0.83102 1.9583 1.2979 3.1335 1.2979z\" clip-path=\"url(#p68a02467ba)\" fill=\"#6fa4ff\" stroke=\"#6fa4ff\" stroke-width=\"1.5\"/><path d=\"m182.64 144.8c2.7422 0 5.3725-1.0895 7.3116-3.0285 1.939-1.939 3.0285-4.5693 3.0285-7.3116s-1.0895-5.3725-3.0285-7.3116c-1.939-1.939-4.5693-3.0285-7.3116-3.0285s-5.3725 1.0895-7.3116 3.0285c-1.939 1.939-3.0285 4.5693-3.0285 7.3116s1.0895 5.3725 3.0285 7.3116c1.939 1.939 4.5693 3.0285 7.3116 3.0285z\" clip-path=\"url(#p68a02467ba)\" fill=\"#6fa4ff\" stroke=\"#6fa4ff\" stroke-width=\"2\"/><path d=\"m228.09 47.992c1.1752 0 2.3025-0.46693 3.1335-1.2979 0.83102-0.83102 1.2979-1.9583 1.2979-3.1335s-0.46693-2.3025-1.2979-3.1335c-0.83102-0.83102-1.9583-1.2979-3.1335-1.2979s-2.3025 0.46693-3.1335 1.2979c-0.83102 0.83102-1.2979 1.9583-1.2979 3.1335s0.46693 2.3025 1.2979 3.1335c0.83102 0.83102 1.9583 1.2979 3.1335 1.2979z\" clip-path=\"url(#p68a02467ba)\" fill=\"#6fa4ff\" stroke=\"#6fa4ff\" stroke-width=\"1.5\"/><path d=\"m228.09 99.352c2.7422 0 5.3725-1.0895 7.3116-3.0285 1.939-1.939 3.0285-4.5693 3.0285-7.3116s-1.0895-5.3725-3.0285-7.3116c-1.939-1.939-4.5693-3.0285-7.3116-3.0285s-5.3725 1.0895-7.3116 3.0285c-1.939 1.939-3.0285 4.5693-3.0285 7.3116s1.0895 5.3725 3.0285 7.3116c1.939 1.939 4.5693 3.0285 7.3116 3.0285z\" clip-path=\"url(#p68a02467ba)\" fill=\"#6fa4ff\" stroke=\"#6fa4ff\" stroke-width=\"2\"/><path d=\"m273.54 93.443c1.1752 0 2.3025-0.46693 3.1335-1.2979 0.83102-0.83102 1.2979-1.9583 1.2979-3.1335s-0.46693-2.3025-1.2979-3.1335c-0.83102-0.83102-1.9583-1.2979-3.1335-1.2979s-2.3025 0.46693-3.1335 1.2979c-0.83102 0.83102-1.2979 1.9583-1.2979 3.1335s0.46693 2.3025 1.2979 3.1335c0.83102 0.83102 1.9583 1.2979 3.1335 1.2979z\" clip-path=\"url(#p68a02467ba)\" fill=\"#6fa4ff\" stroke=\"#6fa4ff\" stroke-width=\"1.5\"/><path d=\"m273.54 144.8c2.7422 0 5.3725-1.0895 7.3116-3.0285 1.939-1.939 3.0285-4.5693 3.0285-7.3116s-1.0895-5.3725-3.0285-7.3116c-1.939-1.939-4.5693-3.0285-7.3116-3.0285s-5.3725 1.0895-7.3116 3.0285c-1.939 1.939-3.0285 4.5693-3.0285 7.3116s1.0895 5.3725 3.0285 7.3116c1.939 1.939 4.5693 3.0285 7.3116 3.0285z\" clip-path=\"url(#p68a02467ba)\" fill=\"#6fa4ff\" stroke=\"#6fa4ff\" stroke-width=\"2\"/><path d=\"m137.19 94.92v-11.817\" clip-path=\"url(#p68a02467ba)\" fill=\"none\" stroke=\"#ffffff\" stroke-linecap=\"square\" stroke-width=\"2\"/><path d=\"m131.28 89.012h11.817\" clip-path=\"url(#p68a02467ba)\" fill=\"none\" stroke=\"#ffffff\" stroke-linecap=\"square\" stroke-width=\"2\"/><path d=\"m182.64 140.37v-11.817\" clip-path=\"url(#p68a02467ba)\" fill=\"none\" stroke=\"#ffffff\" stroke-linecap=\"square\" stroke-width=\"2\"/><path d=\"m176.73 134.46h11.817\" clip-path=\"url(#p68a02467ba)\" fill=\"none\" stroke=\"#ffffff\" stroke-linecap=\"square\" stroke-width=\"2\"/><path d=\"m228.09 94.92v-11.817\" clip-path=\"url(#p68a02467ba)\" fill=\"none\" stroke=\"#ffffff\" stroke-linecap=\"square\" stroke-width=\"2\"/><path d=\"m222.18 89.012h11.817\" clip-path=\"url(#p68a02467ba)\" fill=\"none\" stroke=\"#ffffff\" stroke-linecap=\"square\" stroke-width=\"2\"/><path d=\"m273.54 140.37v-11.817\" clip-path=\"url(#p68a02467ba)\" fill=\"none\" stroke=\"#ffffff\" stroke-linecap=\"square\" stroke-width=\"2\"/><path d=\"m267.63 134.46h11.817\" clip-path=\"url(#p68a02467ba)\" fill=\"none\" stroke=\"#ffffff\" stroke-linecap=\"square\" stroke-width=\"2\"/><g clip-path=\"url(#p68a02467ba)\"><defs><path id=\"DejaVuSans-Oblique-113\" d=\"m41.703 8.2031q-3.6094-4.7344-8.5312-7.1875-4.9062-2.4375-10.859-2.4375-8.2969 0-13.016 5.5938-4.7031 5.5938-4.7031 15.406 0 7.9062 2.9062 15.281t8.3281 13.234q3.5156 3.8125 8.0781 5.8594t9.5938 2.0469q6.0469 0 9.9531-2.3906t5.6719-7.2188l1.5625 8.2031h9.0312l-14.594-75.203h-9.0469zm-27.781 12.703q0-7.2344 3.0156-11.016 3.0312-3.7812 8.75-3.7812 8.5 0 14.5 8.125t6 19.75q0 7.0312-3.1094 10.766-3.0938 3.7344-8.8906 3.7344-4.25 0-7.875-1.9844-3.6094-1.9688-6.2969-5.7812-2.8281-4-4.4688-9.375-1.625-5.3594-1.625-10.438z\"/><path id=\"DejaVuSans-48\" d=\"m31.781 66.406q-7.6094 0-11.453-7.5-3.8281-7.4844-3.8281-22.531 0-14.984 3.8281-22.484 3.8438-7.5 11.453-7.5 7.6719 0 11.5 7.5 3.8438 7.5 3.8438 22.484 0 15.047-3.8438 22.531-3.8281 7.5-11.5 7.5zm0 7.8125q12.266 0 18.734-9.7031 6.4688-9.6875 6.4688-28.141 0-18.406-6.4688-28.109-6.4688-9.6875-18.734-9.6875-12.25 0-18.719 9.6875-6.4688 9.7031-6.4688 28.109 0 18.453 6.4688 28.141 6.4688 9.7031 18.719 9.7031z\"/></defs><g transform=\"translate(73.701 48.012) scale(.1625 -.1625)\"><use xlink:href=\"#DejaVuSans-Oblique-113\"/><use transform=\"translate(63.477 -16.406) scale(.7)\" xlink:href=\"#DejaVuSans-48\"/></g></g><g clip-path=\"url(#p68a02467ba)\"><defs><path id=\"DejaVuSans-49\" d=\"m12.406 8.2969h16.109v55.625l-17.531-3.5156v8.9844l17.438 3.5156h9.8594v-64.609h16.109v-8.2969h-41.984z\"/></defs><g transform=\"translate(73.701 93.463) scale(.1625 -.1625)\"><use xlink:href=\"#DejaVuSans-Oblique-113\"/><use transform=\"translate(63.477 -16.406) scale(.7)\" xlink:href=\"#DejaVuSans-49\"/></g></g><g clip-path=\"url(#p68a02467ba)\"><defs><path id=\"DejaVuSans-50\" d=\"m19.188 8.2969h34.422v-8.2969h-46.281v8.2969q5.6094 5.8125 15.297 15.594 9.7031 9.7969 12.188 12.641 4.7344 5.3125 6.6094 9 1.8906 3.6875 1.8906 7.25 0 5.8125-4.0781 9.4688-4.0781 3.6719-10.625 3.6719-4.6406 0-9.7969-1.6094-5.1406-1.6094-11-4.8906v9.9688q5.9531 2.3906 11.125 3.6094 5.1875 1.2188 9.4844 1.2188 11.328 0 18.062-5.6719 6.7344-5.6562 6.7344-15.125 0-4.5-1.6875-8.5312-1.6719-4.0156-6.125-9.4844-1.2188-1.4219-7.7656-8.1875-6.5312-6.7656-18.453-18.922z\"/></defs><g transform=\"translate(73.701 138.91) scale(.1625 -.1625)\"><use xlink:href=\"#DejaVuSans-Oblique-113\"/><use transform=\"translate(63.477 -16.406) scale(.7)\" xlink:href=\"#DejaVuSans-50\"/></g></g><defs><clipPath id=\"p68a02467ba\"><rect x=\"7.2\" y=\"7.2\" width=\"316.34\" height=\"154.53\"/></clipPath></defs></svg>"
      ],
      "text/plain": [
       "<Figure size 418.992x204.68 with 1 Axes>"
      ]
     },
     "execution_count": 27,
     "metadata": {},
     "output_type": "execute_result"
    }
   ],
   "source": [
    "sub_circuit = QuantumCircuit(3, name='toggle_cx')\n",
    "sub_circuit.cx(0,1)\n",
    "sub_circuit.cx(1,2)\n",
    "sub_circuit.cx(0,1)\n",
    "sub_circuit.cx(1,2)\n",
    "\n",
    "sub_circuit.draw(output='mpl')"
   ]
  },
  {
   "cell_type": "markdown",
   "metadata": {},
   "source": [
    "これを1つのゲートに変換して："
   ]
  },
  {
   "cell_type": "code",
   "execution_count": 28,
   "metadata": {},
   "outputs": [],
   "source": [
    "toggle_cx = sub_circuit.to_instruction()"
   ]
  },
  {
   "cell_type": "markdown",
   "metadata": {},
   "source": [
    "その後、選択した量子ビットのセットを使って、別な回路に挿入できます。"
   ]
  },
  {
   "cell_type": "code",
   "execution_count": 29,
   "metadata": {},
   "outputs": [
    {
     "data": {
      "image/svg+xml": [
       "<?xml version=\"1.0\" encoding=\"UTF-8\"?><!DOCTYPE svg  PUBLIC '-//W3C//DTD SVG 1.1//EN'  'http://www.w3.org/Graphics/SVG/1.1/DTD/svg11.dtd'><svg width=\"338.92pt\" height=\"214.38pt\" version=\"1.1\" viewBox=\"0 0 338.92 214.38\" xmlns=\"http://www.w3.org/2000/svg\" xmlns:xlink=\"http://www.w3.org/1999/xlink\"><defs><style type=\"text/css\">*{stroke-linecap:butt;stroke-linejoin:round;}</style></defs><path d=\"m0 214.38h338.92v-214.38h-338.92z\" fill=\"#ffffff\"/><path d=\"m122.65 43.561h204.53\" clip-path=\"url(#pf935fae8ec)\" fill=\"none\" stroke=\"#000000\" stroke-linecap=\"square\" stroke-width=\"2\"/><path d=\"m122.65 89.012h204.53\" clip-path=\"url(#pf935fae8ec)\" fill=\"none\" stroke=\"#000000\" stroke-linecap=\"square\" stroke-width=\"2\"/><path d=\"m122.65 134.46h204.53\" clip-path=\"url(#pf935fae8ec)\" fill=\"none\" stroke=\"#000000\" stroke-linecap=\"square\" stroke-width=\"2\"/><path d=\"m122.65 179.91h204.53\" clip-path=\"url(#pf935fae8ec)\" fill=\"none\" stroke=\"#000000\" stroke-linecap=\"square\" stroke-width=\"2\"/><path d=\"m139.69 194.69h147.72v-120.45h-147.72z\" clip-path=\"url(#pf935fae8ec)\" fill=\"#bb8bff\" stroke=\"#bb8bff\" stroke-width=\"1.5\"/><g clip-path=\"url(#pf935fae8ec)\"><defs><path id=\"DejaVuSans-48\" d=\"m31.781 66.406q-7.6094 0-11.453-7.5-3.8281-7.4844-3.8281-22.531 0-14.984 3.8281-22.484 3.8438-7.5 11.453-7.5 7.6719 0 11.5 7.5 3.8438 7.5 3.8438 22.484 0 15.047-3.8438 22.531-3.8281 7.5-11.5 7.5zm0 7.8125q12.266 0 18.734-9.7031 6.4688-9.6875 6.4688-28.141 0-18.406-6.4688-28.109-6.4688-9.6875-18.734-9.6875-12.25 0-18.719 9.6875-6.4688 9.7031-6.4688 28.109 0 18.453 6.4688 28.141 6.4688 9.7031 18.719 9.7031z\"/></defs><g transform=\"translate(147.08 92.599) scale(.13 -.13)\"><use xlink:href=\"#DejaVuSans-48\"/></g></g><g clip-path=\"url(#pf935fae8ec)\"><defs><path id=\"DejaVuSans-49\" d=\"m12.406 8.2969h16.109v55.625l-17.531-3.5156v8.9844l17.438 3.5156h9.8594v-64.609h16.109v-8.2969h-41.984z\"/></defs><g transform=\"translate(147.08 138.05) scale(.13 -.13)\"><use xlink:href=\"#DejaVuSans-49\"/></g></g><g clip-path=\"url(#pf935fae8ec)\"><defs><path id=\"DejaVuSans-50\" d=\"m19.188 8.2969h34.422v-8.2969h-46.281v8.2969q5.6094 5.8125 15.297 15.594 9.7031 9.7969 12.188 12.641 4.7344 5.3125 6.6094 9 1.8906 3.6875 1.8906 7.25 0 5.8125-4.0781 9.4688-4.0781 3.6719-10.625 3.6719-4.6406 0-9.7969-1.6094-5.1406-1.6094-11-4.8906v9.9688q5.9531 2.3906 11.125 3.6094 5.1875 1.2188 9.4844 1.2188 11.328 0 18.062-5.6719 6.7344-5.6562 6.7344-15.125 0-4.5-1.6875-8.5312-1.6719-4.0156-6.125-9.4844-1.2188-1.4219-7.7656-8.1875-6.5312-6.7656-18.453-18.922z\"/></defs><g transform=\"translate(147.08 183.5) scale(.13 -.13)\"><use xlink:href=\"#DejaVuSans-50\"/></g></g><g clip-path=\"url(#pf935fae8ec)\"><defs><path id=\"DejaVuSans-116\" d=\"m18.312 70.219v-15.531h18.5v-6.9844h-18.5v-29.688q0-6.6875 1.8281-8.5938t7.4531-1.9062h9.2188v-7.5156h-9.2188q-10.406 0-14.359 3.875-3.9531 3.8906-3.9531 14.141v29.688h-6.5938v6.9844h6.5938v15.531z\"/><path id=\"DejaVuSans-111\" d=\"m30.609 48.391q-7.2188 0-11.422-5.6406t-4.2031-15.453 4.1719-15.453q4.1875-5.6406 11.453-5.6406 7.1875 0 11.375 5.6562 4.2031 5.6719 4.2031 15.438 0 9.7188-4.2031 15.406-4.1875 5.6875-11.375 5.6875zm0 7.6094q11.719 0 18.406-7.625 6.7031-7.6094 6.7031-21.078 0-13.422-6.7031-21.078-6.6875-7.6406-18.406-7.6406-11.766 0-18.438 7.6406-6.6562 7.6562-6.6562 21.078 0 13.469 6.6562 21.078 6.6719 7.625 18.438 7.625z\"/><path id=\"DejaVuSans-103\" d=\"m45.406 27.984q0 9.7656-4.0312 15.125-4.0156 5.375-11.297 5.375-7.2188 0-11.25-5.375-4.0312-5.3594-4.0312-15.125 0-9.7188 4.0312-15.094t11.25-5.375q7.2812 0 11.297 5.375 4.0312 5.375 4.0312 15.094zm8.9844-21.203q0-13.953-6.2031-20.766-6.1875-6.8125-18.984-6.8125-4.7344 0-8.9375 0.70312t-8.1562 2.1719v8.7344q3.9531-2.1406 7.8125-3.1562 3.8594-1.0312 7.8594-1.0312 8.8438 0 13.234 4.6094t4.3906 13.938v4.4531q-2.7812-4.8438-7.125-7.2344t-10.406-2.3906q-10.047 0-16.203 7.6562-6.1562 7.6719-6.1562 20.328 0 12.688 6.1562 20.344 6.1562 7.6719 16.203 7.6719 6.0625 0 10.406-2.3906t7.125-7.2188v8.2969h8.9844z\"/><path id=\"DejaVuSans-108\" d=\"m9.4219 75.984h8.9844v-75.984h-8.9844z\"/><path id=\"DejaVuSans-101\" d=\"m56.203 29.594v-4.3906h-41.312q0.59375-9.2812 5.5938-14.141t13.938-4.8594q5.1719 0 10.031 1.2656t9.6562 3.8125v-8.5q-4.8438-2.0469-9.9219-3.125t-10.297-1.0781q-13.094 0-20.734 7.6094-7.6406 7.625-7.6406 20.625 0 13.422 7.25 21.297 7.25 7.8906 19.562 7.8906 11.031 0 17.453-7.1094 6.4219-7.0938 6.4219-19.297zm-8.9844 2.6406q-0.09375 7.3594-4.125 11.75-4.0312 4.4062-10.672 4.4062-7.5156 0-12.031-4.25t-5.2031-11.969z\"/><path id=\"DejaVuSans-95\" d=\"m50.984-16.609v-6.9688h-51.969v6.9688z\"/><path id=\"DejaVuSans-99\" d=\"m48.781 52.594v-8.4062q-3.8125 2.1094-7.6406 3.1562t-7.7344 1.0469q-8.75 0-13.594-5.5469-4.8281-5.5312-4.8281-15.547t4.8281-15.562q4.8438-5.5312 13.594-5.5312 3.9062 0 7.7344 1.0469t7.6406 3.1562v-8.3125q-3.7656-1.75-7.7969-2.625-4.0156-0.89062-8.5625-0.89062-12.359 0-19.641 7.7656-7.2656 7.7656-7.2656 20.953 0 13.375 7.3438 21.031 7.3594 7.6719 20.156 7.6719 4.1406 0 8.0938-0.85938 3.9531-0.84375 7.6719-2.5469z\"/><path id=\"DejaVuSans-120\" d=\"m54.891 54.688-19.781-26.609 20.797-28.078h-10.594l-15.922 21.484-15.906-21.484h-10.609l21.25 28.609-19.438 26.078h10.594l14.5-19.484 14.5 19.484z\"/></defs><g transform=\"translate(182.29 137.87) scale(.13 -.13)\"><use xlink:href=\"#DejaVuSans-116\"/><use x=\"39.208984\" xlink:href=\"#DejaVuSans-111\"/><use x=\"100.390625\" xlink:href=\"#DejaVuSans-103\"/><use x=\"163.867188\" xlink:href=\"#DejaVuSans-103\"/><use x=\"227.34375\" xlink:href=\"#DejaVuSans-108\"/><use x=\"255.126953\" xlink:href=\"#DejaVuSans-101\"/><use x=\"316.650391\" xlink:href=\"#DejaVuSans-95\"/><use x=\"366.650391\" xlink:href=\"#DejaVuSans-99\"/><use x=\"421.630859\" xlink:href=\"#DejaVuSans-120\"/></g></g><g clip-path=\"url(#pf935fae8ec)\"><defs><path id=\"DejaVuSans-Oblique-113\" d=\"m41.703 8.2031q-3.6094-4.7344-8.5312-7.1875-4.9062-2.4375-10.859-2.4375-8.2969 0-13.016 5.5938-4.7031 5.5938-4.7031 15.406 0 7.9062 2.9062 15.281t8.3281 13.234q3.5156 3.8125 8.0781 5.8594t9.5938 2.0469q6.0469 0 9.9531-2.3906t5.6719-7.2188l1.5625 8.2031h9.0312l-14.594-75.203h-9.0469zm-27.781 12.703q0-7.2344 3.0156-11.016 3.0312-3.7812 8.75-3.7812 8.5 0 14.5 8.125t6 19.75q0 7.0312-3.1094 10.766-3.0938 3.7344-8.8906 3.7344-4.25 0-7.875-1.9844-3.6094-1.9688-6.2969-5.7812-2.8281-4-4.4688-9.375-1.625-5.3594-1.625-10.438z\"/></defs><g transform=\"translate(71.32 48.012) scale(.1625 -.1625)\"><use transform=\"translate(0 .09375)\" xlink:href=\"#DejaVuSans-Oblique-113\"/><use transform=\"translate(63.477 .09375)\" xlink:href=\"#DejaVuSans-49\"/><use transform=\"translate(128.06 -16.312) scale(.7)\" xlink:href=\"#DejaVuSans-48\"/></g></g><g clip-path=\"url(#pf935fae8ec)\"><g transform=\"translate(71.32 93.463) scale(.1625 -.1625)\"><use transform=\"translate(0 .09375)\" xlink:href=\"#DejaVuSans-Oblique-113\"/><use transform=\"translate(63.477 .09375)\" xlink:href=\"#DejaVuSans-49\"/><use transform=\"translate(128.06 -16.312) scale(.7)\" xlink:href=\"#DejaVuSans-49\"/></g></g><g clip-path=\"url(#pf935fae8ec)\"><g transform=\"translate(71.32 138.91) scale(.1625 -.1625)\"><use transform=\"translate(0 .09375)\" xlink:href=\"#DejaVuSans-Oblique-113\"/><use transform=\"translate(63.477 .09375)\" xlink:href=\"#DejaVuSans-49\"/><use transform=\"translate(128.06 -16.312) scale(.7)\" xlink:href=\"#DejaVuSans-50\"/></g></g><g clip-path=\"url(#pf935fae8ec)\"><defs><path id=\"DejaVuSans-51\" d=\"m40.578 39.312q7.0781-1.5156 11.047-6.3125 3.9844-4.7812 3.9844-11.812 0-10.781-7.4219-16.703-7.4219-5.9062-21.094-5.9062-4.5781 0-9.4375 0.90625t-10.031 2.7188v9.5156q4.0938-2.3906 8.9688-3.6094 4.8906-1.2188 10.219-1.2188 9.2656 0 14.125 3.6562t4.8594 10.641q0 6.4531-4.5156 10.078-4.5156 3.6406-12.562 3.6406h-8.5v8.1094h8.8906q7.2656 0 11.125 2.9062t3.8594 8.375q0 5.6094-3.9844 8.6094-3.9688 3.0156-11.391 3.0156-4.0625 0-8.7031-0.89062-4.6406-0.875-10.203-2.7188v8.7812q5.625 1.5625 10.531 2.3438t9.25 0.78125q11.234 0 17.766-5.1094 6.5469-5.0938 6.5469-13.781 0-6.0625-3.4688-10.234t-9.8594-5.7812z\"/></defs><g transform=\"translate(71.32 184.36) scale(.1625 -.1625)\"><use transform=\"translate(0 .09375)\" xlink:href=\"#DejaVuSans-Oblique-113\"/><use transform=\"translate(63.477 .09375)\" xlink:href=\"#DejaVuSans-49\"/><use transform=\"translate(128.06 -16.312) scale(.7)\" xlink:href=\"#DejaVuSans-51\"/></g></g><defs><clipPath id=\"pf935fae8ec\"><rect x=\"7.2\" y=\"7.2\" width=\"324.52\" height=\"199.98\"/></clipPath></defs></svg>"
      ],
      "text/plain": [
       "<Figure size 429.828x264.88 with 1 Axes>"
      ]
     },
     "execution_count": 29,
     "metadata": {},
     "output_type": "execute_result"
    }
   ],
   "source": [
    "qr = QuantumRegister(4)\n",
    "new_qc = QuantumCircuit(qr)\n",
    "\n",
    "new_qc.append(toggle_cx, [qr[1],qr[2],qr[3]])\n",
    "\n",
    "new_qc.draw(output='mpl')"
   ]
  },
  {
   "cell_type": "markdown",
   "metadata": {},
   "source": [
    "### 実量子ハードウェアへのアクセス"
   ]
  },
  {
   "cell_type": "markdown",
   "metadata": {},
   "source": [
    "`IBMQ` パッケージを使用して、バックエンド・オブジェクトを設定することもできます。 これらを使用するには、[IBMQアカウントで署名する](https://qiskit.org/documentation/install.html#access-ibm-q-systems) 必要があります。資格情報が既にコンピューターに読み込まれていると仮定して、サインインします。"
   ]
  },
  {
   "cell_type": "code",
   "execution_count": 6,
   "metadata": {},
   "outputs": [
    {
     "data": {
      "text/plain": [
       "<AccountProvider for IBMQ(hub='ibm-q', group='open', project='main')>"
      ]
     },
     "execution_count": 6,
     "metadata": {},
     "output_type": "execute_result"
    }
   ],
   "source": [
    "IBMQ.load_account()"
   ]
  },
  {
   "cell_type": "markdown",
   "metadata": {},
   "source": [
    "次に、使用可能な追加のバックエンドを見てみましょう。"
   ]
  },
  {
   "cell_type": "code",
   "execution_count": 8,
   "metadata": {},
   "outputs": [
    {
     "name": "stdout",
     "output_type": "stream",
     "text": [
      "ibmq_qasm_simulator\n",
      "ibmq_armonk\n",
      "ibmq_santiago\n",
      "ibmq_bogota\n",
      "ibmq_lima\n",
      "ibmq_belem\n",
      "ibmq_quito\n",
      "simulator_statevector\n",
      "simulator_mps\n",
      "simulator_extended_stabilizer\n",
      "simulator_stabilizer\n",
      "ibmq_manila\n"
     ]
    }
   ],
   "source": [
    "provider = IBMQ.get_provider(hub='ibm-q')\n",
    "for backend in provider.backends():\n",
    "    print(backend)"
   ]
  },
  {
   "cell_type": "markdown",
   "metadata": {},
   "source": [
    "一つのシミュレーター、そして残りは量子デバイスのプロトタイプです。\n",
    "\n",
    "`status()` メソッドを使用すると、それらの状態を確認できます。"
   ]
  },
  {
   "cell_type": "code",
   "execution_count": 32,
   "metadata": {},
   "outputs": [
    {
     "name": "stdout",
     "output_type": "stream",
     "text": [
      "BackendStatus(backend_name='ibmq_qasm_simulator', backend_version='0.1.547', operational=True, pending_jobs=0, status_msg='active')\n",
      "BackendStatus(backend_name='ibmqx2', backend_version='2.0.5', operational=True, pending_jobs=21, status_msg='active')\n",
      "BackendStatus(backend_name='ibmq_16_melbourne', backend_version='2.0.6', operational=True, pending_jobs=3, status_msg='active')\n",
      "BackendStatus(backend_name='ibmq_vigo', backend_version='1.0.2', operational=True, pending_jobs=127, status_msg='active')\n",
      "BackendStatus(backend_name='ibmq_ourense', backend_version='1.0.1', operational=True, pending_jobs=131, status_msg='active')\n",
      "BackendStatus(backend_name='ibmq_london', backend_version='1.1.0', operational=True, pending_jobs=13, status_msg='active')\n",
      "BackendStatus(backend_name='ibmq_burlington', backend_version='1.1.4', operational=True, pending_jobs=2, status_msg='active')\n",
      "BackendStatus(backend_name='ibmq_essex', backend_version='1.0.1', operational=True, pending_jobs=12, status_msg='active')\n",
      "BackendStatus(backend_name='ibmq_armonk', backend_version='1.1.0', operational=True, pending_jobs=0, status_msg='active')\n"
     ]
    }
   ],
   "source": [
    "for backend in provider.backends():\n",
    "    print(backend.status())"
   ]
  },
  {
   "cell_type": "markdown",
   "metadata": {},
   "source": [
    "最大のパブリック・デバイスに対するバックエンド・オブジェクトを取得しましょう。"
   ]
  },
  {
   "cell_type": "code",
   "execution_count": 33,
   "metadata": {},
   "outputs": [],
   "source": [
    "real_device = provider.get_backend('ibmq_16_melbourne')"
   ]
  },
  {
   "cell_type": "markdown",
   "metadata": {},
   "source": [
    "これを使用して、エミュレーターと全く同じ方法でデバイス上でジョブを実行できます。\n",
    "\n",
    "プロパティの一部を抽出することもできます。"
   ]
  },
  {
   "cell_type": "code",
   "execution_count": 34,
   "metadata": {},
   "outputs": [],
   "source": [
    "properties = real_device.properties()\n",
    "coupling_map = real_device.configuration().coupling_map"
   ]
  },
  {
   "cell_type": "markdown",
   "metadata": {},
   "source": [
    "これから、デバイスのノイズを模倣するノイズ・モデルを構築できます（ノイズ・モデルについては本教科書にて後述します）。"
   ]
  },
  {
   "cell_type": "code",
   "execution_count": 35,
   "metadata": {},
   "outputs": [],
   "source": [
    "from qiskit.providers.aer.noise import NoiseModel\n",
    "\n",
    "noise_model = NoiseModel.from_backend(properties)"
   ]
  },
  {
   "cell_type": "markdown",
   "metadata": {},
   "source": [
    "そして、エミュレータでジョブを実行し、実デバイスのこれらの機能をすべて再現します。 以下は、ノイズのない場合に `'10'` を出力する回路の例です。"
   ]
  },
  {
   "cell_type": "code",
   "execution_count": 36,
   "metadata": {},
   "outputs": [
    {
     "data": {
      "text/plain": [
       "{'01': 1, '00': 39, '11': 4, '10': 980}"
      ]
     },
     "execution_count": 36,
     "metadata": {},
     "output_type": "execute_result"
    }
   ],
   "source": [
    "qc = QuantumCircuit(2,2)\n",
    "qc.x(1)\n",
    "qc.measure(0,0)\n",
    "qc.measure(1,1)\n",
    "\n",
    "job = execute(qc, emulator, shots=1024, noise_model=noise_model,\n",
    "                    coupling_map=coupling_map,\n",
    "                    basis_gates=noise_model.basis_gates)\n",
    "\n",
    "job.result().get_counts()"
   ]
  },
  {
   "cell_type": "markdown",
   "metadata": {},
   "source": [
    "以上で非常に基本的なことを説明しましたので、量子ビットと量子回路とは何か、さらに学んでいきましょう。"
   ]
  },
  {
   "cell_type": "code",
   "execution_count": 37,
   "metadata": {},
   "outputs": [
    {
     "data": {
      "text/plain": [
       "{'qiskit-terra': '0.12.0',\n",
       " 'qiskit-aer': '0.4.0',\n",
       " 'qiskit-ignis': '0.2.0',\n",
       " 'qiskit-ibmq-provider': '0.4.6',\n",
       " 'qiskit-aqua': '0.6.4',\n",
       " 'qiskit': '0.15.0'}"
      ]
     },
     "execution_count": 37,
     "metadata": {},
     "output_type": "execute_result"
    }
   ],
   "source": [
    "import qiskit\n",
    "qiskit.__qiskit_version__"
   ]
  }
 ],
 "metadata": {
  "kernelspec": {
   "display_name": "Python 3",
   "language": "python",
   "name": "python3"
  },
  "language_info": {
   "codemirror_mode": {
    "name": "ipython",
    "version": 3
   },
   "file_extension": ".py",
   "mimetype": "text/x-python",
   "name": "python",
   "nbconvert_exporter": "python",
   "pygments_lexer": "ipython3",
   "version": "3.9"
  }
 },
 "nbformat": 4,
 "nbformat_minor": 2
}
