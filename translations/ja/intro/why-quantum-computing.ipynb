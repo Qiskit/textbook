{
 "cells": [
  {
   "cell_type": "markdown",
   "metadata": {},
   "source": [
    "# なぜ量子コンピューティングなのか？"
   ]
  },
  {
   "cell_type": "markdown",
   "metadata": {},
   "source": [
    "## コンピューターとは何か？\n",
    "\n",
    "このページにアクセスされた方は、コンピューターがどのようなものかをご存知でしょう。今日、コンピューターは、ノートパソコンや携帯電話から、信号機を制御するシステムまで、様々な形で利用されています。コンピューターは何でもできるようです。これらのシステムは非常に複雑で特殊なものですが、共通しているのは、コンピューターがある入力情報に対して一連の命令を実行し、何らかの新しい（出力）情報を与えてくれることです。\n",
    "\n",
    "コンピューターに与える命令は、非常に具体的で曖昧さのないものである必要があります。このような命令の集合を「アルゴリズム」と呼び、コンピュータの研究の多くは、異なるアルゴリズムの挙動を研究しています。このコースでは、キーボードやマウス、画面は使わず、情報とアルゴリズムだけで構成される、最も単純なコンピューターについて考えます。\n",
    "\n",
    "![基本的にすべてのコンピューターをレンダリングするアーティスト](images/why-qc/basically_all_computers.png)"
   ]
  },
  {
   "cell_type": "markdown",
   "metadata": {
    "formulas": {
     "T": {
      "meaning": "これは、探索アルゴリズムの実行にかかる平均時間です。",
      "type": "ローカルで定義された変数"
     },
     "exp": {
      "meaning": "これは、秘密の番号の桁数です。これは上付き文字なので、10 を d 乗することを意味します。",
      "type": "ローカルで定義された変数"
     },
     "prop_to": {
      "meaning": "「比例」: この記号の左側にあるものはすべて、右側のものに<a href='https://en.wikipedia.org/wiki/Proportionality_(mathematics)'>比例</a>します。",
      "type": "ユニバーサル表記"
     }
    },
    "gloss": {
     "resources": {
      "text": "リソースは、アルゴリズムを実行するために必要なものです。コンピュータサイエンスでは、これは通常、アルゴリズムに必要な時間、またはスペース (コンピュータメモリなど) のいずれかを意味します。",
      "title": "リソース"
     }
    }
   },
   "source": [
    "## コンピューターのアルゴリズムの分類\n",
    "\n",
    "従来のコンピューターの中で量子コンピューターが果たす役割を理解するためには、まず、さまざまなアルゴリズムの性能をどのように測定するかを知る必要があります。\n",
    "\n",
    "コンピューターサイエンスでは、入力の大きさに応じて使用する[リソース](gloss:resources)がどのように大きくなるかでアルゴリズムを分類します。これをアルゴリズムの*複雑さ*と呼びます。例えば、ある数字が偶数かどうかを判断するアルゴリズムは、その数字の最後の一桁を見るだけでよいわけです。この場合、「入力」は数字で、「出力」は「偶数」か「奇数」のどちらかです。アルゴリズムが完了するまでの時間は、入力された数の大きさに依存しないので、これを*定数時間*アルゴリズムと呼びます。コンピューターによってこの結果を得るのにかかる時間は異なるかもしれませんが、それは他の要因によるもので、入力の長さによるものではありません。\n",
    "\n",
    "![数字が偶数か奇数かを計算するアルゴリズムの手順](images/why-qc/odd-even-algo.svg)\n",
    "\n",
    "別の例を見てみましょう。今回は、入力は同じ長さの2つの数で、問題はそれらを足すことです。この場合、出力は新しい数字になります。2つの複数桁の数字を足す場合、学校で習ったであろう一般的なアルゴリズムでは、それぞれの数字の右端の桁から始めて、それらを足し合わせます。そして、1桁左に移動して（結果が9より大きい場合は「1」を繰り越す）、この処理を繰り返します。コンピューターは、足すべき桁がなくなるまでこれを繰り返し、アルゴリズムを終了します。\n",
    "\n",
    "![足し算アルゴリズムの手順を示すアニメーション](images/why-qc/adding-algo.svg)\n",
    "\n",
    "<!-- ::: q-block.exercise -->\n",
    "\n",
    "### 足し算はどのくらい複雑なのか？\n",
    "\n",
    "<!-- ::: q-quiz(goal=\"intro-why-qc-0\") -->\n",
    "\n",
    "<!-- ::: .question -->\n",
    "\n",
    "この足し算アルゴリズムが完了するまでにかかる時間は...\n",
    "\n",
    "<!-- ::: -->\n",
    "\n",
    "<!-- ::: .option(correct) -->\n",
    "\n",
    "1. ...入力された数値の長さに線形に（比例して）増大する（線形時間）。\n",
    "\n",
    "<!-- ::: -->\n",
    "\n",
    "<!-- ::: .option -->\n",
    "\n",
    "1. ...入力された数値の長さに影響されない（定数時間）\n",
    "\n",
    "<!-- ::: -->\n",
    "\n",
    "<!-- ::: .option -->\n",
    "\n",
    "1. ...入力数の長さの2乗で大きくなる（2次時間）\n",
    "\n",
    "<!-- ::: -->\n",
    "\n",
    "<!-- ::: -->\n",
    "\n",
    "<!-- ::: -->\n",
    "\n",
    "繰り返しになりますが、コンピューターによってこのアルゴリズムの実行速度は異なります。ノートパソコンでは、人間の何百万倍もの速さで足し算を実行できます。しかし、1秒間に100万回の演算ができても、1回しかできなくても、増加率は同じです。\n",
    "\n",
    "![定数および線形実行時間と入力サイズとのグラフ（実行時間別）](images/why-qc/graph-linear-constant.svg)\n",
    "\n",
    "ここで最後に、私たちにとって非常に興味深い例を一つ紹介しましょう。秘密の番号（暗証番号など）を持っていて、それを当てるという問題があるとします。この場合、問題の大きさは番号の長さです。\n",
    "\n",
    "答えが正しいかどうかを確認する唯一の方法が、キーパッドに数字を打ち込むことだとしましょう。その数字が何であるかについての情報はないので、この秘密の数字を見つけるための最適なアルゴリズムは「総当り」方式を使用します。つまり、巧妙なことは何もせず、単に可能な限りの数字を試してみるということです。\n",
    "\n",
    "どれくらいの時間がかかるのでしょうか？さて、理論的には運が良ければ一回で答えを当てることができますが、これは非常に低い確率です。平均すると、可能な入力の約半分を試さなければならないので、アルゴリズムの実行時間は可能な組み合わせの数に比例します。そこで問題です。可能な組み合わせの数は、秘密番号の長さに応じてどのように増加するのでしょうか？\n",
    "\n",
    "![ブルートフォース検索アルゴリズムの手順を示すアニメーション](images/why-qc/search-algo.svg)\n",
    "\n",
    "秘密の番号に桁を追加するごとに、可能な組み合わせの数が10倍されます。例えば、1桁の秘密の数字には10の可能性があり (0, 1, 2, 3, 4, 5, 6, 7, 8, 9)、2桁の秘密の数字には100の可能性があるのです。各桁を当てるのにかかる時間が（長さに関係なく）同じだと仮定すると、次のように数学的に表すことができます。\n",
    "\n",
    "$$ \\cssId{T}{T} \\cssId{prop_to}{\\propto} 10^\\cssId{exp}{d}$$\n",
    "\n",
    "この式では桁数(d)が指数であることにお気づきでしょう。このように、これは*指数時間*アルゴリズムであり、実行時間は入力の長さに対して指数関数的に増加する、と言います。\n",
    "\n",
    "![定数、線形、および指数関数的な実行時間と入力サイズのグラフ（実行時間別）](images/why-qc/graph-all.svg)"
   ]
  },
  {
   "cell_type": "markdown",
   "metadata": {
    "gloss": {
     "intractable": {
      "text": "困難な問題とは、理論的には解決できるものの、実際には多くのリソースを必要とする問題です。",
      "title": "困難な"
     }
    }
   },
   "source": [
    "## なぜ、このようにアルゴリズムを測定するのか？\n",
    "\n",
    "コンピューターによって得意分野が異なるため、あるコンピューター上では別のコンピューター上よりもある演算が速くなることがあります。入力サイズに対する時間の増加を研究することによって、アルゴリズムとコンピューターの特定の組み合わせではなく、デバイス固有の詳細を無視し、実際に「アルゴリズム」を測定することができます。重要なことは、アルゴリズムが入力サイズに対してどのように変化するかを知ることで、アルゴリズムが管理可能な大きさになるかどうかもわかるということです。\n",
    "\n",
    "上で見た線形時間足し算のアルゴリズムについて考えてみましょう。10桁の数字を1秒につき2つ足すことができたとしたら、直線的な伸び率から、20桁の数字を2秒で足すことができるはずです。10桁増えるごとに、計算時間はおよそ1秒ずつ増えていくはずです。\n",
    "\n",
    "これに対して、上記の指数時間探索アルゴリズムを使って、10桁の暗証番号を1秒で見つけることができたと想像してください。これは、あなたのコンピューターが1秒間に約5,000,000,000通りの組み合わせを試せるほど高速であることを意味します。このアルゴリズムを使ったコンピューターが20桁の暗証番号を見つけるには、およそ10,000,000,000秒（約300年）かかると予想されます。さらに10桁を追加すると、約3,000,000,000年（宇宙の年齢の約200倍）にもなります。指数関数時間アルゴリズムは、わずかな入力（この場合は約30桁）であっても、実行するのが難しいだけでなく、文字通り不可能になる可能性があるのです。\n",
    "\n",
    "この暗証番号探索問題は、できるだけ単純にするための人工的な例ですが、コンピューターサイエンスには、非効率なアルゴリズムしかない現実の問題が数多く存在します。今日のコンピューターは驚くほど高速ですが、これらの[困難な](gloss:intractable)問題は、最大のスーパーコンピューターでも難しすぎることがあります。\n",
    "\n",
    "しかし、より効率的に時間増加するアルゴリズムが見つかれば、比較的遅いコンピューターや信頼性の低いコンピューターでも、これらの困難な問題を突然処理できるようになるかもしれません。そこで登場するのが、量子コンピューターです。\n",
    "\n",
    "## 量子コンピューターはどのように役立つのか？\n",
    "\n",
    "これまで、アルゴリズムというものを非常に抽象的に考えてきましたが、そのアルゴリズムを実行するコンピューターは現実の世界に存在しなければなりません。そのコンピューターが高性能なマイクロチップであろうと、紙とペンを持った人間であろうと、すべてのコンピューターは最終的に物理法則に支配されており、その演算によって私たちが作れるアルゴリズムが限定されてしまうのです。\n",
    "\n",
    "物理学は、宇宙に存在するすべてのものが従う一連のルールを解明しようとするものです。20世紀初頭、実験室での繊細な実験を通して、物理学者たちは、現在の物理学では説明できないような奇妙な振る舞いを目にしました。このことは、物理法則が正確でないことを意味します。そこで彼らは、より完全な「量子」物理学を開発し、この挙動を非常にうまく説明することに成功しました。\n",
    "\n",
    "物理学者は、これまで見たこともないような振る舞いを説明するために量子物理学を生み出し、コンピューター科学者は、新しく発見されたこの振る舞いを利用することで、より効率的なアルゴリズムが作成することが（理論的には）できることを発見したのです。その結果、従来のコンピューターでは困難な問題でも、この振る舞いを利用できる「量子」コンピューターであれば解決できると考えられるものがあります。そのひとつが*整数の因数分解*です。\n",
    "\n",
    "「$x$」と呼ぶ整数があるとします。因数分解アルゴリズムでは、$p×q = x$となるような整数 $p$ と $q$ を求めます。これは簡単な場合もあります。$2000 = 2 × 1000$と一目でわかりますが、$x$が2つの大きな素数の積の場合はこの問題は非常に難しくなります。整数の因数分解について語るとき、最も困難な（最悪の）シナリオを想定することになります。下のコードセルでは、変数<code>x</code>に250桁の数字を代入しています。"
   ]
  },
  {
   "cell_type": "code",
   "execution_count": 1,
   "metadata": {
    "tags": []
   },
   "outputs": [],
   "source": [
    "# pylint: disable=line-too-long, invalid-name\n",
    "x = 2140324650240744961264423072839333563008614715144755017797754920881418023447140136643345519095804679610992851872470914587687396261921557363047454770520805119056493106687691590019759405693457452230589325976697471681738069364894699871578494975937497937"
   ]
  },
  {
   "cell_type": "markdown",
   "metadata": {
    "gloss": {
     "coreyears": {
      "text": "従来のコンピューターチップは、多くの場合、<a href=\"https://en.wikipedia.org/wiki/Multi-core_processor\">「コア」</a> と呼ばれるプロセッサで構成されています。 <i>コア年</i>は、これらのコアの1つを1年間継続して使用することに相当します。参考までに、最近のラップトップには約2～4個のコアがあります。この数値の意味は、コアがどれだけ強力かによって異なりますが、これにより、関連する計算能力の大まかなアイデアが得られるはずです。",
      "title": "コア年"
     }
    }
   },
   "source": [
    "2020年に、研究者は古典的なスーパーコンピューターと~2700[コア年](gloss:coreyears)の処理能力を用いてこの数を因数分解しました。これは大規模な作業であり、本稿執筆時点では記録破りである。彼らの結果は、以下のコードセルで確認することができます（幸運なことに、私たちには乗算の効率的なアルゴリズムがあります！）。"
   ]
  },
  {
   "cell_type": "code",
   "execution_count": 2,
   "metadata": {
    "tags": []
   },
   "outputs": [
    {
     "data": {
      "text/plain": [
       "True"
      ]
     },
     "execution_count": 2,
     "metadata": {},
     "output_type": "execute_result"
    }
   ],
   "source": [
    "p = 64135289477071580278790190170577389084825014742943447208116859632024532344630238623598752668347708737661925585694639798853367\n",
    "q = 33372027594978156556226010605355114227940760344767554666784520987023841729210037080257448673296881877565718986258036932062711\n",
    "\n",
    "p*q == x  # 「True」と評価される"
   ]
  },
  {
   "cell_type": "markdown",
   "metadata": {
    "gloss": {
     "RSA": {
      "text": "RSA数は、RSA因数分解チャレンジから取得した数です。これらの数値は因数分解が困難になるように意図的に選択されています。<p>「RSA」は、これらの大きな数値を使用して情報を暗号化するプロトコルを発明した3人の名前の頭文字です。",
      "title": "RSA数"
     }
    }
   },
   "source": [
    "表示される出力は、セルの最終行の値です。この場合、<code>p*q == x</code>は<code>True</code>と評価されることがわかります。数学的に証明されているわけではありませんが、従来のコンピューターでこのような数の因数分解を行う効率的なアルゴリズムが存在しないことは確かです。実際、インターネットの暗号化の多くは、この問題が困難であるという仮定に依存しており、617桁の[RSA](gloss:RSA)数の因数分解は不可能であるとされています。一方、量子コンピューターでは、十分な大きさの量子コンピューターができれば、1日以内にこれらの数字を因数分解することができると推定される効率的な因数分解アルゴリズムがわかっています。"
   ]
  },
  {
   "cell_type": "markdown",
   "metadata": {
    "gloss": {
     "noise": {
      "text": "ノイズは、有用な情報と区別するのが難しい、役に立たない情報です。たとえば、近くで大声で話している人がたくさんいる場合、誰かがあなたに話しかけているのを聞くのは困難です。",
      "title": "ノイズ"
     },
     "qiskit": {
      "text": "Qiskit は、量子コンピューターを操作するためのソフトウェア開発キットです。",
      "title": "Qiskit"
     },
     "qubits": {
      "text": "「qubit」は「量子ビット」です。これらについては、このコースの後半で学習します。",
      "title": "Qubit"
     },
     "transistor": {
      "text": "トランジスターは電子デバイスです。それらは、電流のオンとオフを切り替えるために使用することができ、コンピュータープロセッサーを構築するために使用することができます。",
      "title": "トランジスター"
     }
    }
   },
   "source": [
    "## 今、私たちはどこにいるのか？\n",
    "\n",
    "量子コンピューターは、より効率的なアルゴリズムを実行できることが分かっていますが、現在ある量子コンピューターは小さくて不安定なため、従来のコンピューターと比較して優位性を発揮することはできません。\n",
    "\n",
    "量子コンピューターが解決できる問題の大きさを制限する要因は、ごく単純に考えても2つあります。1つ目は、量子コンピューターが保存・処理できるデータの量です。これは通常、[*量子ビット*](gloss:qubits)で測定されます。もし十分な量子ビットがなければ、あるサイズ以上の問題を保存・処理することはできません。2つ目は、量子コンピューターのエラーレートです。量子的な振る舞いは、実験室での繊細な実験でしか見ることができないため、量子コンピューターを作るのは繊細な作業です。今ある量子コンピューターはノイズが多いので、よく間違いますし、結果に「[ノイズ](gloss:noise)」が入ります。ノイズが多すぎると、結果が意味のないものになってしまうのです！\n",
    "\n",
    "今のところ、量子コンピューターは実験的なものです。量子ビットの数やエラーレートに制限があるため、現在解決できる最大の問題は、従来のコンピューターでも容易に解決できるものです。\n",
    "\n",
    "未来のある時点で、これは変わるでしょう。量子コンピューターを使った方が、従来のコンピューターよりも経済的に有利に問題を解決できるという「量子アドバンテージ」に到達するのです。なぜそれがわかるのでしょうか？*なぜなら、私たちはアルゴリズムをその増加率で測っているからです！*量子コンピューターが順調に発展し続ける限り、いずれは古典的なコンピューターを追い抜くことが分かっているのです。\n",
    "\n",
    "![(予測された)古典的因数分解能力と量子因数分解能力の経時的な比較](images/why-qc/q-vs-c.svg)\n",
    "\n",
    "617桁のRSA数を1日以内に因数分解するには、~2,000万のノイズのある量子ビットが必要であるとされています。本稿執筆時点で、IBMは現在65量子ビットの量子コンピューターを保有しており、2023年までに1000量子ビットを超えるシステムの構築を目指しています。このマイルストーンのずっと前に、量子アドバンテージをもたらすと思われるアルゴリズムが他にもありますが、まだまだ先の話と思われるかもしれません。\n",
    "\n",
    "以下のコードを使用すると、単純な量子プログラムを作成し、IBM Quantum に送信して、実際の量子コンピューターで実行できます。 IBM Quantum は、このプログラムを 4000 回実行します。このプログラムは確率論的であり、結果は半分が`000` 、残りの半分が `111` になるはずです。ご覧のとおり、これらは唯一の結果ではありません。ノイズのために他の出力を測定する可能性がわずかにあります。"
   ]
  },
  {
   "cell_type": "code",
   "execution_count": 3,
   "metadata": {
    "tags": [
     "uses-hardware"
    ]
   },
   "outputs": [
    {
     "name": "stdout",
     "output_type": "stream",
     "text": [
      "Running on <IBMBackend('ibm_lagos')>\n",
      "Job Status: job has successfully run\n"
     ]
    },
    {
     "data": {
      "image/png": "[encoded data removed]",
      "text/plain": [
       "<Figure size 700x500 with 1 Axes>"
      ]
     },
     "execution_count": 3,
     "metadata": {},
     "output_type": "execute_result"
    }
   ],
   "source": [
    "# 1. Create a simple quantum program called a 'quantum circuit'.\n",
    "from qiskit import QuantumCircuit\n",
    "qc = QuantumCircuit(3)\n",
    "qc.h(0)\n",
    "qc.cx(0, [1, 2])\n",
    "qc.measure_all()\n",
    "\n",
    "# 2. Ask IBM Quantum for its least busy device that isn't a simulator.\n",
    "#    If you're running this example locally, you need to load your\n",
    "#    account with your IBM Quantum API token\n",
    "\n",
    "from qiskit_ibm_provider import IBMProvider, least_busy\n",
    "# Save account credentials.\n",
    "# IBMProvider.save_account(token=MY_API_TOKEN)\n",
    "\n",
    "# Load a previously saved account.\n",
    "provider = IBMProvider()\n",
    "\n",
    "device = least_busy(\n",
    "            provider.backends(\n",
    "                filters= lambda x: not x.configuration().simulator\n",
    "            )\n",
    "        )\n",
    "print(f'Running on {device}')\n",
    "\n",
    "\n",
    "# 3. Convert the program to a form the device can run.\n",
    "#    This is known as 'transpiling'\n",
    "from qiskit import transpile\n",
    "transpiled_qc = transpile(qc, device)\n",
    "\n",
    "# 4. Send the program off to IBM Quantum to run on a real device\n",
    "#    and monitor its status.\n",
    "from qiskit.tools import job_monitor\n",
    "job = device.run(transpiled_qc)\n",
    "job_monitor(job)\n",
    "\n",
    "# 5. Plot the results as a histogram.\n",
    "from qiskit.visualization import plot_histogram\n",
    "plot_histogram(job.result().get_counts())"
   ]
  },
  {
   "cell_type": "markdown",
   "metadata": {
    "gloss": {
     "noise": {
      "text": "ノイズは、有用な情報と区別するのが難しい、役に立たない情報です。たとえば、近くで大声で話している人がたくさんいる場合、誰かがあなたに話しかけているのを聞くのは困難です。",
      "title": "ノイズ"
     },
     "qiskit": {
      "text": "Qiskit は、量子コンピューターを操作するためのソフトウェア開発キットです。",
      "title": "Qiskit"
     },
     "qubits": {
      "text": "「qubit」は「量子ビット」です。これらについては、このコースの後半で学習します。",
      "title": "Qubit"
     },
     "transistor": {
      "text": "トランジスターは電子デバイスです。それらは、電流のオンとオフを切り替えるために使用することができ、コンピュータープロセッサーを構築するために使用することができます。",
      "title": "トランジスター"
     }
    }
   },
   "source": [
    "従来のコンピューターがどこから来たのか、思い起こしてみる必要があります。下の写真は、1947年に作られた最初の[トランジスター](gloss:transistor)の写真です。トランジスターは、現代のコンピュータープロセッサーの構成要素です。\n",
    "\n",
    "![（予測された）古典的素因数分解能力と量子素因数分解能力の経時的な比較](images/why-qc/first-transistor.jpg)画像クレジット: 連邦職員<a href=\"https://clintonwhitehouse4.archives.gov/Initiatives/Millennium/capsule/mayo.html\">リンク</a>、<a href=\"https://commons.wikimedia.org/w/index.php?curid=554340\">パブリックドメイン</a>。\n",
    "\n",
    "それから70年、現代のコンピューターチップには、何十億というトランジスターが搭載されています。\n",
    "\n",
    "このコースの残りの部分では、より効率的なアルゴリズムを作成することを可能にする量子効果を探ります。このコースの終わりには、ソフトウェアパッケージである[Qiskit](gloss:qiskit)を使って、これらのアルゴリズムの1つを実行する量子コンピューターをプログラムすることができるようになるはずです。"
   ]
  },
  {
   "cell_type": "markdown",
   "metadata": {},
   "source": [
    "<!-- ::: q-block.exercise -->\n",
    "\n",
    "### クイッククイズ\n",
    "\n",
    "<!-- ::: q-quiz(goal=\"intro-why-qc-1\") -->\n",
    "\n",
    "<!-- ::: .question -->\n",
    "\n",
    "量子コンピューターは、いずれ...\n",
    "\n",
    "<!-- ::: -->\n",
    "\n",
    "<!-- ::: .option(correct) -->\n",
    "\n",
    "1. ...従来のコンピューターでは困難な計算を行うことができます。\n",
    "\n",
    "<!-- ::: -->\n",
    "\n",
    "<!-- ::: .option -->\n",
    "\n",
    "1. ...従来のコンピューターに置き換わります。\n",
    "\n",
    "<!-- ::: -->\n",
    "\n",
    "<!-- ::: .option -->\n",
    "\n",
    "1. ...従来のコンピューターの速度を向上させます。\n",
    "\n",
    "<!-- ::: -->\n",
    "\n",
    "<!-- ::: -->\n",
    "\n",
    "<!-- ::: -->"
   ]
  }
 ],
 "metadata": {
  "kernelspec": {
   "display_name": "Python 3 (ipykernel)",
   "language": "python",
   "name": "python3"
  },
  "language_info": {
   "codemirror_mode": {
    "name": "ipython",
    "version": 3
   },
   "file_extension": ".py",
   "mimetype": "text/x-python",
   "name": "python",
   "nbconvert_exporter": "python",
   "pygments_lexer": "ipython3",
   "version": "3.10.8"
  },
  "widgets": {
   "application/vnd.jupyter.widget-state+json": {
    "state": {},
    "version_major": 2,
    "version_minor": 0
   }
  }
 },
 "nbformat": 4,
 "nbformat_minor": 4
}
