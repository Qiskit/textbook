{
  "cells": [
    {
      "cell_type": "markdown",
      "metadata": {
      },
      "source": [
        "# プロジェクト"
      ]
    },
    {
      "cell_type": "markdown",
      "metadata": {
        "gloss": {
          "git": {
            "text": "Git is a program you can use to track changes to computer files. Git tracks the entire state of a folder (known as a Git repository).",
            "title": "Git"
          },
          "github": {
            "text": "Github is a website you can use to host your project. Similar to video / image sharing websites, but aimed at software developers. As well as hosting software, Github also makes it easy to display your project and collaborate with others.",
            "title": "GitHub"
          },
          "slack": {
            "text": "Slack is a messaging app.",
            "title": "Slack"
          }
        }
      },
      "source": [
        "## おめでとうございます！\n",
        "\n",
        "![トロフィー](images/project/trophy.png)\n",
        "\n",
        "おめでとうございます。あなたは、このコースの授業パートを終了しました。あなたは以下を含む多くのことを学びました。\n",
        "\n",
        "- 測定および異なるアルゴリズムの比較\n",
        "- 計算をビットおよびゲートに分解する方法\n",
        "- 量子干渉とは何か、およびそれがもたらす効果\n",
        "- 量子もつれとは何か、およびそれが量子コンピューターのシミュレーションをいかに難しくしているか\n",
        "- 量子コンピューターを利用した探索アルゴリズムの改善方法\n",
        "\n",
        "## ガイド付きプロジェクトを完成させる\n",
        "\n",
        "量子コンピューティングについて楽しく学んでいただけたでしょうか？そのような方は、ぜひプロジェクトに挑戦してください。プロジェクトでは、あなたが面白いと思う分野を選び、それを調査してください。プロジェクトの最終的な形は、調査内容を説明するブログ記事でも、Qiskit自体の改良でも、何でもかまいません。\n",
        "\n",
        "### ステップ1: コミュニティとつながる\n",
        "\n",
        "Qiskit [Slack](gloss:slack)ワークスペースは、まだ参加していないのであれば、質問したりサポートを受けたりするのに最適な場所です。Qiskitとこのオンラインテキストブックの開発者はそこにたむろしていますし、多くの学生や愛好家もそこにいます。[このリンク](https://qisk.it/join-slack)から参加でき、[`#textbook-projects`](https://qiskit.slack.com/archives/C028AGU6KDX)チャンネルで自己紹介することができます。\n",
        "\n",
        "### ステップ2: GitHubの利用を開始する\n",
        "\n",
        "[GitHub](gloss:github)を使うことで、以下のことが可能になります。\n",
        "\n",
        "- 自分が書いたコードを表示する。\n",
        "- [GitHub pages](https://pages.github.com/)を使って、あなた自身のウェブページを作成する（例: ブログやオンラインデモ）。\n",
        "- [Qiskit](https://github.com/Qiskit/qiskit-terra)をフォークし、issueの作業を開始する。\n",
        "\n",
        "[Git](gloss:git)とGitHubは素晴らしいツールですが、かなりの数の専門用語もあります。これらの用語に出会ったときには、ツールチップを表示するようにします。\n",
        "\n",
        "GitHubのクイックスタートガイドは[こちら](https://docs.github.com/en/get-started/quickstart)に従うとよいでしょう。"
      ]
    },
    {
      "cell_type": "markdown",
      "metadata": {
      },
      "source": [
        "### ステップ3: プロジェクトを決定する\n",
        "\n",
        "あなたのプロジェクトは何でも構いません。あなたのアイデアを[`#textbook-projects`](https://qiskit.slack.com/archives/C028AGU6KDX) Slackチャンネルに投稿して、メンターからアドバイスをもらったり、一緒にコラボレーションする仲間を探したりすることができます。\n",
        "\n",
        "以下は、あなたの想像力を刺激するいくつかのアイデアです。項目の各セットは、簡単なものから難しいものへと大まかに分類されています。これらのアイデアの一つを使っても、アレンジしても、全く違うことをしても構いません。\n",
        "\n",
        "<!-- ::: q-block.tabs -->\n",
        "\n",
        "## プロジェクトのアイデア\n",
        "\n",
        "<!-- ::: tab -->\n",
        "\n",
        "### 執筆ベース\n",
        "\n",
        "もしあなたが文章を書くのが好きなら\n",
        "\n",
        "- 学んだこと、体験したことをブログで紹介する。ブログで、量子コンピューティングや他の興味ある分野を通しての旅を記録する。\n",
        "- ハーディーのパラドックスについて、「数学が嫌いな人」または「パズルが好きな人」など、特定のターゲットの読者に向けて説明するブログ記事を書く。\n",
        "- QiskitテキストブックのGitHubレポジトリで未解決のissueに取り組む、または、あなたが改善できるかもしれないと思う変更を提案する。\n",
        "- 量子コンピューターのアプリケーション案について調べてみる。どのような優位性があるのか？また、その優位性に到達するためには、量子コンピューターにどのような性能が必要なのだろうか？大胆な主張と疑似科学に注意すること。その結果をブログで発表してみる。\n",
        "\n",
        "<!-- ::: tab -->\n",
        "\n",
        "### コードベース\n",
        "\n",
        "もしあなたがコードを書くのが好きなら\n",
        "\n",
        "- 与えられた文字列に対してオラクルを作るプログラムを作る（例: `01101`が与えられると、状態 $|01101\\rangle$ の位相を反転させ、他のすべての状態を変更しない`QuantumCircuit`を返すようなオラクル）。\n",
        "- Qiskit Terraのレポジトリーで未解決のissueに取り組む。\n",
        "- 問題からオラクル回路を構築するプログラムを作成する（前のページで`PhaseOracle`クラスが行っているようなもの）。問題の大きさに応じて回路のサイズがどのように大きくなるかを評価してみる。\n",
        "- [量子ゲーム](https://github.com/qiskit-community/Qisge)を作ってみる。\n",
        "\n",
        "<!-- ::: tab -->\n",
        "\n",
        "### より理論的に\n",
        "\n",
        "もしあなたが数学的な側面が好きなら\n",
        "\n",
        "- 複数の解がある場合に、グローバーのアルゴリズムは何回オラクルに問い合わせる必要があるか計算してみる。その結果をブログで紹介する。\n",
        "- 「量子コンピューターのための数学」の紹介文を書く。他の量子コンピューターの教科書を読むのに必要な数学について調べ、新たに学ぶ人のためのガイドを作成する。\n",
        "- シェーニングのアルゴリズムとグローバーのアルゴリズムをどのように組み合わせるかを検討する。そのための回路はどのようなものだろうか？潜在的な問題点はないか？\n",
        "\n",
        "<!-- ::: tab -->\n",
        "\n",
        "### 何か別のもの\n",
        "\n",
        "もしあなたがもっと軽いプロジェクトが好きなら\n",
        "\n",
        "- 量子コンピューティングについての歌を作る。SoundcloudやYouTubeに投稿してみる。\n",
        "- このコースで出会った興味深い概念を表現した作品を作る。それを説明する短いブログ記事を書く。\n",
        "- Qiskitと[MatPlotLib](https://matplotlib.org/)（または[Bokeh](https://docs.bokeh.org/en/latest/index.html)など） を使って、視覚的に面白いものを作ってみる。それを発表し説明する短いブログ記事を書いてみる。\n",
        "\n",
        "<!-- ::: -->\n",
        "\n",
        "<!-- ::: -->"
      ]
    },
    {
      "cell_type": "markdown",
      "metadata": {
      },
      "source": [
        "### ステップ4: 楽しむ\n",
        "\n",
        "目標に向かって作業を開始します。もしプロジェクトが難しすぎると感じたり、行き詰まったり、単に飽きてしまったら、[`#textbook-projects`](https://qiskit.slack.com/archives/C028AGU6KDX)チャンネルで助けを求めてください。メンターが正しい方向を示してくれたり、プロジェクトの目標を調整する手助けをしてくれたりします。\n",
        "\n",
        "### ステップ5: 作品を共有する\n",
        "\n",
        "時間と労力をかけたら、[`#textbook-projects`](https://qiskit.slack.com/archives/C028AGU6KDX)チャンネルで他の人と作品を共有しましょう。GitHubのプロフィールやGitHub pagesのウェブページを管理しておくと、あなたの知識や経験を他の人に証明するのに使うことができます（例: 応募や面接の時に）。"
      ]
    }
  ],
  "metadata": {
    "kernelspec": {
      "display_name": "Python 3",
      "language": "python",
      "name": "python3"
    },
    "language_info": {
      "codemirror_mode": {
        "name": "ipython",
        "version": 3
      },
      "file_extension": ".py",
      "mimetype": "text/x-python",
      "name": "python",
      "nbconvert_exporter": "python",
      "pygments_lexer": "ipython3",
      "version": "3.9"
    }
  },
  "nbformat": 4,
  "nbformat_minor": 4
}
