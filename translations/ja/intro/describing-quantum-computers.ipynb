{
 "cells": [
  {
   "cell_type": "markdown",
   "metadata": {
    "gloss": {
     "complex-number": {
      "text": "Complex numbers can be made from combinations of real and <a href='https://en.wikipedia.org/wiki/Imaginary_number'>imaginary numbers</a>. If you're not sure what this means, don't worry! You won't need to in this course (but you can <a href='https://en.wikipedia.org/wiki/Complex_number'>read more</a> if you're interested.",
      "title": "Complex number"
     },
     "esoteric": {
      "text": "Esoteric words are specialized words that most people won't understand. We'll try to avoid them as much as possible, but they can be useful sometimes.",
      "title": "esoteric"
     },
     "real-number": {
      "text": "A real number is a number that only has a magnitude. If you've not heard of a real number before, you can probably drop the 'real' and just call them 'numbers'. Examples of real numbers include: 112, -5.4, and π. <a href='https://en.wikipedia.org/wiki/Real_number'>Read more</a>.",
      "title": "Real number"
     }
    }
   },
   "source": [
    "# 量子コンピューターの記述\n",
    "\n",
    "この章では、量子コンピューターを記述するために使用する様々な数学的オブジェクトと表記法を紹介します。記号や方程式、専門的な語彙を使うことで、非常に簡潔に数学と向き合い、コミュニケーションすることができます。しかし、記号の意味を知らないと理解するのが難しく、人を遠ざけることにもなりかねません。そこで、このテキストブックでは、数式をインタラクティブに表示します。記号の上にマウスを乗せると、その記号が何を意味しているかがわかります。また、数学や量子コンピューターの言葉を話せるようになるために、[難解な](gloss:esoteric)単語を少しずつ散りばめ、これらの単語にマウスを乗せると、その単語の解説を見ることができるようになっています。\n",
    "\n",
    "## 振幅\n",
    "\n",
    "古典的な確率は0から1の間の[実数](gloss:real-number)で表されることが多いですが、振幅は方向も持っています。振幅を表現するための自然な候補は[複素数](gloss:complex-number)です。複素数も大きさと方向の両方で完全に記述できますが、このコースでは、2方向（例えば左と右）を指す振幅だけを扱い、それ以外は気にしないことにしています。\n",
    "\n",
    "![振幅と確率を比較する画像](images/quantum-states/prob-vs-amp.svg)\n",
    "\n",
    "これにより、計算が非常にシンプルになります。つまり、振幅を-1から+1までの数字で表すことができ、その数字が正であれば振幅は前を向き、負であれば後ろを向いていることになるからです。しかし、これでも十分に面白いことができることがわかります。\n",
    "\n",
    "<!-- ::: q-block.exercise -->\n",
    "\n",
    "### クイッククイズ\n",
    "\n",
    "<!-- ::: q-quiz(goal=\"intro-describing-0\") -->\n",
    "\n",
    "<!-- ::: .question -->\n",
    "\n",
    "このうち、有効な振幅ではあるが、有効な確率では*ない*ものはどれか？\n",
    "\n",
    "<!-- ::: -->\n",
    "\n",
    "<!-- ::: .option(correct) -->\n",
    "\n",
    "1. $-1$\n",
    "\n",
    "<!-- ::: -->\n",
    "\n",
    "<!-- ::: .option -->\n",
    "\n",
    "1. $1/3$\n",
    "\n",
    "<!-- ::: -->\n",
    "\n",
    "<!-- ::: .option -->\n",
    "\n",
    "1. $1.01$\n",
    "\n",
    "<!-- ::: -->\n",
    "\n",
    "<!-- ::: .option -->\n",
    "\n",
    "1. $\\sqrt{-2}$\n",
    "\n",
    "<!-- ::: -->\n",
    "\n",
    "<!-- ::: -->\n",
    "\n",
    "<!-- ::: -->"
   ]
  },
  {
   "cell_type": "markdown",
   "metadata": {
    "formulas": {
     "_amp-0-0": {
      "meaning": "This is the amplitude of the two-qubit state <code>00</code>, it's equal to the square-root of a half."
     },
     "_amp-1-0": {
      "meaning": "This is the amplitude of the two-qubit state <code>01</code>, it's equal to the square-root of a half."
     },
     "_amp-2-0": {
      "meaning": "This is the amplitude of the two-qubit state <code>10</code>, it's equal to 0."
     },
     "_amp-3-0": {
      "meaning": "This is the amplitude of the two-qubit state <code>11</code>, it's equal to 0."
     },
     "def-equal": {
      "meaning": "This means we are defining the things on the left of this symbol to be equal to the things on the right of this symbol."
     },
     "x-ket": {
      "meaning": "This is a vector we have labelled '|x⟩', the '|' and '⟩' remind us this label refers to a vector.",
      "say": "ket x"
     }
    }
   },
   "source": [
    "## 状態ベクトル\n",
    "\n",
    "前ページでは、計算の各段階における各結果の確率振幅を記録することで、量子系の振る舞いを予測することができることを紹介しました。また、n個の量子ビットに対して、$2^n$ 個の可能な結果があり、これらの振幅を長さ $2^n$ のリストに格納することができることを確認しました。これらのベクトルは量子ビットの状態を表すので、私たちは「状態ベクトル」と呼んでいます。\n",
    "\n",
    "ここでは、2つの量子ビットを持つ量子コンピューターの状態ベクトルの例を示します。\n",
    "\n",
    "$$\\class{x-ket}{|x\\rangle} \\class{def-equal}{:=} \\begin{bmatrix}\\cssId{_amp-0-0}{\\sqrt{\\tfrac{1}{2}}} \\\\ \\cssId{_amp-1-0}{\\sqrt{\\tfrac{1}{2}}} \\\\ \\cssId{_amp-2-0}{0} \\\\ \\cssId{_amp-3-0}{0} \\end{bmatrix}$$\n",
    "\n",
    "上の式のツールチップを読んでから、以下の質問に答えてください。\n",
    "\n",
    "<!-- ::: q-block.exercise -->\n",
    "\n",
    "### クイッククイズ\n",
    "\n",
    "<!-- ::: q-quiz(goal=\"intro-describing-1\") -->\n",
    "\n",
    "<!-- ::: .question -->\n",
    "\n",
    "上の状態ベクトルにおいて、結果'01'の*振幅*は何か？\n",
    "\n",
    "<!-- ::: -->\n",
    "\n",
    "<!-- ::: .option -->\n",
    "\n",
    "1. $1$\n",
    "\n",
    "<!-- ::: -->\n",
    "\n",
    "<!-- ::: .option(correct) -->\n",
    "\n",
    "1. $\\sqrt{\\tfrac{1}{2}}$\n",
    "\n",
    "<!-- ::: -->\n",
    "\n",
    "<!-- ::: .option -->\n",
    "\n",
    "1. $1/2$\n",
    "\n",
    "<!-- ::: -->\n",
    "\n",
    "<!-- ::: .option -->\n",
    "\n",
    "1. $0$\n",
    "\n",
    "<!-- ::: -->\n",
    "\n",
    "<!-- ::: -->\n",
    "\n",
    "***\n",
    "\n",
    "<!-- ::: q-quiz(goal=\"intro-describing-2\") -->\n",
    "\n",
    "<!-- ::: .question -->\n",
    "\n",
    "上の状態ベクトルがいくつかの量子ビットの状態を表しているとしたら、'00'を測定する*確率*はいくらか？\n",
    "\n",
    "<!-- ::: -->\n",
    "\n",
    "<!-- ::: .option -->\n",
    "\n",
    "1. $1$\n",
    "\n",
    "<!-- ::: -->\n",
    "\n",
    "<!-- ::: .option -->\n",
    "\n",
    "1. $\\sqrt{\\tfrac{1}{2}}$\n",
    "\n",
    "<!-- ::: -->\n",
    "\n",
    "<!-- ::: .option(correct) -->\n",
    "\n",
    "1. $1/2$\n",
    "\n",
    "<!-- ::: -->\n",
    "\n",
    "<!-- ::: .option -->\n",
    "\n",
    "1. $0$\n",
    "\n",
    "<!-- ::: -->\n",
    "\n",
    "<!-- ::: -->\n",
    "\n",
    "<!-- ::: -->"
   ]
  },
  {
   "cell_type": "markdown",
   "metadata": {
    "formulas": {
     "_amp-0-1": {
      "meaning": "Multiplying this number by the scalar on the left of the vector gives us the amplitude of the state <code>00</code>."
     },
     "_amp-0-general": {
      "meaning": "This is the amplitude of the state <code>00</code>."
     },
     "_amp-1-1": {
      "meaning": "Multiplying this number by the scalar on the left of the vector gives us the amplitude of the state <code>01</code>."
     },
     "_amp-1-general": {
      "meaning": "This is the amplitude of the state <code>01</code>."
     },
     "_amp-2-1": {
      "meaning": "Multiplying this number by the scalar on the left of the vector gives us the amplitude of the state <code>10</code>."
     },
     "_amp-2-general": {
      "meaning": "This is the amplitude of the state <code>10</code>."
     },
     "_amp-3-1": {
      "meaning": "Multiplying this number by the scalar on the left of the vector gives us the amplitude of the state <code>11</code>."
     },
     "_amp-3-general": {
      "meaning": "This is the amplitude of the state <code>11</code>."
     },
     "_number-three": {
      "meaning": "This is just the normal number <a href='https://en.wikipedia.org/wiki/3'>three</a>. Because it's immediately next to the vector, it means we are multiplying the vector by this number.",
      "say": "Three"
     },
     "_psi-ket": {
      "meaning": "This is a vector we have labelled '|ψ⟩', the '|' and '⟩' remind us this label refers to a vector. The character 'ψ' is written 'psi' in english.",
      "say": "ket sigh (the 'p' is silent)"
     },
     "_sq-amp0": {
      "meaning": "This number is proportional to the amplitude of the state <code>0</code>."
     },
     "_sq-amp1": {
      "meaning": "This number is proportional to the amplitude of the state <code>1</code>."
     },
     "_vec-el-0": {
      "meaning": "This is the zeroth element of the vector."
     },
     "_vec-el-1": {
      "meaning": "This is the first element of the vector."
     },
     "_vec-el-2": {
      "meaning": "This is the second element of the vector."
     },
     "_vec-el-3": {
      "meaning": "This is the third element of the vector."
     },
     "_vec-el-n": {
      "meaning": "This is the (N-1)th element of the vector. Since there are N elements (and we started counting at 0), this is also the last element."
     },
     "def-00": {
      "meaning": "This is a statevector we are defining here (but is also a common convention in quantum computing) which corresponds to being in the state <code>00</code> with certainty."
     },
     "def-01": {
      "meaning": "This is a statevector we are defining here (but is also a common convention in quantum computing) which corresponds to being in the state <code>01</code> with certainty."
     },
     "def-10": {
      "meaning": "This is a statevector we are defining here (but is also a common convention in quantum computing) which corresponds to being in the state <code>10</code> with certainty."
     },
     "def-11": {
      "meaning": "This is a statevector we are defining here (but is also a common convention in quantum computing) which corresponds to being in the state <code>11</code> with certainty."
     },
     "dots": {
      "meaning": "These dots mean \"and so on\", implying a continuing pattern."
     },
     "equals": {
      "meaning": "Everything to the left of this sign is equal to everything to the right of the sign.",
      "say": "Equals"
     },
     "minus-ket": {
      "meaning": "This is a vector we have labelled '|-⟩', the '|' and '⟩' remind us this label refers to a vector.",
      "say": "ket minus"
     },
     "plus-ket": {
      "meaning": "This is a vector we have labelled '|+⟩', the '|' and '⟩' remind us this label refers to a vector.",
      "say": "ket plus"
     },
     "scalar": {
      "meaning": "This is just a normal number. Because it's immediately next to the vector, it means we are multiplying (i.e. scaling) the vector by this number."
     }
    },
    "gloss": {
     "scalar-gloss": {
      "text": "This is just a normal number, i.e. not a vector or matrix.",
      "title": "Scalar"
     }
    }
   },
   "source": [
    "## ベクトルの足し算と掛け算\n",
    "\n",
    "数学の他の分野を勉強すると、多くのものがベクトルとみなされることがわかります。ベクトルを「数のリスト」として紹介したのは、このテキストブックでもQiskitでもこのように考えるからです。しかし、ベクトルをただの数字のリストと区別するのは、数学者が2つのベクトルの足し算や、ベクトルと[スカラー](gloss:scalar-gloss)の掛け算について、明確に定義した規則を決めたからです。\n",
    "\n",
    "### ベクトルにスカラーを掛ける\n",
    "\n",
    "例えば、ここにスカラーを掛けたベクトルがあります。\n",
    "\n",
    "$$\n",
    "\\cssId{_number-three}{3}\n",
    "\\begin{bmatrix}\n",
    "\\class{_vec-el-0}{1} \\\\\n",
    "\\class{_vec-el-1}{2} \\\\\n",
    "\\class{_vec-el-2}{-1} \\\\\n",
    "\\class{_vec-el-3}{\\tfrac{1}{2}} \\\\\n",
    "\\end{bmatrix}\n",
    "\\class{equals}{=}\n",
    "\\begin{bmatrix}\n",
    "\\class{_vec-el-0}{3} \\\\\n",
    "\\class{_vec-el-1}{6} \\\\\n",
    "\\class{_vec-el-2}{-3} \\\\\n",
    "\\class{_vec-el-3}{\\tfrac{3}{2}} \\\\\n",
    "\\end{bmatrix}\n",
    "$$\n",
    "\n",
    "ベクトルの各要素が3倍されていることがわかります。要素を $N$ 個持つベクトルのより一般的な規則は次の通りです。\n",
    "\n",
    "$$\n",
    "\\class{scalar}{s}\n",
    "\\begin{bmatrix}\n",
    "\\class{_vec-el-0}{e_0} \\\\\n",
    "\\class{_vec-el-1}{e_1} \\\\\n",
    "\\class{_vec-el-2}{e_2} \\\\\n",
    "\\class{dots}{\\vdots} \\\\\n",
    "\\class{_vec-el-n}{e_{N-1}} \\\\\n",
    "\\end{bmatrix}\n",
    "\\class{equals}{=}\n",
    "\\begin{bmatrix}\n",
    "\\class{_vec-el-0}{s\\times e_0} \\\\\n",
    "\\class{_vec-el-1}{s\\times e_1} \\\\\n",
    "\\class{_vec-el-2}{s\\times e_2} \\\\\n",
    "\\class{dots}{\\vdots} \\\\\n",
    "\\class{_vec-el-n}{s\\times e_{N-1}} \\\\\n",
    "\\end{bmatrix}\n",
    "$$\n",
    "\n",
    "そこで、上で定義した状態ベクトル $|x\\rangle$ をもっときれいに書くと、次のようになります。\n",
    "\n",
    "$$\n",
    "\\class{x-ket}{|x\\rangle} = \\class{scalar}{\\sqrt{\\tfrac{1}{2}}} \\begin{bmatrix}\n",
    "\\cssId{_amp-0-1}{1} \\\\\n",
    "\\cssId{_amp-1-1}{1} \\\\\n",
    "\\cssId{_amp-2-1}{0} \\\\\n",
    "\\cssId{_amp-3-1}{0} \\\\\n",
    "\\end{bmatrix}\n",
    "$$\n",
    "\n",
    "### 2つのベクトルを足し合わせる\n",
    "\n",
    "2つ目の規則は、2つのベクトルを足し合わせることです。これは、2つのベクトルが同じ要素数を持つ場合にのみ定義され、同じ要素数を持つ新しいベクトルが得られます。以下は一般的なルールです。\n",
    "\n",
    "$$\n",
    "\\begin{bmatrix}\n",
    "\\class{_vec-el-0}{a_0} \\\\\n",
    "\\class{_vec-el-1}{a_1} \\\\\n",
    "\\class{_vec-el-2}{a_2} \\\\\n",
    "\\class{_vec-el-3}{a_3} \\\\\n",
    "\\class{dots}{\\vdots} \\\\\n",
    "\\class{_vec-el-n}{a_{N-1}} \\\\\n",
    "\\end{bmatrix}\n",
    "+\n",
    "\\begin{bmatrix}\n",
    "\\class{_vec-el-0}{b_0} \\\\\n",
    "\\class{_vec-el-1}{b_1} \\\\\n",
    "\\class{_vec-el-2}{b_2} \\\\\n",
    "\\class{_vec-el-3}{b_3} \\\\\n",
    "\\class{dots}{\\vdots} \\\\\n",
    "\\class{_vec-el-n}{b_{N-1}} \\\\\n",
    "\\end{bmatrix}\n",
    "\\class{equals}{=}\n",
    "\\begin{bmatrix}\n",
    "\\class{_vec-el-0}{a_0 + b_0} \\\\\n",
    "\\class{_vec-el-1}{a_1 + b_1} \\\\\n",
    "\\class{_vec-el-2}{a_2 + b_2} \\\\\n",
    "\\class{_vec-el-3}{a_3 + b_3} \\\\\n",
    "\\class{dots}{\\vdots} \\\\\n",
    "\\class{_vec-el-n}{a_{N-1} + b_{N-1}} \\\\\n",
    "\\end{bmatrix}\n",
    "$$\n",
    "\n",
    "つまり、ベクトルを足したり引いたりすることで、新しいベクトルを作ることができるのです。例えば、$|00\\rangle$ と $|01\\rangle$ というベクトルをそのように定義すると、以下のようになります。\n",
    "\n",
    "$$\n",
    "\\class{def-00}{|00\\rangle} \\class{def-equal}{:=}\n",
    "              \\begin{bmatrix} \\class{_amp-0-general}{1} \\\\\n",
    "                              \\class{_amp-1-general}{0} \\\\ \n",
    "                              \\class{_amp-2-general}{0} \\\\ \n",
    "                              \\class{_amp-3-general}{0}\n",
    "              \\end{bmatrix},\n",
    "\\quad\n",
    "\\class{def-01}{|01\\rangle} \\class{def-equal}{:=}\n",
    "              \\begin{bmatrix} \\class{_amp-0-general}{0} \\\\\n",
    "                              \\class{_amp-1-general}{1} \\\\ \n",
    "                              \\class{_amp-2-general}{0} \\\\\n",
    "                              \\class{_amp-3-general}{0}\n",
    "              \\end{bmatrix}\n",
    "$$\n",
    "\n",
    "$\\class{x-ket}{|x\\rangle}$ を以下の形で書くことができます。\n",
    "\n",
    "$$\\class{x-ket}{|x\\rangle} = \\sqrt{\\tfrac{1}{2}}(\\class{def-00}{|00\\rangle} + \\class{def-01}{|01\\rangle})$$\n",
    "\n",
    "このように量子状態を足し合わせることを「重ね合わせ」と呼び、「$|x\\rangle$ は状態 $|00\\rangle$ と $|01\\rangle$ の重ね合わせである。」と表現することができます。実際、量子コンピューターでは、そのように計算基底状態を定義するのが慣例になっています。\n",
    "\n",
    "$$\n",
    "\\class{def-00}{|00\\rangle} \\class{def-equal}{:=}\n",
    "              \\begin{bmatrix} \\class{_amp-0-general}{1} \\\\\n",
    "                              \\class{_amp-1-general}{0} \\\\ \n",
    "                              \\class{_amp-2-general}{0} \\\\ \n",
    "                              \\class{_amp-3-general}{0}\n",
    "              \\end{bmatrix},\n",
    "\\quad\n",
    "\\class{def-01}{|01\\rangle} \\class{def-equal}{:=}\n",
    "              \\begin{bmatrix} \\class{_amp-0-general}{0} \\\\\n",
    "                              \\class{_amp-1-general}{1} \\\\ \n",
    "                              \\class{_amp-2-general}{0} \\\\\n",
    "                              \\class{_amp-3-general}{0}\n",
    "              \\end{bmatrix},\n",
    "\\quad\n",
    "\\class{def-10}{|10\\rangle} \\class{def-equal}{:=}\n",
    "              \\begin{bmatrix} \\class{_amp-0-general}{0} \\\\ \n",
    "                              \\class{_amp-1-general}{0} \\\\ \n",
    "                              \\class{_amp-2-general}{1} \\\\ \n",
    "                              \\class{_amp-3-general}{0} \n",
    "              \\end{bmatrix},\n",
    "\\quad\n",
    "\\class{def-11}{|11\\rangle} \\class{def-equal}{:=} \n",
    "              \\begin{bmatrix} \\class{_amp-0-general}{0} \\\\ \n",
    "                              \\class{_amp-1-general}{0} \\\\ \n",
    "                              \\class{_amp-2-general}{0} \\\\ \n",
    "                              \\class{_amp-3-general}{1}\n",
    "              \\end{bmatrix}\n",
    "$$\n",
    "\n",
    "そして、それぞれのベクトルに正しい数を掛けて足し合わせれば、どんな量子状態もこれらの状態ベクトルの重ね合わせとして書くことができるのです。\n",
    "\n",
    "$$\n",
    "\\cssId{_psi-ket}{|\\psi\\rangle} = \n",
    "    \\class{_amp-0-general}{a_{00}}\\class{def-00}{|00\\rangle}\n",
    "  + \\class{_amp-1-general}{a_{01}}\\class{def-01}{|01\\rangle}\n",
    "  + \\class{_amp-2-general}{a_{10}}\\class{def-10}{|10\\rangle}\n",
    "  + \\class{_amp-3-general}{a_{11}}\\class{def-11}{|11\\rangle} \\class{equals}{=}\n",
    "\\begin{bmatrix}\n",
    "\\class{_amp-0-general}{a_{00}} \\\\\n",
    "\\class{_amp-1-general}{a_{01}} \\\\\n",
    "\\class{_amp-2-general}{a_{10}} \\\\\n",
    "\\class{_amp-3-general}{a_{11}} \\\\\n",
    "\\end{bmatrix}\n",
    "$$\n",
    "\n",
    "任意のベクトルをこの4つのベクトルの組み合わせとして書くことができるので、この4つのベクトルが基底を形成していると言い、これを「計算基底」と呼ぶことにします。計算基底は唯一の基底ではありません。単一量子ビットの場合、よく使われる基底は $\\class{plus-ket}{|{+}\\rangle}$ と $\\class{minus-ket}{|{-}\\rangle}$ というベクトルで形成されます。\n",
    "\n",
    "<!-- ::: column -->\n",
    "\n",
    "![同じ平面上の|0>, |1>基底と|+>, |->基底の両方を示す画像](images/quantum-states/basis.svg)\n",
    "\n",
    "<!-- ::: column -->\n",
    "\n",
    "$$\n",
    "\\class{plus-ket}{|{+}\\rangle} =\n",
    "\\sqrt{\\tfrac{1}{2}}\n",
    "\\begin{bmatrix}\n",
    "    \\class{_sq-amp0}{1} \\\\\n",
    "    \\class{_sq-amp1}{1}\n",
    "\\end{bmatrix}\n",
    "$$\n",
    "$$\n",
    "\\class{minus-ket}{|{-}\\rangle} =\n",
    "\\sqrt{\\tfrac{1}{2}}\n",
    "\\begin{bmatrix}\n",
    "    \\class{_sq-amp0}{1} \\\\\n",
    "    \\class{_sq-amp1}{-1}\n",
    "\\end{bmatrix}\n",
    "$$\n",
    "\n",
    "<!-- ::: -->\n",
    "\n",
    "<!-- ::: q-block.exercise -->\n",
    "\n",
    "### 試してみよう\n",
    "\n",
    "これらの式が成り立つような $\\alpha$, $\\beta$, $\\gamma$, $\\delta$ の値を求めよ。\n",
    "\n",
    "- $\\alpha|{+}\\rangle + \\beta|{-}\\rangle = |0\\rangle$\n",
    "- $\\gamma|{+}\\rangle + \\delta|{-}\\rangle = |1\\rangle$\n",
    "\n",
    "<!-- ::: -->"
   ]
  },
  {
   "cell_type": "markdown",
   "metadata": {
    "formulas": {
     "_amp-i": {
      "meaning": "'a<sub>i</sub>' is the amplitude of the state |i⟩, where |i⟩ is one of the computational basis states."
     },
     "sum": {
      "meaning": "This means we add up the things on the right with different values of i, starting at i=0.",
      "say": "'sum' or 'summation'. The character 'Σ' is capital <a href='https://en.wikipedia.org/wiki/Sigma'>sigma</a>."
     }
    },
    "gloss": {
     "matrix": {
      "text": "Matrices are tables of numbers. They also come with some rules for adding and multiplying like vectors did. <a href='https://en.wikipedia.org/wiki/Matrix_(mathematics)'>Read more</a>.",
      "title": "Matrix"
     }
    }
   },
   "source": [
    "## 状態ベクトルは何種類あるのだろうか？\n",
    "\n",
    "我々は、ベクトルを使って任意の量子状態を表現できることは知っていますが、どんなベクトルでも正しい量子状態なのでしょうか？違います。というのも、出力の発生確率は振幅を二乗して求まるので、振幅の二乗和が1にならないと整合しないのです。\n",
    "\n",
    "$$\n",
    "\\cssId{sum}{\\sum^{N-1}_{i=0}} \\cssId{_amp-i}{a_i}^2 = 1\n",
    "$$\n",
    "\n",
    "<!-- ::: q-block.exercise -->\n",
    "\n",
    "### クイッククイズ\n",
    "\n",
    "<!-- ::: q-quiz(goal=\"quiz2\") -->\n",
    "\n",
    "<!-- ::: .question -->\n",
    "\n",
    "この中で有効な量子状態はどれか？(振幅の2乗和を計算してみてください。）\n",
    "\n",
    "<!-- ::: -->\n",
    "\n",
    "<!-- ::: .option(correct) -->\n",
    "\n",
    "1. $\\sqrt{\\tfrac{1}{3}}\\begin{bmatrix} 1 \\\\\\\\ -1 \\\\\\\\ 1 \\\\\\\\ 0 \\end{bmatrix}$\n",
    "\n",
    "<!-- ::: -->\n",
    "\n",
    "<!-- ::: .option -->\n",
    "\n",
    "2. $\\sqrt{\\tfrac{1}{2}}\\begin{bmatrix} 1 \\\\\\\\ -1 \\\\\\\\ -1 \\\\\\\\ 1 \\end{bmatrix}$\n",
    "\n",
    "<!-- ::: -->\n",
    "\n",
    "<!-- ::: .option -->\n",
    "\n",
    "3. $\\tfrac{1}{2}\\begin{bmatrix} 1 \\\\\\\\ 1 \\end{bmatrix}$\n",
    "\n",
    "<!-- ::: -->\n",
    "\n",
    "<!-- ::: -->\n",
    "\n",
    "<!-- ::: -->\n",
    "\n",
    "もう1つの要因は、状態ベクトルの「グローバル位相」と呼ばれるものです。位相が生む干渉効果によってしか位相の存在を検知できないので、私達は位相の*差*しか測定することが出来ません。もし、状態ベクトルのすべての振幅を同じだけ回転させたとしても、まったく同じ振る舞いが見られるでしょう。\n",
    "\n",
    "<!-- ::: column -->\n",
    "\n",
    "![異なる開始時の位相での干渉効果を示す画像](images/quantum-states/global-phase-L.svg)\n",
    "\n",
    "<!-- ::: column -->\n",
    "\n",
    "![異なる開始時の位相での干渉効果を示す画像](images/quantum-states/global-phase-R.svg)\n",
    "\n",
    "<!-- ::: -->\n",
    "\n",
    "例えば、この2つの状態を区別するような実験はできません。\n",
    "\n",
    "<!-- ::: column -->\n",
    "\n",
    "$$\n",
    "|a\\rangle = \\sqrt{\\tfrac{1}{2}}\\begin{bmatrix} 1 \\\\ 0 \\\\ 0 \\\\ 1 \\end{bmatrix}\n",
    "$$\n",
    "\n",
    "<!-- ::: column -->\n",
    "\n",
    "$$\n",
    "-|a\\rangle = \\sqrt{\\tfrac{1}{2}}\\begin{bmatrix} -1 \\\\ 0 \\\\ 0 \\\\ -1 \\end{bmatrix}\n",
    "$$\n",
    "\n",
    "<!-- ::: -->\n",
    "\n",
    "なぜなら、それぞれの振幅の差は同じだからです。この2つのベクトルは*数学的には*異なるが*物理的には*同じと言えるでしょう。\n",
    "\n",
    "## 量子演算\n",
    "\n",
    "さて、量子ビットがとり得る様々な状態がわかったところで、ある状態から別の状態に変換する操作をどのように表現するかを見てみましょう。\n",
    "\n",
    "ある動作によってコインが表から裏へ変化する遷移確率があるように、量子ビットの始状態と終状態にはそれぞれ遷移振幅が存在するのです。この遷移振幅によって、任意の量子演算を記述することができます。\n",
    "\n",
    "![演算前後の2つの状態ベクトルを示す画像](images/quantum-states/quantum-operation.svg)\n",
    "\n",
    "では、どのような変換が可能なのでしょうか？例えば、始状態 $|a\\rangle$ があって、それが新しい状態 $|b\\rangle$ に変換されるとします。もし、私たちの表現がすべての可能な変換をカバーしたいのであれば、$|a\\rangle$ の各振幅は $|b\\rangle$ の各振幅への遷移振幅を持っている必要があります。\n",
    "\n",
    "<!-- ::: q-block.exercise -->\n",
    "\n",
    "### クイッククイズ\n",
    "\n",
    "<!-- ::: q-quiz(goal=\"intro-describing-3\") -->\n",
    "\n",
    "<!-- ::: .question -->\n",
    "\n",
    "$n$量子ビットの状態ベクトルは最大で $2^n$個の振幅を含むことができます。$n$量子ビットの量子演算を表現するために必要な遷移振幅の最大数値はいくつでしょう？\n",
    "\n",
    "<!-- ::: -->\n",
    "\n",
    "<!-- ::: .option -->\n",
    "\n",
    "1. $2\\cdot 2^n$\n",
    "\n",
    "<!-- ::: -->\n",
    "\n",
    "<!-- ::: .option(correct) -->\n",
    "\n",
    "2. $(2^n)^2$\n",
    "\n",
    "<!-- ::: -->\n",
    "\n",
    "<!-- ::: .option -->\n",
    "\n",
    "3. $2n$\n",
    "\n",
    "<!-- ::: -->\n",
    "\n",
    "<!-- ::: .option -->\n",
    "\n",
    "3. $2^{2^n}$\n",
    "\n",
    "<!-- ::: -->\n",
    "\n",
    "<!-- ::: -->\n",
    "\n",
    "<!-- ::: -->\n",
    "\n",
    "このように線を引くと、ちょっと面倒なので、代わりにこれらの数値をすべて [行列](gloss:matrix) に入れます。"
   ]
  },
  {
   "cell_type": "markdown",
   "metadata": {
    "formulas": {
     "_cnot-gate": {
      "meaning": "This is the label we have given the matrix that represents the CNOT gate."
     },
     "_t_amp_00_00": {
      "meaning": "This is the amplitude of this operation transforming the state <code>00</code> to <code>00</code>."
     },
     "_t_amp_00_01": {
      "meaning": "This is the amplitude of this operation transforming the state <code>00</code> to <code>01</code>."
     },
     "_t_amp_00_10": {
      "meaning": "This is the amplitude of this operation transforming the state <code>00</code> to <code>10</code>."
     },
     "_t_amp_00_11": {
      "meaning": "This is the amplitude of this operation transforming the state <code>00</code> to <code>11</code>."
     },
     "_t_amp_01_00": {
      "meaning": "This is the amplitude of this operation transforming the state <code>01</code> to <code>00</code>."
     },
     "_t_amp_01_01": {
      "meaning": "This is the amplitude of this operation transforming the state <code>01</code> to <code>01</code>."
     },
     "_t_amp_01_10": {
      "meaning": "This is the amplitude of this operation transforming the state <code>01</code> to <code>10</code>."
     },
     "_t_amp_01_11": {
      "meaning": "This is the amplitude of this operation transforming the state <code>01</code> to <code>11</code>."
     },
     "_t_amp_0_0": {
      "meaning": "This is proportional to the transition amplitude of this operation transforming the state <code>0</code> to <code>0</code>."
     },
     "_t_amp_0_1": {
      "meaning": "This is proportional to the transition amplitude of this operation transforming the state <code>0</code> to <code>1</code>."
     },
     "_t_amp_10_00": {
      "meaning": "This is the amplitude of this operation transforming the state <code>10</code> to <code>00</code>."
     },
     "_t_amp_10_01": {
      "meaning": "This is the amplitude of this operation transforming the state <code>10</code> to <code>01</code>."
     },
     "_t_amp_10_10": {
      "meaning": "This is the amplitude of this operation transforming the state <code>10</code> to <code>10</code>."
     },
     "_t_amp_10_11": {
      "meaning": "This is the amplitude of this operation transforming the state <code>10</code> to <code>11</code>."
     },
     "_t_amp_11_00": {
      "meaning": "This is the amplitude of this operation transforming the state <code>11</code> to <code>00</code>."
     },
     "_t_amp_11_01": {
      "meaning": "This is the amplitude of this operation transforming the state <code>11</code> to <code>01</code>."
     },
     "_t_amp_11_10": {
      "meaning": "This is the amplitude of this operation transforming the state <code>11</code> to <code>10</code>."
     },
     "_t_amp_11_11": {
      "meaning": "This is the amplitude of this operation transforming the state <code>11</code> to <code>11</code>."
     },
     "_t_amp_1_0": {
      "meaning": "This is proportional to the transition amplitude of this operation transforming the state <code>1</code> to <code>0</code>."
     },
     "_t_amp_1_1": {
      "meaning": "This is proportional to the transition amplitude of this operation transforming the state <code>1</code> to <code>1</code>."
     },
     "dot": {
      "meaning": "This dot is a shorthand for multiplication."
     },
     "u-gate": {
      "meaning": "'U' is generally used to represent quantum gates, especially if the gate doesn't have a more specific name. It stands for 'unitary' which is something we'll learn about further down on this page."
     }
    },
    "gloss": {
     "cnot": {
      "text": "The CNOT gate toggles the state of a 'target' qubit if the state of a 'control' qubit is 1.",
      "title": "CNOT"
     }
    }
   },
   "source": [
    "$$\n",
    "\\cssId{u-gate}{U} = \n",
    "\\begin{bmatrix}\n",
    "\\class{_t_amp_00_00}{t_{00\\to 00}} & \\class{_t_amp_01_00}{t_{01\\to 00}} & \\class{_t_amp_10_00}{t_{10\\to 00}} & \\class{_t_amp_11_00}{t_{11\\to 00}} \\\\\n",
    "\\class{_t_amp_00_01}{t_{00\\to 01}} & \\class{_t_amp_01_01}{t_{01\\to 01}} & \\class{_t_amp_10_01}{t_{10\\to 01}} & \\class{_t_amp_11_01}{t_{11\\to 01}} \\\\\n",
    "\\class{_t_amp_00_10}{t_{00\\to 10}} & \\class{_t_amp_01_10}{t_{01\\to 10}} & \\class{_t_amp_10_10}{t_{10\\to 10}} & \\class{_t_amp_11_10}{t_{11\\to 10}} \\\\\n",
    "\\class{_t_amp_00_11}{t_{00\\to 11}} & \\class{_t_amp_01_11}{t_{01\\to 11}} & \\class{_t_amp_10_11}{t_{10\\to 11}} & \\class{_t_amp_11_11}{t_{11\\to 11}} \\\\\n",
    "\\end{bmatrix}\n",
    "$$\n",
    "\n",
    "例えば、計算の原子で見たCNOT演算を表す行列は以下の通りです。\n",
    "\n",
    "$$\n",
    "\\cssId{_cnot-gate}{\\text{CNOT}} =\n",
    "\\begin{bmatrix}\n",
    "\\class{_t_amp_00_00}{1} & \\class{_t_amp_01_00}{0} & \\class{_t_amp_10_00}{0} & \\class{_t_amp_11_00}{0} \\\\\n",
    "\\class{_t_amp_00_01}{0} & \\class{_t_amp_01_01}{0} & \\class{_t_amp_10_01}{0} & \\class{_t_amp_11_01}{1} \\\\\n",
    "\\class{_t_amp_00_10}{0} & \\class{_t_amp_01_10}{0} & \\class{_t_amp_10_10}{1} & \\class{_t_amp_11_10}{0} \\\\\n",
    "\\class{_t_amp_00_11}{0} & \\class{_t_amp_01_11}{1} & \\class{_t_amp_10_11}{0} & \\class{_t_amp_11_11}{0} \\\\\n",
    "\\end{bmatrix}\n",
    "$$\n",
    "\n",
    "<!-- ::: q-block.exercise -->\n",
    "\n",
    "### クイッククイズ\n",
    "\n",
    "<!-- ::: q-quiz(goal=\"intro-maths-0\") -->\n",
    "\n",
    "<!-- ::: .question -->\n",
    "\n",
    "CNOT演算(上図)で状態 $|10\\rangle$ を $|01\\rangle$ に変換するときの遷移振幅は何でしょう？\n",
    "\n",
    "<!-- ::: -->\n",
    "\n",
    "<!-- ::: .option -->\n",
    "\n",
    "1. $1$\n",
    "\n",
    "<!-- ::: -->\n",
    "\n",
    "<!-- ::: .option(correct) -->\n",
    "\n",
    "2. $0$\n",
    "\n",
    "<!-- ::: -->\n",
    "\n",
    "<!-- ::: .option -->\n",
    "\n",
    "3. $\\begin{bmatrix} 1 & 0 & 0 & 0\\end{bmatrix}$\n",
    "\n",
    "<!-- ::: -->\n",
    "\n",
    "<!-- ::: .option -->\n",
    "\n",
    "3. $\\begin{bmatrix} 0 \\\\\\\\ 0 \\\\\\\\ 1 \\\\\\\\ 0\\end{bmatrix}$\n",
    "\n",
    "<!-- ::: -->\n",
    "\n",
    "<!-- ::: -->\n",
    "\n",
    "<!-- ::: -->\n",
    "\n",
    "そして、前ページで見たHゲートの行列は以下になります。\n",
    "\n",
    "$$\n",
    "H = \\sqrt{\\tfrac{1}{2}}\n",
    "\\begin{bmatrix}\n",
    "\\class{_t_amp_0_0}{1} & \\class{_t_amp_1_0}{1} \\\\\n",
    "\\class{_t_amp_0_1}{1} & \\class{_t_amp_1_1}{-1} \\\\\n",
    "\\end{bmatrix}\n",
    "$$\n",
    "\n",
    "（行列とスカラーの掛け算は、ベクトルと同じルールを使います）。そして、ある操作がある量子ビットにどのような影響を与えるかを見たいときには、各遷移振幅を入力状態ベクトルの各状態の振幅に掛け、各状態の振幅を足して出力状態ベクトルとします。これは、確率（または振幅）木の各枝に沿って掛けて、最後に総確率（または振幅）を足し合わせるのと全く同じです。\n",
    "\n",
    "数学者の方ならおわかりかと思いますが、これは通常の行列の掛け算です。\n",
    "\n",
    "$$\n",
    "H|0\\rangle = \\sqrt{\\tfrac{1}{2}}\n",
    "\\begin{bmatrix}\n",
    "\\class{_t_amp_0_0}{1} & \\class{_t_amp_1_0}{ 1} \\\\\n",
    "\\class{_t_amp_0_1}{1} & \\class{_t_amp_1_1}{-1} \\\\\n",
    "\\end{bmatrix}\n",
    "\\begin{bmatrix}\n",
    "\\class{_sq-amp0}{1} \\\\\n",
    "\\class{_sq-amp1}{0} \\\\\n",
    "\\end{bmatrix}\n",
    "= \\sqrt{\\tfrac{1}{2}}\n",
    "\\begin{bmatrix}\n",
    "(1 \\class{dot}{\\cdot} 1) & + &  (1 \\class{dot}{\\cdot} 0) \\\\\n",
    "(1 \\class{dot}{\\cdot} 1) & + & (-1 \\class{dot}{\\cdot} 0) \\\\\n",
    "\\end{bmatrix}\n",
    "= \\sqrt{\\tfrac{1}{2}}\n",
    "\\begin{bmatrix}\n",
    "\\class{_sq-amp0}{1} \\\\\n",
    "\\class{_sq-amp1}{1} \\\\\n",
    "\\end{bmatrix}\n",
    "$$\n",
    "\n",
    "![Hゲートが状態|0>を状態|+>に変換する方法を示す画像](images/quantum-states/h-gate.svg)"
   ]
  },
  {
   "cell_type": "markdown",
   "metadata": {},
   "source": [
    "## 量子演算の規則\n",
    "\n",
    "すべてのベクトルが有効な状態ベクトルでないのと同じように、すべての行列が有効な量子演算であるわけではありません。もし行列が本当の演算として意味を持つなら、出力状態の合計確率を1に保つ必要があります。したがって、例えばこれは本当の演算にはなりえません。\n",
    "\n",
    "$$\n",
    "\\begin{bmatrix}\n",
    "\\class{_t_amp_0_0}{1} & \\class{_t_amp_1_0}{0} \\\\\n",
    "\\class{_t_amp_0_1}{1} & \\class{_t_amp_1_1}{0} \\\\\n",
    "\\end{bmatrix}\n",
    "$$\n",
    "\n",
    "なぜなら、もしそれが状態 $|0\\rangle$ に作用するならば、次のようになるからです。\n",
    "\n",
    "$$\n",
    "\\begin{bmatrix}\n",
    "\\class{_t_amp_0_0}{1} & \\class{_t_amp_1_0}{0} \\\\\n",
    "\\class{_t_amp_0_1}{1} & \\class{_t_amp_1_1}{0} \\\\\n",
    "\\end{bmatrix}\\begin{bmatrix} 1 \\\\ 0 \\end{bmatrix}\n",
    "=\n",
    "\\begin{bmatrix} \\class{_sq-amp0}{1} \\\\ \\class{_sq-amp1}{1} \\end{bmatrix}\n",
    "$$\n",
    "\n",
    "となり、確率の合計は2になってしまい、整合しません。また、状態 $|1\\rangle$ に作用した場合、合計確率は0になり、これも整合しません。どのような場合でも確率の総和が変わらないようにするには、演算を可逆にする必要があります。つまり、量子ゲートを逆から実行して「元に戻す」ことができるのです（回転を反転させることを忘れずに）。このような性質を持つ行列を「ユニタリー行列」と呼びます。量子ゲートのことを「ユニタリー」または「ユニタリーゲート」と呼ぶのをよく見かけます。"
   ]
  }
 ],
 "metadata": {
  "kernelspec": {
   "display_name": "Python 3",
   "language": "python",
   "name": "python3"
  },
  "language_info": {
   "codemirror_mode": {
    "name": "ipython",
    "version": 3
   },
   "file_extension": ".py",
   "mimetype": "text/x-python",
   "name": "python",
   "nbconvert_exporter": "python",
   "pygments_lexer": "ipython3",
   "version": "3.9"
  }
 },
 "nbformat": 4,
 "nbformat_minor": 4
}
