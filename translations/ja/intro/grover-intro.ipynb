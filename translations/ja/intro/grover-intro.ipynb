{
  "cells": [
    {
      "cell_type": "markdown",
      "metadata": {
        "slideshow": {
          "slide_type": "-"
        }
      },
      "source": [
        "# グローバー探索アルゴリズム"
      ]
    },
    {
      "cell_type": "markdown",
      "metadata": {
      },
      "source": [
        "## 探索問題\n",
        "\n",
        "コンピューターが解決する問題の多くは、*探索問題*の一種です。皆さんはすでにサーチエンジンを使ってウェブを探索したことがあるでしょう。サーチエンジンとは、ウェブサイトからデータベースを構築し、その中を探索できるようにするプログラムです。データベースとは、住所を入力とし、その住所のデータを出力するプログラムと考えることができます。電話帳はデータベースの一例で、電話帳の各項目には名前と番号が記載されています。例えば、3441番目のデータを出してくださいと頼むと、電話帳の3441番目の名前と番号が返ってきます。\n",
        "\n",
        "![ブラックボックスデータベース内の情報の流れ。](images/grover/database-phonebook.svg)\n",
        "\n",
        "<!-- vale QiskitTextbook.SentenceLengthWarning = NO -->\n",
        "\n",
        "このように、入力を与え、出力を読むというプロセスを「データベースへの問い合わせ」と呼んでいます。コンピューターサイエンスではしばしば、データベースをブラックボックスと見なします。つまり、データベースがどのように機能するかを見ることは許されず、約束通りの動作をする魔法のようなプロセスだと仮定します。このような魔法のような処理を「オラクル」と呼びます。\n",
        "\n",
        "<!-- vale QiskitTextbook.SentenceLengthWarning = YES -->\n",
        "\n",
        "誰かの名前があって、その人の電話番号を探そうとするとき、本が名前のアルファベット順に並んでいれば、これは簡単です。*二分探索*と呼ばれるアルゴリズムが使えるのです。\n",
        "\n",
        "<!-- ::: q-block -->\n",
        "\n",
        "### 例: 二分探索\n",
        "\n",
        "<!-- ::: q-carousel -->\n",
        "\n",
        "<!-- ::: div -->\n",
        "\n",
        "![データベースの例](images/grover/carousel/0/0.svg)\n",
        "\n",
        "二分探索は、ソートされたデータベースを探索するための非常に効率的な古典的アルゴリズムです。本の中の特定のページを探すとき（あるいは物理的な電話帳を使うとき）にも、似たようなものを使ったことがあるのではないでしょうか。例えば、Evelinaの電話番号を探したいとしましょう。\n",
        "\n",
        "<!-- ::: -->\n",
        "\n",
        "<!-- ::: div -->\n",
        "\n",
        "![二分探索アルゴリズムの最初の手順の例として、コンピューターは中央の項目を選択した](images/grover/carousel/0/1.svg)\n",
        "\n",
        "まず、データベースの真ん中の項目を調べ、それが探索対象の項目より高いか低いかを確認します。\n",
        "\n",
        "<!-- ::: -->\n",
        "\n",
        "<!-- ::: div -->\n",
        "\n",
        "![二分探索アルゴリズムの2番目の手順](images/grover/carousel/0/2.svg)\n",
        "\n",
        "この場合、「H」は「E」の後にあります。リストはソートされているので、探している項目のアドレスは7より小さいはずです。6より大きいアドレスは無視し、縮小したリストでこのアルゴリズムを繰り返すことができます。\n",
        "\n",
        "<!-- ::: -->\n",
        "\n",
        "<!-- ::: div -->\n",
        "\n",
        "![二分探索アルゴリズムの3番目の手順](images/grover/carousel/0/3.svg)\n",
        "\n",
        "今度は、真ん中の項目の名前が「D」で始まり、「E」の前に来ています。これで、この項目のアドレスは3以上でなければならないことがわかりました。\n",
        "\n",
        "<!-- ::: -->\n",
        "\n",
        "<!-- ::: div -->\n",
        "\n",
        "![二分探索アルゴリズムの4番目の手順](images/grover/carousel/0/4.svg)\n",
        "\n",
        "各ステップで作業しているリストのサイズが半分になるので、探索空間は指数関数的に*縮小*します。\n",
        "\n",
        "<!-- ::: -->\n",
        "\n",
        "<!-- ::: div -->\n",
        "\n",
        "![二分探索アルゴリズムの5番目の手順](images/grover/carousel/0/5.svg)\n",
        "\n",
        "つまり、非常に大きなデータベースであっても、素早く項目を見つけることができるのです。\n",
        "\n",
        "<!-- ::: -->\n",
        "\n",
        "<!-- ::: -->\n",
        "\n",
        "<!-- ::: -->\n",
        "\n",
        "<!-- ::: q-block.exercise -->\n",
        "\n",
        "### クイッククイズ\n",
        "\n",
        "<!-- ::: q-quiz(goal=\"intro-grover-0\") -->\n",
        "\n",
        "必要なデータベースへの問い合わせの最大数は、データベースのエントリー数に応じて対数的（底2）に増加します。\n",
        "\n",
        "<!-- ::: .question -->\n",
        "\n",
        "二分探索を使用して、1024個の項目を持つソートされたデータベースを探索するために必要な最大の問い合わせ数は何ですか？\n",
        "\n",
        "<!-- ::: -->\n",
        "\n",
        "<!-- ::: .option(correct) -->\n",
        "\n",
        "1. 10\n",
        "\n",
        "<!-- ::: -->\n",
        "\n",
        "<!-- ::: .option -->\n",
        "\n",
        "1. 1\n",
        "\n",
        "<!-- ::: -->\n",
        "\n",
        "<!-- ::: .option -->\n",
        "\n",
        "1. 100\n",
        "\n",
        "<!-- ::: -->\n",
        "\n",
        "<!-- ::: -->\n",
        "\n",
        "*ヒント: 何回データベースを半分にすれば、1つの項目しか残りませんか？*\n",
        "\n",
        "<!-- ::: -->"
      ]
    },
    {
      "cell_type": "markdown",
      "metadata": {
        "gloss": {
          "index": {
            "text": "To make searching easier, we could have two copies of the phone book: One sorted by name and the other sorted by number. This will obviously take a while to create and will take up more space on the disk, but it could be worth it if we’re searching it a lot.",
            "title": "Index (databases)"
          },
          "logarithm": {
            "text": "This is the inverse of exponential. This grows very slowly, so logarithmic algorithms are generally considered very efficient.",
            "title": "Logarithmic"
          },
          "quadratic": {
            "text": "'Quadratic' is anything to do with squares (i.e., multiplying a number by itself).",
            "title": "Quadratic"
          }
        }
      },
      "source": [
        "二分探索はデータベースの大きさに応じて[対数的](gloss:logarithm)に成長するので、量子コンピューターが改善する余地はあまりないでしょう。しかし、私たちは常にソートされたリストを探索できるわけではありません。例えば、電話番号が与えられ、その番号に関連する名前を見つけたいとしたらどうでしょう？\n",
        "\n",
        "電話帳は通常、番号順に並んでいないので、これはかなり難しいです。電話番号がランダムに並んでいると仮定すると、前回のように目的の電話番号を探し出すことはできません。古典的なコンピューターでできることは、入力された住所をランダムに選び、そこに探している電話番号が含まれているかどうかを確認し、偶然に正しい項目に出会うまで繰り返すことです。このため、探索時間を短縮するために、データベースの[索引付け](gloss:index)に多くの労力が費やされています。\n",
        "\n",
        "このようにデータベースが完全に無秩序な状態を*非構造化*と言います。そして、このページで学ぶ量子アルゴリズムは、非構造化探索のためのアルゴリズムなのです。\n",
        "\n",
        "<!-- ::: q-block.exercise -->\n",
        "\n",
        "### 非構造化探索\n",
        "\n",
        "<!-- ::: q-quiz(goal=\"intro-grover-1\") -->\n",
        "\n",
        "<!-- ::: .question -->\n",
        "\n",
        "非構造化データベースを、ランダムに入力を選んで探索する場合、探している項目を見つけるまでに平均何個の入力をチェックする必要があるでしょうか？\n",
        "\n",
        "<!-- ::: -->\n",
        "\n",
        "<!-- ::: .option(correct) -->\n",
        "\n",
        "1. 可能な入力の半分。\n",
        "\n",
        "<!-- ::: -->\n",
        "\n",
        "<!-- ::: .option -->\n",
        "\n",
        "1. 可能な入力すべて。\n",
        "\n",
        "<!-- ::: -->\n",
        "\n",
        "<!-- ::: .option -->\n",
        "\n",
        "1. 可能な入力の4分の3。\n",
        "\n",
        "<!-- ::: -->\n",
        "\n",
        "<!-- ::: -->\n",
        "\n",
        "***\n",
        "\n",
        "<!-- ::: q-quiz(goal=\"intro-grover-2\") -->\n",
        "\n",
        "<!-- ::: .question -->\n",
        "\n",
        "ランダムな推測を用いると、必要なデータベース問い合わせの平均数は、データベースの項目数に応じてどのように増加しますか？\n",
        "\n",
        "<!-- ::: -->\n",
        "\n",
        "<!-- ::: .option(correct) -->\n",
        "\n",
        "1. 線形的。\n",
        "\n",
        "<!-- ::: -->\n",
        "\n",
        "<!-- ::: .option -->\n",
        "\n",
        "1. 対数的。\n",
        "\n",
        "<!-- ::: -->\n",
        "\n",
        "<!-- ::: .option -->\n",
        "\n",
        "1. 2次的。\n",
        "\n",
        "<!-- ::: -->\n",
        "\n",
        "<!-- ::: .option -->\n",
        "\n",
        "1. 指数関数的。\n",
        "\n",
        "<!-- ::: -->\n",
        "\n",
        "<!-- ::: -->\n",
        "\n",
        "<!-- ::: -->\n",
        "\n",
        "<!-- vale QiskitTextbook.SentenceLengthWarning = NO -->\n",
        "\n",
        "このような場合、適当に推測する以上のことはできないと思われるかもしれません。データベース内のどこに正しい項目があるのか見当もつかないし、間違った問い合わせをすると1つの項目が除外されるだけだからです。\n",
        "\n",
        "<!-- vale QiskitTextbook.SentenceLengthWarning = YES -->\n",
        "\n",
        "古典的なコンピューターの場合、私たちの直感は正しいのですが、もし私たちのデータベースが量子の重ね合わせ状態を入出力できれば、ランダムな推測よりもうまくいくことがわかります。このページでは、最初の量子アルゴリズム、つまりグローバーの量子探索アルゴリズムについて説明します。 グローバーのアルゴリズムは、構造化されたデータベースでも非構造化データベースでも、入力数の*平方根*で増大するため、非構造化探索では古典アルゴリズムに比べて[2次](gloss:quadratic)の改善をもたらします。\n",
        "\n",
        "![量子探索と従来の非構造化探索の最適なアルゴリズム実行時間の比較](images/grover/rg-vs-grover.svg)"
      ]
    },
    {
      "cell_type": "markdown",
      "metadata": {
        "gloss": {
          "3-sat": {
            "text": "Similar to sudoku, 3-SAT is a problem where you need to find a string of bits according to certain constraints.",
            "title": "3-SAT"
          },
          "sudoku": {
            "text": "A sudoku is a type of puzzle. To solve it, you need to fill in numbers in a grid according to certain constraints. <a href='https://en.wikipedia.org/wiki/Sudoku'>Read more</a>.",
            "title": "Sudoku"
          }
        }
      },
      "source": [
        "## ブラックボックスの先にあるもの\n",
        "\n",
        "探索アルゴリズムは、電話帳のような収集された情報のデータベースを探索することができますが、それ以上のことも可能です。ある問題をデータベース探索の問題のように*見せる*ことができれば、その問題を解くために探索アルゴリズムを使うことができるのです。例えば、[数独](gloss:sudoku)を解くという問題を考えてみましょう。誰かが数独を解いたと主張したら、それが解けたかどうかをかなり速くチェックできます。各行、各列、各マスにそってチェックし、終了します。この意味で、*あなた*がデータベースであり、あなたに解答を与えた人があなたに問い合わせをしているのです。そして、「これは有効な解答です」という情報を返す入力を探そうとしているのです。\n",
        "\n",
        "実際、多くの計算問題は、「ある出力をもたらす入力を求めよ」という形で提示することができます。\n",
        "\n",
        "![提案された解決策を評価するプログラムをデータベースとして見ることができます。](images/grover/database-computation.svg)\n",
        "\n",
        "<!-- vale QiskitTextbook.Acronyms = NO -->\n",
        "\n",
        "このように解くことができる問題の一例として、充足可能性問題（通称「SAT」）があります。\n",
        "\n",
        "## SAT問題\n",
        "\n",
        "SAT問題は計算機科学で広く研究されており、他の多くの計算問題もSAT問題に変換することが可能です。このページではグローバーのアルゴリズムを用いて簡単なSAT問題を解きますが、ここで学んだ技術は、他の問題への量子探索アルゴリズムの適用にも応用できます。\n",
        "\n",
        "SAT問題の解はビット列であり、量子回路へのマッピングが容易です。問題そのものは、ビット値の異なる組み合わせを排除する条件（我々はこれを節と呼んでいる）の束です。例えば、ビットが3つあったとして、1つの節が「0番目のビットが`ON`*および*1番目のビットが`OFF`であってはならない」であるとした場合、`101`および`001`の組み合わせは有効な解としては排除されます。\n",
        "\n",
        "ここに*\"[3-SAT](gloss:3-sat)\"*問題をエンコードしたファイルがあります。これは、すべての節がちょうど3ビットを参照し、各節のこれらのビット条件のうちの1つが満たされなければならないというSAT問題です。 "
      ]
    },
    {
      "cell_type": "markdown",
      "metadata": {
        "formulas": {
          "_dimacs-c": {
            "meaning": "In the DIMACS file format, the character '<code>c</code>' signals that this line is a comment and can be ignored."
          },
          "_dimacs-clause-1": {
            "meaning": "In the DIMACS file format, this clause states that we need either bit #1 to be <code>ON</code>, bit #2 to be <code>OFF</code>, <i>or</i> bit #3 to be <code>ON</code>. If any of these conditions are satisfied, the clause is satisfied, so the only combination that <i>wouldn’t</i> satisfy this would be bits 1, 2, and 3 being <code>OFF</code>, <code>ON</code>, <code>OFF</code> respectively. The <code>0</code> indicates the end of the line."
          },
          "_dimacs-clause-3": {
            "meaning": "In the DIMACS file format, this clause states that we need either bit #1 to be <code>ON</code>, bit #2 to be <code>OFF</code>, <i>or</i> bit #3 to be <code>OFF</code>. If any of these conditions are satisfied, the clause is satisfied, so the only combination that <i>wouldn’t</i> satisfy this would be bits 1, 2, and 3 being <code>OFF</code>, <code>ON</code>, <code>ON</code> respectively. The <code>0</code> indicates the end of the line."
          },
          "_dimacs-clause-4": {
            "meaning": "In the DIMACS file format, this clause states that we need either bit #1 to be <code>OFF</code>, bit #2 to be <code>ON</code>, <i>or</i> bit #3 to be <code>ON</code>. If any of these conditions are satisfied, the clause is satisfied, so the only combination that <i>wouldn’t</i> satisfy this would be bits 1, 2, and 3 being <code>ON</code>, <code>OFF</code>, <code>OFF</code> respectively. The <code>0</code> indicates the end of the line."
          },
          "_dimacs-problem": {
            "meaning": "In the DIMACS file format, a line starting with '<code>p</code>' specifies the type of problem. This problem is conjunctive normal form, with 3 variables (bits) and 5 clauses."
          }
        }
      },
      "source": [
        "<!-- ::: q-block -->\n",
        "\n",
        "### 3-SAT問題の例\n",
        "\n",
        "これは、「DIMACS CNF」と呼ばれるファイル形式で保存された 3-SAT 問題の例です。このファイルは非常に単純で、SAT 問題を保存する 1 つの方法にすぎません。\n",
        "\n",
        "$\\cssId{_dimacs-c}{\\texttt{c example DIMACS-CNF 3-SAT}}$ <br> $\\cssId{_dimacs-problem}{\\texttt{p cnf 3 5}}$ <br> $\\texttt{-1 -2 -3 0}$<br> $\\cssId{_dimacs-clause-1}{\\texttt{1 -2 3 0}}$ <br> $\\texttt{1 2 -3 0}$<br> $\\cssId{_dimacs-clause-3}{\\texttt{1 -2 -3 0}}$ <br> $\\cssId{_dimacs-clause-4}{\\texttt{-1 2 3 0}}$ <br>\n",
        "\n",
        "<!-- ::: -->"
      ]
    },
    {
      "cell_type": "markdown",
      "metadata": {
      },
      "source": [
        "<!-- vale QiskitTextbook.SentenceLengthWarning = NO -->\n",
        "\n",
        "数独と同じように、ビット列がSAT問題の有効な解であるかどうかを確認するのは簡単です。各節を順番に見て、文字列がいずれかの節に背くかどうかを確認すればよいのです。このコースでは、量子回路でどのようにこれを行うかは気にしないことにします。SATの解を確認する効率的な古典的アルゴリズムがあることを思い出してください。今はQiskitの内蔵ツールを使って、これを実行する回路を構築するだけです。\n",
        "\n",
        "<!-- vale QiskitTextbook.SentenceLengthWarning = YES -->\n",
        "\n",
        "このファイルを`examples/3sat.dimacs`の下に保存しました（実行しているコードからの相対パス）。"
      ]
    },
    {
      "cell_type": "code",
      "execution_count": 1,
      "metadata": {
      },
      "outputs": [
        {
          "name": "stdout",
          "output_type": "stream",
          "text": [
            "c example DIMACS-CNF 3-SAT\n",
            "p cnf 3 5\n",
            "-1 -2 -3 0\n",
            "1 -2 3 0\n",
            "1 2 -3 0\n",
            "1 -2 -3 0\n",
            "-1 2 3 0\n"
          ]
        }
      ],
      "source": [
        "with open('examples/3sat.dimacs', 'r', encoding='utf8') as f:\n",
        "    dimacs = f.read()\n",
        "print(dimacs)  # let's check the file is as promised"
      ]
    },
    {
      "cell_type": "markdown",
      "metadata": {
      },
      "source": [
        "<!-- vale QiskitTextbook.SentenceLengthWarning = NO -->\n",
        "\n",
        "Qiskit の circuit ライブラリーを使用して、上で説明したオラクルの作業をする回路を構築できます (この回路はもはや魔法ではなく、全能でもありませんが「オラクル」と呼び続けます)。"
      ]
    },
    {
      "cell_type": "code",
      "execution_count": 2,
      "metadata": {
        "scrolled": true
      },
      "outputs": [
        {
          "data": {
            "image/svg+xml": [
              "<?xml version=\"1.0\" encoding=\"UTF-8\"?><!DOCTYPE svg  PUBLIC '-//W3C//DTD SVG 1.1//EN'  'http://www.w3.org/Graphics/SVG/1.1/DTD/svg11.dtd'><svg width=\"307.04pt\" height=\"168.93pt\" version=\"1.1\" viewBox=\"0 0 307.04 168.93\" xmlns=\"http://www.w3.org/2000/svg\" xmlns:xlink=\"http://www.w3.org/1999/xlink\"><defs><style type=\"text/css\">*{stroke-linecap:butt;stroke-linejoin:round;}</style></defs><path d=\"m0 168.93h307.04v-168.93h-307.04z\" fill=\"#ffffff\"/><path d=\"m63.491 43.561h231.8\" clip-path=\"url(#paf720fe8dc)\" fill=\"none\" stroke=\"#000000\" stroke-linecap=\"square\" stroke-width=\"2\"/><path d=\"m63.491 89.012h231.8\" clip-path=\"url(#paf720fe8dc)\" fill=\"none\" stroke=\"#000000\" stroke-linecap=\"square\" stroke-width=\"2\"/><path d=\"m63.491 134.46h231.8\" clip-path=\"url(#paf720fe8dc)\" fill=\"none\" stroke=\"#000000\" stroke-linecap=\"square\" stroke-width=\"2\"/><path d=\"m88.034 134.46v-90.902\" clip-path=\"url(#paf720fe8dc)\" fill=\"none\" stroke=\"#6929c4\" stroke-linecap=\"square\" stroke-width=\"2\"/><path d=\"m224.39 89.012v-45.451\" clip-path=\"url(#paf720fe8dc)\" fill=\"none\" stroke=\"#6929c4\" stroke-linecap=\"square\" stroke-width=\"2\"/><path d=\"m88.034 134.46v-90.902\" clip-path=\"url(#paf720fe8dc)\" fill=\"none\" stroke=\"#6929c4\" stroke-linecap=\"square\" stroke-width=\"2\"/><path d=\"m224.39 89.012v-45.451\" clip-path=\"url(#paf720fe8dc)\" fill=\"none\" stroke=\"#6929c4\" stroke-linecap=\"square\" stroke-width=\"2\"/><path d=\"m88.034 47.992c1.1752 0 2.3025-0.46693 3.1335-1.2979 0.83102-0.83102 1.2979-1.9583 1.2979-3.1335 0-1.1752-0.46693-2.3025-1.2979-3.1335-0.83102-0.83102-1.9583-1.2979-3.1335-1.2979s-2.3025 0.46693-3.1335 1.2979c-0.83102 0.83102-1.2979 1.9583-1.2979 3.1335 0 1.1752 0.46693 2.3025 1.2979 3.1335 0.83102 0.83102 1.9583 1.2979 3.1335 1.2979z\" clip-path=\"url(#paf720fe8dc)\" fill=\"#ffffff\" stroke=\"#6929c4\" stroke-width=\"1.5\"/><path d=\"m88.034 138.89c1.1752 0 2.3025-0.46693 3.1335-1.2979 0.83102-0.83102 1.2979-1.9583 1.2979-3.1335 0-1.1752-0.46693-2.3025-1.2979-3.1335-0.83102-0.83102-1.9583-1.2979-3.1335-1.2979s-2.3025 0.46693-3.1335 1.2979-1.2979 1.9583-1.2979 3.1335c0 1.1752 0.46693 2.3025 1.2979 3.1335 0.83102 0.83102 1.9583 1.2979 3.1335 1.2979z\" clip-path=\"url(#paf720fe8dc)\" fill=\"#ffffff\" stroke=\"#6929c4\" stroke-width=\"1.5\"/><path d=\"m88.034 93.443c1.1752 0 2.3025-0.46693 3.1335-1.2979 0.83102-0.83102 1.2979-1.9583 1.2979-3.1335s-0.46693-2.3025-1.2979-3.1335c-0.83102-0.83102-1.9583-1.2979-3.1335-1.2979s-2.3025 0.46693-3.1335 1.2979c-0.83102 0.83102-1.2979 1.9583-1.2979 3.1335s0.46693 2.3025 1.2979 3.1335 1.9583 1.2979 3.1335 1.2979z\" clip-path=\"url(#paf720fe8dc)\" fill=\"#6929c4\" stroke=\"#6929c4\" stroke-width=\"1.5\"/><path d=\"m118.71 103.78h29.543v-29.543h-29.543z\" clip-path=\"url(#paf720fe8dc)\" fill=\"#005d5d\" stroke=\"#005d5d\" stroke-width=\"1.5\"/><path d=\"m118.71 149.23h29.543v-29.543h-29.543z\" clip-path=\"url(#paf720fe8dc)\" fill=\"#005d5d\" stroke=\"#005d5d\" stroke-width=\"1.5\"/><path d=\"m164.16 103.78h29.543v-29.543h-29.543z\" clip-path=\"url(#paf720fe8dc)\" fill=\"#005d5d\" stroke=\"#005d5d\" stroke-width=\"1.5\"/><path d=\"m224.39 47.992c1.1752 0 2.3025-0.46693 3.1335-1.2979 0.83102-0.83102 1.2979-1.9583 1.2979-3.1335 0-1.1752-0.46693-2.3025-1.2979-3.1335-0.83102-0.83102-1.9583-1.2979-3.1335-1.2979-1.1752 0-2.3025 0.46693-3.1335 1.2979-0.83102 0.83102-1.2979 1.9583-1.2979 3.1335 0 1.1752 0.46693 2.3025 1.2979 3.1335 0.83102 0.83102 1.9583 1.2979 3.1335 1.2979z\" clip-path=\"url(#paf720fe8dc)\" fill=\"#ffffff\" stroke=\"#6929c4\" stroke-width=\"1.5\"/><path d=\"m224.39 93.443c1.1752 0 2.3025-0.46693 3.1335-1.2979 0.83102-0.83102 1.2979-1.9583 1.2979-3.1335s-0.46693-2.3025-1.2979-3.1335c-0.83102-0.83102-1.9583-1.2979-3.1335-1.2979-1.1752 0-2.3025 0.46693-3.1335 1.2979-0.83102 0.83102-1.2979 1.9583-1.2979 3.1335s0.46693 2.3025 1.2979 3.1335 1.9583 1.2979 3.1335 1.2979z\" clip-path=\"url(#paf720fe8dc)\" fill=\"#6929c4\" stroke=\"#6929c4\" stroke-width=\"1.5\"/><path d=\"m255.07 103.78h29.543v-29.543h-29.543z\" clip-path=\"url(#paf720fe8dc)\" fill=\"#005d5d\" stroke=\"#005d5d\" stroke-width=\"1.5\"/><g clip-path=\"url(#paf720fe8dc)\"><g transform=\"translate(36.363 48.012) scale(.1625 -.1625)\"><defs><path id=\"DejaVuSans-Oblique-71\" transform=\"scale(.015625)\" d=\"m2669 525q-231-303-546-460-314-156-695-156-531 0-833 358-301 358-301 986 0 506 186 978t533 847q225 244 517 375t614 131q387 0 637-153t363-462l100 525h578l-934-4813h-579l360 1844zm-1778 813q0-463 193-705 194-242 560-242 544 0 928 520t384 1264q0 450-199 689-198 239-569 239-272 0-504-127-231-126-403-370-181-256-286-600-104-343-104-668z\"/><path id=\"DejaVuSans-30\" transform=\"scale(.015625)\" d=\"m2034 4250q-487 0-733-480-245-479-245-1442 0-959 245-1439 246-480 733-480 491 0 736 480 246 480 246 1439 0 963-246 1442-245 480-736 480zm0 500q785 0 1199-621 414-620 414-1801 0-1178-414-1799-414-620-1199-620-784 0-1198 620-414 621-414 1799 0 1181 414 1801 414 621 1198 621z\"/></defs><use xlink:href=\"#DejaVuSans-Oblique-71\"/><use transform=\"translate(63.477 -16.406) scale(.7)\" xlink:href=\"#DejaVuSans-30\"/></g></g><g clip-path=\"url(#paf720fe8dc)\"><g transform=\"translate(36.363 93.463) scale(.1625 -.1625)\"><defs><path id=\"DejaVuSans-31\" transform=\"scale(.015625)\" d=\"m794 531h1031v3560l-1122-225v575l1116 225h631v-4135h1031v-531h-2687v531z\"/></defs><use xlink:href=\"#DejaVuSans-Oblique-71\"/><use transform=\"translate(63.477 -16.406) scale(.7)\" xlink:href=\"#DejaVuSans-31\"/></g></g><g clip-path=\"url(#paf720fe8dc)\"><g transform=\"translate(36.363 138.91) scale(.1625 -.1625)\"><defs><path id=\"DejaVuSans-32\" transform=\"scale(.015625)\" d=\"m1228 531h2203v-531h-2962v531q359 372 979 998 621 627 780 809 303 340 423 576 121 236 121 464 0 372-261 606-261 235-680 235-297 0-627-103-329-103-704-313v638q381 153 712 231 332 78 607 78 725 0 1156-363 431-362 431-968 0-288-108-546-107-257-392-607-78-91-497-524-418-433-1181-1211z\"/></defs><use xlink:href=\"#DejaVuSans-Oblique-71\"/><use transform=\"translate(63.477 -16.406) scale(.7)\" xlink:href=\"#DejaVuSans-32\"/></g></g><g clip-path=\"url(#paf720fe8dc)\"><g transform=\"translate(129.03 92.599) scale(.13 -.13)\" fill=\"#ffffff\"><defs><path id=\"DejaVuSans-5a\" transform=\"scale(.015625)\" d=\"m359 4666h3666v-482l-2950-3653h3022v-531h-3809v481l2950 3653h-2879v532z\"/></defs><use xlink:href=\"#DejaVuSans-5a\"/></g></g><g clip-path=\"url(#paf720fe8dc)\"><g transform=\"translate(129.03 138.05) scale(.13 -.13)\" fill=\"#ffffff\"><use xlink:href=\"#DejaVuSans-5a\"/></g></g><g clip-path=\"url(#paf720fe8dc)\"><g transform=\"translate(174.48 92.599) scale(.13 -.13)\" fill=\"#ffffff\"><defs><path id=\"DejaVuSans-58\" transform=\"scale(.015625)\" d=\"m403 4666h678l1160-1735 1165 1735h678l-1500-2241 1600-2425h-678l-1312 1984-1322-1984h-681l1665 2491-1453 2175z\"/></defs><use xlink:href=\"#DejaVuSans-58\"/></g></g><g clip-path=\"url(#paf720fe8dc)\"><g transform=\"translate(265.39 92.599) scale(.13 -.13)\" fill=\"#ffffff\"><use xlink:href=\"#DejaVuSans-58\"/></g></g><defs><clipPath id=\"paf720fe8dc\"><rect x=\"7.2\" y=\"7.2\" width=\"292.64\" height=\"154.53\"/></clipPath></defs></svg>"
            ],
            "text/plain": [
              "<Figure size 387.597x204.68 with 1 Axes>"
            ]
          },
          "execution_count": 2,
          "metadata": {
          },
          "output_type": "execute_result"
        }
      ],
      "source": [
        "from qiskit.circuit.library import PhaseOracle\n",
        "oracle = PhaseOracle.from_dimacs_file('examples/3sat.dimacs')\n",
        "oracle.draw()"
      ]
    },
    {
      "cell_type": "markdown",
      "metadata": {
      },
      "source": [
        "上のこの回路は、前に説明したデータベースと似たような働きをします。この回路の入力は3ビットのビット列で、与えられる出力は入力ビット列がSAT問題の解であるか否かに依存します。\n",
        "\n",
        "このチェックの結果も`True`か`False`のどちらかになりますが、この回路の動作は期待されるものとは若干異なります。この回路をグローバーのアルゴリズムで使うには、状態が解であれば、オラクルは出力状態の位相を180度変える（つまり-1倍する）ようにしたいです。これがQiskitがクラス「`PhaseOracle`」と呼ぶ理由です。\n",
        "\n",
        "$$\n",
        "U_\\text{oracle}|x\\rangle = \\bigg\\{\n",
        "\\begin{aligned}\n",
        "\\phantom{-}|x\\rangle & \\quad \\text{if $x$ is not a solution} \\\\\n",
        "-|x\\rangle & \\quad \\text{if $x$ is a solution} \\\\\n",
        "\\end{aligned}\n",
        "$$\n",
        "\n",
        "例えば、この問題の解は`000`, `011`, `101`だけなので、上の回路はこの行列を持つことになります。\n",
        "\n",
        "$$\n",
        "U_\\text{oracle} = \n",
        "\\begin{bmatrix}\n",
        "-1 & 0 & 0 &  0 & 0 &  0 & 0 & 0  \\\\\n",
        " 0 & 1 & 0 &  0 & 0 &  0 & 0 & 0  \\\\\n",
        " 0 & 0 & 1 &  0 & 0 &  0 & 0 & 0  \\\\\n",
        " 0 & 0 & 0 & -1 & 0 &  0 & 0 & 0  \\\\\n",
        " 0 & 0 & 0 &  0 & 1 &  0 & 0 & 0  \\\\\n",
        " 0 & 0 & 0 &  0 & 0 & -1 & 0 & 0  \\\\\n",
        " 0 & 0 & 0 &  0 & 0 &  0 & 1 & 0  \\\\\n",
        " 0 & 0 & 0 &  0 & 0 &  0 & 0 & 1  \\\\\n",
        "\\end{bmatrix}\n",
        "$$\n",
        "\n",
        "まとめると\n",
        "\n",
        "1. 提案された解答が正しいかどうかを簡単に確認できる問題があります。\n",
        "2. 解を確認するアルゴリズムを、解の状態の位相を変化させる量子回路に変換することができます。\n",
        "3. グローバーのアルゴリズムを使って、どの状態の位相が変化したかを調べることができます。\n",
        "\n",
        "この意味で、データベースやオラクルは、解決すべき*問題なのです*。\n",
        "\n",
        "![グローバーのアルゴリズムへの入力をオラクル、出力をそのオラクルに対する解とした画像](images/grover/grover-input-output.svg)"
      ]
    },
    {
      "cell_type": "markdown",
      "metadata": {
      },
      "source": [
        "## グローバーのアルゴリズムの概要\n",
        "\n",
        "さて、問題が理解できたところで、いよいよグローバーのアルゴリズムに入ります。グローバーのアルゴリズムは3つのステップからなります。\n",
        "\n",
        "1. 最初のステップは、オラクルへのすべての可能な入力の等しい重ね合わせを作成することです。もし我々の量子ビットがすべて状態 $|0\\rangle$ で始まるとすると、各量子ビットにHゲートを適用してこの重ね合わせを作成することができます。この等しい重ね合わせ状態を「$|s\\rangle$」と呼ぶことにします。\n",
        "\n",
        "2. 次のステップは、これらの量子ビットに対してオラクル回路($U_\\text{oracle}$)を走らせることです。このページでは、上でQiskitが作ってくれた回路(`oracle`)を使いますが、解の状態の位相を変える回路やハードウェアなら何でも使えます。\n",
        "\n",
        "3. 最後ステップは、「拡散演算子」または「ディフューザー」($U_s$)と呼ばれる回路を量子ビットに対して実行することです。この回路は次節のグローバーのアルゴリズムを探る際に確認しますが、どのオラクルでも同じであり、驚くほど単純な回路です。\n",
        "\n",
        "次に、回路のサイズに応じて、ステップ2と3を数回繰り返す必要があります。ステップ2でオラクルに問い合わせるため、問い合わせの数は可能な入力の数の平方根にほぼ比例することに注意してください。 2 と 3 を適切な回数繰り返すと、測定時にオラクルの解を測定できる可能性が高くなります。\n",
        "\n",
        "![グローバーのアルゴリズムのコンパクトな回路図](images/grover/grover-circuit-high-level.png)"
      ]
    },
    {
      "cell_type": "code",
      "execution_count": 3,
      "metadata": {
      },
      "outputs": [
        {
          "data": {
            "image/svg+xml": [
              "<?xml version=\"1.0\" encoding=\"UTF-8\"?><!DOCTYPE svg  PUBLIC '-//W3C//DTD SVG 1.1//EN'  'http://www.w3.org/Graphics/SVG/1.1/DTD/svg11.dtd'><svg width=\"125.23pt\" height=\"168.93pt\" version=\"1.1\" viewBox=\"0 0 125.23 168.93\" xmlns=\"http://www.w3.org/2000/svg\" xmlns:xlink=\"http://www.w3.org/1999/xlink\"><defs><style type=\"text/css\">*{stroke-linecap:butt;stroke-linejoin:round;}</style></defs><path d=\"m0 168.93h125.23v-168.93h-125.23z\" fill=\"#ffffff\"/><path d=\"m63.491 43.561h49.996\" clip-path=\"url(#p92e14a7cec)\" fill=\"none\" stroke=\"#000000\" stroke-linecap=\"square\" stroke-width=\"2\"/><path d=\"m63.491 89.012h49.996\" clip-path=\"url(#p92e14a7cec)\" fill=\"none\" stroke=\"#000000\" stroke-linecap=\"square\" stroke-width=\"2\"/><path d=\"m63.491 134.46h49.996\" clip-path=\"url(#p92e14a7cec)\" fill=\"none\" stroke=\"#000000\" stroke-linecap=\"square\" stroke-width=\"2\"/><path d=\"m73.263 58.332h29.543v-29.543h-29.543z\" clip-path=\"url(#p92e14a7cec)\" fill=\"#1192e8\" stroke=\"#1192e8\" stroke-width=\"1.5\"/><path d=\"m73.263 103.78h29.543v-29.543h-29.543z\" clip-path=\"url(#p92e14a7cec)\" fill=\"#1192e8\" stroke=\"#1192e8\" stroke-width=\"1.5\"/><path d=\"m73.263 149.23h29.543v-29.543h-29.543z\" clip-path=\"url(#p92e14a7cec)\" fill=\"#1192e8\" stroke=\"#1192e8\" stroke-width=\"1.5\"/><g clip-path=\"url(#p92e14a7cec)\"><g transform=\"translate(36.363 48.012) scale(.1625 -.1625)\"><defs><path id=\"DejaVuSans-Oblique-71\" transform=\"scale(.015625)\" d=\"m2669 525q-231-303-546-460-314-156-695-156-531 0-833 358-301 358-301 986 0 506 186 978t533 847q225 244 517 375t614 131q387 0 637-153t363-462l100 525h578l-934-4813h-579l360 1844zm-1778 813q0-463 193-705 194-242 560-242 544 0 928 520t384 1264q0 450-199 689-198 239-569 239-272 0-504-127-231-126-403-370-181-256-286-600-104-343-104-668z\"/><path id=\"DejaVuSans-30\" transform=\"scale(.015625)\" d=\"m2034 4250q-487 0-733-480-245-479-245-1442 0-959 245-1439 246-480 733-480 491 0 736 480 246 480 246 1439 0 963-246 1442-245 480-736 480zm0 500q785 0 1199-621 414-620 414-1801 0-1178-414-1799-414-620-1199-620-784 0-1198 620-414 621-414 1799 0 1181 414 1801 414 621 1198 621z\"/></defs><use xlink:href=\"#DejaVuSans-Oblique-71\"/><use transform=\"translate(63.477 -16.406) scale(.7)\" xlink:href=\"#DejaVuSans-30\"/></g></g><g clip-path=\"url(#p92e14a7cec)\"><g transform=\"translate(36.363 93.463) scale(.1625 -.1625)\"><defs><path id=\"DejaVuSans-31\" transform=\"scale(.015625)\" d=\"m794 531h1031v3560l-1122-225v575l1116 225h631v-4135h1031v-531h-2687v531z\"/></defs><use xlink:href=\"#DejaVuSans-Oblique-71\"/><use transform=\"translate(63.477 -16.406) scale(.7)\" xlink:href=\"#DejaVuSans-31\"/></g></g><g clip-path=\"url(#p92e14a7cec)\"><g transform=\"translate(36.363 138.91) scale(.1625 -.1625)\"><defs><path id=\"DejaVuSans-32\" transform=\"scale(.015625)\" d=\"m1228 531h2203v-531h-2962v531q359 372 979 998 621 627 780 809 303 340 423 576 121 236 121 464 0 372-261 606-261 235-680 235-297 0-627-103-329-103-704-313v638q381 153 712 231 332 78 607 78 725 0 1156-363 431-362 431-968 0-288-108-546-107-257-392-607-78-91-497-524-418-433-1181-1211z\"/></defs><use xlink:href=\"#DejaVuSans-Oblique-71\"/><use transform=\"translate(63.477 -16.406) scale(.7)\" xlink:href=\"#DejaVuSans-32\"/></g></g><g clip-path=\"url(#p92e14a7cec)\"><g transform=\"translate(83.146 47.148) scale(.13 -.13)\" fill=\"#ffffff\"><defs><path id=\"DejaVuSans-48\" transform=\"scale(.015625)\" d=\"m628 4666h631v-1913h2294v1913h631v-4666h-631v2222h-2294v-2222h-631v4666z\"/></defs><use xlink:href=\"#DejaVuSans-48\"/></g></g><g clip-path=\"url(#p92e14a7cec)\"><g transform=\"translate(83.146 92.599) scale(.13 -.13)\" fill=\"#ffffff\"><use xlink:href=\"#DejaVuSans-48\"/></g></g><g clip-path=\"url(#p92e14a7cec)\"><g transform=\"translate(83.146 138.05) scale(.13 -.13)\" fill=\"#ffffff\"><use xlink:href=\"#DejaVuSans-48\"/></g></g><defs><clipPath id=\"p92e14a7cec\"><rect x=\"7.2\" y=\"7.2\" width=\"110.83\" height=\"154.53\"/></clipPath></defs></svg>"
            ],
            "text/plain": [
              "<Figure size 146.797x204.68 with 1 Axes>"
            ]
          },
          "execution_count": 3,
          "metadata": {
          },
          "output_type": "execute_result"
        }
      ],
      "source": [
        "from qiskit import QuantumCircuit\n",
        "init = QuantumCircuit(3)\n",
        "init.h([0,1,2])\n",
        "init.draw()"
      ]
    },
    {
      "cell_type": "markdown",
      "metadata": {
      },
      "source": [
        "次に、再びQiskitのツールを使って、ステップ2と3を行う回路を作成します。 "
      ]
    },
    {
      "cell_type": "code",
      "execution_count": 4,
      "metadata": {
      },
      "outputs": [

      ],
      "source": [
        "# steps 2 & 3 of Grover's algorithm\n",
        "from qiskit.circuit.library import GroverOperator\n",
        "grover_operator = GroverOperator(oracle)"
      ]
    },
    {
      "cell_type": "markdown",
      "metadata": {
      },
      "source": [
        "そして、これを組み合わせて、グローバーのアルゴリズムを実行する回路を作ることができます。ここでは、小さな問題なので、ステップ2と3を繰り返さず、1回やれば十分です。"
      ]
    },
    {
      "cell_type": "code",
      "execution_count": 5,
      "metadata": {
      },
      "outputs": [
        {
          "data": {
            "image/svg+xml": [
              "<?xml version=\"1.0\" encoding=\"UTF-8\"?><!DOCTYPE svg  PUBLIC '-//W3C//DTD SVG 1.1//EN'  'http://www.w3.org/Graphics/SVG/1.1/DTD/svg11.dtd'><svg width=\"375.35pt\" height=\"214.38pt\" version=\"1.1\" viewBox=\"0 0 375.35 214.38\" xmlns=\"http://www.w3.org/2000/svg\" xmlns:xlink=\"http://www.w3.org/1999/xlink\"><defs><style type=\"text/css\">*{stroke-linecap:butt;stroke-linejoin:round;}</style></defs><path d=\"m0 214.38h375.35v-214.38h-375.35z\" fill=\"#ffffff\"/><path d=\"m241.34 169.57h11.817l-5.9086 8.5221z\" clip-path=\"url(#p990210cd7f)\" fill=\"#778899\"/><path d=\"m286.79 169.57h11.817l-5.9086 8.5221z\" clip-path=\"url(#p990210cd7f)\" fill=\"#778899\"/><path d=\"m332.24 169.57h11.817l-5.9086 8.5221z\" clip-path=\"url(#p990210cd7f)\" fill=\"#778899\"/><path d=\"m86.353 43.561h277.25\" clip-path=\"url(#p990210cd7f)\" fill=\"none\" stroke=\"#000000\" stroke-linecap=\"square\" stroke-width=\"2\"/><path d=\"m86.353 89.012h277.25\" clip-path=\"url(#p990210cd7f)\" fill=\"none\" stroke=\"#000000\" stroke-linecap=\"square\" stroke-width=\"2\"/><path d=\"m86.353 134.46h277.25\" clip-path=\"url(#p990210cd7f)\" fill=\"none\" stroke=\"#000000\" stroke-linecap=\"square\" stroke-width=\"2\"/><path d=\"m86.353 178.44h277.25\" clip-path=\"url(#p990210cd7f)\" fill=\"none\" stroke=\"#778899\" stroke-linecap=\"square\" stroke-width=\"2\"/><path d=\"m86.353 181.39h277.25\" clip-path=\"url(#p990210cd7f)\" fill=\"none\" stroke=\"#778899\" stroke-linecap=\"square\" stroke-width=\"2\"/><path d=\"m192.94 66.286h17.726v-45.451h-17.726z\" clip-path=\"url(#p990210cd7f)\" fill=\"#bdbdbd\" opacity=\".6\"/><path d=\"m192.94 111.74h17.726v-45.451h-17.726z\" clip-path=\"url(#p990210cd7f)\" fill=\"#bdbdbd\" opacity=\".6\"/><path d=\"m192.94 157.19h17.726v-45.451h-17.726z\" clip-path=\"url(#p990210cd7f)\" fill=\"#bdbdbd\" opacity=\".6\"/><path d=\"m95.443 184.46 4.5451-9.0902\" clip-path=\"url(#p990210cd7f)\" fill=\"none\" stroke=\"#778899\" stroke-linecap=\"square\" stroke-width=\"1.5\"/><path d=\"m248.73 43.561v126.01\" clip-path=\"url(#p990210cd7f)\" fill=\"none\" stroke=\"#778899\" stroke-linecap=\"square\" stroke-width=\"2\"/><path d=\"m245.77 43.561v126.01\" clip-path=\"url(#p990210cd7f)\" fill=\"none\" stroke=\"#778899\" stroke-linecap=\"square\" stroke-width=\"2\"/><path d=\"m294.18 89.012v80.562\" clip-path=\"url(#p990210cd7f)\" fill=\"none\" stroke=\"#778899\" stroke-linecap=\"square\" stroke-width=\"2\"/><path d=\"m291.22 89.012v80.562\" clip-path=\"url(#p990210cd7f)\" fill=\"none\" stroke=\"#778899\" stroke-linecap=\"square\" stroke-width=\"2\"/><path d=\"m339.63 134.46v35.111\" clip-path=\"url(#p990210cd7f)\" fill=\"none\" stroke=\"#778899\" stroke-linecap=\"square\" stroke-width=\"2\"/><path d=\"m336.67 134.46v35.111\" clip-path=\"url(#p990210cd7f)\" fill=\"none\" stroke=\"#778899\" stroke-linecap=\"square\" stroke-width=\"2\"/><path d=\"m96.125 58.332h29.543v-29.543h-29.543z\" clip-path=\"url(#p990210cd7f)\" fill=\"#1192e8\" stroke=\"#1192e8\" stroke-width=\"1.5\"/><path d=\"m96.125 103.78h29.543v-29.543h-29.543z\" clip-path=\"url(#p990210cd7f)\" fill=\"#1192e8\" stroke=\"#1192e8\" stroke-width=\"1.5\"/><path d=\"m96.125 149.23h29.543v-29.543h-29.543z\" clip-path=\"url(#p990210cd7f)\" fill=\"#1192e8\" stroke=\"#1192e8\" stroke-width=\"1.5\"/><path d=\"m141.58 149.23h29.543v-120.45h-29.543z\" clip-path=\"url(#p990210cd7f)\" fill=\"#6929c4\" stroke=\"#6929c4\" stroke-width=\"1.5\"/><path d=\"m232.48 58.332h29.543v-29.543h-29.543z\" clip-path=\"url(#p990210cd7f)\" fill=\"#121619\" stroke=\"#121619\" stroke-width=\"1.5\"/><path d=\"m257.59 47.992c0-2.7413-1.0901-5.3732-3.0285-7.3116-1.9384-1.9384-4.5702-3.0285-7.3116-3.0285-2.7413 0-5.3732 1.0901-7.3116 3.0285-1.9384 1.9384-3.0285 4.5702-3.0285 7.3116\" clip-path=\"url(#p990210cd7f)\" fill=\"none\" stroke=\"#ffffff\" stroke-width=\"2\"/><path d=\"m277.93 103.78h29.543v-29.543h-29.543z\" clip-path=\"url(#p990210cd7f)\" fill=\"#121619\" stroke=\"#121619\" stroke-width=\"1.5\"/><path d=\"m303.04 93.443c0-2.7413-1.0901-5.3732-3.0285-7.3116-1.9384-1.9384-4.5702-3.0285-7.3116-3.0285s-5.3732 1.0901-7.3116 3.0285c-1.9384 1.9384-3.0285 4.5702-3.0285 7.3116\" clip-path=\"url(#p990210cd7f)\" fill=\"none\" stroke=\"#ffffff\" stroke-width=\"2\"/><path d=\"m323.38 149.23h29.543v-29.543h-29.543z\" clip-path=\"url(#p990210cd7f)\" fill=\"#121619\" stroke=\"#121619\" stroke-width=\"1.5\"/><path d=\"m348.49 138.89c0-2.7413-1.0901-5.3732-3.0285-7.3116-1.9384-1.9384-4.5702-3.0285-7.3116-3.0285s-5.3732 1.0901-7.3116 3.0285c-1.9384 1.9384-3.0285 4.5702-3.0285 7.3116\" clip-path=\"url(#p990210cd7f)\" fill=\"none\" stroke=\"#ffffff\" stroke-width=\"2\"/><path d=\"m247.25 47.992 10.34-10.34\" clip-path=\"url(#p990210cd7f)\" fill=\"none\" stroke=\"#ffffff\" stroke-linecap=\"square\" stroke-width=\"2\"/><path d=\"m292.7 93.443 10.34-10.34\" clip-path=\"url(#p990210cd7f)\" fill=\"none\" stroke=\"#ffffff\" stroke-linecap=\"square\" stroke-width=\"2\"/><path d=\"m338.15 138.89 10.34-10.34\" clip-path=\"url(#p990210cd7f)\" fill=\"none\" stroke=\"#ffffff\" stroke-linecap=\"square\" stroke-width=\"2\"/><path d=\"m201.8 20.835v45.451\" clip-path=\"url(#p990210cd7f)\" fill=\"none\" stroke=\"#000000\" stroke-dasharray=\"3.7,1.6\"/><path d=\"m201.8 66.286v45.451\" clip-path=\"url(#p990210cd7f)\" fill=\"none\" stroke=\"#000000\" stroke-dasharray=\"3.7,1.6\"/><path d=\"m201.8 111.74v45.451\" clip-path=\"url(#p990210cd7f)\" fill=\"none\" stroke=\"#000000\" stroke-dasharray=\"3.7,1.6\"/><g clip-path=\"url(#p990210cd7f)\"><g transform=\"translate(59.225 48.012) scale(.1625 -.1625)\"><defs><path id=\"DejaVuSans-Oblique-71\" transform=\"scale(.015625)\" d=\"m2669 525q-231-303-546-460-314-156-695-156-531 0-833 358-301 358-301 986 0 506 186 978t533 847q225 244 517 375t614 131q387 0 637-153t363-462l100 525h578l-934-4813h-579l360 1844zm-1778 813q0-463 193-705 194-242 560-242 544 0 928 520t384 1264q0 450-199 689-198 239-569 239-272 0-504-127-231-126-403-370-181-256-286-600-104-343-104-668z\"/><path id=\"DejaVuSans-30\" transform=\"scale(.015625)\" d=\"m2034 4250q-487 0-733-480-245-479-245-1442 0-959 245-1439 246-480 733-480 491 0 736 480 246 480 246 1439 0 963-246 1442-245 480-736 480zm0 500q785 0 1199-621 414-620 414-1801 0-1178-414-1799-414-620-1199-620-784 0-1198 620-414 621-414 1799 0 1181 414 1801 414 621 1198 621z\"/></defs><use xlink:href=\"#DejaVuSans-Oblique-71\"/><use transform=\"translate(63.477 -16.406) scale(.7)\" xlink:href=\"#DejaVuSans-30\"/></g></g><g clip-path=\"url(#p990210cd7f)\"><g transform=\"translate(59.225 93.463) scale(.1625 -.1625)\"><defs><path id=\"DejaVuSans-31\" transform=\"scale(.015625)\" d=\"m794 531h1031v3560l-1122-225v575l1116 225h631v-4135h1031v-531h-2687v531z\"/></defs><use xlink:href=\"#DejaVuSans-Oblique-71\"/><use transform=\"translate(63.477 -16.406) scale(.7)\" xlink:href=\"#DejaVuSans-31\"/></g></g><g clip-path=\"url(#p990210cd7f)\"><g transform=\"translate(59.225 138.91) scale(.1625 -.1625)\"><defs><path id=\"DejaVuSans-32\" transform=\"scale(.015625)\" d=\"m1228 531h2203v-531h-2962v531q359 372 979 998 621 627 780 809 303 340 423 576 121 236 121 464 0 372-261 606-261 235-680 235-297 0-627-103-329-103-704-313v638q381 153 712 231 332 78 607 78 725 0 1156-363 431-362 431-968 0-288-108-546-107-257-392-607-78-91-497-524-418-433-1181-1211z\"/></defs><use xlink:href=\"#DejaVuSans-Oblique-71\"/><use transform=\"translate(63.477 -16.406) scale(.7)\" xlink:href=\"#DejaVuSans-32\"/></g></g><g clip-path=\"url(#p990210cd7f)\"><g transform=\"translate(90.898 173.21) scale(.104 -.104)\"><defs><path id=\"DejaVuSans-33\" transform=\"scale(.015625)\" d=\"m2597 2516q453-97 707-404 255-306 255-756 0-690-475-1069-475-378-1350-378-293 0-604 58t-642 174v609q262-153 574-231 313-78 654-78 593 0 904 234t311 681q0 413-289 645-289 233-804 233h-544v519h569q465 0 712 186t247 536q0 359-255 551-254 193-729 193-260 0-557-57-297-56-653-174v562q360 100 674 150t592 50q719 0 1137-327 419-326 419-882 0-388-222-655t-631-370z\"/></defs><use xlink:href=\"#DejaVuSans-33\"/></g></g><g clip-path=\"url(#p990210cd7f)\"><g transform=\"translate(33.012 184.4) scale(.1625 -.1625)\"><defs><path id=\"DejaVuSans-6d\" transform=\"scale(.015625)\" d=\"m3328 2828q216 388 516 572t706 184q547 0 844-383 297-382 297-1088v-2113h-578v2094q0 503-179 746-178 244-543 244-447 0-707-297-259-296-259-809v-1978h-578v2094q0 506-178 748t-550 242q-441 0-701-298-259-298-259-808v-1978h-578v3500h578v-544q197 322 472 475t653 153q382 0 649-194 267-193 395-562z\"/><path id=\"DejaVuSans-65\" transform=\"scale(.015625)\" d=\"m3597 1894v-281h-2644q38-594 358-905t892-311q331 0 642 81t618 244v-544q-310-131-635-200t-659-69q-838 0-1327 487-489 488-489 1320 0 859 464 1363 464 505 1252 505 706 0 1117-455 411-454 411-1235zm-575 169q-6 471-264 752-258 282-683 282-481 0-770-272t-333-766l2050 4z\"/><path id=\"DejaVuSans-61\" transform=\"scale(.015625)\" d=\"m2194 1759q-697 0-966-159t-269-544q0-306 202-486 202-179 548-179 479 0 768 339t289 901v128h-572zm1147 238v-1997h-575v531q-197-318-491-470t-719-152q-537 0-855 302-317 302-317 808 0 590 395 890 396 300 1180 300h807v57q0 397-261 614t-733 217q-300 0-585-72-284-72-546-216v532q315 122 612 182 297 61 578 61 760 0 1135-394 375-393 375-1193z\"/><path id=\"DejaVuSans-73\" transform=\"scale(.015625)\" d=\"m2834 3397v-544q-243 125-506 187-262 63-544 63-428 0-642-131t-214-394q0-200 153-314t616-217l197-44q612-131 870-370t258-667q0-488-386-773-386-284-1061-284-281 0-586 55t-642 164v594q319-166 628-249 309-82 613-82 406 0 624 139 219 139 219 392 0 234-158 359-157 125-692 241l-200 47q-534 112-772 345-237 233-237 639 0 494 350 762 350 269 994 269 318 0 599-47 282-46 519-140z\"/></defs><use xlink:href=\"#DejaVuSans-6d\"/><use x=\"97.412109\" xlink:href=\"#DejaVuSans-65\"/><use x=\"158.935547\" xlink:href=\"#DejaVuSans-61\"/><use x=\"220.214844\" xlink:href=\"#DejaVuSans-73\"/></g></g><g clip-path=\"url(#p990210cd7f)\"><g transform=\"translate(106.01 47.148) scale(.13 -.13)\" fill=\"#ffffff\"><defs><path id=\"DejaVuSans-48\" transform=\"scale(.015625)\" d=\"m628 4666h631v-1913h2294v1913h631v-4666h-631v2222h-2294v-2222h-631v4666z\"/></defs><use xlink:href=\"#DejaVuSans-48\"/></g></g><g clip-path=\"url(#p990210cd7f)\"><g transform=\"translate(106.01 92.599) scale(.13 -.13)\" fill=\"#ffffff\"><use xlink:href=\"#DejaVuSans-48\"/></g></g><g clip-path=\"url(#p990210cd7f)\"><g transform=\"translate(106.01 138.05) scale(.13 -.13)\" fill=\"#ffffff\"><use xlink:href=\"#DejaVuSans-48\"/></g></g><g clip-path=\"url(#p990210cd7f)\"><g transform=\"translate(144.76 47.148) scale(.13 -.13)\" fill=\"#ffffff\"><use xlink:href=\"#DejaVuSans-30\"/></g></g><g clip-path=\"url(#p990210cd7f)\"><g transform=\"translate(144.76 92.599) scale(.13 -.13)\" fill=\"#ffffff\"><use xlink:href=\"#DejaVuSans-31\"/></g></g><g clip-path=\"url(#p990210cd7f)\"><g transform=\"translate(144.76 138.05) scale(.13 -.13)\" fill=\"#ffffff\"><use xlink:href=\"#DejaVuSans-32\"/></g></g><g clip-path=\"url(#p990210cd7f)\"><g transform=\"translate(156.23 92.599) scale(.13 -.13)\" fill=\"#ffffff\"><defs><path id=\"DejaVuSans-51\" transform=\"scale(.015625)\" d=\"m2522 4238q-688 0-1093-513-404-512-404-1397 0-881 404-1394 405-512 1093-512 687 0 1089 512 402 513 402 1394 0 885-402 1397-402 513-1089 513zm884-4154 832-909h-763l-691 747q-103-6-158-9-54-4-104-4-984 0-1574 658-589 658-589 1761 0 1106 589 1764 590 658 1574 658 981 0 1568-658 588-658 588-1764 0-812-327-1391-326-578-945-853z\"/></defs><use xlink:href=\"#DejaVuSans-51\"/></g></g><g clip-path=\"url(#p990210cd7f)\"><g transform=\"translate(258.61 173.21) scale(.104 -.104)\"><use xlink:href=\"#DejaVuSans-30\"/></g></g><g clip-path=\"url(#p990210cd7f)\"><g transform=\"translate(304.06 173.21) scale(.104 -.104)\"><use xlink:href=\"#DejaVuSans-31\"/></g></g><g clip-path=\"url(#p990210cd7f)\"><g transform=\"translate(349.51 173.21) scale(.104 -.104)\"><use xlink:href=\"#DejaVuSans-32\"/></g></g><defs><clipPath id=\"p990210cd7f\"><rect x=\"7.2\" y=\"7.2\" width=\"360.95\" height=\"199.98\"/></clipPath></defs></svg>"
            ],
            "text/plain": [
              "<Figure size 478.079x264.88 with 1 Axes>"
            ]
          },
          "execution_count": 5,
          "metadata": {
          },
          "output_type": "execute_result"
        }
      ],
      "source": [
        "qc = init.compose(grover_operator)\n",
        "qc.measure_all()\n",
        "qc.draw()"
      ]
    },
    {
      "cell_type": "markdown",
      "metadata": {
      },
      "source": [
        "最後に、これをシミュレーターで動かして、どんな結果が出るか見てみましょう。"
      ]
    },
    {
      "cell_type": "code",
      "execution_count": 6,
      "metadata": {
        "slideshow": {
          "slide_type": "fragment"
        }
      },
      "outputs": [
        {
          "data": {
            "image/svg+xml": [
              "<?xml version=\"1.0\" encoding=\"UTF-8\"?><!DOCTYPE svg  PUBLIC '-//W3C//DTD SVG 1.1//EN'  'http://www.w3.org/Graphics/SVG/1.1/DTD/svg11.dtd'><svg width=\"460.72pt\" height=\"322.95pt\" version=\"1.1\" viewBox=\"0 0 460.72 322.95\" xmlns=\"http://www.w3.org/2000/svg\" xmlns:xlink=\"http://www.w3.org/1999/xlink\"><defs><style type=\"text/css\">*{stroke-linecap:butt;stroke-linejoin:round;}</style></defs><path d=\"m0 322.95h460.72v-322.95h-460.72z\" fill=\"none\"/><path d=\"m62.921 279h390.6v-271.8h-390.6z\" fill=\"#ffffff\"/><defs><path id=\"m4e31fa4171\" d=\"m0 0v3.5\" stroke=\"#000000\" stroke-width=\".8\"/></defs><use x=\"92.512159\" y=\"279\" stroke=\"#000000\" stroke-width=\".8\" xlink:href=\"#m4e31fa4171\"/><g transform=\"translate(91.572 314.75) rotate(-70) scale(.14 -.14)\"><defs><path id=\"DejaVuSans-30\" transform=\"scale(.015625)\" d=\"m2034 4250q-487 0-733-480-245-479-245-1442 0-959 245-1439 246-480 733-480 491 0 736 480 246 480 246 1439 0 963-246 1442-245 480-736 480zm0 500q785 0 1199-621 414-620 414-1801 0-1178-414-1799-414-620-1199-620-784 0-1198 620-414 621-414 1799 0 1181 414 1801 414 621 1198 621z\"/></defs><use xlink:href=\"#DejaVuSans-30\"/><use x=\"63.623047\" xlink:href=\"#DejaVuSans-30\"/><use x=\"127.246094\" xlink:href=\"#DejaVuSans-30\"/></g><use x=\"139.857614\" y=\"279\" stroke=\"#000000\" stroke-width=\".8\" xlink:href=\"#m4e31fa4171\"/><g transform=\"translate(138.92 314.75) rotate(-70) scale(.14 -.14)\"><defs><path id=\"DejaVuSans-31\" transform=\"scale(.015625)\" d=\"m794 531h1031v3560l-1122-225v575l1116 225h631v-4135h1031v-531h-2687v531z\"/></defs><use xlink:href=\"#DejaVuSans-30\"/><use x=\"63.623047\" xlink:href=\"#DejaVuSans-30\"/><use x=\"127.246094\" xlink:href=\"#DejaVuSans-31\"/></g><use x=\"187.203068\" y=\"279\" stroke=\"#000000\" stroke-width=\".8\" xlink:href=\"#m4e31fa4171\"/><g transform=\"translate(186.26 314.75) rotate(-70) scale(.14 -.14)\"><use xlink:href=\"#DejaVuSans-30\"/><use x=\"63.623047\" xlink:href=\"#DejaVuSans-31\"/><use x=\"127.246094\" xlink:href=\"#DejaVuSans-30\"/></g><use x=\"234.548523\" y=\"279\" stroke=\"#000000\" stroke-width=\".8\" xlink:href=\"#m4e31fa4171\"/><g transform=\"translate(233.61 314.75) rotate(-70) scale(.14 -.14)\"><use xlink:href=\"#DejaVuSans-30\"/><use x=\"63.623047\" xlink:href=\"#DejaVuSans-31\"/><use x=\"127.246094\" xlink:href=\"#DejaVuSans-31\"/></g><use x=\"281.893977\" y=\"279\" stroke=\"#000000\" stroke-width=\".8\" xlink:href=\"#m4e31fa4171\"/><g transform=\"translate(280.95 314.75) rotate(-70) scale(.14 -.14)\"><use xlink:href=\"#DejaVuSans-31\"/><use x=\"63.623047\" xlink:href=\"#DejaVuSans-30\"/><use x=\"127.246094\" xlink:href=\"#DejaVuSans-30\"/></g><use x=\"329.239432\" y=\"279\" stroke=\"#000000\" stroke-width=\".8\" xlink:href=\"#m4e31fa4171\"/><g transform=\"translate(328.3 314.75) rotate(-70) scale(.14 -.14)\"><use xlink:href=\"#DejaVuSans-31\"/><use x=\"63.623047\" xlink:href=\"#DejaVuSans-30\"/><use x=\"127.246094\" xlink:href=\"#DejaVuSans-31\"/></g><use x=\"376.584886\" y=\"279\" stroke=\"#000000\" stroke-width=\".8\" xlink:href=\"#m4e31fa4171\"/><g transform=\"translate(375.65 314.75) rotate(-70) scale(.14 -.14)\"><use xlink:href=\"#DejaVuSans-31\"/><use x=\"63.623047\" xlink:href=\"#DejaVuSans-31\"/><use x=\"127.246094\" xlink:href=\"#DejaVuSans-30\"/></g><use x=\"423.930341\" y=\"279\" stroke=\"#000000\" stroke-width=\".8\" xlink:href=\"#m4e31fa4171\"/><g transform=\"translate(422.99 314.75) rotate(-70) scale(.14 -.14)\"><use xlink:href=\"#DejaVuSans-31\"/><use x=\"63.623047\" xlink:href=\"#DejaVuSans-31\"/><use x=\"127.246094\" xlink:href=\"#DejaVuSans-31\"/></g><path d=\"m62.921 279h390.6\" clip-path=\"url(#p72d972abc6)\" fill=\"none\" stroke=\"#b0b0b0\" stroke-dasharray=\"2.96,1.28\" stroke-width=\".8\"/><defs><path id=\"m80035f9e0a\" d=\"m0 0h-3.5\" stroke=\"#000000\" stroke-width=\".8\"/></defs><use x=\"62.92125\" y=\"279\" stroke=\"#000000\" stroke-width=\".8\" xlink:href=\"#m80035f9e0a\"/><g transform=\"translate(24.749 284.32) scale(.14 -.14)\"><defs><path id=\"DejaVuSans-2e\" transform=\"scale(.015625)\" d=\"m684 794h660v-794h-660v794z\"/></defs><use xlink:href=\"#DejaVuSans-30\"/><use x=\"63.623047\" xlink:href=\"#DejaVuSans-2e\"/><use x=\"95.410156\" xlink:href=\"#DejaVuSans-30\"/><use x=\"159.033203\" xlink:href=\"#DejaVuSans-30\"/></g><path d=\"m62.921 220.1h390.6\" clip-path=\"url(#p72d972abc6)\" fill=\"none\" stroke=\"#b0b0b0\" stroke-dasharray=\"2.96,1.28\" stroke-width=\".8\"/><use x=\"62.92125\" y=\"220.095619\" stroke=\"#000000\" stroke-width=\".8\" xlink:href=\"#m80035f9e0a\"/><g transform=\"translate(24.749 225.41) scale(.14 -.14)\"><defs><path id=\"DejaVuSans-38\" transform=\"scale(.015625)\" d=\"m2034 2216q-450 0-708-241-257-241-257-662 0-422 257-663 258-241 708-241t709 242q260 243 260 662 0 421-258 662-257 241-711 241zm-631 268q-406 100-633 378-226 279-226 679 0 559 398 884 399 325 1092 325 697 0 1094-325t397-884q0-400-227-679-226-278-629-378 456-106 710-416 255-309 255-755 0-679-414-1042-414-362-1186-362-771 0-1186 362-414 363-414 1042 0 446 256 755 257 310 713 416zm-231 997q0-362 226-565 227-203 636-203 407 0 636 203 230 203 230 565 0 363-230 566-229 203-636 203-409 0-636-203-226-203-226-566z\"/></defs><use xlink:href=\"#DejaVuSans-30\"/><use x=\"63.623047\" xlink:href=\"#DejaVuSans-2e\"/><use x=\"95.410156\" xlink:href=\"#DejaVuSans-30\"/><use x=\"159.033203\" xlink:href=\"#DejaVuSans-38\"/></g><path d=\"m62.921 161.19h390.6\" clip-path=\"url(#p72d972abc6)\" fill=\"none\" stroke=\"#b0b0b0\" stroke-dasharray=\"2.96,1.28\" stroke-width=\".8\"/><use x=\"62.92125\" y=\"161.191238\" stroke=\"#000000\" stroke-width=\".8\" xlink:href=\"#m80035f9e0a\"/><g transform=\"translate(24.749 166.51) scale(.14 -.14)\"><defs><path id=\"DejaVuSans-36\" transform=\"scale(.015625)\" d=\"m2113 2584q-425 0-674-291-248-290-248-796 0-503 248-796 249-292 674-292t673 292q248 293 248 796 0 506-248 796-248 291-673 291zm1253 1979v-575q-238 112-480 171-242 60-480 60-625 0-955-422-329-422-376-1275 184 272 462 417 279 145 613 145 703 0 1111-427 408-426 408-1160 0-719-425-1154-425-434-1131-434-810 0-1238 620-428 621-428 1799 0 1106 525 1764t1409 658q238 0 480-47t505-140z\"/></defs><use xlink:href=\"#DejaVuSans-30\"/><use x=\"63.623047\" xlink:href=\"#DejaVuSans-2e\"/><use x=\"95.410156\" xlink:href=\"#DejaVuSans-31\"/><use x=\"159.033203\" xlink:href=\"#DejaVuSans-36\"/></g><path d=\"m62.921 102.29h390.6\" clip-path=\"url(#p72d972abc6)\" fill=\"none\" stroke=\"#b0b0b0\" stroke-dasharray=\"2.96,1.28\" stroke-width=\".8\"/><use x=\"62.92125\" y=\"102.286857\" stroke=\"#000000\" stroke-width=\".8\" xlink:href=\"#m80035f9e0a\"/><g transform=\"translate(24.749 107.61) scale(.14 -.14)\"><defs><path id=\"DejaVuSans-32\" transform=\"scale(.015625)\" d=\"m1228 531h2203v-531h-2962v531q359 372 979 998 621 627 780 809 303 340 423 576 121 236 121 464 0 372-261 606-261 235-680 235-297 0-627-103-329-103-704-313v638q381 153 712 231 332 78 607 78 725 0 1156-363 431-362 431-968 0-288-108-546-107-257-392-607-78-91-497-524-418-433-1181-1211z\"/><path id=\"DejaVuSans-34\" transform=\"scale(.015625)\" d=\"m2419 4116-1594-2491h1594v2491zm-166 550h794v-3041h666v-525h-666v-1100h-628v1100h-2106v609l1940 2957z\"/></defs><use xlink:href=\"#DejaVuSans-30\"/><use x=\"63.623047\" xlink:href=\"#DejaVuSans-2e\"/><use x=\"95.410156\" xlink:href=\"#DejaVuSans-32\"/><use x=\"159.033203\" xlink:href=\"#DejaVuSans-34\"/></g><path d=\"m62.921 43.382h390.6\" clip-path=\"url(#p72d972abc6)\" fill=\"none\" stroke=\"#b0b0b0\" stroke-dasharray=\"2.96,1.28\" stroke-width=\".8\"/><use x=\"62.92125\" y=\"43.382476\" stroke=\"#000000\" stroke-width=\".8\" xlink:href=\"#m80035f9e0a\"/><g transform=\"translate(24.749 48.701) scale(.14 -.14)\"><defs><path id=\"DejaVuSans-33\" transform=\"scale(.015625)\" d=\"m2597 2516q453-97 707-404 255-306 255-756 0-690-475-1069-475-378-1350-378-293 0-604 58t-642 174v609q262-153 574-231 313-78 654-78 593 0 904 234t311 681q0 413-289 645-289 233-804 233h-544v519h569q465 0 712 186t247 536q0 359-255 551-254 193-729 193-260 0-557-57-297-56-653-174v562q360 100 674 150t592 50q719 0 1137-327 419-326 419-882 0-388-222-655t-631-370z\"/></defs><use xlink:href=\"#DejaVuSans-30\"/><use x=\"63.623047\" xlink:href=\"#DejaVuSans-2e\"/><use x=\"95.410156\" xlink:href=\"#DejaVuSans-33\"/><use x=\"159.033203\" xlink:href=\"#DejaVuSans-32\"/></g><g transform=\"translate(17.838 185.86) rotate(-90) scale(.14 -.14)\"><defs><path id=\"DejaVuSans-50\" transform=\"scale(.015625)\" d=\"m1259 4147v-1753h794q441 0 681 228 241 228 241 650 0 419-241 647-240 228-681 228h-794zm-631 519h1425q785 0 1186-355 402-355 402-1039 0-691-402-1044-401-353-1186-353h-794v-1875h-631v4666z\"/><path id=\"DejaVuSans-72\" transform=\"scale(.015625)\" d=\"m2631 2963q-97 56-211 82-114 27-251 27-488 0-749-317t-261-911v-1844h-578v3500h578v-544q182 319 472 473 291 155 707 155 59 0 131-8 72-7 159-23l3-590z\"/><path id=\"DejaVuSans-6f\" transform=\"scale(.015625)\" d=\"m1959 3097q-462 0-731-361t-269-989 267-989q268-361 733-361 460 0 728 362 269 363 269 988 0 622-269 986-268 364-728 364zm0 487q750 0 1178-488 429-487 429-1349 0-859-429-1349-428-489-1178-489-753 0-1180 489-426 490-426 1349 0 862 426 1349 427 488 1180 488z\"/><path id=\"DejaVuSans-62\" transform=\"scale(.015625)\" d=\"m3116 1747q0 634-261 995t-717 361q-457 0-718-361t-261-995 261-995 718-361q456 0 717 361t261 995zm-1957 1222q182 312 458 463 277 152 661 152 638 0 1036-506 399-506 399-1331t-399-1332q-398-506-1036-506-384 0-661 152-276 152-458 464v-525h-578v4863h578v-1894z\"/><path id=\"DejaVuSans-61\" transform=\"scale(.015625)\" d=\"m2194 1759q-697 0-966-159t-269-544q0-306 202-486 202-179 548-179 479 0 768 339t289 901v128h-572zm1147 238v-1997h-575v531q-197-318-491-470t-719-152q-537 0-855 302-317 302-317 808 0 590 395 890 396 300 1180 300h807v57q0 397-261 614t-733 217q-300 0-585-72-284-72-546-216v532q315 122 612 182 297 61 578 61 760 0 1135-394 375-393 375-1193z\"/><path id=\"DejaVuSans-69\" transform=\"scale(.015625)\" d=\"m603 3500h575v-3500h-575v3500zm0 1363h575v-729h-575v729z\"/><path id=\"DejaVuSans-6c\" transform=\"scale(.015625)\" d=\"m603 4863h575v-4863h-575v4863z\"/><path id=\"DejaVuSans-74\" transform=\"scale(.015625)\" d=\"m1172 4494v-994h1184v-447h-1184v-1900q0-428 117-550t477-122h590v-481h-590q-666 0-919 248-253 249-253 905v1900h-422v447h422v994h578z\"/><path id=\"DejaVuSans-65\" transform=\"scale(.015625)\" d=\"m3597 1894v-281h-2644q38-594 358-905t892-311q331 0 642 81t618 244v-544q-310-131-635-200t-659-69q-838 0-1327 487-489 488-489 1320 0 859 464 1363 464 505 1252 505 706 0 1117-455 411-454 411-1235zm-575 169q-6 471-264 752-258 282-683 282-481 0-770-272t-333-766l2050 4z\"/><path id=\"DejaVuSans-73\" transform=\"scale(.015625)\" d=\"m2834 3397v-544q-243 125-506 187-262 63-544 63-428 0-642-131t-214-394q0-200 153-314t616-217l197-44q612-131 870-370t258-667q0-488-386-773-386-284-1061-284-281 0-586 55t-642 164v594q319-166 628-249 309-82 613-82 406 0 624 139 219 139 219 392 0 234-158 359-157 125-692 241l-200 47q-534 112-772 345-237 233-237 639 0 494 350 762 350 269 994 269 318 0 599-47 282-46 519-140z\"/></defs><use xlink:href=\"#DejaVuSans-50\"/><use x=\"58.552734\" xlink:href=\"#DejaVuSans-72\"/><use x=\"97.416016\" xlink:href=\"#DejaVuSans-6f\"/><use x=\"158.597656\" xlink:href=\"#DejaVuSans-62\"/><use x=\"222.074219\" xlink:href=\"#DejaVuSans-61\"/><use x=\"283.353516\" xlink:href=\"#DejaVuSans-62\"/><use x=\"346.830078\" xlink:href=\"#DejaVuSans-69\"/><use x=\"374.613281\" xlink:href=\"#DejaVuSans-6c\"/><use x=\"402.396484\" xlink:href=\"#DejaVuSans-69\"/><use x=\"430.179688\" xlink:href=\"#DejaVuSans-74\"/><use x=\"469.388672\" xlink:href=\"#DejaVuSans-69\"/><use x=\"497.171875\" xlink:href=\"#DejaVuSans-65\"/><use x=\"558.695312\" xlink:href=\"#DejaVuSans-73\"/></g><path d=\"m80.676 279h23.673v-205.65h-23.673z\" clip-path=\"url(#p72d972abc6)\" fill=\"#648fff\"/><path d=\"m128.02 279h23.673v-23.01h-23.673z\" clip-path=\"url(#p72d972abc6)\" fill=\"#648fff\"/><path d=\"m175.37 279h23.673v-21.571h-23.673z\" clip-path=\"url(#p72d972abc6)\" fill=\"#648fff\"/><path d=\"m222.71 279h23.673v-226.5h-23.673z\" clip-path=\"url(#p72d972abc6)\" fill=\"#648fff\"/><path d=\"m270.06 279h23.673v-15.819h-23.673z\" clip-path=\"url(#p72d972abc6)\" fill=\"#648fff\"/><path d=\"m317.4 279h23.673v-204.21h-23.673z\" clip-path=\"url(#p72d972abc6)\" fill=\"#648fff\"/><path d=\"m364.75 279h23.673v-17.257h-23.673z\" clip-path=\"url(#p72d972abc6)\" fill=\"#648fff\"/><path d=\"m412.09 279h23.673v-22.29h-23.673z\" clip-path=\"url(#p72d972abc6)\" fill=\"#648fff\"/><path d=\"m62.921 279v-271.8\" fill=\"none\" stroke=\"#000000\" stroke-linecap=\"square\" stroke-width=\".8\"/><path d=\"m453.52 279v-271.8\" fill=\"none\" stroke=\"#000000\" stroke-linecap=\"square\" stroke-width=\".8\"/><path d=\"m62.921 279h390.6\" fill=\"none\" stroke=\"#000000\" stroke-linecap=\"square\" stroke-width=\".8\"/><path d=\"m62.921 7.2h390.6\" fill=\"none\" stroke=\"#000000\" stroke-linecap=\"square\" stroke-width=\".8\"/><g transform=\"translate(78.198 60.99) scale(.1 -.1)\"><defs><path id=\"DejaVuSans-37\" transform=\"scale(.015625)\" d=\"m525 4666h3e3v-269l-1694-4397h-659l1594 4134h-2241v532z\"/><path id=\"DejaVuSans-39\" transform=\"scale(.015625)\" d=\"m703 97v575q238-113 481-172 244-59 479-59 625 0 954 420 330 420 377 1277-181-269-460-413-278-144-615-144-700 0-1108 423-408 424-408 1159 0 718 425 1152 425 435 1131 435 810 0 1236-621 427-620 427-1801 0-1103-524-1761-523-658-1407-658-238 0-482 47-243 47-506 141zm1256 1978q425 0 673 290 249 291 249 798 0 503-249 795-248 292-673 292t-673-292-248-795q0-507 248-798 248-290 673-290z\"/></defs><use xlink:href=\"#DejaVuSans-30\"/><use x=\"63.623047\" xlink:href=\"#DejaVuSans-2e\"/><use x=\"95.410156\" xlink:href=\"#DejaVuSans-32\"/><use x=\"159.033203\" xlink:href=\"#DejaVuSans-37\"/><use x=\"222.65625\" xlink:href=\"#DejaVuSans-39\"/></g><g transform=\"translate(125.54 252.76) scale(.1 -.1)\"><use xlink:href=\"#DejaVuSans-30\"/><use x=\"63.623047\" xlink:href=\"#DejaVuSans-2e\"/><use x=\"95.410156\" xlink:href=\"#DejaVuSans-30\"/><use x=\"159.033203\" xlink:href=\"#DejaVuSans-33\"/><use x=\"222.65625\" xlink:href=\"#DejaVuSans-31\"/></g><g transform=\"translate(172.89 254.27) scale(.1 -.1)\"><use xlink:href=\"#DejaVuSans-30\"/><use x=\"63.623047\" xlink:href=\"#DejaVuSans-2e\"/><use x=\"95.410156\" xlink:href=\"#DejaVuSans-30\"/><use x=\"159.033203\" xlink:href=\"#DejaVuSans-32\"/><use x=\"222.65625\" xlink:href=\"#DejaVuSans-39\"/></g><g transform=\"translate(220.23 39.095) scale(.1 -.1)\"><use xlink:href=\"#DejaVuSans-30\"/><use x=\"63.623047\" xlink:href=\"#DejaVuSans-2e\"/><use x=\"95.410156\" xlink:href=\"#DejaVuSans-33\"/><use x=\"159.033203\" xlink:href=\"#DejaVuSans-30\"/><use x=\"222.65625\" xlink:href=\"#DejaVuSans-38\"/></g><g transform=\"translate(267.58 260.31) scale(.1 -.1)\"><use xlink:href=\"#DejaVuSans-30\"/><use x=\"63.623047\" xlink:href=\"#DejaVuSans-2e\"/><use x=\"95.410156\" xlink:href=\"#DejaVuSans-30\"/><use x=\"159.033203\" xlink:href=\"#DejaVuSans-32\"/><use x=\"222.65625\" xlink:href=\"#DejaVuSans-31\"/></g><g transform=\"translate(314.93 62.5) scale(.1 -.1)\"><use xlink:href=\"#DejaVuSans-30\"/><use x=\"63.623047\" xlink:href=\"#DejaVuSans-2e\"/><use x=\"95.410156\" xlink:href=\"#DejaVuSans-32\"/><use x=\"159.033203\" xlink:href=\"#DejaVuSans-37\"/><use x=\"222.65625\" xlink:href=\"#DejaVuSans-37\"/></g><g transform=\"translate(362.27 258.8) scale(.1 -.1)\"><use xlink:href=\"#DejaVuSans-30\"/><use x=\"63.623047\" xlink:href=\"#DejaVuSans-2e\"/><use x=\"95.410156\" xlink:href=\"#DejaVuSans-30\"/><use x=\"159.033203\" xlink:href=\"#DejaVuSans-32\"/><use x=\"222.65625\" xlink:href=\"#DejaVuSans-33\"/></g><g transform=\"translate(409.62 253.52) scale(.1 -.1)\"><use xlink:href=\"#DejaVuSans-30\"/><use x=\"63.623047\" xlink:href=\"#DejaVuSans-2e\"/><use x=\"95.410156\" xlink:href=\"#DejaVuSans-30\"/><use x=\"159.033203\" xlink:href=\"#DejaVuSans-33\"/><use x=\"222.65625\" xlink:href=\"#DejaVuSans-30\"/></g><defs><clipPath id=\"p72d972abc6\"><rect x=\"62.921\" y=\"7.2\" width=\"390.6\" height=\"271.8\"/></clipPath></defs></svg>"
            ],
            "text/plain": [
              "<Figure size 504x360 with 1 Axes>"
            ]
          },
          "execution_count": 6,
          "metadata": {
          },
          "output_type": "execute_result"
        }
      ],
      "source": [
        "# Simulate the circuit\n",
        "from qiskit import Aer, transpile\n",
        "sim = Aer.get_backend('aer_simulator')\n",
        "t_qc = transpile(qc, sim)\n",
        "counts = sim.run(t_qc).result().get_counts()\n",
        "\n",
        "# plot the results\n",
        "from qiskit.visualization import plot_histogram\n",
        "plot_histogram(counts)"
      ]
    },
    {
      "cell_type": "markdown",
      "metadata": {
      },
      "source": [
        "SAT問題の3つの解のうち、1つを高い確率で測定することができます。\n",
        "\n",
        "<!-- ::: q-block.exercise -->\n",
        "\n",
        "### クイッククイズ\n",
        "\n",
        "<!-- ::: q-quiz(goal=\"intro-grover-3\") -->\n",
        "\n",
        "<!-- ::: .question -->\n",
        "\n",
        "この量子回路が解くSAT問題の解は、どのビット列でしょうか？\n",
        "\n",
        "<!-- ::: -->\n",
        "\n",
        "<!-- ::: .option(correct) -->\n",
        "\n",
        "1. `011`\n",
        "\n",
        "<!-- ::: -->\n",
        "\n",
        "<!-- ::: .option -->\n",
        "\n",
        "1. `001`\n",
        "\n",
        "<!-- ::: -->\n",
        "\n",
        "<!-- ::: .option -->\n",
        "\n",
        "1. `010`\n",
        "\n",
        "<!-- ::: -->\n",
        "\n",
        "<!-- ::: .option -->\n",
        "\n",
        "1. `110`\n",
        "\n",
        "<!-- ::: -->\n",
        "\n",
        "<!-- ::: -->\n",
        "\n",
        "<!-- ::: -->"
      ]
    },
    {
      "cell_type": "markdown",
      "metadata": {
      },
      "source": [
        "## グローバーのアルゴリズムの仕組みは？\n",
        "\n",
        "私たちは、探索問題について学び、グローバーのアルゴリズムがその問題を解くのに使われるのを見てきました。しかし、どのように、そしてなぜ、このようなことができるのでしょうか？\n",
        "\n",
        "<!-- ::: q-block -->\n",
        "\n",
        "### グローバーのアルゴリズムの可視化\n",
        "\n",
        "<!-- ::: q-carousel -->\n",
        "\n",
        "<!-- ::: div -->\n",
        "\n",
        "グローバーのアルゴリズムは、幾何学的な説明が充実しています。我々は量子状態をベクトルで表現できることを見てきました。このような探索問題では、2つのベクトルしか気にしません。つまり、解と、それ以外です。すべての解の重ね合わせ状態を「$|✓\\rangle$」と呼ぶことにします。上記のSAT問題では、このようになります。\n",
        "\n",
        "$$|✓\\rangle = \\tfrac{1}{\\sqrt{3}}(|000\\rangle + |011\\rangle + |101\\rangle)$$\n",
        "\n",
        "そして、それ以外のすべての状態の重ね合わせを「$|✗\\rangle$」と呼ぶことにします。\n",
        "\n",
        "$$|✗\\rangle = \\tfrac{1}{\\sqrt{5}}(|001\\rangle + |010\\rangle + |100\\rangle + |110\\rangle + |111\\rangle)$$\n",
        "\n",
        "<!-- ::: -->\n",
        "\n",
        "<!-- ::: div -->\n",
        "\n",
        "**平面**\n",
        "\n",
        "![2D空間のy軸とx軸として|omega>と|s prime>を示す画像](images/grover/carousel/1/0.svg)\n",
        "\n",
        "2つのベクトル $|✓\\rangle$ と $|✗\\rangle$ は要素を共有していないので、直交しており、2次元平面上に直角に描くことができます。これがそれぞれy軸とx軸になります。\n",
        "\n",
        "<!-- ::: -->\n",
        "\n",
        "<!-- ::: div -->\n",
        "\n",
        "**ステップ1**\n",
        "\n",
        "![2D空間のy軸とx軸として|omega>と|s prime>を示す画像](images/grover/carousel/1/1.svg)\n",
        "\n",
        "アルゴリズムのさまざまなポイントで、この平面上の量子コンピューターの状態をプロットしてみましょう。プロットする最初の状態は $|s\\rangle$ です。これは、ステップ 1 (初期化ステップ)*後*の状態です。この状態は、計算上のすべての基底状態を等しく重ね合わせたものです。可能な状態は解であるか解ではないかのどちらかであるため、$|s\\rangle$ を $|✓\\rangle$ と $|✗\\rangle$ の組み合わせとして記述できるため、平面上ではそれらの間に位置します。\n",
        "\n",
        "$$|s\\rangle = a|✗\\rangle + b|✓\\rangle$$\n",
        "\n",
        "<!-- ::: -->\n",
        "\n",
        "<!-- ::: div -->\n",
        "\n",
        "**ステップ1**\n",
        "\n",
        "![|omega> / |s-prime>平面上の|s>を示す画像](images/grover/carousel/1/1.svg)\n",
        "\n",
        "難しい問題の場合、考えられる入力は多数あると予想されますが、解は少数しかありません。この場合、$|s\\rangle$ は $|✓\\rangle$ よりも $|✗\\rangle$ にはるかに近い (つまり、それらの間の角度 $\\theta$ が小さい) ため、測定が$|✓\\rangle$ を構成する計算基底状態の 1 つを与える可能性は低いです。 私たちの目標は、コンピューターを $|✓\\rangle$ にできるだけ近い状態にすることです。\n",
        "\n",
        "<!-- ::: -->\n",
        "\n",
        "<!-- ::: div -->\n",
        "\n",
        "**ステップ2**\n",
        "\n",
        "![|omega> / |s-prime>平面上のU_omega|s>を示す画像](images/grover/carousel/1/2.svg)\n",
        "\n",
        "次に、回路 $U_\\text{oracle}$ に量子ビットを通します。定義により、$U_\\text{oracle}$ はすべての解の状態の位相を反転させることを上で見ました。この図では、ベクトル $|✗\\rangle$ を通して鏡映しています。つまり\n",
        "\n",
        "$$a|✗\\rangle + b|✓\\rangle \\xrightarrow{\\text{oracle}} a|✗\\rangle - b|✓\\rangle$$\n",
        "\n",
        "<!-- ::: -->\n",
        "\n",
        "<!-- ::: div -->\n",
        "\n",
        "**ステップ3**\n",
        "\n",
        "![|omega> / |s-prime>平面上のU_omega|s>を示す画像](images/grover/carousel/1/2.svg)\n",
        "\n",
        "先ほど、ベクトル $|✗\\rangle$ を通して鏡映できることがわかりましたが、他に状態を $|✓\\rangle$ に近づけるようなベクトルはあるでしょうか？答えは「イエス」で、ベクトル $|s\\rangle$ を通して鏡映することができます。このような回路をどのように作ればいいのか、最初はわからないかもしれませんが、比較的簡単な操作なので、このページの後半で説明します。\n",
        "\n",
        "<!-- ::: -->\n",
        "\n",
        "<!-- ::: div -->\n",
        "\n",
        "**終了（または繰り返し）**\n",
        "\n",
        "![|omega> / |s-prime>平面上のU_omega|s>を示す画像](images/grover/carousel/1/3.svg)\n",
        "\n",
        "このとき、状態ベクトルは前よりも $|✓\\rangle$ に近くなっているので、解の状態を測定できる確率が高くなります。解が1つしかない場合、その解を測定する確率が最も高くなるように、ステップ2と3を~$\\sqrt{N}$ 回繰り返す必要があります。\n",
        "\n",
        "<!-- ::: -->\n",
        "\n",
        "<!-- ::: -->\n",
        "\n",
        "<!-- ::: -->"
      ]
    },
    {
      "cell_type": "markdown",
      "metadata": {
      },
      "source": [
        "<!-- ::: q-block -->\n",
        "\n",
        "### オラクルに何回問い合わせれば良いのか？\n",
        "\n",
        "<!-- ::: q-carousel -->\n",
        "\n",
        "<!-- ::: div -->\n",
        "\n",
        "![2D空間のy軸とx軸として|omega>と|s prime>を示す画像](images/grover/carousel/2/0.svg)\n",
        "\n",
        "これを解決するために、各反復がどれだけ状態を $|✓\\rangle$ 方向に回転させるかを計算する必要があります。アルゴリズムの途中で、コンピューターの状態($|\\psi\\rangle$)が開始状態 $|s\\rangle$ から角度 $\\phi$ になったとします。このとき、$|\\psi\\rangle$ と $|✗\\rangle$ の間の角度は $\\theta + \\phi$ です。\n",
        "\n",
        "<!-- ::: -->\n",
        "\n",
        "<!-- ::: div -->\n",
        "\n",
        "![2D空間のy軸とx軸として|omega>と|s prime>を示す画像](images/grover/carousel/2/1.svg)\n",
        "\n",
        "オラクルはコンピューターの状態ベクトルを $|✗\\rangle$ に関して鏡映するので、鏡映後の新しい状態ベクトル($|\\psi'\\rangle$)と $|✗\\rangle$ 間の角度も $\\theta + \\phi$ となります。\n",
        "\n",
        "<!-- ::: -->\n",
        "\n",
        "<!-- ::: div -->\n",
        "\n",
        "![|omega> / |s-prime>平面上の|s>を示す画像](images/grover/carousel/2/2.svg)\n",
        "\n",
        "次に、$|s\\rangle$ を通して鏡映させます。コンピューターの状態($|\\psi'\\rangle$)と $|s\\rangle$ のなす角は $2\\theta + \\phi$ です。\n",
        "\n",
        "<!-- ::: -->\n",
        "\n",
        "<!-- ::: div -->\n",
        "\n",
        "![|omega> / |s-prime>平面上のU_omega|s>を示す画像](images/grover/carousel/2/3.svg)\n",
        "\n",
        "つまり、1回の反復で、コンピューターの状態と $|s\\rangle$ の間の角度も $2\\theta + \\phi$ であることがわかります。\n",
        "\n",
        "<!-- ::: -->\n",
        "\n",
        "<!-- ::: div -->\n",
        "\n",
        "![|omega> / |s-prime>平面上のU_omega|s>を示す画像](images/grover/carousel/2/4.svg)\n",
        "\n",
        "つまり、各反復はコンピューターの状態を $|✓\\rangle$ の方に $2\\theta$ だけ回転させるということです。\n",
        "\n",
        "<!-- ::: -->\n",
        "\n",
        "<!-- ::: div -->\n",
        "\n",
        "![|omega> / |s-prime>平面上のU_omega|s>を示す画像](images/grover/carousel/2/5.svg)\n",
        "\n",
        "あとは、$2\\theta$ が直角に何個入るかを調べれば、$|s\\rangle$ を $|✓\\rangle$ に回転させるのに必要な反復回数が大体わかります。\n",
        "\n",
        "<!-- ::: -->\n",
        "\n",
        "<!-- ::: div -->\n",
        "\n",
        "![|omega> / |s-prime>平面上のU_omega|s>を示す画像](images/grover/carousel/2/6.svg)\n",
        "\n",
        "では、$N$ から見た角度 $\\theta$ はどうなっているでしょうか。三角法を少し使えば、$\\sin(\\theta)$ は $|s\\rangle$ の $|✓\\rangle$ 成分を $|s\\rangle$ の長さ(それは1)で割ったものに等しいことがわかります。解の状態が1つだけなら、$|s\\rangle = \\tfrac{1}{\\sqrt{N}}(|0\\rangle + |1\\rangle \\dots + |✓\\rangle \\dots + |N-1\\rangle)$ となります。ということは、$\\sin(\\theta) = \\tfrac{1}{\\sqrt{N}}$ です。\n",
        "\n",
        "<!-- ::: -->\n",
        "\n",
        "<!-- ::: div -->\n",
        "\n",
        "![|omega> / |s-prime>平面上のU_omega|s>を示す画像](images/grover/carousel/2/7.svg)\n",
        "\n",
        "最後に、難しい問題では、$\\theta$ が非常に小さくなるので、小さい角度に対する近似を使って、$\\theta \\approx \\tfrac{1}{\\sqrt{N}}$ ラジアンとすることができます。\n",
        "\n",
        "<!-- ::: -->\n",
        "\n",
        "<!-- ::: div -->\n",
        "\n",
        "![|omega> / |s-prime>平面上のU_omega|s>を示す画像](images/grover/carousel/2/8.svg)\n",
        "\n",
        "小さい $\\theta$ では、$|s\\rangle$ を $\\pi/2$ ラジアン前後に回転させたいので、およそ $\\tfrac{\\pi}{2}\\div\\tfrac{2}{\\sqrt{N}} = \\tfrac{\\pi}{4}\\sqrt{N}$ 回反復する必要があることを意味します。反復ごとに1回オラクルに問い合わせるので、正確に1つの解がある場合、必要なオラクルの問い合わせ回数は $\\sqrt{N}$ に比例します。\n",
        "\n",
        "<!-- ::: -->\n",
        "\n",
        "<!-- ::: -->\n",
        "\n",
        "<!-- ::: -->"
      ]
    },
    {
      "cell_type": "markdown",
      "metadata": {
      },
      "source": [
        "<!-- ::: q-block.exercise -->\n",
        "\n",
        "### クイッククイズ\n",
        "\n",
        "<!-- ::: q-quiz(goal=\"intro-grover-4\") -->\n",
        "\n",
        "<!-- ::: .question -->\n",
        "\n",
        "多くの入力が可能で解がちょうど1つのオラクルでは、$\\theta \\approx \\tfrac{1}{\\sqrt{N}}$ です。解が*2つ*ある場合、$\\theta$ はどのような近似値を持つでしょうか？\n",
        "\n",
        "<!-- ::: -->\n",
        "\n",
        "<!-- ::: .option -->\n",
        "\n",
        "1. $\\theta \\approx \\tfrac{2}{\\sqrt{N}}$\n",
        "\n",
        "<!-- ::: -->\n",
        "\n",
        "<!-- ::: .option(correct) -->\n",
        "\n",
        "1. $\\theta \\approx \\tfrac{\\sqrt{2}}{\\sqrt{N}}$\n",
        "\n",
        "<!-- ::: -->\n",
        "\n",
        "<!-- ::: .option -->\n",
        "\n",
        "1. $\\theta \\approx \\tfrac{1}{\\sqrt{2N}}$\n",
        "\n",
        "<!-- ::: -->\n",
        "\n",
        "<!-- ::: -->\n",
        "\n",
        "<!-- ::: -->"
      ]
    },
    {
      "cell_type": "markdown",
      "metadata": {
      },
      "source": [
        "## グローバーのアルゴリズムのための回路\n",
        "\n",
        "本章の最後に、グローバーのアルゴリズムを実装した簡単な回路を一から作り、その動作を紹介します。2つの量子ビットを使い、オラクル回路を作るところから始めます。"
      ]
    },
    {
      "cell_type": "code",
      "execution_count": 7,
      "metadata": {
      },
      "outputs": [

      ],
      "source": [
        "from qiskit import QuantumCircuit"
      ]
    },
    {
      "cell_type": "markdown",
      "metadata": {
      },
      "source": [
        "### オラクル\n",
        "\n",
        "簡単のために、ここでは実際の問題を解決するつもりはありません。このデモでは、状態 $|11\\rangle$ の位相を反転させ、それ以外は変化させない回路を作ることにします。幸いなことに、我々はまさにそれを行う2量子ビットゲートを既に知っています。"
      ]
    },
    {
      "cell_type": "code",
      "execution_count": 8,
      "metadata": {
      },
      "outputs": [
        {
          "data": {
            "image/svg+xml": [
              "<?xml version=\"1.0\" encoding=\"UTF-8\"?><!DOCTYPE svg  PUBLIC '-//W3C//DTD SVG 1.1//EN'  'http://www.w3.org/Graphics/SVG/1.1/DTD/svg11.dtd'><svg width=\"125.12pt\" height=\"123.48pt\" version=\"1.1\" viewBox=\"0 0 125.12 123.48\" xmlns=\"http://www.w3.org/2000/svg\" xmlns:xlink=\"http://www.w3.org/1999/xlink\"><defs><style type=\"text/css\">*{stroke-linecap:butt;stroke-linejoin:round;}</style></defs><path d=\"m0 123.48h125.12v-123.48h-125.12z\" fill=\"#ffffff\"/><path d=\"m63.381 43.561h49.996\" clip-path=\"url(#p46e8897988)\" fill=\"none\" stroke=\"#000000\" stroke-linecap=\"square\" stroke-width=\"2\"/><path d=\"m63.381 89.012h49.996\" clip-path=\"url(#p46e8897988)\" fill=\"none\" stroke=\"#000000\" stroke-linecap=\"square\" stroke-width=\"2\"/><path d=\"m87.925 89.012v-45.451\" clip-path=\"url(#p46e8897988)\" fill=\"none\" stroke=\"#1192e8\" stroke-linecap=\"square\" stroke-width=\"2\"/><path d=\"m87.925 89.012v-45.451\" clip-path=\"url(#p46e8897988)\" fill=\"none\" stroke=\"#1192e8\" stroke-linecap=\"square\" stroke-width=\"2\"/><path d=\"m87.925 47.992c1.1752 0 2.3025-0.46693 3.1335-1.2979 0.83102-0.83102 1.2979-1.9583 1.2979-3.1335 0-1.1752-0.46693-2.3025-1.2979-3.1335-0.83102-0.83102-1.9583-1.2979-3.1335-1.2979s-2.3025 0.46693-3.1335 1.2979c-0.83102 0.83102-1.2979 1.9583-1.2979 3.1335 0 1.1752 0.46693 2.3025 1.2979 3.1335 0.83102 0.83102 1.9583 1.2979 3.1335 1.2979z\" clip-path=\"url(#p46e8897988)\" fill=\"#1192e8\" stroke=\"#1192e8\" stroke-width=\"1.5\"/><path d=\"m87.925 93.443c1.1752 0 2.3025-0.46693 3.1335-1.2979 0.83102-0.83102 1.2979-1.9583 1.2979-3.1335s-0.46693-2.3025-1.2979-3.1335c-0.83102-0.83102-1.9583-1.2979-3.1335-1.2979s-2.3025 0.46693-3.1335 1.2979c-0.83102 0.83102-1.2979 1.9583-1.2979 3.1335s0.46693 2.3025 1.2979 3.1335c0.83102 0.83102 1.9583 1.2979 3.1335 1.2979z\" clip-path=\"url(#p46e8897988)\" fill=\"#1192e8\" stroke=\"#1192e8\" stroke-width=\"1.5\"/><g clip-path=\"url(#p46e8897988)\"><g transform=\"translate(36.253 48.012) scale(.1625 -.1625)\"><defs><path id=\"DejaVuSans-Oblique-71\" transform=\"scale(.015625)\" d=\"m2669 525q-231-303-546-460-314-156-695-156-531 0-833 358-301 358-301 986 0 506 186 978t533 847q225 244 517 375t614 131q387 0 637-153t363-462l100 525h578l-934-4813h-579l360 1844zm-1778 813q0-463 193-705 194-242 560-242 544 0 928 520t384 1264q0 450-199 689-198 239-569 239-272 0-504-127-231-126-403-370-181-256-286-600-104-343-104-668z\"/><path id=\"DejaVuSans-30\" transform=\"scale(.015625)\" d=\"m2034 4250q-487 0-733-480-245-479-245-1442 0-959 245-1439 246-480 733-480 491 0 736 480 246 480 246 1439 0 963-246 1442-245 480-736 480zm0 500q785 0 1199-621 414-620 414-1801 0-1178-414-1799-414-620-1199-620-784 0-1198 620-414 621-414 1799 0 1181 414 1801 414 621 1198 621z\"/></defs><use xlink:href=\"#DejaVuSans-Oblique-71\"/><use transform=\"translate(63.477 -16.406) scale(.7)\" xlink:href=\"#DejaVuSans-30\"/></g></g><g clip-path=\"url(#p46e8897988)\"><g transform=\"translate(36.253 93.463) scale(.1625 -.1625)\"><defs><path id=\"DejaVuSans-31\" transform=\"scale(.015625)\" d=\"m794 531h1031v3560l-1122-225v575l1116 225h631v-4135h1031v-531h-2687v531z\"/></defs><use xlink:href=\"#DejaVuSans-Oblique-71\"/><use transform=\"translate(63.477 -16.406) scale(.7)\" xlink:href=\"#DejaVuSans-31\"/></g></g><defs><clipPath id=\"p46e8897988\"><rect x=\"7.2\" y=\"7.2\" width=\"110.72\" height=\"109.08\"/></clipPath></defs></svg>"
            ],
            "text/plain": [
              "<Figure size 146.652x144.48 with 1 Axes>"
            ]
          },
          "execution_count": 8,
          "metadata": {
          },
          "output_type": "execute_result"
        }
      ],
      "source": [
        "oracle = QuantumCircuit(2)\n",
        "oracle.cz(0,1)  # invert phase of |11>\n",
        "oracle.draw()"
      ]
    },
    {
      "cell_type": "markdown",
      "metadata": {
      },
      "source": [
        "この回路の行列表現を示す短い関数を紹介します。"
      ]
    },
    {
      "cell_type": "code",
      "execution_count": 9,
      "metadata": {
      },
      "outputs": [
        {
          "data": {
            "text/latex": [
              "$$\n",
              "U_\\text{oracle}=\n",
              "\\begin{bmatrix}\n",
              "1 & 0 & 0 & 0  \\\\\n",
              " 0 & 1 & 0 & 0  \\\\\n",
              " 0 & 0 & 1 & 0  \\\\\n",
              " 0 & 0 & 0 & -1  \\\\\n",
              " \\end{bmatrix}\n",
              "$$"
            ],
            "text/plain": [
              "<IPython.core.display.Latex object>"
            ]
          },
          "metadata": {
          },
          "output_type": "display_data"
        }
      ],
      "source": [
        "def display_unitary(qc, prefix=\"\"):\n",
        "    \"\"\"Simulates a simple circuit and display its matrix representation.\n",
        "    Args:\n",
        "        qc (QuantumCircuit): The circuit to compile to a unitary matrix\n",
        "        prefix (str): Optional LaTeX to be displayed before the matrix\n",
        "    Returns:\n",
        "        None (displays matrix as side effect)\n",
        "    \"\"\"\n",
        "    from qiskit import Aer\n",
        "    from qiskit.visualization import array_to_latex\n",
        "    sim = Aer.get_backend('aer_simulator')\n",
        "    # Next, we'll create a copy of the circuit and work on\n",
        "    # that so we don't change anything as a side effect\n",
        "    qc = qc.copy()\n",
        "    # Tell the simulator to save the unitary matrix of this circuit\n",
        "    qc.save_unitary()\n",
        "    unitary = sim.run(qc).result().get_unitary()\n",
        "    display(array_to_latex(unitary, prefix=prefix))\n",
        "\n",
        "display_unitary(oracle, \"U_\\\\text{oracle}=\")"
      ]
    },
    {
      "cell_type": "markdown",
      "metadata": {
      },
      "source": [
        "<!-- ::: q-block.exercise -->\n",
        "\n",
        "### 試してみよう\n",
        "\n",
        "他の3つの計算基底状態($|00\\rangle$, $|01\\rangle$, $|10\\rangle$)をターゲットとするオラクル回路をあと3つ作れますか？答えを確認するために`display_unitary`を使用してください。\n",
        "\n",
        "*ヒント:* ターゲットにしている基底状態との間で $|11\\rangle$ を変換し合う回路を作成してみてください。次に、その回路を`cz`ゲートと共に使用できますか？\n",
        "\n",
        "[IBM Quantum Labで試してみましょう。](https://quantum-computing.ibm.com/lab)\n",
        "\n",
        "<!-- ::: -->"
      ]
    },
    {
      "cell_type": "markdown",
      "metadata": {
      },
      "source": [
        "### ディフューザー(拡散演算子)を作成する\n",
        "\n",
        "次に、2つの量子ビットのためのディフューザーを作成します。ここでは状態 $|s\\rangle$ に関して鏡映させたいことを思い出して、すでにある道具を使ってこの鏡映を行う回路を作ってみましょう。\n",
        "\n",
        "`cz`ゲートが（グローバル位相の違いを除いて）$|11\\rangle$ に関して鏡映することは既に見たので、$|s\\rangle \\rightarrow |11\\rangle$ を写す変換が分かれば、次のようにできます。\n",
        "\n",
        "1. 変換 $|s\\rangle \\rightarrow |11\\rangle$ を実行する\n",
        "2. $|11\\rangle$ に関して鏡映する。（つまり、`cz`ゲート）\n",
        "3. 変換 $|11\\rangle \\rightarrow |s\\rangle$ を実行する\n",
        "\n",
        "各量子ビットに H ゲートを適用することで、状態 $|00\\rangle$ から状態 $|s\\rangle$ を作成できることがわかっています。 H ゲートは自分自身の逆行列でもあるため、H ゲートを各量子ビットに適用すると、$|s\\rangle \\rightarrow |00\\rangle$にもなります。"
      ]
    },
    {
      "cell_type": "code",
      "execution_count": 10,
      "metadata": {
      },
      "outputs": [
        {
          "data": {
            "image/svg+xml": [
              "<?xml version=\"1.0\" encoding=\"UTF-8\"?><!DOCTYPE svg  PUBLIC '-//W3C//DTD SVG 1.1//EN'  'http://www.w3.org/Graphics/SVG/1.1/DTD/svg11.dtd'><svg width=\"125.12pt\" height=\"123.48pt\" version=\"1.1\" viewBox=\"0 0 125.12 123.48\" xmlns=\"http://www.w3.org/2000/svg\" xmlns:xlink=\"http://www.w3.org/1999/xlink\"><defs><style type=\"text/css\">*{stroke-linecap:butt;stroke-linejoin:round;}</style></defs><path d=\"m0 123.48h125.12v-123.48h-125.12z\" fill=\"#ffffff\"/><path d=\"m63.381 43.561h49.996\" clip-path=\"url(#p4b05b10b8c)\" fill=\"none\" stroke=\"#000000\" stroke-linecap=\"square\" stroke-width=\"2\"/><path d=\"m63.381 89.012h49.996\" clip-path=\"url(#p4b05b10b8c)\" fill=\"none\" stroke=\"#000000\" stroke-linecap=\"square\" stroke-width=\"2\"/><path d=\"m73.153 58.332h29.543v-29.543h-29.543z\" clip-path=\"url(#p4b05b10b8c)\" fill=\"#1192e8\" stroke=\"#1192e8\" stroke-width=\"1.5\"/><path d=\"m73.153 103.78h29.543v-29.543h-29.543z\" clip-path=\"url(#p4b05b10b8c)\" fill=\"#1192e8\" stroke=\"#1192e8\" stroke-width=\"1.5\"/><g clip-path=\"url(#p4b05b10b8c)\"><g transform=\"translate(36.253 48.012) scale(.1625 -.1625)\"><defs><path id=\"DejaVuSans-Oblique-71\" transform=\"scale(.015625)\" d=\"m2669 525q-231-303-546-460-314-156-695-156-531 0-833 358-301 358-301 986 0 506 186 978t533 847q225 244 517 375t614 131q387 0 637-153t363-462l100 525h578l-934-4813h-579l360 1844zm-1778 813q0-463 193-705 194-242 560-242 544 0 928 520t384 1264q0 450-199 689-198 239-569 239-272 0-504-127-231-126-403-370-181-256-286-600-104-343-104-668z\"/><path id=\"DejaVuSans-30\" transform=\"scale(.015625)\" d=\"m2034 4250q-487 0-733-480-245-479-245-1442 0-959 245-1439 246-480 733-480 491 0 736 480 246 480 246 1439 0 963-246 1442-245 480-736 480zm0 500q785 0 1199-621 414-620 414-1801 0-1178-414-1799-414-620-1199-620-784 0-1198 620-414 621-414 1799 0 1181 414 1801 414 621 1198 621z\"/></defs><use xlink:href=\"#DejaVuSans-Oblique-71\"/><use transform=\"translate(63.477 -16.406) scale(.7)\" xlink:href=\"#DejaVuSans-30\"/></g></g><g clip-path=\"url(#p4b05b10b8c)\"><g transform=\"translate(36.253 93.463) scale(.1625 -.1625)\"><defs><path id=\"DejaVuSans-31\" transform=\"scale(.015625)\" d=\"m794 531h1031v3560l-1122-225v575l1116 225h631v-4135h1031v-531h-2687v531z\"/></defs><use xlink:href=\"#DejaVuSans-Oblique-71\"/><use transform=\"translate(63.477 -16.406) scale(.7)\" xlink:href=\"#DejaVuSans-31\"/></g></g><g clip-path=\"url(#p4b05b10b8c)\"><g transform=\"translate(83.036 47.148) scale(.13 -.13)\" fill=\"#ffffff\"><defs><path id=\"DejaVuSans-48\" transform=\"scale(.015625)\" d=\"m628 4666h631v-1913h2294v1913h631v-4666h-631v2222h-2294v-2222h-631v4666z\"/></defs><use xlink:href=\"#DejaVuSans-48\"/></g></g><g clip-path=\"url(#p4b05b10b8c)\"><g transform=\"translate(83.036 92.599) scale(.13 -.13)\" fill=\"#ffffff\"><use xlink:href=\"#DejaVuSans-48\"/></g></g><defs><clipPath id=\"p4b05b10b8c\"><rect x=\"7.2\" y=\"7.2\" width=\"110.72\" height=\"109.08\"/></clipPath></defs></svg>"
            ],
            "text/plain": [
              "<Figure size 146.652x144.48 with 1 Axes>"
            ]
          },
          "execution_count": 10,
          "metadata": {
          },
          "output_type": "execute_result"
        }
      ],
      "source": [
        "diffuser = QuantumCircuit(2)\n",
        "diffuser.h([0, 1])\n",
        "diffuser.draw()"
      ]
    },
    {
      "cell_type": "markdown",
      "metadata": {
      },
      "source": [
        "ここで、$|00\\rangle \\rightarrow |11\\rangle$ をどのように変換するかを考えなければなりません。\n",
        "\n",
        "<!-- ::: q-block.exercise -->\n",
        "\n",
        "### クイッククイズ\n",
        "\n",
        "<!-- ::: q-quiz(goal=\"intro-grover-5\") -->\n",
        "\n",
        "<!-- ::: .question -->\n",
        "\n",
        "これらのゲートのうち、$|0\\rangle \\rightarrow |1\\rangle$ の変換をするものはどれですか？\n",
        "\n",
        "<!-- ::: -->\n",
        "\n",
        "<!-- ::: .option(correct) -->\n",
        "\n",
        "1. `x`\n",
        "\n",
        "<!-- ::: -->\n",
        "\n",
        "<!-- ::: .option -->\n",
        "\n",
        "1. `z`\n",
        "\n",
        "<!-- ::: -->\n",
        "\n",
        "<!-- ::: .option -->\n",
        "\n",
        "1. `h`\n",
        "\n",
        "<!-- ::: -->\n",
        "\n",
        "<!-- ::: .option -->\n",
        "\n",
        "1. `s`\n",
        "\n",
        "<!-- ::: -->\n",
        "\n",
        "<!-- ::: -->\n",
        "\n",
        "<!-- ::: -->"
      ]
    },
    {
      "cell_type": "markdown",
      "metadata": {
      },
      "source": [
        "つまり、それぞれの量子ビットにXゲートを適用すると、変換 $|00\\rangle \\rightarrow |11\\rangle$ が行われます。そうしてみましょう。"
      ]
    },
    {
      "cell_type": "code",
      "execution_count": 11,
      "metadata": {
      },
      "outputs": [
        {
          "data": {
            "image/svg+xml": [
              "<?xml version=\"1.0\" encoding=\"UTF-8\"?><!DOCTYPE svg  PUBLIC '-//W3C//DTD SVG 1.1//EN'  'http://www.w3.org/Graphics/SVG/1.1/DTD/svg11.dtd'><svg width=\"170.57pt\" height=\"123.48pt\" version=\"1.1\" viewBox=\"0 0 170.57 123.48\" xmlns=\"http://www.w3.org/2000/svg\" xmlns:xlink=\"http://www.w3.org/1999/xlink\"><defs><style type=\"text/css\">*{stroke-linecap:butt;stroke-linejoin:round;}</style></defs><path d=\"m0 123.48h170.57v-123.48h-170.57z\" fill=\"#ffffff\"/><path d=\"m63.381 43.561h95.447\" clip-path=\"url(#pcc34acd1c8)\" fill=\"none\" stroke=\"#000000\" stroke-linecap=\"square\" stroke-width=\"2\"/><path d=\"m63.381 89.012h95.447\" clip-path=\"url(#pcc34acd1c8)\" fill=\"none\" stroke=\"#000000\" stroke-linecap=\"square\" stroke-width=\"2\"/><path d=\"m73.153 58.332h29.543v-29.543h-29.543z\" clip-path=\"url(#pcc34acd1c8)\" fill=\"#1192e8\" stroke=\"#1192e8\" stroke-width=\"1.5\"/><path d=\"m73.153 103.78h29.543v-29.543h-29.543z\" clip-path=\"url(#pcc34acd1c8)\" fill=\"#1192e8\" stroke=\"#1192e8\" stroke-width=\"1.5\"/><path d=\"m118.6 58.332h29.543v-29.543h-29.543z\" clip-path=\"url(#pcc34acd1c8)\" fill=\"#005d5d\" stroke=\"#005d5d\" stroke-width=\"1.5\"/><path d=\"m118.6 103.78h29.543v-29.543h-29.543z\" clip-path=\"url(#pcc34acd1c8)\" fill=\"#005d5d\" stroke=\"#005d5d\" stroke-width=\"1.5\"/><g clip-path=\"url(#pcc34acd1c8)\"><g transform=\"translate(36.253 48.012) scale(.1625 -.1625)\"><defs><path id=\"DejaVuSans-Oblique-71\" transform=\"scale(.015625)\" d=\"m2669 525q-231-303-546-460-314-156-695-156-531 0-833 358-301 358-301 986 0 506 186 978t533 847q225 244 517 375t614 131q387 0 637-153t363-462l100 525h578l-934-4813h-579l360 1844zm-1778 813q0-463 193-705 194-242 560-242 544 0 928 520t384 1264q0 450-199 689-198 239-569 239-272 0-504-127-231-126-403-370-181-256-286-600-104-343-104-668z\"/><path id=\"DejaVuSans-30\" transform=\"scale(.015625)\" d=\"m2034 4250q-487 0-733-480-245-479-245-1442 0-959 245-1439 246-480 733-480 491 0 736 480 246 480 246 1439 0 963-246 1442-245 480-736 480zm0 500q785 0 1199-621 414-620 414-1801 0-1178-414-1799-414-620-1199-620-784 0-1198 620-414 621-414 1799 0 1181 414 1801 414 621 1198 621z\"/></defs><use xlink:href=\"#DejaVuSans-Oblique-71\"/><use transform=\"translate(63.477 -16.406) scale(.7)\" xlink:href=\"#DejaVuSans-30\"/></g></g><g clip-path=\"url(#pcc34acd1c8)\"><g transform=\"translate(36.253 93.463) scale(.1625 -.1625)\"><defs><path id=\"DejaVuSans-31\" transform=\"scale(.015625)\" d=\"m794 531h1031v3560l-1122-225v575l1116 225h631v-4135h1031v-531h-2687v531z\"/></defs><use xlink:href=\"#DejaVuSans-Oblique-71\"/><use transform=\"translate(63.477 -16.406) scale(.7)\" xlink:href=\"#DejaVuSans-31\"/></g></g><g clip-path=\"url(#pcc34acd1c8)\"><g transform=\"translate(83.036 47.148) scale(.13 -.13)\" fill=\"#ffffff\"><defs><path id=\"DejaVuSans-48\" transform=\"scale(.015625)\" d=\"m628 4666h631v-1913h2294v1913h631v-4666h-631v2222h-2294v-2222h-631v4666z\"/></defs><use xlink:href=\"#DejaVuSans-48\"/></g></g><g clip-path=\"url(#pcc34acd1c8)\"><g transform=\"translate(83.036 92.599) scale(.13 -.13)\" fill=\"#ffffff\"><use xlink:href=\"#DejaVuSans-48\"/></g></g><g clip-path=\"url(#pcc34acd1c8)\"><g transform=\"translate(128.92 47.148) scale(.13 -.13)\" fill=\"#ffffff\"><defs><path id=\"DejaVuSans-58\" transform=\"scale(.015625)\" d=\"m403 4666h678l1160-1735 1165 1735h678l-1500-2241 1600-2425h-678l-1312 1984-1322-1984h-681l1665 2491-1453 2175z\"/></defs><use xlink:href=\"#DejaVuSans-58\"/></g></g><g clip-path=\"url(#pcc34acd1c8)\"><g transform=\"translate(128.92 92.599) scale(.13 -.13)\" fill=\"#ffffff\"><use xlink:href=\"#DejaVuSans-58\"/></g></g><defs><clipPath id=\"pcc34acd1c8\"><rect x=\"7.2\" y=\"7.2\" width=\"156.17\" height=\"109.08\"/></clipPath></defs></svg>"
            ],
            "text/plain": [
              "<Figure size 206.852x144.48 with 1 Axes>"
            ]
          },
          "execution_count": 11,
          "metadata": {
          },
          "output_type": "execute_result"
        }
      ],
      "source": [
        "diffuser.x([0,1])\n",
        "diffuser.draw()"
      ]
    },
    {
      "cell_type": "markdown",
      "metadata": {
      },
      "source": [
        "これで変換 $|s\\rangle \\rightarrow |11\\rangle$ ができたので、`cz`ゲートを適用し、そして変換を逆にすることができます。"
      ]
    },
    {
      "cell_type": "code",
      "execution_count": 12,
      "metadata": {
      },
      "outputs": [
        {
          "data": {
            "image/svg+xml": [
              "<?xml version=\"1.0\" encoding=\"UTF-8\"?><!DOCTYPE svg  PUBLIC '-//W3C//DTD SVG 1.1//EN'  'http://www.w3.org/Graphics/SVG/1.1/DTD/svg11.dtd'><svg width=\"306.93pt\" height=\"123.48pt\" version=\"1.1\" viewBox=\"0 0 306.93 123.48\" xmlns=\"http://www.w3.org/2000/svg\" xmlns:xlink=\"http://www.w3.org/1999/xlink\"><defs><style type=\"text/css\">*{stroke-linecap:butt;stroke-linejoin:round;}</style></defs><path d=\"m0 123.48h306.93v-123.48h-306.93z\" fill=\"#ffffff\"/><path d=\"m63.381 43.561h231.8\" clip-path=\"url(#p25f1a6e164)\" fill=\"none\" stroke=\"#000000\" stroke-linecap=\"square\" stroke-width=\"2\"/><path d=\"m63.381 89.012h231.8\" clip-path=\"url(#p25f1a6e164)\" fill=\"none\" stroke=\"#000000\" stroke-linecap=\"square\" stroke-width=\"2\"/><path d=\"m178.83 89.012v-45.451\" clip-path=\"url(#p25f1a6e164)\" fill=\"none\" stroke=\"#1192e8\" stroke-linecap=\"square\" stroke-width=\"2\"/><path d=\"m178.83 89.012v-45.451\" clip-path=\"url(#p25f1a6e164)\" fill=\"none\" stroke=\"#1192e8\" stroke-linecap=\"square\" stroke-width=\"2\"/><path d=\"m73.153 58.332h29.543v-29.543h-29.543z\" clip-path=\"url(#p25f1a6e164)\" fill=\"#1192e8\" stroke=\"#1192e8\" stroke-width=\"1.5\"/><path d=\"m73.153 103.78h29.543v-29.543h-29.543z\" clip-path=\"url(#p25f1a6e164)\" fill=\"#1192e8\" stroke=\"#1192e8\" stroke-width=\"1.5\"/><path d=\"m118.6 58.332h29.543v-29.543h-29.543z\" clip-path=\"url(#p25f1a6e164)\" fill=\"#005d5d\" stroke=\"#005d5d\" stroke-width=\"1.5\"/><path d=\"m118.6 103.78h29.543v-29.543h-29.543z\" clip-path=\"url(#p25f1a6e164)\" fill=\"#005d5d\" stroke=\"#005d5d\" stroke-width=\"1.5\"/><path d=\"m178.83 47.992c1.1752 0 2.3025-0.46693 3.1335-1.2979 0.83102-0.83102 1.2979-1.9583 1.2979-3.1335 0-1.1752-0.46693-2.3025-1.2979-3.1335-0.83102-0.83102-1.9583-1.2979-3.1335-1.2979s-2.3025 0.46693-3.1335 1.2979c-0.83102 0.83102-1.2979 1.9583-1.2979 3.1335 0 1.1752 0.46693 2.3025 1.2979 3.1335 0.83102 0.83102 1.9583 1.2979 3.1335 1.2979z\" clip-path=\"url(#p25f1a6e164)\" fill=\"#1192e8\" stroke=\"#1192e8\" stroke-width=\"1.5\"/><path d=\"m178.83 93.443c1.1752 0 2.3025-0.46693 3.1335-1.2979s1.2979-1.9583 1.2979-3.1335-0.46693-2.3025-1.2979-3.1335c-0.83102-0.83102-1.9583-1.2979-3.1335-1.2979s-2.3025 0.46693-3.1335 1.2979c-0.83102 0.83102-1.2979 1.9583-1.2979 3.1335s0.46693 2.3025 1.2979 3.1335c0.83102 0.83102 1.9583 1.2979 3.1335 1.2979z\" clip-path=\"url(#p25f1a6e164)\" fill=\"#1192e8\" stroke=\"#1192e8\" stroke-width=\"1.5\"/><path d=\"m209.51 58.332h29.543v-29.543h-29.543z\" clip-path=\"url(#p25f1a6e164)\" fill=\"#005d5d\" stroke=\"#005d5d\" stroke-width=\"1.5\"/><path d=\"m209.51 103.78h29.543v-29.543h-29.543z\" clip-path=\"url(#p25f1a6e164)\" fill=\"#005d5d\" stroke=\"#005d5d\" stroke-width=\"1.5\"/><path d=\"m254.96 58.332h29.543v-29.543h-29.543z\" clip-path=\"url(#p25f1a6e164)\" fill=\"#1192e8\" stroke=\"#1192e8\" stroke-width=\"1.5\"/><path d=\"m254.96 103.78h29.543v-29.543h-29.543z\" clip-path=\"url(#p25f1a6e164)\" fill=\"#1192e8\" stroke=\"#1192e8\" stroke-width=\"1.5\"/><g clip-path=\"url(#p25f1a6e164)\"><g transform=\"translate(36.253 48.012) scale(.1625 -.1625)\"><defs><path id=\"DejaVuSans-Oblique-71\" transform=\"scale(.015625)\" d=\"m2669 525q-231-303-546-460-314-156-695-156-531 0-833 358-301 358-301 986 0 506 186 978t533 847q225 244 517 375t614 131q387 0 637-153t363-462l100 525h578l-934-4813h-579l360 1844zm-1778 813q0-463 193-705 194-242 560-242 544 0 928 520t384 1264q0 450-199 689-198 239-569 239-272 0-504-127-231-126-403-370-181-256-286-600-104-343-104-668z\"/><path id=\"DejaVuSans-30\" transform=\"scale(.015625)\" d=\"m2034 4250q-487 0-733-480-245-479-245-1442 0-959 245-1439 246-480 733-480 491 0 736 480 246 480 246 1439 0 963-246 1442-245 480-736 480zm0 500q785 0 1199-621 414-620 414-1801 0-1178-414-1799-414-620-1199-620-784 0-1198 620-414 621-414 1799 0 1181 414 1801 414 621 1198 621z\"/></defs><use xlink:href=\"#DejaVuSans-Oblique-71\"/><use transform=\"translate(63.477 -16.406) scale(.7)\" xlink:href=\"#DejaVuSans-30\"/></g></g><g clip-path=\"url(#p25f1a6e164)\"><g transform=\"translate(36.253 93.463) scale(.1625 -.1625)\"><defs><path id=\"DejaVuSans-31\" transform=\"scale(.015625)\" d=\"m794 531h1031v3560l-1122-225v575l1116 225h631v-4135h1031v-531h-2687v531z\"/></defs><use xlink:href=\"#DejaVuSans-Oblique-71\"/><use transform=\"translate(63.477 -16.406) scale(.7)\" xlink:href=\"#DejaVuSans-31\"/></g></g><g clip-path=\"url(#p25f1a6e164)\"><g transform=\"translate(83.036 47.148) scale(.13 -.13)\" fill=\"#ffffff\"><defs><path id=\"DejaVuSans-48\" transform=\"scale(.015625)\" d=\"m628 4666h631v-1913h2294v1913h631v-4666h-631v2222h-2294v-2222h-631v4666z\"/></defs><use xlink:href=\"#DejaVuSans-48\"/></g></g><g clip-path=\"url(#p25f1a6e164)\"><g transform=\"translate(83.036 92.599) scale(.13 -.13)\" fill=\"#ffffff\"><use xlink:href=\"#DejaVuSans-48\"/></g></g><g clip-path=\"url(#p25f1a6e164)\"><g transform=\"translate(128.92 47.148) scale(.13 -.13)\" fill=\"#ffffff\"><defs><path id=\"DejaVuSans-58\" transform=\"scale(.015625)\" d=\"m403 4666h678l1160-1735 1165 1735h678l-1500-2241 1600-2425h-678l-1312 1984-1322-1984h-681l1665 2491-1453 2175z\"/></defs><use xlink:href=\"#DejaVuSans-58\"/></g></g><g clip-path=\"url(#p25f1a6e164)\"><g transform=\"translate(128.92 92.599) scale(.13 -.13)\" fill=\"#ffffff\"><use xlink:href=\"#DejaVuSans-58\"/></g></g><g clip-path=\"url(#p25f1a6e164)\"><g transform=\"translate(219.83 47.148) scale(.13 -.13)\" fill=\"#ffffff\"><use xlink:href=\"#DejaVuSans-58\"/></g></g><g clip-path=\"url(#p25f1a6e164)\"><g transform=\"translate(219.83 92.599) scale(.13 -.13)\" fill=\"#ffffff\"><use xlink:href=\"#DejaVuSans-58\"/></g></g><g clip-path=\"url(#p25f1a6e164)\"><g transform=\"translate(264.84 47.148) scale(.13 -.13)\" fill=\"#ffffff\"><use xlink:href=\"#DejaVuSans-48\"/></g></g><g clip-path=\"url(#p25f1a6e164)\"><g transform=\"translate(264.84 92.599) scale(.13 -.13)\" fill=\"#ffffff\"><use xlink:href=\"#DejaVuSans-48\"/></g></g><defs><clipPath id=\"p25f1a6e164\"><rect x=\"7.2\" y=\"7.2\" width=\"292.53\" height=\"109.08\"/></clipPath></defs></svg>"
            ],
            "text/plain": [
              "<Figure size 387.452x144.48 with 1 Axes>"
            ]
          },
          "execution_count": 12,
          "metadata": {
          },
          "output_type": "execute_result"
        }
      ],
      "source": [
        "diffuser.cz(0,1)\n",
        "diffuser.x([0,1])\n",
        "diffuser.h([0,1])\n",
        "diffuser.draw()"
      ]
    },
    {
      "cell_type": "markdown",
      "metadata": {
      },
      "source": [
        "### まとめると\n",
        "\n",
        "これで`oracle`と`diffuser`の2つの回路ができたので、これをまとめてグローバーのアルゴリズムを実行する回路にすることができます。3つのステップを思い出してください。\n",
        "\n",
        "1. 量子ビットを状態 $|s\\rangle$ に初期化する\n",
        "2. オラクルを実行する\n",
        "3. ディフューザーを実行する"
      ]
    },
    {
      "cell_type": "code",
      "execution_count": 13,
      "metadata": {
      },
      "outputs": [
        {
          "data": {
            "image/svg+xml": [
              "<?xml version=\"1.0\" encoding=\"UTF-8\"?><!DOCTYPE svg  PUBLIC '-//W3C//DTD SVG 1.1//EN'  'http://www.w3.org/Graphics/SVG/1.1/DTD/svg11.dtd'><svg width=\"557.15pt\" height=\"168.93pt\" version=\"1.1\" viewBox=\"0 0 557.15 168.93\" xmlns=\"http://www.w3.org/2000/svg\" xmlns:xlink=\"http://www.w3.org/1999/xlink\"><defs><style type=\"text/css\">*{stroke-linecap:butt;stroke-linejoin:round;}</style></defs><path d=\"m0 168.93h557.15v-168.93h-557.15z\" fill=\"#ffffff\"/><path d=\"m468.6 124.12h11.817l-5.9086 8.5221z\" clip-path=\"url(#p64996ae332)\" fill=\"#778899\"/><path d=\"m514.05 124.12h11.817l-5.9086 8.5221z\" clip-path=\"url(#p64996ae332)\" fill=\"#778899\"/><path d=\"m86.353 43.561h459.06\" clip-path=\"url(#p64996ae332)\" fill=\"none\" stroke=\"#000000\" stroke-linecap=\"square\" stroke-width=\"2\"/><path d=\"m86.353 89.012h459.06\" clip-path=\"url(#p64996ae332)\" fill=\"none\" stroke=\"#000000\" stroke-linecap=\"square\" stroke-width=\"2\"/><path d=\"m86.353 132.99h459.06\" clip-path=\"url(#p64996ae332)\" fill=\"none\" stroke=\"#778899\" stroke-linecap=\"square\" stroke-width=\"2\"/><path d=\"m86.353 135.94h459.06\" clip-path=\"url(#p64996ae332)\" fill=\"none\" stroke=\"#778899\" stroke-linecap=\"square\" stroke-width=\"2\"/><path d=\"m420.19 66.286h17.726v-45.451h-17.726z\" clip-path=\"url(#p64996ae332)\" fill=\"#bdbdbd\" opacity=\".6\"/><path d=\"m420.19 111.74h17.726v-45.451h-17.726z\" clip-path=\"url(#p64996ae332)\" fill=\"#bdbdbd\" opacity=\".6\"/><path d=\"m95.443 139.01 4.5451-9.0902\" clip-path=\"url(#p64996ae332)\" fill=\"none\" stroke=\"#778899\" stroke-linecap=\"square\" stroke-width=\"1.5\"/><path d=\"m156.35 89.012v-45.451\" clip-path=\"url(#p64996ae332)\" fill=\"none\" stroke=\"#1192e8\" stroke-linecap=\"square\" stroke-width=\"2\"/><path d=\"m292.7 89.012v-45.451\" clip-path=\"url(#p64996ae332)\" fill=\"none\" stroke=\"#1192e8\" stroke-linecap=\"square\" stroke-width=\"2\"/><path d=\"m475.98 43.561v80.562\" clip-path=\"url(#p64996ae332)\" fill=\"none\" stroke=\"#778899\" stroke-linecap=\"square\" stroke-width=\"2\"/><path d=\"m473.03 43.561v80.562\" clip-path=\"url(#p64996ae332)\" fill=\"none\" stroke=\"#778899\" stroke-linecap=\"square\" stroke-width=\"2\"/><path d=\"m521.43 89.012v35.111\" clip-path=\"url(#p64996ae332)\" fill=\"none\" stroke=\"#778899\" stroke-linecap=\"square\" stroke-width=\"2\"/><path d=\"m518.48 89.012v35.111\" clip-path=\"url(#p64996ae332)\" fill=\"none\" stroke=\"#778899\" stroke-linecap=\"square\" stroke-width=\"2\"/><path d=\"m156.35 89.012v-45.451\" clip-path=\"url(#p64996ae332)\" fill=\"none\" stroke=\"#1192e8\" stroke-linecap=\"square\" stroke-width=\"2\"/><path d=\"m292.7 89.012v-45.451\" clip-path=\"url(#p64996ae332)\" fill=\"none\" stroke=\"#1192e8\" stroke-linecap=\"square\" stroke-width=\"2\"/><path d=\"m96.125 58.332h29.543v-29.543h-29.543z\" clip-path=\"url(#p64996ae332)\" fill=\"#1192e8\" stroke=\"#1192e8\" stroke-width=\"1.5\"/><path d=\"m96.125 103.78h29.543v-29.543h-29.543z\" clip-path=\"url(#p64996ae332)\" fill=\"#1192e8\" stroke=\"#1192e8\" stroke-width=\"1.5\"/><path d=\"m156.35 47.992c1.1752 0 2.3025-0.46693 3.1335-1.2979 0.83102-0.83102 1.2979-1.9583 1.2979-3.1335 0-1.1752-0.46693-2.3025-1.2979-3.1335-0.83102-0.83102-1.9583-1.2979-3.1335-1.2979s-2.3025 0.46693-3.1335 1.2979c-0.83102 0.83102-1.2979 1.9583-1.2979 3.1335 0 1.1752 0.46693 2.3025 1.2979 3.1335 0.83102 0.83102 1.9583 1.2979 3.1335 1.2979z\" clip-path=\"url(#p64996ae332)\" fill=\"#1192e8\" stroke=\"#1192e8\" stroke-width=\"1.5\"/><path d=\"m156.35 93.443c1.1752 0 2.3025-0.46693 3.1335-1.2979s1.2979-1.9583 1.2979-3.1335-0.46693-2.3025-1.2979-3.1335c-0.83102-0.83102-1.9583-1.2979-3.1335-1.2979s-2.3025 0.46693-3.1335 1.2979c-0.83102 0.83102-1.2979 1.9583-1.2979 3.1335s0.46693 2.3025 1.2979 3.1335c0.83102 0.83102 1.9583 1.2979 3.1335 1.2979z\" clip-path=\"url(#p64996ae332)\" fill=\"#1192e8\" stroke=\"#1192e8\" stroke-width=\"1.5\"/><path d=\"m187.03 58.332h29.543v-29.543h-29.543z\" clip-path=\"url(#p64996ae332)\" fill=\"#1192e8\" stroke=\"#1192e8\" stroke-width=\"1.5\"/><path d=\"m187.03 103.78h29.543v-29.543h-29.543z\" clip-path=\"url(#p64996ae332)\" fill=\"#1192e8\" stroke=\"#1192e8\" stroke-width=\"1.5\"/><path d=\"m232.48 58.332h29.543v-29.543h-29.543z\" clip-path=\"url(#p64996ae332)\" fill=\"#005d5d\" stroke=\"#005d5d\" stroke-width=\"1.5\"/><path d=\"m232.48 103.78h29.543v-29.543h-29.543z\" clip-path=\"url(#p64996ae332)\" fill=\"#005d5d\" stroke=\"#005d5d\" stroke-width=\"1.5\"/><path d=\"m292.7 47.992c1.1752 0 2.3025-0.46693 3.1335-1.2979 0.83102-0.83102 1.2979-1.9583 1.2979-3.1335 0-1.1752-0.46693-2.3025-1.2979-3.1335-0.83102-0.83102-1.9583-1.2979-3.1335-1.2979s-2.3025 0.46693-3.1335 1.2979c-0.83102 0.83102-1.2979 1.9583-1.2979 3.1335 0 1.1752 0.46693 2.3025 1.2979 3.1335 0.83102 0.83102 1.9583 1.2979 3.1335 1.2979z\" clip-path=\"url(#p64996ae332)\" fill=\"#1192e8\" stroke=\"#1192e8\" stroke-width=\"1.5\"/><path d=\"m292.7 93.443c1.1752 0 2.3025-0.46693 3.1335-1.2979 0.83102-0.83102 1.2979-1.9583 1.2979-3.1335s-0.46693-2.3025-1.2979-3.1335c-0.83102-0.83102-1.9583-1.2979-3.1335-1.2979s-2.3025 0.46693-3.1335 1.2979c-0.83102 0.83102-1.2979 1.9583-1.2979 3.1335s0.46693 2.3025 1.2979 3.1335c0.83102 0.83102 1.9583 1.2979 3.1335 1.2979z\" clip-path=\"url(#p64996ae332)\" fill=\"#1192e8\" stroke=\"#1192e8\" stroke-width=\"1.5\"/><path d=\"m323.38 58.332h29.543v-29.543h-29.543z\" clip-path=\"url(#p64996ae332)\" fill=\"#005d5d\" stroke=\"#005d5d\" stroke-width=\"1.5\"/><path d=\"m323.38 103.78h29.543v-29.543h-29.543z\" clip-path=\"url(#p64996ae332)\" fill=\"#005d5d\" stroke=\"#005d5d\" stroke-width=\"1.5\"/><path d=\"m368.83 58.332h29.543v-29.543h-29.543z\" clip-path=\"url(#p64996ae332)\" fill=\"#1192e8\" stroke=\"#1192e8\" stroke-width=\"1.5\"/><path d=\"m368.83 103.78h29.543v-29.543h-29.543z\" clip-path=\"url(#p64996ae332)\" fill=\"#1192e8\" stroke=\"#1192e8\" stroke-width=\"1.5\"/><path d=\"m459.73 58.332h29.543v-29.543h-29.543z\" clip-path=\"url(#p64996ae332)\" fill=\"#121619\" stroke=\"#121619\" stroke-width=\"1.5\"/><path d=\"m484.84 47.992c0-2.7413-1.0901-5.3732-3.0285-7.3116-1.9384-1.9384-4.5702-3.0285-7.3116-3.0285-2.7413 0-5.3732 1.0901-7.3116 3.0285-1.9384 1.9384-3.0285 4.5702-3.0285 7.3116\" clip-path=\"url(#p64996ae332)\" fill=\"none\" stroke=\"#ffffff\" stroke-width=\"2\"/><path d=\"m505.18 103.78h29.543v-29.543h-29.543z\" clip-path=\"url(#p64996ae332)\" fill=\"#121619\" stroke=\"#121619\" stroke-width=\"1.5\"/><path d=\"m530.3 93.443c0-2.7413-1.0901-5.3732-3.0285-7.3116-1.9384-1.9384-4.5702-3.0285-7.3116-3.0285s-5.3732 1.0901-7.3116 3.0285c-1.9384 1.9384-3.0285 4.5702-3.0285 7.3116\" clip-path=\"url(#p64996ae332)\" fill=\"none\" stroke=\"#ffffff\" stroke-width=\"2\"/><path d=\"m474.5 47.992 10.34-10.34\" clip-path=\"url(#p64996ae332)\" fill=\"none\" stroke=\"#ffffff\" stroke-linecap=\"square\" stroke-width=\"2\"/><path d=\"m519.96 93.443 10.34-10.34\" clip-path=\"url(#p64996ae332)\" fill=\"none\" stroke=\"#ffffff\" stroke-linecap=\"square\" stroke-width=\"2\"/><path d=\"m429.05 20.835v45.451\" clip-path=\"url(#p64996ae332)\" fill=\"none\" stroke=\"#000000\" stroke-dasharray=\"3.7,1.6\"/><path d=\"m429.05 66.286v45.451\" clip-path=\"url(#p64996ae332)\" fill=\"none\" stroke=\"#000000\" stroke-dasharray=\"3.7,1.6\"/><g clip-path=\"url(#p64996ae332)\"><g transform=\"translate(59.225 48.012) scale(.1625 -.1625)\"><defs><path id=\"DejaVuSans-Oblique-71\" transform=\"scale(.015625)\" d=\"m2669 525q-231-303-546-460-314-156-695-156-531 0-833 358-301 358-301 986 0 506 186 978t533 847q225 244 517 375t614 131q387 0 637-153t363-462l100 525h578l-934-4813h-579l360 1844zm-1778 813q0-463 193-705 194-242 560-242 544 0 928 520t384 1264q0 450-199 689-198 239-569 239-272 0-504-127-231-126-403-370-181-256-286-600-104-343-104-668z\"/><path id=\"DejaVuSans-30\" transform=\"scale(.015625)\" d=\"m2034 4250q-487 0-733-480-245-479-245-1442 0-959 245-1439 246-480 733-480 491 0 736 480 246 480 246 1439 0 963-246 1442-245 480-736 480zm0 500q785 0 1199-621 414-620 414-1801 0-1178-414-1799-414-620-1199-620-784 0-1198 620-414 621-414 1799 0 1181 414 1801 414 621 1198 621z\"/></defs><use xlink:href=\"#DejaVuSans-Oblique-71\"/><use transform=\"translate(63.477 -16.406) scale(.7)\" xlink:href=\"#DejaVuSans-30\"/></g></g><g clip-path=\"url(#p64996ae332)\"><g transform=\"translate(59.225 93.463) scale(.1625 -.1625)\"><defs><path id=\"DejaVuSans-31\" transform=\"scale(.015625)\" d=\"m794 531h1031v3560l-1122-225v575l1116 225h631v-4135h1031v-531h-2687v531z\"/></defs><use xlink:href=\"#DejaVuSans-Oblique-71\"/><use transform=\"translate(63.477 -16.406) scale(.7)\" xlink:href=\"#DejaVuSans-31\"/></g></g><g clip-path=\"url(#p64996ae332)\"><g transform=\"translate(90.898 127.75) scale(.104 -.104)\"><defs><path id=\"DejaVuSans-32\" transform=\"scale(.015625)\" d=\"m1228 531h2203v-531h-2962v531q359 372 979 998 621 627 780 809 303 340 423 576 121 236 121 464 0 372-261 606-261 235-680 235-297 0-627-103-329-103-704-313v638q381 153 712 231 332 78 607 78 725 0 1156-363 431-362 431-968 0-288-108-546-107-257-392-607-78-91-497-524-418-433-1181-1211z\"/></defs><use xlink:href=\"#DejaVuSans-32\"/></g></g><g clip-path=\"url(#p64996ae332)\"><g transform=\"translate(33.012 138.95) scale(.1625 -.1625)\"><defs><path id=\"DejaVuSans-6d\" transform=\"scale(.015625)\" d=\"m3328 2828q216 388 516 572t706 184q547 0 844-383 297-382 297-1088v-2113h-578v2094q0 503-179 746-178 244-543 244-447 0-707-297-259-296-259-809v-1978h-578v2094q0 506-178 748t-550 242q-441 0-701-298-259-298-259-808v-1978h-578v3500h578v-544q197 322 472 475t653 153q382 0 649-194 267-193 395-562z\"/><path id=\"DejaVuSans-65\" transform=\"scale(.015625)\" d=\"m3597 1894v-281h-2644q38-594 358-905t892-311q331 0 642 81t618 244v-544q-310-131-635-200t-659-69q-838 0-1327 487-489 488-489 1320 0 859 464 1363 464 505 1252 505 706 0 1117-455 411-454 411-1235zm-575 169q-6 471-264 752-258 282-683 282-481 0-770-272t-333-766l2050 4z\"/><path id=\"DejaVuSans-61\" transform=\"scale(.015625)\" d=\"m2194 1759q-697 0-966-159t-269-544q0-306 202-486 202-179 548-179 479 0 768 339t289 901v128h-572zm1147 238v-1997h-575v531q-197-318-491-470t-719-152q-537 0-855 302-317 302-317 808 0 590 395 890 396 300 1180 300h807v57q0 397-261 614t-733 217q-300 0-585-72-284-72-546-216v532q315 122 612 182 297 61 578 61 760 0 1135-394 375-393 375-1193z\"/><path id=\"DejaVuSans-73\" transform=\"scale(.015625)\" d=\"m2834 3397v-544q-243 125-506 187-262 63-544 63-428 0-642-131t-214-394q0-200 153-314t616-217l197-44q612-131 870-370t258-667q0-488-386-773-386-284-1061-284-281 0-586 55t-642 164v594q319-166 628-249 309-82 613-82 406 0 624 139 219 139 219 392 0 234-158 359-157 125-692 241l-200 47q-534 112-772 345-237 233-237 639 0 494 350 762 350 269 994 269 318 0 599-47 282-46 519-140z\"/></defs><use xlink:href=\"#DejaVuSans-6d\"/><use x=\"97.412109\" xlink:href=\"#DejaVuSans-65\"/><use x=\"158.935547\" xlink:href=\"#DejaVuSans-61\"/><use x=\"220.214844\" xlink:href=\"#DejaVuSans-73\"/></g></g><g clip-path=\"url(#p64996ae332)\"><g transform=\"translate(106.01 47.148) scale(.13 -.13)\" fill=\"#ffffff\"><defs><path id=\"DejaVuSans-48\" transform=\"scale(.015625)\" d=\"m628 4666h631v-1913h2294v1913h631v-4666h-631v2222h-2294v-2222h-631v4666z\"/></defs><use xlink:href=\"#DejaVuSans-48\"/></g></g><g clip-path=\"url(#p64996ae332)\"><g transform=\"translate(106.01 92.599) scale(.13 -.13)\" fill=\"#ffffff\"><use xlink:href=\"#DejaVuSans-48\"/></g></g><g clip-path=\"url(#p64996ae332)\"><g transform=\"translate(196.91 47.148) scale(.13 -.13)\" fill=\"#ffffff\"><use xlink:href=\"#DejaVuSans-48\"/></g></g><g clip-path=\"url(#p64996ae332)\"><g transform=\"translate(196.91 92.599) scale(.13 -.13)\" fill=\"#ffffff\"><use xlink:href=\"#DejaVuSans-48\"/></g></g><g clip-path=\"url(#p64996ae332)\"><g transform=\"translate(242.8 47.148) scale(.13 -.13)\" fill=\"#ffffff\"><defs><path id=\"DejaVuSans-58\" transform=\"scale(.015625)\" d=\"m403 4666h678l1160-1735 1165 1735h678l-1500-2241 1600-2425h-678l-1312 1984-1322-1984h-681l1665 2491-1453 2175z\"/></defs><use xlink:href=\"#DejaVuSans-58\"/></g></g><g clip-path=\"url(#p64996ae332)\"><g transform=\"translate(242.8 92.599) scale(.13 -.13)\" fill=\"#ffffff\"><use xlink:href=\"#DejaVuSans-58\"/></g></g><g clip-path=\"url(#p64996ae332)\"><g transform=\"translate(333.7 47.148) scale(.13 -.13)\" fill=\"#ffffff\"><use xlink:href=\"#DejaVuSans-58\"/></g></g><g clip-path=\"url(#p64996ae332)\"><g transform=\"translate(333.7 92.599) scale(.13 -.13)\" fill=\"#ffffff\"><use xlink:href=\"#DejaVuSans-58\"/></g></g><g clip-path=\"url(#p64996ae332)\"><g transform=\"translate(378.71 47.148) scale(.13 -.13)\" fill=\"#ffffff\"><use xlink:href=\"#DejaVuSans-48\"/></g></g><g clip-path=\"url(#p64996ae332)\"><g transform=\"translate(378.71 92.599) scale(.13 -.13)\" fill=\"#ffffff\"><use xlink:href=\"#DejaVuSans-48\"/></g></g><g clip-path=\"url(#p64996ae332)\"><g transform=\"translate(485.87 127.75) scale(.104 -.104)\"><use xlink:href=\"#DejaVuSans-30\"/></g></g><g clip-path=\"url(#p64996ae332)\"><g transform=\"translate(531.32 127.75) scale(.104 -.104)\"><use xlink:href=\"#DejaVuSans-31\"/></g></g><defs><clipPath id=\"p64996ae332\"><rect x=\"7.2\" y=\"7.2\" width=\"542.75\" height=\"154.53\"/></clipPath></defs></svg>"
            ],
            "text/plain": [
              "<Figure size 718.879x204.68 with 1 Axes>"
            ]
          },
          "execution_count": 13,
          "metadata": {
          },
          "output_type": "execute_result"
        }
      ],
      "source": [
        "grover = QuantumCircuit(2)\n",
        "grover.h([0,1])  # initialise |s>\n",
        "grover = grover.compose(oracle)\n",
        "grover = grover.compose(diffuser)\n",
        "grover.measure_all()\n",
        "grover.draw()"
      ]
    },
    {
      "cell_type": "markdown",
      "metadata": {
      },
      "source": [
        "そして、シミュレーションをしてみると、100%の確率で、オラクルの解である $|11\\rangle$ を測定していることがわかるのです。"
      ]
    },
    {
      "cell_type": "code",
      "execution_count": 14,
      "metadata": {
      },
      "outputs": [
        {
          "data": {
            "text/plain": [
              "{'11': 1024}"
            ]
          },
          "execution_count": 14,
          "metadata": {
          },
          "output_type": "execute_result"
        }
      ],
      "source": [
        "from qiskit import Aer\n",
        "sim = Aer.get_backend('aer_simulator')\n",
        "sim.run(grover).result().get_counts()"
      ]
    },
    {
      "cell_type": "markdown",
      "metadata": {
      },
      "source": [
        "<!-- ::: q-block.exercise -->\n",
        "\n",
        "### 試してみよう\n",
        "\n",
        "この回路のオラクルを、上で作成した異なるオラクルに置き換えてみてください。期待通りの結果が得られますか？\n",
        "\n",
        "[IBM Quantum Labdeで試してみましょう。](https://quantum-computing.ibm.com/lab)\n",
        "\n",
        "<!-- ::: -->"
      ]
    },
    {
      "cell_type": "markdown",
      "metadata": {
        "formulas": {
          "Big-N": {
            "meaning": "This is the number of entries in a database, or the number of possible inputs to search through."
          },
          "lil-n": {
            "meaning": "This is the number of bits in our problem."
          }
        }
      },
      "source": [
        "## SAT問題は困難である\n",
        "\n",
        "![問題のサイズとアルゴリズムの実行時間のグラフ。ランダムな推測とグローバーのアルゴリズムの両方が指数曲線として表示され、グローバーはランダムな推測よりもわずかに遅く増大する。](images/grover/rg-vs-grover-sat.svg)\n",
        "\n",
        "ランダムな推測はデータベースの項目数に比例して増大します。これは実はそれほど悪いことではありません（もっとうまくできることは分かっていますが）が、我々は通常、アルゴリズムがどのように増大するかを、入力*ビット*の長さで測ります。では、この2つはどのように結びついているのでしょうか？SAT問題で変数（ビット）が増えるごとに、可能な解の数（つまりデータベースの項目）は*2倍*になるので、探索空間はビット数について指数関数的に大きくなります。\n",
        "\n",
        "$$\\cssId{Big-N}{N} = 2^\\cssId{lil-n}{n}$$\n",
        "\n",
        "ランダムな推測は $N$ について線形に成長するので、実行時間はおおよそ $2^n$ で増大することになります。\n",
        "\n",
        "<!-- ::: q-block.exercise -->\n",
        "\n",
        "### クイッククイズ\n",
        "\n",
        "<!-- ::: q-quiz(goal=\"intro-grover-6\") -->\n",
        "\n",
        "<!-- ::: .question -->\n",
        "\n",
        "グローバーのアルゴリズムの実行時間は、（解が1つしかない場合）入力ビット数に応じてどのように増大しますか？\n",
        "\n",
        "<!-- ::: -->\n",
        "\n",
        "<!-- ::: .option -->\n",
        "\n",
        "1. $\\sqrt{n}$\n",
        "\n",
        "<!-- ::: -->\n",
        "\n",
        "<!-- ::: .option -->\n",
        "\n",
        "1. $2^n$\n",
        "\n",
        "<!-- ::: -->\n",
        "\n",
        "<!-- ::: .option(correct) -->\n",
        "\n",
        "1. $\\sqrt{2^n}$\n",
        "\n",
        "<!-- ::: -->\n",
        "\n",
        "<!-- ::: .option -->\n",
        "\n",
        "1. $\\sqrt{2^{n/2}}$\n",
        "\n",
        "<!-- ::: -->\n",
        "\n",
        "<!-- ::: -->\n",
        "\n",
        "<!-- ::: -->\n",
        "\n",
        "## 構造を利用する\n",
        "\n",
        "これまで、SAT問題は全く構造化されていないかのように扱ってきましたが、分類されていない電話帳とは異なり、探索に役立ついくつかの手がかりが*確かに*あります。SAT問題はブラックボックスではなく、個々の節の集合であり、これらの節を使って正解にたどり着くことができるのです。二分探索のような効率的なものは得られませんが、それでも無作為に推測するよりはずっと良いでしょう。SAT問題の構造を利用した（古典的な）アルゴリズムにシェーニングのアルゴリズムがあります。\n",
        "\n",
        "![問題のサイズとアルゴリズムの実行時間のグラフ。ランダムな推測、グローバーのアルゴリズム、およびシェーニングのアルゴリズムは指数曲線として示され、シェーニングはグローバーよりもわずかに遅く増大し、グローバーはランダムな推測よりもゆっくりと増大する](images/grover/rg-vs-grov-vs-schoning.svg)\n",
        "\n",
        "シェーニングのアルゴリズムは、ランダムな推測と同じように、ランダムに入力を選び、それがうまくいくかどうかをチェックします。しかし、ランダムな推測とは異なり、このビット列をただ捨てるわけではありません。その代わりに、不満足な節を選び、その節を満足させるようにビット列のビットを切り替えます。残念なことに、この新しいビット列は、以前に満足させた別の節を満足させないかもしれません。しかし、平均的には、このように何度かビットを切り替えていくことが有効なのです。最初の推測が十分に近ければ、正解に行き着く可能性が高いです。そうでない場合は、何度目かの手順で、コンピューターは完全にランダムな新しい推測からやり直します。3-SATでは（(&gt;3)-SATではありませんが）、このアルゴリズムはおよそ $1.3334^n$ で増大することがわかります。これはランダムな推測に勝るだけでなく、グローバーのアルゴリズムにも勝るのです。\n",
        "\n",
        "![問題のサイズとアルゴリズムの実行時間のグラフ。ランダムな推測、グローバー、シェーニング、および「グローバー+シェーニング」のアルゴリズムが指数曲線で表示されている。「グローバー+シェーニング」はシェーニングよりもかなり遅く、グローバーよりもわずかに遅く、さらにランダムな推測よりも遅く増大する](images/grover/all-algos.svg)\n",
        "\n",
        "一見するとわかりませんが、実はグローバーのアルゴリズムとシェーニングのアルゴリズムを組み合わせることで、どちらか一方だけよりもさらに優れたものを得ることができます。シェーニングのアルゴリズムのビット切り替えの部分を実行する回路を作れば、これをオラクルとして、グローバーのアルゴリズムで最適な「初期推測」を見つけることができます。この講座では触れませんが、それを調べるのも楽しいプロジェクトです。"
      ]
    }
  ],
  "metadata": {
    "kernelspec": {
      "display_name": "Python 3",
      "language": "python",
      "name": "python3"
    },
    "language_info": {
      "codemirror_mode": {
        "name": "ipython",
        "version": 3
      },
      "file_extension": ".py",
      "mimetype": "text/x-python",
      "name": "python",
      "nbconvert_exporter": "python",
      "pygments_lexer": "ipython3",
      "version": "3.9"
    }
  },
  "nbformat": 4,
  "nbformat_minor": 4
}
