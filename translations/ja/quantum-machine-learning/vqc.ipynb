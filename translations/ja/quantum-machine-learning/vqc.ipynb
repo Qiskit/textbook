{
 "cells": [
  {
   "cell_type": "markdown",
   "metadata": {
    "formulas": {
     "_eq_1": {
      "meaning": "The quantum state is a function of both the input data and the parameters, equivalent to the encoding applied on the ground state then the parameterized circuit applied."
     },
     "_map_1": {
      "meaning": "This means f is a function that takes a bit string of length n, and returns a single bit."
     }
    },
    "gloss": {
     "adhoc-dataset": {
      "text": "A dataset just created as needed.",
      "title": "Adhoc dataset"
     },
     "barren-plateaus": {
      "text": "A ‘plateau’ is a flat, high area of land. ‘Barren’ means empty, or bleak. The barren plateau problem is where the loss landscape becomes increasingly flat (and thus hard to determine the direction to the minimum).",
      "title": "Barren plateau"
     },
     "classifier": {
      "text": "Classification is the problem of working out which class a datapoint belongs to, e.g. working out whether or not a photo contains a tortoise.",
      "title": "Classifier"
     },
     "eigensolver": {
      "text": "An eigensolver is an algorithm that finds eigenvectors, eigenvalues of an operator.",
      "title": "Eigensolver"
     },
     "global-minimum": {
      "text": "A global minimum is <i>the</i> lowest point, anywhere in our function (i.e. for any value of θ).",
      "title": "Global minimum"
     },
     "local-minimum": {
      "text": "A local minimum is the lowest point of the function, for a small range of values of θ.",
      "title": "Local minimum"
     },
     "near-term-algorithm": {
      "text": "For the next few years, quantum computers will be very noisy, and have limited qubit counts. “Near-term” algorithms are more resiliant to noise, and require less qubits, so are more likely to be useful on these machines.",
      "title": "Near-term algorithm"
     },
     "parity-function": {
      "text": "A parity function returns True if the input bit string has an odd number of 1s, and returns False otherwise.",
      "title": "Parity function"
     }
    }
   },
   "source": [
    "# 変分分類\n",
    "\n",
    "このページでは、変分アルゴリズムを紹介し、変分量子[分類器](gloss:classifier)について説明および実装し、変分訓練について議論します。 "
   ]
  },
  {
   "cell_type": "markdown",
   "metadata": {},
   "source": [
    "## 変分アルゴリズム\n",
    "\n",
    "変分アルゴリズムは2014年に提唱され、参考文献1では変分[固有値ソルバー](gloss:eigensolver)、参考文献2では量子近似最適化アルゴリズムがあります。これらは[近い将来のアルゴリズム](gloss:near-term-algorithm)であり、現在の量子コンピューターと古典コンピューターが連携して実行できます。\n",
    "\n",
    "パラメータ化された量子回路、またはansatz $U(\\theta)$ を使用して、状態 $|\\psi(\\theta) \\rangle = U(\\theta) |0 \\rangle$ を準備し、量子コンピューターを使って期待値を測定します。そして解決しようとしている問題に対して $\\theta$ がどれだけ優れているかを決めるコスト関数 $C(\\theta)$ を定義します。次に、古典コンピューターを使用してコスト関数を計算し、最適化アルゴリズムを使用して回路パラメータを更新します。アルゴリズムの目標は、コスト関数 $C(\\theta)$ を最小化するパラメータ化された量子回路 $U(\\theta)$ の回路パラメータ $\\theta$ を見つけることです。\n",
    "\n",
    "![](images/vqc/va.svg)"
   ]
  },
  {
   "cell_type": "markdown",
   "metadata": {},
   "source": [
    "## 変分量子分類器\n",
    "\n",
    "変分量子分類器は、測定された期待値が分類器の出力として解釈される変分アルゴリズムです。2018年に複数のグループによって導入されました。バイナリー分類問題の場合、入力データベクトル $\\vec{x}_i$ とバイナリー出力ラベル $y_i= {0,1}$ として、入力データベクトルごとに、量子状態を出力するパラメーター化された量子回路を構築します。\n",
    "\n",
    "$$ \\cssId{_eq_1}{|\\psi(\\vec{x}_i;\\vec{\\theta}) \\rangle =  U_{W(\\vec{\\theta})}U_{\\phi(\\vec{x}_i)}|0 \\rangle}$$\n",
    "\n",
    "ここで、 $U_{W(\\vec{\\theta})}$ は変分回路ユニタリーに対応し、 $U_{\\phi(\\vec{x}_i)}$ はデータエンコーディング回路ユニタリーに対応します。  $n$ 量子ビットの回路を作成して測定した後、 $n$ の長さのビット文字列が残り、そこから分類結果となるバイナリー出力を導出する必要があります。これは、ブール関数 $ \\cssId{_map_1}{ f: \\{0, 1\\}^{n} \\rightarrow \\{0, 1\\} }$ の助けを借りて行われます。[パリティ関数](gloss:parity-function)は、このための一般的な選択肢です。\n",
    "\n",
    "![](images/vqc/vqc.svg)\n",
    "\n",
    "訓練フェーズでは、最良の予測を提供する $\\vec{\\theta}$ の値を見つけようとします。古典コンピューターは、予測されたラベル $\\hat{y_i}$ を提供されたラベル $y_i$ と比較し、コスト関数を使用して予測結果の成否を計算します。このコストに基づいて、古典コンピューターは、従来の最適化アルゴリズムを使用して、 $\\vec{\\theta}$ に別の値を選択します。次に、この新しい $\\vec{\\theta}$ を使用して新しい回路を実行し、コスト関数が安定するまでこの処理を繰り返します。"
   ]
  },
  {
   "cell_type": "markdown",
   "metadata": {},
   "source": [
    "### 実装の全て\n",
    "\n",
    "[Rodney Osodo](https://medium.com/qiskit/building-a-quantum-variational-classifier-using-real-world-data-809c59eb17c2) による [この実装](https://github.com/0x6f736f646f/variational-quantum-classifier-on-heartattack/blob/main/Src/Notebooks/02-qiskit.ipynb) に続いて、参考文献3で説明されているように、変分量子分類器のすべての個別のコンポーネントを実装し、  `adhoc` データセットを分類しましょう。\n",
    "\n",
    "1. 各クラスから2つの機能の20のトレーニングデータポイントと5つのテストデータポイントを作成します。"
   ]
  },
  {
   "cell_type": "code",
   "execution_count": 1,
   "metadata": {},
   "outputs": [],
   "source": [
    "from qiskit.utils import algorithm_globals\n",
    "algorithm_globals.random_seed = 3142\n",
    "\n",
    "import numpy as np\n",
    "np.random.seed(algorithm_globals.random_seed)\n",
    "\n",
    "from qiskit_machine_learning.datasets import ad_hoc_data\n",
    "# pylint: disable=unbalanced-tuple-unpacking\n",
    "TRAIN_DATA, TRAIN_LABELS, TEST_DATA, TEST_LABELS = (\n",
    "    ad_hoc_data(training_size=20,\n",
    "                test_size=5,\n",
    "                n=2,\n",
    "                gap=0.3,\n",
    "                one_hot=False))\n",
    "# pylint: enable=unbalanced-tuple-unpacking"
   ]
  },
  {
   "cell_type": "markdown",
   "metadata": {},
   "source": [
    "2. 分類回路を準備します。参考文献3に示すように、データエンコーディング回路としてQiskitの`ZZFeatureMap`を使用し、変分回路として$Y$および$Z$回転と制御位相ゲートを持つQiskitの`TwoLocal`回路を使用します。"
   ]
  },
  {
   "cell_type": "code",
   "execution_count": 2,
   "metadata": {},
   "outputs": [
    {
     "data": {
      "image/svg+xml": [
       "<?xml version=\"1.0\" encoding=\"UTF-8\"?><!DOCTYPE svg  PUBLIC '-//W3C//DTD SVG 1.1//EN'  'http://www.w3.org/Graphics/SVG/1.1/DTD/svg11.dtd'><svg width=\"1238.9pt\" height=\"168.93pt\" version=\"1.1\" viewBox=\"0 0 1238.9 168.93\" xmlns=\"http://www.w3.org/2000/svg\" xmlns:xlink=\"http://www.w3.org/1999/xlink\"><defs><style type=\"text/css\">*{stroke-linejoin: round; stroke-linecap: butt}</style></defs><path d=\"m0 168.93h1238.9v-168.93h-1238.9z\" fill=\"#ffffff\"/><path d=\"m1150.4 124.12h11.817l-5.9086 8.5221z\" clip-path=\"url(#pbe8ef08795)\" fill=\"#778899\"/><path d=\"m1195.8 124.12h11.817l-5.9086 8.5221z\" clip-path=\"url(#pbe8ef08795)\" fill=\"#778899\"/><path d=\"m86.353 43.561h1140.8\" clip-path=\"url(#pbe8ef08795)\" fill=\"none\" stroke=\"#000000\" stroke-linecap=\"square\" stroke-width=\"2\"/><path d=\"m86.353 89.012h1140.8\" clip-path=\"url(#pbe8ef08795)\" fill=\"none\" stroke=\"#000000\" stroke-linecap=\"square\" stroke-width=\"2\"/><path d=\"m86.353 132.99h1140.8\" clip-path=\"url(#pbe8ef08795)\" fill=\"none\" stroke=\"#778899\" stroke-linecap=\"square\" stroke-width=\"2\"/><path d=\"m86.353 135.94h1140.8\" clip-path=\"url(#pbe8ef08795)\" fill=\"none\" stroke=\"#778899\" stroke-linecap=\"square\" stroke-width=\"2\"/><path d=\"m95.443 139.01 4.5451-9.0902\" clip-path=\"url(#pbe8ef08795)\" fill=\"none\" stroke=\"#778899\" stroke-linecap=\"square\"/><path d=\"m201.8 89.012v-45.451\" clip-path=\"url(#pbe8ef08795)\" fill=\"none\" stroke=\"#1192e8\" stroke-linecap=\"square\" stroke-width=\"2\"/><path d=\"m383.6 89.012v-45.451\" clip-path=\"url(#pbe8ef08795)\" fill=\"none\" stroke=\"#1192e8\" stroke-linecap=\"square\" stroke-width=\"2\"/><path d=\"m519.96 89.012v-45.451\" clip-path=\"url(#pbe8ef08795)\" fill=\"none\" stroke=\"#1192e8\" stroke-linecap=\"square\" stroke-width=\"2\"/><path d=\"m701.76 89.012v-45.451\" clip-path=\"url(#pbe8ef08795)\" fill=\"none\" stroke=\"#1192e8\" stroke-linecap=\"square\" stroke-width=\"2\"/><path d=\"m838.11 89.012v-45.451\" clip-path=\"url(#pbe8ef08795)\" fill=\"none\" stroke=\"#1192e8\" stroke-linecap=\"square\" stroke-width=\"2\"/><path d=\"m974.47 89.012v-45.451\" clip-path=\"url(#pbe8ef08795)\" fill=\"none\" stroke=\"#1192e8\" stroke-linecap=\"square\" stroke-width=\"2\"/><path d=\"m1102 66.286h17.726v-45.451h-17.726z\" clip-path=\"url(#pbe8ef08795)\" fill=\"#bdbdbd\" opacity=\".6\"/><path d=\"m1102 111.74h17.726v-45.451h-17.726z\" clip-path=\"url(#pbe8ef08795)\" fill=\"#bdbdbd\" opacity=\".6\"/><path d=\"m1157.7 43.561v80.562\" clip-path=\"url(#pbe8ef08795)\" fill=\"none\" stroke=\"#778899\" stroke-linecap=\"square\" stroke-width=\"2\"/><path d=\"m1154.8 43.561v80.562\" clip-path=\"url(#pbe8ef08795)\" fill=\"none\" stroke=\"#778899\" stroke-linecap=\"square\" stroke-width=\"2\"/><path d=\"m1203.2 89.012v35.111\" clip-path=\"url(#pbe8ef08795)\" fill=\"none\" stroke=\"#778899\" stroke-linecap=\"square\" stroke-width=\"2\"/><path d=\"m1200.2 89.012v35.111\" clip-path=\"url(#pbe8ef08795)\" fill=\"none\" stroke=\"#778899\" stroke-linecap=\"square\" stroke-width=\"2\"/><path d=\"m838.11 89.012v-45.451\" clip-path=\"url(#pbe8ef08795)\" fill=\"none\" stroke=\"#1192e8\" stroke-linecap=\"square\" stroke-width=\"2\"/><path d=\"m974.47 89.012v-45.451\" clip-path=\"url(#pbe8ef08795)\" fill=\"none\" stroke=\"#1192e8\" stroke-linecap=\"square\" stroke-width=\"2\"/><path d=\"m96.125 58.332h29.543v-29.543h-29.543z\" clip-path=\"url(#pbe8ef08795)\" fill=\"#1192e8\" stroke=\"#1192e8\" stroke-width=\"1.5\"/><path d=\"m96.125 103.78h29.543v-29.543h-29.543z\" clip-path=\"url(#pbe8ef08795)\" fill=\"#1192e8\" stroke=\"#1192e8\" stroke-width=\"1.5\"/><path d=\"m138.97 58.332h34.756v-29.543h-34.756z\" clip-path=\"url(#pbe8ef08795)\" fill=\"#6929c4\" stroke=\"#6929c4\" stroke-width=\"1.5\"/><path d=\"m138.97 103.78h34.756v-29.543h-34.756z\" clip-path=\"url(#pbe8ef08795)\" fill=\"#6929c4\" stroke=\"#6929c4\" stroke-width=\"1.5\"/><path d=\"m201.8 47.992c1.1752 0 2.3025-0.46693 3.1335-1.2979 0.83102-0.83102 1.2979-1.9583 1.2979-3.1335 0-1.1752-0.46693-2.3025-1.2979-3.1335-0.83102-0.83102-1.9583-1.2979-3.1335-1.2979s-2.3025 0.46693-3.1335 1.2979c-0.83102 0.83102-1.2979 1.9583-1.2979 3.1335 0 1.1752 0.46693 2.3025 1.2979 3.1335 0.83102 0.83102 1.9583 1.2979 3.1335 1.2979z\" clip-path=\"url(#pbe8ef08795)\" fill=\"#1192e8\" stroke=\"#1192e8\" stroke-width=\"1.5\"/><path d=\"m201.8 99.352c2.7422 0 5.3725-1.0895 7.3116-3.0285 1.939-1.939 3.0285-4.5693 3.0285-7.3116s-1.0895-5.3725-3.0285-7.3116c-1.939-1.939-4.5693-3.0285-7.3116-3.0285s-5.3725 1.0895-7.3116 3.0285c-1.939 1.939-3.0285 4.5693-3.0285 7.3116s1.0895 5.3725 3.0285 7.3116c1.939 1.939 4.5693 3.0285 7.3116 3.0285z\" clip-path=\"url(#pbe8ef08795)\" fill=\"#1192e8\" stroke=\"#1192e8\" stroke-width=\"2\"/><path d=\"m241 103.78h103.4v-29.543h-103.4z\" clip-path=\"url(#pbe8ef08795)\" fill=\"#6929c4\" stroke=\"#6929c4\" stroke-width=\"1.5\"/><path d=\"m383.6 47.992c1.1752 0 2.3025-0.46693 3.1335-1.2979 0.83102-0.83102 1.2979-1.9583 1.2979-3.1335 0-1.1752-0.46693-2.3025-1.2979-3.1335-0.83102-0.83102-1.9583-1.2979-3.1335-1.2979s-2.3025 0.46693-3.1335 1.2979c-0.83102 0.83102-1.2979 1.9583-1.2979 3.1335 0 1.1752 0.46693 2.3025 1.2979 3.1335 0.83102 0.83102 1.9583 1.2979 3.1335 1.2979z\" clip-path=\"url(#pbe8ef08795)\" fill=\"#1192e8\" stroke=\"#1192e8\" stroke-width=\"1.5\"/><path d=\"m383.6 99.352c2.7422 0 5.3725-1.0895 7.3116-3.0285 1.939-1.939 3.0285-4.5693 3.0285-7.3116s-1.0895-5.3725-3.0285-7.3116c-1.939-1.939-4.5693-3.0285-7.3116-3.0285s-5.3725 1.0895-7.3116 3.0285c-1.939 1.939-3.0285 4.5693-3.0285 7.3116s1.0895 5.3725 3.0285 7.3116c1.939 1.939 4.5693 3.0285 7.3116 3.0285z\" clip-path=\"url(#pbe8ef08795)\" fill=\"#1192e8\" stroke=\"#1192e8\" stroke-width=\"2\"/><path d=\"m414.28 58.332h29.543v-29.543h-29.543z\" clip-path=\"url(#pbe8ef08795)\" fill=\"#1192e8\" stroke=\"#1192e8\" stroke-width=\"1.5\"/><path d=\"m414.28 103.78h29.543v-29.543h-29.543z\" clip-path=\"url(#pbe8ef08795)\" fill=\"#1192e8\" stroke=\"#1192e8\" stroke-width=\"1.5\"/><path d=\"m457.13 58.332h34.756v-29.543h-34.756z\" clip-path=\"url(#pbe8ef08795)\" fill=\"#6929c4\" stroke=\"#6929c4\" stroke-width=\"1.5\"/><path d=\"m457.13 103.78h34.756v-29.543h-34.756z\" clip-path=\"url(#pbe8ef08795)\" fill=\"#6929c4\" stroke=\"#6929c4\" stroke-width=\"1.5\"/><path d=\"m519.96 47.992c1.1752 0 2.3025-0.46693 3.1335-1.2979 0.83102-0.83102 1.2979-1.9583 1.2979-3.1335 0-1.1752-0.46693-2.3025-1.2979-3.1335-0.83102-0.83102-1.9583-1.2979-3.1335-1.2979s-2.3025 0.46693-3.1335 1.2979c-0.83102 0.83102-1.2979 1.9583-1.2979 3.1335 0 1.1752 0.46693 2.3025 1.2979 3.1335 0.83102 0.83102 1.9583 1.2979 3.1335 1.2979z\" clip-path=\"url(#pbe8ef08795)\" fill=\"#1192e8\" stroke=\"#1192e8\" stroke-width=\"1.5\"/><path d=\"m519.96 99.352c2.7422 0 5.3725-1.0895 7.3116-3.0285 1.939-1.939 3.0285-4.5693 3.0285-7.3116s-1.0895-5.3725-3.0285-7.3116c-1.939-1.939-4.5693-3.0285-7.3116-3.0285s-5.3725 1.0895-7.3116 3.0285c-1.939 1.939-3.0285 4.5693-3.0285 7.3116s1.0895 5.3725 3.0285 7.3116c1.939 1.939 4.5693 3.0285 7.3116 3.0285z\" clip-path=\"url(#pbe8ef08795)\" fill=\"#1192e8\" stroke=\"#1192e8\" stroke-width=\"2\"/><path d=\"m559.16 103.78h103.4v-29.543h-103.4z\" clip-path=\"url(#pbe8ef08795)\" fill=\"#6929c4\" stroke=\"#6929c4\" stroke-width=\"1.5\"/><path d=\"m701.76 47.992c1.1752 0 2.3025-0.46693 3.1335-1.2979 0.83102-0.83102 1.2979-1.9583 1.2979-3.1335 0-1.1752-0.46693-2.3025-1.2979-3.1335-0.83102-0.83102-1.9583-1.2979-3.1335-1.2979-1.1752 0-2.3025 0.46693-3.1335 1.2979-0.83102 0.83102-1.2979 1.9583-1.2979 3.1335 0 1.1752 0.46693 2.3025 1.2979 3.1335 0.83102 0.83102 1.9583 1.2979 3.1335 1.2979z\" clip-path=\"url(#pbe8ef08795)\" fill=\"#1192e8\" stroke=\"#1192e8\" stroke-width=\"1.5\"/><path d=\"m701.76 99.352c2.7422 0 5.3725-1.0895 7.3116-3.0285 1.939-1.939 3.0285-4.5693 3.0285-7.3116s-1.0895-5.3725-3.0285-7.3116c-1.939-1.939-4.5693-3.0285-7.3116-3.0285-2.7422 0-5.3725 1.0895-7.3116 3.0285-1.939 1.939-3.0285 4.5693-3.0285 7.3116s1.0895 5.3725 3.0285 7.3116c1.939 1.939 4.5693 3.0285 7.3116 3.0285z\" clip-path=\"url(#pbe8ef08795)\" fill=\"#1192e8\" stroke=\"#1192e8\" stroke-width=\"2\"/><path d=\"m732.44 58.332h29.543v-29.543h-29.543z\" clip-path=\"url(#pbe8ef08795)\" fill=\"#6929c4\" stroke=\"#6929c4\" stroke-width=\"1.5\"/><path d=\"m732.44 103.78h29.543v-29.543h-29.543z\" clip-path=\"url(#pbe8ef08795)\" fill=\"#6929c4\" stroke=\"#6929c4\" stroke-width=\"1.5\"/><path d=\"m777.89 58.332h29.543v-29.543h-29.543z\" clip-path=\"url(#pbe8ef08795)\" fill=\"#6929c4\" stroke=\"#6929c4\" stroke-width=\"1.5\"/><path d=\"m777.89 103.78h29.543v-29.543h-29.543z\" clip-path=\"url(#pbe8ef08795)\" fill=\"#6929c4\" stroke=\"#6929c4\" stroke-width=\"1.5\"/><path d=\"m838.11 47.992c1.1752 0 2.3025-0.46693 3.1335-1.2979 0.83102-0.83102 1.2979-1.9583 1.2979-3.1335 0-1.1752-0.46693-2.3025-1.2979-3.1335-0.83102-0.83102-1.9583-1.2979-3.1335-1.2979-1.1752 0-2.3025 0.46693-3.1335 1.2979-0.83102 0.83102-1.2979 1.9583-1.2979 3.1335 0 1.1752 0.46693 2.3025 1.2979 3.1335 0.83102 0.83102 1.9583 1.2979 3.1335 1.2979z\" clip-path=\"url(#pbe8ef08795)\" fill=\"#1192e8\" stroke=\"#1192e8\" stroke-width=\"1.5\"/><path d=\"m838.11 93.443c1.1752 0 2.3025-0.46693 3.1335-1.2979s1.2979-1.9583 1.2979-3.1335-0.46693-2.3025-1.2979-3.1335c-0.83102-0.83102-1.9583-1.2979-3.1335-1.2979-1.1752 0-2.3025 0.46693-3.1335 1.2979-0.83102 0.83102-1.2979 1.9583-1.2979 3.1335s0.46693 2.3025 1.2979 3.1335c0.83102 0.83102 1.9583 1.2979 3.1335 1.2979z\" clip-path=\"url(#pbe8ef08795)\" fill=\"#1192e8\" stroke=\"#1192e8\" stroke-width=\"1.5\"/><path d=\"m868.79 58.332h29.543v-29.543h-29.543z\" clip-path=\"url(#pbe8ef08795)\" fill=\"#6929c4\" stroke=\"#6929c4\" stroke-width=\"1.5\"/><path d=\"m868.79 103.78h29.543v-29.543h-29.543z\" clip-path=\"url(#pbe8ef08795)\" fill=\"#6929c4\" stroke=\"#6929c4\" stroke-width=\"1.5\"/><path d=\"m914.24 58.332h29.543v-29.543h-29.543z\" clip-path=\"url(#pbe8ef08795)\" fill=\"#6929c4\" stroke=\"#6929c4\" stroke-width=\"1.5\"/><path d=\"m914.24 103.78h29.543v-29.543h-29.543z\" clip-path=\"url(#pbe8ef08795)\" fill=\"#6929c4\" stroke=\"#6929c4\" stroke-width=\"1.5\"/><path d=\"m974.47 47.992c1.1752 0 2.3025-0.46693 3.1335-1.2979 0.83102-0.83102 1.2979-1.9583 1.2979-3.1335 0-1.1752-0.46693-2.3025-1.2979-3.1335-0.83102-0.83102-1.9583-1.2979-3.1335-1.2979s-2.3025 0.46693-3.1335 1.2979c-0.83102 0.83102-1.2979 1.9583-1.2979 3.1335 0 1.1752 0.46693 2.3025 1.2979 3.1335 0.83102 0.83102 1.9583 1.2979 3.1335 1.2979z\" clip-path=\"url(#pbe8ef08795)\" fill=\"#1192e8\" stroke=\"#1192e8\" stroke-width=\"1.5\"/><path d=\"m974.47 93.443c1.1752 0 2.3025-0.46693 3.1335-1.2979s1.2979-1.9583 1.2979-3.1335-0.46693-2.3025-1.2979-3.1335c-0.83102-0.83102-1.9583-1.2979-3.1335-1.2979s-2.3025 0.46693-3.1335 1.2979c-0.83102 0.83102-1.2979 1.9583-1.2979 3.1335s0.46693 2.3025 1.2979 3.1335c0.83102 0.83102 1.9583 1.2979 3.1335 1.2979z\" clip-path=\"url(#pbe8ef08795)\" fill=\"#1192e8\" stroke=\"#1192e8\" stroke-width=\"1.5\"/><path d=\"m1005.1 58.332h29.543v-29.543h-29.543z\" clip-path=\"url(#pbe8ef08795)\" fill=\"#6929c4\" stroke=\"#6929c4\" stroke-width=\"1.5\"/><path d=\"m1005.1 103.78h29.543v-29.543h-29.543z\" clip-path=\"url(#pbe8ef08795)\" fill=\"#6929c4\" stroke=\"#6929c4\" stroke-width=\"1.5\"/><path d=\"m1050.6 58.332h29.543v-29.543h-29.543z\" clip-path=\"url(#pbe8ef08795)\" fill=\"#6929c4\" stroke=\"#6929c4\" stroke-width=\"1.5\"/><path d=\"m1050.6 103.78h29.543v-29.543h-29.543z\" clip-path=\"url(#pbe8ef08795)\" fill=\"#6929c4\" stroke=\"#6929c4\" stroke-width=\"1.5\"/><path d=\"m1141.5 58.332h29.543v-29.543h-29.543z\" clip-path=\"url(#pbe8ef08795)\" fill=\"#121619\" stroke=\"#121619\" stroke-width=\"1.5\"/><path d=\"m1166.6 47.992c0-2.7413-1.0901-5.3732-3.0285-7.3116-1.9384-1.9384-4.5702-3.0285-7.3116-3.0285-2.7413 0-5.3732 1.0901-7.3116 3.0285-1.9384 1.9384-3.0285 4.5702-3.0285 7.3116\" clip-path=\"url(#pbe8ef08795)\" fill=\"none\" stroke=\"#ffffff\" stroke-width=\"2\"/><path d=\"m1156.3 47.992 10.34-10.34\" clip-path=\"url(#pbe8ef08795)\" fill=\"none\" stroke=\"#ffffff\" stroke-linecap=\"square\" stroke-width=\"2\"/><path d=\"m1186.9 103.78h29.543v-29.543h-29.543z\" clip-path=\"url(#pbe8ef08795)\" fill=\"#121619\" stroke=\"#121619\" stroke-width=\"1.5\"/><path d=\"m1212.1 93.443c0-2.7413-1.0901-5.3732-3.0285-7.3116-1.9384-1.9384-4.5702-3.0285-7.3116-3.0285s-5.3732 1.0901-7.3116 3.0285c-1.9384 1.9384-3.0285 4.5702-3.0285 7.3116\" clip-path=\"url(#pbe8ef08795)\" fill=\"none\" stroke=\"#ffffff\" stroke-width=\"2\"/><path d=\"m1201.7 93.443 10.34-10.34\" clip-path=\"url(#pbe8ef08795)\" fill=\"none\" stroke=\"#ffffff\" stroke-linecap=\"square\" stroke-width=\"2\"/><g clip-path=\"url(#pbe8ef08795)\"><g transform=\"translate(59.225 48.012) scale(.1625 -.1625)\"><defs><path id=\"DejaVuSans-Oblique-71\" transform=\"scale(.015625)\" d=\"m2669 525q-231-303-546-460-314-156-695-156-531 0-833 358-301 358-301 986 0 506 186 978t533 847q225 244 517 375t614 131q387 0 637-153t363-462l100 525h578l-934-4813h-579l360 1844zm-1778 813q0-463 193-705 194-242 560-242 544 0 928 520t384 1264q0 450-199 689-198 239-569 239-272 0-504-127-231-126-403-370-181-256-286-600-104-343-104-668z\"/><path id=\"DejaVuSans-30\" transform=\"scale(.015625)\" d=\"m2034 4250q-487 0-733-480-245-479-245-1442 0-959 245-1439 246-480 733-480 491 0 736 480 246 480 246 1439 0 963-246 1442-245 480-736 480zm0 500q785 0 1199-621 414-620 414-1801 0-1178-414-1799-414-620-1199-620-784 0-1198 620-414 621-414 1799 0 1181 414 1801 414 621 1198 621z\"/></defs><use xlink:href=\"#DejaVuSans-Oblique-71\"/><use transform=\"translate(63.477 -16.406) scale(.7)\" xlink:href=\"#DejaVuSans-30\"/></g></g><g clip-path=\"url(#pbe8ef08795)\"><g transform=\"translate(59.225 93.463) scale(.1625 -.1625)\"><defs><path id=\"DejaVuSans-31\" transform=\"scale(.015625)\" d=\"m794 531h1031v3560l-1122-225v575l1116 225h631v-4135h1031v-531h-2687v531z\"/></defs><use xlink:href=\"#DejaVuSans-Oblique-71\"/><use transform=\"translate(63.477 -16.406) scale(.7)\" xlink:href=\"#DejaVuSans-31\"/></g></g><g clip-path=\"url(#pbe8ef08795)\"><g transform=\"translate(90.898 127.75) scale(.104 -.104)\"><defs><path id=\"DejaVuSans-32\" transform=\"scale(.015625)\" d=\"m1228 531h2203v-531h-2962v531q359 372 979 998 621 627 780 809 303 340 423 576 121 236 121 464 0 372-261 606-261 235-680 235-297 0-627-103-329-103-704-313v638q381 153 712 231 332 78 607 78 725 0 1156-363 431-362 431-968 0-288-108-546-107-257-392-607-78-91-497-524-418-433-1181-1211z\"/></defs><use xlink:href=\"#DejaVuSans-32\"/></g></g><g clip-path=\"url(#pbe8ef08795)\"><g transform=\"translate(33.012 138.95) scale(.1625 -.1625)\"><defs><path id=\"DejaVuSans-6d\" transform=\"scale(.015625)\" d=\"m3328 2828q216 388 516 572t706 184q547 0 844-383 297-382 297-1088v-2113h-578v2094q0 503-179 746-178 244-543 244-447 0-707-297-259-296-259-809v-1978h-578v2094q0 506-178 748t-550 242q-441 0-701-298-259-298-259-808v-1978h-578v3500h578v-544q197 322 472 475t653 153q382 0 649-194 267-193 395-562z\"/><path id=\"DejaVuSans-65\" transform=\"scale(.015625)\" d=\"m3597 1894v-281h-2644q38-594 358-905t892-311q331 0 642 81t618 244v-544q-310-131-635-200t-659-69q-838 0-1327 487-489 488-489 1320 0 859 464 1363 464 505 1252 505 706 0 1117-455 411-454 411-1235zm-575 169q-6 471-264 752-258 282-683 282-481 0-770-272t-333-766l2050 4z\"/><path id=\"DejaVuSans-61\" transform=\"scale(.015625)\" d=\"m2194 1759q-697 0-966-159t-269-544q0-306 202-486 202-179 548-179 479 0 768 339t289 901v128h-572zm1147 238v-1997h-575v531q-197-318-491-470t-719-152q-537 0-855 302-317 302-317 808 0 590 395 890 396 300 1180 300h807v57q0 397-261 614t-733 217q-300 0-585-72-284-72-546-216v532q315 122 612 182 297 61 578 61 760 0 1135-394 375-393 375-1193z\"/><path id=\"DejaVuSans-73\" transform=\"scale(.015625)\" d=\"m2834 3397v-544q-243 125-506 187-262 63-544 63-428 0-642-131t-214-394q0-200 153-314t616-217l197-44q612-131 870-370t258-667q0-488-386-773-386-284-1061-284-281 0-586 55t-642 164v594q319-166 628-249 309-82 613-82 406 0 624 139 219 139 219 392 0 234-158 359-157 125-692 241l-200 47q-534 112-772 345-237 233-237 639 0 494 350 762 350 269 994 269 318 0 599-47 282-46 519-140z\"/></defs><use xlink:href=\"#DejaVuSans-6d\"/><use x=\"97.412109\" xlink:href=\"#DejaVuSans-65\"/><use x=\"158.935547\" xlink:href=\"#DejaVuSans-61\"/><use x=\"220.214844\" xlink:href=\"#DejaVuSans-73\"/></g></g><g clip-path=\"url(#pbe8ef08795)\"><g transform=\"translate(106.01 47.148) scale(.13 -.13)\" fill=\"#ffffff\"><defs><path id=\"DejaVuSans-48\" transform=\"scale(.015625)\" d=\"m628 4666h631v-1913h2294v1913h631v-4666h-631v2222h-2294v-2222h-631v4666z\"/></defs><use xlink:href=\"#DejaVuSans-48\"/></g></g><g clip-path=\"url(#pbe8ef08795)\"><g transform=\"translate(106.01 92.599) scale(.13 -.13)\" fill=\"#ffffff\"><use xlink:href=\"#DejaVuSans-48\"/></g></g><g clip-path=\"url(#pbe8ef08795)\"><g transform=\"translate(139.95 54.631) scale(.08 -.08)\" fill=\"#ffffff\"><defs><path id=\"DejaVuSans-2e\" transform=\"scale(.015625)\" d=\"m684 794h660v-794h-660v794z\"/><path id=\"DejaVuSans-2a\" transform=\"scale(.015625)\" d=\"m3009 3897-1121-606 1121-610-181-306-1050 634v-1178h-356v1178l-1050-634-181 306 1122 610-1122 606 181 309 1050-634v1178h356v-1178l1050 634 181-309z\"/><path id=\"DejaVuSans-78\" transform=\"scale(.015625)\" d=\"m3513 3500-1266-1703 1331-1797h-678l-1019 1375-1018-1375h-679l1360 1831-1244 1669h678l928-1247 928 1247h679z\"/><path id=\"DejaVuSans-5b\" transform=\"scale(.015625)\" d=\"m550 4863h1325v-447h-750v-4813h750v-447h-1325v5707z\"/><path id=\"DejaVuSans-5d\" transform=\"scale(.015625)\" d=\"m1947 4863v-5707h-1325v447h747v4813h-747v447h1325z\"/></defs><use xlink:href=\"#DejaVuSans-32\"/><use x=\"63.623047\" xlink:href=\"#DejaVuSans-2e\"/><use x=\"95.410156\" xlink:href=\"#DejaVuSans-30\"/><use x=\"159.033203\" xlink:href=\"#DejaVuSans-2a\"/><use x=\"209.033203\" xlink:href=\"#DejaVuSans-78\"/><use x=\"268.212891\" xlink:href=\"#DejaVuSans-5b\"/><use x=\"307.226562\" xlink:href=\"#DejaVuSans-30\"/><use x=\"370.849609\" xlink:href=\"#DejaVuSans-5d\"/></g></g><g clip-path=\"url(#pbe8ef08795)\"><g transform=\"translate(152.43 42.717) scale(.13 -.13)\" fill=\"#ffffff\"><defs><path id=\"DejaVuSans-50\" transform=\"scale(.015625)\" d=\"m1259 4147v-1753h794q441 0 681 228 241 228 241 650 0 419-241 647-240 228-681 228h-794zm-631 519h1425q785 0 1186-355 402-355 402-1039 0-691-402-1044-401-353-1186-353h-794v-1875h-631v4666z\"/></defs><use xlink:href=\"#DejaVuSans-50\"/></g></g><g clip-path=\"url(#pbe8ef08795)\"><g transform=\"translate(139.95 100.08) scale(.08 -.08)\" fill=\"#ffffff\"><use xlink:href=\"#DejaVuSans-32\"/><use x=\"63.623047\" xlink:href=\"#DejaVuSans-2e\"/><use x=\"95.410156\" xlink:href=\"#DejaVuSans-30\"/><use x=\"159.033203\" xlink:href=\"#DejaVuSans-2a\"/><use x=\"209.033203\" xlink:href=\"#DejaVuSans-78\"/><use x=\"268.212891\" xlink:href=\"#DejaVuSans-5b\"/><use x=\"307.226562\" xlink:href=\"#DejaVuSans-31\"/><use x=\"370.849609\" xlink:href=\"#DejaVuSans-5d\"/></g></g><g clip-path=\"url(#pbe8ef08795)\"><g transform=\"translate(152.43 88.168) scale(.13 -.13)\" fill=\"#ffffff\"><use xlink:href=\"#DejaVuSans-50\"/></g></g><path d=\"m201.8 94.92v-11.817\" clip-path=\"url(#pbe8ef08795)\" fill=\"none\" stroke=\"#ffffff\" stroke-linecap=\"square\" stroke-width=\"2\"/><path d=\"m195.89 89.012h11.817\" clip-path=\"url(#pbe8ef08795)\" fill=\"none\" stroke=\"#ffffff\" stroke-linecap=\"square\" stroke-width=\"2\"/><g clip-path=\"url(#pbe8ef08795)\"><g transform=\"translate(243.42 100.08) scale(.08 -.08)\" fill=\"#ffffff\"><defs><path id=\"DejaVuSans-28\" transform=\"scale(.015625)\" d=\"m1984 4856q-418-718-622-1422-203-703-203-1425 0-721 205-1429t620-1424h-500q-468 735-701 1444t-233 1409q0 697 231 1403 232 707 703 1444h500z\"/><path id=\"DejaVuSans-Oblique-3c0\" transform=\"scale(.015625)\" d=\"m584 3500h3354l-113-575h-441l-418-2150q-44-225 15-325 57-97 228-97 47 0 116 10 72 6 94 9l-81-416q-116-40-235-59-122-19-237-19-375 0-478 203-104 207 3 757l406 2087h-1291l-568-2925h-588l569 2925h-447l112 575z\"/><path id=\"DejaVuSans-2212\" transform=\"scale(.015625)\" d=\"m678 2272h4006v-531h-4006v531z\"/><path id=\"DejaVuSans-29\" transform=\"scale(.015625)\" d=\"m513 4856h500q468-737 701-1444 233-706 233-1403 0-700-233-1409t-701-1444h-500q415 716 620 1424t205 1429q0 722-205 1425-205 704-620 1422z\"/></defs><use transform=\"translate(0 .015625)\" xlink:href=\"#DejaVuSans-32\"/><use transform=\"translate(63.623 .015625)\" xlink:href=\"#DejaVuSans-2e\"/><use transform=\"translate(95.41 .015625)\" xlink:href=\"#DejaVuSans-30\"/><use transform=\"translate(159.03 .015625)\" xlink:href=\"#DejaVuSans-2a\"/><use transform=\"translate(209.03 .015625)\" xlink:href=\"#DejaVuSans-28\"/><use transform=\"translate(248.05 .015625)\" xlink:href=\"#DejaVuSans-Oblique-3c0\"/><use transform=\"translate(308.25 .015625)\" xlink:href=\"#DejaVuSans-20\"/><use transform=\"translate(340.04 .015625)\" xlink:href=\"#DejaVuSans-2212\"/><use transform=\"translate(423.83 .015625)\" xlink:href=\"#DejaVuSans-20\"/><use transform=\"translate(455.62 .015625)\" xlink:href=\"#DejaVuSans-78\"/><use transform=\"translate(514.79 .015625)\" xlink:href=\"#DejaVuSans-5b\"/><use transform=\"translate(553.81 .015625)\" xlink:href=\"#DejaVuSans-30\"/><use transform=\"translate(617.43 .015625)\" xlink:href=\"#DejaVuSans-5d\"/><use transform=\"translate(656.45 .015625)\" xlink:href=\"#DejaVuSans-29\"/><use transform=\"translate(695.46 .015625)\" xlink:href=\"#DejaVuSans-2a\"/><use transform=\"translate(745.46 .015625)\" xlink:href=\"#DejaVuSans-28\"/><use transform=\"translate(784.47 .015625)\" xlink:href=\"#DejaVuSans-Oblique-3c0\"/><use transform=\"translate(844.68 .015625)\" xlink:href=\"#DejaVuSans-20\"/><use transform=\"translate(876.46 .015625)\" xlink:href=\"#DejaVuSans-2212\"/><use transform=\"translate(960.25 .015625)\" xlink:href=\"#DejaVuSans-20\"/><use transform=\"translate(992.04 .015625)\" xlink:href=\"#DejaVuSans-78\"/><use transform=\"translate(1051.2 .015625)\" xlink:href=\"#DejaVuSans-5b\"/><use transform=\"translate(1090.2 .015625)\" xlink:href=\"#DejaVuSans-31\"/><use transform=\"translate(1153.9 .015625)\" xlink:href=\"#DejaVuSans-5d\"/><use transform=\"translate(1192.9 .015625)\" xlink:href=\"#DejaVuSans-29\"/></g></g><g clip-path=\"url(#pbe8ef08795)\"><g transform=\"translate(288.78 88.168) scale(.13 -.13)\" fill=\"#ffffff\"><use xlink:href=\"#DejaVuSans-50\"/></g></g><path d=\"m383.6 94.92v-11.817\" clip-path=\"url(#pbe8ef08795)\" fill=\"none\" stroke=\"#ffffff\" stroke-linecap=\"square\" stroke-width=\"2\"/><path d=\"m377.69 89.012h11.817\" clip-path=\"url(#pbe8ef08795)\" fill=\"none\" stroke=\"#ffffff\" stroke-linecap=\"square\" stroke-width=\"2\"/><g clip-path=\"url(#pbe8ef08795)\"><g transform=\"translate(424.17 47.148) scale(.13 -.13)\" fill=\"#ffffff\"><use xlink:href=\"#DejaVuSans-48\"/></g></g><g clip-path=\"url(#pbe8ef08795)\"><g transform=\"translate(424.17 92.599) scale(.13 -.13)\" fill=\"#ffffff\"><use xlink:href=\"#DejaVuSans-48\"/></g></g><g clip-path=\"url(#pbe8ef08795)\"><g transform=\"translate(458.11 54.631) scale(.08 -.08)\" fill=\"#ffffff\"><use xlink:href=\"#DejaVuSans-32\"/><use x=\"63.623047\" xlink:href=\"#DejaVuSans-2e\"/><use x=\"95.410156\" xlink:href=\"#DejaVuSans-30\"/><use x=\"159.033203\" xlink:href=\"#DejaVuSans-2a\"/><use x=\"209.033203\" xlink:href=\"#DejaVuSans-78\"/><use x=\"268.212891\" xlink:href=\"#DejaVuSans-5b\"/><use x=\"307.226562\" xlink:href=\"#DejaVuSans-30\"/><use x=\"370.849609\" xlink:href=\"#DejaVuSans-5d\"/></g></g><g clip-path=\"url(#pbe8ef08795)\"><g transform=\"translate(470.59 42.717) scale(.13 -.13)\" fill=\"#ffffff\"><use xlink:href=\"#DejaVuSans-50\"/></g></g><g clip-path=\"url(#pbe8ef08795)\"><g transform=\"translate(458.11 100.08) scale(.08 -.08)\" fill=\"#ffffff\"><use xlink:href=\"#DejaVuSans-32\"/><use x=\"63.623047\" xlink:href=\"#DejaVuSans-2e\"/><use x=\"95.410156\" xlink:href=\"#DejaVuSans-30\"/><use x=\"159.033203\" xlink:href=\"#DejaVuSans-2a\"/><use x=\"209.033203\" xlink:href=\"#DejaVuSans-78\"/><use x=\"268.212891\" xlink:href=\"#DejaVuSans-5b\"/><use x=\"307.226562\" xlink:href=\"#DejaVuSans-31\"/><use x=\"370.849609\" xlink:href=\"#DejaVuSans-5d\"/></g></g><g clip-path=\"url(#pbe8ef08795)\"><g transform=\"translate(470.59 88.168) scale(.13 -.13)\" fill=\"#ffffff\"><use xlink:href=\"#DejaVuSans-50\"/></g></g><path d=\"m519.96 94.92v-11.817\" clip-path=\"url(#pbe8ef08795)\" fill=\"none\" stroke=\"#ffffff\" stroke-linecap=\"square\" stroke-width=\"2\"/><path d=\"m514.05 89.012h11.817\" clip-path=\"url(#pbe8ef08795)\" fill=\"none\" stroke=\"#ffffff\" stroke-linecap=\"square\" stroke-width=\"2\"/><g clip-path=\"url(#pbe8ef08795)\"><g transform=\"translate(561.58 100.08) scale(.08 -.08)\" fill=\"#ffffff\"><use transform=\"translate(0 .015625)\" xlink:href=\"#DejaVuSans-32\"/><use transform=\"translate(63.623 .015625)\" xlink:href=\"#DejaVuSans-2e\"/><use transform=\"translate(95.41 .015625)\" xlink:href=\"#DejaVuSans-30\"/><use transform=\"translate(159.03 .015625)\" xlink:href=\"#DejaVuSans-2a\"/><use transform=\"translate(209.03 .015625)\" xlink:href=\"#DejaVuSans-28\"/><use transform=\"translate(248.05 .015625)\" xlink:href=\"#DejaVuSans-Oblique-3c0\"/><use transform=\"translate(308.25 .015625)\" xlink:href=\"#DejaVuSans-20\"/><use transform=\"translate(340.04 .015625)\" xlink:href=\"#DejaVuSans-2212\"/><use transform=\"translate(423.83 .015625)\" xlink:href=\"#DejaVuSans-20\"/><use transform=\"translate(455.62 .015625)\" xlink:href=\"#DejaVuSans-78\"/><use transform=\"translate(514.79 .015625)\" xlink:href=\"#DejaVuSans-5b\"/><use transform=\"translate(553.81 .015625)\" xlink:href=\"#DejaVuSans-30\"/><use transform=\"translate(617.43 .015625)\" xlink:href=\"#DejaVuSans-5d\"/><use transform=\"translate(656.45 .015625)\" xlink:href=\"#DejaVuSans-29\"/><use transform=\"translate(695.46 .015625)\" xlink:href=\"#DejaVuSans-2a\"/><use transform=\"translate(745.46 .015625)\" xlink:href=\"#DejaVuSans-28\"/><use transform=\"translate(784.47 .015625)\" xlink:href=\"#DejaVuSans-Oblique-3c0\"/><use transform=\"translate(844.68 .015625)\" xlink:href=\"#DejaVuSans-20\"/><use transform=\"translate(876.46 .015625)\" xlink:href=\"#DejaVuSans-2212\"/><use transform=\"translate(960.25 .015625)\" xlink:href=\"#DejaVuSans-20\"/><use transform=\"translate(992.04 .015625)\" xlink:href=\"#DejaVuSans-78\"/><use transform=\"translate(1051.2 .015625)\" xlink:href=\"#DejaVuSans-5b\"/><use transform=\"translate(1090.2 .015625)\" xlink:href=\"#DejaVuSans-31\"/><use transform=\"translate(1153.9 .015625)\" xlink:href=\"#DejaVuSans-5d\"/><use transform=\"translate(1192.9 .015625)\" xlink:href=\"#DejaVuSans-29\"/></g></g><g clip-path=\"url(#pbe8ef08795)\"><g transform=\"translate(606.94 88.168) scale(.13 -.13)\" fill=\"#ffffff\"><use xlink:href=\"#DejaVuSans-50\"/></g></g><path d=\"m701.76 94.92v-11.817\" clip-path=\"url(#pbe8ef08795)\" fill=\"none\" stroke=\"#ffffff\" stroke-linecap=\"square\" stroke-width=\"2\"/><path d=\"m695.85 89.012h11.817\" clip-path=\"url(#pbe8ef08795)\" fill=\"none\" stroke=\"#ffffff\" stroke-linecap=\"square\" stroke-width=\"2\"/><g clip-path=\"url(#pbe8ef08795)\"><g transform=\"translate(739.1 54.631) scale(.08 -.08)\" fill=\"#ffffff\"><defs><path id=\"DejaVuSans-3b8\" transform=\"scale(.015625)\" d=\"m2953 2219h-1990q46-935 262-1331 269-488 734-488 469 0 729 491 228 431 265 1328zm-9 531q-88 888-256 1200-269 494-729 494-478 0-731-488-200-393-259-1206h1975zm-985 2163q750 0 1179-663 428-659 428-1828 0-1166-428-1828-429-666-1179-666-753 0-1178 666-428 662-428 1828 0 1169 428 1828 425 663 1178 663z\"/></defs><use xlink:href=\"#DejaVuSans-3b8\"/><use x=\"61.181641\" xlink:href=\"#DejaVuSans-5b\"/><use x=\"100.195312\" xlink:href=\"#DejaVuSans-30\"/><use x=\"163.818359\" xlink:href=\"#DejaVuSans-5d\"/></g></g><g clip-path=\"url(#pbe8ef08795)\"><g transform=\"translate(739.67 42.717) scale(.13 -.13)\" fill=\"#ffffff\"><defs><path id=\"DejaVuSans-52\" transform=\"scale(.015625)\" d=\"m2841 2188q203-69 395-294t386-619l641-1275h-679l-596 1197q-232 469-449 622t-592 153h-688v-1972h-631v4666h1425q800 0 1194-335 394-334 394-1009 0-441-205-732-205-290-595-402zm-1582 1959v-1656h794q456 0 689 211t233 620-233 617-689 208h-794z\"/><path id=\"DejaVuSans-59\" transform=\"scale(.015625)\" d=\"m-13 4666h679l1293-1919 1285 1919h678l-1650-2444v-2222h-634v2222l-1651 2444z\"/></defs><use transform=\"translate(0 .09375)\" xlink:href=\"#DejaVuSans-52\"/><use transform=\"translate(70.439 -16.312) scale(.7)\" xlink:href=\"#DejaVuSans-59\"/></g></g><g clip-path=\"url(#pbe8ef08795)\"><g transform=\"translate(739.1 100.08) scale(.08 -.08)\" fill=\"#ffffff\"><use xlink:href=\"#DejaVuSans-3b8\"/><use x=\"61.181641\" xlink:href=\"#DejaVuSans-5b\"/><use x=\"100.195312\" xlink:href=\"#DejaVuSans-31\"/><use x=\"163.818359\" xlink:href=\"#DejaVuSans-5d\"/></g></g><g clip-path=\"url(#pbe8ef08795)\"><g transform=\"translate(739.67 88.168) scale(.13 -.13)\" fill=\"#ffffff\"><use transform=\"translate(0 .09375)\" xlink:href=\"#DejaVuSans-52\"/><use transform=\"translate(70.439 -16.312) scale(.7)\" xlink:href=\"#DejaVuSans-59\"/></g></g><g clip-path=\"url(#pbe8ef08795)\"><g transform=\"translate(784.55 54.631) scale(.08 -.08)\" fill=\"#ffffff\"><use xlink:href=\"#DejaVuSans-3b8\"/><use x=\"61.181641\" xlink:href=\"#DejaVuSans-5b\"/><use x=\"100.195312\" xlink:href=\"#DejaVuSans-32\"/><use x=\"163.818359\" xlink:href=\"#DejaVuSans-5d\"/></g></g><g clip-path=\"url(#pbe8ef08795)\"><g transform=\"translate(784.73 42.717) scale(.13 -.13)\" fill=\"#ffffff\"><defs><path id=\"DejaVuSans-5a\" transform=\"scale(.015625)\" d=\"m359 4666h3666v-482l-2950-3653h3022v-531h-3809v481l2950 3653h-2879v532z\"/></defs><use transform=\"translate(0 .09375)\" xlink:href=\"#DejaVuSans-52\"/><use transform=\"translate(70.439 -16.312) scale(.7)\" xlink:href=\"#DejaVuSans-5a\"/></g></g><g clip-path=\"url(#pbe8ef08795)\"><g transform=\"translate(784.55 100.08) scale(.08 -.08)\" fill=\"#ffffff\"><defs><path id=\"DejaVuSans-33\" transform=\"scale(.015625)\" d=\"m2597 2516q453-97 707-404 255-306 255-756 0-690-475-1069-475-378-1350-378-293 0-604 58t-642 174v609q262-153 574-231 313-78 654-78 593 0 904 234t311 681q0 413-289 645-289 233-804 233h-544v519h569q465 0 712 186t247 536q0 359-255 551-254 193-729 193-260 0-557-57-297-56-653-174v562q360 100 674 150t592 50q719 0 1137-327 419-326 419-882 0-388-222-655t-631-370z\"/></defs><use xlink:href=\"#DejaVuSans-3b8\"/><use x=\"61.181641\" xlink:href=\"#DejaVuSans-5b\"/><use x=\"100.195312\" xlink:href=\"#DejaVuSans-33\"/><use x=\"163.818359\" xlink:href=\"#DejaVuSans-5d\"/></g></g><g clip-path=\"url(#pbe8ef08795)\"><g transform=\"translate(784.73 88.168) scale(.13 -.13)\" fill=\"#ffffff\"><use transform=\"translate(0 .09375)\" xlink:href=\"#DejaVuSans-52\"/><use transform=\"translate(70.439 -16.312) scale(.7)\" xlink:href=\"#DejaVuSans-5a\"/></g></g><g clip-path=\"url(#pbe8ef08795)\"><g transform=\"translate(875.45 54.631) scale(.08 -.08)\" fill=\"#ffffff\"><defs><path id=\"DejaVuSans-34\" transform=\"scale(.015625)\" d=\"m2419 4116-1594-2491h1594v2491zm-166 550h794v-3041h666v-525h-666v-1100h-628v1100h-2106v609l1940 2957z\"/></defs><use xlink:href=\"#DejaVuSans-3b8\"/><use x=\"61.181641\" xlink:href=\"#DejaVuSans-5b\"/><use x=\"100.195312\" xlink:href=\"#DejaVuSans-34\"/><use x=\"163.818359\" xlink:href=\"#DejaVuSans-5d\"/></g></g><g clip-path=\"url(#pbe8ef08795)\"><g transform=\"translate(876.02 42.717) scale(.13 -.13)\" fill=\"#ffffff\"><use transform=\"translate(0 .09375)\" xlink:href=\"#DejaVuSans-52\"/><use transform=\"translate(70.439 -16.312) scale(.7)\" xlink:href=\"#DejaVuSans-59\"/></g></g><g clip-path=\"url(#pbe8ef08795)\"><g transform=\"translate(875.45 100.08) scale(.08 -.08)\" fill=\"#ffffff\"><defs><path id=\"DejaVuSans-35\" transform=\"scale(.015625)\" d=\"m691 4666h2478v-532h-1900v-1143q137 47 274 70 138 23 276 23 781 0 1237-428 457-428 457-1159 0-753-469-1171-469-417-1322-417-294 0-599 50-304 50-629 150v635q281-153 581-228t634-75q541 0 856 284 316 284 316 772 0 487-316 771-315 285-856 285-253 0-505-56-251-56-513-175v2344z\"/></defs><use xlink:href=\"#DejaVuSans-3b8\"/><use x=\"61.181641\" xlink:href=\"#DejaVuSans-5b\"/><use x=\"100.195312\" xlink:href=\"#DejaVuSans-35\"/><use x=\"163.818359\" xlink:href=\"#DejaVuSans-5d\"/></g></g><g clip-path=\"url(#pbe8ef08795)\"><g transform=\"translate(876.02 88.168) scale(.13 -.13)\" fill=\"#ffffff\"><use transform=\"translate(0 .09375)\" xlink:href=\"#DejaVuSans-52\"/><use transform=\"translate(70.439 -16.312) scale(.7)\" xlink:href=\"#DejaVuSans-59\"/></g></g><g clip-path=\"url(#pbe8ef08795)\"><g transform=\"translate(920.9 54.631) scale(.08 -.08)\" fill=\"#ffffff\"><defs><path id=\"DejaVuSans-36\" transform=\"scale(.015625)\" d=\"m2113 2584q-425 0-674-291-248-290-248-796 0-503 248-796 249-292 674-292t673 292q248 293 248 796 0 506-248 796-248 291-673 291zm1253 1979v-575q-238 112-480 171-242 60-480 60-625 0-955-422-329-422-376-1275 184 272 462 417 279 145 613 145 703 0 1111-427 408-426 408-1160 0-719-425-1154-425-434-1131-434-810 0-1238 620-428 621-428 1799 0 1106 525 1764t1409 658q238 0 480-47t505-140z\"/></defs><use xlink:href=\"#DejaVuSans-3b8\"/><use x=\"61.181641\" xlink:href=\"#DejaVuSans-5b\"/><use x=\"100.195312\" xlink:href=\"#DejaVuSans-36\"/><use x=\"163.818359\" xlink:href=\"#DejaVuSans-5d\"/></g></g><g clip-path=\"url(#pbe8ef08795)\"><g transform=\"translate(921.08 42.717) scale(.13 -.13)\" fill=\"#ffffff\"><use transform=\"translate(0 .09375)\" xlink:href=\"#DejaVuSans-52\"/><use transform=\"translate(70.439 -16.312) scale(.7)\" xlink:href=\"#DejaVuSans-5a\"/></g></g><g clip-path=\"url(#pbe8ef08795)\"><g transform=\"translate(920.9 100.08) scale(.08 -.08)\" fill=\"#ffffff\"><defs><path id=\"DejaVuSans-37\" transform=\"scale(.015625)\" d=\"m525 4666h3e3v-269l-1694-4397h-659l1594 4134h-2241v532z\"/></defs><use xlink:href=\"#DejaVuSans-3b8\"/><use x=\"61.181641\" xlink:href=\"#DejaVuSans-5b\"/><use x=\"100.195312\" xlink:href=\"#DejaVuSans-37\"/><use x=\"163.818359\" xlink:href=\"#DejaVuSans-5d\"/></g></g><g clip-path=\"url(#pbe8ef08795)\"><g transform=\"translate(921.08 88.168) scale(.13 -.13)\" fill=\"#ffffff\"><use transform=\"translate(0 .09375)\" xlink:href=\"#DejaVuSans-52\"/><use transform=\"translate(70.439 -16.312) scale(.7)\" xlink:href=\"#DejaVuSans-5a\"/></g></g><g clip-path=\"url(#pbe8ef08795)\"><g transform=\"translate(1011.8 54.631) scale(.08 -.08)\" fill=\"#ffffff\"><defs><path id=\"DejaVuSans-38\" transform=\"scale(.015625)\" d=\"m2034 2216q-450 0-708-241-257-241-257-662 0-422 257-663 258-241 708-241t709 242q260 243 260 662 0 421-258 662-257 241-711 241zm-631 268q-406 100-633 378-226 279-226 679 0 559 398 884 399 325 1092 325 697 0 1094-325t397-884q0-400-227-679-226-278-629-378 456-106 710-416 255-309 255-755 0-679-414-1042-414-362-1186-362-771 0-1186 362-414 363-414 1042 0 446 256 755 257 310 713 416zm-231 997q0-362 226-565 227-203 636-203 407 0 636 203 230 203 230 565 0 363-230 566-229 203-636 203-409 0-636-203-226-203-226-566z\"/></defs><use xlink:href=\"#DejaVuSans-3b8\"/><use x=\"61.181641\" xlink:href=\"#DejaVuSans-5b\"/><use x=\"100.195312\" xlink:href=\"#DejaVuSans-38\"/><use x=\"163.818359\" xlink:href=\"#DejaVuSans-5d\"/></g></g><g clip-path=\"url(#pbe8ef08795)\"><g transform=\"translate(1012.4 42.717) scale(.13 -.13)\" fill=\"#ffffff\"><use transform=\"translate(0 .09375)\" xlink:href=\"#DejaVuSans-52\"/><use transform=\"translate(70.439 -16.312) scale(.7)\" xlink:href=\"#DejaVuSans-59\"/></g></g><g clip-path=\"url(#pbe8ef08795)\"><g transform=\"translate(1011.8 100.08) scale(.08 -.08)\" fill=\"#ffffff\"><defs><path id=\"DejaVuSans-39\" transform=\"scale(.015625)\" d=\"m703 97v575q238-113 481-172 244-59 479-59 625 0 954 420 330 420 377 1277-181-269-460-413-278-144-615-144-700 0-1108 423-408 424-408 1159 0 718 425 1152 425 435 1131 435 810 0 1236-621 427-620 427-1801 0-1103-524-1761-523-658-1407-658-238 0-482 47-243 47-506 141zm1256 1978q425 0 673 290 249 291 249 798 0 503-249 795-248 292-673 292t-673-292-248-795q0-507 248-798 248-290 673-290z\"/></defs><use xlink:href=\"#DejaVuSans-3b8\"/><use x=\"61.181641\" xlink:href=\"#DejaVuSans-5b\"/><use x=\"100.195312\" xlink:href=\"#DejaVuSans-39\"/><use x=\"163.818359\" xlink:href=\"#DejaVuSans-5d\"/></g></g><g clip-path=\"url(#pbe8ef08795)\"><g transform=\"translate(1012.4 88.168) scale(.13 -.13)\" fill=\"#ffffff\"><use transform=\"translate(0 .09375)\" xlink:href=\"#DejaVuSans-52\"/><use transform=\"translate(70.439 -16.312) scale(.7)\" xlink:href=\"#DejaVuSans-59\"/></g></g><g clip-path=\"url(#pbe8ef08795)\"><g transform=\"translate(1054.7 54.631) scale(.08 -.08)\" fill=\"#ffffff\"><use xlink:href=\"#DejaVuSans-3b8\"/><use x=\"61.181641\" xlink:href=\"#DejaVuSans-5b\"/><use x=\"100.195312\" xlink:href=\"#DejaVuSans-31\"/><use x=\"163.818359\" xlink:href=\"#DejaVuSans-30\"/><use x=\"227.441406\" xlink:href=\"#DejaVuSans-5d\"/></g></g><g clip-path=\"url(#pbe8ef08795)\"><g transform=\"translate(1057.4 42.717) scale(.13 -.13)\" fill=\"#ffffff\"><use transform=\"translate(0 .09375)\" xlink:href=\"#DejaVuSans-52\"/><use transform=\"translate(70.439 -16.312) scale(.7)\" xlink:href=\"#DejaVuSans-5a\"/></g></g><g clip-path=\"url(#pbe8ef08795)\"><g transform=\"translate(1054.7 100.08) scale(.08 -.08)\" fill=\"#ffffff\"><use xlink:href=\"#DejaVuSans-3b8\"/><use x=\"61.181641\" xlink:href=\"#DejaVuSans-5b\"/><use x=\"100.195312\" xlink:href=\"#DejaVuSans-31\"/><use x=\"163.818359\" xlink:href=\"#DejaVuSans-31\"/><use x=\"227.441406\" xlink:href=\"#DejaVuSans-5d\"/></g></g><g clip-path=\"url(#pbe8ef08795)\"><g transform=\"translate(1057.4 88.168) scale(.13 -.13)\" fill=\"#ffffff\"><use transform=\"translate(0 .09375)\" xlink:href=\"#DejaVuSans-52\"/><use transform=\"translate(70.439 -16.312) scale(.7)\" xlink:href=\"#DejaVuSans-5a\"/></g></g><path d=\"m1110.8 20.835v45.451\" clip-path=\"url(#pbe8ef08795)\" fill=\"none\" stroke=\"#000000\" stroke-dasharray=\"3.7,1.6\"/><path d=\"m1110.8 66.286v45.451\" clip-path=\"url(#pbe8ef08795)\" fill=\"none\" stroke=\"#000000\" stroke-dasharray=\"3.7,1.6\"/><g clip-path=\"url(#pbe8ef08795)\"><g transform=\"translate(1167.6 127.75) scale(.104 -.104)\"><use xlink:href=\"#DejaVuSans-30\"/></g></g><g clip-path=\"url(#pbe8ef08795)\"><g transform=\"translate(1213.1 127.75) scale(.104 -.104)\"><use xlink:href=\"#DejaVuSans-31\"/></g></g><defs><clipPath id=\"pbe8ef08795\"><rect x=\"7.2\" y=\"7.2\" width=\"1224.5\" height=\"154.53\"/></clipPath></defs></svg>"
      ],
      "text/plain": [
       "<Figure size 1621.88x204.68 with 1 Axes>"
      ]
     },
     "execution_count": 2,
     "metadata": {},
     "output_type": "execute_result"
    }
   ],
   "source": [
    "from qiskit.circuit.library import ZZFeatureMap, TwoLocal\n",
    "FEATURE_MAP = ZZFeatureMap(feature_dimension=2, reps=2)\n",
    "VAR_FORM = TwoLocal(2, ['ry', 'rz'], 'cz', reps=2)\n",
    "\n",
    "AD_HOC_CIRCUIT = FEATURE_MAP.compose(VAR_FORM)\n",
    "AD_HOC_CIRCUIT.measure_all()\n",
    "AD_HOC_CIRCUIT.decompose().draw()"
   ]
  },
  {
   "cell_type": "markdown",
   "metadata": {},
   "source": [
    "3. データを特徴マップに関連付け、変分パラメータを変分回路に関連付ける関数を作成します。これは、回路内の適切なパラメータが適切な量に関連付けられていることを確認するためです。"
   ]
  },
  {
   "cell_type": "code",
   "execution_count": 3,
   "metadata": {},
   "outputs": [],
   "source": [
    "def circuit_instance(data, variational):\n",
    "    \"\"\"Assigns parameter values to `AD_HOC_CIRCUIT`.\n",
    "    Args:\n",
    "        data (list): Data values for the feature map\n",
    "        variational (list): Parameter values for `VAR_FORM`\n",
    "    Returns:\n",
    "        QuantumCircuit: `AD_HOC_CIRCUIT` with parameters assigned\n",
    "    \"\"\"\n",
    "    # pylint: disable=invalid-name\n",
    "    parameters = {}\n",
    "    for i, p in enumerate(FEATURE_MAP.ordered_parameters):\n",
    "        parameters[p] = data[i]\n",
    "    for i, p in enumerate(VAR_FORM.ordered_parameters):\n",
    "        parameters[p] = variational[i]\n",
    "    return AD_HOC_CIRCUIT.assign_parameters(parameters)"
   ]
  },
  {
   "cell_type": "markdown",
   "metadata": {},
   "source": [
    "4. 与えられたビット列のパリティを計算するためのクラス割り当て関数を作成します。参考文献3のように、パリティが偶数の場合は$1$ラベルを返し、パリティが奇数の場合は$0$ラベルを返します。"
   ]
  },
  {
   "cell_type": "code",
   "execution_count": 4,
   "metadata": {},
   "outputs": [],
   "source": [
    "def parity(bitstring):\n",
    "    \"\"\"Returns 1 if parity of `bitstring` is even, otherwise 0.\"\"\"\n",
    "    hamming_weight = sum(int(k) for k in list(bitstring))\n",
    "    return (hamming_weight+1) % 2"
   ]
  },
  {
   "cell_type": "markdown",
   "metadata": {},
   "source": [
    "5. 量子回路を複数回実行することによる実験的なカウントからラベルクラス全体の確率分布を返す関数を作成します。"
   ]
  },
  {
   "cell_type": "code",
   "execution_count": 5,
   "metadata": {},
   "outputs": [],
   "source": [
    "def label_probability(results):\n",
    "    \"\"\"Converts a dict of bitstrings and their counts,\n",
    "    to parities and their counts\"\"\"\n",
    "    shots = sum(results.values())\n",
    "    probabilities = {0: 0, 1: 0}\n",
    "    for bitstring, counts in results.items():\n",
    "        label = parity(bitstring)\n",
    "        probabilities[label] += counts / shots\n",
    "    return probabilities"
   ]
  },
  {
   "cell_type": "markdown",
   "metadata": {},
   "source": [
    "6. データを分類する関数を作成します。データとパラメーターを取り込みます。データセット内のすべてのデータ点について、パラメーターを特徴マップに割り当て、パラメーターを変分回路に割り当てます。次に、系を展開して量子回路を保存し、最後に回路を一度に実行できるようにします。各回路を測定し、ビット列とクラスラベルに基づいて確率を返します。"
   ]
  },
  {
   "cell_type": "code",
   "execution_count": 6,
   "metadata": {},
   "outputs": [],
   "source": [
    "from qiskit import BasicAer, execute\n",
    "\n",
    "def classification_probability(data, variational):\n",
    "    \"\"\"Classify data points using given parameters.\n",
    "    Args:\n",
    "        data (list): Set of data points to classify\n",
    "        variational (list): Parameters for `VAR_FORM`\n",
    "    Returns:\n",
    "        list[dict]: Probability of circuit classifying\n",
    "                    each data point as 0 or 1.\n",
    "    \"\"\"\n",
    "    circuits = [circuit_instance(d, variational) for d in data]\n",
    "    backend = BasicAer.get_backend('qasm_simulator')\n",
    "    results = execute(circuits, backend).result()\n",
    "    classification = [\n",
    "        label_probability(results.get_counts(c)) for c in circuits]\n",
    "    return classification"
   ]
  },
  {
   "cell_type": "markdown",
   "metadata": {},
   "source": [
    "7. 訓練では、損失関数とコスト関数を作成します。"
   ]
  },
  {
   "cell_type": "code",
   "execution_count": 7,
   "metadata": {},
   "outputs": [],
   "source": [
    "def cross_entropy_loss(classification, expected):\n",
    "    \"\"\"Calculate accuracy of predictions using cross entropy loss.\n",
    "    Args:\n",
    "        classification (dict): Dict where keys are possible classes,\n",
    "                               and values are the probability our\n",
    "                               circuit chooses that class.\n",
    "        expected (int): Correct classification of the data point.\n",
    "\n",
    "    Returns:\n",
    "        float: Cross entropy loss\n",
    "    \"\"\"\n",
    "    # pylint: disable=invalid-name\n",
    "    p = classification.get(expected)  # Prob. of correct classification\n",
    "    return -np.log(p + 1e-10)\n",
    "\n",
    "def cost_function(data, labels, variational):\n",
    "    \"\"\"Evaluates performance of our circuit with `variational`\n",
    "    parameters on `data`.\n",
    "\n",
    "    Args:\n",
    "        data (list): List of data points to classify\n",
    "        labels (list): List of correct labels for each data point\n",
    "        variational (list): Parameters to use in circuit\n",
    "\n",
    "    Returns:\n",
    "        float: Cost (metric of performance)\n",
    "    \"\"\"\n",
    "    # pylint: disable=invalid-name\n",
    "    classifications = classification_probability(data, variational)\n",
    "    cost = 0\n",
    "    for i, classification in enumerate(classifications):\n",
    "        cost += cross_entropy_loss(classification, labels[i])\n",
    "    cost /= len(data)\n",
    "    return cost"
   ]
  },
  {
   "cell_type": "markdown",
   "metadata": {},
   "source": [
    "8. [`SPSA`](https://qiskit.org/documentation/stubs/qiskit.algorithms.optimizers.SPSA.html)を使用して（参考文献3のように）従来のオプティマイザーをセットアップし、再現性のために変分回路パラメーターを初期化し、40のトレーニングデータポイントを使用して変分回路パラメーターを変更するコスト関数を最適化します。最適化の実行には時間がかかることに注意してください。 "
   ]
  },
  {
   "cell_type": "code",
   "execution_count": 8,
   "metadata": {},
   "outputs": [
    {
     "data": {
      "image/svg+xml": [
       "<?xml version=\"1.0\" encoding=\"UTF-8\"?><!DOCTYPE svg  PUBLIC '-//W3C//DTD SVG 1.1//EN'  'http://www.w3.org/Graphics/SVG/1.1/DTD/svg11.dtd'><svg width=\"385.78pt\" height=\"262.2pt\" version=\"1.1\" viewBox=\"0 0 385.78 262.2\" xmlns=\"http://www.w3.org/2000/svg\" xmlns:xlink=\"http://www.w3.org/1999/xlink\"><defs><style type=\"text/css\">*{stroke-linejoin: round; stroke-linecap: butt}</style></defs><path d=\"m0 262.2h385.78v-262.2h-385.78v262.2z\" fill=\"none\"/><path d=\"m43.781 224.64h334.8v-217.44h-334.8z\" fill=\"#ffffff\"/><defs><path id=\"mee4e326487\" d=\"m0 0v3.5\" stroke=\"#343a3f\" stroke-width=\".8\"/></defs><use x=\"55.925052\" y=\"224.64\" fill=\"#343a3f\" stroke=\"#343a3f\" stroke-width=\".8\" xlink:href=\"#mee4e326487\"/><g transform=\"translate(52.744 239.24) scale(.1 -.1)\" fill=\"#343a3f\"><defs><path id=\"DejaVuSans-30\" transform=\"scale(.015625)\" d=\"m2034 4250q-487 0-733-480-245-479-245-1442 0-959 245-1439 246-480 733-480 491 0 736 480 246 480 246 1439 0 963-246 1442-245 480-736 480zm0 500q785 0 1199-621 414-620 414-1801 0-1178-414-1799-414-620-1199-620-784 0-1198 620-414 621-414 1799 0 1181 414 1801 414 621 1198 621z\"/></defs><use xlink:href=\"#DejaVuSans-30\"/></g><use x=\"107.164721\" y=\"224.64\" fill=\"#343a3f\" stroke=\"#343a3f\" stroke-width=\".8\" xlink:href=\"#mee4e326487\"/><g transform=\"translate(100.8 239.24) scale(.1 -.1)\" fill=\"#343a3f\"><defs><path id=\"DejaVuSans-35\" transform=\"scale(.015625)\" d=\"m691 4666h2478v-532h-1900v-1143q137 47 274 70 138 23 276 23 781 0 1237-428 457-428 457-1159 0-753-469-1171-469-417-1322-417-294 0-599 50-304 50-629 150v635q281-153 581-228t634-75q541 0 856 284 316 284 316 772 0 487-316 771-315 285-856 285-253 0-505-56-251-56-513-175v2344z\"/></defs><use xlink:href=\"#DejaVuSans-35\"/><use x=\"63.623047\" xlink:href=\"#DejaVuSans-30\"/></g><use x=\"158.40439\" y=\"224.64\" fill=\"#343a3f\" stroke=\"#343a3f\" stroke-width=\".8\" xlink:href=\"#mee4e326487\"/><g transform=\"translate(148.86 239.24) scale(.1 -.1)\" fill=\"#343a3f\"><defs><path id=\"DejaVuSans-31\" transform=\"scale(.015625)\" d=\"m794 531h1031v3560l-1122-225v575l1116 225h631v-4135h1031v-531h-2687v531z\"/></defs><use xlink:href=\"#DejaVuSans-31\"/><use x=\"63.623047\" xlink:href=\"#DejaVuSans-30\"/><use x=\"127.246094\" xlink:href=\"#DejaVuSans-30\"/></g><use x=\"209.64406\" y=\"224.64\" fill=\"#343a3f\" stroke=\"#343a3f\" stroke-width=\".8\" xlink:href=\"#mee4e326487\"/><g transform=\"translate(200.1 239.24) scale(.1 -.1)\" fill=\"#343a3f\"><use xlink:href=\"#DejaVuSans-31\"/><use x=\"63.623047\" xlink:href=\"#DejaVuSans-35\"/><use x=\"127.246094\" xlink:href=\"#DejaVuSans-30\"/></g><use x=\"260.883729\" y=\"224.64\" fill=\"#343a3f\" stroke=\"#343a3f\" stroke-width=\".8\" xlink:href=\"#mee4e326487\"/><g transform=\"translate(251.34 239.24) scale(.1 -.1)\" fill=\"#343a3f\"><defs><path id=\"DejaVuSans-32\" transform=\"scale(.015625)\" d=\"m1228 531h2203v-531h-2962v531q359 372 979 998 621 627 780 809 303 340 423 576 121 236 121 464 0 372-261 606-261 235-680 235-297 0-627-103-329-103-704-313v638q381 153 712 231 332 78 607 78 725 0 1156-363 431-362 431-968 0-288-108-546-107-257-392-607-78-91-497-524-418-433-1181-1211z\"/></defs><use xlink:href=\"#DejaVuSans-32\"/><use x=\"63.623047\" xlink:href=\"#DejaVuSans-30\"/><use x=\"127.246094\" xlink:href=\"#DejaVuSans-30\"/></g><use x=\"312.123399\" y=\"224.64\" fill=\"#343a3f\" stroke=\"#343a3f\" stroke-width=\".8\" xlink:href=\"#mee4e326487\"/><g transform=\"translate(302.58 239.24) scale(.1 -.1)\" fill=\"#343a3f\"><use xlink:href=\"#DejaVuSans-32\"/><use x=\"63.623047\" xlink:href=\"#DejaVuSans-35\"/><use x=\"127.246094\" xlink:href=\"#DejaVuSans-30\"/></g><use x=\"363.363068\" y=\"224.64\" fill=\"#343a3f\" stroke=\"#343a3f\" stroke-width=\".8\" xlink:href=\"#mee4e326487\"/><g transform=\"translate(353.82 239.24) scale(.1 -.1)\" fill=\"#343a3f\"><defs><path id=\"DejaVuSans-33\" transform=\"scale(.015625)\" d=\"m2597 2516q453-97 707-404 255-306 255-756 0-690-475-1069-475-378-1350-378-293 0-604 58t-642 174v609q262-153 574-231 313-78 654-78 593 0 904 234t311 681q0 413-289 645-289 233-804 233h-544v519h569q465 0 712 186t247 536q0 359-255 551-254 193-729 193-260 0-557-57-297-56-653-174v562q360 100 674 150t592 50q719 0 1137-327 419-326 419-882 0-388-222-655t-631-370z\"/></defs><use xlink:href=\"#DejaVuSans-33\"/><use x=\"63.623047\" xlink:href=\"#DejaVuSans-30\"/><use x=\"127.246094\" xlink:href=\"#DejaVuSans-30\"/></g><g transform=\"translate(197.19 252.92) scale(.1 -.1)\" fill=\"#343a3f\"><defs><path id=\"DejaVuSans-53\" transform=\"scale(.015625)\" d=\"m3425 4513v-616q-359 172-678 256-319 85-616 85-515 0-795-200t-280-569q0-310 186-468 186-157 705-254l381-78q706-135 1042-474t336-907q0-679-455-1029-454-350-1332-350-331 0-705 75-373 75-773 222v650q384-215 753-325 369-109 725-109 540 0 834 212 294 213 294 607 0 343-211 537t-692 291l-385 75q-706 140-1022 440-315 300-315 835 0 619 436 975t1201 356q329 0 669-60 341-59 697-177z\"/><path id=\"DejaVuSans-74\" transform=\"scale(.015625)\" d=\"m1172 4494v-994h1184v-447h-1184v-1900q0-428 117-550t477-122h590v-481h-590q-666 0-919 248-253 249-253 905v1900h-422v447h422v994h578z\"/><path id=\"DejaVuSans-65\" transform=\"scale(.015625)\" d=\"m3597 1894v-281h-2644q38-594 358-905t892-311q331 0 642 81t618 244v-544q-310-131-635-200t-659-69q-838 0-1327 487-489 488-489 1320 0 859 464 1363 464 505 1252 505 706 0 1117-455 411-454 411-1235zm-575 169q-6 471-264 752-258 282-683 282-481 0-770-272t-333-766l2050 4z\"/><path id=\"DejaVuSans-70\" transform=\"scale(.015625)\" d=\"m1159 525v-1856h-578v4831h578v-531q182 312 458 463 277 152 661 152 638 0 1036-506 399-506 399-1331t-399-1332q-398-506-1036-506-384 0-661 152-276 152-458 464zm1957 1222q0 634-261 995t-717 361q-457 0-718-361t-261-995 261-995 718-361q456 0 717 361t261 995z\"/><path id=\"DejaVuSans-73\" transform=\"scale(.015625)\" d=\"m2834 3397v-544q-243 125-506 187-262 63-544 63-428 0-642-131t-214-394q0-200 153-314t616-217l197-44q612-131 870-370t258-667q0-488-386-773-386-284-1061-284-281 0-586 55t-642 164v594q319-166 628-249 309-82 613-82 406 0 624 139 219 139 219 392 0 234-158 359-157 125-692 241l-200 47q-534 112-772 345-237 233-237 639 0 494 350 762 350 269 994 269 318 0 599-47 282-46 519-140z\"/></defs><use xlink:href=\"#DejaVuSans-53\"/><use x=\"63.476562\" xlink:href=\"#DejaVuSans-74\"/><use x=\"102.685547\" xlink:href=\"#DejaVuSans-65\"/><use x=\"164.208984\" xlink:href=\"#DejaVuSans-70\"/><use x=\"227.685547\" xlink:href=\"#DejaVuSans-73\"/></g><defs><path id=\"m1f5cffab32\" d=\"m0 0h-3.5\" stroke=\"#343a3f\" stroke-width=\".8\"/></defs><use x=\"43.78125\" y=\"197.343195\" fill=\"#343a3f\" stroke=\"#343a3f\" stroke-width=\".8\" xlink:href=\"#m1f5cffab32\"/><g transform=\"translate(20.878 201.14) scale(.1 -.1)\" fill=\"#343a3f\"><defs><path id=\"DejaVuSans-2e\" transform=\"scale(.015625)\" d=\"m684 794h660v-794h-660v794z\"/><path id=\"DejaVuSans-34\" transform=\"scale(.015625)\" d=\"m2419 4116-1594-2491h1594v2491zm-166 550h794v-3041h666v-525h-666v-1100h-628v1100h-2106v609l1940 2957z\"/></defs><use xlink:href=\"#DejaVuSans-30\"/><use x=\"63.623047\" xlink:href=\"#DejaVuSans-2e\"/><use x=\"95.410156\" xlink:href=\"#DejaVuSans-34\"/></g><use x=\"43.78125\" y=\"164.200049\" fill=\"#343a3f\" stroke=\"#343a3f\" stroke-width=\".8\" xlink:href=\"#m1f5cffab32\"/><g transform=\"translate(20.878 168) scale(.1 -.1)\" fill=\"#343a3f\"><use xlink:href=\"#DejaVuSans-30\"/><use x=\"63.623047\" xlink:href=\"#DejaVuSans-2e\"/><use x=\"95.410156\" xlink:href=\"#DejaVuSans-35\"/></g><use x=\"43.78125\" y=\"131.056904\" fill=\"#343a3f\" stroke=\"#343a3f\" stroke-width=\".8\" xlink:href=\"#m1f5cffab32\"/><g transform=\"translate(20.878 134.86) scale(.1 -.1)\" fill=\"#343a3f\"><defs><path id=\"DejaVuSans-36\" transform=\"scale(.015625)\" d=\"m2113 2584q-425 0-674-291-248-290-248-796 0-503 248-796 249-292 674-292t673 292q248 293 248 796 0 506-248 796-248 291-673 291zm1253 1979v-575q-238 112-480 171-242 60-480 60-625 0-955-422-329-422-376-1275 184 272 462 417 279 145 613 145 703 0 1111-427 408-426 408-1160 0-719-425-1154-425-434-1131-434-810 0-1238 620-428 621-428 1799 0 1106 525 1764t1409 658q238 0 480-47t505-140z\"/></defs><use xlink:href=\"#DejaVuSans-30\"/><use x=\"63.623047\" xlink:href=\"#DejaVuSans-2e\"/><use x=\"95.410156\" xlink:href=\"#DejaVuSans-36\"/></g><use x=\"43.78125\" y=\"97.913758\" fill=\"#343a3f\" stroke=\"#343a3f\" stroke-width=\".8\" xlink:href=\"#m1f5cffab32\"/><g transform=\"translate(20.878 101.71) scale(.1 -.1)\" fill=\"#343a3f\"><defs><path id=\"DejaVuSans-37\" transform=\"scale(.015625)\" d=\"m525 4666h3e3v-269l-1694-4397h-659l1594 4134h-2241v532z\"/></defs><use xlink:href=\"#DejaVuSans-30\"/><use x=\"63.623047\" xlink:href=\"#DejaVuSans-2e\"/><use x=\"95.410156\" xlink:href=\"#DejaVuSans-37\"/></g><use x=\"43.78125\" y=\"64.770613\" fill=\"#343a3f\" stroke=\"#343a3f\" stroke-width=\".8\" xlink:href=\"#m1f5cffab32\"/><g transform=\"translate(20.878 68.57) scale(.1 -.1)\" fill=\"#343a3f\"><defs><path id=\"DejaVuSans-38\" transform=\"scale(.015625)\" d=\"m2034 2216q-450 0-708-241-257-241-257-662 0-422 257-663 258-241 708-241t709 242q260 243 260 662 0 421-258 662-257 241-711 241zm-631 268q-406 100-633 378-226 279-226 679 0 559 398 884 399 325 1092 325 697 0 1094-325t397-884q0-400-227-679-226-278-629-378 456-106 710-416 255-309 255-755 0-679-414-1042-414-362-1186-362-771 0-1186 362-414 363-414 1042 0 446 256 755 257 310 713 416zm-231 997q0-362 226-565 227-203 636-203 407 0 636 203 230 203 230 565 0 363-230 566-229 203-636 203-409 0-636-203-226-203-226-566z\"/></defs><use xlink:href=\"#DejaVuSans-30\"/><use x=\"63.623047\" xlink:href=\"#DejaVuSans-2e\"/><use x=\"95.410156\" xlink:href=\"#DejaVuSans-38\"/></g><use x=\"43.78125\" y=\"31.627467\" fill=\"#343a3f\" stroke=\"#343a3f\" stroke-width=\".8\" xlink:href=\"#m1f5cffab32\"/><g transform=\"translate(20.878 35.427) scale(.1 -.1)\" fill=\"#343a3f\"><defs><path id=\"DejaVuSans-39\" transform=\"scale(.015625)\" d=\"m703 97v575q238-113 481-172 244-59 479-59 625 0 954 420 330 420 377 1277-181-269-460-413-278-144-615-144-700 0-1108 423-408 424-408 1159 0 718 425 1152 425 435 1131 435 810 0 1236-621 427-620 427-1801 0-1103-524-1761-523-658-1407-658-238 0-482 47-243 47-506 141zm1256 1978q425 0 673 290 249 291 249 798 0 503-249 795-248 292-673 292t-673-292-248-795q0-507 248-798 248-290 673-290z\"/></defs><use xlink:href=\"#DejaVuSans-30\"/><use x=\"63.623047\" xlink:href=\"#DejaVuSans-2e\"/><use x=\"95.410156\" xlink:href=\"#DejaVuSans-39\"/></g><g transform=\"translate(14.798 127.04) rotate(-90) scale(.1 -.1)\" fill=\"#343a3f\"><defs><path id=\"DejaVuSans-43\" transform=\"scale(.015625)\" d=\"m4122 4306v-665q-319 297-680 443-361 147-767 147-800 0-1225-489t-425-1414q0-922 425-1411t1225-489q406 0 767 147t680 444v-660q-331-225-702-338-370-112-782-112-1060 0-1670 648-609 649-609 1771 0 1125 609 1773 610 649 1670 649 418 0 788-111 371-111 696-333z\"/><path id=\"DejaVuSans-6f\" transform=\"scale(.015625)\" d=\"m1959 3097q-462 0-731-361t-269-989 267-989q268-361 733-361 460 0 728 362 269 363 269 988 0 622-269 986-268 364-728 364zm0 487q750 0 1178-488 429-487 429-1349 0-859-429-1349-428-489-1178-489-753 0-1180 489-426 490-426 1349 0 862 426 1349 427 488 1180 488z\"/></defs><use xlink:href=\"#DejaVuSans-43\"/><use x=\"69.824219\" xlink:href=\"#DejaVuSans-6f\"/><use x=\"131.005859\" xlink:href=\"#DejaVuSans-73\"/><use x=\"183.105469\" xlink:href=\"#DejaVuSans-74\"/></g><path d=\"m58.999 17.084 3.0744 10.336 3.0744 3.5285 3.0744-0.55696 3.0744 7.731 3.0744 9.648 3.0744 12.207 3.0744 14.797 3.0744-2.0631 3.0744 8.7175 3.0744-0.029315 3.0744 44.138 3.0744 1.1208 3.0744 4.2181 3.0744-2.7451 3.0744-1.4832 3.0744 2.7526 3.0744 0.15054 3.0744 0.77471 3.0744 0.14969 3.0744-1.0213 3.0744 1.2054 3.0744 8.2602 3.0744-0.19204 3.0744 0.65318 3.0744 0.43557 3.0744 0.26911 3.0744 1.1435 3.0744 0.9089 3.0744 7.3466 3.0744-0.58467 3.0744 2.6334 3.0744 0.8474 3.0744-1.1825 3.0744 6.0636 3.0744-2.9695 3.0744 7.9957 3.0744-0.41876 3.0744 0.91005 3.0744 2.4518 3.0744 1.319 3.0744-0.56118 3.0744 4.7561 3.0744 4.4069 3.0744-1.4678 3.0744 1.8057 3.0744 2.6777 3.0744-0.79343 3.0744 1.668 3.0744-4.2066 3.0744 3.8489 3.0744 2.6481 3.0744-2.2756 3.0744 1.8026 3.0744 3.7471 3.0744-0.72252 3.0744 1.3945 3.0744 1.8591 3.0744 0.96727 3.0744 0.51188 3.0744 2.2648 3.0744 0.39475 3.0744 0.40499 3.0744 3.3045 3.0744 1.1282 3.0744-1.5557 3.0744 1.1528 3.0744-1.1163 3.0744-0.49687 3.0744 1.5861 3.0744-0.969 3.0744 4.5217 3.0744-2.2208 3.0744 2.5733 3.0744-0.046444 3.0744 2.2212 3.0744 0.27769 3.0744 0.47818 3.0744-2.2276 3.0744-0.31021 3.0744 6.591 3.0744-1.0387 3.0744 1.3164 3.0744 3.3304 3.0744-0.55092 3.0744-2.0646 3.0744 2.6146 3.0744-1.6262 3.0744 0.52844 3.0744 0.65487 3.0744-1.0738 3.0744 0.32121 3.0744 1.9521 3.0744-0.34218 3.0744 3.1938 3.0744-3.6829 3.0744 3.3595 3.0744 0.32966 3.0744-2.2487 3.0744 3.2104\" clip-path=\"url(#pa049d7bf92)\" fill=\"none\" stroke=\"#1192e8\" stroke-linecap=\"square\"/><path d=\"m43.781 224.64v-217.44\" fill=\"none\" stroke=\"#343a3f\" stroke-linecap=\"square\" stroke-width=\".8\"/><path d=\"m43.781 224.64h334.8\" fill=\"none\" stroke=\"#343a3f\" stroke-linecap=\"square\" stroke-width=\".8\"/><defs><clipPath id=\"pa049d7bf92\"><rect x=\"43.781\" y=\"7.2\" width=\"334.8\" height=\"217.44\"/></clipPath></defs></svg>"
      ],
      "text/plain": [
       "<Figure size 432x288 with 1 Axes>"
      ]
     },
     "metadata": {
      "needs_background": "light"
     },
     "output_type": "display_data"
    }
   ],
   "source": [
    "class OptimizerLog:  # pylint: disable=too-few-public-methods\n",
    "    \"\"\"Log to store optimizer's intermediate results\"\"\"\n",
    "    def __init__(self):\n",
    "        self.evaluations = []\n",
    "        self.parameters = []\n",
    "        self.costs = []\n",
    "    def update(self, evaluation, parameter, cost, _stepsize, _accept):\n",
    "        \"\"\"Save intermediate results. Optimizer passes five values\n",
    "        but we ignore the last two.\"\"\"\n",
    "        self.evaluations.append(evaluation)\n",
    "        self.parameters.append(parameter)\n",
    "        self.costs.append(cost)\n",
    "\n",
    "# Set up the optimization\n",
    "from qiskit.algorithms.optimizers import SPSA\n",
    "log = OptimizerLog()\n",
    "optimizer = SPSA(maxiter=100, callback=log.update)\n",
    "\n",
    "#initial_point = np.random.random(VAR_FORM.num_parameters)\n",
    "initial_point = np.array([3.28559355, 5.48514978, 5.13099949,\n",
    "                          0.88372228, 4.08885928, 2.45568528,\n",
    "                          4.92364593, 5.59032015, 3.66837805,\n",
    "                          4.84632313, 3.60713748, 2.43546])\n",
    "\n",
    "def objective_function(variational):\n",
    "    \"\"\"Cost function of circuit parameters on training data.\n",
    "    The optimizer will attempt to minimize this.\"\"\"\n",
    "    return cost_function(TRAIN_DATA, TRAIN_LABELS, variational)\n",
    "\n",
    "# Run the optimization\n",
    "opt_var, opt_value, _ = optimizer.optimize(len(initial_point),\n",
    "                                           objective_function,\n",
    "                                           initial_point=initial_point)\n",
    "\n",
    "import matplotlib.pyplot as plt\n",
    "fig = plt.figure()\n",
    "plt.plot(log.evaluations, log.costs)\n",
    "plt.xlabel('Steps')\n",
    "plt.ylabel('Cost')\n",
    "plt.show()"
   ]
  },
  {
   "cell_type": "markdown",
   "metadata": {},
   "source": [
    "最適化ステップに関してコスト関数をプロットすると、最小値に収束し始めることがわかります。\n",
    "\n",
    "9. 以前に作成した分類関数を使用して、変分量子分類器をスコアリングする関数を実装し、それを使用して、10個のテストデータポイントでトレーニング済み分類器をテストします。"
   ]
  },
  {
   "cell_type": "code",
   "execution_count": 9,
   "metadata": {},
   "outputs": [
    {
     "data": {
      "text/plain": [
       "0.7"
      ]
     },
     "execution_count": 9,
     "metadata": {},
     "output_type": "execute_result"
    }
   ],
   "source": [
    "def test_classifier(data, labels, variational):\n",
    "    \"\"\"Gets classifier's most likely predictions and accuracy of those\n",
    "    predictions.\n",
    "\n",
    "    Args:\n",
    "        data (list): List of data points to classify\n",
    "        labels (list): List of correct labels for each data point\n",
    "        variational (list): List of parameter values for classifier\n",
    "\n",
    "    Returns:\n",
    "        float: Average accuracy of classifier over `data`\n",
    "        list: Classifier's label predictions for each data point\n",
    "    \"\"\"\n",
    "    probability = classification_probability(data, variational)\n",
    "    predictions = [0 if p[0] >= p[1] else 1 for p in probability]\n",
    "    accuracy = 0\n",
    "    # pylint: disable=invalid-name\n",
    "    for i, prediction in enumerate(predictions):\n",
    "        if prediction == labels[i]:\n",
    "            accuracy += 1\n",
    "    accuracy /= len(labels)\n",
    "    return accuracy, predictions\n",
    "\n",
    "accuracy, predictions = test_classifier(TEST_DATA, TEST_LABELS, opt_var)\n",
    "accuracy"
   ]
  },
  {
   "cell_type": "code",
   "execution_count": 10,
   "metadata": {},
   "outputs": [
    {
     "data": {
      "image/svg+xml": [
       "<?xml version=\"1.0\" encoding=\"UTF-8\"?><!DOCTYPE svg  PUBLIC '-//W3C//DTD SVG 1.1//EN'  'http://www.w3.org/Graphics/SVG/1.1/DTD/svg11.dtd'><svg width=\"673.79pt\" height=\"386.03pt\" version=\"1.1\" viewBox=\"0 0 673.79 386.03\" xmlns=\"http://www.w3.org/2000/svg\" xmlns:xlink=\"http://www.w3.org/1999/xlink\"><defs><style type=\"text/css\">*{stroke-linejoin: round; stroke-linecap: butt}</style></defs><path d=\"m0 386.03h673.79v-386.03h-673.79v386.03z\" fill=\"none\"/><path d=\"m34.241 348.48h502.2v-326.16h-502.2z\" fill=\"#ffffff\"/><defs><path id=\"m06b3234808\" d=\"m0 5c1.326 0 2.5979-0.52683 3.5355-1.4645 0.93763-0.93764 1.4645-2.2095 1.4645-3.5355s-0.52683-2.5979-1.4645-3.5355c-0.93764-0.93763-2.2095-1.4645-3.5355-1.4645s-2.5979 0.52683-3.5355 1.4645c-0.93763 0.93764-1.4645 2.2095-1.4645 3.5355s0.52683 2.5979 1.4645 3.5355c0.93764 0.93763 2.2095 1.4645 3.5355 1.4645z\" stroke=\"#1192e8\"/></defs><g clip-path=\"url(#p9d1d24fa3a)\"><use x=\"384.489385\" y=\"140.01408\" fill=\"#1192e8\" stroke=\"#1192e8\" xlink:href=\"#m06b3234808\"/></g><g clip-path=\"url(#p9d1d24fa3a)\"><use x=\"176.968724\" y=\"118.83486\" fill=\"#1192e8\" stroke=\"#1192e8\" xlink:href=\"#m06b3234808\"/></g><g clip-path=\"url(#p9d1d24fa3a)\"><use x=\"140.076162\" y=\"291.294229\" fill=\"#1192e8\" stroke=\"#1192e8\" xlink:href=\"#m06b3234808\"/></g><g clip-path=\"url(#p9d1d24fa3a)\"><use x=\"449.051369\" y=\"273.140611\" fill=\"#1192e8\" stroke=\"#1192e8\" xlink:href=\"#m06b3234808\"/></g><g clip-path=\"url(#p9d1d24fa3a)\"><use x=\"153.910873\" y=\"152.116492\" fill=\"#1192e8\" stroke=\"#1192e8\" xlink:href=\"#m06b3234808\"/></g><g clip-path=\"url(#p9d1d24fa3a)\"><use x=\"476.72079\" y=\"167.244507\" fill=\"#1192e8\" stroke=\"#1192e8\" xlink:href=\"#m06b3234808\"/></g><g clip-path=\"url(#p9d1d24fa3a)\"><use x=\"495.167071\" y=\"79.502021\" fill=\"#1192e8\" stroke=\"#1192e8\" xlink:href=\"#m06b3234808\"/></g><g clip-path=\"url(#p9d1d24fa3a)\"><use x=\"241.530708\" y=\"333.65267\" fill=\"#1192e8\" stroke=\"#1192e8\" xlink:href=\"#m06b3234808\"/></g><g clip-path=\"url(#p9d1d24fa3a)\"><use x=\"513.613352\" y=\"130.937272\" fill=\"#1192e8\" stroke=\"#1192e8\" xlink:href=\"#m06b3234808\"/></g><g clip-path=\"url(#p9d1d24fa3a)\"><use x=\"269.200129\" y=\"97.655639\" fill=\"#1192e8\" stroke=\"#1192e8\" xlink:href=\"#m06b3234808\"/></g><g clip-path=\"url(#p9d1d24fa3a)\"><use x=\"490.555501\" y=\"236.833375\" fill=\"#1192e8\" stroke=\"#1192e8\" xlink:href=\"#m06b3234808\"/></g><g clip-path=\"url(#p9d1d24fa3a)\"><use x=\"301.481121\" y=\"221.705361\" fill=\"#1192e8\" stroke=\"#1192e8\" xlink:href=\"#m06b3234808\"/></g><g clip-path=\"url(#p9d1d24fa3a)\"><use x=\"149.299303\" y=\"140.01408\" fill=\"#1192e8\" stroke=\"#1192e8\" xlink:href=\"#m06b3234808\"/></g><g clip-path=\"url(#p9d1d24fa3a)\"><use x=\"273.811699\" y=\"94.630036\" fill=\"#1192e8\" stroke=\"#1192e8\" xlink:href=\"#m06b3234808\"/></g><g clip-path=\"url(#p9d1d24fa3a)\"><use x=\"407.547237\" y=\"324.575862\" fill=\"#1192e8\" stroke=\"#1192e8\" xlink:href=\"#m06b3234808\"/></g><g clip-path=\"url(#p9d1d24fa3a)\"><use x=\"269.200129\" y=\"233.807772\" fill=\"#1192e8\" stroke=\"#1192e8\" xlink:href=\"#m06b3234808\"/></g><g clip-path=\"url(#p9d1d24fa3a)\"><use x=\"416.770377\" y=\"55.297197\" fill=\"#1192e8\" stroke=\"#1192e8\" xlink:href=\"#m06b3234808\"/></g><g clip-path=\"url(#p9d1d24fa3a)\"><use x=\"259.976989\" y=\"233.807772\" fill=\"#1192e8\" stroke=\"#1192e8\" xlink:href=\"#m06b3234808\"/></g><g clip-path=\"url(#p9d1d24fa3a)\"><use x=\"283.03484\" y=\"112.783654\" fill=\"#1192e8\" stroke=\"#1192e8\" xlink:href=\"#m06b3234808\"/></g><g clip-path=\"url(#p9d1d24fa3a)\"><use x=\"190.803435\" y=\"37.14358\" fill=\"#1192e8\" stroke=\"#1192e8\" xlink:href=\"#m06b3234808\"/></g><defs><path id=\"m147f36c6dc\" d=\"m0 5c1.326 0 2.5979-0.52683 3.5355-1.4645 0.93763-0.93764 1.4645-2.2095 1.4645-3.5355s-0.52683-2.5979-1.4645-3.5355c-0.93764-0.93763-2.2095-1.4645-3.5355-1.4645s-2.5979 0.52683-3.5355 1.4645c-0.93763 0.93764-1.4645 2.2095-1.4645 3.5355s0.52683 2.5979 1.4645 3.5355c0.93764 0.93763 2.2095 1.4645 3.5355 1.4645z\" stroke=\"#6929c4\"/></defs><g clip-path=\"url(#p9d1d24fa3a)\"><use x=\"338.373683\" y=\"85.553227\" fill=\"#6929c4\" stroke=\"#6929c4\" xlink:href=\"#m147f36c6dc\"/></g><g clip-path=\"url(#p9d1d24fa3a)\"><use x=\"61.679468\" y=\"267.089405\" fill=\"#6929c4\" stroke=\"#6929c4\" xlink:href=\"#m147f36c6dc\"/></g><g clip-path=\"url(#p9d1d24fa3a)\"><use x=\"319.927402\" y=\"248.935787\" fill=\"#6929c4\" stroke=\"#6929c4\" xlink:href=\"#m147f36c6dc\"/></g><g clip-path=\"url(#p9d1d24fa3a)\"><use x=\"333.762113\" y=\"40.169183\" fill=\"#6929c4\" stroke=\"#6929c4\" xlink:href=\"#m147f36c6dc\"/></g><g clip-path=\"url(#p9d1d24fa3a)\"><use x=\"310.704261\" y=\"276.166214\" fill=\"#6929c4\" stroke=\"#6929c4\" xlink:href=\"#m147f36c6dc\"/></g><g clip-path=\"url(#p9d1d24fa3a)\"><use x=\"227.695997\" y=\"197.500537\" fill=\"#6929c4\" stroke=\"#6929c4\" xlink:href=\"#m147f36c6dc\"/></g><g clip-path=\"url(#p9d1d24fa3a)\"><use x=\"389.100956\" y=\"306.422244\" fill=\"#6929c4\" stroke=\"#6929c4\" xlink:href=\"#m147f36c6dc\"/></g><g clip-path=\"url(#p9d1d24fa3a)\"><use x=\"319.927402\" y=\"327.601465\" fill=\"#6929c4\" stroke=\"#6929c4\" xlink:href=\"#m147f36c6dc\"/></g><g clip-path=\"url(#p9d1d24fa3a)\"><use x=\"236.919137\" y=\"282.21742\" fill=\"#6929c4\" stroke=\"#6929c4\" xlink:href=\"#m147f36c6dc\"/></g><g clip-path=\"url(#p9d1d24fa3a)\"><use x=\"75.514179\" y=\"115.809257\" fill=\"#6929c4\" stroke=\"#6929c4\" xlink:href=\"#m147f36c6dc\"/></g><g clip-path=\"url(#p9d1d24fa3a)\"><use x=\"416.770377\" y=\"291.294229\" fill=\"#6929c4\" stroke=\"#6929c4\" xlink:href=\"#m147f36c6dc\"/></g><g clip-path=\"url(#p9d1d24fa3a)\"><use x=\"246.142278\" y=\"197.500537\" fill=\"#6929c4\" stroke=\"#6929c4\" xlink:href=\"#m147f36c6dc\"/></g><g clip-path=\"url(#p9d1d24fa3a)\"><use x=\"342.985253\" y=\"136.988478\" fill=\"#6929c4\" stroke=\"#6929c4\" xlink:href=\"#m147f36c6dc\"/></g><g clip-path=\"url(#p9d1d24fa3a)\"><use x=\"186.191865\" y=\"82.527624\" fill=\"#6929c4\" stroke=\"#6929c4\" xlink:href=\"#m147f36c6dc\"/></g><g clip-path=\"url(#p9d1d24fa3a)\"><use x=\"472.10922\" y=\"97.655639\" fill=\"#6929c4\" stroke=\"#6929c4\" xlink:href=\"#m147f36c6dc\"/></g><g clip-path=\"url(#p9d1d24fa3a)\"><use x=\"366.043104\" y=\"197.500537\" fill=\"#6929c4\" stroke=\"#6929c4\" xlink:href=\"#m147f36c6dc\"/></g><g clip-path=\"url(#p9d1d24fa3a)\"><use x=\"338.373683\" y=\"85.553227\" fill=\"#6929c4\" stroke=\"#6929c4\" xlink:href=\"#m147f36c6dc\"/></g><g clip-path=\"url(#p9d1d24fa3a)\"><use x=\"163.134013\" y=\"206.577346\" fill=\"#6929c4\" stroke=\"#6929c4\" xlink:href=\"#m147f36c6dc\"/></g><g clip-path=\"url(#p9d1d24fa3a)\"><use x=\"236.919137\" y=\"46.220388\" fill=\"#6929c4\" stroke=\"#6929c4\" xlink:href=\"#m147f36c6dc\"/></g><g clip-path=\"url(#p9d1d24fa3a)\"><use x=\"246.142278\" y=\"188.423728\" fill=\"#6929c4\" stroke=\"#6929c4\" xlink:href=\"#m147f36c6dc\"/></g><defs><path id=\"me0760f602f\" d=\"m-5 5h10v-10h-10z\" stroke=\"#1192e8\"/></defs><g clip-path=\"url(#p9d1d24fa3a)\"><use x=\"370.654675\" y=\"236.833375\" fill=\"#1192e8\" stroke=\"#1192e8\" xlink:href=\"#me0760f602f\"/></g><g clip-path=\"url(#p9d1d24fa3a)\"><use x=\"416.770377\" y=\"309.447847\" fill=\"#1192e8\" stroke=\"#1192e8\" xlink:href=\"#me0760f602f\"/></g><g clip-path=\"url(#p9d1d24fa3a)\"><use x=\"366.043104\" y=\"91.604433\" fill=\"#1192e8\" stroke=\"#1192e8\" xlink:href=\"#me0760f602f\"/></g><g clip-path=\"url(#p9d1d24fa3a)\"><use x=\"296.869551\" y=\"242.884581\" fill=\"#1192e8\" stroke=\"#1192e8\" xlink:href=\"#me0760f602f\"/></g><defs><path id=\"mbc65272e66\" d=\"m-5 5h10v-10h-10z\" stroke=\"#6929c4\"/></defs><g clip-path=\"url(#p9d1d24fa3a)\"><use x=\"232.307567\" y=\"321.550259\" fill=\"#6929c4\" stroke=\"#6929c4\" xlink:href=\"#mbc65272e66\"/></g><path d=\"m232.31 332.73c2.9651 0 5.8091-1.178 7.9057-3.2746 2.0966-2.0966 3.2746-4.9406 3.2746-7.9057 0-2.9651-1.178-5.8091-3.2746-7.9057-2.0966-2.0966-4.9406-3.2746-7.9057-3.2746s-5.8091 1.178-7.9057 3.2746c-2.0966 2.0966-3.2746 4.9406-3.2746 7.9057 0 2.9651 1.178 5.8091 3.2746 7.9057 2.0966 2.0966 4.9406 3.2746 7.9057 3.2746z\" clip-path=\"url(#p9d1d24fa3a)\" fill=\"none\" stroke=\"#9f1853\" stroke-width=\"2.5\"/><g clip-path=\"url(#p9d1d24fa3a)\"><use x=\"504.390212\" y=\"258.012596\" fill=\"#6929c4\" stroke=\"#6929c4\" xlink:href=\"#mbc65272e66\"/></g><g clip-path=\"url(#p9d1d24fa3a)\"><use x=\"504.390212\" y=\"303.396641\" fill=\"#6929c4\" stroke=\"#6929c4\" xlink:href=\"#mbc65272e66\"/></g><g clip-path=\"url(#p9d1d24fa3a)\"><use x=\"213.861286\" y=\"173.295713\" fill=\"#6929c4\" stroke=\"#6929c4\" xlink:href=\"#mbc65272e66\"/></g><g clip-path=\"url(#p9d1d24fa3a)\"><use x=\"57.067898\" y=\"52.271594\" fill=\"#1192e8\" stroke=\"#1192e8\" xlink:href=\"#me0760f602f\"/></g><path d=\"m57.068 63.452c2.9651 0 5.8091-1.178 7.9057-3.2746 2.0966-2.0966 3.2746-4.9406 3.2746-7.9057 0-2.9651-1.178-5.8091-3.2746-7.9057-2.0966-2.0966-4.9406-3.2746-7.9057-3.2746s-5.8091 1.178-7.9057 3.2746c-2.0966 2.0966-3.2746 4.9406-3.2746 7.9057 0 2.9651 1.178 5.8091 3.2746 7.9057 2.0966 2.0966 4.9406 3.2746 7.9057 3.2746z\" clip-path=\"url(#p9d1d24fa3a)\" fill=\"none\" stroke=\"#9f1853\" stroke-width=\"2.5\"/><g clip-path=\"url(#p9d1d24fa3a)\"><use x=\"407.547237\" y=\"127.911669\" fill=\"#1192e8\" stroke=\"#1192e8\" xlink:href=\"#me0760f602f\"/></g><path d=\"m407.55 139.09c2.9651 0 5.8091-1.178 7.9057-3.2746 2.0966-2.0966 3.2746-4.9406 3.2746-7.9057 0-2.9651-1.178-5.8091-3.2746-7.9057-2.0966-2.0966-4.9406-3.2746-7.9057-3.2746-2.9651 0-5.8091 1.178-7.9057 3.2746-2.0966 2.0966-3.2746 4.9406-3.2746 7.9057 0 2.9651 1.178 5.8091 3.2746 7.9057 2.0966 2.0966 4.9406 3.2746 7.9057 3.2746z\" clip-path=\"url(#p9d1d24fa3a)\" fill=\"none\" stroke=\"#9f1853\" stroke-width=\"2.5\"/><defs><path id=\"m2e1196e4c6\" d=\"m0 0v3.5\" stroke=\"#343a3f\" stroke-width=\".8\"/></defs><use x=\"57.067898\" y=\"348.478125\" fill=\"#343a3f\" stroke=\"#343a3f\" stroke-width=\".8\" xlink:href=\"#m2e1196e4c6\"/><g transform=\"translate(53.887 363.08) scale(.1 -.1)\" fill=\"#343a3f\"><defs><path id=\"DejaVuSans-30\" transform=\"scale(.015625)\" d=\"m2034 4250q-487 0-733-480-245-479-245-1442 0-959 245-1439 246-480 733-480 491 0 736 480 246 480 246 1439 0 963-246 1442-245 480-736 480zm0 500q785 0 1199-621 414-620 414-1801 0-1178-414-1799-414-620-1199-620-784 0-1198 620-414 621-414 1799 0 1181 414 1801 414 621 1198 621z\"/></defs><use xlink:href=\"#DejaVuSans-30\"/></g><use x=\"130.463318\" y=\"348.478125\" fill=\"#343a3f\" stroke=\"#343a3f\" stroke-width=\".8\" xlink:href=\"#m2e1196e4c6\"/><g transform=\"translate(127.28 363.08) scale(.1 -.1)\" fill=\"#343a3f\"><defs><path id=\"DejaVuSans-31\" transform=\"scale(.015625)\" d=\"m794 531h1031v3560l-1122-225v575l1116 225h631v-4135h1031v-531h-2687v531z\"/></defs><use xlink:href=\"#DejaVuSans-31\"/></g><use x=\"203.858738\" y=\"348.478125\" fill=\"#343a3f\" stroke=\"#343a3f\" stroke-width=\".8\" xlink:href=\"#m2e1196e4c6\"/><g transform=\"translate(200.68 363.08) scale(.1 -.1)\" fill=\"#343a3f\"><defs><path id=\"DejaVuSans-32\" transform=\"scale(.015625)\" d=\"m1228 531h2203v-531h-2962v531q359 372 979 998 621 627 780 809 303 340 423 576 121 236 121 464 0 372-261 606-261 235-680 235-297 0-627-103-329-103-704-313v638q381 153 712 231 332 78 607 78 725 0 1156-363 431-362 431-968 0-288-108-546-107-257-392-607-78-91-497-524-418-433-1181-1211z\"/></defs><use xlink:href=\"#DejaVuSans-32\"/></g><use x=\"277.254158\" y=\"348.478125\" fill=\"#343a3f\" stroke=\"#343a3f\" stroke-width=\".8\" xlink:href=\"#m2e1196e4c6\"/><g transform=\"translate(274.07 363.08) scale(.1 -.1)\" fill=\"#343a3f\"><defs><path id=\"DejaVuSans-33\" transform=\"scale(.015625)\" d=\"m2597 2516q453-97 707-404 255-306 255-756 0-690-475-1069-475-378-1350-378-293 0-604 58t-642 174v609q262-153 574-231 313-78 654-78 593 0 904 234t311 681q0 413-289 645-289 233-804 233h-544v519h569q465 0 712 186t247 536q0 359-255 551-254 193-729 193-260 0-557-57-297-56-653-174v562q360 100 674 150t592 50q719 0 1137-327 419-326 419-882 0-388-222-655t-631-370z\"/></defs><use xlink:href=\"#DejaVuSans-33\"/></g><use x=\"350.649578\" y=\"348.478125\" fill=\"#343a3f\" stroke=\"#343a3f\" stroke-width=\".8\" xlink:href=\"#m2e1196e4c6\"/><g transform=\"translate(347.47 363.08) scale(.1 -.1)\" fill=\"#343a3f\"><defs><path id=\"DejaVuSans-34\" transform=\"scale(.015625)\" d=\"m2419 4116-1594-2491h1594v2491zm-166 550h794v-3041h666v-525h-666v-1100h-628v1100h-2106v609l1940 2957z\"/></defs><use xlink:href=\"#DejaVuSans-34\"/></g><use x=\"424.044998\" y=\"348.478125\" fill=\"#343a3f\" stroke=\"#343a3f\" stroke-width=\".8\" xlink:href=\"#m2e1196e4c6\"/><g transform=\"translate(420.86 363.08) scale(.1 -.1)\" fill=\"#343a3f\"><defs><path id=\"DejaVuSans-35\" transform=\"scale(.015625)\" d=\"m691 4666h2478v-532h-1900v-1143q137 47 274 70 138 23 276 23 781 0 1237-428 457-428 457-1159 0-753-469-1171-469-417-1322-417-294 0-599 50-304 50-629 150v635q281-153 581-228t634-75q541 0 856 284 316 284 316 772 0 487-316 771-315 285-856 285-253 0-505-56-251-56-513-175v2344z\"/></defs><use xlink:href=\"#DejaVuSans-35\"/></g><use x=\"497.440418\" y=\"348.478125\" fill=\"#343a3f\" stroke=\"#343a3f\" stroke-width=\".8\" xlink:href=\"#m2e1196e4c6\"/><g transform=\"translate(494.26 363.08) scale(.1 -.1)\" fill=\"#343a3f\"><defs><path id=\"DejaVuSans-36\" transform=\"scale(.015625)\" d=\"m2113 2584q-425 0-674-291-248-290-248-796 0-503 248-796 249-292 674-292t673 292q248 293 248 796 0 506-248 796-248 291-673 291zm1253 1979v-575q-238 112-480 171-242 60-480 60-625 0-955-422-329-422-376-1275 184 272 462 417 279 145 613 145 703 0 1111-427 408-426 408-1160 0-719-425-1154-425-434-1131-434-810 0-1238 620-428 621-428 1799 0 1106 525 1764t1409 658q238 0 480-47t505-140z\"/></defs><use xlink:href=\"#DejaVuSans-36\"/></g><g transform=\"translate(282.38 376.75) scale(.1 -.1)\" fill=\"#343a3f\"><defs><path id=\"DejaVuSans-78\" transform=\"scale(.015625)\" d=\"m3513 3500-1266-1703 1331-1797h-678l-1019 1375-1018-1375h-679l1360 1831-1244 1669h678l928-1247 928 1247h679z\"/></defs><use xlink:href=\"#DejaVuSans-78\"/></g><defs><path id=\"m657a0e20bf\" d=\"m0 0h-3.5\" stroke=\"#343a3f\" stroke-width=\".8\"/></defs><use x=\"34.240625\" y=\"336.678273\" fill=\"#343a3f\" stroke=\"#343a3f\" stroke-width=\".8\" xlink:href=\"#m657a0e20bf\"/><g transform=\"translate(20.878 340.48) scale(.1 -.1)\" fill=\"#343a3f\"><use xlink:href=\"#DejaVuSans-30\"/></g><use x=\"34.240625\" y=\"288.524307\" fill=\"#343a3f\" stroke=\"#343a3f\" stroke-width=\".8\" xlink:href=\"#m657a0e20bf\"/><g transform=\"translate(20.878 292.32) scale(.1 -.1)\" fill=\"#343a3f\"><use xlink:href=\"#DejaVuSans-31\"/></g><use x=\"34.240625\" y=\"240.37034\" fill=\"#343a3f\" stroke=\"#343a3f\" stroke-width=\".8\" xlink:href=\"#m657a0e20bf\"/><g transform=\"translate(20.878 244.17) scale(.1 -.1)\" fill=\"#343a3f\"><use xlink:href=\"#DejaVuSans-32\"/></g><use x=\"34.240625\" y=\"192.216373\" fill=\"#343a3f\" stroke=\"#343a3f\" stroke-width=\".8\" xlink:href=\"#m657a0e20bf\"/><g transform=\"translate(20.878 196.02) scale(.1 -.1)\" fill=\"#343a3f\"><use xlink:href=\"#DejaVuSans-33\"/></g><use x=\"34.240625\" y=\"144.062406\" fill=\"#343a3f\" stroke=\"#343a3f\" stroke-width=\".8\" xlink:href=\"#m657a0e20bf\"/><g transform=\"translate(20.878 147.86) scale(.1 -.1)\" fill=\"#343a3f\"><use xlink:href=\"#DejaVuSans-34\"/></g><use x=\"34.240625\" y=\"95.908439\" fill=\"#343a3f\" stroke=\"#343a3f\" stroke-width=\".8\" xlink:href=\"#m657a0e20bf\"/><g transform=\"translate(20.878 99.708) scale(.1 -.1)\" fill=\"#343a3f\"><use xlink:href=\"#DejaVuSans-35\"/></g><use x=\"34.240625\" y=\"47.754472\" fill=\"#343a3f\" stroke=\"#343a3f\" stroke-width=\".8\" xlink:href=\"#m657a0e20bf\"/><g transform=\"translate(20.878 51.554) scale(.1 -.1)\" fill=\"#343a3f\"><use xlink:href=\"#DejaVuSans-36\"/></g><g transform=\"translate(14.798 188.36) rotate(-90) scale(.1 -.1)\" fill=\"#343a3f\"><defs><path id=\"DejaVuSans-79\" transform=\"scale(.015625)\" d=\"m2059-325q-243-625-475-815-231-191-618-191h-460v481h338q237 0 368 113 132 112 291 531l103 262-1415 3444h609l1094-2737 1094 2737h609l-1538-3825z\"/></defs><use xlink:href=\"#DejaVuSans-79\"/></g><path d=\"m34.241 348.48v-326.16\" fill=\"none\" stroke=\"#343a3f\" stroke-linecap=\"square\" stroke-width=\".8\"/><path d=\"m34.241 348.48h502.2\" fill=\"none\" stroke=\"#343a3f\" stroke-linecap=\"square\" stroke-width=\".8\"/><g transform=\"translate(225.13 16.318) scale(.12 -.12)\" fill=\"#343a3f\"><defs><path id=\"DejaVuSans-54\" transform=\"scale(.015625)\" d=\"m-19 4666h3947v-532h-1656v-4134h-634v4134h-1657v532z\"/><path id=\"DejaVuSans-72\" transform=\"scale(.015625)\" d=\"m2631 2963q-97 56-211 82-114 27-251 27-488 0-749-317t-261-911v-1844h-578v3500h578v-544q182 319 472 473 291 155 707 155 59 0 131-8 72-7 159-23l3-590z\"/><path id=\"DejaVuSans-61\" transform=\"scale(.015625)\" d=\"m2194 1759q-697 0-966-159t-269-544q0-306 202-486 202-179 548-179 479 0 768 339t289 901v128h-572zm1147 238v-1997h-575v531q-197-318-491-470t-719-152q-537 0-855 302-317 302-317 808 0 590 395 890 396 300 1180 300h807v57q0 397-261 614t-733 217q-300 0-585-72-284-72-546-216v532q315 122 612 182 297 61 578 61 760 0 1135-394 375-393 375-1193z\"/><path id=\"DejaVuSans-69\" transform=\"scale(.015625)\" d=\"m603 3500h575v-3500h-575v3500zm0 1363h575v-729h-575v729z\"/><path id=\"DejaVuSans-6e\" transform=\"scale(.015625)\" d=\"m3513 2113v-2113h-575v2094q0 497-194 743-194 247-581 247-466 0-735-297-269-296-269-809v-1978h-578v3500h578v-544q207 316 486 472 280 156 646 156 603 0 912-373 310-373 310-1098z\"/><path id=\"DejaVuSans-67\" transform=\"scale(.015625)\" d=\"m2906 1791q0 625-258 968-257 344-723 344-462 0-720-344-258-343-258-968 0-622 258-966t720-344q466 0 723 344 258 344 258 966zm575-1357q0-893-397-1329-396-436-1215-436-303 0-572 45t-522 139v559q253-137 500-202 247-66 503-66 566 0 847 295t281 892v285q-178-310-456-463t-666-153q-643 0-1037 490-394 491-394 1301 0 812 394 1302 394 491 1037 491 388 0 666-153t456-462v531h575v-3066z\"/><path id=\"DejaVuSans-26\" transform=\"scale(.015625)\" d=\"m1556 2509q-284-253-417-505-133-251-133-526 0-456 331-759 332-303 832-303 297 0 556 98 259 99 488 299l-1657 1696zm441 350 1587-1625q185 279 288 596t122 673h581q-37-412-200-816-162-403-453-796l872-891h-788l-447 459q-325-278-681-414t-765-136q-754 0-1232 430t-478 1102q0 400 209 751 210 352 629 661-150 197-229 392-78 196-78 383 0 506 347 814t922 308q260 0 517-56 258-56 524-169v-569q-272 147-519 223-247 77-459 77-328 0-533-174-205-173-205-448 0-159 92-320 93-161 377-455z\"/><path id=\"DejaVuSans-65\" transform=\"scale(.015625)\" d=\"m3597 1894v-281h-2644q38-594 358-905t892-311q331 0 642 81t618 244v-544q-310-131-635-200t-659-69q-838 0-1327 487-489 488-489 1320 0 859 464 1363 464 505 1252 505 706 0 1117-455 411-454 411-1235zm-575 169q-6 471-264 752-258 282-683 282-481 0-770-272t-333-766l2050 4z\"/><path id=\"DejaVuSans-73\" transform=\"scale(.015625)\" d=\"m2834 3397v-544q-243 125-506 187-262 63-544 63-428 0-642-131t-214-394q0-200 153-314t616-217l197-44q612-131 870-370t258-667q0-488-386-773-386-284-1061-284-281 0-586 55t-642 164v594q319-166 628-249 309-82 613-82 406 0 624 139 219 139 219 392 0 234-158 359-157 125-692 241l-200 47q-534 112-772 345-237 233-237 639 0 494 350 762 350 269 994 269 318 0 599-47 282-46 519-140z\"/><path id=\"DejaVuSans-74\" transform=\"scale(.015625)\" d=\"m1172 4494v-994h1184v-447h-1184v-1900q0-428 117-550t477-122h590v-481h-590q-666 0-919 248-253 249-253 905v1900h-422v447h422v994h578z\"/><path id=\"DejaVuSans-44\" transform=\"scale(.015625)\" d=\"m1259 4147v-3628h763q966 0 1414 437 448 438 448 1382 0 937-448 1373t-1414 436h-763zm-631 519h1297q1356 0 1990-564 635-564 635-1764 0-1207-638-1773-637-565-1987-565h-1297v4666z\"/></defs><use xlink:href=\"#DejaVuSans-54\"/><use x=\"46.333984\" xlink:href=\"#DejaVuSans-72\"/><use x=\"87.447266\" xlink:href=\"#DejaVuSans-61\"/><use x=\"148.726562\" xlink:href=\"#DejaVuSans-69\"/><use x=\"176.509766\" xlink:href=\"#DejaVuSans-6e\"/><use x=\"239.888672\" xlink:href=\"#DejaVuSans-69\"/><use x=\"267.671875\" xlink:href=\"#DejaVuSans-6e\"/><use x=\"331.050781\" xlink:href=\"#DejaVuSans-67\"/><use x=\"394.527344\" xlink:href=\"#DejaVuSans-20\"/><use x=\"426.314453\" xlink:href=\"#DejaVuSans-26\"/><use x=\"504.292969\" xlink:href=\"#DejaVuSans-20\"/><use x=\"536.080078\" xlink:href=\"#DejaVuSans-54\"/><use x=\"580.164062\" xlink:href=\"#DejaVuSans-65\"/><use x=\"641.6875\" xlink:href=\"#DejaVuSans-73\"/><use x=\"693.787109\" xlink:href=\"#DejaVuSans-74\"/><use x=\"732.996094\" xlink:href=\"#DejaVuSans-20\"/><use x=\"764.783203\" xlink:href=\"#DejaVuSans-44\"/><use x=\"841.785156\" xlink:href=\"#DejaVuSans-61\"/><use x=\"903.064453\" xlink:href=\"#DejaVuSans-74\"/><use x=\"942.273438\" xlink:href=\"#DejaVuSans-61\"/></g><path d=\"m541.44 103.71h125.15v-76.391h-125.15z\" fill=\"#ffffff\" opacity=\".8\" stroke=\"#cccccc\"/><path d=\"m545.44 35.417h10 10\" fill=\"none\" stroke=\"#ffffff\" stroke-linecap=\"square\"/><defs><path id=\"m18c61f9350\" d=\"m0 5c1.326 0 2.5979-0.52683 3.5355-1.4645 0.93763-0.93764 1.4645-2.2095 1.4645-3.5355s-0.52683-2.5979-1.4645-3.5355c-0.93764-0.93763-2.2095-1.4645-3.5355-1.4645s-2.5979 0.52683-3.5355 1.4645c-0.93763 0.93764-1.4645 2.2095-1.4645 3.5355s0.52683 2.5979 1.4645 3.5355c0.93764 0.93763 2.2095 1.4645 3.5355 1.4645z\" stroke=\"#ffffff\"/></defs><use x=\"555.440625\" y=\"35.416562\" fill=\"#1192e8\" stroke=\"#ffffff\" xlink:href=\"#m18c61f9350\"/><g transform=\"translate(573.44 38.917) scale(.1 -.1)\" fill=\"#343a3f\"><defs><path id=\"DejaVuSans-41\" transform=\"scale(.015625)\" d=\"m2188 4044-857-2322h1716l-859 2322zm-357 622h716l1778-4666h-656l-425 1197h-2103l-425-1197h-666l1781 4666z\"/></defs><use xlink:href=\"#DejaVuSans-41\"/></g><path d=\"m545.44 50.095h10 10\" fill=\"none\" stroke=\"#ffffff\" stroke-linecap=\"square\"/><use x=\"555.440625\" y=\"50.094687\" fill=\"#1192e8\" stroke=\"#ffffff\" xlink:href=\"#m18c61f9350\"/><g transform=\"translate(573.44 53.595) scale(.1 -.1)\" fill=\"#343a3f\"><defs><path id=\"DejaVuSans-42\" transform=\"scale(.015625)\" d=\"m1259 2228v-1709h1013q509 0 754 211 246 211 246 645 0 438-246 645-245 208-754 208h-1013zm0 1919v-1406h935q462 0 688 173 227 174 227 530 0 353-227 528-226 175-688 175h-935zm-631 519h1613q722 0 1112-300 391-300 391-853 0-429-200-682t-588-315q466-100 724-418 258-317 258-792 0-625-425-966-425-340-1210-340h-1675v4666z\"/></defs><use xlink:href=\"#DejaVuSans-42\"/></g><path d=\"m545.44 64.773h10 10\" fill=\"none\" stroke=\"#ffffff\" stroke-linecap=\"square\"/><defs><path id=\"m7a691054eb\" d=\"m-5 5h10v-10h-10z\" stroke=\"#ffffff\"/></defs><use x=\"555.440625\" y=\"64.772812\" fill=\"#6929c4\" stroke=\"#ffffff\" xlink:href=\"#m7a691054eb\"/><g transform=\"translate(573.44 68.273) scale(.1 -.1)\" fill=\"#343a3f\"><defs><path id=\"DejaVuSans-70\" transform=\"scale(.015625)\" d=\"m1159 525v-1856h-578v4831h578v-531q182 312 458 463 277 152 661 152 638 0 1036-506 399-506 399-1331t-399-1332q-398-506-1036-506-384 0-661 152-276 152-458 464zm1957 1222q0 634-261 995t-717 361q-457 0-718-361t-261-995 261-995 718-361q456 0 717 361t261 995z\"/><path id=\"DejaVuSans-64\" transform=\"scale(.015625)\" d=\"m2906 2969v1894h575v-4863h-575v525q-181-312-458-464-276-152-664-152-634 0-1033 506-398 507-398 1332t398 1331q399 506 1033 506 388 0 664-152 277-151 458-463zm-1959-1222q0-634 261-995t717-361 718 361q263 361 263 995t-263 995q-262 361-718 361t-717-361-261-995z\"/><path id=\"DejaVuSans-63\" transform=\"scale(.015625)\" d=\"m3122 3366v-538q-244 135-489 202t-495 67q-560 0-870-355-309-354-309-995t309-996q310-354 870-354 250 0 495 67t489 202v-532q-241-112-499-168-257-57-548-57-791 0-1257 497-465 497-465 1341 0 856 470 1346 471 491 1290 491 265 0 518-55 253-54 491-163z\"/></defs><use xlink:href=\"#DejaVuSans-70\"/><use x=\"63.476562\" xlink:href=\"#DejaVuSans-72\"/><use x=\"102.339844\" xlink:href=\"#DejaVuSans-65\"/><use x=\"163.863281\" xlink:href=\"#DejaVuSans-64\"/><use x=\"227.339844\" xlink:href=\"#DejaVuSans-69\"/><use x=\"255.123047\" xlink:href=\"#DejaVuSans-63\"/><use x=\"310.103516\" xlink:href=\"#DejaVuSans-74\"/><use x=\"349.3125\" xlink:href=\"#DejaVuSans-20\"/><use x=\"381.099609\" xlink:href=\"#DejaVuSans-41\"/></g><path d=\"m545.44 79.451h10 10\" fill=\"none\" stroke=\"#ffffff\" stroke-linecap=\"square\"/><defs><path id=\"m6b1601c09c\" d=\"m-5 5h10v-10h-10z\" stroke=\"#ffffff\"/></defs><use x=\"555.440625\" y=\"79.450937\" fill=\"#1192e8\" stroke=\"#ffffff\" xlink:href=\"#m6b1601c09c\"/><g transform=\"translate(573.44 82.951) scale(.1 -.1)\" fill=\"#343a3f\"><use xlink:href=\"#DejaVuSans-70\"/><use x=\"63.476562\" xlink:href=\"#DejaVuSans-72\"/><use x=\"102.339844\" xlink:href=\"#DejaVuSans-65\"/><use x=\"163.863281\" xlink:href=\"#DejaVuSans-64\"/><use x=\"227.339844\" xlink:href=\"#DejaVuSans-69\"/><use x=\"255.123047\" xlink:href=\"#DejaVuSans-63\"/><use x=\"310.103516\" xlink:href=\"#DejaVuSans-74\"/><use x=\"349.3125\" xlink:href=\"#DejaVuSans-20\"/><use x=\"381.099609\" xlink:href=\"#DejaVuSans-42\"/></g><path d=\"m545.44 94.129h10 10\" fill=\"none\" stroke=\"#ffffff\" stroke-linecap=\"square\"/><defs><path id=\"md6c7e73145\" d=\"m0 7.5c1.989 0 3.8968-0.79025 5.3033-2.1967s2.1967-3.3143 2.1967-5.3033-0.79025-3.8968-2.1967-5.3033-3.3143-2.1967-5.3033-2.1967-3.8968 0.79025-5.3033 2.1967-2.1967 3.3143-2.1967 5.3033 0.79025 3.8968 2.1967 5.3033 3.3143 2.1967 5.3033 2.1967z\" stroke=\"#9f1853\" stroke-width=\"2\"/></defs><use x=\"555.440625\" y=\"94.129062\" fill-opacity=\"0\" stroke=\"#9f1853\" stroke-width=\"2\" xlink:href=\"#md6c7e73145\"/><g transform=\"translate(573.44 97.629) scale(.1 -.1)\" fill=\"#343a3f\"><defs><path id=\"DejaVuSans-77\" transform=\"scale(.015625)\" d=\"m269 3500h575l719-2731 715 2731h678l719-2731 716 2731h575l-916-3500h-678l-753 2869-756-2869h-679l-915 3500z\"/><path id=\"DejaVuSans-6f\" transform=\"scale(.015625)\" d=\"m1959 3097q-462 0-731-361t-269-989 267-989q268-361 733-361 460 0 728 362 269 363 269 988 0 622-269 986-268 364-728 364zm0 487q750 0 1178-488 429-487 429-1349 0-859-429-1349-428-489-1178-489-753 0-1180 489-426 490-426 1349 0 862 426 1349 427 488 1180 488z\"/><path id=\"DejaVuSans-6c\" transform=\"scale(.015625)\" d=\"m603 4863h575v-4863h-575v4863z\"/><path id=\"DejaVuSans-66\" transform=\"scale(.015625)\" d=\"m2375 4863v-479h-550q-309 0-430-125-120-125-120-450v-309h947v-447h-947v-3053h-578v3053h-550v447h550v244q0 584 272 851 272 268 862 268h544z\"/></defs><use xlink:href=\"#DejaVuSans-77\"/><use x=\"81.787109\" xlink:href=\"#DejaVuSans-72\"/><use x=\"120.650391\" xlink:href=\"#DejaVuSans-6f\"/><use x=\"181.832031\" xlink:href=\"#DejaVuSans-6e\"/><use x=\"245.210938\" xlink:href=\"#DejaVuSans-67\"/><use x=\"308.6875\" xlink:href=\"#DejaVuSans-6c\"/><use x=\"336.470703\" xlink:href=\"#DejaVuSans-79\"/><use x=\"395.650391\" xlink:href=\"#DejaVuSans-20\"/><use x=\"427.4375\" xlink:href=\"#DejaVuSans-63\"/><use x=\"482.417969\" xlink:href=\"#DejaVuSans-6c\"/><use x=\"510.201172\" xlink:href=\"#DejaVuSans-61\"/><use x=\"571.480469\" xlink:href=\"#DejaVuSans-73\"/><use x=\"623.580078\" xlink:href=\"#DejaVuSans-73\"/><use x=\"675.679688\" xlink:href=\"#DejaVuSans-69\"/><use x=\"703.462891\" xlink:href=\"#DejaVuSans-66\"/><use x=\"738.667969\" xlink:href=\"#DejaVuSans-69\"/><use x=\"766.451172\" xlink:href=\"#DejaVuSans-65\"/><use x=\"827.974609\" xlink:href=\"#DejaVuSans-64\"/></g><defs><clipPath id=\"p9d1d24fa3a\"><rect x=\"34.241\" y=\"22.318\" width=\"502.2\" height=\"326.16\"/></clipPath></defs></svg>"
      ],
      "text/plain": [
       "<Figure size 648x432 with 1 Axes>"
      ]
     },
     "metadata": {
      "needs_background": "light"
     },
     "output_type": "display_data"
    }
   ],
   "source": [
    "from matplotlib.lines import Line2D\n",
    "plt.figure(figsize=(9, 6))\n",
    "\n",
    "for feature, label in zip(TRAIN_DATA, TRAIN_LABELS):\n",
    "    COLOR = 'C0' if label == 0 else 'C1'\n",
    "    plt.scatter(feature[0], feature[1],\n",
    "                marker='o', s=100, color=COLOR)\n",
    "\n",
    "for feature, label, pred in zip(TEST_DATA, TEST_LABELS, predictions):\n",
    "    COLOR = 'C0' if pred == 0 else 'C1'\n",
    "    plt.scatter(feature[0], feature[1],\n",
    "                marker='s', s=100, color=COLOR)\n",
    "    if label != pred:  # mark wrongly classified\n",
    "        plt.scatter(feature[0], feature[1], marker='o', s=500,\n",
    "                    linewidths=2.5, facecolor='none', edgecolor='C3')\n",
    "\n",
    "legend_elements = [\n",
    "    Line2D([0], [0], marker='o', c='w', mfc='C0', label='A', ms=10),\n",
    "    Line2D([0], [0], marker='o', c='w', mfc='C0', label='B', ms=10),\n",
    "    Line2D([0], [0], marker='s', c='w', mfc='C1', label='predict A',\n",
    "           ms=10),\n",
    "    Line2D([0], [0], marker='s', c='w', mfc='C0', label='predict B',\n",
    "           ms=10),\n",
    "    Line2D([0], [0], marker='o', c='w', mfc='none', mec='C3',\n",
    "           label='wrongly classified', mew=2, ms=15)\n",
    "]\n",
    "\n",
    "plt.legend(handles=legend_elements, bbox_to_anchor=(1, 1),\n",
    "           loc='upper left')\n",
    "\n",
    "plt.title('Training & Test Data')\n",
    "plt.xlabel('x')\n",
    "plt.ylabel('y')\n",
    "plt.show()"
   ]
  },
  {
   "cell_type": "markdown",
   "metadata": {},
   "source": [
    "トレーニングされた分類器のパフォーマンスがテスト データで優れていないことがわかります。トレーニングの最適化では、トレーニングに時間がかかるか、[全体的な最小値](gloss:local-minimum)ではなく[局所的な最小値](gloss:global-minimum)が見つかった可能性があります。"
   ]
  },
  {
   "cell_type": "markdown",
   "metadata": {},
   "source": [
    "### Qiskitでの実装\n",
    "\n",
    "Qiskitには、 [`VQC`](https://qiskit.org/documentation/machine-learning/stubs/qiskit_machine_learning.algorithms.VQC.html)クラスの変分量子分類器の実装があります。同じデータセットで使用してみましょう。\n",
    "\n",
    "まず、アルゴリズムの要件に応じてラベルを1つのホットエンコードする必要があります。"
   ]
  },
  {
   "cell_type": "code",
   "execution_count": 11,
   "metadata": {},
   "outputs": [],
   "source": [
    "from sklearn.preprocessing import OneHotEncoder\n",
    "encoder = OneHotEncoder()\n",
    "train_labels_oh = encoder.fit_transform(TRAIN_LABELS.reshape(-1, 1)\n",
    "                                       ).toarray()\n",
    "test_labels_oh = encoder.fit_transform(TEST_LABELS.reshape(-1, 1)\n",
    "                                      ).toarray()"
   ]
  },
  {
   "cell_type": "markdown",
   "metadata": {},
   "source": [
    "次に、再現性のために初期変分回路パラメータを設定して`VQC`アルゴリズムを設定して実行します。その後先ほど作成した結果をプロットするコールバック関数を使用して結果をプロットします。"
   ]
  },
  {
   "cell_type": "code",
   "execution_count": 12,
   "metadata": {},
   "outputs": [
    {
     "data": {
      "text/plain": [
       "<qiskit_machine_learning.algorithms.classifiers.vqc.VQC at 0x1401c6130>"
      ]
     },
     "execution_count": 12,
     "metadata": {},
     "output_type": "execute_result"
    }
   ],
   "source": [
    "#initial_point = np.random.random(VAR_FORM.num_parameters)\n",
    "initial_point = np.array([0.3200227 , 0.6503638 , 0.55995053,\n",
    "                          0.96566328, 0.38243769, 0.90403094,\n",
    "                          0.82271449, 0.26810137, 0.61076489,\n",
    "                          0.82301609, 0.11789148, 0.29667125])\n",
    "\n",
    "from qiskit_machine_learning.algorithms.classifiers import VQC\n",
    "log = OptimizerLog()\n",
    "vqc = VQC(feature_map=FEATURE_MAP,\n",
    "          ansatz=VAR_FORM,\n",
    "          loss='cross_entropy',\n",
    "          optimizer=SPSA(callback=log.update),\n",
    "          initial_point=initial_point,\n",
    "          quantum_instance=BasicAer.get_backend('qasm_simulator'))\n",
    "\n",
    "vqc.fit(TRAIN_DATA, train_labels_oh)"
   ]
  },
  {
   "cell_type": "code",
   "execution_count": 13,
   "metadata": {},
   "outputs": [
    {
     "data": {
      "image/svg+xml": [
       "<?xml version=\"1.0\" encoding=\"UTF-8\"?><!DOCTYPE svg  PUBLIC '-//W3C//DTD SVG 1.1//EN'  'http://www.w3.org/Graphics/SVG/1.1/DTD/svg11.dtd'><svg width=\"385.78pt\" height=\"262.2pt\" version=\"1.1\" viewBox=\"0 0 385.78 262.2\" xmlns=\"http://www.w3.org/2000/svg\" xmlns:xlink=\"http://www.w3.org/1999/xlink\"><defs><style type=\"text/css\">*{stroke-linejoin: round; stroke-linecap: butt}</style></defs><path d=\"m0 262.2h385.78v-262.2h-385.78v262.2z\" fill=\"none\"/><path d=\"m43.781 224.64h334.8v-217.44h-334.8z\" fill=\"#ffffff\"/><defs><path id=\"mc41f73cec2\" d=\"m0 0v3.5\" stroke=\"#343a3f\" stroke-width=\".8\"/></defs><use x=\"55.925052\" y=\"224.64\" fill=\"#343a3f\" stroke=\"#343a3f\" stroke-width=\".8\" xlink:href=\"#mc41f73cec2\"/><g transform=\"translate(52.744 239.24) scale(.1 -.1)\" fill=\"#343a3f\"><defs><path id=\"DejaVuSans-30\" transform=\"scale(.015625)\" d=\"m2034 4250q-487 0-733-480-245-479-245-1442 0-959 245-1439 246-480 733-480 491 0 736 480 246 480 246 1439 0 963-246 1442-245 480-736 480zm0 500q785 0 1199-621 414-620 414-1801 0-1178-414-1799-414-620-1199-620-784 0-1198 620-414 621-414 1799 0 1181 414 1801 414 621 1198 621z\"/></defs><use xlink:href=\"#DejaVuSans-30\"/></g><use x=\"107.164721\" y=\"224.64\" fill=\"#343a3f\" stroke=\"#343a3f\" stroke-width=\".8\" xlink:href=\"#mc41f73cec2\"/><g transform=\"translate(100.8 239.24) scale(.1 -.1)\" fill=\"#343a3f\"><defs><path id=\"DejaVuSans-35\" transform=\"scale(.015625)\" d=\"m691 4666h2478v-532h-1900v-1143q137 47 274 70 138 23 276 23 781 0 1237-428 457-428 457-1159 0-753-469-1171-469-417-1322-417-294 0-599 50-304 50-629 150v635q281-153 581-228t634-75q541 0 856 284 316 284 316 772 0 487-316 771-315 285-856 285-253 0-505-56-251-56-513-175v2344z\"/></defs><use xlink:href=\"#DejaVuSans-35\"/><use x=\"63.623047\" xlink:href=\"#DejaVuSans-30\"/></g><use x=\"158.40439\" y=\"224.64\" fill=\"#343a3f\" stroke=\"#343a3f\" stroke-width=\".8\" xlink:href=\"#mc41f73cec2\"/><g transform=\"translate(148.86 239.24) scale(.1 -.1)\" fill=\"#343a3f\"><defs><path id=\"DejaVuSans-31\" transform=\"scale(.015625)\" d=\"m794 531h1031v3560l-1122-225v575l1116 225h631v-4135h1031v-531h-2687v531z\"/></defs><use xlink:href=\"#DejaVuSans-31\"/><use x=\"63.623047\" xlink:href=\"#DejaVuSans-30\"/><use x=\"127.246094\" xlink:href=\"#DejaVuSans-30\"/></g><use x=\"209.64406\" y=\"224.64\" fill=\"#343a3f\" stroke=\"#343a3f\" stroke-width=\".8\" xlink:href=\"#mc41f73cec2\"/><g transform=\"translate(200.1 239.24) scale(.1 -.1)\" fill=\"#343a3f\"><use xlink:href=\"#DejaVuSans-31\"/><use x=\"63.623047\" xlink:href=\"#DejaVuSans-35\"/><use x=\"127.246094\" xlink:href=\"#DejaVuSans-30\"/></g><use x=\"260.883729\" y=\"224.64\" fill=\"#343a3f\" stroke=\"#343a3f\" stroke-width=\".8\" xlink:href=\"#mc41f73cec2\"/><g transform=\"translate(251.34 239.24) scale(.1 -.1)\" fill=\"#343a3f\"><defs><path id=\"DejaVuSans-32\" transform=\"scale(.015625)\" d=\"m1228 531h2203v-531h-2962v531q359 372 979 998 621 627 780 809 303 340 423 576 121 236 121 464 0 372-261 606-261 235-680 235-297 0-627-103-329-103-704-313v638q381 153 712 231 332 78 607 78 725 0 1156-363 431-362 431-968 0-288-108-546-107-257-392-607-78-91-497-524-418-433-1181-1211z\"/></defs><use xlink:href=\"#DejaVuSans-32\"/><use x=\"63.623047\" xlink:href=\"#DejaVuSans-30\"/><use x=\"127.246094\" xlink:href=\"#DejaVuSans-30\"/></g><use x=\"312.123399\" y=\"224.64\" fill=\"#343a3f\" stroke=\"#343a3f\" stroke-width=\".8\" xlink:href=\"#mc41f73cec2\"/><g transform=\"translate(302.58 239.24) scale(.1 -.1)\" fill=\"#343a3f\"><use xlink:href=\"#DejaVuSans-32\"/><use x=\"63.623047\" xlink:href=\"#DejaVuSans-35\"/><use x=\"127.246094\" xlink:href=\"#DejaVuSans-30\"/></g><use x=\"363.363068\" y=\"224.64\" fill=\"#343a3f\" stroke=\"#343a3f\" stroke-width=\".8\" xlink:href=\"#mc41f73cec2\"/><g transform=\"translate(353.82 239.24) scale(.1 -.1)\" fill=\"#343a3f\"><defs><path id=\"DejaVuSans-33\" transform=\"scale(.015625)\" d=\"m2597 2516q453-97 707-404 255-306 255-756 0-690-475-1069-475-378-1350-378-293 0-604 58t-642 174v609q262-153 574-231 313-78 654-78 593 0 904 234t311 681q0 413-289 645-289 233-804 233h-544v519h569q465 0 712 186t247 536q0 359-255 551-254 193-729 193-260 0-557-57-297-56-653-174v562q360 100 674 150t592 50q719 0 1137-327 419-326 419-882 0-388-222-655t-631-370z\"/></defs><use xlink:href=\"#DejaVuSans-33\"/><use x=\"63.623047\" xlink:href=\"#DejaVuSans-30\"/><use x=\"127.246094\" xlink:href=\"#DejaVuSans-30\"/></g><g transform=\"translate(197.19 252.92) scale(.1 -.1)\" fill=\"#343a3f\"><defs><path id=\"DejaVuSans-53\" transform=\"scale(.015625)\" d=\"m3425 4513v-616q-359 172-678 256-319 85-616 85-515 0-795-200t-280-569q0-310 186-468 186-157 705-254l381-78q706-135 1042-474t336-907q0-679-455-1029-454-350-1332-350-331 0-705 75-373 75-773 222v650q384-215 753-325 369-109 725-109 540 0 834 212 294 213 294 607 0 343-211 537t-692 291l-385 75q-706 140-1022 440-315 300-315 835 0 619 436 975t1201 356q329 0 669-60 341-59 697-177z\"/><path id=\"DejaVuSans-74\" transform=\"scale(.015625)\" d=\"m1172 4494v-994h1184v-447h-1184v-1900q0-428 117-550t477-122h590v-481h-590q-666 0-919 248-253 249-253 905v1900h-422v447h422v994h578z\"/><path id=\"DejaVuSans-65\" transform=\"scale(.015625)\" d=\"m3597 1894v-281h-2644q38-594 358-905t892-311q331 0 642 81t618 244v-544q-310-131-635-200t-659-69q-838 0-1327 487-489 488-489 1320 0 859 464 1363 464 505 1252 505 706 0 1117-455 411-454 411-1235zm-575 169q-6 471-264 752-258 282-683 282-481 0-770-272t-333-766l2050 4z\"/><path id=\"DejaVuSans-70\" transform=\"scale(.015625)\" d=\"m1159 525v-1856h-578v4831h578v-531q182 312 458 463 277 152 661 152 638 0 1036-506 399-506 399-1331t-399-1332q-398-506-1036-506-384 0-661 152-276 152-458 464zm1957 1222q0 634-261 995t-717 361q-457 0-718-361t-261-995 261-995 718-361q456 0 717 361t261 995z\"/><path id=\"DejaVuSans-73\" transform=\"scale(.015625)\" d=\"m2834 3397v-544q-243 125-506 187-262 63-544 63-428 0-642-131t-214-394q0-200 153-314t616-217l197-44q612-131 870-370t258-667q0-488-386-773-386-284-1061-284-281 0-586 55t-642 164v594q319-166 628-249 309-82 613-82 406 0 624 139 219 139 219 392 0 234-158 359-157 125-692 241l-200 47q-534 112-772 345-237 233-237 639 0 494 350 762 350 269 994 269 318 0 599-47 282-46 519-140z\"/></defs><use xlink:href=\"#DejaVuSans-53\"/><use x=\"63.476562\" xlink:href=\"#DejaVuSans-74\"/><use x=\"102.685547\" xlink:href=\"#DejaVuSans-65\"/><use x=\"164.208984\" xlink:href=\"#DejaVuSans-70\"/><use x=\"227.685547\" xlink:href=\"#DejaVuSans-73\"/></g><defs><path id=\"m0d78f1941d\" d=\"m0 0h-3.5\" stroke=\"#343a3f\" stroke-width=\".8\"/></defs><use x=\"43.78125\" y=\"209.918728\" fill=\"#343a3f\" stroke=\"#343a3f\" stroke-width=\".8\" xlink:href=\"#m0d78f1941d\"/><g transform=\"translate(20.878 213.72) scale(.1 -.1)\" fill=\"#343a3f\"><defs><path id=\"DejaVuSans-2e\" transform=\"scale(.015625)\" d=\"m684 794h660v-794h-660v794z\"/><path id=\"DejaVuSans-34\" transform=\"scale(.015625)\" d=\"m2419 4116-1594-2491h1594v2491zm-166 550h794v-3041h666v-525h-666v-1100h-628v1100h-2106v609l1940 2957z\"/></defs><use xlink:href=\"#DejaVuSans-30\"/><use x=\"63.623047\" xlink:href=\"#DejaVuSans-2e\"/><use x=\"95.410156\" xlink:href=\"#DejaVuSans-34\"/></g><use x=\"43.78125\" y=\"168.874154\" fill=\"#343a3f\" stroke=\"#343a3f\" stroke-width=\".8\" xlink:href=\"#m0d78f1941d\"/><g transform=\"translate(20.878 172.67) scale(.1 -.1)\" fill=\"#343a3f\"><use xlink:href=\"#DejaVuSans-30\"/><use x=\"63.623047\" xlink:href=\"#DejaVuSans-2e\"/><use x=\"95.410156\" xlink:href=\"#DejaVuSans-35\"/></g><use x=\"43.78125\" y=\"127.829579\" fill=\"#343a3f\" stroke=\"#343a3f\" stroke-width=\".8\" xlink:href=\"#m0d78f1941d\"/><g transform=\"translate(20.878 131.63) scale(.1 -.1)\" fill=\"#343a3f\"><defs><path id=\"DejaVuSans-36\" transform=\"scale(.015625)\" d=\"m2113 2584q-425 0-674-291-248-290-248-796 0-503 248-796 249-292 674-292t673 292q248 293 248 796 0 506-248 796-248 291-673 291zm1253 1979v-575q-238 112-480 171-242 60-480 60-625 0-955-422-329-422-376-1275 184 272 462 417 279 145 613 145 703 0 1111-427 408-426 408-1160 0-719-425-1154-425-434-1131-434-810 0-1238 620-428 621-428 1799 0 1106 525 1764t1409 658q238 0 480-47t505-140z\"/></defs><use xlink:href=\"#DejaVuSans-30\"/><use x=\"63.623047\" xlink:href=\"#DejaVuSans-2e\"/><use x=\"95.410156\" xlink:href=\"#DejaVuSans-36\"/></g><use x=\"43.78125\" y=\"86.785005\" fill=\"#343a3f\" stroke=\"#343a3f\" stroke-width=\".8\" xlink:href=\"#m0d78f1941d\"/><g transform=\"translate(20.878 90.584) scale(.1 -.1)\" fill=\"#343a3f\"><defs><path id=\"DejaVuSans-37\" transform=\"scale(.015625)\" d=\"m525 4666h3e3v-269l-1694-4397h-659l1594 4134h-2241v532z\"/></defs><use xlink:href=\"#DejaVuSans-30\"/><use x=\"63.623047\" xlink:href=\"#DejaVuSans-2e\"/><use x=\"95.410156\" xlink:href=\"#DejaVuSans-37\"/></g><use x=\"43.78125\" y=\"45.740431\" fill=\"#343a3f\" stroke=\"#343a3f\" stroke-width=\".8\" xlink:href=\"#m0d78f1941d\"/><g transform=\"translate(20.878 49.54) scale(.1 -.1)\" fill=\"#343a3f\"><defs><path id=\"DejaVuSans-38\" transform=\"scale(.015625)\" d=\"m2034 2216q-450 0-708-241-257-241-257-662 0-422 257-663 258-241 708-241t709 242q260 243 260 662 0 421-258 662-257 241-711 241zm-631 268q-406 100-633 378-226 279-226 679 0 559 398 884 399 325 1092 325 697 0 1094-325t397-884q0-400-227-679-226-278-629-378 456-106 710-416 255-309 255-755 0-679-414-1042-414-362-1186-362-771 0-1186 362-414 363-414 1042 0 446 256 755 257 310 713 416zm-231 997q0-362 226-565 227-203 636-203 407 0 636 203 230 203 230 565 0 363-230 566-229 203-636 203-409 0-636-203-226-203-226-566z\"/></defs><use xlink:href=\"#DejaVuSans-30\"/><use x=\"63.623047\" xlink:href=\"#DejaVuSans-2e\"/><use x=\"95.410156\" xlink:href=\"#DejaVuSans-38\"/></g><g transform=\"translate(14.798 127.04) rotate(-90) scale(.1 -.1)\" fill=\"#343a3f\"><defs><path id=\"DejaVuSans-43\" transform=\"scale(.015625)\" d=\"m4122 4306v-665q-319 297-680 443-361 147-767 147-800 0-1225-489t-425-1414q0-922 425-1411t1225-489q406 0 767 147t680 444v-660q-331-225-702-338-370-112-782-112-1060 0-1670 648-609 649-609 1771 0 1125 609 1773 610 649 1670 649 418 0 788-111 371-111 696-333z\"/><path id=\"DejaVuSans-6f\" transform=\"scale(.015625)\" d=\"m1959 3097q-462 0-731-361t-269-989 267-989q268-361 733-361 460 0 728 362 269 363 269 988 0 622-269 986-268 364-728 364zm0 487q750 0 1178-488 429-487 429-1349 0-859-429-1349-428-489-1178-489-753 0-1180 489-426 490-426 1349 0 862 426 1349 427 488 1180 488z\"/></defs><use xlink:href=\"#DejaVuSans-43\"/><use x=\"69.824219\" xlink:href=\"#DejaVuSans-6f\"/><use x=\"131.005859\" xlink:href=\"#DejaVuSans-73\"/><use x=\"183.105469\" xlink:href=\"#DejaVuSans-74\"/></g><path d=\"m58.999 17.084 3.0744 34.205 3.0744-5.9379 3.0744 69.836 3.0744 3.7285 3.0744 0.81514 3.0744-2.8073 3.0744 23.327 3.0744-0.32966 3.0744 7.4248 3.0744 11.216 3.0744 2.0307 3.0744 0.85898 3.0744 19.812 3.0744-0.43024 3.0744-1.4069 3.0744 7.5639 3.0744 0.49848 3.0744-0.10464 3.0744 1.3009 3.0744 7.059 3.0744 4.1133 3.0744 7.2218 3.0744-3.4316 3.0744 1.4577 3.0744 1.4862 3.0744 0.51853 3.0744-0.2579 3.0744-1.0686 3.0744 2.5595 3.0744 0.36213 3.0744-2.1682 3.0744 0.4751 3.0744 2.3906 3.0744-5.9111 3.0744 2.9409 3.0744 2.7567 3.0744-0.049667 3.0744-0.93465 3.0744 3.2106 3.0744-3.3509 3.0744 0.19926 3.0744 1.3987 3.0744-1.8159 3.0744-0.43938 3.0744 2.129 3.0744-1.5285 3.0744 1.2064 3.0744 0.75312 3.0744-0.033454 3.0744 0.12243 3.0744-0.97439 3.0744 0.54498 3.0744 1.8044 3.0744-5.1491 3.0744 2.0808 3.0744-3.5967 3.0744 8.3557 3.0744-3.6481 3.0744-0.22058 3.0744 3.896 3.0744-2.9894 3.0744 0.60949 3.0744 0.76179 3.0744-1.4379 3.0744 3.2266 3.0744-4.3324 3.0744 3.5015 3.0744-3.6149 3.0744-0.47822 3.0744 0.067254 3.0744 0.7691 3.0744 5.5238 3.0744-0.34869 3.0744-10.061 3.0744 7.17 3.0744-1.2624 3.0744-1.8356 3.0744 2.2541 3.0744 2.3692 3.0744-2.1554 3.0744-0.54226 3.0744 0.68173 3.0744 0.1669 3.0744-1.2764 3.0744 3.5472 3.0744-3.6748 3.0744-4.5153 3.0744 8.2142 3.0744-3.1493 3.0744-0.56911 3.0744 1.4662 3.0744-2.8116 3.0744 2.4726 3.0744-2.2757 3.0744-0.42886 3.0744 2.86 3.0744 1.9783 3.0744 1.2439 3.0744-5.3566\" clip-path=\"url(#p87264f0163)\" fill=\"none\" stroke=\"#1192e8\" stroke-linecap=\"square\"/><path d=\"m43.781 224.64v-217.44\" fill=\"none\" stroke=\"#343a3f\" stroke-linecap=\"square\" stroke-width=\".8\"/><path d=\"m43.781 224.64h334.8\" fill=\"none\" stroke=\"#343a3f\" stroke-linecap=\"square\" stroke-width=\".8\"/><defs><clipPath id=\"p87264f0163\"><rect x=\"43.781\" y=\"7.2\" width=\"334.8\" height=\"217.44\"/></clipPath></defs></svg>"
      ],
      "text/plain": [
       "<Figure size 432x288 with 1 Axes>"
      ]
     },
     "metadata": {
      "needs_background": "light"
     },
     "output_type": "display_data"
    }
   ],
   "source": [
    "fig = plt.figure()\n",
    "plt.plot(log.evaluations, log.costs)\n",
    "plt.xlabel('Steps')\n",
    "plt.ylabel('Cost')\n",
    "plt.show()"
   ]
  },
  {
   "cell_type": "markdown",
   "metadata": {},
   "source": [
    "第三に、訓練された分類器をテストデータでテストします。"
   ]
  },
  {
   "cell_type": "code",
   "execution_count": 14,
   "metadata": {},
   "outputs": [
    {
     "data": {
      "text/plain": [
       "0.9"
      ]
     },
     "execution_count": 14,
     "metadata": {},
     "output_type": "execute_result"
    }
   ],
   "source": [
    "# score == accuracy\n",
    "vqc.score(TEST_DATA, test_labels_oh)"
   ]
  },
  {
   "cell_type": "code",
   "execution_count": 15,
   "metadata": {},
   "outputs": [
    {
     "data": {
      "image/svg+xml": [
       "<?xml version=\"1.0\" encoding=\"UTF-8\"?><!DOCTYPE svg  PUBLIC '-//W3C//DTD SVG 1.1//EN'  'http://www.w3.org/Graphics/SVG/1.1/DTD/svg11.dtd'><svg width=\"673.79pt\" height=\"386.03pt\" version=\"1.1\" viewBox=\"0 0 673.79 386.03\" xmlns=\"http://www.w3.org/2000/svg\" xmlns:xlink=\"http://www.w3.org/1999/xlink\"><defs><style type=\"text/css\">*{stroke-linejoin: round; stroke-linecap: butt}</style></defs><path d=\"m0 386.03h673.79v-386.03h-673.79v386.03z\" fill=\"none\"/><path d=\"m34.241 348.48h502.2v-326.16h-502.2z\" fill=\"#ffffff\"/><defs><path id=\"m88bc946b7a\" d=\"m0 5c1.326 0 2.5979-0.52683 3.5355-1.4645 0.93763-0.93764 1.4645-2.2095 1.4645-3.5355s-0.52683-2.5979-1.4645-3.5355c-0.93764-0.93763-2.2095-1.4645-3.5355-1.4645s-2.5979 0.52683-3.5355 1.4645c-0.93763 0.93764-1.4645 2.2095-1.4645 3.5355s0.52683 2.5979 1.4645 3.5355c0.93764 0.93763 2.2095 1.4645 3.5355 1.4645z\" stroke=\"#1192e8\"/></defs><g clip-path=\"url(#p2422871389)\"><use x=\"384.489385\" y=\"140.01408\" fill=\"#1192e8\" stroke=\"#1192e8\" xlink:href=\"#m88bc946b7a\"/></g><g clip-path=\"url(#p2422871389)\"><use x=\"176.968724\" y=\"118.83486\" fill=\"#1192e8\" stroke=\"#1192e8\" xlink:href=\"#m88bc946b7a\"/></g><g clip-path=\"url(#p2422871389)\"><use x=\"140.076162\" y=\"291.294229\" fill=\"#1192e8\" stroke=\"#1192e8\" xlink:href=\"#m88bc946b7a\"/></g><g clip-path=\"url(#p2422871389)\"><use x=\"449.051369\" y=\"273.140611\" fill=\"#1192e8\" stroke=\"#1192e8\" xlink:href=\"#m88bc946b7a\"/></g><g clip-path=\"url(#p2422871389)\"><use x=\"153.910873\" y=\"152.116492\" fill=\"#1192e8\" stroke=\"#1192e8\" xlink:href=\"#m88bc946b7a\"/></g><g clip-path=\"url(#p2422871389)\"><use x=\"476.72079\" y=\"167.244507\" fill=\"#1192e8\" stroke=\"#1192e8\" xlink:href=\"#m88bc946b7a\"/></g><g clip-path=\"url(#p2422871389)\"><use x=\"495.167071\" y=\"79.502021\" fill=\"#1192e8\" stroke=\"#1192e8\" xlink:href=\"#m88bc946b7a\"/></g><g clip-path=\"url(#p2422871389)\"><use x=\"241.530708\" y=\"333.65267\" fill=\"#1192e8\" stroke=\"#1192e8\" xlink:href=\"#m88bc946b7a\"/></g><g clip-path=\"url(#p2422871389)\"><use x=\"513.613352\" y=\"130.937272\" fill=\"#1192e8\" stroke=\"#1192e8\" xlink:href=\"#m88bc946b7a\"/></g><g clip-path=\"url(#p2422871389)\"><use x=\"269.200129\" y=\"97.655639\" fill=\"#1192e8\" stroke=\"#1192e8\" xlink:href=\"#m88bc946b7a\"/></g><g clip-path=\"url(#p2422871389)\"><use x=\"490.555501\" y=\"236.833375\" fill=\"#1192e8\" stroke=\"#1192e8\" xlink:href=\"#m88bc946b7a\"/></g><g clip-path=\"url(#p2422871389)\"><use x=\"301.481121\" y=\"221.705361\" fill=\"#1192e8\" stroke=\"#1192e8\" xlink:href=\"#m88bc946b7a\"/></g><g clip-path=\"url(#p2422871389)\"><use x=\"149.299303\" y=\"140.01408\" fill=\"#1192e8\" stroke=\"#1192e8\" xlink:href=\"#m88bc946b7a\"/></g><g clip-path=\"url(#p2422871389)\"><use x=\"273.811699\" y=\"94.630036\" fill=\"#1192e8\" stroke=\"#1192e8\" xlink:href=\"#m88bc946b7a\"/></g><g clip-path=\"url(#p2422871389)\"><use x=\"407.547237\" y=\"324.575862\" fill=\"#1192e8\" stroke=\"#1192e8\" xlink:href=\"#m88bc946b7a\"/></g><g clip-path=\"url(#p2422871389)\"><use x=\"269.200129\" y=\"233.807772\" fill=\"#1192e8\" stroke=\"#1192e8\" xlink:href=\"#m88bc946b7a\"/></g><g clip-path=\"url(#p2422871389)\"><use x=\"416.770377\" y=\"55.297197\" fill=\"#1192e8\" stroke=\"#1192e8\" xlink:href=\"#m88bc946b7a\"/></g><g clip-path=\"url(#p2422871389)\"><use x=\"259.976989\" y=\"233.807772\" fill=\"#1192e8\" stroke=\"#1192e8\" xlink:href=\"#m88bc946b7a\"/></g><g clip-path=\"url(#p2422871389)\"><use x=\"283.03484\" y=\"112.783654\" fill=\"#1192e8\" stroke=\"#1192e8\" xlink:href=\"#m88bc946b7a\"/></g><g clip-path=\"url(#p2422871389)\"><use x=\"190.803435\" y=\"37.14358\" fill=\"#1192e8\" stroke=\"#1192e8\" xlink:href=\"#m88bc946b7a\"/></g><defs><path id=\"m6a78709c41\" d=\"m0 5c1.326 0 2.5979-0.52683 3.5355-1.4645 0.93763-0.93764 1.4645-2.2095 1.4645-3.5355s-0.52683-2.5979-1.4645-3.5355c-0.93764-0.93763-2.2095-1.4645-3.5355-1.4645s-2.5979 0.52683-3.5355 1.4645c-0.93763 0.93764-1.4645 2.2095-1.4645 3.5355s0.52683 2.5979 1.4645 3.5355c0.93764 0.93763 2.2095 1.4645 3.5355 1.4645z\" stroke=\"#6929c4\"/></defs><g clip-path=\"url(#p2422871389)\"><use x=\"338.373683\" y=\"85.553227\" fill=\"#6929c4\" stroke=\"#6929c4\" xlink:href=\"#m6a78709c41\"/></g><g clip-path=\"url(#p2422871389)\"><use x=\"61.679468\" y=\"267.089405\" fill=\"#6929c4\" stroke=\"#6929c4\" xlink:href=\"#m6a78709c41\"/></g><g clip-path=\"url(#p2422871389)\"><use x=\"319.927402\" y=\"248.935787\" fill=\"#6929c4\" stroke=\"#6929c4\" xlink:href=\"#m6a78709c41\"/></g><g clip-path=\"url(#p2422871389)\"><use x=\"333.762113\" y=\"40.169183\" fill=\"#6929c4\" stroke=\"#6929c4\" xlink:href=\"#m6a78709c41\"/></g><g clip-path=\"url(#p2422871389)\"><use x=\"310.704261\" y=\"276.166214\" fill=\"#6929c4\" stroke=\"#6929c4\" xlink:href=\"#m6a78709c41\"/></g><g clip-path=\"url(#p2422871389)\"><use x=\"227.695997\" y=\"197.500537\" fill=\"#6929c4\" stroke=\"#6929c4\" xlink:href=\"#m6a78709c41\"/></g><g clip-path=\"url(#p2422871389)\"><use x=\"389.100956\" y=\"306.422244\" fill=\"#6929c4\" stroke=\"#6929c4\" xlink:href=\"#m6a78709c41\"/></g><g clip-path=\"url(#p2422871389)\"><use x=\"319.927402\" y=\"327.601465\" fill=\"#6929c4\" stroke=\"#6929c4\" xlink:href=\"#m6a78709c41\"/></g><g clip-path=\"url(#p2422871389)\"><use x=\"236.919137\" y=\"282.21742\" fill=\"#6929c4\" stroke=\"#6929c4\" xlink:href=\"#m6a78709c41\"/></g><g clip-path=\"url(#p2422871389)\"><use x=\"75.514179\" y=\"115.809257\" fill=\"#6929c4\" stroke=\"#6929c4\" xlink:href=\"#m6a78709c41\"/></g><g clip-path=\"url(#p2422871389)\"><use x=\"416.770377\" y=\"291.294229\" fill=\"#6929c4\" stroke=\"#6929c4\" xlink:href=\"#m6a78709c41\"/></g><g clip-path=\"url(#p2422871389)\"><use x=\"246.142278\" y=\"197.500537\" fill=\"#6929c4\" stroke=\"#6929c4\" xlink:href=\"#m6a78709c41\"/></g><g clip-path=\"url(#p2422871389)\"><use x=\"342.985253\" y=\"136.988478\" fill=\"#6929c4\" stroke=\"#6929c4\" xlink:href=\"#m6a78709c41\"/></g><g clip-path=\"url(#p2422871389)\"><use x=\"186.191865\" y=\"82.527624\" fill=\"#6929c4\" stroke=\"#6929c4\" xlink:href=\"#m6a78709c41\"/></g><g clip-path=\"url(#p2422871389)\"><use x=\"472.10922\" y=\"97.655639\" fill=\"#6929c4\" stroke=\"#6929c4\" xlink:href=\"#m6a78709c41\"/></g><g clip-path=\"url(#p2422871389)\"><use x=\"366.043104\" y=\"197.500537\" fill=\"#6929c4\" stroke=\"#6929c4\" xlink:href=\"#m6a78709c41\"/></g><g clip-path=\"url(#p2422871389)\"><use x=\"338.373683\" y=\"85.553227\" fill=\"#6929c4\" stroke=\"#6929c4\" xlink:href=\"#m6a78709c41\"/></g><g clip-path=\"url(#p2422871389)\"><use x=\"163.134013\" y=\"206.577346\" fill=\"#6929c4\" stroke=\"#6929c4\" xlink:href=\"#m6a78709c41\"/></g><g clip-path=\"url(#p2422871389)\"><use x=\"236.919137\" y=\"46.220388\" fill=\"#6929c4\" stroke=\"#6929c4\" xlink:href=\"#m6a78709c41\"/></g><g clip-path=\"url(#p2422871389)\"><use x=\"246.142278\" y=\"188.423728\" fill=\"#6929c4\" stroke=\"#6929c4\" xlink:href=\"#m6a78709c41\"/></g><defs><path id=\"m91727923b2\" d=\"m-5 5h10v-10h-10z\" stroke=\"#1192e8\"/></defs><g clip-path=\"url(#p2422871389)\"><use x=\"370.654675\" y=\"236.833375\" fill=\"#1192e8\" stroke=\"#1192e8\" xlink:href=\"#m91727923b2\"/></g><g clip-path=\"url(#p2422871389)\"><use x=\"416.770377\" y=\"309.447847\" fill=\"#1192e8\" stroke=\"#1192e8\" xlink:href=\"#m91727923b2\"/></g><g clip-path=\"url(#p2422871389)\"><use x=\"366.043104\" y=\"91.604433\" fill=\"#1192e8\" stroke=\"#1192e8\" xlink:href=\"#m91727923b2\"/></g><g clip-path=\"url(#p2422871389)\"><use x=\"296.869551\" y=\"242.884581\" fill=\"#1192e8\" stroke=\"#1192e8\" xlink:href=\"#m91727923b2\"/></g><g clip-path=\"url(#p2422871389)\"><use x=\"232.307567\" y=\"321.550259\" fill=\"#1192e8\" stroke=\"#1192e8\" xlink:href=\"#m91727923b2\"/></g><defs><path id=\"mf08e8a44a6\" d=\"m-5 5h10v-10h-10z\" stroke=\"#6929c4\"/></defs><g clip-path=\"url(#p2422871389)\"><use x=\"504.390212\" y=\"258.012596\" fill=\"#6929c4\" stroke=\"#6929c4\" xlink:href=\"#mf08e8a44a6\"/></g><g clip-path=\"url(#p2422871389)\"><use x=\"504.390212\" y=\"303.396641\" fill=\"#6929c4\" stroke=\"#6929c4\" xlink:href=\"#mf08e8a44a6\"/></g><g clip-path=\"url(#p2422871389)\"><use x=\"213.861286\" y=\"173.295713\" fill=\"#6929c4\" stroke=\"#6929c4\" xlink:href=\"#mf08e8a44a6\"/></g><g clip-path=\"url(#p2422871389)\"><use x=\"57.067898\" y=\"52.271594\" fill=\"#6929c4\" stroke=\"#6929c4\" xlink:href=\"#mf08e8a44a6\"/></g><g clip-path=\"url(#p2422871389)\"><use x=\"407.547237\" y=\"127.911669\" fill=\"#1192e8\" stroke=\"#1192e8\" xlink:href=\"#m91727923b2\"/></g><path d=\"m407.55 139.09c2.9651 0 5.8091-1.178 7.9057-3.2746 2.0966-2.0966 3.2746-4.9406 3.2746-7.9057 0-2.9651-1.178-5.8091-3.2746-7.9057-2.0966-2.0966-4.9406-3.2746-7.9057-3.2746-2.9651 0-5.8091 1.178-7.9057 3.2746-2.0966 2.0966-3.2746 4.9406-3.2746 7.9057 0 2.9651 1.178 5.8091 3.2746 7.9057 2.0966 2.0966 4.9406 3.2746 7.9057 3.2746z\" clip-path=\"url(#p2422871389)\" fill=\"none\" stroke=\"#9f1853\" stroke-width=\"2.5\"/><defs><path id=\"mcff190a493\" d=\"m0 0v3.5\" stroke=\"#343a3f\" stroke-width=\".8\"/></defs><use x=\"57.067898\" y=\"348.478125\" fill=\"#343a3f\" stroke=\"#343a3f\" stroke-width=\".8\" xlink:href=\"#mcff190a493\"/><g transform=\"translate(53.887 363.08) scale(.1 -.1)\" fill=\"#343a3f\"><defs><path id=\"DejaVuSans-30\" transform=\"scale(.015625)\" d=\"m2034 4250q-487 0-733-480-245-479-245-1442 0-959 245-1439 246-480 733-480 491 0 736 480 246 480 246 1439 0 963-246 1442-245 480-736 480zm0 500q785 0 1199-621 414-620 414-1801 0-1178-414-1799-414-620-1199-620-784 0-1198 620-414 621-414 1799 0 1181 414 1801 414 621 1198 621z\"/></defs><use xlink:href=\"#DejaVuSans-30\"/></g><use x=\"130.463318\" y=\"348.478125\" fill=\"#343a3f\" stroke=\"#343a3f\" stroke-width=\".8\" xlink:href=\"#mcff190a493\"/><g transform=\"translate(127.28 363.08) scale(.1 -.1)\" fill=\"#343a3f\"><defs><path id=\"DejaVuSans-31\" transform=\"scale(.015625)\" d=\"m794 531h1031v3560l-1122-225v575l1116 225h631v-4135h1031v-531h-2687v531z\"/></defs><use xlink:href=\"#DejaVuSans-31\"/></g><use x=\"203.858738\" y=\"348.478125\" fill=\"#343a3f\" stroke=\"#343a3f\" stroke-width=\".8\" xlink:href=\"#mcff190a493\"/><g transform=\"translate(200.68 363.08) scale(.1 -.1)\" fill=\"#343a3f\"><defs><path id=\"DejaVuSans-32\" transform=\"scale(.015625)\" d=\"m1228 531h2203v-531h-2962v531q359 372 979 998 621 627 780 809 303 340 423 576 121 236 121 464 0 372-261 606-261 235-680 235-297 0-627-103-329-103-704-313v638q381 153 712 231 332 78 607 78 725 0 1156-363 431-362 431-968 0-288-108-546-107-257-392-607-78-91-497-524-418-433-1181-1211z\"/></defs><use xlink:href=\"#DejaVuSans-32\"/></g><use x=\"277.254158\" y=\"348.478125\" fill=\"#343a3f\" stroke=\"#343a3f\" stroke-width=\".8\" xlink:href=\"#mcff190a493\"/><g transform=\"translate(274.07 363.08) scale(.1 -.1)\" fill=\"#343a3f\"><defs><path id=\"DejaVuSans-33\" transform=\"scale(.015625)\" d=\"m2597 2516q453-97 707-404 255-306 255-756 0-690-475-1069-475-378-1350-378-293 0-604 58t-642 174v609q262-153 574-231 313-78 654-78 593 0 904 234t311 681q0 413-289 645-289 233-804 233h-544v519h569q465 0 712 186t247 536q0 359-255 551-254 193-729 193-260 0-557-57-297-56-653-174v562q360 100 674 150t592 50q719 0 1137-327 419-326 419-882 0-388-222-655t-631-370z\"/></defs><use xlink:href=\"#DejaVuSans-33\"/></g><use x=\"350.649578\" y=\"348.478125\" fill=\"#343a3f\" stroke=\"#343a3f\" stroke-width=\".8\" xlink:href=\"#mcff190a493\"/><g transform=\"translate(347.47 363.08) scale(.1 -.1)\" fill=\"#343a3f\"><defs><path id=\"DejaVuSans-34\" transform=\"scale(.015625)\" d=\"m2419 4116-1594-2491h1594v2491zm-166 550h794v-3041h666v-525h-666v-1100h-628v1100h-2106v609l1940 2957z\"/></defs><use xlink:href=\"#DejaVuSans-34\"/></g><use x=\"424.044998\" y=\"348.478125\" fill=\"#343a3f\" stroke=\"#343a3f\" stroke-width=\".8\" xlink:href=\"#mcff190a493\"/><g transform=\"translate(420.86 363.08) scale(.1 -.1)\" fill=\"#343a3f\"><defs><path id=\"DejaVuSans-35\" transform=\"scale(.015625)\" d=\"m691 4666h2478v-532h-1900v-1143q137 47 274 70 138 23 276 23 781 0 1237-428 457-428 457-1159 0-753-469-1171-469-417-1322-417-294 0-599 50-304 50-629 150v635q281-153 581-228t634-75q541 0 856 284 316 284 316 772 0 487-316 771-315 285-856 285-253 0-505-56-251-56-513-175v2344z\"/></defs><use xlink:href=\"#DejaVuSans-35\"/></g><use x=\"497.440418\" y=\"348.478125\" fill=\"#343a3f\" stroke=\"#343a3f\" stroke-width=\".8\" xlink:href=\"#mcff190a493\"/><g transform=\"translate(494.26 363.08) scale(.1 -.1)\" fill=\"#343a3f\"><defs><path id=\"DejaVuSans-36\" transform=\"scale(.015625)\" d=\"m2113 2584q-425 0-674-291-248-290-248-796 0-503 248-796 249-292 674-292t673 292q248 293 248 796 0 506-248 796-248 291-673 291zm1253 1979v-575q-238 112-480 171-242 60-480 60-625 0-955-422-329-422-376-1275 184 272 462 417 279 145 613 145 703 0 1111-427 408-426 408-1160 0-719-425-1154-425-434-1131-434-810 0-1238 620-428 621-428 1799 0 1106 525 1764t1409 658q238 0 480-47t505-140z\"/></defs><use xlink:href=\"#DejaVuSans-36\"/></g><g transform=\"translate(282.38 376.75) scale(.1 -.1)\" fill=\"#343a3f\"><defs><path id=\"DejaVuSans-78\" transform=\"scale(.015625)\" d=\"m3513 3500-1266-1703 1331-1797h-678l-1019 1375-1018-1375h-679l1360 1831-1244 1669h678l928-1247 928 1247h679z\"/></defs><use xlink:href=\"#DejaVuSans-78\"/></g><defs><path id=\"m5ca2fdd7b5\" d=\"m0 0h-3.5\" stroke=\"#343a3f\" stroke-width=\".8\"/></defs><use x=\"34.240625\" y=\"336.678273\" fill=\"#343a3f\" stroke=\"#343a3f\" stroke-width=\".8\" xlink:href=\"#m5ca2fdd7b5\"/><g transform=\"translate(20.878 340.48) scale(.1 -.1)\" fill=\"#343a3f\"><use xlink:href=\"#DejaVuSans-30\"/></g><use x=\"34.240625\" y=\"288.524307\" fill=\"#343a3f\" stroke=\"#343a3f\" stroke-width=\".8\" xlink:href=\"#m5ca2fdd7b5\"/><g transform=\"translate(20.878 292.32) scale(.1 -.1)\" fill=\"#343a3f\"><use xlink:href=\"#DejaVuSans-31\"/></g><use x=\"34.240625\" y=\"240.37034\" fill=\"#343a3f\" stroke=\"#343a3f\" stroke-width=\".8\" xlink:href=\"#m5ca2fdd7b5\"/><g transform=\"translate(20.878 244.17) scale(.1 -.1)\" fill=\"#343a3f\"><use xlink:href=\"#DejaVuSans-32\"/></g><use x=\"34.240625\" y=\"192.216373\" fill=\"#343a3f\" stroke=\"#343a3f\" stroke-width=\".8\" xlink:href=\"#m5ca2fdd7b5\"/><g transform=\"translate(20.878 196.02) scale(.1 -.1)\" fill=\"#343a3f\"><use xlink:href=\"#DejaVuSans-33\"/></g><use x=\"34.240625\" y=\"144.062406\" fill=\"#343a3f\" stroke=\"#343a3f\" stroke-width=\".8\" xlink:href=\"#m5ca2fdd7b5\"/><g transform=\"translate(20.878 147.86) scale(.1 -.1)\" fill=\"#343a3f\"><use xlink:href=\"#DejaVuSans-34\"/></g><use x=\"34.240625\" y=\"95.908439\" fill=\"#343a3f\" stroke=\"#343a3f\" stroke-width=\".8\" xlink:href=\"#m5ca2fdd7b5\"/><g transform=\"translate(20.878 99.708) scale(.1 -.1)\" fill=\"#343a3f\"><use xlink:href=\"#DejaVuSans-35\"/></g><use x=\"34.240625\" y=\"47.754472\" fill=\"#343a3f\" stroke=\"#343a3f\" stroke-width=\".8\" xlink:href=\"#m5ca2fdd7b5\"/><g transform=\"translate(20.878 51.554) scale(.1 -.1)\" fill=\"#343a3f\"><use xlink:href=\"#DejaVuSans-36\"/></g><g transform=\"translate(14.798 188.36) rotate(-90) scale(.1 -.1)\" fill=\"#343a3f\"><defs><path id=\"DejaVuSans-79\" transform=\"scale(.015625)\" d=\"m2059-325q-243-625-475-815-231-191-618-191h-460v481h338q237 0 368 113 132 112 291 531l103 262-1415 3444h609l1094-2737 1094 2737h609l-1538-3825z\"/></defs><use xlink:href=\"#DejaVuSans-79\"/></g><path d=\"m34.241 348.48v-326.16\" fill=\"none\" stroke=\"#343a3f\" stroke-linecap=\"square\" stroke-width=\".8\"/><path d=\"m34.241 348.48h502.2\" fill=\"none\" stroke=\"#343a3f\" stroke-linecap=\"square\" stroke-width=\".8\"/><g transform=\"translate(225.13 16.318) scale(.12 -.12)\" fill=\"#343a3f\"><defs><path id=\"DejaVuSans-54\" transform=\"scale(.015625)\" d=\"m-19 4666h3947v-532h-1656v-4134h-634v4134h-1657v532z\"/><path id=\"DejaVuSans-72\" transform=\"scale(.015625)\" d=\"m2631 2963q-97 56-211 82-114 27-251 27-488 0-749-317t-261-911v-1844h-578v3500h578v-544q182 319 472 473 291 155 707 155 59 0 131-8 72-7 159-23l3-590z\"/><path id=\"DejaVuSans-61\" transform=\"scale(.015625)\" d=\"m2194 1759q-697 0-966-159t-269-544q0-306 202-486 202-179 548-179 479 0 768 339t289 901v128h-572zm1147 238v-1997h-575v531q-197-318-491-470t-719-152q-537 0-855 302-317 302-317 808 0 590 395 890 396 300 1180 300h807v57q0 397-261 614t-733 217q-300 0-585-72-284-72-546-216v532q315 122 612 182 297 61 578 61 760 0 1135-394 375-393 375-1193z\"/><path id=\"DejaVuSans-69\" transform=\"scale(.015625)\" d=\"m603 3500h575v-3500h-575v3500zm0 1363h575v-729h-575v729z\"/><path id=\"DejaVuSans-6e\" transform=\"scale(.015625)\" d=\"m3513 2113v-2113h-575v2094q0 497-194 743-194 247-581 247-466 0-735-297-269-296-269-809v-1978h-578v3500h578v-544q207 316 486 472 280 156 646 156 603 0 912-373 310-373 310-1098z\"/><path id=\"DejaVuSans-67\" transform=\"scale(.015625)\" d=\"m2906 1791q0 625-258 968-257 344-723 344-462 0-720-344-258-343-258-968 0-622 258-966t720-344q466 0 723 344 258 344 258 966zm575-1357q0-893-397-1329-396-436-1215-436-303 0-572 45t-522 139v559q253-137 500-202 247-66 503-66 566 0 847 295t281 892v285q-178-310-456-463t-666-153q-643 0-1037 490-394 491-394 1301 0 812 394 1302 394 491 1037 491 388 0 666-153t456-462v531h575v-3066z\"/><path id=\"DejaVuSans-26\" transform=\"scale(.015625)\" d=\"m1556 2509q-284-253-417-505-133-251-133-526 0-456 331-759 332-303 832-303 297 0 556 98 259 99 488 299l-1657 1696zm441 350 1587-1625q185 279 288 596t122 673h581q-37-412-200-816-162-403-453-796l872-891h-788l-447 459q-325-278-681-414t-765-136q-754 0-1232 430t-478 1102q0 400 209 751 210 352 629 661-150 197-229 392-78 196-78 383 0 506 347 814t922 308q260 0 517-56 258-56 524-169v-569q-272 147-519 223-247 77-459 77-328 0-533-174-205-173-205-448 0-159 92-320 93-161 377-455z\"/><path id=\"DejaVuSans-65\" transform=\"scale(.015625)\" d=\"m3597 1894v-281h-2644q38-594 358-905t892-311q331 0 642 81t618 244v-544q-310-131-635-200t-659-69q-838 0-1327 487-489 488-489 1320 0 859 464 1363 464 505 1252 505 706 0 1117-455 411-454 411-1235zm-575 169q-6 471-264 752-258 282-683 282-481 0-770-272t-333-766l2050 4z\"/><path id=\"DejaVuSans-73\" transform=\"scale(.015625)\" d=\"m2834 3397v-544q-243 125-506 187-262 63-544 63-428 0-642-131t-214-394q0-200 153-314t616-217l197-44q612-131 870-370t258-667q0-488-386-773-386-284-1061-284-281 0-586 55t-642 164v594q319-166 628-249 309-82 613-82 406 0 624 139 219 139 219 392 0 234-158 359-157 125-692 241l-200 47q-534 112-772 345-237 233-237 639 0 494 350 762 350 269 994 269 318 0 599-47 282-46 519-140z\"/><path id=\"DejaVuSans-74\" transform=\"scale(.015625)\" d=\"m1172 4494v-994h1184v-447h-1184v-1900q0-428 117-550t477-122h590v-481h-590q-666 0-919 248-253 249-253 905v1900h-422v447h422v994h578z\"/><path id=\"DejaVuSans-44\" transform=\"scale(.015625)\" d=\"m1259 4147v-3628h763q966 0 1414 437 448 438 448 1382 0 937-448 1373t-1414 436h-763zm-631 519h1297q1356 0 1990-564 635-564 635-1764 0-1207-638-1773-637-565-1987-565h-1297v4666z\"/></defs><use xlink:href=\"#DejaVuSans-54\"/><use x=\"46.333984\" xlink:href=\"#DejaVuSans-72\"/><use x=\"87.447266\" xlink:href=\"#DejaVuSans-61\"/><use x=\"148.726562\" xlink:href=\"#DejaVuSans-69\"/><use x=\"176.509766\" xlink:href=\"#DejaVuSans-6e\"/><use x=\"239.888672\" xlink:href=\"#DejaVuSans-69\"/><use x=\"267.671875\" xlink:href=\"#DejaVuSans-6e\"/><use x=\"331.050781\" xlink:href=\"#DejaVuSans-67\"/><use x=\"394.527344\" xlink:href=\"#DejaVuSans-20\"/><use x=\"426.314453\" xlink:href=\"#DejaVuSans-26\"/><use x=\"504.292969\" xlink:href=\"#DejaVuSans-20\"/><use x=\"536.080078\" xlink:href=\"#DejaVuSans-54\"/><use x=\"580.164062\" xlink:href=\"#DejaVuSans-65\"/><use x=\"641.6875\" xlink:href=\"#DejaVuSans-73\"/><use x=\"693.787109\" xlink:href=\"#DejaVuSans-74\"/><use x=\"732.996094\" xlink:href=\"#DejaVuSans-20\"/><use x=\"764.783203\" xlink:href=\"#DejaVuSans-44\"/><use x=\"841.785156\" xlink:href=\"#DejaVuSans-61\"/><use x=\"903.064453\" xlink:href=\"#DejaVuSans-74\"/><use x=\"942.273438\" xlink:href=\"#DejaVuSans-61\"/></g><path d=\"m541.44 103.71h125.15v-76.391h-125.15z\" fill=\"#ffffff\" opacity=\".8\" stroke=\"#cccccc\"/><path d=\"m545.44 35.417h10 10\" fill=\"none\" stroke=\"#ffffff\" stroke-linecap=\"square\"/><defs><path id=\"mcfb68aa876\" d=\"m0 5c1.326 0 2.5979-0.52683 3.5355-1.4645 0.93763-0.93764 1.4645-2.2095 1.4645-3.5355s-0.52683-2.5979-1.4645-3.5355c-0.93764-0.93763-2.2095-1.4645-3.5355-1.4645s-2.5979 0.52683-3.5355 1.4645c-0.93763 0.93764-1.4645 2.2095-1.4645 3.5355s0.52683 2.5979 1.4645 3.5355c0.93764 0.93763 2.2095 1.4645 3.5355 1.4645z\" stroke=\"#ffffff\"/></defs><use x=\"555.440625\" y=\"35.416562\" fill=\"#6929c4\" stroke=\"#ffffff\" xlink:href=\"#mcfb68aa876\"/><g transform=\"translate(573.44 38.917) scale(.1 -.1)\" fill=\"#343a3f\"><defs><path id=\"DejaVuSans-41\" transform=\"scale(.015625)\" d=\"m2188 4044-857-2322h1716l-859 2322zm-357 622h716l1778-4666h-656l-425 1197h-2103l-425-1197h-666l1781 4666z\"/></defs><use xlink:href=\"#DejaVuSans-41\"/></g><path d=\"m545.44 50.095h10 10\" fill=\"none\" stroke=\"#ffffff\" stroke-linecap=\"square\"/><defs><path id=\"m484c4d12d6\" d=\"m0 5c1.326 0 2.5979-0.52683 3.5355-1.4645 0.93763-0.93764 1.4645-2.2095 1.4645-3.5355s-0.52683-2.5979-1.4645-3.5355c-0.93764-0.93763-2.2095-1.4645-3.5355-1.4645s-2.5979 0.52683-3.5355 1.4645c-0.93763 0.93764-1.4645 2.2095-1.4645 3.5355s0.52683 2.5979 1.4645 3.5355c0.93764 0.93763 2.2095 1.4645 3.5355 1.4645z\" stroke=\"#ffffff\"/></defs><use x=\"555.440625\" y=\"50.094687\" fill=\"#1192e8\" stroke=\"#ffffff\" xlink:href=\"#m484c4d12d6\"/><g transform=\"translate(573.44 53.595) scale(.1 -.1)\" fill=\"#343a3f\"><defs><path id=\"DejaVuSans-42\" transform=\"scale(.015625)\" d=\"m1259 2228v-1709h1013q509 0 754 211 246 211 246 645 0 438-246 645-245 208-754 208h-1013zm0 1919v-1406h935q462 0 688 173 227 174 227 530 0 353-227 528-226 175-688 175h-935zm-631 519h1613q722 0 1112-300 391-300 391-853 0-429-200-682t-588-315q466-100 724-418 258-317 258-792 0-625-425-966-425-340-1210-340h-1675v4666z\"/></defs><use xlink:href=\"#DejaVuSans-42\"/></g><path d=\"m545.44 64.773h10 10\" fill=\"none\" stroke=\"#ffffff\" stroke-linecap=\"square\"/><defs><path id=\"m71e254a434\" d=\"m-5 5h10v-10h-10z\" stroke=\"#ffffff\"/></defs><use x=\"555.440625\" y=\"64.772812\" fill=\"#6929c4\" stroke=\"#ffffff\" xlink:href=\"#m71e254a434\"/><g transform=\"translate(573.44 68.273) scale(.1 -.1)\" fill=\"#343a3f\"><defs><path id=\"DejaVuSans-70\" transform=\"scale(.015625)\" d=\"m1159 525v-1856h-578v4831h578v-531q182 312 458 463 277 152 661 152 638 0 1036-506 399-506 399-1331t-399-1332q-398-506-1036-506-384 0-661 152-276 152-458 464zm1957 1222q0 634-261 995t-717 361q-457 0-718-361t-261-995 261-995 718-361q456 0 717 361t261 995z\"/><path id=\"DejaVuSans-64\" transform=\"scale(.015625)\" d=\"m2906 2969v1894h575v-4863h-575v525q-181-312-458-464-276-152-664-152-634 0-1033 506-398 507-398 1332t398 1331q399 506 1033 506 388 0 664-152 277-151 458-463zm-1959-1222q0-634 261-995t717-361 718 361q263 361 263 995t-263 995q-262 361-718 361t-717-361-261-995z\"/><path id=\"DejaVuSans-63\" transform=\"scale(.015625)\" d=\"m3122 3366v-538q-244 135-489 202t-495 67q-560 0-870-355-309-354-309-995t309-996q310-354 870-354 250 0 495 67t489 202v-532q-241-112-499-168-257-57-548-57-791 0-1257 497-465 497-465 1341 0 856 470 1346 471 491 1290 491 265 0 518-55 253-54 491-163z\"/></defs><use xlink:href=\"#DejaVuSans-70\"/><use x=\"63.476562\" xlink:href=\"#DejaVuSans-72\"/><use x=\"102.339844\" xlink:href=\"#DejaVuSans-65\"/><use x=\"163.863281\" xlink:href=\"#DejaVuSans-64\"/><use x=\"227.339844\" xlink:href=\"#DejaVuSans-69\"/><use x=\"255.123047\" xlink:href=\"#DejaVuSans-63\"/><use x=\"310.103516\" xlink:href=\"#DejaVuSans-74\"/><use x=\"349.3125\" xlink:href=\"#DejaVuSans-20\"/><use x=\"381.099609\" xlink:href=\"#DejaVuSans-41\"/></g><path d=\"m545.44 79.451h10 10\" fill=\"none\" stroke=\"#ffffff\" stroke-linecap=\"square\"/><defs><path id=\"me71b1b4003\" d=\"m-5 5h10v-10h-10z\" stroke=\"#ffffff\"/></defs><use x=\"555.440625\" y=\"79.450937\" fill=\"#1192e8\" stroke=\"#ffffff\" xlink:href=\"#me71b1b4003\"/><g transform=\"translate(573.44 82.951) scale(.1 -.1)\" fill=\"#343a3f\"><use xlink:href=\"#DejaVuSans-70\"/><use x=\"63.476562\" xlink:href=\"#DejaVuSans-72\"/><use x=\"102.339844\" xlink:href=\"#DejaVuSans-65\"/><use x=\"163.863281\" xlink:href=\"#DejaVuSans-64\"/><use x=\"227.339844\" xlink:href=\"#DejaVuSans-69\"/><use x=\"255.123047\" xlink:href=\"#DejaVuSans-63\"/><use x=\"310.103516\" xlink:href=\"#DejaVuSans-74\"/><use x=\"349.3125\" xlink:href=\"#DejaVuSans-20\"/><use x=\"381.099609\" xlink:href=\"#DejaVuSans-42\"/></g><path d=\"m545.44 94.129h10 10\" fill=\"none\" stroke=\"#ffffff\" stroke-linecap=\"square\"/><defs><path id=\"m5235149d51\" d=\"m0 7.5c1.989 0 3.8968-0.79025 5.3033-2.1967s2.1967-3.3143 2.1967-5.3033-0.79025-3.8968-2.1967-5.3033-3.3143-2.1967-5.3033-2.1967-3.8968 0.79025-5.3033 2.1967-2.1967 3.3143-2.1967 5.3033 0.79025 3.8968 2.1967 5.3033 3.3143 2.1967 5.3033 2.1967z\" stroke=\"#9f1853\" stroke-width=\"2\"/></defs><use x=\"555.440625\" y=\"94.129062\" fill-opacity=\"0\" stroke=\"#9f1853\" stroke-width=\"2\" xlink:href=\"#m5235149d51\"/><g transform=\"translate(573.44 97.629) scale(.1 -.1)\" fill=\"#343a3f\"><defs><path id=\"DejaVuSans-77\" transform=\"scale(.015625)\" d=\"m269 3500h575l719-2731 715 2731h678l719-2731 716 2731h575l-916-3500h-678l-753 2869-756-2869h-679l-915 3500z\"/><path id=\"DejaVuSans-6f\" transform=\"scale(.015625)\" d=\"m1959 3097q-462 0-731-361t-269-989 267-989q268-361 733-361 460 0 728 362 269 363 269 988 0 622-269 986-268 364-728 364zm0 487q750 0 1178-488 429-487 429-1349 0-859-429-1349-428-489-1178-489-753 0-1180 489-426 490-426 1349 0 862 426 1349 427 488 1180 488z\"/><path id=\"DejaVuSans-6c\" transform=\"scale(.015625)\" d=\"m603 4863h575v-4863h-575v4863z\"/><path id=\"DejaVuSans-66\" transform=\"scale(.015625)\" d=\"m2375 4863v-479h-550q-309 0-430-125-120-125-120-450v-309h947v-447h-947v-3053h-578v3053h-550v447h550v244q0 584 272 851 272 268 862 268h544z\"/></defs><use xlink:href=\"#DejaVuSans-77\"/><use x=\"81.787109\" xlink:href=\"#DejaVuSans-72\"/><use x=\"120.650391\" xlink:href=\"#DejaVuSans-6f\"/><use x=\"181.832031\" xlink:href=\"#DejaVuSans-6e\"/><use x=\"245.210938\" xlink:href=\"#DejaVuSans-67\"/><use x=\"308.6875\" xlink:href=\"#DejaVuSans-6c\"/><use x=\"336.470703\" xlink:href=\"#DejaVuSans-79\"/><use x=\"395.650391\" xlink:href=\"#DejaVuSans-20\"/><use x=\"427.4375\" xlink:href=\"#DejaVuSans-63\"/><use x=\"482.417969\" xlink:href=\"#DejaVuSans-6c\"/><use x=\"510.201172\" xlink:href=\"#DejaVuSans-61\"/><use x=\"571.480469\" xlink:href=\"#DejaVuSans-73\"/><use x=\"623.580078\" xlink:href=\"#DejaVuSans-73\"/><use x=\"675.679688\" xlink:href=\"#DejaVuSans-69\"/><use x=\"703.462891\" xlink:href=\"#DejaVuSans-66\"/><use x=\"738.667969\" xlink:href=\"#DejaVuSans-69\"/><use x=\"766.451172\" xlink:href=\"#DejaVuSans-65\"/><use x=\"827.974609\" xlink:href=\"#DejaVuSans-64\"/></g><defs><clipPath id=\"p2422871389\"><rect x=\"34.241\" y=\"22.318\" width=\"502.2\" height=\"326.16\"/></clipPath></defs></svg>"
      ],
      "text/plain": [
       "<Figure size 648x432 with 1 Axes>"
      ]
     },
     "metadata": {
      "needs_background": "light"
     },
     "output_type": "display_data"
    }
   ],
   "source": [
    "from matplotlib.lines import Line2D\n",
    "plt.figure(figsize=(9, 6))\n",
    "\n",
    "for feature, label in zip(TRAIN_DATA, train_labels_oh):\n",
    "    COLOR = 'C1' if label[0] == 0 else 'C0'\n",
    "    plt.scatter(feature[0], feature[1], marker='o', s=100,\n",
    "                color=COLOR)\n",
    "\n",
    "for feature, label, pred in zip(TEST_DATA, test_labels_oh,\n",
    "                                vqc.predict(TEST_DATA)):\n",
    "    COLOR = 'C1' if pred[0] == 0 else 'C0'\n",
    "    plt.scatter(feature[0], feature[1], marker='s', s=100, color=COLOR)\n",
    "    if not np.array_equal(label,pred):  # mark wrongly classified\n",
    "        plt.scatter(feature[0], feature[1], marker='o', s=500,\n",
    "                    linewidths=2.5, facecolor='none', edgecolor='C3')\n",
    "\n",
    "legend_elements = [\n",
    "    Line2D([0], [0], marker='o', c='w', mfc='C1', label='A', ms=10),\n",
    "    Line2D([0], [0], marker='o', c='w', mfc='C0', label='B', ms=10),\n",
    "    Line2D([0], [0], marker='s', c='w', mfc='C1', label='predict A',\n",
    "           ms=10),\n",
    "    Line2D([0], [0], marker='s', c='w', mfc='C0', label='predict B',\n",
    "           ms=10),\n",
    "    Line2D([0], [0], marker='o', c='w', mfc='none', mec='C3',\n",
    "           label='wrongly classified', mew=2, ms=15)\n",
    "]\n",
    "\n",
    "plt.legend(handles=legend_elements, bbox_to_anchor=(1, 1),\n",
    "           loc='upper left')\n",
    "\n",
    "plt.title('Training & Test Data')\n",
    "plt.xlabel('x')\n",
    "plt.ylabel('y')\n",
    "plt.show()"
   ]
  },
  {
   "cell_type": "markdown",
   "metadata": {},
   "source": [
    "訓練された分類器のパフォーマンスは、テストデータでかなり良好であることがわかります。トレーニングの最適化により、おそらく大域的最適解が見つかりました。\n",
    "\n",
    "## 変分訓練\n",
    "\n",
    "すべての変分アルゴリズムに言えますが、変分回路の最適なパラメータの探索に処理時間の大部分がかかり、[訓練のページ](./training-quantum-circuits)で説明されているように、採用する最適化手法に依存します。\n",
    "\n",
    "![](images/vqc/va.svg)\n",
    "\n",
    "損失関数の最小値 $f(\\vec{\\theta})$ が見つかると、最適な回路パラメーター $\\vec{\\theta}^*$ が見つかります。ただし、損失関数と回路パラメータの間には単純な関係はありません。\n",
    "\n",
    "実際、以下の例の丘と谷に示されているように、損失の状況は非常に複雑になる可能性があります。最適化手法は、黒い点と線で示されているように、最小値を探して、損失の状況をナビゲートします。 3つの検索のうち2つは、グローバルなものではなく、ローカルのランドスケープの最小値になります。\n",
    "\n",
    "![](images/vqc/loss-landscape.png)\n",
    "\n",
    "一般に、最適化手法は、勾配ベースの手法と勾配情報を使わない手法の2つのグループに分類できます。最適解を決定するために、勾配ベースの方法は勾配がゼロに等しい極値点を識別します。探索方向が選択され、探索方向は損失関数の導関数によって決定されます。このタイプの最適化の主な欠点は、収束速度が非常に遅くなる可能性があり、最適解を見つける保証がないことです。\n",
    "\n",
    "微分情報が利用できない、または取得が現実的でない場合(たとえば、損失関数の評価にコストがかかる場合や多少ノイズが多い場合)、勾配情報を使わない方法が非常に役立ちます。このような最適化手法は、大域的最適解の探索に対し堅牢な一方で、勾配ベースの方法は局所的最適解に収束する傾向があります。ただし、勾配情報を使わない方法では、特に高次元の探索空間の問題に対して、より高い計算能力が必要になります。\n",
    "\n",
    "![](images/vqc/barren-plateaus.png)\n",
    "\n",
    "どのタイプの最適化方法が使用されているかにかかわらず、損失ランドスケープがかなりフラットである場合、メソッドが検索する方向を決定するのは難しい場合があります。この状況は _[不毛の台地](gloss:barren-plateaus)_ と呼ばれ、参考文献4で研究されました。パラメータ化された量子回路の広いクラスにおいて、任意の合理的な方向に沿った勾配がある一定の精度で非ゼロになる確率は、量子ビットの数の関数として指数関数的に小さくなります。\n",
    "\n",
    "この問題を克服するための1つのアプローチは、量子シミュレーションで採用されているような構造化された初期推定を使用することです。別の可能性は、完全な量子回路を一連の浅いブロックと見なし、いくつかのパラメータをランダムに選択し、残りのパラメーターを選択して、すべての浅い同一の回路のブロックが実効的な回路の深さを制限することです。これは現在研究中の領域です。"
   ]
  },
  {
   "cell_type": "markdown",
   "metadata": {},
   "source": [
    "## 参考文献\n",
    "\n",
    "1. Alberto Peruzzo, Jarrod McClean, Peter Shadbolt, Man-Hong Yung, Xiao-Qi Zhou, Peter J. Love, Alán Aspuru-Guzik and Jeremy L. O'Brien, *A variational eigenvalue solver on a quantum processor*, Nature Communications, 5:4213 (2014), [doi.org:10.1038/ncomms5213](https://doi.org/10.1038/ncomms5213), [arXiv:1304.3061](https://arxiv.org/abs/1304.3061).\n",
    "2. Edward Farhi, Jeffrey Goldstone and Sam Gutmann, *A Quantum Approximate Optimization Algorithm* (2014), [arXiv:1411.4028](https://arxiv.org/abs/1411.4028).\n",
    "3. Vojtech Havlicek, Antonio D. Córcoles, Kristan Temme, Aram W. Harrow, Abhinav  Kandala, Jerry M. Chow and Jay M. Gambetta, *Supervised learning with quantum enhanced feature spaces*, Nature 567, 209-212 (2019), [doi.org:10.1038/s41586-019-0980-2](https://doi.org/10.1038/s41586-019-0980-2), [arXiv:1804.11326](https://arxiv.org/abs/1804.11326).\n",
    "4. Jarrod R. McClean, Sergio Boixo, Vadim N. Smelyanskiy, Ryan Babbush and Hartmut Neven, *Barren plateaus in quantum neural network training landscapes*, Nature Communications volume 9, Article number: 4812 (2018), [doi.org:10.1038/s41467-018-07090-4](https://www.nature.com/articles/s41467-018-07090-4) [arXiv:1803.1117](https://arxiv.org/abs/1803.11173)"
   ]
  },
  {
   "cell_type": "code",
   "execution_count": 16,
   "metadata": {},
   "outputs": [
    {
     "data": {
      "text/html": [
       "<h3>Version Information</h3><table><tr><th>Qiskit Software</th><th>Version</th></tr><tr><td><code>qiskit-terra</code></td><td>0.20.0</td></tr><tr><td><code>qiskit-aer</code></td><td>0.10.4</td></tr><tr><td><code>qiskit-ignis</code></td><td>0.7.0</td></tr><tr><td><code>qiskit-ibmq-provider</code></td><td>0.19.0</td></tr><tr><td><code>qiskit-aqua</code></td><td>0.9.5</td></tr><tr><td><code>qiskit</code></td><td>0.36.0</td></tr><tr><td><code>qiskit-nature</code></td><td>0.4.1</td></tr><tr><td><code>qiskit-finance</code></td><td>0.3.2</td></tr><tr><td><code>qiskit-optimization</code></td><td>0.3.2</td></tr><tr><td><code>qiskit-machine-learning</code></td><td>0.4.0</td></tr><tr><th>System information</th></tr><tr><td>Python version</td><td>3.9.10</td></tr><tr><td>Python compiler</td><td>Clang 13.0.0 (clang-1300.0.29.3)</td></tr><tr><td>Python build</td><td>main, Jan 15 2022 11:48:00</td></tr><tr><td>OS</td><td>Darwin</td></tr><tr><td>CPUs</td><td>8</td></tr><tr><td>Memory (Gb)</td><td>32.0</td></tr><tr><td colspan='2'>Mon Aug 08 15:47:34 2022 BST</td></tr></table>"
      ],
      "text/plain": [
       "<IPython.core.display.HTML object>"
      ]
     },
     "metadata": {},
     "output_type": "display_data"
    }
   ],
   "source": [
    "# pylint: disable=unused-import\n",
    "import qiskit.tools.jupyter\n",
    "%qiskit_version_table"
   ]
  }
 ],
 "metadata": {
  "kernelspec": {
   "display_name": "Python 3",
   "language": "python",
   "name": "python3"
  },
  "language_info": {
   "codemirror_mode": {
    "name": "ipython",
    "version": 3
   },
   "file_extension": ".py",
   "mimetype": "text/x-python",
   "name": "python",
   "nbconvert_exporter": "python",
   "pygments_lexer": "ipython3",
   "version": "3.9"
  }
 },
 "nbformat": 4,
 "nbformat_minor": 4
}
