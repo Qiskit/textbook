{
 "cells": [
  {
   "cell_type": "markdown",
   "metadata": {
    "formulas": {
     "_feature-map-eq": {
      "meaning": "A function that maps the input set to the Hilbert space."
     },
     "_kernel-function": {
      "meaning": "The kernel is a function of two data points that is a representation of the similarity between them."
     },
     "_state": {
      "meaning": "The state is a function of both the data point and the parameters, equivalent to the feature processing applied before the parameterized quantum circuit."
     }
    },
    "gloss": {
     "chair": {
      "text": "A chair is a piece of furniture, made for sitting on. <a href='https://en.wikipedia.org/wiki/Chair'>Read more</a>.",
      "title": "Chair"
     },
     "feature-map": {
      "text": "A function that maps the input set to features in the quantum Hilbert space.",
      "title": "Feature map"
     },
     "hilbert-space": {
      "text": "Hilbert space is what you get when you generalize the 3D space we're used to (called Euclidean space) to as many dimensions as you want. It’s named after David Hilbert. <a href='https://en.wikipedia.org/wiki/Hilbert_space'>Read more</a>.",
      "title": "Hilbert space"
     },
     "input-set": {
      "text": "A collection of data points that the the quantum model will try to learn about.",
      "title": "Input set"
     },
     "quantum-advantage": {
      "text": "“Quantum advantage” is where it will make economic sense to solve a problem using a quantum computer over a conventional computer.",
      "title": "Quantum advantage"
     }
    }
   },
   "source": [
    "# 教師あり学習"
   ]
  },
  {
   "cell_type": "markdown",
   "metadata": {},
   "source": [
    "教師あり学習は、入出力ペアの例題に基づいて入力を出力にマッピングする関数を学習する機械学習タスクです。一連の訓練用例題から構成されるラベル付き訓練データから関数を推測し、そのパフォーマンスは一連のテスト用の例題を使用して計算されます。\n",
    "\n",
    "![](images/supervised/supervised-learning.png)\n",
    "\n",
    "教師あり学習は、**分類**と**回帰**の2種類の問題に分けることができます。\n",
    "\n",
    "- **分類**では、データを特定のカテゴリに割り当てるように求められます。例:[椅子](gloss:chair)やテーブルのラベル付き画像セットが与えられるとき、新しい写真から椅子やテーブルを特定しようとします。\n",
    "- **回帰**では、従属変数と独立変数の関係の理解が求められます。これは一般的に予測を行うために使用されます。たとえば、一連の過去の株価が与えられた場合、将来の株価を予測します。"
   ]
  },
  {
   "cell_type": "markdown",
   "metadata": {},
   "source": [
    "近い将来の量子教師あり学習における最近の研究の焦点は分類問題にあり、特に2つの方法があります。\n",
    "\n",
    "## 量子変分分類\n",
    "\n",
    "![](images/supervised/vqc-circuit.svg)\n",
    "\n",
    "[入力セット](gloss:input-set) $\\mathcal{X}$ と量子[ヒルベルト空間](gloss:hilbert-space) $\\mathcal{H}$ が与えられた場合、量子[特徴マップ](gloss:feature-map)を使ってデータポイント $ \\vec{x} _i \\in \\mathcal{X}$ を量子状態にエンコードします。すなわち $ \\class{_feature-map-eq}{U_\\Phi ∶ \\mathcal{X} \\rightarrow \\mathcal{H}}$ です。次に、この状態をパラメーター化された量子回路 $W(\\theta)$ で処理します。 結果の状態は $ \\class{_state}{|\\Psi(x_i,\\theta)\\rangle = W(\\theta)| \\Phi(\\vec{x}_i)\\rangle}$ になります。ここで、パラメーターは、トレーニングポイントの $y_i$ ラベルを表すターゲット状態 $|y_i\\rangle $に一致するようにトレーニングによって推定されます。\n",
    "\n",
    "これについては、[次のページ](./variational-classification)で説明します。"
   ]
  },
  {
   "cell_type": "markdown",
   "metadata": {},
   "source": [
    "## 量子カーネル推定\n",
    "\n",
    "![](images/supervised/qke-circuit.svg)\n",
    "\n",
    "入力セット $\\mathcal{X}$ と量子ヒルベルト空間 $\\mathcal{H}$ が与えられると、データポイント $\\vec{x}_i \\in \\mathcal{X}$ は量子特徴マップ、つまり $U_\\Phi ∶ \\mathcal{X} \\rightarrow \\mathcal{H}$ によって量子状態にエンコードされます。 2つの量子エンコードされた量子状態の内積は、カーネルを定義します:\n",
    "\n",
    "$$ \\class{_kernel-function}{K(\\vec{x}_i,\\vec{x}_j)} \\equiv \\langle \\Phi(\\vec{x}_i) | \\Phi(\\vec{x}_j)\\rangle_{\\mathcal{H}}$$\n",
    "\n",
    "これは、古典的な機械学習のカーネルのアナロジーです。\n",
    "\n",
    "これについては、 [量子カーネル推定のページ](./quantum-feature-maps-kernels)で説明されています。"
   ]
  },
  {
   "cell_type": "markdown",
   "metadata": {},
   "source": [
    "どちらの方法でも、データを量子状態にエンコードする方法が必要です。前の[セクション](./data-encoding)で説明したように、量子特徴マップまたはエンコーディングを定義するためのいくつかの戦略があります。これは分類タスクを成功させるための重要なステップであり、最終的に[量子優位性](gloss:quantum-advantage)を得るには、特徴マップが古典的には扱いにくいものである必要があります。 "
   ]
  },
  {
   "cell_type": "markdown",
   "metadata": {},
   "source": [
    "## 参考文献\n",
    "\n",
    "1. Maria Schuld and Francesco Petruccione, *Supervised Learning with Quantum Computers*, Springer 2018, [doi:10.1007/978-3-319-96424-9](https://www.springer.com/gp/book/9783319964232)."
   ]
  }
 ],
 "metadata": {
  "kernelspec": {
   "display_name": "Python 3",
   "language": "python",
   "name": "python3"
  },
  "language_info": {
   "codemirror_mode": {
    "name": "ipython",
    "version": 3
   },
   "file_extension": ".py",
   "mimetype": "text/x-python",
   "name": "python",
   "nbconvert_exporter": "python",
   "pygments_lexer": "ipython3",
   "version": "3.9"
  }
 },
 "nbformat": 4,
 "nbformat_minor": 4
}
