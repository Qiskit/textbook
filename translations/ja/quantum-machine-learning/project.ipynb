{
  "cells": [
    {
      "cell_type": "markdown",
      "metadata": {
      },
      "source": [
        "# プロジェクト"
      ]
    },
    {
      "cell_type": "markdown",
      "metadata": {
        "gloss": {
          "git": {
            "text": "Git is a program you can use to track changes to computer files. Git tracks the entire state of a folder (known as a Git repository).",
            "title": "Git"
          },
          "github": {
            "text": "Github is a website you can use to host your project. Similar to video / image sharing websites, but aimed at software developers. As well as hosting software, Github also makes it easy to display your project and collaborate with others.",
            "title": "GitHub"
          },
          "slack": {
            "text": "Slack is a messaging app.",
            "title": "Slack"
          }
        }
      },
      "source": [
        "## おめでとう！\n",
        "\n",
        "![おめでとう](images/project/congrats.png)\n",
        "\n",
        "このコースの教材部分を終了しました。\n",
        "\n",
        "## ガイド付きプロジェクトの完了\n",
        "\n",
        "量子コンピューティングの学びを楽しんでいただけたと願います。もしそうなら、プロジェクトにトライすることをお勧めします。プロジェクトでは、あなたが出会った興味が持てる領域を選び、調査します。プロジェクトの最終的な形式は調査結果を紹介するブログ投稿からQiskit自体の改善まであなたの自由です。\n",
        "\n",
        "### ステップ1：コミュニティとつながる\n",
        "\n",
        "まだ参加していない場合は、Qiskitの[Slack](gloss:slack)ワークスペースは質問をしたりサポートを受けたりするのに最適な場所です。 Qiskitやこのオンライン教科書の開発者がいます。もちろんたくさんの学生やファンもいます。[このリンク](https://qisk.it/join-slack)から参加できるので、 [`#textbook-projects`](https://qiskit.slack.com/archives/C028AGU6KDX)チャンネルで自己紹介しましょう。\n",
        "\n",
        "### ステップ2：GitHubを使い始める\n",
        "\n",
        "[GitHub](gloss:github)を使用すると、次のことができます。\n",
        "\n",
        "- 作成したコードを見せる\n",
        "- [GitHub Pages](https://pages.github.com/)を使用して、独自のWebページ(ブログやオンラインデモなど)を作成する\n",
        "- [Qiskit](https://github.com/Qiskit/qiskit-terra)をフォークして、issueに取り組み始める\n",
        "\n",
        "[Git](gloss:git)やGitHubは優れたツールですが、かなりの専門用語もあります。これらの用語に出くわしたときのために、いくつかのツールチップを入れておきます。\n",
        "\n",
        "[ここ](https://docs.github.com/en/get-started/quickstart)からGitHubのクイックスタートガイドを確認することができます。"
      ]
    },
    {
      "cell_type": "markdown",
      "metadata": {
      },
      "source": [
        "### ステップ3：プロジェクトを決定する\n",
        "\n",
        "プロジェクトはあなたの好きなものなら何でも構いません。アイデアを[`#textbook-projects`](https://qiskit.slack.com/archives/C028AGU6KDX) Slackチャネルに投稿して、メンターからアドバイスを得たり、他の人と協力したりすることができます。\n",
        "\n",
        "以下はあなたの想像力を働かせるためのアイデアです。箇条書きは、おおよそ簡単なプロジェクトから難しいプロジェクトの順に並べられています。この中の1つを利用したり、適応させたり、まったく別のことをすることもできます。\n",
        "\n",
        "<!-- ::: q-block.tabs -->\n",
        "\n",
        "## プロジェクトのアイデア\n",
        "\n",
        "<!-- ::: tab -->\n",
        "\n",
        "### 軽めのプロジェクト\n",
        "\n",
        "書くことが好きなら\n",
        "\n",
        "- あなたが学んだことやその経験がどうだったかを紹介するブログを投稿しましょう。\n",
        "- 古典機械学習に対する量子機械学習の疑わしい利点を紹介するブログを投稿しましょう。あなたはそれを素人や量子に携わっていない開発者、または量子コンピューター科学者(または他の誰か)に向けて投稿することができます。最も有望な分野は何ですか？現在の課題はどこにありますか？\n",
        "\n",
        "<!-- ::: tab -->\n",
        "\n",
        "### 実装\n",
        "\n",
        "このコースのものや別のリソースを実装または適応できます。アイデアは次のとおりです。\n",
        "\n",
        "- QGANページでは、QGANを使用して指定されたいくつかの分布を近似しました。任意のターゲット分布を入力として受け取り、その分布を近似する回路を出力する一般化されたPython関数を作成してみましょう。\n",
        "\n",
        "- 次のような最も人気のある古典データセットから始めてみましょう。\n",
        "\n",
        "    - [Iris dataset](https://scikit-learn.org/stable/auto_examples/datasets/plot_iris_dataset.html)\n",
        "    - [Wine dataset](https://archive.ics.uci.edu/ml/datasets/wine)\n",
        "    - [MNIST dataset](http://yann.lecun.com/exdb/mnist/)\n",
        "    - [CIFAR 10 dataset](https://www.cs.toronto.edu/~kriz/cifar.html)\n",
        "\n",
        "    さまざまなエンコーディングおよび最適化手法の長所と短所について議論しましょう。\n",
        "\n",
        "- (任意の)データセットのデータ再アップロード分類器を実装しましょう。([この論文](https://quantum-journal.org/papers/q-2020-02-06-226/pdf/)や[この論文](https://journals.aps.org/pra/pdf/10.1103/PhysRevA.104.012405)を参照してインスピレーションを得てください。）\n",
        "\n",
        "<!-- ::: tab -->\n",
        "\n",
        "### 調査\n",
        "\n",
        "量子機械学習の技術分野を調査し、調査結果をまとめることができます。たとえば、次のことができます。\n",
        "\n",
        "- 各ansatz(`ZZFeatureMap` 、 `TwoLocal`)をベンチマークし、各タスクのコストが最も低いものを提案しましょう。\n",
        "- 古典機械学習方法を分析し、量子回路を使用することでメリットが得られる可能性のある場所を見つけましょう。\n",
        "- [変分量子生成器に関するこの論文](https://arxiv.org/abs/1901.00848)を読んでQGANを拡張して、特定の連続分布(たとえば、連続4Qガウス分布)を学習させてみましょう。\n",
        "- [ansatzの表現能力や勾配の大きさ、および不毛な台地に関するこの論文](https://arxiv.org/pdf/2101.02138.pdf)を読んで、表現力と不毛な高原との関係について書くか、実験的に評価しましょう。\n",
        "- 他のデータエンコーディングのスキームや回路に与える影響を調べてみましょう。([この論文](https://arxiv.org/pdf/2102.04032.pdf)を参照)\n",
        "- このコースで使用されている手法を量子データセット(たとえば[、このデータセット](https://arxiv.org/pdf/2109.03400.pdf)や[このデータセット](https://arxiv.org/pdf/2108.06661.pdf))にどのように適用できるかを調査しましょう。利点および、または制限は何ですか？\n",
        "\n",
        "<!-- ::: -->\n",
        "\n",
        "<!-- ::: -->"
      ]
    },
    {
      "cell_type": "markdown",
      "metadata": {
      },
      "source": [
        "### ステップ4：楽みましょう！\n",
        "\n",
        "目標に向かって動き始めましょう。プロジェクトが難しすぎる、行き詰まる、または単に退屈な場合は、 [`#textbook-projects`](https://qiskit.slack.com/archives/C028AGU6KDX)チャネルで助けを求めましょう。メンターは正しい方向に導いたり、プロジェクトの目標を調整する手助けをしてくれるでしょう。\n",
        "\n",
        "### ステップ5：取り組みを共有しましょう\n",
        "\n",
        "時間と労力を費やした後、 [`#textbook-projects`](https://qiskit.slack.com/archives/C028AGU6KDX)チャンネルであなたの取り組みを他の人と共有しましょう。 GitHubプロフィールとGitHub pagesのWebページを管理している場合は、これを使用して自分の知識や経験を他の人に証明できます(採用や面接など)。"
      ]
    }
  ],
  "metadata": {
    "kernelspec": {
      "display_name": "Python 3",
      "language": "python",
      "name": "python3"
    },
    "language_info": {
      "codemirror_mode": {
        "name": "ipython",
        "version": 3
      },
      "file_extension": ".py",
      "mimetype": "text/x-python",
      "name": "python",
      "nbconvert_exporter": "python",
      "pygments_lexer": "ipython3",
      "version": "3.9"
    }
  },
  "nbformat": 4,
  "nbformat_minor": 4
}
