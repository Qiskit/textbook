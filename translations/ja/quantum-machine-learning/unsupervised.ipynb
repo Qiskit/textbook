{
 "cells": [
  {
   "cell_type": "markdown",
   "metadata": {},
   "source": [
    "# 教師なし学習"
   ]
  },
  {
   "cell_type": "markdown",
   "metadata": {},
   "source": [
    "教師なし学習は、ラベルのないデータのみに基づいてデータのパターンと傾向を見つけて学習する機械学習タスクです。\n",
    "\n",
    "![](images/unsupervised/hero.png)\n",
    "\n",
    "さまざまな教師なし学習タスクに対して多くの古典アルゴリズムと量子アルゴリズムがあります。例えば主成分分析(PCA)やクラスタリング、変分オートエンコーダー(VAE)、敵対的生成ネットワーク(GAN)などです。次のページではGANに焦点を当てます。\n",
    "\n",
    "近い将来の量子教師なし学習における最近の研究の焦点は、リンクのセクションで詳細に説明されているGANの量子アナロジーです。\n",
    "\n",
    "## 量子生成的敵対的ネットワーク\n",
    "\n",
    "![](images/qgan/gan_general_flow.svg)\n",
    "\n",
    "確率分布 $P_\\text{real}$ からの一連の (古典的または量子的な) データが与えられると、敵対的生成ネットワークは生成器 $G_\\theta$ と識別器 $D_\\phi$ を同時にトレーニングして、 $P_\\text{real}$ と見分けがつかないサンプルを $P_G$ からの生成します。 GAN の最適化問題は次のように定式化されます。\n",
    "\n",
    "$$\\min_G \\max_D \\vec{E}_{x \\sim P_\\text{real}} \\left [ \\log D(x) \\right ] + \\vec{E}_{z \\sim P_G} [\\log ( 1- D(G(z)))] $$\n",
    "\n",
    "$G_\\theta$ と $D_\\phi$ はどちらも、古典または量子機械学習モデルにすることができます。\n",
    "\n",
    "これについては、[次のページ](./quantum-generative-adversarial-networks)で説明します。"
   ]
  },
  {
   "cell_type": "markdown",
   "metadata": {},
   "source": [
    "## 参考文献\n",
    "\n",
    "1. Goodfellow, I., Pouget-Abadie, J., Mirza, M., Xu, B., Warde-Farley, D., Ozair, S., ... &amp; Bengio, Y. (2014). Generative adversarial Networks. Advances in neural information processing systems, 27., [doi.org:10.48550/arXiv.1406.2661](https://doi.org/10.48550/arXiv.1406.2661), [arXiv:1406.2661](https://arxiv.org/abs/1406.2661)\n",
    "\n",
    "<!-- vale QiskitTextbook.Spelling = NO -->\n",
    "\n",
    "1. Zoufal, C., Lucchi, A., &amp; Woerner, S. (2019). Quantum generative adversarial networks for learning and loading random distributions. npj Quantum Information, 5(1), 1-9., [doi.org:10.1038/s41534-019-0223-2](https://doi.org/10.1038/s41534-019-0223-2), [arXiv:1904.00043](https://arxiv.org/abs/1904.00043)\n",
    "\n",
    "2. Amin, M. H., Andriyash, E., Rolfe, J., Kulchytskyy, B., &amp; Melko, R. (2018). Quantum Boltzmann machine. Physical Review X, 8(2), 021050., [doi.org:10.1103/PhysRevX.8.021050)](https://doi.org/10.1103/PhysRevX.8.021050), [arXiv:1601.02036](https://arxiv.org/abs/1601.02036)"
   ]
  }
 ],
 "metadata": {
  "kernelspec": {
   "display_name": "Python 3",
   "language": "python",
   "name": "python3"
  },
  "language_info": {
   "codemirror_mode": {
    "name": "ipython",
    "version": 3
   },
   "file_extension": ".py",
   "mimetype": "text/x-python",
   "name": "python",
   "nbconvert_exporter": "python",
   "pygments_lexer": "ipython3",
   "version": "3.9"
  }
 },
 "nbformat": 4,
 "nbformat_minor": 4
}
