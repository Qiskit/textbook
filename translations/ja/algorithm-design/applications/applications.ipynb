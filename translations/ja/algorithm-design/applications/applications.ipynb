{
 "cells": [
  {
   "cell_type": "markdown",
   "metadata": {},
   "source": [
    "## 例とアプリケーション\n",
    "\n",
    "このレッスンでは、いくつかの変分アルゴリズムの例とその適用方法について説明します。\n",
    "\n",
    "- カスタム変分アルゴリズムの書き方\n",
    "- 変分アルゴリズムを適用して最小固有値を見つける方法\n",
    "- 変分アルゴリズムを利用してアプリケーションのユースケースを解決する方法"
   ]
  },
  {
   "cell_type": "markdown",
   "metadata": {},
   "source": [
    "### 問題の定義\n",
    "\n",
    "変分アルゴリズムを使用して、次の観測可能量の固有値を見つけたいと想像してください。\n",
    "\n",
    "$$\n",
    "\\hat{O}_1 = 2 II - 2 XX + 3 YY - 3 ZZ,\n",
    "$$\n",
    "\n",
    "この観測可能量は次の固有値を持ちます。\n",
    "\n",
    "$$\n",
    "\\left\\{\n",
    "\\begin{array}{c}\n",
    "\\lambda_0 = -6 \\\\\n",
    "\\lambda_1 = 4 \\\\\n",
    "\\lambda_2 = 4 \\\\\n",
    "\\lambda_3 = 6\n",
    "\\end{array}\n",
    "\\right\\}\n",
    "$$\n",
    "\n",
    "そして固有状態：\n",
    "\n",
    "$$\n",
    "\\left\\{\n",
    "\\begin{array}{c}\n",
    "|\\phi_0\\rangle = \\frac{1}{\\sqrt{2}}(|00\\rangle + |11\\rangle)\\\\\n",
    "|\\phi_1\\rangle = \\frac{1}{\\sqrt{2}}(|00\\rangle - |11\\rangle)\\\\\n",
    "|\\phi_2\\rangle = \\frac{1}{\\sqrt{2}}(|01\\rangle - |10\\rangle)\\\\\n",
    "|\\phi_3\\rangle = \\frac{1}{\\sqrt{2}}(|01\\rangle + |10\\rangle)\n",
    "\\end{array}\n",
    "\\right\\}\n",
    "$$"
   ]
  },
  {
   "cell_type": "code",
   "execution_count": null,
   "metadata": {},
   "outputs": [],
   "source": [
    "from qiskit.quantum_info import SparsePauliOp\n",
    "\n",
    "observable = SparsePauliOp.from_list([(\"II\", 2), (\"XX\", -2), (\"YY\", 3), (\"ZZ\", -3)])"
   ]
  },
  {
   "cell_type": "markdown",
   "metadata": {},
   "source": [
    "## カスタム VQE\n",
    "\n",
    "最初に、VQE インスタンスを手動で構築して $\\hat{O}_1$ の最小固有値を見つける方法を調べます。これには、このコースで説明したさまざまなテクニックが組み込まれています。 "
   ]
  },
  {
   "cell_type": "code",
   "execution_count": null,
   "metadata": {},
   "outputs": [],
   "source": [
    "from qiskit.circuit.library import TwoLocal\n",
    "from qiskit.quantum_info import SparsePauliOp\n",
    "from qiskit import QuantumCircuit\n",
    "from qiskit_ibm_runtime import QiskitRuntimeService, Estimator\n",
    "import numpy as np\n",
    "\n",
    "# Add your token below\n",
    "service = QiskitRuntimeService(\n",
    "    channel=\"ibm_quantum\",\n",
    ")\n",
    "\n",
    "def cost_function_vqe(theta):\n",
    "    observable = SparsePauliOp.from_list([(\"II\", 2), (\"XX\", -2), (\"YY\", 3), (\"ZZ\", -3)])\n",
    "    reference_circuit = QuantumCircuit(2)\n",
    "    reference_circuit.x(0)\n",
    "\n",
    "    variational_form = TwoLocal(\n",
    "        2,\n",
    "        rotation_blocks=[\"rz\", \"ry\"],\n",
    "        entanglement_blocks=\"cx\",\n",
    "        entanglement=\"linear\",\n",
    "        reps=1,\n",
    "    )\n",
    "    ansatz = reference_circuit.compose(variational_form)\n",
    "\n",
    "    backend = service.backend(\"ibmq_qasm_simulator\")\n",
    "    \n",
    "    # Use estimator to get the expected values corresponding to each ansatz\n",
    "    estimator = Estimator(session=backend)\n",
    "    job = estimator.run(ansatz, observable, theta)\n",
    "    values = job.result().values\n",
    "\n",
    "    return values"
   ]
  },
  {
   "cell_type": "markdown",
   "metadata": {},
   "source": [
    "このコスト関数を使用して、最適なパラメーターを計算できます"
   ]
  },
  {
   "cell_type": "code",
   "execution_count": null,
   "metadata": {},
   "outputs": [],
   "source": [
    "from qiskit.algorithms.optimizers import COBYLA\n",
    "\n",
    "initial_theta = np.ones(8)\n",
    "optimizer = COBYLA()\n",
    "\n",
    "optimizer_result = optimizer.minimize(fun=cost_function_vqe, x0=initial_theta)\n",
    "\n",
    "optimal_parameters = optimizer_result.x\n",
    "print(optimal_parameters)"
   ]
  },
  {
   "cell_type": "markdown",
   "metadata": {},
   "source": [
    "最後に、最適パラメーターを使用して最小固有値を計算できます。"
   ]
  },
  {
   "cell_type": "code",
   "execution_count": null,
   "metadata": {},
   "outputs": [],
   "source": [
    "observable = SparsePauliOp.from_list([(\"II\", 2), (\"XX\", -2), (\"YY\", 3), (\"ZZ\", -3)])\n",
    "reference_circuit = QuantumCircuit(2)\n",
    "reference_circuit.x(0)\n",
    "\n",
    "variational_form = TwoLocal(\n",
    "    2,\n",
    "    rotation_blocks=[\"rz\", \"ry\"],\n",
    "    entanglement_blocks=\"cx\",\n",
    "    entanglement=\"linear\",\n",
    "    reps=1,\n",
    ")\n",
    "ansatz = reference_circuit.compose(variational_form)\n",
    "solution = ansatz.bind_parameters(optimal_parameters)\n",
    "\n",
    "backend = service.backend(\"ibmq_qasm_simulator\")\n",
    "estimator = Estimator(session=backend)\n",
    "job = estimator.run(solution, observable)\n",
    "values = job.result().values\n",
    "\n",
    "experimental_min_eigenvalue = values[0]\n",
    "print(experimental_min_eigenvalue)"
   ]
  },
  {
   "cell_type": "code",
   "execution_count": null,
   "metadata": {},
   "outputs": [],
   "source": [
    "from numpy.linalg import eigvalsh\n",
    "\n",
    "solution_eigenvalue = min(eigvalsh(observable.to_matrix()))\n",
    "print(\n",
    "    f\"Percent error: {abs((experimental_min_eigenvalue - solution_eigenvalue)/solution_eigenvalue):.2e}\"\n",
    ")"
   ]
  },
  {
   "cell_type": "markdown",
   "metadata": {},
   "source": [
    "ご覧のとおり、結果は理想に非常に近いものになっています。 "
   ]
  },
  {
   "cell_type": "markdown",
   "metadata": {},
   "source": [
    "## Qiskit の VQE の構成"
   ]
  },
  {
   "cell_type": "markdown",
   "metadata": {},
   "source": [
    "便宜上、既存の Qiskit [VQE](https://qiskit.org/documentation/stubs/qiskit.algorithms.minimum_eigensolvers.VQE.html)の実装を使うことができて、最初の観測可能量 $\\hat{O}_1$ の最小固有値を見つけ、すべての出力結果を調べることもできます。\n",
    "\n",
    "この場合、以下を使用します。\n",
    "\n",
    "- 参照演算子 $\\equiv I$ の調査を開始して、これにより速度が向上することを示します。\n",
    "- Qiskit Terra の[`Estimator`](https://qiskit.org/documentation/stubs/qiskit.primitives.Estimator.html#qiskit.primitives.Estimator)\n",
    "- [`SLSQP`](https://qiskit.org/documentation/stubs/qiskit.algorithms.optimizers.SLSQP.html) (つまり、逐次最小二乗法プログラミング) オプティマイザー\n",
    "- さらに、 `SLSQP`オプティマイザーの初期ポイントを $\\vec\\theta_0 = (1, \\cdots, 1)$ に設定します。"
   ]
  },
  {
   "cell_type": "code",
   "execution_count": null,
   "metadata": {},
   "outputs": [],
   "source": [
    "from qiskit.primitives import Estimator\n",
    "from qiskit.algorithms.optimizers import SLSQP\n",
    "from qiskit.algorithms.minimum_eigensolvers import VQE\n",
    "import numpy as np\n",
    "\n",
    "estimator = Estimator()\n",
    "optimizer = SLSQP()\n",
    "ansatz = TwoLocal(\n",
    "    2,\n",
    "    rotation_blocks=[\"rz\", \"ry\"],\n",
    "    entanglement_blocks=\"cx\",\n",
    "    entanglement=\"linear\",\n",
    "    reps=1,\n",
    ")\n",
    "\n",
    "vqe = VQE(estimator, ansatz, optimizer, initial_point=np.ones(8))"
   ]
  },
  {
   "cell_type": "markdown",
   "metadata": {},
   "source": [
    "`VQE`インスタンスを初期化したので、 [`VQE.compute_minimum_eigenvalue`](https://qiskit.org/documentation/stubs/qiskit.algorithms.minimum_eigensolvers.VQE.compute_minimum_eigenvalue.html#qiskit.algorithms.minimum_eigensolvers.VQE.compute_minimum_eigenvalue)メソッドで結果を取得できます。結果を見てみましょう。"
   ]
  },
  {
   "cell_type": "code",
   "execution_count": null,
   "metadata": {},
   "outputs": [],
   "source": [
    "result = vqe.compute_minimum_eigenvalue(observable)\n",
    "print(result)"
   ]
  },
  {
   "cell_type": "markdown",
   "metadata": {},
   "source": [
    "`optimizer_result`を見てみましょう:"
   ]
  },
  {
   "cell_type": "code",
   "execution_count": null,
   "metadata": {},
   "outputs": [],
   "source": [
    "print(result.optimizer_result)"
   ]
  },
  {
   "cell_type": "markdown",
   "metadata": {},
   "source": [
    "ただし、これらすべての情報の中で最も重要な部分は固有値です。理論値と比較してみましょう。"
   ]
  },
  {
   "cell_type": "code",
   "execution_count": null,
   "metadata": {},
   "outputs": [],
   "source": [
    "from numpy.linalg import eigvalsh\n",
    "\n",
    "eigenvalues = eigvalsh(observable.to_matrix())\n",
    "min_eigenvalue = eigenvalues[0]\n",
    "\n",
    "print(\"EIGENVALUES:\")\n",
    "print(f\"  - Theoretical: {min_eigenvalue}.\")\n",
    "print(f\"  - VQE: {result.eigenvalue}\")\n",
    "print(\n",
    "    f\"Percent error >> {abs((result.eigenvalue - min_eigenvalue)/min_eigenvalue):.2e}\"\n",
    ")"
   ]
  },
  {
   "cell_type": "markdown",
   "metadata": {},
   "source": [
    "ご覧のとおり、結果は理想に非常に近いものになっています。\n",
    "\n",
    "ただし、固有状態は`results`の一部ではなかったため、まだ見ていません。この目的のために、最適なパラメーター値`result.optimal_parameters` を `results.optimal_circuit`にバインドし、そのバインドされた (つまり、パラメーター化されていない) 回路から[`Statevector`](https://qiskit.org/documentation/stubs/qiskit.quantum_info.Statevector.html)を定義します。"
   ]
  },
  {
   "cell_type": "code",
   "execution_count": null,
   "metadata": {},
   "outputs": [],
   "source": [
    "from qiskit.quantum_info import Statevector\n",
    "\n",
    "optimal_circuit = result.optimal_circuit.bind_parameters(result.optimal_parameters)\n",
    "optimal_vector = Statevector(optimal_circuit)\n",
    "\n",
    "rounded_optimal_vector = np.round(optimal_vector.data, 3)\n",
    "print(f\"EIGENSTATE: {rounded_optimal_vector}\")"
   ]
  },
  {
   "cell_type": "markdown",
   "metadata": {},
   "source": [
    "この結果は、 $\\frac{1}{\\sqrt{2}}(|00\\rangle + |11\\rangle) \\equiv [\\frac{1}{\\sqrt{2} },0,0,\\frac{1}{\\sqrt{2}}]$ の理論上のものにあまり近くないようです。ただし、固有ベクトルは定数倍まで定義されていることに注意してください。さらに、量子状態は常に正規化されてグローバル位相まで等価であるため、これら 2 つの状態ベクトルが等価であることを簡単に確認できます。"
   ]
  },
  {
   "cell_type": "code",
   "execution_count": null,
   "metadata": {},
   "outputs": [],
   "source": [
    "from numpy.linalg import eigh\n",
    "\n",
    "_, eigenvectors = eigh(observable.to_matrix())\n",
    "min_eigenvector = eigenvectors.T[0]  # Note: transpose to extract by index\n",
    "\n",
    "optimal_vector.equiv(min_eigenvector, atol=1e-4)"
   ]
  },
  {
   "cell_type": "markdown",
   "metadata": {},
   "source": [
    "得られた状態は、 $10^{-4}$ までは理想的な状態と同等であると結論付けることができます。"
   ]
  },
  {
   "cell_type": "markdown",
   "metadata": {},
   "source": [
    "### 参照状態を追加\n",
    "\n",
    "前の例では、参照演算子 $U_R$ を使用していません。ここで、理想的な固有状態 $\\frac{1}{\\sqrt{2}}(|00\\rangle + |11\\rangle)$ がどのように得られるかを考えてみましょう。次の回路を考えてみましょう。"
   ]
  },
  {
   "cell_type": "code",
   "execution_count": null,
   "metadata": {},
   "outputs": [],
   "source": [
    "from qiskit import QuantumCircuit\n",
    "\n",
    "ideal_qc = QuantumCircuit(2)\n",
    "ideal_qc.h(0)\n",
    "ideal_qc.cx(0, 1)\n",
    "\n",
    "ideal_qc.draw(\"mpl\")"
   ]
  },
  {
   "cell_type": "markdown",
   "metadata": {},
   "source": [
    "この回路が目的の状態になることをすぐに確認できます。"
   ]
  },
  {
   "cell_type": "code",
   "execution_count": null,
   "metadata": {},
   "outputs": [],
   "source": [
    "Statevector(ideal_qc)"
   ]
  },
  {
   "cell_type": "markdown",
   "metadata": {},
   "source": [
    "解の状態を準備する回路がどのようになるかを見てきたので、アダマール ゲートを参照回路として使用するのが合理的であるように思われるため、完全な ansatz は次のようになります。"
   ]
  },
  {
   "cell_type": "code",
   "execution_count": null,
   "metadata": {},
   "outputs": [],
   "source": [
    "reference = QuantumCircuit(2)\n",
    "reference.h(0)\n",
    "# Include barrier to separate reference from variational form\n",
    "reference.barrier()\n",
    "\n",
    "ref_ansatz = ansatz.decompose().compose(reference, front=True)\n",
    "\n",
    "ref_ansatz.draw(\"mpl\")"
   ]
  },
  {
   "cell_type": "markdown",
   "metadata": {},
   "source": [
    "この新しい回路では、すべてのパラメーターを $0$ に設定して理想的な解に到達できるため、参照回路の選択が妥当であることが確認されます。\n",
    "\n",
    "ここで、コスト関数の評価、オプティマイザーの反復、および所要時間を前回の試行と比較してみましょう。"
   ]
  },
  {
   "cell_type": "code",
   "execution_count": null,
   "metadata": {},
   "outputs": [],
   "source": [
    "num_evaluations = result.cost_function_evals\n",
    "num_iterations = result.optimizer_result.nit\n",
    "time = result.optimizer_time\n",
    "\n",
    "print(\"NO REFERENCE STATE:\")\n",
    "print(f\"  - Number of evaluations: {num_evaluations}\")\n",
    "print(f\"  - Number of iterations: {num_iterations}\")\n",
    "print(f\"  - Time: {time:.5f} seconds\")"
   ]
  },
  {
   "cell_type": "code",
   "execution_count": null,
   "metadata": {},
   "outputs": [],
   "source": [
    "# You can change the ansatz of the already defined vqe object instead of creating a new one\n",
    "vqe.ansatz = ref_ansatz\n",
    "\n",
    "ref_result = vqe.compute_minimum_eigenvalue(observable)"
   ]
  },
  {
   "cell_type": "code",
   "execution_count": null,
   "metadata": {},
   "outputs": [],
   "source": [
    "num_evaluations_ref = ref_result.cost_function_evals\n",
    "num_iterations_ref = ref_result.optimizer_result.nit\n",
    "time_ref = ref_result.optimizer_time\n",
    "\n",
    "print(\"ADDED REFERENCE STATE:\")\n",
    "print(f\"  - Number of evaluations: {num_evaluations_ref}\")\n",
    "print(f\"  - Number of iterations: {num_iterations_ref}\")\n",
    "print(f\"  - Time: {time_ref:.5f} seconds\")\n",
    "print()\n",
    "\n",
    "if num_evaluations_ref < num_evaluations:\n",
    "    print(\">> Number of cost function evaluations improved\")\n",
    "elif num_evaluations_ref > num_evaluations:\n",
    "    print(\">> Number of cost function evaluations worsened\")\n",
    "if num_iterations_ref < num_iterations:\n",
    "    print(\">> Number of iterations improved\")\n",
    "elif num_iterations_ref > num_iterations:\n",
    "    print(\">> Number of iterations worsened\")\n",
    "if time_ref < time:\n",
    "    print(\">> Time improved\")\n",
    "elif time_ref > time:\n",
    "    print(\">> Time worsened\")"
   ]
  },
  {
   "cell_type": "markdown",
   "metadata": {},
   "source": [
    "### 初期点の変更"
   ]
  },
  {
   "cell_type": "markdown",
   "metadata": {},
   "source": [
    "参照状態を追加する効果を見たので、異なる初期点 $\\vec{\\theta_0}$ を選択するとどうなるかを見ていきます。特に、 $\\vec{\\theta_0}=(0,0,0,0,6,0,0,0)$ と $\\vec{\\theta_0}=(6,6,6,6,6,6,6,6,6)$を使用します。参照状態が導入されたときに説明したように、すべてのパラメーターが $0$ のときに理想的な解が見つかることを思い出してください。したがって、最初の初期点では、評価、反復、および時間が少なくて済みます。"
   ]
  },
  {
   "cell_type": "code",
   "execution_count": null,
   "metadata": {},
   "outputs": [],
   "source": [
    "vqe.initial_point = [0, 0, 0, 0, 6, 0, 0, 0]\n",
    "\n",
    "result = vqe.compute_minimum_eigenvalue(observable)\n",
    "\n",
    "num_evaluations = result.cost_function_evals\n",
    "num_iterations = result.optimizer_result.nit\n",
    "time = result.optimizer_time\n",
    "\n",
    "print(f\"INITIAL POINT: {vqe.initial_point}\")\n",
    "print(f\"  - Number of evaluations: {num_evaluations}\")\n",
    "print(f\"  - Number of iterations: {num_iterations}\")\n",
    "print(f\"  - Time: {time:.5f} seconds\")"
   ]
  },
  {
   "cell_type": "code",
   "execution_count": null,
   "metadata": {},
   "outputs": [],
   "source": [
    "vqe.initial_point = 6 * np.ones(8)\n",
    "\n",
    "result = vqe.compute_minimum_eigenvalue(observable)\n",
    "\n",
    "num_evaluations = result.cost_function_evals\n",
    "num_iterations = result.optimizer_result.nit\n",
    "time = result.optimizer_time\n",
    "\n",
    "print(f\"INITIAL POINT: {vqe.initial_point}\")\n",
    "print(f\"  - Number of evaluations: {num_evaluations}\")\n",
    "print(f\"  - Number of iterations: {num_iterations}\")\n",
    "print(f\"  - Time: {time:.5f} seconds\")"
   ]
  },
  {
   "cell_type": "markdown",
   "metadata": {},
   "source": [
    "## VQD の例"
   ]
  },
  {
   "cell_type": "markdown",
   "metadata": {},
   "source": [
    "ここで、観測可能量の最小固有値だけを探す代わりに、すべての $4$ を探します。前の章の表記 (および Qiskit の[VQD](https://qiskit.org/documentation/stubs/qiskit.algorithms.eigensolvers.VQD.html)クラスの表記) に従うと、これは $k=4$ を意味します。\n",
    "\n",
    "VQD のコスト関数は次のとおりです。\n",
    "\n",
    "$$\n",
    "C_{l}(\\vec{\\theta}) := \n",
    "\\langle \\psi(\\vec{\\theta}) | \\hat{H} | \\psi(\\vec{\\theta})\\rangle + \n",
    "\\sum_{j=0}^{l-1}\\beta_j |\\langle \\psi(\\vec{\\theta})| \\psi(\\vec{\\theta^j})\\rangle  |^2 \n",
    "\\quad \\forall l\\in\\{1,\\cdots,k\\}=\\{1,\\cdots,4\\}\n",
    "$$\n",
    "\n",
    "これは、 `VQD` オブジェクトを定義するときに、ベクトル$\\vec{\\beta}=(\\beta_0,\\cdots,\\beta_{k-1})$ (この場合は $(\\beta_0, \\beta_1, \\beta_2, \\beta_3)$)を引数として渡さなければならないので、特に重要です。\n",
    "\n",
    "また、QiskitのVQDの実装では、前のノートブックで説明した実効的な観測可能量を考慮する代わりに、 [`ComputeUncompute`](https://qiskit.org/documentation/stubs/qiskit.algorithms.state_fidelities.ComputeUncompute.html) アルゴリズムによって、忠実度 $|\\langle \\psi(\\vec{\\theta})| \\psi(\\vec{\\theta^j})\\rangle  |^2$ を直接計算しています。これは `Sampler` Primitiveを使って、回路 $U_A^\\dagger(\\vec{\\theta})U_A(\\vec{\\theta^j})$ に対して $|0\\rangle$ を得る確率をサンプリングするものです。この確率は以下のとおりですから、このことは厳密に機能しています。\n",
    "\n",
    "$$\n",
    "\\begin{aligned}\n",
    "\n",
    "p_0\n",
    "\n",
    "&amp; = |\\langle 0|U_A^\\dagger(\\vec{\\theta})U_A(\\vec{\\theta^j})|0\\rangle|^2 \\\\[1mm]\n",
    "\n",
    "&amp; = |\\big(\\langle 0|U_A^\\dagger(\\vec{\\theta})\\big)\\big(U_A(\\vec{\\theta^j})|0\\rangle\\big)|^2 \\\\[1mm]\n",
    "\n",
    "&amp; = |\\langle \\psi(\\vec{\\theta}) |\\psi(\\vec{\\theta^j}) \\rangle|^2 \\\\[1mm]\n",
    "\n",
    "\\end{aligned}\n",
    "$$\n",
    "\n",
    "最後に、新しいオプティマイザーを試すために、 <code>SLSQP</code>の代わりに<a><code data-md-type=\"codespan\">COBYLA</code></a>を使用してみましょう。"
   ]
  },
  {
   "cell_type": "code",
   "execution_count": null,
   "metadata": {},
   "outputs": [],
   "source": [
    "from qiskit.primitives import Sampler\n",
    "from qiskit.algorithms.optimizers import COBYLA\n",
    "from qiskit.algorithms.state_fidelities import ComputeUncompute\n",
    "from qiskit.algorithms.eigensolvers import VQD\n",
    "\n",
    "optimizer = COBYLA()\n",
    "sampler = Sampler()\n",
    "estimator = Estimator()\n",
    "fidelity = ComputeUncompute(sampler)\n",
    "\n",
    "k = 4\n",
    "betas = [40, 60, 30, 30]\n",
    "\n",
    "vqd = VQD(estimator, fidelity, ansatz, optimizer, k=k, betas=betas)"
   ]
  },
  {
   "cell_type": "markdown",
   "metadata": {},
   "source": [
    "前の例との唯一の API の違いとして、`VQE.compute_minimum_eigenvalue`メソッドを呼び出す代わりに、 [`VQD.compute_eigenvalues`](https://qiskit.org/documentation/stubs/qiskit.algorithms.eigensolvers.VQD.compute_eigenvalues.html)を呼び出すことに注意してください。次の観測可能量を調べることから始めましょう。\n",
    "\n",
    "$$\n",
    "\\hat{O}_2 := 2 II - 3 XX + 2 YY - 4 ZZ\n",
    "$$\n",
    "\n",
    "この観測可能量は次の固有値を持ちます。\n",
    "\n",
    "$$\n",
    "\\left\\{\n",
    "\\begin{array}{c}\n",
    "\\lambda_0 = -7 \\\\\n",
    "\\lambda_1 = 3\\\\\n",
    "\\lambda_2 = 5 \\\\\n",
    "\\lambda_3 = 7\n",
    "\\end{array}\n",
    "\\right\\}\n",
    "$$\n",
    "\n",
    "そして固有状態：\n",
    "\n",
    "$$\n",
    "\\left\\{\n",
    "\\begin{array}{c}\n",
    "|\\phi_0\\rangle = \\frac{1}{\\sqrt{2}}(|00\\rangle + |11\\rangle)\\\\\n",
    "|\\phi_1\\rangle = \\frac{1}{\\sqrt{2}}(|00\\rangle - |11\\rangle)\\\\\n",
    "|\\phi_2\\rangle = \\frac{1}{\\sqrt{2}}(|01\\rangle + |10\\rangle)\\\\\n",
    "|\\phi_3\\rangle = \\frac{1}{\\sqrt{2}}(|01\\rangle - |10\\rangle)\n",
    "\\end{array}\n",
    "\\right\\}\n",
    "$$"
   ]
  },
  {
   "cell_type": "code",
   "execution_count": null,
   "metadata": {},
   "outputs": [],
   "source": [
    "observable_2 = SparsePauliOp.from_list([(\"II\", 2), (\"XX\", -3), (\"YY\", 2), (\"ZZ\", -4)])\n",
    "\n",
    "result = vqd.compute_eigenvalues(observable_2)\n",
    "print(result)"
   ]
  },
  {
   "cell_type": "markdown",
   "metadata": {},
   "source": [
    "取得した[`VQDResult`](https://qiskit.org/documentation/stubs/qiskit.algorithms.eigensolvers.VQDResult.html) は、 `VQEResult`と完全に類似しています。各属性が $i$ 番目の要素が $i$ 番目の固有値に対応するリストであるという点だけが異なります。"
   ]
  },
  {
   "cell_type": "markdown",
   "metadata": {},
   "source": [
    "さて、固有値を見たところで、実験の固有ベクトルと理論の固有ベクトルを比較してみましょう："
   ]
  },
  {
   "cell_type": "code",
   "execution_count": null,
   "metadata": {},
   "outputs": [],
   "source": [
    "optimal_circuits = [\n",
    "    circuit.bind_parameters(parameters)\n",
    "    for circuit, parameters in zip(result.optimal_circuits, result.optimal_parameters)\n",
    "]\n",
    "eigenstates = [Statevector(c) for c in optimal_circuits]\n",
    "\n",
    "for i, (eigenvalue, eigenstate) in enumerate(zip(result.eigenvalues, eigenstates)):\n",
    "    eigenvalue = eigenvalue.real\n",
    "    eigenstate = np.round(eigenstate.data, 3).tolist()\n",
    "    print(f\"RESULT {i}:\")\n",
    "    print(f\"  - {eigenvalue = :.3f}\")\n",
    "    print(f\"  - {eigenstate = }\")"
   ]
  },
  {
   "cell_type": "markdown",
   "metadata": {},
   "source": [
    "これらの結果は、小さな近似誤差とグローバル位相を除いて、予想される結果と同じです。"
   ]
  },
  {
   "cell_type": "markdown",
   "metadata": {},
   "source": [
    "ここで、最初に観測可能量 $\\hat{O}_1 := 2 II - 2 XX + 3 YY - 3 ZZ$ についてこの問題を解いてみましょう。"
   ]
  },
  {
   "cell_type": "code",
   "execution_count": null,
   "metadata": {},
   "outputs": [],
   "source": [
    "result = vqd.compute_eigenvalues(observable)\n",
    "\n",
    "optimal_circuits = [\n",
    "    circuit.bind_parameters(parameters)\n",
    "    for circuit, parameters in zip(result.optimal_circuits, result.optimal_parameters)\n",
    "]\n",
    "eigenstates = [Statevector(c) for c in optimal_circuits]\n",
    "\n",
    "for i, (eigenvalue, eigenstate) in enumerate(zip(result.eigenvalues, eigenstates)):\n",
    "    eigenvalue = eigenvalue.real\n",
    "    eigenstate = np.round(eigenstate.data, 3).tolist()\n",
    "    print(f\"RESULT {i}:\")\n",
    "    print(f\"  - {eigenvalue = :.3f}\")\n",
    "    print(f\"  - {eigenstate = }\")"
   ]
  },
  {
   "cell_type": "markdown",
   "metadata": {},
   "source": [
    "ここで、 $\\lambda_1 = \\lambda_2 = 4$ に対応する固有状態は、予想されるものと同じではありません:\n",
    "\n",
    "$$\n",
    "|\\phi_1\\rangle = \\frac{1}{\\sqrt{2}}(|00\\rangle - |11\\rangle) \\\\\n",
    "|\\phi_2\\rangle = \\frac{1}{\\sqrt{2}}(|01\\rangle + |10\\rangle)\n",
    "$$\n",
    "\n",
    "これは、 $\\lambda_1=\\lambda_2$ のように、複雑な線形結合も同じ固有値を持つ固有状態であるためです。\n",
    "\n",
    "$$\n",
    "\\begin{aligned}\n",
    "\\alpha_1 |\\phi_1\\rangle + \\alpha_2 |\\phi_2\\rangle\n",
    "& = \\frac{1}{\\sqrt{2}}(\\alpha_1 |00\\rangle + \\alpha_2 |01\\rangle - \\alpha_2 |10\\rangle - \\alpha_1 |11\\rangle) \\\\[1mm]\n",
    "& \\equiv \\frac{1}{\\sqrt{2}}[\\alpha_1, \\alpha_2, -\\alpha_2, -\\alpha_1]\n",
    "\\end{aligned}\n",
    "$$\n",
    "\n",
    "それはまさに、これらの結果で私たちが見ているものです。"
   ]
  },
  {
   "cell_type": "markdown",
   "metadata": {},
   "source": [
    "### ベータの変更"
   ]
  },
  {
   "cell_type": "markdown",
   "metadata": {},
   "source": [
    "インスタンスのレッスンで述べたように、 $\\vec{\\beta}$ の値は固有値の差より大きくなければなりません。 $\\hat{O}_2$ でその条件を満たさない場合に何が起こるか見てみましょう\n",
    "\n",
    "$$\n",
    "\\hat{O}_2 = 2 II - 3 XX + 2 YY - 4 ZZ\n",
    "$$\n",
    "\n",
    "固有値は\n",
    "\n",
    "$$\n",
    "\\left\\{\n",
    "\\begin{array}{c}\n",
    "\\lambda_0 = -7 \\\\\n",
    "\\lambda_1 = 3\\\\\n",
    "\\lambda_2 = 5 \\\\\n",
    "\\lambda_3 = 7\n",
    "\\end{array}\n",
    "\\right\\}\n",
    "$$"
   ]
  },
  {
   "cell_type": "code",
   "execution_count": null,
   "metadata": {},
   "outputs": [],
   "source": [
    "vqd.betas = np.ones(4)\n",
    "result = vqd.compute_eigenvalues(observable_2)\n",
    "\n",
    "optimal_circuits = [\n",
    "    circuit.bind_parameters(parameters)\n",
    "    for circuit, parameters in zip(result.optimal_circuits, result.optimal_parameters)\n",
    "]\n",
    "eigenstates = [Statevector(c) for c in optimal_circuits]\n",
    "\n",
    "for i, (eigenvalue, eigenstate) in enumerate(zip(result.eigenvalues, eigenstates)):\n",
    "    eigenvalue = eigenvalue.real\n",
    "    eigenstate = np.round(eigenstate.data, 3).tolist()\n",
    "    print(f\"RESULT {i}:\")\n",
    "    print(f\"  - {eigenvalue = :.3f}\")\n",
    "    print(f\"  - {eigenstate = }\")"
   ]
  },
  {
   "cell_type": "markdown",
   "metadata": {},
   "source": [
    "今回、オプティマイザーは、すべての固有状態に対する提案された解として、同じ状態 $|\\phi_0\\rangle = \\frac{1}{\\sqrt{2}}(|00\\rangle + |11\\rangle)$ を返しますがこれは明らかに誤っています。これは、ベータが小さすぎて、連続するコスト関数の最小固有状態にペナルティを課すことができないために発生します。したがって、アルゴリズムの後の反復で有効な検索スペースから除外されず、可能な最良解として常に選択されるのです。\n",
    "\n",
    "$\\vec{\\beta}$ の値を試して、固有値の差よりも大きいことを確認することをお勧めします。 "
   ]
  },
  {
   "cell_type": "markdown",
   "metadata": {},
   "source": [
    "## 量子化学: 基底状態と励起エネルギーソルバー\n",
    "\n",
    "私たちの目的は、観測可能量を表わすエネルギー (ハミルトニアン $\\hat{\\mathcal{H}}$) の期待値を最小化することです。\n",
    "\n",
    "$$\n",
    "\\min_{\\vec\\theta} \\langle\\psi(\\vec\\theta)|\\hat{\\mathcal{H}}|\\psi(\\vec\\theta)\\rangle\n",
    "$$"
   ]
  },
  {
   "cell_type": "code",
   "execution_count": null,
   "metadata": {},
   "outputs": [],
   "source": [
    "from qiskit_nature.units import DistanceUnit\n",
    "from qiskit_nature.second_q.drivers import PySCFDriver\n",
    "from qiskit_nature.second_q.circuit.library import HartreeFock, UCC\n",
    "from qiskit_nature.second_q.mappers import JordanWignerMapper\n",
    "from qiskit.quantum_info import SparsePauliOp\n",
    "\n",
    "H2_op = SparsePauliOp.from_list(\n",
    "    [\n",
    "        (\"II\", -1.052373245772859),\n",
    "        (\"IZ\", 0.39793742484318045),\n",
    "        (\"ZI\", -0.39793742484318045),\n",
    "        (\"ZZ\", -0.01128010425623538),\n",
    "        (\"XX\", 0.18093119978423156),\n",
    "    ]\n",
    ")\n",
    "\n",
    "driver = PySCFDriver(\n",
    "    atom=\"H 0 0 0; H 0 0 0.735\",\n",
    "    basis=\"sto3g\",\n",
    "    charge=0,\n",
    "    spin=0,\n",
    "    unit=DistanceUnit.ANGSTROM,\n",
    ")\n",
    "\n",
    "h2_problem = driver.run()\n",
    "\n",
    "mapper = JordanWignerMapper()\n",
    "\n",
    "h2_reference_state = HartreeFock(\n",
    "    num_spatial_orbitals=h2_problem.num_spatial_orbitals,\n",
    "    num_particles=h2_problem.num_particles,\n",
    "    qubit_mapper=mapper,\n",
    ")\n",
    "\n",
    "ansatz = UCC(\n",
    "    num_spatial_orbitals=h2_problem.num_spatial_orbitals,\n",
    "    num_particles=h2_problem.num_particles,\n",
    "    qubit_mapper=mapper,\n",
    "    initial_state=h2_reference_state,\n",
    "    excitations=2,\n",
    ")\n",
    "\n",
    "ansatz.decompose().decompose().draw(\"mpl\")"
   ]
  },
  {
   "cell_type": "code",
   "execution_count": null,
   "metadata": {},
   "outputs": [],
   "source": [
    "from qiskit.algorithms.minimum_eigensolvers import VQE\n",
    "from qiskit.primitives import Sampler, Estimator\n",
    "from qiskit.algorithms.state_fidelities import ComputeUncompute\n",
    "from qiskit_nature.second_q.algorithms import GroundStateEigensolver\n",
    "\n",
    "estimator = Estimator()\n",
    "sampler = Sampler()\n",
    "fidelity = ComputeUncompute(sampler)\n",
    "\n",
    "vqe = VQE(\n",
    "    estimator=estimator,\n",
    "    ansatz=ansatz,\n",
    "    optimizer=optimizer,\n",
    "    initial_point=np.zeros(ansatz.num_parameters),\n",
    ")\n",
    "gse = GroundStateEigensolver(qubit_mapper=mapper, solver=vqe)\n",
    "result = gse.solve(h2_problem)\n",
    "\n",
    "print(result)"
   ]
  },
  {
   "cell_type": "markdown",
   "metadata": {},
   "source": [
    "VQD を活用して励起状態を解くこともできます"
   ]
  },
  {
   "cell_type": "code",
   "execution_count": null,
   "metadata": {},
   "outputs": [],
   "source": [
    "from qiskit.algorithms.eigensolvers import VQD\n",
    "\n",
    "h2_operators, _ = gse.get_qubit_operators(h2_problem)\n",
    "\n",
    "optimizer = COBYLA()\n",
    "sampler = Sampler()\n",
    "estimator = Estimator()\n",
    "fidelity = ComputeUncompute(sampler)\n",
    "\n",
    "k = 3\n",
    "betas = [33, 33, 33]\n",
    "\n",
    "vqd = VQD(\n",
    "    estimator=estimator,\n",
    "    ansatz=ansatz,\n",
    "    optimizer=optimizer,\n",
    "    fidelity=fidelity,\n",
    "    initial_point=np.zeros(ansatz.num_parameters),\n",
    "    k=k,\n",
    "    betas=betas,\n",
    ")\n",
    "result = vqd.compute_eigenvalues(operator=h2_operators)\n",
    "vqd_values = result.optimal_values\n",
    "print(vqd_values)"
   ]
  },
  {
   "cell_type": "markdown",
   "metadata": {},
   "source": [
    "## 最適化: マックスカット\n",
    "\n",
    "マックスカット（Max-Cut）問題とは、グラフの頂点を2つの互いに素な集合に分割し、その2つの集合間の辺の数が最大になるようにする組合せ最適化問題です。より正式には、 $V$ が頂点の集合、 $E$ が辺の集合である無向グラフ $G=(V,E)$ が与えられたとき、マックスカット問題は、頂点を2つの互いに素な部分集合 $S$ と$T$に分割する際に、一方の端点が $S$ にあり他方が $T$ にあるような辺の数が最大となるような分割を求めます。\n",
    "\n",
    "マックスカットを応用して、クラスタリング、ネットワーク設計、相転移など様々な問題を解くことができます。まず、問題グラフを作成することから始めます："
   ]
  },
  {
   "cell_type": "code",
   "execution_count": null,
   "metadata": {},
   "outputs": [],
   "source": [
    "import networkx as nx\n",
    "\n",
    "n = 4\n",
    "G = nx.Graph()\n",
    "G.add_nodes_from(range(n))\n",
    "edge_list = [(0, 1, 1.0), (0, 2, 1.0), (0, 3, 1.0), (1, 2, 1.0), (2, 3, 1.0)]\n",
    "G.add_weighted_edges_from(edge_list)\n",
    "\n",
    "colors = [\"red\" for i in range(n)]\n",
    "\n",
    "\n",
    "def draw_graph(G, colors):\n",
    "    \"\"\"Draws the graph with the chose colors\"\"\"\n",
    "    layout = nx.shell_layout(G)\n",
    "    nx.draw_networkx(G, node_color=colors, pos=layout)\n",
    "    edge_labels = nx.get_edge_attributes(G, \"weight\")\n",
    "    nx.draw_networkx_edge_labels(G, pos=layout, edge_labels=edge_labels)\n",
    "\n",
    "\n",
    "draw_graph(G, colors)"
   ]
  },
  {
   "cell_type": "markdown",
   "metadata": {},
   "source": [
    "すべてのエッジの重みに快適にアクセスするには、隣接行列を使用できます。この行列は[networkx.to_numpy_array()](https://networkx.org/documentation/stable/reference/generated/networkx.convert_matrix.to_numpy_array.html)で取得できます。"
   ]
  },
  {
   "cell_type": "code",
   "execution_count": null,
   "metadata": {},
   "outputs": [],
   "source": [
    "w = nx.to_numpy_array(G)\n",
    "print(w)"
   ]
  },
  {
   "cell_type": "markdown",
   "metadata": {},
   "source": [
    "[`qiskit_optimization`](https://qiskit.org/documentation/optimization/index.html)モジュールには、隣接行列 $w$ から加重 Max-Cut 問題を定義できる[`Maxcut`](https://qiskit.org/documentation/optimization/stubs/qiskit_optimization.applications.Maxcut.html)というクラスが含まれています。その問題から、前のセクションで[`Maxcut.to_quadratic_program()`](https://qiskit.org/documentation/optimization/stubs/qiskit_optimization.applications.Maxcut.to_quadratic_program.html)を使用して推定した等価な２値最適化問題を得ることができます。"
   ]
  },
  {
   "cell_type": "code",
   "execution_count": null,
   "metadata": {},
   "outputs": [],
   "source": [
    "from qiskit_optimization.applications import Maxcut\n",
    "\n",
    "max_cut = Maxcut(w)\n",
    "\n",
    "quadratic_program = max_cut.to_quadratic_program()\n",
    "print(quadratic_program.prettyprint())"
   ]
  },
  {
   "cell_type": "markdown",
   "metadata": {},
   "source": [
    "この問題は、2値最適化問題として表現できます。 $n$ をグラフのノード数とし、 $0 \\leq i < n$ である各ノード（この場合 $n=4$ ）に対して、バイナリー変数 $x_i$ を考えます。この変数は、ノード $i$ が $1$ のラベルを貼ったグループの1つであれば値 $1$ を持ち、 $0$ とラベルを貼った他のグループの1つであれば値 $0$ を持つことになります。また、ノード $i$ からノード $j$ に至るエッジの重みを $w_{ij}$ （隣接行列 $w$ の要素 $(i,j)$ ）とします。グラフは無向性なので、 $w_{ij}=w_{ji}$ となります。そうすると、問題は以下のコスト関数を最大化するものとして定式化できます：\n",
    "\n",
    "$$\n",
    "\\begin{aligned}\n",
    "C(\\vec{x})\n",
    "&amp; =\\sum_{i,j=0}^n w_{ij} x_i(1-x_j)\\\\[1mm]\n",
    "\n",
    "&amp; = \\sum_{i,j=0}^n w_{ij} x_i - \\sum_{i,j=0}^n w_{ij} x_ix_j\\\\[1mm]\n",
    "\n",
    "&amp; = \\sum_{i,j=0}^n w_{ij} x_i - \\sum_{i=0}^n \\sum_{j=0}^i 2w_{ij} x_ix_j\n",
    "\\end{aligned}\n",
    "$$\n",
    "\n",
    "この問題を量子コンピューターで解くために、コスト関数を観測可能量の期待値として表現します。ただし、Qiskit が自然に認めている観測可能量は、 $0$ と $1$ の代わりに固有値 $1$ と $-1$ を持つパウリ演算子で構成されています。そのため、変数を次のように変更します。\n",
    "\n",
    "ここで、 $\\vec{x}=(x_0,x_1,\\cdots ,x_{n-1})$ です。隣接行列 $w$ を使って、すべてのエッジの重みに快適にアクセスすることができます。これはコスト関数を求めるのに使われます：\n",
    "\n",
    "$$\n",
    "z_i = 1-2x_i \\rightarrow x_i = \\frac{1-z_i}{2}\n",
    "$$\n",
    "\n",
    "これは、次のことを意味します。\n",
    "\n",
    "$$\n",
    "\\begin{array}{lcl} x_i=0 & \\rightarrow & z_i=1 \\\\ x_i=1 & \\rightarrow & z_i=-1.\\end{array}\n",
    "$$\n",
    "\n",
    "したがって、最大化したい新しいコスト関数は次のとおりです。\n",
    "\n",
    "$$\n",
    "\\begin{aligned}\n",
    "C(\\vec{z})\n",
    "& = \\sum_{i,j=0}^n w_{ij} \\bigg(\\frac{1-z_i}{2}\\bigg)\\bigg(1-\\frac{1-z_j}{2}\\bigg)\\\\[1mm]\n",
    "\n",
    "& = \\sum_{i,j=0}^n \\frac{w_{ij}}{4} - \\sum_{i,j=0}^n \\frac{w_{ij}}{4} z_iz_j\\\\[1mm]\n",
    "\n",
    "& = \\sum_{i=0}^n \\sum_{j=0}^i \\frac{w_{ij}}{2} -  \\sum_{i=0}^n \\sum_{j=0}^i \\frac{w_{ij}}{2} z_iz_j\n",
    "\\end{aligned}\n",
    "$$\n",
    "\n",
    "さらに、量子コンピューターの自然な傾向として、最大値ではなく最小値（通常は最低エネルギー）を見つけるので、 $C(\\vec{z})$ を最大化するのではなく、最小化します：\n",
    "\n",
    "$$\n",
    "-C(\\vec{z}) =  \\sum_{i=0}^n \\sum_{j=0}^i \\frac{w_{ij}}{2} z_iz_j -  \\sum_{i=0}^n \\sum_{j=0}^i \\frac{w_{ij}}{2}\n",
    "$$\n",
    "\n",
    "$-1$ と $1$ の値を持つ変数を最小化するためのコスト関数ができたので、次のようにパウリの $Z$ との類推を行うことができます。\n",
    "\n",
    "$$\n",
    "z_i \\equiv Z_i = \\overbrace{I}^{n-1}\\otimes ... \\otimes \\overbrace{Z}^{i} \\otimes ... \\otimes \\overbrace{I}^{0}\n",
    "$$\n",
    "\n",
    "つまり、変数 $z_i$ は、量子ビット $i$ に作用する $Z$ ゲートと同等になります。さらに：\n",
    "\n",
    "$$\n",
    "Z_i|x_{n-1}\\cdots x_0\\rangle = z_i|x_{n-1}\\cdots x_0\\rangle \\rightarrow \\langle x_{n-1}\\cdots x_0 |Z_i|x_{n-1}\\cdots x_0\\rangle = z_i\n",
    "$$\n",
    "\n",
    "次に、検討する観測可能量は次のとおりです。\n",
    "\n",
    "$$\n",
    "\\hat{H} = \\sum_{i=0}^n \\sum_{j=0}^i \\frac{w_{ij}}{2} Z_iZ_j\n",
    "$$\n",
    "\n",
    "後で独立項を追加する必要があります。\n",
    "\n",
    "$$\n",
    "\\texttt{offset} = - \\sum_{i=0}^n \\sum_{j=0}^i \\frac{w_{ij}}{2}\n",
    "$$\n",
    "\n",
    "この変換は、[`QuadraticProgram.to_ising()`](https://qiskit.org/documentation/optimization/stubs/qiskit_optimization.QuadraticProgram.to_ising.html)で行うことができます。"
   ]
  },
  {
   "cell_type": "code",
   "execution_count": null,
   "metadata": {},
   "outputs": [],
   "source": [
    "observable, offset = quadratic_program.to_ising()\n",
    "print(\"Offset:\", offset)\n",
    "print(\"Ising Hamiltonian:\")\n",
    "print(str(observable))"
   ]
  },
  {
   "cell_type": "markdown",
   "metadata": {},
   "source": [
    "VQE インスタンスを使用して、次のように最適なパラメーターを見つけることができます。"
   ]
  },
  {
   "cell_type": "code",
   "execution_count": null,
   "metadata": {},
   "outputs": [],
   "source": [
    "from qiskit.primitives import Estimator\n",
    "from qiskit.algorithms.minimum_eigensolvers import VQE\n",
    "from qiskit.algorithms.optimizers import COBYLA\n",
    "from qiskit.circuit.library import TwoLocal\n",
    "import numpy as np\n",
    "\n",
    "ansatz = TwoLocal(observable.num_qubits, \"rx\", reps=1)\n",
    "optimizer = COBYLA()\n",
    "\n",
    "vqe = VQE(\n",
    "    estimator=Estimator(),\n",
    "    ansatz=ansatz,\n",
    "    optimizer=optimizer,\n",
    "    initial_point=np.zeros(ansatz.num_parameters),\n",
    ")\n",
    "\n",
    "result = vqe.compute_minimum_eigenvalue(observable)\n",
    "\n",
    "print(result)"
   ]
  },
  {
   "cell_type": "code",
   "execution_count": null,
   "metadata": {},
   "outputs": [],
   "source": [
    "from qiskit.quantum_info import Statevector\n",
    "\n",
    "optimal_circuit = result.optimal_circuit.bind_parameters(result.optimal_parameters)\n",
    "\n",
    "x = max_cut.sample_most_likely(Statevector(optimal_circuit))\n",
    "print(\"energy:\", result.eigenvalue.real)\n",
    "print(\"time:\", result.optimizer_time)\n",
    "print(\"max-cut objective:\", result.eigenvalue.real + offset)\n",
    "print(\"solution:\", x)\n",
    "print(\"solution objective:\", quadratic_program.objective.evaluate(x))\n",
    "\n",
    "# plot results\n",
    "colors = [\"red\" if x[i] == 0 else \"orange\" for i in range(n)]\n",
    "draw_graph(G, colors)"
   ]
  },
  {
   "cell_type": "markdown",
   "metadata": {},
   "source": [
    "このレッスンでは、次のことを学びました。\n",
    "\n",
    "- カスタム変分アルゴリズムの書き方\n",
    "- 変分アルゴリズムを適用して最小固有値を見つける方法\n",
    "- 変分アルゴリズムを利用してアプリケーションのユースケースを解く方法\n",
    "\n",
    "最終レッスンに進み、評価を受けてバッジを獲得しましょう!"
   ]
  }
 ],
 "metadata": {
  "kernelspec": {
   "display_name": "Python 3",
   "language": "python",
   "name": "python3"
  },
  "language_info": {
   "codemirror_mode": {
    "name": "ipython",
    "version": 3
   },
   "file_extension": ".py",
   "mimetype": "text/x-python",
   "name": "python",
   "nbconvert_exporter": "python",
   "pygments_lexer": "ipython3",
   "version": "3.9"
  }
 },
 "nbformat": 4,
 "nbformat_minor": 2
}
