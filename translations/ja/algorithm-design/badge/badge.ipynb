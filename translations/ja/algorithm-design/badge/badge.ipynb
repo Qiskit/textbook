{
  "cells": [
    {
      "attachments": {
      },
      "cell_type": "markdown",
      "metadata": {
      },
      "source": [
        "## バッジの取得\n",
        "\n",
        "変分アルゴリズムデザインのコースを修了された方、おめでとうございます。評価とバッジに進む前に、以下の1分間のアンケートにお答えください！\n",
        "\n",
        "\n",
        "<iframe class=\"airtable-embed\" src=\"https://airtable.com/embed/shrQPowy7jMqFRsQ0?backgroundColor=blue\" frameborder=\"0\" onmousewheel=\"\" width=\"100%\" height=\"533\" style=\"background: transparent; border: 1px solid #ccc;\"></iframe> "
      ]
    },
    {
      "attachments": {
      },
      "cell_type": "markdown",
      "metadata": {
      },
      "source": [
        "## バッジ評価へのリンク\n",
        "\n",
        "[この評価](https://challenges.quantum-computing.ibm.com/algorithm-design) はオープンブックで、このコースで学んだ概念的な知識と実践的な知識をテストします。このコースはいつでも自由に戻って参照することができます！"
      ]
    }
  ],
  "metadata": {
    "kernelspec": {
      "display_name": "Python 3",
      "language": "python",
      "name": "python3"
    },
    "language_info": {
      "codemirror_mode": {
        "name": "ipython",
        "version": 3
      },
      "file_extension": ".py",
      "mimetype": "text/x-python",
      "name": "python",
      "nbconvert_exporter": "python",
      "pygments_lexer": "ipython3",
      "version": "3.9"
    }
  },
  "nbformat": 4,
  "nbformat_minor": 2
}
