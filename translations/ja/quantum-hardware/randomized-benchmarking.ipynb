{
 "cells": [
  {
   "cell_type": "markdown",
   "metadata": {
    "tags": [
     "remove_cell"
    ]
   },
   "source": [
    "# ランダマイズド・ベンチマーキング"
   ]
  },
  {
   "cell_type": "markdown",
   "metadata": {},
   "source": [
    "## はじめに\n",
    "\n",
    "量子情報プロセッサーを構築する上での主な課題の1つは、プロセストモグラフィーを介して発生する量子系へのノイズの完全な特徴評価はスケールできないことです。さらに、プロセストモグラフィーは、回転前および回転後のゲートノイズと測定ノイズ(SPAMエラー)に敏感です。ゲートセットトモグラフィーはこれらのエラーを考慮できますが、プロセストモグラフィーよりも更にスケールできません。完全なノイズの特徴評価ができると、適切なエラー訂正スキームの決定や、信頼できる量子情報伝送の可能性に繋がるので有用です。\n",
    "\n",
    "大規模な系では完全なプロセストモグラフィーは不可能であるため、量子系に影響を与えるノイズを部分的に特徴づけるスケーラブルな手法への関心が高まっています。ランダム化技術を利用した単一のパラメータでクリフォードゲートのフルセットをベンチマークするための、(システムを構成する量子ビットの数$n$で）スケーラブルで強固なアルゴリズムが[1]で発表されました。量子ゲートのベンチマークにランダム化手法を用いる概念は、一般に **ランダマイズド・ベンチマーキング(RB)** と呼ばれます。\n",
    "\n",
    "## ランダマイズド・ベンチマーキングのプロトコル\n",
    "\n",
    "まず、デモのために関連するqiskitクラスをインポートします。"
   ]
  },
  {
   "cell_type": "code",
   "execution_count": 1,
   "metadata": {},
   "outputs": [],
   "source": [
    "#Import general libraries (needed for functions)\n",
    "import numpy as np\n",
    "import matplotlib.pyplot as plt\n",
    "from IPython import display\n",
    "\n",
    "#Import the RB Functions\n",
    "import qiskit.ignis.verification.randomized_benchmarking as rb\n",
    "\n",
    "#Import Qiskit classes \n",
    "import qiskit\n",
    "from qiskit.providers.aer.noise import NoiseModel\n",
    "from qiskit.providers.aer.noise.errors.standard_errors import depolarizing_error, thermal_relaxation_error"
   ]
  },
  {
   "cell_type": "markdown",
   "metadata": {},
   "source": [
    "RBプロトコル（[1,2]参照）は、以下のステップで構成されています。\n",
    "\n",
    "### ステップ1：RB配列の生成\n",
    "\n",
    "RB配列は、 $n$ 量子ビット上のクリフォード群から一様に選ばれたランダムなクリフォード要素で構成されています。 これには量子ビットを初期状態に戻す反転要素を含みます。\n",
    "\n",
    "より正確には、それぞれの長さ $m$ に対して、$K_m$ のRB配列を選びます。 このような配列は、それぞれ $n$ 量子ビット上のクリフォード群から一様に選ばれた $m$ のランダム要素 $C_{i_j}$ を含み、$m+1$ の要素は次のように定義されます。 $C_{i_{m+1}} = (C_{i_1}\\cdot ... \\cdot C_{i_m})^{-1}$. これはGottesmann-Knillの定理で効率よく求めることができます。\n",
    "\n",
    "例えば、2量子ビットのクリフォード回路の配列を以下に複数示します。"
   ]
  },
  {
   "cell_type": "code",
   "execution_count": 2,
   "metadata": {},
   "outputs": [],
   "source": [
    "#Generate RB circuits (2Q RB)\n",
    "\n",
    "#number of qubits\n",
    "nQ=2 \n",
    "rb_opts = {}\n",
    "#Number of Cliffords in the sequence\n",
    "rb_opts['length_vector'] = [1, 10, 20, 50, 75, 100, 125, 150, 175, 200]\n",
    "#Number of seeds (random sequences)\n",
    "rb_opts['nseeds'] = 5\n",
    "#Default pattern\n",
    "rb_opts['rb_pattern'] = [[0, 1]]\n",
    "\n",
    "rb_circs, xdata = rb.randomized_benchmarking_seq(**rb_opts)"
   ]
  },
  {
   "cell_type": "markdown",
   "metadata": {},
   "source": [
    "一例として、1つ目のRB配列に対応する回路を表示します。"
   ]
  },
  {
   "cell_type": "code",
   "execution_count": 3,
   "metadata": {},
   "outputs": [
    {
     "data": {
      "image/png": "[encoded data removed]",
      "text/plain": [
       "<Figure size 1359.31x204.68 with 1 Axes>"
      ]
     },
     "execution_count": 3,
     "metadata": {},
     "output_type": "execute_result"
    }
   ],
   "source": [
    "rb_circs[0][0].draw()"
   ]
  },
  {
   "cell_type": "markdown",
   "metadata": {},
   "source": [
    "各RB回路を表すユニタリー行列が(グローバル位相を含めて)恒等変換であることを確認できます。 これをAerユニタリーシミュレータを用いて再現します。"
   ]
  },
  {
   "cell_type": "code",
   "execution_count": 4,
   "metadata": {},
   "outputs": [],
   "source": [
    "# Create a new circuit without the measurement\n",
    "qregs = rb_circs[0][-1].qregs\n",
    "cregs = rb_circs[0][-1].cregs\n",
    "qc = qiskit.QuantumCircuit(*qregs, *cregs)\n",
    "for i in rb_circs[0][-1][0:-nQ]:\n",
    "    qc.data.append(i)"
   ]
  },
  {
   "cell_type": "code",
   "execution_count": 5,
   "metadata": {},
   "outputs": [
    {
     "data": {
      "text/latex": [
       "$\\displaystyle \n",
       "\\text{Unitary} = \\begin{bmatrix}\n",
       "1 & 0 & 0 & 0  \\\\\n",
       "0 & 1 & 0 & 0  \\\\\n",
       "0 & 0 & 1 & 0  \\\\\n",
       "0 & 0 & 0 & 1  \\\\\n",
       "\\end{bmatrix}\n",
       "$$\n",
       "$"
      ],
      "text/plain": [
       "<IPython.core.display.Math object>"
      ]
     },
     "metadata": {},
     "output_type": "display_data"
    }
   ],
   "source": [
    "# The Unitary is an identity (with a global phase)\n",
    "backend = qiskit.Aer.get_backend('unitary_simulator')\n",
    "basis_gates = ['u1','u2','u3','cx'] # use U,CX for now\n",
    "job = qiskit.execute(qc, backend=backend, basis_gates=basis_gates)\n",
    "from qiskit_textbook.tools import array_to_latex\n",
    "array_to_latex(np.around(job.result().get_unitary(),3), pretext=\"\\\\text{Unitary} = \")"
   ]
  },
  {
   "cell_type": "markdown",
   "metadata": {},
   "source": [
    "### ステップ2: RB配列を(ノイズを入れて)実行\n",
    "\n",
    "RB配列は、Qiskit Aer Simulator(ノイズモデル版)かIBMQプロバイダを用いて実行し、結果のリストを得ることができます。\n",
    "\n",
    "前提として、各演算 $C_{i_j}$ は、 $\\Lambda_{i_j,j}$ で表されるエラーを持つことができ、各配列は以下の演算によってモデル化することができます。\n",
    "\n",
    "$$\\textit{S}_{i_m} = \\bigcirc_{j=1}^{m+1} (\\Lambda_{i_j,j} \\circ C_{i_j})$$\n",
    "\n",
    "ここで $\\{i_m\\} = (i_1,...,i_m)$ で、 $\\textit{i}_{m+1}$ は $\\{i_m\\}$ によって一意に決定されます。"
   ]
  },
  {
   "cell_type": "code",
   "execution_count": 6,
   "metadata": {},
   "outputs": [],
   "source": [
    "# Run on a noisy simulator\n",
    "noise_model = NoiseModel()\n",
    "\n",
    "# Depolarizing error on the gates u2, u3 and cx (assuming the u1 is virtual-Z gate and no error)\n",
    "p1Q = 0.002\n",
    "p2Q = 0.01\n",
    "\n",
    "noise_model.add_all_qubit_quantum_error(depolarizing_error(p1Q, 1), 'u2')\n",
    "noise_model.add_all_qubit_quantum_error(depolarizing_error(2 * p1Q, 1), 'u3')\n",
    "noise_model.add_all_qubit_quantum_error(depolarizing_error(p2Q, 2), 'cx')\n",
    "\n",
    "backend = qiskit.Aer.get_backend('qasm_simulator')"
   ]
  },
  {
   "cell_type": "markdown",
   "metadata": {},
   "source": [
    "### ステップ3: 生存確率の統計を取る\n",
    "\n",
    "各々の $K_m$ 配列で生存確率 $Tr[E_\\psi \\textit{S}_{\\textbf{i}_\\textbf{m}}(\\rho_\\psi)]$ を測定します。 ここで、$\\rho_\\psi$ は状態生成時のエラーを考慮した初期状態であり、 $E_\\psi$ は 測定エラーを考慮したPOVM要素です。 理想的(ノイズフリー)な場合には $\\rho_\\psi = E_\\psi = | \\psi {\\rangle} {\\langle} \\psi |$  となります。\n",
    "\n",
    "実際には、正確な初期状態(全量子ビットが基底状態 $ {|} 00...0 {\\rangle}$ にある状態)へ戻る確率、もしくはいずれか1つの量子ビットが基底状態に戻る確率を測定することができます。相関測定ができない場合は、独立して量子ビットを測定した方が便利です。両方の測定は、 *twirl* の特性に応じて、同じ減衰パラメータでフィットされます。 "
   ]
  },
  {
   "cell_type": "markdown",
   "metadata": {},
   "source": [
    "### Step 4: 配列のフィデリティー平均を求める\n",
    "\n",
    "$K_m$ の配列のランダムな再現度を平均して，配列の **フィデリティー** 平均を求めます。\n",
    "\n",
    "$$F_{seq}(m,|\\psi{\\rangle}) = Tr[E_\\psi \\textit{S}_{K_m}(\\rho_\\psi)]$$\n",
    "\n",
    "ここで\n",
    "\n",
    "$$\\textit{S}_{K_m} = \\frac{1}{K_m} \\sum_{\\textbf{i}_\\textbf{m}} \\textit{S}_{\\textbf{i}_\\textbf{m}}$$\n",
    "\n",
    "は配列の平均をとる演算です。"
   ]
  },
  {
   "cell_type": "markdown",
   "metadata": {},
   "source": [
    "### ステップ 5: 結果のフィッティング\n",
    "\n",
    "様々な $m$ でステップ１から４を繰り返して、配列のフィデリティー平均の結果をモデルにフィットさせます。\n",
    "\n",
    "$$ \\textit{F}_{seq}^{(0)} \\big(m,{|}\\psi {\\rangle} \\big) = A_0 \\alpha^m +B_0$$\n",
    "\n",
    "ここで、 $A_0$ と $B_0$ は、初期状態生成時のエラーと測定エラー、および 最終ゲートのエラーのエッジ効果を取り込みます。\n",
    "\n",
    "$\\alpha$ は、平均エラー率 $r$ を決定します。これは、 **クリフォード単位エラー(EPC)** とも呼ばれ、次の関係が成り立ちます。\n",
    "\n",
    "$$ r = 1-\\alpha-\\frac{1-\\alpha}{2^n} = \\frac{2^n-1}{2^n}(1-\\alpha)$$\n",
    "\n",
    "(ここで、 $n=nQ$ は量子ビット数)。\n",
    "\n",
    "一例として、RB配列のそれぞれについて配列のフィデリティー平均を計算し、その結果を指数関数曲線に当てはめ、パラメーター $\\alpha$ とEPCを計算します。"
   ]
  },
  {
   "cell_type": "code",
   "execution_count": null,
   "metadata": {},
   "outputs": [],
   "source": [
    "# Create the RB fitter\n",
    "backend = qiskit.Aer.get_backend('qasm_simulator')\n",
    "basis_gates = ['u1','u2','u3','cx'] \n",
    "shots = 200\n",
    "transpiled_circs_list = []\n",
    "rb_fit = rb.RBFitter(None, xdata, rb_opts['rb_pattern'])\n",
    "for rb_seed, rb_circ_seed in enumerate(rb_circs):\n",
    "    print('Compiling seed %d'%rb_seed)\n",
    "    new_rb_circ_seed = qiskit.compiler.transpile(rb_circ_seed, basis_gates=basis_gates)\n",
    "    transpiled_circs_list.append(new_rb_circ_seed)\n",
    "    print('Simulating seed %d'%rb_seed)\n",
    "    job = qiskit.execute(new_rb_circ_seed, backend, shots=shots,\n",
    "                         noise_model=noise_model,\n",
    "                         backend_options={'max_parallel_experiments': 0})    \n",
    "    # Add data to the fitter\n",
    "    rb_fit.add_data(job.result())\n",
    "    print('After seed %d, alpha: %f, EPC: %f'%(rb_seed,rb_fit.fit[0]['params'][1], rb_fit.fit[0]['epc']))"
   ]
  },
  {
   "cell_type": "markdown",
   "metadata": {},
   "source": [
    "### 追加ステップ: 結果のプロット"
   ]
  },
  {
   "cell_type": "code",
   "execution_count": 8,
   "metadata": {},
   "outputs": [
    {
     "data": {
      "image/png": "[encoded data removed]",
      "text/plain": [
       "<Figure size 576x432 with 1 Axes>"
      ]
     },
     "metadata": {
      "needs_background": "light"
     },
     "output_type": "display_data"
    }
   ],
   "source": [
    "plt.figure(figsize=(8, 6))\n",
    "ax = plt.subplot(1, 1, 1)\n",
    "\n",
    "# Plot the essence by calling plot_rb_data\n",
    "rb_fit.plot_rb_data(0, ax=ax, add_label=True, show_plt=False)\n",
    "    \n",
    "# Add title and label\n",
    "ax.set_title('%d Qubit RB'%(nQ), fontsize=18)\n",
    "\n",
    "plt.show()"
   ]
  },
  {
   "cell_type": "markdown",
   "metadata": {},
   "source": [
    "## RBの直観的理解\n",
    "\n",
    "脱分極した量子チャンネルはパラメーター $\\alpha$ を持っており、次のように動作します。確率 $\\alpha$ で状態は以前と変わらず、確率 $1-\\alpha$ で状態は完全に混合状態になります。すなわち、\n",
    "\n",
    "$$\\rho_f = \\alpha \\rho_i + \\frac{1-\\alpha}{2^n} * \\mathbf{I}$$\n",
    "\n",
    "クリフォードゲートとは限らず、 $m$ ゲートの配列があるとします。ここでゲートのエラーチャンネルはパラメータ $\\alpha$ を持つ脱分極チャンネルです( $\\alpha$ は全てのゲートで共通)。このとき、確率 $\\alpha^m$ で状態は最後の配列で正しく、確率 $1-\\alpha^m$ で完全な混合状態になります。そのため、\n",
    "\n",
    "$$\\rho_f^m = \\alpha^m \\rho_i + \\frac{1-\\alpha^m}{2^n} * \\mathbf{I}$$\n",
    "\n",
    "今、我々は基底状態から始めることに加え以下を仮定します。 配列全体として恒等変換になるとします。 配列の最後の状態を標準基底で測定するとします。 このとき、配列の最後での成功確率は次のように求まります。\n",
    "\n",
    "$$\\alpha^m + \\frac{1-\\alpha^m}{2^n} = \\frac{2^n-1}{2^n}\\alpha^m + \\frac{1}{2^n} =  A_0\\alpha^m + B_0$$\n",
    "\n",
    "成功確率、言い換えるとフィデリティーは、 $\\alpha$ を底として配列の長さに応じ指数関数的に減衰します。\n",
    "\n",
    "直前の主張は、チャンネルが脱分極チャネル以外の場合には必ずしも正しいと言えません。しかし、ゲートが一様にランダム化されたクリフォードゲートである場合、チャネルから計算することができるいくつかのパラメータを用いると、各ゲートのノイズは脱分極チャネルであるかのように平均的に振る舞い、フィデリティーの指数関数的な減衰を得られるということが分かります。\n",
    "\n",
    "形式的には、量子チャネル $\\bar \\Lambda$ の有限群 $G$ (クリフォード群など)の平均をとることは、*twirl*とも呼ばれます。\n",
    "\n",
    "$$ W_G(\\bar \\Lambda) \\frac{1}{|G|} \\sum_{u \\in G} U^{\\dagger} \\circ  \\bar \\Lambda \\circ U$$\n",
    "\n",
    "ユニタリー群上をtwirlすると、クリフォード群と全く同じ結果が得られます。クリフォード群は、ユニタリー群の *2-design* です。"
   ]
  },
  {
   "cell_type": "markdown",
   "metadata": {},
   "source": [
    "## 同時ランダマイズド・ベンチマーキング\n",
    "\n",
    "RBは、2つの方法で多量子ビット系のフィデリティー計算に対応できるように設計されています。第一に、 $n$ -量子ビット空間全体でのRBは、 $n$ 量子ビットクリフォード群から配列を構築することで実行できます。第二に、 $n$ 量子ビット空間 は $ {n_i} $ 量子ビットの集合と細分化することができ、 $n_i$量子ビットRBは各部分集合で同時に実行可能です[4]。 どちらの方法も、 $n$ 量子ビット空間におけるフィデリティーの指標を与えます。\n",
    "\n",
    "例えば、他の量子ビットが使われていなくても、CNOTゲートを定義する2量子ビットの部分集合に対して2Q RBを実行するのが一般的です。[4]で説明したように、このRBデータは、他の量子部分空間をtwirlしていないため、必ずしも指数関数的に減衰するとは限りません。すべての量子ビットが活性であるので、一定レベルのクロストークエラーも測定する同時RBによって部分空間はより厳密に特徴づけられます。\n",
    "\n",
    "同時RBの例(1量子RBと2量子RB)は以下にあります。: https://github.com/Qiskit/qiskit-tutorials/blob/master/tutorials/noise/4_randomized_benchmarking.ipynb"
   ]
  },
  {
   "cell_type": "markdown",
   "metadata": {},
   "source": [
    "## ゲートフィデリティーの予測\n",
    "\n",
    "使用されているゲート(ゲートセット)のエラーがわかれば、RB実験を行わなくてもEPCを予測することができます。この計算は、RB実験に続いてフィッティングを行うと正しいEPC値が得られることを確認するものです。まず、クリフォードあたりのゲートの数を数える必要があります。\n",
    "\n",
    "まず、2量子ビットのクリフォードゲートエラー関数 <code>calculate_2q_epc</code>  が、2量子クリフォードあたりのエラーを与えます。この関数は、使用されているゲートのエラーが脱分極していることを前提としています。そしてこの関数は[5]の補足部分で導出されています。 "
   ]
  },
  {
   "cell_type": "code",
   "execution_count": 9,
   "metadata": {},
   "outputs": [
    {
     "name": "stdout",
     "output_type": "stream",
     "text": [
      "Number of u1 gates per Clifford: 0.120087\n",
      "Number of u2 gates per Clifford: 1.656878\n",
      "Number of u3 gates per Clifford: 0.158406\n",
      "Number of cx gates per Clifford: 1.464847\n"
     ]
    }
   ],
   "source": [
    "# count the number of single and 2Q gates in the 2Q Cliffords\n",
    "qubits = rb_opts['rb_pattern'][0]\n",
    "\n",
    "gate_per_cliff = rb.rb_utils.gates_per_clifford(\n",
    "    transpiled_circuits_list=transpiled_circs_list,\n",
    "    clifford_lengths=xdata[0],\n",
    "    basis=basis_gates,\n",
    "    qubits=qubits)\n",
    "\n",
    "for basis_gate in basis_gates:\n",
    "    print(\"Number of %s gates per Clifford: %f\"%(\n",
    "        basis_gate,\n",
    "        np.mean([gate_per_cliff[qubit][basis_gate] for qubit in qubits])))"
   ]
  },
  {
   "cell_type": "code",
   "execution_count": 10,
   "metadata": {},
   "outputs": [
    {
     "name": "stdout",
     "output_type": "stream",
     "text": [
      "Predicted 2Q Error per Clifford: 1.561771e-02 (qasm simulator result: 1.673676e-02)\n"
     ]
    }
   ],
   "source": [
    "# convert from depolarizing error to epg (1Q)\n",
    "epg_q0 = {'u1': 0, 'u2': p1Q/2, 'u3': 2 * p1Q/2}\n",
    "epg_q1 = {'u1': 0, 'u2': p1Q/2, 'u3': 2 * p1Q/2}\n",
    "\n",
    "# convert from depolarizing error to epg (2Q)\n",
    "epg_q01 = 3/4 * p2Q\n",
    "\n",
    "# calculate the predicted epc from underlying gate errors \n",
    "pred_epc = rb.rb_utils.calculate_2q_epc(\n",
    "    gate_per_cliff=gate_per_cliff,\n",
    "    epg_2q=epg_q01,\n",
    "    qubit_pair=qubits,\n",
    "    list_epgs_1q=[epg_q0, epg_q1])\n",
    "\n",
    "print(\"Predicted 2Q Error per Clifford: %e (qasm simulator result: %e)\" % (pred_epc, rb_fit.fit[0]['epc']))"
   ]
  },
  {
   "cell_type": "markdown",
   "metadata": {},
   "source": [
    "一方、実験で得られたEPCから、使われたゲート(ゲートセット)のエラーを計算することができる。RB配列に含まれる各単一量子ビットゲートのエラーがわかっていることから、2量子ビットRB実験のEPCから2量子ビットゲートエラーを予測することができます。\n",
    "\n",
    "2量子ビットゲートエラー関数 `calculate_2q_epg` は、2量子ビットゲートあたりのエラーの推定値を与えます。ここでは、脱分極エラーモデルを用いて1量子ビットのエラーを用意します。エラーモデルが不明な場合、それらのゲートのEPG(例えば [`u1`, `u2`, `u3`] )はユーティリティ関数  `calculate_1q_epg` を用いて、別の1量子RB実験で推定することができます。"
   ]
  },
  {
   "cell_type": "code",
   "execution_count": 11,
   "metadata": {},
   "outputs": [
    {
     "name": "stdout",
     "output_type": "stream",
     "text": [
      "Predicted 2Q Error per gate: 8.251320e-03 (gate error model: 7.500000e-03)\n"
     ]
    }
   ],
   "source": [
    "# use 2Q EPC from qasm simulator result and 1Q EPGs from depolarizing error model\n",
    "pred_epg = rb.rb_utils.calculate_2q_epg(\n",
    "    gate_per_cliff=gate_per_cliff,\n",
    "    epc_2q=rb_fit.fit[0]['epc'],\n",
    "    qubit_pair=qubits,\n",
    "    list_epgs_1q=[epg_q0, epg_q1])\n",
    "\n",
    "print(\"Predicted 2Q Error per gate: %e (gate error model: %e)\" % (pred_epg, epg_q01))"
   ]
  },
  {
   "cell_type": "markdown",
   "metadata": {},
   "source": [
    "## 参考文献\n",
    "\n",
    "1. Easwar Magesan, J. M. Gambetta, and Joseph Emerson, *Robust randomized benchmarking of quantum processes*, https://arxiv.org/pdf/1009.3639\n",
    "\n",
    "2. Easwar Magesan, Jay M. Gambetta, and Joseph Emerson, *Characterizing Quantum Gates via Randomized Benchmarking*, https://arxiv.org/pdf/1109.6887\n",
    "\n",
    "3. A. D. C'orcoles, Jay M. Gambetta, Jerry M. Chow, John A. Smolin, Matthew Ware, J. D. Strand, B. L. T. Plourde, and M. Steffen, *Process verification of two-qubit quantum gates by randomized benchmarking*, https://arxiv.org/pdf/1210.7011\n",
    "\n",
    "4. Jay M. Gambetta, A. D. C´orcoles, S. T. Merkel, B. R. Johnson, John A. Smolin, Jerry M. Chow, Colm A. Ryan, Chad Rigetti, S. Poletto, Thomas A. Ohki, Mark B. Ketchen, and M. Steffen, *Characterization of addressability by simultaneous randomized benchmarking*, https://arxiv.org/pdf/1204.6308\n",
    "\n",
    "5. David C. McKay, Sarah Sheldon, John A. Smolin, Jerry M. Chow, and Jay M. Gambetta, *Three Qubit Randomized Benchmarking*, https://arxiv.org/pdf/1712.06550"
   ]
  },
  {
   "cell_type": "code",
   "execution_count": null,
   "metadata": {},
   "outputs": [],
   "source": [
    "import qiskit\n",
    "qiskit.__qiskit_version__"
   ]
  }
 ],
 "metadata": {
  "kernelspec": {
   "display_name": "Python 3",
   "language": "python",
   "name": "python3"
  },
  "language_info": {
   "codemirror_mode": {
    "name": "ipython",
    "version": 3
   },
   "file_extension": ".py",
   "mimetype": "text/x-python",
   "name": "python",
   "nbconvert_exporter": "python",
   "pygments_lexer": "ipython3",
   "version": "3.9"
  }
 },
 "nbformat": 4,
 "nbformat_minor": 2
}
