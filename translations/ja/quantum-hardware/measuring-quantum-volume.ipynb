{
 "cells": [
  {
   "cell_type": "markdown",
   "metadata": {
    "tags": [
     "remove_cell"
    ]
   },
   "source": [
    "# 量子ボリュームの測定\n",
    "\n",
    "![hero:quantum volume](images/quantum_volume.png)\n"
   ]
  },
  {
   "cell_type": "markdown",
   "metadata": {
    "gloss": {
     "quantum-advantage": {
      "text": "Quantum advantage is a term used to refer to the ability for a quantum computer to perform computations beyond that which a classical computer can perform.",
      "title": "quantum advantage"
     },
     "transpiler": {
      "text": "A transpiler converts a quantum circuit to run on a particular quantum device. This conversion process may require converting the gates in the circuit to gates supported by the device, and adding swap gates if certain qubits in the device cannot interact with eachother.",
      "title": "transpiler"
     }
    }
   },
   "source": [
    "## なぜ量子ボリュームなのか？\n",
    "\n",
    "異なる量子コンピューターを比較することは、簡単なことではありません。量子コンピューターの性能に影響を与える要因はさまざまであり、有用な量子計算を行う際にどの要因が最も大きな影響を与えるかは必ずしも明らかではありません。\n",
    "\n",
    "あなたが量子コンピューターを設計しているとします。量子ビットの連結性（コネクティビティー）の低下（より長い回路が必要）と、より高い忠実度のゲート（エラーが少ない）をトレードするでしょうか？例えば、優れた[トランスパイラー](gloss:transpiler)があれば、連結性の低下はそれほど問題ではなく、スワップを構造化することができるかもしれません。または、読み出しエラーが非常に大きいので、ゲート忠実度の向上はいずれにせよ無視できるものかもしれません。量子コンピューターの得点表にこれらの統計情報を追加することは可能ですが、各要素の正確な重要性については議論が必要です。たとえ、個々の要素で高得点を獲得できたとしても、量子回路を動作させる際に予期せぬ問題が発生する可能性があります。\n",
    "\n",
    "一つ確かなことは、[量子優位性](gloss:quantum-advantage)を得るためには、多くの量子ビットと、それらを精密に操作する能力が必要だということです。もし十分な量子ビットがなければ、有用な計算はできないし、もしこれらの量子ビットが十分な精度や信頼性を持っていなければ、我々の測定は無意味なものとなってしまいます。"
   ]
  },
  {
   "cell_type": "markdown",
   "metadata": {
    "goals": [
     {
      "click": "true",
      "id": "tabclicked2",
      "selector": ".tabs .titles > h3:nth-child(2)"
     },
     {
      "click": "true",
      "id": "tabclicked3",
      "selector": ".tabs .titles > h3:nth-child(3)"
     },
     {
      "click": "true",
      "id": "tabclicked4",
      "selector": ".tabs .titles > h3:nth-child(4)"
     },
     {
      "click": "true",
      "id": "tabclicked5",
      "selector": ".tabs .titles > h3:nth-child(5)"
     }
    ]
   },
   "source": [
    "<!-- ::: q-block.tabs -->\n",
    "\n",
    "## 計算能力に影響を与えるものは？\n",
    "\n",
    "<!-- ::: tab -->\n",
    "\n",
    "### 量子ビット数\n",
    "\n",
    "<!-- ::: column(width=350) -->\n",
    "\n",
    "**量子ビット数（多いほど良い）**\n",
    "\n",
    "量子コンピューターの量子ビットの数は、計算能力の上限を決めています。古典的なコンピューターに対して優位に立つためには、できるだけ多くの量子ビットをエンタングルさせることが必要です。\n",
    "\n",
    "<!-- ::: column(width=250) -->\n",
    "\n",
    "<img src=\"images/qubit_count.png\" width=\"195\">\n",
    "\n",
    "<!-- ::: -->\n",
    "\n",
    "<!-- ::: tab -->\n",
    "\n",
    "### 読み出しエラー\n",
    "\n",
    "<!-- ::: column(width=350) -->\n",
    "\n",
    "**ゲートエラー、読み出しエラー（少ない方が良い）**\n",
    "\n",
    "前述したように、量子コンピューターのエラーは、量子コンピューターの能力の上限を決めるものでもあります。もし、量子状態を確実に操作できないのであれば、量子コンピューターから意味のある結果を得ることはできないでしょう。\n",
    "\n",
    "<!-- ::: column(width=250) -->\n",
    "\n",
    "<img src=\"images/readout_errors.png\" width=\"195\">\n",
    "\n",
    "<!-- ::: -->\n",
    "\n",
    "<!-- ::: tab -->\n",
    "\n",
    "### 連結性（コネクティビティー）\n",
    "\n",
    "<!-- ::: column(width=350) -->\n",
    "\n",
    "**量子ビット間の連結性（多ければ多いほど良い）**\n",
    "\n",
    "もし2つの量子ビットが直接通信できない場合、それらを正しい場所に移動させるために「スワップ」ゲートを追加する必要があり、計算の長さが長くなってしまうのです。量子ボリューム回路は完全な連結性を仮定しているので、スワップゲートを追加する必要がある場合は、あなたの責任になります。\n",
    "\n",
    "<!-- ::: column(width=250) -->\n",
    "\n",
    "<img src=\"images/connectivity.png\" width=\"195\">\n",
    "\n",
    "<!-- ::: -->\n",
    "\n",
    "<!-- ::: tab -->\n",
    "\n",
    "### ゲートセット\n",
    "\n",
    "<!-- ::: column(width=350) -->\n",
    "\n",
    "**ゲートセット（大きい/高性能な方が良い）**\n",
    "\n",
    "量子ボリュームはランダムな2量子ビットのゲートを要求しますが、それをどのように実装するかを考えるのもあなた次第です。もし、ハードウェアがより多くのゲートをサポートしていれば、まともな結果が得られる可能性が高くなります。\n",
    "\n",
    "<!-- ::: column(width=250) -->\n",
    "\n",
    "<img src=\"images/gate_set.png\" width=\"195\">\n",
    "\n",
    "<!-- ::: -->\n",
    "\n",
    "<!-- ::: tab -->\n",
    "\n",
    "### ソフトウェアスタック\n",
    "\n",
    "<!-- ::: column(width=350) -->\n",
    "\n",
    "**コンパイラーとソフトウェアスタック（よりインテリジェントであるほど良い）**\n",
    "\n",
    "その他の問題（スワップゲートの追加挿入、使用可能なゲートセットからの指定ゲート作成、ノイズへの対応）は、トランスパイラーなどのインテリジェントな古典ソフトウェアで軽減することができます。\n",
    "\n",
    "<!-- ::: column(width=250) -->\n",
    "\n",
    "<img src=\"images/software_stack.png\" width=\"195\">\n",
    "\n",
    "<!-- ::: -->\n",
    "\n",
    "<!-- ::: -->\n",
    "\n",
    "<!-- ::: -->\n"
   ]
  },
  {
   "cell_type": "markdown",
   "metadata": {},
   "source": [
    "そこで登場するのが量子ボリュームです。量子ボリュームは*全体的な*ベンチマークです。細部を見るのではなく、量子コンピューターが量子回路を実行するという、我々が望むことを行うのにどれだけ優れているかを測定するのです。量子ボリュームテストでは、指定された回路をランダムに作成し、量子コンピューターの「スコア」は、確実に実行できる回路の大きさに応じて増加します。\n",
    "\n",
    "この章では、次のことを学びます。\n",
    "\n",
    "1. 量子ボリュームとは何か。\n",
    "2. ランダムな正方形回路の作り方。\n",
    "3. あるデバイスがある量子ボリュームを達成できるかどうかを確認する方法。\n",
    "4. Qiskitのツールを使って簡単に実行するには、どうすればいいのか。"
   ]
  },
  {
   "cell_type": "markdown",
   "metadata": {
    "gloss": {
     "depth": {
      "text": "If each gate takes one time step to execute, the depth is the shortest number of timesteps the circuit can be carried out in.",
      "title": "depth"
     },
     "width": {
      "text": "The number of qubits in the circuit.",
      "title": "width"
     }
    }
   },
   "source": [
    "## 量子ボリュームとは？\n",
    "\n",
    "量子ボリューム(QV)は量子コンピューターの能力を測定するために使用される単一の数値指標です。量子ビットの数が控えめな近い将来のデバイスに使用され、[幅(width)](gloss:width)と[深さ(depth)](gloss:depth)が等しいランダム回路のうち、確実に実行できる最大のものを測定します。"
   ]
  },
  {
   "cell_type": "markdown",
   "metadata": {
    "goals": [
     {
      "id": "wiqv-explored"
     }
    ]
   },
   "source": [
    "<!-- ::: q-block -->\n",
    "\n",
    "## ビジュアルデモ\n",
    "\n",
    "\n",
    "    q-what-is-quantum-volume(goal=\"wiqv-explored\")\n",
    "\n",
    "<!-- ::: -->\n"
   ]
  },
  {
   "cell_type": "markdown",
   "metadata": {},
   "source": [
    "## 量子ボリュームプロトコル\n",
    "\n",
    "### 概要\n",
    "\n",
    "量子ボリュームベンチマークを行うには、まず、サイズ $d$ の回路を大量に作成します。そして、その回路をシミュレーションして、最も可能性の高い出力を記録します。同じ回路をテストするデバイスで実行し、出力がシミュレーションしたものとどの程度一致するかを確認します。その結果、十分な結果が得られたら、dを大きくしてやり直します。デバイスの量子ボリュームは、デバイスが許容できる最大の回路サイズの2のべき乗となります。\n",
    "\n",
    "<div class=\"qv-overview\">\n",
    "\n",
    "<!-- ::: column(width=25) -->\n",
    "\n",
    "## 1.\n",
    "\n",
    "<!-- ::: column(width=100) -->\n",
    "\n",
    "![test](images/overview-1.png)\n",
    "\n",
    "<!-- ::: column.grow -->\n",
    "\n",
    "幅と深さが $d$ のランダムな回路の集合を作成します。\n",
    "\n",
    "<!-- ::: -->\n",
    "\n",
    "\n",
    "<!-- ::: column(width=25) -->\n",
    "\n",
    "## 2.\n",
    "\n",
    "<!-- ::: column(width=100) -->\n",
    "\n",
    "![test](images/overview-2.png)\n",
    "\n",
    "<!-- ::: column.grow -->\n",
    "\n",
    "回路をシミュレートし、どの出力が最も可能性が高いかを記録します。\n",
    "\n",
    "<!-- ::: -->\n",
    "\n",
    "\n",
    "<!-- ::: column(width=25) -->\n",
    "\n",
    "## 3.\n",
    "\n",
    "<!-- ::: column(width=100) -->\n",
    "\n",
    "![test](images/overview-3.png)\n",
    "\n",
    "<!-- ::: column.grow -->\n",
    "\n",
    "テストするデバイスで回路を実行し、結果を記録します。\n",
    "\n",
    "<!-- ::: -->\n",
    "\n",
    "\n",
    "<!-- ::: column(width=25) -->\n",
    "\n",
    "## 4.\n",
    "\n",
    "<!-- ::: column(width=100) -->\n",
    "\n",
    "![test](images/overview-4.png)\n",
    "\n",
    "<!-- ::: column.grow -->\n",
    "\n",
    "デバイスの結果が静的にシミュレーションの結果に十分近ければ、$d$ を増やしてステップ1に進みます。失敗するまで繰り返します。\n",
    "\n",
    "<!-- ::: -->\n",
    "\n",
    "\n",
    "<!-- ::: column(width=25) -->\n",
    "\n",
    "## 5.\n",
    "\n",
    "<!-- ::: column(width=100) -->\n",
    "\n",
    "![test](images/overview-5.png)\n",
    "\n",
    "<!-- ::: column.grow -->\n",
    "\n",
    "量子ボリュームは $ 2^{d_{\\text{max}}} $ です。ここで、$d_{\\text{max}}$ は私たちのデバイスが正常に動作する最大の回路の幅と深さです。\n",
    "\n",
    "<!-- ::: -->\n",
    "\n",
    "</div>\n",
    "\n"
   ]
  },
  {
   "cell_type": "markdown",
   "metadata": {
    "gloss": {
     "depth": {
      "text": "If each gate takes one time step to execute, the depth is the shortest number of timesteps the circuit can be carried out in.",
      "title": "depth"
     },
     "permutation": {
      "text": "A permutation of a set is an ordering of its elements.",
      "title": "permutation"
     },
     "unitarygates": {
      "text": "A unitary gate is a reversible, quantum operation.",
      "title": "unitary gates"
     },
     "width": {
      "text": "The number of qubits in the circuit.",
      "title": "width"
     }
    }
   },
   "source": [
    "## 正方形回路\n",
    "\n",
    "正方形回路とは、[幅](gloss:width)と[深さ](gloss:depth)が等しい回路です。これは、汎用量子コンピュータで動かしたい回路にほぼ近似しており、深さと幅が等しいので、一つの数で定義することができます。\n",
    "\n",
    "私たちは、量子回路を用いて、多項式数の2量子ビットの[ユニタリーゲート](gloss:unitarygates)で量子アルゴリズムを構築できることを知っています。私たちが選んだモデルは、量子ビットのラベルをランダムに[並べ換え](gloss:permutation)、その後にランダムに指定された2量子ビットのゲートを重ねたものです。量子ビットの数が奇数の場合、各層で量子ビットの1つがアイドル状態になっています。\n",
    "\n",
    "これらのランダム回路は、従来のアルゴリズムに見られる回路よりも、近い将来の量子アルゴリズムに見られる回路に近いものです。\n"
   ]
  },
  {
   "cell_type": "markdown",
   "metadata": {},
   "source": [
    "<!-- ::: q-block -->\n",
    "\n",
    "## 正方形回路のデモ\n",
    "\n",
    "### 層とユニタリー\n",
    "\n",
    "各層内のゲートの例を見るには、いずれかの層をクリックしてください。各層は各量子ビットに一度だけ影響を与え、層内のすべてのユニタリーゲートは並列に実行することができます（デバイスが量子ビットに完全に連結されていると仮定しています）。\n",
    "\n",
    "    q-layers-circuit\n",
    "    \n",
    "<!--\n",
    "    div(data-vue-mount)\n",
    "        layers-circuit(layers=3 lines=3 :gates-inspection=\"[ [{ q1: 0, q2: 1 }, { q1: 1, q2: 2 }],[{ q1: 0, q2: 1 }, { q1: 0, q2: 1 }],[{ q1: 1, q2: 2 }, { q1: 0, q2: 1 }] ]\")\n",
    "-->\n",
    "\n",
    "<!-- ![vue:layers-circuit](images/layers_unitary.png) -->\n",
    "\n",
    "<!-- ::: -->\n"
   ]
  },
  {
   "cell_type": "markdown",
   "metadata": {},
   "source": [
    "### 正方形回路を作る\n",
    "\n",
    "まず始めに、ランダムな正方形回路を作ってみましょう。まず、どの量子ビットに作用させるかを決める必要があります。量子ボリュームを測定する場合、デバイス上のどの量子ビットが最も良い結果をもたらすかを選択することができます。ここでは、仮想的なデバイスの最初の5量子ビットを選択します。つまり、回路の深さと幅は共に5となります。\n"
   ]
  },
  {
   "cell_type": "code",
   "execution_count": 1,
   "metadata": {},
   "outputs": [],
   "source": [
    "qubit_list = [0,1,2,3,4]\n",
    "# width == depth (we'll call it 'SIZE')\n",
    "SIZE = len(qubit_list)"
   ]
  },
  {
   "cell_type": "markdown",
   "metadata": {},
   "source": [
    "次に、ランダムな2量子ビットのゲートを作成する方法が必要です。Qiskitには<code>random_unitary</code>というツールがあり、ランダムな $n\\times n$ ユニタリー演算子を生成してくれます。この関数は、任意の可能なユニタリー2量子ビット演算を生成することができます。"
   ]
  },
  {
   "cell_type": "code",
   "execution_count": 2,
   "metadata": {},
   "outputs": [
    {
     "data": {
      "text/plain": [
       "Operator([[ 0.15855101+0.43200431j,  0.17936835+0.33038706j,\n",
       "            0.32397045-0.42062619j,  0.45889998-0.39297939j],\n",
       "          [-0.63197085+0.37157517j,  0.16430865-0.20739379j,\n",
       "           -0.50941915-0.33769635j,  0.09177228+0.10279286j],\n",
       "          [-0.13549262+0.1628117j ,  0.35551699-0.69789517j,\n",
       "            0.52832722+0.159446j  , -0.10702303-0.160242j  ],\n",
       "          [ 0.41315089+0.18766735j,  0.41851831-0.0073683j ,\n",
       "            0.03949069-0.19610679j, -0.03445623+0.76004659j]],\n",
       "         input_dims=(2, 2), output_dims=(2, 2))"
      ]
     },
     "execution_count": 2,
     "metadata": {},
     "output_type": "execute_result"
    }
   ],
   "source": [
    "from qiskit.quantum_info import random_unitary\n",
    "random_unitary(4)"
   ]
  },
  {
   "cell_type": "markdown",
   "metadata": {},
   "source": [
    "これを利用して、ランダムな正方形回路を1層だけ作ることができるのです。"
   ]
  },
  {
   "cell_type": "code",
   "execution_count": 3,
   "metadata": {},
   "outputs": [
    {
     "data": {
      "image/svg+xml": [
       "<?xml version=\"1.0\" encoding=\"UTF-8\"?><!DOCTYPE svg  PUBLIC '-//W3C//DTD SVG 1.1//EN'  'http://www.w3.org/Graphics/SVG/1.1/DTD/svg11.dtd'><svg width=\"173.79pt\" height=\"264.71pt\" version=\"1.1\" viewBox=\"0 0 173.79 264.71\" xmlns=\"http://www.w3.org/2000/svg\" xmlns:xlink=\"http://www.w3.org/1999/xlink\"><defs><style type=\"text/css\">*{stroke-linejoin: round; stroke-linecap: butt}</style></defs><path d=\"m0 264.71h173.79v-264.71h-173.79z\" fill=\"#ffffff\"/><path d=\"m64.609 44.283h97.343\" clip-path=\"url(#p68d1deb749)\" fill=\"none\" stroke=\"#000000\" stroke-linecap=\"square\" stroke-width=\"2\"/><path d=\"m64.609 90.637h97.343\" clip-path=\"url(#p68d1deb749)\" fill=\"none\" stroke=\"#000000\" stroke-linecap=\"square\" stroke-width=\"2\"/><path d=\"m64.609 136.99h97.343\" clip-path=\"url(#p68d1deb749)\" fill=\"none\" stroke=\"#000000\" stroke-linecap=\"square\" stroke-width=\"2\"/><path d=\"m64.609 183.35h97.343\" clip-path=\"url(#p68d1deb749)\" fill=\"none\" stroke=\"#000000\" stroke-linecap=\"square\" stroke-width=\"2\"/><path d=\"m64.609 229.7h97.343\" clip-path=\"url(#p68d1deb749)\" fill=\"none\" stroke=\"#000000\" stroke-linecap=\"square\" stroke-width=\"2\"/><path d=\"m82.455 105.7h60.724v-76.484h-60.724z\" clip-path=\"url(#p68d1deb749)\" fill=\"#6929c4\" stroke=\"#6929c4\" stroke-width=\"1.5\"/><path d=\"m82.455 198.41h60.724v-76.484h-60.724z\" clip-path=\"url(#p68d1deb749)\" fill=\"#6929c4\" stroke=\"#6929c4\" stroke-width=\"1.5\"/><g clip-path=\"url(#p68d1deb749)\"><g transform=\"translate(37.301 48.734) scale(.1625 -.1625)\"><defs><path id=\"DejaVuSans-Oblique-71\" transform=\"scale(.015625)\" d=\"m2669 525q-231-303-546-460-314-156-695-156-531 0-833 358-301 358-301 986 0 506 186 978t533 847q225 244 517 375t614 131q387 0 637-153t363-462l100 525h578l-934-4813h-579l360 1844zm-1778 813q0-463 193-705 194-242 560-242 544 0 928 520t384 1264q0 450-199 689-198 239-569 239-272 0-504-127-231-126-403-370-181-256-286-600-104-343-104-668z\"/><path id=\"DejaVuSans-30\" transform=\"scale(.015625)\" d=\"m2034 4250q-487 0-733-480-245-479-245-1442 0-959 245-1439 246-480 733-480 491 0 736 480 246 480 246 1439 0 963-246 1442-245 480-736 480zm0 500q785 0 1199-621 414-620 414-1801 0-1178-414-1799-414-620-1199-620-784 0-1198 620-414 621-414 1799 0 1181 414 1801 414 621 1198 621z\"/></defs><use xlink:href=\"#DejaVuSans-Oblique-71\"/><use transform=\"translate(63.477 -16.406) scale(.7)\" xlink:href=\"#DejaVuSans-30\"/></g></g><g clip-path=\"url(#p68d1deb749)\"><g transform=\"translate(37.301 95.088) scale(.1625 -.1625)\"><defs><path id=\"DejaVuSans-31\" transform=\"scale(.015625)\" d=\"m794 531h1031v3560l-1122-225v575l1116 225h631v-4135h1031v-531h-2687v531z\"/></defs><use xlink:href=\"#DejaVuSans-Oblique-71\"/><use transform=\"translate(63.477 -16.406) scale(.7)\" xlink:href=\"#DejaVuSans-31\"/></g></g><g clip-path=\"url(#p68d1deb749)\"><g transform=\"translate(37.301 141.44) scale(.1625 -.1625)\"><defs><path id=\"DejaVuSans-32\" transform=\"scale(.015625)\" d=\"m1228 531h2203v-531h-2962v531q359 372 979 998 621 627 780 809 303 340 423 576 121 236 121 464 0 372-261 606-261 235-680 235-297 0-627-103-329-103-704-313v638q381 153 712 231 332 78 607 78 725 0 1156-363 431-362 431-968 0-288-108-546-107-257-392-607-78-91-497-524-418-433-1181-1211z\"/></defs><use xlink:href=\"#DejaVuSans-Oblique-71\"/><use transform=\"translate(63.477 -16.406) scale(.7)\" xlink:href=\"#DejaVuSans-32\"/></g></g><g clip-path=\"url(#p68d1deb749)\"><g transform=\"translate(37.301 187.8) scale(.1625 -.1625)\"><defs><path id=\"DejaVuSans-33\" transform=\"scale(.015625)\" d=\"m2597 2516q453-97 707-404 255-306 255-756 0-690-475-1069-475-378-1350-378-293 0-604 58t-642 174v609q262-153 574-231 313-78 654-78 593 0 904 234t311 681q0 413-289 645-289 233-804 233h-544v519h569q465 0 712 186t247 536q0 359-255 551-254 193-729 193-260 0-557-57-297-56-653-174v562q360 100 674 150t592 50q719 0 1137-327 419-326 419-882 0-388-222-655t-631-370z\"/></defs><use xlink:href=\"#DejaVuSans-Oblique-71\"/><use transform=\"translate(63.477 -16.406) scale(.7)\" xlink:href=\"#DejaVuSans-33\"/></g></g><g clip-path=\"url(#p68d1deb749)\"><g transform=\"translate(37.301 234.15) scale(.1625 -.1625)\"><defs><path id=\"DejaVuSans-34\" transform=\"scale(.015625)\" d=\"m2419 4116-1594-2491h1594v2491zm-166 550h794v-3041h666v-525h-666v-1100h-628v1100h-2106v609l1940 2957z\"/></defs><use xlink:href=\"#DejaVuSans-Oblique-71\"/><use transform=\"translate(63.477 -16.406) scale(.7)\" xlink:href=\"#DejaVuSans-34\"/></g></g><g clip-path=\"url(#p68d1deb749)\"><g transform=\"translate(85.7 47.87) scale(.13 -.13)\" fill=\"#ffffff\"><use xlink:href=\"#DejaVuSans-30\"/></g></g><g clip-path=\"url(#p68d1deb749)\"><g transform=\"translate(85.7 94.224) scale(.13 -.13)\" fill=\"#ffffff\"><use xlink:href=\"#DejaVuSans-31\"/></g></g><g clip-path=\"url(#p68d1deb749)\"><g transform=\"translate(94.183 71.047) scale(.13 -.13)\" fill=\"#ffffff\"><defs><path id=\"DejaVuSans-55\" transform=\"scale(.015625)\" d=\"m556 4666h635v-2835q0-750 271-1080 272-329 882-329 606 0 878 329 272 330 272 1080v2835h634v-2913q0-912-452-1378-451-466-1332-466-885 0-1337 466-451 466-451 1378v2913z\"/><path id=\"DejaVuSans-6e\" transform=\"scale(.015625)\" d=\"m3513 2113v-2113h-575v2094q0 497-194 743-194 247-581 247-466 0-735-297-269-296-269-809v-1978h-578v3500h578v-544q207 316 486 472 280 156 646 156 603 0 912-373 310-373 310-1098z\"/><path id=\"DejaVuSans-69\" transform=\"scale(.015625)\" d=\"m603 3500h575v-3500h-575v3500zm0 1363h575v-729h-575v729z\"/><path id=\"DejaVuSans-74\" transform=\"scale(.015625)\" d=\"m1172 4494v-994h1184v-447h-1184v-1900q0-428 117-550t477-122h590v-481h-590q-666 0-919 248-253 249-253 905v1900h-422v447h422v994h578z\"/><path id=\"DejaVuSans-61\" transform=\"scale(.015625)\" d=\"m2194 1759q-697 0-966-159t-269-544q0-306 202-486 202-179 548-179 479 0 768 339t289 901v128h-572zm1147 238v-1997h-575v531q-197-318-491-470t-719-152q-537 0-855 302-317 302-317 808 0 590 395 890 396 300 1180 300h807v57q0 397-261 614t-733 217q-300 0-585-72-284-72-546-216v532q315 122 612 182 297 61 578 61 760 0 1135-394 375-393 375-1193z\"/><path id=\"DejaVuSans-72\" transform=\"scale(.015625)\" d=\"m2631 2963q-97 56-211 82-114 27-251 27-488 0-749-317t-261-911v-1844h-578v3500h578v-544q182 319 472 473 291 155 707 155 59 0 131-8 72-7 159-23l3-590z\"/><path id=\"DejaVuSans-79\" transform=\"scale(.015625)\" d=\"m2059-325q-243-625-475-815-231-191-618-191h-460v481h338q237 0 368 113 132 112 291 531l103 262-1415 3444h609l1094-2737 1094 2737h609l-1538-3825z\"/></defs><use xlink:href=\"#DejaVuSans-55\"/><use x=\"73.193359\" xlink:href=\"#DejaVuSans-6e\"/><use x=\"136.572266\" xlink:href=\"#DejaVuSans-69\"/><use x=\"164.355469\" xlink:href=\"#DejaVuSans-74\"/><use x=\"203.564453\" xlink:href=\"#DejaVuSans-61\"/><use x=\"264.84375\" xlink:href=\"#DejaVuSans-72\"/><use x=\"305.957031\" xlink:href=\"#DejaVuSans-79\"/></g></g><g clip-path=\"url(#p68d1deb749)\"><g transform=\"translate(85.7 140.58) scale(.13 -.13)\" fill=\"#ffffff\"><use xlink:href=\"#DejaVuSans-30\"/></g></g><g clip-path=\"url(#p68d1deb749)\"><g transform=\"translate(85.7 186.93) scale(.13 -.13)\" fill=\"#ffffff\"><use xlink:href=\"#DejaVuSans-31\"/></g></g><g clip-path=\"url(#p68d1deb749)\"><g transform=\"translate(94.183 163.76) scale(.13 -.13)\" fill=\"#ffffff\"><use xlink:href=\"#DejaVuSans-55\"/><use x=\"73.193359\" xlink:href=\"#DejaVuSans-6e\"/><use x=\"136.572266\" xlink:href=\"#DejaVuSans-69\"/><use x=\"164.355469\" xlink:href=\"#DejaVuSans-74\"/><use x=\"203.564453\" xlink:href=\"#DejaVuSans-61\"/><use x=\"264.84375\" xlink:href=\"#DejaVuSans-72\"/><use x=\"305.957031\" xlink:href=\"#DejaVuSans-79\"/></g></g><defs><clipPath id=\"p68d1deb749\"><rect x=\"7.2\" y=\"7.2\" width=\"159.39\" height=\"250.31\"/></clipPath></defs></svg>"
      ],
      "text/plain": [
       "<Figure size 287.496x451.5 with 1 Axes>"
      ]
     },
     "execution_count": 3,
     "metadata": {},
     "output_type": "execute_result"
    }
   ],
   "source": [
    "from qiskit import QuantumCircuit\n",
    "\n",
    "qv_layer = QuantumCircuit(SIZE)\n",
    "for pair in range(SIZE//2):  # number of pairs is SIZE/2\n",
    "    qubit_indices = qubit_list[pair*2:pair*2+2]\n",
    "    gate = random_unitary(4)\n",
    "    qv_layer.append(gate, qubit_indices)\n",
    "\n",
    "qv_layer.draw()"
   ]
  },
  {
   "cell_type": "markdown",
   "metadata": {},
   "source": [
    "これで量子ビットのリストから層を作成することができます。必要なことは、量子ビットの順番をランダムに変えて繰り返すことだけです。Pythonにはリストをシャッフルする関数が組み込まれています（これは「インプレースで」動作するので、`qubit_lists`が参照するデータは変更されることに注意してください）。"
   ]
  },
  {
   "cell_type": "code",
   "execution_count": 4,
   "metadata": {},
   "outputs": [
    {
     "data": {
      "text/plain": [
       "[2, 4, 3, 0, 1]"
      ]
     },
     "execution_count": 4,
     "metadata": {},
     "output_type": "execute_result"
    }
   ],
   "source": [
    "from random import shuffle\n",
    "shuffle(qubit_list)\n",
    "qubit_list"
   ]
  },
  {
   "cell_type": "markdown",
   "metadata": {},
   "source": [
    "<!-- ::: q-block.exercise -->\n",
    "\n",
    "## 練習問題\n",
    "\n",
    "関数<code>random_square_circuit(n)</code>を作成し、整数<code>n</code>を受け取り、量子ボリューム実験に使用できる幅と深さ<code>n</code>のランダムな<code>QuantumCircuit</code>を返してください。あなたの解答には、上記のコードを使用してもかまいません。\n",
    "\n",
    "[IBM Quantum Labで試してみましょう](https://quantum-computing.ibm.com/lab)\n",
    "\n",
    "<!-- ::: -->\n"
   ]
  },
  {
   "cell_type": "markdown",
   "metadata": {},
   "source": [
    "Qiskitは回路クラス`QuantumVolume`（ここでは`QuantumVolumeCircuit`としてインポート）も提供していて、この回路を作成してくれます。私たちは使いたい量子ビットの数を指定する必要があるだけです。下のセルでは、4量子ビットの量子ボリューム回路を作成し、量子ボリュームが16であることをテストしています。"
   ]
  },
  {
   "cell_type": "code",
   "execution_count": 5,
   "metadata": {},
   "outputs": [
    {
     "data": {
      "image/svg+xml": [
       "<?xml version=\"1.0\" encoding=\"UTF-8\"?><!DOCTYPE svg  PUBLIC '-//W3C//DTD SVG 1.1//EN'  'http://www.w3.org/Graphics/SVG/1.1/DTD/svg11.dtd'><svg width=\"730.04pt\" height=\"218.36pt\" version=\"1.1\" viewBox=\"0 0 730.04 218.36\" xmlns=\"http://www.w3.org/2000/svg\" xmlns:xlink=\"http://www.w3.org/1999/xlink\"><defs><style type=\"text/css\">*{stroke-linejoin: round; stroke-linecap: butt}</style></defs><path d=\"m0 218.36h730.04v-218.36h-730.04z\" fill=\"#ffffff\"/><path d=\"m64.609 44.283h653.59\" clip-path=\"url(#pfb95a3b6e1)\" fill=\"none\" stroke=\"#000000\" stroke-linecap=\"square\" stroke-width=\"2\"/><path d=\"m64.609 90.637h653.59\" clip-path=\"url(#pfb95a3b6e1)\" fill=\"none\" stroke=\"#000000\" stroke-linecap=\"square\" stroke-width=\"2\"/><path d=\"m64.609 136.99h653.59\" clip-path=\"url(#pfb95a3b6e1)\" fill=\"none\" stroke=\"#000000\" stroke-linecap=\"square\" stroke-width=\"2\"/><path d=\"m64.609 183.35h653.59\" clip-path=\"url(#pfb95a3b6e1)\" fill=\"none\" stroke=\"#000000\" stroke-linecap=\"square\" stroke-width=\"2\"/><path d=\"m78.638 152.06h68.358v-122.84h-68.358z\" clip-path=\"url(#pfb95a3b6e1)\" fill=\"#6929c4\" stroke=\"#6929c4\" stroke-width=\"1.5\"/><path d=\"m171.39 198.41h68.261v-122.84h-68.261z\" clip-path=\"url(#pfb95a3b6e1)\" fill=\"#6929c4\" stroke=\"#6929c4\" stroke-width=\"1.5\"/><path d=\"m264.1 198.41h68.261v-169.19h-68.261z\" clip-path=\"url(#pfb95a3b6e1)\" fill=\"#6929c4\" stroke=\"#6929c4\" stroke-width=\"1.5\"/><path d=\"m356.86 152.06h68.164v-76.484h-68.164z\" clip-path=\"url(#pfb95a3b6e1)\" fill=\"#6929c4\" stroke=\"#6929c4\" stroke-width=\"1.5\"/><path d=\"m449.52 198.41h68.261v-169.19h-68.261z\" clip-path=\"url(#pfb95a3b6e1)\" fill=\"#6929c4\" stroke=\"#6929c4\" stroke-width=\"1.5\"/><path d=\"m542.18 152.06h68.358v-76.484h-68.358z\" clip-path=\"url(#pfb95a3b6e1)\" fill=\"#6929c4\" stroke=\"#6929c4\" stroke-width=\"1.5\"/><path d=\"m634.89 105.7h68.358v-76.484h-68.358z\" clip-path=\"url(#pfb95a3b6e1)\" fill=\"#6929c4\" stroke=\"#6929c4\" stroke-width=\"1.5\"/><path d=\"m634.93 198.41h68.261v-76.484h-68.261z\" clip-path=\"url(#pfb95a3b6e1)\" fill=\"#6929c4\" stroke=\"#6929c4\" stroke-width=\"1.5\"/><g clip-path=\"url(#pfb95a3b6e1)\"><g transform=\"translate(37.301 48.734) scale(.1625 -.1625)\"><defs><path id=\"DejaVuSans-Oblique-71\" transform=\"scale(.015625)\" d=\"m2669 525q-231-303-546-460-314-156-695-156-531 0-833 358-301 358-301 986 0 506 186 978t533 847q225 244 517 375t614 131q387 0 637-153t363-462l100 525h578l-934-4813h-579l360 1844zm-1778 813q0-463 193-705 194-242 560-242 544 0 928 520t384 1264q0 450-199 689-198 239-569 239-272 0-504-127-231-126-403-370-181-256-286-600-104-343-104-668z\"/><path id=\"DejaVuSans-30\" transform=\"scale(.015625)\" d=\"m2034 4250q-487 0-733-480-245-479-245-1442 0-959 245-1439 246-480 733-480 491 0 736 480 246 480 246 1439 0 963-246 1442-245 480-736 480zm0 500q785 0 1199-621 414-620 414-1801 0-1178-414-1799-414-620-1199-620-784 0-1198 620-414 621-414 1799 0 1181 414 1801 414 621 1198 621z\"/></defs><use xlink:href=\"#DejaVuSans-Oblique-71\"/><use transform=\"translate(63.477 -16.406) scale(.7)\" xlink:href=\"#DejaVuSans-30\"/></g></g><g clip-path=\"url(#pfb95a3b6e1)\"><g transform=\"translate(37.301 95.088) scale(.1625 -.1625)\"><defs><path id=\"DejaVuSans-31\" transform=\"scale(.015625)\" d=\"m794 531h1031v3560l-1122-225v575l1116 225h631v-4135h1031v-531h-2687v531z\"/></defs><use xlink:href=\"#DejaVuSans-Oblique-71\"/><use transform=\"translate(63.477 -16.406) scale(.7)\" xlink:href=\"#DejaVuSans-31\"/></g></g><g clip-path=\"url(#pfb95a3b6e1)\"><g transform=\"translate(37.301 141.44) scale(.1625 -.1625)\"><defs><path id=\"DejaVuSans-32\" transform=\"scale(.015625)\" d=\"m1228 531h2203v-531h-2962v531q359 372 979 998 621 627 780 809 303 340 423 576 121 236 121 464 0 372-261 606-261 235-680 235-297 0-627-103-329-103-704-313v638q381 153 712 231 332 78 607 78 725 0 1156-363 431-362 431-968 0-288-108-546-107-257-392-607-78-91-497-524-418-433-1181-1211z\"/></defs><use xlink:href=\"#DejaVuSans-Oblique-71\"/><use transform=\"translate(63.477 -16.406) scale(.7)\" xlink:href=\"#DejaVuSans-32\"/></g></g><g clip-path=\"url(#pfb95a3b6e1)\"><g transform=\"translate(37.301 187.8) scale(.1625 -.1625)\"><defs><path id=\"DejaVuSans-33\" transform=\"scale(.015625)\" d=\"m2597 2516q453-97 707-404 255-306 255-756 0-690-475-1069-475-378-1350-378-293 0-604 58t-642 174v609q262-153 574-231 313-78 654-78 593 0 904 234t311 681q0 413-289 645-289 233-804 233h-544v519h569q465 0 712 186t247 536q0 359-255 551-254 193-729 193-260 0-557-57-297-56-653-174v562q360 100 674 150t592 50q719 0 1137-327 419-326 419-882 0-388-222-655t-631-370z\"/></defs><use xlink:href=\"#DejaVuSans-Oblique-71\"/><use transform=\"translate(63.477 -16.406) scale(.7)\" xlink:href=\"#DejaVuSans-33\"/></g></g><g clip-path=\"url(#pfb95a3b6e1)\"><g transform=\"translate(81.883 140.58) scale(.13 -.13)\" fill=\"#ffffff\"><use xlink:href=\"#DejaVuSans-30\"/></g></g><g clip-path=\"url(#pfb95a3b6e1)\"><g transform=\"translate(81.883 47.87) scale(.13 -.13)\" fill=\"#ffffff\"><use xlink:href=\"#DejaVuSans-31\"/></g></g><g clip-path=\"url(#pfb95a3b6e1)\"><g transform=\"translate(90.618 93.929) scale(.13 -.13)\" fill=\"#ffffff\"><defs><path id=\"DejaVuSans-73\" transform=\"scale(.015625)\" d=\"m2834 3397v-544q-243 125-506 187-262 63-544 63-428 0-642-131t-214-394q0-200 153-314t616-217l197-44q612-131 870-370t258-667q0-488-386-773-386-284-1061-284-281 0-586 55t-642 164v594q319-166 628-249 309-82 613-82 406 0 624 139 219 139 219 392 0 234-158 359-157 125-692 241l-200 47q-534 112-772 345-237 233-237 639 0 494 350 762 350 269 994 269 318 0 599-47 282-46 519-140z\"/><path id=\"DejaVuSans-75\" transform=\"scale(.015625)\" d=\"m544 1381v2119h575v-2097q0-497 193-746 194-248 582-248 465 0 735 297 271 297 271 810v1984h575v-3500h-575v538q-209-319-486-474-276-155-642-155-603 0-916 375-312 375-312 1097zm1447 2203z\"/><path id=\"DejaVuSans-34\" transform=\"scale(.015625)\" d=\"m2419 4116-1594-2491h1594v2491zm-166 550h794v-3041h666v-525h-666v-1100h-628v1100h-2106v609l1940 2957z\"/><path id=\"DejaVuSans-5f\" transform=\"scale(.015625)\" d=\"m3263-1063v-446h-3326v446h3326z\"/><path id=\"DejaVuSans-39\" transform=\"scale(.015625)\" d=\"m703 97v575q238-113 481-172 244-59 479-59 625 0 954 420 330 420 377 1277-181-269-460-413-278-144-615-144-700 0-1108 423-408 424-408 1159 0 718 425 1152 425 435 1131 435 810 0 1236-621 427-620 427-1801 0-1103-524-1761-523-658-1407-658-238 0-482 47-243 47-506 141zm1256 1978q425 0 673 290 249 291 249 798 0 503-249 795-248 292-673 292t-673-292-248-795q0-507 248-798 248-290 673-290z\"/></defs><use xlink:href=\"#DejaVuSans-73\"/><use x=\"52.099609\" xlink:href=\"#DejaVuSans-75\"/><use x=\"115.478516\" xlink:href=\"#DejaVuSans-34\"/><use x=\"179.101562\" xlink:href=\"#DejaVuSans-5f\"/><use x=\"229.101562\" xlink:href=\"#DejaVuSans-39\"/><use x=\"292.724609\" xlink:href=\"#DejaVuSans-34\"/><use x=\"356.347656\" xlink:href=\"#DejaVuSans-34\"/></g></g><g clip-path=\"url(#pfb95a3b6e1)\"><g transform=\"translate(174.64 186.93) scale(.13 -.13)\" fill=\"#ffffff\"><use xlink:href=\"#DejaVuSans-30\"/></g></g><g clip-path=\"url(#pfb95a3b6e1)\"><g transform=\"translate(174.64 94.224) scale(.13 -.13)\" fill=\"#ffffff\"><use xlink:href=\"#DejaVuSans-31\"/></g></g><g clip-path=\"url(#pfb95a3b6e1)\"><g transform=\"translate(183.33 140.28) scale(.13 -.13)\" fill=\"#ffffff\"><defs><path id=\"DejaVuSans-36\" transform=\"scale(.015625)\" d=\"m2113 2584q-425 0-674-291-248-290-248-796 0-503 248-796 249-292 674-292t673 292q248 293 248 796 0 506-248 796-248 291-673 291zm1253 1979v-575q-238 112-480 171-242 60-480 60-625 0-955-422-329-422-376-1275 184 272 462 417 279 145 613 145 703 0 1111-427 408-426 408-1160 0-719-425-1154-425-434-1131-434-810 0-1238 620-428 621-428 1799 0 1106 525 1764t1409 658q238 0 480-47t505-140z\"/><path id=\"DejaVuSans-35\" transform=\"scale(.015625)\" d=\"m691 4666h2478v-532h-1900v-1143q137 47 274 70 138 23 276 23 781 0 1237-428 457-428 457-1159 0-753-469-1171-469-417-1322-417-294 0-599 50-304 50-629 150v635q281-153 581-228t634-75q541 0 856 284 316 284 316 772 0 487-316 771-315 285-856 285-253 0-505-56-251-56-513-175v2344z\"/></defs><use xlink:href=\"#DejaVuSans-73\"/><use x=\"52.099609\" xlink:href=\"#DejaVuSans-75\"/><use x=\"115.478516\" xlink:href=\"#DejaVuSans-34\"/><use x=\"179.101562\" xlink:href=\"#DejaVuSans-5f\"/><use x=\"229.101562\" xlink:href=\"#DejaVuSans-36\"/><use x=\"292.724609\" xlink:href=\"#DejaVuSans-32\"/><use x=\"356.347656\" xlink:href=\"#DejaVuSans-35\"/></g></g><g clip-path=\"url(#pfb95a3b6e1)\"><g transform=\"translate(267.35 47.87) scale(.13 -.13)\" fill=\"#ffffff\"><use xlink:href=\"#DejaVuSans-30\"/></g></g><g clip-path=\"url(#pfb95a3b6e1)\"><g transform=\"translate(267.35 186.93) scale(.13 -.13)\" fill=\"#ffffff\"><use xlink:href=\"#DejaVuSans-31\"/></g></g><g clip-path=\"url(#pfb95a3b6e1)\"><g transform=\"translate(276.03 117.11) scale(.13 -.13)\" fill=\"#ffffff\"><defs><path id=\"DejaVuSans-38\" transform=\"scale(.015625)\" d=\"m2034 2216q-450 0-708-241-257-241-257-662 0-422 257-663 258-241 708-241t709 242q260 243 260 662 0 421-258 662-257 241-711 241zm-631 268q-406 100-633 378-226 279-226 679 0 559 398 884 399 325 1092 325 697 0 1094-325t397-884q0-400-227-679-226-278-629-378 456-106 710-416 255-309 255-755 0-679-414-1042-414-362-1186-362-771 0-1186 362-414 363-414 1042 0 446 256 755 257 310 713 416zm-231 997q0-362 226-565 227-203 636-203 407 0 636 203 230 203 230 565 0 363-230 566-229 203-636 203-409 0-636-203-226-203-226-566z\"/><path id=\"DejaVuSans-37\" transform=\"scale(.015625)\" d=\"m525 4666h3e3v-269l-1694-4397h-659l1594 4134h-2241v532z\"/></defs><use xlink:href=\"#DejaVuSans-73\"/><use x=\"52.099609\" xlink:href=\"#DejaVuSans-75\"/><use x=\"115.478516\" xlink:href=\"#DejaVuSans-34\"/><use x=\"179.101562\" xlink:href=\"#DejaVuSans-5f\"/><use x=\"229.101562\" xlink:href=\"#DejaVuSans-38\"/><use x=\"292.724609\" xlink:href=\"#DejaVuSans-39\"/><use x=\"356.347656\" xlink:href=\"#DejaVuSans-37\"/></g></g><g clip-path=\"url(#pfb95a3b6e1)\"><g transform=\"translate(360.1 94.224) scale(.13 -.13)\" fill=\"#ffffff\"><use xlink:href=\"#DejaVuSans-30\"/></g></g><g clip-path=\"url(#pfb95a3b6e1)\"><g transform=\"translate(360.1 140.58) scale(.13 -.13)\" fill=\"#ffffff\"><use xlink:href=\"#DejaVuSans-31\"/></g></g><g clip-path=\"url(#pfb95a3b6e1)\"><g transform=\"translate(368.74 117.11) scale(.13 -.13)\" fill=\"#ffffff\"><use xlink:href=\"#DejaVuSans-73\"/><use x=\"52.099609\" xlink:href=\"#DejaVuSans-75\"/><use x=\"115.478516\" xlink:href=\"#DejaVuSans-34\"/><use x=\"179.101562\" xlink:href=\"#DejaVuSans-5f\"/><use x=\"229.101562\" xlink:href=\"#DejaVuSans-36\"/><use x=\"292.724609\" xlink:href=\"#DejaVuSans-38\"/><use x=\"356.347656\" xlink:href=\"#DejaVuSans-34\"/></g></g><g clip-path=\"url(#pfb95a3b6e1)\"><g transform=\"translate(452.76 47.87) scale(.13 -.13)\" fill=\"#ffffff\"><use xlink:href=\"#DejaVuSans-30\"/></g></g><g clip-path=\"url(#pfb95a3b6e1)\"><g transform=\"translate(452.76 186.93) scale(.13 -.13)\" fill=\"#ffffff\"><use xlink:href=\"#DejaVuSans-31\"/></g></g><g clip-path=\"url(#pfb95a3b6e1)\"><g transform=\"translate(461.45 117.11) scale(.13 -.13)\" fill=\"#ffffff\"><use xlink:href=\"#DejaVuSans-73\"/><use x=\"52.099609\" xlink:href=\"#DejaVuSans-75\"/><use x=\"115.478516\" xlink:href=\"#DejaVuSans-34\"/><use x=\"179.101562\" xlink:href=\"#DejaVuSans-5f\"/><use x=\"229.101562\" xlink:href=\"#DejaVuSans-35\"/><use x=\"292.724609\" xlink:href=\"#DejaVuSans-37\"/><use x=\"356.347656\" xlink:href=\"#DejaVuSans-38\"/></g></g><g clip-path=\"url(#pfb95a3b6e1)\"><g transform=\"translate(545.42 140.58) scale(.13 -.13)\" fill=\"#ffffff\"><use xlink:href=\"#DejaVuSans-30\"/></g></g><g clip-path=\"url(#pfb95a3b6e1)\"><g transform=\"translate(545.42 94.224) scale(.13 -.13)\" fill=\"#ffffff\"><use xlink:href=\"#DejaVuSans-31\"/></g></g><g clip-path=\"url(#pfb95a3b6e1)\"><g transform=\"translate(554.16 117.04) scale(.13 -.13)\" fill=\"#ffffff\"><use xlink:href=\"#DejaVuSans-73\"/><use x=\"52.099609\" xlink:href=\"#DejaVuSans-75\"/><use x=\"115.478516\" xlink:href=\"#DejaVuSans-34\"/><use x=\"179.101562\" xlink:href=\"#DejaVuSans-5f\"/><use x=\"229.101562\" xlink:href=\"#DejaVuSans-37\"/><use x=\"292.724609\" xlink:href=\"#DejaVuSans-37\"/><use x=\"356.347656\" xlink:href=\"#DejaVuSans-35\"/></g></g><g clip-path=\"url(#pfb95a3b6e1)\"><g transform=\"translate(638.13 47.87) scale(.13 -.13)\" fill=\"#ffffff\"><use xlink:href=\"#DejaVuSans-30\"/></g></g><g clip-path=\"url(#pfb95a3b6e1)\"><g transform=\"translate(638.13 94.224) scale(.13 -.13)\" fill=\"#ffffff\"><use xlink:href=\"#DejaVuSans-31\"/></g></g><g clip-path=\"url(#pfb95a3b6e1)\"><g transform=\"translate(646.87 70.752) scale(.13 -.13)\" fill=\"#ffffff\"><use xlink:href=\"#DejaVuSans-73\"/><use x=\"52.099609\" xlink:href=\"#DejaVuSans-75\"/><use x=\"115.478516\" xlink:href=\"#DejaVuSans-34\"/><use x=\"179.101562\" xlink:href=\"#DejaVuSans-5f\"/><use x=\"229.101562\" xlink:href=\"#DejaVuSans-32\"/><use x=\"292.724609\" xlink:href=\"#DejaVuSans-32\"/><use x=\"356.347656\" xlink:href=\"#DejaVuSans-35\"/></g></g><g clip-path=\"url(#pfb95a3b6e1)\"><g transform=\"translate(638.18 186.93) scale(.13 -.13)\" fill=\"#ffffff\"><use xlink:href=\"#DejaVuSans-30\"/></g></g><g clip-path=\"url(#pfb95a3b6e1)\"><g transform=\"translate(638.18 140.58) scale(.13 -.13)\" fill=\"#ffffff\"><use xlink:href=\"#DejaVuSans-31\"/></g></g><g clip-path=\"url(#pfb95a3b6e1)\"><g transform=\"translate(646.87 163.46) scale(.13 -.13)\" fill=\"#ffffff\"><use xlink:href=\"#DejaVuSans-73\"/><use x=\"52.099609\" xlink:href=\"#DejaVuSans-75\"/><use x=\"115.478516\" xlink:href=\"#DejaVuSans-34\"/><use x=\"179.101562\" xlink:href=\"#DejaVuSans-5f\"/><use x=\"229.101562\" xlink:href=\"#DejaVuSans-38\"/><use x=\"292.724609\" xlink:href=\"#DejaVuSans-33\"/><use x=\"356.347656\" xlink:href=\"#DejaVuSans-33\"/></g></g><defs><clipPath id=\"pfb95a3b6e1\"><rect x=\"7.2\" y=\"7.2\" width=\"715.64\" height=\"203.96\"/></clipPath></defs></svg>"
      ],
      "text/plain": [
       "<Figure size 1290.83x367.889 with 1 Axes>"
      ]
     },
     "execution_count": 5,
     "metadata": {},
     "output_type": "execute_result"
    }
   ],
   "source": [
    "from qiskit.circuit.library import QuantumVolume as QuantumVolumeCircuit\n",
    "qv_circuit = QuantumVolumeCircuit(4)\n",
    "qv_circuit.decompose().draw()  # .decompose() unrolls the circuit one level"
   ]
  },
  {
   "cell_type": "markdown",
   "metadata": {},
   "source": [
    "## 回路を実行する\n",
    "\n",
    "では、量子回路が正しく実行されているかどうかは、どうすれば分かるのでしょうか？量子ボリュームプロトコルは、テストする量子デバイスだけでなく、完璧なシミュレーター上でも実行されます。そして、シミュレーション結果（量子コンピュータが*すべき*こと）と実験結果（量子コンピュータが*実際に行う*こと）を比較することができます。\n",
    "\n",
    "![量子ボリューム回路](images/qv_device_v_sim.png)"
   ]
  },
  {
   "cell_type": "markdown",
   "metadata": {},
   "source": [
    "## 理想的な量子コンピューターは何をするのか？\n",
    "\n",
    "各回路には理想的な出力分布があります。この分布は、完全な量子コンピューターで回路を実行した場合、ショット数が無限に近づいたときに見られるものです。Qiskitの`Statevector`クラスを使うと、小さな回路でこの理想的な分布を計算することができます。上で作成した4量子ビットの回路で試してみましょう。"
   ]
  },
  {
   "cell_type": "code",
   "execution_count": 6,
   "metadata": {},
   "outputs": [
    {
     "data": {
      "image/svg+xml": [
       "<?xml version=\"1.0\" encoding=\"UTF-8\"?><!DOCTYPE svg  PUBLIC '-//W3C//DTD SVG 1.1//EN'  'http://www.w3.org/Graphics/SVG/1.1/DTD/svg11.dtd'><svg width=\"460.72pt\" height=\"336.72pt\" version=\"1.1\" viewBox=\"0 0 460.72 336.72\" xmlns=\"http://www.w3.org/2000/svg\" xmlns:xlink=\"http://www.w3.org/1999/xlink\"><defs><style type=\"text/css\">*{stroke-linejoin: round; stroke-linecap: butt}</style></defs><path d=\"m0 336.72h460.72v-336.72h-460.72z\" fill=\"#ffffff\"/><path d=\"m62.921 284.4h390.6v-277.2h-390.6z\" fill=\"#ffffff\"/><defs><path id=\"m14eb8cfae3\" d=\"m0 0v3.5\" stroke=\"#343a3f\" stroke-width=\".8\"/></defs><use x=\"86.403068\" y=\"284.4\" fill=\"#343a3f\" stroke=\"#343a3f\" stroke-width=\".8\" xlink:href=\"#m14eb8cfae3\"/><g transform=\"translate(83.94 328.52) rotate(-70) scale(.14 -.14)\" fill=\"#343a3f\"><defs><path id=\"DejaVuSans-30\" transform=\"scale(.015625)\" d=\"m2034 4250q-487 0-733-480-245-479-245-1442 0-959 245-1439 246-480 733-480 491 0 736 480 246 480 246 1439 0 963-246 1442-245 480-736 480zm0 500q785 0 1199-621 414-620 414-1801 0-1178-414-1799-414-620-1199-620-784 0-1198 620-414 621-414 1799 0 1181 414 1801 414 621 1198 621z\"/></defs><use xlink:href=\"#DejaVuSans-30\"/><use x=\"63.623047\" xlink:href=\"#DejaVuSans-30\"/><use x=\"127.246094\" xlink:href=\"#DejaVuSans-30\"/><use x=\"190.869141\" xlink:href=\"#DejaVuSans-30\"/></g><use x=\"109.312159\" y=\"284.4\" fill=\"#343a3f\" stroke=\"#343a3f\" stroke-width=\".8\" xlink:href=\"#m14eb8cfae3\"/><g transform=\"translate(106.85 328.52) rotate(-70) scale(.14 -.14)\" fill=\"#343a3f\"><defs><path id=\"DejaVuSans-31\" transform=\"scale(.015625)\" d=\"m794 531h1031v3560l-1122-225v575l1116 225h631v-4135h1031v-531h-2687v531z\"/></defs><use xlink:href=\"#DejaVuSans-30\"/><use x=\"63.623047\" xlink:href=\"#DejaVuSans-30\"/><use x=\"127.246094\" xlink:href=\"#DejaVuSans-30\"/><use x=\"190.869141\" xlink:href=\"#DejaVuSans-31\"/></g><use x=\"132.22125\" y=\"284.4\" fill=\"#343a3f\" stroke=\"#343a3f\" stroke-width=\".8\" xlink:href=\"#m14eb8cfae3\"/><g transform=\"translate(129.76 328.52) rotate(-70) scale(.14 -.14)\" fill=\"#343a3f\"><use xlink:href=\"#DejaVuSans-30\"/><use x=\"63.623047\" xlink:href=\"#DejaVuSans-30\"/><use x=\"127.246094\" xlink:href=\"#DejaVuSans-31\"/><use x=\"190.869141\" xlink:href=\"#DejaVuSans-30\"/></g><use x=\"155.130341\" y=\"284.4\" fill=\"#343a3f\" stroke=\"#343a3f\" stroke-width=\".8\" xlink:href=\"#m14eb8cfae3\"/><g transform=\"translate(152.67 328.52) rotate(-70) scale(.14 -.14)\" fill=\"#343a3f\"><use xlink:href=\"#DejaVuSans-30\"/><use x=\"63.623047\" xlink:href=\"#DejaVuSans-30\"/><use x=\"127.246094\" xlink:href=\"#DejaVuSans-31\"/><use x=\"190.869141\" xlink:href=\"#DejaVuSans-31\"/></g><use x=\"178.039432\" y=\"284.4\" fill=\"#343a3f\" stroke=\"#343a3f\" stroke-width=\".8\" xlink:href=\"#m14eb8cfae3\"/><g transform=\"translate(175.58 328.52) rotate(-70) scale(.14 -.14)\" fill=\"#343a3f\"><use xlink:href=\"#DejaVuSans-30\"/><use x=\"63.623047\" xlink:href=\"#DejaVuSans-31\"/><use x=\"127.246094\" xlink:href=\"#DejaVuSans-30\"/><use x=\"190.869141\" xlink:href=\"#DejaVuSans-30\"/></g><use x=\"200.948523\" y=\"284.4\" fill=\"#343a3f\" stroke=\"#343a3f\" stroke-width=\".8\" xlink:href=\"#m14eb8cfae3\"/><g transform=\"translate(198.49 328.52) rotate(-70) scale(.14 -.14)\" fill=\"#343a3f\"><use xlink:href=\"#DejaVuSans-30\"/><use x=\"63.623047\" xlink:href=\"#DejaVuSans-31\"/><use x=\"127.246094\" xlink:href=\"#DejaVuSans-30\"/><use x=\"190.869141\" xlink:href=\"#DejaVuSans-31\"/></g><use x=\"223.857614\" y=\"284.4\" fill=\"#343a3f\" stroke=\"#343a3f\" stroke-width=\".8\" xlink:href=\"#m14eb8cfae3\"/><g transform=\"translate(221.39 328.52) rotate(-70) scale(.14 -.14)\" fill=\"#343a3f\"><use xlink:href=\"#DejaVuSans-30\"/><use x=\"63.623047\" xlink:href=\"#DejaVuSans-31\"/><use x=\"127.246094\" xlink:href=\"#DejaVuSans-31\"/><use x=\"190.869141\" xlink:href=\"#DejaVuSans-30\"/></g><use x=\"246.766705\" y=\"284.4\" fill=\"#343a3f\" stroke=\"#343a3f\" stroke-width=\".8\" xlink:href=\"#m14eb8cfae3\"/><g transform=\"translate(244.3 328.52) rotate(-70) scale(.14 -.14)\" fill=\"#343a3f\"><use xlink:href=\"#DejaVuSans-30\"/><use x=\"63.623047\" xlink:href=\"#DejaVuSans-31\"/><use x=\"127.246094\" xlink:href=\"#DejaVuSans-31\"/><use x=\"190.869141\" xlink:href=\"#DejaVuSans-31\"/></g><use x=\"269.675795\" y=\"284.4\" fill=\"#343a3f\" stroke=\"#343a3f\" stroke-width=\".8\" xlink:href=\"#m14eb8cfae3\"/><g transform=\"translate(267.21 328.52) rotate(-70) scale(.14 -.14)\" fill=\"#343a3f\"><use xlink:href=\"#DejaVuSans-31\"/><use x=\"63.623047\" xlink:href=\"#DejaVuSans-30\"/><use x=\"127.246094\" xlink:href=\"#DejaVuSans-30\"/><use x=\"190.869141\" xlink:href=\"#DejaVuSans-30\"/></g><use x=\"292.584886\" y=\"284.4\" fill=\"#343a3f\" stroke=\"#343a3f\" stroke-width=\".8\" xlink:href=\"#m14eb8cfae3\"/><g transform=\"translate(290.12 328.52) rotate(-70) scale(.14 -.14)\" fill=\"#343a3f\"><use xlink:href=\"#DejaVuSans-31\"/><use x=\"63.623047\" xlink:href=\"#DejaVuSans-30\"/><use x=\"127.246094\" xlink:href=\"#DejaVuSans-30\"/><use x=\"190.869141\" xlink:href=\"#DejaVuSans-31\"/></g><use x=\"315.493977\" y=\"284.4\" fill=\"#343a3f\" stroke=\"#343a3f\" stroke-width=\".8\" xlink:href=\"#m14eb8cfae3\"/><g transform=\"translate(313.03 328.52) rotate(-70) scale(.14 -.14)\" fill=\"#343a3f\"><use xlink:href=\"#DejaVuSans-31\"/><use x=\"63.623047\" xlink:href=\"#DejaVuSans-30\"/><use x=\"127.246094\" xlink:href=\"#DejaVuSans-31\"/><use x=\"190.869141\" xlink:href=\"#DejaVuSans-30\"/></g><use x=\"338.403068\" y=\"284.4\" fill=\"#343a3f\" stroke=\"#343a3f\" stroke-width=\".8\" xlink:href=\"#m14eb8cfae3\"/><g transform=\"translate(335.94 328.52) rotate(-70) scale(.14 -.14)\" fill=\"#343a3f\"><use xlink:href=\"#DejaVuSans-31\"/><use x=\"63.623047\" xlink:href=\"#DejaVuSans-30\"/><use x=\"127.246094\" xlink:href=\"#DejaVuSans-31\"/><use x=\"190.869141\" xlink:href=\"#DejaVuSans-31\"/></g><use x=\"361.312159\" y=\"284.4\" fill=\"#343a3f\" stroke=\"#343a3f\" stroke-width=\".8\" xlink:href=\"#m14eb8cfae3\"/><g transform=\"translate(358.85 328.52) rotate(-70) scale(.14 -.14)\" fill=\"#343a3f\"><use xlink:href=\"#DejaVuSans-31\"/><use x=\"63.623047\" xlink:href=\"#DejaVuSans-31\"/><use x=\"127.246094\" xlink:href=\"#DejaVuSans-30\"/><use x=\"190.869141\" xlink:href=\"#DejaVuSans-30\"/></g><use x=\"384.22125\" y=\"284.4\" fill=\"#343a3f\" stroke=\"#343a3f\" stroke-width=\".8\" xlink:href=\"#m14eb8cfae3\"/><g transform=\"translate(381.76 328.52) rotate(-70) scale(.14 -.14)\" fill=\"#343a3f\"><use xlink:href=\"#DejaVuSans-31\"/><use x=\"63.623047\" xlink:href=\"#DejaVuSans-31\"/><use x=\"127.246094\" xlink:href=\"#DejaVuSans-30\"/><use x=\"190.869141\" xlink:href=\"#DejaVuSans-31\"/></g><use x=\"407.130341\" y=\"284.4\" fill=\"#343a3f\" stroke=\"#343a3f\" stroke-width=\".8\" xlink:href=\"#m14eb8cfae3\"/><g transform=\"translate(404.67 328.52) rotate(-70) scale(.14 -.14)\" fill=\"#343a3f\"><use xlink:href=\"#DejaVuSans-31\"/><use x=\"63.623047\" xlink:href=\"#DejaVuSans-31\"/><use x=\"127.246094\" xlink:href=\"#DejaVuSans-31\"/><use x=\"190.869141\" xlink:href=\"#DejaVuSans-30\"/></g><use x=\"430.039432\" y=\"284.4\" fill=\"#343a3f\" stroke=\"#343a3f\" stroke-width=\".8\" xlink:href=\"#m14eb8cfae3\"/><g transform=\"translate(427.58 328.52) rotate(-70) scale(.14 -.14)\" fill=\"#343a3f\"><use xlink:href=\"#DejaVuSans-31\"/><use x=\"63.623047\" xlink:href=\"#DejaVuSans-31\"/><use x=\"127.246094\" xlink:href=\"#DejaVuSans-31\"/><use x=\"190.869141\" xlink:href=\"#DejaVuSans-31\"/></g><path d=\"m62.921 284.4h390.6\" clip-path=\"url(#p7641362dd8)\" fill=\"none\" stroke=\"#dde1e6\" stroke-dasharray=\"2.96,1.28\" stroke-width=\".8\"/><defs><path id=\"m8d4b4f9a89\" d=\"m0 0h-3.5\" stroke=\"#343a3f\" stroke-width=\".8\"/></defs><use x=\"62.92125\" y=\"284.4\" fill=\"#343a3f\" stroke=\"#343a3f\" stroke-width=\".8\" xlink:href=\"#m8d4b4f9a89\"/><g transform=\"translate(24.749 289.72) scale(.14 -.14)\" fill=\"#343a3f\"><defs><path id=\"DejaVuSans-2e\" transform=\"scale(.015625)\" d=\"m684 794h660v-794h-660v794z\"/></defs><use xlink:href=\"#DejaVuSans-30\"/><use x=\"63.623047\" xlink:href=\"#DejaVuSans-2e\"/><use x=\"95.410156\" xlink:href=\"#DejaVuSans-30\"/><use x=\"159.033203\" xlink:href=\"#DejaVuSans-30\"/></g><path d=\"m62.921 221.65h390.6\" clip-path=\"url(#p7641362dd8)\" fill=\"none\" stroke=\"#dde1e6\" stroke-dasharray=\"2.96,1.28\" stroke-width=\".8\"/><use x=\"62.92125\" y=\"221.65325\" fill=\"#343a3f\" stroke=\"#343a3f\" stroke-width=\".8\" xlink:href=\"#m8d4b4f9a89\"/><g transform=\"translate(24.749 226.97) scale(.14 -.14)\" fill=\"#343a3f\"><defs><path id=\"DejaVuSans-36\" transform=\"scale(.015625)\" d=\"m2113 2584q-425 0-674-291-248-290-248-796 0-503 248-796 249-292 674-292t673 292q248 293 248 796 0 506-248 796-248 291-673 291zm1253 1979v-575q-238 112-480 171-242 60-480 60-625 0-955-422-329-422-376-1275 184 272 462 417 279 145 613 145 703 0 1111-427 408-426 408-1160 0-719-425-1154-425-434-1131-434-810 0-1238 620-428 621-428 1799 0 1106 525 1764t1409 658q238 0 480-47t505-140z\"/></defs><use xlink:href=\"#DejaVuSans-30\"/><use x=\"63.623047\" xlink:href=\"#DejaVuSans-2e\"/><use x=\"95.410156\" xlink:href=\"#DejaVuSans-30\"/><use x=\"159.033203\" xlink:href=\"#DejaVuSans-36\"/></g><path d=\"m62.921 158.91h390.6\" clip-path=\"url(#p7641362dd8)\" fill=\"none\" stroke=\"#dde1e6\" stroke-dasharray=\"2.96,1.28\" stroke-width=\".8\"/><use x=\"62.92125\" y=\"158.906499\" fill=\"#343a3f\" stroke=\"#343a3f\" stroke-width=\".8\" xlink:href=\"#m8d4b4f9a89\"/><g transform=\"translate(24.749 164.23) scale(.14 -.14)\" fill=\"#343a3f\"><defs><path id=\"DejaVuSans-32\" transform=\"scale(.015625)\" d=\"m1228 531h2203v-531h-2962v531q359 372 979 998 621 627 780 809 303 340 423 576 121 236 121 464 0 372-261 606-261 235-680 235-297 0-627-103-329-103-704-313v638q381 153 712 231 332 78 607 78 725 0 1156-363 431-362 431-968 0-288-108-546-107-257-392-607-78-91-497-524-418-433-1181-1211z\"/></defs><use xlink:href=\"#DejaVuSans-30\"/><use x=\"63.623047\" xlink:href=\"#DejaVuSans-2e\"/><use x=\"95.410156\" xlink:href=\"#DejaVuSans-31\"/><use x=\"159.033203\" xlink:href=\"#DejaVuSans-32\"/></g><path d=\"m62.921 96.16h390.6\" clip-path=\"url(#p7641362dd8)\" fill=\"none\" stroke=\"#dde1e6\" stroke-dasharray=\"2.96,1.28\" stroke-width=\".8\"/><use x=\"62.92125\" y=\"96.159749\" fill=\"#343a3f\" stroke=\"#343a3f\" stroke-width=\".8\" xlink:href=\"#m8d4b4f9a89\"/><g transform=\"translate(24.749 101.48) scale(.14 -.14)\" fill=\"#343a3f\"><defs><path id=\"DejaVuSans-38\" transform=\"scale(.015625)\" d=\"m2034 2216q-450 0-708-241-257-241-257-662 0-422 257-663 258-241 708-241t709 242q260 243 260 662 0 421-258 662-257 241-711 241zm-631 268q-406 100-633 378-226 279-226 679 0 559 398 884 399 325 1092 325 697 0 1094-325t397-884q0-400-227-679-226-278-629-378 456-106 710-416 255-309 255-755 0-679-414-1042-414-362-1186-362-771 0-1186 362-414 363-414 1042 0 446 256 755 257 310 713 416zm-231 997q0-362 226-565 227-203 636-203 407 0 636 203 230 203 230 565 0 363-230 566-229 203-636 203-409 0-636-203-226-203-226-566z\"/></defs><use xlink:href=\"#DejaVuSans-30\"/><use x=\"63.623047\" xlink:href=\"#DejaVuSans-2e\"/><use x=\"95.410156\" xlink:href=\"#DejaVuSans-31\"/><use x=\"159.033203\" xlink:href=\"#DejaVuSans-38\"/></g><path d=\"m62.921 33.413h390.6\" clip-path=\"url(#p7641362dd8)\" fill=\"none\" stroke=\"#dde1e6\" stroke-dasharray=\"2.96,1.28\" stroke-width=\".8\"/><use x=\"62.92125\" y=\"33.412999\" fill=\"#343a3f\" stroke=\"#343a3f\" stroke-width=\".8\" xlink:href=\"#m8d4b4f9a89\"/><g transform=\"translate(24.749 38.732) scale(.14 -.14)\" fill=\"#343a3f\"><defs><path id=\"DejaVuSans-34\" transform=\"scale(.015625)\" d=\"m2419 4116-1594-2491h1594v2491zm-166 550h794v-3041h666v-525h-666v-1100h-628v1100h-2106v609l1940 2957z\"/></defs><use xlink:href=\"#DejaVuSans-30\"/><use x=\"63.623047\" xlink:href=\"#DejaVuSans-2e\"/><use x=\"95.410156\" xlink:href=\"#DejaVuSans-32\"/><use x=\"159.033203\" xlink:href=\"#DejaVuSans-34\"/></g><g transform=\"translate(17.838 188.56) rotate(-90) scale(.14 -.14)\" fill=\"#343a3f\"><defs><path id=\"DejaVuSans-50\" transform=\"scale(.015625)\" d=\"m1259 4147v-1753h794q441 0 681 228 241 228 241 650 0 419-241 647-240 228-681 228h-794zm-631 519h1425q785 0 1186-355 402-355 402-1039 0-691-402-1044-401-353-1186-353h-794v-1875h-631v4666z\"/><path id=\"DejaVuSans-72\" transform=\"scale(.015625)\" d=\"m2631 2963q-97 56-211 82-114 27-251 27-488 0-749-317t-261-911v-1844h-578v3500h578v-544q182 319 472 473 291 155 707 155 59 0 131-8 72-7 159-23l3-590z\"/><path id=\"DejaVuSans-6f\" transform=\"scale(.015625)\" d=\"m1959 3097q-462 0-731-361t-269-989 267-989q268-361 733-361 460 0 728 362 269 363 269 988 0 622-269 986-268 364-728 364zm0 487q750 0 1178-488 429-487 429-1349 0-859-429-1349-428-489-1178-489-753 0-1180 489-426 490-426 1349 0 862 426 1349 427 488 1180 488z\"/><path id=\"DejaVuSans-62\" transform=\"scale(.015625)\" d=\"m3116 1747q0 634-261 995t-717 361q-457 0-718-361t-261-995 261-995 718-361q456 0 717 361t261 995zm-1957 1222q182 312 458 463 277 152 661 152 638 0 1036-506 399-506 399-1331t-399-1332q-398-506-1036-506-384 0-661 152-276 152-458 464v-525h-578v4863h578v-1894z\"/><path id=\"DejaVuSans-61\" transform=\"scale(.015625)\" d=\"m2194 1759q-697 0-966-159t-269-544q0-306 202-486 202-179 548-179 479 0 768 339t289 901v128h-572zm1147 238v-1997h-575v531q-197-318-491-470t-719-152q-537 0-855 302-317 302-317 808 0 590 395 890 396 300 1180 300h807v57q0 397-261 614t-733 217q-300 0-585-72-284-72-546-216v532q315 122 612 182 297 61 578 61 760 0 1135-394 375-393 375-1193z\"/><path id=\"DejaVuSans-69\" transform=\"scale(.015625)\" d=\"m603 3500h575v-3500h-575v3500zm0 1363h575v-729h-575v729z\"/><path id=\"DejaVuSans-6c\" transform=\"scale(.015625)\" d=\"m603 4863h575v-4863h-575v4863z\"/><path id=\"DejaVuSans-74\" transform=\"scale(.015625)\" d=\"m1172 4494v-994h1184v-447h-1184v-1900q0-428 117-550t477-122h590v-481h-590q-666 0-919 248-253 249-253 905v1900h-422v447h422v994h578z\"/><path id=\"DejaVuSans-65\" transform=\"scale(.015625)\" d=\"m3597 1894v-281h-2644q38-594 358-905t892-311q331 0 642 81t618 244v-544q-310-131-635-200t-659-69q-838 0-1327 487-489 488-489 1320 0 859 464 1363 464 505 1252 505 706 0 1117-455 411-454 411-1235zm-575 169q-6 471-264 752-258 282-683 282-481 0-770-272t-333-766l2050 4z\"/><path id=\"DejaVuSans-73\" transform=\"scale(.015625)\" d=\"m2834 3397v-544q-243 125-506 187-262 63-544 63-428 0-642-131t-214-394q0-200 153-314t616-217l197-44q612-131 870-370t258-667q0-488-386-773-386-284-1061-284-281 0-586 55t-642 164v594q319-166 628-249 309-82 613-82 406 0 624 139 219 139 219 392 0 234-158 359-157 125-692 241l-200 47q-534 112-772 345-237 233-237 639 0 494 350 762 350 269 994 269 318 0 599-47 282-46 519-140z\"/></defs><use xlink:href=\"#DejaVuSans-50\"/><use x=\"58.552734\" xlink:href=\"#DejaVuSans-72\"/><use x=\"97.416016\" xlink:href=\"#DejaVuSans-6f\"/><use x=\"158.597656\" xlink:href=\"#DejaVuSans-62\"/><use x=\"222.074219\" xlink:href=\"#DejaVuSans-61\"/><use x=\"283.353516\" xlink:href=\"#DejaVuSans-62\"/><use x=\"346.830078\" xlink:href=\"#DejaVuSans-69\"/><use x=\"374.613281\" xlink:href=\"#DejaVuSans-6c\"/><use x=\"402.396484\" xlink:href=\"#DejaVuSans-69\"/><use x=\"430.179688\" xlink:href=\"#DejaVuSans-74\"/><use x=\"469.388672\" xlink:href=\"#DejaVuSans-69\"/><use x=\"497.171875\" xlink:href=\"#DejaVuSans-65\"/><use x=\"558.695312\" xlink:href=\"#DejaVuSans-73\"/></g><path d=\"m80.676 284.4h11.455v-11.445h-11.455z\" clip-path=\"url(#p7641362dd8)\" fill=\"#648fff\"/><path d=\"m103.58 284.4h11.455v-17.424h-11.455z\" clip-path=\"url(#p7641362dd8)\" fill=\"#648fff\"/><path d=\"m126.49 284.4h11.455v-45.967h-11.455z\" clip-path=\"url(#p7641362dd8)\" fill=\"#648fff\"/><path d=\"m149.4 284.4h11.455v-64.763h-11.455z\" clip-path=\"url(#p7641362dd8)\" fill=\"#648fff\"/><path d=\"m172.31 284.4h11.455v-154.95h-11.455z\" clip-path=\"url(#p7641362dd8)\" fill=\"#648fff\"/><path d=\"m195.22 284.4h11.455v-101.16h-11.455z\" clip-path=\"url(#p7641362dd8)\" fill=\"#648fff\"/><path d=\"m218.13 284.4h11.455v-99.715h-11.455z\" clip-path=\"url(#p7641362dd8)\" fill=\"#648fff\"/><path d=\"m241.04 284.4h11.455v-10.936h-11.455z\" clip-path=\"url(#p7641362dd8)\" fill=\"#648fff\"/><path d=\"m263.95 284.4h11.455v-231h-11.455z\" clip-path=\"url(#p7641362dd8)\" fill=\"#648fff\"/><path d=\"m286.86 284.4h11.455v-84.05h-11.455z\" clip-path=\"url(#p7641362dd8)\" fill=\"#648fff\"/><path d=\"m309.77 284.4h11.455v-81.172h-11.455z\" clip-path=\"url(#p7641362dd8)\" fill=\"#648fff\"/><path d=\"m332.68 284.4h11.455v-20.193h-11.455z\" clip-path=\"url(#p7641362dd8)\" fill=\"#648fff\"/><path d=\"m355.58 284.4h11.455v-8.9351h-11.455z\" clip-path=\"url(#p7641362dd8)\" fill=\"#648fff\"/><path d=\"m378.49 284.4h11.455v-31.344h-11.455z\" clip-path=\"url(#p7641362dd8)\" fill=\"#648fff\"/><path d=\"m401.4 284.4h11.455v-8.2632h-11.455z\" clip-path=\"url(#p7641362dd8)\" fill=\"#648fff\"/><path d=\"m424.31 284.4h11.455v-74.464h-11.455z\" clip-path=\"url(#p7641362dd8)\" fill=\"#648fff\"/><path d=\"m62.921 284.4v-277.2\" fill=\"none\" stroke=\"#343a3f\" stroke-linecap=\"square\" stroke-width=\".8\"/><path d=\"m62.921 284.4h390.6\" fill=\"none\" stroke=\"#343a3f\" stroke-linecap=\"square\" stroke-width=\".8\"/><g transform=\"translate(72.089 270.3) scale(.1 -.1)\" fill=\"#343a3f\"><use xlink:href=\"#DejaVuSans-30\"/><use x=\"63.623047\" xlink:href=\"#DejaVuSans-2e\"/><use x=\"95.410156\" xlink:href=\"#DejaVuSans-30\"/><use x=\"159.033203\" xlink:href=\"#DejaVuSans-31\"/><use x=\"222.65625\" xlink:href=\"#DejaVuSans-31\"/></g><g transform=\"translate(94.998 264.02) scale(.1 -.1)\" fill=\"#343a3f\"><defs><path id=\"DejaVuSans-37\" transform=\"scale(.015625)\" d=\"m525 4666h3e3v-269l-1694-4397h-659l1594 4134h-2241v532z\"/></defs><use xlink:href=\"#DejaVuSans-30\"/><use x=\"63.623047\" xlink:href=\"#DejaVuSans-2e\"/><use x=\"95.410156\" xlink:href=\"#DejaVuSans-30\"/><use x=\"159.033203\" xlink:href=\"#DejaVuSans-31\"/><use x=\"222.65625\" xlink:href=\"#DejaVuSans-37\"/></g><g transform=\"translate(117.91 234.06) scale(.1 -.1)\" fill=\"#343a3f\"><use xlink:href=\"#DejaVuSans-30\"/><use x=\"63.623047\" xlink:href=\"#DejaVuSans-2e\"/><use x=\"95.410156\" xlink:href=\"#DejaVuSans-30\"/><use x=\"159.033203\" xlink:href=\"#DejaVuSans-34\"/><use x=\"222.65625\" xlink:href=\"#DejaVuSans-34\"/></g><g transform=\"translate(140.82 214.32) scale(.1 -.1)\" fill=\"#343a3f\"><use xlink:href=\"#DejaVuSans-30\"/><use x=\"63.623047\" xlink:href=\"#DejaVuSans-2e\"/><use x=\"95.410156\" xlink:href=\"#DejaVuSans-30\"/><use x=\"159.033203\" xlink:href=\"#DejaVuSans-36\"/><use x=\"222.65625\" xlink:href=\"#DejaVuSans-32\"/></g><g transform=\"translate(163.73 119.62) scale(.1 -.1)\" fill=\"#343a3f\"><use xlink:href=\"#DejaVuSans-30\"/><use x=\"63.623047\" xlink:href=\"#DejaVuSans-2e\"/><use x=\"95.410156\" xlink:href=\"#DejaVuSans-31\"/><use x=\"159.033203\" xlink:href=\"#DejaVuSans-34\"/><use x=\"222.65625\" xlink:href=\"#DejaVuSans-38\"/></g><g transform=\"translate(186.63 176.11) scale(.1 -.1)\" fill=\"#343a3f\"><defs><path id=\"DejaVuSans-39\" transform=\"scale(.015625)\" d=\"m703 97v575q238-113 481-172 244-59 479-59 625 0 954 420 330 420 377 1277-181-269-460-413-278-144-615-144-700 0-1108 423-408 424-408 1159 0 718 425 1152 425 435 1131 435 810 0 1236-621 427-620 427-1801 0-1103-524-1761-523-658-1407-658-238 0-482 47-243 47-506 141zm1256 1978q425 0 673 290 249 291 249 798 0 503-249 795-248 292-673 292t-673-292-248-795q0-507 248-798 248-290 673-290z\"/></defs><use xlink:href=\"#DejaVuSans-30\"/><use x=\"63.623047\" xlink:href=\"#DejaVuSans-2e\"/><use x=\"95.410156\" xlink:href=\"#DejaVuSans-30\"/><use x=\"159.033203\" xlink:href=\"#DejaVuSans-39\"/><use x=\"222.65625\" xlink:href=\"#DejaVuSans-37\"/></g><g transform=\"translate(209.54 177.62) scale(.1 -.1)\" fill=\"#343a3f\"><defs><path id=\"DejaVuSans-35\" transform=\"scale(.015625)\" d=\"m691 4666h2478v-532h-1900v-1143q137 47 274 70 138 23 276 23 781 0 1237-428 457-428 457-1159 0-753-469-1171-469-417-1322-417-294 0-599 50-304 50-629 150v635q281-153 581-228t634-75q541 0 856 284 316 284 316 772 0 487-316 771-315 285-856 285-253 0-505-56-251-56-513-175v2344z\"/></defs><use xlink:href=\"#DejaVuSans-30\"/><use x=\"63.623047\" xlink:href=\"#DejaVuSans-2e\"/><use x=\"95.410156\" xlink:href=\"#DejaVuSans-30\"/><use x=\"159.033203\" xlink:href=\"#DejaVuSans-39\"/><use x=\"222.65625\" xlink:href=\"#DejaVuSans-35\"/></g><g transform=\"translate(232.45 270.84) scale(.1 -.1)\" fill=\"#343a3f\"><use xlink:href=\"#DejaVuSans-30\"/><use x=\"63.623047\" xlink:href=\"#DejaVuSans-2e\"/><use x=\"95.410156\" xlink:href=\"#DejaVuSans-30\"/><use x=\"159.033203\" xlink:href=\"#DejaVuSans-31\"/><use x=\"222.65625\" xlink:href=\"#DejaVuSans-30\"/></g><g transform=\"translate(255.36 39.77) scale(.1 -.1)\" fill=\"#343a3f\"><use xlink:href=\"#DejaVuSans-30\"/><use x=\"63.623047\" xlink:href=\"#DejaVuSans-2e\"/><use x=\"95.410156\" xlink:href=\"#DejaVuSans-32\"/><use x=\"159.033203\" xlink:href=\"#DejaVuSans-32\"/><use x=\"222.65625\" xlink:href=\"#DejaVuSans-31\"/></g><g transform=\"translate(278.27 194.07) scale(.1 -.1)\" fill=\"#343a3f\"><use xlink:href=\"#DejaVuSans-30\"/><use x=\"63.623047\" xlink:href=\"#DejaVuSans-2e\"/><use x=\"95.410156\" xlink:href=\"#DejaVuSans-30\"/><use x=\"159.033203\" xlink:href=\"#DejaVuSans-38\"/><use x=\"222.65625\" xlink:href=\"#DejaVuSans-30\"/></g><g transform=\"translate(301.18 197.09) scale(.1 -.1)\" fill=\"#343a3f\"><use xlink:href=\"#DejaVuSans-30\"/><use x=\"63.623047\" xlink:href=\"#DejaVuSans-2e\"/><use x=\"95.410156\" xlink:href=\"#DejaVuSans-30\"/><use x=\"159.033203\" xlink:href=\"#DejaVuSans-37\"/><use x=\"222.65625\" xlink:href=\"#DejaVuSans-38\"/></g><g transform=\"translate(324.09 261.12) scale(.1 -.1)\" fill=\"#343a3f\"><use xlink:href=\"#DejaVuSans-30\"/><use x=\"63.623047\" xlink:href=\"#DejaVuSans-2e\"/><use x=\"95.410156\" xlink:href=\"#DejaVuSans-30\"/><use x=\"159.033203\" xlink:href=\"#DejaVuSans-31\"/><use x=\"222.65625\" xlink:href=\"#DejaVuSans-39\"/></g><g transform=\"translate(347 272.94) scale(.1 -.1)\" fill=\"#343a3f\"><use xlink:href=\"#DejaVuSans-30\"/><use x=\"63.623047\" xlink:href=\"#DejaVuSans-2e\"/><use x=\"95.410156\" xlink:href=\"#DejaVuSans-30\"/><use x=\"159.033203\" xlink:href=\"#DejaVuSans-30\"/><use x=\"222.65625\" xlink:href=\"#DejaVuSans-39\"/></g><g transform=\"translate(369.91 249.41) scale(.1 -.1)\" fill=\"#343a3f\"><defs><path id=\"DejaVuSans-33\" transform=\"scale(.015625)\" d=\"m2597 2516q453-97 707-404 255-306 255-756 0-690-475-1069-475-378-1350-378-293 0-604 58t-642 174v609q262-153 574-231 313-78 654-78 593 0 904 234t311 681q0 413-289 645-289 233-804 233h-544v519h569q465 0 712 186t247 536q0 359-255 551-254 193-729 193-260 0-557-57-297-56-653-174v562q360 100 674 150t592 50q719 0 1137-327 419-326 419-882 0-388-222-655t-631-370z\"/></defs><use xlink:href=\"#DejaVuSans-30\"/><use x=\"63.623047\" xlink:href=\"#DejaVuSans-2e\"/><use x=\"95.410156\" xlink:href=\"#DejaVuSans-30\"/><use x=\"159.033203\" xlink:href=\"#DejaVuSans-33\"/><use x=\"222.65625\" xlink:href=\"#DejaVuSans-30\"/></g><g transform=\"translate(392.82 273.64) scale(.1 -.1)\" fill=\"#343a3f\"><use xlink:href=\"#DejaVuSans-30\"/><use x=\"63.623047\" xlink:href=\"#DejaVuSans-2e\"/><use x=\"95.410156\" xlink:href=\"#DejaVuSans-30\"/><use x=\"159.033203\" xlink:href=\"#DejaVuSans-30\"/><use x=\"222.65625\" xlink:href=\"#DejaVuSans-38\"/></g><g transform=\"translate(415.73 204.13) scale(.1 -.1)\" fill=\"#343a3f\"><use xlink:href=\"#DejaVuSans-30\"/><use x=\"63.623047\" xlink:href=\"#DejaVuSans-2e\"/><use x=\"95.410156\" xlink:href=\"#DejaVuSans-30\"/><use x=\"159.033203\" xlink:href=\"#DejaVuSans-37\"/><use x=\"222.65625\" xlink:href=\"#DejaVuSans-31\"/></g><defs><clipPath id=\"p7641362dd8\"><rect x=\"62.921\" y=\"7.2\" width=\"390.6\" height=\"277.2\"/></clipPath></defs></svg>"
      ],
      "text/plain": [
       "<Figure size 700x500 with 1 Axes>"
      ]
     },
     "execution_count": 6,
     "metadata": {},
     "output_type": "execute_result"
    }
   ],
   "source": [
    "from qiskit.quantum_info import Statevector\n",
    "from qiskit.visualization import plot_histogram\n",
    "ideal_results = Statevector.from_instruction(\n",
    "                                           qv_circuit).probabilities_dict()\n",
    "plot_histogram(ideal_results)"
   ]
  },
  {
   "cell_type": "markdown",
   "metadata": {},
   "source": [
    "回路の*ヘビー・アウトプット*とは、発生確率が中央値より大きい出力（高頻度出力）のことです。どのような回路でも、可能な出力の半分がヘビー・アウトプットとなります。\n",
    "\n",
    "![計算基底状態](images/qv_heavy_outputs.svg)\n",
    "\n",
    "以下は、実験のカウントからヘビー・アウトプットを抽出する関数<code>get_heavy_outputs</code>です。\n"
   ]
  },
  {
   "cell_type": "code",
   "execution_count": 7,
   "metadata": {},
   "outputs": [
    {
     "name": "stdout",
     "output_type": "stream",
     "text": [
      "['0011', '1111', '1010', '1001', '0110', '0101', '0100', '1000']\n"
     ]
    }
   ],
   "source": [
    "def get_heavy_outputs(counts):\n",
    "    \"\"\"Extract heavy outputs from counts dict.\n",
    "    Args:\n",
    "        counts (dict): Output of `.get_counts()`\n",
    "    Returns:\n",
    "        list: All states with measurement probability greater\n",
    "              than the mean.\n",
    "    \"\"\"\n",
    "    # sort the keys of `counts` by value of counts.get(key)\n",
    "    sorted_counts = sorted(counts.keys(), key=counts.get)\n",
    "    # discard results with probability < median\n",
    "    heavy_outputs = sorted_counts[len(sorted_counts)//2:]\n",
    "    return heavy_outputs\n",
    "\n",
    "print(get_heavy_outputs(ideal_results))"
   ]
  },
  {
   "cell_type": "markdown",
   "metadata": {
    "formulas": {
     "qv_nc": {
      "meaning": "The number of different circuits",
      "say": "N S",
      "type": "Locally defined variable"
     },
     "qv_ncns": {
      "meaning": "Number of unique circuits multiplied by the number of shots for each circuit.",
      "say": "N C N S",
      "type": "Locally defined variable"
     },
     "qv_nh": {
      "meaning": "The total number of heavy output measured.",
      "say": "N H",
      "type": "Locally defined variable"
     },
     "qv_nhnc": {
      "meaning": "The number of heavy outputs measured divided by the number of unique circuits.",
      "say": "NH over NC",
      "type": "Locally defined variable"
     },
     "qv_ns": {
      "meaning": "The number of times we run each circuit.",
      "say": "N S",
      "type": "Locally defined variable"
     },
     "qv_z": {
      "meaning": "Sets the threshold",
      "say": "Z test",
      "type": "Universally used notation"
     }
    }
   },
   "source": [
    "各回路をデバイスで動作させ、ヘビー・アウトプットとなった出力の数を記録します。<br>ヘビー・アウトプット・ストに合格するためには、ヘビー・アウトプットを測定する確率が3分の2以上であることが必要です。つまり、十分な数の回路で、以下のようになるということです。\n",
    "\n",
    "$$\\frac{\\class{qv_nh}{n_h}}{\\class{qv_nc}{n_c}\\class{qv_ns}{n_s}}\\gt{\\frac{2}{3}}$$\n",
    "\n",
    "ここで、$n_h$ は測定したヘビー・アウトプットの数、$n_c$ は作成した回路の数、$n_s$ は各回路を実行した回数（ショット数）です。しかし、「十分に大きい」実験回数とは、どのように決めればよいのでしょうか。まず、量子ボリュームでは、少なくとも100個の回路を実行することが必要で、そうでなければテストは無効となります。次に、約97%の信頼度を確保するために調整された閾値が使われます。\n",
    "\n",
    "$$\\frac{\\class{qv_nh}{n_h} -\\cssId{qv_z}{z}\\sqrt{\\class{qv_nh}{n_h}(\\class{qv_ns}{n_s}-\\cssId{qv_nhnc}{\\frac{n_h}{n_c}})}}{\\class{qv_nc}{n_c}\\class{qv_ns}{n_s}}\\gt\\frac{2}{3}$$\n",
    "\n",
    "新しい項（平方根で囲まれた項）を加えるには、不等式を満たすためにヘビー・アウトプットの確率を大きくするか、より多くの回数を走らせる必要があります。新しい項は他の項よりゆっくり成長するので、多くの回数を実行すると、この不等式は上に示した、より単純なものに似てきます。量子ボリュームテストが上記の不等式を満たす場合、ヘビー・アウトプットの確率が2/3より大きい確率は少なくとも97%です。\n",
    "\n",
    "以下に、この不等式を評価する関数(<code>check_threshold</code>)を示します。\n"
   ]
  },
  {
   "cell_type": "code",
   "execution_count": 8,
   "metadata": {},
   "outputs": [],
   "source": [
    "def check_threshold(nheavies, ncircuits, nshots):\n",
    "    \"\"\"Evaluate adjusted threshold inequality for quantum volume.\n",
    "    Args:\n",
    "        nheavies (int): Total number of heavy outputs measured from device\n",
    "        ncircuits (int): Number of different square circuits run on device\n",
    "        nshots (int): Number of shots per circuit\n",
    "    Returns:\n",
    "        Bool:\n",
    "            True if heavy output probability is > 2/3 with 97% certainty,\n",
    "            otherwise False\n",
    "    \"\"\"\n",
    "    from numpy import sqrt\n",
    "    numerator = nheavies - 2*sqrt(nheavies*(nshots-(nheavies/ncircuits)))\n",
    "    return bool(numerator/(ncircuits*nshots) > 2/3)"
   ]
  },
  {
   "cell_type": "markdown",
   "metadata": {},
   "source": [
    "<!-- ::: q-block.exercise -->\n",
    "\n",
    "## 練習問題\n",
    "\n",
    "これで、量子デバイスが特定の量子ボリュームを達成できるかどうかを確認するために必要なものはすべて揃いました。以下は、あるデバイスが特定の量子ボリュームを達成できるかどうかをチェックするアルゴリズムのステップです。正しく順序付けしてみてください。\n",
    "\n",
    "アルゴリズムが量子ボリュームテストに合格するかどうかをテストするアルゴリズム。\n",
    "    入力: <code>d, nc > 100, ns</code>\n",
    "\n",
    "\n",
    "    q-drag-and-drop-code\n",
    "        .line Let nh = 0\n",
    "        .line For nc repetitions do:\n",
    "            .line Let U be a randomly generated d×d quantum circuit\n",
    "            .line Let Hu be a list of U’s heavy outputs\n",
    "            .line For ns repetitions do:\n",
    "                .line Let x be the result of executing U on the device\n",
    "                .line If x is in Hu:\n",
    "                    .line Increase nh by 1\n",
    "        .result-info.md Return evaluation of $\\phantom{a}\\frac{n_h {-} z\\sqrt{n_h({n_s}-{\\frac{n_h}{n_c}})}}{n_cn_s}\\gt\\frac{2}{3}$\n",
    "\n",
    "<!-- ::: -->\n",
    "\n"
   ]
  },
  {
   "cell_type": "markdown",
   "metadata": {},
   "source": [
    "以下は、Qiskitのコードとしてのアルゴリズムです。"
   ]
  },
  {
   "cell_type": "code",
   "execution_count": 9,
   "metadata": {},
   "outputs": [],
   "source": [
    "from qiskit import transpile\n",
    "def test_qv(device, nqubits, ncircuits, nshots):\n",
    "    \"\"\"Try to achieve 2**nqubits quantum volume on device.\n",
    "    Args:\n",
    "        device (qiskit.providers.Backend): Device to test.\n",
    "        nqubits (int): Number of qubits to use for test.\n",
    "        ncircuits (int): Number of different circuits to run on the device.\n",
    "        nshots (int): Number of shots per circuit.\n",
    "    Returns:\n",
    "        Bool\n",
    "            True if device passes test, otherwise False.\n",
    "    \"\"\"\n",
    "    def get_ideal_probabilities(circuit):\n",
    "        \"\"\"Simulates circuit behaviour on a device with no errors.\"\"\"\n",
    "        state_vector = Statevector.from_instruction(\n",
    "                circuit.remove_final_measurements(inplace=False)\n",
    "            )\n",
    "        return state_vector.probabilities_dict()\n",
    "\n",
    "    def get_real_counts(circuit, backend, shots):\n",
    "        \"\"\"Runs circuit on device and returns counts dict.\"\"\"\n",
    "        t_circuit = transpile(circuit, backend)\n",
    "        job = backend.run(t_circuit,\n",
    "                          shots=shots,\n",
    "                          memory=True)\n",
    "        return job.result().get_counts()\n",
    "\n",
    "    # generate set of random circuits\n",
    "    qv_circuits = [\n",
    "        QuantumVolumeCircuit(nqubits) for c in range(ncircuits)\n",
    "    ]\n",
    "\n",
    "    nheavies = 0  # number of measured heavy outputs\n",
    "    for circuit in qv_circuits:\n",
    "        # simulate circuit\n",
    "        ideal_heavy_outputs = get_heavy_outputs(\n",
    "            get_ideal_probabilities(circuit)\n",
    "        )\n",
    "        # run circuit on device\n",
    "        circuit.measure_all()\n",
    "        real_counts = get_real_counts(circuit, device, nshots)\n",
    "        # record whether device result is in the heavy outputs\n",
    "        for output, count in real_counts.items():\n",
    "            if output in ideal_heavy_outputs:\n",
    "                nheavies += count\n",
    "\n",
    "    # do statistical check to see if device passes test\n",
    "    is_pass = check_threshold(nheavies, ncircuits, nshots)\n",
    "    # calculate percentage of measurements that are heavy outputs\n",
    "    percent_heavy_outputs = nheavies*100/(ncircuits * nshots)\n",
    "\n",
    "    print(f\"Quantum Volume: {2**nqubits}\\n\"\n",
    "          f\"Percentage Heavy Outputs: {percent_heavy_outputs:.1f}%\\n\"\n",
    "          f\"Passed?: {is_pass}\\n\")\n",
    "    return is_pass"
   ]
  },
  {
   "cell_type": "markdown",
   "metadata": {
    "gloss": {
     "santiago": {
      "text": "IBM names its quantum systems after cities. Here we are using a simulator that mimics IBM Quantum's Santiago device.",
      "title": "santiago"
     }
    }
   },
   "source": [
    "そして、これを使ってシミュレートされた[Santiago](gloss:santiago)デバイスで量子ボリューム16を達成できるかどうかを確認する例です。"
   ]
  },
  {
   "cell_type": "code",
   "execution_count": 10,
   "metadata": {},
   "outputs": [
    {
     "name": "stdout",
     "output_type": "stream",
     "text": [
      "Quantum Volume: 16\n",
      "Percentage Heavy Outputs: 76.1%\n",
      "Passed?: True\n",
      "\n"
     ]
    },
    {
     "data": {
      "text/plain": [
       "True"
      ]
     },
     "execution_count": 10,
     "metadata": {},
     "output_type": "execute_result"
    }
   ],
   "source": [
    "from qiskit.providers.fake_provider import FakeSantiago\n",
    "santiago = FakeSantiago()\n",
    "test_qv(santiago, 4, ncircuits=150, nshots=50)"
   ]
  },
  {
   "cell_type": "markdown",
   "metadata": {},
   "source": [
    "<!-- ::: q-block.exercise -->\n",
    "\n",
    "## 練習問題\n",
    "\n",
    "Athensのシミュレートされたデバイスを用いて実現できる最大量子ボリュームはいくらでしょうか？量子ビットのリストを変更すると、どのような影響がありますか？最適化レベルを変更するとどのような影響がありますか？スコアを向上させるために何かできることはありますか？\n",
    "\n",
    "[IBM Quantum Labで試してみましょう](https://quantum-computing.ibm.com/jupyter)\n",
    "\n",
    "<!-- ::: -->\n"
   ]
  },
  {
   "cell_type": "markdown",
   "metadata": {},
   "source": [
    "## Qiskitの量子ボリュームツールの使用\n",
    "\n",
    "`qiskit-experiments`パッケージには、量子ボリュームを測定するためのツールも含まれています。まず、フェイクデバイス(`Boeblingen`)をセットアップして、このデモを行います。"
   ]
  },
  {
   "cell_type": "code",
   "execution_count": 11,
   "metadata": {},
   "outputs": [],
   "source": [
    "from qiskit.providers.fake_provider import FakeBoeblingen\n",
    "boeblingen = FakeBoeblingen()"
   ]
  },
  {
   "cell_type": "markdown",
   "metadata": {},
   "source": [
    "次に、このデバイスとその量子ビットのサブセットを使って`QuantumVolume`実験を作成します。"
   ]
  },
  {
   "cell_type": "code",
   "execution_count": 12,
   "metadata": {},
   "outputs": [],
   "source": [
    "from qiskit_experiments.library import QuantumVolume\n",
    "qv_experiment = QuantumVolume(qubits=[0, 1, 2],\n",
    "                              backend=boeblingen)"
   ]
  },
  {
   "cell_type": "markdown",
   "metadata": {},
   "source": [
    "最後に、この実験を実行し、結果を表示します。メソッド`.analysis_results()`は異なる結果オブジェクトのリストを返すので、それらを繰り返し処理して、それぞれを表示します。"
   ]
  },
  {
   "cell_type": "code",
   "execution_count": 13,
   "metadata": {
    "tags": [
     "ignore-warning"
    ]
   },
   "outputs": [
    {
     "name": "stderr",
     "output_type": "stream",
     "text": [
      "Adding a job from a backend (aer_simulator) that is different than the current backend (fake_boeblingen). The new backend will be used, but service is not changed if one already exists.\n"
     ]
    },
    {
     "name": "stdout",
     "output_type": "stream",
     "text": [
      "AnalysisResult\n",
      "- name: mean_HOP\n",
      "- value: 0.79+/-0.04\n",
      "- quality: good\n",
      "- extra: <4 items>\n",
      "- device_components: ['Q0', 'Q1', 'Q2']\n",
      "- verified: False\n",
      "AnalysisResult\n",
      "- name: quantum_volume\n",
      "- value: 8\n",
      "- quality: good\n",
      "- extra: <4 items>\n",
      "- device_components: ['Q0', 'Q1', 'Q2']\n",
      "- verified: False\n"
     ]
    }
   ],
   "source": [
    "result = qv_experiment.run()\n",
    "for analysis in result.analysis_results():\n",
    "    print(analysis)"
   ]
  },
  {
   "cell_type": "markdown",
   "metadata": {},
   "source": [
    "この結果、量子ボリュームは8となり、以下のコードでアクセス可能な図が生成されます。"
   ]
  },
  {
   "cell_type": "code",
   "execution_count": 14,
   "metadata": {},
   "outputs": [
    {
     "data": {
      "image/png": "[encoded data removed]",
      "text/plain": [
       "<qiskit_experiments.framework.experiment_data.FigureData at 0x141ce5a00>"
      ]
     },
     "execution_count": 14,
     "metadata": {},
     "output_type": "execute_result"
    }
   ],
   "source": [
    "result.figure(0)"
   ]
  },
  {
   "cell_type": "markdown",
   "metadata": {},
   "source": [
    "上の実験で量子ビットの数を増やしてみてください。Boeblingenの性能はどうでしょうか？\n",
    "\n",
    "量子ビットの賢い選択と多くの回路を使えば、IBMが本物のBoeblingenデバイスで達成したように、模擬Boeblingenデバイスでも量子ボリューム16を達成できることは容易に想像がつきます。別の例を挙げると、以下の画像は、IBMがMontrealデバイスで行ったQV64のデモから抜粋したものです[2]。\n",
    "\n",
    "![IBM QuantumのMontrealデバイスで測定された64の量子ボリューム](images/qv_montreal.png)"
   ]
  },
  {
   "cell_type": "markdown",
   "metadata": {},
   "source": [
    "どのように実現したかは、論文で詳しく紹介されています[こちら](https://arxiv.org/pdf/2008.08571.pdf)。\n",
    "\n",
    "## 参考文献\n",
    "\n",
    "[1] Andrew W. Cross, Lev S. Bishop, Sarah Sheldon, Paul D. Nation, and Jay M. Gambetta, Validating quantum computers using randomized model circuits, Phys. Rev. A 100, 032328 (2019). https://arxiv.org/pdf/1811.12926\n",
    "\n",
    "[2] Petar Jurcevic et. al. Demonstration of quantum volume 64 on a superconducting quantum computing system https://arxiv.org/pdf/2008.08571.pdf"
   ]
  }
 ],
 "metadata": {
  "kernelspec": {
   "display_name": "Python 3",
   "language": "python",
   "name": "python3"
  },
  "language_info": {
   "codemirror_mode": {
    "name": "ipython",
    "version": 3
   },
   "file_extension": ".py",
   "mimetype": "text/x-python",
   "name": "python",
   "nbconvert_exporter": "python",
   "pygments_lexer": "ipython3",
   "version": "3.9"
  }
 },
 "nbformat": 4,
 "nbformat_minor": 2
}
