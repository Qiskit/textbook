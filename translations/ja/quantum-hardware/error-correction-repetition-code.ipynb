{
 "cells": [
  {
   "cell_type": "markdown",
   "metadata": {
    "tags": [
     "remove_cell"
    ]
   },
   "source": [
    "# 反復符号による量子エラー訂正の導入"
   ]
  },
  {
   "cell_type": "markdown",
   "metadata": {},
   "source": [
    "## はじめに\n",
    "\n",
    "量子コンピューティングでは、量子ビットで情報を符号化する必要があります。過去数十年にわたって開発された量子アルゴリズムのほとんどは、これらの量子ビットが完全であると仮定しています。すなわち、量子ビットを任意の望んだ状態で準備でき、完全な精度で操作できるという仮定です。これらの仮定に従う量子ビットは、 *論理量子ビット* として知られています。\n",
    "\n",
    "過去数十年で、より良い品質の量子ビットが常に開発され続け、量子ビットとして振る舞う物理系の発見においても大きな進歩を遂げています。ただし、欠陥を完全に取り除くことはできません。これらの量子ビットは、直接に論理量子ビットとして使うには不正確すぎます。代わりに、それらを *物理量子ビット* と呼びます。\n",
    "\n",
    "現段階の量子コンピューティングでは、物理量子ビットが不完全であっても、専用アルゴリズムを設計してエラー軽減効果を利用することで、利用しようとしています。ただし、将来のエラー耐性量子コンピューターの時代に向けて、物理量子ビットから論理量子ビットを構築する方法を見つなければいけません。これは、多数の物理量子ビットによって論理量子ビットを符号化する、量子エラー訂正のプロセスを通じて行われます。符号化を維持するため、物理量子ビットを高度にエンタングルしている回路に常に通します。補助自由度も絶えず測定され、エラーの兆候を検出し、その影響を除去できるようにします。本質的にはこの手順に小さな摂動を加えることによって、量子計算を実装するために必要な論理量子ビットに対する演算を実行します。\n",
    "\n",
    "このプロセスには膨大な労力を必要とするため、エラー耐性量子コンピューターで実行されるほとんどの演算は、エラーの検出と訂正という目的での演算です。そのため、エラー耐性量子量子計算に向けた成果をベンチマークするとき、デバイスがエラー訂正をどの程度実行できるかに着目し続けなければなりません。\n",
    "\n",
    "この章では、エラー訂正の一例である反復符号を見ていきます。量子論理ビットではなく単なる論理*ビット*に物理量子ビットを符号化するという点で、本当の量子エラー訂正の例ではありませんが、これは量子エラー訂正符号のすべての基本概念を知るための簡単なガイドとして役立ちます。また、現在のプロトタイプデバイスでどのように実行できるかも確認します。"
   ]
  },
  {
   "cell_type": "markdown",
   "metadata": {},
   "source": [
    "## 反復符号の導入"
   ]
  },
  {
   "cell_type": "markdown",
   "metadata": {},
   "source": [
    "### エラー訂正の基本\n",
    "\n",
    "エラー訂正の基本的な考え方は、量子情報でも古典情報でも同じです。まず、電話での会話という非常に簡単な例を考えてみましょう。誰かが、答えが「はい」か「いいえ」である質問をしてきた場合、あなたがどのように答えるかは、2つの要素に依存します。\n",
    "\n",
    "- 正しく理解されることがどの程度重要か？\n",
    "- 接続がどどれだけ良好か？\n",
    "\n",
    "これらは両方とも確率を使ってパラメータ化ができます。最初に、最大許容エラー確率である$P_a$を使います。アイスクリームの味の好みを確認され、チョコレートと言ってバニラを渡されてもあまり気にしない場合、$P_a$はかなり高いと言えます。一方で、誰かの人生に関わる質問をされている場合、$P_a$ はずっと低くなります。\n",
    "\n",
    "次に接続不良により応答が文字化けする確率$p$を使います。簡単のため、文字化けした「yes」が単に無意味な文字列に聞こえるのではなく、「no」のように聞こえる場合を考えてみましょう。同様に、「no」は「yes」に変換されるとします。この場合、$p$は完全に誤解される確率です。\n",
    "\n",
    "接続が良かったり、質問が比較的重要でない場合は $p<P_a$ になります。この場合、可能な限り最も直接的な方法で答えるだけで構いません。「yes」または「no」と言うだけです。\n",
    "\n",
    "ただし、接続が悪く、応答が重要な場合は、$p>P_a$ になります。この場合では単なる「yes」か「no」という応答では不十分です。誤解される可能性が高すぎます。代わりに、もう少し複雑な構造で応答を符号化する必要があります。これにより、メッセージが歪曲する可能性があるにもかかわらず、受信者が意味を復号できるようになります。最も単純な方法は、多くの人が考えずに行う方法で、つまり単純に何度も応答を繰り返します。例えば、「yes」の代わりに、「yes、yes、yes」と言い、「no」の代わりに、「no、no、no」と言います。\n",
    "\n",
    "この場合、受信者が「yes、yes、yes」と聞くと、当然送信者が「yes」を意味すると結論付けます。受信者が「no、yes、yes」、「yes、no、yes」または「yes、yes、no」と聞いた場合、応答には否定性よりも肯定性があるため、おそらく同じことを結論付けるでしょう。この場合に誤解されるには、少なくとも2つの応答が文字化けする必要があります。この確率 $P$ は、$p$ 未満です。したがって、この方法で符号化するとメッセージが正く理解される可能性が高くなります。以下のコードのセルは、この例を示しています。"
   ]
  },
  {
   "cell_type": "code",
   "execution_count": 1,
   "metadata": {},
   "outputs": [
    {
     "name": "stdout",
     "output_type": "stream",
     "text": [
      "Probability of a single reply being garbled: 0.01\n",
      "Probability of a the majority of three replies being garbled: 0.0003\n"
     ]
    }
   ],
   "source": [
    "p1 = 0.01\n",
    "p3 = 3 * p1**2 * (1-p1) + p1**3 # probability of 2 or 3 errors\n",
    "print('Probability of a single reply being garbled: {}'.format(p1))\n",
    "print('Probability of a the majority of three replies being garbled: {:.4f}'.format(p3))"
   ]
  },
  {
   "cell_type": "markdown",
   "metadata": {},
   "source": [
    "$P<P_a$ の場合、この手法で問題が解決します。  そうでない場合は、単に応答の回数を増やすことで解決できます。  上記の $P<p$ という事実は、過半数を反転させるために少なくとも2つの応答が文字化けする必要があるという事実に由来するため、最も起こりやすいケースでさえ $\\sim p^2$ の確率を持ちます。   5回の反復では、過半数を反転させるために少なくとも3つの応答が文字化けする必要があり、$\\sim p^3$ の確率で発生します。  この場合の$ P $の値はさらに低くなります。  実際、反復回数を増やすと、$ P $は指数関数的に減少します。  接続がどれほど悪くとも、もしくはどれほど確実に正しく理解される必要があったとしても、応答を十分に繰り返すだけで実現できます。\n",
    "\n",
    "これは単純な例ですが、エラー訂正の全ての側面を含んでいます。\n",
    "\n",
    "- 送信もしくは保存すべき情報が存在する。: この場合では「Yes」か「No」に対応。\n",
    "- ノイズから守るため、情報はより大きな系で符号化される。: この場合ではメッセージの反復に対応。\n",
    "- ノイズの影響を軽減したまま、情報は最終的に復号される。: この場合では伝達されたメッセージの過半数側を信用することに対応。\n",
    "\n",
    "「yes」と「no」を`0`と`1` に置き換えるだけで、同じ符号化スキームをバイナリにも使用することができます。したがって、状態 $\\left|0\\right\\rangle$ と $\\left|1\\right\\rangle$ を使用することにより、簡単に量子ビットに一般化することもできます。どちらの場合も*反復符号*として知られています。他の多くの形式の符号化も、古典の場合と量子の場合の両方で可能であり、多くの点で反復符号よりも優れています。しかし、最も単純な符号化としてのステータスは、特定のアプリケーションに役立ちます。 その1つは、量子エラー訂正の背後にあるアイデアを実装する最初で最も簡単なテストとして、まさにQiskitで使用されているものです。"
   ]
  },
  {
   "cell_type": "markdown",
   "metadata": {},
   "source": [
    "### 量子ビットのエラー訂正\n",
    "\n",
    "Qiskitを使用してこれらのアイデアを明示的に実装します。不完全な量子ビットの影響を確認するには、プロトタイプデバイスの量子ビットを使用するだけです。シミュレーションでその影響を再現することもできます。以下の関数は、このための単純なノイズモデルを作成します。これらは、前述の単純なケースである確率 $p$ で発生する単一のノイズイベントを超えて考えています。代わりに、発生する可能性のある2つの形式のエラーを検討します。1つはゲートエラーで、実行する演算の欠陥です。ここでは、いわゆる脱分極ノイズを利用して、シンプルな方法でモデル化します。確率 $p_{gate}$ で任意の量子ビットの状態を完全にランダムな状態に置き換える効果があります。2量子ビットゲートの場合、各量子ビットへ個別に適用されます。もう１つのノイズの形式は測定によるものです。これは、測定する直前で `0` から `1` またはその逆に単に反転してしまう確率 $p_{meas}$ で形式化されます。"
   ]
  },
  {
   "cell_type": "code",
   "execution_count": 2,
   "metadata": {},
   "outputs": [],
   "source": [
    "from qiskit.providers.aer.noise import NoiseModel\n",
    "from qiskit.providers.aer.noise.errors import pauli_error, depolarizing_error\n",
    "\n",
    "def get_noise(p_meas,p_gate):\n",
    "\n",
    "    error_meas = pauli_error([('X',p_meas), ('I', 1 - p_meas)])\n",
    "    error_gate1 = depolarizing_error(p_gate, 1)\n",
    "    error_gate2 = error_gate1.tensor(error_gate1)\n",
    "\n",
    "    noise_model = NoiseModel()\n",
    "    noise_model.add_all_qubit_quantum_error(error_meas, \"measure\") # measurement error is applied to measurements\n",
    "    noise_model.add_all_qubit_quantum_error(error_gate1, [\"x\"]) # single qubit gate error is applied to x gates\n",
    "    noise_model.add_all_qubit_quantum_error(error_gate2, [\"cx\"]) # two qubit gate error is applied to cx gates\n",
    "        \n",
    "    return noise_model"
   ]
  },
  {
   "cell_type": "markdown",
   "metadata": {},
   "source": [
    "それぞれの種類のエラーが $1\\%$ の確率で発生するようなノイズモデルを作成します。"
   ]
  },
  {
   "cell_type": "code",
   "execution_count": 3,
   "metadata": {},
   "outputs": [],
   "source": [
    "noise_model = get_noise(0.01,0.01)"
   ]
  },
  {
   "cell_type": "markdown",
   "metadata": {},
   "source": [
    "3つの量子ビットを使用して状態 $\\left|0\\right\\rangle$ で `0` を保存しようとすると、ノイズがどんな影響を与えるか見てみましょう。このプロセスを`shots=1024`  回反復して、結果が異なることがどれくらいあるかを確認します。"
   ]
  },
  {
   "cell_type": "code",
   "execution_count": 4,
   "metadata": {},
   "outputs": [
    {
     "name": "stdout",
     "output_type": "stream",
     "text": [
      "{'001': 6, '100': 10, '010': 11, '000': 997}\n"
     ]
    }
   ],
   "source": [
    "from qiskit import QuantumCircuit, execute, Aer\n",
    "\n",
    "qc0 = QuantumCircuit(3,3,name='0') # initialize circuit with three qubits in the 0 state\n",
    "\n",
    "qc0.measure(qc0.qregs[0],qc0.cregs[0]) # measure the qubits\n",
    "\n",
    "# run the circuit with th noise model and extract the counts\n",
    "counts = execute( qc0, Aer.get_backend('qasm_simulator'),noise_model=noise_model).result().get_counts()\n",
    "\n",
    "print(counts)"
   ]
  },
  {
   "cell_type": "code",
   "execution_count": 5,
   "metadata": {
    "tags": [
     "sanity-check"
    ]
   },
   "outputs": [],
   "source": [
    "# ...almost all results still come out '000',...\n",
    "assert counts['000'] > sum(counts.values())*0.95"
   ]
  },
  {
   "cell_type": "markdown",
   "metadata": {},
   "source": [
    "ノイズがなかった場合のように、ほとんどすべての結果が `'000'` のままです。  残りの可能性のうち、大部分が `0` である可能性が最も高くなります。合計すると、10個よりはるかに少ないサンプルで、過半数となった `1` が出力されています。この回路を使って `0` を符号化するとき、これは $P<1\\%$ を意味します。\n",
    "\n",
    "では3量子ビットを使用して状態$\\left|1\\right\\rangle$で `1` を保存するために同じことを試してみましょう。"
   ]
  },
  {
   "cell_type": "code",
   "execution_count": 6,
   "metadata": {},
   "outputs": [
    {
     "name": "stdout",
     "output_type": "stream",
     "text": [
      "{'001': 1, '110': 16, '101': 19, '011': 9, '111': 979}\n"
     ]
    }
   ],
   "source": [
    "qc1 = QuantumCircuit(3, 3, name='0') # initialize circuit with three qubits in the 0 state\n",
    "qc1.x(qc1.qregs[0]) # flip each 0 to 1\n",
    "\n",
    "qc1.measure(qc1.qregs[0],qc1.cregs[0]) # measure the qubits\n",
    "\n",
    "# run the circuit with th noise model and extract the counts\n",
    "counts = execute(qc1, Aer.get_backend('qasm_simulator'),noise_model=noise_model).result().get_counts()\n",
    "\n",
    "print(counts)"
   ]
  },
  {
   "cell_type": "code",
   "execution_count": 7,
   "metadata": {
    "tags": [
     "sanity-check"
    ]
   },
   "outputs": [],
   "source": [
    "# ...number of samples that come out with a majority in the wrong state\n",
    "# (0 in this case) is again much less than 10,...\n",
    "assert counts.get('000', 0) < 10"
   ]
  },
  {
   "cell_type": "markdown",
   "metadata": {},
   "source": [
    "過半数が間違った状態(この場合は `0` )で出てくるサンプルの数は、10をはるかに下回るため、 $P<1\\%$ です。 `0` または `1` のどちらを格納する場合でも、どちらのノイズ源の発生率よりも低いエラー率で情報が取得できます。\n",
    "\n",
    "これは、想定したノイズが比較的弱いために可能でした。$p_{meas}$ と $p_{gate}$ を増やすと、$P$ の確率が高くなります。この極端な場合は、どちらかでビット反転エラー `x` が適用される可能性が$50/50$になることです。たとえば、$p_{meas}=0.5$ および $p_{gate}=0$ を使用して、以前と同じ回路を実行してみましょう。"
   ]
  },
  {
   "cell_type": "code",
   "execution_count": 8,
   "metadata": {},
   "outputs": [
    {
     "name": "stdout",
     "output_type": "stream",
     "text": [
      "{'100': 124, '001': 126, '110': 119, '101': 133, '010': 117, '000': 127, '011': 139, '111': 139}\n"
     ]
    }
   ],
   "source": [
    "noise_model = get_noise(0.5,0.0)\n",
    "counts = execute(qc1, Aer.get_backend('qasm_simulator'),noise_model=noise_model).result().get_counts()\n",
    "print(counts)"
   ]
  },
  {
   "cell_type": "code",
   "execution_count": 9,
   "metadata": {
    "tags": [
     "sanity-check"
    ]
   },
   "outputs": [],
   "source": [
    "# ...all outcomes occur with equal probability, with\n",
    "# differences in results being due only to statistical noise.\n",
    "assert max(counts.values()) < 200"
   ]
  },
  {
   "cell_type": "markdown",
   "metadata": {},
   "source": [
    "このノイズでは、すべての結果が同じ確率で発生し、、結果の違いは統計的ノイズのみによるものです。符号化された状態の原型は残りません。これはエラー訂正のために考慮すべき重要なポイントで、訂正するにはノイズが強すぎる場合があります。最適なアプローチは、必要な情報を符号化する適切な方法と、ノイズが強すぎないハードウェアを組み合わせることです。"
   ]
  },
  {
   "cell_type": "markdown",
   "metadata": {},
   "source": [
    "### 量子ビットの保存\n",
    "\n",
    "これまで、符号化と復号の間に遅延がない場合を検討してきました。量子ビットの場合、これは回路を初期化してから最終的な測定を行うまでに、大幅な時間差がないことを意味します。\n",
    "\n",
    "ただし、大幅な遅延が発生する場合が多く存在します。明らかな例として、量子ハードドライブのように、量子状態を符号化して長時間保存したい場合があります。非自明で重要な例として、エラー耐性量子計算自体を実行する場合があります。このためには、量子状態を保存し計算中にその整合性を維持する必要があります。エラー耐性量子計算は保存された情報を必要に応じて操作でき、かつ操作時に発生しうるどんなエラーも訂正できる方法でなければいけません。\n",
    "\n",
    "すべての場合において、エラーが生じるのは何か(ゲートや測定など)が発生したときだけでなく、量子ビットがアイドル状態のときにも発生するという事実を考慮する必要があります。このようなノイズが生じるのは、量子ビット同士が相互作用したり、環境と相互作用するためです。量子ビットのアイドル状態が長くなるほど、このノイズの影響は大きくなります。それらを十分に長く放置すると、上記の$p_{meas}=0.5$の場合のように、確実にエラー訂正するにはノイズが強すぎるという状況が発生します。\n",
    "\n",
    "解決策は、絶えず測定し続けることです。量子ビットを長時間アイドル状態にせず、発生したエラーを追跡するために情報を取得し続けてください。\n",
    "\n",
    "単に `0` または `1` を保存したい古典的な情報の場合、これは各量子ビットの値を絶えず測定することで実現できます。ノイズによって値がいつ変化するかを追跡することで、エラーが発生した履歴を簡単に推測できます。\n",
    "\n",
    "しかし量子情報の場合はこれほど簡単にはいきません。例えば、状態 $\\left|+\\right\\rangle$ を符号化したい場合を考えましょう。符号化は以下のルールで行われます。\n",
    "\n",
    "$$\\left|0\\right\\rangle \\rightarrow \\left|000\\right\\rangle, \\left|1\\right\\rangle \\rightarrow \\left|111\\right\\rangle.$$\n",
    "\n",
    "すなわち状態 $\\left|+\\right\\rangle$ を符号化するには以下が要請されます。\n",
    "\n",
    "$$\\left|+\\right\\rangle =\\frac{1}{\\sqrt{2}}\\left(\\left|0\\right\\rangle+\\left|1\\right\\rangle\\right)\\rightarrow\\frac{1}{\\sqrt{2}}\\left(\\left|000\\right\\rangle+\\left|111\\right\\rangle\\right).$$\n",
    "\n",
    "使用している反復符号化では、各物理量子ビットのz測定(状態 $\\left|0\\right\\rangle$ と $\\left|1\\right\\rangle$ とを区別する測定)を通して論理量子ビットのz測定が行われます。論理測定の最終結果は、どの出力が過半数かを単純に調べることにより、物理量子ビット測定結果から復号されます。\n",
    "\n",
    "前述のように、物理量子ビットのz測定を絶えず実行することで、長期間保存されている論理量子ビットのエラーを追跡できます。ただし、注意すべきはこれは実質的に物理量子ビットのz測定を絶えず実行することに対応するということです。これは単に `0` または `1` を保存する場合は問題ありませんが、重ね合わせを保存する場合は望ましくない影響があります。具体的には、このようなエラーの検証を初めて行うとき、重ね合わせを崩壊させてしまいます！\n",
    "\n",
    "これは理想的ではありません。論理量子ビットで何らかの計算を行いたい場合、または最終測定の前に基底の変更を行いたい場合、重ね合わせを保存する必要があります。重ね合わせを破壊してしまうことはすなわちエラーです。しかし、これはデバイスの欠陥によるエラーではありません。エラー訂正の試みによって導入されたエラーです。また、量子コンピューターに保存されている任意の重ね合わせを再作成することは望めないため、訂正できないエラーです。\n",
    "\n",
    "このため、論理量子ビットが長時間保存されたときに発生するエラーを追跡する別の方法を見つける必要があります。その方法が満たすべきは、エラーを検出して訂正し、最終的な測定結果を高確率で復号するために必要な情報を与えることです。ただし、保存すべき重ね合わせを破壊することで、処理中に訂正不可能なエラーを発生させてはいけません。\n",
    "\n",
    "これを行う方法は、次の回路のまとまりを使用することです。"
   ]
  },
  {
   "cell_type": "code",
   "execution_count": 10,
   "metadata": {},
   "outputs": [
    {
     "data": {
      "image/svg+xml": [
       "<?xml version=\"1.0\" encoding=\"UTF-8\"?><!DOCTYPE svg  PUBLIC '-//W3C//DTD SVG 1.1//EN'  'http://www.w3.org/Graphics/SVG/1.1/DTD/svg11.dtd'><svg width=\"308.77pt\" height=\"218.36pt\" version=\"1.1\" viewBox=\"0 0 308.77 218.36\" xmlns=\"http://www.w3.org/2000/svg\" xmlns:xlink=\"http://www.w3.org/1999/xlink\"><defs><style type=\"text/css\">*{stroke-linejoin: round; stroke-linecap: butt}</style></defs><path d=\"m0 218.36h308.77v-218.36h-308.77z\" fill=\"#ffffff\"/><path d=\"m264.95 172.8h12.052l-6.026 8.6914z\" clip-path=\"url(#p1f60cd54d5)\" fill=\"#778899\"/><path d=\"m153.23 44.283h143.7\" clip-path=\"url(#p1f60cd54d5)\" fill=\"none\" stroke=\"#000000\" stroke-linecap=\"square\" stroke-width=\"2\"/><path d=\"m153.23 90.637h143.7\" clip-path=\"url(#p1f60cd54d5)\" fill=\"none\" stroke=\"#000000\" stroke-linecap=\"square\" stroke-width=\"2\"/><path d=\"m153.23 136.99h143.7\" clip-path=\"url(#p1f60cd54d5)\" fill=\"none\" stroke=\"#000000\" stroke-linecap=\"square\" stroke-width=\"2\"/><path d=\"m153.23 181.84h143.7\" clip-path=\"url(#p1f60cd54d5)\" fill=\"none\" stroke=\"#778899\" stroke-linecap=\"square\" stroke-width=\"2\"/><path d=\"m153.23 184.85h143.7\" clip-path=\"url(#p1f60cd54d5)\" fill=\"none\" stroke=\"#778899\" stroke-linecap=\"square\" stroke-width=\"2\"/><path d=\"m162.5 187.98 4.6354-9.2708\" clip-path=\"url(#p1f60cd54d5)\" fill=\"none\" stroke=\"#778899\" stroke-linecap=\"square\"/><path d=\"m178.26 136.99v-92.708\" clip-path=\"url(#p1f60cd54d5)\" fill=\"none\" stroke=\"#1192e8\" stroke-linecap=\"square\" stroke-width=\"2\"/><path d=\"m224.62 136.99v-46.354\" clip-path=\"url(#p1f60cd54d5)\" fill=\"none\" stroke=\"#1192e8\" stroke-linecap=\"square\" stroke-width=\"2\"/><path d=\"m272.48 136.99v35.808\" clip-path=\"url(#p1f60cd54d5)\" fill=\"none\" stroke=\"#778899\" stroke-linecap=\"square\" stroke-width=\"2\"/><path d=\"m269.46 136.99v35.808\" clip-path=\"url(#p1f60cd54d5)\" fill=\"none\" stroke=\"#778899\" stroke-linecap=\"square\" stroke-width=\"2\"/><path d=\"m178.26 48.803c1.1986 0 2.3482-0.4762 3.1958-1.3237 0.84753-0.84753 1.3237-1.9972 1.3237-3.1958 0-1.1986-0.4762-2.3482-1.3237-3.1958-0.84753-0.84753-1.9972-1.3237-3.1958-1.3237-1.1986 0-2.3482 0.4762-3.1958 1.3237s-1.3237 1.9972-1.3237 3.1958c0 1.1986 0.4762 2.3482 1.3237 3.1958s1.9972 1.3237 3.1958 1.3237z\" clip-path=\"url(#p1f60cd54d5)\" fill=\"#1192e8\" stroke=\"#1192e8\" stroke-width=\"1.5\"/><path d=\"m178.26 147.54c2.7967 0 5.4792-1.1111 7.4568-3.0887 1.9776-1.9776 3.0887-4.6601 3.0887-7.4568 0-2.7967-1.1111-5.4792-3.0887-7.4568-1.9776-1.9776-4.6601-3.0887-7.4568-3.0887-2.7967 0-5.4792 1.1111-7.4568 3.0887-1.9776 1.9776-3.0887 4.6601-3.0887 7.4568 0 2.7967 1.1111 5.4792 3.0887 7.4568 1.9776 1.9776 4.6601 3.0887 7.4568 3.0887z\" clip-path=\"url(#p1f60cd54d5)\" fill=\"#1192e8\" stroke=\"#1192e8\" stroke-width=\"2\"/><path d=\"m224.62 95.157c1.1986 0 2.3482-0.4762 3.1958-1.3237 0.84753-0.84753 1.3237-1.9972 1.3237-3.1958s-0.4762-2.3482-1.3237-3.1958c-0.84753-0.84753-1.9972-1.3237-3.1958-1.3237s-2.3482 0.4762-3.1958 1.3237c-0.84753 0.84753-1.3237 1.9972-1.3237 3.1958s0.4762 2.3482 1.3237 3.1958c0.84753 0.84753 1.9972 1.3237 3.1958 1.3237z\" clip-path=\"url(#p1f60cd54d5)\" fill=\"#1192e8\" stroke=\"#1192e8\" stroke-width=\"1.5\"/><path d=\"m224.62 147.54c2.7967 0 5.4792-1.1111 7.4568-3.0887 1.9776-1.9776 3.0887-4.6601 3.0887-7.4568 0-2.7967-1.1111-5.4792-3.0887-7.4568-1.9776-1.9776-4.6601-3.0887-7.4568-3.0887-2.7967 0-5.4792 1.1111-7.4568 3.0887-1.9776 1.9776-3.0887 4.6601-3.0887 7.4568 0 2.7967 1.1111 5.4792 3.0887 7.4568 1.9776 1.9776 4.6601 3.0887 7.4568 3.0887z\" clip-path=\"url(#p1f60cd54d5)\" fill=\"#1192e8\" stroke=\"#1192e8\" stroke-width=\"2\"/><path d=\"m255.91 152.06h30.13v-30.13h-30.13z\" clip-path=\"url(#p1f60cd54d5)\" fill=\"#121619\" stroke=\"#121619\" stroke-width=\"1.5\"/><path d=\"m281.52 141.51c0-2.7958-1.1118-5.4799-3.0887-7.4568s-4.661-3.0887-7.4568-3.0887c-2.7958 0-5.4799 1.1118-7.4568 3.0887s-3.0887 4.661-3.0887 7.4568\" clip-path=\"url(#p1f60cd54d5)\" fill=\"none\" stroke=\"#ffffff\" stroke-width=\"2\"/><path d=\"m270.97 141.51 10.546-10.546\" clip-path=\"url(#p1f60cd54d5)\" fill=\"none\" stroke=\"#ffffff\" stroke-linecap=\"square\" stroke-width=\"2\"/><g clip-path=\"url(#p1f60cd54d5)\"><g transform=\"translate(47.111 48.508) scale(.1625 -.1625)\"><defs><path id=\"DejaVuSans-Oblique-63\" transform=\"scale(.015625)\" d=\"m3431 3366-115-569q-207 150-440 225-232 75-482 75-275 0-524-97-248-97-417-275-269-272-416-638-146-365-146-756 0-472 236-703t717-231q237 0 504 72 268 72 558 215l-109-568q-250-103-514-155t-542-52q-697 0-1072 348-375 349-375 996 0 544 195 1002t580 823q262 250 615 378 354 128 772 128 244 0 484-55 241-54 491-163z\"/><path id=\"DejaVuSans-Oblique-6f\" transform=\"scale(.015625)\" d=\"m1625-91q-616 0-974 380-357 380-357 1036 0 381 123 776 124 396 321 665 309 418 690 618t863 200q597 0 964-372 367-371 367-971 0-416-122-829-122-412-319-684-306-419-687-619t-869-200zm-734 1435q0-475 198-711 199-236 602-236 578 0 957 504 380 505 380 1280 0 453-203 684-203 232-597 232-325 0-578-152-253-151-453-461-147-231-227-528-79-297-79-612z\"/><path id=\"DejaVuSans-Oblique-64\" transform=\"scale(.015625)\" d=\"m2675 525q-231-303-547-460-315-156-700-156-525 0-830 358-304 358-304 980 0 519 184 989 185 470 535 842 231 247 521 376 291 130 610 130 337 0 595-163 258-162 399-465l375 1907h578l-947-4863h-578l109 525zm-1784 825q0-453 204-706 205-253 568-253 268 0 498 129 230 130 405 383 184 263 290 606 107 344 107 679 0 434-205 677-205 244-564 244-272 0-507-128-234-128-399-368-182-260-290-604-107-343-107-659z\"/><path id=\"DejaVuSans-Oblique-65\" transform=\"scale(.015625)\" d=\"m3078 2063q10 50 14 103 5 53 5 106 0 381-224 603-223 222-607 222-428 0-757-271-328-270-496-767l2065 4zm500-450h-2675q-19-119-25-188t-6-119q0-434 267-672 267-237 755-237 375 0 709 84 335 85 622 247l-109-569q-310-125-640-187-329-63-670-63-728 0-1120 348-392 349-392 990 0 547 195 1017t574 839q243 231 579 356t714 125q594 0 945-356 352-356 352-956 0-144-19-308-18-164-56-351z\"/><path id=\"DejaVuSans-5f\" transform=\"scale(.015625)\" d=\"m3263-1063v-446h-3326v446h3326z\"/><path id=\"DejaVuSans-Oblique-71\" transform=\"scale(.015625)\" d=\"m2669 525q-231-303-546-460-314-156-695-156-531 0-833 358-301 358-301 986 0 506 186 978t533 847q225 244 517 375t614 131q387 0 637-153t363-462l100 525h578l-934-4813h-579l360 1844zm-1778 813q0-463 193-705 194-242 560-242 544 0 928 520t384 1264q0 450-199 689-198 239-569 239-272 0-504-127-231-126-403-370-181-256-286-600-104-343-104-668z\"/><path id=\"DejaVuSans-Oblique-75\" transform=\"scale(.015625)\" d=\"m428 1388 410 2112h578l-410-2091q-31-153-45-262t-14-181q0-266 162-412 163-145 460-145 462 0 799 312 338 313 441 842l385 1937h575l-678-3500h-575l115 550q-243-306-579-474-336-167-714-167-460 0-716 252t-256 702q0 93 15 234 16 141 47 291z\"/><path id=\"DejaVuSans-Oblique-62\" transform=\"scale(.015625)\" d=\"m3169 2138q0 453-208 709t-573 256q-266 0-499-130-233-129-405-376-181-259-286-602-104-342-104-682 0-432 204-677 205-245 565-245 271 0 502 126 232 127 407 374 178 256 287 596 110 341 110 651zm-1788 831q213 287 533 451t670 164q538 0 855-363 317-362 317-980 0-507-186-982t-529-843q-225-244-519-376-294-131-616-131-340 0-590 156-250 157-407 466l-103-531h-575l947 4863h575l-372-1894z\"/><path id=\"DejaVuSans-Oblique-69\" transform=\"scale(.015625)\" d=\"m1172 4863h575l-141-729h-575l141 729zm-263-1363h575l-684-3500h-575l684 3500z\"/><path id=\"DejaVuSans-Oblique-74\" transform=\"scale(.015625)\" d=\"m2706 3500-87-447h-1147l-372-1900q-19-106-28-178t-9-112q0-200 120-291t386-91h581l-97-481h-550q-512 0-764 200-251 200-251 606 0 72 9 158t28 189l372 1900h-488l91 447h478l194 994h575l-191-994h1150z\"/><path id=\"DejaVuSans-30\" transform=\"scale(.015625)\" d=\"m2034 4250q-487 0-733-480-245-479-245-1442 0-959 245-1439 246-480 733-480 491 0 736 480 246 480 246 1439 0 963-246 1442-245 480-736 480zm0 500q785 0 1199-621 414-620 414-1801 0-1178-414-1799-414-620-1199-620-784 0-1198 620-414 621-414 1799 0 1181 414 1801 414 621 1198 621z\"/></defs><use transform=\"translate(0 .015625)\" xlink:href=\"#DejaVuSans-Oblique-63\"/><use transform=\"translate(54.98 .015625)\" xlink:href=\"#DejaVuSans-Oblique-6f\"/><use transform=\"translate(116.16 .015625)\" xlink:href=\"#DejaVuSans-Oblique-64\"/><use transform=\"translate(179.64 .015625)\" xlink:href=\"#DejaVuSans-Oblique-65\"/><use transform=\"translate(241.16 .015625)\" xlink:href=\"#DejaVuSans-5f\"/><use transform=\"translate(291.16 .015625)\" xlink:href=\"#DejaVuSans-Oblique-71\"/><use transform=\"translate(354.64 .015625)\" xlink:href=\"#DejaVuSans-Oblique-75\"/><use transform=\"translate(418.02 .015625)\" xlink:href=\"#DejaVuSans-Oblique-62\"/><use transform=\"translate(481.49 .015625)\" xlink:href=\"#DejaVuSans-Oblique-69\"/><use transform=\"translate(509.28 .015625)\" xlink:href=\"#DejaVuSans-Oblique-74\"/><use transform=\"translate(548.49 -16.391) scale(.7)\" xlink:href=\"#DejaVuSans-30\"/></g></g><g clip-path=\"url(#p1f60cd54d5)\"><g transform=\"translate(47.111 94.862) scale(.1625 -.1625)\"><defs><path id=\"DejaVuSans-31\" transform=\"scale(.015625)\" d=\"m794 531h1031v3560l-1122-225v575l1116 225h631v-4135h1031v-531h-2687v531z\"/></defs><use transform=\"translate(0 .015625)\" xlink:href=\"#DejaVuSans-Oblique-63\"/><use transform=\"translate(54.98 .015625)\" xlink:href=\"#DejaVuSans-Oblique-6f\"/><use transform=\"translate(116.16 .015625)\" xlink:href=\"#DejaVuSans-Oblique-64\"/><use transform=\"translate(179.64 .015625)\" xlink:href=\"#DejaVuSans-Oblique-65\"/><use transform=\"translate(241.16 .015625)\" xlink:href=\"#DejaVuSans-5f\"/><use transform=\"translate(291.16 .015625)\" xlink:href=\"#DejaVuSans-Oblique-71\"/><use transform=\"translate(354.64 .015625)\" xlink:href=\"#DejaVuSans-Oblique-75\"/><use transform=\"translate(418.02 .015625)\" xlink:href=\"#DejaVuSans-Oblique-62\"/><use transform=\"translate(481.49 .015625)\" xlink:href=\"#DejaVuSans-Oblique-69\"/><use transform=\"translate(509.28 .015625)\" xlink:href=\"#DejaVuSans-Oblique-74\"/><use transform=\"translate(548.49 -16.391) scale(.7)\" xlink:href=\"#DejaVuSans-31\"/></g></g><g clip-path=\"url(#p1f60cd54d5)\"><g transform=\"translate(41.261 141.22) scale(.1625 -.1625)\"><defs><path id=\"DejaVuSans-Oblique-61\" transform=\"scale(.015625)\" d=\"m3438 1997-391-1997h-575l106 531q-253-312-577-467-323-155-720-155-447 0-733 273-285 274-285 702 0 613 489 969t1348 356h800l31 154q7 25 10 54 3 30 3 92 0 279-227 433-226 155-636 155-281 0-577-72-295-72-607-216l100 532q325 122 636 182 311 61 601 61 619 0 942-269 324-268 324-781 0-103-16-242-15-139-46-295zm-622-238h-575q-707 0-1046-189t-339-586q0-275 173-431 174-156 480-156 469 0 819 336t463 898l25 128z\"/><path id=\"DejaVuSans-Oblique-6e\" transform=\"scale(.015625)\" d=\"m3566 2113-410-2113h-578l410 2091q28 147 43 259 16 113 16 178 0 263-166 409-165 147-462 147-463 0-797-308-334-307-438-835l-384-1941h-575l678 3500h575l-115-550q240 303 577 468 338 166 710 166 463 0 717-250 255-250 255-703 0-112-14-240t-42-278z\"/><path id=\"DejaVuSans-Oblique-6c\" transform=\"scale(.015625)\" d=\"m1172 4863h575l-947-4863h-575l947 4863z\"/></defs><use transform=\"translate(0 .015625)\" xlink:href=\"#DejaVuSans-Oblique-61\"/><use transform=\"translate(61.279 .015625)\" xlink:href=\"#DejaVuSans-Oblique-6e\"/><use transform=\"translate(124.66 .015625)\" xlink:href=\"#DejaVuSans-Oblique-63\"/><use transform=\"translate(179.64 .015625)\" xlink:href=\"#DejaVuSans-Oblique-69\"/><use transform=\"translate(207.42 .015625)\" xlink:href=\"#DejaVuSans-Oblique-6c\"/><use transform=\"translate(235.21 .015625)\" xlink:href=\"#DejaVuSans-Oblique-6c\"/><use transform=\"translate(262.99 .015625)\" xlink:href=\"#DejaVuSans-Oblique-61\"/><use transform=\"translate(324.27 .015625)\" xlink:href=\"#DejaVuSans-5f\"/><use transform=\"translate(374.27 .015625)\" xlink:href=\"#DejaVuSans-Oblique-71\"/><use transform=\"translate(437.74 .015625)\" xlink:href=\"#DejaVuSans-Oblique-75\"/><use transform=\"translate(501.12 .015625)\" xlink:href=\"#DejaVuSans-Oblique-62\"/><use transform=\"translate(564.6 .015625)\" xlink:href=\"#DejaVuSans-Oblique-69\"/><use transform=\"translate(592.38 .015625)\" xlink:href=\"#DejaVuSans-Oblique-74\"/></g></g><g clip-path=\"url(#p1f60cd54d5)\"><g transform=\"translate(157.87 176.55) scale(.104 -.104)\"><use xlink:href=\"#DejaVuSans-31\"/></g></g><g clip-path=\"url(#p1f60cd54d5)\"><g transform=\"translate(33.852 187.6) scale(.1625 -.1625)\"><defs><path id=\"DejaVuSans-73\" transform=\"scale(.015625)\" d=\"m2834 3397v-544q-243 125-506 187-262 63-544 63-428 0-642-131t-214-394q0-200 153-314t616-217l197-44q612-131 870-370t258-667q0-488-386-773-386-284-1061-284-281 0-586 55t-642 164v594q319-166 628-249 309-82 613-82 406 0 624 139 219 139 219 392 0 234-158 359-157 125-692 241l-200 47q-534 112-772 345-237 233-237 639 0 494 350 762 350 269 994 269 318 0 599-47 282-46 519-140z\"/><path id=\"DejaVuSans-79\" transform=\"scale(.015625)\" d=\"m2059-325q-243-625-475-815-231-191-618-191h-460v481h338q237 0 368 113 132 112 291 531l103 262-1415 3444h609l1094-2737 1094 2737h609l-1538-3825z\"/><path id=\"DejaVuSans-6e\" transform=\"scale(.015625)\" d=\"m3513 2113v-2113h-575v2094q0 497-194 743-194 247-581 247-466 0-735-297-269-296-269-809v-1978h-578v3500h578v-544q207 316 486 472 280 156 646 156 603 0 912-373 310-373 310-1098z\"/><path id=\"DejaVuSans-64\" transform=\"scale(.015625)\" d=\"m2906 2969v1894h575v-4863h-575v525q-181-312-458-464-276-152-664-152-634 0-1033 506-398 507-398 1332t398 1331q399 506 1033 506 388 0 664-152 277-151 458-463zm-1959-1222q0-634 261-995t717-361 718 361q263 361 263 995t-263 995q-262 361-718 361t-717-361-261-995z\"/><path id=\"DejaVuSans-72\" transform=\"scale(.015625)\" d=\"m2631 2963q-97 56-211 82-114 27-251 27-488 0-749-317t-261-911v-1844h-578v3500h578v-544q182 319 472 473 291 155 707 155 59 0 131-8 72-7 159-23l3-590z\"/><path id=\"DejaVuSans-6f\" transform=\"scale(.015625)\" d=\"m1959 3097q-462 0-731-361t-269-989 267-989q268-361 733-361 460 0 728 362 269 363 269 988 0 622-269 986-268 364-728 364zm0 487q750 0 1178-488 429-487 429-1349 0-859-429-1349-428-489-1178-489-753 0-1180 489-426 490-426 1349 0 862 426 1349 427 488 1180 488z\"/><path id=\"DejaVuSans-6d\" transform=\"scale(.015625)\" d=\"m3328 2828q216 388 516 572t706 184q547 0 844-383 297-382 297-1088v-2113h-578v2094q0 503-179 746-178 244-543 244-447 0-707-297-259-296-259-809v-1978h-578v2094q0 506-178 748t-550 242q-441 0-701-298-259-298-259-808v-1978h-578v3500h578v-544q197 322 472 475t653 153q382 0 649-194 267-193 395-562z\"/><path id=\"DejaVuSans-65\" transform=\"scale(.015625)\" d=\"m3597 1894v-281h-2644q38-594 358-905t892-311q331 0 642 81t618 244v-544q-310-131-635-200t-659-69q-838 0-1327 487-489 488-489 1320 0 859 464 1363 464 505 1252 505 706 0 1117-455 411-454 411-1235zm-575 169q-6 471-264 752-258 282-683 282-481 0-770-272t-333-766l2050 4z\"/><path id=\"DejaVuSans-62\" transform=\"scale(.015625)\" d=\"m3116 1747q0 634-261 995t-717 361q-457 0-718-361t-261-995 261-995 718-361q456 0 717 361t261 995zm-1957 1222q182 312 458 463 277 152 661 152 638 0 1036-506 399-506 399-1331t-399-1332q-398-506-1036-506-384 0-661 152-276 152-458 464v-525h-578v4863h578v-1894z\"/><path id=\"DejaVuSans-69\" transform=\"scale(.015625)\" d=\"m603 3500h575v-3500h-575v3500zm0 1363h575v-729h-575v729z\"/><path id=\"DejaVuSans-74\" transform=\"scale(.015625)\" d=\"m1172 4494v-994h1184v-447h-1184v-1900q0-428 117-550t477-122h590v-481h-590q-666 0-919 248-253 249-253 905v1900h-422v447h422v994h578z\"/></defs><use xlink:href=\"#DejaVuSans-73\"/><use x=\"52.099609\" xlink:href=\"#DejaVuSans-79\"/><use x=\"111.279297\" xlink:href=\"#DejaVuSans-6e\"/><use x=\"174.658203\" xlink:href=\"#DejaVuSans-64\"/><use x=\"238.134766\" xlink:href=\"#DejaVuSans-72\"/><use x=\"276.998047\" xlink:href=\"#DejaVuSans-6f\"/><use x=\"338.179688\" xlink:href=\"#DejaVuSans-6d\"/><use x=\"435.591797\" xlink:href=\"#DejaVuSans-65\"/><use x=\"497.115234\" xlink:href=\"#DejaVuSans-5f\"/><use x=\"547.115234\" xlink:href=\"#DejaVuSans-62\"/><use x=\"610.591797\" xlink:href=\"#DejaVuSans-69\"/><use x=\"638.375\" xlink:href=\"#DejaVuSans-74\"/></g></g><path d=\"m178.26 143.02v-12.052\" clip-path=\"url(#p1f60cd54d5)\" fill=\"none\" stroke=\"#ffffff\" stroke-linecap=\"square\" stroke-width=\"2\"/><path d=\"m172.24 136.99h12.052\" clip-path=\"url(#p1f60cd54d5)\" fill=\"none\" stroke=\"#ffffff\" stroke-linecap=\"square\" stroke-width=\"2\"/><path d=\"m224.62 143.02v-12.052\" clip-path=\"url(#p1f60cd54d5)\" fill=\"none\" stroke=\"#ffffff\" stroke-linecap=\"square\" stroke-width=\"2\"/><path d=\"m218.59 136.99h12.052\" clip-path=\"url(#p1f60cd54d5)\" fill=\"none\" stroke=\"#ffffff\" stroke-linecap=\"square\" stroke-width=\"2\"/><g clip-path=\"url(#p1f60cd54d5)\"><g transform=\"translate(282.56 176.55) scale(.104 -.104)\"><use xlink:href=\"#DejaVuSans-30\"/></g></g><defs><clipPath id=\"p1f60cd54d5\"><rect x=\"7.2\" y=\"7.2\" width=\"294.37\" height=\"203.96\"/></clipPath></defs></svg>"
      ],
      "text/plain": [
       "<Figure size 530.961x367.889 with 1 Axes>"
      ]
     },
     "execution_count": 10,
     "metadata": {},
     "output_type": "execute_result"
    }
   ],
   "source": [
    "from qiskit import QuantumRegister, ClassicalRegister\n",
    "\n",
    "cq = QuantumRegister(2, 'code_qubit')\n",
    "lq = QuantumRegister(1, 'ancilla_qubit')\n",
    "sb = ClassicalRegister(1, 'syndrome_bit')\n",
    "qc = QuantumCircuit(cq, lq, sb)\n",
    "qc.cx(cq[0], lq[0])\n",
    "qc.cx(cq[1], lq[0])\n",
    "qc.measure(lq, sb)\n",
    "qc.draw()"
   ]
  },
  {
   "cell_type": "markdown",
   "metadata": {},
   "source": [
    "ここには3つの物理量子ビットがあります。そのうち2つは「符号(code)量子ビット」と呼ばれ、もう1つは「補助(ancilla)量子ビット」と呼ばれます。出力の１ビットが抽出され、それはシンドローム(syndrome)ビットと呼ばれます。補助量子ビットは常に状態 $\\left|0\\right\\rangle$ で初期化されます。ただし、符号量子ビットはさまざまな状態で初期化できます。入力が変わったときに出力に与える影響を確認するため、特定の状態の符号量子ビットを準備する回路 `qc_init` を作成してから、回路 `qc_init+qc` を実行します。\n",
    "\n",
    "まず、自明なケースとして `qc_init` は何もせず、符号量子ビットは最初から $\\left|00\\right\\rangle$ であるケースがあります。"
   ]
  },
  {
   "cell_type": "code",
   "execution_count": 11,
   "metadata": {},
   "outputs": [
    {
     "data": {
      "image/svg+xml": [
       "<?xml version=\"1.0\" encoding=\"UTF-8\"?><!DOCTYPE svg  PUBLIC '-//W3C//DTD SVG 1.1//EN'  'http://www.w3.org/Graphics/SVG/1.1/DTD/svg11.dtd'><svg width=\"308.77pt\" height=\"218.36pt\" version=\"1.1\" viewBox=\"0 0 308.77 218.36\" xmlns=\"http://www.w3.org/2000/svg\" xmlns:xlink=\"http://www.w3.org/1999/xlink\"><defs><style type=\"text/css\">*{stroke-linejoin: round; stroke-linecap: butt}</style></defs><path d=\"m0 218.36h308.77v-218.36h-308.77z\" fill=\"#ffffff\"/><path d=\"m264.95 172.8h12.052l-6.026 8.6914z\" clip-path=\"url(#p859af63ede)\" fill=\"#778899\"/><path d=\"m153.23 44.283h143.7\" clip-path=\"url(#p859af63ede)\" fill=\"none\" stroke=\"#000000\" stroke-linecap=\"square\" stroke-width=\"2\"/><path d=\"m153.23 90.637h143.7\" clip-path=\"url(#p859af63ede)\" fill=\"none\" stroke=\"#000000\" stroke-linecap=\"square\" stroke-width=\"2\"/><path d=\"m153.23 136.99h143.7\" clip-path=\"url(#p859af63ede)\" fill=\"none\" stroke=\"#000000\" stroke-linecap=\"square\" stroke-width=\"2\"/><path d=\"m153.23 181.84h143.7\" clip-path=\"url(#p859af63ede)\" fill=\"none\" stroke=\"#778899\" stroke-linecap=\"square\" stroke-width=\"2\"/><path d=\"m153.23 184.85h143.7\" clip-path=\"url(#p859af63ede)\" fill=\"none\" stroke=\"#778899\" stroke-linecap=\"square\" stroke-width=\"2\"/><path d=\"m162.5 187.98 4.6354-9.2708\" clip-path=\"url(#p859af63ede)\" fill=\"none\" stroke=\"#778899\" stroke-linecap=\"square\"/><path d=\"m178.26 136.99v-92.708\" clip-path=\"url(#p859af63ede)\" fill=\"none\" stroke=\"#1192e8\" stroke-linecap=\"square\" stroke-width=\"2\"/><path d=\"m224.62 136.99v-46.354\" clip-path=\"url(#p859af63ede)\" fill=\"none\" stroke=\"#1192e8\" stroke-linecap=\"square\" stroke-width=\"2\"/><path d=\"m272.48 136.99v35.808\" clip-path=\"url(#p859af63ede)\" fill=\"none\" stroke=\"#778899\" stroke-linecap=\"square\" stroke-width=\"2\"/><path d=\"m269.46 136.99v35.808\" clip-path=\"url(#p859af63ede)\" fill=\"none\" stroke=\"#778899\" stroke-linecap=\"square\" stroke-width=\"2\"/><path d=\"m178.26 48.803c1.1986 0 2.3482-0.4762 3.1958-1.3237 0.84753-0.84753 1.3237-1.9972 1.3237-3.1958 0-1.1986-0.4762-2.3482-1.3237-3.1958-0.84753-0.84753-1.9972-1.3237-3.1958-1.3237-1.1986 0-2.3482 0.4762-3.1958 1.3237s-1.3237 1.9972-1.3237 3.1958c0 1.1986 0.4762 2.3482 1.3237 3.1958s1.9972 1.3237 3.1958 1.3237z\" clip-path=\"url(#p859af63ede)\" fill=\"#1192e8\" stroke=\"#1192e8\" stroke-width=\"1.5\"/><path d=\"m178.26 147.54c2.7967 0 5.4792-1.1111 7.4568-3.0887 1.9776-1.9776 3.0887-4.6601 3.0887-7.4568 0-2.7967-1.1111-5.4792-3.0887-7.4568-1.9776-1.9776-4.6601-3.0887-7.4568-3.0887-2.7967 0-5.4792 1.1111-7.4568 3.0887-1.9776 1.9776-3.0887 4.6601-3.0887 7.4568 0 2.7967 1.1111 5.4792 3.0887 7.4568 1.9776 1.9776 4.6601 3.0887 7.4568 3.0887z\" clip-path=\"url(#p859af63ede)\" fill=\"#1192e8\" stroke=\"#1192e8\" stroke-width=\"2\"/><path d=\"m224.62 95.157c1.1986 0 2.3482-0.4762 3.1958-1.3237 0.84753-0.84753 1.3237-1.9972 1.3237-3.1958s-0.4762-2.3482-1.3237-3.1958c-0.84753-0.84753-1.9972-1.3237-3.1958-1.3237s-2.3482 0.4762-3.1958 1.3237c-0.84753 0.84753-1.3237 1.9972-1.3237 3.1958s0.4762 2.3482 1.3237 3.1958c0.84753 0.84753 1.9972 1.3237 3.1958 1.3237z\" clip-path=\"url(#p859af63ede)\" fill=\"#1192e8\" stroke=\"#1192e8\" stroke-width=\"1.5\"/><path d=\"m224.62 147.54c2.7967 0 5.4792-1.1111 7.4568-3.0887 1.9776-1.9776 3.0887-4.6601 3.0887-7.4568 0-2.7967-1.1111-5.4792-3.0887-7.4568-1.9776-1.9776-4.6601-3.0887-7.4568-3.0887-2.7967 0-5.4792 1.1111-7.4568 3.0887-1.9776 1.9776-3.0887 4.6601-3.0887 7.4568 0 2.7967 1.1111 5.4792 3.0887 7.4568 1.9776 1.9776 4.6601 3.0887 7.4568 3.0887z\" clip-path=\"url(#p859af63ede)\" fill=\"#1192e8\" stroke=\"#1192e8\" stroke-width=\"2\"/><path d=\"m255.91 152.06h30.13v-30.13h-30.13z\" clip-path=\"url(#p859af63ede)\" fill=\"#121619\" stroke=\"#121619\" stroke-width=\"1.5\"/><path d=\"m281.52 141.51c0-2.7958-1.1118-5.4799-3.0887-7.4568s-4.661-3.0887-7.4568-3.0887c-2.7958 0-5.4799 1.1118-7.4568 3.0887s-3.0887 4.661-3.0887 7.4568\" clip-path=\"url(#p859af63ede)\" fill=\"none\" stroke=\"#ffffff\" stroke-width=\"2\"/><path d=\"m270.97 141.51 10.546-10.546\" clip-path=\"url(#p859af63ede)\" fill=\"none\" stroke=\"#ffffff\" stroke-linecap=\"square\" stroke-width=\"2\"/><g clip-path=\"url(#p859af63ede)\"><g transform=\"translate(47.111 48.508) scale(.1625 -.1625)\"><defs><path id=\"DejaVuSans-Oblique-63\" transform=\"scale(.015625)\" d=\"m3431 3366-115-569q-207 150-440 225-232 75-482 75-275 0-524-97-248-97-417-275-269-272-416-638-146-365-146-756 0-472 236-703t717-231q237 0 504 72 268 72 558 215l-109-568q-250-103-514-155t-542-52q-697 0-1072 348-375 349-375 996 0 544 195 1002t580 823q262 250 615 378 354 128 772 128 244 0 484-55 241-54 491-163z\"/><path id=\"DejaVuSans-Oblique-6f\" transform=\"scale(.015625)\" d=\"m1625-91q-616 0-974 380-357 380-357 1036 0 381 123 776 124 396 321 665 309 418 690 618t863 200q597 0 964-372 367-371 367-971 0-416-122-829-122-412-319-684-306-419-687-619t-869-200zm-734 1435q0-475 198-711 199-236 602-236 578 0 957 504 380 505 380 1280 0 453-203 684-203 232-597 232-325 0-578-152-253-151-453-461-147-231-227-528-79-297-79-612z\"/><path id=\"DejaVuSans-Oblique-64\" transform=\"scale(.015625)\" d=\"m2675 525q-231-303-547-460-315-156-700-156-525 0-830 358-304 358-304 980 0 519 184 989 185 470 535 842 231 247 521 376 291 130 610 130 337 0 595-163 258-162 399-465l375 1907h578l-947-4863h-578l109 525zm-1784 825q0-453 204-706 205-253 568-253 268 0 498 129 230 130 405 383 184 263 290 606 107 344 107 679 0 434-205 677-205 244-564 244-272 0-507-128-234-128-399-368-182-260-290-604-107-343-107-659z\"/><path id=\"DejaVuSans-Oblique-65\" transform=\"scale(.015625)\" d=\"m3078 2063q10 50 14 103 5 53 5 106 0 381-224 603-223 222-607 222-428 0-757-271-328-270-496-767l2065 4zm500-450h-2675q-19-119-25-188t-6-119q0-434 267-672 267-237 755-237 375 0 709 84 335 85 622 247l-109-569q-310-125-640-187-329-63-670-63-728 0-1120 348-392 349-392 990 0 547 195 1017t574 839q243 231 579 356t714 125q594 0 945-356 352-356 352-956 0-144-19-308-18-164-56-351z\"/><path id=\"DejaVuSans-5f\" transform=\"scale(.015625)\" d=\"m3263-1063v-446h-3326v446h3326z\"/><path id=\"DejaVuSans-Oblique-71\" transform=\"scale(.015625)\" d=\"m2669 525q-231-303-546-460-314-156-695-156-531 0-833 358-301 358-301 986 0 506 186 978t533 847q225 244 517 375t614 131q387 0 637-153t363-462l100 525h578l-934-4813h-579l360 1844zm-1778 813q0-463 193-705 194-242 560-242 544 0 928 520t384 1264q0 450-199 689-198 239-569 239-272 0-504-127-231-126-403-370-181-256-286-600-104-343-104-668z\"/><path id=\"DejaVuSans-Oblique-75\" transform=\"scale(.015625)\" d=\"m428 1388 410 2112h578l-410-2091q-31-153-45-262t-14-181q0-266 162-412 163-145 460-145 462 0 799 312 338 313 441 842l385 1937h575l-678-3500h-575l115 550q-243-306-579-474-336-167-714-167-460 0-716 252t-256 702q0 93 15 234 16 141 47 291z\"/><path id=\"DejaVuSans-Oblique-62\" transform=\"scale(.015625)\" d=\"m3169 2138q0 453-208 709t-573 256q-266 0-499-130-233-129-405-376-181-259-286-602-104-342-104-682 0-432 204-677 205-245 565-245 271 0 502 126 232 127 407 374 178 256 287 596 110 341 110 651zm-1788 831q213 287 533 451t670 164q538 0 855-363 317-362 317-980 0-507-186-982t-529-843q-225-244-519-376-294-131-616-131-340 0-590 156-250 157-407 466l-103-531h-575l947 4863h575l-372-1894z\"/><path id=\"DejaVuSans-Oblique-69\" transform=\"scale(.015625)\" d=\"m1172 4863h575l-141-729h-575l141 729zm-263-1363h575l-684-3500h-575l684 3500z\"/><path id=\"DejaVuSans-Oblique-74\" transform=\"scale(.015625)\" d=\"m2706 3500-87-447h-1147l-372-1900q-19-106-28-178t-9-112q0-200 120-291t386-91h581l-97-481h-550q-512 0-764 200-251 200-251 606 0 72 9 158t28 189l372 1900h-488l91 447h478l194 994h575l-191-994h1150z\"/><path id=\"DejaVuSans-30\" transform=\"scale(.015625)\" d=\"m2034 4250q-487 0-733-480-245-479-245-1442 0-959 245-1439 246-480 733-480 491 0 736 480 246 480 246 1439 0 963-246 1442-245 480-736 480zm0 500q785 0 1199-621 414-620 414-1801 0-1178-414-1799-414-620-1199-620-784 0-1198 620-414 621-414 1799 0 1181 414 1801 414 621 1198 621z\"/></defs><use transform=\"translate(0 .015625)\" xlink:href=\"#DejaVuSans-Oblique-63\"/><use transform=\"translate(54.98 .015625)\" xlink:href=\"#DejaVuSans-Oblique-6f\"/><use transform=\"translate(116.16 .015625)\" xlink:href=\"#DejaVuSans-Oblique-64\"/><use transform=\"translate(179.64 .015625)\" xlink:href=\"#DejaVuSans-Oblique-65\"/><use transform=\"translate(241.16 .015625)\" xlink:href=\"#DejaVuSans-5f\"/><use transform=\"translate(291.16 .015625)\" xlink:href=\"#DejaVuSans-Oblique-71\"/><use transform=\"translate(354.64 .015625)\" xlink:href=\"#DejaVuSans-Oblique-75\"/><use transform=\"translate(418.02 .015625)\" xlink:href=\"#DejaVuSans-Oblique-62\"/><use transform=\"translate(481.49 .015625)\" xlink:href=\"#DejaVuSans-Oblique-69\"/><use transform=\"translate(509.28 .015625)\" xlink:href=\"#DejaVuSans-Oblique-74\"/><use transform=\"translate(548.49 -16.391) scale(.7)\" xlink:href=\"#DejaVuSans-30\"/></g></g><g clip-path=\"url(#p859af63ede)\"><g transform=\"translate(47.111 94.862) scale(.1625 -.1625)\"><defs><path id=\"DejaVuSans-31\" transform=\"scale(.015625)\" d=\"m794 531h1031v3560l-1122-225v575l1116 225h631v-4135h1031v-531h-2687v531z\"/></defs><use transform=\"translate(0 .015625)\" xlink:href=\"#DejaVuSans-Oblique-63\"/><use transform=\"translate(54.98 .015625)\" xlink:href=\"#DejaVuSans-Oblique-6f\"/><use transform=\"translate(116.16 .015625)\" xlink:href=\"#DejaVuSans-Oblique-64\"/><use transform=\"translate(179.64 .015625)\" xlink:href=\"#DejaVuSans-Oblique-65\"/><use transform=\"translate(241.16 .015625)\" xlink:href=\"#DejaVuSans-5f\"/><use transform=\"translate(291.16 .015625)\" xlink:href=\"#DejaVuSans-Oblique-71\"/><use transform=\"translate(354.64 .015625)\" xlink:href=\"#DejaVuSans-Oblique-75\"/><use transform=\"translate(418.02 .015625)\" xlink:href=\"#DejaVuSans-Oblique-62\"/><use transform=\"translate(481.49 .015625)\" xlink:href=\"#DejaVuSans-Oblique-69\"/><use transform=\"translate(509.28 .015625)\" xlink:href=\"#DejaVuSans-Oblique-74\"/><use transform=\"translate(548.49 -16.391) scale(.7)\" xlink:href=\"#DejaVuSans-31\"/></g></g><g clip-path=\"url(#p859af63ede)\"><g transform=\"translate(41.261 141.22) scale(.1625 -.1625)\"><defs><path id=\"DejaVuSans-Oblique-61\" transform=\"scale(.015625)\" d=\"m3438 1997-391-1997h-575l106 531q-253-312-577-467-323-155-720-155-447 0-733 273-285 274-285 702 0 613 489 969t1348 356h800l31 154q7 25 10 54 3 30 3 92 0 279-227 433-226 155-636 155-281 0-577-72-295-72-607-216l100 532q325 122 636 182 311 61 601 61 619 0 942-269 324-268 324-781 0-103-16-242-15-139-46-295zm-622-238h-575q-707 0-1046-189t-339-586q0-275 173-431 174-156 480-156 469 0 819 336t463 898l25 128z\"/><path id=\"DejaVuSans-Oblique-6e\" transform=\"scale(.015625)\" d=\"m3566 2113-410-2113h-578l410 2091q28 147 43 259 16 113 16 178 0 263-166 409-165 147-462 147-463 0-797-308-334-307-438-835l-384-1941h-575l678 3500h575l-115-550q240 303 577 468 338 166 710 166 463 0 717-250 255-250 255-703 0-112-14-240t-42-278z\"/><path id=\"DejaVuSans-Oblique-6c\" transform=\"scale(.015625)\" d=\"m1172 4863h575l-947-4863h-575l947 4863z\"/></defs><use transform=\"translate(0 .015625)\" xlink:href=\"#DejaVuSans-Oblique-61\"/><use transform=\"translate(61.279 .015625)\" xlink:href=\"#DejaVuSans-Oblique-6e\"/><use transform=\"translate(124.66 .015625)\" xlink:href=\"#DejaVuSans-Oblique-63\"/><use transform=\"translate(179.64 .015625)\" xlink:href=\"#DejaVuSans-Oblique-69\"/><use transform=\"translate(207.42 .015625)\" xlink:href=\"#DejaVuSans-Oblique-6c\"/><use transform=\"translate(235.21 .015625)\" xlink:href=\"#DejaVuSans-Oblique-6c\"/><use transform=\"translate(262.99 .015625)\" xlink:href=\"#DejaVuSans-Oblique-61\"/><use transform=\"translate(324.27 .015625)\" xlink:href=\"#DejaVuSans-5f\"/><use transform=\"translate(374.27 .015625)\" xlink:href=\"#DejaVuSans-Oblique-71\"/><use transform=\"translate(437.74 .015625)\" xlink:href=\"#DejaVuSans-Oblique-75\"/><use transform=\"translate(501.12 .015625)\" xlink:href=\"#DejaVuSans-Oblique-62\"/><use transform=\"translate(564.6 .015625)\" xlink:href=\"#DejaVuSans-Oblique-69\"/><use transform=\"translate(592.38 .015625)\" xlink:href=\"#DejaVuSans-Oblique-74\"/></g></g><g clip-path=\"url(#p859af63ede)\"><g transform=\"translate(157.87 176.55) scale(.104 -.104)\"><use xlink:href=\"#DejaVuSans-31\"/></g></g><g clip-path=\"url(#p859af63ede)\"><g transform=\"translate(33.852 187.6) scale(.1625 -.1625)\"><defs><path id=\"DejaVuSans-73\" transform=\"scale(.015625)\" d=\"m2834 3397v-544q-243 125-506 187-262 63-544 63-428 0-642-131t-214-394q0-200 153-314t616-217l197-44q612-131 870-370t258-667q0-488-386-773-386-284-1061-284-281 0-586 55t-642 164v594q319-166 628-249 309-82 613-82 406 0 624 139 219 139 219 392 0 234-158 359-157 125-692 241l-200 47q-534 112-772 345-237 233-237 639 0 494 350 762 350 269 994 269 318 0 599-47 282-46 519-140z\"/><path id=\"DejaVuSans-79\" transform=\"scale(.015625)\" d=\"m2059-325q-243-625-475-815-231-191-618-191h-460v481h338q237 0 368 113 132 112 291 531l103 262-1415 3444h609l1094-2737 1094 2737h609l-1538-3825z\"/><path id=\"DejaVuSans-6e\" transform=\"scale(.015625)\" d=\"m3513 2113v-2113h-575v2094q0 497-194 743-194 247-581 247-466 0-735-297-269-296-269-809v-1978h-578v3500h578v-544q207 316 486 472 280 156 646 156 603 0 912-373 310-373 310-1098z\"/><path id=\"DejaVuSans-64\" transform=\"scale(.015625)\" d=\"m2906 2969v1894h575v-4863h-575v525q-181-312-458-464-276-152-664-152-634 0-1033 506-398 507-398 1332t398 1331q399 506 1033 506 388 0 664-152 277-151 458-463zm-1959-1222q0-634 261-995t717-361 718 361q263 361 263 995t-263 995q-262 361-718 361t-717-361-261-995z\"/><path id=\"DejaVuSans-72\" transform=\"scale(.015625)\" d=\"m2631 2963q-97 56-211 82-114 27-251 27-488 0-749-317t-261-911v-1844h-578v3500h578v-544q182 319 472 473 291 155 707 155 59 0 131-8 72-7 159-23l3-590z\"/><path id=\"DejaVuSans-6f\" transform=\"scale(.015625)\" d=\"m1959 3097q-462 0-731-361t-269-989 267-989q268-361 733-361 460 0 728 362 269 363 269 988 0 622-269 986-268 364-728 364zm0 487q750 0 1178-488 429-487 429-1349 0-859-429-1349-428-489-1178-489-753 0-1180 489-426 490-426 1349 0 862 426 1349 427 488 1180 488z\"/><path id=\"DejaVuSans-6d\" transform=\"scale(.015625)\" d=\"m3328 2828q216 388 516 572t706 184q547 0 844-383 297-382 297-1088v-2113h-578v2094q0 503-179 746-178 244-543 244-447 0-707-297-259-296-259-809v-1978h-578v2094q0 506-178 748t-550 242q-441 0-701-298-259-298-259-808v-1978h-578v3500h578v-544q197 322 472 475t653 153q382 0 649-194 267-193 395-562z\"/><path id=\"DejaVuSans-65\" transform=\"scale(.015625)\" d=\"m3597 1894v-281h-2644q38-594 358-905t892-311q331 0 642 81t618 244v-544q-310-131-635-200t-659-69q-838 0-1327 487-489 488-489 1320 0 859 464 1363 464 505 1252 505 706 0 1117-455 411-454 411-1235zm-575 169q-6 471-264 752-258 282-683 282-481 0-770-272t-333-766l2050 4z\"/><path id=\"DejaVuSans-62\" transform=\"scale(.015625)\" d=\"m3116 1747q0 634-261 995t-717 361q-457 0-718-361t-261-995 261-995 718-361q456 0 717 361t261 995zm-1957 1222q182 312 458 463 277 152 661 152 638 0 1036-506 399-506 399-1331t-399-1332q-398-506-1036-506-384 0-661 152-276 152-458 464v-525h-578v4863h578v-1894z\"/><path id=\"DejaVuSans-69\" transform=\"scale(.015625)\" d=\"m603 3500h575v-3500h-575v3500zm0 1363h575v-729h-575v729z\"/><path id=\"DejaVuSans-74\" transform=\"scale(.015625)\" d=\"m1172 4494v-994h1184v-447h-1184v-1900q0-428 117-550t477-122h590v-481h-590q-666 0-919 248-253 249-253 905v1900h-422v447h422v994h578z\"/></defs><use xlink:href=\"#DejaVuSans-73\"/><use x=\"52.099609\" xlink:href=\"#DejaVuSans-79\"/><use x=\"111.279297\" xlink:href=\"#DejaVuSans-6e\"/><use x=\"174.658203\" xlink:href=\"#DejaVuSans-64\"/><use x=\"238.134766\" xlink:href=\"#DejaVuSans-72\"/><use x=\"276.998047\" xlink:href=\"#DejaVuSans-6f\"/><use x=\"338.179688\" xlink:href=\"#DejaVuSans-6d\"/><use x=\"435.591797\" xlink:href=\"#DejaVuSans-65\"/><use x=\"497.115234\" xlink:href=\"#DejaVuSans-5f\"/><use x=\"547.115234\" xlink:href=\"#DejaVuSans-62\"/><use x=\"610.591797\" xlink:href=\"#DejaVuSans-69\"/><use x=\"638.375\" xlink:href=\"#DejaVuSans-74\"/></g></g><path d=\"m178.26 143.02v-12.052\" clip-path=\"url(#p859af63ede)\" fill=\"none\" stroke=\"#ffffff\" stroke-linecap=\"square\" stroke-width=\"2\"/><path d=\"m172.24 136.99h12.052\" clip-path=\"url(#p859af63ede)\" fill=\"none\" stroke=\"#ffffff\" stroke-linecap=\"square\" stroke-width=\"2\"/><path d=\"m224.62 143.02v-12.052\" clip-path=\"url(#p859af63ede)\" fill=\"none\" stroke=\"#ffffff\" stroke-linecap=\"square\" stroke-width=\"2\"/><path d=\"m218.59 136.99h12.052\" clip-path=\"url(#p859af63ede)\" fill=\"none\" stroke=\"#ffffff\" stroke-linecap=\"square\" stroke-width=\"2\"/><g clip-path=\"url(#p859af63ede)\"><g transform=\"translate(282.56 176.55) scale(.104 -.104)\"><use xlink:href=\"#DejaVuSans-30\"/></g></g><defs><clipPath id=\"p859af63ede\"><rect x=\"7.2\" y=\"7.2\" width=\"294.37\" height=\"203.96\"/></clipPath></defs></svg>"
      ],
      "text/plain": [
       "<Figure size 530.961x367.889 with 1 Axes>"
      ]
     },
     "execution_count": 11,
     "metadata": {},
     "output_type": "execute_result"
    }
   ],
   "source": [
    "qc_init = QuantumCircuit(cq, lq, sb)\n",
    "\n",
    "qc_init.compose(qc).draw()"
   ]
  },
  {
   "cell_type": "code",
   "execution_count": 12,
   "metadata": {},
   "outputs": [
    {
     "name": "stdout",
     "output_type": "stream",
     "text": [
      "Results: {'0': 1024}\n"
     ]
    }
   ],
   "source": [
    "counts = execute(qc_init.compose(qc), Aer.get_backend('qasm_simulator')).result().get_counts()\n",
    "print('Results:', counts)"
   ]
  },
  {
   "cell_type": "code",
   "execution_count": 13,
   "metadata": {
    "tags": [
     "sanity-check"
    ]
   },
   "outputs": [],
   "source": [
    "# The outcome, in all cases, is 0.\n",
    "assert list(counts.keys()) == ['0']"
   ]
  },
  {
   "cell_type": "markdown",
   "metadata": {},
   "source": [
    "結果は、どの場合でも `0` です。\n",
    "\n",
    "それでは、初期状態が $\\left|11\\right\\rangle$ であるケースを試してみましょう。"
   ]
  },
  {
   "cell_type": "code",
   "execution_count": 14,
   "metadata": {},
   "outputs": [
    {
     "data": {
      "image/svg+xml": [
       "<?xml version=\"1.0\" encoding=\"UTF-8\"?><!DOCTYPE svg  PUBLIC '-//W3C//DTD SVG 1.1//EN'  'http://www.w3.org/Graphics/SVG/1.1/DTD/svg11.dtd'><svg width=\"355.12pt\" height=\"218.36pt\" version=\"1.1\" viewBox=\"0 0 355.12 218.36\" xmlns=\"http://www.w3.org/2000/svg\" xmlns:xlink=\"http://www.w3.org/1999/xlink\"><defs><style type=\"text/css\">*{stroke-linejoin: round; stroke-linecap: butt}</style></defs><path d=\"m0 218.36h355.12v-218.36h-355.12z\" fill=\"#ffffff\"/><path d=\"m311.3 172.8h12.052l-6.026 8.6914z\" clip-path=\"url(#pab9884f212)\" fill=\"#778899\"/><path d=\"m153.23 44.283h190.05\" clip-path=\"url(#pab9884f212)\" fill=\"none\" stroke=\"#000000\" stroke-linecap=\"square\" stroke-width=\"2\"/><path d=\"m153.23 90.637h190.05\" clip-path=\"url(#pab9884f212)\" fill=\"none\" stroke=\"#000000\" stroke-linecap=\"square\" stroke-width=\"2\"/><path d=\"m153.23 136.99h190.05\" clip-path=\"url(#pab9884f212)\" fill=\"none\" stroke=\"#000000\" stroke-linecap=\"square\" stroke-width=\"2\"/><path d=\"m153.23 181.84h190.05\" clip-path=\"url(#pab9884f212)\" fill=\"none\" stroke=\"#778899\" stroke-linecap=\"square\" stroke-width=\"2\"/><path d=\"m153.23 184.85h190.05\" clip-path=\"url(#pab9884f212)\" fill=\"none\" stroke=\"#778899\" stroke-linecap=\"square\" stroke-width=\"2\"/><path d=\"m162.5 187.98 4.6354-9.2708\" clip-path=\"url(#pab9884f212)\" fill=\"none\" stroke=\"#778899\" stroke-linecap=\"square\"/><path d=\"m224.62 136.99v-92.708\" clip-path=\"url(#pab9884f212)\" fill=\"none\" stroke=\"#1192e8\" stroke-linecap=\"square\" stroke-width=\"2\"/><path d=\"m270.97 136.99v-46.354\" clip-path=\"url(#pab9884f212)\" fill=\"none\" stroke=\"#1192e8\" stroke-linecap=\"square\" stroke-width=\"2\"/><path d=\"m318.83 136.99v35.808\" clip-path=\"url(#pab9884f212)\" fill=\"none\" stroke=\"#778899\" stroke-linecap=\"square\" stroke-width=\"2\"/><path d=\"m315.82 136.99v35.808\" clip-path=\"url(#pab9884f212)\" fill=\"none\" stroke=\"#778899\" stroke-linecap=\"square\" stroke-width=\"2\"/><path d=\"m163.2 59.348h30.13v-30.13h-30.13z\" clip-path=\"url(#pab9884f212)\" fill=\"#005d5d\" stroke=\"#005d5d\" stroke-width=\"1.5\"/><path d=\"m163.2 105.7h30.13v-30.13h-30.13z\" clip-path=\"url(#pab9884f212)\" fill=\"#005d5d\" stroke=\"#005d5d\" stroke-width=\"1.5\"/><path d=\"m224.62 48.803c1.1986 0 2.3482-0.4762 3.1958-1.3237 0.84753-0.84753 1.3237-1.9972 1.3237-3.1958 0-1.1986-0.4762-2.3482-1.3237-3.1958-0.84753-0.84753-1.9972-1.3237-3.1958-1.3237s-2.3482 0.4762-3.1958 1.3237c-0.84753 0.84753-1.3237 1.9972-1.3237 3.1958 0 1.1986 0.4762 2.3482 1.3237 3.1958 0.84753 0.84753 1.9972 1.3237 3.1958 1.3237z\" clip-path=\"url(#pab9884f212)\" fill=\"#1192e8\" stroke=\"#1192e8\" stroke-width=\"1.5\"/><path d=\"m224.62 147.54c2.7967 0 5.4792-1.1111 7.4568-3.0887 1.9776-1.9776 3.0887-4.6601 3.0887-7.4568 0-2.7967-1.1111-5.4792-3.0887-7.4568-1.9776-1.9776-4.6601-3.0887-7.4568-3.0887-2.7967 0-5.4792 1.1111-7.4568 3.0887-1.9776 1.9776-3.0887 4.6601-3.0887 7.4568 0 2.7967 1.1111 5.4792 3.0887 7.4568 1.9776 1.9776 4.6601 3.0887 7.4568 3.0887z\" clip-path=\"url(#pab9884f212)\" fill=\"#1192e8\" stroke=\"#1192e8\" stroke-width=\"2\"/><path d=\"m270.97 95.157c1.1986 0 2.3482-0.4762 3.1958-1.3237 0.84753-0.84753 1.3237-1.9972 1.3237-3.1958s-0.4762-2.3482-1.3237-3.1958c-0.84753-0.84753-1.9972-1.3237-3.1958-1.3237-1.1986 0-2.3482 0.4762-3.1958 1.3237-0.84753 0.84753-1.3237 1.9972-1.3237 3.1958s0.4762 2.3482 1.3237 3.1958c0.84753 0.84753 1.9972 1.3237 3.1958 1.3237z\" clip-path=\"url(#pab9884f212)\" fill=\"#1192e8\" stroke=\"#1192e8\" stroke-width=\"1.5\"/><path d=\"m270.97 147.54c2.7967 0 5.4792-1.1111 7.4568-3.0887 1.9776-1.9776 3.0887-4.6601 3.0887-7.4568 0-2.7967-1.1111-5.4792-3.0887-7.4568-1.9776-1.9776-4.6601-3.0887-7.4568-3.0887-2.7967 0-5.4792 1.1111-7.4568 3.0887-1.9776 1.9776-3.0887 4.6601-3.0887 7.4568 0 2.7967 1.1111 5.4792 3.0887 7.4568 1.9776 1.9776 4.6601 3.0887 7.4568 3.0887z\" clip-path=\"url(#pab9884f212)\" fill=\"#1192e8\" stroke=\"#1192e8\" stroke-width=\"2\"/><path d=\"m302.26 152.06h30.13v-30.13h-30.13z\" clip-path=\"url(#pab9884f212)\" fill=\"#121619\" stroke=\"#121619\" stroke-width=\"1.5\"/><path d=\"m327.87 141.51c0-2.7958-1.1118-5.4799-3.0887-7.4568s-4.661-3.0887-7.4568-3.0887-5.4799 1.1118-7.4568 3.0887-3.0887 4.661-3.0887 7.4568\" clip-path=\"url(#pab9884f212)\" fill=\"none\" stroke=\"#ffffff\" stroke-width=\"2\"/><path d=\"m317.33 141.51 10.546-10.546\" clip-path=\"url(#pab9884f212)\" fill=\"none\" stroke=\"#ffffff\" stroke-linecap=\"square\" stroke-width=\"2\"/><g clip-path=\"url(#pab9884f212)\"><g transform=\"translate(47.111 48.508) scale(.1625 -.1625)\"><defs><path id=\"DejaVuSans-Oblique-63\" transform=\"scale(.015625)\" d=\"m3431 3366-115-569q-207 150-440 225-232 75-482 75-275 0-524-97-248-97-417-275-269-272-416-638-146-365-146-756 0-472 236-703t717-231q237 0 504 72 268 72 558 215l-109-568q-250-103-514-155t-542-52q-697 0-1072 348-375 349-375 996 0 544 195 1002t580 823q262 250 615 378 354 128 772 128 244 0 484-55 241-54 491-163z\"/><path id=\"DejaVuSans-Oblique-6f\" transform=\"scale(.015625)\" d=\"m1625-91q-616 0-974 380-357 380-357 1036 0 381 123 776 124 396 321 665 309 418 690 618t863 200q597 0 964-372 367-371 367-971 0-416-122-829-122-412-319-684-306-419-687-619t-869-200zm-734 1435q0-475 198-711 199-236 602-236 578 0 957 504 380 505 380 1280 0 453-203 684-203 232-597 232-325 0-578-152-253-151-453-461-147-231-227-528-79-297-79-612z\"/><path id=\"DejaVuSans-Oblique-64\" transform=\"scale(.015625)\" d=\"m2675 525q-231-303-547-460-315-156-700-156-525 0-830 358-304 358-304 980 0 519 184 989 185 470 535 842 231 247 521 376 291 130 610 130 337 0 595-163 258-162 399-465l375 1907h578l-947-4863h-578l109 525zm-1784 825q0-453 204-706 205-253 568-253 268 0 498 129 230 130 405 383 184 263 290 606 107 344 107 679 0 434-205 677-205 244-564 244-272 0-507-128-234-128-399-368-182-260-290-604-107-343-107-659z\"/><path id=\"DejaVuSans-Oblique-65\" transform=\"scale(.015625)\" d=\"m3078 2063q10 50 14 103 5 53 5 106 0 381-224 603-223 222-607 222-428 0-757-271-328-270-496-767l2065 4zm500-450h-2675q-19-119-25-188t-6-119q0-434 267-672 267-237 755-237 375 0 709 84 335 85 622 247l-109-569q-310-125-640-187-329-63-670-63-728 0-1120 348-392 349-392 990 0 547 195 1017t574 839q243 231 579 356t714 125q594 0 945-356 352-356 352-956 0-144-19-308-18-164-56-351z\"/><path id=\"DejaVuSans-5f\" transform=\"scale(.015625)\" d=\"m3263-1063v-446h-3326v446h3326z\"/><path id=\"DejaVuSans-Oblique-71\" transform=\"scale(.015625)\" d=\"m2669 525q-231-303-546-460-314-156-695-156-531 0-833 358-301 358-301 986 0 506 186 978t533 847q225 244 517 375t614 131q387 0 637-153t363-462l100 525h578l-934-4813h-579l360 1844zm-1778 813q0-463 193-705 194-242 560-242 544 0 928 520t384 1264q0 450-199 689-198 239-569 239-272 0-504-127-231-126-403-370-181-256-286-600-104-343-104-668z\"/><path id=\"DejaVuSans-Oblique-75\" transform=\"scale(.015625)\" d=\"m428 1388 410 2112h578l-410-2091q-31-153-45-262t-14-181q0-266 162-412 163-145 460-145 462 0 799 312 338 313 441 842l385 1937h575l-678-3500h-575l115 550q-243-306-579-474-336-167-714-167-460 0-716 252t-256 702q0 93 15 234 16 141 47 291z\"/><path id=\"DejaVuSans-Oblique-62\" transform=\"scale(.015625)\" d=\"m3169 2138q0 453-208 709t-573 256q-266 0-499-130-233-129-405-376-181-259-286-602-104-342-104-682 0-432 204-677 205-245 565-245 271 0 502 126 232 127 407 374 178 256 287 596 110 341 110 651zm-1788 831q213 287 533 451t670 164q538 0 855-363 317-362 317-980 0-507-186-982t-529-843q-225-244-519-376-294-131-616-131-340 0-590 156-250 157-407 466l-103-531h-575l947 4863h575l-372-1894z\"/><path id=\"DejaVuSans-Oblique-69\" transform=\"scale(.015625)\" d=\"m1172 4863h575l-141-729h-575l141 729zm-263-1363h575l-684-3500h-575l684 3500z\"/><path id=\"DejaVuSans-Oblique-74\" transform=\"scale(.015625)\" d=\"m2706 3500-87-447h-1147l-372-1900q-19-106-28-178t-9-112q0-200 120-291t386-91h581l-97-481h-550q-512 0-764 200-251 200-251 606 0 72 9 158t28 189l372 1900h-488l91 447h478l194 994h575l-191-994h1150z\"/><path id=\"DejaVuSans-30\" transform=\"scale(.015625)\" d=\"m2034 4250q-487 0-733-480-245-479-245-1442 0-959 245-1439 246-480 733-480 491 0 736 480 246 480 246 1439 0 963-246 1442-245 480-736 480zm0 500q785 0 1199-621 414-620 414-1801 0-1178-414-1799-414-620-1199-620-784 0-1198 620-414 621-414 1799 0 1181 414 1801 414 621 1198 621z\"/></defs><use transform=\"translate(0 .015625)\" xlink:href=\"#DejaVuSans-Oblique-63\"/><use transform=\"translate(54.98 .015625)\" xlink:href=\"#DejaVuSans-Oblique-6f\"/><use transform=\"translate(116.16 .015625)\" xlink:href=\"#DejaVuSans-Oblique-64\"/><use transform=\"translate(179.64 .015625)\" xlink:href=\"#DejaVuSans-Oblique-65\"/><use transform=\"translate(241.16 .015625)\" xlink:href=\"#DejaVuSans-5f\"/><use transform=\"translate(291.16 .015625)\" xlink:href=\"#DejaVuSans-Oblique-71\"/><use transform=\"translate(354.64 .015625)\" xlink:href=\"#DejaVuSans-Oblique-75\"/><use transform=\"translate(418.02 .015625)\" xlink:href=\"#DejaVuSans-Oblique-62\"/><use transform=\"translate(481.49 .015625)\" xlink:href=\"#DejaVuSans-Oblique-69\"/><use transform=\"translate(509.28 .015625)\" xlink:href=\"#DejaVuSans-Oblique-74\"/><use transform=\"translate(548.49 -16.391) scale(.7)\" xlink:href=\"#DejaVuSans-30\"/></g></g><g clip-path=\"url(#pab9884f212)\"><g transform=\"translate(47.111 94.862) scale(.1625 -.1625)\"><defs><path id=\"DejaVuSans-31\" transform=\"scale(.015625)\" d=\"m794 531h1031v3560l-1122-225v575l1116 225h631v-4135h1031v-531h-2687v531z\"/></defs><use transform=\"translate(0 .015625)\" xlink:href=\"#DejaVuSans-Oblique-63\"/><use transform=\"translate(54.98 .015625)\" xlink:href=\"#DejaVuSans-Oblique-6f\"/><use transform=\"translate(116.16 .015625)\" xlink:href=\"#DejaVuSans-Oblique-64\"/><use transform=\"translate(179.64 .015625)\" xlink:href=\"#DejaVuSans-Oblique-65\"/><use transform=\"translate(241.16 .015625)\" xlink:href=\"#DejaVuSans-5f\"/><use transform=\"translate(291.16 .015625)\" xlink:href=\"#DejaVuSans-Oblique-71\"/><use transform=\"translate(354.64 .015625)\" xlink:href=\"#DejaVuSans-Oblique-75\"/><use transform=\"translate(418.02 .015625)\" xlink:href=\"#DejaVuSans-Oblique-62\"/><use transform=\"translate(481.49 .015625)\" xlink:href=\"#DejaVuSans-Oblique-69\"/><use transform=\"translate(509.28 .015625)\" xlink:href=\"#DejaVuSans-Oblique-74\"/><use transform=\"translate(548.49 -16.391) scale(.7)\" xlink:href=\"#DejaVuSans-31\"/></g></g><g clip-path=\"url(#pab9884f212)\"><g transform=\"translate(41.261 141.22) scale(.1625 -.1625)\"><defs><path id=\"DejaVuSans-Oblique-61\" transform=\"scale(.015625)\" d=\"m3438 1997-391-1997h-575l106 531q-253-312-577-467-323-155-720-155-447 0-733 273-285 274-285 702 0 613 489 969t1348 356h800l31 154q7 25 10 54 3 30 3 92 0 279-227 433-226 155-636 155-281 0-577-72-295-72-607-216l100 532q325 122 636 182 311 61 601 61 619 0 942-269 324-268 324-781 0-103-16-242-15-139-46-295zm-622-238h-575q-707 0-1046-189t-339-586q0-275 173-431 174-156 480-156 469 0 819 336t463 898l25 128z\"/><path id=\"DejaVuSans-Oblique-6e\" transform=\"scale(.015625)\" d=\"m3566 2113-410-2113h-578l410 2091q28 147 43 259 16 113 16 178 0 263-166 409-165 147-462 147-463 0-797-308-334-307-438-835l-384-1941h-575l678 3500h575l-115-550q240 303 577 468 338 166 710 166 463 0 717-250 255-250 255-703 0-112-14-240t-42-278z\"/><path id=\"DejaVuSans-Oblique-6c\" transform=\"scale(.015625)\" d=\"m1172 4863h575l-947-4863h-575l947 4863z\"/></defs><use transform=\"translate(0 .015625)\" xlink:href=\"#DejaVuSans-Oblique-61\"/><use transform=\"translate(61.279 .015625)\" xlink:href=\"#DejaVuSans-Oblique-6e\"/><use transform=\"translate(124.66 .015625)\" xlink:href=\"#DejaVuSans-Oblique-63\"/><use transform=\"translate(179.64 .015625)\" xlink:href=\"#DejaVuSans-Oblique-69\"/><use transform=\"translate(207.42 .015625)\" xlink:href=\"#DejaVuSans-Oblique-6c\"/><use transform=\"translate(235.21 .015625)\" xlink:href=\"#DejaVuSans-Oblique-6c\"/><use transform=\"translate(262.99 .015625)\" xlink:href=\"#DejaVuSans-Oblique-61\"/><use transform=\"translate(324.27 .015625)\" xlink:href=\"#DejaVuSans-5f\"/><use transform=\"translate(374.27 .015625)\" xlink:href=\"#DejaVuSans-Oblique-71\"/><use transform=\"translate(437.74 .015625)\" xlink:href=\"#DejaVuSans-Oblique-75\"/><use transform=\"translate(501.12 .015625)\" xlink:href=\"#DejaVuSans-Oblique-62\"/><use transform=\"translate(564.6 .015625)\" xlink:href=\"#DejaVuSans-Oblique-69\"/><use transform=\"translate(592.38 .015625)\" xlink:href=\"#DejaVuSans-Oblique-74\"/></g></g><g clip-path=\"url(#pab9884f212)\"><g transform=\"translate(157.87 176.55) scale(.104 -.104)\"><use xlink:href=\"#DejaVuSans-31\"/></g></g><g clip-path=\"url(#pab9884f212)\"><g transform=\"translate(33.852 187.6) scale(.1625 -.1625)\"><defs><path id=\"DejaVuSans-73\" transform=\"scale(.015625)\" d=\"m2834 3397v-544q-243 125-506 187-262 63-544 63-428 0-642-131t-214-394q0-200 153-314t616-217l197-44q612-131 870-370t258-667q0-488-386-773-386-284-1061-284-281 0-586 55t-642 164v594q319-166 628-249 309-82 613-82 406 0 624 139 219 139 219 392 0 234-158 359-157 125-692 241l-200 47q-534 112-772 345-237 233-237 639 0 494 350 762 350 269 994 269 318 0 599-47 282-46 519-140z\"/><path id=\"DejaVuSans-79\" transform=\"scale(.015625)\" d=\"m2059-325q-243-625-475-815-231-191-618-191h-460v481h338q237 0 368 113 132 112 291 531l103 262-1415 3444h609l1094-2737 1094 2737h609l-1538-3825z\"/><path id=\"DejaVuSans-6e\" transform=\"scale(.015625)\" d=\"m3513 2113v-2113h-575v2094q0 497-194 743-194 247-581 247-466 0-735-297-269-296-269-809v-1978h-578v3500h578v-544q207 316 486 472 280 156 646 156 603 0 912-373 310-373 310-1098z\"/><path id=\"DejaVuSans-64\" transform=\"scale(.015625)\" d=\"m2906 2969v1894h575v-4863h-575v525q-181-312-458-464-276-152-664-152-634 0-1033 506-398 507-398 1332t398 1331q399 506 1033 506 388 0 664-152 277-151 458-463zm-1959-1222q0-634 261-995t717-361 718 361q263 361 263 995t-263 995q-262 361-718 361t-717-361-261-995z\"/><path id=\"DejaVuSans-72\" transform=\"scale(.015625)\" d=\"m2631 2963q-97 56-211 82-114 27-251 27-488 0-749-317t-261-911v-1844h-578v3500h578v-544q182 319 472 473 291 155 707 155 59 0 131-8 72-7 159-23l3-590z\"/><path id=\"DejaVuSans-6f\" transform=\"scale(.015625)\" d=\"m1959 3097q-462 0-731-361t-269-989 267-989q268-361 733-361 460 0 728 362 269 363 269 988 0 622-269 986-268 364-728 364zm0 487q750 0 1178-488 429-487 429-1349 0-859-429-1349-428-489-1178-489-753 0-1180 489-426 490-426 1349 0 862 426 1349 427 488 1180 488z\"/><path id=\"DejaVuSans-6d\" transform=\"scale(.015625)\" d=\"m3328 2828q216 388 516 572t706 184q547 0 844-383 297-382 297-1088v-2113h-578v2094q0 503-179 746-178 244-543 244-447 0-707-297-259-296-259-809v-1978h-578v2094q0 506-178 748t-550 242q-441 0-701-298-259-298-259-808v-1978h-578v3500h578v-544q197 322 472 475t653 153q382 0 649-194 267-193 395-562z\"/><path id=\"DejaVuSans-65\" transform=\"scale(.015625)\" d=\"m3597 1894v-281h-2644q38-594 358-905t892-311q331 0 642 81t618 244v-544q-310-131-635-200t-659-69q-838 0-1327 487-489 488-489 1320 0 859 464 1363 464 505 1252 505 706 0 1117-455 411-454 411-1235zm-575 169q-6 471-264 752-258 282-683 282-481 0-770-272t-333-766l2050 4z\"/><path id=\"DejaVuSans-62\" transform=\"scale(.015625)\" d=\"m3116 1747q0 634-261 995t-717 361q-457 0-718-361t-261-995 261-995 718-361q456 0 717 361t261 995zm-1957 1222q182 312 458 463 277 152 661 152 638 0 1036-506 399-506 399-1331t-399-1332q-398-506-1036-506-384 0-661 152-276 152-458 464v-525h-578v4863h578v-1894z\"/><path id=\"DejaVuSans-69\" transform=\"scale(.015625)\" d=\"m603 3500h575v-3500h-575v3500zm0 1363h575v-729h-575v729z\"/><path id=\"DejaVuSans-74\" transform=\"scale(.015625)\" d=\"m1172 4494v-994h1184v-447h-1184v-1900q0-428 117-550t477-122h590v-481h-590q-666 0-919 248-253 249-253 905v1900h-422v447h422v994h578z\"/></defs><use xlink:href=\"#DejaVuSans-73\"/><use x=\"52.099609\" xlink:href=\"#DejaVuSans-79\"/><use x=\"111.279297\" xlink:href=\"#DejaVuSans-6e\"/><use x=\"174.658203\" xlink:href=\"#DejaVuSans-64\"/><use x=\"238.134766\" xlink:href=\"#DejaVuSans-72\"/><use x=\"276.998047\" xlink:href=\"#DejaVuSans-6f\"/><use x=\"338.179688\" xlink:href=\"#DejaVuSans-6d\"/><use x=\"435.591797\" xlink:href=\"#DejaVuSans-65\"/><use x=\"497.115234\" xlink:href=\"#DejaVuSans-5f\"/><use x=\"547.115234\" xlink:href=\"#DejaVuSans-62\"/><use x=\"610.591797\" xlink:href=\"#DejaVuSans-69\"/><use x=\"638.375\" xlink:href=\"#DejaVuSans-74\"/></g></g><g clip-path=\"url(#pab9884f212)\"><g transform=\"translate(173.81 47.87) scale(.13 -.13)\" fill=\"#ffffff\"><defs><path id=\"DejaVuSans-58\" transform=\"scale(.015625)\" d=\"m403 4666h678l1160-1735 1165 1735h678l-1500-2241 1600-2425h-678l-1312 1984-1322-1984h-681l1665 2491-1453 2175z\"/></defs><use xlink:href=\"#DejaVuSans-58\"/></g></g><g clip-path=\"url(#pab9884f212)\"><g transform=\"translate(173.81 94.224) scale(.13 -.13)\" fill=\"#ffffff\"><use xlink:href=\"#DejaVuSans-58\"/></g></g><path d=\"m224.62 143.02v-12.052\" clip-path=\"url(#pab9884f212)\" fill=\"none\" stroke=\"#ffffff\" stroke-linecap=\"square\" stroke-width=\"2\"/><path d=\"m218.59 136.99h12.052\" clip-path=\"url(#pab9884f212)\" fill=\"none\" stroke=\"#ffffff\" stroke-linecap=\"square\" stroke-width=\"2\"/><path d=\"m270.97 143.02v-12.052\" clip-path=\"url(#pab9884f212)\" fill=\"none\" stroke=\"#ffffff\" stroke-linecap=\"square\" stroke-width=\"2\"/><path d=\"m264.95 136.99h12.052\" clip-path=\"url(#pab9884f212)\" fill=\"none\" stroke=\"#ffffff\" stroke-linecap=\"square\" stroke-width=\"2\"/><g clip-path=\"url(#pab9884f212)\"><g transform=\"translate(328.91 176.55) scale(.104 -.104)\"><use xlink:href=\"#DejaVuSans-30\"/></g></g><defs><clipPath id=\"pab9884f212\"><rect x=\"7.2\" y=\"7.2\" width=\"340.72\" height=\"203.96\"/></clipPath></defs></svg>"
      ],
      "text/plain": [
       "<Figure size 614.573x367.889 with 1 Axes>"
      ]
     },
     "execution_count": 14,
     "metadata": {},
     "output_type": "execute_result"
    }
   ],
   "source": [
    "qc_init = QuantumCircuit(cq, lq, sb)\n",
    "qc_init.x(cq)\n",
    "\n",
    "qc_init.compose(qc).draw()"
   ]
  },
  {
   "cell_type": "code",
   "execution_count": 15,
   "metadata": {},
   "outputs": [
    {
     "name": "stdout",
     "output_type": "stream",
     "text": [
      "Results: {'0': 1024}\n"
     ]
    }
   ],
   "source": [
    "counts = execute(qc_init.compose(qc), Aer.get_backend('qasm_simulator')).result().get_counts()\n",
    "print('Results:', counts)"
   ]
  },
  {
   "cell_type": "code",
   "execution_count": 16,
   "metadata": {
    "tags": [
     "sanity-check"
    ]
   },
   "outputs": [],
   "source": [
    "# The outcome in this case is also always 0.\n",
    "assert list(counts.keys()) == ['0']"
   ]
  },
  {
   "cell_type": "markdown",
   "metadata": {},
   "source": [
    "このときも結果は常に `0` です。量子力学の線形性を考えると、以下の例のように、$\\left|00\\right\\rangle$ と $\\left|11\\right\\rangle$ の任意の重ね合わせにも同様のことが期待できます。"
   ]
  },
  {
   "cell_type": "code",
   "execution_count": 17,
   "metadata": {},
   "outputs": [
    {
     "data": {
      "image/svg+xml": [
       "<?xml version=\"1.0\" encoding=\"UTF-8\"?><!DOCTYPE svg  PUBLIC '-//W3C//DTD SVG 1.1//EN'  'http://www.w3.org/Graphics/SVG/1.1/DTD/svg11.dtd'><svg width=\"401.47pt\" height=\"218.36pt\" version=\"1.1\" viewBox=\"0 0 401.47 218.36\" xmlns=\"http://www.w3.org/2000/svg\" xmlns:xlink=\"http://www.w3.org/1999/xlink\"><defs><style type=\"text/css\">*{stroke-linejoin: round; stroke-linecap: butt}</style></defs><path d=\"m0 218.36h401.47v-218.36h-401.47z\" fill=\"#ffffff\"/><path d=\"m357.65 172.8h12.052l-6.026 8.6914z\" clip-path=\"url(#p18dd4d3bfc)\" fill=\"#778899\"/><path d=\"m153.23 44.283h236.41\" clip-path=\"url(#p18dd4d3bfc)\" fill=\"none\" stroke=\"#000000\" stroke-linecap=\"square\" stroke-width=\"2\"/><path d=\"m153.23 90.637h236.41\" clip-path=\"url(#p18dd4d3bfc)\" fill=\"none\" stroke=\"#000000\" stroke-linecap=\"square\" stroke-width=\"2\"/><path d=\"m153.23 136.99h236.41\" clip-path=\"url(#p18dd4d3bfc)\" fill=\"none\" stroke=\"#000000\" stroke-linecap=\"square\" stroke-width=\"2\"/><path d=\"m153.23 181.84h236.41\" clip-path=\"url(#p18dd4d3bfc)\" fill=\"none\" stroke=\"#778899\" stroke-linecap=\"square\" stroke-width=\"2\"/><path d=\"m153.23 184.85h236.41\" clip-path=\"url(#p18dd4d3bfc)\" fill=\"none\" stroke=\"#778899\" stroke-linecap=\"square\" stroke-width=\"2\"/><path d=\"m162.5 187.98 4.6354-9.2708\" clip-path=\"url(#p18dd4d3bfc)\" fill=\"none\" stroke=\"#778899\" stroke-linecap=\"square\"/><path d=\"m224.62 90.637v-46.354\" clip-path=\"url(#p18dd4d3bfc)\" fill=\"none\" stroke=\"#1192e8\" stroke-linecap=\"square\" stroke-width=\"2\"/><path d=\"m270.97 136.99v-92.708\" clip-path=\"url(#p18dd4d3bfc)\" fill=\"none\" stroke=\"#1192e8\" stroke-linecap=\"square\" stroke-width=\"2\"/><path d=\"m317.33 136.99v-46.354\" clip-path=\"url(#p18dd4d3bfc)\" fill=\"none\" stroke=\"#1192e8\" stroke-linecap=\"square\" stroke-width=\"2\"/><path d=\"m365.19 136.99v35.808\" clip-path=\"url(#p18dd4d3bfc)\" fill=\"none\" stroke=\"#778899\" stroke-linecap=\"square\" stroke-width=\"2\"/><path d=\"m362.17 136.99v35.808\" clip-path=\"url(#p18dd4d3bfc)\" fill=\"none\" stroke=\"#778899\" stroke-linecap=\"square\" stroke-width=\"2\"/><path d=\"m163.2 59.348h30.13v-30.13h-30.13z\" clip-path=\"url(#p18dd4d3bfc)\" fill=\"#1192e8\" stroke=\"#1192e8\" stroke-width=\"1.5\"/><path d=\"m224.62 48.803c1.1986 0 2.3482-0.4762 3.1958-1.3237 0.84753-0.84753 1.3237-1.9972 1.3237-3.1958 0-1.1986-0.4762-2.3482-1.3237-3.1958-0.84753-0.84753-1.9972-1.3237-3.1958-1.3237s-2.3482 0.4762-3.1958 1.3237c-0.84753 0.84753-1.3237 1.9972-1.3237 3.1958 0 1.1986 0.4762 2.3482 1.3237 3.1958 0.84753 0.84753 1.9972 1.3237 3.1958 1.3237z\" clip-path=\"url(#p18dd4d3bfc)\" fill=\"#1192e8\" stroke=\"#1192e8\" stroke-width=\"1.5\"/><path d=\"m224.62 101.18c2.7967 0 5.4792-1.1111 7.4568-3.0887 1.9776-1.9776 3.0887-4.6601 3.0887-7.4568 0-2.7967-1.1111-5.4792-3.0887-7.4568-1.9776-1.9776-4.6601-3.0887-7.4568-3.0887-2.7967 0-5.4792 1.1111-7.4568 3.0887-1.9776 1.9776-3.0887 4.6601-3.0887 7.4568 0 2.7967 1.1111 5.4792 3.0887 7.4568 1.9776 1.9776 4.6601 3.0887 7.4568 3.0887z\" clip-path=\"url(#p18dd4d3bfc)\" fill=\"#1192e8\" stroke=\"#1192e8\" stroke-width=\"2\"/><path d=\"m270.97 48.803c1.1986 0 2.3482-0.4762 3.1958-1.3237s1.3237-1.9972 1.3237-3.1958c0-1.1986-0.4762-2.3482-1.3237-3.1958s-1.9972-1.3237-3.1958-1.3237c-1.1986 0-2.3482 0.4762-3.1958 1.3237-0.84753 0.84753-1.3237 1.9972-1.3237 3.1958 0 1.1986 0.4762 2.3482 1.3237 3.1958 0.84753 0.84753 1.9972 1.3237 3.1958 1.3237z\" clip-path=\"url(#p18dd4d3bfc)\" fill=\"#1192e8\" stroke=\"#1192e8\" stroke-width=\"1.5\"/><path d=\"m270.97 147.54c2.7967 0 5.4792-1.1111 7.4568-3.0887 1.9776-1.9776 3.0887-4.6601 3.0887-7.4568 0-2.7967-1.1111-5.4792-3.0887-7.4568-1.9776-1.9776-4.6601-3.0887-7.4568-3.0887-2.7967 0-5.4792 1.1111-7.4568 3.0887-1.9776 1.9776-3.0887 4.6601-3.0887 7.4568 0 2.7967 1.1111 5.4792 3.0887 7.4568 1.9776 1.9776 4.6601 3.0887 7.4568 3.0887z\" clip-path=\"url(#p18dd4d3bfc)\" fill=\"#1192e8\" stroke=\"#1192e8\" stroke-width=\"2\"/><path d=\"m317.33 95.157c1.1986 0 2.3482-0.4762 3.1958-1.3237 0.84753-0.84753 1.3237-1.9972 1.3237-3.1958s-0.4762-2.3482-1.3237-3.1958c-0.84753-0.84753-1.9972-1.3237-3.1958-1.3237-1.1986 0-2.3482 0.4762-3.1958 1.3237-0.84753 0.84753-1.3237 1.9972-1.3237 3.1958s0.4762 2.3482 1.3237 3.1958c0.84753 0.84753 1.9972 1.3237 3.1958 1.3237z\" clip-path=\"url(#p18dd4d3bfc)\" fill=\"#1192e8\" stroke=\"#1192e8\" stroke-width=\"1.5\"/><path d=\"m317.33 147.54c2.7967 0 5.4792-1.1111 7.4568-3.0887 1.9776-1.9776 3.0887-4.6601 3.0887-7.4568 0-2.7967-1.1111-5.4792-3.0887-7.4568s-4.6601-3.0887-7.4568-3.0887c-2.7967 0-5.4792 1.1111-7.4568 3.0887-1.9776 1.9776-3.0887 4.6601-3.0887 7.4568 0 2.7967 1.1111 5.4792 3.0887 7.4568 1.9776 1.9776 4.6601 3.0887 7.4568 3.0887z\" clip-path=\"url(#p18dd4d3bfc)\" fill=\"#1192e8\" stroke=\"#1192e8\" stroke-width=\"2\"/><path d=\"m348.61 152.06h30.13v-30.13h-30.13z\" clip-path=\"url(#p18dd4d3bfc)\" fill=\"#121619\" stroke=\"#121619\" stroke-width=\"1.5\"/><path d=\"m374.22 141.51c0-2.7958-1.1118-5.4799-3.0887-7.4568-1.9769-1.9769-4.661-3.0887-7.4568-3.0887s-5.4799 1.1118-7.4568 3.0887-3.0887 4.661-3.0887 7.4568\" clip-path=\"url(#p18dd4d3bfc)\" fill=\"none\" stroke=\"#ffffff\" stroke-width=\"2\"/><path d=\"m363.68 141.51 10.546-10.546\" clip-path=\"url(#p18dd4d3bfc)\" fill=\"none\" stroke=\"#ffffff\" stroke-linecap=\"square\" stroke-width=\"2\"/><g clip-path=\"url(#p18dd4d3bfc)\"><g transform=\"translate(47.111 48.508) scale(.1625 -.1625)\"><defs><path id=\"DejaVuSans-Oblique-63\" transform=\"scale(.015625)\" d=\"m3431 3366-115-569q-207 150-440 225-232 75-482 75-275 0-524-97-248-97-417-275-269-272-416-638-146-365-146-756 0-472 236-703t717-231q237 0 504 72 268 72 558 215l-109-568q-250-103-514-155t-542-52q-697 0-1072 348-375 349-375 996 0 544 195 1002t580 823q262 250 615 378 354 128 772 128 244 0 484-55 241-54 491-163z\"/><path id=\"DejaVuSans-Oblique-6f\" transform=\"scale(.015625)\" d=\"m1625-91q-616 0-974 380-357 380-357 1036 0 381 123 776 124 396 321 665 309 418 690 618t863 200q597 0 964-372 367-371 367-971 0-416-122-829-122-412-319-684-306-419-687-619t-869-200zm-734 1435q0-475 198-711 199-236 602-236 578 0 957 504 380 505 380 1280 0 453-203 684-203 232-597 232-325 0-578-152-253-151-453-461-147-231-227-528-79-297-79-612z\"/><path id=\"DejaVuSans-Oblique-64\" transform=\"scale(.015625)\" d=\"m2675 525q-231-303-547-460-315-156-700-156-525 0-830 358-304 358-304 980 0 519 184 989 185 470 535 842 231 247 521 376 291 130 610 130 337 0 595-163 258-162 399-465l375 1907h578l-947-4863h-578l109 525zm-1784 825q0-453 204-706 205-253 568-253 268 0 498 129 230 130 405 383 184 263 290 606 107 344 107 679 0 434-205 677-205 244-564 244-272 0-507-128-234-128-399-368-182-260-290-604-107-343-107-659z\"/><path id=\"DejaVuSans-Oblique-65\" transform=\"scale(.015625)\" d=\"m3078 2063q10 50 14 103 5 53 5 106 0 381-224 603-223 222-607 222-428 0-757-271-328-270-496-767l2065 4zm500-450h-2675q-19-119-25-188t-6-119q0-434 267-672 267-237 755-237 375 0 709 84 335 85 622 247l-109-569q-310-125-640-187-329-63-670-63-728 0-1120 348-392 349-392 990 0 547 195 1017t574 839q243 231 579 356t714 125q594 0 945-356 352-356 352-956 0-144-19-308-18-164-56-351z\"/><path id=\"DejaVuSans-5f\" transform=\"scale(.015625)\" d=\"m3263-1063v-446h-3326v446h3326z\"/><path id=\"DejaVuSans-Oblique-71\" transform=\"scale(.015625)\" d=\"m2669 525q-231-303-546-460-314-156-695-156-531 0-833 358-301 358-301 986 0 506 186 978t533 847q225 244 517 375t614 131q387 0 637-153t363-462l100 525h578l-934-4813h-579l360 1844zm-1778 813q0-463 193-705 194-242 560-242 544 0 928 520t384 1264q0 450-199 689-198 239-569 239-272 0-504-127-231-126-403-370-181-256-286-600-104-343-104-668z\"/><path id=\"DejaVuSans-Oblique-75\" transform=\"scale(.015625)\" d=\"m428 1388 410 2112h578l-410-2091q-31-153-45-262t-14-181q0-266 162-412 163-145 460-145 462 0 799 312 338 313 441 842l385 1937h575l-678-3500h-575l115 550q-243-306-579-474-336-167-714-167-460 0-716 252t-256 702q0 93 15 234 16 141 47 291z\"/><path id=\"DejaVuSans-Oblique-62\" transform=\"scale(.015625)\" d=\"m3169 2138q0 453-208 709t-573 256q-266 0-499-130-233-129-405-376-181-259-286-602-104-342-104-682 0-432 204-677 205-245 565-245 271 0 502 126 232 127 407 374 178 256 287 596 110 341 110 651zm-1788 831q213 287 533 451t670 164q538 0 855-363 317-362 317-980 0-507-186-982t-529-843q-225-244-519-376-294-131-616-131-340 0-590 156-250 157-407 466l-103-531h-575l947 4863h575l-372-1894z\"/><path id=\"DejaVuSans-Oblique-69\" transform=\"scale(.015625)\" d=\"m1172 4863h575l-141-729h-575l141 729zm-263-1363h575l-684-3500h-575l684 3500z\"/><path id=\"DejaVuSans-Oblique-74\" transform=\"scale(.015625)\" d=\"m2706 3500-87-447h-1147l-372-1900q-19-106-28-178t-9-112q0-200 120-291t386-91h581l-97-481h-550q-512 0-764 200-251 200-251 606 0 72 9 158t28 189l372 1900h-488l91 447h478l194 994h575l-191-994h1150z\"/><path id=\"DejaVuSans-30\" transform=\"scale(.015625)\" d=\"m2034 4250q-487 0-733-480-245-479-245-1442 0-959 245-1439 246-480 733-480 491 0 736 480 246 480 246 1439 0 963-246 1442-245 480-736 480zm0 500q785 0 1199-621 414-620 414-1801 0-1178-414-1799-414-620-1199-620-784 0-1198 620-414 621-414 1799 0 1181 414 1801 414 621 1198 621z\"/></defs><use transform=\"translate(0 .015625)\" xlink:href=\"#DejaVuSans-Oblique-63\"/><use transform=\"translate(54.98 .015625)\" xlink:href=\"#DejaVuSans-Oblique-6f\"/><use transform=\"translate(116.16 .015625)\" xlink:href=\"#DejaVuSans-Oblique-64\"/><use transform=\"translate(179.64 .015625)\" xlink:href=\"#DejaVuSans-Oblique-65\"/><use transform=\"translate(241.16 .015625)\" xlink:href=\"#DejaVuSans-5f\"/><use transform=\"translate(291.16 .015625)\" xlink:href=\"#DejaVuSans-Oblique-71\"/><use transform=\"translate(354.64 .015625)\" xlink:href=\"#DejaVuSans-Oblique-75\"/><use transform=\"translate(418.02 .015625)\" xlink:href=\"#DejaVuSans-Oblique-62\"/><use transform=\"translate(481.49 .015625)\" xlink:href=\"#DejaVuSans-Oblique-69\"/><use transform=\"translate(509.28 .015625)\" xlink:href=\"#DejaVuSans-Oblique-74\"/><use transform=\"translate(548.49 -16.391) scale(.7)\" xlink:href=\"#DejaVuSans-30\"/></g></g><g clip-path=\"url(#p18dd4d3bfc)\"><g transform=\"translate(47.111 94.862) scale(.1625 -.1625)\"><defs><path id=\"DejaVuSans-31\" transform=\"scale(.015625)\" d=\"m794 531h1031v3560l-1122-225v575l1116 225h631v-4135h1031v-531h-2687v531z\"/></defs><use transform=\"translate(0 .015625)\" xlink:href=\"#DejaVuSans-Oblique-63\"/><use transform=\"translate(54.98 .015625)\" xlink:href=\"#DejaVuSans-Oblique-6f\"/><use transform=\"translate(116.16 .015625)\" xlink:href=\"#DejaVuSans-Oblique-64\"/><use transform=\"translate(179.64 .015625)\" xlink:href=\"#DejaVuSans-Oblique-65\"/><use transform=\"translate(241.16 .015625)\" xlink:href=\"#DejaVuSans-5f\"/><use transform=\"translate(291.16 .015625)\" xlink:href=\"#DejaVuSans-Oblique-71\"/><use transform=\"translate(354.64 .015625)\" xlink:href=\"#DejaVuSans-Oblique-75\"/><use transform=\"translate(418.02 .015625)\" xlink:href=\"#DejaVuSans-Oblique-62\"/><use transform=\"translate(481.49 .015625)\" xlink:href=\"#DejaVuSans-Oblique-69\"/><use transform=\"translate(509.28 .015625)\" xlink:href=\"#DejaVuSans-Oblique-74\"/><use transform=\"translate(548.49 -16.391) scale(.7)\" xlink:href=\"#DejaVuSans-31\"/></g></g><g clip-path=\"url(#p18dd4d3bfc)\"><g transform=\"translate(41.261 141.22) scale(.1625 -.1625)\"><defs><path id=\"DejaVuSans-Oblique-61\" transform=\"scale(.015625)\" d=\"m3438 1997-391-1997h-575l106 531q-253-312-577-467-323-155-720-155-447 0-733 273-285 274-285 702 0 613 489 969t1348 356h800l31 154q7 25 10 54 3 30 3 92 0 279-227 433-226 155-636 155-281 0-577-72-295-72-607-216l100 532q325 122 636 182 311 61 601 61 619 0 942-269 324-268 324-781 0-103-16-242-15-139-46-295zm-622-238h-575q-707 0-1046-189t-339-586q0-275 173-431 174-156 480-156 469 0 819 336t463 898l25 128z\"/><path id=\"DejaVuSans-Oblique-6e\" transform=\"scale(.015625)\" d=\"m3566 2113-410-2113h-578l410 2091q28 147 43 259 16 113 16 178 0 263-166 409-165 147-462 147-463 0-797-308-334-307-438-835l-384-1941h-575l678 3500h575l-115-550q240 303 577 468 338 166 710 166 463 0 717-250 255-250 255-703 0-112-14-240t-42-278z\"/><path id=\"DejaVuSans-Oblique-6c\" transform=\"scale(.015625)\" d=\"m1172 4863h575l-947-4863h-575l947 4863z\"/></defs><use transform=\"translate(0 .015625)\" xlink:href=\"#DejaVuSans-Oblique-61\"/><use transform=\"translate(61.279 .015625)\" xlink:href=\"#DejaVuSans-Oblique-6e\"/><use transform=\"translate(124.66 .015625)\" xlink:href=\"#DejaVuSans-Oblique-63\"/><use transform=\"translate(179.64 .015625)\" xlink:href=\"#DejaVuSans-Oblique-69\"/><use transform=\"translate(207.42 .015625)\" xlink:href=\"#DejaVuSans-Oblique-6c\"/><use transform=\"translate(235.21 .015625)\" xlink:href=\"#DejaVuSans-Oblique-6c\"/><use transform=\"translate(262.99 .015625)\" xlink:href=\"#DejaVuSans-Oblique-61\"/><use transform=\"translate(324.27 .015625)\" xlink:href=\"#DejaVuSans-5f\"/><use transform=\"translate(374.27 .015625)\" xlink:href=\"#DejaVuSans-Oblique-71\"/><use transform=\"translate(437.74 .015625)\" xlink:href=\"#DejaVuSans-Oblique-75\"/><use transform=\"translate(501.12 .015625)\" xlink:href=\"#DejaVuSans-Oblique-62\"/><use transform=\"translate(564.6 .015625)\" xlink:href=\"#DejaVuSans-Oblique-69\"/><use transform=\"translate(592.38 .015625)\" xlink:href=\"#DejaVuSans-Oblique-74\"/></g></g><g clip-path=\"url(#p18dd4d3bfc)\"><g transform=\"translate(157.87 176.55) scale(.104 -.104)\"><use xlink:href=\"#DejaVuSans-31\"/></g></g><g clip-path=\"url(#p18dd4d3bfc)\"><g transform=\"translate(33.852 187.6) scale(.1625 -.1625)\"><defs><path id=\"DejaVuSans-73\" transform=\"scale(.015625)\" d=\"m2834 3397v-544q-243 125-506 187-262 63-544 63-428 0-642-131t-214-394q0-200 153-314t616-217l197-44q612-131 870-370t258-667q0-488-386-773-386-284-1061-284-281 0-586 55t-642 164v594q319-166 628-249 309-82 613-82 406 0 624 139 219 139 219 392 0 234-158 359-157 125-692 241l-200 47q-534 112-772 345-237 233-237 639 0 494 350 762 350 269 994 269 318 0 599-47 282-46 519-140z\"/><path id=\"DejaVuSans-79\" transform=\"scale(.015625)\" d=\"m2059-325q-243-625-475-815-231-191-618-191h-460v481h338q237 0 368 113 132 112 291 531l103 262-1415 3444h609l1094-2737 1094 2737h609l-1538-3825z\"/><path id=\"DejaVuSans-6e\" transform=\"scale(.015625)\" d=\"m3513 2113v-2113h-575v2094q0 497-194 743-194 247-581 247-466 0-735-297-269-296-269-809v-1978h-578v3500h578v-544q207 316 486 472 280 156 646 156 603 0 912-373 310-373 310-1098z\"/><path id=\"DejaVuSans-64\" transform=\"scale(.015625)\" d=\"m2906 2969v1894h575v-4863h-575v525q-181-312-458-464-276-152-664-152-634 0-1033 506-398 507-398 1332t398 1331q399 506 1033 506 388 0 664-152 277-151 458-463zm-1959-1222q0-634 261-995t717-361 718 361q263 361 263 995t-263 995q-262 361-718 361t-717-361-261-995z\"/><path id=\"DejaVuSans-72\" transform=\"scale(.015625)\" d=\"m2631 2963q-97 56-211 82-114 27-251 27-488 0-749-317t-261-911v-1844h-578v3500h578v-544q182 319 472 473 291 155 707 155 59 0 131-8 72-7 159-23l3-590z\"/><path id=\"DejaVuSans-6f\" transform=\"scale(.015625)\" d=\"m1959 3097q-462 0-731-361t-269-989 267-989q268-361 733-361 460 0 728 362 269 363 269 988 0 622-269 986-268 364-728 364zm0 487q750 0 1178-488 429-487 429-1349 0-859-429-1349-428-489-1178-489-753 0-1180 489-426 490-426 1349 0 862 426 1349 427 488 1180 488z\"/><path id=\"DejaVuSans-6d\" transform=\"scale(.015625)\" d=\"m3328 2828q216 388 516 572t706 184q547 0 844-383 297-382 297-1088v-2113h-578v2094q0 503-179 746-178 244-543 244-447 0-707-297-259-296-259-809v-1978h-578v2094q0 506-178 748t-550 242q-441 0-701-298-259-298-259-808v-1978h-578v3500h578v-544q197 322 472 475t653 153q382 0 649-194 267-193 395-562z\"/><path id=\"DejaVuSans-65\" transform=\"scale(.015625)\" d=\"m3597 1894v-281h-2644q38-594 358-905t892-311q331 0 642 81t618 244v-544q-310-131-635-200t-659-69q-838 0-1327 487-489 488-489 1320 0 859 464 1363 464 505 1252 505 706 0 1117-455 411-454 411-1235zm-575 169q-6 471-264 752-258 282-683 282-481 0-770-272t-333-766l2050 4z\"/><path id=\"DejaVuSans-62\" transform=\"scale(.015625)\" d=\"m3116 1747q0 634-261 995t-717 361q-457 0-718-361t-261-995 261-995 718-361q456 0 717 361t261 995zm-1957 1222q182 312 458 463 277 152 661 152 638 0 1036-506 399-506 399-1331t-399-1332q-398-506-1036-506-384 0-661 152-276 152-458 464v-525h-578v4863h578v-1894z\"/><path id=\"DejaVuSans-69\" transform=\"scale(.015625)\" d=\"m603 3500h575v-3500h-575v3500zm0 1363h575v-729h-575v729z\"/><path id=\"DejaVuSans-74\" transform=\"scale(.015625)\" d=\"m1172 4494v-994h1184v-447h-1184v-1900q0-428 117-550t477-122h590v-481h-590q-666 0-919 248-253 249-253 905v1900h-422v447h422v994h578z\"/></defs><use xlink:href=\"#DejaVuSans-73\"/><use x=\"52.099609\" xlink:href=\"#DejaVuSans-79\"/><use x=\"111.279297\" xlink:href=\"#DejaVuSans-6e\"/><use x=\"174.658203\" xlink:href=\"#DejaVuSans-64\"/><use x=\"238.134766\" xlink:href=\"#DejaVuSans-72\"/><use x=\"276.998047\" xlink:href=\"#DejaVuSans-6f\"/><use x=\"338.179688\" xlink:href=\"#DejaVuSans-6d\"/><use x=\"435.591797\" xlink:href=\"#DejaVuSans-65\"/><use x=\"497.115234\" xlink:href=\"#DejaVuSans-5f\"/><use x=\"547.115234\" xlink:href=\"#DejaVuSans-62\"/><use x=\"610.591797\" xlink:href=\"#DejaVuSans-69\"/><use x=\"638.375\" xlink:href=\"#DejaVuSans-74\"/></g></g><g clip-path=\"url(#p18dd4d3bfc)\"><g transform=\"translate(173.38 47.87) scale(.13 -.13)\" fill=\"#ffffff\"><defs><path id=\"DejaVuSans-48\" transform=\"scale(.015625)\" d=\"m628 4666h631v-1913h2294v1913h631v-4666h-631v2222h-2294v-2222h-631v4666z\"/></defs><use xlink:href=\"#DejaVuSans-48\"/></g></g><path d=\"m224.62 96.663v-12.052\" clip-path=\"url(#p18dd4d3bfc)\" fill=\"none\" stroke=\"#ffffff\" stroke-linecap=\"square\" stroke-width=\"2\"/><path d=\"m218.59 90.637h12.052\" clip-path=\"url(#p18dd4d3bfc)\" fill=\"none\" stroke=\"#ffffff\" stroke-linecap=\"square\" stroke-width=\"2\"/><path d=\"m270.97 143.02v-12.052\" clip-path=\"url(#p18dd4d3bfc)\" fill=\"none\" stroke=\"#ffffff\" stroke-linecap=\"square\" stroke-width=\"2\"/><path d=\"m264.95 136.99h12.052\" clip-path=\"url(#p18dd4d3bfc)\" fill=\"none\" stroke=\"#ffffff\" stroke-linecap=\"square\" stroke-width=\"2\"/><path d=\"m317.33 143.02v-12.052\" clip-path=\"url(#p18dd4d3bfc)\" fill=\"none\" stroke=\"#ffffff\" stroke-linecap=\"square\" stroke-width=\"2\"/><path d=\"m311.3 136.99h12.052\" clip-path=\"url(#p18dd4d3bfc)\" fill=\"none\" stroke=\"#ffffff\" stroke-linecap=\"square\" stroke-width=\"2\"/><g clip-path=\"url(#p18dd4d3bfc)\"><g transform=\"translate(375.27 176.55) scale(.104 -.104)\"><use xlink:href=\"#DejaVuSans-30\"/></g></g><defs><clipPath id=\"p18dd4d3bfc\"><rect x=\"7.2\" y=\"7.2\" width=\"387.07\" height=\"203.96\"/></clipPath></defs></svg>"
      ],
      "text/plain": [
       "<Figure size 698.184x367.889 with 1 Axes>"
      ]
     },
     "execution_count": 17,
     "metadata": {},
     "output_type": "execute_result"
    }
   ],
   "source": [
    "qc_init = QuantumCircuit(cq, lq, sb)\n",
    "qc_init.h(cq[0])\n",
    "qc_init.cx(cq[0], cq[1])\n",
    "\n",
    "qc_init.compose(qc).draw()"
   ]
  },
  {
   "cell_type": "code",
   "execution_count": 18,
   "metadata": {},
   "outputs": [
    {
     "name": "stdout",
     "output_type": "stream",
     "text": [
      "Results: {'0': 1024}\n"
     ]
    }
   ],
   "source": [
    "counts = execute(qc_init.compose(qc), Aer.get_backend('qasm_simulator')).result().get_counts()\n",
    "print('Results:', counts)"
   ]
  },
  {
   "cell_type": "code",
   "execution_count": 19,
   "metadata": {
    "tags": [
     "sanity-check"
    ]
   },
   "outputs": [],
   "source": [
    "# ...we can expect the same to be true also for\n",
    "# any superposition of |00⟩ and |11⟩...\n",
    "assert list(counts.keys()) == ['0']"
   ]
  },
  {
   "cell_type": "markdown",
   "metadata": {},
   "source": [
    "逆の結果は、$\\left|01\\right\\rangle$ や $\\left|10\\right\\rangle$、またはそれらの重ね合わせを初期状態として使うことで見つかります。"
   ]
  },
  {
   "cell_type": "code",
   "execution_count": 20,
   "metadata": {},
   "outputs": [
    {
     "data": {
      "image/svg+xml": [
       "<?xml version=\"1.0\" encoding=\"UTF-8\"?><!DOCTYPE svg  PUBLIC '-//W3C//DTD SVG 1.1//EN'  'http://www.w3.org/Graphics/SVG/1.1/DTD/svg11.dtd'><svg width=\"447.83pt\" height=\"218.36pt\" version=\"1.1\" viewBox=\"0 0 447.83 218.36\" xmlns=\"http://www.w3.org/2000/svg\" xmlns:xlink=\"http://www.w3.org/1999/xlink\"><defs><style type=\"text/css\">*{stroke-linejoin: round; stroke-linecap: butt}</style></defs><path d=\"m0 218.36h447.83v-218.36h-447.83z\" fill=\"#ffffff\"/><path d=\"m404.01 172.8h12.052l-6.026 8.6914z\" clip-path=\"url(#p1ab4d53d2d)\" fill=\"#778899\"/><path d=\"m153.23 44.283h282.76\" clip-path=\"url(#p1ab4d53d2d)\" fill=\"none\" stroke=\"#000000\" stroke-linecap=\"square\" stroke-width=\"2\"/><path d=\"m153.23 90.637h282.76\" clip-path=\"url(#p1ab4d53d2d)\" fill=\"none\" stroke=\"#000000\" stroke-linecap=\"square\" stroke-width=\"2\"/><path d=\"m153.23 136.99h282.76\" clip-path=\"url(#p1ab4d53d2d)\" fill=\"none\" stroke=\"#000000\" stroke-linecap=\"square\" stroke-width=\"2\"/><path d=\"m153.23 181.84h282.76\" clip-path=\"url(#p1ab4d53d2d)\" fill=\"none\" stroke=\"#778899\" stroke-linecap=\"square\" stroke-width=\"2\"/><path d=\"m153.23 184.85h282.76\" clip-path=\"url(#p1ab4d53d2d)\" fill=\"none\" stroke=\"#778899\" stroke-linecap=\"square\" stroke-width=\"2\"/><path d=\"m162.5 187.98 4.6354-9.2708\" clip-path=\"url(#p1ab4d53d2d)\" fill=\"none\" stroke=\"#778899\" stroke-linecap=\"square\"/><path d=\"m224.62 90.637v-46.354\" clip-path=\"url(#p1ab4d53d2d)\" fill=\"none\" stroke=\"#1192e8\" stroke-linecap=\"square\" stroke-width=\"2\"/><path d=\"m317.33 136.99v-92.708\" clip-path=\"url(#p1ab4d53d2d)\" fill=\"none\" stroke=\"#1192e8\" stroke-linecap=\"square\" stroke-width=\"2\"/><path d=\"m363.68 136.99v-46.354\" clip-path=\"url(#p1ab4d53d2d)\" fill=\"none\" stroke=\"#1192e8\" stroke-linecap=\"square\" stroke-width=\"2\"/><path d=\"m411.54 136.99v35.808\" clip-path=\"url(#p1ab4d53d2d)\" fill=\"none\" stroke=\"#778899\" stroke-linecap=\"square\" stroke-width=\"2\"/><path d=\"m408.53 136.99v35.808\" clip-path=\"url(#p1ab4d53d2d)\" fill=\"none\" stroke=\"#778899\" stroke-linecap=\"square\" stroke-width=\"2\"/><path d=\"m163.2 59.348h30.13v-30.13h-30.13z\" clip-path=\"url(#p1ab4d53d2d)\" fill=\"#1192e8\" stroke=\"#1192e8\" stroke-width=\"1.5\"/><path d=\"m224.62 48.803c1.1986 0 2.3482-0.4762 3.1958-1.3237 0.84753-0.84753 1.3237-1.9972 1.3237-3.1958 0-1.1986-0.4762-2.3482-1.3237-3.1958-0.84753-0.84753-1.9972-1.3237-3.1958-1.3237s-2.3482 0.4762-3.1958 1.3237c-0.84753 0.84753-1.3237 1.9972-1.3237 3.1958 0 1.1986 0.4762 2.3482 1.3237 3.1958 0.84753 0.84753 1.9972 1.3237 3.1958 1.3237z\" clip-path=\"url(#p1ab4d53d2d)\" fill=\"#1192e8\" stroke=\"#1192e8\" stroke-width=\"1.5\"/><path d=\"m224.62 101.18c2.7967 0 5.4792-1.1111 7.4568-3.0887 1.9776-1.9776 3.0887-4.6601 3.0887-7.4568 0-2.7967-1.1111-5.4792-3.0887-7.4568-1.9776-1.9776-4.6601-3.0887-7.4568-3.0887-2.7967 0-5.4792 1.1111-7.4568 3.0887-1.9776 1.9776-3.0887 4.6601-3.0887 7.4568 0 2.7967 1.1111 5.4792 3.0887 7.4568 1.9776 1.9776 4.6601 3.0887 7.4568 3.0887z\" clip-path=\"url(#p1ab4d53d2d)\" fill=\"#1192e8\" stroke=\"#1192e8\" stroke-width=\"2\"/><path d=\"m255.91 59.348h30.13v-30.13h-30.13z\" clip-path=\"url(#p1ab4d53d2d)\" fill=\"#005d5d\" stroke=\"#005d5d\" stroke-width=\"1.5\"/><path d=\"m317.33 48.803c1.1986 0 2.3482-0.4762 3.1958-1.3237 0.84753-0.84753 1.3237-1.9972 1.3237-3.1958 0-1.1986-0.4762-2.3482-1.3237-3.1958-0.84753-0.84753-1.9972-1.3237-3.1958-1.3237-1.1986 0-2.3482 0.4762-3.1958 1.3237-0.84753 0.84753-1.3237 1.9972-1.3237 3.1958 0 1.1986 0.4762 2.3482 1.3237 3.1958 0.84753 0.84753 1.9972 1.3237 3.1958 1.3237z\" clip-path=\"url(#p1ab4d53d2d)\" fill=\"#1192e8\" stroke=\"#1192e8\" stroke-width=\"1.5\"/><path d=\"m317.33 147.54c2.7967 0 5.4792-1.1111 7.4568-3.0887 1.9776-1.9776 3.0887-4.6601 3.0887-7.4568 0-2.7967-1.1111-5.4792-3.0887-7.4568s-4.6601-3.0887-7.4568-3.0887c-2.7967 0-5.4792 1.1111-7.4568 3.0887-1.9776 1.9776-3.0887 4.6601-3.0887 7.4568 0 2.7967 1.1111 5.4792 3.0887 7.4568 1.9776 1.9776 4.6601 3.0887 7.4568 3.0887z\" clip-path=\"url(#p1ab4d53d2d)\" fill=\"#1192e8\" stroke=\"#1192e8\" stroke-width=\"2\"/><path d=\"m363.68 95.157c1.1986 0 2.3482-0.4762 3.1958-1.3237 0.84753-0.84753 1.3237-1.9972 1.3237-3.1958s-0.4762-2.3482-1.3237-3.1958c-0.84753-0.84753-1.9972-1.3237-3.1958-1.3237-1.1986 0-2.3482 0.4762-3.1958 1.3237-0.84753 0.84753-1.3237 1.9972-1.3237 3.1958s0.4762 2.3482 1.3237 3.1958c0.84753 0.84753 1.9972 1.3237 3.1958 1.3237z\" clip-path=\"url(#p1ab4d53d2d)\" fill=\"#1192e8\" stroke=\"#1192e8\" stroke-width=\"1.5\"/><path d=\"m363.68 147.54c2.7967 0 5.4792-1.1111 7.4568-3.0887 1.9776-1.9776 3.0887-4.6601 3.0887-7.4568 0-2.7967-1.1111-5.4792-3.0887-7.4568-1.9776-1.9776-4.6601-3.0887-7.4568-3.0887-2.7967 0-5.4792 1.1111-7.4568 3.0887s-3.0887 4.6601-3.0887 7.4568c0 2.7967 1.1111 5.4792 3.0887 7.4568 1.9776 1.9776 4.6601 3.0887 7.4568 3.0887z\" clip-path=\"url(#p1ab4d53d2d)\" fill=\"#1192e8\" stroke=\"#1192e8\" stroke-width=\"2\"/><path d=\"m394.97 152.06h30.13v-30.13h-30.13z\" clip-path=\"url(#p1ab4d53d2d)\" fill=\"#121619\" stroke=\"#121619\" stroke-width=\"1.5\"/><path d=\"m420.58 141.51c0-2.7958-1.1118-5.4799-3.0887-7.4568s-4.661-3.0887-7.4568-3.0887-5.4799 1.1118-7.4568 3.0887-3.0887 4.661-3.0887 7.4568\" clip-path=\"url(#p1ab4d53d2d)\" fill=\"none\" stroke=\"#ffffff\" stroke-width=\"2\"/><path d=\"m410.03 141.51 10.546-10.546\" clip-path=\"url(#p1ab4d53d2d)\" fill=\"none\" stroke=\"#ffffff\" stroke-linecap=\"square\" stroke-width=\"2\"/><g clip-path=\"url(#p1ab4d53d2d)\"><g transform=\"translate(47.111 48.508) scale(.1625 -.1625)\"><defs><path id=\"DejaVuSans-Oblique-63\" transform=\"scale(.015625)\" d=\"m3431 3366-115-569q-207 150-440 225-232 75-482 75-275 0-524-97-248-97-417-275-269-272-416-638-146-365-146-756 0-472 236-703t717-231q237 0 504 72 268 72 558 215l-109-568q-250-103-514-155t-542-52q-697 0-1072 348-375 349-375 996 0 544 195 1002t580 823q262 250 615 378 354 128 772 128 244 0 484-55 241-54 491-163z\"/><path id=\"DejaVuSans-Oblique-6f\" transform=\"scale(.015625)\" d=\"m1625-91q-616 0-974 380-357 380-357 1036 0 381 123 776 124 396 321 665 309 418 690 618t863 200q597 0 964-372 367-371 367-971 0-416-122-829-122-412-319-684-306-419-687-619t-869-200zm-734 1435q0-475 198-711 199-236 602-236 578 0 957 504 380 505 380 1280 0 453-203 684-203 232-597 232-325 0-578-152-253-151-453-461-147-231-227-528-79-297-79-612z\"/><path id=\"DejaVuSans-Oblique-64\" transform=\"scale(.015625)\" d=\"m2675 525q-231-303-547-460-315-156-700-156-525 0-830 358-304 358-304 980 0 519 184 989 185 470 535 842 231 247 521 376 291 130 610 130 337 0 595-163 258-162 399-465l375 1907h578l-947-4863h-578l109 525zm-1784 825q0-453 204-706 205-253 568-253 268 0 498 129 230 130 405 383 184 263 290 606 107 344 107 679 0 434-205 677-205 244-564 244-272 0-507-128-234-128-399-368-182-260-290-604-107-343-107-659z\"/><path id=\"DejaVuSans-Oblique-65\" transform=\"scale(.015625)\" d=\"m3078 2063q10 50 14 103 5 53 5 106 0 381-224 603-223 222-607 222-428 0-757-271-328-270-496-767l2065 4zm500-450h-2675q-19-119-25-188t-6-119q0-434 267-672 267-237 755-237 375 0 709 84 335 85 622 247l-109-569q-310-125-640-187-329-63-670-63-728 0-1120 348-392 349-392 990 0 547 195 1017t574 839q243 231 579 356t714 125q594 0 945-356 352-356 352-956 0-144-19-308-18-164-56-351z\"/><path id=\"DejaVuSans-5f\" transform=\"scale(.015625)\" d=\"m3263-1063v-446h-3326v446h3326z\"/><path id=\"DejaVuSans-Oblique-71\" transform=\"scale(.015625)\" d=\"m2669 525q-231-303-546-460-314-156-695-156-531 0-833 358-301 358-301 986 0 506 186 978t533 847q225 244 517 375t614 131q387 0 637-153t363-462l100 525h578l-934-4813h-579l360 1844zm-1778 813q0-463 193-705 194-242 560-242 544 0 928 520t384 1264q0 450-199 689-198 239-569 239-272 0-504-127-231-126-403-370-181-256-286-600-104-343-104-668z\"/><path id=\"DejaVuSans-Oblique-75\" transform=\"scale(.015625)\" d=\"m428 1388 410 2112h578l-410-2091q-31-153-45-262t-14-181q0-266 162-412 163-145 460-145 462 0 799 312 338 313 441 842l385 1937h575l-678-3500h-575l115 550q-243-306-579-474-336-167-714-167-460 0-716 252t-256 702q0 93 15 234 16 141 47 291z\"/><path id=\"DejaVuSans-Oblique-62\" transform=\"scale(.015625)\" d=\"m3169 2138q0 453-208 709t-573 256q-266 0-499-130-233-129-405-376-181-259-286-602-104-342-104-682 0-432 204-677 205-245 565-245 271 0 502 126 232 127 407 374 178 256 287 596 110 341 110 651zm-1788 831q213 287 533 451t670 164q538 0 855-363 317-362 317-980 0-507-186-982t-529-843q-225-244-519-376-294-131-616-131-340 0-590 156-250 157-407 466l-103-531h-575l947 4863h575l-372-1894z\"/><path id=\"DejaVuSans-Oblique-69\" transform=\"scale(.015625)\" d=\"m1172 4863h575l-141-729h-575l141 729zm-263-1363h575l-684-3500h-575l684 3500z\"/><path id=\"DejaVuSans-Oblique-74\" transform=\"scale(.015625)\" d=\"m2706 3500-87-447h-1147l-372-1900q-19-106-28-178t-9-112q0-200 120-291t386-91h581l-97-481h-550q-512 0-764 200-251 200-251 606 0 72 9 158t28 189l372 1900h-488l91 447h478l194 994h575l-191-994h1150z\"/><path id=\"DejaVuSans-30\" transform=\"scale(.015625)\" d=\"m2034 4250q-487 0-733-480-245-479-245-1442 0-959 245-1439 246-480 733-480 491 0 736 480 246 480 246 1439 0 963-246 1442-245 480-736 480zm0 500q785 0 1199-621 414-620 414-1801 0-1178-414-1799-414-620-1199-620-784 0-1198 620-414 621-414 1799 0 1181 414 1801 414 621 1198 621z\"/></defs><use transform=\"translate(0 .015625)\" xlink:href=\"#DejaVuSans-Oblique-63\"/><use transform=\"translate(54.98 .015625)\" xlink:href=\"#DejaVuSans-Oblique-6f\"/><use transform=\"translate(116.16 .015625)\" xlink:href=\"#DejaVuSans-Oblique-64\"/><use transform=\"translate(179.64 .015625)\" xlink:href=\"#DejaVuSans-Oblique-65\"/><use transform=\"translate(241.16 .015625)\" xlink:href=\"#DejaVuSans-5f\"/><use transform=\"translate(291.16 .015625)\" xlink:href=\"#DejaVuSans-Oblique-71\"/><use transform=\"translate(354.64 .015625)\" xlink:href=\"#DejaVuSans-Oblique-75\"/><use transform=\"translate(418.02 .015625)\" xlink:href=\"#DejaVuSans-Oblique-62\"/><use transform=\"translate(481.49 .015625)\" xlink:href=\"#DejaVuSans-Oblique-69\"/><use transform=\"translate(509.28 .015625)\" xlink:href=\"#DejaVuSans-Oblique-74\"/><use transform=\"translate(548.49 -16.391) scale(.7)\" xlink:href=\"#DejaVuSans-30\"/></g></g><g clip-path=\"url(#p1ab4d53d2d)\"><g transform=\"translate(47.111 94.862) scale(.1625 -.1625)\"><defs><path id=\"DejaVuSans-31\" transform=\"scale(.015625)\" d=\"m794 531h1031v3560l-1122-225v575l1116 225h631v-4135h1031v-531h-2687v531z\"/></defs><use transform=\"translate(0 .015625)\" xlink:href=\"#DejaVuSans-Oblique-63\"/><use transform=\"translate(54.98 .015625)\" xlink:href=\"#DejaVuSans-Oblique-6f\"/><use transform=\"translate(116.16 .015625)\" xlink:href=\"#DejaVuSans-Oblique-64\"/><use transform=\"translate(179.64 .015625)\" xlink:href=\"#DejaVuSans-Oblique-65\"/><use transform=\"translate(241.16 .015625)\" xlink:href=\"#DejaVuSans-5f\"/><use transform=\"translate(291.16 .015625)\" xlink:href=\"#DejaVuSans-Oblique-71\"/><use transform=\"translate(354.64 .015625)\" xlink:href=\"#DejaVuSans-Oblique-75\"/><use transform=\"translate(418.02 .015625)\" xlink:href=\"#DejaVuSans-Oblique-62\"/><use transform=\"translate(481.49 .015625)\" xlink:href=\"#DejaVuSans-Oblique-69\"/><use transform=\"translate(509.28 .015625)\" xlink:href=\"#DejaVuSans-Oblique-74\"/><use transform=\"translate(548.49 -16.391) scale(.7)\" xlink:href=\"#DejaVuSans-31\"/></g></g><g clip-path=\"url(#p1ab4d53d2d)\"><g transform=\"translate(41.261 141.22) scale(.1625 -.1625)\"><defs><path id=\"DejaVuSans-Oblique-61\" transform=\"scale(.015625)\" d=\"m3438 1997-391-1997h-575l106 531q-253-312-577-467-323-155-720-155-447 0-733 273-285 274-285 702 0 613 489 969t1348 356h800l31 154q7 25 10 54 3 30 3 92 0 279-227 433-226 155-636 155-281 0-577-72-295-72-607-216l100 532q325 122 636 182 311 61 601 61 619 0 942-269 324-268 324-781 0-103-16-242-15-139-46-295zm-622-238h-575q-707 0-1046-189t-339-586q0-275 173-431 174-156 480-156 469 0 819 336t463 898l25 128z\"/><path id=\"DejaVuSans-Oblique-6e\" transform=\"scale(.015625)\" d=\"m3566 2113-410-2113h-578l410 2091q28 147 43 259 16 113 16 178 0 263-166 409-165 147-462 147-463 0-797-308-334-307-438-835l-384-1941h-575l678 3500h575l-115-550q240 303 577 468 338 166 710 166 463 0 717-250 255-250 255-703 0-112-14-240t-42-278z\"/><path id=\"DejaVuSans-Oblique-6c\" transform=\"scale(.015625)\" d=\"m1172 4863h575l-947-4863h-575l947 4863z\"/></defs><use transform=\"translate(0 .015625)\" xlink:href=\"#DejaVuSans-Oblique-61\"/><use transform=\"translate(61.279 .015625)\" xlink:href=\"#DejaVuSans-Oblique-6e\"/><use transform=\"translate(124.66 .015625)\" xlink:href=\"#DejaVuSans-Oblique-63\"/><use transform=\"translate(179.64 .015625)\" xlink:href=\"#DejaVuSans-Oblique-69\"/><use transform=\"translate(207.42 .015625)\" xlink:href=\"#DejaVuSans-Oblique-6c\"/><use transform=\"translate(235.21 .015625)\" xlink:href=\"#DejaVuSans-Oblique-6c\"/><use transform=\"translate(262.99 .015625)\" xlink:href=\"#DejaVuSans-Oblique-61\"/><use transform=\"translate(324.27 .015625)\" xlink:href=\"#DejaVuSans-5f\"/><use transform=\"translate(374.27 .015625)\" xlink:href=\"#DejaVuSans-Oblique-71\"/><use transform=\"translate(437.74 .015625)\" xlink:href=\"#DejaVuSans-Oblique-75\"/><use transform=\"translate(501.12 .015625)\" xlink:href=\"#DejaVuSans-Oblique-62\"/><use transform=\"translate(564.6 .015625)\" xlink:href=\"#DejaVuSans-Oblique-69\"/><use transform=\"translate(592.38 .015625)\" xlink:href=\"#DejaVuSans-Oblique-74\"/></g></g><g clip-path=\"url(#p1ab4d53d2d)\"><g transform=\"translate(157.87 176.55) scale(.104 -.104)\"><use xlink:href=\"#DejaVuSans-31\"/></g></g><g clip-path=\"url(#p1ab4d53d2d)\"><g transform=\"translate(33.852 187.6) scale(.1625 -.1625)\"><defs><path id=\"DejaVuSans-73\" transform=\"scale(.015625)\" d=\"m2834 3397v-544q-243 125-506 187-262 63-544 63-428 0-642-131t-214-394q0-200 153-314t616-217l197-44q612-131 870-370t258-667q0-488-386-773-386-284-1061-284-281 0-586 55t-642 164v594q319-166 628-249 309-82 613-82 406 0 624 139 219 139 219 392 0 234-158 359-157 125-692 241l-200 47q-534 112-772 345-237 233-237 639 0 494 350 762 350 269 994 269 318 0 599-47 282-46 519-140z\"/><path id=\"DejaVuSans-79\" transform=\"scale(.015625)\" d=\"m2059-325q-243-625-475-815-231-191-618-191h-460v481h338q237 0 368 113 132 112 291 531l103 262-1415 3444h609l1094-2737 1094 2737h609l-1538-3825z\"/><path id=\"DejaVuSans-6e\" transform=\"scale(.015625)\" d=\"m3513 2113v-2113h-575v2094q0 497-194 743-194 247-581 247-466 0-735-297-269-296-269-809v-1978h-578v3500h578v-544q207 316 486 472 280 156 646 156 603 0 912-373 310-373 310-1098z\"/><path id=\"DejaVuSans-64\" transform=\"scale(.015625)\" d=\"m2906 2969v1894h575v-4863h-575v525q-181-312-458-464-276-152-664-152-634 0-1033 506-398 507-398 1332t398 1331q399 506 1033 506 388 0 664-152 277-151 458-463zm-1959-1222q0-634 261-995t717-361 718 361q263 361 263 995t-263 995q-262 361-718 361t-717-361-261-995z\"/><path id=\"DejaVuSans-72\" transform=\"scale(.015625)\" d=\"m2631 2963q-97 56-211 82-114 27-251 27-488 0-749-317t-261-911v-1844h-578v3500h578v-544q182 319 472 473 291 155 707 155 59 0 131-8 72-7 159-23l3-590z\"/><path id=\"DejaVuSans-6f\" transform=\"scale(.015625)\" d=\"m1959 3097q-462 0-731-361t-269-989 267-989q268-361 733-361 460 0 728 362 269 363 269 988 0 622-269 986-268 364-728 364zm0 487q750 0 1178-488 429-487 429-1349 0-859-429-1349-428-489-1178-489-753 0-1180 489-426 490-426 1349 0 862 426 1349 427 488 1180 488z\"/><path id=\"DejaVuSans-6d\" transform=\"scale(.015625)\" d=\"m3328 2828q216 388 516 572t706 184q547 0 844-383 297-382 297-1088v-2113h-578v2094q0 503-179 746-178 244-543 244-447 0-707-297-259-296-259-809v-1978h-578v2094q0 506-178 748t-550 242q-441 0-701-298-259-298-259-808v-1978h-578v3500h578v-544q197 322 472 475t653 153q382 0 649-194 267-193 395-562z\"/><path id=\"DejaVuSans-65\" transform=\"scale(.015625)\" d=\"m3597 1894v-281h-2644q38-594 358-905t892-311q331 0 642 81t618 244v-544q-310-131-635-200t-659-69q-838 0-1327 487-489 488-489 1320 0 859 464 1363 464 505 1252 505 706 0 1117-455 411-454 411-1235zm-575 169q-6 471-264 752-258 282-683 282-481 0-770-272t-333-766l2050 4z\"/><path id=\"DejaVuSans-62\" transform=\"scale(.015625)\" d=\"m3116 1747q0 634-261 995t-717 361q-457 0-718-361t-261-995 261-995 718-361q456 0 717 361t261 995zm-1957 1222q182 312 458 463 277 152 661 152 638 0 1036-506 399-506 399-1331t-399-1332q-398-506-1036-506-384 0-661 152-276 152-458 464v-525h-578v4863h578v-1894z\"/><path id=\"DejaVuSans-69\" transform=\"scale(.015625)\" d=\"m603 3500h575v-3500h-575v3500zm0 1363h575v-729h-575v729z\"/><path id=\"DejaVuSans-74\" transform=\"scale(.015625)\" d=\"m1172 4494v-994h1184v-447h-1184v-1900q0-428 117-550t477-122h590v-481h-590q-666 0-919 248-253 249-253 905v1900h-422v447h422v994h578z\"/></defs><use xlink:href=\"#DejaVuSans-73\"/><use x=\"52.099609\" xlink:href=\"#DejaVuSans-79\"/><use x=\"111.279297\" xlink:href=\"#DejaVuSans-6e\"/><use x=\"174.658203\" xlink:href=\"#DejaVuSans-64\"/><use x=\"238.134766\" xlink:href=\"#DejaVuSans-72\"/><use x=\"276.998047\" xlink:href=\"#DejaVuSans-6f\"/><use x=\"338.179688\" xlink:href=\"#DejaVuSans-6d\"/><use x=\"435.591797\" xlink:href=\"#DejaVuSans-65\"/><use x=\"497.115234\" xlink:href=\"#DejaVuSans-5f\"/><use x=\"547.115234\" xlink:href=\"#DejaVuSans-62\"/><use x=\"610.591797\" xlink:href=\"#DejaVuSans-69\"/><use x=\"638.375\" xlink:href=\"#DejaVuSans-74\"/></g></g><g clip-path=\"url(#p1ab4d53d2d)\"><g transform=\"translate(173.38 47.87) scale(.13 -.13)\" fill=\"#ffffff\"><defs><path id=\"DejaVuSans-48\" transform=\"scale(.015625)\" d=\"m628 4666h631v-1913h2294v1913h631v-4666h-631v2222h-2294v-2222h-631v4666z\"/></defs><use xlink:href=\"#DejaVuSans-48\"/></g></g><path d=\"m224.62 96.663v-12.052\" clip-path=\"url(#p1ab4d53d2d)\" fill=\"none\" stroke=\"#ffffff\" stroke-linecap=\"square\" stroke-width=\"2\"/><path d=\"m218.59 90.637h12.052\" clip-path=\"url(#p1ab4d53d2d)\" fill=\"none\" stroke=\"#ffffff\" stroke-linecap=\"square\" stroke-width=\"2\"/><g clip-path=\"url(#p1ab4d53d2d)\"><g transform=\"translate(266.52 47.87) scale(.13 -.13)\" fill=\"#ffffff\"><defs><path id=\"DejaVuSans-58\" transform=\"scale(.015625)\" d=\"m403 4666h678l1160-1735 1165 1735h678l-1500-2241 1600-2425h-678l-1312 1984-1322-1984h-681l1665 2491-1453 2175z\"/></defs><use xlink:href=\"#DejaVuSans-58\"/></g></g><path d=\"m317.33 143.02v-12.052\" clip-path=\"url(#p1ab4d53d2d)\" fill=\"none\" stroke=\"#ffffff\" stroke-linecap=\"square\" stroke-width=\"2\"/><path d=\"m311.3 136.99h12.052\" clip-path=\"url(#p1ab4d53d2d)\" fill=\"none\" stroke=\"#ffffff\" stroke-linecap=\"square\" stroke-width=\"2\"/><path d=\"m363.68 143.02v-12.052\" clip-path=\"url(#p1ab4d53d2d)\" fill=\"none\" stroke=\"#ffffff\" stroke-linecap=\"square\" stroke-width=\"2\"/><path d=\"m357.65 136.99h12.052\" clip-path=\"url(#p1ab4d53d2d)\" fill=\"none\" stroke=\"#ffffff\" stroke-linecap=\"square\" stroke-width=\"2\"/><g clip-path=\"url(#p1ab4d53d2d)\"><g transform=\"translate(421.62 176.55) scale(.104 -.104)\"><use xlink:href=\"#DejaVuSans-30\"/></g></g><defs><clipPath id=\"p1ab4d53d2d\"><rect x=\"7.2\" y=\"7.2\" width=\"433.43\" height=\"203.96\"/></clipPath></defs></svg>"
      ],
      "text/plain": [
       "<Figure size 781.795x367.889 with 1 Axes>"
      ]
     },
     "execution_count": 20,
     "metadata": {},
     "output_type": "execute_result"
    }
   ],
   "source": [
    "qc_init = QuantumCircuit(cq, lq, sb)\n",
    "qc_init.h(cq[0])\n",
    "qc_init.cx(cq[0],cq[1])\n",
    "qc_init.x(cq[0])\n",
    "\n",
    "qc_init.compose(qc).draw()"
   ]
  },
  {
   "cell_type": "code",
   "execution_count": 21,
   "metadata": {},
   "outputs": [
    {
     "name": "stdout",
     "output_type": "stream",
     "text": [
      "Results: {'1': 1024}\n"
     ]
    }
   ],
   "source": [
    "counts = execute(qc_init.compose(qc), Aer.get_backend('qasm_simulator')).result().get_counts()\n",
    "print('Results:',counts)"
   ]
  },
  {
   "cell_type": "code",
   "execution_count": 22,
   "metadata": {
    "tags": [
     "sanity-check"
    ]
   },
   "outputs": [],
   "source": [
    "# In such cases the output is always '1'.\n",
    "assert list(counts.keys()) == ['1']"
   ]
  },
  {
   "cell_type": "markdown",
   "metadata": {},
   "source": [
    "この場合は、出力は常に `'1'` です。\n",
    "\n",
    "したがって、この測定は、複数の量子ビットの大局的性質について教えてくれます。具体的には、2つの符号量子ビットを調べ、それらの状態がz基底で同じか異なるかを判断します。$\\left|00\\right\\rangle$ と $\\left|11\\right\\rangle$ のように、z基底が同じ基底状態の場合 、測定値は単に `0` を返します。また、これらの重ね合わせに対しても同様です。これらの状態は決して区別されないため、このような重ね合わせは崩壊しません。\n",
    "\n",
    "同様に、z基底が異なる基底状態の場合、 `1` を返します。これは、$\\left|01\\right\\rangle$ や $\\left|10\\right\\rangle$、またはそれらの重ね合わせで発生します。\n",
    "\n",
    "ここで、反復符号内の物理量子ビットのすべての組にこのような「シンドローム測定」を適用するとします。もしそれらの状態が $\\left|0\\right\\rangle$ の反復や $\\left|1\\right\\rangle$ の反復、またはそれらの重ね合わせによって記述される場合、すべてのシンドローム測定値は `0` を返します。この結果から、我々の作成した状態は実際に望んだ状態を反復したものに符号化されているとわかり、エラーが発生していないと推測できます。一方で、一部のシンドローム測定値が `1` を返す場合、それはエラーの証拠です。したがって、これらの測定結果を使用して、出力結果の復号方法を決定できます。"
   ]
  },
  {
   "cell_type": "markdown",
   "metadata": {},
   "source": [
    "### 量子反復符号\n",
    "\n",
    "これで、反復符号の量子版がどのように実装されているかを正確に理解するのに十分な知識を得ました。\n",
    "\n",
    "このページでは、 [NCCR-SPIN/topological_codes](https://github.com/NCCR-SPIN/topological_codes)  パッケージを使用することにします。\n",
    "\n",
    "```\n",
    "pip install git+https://github.com/NCCR-SPIN/topological_codes.git\n",
    "```\n",
    "\n",
    "を実行し、カーネルを再起動することでインストールできます。"
   ]
  },
  {
   "cell_type": "code",
   "execution_count": 23,
   "metadata": {},
   "outputs": [],
   "source": [
    "from topological_codes import RepetitionCode\n",
    "from topological_codes import lookuptable_decoding\n",
    "from topological_codes import GraphDecoder"
   ]
  },
  {
   "cell_type": "markdown",
   "metadata": {},
   "source": [
    "論理量子ビットを符号化する物理量子ビットの数は自由に選択できます。最終的な読み出し測定の前に、論理量子ビットを保存する間に適用するシンドローム測定の巡(round)数を選択することもできます。最小サイズの非自明なケースから始めましょう。3回の反復と1巡のシンドローム測定です。反復符号の回路は、Qiskit-Ignisの `RepetitionCode` オブジェクトを使用して自動的に作成できます。"
   ]
  },
  {
   "cell_type": "code",
   "execution_count": 24,
   "metadata": {},
   "outputs": [],
   "source": [
    "n = 3\n",
    "T = 1\n",
    "\n",
    "code = RepetitionCode(n, T)"
   ]
  },
  {
   "cell_type": "markdown",
   "metadata": {},
   "source": [
    "これにより、符号量子ビットや補助量子ビットのレジスター名など、符号化のさまざまなプロパティを確認できます。"
   ]
  },
  {
   "cell_type": "markdown",
   "metadata": {},
   "source": [
    " `RepetitionCode` には、符号化を実装するための2つの量子回路が含まれます。2種類の構築可能な論理ビット値に対応します。以下に、それぞれ論理 `0` と `1` を示します。"
   ]
  },
  {
   "cell_type": "code",
   "execution_count": 25,
   "metadata": {},
   "outputs": [
    {
     "data": {
      "image/svg+xml": [
       "<?xml version=\"1.0\" encoding=\"UTF-8\"?><!DOCTYPE svg  PUBLIC '-//W3C//DTD SVG 1.1//EN'  'http://www.w3.org/Graphics/SVG/1.1/DTD/svg11.dtd'><svg width=\"608.44pt\" height=\"357.42pt\" version=\"1.1\" viewBox=\"0 0 608.44 357.42\" xmlns=\"http://www.w3.org/2000/svg\" xmlns:xlink=\"http://www.w3.org/1999/xlink\"><defs><style type=\"text/css\">*{stroke-linejoin: round; stroke-linecap: butt}</style></defs><path d=\"m0 357.42h608.44v-357.42h-608.44z\" fill=\"#ffffff\"/><path d=\"m379.2 311.86h12.052l-6.026 8.6914z\" clip-path=\"url(#p07e9427139)\" fill=\"#778899\"/><path d=\"m425.55 265.51h12.052l-6.026 8.6914z\" clip-path=\"url(#p07e9427139)\" fill=\"#778899\"/><path d=\"m471.91 265.51h12.052l-6.026 8.6914z\" clip-path=\"url(#p07e9427139)\" fill=\"#778899\"/><path d=\"m518.26 311.86h12.052l-6.026 8.6914z\" clip-path=\"url(#p07e9427139)\" fill=\"#778899\"/><path d=\"m564.62 311.86h12.052l-6.026 8.6914z\" clip-path=\"url(#p07e9427139)\" fill=\"#778899\"/><path d=\"m174.78 44.283h421.82\" clip-path=\"url(#p07e9427139)\" fill=\"none\" stroke=\"#000000\" stroke-linecap=\"square\" stroke-width=\"2\"/><path d=\"m174.78 90.637h421.82\" clip-path=\"url(#p07e9427139)\" fill=\"none\" stroke=\"#000000\" stroke-linecap=\"square\" stroke-width=\"2\"/><path d=\"m174.78 136.99h421.82\" clip-path=\"url(#p07e9427139)\" fill=\"none\" stroke=\"#000000\" stroke-linecap=\"square\" stroke-width=\"2\"/><path d=\"m174.78 183.35h421.82\" clip-path=\"url(#p07e9427139)\" fill=\"none\" stroke=\"#000000\" stroke-linecap=\"square\" stroke-width=\"2\"/><path d=\"m174.78 229.7h421.82\" clip-path=\"url(#p07e9427139)\" fill=\"none\" stroke=\"#000000\" stroke-linecap=\"square\" stroke-width=\"2\"/><path d=\"m174.78 274.55h421.82\" clip-path=\"url(#p07e9427139)\" fill=\"none\" stroke=\"#778899\" stroke-linecap=\"square\" stroke-width=\"2\"/><path d=\"m174.78 277.56h421.82\" clip-path=\"url(#p07e9427139)\" fill=\"none\" stroke=\"#778899\" stroke-linecap=\"square\" stroke-width=\"2\"/><path d=\"m174.78 320.9h421.82\" clip-path=\"url(#p07e9427139)\" fill=\"none\" stroke=\"#778899\" stroke-linecap=\"square\" stroke-width=\"2\"/><path d=\"m174.78 323.91h421.82\" clip-path=\"url(#p07e9427139)\" fill=\"none\" stroke=\"#778899\" stroke-linecap=\"square\" stroke-width=\"2\"/><path d=\"m184.05 280.69 4.6354-9.2708\" clip-path=\"url(#p07e9427139)\" fill=\"none\" stroke=\"#778899\" stroke-linecap=\"square\"/><path d=\"m184.05 327.04 4.6354-9.2708\" clip-path=\"url(#p07e9427139)\" fill=\"none\" stroke=\"#778899\" stroke-linecap=\"square\"/><path d=\"m199.81 136.99v-92.708\" clip-path=\"url(#p07e9427139)\" fill=\"none\" stroke=\"#1192e8\" stroke-linecap=\"square\" stroke-width=\"2\"/><path d=\"m246.16 183.35v-92.708\" clip-path=\"url(#p07e9427139)\" fill=\"none\" stroke=\"#1192e8\" stroke-linecap=\"square\" stroke-width=\"2\"/><path d=\"m292.52 183.35v-139.06\" clip-path=\"url(#p07e9427139)\" fill=\"none\" stroke=\"#1192e8\" stroke-linecap=\"square\" stroke-width=\"2\"/><path d=\"m338.87 229.7v-139.06\" clip-path=\"url(#p07e9427139)\" fill=\"none\" stroke=\"#1192e8\" stroke-linecap=\"square\" stroke-width=\"2\"/><path d=\"m386.73 136.99v174.87\" clip-path=\"url(#p07e9427139)\" fill=\"none\" stroke=\"#778899\" stroke-linecap=\"square\" stroke-width=\"2\"/><path d=\"m383.72 136.99v174.87\" clip-path=\"url(#p07e9427139)\" fill=\"none\" stroke=\"#778899\" stroke-linecap=\"square\" stroke-width=\"2\"/><path d=\"m433.09 44.283v221.22\" clip-path=\"url(#p07e9427139)\" fill=\"none\" stroke=\"#778899\" stroke-linecap=\"square\" stroke-width=\"2\"/><path d=\"m430.07 44.283v221.22\" clip-path=\"url(#p07e9427139)\" fill=\"none\" stroke=\"#778899\" stroke-linecap=\"square\" stroke-width=\"2\"/><path d=\"m479.44 90.637v174.87\" clip-path=\"url(#p07e9427139)\" fill=\"none\" stroke=\"#778899\" stroke-linecap=\"square\" stroke-width=\"2\"/><path d=\"m476.43 90.637v174.87\" clip-path=\"url(#p07e9427139)\" fill=\"none\" stroke=\"#778899\" stroke-linecap=\"square\" stroke-width=\"2\"/><path d=\"m525.79 183.35v128.52\" clip-path=\"url(#p07e9427139)\" fill=\"none\" stroke=\"#778899\" stroke-linecap=\"square\" stroke-width=\"2\"/><path d=\"m522.78 183.35v128.52\" clip-path=\"url(#p07e9427139)\" fill=\"none\" stroke=\"#778899\" stroke-linecap=\"square\" stroke-width=\"2\"/><path d=\"m572.15 229.7v82.162\" clip-path=\"url(#p07e9427139)\" fill=\"none\" stroke=\"#778899\" stroke-linecap=\"square\" stroke-width=\"2\"/><path d=\"m569.14 229.7v82.162\" clip-path=\"url(#p07e9427139)\" fill=\"none\" stroke=\"#778899\" stroke-linecap=\"square\" stroke-width=\"2\"/><path d=\"m199.81 141.51c1.1986 0 2.3482-0.4762 3.1958-1.3237s1.3237-1.9972 1.3237-3.1958c0-1.1986-0.4762-2.3482-1.3237-3.1958-0.84753-0.84753-1.9972-1.3237-3.1958-1.3237-1.1986 0-2.3482 0.4762-3.1958 1.3237-0.84753 0.84753-1.3237 1.9972-1.3237 3.1958 0 1.1986 0.4762 2.3482 1.3237 3.1958 0.84753 0.84753 1.9972 1.3237 3.1958 1.3237z\" clip-path=\"url(#p07e9427139)\" fill=\"#1192e8\" stroke=\"#1192e8\" stroke-width=\"1.5\"/><path d=\"m199.81 54.829c2.7967 0 5.4792-1.1111 7.4568-3.0887 1.9776-1.9776 3.0887-4.6601 3.0887-7.4568 0-2.7967-1.1111-5.4792-3.0887-7.4568-1.9776-1.9776-4.6601-3.0887-7.4568-3.0887-2.7967 0-5.4792 1.1111-7.4568 3.0887-1.9776 1.9776-3.0887 4.6601-3.0887 7.4568 0 2.7967 1.1111 5.4792 3.0887 7.4568 1.9776 1.9776 4.6601 3.0887 7.4568 3.0887z\" clip-path=\"url(#p07e9427139)\" fill=\"#1192e8\" stroke=\"#1192e8\" stroke-width=\"2\"/><path d=\"m246.16 187.86c1.1986 0 2.3482-0.4762 3.1958-1.3237 0.84753-0.84753 1.3237-1.9972 1.3237-3.1958 0-1.1986-0.4762-2.3482-1.3237-3.1958-0.84753-0.84753-1.9972-1.3237-3.1958-1.3237-1.1986 0-2.3482 0.4762-3.1958 1.3237s-1.3237 1.9972-1.3237 3.1958c0 1.1986 0.4762 2.3482 1.3237 3.1958 0.84753 0.84753 1.9972 1.3237 3.1958 1.3237z\" clip-path=\"url(#p07e9427139)\" fill=\"#1192e8\" stroke=\"#1192e8\" stroke-width=\"1.5\"/><path d=\"m246.16 101.18c2.7967 0 5.4792-1.1111 7.4568-3.0887 1.9776-1.9776 3.0887-4.6601 3.0887-7.4568 0-2.7967-1.1111-5.4792-3.0887-7.4568-1.9776-1.9776-4.6601-3.0887-7.4568-3.0887-2.7967 0-5.4792 1.1111-7.4568 3.0887-1.9776 1.9776-3.0887 4.6601-3.0887 7.4568 0 2.7967 1.1111 5.4792 3.0887 7.4568 1.9776 1.9776 4.6601 3.0887 7.4568 3.0887z\" clip-path=\"url(#p07e9427139)\" fill=\"#1192e8\" stroke=\"#1192e8\" stroke-width=\"2\"/><path d=\"m292.52 187.86c1.1986 0 2.3482-0.4762 3.1958-1.3237 0.84753-0.84753 1.3237-1.9972 1.3237-3.1958 0-1.1986-0.4762-2.3482-1.3237-3.1958-0.84753-0.84753-1.9972-1.3237-3.1958-1.3237s-2.3482 0.4762-3.1958 1.3237c-0.84753 0.84753-1.3237 1.9972-1.3237 3.1958 0 1.1986 0.4762 2.3482 1.3237 3.1958 0.84753 0.84753 1.9972 1.3237 3.1958 1.3237z\" clip-path=\"url(#p07e9427139)\" fill=\"#1192e8\" stroke=\"#1192e8\" stroke-width=\"1.5\"/><path d=\"m292.52 54.829c2.7967 0 5.4792-1.1111 7.4568-3.0887 1.9776-1.9776 3.0887-4.6601 3.0887-7.4568 0-2.7967-1.1111-5.4792-3.0887-7.4568-1.9776-1.9776-4.6601-3.0887-7.4568-3.0887s-5.4792 1.1111-7.4568 3.0887c-1.9776 1.9776-3.0887 4.6601-3.0887 7.4568 0 2.7967 1.1111 5.4792 3.0887 7.4568 1.9776 1.9776 4.6601 3.0887 7.4568 3.0887z\" clip-path=\"url(#p07e9427139)\" fill=\"#1192e8\" stroke=\"#1192e8\" stroke-width=\"2\"/><path d=\"m338.87 234.22c1.1986 0 2.3482-0.4762 3.1958-1.3237 0.84753-0.84753 1.3237-1.9972 1.3237-3.1958s-0.4762-2.3482-1.3237-3.1958c-0.84753-0.84753-1.9972-1.3237-3.1958-1.3237-1.1986 0-2.3482 0.4762-3.1958 1.3237-0.84753 0.84753-1.3237 1.9972-1.3237 3.1958s0.4762 2.3482 1.3237 3.1958c0.84753 0.84753 1.9972 1.3237 3.1958 1.3237z\" clip-path=\"url(#p07e9427139)\" fill=\"#1192e8\" stroke=\"#1192e8\" stroke-width=\"1.5\"/><path d=\"m338.87 101.18c2.7967 0 5.4792-1.1111 7.4568-3.0887 1.9776-1.9776 3.0887-4.6601 3.0887-7.4568 0-2.7967-1.1111-5.4792-3.0887-7.4568-1.9776-1.9776-4.6601-3.0887-7.4568-3.0887-2.7967 0-5.4792 1.1111-7.4568 3.0887-1.9776 1.9776-3.0887 4.6601-3.0887 7.4568 0 2.7967 1.1111 5.4792 3.0887 7.4568 1.9776 1.9776 4.6601 3.0887 7.4568 3.0887z\" clip-path=\"url(#p07e9427139)\" fill=\"#1192e8\" stroke=\"#1192e8\" stroke-width=\"2\"/><path d=\"m370.16 152.06h30.13v-30.13h-30.13z\" clip-path=\"url(#p07e9427139)\" fill=\"#121619\" stroke=\"#121619\" stroke-width=\"1.5\"/><path d=\"m395.77 141.51c0-2.7958-1.1118-5.4799-3.0887-7.4568s-4.661-3.0887-7.4568-3.0887-5.4799 1.1118-7.4568 3.0887-3.0887 4.661-3.0887 7.4568\" clip-path=\"url(#p07e9427139)\" fill=\"none\" stroke=\"#ffffff\" stroke-width=\"2\"/><path d=\"m385.23 141.51 10.546-10.546\" clip-path=\"url(#p07e9427139)\" fill=\"none\" stroke=\"#ffffff\" stroke-linecap=\"square\" stroke-width=\"2\"/><path d=\"m416.52 59.348h30.13v-30.13h-30.13z\" clip-path=\"url(#p07e9427139)\" fill=\"#121619\" stroke=\"#121619\" stroke-width=\"1.5\"/><path d=\"m442.13 48.803c0-2.7958-1.1118-5.4799-3.0887-7.4568s-4.661-3.0887-7.4568-3.0887-5.4799 1.1118-7.4568 3.0887-3.0887 4.661-3.0887 7.4568\" clip-path=\"url(#p07e9427139)\" fill=\"none\" stroke=\"#ffffff\" stroke-width=\"2\"/><path d=\"m431.58 48.803 10.546-10.546\" clip-path=\"url(#p07e9427139)\" fill=\"none\" stroke=\"#ffffff\" stroke-linecap=\"square\" stroke-width=\"2\"/><path d=\"m462.87 105.7h30.13v-30.13h-30.13z\" clip-path=\"url(#p07e9427139)\" fill=\"#121619\" stroke=\"#121619\" stroke-width=\"1.5\"/><path d=\"m488.48 95.157c0-2.7958-1.1118-5.4799-3.0887-7.4568s-4.661-3.0887-7.4568-3.0887c-2.7958 0-5.4799 1.1118-7.4568 3.0887s-3.0887 4.661-3.0887 7.4568\" clip-path=\"url(#p07e9427139)\" fill=\"none\" stroke=\"#ffffff\" stroke-width=\"2\"/><path d=\"m477.93 95.157 10.546-10.546\" clip-path=\"url(#p07e9427139)\" fill=\"none\" stroke=\"#ffffff\" stroke-linecap=\"square\" stroke-width=\"2\"/><path d=\"m509.22 198.41h30.13v-30.13h-30.13z\" clip-path=\"url(#p07e9427139)\" fill=\"#121619\" stroke=\"#121619\" stroke-width=\"1.5\"/><path d=\"m534.83 187.86c0-2.7958-1.1118-5.4799-3.0887-7.4568s-4.661-3.0887-7.4568-3.0887-5.4799 1.1118-7.4568 3.0887-3.0887 4.661-3.0887 7.4568\" clip-path=\"url(#p07e9427139)\" fill=\"none\" stroke=\"#ffffff\" stroke-width=\"2\"/><path d=\"m524.29 187.86 10.546-10.546\" clip-path=\"url(#p07e9427139)\" fill=\"none\" stroke=\"#ffffff\" stroke-linecap=\"square\" stroke-width=\"2\"/><path d=\"m555.58 244.76h30.13v-30.13h-30.13z\" clip-path=\"url(#p07e9427139)\" fill=\"#121619\" stroke=\"#121619\" stroke-width=\"1.5\"/><path d=\"m581.19 234.22c0-2.7958-1.1118-5.4799-3.0887-7.4568-1.9769-1.9769-4.661-3.0887-7.4568-3.0887s-5.4799 1.1118-7.4568 3.0887-3.0887 4.661-3.0887 7.4568\" clip-path=\"url(#p07e9427139)\" fill=\"none\" stroke=\"#ffffff\" stroke-width=\"2\"/><path d=\"m570.64 234.22 10.546-10.546\" clip-path=\"url(#p07e9427139)\" fill=\"none\" stroke=\"#ffffff\" stroke-linecap=\"square\" stroke-width=\"2\"/><g clip-path=\"url(#p07e9427139)\"><g transform=\"translate(79.058 48.508) scale(.1625 -.1625)\"><defs><path id=\"DejaVuSans-Oblique-6c\" transform=\"scale(.015625)\" d=\"m1172 4863h575l-947-4863h-575l947 4863z\"/><path id=\"DejaVuSans-Oblique-69\" transform=\"scale(.015625)\" d=\"m1172 4863h575l-141-729h-575l141 729zm-263-1363h575l-684-3500h-575l684 3500z\"/><path id=\"DejaVuSans-Oblique-6e\" transform=\"scale(.015625)\" d=\"m3566 2113-410-2113h-578l410 2091q28 147 43 259 16 113 16 178 0 263-166 409-165 147-462 147-463 0-797-308-334-307-438-835l-384-1941h-575l678 3500h575l-115-550q240 303 577 468 338 166 710 166 463 0 717-250 255-250 255-703 0-112-14-240t-42-278z\"/><path id=\"DejaVuSans-Oblique-6b\" transform=\"scale(.015625)\" d=\"m1172 4863h575l-550-2835 1972 1472h747l-2200-1675 1606-1825h-697l-1494 1709-331-1709h-575l947 4863z\"/><path id=\"DejaVuSans-5f\" transform=\"scale(.015625)\" d=\"m3263-1063v-446h-3326v446h3326z\"/><path id=\"DejaVuSans-Oblique-71\" transform=\"scale(.015625)\" d=\"m2669 525q-231-303-546-460-314-156-695-156-531 0-833 358-301 358-301 986 0 506 186 978t533 847q225 244 517 375t614 131q387 0 637-153t363-462l100 525h578l-934-4813h-579l360 1844zm-1778 813q0-463 193-705 194-242 560-242 544 0 928 520t384 1264q0 450-199 689-198 239-569 239-272 0-504-127-231-126-403-370-181-256-286-600-104-343-104-668z\"/><path id=\"DejaVuSans-Oblique-75\" transform=\"scale(.015625)\" d=\"m428 1388 410 2112h578l-410-2091q-31-153-45-262t-14-181q0-266 162-412 163-145 460-145 462 0 799 312 338 313 441 842l385 1937h575l-678-3500h-575l115 550q-243-306-579-474-336-167-714-167-460 0-716 252t-256 702q0 93 15 234 16 141 47 291z\"/><path id=\"DejaVuSans-Oblique-62\" transform=\"scale(.015625)\" d=\"m3169 2138q0 453-208 709t-573 256q-266 0-499-130-233-129-405-376-181-259-286-602-104-342-104-682 0-432 204-677 205-245 565-245 271 0 502 126 232 127 407 374 178 256 287 596 110 341 110 651zm-1788 831q213 287 533 451t670 164q538 0 855-363 317-362 317-980 0-507-186-982t-529-843q-225-244-519-376-294-131-616-131-340 0-590 156-250 157-407 466l-103-531h-575l947 4863h575l-372-1894z\"/><path id=\"DejaVuSans-Oblique-74\" transform=\"scale(.015625)\" d=\"m2706 3500-87-447h-1147l-372-1900q-19-106-28-178t-9-112q0-200 120-291t386-91h581l-97-481h-550q-512 0-764 200-251 200-251 606 0 72 9 158t28 189l372 1900h-488l91 447h478l194 994h575l-191-994h1150z\"/><path id=\"DejaVuSans-30\" transform=\"scale(.015625)\" d=\"m2034 4250q-487 0-733-480-245-479-245-1442 0-959 245-1439 246-480 733-480 491 0 736 480 246 480 246 1439 0 963-246 1442-245 480-736 480zm0 500q785 0 1199-621 414-620 414-1801 0-1178-414-1799-414-620-1199-620-784 0-1198 620-414 621-414 1799 0 1181 414 1801 414 621 1198 621z\"/></defs><use transform=\"translate(0 .015625)\" xlink:href=\"#DejaVuSans-Oblique-6c\"/><use transform=\"translate(27.783 .015625)\" xlink:href=\"#DejaVuSans-Oblique-69\"/><use transform=\"translate(55.566 .015625)\" xlink:href=\"#DejaVuSans-Oblique-6e\"/><use transform=\"translate(118.95 .015625)\" xlink:href=\"#DejaVuSans-Oblique-6b\"/><use transform=\"translate(176.86 .015625)\" xlink:href=\"#DejaVuSans-5f\"/><use transform=\"translate(226.86 .015625)\" xlink:href=\"#DejaVuSans-Oblique-71\"/><use transform=\"translate(290.33 .015625)\" xlink:href=\"#DejaVuSans-Oblique-75\"/><use transform=\"translate(353.71 .015625)\" xlink:href=\"#DejaVuSans-Oblique-62\"/><use transform=\"translate(417.19 .015625)\" xlink:href=\"#DejaVuSans-Oblique-69\"/><use transform=\"translate(444.97 .015625)\" xlink:href=\"#DejaVuSans-Oblique-74\"/><use transform=\"translate(484.18 -16.391) scale(.7)\" xlink:href=\"#DejaVuSans-30\"/></g></g><g clip-path=\"url(#p07e9427139)\"><g transform=\"translate(79.058 94.862) scale(.1625 -.1625)\"><defs><path id=\"DejaVuSans-31\" transform=\"scale(.015625)\" d=\"m794 531h1031v3560l-1122-225v575l1116 225h631v-4135h1031v-531h-2687v531z\"/></defs><use transform=\"translate(0 .015625)\" xlink:href=\"#DejaVuSans-Oblique-6c\"/><use transform=\"translate(27.783 .015625)\" xlink:href=\"#DejaVuSans-Oblique-69\"/><use transform=\"translate(55.566 .015625)\" xlink:href=\"#DejaVuSans-Oblique-6e\"/><use transform=\"translate(118.95 .015625)\" xlink:href=\"#DejaVuSans-Oblique-6b\"/><use transform=\"translate(176.86 .015625)\" xlink:href=\"#DejaVuSans-5f\"/><use transform=\"translate(226.86 .015625)\" xlink:href=\"#DejaVuSans-Oblique-71\"/><use transform=\"translate(290.33 .015625)\" xlink:href=\"#DejaVuSans-Oblique-75\"/><use transform=\"translate(353.71 .015625)\" xlink:href=\"#DejaVuSans-Oblique-62\"/><use transform=\"translate(417.19 .015625)\" xlink:href=\"#DejaVuSans-Oblique-69\"/><use transform=\"translate(444.97 .015625)\" xlink:href=\"#DejaVuSans-Oblique-74\"/><use transform=\"translate(484.18 -16.391) scale(.7)\" xlink:href=\"#DejaVuSans-31\"/></g></g><g clip-path=\"url(#p07e9427139)\"><g transform=\"translate(68.658 141.22) scale(.1625 -.1625)\"><defs><path id=\"DejaVuSans-Oblique-63\" transform=\"scale(.015625)\" d=\"m3431 3366-115-569q-207 150-440 225-232 75-482 75-275 0-524-97-248-97-417-275-269-272-416-638-146-365-146-756 0-472 236-703t717-231q237 0 504 72 268 72 558 215l-109-568q-250-103-514-155t-542-52q-697 0-1072 348-375 349-375 996 0 544 195 1002t580 823q262 250 615 378 354 128 772 128 244 0 484-55 241-54 491-163z\"/><path id=\"DejaVuSans-Oblique-6f\" transform=\"scale(.015625)\" d=\"m1625-91q-616 0-974 380-357 380-357 1036 0 381 123 776 124 396 321 665 309 418 690 618t863 200q597 0 964-372 367-371 367-971 0-416-122-829-122-412-319-684-306-419-687-619t-869-200zm-734 1435q0-475 198-711 199-236 602-236 578 0 957 504 380 505 380 1280 0 453-203 684-203 232-597 232-325 0-578-152-253-151-453-461-147-231-227-528-79-297-79-612z\"/><path id=\"DejaVuSans-Oblique-64\" transform=\"scale(.015625)\" d=\"m2675 525q-231-303-547-460-315-156-700-156-525 0-830 358-304 358-304 980 0 519 184 989 185 470 535 842 231 247 521 376 291 130 610 130 337 0 595-163 258-162 399-465l375 1907h578l-947-4863h-578l109 525zm-1784 825q0-453 204-706 205-253 568-253 268 0 498 129 230 130 405 383 184 263 290 606 107 344 107 679 0 434-205 677-205 244-564 244-272 0-507-128-234-128-399-368-182-260-290-604-107-343-107-659z\"/><path id=\"DejaVuSans-Oblique-65\" transform=\"scale(.015625)\" d=\"m3078 2063q10 50 14 103 5 53 5 106 0 381-224 603-223 222-607 222-428 0-757-271-328-270-496-767l2065 4zm500-450h-2675q-19-119-25-188t-6-119q0-434 267-672 267-237 755-237 375 0 709 84 335 85 622 247l-109-569q-310-125-640-187-329-63-670-63-728 0-1120 348-392 349-392 990 0 547 195 1017t574 839q243 231 579 356t714 125q594 0 945-356 352-356 352-956 0-144-19-308-18-164-56-351z\"/></defs><use transform=\"translate(0 .015625)\" xlink:href=\"#DejaVuSans-Oblique-63\"/><use transform=\"translate(54.98 .015625)\" xlink:href=\"#DejaVuSans-Oblique-6f\"/><use transform=\"translate(116.16 .015625)\" xlink:href=\"#DejaVuSans-Oblique-64\"/><use transform=\"translate(179.64 .015625)\" xlink:href=\"#DejaVuSans-Oblique-65\"/><use transform=\"translate(241.16 .015625)\" xlink:href=\"#DejaVuSans-5f\"/><use transform=\"translate(291.16 .015625)\" xlink:href=\"#DejaVuSans-Oblique-71\"/><use transform=\"translate(354.64 .015625)\" xlink:href=\"#DejaVuSans-Oblique-75\"/><use transform=\"translate(418.02 .015625)\" xlink:href=\"#DejaVuSans-Oblique-62\"/><use transform=\"translate(481.49 .015625)\" xlink:href=\"#DejaVuSans-Oblique-69\"/><use transform=\"translate(509.28 .015625)\" xlink:href=\"#DejaVuSans-Oblique-74\"/><use transform=\"translate(548.49 -16.391) scale(.7)\" xlink:href=\"#DejaVuSans-30\"/></g></g><g clip-path=\"url(#p07e9427139)\"><g transform=\"translate(68.658 187.57) scale(.1625 -.1625)\"><use transform=\"translate(0 .015625)\" xlink:href=\"#DejaVuSans-Oblique-63\"/><use transform=\"translate(54.98 .015625)\" xlink:href=\"#DejaVuSans-Oblique-6f\"/><use transform=\"translate(116.16 .015625)\" xlink:href=\"#DejaVuSans-Oblique-64\"/><use transform=\"translate(179.64 .015625)\" xlink:href=\"#DejaVuSans-Oblique-65\"/><use transform=\"translate(241.16 .015625)\" xlink:href=\"#DejaVuSans-5f\"/><use transform=\"translate(291.16 .015625)\" xlink:href=\"#DejaVuSans-Oblique-71\"/><use transform=\"translate(354.64 .015625)\" xlink:href=\"#DejaVuSans-Oblique-75\"/><use transform=\"translate(418.02 .015625)\" xlink:href=\"#DejaVuSans-Oblique-62\"/><use transform=\"translate(481.49 .015625)\" xlink:href=\"#DejaVuSans-Oblique-69\"/><use transform=\"translate(509.28 .015625)\" xlink:href=\"#DejaVuSans-Oblique-74\"/><use transform=\"translate(548.49 -16.391) scale(.7)\" xlink:href=\"#DejaVuSans-31\"/></g></g><g clip-path=\"url(#p07e9427139)\"><g transform=\"translate(68.658 233.92) scale(.1625 -.1625)\"><defs><path id=\"DejaVuSans-32\" transform=\"scale(.015625)\" d=\"m1228 531h2203v-531h-2962v531q359 372 979 998 621 627 780 809 303 340 423 576 121 236 121 464 0 372-261 606-261 235-680 235-297 0-627-103-329-103-704-313v638q381 153 712 231 332 78 607 78 725 0 1156-363 431-362 431-968 0-288-108-546-107-257-392-607-78-91-497-524-418-433-1181-1211z\"/></defs><use transform=\"translate(0 .015625)\" xlink:href=\"#DejaVuSans-Oblique-63\"/><use transform=\"translate(54.98 .015625)\" xlink:href=\"#DejaVuSans-Oblique-6f\"/><use transform=\"translate(116.16 .015625)\" xlink:href=\"#DejaVuSans-Oblique-64\"/><use transform=\"translate(179.64 .015625)\" xlink:href=\"#DejaVuSans-Oblique-65\"/><use transform=\"translate(241.16 .015625)\" xlink:href=\"#DejaVuSans-5f\"/><use transform=\"translate(291.16 .015625)\" xlink:href=\"#DejaVuSans-Oblique-71\"/><use transform=\"translate(354.64 .015625)\" xlink:href=\"#DejaVuSans-Oblique-75\"/><use transform=\"translate(418.02 .015625)\" xlink:href=\"#DejaVuSans-Oblique-62\"/><use transform=\"translate(481.49 .015625)\" xlink:href=\"#DejaVuSans-Oblique-69\"/><use transform=\"translate(509.28 .015625)\" xlink:href=\"#DejaVuSans-Oblique-74\"/><use transform=\"translate(548.49 -16.391) scale(.7)\" xlink:href=\"#DejaVuSans-32\"/></g></g><g clip-path=\"url(#p07e9427139)\"><g transform=\"translate(179.41 269.25) scale(.104 -.104)\"><use xlink:href=\"#DejaVuSans-32\"/></g></g><g clip-path=\"url(#p07e9427139)\"><g transform=\"translate(33.685 280.31) scale(.1625 -.1625)\"><defs><path id=\"DejaVuSans-72\" transform=\"scale(.015625)\" d=\"m2631 2963q-97 56-211 82-114 27-251 27-488 0-749-317t-261-911v-1844h-578v3500h578v-544q182 319 472 473 291 155 707 155 59 0 131-8 72-7 159-23l3-590z\"/><path id=\"DejaVuSans-6f\" transform=\"scale(.015625)\" d=\"m1959 3097q-462 0-731-361t-269-989 267-989q268-361 733-361 460 0 728 362 269 363 269 988 0 622-269 986-268 364-728 364zm0 487q750 0 1178-488 429-487 429-1349 0-859-429-1349-428-489-1178-489-753 0-1180 489-426 490-426 1349 0 862 426 1349 427 488 1180 488z\"/><path id=\"DejaVuSans-75\" transform=\"scale(.015625)\" d=\"m544 1381v2119h575v-2097q0-497 193-746 194-248 582-248 465 0 735 297 271 297 271 810v1984h575v-3500h-575v538q-209-319-486-474-276-155-642-155-603 0-916 375-312 375-312 1097zm1447 2203z\"/><path id=\"DejaVuSans-6e\" transform=\"scale(.015625)\" d=\"m3513 2113v-2113h-575v2094q0 497-194 743-194 247-581 247-466 0-735-297-269-296-269-809v-1978h-578v3500h578v-544q207 316 486 472 280 156 646 156 603 0 912-373 310-373 310-1098z\"/><path id=\"DejaVuSans-64\" transform=\"scale(.015625)\" d=\"m2906 2969v1894h575v-4863h-575v525q-181-312-458-464-276-152-664-152-634 0-1033 506-398 507-398 1332t398 1331q399 506 1033 506 388 0 664-152 277-151 458-463zm-1959-1222q0-634 261-995t717-361 718 361q263 361 263 995t-263 995q-262 361-718 361t-717-361-261-995z\"/><path id=\"DejaVuSans-6c\" transform=\"scale(.015625)\" d=\"m603 4863h575v-4863h-575v4863z\"/><path id=\"DejaVuSans-69\" transform=\"scale(.015625)\" d=\"m603 3500h575v-3500h-575v3500zm0 1363h575v-729h-575v729z\"/><path id=\"DejaVuSans-6b\" transform=\"scale(.015625)\" d=\"m581 4863h578v-2872l1716 1509h734l-1856-1637 1935-1863h-750l-1779 1709v-1709h-578v4863z\"/><path id=\"DejaVuSans-62\" transform=\"scale(.015625)\" d=\"m3116 1747q0 634-261 995t-717 361q-457 0-718-361t-261-995 261-995 718-361q456 0 717 361t261 995zm-1957 1222q182 312 458 463 277 152 661 152 638 0 1036-506 399-506 399-1331t-399-1332q-398-506-1036-506-384 0-661 152-276 152-458 464v-525h-578v4863h578v-1894z\"/><path id=\"DejaVuSans-74\" transform=\"scale(.015625)\" d=\"m1172 4494v-994h1184v-447h-1184v-1900q0-428 117-550t477-122h590v-481h-590q-666 0-919 248-253 249-253 905v1900h-422v447h422v994h578z\"/></defs><use xlink:href=\"#DejaVuSans-72\"/><use x=\"38.863281\" xlink:href=\"#DejaVuSans-6f\"/><use x=\"100.044922\" xlink:href=\"#DejaVuSans-75\"/><use x=\"163.423828\" xlink:href=\"#DejaVuSans-6e\"/><use x=\"226.802734\" xlink:href=\"#DejaVuSans-64\"/><use x=\"290.279297\" xlink:href=\"#DejaVuSans-5f\"/><use x=\"340.279297\" xlink:href=\"#DejaVuSans-30\"/><use x=\"403.902344\" xlink:href=\"#DejaVuSans-5f\"/><use x=\"453.902344\" xlink:href=\"#DejaVuSans-6c\"/><use x=\"481.685547\" xlink:href=\"#DejaVuSans-69\"/><use x=\"509.46875\" xlink:href=\"#DejaVuSans-6e\"/><use x=\"572.847656\" xlink:href=\"#DejaVuSans-6b\"/><use x=\"630.757812\" xlink:href=\"#DejaVuSans-5f\"/><use x=\"680.757812\" xlink:href=\"#DejaVuSans-62\"/><use x=\"744.234375\" xlink:href=\"#DejaVuSans-69\"/><use x=\"772.017578\" xlink:href=\"#DejaVuSans-74\"/></g></g><g clip-path=\"url(#p07e9427139)\"><g transform=\"translate(179.41 315.61) scale(.104 -.104)\"><defs><path id=\"DejaVuSans-33\" transform=\"scale(.015625)\" d=\"m2597 2516q453-97 707-404 255-306 255-756 0-690-475-1069-475-378-1350-378-293 0-604 58t-642 174v609q262-153 574-231 313-78 654-78 593 0 904 234t311 681q0 413-289 645-289 233-804 233h-544v519h569q465 0 712 186t247 536q0 359-255 551-254 193-729 193-260 0-557-57-297-56-653-174v562q360 100 674 150t592 50q719 0 1137-327 419-326 419-882 0-388-222-655t-631-370z\"/></defs><use xlink:href=\"#DejaVuSans-33\"/></g></g><g clip-path=\"url(#p07e9427139)\"><g transform=\"translate(96.989 326.67) scale(.1625 -.1625)\"><defs><path id=\"DejaVuSans-63\" transform=\"scale(.015625)\" d=\"m3122 3366v-538q-244 135-489 202t-495 67q-560 0-870-355-309-354-309-995t309-996q310-354 870-354 250 0 495 67t489 202v-532q-241-112-499-168-257-57-548-57-791 0-1257 497-465 497-465 1341 0 856 470 1346 471 491 1290 491 265 0 518-55 253-54 491-163z\"/><path id=\"DejaVuSans-65\" transform=\"scale(.015625)\" d=\"m3597 1894v-281h-2644q38-594 358-905t892-311q331 0 642 81t618 244v-544q-310-131-635-200t-659-69q-838 0-1327 487-489 488-489 1320 0 859 464 1363 464 505 1252 505 706 0 1117-455 411-454 411-1235zm-575 169q-6 471-264 752-258 282-683 282-481 0-770-272t-333-766l2050 4z\"/></defs><use xlink:href=\"#DejaVuSans-63\"/><use x=\"54.980469\" xlink:href=\"#DejaVuSans-6f\"/><use x=\"116.162109\" xlink:href=\"#DejaVuSans-64\"/><use x=\"179.638672\" xlink:href=\"#DejaVuSans-65\"/><use x=\"241.162109\" xlink:href=\"#DejaVuSans-5f\"/><use x=\"291.162109\" xlink:href=\"#DejaVuSans-62\"/><use x=\"354.638672\" xlink:href=\"#DejaVuSans-69\"/><use x=\"382.421875\" xlink:href=\"#DejaVuSans-74\"/></g></g><path d=\"m199.81 50.309v-12.052\" clip-path=\"url(#p07e9427139)\" fill=\"none\" stroke=\"#ffffff\" stroke-linecap=\"square\" stroke-width=\"2\"/><path d=\"m193.78 44.283h12.052\" clip-path=\"url(#p07e9427139)\" fill=\"none\" stroke=\"#ffffff\" stroke-linecap=\"square\" stroke-width=\"2\"/><path d=\"m246.16 96.663v-12.052\" clip-path=\"url(#p07e9427139)\" fill=\"none\" stroke=\"#ffffff\" stroke-linecap=\"square\" stroke-width=\"2\"/><path d=\"m240.14 90.637h12.052\" clip-path=\"url(#p07e9427139)\" fill=\"none\" stroke=\"#ffffff\" stroke-linecap=\"square\" stroke-width=\"2\"/><path d=\"m292.52 50.309v-12.052\" clip-path=\"url(#p07e9427139)\" fill=\"none\" stroke=\"#ffffff\" stroke-linecap=\"square\" stroke-width=\"2\"/><path d=\"m286.49 44.283h12.052\" clip-path=\"url(#p07e9427139)\" fill=\"none\" stroke=\"#ffffff\" stroke-linecap=\"square\" stroke-width=\"2\"/><path d=\"m338.87 96.663v-12.052\" clip-path=\"url(#p07e9427139)\" fill=\"none\" stroke=\"#ffffff\" stroke-linecap=\"square\" stroke-width=\"2\"/><path d=\"m332.85 90.637h12.052\" clip-path=\"url(#p07e9427139)\" fill=\"none\" stroke=\"#ffffff\" stroke-linecap=\"square\" stroke-width=\"2\"/><g clip-path=\"url(#p07e9427139)\"><g transform=\"translate(396.81 315.61) scale(.104 -.104)\"><use xlink:href=\"#DejaVuSans-30\"/></g></g><g clip-path=\"url(#p07e9427139)\"><g transform=\"translate(443.17 269.25) scale(.104 -.104)\"><use xlink:href=\"#DejaVuSans-30\"/></g></g><g clip-path=\"url(#p07e9427139)\"><g transform=\"translate(489.52 269.25) scale(.104 -.104)\"><use xlink:href=\"#DejaVuSans-31\"/></g></g><g clip-path=\"url(#p07e9427139)\"><g transform=\"translate(535.88 315.61) scale(.104 -.104)\"><use xlink:href=\"#DejaVuSans-31\"/></g></g><g clip-path=\"url(#p07e9427139)\"><g transform=\"translate(582.23 315.61) scale(.104 -.104)\"><use xlink:href=\"#DejaVuSans-32\"/></g></g><defs><clipPath id=\"p07e9427139\"><rect x=\"7.2\" y=\"7.2\" width=\"594.04\" height=\"343.02\"/></clipPath></defs></svg>"
      ],
      "text/plain": [
       "<Figure size 1071.49x618.722 with 1 Axes>"
      ]
     },
     "execution_count": 25,
     "metadata": {},
     "output_type": "execute_result"
    }
   ],
   "source": [
    "code.circuit['0'].draw()"
   ]
  },
  {
   "cell_type": "code",
   "execution_count": 26,
   "metadata": {},
   "outputs": [
    {
     "data": {
      "image/svg+xml": [
       "<?xml version=\"1.0\" encoding=\"UTF-8\"?><!DOCTYPE svg  PUBLIC '-//W3C//DTD SVG 1.1//EN'  'http://www.w3.org/Graphics/SVG/1.1/DTD/svg11.dtd'><svg width=\"654.79pt\" height=\"357.42pt\" version=\"1.1\" viewBox=\"0 0 654.79 357.42\" xmlns=\"http://www.w3.org/2000/svg\" xmlns:xlink=\"http://www.w3.org/1999/xlink\"><defs><style type=\"text/css\">*{stroke-linejoin: round; stroke-linecap: butt}</style></defs><path d=\"m0 357.42h654.79v-357.42h-654.79z\" fill=\"#ffffff\"/><path d=\"m425.55 311.86h12.052l-6.026 8.6914z\" clip-path=\"url(#p9d05ac07af)\" fill=\"#778899\"/><path d=\"m471.91 265.51h12.052l-6.026 8.6914z\" clip-path=\"url(#p9d05ac07af)\" fill=\"#778899\"/><path d=\"m518.26 265.51h12.052l-6.026 8.6914z\" clip-path=\"url(#p9d05ac07af)\" fill=\"#778899\"/><path d=\"m564.62 311.86h12.052l-6.026 8.6914z\" clip-path=\"url(#p9d05ac07af)\" fill=\"#778899\"/><path d=\"m610.97 311.86h12.052l-6.026 8.6914z\" clip-path=\"url(#p9d05ac07af)\" fill=\"#778899\"/><path d=\"m174.78 44.283h468.18\" clip-path=\"url(#p9d05ac07af)\" fill=\"none\" stroke=\"#000000\" stroke-linecap=\"square\" stroke-width=\"2\"/><path d=\"m174.78 90.637h468.18\" clip-path=\"url(#p9d05ac07af)\" fill=\"none\" stroke=\"#000000\" stroke-linecap=\"square\" stroke-width=\"2\"/><path d=\"m174.78 136.99h468.18\" clip-path=\"url(#p9d05ac07af)\" fill=\"none\" stroke=\"#000000\" stroke-linecap=\"square\" stroke-width=\"2\"/><path d=\"m174.78 183.35h468.18\" clip-path=\"url(#p9d05ac07af)\" fill=\"none\" stroke=\"#000000\" stroke-linecap=\"square\" stroke-width=\"2\"/><path d=\"m174.78 229.7h468.18\" clip-path=\"url(#p9d05ac07af)\" fill=\"none\" stroke=\"#000000\" stroke-linecap=\"square\" stroke-width=\"2\"/><path d=\"m174.78 274.55h468.18\" clip-path=\"url(#p9d05ac07af)\" fill=\"none\" stroke=\"#778899\" stroke-linecap=\"square\" stroke-width=\"2\"/><path d=\"m174.78 277.56h468.18\" clip-path=\"url(#p9d05ac07af)\" fill=\"none\" stroke=\"#778899\" stroke-linecap=\"square\" stroke-width=\"2\"/><path d=\"m174.78 320.9h468.18\" clip-path=\"url(#p9d05ac07af)\" fill=\"none\" stroke=\"#778899\" stroke-linecap=\"square\" stroke-width=\"2\"/><path d=\"m174.78 323.91h468.18\" clip-path=\"url(#p9d05ac07af)\" fill=\"none\" stroke=\"#778899\" stroke-linecap=\"square\" stroke-width=\"2\"/><path d=\"m184.05 280.69 4.6354-9.2708\" clip-path=\"url(#p9d05ac07af)\" fill=\"none\" stroke=\"#778899\" stroke-linecap=\"square\"/><path d=\"m184.05 327.04 4.6354-9.2708\" clip-path=\"url(#p9d05ac07af)\" fill=\"none\" stroke=\"#778899\" stroke-linecap=\"square\"/><path d=\"m246.16 136.99v-92.708\" clip-path=\"url(#p9d05ac07af)\" fill=\"none\" stroke=\"#1192e8\" stroke-linecap=\"square\" stroke-width=\"2\"/><path d=\"m292.52 183.35v-92.708\" clip-path=\"url(#p9d05ac07af)\" fill=\"none\" stroke=\"#1192e8\" stroke-linecap=\"square\" stroke-width=\"2\"/><path d=\"m338.87 183.35v-139.06\" clip-path=\"url(#p9d05ac07af)\" fill=\"none\" stroke=\"#1192e8\" stroke-linecap=\"square\" stroke-width=\"2\"/><path d=\"m385.23 229.7v-139.06\" clip-path=\"url(#p9d05ac07af)\" fill=\"none\" stroke=\"#1192e8\" stroke-linecap=\"square\" stroke-width=\"2\"/><path d=\"m433.09 136.99v174.87\" clip-path=\"url(#p9d05ac07af)\" fill=\"none\" stroke=\"#778899\" stroke-linecap=\"square\" stroke-width=\"2\"/><path d=\"m430.07 136.99v174.87\" clip-path=\"url(#p9d05ac07af)\" fill=\"none\" stroke=\"#778899\" stroke-linecap=\"square\" stroke-width=\"2\"/><path d=\"m479.44 44.283v221.22\" clip-path=\"url(#p9d05ac07af)\" fill=\"none\" stroke=\"#778899\" stroke-linecap=\"square\" stroke-width=\"2\"/><path d=\"m476.43 44.283v221.22\" clip-path=\"url(#p9d05ac07af)\" fill=\"none\" stroke=\"#778899\" stroke-linecap=\"square\" stroke-width=\"2\"/><path d=\"m525.79 90.637v174.87\" clip-path=\"url(#p9d05ac07af)\" fill=\"none\" stroke=\"#778899\" stroke-linecap=\"square\" stroke-width=\"2\"/><path d=\"m522.78 90.637v174.87\" clip-path=\"url(#p9d05ac07af)\" fill=\"none\" stroke=\"#778899\" stroke-linecap=\"square\" stroke-width=\"2\"/><path d=\"m572.15 183.35v128.52\" clip-path=\"url(#p9d05ac07af)\" fill=\"none\" stroke=\"#778899\" stroke-linecap=\"square\" stroke-width=\"2\"/><path d=\"m569.14 183.35v128.52\" clip-path=\"url(#p9d05ac07af)\" fill=\"none\" stroke=\"#778899\" stroke-linecap=\"square\" stroke-width=\"2\"/><path d=\"m618.5 229.7v82.162\" clip-path=\"url(#p9d05ac07af)\" fill=\"none\" stroke=\"#778899\" stroke-linecap=\"square\" stroke-width=\"2\"/><path d=\"m615.49 229.7v82.162\" clip-path=\"url(#p9d05ac07af)\" fill=\"none\" stroke=\"#778899\" stroke-linecap=\"square\" stroke-width=\"2\"/><path d=\"m184.75 152.06h30.13v-30.13h-30.13z\" clip-path=\"url(#p9d05ac07af)\" fill=\"#005d5d\" stroke=\"#005d5d\" stroke-width=\"1.5\"/><path d=\"m184.75 198.41h30.13v-30.13h-30.13z\" clip-path=\"url(#p9d05ac07af)\" fill=\"#005d5d\" stroke=\"#005d5d\" stroke-width=\"1.5\"/><path d=\"m184.75 244.76h30.13v-30.13h-30.13z\" clip-path=\"url(#p9d05ac07af)\" fill=\"#005d5d\" stroke=\"#005d5d\" stroke-width=\"1.5\"/><path d=\"m246.16 141.51c1.1986 0 2.3482-0.4762 3.1958-1.3237 0.84753-0.84753 1.3237-1.9972 1.3237-3.1958 0-1.1986-0.4762-2.3482-1.3237-3.1958-0.84753-0.84753-1.9972-1.3237-3.1958-1.3237-1.1986 0-2.3482 0.4762-3.1958 1.3237-0.84753 0.84753-1.3237 1.9972-1.3237 3.1958 0 1.1986 0.4762 2.3482 1.3237 3.1958s1.9972 1.3237 3.1958 1.3237z\" clip-path=\"url(#p9d05ac07af)\" fill=\"#1192e8\" stroke=\"#1192e8\" stroke-width=\"1.5\"/><path d=\"m246.16 54.829c2.7967 0 5.4792-1.1111 7.4568-3.0887 1.9776-1.9776 3.0887-4.6601 3.0887-7.4568 0-2.7967-1.1111-5.4792-3.0887-7.4568-1.9776-1.9776-4.6601-3.0887-7.4568-3.0887-2.7967 0-5.4792 1.1111-7.4568 3.0887-1.9776 1.9776-3.0887 4.6601-3.0887 7.4568 0 2.7967 1.1111 5.4792 3.0887 7.4568 1.9776 1.9776 4.6601 3.0887 7.4568 3.0887z\" clip-path=\"url(#p9d05ac07af)\" fill=\"#1192e8\" stroke=\"#1192e8\" stroke-width=\"2\"/><path d=\"m292.52 187.86c1.1986 0 2.3482-0.4762 3.1958-1.3237 0.84753-0.84753 1.3237-1.9972 1.3237-3.1958 0-1.1986-0.4762-2.3482-1.3237-3.1958-0.84753-0.84753-1.9972-1.3237-3.1958-1.3237s-2.3482 0.4762-3.1958 1.3237c-0.84753 0.84753-1.3237 1.9972-1.3237 3.1958 0 1.1986 0.4762 2.3482 1.3237 3.1958 0.84753 0.84753 1.9972 1.3237 3.1958 1.3237z\" clip-path=\"url(#p9d05ac07af)\" fill=\"#1192e8\" stroke=\"#1192e8\" stroke-width=\"1.5\"/><path d=\"m292.52 101.18c2.7967 0 5.4792-1.1111 7.4568-3.0887 1.9776-1.9776 3.0887-4.6601 3.0887-7.4568 0-2.7967-1.1111-5.4792-3.0887-7.4568-1.9776-1.9776-4.6601-3.0887-7.4568-3.0887s-5.4792 1.1111-7.4568 3.0887c-1.9776 1.9776-3.0887 4.6601-3.0887 7.4568 0 2.7967 1.1111 5.4792 3.0887 7.4568 1.9776 1.9776 4.6601 3.0887 7.4568 3.0887z\" clip-path=\"url(#p9d05ac07af)\" fill=\"#1192e8\" stroke=\"#1192e8\" stroke-width=\"2\"/><path d=\"m338.87 187.86c1.1986 0 2.3482-0.4762 3.1958-1.3237 0.84753-0.84753 1.3237-1.9972 1.3237-3.1958 0-1.1986-0.4762-2.3482-1.3237-3.1958s-1.9972-1.3237-3.1958-1.3237c-1.1986 0-2.3482 0.4762-3.1958 1.3237-0.84753 0.84753-1.3237 1.9972-1.3237 3.1958 0 1.1986 0.4762 2.3482 1.3237 3.1958 0.84753 0.84753 1.9972 1.3237 3.1958 1.3237z\" clip-path=\"url(#p9d05ac07af)\" fill=\"#1192e8\" stroke=\"#1192e8\" stroke-width=\"1.5\"/><path d=\"m338.87 54.829c2.7967 0 5.4792-1.1111 7.4568-3.0887 1.9776-1.9776 3.0887-4.6601 3.0887-7.4568 0-2.7967-1.1111-5.4792-3.0887-7.4568-1.9776-1.9776-4.6601-3.0887-7.4568-3.0887-2.7967 0-5.4792 1.1111-7.4568 3.0887-1.9776 1.9776-3.0887 4.6601-3.0887 7.4568 0 2.7967 1.1111 5.4792 3.0887 7.4568 1.9776 1.9776 4.6601 3.0887 7.4568 3.0887z\" clip-path=\"url(#p9d05ac07af)\" fill=\"#1192e8\" stroke=\"#1192e8\" stroke-width=\"2\"/><path d=\"m385.23 234.22c1.1986 0 2.3482-0.4762 3.1958-1.3237 0.84753-0.84753 1.3237-1.9972 1.3237-3.1958s-0.4762-2.3482-1.3237-3.1958c-0.84753-0.84753-1.9972-1.3237-3.1958-1.3237-1.1986 0-2.3482 0.4762-3.1958 1.3237-0.84753 0.84753-1.3237 1.9972-1.3237 3.1958s0.4762 2.3482 1.3237 3.1958c0.84753 0.84753 1.9972 1.3237 3.1958 1.3237z\" clip-path=\"url(#p9d05ac07af)\" fill=\"#1192e8\" stroke=\"#1192e8\" stroke-width=\"1.5\"/><path d=\"m385.23 101.18c2.7967 0 5.4792-1.1111 7.4568-3.0887 1.9776-1.9776 3.0887-4.6601 3.0887-7.4568 0-2.7967-1.1111-5.4792-3.0887-7.4568-1.9776-1.9776-4.6601-3.0887-7.4568-3.0887-2.7967 0-5.4792 1.1111-7.4568 3.0887-1.9776 1.9776-3.0887 4.6601-3.0887 7.4568 0 2.7967 1.1111 5.4792 3.0887 7.4568 1.9776 1.9776 4.6601 3.0887 7.4568 3.0887z\" clip-path=\"url(#p9d05ac07af)\" fill=\"#1192e8\" stroke=\"#1192e8\" stroke-width=\"2\"/><path d=\"m416.52 152.06h30.13v-30.13h-30.13z\" clip-path=\"url(#p9d05ac07af)\" fill=\"#121619\" stroke=\"#121619\" stroke-width=\"1.5\"/><path d=\"m442.13 141.51c0-2.7958-1.1118-5.4799-3.0887-7.4568s-4.661-3.0887-7.4568-3.0887-5.4799 1.1118-7.4568 3.0887-3.0887 4.661-3.0887 7.4568\" clip-path=\"url(#p9d05ac07af)\" fill=\"none\" stroke=\"#ffffff\" stroke-width=\"2\"/><path d=\"m431.58 141.51 10.546-10.546\" clip-path=\"url(#p9d05ac07af)\" fill=\"none\" stroke=\"#ffffff\" stroke-linecap=\"square\" stroke-width=\"2\"/><path d=\"m462.87 59.348h30.13v-30.13h-30.13z\" clip-path=\"url(#p9d05ac07af)\" fill=\"#121619\" stroke=\"#121619\" stroke-width=\"1.5\"/><path d=\"m488.48 48.803c0-2.7958-1.1118-5.4799-3.0887-7.4568s-4.661-3.0887-7.4568-3.0887c-2.7958 0-5.4799 1.1118-7.4568 3.0887s-3.0887 4.661-3.0887 7.4568\" clip-path=\"url(#p9d05ac07af)\" fill=\"none\" stroke=\"#ffffff\" stroke-width=\"2\"/><path d=\"m477.93 48.803 10.546-10.546\" clip-path=\"url(#p9d05ac07af)\" fill=\"none\" stroke=\"#ffffff\" stroke-linecap=\"square\" stroke-width=\"2\"/><path d=\"m509.22 105.7h30.13v-30.13h-30.13z\" clip-path=\"url(#p9d05ac07af)\" fill=\"#121619\" stroke=\"#121619\" stroke-width=\"1.5\"/><path d=\"m534.83 95.157c0-2.7958-1.1118-5.4799-3.0887-7.4568s-4.661-3.0887-7.4568-3.0887-5.4799 1.1118-7.4568 3.0887-3.0887 4.661-3.0887 7.4568\" clip-path=\"url(#p9d05ac07af)\" fill=\"none\" stroke=\"#ffffff\" stroke-width=\"2\"/><path d=\"m524.29 95.157 10.546-10.546\" clip-path=\"url(#p9d05ac07af)\" fill=\"none\" stroke=\"#ffffff\" stroke-linecap=\"square\" stroke-width=\"2\"/><path d=\"m555.58 198.41h30.13v-30.13h-30.13z\" clip-path=\"url(#p9d05ac07af)\" fill=\"#121619\" stroke=\"#121619\" stroke-width=\"1.5\"/><path d=\"m581.19 187.86c0-2.7958-1.1118-5.4799-3.0887-7.4568-1.9769-1.9769-4.661-3.0887-7.4568-3.0887s-5.4799 1.1118-7.4568 3.0887-3.0887 4.661-3.0887 7.4568\" clip-path=\"url(#p9d05ac07af)\" fill=\"none\" stroke=\"#ffffff\" stroke-width=\"2\"/><path d=\"m570.64 187.86 10.546-10.546\" clip-path=\"url(#p9d05ac07af)\" fill=\"none\" stroke=\"#ffffff\" stroke-linecap=\"square\" stroke-width=\"2\"/><path d=\"m601.93 244.76h30.13v-30.13h-30.13z\" clip-path=\"url(#p9d05ac07af)\" fill=\"#121619\" stroke=\"#121619\" stroke-width=\"1.5\"/><path d=\"m627.54 234.22c0-2.7958-1.1118-5.4799-3.0887-7.4568s-4.661-3.0887-7.4568-3.0887-5.4799 1.1118-7.4568 3.0887c-1.9769 1.9769-3.0887 4.661-3.0887 7.4568\" clip-path=\"url(#p9d05ac07af)\" fill=\"none\" stroke=\"#ffffff\" stroke-width=\"2\"/><path d=\"m617 234.22 10.546-10.546\" clip-path=\"url(#p9d05ac07af)\" fill=\"none\" stroke=\"#ffffff\" stroke-linecap=\"square\" stroke-width=\"2\"/><g clip-path=\"url(#p9d05ac07af)\"><g transform=\"translate(79.058 48.508) scale(.1625 -.1625)\"><defs><path id=\"DejaVuSans-Oblique-6c\" transform=\"scale(.015625)\" d=\"m1172 4863h575l-947-4863h-575l947 4863z\"/><path id=\"DejaVuSans-Oblique-69\" transform=\"scale(.015625)\" d=\"m1172 4863h575l-141-729h-575l141 729zm-263-1363h575l-684-3500h-575l684 3500z\"/><path id=\"DejaVuSans-Oblique-6e\" transform=\"scale(.015625)\" d=\"m3566 2113-410-2113h-578l410 2091q28 147 43 259 16 113 16 178 0 263-166 409-165 147-462 147-463 0-797-308-334-307-438-835l-384-1941h-575l678 3500h575l-115-550q240 303 577 468 338 166 710 166 463 0 717-250 255-250 255-703 0-112-14-240t-42-278z\"/><path id=\"DejaVuSans-Oblique-6b\" transform=\"scale(.015625)\" d=\"m1172 4863h575l-550-2835 1972 1472h747l-2200-1675 1606-1825h-697l-1494 1709-331-1709h-575l947 4863z\"/><path id=\"DejaVuSans-5f\" transform=\"scale(.015625)\" d=\"m3263-1063v-446h-3326v446h3326z\"/><path id=\"DejaVuSans-Oblique-71\" transform=\"scale(.015625)\" d=\"m2669 525q-231-303-546-460-314-156-695-156-531 0-833 358-301 358-301 986 0 506 186 978t533 847q225 244 517 375t614 131q387 0 637-153t363-462l100 525h578l-934-4813h-579l360 1844zm-1778 813q0-463 193-705 194-242 560-242 544 0 928 520t384 1264q0 450-199 689-198 239-569 239-272 0-504-127-231-126-403-370-181-256-286-600-104-343-104-668z\"/><path id=\"DejaVuSans-Oblique-75\" transform=\"scale(.015625)\" d=\"m428 1388 410 2112h578l-410-2091q-31-153-45-262t-14-181q0-266 162-412 163-145 460-145 462 0 799 312 338 313 441 842l385 1937h575l-678-3500h-575l115 550q-243-306-579-474-336-167-714-167-460 0-716 252t-256 702q0 93 15 234 16 141 47 291z\"/><path id=\"DejaVuSans-Oblique-62\" transform=\"scale(.015625)\" d=\"m3169 2138q0 453-208 709t-573 256q-266 0-499-130-233-129-405-376-181-259-286-602-104-342-104-682 0-432 204-677 205-245 565-245 271 0 502 126 232 127 407 374 178 256 287 596 110 341 110 651zm-1788 831q213 287 533 451t670 164q538 0 855-363 317-362 317-980 0-507-186-982t-529-843q-225-244-519-376-294-131-616-131-340 0-590 156-250 157-407 466l-103-531h-575l947 4863h575l-372-1894z\"/><path id=\"DejaVuSans-Oblique-74\" transform=\"scale(.015625)\" d=\"m2706 3500-87-447h-1147l-372-1900q-19-106-28-178t-9-112q0-200 120-291t386-91h581l-97-481h-550q-512 0-764 200-251 200-251 606 0 72 9 158t28 189l372 1900h-488l91 447h478l194 994h575l-191-994h1150z\"/><path id=\"DejaVuSans-30\" transform=\"scale(.015625)\" d=\"m2034 4250q-487 0-733-480-245-479-245-1442 0-959 245-1439 246-480 733-480 491 0 736 480 246 480 246 1439 0 963-246 1442-245 480-736 480zm0 500q785 0 1199-621 414-620 414-1801 0-1178-414-1799-414-620-1199-620-784 0-1198 620-414 621-414 1799 0 1181 414 1801 414 621 1198 621z\"/></defs><use transform=\"translate(0 .015625)\" xlink:href=\"#DejaVuSans-Oblique-6c\"/><use transform=\"translate(27.783 .015625)\" xlink:href=\"#DejaVuSans-Oblique-69\"/><use transform=\"translate(55.566 .015625)\" xlink:href=\"#DejaVuSans-Oblique-6e\"/><use transform=\"translate(118.95 .015625)\" xlink:href=\"#DejaVuSans-Oblique-6b\"/><use transform=\"translate(176.86 .015625)\" xlink:href=\"#DejaVuSans-5f\"/><use transform=\"translate(226.86 .015625)\" xlink:href=\"#DejaVuSans-Oblique-71\"/><use transform=\"translate(290.33 .015625)\" xlink:href=\"#DejaVuSans-Oblique-75\"/><use transform=\"translate(353.71 .015625)\" xlink:href=\"#DejaVuSans-Oblique-62\"/><use transform=\"translate(417.19 .015625)\" xlink:href=\"#DejaVuSans-Oblique-69\"/><use transform=\"translate(444.97 .015625)\" xlink:href=\"#DejaVuSans-Oblique-74\"/><use transform=\"translate(484.18 -16.391) scale(.7)\" xlink:href=\"#DejaVuSans-30\"/></g></g><g clip-path=\"url(#p9d05ac07af)\"><g transform=\"translate(79.058 94.862) scale(.1625 -.1625)\"><defs><path id=\"DejaVuSans-31\" transform=\"scale(.015625)\" d=\"m794 531h1031v3560l-1122-225v575l1116 225h631v-4135h1031v-531h-2687v531z\"/></defs><use transform=\"translate(0 .015625)\" xlink:href=\"#DejaVuSans-Oblique-6c\"/><use transform=\"translate(27.783 .015625)\" xlink:href=\"#DejaVuSans-Oblique-69\"/><use transform=\"translate(55.566 .015625)\" xlink:href=\"#DejaVuSans-Oblique-6e\"/><use transform=\"translate(118.95 .015625)\" xlink:href=\"#DejaVuSans-Oblique-6b\"/><use transform=\"translate(176.86 .015625)\" xlink:href=\"#DejaVuSans-5f\"/><use transform=\"translate(226.86 .015625)\" xlink:href=\"#DejaVuSans-Oblique-71\"/><use transform=\"translate(290.33 .015625)\" xlink:href=\"#DejaVuSans-Oblique-75\"/><use transform=\"translate(353.71 .015625)\" xlink:href=\"#DejaVuSans-Oblique-62\"/><use transform=\"translate(417.19 .015625)\" xlink:href=\"#DejaVuSans-Oblique-69\"/><use transform=\"translate(444.97 .015625)\" xlink:href=\"#DejaVuSans-Oblique-74\"/><use transform=\"translate(484.18 -16.391) scale(.7)\" xlink:href=\"#DejaVuSans-31\"/></g></g><g clip-path=\"url(#p9d05ac07af)\"><g transform=\"translate(68.658 141.22) scale(.1625 -.1625)\"><defs><path id=\"DejaVuSans-Oblique-63\" transform=\"scale(.015625)\" d=\"m3431 3366-115-569q-207 150-440 225-232 75-482 75-275 0-524-97-248-97-417-275-269-272-416-638-146-365-146-756 0-472 236-703t717-231q237 0 504 72 268 72 558 215l-109-568q-250-103-514-155t-542-52q-697 0-1072 348-375 349-375 996 0 544 195 1002t580 823q262 250 615 378 354 128 772 128 244 0 484-55 241-54 491-163z\"/><path id=\"DejaVuSans-Oblique-6f\" transform=\"scale(.015625)\" d=\"m1625-91q-616 0-974 380-357 380-357 1036 0 381 123 776 124 396 321 665 309 418 690 618t863 200q597 0 964-372 367-371 367-971 0-416-122-829-122-412-319-684-306-419-687-619t-869-200zm-734 1435q0-475 198-711 199-236 602-236 578 0 957 504 380 505 380 1280 0 453-203 684-203 232-597 232-325 0-578-152-253-151-453-461-147-231-227-528-79-297-79-612z\"/><path id=\"DejaVuSans-Oblique-64\" transform=\"scale(.015625)\" d=\"m2675 525q-231-303-547-460-315-156-700-156-525 0-830 358-304 358-304 980 0 519 184 989 185 470 535 842 231 247 521 376 291 130 610 130 337 0 595-163 258-162 399-465l375 1907h578l-947-4863h-578l109 525zm-1784 825q0-453 204-706 205-253 568-253 268 0 498 129 230 130 405 383 184 263 290 606 107 344 107 679 0 434-205 677-205 244-564 244-272 0-507-128-234-128-399-368-182-260-290-604-107-343-107-659z\"/><path id=\"DejaVuSans-Oblique-65\" transform=\"scale(.015625)\" d=\"m3078 2063q10 50 14 103 5 53 5 106 0 381-224 603-223 222-607 222-428 0-757-271-328-270-496-767l2065 4zm500-450h-2675q-19-119-25-188t-6-119q0-434 267-672 267-237 755-237 375 0 709 84 335 85 622 247l-109-569q-310-125-640-187-329-63-670-63-728 0-1120 348-392 349-392 990 0 547 195 1017t574 839q243 231 579 356t714 125q594 0 945-356 352-356 352-956 0-144-19-308-18-164-56-351z\"/></defs><use transform=\"translate(0 .015625)\" xlink:href=\"#DejaVuSans-Oblique-63\"/><use transform=\"translate(54.98 .015625)\" xlink:href=\"#DejaVuSans-Oblique-6f\"/><use transform=\"translate(116.16 .015625)\" xlink:href=\"#DejaVuSans-Oblique-64\"/><use transform=\"translate(179.64 .015625)\" xlink:href=\"#DejaVuSans-Oblique-65\"/><use transform=\"translate(241.16 .015625)\" xlink:href=\"#DejaVuSans-5f\"/><use transform=\"translate(291.16 .015625)\" xlink:href=\"#DejaVuSans-Oblique-71\"/><use transform=\"translate(354.64 .015625)\" xlink:href=\"#DejaVuSans-Oblique-75\"/><use transform=\"translate(418.02 .015625)\" xlink:href=\"#DejaVuSans-Oblique-62\"/><use transform=\"translate(481.49 .015625)\" xlink:href=\"#DejaVuSans-Oblique-69\"/><use transform=\"translate(509.28 .015625)\" xlink:href=\"#DejaVuSans-Oblique-74\"/><use transform=\"translate(548.49 -16.391) scale(.7)\" xlink:href=\"#DejaVuSans-30\"/></g></g><g clip-path=\"url(#p9d05ac07af)\"><g transform=\"translate(68.658 187.57) scale(.1625 -.1625)\"><use transform=\"translate(0 .015625)\" xlink:href=\"#DejaVuSans-Oblique-63\"/><use transform=\"translate(54.98 .015625)\" xlink:href=\"#DejaVuSans-Oblique-6f\"/><use transform=\"translate(116.16 .015625)\" xlink:href=\"#DejaVuSans-Oblique-64\"/><use transform=\"translate(179.64 .015625)\" xlink:href=\"#DejaVuSans-Oblique-65\"/><use transform=\"translate(241.16 .015625)\" xlink:href=\"#DejaVuSans-5f\"/><use transform=\"translate(291.16 .015625)\" xlink:href=\"#DejaVuSans-Oblique-71\"/><use transform=\"translate(354.64 .015625)\" xlink:href=\"#DejaVuSans-Oblique-75\"/><use transform=\"translate(418.02 .015625)\" xlink:href=\"#DejaVuSans-Oblique-62\"/><use transform=\"translate(481.49 .015625)\" xlink:href=\"#DejaVuSans-Oblique-69\"/><use transform=\"translate(509.28 .015625)\" xlink:href=\"#DejaVuSans-Oblique-74\"/><use transform=\"translate(548.49 -16.391) scale(.7)\" xlink:href=\"#DejaVuSans-31\"/></g></g><g clip-path=\"url(#p9d05ac07af)\"><g transform=\"translate(68.658 233.92) scale(.1625 -.1625)\"><defs><path id=\"DejaVuSans-32\" transform=\"scale(.015625)\" d=\"m1228 531h2203v-531h-2962v531q359 372 979 998 621 627 780 809 303 340 423 576 121 236 121 464 0 372-261 606-261 235-680 235-297 0-627-103-329-103-704-313v638q381 153 712 231 332 78 607 78 725 0 1156-363 431-362 431-968 0-288-108-546-107-257-392-607-78-91-497-524-418-433-1181-1211z\"/></defs><use transform=\"translate(0 .015625)\" xlink:href=\"#DejaVuSans-Oblique-63\"/><use transform=\"translate(54.98 .015625)\" xlink:href=\"#DejaVuSans-Oblique-6f\"/><use transform=\"translate(116.16 .015625)\" xlink:href=\"#DejaVuSans-Oblique-64\"/><use transform=\"translate(179.64 .015625)\" xlink:href=\"#DejaVuSans-Oblique-65\"/><use transform=\"translate(241.16 .015625)\" xlink:href=\"#DejaVuSans-5f\"/><use transform=\"translate(291.16 .015625)\" xlink:href=\"#DejaVuSans-Oblique-71\"/><use transform=\"translate(354.64 .015625)\" xlink:href=\"#DejaVuSans-Oblique-75\"/><use transform=\"translate(418.02 .015625)\" xlink:href=\"#DejaVuSans-Oblique-62\"/><use transform=\"translate(481.49 .015625)\" xlink:href=\"#DejaVuSans-Oblique-69\"/><use transform=\"translate(509.28 .015625)\" xlink:href=\"#DejaVuSans-Oblique-74\"/><use transform=\"translate(548.49 -16.391) scale(.7)\" xlink:href=\"#DejaVuSans-32\"/></g></g><g clip-path=\"url(#p9d05ac07af)\"><g transform=\"translate(179.41 269.25) scale(.104 -.104)\"><use xlink:href=\"#DejaVuSans-32\"/></g></g><g clip-path=\"url(#p9d05ac07af)\"><g transform=\"translate(33.685 280.31) scale(.1625 -.1625)\"><defs><path id=\"DejaVuSans-72\" transform=\"scale(.015625)\" d=\"m2631 2963q-97 56-211 82-114 27-251 27-488 0-749-317t-261-911v-1844h-578v3500h578v-544q182 319 472 473 291 155 707 155 59 0 131-8 72-7 159-23l3-590z\"/><path id=\"DejaVuSans-6f\" transform=\"scale(.015625)\" d=\"m1959 3097q-462 0-731-361t-269-989 267-989q268-361 733-361 460 0 728 362 269 363 269 988 0 622-269 986-268 364-728 364zm0 487q750 0 1178-488 429-487 429-1349 0-859-429-1349-428-489-1178-489-753 0-1180 489-426 490-426 1349 0 862 426 1349 427 488 1180 488z\"/><path id=\"DejaVuSans-75\" transform=\"scale(.015625)\" d=\"m544 1381v2119h575v-2097q0-497 193-746 194-248 582-248 465 0 735 297 271 297 271 810v1984h575v-3500h-575v538q-209-319-486-474-276-155-642-155-603 0-916 375-312 375-312 1097zm1447 2203z\"/><path id=\"DejaVuSans-6e\" transform=\"scale(.015625)\" d=\"m3513 2113v-2113h-575v2094q0 497-194 743-194 247-581 247-466 0-735-297-269-296-269-809v-1978h-578v3500h578v-544q207 316 486 472 280 156 646 156 603 0 912-373 310-373 310-1098z\"/><path id=\"DejaVuSans-64\" transform=\"scale(.015625)\" d=\"m2906 2969v1894h575v-4863h-575v525q-181-312-458-464-276-152-664-152-634 0-1033 506-398 507-398 1332t398 1331q399 506 1033 506 388 0 664-152 277-151 458-463zm-1959-1222q0-634 261-995t717-361 718 361q263 361 263 995t-263 995q-262 361-718 361t-717-361-261-995z\"/><path id=\"DejaVuSans-6c\" transform=\"scale(.015625)\" d=\"m603 4863h575v-4863h-575v4863z\"/><path id=\"DejaVuSans-69\" transform=\"scale(.015625)\" d=\"m603 3500h575v-3500h-575v3500zm0 1363h575v-729h-575v729z\"/><path id=\"DejaVuSans-6b\" transform=\"scale(.015625)\" d=\"m581 4863h578v-2872l1716 1509h734l-1856-1637 1935-1863h-750l-1779 1709v-1709h-578v4863z\"/><path id=\"DejaVuSans-62\" transform=\"scale(.015625)\" d=\"m3116 1747q0 634-261 995t-717 361q-457 0-718-361t-261-995 261-995 718-361q456 0 717 361t261 995zm-1957 1222q182 312 458 463 277 152 661 152 638 0 1036-506 399-506 399-1331t-399-1332q-398-506-1036-506-384 0-661 152-276 152-458 464v-525h-578v4863h578v-1894z\"/><path id=\"DejaVuSans-74\" transform=\"scale(.015625)\" d=\"m1172 4494v-994h1184v-447h-1184v-1900q0-428 117-550t477-122h590v-481h-590q-666 0-919 248-253 249-253 905v1900h-422v447h422v994h578z\"/></defs><use xlink:href=\"#DejaVuSans-72\"/><use x=\"38.863281\" xlink:href=\"#DejaVuSans-6f\"/><use x=\"100.044922\" xlink:href=\"#DejaVuSans-75\"/><use x=\"163.423828\" xlink:href=\"#DejaVuSans-6e\"/><use x=\"226.802734\" xlink:href=\"#DejaVuSans-64\"/><use x=\"290.279297\" xlink:href=\"#DejaVuSans-5f\"/><use x=\"340.279297\" xlink:href=\"#DejaVuSans-30\"/><use x=\"403.902344\" xlink:href=\"#DejaVuSans-5f\"/><use x=\"453.902344\" xlink:href=\"#DejaVuSans-6c\"/><use x=\"481.685547\" xlink:href=\"#DejaVuSans-69\"/><use x=\"509.46875\" xlink:href=\"#DejaVuSans-6e\"/><use x=\"572.847656\" xlink:href=\"#DejaVuSans-6b\"/><use x=\"630.757812\" xlink:href=\"#DejaVuSans-5f\"/><use x=\"680.757812\" xlink:href=\"#DejaVuSans-62\"/><use x=\"744.234375\" xlink:href=\"#DejaVuSans-69\"/><use x=\"772.017578\" xlink:href=\"#DejaVuSans-74\"/></g></g><g clip-path=\"url(#p9d05ac07af)\"><g transform=\"translate(179.41 315.61) scale(.104 -.104)\"><defs><path id=\"DejaVuSans-33\" transform=\"scale(.015625)\" d=\"m2597 2516q453-97 707-404 255-306 255-756 0-690-475-1069-475-378-1350-378-293 0-604 58t-642 174v609q262-153 574-231 313-78 654-78 593 0 904 234t311 681q0 413-289 645-289 233-804 233h-544v519h569q465 0 712 186t247 536q0 359-255 551-254 193-729 193-260 0-557-57-297-56-653-174v562q360 100 674 150t592 50q719 0 1137-327 419-326 419-882 0-388-222-655t-631-370z\"/></defs><use xlink:href=\"#DejaVuSans-33\"/></g></g><g clip-path=\"url(#p9d05ac07af)\"><g transform=\"translate(96.989 326.67) scale(.1625 -.1625)\"><defs><path id=\"DejaVuSans-63\" transform=\"scale(.015625)\" d=\"m3122 3366v-538q-244 135-489 202t-495 67q-560 0-870-355-309-354-309-995t309-996q310-354 870-354 250 0 495 67t489 202v-532q-241-112-499-168-257-57-548-57-791 0-1257 497-465 497-465 1341 0 856 470 1346 471 491 1290 491 265 0 518-55 253-54 491-163z\"/><path id=\"DejaVuSans-65\" transform=\"scale(.015625)\" d=\"m3597 1894v-281h-2644q38-594 358-905t892-311q331 0 642 81t618 244v-544q-310-131-635-200t-659-69q-838 0-1327 487-489 488-489 1320 0 859 464 1363 464 505 1252 505 706 0 1117-455 411-454 411-1235zm-575 169q-6 471-264 752-258 282-683 282-481 0-770-272t-333-766l2050 4z\"/></defs><use xlink:href=\"#DejaVuSans-63\"/><use x=\"54.980469\" xlink:href=\"#DejaVuSans-6f\"/><use x=\"116.162109\" xlink:href=\"#DejaVuSans-64\"/><use x=\"179.638672\" xlink:href=\"#DejaVuSans-65\"/><use x=\"241.162109\" xlink:href=\"#DejaVuSans-5f\"/><use x=\"291.162109\" xlink:href=\"#DejaVuSans-62\"/><use x=\"354.638672\" xlink:href=\"#DejaVuSans-69\"/><use x=\"382.421875\" xlink:href=\"#DejaVuSans-74\"/></g></g><g clip-path=\"url(#p9d05ac07af)\"><g transform=\"translate(195.36 140.58) scale(.13 -.13)\" fill=\"#ffffff\"><defs><path id=\"DejaVuSans-58\" transform=\"scale(.015625)\" d=\"m403 4666h678l1160-1735 1165 1735h678l-1500-2241 1600-2425h-678l-1312 1984-1322-1984h-681l1665 2491-1453 2175z\"/></defs><use xlink:href=\"#DejaVuSans-58\"/></g></g><g clip-path=\"url(#p9d05ac07af)\"><g transform=\"translate(195.36 186.93) scale(.13 -.13)\" fill=\"#ffffff\"><use xlink:href=\"#DejaVuSans-58\"/></g></g><g clip-path=\"url(#p9d05ac07af)\"><g transform=\"translate(195.36 233.29) scale(.13 -.13)\" fill=\"#ffffff\"><use xlink:href=\"#DejaVuSans-58\"/></g></g><path d=\"m246.16 50.309v-12.052\" clip-path=\"url(#p9d05ac07af)\" fill=\"none\" stroke=\"#ffffff\" stroke-linecap=\"square\" stroke-width=\"2\"/><path d=\"m240.14 44.283h12.052\" clip-path=\"url(#p9d05ac07af)\" fill=\"none\" stroke=\"#ffffff\" stroke-linecap=\"square\" stroke-width=\"2\"/><path d=\"m292.52 96.663v-12.052\" clip-path=\"url(#p9d05ac07af)\" fill=\"none\" stroke=\"#ffffff\" stroke-linecap=\"square\" stroke-width=\"2\"/><path d=\"m286.49 90.637h12.052\" clip-path=\"url(#p9d05ac07af)\" fill=\"none\" stroke=\"#ffffff\" stroke-linecap=\"square\" stroke-width=\"2\"/><path d=\"m338.87 50.309v-12.052\" clip-path=\"url(#p9d05ac07af)\" fill=\"none\" stroke=\"#ffffff\" stroke-linecap=\"square\" stroke-width=\"2\"/><path d=\"m332.85 44.283h12.052\" clip-path=\"url(#p9d05ac07af)\" fill=\"none\" stroke=\"#ffffff\" stroke-linecap=\"square\" stroke-width=\"2\"/><path d=\"m385.23 96.663v-12.052\" clip-path=\"url(#p9d05ac07af)\" fill=\"none\" stroke=\"#ffffff\" stroke-linecap=\"square\" stroke-width=\"2\"/><path d=\"m379.2 90.637h12.052\" clip-path=\"url(#p9d05ac07af)\" fill=\"none\" stroke=\"#ffffff\" stroke-linecap=\"square\" stroke-width=\"2\"/><g clip-path=\"url(#p9d05ac07af)\"><g transform=\"translate(443.17 315.61) scale(.104 -.104)\"><use xlink:href=\"#DejaVuSans-30\"/></g></g><g clip-path=\"url(#p9d05ac07af)\"><g transform=\"translate(489.52 269.25) scale(.104 -.104)\"><use xlink:href=\"#DejaVuSans-30\"/></g></g><g clip-path=\"url(#p9d05ac07af)\"><g transform=\"translate(535.88 269.25) scale(.104 -.104)\"><use xlink:href=\"#DejaVuSans-31\"/></g></g><g clip-path=\"url(#p9d05ac07af)\"><g transform=\"translate(582.23 315.61) scale(.104 -.104)\"><use xlink:href=\"#DejaVuSans-31\"/></g></g><g clip-path=\"url(#p9d05ac07af)\"><g transform=\"translate(628.58 315.61) scale(.104 -.104)\"><use xlink:href=\"#DejaVuSans-32\"/></g></g><defs><clipPath id=\"p9d05ac07af\"><rect x=\"7.2\" y=\"7.2\" width=\"640.39\" height=\"343.02\"/></clipPath></defs></svg>"
      ],
      "text/plain": [
       "<Figure size 1155.1x618.722 with 1 Axes>"
      ]
     },
     "execution_count": 26,
     "metadata": {},
     "output_type": "execute_result"
    }
   ],
   "source": [
    "code.circuit['1'].draw()"
   ]
  },
  {
   "cell_type": "markdown",
   "metadata": {},
   "source": [
    "これらの回路には、2種類の物理量子ビットがあります。 まず、「符号量子ビット」があり、これは論理状態が符号化されるための3つの物理量子ビットです。他に「リンク(link)量子ビット」があり、シンドローム測定の補助量子ビットとして機能します。\n",
    "\n",
    "これらの回路でのシンドローム測定の1巡は、シンドローム測定2回のみで構成されています。 1つは符号量子ビット0と1を比較し、もう1つは符号量子ビット1と2を比較します。フルセットを作成するには、符号量子ビット0と2を比較するさらなる測定が必要と思うかもしれません。ただし、これら2つで十分です。これは、0と2が同じz基底状態を持っているかどうかに関する情報は、0と1を比較した情報と1と2を比較した情報から推測できるためです。実際、$n$ 量子ビットの場合、必要な情報を得るには量子ビットの隣接ペアに対する $n-1$ 回のシンドローム測定のみ必要になります。\n",
    "\n",
    "これらの回路をノイズなしでシミュレータで実行すると、非常に単純な結果が得られます。"
   ]
  },
  {
   "cell_type": "code",
   "execution_count": 27,
   "metadata": {
    "scrolled": false
   },
   "outputs": [
    {
     "name": "stdout",
     "output_type": "stream",
     "text": [
      "Logical 0: {'000 00': 1024}\n",
      "Logical 1: {'111 00': 1024}\n"
     ]
    }
   ],
   "source": [
    "def get_raw_results(code,noise_model=None):\n",
    "    circuits = code.get_circuit_list()\n",
    "    raw_results = {}\n",
    "    for log in range(2):\n",
    "        job = execute( circuits[log], Aer.get_backend('qasm_simulator'), noise_model=noise_model)\n",
    "        raw_results[str(log)] = job.result().get_counts(str(log))\n",
    "    return raw_results\n",
    "\n",
    "raw_results = get_raw_results(code)\n",
    "for log in raw_results:\n",
    "    print(f'Logical {log}: {raw_results[log]}')"
   ]
  },
  {
   "cell_type": "markdown",
   "metadata": {},
   "source": [
    "ここでは、出力が2つの部分に分かれていることがわかります。右側の部分は、2つのシンドローム測定の結果を保持しています。左側の部分は、量子量子ビットの3つの最終測定の結果を保持しています。\n",
    "\n",
    "より多くの測定の巡数、たとえば $T=4$ の場合、右側にさらに多くのシンドローム測定の結果が連なります。"
   ]
  },
  {
   "cell_type": "code",
   "execution_count": 28,
   "metadata": {},
   "outputs": [
    {
     "name": "stdout",
     "output_type": "stream",
     "text": [
      "Logical 0: {'000 00 00 00 00': 1024}\n",
      "Logical 1: {'111 00 00 00 00': 1024}\n"
     ]
    }
   ],
   "source": [
    "code = RepetitionCode(n, 4)\n",
    "\n",
    "raw_results = get_raw_results(code)\n",
    "for log in raw_results:\n",
    "    print(f'Logical {log}: {raw_results[log]}')"
   ]
  },
  {
   "cell_type": "markdown",
   "metadata": {},
   "source": [
    "より多くの反復、たとえば $n=5$ の場合、各測定セットは大きくなります。左側の最終的な測定値は、$n$ 量子ビットです。 $T$巡のシンドロームの測定値は、それぞれ $n-1$ の可能な隣接ペアです。"
   ]
  },
  {
   "cell_type": "code",
   "execution_count": 29,
   "metadata": {},
   "outputs": [
    {
     "name": "stdout",
     "output_type": "stream",
     "text": [
      "Logical 0: {'00000 0000 0000 0000 0000': 1024}\n",
      "Logical 1: {'11111 0000 0000 0000 0000': 1024}\n"
     ]
    }
   ],
   "source": [
    "code = RepetitionCode(5, 4)\n",
    "\n",
    "raw_results = get_raw_results(code)\n",
    "for log in raw_results:\n",
    "    print(f'Logical {log}: {raw_results[log]}')"
   ]
  },
  {
   "cell_type": "markdown",
   "metadata": {},
   "source": [
    "### ルックアップ・テーブル復号\n",
    "\n",
    "次に、 $n=3$ 、 $T=1$ の例に戻って、ノイズのある場合を見てみましょう。"
   ]
  },
  {
   "cell_type": "code",
   "execution_count": 30,
   "metadata": {
    "scrolled": true
   },
   "outputs": [
    {
     "name": "stdout",
     "output_type": "stream",
     "text": [
      "Logical 0: {'011 11': 1, '010 11': 1, '001 01': 3, '101 00': 6, '100 10': 12, '110 00': 1, '100 00': 49, '110 01': 1, '010 10': 12, '100 01': 5, '010 00': 52, '010 01': 26, '000 00': 650, '000 10': 64, '011 00': 5, '001 00': 52, '000 11': 6, '000 01': 74, '001 10': 4}\n",
      "\n",
      "Logical 1: {'011 11': 2, '100 10': 1, '010 10': 1, '101 10': 9, '110 11': 1, '000 11': 1, '001 11': 1, '101 00': 47, '100 01': 3, '010 00': 4, '101 01': 31, '001 01': 1, '110 00': 40, '110 01': 24, '100 00': 5, '001 10': 2, '111 01': 74, '001 00': 3, '011 00': 59, '100 11': 7, '011 10': 25, '111 00': 574, '011 01': 5, '101 11': 20, '010 11': 4, '110 10': 6, '111 11': 5, '111 10': 69}\n",
      "\n"
     ]
    }
   ],
   "source": [
    "code = RepetitionCode(3, 1)\n",
    "\n",
    "noise_model = get_noise(0.05, 0.05)\n",
    "\n",
    "raw_results = get_raw_results(code,noise_model)\n",
    "for log in raw_results:\n",
    "    print(f'Logical {log}: {raw_results[log]}\\n')"
   ]
  },
  {
   "cell_type": "markdown",
   "metadata": {},
   "source": [
    "ここで、論理 `0` を符号化する回路と論理 `1` を符号化する回路の両方の結果を保持する辞書である `raw_results` を作成しました。\n",
    "\n",
    "ここで見られる結果に対して我々のタスクは、ノイズがなければ結果がどうあるべきかを判断することです。結果が `'000 00'` または `'111 00'` の場合、答えは明らかです。これらは、エラーが発生していない場合に、それぞれ論理 `0`  および論理 `1` で見た結果ですそのものです。ノイズがある場合でも、前者は論理 `0` の、後者は論理 `1` の最も一般的な結果です。したがって、 `'000 00'` のときは常に論理 `0` の結果であり、同じく `'111 00'` のときは論理`1`の結果であると結論付けます。\n",
    "\n",
    "この作戦が最善ですが、それでも失敗する可能性があります。 通常、 `'111 00'`  は `0` の符号化でも稀に発生し、`'000 00'`  は `1` の符号化でも稀に発生することに注意してください。この場合、判断に過失は無いですが、出力結果を誤って復号してしまいます。これらのケースでは、多数のエラーが相まって、反対の論理値のノイズのないケースであったように見えるため、修正が不可能になります。\n",
    "\n",
    "同様の手法を使って、他のすべての結果を復号できます。たとえば、結果 `'001 00'` は、論理 `1` よりも論理 `0` の方がはるかに多く発生します。これは、前者の場合は単一の測定エラー（単一の `0`  が誤って  `1` であると誤って伝わる）によって引き起こされる可能性がありますが、後者では少なくとも2つのエラーが必要になるためです。したがって、`'001 00'`, が表示されるたびに、論理 `0` として復号できます。\n",
    "\n",
    "この作戦をすべての文字列に適用することは、いわゆる「ルックアップ・テーブル復号」の一種です。これは、考えられるすべての結果が分析され、最も可能性の高い値に決定されます。多くの量子ビットでは、取り得る結果の数が非常に多くなるため、すぐに手に負えなくなります。これらの場合、よりよいアルゴリズムを利用した復号器が必要です。ただし、ルックアップ・テーブル復号は、小規模の符号化を試すには適しています。\n",
    "\n",
    "Qiskitのツールを使用して、任意の符号のルックアップ・テーブル復号を実装できます。このためには、2つの結果セットが必要です。 1つは、実際に復号したい結果セットであり、その結果に対して、誤った復号の確率 $P$ を計算します。このためにすでに持っている  `raw_results` を使用します。\n",
    "\n",
    "もう一方の結果セットは、ルックアップ・テーブルとして使用されるものです。取り得る結果ごとに適切な統計を取得するために、これは多数のサンプルに対して実行する必要があります。 `shots=10000` を使用します。\n"
   ]
  },
  {
   "cell_type": "code",
   "execution_count": 31,
   "metadata": {},
   "outputs": [],
   "source": [
    "circuits = code.get_circuit_list()\n",
    "table_results = {}\n",
    "for log in range(2):\n",
    "    job = execute( circuits[log], Aer.get_backend('qasm_simulator'), noise_model=noise_model, shots=10000 )\n",
    "    table_results[str(log)] = job.result().get_counts(str(log))"
   ]
  },
  {
   "cell_type": "markdown",
   "metadata": {},
   "source": [
    " `table_results` と呼ばれるこのデータを使用して、Qiskitの `lookuptable_decoding`  関数を使用できるようになりました。これは、  `raw_results`  から各結果を取得し、 `table_results` の情報で復号します。次に、復号が正しいかどうかを確認し、この情報を使い $P$ を計算します。"
   ]
  },
  {
   "cell_type": "code",
   "execution_count": 32,
   "metadata": {},
   "outputs": [
    {
     "name": "stdout",
     "output_type": "stream",
     "text": [
      "P = {'0': 0.0219, '1': 0.0253}\n"
     ]
    }
   ],
   "source": [
    "P = lookuptable_decoding(raw_results, table_results)\n",
    "print('P =', P)"
   ]
  },
  {
   "cell_type": "markdown",
   "metadata": {},
   "source": [
    "ここで、 $P$ の値は $p_{meas}$ および $p_{gate}$ の値よりも低いため、ビット値を格納するための信頼性が向上しています。また、符号化された  `1`  の $P$ の値は `0` の値よりも高いことに注意してください。これは、`1`  の符号化には  `x`  ゲートの適用が必要であり、これが追加のノイズ源であるためです。"
   ]
  },
  {
   "cell_type": "markdown",
   "metadata": {},
   "source": [
    "### グラフ理論での復号\n",
    "\n",
    "上記で検討した復号は、可能な限り最良の結果を生成し、符号の詳細を使う必要なく実現できます。ただし、これらの利点を上回る大きな欠点があります。符号のサイズが大きくなると、ルックアップ・テーブルが指数関数的に大きくなります。このため、復号は通常、符号の構造とその結果のシンドロームを考慮した、よりアルゴリズム的な方法で行われます。\n",
    "\n",
    " `topological_codes` の符号の場合、シンドロームの後処理を行うことで符号の構造が明らかになります。前述の形式を使用する代わりに、左側に符号量子ビットの最終測定値を、右側にシンドローム測定の各巡数の出力を配置し、別の形式に結果を書き換えるために符号オブジェクトの `process_results`  メソッドを使用します。\n",
    "\n",
    "例えば、以下は辞書 `raw_results` に後処理を行った形式です。この場合は $n=3$ と $T=2$ です。分かりやすく、サンプルが50個以上の結果のみを示しています。"
   ]
  },
  {
   "cell_type": "code",
   "execution_count": 33,
   "metadata": {},
   "outputs": [
    {
     "name": "stdout",
     "output_type": "stream",
     "text": [
      "\n",
      "Logical 0:\n",
      "raw results        {'000 10 00': 55, '000 00 00': 463, '000 01 01': 56, '000 01 00': 52}\n",
      "processed results  {'0 0  00 10 10': 55, '0 0  00 00 00': 463, '0 0  01 01 00': 56, '0 0  00 01 01': 52}\n",
      "\n",
      "Logical 1:\n",
      "raw results        {'111 10 00': 53, '111 00 00': 437, '111 01 00': 59, '111 10 10': 54}\n",
      "processed results  {'1 1  00 10 10': 53, '1 1  00 00 00': 437, '1 1  00 01 01': 59, '1 1  10 10 00': 54}\n"
     ]
    }
   ],
   "source": [
    "code = RepetitionCode(3, 2)\n",
    "\n",
    "raw_results = get_raw_results(code, noise_model)\n",
    "\n",
    "results = code.process_results(raw_results)\n",
    "\n",
    "for log in ['0', '1']:\n",
    "    print(f'\\nLogical {log}:')\n",
    "    print('raw results       ', {string:raw_results[log][string] for string in raw_results[log] if raw_results[log][string]>=50 })\n",
    "    print('processed results ', {string:results[log][string] for string in results[log] if results[log][string]>=50 })"
   ]
  },
  {
   "cell_type": "markdown",
   "metadata": {},
   "source": [
    "ここでは、 `'000 00 00'` が  `'0 0  00 00 00'` に変換され、 `'111 00 00'`  が `'1 1  00 00 00'` に変換されていることが分かります。\n",
    "\n",
    "これらの新しい文字列では、左端の `0 0` が論理 `0` の論理読み出し値であり、左端の `1 1`  が論理 `1` の論理読み出し値です。符号量子ビットは(エラーがないとき)すべて等しいはずで、この読み出しには任意の符号量子ビットを使用できます。したがって、原理的にこの位置に単一の `0` または `1`  を配置することが可能です。また、元の形式で結果を扱うこともでき、その場合は各量子ビットにつき1つで $n$ 桁の論理値を使用できます。代わりに、最初と最後の符号量子ビットから作られる、2桁の論理値を使用します。この理由は後で示されます。エラーがない場合、この2桁の論理値は同じ符号化されたビット値を表すため、常に等しくなります。\n",
    "\n",
    "論理値の後に、1巡目のシンドローム測定の $n-1$ 桁の結果が続きます。raw resultsでは論理値の後にT巡目の結果からT-1巡目の結果が続いていることに注意ししてください。  `0` は対応する量子ビットの組が同じ値を持つことを意味し、 `1`  はそれらが互いに異なることを意味します。 $d$ 番目の符号量子ビットには $n-1$ 個の隣接可能な組があるため、$n-1$ 桁の結果があります。エラーがない場合、それらはすべて `0` になります。これは、元の形式におけるシンドロームの結果の最初のセットと全く同じです。\n",
    "\n",
    "次のブロックは、シンドロームの結果の次ラウンドです。ただし、これらの測定結果を直接表示するのではなく、1巡目と2巡目の間のシンドロームの変化を表示します。したがって、1巡目と2巡目のシンドローム測定結果のビット単位の `OR`  です。エラーがない場合、それらはすべて `0` になります。\n",
    "\n",
    "後続のブロックはすべて同じ式に従いますが、最後のブロックにはコメントが必要です。これは、標準の方法(リンク量子ビット)を使って測定されません。代わりに、すべての符号量子ビットの最終読み取り測定値から計算されます。この場合も、シンドロームの変化として表示され、エラーがない場合はすべて `0` になります。他のシンドロームと同じ方法では実行されず、$T$ 巡回のシンドローム測定はカウントされないため、これはシンドローム測定の $T+1$ 番目のブロックです。\n",
    "\n",
    "次の例は、この規則をさらに細かく説明しています。\n",
    "\n",
    "**例1：**  `0 0  0110 0000 0000` は、符号化された `0` の $n=5$ 、 $T=2$ の反復符号を表します。このシンドロームは、1巡目の測定の前にエラーによって(おそらく)中間の符号量子ビットが反転されたことを示しています。これにより、回路の残りの部分で隣接する符号量子ビットの両方と一致しなくなります。1巡目のシンドロームで示されていますが、後巡のブロックは、もはや変化を表していないため、エラーは報告されません。他のエラーのセットもこのシンドロームを引き起こしている可能性がありますが、より複雑で、可能性がより低いはずです。\n",
    "\n",
    "**例2：** `0 0  0010 0010 0000`  は、符号化された`0`の $n=5$ 、 $T=2$ の反復符号を表します。ここで、シンドローム測定値のうちいずれかは、2巡目で2つの符号量子ビットの差を記述し、 `1` になりました。次のラウンドでは同じ効果が見られなかったため、結果は `0` になりました。ただし、これは同じシンドローム測定の以前の結果と一致せず、シンドロームの変化を追跡するため、この変化は別の `1` になります。後巡の測定でも何も検出されませんが、これはもはや変化を表さないため、同じ位置に `0` が発生します。ほとんどの場合、最初の `1` につながる測定結果はエラーでした。\n",
    "\n",
    "**例3：** `0 1  0000 0001 0000`  は、符号化された`1`の $n=5$ 、 $T=2$ の反復符号を表します。シンドローム測定の2巡目の前に、一番下の符号量子ビットが反転します。これは、最後のビット列にあるため、単一のシンドローム測定によってのみ検出されます。同じ理由で、論理読み出しの1つも阻害します。\n",
    "\n",
    "これらのすべての例で、1つのエラーにより、文字列内のちょうど2文字がエラーなしの値から変更されることに注意してください。これは、  `topological_codes` でスタビライザーを表すために使用される規則を決定付ける特徴です。復号の問題が定義されるグラフを定義するために使用されます。\n",
    "\n",
    "具体的には、最初に論理 `0` を符号化する回路を使用してグラフが構築されます。出力文字列のすべてのビット値は `0` になるはずです。これの多くのコピーを作成し、シミュレーターで作成して実行し、それぞれに異なる単一のパウリ演算子を挿入します。これは、各量子ビットおよびすべての回路の深さで3種類のパウリ演算子のそれぞれに対して行われます。これらの各回路からの出力を使用して、考えられる各単一エラーの影響を判断できます。回路にはClifford演算のみが含まれているため、シミュレーションを効率的に実行できます。\n",
    "\n",
    "いずれの場合も、エラーは（効果がない限り）正確に2文字を変更します。次に、出力文字列の各ビットがノードに対応するグラフが作成され、同じエラーの影響を受けるビットの組がエッジに対応します。\n",
    "\n",
    "特定の出力文字列を復号するプロセスでは通常、出力文字列にシンドロームのエラーが見つかった場合に、発生したエラーセットを推測するアルゴリズムが必要です。これは、出力の非自明なシンドロームビットに対応するノードのみを含む第二グラフを作成することで実行できます。次に、ノードの各ペアの間にエッジが配置され、対応する重みが元のグラフのそれらのノード間の最小パスの長さに等しくなります。シンドロームと一致する一連のエラーは、このグラフの完全マッチングを見つけることに対応します。発生した可能性が最も高い一連のエラーを推測するには、観測されたシンドロームと一致するエラーの数が可能な限り少ないものを見つけるのがよいでしょう。これは、グラフの最小重み完全マッチングに対応します。\n",
    "\n",
    "最小重み完全マッチングの使用は、反復符号と表面符号の標準的な復号手法であり、Qiskit Ignisで実装されています。また、色符号などの他の場合にも使用できますが、その場合はすべての符号およびノイズモデルの最も可能性の高いエラーセットの最適な近似値を見つけることができません。そのため、同じグラフに基づく他の復号手法を使用できます。Qiskit Ignisの `GraphDecoder`  は、特定の符号についてこれらのグラフを計算し、それを分析するためのさまざまな方法を提供します。執筆時点では、最小重み完全マッチングのみが実装されています。\n",
    "\n",
    "表面コードなどのコードの場合、各単一エラーが出力文字列の2ビットのみの値を変更することは厳密には当てはまりません。たとえば、$\\sigma^y$ エラーは、通常は独立して復号される2つの異なるタイプのスタビライザーに対応する値のペアを反転させます。したがって、これらの符号の出力はこれを容認する方法で表示されます。そのようなシンドロームの分析は、異なるシンドロームタイプを表すため、複数の独立したグラフを対応づけて作成します。"
   ]
  },
  {
   "cell_type": "markdown",
   "metadata": {},
   "source": [
    "## 反復符号ベンチマーキングの実行手順\n",
    "\n",
    "次に、実際のデバイスで反復符号の例を実行し、その結果をベンチマークとして使用します。最初に、手順を簡潔に要約します。この手順は、反復符号の例に適用されましたが、 `topological_codes` の他のベンチマーク手順にも適用されます。実際、Qiskit Ignis全般にも適用されます。いずれの場合も、次の3段階のプロセスが適用されます。\n",
    "\n",
    "1. タスクが定義されます。 Qiskit Ignisは、実行する必要のある一連の回路を決定し、作成します。\n",
    "2. 回路が実行されます。これは通常、Qiskitを使用して行われます。ただし、原則として、任意のサービスまたは実験機器をインターフェイスに使えます。\n",
    "3. Qiskit Ignisを使用して、回路からの結果を処理し、特定のタスクに必要な出力を作成します。\n",
    "\n",
    " `topological_codes` の場合、ステップ1では量子エラー訂正符号のタイプとサイズを選択する必要があります。各符号タイプには専用のPythonクラスがあります。対応するオブジェクトは、 `RepetitionCode`  オブジェクトの  `n` や `T`  など、必要なパラメーターを与えることで初期化されます。結果のオブジェクトには、単純な論理量子ビット状態( $\\left|0\\right\\rangle$ や $\\left|1\\right\\rangle$ など)の符号化に対応する回路が含まれます。そして、単純な論理基底(通常は標準の $\\left|0\\right\\rangle$/$\\left|1\\right\\rangle$ 測定)での最終的な読み取りの前に、指定された巡数のエラー検出処理が実行されます。\n",
    "\n",
    "  `topological_codes` の場合、ステップ3の主な処理は復号であり、エラー検出から取得した情報を使用して、最終的な読み取りのエラーを軽減することを目的としています。通常、復号に最適なアルゴリズムは符号によって異なります。ただし、多くの場合、同様の構造を持つ符号は同様の方法を使用します。\n",
    "\n",
    " `topological_codes` の目的は、すべての符号ですべての復号器を使用できるように実装された多様な復号方法を提供することです。これは、復号をグラフ理論の最小化問題として記述することができる符号に制限することによって実現します。このような符号のこの典型的な例は、トーラス符号と表面符号です。その性質は、２次元色符号とマッチング符号でも共有されます。これらはすべて、いわゆるトポロジカル量子エラー訂正符号の顕著な例であり、サブパッケージの名前につながりました。ただし、すべてのトポロジカル符号がこのような復号器と互換性があるわけではないことに注意してください。また、反復符号など、一部の非トポロジカル符号には互換性があります。\n",
    "\n",
    "復号は  `GraphDecoder`  クラスによって行われます。対応するオブジェクトは、復号が実行される符号オブジェクトを与えることで初期化されます。次に、これを使用して、復号の問題が定義されるグラフを決定します。その後、復号器オブジェクトのさまざまなメソッドを使用して結果を処理できます。\n",
    "\n",
    "以下では、反復符号に対して上記のアイデアを実践します。これを行うには、2つのブール変数、 `step_2` と `step_3` を使用します。変数 `step_2`  はデバイスからデータを取得する際にどのプログラムを実行するかの決定に使われ、  `step_3`  は処理する結果データとして何を使うかの決定に使われます。\n",
    "\n",
    "両方ともデフォルトでfalseに設定されており、事前に収集および処理されたデータのみを使用して以下のすべてのプログラムのスニペットを実行できるようにします。ただし、新しいデータを取得するには、 `step_2 = True` を使用するだけでよく、何かのデータに対して復号を実行するのは `step_3 = True` を使用するだけです。"
   ]
  },
  {
   "cell_type": "code",
   "execution_count": 34,
   "metadata": {},
   "outputs": [],
   "source": [
    "step_2 = False\n",
    "step_3 = False"
   ]
  },
  {
   "cell_type": "markdown",
   "metadata": {},
   "source": [
    "実際のデバイスのベンチマークを行うには、クラウド経由でそのデバイスにアクセスし、そのデバイスで実行するのに適した回路をコンパイルするために必要なツールを用意しなければいけません。これらは次のようにインポートされます。"
   ]
  },
  {
   "cell_type": "code",
   "execution_count": 35,
   "metadata": {
    "tags": [
     "uses-hardware"
    ]
   },
   "outputs": [],
   "source": [
    "from qiskit import IBMQ\n",
    "from qiskit.compiler import transpile\n",
    "from qiskit.transpiler import PassManager"
   ]
  },
  {
   "cell_type": "markdown",
   "metadata": {},
   "source": [
    "これで、回路の実行に使用されるバックエンドオブジェクトを作成できます。これは、デバイスを指定するための文字列を与えることにより行われます。ここでは、 `'ibmq_16_melbourne'`  が使用されます。これには、執筆時点で15個のアクティブな量子ビットがあります。また、   `'ibmq_rochester'` で指定される53量子ビット *Rochester* デバイスについても検討します。"
   ]
  },
  {
   "cell_type": "code",
   "execution_count": 36,
   "metadata": {
    "tags": [
     "uses-hardware"
    ]
   },
   "outputs": [],
   "source": [
    "device_name = 'ibmq_16_melbourne'\n",
    "\n",
    "if step_2:\n",
    "    \n",
    "    IBMQ.load_account()\n",
    "    \n",
    "    for provider in IBMQ.providers():\n",
    "        for potential_backend in provider.backends():\n",
    "            if potential_backend.name()==device_name:\n",
    "                backend = potential_backend\n",
    "\n",
    "    coupling_map = backend.configuration().coupling_map"
   ]
  },
  {
   "cell_type": "markdown",
   "metadata": {},
   "source": [
    "実際のデバイスで回路を実行する場合、最初にトランスピレーション(transpilation)処理が実装されます。これにより、デバイスでの実装が回路のゲートからネイティブゲートセットに変更されます。場合によっては、対応するオイラー角による単一の量子ビット回転として各アダマールを表現するなど、これらの変更はかなり自明です。ただし、回路がデバイスの接続性を考慮しない場合、変更がより重大になりえます。たとえば、デバイスによって直接実装されていない制御NOTを回路が必要とするとします。その場合、追加の制御NOTゲートを使用して量子ビット状態を移動させるなどの手法で、元の制御NOTの効果を再現する必要があります。これは追加のノイズを導入するだけでなく、すでに存在するノイズの非局在化も発生させます。元の回路の単一の量子ビットエラーは、追加のトランスピレーションの作用の下で複数量子ビットのエラーになり得ます。したがって、量子エラー訂正回路を実行する場合、この非自明なトランスピレーションを防止する必要があります。\n",
    "\n",
    "反復符号のテストでは、量子ビットを1本の導線(line)に沿って効果的に並べる必要があります。必要とされる制御NOTゲートだけは、その導線上の隣接ノードの間に配置します。したがって、最初のタスクは、デバイスの結合マップを調べ、導線を見つけることです。\n",
    "\n",
    "![Fig. 1. The coupling map of the IBM Q Melbourne device.](images/melbourne.png)\n",
    "\n",
    "Melbourneの場合、15量子ビットすべてをカバーする導線を見つけることができます。以下の配列  `line`  で指定されている選択肢は、最もエラーが発生しやすい `cx` ゲートを避けるように設計されています。 53量子ビットの *Rochester*  デバイスの場合、53量子ビットすべてをカバーする単一の導線はありません。代わりに、43量子ビットをカバーする次の選択肢を使用できます。"
   ]
  },
  {
   "cell_type": "code",
   "execution_count": 37,
   "metadata": {
    "tags": [
     "uses-hardware"
    ]
   },
   "outputs": [],
   "source": [
    "if device_name=='ibmq_16_melbourne':\n",
    "    line = [13,14,0,1,2,12,11,3,4,10,9,5,6,8,7]\n",
    "elif device_name=='ibmq_rochester':\n",
    "    line = [10,11,17,23,22,21,20,19,16,7,8,9,5]#,0,1,2,3,4,6,13,14,15,18,27,26,25,29,36,37,38,41,50,49,48,47,46,45,44,43,42,39,30,31]"
   ]
  },
  {
   "cell_type": "markdown",
   "metadata": {},
   "source": [
    "アクセスできる量子ビットの数がわかったので、実行する符号ごとに反復符号オブジェクトを作成できます。  `n`  の反復を含む符号は、 $n$符号量子ビットと$n-1$リンク量子ビットを使用するため、合計で $2n-1$ であることに注意してください。"
   ]
  },
  {
   "cell_type": "code",
   "execution_count": 38,
   "metadata": {
    "tags": [
     "uses-hardware"
    ]
   },
   "outputs": [],
   "source": [
    "n_min = 3\n",
    "n_max = int((len(line)+1)/2)\n",
    "\n",
    "code = {}\n",
    "\n",
    "for n in range(n_min,n_max+1):\n",
    "    code[n] = RepetitionCode(n,1)"
   ]
  },
  {
   "cell_type": "markdown",
   "metadata": {},
   "source": [
    "これらの符号をもとに回路を実行する前に、トランスパイラ(transpiler)がデバイス上のどの物理量子ビットを使用する必要があるかを確認しなければなりません。  `line[0]`  の量子ビットを最初の符号量子ビットとして使用し、  `line[1]`  の量子ビットを最初のリンク量子ビットとして使用するなどと確認することを意味します。これは次の関数によって実行され、反復符号オブジェクトと `line` をインプットとし、符号のどの量子ビットが導線のどの要素に対応するかを指定するPython辞書をアウトプットとします。"
   ]
  },
  {
   "cell_type": "code",
   "execution_count": 39,
   "metadata": {
    "tags": [
     "uses-hardware"
    ]
   },
   "outputs": [],
   "source": [
    "def get_initial_layout(code,line):\n",
    "    initial_layout = {}\n",
    "    for j in range(n):\n",
    "        initial_layout[code.code_qubit[j]] = line[2*j]\n",
    "    for j in range(n-1):\n",
    "        initial_layout[code.link_qubit[j]] = line[2*j+1]\n",
    "    return initial_layout"
   ]
  },
  {
   "cell_type": "markdown",
   "metadata": {},
   "source": [
    "これで、回路をトランスパイルして、デバイスで実際に実行される回路を作成できます。量子ビットの数を増やすことによって、トランスピレーションが実際に非自明な効果を生じないことを確認するためのチェックも行われます。さらに、コンパイルされた回路は単一のリストに集められ、同じバッチジョブですべてを一度に送信できます。"
   ]
  },
  {
   "cell_type": "code",
   "execution_count": 40,
   "metadata": {
    "tags": [
     "uses-hardware"
    ]
   },
   "outputs": [],
   "source": [
    "if step_2:\n",
    "    \n",
    "    circuits = []\n",
    "    for n in range(n_min,n_max+1):\n",
    "        initial_layout = get_initial_layout(code[n],line)\n",
    "        for log in ['0','1']:\n",
    "            circuits.append( transpile(code[n].circuit[log], backend=backend, initial_layout=initial_layout) )\n",
    "            num_cx = dict(circuits[-1].count_ops())['cx']\n",
    "            assert num_cx==2*(n-1), str(num_cx) + ' instead of ' + str(2*(n-1)) + ' cx gates for n = ' + str(n)"
   ]
  },
  {
   "cell_type": "markdown",
   "metadata": {},
   "source": [
    "これで、ジョブを実行する準備ができました。前述のシミュレートされたジョブと同様に、この結果は辞書 `raw_results`に格納されます。ただし、この場合、異なる符号サイズからの結果を保持するため辞書が拡張されます。これは、以下の `raw_results[n]` が、ある `n` に対して前述の辞書 `raw_results` の1つと等価であることを意味します。"
   ]
  },
  {
   "cell_type": "code",
   "execution_count": 41,
   "metadata": {
    "tags": [
     "uses-hardware"
    ]
   },
   "outputs": [],
   "source": [
    "if step_2:\n",
    "    \n",
    "    job = execute(circuits,backend,shots=8192)\n",
    "\n",
    "    raw_results = {}\n",
    "    j = 0\n",
    "    for d in range(n_min,n_max+1):\n",
    "        raw_results[d] = {}\n",
    "        for log in ['0','1']:\n",
    "            raw_results[d][log] = job.result().get_counts(j)\n",
    "            j += 1"
   ]
  },
  {
   "cell_type": "markdown",
   "metadata": {},
   "source": [
    "データをファイルに保存しておくと便利です。これにより、ステップ3の処理を後で実行したり、繰り返したりできます。"
   ]
  },
  {
   "cell_type": "code",
   "execution_count": 42,
   "metadata": {
    "tags": [
     "uses-hardware"
    ]
   },
   "outputs": [],
   "source": [
    "if step_2: # save results\n",
    "    with open('results/raw_results_'+device_name+'.txt', 'w') as file:\n",
    "        file.write(str(raw_results))\n",
    "elif step_3: # read results\n",
    "    with open('results/raw_results_'+device_name+'.txt', 'r') as file:\n",
    "        raw_results = eval(file.read())"
   ]
  },
  {
   "cell_type": "markdown",
   "metadata": {},
   "source": [
    "上で見たように、復号処理では、シンドロームを正しい形式で表現するために、最初に結果を書き換える必要があります。そのため、各反復符号オブジェクト `code[n]` の`process_results`メソッドを使用して、 `results[n]`  から結果の辞書 `raw_results[n]` を決定します。"
   ]
  },
  {
   "cell_type": "code",
   "execution_count": 43,
   "metadata": {
    "tags": [
     "uses-hardware"
    ]
   },
   "outputs": [],
   "source": [
    "if step_3:\n",
    "    results = {}\n",
    "    for n in range(n_min,n_max+1):\n",
    "        results[n] = code[n].process_results( raw_results[n] )"
   ]
  },
  {
   "cell_type": "markdown",
   "metadata": {},
   "source": [
    "復号では、各符号に `GraphDecoder` オブジェクトを設定する必要もあります。最後のセクションで説明したように、シンドロームに対応するグラフの構築がこれらの初期化に含まれます。"
   ]
  },
  {
   "cell_type": "code",
   "execution_count": 44,
   "metadata": {
    "tags": [
     "uses-hardware"
    ]
   },
   "outputs": [],
   "source": [
    "if step_3:\n",
    "    dec = {}\n",
    "    for n in range(n_min,n_max+1):\n",
    "        dec[n] = GraphDecoder(code[n])"
   ]
  },
  {
   "cell_type": "markdown",
   "metadata": {},
   "source": [
    "最後に、復号器オブジェクトを使用して結果を処理できます。ここでは、デフォルトのアルゴリズムである最小重み完全マッチングが使用されます。最終結果は、論理エラー確率の計算結果です。手順3を実行すると、次のスニペットも論理エラーの確率を保存します。それ以外の場合は、以前に保存された確率を読み込みます。"
   ]
  },
  {
   "cell_type": "code",
   "execution_count": 45,
   "metadata": {
    "tags": [
     "uses-hardware"
    ]
   },
   "outputs": [],
   "source": [
    "if step_3:\n",
    "    \n",
    "    logical_prob_match = {}\n",
    "    for n in range(n_min,n_max+1):\n",
    "        logical_prob_match[n] = dec[n].get_logical_prob(results[n])\n",
    "        \n",
    "    with open('results/logical_prob_match_'+device_name+'.txt', 'w') as file:\n",
    "        file.write(str(logical_prob_match))\n",
    "        \n",
    "else:\n",
    "    with open('results/logical_prob_match_'+device_name+'.txt', 'r') as file:\n",
    "        logical_prob_match = eval(file.read())"
   ]
  },
  {
   "cell_type": "markdown",
   "metadata": {},
   "source": [
    "結果の論理エラー確率は、次のようなy軸がログスケールのグラフに表示されます。論理エラー確率は、 $n$ の増加に伴って指数関数的に減衰すると予想されます。この場合、デバイスがこの量子エラー訂正の基本的検証と矛盾がないと言えます。そうでない場合は、量子ビットとゲートが十分に信頼できないことを意味します。\n",
    "\n",
    "幸運にも、IBM Qのプロトタイプデバイスの結果は通常、予想された指数関数的な減衰を示します。以下の結果では、小サイズの符号がこのルールの例外を表していることがわかります。コードのサイズを大きくすると、非常に低いまたは高いノイズの量子ビットのグループが使用される場合など、その他の逸脱も予想されます。"
   ]
  },
  {
   "cell_type": "code",
   "execution_count": 46,
   "metadata": {
    "tags": [
     "uses-hardware"
    ]
   },
   "outputs": [
    {
     "data": {
      "image/svg+xml": [
       "<?xml version=\"1.0\" encoding=\"UTF-8\"?><!DOCTYPE svg  PUBLIC '-//W3C//DTD SVG 1.1//EN'  'http://www.w3.org/Graphics/SVG/1.1/DTD/svg11.dtd'><svg width=\"415.7pt\" height=\"310.87pt\" version=\"1.1\" viewBox=\"0 0 415.7 310.87\" xmlns=\"http://www.w3.org/2000/svg\" xmlns:xlink=\"http://www.w3.org/1999/xlink\"><defs><style type=\"text/css\">*{stroke-linejoin: round; stroke-linecap: butt}</style></defs><path d=\"m0 310.87h415.7v-310.87h-415.7z\" fill=\"#ffffff\"/><path d=\"m51.378 273.31h357.12v-266.11h-357.12z\" fill=\"#ffffff\"/><defs><path id=\"m3aa1b0cd7f\" d=\"m0 3c0.79561 0 1.5587-0.3161 2.1213-0.87868 0.56258-0.56258 0.87868-1.3257 0.87868-2.1213s-0.3161-1.5587-0.87868-2.1213c-0.56258-0.56258-1.3257-0.87868-2.1213-0.87868s-1.5587 0.3161-2.1213 0.87868c-0.56258 0.56258-0.87868 1.3257-0.87868 2.1213s0.3161 1.5587 0.87868 2.1213c0.56258 0.56258 1.3257 0.87868 2.1213 0.87868z\" stroke=\"#1192e8\"/></defs><g clip-path=\"url(#pbad1361991)\" fill=\"#1192e8\" stroke=\"#1192e8\"><use x=\"67.610852\" y=\"39.560324\" xlink:href=\"#m3aa1b0cd7f\"/><use x=\"132.541761\" y=\"79.002073\" xlink:href=\"#m3aa1b0cd7f\"/><use x=\"197.47267\" y=\"83.806272\" xlink:href=\"#m3aa1b0cd7f\"/><use x=\"262.40358\" y=\"152.406319\" xlink:href=\"#m3aa1b0cd7f\"/><use x=\"327.334489\" y=\"208.649332\" xlink:href=\"#m3aa1b0cd7f\"/><use x=\"392.265398\" y=\"250.351985\" xlink:href=\"#m3aa1b0cd7f\"/></g><defs><path id=\"m8a759a2c2b\" d=\"m0 3c0.79561 0 1.5587-0.3161 2.1213-0.87868 0.56258-0.56258 0.87868-1.3257 0.87868-2.1213s-0.3161-1.5587-0.87868-2.1213c-0.56258-0.56258-1.3257-0.87868-2.1213-0.87868s-1.5587 0.3161-2.1213 0.87868c-0.56258 0.56258-0.87868 1.3257-0.87868 2.1213s0.3161 1.5587 0.87868 2.1213c0.56258 0.56258 1.3257 0.87868 2.1213 0.87868z\" stroke=\"#6929c4\"/></defs><g clip-path=\"url(#pbad1361991)\" fill=\"#6929c4\" stroke=\"#6929c4\"><use x=\"67.610852\" y=\"54.952479\" xlink:href=\"#m8a759a2c2b\"/><use x=\"132.541761\" y=\"73.270539\" xlink:href=\"#m8a759a2c2b\"/><use x=\"197.47267\" y=\"58.478674\" xlink:href=\"#m8a759a2c2b\"/><use x=\"262.40358\" y=\"94.713522\" xlink:href=\"#m8a759a2c2b\"/><use x=\"327.334489\" y=\"134.780831\" xlink:href=\"#m8a759a2c2b\"/><use x=\"392.265398\" y=\"166.408945\" xlink:href=\"#m8a759a2c2b\"/></g><defs><path id=\"mb8d780628a\" d=\"m0 0v3.5\" stroke=\"#343a3f\" stroke-width=\".8\"/></defs><use x=\"67.610852\" y=\"273.312\" fill=\"#343a3f\" stroke=\"#343a3f\" stroke-width=\".8\" xlink:href=\"#mb8d780628a\"/><g transform=\"translate(64.43 287.91) scale(.1 -.1)\" fill=\"#343a3f\"><defs><path id=\"DejaVuSans-33\" transform=\"scale(.015625)\" d=\"m2597 2516q453-97 707-404 255-306 255-756 0-690-475-1069-475-378-1350-378-293 0-604 58t-642 174v609q262-153 574-231 313-78 654-78 593 0 904 234t311 681q0 413-289 645-289 233-804 233h-544v519h569q465 0 712 186t247 536q0 359-255 551-254 193-729 193-260 0-557-57-297-56-653-174v562q360 100 674 150t592 50q719 0 1137-327 419-326 419-882 0-388-222-655t-631-370z\"/></defs><use xlink:href=\"#DejaVuSans-33\"/></g><use x=\"132.541761\" y=\"273.312\" fill=\"#343a3f\" stroke=\"#343a3f\" stroke-width=\".8\" xlink:href=\"#mb8d780628a\"/><g transform=\"translate(129.36 287.91) scale(.1 -.1)\" fill=\"#343a3f\"><defs><path id=\"DejaVuSans-34\" transform=\"scale(.015625)\" d=\"m2419 4116-1594-2491h1594v2491zm-166 550h794v-3041h666v-525h-666v-1100h-628v1100h-2106v609l1940 2957z\"/></defs><use xlink:href=\"#DejaVuSans-34\"/></g><use x=\"197.47267\" y=\"273.312\" fill=\"#343a3f\" stroke=\"#343a3f\" stroke-width=\".8\" xlink:href=\"#mb8d780628a\"/><g transform=\"translate(194.29 287.91) scale(.1 -.1)\" fill=\"#343a3f\"><defs><path id=\"DejaVuSans-35\" transform=\"scale(.015625)\" d=\"m691 4666h2478v-532h-1900v-1143q137 47 274 70 138 23 276 23 781 0 1237-428 457-428 457-1159 0-753-469-1171-469-417-1322-417-294 0-599 50-304 50-629 150v635q281-153 581-228t634-75q541 0 856 284 316 284 316 772 0 487-316 771-315 285-856 285-253 0-505-56-251-56-513-175v2344z\"/></defs><use xlink:href=\"#DejaVuSans-35\"/></g><use x=\"262.40358\" y=\"273.312\" fill=\"#343a3f\" stroke=\"#343a3f\" stroke-width=\".8\" xlink:href=\"#mb8d780628a\"/><g transform=\"translate(259.22 287.91) scale(.1 -.1)\" fill=\"#343a3f\"><defs><path id=\"DejaVuSans-36\" transform=\"scale(.015625)\" d=\"m2113 2584q-425 0-674-291-248-290-248-796 0-503 248-796 249-292 674-292t673 292q248 293 248 796 0 506-248 796-248 291-673 291zm1253 1979v-575q-238 112-480 171-242 60-480 60-625 0-955-422-329-422-376-1275 184 272 462 417 279 145 613 145 703 0 1111-427 408-426 408-1160 0-719-425-1154-425-434-1131-434-810 0-1238 620-428 621-428 1799 0 1106 525 1764t1409 658q238 0 480-47t505-140z\"/></defs><use xlink:href=\"#DejaVuSans-36\"/></g><use x=\"327.334489\" y=\"273.312\" fill=\"#343a3f\" stroke=\"#343a3f\" stroke-width=\".8\" xlink:href=\"#mb8d780628a\"/><g transform=\"translate(324.15 287.91) scale(.1 -.1)\" fill=\"#343a3f\"><defs><path id=\"DejaVuSans-37\" transform=\"scale(.015625)\" d=\"m525 4666h3e3v-269l-1694-4397h-659l1594 4134h-2241v532z\"/></defs><use xlink:href=\"#DejaVuSans-37\"/></g><use x=\"392.265398\" y=\"273.312\" fill=\"#343a3f\" stroke=\"#343a3f\" stroke-width=\".8\" xlink:href=\"#mb8d780628a\"/><g transform=\"translate(389.08 287.91) scale(.1 -.1)\" fill=\"#343a3f\"><defs><path id=\"DejaVuSans-38\" transform=\"scale(.015625)\" d=\"m2034 2216q-450 0-708-241-257-241-257-662 0-422 257-663 258-241 708-241t709 242q260 243 260 662 0 421-258 662-257 241-711 241zm-631 268q-406 100-633 378-226 279-226 679 0 559 398 884 399 325 1092 325 697 0 1094-325t397-884q0-400-227-679-226-278-629-378 456-106 710-416 255-309 255-755 0-679-414-1042-414-362-1186-362-771 0-1186 362-414 363-414 1042 0 446 256 755 257 310 713 416zm-231 997q0-362 226-565 227-203 636-203 407 0 636 203 230 203 230 565 0 363-230 566-229 203-636 203-409 0-636-203-226-203-226-566z\"/></defs><use xlink:href=\"#DejaVuSans-38\"/></g><g transform=\"translate(188.01 301.59) scale(.1 -.1)\" fill=\"#343a3f\"><defs><path id=\"DejaVuSans-43\" transform=\"scale(.015625)\" d=\"m4122 4306v-665q-319 297-680 443-361 147-767 147-800 0-1225-489t-425-1414q0-922 425-1411t1225-489q406 0 767 147t680 444v-660q-331-225-702-338-370-112-782-112-1060 0-1670 648-609 649-609 1771 0 1125 609 1773 610 649 1670 649 418 0 788-111 371-111 696-333z\"/><path id=\"DejaVuSans-6f\" transform=\"scale(.015625)\" d=\"m1959 3097q-462 0-731-361t-269-989 267-989q268-361 733-361 460 0 728 362 269 363 269 988 0 622-269 986-268 364-728 364zm0 487q750 0 1178-488 429-487 429-1349 0-859-429-1349-428-489-1178-489-753 0-1180 489-426 490-426 1349 0 862 426 1349 427 488 1180 488z\"/><path id=\"DejaVuSans-64\" transform=\"scale(.015625)\" d=\"m2906 2969v1894h575v-4863h-575v525q-181-312-458-464-276-152-664-152-634 0-1033 506-398 507-398 1332t398 1331q399 506 1033 506 388 0 664-152 277-151 458-463zm-1959-1222q0-634 261-995t717-361 718 361q263 361 263 995t-263 995q-262 361-718 361t-717-361-261-995z\"/><path id=\"DejaVuSans-65\" transform=\"scale(.015625)\" d=\"m3597 1894v-281h-2644q38-594 358-905t892-311q331 0 642 81t618 244v-544q-310-131-635-200t-659-69q-838 0-1327 487-489 488-489 1320 0 859 464 1363 464 505 1252 505 706 0 1117-455 411-454 411-1235zm-575 169q-6 471-264 752-258 282-683 282-481 0-770-272t-333-766l2050 4z\"/><path id=\"DejaVuSans-69\" transform=\"scale(.015625)\" d=\"m603 3500h575v-3500h-575v3500zm0 1363h575v-729h-575v729z\"/><path id=\"DejaVuSans-73\" transform=\"scale(.015625)\" d=\"m2834 3397v-544q-243 125-506 187-262 63-544 63-428 0-642-131t-214-394q0-200 153-314t616-217l197-44q612-131 870-370t258-667q0-488-386-773-386-284-1061-284-281 0-586 55t-642 164v594q319-166 628-249 309-82 613-82 406 0 624 139 219 139 219 392 0 234-158 359-157 125-692 241l-200 47q-534 112-772 345-237 233-237 639 0 494 350 762 350 269 994 269 318 0 599-47 282-46 519-140z\"/><path id=\"DejaVuSans-74\" transform=\"scale(.015625)\" d=\"m1172 4494v-994h1184v-447h-1184v-1900q0-428 117-550t477-122h590v-481h-590q-666 0-919 248-253 249-253 905v1900h-422v447h422v994h578z\"/><path id=\"DejaVuSans-61\" transform=\"scale(.015625)\" d=\"m2194 1759q-697 0-966-159t-269-544q0-306 202-486 202-179 548-179 479 0 768 339t289 901v128h-572zm1147 238v-1997h-575v531q-197-318-491-470t-719-152q-537 0-855 302-317 302-317 808 0 590 395 890 396 300 1180 300h807v57q0 397-261 614t-733 217q-300 0-585-72-284-72-546-216v532q315 122 612 182 297 61 578 61 760 0 1135-394 375-393 375-1193z\"/><path id=\"DejaVuSans-6e\" transform=\"scale(.015625)\" d=\"m3513 2113v-2113h-575v2094q0 497-194 743-194 247-581 247-466 0-735-297-269-296-269-809v-1978h-578v3500h578v-544q207 316 486 472 280 156 646 156 603 0 912-373 310-373 310-1098z\"/><path id=\"DejaVuSans-63\" transform=\"scale(.015625)\" d=\"m3122 3366v-538q-244 135-489 202t-495 67q-560 0-870-355-309-354-309-995t309-996q310-354 870-354 250 0 495 67t489 202v-532q-241-112-499-168-257-57-548-57-791 0-1257 497-465 497-465 1341 0 856 470 1346 471 491 1290 491 265 0 518-55 253-54 491-163z\"/><path id=\"DejaVuSans-2c\" transform=\"scale(.015625)\" d=\"m750 794h659v-538l-512-1e3h-403l256 1e3v538z\"/></defs><use xlink:href=\"#DejaVuSans-43\"/><use x=\"69.824219\" xlink:href=\"#DejaVuSans-6f\"/><use x=\"131.005859\" xlink:href=\"#DejaVuSans-64\"/><use x=\"194.482422\" xlink:href=\"#DejaVuSans-65\"/><use x=\"256.005859\" xlink:href=\"#DejaVuSans-20\"/><use x=\"287.792969\" xlink:href=\"#DejaVuSans-64\"/><use x=\"351.269531\" xlink:href=\"#DejaVuSans-69\"/><use x=\"379.052734\" xlink:href=\"#DejaVuSans-73\"/><use x=\"431.152344\" xlink:href=\"#DejaVuSans-74\"/><use x=\"470.361328\" xlink:href=\"#DejaVuSans-61\"/><use x=\"531.640625\" xlink:href=\"#DejaVuSans-6e\"/><use x=\"595.019531\" xlink:href=\"#DejaVuSans-63\"/><use x=\"650\" xlink:href=\"#DejaVuSans-65\"/><use x=\"711.523438\" xlink:href=\"#DejaVuSans-2c\"/><use x=\"743.310547\" xlink:href=\"#DejaVuSans-20\"/><use x=\"775.097656\" xlink:href=\"#DejaVuSans-6e\"/></g><defs><path id=\"m5bd10b647f\" d=\"m0 0h-3.5\" stroke=\"#343a3f\" stroke-width=\".8\"/></defs><use x=\"51.378125\" y=\"267.848786\" fill=\"#343a3f\" stroke=\"#343a3f\" stroke-width=\".8\" xlink:href=\"#m5bd10b647f\"/><g transform=\"translate(20.878 271.65) scale(.1 -.1)\" fill=\"#343a3f\"><defs><path id=\"DejaVuSans-31\" transform=\"scale(.015625)\" d=\"m794 531h1031v3560l-1122-225v575l1116 225h631v-4135h1031v-531h-2687v531z\"/><path id=\"DejaVuSans-30\" transform=\"scale(.015625)\" d=\"m2034 4250q-487 0-733-480-245-479-245-1442 0-959 245-1439 246-480 733-480 491 0 736 480 246 480 246 1439 0 963-246 1442-245 480-736 480zm0 500q785 0 1199-621 414-620 414-1801 0-1178-414-1799-414-620-1199-620-784 0-1198 620-414 621-414 1799 0 1181 414 1801 414 621 1198 621z\"/><path id=\"DejaVuSans-2212\" transform=\"scale(.015625)\" d=\"m678 2272h4006v-531h-4006v531z\"/><path id=\"DejaVuSans-32\" transform=\"scale(.015625)\" d=\"m1228 531h2203v-531h-2962v531q359 372 979 998 621 627 780 809 303 340 423 576 121 236 121 464 0 372-261 606-261 235-680 235-297 0-627-103-329-103-704-313v638q381 153 712 231 332 78 607 78 725 0 1156-363 431-362 431-968 0-288-108-546-107-257-392-607-78-91-497-524-418-433-1181-1211z\"/></defs><use transform=\"translate(0 .76562)\" xlink:href=\"#DejaVuSans-31\"/><use transform=\"translate(63.623 .76562)\" xlink:href=\"#DejaVuSans-30\"/><use transform=\"translate(128.2 39.047) scale(.7)\" xlink:href=\"#DejaVuSans-2212\"/><use transform=\"translate(186.86 39.047) scale(.7)\" xlink:href=\"#DejaVuSans-32\"/></g><use x=\"51.378125\" y=\"84.078596\" fill=\"#343a3f\" stroke=\"#343a3f\" stroke-width=\".8\" xlink:href=\"#m5bd10b647f\"/><g transform=\"translate(20.878 87.878) scale(.1 -.1)\" fill=\"#343a3f\"><use transform=\"translate(0 .68438)\" xlink:href=\"#DejaVuSans-31\"/><use transform=\"translate(63.623 .68438)\" xlink:href=\"#DejaVuSans-30\"/><use transform=\"translate(128.2 38.966) scale(.7)\" xlink:href=\"#DejaVuSans-2212\"/><use transform=\"translate(186.86 38.966) scale(.7)\" xlink:href=\"#DejaVuSans-31\"/></g><defs><path id=\"mc2e7b4f66b\" d=\"m0 0h-2\" stroke=\"#343a3f\" stroke-width=\".6\"/></defs><use x=\"51.378125\" y=\"212.528447\" fill=\"#343a3f\" stroke=\"#343a3f\" stroke-width=\".6\" xlink:href=\"#mc2e7b4f66b\"/><use x=\"51.378125\" y=\"180.168122\" fill=\"#343a3f\" stroke=\"#343a3f\" stroke-width=\".6\" xlink:href=\"#mc2e7b4f66b\"/><use x=\"51.378125\" y=\"157.208107\" fill=\"#343a3f\" stroke=\"#343a3f\" stroke-width=\".6\" xlink:href=\"#mc2e7b4f66b\"/><use x=\"51.378125\" y=\"139.398936\" fill=\"#343a3f\" stroke=\"#343a3f\" stroke-width=\".6\" xlink:href=\"#mc2e7b4f66b\"/><use x=\"51.378125\" y=\"124.847783\" fill=\"#343a3f\" stroke=\"#343a3f\" stroke-width=\".6\" xlink:href=\"#mc2e7b4f66b\"/><use x=\"51.378125\" y=\"112.544959\" fill=\"#343a3f\" stroke=\"#343a3f\" stroke-width=\".6\" xlink:href=\"#mc2e7b4f66b\"/><use x=\"51.378125\" y=\"101.887767\" fill=\"#343a3f\" stroke=\"#343a3f\" stroke-width=\".6\" xlink:href=\"#mc2e7b4f66b\"/><use x=\"51.378125\" y=\"92.487459\" fill=\"#343a3f\" stroke=\"#343a3f\" stroke-width=\".6\" xlink:href=\"#mc2e7b4f66b\"/><use x=\"51.378125\" y=\"28.758256\" fill=\"#343a3f\" stroke=\"#343a3f\" stroke-width=\".6\" xlink:href=\"#mc2e7b4f66b\"/><g transform=\"translate(14.798 208.2) rotate(-90) scale(.1 -.1)\" fill=\"#343a3f\"><defs><path id=\"DejaVuSans-6c\" transform=\"scale(.015625)\" d=\"m603 4863h575v-4863h-575v4863z\"/><path id=\"DejaVuSans-28\" transform=\"scale(.015625)\" d=\"m1984 4856q-418-718-622-1422-203-703-203-1425 0-721 205-1429t620-1424h-500q-468 735-701 1444t-233 1409q0 697 231 1403 232 707 703 1444h500z\"/><path id=\"DejaVuSans-4c\" transform=\"scale(.015625)\" d=\"m628 4666h631v-4135h2272v-531h-2903v4666z\"/><path id=\"DejaVuSans-67\" transform=\"scale(.015625)\" d=\"m2906 1791q0 625-258 968-257 344-723 344-462 0-720-344-258-343-258-968 0-622 258-966t720-344q466 0 723 344 258 344 258 966zm575-1357q0-893-397-1329-396-436-1215-436-303 0-572 45t-522 139v559q253-137 500-202 247-66 503-66 566 0 847 295t281 892v285q-178-310-456-463t-666-153q-643 0-1037 490-394 491-394 1301 0 812 394 1302 394 491 1037 491 388 0 666-153t456-462v531h575v-3066z\"/><path id=\"DejaVuSans-72\" transform=\"scale(.015625)\" d=\"m2631 2963q-97 56-211 82-114 27-251 27-488 0-749-317t-261-911v-1844h-578v3500h578v-544q182 319 472 473 291 155 707 155 59 0 131-8 72-7 159-23l3-590z\"/><path id=\"DejaVuSans-70\" transform=\"scale(.015625)\" d=\"m1159 525v-1856h-578v4831h578v-531q182 312 458 463 277 152 661 152 638 0 1036-506 399-506 399-1331t-399-1332q-398-506-1036-506-384 0-661 152-276 152-458 464zm1957 1222q0 634-261 995t-717 361q-457 0-718-361t-261-995 261-995 718-361q456 0 717 361t261 995z\"/><path id=\"DejaVuSans-62\" transform=\"scale(.015625)\" d=\"m3116 1747q0 634-261 995t-717 361q-457 0-718-361t-261-995 261-995 718-361q456 0 717 361t261 995zm-1957 1222q182 312 458 463 277 152 661 152 638 0 1036-506 399-506 399-1331t-399-1332q-398-506-1036-506-384 0-661 152-276 152-458 464v-525h-578v4863h578v-1894z\"/><path id=\"DejaVuSans-79\" transform=\"scale(.015625)\" d=\"m2059-325q-243-625-475-815-231-191-618-191h-460v481h338q237 0 368 113 132 112 291 531l103 262-1415 3444h609l1094-2737 1094 2737h609l-1538-3825z\"/><path id=\"DejaVuSans-29\" transform=\"scale(.015625)\" d=\"m513 4856h500q468-737 701-1444 233-706 233-1403 0-700-233-1409t-701-1444h-500q415 716 620 1424t205 1429q0 722-205 1425-205 704-620 1422z\"/></defs><use xlink:href=\"#DejaVuSans-6c\"/><use x=\"27.783203\" xlink:href=\"#DejaVuSans-6e\"/><use x=\"91.162109\" xlink:href=\"#DejaVuSans-28\"/><use x=\"130.175781\" xlink:href=\"#DejaVuSans-4c\"/><use x=\"184.138672\" xlink:href=\"#DejaVuSans-6f\"/><use x=\"245.320312\" xlink:href=\"#DejaVuSans-67\"/><use x=\"308.796875\" xlink:href=\"#DejaVuSans-69\"/><use x=\"336.580078\" xlink:href=\"#DejaVuSans-63\"/><use x=\"391.560547\" xlink:href=\"#DejaVuSans-61\"/><use x=\"452.839844\" xlink:href=\"#DejaVuSans-6c\"/><use x=\"480.623047\" xlink:href=\"#DejaVuSans-20\"/><use x=\"512.410156\" xlink:href=\"#DejaVuSans-65\"/><use x=\"573.933594\" xlink:href=\"#DejaVuSans-72\"/><use x=\"613.296875\" xlink:href=\"#DejaVuSans-72\"/><use x=\"652.160156\" xlink:href=\"#DejaVuSans-6f\"/><use x=\"713.341797\" xlink:href=\"#DejaVuSans-72\"/><use x=\"754.455078\" xlink:href=\"#DejaVuSans-20\"/><use x=\"786.242188\" xlink:href=\"#DejaVuSans-70\"/><use x=\"849.71875\" xlink:href=\"#DejaVuSans-72\"/><use x=\"888.582031\" xlink:href=\"#DejaVuSans-6f\"/><use x=\"949.763672\" xlink:href=\"#DejaVuSans-62\"/><use x=\"1013.240234\" xlink:href=\"#DejaVuSans-61\"/><use x=\"1074.519531\" xlink:href=\"#DejaVuSans-62\"/><use x=\"1137.996094\" xlink:href=\"#DejaVuSans-69\"/><use x=\"1165.779297\" xlink:href=\"#DejaVuSans-6c\"/><use x=\"1193.5625\" xlink:href=\"#DejaVuSans-69\"/><use x=\"1221.345703\" xlink:href=\"#DejaVuSans-74\"/><use x=\"1260.554688\" xlink:href=\"#DejaVuSans-79\"/><use x=\"1319.734375\" xlink:href=\"#DejaVuSans-29\"/></g><path d=\"m51.378 273.31v-266.11\" fill=\"none\" stroke=\"#343a3f\" stroke-linecap=\"square\" stroke-width=\".8\"/><path d=\"m51.378 273.31h357.12\" fill=\"none\" stroke=\"#343a3f\" stroke-linecap=\"square\" stroke-width=\".8\"/><path d=\"m325.53 44.556h77.969v-32.356h-77.969z\" fill=\"#ffffff\" opacity=\".8\" stroke=\"#cccccc\"/><use x=\"339.529375\" y=\"21.173437\" fill=\"#1192e8\" stroke=\"#1192e8\" xlink:href=\"#m3aa1b0cd7f\"/><g transform=\"translate(357.53 23.798) scale(.1 -.1)\" fill=\"#343a3f\"><use xlink:href=\"#DejaVuSans-6c\"/><use x=\"27.783203\" xlink:href=\"#DejaVuSans-6f\"/><use x=\"88.964844\" xlink:href=\"#DejaVuSans-67\"/><use x=\"152.441406\" xlink:href=\"#DejaVuSans-69\"/><use x=\"180.224609\" xlink:href=\"#DejaVuSans-63\"/><use x=\"235.205078\" xlink:href=\"#DejaVuSans-61\"/><use x=\"296.484375\" xlink:href=\"#DejaVuSans-6c\"/><use x=\"324.267578\" xlink:href=\"#DejaVuSans-20\"/><use x=\"356.054688\" xlink:href=\"#DejaVuSans-30\"/></g><use x=\"339.529375\" y=\"35.851562\" fill=\"#6929c4\" stroke=\"#6929c4\" xlink:href=\"#m8a759a2c2b\"/><g transform=\"translate(357.53 38.477) scale(.1 -.1)\" fill=\"#343a3f\"><use xlink:href=\"#DejaVuSans-6c\"/><use x=\"27.783203\" xlink:href=\"#DejaVuSans-6f\"/><use x=\"88.964844\" xlink:href=\"#DejaVuSans-67\"/><use x=\"152.441406\" xlink:href=\"#DejaVuSans-69\"/><use x=\"180.224609\" xlink:href=\"#DejaVuSans-63\"/><use x=\"235.205078\" xlink:href=\"#DejaVuSans-61\"/><use x=\"296.484375\" xlink:href=\"#DejaVuSans-6c\"/><use x=\"324.267578\" xlink:href=\"#DejaVuSans-20\"/><use x=\"356.054688\" xlink:href=\"#DejaVuSans-31\"/></g><defs><clipPath id=\"pbad1361991\"><rect x=\"51.378\" y=\"7.2\" width=\"357.12\" height=\"266.11\"/></clipPath></defs></svg>"
      ],
      "text/plain": [
       "<Figure size 640x480 with 1 Axes>"
      ]
     },
     "metadata": {},
     "output_type": "display_data"
    }
   ],
   "source": [
    "import matplotlib.pyplot as plt\n",
    "import numpy as np\n",
    "\n",
    "x_axis = range(n_min,n_max+1)\n",
    "P = { log: [logical_prob_match[n][log] for n in x_axis] for log in ['0', '1'] }\n",
    "\n",
    "ax = plt.gca()\n",
    "plt.xlabel('Code distance, n')\n",
    "plt.ylabel('ln(Logical error probability)')\n",
    "ax.scatter( x_axis, P['0'], label=\"logical 0\")\n",
    "ax.scatter( x_axis, P['1'], label=\"logical 1\")\n",
    "ax.set_yscale('log')\n",
    "ax.set_ylim(ymax=1.5*max(P['0']+P['1']),ymin=0.75*min(P['0']+P['1']))\n",
    "plt.legend()\n",
    "\n",
    "plt.show()"
   ]
  },
  {
   "cell_type": "markdown",
   "metadata": {},
   "source": [
    "私たちが得られる別の示唆は、結果を使用して、特定のエラープロセスが発生する可能性を判断することです。\n",
    "\n",
    "これを行うには、シンドロームグラフの各エッジが、回路内の特定の地点で特定の量子ビットに発生している特定のエラー形式を表している事実を使います。これは、隣接ノードの両方に対応するシンドローム値を変更する一意の単一エラーです。その結果、シンドロームの確率を推定するために結果を使って、エラーイベントの確率を推定することができます。具体的には、一次のオーダーでは以下が成り立ちます。\n",
    "\n",
    "$$ \\frac{p}{1-p} \\approx \\frac{C_{11}}{C_{00}} $$\n",
    "\n",
    "ここで、$ p$ は特定のエッジに対応するエラー確率で、$C_{11}$ は値  `1` を取るノードを両端にもつシンドローム値に対応し、$C_{00}$は値  `0` を取るノードを両端にもつシンドローム値に対応します。\n",
    "\n",
    "復号器オブジェクトには、これらの比率を決定し、各エッジに重み $-\\ln(p/(1-p))$を割り当てるメソッド `weight_syndrome_graph` があります。この方法を採用し、重みを調べることにより、これらの確率を簡単に取得できます。"
   ]
  },
  {
   "cell_type": "code",
   "execution_count": 47,
   "metadata": {
    "tags": [
     "uses-hardware"
    ]
   },
   "outputs": [],
   "source": [
    "if step_3:\n",
    "\n",
    "    dec[n_max].weight_syndrome_graph(results=results[n_max])\n",
    "\n",
    "    probs = []\n",
    "    for edge in dec[n_max].S.edges:\n",
    "        ratio = np.exp(-dec[n_max].S.get_edge_data(edge[0],edge[1])['distance'])\n",
    "        probs.append( ratio/(1+ratio) )\n",
    "        \n",
    "    with open('results/probs_'+device_name+'.txt', 'w') as file:\n",
    "        file.write(str(probs))\n",
    "        \n",
    "else:\n",
    "    \n",
    "    with open('results/probs_'+device_name+'.txt', 'r') as file:\n",
    "        probs = eval(file.read())"
   ]
  },
  {
   "cell_type": "markdown",
   "metadata": {},
   "source": [
    "完全なリストを表示するのではなく、平均値、標準偏差、最小値、最大値、四分位数を介して要約を取得できます。"
   ]
  },
  {
   "cell_type": "code",
   "execution_count": 48,
   "metadata": {
    "tags": [
     "uses-hardware"
    ]
   },
   "outputs": [
    {
     "data": {
      "text/plain": [
       "{'count': 29.0,\n",
       " 'mean': 0.1839624024105741,\n",
       " 'std': 0.08969281029182916,\n",
       " 'min': 0.032099523882660116,\n",
       " '25%': 0.1202076677316294,\n",
       " '50%': 0.15479808944854537,\n",
       " '75%': 0.2585266030013643,\n",
       " 'max': 0.3820573455512858}"
      ]
     },
     "execution_count": 48,
     "metadata": {},
     "output_type": "execute_result"
    }
   ],
   "source": [
    "import pandas as pd\n",
    "\n",
    "pd.Series(probs).describe().to_dict()"
   ]
  },
  {
   "cell_type": "markdown",
   "metadata": {},
   "source": [
    "デバイスのベンチマークでは、完全に等しいエラー確率のセットは生成されません。ただし、読み出しエラーと制御NOTゲートのエラー確率の比較は有用です。具体的には、 `backend`  オブジェクトを使用して、ベンチマークからこれらの値を取得できます。"
   ]
  },
  {
   "cell_type": "code",
   "execution_count": 49,
   "metadata": {
    "tags": [
     "uses-hardware"
    ]
   },
   "outputs": [
    {
     "data": {
      "text/plain": [
       "{'count': 43.0,\n",
       " 'mean': 0.03964249408264689,\n",
       " 'std': 0.02227486941657462,\n",
       " 'min': 0.01279016878072245,\n",
       " '25%': 0.025389504940856747,\n",
       " '50%': 0.03296455263355727,\n",
       " '75%': 0.046331516695269206,\n",
       " 'max': 0.11660000000000004}"
      ]
     },
     "execution_count": 49,
     "metadata": {},
     "output_type": "execute_result"
    }
   ],
   "source": [
    "if step_3:\n",
    "\n",
    "    gate_probs = []\n",
    "    for j,qubit in enumerate(line):\n",
    "        \n",
    "        gate_probs.append( backend.properties().readout_error(qubit) )\n",
    "        \n",
    "        cx1,cx2 = 0,0\n",
    "        if j>0:\n",
    "            gate_probs( backend.properties().gate_error('cx',[qubit,line[j-1]]) )\n",
    "        if j<len(line)-1:\n",
    "            gate_probs( backend.properties().gate_error('cx',[qubit,line[j+1]]) )\n",
    "                \n",
    "    with open('results/gate_probs_'+device_name+'.txt', 'w') as file:\n",
    "        file.write(str(gate_probs))\n",
    "        \n",
    "else:\n",
    "    \n",
    "    with open('results/gate_probs_'+device_name+'.txt', 'r') as file:\n",
    "        gate_probs = eval(file.read())\n",
    "    \n",
    "pd.Series(gate_probs).describe().to_dict()"
   ]
  },
  {
   "cell_type": "code",
   "execution_count": 50,
   "metadata": {
    "scrolled": true
   },
   "outputs": [
    {
     "data": {
      "text/plain": [
       "{'qiskit-terra': '0.21.2', 'qiskit-aer': '0.10.4', 'qiskit-ignis': None, 'qiskit-ibmq-provider': '0.19.2', 'qiskit': '0.37.2', 'qiskit-nature': '0.4.1', 'qiskit-finance': '0.3.2', 'qiskit-optimization': '0.4.0', 'qiskit-machine-learning': '0.4.0'}"
      ]
     },
     "execution_count": 50,
     "metadata": {},
     "output_type": "execute_result"
    }
   ],
   "source": [
    "import qiskit\n",
    "qiskit.__qiskit_version__"
   ]
  }
 ],
 "metadata": {
  "kernelspec": {
   "display_name": "Python 3",
   "language": "python",
   "name": "python3"
  },
  "language_info": {
   "codemirror_mode": {
    "name": "ipython",
    "version": 3
   },
   "file_extension": ".py",
   "mimetype": "text/x-python",
   "name": "python",
   "nbconvert_exporter": "python",
   "pygments_lexer": "ipython3",
   "version": "3.8.5"
  }
 },
 "nbformat": 4,
 "nbformat_minor": 2
}
