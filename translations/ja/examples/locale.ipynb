{
 "cells": [
  {
   "cell_type": "markdown",
   "id": "63c6d68c",
   "metadata": {},
   "source": [
    "# ロケール"
   ]
  },
  {
   "cell_type": "markdown",
   "id": "8bef8367",
   "metadata": {
    "formulas": {
     "matrix_a": {
      "meaning": "A は行列"
     },
     "some_number": {
      "meaning": "λ はある数値です"
     }
    }
   },
   "source": [
    "## 表記法\n",
    "\n",
    "$$\\cssId{matrix_a}{A} |v\\rangle \\ = \\ \\class{some_number}{\\lambda} |v\\rangle,$$\n"
   ]
  },
  {
   "cell_type": "markdown",
   "id": "0a14f7e7",
   "metadata": {
    "gloss": {
     "vector": {
      "text": "正式には、 **ベクトル** |v⟩ は、ベクトル空間として知られる集合の元として定義されています。 より直感的で幾何学的な定義では、ベクトルは「方向と大きさの両方を持つ数学的な量」になります",
      "title": "ベクトル"
     }
    }
   },
   "source": [
    "## 用語集\n",
    "\n",
    "まずは、量子計算において最も重要な数学量の1つである[ベクトル](gloss:vector)について議論することから、基礎線形代数の探究を始めましょう。\n"
   ]
  },
  {
   "cell_type": "markdown",
   "id": "e8124bb1",
   "metadata": {},
   "source": [
    "## コード\n"
   ]
  },
  {
   "cell_type": "code",
   "execution_count": 1,
   "id": "19bd8858",
   "metadata": {},
   "outputs": [
    {
     "name": "stdout",
     "output_type": "stream",
     "text": [
      "こんにちは\n"
     ]
    }
   ],
   "source": [
    "print('こんにちは')"
   ]
  },
  {
   "cell_type": "markdown",
   "id": "b6abc0f1",
   "metadata": {},
   "source": [
    "## 画像\n",
    "\n",
    "![textbook](images/qiskit-textbook.jpg)\n"
   ]
  },
  {
   "cell_type": "code",
   "execution_count": null,
   "id": "8f759966",
   "metadata": {},
   "outputs": [],
   "source": []
  }
 ],
 "metadata": {
  "kernelspec": {
   "display_name": "Python 3",
   "language": "python",
   "name": "python3"
  },
  "language_info": {
   "codemirror_mode": {
    "name": "ipython",
    "version": 3
   },
   "file_extension": ".py",
   "mimetype": "text/x-python",
   "name": "python",
   "nbconvert_exporter": "python",
   "pygments_lexer": "ipython3",
   "version": "3.7.9"
  }
 },
 "nbformat": 4,
 "nbformat_minor": 5
}
