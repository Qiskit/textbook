{
 "cells": [
  {
   "cell_type": "markdown",
   "metadata": {},
   "source": [
    "# ウィジェット"
   ]
  },
  {
   "cell_type": "markdown",
   "metadata": {
    "goals": [
     {
      "id": "minicomposer"
     }
    ]
   },
   "source": [
    "## minicomposer\n",
    "\n",
    "    q-mini-composer(goal=\"minicomposer\")\n",
    "        .slide\n",
    "            .circuit\n",
    "                .autoMeasureGate\n",
    "                .availableGates H X Z\n",
    "                .initialCircuit\n",
    "                    .qubit\n",
    "                .goalCircuit\n",
    "                    .qubit H\n",
    "                .startProbabilities 0: 1, 1: 0\n",
    "                .endProbabilities 0: 0.5, 1: 0.5\n",
    "            .instructions first slide instructions\n",
    "            .lesson this is the lesson on the first slide\n",
    "            .info congratulations! 1º slide\n",
    "        .slide\n",
    "            .circuit\n",
    "                .autoMeasureGate\n",
    "                .availableGates H\n",
    "                .initialCircuit\n",
    "                    .qubit H\n",
    "                    .qubit H H\n",
    "                .goalCircuit\n",
    "                    .qubit H H\n",
    "                    .qubit H H\n",
    "                .startProbabilities 00: 0.5, 01: 0.5, 10: 0, 11: 0\n",
    "                .endProbabilities 00: 0.25, 01: 0.25, 10: 0.25, 11: 0.25\n",
    "            .instructions second slide instructions\n",
    "            .lesson this is the lesson on the second slide\n",
    "            .info congratulations! 2º slide\n",
    "        .slide\n",
    "            .circuit\n",
    "                .availableGates Measure Measure\n",
    "                .initialCircuit\n",
    "                    .qubit H\n",
    "                    .qubit H H\n",
    "                .goalCircuit\n",
    "                    .qubit H Measure\n",
    "                    .qubit H H Measure\n",
    "                .startProbabilities 00: 0, 01: 0, 10: 0, 11: 0\n",
    "                .endProbabilities 00: 0.5, 01: 0.5, 10: 0, 11: 0\n",
    "            .instructions third slide instructions\n",
    "            .lesson this is the lesson on the third slide\n",
    "            .info congratulations! 3º slide\n",
    "        .slide\n",
    "            .circuit\n",
    "                .availableGates H H Measure Measure\n",
    "                .initialCircuit\n",
    "                    .qubit H\n",
    "                    .qubit H H\n",
    "                .goalCircuit\n",
    "                    .qubit H H\n",
    "                    .qubit H H H Measure\n",
    "                .startProbabilities 00: 0, 01: 0, 10: 0, 11: 0\n",
    "                .endProbabilities 00: 0, 01: 0, 10: 0.5, 11: 0.5\n",
    "            .instructions fourth slide instructions\n",
    "            .lesson this is the lesson on the fourth slide\n",
    "            .info congratulations! 4º slide\n",
    "\n"
   ]
  },
  {
   "cell_type": "markdown",
   "metadata": {},
   "source": [
    "## Carousel\n",
    "\n",
    "    q-carousel\n",
    "        div.\n",
    "            Lorem ipsum dolor sit amet, consectetur adipiscing elit. Morbi non libero pharetra, feugiat tortor ac, hendrerit est. Suspendisse potenti.\n",
    "        div.\n",
    "            Nulla vitae turpis a orci luctus gravida. Fusce scelerisque consectetur augue eget vulputate. Aenean quis velit luctus, feugiat nisl posuere.\n",
    "        div.\n",
    "            Maecenas ornare nunc quis viverra mollis. Vestibulum ultricies diam at venenatis sodales. Cras auctor lectus felis, nec accumsan mauris.\n"
   ]
  },
  {
   "cell_type": "markdown",
   "metadata": {},
   "source": [
    "\n",
    "&nbsp;\n",
    "\n",
    "## Layers circuit\n",
    "\n",
    "    q-layers-circuit\n"
   ]
  },
  {
   "cell_type": "markdown",
   "metadata": {
    "goals": [
     {
      "id": "wiqv"
     }
    ]
   },
   "source": [
    "\n",
    "&nbsp;\n",
    "\n",
    "## What is quantum volume\n",
    "\n",
    "    q-what-is-quantum-volume(goal=\"wiqv\")\n"
   ]
  },
  {
   "cell_type": "markdown",
   "metadata": {},
   "source": [
    "\n",
    "&nbsp;\n",
    "\n",
    "## Drag and drop code\n",
    "\n",
    "    q-drag-and-drop-code\n",
    "        .line def fib(num):\n",
    "            .line if num <= 1:\n",
    "                .line return num\n",
    "            .line else:\n",
    "                .line return fib(num - 1) + fib(num - 2)\n",
    "        .result-info.md Fibonacci Sequence\n"
   ]
  },
  {
   "cell_type": "markdown",
   "metadata": {
    "goals": [
     {
      "id": "quiz1"
     },
     {
      "id": "quiz2"
     }
    ]
   },
   "source": [
    "## Quiz\n",
    "\n",
    "    q-quiz(goal=\"quiz1\")\n",
    "        .option(x) This is the correct answer\n",
    "        .option.md This is an example with math notation: $\\frac{\\class{qv_nh}{n_h}}{\\class{qv_nc}{n_c}\\class{qv_ns}{n_s}}\\gt{\\frac{2}{3}}$\n",
    "        .option This is a multiline example: Lorem ipsum dolor sit amet, consectetur adipiscing elit, sed do eiusmod tempor incididunt ut labore et dolore magna aliqua. Ut enim ad minim veniam, quis nostrud exercitation ullamco laboris nisi ut aliquip ex ea commodo consequat.\n",
    "\n",
    "## Quiz with side text\n",
    "\n",
    "<!-- ::: q-quiz(goal=\"quiz2\") -->\n",
    "\n",
    "<!-- ::: .question -->\n",
    "\n",
    "Lorem ipsum dolor sit amet, consectetur adipiscing elit, sed do eiusmod tempor incididunt ut labore et dolore magna aliqua.\n",
    "\n",
    "<!-- ::: -->\n",
    "\n",
    "<!-- ::: .option(correct) -->\n",
    "\n",
    "1. This is the correct answer\n",
    "\n",
    "<!-- ::: -->\n",
    "\n",
    "<!-- ::: .option -->\n",
    "\n",
    "2. This is an example with math notation: $\\frac{\\class{qv_nh}{n_h}}{\\class{qv_nc}{n_c}\\class{qv_ns}{n_s}}\\gt{\\frac{2}{3}}$\n",
    "\n",
    "<!-- ::: -->\n",
    "\n",
    "<!-- ::: .option -->\n",
    "\n",
    "3. This is a multiline example: Lorem ipsum dolor sit amet, consectetur adipiscing elit, sed do eiusmod tempor incididunt ut labore et dolore magna aliqua. Ut enim ad minim veniam, quis nostrud exercitation ullamco laboris nisi ut aliquip ex ea commodo consequat.\n",
    "\n",
    "<!-- ::: -->\n",
    "\n",
    "<!-- ::: -->\n",
    "\n",
    "    \n"
   ]
  },
  {
   "source": [
    "\n",
    "&nbsp;\n",
    "\n",
    "## Try it\n",
    "\n",
    "<!-- ::: q-block.binary -->\n",
    "\n",
    "### Binary Title\n",
    "\n",
    "    q-binary\n",
    "\n",
    "<!-- ::: -->\n"
   ],
   "cell_type": "markdown",
   "metadata": {}
  }
 ],
 "metadata": {
  "celltoolbar": "Edit Metadata",
  "interpreter": {
   "hash": "0f062f77d04a26fa446fb1fbfa1a5ee5b987be986d4f7032ba0f1b93294cca57"
  },
  "kernelspec": {
   "display_name": "Python 3",
   "language": "python",
   "name": "python3"
  },
  "language_info": {
   "codemirror_mode": {
    "name": "ipython",
    "version": 3
   },
   "file_extension": ".py",
   "mimetype": "text/x-python",
   "name": "python",
   "nbconvert_exporter": "python",
   "pygments_lexer": "ipython3",
   "version": "3.7.7"
  }
 },
 "nbformat": 4,
 "nbformat_minor": 4
}