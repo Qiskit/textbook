{
  "cells": [
    {
      "attachments": {},
      "cell_type": "markdown",
      "id": "5c7f8618",
      "metadata": {},
      "source": [
        "# エンタングルメントの動作"
      ]
    },
    {
      "cell_type": "markdown",
      "id": "29a82162",
      "metadata": {},
      "source": [
        "![Illustration of hands assembling machinery](images/under-construction.png)\n",
        "\n",
        "このページはまだ作成中ですが、すぐに利用できるようになることを願っています。それまでの間、[ここから](https://qiskit.org/learn) Qiskit の他の学習教材をチェックできます。\n",
        "\n",
        "ソーシャル メディアで Qiskit をフォローして、このコースの最新情報を受け取り、フィードバックを共有してください。\n",
        "\n",
        "- [Qiskit YouTube チャンネルをチェック](https://www.youtube.com/Qiskit)\n",
        "- [@Qiskit のTwitterアカウントをチェック](https://twitter.com/Qiskit)\n",
        "- [SlackのQiskit communityに参加する](https://qisk.it/join-slack)\n",
        "- [MediumのQiskit Blogを読む](https://medium.com/Qiskit)"
      ]
    }
  ],
  "metadata": {
    "kernelspec": {
      "display_name": "Python 3",
      "language": "python",
      "name": "python3"
    },
    "language_info": {
      "codemirror_mode": {
        "name": "ipython",
        "version": 3
      },
      "file_extension": ".py",
      "mimetype": "text/x-python",
      "name": "python",
      "nbconvert_exporter": "python",
      "pygments_lexer": "ipython3",
      "version": "3.9"
    }
  },
  "nbformat": 4,
  "nbformat_minor": 5
}
