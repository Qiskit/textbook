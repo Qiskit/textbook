{
  "cells": [
    {
      "cell_type": "markdown",
      "id": "25834561",
      "metadata": {
      },
      "source": [
        "# ハミルトニアンの時間発展\n",
        "\n",
        "<div class=\"youtube-wrapper\">     <iframe src=\"https://www.youtube.com/embed/1zrtUmXR7Ew\" title=\"YouTube video player\" frameborder=\"0\" allow=\"accelerometer; autoplay; clipboard-write; encrypted-media; gyroscope; picture-in-picture\" allowfullscreen=\"\"></iframe> </div>\n",
        "\n",
        "<div class=\"youtube-wrapper\">     <iframe src=\"https://www.youtube.com/embed/o_uRWJgX0uA\" title=\"YouTube video player\" frameborder=\"0\" allow=\"accelerometer; autoplay; clipboard-write; encrypted-media; gyroscope; picture-in-picture\" allowfullscreen=\"\"></iframe> </div>\n",
        "\n",
        "Maria Violaris によるこの講義は、もともと 2022 Qiskit Global Summer School on Quantum Simulation のために作成されました。\n",
        "\n",
        "### 推薦図書\n",
        "\n",
        "- *Qiskit を使った量子計算の学習:*\n",
        "    - [*1.5 量子の場合 (複雑さ)*](https://learn.qiskit.org/course/ch-states/the-case-for-quantum-computers)\n",
        "    - [*3.5 量子フーリエ変換*](https://learn.qiskit.org/course/ch-algorithms/quantum-fourier-transform)\n",
        "    - [*3.6 量子位相推定*](https://learn.qiskit.org/course/ch-algorithms/quantum-phase-estimation)\n",
        "- NielsenとChuangによる[*量子コンピュータと量子通信*](https://www.cambridge.org/highereducation/books/quantum-computation-and-quantum-information/01E10196D0A682A6AEFFEA52D53BE9AE#overview):\n",
        "    - *2.2.2 時間発展*\n",
        "    - *4.7 量子システムのシミュレーション*\n"
      ]
    }
  ],
  "metadata": {
    "kernelspec": {
      "display_name": "Python 3",
      "language": "python",
      "name": "python3"
    },
    "language_info": {
      "codemirror_mode": {
        "name": "ipython",
        "version": 3
      },
      "file_extension": ".py",
      "mimetype": "text/x-python",
      "name": "python",
      "nbconvert_exporter": "python",
      "pygments_lexer": "ipython3",
      "version": "3.9"
    }
  },
  "nbformat": 4,
  "nbformat_minor": 5
}
