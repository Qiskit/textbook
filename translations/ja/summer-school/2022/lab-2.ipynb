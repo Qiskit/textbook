{
  "cells": [
    {
      "cell_type": "markdown",
      "id": "8ecb7df7",
      "metadata": {
      },
      "source": [
        "# Lab 2\n",
        "\n",
        "量子情報理論の形式は、量子計算の回路モデルと比べるとかなり抽象的に見えることがあります。 Qiskit Opflow モジュールは、量子情報理論の言語と、実験を実行するために使用される回路のフレームワークとの橋渡しすることを目的としています。これにより、理論的なアイデアと実験的な実装をシームレスに切り替えることができます。\n",
        "\n",
        "これから詳細に説明する量子システムの時間発展のシミュレーションは、1 つの例です。 Qiskit Opflow モジュールを使用すると、システムの運動状態を規定するハミルトニアンの定義から、運動状態の量子シミュレーションを実装する実験まで、わずか数行のコードで実行できます!\n",
        "\n",
        "- [このLabのノートブックをダウンロードする](/content/summer-school/2022/resources/lab-notebooks/lab-2.ipynb)"
      ]
    }
  ],
  "metadata": {
    "kernelspec": {
      "display_name": "Python 3",
      "language": "python",
      "name": "python3"
    },
    "language_info": {
      "codemirror_mode": {
        "name": "ipython",
        "version": 3
      },
      "file_extension": ".py",
      "mimetype": "text/x-python",
      "name": "python",
      "nbconvert_exporter": "python",
      "pygments_lexer": "ipython3",
      "version": "3.9"
    }
  },
  "nbformat": 4,
  "nbformat_minor": 5
}
