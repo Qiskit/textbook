{
  "cells": [
    {
      "cell_type": "markdown",
      "id": "cd66c7ee",
      "metadata": {
      },
      "source": [
        "# 量子力学\n",
        "\n",
        "<div class=\"youtube-wrapper\">     <iframe src=\"https://www.youtube.com/embed/yd2BPvudLFU\" title=\"YouTube video player\" frameborder=\"0\" allow=\"accelerometer; autoplay; clipboard-write; encrypted-media; gyroscope; picture-in-picture\" allowfullscreen=\"\"></iframe> </div>\n",
        "\n",
        "<div class=\"youtube-wrapper\">     <iframe src=\"https://www.youtube.com/embed/dduVoj5u_Kg\" title=\"YouTube video player\" frameborder=\"0\" allow=\"accelerometer; autoplay; clipboard-write; encrypted-media; gyroscope; picture-in-picture\" allowfullscreen=\"\"></iframe> </div>\n",
        "\n",
        "<div class=\"youtube-wrapper\">     <iframe src=\"https://www.youtube.com/embed/h73sNxsOdok\" title=\"YouTube video player\" frameborder=\"0\" allow=\"accelerometer; autoplay; clipboard-write; encrypted-media; gyroscope; picture-in-picture\" allowfullscreen=\"\"></iframe> </div>\n",
        "\n",
        "Alexander Miessenによるこの講義は、もともと 2022 Qiskit Global Summer School on Quantum Simulation のために作成されました。\n",
        "\n",
        "### 推薦図書\n",
        "\n",
        "- [*量子化学のための新たな量子計算アルゴリズム*](https://arxiv.org/abs/2109.02873)\n",
        "- [*量子コンピューティング時代の量子化学*](https://arxiv.org/abs/1812.09976)\n",
        "- David Griffithsによる[*量子力学入門*](https://www.amazon.com/Introduction-Quantum-Mechanics-David-Griffiths/dp/1107189632)\n",
        "- JJ Sakuraiによる[*現代の量子力学*](https://www.amazon.com/Modern-Quantum-Mechanics-2nd-Sakurai/dp/0805382917)\n",
        "- NielsenとChuangによる[*量子コンピュータと量子通信*](https://www.cambridge.org/highereducation/books/quantum-computation-and-quantum-information/01E10196D0A682A6AEFFEA52D53BE9AE#overview):\n",
        "- BreuerとPetruccione による[*開放量子系の理論*](https://www.amazon.com/Theory-Open-Quantum-Systems/dp/0199213909)\n"
      ]
    }
  ],
  "metadata": {
    "kernelspec": {
      "display_name": "Python 3",
      "language": "python",
      "name": "python3"
    },
    "language_info": {
      "codemirror_mode": {
        "name": "ipython",
        "version": 3
      },
      "file_extension": ".py",
      "mimetype": "text/x-python",
      "name": "python",
      "nbconvert_exporter": "python",
      "pygments_lexer": "ipython3",
      "version": "3.9"
    }
  },
  "nbformat": 4,
  "nbformat_minor": 5
}
