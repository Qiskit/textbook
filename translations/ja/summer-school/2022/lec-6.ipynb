{
  "cells": [
    {
      "cell_type": "markdown",
      "id": "570c57e4",
      "metadata": {
      },
      "source": [
        "# 量子化学シミュレーションの概要とそれが課題である理由\n",
        "\n",
        "<div class=\"youtube-wrapper\">     <iframe src=\"https://www.youtube.com/embed/QH_QmuHZ894\" title=\"YouTube video player\" frameborder=\"0\" allow=\"accelerometer; autoplay; clipboard-write; encrypted-media; gyroscope; picture-in-picture\" allowfullscreen=\"\"></iframe> </div>\n",
        "\n",
        "<div class=\"youtube-wrapper\">     <iframe src=\"https://www.youtube.com/embed/0zdC1F_-SFs\" title=\"YouTube video player\" frameborder=\"0\" allow=\"accelerometer; autoplay; clipboard-write; encrypted-media; gyroscope; picture-in-picture\" allowfullscreen=\"\"></iframe> </div>\n",
        "\n",
        "Panos Barkoutsos によるこの講義は、もともと 2022 Qiskit Global Summer School on Quantum Simulation のために作成されました。\n",
        "\n",
        "### 推薦図書\n",
        "\n",
        "- [*https://www.nature.com/articles/nature23879*](https://www.nature.com/articles/nature23879)\n",
        "- [*https://doi.org/10.1103/PhysRevA.98.022322*](https://doi.org/10.1103/PhysRevA.98.022322)\n",
        "- [*https://learn.qiskit.org/course/ch-applications/simulating-molecules-using-vqe*](https://learn.qiskit.org/course/ch-applications/simulating-molecules-using-vqe)"
      ]
    }
  ],
  "metadata": {
    "kernelspec": {
      "display_name": "Python 3",
      "language": "python",
      "name": "python3"
    },
    "language_info": {
      "codemirror_mode": {
        "name": "ipython",
        "version": 3
      },
      "file_extension": ".py",
      "mimetype": "text/x-python",
      "name": "python",
      "nbconvert_exporter": "python",
      "pygments_lexer": "ipython3",
      "version": "3.9"
    }
  },
  "nbformat": 4,
  "nbformat_minor": 5
}
