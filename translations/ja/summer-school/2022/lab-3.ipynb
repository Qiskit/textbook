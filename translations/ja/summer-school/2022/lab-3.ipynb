{
  "cells": [
    {
      "cell_type": "markdown",
      "id": "8ecb7df7",
      "metadata": {
      },
      "source": [
        "# Lab 3\n",
        "\n",
        "ノイズは、量子コンピューターを破壊する遍在する悪です。このLabでは、計算に影響を与えるさまざまな種類のノイズの詳細を詳しく調べて、それらをより理解できるようにします。また、ノイズと戦い、探していた結果を回復するために使用できるいくつかの簡単なテクニックについても見ていきます。\n",
        "\n",
        "このLabで遭遇する量子ノイズのさまざまな様相は、射影ノイズ、測定ノイズ、コヒーレント・ノイズ、非コヒーレント・ノイズです。射影ノイズは、波動関数の有限サンプリングによって発生するノイズです。測定ノイズは、完全ではない物理的な測定プロセスに影響を与えるノイズです。コヒーレント・ノイズは、オーバー・ローテーションのようなノイズの一種であり、操作に決定論的な影響を与えます。一方、インコヒーレント・ノイズは、量子状態の量子情報を「スクランブル」する非決定論的なノイズです。\n",
        "\n",
        "- [このLabのノートブックをダウンロードする](/content/summer-school/2022/resources/lab-notebooks/lab-3.ipynb)"
      ]
    }
  ],
  "metadata": {
    "kernelspec": {
      "display_name": "Python 3",
      "language": "python",
      "name": "python3"
    },
    "language_info": {
      "codemirror_mode": {
        "name": "ipython",
        "version": 3
      },
      "file_extension": ".py",
      "mimetype": "text/x-python",
      "name": "python",
      "nbconvert_exporter": "python",
      "pygments_lexer": "ipython3",
      "version": "3.9"
    }
  },
  "nbformat": 4,
  "nbformat_minor": 5
}
