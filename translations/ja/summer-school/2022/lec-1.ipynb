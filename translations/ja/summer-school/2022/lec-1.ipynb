{
  "cells": [
    {
      "cell_type": "markdown",
      "id": "9a253f80",
      "metadata": {
      },
      "source": [
        "# 量子コンピューティングの歴史と量子シミュレーションの動機\n",
        "\n",
        "<div class=\"youtube-wrapper\">     <iframe src=\"https://www.youtube.com/embed/P47zObtHsPM\" title=\"YouTube video player\" frameborder=\"0\" allow=\"accelerometer; autoplay; clipboard-write; encrypted-media; gyroscope; picture-in-picture\" allowfullscreen=\"\"></iframe> </div>\n",
        "\n",
        "<div class=\"youtube-wrapper\">     <iframe src=\"https://www.youtube.com/embed/zG1ZxZhMjpQ\" title=\"YouTube video player\" frameborder=\"0\" allow=\"accelerometer; autoplay; clipboard-write; encrypted-media; gyroscope; picture-in-picture\" allowfullscreen=\"\"></iframe> </div>\n",
        "\n",
        "Olivia Lanes によるこの講義は、もともと 2022 Qiskit Global Summer School on Quantum Simulation のために作成されました。\n",
        "\n",
        "### 推薦図書\n",
        "\n",
        "- Thomas Wong による[*量子および古典的コンピューティング入門*](http://www.thomaswong.net/introduction-to-classical-and-quantum-computing-1e3p.pdf)\n",
        "- Daniel F. Styerによる[*量子力学の奇妙な世界*](http://www.ba.ipcf.cnr.it/didattica/corsi/solid_state_chem/qm/The_Strange_World_of_Quantum_Mechanics_Styer.pdf)\n",
        "- David J. Griffiths による[*量子力学入門*](https://www.fisica.net/mecanica-quantica/Griffiths%20-%20Introduction%20to%20quantum%20mechanics.pdf)\n",
        "- *Qiskit を使った量子計算の学習:*\n",
        "    - [*1.1 はじめに*](https://learn.qiskit.org/course/ch-states/introduction)\n"
      ]
    }
  ],
  "metadata": {
    "kernelspec": {
      "display_name": "Python 3",
      "language": "python",
      "name": "python3"
    },
    "language_info": {
      "codemirror_mode": {
        "name": "ipython",
        "version": 3
      },
      "file_extension": ".py",
      "mimetype": "text/x-python",
      "name": "python",
      "nbconvert_exporter": "python",
      "pygments_lexer": "ipython3",
      "version": "3.9"
    }
  },
  "nbformat": 4,
  "nbformat_minor": 5
}
