{
  "cells": [
    {
      "cell_type": "markdown",
      "id": "5d2ce11d",
      "metadata": {
      },
      "source": [
        "# 量子静的シミュレーション\n",
        "\n",
        "<div class=\"youtube-wrapper\">     <iframe src=\"https://www.youtube.com/embed/Brxi6zBeF6I\" title=\"YouTube video player\" frameborder=\"0\" allow=\"accelerometer; autoplay; clipboard-write; encrypted-media; gyroscope; picture-in-picture\" allowfullscreen=\"\"></iframe> </div>\n",
        "\n",
        "Ieva Liepuoniute によるこの講義は、もともと 2022 Qiskit Global Summer School on Quantum Simulation のために作成されました。\n",
        "\n",
        "### 推薦図書\n",
        "\n",
        "- [*https://learn.qiskit.org/course/ch-applications/simulating-molecules-using-vqe*](https://learn.qiskit.org/course/ch-applications/simulating-molecules-using-vqe)\n"
      ]
    }
  ],
  "metadata": {
    "kernelspec": {
      "display_name": "Python 3",
      "language": "python",
      "name": "python3"
    },
    "language_info": {
      "codemirror_mode": {
        "name": "ipython",
        "version": 3
      },
      "file_extension": ".py",
      "mimetype": "text/x-python",
      "name": "python",
      "nbconvert_exporter": "python",
      "pygments_lexer": "ipython3",
      "version": "3.9"
    }
  },
  "nbformat": 4,
  "nbformat_minor": 5
}
