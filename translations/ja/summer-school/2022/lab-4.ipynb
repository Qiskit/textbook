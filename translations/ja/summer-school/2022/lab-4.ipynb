{
  "cells": [
    {
      "cell_type": "markdown",
      "id": "8ecb7df7",
      "metadata": {
      },
      "source": [
        "# Lab 4\n",
        "\n",
        "量子コンピューターの主な用途の 1 つは、分子や人工材料などの量子システムをシミュレートすることです。しかし、現在の量子コンピューターで実際に量子シミュレーションを実行することは難しく、エラーが発生しやすい可能性があります。このLabの目的は、シミュレーション演習を完了し、それらを改善して最高の状態トモグラフィ・スコアを取得することです。\n",
        "\n",
        "- [このLabのノートブックをダウンロードする](/content/summer-school/2022/resources/lab-notebooks/lab-4.ipynb)"
      ]
    }
  ],
  "metadata": {
    "kernelspec": {
      "display_name": "Python 3",
      "language": "python",
      "name": "python3"
    },
    "language_info": {
      "codemirror_mode": {
        "name": "ipython",
        "version": 3
      },
      "file_extension": ".py",
      "mimetype": "text/x-python",
      "name": "python",
      "nbconvert_exporter": "python",
      "pygments_lexer": "ipython3",
      "version": "3.9"
    }
  },
  "nbformat": 4,
  "nbformat_minor": 5
}
