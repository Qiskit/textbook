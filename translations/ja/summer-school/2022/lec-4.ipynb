{
  "cells": [
    {
      "cell_type": "markdown",
      "id": "d4cd4a9a",
      "metadata": {
      },
      "source": [
        "# シミュレーションの問題\n",
        "\n",
        "<div class=\"youtube-wrapper\">     <iframe src=\"https://www.youtube.com/embed/0JB0LJEbm-U\" title=\"YouTube video player\" frameborder=\"0\" allow=\"accelerometer; autoplay; clipboard-write; encrypted-media; gyroscope; picture-in-picture\" allowfullscreen=\"\"></iframe> </div>\n",
        "\n",
        "<div class=\"youtube-wrapper\">     <iframe src=\"https://www.youtube.com/embed/HGb-RyHaDRk\" title=\"YouTube video player\" frameborder=\"0\" allow=\"accelerometer; autoplay; clipboard-write; encrypted-media; gyroscope; picture-in-picture\" allowfullscreen=\"\"></iframe> </div>\n",
        "\n",
        "Jeffrey Cohn によるこの講義は、もともと 2022 Qiskit Global Summer School on Quantum Simulation のために作成されました。\n",
        "\n",
        "### 推薦図書\n",
        "\n",
        "- [*Lec2 (パスワード: RpsiC5yx)*](https://ibm.webex.com/ibm/ldr.php?RCID=235e82bcc188ca070e00166753f022e5)\n",
        "- [*Andrew Childs の講義ノート (チャプター 25-27)*](https://www.cs.umd.edu/~amchilds/qa/qa.pdf)\n",
        "- [*整流子のスケーリングによるトロッター・エラーの理論*](https://journals.aps.org/prx/pdf/10.1103/PhysRevX.11.011020)\n",
        "- [*高速ハミルトニアン・シミュレーション用のランダム・コンパイラー*](https://arxiv.org/pdf/1811.08017.pdf)\n",
        "- [*ランダム積公式の合成*](https://arxiv.org/pdf/2008.11751.pdf)\n",
        "- [*量子信号処理による最適ハミルトニアン・シミュレーション*](https://arxiv.org/pdf/1606.02685.pdf)\n",
        "- *Qiskit を使った量子計算の学習:*\n",
        "    - [*3.5 QFT*](https://learn.qiskit.org/course/ch-algorithms/quantum-fourier-transform)\n",
        "    - [*3.6 QPE*](https://learn.qiskit.org/course/ch-algorithms/quantum-phase-estimation)\n",
        "    - [*4.1.2 VQE*](https://learn.qiskit.org/course/ch-applications/simulating-molecules-using-vqe)\n",
        "- [*量子ニューラル・ネットワークの学習環境における不毛の台地*](https://www.nature.com/articles/s41467-018-07090-4)\n",
        "- [*量子部分空間法 (1)*](https://arxiv.org/pdf/1603.05681.pdf)\n",
        "- [*QEOM*](https://arxiv.org/pdf/1910.12890.pdf)\n",
        "- *量子部分空間法 (2):*\n",
        "    - [*https://arxiv.org/pdf/2103.08563.pdf*](https://arxiv.org/pdf/2103.08563.pdf)\n",
        "    - [*https://arxiv.org/abs/1911.05163*](https://arxiv.org/abs/1911.05163)\n",
        "    - [*https://arxiv.org/abs/2109.06868*](https://arxiv.org/abs/2109.06868)\n",
        "    - [*https://arxiv.org/abs/1909.08925*](https://arxiv.org/abs/1909.08925)\n",
        "    - [*https://journals.aps.org/prxquantum/abstract/10.1103/PRXQuantum.2.040352*](https://journals.aps.org/prxquantum/abstract/10.1103/PRXQuantum.2.040352)\n",
        "- *Gibbsの状態:*\n",
        "    - [*QITE*](https://arxiv.org/abs/1901.07653)\n",
        "    - [*https://arxiv.org/abs/0911.3635*](https://arxiv.org/abs/0911.3635)\n",
        "    - [*https://www.nature.com/articles/s41534-019-0187-2*](https://www.nature.com/articles/s41534-019-0187-2)\n",
        "    - [*https://arxiv.org/abs/1609.07877*](https://arxiv.org/abs/1609.07877)\n"
      ]
    }
  ],
  "metadata": {
    "kernelspec": {
      "display_name": "Python 3",
      "language": "python",
      "name": "python3"
    },
    "language_info": {
      "codemirror_mode": {
        "name": "ipython",
        "version": 3
      },
      "file_extension": ".py",
      "mimetype": "text/x-python",
      "name": "python",
      "nbconvert_exporter": "python",
      "pygments_lexer": "ipython3",
      "version": "3.9"
    }
  },
  "nbformat": 4,
  "nbformat_minor": 5
}
