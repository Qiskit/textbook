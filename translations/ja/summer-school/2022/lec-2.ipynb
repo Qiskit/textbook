{
  "cells": [
    {
      "cell_type": "markdown",
      "id": "3ffa0de6",
      "metadata": {
      },
      "source": [
        "# 線形代数、前提数学、および回路構築入門\n",
        "\n",
        "<div class=\"youtube-wrapper\">     <iframe src=\"https://www.youtube.com/embed/ZNz7DN1K0Y0\" title=\"YouTube video player\" frameborder=\"0\" allow=\"accelerometer; autoplay; clipboard-write; encrypted-media; gyroscope; picture-in-picture\" allowfullscreen=\"\"></iframe> </div>\n",
        "\n",
        "<div class=\"youtube-wrapper\">     <iframe src=\"https://www.youtube.com/embed/BuKYugTtcXQ\" title=\"YouTube video player\" frameborder=\"0\" allow=\"accelerometer; autoplay; clipboard-write; encrypted-media; gyroscope; picture-in-picture\" allowfullscreen=\"\"></iframe> </div>\n",
        "\n",
        "Maria Violaris によるこの講義は、もともと 2022 Qiskit Global Summer School on Quantum Simulation のために作成されました。\n",
        "\n",
        "### 推薦図書\n",
        "\n",
        "- *Qiskit を使った量子計算の学習:*\n",
        "    - [*8.1 線形代数*](https://learn.qiskit.org/course/ch-appendix/an-introduction-to-linear-algebra-for-quantum-computing)\n",
        "    - [*1. 量子状態と量子ビット*](https://learn.qiskit.org/course/ch-states/introduction)\n",
        "    - [*2. 複数量子ビットとエンタングルメント*](https://learn.qiskit.org/course/ch-gates/introduction)\n",
        "    - [*3.11 量子テレポーテーション*](https://learn.qiskit.org/course/ch-algorithms/quantum-teleportation)\n"
      ]
    }
  ],
  "metadata": {
    "kernelspec": {
      "display_name": "Python 3",
      "language": "python",
      "name": "python3"
    },
    "language_info": {
      "codemirror_mode": {
        "name": "ipython",
        "version": 3
      },
      "file_extension": ".py",
      "mimetype": "text/x-python",
      "name": "python",
      "nbconvert_exporter": "python",
      "pygments_lexer": "ipython3",
      "version": "3.9"
    }
  },
  "nbformat": 4,
  "nbformat_minor": 5
}
