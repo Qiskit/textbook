{
  "cells": [
    {
      "cell_type": "markdown",
      "id": "385bce0e",
      "metadata": {
      },
      "source": [
        "# 量子シミュレーションの方法\n",
        "\n",
        "<div class=\"youtube-wrapper\">     <iframe src=\"https://www.youtube.com/embed/VeSHFHRXFj4\" title=\"YouTube video player\" frameborder=\"0\" allow=\"accelerometer; autoplay; clipboard-write; encrypted-media; gyroscope; picture-in-picture\" allowfullscreen=\"\"></iframe> </div>\n",
        "\n",
        "<div class=\"youtube-wrapper\">     <iframe src=\"https://www.youtube.com/embed/unePcaUy-r8\" title=\"YouTube video player\" frameborder=\"0\" allow=\"accelerometer; autoplay; clipboard-write; encrypted-media; gyroscope; picture-in-picture\" allowfullscreen=\"\"></iframe> </div>\n",
        "\n",
        "Yukio Kawashima によるこの講義は、もともと 2022 Qiskit Global Summer School on Quantum Simulation のために作成されました。\n",
        "\n",
        "### 推薦図書\n",
        "\n",
        "- A. Szabo と N. S. Ostlund による[*新しい量子化学、Dover (チャプター 1-3)*](https://books.google.com/books?hl=en&lr=&id=KQ3DAgAAQBAJ&oi=fnd&pg=PP1&dq=A.+Szabo+and+N.+S.+Ostlund,+%E2%80%9CModern+Quantum+Chemistry%E2%80%9D,+Dover+)\n",
        "- T. Helgaker、P. Jorgensen、および J. Olsen による[*分子の電子構造理論*](https://www.amazon.com/Molecular-Electronic-Structure-Theory-Trygve-Helgaker/dp/1118531477)\n"
      ]
    }
  ],
  "metadata": {
    "kernelspec": {
      "display_name": "Python 3",
      "language": "python",
      "name": "python3"
    },
    "language_info": {
      "codemirror_mode": {
        "name": "ipython",
        "version": 3
      },
      "file_extension": ".py",
      "mimetype": "text/x-python",
      "name": "python",
      "nbconvert_exporter": "python",
      "pygments_lexer": "ipython3",
      "version": "3.9"
    }
  },
  "nbformat": 4,
  "nbformat_minor": 5
}
