{
  "cells": [
    {
      "cell_type": "markdown",
      "id": "8ecb7df7",
      "metadata": {
      },
      "source": [
        "# Lab 1\n",
        "\n",
        "最初のLabでは、単純な 1 量子ビット・ゲートを紹介することからゆっくりと開始し、それらが回転としてどのように見えるかを示します。次に、複数量子ビット・ゲートを見て、エンタングルした状態を作成するためにそれらを使用する方法の例をいくつか見ていきます。その後、講義で学んだ複雑性理論の知識を量子回路に適用します。また、複雑性理論を念頭に置いて、量子フーリエ変換とエンタングル状態を生成する方法をもう一度見ていきます。\n",
        "\n",
        "このLabは、量子計算の基本を紹介/復習することを目的としており、講義で示された概念の例をいくつか紹介して、それらの学習を支援することを目的としています。\n",
        "\n",
        "- [このLabのノートブックをダウンロードする](/content/summer-school/2022/resources/lab-notebooks/lab-1.ipynb)"
      ]
    }
  ],
  "metadata": {
    "kernelspec": {
      "display_name": "Python 3",
      "language": "python",
      "name": "python3"
    },
    "language_info": {
      "codemirror_mode": {
        "name": "ipython",
        "version": 3
      },
      "file_extension": ".py",
      "mimetype": "text/x-python",
      "name": "python",
      "nbconvert_exporter": "python",
      "pygments_lexer": "ipython3",
      "version": "3.9"
    }
  },
  "nbformat": 4,
  "nbformat_minor": 5
}
