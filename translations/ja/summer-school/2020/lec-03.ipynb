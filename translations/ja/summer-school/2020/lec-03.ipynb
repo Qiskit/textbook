{
  "cells": [
    {
      "cell_type": "markdown",
      "id": "63aa6dff",
      "metadata": {
      },
      "source": [
        "# ショアのアルゴリズム II：量子プログラムの記述（因数分解から周期探索まで）\n",
        "\n",
        "講義7〜12では、ショアのアルゴリズムを教ぶことを目的としています。最初の3つの講義では、量子フーリエ変換と量子位相推定の直感を育むことに焦点を当てます。一方で、次の3つの講義では、量子回路を使用したショアのアルゴリズムの実装に焦点を当てます。\n",
        "\n",
        "- [こちら](https://github.com/qiskit-community/intro-to-quantum-computing-and-quantum-hardware/blob/master/lectures/introqcqh-lecture-notes-4.pdf?raw=true)から講義ノートをダウンロードしてください\n",
        "- [こちら](https://github.com/qiskit-community/intro-to-quantum-computing-and-quantum-hardware/blob/master/labs/introqcqh-lab-4.zip?raw=true)から最後の3つの講義についての実験用のノートブック(と解答)をダウンロードしてください\n",
        "\n",
        "<div class=\"youtube-wrapper\"><iframe src=\"https://www.youtube.com/embed/YpcT8u2a2jc\" title=\"YouTube video player\" frameborder=\"0\" allow=\"accelerometer; autoplay; clipboard-write; encrypted-media; gyroscope; picture-in-picture\" allowfullscreen></iframe></div>\n",
        "\n",
        "<div class=\"youtube-wrapper\"><iframe src=\"https://www.youtube.com/embed/dscRoTBPeso\" title=\"YouTube video player\" frameborder=\"0\" allow=\"accelerometer; autoplay; clipboard-write; encrypted-media; gyroscope; picture-in-picture\" allowfullscreen></iframe></div>\n",
        "\n",
        "<div class=\"youtube-wrapper\"><iframe src=\"https://www.youtube.com/embed/IFmkzWF-S2k\" title=\"YouTube video player\" frameborder=\"0\" allow=\"accelerometer; autoplay; clipboard-write; encrypted-media; gyroscope; picture-in-picture\" allowfullscreen></iframe></div>\n"
      ]
    }
  ],
  "metadata": {
    "kernelspec": {
      "display_name": "Python 3",
      "language": "python",
      "name": "python3"
    },
    "language_info": {
      "codemirror_mode": {
        "name": "ipython",
        "version": 3
      },
      "file_extension": ".py",
      "mimetype": "text/x-python",
      "name": "python",
      "nbconvert_exporter": "python",
      "pygments_lexer": "ipython3",
      "version": "3.9"
    }
  },
  "nbformat": 4,
  "nbformat_minor": 5
}
