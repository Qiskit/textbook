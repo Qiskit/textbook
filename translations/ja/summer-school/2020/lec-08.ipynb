{
  "cells": [
    {
      "cell_type": "markdown",
      "id": "d88b9516",
      "metadata": {
      },
      "source": [
        "# 量子化学II：H2とLiHの基底状態の探索\n",
        "\n",
        "講義22〜27では、超伝導量子ビットに重点を置いて、ゲート式量子コンピューターを用いた量子化学の問題を解くための手法を紹介します。最初の3つの講義では、量子化学の問題の構造を説明し、これらの問題をゲート式量子コンピューターへマッピングできる問題に変換する方法について議論します。一方で、次の3つの講義では、変分量子固有値ソルバーの実装によって量子化学の問題を解くための量子ハードウェアから、最高のパフォーマンスを引き出すことに焦点を当てます。\n",
        "\n",
        "- [こちら](https://github.com/qiskit-community/intro-to-quantum-computing-and-quantum-hardware/blob/master/lectures/introqcqh-lecture-notes-9.pdf?raw=true)から講義ノートをダウンロードしてください\n",
        "- [こちら](https://github.com/qiskit-community/intro-to-quantum-computing-and-quantum-hardware/blob/master/labs/introqcqh-lab-9.zip?raw=true)から最後の3つの講義についての実験用のノートブック(と解答)をダウンロードしてください\n",
        "\n",
        "<div class=\"youtube-wrapper\"><iframe src=\"https://www.youtube.com/embed/p9gScAOvc5I\" title=\"YouTube video player\" frameborder=\"0\" allow=\"accelerometer; autoplay; clipboard-write; encrypted-media; gyroscope; picture-in-picture\" allowfullscreen></iframe></div>\n",
        "\n",
        "<div class=\"youtube-wrapper\"><iframe src=\"https://www.youtube.com/embed/_UW6puuGa5E\" title=\"YouTube video player\" frameborder=\"0\" allow=\"accelerometer; autoplay; clipboard-write; encrypted-media; gyroscope; picture-in-picture\" allowfullscreen></iframe></div>\n",
        "\n",
        "<div class=\"youtube-wrapper\"><iframe src=\"https://www.youtube.com/embed/o4BAOKbcd3o\" title=\"YouTube video player\" frameborder=\"0\" allow=\"accelerometer; autoplay; clipboard-write; encrypted-media; gyroscope; picture-in-picture\" allowfullscreen></iframe></div>\n"
      ]
    }
  ],
  "metadata": {
    "kernelspec": {
      "display_name": "Python 3",
      "language": "python",
      "name": "python3"
    },
    "language_info": {
      "codemirror_mode": {
        "name": "ipython",
        "version": 3
      },
      "file_extension": ".py",
      "mimetype": "text/x-python",
      "name": "python",
      "nbconvert_exporter": "python",
      "pygments_lexer": "ipython3",
      "version": "3.9"
    }
  },
  "nbformat": 4,
  "nbformat_minor": 5
}
