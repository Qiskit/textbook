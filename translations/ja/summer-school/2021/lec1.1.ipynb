{
  "cells": [
    {
      "cell_type": "markdown",
      "metadata": {
      },
      "source": [
        "# ベクトル空間、テンソル積、量子ビット\n",
        "\n",
        "<div class=\"youtube-wrapper\">     <iframe src=\"https://www.youtube.com/embed/xgA4Dx_7q34\" title=\"YouTube video player\" frameborder=\"0\" allow=\"accelerometer; autoplay; clipboard-write; encrypted-media; gyroscope; picture-in-picture\" allowfullscreen=\"\"></iframe> </div>\n",
        "\n",
        "この講義では、Elisaが量子システムとその相互作用を記述するために用いられる数学的な道具であるディラック記法、密度行列、内積、外積、ボルンの規則、量子ビットの幾何学的表現であるブロッホ球について紹介します。また、量子コンピューターの基本的な構成要素である量子ビットを紹介します。量子ビットは古典的なビットと類似しています。さらに、量子測定についても簡単に紹介します。\n",
        "\n",
        "### おすすめリンク集\n",
        "\n",
        "- 講師のメモを[こちら](/content/summer-school/2021/resources/lecture-notes/Lecture1.1.pdf)からダウンロードする。\n",
        "\n",
        "- Michael Nielsenの[制御NOTゲート](https://www.youtube.com/watch?v=rLF-oHaXLtE&ab_channel=MichaelNielsen)を見る。\n",
        "\n",
        "- Wikipediaの[量子エンタングルメント](https://en.wikipedia.org/wiki/Quantum_entanglement)を読む。\n",
        "\n",
        "- IBM Qiskitの[密度行列と混合状態]](/course/quantum-hardware/density-matrix)を読む。\n",
        "\n",
        "- [ヒルベルト空間、正規直交性、内積 — Qiskitハンドブック/テキストブック](/course/ch-appendix/an-introduction-to-linear-algebra-for-quantum-computing)を読む。\n",
        "\n",
        "- [パウリ行列](https://en.wikipedia.org/wiki/Pauli_matrices)を読む。\n",
        "\n",
        "<!-- ::: q-block.reminder -->\n",
        "\n",
        "### FAQ\n",
        "\n",
        "<details>   <summary>状態が最もエンタングルしているとはどういうことでしょう？</summary> 最もエンタングルしている状態とは、フォン・ノイマンエントロピーが最大となる量子状態（ベル状態など）のことで、古典的には公平なコインの反転で表現されるシャノン・エントロピーのアナロジーです。 </details>\n",
        "\n",
        "<details>   <summary>量子テレポーテーションのためには、古典ビットも送る必要があり、エンタングルメントだけを使って情報を送ることはできません。光速よりも速く情報を送ることができないのは、このためでしょうか？</summary> そうです。実は、もつれた状態そのものは確率分布ではなく、その内積を表しているので、そこから情報を取り出すためには、必ず状態を測定する必要があります。 </details>\n",
        "\n",
        "<details>   <summary>ゲート適用時にスペクトル分解を使わず、外積表現を用いたのはなぜですか？</summary> 外積表現はゲートが0と1の状態（いわゆる計算基底）に対してどのように作用するかを容易に理解できるため有用です。 </details>\n",
        "\n",
        "<details>   <summary>テレポーテーションは古典計算と比べて量子計算ではどのように役に立つのでしょうか？</summary> 転送するデータ（情報）を暗号化したい場合に役に立ちます。（複製ではなく実際にターゲットとなる相手に転送するため、転送元の元の情報（データ）を破壊することを含む） </details>\n",
        "\n",
        "<!-- ::: -->\n",
        "\n",
        "### その他の資料\n",
        "\n",
        "- Issac ChuangとMichael Nielsenの[量子コンピュータと量子通信の教科書](https://www.amazon.com/Quantum-Computation-Information-10th-Anniversary/dp/1107002176)を読む。\n",
        "- IBMの[Qiskitテキストブック](https://qiskit.org/textbook/preface.html)を読む。\n",
        "- [線形代数 - Gilbert StrangのMIT OCWコース](https://www.youtube.com/playlist?list=PL221E2BBF13BECF6C)を見る。\n"
      ]
    }
  ],
  "metadata": {
    "kernelspec": {
      "display_name": "Python 3",
      "language": "python",
      "name": "python3"
    },
    "language_info": {
      "codemirror_mode": {
        "name": "ipython",
        "version": 3
      },
      "file_extension": ".py",
      "mimetype": "text/x-python",
      "name": "python",
      "nbconvert_exporter": "python",
      "pygments_lexer": "ipython3",
      "version": "3.9"
    }
  },
  "nbformat": 4,
  "nbformat_minor": 4
}
