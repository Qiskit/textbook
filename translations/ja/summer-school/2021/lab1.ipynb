{
  "cells": [
    {
      "cell_type": "markdown",
      "metadata": {
      },
      "source": [
        "# ラボ1：量子コンピューティングの操作とアルゴリズム\n",
        "\n",
        "<div class=\"youtube-wrapper\">推奨リソース</div>\n",
        "\n",
        "- ノートをダウンロードする： <a href=\"/content/summer-school/2021/resources/lab-notebooks/lab-1.ipynb\">[en]</a> <a href=\"/content/summer-school/2021/resources/lab-notebooks/lab-1-ja.ipynb\">[ja]</a>\n",
        "\n",
        "このラボでは、量子状態と回路を構築する方法を学び、簡単な量子アルゴリズムを実行します。\n",
        "\n",
        "量子状態と回路：\n",
        "\n",
        "- 段階的演習1-1：ビットフリップ\n",
        "- 採点付き演習1-2：プラス状態\n",
        "- 段階的演習1-3：マイナス状態\n",
        "- 段階的演習1-4：複雑な状態\n",
        "- 段階的演習1-5：ベル状態\n",
        "- 採点付き演習1-6：GHZのような状態\n",
        "\n",
        "ドイチ-ジョサのアルゴリズム：\n",
        "\n",
        "- 採点付き演習1-7：古典ドイチ-ジョサ\n",
        "- 採点付き演習1-8：量子ドイチ-ジョサ\n",
        "\n",
        "### ラボのコツ/ヒント\n",
        "\n",
        "- ゲートを使用するすべての演習では、ゲートを追加するだけです。\n",
        "\n",
        "- 例6では、GHZ状態の例と、Xゲートを追加した場合にどのようになるのかを確認してください。\n",
        "\n",
        "- 例7の場合、均一の場合は、出力の半分が「0」で、もう一方が「1」であるということです。したがって、最悪の場合、確率の半分に1を加えたものをテストする必要があります。\n",
        "\n",
        "- 例8の場合、アルゴリズムをパーツごとに考えてください。[D-Jアルゴリズムに関するQiskitテキストブックの章](https://learn.qiskit.org/course/ch-algorithms/deutsch-jozsa-algorithm#full_alg)はとても役に立つでしょう。\n",
        "\n",
        "- ゲートをテストするには、[ここ](https://quantum-computing.ibm.com/composer/files/new)からIBM Composerにアクセスしてください。ドキュメントによると、「IBM Quantum Composerは、ドラッグアンドドロップにより量子回路を構築し実際の量子ハードウェアまたはシミュレーターで実行することができるグラフィカルな量子プログラミングツール」です。\n",
        "\n",
        "- 例7の場合、式は講義ノート2.1の「ドイチ-ジョサのアルゴリズム&gt;古典的な解」に記載されています。\n",
        "\n",
        "- 例6の代わりの解き方として、2番目のキュービットに対してビットフリップと位相フリップを実行する「Y」ゲートを使用する、というものがあります。たとえば、$|000\\rangle + |111\\rangle$は$|010 \\rangle - |101\\rangle$に変換されます。\n",
        "\n",
        "<!-- ::: q-block.reminder -->\n",
        "\n",
        "### FAQ\n",
        "\n",
        "<details><summary>ラボを完了するには、最初の2つの講義を見る必要がありますか？</summary>推奨されますが、必須ではありません。</details>\n",
        "\n",
        "<!-- ::: -->\n",
        "\n",
        "### 推奨リソース\n",
        "\n",
        "- [Dayton Ellwanger \"量子コンピューティング入門（14）-量子回路とゲート\"](https://www.youtube.com/watch?v=wLv20RHqlgw)をご覧ください\n",
        "- [Sentdex \"ドイッチュ-ジョッサのアルゴリズム-量子コンピューターにおけるプログラミング w /Qiskitp.3\"](https://www.youtube.com/watch?v=_BHvE_pwF6E)をご覧ください\n",
        "- [Qiskit \"シングル量子ビットゲート\"](/course/ch-states/single-qubit-gates)をお読みください\n",
        "- [Qiskit \"ドイッチュ-ジョッサのアルゴリズム\"](https://learn.qiskit.org/course/ch-algorithms/deutsch-jozsa-algorithm#full_alg)をお読みください\n",
        "- IBMQで[\"StackExchange 4つのベル状態の実装\"](https://quantumcomputing.stackexchange.com/questions/2258/how-to-implement-the-4-bell-states-on-the-ibm-q-composer)をお読みください\n",
        "- [Dr. Hwajung Kang \"Qiskit Fundamentalsを使用した量子コンピューティング\"](https://www.youtube.com/watch?v=A2ViFq0yhLI)をご覧ください\n",
        "- [Dr. Hwajung Kang \"Qiskitにおけるアルゴリズム入門による量子コンピューティング\"](https://www.youtube.com/watch?v=uuCUUW6Bu2g)をご覧ください\n",
        "- [\"提案されたリソース：資料\"](https://eprint.iacr.org/2018/249.pdf)で、ドイッチュ-ジョッサ量子アルゴリズムの分析をお読みください\n",
        "- [Krantz P. et al.  \"超伝導量子ビットに関する量子エンジニアガイド\"](https://arxiv.org/pdf/1904.06560.pdf) を読んでください\n",
        "- [Muthukrishnan A. \"古典的および量子論理ゲート\"](http://www2.optics.rochester.edu/~stroud/presentations/muthukrishnan991/LogicGates.pdf)をお読みください"
      ]
    },
    {
      "cell_type": "code",
      "execution_count": null,
      "metadata": {
      },
      "outputs": [

      ],
      "source": [

      ]
    }
  ],
  "metadata": {
    "kernelspec": {
      "display_name": "Python 3",
      "language": "python",
      "name": "python3"
    },
    "language_info": {
      "codemirror_mode": {
        "name": "ipython",
        "version": 3
      },
      "file_extension": ".py",
      "mimetype": "text/x-python",
      "name": "python",
      "nbconvert_exporter": "python",
      "pygments_lexer": "ipython3",
      "version": "3.9"
    }
  },
  "nbformat": 4,
  "nbformat_minor": 4
}
