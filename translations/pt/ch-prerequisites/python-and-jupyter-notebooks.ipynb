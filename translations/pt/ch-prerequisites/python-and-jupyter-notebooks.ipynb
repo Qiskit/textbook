{
  "cells": [
    {
      "cell_type": "markdown",
      "metadata": {
        "tags": [
          "remove_cell"
        ]
      },
      "source": [
        "# Introdução ao Python e Jupyter notebooks"
      ]
    },
    {
      "cell_type": "markdown",
      "metadata": {
      },
      "source": [
        "Python é uma linguagem de programação em que você não precisa compilar. Você pode simplesmente executá-lo linha por linha (que é como podemos usá-lo em um notebook). Portanto, se você é novo em programação, o Python é um ótimo lugar para começar. A versão atual é o Python 3, que é o que usaremos aqui.\n",
        "\n",
        "Uma maneira de programar em Python é usar o Jupyter notebook. Esta é provavelmente a melhor maneira de combinar programação, texto e imagens. Em um notebook, tudo é organizado em células. As células de texto e as células de código são as mais comuns. Se você estiver visualizando esta seção como um  notebook, o texto que está lendo agora está em uma célula de texto. Uma célula de código pode ser encontrada logo abaixo.\n",
        "\n",
        "Para executar o conteúdo de uma célula de código, você pode clicar nela e pressionar Shift + Enter. Ou se houver uma pequena seta à esquerda, você pode clicar nela."
      ]
    },
    {
      "cell_type": "code",
      "execution_count": 1,
      "metadata": {
      },
      "outputs": [
        {
          "data": {
            "text/plain": [
              "2"
            ]
          },
          "execution_count": 1,
          "metadata": {
          },
          "output_type": "execute_result"
        }
      ],
      "source": [
        "1 + 1"
      ]
    },
    {
      "cell_type": "markdown",
      "metadata": {
      },
      "source": [
        "Se você estiver visualizando esta seção como um notebook ,<br>execute cada uma das células de código enquanto lê."
      ]
    },
    {
      "cell_type": "code",
      "execution_count": 2,
      "metadata": {
      },
      "outputs": [
        {
          "data": {
            "text/plain": [
              "1.5"
            ]
          },
          "execution_count": 2,
          "metadata": {
          },
          "output_type": "execute_result"
        }
      ],
      "source": [
        "a = 1\n",
        "b = 0.5\n",
        "a + b"
      ]
    },
    {
      "cell_type": "markdown",
      "metadata": {
      },
      "source": [
        "Acima, criamos duas variáveis, que chamamos de `a` e `b`, e demos valores a elas. Então nós as somamos. Aritmética simples como essa é bem fácil de ser realizada em Python."
      ]
    },
    {
      "cell_type": "markdown",
      "metadata": {
      },
      "source": [
        "Variáveis em Python podem se apresentar em diversas formas. Abaixo estão alguns exemplos."
      ]
    },
    {
      "cell_type": "code",
      "execution_count": 3,
      "metadata": {
      },
      "outputs": [

      ],
      "source": [
        "an_integer = 42 # Apenas um inteiro\n",
        "a_float = 0.1 # Um número não inteiro, com precisão fixada\n",
        "a_boolean = True # Um valor que pode ser True ou False\n",
        "a_string = '''just enclose text between two 's, or two \"s, or do what we did for this string''' # Texto\n",
        "none_of_the_above = None # A ausência de qualquer valor atual ou tipo de variável"
      ]
    },
    {
      "cell_type": "markdown",
      "metadata": {
      },
      "source": [
        "Além dos números, outra estrutura de dados que podemos usar é a *lista*."
      ]
    },
    {
      "cell_type": "code",
      "execution_count": 4,
      "metadata": {
      },
      "outputs": [

      ],
      "source": [
        "a_list = [0,1,2,3]"
      ]
    },
    {
      "cell_type": "markdown",
      "metadata": {
      },
      "source": [
        "Listas em Python podem conter qualquer mistura de tipos de variáveis."
      ]
    },
    {
      "cell_type": "code",
      "execution_count": 5,
      "metadata": {
      },
      "outputs": [

      ],
      "source": [
        "a_list = [ 42, 0.5, True, [0,1], None, 'Banana' ]"
      ]
    },
    {
      "cell_type": "markdown",
      "metadata": {
      },
      "source": [
        "As listas em Python são indexadas a partir do `0`  (ao contrário de linguagens como Fortran). Veja como você acessa o `42` no início da lista acima."
      ]
    },
    {
      "cell_type": "code",
      "execution_count": 6,
      "metadata": {
      },
      "outputs": [
        {
          "data": {
            "text/plain": [
              "42"
            ]
          },
          "execution_count": 6,
          "metadata": {
          },
          "output_type": "execute_result"
        }
      ],
      "source": [
        "a_list[0]"
      ]
    },
    {
      "cell_type": "markdown",
      "metadata": {
      },
      "source": [
        "Uma estrutura de dados semelhante é a *tupla*."
      ]
    },
    {
      "cell_type": "code",
      "execution_count": 7,
      "metadata": {
      },
      "outputs": [
        {
          "data": {
            "text/plain": [
              "42"
            ]
          },
          "execution_count": 7,
          "metadata": {
          },
          "output_type": "execute_result"
        }
      ],
      "source": [
        "a_tuple = ( 42, 0.5, True, [0,1], None, 'Banana' )\n",
        "a_tuple[0]"
      ]
    },
    {
      "cell_type": "markdown",
      "metadata": {
      },
      "source": [
        "Uma grande diferença entre a lista e a tupla é que os elementos da lista podem ser alterados"
      ]
    },
    {
      "cell_type": "code",
      "execution_count": 8,
      "metadata": {
      },
      "outputs": [
        {
          "name": "stdout",
          "output_type": "stream",
          "text": [
            "[42, 0.5, True, [0, 1], None, 'apple']\n"
          ]
        }
      ],
      "source": [
        "a_list[5] = 'apple'\n",
        "\n",
        "print(a_list)"
      ]
    },
    {
      "cell_type": "markdown",
      "metadata": {
      },
      "source": [
        "enquanto os elementos de tupla não podem"
      ]
    },
    {
      "cell_type": "code",
      "execution_count": 9,
      "metadata": {
        "tags": [
          "raises-exception"
        ]
      },
      "outputs": [
        {
          "ename": "TypeError",
          "evalue": "'tuple' object does not support item assignment",
          "output_type": "error",
          "traceback": [
            "\u001b[0;31m---------------------------------------------------------------------------\u001b[0m",
            "\u001b[0;31mTypeError\u001b[0m                                 Traceback (most recent call last)",
            "\u001b[0;32m<ipython-input-9-42d08f1e5606>\u001b[0m in \u001b[0;36m<module>\u001b[0;34m\u001b[0m\n\u001b[0;32m----> 1\u001b[0;31m \u001b[0ma_tuple\u001b[0m\u001b[0;34m[\u001b[0m\u001b[0;36m5\u001b[0m\u001b[0;34m]\u001b[0m \u001b[0;34m=\u001b[0m \u001b[0;34m'apple'\u001b[0m\u001b[0;34m\u001b[0m\u001b[0;34m\u001b[0m\u001b[0m\n\u001b[0m",
            "\u001b[0;31mTypeError\u001b[0m: 'tuple' object does not support item assignment"
          ]
        }
      ],
      "source": [
        "a_tuple[5] = 'apple'"
      ]
    },
    {
      "cell_type": "markdown",
      "metadata": {
      },
      "source": [
        "Além disso, podemos adicionar um elemento ao final de uma lista, o que não podemos fazer com tuplas."
      ]
    },
    {
      "cell_type": "code",
      "execution_count": 10,
      "metadata": {
      },
      "outputs": [
        {
          "name": "stdout",
          "output_type": "stream",
          "text": [
            "[42, 0.5, True, [0, 1], None, 'apple', 3.14]\n"
          ]
        }
      ],
      "source": [
        "a_list.append( 3.14 )\n",
        "\n",
        "print(a_list)"
      ]
    },
    {
      "cell_type": "markdown",
      "metadata": {
      },
      "source": [
        "Outra estrutura de dados útil é o *dicionário*. Isso armazena um conjunto de *valores*, cada um rotulado por uma *chave* exclusiva.\n",
        "\n",
        "Os valores podem ser qualquer tipo de dados. As chaves podem ser qualquer coisa suficientemente simples (integer, float, boolean, string). Não pode ser uma lista, mas *pode* ser uma tupla."
      ]
    },
    {
      "cell_type": "code",
      "execution_count": 11,
      "metadata": {
      },
      "outputs": [

      ],
      "source": [
        "a_dict = { 1:'Este é o valor, para a chave 1', 'Esta é a chave para o valor 1':1, False:':)', (0,1):256 }"
      ]
    },
    {
      "cell_type": "markdown",
      "metadata": {
      },
      "source": [
        "Os valores são acessados usando as chaves"
      ]
    },
    {
      "cell_type": "code",
      "execution_count": 12,
      "metadata": {
      },
      "outputs": [
        {
          "data": {
            "text/plain": [
              "1"
            ]
          },
          "execution_count": 12,
          "metadata": {
          },
          "output_type": "execute_result"
        }
      ],
      "source": [
        "a_dict['Esta é a chave para o valor 1']"
      ]
    },
    {
      "cell_type": "markdown",
      "metadata": {
      },
      "source": [
        "Novos pares de chave/valor podem ser adicionados apenas fornecendo o novo valor para a nova chave"
      ]
    },
    {
      "cell_type": "code",
      "execution_count": 13,
      "metadata": {
      },
      "outputs": [

      ],
      "source": [
        "a_dict['nova chave'] = 'novo_valor'"
      ]
    },
    {
      "cell_type": "markdown",
      "metadata": {
      },
      "source": [
        "Para fazer um loop em um intervalo numérico, a sintaxe é"
      ]
    },
    {
      "cell_type": "code",
      "execution_count": 14,
      "metadata": {
      },
      "outputs": [
        {
          "name": "stdout",
          "output_type": "stream",
          "text": [
            "0\n",
            "1\n",
            "2\n",
            "3\n",
            "4\n"
          ]
        }
      ],
      "source": [
        "for j in range(5):\n",
        "    print(j)"
      ]
    },
    {
      "cell_type": "markdown",
      "metadata": {
      },
      "source": [
        "Observe que  começa em 0 (por padrão) e termina em n-1 para `range(n)`."
      ]
    },
    {
      "cell_type": "markdown",
      "metadata": {
      },
      "source": [
        "Você também pode fazer um loop sobre qualquer objeto 'iterável', como listas"
      ]
    },
    {
      "cell_type": "code",
      "execution_count": 15,
      "metadata": {
      },
      "outputs": [
        {
          "name": "stdout",
          "output_type": "stream",
          "text": [
            "42\n",
            "0.5\n",
            "True\n",
            "[0, 1]\n",
            "None\n",
            "apple\n",
            "3.14\n"
          ]
        }
      ],
      "source": [
        "for j in a_list:\n",
        "    print(j)"
      ]
    },
    {
      "cell_type": "markdown",
      "metadata": {
      },
      "source": [
        "ou dicionários"
      ]
    },
    {
      "cell_type": "code",
      "execution_count": 16,
      "metadata": {
      },
      "outputs": [
        {
          "name": "stdout",
          "output_type": "stream",
          "text": [
            "key = 1\n",
            "value = Este é o valor, para a chave 1\n",
            "\n",
            "key = Esta é a chave para o valor 1\n",
            "value = 1\n",
            "\n",
            "key = False\n",
            "value = :)\n",
            "\n",
            "key = (0, 1)\n",
            "value = 256\n",
            "\n",
            "key = nova chave\n",
            "value = novo_valor\n",
            "\n"
          ]
        }
      ],
      "source": [
        "for key in a_dict:\n",
        "    value = a_dict[key]\n",
        "    print('key =',key)\n",
        "    print('value =',value)\n",
        "    print()"
      ]
    },
    {
      "cell_type": "markdown",
      "metadata": {
      },
      "source": [
        "Os comandos condicionais são feitos com `if`, `elif` e `else` utilizando a seguinte sintaxe."
      ]
    },
    {
      "cell_type": "code",
      "execution_count": 17,
      "metadata": {
      },
      "outputs": [
        {
          "name": "stdout",
          "output_type": "stream",
          "text": [
            "We have an apple!\n"
          ]
        }
      ],
      "source": [
        "if 'strawberry' in a_list:\n",
        "    print('We have a strawberry!')\n",
        "elif a_list[5]=='apple':\n",
        "    print('We have an apple!')\n",
        "else:\n",
        "    print('Not much fruit here!')"
      ]
    },
    {
      "cell_type": "markdown",
      "metadata": {
      },
      "source": [
        "A importação de pacotes é feita da seguinte forma"
      ]
    },
    {
      "cell_type": "code",
      "execution_count": 18,
      "metadata": {
      },
      "outputs": [

      ],
      "source": [
        "import numpy"
      ]
    },
    {
      "cell_type": "markdown",
      "metadata": {
      },
      "source": [
        "O pacote `numpy` é importante para fazer cálculos"
      ]
    },
    {
      "cell_type": "code",
      "execution_count": 19,
      "metadata": {
      },
      "outputs": [
        {
          "data": {
            "text/plain": [
              "1.0"
            ]
          },
          "execution_count": 19,
          "metadata": {
          },
          "output_type": "execute_result"
        }
      ],
      "source": [
        "numpy.sin( numpy.pi/2 )"
      ]
    },
    {
      "cell_type": "markdown",
      "metadata": {
      },
      "source": [
        "Temos que escrever `numpy.` na frente de cada comando numpy para que ele saiba como encontrar esse comando no pacote `numpy`. Para encurtar a escrita, é comum usar"
      ]
    },
    {
      "cell_type": "code",
      "execution_count": 20,
      "metadata": {
      },
      "outputs": [
        {
          "data": {
            "text/plain": [
              "1.0"
            ]
          },
          "execution_count": 20,
          "metadata": {
          },
          "output_type": "execute_result"
        }
      ],
      "source": [
        "import numpy as np\n",
        "\n",
        "np.sin( np.pi/2 )"
      ]
    },
    {
      "cell_type": "markdown",
      "metadata": {
      },
      "source": [
        "Então você só precisa do nome abreviado. A maioria das pessoas usa `np`, mas você pode escolher o que quiser.\n",
        "\n",
        "Você também pode importar tudo diretamente do `numpy` com"
      ]
    },
    {
      "cell_type": "code",
      "execution_count": 21,
      "metadata": {
      },
      "outputs": [

      ],
      "source": [
        "from numpy import *"
      ]
    },
    {
      "cell_type": "markdown",
      "metadata": {
      },
      "source": [
        "Então você pode usar os comandos diretamente. Mas isso pode fazer com que os pacotes interfiram uns nos outros, então use com cuidado."
      ]
    },
    {
      "cell_type": "code",
      "execution_count": 22,
      "metadata": {
      },
      "outputs": [
        {
          "data": {
            "text/plain": [
              "1.0"
            ]
          },
          "execution_count": 22,
          "metadata": {
          },
          "output_type": "execute_result"
        }
      ],
      "source": [
        "sin( pi/2 )"
      ]
    },
    {
      "cell_type": "markdown",
      "metadata": {
      },
      "source": [
        "Se você quer fazer trigonometria, álgebra linear etc, pode usar o `numpy`. Para plotagem, use `matplotlib`. Para teoria dos grafos, use `networkx`. Para computação quântica, use `qiskit`. Para o que você quiser, provavelmente haverá um pacote para ajudá-lo"
      ]
    },
    {
      "cell_type": "markdown",
      "metadata": {
      },
      "source": [
        "Uma coisa boa de se saber em qualquer linguagem é como fazer uma função.\n",
        "\n",
        "Aqui está uma função, cujo nome escolhido foi `do_some_maths`, suas entradas são chamadas `Input1` e `Input2` e sua saída é chamada `the_answer`."
      ]
    },
    {
      "cell_type": "code",
      "execution_count": 23,
      "metadata": {
      },
      "outputs": [

      ],
      "source": [
        "def do_some_maths ( Input1, Input2 ):\n",
        "    the_answer = Input1 + Input2\n",
        "    return the_answer"
      ]
    },
    {
      "cell_type": "markdown",
      "metadata": {
      },
      "source": [
        "A função é usada da seguinte forma"
      ]
    },
    {
      "cell_type": "code",
      "execution_count": 24,
      "metadata": {
      },
      "outputs": [
        {
          "name": "stdout",
          "output_type": "stream",
          "text": [
            "73\n"
          ]
        }
      ],
      "source": [
        "x = do_some_maths(1,72)\n",
        "print(x)"
      ]
    },
    {
      "cell_type": "markdown",
      "metadata": {
      },
      "source": [
        "Se você der um objeto a uma função e a função chamar um método desse objeto para alterar seu estado, o efeito persistirá. Então, se isso é tudo que você quer fazer, você não precisa usar o `return`. Por exemplo, vamos fazer isso com o método `append` de uma lista."
      ]
    },
    {
      "cell_type": "code",
      "execution_count": 25,
      "metadata": {
      },
      "outputs": [

      ],
      "source": [
        "def add_sausages ( input_list ):\n",
        "    if 'sausages' not in input_list:\n",
        "        input_list.append('sausages')"
      ]
    },
    {
      "cell_type": "code",
      "execution_count": 26,
      "metadata": {
      },
      "outputs": [
        {
          "name": "stdout",
          "output_type": "stream",
          "text": [
            "List before the function\n",
            "[42, 0.5, True, [0, 1], None, 'apple', 3.14]\n",
            "\n",
            "List after the function\n",
            "[42, 0.5, True, [0, 1], None, 'apple', 3.14, 'sausages']\n"
          ]
        }
      ],
      "source": [
        "print('List before the function')\n",
        "print(a_list)\n",
        "\n",
        "add_sausages(a_list) # function called without an output\n",
        "\n",
        "print('\\nList after the function')\n",
        "print(a_list)"
      ]
    },
    {
      "cell_type": "markdown",
      "metadata": {
      },
      "source": [
        "A aleatoriedade pode ser gerada usando o pacote `random`."
      ]
    },
    {
      "cell_type": "code",
      "execution_count": 27,
      "metadata": {
      },
      "outputs": [

      ],
      "source": [
        "import random"
      ]
    },
    {
      "cell_type": "code",
      "execution_count": 28,
      "metadata": {
      },
      "outputs": [
        {
          "name": "stdout",
          "output_type": "stream",
          "text": [
            "* Results from sample 1\n",
            "\n",
            "    Random number from 0 to 1: 0.9565207808448243\n",
            "\n",
            "    Random choice from our list: 3.14\n",
            "\n",
            "\n",
            "* Results from sample 2\n",
            "\n",
            "    Random number from 0 to 1: 0.2965136670559021\n",
            "\n",
            "    Random choice from our list: sausages\n",
            "\n",
            "\n",
            "* Results from sample 3\n",
            "\n",
            "    Random number from 0 to 1: 0.5742595097667611\n",
            "\n",
            "    Random choice from our list: 3.14\n",
            "\n",
            "\n",
            "* Results from sample 4\n",
            "\n",
            "    Random number from 0 to 1: 0.8530438802121619\n",
            "\n",
            "    Random choice from our list: True\n",
            "\n",
            "\n",
            "* Results from sample 5\n",
            "\n",
            "    Random number from 0 to 1: 0.1329354419675386\n",
            "\n",
            "    Random choice from our list: None\n",
            "\n",
            "\n"
          ]
        }
      ],
      "source": [
        "for j in range(5):\n",
        "    print('* Results from sample',j+1)\n",
        "    print('\\n    Random number from 0 to 1:', random.random() )\n",
        "    print(\"\\n    Random choice from our list:\", random.choice( a_list ) )\n",
        "    print('\\n')"
      ]
    },
    {
      "cell_type": "markdown",
      "metadata": {
      },
      "source": [
        "Estes são os fundamentos. Agora tudo que você precisa é um mecanismo de busca e a intuição para saber quem vale a pena ouvir no Stack Exchange. Então você pode fazer qualquer coisa com Python. Seu código pode não ser o mais 'Pythonico', mas apenas Pythonistas realmente se importam com isso."
      ]
    }
  ],
  "metadata": {
    "kernelspec": {
      "display_name": "Python 3",
      "language": "python",
      "name": "python3"
    },
    "language_info": {
      "codemirror_mode": {
        "name": "ipython",
        "version": 3
      },
      "file_extension": ".py",
      "mimetype": "text/x-python",
      "name": "python",
      "nbconvert_exporter": "python",
      "pygments_lexer": "ipython3",
      "version": "3.9"
    }
  },
  "nbformat": 4,
  "nbformat_minor": 2
}
