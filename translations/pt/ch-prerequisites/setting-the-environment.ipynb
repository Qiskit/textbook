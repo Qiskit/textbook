{
  "cells": [
    {
      "cell_type": "markdown",
      "metadata": {
        "tags": [
          "remove_cell"
        ]
      },
      "source": [
        "# Guia de configuração para trabalhar com o Qiskit Textbook"
      ]
    },
    {
      "cell_type": "markdown",
      "metadata": {
      },
      "source": [
        "Este é um guia completo para configurar seu computador pessoal para trabalhar com o Qiskit Textbook. Isso irá ajudá-lo a reproduzir os resultados como você os vê no site do livro. O Qiskit Textbook é escrito em [notebooks Jupyter](https://jupyter.org/install). Os notebooks e [o site](https://qiskit.org/textbook/preface.html) são as únicas mídias em que o livro  é totalmente compatível."
      ]
    },
    {
      "cell_type": "markdown",
      "metadata": {
      },
      "source": [
        "## Instalando o pacote qiskit_textbook\n",
        "\n",
        "O Qiskit Textbook fornece algumas ferramentas e widgets específicos para o livro. Estas não fazem parte do Qiskit, estando disponíveis no pacote `qiskit_textbook`. A maneira mais rápida de instalá-lo com [Pip](http://pypi.org/project/pip/) e [Git](http://git-scm.com/) é através do comando:\n",
        "\n",
        "```code\n",
        "pip install git+https://github.com/qiskit-community/qiskit-textbook.git#subdirectory=qiskit-textbook-src\n",
        "```\n",
        "\n",
        "Alternativamente, pode baixar a pasta [qiskit-textbook-src](https://github.com/qiskit-community/qiskit-textbook) do Github e executar:\n",
        "\n",
        "```code\n",
        "pip install ./qiskit-textbook-src\n",
        "```\n",
        "\n",
        "a partir do diretório que contém esta pasta.\n"
      ]
    },
    {
      "cell_type": "markdown",
      "metadata": {
      },
      "source": [
        "## Passos para reproduzir os resultados conforme pré-renderizados no qiskit textbook (Opcional)"
      ]
    },
    {
      "cell_type": "markdown",
      "metadata": {
      },
      "source": [
        "### 1. Configurando o MatPlotLib como padrão de impressão\n",
        "\n",
        "O backend padrão para <code>QuantumCircuit.draw()</code> ou <code>qiskit.visualization.circuit_drawer()</code> é o backend de texto. No entanto, dependendo do seu ambiente local, poderá querer alterar esses padrões para algo mais adequado ao seu uso. Isto é feito com o ficheiro de configurações de utilizador. Por defeito, o ficheiro de configurações de utilizador deve estar localizado em <code>~/.qiskit/</code> e chamar-se <code>settings.conf</code>.\n",
        "\n",
        "O Qiskit Textbook usa o MatPlotLib como padrão para impressão dos circuitos. Para reproduzir as visualizações conforme no qiskit textbook, crie um arquivo <code>settings.conf</code> (geralmente encontrado em <code>~/.qiskit/</code>) com o conteúdo:"
      ]
    },
    {
      "cell_type": "markdown",
      "metadata": {
      },
      "source": [
        "```code\n",
        "[default]\n",
        "circuit_drawer = mpl\n",
        "```"
      ]
    },
    {
      "cell_type": "markdown",
      "metadata": {
      },
      "source": [
        "### 2. Configurando o tipo de imagem para svg\n",
        "\n",
        "Opcionalmente, pode adicionar a seguinte linha de código ao arquivo <code>ipython_kernel_config.py</code> (geralmente encontrado em <code>~/.ipython/profile_default/</code>) para trocar o formato padrão de imagem de PNG para o formato SVG mais escalável:"
      ]
    },
    {
      "cell_type": "markdown",
      "metadata": {
      },
      "source": [
        "```code\n",
        "c.InlineBackend.figure_format = 'svg'\n",
        "```"
      ]
    },
    {
      "cell_type": "markdown",
      "metadata": {
      },
      "source": [
        "### 3. Instalando o interpretador LaTeX\n",
        "\n",
        "Para obter uma renderização semelhante ao Qiskit Textbook, instale opcionalmente a biblioteca pylatexenc. Poderá fazer isso com [Pip](http://pypi.org/project/pip/) e [Git](http://git-scm.com/) usando o comando:\n",
        "\n",
        "<code>pip install pylatexenc</code>"
      ]
    },
    {
      "cell_type": "markdown",
      "metadata": {
      },
      "source": [
        "### 4. Sincronizando com as versões do Qiskit usadas no Textbook\n",
        "\n",
        "Irá encontrar um pedaço de código no final da maioria dos tutoriais que contem informações sobre quais versões dos pacotes qiskit que foram usadas no tutorial. Se encontrar inconsistência na sintaxe e/ou resultados, tente usar a mesma versão.\n",
        "\n",
        "Para verificar a versão instalada no seu computador, execute o seguinte código no shell do Python ou no Notebook Jupyter:"
      ]
    },
    {
      "cell_type": "code",
      "execution_count": 1,
      "metadata": {
      },
      "outputs": [
        {
          "data": {
            "text/html": [
              "<h3>Version Information</h3><table><tr><th>Qiskit Software</th><th>Version</th></tr><tr><td><code>qiskit-terra</code></td><td>0.20.0</td></tr><tr><td><code>qiskit-aer</code></td><td>0.9.1</td></tr><tr><td><code>qiskit-ignis</code></td><td>0.7.0</td></tr><tr><td><code>qiskit-ibmq-provider</code></td><td>0.18.3</td></tr><tr><td><code>qiskit-aqua</code></td><td>0.9.5</td></tr><tr><td><code>qiskit</code></td><td>0.36.0</td></tr><tr><td><code>qiskit-nature</code></td><td>0.3.0</td></tr><tr><td><code>qiskit-finance</code></td><td>0.2.1</td></tr><tr><td><code>qiskit-optimization</code></td><td>0.2.3</td></tr><tr><td><code>qiskit-machine-learning</code></td><td>0.2.1</td></tr><tr><th>System information</th></tr><tr><td>Python version</td><td>3.9.10</td></tr><tr><td>Python compiler</td><td>Clang 13.0.0 (clang-1300.0.29.3)</td></tr><tr><td>Python build</td><td>main, Jan 15 2022 11:48:00</td></tr><tr><td>OS</td><td>Darwin</td></tr><tr><td>CPUs</td><td>8</td></tr><tr><td>Memory (Gb)</td><td>32.0</td></tr><tr><td colspan='2'>Fri Apr 29 09:23:34 2022 BST</td></tr></table>"
            ],
            "text/plain": [
              "<IPython.core.display.HTML object>"
            ]
          },
          "metadata": {
          },
          "output_type": "display_data"
        }
      ],
      "source": [
        "import qiskit.tools.jupyter\n",
        "%qiskit_version_table"
      ]
    }
  ],
  "metadata": {
    "kernelspec": {
      "display_name": "Python 3",
      "language": "python",
      "name": "python3"
    },
    "language_info": {
      "codemirror_mode": {
        "name": "ipython",
        "version": 3
      },
      "file_extension": ".py",
      "mimetype": "text/x-python",
      "name": "python",
      "nbconvert_exporter": "python",
      "pygments_lexer": "ipython3",
      "version": "3.9"
    }
  },
  "nbformat": 4,
  "nbformat_minor": 2
}
