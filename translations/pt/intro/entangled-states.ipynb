{
  "cells": [
    {
      "cell_type": "markdown",
      "id": "307db04d",
      "metadata": {
      },
      "source": [
        "# Estados emaranhados"
      ]
    },
    {
      "cell_type": "markdown",
      "id": "a3e3fc47",
      "metadata": {
        "formulas": {
          "_amp": {
            "meaning": "This is a number representing a probability amplitude."
          },
          "_ket-00": {
            "meaning": "This is a the quantum state in which our qubits are in the state 00 with certainty."
          },
          "_ket-01": {
            "meaning": "This is a the quantum state in which our qubits are in the state 01 with certainty."
          },
          "_ket-10": {
            "meaning": "This is a the quantum state in which our qubits are in the state 10 with certainty."
          },
          "_ket-11": {
            "meaning": "This is a the quantum state in which our qubits are in the state 11 with certainty."
          },
          "_ket-phi-plus": {
            "meaning": "This is a label we've chosen to represent the quantum state on the right.",
            "say": "'ket phi plus', where <a href='https://en.wikipedia.org/wiki/Phi'>'phi'</a> rhymes with 'eye'."
          },
          "_ket-plus-0": {
            "meaning": "This is a label representing the quantum state on the right. It's the state where the leftmost qubit is in the state |+〉 and the rightmost qubit is in the state |0〉.",
            "say": "'ket plus naught'."
          },
          "_ket-psi": {
            "meaning": "This is a symbol we're using as a placeholder.",
            "say": "Ket-psi (where 'psi' sounds like 'sigh')."
          },
          "_state-vector": {
            "meaning": "This is a shorter way of writing quantum states. We order the amplitudes by the state they correspond to, so we don't need to write the states down."
          },
          "ket-plus": {
            "meaning": "This is the single-qubit quantum state where the amplitudes of states 0 and 1 are both 1/√2.",
            "say": "'ket plus'."
          }
        }
      },
      "source": [
        "## Estados de produto e estados emaranhados\n",
        "\n",
        "Nas seções anteriores, já vimos como expressar estados multi-qubit como vetores. Por exemplo, aqui está o vetor de estado para dois qubits,\n",
        "\n",
        "$$ \\cssId{_ket-psi}{|\\psi\\rangle} = \\class{*amp}{c*{00}}\\cssId{_ket-00}{|00\\rangle} + \\class{*amp}{c*{01}}\\cssId{<em data-md-type=\"emphasis\">ket-01}{|01\\rangle} + \\class{*amp}{c*{10}}\\cssId{<em data-md-type=\"emphasis\">ket-10}{|10\\rangle} + \\class{*amp}{c*{11}}\\cssId{<em data-md-type=\"emphasis\">ket-11}{|11\\rangle} = \\class{<em data-md-type=\"emphasis\">state-vector}{\\begin{bmatrix} c</em>{00} \\ c</em>{01} \\ c</em>{10} \\ c</em>{11} \\end{bmatrix}}. $$\n",
        "\n",
        "O que não vimos até agora é a estrutura dessas superposições e como isso afeta seu comportamento e para que podem ser usadas. Por exemplo, considere os dois estados a seguir.\n",
        "\n",
        "$$ \\cssId{_ket-plus-0}{|{+}{0} \\rangle} = \\frac{1}{\\sqrt{2}} \\begin{bmatrix} 1 \\ 0 \\ 1 \\ 0 \\end{bmatrix} = \\frac{1}{\\sqrt{2}}(|00\\rangle+|10\\rangle), \\quad \\cssId{_ket-phi-plus}{|\\Phi^+ \\rangle} = \\frac{1}{\\sqrt{2}} \\begin{bmatrix} 1 \\ 0 \\ 0 \\ 1 \\end{bmatrix} = \\frac{1}{\\sqrt{2}}(|00\\rangle+|11\\rangle). $$\n",
        "\n",
        "De relance, eles podem parecer bastante semelhantes. Ambos são uma superposição igualmente ponderada de duas strings de bits diferentes. No entanto, vamos dar uma olhada mais de perto.\n",
        "\n",
        "Em particular, vejamos o estado $|{+}{0} \\rangle$. Este é composto por dois termos:\n",
        "\n",
        "- $|00\\rangle$: Ambos os qubits estão no estado $|0\\rangle$;\n",
        "- $|10\\rangle$: Os estados do qubit são $|1\\rangle$ (à esquerda) e $|0\\rangle$ (à direita).\n",
        "\n",
        "Ambos os termos contam a mesma história para o qubit à direita: está no estado $|0\\rangle$. Com isso em mente, vemos que toda a superposição neste estado pertence ao outro qubit. Especificamente, o qubit à esquerda pode ser descrito pelo único estado de qubit $\\class{ket-plus}{|+\\rangle}$.\n",
        "\n",
        "Portanto, o estado $|{+}0\\rangle$ é um vetor de estado de dois qubits que realmente descreve um par de estados de um único qubit: $\\class{ket-plus}{|+\\rangle}$ e $|0\\rangle$ .\n",
        "\n",
        "![imagem mostrando como dois estados de qubit único se tornam um estado de dois qubits](images/multi-qubit/tensor.svg)\n"
      ]
    },
    {
      "cell_type": "markdown",
      "id": "7d5d9751",
      "metadata": {
        "formulas": {
          "ket-minus": {
            "meaning": "This is the single-qubit quantum state where the amplitude of state 0 is 1/√2, and the amplitude of state 1 is -1/√2.",
            "say": "'ket minus'."
          }
        }
      },
      "source": [
        "<!-- ::: q-block.reminder -->\n",
        "\n",
        "### Lembrete\n",
        "\n",
        "<details><summary>Pedido de Qubit</summary> No código Qiskit, qubits e bits são indexados de 0 e numerados da direita para a esquerda. Então, para um estado de quatro qubits como $|1000\\rangle$, os quatro qubits são numerados 0, 1, 2 e 3. É o qubit 3 que está no estado $|1\\rangle$, enquanto o resto está no estado $| 0\\rângulo$. Isso ocorre por design, de modo que o índice do qubit também é a potência de 2 que ele representa.</details>\n",
        "\n",
        "<!-- ::: -->\n",
        "\n",
        "<!-- ::: q-block.exercise -->\n",
        "\n",
        "### Questionário rápido\n",
        "\n",
        "<!-- ::: q-quiz(goal=\"intro-multi-1\") -->\n",
        "\n",
        "<!-- ::: .question -->\n",
        "\n",
        "Suponha que você tenha dois qubits, com qubit 0 no estado $\\class{ket-plus}{|+\\rangle}$, qubit 1 no estado $\\class{ket-minus}{|-\\rangle}$. Que estado de dois qubits representaria isso?\n",
        "\n",
        "<!-- ::: -->\n",
        "\n",
        "<!-- ::: .option -->\n",
        "\n",
        "1. $|{+}{-}\\rangle$\n",
        "\n",
        "<!-- ::: -->\n",
        "\n",
        "<!-- ::: .option(correct) -->\n",
        "\n",
        "1. $|{-}{+}\\rangle$\n",
        "\n",
        "<!-- ::: -->\n",
        "\n",
        "<!-- ::: .option -->\n",
        "\n",
        "1. $|0\\rangle$\n",
        "\n",
        "<!-- ::: -->\n",
        "\n",
        "<!-- ::: -->\n",
        "\n",
        "<!-- ::: -->"
      ]
    },
    {
      "cell_type": "markdown",
      "id": "93dc7881",
      "metadata": {
        "formulas": {
          "_amp-0": {
            "meaning": "This is the amplitude of the state 0."
          },
          "_amp-1": {
            "meaning": "This is the amplitude of the state 1."
          },
          "_ket-vague": {
            "meaning": "This is a label we're using to represent a hypothetical single-qubit state. We're not being specific about the state because we want to show our reasoning works generally (not just in one specific case)."
          },
          "_p00": {
            "meaning": "Probability of measuring 00 (this is the amplitude of the state |00, squared)."
          },
          "_p10": {
            "meaning": "Probability of measuring 10 (this is the amplitude of the state |10, squared)."
          },
          "_pa0": {
            "meaning": "The probability of measuring the state |a〉 as |0〉."
          },
          "_tpb": {
            "meaning": "This is the probability of qubit b being 0, plus the probability of qubit b being 1. Since the only possible outcomes are 0 or 1, these two probabilities will always add to 1."
          }
        }
      },
      "source": [
        "### Estados de produto\n",
        "\n",
        "O $|{+}0 \\rangle$ é um exemplo de um tipo de estado multi-qubit conhecido como 'estado de produto'. Estes representam casos que podem alternativamente ser escritos como uma sequência de estados de qubit únicos.\n",
        "\n",
        "Para uma forma geral de estados de produto de dois qubits, precisamos começar com dois estados gerais de um único qubit,\n",
        "\n",
        "$$\\class{_ket-vague}{|a\\rangle} = \\begin{bmatrix} \\class{_amp-0}{a_0} \\ \\class{_amp-1}{a_1} \\end{bmatrix}, \\quad \\class{_ket-vague}{|b\\rangle} = \\begin{bmatrix} \\class{_amp-0}{b_0} \\ \\class{_amp-1}{b_1} \\end{bmatrix}.$$\n",
        "\n",
        "Usaremos $|ba\\rangle$ para nos referirmos ao estado combinado de produto destes, onde $|a\\rangle$ representa o qubit à direita e $|b\\rangle$ é o da esquerda. Podemos escrever isso como:\n",
        "\n",
        "$$ |b , a\\rangle = \\begin{bmatrix} b_0 a_0 \\ b_0 a_1 \\ b_1 a_0 \\ b_1 a_1 \\end{bmatrix}. $$\n",
        "\n",
        "Novamente, essas regras seguem as regras de probabilidade padrão: Se quisermos encontrar a probabilidade de dois eventos não relacionados ocorrerem, multiplicamos suas probabilidades. Para estender essa regra à mecânica quântica, apenas trocamos probabilidades com amplitudes. Portanto, a amplitude do estado $|00\\rangle$ é a amplitude do qubit $a$ ser $|0\\rangle$, multiplicada pela amplitude do qubit $b$ ser $|0\\rangle$.\n",
        "\n",
        "Vamos verificar se isso funciona: Suponha que ambos os qubits sejam medidos, qual é a probabilidade de que o qubit à direita seja `0` ? Esta será a soma das probabilidades para os dois resultados que têm um `0` à direita, ou seja, `00` e `10` ,\n",
        "\n",
        "$$ \\cssId{*pa0}{p*{|a\\rangle}(|0\\rangle)} = p(|00\\rangle) + p(|10\\rangle). $$\n",
        "\n",
        "Agora podemos substituir nos cálculos por esses estados dados acima e fazer álgebra simples\n",
        "\n",
        "$$ \\begin{aligned} p_{|a\\rangle}(|0\\rangle) &amp;= \\cssId{_p00}{(b_0 a_0)^2} + \\cssId{_p10}{(b_1 a_0)^2} \\ &amp;= \\phantom{(}b_0^2 a_0^2\\phantom{)^2} + \\phantom{(}b_1^2 a_0^2 \\ &amp;= \\cssId{_tpb}{(b_0^2 + b_1^2)} ; a_0^2 \\ &amp;= a_0^2 \\end{aligned} $$\n",
        "\n",
        "Isso nos dá exatamente o que obteríamos com apenas o cálculo de um único qubit. Usando este método, você também encontraria $p_{|b\\rangle}(|0\\rangle) = b_0^2$.\n",
        "\n",
        "### Estados emaranhados\n",
        "\n",
        "Agora vamos olhar novamente para o estado $|\\Phi^+ \\rangle$,\n",
        "\n",
        "$$ |\\Phi^+ \\rangle = \\frac{1}{\\sqrt{2}} \\begin{bmatrix} 1 \\ 0 \\ 0 \\ 1 \\end{bmatrix} = \\frac{1}{\\sqrt{2}}(|00\\rangle+|11\\rangle). $$\n",
        "\n",
        "Não há pares de estados de qubit únicos $|a \\rangle$ e $|b\\rangle$ cujo estado de produto seria assim. Experimente você mesmo tentando encontrar os valores $b_0$, $b_1$, $c_0$ e $c_1$ que correspondam a $|\\Phi^{+} \\rangle$. Você verá que não é possível!\n",
        "\n",
        "Isso representa um tipo diferente de estado de dois qubits, distinto dos estados de produto, que não podem ser descritos como uma combinação de estados simples de um único qubit. Estes são conhecidos como estados *emaranhados* .\n",
        "\n",
        "<!-- ::: q-block.exercise -->\n",
        "\n",
        "### Questionário rápido\n",
        "\n",
        "<!-- ::: q-quiz(goal=\"intro-multi-2\") -->\n",
        "\n",
        "<!-- ::: .question -->\n",
        "\n",
        "A qual destes estados de produto corresponde o estado a seguir?\n",
        "\n",
        "$$ \\frac{1}{2} \\begin{bmatrix} 1 \\ -1 \\ -1 \\ 1 \\end{bmatrix}$$\n",
        "\n",
        "<!-- ::: -->\n",
        "\n",
        "<!-- ::: .option -->\n",
        "\n",
        "1. $|{+}{-}\\rangle$\n",
        "\n",
        "<!-- ::: -->\n",
        "\n",
        "<!-- ::: .option(correct) -->\n",
        "\n",
        "1. $|{-}{-}\\rangle$\n",
        "\n",
        "<!-- ::: -->\n",
        "\n",
        "<!-- ::: .option -->\n",
        "\n",
        "1. $|{-}{+}\\rangle$\n",
        "\n",
        "<!-- ::: -->\n",
        "\n",
        "<!-- ::: -->\n",
        "\n",
        "<!-- ::: -->\n",
        "\n",
        "<!-- ::: q-block.exercise -->\n",
        "\n",
        "### Questionário rápido\n",
        "\n",
        "<!-- ::: q-quiz(goal=\"intro-multi-3\") -->\n",
        "\n",
        "<!-- ::: .question -->\n",
        "\n",
        "Qual dos seguintes estados está emaranhado?\n",
        "\n",
        "<!-- ::: -->\n",
        "\n",
        "<!-- ::: .option -->\n",
        "\n",
        "1. $ \\frac{1}{2} \\begin{bmatrix} 1 \\\\ -1 \\\\ -1 \\\\ 1 \\end{bmatrix}$\n",
        "\n",
        "<!-- ::: -->\n",
        "\n",
        "<!-- ::: .option -->\n",
        "\n",
        "1. $ \\frac{1}{\\sqrt{2}} \\begin{bmatrix} 1 \\\\ 1 \\\\ 0 \\\\ 0 \\end{bmatrix}$\n",
        "\n",
        "<!-- ::: -->\n",
        "\n",
        "<!-- ::: .option(correct) -->\n",
        "\n",
        "1. $ \\frac{1}{\\sqrt{2}} \\begin{bmatrix} 0 \\\\ 1 \\\\ 1 \\\\ 0 \\end{bmatrix}$\n",
        "\n",
        "<!-- ::: -->\n",
        "\n",
        "<!-- ::: -->\n",
        "\n",
        "<!-- ::: -->"
      ]
    },
    {
      "cell_type": "markdown",
      "id": "99768107",
      "metadata": {
        "gloss": {
          "cx": {
            "text": "This is the CNOT we saw in <a href='https://learn.qiskit.org/course/introduction/why-quantum-computing'>The atoms of computation</a>. It's a gate that performs an X-gate on the target qubit only if the control qubit is 1.",
            "title": "CX-Gate"
          },
          "cz": {
            "text": "This is a new gate. It's similar to the CNOT, this gate performs a Z-gate on the target qubit only if the control qubit is 1.",
            "title": "CZ-Gate"
          }
        }
      },
      "source": [
        "## Portas emaranhantes\n",
        "\n",
        "Computações quânticas geralmente começam em um estado de produto. Especificamente, eles começam no estado de produto mais simples de todos, onde todos os qubits estão no estado $|0\\rangle$.\n",
        "\n",
        "Se aplicarmos apenas estados de qubit únicos, manipularemos esses estados de um qubit. Alguns podem ser girados para $|+\\rangle$ por um Hadamard, ou uma superposição mais complexa por uma rotação mais geral. Mas, no entanto, eles permanecerão em um estado de produto.\n",
        "\n",
        "Para criar emaranhamento, precisamos aplicar portas multi-qubit. Os mais proeminentes são as portas controladas, sendo as portas [`cx`](gloss:cx) e [`cz`](gloss:cz) os exemplos mais simples.\n",
        "\n",
        "### A porta <code>cx</code>\n",
        "\n",
        "Para ver a porta `cx` em ação, vamos começar com o estado de dois qubits $|00\\rangle$."
      ]
    },
    {
      "cell_type": "code",
      "execution_count": 1,
      "id": "47e0d718",
      "metadata": {
      },
      "outputs": [
        {
          "data": {
            "text/latex": [
              "$$ |00\\rangle$$"
            ],
            "text/plain": [
              "<IPython.core.display.Latex object>"
            ]
          },
          "execution_count": 1,
          "metadata": {
          },
          "output_type": "execute_result"
        }
      ],
      "source": [
        "from qiskit import QuantumCircuit\n",
        "from qiskit.quantum_info import Statevector\n",
        "\n",
        "qc = QuantumCircuit(2)\n",
        "\n",
        "# This calculates what the state vector of our qubits would be\n",
        "# after passing through the circuit 'qc'\n",
        "ket = Statevector(qc)\n",
        "\n",
        "# The code below writes down the state vector.\n",
        "# Since it's the last line in the cell, the cell will display it as output\n",
        "ket.draw()"
      ]
    },
    {
      "cell_type": "markdown",
      "id": "91f03b95",
      "metadata": {
      },
      "source": [
        "(Na saída da célula acima, os vetores de estado são desenhados horizontalmente em vez de verticalmente, como geralmente os desenhamos, mas eles significam a mesma coisa aqui).\n",
        "\n",
        "A porta `cx` atua em dois qubits, que são conhecidos como 'controle' e 'alvo'. Vamos primeiro tentar usar o qubit 0 como controle e o qubit 1 como alvo e ver o que acontece."
      ]
    },
    {
      "cell_type": "code",
      "execution_count": 2,
      "id": "b5939215",
      "metadata": {
      },
      "outputs": [
        {
          "data": {
            "text/latex": [
              "$$ |00\\rangle$$"
            ],
            "text/plain": [
              "<IPython.core.display.Latex object>"
            ]
          },
          "execution_count": 2,
          "metadata": {
          },
          "output_type": "execute_result"
        }
      ],
      "source": [
        "qc.cx(0,1)\n",
        "\n",
        "ket = Statevector(qc)\n",
        "ket.draw()"
      ]
    },
    {
      "cell_type": "markdown",
      "id": "8e07947b",
      "metadata": {
      },
      "source": [
        "Esta porta `cx` não teve efeito. O estado permanece $|00\\rangle$.\n",
        "\n",
        "Agora vamos tentar com o controle e o alvo invertidos."
      ]
    },
    {
      "cell_type": "code",
      "execution_count": 3,
      "id": "cb6fb963",
      "metadata": {
      },
      "outputs": [
        {
          "data": {
            "text/latex": [
              "$$ |00\\rangle$$"
            ],
            "text/plain": [
              "<IPython.core.display.Latex object>"
            ]
          },
          "execution_count": 3,
          "metadata": {
          },
          "output_type": "execute_result"
        }
      ],
      "source": [
        "qc.cx(1,0)\n",
        "\n",
        "ket = Statevector(qc)\n",
        "ket.draw()"
      ]
    },
    {
      "cell_type": "markdown",
      "id": "ed5a11e0",
      "metadata": {
      },
      "source": [
        "Novamente, nenhum efeito!\n",
        "\n",
        "Este desempenho decepcionante da porta `cx` é realmente esperado. Podemos interpretar sua ação como condicional ao estado do qubit de controle: se o controle estiver no estado $|0\\rangle$, a `cx` não faz nada. Se o controle estiver no estado $|1\\rangle$, a `cx` executa uma `x` no qubit de destino.\n",
        "\n",
        "![representação do efeito de um portão cx](images/multi-qubit/cnot.svg)\n",
        "\n",
        "Então, se queremos ver a porta `cx` fazer algo, precisamos inverter o qubit de controle para o estado $|1\\rangle$."
      ]
    },
    {
      "cell_type": "code",
      "execution_count": 4,
      "id": "d6acd5d4",
      "metadata": {
      },
      "outputs": [
        {
          "data": {
            "text/latex": [
              "$$ |10\\rangle$$"
            ],
            "text/plain": [
              "<IPython.core.display.Latex object>"
            ]
          },
          "execution_count": 4,
          "metadata": {
          },
          "output_type": "execute_result"
        }
      ],
      "source": [
        "qc.x(1,0)\n",
        "\n",
        "ket = Statevector(qc)\n",
        "ket.draw()"
      ]
    },
    {
      "cell_type": "markdown",
      "id": "39f7f814",
      "metadata": {
      },
      "source": [
        "Agora, quando executamos uma porta `cx` , ela também inverte o qubit de destino."
      ]
    },
    {
      "cell_type": "code",
      "execution_count": 5,
      "id": "cd36b606",
      "metadata": {
      },
      "outputs": [
        {
          "data": {
            "text/latex": [
              "$$ |11\\rangle$$"
            ],
            "text/plain": [
              "<IPython.core.display.Latex object>"
            ]
          },
          "execution_count": 5,
          "metadata": {
          },
          "output_type": "execute_result"
        }
      ],
      "source": [
        "qc.cx(1,0)\n",
        "\n",
        "ket = Statevector(qc)\n",
        "ket.draw()"
      ]
    },
    {
      "cell_type": "markdown",
      "id": "7daee78a",
      "metadata": {
      },
      "source": [
        "Até agora, ainda não vimos nenhum emaranhamento. Isso ocorre quando o qubit de controle não é apenas um simples $|0\\rangle$ ou $|1\\rangle$, mas uma superposição dos dois. Por exemplo, suponha que temos o estado $|{+}{0}\\rangle$ anterior."
      ]
    },
    {
      "cell_type": "code",
      "execution_count": 6,
      "id": "4ebba41b",
      "metadata": {
      },
      "outputs": [
        {
          "data": {
            "text/latex": [
              "$$\\frac{\\sqrt{2}}{2} |00\\rangle+\\frac{\\sqrt{2}}{2} |10\\rangle$$"
            ],
            "text/plain": [
              "<IPython.core.display.Latex object>"
            ]
          },
          "execution_count": 6,
          "metadata": {
          },
          "output_type": "execute_result"
        }
      ],
      "source": [
        "# Let's create a fresh quantum circuit\n",
        "qc = QuantumCircuit(2)\n",
        "\n",
        "qc.h(1)\n",
        "\n",
        "ket = Statevector(qc)\n",
        "ket.draw()"
      ]
    },
    {
      "cell_type": "markdown",
      "id": "b83b951e",
      "metadata": {
      },
      "source": [
        "Agora se aplicarmos a porta `cx` , ela atuará em paralelo nos dois estados. Ela deixará o estado $|00\\rangle$ inalterado, já que o qubit de controle está no estado $|0\\rangle$. Mas o $|10\\rangle$ tem o controle no estado $|1\\rangle$, então o alvo é invertido para fazer o estado $|11\\rangle$."
      ]
    },
    {
      "cell_type": "code",
      "execution_count": 7,
      "id": "ff21ff83",
      "metadata": {
      },
      "outputs": [
        {
          "data": {
            "text/latex": [
              "$$\\frac{\\sqrt{2}}{2} |00\\rangle+\\frac{\\sqrt{2}}{2} |11\\rangle$$"
            ],
            "text/plain": [
              "<IPython.core.display.Latex object>"
            ]
          },
          "execution_count": 7,
          "metadata": {
          },
          "output_type": "execute_result"
        }
      ],
      "source": [
        "qc.cx(1,0)\n",
        "\n",
        "ket = Statevector(qc)\n",
        "ket.draw()"
      ]
    },
    {
      "cell_type": "markdown",
      "id": "a080bc9f",
      "metadata": {
      },
      "source": [
        "O resultado é nosso estado emaranhado favorito: $|\\Phi^+ \\rangle$. A porta `cx` criou emaranhamento!"
      ]
    },
    {
      "cell_type": "markdown",
      "id": "73bf7379",
      "metadata": {
      },
      "source": [
        "### A porta <code>cz</code>\n",
        "\n",
        "A `cz` é uma porta cujo efeito é bastante semelhante à `cx` . Ela também atua em dois qubits: o alvo e o controle. Também não faz nada quando o qubit de controle está no estado $|0\\rangle$. Mas para o estado de controle $|1\\rangle$, ela executa uma `z` para o destino.\n",
        "\n",
        "Ou pelo menos, essa é a interpretação padrão desta porta. Mas se pensarmos um pouco mais, veremos que outra interpretação também é possível.\n",
        "\n",
        "A porta `z` aplicada a um único qubit tem o efeito de não fazer nada para $|0\\rangle$, e dar uma fase de $-1$ ao estado $|1\\rangle$. Portanto, para a porta `cz` , ela só tem algum efeito quando ambos os qubits estão no estado $|1\\rangle$. Não importa o que decidimos rotular e 'controle' e 'alvo', o efeito é o mesmo. Poderíamos igualmente tê-la definido como a porta que não faz nada quando o estado de *alvo* é $|0\\rangle$ e, caso contrário, executa uma `z` no *controle* .\n",
        "\n",
        "O fato de a mesma porta poder ser interpretada de duas maneiras aparentemente contraditórias é apenas uma expressão dos efeitos interessantes que veremos com estados emaranhados."
      ]
    },
    {
      "cell_type": "markdown",
      "id": "bd33d4bf",
      "metadata": {
      },
      "source": [
        "### A porta <code>cx</code> revisitada\n",
        "\n",
        "A porta `cx` também é conhecida como controlled-X ou controlled-NOT, devido ao seu efeito de inverter o bit de destino com base no estado do controle. No entanto, assim como vimos com a porta `cx` , outras interpretações também são possíveis.\n",
        "\n",
        "Por exemplo, vamos começar com o caso em que ambos os qubits estão no estado $|+ \\rangle$."
      ]
    },
    {
      "cell_type": "code",
      "execution_count": 8,
      "id": "c00e5baa",
      "metadata": {
      },
      "outputs": [
        {
          "data": {
            "text/latex": [
              "$$\\frac{1}{2} |00\\rangle+\\frac{1}{2} |01\\rangle+\\frac{1}{2} |10\\rangle+\\frac{1}{2} |11\\rangle$$"
            ],
            "text/plain": [
              "<IPython.core.display.Latex object>"
            ]
          },
          "execution_count": 8,
          "metadata": {
          },
          "output_type": "execute_result"
        }
      ],
      "source": [
        "qc = QuantumCircuit(2)\n",
        "\n",
        "qc.h(0)\n",
        "qc.h(1)\n",
        "\n",
        "ket = Statevector(qc)\n",
        "ket.draw()"
      ]
    },
    {
      "cell_type": "markdown",
      "id": "246fbb0e",
      "metadata": {
      },
      "source": [
        "Aqui também descobriremos que a `cx` não tem efeito, não importa de que maneira o façamos."
      ]
    },
    {
      "cell_type": "code",
      "execution_count": 9,
      "id": "ddafa061",
      "metadata": {
      },
      "outputs": [
        {
          "data": {
            "text/latex": [
              "$$\\frac{1}{2} |00\\rangle+\\frac{1}{2} |01\\rangle+\\frac{1}{2} |10\\rangle+\\frac{1}{2} |11\\rangle$$"
            ],
            "text/plain": [
              "<IPython.core.display.Latex object>"
            ]
          },
          "execution_count": 9,
          "metadata": {
          },
          "output_type": "execute_result"
        }
      ],
      "source": [
        "qc.cx(1,0)\n",
        "\n",
        "ket = Statevector(qc)\n",
        "ket.draw()"
      ]
    },
    {
      "cell_type": "markdown",
      "id": "a3432e39",
      "metadata": {
      },
      "source": [
        "No entanto, vamos agora inverter o qubit *alvo* de $|+\\rangle$ para $|-\\rangle$ usando a porta de um qubit `z`."
      ]
    },
    {
      "cell_type": "code",
      "execution_count": 10,
      "id": "71af42c3",
      "metadata": {
      },
      "outputs": [
        {
          "data": {
            "text/latex": [
              "$$\\frac{1}{2} |00\\rangle- \\frac{1}{2} |01\\rangle+\\frac{1}{2} |10\\rangle- \\frac{1}{2} |11\\rangle$$"
            ],
            "text/plain": [
              "<IPython.core.display.Latex object>"
            ]
          },
          "execution_count": 10,
          "metadata": {
          },
          "output_type": "execute_result"
        }
      ],
      "source": [
        "qc.z(0)\n",
        "\n",
        "ket = Statevector(qc)\n",
        "ket.draw()"
      ]
    },
    {
      "cell_type": "markdown",
      "id": "f30c1776",
      "metadata": {
      },
      "source": [
        "Se fizermos a `cx` agora, veremos um efeito. Ela também inverte o qubit de *controle* para $|-\\rangle$."
      ]
    },
    {
      "cell_type": "code",
      "execution_count": 11,
      "id": "ff79a3df",
      "metadata": {
      },
      "outputs": [
        {
          "data": {
            "text/latex": [
              "$$\\frac{1}{2} |00\\rangle- \\frac{1}{2} |01\\rangle- \\frac{1}{2} |10\\rangle+\\frac{1}{2} |11\\rangle$$"
            ],
            "text/plain": [
              "<IPython.core.display.Latex object>"
            ]
          },
          "execution_count": 11,
          "metadata": {
          },
          "output_type": "execute_result"
        }
      ],
      "source": [
        "qc.cx(1,0)\n",
        "\n",
        "ket = Statevector(qc)\n",
        "ket.draw()"
      ]
    },
    {
      "cell_type": "markdown",
      "id": "de19a277",
      "metadata": {
      },
      "source": [
        "Esse efeito às vezes é conhecido como 'retorno de fase': quando há uma superposição nos qubits de controle e de destino, algumas características da superposição do alvo podem realimentar o controle.\n",
        "\n",
        "Esse efeito também pode nos motivar a fazer uma interpretação alternativa da `cx` . Podemos pensar nisso como aplicar uma `z` ao controle se o alvo estiver no estado $|-\\rangle$, e não fazer nada se estiver no estado $|+\\rangle$."
      ]
    },
    {
      "cell_type": "markdown",
      "id": "86ed0577",
      "metadata": {
      },
      "source": [
        "## O poder do emaranhamento\n",
        "\n",
        "O emaranhamento é um ingrediente chave de muitos aspectos da computação quântica. Ele potencializa os algoritmos e métodos que usamos e é uma parte necessária de qualquer vantagem quântica. Para ter uma ideia de por que isso acontece, vamos dar alguns exemplos específicos de emaranhamento.\n",
        "\n",
        "## Estados emaranhados e simulação\n",
        "\n",
        "Para descrever completamente o estado de $n$ qubits, podemos precisar acompanhar amplitudes de até $2^n$. Como esses vetores crescem exponencialmente com o número de qubits, computadores quânticos com grande número de qubits tornam-se muito difíceis de simular. Um laptop moderno pode lidar facilmente com amplitudes de $2^{20}$ (o máximo necessário para 20 qubits), mas processar amplitudes de $2^{100}$ (o máximo necessário para 100 qubits) é muito difícil até mesmo para os maiores supercomputadores.\n",
        "\n",
        "Mas às vezes há uma maneira mais inteligente. Por exemplo, suponha que começamos em um estado de produto. Isso significa que cada qubit pode ser descrito independentemente por um único estado de qubit com duas amplitudes.\n",
        "\n",
        "Agora suponha que executamos um circuito com apenas portas de um qubit. Essas manipulações podem ser facilmente descritas modificando os estados de um qubit, o que significa fazer alterações nos pares específicos de amplitudes afetadas. Então, quando cada qubit é medido, a probabilidade do resultado `0` ou `1` para cada qubit é determinada por suas respectivas amplitudes.\n",
        "\n",
        "Durante esse processo, os estados permaneceram como estados de produto. Como tal, nunca houve realmente um cálculo de $n$ qubits, mas sim cálculos separados de um único qubit $n$. Isso torna possível calcular tudo com $2 n$ amplitudes, em vez das $2^n$ totais. Para tais situações, simular milhares de qubits seria fácil até para o seu telefone.\n",
        "\n",
        "Algoritmos quânticos úteis precisam ser capazes de fazer coisas que os computadores clássicos não podem simular, então eles devem funcionar de uma maneira que impeça que truques como esse sejam encontrados. Eles devem envolver manipulações mais complexas dos qubits, criando estados para os quais não há atalhos fáceis. Isso significa que eles devem usar estados para os quais a descrição completa da amplitude $2^n$ é necessária e, portanto, precisarão envolver mais do que apenas estados de produto. E como qualquer coisa que não seja um estado de  produto é um estado emaranhado, descobrimos que o emaranhamento é um ingrediente necessário de qualquer vantagem quântica."
      ]
    },
    {
      "cell_type": "markdown",
      "id": "c30821dc",
      "metadata": {
      },
      "source": [
        "## Qubits trabalhando juntos: codificação superdensa\n",
        "\n",
        "Veremos agora um exemplo prático de emaranhamento usando um protocolo para *comunicação* quântica. Como a computação quântica, isso é baseado na manipulação de qubits com portas quânticas. Mas também incorpora a ideia de qubits sendo transmitidos entre diferentes partes e explora aplicações baseadas no envio de informações em vez de se processamento.\n",
        "\n",
        "Para a comunicação clássica, há um limite fundamental de quanta informação podemos enviar com um determinado número de bits. Por definição, não podemos enviar mais do que $n$ bits de informação quando enviamos $n$ bits. Para informações quânticas, a mesma regra se aplica: não mais do que $n$ bits de informação podem ser codificados de forma confiável e recuperados de $n$ qubits. No entanto, existem maneiras de ultrapassar os limites para fazer coisas que não são classicamente possíveis e, para isso, precisamos de emaranhamento. Aqui veremos um exemplo, no qual a transferência de um qubit pode permitir que uma mensagem de dois bits seja enviada.\n",
        "\n",
        "Suponha que temos duas pessoas, Alice e Bob. Alice deseja enviar uma mensagem de dois bits para Bob - `00` , `01` , `10` ou `11` - e deseja fazê-lo enviando qubits.\n",
        "\n",
        "A maneira mais simples de fazer isso é com dois qubits. Alice pode simplesmente usar os qubits para codificar os valores dos bits, aplicando uma porta `x` para invertê-los para um estado `1` .\n"
      ]
    },
    {
      "cell_type": "code",
      "execution_count": 12,
      "id": "5131b1ac",
      "metadata": {
      },
      "outputs": [

      ],
      "source": [
        "# The message\n",
        "MESSAGE = '00'\n",
        "\n",
        "# Alice encodes the message\n",
        "qc_alice = QuantumCircuit(2, 2)\n",
        "if MESSAGE[-1]=='1':\n",
        "    qc_alice.x(0)\n",
        "if MESSAGE[-2]=='1':\n",
        "    qc_alice.x(1)"
      ]
    },
    {
      "cell_type": "markdown",
      "id": "e73c67a7",
      "metadata": {
      },
      "source": [
        "Depois que Alice envia os qubits para Bob, tudo o que ele precisa fazer é medi-los."
      ]
    },
    {
      "cell_type": "code",
      "execution_count": 13,
      "id": "23cdaedf",
      "metadata": {
      },
      "outputs": [
        {
          "data": {
            "text/plain": [
              "{'00': 1024}"
            ]
          },
          "execution_count": 13,
          "metadata": {
          },
          "output_type": "execute_result"
        }
      ],
      "source": [
        "from qiskit import Aer\n",
        "backend = Aer.get_backend('aer_simulator')\n",
        "\n",
        "# Bob measures\n",
        "qc_bob = QuantumCircuit(2,2)\n",
        "qc_bob.measure([0,1],[0,1])\n",
        "\n",
        "backend.run(qc_alice.compose(qc_bob)).result().get_counts()"
      ]
    },
    {
      "cell_type": "markdown",
      "id": "f96206c6",
      "metadata": {
      },
      "source": [
        "O resultado obtido por Bob será exatamente o que Alice colocou.\n",
        "\n",
        "Este protocolo não envolveu qualquer emaranhamento. Uma maneira de inseri-lo seria Alice adicionar portas `h` e `cx` após codificar as informações. Vejamos os estados que são criados por essas portas."
      ]
    },
    {
      "cell_type": "code",
      "execution_count": 14,
      "id": "e9576a06",
      "metadata": {
      },
      "outputs": [
        {
          "data": {
            "text/latex": [
              "$$\\frac{\\sqrt{2}}{2} |00\\rangle+\\frac{\\sqrt{2}}{2} |11\\rangle$$"
            ],
            "text/plain": [
              "<IPython.core.display.Latex object>"
            ]
          },
          "execution_count": 14,
          "metadata": {
          },
          "output_type": "execute_result"
        }
      ],
      "source": [
        "MESSAGE = '00'\n",
        "\n",
        "qc_alice = QuantumCircuit(2,2)\n",
        "\n",
        "# Alice encodes the message\n",
        "if MESSAGE[-1]=='1':\n",
        "    qc_alice.x(0)\n",
        "if MESSAGE[-2]=='1':\n",
        "    qc_alice.x(1)\n",
        "\n",
        "# then she creates entangled states\n",
        "qc_alice.h(1)\n",
        "qc_alice.cx(1,0)\n",
        "\n",
        "ket = Statevector(qc_alice)\n",
        "ket.draw()"
      ]
    },
    {
      "cell_type": "markdown",
      "id": "dffbee55",
      "metadata": {
      },
      "source": [
        "Para uma mensagem `00` , o estado criado por essas portas é $|\\Phi^+ \\rangle$. Para as outras mensagens, obtemos outros estados emaranhados, conhecidos como $|\\Phi^- \\rangle$, $|\\Psi^+ \\rangle$ e $|\\Psi^- \\rangle$.\n",
        "\n",
        "$$ \\mathtt{00} \\rightarrow |\\Phi^+ \\rangle = \\frac{1}{\\sqrt{2}}(|00\\rangle+|11\\rangle) \\ \\mathtt{01} \\rightarrow |\\Psi^+ \\rangle = \\frac{1}{\\sqrt{2}}(|01\\rangle+|10\\rangle) \\ \\mathtt{10} \\rightarrow |\\Phi^- \\rangle = \\frac{1}{\\sqrt{2}}(|00\\rangle-|11\\rangle) \\ \\mathtt{11} \\rightarrow |\\Psi^- \\rangle = \\frac{1}{\\sqrt{2}}(|01\\rangle-|10\\rangle)$$\n",
        "\n",
        "Quando Bob recebe esses estados, ele precisa desemaranhá-los, desfazendo a porta `h` e a porta `cx` . Então ele pode medir e recuperar a mensagem como antes."
      ]
    },
    {
      "cell_type": "code",
      "execution_count": 15,
      "id": "f3a2a6dd",
      "metadata": {
      },
      "outputs": [

      ],
      "source": [
        "qc_bob = QuantumCircuit(2,2)\n",
        "# Bob unentangles\n",
        "qc_bob.cx(1,0)\n",
        "qc_bob.h(1)\n",
        "# Then measures\n",
        "qc_bob.measure([0,1],[0,1])"
      ]
    },
    {
      "cell_type": "markdown",
      "id": "40482ad1",
      "metadata": {
      },
      "source": [
        "Então aqui usamos estados emaranhados, mas eles não nos deram nenhuma vantagem. Para isso, precisamos olhar para a relação entre esses quatro estados emaranhados.\n",
        "\n",
        "Por exemplo, o estado $|\\Phi^+ \\rangle$ é uma superposição de $|00\\rangle$ e $|11\\rangle$, enquanto $|\\Psi^+ \\rangle$ é uma superposição de $|01\\ rangle$ e $|10\\rangle$. Portanto, uma porta `x` simples em qualquer qubit é suficiente para girar um $|\\Phi^+ \\rangle$ em $|\\Psi^+ \\rangle$ e vice-versa. O mesmo vale para a rotação entre $|\\Phi^- \\rangle$ para $|\\Psi^- \\rangle$. Da mesma forma, a diferença entre $|\\Phi^+ \\rangle$ e $|\\Phi^- \\rangle$ é simplesmente a fase relativa, que pode ser alterada por uma porta `z` em qualquer qubit, e o mesmo com $|\\Psi^+ \\rangle$ e $|\\Psi^- \\rangle$. Assim, Alice poderia enviar sua mensagem criando primeiro um estado emaranhado e depois alterando-o usando portas `x` e `z` para codificar a mensagem correta."
      ]
    },
    {
      "cell_type": "code",
      "execution_count": 16,
      "id": "f605c409",
      "metadata": {
      },
      "outputs": [
        {
          "data": {
            "text/latex": [
              "$$\\frac{\\sqrt{2}}{2} |00\\rangle+\\frac{\\sqrt{2}}{2} |11\\rangle$$"
            ],
            "text/plain": [
              "<IPython.core.display.Latex object>"
            ]
          },
          "execution_count": 16,
          "metadata": {
          },
          "output_type": "execute_result"
        }
      ],
      "source": [
        "MESSAGE = '00'\n",
        "\n",
        "qc_alice = QuantumCircuit(2,2)\n",
        "qc_alice.h(1)\n",
        "qc_alice.cx(1,0)\n",
        "\n",
        "if MESSAGE[-2]=='1':\n",
        "    qc_alice.z(1)\n",
        "if MESSAGE[-1]=='1':\n",
        "    qc_alice.x(1)\n",
        "\n",
        "ket = Statevector(qc_alice)\n",
        "ket.draw()"
      ]
    },
    {
      "cell_type": "markdown",
      "id": "bce836cf",
      "metadata": {
      },
      "source": [
        "Como Bob está recebendo os mesmos estados de antes, ele não precisa alterar seu circuito."
      ]
    },
    {
      "cell_type": "code",
      "execution_count": 17,
      "id": "1d527688",
      "metadata": {
      },
      "outputs": [
        {
          "data": {
            "text/plain": [
              "{'00': 1024}"
            ]
          },
          "execution_count": 17,
          "metadata": {
          },
          "output_type": "execute_result"
        }
      ],
      "source": [
        "backend.run(qc_alice.compose(qc_bob)).result().get_counts()"
      ]
    },
    {
      "cell_type": "markdown",
      "id": "b513ffb1",
      "metadata": {
      },
      "source": [
        "O importante a notar aqui é que as portas `x` e `z` podem ser aplicadas a apenas um único qubit (qubit 1 neste caso). Isso significa que Alice poderia enviar o qubit 0 para Bob assim que ela criasse o par emaranhado. Na verdade, ela poderia enviá-lo antes mesmo de saber qual mensagem deseja enviar!\n",
        "\n",
        "Isso fica ainda mais surpreendente se você imaginar um terceiro, cujo trabalho é apenas criar estados $|\\Phi^+ \\rangle$ e enviar os qubits."
      ]
    },
    {
      "cell_type": "code",
      "execution_count": 18,
      "id": "396caed9",
      "metadata": {
      },
      "outputs": [

      ],
      "source": [
        "qc_charlie = QuantumCircuit(2,2)\n",
        "\n",
        "qc_charlie.h(1)\n",
        "qc_charlie.cx(1,0)"
      ]
    },
    {
      "cell_type": "markdown",
      "id": "d2daa24d",
      "metadata": {
      },
      "source": [
        "![](images/multi-qubit/superdense.jpg)\n",
        "\n",
        "Esse terceiro pode enviar diretamente um qubit para Bob e depois o outro para Alice. Alice pode codificar sua mensagem de dois qubits manipulando apenas esse único qubit e enviar apenas esse qubit para Bob."
      ]
    },
    {
      "cell_type": "code",
      "execution_count": 19,
      "id": "c932672e",
      "metadata": {
      },
      "outputs": [

      ],
      "source": [
        "MESSAGE = '01'\n",
        "\n",
        "qc_alice = QuantumCircuit(2,2)\n",
        "\n",
        "if MESSAGE[-2]=='1':\n",
        "    qc_alice.z(1)\n",
        "if MESSAGE[-1]=='1':\n",
        "    qc_alice.x(1)"
      ]
    },
    {
      "cell_type": "markdown",
      "id": "e10b2fac",
      "metadata": {
      },
      "source": [
        "Agora Bob pode aplicar o mesmo processo de antes e extrair a mensagem de seus dois qubits."
      ]
    },
    {
      "cell_type": "code",
      "execution_count": 20,
      "id": "2e3282be",
      "metadata": {
      },
      "outputs": [
        {
          "data": {
            "text/plain": [
              "{'01': 1024}"
            ]
          },
          "execution_count": 20,
          "metadata": {
          },
          "output_type": "execute_result"
        }
      ],
      "source": [
        "complete_qc = qc_charlie.compose(qc_alice.compose(qc_bob))\n",
        "backend.run(complete_qc).result().get_counts()"
      ]
    },
    {
      "cell_type": "markdown",
      "id": "c91e9c29",
      "metadata": {
      },
      "source": [
        "O resultado final de tudo isso é que Alice enviou dois bits de informação para Bob e só precisou enviar um qubit para fazer isso. Isso foi possível pelo fato de que o qubit fazia parte de um par emaranhado. Como tal, enquanto Alice apenas aplicava portas a um qubit, ela estava manipulando o conjunto maior de quatro pares emaranhados dos quais ele fazia parte.\n",
        "\n",
        "Isso serve como um exemplo simples de como os qubits podem nos permitir fazer coisas que os bits normais não podem, e como o emaranhamento é um recurso crucial para isso.\n",
        "\n",
        "<!-- ::: q-block.exercise -->\n",
        "\n",
        "### Tente você mesmo\n",
        "\n",
        "Crie uma função que receba um `QuantumCircuit` e uma string de dois bits como entrada e aplique as portas que codificam a string no estado emaranhado para que Bob possa decodificá-la. Verifique se funciona em todas as entradas.\n",
        "\n",
        "[Experimente no IBM Quantum Lab](https://quantum-computing.ibm.com/lab)\n",
        "\n",
        "<!-- ::: -->"
      ]
    },
    {
      "cell_type": "markdown",
      "id": "87700db4",
      "metadata": {
      },
      "source": [
        "## Correlações únicas: o paradoxo de Hardy\n",
        "\n",
        "![Um cubo azul e um triângulo 3d cinza](images/multi-qubit/hardy-paradox.png)\n",
        "\n",
        "### Algumas correlações clássicas\n",
        "\n",
        "Agora vamos considerar outra situação com nossos amigos Alice, Bob e Charlie. Primeiro, vamos considerar um caso completamente clássico.\n",
        "\n",
        "Suponha que Charlie empacota um par de formas coloridas todos os dias, enviando uma para Alice e a outra para Bob. Todos os dias, Alice e Bob olham para sua forma e comparam o que receberam. Para cada forma, eles observam uma de duas propriedades: se era um cubo ou não, e se era azul ou não.\n",
        "\n",
        "Depois de muitos dias e muitas opções de olhar para a forma ou a cor, eles fazem duas observações\n",
        "\n",
        "1. Elas nunca são ambas um cubo.\n",
        "2. Se uma não for azul, a outra será um cubo.\n",
        "\n",
        "Claramente Charlie não está apenas enviando formas aleatórias. Existe algum grau de correlação entre os objetos que Charlie escolhe enviar.\n",
        "\n",
        "Com essas observações em mente, Alice e Bob imaginam o caso em que ambos olham para a cor e ambos descobrem que sua forma não é azul. Bob poderia então aplicar a observação 2 e inferir que a forma de Alice é certamente um cubo. Alice poderia fazer o mesmo e inferir que a forma de Bob é um cubo. No entanto, a partir da observação 1 eles sabem que isso é impossível. Então eles concluem que uma de suas formas sempre será azul.\n",
        "\n",
        "Este é um cenário bastante artificial, mas mostra que há limites no tipo de correlações possíveis com sistemas clássicos (como formas coloridas). O fato de a cor e a forma de cada objeto serem ambas simultaneamente bem definidas significa que podemos aplicar cadeias de lógica como as acima, que usam os resultados de um para deduzir coisas sobre o outro.\n",
        "\n",
        "Para qubits, no entanto, os resultados de uma medida não são bem definidos antes que a medida seja feita. Então, podemos encontrar diferentes tipos de comportamento?"
      ]
    },
    {
      "cell_type": "markdown",
      "id": "9e1aa9ed",
      "metadata": {
      },
      "source": [
        "### Medindo um qubit\n",
        "\n",
        "No cenário acima, analisamos duas propriedades diferentes de um objeto clássico: forma e cor. Para uma contraparte quântica, precisaremos fazer o mesmo para qubits.\n",
        "\n",
        "A única informação que extraímos de um qubit é por meio de medidas: aplicamos a operação de medida e recebemos de volta um `0` ou um `1` . A maneira como isso é implementado fisicamente em um computador quântico depende dos detalhes de como seu qubit é construído. Para alguns tipos de qubit, é possível girar o dispositivo de medida para fazer diferentes tipos de medida e ver um comportamento diferente dos resultados.\n",
        "\n",
        "Para outros tipos de qubit, girar seu dispositivo de medida apenas o quebrará. No entanto, existe uma maneira simples de obter o mesmo efeito: basta girar o qubit! Ao realizar portas de um qubit antes de fazer uma medida padrão, reproduzimos os efeitos dessas formas alternativas de medida.\n",
        "\n",
        "O exemplo mais comum disso é simplesmente executar uma porta `h` imediatamente antes da medida. Isso nos dá o que é conhecido como uma *medida x* ."
      ]
    },
    {
      "cell_type": "code",
      "execution_count": 21,
      "id": "2fabbe42",
      "metadata": {
      },
      "outputs": [
        {
          "data": {
            "image/svg+xml": [
              "<?xml version=\"1.0\" encoding=\"UTF-8\"?><!DOCTYPE svg  PUBLIC '-//W3C//DTD SVG 1.1//EN'  'http://www.w3.org/Graphics/SVG/1.1/DTD/svg11.dtd'><svg width=\"160.66pt\" height=\"123.48pt\" version=\"1.1\" viewBox=\"0 0 160.66 123.48\" xmlns=\"http://www.w3.org/2000/svg\" xmlns:xlink=\"http://www.w3.org/1999/xlink\"><defs><style type=\"text/css\">*{stroke-linecap:butt;stroke-linejoin:round;}</style></defs><path d=\"m0 123.48h160.66v-123.48h-160.66z\" fill=\"#ffffff\"/><path d=\"m117.56 78.672h11.817l-5.9086 8.5221z\" clip-path=\"url(#p4c504028e0)\" fill=\"#778899\"/><path d=\"m53.471 43.561h95.447\" clip-path=\"url(#p4c504028e0)\" fill=\"none\" stroke=\"#000000\" stroke-linecap=\"square\" stroke-width=\"2\"/><path d=\"m53.471 87.535h95.447\" clip-path=\"url(#p4c504028e0)\" fill=\"none\" stroke=\"#778899\" stroke-linecap=\"square\" stroke-width=\"2\"/><path d=\"m53.471 90.489h95.447\" clip-path=\"url(#p4c504028e0)\" fill=\"none\" stroke=\"#778899\" stroke-linecap=\"square\" stroke-width=\"2\"/><path d=\"m62.561 93.557 4.5451-9.0902\" clip-path=\"url(#p4c504028e0)\" fill=\"none\" stroke=\"#778899\" stroke-linecap=\"square\" stroke-width=\"1.5\"/><path d=\"m124.94 43.561v35.111\" clip-path=\"url(#p4c504028e0)\" fill=\"none\" stroke=\"#778899\" stroke-linecap=\"square\" stroke-width=\"2\"/><path d=\"m121.99 43.561v35.111\" clip-path=\"url(#p4c504028e0)\" fill=\"none\" stroke=\"#778899\" stroke-linecap=\"square\" stroke-width=\"2\"/><path d=\"m63.243 58.332h29.543v-29.543h-29.543z\" clip-path=\"url(#p4c504028e0)\" fill=\"#1192e8\" stroke=\"#1192e8\" stroke-width=\"1.5\"/><path d=\"m108.69 58.332h29.543v-29.543h-29.543z\" clip-path=\"url(#p4c504028e0)\" fill=\"#121619\" stroke=\"#121619\" stroke-width=\"1.5\"/><path d=\"m133.81 47.992c0-2.7413-1.0901-5.3732-3.0285-7.3116-1.9384-1.9384-4.5702-3.0285-7.3116-3.0285-2.7413 0-5.3732 1.0901-7.3116 3.0285-1.9384 1.9384-3.0285 4.5702-3.0285 7.3116\" clip-path=\"url(#p4c504028e0)\" fill=\"none\" stroke=\"#ffffff\" stroke-width=\"2\"/><path d=\"m123.47 47.992 10.34-10.34\" clip-path=\"url(#p4c504028e0)\" fill=\"none\" stroke=\"#ffffff\" stroke-linecap=\"square\" stroke-width=\"2\"/><g clip-path=\"url(#p4c504028e0)\"><g transform=\"translate(33.981 48.012) scale(.1625 -.1625)\"><defs><path id=\"DejaVuSans-Oblique-71\" transform=\"scale(.015625)\" d=\"m2669 525q-231-303-546-460-314-156-695-156-531 0-833 358-301 358-301 986 0 506 186 978t533 847q225 244 517 375t614 131q387 0 637-153t363-462l100 525h578l-934-4813h-579l360 1844zm-1778 813q0-463 193-705 194-242 560-242 544 0 928 520t384 1264q0 450-199 689-198 239-569 239-272 0-504-127-231-126-403-370-181-256-286-600-104-343-104-668z\"/></defs><use xlink:href=\"#DejaVuSans-Oblique-71\"/></g></g><g clip-path=\"url(#p4c504028e0)\"><g transform=\"translate(58.016 82.304) scale(.104 -.104)\"><defs><path id=\"DejaVuSans-31\" transform=\"scale(.015625)\" d=\"m794 531h1031v3560l-1122-225v575l1116 225h631v-4135h1031v-531h-2687v531z\"/></defs><use xlink:href=\"#DejaVuSans-31\"/></g></g><g clip-path=\"url(#p4c504028e0)\"><g transform=\"translate(35.446 93.496) scale(.1625 -.1625)\"><defs><path id=\"DejaVuSans-63\" transform=\"scale(.015625)\" d=\"m3122 3366v-538q-244 135-489 202t-495 67q-560 0-870-355-309-354-309-995t309-996q310-354 870-354 250 0 495 67t489 202v-532q-241-112-499-168-257-57-548-57-791 0-1257 497-465 497-465 1341 0 856 470 1346 471 491 1290 491 265 0 518-55 253-54 491-163z\"/></defs><use xlink:href=\"#DejaVuSans-63\"/></g></g><g clip-path=\"url(#p4c504028e0)\"><g transform=\"translate(73.126 47.148) scale(.13 -.13)\" fill=\"#ffffff\"><defs><path id=\"DejaVuSans-48\" transform=\"scale(.015625)\" d=\"m628 4666h631v-1913h2294v1913h631v-4666h-631v2222h-2294v-2222h-631v4666z\"/></defs><use xlink:href=\"#DejaVuSans-48\"/></g></g><g clip-path=\"url(#p4c504028e0)\"><g transform=\"translate(134.83 82.304) scale(.104 -.104)\"><defs><path id=\"DejaVuSans-30\" transform=\"scale(.015625)\" d=\"m2034 4250q-487 0-733-480-245-479-245-1442 0-959 245-1439 246-480 733-480 491 0 736 480 246 480 246 1439 0 963-246 1442-245 480-736 480zm0 500q785 0 1199-621 414-620 414-1801 0-1178-414-1799-414-620-1199-620-784 0-1198 620-414 621-414 1799 0 1181 414 1801 414 621 1198 621z\"/></defs><use xlink:href=\"#DejaVuSans-30\"/></g></g><defs><clipPath id=\"p4c504028e0\"><rect x=\"7.2\" y=\"7.2\" width=\"146.26\" height=\"109.08\"/></clipPath></defs></svg>"
            ],
            "text/plain": [
              "<Figure size 193.726x144.48 with 1 Axes>"
            ]
          },
          "execution_count": 21,
          "metadata": {
          },
          "output_type": "execute_result"
        }
      ],
      "source": [
        "meas_x = QuantumCircuit(1,1)\n",
        "meas_x.h(0)\n",
        "meas_x.measure(0,0)\n",
        "\n",
        "meas_x.draw()"
      ]
    },
    {
      "cell_type": "markdown",
      "id": "0b640919",
      "metadata": {
      },
      "source": [
        "A forma padrão de medição, que é feita apenas com uma porta de `measure` , é conhecida como *medida z* neste contexto."
      ]
    },
    {
      "cell_type": "code",
      "execution_count": 22,
      "id": "1787d8fa",
      "metadata": {
      },
      "outputs": [
        {
          "data": {
            "image/svg+xml": [
              "<?xml version=\"1.0\" encoding=\"UTF-8\"?><!DOCTYPE svg  PUBLIC '-//W3C//DTD SVG 1.1//EN'  'http://www.w3.org/Graphics/SVG/1.1/DTD/svg11.dtd'><svg width=\"115.21pt\" height=\"123.48pt\" version=\"1.1\" viewBox=\"0 0 115.21 123.48\" xmlns=\"http://www.w3.org/2000/svg\" xmlns:xlink=\"http://www.w3.org/1999/xlink\"><defs><style type=\"text/css\">*{stroke-linecap:butt;stroke-linejoin:round;}</style></defs><path d=\"m0 123.48h115.21v-123.48h-115.21z\" fill=\"#ffffff\"/><path d=\"m72.106 78.672h11.817l-5.9086 8.5221z\" clip-path=\"url(#p59bb50b292)\" fill=\"#778899\"/><path d=\"m53.471 43.561h49.996\" clip-path=\"url(#p59bb50b292)\" fill=\"none\" stroke=\"#000000\" stroke-linecap=\"square\" stroke-width=\"2\"/><path d=\"m53.471 87.535h49.996\" clip-path=\"url(#p59bb50b292)\" fill=\"none\" stroke=\"#778899\" stroke-linecap=\"square\" stroke-width=\"2\"/><path d=\"m53.471 90.489h49.996\" clip-path=\"url(#p59bb50b292)\" fill=\"none\" stroke=\"#778899\" stroke-linecap=\"square\" stroke-width=\"2\"/><path d=\"m62.561 93.557 4.5451-9.0902\" clip-path=\"url(#p59bb50b292)\" fill=\"none\" stroke=\"#778899\" stroke-linecap=\"square\" stroke-width=\"1.5\"/><path d=\"m79.492 43.561v35.111\" clip-path=\"url(#p59bb50b292)\" fill=\"none\" stroke=\"#778899\" stroke-linecap=\"square\" stroke-width=\"2\"/><path d=\"m76.537 43.561v35.111\" clip-path=\"url(#p59bb50b292)\" fill=\"none\" stroke=\"#778899\" stroke-linecap=\"square\" stroke-width=\"2\"/><path d=\"m63.243 58.332h29.543v-29.543h-29.543z\" clip-path=\"url(#p59bb50b292)\" fill=\"#121619\" stroke=\"#121619\" stroke-width=\"1.5\"/><path d=\"m88.355 47.992c0-2.7413-1.0901-5.3732-3.0285-7.3116-1.9384-1.9384-4.5702-3.0285-7.3116-3.0285s-5.3732 1.0901-7.3116 3.0285c-1.9384 1.9384-3.0285 4.5702-3.0285 7.3116\" clip-path=\"url(#p59bb50b292)\" fill=\"none\" stroke=\"#ffffff\" stroke-width=\"2\"/><path d=\"m78.014 47.992 10.34-10.34\" clip-path=\"url(#p59bb50b292)\" fill=\"none\" stroke=\"#ffffff\" stroke-linecap=\"square\" stroke-width=\"2\"/><g clip-path=\"url(#p59bb50b292)\"><g transform=\"translate(33.981 48.012) scale(.1625 -.1625)\"><defs><path id=\"DejaVuSans-Oblique-71\" transform=\"scale(.015625)\" d=\"m2669 525q-231-303-546-460-314-156-695-156-531 0-833 358-301 358-301 986 0 506 186 978t533 847q225 244 517 375t614 131q387 0 637-153t363-462l100 525h578l-934-4813h-579l360 1844zm-1778 813q0-463 193-705 194-242 560-242 544 0 928 520t384 1264q0 450-199 689-198 239-569 239-272 0-504-127-231-126-403-370-181-256-286-600-104-343-104-668z\"/></defs><use xlink:href=\"#DejaVuSans-Oblique-71\"/></g></g><g clip-path=\"url(#p59bb50b292)\"><g transform=\"translate(58.016 82.304) scale(.104 -.104)\"><defs><path id=\"DejaVuSans-31\" transform=\"scale(.015625)\" d=\"m794 531h1031v3560l-1122-225v575l1116 225h631v-4135h1031v-531h-2687v531z\"/></defs><use xlink:href=\"#DejaVuSans-31\"/></g></g><g clip-path=\"url(#p59bb50b292)\"><g transform=\"translate(35.446 93.496) scale(.1625 -.1625)\"><defs><path id=\"DejaVuSans-63\" transform=\"scale(.015625)\" d=\"m3122 3366v-538q-244 135-489 202t-495 67q-560 0-870-355-309-354-309-995t309-996q310-354 870-354 250 0 495 67t489 202v-532q-241-112-499-168-257-57-548-57-791 0-1257 497-465 497-465 1341 0 856 470 1346 471 491 1290 491 265 0 518-55 253-54 491-163z\"/></defs><use xlink:href=\"#DejaVuSans-63\"/></g></g><g clip-path=\"url(#p59bb50b292)\"><g transform=\"translate(89.377 82.304) scale(.104 -.104)\"><defs><path id=\"DejaVuSans-30\" transform=\"scale(.015625)\" d=\"m2034 4250q-487 0-733-480-245-479-245-1442 0-959 245-1439 246-480 733-480 491 0 736 480 246 480 246 1439 0 963-246 1442-245 480-736 480zm0 500q785 0 1199-621 414-620 414-1801 0-1178-414-1799-414-620-1199-620-784 0-1198 620-414 621-414 1799 0 1181 414 1801 414 621 1198 621z\"/></defs><use xlink:href=\"#DejaVuSans-30\"/></g></g><defs><clipPath id=\"p59bb50b292\"><rect x=\"7.2\" y=\"7.2\" width=\"100.81\" height=\"109.08\"/></clipPath></defs></svg>"
            ],
            "text/plain": [
              "<Figure size 133.526x144.48 with 1 Axes>"
            ]
          },
          "execution_count": 22,
          "metadata": {
          },
          "output_type": "execute_result"
        }
      ],
      "source": [
        "meas_z = QuantumCircuit(1,1)\n",
        "meas_z.measure(0,0)\n",
        "\n",
        "meas_z.draw()"
      ]
    },
    {
      "cell_type": "markdown",
      "id": "8d27f58b",
      "metadata": {
      },
      "source": [
        "Como você pode adivinhar pelos nomes, também há algo chamado de *medida y* , mas não precisaremos usar isso aqui.\n",
        "\n",
        "Agora vamos ver o que acontece com certos estados quando fazemos essas medidas. Começaremos com o estado $|0\\rangle$."
      ]
    },
    {
      "cell_type": "code",
      "execution_count": 23,
      "id": "246a35c2",
      "metadata": {
      },
      "outputs": [
        {
          "data": {
            "image/svg+xml": [
              "<?xml version=\"1.0\" encoding=\"UTF-8\"?><!DOCTYPE svg  PUBLIC '-//W3C//DTD SVG 1.1//EN'  'http://www.w3.org/Graphics/SVG/1.1/DTD/svg11.dtd'><svg width=\"92.487pt\" height=\"123.48pt\" version=\"1.1\" viewBox=\"0 0 92.487 123.48\" xmlns=\"http://www.w3.org/2000/svg\" xmlns:xlink=\"http://www.w3.org/1999/xlink\"><defs><style type=\"text/css\">*{stroke-linecap:butt;stroke-linejoin:round;}</style></defs><path d=\"m0 123.48h92.487v-123.48h-92.487z\" fill=\"#ffffff\"/><path d=\"m53.471 43.561h27.271\" clip-path=\"url(#p533c392a6e)\" fill=\"none\" stroke=\"#000000\" stroke-linecap=\"square\" stroke-width=\"2\"/><path d=\"m53.471 87.535h27.271\" clip-path=\"url(#p533c392a6e)\" fill=\"none\" stroke=\"#778899\" stroke-linecap=\"square\" stroke-width=\"2\"/><path d=\"m53.471 90.489h27.271\" clip-path=\"url(#p533c392a6e)\" fill=\"none\" stroke=\"#778899\" stroke-linecap=\"square\" stroke-width=\"2\"/><path d=\"m62.561 93.557 4.5451-9.0902\" clip-path=\"url(#p533c392a6e)\" fill=\"none\" stroke=\"#778899\" stroke-linecap=\"square\" stroke-width=\"1.5\"/><g clip-path=\"url(#p533c392a6e)\"><g transform=\"translate(33.981 48.012) scale(.1625 -.1625)\"><defs><path id=\"DejaVuSans-Oblique-71\" transform=\"scale(.015625)\" d=\"m2669 525q-231-303-546-460-314-156-695-156-531 0-833 358-301 358-301 986 0 506 186 978t533 847q225 244 517 375t614 131q387 0 637-153t363-462l100 525h578l-934-4813h-579l360 1844zm-1778 813q0-463 193-705 194-242 560-242 544 0 928 520t384 1264q0 450-199 689-198 239-569 239-272 0-504-127-231-126-403-370-181-256-286-600-104-343-104-668z\"/></defs><use xlink:href=\"#DejaVuSans-Oblique-71\"/></g></g><g clip-path=\"url(#p533c392a6e)\"><g transform=\"translate(58.016 82.304) scale(.104 -.104)\"><defs><path id=\"DejaVuSans-31\" transform=\"scale(.015625)\" d=\"m794 531h1031v3560l-1122-225v575l1116 225h631v-4135h1031v-531h-2687v531z\"/></defs><use xlink:href=\"#DejaVuSans-31\"/></g></g><g clip-path=\"url(#p533c392a6e)\"><g transform=\"translate(35.446 93.496) scale(.1625 -.1625)\"><defs><path id=\"DejaVuSans-63\" transform=\"scale(.015625)\" d=\"m3122 3366v-538q-244 135-489 202t-495 67q-560 0-870-355-309-354-309-995t309-996q310-354 870-354 250 0 495 67t489 202v-532q-241-112-499-168-257-57-548-57-791 0-1257 497-465 497-465 1341 0 856 470 1346 471 491 1290 491 265 0 518-55 253-54 491-163z\"/></defs><use xlink:href=\"#DejaVuSans-63\"/></g></g><defs><clipPath id=\"p533c392a6e\"><rect x=\"7.2\" y=\"7.2\" width=\"78.087\" height=\"109.08\"/></clipPath></defs></svg>"
            ],
            "text/plain": [
              "<Figure size 103.426x144.48 with 1 Axes>"
            ]
          },
          "execution_count": 23,
          "metadata": {
          },
          "output_type": "execute_result"
        }
      ],
      "source": [
        "qc = QuantumCircuit(1,1)\n",
        "\n",
        "qc.draw()"
      ]
    },
    {
      "cell_type": "markdown",
      "id": "1a5c1b89",
      "metadata": {
      },
      "source": [
        "Para a medida padrão, como sabemos, isso certamente resultará em `0` ."
      ]
    },
    {
      "cell_type": "code",
      "execution_count": 24,
      "id": "208444c6",
      "metadata": {
      },
      "outputs": [
        {
          "name": "stdout",
          "output_type": "stream",
          "text": [
            "Results from z measurement: {'0': 1024}\n"
          ]
        }
      ],
      "source": [
        "print('Results from z measurement:',\n",
        "      backend.run(qc.compose(meas_z)).result().get_counts())"
      ]
    },
    {
      "cell_type": "markdown",
      "id": "936ea9b4",
      "metadata": {
      },
      "source": [
        "Para uma medida x, no entanto, obteremos resultados completamente aleatórios."
      ]
    },
    {
      "cell_type": "code",
      "execution_count": 25,
      "id": "3e9f9d2e",
      "metadata": {
      },
      "outputs": [
        {
          "name": "stdout",
          "output_type": "stream",
          "text": [
            "Results from x measurement: {'1': 522, '0': 502}\n"
          ]
        }
      ],
      "source": [
        "print('Results from x measurement:',\n",
        "      backend.run(qc.compose(meas_x)).result().get_counts())"
      ]
    },
    {
      "cell_type": "markdown",
      "id": "cf84109e",
      "metadata": {
      },
      "source": [
        "Uma situação semelhante ocorre para o estado $|1\\rangle$."
      ]
    },
    {
      "cell_type": "code",
      "execution_count": 26,
      "id": "88b56117",
      "metadata": {
      },
      "outputs": [
        {
          "data": {
            "image/svg+xml": [
              "<?xml version=\"1.0\" encoding=\"UTF-8\"?><!DOCTYPE svg  PUBLIC '-//W3C//DTD SVG 1.1//EN'  'http://www.w3.org/Graphics/SVG/1.1/DTD/svg11.dtd'><svg width=\"115.21pt\" height=\"123.48pt\" version=\"1.1\" viewBox=\"0 0 115.21 123.48\" xmlns=\"http://www.w3.org/2000/svg\" xmlns:xlink=\"http://www.w3.org/1999/xlink\"><defs><style type=\"text/css\">*{stroke-linecap:butt;stroke-linejoin:round;}</style></defs><path d=\"m0 123.48h115.21v-123.48h-115.21z\" fill=\"#ffffff\"/><path d=\"m53.471 43.561h49.996\" clip-path=\"url(#p11565a2c54)\" fill=\"none\" stroke=\"#000000\" stroke-linecap=\"square\" stroke-width=\"2\"/><path d=\"m53.471 87.535h49.996\" clip-path=\"url(#p11565a2c54)\" fill=\"none\" stroke=\"#778899\" stroke-linecap=\"square\" stroke-width=\"2\"/><path d=\"m53.471 90.489h49.996\" clip-path=\"url(#p11565a2c54)\" fill=\"none\" stroke=\"#778899\" stroke-linecap=\"square\" stroke-width=\"2\"/><path d=\"m62.561 93.557 4.5451-9.0902\" clip-path=\"url(#p11565a2c54)\" fill=\"none\" stroke=\"#778899\" stroke-linecap=\"square\" stroke-width=\"1.5\"/><path d=\"m63.243 58.332h29.543v-29.543h-29.543z\" clip-path=\"url(#p11565a2c54)\" fill=\"#005d5d\" stroke=\"#005d5d\" stroke-width=\"1.5\"/><g clip-path=\"url(#p11565a2c54)\"><g transform=\"translate(33.981 48.012) scale(.1625 -.1625)\"><defs><path id=\"DejaVuSans-Oblique-71\" transform=\"scale(.015625)\" d=\"m2669 525q-231-303-546-460-314-156-695-156-531 0-833 358-301 358-301 986 0 506 186 978t533 847q225 244 517 375t614 131q387 0 637-153t363-462l100 525h578l-934-4813h-579l360 1844zm-1778 813q0-463 193-705 194-242 560-242 544 0 928 520t384 1264q0 450-199 689-198 239-569 239-272 0-504-127-231-126-403-370-181-256-286-600-104-343-104-668z\"/></defs><use xlink:href=\"#DejaVuSans-Oblique-71\"/></g></g><g clip-path=\"url(#p11565a2c54)\"><g transform=\"translate(58.016 82.304) scale(.104 -.104)\"><defs><path id=\"DejaVuSans-31\" transform=\"scale(.015625)\" d=\"m794 531h1031v3560l-1122-225v575l1116 225h631v-4135h1031v-531h-2687v531z\"/></defs><use xlink:href=\"#DejaVuSans-31\"/></g></g><g clip-path=\"url(#p11565a2c54)\"><g transform=\"translate(35.446 93.496) scale(.1625 -.1625)\"><defs><path id=\"DejaVuSans-63\" transform=\"scale(.015625)\" d=\"m3122 3366v-538q-244 135-489 202t-495 67q-560 0-870-355-309-354-309-995t309-996q310-354 870-354 250 0 495 67t489 202v-532q-241-112-499-168-257-57-548-57-791 0-1257 497-465 497-465 1341 0 856 470 1346 471 491 1290 491 265 0 518-55 253-54 491-163z\"/></defs><use xlink:href=\"#DejaVuSans-63\"/></g></g><g clip-path=\"url(#p11565a2c54)\"><g transform=\"translate(73.562 47.148) scale(.13 -.13)\" fill=\"#ffffff\"><defs><path id=\"DejaVuSans-58\" transform=\"scale(.015625)\" d=\"m403 4666h678l1160-1735 1165 1735h678l-1500-2241 1600-2425h-678l-1312 1984-1322-1984h-681l1665 2491-1453 2175z\"/></defs><use xlink:href=\"#DejaVuSans-58\"/></g></g><defs><clipPath id=\"p11565a2c54\"><rect x=\"7.2\" y=\"7.2\" width=\"100.81\" height=\"109.08\"/></clipPath></defs></svg>"
            ],
            "text/plain": [
              "<Figure size 133.526x144.48 with 1 Axes>"
            ]
          },
          "execution_count": 26,
          "metadata": {
          },
          "output_type": "execute_result"
        }
      ],
      "source": [
        "qc = QuantumCircuit(1,1)\n",
        "qc.x(0)\n",
        "\n",
        "qc.draw()"
      ]
    },
    {
      "cell_type": "markdown",
      "id": "a44798a4",
      "metadata": {
      },
      "source": [
        "A medida z produz o resultado esperado com certeza, mas a medida x fornece resultados aleatórios."
      ]
    },
    {
      "cell_type": "code",
      "execution_count": 27,
      "id": "a3140d05",
      "metadata": {
      },
      "outputs": [
        {
          "name": "stdout",
          "output_type": "stream",
          "text": [
            "Results from z measurement: {'1': 1024}\n",
            "Results from x measurement: {'0': 520, '1': 504}\n"
          ]
        }
      ],
      "source": [
        "for basis,circ in [('z', meas_z), ('x', meas_x)]:\n",
        "    print('Results from ' + basis + ' measurement:',\n",
        "      backend.run(qc.compose(circ)).result().get_counts())"
      ]
    },
    {
      "cell_type": "markdown",
      "id": "17f3a2c6",
      "metadata": {
      },
      "source": [
        "As tabelas estão viradas para o estado $|+\\rangle$."
      ]
    },
    {
      "cell_type": "code",
      "execution_count": 28,
      "id": "d6492859",
      "metadata": {
      },
      "outputs": [
        {
          "data": {
            "image/svg+xml": [
              "<?xml version=\"1.0\" encoding=\"UTF-8\"?><!DOCTYPE svg  PUBLIC '-//W3C//DTD SVG 1.1//EN'  'http://www.w3.org/Graphics/SVG/1.1/DTD/svg11.dtd'><svg width=\"115.21pt\" height=\"123.48pt\" version=\"1.1\" viewBox=\"0 0 115.21 123.48\" xmlns=\"http://www.w3.org/2000/svg\" xmlns:xlink=\"http://www.w3.org/1999/xlink\"><defs><style type=\"text/css\">*{stroke-linecap:butt;stroke-linejoin:round;}</style></defs><path d=\"m0 123.48h115.21v-123.48h-115.21z\" fill=\"#ffffff\"/><path d=\"m53.471 43.561h49.996\" clip-path=\"url(#pd34b56dc0b)\" fill=\"none\" stroke=\"#000000\" stroke-linecap=\"square\" stroke-width=\"2\"/><path d=\"m53.471 87.535h49.996\" clip-path=\"url(#pd34b56dc0b)\" fill=\"none\" stroke=\"#778899\" stroke-linecap=\"square\" stroke-width=\"2\"/><path d=\"m53.471 90.489h49.996\" clip-path=\"url(#pd34b56dc0b)\" fill=\"none\" stroke=\"#778899\" stroke-linecap=\"square\" stroke-width=\"2\"/><path d=\"m62.561 93.557 4.5451-9.0902\" clip-path=\"url(#pd34b56dc0b)\" fill=\"none\" stroke=\"#778899\" stroke-linecap=\"square\" stroke-width=\"1.5\"/><path d=\"m63.243 58.332h29.543v-29.543h-29.543z\" clip-path=\"url(#pd34b56dc0b)\" fill=\"#1192e8\" stroke=\"#1192e8\" stroke-width=\"1.5\"/><g clip-path=\"url(#pd34b56dc0b)\"><g transform=\"translate(33.981 48.012) scale(.1625 -.1625)\"><defs><path id=\"DejaVuSans-Oblique-71\" transform=\"scale(.015625)\" d=\"m2669 525q-231-303-546-460-314-156-695-156-531 0-833 358-301 358-301 986 0 506 186 978t533 847q225 244 517 375t614 131q387 0 637-153t363-462l100 525h578l-934-4813h-579l360 1844zm-1778 813q0-463 193-705 194-242 560-242 544 0 928 520t384 1264q0 450-199 689-198 239-569 239-272 0-504-127-231-126-403-370-181-256-286-600-104-343-104-668z\"/></defs><use xlink:href=\"#DejaVuSans-Oblique-71\"/></g></g><g clip-path=\"url(#pd34b56dc0b)\"><g transform=\"translate(58.016 82.304) scale(.104 -.104)\"><defs><path id=\"DejaVuSans-31\" transform=\"scale(.015625)\" d=\"m794 531h1031v3560l-1122-225v575l1116 225h631v-4135h1031v-531h-2687v531z\"/></defs><use xlink:href=\"#DejaVuSans-31\"/></g></g><g clip-path=\"url(#pd34b56dc0b)\"><g transform=\"translate(35.446 93.496) scale(.1625 -.1625)\"><defs><path id=\"DejaVuSans-63\" transform=\"scale(.015625)\" d=\"m3122 3366v-538q-244 135-489 202t-495 67q-560 0-870-355-309-354-309-995t309-996q310-354 870-354 250 0 495 67t489 202v-532q-241-112-499-168-257-57-548-57-791 0-1257 497-465 497-465 1341 0 856 470 1346 471 491 1290 491 265 0 518-55 253-54 491-163z\"/></defs><use xlink:href=\"#DejaVuSans-63\"/></g></g><g clip-path=\"url(#pd34b56dc0b)\"><g transform=\"translate(73.126 47.148) scale(.13 -.13)\" fill=\"#ffffff\"><defs><path id=\"DejaVuSans-48\" transform=\"scale(.015625)\" d=\"m628 4666h631v-1913h2294v1913h631v-4666h-631v2222h-2294v-2222h-631v4666z\"/></defs><use xlink:href=\"#DejaVuSans-48\"/></g></g><defs><clipPath id=\"pd34b56dc0b\"><rect x=\"7.2\" y=\"7.2\" width=\"100.81\" height=\"109.08\"/></clipPath></defs></svg>"
            ],
            "text/plain": [
              "<Figure size 133.526x144.48 with 1 Axes>"
            ]
          },
          "execution_count": 28,
          "metadata": {
          },
          "output_type": "execute_result"
        }
      ],
      "source": [
        "qc = QuantumCircuit(1,1)\n",
        "qc.h(0)\n",
        "\n",
        "qc.draw()"
      ]
    },
    {
      "cell_type": "markdown",
      "id": "1c19b35f",
      "metadata": {
      },
      "source": [
        "Embora os resultados sejam aleatórios para a medida z, eles produzem `0` com certeza para uma medida x."
      ]
    },
    {
      "cell_type": "code",
      "execution_count": 29,
      "id": "75b5e22a",
      "metadata": {
      },
      "outputs": [
        {
          "name": "stdout",
          "output_type": "stream",
          "text": [
            "Results from z measurement: {'1': 506, '0': 518}\n",
            "Results from x measurement: {'0': 1024}\n"
          ]
        }
      ],
      "source": [
        "for basis,circ in [('z', meas_z), ('x', meas_x)]:\n",
        "    print('Results from ' + basis + ' measurement:',\n",
        "      backend.run(qc.compose(circ)).result().get_counts())"
      ]
    },
    {
      "cell_type": "markdown",
      "id": "c17d37d6",
      "metadata": {
      },
      "source": [
        "<!-- ::: q-block.exercise -->\n",
        "\n",
        "### Questionário rápido\n",
        "\n",
        "<!-- ::: q-quiz(goal=\"intro-multi-4\") -->\n",
        "\n",
        "<!-- ::: .question -->\n",
        "\n",
        "Quais seriam os resultados para um estado $|-\\rangle$?\n",
        "\n",
        "<!-- ::: -->\n",
        "\n",
        "<!-- ::: .option -->\n",
        "\n",
        "1. Aleatório para ambas as medidas z e x.\n",
        "\n",
        "<!-- ::: -->\n",
        "\n",
        "<!-- ::: .option -->\n",
        "\n",
        "1. Aleatório para a medida z, `0` para a medida x.\n",
        "\n",
        "<!-- ::: -->\n",
        "\n",
        "<!-- ::: .option(correct) -->\n",
        "\n",
        "1. Aleatório para a medida z, `1` para a medida x.\n",
        "\n",
        "<!-- ::: -->\n",
        "\n",
        "<!-- ::: .option -->\n",
        "\n",
        "1. `0` para a medida z, `1` para a medida x.\n",
        "\n",
        "<!-- ::: -->\n",
        "\n",
        "<!-- ::: -->\n",
        "\n",
        "<!-- ::: -->"
      ]
    },
    {
      "cell_type": "markdown",
      "id": "3168ed76",
      "metadata": {
      },
      "source": [
        "Para outros estados, podemos encontrar um ajuste entre os dois. Por exemplo, podemos experimentar diferentes ângulos para as rotações `ry` ."
      ]
    },
    {
      "cell_type": "code",
      "execution_count": 30,
      "id": "a394eb5f",
      "metadata": {
      },
      "outputs": [

      ],
      "source": [
        "from math import pi\n",
        "\n",
        "qc = QuantumCircuit(1, 1)\n",
        "qc.ry(-pi/4, 0)"
      ]
    },
    {
      "cell_type": "markdown",
      "id": "a52d7594",
      "metadata": {
      },
      "source": [
        "Para o ângulo $-\\pi/4$, vemos que ambos os resultados são parcialmente aleatórios, mas não completamente."
      ]
    },
    {
      "cell_type": "code",
      "execution_count": 31,
      "id": "e4b4c0be",
      "metadata": {
      },
      "outputs": [
        {
          "name": "stdout",
          "output_type": "stream",
          "text": [
            "Results from z measurement: {'0': 867, '1': 157}\n",
            "Results from x measurement: {'1': 865, '0': 159}\n"
          ]
        }
      ],
      "source": [
        "for basis,circ in [('z', meas_z), ('x', meas_x)]:\n",
        "    print('Results from ' + basis + ' measurement:',\n",
        "      backend.run(qc.compose(circ)).result().get_counts())"
      ]
    },
    {
      "cell_type": "markdown",
      "id": "09a2fed8",
      "metadata": {
        "formulas": {
          "_expectation-value-X": {
            "meaning": "This value is traditionally what you'd expect to get if you repeated the experiment infinitely and averaged the results. We've adapted this definition from physics experiments where the two possible results are +1 or -1, to our situation, where the two possible results are 0 or 1.",
            "say": "Expectation value of a x measurement."
          },
          "expectation-value-Z": {
            "meaning": "This value is traditionally what you'd expect to get if you repeated the experiment infinitely and averaged the results. We've adapted this definition from physics experiments where the two possible results are +1 or -1, to our situation, where the two possible results are 0 or 1.",
            "say": "Expectation value of a z measurement."
          },
          "pz0": {
            "meaning": "The probability of measuring '0' with a z measurement."
          },
          "pz1": {
            "meaning": "The probability of measuring '1' with a z measurement."
          }
        }
      },
      "source": [
        "### O princípio da incerteza\n",
        "\n",
        "Todos esses resultados são consequência do princípio da incerteza descoberto por Werner Heisenberg, que é um dos aspectos mais importantes da mecânica quântica. Ele afirma que para certos pares de atributos de um sistema quântico, é impossível conhecer ambos com certeza.\n",
        "\n",
        "Isso não é verdade para a cor e a forma de um objeto, como em nosso exemplo anterior. Como sabemos pela experiência cotidiana, saber exatamente qual é a forma de algo não faz com que sua cor se torne aleatória.\n",
        "\n",
        "É verdade, no entanto, para os resultados das medidas z e x. Estas são duas maneiras diferentes que podemos escolher para codificar um pouco de informação em um qubit. Podemos fazer isso da maneira normal, usando os estados $|0\\rangle$ e $|1\\rangle$ para codificar os valores de bit `0` e `1` e usando a medida z para lê-los. Ou podemos fazer isso de uma maneira alternativa, usando os estados $|+\\rangle$ e $|-\\rangle$ para codificar os valores de bit e a medida x para leitura. Mas o princípio da incerteza garante que não podemos fazer as duas coisas ao mesmo tempo.\n",
        "\n",
        "Especificamente, para as medidas z podemos definir uma quantidade\n",
        "\n",
        "$$\\class{expectation-value-Z}{\\langle Z \\rangle} = \\class<pz>{p_z(0)} - \\class<pz>{p_z(1)},$$</pz></pz>\n",
        "\n",
        "onde $p_z(0)$ é a probabilidade do resultado ser `0` e $p_z(1)$ é a probabilidade dele ser `1` . Essa quantidade atinge seu valor máximo de $1$ para um estado que certamente produzirá `0` e seu valor mínimo de $-1$ para um estado que certamente produzirá `1` . Observe que em ambos os casos em que a saída é certa, $\\langle Z \\rangle^2 = 1$. Para um resultado completamente aleatório, no entanto, encontraríamos $\\langle Z \\rangle = \\langle Z \\rangle^2 = 0$.\n",
        "\n",
        "Da mesma forma, podemos definir a quantidade $\\class{_expectation-value-X}{\\langle X \\rangle}$ para os resultados de medidas x. Para estes podemos encontrar que, para qualquer vetor de estado válido\n",
        "\n",
        "$$\\langle Z \\rangle^2 + \\langle X \\rangle^2 \\leq 1.$$\n",
        "\n",
        "Este é o princípio da incerteza para um qubit, especificamente quanta certeza pode ser compartilhada entre esses tipos de medição."
      ]
    },
    {
      "cell_type": "markdown",
      "id": "9af8246c",
      "metadata": {
      },
      "source": [
        "## Correlações quânticas únicas\n",
        "\n",
        "Com as noções dessas diferentes bases de medição, podemos começar a olhar para correlações únicas que são possíveis para qubits.\n",
        "\n",
        "Por exemplo, vamos considerar novamente nossos amigos Alice, Bob e Charlie. Charlie cria um estado emaranhado particular e envia um qubit para Alice e outro para Bob. Eles fazem medições e comparam os resultados. Então Charlie envia outro estado identicamente preparado. Isso se repete muitas vezes, então Alice e Bob podem construir estatísticas sobre todos os diferentes resultados de medidas.\n",
        "\n",
        "Vamos considerar o caso em que Charlie envia o seguinte estado emaranhado."
      ]
    },
    {
      "cell_type": "code",
      "execution_count": 32,
      "id": "5c6e5958",
      "metadata": {
      },
      "outputs": [
        {
          "data": {
            "image/svg+xml": [
              "<?xml version=\"1.0\" encoding=\"UTF-8\"?><!DOCTYPE svg  PUBLIC '-//W3C//DTD SVG 1.1//EN'  'http://www.w3.org/Graphics/SVG/1.1/DTD/svg11.dtd'><svg width=\"306.93pt\" height=\"168.93pt\" version=\"1.1\" viewBox=\"0 0 306.93 168.93\" xmlns=\"http://www.w3.org/2000/svg\" xmlns:xlink=\"http://www.w3.org/1999/xlink\"><defs><style type=\"text/css\">*{stroke-linecap:butt;stroke-linejoin:round;}</style></defs><path d=\"m0 168.93h306.93v-168.93h-306.93z\" fill=\"#ffffff\"/><path d=\"m63.381 43.561h231.8\" clip-path=\"url(#pfb3ea22285)\" fill=\"none\" stroke=\"#000000\" stroke-linecap=\"square\" stroke-width=\"2\"/><path d=\"m63.381 89.012h231.8\" clip-path=\"url(#pfb3ea22285)\" fill=\"none\" stroke=\"#000000\" stroke-linecap=\"square\" stroke-width=\"2\"/><path d=\"m63.381 132.99h231.8\" clip-path=\"url(#pfb3ea22285)\" fill=\"none\" stroke=\"#778899\" stroke-linecap=\"square\" stroke-width=\"2\"/><path d=\"m63.381 135.94h231.8\" clip-path=\"url(#pfb3ea22285)\" fill=\"none\" stroke=\"#778899\" stroke-linecap=\"square\" stroke-width=\"2\"/><path d=\"m72.471 139.01 4.5451-9.0902\" clip-path=\"url(#pfb3ea22285)\" fill=\"none\" stroke=\"#778899\" stroke-linecap=\"square\" stroke-width=\"1.5\"/><path d=\"m133.38 89.012v-45.451\" clip-path=\"url(#pfb3ea22285)\" fill=\"none\" stroke=\"#1192e8\" stroke-linecap=\"square\" stroke-width=\"2\"/><path d=\"m224.28 89.012v-45.451\" clip-path=\"url(#pfb3ea22285)\" fill=\"none\" stroke=\"#1192e8\" stroke-linecap=\"square\" stroke-width=\"2\"/><path d=\"m73.153 103.78h29.543v-29.543h-29.543z\" clip-path=\"url(#pfb3ea22285)\" fill=\"#6929c4\" stroke=\"#6929c4\" stroke-width=\"1.5\"/><path d=\"m133.38 93.443c1.1752 0 2.3025-0.46693 3.1335-1.2979 0.83102-0.83102 1.2979-1.9583 1.2979-3.1335s-0.46693-2.3025-1.2979-3.1335c-0.83102-0.83102-1.9583-1.2979-3.1335-1.2979-1.1752 0-2.3025 0.46693-3.1335 1.2979-0.83102 0.83102-1.2979 1.9583-1.2979 3.1335s0.46693 2.3025 1.2979 3.1335c0.83102 0.83102 1.9583 1.2979 3.1335 1.2979z\" clip-path=\"url(#pfb3ea22285)\" fill=\"#1192e8\" stroke=\"#1192e8\" stroke-width=\"1.5\"/><path d=\"m133.38 53.901c2.7422 0 5.3725-1.0895 7.3116-3.0285 1.939-1.939 3.0285-4.5693 3.0285-7.3116 0-2.7422-1.0895-5.3725-3.0285-7.3116-1.939-1.939-4.5693-3.0285-7.3116-3.0285-2.7422 0-5.3725 1.0895-7.3116 3.0285-1.939 1.939-3.0285 4.5693-3.0285 7.3116 0 2.7422 1.0895 5.3725 3.0285 7.3116 1.939 1.939 4.5693 3.0285 7.3116 3.0285z\" clip-path=\"url(#pfb3ea22285)\" fill=\"#1192e8\" stroke=\"#1192e8\" stroke-width=\"2\"/><path d=\"m164.06 58.332h29.543v-29.543h-29.543z\" clip-path=\"url(#pfb3ea22285)\" fill=\"#6929c4\" stroke=\"#6929c4\" stroke-width=\"1.5\"/><path d=\"m224.28 93.443c1.1752 0 2.3025-0.46693 3.1335-1.2979 0.83102-0.83102 1.2979-1.9583 1.2979-3.1335s-0.46693-2.3025-1.2979-3.1335c-0.83102-0.83102-1.9583-1.2979-3.1335-1.2979s-2.3025 0.46693-3.1335 1.2979c-0.83102 0.83102-1.2979 1.9583-1.2979 3.1335s0.46693 2.3025 1.2979 3.1335 1.9583 1.2979 3.1335 1.2979z\" clip-path=\"url(#pfb3ea22285)\" fill=\"#1192e8\" stroke=\"#1192e8\" stroke-width=\"1.5\"/><path d=\"m224.28 53.901c2.7422 0 5.3725-1.0895 7.3116-3.0285 1.939-1.939 3.0285-4.5693 3.0285-7.3116 0-2.7422-1.0895-5.3725-3.0285-7.3116-1.939-1.939-4.5693-3.0285-7.3116-3.0285s-5.3725 1.0895-7.3116 3.0285c-1.939 1.939-3.0285 4.5693-3.0285 7.3116 0 2.7422 1.0895 5.3725 3.0285 7.3116 1.939 1.939 4.5693 3.0285 7.3116 3.0285z\" clip-path=\"url(#pfb3ea22285)\" fill=\"#1192e8\" stroke=\"#1192e8\" stroke-width=\"2\"/><path d=\"m254.96 58.332h29.543v-29.543h-29.543z\" clip-path=\"url(#pfb3ea22285)\" fill=\"#6929c4\" stroke=\"#6929c4\" stroke-width=\"1.5\"/><path d=\"m133.38 49.469v-11.817\" clip-path=\"url(#pfb3ea22285)\" fill=\"none\" stroke=\"#ffffff\" stroke-linecap=\"square\" stroke-width=\"2\"/><path d=\"m127.47 43.561h11.817\" clip-path=\"url(#pfb3ea22285)\" fill=\"none\" stroke=\"#ffffff\" stroke-linecap=\"square\" stroke-width=\"2\"/><path d=\"m224.28 49.469v-11.817\" clip-path=\"url(#pfb3ea22285)\" fill=\"none\" stroke=\"#ffffff\" stroke-linecap=\"square\" stroke-width=\"2\"/><path d=\"m218.37 43.561h11.817\" clip-path=\"url(#pfb3ea22285)\" fill=\"none\" stroke=\"#ffffff\" stroke-linecap=\"square\" stroke-width=\"2\"/><g clip-path=\"url(#pfb3ea22285)\"><g transform=\"translate(36.253 48.012) scale(.1625 -.1625)\"><defs><path id=\"DejaVuSans-Oblique-71\" transform=\"scale(.015625)\" d=\"m2669 525q-231-303-546-460-314-156-695-156-531 0-833 358-301 358-301 986 0 506 186 978t533 847q225 244 517 375t614 131q387 0 637-153t363-462l100 525h578l-934-4813h-579l360 1844zm-1778 813q0-463 193-705 194-242 560-242 544 0 928 520t384 1264q0 450-199 689-198 239-569 239-272 0-504-127-231-126-403-370-181-256-286-600-104-343-104-668z\"/><path id=\"DejaVuSans-30\" transform=\"scale(.015625)\" d=\"m2034 4250q-487 0-733-480-245-479-245-1442 0-959 245-1439 246-480 733-480 491 0 736 480 246 480 246 1439 0 963-246 1442-245 480-736 480zm0 500q785 0 1199-621 414-620 414-1801 0-1178-414-1799-414-620-1199-620-784 0-1198 620-414 621-414 1799 0 1181 414 1801 414 621 1198 621z\"/></defs><use xlink:href=\"#DejaVuSans-Oblique-71\"/><use transform=\"translate(63.477 -16.406) scale(.7)\" xlink:href=\"#DejaVuSans-30\"/></g></g><g clip-path=\"url(#pfb3ea22285)\"><g transform=\"translate(36.253 93.463) scale(.1625 -.1625)\"><defs><path id=\"DejaVuSans-31\" transform=\"scale(.015625)\" d=\"m794 531h1031v3560l-1122-225v575l1116 225h631v-4135h1031v-531h-2687v531z\"/></defs><use xlink:href=\"#DejaVuSans-Oblique-71\"/><use transform=\"translate(63.477 -16.406) scale(.7)\" xlink:href=\"#DejaVuSans-31\"/></g></g><g clip-path=\"url(#pfb3ea22285)\"><g transform=\"translate(67.926 127.75) scale(.104 -.104)\"><defs><path id=\"DejaVuSans-32\" transform=\"scale(.015625)\" d=\"m1228 531h2203v-531h-2962v531q359 372 979 998 621 627 780 809 303 340 423 576 121 236 121 464 0 372-261 606-261 235-680 235-297 0-627-103-329-103-704-313v638q381 153 712 231 332 78 607 78 725 0 1156-363 431-362 431-968 0-288-108-546-107-257-392-607-78-91-497-524-418-433-1181-1211z\"/></defs><use xlink:href=\"#DejaVuSans-32\"/></g></g><g clip-path=\"url(#pfb3ea22285)\"><g transform=\"translate(45.356 138.95) scale(.1625 -.1625)\"><defs><path id=\"DejaVuSans-63\" transform=\"scale(.015625)\" d=\"m3122 3366v-538q-244 135-489 202t-495 67q-560 0-870-355-309-354-309-995t309-996q310-354 870-354 250 0 495 67t489 202v-532q-241-112-499-168-257-57-548-57-791 0-1257 497-465 497-465 1341 0 856 470 1346 471 491 1290 491 265 0 518-55 253-54 491-163z\"/></defs><use xlink:href=\"#DejaVuSans-63\"/></g></g><g clip-path=\"url(#pfb3ea22285)\"><g transform=\"translate(79.018 100.08) scale(.08 -.08)\" fill=\"#ffffff\"><defs><path id=\"DejaVuSans-2e\" transform=\"scale(.015625)\" d=\"m684 794h660v-794h-660v794z\"/><path id=\"DejaVuSans-39\" transform=\"scale(.015625)\" d=\"m703 97v575q238-113 481-172 244-59 479-59 625 0 954 420 330 420 377 1277-181-269-460-413-278-144-615-144-700 0-1108 423-408 424-408 1159 0 718 425 1152 425 435 1131 435 810 0 1236-621 427-620 427-1801 0-1103-524-1761-523-658-1407-658-238 0-482 47-243 47-506 141zm1256 1978q425 0 673 290 249 291 249 798 0 503-249 795-248 292-673 292t-673-292-248-795q0-507 248-798 248-290 673-290z\"/></defs><use xlink:href=\"#DejaVuSans-31\"/><use x=\"63.623047\" xlink:href=\"#DejaVuSans-2e\"/><use x=\"95.410156\" xlink:href=\"#DejaVuSans-39\"/><use x=\"159.033203\" xlink:href=\"#DejaVuSans-31\"/></g></g><g clip-path=\"url(#pfb3ea22285)\"><g transform=\"translate(80.385 88.168) scale(.13 -.13)\" fill=\"#ffffff\"><defs><path id=\"DejaVuSans-52\" transform=\"scale(.015625)\" d=\"m2841 2188q203-69 395-294t386-619l641-1275h-679l-596 1197q-232 469-449 622t-592 153h-688v-1972h-631v4666h1425q800 0 1194-335 394-334 394-1009 0-441-205-732-205-290-595-402zm-1582 1959v-1656h794q456 0 689 211t233 620-233 617-689 208h-794z\"/><path id=\"DejaVuSans-59\" transform=\"scale(.015625)\" d=\"m-13 4666h679l1293-1919 1285 1919h678l-1650-2444v-2222h-634v2222l-1651 2444z\"/></defs><use transform=\"translate(0 .09375)\" xlink:href=\"#DejaVuSans-52\"/><use transform=\"translate(70.439 -16.312) scale(.7)\" xlink:href=\"#DejaVuSans-59\"/></g></g><g clip-path=\"url(#pfb3ea22285)\"><g transform=\"translate(167.38 54.631) scale(.08 -.08)\" fill=\"#ffffff\"><defs><path id=\"DejaVuSans-37\" transform=\"scale(.015625)\" d=\"m525 4666h3e3v-269l-1694-4397h-659l1594 4134h-2241v532z\"/><path id=\"DejaVuSans-38\" transform=\"scale(.015625)\" d=\"m2034 2216q-450 0-708-241-257-241-257-662 0-422 257-663 258-241 708-241t709 242q260 243 260 662 0 421-258 662-257 241-711 241zm-631 268q-406 100-633 378-226 279-226 679 0 559 398 884 399 325 1092 325 697 0 1094-325t397-884q0-400-227-679-226-278-629-378 456-106 710-416 255-309 255-755 0-679-414-1042-414-362-1186-362-771 0-1186 362-414 363-414 1042 0 446 256 755 257 310 713 416zm-231 997q0-362 226-565 227-203 636-203 407 0 636 203 230 203 230 565 0 363-230 566-229 203-636 203-409 0-636-203-226-203-226-566z\"/><path id=\"DejaVuSans-35\" transform=\"scale(.015625)\" d=\"m691 4666h2478v-532h-1900v-1143q137 47 274 70 138 23 276 23 781 0 1237-428 457-428 457-1159 0-753-469-1171-469-417-1322-417-294 0-599 50-304 50-629 150v635q281-153 581-228t634-75q541 0 856 284 316 284 316 772 0 487-316 771-315 285-856 285-253 0-505-56-251-56-513-175v2344z\"/></defs><use xlink:href=\"#DejaVuSans-30\"/><use x=\"63.623047\" xlink:href=\"#DejaVuSans-2e\"/><use x=\"95.410156\" xlink:href=\"#DejaVuSans-37\"/><use x=\"159.033203\" xlink:href=\"#DejaVuSans-38\"/><use x=\"222.65625\" xlink:href=\"#DejaVuSans-35\"/></g></g><g clip-path=\"url(#pfb3ea22285)\"><g transform=\"translate(171.29 42.717) scale(.13 -.13)\" fill=\"#ffffff\"><use transform=\"translate(0 .09375)\" xlink:href=\"#DejaVuSans-52\"/><use transform=\"translate(70.439 -16.312) scale(.7)\" xlink:href=\"#DejaVuSans-59\"/></g></g><g clip-path=\"url(#pfb3ea22285)\"><g transform=\"translate(260.82 54.631) scale(.08 -.08)\" fill=\"#ffffff\"><defs><path id=\"DejaVuSans-33\" transform=\"scale(.015625)\" d=\"m2597 2516q453-97 707-404 255-306 255-756 0-690-475-1069-475-378-1350-378-293 0-604 58t-642 174v609q262-153 574-231 313-78 654-78 593 0 904 234t311 681q0 413-289 645-289 233-804 233h-544v519h569q465 0 712 186t247 536q0 359-255 551-254 193-729 193-260 0-557-57-297-56-653-174v562q360 100 674 150t592 50q719 0 1137-327 419-326 419-882 0-388-222-655t-631-370z\"/><path id=\"DejaVuSans-36\" transform=\"scale(.015625)\" d=\"m2113 2584q-425 0-674-291-248-290-248-796 0-503 248-796 249-292 674-292t673 292q248 293 248 796 0 506-248 796-248 291-673 291zm1253 1979v-575q-238 112-480 171-242 60-480 60-625 0-955-422-329-422-376-1275 184 272 462 417 279 145 613 145 703 0 1111-427 408-426 408-1160 0-719-425-1154-425-434-1131-434-810 0-1238 620-428 621-428 1799 0 1106 525 1764t1409 658q238 0 480-47t505-140z\"/></defs><use xlink:href=\"#DejaVuSans-32\"/><use x=\"63.623047\" xlink:href=\"#DejaVuSans-2e\"/><use x=\"95.410156\" xlink:href=\"#DejaVuSans-33\"/><use x=\"159.033203\" xlink:href=\"#DejaVuSans-36\"/></g></g><g clip-path=\"url(#pfb3ea22285)\"><g transform=\"translate(262.19 42.717) scale(.13 -.13)\" fill=\"#ffffff\"><use transform=\"translate(0 .09375)\" xlink:href=\"#DejaVuSans-52\"/><use transform=\"translate(70.439 -16.312) scale(.7)\" xlink:href=\"#DejaVuSans-59\"/></g></g><defs><clipPath id=\"pfb3ea22285\"><rect x=\"7.2\" y=\"7.2\" width=\"292.53\" height=\"154.53\"/></clipPath></defs></svg>"
            ],
            "text/plain": [
              "<Figure size 387.452x204.68 with 1 Axes>"
            ]
          },
          "execution_count": 32,
          "metadata": {
          },
          "output_type": "execute_result"
        }
      ],
      "source": [
        "qc_charlie = QuantumCircuit(2,2)\n",
        "qc_charlie.ry(1.911,1)\n",
        "qc_charlie.cx(1,0)\n",
        "qc_charlie.ry(0.785,0)\n",
        "qc_charlie.cx(1,0)\n",
        "qc_charlie.ry(2.356,0)\n",
        "\n",
        "qc_charlie.draw()"
      ]
    },
    {
      "cell_type": "markdown",
      "id": "ef711180",
      "metadata": {
      },
      "source": [
        "Primeiro Alice e Bob tentam fazer medidas z de seus qubits."
      ]
    },
    {
      "cell_type": "code",
      "execution_count": 33,
      "id": "fe0fbe7a",
      "metadata": {
      },
      "outputs": [

      ],
      "source": [
        "meas_zz = QuantumCircuit(2,2)\n",
        "meas_zz.measure([0,1],[0,1])"
      ]
    },
    {
      "cell_type": "markdown",
      "id": "0e85814e",
      "metadata": {
      },
      "source": [
        "De muitas amostras, eles encontram os seguintes resultados."
      ]
    },
    {
      "cell_type": "code",
      "execution_count": 34,
      "id": "b0ebf1ea",
      "metadata": {
      },
      "outputs": [
        {
          "name": "stdout",
          "output_type": "stream",
          "text": [
            "Results for z measurements:\n"
          ]
        },
        {
          "data": {
            "image/svg+xml": [
              "<?xml version=\"1.0\" encoding=\"UTF-8\"?><!DOCTYPE svg  PUBLIC '-//W3C//DTD SVG 1.1//EN'  'http://www.w3.org/Graphics/SVG/1.1/DTD/svg11.dtd'><svg width=\"451.81pt\" height=\"314.57pt\" version=\"1.1\" viewBox=\"0 0 451.81 314.57\" xmlns=\"http://www.w3.org/2000/svg\" xmlns:xlink=\"http://www.w3.org/1999/xlink\"><defs><style type=\"text/css\">*{stroke-linecap:butt;stroke-linejoin:round;}</style></defs><path d=\"m0 314.57h451.81v-314.57h-451.81z\" fill=\"none\"/><path d=\"m54.014 279h390.6v-271.8h-390.6z\" fill=\"#ffffff\"/><defs><path id=\"m12556afc03\" d=\"m0 0v3.5\" stroke=\"#000000\" stroke-width=\".8\"/></defs><use x=\"107.277386\" y=\"279\" stroke=\"#000000\" stroke-width=\".8\" xlink:href=\"#m12556afc03\"/><g transform=\"translate(107.86 306.38) rotate(-70) scale(.14 -.14)\"><defs><path id=\"DejaVuSans-30\" transform=\"scale(.015625)\" d=\"m2034 4250q-487 0-733-480-245-479-245-1442 0-959 245-1439 246-480 733-480 491 0 736 480 246 480 246 1439 0 963-246 1442-245 480-736 480zm0 500q785 0 1199-621 414-620 414-1801 0-1178-414-1799-414-620-1199-620-784 0-1198 620-414 621-414 1799 0 1181 414 1801 414 621 1198 621z\"/><path id=\"DejaVuSans-31\" transform=\"scale(.015625)\" d=\"m794 531h1031v3560l-1122-225v575l1116 225h631v-4135h1031v-531h-2687v531z\"/></defs><use xlink:href=\"#DejaVuSans-30\"/><use x=\"63.623047\" xlink:href=\"#DejaVuSans-31\"/></g><use x=\"249.31375\" y=\"279\" stroke=\"#000000\" stroke-width=\".8\" xlink:href=\"#m12556afc03\"/><g transform=\"translate(249.9 306.38) rotate(-70) scale(.14 -.14)\"><use xlink:href=\"#DejaVuSans-31\"/><use x=\"63.623047\" xlink:href=\"#DejaVuSans-30\"/></g><use x=\"391.350114\" y=\"279\" stroke=\"#000000\" stroke-width=\".8\" xlink:href=\"#m12556afc03\"/><g transform=\"translate(391.93 306.38) rotate(-70) scale(.14 -.14)\"><use xlink:href=\"#DejaVuSans-31\"/><use x=\"63.623047\" xlink:href=\"#DejaVuSans-31\"/></g><path d=\"m54.014 279h390.6\" clip-path=\"url(#pea606302a6)\" fill=\"none\" stroke=\"#b0b0b0\" stroke-dasharray=\"2.96,1.28\" stroke-width=\".8\"/><defs><path id=\"m7e295cd1f7\" d=\"m0 0h-3.5\" stroke=\"#000000\" stroke-width=\".8\"/></defs><use x=\"54.01375\" y=\"279\" stroke=\"#000000\" stroke-width=\".8\" xlink:href=\"#m7e295cd1f7\"/><g transform=\"translate(24.749 284.32) scale(.14 -.14)\"><defs><path id=\"DejaVuSans-2e\" transform=\"scale(.015625)\" d=\"m684 794h660v-794h-660v794z\"/></defs><use xlink:href=\"#DejaVuSans-30\"/><use x=\"63.623047\" xlink:href=\"#DejaVuSans-2e\"/><use x=\"95.410156\" xlink:href=\"#DejaVuSans-30\"/></g><path d=\"m54.014 212.92h390.6\" clip-path=\"url(#pea606302a6)\" fill=\"none\" stroke=\"#b0b0b0\" stroke-dasharray=\"2.96,1.28\" stroke-width=\".8\"/><use x=\"54.01375\" y=\"212.921368\" stroke=\"#000000\" stroke-width=\".8\" xlink:href=\"#m7e295cd1f7\"/><g transform=\"translate(24.749 218.24) scale(.14 -.14)\"><use xlink:href=\"#DejaVuSans-30\"/><use x=\"63.623047\" xlink:href=\"#DejaVuSans-2e\"/><use x=\"95.410156\" xlink:href=\"#DejaVuSans-31\"/></g><path d=\"m54.014 146.84h390.6\" clip-path=\"url(#pea606302a6)\" fill=\"none\" stroke=\"#b0b0b0\" stroke-dasharray=\"2.96,1.28\" stroke-width=\".8\"/><use x=\"54.01375\" y=\"146.842735\" stroke=\"#000000\" stroke-width=\".8\" xlink:href=\"#m7e295cd1f7\"/><g transform=\"translate(24.749 152.16) scale(.14 -.14)\"><defs><path id=\"DejaVuSans-32\" transform=\"scale(.015625)\" d=\"m1228 531h2203v-531h-2962v531q359 372 979 998 621 627 780 809 303 340 423 576 121 236 121 464 0 372-261 606-261 235-680 235-297 0-627-103-329-103-704-313v638q381 153 712 231 332 78 607 78 725 0 1156-363 431-362 431-968 0-288-108-546-107-257-392-607-78-91-497-524-418-433-1181-1211z\"/></defs><use xlink:href=\"#DejaVuSans-30\"/><use x=\"63.623047\" xlink:href=\"#DejaVuSans-2e\"/><use x=\"95.410156\" xlink:href=\"#DejaVuSans-32\"/></g><path d=\"m54.014 80.764h390.6\" clip-path=\"url(#pea606302a6)\" fill=\"none\" stroke=\"#b0b0b0\" stroke-dasharray=\"2.96,1.28\" stroke-width=\".8\"/><use x=\"54.01375\" y=\"80.764103\" stroke=\"#000000\" stroke-width=\".8\" xlink:href=\"#m7e295cd1f7\"/><g transform=\"translate(24.749 86.083) scale(.14 -.14)\"><defs><path id=\"DejaVuSans-33\" transform=\"scale(.015625)\" d=\"m2597 2516q453-97 707-404 255-306 255-756 0-690-475-1069-475-378-1350-378-293 0-604 58t-642 174v609q262-153 574-231 313-78 654-78 593 0 904 234t311 681q0 413-289 645-289 233-804 233h-544v519h569q465 0 712 186t247 536q0 359-255 551-254 193-729 193-260 0-557-57-297-56-653-174v562q360 100 674 150t592 50q719 0 1137-327 419-326 419-882 0-388-222-655t-631-370z\"/></defs><use xlink:href=\"#DejaVuSans-30\"/><use x=\"63.623047\" xlink:href=\"#DejaVuSans-2e\"/><use x=\"95.410156\" xlink:href=\"#DejaVuSans-33\"/></g><path d=\"m54.014 14.685h390.6\" clip-path=\"url(#pea606302a6)\" fill=\"none\" stroke=\"#b0b0b0\" stroke-dasharray=\"2.96,1.28\" stroke-width=\".8\"/><use x=\"54.01375\" y=\"14.68547\" stroke=\"#000000\" stroke-width=\".8\" xlink:href=\"#m7e295cd1f7\"/><g transform=\"translate(24.749 20.004) scale(.14 -.14)\"><defs><path id=\"DejaVuSans-34\" transform=\"scale(.015625)\" d=\"m2419 4116-1594-2491h1594v2491zm-166 550h794v-3041h666v-525h-666v-1100h-628v1100h-2106v609l1940 2957z\"/></defs><use xlink:href=\"#DejaVuSans-30\"/><use x=\"63.623047\" xlink:href=\"#DejaVuSans-2e\"/><use x=\"95.410156\" xlink:href=\"#DejaVuSans-34\"/></g><g transform=\"translate(17.838 185.86) rotate(-90) scale(.14 -.14)\"><defs><path id=\"DejaVuSans-50\" transform=\"scale(.015625)\" d=\"m1259 4147v-1753h794q441 0 681 228 241 228 241 650 0 419-241 647-240 228-681 228h-794zm-631 519h1425q785 0 1186-355 402-355 402-1039 0-691-402-1044-401-353-1186-353h-794v-1875h-631v4666z\"/><path id=\"DejaVuSans-72\" transform=\"scale(.015625)\" d=\"m2631 2963q-97 56-211 82-114 27-251 27-488 0-749-317t-261-911v-1844h-578v3500h578v-544q182 319 472 473 291 155 707 155 59 0 131-8 72-7 159-23l3-590z\"/><path id=\"DejaVuSans-6f\" transform=\"scale(.015625)\" d=\"m1959 3097q-462 0-731-361t-269-989 267-989q268-361 733-361 460 0 728 362 269 363 269 988 0 622-269 986-268 364-728 364zm0 487q750 0 1178-488 429-487 429-1349 0-859-429-1349-428-489-1178-489-753 0-1180 489-426 490-426 1349 0 862 426 1349 427 488 1180 488z\"/><path id=\"DejaVuSans-62\" transform=\"scale(.015625)\" d=\"m3116 1747q0 634-261 995t-717 361q-457 0-718-361t-261-995 261-995 718-361q456 0 717 361t261 995zm-1957 1222q182 312 458 463 277 152 661 152 638 0 1036-506 399-506 399-1331t-399-1332q-398-506-1036-506-384 0-661 152-276 152-458 464v-525h-578v4863h578v-1894z\"/><path id=\"DejaVuSans-61\" transform=\"scale(.015625)\" d=\"m2194 1759q-697 0-966-159t-269-544q0-306 202-486 202-179 548-179 479 0 768 339t289 901v128h-572zm1147 238v-1997h-575v531q-197-318-491-470t-719-152q-537 0-855 302-317 302-317 808 0 590 395 890 396 300 1180 300h807v57q0 397-261 614t-733 217q-300 0-585-72-284-72-546-216v532q315 122 612 182 297 61 578 61 760 0 1135-394 375-393 375-1193z\"/><path id=\"DejaVuSans-69\" transform=\"scale(.015625)\" d=\"m603 3500h575v-3500h-575v3500zm0 1363h575v-729h-575v729z\"/><path id=\"DejaVuSans-6c\" transform=\"scale(.015625)\" d=\"m603 4863h575v-4863h-575v4863z\"/><path id=\"DejaVuSans-74\" transform=\"scale(.015625)\" d=\"m1172 4494v-994h1184v-447h-1184v-1900q0-428 117-550t477-122h590v-481h-590q-666 0-919 248-253 249-253 905v1900h-422v447h422v994h578z\"/><path id=\"DejaVuSans-65\" transform=\"scale(.015625)\" d=\"m3597 1894v-281h-2644q38-594 358-905t892-311q331 0 642 81t618 244v-544q-310-131-635-200t-659-69q-838 0-1327 487-489 488-489 1320 0 859 464 1363 464 505 1252 505 706 0 1117-455 411-454 411-1235zm-575 169q-6 471-264 752-258 282-683 282-481 0-770-272t-333-766l2050 4z\"/><path id=\"DejaVuSans-73\" transform=\"scale(.015625)\" d=\"m2834 3397v-544q-243 125-506 187-262 63-544 63-428 0-642-131t-214-394q0-200 153-314t616-217l197-44q612-131 870-370t258-667q0-488-386-773-386-284-1061-284-281 0-586 55t-642 164v594q319-166 628-249 309-82 613-82 406 0 624 139 219 139 219 392 0 234-158 359-157 125-692 241l-200 47q-534 112-772 345-237 233-237 639 0 494 350 762 350 269 994 269 318 0 599-47 282-46 519-140z\"/></defs><use xlink:href=\"#DejaVuSans-50\"/><use x=\"58.552734\" xlink:href=\"#DejaVuSans-72\"/><use x=\"97.416016\" xlink:href=\"#DejaVuSans-6f\"/><use x=\"158.597656\" xlink:href=\"#DejaVuSans-62\"/><use x=\"222.074219\" xlink:href=\"#DejaVuSans-61\"/><use x=\"283.353516\" xlink:href=\"#DejaVuSans-62\"/><use x=\"346.830078\" xlink:href=\"#DejaVuSans-69\"/><use x=\"374.613281\" xlink:href=\"#DejaVuSans-6c\"/><use x=\"402.396484\" xlink:href=\"#DejaVuSans-69\"/><use x=\"430.179688\" xlink:href=\"#DejaVuSans-74\"/><use x=\"469.388672\" xlink:href=\"#DejaVuSans-69\"/><use x=\"497.171875\" xlink:href=\"#DejaVuSans-65\"/><use x=\"558.695312\" xlink:href=\"#DejaVuSans-73\"/></g><path d=\"m71.768 279h71.018v-225.21h-71.018z\" clip-path=\"url(#pea606302a6)\" fill=\"#648fff\"/><path d=\"m213.8 279h71.018v-226.5h-71.018z\" clip-path=\"url(#pea606302a6)\" fill=\"#648fff\"/><path d=\"m355.84 279h71.018v-209.08h-71.018z\" clip-path=\"url(#pea606302a6)\" fill=\"#648fff\"/><path d=\"m54.014 279v-271.8\" fill=\"none\" stroke=\"#000000\" stroke-linecap=\"square\" stroke-width=\".8\"/><path d=\"m444.61 279v-271.8\" fill=\"none\" stroke=\"#000000\" stroke-linecap=\"square\" stroke-width=\".8\"/><path d=\"m54.014 279h390.6\" fill=\"none\" stroke=\"#000000\" stroke-linecap=\"square\" stroke-width=\".8\"/><path d=\"m54.014 7.2h390.6\" fill=\"none\" stroke=\"#000000\" stroke-linecap=\"square\" stroke-width=\".8\"/><g transform=\"translate(92.963 40.45) scale(.1 -.1)\"><use xlink:href=\"#DejaVuSans-30\"/><use x=\"63.623047\" xlink:href=\"#DejaVuSans-2e\"/><use x=\"95.410156\" xlink:href=\"#DejaVuSans-33\"/><use x=\"159.033203\" xlink:href=\"#DejaVuSans-34\"/><use x=\"222.65625\" xlink:href=\"#DejaVuSans-31\"/></g><g transform=\"translate(235 39.095) scale(.1 -.1)\"><use xlink:href=\"#DejaVuSans-30\"/><use x=\"63.623047\" xlink:href=\"#DejaVuSans-2e\"/><use x=\"95.410156\" xlink:href=\"#DejaVuSans-33\"/><use x=\"159.033203\" xlink:href=\"#DejaVuSans-34\"/><use x=\"222.65625\" xlink:href=\"#DejaVuSans-33\"/></g><g transform=\"translate(377.04 57.39) scale(.1 -.1)\"><defs><path id=\"DejaVuSans-36\" transform=\"scale(.015625)\" d=\"m2113 2584q-425 0-674-291-248-290-248-796 0-503 248-796 249-292 674-292t673 292q248 293 248 796 0 506-248 796-248 291-673 291zm1253 1979v-575q-238 112-480 171-242 60-480 60-625 0-955-422-329-422-376-1275 184 272 462 417 279 145 613 145 703 0 1111-427 408-426 408-1160 0-719-425-1154-425-434-1131-434-810 0-1238 620-428 621-428 1799 0 1106 525 1764t1409 658q238 0 480-47t505-140z\"/></defs><use xlink:href=\"#DejaVuSans-30\"/><use x=\"63.623047\" xlink:href=\"#DejaVuSans-2e\"/><use x=\"95.410156\" xlink:href=\"#DejaVuSans-33\"/><use x=\"159.033203\" xlink:href=\"#DejaVuSans-31\"/><use x=\"222.65625\" xlink:href=\"#DejaVuSans-36\"/></g><defs><clipPath id=\"pea606302a6\"><rect x=\"54.014\" y=\"7.2\" width=\"390.6\" height=\"271.8\"/></clipPath></defs></svg>"
            ],
            "text/plain": [
              "<Figure size 504x360 with 1 Axes>"
            ]
          },
          "execution_count": 34,
          "metadata": {
          },
          "output_type": "execute_result"
        }
      ],
      "source": [
        "from qiskit.visualization import plot_histogram\n",
        "\n",
        "print('Results for z measurements:')\n",
        "counts = backend.run(qc_charlie.compose(meas_zz)).result().get_counts()\n",
        "plot_histogram(counts)"
      ]
    },
    {
      "cell_type": "markdown",
      "id": "fc5f4384",
      "metadata": {
      },
      "source": [
        "A partir disso, eles fazem a observação de que os qubits nunca produzem `0` para medidas z.\n",
        "\n",
        "Em seguida, vamos ver os resultados de um quando Bob realiza uma medida x e Alice realiza uma medida z."
      ]
    },
    {
      "cell_type": "code",
      "execution_count": 35,
      "id": "3dc83a1e",
      "metadata": {
      },
      "outputs": [
        {
          "name": "stdout",
          "output_type": "stream",
          "text": [
            "Results for a z and an x measurement:\n"
          ]
        },
        {
          "data": {
            "image/svg+xml": [
              "<?xml version=\"1.0\" encoding=\"UTF-8\"?><!DOCTYPE svg  PUBLIC '-//W3C//DTD SVG 1.1//EN'  'http://www.w3.org/Graphics/SVG/1.1/DTD/svg11.dtd'><svg width=\"451.81pt\" height=\"319.76pt\" version=\"1.1\" viewBox=\"0 0 451.81 319.76\" xmlns=\"http://www.w3.org/2000/svg\" xmlns:xlink=\"http://www.w3.org/1999/xlink\"><defs><style type=\"text/css\">*{stroke-linecap:butt;stroke-linejoin:round;}</style></defs><path d=\"m0 319.76h451.81v-319.76h-451.81z\" fill=\"none\"/><path d=\"m54.014 284.19h390.6v-271.8h-390.6z\" fill=\"#ffffff\"/><defs><path id=\"mbd82507d4a\" d=\"m0 0v3.5\" stroke=\"#000000\" stroke-width=\".8\"/></defs><use x=\"107.277386\" y=\"284.186256\" stroke=\"#000000\" stroke-width=\".8\" xlink:href=\"#mbd82507d4a\"/><g transform=\"translate(107.86 311.57) rotate(-70) scale(.14 -.14)\"><defs><path id=\"DejaVuSans-30\" transform=\"scale(.015625)\" d=\"m2034 4250q-487 0-733-480-245-479-245-1442 0-959 245-1439 246-480 733-480 491 0 736 480 246 480 246 1439 0 963-246 1442-245 480-736 480zm0 500q785 0 1199-621 414-620 414-1801 0-1178-414-1799-414-620-1199-620-784 0-1198 620-414 621-414 1799 0 1181 414 1801 414 621 1198 621z\"/></defs><use xlink:href=\"#DejaVuSans-30\"/><use x=\"63.623047\" xlink:href=\"#DejaVuSans-30\"/></g><use x=\"249.31375\" y=\"284.186256\" stroke=\"#000000\" stroke-width=\".8\" xlink:href=\"#mbd82507d4a\"/><g transform=\"translate(249.9 311.57) rotate(-70) scale(.14 -.14)\"><defs><path id=\"DejaVuSans-31\" transform=\"scale(.015625)\" d=\"m794 531h1031v3560l-1122-225v575l1116 225h631v-4135h1031v-531h-2687v531z\"/></defs><use xlink:href=\"#DejaVuSans-30\"/><use x=\"63.623047\" xlink:href=\"#DejaVuSans-31\"/></g><use x=\"391.350114\" y=\"284.186256\" stroke=\"#000000\" stroke-width=\".8\" xlink:href=\"#mbd82507d4a\"/><g transform=\"translate(391.93 311.57) rotate(-70) scale(.14 -.14)\"><use xlink:href=\"#DejaVuSans-31\"/><use x=\"63.623047\" xlink:href=\"#DejaVuSans-30\"/></g><path d=\"m54.014 284.19h390.6\" clip-path=\"url(#p98b46e8d1d)\" fill=\"none\" stroke=\"#b0b0b0\" stroke-dasharray=\"2.96,1.28\" stroke-width=\".8\"/><defs><path id=\"m7081580c1e\" d=\"m0 0h-3.5\" stroke=\"#000000\" stroke-width=\".8\"/></defs><use x=\"54.01375\" y=\"284.186256\" stroke=\"#000000\" stroke-width=\".8\" xlink:href=\"#m7081580c1e\"/><g transform=\"translate(24.749 289.51) scale(.14 -.14)\"><defs><path id=\"DejaVuSans-2e\" transform=\"scale(.015625)\" d=\"m684 794h660v-794h-660v794z\"/></defs><use xlink:href=\"#DejaVuSans-30\"/><use x=\"63.623047\" xlink:href=\"#DejaVuSans-2e\"/><use x=\"95.410156\" xlink:href=\"#DejaVuSans-30\"/></g><path d=\"m54.014 216.27h390.6\" clip-path=\"url(#p98b46e8d1d)\" fill=\"none\" stroke=\"#b0b0b0\" stroke-dasharray=\"2.96,1.28\" stroke-width=\".8\"/><use x=\"54.01375\" y=\"216.269419\" stroke=\"#000000\" stroke-width=\".8\" xlink:href=\"#m7081580c1e\"/><g transform=\"translate(24.749 221.59) scale(.14 -.14)\"><defs><path id=\"DejaVuSans-32\" transform=\"scale(.015625)\" d=\"m1228 531h2203v-531h-2962v531q359 372 979 998 621 627 780 809 303 340 423 576 121 236 121 464 0 372-261 606-261 235-680 235-297 0-627-103-329-103-704-313v638q381 153 712 231 332 78 607 78 725 0 1156-363 431-362 431-968 0-288-108-546-107-257-392-607-78-91-497-524-418-433-1181-1211z\"/></defs><use xlink:href=\"#DejaVuSans-30\"/><use x=\"63.623047\" xlink:href=\"#DejaVuSans-2e\"/><use x=\"95.410156\" xlink:href=\"#DejaVuSans-32\"/></g><path d=\"m54.014 148.35h390.6\" clip-path=\"url(#p98b46e8d1d)\" fill=\"none\" stroke=\"#b0b0b0\" stroke-dasharray=\"2.96,1.28\" stroke-width=\".8\"/><use x=\"54.01375\" y=\"148.352581\" stroke=\"#000000\" stroke-width=\".8\" xlink:href=\"#m7081580c1e\"/><g transform=\"translate(24.749 153.67) scale(.14 -.14)\"><defs><path id=\"DejaVuSans-34\" transform=\"scale(.015625)\" d=\"m2419 4116-1594-2491h1594v2491zm-166 550h794v-3041h666v-525h-666v-1100h-628v1100h-2106v609l1940 2957z\"/></defs><use xlink:href=\"#DejaVuSans-30\"/><use x=\"63.623047\" xlink:href=\"#DejaVuSans-2e\"/><use x=\"95.410156\" xlink:href=\"#DejaVuSans-34\"/></g><path d=\"m54.014 80.436h390.6\" clip-path=\"url(#p98b46e8d1d)\" fill=\"none\" stroke=\"#b0b0b0\" stroke-dasharray=\"2.96,1.28\" stroke-width=\".8\"/><use x=\"54.01375\" y=\"80.435744\" stroke=\"#000000\" stroke-width=\".8\" xlink:href=\"#m7081580c1e\"/><g transform=\"translate(24.749 85.755) scale(.14 -.14)\"><defs><path id=\"DejaVuSans-36\" transform=\"scale(.015625)\" d=\"m2113 2584q-425 0-674-291-248-290-248-796 0-503 248-796 249-292 674-292t673 292q248 293 248 796 0 506-248 796-248 291-673 291zm1253 1979v-575q-238 112-480 171-242 60-480 60-625 0-955-422-329-422-376-1275 184 272 462 417 279 145 613 145 703 0 1111-427 408-426 408-1160 0-719-425-1154-425-434-1131-434-810 0-1238 620-428 621-428 1799 0 1106 525 1764t1409 658q238 0 480-47t505-140z\"/></defs><use xlink:href=\"#DejaVuSans-30\"/><use x=\"63.623047\" xlink:href=\"#DejaVuSans-2e\"/><use x=\"95.410156\" xlink:href=\"#DejaVuSans-36\"/></g><path d=\"m54.014 12.519h390.6\" clip-path=\"url(#p98b46e8d1d)\" fill=\"none\" stroke=\"#b0b0b0\" stroke-dasharray=\"2.96,1.28\" stroke-width=\".8\"/><use x=\"54.01375\" y=\"12.518906\" stroke=\"#000000\" stroke-width=\".8\" xlink:href=\"#m7081580c1e\"/><g transform=\"translate(24.749 17.838) scale(.14 -.14)\"><defs><path id=\"DejaVuSans-38\" transform=\"scale(.015625)\" d=\"m2034 2216q-450 0-708-241-257-241-257-662 0-422 257-663 258-241 708-241t709 242q260 243 260 662 0 421-258 662-257 241-711 241zm-631 268q-406 100-633 378-226 279-226 679 0 559 398 884 399 325 1092 325 697 0 1094-325t397-884q0-400-227-679-226-278-629-378 456-106 710-416 255-309 255-755 0-679-414-1042-414-362-1186-362-771 0-1186 362-414 363-414 1042 0 446 256 755 257 310 713 416zm-231 997q0-362 226-565 227-203 636-203 407 0 636 203 230 203 230 565 0 363-230 566-229 203-636 203-409 0-636-203-226-203-226-566z\"/></defs><use xlink:href=\"#DejaVuSans-30\"/><use x=\"63.623047\" xlink:href=\"#DejaVuSans-2e\"/><use x=\"95.410156\" xlink:href=\"#DejaVuSans-38\"/></g><g transform=\"translate(17.838 191.04) rotate(-90) scale(.14 -.14)\"><defs><path id=\"DejaVuSans-50\" transform=\"scale(.015625)\" d=\"m1259 4147v-1753h794q441 0 681 228 241 228 241 650 0 419-241 647-240 228-681 228h-794zm-631 519h1425q785 0 1186-355 402-355 402-1039 0-691-402-1044-401-353-1186-353h-794v-1875h-631v4666z\"/><path id=\"DejaVuSans-72\" transform=\"scale(.015625)\" d=\"m2631 2963q-97 56-211 82-114 27-251 27-488 0-749-317t-261-911v-1844h-578v3500h578v-544q182 319 472 473 291 155 707 155 59 0 131-8 72-7 159-23l3-590z\"/><path id=\"DejaVuSans-6f\" transform=\"scale(.015625)\" d=\"m1959 3097q-462 0-731-361t-269-989 267-989q268-361 733-361 460 0 728 362 269 363 269 988 0 622-269 986-268 364-728 364zm0 487q750 0 1178-488 429-487 429-1349 0-859-429-1349-428-489-1178-489-753 0-1180 489-426 490-426 1349 0 862 426 1349 427 488 1180 488z\"/><path id=\"DejaVuSans-62\" transform=\"scale(.015625)\" d=\"m3116 1747q0 634-261 995t-717 361q-457 0-718-361t-261-995 261-995 718-361q456 0 717 361t261 995zm-1957 1222q182 312 458 463 277 152 661 152 638 0 1036-506 399-506 399-1331t-399-1332q-398-506-1036-506-384 0-661 152-276 152-458 464v-525h-578v4863h578v-1894z\"/><path id=\"DejaVuSans-61\" transform=\"scale(.015625)\" d=\"m2194 1759q-697 0-966-159t-269-544q0-306 202-486 202-179 548-179 479 0 768 339t289 901v128h-572zm1147 238v-1997h-575v531q-197-318-491-470t-719-152q-537 0-855 302-317 302-317 808 0 590 395 890 396 300 1180 300h807v57q0 397-261 614t-733 217q-300 0-585-72-284-72-546-216v532q315 122 612 182 297 61 578 61 760 0 1135-394 375-393 375-1193z\"/><path id=\"DejaVuSans-69\" transform=\"scale(.015625)\" d=\"m603 3500h575v-3500h-575v3500zm0 1363h575v-729h-575v729z\"/><path id=\"DejaVuSans-6c\" transform=\"scale(.015625)\" d=\"m603 4863h575v-4863h-575v4863z\"/><path id=\"DejaVuSans-74\" transform=\"scale(.015625)\" d=\"m1172 4494v-994h1184v-447h-1184v-1900q0-428 117-550t477-122h590v-481h-590q-666 0-919 248-253 249-253 905v1900h-422v447h422v994h578z\"/><path id=\"DejaVuSans-65\" transform=\"scale(.015625)\" d=\"m3597 1894v-281h-2644q38-594 358-905t892-311q331 0 642 81t618 244v-544q-310-131-635-200t-659-69q-838 0-1327 487-489 488-489 1320 0 859 464 1363 464 505 1252 505 706 0 1117-455 411-454 411-1235zm-575 169q-6 471-264 752-258 282-683 282-481 0-770-272t-333-766l2050 4z\"/><path id=\"DejaVuSans-73\" transform=\"scale(.015625)\" d=\"m2834 3397v-544q-243 125-506 187-262 63-544 63-428 0-642-131t-214-394q0-200 153-314t616-217l197-44q612-131 870-370t258-667q0-488-386-773-386-284-1061-284-281 0-586 55t-642 164v594q319-166 628-249 309-82 613-82 406 0 624 139 219 139 219 392 0 234-158 359-157 125-692 241l-200 47q-534 112-772 345-237 233-237 639 0 494 350 762 350 269 994 269 318 0 599-47 282-46 519-140z\"/></defs><use xlink:href=\"#DejaVuSans-50\"/><use x=\"58.552734\" xlink:href=\"#DejaVuSans-72\"/><use x=\"97.416016\" xlink:href=\"#DejaVuSans-6f\"/><use x=\"158.597656\" xlink:href=\"#DejaVuSans-62\"/><use x=\"222.074219\" xlink:href=\"#DejaVuSans-61\"/><use x=\"283.353516\" xlink:href=\"#DejaVuSans-62\"/><use x=\"346.830078\" xlink:href=\"#DejaVuSans-69\"/><use x=\"374.613281\" xlink:href=\"#DejaVuSans-6c\"/><use x=\"402.396484\" xlink:href=\"#DejaVuSans-69\"/><use x=\"430.179688\" xlink:href=\"#DejaVuSans-74\"/><use x=\"469.388672\" xlink:href=\"#DejaVuSans-69\"/><use x=\"497.171875\" xlink:href=\"#DejaVuSans-65\"/><use x=\"558.695312\" xlink:href=\"#DejaVuSans-73\"/></g><path d=\"m71.768 284.19h71.018v-60.356h-71.018z\" clip-path=\"url(#p98b46e8d1d)\" fill=\"#648fff\"/><path d=\"m213.8 284.19h71.018v-52.728h-71.018z\" clip-path=\"url(#p98b46e8d1d)\" fill=\"#648fff\"/><path d=\"m355.84 284.19h71.018v-226.5h-71.018z\" clip-path=\"url(#p98b46e8d1d)\" fill=\"#648fff\"/><path d=\"m54.014 284.19v-271.8\" fill=\"none\" stroke=\"#000000\" stroke-linecap=\"square\" stroke-width=\".8\"/><path d=\"m444.61 284.19v-271.8\" fill=\"none\" stroke=\"#000000\" stroke-linecap=\"square\" stroke-width=\".8\"/><path d=\"m54.014 284.19h390.6\" fill=\"none\" stroke=\"#000000\" stroke-linecap=\"square\" stroke-width=\".8\"/><path d=\"m54.014 12.386h390.6\" fill=\"none\" stroke=\"#000000\" stroke-linecap=\"square\" stroke-width=\".8\"/><g transform=\"translate(92.963 218.73) scale(.1 -.1)\"><defs><path id=\"DejaVuSans-37\" transform=\"scale(.015625)\" d=\"m525 4666h3e3v-269l-1694-4397h-659l1594 4134h-2241v532z\"/></defs><use xlink:href=\"#DejaVuSans-30\"/><use x=\"63.623047\" xlink:href=\"#DejaVuSans-2e\"/><use x=\"95.410156\" xlink:href=\"#DejaVuSans-31\"/><use x=\"159.033203\" xlink:href=\"#DejaVuSans-37\"/><use x=\"222.65625\" xlink:href=\"#DejaVuSans-38\"/></g><g transform=\"translate(235 226.74) scale(.1 -.1)\"><defs><path id=\"DejaVuSans-35\" transform=\"scale(.015625)\" d=\"m691 4666h2478v-532h-1900v-1143q137 47 274 70 138 23 276 23 781 0 1237-428 457-428 457-1159 0-753-469-1171-469-417-1322-417-294 0-599 50-304 50-629 150v635q281-153 581-228t634-75q541 0 856 284 316 284 316 772 0 487-316 771-315 285-856 285-253 0-505-56-251-56-513-175v2344z\"/></defs><use xlink:href=\"#DejaVuSans-30\"/><use x=\"63.623047\" xlink:href=\"#DejaVuSans-2e\"/><use x=\"95.410156\" xlink:href=\"#DejaVuSans-31\"/><use x=\"159.033203\" xlink:href=\"#DejaVuSans-35\"/><use x=\"222.65625\" xlink:href=\"#DejaVuSans-35\"/></g><g transform=\"translate(377.04 44.282) scale(.1 -.1)\"><use xlink:href=\"#DejaVuSans-30\"/><use x=\"63.623047\" xlink:href=\"#DejaVuSans-2e\"/><use x=\"95.410156\" xlink:href=\"#DejaVuSans-36\"/><use x=\"159.033203\" xlink:href=\"#DejaVuSans-36\"/><use x=\"222.65625\" xlink:href=\"#DejaVuSans-37\"/></g><defs><clipPath id=\"p98b46e8d1d\"><rect x=\"54.014\" y=\"12.386\" width=\"390.6\" height=\"271.8\"/></clipPath></defs></svg>"
            ],
            "text/plain": [
              "<Figure size 504x360 with 1 Axes>"
            ]
          },
          "execution_count": 35,
          "metadata": {
          },
          "output_type": "execute_result"
        }
      ],
      "source": [
        "meas_zx = QuantumCircuit(2,2)\n",
        "meas_zx.h(0)\n",
        "meas_zx.measure([0,1],[0,1])\n",
        "\n",
        "print('Results for a z and an x measurement:')\n",
        "counts = backend.run(qc_charlie.compose(meas_zx)).result().get_counts()\n",
        "plot_histogram(counts)"
      ]
    },
    {
      "cell_type": "markdown",
      "id": "cf1070b3",
      "metadata": {
      },
      "source": [
        "Nesse caso, descobrimos que os qubits nunca produzem `1` . O mesmo acontece quando Bob faz a medida z e Alice faz a medida x."
      ]
    },
    {
      "cell_type": "code",
      "execution_count": 36,
      "id": "3892d57c",
      "metadata": {
        "scrolled": false
      },
      "outputs": [
        {
          "name": "stdout",
          "output_type": "stream",
          "text": [
            "Results for a z and an x measurement:\n"
          ]
        },
        {
          "data": {
            "image/svg+xml": [
              "<?xml version=\"1.0\" encoding=\"UTF-8\"?><!DOCTYPE svg  PUBLIC '-//W3C//DTD SVG 1.1//EN'  'http://www.w3.org/Graphics/SVG/1.1/DTD/svg11.dtd'><svg width=\"451.81pt\" height=\"314.57pt\" version=\"1.1\" viewBox=\"0 0 451.81 314.57\" xmlns=\"http://www.w3.org/2000/svg\" xmlns:xlink=\"http://www.w3.org/1999/xlink\"><defs><style type=\"text/css\">*{stroke-linecap:butt;stroke-linejoin:round;}</style></defs><path d=\"m0 314.57h451.81v-314.57h-451.81z\" fill=\"none\"/><path d=\"m54.014 279h390.6v-271.8h-390.6z\" fill=\"#ffffff\"/><defs><path id=\"m0ea5a52874\" d=\"m0 0v3.5\" stroke=\"#000000\" stroke-width=\".8\"/></defs><use x=\"107.277386\" y=\"279\" stroke=\"#000000\" stroke-width=\".8\" xlink:href=\"#m0ea5a52874\"/><g transform=\"translate(107.86 306.38) rotate(-70) scale(.14 -.14)\"><defs><path id=\"DejaVuSans-30\" transform=\"scale(.015625)\" d=\"m2034 4250q-487 0-733-480-245-479-245-1442 0-959 245-1439 246-480 733-480 491 0 736 480 246 480 246 1439 0 963-246 1442-245 480-736 480zm0 500q785 0 1199-621 414-620 414-1801 0-1178-414-1799-414-620-1199-620-784 0-1198 620-414 621-414 1799 0 1181 414 1801 414 621 1198 621z\"/></defs><use xlink:href=\"#DejaVuSans-30\"/><use x=\"63.623047\" xlink:href=\"#DejaVuSans-30\"/></g><use x=\"249.31375\" y=\"279\" stroke=\"#000000\" stroke-width=\".8\" xlink:href=\"#m0ea5a52874\"/><g transform=\"translate(249.9 306.38) rotate(-70) scale(.14 -.14)\"><defs><path id=\"DejaVuSans-31\" transform=\"scale(.015625)\" d=\"m794 531h1031v3560l-1122-225v575l1116 225h631v-4135h1031v-531h-2687v531z\"/></defs><use xlink:href=\"#DejaVuSans-30\"/><use x=\"63.623047\" xlink:href=\"#DejaVuSans-31\"/></g><use x=\"391.350114\" y=\"279\" stroke=\"#000000\" stroke-width=\".8\" xlink:href=\"#m0ea5a52874\"/><g transform=\"translate(391.93 306.38) rotate(-70) scale(.14 -.14)\"><use xlink:href=\"#DejaVuSans-31\"/><use x=\"63.623047\" xlink:href=\"#DejaVuSans-30\"/></g><path d=\"m54.014 279h390.6\" clip-path=\"url(#p4c6d04bdeb)\" fill=\"none\" stroke=\"#b0b0b0\" stroke-dasharray=\"2.96,1.28\" stroke-width=\".8\"/><defs><path id=\"mf65109dced\" d=\"m0 0h-3.5\" stroke=\"#000000\" stroke-width=\".8\"/></defs><use x=\"54.01375\" y=\"279\" stroke=\"#000000\" stroke-width=\".8\" xlink:href=\"#mf65109dced\"/><g transform=\"translate(24.749 284.32) scale(.14 -.14)\"><defs><path id=\"DejaVuSans-2e\" transform=\"scale(.015625)\" d=\"m684 794h660v-794h-660v794z\"/></defs><use xlink:href=\"#DejaVuSans-30\"/><use x=\"63.623047\" xlink:href=\"#DejaVuSans-2e\"/><use x=\"95.410156\" xlink:href=\"#DejaVuSans-30\"/></g><path d=\"m54.014 210.88h390.6\" clip-path=\"url(#p4c6d04bdeb)\" fill=\"none\" stroke=\"#b0b0b0\" stroke-dasharray=\"2.96,1.28\" stroke-width=\".8\"/><use x=\"54.01375\" y=\"210.8837\" stroke=\"#000000\" stroke-width=\".8\" xlink:href=\"#mf65109dced\"/><g transform=\"translate(24.749 216.2) scale(.14 -.14)\"><defs><path id=\"DejaVuSans-32\" transform=\"scale(.015625)\" d=\"m1228 531h2203v-531h-2962v531q359 372 979 998 621 627 780 809 303 340 423 576 121 236 121 464 0 372-261 606-261 235-680 235-297 0-627-103-329-103-704-313v638q381 153 712 231 332 78 607 78 725 0 1156-363 431-362 431-968 0-288-108-546-107-257-392-607-78-91-497-524-418-433-1181-1211z\"/></defs><use xlink:href=\"#DejaVuSans-30\"/><use x=\"63.623047\" xlink:href=\"#DejaVuSans-2e\"/><use x=\"95.410156\" xlink:href=\"#DejaVuSans-32\"/></g><path d=\"m54.014 142.77h390.6\" clip-path=\"url(#p4c6d04bdeb)\" fill=\"none\" stroke=\"#b0b0b0\" stroke-dasharray=\"2.96,1.28\" stroke-width=\".8\"/><use x=\"54.01375\" y=\"142.767401\" stroke=\"#000000\" stroke-width=\".8\" xlink:href=\"#mf65109dced\"/><g transform=\"translate(24.749 148.09) scale(.14 -.14)\"><defs><path id=\"DejaVuSans-34\" transform=\"scale(.015625)\" d=\"m2419 4116-1594-2491h1594v2491zm-166 550h794v-3041h666v-525h-666v-1100h-628v1100h-2106v609l1940 2957z\"/></defs><use xlink:href=\"#DejaVuSans-30\"/><use x=\"63.623047\" xlink:href=\"#DejaVuSans-2e\"/><use x=\"95.410156\" xlink:href=\"#DejaVuSans-34\"/></g><path d=\"m54.014 74.651h390.6\" clip-path=\"url(#p4c6d04bdeb)\" fill=\"none\" stroke=\"#b0b0b0\" stroke-dasharray=\"2.96,1.28\" stroke-width=\".8\"/><use x=\"54.01375\" y=\"74.651101\" stroke=\"#000000\" stroke-width=\".8\" xlink:href=\"#mf65109dced\"/><g transform=\"translate(24.749 79.97) scale(.14 -.14)\"><defs><path id=\"DejaVuSans-36\" transform=\"scale(.015625)\" d=\"m2113 2584q-425 0-674-291-248-290-248-796 0-503 248-796 249-292 674-292t673 292q248 293 248 796 0 506-248 796-248 291-673 291zm1253 1979v-575q-238 112-480 171-242 60-480 60-625 0-955-422-329-422-376-1275 184 272 462 417 279 145 613 145 703 0 1111-427 408-426 408-1160 0-719-425-1154-425-434-1131-434-810 0-1238 620-428 621-428 1799 0 1106 525 1764t1409 658q238 0 480-47t505-140z\"/></defs><use xlink:href=\"#DejaVuSans-30\"/><use x=\"63.623047\" xlink:href=\"#DejaVuSans-2e\"/><use x=\"95.410156\" xlink:href=\"#DejaVuSans-36\"/></g><g transform=\"translate(17.838 185.86) rotate(-90) scale(.14 -.14)\"><defs><path id=\"DejaVuSans-50\" transform=\"scale(.015625)\" d=\"m1259 4147v-1753h794q441 0 681 228 241 228 241 650 0 419-241 647-240 228-681 228h-794zm-631 519h1425q785 0 1186-355 402-355 402-1039 0-691-402-1044-401-353-1186-353h-794v-1875h-631v4666z\"/><path id=\"DejaVuSans-72\" transform=\"scale(.015625)\" d=\"m2631 2963q-97 56-211 82-114 27-251 27-488 0-749-317t-261-911v-1844h-578v3500h578v-544q182 319 472 473 291 155 707 155 59 0 131-8 72-7 159-23l3-590z\"/><path id=\"DejaVuSans-6f\" transform=\"scale(.015625)\" d=\"m1959 3097q-462 0-731-361t-269-989 267-989q268-361 733-361 460 0 728 362 269 363 269 988 0 622-269 986-268 364-728 364zm0 487q750 0 1178-488 429-487 429-1349 0-859-429-1349-428-489-1178-489-753 0-1180 489-426 490-426 1349 0 862 426 1349 427 488 1180 488z\"/><path id=\"DejaVuSans-62\" transform=\"scale(.015625)\" d=\"m3116 1747q0 634-261 995t-717 361q-457 0-718-361t-261-995 261-995 718-361q456 0 717 361t261 995zm-1957 1222q182 312 458 463 277 152 661 152 638 0 1036-506 399-506 399-1331t-399-1332q-398-506-1036-506-384 0-661 152-276 152-458 464v-525h-578v4863h578v-1894z\"/><path id=\"DejaVuSans-61\" transform=\"scale(.015625)\" d=\"m2194 1759q-697 0-966-159t-269-544q0-306 202-486 202-179 548-179 479 0 768 339t289 901v128h-572zm1147 238v-1997h-575v531q-197-318-491-470t-719-152q-537 0-855 302-317 302-317 808 0 590 395 890 396 300 1180 300h807v57q0 397-261 614t-733 217q-300 0-585-72-284-72-546-216v532q315 122 612 182 297 61 578 61 760 0 1135-394 375-393 375-1193z\"/><path id=\"DejaVuSans-69\" transform=\"scale(.015625)\" d=\"m603 3500h575v-3500h-575v3500zm0 1363h575v-729h-575v729z\"/><path id=\"DejaVuSans-6c\" transform=\"scale(.015625)\" d=\"m603 4863h575v-4863h-575v4863z\"/><path id=\"DejaVuSans-74\" transform=\"scale(.015625)\" d=\"m1172 4494v-994h1184v-447h-1184v-1900q0-428 117-550t477-122h590v-481h-590q-666 0-919 248-253 249-253 905v1900h-422v447h422v994h578z\"/><path id=\"DejaVuSans-65\" transform=\"scale(.015625)\" d=\"m3597 1894v-281h-2644q38-594 358-905t892-311q331 0 642 81t618 244v-544q-310-131-635-200t-659-69q-838 0-1327 487-489 488-489 1320 0 859 464 1363 464 505 1252 505 706 0 1117-455 411-454 411-1235zm-575 169q-6 471-264 752-258 282-683 282-481 0-770-272t-333-766l2050 4z\"/><path id=\"DejaVuSans-73\" transform=\"scale(.015625)\" d=\"m2834 3397v-544q-243 125-506 187-262 63-544 63-428 0-642-131t-214-394q0-200 153-314t616-217l197-44q612-131 870-370t258-667q0-488-386-773-386-284-1061-284-281 0-586 55t-642 164v594q319-166 628-249 309-82 613-82 406 0 624 139 219 139 219 392 0 234-158 359-157 125-692 241l-200 47q-534 112-772 345-237 233-237 639 0 494 350 762 350 269 994 269 318 0 599-47 282-46 519-140z\"/></defs><use xlink:href=\"#DejaVuSans-50\"/><use x=\"58.552734\" xlink:href=\"#DejaVuSans-72\"/><use x=\"97.416016\" xlink:href=\"#DejaVuSans-6f\"/><use x=\"158.597656\" xlink:href=\"#DejaVuSans-62\"/><use x=\"222.074219\" xlink:href=\"#DejaVuSans-61\"/><use x=\"283.353516\" xlink:href=\"#DejaVuSans-62\"/><use x=\"346.830078\" xlink:href=\"#DejaVuSans-69\"/><use x=\"374.613281\" xlink:href=\"#DejaVuSans-6c\"/><use x=\"402.396484\" xlink:href=\"#DejaVuSans-69\"/><use x=\"430.179688\" xlink:href=\"#DejaVuSans-74\"/><use x=\"469.388672\" xlink:href=\"#DejaVuSans-69\"/><use x=\"497.171875\" xlink:href=\"#DejaVuSans-65\"/><use x=\"558.695312\" xlink:href=\"#DejaVuSans-73\"/></g><path d=\"m71.768 279h71.018v-56.542h-71.018z\" clip-path=\"url(#p4c6d04bdeb)\" fill=\"#648fff\"/><path d=\"m213.8 279h71.018v-57.54h-71.018z\" clip-path=\"url(#p4c6d04bdeb)\" fill=\"#648fff\"/><path d=\"m355.84 279h71.018v-226.5h-71.018z\" clip-path=\"url(#p4c6d04bdeb)\" fill=\"#648fff\"/><path d=\"m54.014 279v-271.8\" fill=\"none\" stroke=\"#000000\" stroke-linecap=\"square\" stroke-width=\".8\"/><path d=\"m444.61 279v-271.8\" fill=\"none\" stroke=\"#000000\" stroke-linecap=\"square\" stroke-width=\".8\"/><path d=\"m54.014 279h390.6\" fill=\"none\" stroke=\"#000000\" stroke-linecap=\"square\" stroke-width=\".8\"/><path d=\"m54.014 7.2h390.6\" fill=\"none\" stroke=\"#000000\" stroke-linecap=\"square\" stroke-width=\".8\"/><g transform=\"translate(92.963 217.55) scale(.1 -.1)\"><use xlink:href=\"#DejaVuSans-30\"/><use x=\"63.623047\" xlink:href=\"#DejaVuSans-2e\"/><use x=\"95.410156\" xlink:href=\"#DejaVuSans-31\"/><use x=\"159.033203\" xlink:href=\"#DejaVuSans-36\"/><use x=\"222.65625\" xlink:href=\"#DejaVuSans-36\"/></g><g transform=\"translate(235 216.5) scale(.1 -.1)\"><defs><path id=\"DejaVuSans-39\" transform=\"scale(.015625)\" d=\"m703 97v575q238-113 481-172 244-59 479-59 625 0 954 420 330 420 377 1277-181-269-460-413-278-144-615-144-700 0-1108 423-408 424-408 1159 0 718 425 1152 425 435 1131 435 810 0 1236-621 427-620 427-1801 0-1103-524-1761-523-658-1407-658-238 0-482 47-243 47-506 141zm1256 1978q425 0 673 290 249 291 249 798 0 503-249 795-248 292-673 292t-673-292-248-795q0-507 248-798 248-290 673-290z\"/></defs><use xlink:href=\"#DejaVuSans-30\"/><use x=\"63.623047\" xlink:href=\"#DejaVuSans-2e\"/><use x=\"95.410156\" xlink:href=\"#DejaVuSans-31\"/><use x=\"159.033203\" xlink:href=\"#DejaVuSans-36\"/><use x=\"222.65625\" xlink:href=\"#DejaVuSans-39\"/></g><g transform=\"translate(377.04 39.095) scale(.1 -.1)\"><defs><path id=\"DejaVuSans-35\" transform=\"scale(.015625)\" d=\"m691 4666h2478v-532h-1900v-1143q137 47 274 70 138 23 276 23 781 0 1237-428 457-428 457-1159 0-753-469-1171-469-417-1322-417-294 0-599 50-304 50-629 150v635q281-153 581-228t634-75q541 0 856 284 316 284 316 772 0 487-316 771-315 285-856 285-253 0-505-56-251-56-513-175v2344z\"/></defs><use xlink:href=\"#DejaVuSans-30\"/><use x=\"63.623047\" xlink:href=\"#DejaVuSans-2e\"/><use x=\"95.410156\" xlink:href=\"#DejaVuSans-36\"/><use x=\"159.033203\" xlink:href=\"#DejaVuSans-36\"/><use x=\"222.65625\" xlink:href=\"#DejaVuSans-35\"/></g><defs><clipPath id=\"p4c6d04bdeb\"><rect x=\"54.014\" y=\"7.2\" width=\"390.6\" height=\"271.8\"/></clipPath></defs></svg>"
            ],
            "text/plain": [
              "<Figure size 504x360 with 1 Axes>"
            ]
          },
          "execution_count": 36,
          "metadata": {
          },
          "output_type": "execute_result"
        }
      ],
      "source": [
        "meas_xz = QuantumCircuit(2,2)\n",
        "meas_xz.h(1)\n",
        "meas_xz.measure([0,1],[0,1])\n",
        "\n",
        "print('Results for an x and a z measurement:')\n",
        "counts = backend.run(qc_charlie.compose(meas_xz)).result().get_counts()\n",
        "plot_histogram(counts)"
      ]
    },
    {
      "cell_type": "markdown",
      "id": "dbd51219",
      "metadata": {
      },
      "source": [
        "Com essas informações, Alice e Bob podem começar a especular sobre o que aconteceria se ambos realizassem uma medida x.\n",
        "\n",
        "Eles podem resumir seus resultados até agora nas duas observações a seguir:\n",
        "\n",
        "1. Se as medidas z forem feitas em ambos os qubits, eles nunca produzirão `0` ;\n",
        "2. Se uma medida x de um qubit produzir `1` , a medida z do outro produzirá `0` (porque o resultado `11` nunca ocorre nesses casos).\n",
        "\n",
        "Estes correspondem exatamente às observações feitas para as formas coloridas no cenário clássico. Se aplicarmos a mesma lógica que fizemos nesse caso, podemos analisar o caso em que Alice e Bob fazem uma medida x e ambos obtêm o resultado `1` . Bob poderia então aplicar a observação 2 e inferir que, Alice certamente teria obtido um `0` se ela tivesse feito uma medida z. Alice pode fazer o mesmo, deduzindo que Bob teria obtido um `1` se tivesse feito uma medida z. Então, juntos, eles concluem que, se ambos tivessem feito medidas z, ambos teriam obtido a saída `0` . Como a observação 1 nos mostra que tal resultado seria impossível, Alice e Bob poderiam prever que o resultado `11` nunca ocorreria.\n",
        "\n",
        "Então vamos ver se eles estariam certos."
      ]
    },
    {
      "cell_type": "code",
      "execution_count": 37,
      "id": "8005eb57",
      "metadata": {
      },
      "outputs": [
        {
          "name": "stdout",
          "output_type": "stream",
          "text": [
            "Results for a z and an x measurement:\n"
          ]
        },
        {
          "data": {
            "image/svg+xml": [
              "<?xml version=\"1.0\" encoding=\"UTF-8\"?><!DOCTYPE svg  PUBLIC '-//W3C//DTD SVG 1.1//EN'  'http://www.w3.org/Graphics/SVG/1.1/DTD/svg11.dtd'><svg width=\"451.81pt\" height=\"314.57pt\" version=\"1.1\" viewBox=\"0 0 451.81 314.57\" xmlns=\"http://www.w3.org/2000/svg\" xmlns:xlink=\"http://www.w3.org/1999/xlink\"><defs><style type=\"text/css\">*{stroke-linecap:butt;stroke-linejoin:round;}</style></defs><path d=\"m0 314.57h451.81v-314.57h-451.81z\" fill=\"none\"/><path d=\"m54.014 279h390.6v-271.8h-390.6z\" fill=\"#ffffff\"/><defs><path id=\"maa1bbeffba\" d=\"m0 0v3.5\" stroke=\"#000000\" stroke-width=\".8\"/></defs><use x=\"97.131932\" y=\"279\" stroke=\"#000000\" stroke-width=\".8\" xlink:href=\"#maa1bbeffba\"/><g transform=\"translate(97.716 306.38) rotate(-70) scale(.14 -.14)\"><defs><path id=\"DejaVuSans-30\" transform=\"scale(.015625)\" d=\"m2034 4250q-487 0-733-480-245-479-245-1442 0-959 245-1439 246-480 733-480 491 0 736 480 246 480 246 1439 0 963-246 1442-245 480-736 480zm0 500q785 0 1199-621 414-620 414-1801 0-1178-414-1799-414-620-1199-620-784 0-1198 620-414 621-414 1799 0 1181 414 1801 414 621 1198 621z\"/></defs><use xlink:href=\"#DejaVuSans-30\"/><use x=\"63.623047\" xlink:href=\"#DejaVuSans-30\"/></g><use x=\"198.586477\" y=\"279\" stroke=\"#000000\" stroke-width=\".8\" xlink:href=\"#maa1bbeffba\"/><g transform=\"translate(199.17 306.38) rotate(-70) scale(.14 -.14)\"><defs><path id=\"DejaVuSans-31\" transform=\"scale(.015625)\" d=\"m794 531h1031v3560l-1122-225v575l1116 225h631v-4135h1031v-531h-2687v531z\"/></defs><use xlink:href=\"#DejaVuSans-30\"/><use x=\"63.623047\" xlink:href=\"#DejaVuSans-31\"/></g><use x=\"300.041023\" y=\"279\" stroke=\"#000000\" stroke-width=\".8\" xlink:href=\"#maa1bbeffba\"/><g transform=\"translate(300.62 306.38) rotate(-70) scale(.14 -.14)\"><use xlink:href=\"#DejaVuSans-31\"/><use x=\"63.623047\" xlink:href=\"#DejaVuSans-30\"/></g><use x=\"401.495568\" y=\"279\" stroke=\"#000000\" stroke-width=\".8\" xlink:href=\"#maa1bbeffba\"/><g transform=\"translate(402.08 306.38) rotate(-70) scale(.14 -.14)\"><use xlink:href=\"#DejaVuSans-31\"/><use x=\"63.623047\" xlink:href=\"#DejaVuSans-31\"/></g><path d=\"m54.014 279h390.6\" clip-path=\"url(#p829939d965)\" fill=\"none\" stroke=\"#b0b0b0\" stroke-dasharray=\"2.96,1.28\" stroke-width=\".8\"/><defs><path id=\"me40ae19893\" d=\"m0 0h-3.5\" stroke=\"#000000\" stroke-width=\".8\"/></defs><use x=\"54.01375\" y=\"279\" stroke=\"#000000\" stroke-width=\".8\" xlink:href=\"#me40ae19893\"/><g transform=\"translate(24.749 284.32) scale(.14 -.14)\"><defs><path id=\"DejaVuSans-2e\" transform=\"scale(.015625)\" d=\"m684 794h660v-794h-660v794z\"/></defs><use xlink:href=\"#DejaVuSans-30\"/><use x=\"63.623047\" xlink:href=\"#DejaVuSans-2e\"/><use x=\"95.410156\" xlink:href=\"#DejaVuSans-30\"/></g><path d=\"m54.014 217.31h390.6\" clip-path=\"url(#p829939d965)\" fill=\"none\" stroke=\"#b0b0b0\" stroke-dasharray=\"2.96,1.28\" stroke-width=\".8\"/><use x=\"54.01375\" y=\"217.314894\" stroke=\"#000000\" stroke-width=\".8\" xlink:href=\"#me40ae19893\"/><g transform=\"translate(24.749 222.63) scale(.14 -.14)\"><defs><path id=\"DejaVuSans-32\" transform=\"scale(.015625)\" d=\"m1228 531h2203v-531h-2962v531q359 372 979 998 621 627 780 809 303 340 423 576 121 236 121 464 0 372-261 606-261 235-680 235-297 0-627-103-329-103-704-313v638q381 153 712 231 332 78 607 78 725 0 1156-363 431-362 431-968 0-288-108-546-107-257-392-607-78-91-497-524-418-433-1181-1211z\"/></defs><use xlink:href=\"#DejaVuSans-30\"/><use x=\"63.623047\" xlink:href=\"#DejaVuSans-2e\"/><use x=\"95.410156\" xlink:href=\"#DejaVuSans-32\"/></g><path d=\"m54.014 155.63h390.6\" clip-path=\"url(#p829939d965)\" fill=\"none\" stroke=\"#b0b0b0\" stroke-dasharray=\"2.96,1.28\" stroke-width=\".8\"/><use x=\"54.01375\" y=\"155.629787\" stroke=\"#000000\" stroke-width=\".8\" xlink:href=\"#me40ae19893\"/><g transform=\"translate(24.749 160.95) scale(.14 -.14)\"><defs><path id=\"DejaVuSans-34\" transform=\"scale(.015625)\" d=\"m2419 4116-1594-2491h1594v2491zm-166 550h794v-3041h666v-525h-666v-1100h-628v1100h-2106v609l1940 2957z\"/></defs><use xlink:href=\"#DejaVuSans-30\"/><use x=\"63.623047\" xlink:href=\"#DejaVuSans-2e\"/><use x=\"95.410156\" xlink:href=\"#DejaVuSans-34\"/></g><path d=\"m54.014 93.945h390.6\" clip-path=\"url(#p829939d965)\" fill=\"none\" stroke=\"#b0b0b0\" stroke-dasharray=\"2.96,1.28\" stroke-width=\".8\"/><use x=\"54.01375\" y=\"93.944681\" stroke=\"#000000\" stroke-width=\".8\" xlink:href=\"#me40ae19893\"/><g transform=\"translate(24.749 99.264) scale(.14 -.14)\"><defs><path id=\"DejaVuSans-36\" transform=\"scale(.015625)\" d=\"m2113 2584q-425 0-674-291-248-290-248-796 0-503 248-796 249-292 674-292t673 292q248 293 248 796 0 506-248 796-248 291-673 291zm1253 1979v-575q-238 112-480 171-242 60-480 60-625 0-955-422-329-422-376-1275 184 272 462 417 279 145 613 145 703 0 1111-427 408-426 408-1160 0-719-425-1154-425-434-1131-434-810 0-1238 620-428 621-428 1799 0 1106 525 1764t1409 658q238 0 480-47t505-140z\"/></defs><use xlink:href=\"#DejaVuSans-30\"/><use x=\"63.623047\" xlink:href=\"#DejaVuSans-2e\"/><use x=\"95.410156\" xlink:href=\"#DejaVuSans-36\"/></g><path d=\"m54.014 32.26h390.6\" clip-path=\"url(#p829939d965)\" fill=\"none\" stroke=\"#b0b0b0\" stroke-dasharray=\"2.96,1.28\" stroke-width=\".8\"/><use x=\"54.01375\" y=\"32.259574\" stroke=\"#000000\" stroke-width=\".8\" xlink:href=\"#me40ae19893\"/><g transform=\"translate(24.749 37.578) scale(.14 -.14)\"><defs><path id=\"DejaVuSans-38\" transform=\"scale(.015625)\" d=\"m2034 2216q-450 0-708-241-257-241-257-662 0-422 257-663 258-241 708-241t709 242q260 243 260 662 0 421-258 662-257 241-711 241zm-631 268q-406 100-633 378-226 279-226 679 0 559 398 884 399 325 1092 325 697 0 1094-325t397-884q0-400-227-679-226-278-629-378 456-106 710-416 255-309 255-755 0-679-414-1042-414-362-1186-362-771 0-1186 362-414 363-414 1042 0 446 256 755 257 310 713 416zm-231 997q0-362 226-565 227-203 636-203 407 0 636 203 230 203 230 565 0 363-230 566-229 203-636 203-409 0-636-203-226-203-226-566z\"/></defs><use xlink:href=\"#DejaVuSans-30\"/><use x=\"63.623047\" xlink:href=\"#DejaVuSans-2e\"/><use x=\"95.410156\" xlink:href=\"#DejaVuSans-38\"/></g><g transform=\"translate(17.838 185.86) rotate(-90) scale(.14 -.14)\"><defs><path id=\"DejaVuSans-50\" transform=\"scale(.015625)\" d=\"m1259 4147v-1753h794q441 0 681 228 241 228 241 650 0 419-241 647-240 228-681 228h-794zm-631 519h1425q785 0 1186-355 402-355 402-1039 0-691-402-1044-401-353-1186-353h-794v-1875h-631v4666z\"/><path id=\"DejaVuSans-72\" transform=\"scale(.015625)\" d=\"m2631 2963q-97 56-211 82-114 27-251 27-488 0-749-317t-261-911v-1844h-578v3500h578v-544q182 319 472 473 291 155 707 155 59 0 131-8 72-7 159-23l3-590z\"/><path id=\"DejaVuSans-6f\" transform=\"scale(.015625)\" d=\"m1959 3097q-462 0-731-361t-269-989 267-989q268-361 733-361 460 0 728 362 269 363 269 988 0 622-269 986-268 364-728 364zm0 487q750 0 1178-488 429-487 429-1349 0-859-429-1349-428-489-1178-489-753 0-1180 489-426 490-426 1349 0 862 426 1349 427 488 1180 488z\"/><path id=\"DejaVuSans-62\" transform=\"scale(.015625)\" d=\"m3116 1747q0 634-261 995t-717 361q-457 0-718-361t-261-995 261-995 718-361q456 0 717 361t261 995zm-1957 1222q182 312 458 463 277 152 661 152 638 0 1036-506 399-506 399-1331t-399-1332q-398-506-1036-506-384 0-661 152-276 152-458 464v-525h-578v4863h578v-1894z\"/><path id=\"DejaVuSans-61\" transform=\"scale(.015625)\" d=\"m2194 1759q-697 0-966-159t-269-544q0-306 202-486 202-179 548-179 479 0 768 339t289 901v128h-572zm1147 238v-1997h-575v531q-197-318-491-470t-719-152q-537 0-855 302-317 302-317 808 0 590 395 890 396 300 1180 300h807v57q0 397-261 614t-733 217q-300 0-585-72-284-72-546-216v532q315 122 612 182 297 61 578 61 760 0 1135-394 375-393 375-1193z\"/><path id=\"DejaVuSans-69\" transform=\"scale(.015625)\" d=\"m603 3500h575v-3500h-575v3500zm0 1363h575v-729h-575v729z\"/><path id=\"DejaVuSans-6c\" transform=\"scale(.015625)\" d=\"m603 4863h575v-4863h-575v4863z\"/><path id=\"DejaVuSans-74\" transform=\"scale(.015625)\" d=\"m1172 4494v-994h1184v-447h-1184v-1900q0-428 117-550t477-122h590v-481h-590q-666 0-919 248-253 249-253 905v1900h-422v447h422v994h578z\"/><path id=\"DejaVuSans-65\" transform=\"scale(.015625)\" d=\"m3597 1894v-281h-2644q38-594 358-905t892-311q331 0 642 81t618 244v-544q-310-131-635-200t-659-69q-838 0-1327 487-489 488-489 1320 0 859 464 1363 464 505 1252 505 706 0 1117-455 411-454 411-1235zm-575 169q-6 471-264 752-258 282-683 282-481 0-770-272t-333-766l2050 4z\"/><path id=\"DejaVuSans-73\" transform=\"scale(.015625)\" d=\"m2834 3397v-544q-243 125-506 187-262 63-544 63-428 0-642-131t-214-394q0-200 153-314t616-217l197-44q612-131 870-370t258-667q0-488-386-773-386-284-1061-284-281 0-586 55t-642 164v594q319-166 628-249 309-82 613-82 406 0 624 139 219 139 219 392 0 234-158 359-157 125-692 241l-200 47q-534 112-772 345-237 233-237 639 0 494 350 762 350 269 994 269 318 0 599-47 282-46 519-140z\"/></defs><use xlink:href=\"#DejaVuSans-50\"/><use x=\"58.552734\" xlink:href=\"#DejaVuSans-72\"/><use x=\"97.416016\" xlink:href=\"#DejaVuSans-6f\"/><use x=\"158.597656\" xlink:href=\"#DejaVuSans-62\"/><use x=\"222.074219\" xlink:href=\"#DejaVuSans-61\"/><use x=\"283.353516\" xlink:href=\"#DejaVuSans-62\"/><use x=\"346.830078\" xlink:href=\"#DejaVuSans-69\"/><use x=\"374.613281\" xlink:href=\"#DejaVuSans-6c\"/><use x=\"402.396484\" xlink:href=\"#DejaVuSans-69\"/><use x=\"430.179688\" xlink:href=\"#DejaVuSans-74\"/><use x=\"469.388672\" xlink:href=\"#DejaVuSans-69\"/><use x=\"497.171875\" xlink:href=\"#DejaVuSans-65\"/><use x=\"558.695312\" xlink:href=\"#DejaVuSans-73\"/></g><path d=\"m71.768 279h50.727v-226.5h-50.727z\" clip-path=\"url(#p829939d965)\" fill=\"#648fff\"/><path d=\"m173.22 279h50.727v-28.915h-50.727z\" clip-path=\"url(#p829939d965)\" fill=\"#648fff\"/><path d=\"m274.68 279h50.727v-24.397h-50.727z\" clip-path=\"url(#p829939d965)\" fill=\"#648fff\"/><path d=\"m376.13 279h50.727v-28.614h-50.727z\" clip-path=\"url(#p829939d965)\" fill=\"#648fff\"/><path d=\"m54.014 279v-271.8\" fill=\"none\" stroke=\"#000000\" stroke-linecap=\"square\" stroke-width=\".8\"/><path d=\"m444.61 279v-271.8\" fill=\"none\" stroke=\"#000000\" stroke-linecap=\"square\" stroke-width=\".8\"/><path d=\"m54.014 279h390.6\" fill=\"none\" stroke=\"#000000\" stroke-linecap=\"square\" stroke-width=\".8\"/><path d=\"m54.014 7.2h390.6\" fill=\"none\" stroke=\"#000000\" stroke-linecap=\"square\" stroke-width=\".8\"/><g transform=\"translate(82.818 39.095) scale(.1 -.1)\"><defs><path id=\"DejaVuSans-37\" transform=\"scale(.015625)\" d=\"m525 4666h3e3v-269l-1694-4397h-659l1594 4134h-2241v532z\"/><path id=\"DejaVuSans-33\" transform=\"scale(.015625)\" d=\"m2597 2516q453-97 707-404 255-306 255-756 0-690-475-1069-475-378-1350-378-293 0-604 58t-642 174v609q262-153 574-231 313-78 654-78 593 0 904 234t311 681q0 413-289 645-289 233-804 233h-544v519h569q465 0 712 186t247 536q0 359-255 551-254 193-729 193-260 0-557-57-297-56-653-174v562q360 100 674 150t592 50q719 0 1137-327 419-326 419-882 0-388-222-655t-631-370z\"/></defs><use xlink:href=\"#DejaVuSans-30\"/><use x=\"63.623047\" xlink:href=\"#DejaVuSans-2e\"/><use x=\"95.410156\" xlink:href=\"#DejaVuSans-37\"/><use x=\"159.033203\" xlink:href=\"#DejaVuSans-33\"/><use x=\"222.65625\" xlink:href=\"#DejaVuSans-34\"/></g><g transform=\"translate(184.27 246.56) scale(.1 -.1)\"><defs><path id=\"DejaVuSans-39\" transform=\"scale(.015625)\" d=\"m703 97v575q238-113 481-172 244-59 479-59 625 0 954 420 330 420 377 1277-181-269-460-413-278-144-615-144-700 0-1108 423-408 424-408 1159 0 718 425 1152 425 435 1131 435 810 0 1236-621 427-620 427-1801 0-1103-524-1761-523-658-1407-658-238 0-482 47-243 47-506 141zm1256 1978q425 0 673 290 249 291 249 798 0 503-249 795-248 292-673 292t-673-292-248-795q0-507 248-798 248-290 673-290z\"/></defs><use xlink:href=\"#DejaVuSans-30\"/><use x=\"63.623047\" xlink:href=\"#DejaVuSans-2e\"/><use x=\"95.410156\" xlink:href=\"#DejaVuSans-30\"/><use x=\"159.033203\" xlink:href=\"#DejaVuSans-39\"/><use x=\"222.65625\" xlink:href=\"#DejaVuSans-34\"/></g><g transform=\"translate(285.73 251.3) scale(.1 -.1)\"><use xlink:href=\"#DejaVuSans-30\"/><use x=\"63.623047\" xlink:href=\"#DejaVuSans-2e\"/><use x=\"95.410156\" xlink:href=\"#DejaVuSans-30\"/><use x=\"159.033203\" xlink:href=\"#DejaVuSans-37\"/><use x=\"222.65625\" xlink:href=\"#DejaVuSans-39\"/></g><g transform=\"translate(387.18 246.88) scale(.1 -.1)\"><use xlink:href=\"#DejaVuSans-30\"/><use x=\"63.623047\" xlink:href=\"#DejaVuSans-2e\"/><use x=\"95.410156\" xlink:href=\"#DejaVuSans-30\"/><use x=\"159.033203\" xlink:href=\"#DejaVuSans-39\"/><use x=\"222.65625\" xlink:href=\"#DejaVuSans-33\"/></g><defs><clipPath id=\"p829939d965\"><rect x=\"54.014\" y=\"7.2\" width=\"390.6\" height=\"271.8\"/></clipPath></defs></svg>"
            ],
            "text/plain": [
              "<Figure size 504x360 with 1 Axes>"
            ]
          },
          "execution_count": 37,
          "metadata": {
          },
          "output_type": "execute_result"
        }
      ],
      "source": [
        "meas_xx = QuantumCircuit(2,2)\n",
        "meas_xx.h([0,1])\n",
        "meas_xx.measure([0,1],[0,1])\n",
        "\n",
        "print('Results for an x and an x measurement:')\n",
        "counts = backend.run(qc_charlie.compose(meas_xx)).result().get_counts()\n",
        "plot_histogram(counts)"
      ]
    },
    {
      "cell_type": "markdown",
      "id": "b3cf90b9",
      "metadata": {
      },
      "source": [
        "Estariam errados! O resultado `11` não é provável, mas certamente não é impossível.\n",
        "\n",
        "Os resultados dos qubits não são bem definidos antes da medição. Embora isso possa parecer que significa que os qubits são mais aleatórios que as variáveis clássicas, nem sempre é uma qualidade negativa. Isso também significa que as restrições aplicadas às variáveis clássicas nem sempre se aplicam aos qubits e que as correlações quânticas podem ter propriedades que seriam impossíveis classicamente. Essas correlações únicas são uma das propriedades únicas de estados emaranhados."
      ]
    }
  ],
  "metadata": {
    "kernelspec": {
      "display_name": "Python 3",
      "language": "python",
      "name": "python3"
    },
    "language_info": {
      "codemirror_mode": {
        "name": "ipython",
        "version": 3
      },
      "file_extension": ".py",
      "mimetype": "text/x-python",
      "name": "python",
      "nbconvert_exporter": "python",
      "pygments_lexer": "ipython3",
      "version": "3.9"
    }
  },
  "nbformat": 4,
  "nbformat_minor": 5
}
