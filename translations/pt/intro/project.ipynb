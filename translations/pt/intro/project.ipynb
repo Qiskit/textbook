{
  "cells": [
    {
      "cell_type": "markdown",
      "metadata": {
      },
      "source": [
        "# Projeto"
      ]
    },
    {
      "cell_type": "markdown",
      "metadata": {
        "gloss": {
          "git": {
            "text": "Git is a program you can use to track changes to computer files. Git tracks the entire state of a folder (known as a Git repository).",
            "title": "Git"
          },
          "github": {
            "text": "Github is a website you can use to host your project. Similar to video / image sharing websites, but aimed at software developers. As well as hosting software, Github also makes it easy to display your project and collaborate with others.",
            "title": "GitHub"
          },
          "slack": {
            "text": "Slack is a messaging app.",
            "title": "Slack"
          }
        }
      },
      "source": [
        "## Parabéns!\n",
        "\n",
        "![Trophy](images/project/trophy.png)\n",
        "\n",
        "Parabéns! Você terminou a parte de ensino deste curso. Você aprendeu muito, incluindo:\n",
        "\n",
        "- Como medimos e comparamos diferentes algoritmos\n",
        "- Como dividimos a computação em bits e portas\n",
        "- O que é interferência quântica e os efeitos que ela tem\n",
        "- O que é emaranhamento e como isso dificulta a simulação de computadores quânticos\n",
        "- Como podemos usar computadores quânticos para melhorar algoritmos de pesquisa\n",
        "\n",
        "## Concluindo um projeto guiado\n",
        "\n",
        "Espero que você tenha gostado de aprender sobre computação quântica. Em caso afirmativo, agora encorajamos você a realizar um projeto. Em seu projeto, você escolherá uma área que achou interessante e a investigará. A forma final do seu projeto pode ser o que você escolher, desde uma postagem em um blog explicando uma investigação até uma melhoria do próprio Qiskit.\n",
        "\n",
        "### Etapa 1: conectar-se à comunidade\n",
        "\n",
        "Se você ainda não se inscreveu, o workspace do Qiskit no [Slack](gloss:slack) é um ótimo lugar para fazer perguntas e obter suporte. Os desenvolvedores do Qiskit e deste livro on-line estão por aí, assim como muitos estudantes e entusiastas. Você pode participar através [deste link](https://qisk.it/join-slack) e se apresentar no canal [`#textbook-projects`](https://qiskit.slack.com/archives/C028AGU6KDX) .\n",
        "\n",
        "### Etapa 2: começar a usar o GitHub\n",
        "\n",
        "Usando o [GitHub](gloss:github) você pode:\n",
        "\n",
        "- Exibir o código que você escreveu.\n",
        "- Crie sua própria página da web (por exemplo, para um blog ou demonstração online) usando as [páginas do GitHub](https://pages.github.com/) .\n",
        "- Fork o [Qiskit](https://github.com/Qiskit/qiskit-terra) e começar a trabalhar em um problema.\n",
        "\n",
        "[Git](gloss:git) e GitHub são ótimas ferramentas, mas também vêm com um bom jargão. Incluiremos dicas para alguns desses termos quando os encontrarmos.\n",
        "\n",
        "Você pode seguir o guia de início rápido do GitHub [aqui](https://docs.github.com/en/get-started/quickstart) ."
      ]
    },
    {
      "cell_type": "markdown",
      "metadata": {
      },
      "source": [
        "### Etapa 3: decidir sobre um projeto\n",
        "\n",
        "Seu projeto pode ser em qualquer coisa que você quiser. Você pode postar suas ideias no canal [`#textbook-projects`](https://qiskit.slack.com/archives/C028AGU6KDX) do Slack para receber conselhos de mentores e encontrar outras pessoas para colaborar.\n",
        "\n",
        "Abaixo estão algumas ideias para dar asas à sua imaginação. Cada conjunto de marcadores é ordenado aproximadamente de projetos mais fáceis a mais difíceis. Você pode usar uma dessas ideias, adaptá-las ou fazer algo completamente diferente!\n",
        "\n",
        "<!-- ::: q-block.tabs -->\n",
        "\n",
        "## Ideias de projetos\n",
        "\n",
        "<!-- ::: tab -->\n",
        "\n",
        "### Baseado em escrita\n",
        "\n",
        "Se você gosta de escrever, você pode:\n",
        "\n",
        "- Escreva um post em um blog explicando o que você aprendeu e como foi a experiência. Use este blog para documentar sua jornada, através da computação quântica ou qualquer outra área de interesse.\n",
        "- Escreva um post no blog explicando o paradoxo de Hardy para um público-alvo específico, por exemplo, “alguém que odeia matemática” ou “alguém que adora quebra-cabeças”.\n",
        "- Resolva um problema em aberto no repositório GitHub do Qiskit Textbook ou sugira uma alteração para algo que você acha que pode ser melhorado.\n",
        "- Investigue uma proposta de aplicação de computação quântica. Que tipo de vantagens podemos esperar? E de que desempenho precisaremos de um computador quântico para poder alcançar essa vantagem? Tenha cuidado com afirmações ousadas e pseudociência. Escreva seus resultados como uma postagem em um blog.\n",
        "\n",
        "<!-- ::: tab -->\n",
        "\n",
        "### Baseado em código\n",
        "\n",
        "Se você estiver mais confortável com programação:\n",
        "\n",
        "- Crie um programa que construa um oráculo para uma determinada string (por exemplo, dado `01101` , retornará um `QuantumCircuit` que inverte a fase do estado $|01101\\rangle$ e deixa todos os outros estados inalterados.\n",
        "- Resolva um problema em aberto no repositório Qiskit Terra.\n",
        "- Crie um programa que construa um circuito oráculo a partir de um problema (como a classe `PhaseOracle` faz na página anterior). Avalie como o tamanho de seus circuitos cresce com o tamanho do problema.\n",
        "- Tente fazer um [jogo quântico](https://github.com/qiskit-community/Qisge) .\n",
        "\n",
        "<!-- ::: tab -->\n",
        "\n",
        "### Mais teórico\n",
        "\n",
        "Se você preferiu o lado matemático das coisas:\n",
        "\n",
        "- Calcule quantas vezes o algoritmo de Grover precisa consultar o oráculo se houver várias soluções. Escreva seu trabalho como um post curto em um blog.\n",
        "- Escreva uma introdução à “matemática para computação quântica”. Pesquise a matemática necessária para ler outros livros didáticos de computação quântica e crie um guia para novos alunos.\n",
        "- Investigue como você combinaria o algoritmo de Schöning com o algoritmo de Grover. Como seria um circuito para isso? Existem problemas potenciais?\n",
        "\n",
        "<!-- ::: tab -->\n",
        "\n",
        "### Algo mais\n",
        "\n",
        "Se preferir um projeto mais leve:\n",
        "\n",
        "- Escreva uma música sobre computação quântica. Poste no Soundcloud ou no YouTube.\n",
        "- Faça uma obra de arte representando um conceito interessante que você encontrou neste curso. Escreva um pequeno post em um blog apresentando e explicando.\n",
        "- Use Qiskit e [MatPlotLib](https://matplotlib.org/) (ou [Bokeh](https://docs.bokeh.org/en/latest/index.html) , ou qualquer coisa na verdade) para criar algo visualmente interessante. Escreva um pequeno post em um blog apresentando e explicando.\n",
        "\n",
        "<!-- ::: -->\n",
        "\n",
        "<!-- ::: -->"
      ]
    },
    {
      "cell_type": "markdown",
      "metadata": {
      },
      "source": [
        "### Passo 4: Divirta-se!\n",
        "\n",
        "Comece a trabalhar em direção ao seu objetivo. Se você achar seu projeto muito difícil, ficar travado ou simplesmente entediado, peça ajuda no canal [`#textbook-projects`](https://qiskit.slack.com/archives/C028AGU6KDX) . Os mentores podem indicar a direção certa ou ajudá-lo a ajustar as metas do seu projeto.\n",
        "\n",
        "### Etapa 5: compartilhe seu trabalho\n",
        "\n",
        "Depois de dedicar tempo e esforço, compartilhe seu trabalho com outras pessoas no canal [`#textbook-projects`](https://qiskit.slack.com/archives/C028AGU6KDX) . Se você mantiver seu perfil do GitHub e a página da Web das páginas do GitHub, poderá usá-las para demonstrar seu conhecimento e experiência para outras pessoas (por exemplo, em aplicações ou entrevistas)."
      ]
    }
  ],
  "metadata": {
    "kernelspec": {
      "display_name": "Python 3",
      "language": "python",
      "name": "python3"
    },
    "language_info": {
      "codemirror_mode": {
        "name": "ipython",
        "version": 3
      },
      "file_extension": ".py",
      "mimetype": "text/x-python",
      "name": "python",
      "nbconvert_exporter": "python",
      "pygments_lexer": "ipython3",
      "version": "3.9"
    }
  },
  "nbformat": 4,
  "nbformat_minor": 4
}
