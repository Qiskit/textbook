{
  "cells": [
    {
      "cell_type": "markdown",
      "metadata": {
      },
      "source": [
        "# Os átomos da computação"
      ]
    },
    {
      "cell_type": "markdown",
      "metadata": {
        "gloss": {
          "power": {
            "text": "See <a href='https://en.wikipedia.org/wiki/Exponentiation'>exponentiation</a>",
            "title": "Power"
          },
          "quantum-mechanics": {
            "text": "Quantum mechanics is a more accurate model of the universe than the one we usually use, you’ll learn more about it on the next page.",
            "title": "Quantum mechanics"
          },
          "string": {
            "text": "In computing, we call sequences of characters \"strings\".",
            "title": "String"
          }
        }
      },
      "source": [
        "## Introdução\n",
        "\n",
        "Programar um computador quântico agora é algo que qualquer um pode fazer no conforto de sua própria casa. Mas o que criar? Afinal, o que é um programa quântico? Na verdade, o que é um computador quântico?\n",
        "\n",
        "Essas perguntas podem ser respondidas fazendo comparações com computadores digitais tradicionais. Infelizmente, a maioria das pessoas também não entende como os computadores digitais tradicionais funcionam. Nesta página, veremos os princípios básicos por trás desses dispositivos tradicionais e, para nos ajudar a fazer a transição para a computação quântica mais tarde, faremos isso usando as mesmas ferramentas que usaremos com computadores quânticos.\n",
        "\n",
        "## Divisão de informaçãos em bits\n",
        "\n",
        "A primeira coisa que precisamos saber é a idéia de *bits* . Estes são projetados para ser o alfabeto mais simples do mundo. Com apenas dois símbolos, 0 e 1, podemos representar qualquer informação.\n",
        "\n",
        "Um exemplo são os números. Você provavelmente está acostumado a representar um número por meio de uma [string](gloss:string) de dez dígitos 0, 1, 2, 3, 4, 5, 6, 7, 8 e 9. Nessa sequência de dígitos, cada dígito representa quantas vezes o número contém uma certa [potência](gloss:power) de dez. Por exemplo, quando escrevemos 213, queremos dizer:\n",
        "\n",
        "$$ 200+10+3 $$\n",
        "\n",
        "ou, expresso de uma forma que enfatiza as potências de dez\n",
        "\n",
        "$$ (2×10^2)+(1×10^1)+(3×10^0) $$\n",
        "\n",
        "Embora geralmente usemos esse sistema com base no número 10, podemos facilmente usar um com base em qualquer outro número. O sistema de numeração binário, por exemplo, é baseado no número dois. Isso significa usar os dois caracteres 0 e 1 para expressar números como múltiplos de potências de dois. Por exemplo, 213 se torna 11010101, pois:\n",
        "\n",
        "$$ \\begin{aligned} 213 = &amp; \\phantom{+}(1×2^7)+(1×2^6)+(0×2^5)\\ &amp; +(1×2^4)+(0×2^3)+(1×2^2)\\ &amp; +(0×2^1)+(1×2^0) \\ \\end{aligned} $$\n",
        "\n",
        "Neste estamos expressando números como múltiplos de 2, 4, 8, 16, 32, etc. em vez de 10, 100, 1000, etc.\n",
        "\n",
        "<!-- ::: q-block.binary -->\n",
        "\n",
        "### Tente\n",
        "\n",
        "```\n",
        "q-binary\n",
        "```\n",
        "\n",
        "<!-- ::: -->\n",
        "\n",
        " \n",
        "\n",
        "Essas strings de bits, conhecidas como strings binárias, podem ser usadas para representar mais do que apenas números. Por exemplo, existe uma maneira de representar qualquer texto usando bits. Para qualquer letra, número ou sinal de pontuação que você deseja usar, você pode encontrar uma string correspondente de no máximo oito bits usando [esta tabela](https://www.ibm.com/docs/en/aix/7.2?topic=adapters-ascii-decimal-hexadecimal-octal-binary-conversion-table) . Embora isto seja bastante arbitrário, este é um padrão amplamente aceito. Na verdade, é o que foi usado para transmitir este artigo para você pela internet.\n",
        "\n",
        "É assim que todas as informações são representadas em computadores convencionais. Sejam números, letras, imagens ou sons, tudo existe na forma de strings binárias.\n",
        "\n",
        "Como nossos computadores digitais padrões, os computadores quânticos são baseados nessa mesma ideia básica. A principal diferença é que eles usam *qubits,* uma extensão do bit para [a mecânica quântica](gloss:quantum-mechanics) . No restante deste livro, exploraremos o que são os qubits, o que eles podem fazer e como o fazem. Nesta seção, no entanto, não estamos falando sobre quântica. Então, nós apenas usamos qubits como se fossem bits.\n",
        "\n",
        "<!-- ::: q-block.exercise -->\n",
        "\n",
        "### Questionário rápido\n",
        "\n",
        "<!-- ::: q-quiz(goal=\"intro-aoc-1\") -->\n",
        "\n",
        "<!-- ::: .question -->\n",
        "\n",
        "Se você tiver $n$ bits, quantos números diferentes você poderia escrever?\n",
        "\n",
        "<!-- ::: -->\n",
        "\n",
        "<!-- ::: .option -->\n",
        "\n",
        "1. $n$\n",
        "\n",
        "<!-- ::: -->\n",
        "\n",
        "<!-- ::: .option -->\n",
        "\n",
        "1. $n^2$\n",
        "\n",
        "<!-- ::: -->\n",
        "\n",
        "<!-- ::: .option(correct) -->\n",
        "\n",
        "1. $2^n$\n",
        "\n",
        "<!-- ::: -->\n",
        "\n",
        "<!-- ::: -->\n",
        "\n",
        "<!-- ::: -->"
      ]
    },
    {
      "cell_type": "markdown",
      "metadata": {
      },
      "source": [
        "## Diagramas de circuito\n",
        "\n",
        "Vimos na última página que uma computação pega alguns dados de entrada e realiza operações neles para produzir alguns dados de saída. Com os computadores quânticos que aprenderemos neste livro, esses dados sempre estarão na forma de bits. Agora que sabemos o que são bits, vamos ver como podemos manipulá-los para transformar as entradas que temos nas saídas que precisamos.\n",
        "\n",
        "Muitas vezes é útil representar esse processo em um diagrama conhecido como *diagrama de circuito* . Esses diagramas têm entradas à esquerda, saídas à direita e operações representadas por símbolos arcanos no meio. Essas operações são chamadas de 'portas', principalmente por razões históricas. Aqui está um exemplo da aparência de um circuito para computadores padrões baseados em bits. Não se espera que você entenda o que ele faz. Deve simplesmente dar uma ideia de como são esses circuitos.\n",
        "\n",
        "![exemplo de um diagrama de circuito clássico](images/aoc/logic_gates.png)\n",
        "\n",
        "Para computadores quânticos, usamos a mesma ideia básica, mas temos convenções diferentes sobre como representar entradas, saídas e os símbolos usados para operações. Aqui está o “circuito quântico” que representa o mesmo processo acima.\n",
        "\n",
        "![exemplo de um diagrama de circuito quântico](images/aoc/quantum_circuit.png)\n",
        "\n",
        "No restante desta seção, explicaremos como construir circuitos quânticos. No final, você saberá como criar o circuito acima, o que ele faz e por que é útil."
      ]
    },
    {
      "cell_type": "markdown",
      "metadata": {
        "gloss": {
          "python": {
            "text": "Python is a programming language. We can use it to write instructions and algorithms for computers to follow. <a href='https://www.python.org/'>Read more</a>.",
            "title": "Python"
          }
        }
      },
      "source": [
        "## Criando circuitos com o Qiskit\n",
        "\n",
        "Para criar um circuito quântico, importaremos a classe <code>QuantumCircuit</code> e criaremos um novo objeto <code>QuantumCircuit</code> .\n",
        "\n",
        "<!-- ::: q-block.reminder -->\n",
        "\n",
        "### Lembrete\n",
        "\n",
        "<details>\n",
        "    <summary>Noções básicas de Python (o que é tudo isso sobre classes e objetos?)</summary>\n",
        "</details>\n",
        "\n",
        "Sabemos que podemos descrever todas as informações usando um monte de bits, que é como os computadores armazenam e processam tudo, incluindo circuitos quânticos! Mas é difícil para nós, humanos, pensar em como fazemos isso e como manipulamos esses bits para representar os circuitos que queremos.\n",
        "\n",
        "A classe <code>QuantumCircuit</code> é um conjunto de instruções para representar circuitos quânticos como bits. A linha <code>qc = QuantumCircuit(4, 2)</code> na célula abaixo é um construtor, que diz ao Python para separar alguns bits em seu computador que usaremos para representar um circuito quântico. Quando quisermos nos referir a esse circuito quântico (ou melhor, aos bits que representam esse circuito quântico) usaremos a variável ' <code>qc</code> '. Dizemos que ' <code>qc</code> ' se refere a um \"objeto <code>QuantumCircuit</code> \".\n",
        "\n",
        "Isso permite que nós, humanos, pensemos em circuitos quânticos em um nível alto e abstrato; podemos dizer coisas como “adicionar uma porta X” e o Qiskit cuidará do que precisamos fazer com os bits em nosso computador para refletir essa mudança.\n",
        "\n",
        "\n",
        "\n",
        "\n",
        "<!-- ::: -->\n",
        "\n",
        "Ao criar um circuito quântico, precisamos informar ao [Python](gloss:python) quantos qubits nosso circuito deve ter e, opcionalmente, também podemos informar quantos bits clássicos nosso circuito deve ter. Precisamos de bits clássicos para armazenar as medidas de nossos qubits, a razão para isso ficará clara mais adiante neste curso.\n",
        "\n",
        "## Seu primeiro circuito quântico\n",
        "\n",
        "Em um circuito, normalmente precisamos fazer três tarefas: primeiro, codificar a entrada, depois fazer alguns cálculos reais e, finalmente, extrair uma saída. Para o seu primeiro circuito quântico, vamos nos concentrar no último desses trabalhos. Começamos criando um circuito quântico com 3 qubits e 3 saídas."
      ]
    },
    {
      "cell_type": "code",
      "execution_count": 1,
      "metadata": {
      },
      "outputs": [
        {
          "data": {
            "image/svg+xml": [
              "<?xml version=\"1.0\" encoding=\"UTF-8\"?><!DOCTYPE svg  PUBLIC '-//W3C//DTD SVG 1.1//EN'  'http://www.w3.org/Graphics/SVG/1.1/DTD/svg11.dtd'><svg width=\"102.51pt\" height=\"214.38pt\" version=\"1.1\" viewBox=\"0 0 102.51 214.38\" xmlns=\"http://www.w3.org/2000/svg\" xmlns:xlink=\"http://www.w3.org/1999/xlink\"><defs><style type=\"text/css\">*{stroke-linecap:butt;stroke-linejoin:round;}</style></defs><path d=\"m0 214.38h102.51v-214.38h-102.51z\" fill=\"#ffffff\"/><path d=\"m63.491 43.561h27.271\" clip-path=\"url(#pf38a690a76)\" fill=\"none\" stroke=\"#000000\" stroke-linecap=\"square\" stroke-width=\"2\"/><path d=\"m63.491 89.012h27.271\" clip-path=\"url(#pf38a690a76)\" fill=\"none\" stroke=\"#000000\" stroke-linecap=\"square\" stroke-width=\"2\"/><path d=\"m63.491 134.46h27.271\" clip-path=\"url(#pf38a690a76)\" fill=\"none\" stroke=\"#000000\" stroke-linecap=\"square\" stroke-width=\"2\"/><path d=\"m63.491 178.44h27.271\" clip-path=\"url(#pf38a690a76)\" fill=\"none\" stroke=\"#778899\" stroke-linecap=\"square\" stroke-width=\"2\"/><path d=\"m63.491 181.39h27.271\" clip-path=\"url(#pf38a690a76)\" fill=\"none\" stroke=\"#778899\" stroke-linecap=\"square\" stroke-width=\"2\"/><path d=\"m72.581 184.46 4.5451-9.0902\" clip-path=\"url(#pf38a690a76)\" fill=\"none\" stroke=\"#778899\" stroke-linecap=\"square\" stroke-width=\"1.5\"/><g clip-path=\"url(#pf38a690a76)\"><g transform=\"translate(36.363 48.012) scale(.1625 -.1625)\"><defs><path id=\"DejaVuSans-Oblique-71\" transform=\"scale(.015625)\" d=\"m2669 525q-231-303-546-460-314-156-695-156-531 0-833 358-301 358-301 986 0 506 186 978t533 847q225 244 517 375t614 131q387 0 637-153t363-462l100 525h578l-934-4813h-579l360 1844zm-1778 813q0-463 193-705 194-242 560-242 544 0 928 520t384 1264q0 450-199 689-198 239-569 239-272 0-504-127-231-126-403-370-181-256-286-600-104-343-104-668z\"/><path id=\"DejaVuSans-30\" transform=\"scale(.015625)\" d=\"m2034 4250q-487 0-733-480-245-479-245-1442 0-959 245-1439 246-480 733-480 491 0 736 480 246 480 246 1439 0 963-246 1442-245 480-736 480zm0 500q785 0 1199-621 414-620 414-1801 0-1178-414-1799-414-620-1199-620-784 0-1198 620-414 621-414 1799 0 1181 414 1801 414 621 1198 621z\"/></defs><use xlink:href=\"#DejaVuSans-Oblique-71\"/><use transform=\"translate(63.477 -16.406) scale(.7)\" xlink:href=\"#DejaVuSans-30\"/></g></g><g clip-path=\"url(#pf38a690a76)\"><g transform=\"translate(36.363 93.463) scale(.1625 -.1625)\"><defs><path id=\"DejaVuSans-31\" transform=\"scale(.015625)\" d=\"m794 531h1031v3560l-1122-225v575l1116 225h631v-4135h1031v-531h-2687v531z\"/></defs><use xlink:href=\"#DejaVuSans-Oblique-71\"/><use transform=\"translate(63.477 -16.406) scale(.7)\" xlink:href=\"#DejaVuSans-31\"/></g></g><g clip-path=\"url(#pf38a690a76)\"><g transform=\"translate(36.363 138.91) scale(.1625 -.1625)\"><defs><path id=\"DejaVuSans-32\" transform=\"scale(.015625)\" d=\"m1228 531h2203v-531h-2962v531q359 372 979 998 621 627 780 809 303 340 423 576 121 236 121 464 0 372-261 606-261 235-680 235-297 0-627-103-329-103-704-313v638q381 153 712 231 332 78 607 78 725 0 1156-363 431-362 431-968 0-288-108-546-107-257-392-607-78-91-497-524-418-433-1181-1211z\"/></defs><use xlink:href=\"#DejaVuSans-Oblique-71\"/><use transform=\"translate(63.477 -16.406) scale(.7)\" xlink:href=\"#DejaVuSans-32\"/></g></g><g clip-path=\"url(#pf38a690a76)\"><g transform=\"translate(68.036 173.21) scale(.104 -.104)\"><defs><path id=\"DejaVuSans-33\" transform=\"scale(.015625)\" d=\"m2597 2516q453-97 707-404 255-306 255-756 0-690-475-1069-475-378-1350-378-293 0-604 58t-642 174v609q262-153 574-231 313-78 654-78 593 0 904 234t311 681q0 413-289 645-289 233-804 233h-544v519h569q465 0 712 186t247 536q0 359-255 551-254 193-729 193-260 0-557-57-297-56-653-174v562q360 100 674 150t592 50q719 0 1137-327 419-326 419-882 0-388-222-655t-631-370z\"/></defs><use xlink:href=\"#DejaVuSans-33\"/></g></g><g clip-path=\"url(#pf38a690a76)\"><g transform=\"translate(45.466 184.4) scale(.1625 -.1625)\"><defs><path id=\"DejaVuSans-63\" transform=\"scale(.015625)\" d=\"m3122 3366v-538q-244 135-489 202t-495 67q-560 0-870-355-309-354-309-995t309-996q310-354 870-354 250 0 495 67t489 202v-532q-241-112-499-168-257-57-548-57-791 0-1257 497-465 497-465 1341 0 856 470 1346 471 491 1290 491 265 0 518-55 253-54 491-163z\"/></defs><use xlink:href=\"#DejaVuSans-63\"/></g></g><defs><clipPath id=\"pf38a690a76\"><rect x=\"7.2\" y=\"7.2\" width=\"88.107\" height=\"199.98\"/></clipPath></defs></svg>"
            ],
            "text/plain": [
              "<Figure size 116.697x264.88 with 1 Axes>"
            ]
          },
          "execution_count": 1,
          "metadata": {
          },
          "output_type": "execute_result"
        }
      ],
      "source": [
        "from qiskit import QuantumCircuit\n",
        "# Crie um circuito quântico com 3 qubits e 3 bits clássicos\n",
        "# (explicaremos por que precisamos dos bits clássicos mais tarde)\n",
        "qc = QuantumCircuit(3, 3)\n",
        "qc.draw() # retorna um desenho do circuito"
      ]
    },
    {
      "cell_type": "markdown",
      "metadata": {
        "gloss": {
          "return": {
            "text": "Return is another word for 'output'. In Python, we can use returned data as input to another function or process.",
            "title": "Return"
          }
        }
      },
      "source": [
        "Finalmente o método <code>qc.draw()</code> cria um desenho do circuito para nós. Os Jupyter Notebooks avaliam a última linha de uma célula de código e a exibem abaixo da célula. Como <code>qc.draw()</code> [retorna](gloss:return) um desenho, é isso que estamos vendo no código. Ainda não há portas em nosso circuito, então vemos apenas algumas linhas horizontais.\n",
        "\n",
        "<!-- ::: q-block.reminder -->\n",
        "\n",
        "### Lembrete\n",
        "\n",
        "<details><summary>Noções básicas de Python (o que é um método?)</summary> A classe <code>QuantumCircuit</code> é um conjunto de instruções para representar circuitos quânticos como bits, mas quando queremos alterar um desses circuitos, também precisamos saber como alterar os bits de acordo. Em [Python](gloss:python), os objetos vêm com 'métodos', que são conjuntos de instruções para fazer algo com aquele objeto. Na célula acima, o método <code>.draw()</code> examina o circuito que criamos e produz um desenho legível desse circuito.</details>\n",
        "\n",
        "\n",
        "\n",
        "\n",
        "<!-- ::: -->\n",
        "\n",
        "Em seguida, precisamos de uma maneira de dizer ao nosso computador quântico para medir nossos qubits e registrar os resultados. Para fazer isso, adicionamos uma operação de \"medida\" ao nosso circuito quântico. Podemos fazer isso com o método `QuantumCircuit` `.measure()` do QuantumCircuit ."
      ]
    },
    {
      "cell_type": "code",
      "execution_count": 2,
      "metadata": {
      },
      "outputs": [
        {
          "data": {
            "image/svg+xml": [
              "<?xml version=\"1.0\" encoding=\"UTF-8\"?><!DOCTYPE svg  PUBLIC '-//W3C//DTD SVG 1.1//EN'  'http://www.w3.org/Graphics/SVG/1.1/DTD/svg11.dtd'><svg width=\"216.13pt\" height=\"214.38pt\" version=\"1.1\" viewBox=\"0 0 216.13 214.38\" xmlns=\"http://www.w3.org/2000/svg\" xmlns:xlink=\"http://www.w3.org/1999/xlink\"><defs><style type=\"text/css\">*{stroke-linecap:butt;stroke-linejoin:round;}</style></defs><path d=\"m0 214.38h216.13v-214.38h-216.13z\" fill=\"#ffffff\"/><path d=\"m82.126 169.57h11.817l-5.9086 8.5221z\" clip-path=\"url(#p87aeb7f2e4)\" fill=\"#778899\"/><path d=\"m127.58 169.57h11.817l-5.9086 8.5221z\" clip-path=\"url(#p87aeb7f2e4)\" fill=\"#778899\"/><path d=\"m173.03 169.57h11.817l-5.9086 8.5221z\" clip-path=\"url(#p87aeb7f2e4)\" fill=\"#778899\"/><path d=\"m63.491 43.561h140.9\" clip-path=\"url(#p87aeb7f2e4)\" fill=\"none\" stroke=\"#000000\" stroke-linecap=\"square\" stroke-width=\"2\"/><path d=\"m63.491 89.012h140.9\" clip-path=\"url(#p87aeb7f2e4)\" fill=\"none\" stroke=\"#000000\" stroke-linecap=\"square\" stroke-width=\"2\"/><path d=\"m63.491 134.46h140.9\" clip-path=\"url(#p87aeb7f2e4)\" fill=\"none\" stroke=\"#000000\" stroke-linecap=\"square\" stroke-width=\"2\"/><path d=\"m63.491 178.44h140.9\" clip-path=\"url(#p87aeb7f2e4)\" fill=\"none\" stroke=\"#778899\" stroke-linecap=\"square\" stroke-width=\"2\"/><path d=\"m63.491 181.39h140.9\" clip-path=\"url(#p87aeb7f2e4)\" fill=\"none\" stroke=\"#778899\" stroke-linecap=\"square\" stroke-width=\"2\"/><path d=\"m72.581 184.46 4.5451-9.0902\" clip-path=\"url(#p87aeb7f2e4)\" fill=\"none\" stroke=\"#778899\" stroke-linecap=\"square\" stroke-width=\"1.5\"/><path d=\"m89.512 43.561v126.01\" clip-path=\"url(#p87aeb7f2e4)\" fill=\"none\" stroke=\"#778899\" stroke-linecap=\"square\" stroke-width=\"2\"/><path d=\"m86.557 43.561v126.01\" clip-path=\"url(#p87aeb7f2e4)\" fill=\"none\" stroke=\"#778899\" stroke-linecap=\"square\" stroke-width=\"2\"/><path d=\"m134.96 89.012v80.562\" clip-path=\"url(#p87aeb7f2e4)\" fill=\"none\" stroke=\"#778899\" stroke-linecap=\"square\" stroke-width=\"2\"/><path d=\"m132.01 89.012v80.562\" clip-path=\"url(#p87aeb7f2e4)\" fill=\"none\" stroke=\"#778899\" stroke-linecap=\"square\" stroke-width=\"2\"/><path d=\"m180.41 134.46v35.111\" clip-path=\"url(#p87aeb7f2e4)\" fill=\"none\" stroke=\"#778899\" stroke-linecap=\"square\" stroke-width=\"2\"/><path d=\"m177.46 134.46v35.111\" clip-path=\"url(#p87aeb7f2e4)\" fill=\"none\" stroke=\"#778899\" stroke-linecap=\"square\" stroke-width=\"2\"/><path d=\"m73.263 58.332h29.543v-29.543h-29.543z\" clip-path=\"url(#p87aeb7f2e4)\" fill=\"#121619\" stroke=\"#121619\" stroke-width=\"1.5\"/><path d=\"m98.374 47.992c0-2.7413-1.0901-5.3732-3.0285-7.3116-1.9384-1.9384-4.5702-3.0285-7.3116-3.0285s-5.3732 1.0901-7.3116 3.0285c-1.9384 1.9384-3.0285 4.5702-3.0285 7.3116\" clip-path=\"url(#p87aeb7f2e4)\" fill=\"none\" stroke=\"#ffffff\" stroke-width=\"2\"/><path d=\"m118.71 103.78h29.543v-29.543h-29.543z\" clip-path=\"url(#p87aeb7f2e4)\" fill=\"#121619\" stroke=\"#121619\" stroke-width=\"1.5\"/><path d=\"m143.83 93.443c0-2.7413-1.0901-5.3732-3.0285-7.3116s-4.5702-3.0285-7.3116-3.0285c-2.7413 0-5.3732 1.0901-7.3116 3.0285s-3.0285 4.5702-3.0285 7.3116\" clip-path=\"url(#p87aeb7f2e4)\" fill=\"none\" stroke=\"#ffffff\" stroke-width=\"2\"/><path d=\"m164.16 149.23h29.543v-29.543h-29.543z\" clip-path=\"url(#p87aeb7f2e4)\" fill=\"#121619\" stroke=\"#121619\" stroke-width=\"1.5\"/><path d=\"m189.28 138.89c0-2.7413-1.0901-5.3732-3.0285-7.3116-1.9384-1.9384-4.5702-3.0285-7.3116-3.0285s-5.3732 1.0901-7.3116 3.0285c-1.9384 1.9384-3.0285 4.5702-3.0285 7.3116\" clip-path=\"url(#p87aeb7f2e4)\" fill=\"none\" stroke=\"#ffffff\" stroke-width=\"2\"/><path d=\"m88.034 47.992 10.34-10.34\" clip-path=\"url(#p87aeb7f2e4)\" fill=\"none\" stroke=\"#ffffff\" stroke-linecap=\"square\" stroke-width=\"2\"/><path d=\"m133.49 93.443 10.34-10.34\" clip-path=\"url(#p87aeb7f2e4)\" fill=\"none\" stroke=\"#ffffff\" stroke-linecap=\"square\" stroke-width=\"2\"/><path d=\"m178.94 138.89 10.34-10.34\" clip-path=\"url(#p87aeb7f2e4)\" fill=\"none\" stroke=\"#ffffff\" stroke-linecap=\"square\" stroke-width=\"2\"/><g clip-path=\"url(#p87aeb7f2e4)\"><g transform=\"translate(36.363 48.012) scale(.1625 -.1625)\"><defs><path id=\"DejaVuSans-Oblique-71\" transform=\"scale(.015625)\" d=\"m2669 525q-231-303-546-460-314-156-695-156-531 0-833 358-301 358-301 986 0 506 186 978t533 847q225 244 517 375t614 131q387 0 637-153t363-462l100 525h578l-934-4813h-579l360 1844zm-1778 813q0-463 193-705 194-242 560-242 544 0 928 520t384 1264q0 450-199 689-198 239-569 239-272 0-504-127-231-126-403-370-181-256-286-600-104-343-104-668z\"/><path id=\"DejaVuSans-30\" transform=\"scale(.015625)\" d=\"m2034 4250q-487 0-733-480-245-479-245-1442 0-959 245-1439 246-480 733-480 491 0 736 480 246 480 246 1439 0 963-246 1442-245 480-736 480zm0 500q785 0 1199-621 414-620 414-1801 0-1178-414-1799-414-620-1199-620-784 0-1198 620-414 621-414 1799 0 1181 414 1801 414 621 1198 621z\"/></defs><use xlink:href=\"#DejaVuSans-Oblique-71\"/><use transform=\"translate(63.477 -16.406) scale(.7)\" xlink:href=\"#DejaVuSans-30\"/></g></g><g clip-path=\"url(#p87aeb7f2e4)\"><g transform=\"translate(36.363 93.463) scale(.1625 -.1625)\"><defs><path id=\"DejaVuSans-31\" transform=\"scale(.015625)\" d=\"m794 531h1031v3560l-1122-225v575l1116 225h631v-4135h1031v-531h-2687v531z\"/></defs><use xlink:href=\"#DejaVuSans-Oblique-71\"/><use transform=\"translate(63.477 -16.406) scale(.7)\" xlink:href=\"#DejaVuSans-31\"/></g></g><g clip-path=\"url(#p87aeb7f2e4)\"><g transform=\"translate(36.363 138.91) scale(.1625 -.1625)\"><defs><path id=\"DejaVuSans-32\" transform=\"scale(.015625)\" d=\"m1228 531h2203v-531h-2962v531q359 372 979 998 621 627 780 809 303 340 423 576 121 236 121 464 0 372-261 606-261 235-680 235-297 0-627-103-329-103-704-313v638q381 153 712 231 332 78 607 78 725 0 1156-363 431-362 431-968 0-288-108-546-107-257-392-607-78-91-497-524-418-433-1181-1211z\"/></defs><use xlink:href=\"#DejaVuSans-Oblique-71\"/><use transform=\"translate(63.477 -16.406) scale(.7)\" xlink:href=\"#DejaVuSans-32\"/></g></g><g clip-path=\"url(#p87aeb7f2e4)\"><g transform=\"translate(68.036 173.21) scale(.104 -.104)\"><defs><path id=\"DejaVuSans-33\" transform=\"scale(.015625)\" d=\"m2597 2516q453-97 707-404 255-306 255-756 0-690-475-1069-475-378-1350-378-293 0-604 58t-642 174v609q262-153 574-231 313-78 654-78 593 0 904 234t311 681q0 413-289 645-289 233-804 233h-544v519h569q465 0 712 186t247 536q0 359-255 551-254 193-729 193-260 0-557-57-297-56-653-174v562q360 100 674 150t592 50q719 0 1137-327 419-326 419-882 0-388-222-655t-631-370z\"/></defs><use xlink:href=\"#DejaVuSans-33\"/></g></g><g clip-path=\"url(#p87aeb7f2e4)\"><g transform=\"translate(45.466 184.4) scale(.1625 -.1625)\"><defs><path id=\"DejaVuSans-63\" transform=\"scale(.015625)\" d=\"m3122 3366v-538q-244 135-489 202t-495 67q-560 0-870-355-309-354-309-995t309-996q310-354 870-354 250 0 495 67t489 202v-532q-241-112-499-168-257-57-548-57-791 0-1257 497-465 497-465 1341 0 856 470 1346 471 491 1290 491 265 0 518-55 253-54 491-163z\"/></defs><use xlink:href=\"#DejaVuSans-63\"/></g></g><g clip-path=\"url(#p87aeb7f2e4)\"><g transform=\"translate(99.397 173.21) scale(.104 -.104)\"><use xlink:href=\"#DejaVuSans-30\"/></g></g><g clip-path=\"url(#p87aeb7f2e4)\"><g transform=\"translate(144.85 173.21) scale(.104 -.104)\"><use xlink:href=\"#DejaVuSans-31\"/></g></g><g clip-path=\"url(#p87aeb7f2e4)\"><g transform=\"translate(190.3 173.21) scale(.104 -.104)\"><use xlink:href=\"#DejaVuSans-32\"/></g></g><defs><clipPath id=\"p87aeb7f2e4\"><rect x=\"7.2\" y=\"7.2\" width=\"201.73\" height=\"199.98\"/></clipPath></defs></svg>"
            ],
            "text/plain": [
              "<Figure size 267.197x264.88 with 1 Axes>"
            ]
          },
          "execution_count": 2,
          "metadata": {
          },
          "output_type": "execute_result"
        }
      ],
      "source": [
        "from qiskit import QuantumCircuit\n",
        "qc = QuantumCircuit(3, 3)\n",
        "# mede qubits 0, 1 e 2 para bits clássicos 0, 1 e 2 respectivamente\n",
        "qc.measure([0,1,2], [0,1,2])\n",
        "qc.draw()"
      ]
    },
    {
      "cell_type": "markdown",
      "metadata": {
      },
      "source": [
        "A seguir, vamos ver quais seriam os resultados da execução desse circuito. Para fazer isso, usaremos um simulador quântico, que é um computador padrão que calcula o que um computador quântico ideal faria. Como a simulação de um computador quântico é considerada difícil para computadores clássicos (os melhores algoritmos que temos crescem exponencialmente com o número de qubits), essas simulações só são possíveis para circuitos com pequenos números de qubits (até ~30 qubits) ou certos tipos de circuitos para os quais podemos usar alguns truques para acelerar a simulação. Os simuladores são ferramentas muito úteis para projetar circuitos quânticos menores.\n",
        "\n",
        "Vamos importar o simulador do Qiskit (chamado Aer), e fazer um novo objeto simulador."
      ]
    },
    {
      "cell_type": "code",
      "execution_count": 3,
      "metadata": {
      },
      "outputs": [

      ],
      "source": [
        "from qiskit.providers.aer import AerSimulator\n",
        "sim = AerSimulator() # cria um novo objeto simulador"
      ]
    },
    {
      "cell_type": "markdown",
      "metadata": {
      },
      "source": [
        "Para fazer a simulação, podemos usar o método <code>.run()</code> dos simuladores. Isso retorna um \"job\", que contém informações sobre o experimento, por exemplo, se o experimento está em execução ou concluído, em qual back-end executamos o experimento e, o mais importante para nós, quais são os resultados do experimento!\n",
        "\n",
        "Para obter os resultados do trabalho, usamos o método de results, e a maneira mais popular de visualizar os resultados é como um dicionário de \"contagens\"."
      ]
    },
    {
      "cell_type": "code",
      "execution_count": 4,
      "metadata": {
      },
      "outputs": [
        {
          "data": {
            "text/plain": [
              "{'000': 1024}"
            ]
          },
          "execution_count": 4,
          "metadata": {
          },
          "output_type": "execute_result"
        }
      ],
      "source": [
        "job = sim.run(qc) # executa o experimento\n",
        "result = job.result() # obtém os resultados\n",
        "result.get_counts() # interpreta os resultados como um dicionário de \"contagens\""
      ]
    },
    {
      "cell_type": "markdown",
      "metadata": {
      },
      "source": [
        "As chaves no dicionário de contagem são strings de bits e os valores são o número de vezes que a string de bits foi medida. Computadores quânticos podem ter aleatoriedade em seus resultados, então é comum repetir o circuito algumas vezes. Este circuito foi repetido 1024 vezes, que é o número padrão de vezes para repetir um circuito no Qiskit. Por convenção, os qubits sempre começam no estado `0` , e como não estamos fazendo nada com eles antes da medição, os resultados são sempre `0` .\n",
        "\n",
        "### Codificando uma entrada\n",
        "\n",
        "Agora vamos ver como codificar uma string binária diferente como entrada. Para isso, precisamos do que é conhecido como uma porta NOT. Esta é a operação mais básica que você pode fazer em um computador. Ele simplesmente inverte o valor do bit: 0 se torna 1 e 1 se torna 0. Para qubits, usamos uma porta conhecido como *porta X* para isso.\n",
        "\n",
        "Abaixo, criaremos um novo circuito dedicado ao trabalho de codificação:"
      ]
    },
    {
      "cell_type": "code",
      "execution_count": 5,
      "metadata": {
      },
      "outputs": [
        {
          "data": {
            "image/svg+xml": [
              "<?xml version=\"1.0\" encoding=\"UTF-8\"?><!DOCTYPE svg  PUBLIC '-//W3C//DTD SVG 1.1//EN'  'http://www.w3.org/Graphics/SVG/1.1/DTD/svg11.dtd'><svg width=\"216.13pt\" height=\"214.38pt\" version=\"1.1\" viewBox=\"0 0 216.13 214.38\" xmlns=\"http://www.w3.org/2000/svg\" xmlns:xlink=\"http://www.w3.org/1999/xlink\"><defs><style type=\"text/css\">*{stroke-linecap:butt;stroke-linejoin:round;}</style></defs><path d=\"m0 214.38h216.13v-214.38h-216.13z\" fill=\"#ffffff\"/><path d=\"m82.126 169.57h11.817l-5.9086 8.5221z\" clip-path=\"url(#pcfac3d9fca)\" fill=\"#778899\"/><path d=\"m127.58 169.57h11.817l-5.9086 8.5221z\" clip-path=\"url(#pcfac3d9fca)\" fill=\"#778899\"/><path d=\"m173.03 169.57h11.817l-5.9086 8.5221z\" clip-path=\"url(#pcfac3d9fca)\" fill=\"#778899\"/><path d=\"m63.491 43.561h140.9\" clip-path=\"url(#pcfac3d9fca)\" fill=\"none\" stroke=\"#000000\" stroke-linecap=\"square\" stroke-width=\"2\"/><path d=\"m63.491 89.012h140.9\" clip-path=\"url(#pcfac3d9fca)\" fill=\"none\" stroke=\"#000000\" stroke-linecap=\"square\" stroke-width=\"2\"/><path d=\"m63.491 134.46h140.9\" clip-path=\"url(#pcfac3d9fca)\" fill=\"none\" stroke=\"#000000\" stroke-linecap=\"square\" stroke-width=\"2\"/><path d=\"m63.491 178.44h140.9\" clip-path=\"url(#pcfac3d9fca)\" fill=\"none\" stroke=\"#778899\" stroke-linecap=\"square\" stroke-width=\"2\"/><path d=\"m63.491 181.39h140.9\" clip-path=\"url(#pcfac3d9fca)\" fill=\"none\" stroke=\"#778899\" stroke-linecap=\"square\" stroke-width=\"2\"/><path d=\"m72.581 184.46 4.5451-9.0902\" clip-path=\"url(#pcfac3d9fca)\" fill=\"none\" stroke=\"#778899\" stroke-linecap=\"square\" stroke-width=\"1.5\"/><path d=\"m89.512 134.46v35.111\" clip-path=\"url(#pcfac3d9fca)\" fill=\"none\" stroke=\"#778899\" stroke-linecap=\"square\" stroke-width=\"2\"/><path d=\"m86.557 134.46v35.111\" clip-path=\"url(#pcfac3d9fca)\" fill=\"none\" stroke=\"#778899\" stroke-linecap=\"square\" stroke-width=\"2\"/><path d=\"m134.96 43.561v126.01\" clip-path=\"url(#pcfac3d9fca)\" fill=\"none\" stroke=\"#778899\" stroke-linecap=\"square\" stroke-width=\"2\"/><path d=\"m132.01 43.561v126.01\" clip-path=\"url(#pcfac3d9fca)\" fill=\"none\" stroke=\"#778899\" stroke-linecap=\"square\" stroke-width=\"2\"/><path d=\"m180.41 89.012v80.562\" clip-path=\"url(#pcfac3d9fca)\" fill=\"none\" stroke=\"#778899\" stroke-linecap=\"square\" stroke-width=\"2\"/><path d=\"m177.46 89.012v80.562\" clip-path=\"url(#pcfac3d9fca)\" fill=\"none\" stroke=\"#778899\" stroke-linecap=\"square\" stroke-width=\"2\"/><path d=\"m73.263 58.332h29.543v-29.543h-29.543z\" clip-path=\"url(#pcfac3d9fca)\" fill=\"#005d5d\" stroke=\"#005d5d\" stroke-width=\"1.5\"/><path d=\"m73.263 103.78h29.543v-29.543h-29.543z\" clip-path=\"url(#pcfac3d9fca)\" fill=\"#005d5d\" stroke=\"#005d5d\" stroke-width=\"1.5\"/><path d=\"m73.263 149.23h29.543v-29.543h-29.543z\" clip-path=\"url(#pcfac3d9fca)\" fill=\"#121619\" stroke=\"#121619\" stroke-width=\"1.5\"/><path d=\"m98.374 138.89c0-2.7413-1.0901-5.3732-3.0285-7.3116-1.9384-1.9384-4.5702-3.0285-7.3116-3.0285s-5.3732 1.0901-7.3116 3.0285c-1.9384 1.9384-3.0285 4.5702-3.0285 7.3116\" clip-path=\"url(#pcfac3d9fca)\" fill=\"none\" stroke=\"#ffffff\" stroke-width=\"2\"/><path d=\"m118.71 58.332h29.543v-29.543h-29.543z\" clip-path=\"url(#pcfac3d9fca)\" fill=\"#121619\" stroke=\"#121619\" stroke-width=\"1.5\"/><path d=\"m143.83 47.992c0-2.7413-1.0901-5.3732-3.0285-7.3116-1.9384-1.9384-4.5702-3.0285-7.3116-3.0285-2.7413 0-5.3732 1.0901-7.3116 3.0285-1.9384 1.9384-3.0285 4.5702-3.0285 7.3116\" clip-path=\"url(#pcfac3d9fca)\" fill=\"none\" stroke=\"#ffffff\" stroke-width=\"2\"/><path d=\"m164.16 103.78h29.543v-29.543h-29.543z\" clip-path=\"url(#pcfac3d9fca)\" fill=\"#121619\" stroke=\"#121619\" stroke-width=\"1.5\"/><path d=\"m189.28 93.443c0-2.7413-1.0901-5.3732-3.0285-7.3116-1.9384-1.9384-4.5702-3.0285-7.3116-3.0285s-5.3732 1.0901-7.3116 3.0285c-1.9384 1.9384-3.0285 4.5702-3.0285 7.3116\" clip-path=\"url(#pcfac3d9fca)\" fill=\"none\" stroke=\"#ffffff\" stroke-width=\"2\"/><path d=\"m88.034 138.89 10.34-10.34\" clip-path=\"url(#pcfac3d9fca)\" fill=\"none\" stroke=\"#ffffff\" stroke-linecap=\"square\" stroke-width=\"2\"/><path d=\"m133.49 47.992 10.34-10.34\" clip-path=\"url(#pcfac3d9fca)\" fill=\"none\" stroke=\"#ffffff\" stroke-linecap=\"square\" stroke-width=\"2\"/><path d=\"m178.94 93.443 10.34-10.34\" clip-path=\"url(#pcfac3d9fca)\" fill=\"none\" stroke=\"#ffffff\" stroke-linecap=\"square\" stroke-width=\"2\"/><g clip-path=\"url(#pcfac3d9fca)\"><g transform=\"translate(36.363 48.012) scale(.1625 -.1625)\"><defs><path id=\"DejaVuSans-Oblique-71\" transform=\"scale(.015625)\" d=\"m2669 525q-231-303-546-460-314-156-695-156-531 0-833 358-301 358-301 986 0 506 186 978t533 847q225 244 517 375t614 131q387 0 637-153t363-462l100 525h578l-934-4813h-579l360 1844zm-1778 813q0-463 193-705 194-242 560-242 544 0 928 520t384 1264q0 450-199 689-198 239-569 239-272 0-504-127-231-126-403-370-181-256-286-600-104-343-104-668z\"/><path id=\"DejaVuSans-30\" transform=\"scale(.015625)\" d=\"m2034 4250q-487 0-733-480-245-479-245-1442 0-959 245-1439 246-480 733-480 491 0 736 480 246 480 246 1439 0 963-246 1442-245 480-736 480zm0 500q785 0 1199-621 414-620 414-1801 0-1178-414-1799-414-620-1199-620-784 0-1198 620-414 621-414 1799 0 1181 414 1801 414 621 1198 621z\"/></defs><use xlink:href=\"#DejaVuSans-Oblique-71\"/><use transform=\"translate(63.477 -16.406) scale(.7)\" xlink:href=\"#DejaVuSans-30\"/></g></g><g clip-path=\"url(#pcfac3d9fca)\"><g transform=\"translate(36.363 93.463) scale(.1625 -.1625)\"><defs><path id=\"DejaVuSans-31\" transform=\"scale(.015625)\" d=\"m794 531h1031v3560l-1122-225v575l1116 225h631v-4135h1031v-531h-2687v531z\"/></defs><use xlink:href=\"#DejaVuSans-Oblique-71\"/><use transform=\"translate(63.477 -16.406) scale(.7)\" xlink:href=\"#DejaVuSans-31\"/></g></g><g clip-path=\"url(#pcfac3d9fca)\"><g transform=\"translate(36.363 138.91) scale(.1625 -.1625)\"><defs><path id=\"DejaVuSans-32\" transform=\"scale(.015625)\" d=\"m1228 531h2203v-531h-2962v531q359 372 979 998 621 627 780 809 303 340 423 576 121 236 121 464 0 372-261 606-261 235-680 235-297 0-627-103-329-103-704-313v638q381 153 712 231 332 78 607 78 725 0 1156-363 431-362 431-968 0-288-108-546-107-257-392-607-78-91-497-524-418-433-1181-1211z\"/></defs><use xlink:href=\"#DejaVuSans-Oblique-71\"/><use transform=\"translate(63.477 -16.406) scale(.7)\" xlink:href=\"#DejaVuSans-32\"/></g></g><g clip-path=\"url(#pcfac3d9fca)\"><g transform=\"translate(68.036 173.21) scale(.104 -.104)\"><defs><path id=\"DejaVuSans-33\" transform=\"scale(.015625)\" d=\"m2597 2516q453-97 707-404 255-306 255-756 0-690-475-1069-475-378-1350-378-293 0-604 58t-642 174v609q262-153 574-231 313-78 654-78 593 0 904 234t311 681q0 413-289 645-289 233-804 233h-544v519h569q465 0 712 186t247 536q0 359-255 551-254 193-729 193-260 0-557-57-297-56-653-174v562q360 100 674 150t592 50q719 0 1137-327 419-326 419-882 0-388-222-655t-631-370z\"/></defs><use xlink:href=\"#DejaVuSans-33\"/></g></g><g clip-path=\"url(#pcfac3d9fca)\"><g transform=\"translate(45.466 184.4) scale(.1625 -.1625)\"><defs><path id=\"DejaVuSans-63\" transform=\"scale(.015625)\" d=\"m3122 3366v-538q-244 135-489 202t-495 67q-560 0-870-355-309-354-309-995t309-996q310-354 870-354 250 0 495 67t489 202v-532q-241-112-499-168-257-57-548-57-791 0-1257 497-465 497-465 1341 0 856 470 1346 471 491 1290 491 265 0 518-55 253-54 491-163z\"/></defs><use xlink:href=\"#DejaVuSans-63\"/></g></g><g clip-path=\"url(#pcfac3d9fca)\"><g transform=\"translate(83.582 47.148) scale(.13 -.13)\" fill=\"#ffffff\"><defs><path id=\"DejaVuSans-58\" transform=\"scale(.015625)\" d=\"m403 4666h678l1160-1735 1165 1735h678l-1500-2241 1600-2425h-678l-1312 1984-1322-1984h-681l1665 2491-1453 2175z\"/></defs><use xlink:href=\"#DejaVuSans-58\"/></g></g><g clip-path=\"url(#pcfac3d9fca)\"><g transform=\"translate(83.582 92.599) scale(.13 -.13)\" fill=\"#ffffff\"><use xlink:href=\"#DejaVuSans-58\"/></g></g><g clip-path=\"url(#pcfac3d9fca)\"><g transform=\"translate(99.397 173.21) scale(.104 -.104)\"><use xlink:href=\"#DejaVuSans-32\"/></g></g><g clip-path=\"url(#pcfac3d9fca)\"><g transform=\"translate(144.85 173.21) scale(.104 -.104)\"><use xlink:href=\"#DejaVuSans-30\"/></g></g><g clip-path=\"url(#pcfac3d9fca)\"><g transform=\"translate(190.3 173.21) scale(.104 -.104)\"><use xlink:href=\"#DejaVuSans-31\"/></g></g><defs><clipPath id=\"pcfac3d9fca\"><rect x=\"7.2\" y=\"7.2\" width=\"201.73\" height=\"199.98\"/></clipPath></defs></svg>"
            ],
            "text/plain": [
              "<Figure size 267.197x264.88 with 1 Axes>"
            ]
          },
          "execution_count": 5,
          "metadata": {
          },
          "output_type": "execute_result"
        }
      ],
      "source": [
        "# Crie um circuito quântico com 3 qubits e 3 bits clássicos:\n",
        "qc = QuantumCircuit(3, 3)\n",
        "qc.x([0,1]) # Executa X-gates nos qubits 0 e 1\n",
        "qc.measure([0,1,2], [0,1,2])\n",
        "qc.draw() # retorna um desenho do circuito"
      ]
    },
    {
      "cell_type": "markdown",
      "metadata": {
      },
      "source": [
        "E vamos simular nosso circuito para ver os resultados:"
      ]
    },
    {
      "cell_type": "code",
      "execution_count": 6,
      "metadata": {
      },
      "outputs": [
        {
          "data": {
            "text/plain": [
              "{'011': 1024}"
            ]
          },
          "execution_count": 6,
          "metadata": {
          },
          "output_type": "execute_result"
        }
      ],
      "source": [
        "job = sim.run(qc) # executa o experimento\n",
        "result = job.result() # obtém os resultados\n",
        "result.get_counts() # interpreta os resultados como um dicionário de \"contagens\""
      ]
    },
    {
      "cell_type": "markdown",
      "metadata": {
      },
      "source": [
        "<!-- ::: q-block.exercise -->\n",
        "\n",
        "### Questionário rápido\n",
        "\n",
        "<!-- ::: q-quiz(goal=\"intro-aoc-2\") -->\n",
        "\n",
        "<!-- ::: .question -->\n",
        "\n",
        "Qual é o número binário `011` em decimal?\n",
        "\n",
        "<!-- ::: -->\n",
        "\n",
        "<!-- ::: .option -->\n",
        "\n",
        "1. 5\n",
        "\n",
        "<!-- ::: -->\n",
        "\n",
        "<!-- ::: .option -->\n",
        "\n",
        "1. 2\n",
        "\n",
        "<!-- ::: -->\n",
        "\n",
        "<!-- ::: .option(correct) -->\n",
        "\n",
        "1. 3\n",
        "\n",
        "<!-- ::: -->\n",
        "\n",
        "<!-- ::: -->\n",
        "\n",
        "Modifique o código acima para criar um circuito quântico que codifique os números 6 e 4. Os resultados são os esperados?\n",
        "\n",
        "<!-- ::: -->\n",
        "\n",
        "Agora sabemos como codificar informações em um computador. O próximo passo é processá-la: pegar uma entrada que codificamos e transformá-la em uma saída que nos diga algo novo.\n",
        "\n",
        "## Criando um circuito somador\n",
        "\n",
        "### Lembrando como somar\n",
        "\n",
        "Para olhar para transformar entradas em saídas, precisamos de um problema para resolver. Vamos fazer algumas contas básicas. Na escola primária, você aprendeu como pegar grandes problemas matemáticos e dividi-los em partes gerenciáveis. Por exemplo, como você resolveria esse problema de adição?\n",
        "\n",
        "<!-- ::: q-block -->\n",
        "\n",
        "### Lembrando como somar\n",
        "\n",
        "<!-- ::: q-carousel -->\n",
        "\n",
        "<!-- ::: div -->\n",
        "\n",
        "![imagem de adição](images/aoc/carousel/0/0.svg)\n",
        "\n",
        "Como podemos resolver um problema como este? Clique neste carrossel para descobrir.\n",
        "\n",
        "<!-- ::: -->\n",
        "\n",
        "<!-- ::: div -->\n",
        "\n",
        "![imagem de adição](images/aoc/carousel/0/1.svg)\n",
        "\n",
        "Uma maneira é fazê-lo dígito por dígito, da direita para a esquerda. Então começamos com 3+4.\n",
        "\n",
        "<!-- ::: -->\n",
        "\n",
        "<!-- ::: div -->\n",
        "\n",
        "![imagem de adição](images/aoc/carousel/0/2.svg)\n",
        "\n",
        "E então 1+5.\n",
        "\n",
        "<!-- ::: -->\n",
        "\n",
        "<!-- ::: div -->\n",
        "\n",
        "![imagem de adição](images/aoc/carousel/0/3.svg)\n",
        "\n",
        "Depois 2+8.\n",
        "\n",
        "<!-- ::: -->\n",
        "\n",
        "<!-- ::: div -->\n",
        "\n",
        "![imagem de adição](images/aoc/carousel/0/4.svg)\n",
        "\n",
        "Finalmente temos 9+1+1, e obtemos nossa resposta.\n",
        "\n",
        "<!-- ::: -->\n",
        "\n",
        "<!-- ::: -->\n",
        "\n",
        "<!-- ::: -->\n",
        "\n",
        "Isso pode ser apenas uma simples adição, mas demonstra os princípios por trás de todos os algoritmos. Quer o algoritmo seja projetado para resolver problemas matemáticos ou processar texto ou imagens, sempre dividimos grandes tarefas em etapas pequenas e simples.\n",
        "\n",
        "Para rodar em um computador, os algoritmos precisam ser compilados nos menores e mais simples passos possíveis. Para ver como eles se parecem, vamos fazer o problema de adição acima novamente, mas em binário.\n",
        "\n",
        "<!-- ::: q-block -->\n",
        "\n",
        "### Somando números binários\n",
        "\n",
        "<!-- ::: q-carousel -->\n",
        "\n",
        "<!-- ::: div -->\n",
        "\n",
        "![imagem de adição](images/aoc/carousel/1/0.svg)\n",
        "\n",
        "Observe que o segundo número tem um monte de 0s extras à esquerda. Isso serve apenas para fazer as duas strings terem o mesmo comprimento.\n",
        "\n",
        "<!-- ::: -->\n",
        "\n",
        "<!-- ::: div -->\n",
        "\n",
        "![imagem de adição](images/aoc/carousel/1/1.svg)\n",
        "\n",
        "Nossa primeira tarefa é fazer o 1+0 para a coluna da direita. Em binário, como em qualquer sistema de numeração, a resposta é 1.\n",
        "\n",
        "<!-- ::: -->\n",
        "\n",
        "<!-- ::: div -->\n",
        "\n",
        "![imagem de adição](images/aoc/carousel/1/2.svg)\n",
        "\n",
        "Obtemos o mesmo resultado para o 0+1 da segunda coluna.\n",
        "\n",
        "<!-- ::: -->\n",
        "\n",
        "<!-- ::: div -->\n",
        "\n",
        "![imagem de adição](images/aoc/carousel/1/3.svg)\n",
        "\n",
        "Em seguida, temos 1+1. Como você certamente saberá, 1+1=2. Em binário, o número 2 é escrito 10 e, portanto, requer dois bits. Isso significa que precisamos carregar o 1, assim como faríamos para o número 10 em decimal. A próxima coluna agora exige que calculemos 1+1+1. Isso significa somar três números juntos, então as coisas estão ficando complicadas para o nosso computador.\n",
        "\n",
        "<!-- ::: -->\n",
        "\n",
        "<!-- ::: div -->\n",
        "\n",
        "![imagem de adição](images/aoc/carousel/1/4.svg)\n",
        "\n",
        "Mas ainda podemos compilá-lo para operações mais simples e fazê-lo de uma maneira que exija apenas que adicionemos dois bits. Para isso, podemos começar com apenas os dois primeiros 1s.\n",
        "\n",
        "<!-- ::: -->\n",
        "\n",
        "<!-- ::: div -->\n",
        "\n",
        "![imagem de adição](images/aoc/carousel/1/5.svg)\n",
        "\n",
        "Agora precisamos adicionar este 10 ao 1 final, o que pode ser feito usando nosso método usual de percorrer as colunas. A resposta final é 11 (também conhecido como 3).\n",
        "\n",
        "<!-- ::: -->\n",
        "\n",
        "<!-- ::: div -->\n",
        "\n",
        "![imagem de adição](images/aoc/carousel/1/6.svg)\n",
        "\n",
        "Agora podemos voltar ao resto do problema. Com a resposta de 11, temos que carregar outro bit. Então agora temos mais 1+1+1 para fazer. Mas já sabemos como fazer isso, então não é grande coisa.\n",
        "\n",
        "<!-- ::: -->\n",
        "\n",
        "<!-- ::: div -->\n",
        "\n",
        "Na verdade, tudo o que resta até agora é algo que já sabemos fazer. Isso ocorre porque, se você dividir tudo em apenas dois bits, haverá apenas quatro coisas possíveis que você precisará calcular. Aqui estão as quatro somas básicas (escreveremos todas as respostas com dois bits para ser consistente):\n",
        "\n",
        "![imagem de adição](images/aoc/carousel/1/7.svg)\n",
        "\n",
        "Isso é chamado de meio somador. Se nosso computador puder implementar isso, e se puder encadear muitos deles, ele poderá adicionar qualquer coisa.\n",
        "\n",
        "<!-- ::: -->\n",
        "\n",
        "<!-- ::: -->\n",
        "\n",
        "<!-- ::: -->\n",
        "\n",
        "### Adicionando com circuitos quânticos\n",
        "\n",
        "Vamos fazer nosso próprio meio somador a partir de um circuito quântico. Isso incluirá uma parte do circuito que codifica a entrada, uma parte que executa o algoritmo e uma parte que extrai o resultado. A primeira parte precisará ser alterada sempre que quisermos usar uma nova entrada, mas o restante permanecerá sempre o mesmo.\n",
        "\n",
        "![esboço do nosso circuito somador](images/aoc/half-adder.svg)\n",
        "\n",
        "Os dois bits que queremos somar são codificados nos qubits 0 e 1. O exemplo acima codifica um 1 em ambos os qubits e, portanto, procura encontrar a solução de 1+1. O resultado será uma string de dois bits, que leremos dos qubits 2 e 3. Tudo o que resta é preencher o programa real, que fica no espaço em branco no meio.\n",
        "\n",
        "As linhas tracejadas na imagem são apenas para distinguir as diferentes partes do circuito (embora possam ter usos mais interessantes também)\n",
        "\n",
        "As operações básicas da computação são conhecidas como portas lógicas. Já usamos a porta NOT, mas isso não é suficiente para fazer nosso meio somador. Só poderíamos usá-lo para escrever manualmente as respostas. Como queremos que o computador faça a computação real para nós, precisaremos de algumas portas mais poderosas.\n",
        "\n",
        "Para ver o que precisamos, vamos dar outra olhada no que nosso meio somador precisa fazer.\n",
        "\n",
        "![operações necessárias de um meio somador](images/aoc/half_adder_reqs.svg)\n",
        "\n",
        "O bit mais à direita em todas essas quatro respostas é completamente determinado se os dois bits que estamos adicionando são iguais ou diferentes. Assim, para 0+0 e 1+1, onde os dois bits são iguais, o bit mais à direita da resposta é 0. Para 0+1 e 1+0, onde estamos adicionando valores de bits diferentes, o bit mais à direita é 1.\n",
        "\n",
        "Para corrigir essa parte de nossa solução, precisamos de algo que possa descobrir se dois bits são diferentes ou não. Tradicionalmente, no estudo da computação digital, isso é chamado de porta XOR.\n",
        "\n",
        "<table>\n",
        "<thead>\n",
        "  <tr>\n",
        "    <th>Entrada 1</th>\n",
        "    <th>Entrada 2</th>\n",
        "    <th>Saída XOR</th>\n",
        "  </tr>\n",
        "</thead>\n",
        "<tbody>\n",
        "  <tr>\n",
        "    <td>0</td>\n",
        "    <td>0</td>\n",
        "    <td>0</td>\n",
        "  </tr>\n",
        "  <tr>\n",
        "    <td>0</td>\n",
        "    <td>1</td>\n",
        "    <td>1</td>\n",
        "  </tr>\n",
        "  <tr>\n",
        "    <td>1</td>\n",
        "    <td>0</td>\n",
        "    <td>1</td>\n",
        "  </tr>\n",
        "  <tr>\n",
        "    <td>1</td>\n",
        "    <td>1</td>\n",
        "    <td>0</td>\n",
        "  </tr>\n",
        "</tbody>\n",
        "</table>\n",
        "\n",
        "Em computadores quânticos, o trabalho da porta XOR é feito pelo 'porta controlled-NOT'. Como esse é um nome bastante longo, geralmente o chamamos de 'CNOT'. Nos diagramas de circuito, ele é desenhado como na imagem abaixo. Isso é aplicado a um par de qubits. Um atua como o qubit de controle (este é aquele com o pontinho). O outro atua como o qubit de alvo (com o grande círculo e a cruz - como uma marca de alvo).\n",
        "\n",
        "![imagem da porta CNOT](images/aoc/cnot_xor.svg)\n",
        "\n",
        "No Qiskit, podemos usar o método `.cx()` para adicionar um CNOT ao nosso circuito. Precisamos fornecer os índices dos dois qubits em que atua como argumentos. Aqui está um exemplo:"
      ]
    },
    {
      "cell_type": "code",
      "execution_count": 7,
      "metadata": {
      },
      "outputs": [
        {
          "data": {
            "image/svg+xml": [
              "<?xml version=\"1.0\" encoding=\"UTF-8\"?><!DOCTYPE svg  PUBLIC '-//W3C//DTD SVG 1.1//EN'  'http://www.w3.org/Graphics/SVG/1.1/DTD/svg11.dtd'><svg width=\"261.48pt\" height=\"168.93pt\" version=\"1.1\" viewBox=\"0 0 261.48 168.93\" xmlns=\"http://www.w3.org/2000/svg\" xmlns:xlink=\"http://www.w3.org/1999/xlink\"><defs><style type=\"text/css\">*{stroke-linecap:butt;stroke-linejoin:round;}</style></defs><path d=\"m0 168.93h261.48v-168.93h-261.48z\" fill=\"#ffffff\"/><path d=\"m172.92 124.12h11.817l-5.9086 8.5221z\" clip-path=\"url(#p1477cbf34c)\" fill=\"#778899\"/><path d=\"m218.37 124.12h11.817l-5.9086 8.5221z\" clip-path=\"url(#p1477cbf34c)\" fill=\"#778899\"/><path d=\"m63.381 43.561h186.35\" clip-path=\"url(#p1477cbf34c)\" fill=\"none\" stroke=\"#000000\" stroke-linecap=\"square\" stroke-width=\"2\"/><path d=\"m63.381 89.012h186.35\" clip-path=\"url(#p1477cbf34c)\" fill=\"none\" stroke=\"#000000\" stroke-linecap=\"square\" stroke-width=\"2\"/><path d=\"m63.381 132.99h186.35\" clip-path=\"url(#p1477cbf34c)\" fill=\"none\" stroke=\"#778899\" stroke-linecap=\"square\" stroke-width=\"2\"/><path d=\"m63.381 135.94h186.35\" clip-path=\"url(#p1477cbf34c)\" fill=\"none\" stroke=\"#778899\" stroke-linecap=\"square\" stroke-width=\"2\"/><path d=\"m72.471 139.01 4.5451-9.0902\" clip-path=\"url(#p1477cbf34c)\" fill=\"none\" stroke=\"#778899\" stroke-linecap=\"square\" stroke-width=\"1.5\"/><path d=\"m133.38 89.012v-45.451\" clip-path=\"url(#p1477cbf34c)\" fill=\"none\" stroke=\"#1192e8\" stroke-linecap=\"square\" stroke-width=\"2\"/><path d=\"m180.3 43.561v80.562\" clip-path=\"url(#p1477cbf34c)\" fill=\"none\" stroke=\"#778899\" stroke-linecap=\"square\" stroke-width=\"2\"/><path d=\"m177.35 43.561v80.562\" clip-path=\"url(#p1477cbf34c)\" fill=\"none\" stroke=\"#778899\" stroke-linecap=\"square\" stroke-width=\"2\"/><path d=\"m225.75 89.012v35.111\" clip-path=\"url(#p1477cbf34c)\" fill=\"none\" stroke=\"#778899\" stroke-linecap=\"square\" stroke-width=\"2\"/><path d=\"m222.8 89.012v35.111\" clip-path=\"url(#p1477cbf34c)\" fill=\"none\" stroke=\"#778899\" stroke-linecap=\"square\" stroke-width=\"2\"/><path d=\"m73.153 58.332h29.543v-29.543h-29.543z\" clip-path=\"url(#p1477cbf34c)\" fill=\"#005d5d\" stroke=\"#005d5d\" stroke-width=\"1.5\"/><path d=\"m133.38 47.992c1.1752 0 2.3025-0.46693 3.1335-1.2979 0.83102-0.83102 1.2979-1.9583 1.2979-3.1335 0-1.1752-0.46693-2.3025-1.2979-3.1335-0.83102-0.83102-1.9583-1.2979-3.1335-1.2979-1.1752 0-2.3025 0.46693-3.1335 1.2979-0.83102 0.83102-1.2979 1.9583-1.2979 3.1335 0 1.1752 0.46693 2.3025 1.2979 3.1335 0.83102 0.83102 1.9583 1.2979 3.1335 1.2979z\" clip-path=\"url(#p1477cbf34c)\" fill=\"#1192e8\" stroke=\"#1192e8\" stroke-width=\"1.5\"/><path d=\"m133.38 99.352c2.7422 0 5.3725-1.0895 7.3116-3.0285 1.939-1.939 3.0285-4.5693 3.0285-7.3116s-1.0895-5.3725-3.0285-7.3116c-1.939-1.939-4.5693-3.0285-7.3116-3.0285-2.7422 0-5.3725 1.0895-7.3116 3.0285-1.939 1.939-3.0285 4.5693-3.0285 7.3116s1.0895 5.3725 3.0285 7.3116c1.939 1.939 4.5693 3.0285 7.3116 3.0285z\" clip-path=\"url(#p1477cbf34c)\" fill=\"#1192e8\" stroke=\"#1192e8\" stroke-width=\"2\"/><path d=\"m164.06 58.332h29.543v-29.543h-29.543z\" clip-path=\"url(#p1477cbf34c)\" fill=\"#121619\" stroke=\"#121619\" stroke-width=\"1.5\"/><path d=\"m189.17 47.992c0-2.7413-1.0901-5.3732-3.0285-7.3116-1.9384-1.9384-4.5702-3.0285-7.3116-3.0285s-5.3732 1.0901-7.3116 3.0285c-1.9384 1.9384-3.0285 4.5702-3.0285 7.3116\" clip-path=\"url(#p1477cbf34c)\" fill=\"none\" stroke=\"#ffffff\" stroke-width=\"2\"/><path d=\"m209.51 103.78h29.543v-29.543h-29.543z\" clip-path=\"url(#p1477cbf34c)\" fill=\"#121619\" stroke=\"#121619\" stroke-width=\"1.5\"/><path d=\"m234.62 93.443c0-2.7413-1.0901-5.3732-3.0285-7.3116-1.9384-1.9384-4.5702-3.0285-7.3116-3.0285s-5.3732 1.0901-7.3116 3.0285c-1.9384 1.9384-3.0285 4.5702-3.0285 7.3116\" clip-path=\"url(#p1477cbf34c)\" fill=\"none\" stroke=\"#ffffff\" stroke-width=\"2\"/><path d=\"m178.83 47.992 10.34-10.34\" clip-path=\"url(#p1477cbf34c)\" fill=\"none\" stroke=\"#ffffff\" stroke-linecap=\"square\" stroke-width=\"2\"/><path d=\"m224.28 93.443 10.34-10.34\" clip-path=\"url(#p1477cbf34c)\" fill=\"none\" stroke=\"#ffffff\" stroke-linecap=\"square\" stroke-width=\"2\"/><path d=\"m133.38 94.92v-11.817\" clip-path=\"url(#p1477cbf34c)\" fill=\"none\" stroke=\"#ffffff\" stroke-linecap=\"square\" stroke-width=\"2\"/><path d=\"m127.47 89.012h11.817\" clip-path=\"url(#p1477cbf34c)\" fill=\"none\" stroke=\"#ffffff\" stroke-linecap=\"square\" stroke-width=\"2\"/><g clip-path=\"url(#p1477cbf34c)\"><g transform=\"translate(36.253 48.012) scale(.1625 -.1625)\"><defs><path id=\"DejaVuSans-Oblique-71\" transform=\"scale(.015625)\" d=\"m2669 525q-231-303-546-460-314-156-695-156-531 0-833 358-301 358-301 986 0 506 186 978t533 847q225 244 517 375t614 131q387 0 637-153t363-462l100 525h578l-934-4813h-579l360 1844zm-1778 813q0-463 193-705 194-242 560-242 544 0 928 520t384 1264q0 450-199 689-198 239-569 239-272 0-504-127-231-126-403-370-181-256-286-600-104-343-104-668z\"/><path id=\"DejaVuSans-30\" transform=\"scale(.015625)\" d=\"m2034 4250q-487 0-733-480-245-479-245-1442 0-959 245-1439 246-480 733-480 491 0 736 480 246 480 246 1439 0 963-246 1442-245 480-736 480zm0 500q785 0 1199-621 414-620 414-1801 0-1178-414-1799-414-620-1199-620-784 0-1198 620-414 621-414 1799 0 1181 414 1801 414 621 1198 621z\"/></defs><use xlink:href=\"#DejaVuSans-Oblique-71\"/><use transform=\"translate(63.477 -16.406) scale(.7)\" xlink:href=\"#DejaVuSans-30\"/></g></g><g clip-path=\"url(#p1477cbf34c)\"><g transform=\"translate(36.253 93.463) scale(.1625 -.1625)\"><defs><path id=\"DejaVuSans-31\" transform=\"scale(.015625)\" d=\"m794 531h1031v3560l-1122-225v575l1116 225h631v-4135h1031v-531h-2687v531z\"/></defs><use xlink:href=\"#DejaVuSans-Oblique-71\"/><use transform=\"translate(63.477 -16.406) scale(.7)\" xlink:href=\"#DejaVuSans-31\"/></g></g><g clip-path=\"url(#p1477cbf34c)\"><g transform=\"translate(67.926 127.75) scale(.104 -.104)\"><defs><path id=\"DejaVuSans-32\" transform=\"scale(.015625)\" d=\"m1228 531h2203v-531h-2962v531q359 372 979 998 621 627 780 809 303 340 423 576 121 236 121 464 0 372-261 606-261 235-680 235-297 0-627-103-329-103-704-313v638q381 153 712 231 332 78 607 78 725 0 1156-363 431-362 431-968 0-288-108-546-107-257-392-607-78-91-497-524-418-433-1181-1211z\"/></defs><use xlink:href=\"#DejaVuSans-32\"/></g></g><g clip-path=\"url(#p1477cbf34c)\"><g transform=\"translate(45.356 138.95) scale(.1625 -.1625)\"><defs><path id=\"DejaVuSans-63\" transform=\"scale(.015625)\" d=\"m3122 3366v-538q-244 135-489 202t-495 67q-560 0-870-355-309-354-309-995t309-996q310-354 870-354 250 0 495 67t489 202v-532q-241-112-499-168-257-57-548-57-791 0-1257 497-465 497-465 1341 0 856 470 1346 471 491 1290 491 265 0 518-55 253-54 491-163z\"/></defs><use xlink:href=\"#DejaVuSans-63\"/></g></g><g clip-path=\"url(#p1477cbf34c)\"><g transform=\"translate(83.472 47.148) scale(.13 -.13)\" fill=\"#ffffff\"><defs><path id=\"DejaVuSans-58\" transform=\"scale(.015625)\" d=\"m403 4666h678l1160-1735 1165 1735h678l-1500-2241 1600-2425h-678l-1312 1984-1322-1984h-681l1665 2491-1453 2175z\"/></defs><use xlink:href=\"#DejaVuSans-58\"/></g></g><g clip-path=\"url(#p1477cbf34c)\"><g transform=\"translate(190.19 127.75) scale(.104 -.104)\"><use xlink:href=\"#DejaVuSans-30\"/></g></g><g clip-path=\"url(#p1477cbf34c)\"><g transform=\"translate(235.64 127.75) scale(.104 -.104)\"><use xlink:href=\"#DejaVuSans-31\"/></g></g><defs><clipPath id=\"p1477cbf34c\"><rect x=\"7.2\" y=\"7.2\" width=\"247.08\" height=\"154.53\"/></clipPath></defs></svg>"
            ],
            "text/plain": [
              "<Figure size 327.252x204.68 with 1 Axes>"
            ]
          },
          "metadata": {
          },
          "output_type": "display_data"
        },
        {
          "name": "stdout",
          "output_type": "stream",
          "text": [
            "Result:  {'11': 1024}\n"
          ]
        }
      ],
      "source": [
        "# Crie um circuito quântico com 2 qubits e 2 bits clássicos\n",
        "qc = QuantumCircuit(2, 2)\n",
        "qc.x(0)\n",
        "qc.cx(0,1) # CNOT controlado pelo qubit 0 e direcionado ao qubit 1\n",
        "qc.measure([0,1], [0,1])\n",
        "display(qc.draw()) # exibe um desenho do circuito\n",
        "\n",
        "job = sim.run(qc) # executa o experimento\n",
        "result = job.result() # obtém os resultados\n",
        "# interpreta os resultados como um dicionário de \"contagens\"\n",
        "print(\"Resultado: \", result.get_counts())"
      ]
    },
    {
      "cell_type": "markdown",
      "metadata": {
        "gloss": {
          "Toffoli": {
            "text": "This gate is named after the scientist <a href='https://en.wikipedia.org/wiki/Tommaso_Toffoli'>Tommaso Toffoli</a>.",
            "title": "Toffoli gate"
          }
        }
      },
      "source": [
        "Para nosso meio somador, não queremos substituir uma de nossas entradas. Em vez disso, queremos escrever o resultado em um par diferente de qubits. Para isso, podemos usar dois CNOTs e escrever a saída em um novo qubit que sabemos que estará no estado 0:\n",
        "\n",
        "![diagrama de circuito do uso de dois CNOTs para criar uma porta XOR](images/aoc/xor.svg)\n",
        "\n",
        "Estamos agora a meio caminho de um meio somador totalmente funcional. Sabemos como calcular o bit de saída mais à direita, então só precisamos descobrir como calcular o bit de saída à esquerda. Se você olhar novamente para as quatro somas possíveis, notará que há apenas um caso para o qual isso é 1 em vez de 0: 1+1=10. Isso acontece apenas quando os dois bits que estamos adicionando são 1.\n",
        "\n",
        "![operações necessárias de um meio somador](images/aoc/half_adder_reqs.svg)\n",
        "\n",
        "Para calcular essa parte da saída, podemos apenas fazer com que nosso computador verifique se ambas as entradas são 1. Se forem - e somente se forem - precisamos fazer um portão NOT no qubit 3. Isso o inverterá para o valor necessário de 1 apenas para este caso, dando-nos a saída que precisamos.\n",
        "\n",
        "Para isso, precisamos de um novo portão: como um CNOT, mas controlado em dois qubits em vez de apenas um. Isso executará um NOT no qubit de alvo somente quando ambos os controles estiverem no estado 1. Essa nova porta é chamada de porta [Toffoli](gloss:toffoli) . Para aqueles que estão familiarizados com as portas lógicas booleanas, é basicamente uma porta AND.\n",
        "\n",
        "![circuito quântico meio somador](images/aoc/ha_circuit.svg)\n",
        "\n",
        "No Qiskit, podemos adicionar isso a um circuito usando o método `.ccx()` . Conseguimos! Um circuito que pode calcular o famoso problema matemático de 1+1."
      ]
    },
    {
      "cell_type": "markdown",
      "metadata": {
      },
      "source": [
        "<!-- ::: q-block.exercise -->\n",
        "\n",
        "### Tente\n",
        "\n",
        "Organize os blocos para criar o bloco de código que produz o circuito meio somador acima.\n",
        "\n",
        "    q-drag-and-drop-code(goal=\"intro-aoc-3\")\n",
        "        .line from qiskit import QuantumCircuit\n",
        "        .line qc = QuantumCircuit(4, 2)\n",
        "        .line(group=0) qc.cx(0, 2)\n",
        "        .line(group=0) qc.cx(1, 2)\n",
        "        .line(group=0) qc.ccx(0, 1, 3) \n",
        "        .result-info\n",
        "\n",
        "<!-- ::: -->"
      ]
    },
    {
      "cell_type": "markdown",
      "metadata": {
      },
      "source": [
        "Excelente! Agora temos nosso meio somador, a próxima coisa a fazer é verificar se funciona. Para fazer isso, criaremos outro circuito que codifica alguma entrada, aplica o meio somador e extrai a saída. "
      ]
    },
    {
      "cell_type": "code",
      "execution_count": 8,
      "metadata": {
      },
      "outputs": [
        {
          "data": {
            "image/svg+xml": [
              "<?xml version=\"1.0\" encoding=\"UTF-8\"?><!DOCTYPE svg  PUBLIC '-//W3C//DTD SVG 1.1//EN'  'http://www.w3.org/Graphics/SVG/1.1/DTD/svg11.dtd'><svg width=\"352.49pt\" height=\"259.84pt\" version=\"1.1\" viewBox=\"0 0 352.49 259.84\" xmlns=\"http://www.w3.org/2000/svg\" xmlns:xlink=\"http://www.w3.org/1999/xlink\"><defs><style type=\"text/css\">*{stroke-linecap:butt;stroke-linejoin:round;}</style></defs><path d=\"m0 259.84h352.49v-259.84h-352.49z\" fill=\"#ffffff\"/><path d=\"m263.93 215.02h11.817l-5.9086 8.5221z\" clip-path=\"url(#pc0339bf3e5)\" fill=\"#778899\"/><path d=\"m309.38 215.02h11.817l-5.9086 8.5221z\" clip-path=\"url(#pc0339bf3e5)\" fill=\"#778899\"/><path d=\"m63.491 43.561h277.25\" clip-path=\"url(#pc0339bf3e5)\" fill=\"none\" stroke=\"#000000\" stroke-linecap=\"square\" stroke-width=\"2\"/><path d=\"m63.491 89.012h277.25\" clip-path=\"url(#pc0339bf3e5)\" fill=\"none\" stroke=\"#000000\" stroke-linecap=\"square\" stroke-width=\"2\"/><path d=\"m63.491 134.46h277.25\" clip-path=\"url(#pc0339bf3e5)\" fill=\"none\" stroke=\"#000000\" stroke-linecap=\"square\" stroke-width=\"2\"/><path d=\"m63.491 179.91h277.25\" clip-path=\"url(#pc0339bf3e5)\" fill=\"none\" stroke=\"#000000\" stroke-linecap=\"square\" stroke-width=\"2\"/><path d=\"m63.491 223.89h277.25\" clip-path=\"url(#pc0339bf3e5)\" fill=\"none\" stroke=\"#778899\" stroke-linecap=\"square\" stroke-width=\"2\"/><path d=\"m63.491 226.84h277.25\" clip-path=\"url(#pc0339bf3e5)\" fill=\"none\" stroke=\"#778899\" stroke-linecap=\"square\" stroke-width=\"2\"/><path d=\"m72.581 229.91 4.5451-9.0902\" clip-path=\"url(#pc0339bf3e5)\" fill=\"none\" stroke=\"#778899\" stroke-linecap=\"square\" stroke-width=\"1.5\"/><path d=\"m133.49 134.46v-90.902\" clip-path=\"url(#pc0339bf3e5)\" fill=\"none\" stroke=\"#1192e8\" stroke-linecap=\"square\" stroke-width=\"2\"/><path d=\"m178.94 134.46v-45.451\" clip-path=\"url(#pc0339bf3e5)\" fill=\"none\" stroke=\"#1192e8\" stroke-linecap=\"square\" stroke-width=\"2\"/><path d=\"m224.39 179.91v-136.35\" clip-path=\"url(#pc0339bf3e5)\" fill=\"none\" stroke=\"#6929c4\" stroke-linecap=\"square\" stroke-width=\"2\"/><path d=\"m271.32 134.46v80.562\" clip-path=\"url(#pc0339bf3e5)\" fill=\"none\" stroke=\"#778899\" stroke-linecap=\"square\" stroke-width=\"2\"/><path d=\"m268.36 134.46v80.562\" clip-path=\"url(#pc0339bf3e5)\" fill=\"none\" stroke=\"#778899\" stroke-linecap=\"square\" stroke-width=\"2\"/><path d=\"m316.77 179.91v35.111\" clip-path=\"url(#pc0339bf3e5)\" fill=\"none\" stroke=\"#778899\" stroke-linecap=\"square\" stroke-width=\"2\"/><path d=\"m313.81 179.91v35.111\" clip-path=\"url(#pc0339bf3e5)\" fill=\"none\" stroke=\"#778899\" stroke-linecap=\"square\" stroke-width=\"2\"/><path d=\"m73.263 58.332h29.543v-29.543h-29.543z\" clip-path=\"url(#pc0339bf3e5)\" fill=\"#005d5d\" stroke=\"#005d5d\" stroke-width=\"1.5\"/><path d=\"m73.263 103.78h29.543v-29.543h-29.543z\" clip-path=\"url(#pc0339bf3e5)\" fill=\"#005d5d\" stroke=\"#005d5d\" stroke-width=\"1.5\"/><path d=\"m133.49 47.992c1.1752 0 2.3025-0.46693 3.1335-1.2979 0.83102-0.83102 1.2979-1.9583 1.2979-3.1335 0-1.1752-0.46693-2.3025-1.2979-3.1335-0.83102-0.83102-1.9583-1.2979-3.1335-1.2979-1.1752 0-2.3025 0.46693-3.1335 1.2979-0.83102 0.83102-1.2979 1.9583-1.2979 3.1335 0 1.1752 0.46693 2.3025 1.2979 3.1335 0.83102 0.83102 1.9583 1.2979 3.1335 1.2979z\" clip-path=\"url(#pc0339bf3e5)\" fill=\"#1192e8\" stroke=\"#1192e8\" stroke-width=\"1.5\"/><path d=\"m133.49 144.8c2.7422 0 5.3725-1.0895 7.3116-3.0285 1.939-1.939 3.0285-4.5693 3.0285-7.3116 0-2.7422-1.0895-5.3725-3.0285-7.3116-1.939-1.939-4.5693-3.0285-7.3116-3.0285-2.7422 0-5.3725 1.0895-7.3116 3.0285-1.939 1.939-3.0285 4.5693-3.0285 7.3116 0 2.7422 1.0895 5.3725 3.0285 7.3116 1.939 1.939 4.5693 3.0285 7.3116 3.0285z\" clip-path=\"url(#pc0339bf3e5)\" fill=\"#1192e8\" stroke=\"#1192e8\" stroke-width=\"2\"/><path d=\"m178.94 93.443c1.1752 0 2.3025-0.46693 3.1335-1.2979 0.83102-0.83102 1.2979-1.9583 1.2979-3.1335s-0.46693-2.3025-1.2979-3.1335c-0.83102-0.83102-1.9583-1.2979-3.1335-1.2979s-2.3025 0.46693-3.1335 1.2979c-0.83102 0.83102-1.2979 1.9583-1.2979 3.1335s0.46693 2.3025 1.2979 3.1335c0.83102 0.83102 1.9583 1.2979 3.1335 1.2979z\" clip-path=\"url(#pc0339bf3e5)\" fill=\"#1192e8\" stroke=\"#1192e8\" stroke-width=\"1.5\"/><path d=\"m178.94 144.8c2.7422 0 5.3725-1.0895 7.3116-3.0285 1.939-1.939 3.0285-4.5693 3.0285-7.3116 0-2.7422-1.0895-5.3725-3.0285-7.3116-1.939-1.939-4.5693-3.0285-7.3116-3.0285s-5.3725 1.0895-7.3116 3.0285c-1.939 1.939-3.0285 4.5693-3.0285 7.3116 0 2.7422 1.0895 5.3725 3.0285 7.3116 1.939 1.939 4.5693 3.0285 7.3116 3.0285z\" clip-path=\"url(#pc0339bf3e5)\" fill=\"#1192e8\" stroke=\"#1192e8\" stroke-width=\"2\"/><path d=\"m224.39 47.992c1.1752 0 2.3025-0.46693 3.1335-1.2979 0.83102-0.83102 1.2979-1.9583 1.2979-3.1335 0-1.1752-0.46693-2.3025-1.2979-3.1335-0.83102-0.83102-1.9583-1.2979-3.1335-1.2979-1.1752 0-2.3025 0.46693-3.1335 1.2979-0.83102 0.83102-1.2979 1.9583-1.2979 3.1335 0 1.1752 0.46693 2.3025 1.2979 3.1335 0.83102 0.83102 1.9583 1.2979 3.1335 1.2979z\" clip-path=\"url(#pc0339bf3e5)\" fill=\"#6929c4\" stroke=\"#6929c4\" stroke-width=\"1.5\"/><path d=\"m224.39 93.443c1.1752 0 2.3025-0.46693 3.1335-1.2979 0.83102-0.83102 1.2979-1.9583 1.2979-3.1335s-0.46693-2.3025-1.2979-3.1335c-0.83102-0.83102-1.9583-1.2979-3.1335-1.2979-1.1752 0-2.3025 0.46693-3.1335 1.2979-0.83102 0.83102-1.2979 1.9583-1.2979 3.1335s0.46693 2.3025 1.2979 3.1335 1.9583 1.2979 3.1335 1.2979z\" clip-path=\"url(#pc0339bf3e5)\" fill=\"#6929c4\" stroke=\"#6929c4\" stroke-width=\"1.5\"/><path d=\"m224.39 190.25c2.7422 0 5.3725-1.0895 7.3116-3.0285 1.939-1.939 3.0285-4.5693 3.0285-7.3116s-1.0895-5.3725-3.0285-7.3116c-1.939-1.939-4.5693-3.0285-7.3116-3.0285-2.7422 0-5.3725 1.0895-7.3116 3.0285-1.939 1.939-3.0285 4.5693-3.0285 7.3116s1.0895 5.3725 3.0285 7.3116c1.939 1.939 4.5693 3.0285 7.3116 3.0285z\" clip-path=\"url(#pc0339bf3e5)\" fill=\"#6929c4\" stroke=\"#6929c4\" stroke-width=\"2\"/><path d=\"m255.07 149.23h29.543v-29.543h-29.543z\" clip-path=\"url(#pc0339bf3e5)\" fill=\"#121619\" stroke=\"#121619\" stroke-width=\"1.5\"/><path d=\"m280.18 138.89c0-2.7413-1.0901-5.3732-3.0285-7.3116-1.9384-1.9384-4.5702-3.0285-7.3116-3.0285s-5.3732 1.0901-7.3116 3.0285c-1.9384 1.9384-3.0285 4.5702-3.0285 7.3116\" clip-path=\"url(#pc0339bf3e5)\" fill=\"none\" stroke=\"#ffffff\" stroke-width=\"2\"/><path d=\"m300.52 194.69h29.543v-29.543h-29.543z\" clip-path=\"url(#pc0339bf3e5)\" fill=\"#121619\" stroke=\"#121619\" stroke-width=\"1.5\"/><path d=\"m325.63 184.35c0-2.7413-1.0901-5.3732-3.0285-7.3116-1.9384-1.9384-4.5702-3.0285-7.3116-3.0285s-5.3732 1.0901-7.3116 3.0285c-1.9384 1.9384-3.0285 4.5702-3.0285 7.3116\" clip-path=\"url(#pc0339bf3e5)\" fill=\"none\" stroke=\"#ffffff\" stroke-width=\"2\"/><path d=\"m269.84 138.89 10.34-10.34\" clip-path=\"url(#pc0339bf3e5)\" fill=\"none\" stroke=\"#ffffff\" stroke-linecap=\"square\" stroke-width=\"2\"/><path d=\"m315.29 184.35 10.34-10.34\" clip-path=\"url(#pc0339bf3e5)\" fill=\"none\" stroke=\"#ffffff\" stroke-linecap=\"square\" stroke-width=\"2\"/><path d=\"m133.49 140.37v-11.817\" clip-path=\"url(#pc0339bf3e5)\" fill=\"none\" stroke=\"#ffffff\" stroke-linecap=\"square\" stroke-width=\"2\"/><path d=\"m127.58 134.46h11.817\" clip-path=\"url(#pc0339bf3e5)\" fill=\"none\" stroke=\"#ffffff\" stroke-linecap=\"square\" stroke-width=\"2\"/><path d=\"m178.94 140.37v-11.817\" clip-path=\"url(#pc0339bf3e5)\" fill=\"none\" stroke=\"#ffffff\" stroke-linecap=\"square\" stroke-width=\"2\"/><path d=\"m173.03 134.46h11.817\" clip-path=\"url(#pc0339bf3e5)\" fill=\"none\" stroke=\"#ffffff\" stroke-linecap=\"square\" stroke-width=\"2\"/><path d=\"m224.39 185.82v-11.817\" clip-path=\"url(#pc0339bf3e5)\" fill=\"none\" stroke=\"#ffffff\" stroke-linecap=\"square\" stroke-width=\"2\"/><path d=\"m218.48 179.91h11.817\" clip-path=\"url(#pc0339bf3e5)\" fill=\"none\" stroke=\"#ffffff\" stroke-linecap=\"square\" stroke-width=\"2\"/><g clip-path=\"url(#pc0339bf3e5)\"><g transform=\"translate(36.363 48.012) scale(.1625 -.1625)\"><defs><path id=\"DejaVuSans-Oblique-71\" transform=\"scale(.015625)\" d=\"m2669 525q-231-303-546-460-314-156-695-156-531 0-833 358-301 358-301 986 0 506 186 978t533 847q225 244 517 375t614 131q387 0 637-153t363-462l100 525h578l-934-4813h-579l360 1844zm-1778 813q0-463 193-705 194-242 560-242 544 0 928 520t384 1264q0 450-199 689-198 239-569 239-272 0-504-127-231-126-403-370-181-256-286-600-104-343-104-668z\"/><path id=\"DejaVuSans-30\" transform=\"scale(.015625)\" d=\"m2034 4250q-487 0-733-480-245-479-245-1442 0-959 245-1439 246-480 733-480 491 0 736 480 246 480 246 1439 0 963-246 1442-245 480-736 480zm0 500q785 0 1199-621 414-620 414-1801 0-1178-414-1799-414-620-1199-620-784 0-1198 620-414 621-414 1799 0 1181 414 1801 414 621 1198 621z\"/></defs><use xlink:href=\"#DejaVuSans-Oblique-71\"/><use transform=\"translate(63.477 -16.406) scale(.7)\" xlink:href=\"#DejaVuSans-30\"/></g></g><g clip-path=\"url(#pc0339bf3e5)\"><g transform=\"translate(36.363 93.463) scale(.1625 -.1625)\"><defs><path id=\"DejaVuSans-31\" transform=\"scale(.015625)\" d=\"m794 531h1031v3560l-1122-225v575l1116 225h631v-4135h1031v-531h-2687v531z\"/></defs><use xlink:href=\"#DejaVuSans-Oblique-71\"/><use transform=\"translate(63.477 -16.406) scale(.7)\" xlink:href=\"#DejaVuSans-31\"/></g></g><g clip-path=\"url(#pc0339bf3e5)\"><g transform=\"translate(36.363 138.91) scale(.1625 -.1625)\"><defs><path id=\"DejaVuSans-32\" transform=\"scale(.015625)\" d=\"m1228 531h2203v-531h-2962v531q359 372 979 998 621 627 780 809 303 340 423 576 121 236 121 464 0 372-261 606-261 235-680 235-297 0-627-103-329-103-704-313v638q381 153 712 231 332 78 607 78 725 0 1156-363 431-362 431-968 0-288-108-546-107-257-392-607-78-91-497-524-418-433-1181-1211z\"/></defs><use xlink:href=\"#DejaVuSans-Oblique-71\"/><use transform=\"translate(63.477 -16.406) scale(.7)\" xlink:href=\"#DejaVuSans-32\"/></g></g><g clip-path=\"url(#pc0339bf3e5)\"><g transform=\"translate(36.363 184.36) scale(.1625 -.1625)\"><defs><path id=\"DejaVuSans-33\" transform=\"scale(.015625)\" d=\"m2597 2516q453-97 707-404 255-306 255-756 0-690-475-1069-475-378-1350-378-293 0-604 58t-642 174v609q262-153 574-231 313-78 654-78 593 0 904 234t311 681q0 413-289 645-289 233-804 233h-544v519h569q465 0 712 186t247 536q0 359-255 551-254 193-729 193-260 0-557-57-297-56-653-174v562q360 100 674 150t592 50q719 0 1137-327 419-326 419-882 0-388-222-655t-631-370z\"/></defs><use xlink:href=\"#DejaVuSans-Oblique-71\"/><use transform=\"translate(63.477 -16.406) scale(.7)\" xlink:href=\"#DejaVuSans-33\"/></g></g><g clip-path=\"url(#pc0339bf3e5)\"><g transform=\"translate(68.036 218.66) scale(.104 -.104)\"><use xlink:href=\"#DejaVuSans-32\"/></g></g><g clip-path=\"url(#pc0339bf3e5)\"><g transform=\"translate(45.466 229.85) scale(.1625 -.1625)\"><defs><path id=\"DejaVuSans-63\" transform=\"scale(.015625)\" d=\"m3122 3366v-538q-244 135-489 202t-495 67q-560 0-870-355-309-354-309-995t309-996q310-354 870-354 250 0 495 67t489 202v-532q-241-112-499-168-257-57-548-57-791 0-1257 497-465 497-465 1341 0 856 470 1346 471 491 1290 491 265 0 518-55 253-54 491-163z\"/></defs><use xlink:href=\"#DejaVuSans-63\"/></g></g><g clip-path=\"url(#pc0339bf3e5)\"><g transform=\"translate(83.582 47.148) scale(.13 -.13)\" fill=\"#ffffff\"><defs><path id=\"DejaVuSans-58\" transform=\"scale(.015625)\" d=\"m403 4666h678l1160-1735 1165 1735h678l-1500-2241 1600-2425h-678l-1312 1984-1322-1984h-681l1665 2491-1453 2175z\"/></defs><use xlink:href=\"#DejaVuSans-58\"/></g></g><g clip-path=\"url(#pc0339bf3e5)\"><g transform=\"translate(83.582 92.599) scale(.13 -.13)\" fill=\"#ffffff\"><use xlink:href=\"#DejaVuSans-58\"/></g></g><g clip-path=\"url(#pc0339bf3e5)\"><g transform=\"translate(281.2 218.66) scale(.104 -.104)\"><use xlink:href=\"#DejaVuSans-30\"/></g></g><g clip-path=\"url(#pc0339bf3e5)\"><g transform=\"translate(326.65 218.66) scale(.104 -.104)\"><use xlink:href=\"#DejaVuSans-31\"/></g></g><defs><clipPath id=\"pc0339bf3e5\"><rect x=\"7.2\" y=\"7.2\" width=\"338.09\" height=\"245.44\"/></clipPath></defs></svg>"
            ],
            "text/plain": [
              "<Figure size 447.797x325.08 with 1 Axes>"
            ]
          },
          "execution_count": 8,
          "metadata": {
          },
          "output_type": "execute_result"
        }
      ],
      "source": [
        "test_qc = QuantumCircuit(4, 2)\n",
        "\n",
        "# Primeiro, nosso circuito deve codificar uma entrada (aqui '11')\n",
        "test_qc.x(0)\n",
        "test_qc.x(1)\n",
        "\n",
        "# Em seguida, ele deve executar o circuito somador que criamos\n",
        "test_qc.cx(0,2)\n",
        "test_qc.cx(1,2)\n",
        "test_qc.ccx(0,1,3)\n",
        "\n",
        "# Por fim, mediremos os dois qubits inferiores para extrair a saída\n",
        "test_qc.measure(2,0)\n",
        "test_qc.measure(3,1)\n",
        "test_qc.draw()"
      ]
    },
    {
      "cell_type": "code",
      "execution_count": 9,
      "metadata": {
      },
      "outputs": [
        {
          "data": {
            "text/plain": [
              "{'10': 1024}"
            ]
          },
          "execution_count": 9,
          "metadata": {
          },
          "output_type": "execute_result"
        }
      ],
      "source": [
        "job = sim.run(test_qc) # executa o experimento\n",
        "result = job.result() # obtém os resultados\n",
        "result.get_counts() # interpreta os resultados como um dicionário de “contagens”"
      ]
    },
    {
      "cell_type": "markdown",
      "metadata": {
      },
      "source": [
        "Aqui podemos ver que o resultado '10' foi medido 1024 vezes, e não medimos nenhum outro resultado.\n",
        "\n",
        "<!-- ::: q-block.exercise -->\n",
        "\n",
        "### Exercício\n",
        "\n",
        "Verifique se o circuito meio somador funciona para todas as quatro entradas possíveis.\n",
        "\n",
        "[Experimente no IBM Quantum Lab](https://quantum-computing.ibm.com/lab)\n",
        "\n",
        "<!-- ::: -->\n",
        "\n",
        "O meio somador contém tudo o que você precisa para adição. Com as portas NOT, CNOT e Toffoli, podemos criar programas que adicionam qualquer conjunto de números de qualquer tamanho.\n",
        "\n",
        "Essas três portas são suficientes para fazer todo o resto da computação também. Na verdade, podemos até fazer sem o CNOT. Além disso, a porta NOT só é realmente necessária para criar bits com valor 1. A porta Toffoli é essencialmente o átomo da matemática. É o elemento mais simples, a partir do qual todas as outras técnicas de solução de problemas podem ser compiladas."
      ]
    }
  ],
  "metadata": {
    "kernelspec": {
      "display_name": "Python 3",
      "language": "python",
      "name": "python3"
    },
    "language_info": {
      "codemirror_mode": {
        "name": "ipython",
        "version": 3
      },
      "file_extension": ".py",
      "mimetype": "text/x-python",
      "name": "python",
      "nbconvert_exporter": "python",
      "pygments_lexer": "ipython3",
      "version": "3.9"
    }
  },
  "nbformat": 4,
  "nbformat_minor": 4
}
