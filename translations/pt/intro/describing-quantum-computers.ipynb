{
  "cells": [
    {
      "cell_type": "markdown",
      "metadata": {
        "gloss": {
          "complex-number": {
            "text": "Complex numbers can be made from combinations of real and <a href='https://en.wikipedia.org/wiki/Imaginary_number'>imaginary numbers</a>. If you're not sure what this means, don't worry! You won't need to in this course (but you can <a href='https://en.wikipedia.org/wiki/Complex_number'>read more</a> if you're interested.",
            "title": "Complex number"
          },
          "esoteric": {
            "text": "Esoteric words are specialized words that most people won't understand. We'll try to avoid them as much as possible, but they can be useful sometimes.",
            "title": "esoteric"
          },
          "real-number": {
            "text": "A real number is a number that only has a magnitude. If you've not heard of a real number before, you can probably drop the 'real' and just call them 'numbers'. Examples of real numbers include: 112, -5.4, and π. <a href='https://en.wikipedia.org/wiki/Real_number'>Read more</a>.",
            "title": "Real number"
          }
        }
      },
      "source": [
        "# Descrevendo computadores quânticos\n",
        "\n",
        "Este capítulo apresentará os diferentes objetos matemáticos e notações que usaremos para descrever computadores quânticos. Símbolos, equações e vocabulário especializado nos permitem comunicar e trabalhar com matemática de uma forma muito concisa, são ferramentas incrivelmente poderosas, mas também têm um custo; elas são difíceis de entender se você não sabe o que todos os símbolos significam, e isso pode alienar as pessoas. Para combater isso, neste livro, as equações são interativas. Você pode mover o mouse sobre os símbolos para ver o que eles significam. Também vamos espalhar lentamente algumas palavras [esotéricas](gloss:esoteric) para que você possa começar a falar a linguagem da matemática e da computação quântica, e você pode ver explicações dessas palavras movendo o mouse sobre essas palavras também.\n",
        "\n",
        "## Amplitudes\n",
        "\n",
        "Uma probabilidade clássica é frequentemente representada por um [número real](gloss:real-number) entre 0 e 1, mas as amplitudes também têm uma direção. Um candidato natural para representar uma amplitude é um [número complexo](gloss:complex-number) , pois um número complexo também pode ser completamente descrito tanto por uma magnitude quanto por uma direção, mas neste curso só trabalharemos com amplitudes que podem apontar em duas direções (por exemplo, esquerda e direita ) e não vamos nos preocupar com mais nada.\n",
        "\n",
        "![Imagem comparando amplitudes e probabilidades](images/quantum-states/prob-vs-amp.svg)\n",
        "\n",
        "Isso torna a matemática muito mais simples, pois agora podemos descrever qualquer amplitude como um número entre -1 e +1; se o número for positivo, a amplitude está voltada para frente e, se for negativa, está voltada para trás. Acontece que isso é suficiente para fazer coisas interessantes!\n",
        "\n",
        "<!-- ::: q-block.exercise -->\n",
        "\n",
        "### Questionário rápido\n",
        "\n",
        "<!-- ::: q-quiz(goal=\"intro-describing-0\") -->\n",
        "\n",
        "<!-- ::: .question -->\n",
        "\n",
        "Qual destas é uma amplitude válida, mas *não* uma probabilidade válida?\n",
        "\n",
        "<!-- ::: -->\n",
        "\n",
        "<!-- ::: .option(correct) -->\n",
        "\n",
        "1. $-1$\n",
        "\n",
        "<!-- ::: -->\n",
        "\n",
        "<!-- ::: .option -->\n",
        "\n",
        "1. $1/3$\n",
        "\n",
        "<!-- ::: -->\n",
        "\n",
        "<!-- ::: .option -->\n",
        "\n",
        "1. $1.01$\n",
        "\n",
        "<!-- ::: -->\n",
        "\n",
        "<!-- ::: .option -->\n",
        "\n",
        "1. $\\sqrt{-2}$\n",
        "\n",
        "<!-- ::: -->\n",
        "\n",
        "<!-- ::: -->\n",
        "\n",
        "<!-- ::: -->"
      ]
    },
    {
      "cell_type": "markdown",
      "metadata": {
        "formulas": {
          "_amp-0-0": {
            "meaning": "This is the amplitude of the two-qubit state <code>00</code>, it's equal to the square-root of a half."
          },
          "_amp-1-0": {
            "meaning": "This is the amplitude of the two-qubit state <code>01</code>, it's equal to the square-root of a half."
          },
          "_amp-2-0": {
            "meaning": "This is the amplitude of the two-qubit state <code>10</code>, it's equal to 0."
          },
          "_amp-3-0": {
            "meaning": "This is the amplitude of the two-qubit state <code>11</code>, it's equal to 0."
          },
          "def-equal": {
            "meaning": "This means we are defining the things on the left of this symbol to be equal to the things on the right of this symbol."
          },
          "x-ket": {
            "meaning": "This is a vector we have labelled '|x⟩', the '|' and '⟩' remind us this label refers to a vector.",
            "say": "ket x"
          }
        }
      },
      "source": [
        "## Vetores de estado\n",
        "\n",
        "Vimos na última página que podemos prever o comportamento de um sistema quântico observando as amplitudes de probabilidade para cada resultado em cada ponto de nossa computação. Também vimos que, para n qubits, existem $2^n$ resultados possíveis, e podemos armazenar essas amplitudes em listas de comprimento $2^n$ que chamamos de vetores. Como esses vetores descrevem o estado de nossos qubits, nós os chamamos de “vetores de estado”.\n",
        "\n",
        "Aqui está um exemplo de um vetor de estado para um computador quântico com dois qubits:\n",
        "\n",
        "$$\\class{x-ket}{|x\\rangle} \\class{def-equal}{:=} \\begin{bmatrix}\\cssId{_amp-0-0}{\\sqrt{\\tfrac{1}{2}}} \\\\ \\cssId{_amp-1-0}{\\sqrt{\\tfrac{1}{2}}} \\\\ \\cssId{_amp-2-0}{0} \\\\ \\cssId{_amp-3-0}{0} \\end{bmatrix}$$\n",
        "\n",
        "Passe algum tempo lendo as dicas sobre a equação acima e, em seguida, responda às perguntas abaixo.\n",
        "\n",
        "<!-- ::: q-block.exercise -->\n",
        "\n",
        "### Questionário rápido\n",
        "\n",
        "<!-- ::: q-quiz(goal=\"intro-describing-1\") -->\n",
        "\n",
        "<!-- ::: .question -->\n",
        "\n",
        "No vetor de estado acima, qual é a *amplitude* do resultado '01'?\n",
        "\n",
        "<!-- ::: -->\n",
        "\n",
        "<!-- ::: .option -->\n",
        "\n",
        "1. $1$\n",
        "\n",
        "<!-- ::: -->\n",
        "\n",
        "<!-- ::: .option(correct) -->\n",
        "\n",
        "1. $\\sqrt{\\tfrac{1}{2}}$\n",
        "\n",
        "<!-- ::: -->\n",
        "\n",
        "<!-- ::: .option -->\n",
        "\n",
        "1. $1/2$\n",
        "\n",
        "<!-- ::: -->\n",
        "\n",
        "<!-- ::: .option -->\n",
        "\n",
        "1. $0$\n",
        "\n",
        "<!-- ::: -->\n",
        "\n",
        "<!-- ::: -->\n",
        "\n",
        "***\n",
        "\n",
        "<!-- ::: q-quiz(goal=\"intro-describing-2\") -->\n",
        "\n",
        "<!-- ::: .question -->\n",
        "\n",
        "Se o vetor de estado acima descrevesse o estado de alguns qubits, qual seria a *probabilidade* de medir '00'?\n",
        "\n",
        "<!-- ::: -->\n",
        "\n",
        "<!-- ::: .option -->\n",
        "\n",
        "1. $1$\n",
        "\n",
        "<!-- ::: -->\n",
        "\n",
        "<!-- ::: .option -->\n",
        "\n",
        "1. $\\sqrt{\\tfrac{1}{2}}$\n",
        "\n",
        "<!-- ::: -->\n",
        "\n",
        "<!-- ::: .option(correct) -->\n",
        "\n",
        "1. $1/2$\n",
        "\n",
        "<!-- ::: -->\n",
        "\n",
        "<!-- ::: .option -->\n",
        "\n",
        "1. $0$\n",
        "\n",
        "<!-- ::: -->\n",
        "\n",
        "<!-- ::: -->\n",
        "\n",
        "<!-- ::: -->"
      ]
    },
    {
      "cell_type": "markdown",
      "metadata": {
        "formulas": {
          "_amp-0-1": {
            "meaning": "Multiplying this number by the scalar on the left of the vector gives us the amplitude of the state <code>00</code>."
          },
          "_amp-0-general": {
            "meaning": "This is the amplitude of the state <code>00</code>."
          },
          "_amp-1-1": {
            "meaning": "Multiplying this number by the scalar on the left of the vector gives us the amplitude of the state <code>01</code>."
          },
          "_amp-1-general": {
            "meaning": "This is the amplitude of the state <code>01</code>."
          },
          "_amp-2-1": {
            "meaning": "Multiplying this number by the scalar on the left of the vector gives us the amplitude of the state <code>10</code>."
          },
          "_amp-2-general": {
            "meaning": "This is the amplitude of the state <code>10</code>."
          },
          "_amp-3-1": {
            "meaning": "Multiplying this number by the scalar on the left of the vector gives us the amplitude of the state <code>11</code>."
          },
          "_amp-3-general": {
            "meaning": "This is the amplitude of the state <code>11</code>."
          },
          "_number-three": {
            "meaning": "This is just the normal number <a href='https://en.wikipedia.org/wiki/3'>three</a>. Because it's immediately next to the vector, it means we are multiplying the vector by this number.",
            "say": "Three"
          },
          "_psi-ket": {
            "meaning": "This is a vector we have labelled '|ψ⟩', the '|' and '⟩' remind us this label refers to a vector. The character 'ψ' is written 'psi' in english.",
            "say": "ket sigh (the 'p' is silent)"
          },
          "_sq-amp0": {
            "meaning": "This number is proportional to the amplitude of the state <code>0</code>."
          },
          "_sq-amp1": {
            "meaning": "This number is proportional to the amplitude of the state <code>1</code>."
          },
          "_vec-el-0": {
            "meaning": "This is the zeroth element of the vector."
          },
          "_vec-el-1": {
            "meaning": "This is the first element of the vector."
          },
          "_vec-el-2": {
            "meaning": "This is the second element of the vector."
          },
          "_vec-el-3": {
            "meaning": "This is the third element of the vector."
          },
          "_vec-el-n": {
            "meaning": "This is the (N-1)th element of the vector. Since there are N elements (and we started counting at 0), this is also the last element."
          },
          "def-00": {
            "meaning": "This is a statevector we are defining here (but is also a common convention in quantum computing) which corresponds to being in the state <code>00</code> with certainty."
          },
          "def-01": {
            "meaning": "This is a statevector we are defining here (but is also a common convention in quantum computing) which corresponds to being in the state <code>01</code> with certainty."
          },
          "def-10": {
            "meaning": "This is a statevector we are defining here (but is also a common convention in quantum computing) which corresponds to being in the state <code>10</code> with certainty."
          },
          "def-11": {
            "meaning": "This is a statevector we are defining here (but is also a common convention in quantum computing) which corresponds to being in the state <code>11</code> with certainty."
          },
          "dots": {
            "meaning": "These dots mean \"and so on\", implying a continuing pattern."
          },
          "equals": {
            "meaning": "Everything to the left of this sign is equal to everything to the right of the sign.",
            "say": "Equals"
          },
          "minus-ket": {
            "meaning": "This is a vector we have labelled '|-⟩', the '|' and '⟩' remind us this label refers to a vector.",
            "say": "ket minus"
          },
          "plus-ket": {
            "meaning": "This is a vector we have labelled '|+⟩', the '|' and '⟩' remind us this label refers to a vector.",
            "say": "ket plus"
          },
          "scalar": {
            "meaning": "This is just a normal number. Because it's immediately next to the vector, it means we are multiplying (i.e. scaling) the vector by this number."
          }
        },
        "gloss": {
          "scalar-gloss": {
            "text": "This is just a normal number, i.e. not a vector or matrix.",
            "title": "Scalar"
          }
        }
      },
      "source": [
        "## Somando e multiplicando vetores\n",
        "\n",
        "Se você estudar outras áreas da matemática, descobrirá que muitas coisas podem ser consideradas vetores. Introduzimos vetores como 'listas de números', porque é assim que os consideraremos neste livro e no Qiskit. Mas o que separa um vetor de qualquer lista de números é que os matemáticos decidiram algumas regras bem definidas para somar dois vetores e para multiplicar vetores por [escalares](gloss:scalar-gloss) .\n",
        "\n",
        "### Multiplicando vetores por escalares\n",
        "\n",
        "Por exemplo, aqui está um vetor multiplicado por um escalar:\n",
        "\n",
        "$$\n",
        "\\cssId{_number-three}{3}\n",
        "\\begin{bmatrix}\n",
        "\\class{_vec-el-0}{1} \\\\\n",
        "\\class{_vec-el-1}{2} \\\\\n",
        "\\class{_vec-el-2}{-1} \\\\\n",
        "\\class{_vec-el-3}{\\tfrac{1}{2}} \\\\\n",
        "\\end{bmatrix}\n",
        "\\class{equals}{=}\n",
        "\\begin{bmatrix}\n",
        "\\class{_vec-el-0}{3} \\\\\n",
        "\\class{_vec-el-1}{6} \\\\\n",
        "\\class{_vec-el-2}{-3} \\\\\n",
        "\\class{_vec-el-3}{\\tfrac{3}{2}} \\\\\n",
        "\\end{bmatrix}\n",
        "$$\n",
        "\n",
        "Podemos ver que cada elemento do vetor foi multiplicado por 3. A regra mais geral para um vetor com $N$ elementos é:\n",
        "\n",
        "$$\n",
        "\\class{scalar}{s}\n",
        "\\begin{bmatrix}\n",
        "\\class{_vec-el-0}{e_0} \\\\\n",
        "\\class{_vec-el-1}{e_1} \\\\\n",
        "\\class{_vec-el-2}{e_2} \\\\\n",
        "\\class{dots}{\\vdots} \\\\\n",
        "\\class{_vec-el-n}{e_{N-1}} \\\\\n",
        "\\end{bmatrix}\n",
        "\\class{equals}{=}\n",
        "\\begin{bmatrix}\n",
        "\\class{_vec-el-0}{s\\times e_0} \\\\\n",
        "\\class{_vec-el-1}{s\\times e_1} \\\\\n",
        "\\class{_vec-el-2}{s\\times e_2} \\\\\n",
        "\\class{dots}{\\vdots} \\\\\n",
        "\\class{_vec-el-n}{s\\times e_{N-1}} \\\\\n",
        "\\end{bmatrix}\n",
        "$$\n",
        "\n",
        "Então, poderíamos ter escrito o vetor de estado $|x\\rangle$ que definimos acima mais claramente assim:\n",
        "\n",
        "$$\n",
        "\\class{x-ket}{|x\\rangle} = \\class{scalar}{\\sqrt{\\tfrac{1}{2}}} \\begin{bmatrix}\n",
        "\\cssId{_amp-0-1}{1} \\\\\n",
        "\\cssId{_amp-1-1}{1} \\\\\n",
        "\\cssId{_amp-2-1}{0} \\\\\n",
        "\\cssId{_amp-3-1}{0} \\\\\n",
        "\\end{bmatrix}\n",
        "$$\n",
        "\n",
        "### Somando dois vetores\n",
        "\n",
        "A segunda regra é para somar dois vetores. Isso só é definido quando os dois vetores têm o mesmo número de elementos, e dá um novo vetor com o mesmo número de elementos. Aqui está a regra geral:\n",
        "\n",
        "$$\n",
        "\\begin{bmatrix}\n",
        "\\class{_vec-el-0}{a_0} \\\\\n",
        "\\class{_vec-el-1}{a_1} \\\\\n",
        "\\class{_vec-el-2}{a_2} \\\\\n",
        "\\class{_vec-el-3}{a_3} \\\\\n",
        "\\class{dots}{\\vdots} \\\\\n",
        "\\class{_vec-el-n}{a_{N-1}} \\\\\n",
        "\\end{bmatrix}\n",
        "+\n",
        "\\begin{bmatrix}\n",
        "\\class{_vec-el-0}{b_0} \\\\\n",
        "\\class{_vec-el-1}{b_1} \\\\\n",
        "\\class{_vec-el-2}{b_2} \\\\\n",
        "\\class{_vec-el-3}{b_3} \\\\\n",
        "\\class{dots}{\\vdots} \\\\\n",
        "\\class{_vec-el-n}{b_{N-1}} \\\\\n",
        "\\end{bmatrix}\n",
        "\\class{equals}{=}\n",
        "\\begin{bmatrix}\n",
        "\\class{_vec-el-0}{a_0 + b_0} \\\\\n",
        "\\class{_vec-el-1}{a_1 + b_1} \\\\\n",
        "\\class{_vec-el-2}{a_2 + b_2} \\\\\n",
        "\\class{_vec-el-3}{a_3 + b_3} \\\\\n",
        "\\class{dots}{\\vdots} \\\\\n",
        "\\class{_vec-el-n}{a_{N-1} + b_{N-1}} \\\\\n",
        "\\end{bmatrix}\n",
        "$$\n",
        "\n",
        "Isso significa que podemos adicionar e subtrair vetores para criar novos vetores. Por exemplo, se definirmos os vetores $|00\\rangle$ e $|01\\rangle$ assim:\n",
        "\n",
        "$$\n",
        "\\class{def-00}{|00\\rangle} \\class{def-equal}{:=}\n",
        "              \\begin{bmatrix} \\class{_amp-0-general}{1} \\\\\n",
        "                              \\class{_amp-1-general}{0} \\\\ \n",
        "                              \\class{_amp-2-general}{0} \\\\ \n",
        "                              \\class{_amp-3-general}{0}\n",
        "              \\end{bmatrix},\n",
        "\\quad\n",
        "\\class{def-01}{|01\\rangle} \\class{def-equal}{:=}\n",
        "              \\begin{bmatrix} \\class{_amp-0-general}{0} \\\\\n",
        "                              \\class{_amp-1-general}{1} \\\\ \n",
        "                              \\class{_amp-2-general}{0} \\\\\n",
        "                              \\class{_amp-3-general}{0}\n",
        "              \\end{bmatrix}\n",
        "$$\n",
        "\n",
        "Podemos escrever $\\class{x-ket}{|x\\rangle}$ na forma:\n",
        "\n",
        "$$\\class{x-ket}{|x\\rangle} = \\sqrt{\\tfrac{1}{2}}(\\class{def-00}{|00\\rangle} + \\class{def-01}{|01\\rangle})$$\n",
        "\n",
        "Chamamos a adição de estados quânticos como estes de “superposição”, então podemos dizer “$|x\\rangle$ é uma superposição dos estados $|00\\rangle$ e $|01\\rangle$.” Na verdade, é convenção na computação quântica definir os estados de base computacional assim:\n",
        "\n",
        "$$\n",
        "\\class{def-00}{|00\\rangle} \\class{def-equal}{:=}\n",
        "              \\begin{bmatrix} \\class{_amp-0-general}{1} \\\\\n",
        "                              \\class{_amp-1-general}{0} \\\\ \n",
        "                              \\class{_amp-2-general}{0} \\\\ \n",
        "                              \\class{_amp-3-general}{0}\n",
        "              \\end{bmatrix},\n",
        "\\quad\n",
        "\\class{def-01}{|01\\rangle} \\class{def-equal}{:=}\n",
        "              \\begin{bmatrix} \\class{_amp-0-general}{0} \\\\\n",
        "                              \\class{_amp-1-general}{1} \\\\ \n",
        "                              \\class{_amp-2-general}{0} \\\\\n",
        "                              \\class{_amp-3-general}{0}\n",
        "              \\end{bmatrix},\n",
        "\\quad\n",
        "\\class{def-10}{|10\\rangle} \\class{def-equal}{:=}\n",
        "              \\begin{bmatrix} \\class{_amp-0-general}{0} \\\\ \n",
        "                              \\class{_amp-1-general}{0} \\\\ \n",
        "                              \\class{_amp-2-general}{1} \\\\ \n",
        "                              \\class{_amp-3-general}{0} \n",
        "              \\end{bmatrix},\n",
        "\\quad\n",
        "\\class{def-11}{|11\\rangle} \\class{def-equal}{:=} \n",
        "              \\begin{bmatrix} \\class{_amp-0-general}{0} \\\\ \n",
        "                              \\class{_amp-1-general}{0} \\\\ \n",
        "                              \\class{_amp-2-general}{0} \\\\ \n",
        "                              \\class{_amp-3-general}{1}\n",
        "              \\end{bmatrix}\n",
        "$$\n",
        "\n",
        "E podemos escrever qualquer estado quântico como uma superposição desses vetores de estado, se multiplicarmos cada vetor pelo número correto e os somarmos:\n",
        "\n",
        "$$\n",
        "\\cssId{_psi-ket}{|\\psi\\rangle} = \n",
        "    \\class{_amp-0-general}{a_{00}}\\class{def-00}{|00\\rangle}\n",
        "  + \\class{_amp-1-general}{a_{01}}\\class{def-01}{|01\\rangle}\n",
        "  + \\class{_amp-2-general}{a_{10}}\\class{def-10}{|10\\rangle}\n",
        "  + \\class{_amp-3-general}{a_{11}}\\class{def-11}{|11\\rangle} \\class{equals}{=}\n",
        "\\begin{bmatrix}\n",
        "\\class{_amp-0-general}{a_{00}} \\\\\n",
        "\\class{_amp-1-general}{a_{01}} \\\\\n",
        "\\class{_amp-2-general}{a_{10}} \\\\\n",
        "\\class{_amp-3-general}{a_{11}} \\\\\n",
        "\\end{bmatrix}\n",
        "$$\n",
        "\n",
        "Como podemos escrever qualquer vetor como uma combinação desses quatro vetores, dizemos que esses quatro vetores formam uma base, que chamaremos de *base computacional* . A base computacional não é a única base. Para qubits únicos, uma base popular é formada pelos vetores $\\class{plus-ket}{|{+}\\rangle}$ e $\\class{minus-ket}{|{-}\\rangle}$:\n",
        "\n",
        "<!-- ::: column -->\n",
        "\n",
        "![imagem mostrando a base |0>, |1> e a base |+>, |-> no mesmo plano](images/quantum-states/basis.svg)\n",
        "\n",
        "<!-- ::: column -->\n",
        "\n",
        "$$\n",
        "\\class{plus-ket}{|{+}\\rangle} =\n",
        "\\sqrt{\\tfrac{1}{2}}\n",
        "\\begin{bmatrix}\n",
        "    \\class{_sq-amp0}{1} \\\\\n",
        "    \\class{_sq-amp1}{1}\n",
        "\\end{bmatrix}\n",
        "$$\n",
        "$$\n",
        "\\class{minus-ket}{|{-}\\rangle} =\n",
        "\\sqrt{\\tfrac{1}{2}}\n",
        "\\begin{bmatrix}\n",
        "    \\class{_sq-amp0}{1} \\\\\n",
        "    \\class{_sq-amp1}{-1}\n",
        "\\end{bmatrix}\n",
        "$$\n",
        "\n",
        "<!-- ::: -->\n",
        "\n",
        "<!-- ::: q-block.exercise -->\n",
        "\n",
        "### Tente você mesmo\n",
        "\n",
        "Encontre valores para $\\alpha$, $\\beta$, $\\gamma$ e $\\delta$ de forma que estas equações sejam verdadeiras:\n",
        "\n",
        "- $\\alpha|{+}\\rangle + \\beta|{-}\\rangle = |0\\rangle$\n",
        "- $\\gamma|{+}\\rangle + \\delta|{-}\\rangle = |1\\rangle$\n",
        "\n",
        "<!-- ::: -->"
      ]
    },
    {
      "cell_type": "markdown",
      "metadata": {
        "formulas": {
          "_amp-i": {
            "meaning": "'a<sub>i</sub>' is the amplitude of the state |i⟩, where |i⟩ is one of the computational basis states."
          },
          "sum": {
            "meaning": "This means we add up the things on the right with different values of i, starting at i=0.",
            "say": "'sum' or 'summation'. The character 'Σ' is capital <a href='https://en.wikipedia.org/wiki/Sigma'>sigma</a>."
          }
        },
        "gloss": {
          "matrix": {
            "text": "Matrices are tables of numbers. They also come with some rules for adding and multiplying like vectors did. <a href='https://en.wikipedia.org/wiki/Matrix_(mathematics)'>Read more</a>.",
            "title": "Matrix"
          }
        }
      },
      "source": [
        "## Quantos vetores de estado diferentes existem?\n",
        "\n",
        "Sabemos que podemos representar qualquer estado quântico usando vetores, mas qualquer vetor é um estado quântico válido? No nosso caso, não; já que elevamos nossas amplitudes ao quadrado para encontrar a probabilidade de ocorrência dos resultados, precisamos que esses quadrados somem um, caso contrário, não faz sentido.\n",
        "\n",
        "$$\n",
        "\\cssId{sum}{\\sum^{N-1}_{i=0}} \\cssId{_amp-i}{a_i}^2 = 1\n",
        "$$\n",
        "\n",
        "<!-- ::: q-block.exercise -->\n",
        "\n",
        "### Questionário rápido\n",
        "\n",
        "<!-- ::: q-quiz(goal=\"quiz2\") -->\n",
        "\n",
        "<!-- ::: .question -->\n",
        "\n",
        "Qual destes é um estado quântico válido? (Tente somar as amplitudes ao quadrado.)\n",
        "\n",
        "<!-- ::: -->\n",
        "\n",
        "<!-- ::: .option(correct) -->\n",
        "\n",
        "1. $\\sqrt{\\tfrac{1}{3}}\\begin{bmatrix} 1 \\\\\\\\ -1 \\\\\\\\ 1 \\\\\\\\ 0 \\end{bmatrix}$\n",
        "\n",
        "<!-- ::: -->\n",
        "\n",
        "<!-- ::: .option -->\n",
        "\n",
        "2. $\\sqrt{\\tfrac{1}{2}}\\begin{bmatrix} 1 \\\\\\\\ -1 \\\\\\\\ -1 \\\\\\\\ 1 \\end{bmatrix}$\n",
        "\n",
        "<!-- ::: -->\n",
        "\n",
        "<!-- ::: .option -->\n",
        "\n",
        "3. $\\tfrac{1}{2}\\begin{bmatrix} 1 \\\\\\\\ 1 \\end{bmatrix}$\n",
        "\n",
        "<!-- ::: -->\n",
        "\n",
        "<!-- ::: -->\n",
        "\n",
        "<!-- ::: -->\n",
        "\n",
        "Outro fator é algo que chamamos de \"fases globais\" do vetor de estado. Como só sabemos que a fase existe por causa dos efeitos de interferência que ela produz, só podemos medir as *diferenças* de fase. Se girarmos todas as amplitudes em um vetor de estado na mesma quantidade, ainda veríamos exatamente o mesmo comportamento.\n",
        "\n",
        "<!-- ::: column -->\n",
        "\n",
        "![imagem mostrando efeitos de interferência com diferentes fases iniciais](images/quantum-states/global-phase-L.svg)\n",
        "\n",
        "<!-- ::: column -->\n",
        "\n",
        "![imagem mostrando efeitos de interferência com diferentes fases iniciais](images/quantum-states/global-phase-R.svg)\n",
        "\n",
        "<!-- ::: -->\n",
        "\n",
        "Por exemplo, não há experimento que possamos realizar que seja capaz de distinguir entre esses dois estados:\n",
        "\n",
        "<!-- ::: column -->\n",
        "\n",
        "$$\n",
        "|a\\rangle = \\sqrt{\\tfrac{1}{2}}\\begin{bmatrix} 1 \\\\ 0 \\\\ 0 \\\\ 1 \\end{bmatrix}\n",
        "$$\n",
        "\n",
        "<!-- ::: column -->\n",
        "\n",
        "$$\n",
        "-|a\\rangle = \\sqrt{\\tfrac{1}{2}}\\begin{bmatrix} -1 \\\\ 0 \\\\ 0 \\\\ -1 \\end{bmatrix}\n",
        "$$\n",
        "\n",
        "<!-- ::: -->\n",
        "\n",
        "Porque as diferenças entre cada uma das amplitudes são as mesmas. Você poderia dizer que esses dois vetores são *matematicamente* diferentes, mas *fisicamente* iguais.\n",
        "\n",
        "## Operações quânticas\n",
        "\n",
        "Agora que sabemos tudo sobre os diferentes estados em que nossos qubits podem estar, é hora de ver como representamos as operações que transformam um estado em outro.\n",
        "\n",
        "Da mesma forma que existe uma probabilidade de transição que uma determinada ação transforme uma moeda de cara em coroa, existe uma amplitude de transição para cada estado inicial e final de nossos qubits. Podemos descrever quaisquer operações quânticas através dessas amplitudes de transição.\n",
        "\n",
        "![Imagem mostrando dois vetores de estado antes e depois de uma operação](images/quantum-states/quantum-operation.svg)\n",
        "\n",
        "Então, quais são as transformações possíveis? Digamos que temos um estado inicial $|a\\rangle$ que é transformado em um novo estado $|b\\rangle$. Se quisermos que nossa representação cubra todas as transformações possíveis, então cada amplitude em $|a\\rangle$ deve ter uma amplitude de transição para cada amplitude em $|b\\rangle$.\n",
        "\n",
        "<!-- ::: q-block.exercise -->\n",
        "\n",
        "### Questionário rápido\n",
        "\n",
        "<!-- ::: q-quiz(goal=\"intro-describing-3\") -->\n",
        "\n",
        "<!-- ::: .question -->\n",
        "\n",
        "Um vetor de estado de $n$ qubits pode conter até $2^n$ amplitudes. Qual é o maior número de amplitudes de transição que precisaríamos para representar qualquer operação quântica em $n$ qubits?\n",
        "\n",
        "<!-- ::: -->\n",
        "\n",
        "<!-- ::: .option -->\n",
        "\n",
        "1. $2\\cdot 2^n$\n",
        "\n",
        "<!-- ::: -->\n",
        "\n",
        "<!-- ::: .option(correct) -->\n",
        "\n",
        "1. $(2^n)^2$\n",
        "\n",
        "<!-- ::: -->\n",
        "\n",
        "<!-- ::: .option -->\n",
        "\n",
        "1. $4^n$\n",
        "\n",
        "<!-- ::: -->\n",
        "\n",
        "<!-- ::: .option -->\n",
        "\n",
        "1. $2^{2^n}$\n",
        "\n",
        "<!-- ::: -->\n",
        "\n",
        "<!-- ::: -->\n",
        "\n",
        "<!-- ::: -->\n",
        "\n",
        "Desenhar linhas como esta é uma maneira um pouco confusa de fazer isso, então, em vez disso, podemos colocar todos esses números em uma [matriz](gloss:matrix) :"
      ]
    },
    {
      "cell_type": "markdown",
      "metadata": {
        "formulas": {
          "_cnot-gate": {
            "meaning": "This is the label we have given the matrix that represents the CNOT gate."
          },
          "_t_amp_00_00": {
            "meaning": "This is the amplitude of this operation transforming the state <code>00</code> to <code>00</code>."
          },
          "_t_amp_00_01": {
            "meaning": "This is the amplitude of this operation transforming the state <code>00</code> to <code>01</code>."
          },
          "_t_amp_00_10": {
            "meaning": "This is the amplitude of this operation transforming the state <code>00</code> to <code>10</code>."
          },
          "_t_amp_00_11": {
            "meaning": "This is the amplitude of this operation transforming the state <code>00</code> to <code>11</code>."
          },
          "_t_amp_01_00": {
            "meaning": "This is the amplitude of this operation transforming the state <code>01</code> to <code>00</code>."
          },
          "_t_amp_01_01": {
            "meaning": "This is the amplitude of this operation transforming the state <code>01</code> to <code>01</code>."
          },
          "_t_amp_01_10": {
            "meaning": "This is the amplitude of this operation transforming the state <code>01</code> to <code>10</code>."
          },
          "_t_amp_01_11": {
            "meaning": "This is the amplitude of this operation transforming the state <code>01</code> to <code>11</code>."
          },
          "_t_amp_0_0": {
            "meaning": "This is proportional to the transition amplitude of this operation transforming the state <code>0</code> to <code>0</code>."
          },
          "_t_amp_0_1": {
            "meaning": "This is proportional to the transition amplitude of this operation transforming the state <code>0</code> to <code>1</code>."
          },
          "_t_amp_10_00": {
            "meaning": "This is the amplitude of this operation transforming the state <code>10</code> to <code>00</code>."
          },
          "_t_amp_10_01": {
            "meaning": "This is the amplitude of this operation transforming the state <code>10</code> to <code>01</code>."
          },
          "_t_amp_10_10": {
            "meaning": "This is the amplitude of this operation transforming the state <code>10</code> to <code>10</code>."
          },
          "_t_amp_10_11": {
            "meaning": "This is the amplitude of this operation transforming the state <code>10</code> to <code>11</code>."
          },
          "_t_amp_11_00": {
            "meaning": "This is the amplitude of this operation transforming the state <code>11</code> to <code>00</code>."
          },
          "_t_amp_11_01": {
            "meaning": "This is the amplitude of this operation transforming the state <code>11</code> to <code>01</code>."
          },
          "_t_amp_11_10": {
            "meaning": "This is the amplitude of this operation transforming the state <code>11</code> to <code>10</code>."
          },
          "_t_amp_11_11": {
            "meaning": "This is the amplitude of this operation transforming the state <code>11</code> to <code>11</code>."
          },
          "_t_amp_1_0": {
            "meaning": "This is proportional to the transition amplitude of this operation transforming the state <code>1</code> to <code>0</code>."
          },
          "_t_amp_1_1": {
            "meaning": "This is proportional to the transition amplitude of this operation transforming the state <code>1</code> to <code>1</code>."
          },
          "dot": {
            "meaning": "This dot is a shorthand for multiplication."
          },
          "u-gate": {
            "meaning": "'U' is generally used to represent quantum gates, especially if the gate doesn't have a more specific name. It stands for 'unitary' which is something we'll learn about further down on this page."
          }
        },
        "gloss": {
          "cnot": {
            "text": "The CNOT gate toggles the state of a 'target' qubit if the state of a 'control' qubit is 1.",
            "title": "CNOT"
          }
        }
      },
      "source": [
        "$$\n",
        "\\cssId{u-gate}{U} = \n",
        "\\begin{bmatrix}\n",
        "\\class{_t_amp_00_00}{t_{00\\to 00}} & \\class{_t_amp_01_00}{t_{01\\to 00}} & \\class{_t_amp_10_00}{t_{10\\to 00}} & \\class{_t_amp_11_00}{t_{11\\to 00}} \\\\\n",
        "\\class{_t_amp_00_01}{t_{00\\to 01}} & \\class{_t_amp_01_01}{t_{01\\to 01}} & \\class{_t_amp_10_01}{t_{10\\to 01}} & \\class{_t_amp_11_01}{t_{11\\to 01}} \\\\\n",
        "\\class{_t_amp_00_10}{t_{00\\to 10}} & \\class{_t_amp_01_10}{t_{01\\to 10}} & \\class{_t_amp_10_10}{t_{10\\to 10}} & \\class{_t_amp_11_10}{t_{11\\to 10}} \\\\\n",
        "\\class{_t_amp_00_11}{t_{00\\to 11}} & \\class{_t_amp_01_11}{t_{01\\to 11}} & \\class{_t_amp_10_11}{t_{10\\to 11}} & \\class{_t_amp_11_11}{t_{11\\to 11}} \\\\\n",
        "\\end{bmatrix}\n",
        "$$\n",
        "\n",
        "Por exemplo, aqui está a matriz que representa a operação CNOT que vimos nos átomos da computação:\n",
        "\n",
        "$$\n",
        "\\cssId{_cnot-gate}{\\text{CNOT}} =\n",
        "\\begin{bmatrix}\n",
        "\\class{_t_amp_00_00}{1} & \\class{_t_amp_01_00}{0} & \\class{_t_amp_10_00}{0} & \\class{_t_amp_11_00}{0} \\\\\n",
        "\\class{_t_amp_00_01}{0} & \\class{_t_amp_01_01}{0} & \\class{_t_amp_10_01}{0} & \\class{_t_amp_11_01}{1} \\\\\n",
        "\\class{_t_amp_00_10}{0} & \\class{_t_amp_01_10}{0} & \\class{_t_amp_10_10}{1} & \\class{_t_amp_11_10}{0} \\\\\n",
        "\\class{_t_amp_00_11}{0} & \\class{_t_amp_01_11}{1} & \\class{_t_amp_10_11}{0} & \\class{_t_amp_11_11}{0} \\\\\n",
        "\\end{bmatrix}\n",
        "$$\n",
        "\n",
        "<!-- ::: q-block.exercise -->\n",
        "\n",
        "### Questionário rápido\n",
        "\n",
        "<!-- ::: q-quiz(goal=\"intro-maths-0\") -->\n",
        "\n",
        "<!-- ::: .question -->\n",
        "\n",
        "Qual é a amplitude de transição da operação CNOT (como mostrado acima) transformando o estado $|10\\rangle$ para $|01\\rangle$?\n",
        "\n",
        "<!-- ::: -->\n",
        "\n",
        "<!-- ::: .option -->\n",
        "\n",
        "1. $1$\n",
        "\n",
        "<!-- ::: -->\n",
        "\n",
        "<!-- ::: .option(correct) -->\n",
        "\n",
        "2. $0$\n",
        "\n",
        "<!-- ::: -->\n",
        "\n",
        "<!-- ::: .option -->\n",
        "\n",
        "3. $\\begin{bmatrix} 1 & 0 & 0 & 0\\end{bmatrix}$\n",
        "\n",
        "<!-- ::: -->\n",
        "\n",
        "<!-- ::: .option -->\n",
        "\n",
        "1. $\\begin{bmatrix} 0 \\\\ 0 \\\\ 1 \\\\ 0\\end{bmatrix}$\n",
        "\n",
        "<!-- ::: -->\n",
        "\n",
        "<!-- ::: -->\n",
        "\n",
        "<!-- ::: -->\n",
        "\n",
        "E aqui está a matriz para a porta  H que vimos na página anterior:\n",
        "\n",
        "$$\n",
        "H = \\sqrt{\\tfrac{1}{2}}\n",
        "\\begin{bmatrix}\n",
        "\\class{_t_amp_0_0}{1} & \\class{_t_amp_1_0}{1} \\\\\n",
        "\\class{_t_amp_0_1}{1} & \\class{_t_amp_1_1}{-1} \\\\\n",
        "\\end{bmatrix}\n",
        "$$\n",
        "\n",
        "(usamos a mesma regra para multiplicar uma matriz por um escalar como fazemos com vetores). E quando queremos ver que efeito uma operação terá em alguns qubits, multiplicamos cada amplitude de transição pela amplitude de cada estado em nosso vetor de estado de entrada e, em seguida, somamos as amplitudes de cada estado para obter nosso vetor de estado de saída. Isso é exatamente o mesmo que multiplicar ao longo de cada ramo em uma árvore de probabilidade (ou amplitude) e somar as probabilidades totais (ou amplitudes) no final.\n",
        "\n",
        "Para qualquer matemático na platéia, isso é apenas uma multiplicação de matrizes padrão.\n",
        "\n",
        "$$\n",
        "H|0\\rangle = \\sqrt{\\tfrac{1}{2}}\n",
        "\\begin{bmatrix}\n",
        "\\class{_t_amp_0_0}{1} & \\class{_t_amp_1_0}{ 1} \\\\\n",
        "\\class{_t_amp_0_1}{1} & \\class{_t_amp_1_1}{-1} \\\\\n",
        "\\end{bmatrix}\n",
        "\\begin{bmatrix}\n",
        "\\class{_sq-amp0}{1} \\\\\n",
        "\\class{_sq-amp1}{0} \\\\\n",
        "\\end{bmatrix}\n",
        "= \\sqrt{\\tfrac{1}{2}}\n",
        "\\begin{bmatrix}\n",
        "(1 \\class{dot}{\\cdot} 1) & + &  (1 \\class{dot}{\\cdot} 0) \\\\\n",
        "(1 \\class{dot}{\\cdot} 1) & + & (-1 \\class{dot}{\\cdot} 0) \\\\\n",
        "\\end{bmatrix}\n",
        "= \\sqrt{\\tfrac{1}{2}}\n",
        "\\begin{bmatrix}\n",
        "\\class{_sq-amp0}{1} \\\\\n",
        "\\class{_sq-amp1}{1} \\\\\n",
        "\\end{bmatrix}\n",
        "$$\n",
        "\n",
        "![imagem mostrando como a porta H transforma o estado |0> no estado |+>](images/quantum-states/h-gate.svg)"
      ]
    },
    {
      "cell_type": "markdown",
      "metadata": {
      },
      "source": [
        "## Regras de operações quânticas\n",
        "\n",
        "Da mesma forma que nem todo vetor é um vetor de estado válido, nem toda matriz é uma operação quântica válida. Para que uma matriz faça sentido como uma operação real, ela precisa manter a probabilidade total dos estados de saída igual a 1. Então, por exemplo, isso não poderia ser uma operação real:\n",
        "\n",
        "$$\n",
        "\\begin{bmatrix}\n",
        "\\class{_t_amp_0_0}{1} & \\class{_t_amp_1_0}{0} \\\\\n",
        "\\class{_t_amp_0_1}{1} & \\class{_t_amp_1_1}{0} \\\\\n",
        "\\end{bmatrix}\n",
        "$$\n",
        "\n",
        "Porque se ele atua no estado $|0\\rangle$ temos:\n",
        "\n",
        "$$\n",
        "\\begin{bmatrix}\n",
        "\\class{_t_amp_0_0}{1} & \\class{_t_amp_1_0}{0} \\\\\n",
        "\\class{_t_amp_0_1}{1} & \\class{_t_amp_1_1}{0} \\\\\n",
        "\\end{bmatrix}\\begin{bmatrix} 1 \\\\ 0 \\end{bmatrix}\n",
        "=\n",
        "\\begin{bmatrix} \\class{_sq-amp0}{1} \\\\ \\class{_sq-amp1}{1} \\end{bmatrix}\n",
        "$$\n",
        "\n",
        "e as probabilidades totais somam dois, o que não faz sentido. Alternativamente, se ele atuasse no estado $|1\\rangle$, então as probabilidades totais somariam zero, o que também não faz sentido. Para preservar a probabilidade total em todos os casos, nossas operações precisam ser reversíveis. Isso significa que podemos executar nossos portões quânticos para trás para 'desfazê-los' (lembrando-se de reverter quaisquer rotações) e ficar com o estado com o qual começamos. Dizemos que as matrizes com esta propriedade são *unitárias* . Você verá frequentemente portas quânticos chamadas de 'unitários' ou 'portas unitárias'."
      ]
    }
  ],
  "metadata": {
    "kernelspec": {
      "display_name": "Python 3",
      "language": "python",
      "name": "python3"
    },
    "language_info": {
      "codemirror_mode": {
        "name": "ipython",
        "version": 3
      },
      "file_extension": ".py",
      "mimetype": "text/x-python",
      "name": "python",
      "nbconvert_exporter": "python",
      "pygments_lexer": "ipython3",
      "version": "3.9"
    }
  },
  "nbformat": 4,
  "nbformat_minor": 4
}
