{
  "cells": [
    {
      "cell_type": "markdown",
      "metadata": {
      },
      "source": [
        "# Retorno de Fase\n",
        "\n",
        "Nesta página, abordaremos um comportamento de portas quânticas controladas conhecido como \"retorno de fase\". Esse efeito quântico interessante é um bloco de construção em muitos algoritmos quânticos famosos, incluindo o algoritmo de fatoração de Shor e o algoritmo de busca de Grover."
      ]
    },
    {
      "cell_type": "markdown",
      "metadata": {
        "formulas": {
          "_control-qubit-post": {
            "meaning": "This is the state of the control qubit after the controlled gate."
          },
          "_control-qubit-pre": {
            "meaning": "This is the control qubit. This qubit is in a superposition of |0〉 and |1〉."
          },
          "_eig-val-A": {
            "meaning": "This is a complex number, which we call the <i>eigenvalue</i>."
          },
          "_eig-val-U": {
            "meaning": "This is a complex number with magnitude 1.<br><a href='https://en.wikipedia.org/wiki/Euler%27s_formula'>Read more</a>."
          },
          "_eig-vec-A": {
            "meaning": "This is a vector. In this case, this vector is an <i>eigenvector</i> of the matrix 'A'."
          },
          "_eig-vec-U": {
            "meaning": "This is a state vector, and in this case, an eigen<i>state</i> of the matrix 'U', with eigenvalue exp(2πiθ)."
          },
          "_eig-vec-X": {
            "meaning": "This is a state vector, and in this case, an eigen<i>state</i> of the X-gate, with eigenvalue -1."
          },
          "_matrix-A": {
            "meaning": "This letter represents a matrix."
          },
          "_matrix-CU": {
            "meaning": "This is the operation U, controlled by another qubit."
          },
          "_matrix-CX": {
            "meaning": "This the controlled-X (CNOT) gate."
          },
          "_matrix-U": {
            "meaning": "This letter represents a unitary matrix (e.g. a quantum gate)."
          }
        }
      },
      "source": [
        "## Autovetores\n",
        "\n",
        "Você já deve estar familiarizado com autovetores e autovalores. Caso não esteja, você pode ler uma boa introdução [aqui](https://www.khanacademy.org/math/linear-algebra/alternate-bases/eigen-everything/v/linear-algebra-introduction-to-eigenvalues-and-eigenvectors). Se você *estiver* familiarizado, possivelmente reconhece a equação do autovetor:\n",
        "\n",
        "$$ \\class{_matrix-A}{A}\\class{_eig-vec-A}{|x\\rangle} = \\class{_eig-val-A}{\\lambda}\\class{_eig-vec-A}{|x\\rangle} $$\n",
        "\n",
        "Ela é ainda mais simples na computação quântica. Como todos os nossos vetores de estado têm magnitude 1, nossos autovalores também precisam ter magnitude 1, ou seja, $\\lambda = e^{2\\pi i \\theta}$. Assim, para uma porta quântica $U$ e seu autoestado $|x\\rangle$, temos:\n",
        "\n",
        "$$ \\class{_matrix-U}{U}\\class{_eig-vec-U}{|x\\rangle} = \\class{_eig-val-U}{e^{2\\pi i \\theta}}\\class{_eig-vec-U}{|x\\rangle} $$\n",
        "\n",
        "Para resumir: Se uma porta rotaciona (e apenas rotaciona) todas as amplitudes de um vetor de estado na mesma quantidade, então esse estado é um *autoestado* dessa porta.\n",
        "\n",
        "<!-- ::: q-block -->\n",
        "\n",
        "### Explorando autovetores\n",
        "\n",
        "Use a ferramenta abaixo para ver como uma porta de qubit único transforma um estado de qubit único. Você pode descobrir quais estados são autoestados de quais portas?\n",
        "\n",
        "```\n",
        "q-eigenvector-widget\n",
        "```\n",
        "\n",
        "<!-- ::: -->"
      ]
    },
    {
      "cell_type": "markdown",
      "metadata": {
      },
      "source": [
        "## Portas controladas e autoestados\n",
        "\n",
        "Assim que você estiver confortável com o conceito de autoestados, podemos começar a pensar no que acontece quando controlamos esses circuitos dependendo do estado de outro qubit. Por exemplo, sabemos que a porta Z atuando no estado $|1\\rangle$ introduz uma fase global negativa ($\\theta = 0.5$), vamos descobrir o que acontece quando controlamos esta operação.\n",
        "\n",
        "<!-- ::: q-block.tabs -->\n",
        "\n",
        "### A porta Z-controlada\n",
        "\n",
        "<!-- ::: tab -->\n",
        "\n",
        "### |10〉\n",
        "\n",
        "<!-- ::: column(width=200) -->\n",
        "\n",
        "Se o qubit de controle for $|0\\rangle$, então o comportamento é trivial; nada acontece.\n",
        "\n",
        "<!-- ::: column(width=400) -->\n",
        "\n",
        "![diagrama de circuito mostrando um registrador de dois qubits no estado 01, atuado por uma porta CZ. O estado não muda](images/kickback/tabs/0/0.svg)\n",
        "\n",
        "<!-- ::: -->\n",
        "\n",
        "<!-- ::: tab -->\n",
        "\n",
        "### |11〉\n",
        "\n",
        "<!-- ::: column(width=200) -->\n",
        "\n",
        "Se o qubit de controle for $|1\\rangle$, a porta introduz uma fase global (observe o sinal de menos na imagem à direita), mas os estados do qubit permanecem inalterados.\n",
        "\n",
        "<!-- ::: column(width=400) -->\n",
        "\n",
        "![diagrama de circuito mostrando um registrador de dois qubits no estado 01, atuado por uma porta CZ. O estado não muda](images/kickback/tabs/0/1.svg)\n",
        "\n",
        "<!-- ::: -->\n",
        "\n",
        "<!-- ::: tab -->\n",
        "\n",
        "### |1+〉\n",
        "\n",
        "<!-- ::: column(width=200) -->\n",
        "\n",
        "A porta Z-controlada não faz nada quando o controle é $|0\\rangle$, e introduz uma fase negativa quando o controle é $|1\\rangle$. Quando o qubit de controle está em superposição, a porta muda a fase *relativa* entre os estados $|0\\rangle$ e $|1\\rangle$ do qubit de controle.\n",
        "\n",
        "<!-- ::: column(width=400) -->\n",
        "\n",
        "![diagrama de circuito mostrando um registrador de dois qubits no estado 01, atuado por uma porta CZ. O estado não muda](images/kickback/tabs/0/2.svg)\n",
        "\n",
        "<!-- ::: -->\n",
        "\n",
        "<!-- ::: -->\n",
        "\n",
        "<!-- ::: -->\n",
        "\n",
        "Quando o controle é $|{+}\\rangle$, e o alvo é $|1\\rangle$, a porta Z-controlada altera o estado do qubit de *controle*, mas deixa o qubit alvo inalterado. Esse efeito é chamado de \"retorno de fase\", já que o valor próprio retorna ao estado do qubit de controle."
      ]
    },
    {
      "cell_type": "markdown",
      "metadata": {
      },
      "source": [
        "De maneira mais geral, se tivermos uma porta quântica $U$, e seu autoestado $|x\\rangle$, então $U$ agindo em $|x\\rangle$ adicionará uma fase global $\\theta$ como vimos acima.\n",
        "\n",
        "$$ \\class{_matrix-U}{U}\\class{_eig-vec-U}{|x\\rangle} = \\class{_eig-val-U}{e^{2\\pi i \\theta}}\\class{_eig-vec-U}{|x\\rangle} $$\n",
        "\n",
        "Se controlarmos a operação $U|x\\rangle$ por outro qubit em uma superposição de $|0\\rangle$ e $|1\\rangle$, isso terá o efeito de girar o qubit de controle ao redor do eixo Z por ângulo $\\teta$. Ou seja:\n",
        "\n",
        "$$ \\class{_matrix-CU}{CU}\\class{_eig-vec-U}{|x\\rangle}\\class{_control-qubit-pre}{(\\alpha|0\\rangle + \\beta|1\\rangle)} = \\class{_eig-vec-U}{|x\\rangle}\\class{_control-qubit-post}{(\\alpha|0\\rangle + \\beta e^{2\\pi i \\theta}|1\\rangle)} $$"
      ]
    },
    {
      "cell_type": "markdown",
      "metadata": {
      },
      "source": [
        "No exemplo acima, vemos que o 'controle' da porta Z-controlada está realmente fazendo uma rotação Z; algo que deveria estar apenas observando o qubit realmente o mudou. Por esta razão, muitas vezes você verá a porta Z-controlada desenhada como dois controles."
      ]
    },
    {
      "cell_type": "code",
      "execution_count": 1,
      "metadata": {
      },
      "outputs": [
        {
          "data": {
            "image/svg+xml": [
              "<?xml version=\"1.0\" encoding=\"UTF-8\"?><!DOCTYPE svg  PUBLIC '-//W3C//DTD SVG 1.1//EN'  'http://www.w3.org/Graphics/SVG/1.1/DTD/svg11.dtd'><svg width=\"125.12pt\" height=\"123.48pt\" version=\"1.1\" viewBox=\"0 0 125.12 123.48\" xmlns=\"http://www.w3.org/2000/svg\" xmlns:xlink=\"http://www.w3.org/1999/xlink\"><defs><style type=\"text/css\">*{stroke-linejoin: round; stroke-linecap: butt}</style></defs><path d=\"m0 123.48h125.12v-123.48h-125.12z\" fill=\"#ffffff\"/><path d=\"m63.381 43.561h49.996\" clip-path=\"url(#pb03c8b0eb8)\" fill=\"none\" stroke=\"#000000\" stroke-linecap=\"square\" stroke-width=\"2\"/><path d=\"m63.381 89.012h49.996\" clip-path=\"url(#pb03c8b0eb8)\" fill=\"none\" stroke=\"#000000\" stroke-linecap=\"square\" stroke-width=\"2\"/><path d=\"m87.925 89.012v-45.451\" clip-path=\"url(#pb03c8b0eb8)\" fill=\"none\" stroke=\"#1192e8\" stroke-linecap=\"square\" stroke-width=\"2\"/><path d=\"m87.925 89.012v-45.451\" clip-path=\"url(#pb03c8b0eb8)\" fill=\"none\" stroke=\"#1192e8\" stroke-linecap=\"square\" stroke-width=\"2\"/><path d=\"m87.925 47.992c1.1752 0 2.3025-0.46693 3.1335-1.2979 0.83102-0.83102 1.2979-1.9583 1.2979-3.1335 0-1.1752-0.46693-2.3025-1.2979-3.1335-0.83102-0.83102-1.9583-1.2979-3.1335-1.2979s-2.3025 0.46693-3.1335 1.2979c-0.83102 0.83102-1.2979 1.9583-1.2979 3.1335 0 1.1752 0.46693 2.3025 1.2979 3.1335 0.83102 0.83102 1.9583 1.2979 3.1335 1.2979z\" clip-path=\"url(#pb03c8b0eb8)\" fill=\"#1192e8\" stroke=\"#1192e8\" stroke-width=\"1.5\"/><path d=\"m87.925 93.443c1.1752 0 2.3025-0.46693 3.1335-1.2979 0.83102-0.83102 1.2979-1.9583 1.2979-3.1335s-0.46693-2.3025-1.2979-3.1335c-0.83102-0.83102-1.9583-1.2979-3.1335-1.2979s-2.3025 0.46693-3.1335 1.2979c-0.83102 0.83102-1.2979 1.9583-1.2979 3.1335s0.46693 2.3025 1.2979 3.1335c0.83102 0.83102 1.9583 1.2979 3.1335 1.2979z\" clip-path=\"url(#pb03c8b0eb8)\" fill=\"#1192e8\" stroke=\"#1192e8\" stroke-width=\"1.5\"/><g clip-path=\"url(#pb03c8b0eb8)\"><g transform=\"translate(36.253 47.786) scale(.1625 -.1625)\"><defs><path id=\"DejaVuSans-Oblique-71\" transform=\"scale(.015625)\" d=\"m2669 525q-231-303-546-460-314-156-695-156-531 0-833 358-301 358-301 986 0 506 186 978t533 847q225 244 517 375t614 131q387 0 637-153t363-462l100 525h578l-934-4813h-579l360 1844zm-1778 813q0-463 193-705 194-242 560-242 544 0 928 520t384 1264q0 450-199 689-198 239-569 239-272 0-504-127-231-126-403-370-181-256-286-600-104-343-104-668z\"/><path id=\"DejaVuSans-30\" transform=\"scale(.015625)\" d=\"m2034 4250q-487 0-733-480-245-479-245-1442 0-959 245-1439 246-480 733-480 491 0 736 480 246 480 246 1439 0 963-246 1442-245 480-736 480zm0 500q785 0 1199-621 414-620 414-1801 0-1178-414-1799-414-620-1199-620-784 0-1198 620-414 621-414 1799 0 1181 414 1801 414 621 1198 621z\"/></defs><use xlink:href=\"#DejaVuSans-Oblique-71\"/><use transform=\"translate(63.477 -16.406) scale(.7)\" xlink:href=\"#DejaVuSans-30\"/></g></g><g clip-path=\"url(#pb03c8b0eb8)\"><g transform=\"translate(36.253 93.237) scale(.1625 -.1625)\"><defs><path id=\"DejaVuSans-31\" transform=\"scale(.015625)\" d=\"m794 531h1031v3560l-1122-225v575l1116 225h631v-4135h1031v-531h-2687v531z\"/></defs><use xlink:href=\"#DejaVuSans-Oblique-71\"/><use transform=\"translate(63.477 -16.406) scale(.7)\" xlink:href=\"#DejaVuSans-31\"/></g></g><defs><clipPath id=\"pb03c8b0eb8\"><rect x=\"7.2\" y=\"7.2\" width=\"110.72\" height=\"109.08\"/></clipPath></defs></svg>"
            ],
            "text/plain": [
              "<Figure size 146.652x144.48 with 1 Axes>"
            ]
          },
          "execution_count": 1,
          "metadata": {
          },
          "output_type": "execute_result"
        }
      ],
      "source": [
        "from qiskit import QuantumCircuit\n",
        "qc = QuantumCircuit(2)\n",
        "qc.cz(0,1)\n",
        "qc.draw()"
      ]
    },
    {
      "cell_type": "markdown",
      "metadata": {
      },
      "source": [
        "## A Porta CNOT\n",
        "\n",
        "Vejamos o efeito de retorno de fase com uma porta de dois qubits diferente. Como o estado $|{-}\\rangle$ é um autoestado da porta X, com autovalor $-1$, obtemos:\n",
        "\n",
        "$$ \\class{_matrix-CX}{CX}\\class{_eig-vec-X}{|{-}\\rangle}\\class{_control-qubit-pre}{(\\alpha|0\\rangle + \\beta|1\\rangle)} = \\class{_eig-vec-X}{|{-}\\rangle}\\class{_control-qubit-post}{(\\alpha|0\\rangle - \\beta |1\\rangle)} $$\n",
        "\n",
        "![](images/kickback/cnot-kickback.svg)\n",
        "\n",
        "Novamente, neste caso a mudança de fase $\\theta = 0.5$, então nosso qubit de controle é invertido ao redor do eixo Z.\n",
        "\n",
        "<!-- ::: q-block -->\n",
        "\n",
        "### Exemplo resolvido\n",
        "\n",
        "<details>\n",
        "    <summary>Retorno com a porta CNOT (clique para expandir)</summary>\n",
        "</details>\n",
        "\n",
        "```\n",
        "q-carousel\n",
        "        div.md\n",
        "            <img src=\"images/kickback/carousel/cnot/carousel-img-0.svg\"><br>Por definição, a porta X-controlada (CNOT) inverte o estado do qubit de destino (em nosso exemplo, o bit mais à direita é o destino) se o qubit de controle for $|1\\rangle$. Na imagem acima, mostramos a porta CNOT transformando um vetor de estado em outro.\n",
        "        div.md\n",
        "            <img src=\"images/kickback/carousel/cnot/carousel-img-1.svg\"><br>Por exemplo, se o qubit de controle estiver no estado $|0\\rangle$, sempre obteremos exatamente o mesmo vetor de estado de volta. Na imagem acima, as amplitudes dos estados onde o controle é $|1\\rangle$ são zero, então não vemos efeito quando os trocamos.\n",
        "        div.md\n",
        "            <img src=\"images/kickback/carousel/cnot/carousel-img-2.svg\"><br>Outro exemplo: Se o qubit de controle estiver no estado $|1\\rangle$, então aplicamos a porta X no qubit alvo. Neste caso, o qubit alvo está em um autoestado da porta X, então obtemos o mesmo vetor de estado de volta, até a fase global. Essa mudança é uma fase global, pois a fase relativa entre as amplitudes $|0\\rangle$ e $|1\\rangle$ do qubit alvo permaneceu a mesma.\n",
        "        div.md\n",
        "            <img src=\"images/kickback/carousel/cnot/carousel-img-3.svg\"><br>Vejamos o vetor de estado quando o controle está no estado $|{+}\\rangle$ (ou seja, $\\tfrac{1}{\\sqrt{2}}(|0\\rangle + |1\\rangle)$), e o destino no estado $|{-}\\rangle$ (ou seja, $\\tfrac{1}{\\sqrt{2}}(|0\\rangle - |1\\rangle)$). Podemos ver que esses dois qubits são separáveis, pois medir um não afeta o estado do outro.\n",
        "        div.md\n",
        "            <img src=\"images/kickback/carousel/cnot/carousel-img-4.svg\"><br>Por exemplo, independentemente de medirmos o qubit de controle como $|0\\rangle$ ou $|1\\rangle$, as amplitudes para medir o alvo como $|0\\rangle$ ou $|1\\rangle$ permanecem as mesmas.\n",
        "        div.md\n",
        "            <img src=\"images/kickback/carousel/cnot/carousel-img-5.svg\"><br>Com tudo isso em mente, vamos ver o que acontece quando aplicamos o CNOT neste estado $|{+}{-}\\rangle$.\n",
        "        div.md\n",
        "            <img src=\"images/kickback/carousel/cnot/carousel-img-6.svg\"><br>Após o CNOT, esses qubits ainda são separáveis, pois o estado de um não muda quando medimos o outro. No entanto, a fase relativa entre as amplitudes $|0\\rangle$ e $|1\\rangle$ do qubit de controle mudou!\n",
        "```\n",
        "\n",
        "\n",
        "\n",
        "\n",
        "<!-- ::: -->\n",
        "\n",
        "Quando lembramos que a porta H faz a transformação $|0\\rangle \\rightarrow |{+}\\rangle$ e $|1\\rangle \\rightarrow |{-}\\rangle$ (e vice-versa), obtemos o seguinte identidade:\n",
        "\n",
        "![](images/kickback/cnot-identity.svg)"
      ]
    },
    {
      "cell_type": "markdown",
      "metadata": {
      },
      "source": [
        "## O Problema de Deutsch\n",
        "\n",
        "Acabamos de ver que condicionar uma ação no estado de um qubit pode realmente alterar o estado do qubit de controle. Este é um efeito 'quântico', ou seja, algo que não vemos acontecer com bits clássicos.\n",
        "\n",
        "Na computação quântica, queremos criar algoritmos que os computadores clássicos *não possam* executar, então um bom lugar para começar é tentar reformular esse efeito como um problema a ser resolvido. Dessa forma, podemos provar que os computadores quânticos são pelo menos um pouco melhores em algo do que os computadores clássicos.\n",
        "\n",
        "O problema de Deutsch faz exatamente isso. O problema de Deutsch é um problema de 'caixa preta'; um problema artificial em que podemos aplicar uma função aos nossos bits, mas não podemos ver como a função funciona. O desafio é descobrir algumas propriedades da caixa experimentando diferentes entradas e saídas.\n",
        "\n",
        "O problema de Deutsch é o seguinte: recebemos uma função clássica reversível (que chamaremos $f$ como abreviação), que atua em dois bits, $ a $ e $ b $. A função deixará o bit $ a $ sozinho, mas pode, ou não, inverter o bit $ b $. O problema de Deutsch nos pede para descobrir se $f$ se comporta de forma diferente dependendo do valor de $ a $ (chamaremos isso de comportamento \"equilibrado\"), ou se ignora $ a $ e sempre faz a mesma coisa com $ b $ comportamento (\"constante\"). O desafio é fazer isso aplicando $f$ o menor número de vezes possível.\n",
        "\n",
        "![Imagem do problema de deutsch como um circuito quântico. O circuito tem dois bits, os fios superior e inferior rotulados como 'a' e 'b', respectivamente. Ambos os bits são então atuados por uma porta opaca de dois bits rotulada 'f'. Depois de 'f', o fio superior ainda é rotulado como 'f', mas o fio inferior agora é rotulado como 'f(a, b)'.](images/kickback/deutsch-problem.svg)\n",
        "\n",
        "O melhor algoritmo clássico para este problema aplica $f$ duas vezes com valores diferentes de $ a $, depois verifica se o $f$ se comportou de forma diferente."
      ]
    },
    {
      "cell_type": "markdown",
      "metadata": {
      },
      "source": [
        "## O Algoritmo de Deutsch\n",
        "\n",
        "Como você deve ter adivinhado, podemos usar o retorno de fase para criar um algoritmo quântico que se sai ainda melhor do que o algoritmo clássico. Se colocarmos o qubit $ a $ no estado $|{+}\\rangle$ e o qubit $ b $ no estado $|{-}\\rangle$, então qualquer troca condicionada em $ a $ retrocederá uma fase negativa, invertendo o qubit $ a $ de $|{+}\\rangle$ para $|{-}\\rangle$. Podemos então aplicar a porta H em $ a $ para ver se ocorreu ou não o retorno.\n",
        "\n",
        "![Imagem do problema de deutsch como um circuito quântico. O circuito tem dois bits, as linhas superior e inferior rotuladas como 'a' e 'b', respectivamente. Ambos os bits sofrem atuação de uma porta de dois bits, rotulada 'f'. Depois de 'f', a linha superior ainda é rotulada como 'f', mas a inferior agora é rotulada como 'f(a, b)'.](https://github.com/Qiskit/platypus/blob/main/translations/pt/algorithms/images/kickback/deutsch-problem.svg?raw=true)\n",
        "\n",
        "<!-- ::: q-block.reminder -->\n",
        "\n",
        "### Mais informações\n",
        "\n",
        "<details><summary>Dentro da caixa preta (clique para expandir)</summary> Se isso ainda parece mágica, pode ajudar pensar em todas as possíveis funções de Deutsch e nos circuitos quânticos que as implementam. Existem quatro funções Deutsch possíveis: duas constantes e duas balanceadas.</details>\n",
        "\n",
        "Se constante, a função não pode fazer nada ou inverter o qubit $ b $. Se balanceada, a função pode inverter $ b $ somente quando $ a $ for $|1\\rangle$, ou inverter $ b $ somente quando $ a $ for $|0\\rangle$. Você pode ver todos os quatro cenários na imagem abaixo.\n",
        "\n",
        "<img src=\"images/kickback/deutsch-oracles.svg\">\n",
        "\n",
        "Com ambas as funções constantes, o qubit mais alto permanecerá inalterado (já que não estamos fazendo nada com ele), e nas funções balanceadas, o efeito de retorno muda o qubit mais alto de $|{+}\\rangle$ para $|{- }\\rangle$.\n",
        "\n",
        "\n",
        "\n",
        "\n",
        "<!-- ::: -->\n",
        "\n",
        "Este não é o exemplo mais impressionante de aceleração quântica; é muito específico, e não encontramos problemas de caixa preta na natureza. Em vez disso, o problema de Deutsch nos dá um resultado encorajador e alguns efeitos interessantes para explorar. No restante deste curso, estenderemos esse experimento simples para resolver problemas ainda mais impressionantes, incluindo fatoração."
      ]
    },
    {
      "cell_type": "markdown",
      "metadata": {
      },
      "source": [
        "<!-- ::: q-block.exercise -->\n",
        "\n",
        "### Exercício\n",
        "\n",
        "Faça uma função, `deutsch()` , que receba uma função Deutsch como um `QuantumCircuit` e use o algoritmo Deutsch para resolvê-lo em um simulador quântico. Sua função deve retornar `True` se a função Deutsch estiver balanceada e `False` se for constante.\n",
        "\n",
        "Você pode usar a função `deutsch_problem()` para criar um `QuantumCircuit` que pode ser usado como entrada para sua função `deutsch()` .\n",
        "\n",
        "<!-- ::: -->"
      ]
    },
    {
      "cell_type": "code",
      "execution_count": null,
      "metadata": {
      },
      "outputs": [

      ],
      "source": [
        "from qiskit import QuantumCircuit\n",
        "import numpy as np\n",
        "\n",
        "def deutsch_problem(seed=None):\n",
        "    \"\"\"Retorna um circuito que executa a função\n",
        "    do problema de Deutsch.\n",
        "    Argumentos:\n",
        "        seed (int): Se definido, o circuito retornado\n",
        "            será sempre o mesmo para a mesma semente.\n",
        "    Returns: QuantumCircuit\n",
        "    \"\"\"\n",
        "    np.random.seed(seed)\n",
        "    problem = QuantumCircuit(2)\n",
        "    if np.random.randint(2):\n",
        "        print(\"Função é balanceada.\")\n",
        "        problem.cx(0, 1)\n",
        "    else:\n",
        "        print(\"Função é constante\")\n",
        "    if np.random.randint(2):\n",
        "        problem.x(1)\n",
        "    return problem"
      ]
    },
    {
      "cell_type": "code",
      "execution_count": null,
      "metadata": {
      },
      "outputs": [

      ],
      "source": [
        "def deutsch(function):\n",
        "    \"\"\"Implementa o algoritmo de Deutsch.\n",
        "\n",
        "    Args:\n",
        "        function (QuantumCircuit): Função Deutsch para resolver.\n",
        "            Deve ser um circuito de 2 qubits, balanceado\n",
        "            ou constante.\n",
        "    Returns:\n",
        "        bool: True se o circuito estiver balanceado, caso contrário, False.\n",
        "    \"\"\"\n",
        "\n",
        "    # seu código aqui"
      ]
    },
    {
      "cell_type": "markdown",
      "metadata": {
      },
      "source": [
        "## Resumo\n",
        "\n",
        "Nesta página, nós:\n",
        "\n",
        "- recapitulaos o conceito de autovalores e autovetores\n",
        "- exploramos o efeito de retorno de fase e cobrimos alguns exemplos específicos\n",
        "- introduzimos o problema de Deutsch como um cenário onde os computadores quânticos têm uma vantagem sobre os computadores clássicos\n",
        "\n",
        "Se você esquecer todo o resto desta página, a coisa mais importante a se lembrar e se estar confortável é este resumo de retorno de fase:\n",
        "\n",
        "<!-- ::: q-block.reminder -->\n",
        "\n",
        "### Lembrete: Retorno de fase\n",
        "\n",
        "Se tivermos uma porta quântica $U$, e seu autoestado $|x\\rangle$, então $U$ agindo em $|x\\rangle$ adicionará uma fase global $\\theta$. Ou seja:\n",
        "\n",
        "$$ \\class{_matrix-U}{U}\\class{_eig-vec-U}{|x\\rangle} = \\class{_eig-val-U}{e^{2\\pi i \\theta}}\\class{_eig-vec-U}{|x\\rangle} $$\n",
        "\n",
        "Se controlarmos a operação $U|x\\rangle$ por outro qubit em uma superposição de $|0\\rangle$ e $|1\\rangle$, isso terá o efeito de rotacionar o qubit de controle ao redor do eixo Z por um ângulo $\\teta$. Ou seja:\n",
        "\n",
        "$$ \\class{_matrix-CU}{CU}\\class{_eig-vec-U}{|x\\rangle}\\class{_control-qubit-pre}{(\\alpha|0\\rangle + \\beta|1\\rangle)} = \\class{_eig-vec-U}{|x\\rangle}\\class{_control-qubit-post}{(\\alpha|0\\rangle + \\beta e^{2\\pi i \\theta}|1\\rangle)} $$\n",
        "\n",
        "<!-- ::: -->"
      ]
    }
  ],
  "metadata": {
    "kernelspec": {
      "display_name": "Python 3",
      "language": "python",
      "name": "python3"
    },
    "language_info": {
      "codemirror_mode": {
        "name": "ipython",
        "version": 3
      },
      "file_extension": ".py",
      "mimetype": "text/x-python",
      "name": "python",
      "nbconvert_exporter": "python",
      "pygments_lexer": "ipython3",
      "version": "3.9"
    }
  },
  "nbformat": 4,
  "nbformat_minor": 4
}
