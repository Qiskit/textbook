{
  "cells": [
    {
      "cell_type": "markdown",
      "metadata": {
        "tags": [
          "remove_cell"
        ]
      },
      "source": [
        "# QAOA ব্যবহার করে সমন্বিত অপ্টিমাইজেশন সমস্যা সমাধান করা"
      ]
    },
    {
      "cell_type": "markdown",
      "metadata": {
      },
      "source": [
        "এই টিউটোরিয়ালে, আমরা কম্বিনেটরিয়াল অপ্টিমাইজেশান সমস্যাগুলি প্রবর্তন করি, আনুমানিক অপ্টিমাইজেশান অ্যালগরিদম ব্যাখ্যা করি, কোয়ান্টাম আনুমানিক অপ্টিমাইজেশান অ্যালগরিদম (QAOA) কীভাবে কাজ করে তা ব্যাখ্যা করি এবং একটি উদাহরণের বাস্তবায়ন উপস্থাপন করি যা একটি সিমুলেটর বা একটি বাস্তব কোয়ান্টাম সিস্টেমে চালানো যেতে পারে।"
      ]
    },
    {
      "cell_type": "code",
      "execution_count": 1,
      "metadata": {
      },
      "outputs": [

      ],
      "source": [
        "import networkx as nx\n",
        "import matplotlib.pyplot as plt"
      ]
    },
    {
      "cell_type": "markdown",
      "metadata": {
      },
      "source": [
        "## কম্বিনেটরিয়াল অপ্টিমাইজেশান সমস্যা\n",
        "\n",
        "কম্বিনেটরিয়াল অপ্টিমাইজেশান সমস্যাগুলি বস্তুর একটি সীমিত সেট থেকে একটি সর্বোত্তম বস্তু খুঁজে পাওয়া জড়িত। আমরা বিটস্ট্রিংগুলির একটি সীমিত সেটের মধ্যে 0 এবং 1 এর সমন্বয়ে গঠিত \"অনুকূল\" বিটস্ট্রিংগুলি খুঁজে পাওয়া সমস্যাগুলির উপর ফোকাস করব। একটি গ্রাফের সাথে সম্পর্কিত এমন একটি সমস্যা হল ম্যাক্স-কাট সমস্যা।\n",
        "\n",
        "### ম্যাক্স-কাট সমস্যা\n",
        "\n",
        "একটি ম্যাক্স-কাট সমস্যা একটি গ্রাফের নোডকে দুটি সেটে বিভক্ত করে, যেমন সেটগুলির মধ্যে প্রান্তের সংখ্যা সর্বাধিক। নীচের উদাহরণে চারটি নোড সহ একটি গ্রাফ রয়েছে এবং কয়েকটি উপায়ে এটিকে দুটি সেটে বিভক্ত করা যেতে পারে, \"লাল\" এবং \"নীল\" দেখানো হয়েছে।\n",
        "\n",
        "![](images/qaoa_maxcut.svg)"
      ]
    },
    {
      "cell_type": "markdown",
      "metadata": {
      },
      "source": [
        "4টি নোডের জন্য, যেহেতু প্রতিটি নোডকে \"লাল\" বা \"নীল\" সেটে বরাদ্দ করা যেতে পারে, তাই $2^4=16$ সম্ভাব্য অ্যাসাইনমেন্ট রয়েছে, যার মধ্যে আমাদের এমন একটি খুঁজে বের করতে হবে যা সেটগুলির মধ্যে সর্বাধিক সংখ্যক প্রান্ত দেয়। \"লাল ও নীল\". চিত্রে দুটি সেটের মধ্যে এই ধরনের প্রান্তের সংখ্যা, যেমন আমরা বাম থেকে ডানে যাই, তা হল 0, 2, 2, এবং 4৷ আমরা সমস্ত সম্ভাব্য $2^4=16$ অ্যাসাইনমেন্টগুলি গণনা করার পরে দেখতে পাচ্ছি যে, সবচেয়ে ডানদিকের চিত্রটি দুটি সেটের মধ্যে সর্বাধিক সংখ্যক প্রান্ত দেয় এমন অ্যাসাইনমেন্ট। তাই যদি আমরা \"লাল\" কে 0 হিসাবে এবং \"নীল\" কে 1 হিসাবে এনকোড করি, বিটস্ট্রিং \"0101\" এবং \"1010\" যে দুটি সেটের জন্য নোডের অ্যাসাইনমেন্টকে প্রতিনিধিত্ব করে তা হল সমাধান। "
      ]
    },
    {
      "cell_type": "markdown",
      "metadata": {
      },
      "source": [
        "আপনি হয়তো বুঝতে পেরেছেন, গ্রাফে নোডের সংখ্যা বাড়ার সাথে সাথে সমাধান খুঁজে বের করার জন্য আপনাকে যে সম্ভাব্য অ্যাসাইনমেন্টগুলি পরীক্ষা করতে হবে তার সংখ্যা দ্রুতগতিতে বৃদ্ধি পায়।"
      ]
    },
    {
      "cell_type": "markdown",
      "metadata": {
      },
      "source": [
        "## QAOA\n",
        "\n",
        "QAOA (কোয়ান্টাম আনুমানিক অপ্টিমাইজেশান অ্যালগরিদম) ফারহি এট আল দ্বারা প্রবর্তিত। একটি কোয়ান্টাম অ্যালগরিদম যা এই ধরনের সমন্বিত সমস্যার সমাধান করার চেষ্টা করে।<br>\n",
        "\n",
        "এটি একটি পরিবর্তনশীল অ্যালগরিদম যা প্রস্তুত করতে $U(\\boldsymbol{\\beta}, \\boldsymbol{\\gamma})$ $(\\boldsymbol{\\beta}, \\boldsymbol{\\gamma})$ দ্বারা চিহ্নিত একটি একক $U(\\boldsymbol{\\gamma})$ ব্যবহার করে। একটি কোয়ান্টাম অবস্থা $\\lvert \\psi(\\boldsymbol{\\beta}, \\boldsymbol{\\gamma}) \\rangle$। অ্যালগরিদমের লক্ষ্য হল সর্বোত্তম পরামিতি খুঁজে পাওয়া `{latex} (\\boldsymbol{\\beta}_{\\text{opt}}, \\boldsymbol{\\gamma}_{\\text{opt}})` যাতে কোয়ান্টাম অবস্থা `{latex} \\lvert \\psi(\\boldsymbol{\\beta}_{\\text{opt}}, \\boldsymbol{\\gamma}_{\\text{opt}}) \\rangle` সমস্যার সমাধানকে এনকোড করে।\n",
        "\n",
        "একক $U(\\boldsymbol{\\beta}, \\boldsymbol{\\gamma})$ এর একটি নির্দিষ্ট রূপ রয়েছে এবং এটি দুটি একক $U(\\boldsymbol{\\beta}) = e^{-i \\boldsymbol{\\ দ্বারা গঠিত। beta} H_B}$ এবং $U(\\boldsymbol{\\gamma}) = e^{-i \\boldsymbol{\\gamma} H_P}$ যেখানে $H_B$ মিশ্রিত হ্যামিলটোনিয়ান এবং $H_P$ হল হ্যামিলটোনিয়ান সমস্যা। ইউনিটারির এই ধরনের পছন্দ কোয়ান্টাম অ্যানিলিং নামক একটি সম্পর্কিত স্কিম থেকে এর অনুপ্রেরণা চালায়।\n",
        "\n",
        "স্টেট এই ইউনিটারিগুলিকে দুটি ইউনিটারিগুলির বিকল্প ব্লক হিসাবে প্রয়োগ করে প্রস্তুত করা হয়েছে যেমন $p$ বার প্রয়োগ করা হয়েছে\n",
        "\n",
        "$$\\lvert \\psi(\\boldsymbol{\\beta}, \\boldsymbol{\\gamma}) \\rangle = \\underbrace{U(\\boldsymbol{\\beta}) U(\\boldsymbol{\\gamma}) \\cdots U(\\boldsymbol{\\beta}) U(\\boldsymbol{\\gamma})}_{p ; \\text{times}} \\lvert \\psi_0 \\rangle$$\n",
        "\n",
        "যেখানে $\\lvert \\psi_0 \\rangle$ একটি উপযুক্ত প্রাথমিক অবস্থা।\n",
        "\n",
        "আমরা উপরে আলোচিত ম্যাক্স-কাট সমস্যা ব্যবহার করে এই পদক্ষেপগুলি প্রদর্শন করব। এর জন্য আমরা প্রথমে উপরে দেখানো সমস্যার অন্তর্নিহিত গ্রাফটি সংজ্ঞায়িত করব।"
      ]
    },
    {
      "cell_type": "code",
      "execution_count": 2,
      "metadata": {
      },
      "outputs": [
        {
          "data": {
            "image/svg+xml": [
              "<?xml version=\"1.0\" encoding=\"UTF-8\"?><!DOCTYPE svg  PUBLIC '-//W3C//DTD SVG 1.1//EN'  'http://www.w3.org/Graphics/SVG/1.1/DTD/svg11.dtd'><svg width=\"446.4pt\" height=\"302.4pt\" version=\"1.1\" viewBox=\"0 0 446.4 302.4\" xmlns=\"http://www.w3.org/2000/svg\" xmlns:xlink=\"http://www.w3.org/1999/xlink\"><defs><style type=\"text/css\">*{stroke-linecap:butt;stroke-linejoin:round;}</style></defs><path d=\"m0 302.4h446.4v-302.4h-446.4z\" fill=\"#ffffff\"/><g fill=\"none\" stroke=\"#000000\" stroke-opacity=\".8\"><path d=\"m26.836 138.07 175.81 144.04\" clip-path=\"url(#p5a16acdaa8)\"/><path d=\"m26.836 138.07 217.06-117.78\" clip-path=\"url(#p5a16acdaa8)\"/><path d=\"m202.65 282.11 216.91-116.84\" clip-path=\"url(#p5a16acdaa8)\"/><path d=\"m419.56 165.27-175.67-144.98\" clip-path=\"url(#p5a16acdaa8)\"/></g><defs><path id=\"m0affb553be\" d=\"m0 11.18c2.9651 0 5.8091-1.178 7.9057-3.2746 2.0966-2.0966 3.2746-4.9406 3.2746-7.9057s-1.178-5.8091-3.2746-7.9057c-2.0966-2.0966-4.9406-3.2746-7.9057-3.2746s-5.8091 1.178-7.9057 3.2746c-2.0966 2.0966-3.2746 4.9406-3.2746 7.9057s1.178 5.8091 3.2746 7.9057c2.0966 2.0966 4.9406 3.2746 7.9057 3.2746z\" stroke=\"#1f78b4\" stroke-opacity=\".8\"/></defs><g clip-path=\"url(#p5a16acdaa8)\" fill=\"#1f78b4\" fill-opacity=\".8\" stroke=\"#1f78b4\" stroke-opacity=\".8\"><use x=\"26.836364\" y=\"138.073658\" xlink:href=\"#m0affb553be\"/><use x=\"202.649721\" y=\"282.109091\" xlink:href=\"#m0affb553be\"/><use x=\"419.563636\" y=\"165.267092\" xlink:href=\"#m0affb553be\"/><use x=\"243.898488\" y=\"20.290909\" xlink:href=\"#m0affb553be\"/></g><g clip-path=\"url(#p5a16acdaa8)\"><defs><path id=\"DejaVuSans-48\" d=\"m31.781 66.406q-7.6094 0-11.453-7.5-3.8281-7.4844-3.8281-22.531 0-14.984 3.8281-22.484 3.8438-7.5 11.453-7.5 7.6719 0 11.5 7.5 3.8438 7.5 3.8438 22.484 0 15.047-3.8438 22.531-3.8281 7.5-11.5 7.5zm0 7.8125q12.266 0 18.734-9.7031 6.4688-9.6875 6.4688-28.141 0-18.406-6.4688-28.109-6.4688-9.6875-18.734-9.6875-12.25 0-18.719 9.6875-6.4688 9.7031-6.4688 28.109 0 18.453 6.4688 28.141 6.4688 9.7031 18.719 9.7031z\"/></defs><g transform=\"translate(23.019 141.38) scale(.12 -.12)\" opacity=\".8\"><use xlink:href=\"#DejaVuSans-48\"/></g></g><g clip-path=\"url(#p5a16acdaa8)\"><defs><path id=\"DejaVuSans-49\" d=\"m12.406 8.2969h16.109v55.625l-17.531-3.5156v8.9844l17.438 3.5156h9.8594v-64.609h16.109v-8.2969h-41.984z\"/></defs><g transform=\"translate(198.83 285.42) scale(.12 -.12)\" opacity=\".8\"><use xlink:href=\"#DejaVuSans-49\"/></g></g><g clip-path=\"url(#p5a16acdaa8)\"><defs><path id=\"DejaVuSans-50\" d=\"m19.188 8.2969h34.422v-8.2969h-46.281v8.2969q5.6094 5.8125 15.297 15.594 9.7031 9.7969 12.188 12.641 4.7344 5.3125 6.6094 9 1.8906 3.6875 1.8906 7.25 0 5.8125-4.0781 9.4688-4.0781 3.6719-10.625 3.6719-4.6406 0-9.7969-1.6094-5.1406-1.6094-11-4.8906v9.9688q5.9531 2.3906 11.125 3.6094 5.1875 1.2188 9.4844 1.2188 11.328 0 18.062-5.6719 6.7344-5.6562 6.7344-15.125 0-4.5-1.6875-8.5312-1.6719-4.0156-6.125-9.4844-1.2188-1.4219-7.7656-8.1875-6.5312-6.7656-18.453-18.922z\"/></defs><g transform=\"translate(415.75 168.58) scale(.12 -.12)\" opacity=\".8\"><use xlink:href=\"#DejaVuSans-50\"/></g></g><g clip-path=\"url(#p5a16acdaa8)\"><defs><path id=\"DejaVuSans-51\" d=\"m40.578 39.312q7.0781-1.5156 11.047-6.3125 3.9844-4.7812 3.9844-11.812 0-10.781-7.4219-16.703-7.4219-5.9062-21.094-5.9062-4.5781 0-9.4375 0.90625t-10.031 2.7188v9.5156q4.0938-2.3906 8.9688-3.6094 4.8906-1.2188 10.219-1.2188 9.2656 0 14.125 3.6562t4.8594 10.641q0 6.4531-4.5156 10.078-4.5156 3.6406-12.562 3.6406h-8.5v8.1094h8.8906q7.2656 0 11.125 2.9062t3.8594 8.375q0 5.6094-3.9844 8.6094-3.9688 3.0156-11.391 3.0156-4.0625 0-8.7031-0.89062-4.6406-0.875-10.203-2.7188v8.7812q5.625 1.5625 10.531 2.3438t9.25 0.78125q11.234 0 17.766-5.1094 6.5469-5.0938 6.5469-13.781 0-6.0625-3.4688-10.234t-9.8594-5.7812z\"/></defs><g transform=\"translate(240.08 23.602) scale(.12 -.12)\" opacity=\".8\"><use xlink:href=\"#DejaVuSans-51\"/></g></g><defs><clipPath id=\"p5a16acdaa8\"><rect x=\"7.2\" y=\"7.2\" width=\"432\" height=\"288\"/></clipPath></defs></svg>"
            ],
            "text/plain": [
              "<Figure size 432x288 with 1 Axes>"
            ]
          },
          "metadata": {
          },
          "output_type": "display_data"
        }
      ],
      "source": [
        "import networkx as nx\n",
        "\n",
        "G = nx.Graph()\n",
        "G.add_nodes_from([0, 1, 2, 3])\n",
        "G.add_edges_from([(0, 1), (1, 2), (2, 3), (3, 0)])\n",
        "nx.draw(G, with_labels=True, alpha=0.8, node_size=500)"
      ]
    },
    {
      "cell_type": "markdown",
      "metadata": {
      },
      "source": [
        "ম্যাক্স-কাট সমস্যার জন্য নির্দিষ্ট হ্যামিলটোনিয়ান সমস্যাটি একটি ধ্রুবক পর্যন্ত এখানে:\n",
        "\n",
        "$$ H_P = \\frac{1}{2}\\big(Z_0 \\otimes Z_1 \\otimes I_2 \\otimes I_3\\big) + \\frac{1}{2}\\big(I_0 \\otimes Z_1 \\otimes Z_2 \\otimes I_3\\big) + \\frac{1}{2}\\big(Z_0 \\otimes I_1 \\otimes I_2 \\otimes Z_3\\big) + \\frac{1}{2}\\big(I_0 \\otimes I_1 \\otimes Z_2 \\otimes Z_3\\big) $$\n",
        "\n",
        "একটি সমস্যার জন্য এই ধরনের একটি হ্যামিল্টোনিয়ান তৈরি করতে, একজনকে কয়েকটি পদক্ষেপ অনুসরণ করতে হবে যা আমরা এই পৃষ্ঠার পরবর্তী বিভাগে কভার করব।\n",
        "\n",
        "মিক্সার হ্যামিলটোনিয়ান $H_B$ সাধারণত ফর্মের হয়:\n",
        "\n",
        "$$ H_B = \\big(X_0 \\otimes I_1 \\otimes I_2 \\otimes I_3 \\big) + \\big(I_0 \\otimes X_1 \\otimes I_2 \\otimes I_3 \\big) + \\big(I_0 \\otimes I_1 \\otimes X_2 \\otimes I_3 \\big) + \\big(I_0 \\otimes I_1 \\otimes I_2 \\otimes X_3 \\big) $$\n",
        "\n",
        "$H_P$ এবং $H_B$ উভয় যাতায়াতের সমষ্টিতে পৃথক পদ হিসাবে, আমরা ইউনিটারিগুলিকে এইভাবে লিখতে পারি:\n",
        "\n",
        "$$ U(H_B) = e^{-i \\beta H_B} = e^{-i \\beta X_0}e^{-i \\beta X_1}e^{-i \\beta X_2}e^{-i \\beta X_3}.$$\n",
        "\n",
        "লক্ষ্য করুন যে উপরের পণ্যের প্রতিটি পদ প্রতিটি কিউবিটের একটি X-ঘূর্ণনের সাথে মিলে যায়। এবং আমরা $U(H_P)$ এভাবে লিখতে পারি:\n",
        "\n",
        "$$ U(H_P) = e^{-i \\gamma H_P} = e^{-i \\gamma Z_0 Z_1}e^{-i \\gamma Z_1 Z_2}e^{-i \\gamma Z_2 Z_3}e^{-i \\gamma Z_0 Z_3}$$\n",
        "\n",
        "এখন দুই ইউনিটির সার্কিট কেমন তা পরীক্ষা করা যাক। "
      ]
    },
    {
      "cell_type": "markdown",
      "metadata": {
      },
      "source": [
        "### মিক্সিং ইউনিটারি"
      ]
    },
    {
      "cell_type": "code",
      "execution_count": 3,
      "metadata": {
      },
      "outputs": [
        {
          "data": {
            "image/svg+xml": [
              "<?xml version=\"1.0\" encoding=\"UTF-8\"?><!DOCTYPE svg  PUBLIC '-//W3C//DTD SVG 1.1//EN'  'http://www.w3.org/Graphics/SVG/1.1/DTD/svg11.dtd'><svg width=\"125.23pt\" height=\"214.38pt\" version=\"1.1\" viewBox=\"0 0 125.23 214.38\" xmlns=\"http://www.w3.org/2000/svg\" xmlns:xlink=\"http://www.w3.org/1999/xlink\"><defs><style type=\"text/css\">*{stroke-linecap:butt;stroke-linejoin:round;}</style></defs><path d=\"m0 214.38h125.23v-214.38h-125.23z\" fill=\"#ffffff\"/><path d=\"m63.491 43.561h49.996\" clip-path=\"url(#pd94a167159)\" fill=\"none\" stroke=\"#000000\" stroke-linecap=\"square\" stroke-width=\"2\"/><path d=\"m63.491 89.012h49.996\" clip-path=\"url(#pd94a167159)\" fill=\"none\" stroke=\"#000000\" stroke-linecap=\"square\" stroke-width=\"2\"/><path d=\"m63.491 134.46h49.996\" clip-path=\"url(#pd94a167159)\" fill=\"none\" stroke=\"#000000\" stroke-linecap=\"square\" stroke-width=\"2\"/><path d=\"m63.491 179.91h49.996\" clip-path=\"url(#pd94a167159)\" fill=\"none\" stroke=\"#000000\" stroke-linecap=\"square\" stroke-width=\"2\"/><path d=\"m73.263 58.332h29.543v-29.543h-29.543z\" clip-path=\"url(#pd94a167159)\" fill=\"#bb8bff\" stroke=\"#bb8bff\" stroke-width=\"1.5\"/><path d=\"m73.263 103.78h29.543v-29.543h-29.543z\" clip-path=\"url(#pd94a167159)\" fill=\"#bb8bff\" stroke=\"#bb8bff\" stroke-width=\"1.5\"/><path d=\"m73.263 149.23h29.543v-29.543h-29.543z\" clip-path=\"url(#pd94a167159)\" fill=\"#bb8bff\" stroke=\"#bb8bff\" stroke-width=\"1.5\"/><path d=\"m73.263 194.69h29.543v-29.543h-29.543z\" clip-path=\"url(#pd94a167159)\" fill=\"#bb8bff\" stroke=\"#bb8bff\" stroke-width=\"1.5\"/><g clip-path=\"url(#pd94a167159)\"><defs><path id=\"DejaVuSans-82\" d=\"m44.391 34.188q3.1719-1.0781 6.1719-4.5938t6.0312-9.6719l10.016-19.922h-10.609l-9.3125 18.703q-3.625 7.3281-7.0156 9.7188t-9.25 2.3906h-10.75v-30.812h-9.8594v72.906h22.266q12.5 0 18.656-5.2344 6.1562-5.2188 6.1562-15.766 0-6.8906-3.2031-11.438-3.2031-4.5312-9.2969-6.2812zm-24.719 30.609v-25.875h12.406q7.125 0 10.766 3.2969t3.6406 9.6875-3.6406 9.6406-10.766 3.25z\"/><path id=\"DejaVuSans-88\" d=\"m6.2969 72.906h10.594l18.125-27.109 18.203 27.109h10.594l-23.438-35.016 25-37.891h-10.594l-20.5 31-20.656-31h-10.641l26.016 38.922z\"/></defs><g transform=\"translate(80.104 42.717) scale(.13 -.13)\"><use transform=\"translate(0 .09375)\" xlink:href=\"#DejaVuSans-82\"/><use transform=\"translate(70.439 -16.312) scale(.7)\" xlink:href=\"#DejaVuSans-88\"/></g></g><g clip-path=\"url(#pd94a167159)\"><defs><path id=\"DejaVuSans-50\" d=\"m19.188 8.2969h34.422v-8.2969h-46.281v8.2969q5.6094 5.8125 15.297 15.594 9.7031 9.7969 12.188 12.641 4.7344 5.3125 6.6094 9 1.8906 3.6875 1.8906 7.25 0 5.8125-4.0781 9.4688-4.0781 3.6719-10.625 3.6719-4.6406 0-9.7969-1.6094-5.1406-1.6094-11-4.8906v9.9688q5.9531 2.3906 11.125 3.6094 5.1875 1.2188 9.4844 1.2188 11.328 0 18.062-5.6719 6.7344-5.6562 6.7344-15.125 0-4.5-1.6875-8.5312-1.6719-4.0156-6.125-9.4844-1.2188-1.4219-7.7656-8.1875-6.5312-6.7656-18.453-18.922z\"/><path id=\"DejaVuSans-42\" d=\"m47.016 60.891-17.516-9.4688 17.516-9.5312-2.8281-4.7812-16.406 9.9062v-18.406h-5.5625v18.406l-16.406-9.9062-2.8281 4.7812 17.531 9.5312-17.531 9.4688 2.8281 4.8281 16.406-9.9062v18.406h5.5625v-18.406l16.406 9.9062z\"/><path id=\"DejaVuSans-Oblique-946\" d=\"m13.625 3.375-4.6875-24.172h-9.0312l14.594 75.141q4.3438 22.266 25.156 22.266 21.094 0 17.516-18.797-2.4375-13.375-11.953-18.266 12.797-4.3906 10.297-17.422-4.3906-23.203-28.031-23.156-10.344 0.046875-13.859 4.4062zm2.2969 11.719q3.75-8.5 13.375-8.4531 14.062 0 17.047 15.328 2.6875 13.781-20.172 12.703l1.6094 8.2969q17.672-0.29688 20.75 15.625 2.1094 10.75-9.3281 10.688-12.781 0-15.719-15.234z\"/></defs><g transform=\"translate(80.914 54.664) scale(.08 -.08)\"><use transform=\"translate(0 .39062)\" xlink:href=\"#DejaVuSans-50\"/><use transform=\"translate(63.623 .39062)\" xlink:href=\"#DejaVuSans-42\"/><use transform=\"translate(113.62 .39062)\" xlink:href=\"#DejaVuSans-Oblique-946\"/></g></g><g clip-path=\"url(#pd94a167159)\"><g transform=\"translate(80.104 88.168) scale(.13 -.13)\"><use transform=\"translate(0 .09375)\" xlink:href=\"#DejaVuSans-82\"/><use transform=\"translate(70.439 -16.312) scale(.7)\" xlink:href=\"#DejaVuSans-88\"/></g></g><g clip-path=\"url(#pd94a167159)\"><g transform=\"translate(80.914 100.11) scale(.08 -.08)\"><use transform=\"translate(0 .39062)\" xlink:href=\"#DejaVuSans-50\"/><use transform=\"translate(63.623 .39062)\" xlink:href=\"#DejaVuSans-42\"/><use transform=\"translate(113.62 .39062)\" xlink:href=\"#DejaVuSans-Oblique-946\"/></g></g><g clip-path=\"url(#pd94a167159)\"><g transform=\"translate(80.104 133.62) scale(.13 -.13)\"><use transform=\"translate(0 .09375)\" xlink:href=\"#DejaVuSans-82\"/><use transform=\"translate(70.439 -16.312) scale(.7)\" xlink:href=\"#DejaVuSans-88\"/></g></g><g clip-path=\"url(#pd94a167159)\"><g transform=\"translate(80.914 145.57) scale(.08 -.08)\"><use transform=\"translate(0 .39062)\" xlink:href=\"#DejaVuSans-50\"/><use transform=\"translate(63.623 .39062)\" xlink:href=\"#DejaVuSans-42\"/><use transform=\"translate(113.62 .39062)\" xlink:href=\"#DejaVuSans-Oblique-946\"/></g></g><g clip-path=\"url(#pd94a167159)\"><g transform=\"translate(80.104 179.07) scale(.13 -.13)\"><use transform=\"translate(0 .09375)\" xlink:href=\"#DejaVuSans-82\"/><use transform=\"translate(70.439 -16.312) scale(.7)\" xlink:href=\"#DejaVuSans-88\"/></g></g><g clip-path=\"url(#pd94a167159)\"><g transform=\"translate(80.914 191.02) scale(.08 -.08)\"><use transform=\"translate(0 .39062)\" xlink:href=\"#DejaVuSans-50\"/><use transform=\"translate(63.623 .39062)\" xlink:href=\"#DejaVuSans-42\"/><use transform=\"translate(113.62 .39062)\" xlink:href=\"#DejaVuSans-Oblique-946\"/></g></g><g clip-path=\"url(#pd94a167159)\"><defs><path id=\"DejaVuSans-Oblique-113\" d=\"m41.703 8.2031q-3.6094-4.7344-8.5312-7.1875-4.9062-2.4375-10.859-2.4375-8.2969 0-13.016 5.5938-4.7031 5.5938-4.7031 15.406 0 7.9062 2.9062 15.281t8.3281 13.234q3.5156 3.8125 8.0781 5.8594t9.5938 2.0469q6.0469 0 9.9531-2.3906t5.6719-7.2188l1.5625 8.2031h9.0312l-14.594-75.203h-9.0469zm-27.781 12.703q0-7.2344 3.0156-11.016 3.0312-3.7812 8.75-3.7812 8.5 0 14.5 8.125t6 19.75q0 7.0312-3.1094 10.766-3.0938 3.7344-8.8906 3.7344-4.25 0-7.875-1.9844-3.6094-1.9688-6.2969-5.7812-2.8281-4-4.4688-9.375-1.625-5.3594-1.625-10.438z\"/><path id=\"DejaVuSans-48\" d=\"m31.781 66.406q-7.6094 0-11.453-7.5-3.8281-7.4844-3.8281-22.531 0-14.984 3.8281-22.484 3.8438-7.5 11.453-7.5 7.6719 0 11.5 7.5 3.8438 7.5 3.8438 22.484 0 15.047-3.8438 22.531-3.8281 7.5-11.5 7.5zm0 7.8125q12.266 0 18.734-9.7031 6.4688-9.6875 6.4688-28.141 0-18.406-6.4688-28.109-6.4688-9.6875-18.734-9.6875-12.25 0-18.719 9.6875-6.4688 9.7031-6.4688 28.109 0 18.453 6.4688 28.141 6.4688 9.7031 18.719 9.7031z\"/></defs><g transform=\"translate(36.363 48.012) scale(.1625 -.1625)\"><use xlink:href=\"#DejaVuSans-Oblique-113\"/><use transform=\"translate(63.477 -16.406) scale(.7)\" xlink:href=\"#DejaVuSans-48\"/></g></g><g clip-path=\"url(#pd94a167159)\"><defs><path id=\"DejaVuSans-49\" d=\"m12.406 8.2969h16.109v55.625l-17.531-3.5156v8.9844l17.438 3.5156h9.8594v-64.609h16.109v-8.2969h-41.984z\"/></defs><g transform=\"translate(36.363 93.463) scale(.1625 -.1625)\"><use xlink:href=\"#DejaVuSans-Oblique-113\"/><use transform=\"translate(63.477 -16.406) scale(.7)\" xlink:href=\"#DejaVuSans-49\"/></g></g><g clip-path=\"url(#pd94a167159)\"><g transform=\"translate(36.363 138.91) scale(.1625 -.1625)\"><use xlink:href=\"#DejaVuSans-Oblique-113\"/><use transform=\"translate(63.477 -16.406) scale(.7)\" xlink:href=\"#DejaVuSans-50\"/></g></g><g clip-path=\"url(#pd94a167159)\"><defs><path id=\"DejaVuSans-51\" d=\"m40.578 39.312q7.0781-1.5156 11.047-6.3125 3.9844-4.7812 3.9844-11.812 0-10.781-7.4219-16.703-7.4219-5.9062-21.094-5.9062-4.5781 0-9.4375 0.90625t-10.031 2.7188v9.5156q4.0938-2.3906 8.9688-3.6094 4.8906-1.2188 10.219-1.2188 9.2656 0 14.125 3.6562t4.8594 10.641q0 6.4531-4.5156 10.078-4.5156 3.6406-12.562 3.6406h-8.5v8.1094h8.8906q7.2656 0 11.125 2.9062t3.8594 8.375q0 5.6094-3.9844 8.6094-3.9688 3.0156-11.391 3.0156-4.0625 0-8.7031-0.89062-4.6406-0.875-10.203-2.7188v8.7812q5.625 1.5625 10.531 2.3438t9.25 0.78125q11.234 0 17.766-5.1094 6.5469-5.0938 6.5469-13.781 0-6.0625-3.4688-10.234t-9.8594-5.7812z\"/></defs><g transform=\"translate(36.363 184.36) scale(.1625 -.1625)\"><use xlink:href=\"#DejaVuSans-Oblique-113\"/><use transform=\"translate(63.477 -16.406) scale(.7)\" xlink:href=\"#DejaVuSans-51\"/></g></g><defs><clipPath id=\"pd94a167159\"><rect x=\"7.2\" y=\"7.2\" width=\"110.83\" height=\"199.98\"/></clipPath></defs></svg>"
            ],
            "text/plain": [
              "<Figure size 146.797x264.88 with 1 Axes>"
            ]
          },
          "execution_count": 3,
          "metadata": {
          },
          "output_type": "execute_result"
        }
      ],
      "source": [
        "from qiskit import QuantumCircuit, ClassicalRegister, QuantumRegister\n",
        "from qiskit import Aer, execute\n",
        "from qiskit.circuit import Parameter\n",
        "\n",
        "# Adjacency is essentially a matrix which tells you which nodes are\n",
        "# connected. This matrix is given as a sparse matrix, so we need to\n",
        "# convert it to a dense matrix\n",
        "adjacency = nx.adjacency_matrix(G).todense()\n",
        "\n",
        "nqubits = 4\n",
        "\n",
        "beta = Parameter(\"$\\\\beta$\")\n",
        "qc_mix = QuantumCircuit(nqubits)\n",
        "for i in range(0, nqubits):\n",
        "    qc_mix.rx(2 * beta, i)\n",
        "    \n",
        "qc_mix.draw()"
      ]
    },
    {
      "cell_type": "markdown",
      "metadata": {
      },
      "source": [
        "### সমস্যা একক"
      ]
    },
    {
      "cell_type": "code",
      "execution_count": 4,
      "metadata": {
      },
      "outputs": [
        {
          "data": {
            "image/svg+xml": [
              "<?xml version=\"1.0\" encoding=\"UTF-8\"?><!DOCTYPE svg  PUBLIC '-//W3C//DTD SVG 1.1//EN'  'http://www.w3.org/Graphics/SVG/1.1/DTD/svg11.dtd'><svg width=\"807pt\" height=\"214.38pt\" version=\"1.1\" viewBox=\"0 0 807 214.38\" xmlns=\"http://www.w3.org/2000/svg\" xmlns:xlink=\"http://www.w3.org/1999/xlink\"><defs><style type=\"text/css\">*{stroke-linecap:butt;stroke-linejoin:round;}</style></defs><path d=\"m0 214.38h807v-214.38h-807z\" fill=\"#ffffff\"/><path d=\"m63.491 43.561h731.76\" clip-path=\"url(#p307a4a4c19)\" fill=\"none\" stroke=\"#000000\" stroke-linecap=\"square\" stroke-width=\"2\"/><path d=\"m63.491 89.012h731.76\" clip-path=\"url(#p307a4a4c19)\" fill=\"none\" stroke=\"#000000\" stroke-linecap=\"square\" stroke-width=\"2\"/><path d=\"m63.491 134.46h731.76\" clip-path=\"url(#p307a4a4c19)\" fill=\"none\" stroke=\"#000000\" stroke-linecap=\"square\" stroke-width=\"2\"/><path d=\"m63.491 179.91h731.76\" clip-path=\"url(#p307a4a4c19)\" fill=\"none\" stroke=\"#000000\" stroke-linecap=\"square\" stroke-width=\"2\"/><path d=\"m215.52 66.286h17.726v-45.451h-17.726z\" clip-path=\"url(#p307a4a4c19)\" fill=\"#bdbdbd\" opacity=\".6\"/><path d=\"m215.52 111.74h17.726v-45.451h-17.726z\" clip-path=\"url(#p307a4a4c19)\" fill=\"#bdbdbd\" opacity=\".6\"/><path d=\"m215.52 157.19h17.726v-45.451h-17.726z\" clip-path=\"url(#p307a4a4c19)\" fill=\"#bdbdbd\" opacity=\".6\"/><path d=\"m215.52 202.64h17.726v-45.451h-17.726z\" clip-path=\"url(#p307a4a4c19)\" fill=\"#bdbdbd\" opacity=\".6\"/><path d=\"m397.33 66.286h17.726v-45.451h-17.726z\" clip-path=\"url(#p307a4a4c19)\" fill=\"#bdbdbd\" opacity=\".6\"/><path d=\"m397.33 111.74h17.726v-45.451h-17.726z\" clip-path=\"url(#p307a4a4c19)\" fill=\"#bdbdbd\" opacity=\".6\"/><path d=\"m397.33 157.19h17.726v-45.451h-17.726z\" clip-path=\"url(#p307a4a4c19)\" fill=\"#bdbdbd\" opacity=\".6\"/><path d=\"m397.33 202.64h17.726v-45.451h-17.726z\" clip-path=\"url(#p307a4a4c19)\" fill=\"#bdbdbd\" opacity=\".6\"/><path d=\"m579.13 66.286h17.726v-45.451h-17.726z\" clip-path=\"url(#p307a4a4c19)\" fill=\"#bdbdbd\" opacity=\".6\"/><path d=\"m579.13 111.74h17.726v-45.451h-17.726z\" clip-path=\"url(#p307a4a4c19)\" fill=\"#bdbdbd\" opacity=\".6\"/><path d=\"m579.13 157.19h17.726v-45.451h-17.726z\" clip-path=\"url(#p307a4a4c19)\" fill=\"#bdbdbd\" opacity=\".6\"/><path d=\"m579.13 202.64h17.726v-45.451h-17.726z\" clip-path=\"url(#p307a4a4c19)\" fill=\"#bdbdbd\" opacity=\".6\"/><path d=\"m760.94 66.286h17.726v-45.451h-17.726z\" clip-path=\"url(#p307a4a4c19)\" fill=\"#bdbdbd\" opacity=\".6\"/><path d=\"m760.94 111.74h17.726v-45.451h-17.726z\" clip-path=\"url(#p307a4a4c19)\" fill=\"#bdbdbd\" opacity=\".6\"/><path d=\"m760.94 157.19h17.726v-45.451h-17.726z\" clip-path=\"url(#p307a4a4c19)\" fill=\"#bdbdbd\" opacity=\".6\"/><path d=\"m760.94 202.64h17.726v-45.451h-17.726z\" clip-path=\"url(#p307a4a4c19)\" fill=\"#bdbdbd\" opacity=\".6\"/><path d=\"m88.034 89.012v-45.451\" clip-path=\"url(#p307a4a4c19)\" fill=\"none\" stroke=\"#6fa4ff\" stroke-linecap=\"square\" stroke-width=\"2\"/><path d=\"m178.94 89.012v-45.451\" clip-path=\"url(#p307a4a4c19)\" fill=\"none\" stroke=\"#6fa4ff\" stroke-linecap=\"square\" stroke-width=\"2\"/><path d=\"m269.84 179.91v-136.35\" clip-path=\"url(#p307a4a4c19)\" fill=\"none\" stroke=\"#6fa4ff\" stroke-linecap=\"square\" stroke-width=\"2\"/><path d=\"m360.74 179.91v-136.35\" clip-path=\"url(#p307a4a4c19)\" fill=\"none\" stroke=\"#6fa4ff\" stroke-linecap=\"square\" stroke-width=\"2\"/><path d=\"m451.64 134.46v-45.451\" clip-path=\"url(#p307a4a4c19)\" fill=\"none\" stroke=\"#6fa4ff\" stroke-linecap=\"square\" stroke-width=\"2\"/><path d=\"m542.54 134.46v-45.451\" clip-path=\"url(#p307a4a4c19)\" fill=\"none\" stroke=\"#6fa4ff\" stroke-linecap=\"square\" stroke-width=\"2\"/><path d=\"m633.45 179.91v-45.451\" clip-path=\"url(#p307a4a4c19)\" fill=\"none\" stroke=\"#6fa4ff\" stroke-linecap=\"square\" stroke-width=\"2\"/><path d=\"m724.35 179.91v-45.451\" clip-path=\"url(#p307a4a4c19)\" fill=\"none\" stroke=\"#6fa4ff\" stroke-linecap=\"square\" stroke-width=\"2\"/><path d=\"m88.034 47.992c1.1752 0 2.3025-0.46693 3.1335-1.2979 0.83102-0.83102 1.2979-1.9583 1.2979-3.1335s-0.46693-2.3025-1.2979-3.1335c-0.83102-0.83102-1.9583-1.2979-3.1335-1.2979s-2.3025 0.46693-3.1335 1.2979c-0.83102 0.83102-1.2979 1.9583-1.2979 3.1335s0.46693 2.3025 1.2979 3.1335c0.83102 0.83102 1.9583 1.2979 3.1335 1.2979z\" clip-path=\"url(#p307a4a4c19)\" fill=\"#6fa4ff\" stroke=\"#6fa4ff\" stroke-width=\"1.5\"/><path d=\"m88.034 99.352c2.7422 0 5.3725-1.0895 7.3116-3.0285 1.939-1.939 3.0285-4.5693 3.0285-7.3116s-1.0895-5.3725-3.0285-7.3116c-1.939-1.939-4.5693-3.0285-7.3116-3.0285s-5.3725 1.0895-7.3116 3.0285c-1.939 1.939-3.0285 4.5693-3.0285 7.3116s1.0895 5.3725 3.0285 7.3116c1.939 1.939 4.5693 3.0285 7.3116 3.0285z\" clip-path=\"url(#p307a4a4c19)\" fill=\"#6fa4ff\" stroke=\"#6fa4ff\" stroke-width=\"2\"/><path d=\"m118.71 103.78h29.543v-29.543h-29.543z\" clip-path=\"url(#p307a4a4c19)\" fill=\"#bb8bff\" stroke=\"#bb8bff\" stroke-width=\"1.5\"/><path d=\"m178.94 47.992c1.1752 0 2.3025-0.46693 3.1335-1.2979 0.83102-0.83102 1.2979-1.9583 1.2979-3.1335s-0.46693-2.3025-1.2979-3.1335c-0.83102-0.83102-1.9583-1.2979-3.1335-1.2979s-2.3025 0.46693-3.1335 1.2979c-0.83102 0.83102-1.2979 1.9583-1.2979 3.1335s0.46693 2.3025 1.2979 3.1335c0.83102 0.83102 1.9583 1.2979 3.1335 1.2979z\" clip-path=\"url(#p307a4a4c19)\" fill=\"#6fa4ff\" stroke=\"#6fa4ff\" stroke-width=\"1.5\"/><path d=\"m178.94 99.352c2.7422 0 5.3725-1.0895 7.3116-3.0285 1.939-1.939 3.0285-4.5693 3.0285-7.3116s-1.0895-5.3725-3.0285-7.3116c-1.939-1.939-4.5693-3.0285-7.3116-3.0285s-5.3725 1.0895-7.3116 3.0285c-1.939 1.939-3.0285 4.5693-3.0285 7.3116s1.0895 5.3725 3.0285 7.3116c1.939 1.939 4.5693 3.0285 7.3116 3.0285z\" clip-path=\"url(#p307a4a4c19)\" fill=\"#6fa4ff\" stroke=\"#6fa4ff\" stroke-width=\"2\"/><path d=\"m269.84 47.992c1.1752 0 2.3025-0.46693 3.1335-1.2979 0.83102-0.83102 1.2979-1.9583 1.2979-3.1335s-0.46693-2.3025-1.2979-3.1335c-0.83102-0.83102-1.9583-1.2979-3.1335-1.2979s-2.3025 0.46693-3.1335 1.2979c-0.83102 0.83102-1.2979 1.9583-1.2979 3.1335s0.46693 2.3025 1.2979 3.1335c0.83102 0.83102 1.9583 1.2979 3.1335 1.2979z\" clip-path=\"url(#p307a4a4c19)\" fill=\"#6fa4ff\" stroke=\"#6fa4ff\" stroke-width=\"1.5\"/><path d=\"m269.84 190.25c2.7422 0 5.3725-1.0895 7.3116-3.0285 1.939-1.939 3.0285-4.5693 3.0285-7.3116s-1.0895-5.3725-3.0285-7.3116c-1.939-1.939-4.5693-3.0285-7.3116-3.0285s-5.3725 1.0895-7.3116 3.0285c-1.939 1.939-3.0285 4.5693-3.0285 7.3116s1.0895 5.3725 3.0285 7.3116c1.939 1.939 4.5693 3.0285 7.3116 3.0285z\" clip-path=\"url(#p307a4a4c19)\" fill=\"#6fa4ff\" stroke=\"#6fa4ff\" stroke-width=\"2\"/><path d=\"m300.52 194.69h29.543v-29.543h-29.543z\" clip-path=\"url(#p307a4a4c19)\" fill=\"#bb8bff\" stroke=\"#bb8bff\" stroke-width=\"1.5\"/><path d=\"m360.74 47.992c1.1752 0 2.3025-0.46693 3.1335-1.2979 0.83102-0.83102 1.2979-1.9583 1.2979-3.1335s-0.46693-2.3025-1.2979-3.1335c-0.83102-0.83102-1.9583-1.2979-3.1335-1.2979s-2.3025 0.46693-3.1335 1.2979c-0.83102 0.83102-1.2979 1.9583-1.2979 3.1335s0.46693 2.3025 1.2979 3.1335c0.83102 0.83102 1.9583 1.2979 3.1335 1.2979z\" clip-path=\"url(#p307a4a4c19)\" fill=\"#6fa4ff\" stroke=\"#6fa4ff\" stroke-width=\"1.5\"/><path d=\"m360.74 190.25c2.7422 0 5.3725-1.0895 7.3116-3.0285 1.939-1.939 3.0285-4.5693 3.0285-7.3116s-1.0895-5.3725-3.0285-7.3116c-1.939-1.939-4.5693-3.0285-7.3116-3.0285s-5.3725 1.0895-7.3116 3.0285c-1.939 1.939-3.0285 4.5693-3.0285 7.3116s1.0895 5.3725 3.0285 7.3116c1.939 1.939 4.5693 3.0285 7.3116 3.0285z\" clip-path=\"url(#p307a4a4c19)\" fill=\"#6fa4ff\" stroke=\"#6fa4ff\" stroke-width=\"2\"/><path d=\"m451.64 93.443c1.1752 0 2.3025-0.46693 3.1335-1.2979 0.83102-0.83102 1.2979-1.9583 1.2979-3.1335s-0.46693-2.3025-1.2979-3.1335c-0.83102-0.83102-1.9583-1.2979-3.1335-1.2979s-2.3025 0.46693-3.1335 1.2979c-0.83102 0.83102-1.2979 1.9583-1.2979 3.1335s0.46693 2.3025 1.2979 3.1335c0.83102 0.83102 1.9583 1.2979 3.1335 1.2979z\" clip-path=\"url(#p307a4a4c19)\" fill=\"#6fa4ff\" stroke=\"#6fa4ff\" stroke-width=\"1.5\"/><path d=\"m451.64 144.8c2.7422 0 5.3725-1.0895 7.3116-3.0285 1.939-1.939 3.0285-4.5693 3.0285-7.3116s-1.0895-5.3725-3.0285-7.3116c-1.939-1.939-4.5693-3.0285-7.3116-3.0285s-5.3725 1.0895-7.3116 3.0285c-1.939 1.939-3.0285 4.5693-3.0285 7.3116s1.0895 5.3725 3.0285 7.3116c1.939 1.939 4.5693 3.0285 7.3116 3.0285z\" clip-path=\"url(#p307a4a4c19)\" fill=\"#6fa4ff\" stroke=\"#6fa4ff\" stroke-width=\"2\"/><path d=\"m482.32 149.23h29.543v-29.543h-29.543z\" clip-path=\"url(#p307a4a4c19)\" fill=\"#bb8bff\" stroke=\"#bb8bff\" stroke-width=\"1.5\"/><path d=\"m542.54 93.443c1.1752 0 2.3025-0.46693 3.1335-1.2979 0.83102-0.83102 1.2979-1.9583 1.2979-3.1335s-0.46693-2.3025-1.2979-3.1335c-0.83102-0.83102-1.9583-1.2979-3.1335-1.2979s-2.3025 0.46693-3.1335 1.2979c-0.83102 0.83102-1.2979 1.9583-1.2979 3.1335s0.46693 2.3025 1.2979 3.1335c0.83102 0.83102 1.9583 1.2979 3.1335 1.2979z\" clip-path=\"url(#p307a4a4c19)\" fill=\"#6fa4ff\" stroke=\"#6fa4ff\" stroke-width=\"1.5\"/><path d=\"m542.54 144.8c2.7422 0 5.3725-1.0895 7.3116-3.0285 1.939-1.939 3.0285-4.5693 3.0285-7.3116s-1.0895-5.3725-3.0285-7.3116c-1.939-1.939-4.5693-3.0285-7.3116-3.0285s-5.3725 1.0895-7.3116 3.0285c-1.939 1.939-3.0285 4.5693-3.0285 7.3116s1.0895 5.3725 3.0285 7.3116c1.939 1.939 4.5693 3.0285 7.3116 3.0285z\" clip-path=\"url(#p307a4a4c19)\" fill=\"#6fa4ff\" stroke=\"#6fa4ff\" stroke-width=\"2\"/><path d=\"m633.45 138.89c1.1752 0 2.3025-0.46693 3.1335-1.2979 0.83102-0.83102 1.2979-1.9583 1.2979-3.1335s-0.46693-2.3025-1.2979-3.1335c-0.83102-0.83102-1.9583-1.2979-3.1335-1.2979s-2.3025 0.46693-3.1335 1.2979c-0.83102 0.83102-1.2979 1.9583-1.2979 3.1335s0.46693 2.3025 1.2979 3.1335c0.83102 0.83102 1.9583 1.2979 3.1335 1.2979z\" clip-path=\"url(#p307a4a4c19)\" fill=\"#6fa4ff\" stroke=\"#6fa4ff\" stroke-width=\"1.5\"/><path d=\"m633.45 190.25c2.7422 0 5.3725-1.0895 7.3116-3.0285 1.939-1.939 3.0285-4.5693 3.0285-7.3116s-1.0895-5.3725-3.0285-7.3116c-1.939-1.939-4.5693-3.0285-7.3116-3.0285s-5.3725 1.0895-7.3116 3.0285c-1.939 1.939-3.0285 4.5693-3.0285 7.3116s1.0895 5.3725 3.0285 7.3116c1.939 1.939 4.5693 3.0285 7.3116 3.0285z\" clip-path=\"url(#p307a4a4c19)\" fill=\"#6fa4ff\" stroke=\"#6fa4ff\" stroke-width=\"2\"/><path d=\"m664.13 194.69h29.543v-29.543h-29.543z\" clip-path=\"url(#p307a4a4c19)\" fill=\"#bb8bff\" stroke=\"#bb8bff\" stroke-width=\"1.5\"/><path d=\"m724.35 138.89c1.1752 0 2.3025-0.46693 3.1335-1.2979 0.83102-0.83102 1.2979-1.9583 1.2979-3.1335s-0.46693-2.3025-1.2979-3.1335c-0.83102-0.83102-1.9583-1.2979-3.1335-1.2979s-2.3025 0.46693-3.1335 1.2979c-0.83102 0.83102-1.2979 1.9583-1.2979 3.1335s0.46693 2.3025 1.2979 3.1335c0.83102 0.83102 1.9583 1.2979 3.1335 1.2979z\" clip-path=\"url(#p307a4a4c19)\" fill=\"#6fa4ff\" stroke=\"#6fa4ff\" stroke-width=\"1.5\"/><path d=\"m724.35 190.25c2.7422 0 5.3725-1.0895 7.3116-3.0285 1.939-1.939 3.0285-4.5693 3.0285-7.3116s-1.0895-5.3725-3.0285-7.3116c-1.939-1.939-4.5693-3.0285-7.3116-3.0285s-5.3725 1.0895-7.3116 3.0285c-1.939 1.939-3.0285 4.5693-3.0285 7.3116s1.0895 5.3725 3.0285 7.3116c1.939 1.939 4.5693 3.0285 7.3116 3.0285z\" clip-path=\"url(#p307a4a4c19)\" fill=\"#6fa4ff\" stroke=\"#6fa4ff\" stroke-width=\"2\"/><path d=\"m88.034 94.92v-11.817\" clip-path=\"url(#p307a4a4c19)\" fill=\"none\" stroke=\"#ffffff\" stroke-linecap=\"square\" stroke-width=\"2\"/><path d=\"m82.126 89.012h11.817\" clip-path=\"url(#p307a4a4c19)\" fill=\"none\" stroke=\"#ffffff\" stroke-linecap=\"square\" stroke-width=\"2\"/><path d=\"m178.94 94.92v-11.817\" clip-path=\"url(#p307a4a4c19)\" fill=\"none\" stroke=\"#ffffff\" stroke-linecap=\"square\" stroke-width=\"2\"/><path d=\"m173.03 89.012h11.817\" clip-path=\"url(#p307a4a4c19)\" fill=\"none\" stroke=\"#ffffff\" stroke-linecap=\"square\" stroke-width=\"2\"/><path d=\"m224.39 20.835v45.451\" clip-path=\"url(#p307a4a4c19)\" fill=\"none\" stroke=\"#000000\" stroke-dasharray=\"3.7,1.6\"/><path d=\"m224.39 66.286v45.451\" clip-path=\"url(#p307a4a4c19)\" fill=\"none\" stroke=\"#000000\" stroke-dasharray=\"3.7,1.6\"/><path d=\"m224.39 111.74v45.451\" clip-path=\"url(#p307a4a4c19)\" fill=\"none\" stroke=\"#000000\" stroke-dasharray=\"3.7,1.6\"/><path d=\"m224.39 157.19v45.451\" clip-path=\"url(#p307a4a4c19)\" fill=\"none\" stroke=\"#000000\" stroke-dasharray=\"3.7,1.6\"/><path d=\"m269.84 185.82v-11.817\" clip-path=\"url(#p307a4a4c19)\" fill=\"none\" stroke=\"#ffffff\" stroke-linecap=\"square\" stroke-width=\"2\"/><path d=\"m263.93 179.91h11.817\" clip-path=\"url(#p307a4a4c19)\" fill=\"none\" stroke=\"#ffffff\" stroke-linecap=\"square\" stroke-width=\"2\"/><path d=\"m360.74 185.82v-11.817\" clip-path=\"url(#p307a4a4c19)\" fill=\"none\" stroke=\"#ffffff\" stroke-linecap=\"square\" stroke-width=\"2\"/><path d=\"m354.83 179.91h11.817\" clip-path=\"url(#p307a4a4c19)\" fill=\"none\" stroke=\"#ffffff\" stroke-linecap=\"square\" stroke-width=\"2\"/><path d=\"m406.19 20.835v45.451\" clip-path=\"url(#p307a4a4c19)\" fill=\"none\" stroke=\"#000000\" stroke-dasharray=\"3.7,1.6\"/><path d=\"m406.19 66.286v45.451\" clip-path=\"url(#p307a4a4c19)\" fill=\"none\" stroke=\"#000000\" stroke-dasharray=\"3.7,1.6\"/><path d=\"m406.19 111.74v45.451\" clip-path=\"url(#p307a4a4c19)\" fill=\"none\" stroke=\"#000000\" stroke-dasharray=\"3.7,1.6\"/><path d=\"m406.19 157.19v45.451\" clip-path=\"url(#p307a4a4c19)\" fill=\"none\" stroke=\"#000000\" stroke-dasharray=\"3.7,1.6\"/><path d=\"m451.64 140.37v-11.817\" clip-path=\"url(#p307a4a4c19)\" fill=\"none\" stroke=\"#ffffff\" stroke-linecap=\"square\" stroke-width=\"2\"/><path d=\"m445.73 134.46h11.817\" clip-path=\"url(#p307a4a4c19)\" fill=\"none\" stroke=\"#ffffff\" stroke-linecap=\"square\" stroke-width=\"2\"/><path d=\"m542.54 140.37v-11.817\" clip-path=\"url(#p307a4a4c19)\" fill=\"none\" stroke=\"#ffffff\" stroke-linecap=\"square\" stroke-width=\"2\"/><path d=\"m536.64 134.46h11.817\" clip-path=\"url(#p307a4a4c19)\" fill=\"none\" stroke=\"#ffffff\" stroke-linecap=\"square\" stroke-width=\"2\"/><path d=\"m588 20.835v45.451\" clip-path=\"url(#p307a4a4c19)\" fill=\"none\" stroke=\"#000000\" stroke-dasharray=\"3.7,1.6\"/><path d=\"m588 66.286v45.451\" clip-path=\"url(#p307a4a4c19)\" fill=\"none\" stroke=\"#000000\" stroke-dasharray=\"3.7,1.6\"/><path d=\"m588 111.74v45.451\" clip-path=\"url(#p307a4a4c19)\" fill=\"none\" stroke=\"#000000\" stroke-dasharray=\"3.7,1.6\"/><path d=\"m588 157.19v45.451\" clip-path=\"url(#p307a4a4c19)\" fill=\"none\" stroke=\"#000000\" stroke-dasharray=\"3.7,1.6\"/><path d=\"m633.45 185.82v-11.817\" clip-path=\"url(#p307a4a4c19)\" fill=\"none\" stroke=\"#ffffff\" stroke-linecap=\"square\" stroke-width=\"2\"/><path d=\"m627.54 179.91h11.817\" clip-path=\"url(#p307a4a4c19)\" fill=\"none\" stroke=\"#ffffff\" stroke-linecap=\"square\" stroke-width=\"2\"/><path d=\"m724.35 185.82v-11.817\" clip-path=\"url(#p307a4a4c19)\" fill=\"none\" stroke=\"#ffffff\" stroke-linecap=\"square\" stroke-width=\"2\"/><path d=\"m718.44 179.91h11.817\" clip-path=\"url(#p307a4a4c19)\" fill=\"none\" stroke=\"#ffffff\" stroke-linecap=\"square\" stroke-width=\"2\"/><path d=\"m769.8 20.835v45.451\" clip-path=\"url(#p307a4a4c19)\" fill=\"none\" stroke=\"#000000\" stroke-dasharray=\"3.7,1.6\"/><path d=\"m769.8 66.286v45.451\" clip-path=\"url(#p307a4a4c19)\" fill=\"none\" stroke=\"#000000\" stroke-dasharray=\"3.7,1.6\"/><path d=\"m769.8 111.74v45.451\" clip-path=\"url(#p307a4a4c19)\" fill=\"none\" stroke=\"#000000\" stroke-dasharray=\"3.7,1.6\"/><path d=\"m769.8 157.19v45.451\" clip-path=\"url(#p307a4a4c19)\" fill=\"none\" stroke=\"#000000\" stroke-dasharray=\"3.7,1.6\"/><g clip-path=\"url(#p307a4a4c19)\"><defs><path id=\"DejaVuSans-82\" d=\"m44.391 34.188q3.1719-1.0781 6.1719-4.5938t6.0312-9.6719l10.016-19.922h-10.609l-9.3125 18.703q-3.625 7.3281-7.0156 9.7188t-9.25 2.3906h-10.75v-30.812h-9.8594v72.906h22.266q12.5 0 18.656-5.2344 6.1562-5.2188 6.1562-15.766 0-6.8906-3.2031-11.438-3.2031-4.5312-9.2969-6.2812zm-24.719 30.609v-25.875h12.406q7.125 0 10.766 3.2969t3.6406 9.6875-3.6406 9.6406-10.766 3.25z\"/><path id=\"DejaVuSans-90\" d=\"m5.6094 72.906h57.281v-7.5312l-46.094-57.078h47.219v-8.2969h-59.516v7.5156l46.094 57.078h-44.984z\"/></defs><g transform=\"translate(125.56 88.168) scale(.13 -.13)\"><use transform=\"translate(0 .09375)\" xlink:href=\"#DejaVuSans-82\"/><use transform=\"translate(70.439 -16.312) scale(.7)\" xlink:href=\"#DejaVuSans-90\"/></g></g><g clip-path=\"url(#p307a4a4c19)\"><defs><path id=\"DejaVuSans-50\" d=\"m19.188 8.2969h34.422v-8.2969h-46.281v8.2969q5.6094 5.8125 15.297 15.594 9.7031 9.7969 12.188 12.641 4.7344 5.3125 6.6094 9 1.8906 3.6875 1.8906 7.25 0 5.8125-4.0781 9.4688-4.0781 3.6719-10.625 3.6719-4.6406 0-9.7969-1.6094-5.1406-1.6094-11-4.8906v9.9688q5.9531 2.3906 11.125 3.6094 5.1875 1.2188 9.4844 1.2188 11.328 0 18.062-5.6719 6.7344-5.6562 6.7344-15.125 0-4.5-1.6875-8.5312-1.6719-4.0156-6.125-9.4844-1.2188-1.4219-7.7656-8.1875-6.5312-6.7656-18.453-18.922z\"/><path id=\"DejaVuSans-42\" d=\"m47.016 60.891-17.516-9.4688 17.516-9.5312-2.8281-4.7812-16.406 9.9062v-18.406h-5.5625v18.406l-16.406-9.9062-2.8281 4.7812 17.531 9.5312-17.531 9.4688 2.8281 4.8281 16.406-9.9062v18.406h5.5625v-18.406l16.406 9.9062z\"/><path id=\"DejaVuSans-Oblique-947\" d=\"m23.297 46.094 5.4219-33.781 25.281 42.375h9.5312l-32.719-54.688-4.0469-20.797h-8.9844l4.0469 20.797-6.3906 40.828q-0.98438 6.1406-5.625 6.1406h-2.3906l1.4688 7.7188h3.4219q9.6094 0 10.984-8.5938z\"/></defs><g transform=\"translate(126.57 100.07) scale(.08 -.08)\"><use transform=\"translate(0 .78125)\" xlink:href=\"#DejaVuSans-50\"/><use transform=\"translate(63.623 .78125)\" xlink:href=\"#DejaVuSans-42\"/><use transform=\"translate(113.62 .78125)\" xlink:href=\"#DejaVuSans-Oblique-947\"/></g></g><g clip-path=\"url(#p307a4a4c19)\"><g transform=\"translate(307.36 179.07) scale(.13 -.13)\"><use transform=\"translate(0 .09375)\" xlink:href=\"#DejaVuSans-82\"/><use transform=\"translate(70.439 -16.312) scale(.7)\" xlink:href=\"#DejaVuSans-90\"/></g></g><g clip-path=\"url(#p307a4a4c19)\"><g transform=\"translate(308.37 190.97) scale(.08 -.08)\"><use transform=\"translate(0 .78125)\" xlink:href=\"#DejaVuSans-50\"/><use transform=\"translate(63.623 .78125)\" xlink:href=\"#DejaVuSans-42\"/><use transform=\"translate(113.62 .78125)\" xlink:href=\"#DejaVuSans-Oblique-947\"/></g></g><g clip-path=\"url(#p307a4a4c19)\"><g transform=\"translate(489.16 133.62) scale(.13 -.13)\"><use transform=\"translate(0 .09375)\" xlink:href=\"#DejaVuSans-82\"/><use transform=\"translate(70.439 -16.312) scale(.7)\" xlink:href=\"#DejaVuSans-90\"/></g></g><g clip-path=\"url(#p307a4a4c19)\"><g transform=\"translate(490.17 145.52) scale(.08 -.08)\"><use transform=\"translate(0 .78125)\" xlink:href=\"#DejaVuSans-50\"/><use transform=\"translate(63.623 .78125)\" xlink:href=\"#DejaVuSans-42\"/><use transform=\"translate(113.62 .78125)\" xlink:href=\"#DejaVuSans-Oblique-947\"/></g></g><g clip-path=\"url(#p307a4a4c19)\"><g transform=\"translate(670.97 179.07) scale(.13 -.13)\"><use transform=\"translate(0 .09375)\" xlink:href=\"#DejaVuSans-82\"/><use transform=\"translate(70.439 -16.312) scale(.7)\" xlink:href=\"#DejaVuSans-90\"/></g></g><g clip-path=\"url(#p307a4a4c19)\"><g transform=\"translate(671.98 190.97) scale(.08 -.08)\"><use transform=\"translate(0 .78125)\" xlink:href=\"#DejaVuSans-50\"/><use transform=\"translate(63.623 .78125)\" xlink:href=\"#DejaVuSans-42\"/><use transform=\"translate(113.62 .78125)\" xlink:href=\"#DejaVuSans-Oblique-947\"/></g></g><g clip-path=\"url(#p307a4a4c19)\"><defs><path id=\"DejaVuSans-Oblique-113\" d=\"m41.703 8.2031q-3.6094-4.7344-8.5312-7.1875-4.9062-2.4375-10.859-2.4375-8.2969 0-13.016 5.5938-4.7031 5.5938-4.7031 15.406 0 7.9062 2.9062 15.281t8.3281 13.234q3.5156 3.8125 8.0781 5.8594t9.5938 2.0469q6.0469 0 9.9531-2.3906t5.6719-7.2188l1.5625 8.2031h9.0312l-14.594-75.203h-9.0469zm-27.781 12.703q0-7.2344 3.0156-11.016 3.0312-3.7812 8.75-3.7812 8.5 0 14.5 8.125t6 19.75q0 7.0312-3.1094 10.766-3.0938 3.7344-8.8906 3.7344-4.25 0-7.875-1.9844-3.6094-1.9688-6.2969-5.7812-2.8281-4-4.4688-9.375-1.625-5.3594-1.625-10.438z\"/><path id=\"DejaVuSans-48\" d=\"m31.781 66.406q-7.6094 0-11.453-7.5-3.8281-7.4844-3.8281-22.531 0-14.984 3.8281-22.484 3.8438-7.5 11.453-7.5 7.6719 0 11.5 7.5 3.8438 7.5 3.8438 22.484 0 15.047-3.8438 22.531-3.8281 7.5-11.5 7.5zm0 7.8125q12.266 0 18.734-9.7031 6.4688-9.6875 6.4688-28.141 0-18.406-6.4688-28.109-6.4688-9.6875-18.734-9.6875-12.25 0-18.719 9.6875-6.4688 9.7031-6.4688 28.109 0 18.453 6.4688 28.141 6.4688 9.7031 18.719 9.7031z\"/></defs><g transform=\"translate(36.363 48.012) scale(.1625 -.1625)\"><use xlink:href=\"#DejaVuSans-Oblique-113\"/><use transform=\"translate(63.477 -16.406) scale(.7)\" xlink:href=\"#DejaVuSans-48\"/></g></g><g clip-path=\"url(#p307a4a4c19)\"><defs><path id=\"DejaVuSans-49\" d=\"m12.406 8.2969h16.109v55.625l-17.531-3.5156v8.9844l17.438 3.5156h9.8594v-64.609h16.109v-8.2969h-41.984z\"/></defs><g transform=\"translate(36.363 93.463) scale(.1625 -.1625)\"><use xlink:href=\"#DejaVuSans-Oblique-113\"/><use transform=\"translate(63.477 -16.406) scale(.7)\" xlink:href=\"#DejaVuSans-49\"/></g></g><g clip-path=\"url(#p307a4a4c19)\"><g transform=\"translate(36.363 138.91) scale(.1625 -.1625)\"><use xlink:href=\"#DejaVuSans-Oblique-113\"/><use transform=\"translate(63.477 -16.406) scale(.7)\" xlink:href=\"#DejaVuSans-50\"/></g></g><g clip-path=\"url(#p307a4a4c19)\"><defs><path id=\"DejaVuSans-51\" d=\"m40.578 39.312q7.0781-1.5156 11.047-6.3125 3.9844-4.7812 3.9844-11.812 0-10.781-7.4219-16.703-7.4219-5.9062-21.094-5.9062-4.5781 0-9.4375 0.90625t-10.031 2.7188v9.5156q4.0938-2.3906 8.9688-3.6094 4.8906-1.2188 10.219-1.2188 9.2656 0 14.125 3.6562t4.8594 10.641q0 6.4531-4.5156 10.078-4.5156 3.6406-12.562 3.6406h-8.5v8.1094h8.8906q7.2656 0 11.125 2.9062t3.8594 8.375q0 5.6094-3.9844 8.6094-3.9688 3.0156-11.391 3.0156-4.0625 0-8.7031-0.89062-4.6406-0.875-10.203-2.7188v8.7812q5.625 1.5625 10.531 2.3438t9.25 0.78125q11.234 0 17.766-5.1094 6.5469-5.0938 6.5469-13.781 0-6.0625-3.4688-10.234t-9.8594-5.7812z\"/></defs><g transform=\"translate(36.363 184.36) scale(.1625 -.1625)\"><use xlink:href=\"#DejaVuSans-Oblique-113\"/><use transform=\"translate(63.477 -16.406) scale(.7)\" xlink:href=\"#DejaVuSans-51\"/></g></g><defs><clipPath id=\"p307a4a4c19\"><rect x=\"7.2\" y=\"7.2\" width=\"792.6\" height=\"199.98\"/></clipPath></defs></svg>"
            ],
            "text/plain": [
              "<Figure size 1049.8x264.88 with 1 Axes>"
            ]
          },
          "execution_count": 4,
          "metadata": {
          },
          "output_type": "execute_result"
        }
      ],
      "source": [
        "gamma = Parameter(\"$\\\\gamma$\")\n",
        "qc_p = QuantumCircuit(nqubits)\n",
        "for pair in list(G.edges()):  # pairs of nodes\n",
        "    qc_p.rzz(2 * gamma, pair[0], pair[1])\n",
        "    qc_p.barrier()\n",
        "    \n",
        "qc_p.decompose().draw()"
      ]
    },
    {
      "cell_type": "markdown",
      "metadata": {
      },
      "source": [
        "### প্রাথমিক অবস্থা\n",
        "\n",
        "QAOA এর সময় ব্যবহৃত প্রাথমিক অবস্থাটি সাধারণত সমস্ত ভিত্তি স্টেটের সমান সুপারপজিশন হয়\n",
        "\n",
        "$$\\lvert \\psi_0 \\rangle = \\bigg(\\frac{1}{\\sqrt{2}}\\big(\\lvert 0 \\rangle + \\lvert 1 \\rangle\\big)\\bigg)^{\\otimes n}$$\n",
        "\n",
        "এই জাতীয় অবস্থা, যখন কিউবিটের সংখ্যা 4 ($n=4$), নীচের সার্কিটে দেখানো হিসাবে একটি সমস্ত শূন্য অবস্থা থেকে শুরু করে হাদামার্ড গেটগুলি প্রয়োগ করে প্রস্তুত করা যেতে পারে। "
      ]
    },
    {
      "cell_type": "code",
      "execution_count": 5,
      "metadata": {
      },
      "outputs": [
        {
          "data": {
            "image/svg+xml": [
              "<?xml version=\"1.0\" encoding=\"UTF-8\"?><!DOCTYPE svg  PUBLIC '-//W3C//DTD SVG 1.1//EN'  'http://www.w3.org/Graphics/SVG/1.1/DTD/svg11.dtd'><svg width=\"125.23pt\" height=\"214.38pt\" version=\"1.1\" viewBox=\"0 0 125.23 214.38\" xmlns=\"http://www.w3.org/2000/svg\" xmlns:xlink=\"http://www.w3.org/1999/xlink\"><defs><style type=\"text/css\">*{stroke-linecap:butt;stroke-linejoin:round;}</style></defs><path d=\"m0 214.38h125.23v-214.38h-125.23z\" fill=\"#ffffff\"/><path d=\"m63.491 43.561h49.996\" clip-path=\"url(#p10f716f123)\" fill=\"none\" stroke=\"#000000\" stroke-linecap=\"square\" stroke-width=\"2\"/><path d=\"m63.491 89.012h49.996\" clip-path=\"url(#p10f716f123)\" fill=\"none\" stroke=\"#000000\" stroke-linecap=\"square\" stroke-width=\"2\"/><path d=\"m63.491 134.46h49.996\" clip-path=\"url(#p10f716f123)\" fill=\"none\" stroke=\"#000000\" stroke-linecap=\"square\" stroke-width=\"2\"/><path d=\"m63.491 179.91h49.996\" clip-path=\"url(#p10f716f123)\" fill=\"none\" stroke=\"#000000\" stroke-linecap=\"square\" stroke-width=\"2\"/><path d=\"m73.263 58.332h29.543v-29.543h-29.543z\" clip-path=\"url(#p10f716f123)\" fill=\"#6fa4ff\" stroke=\"#6fa4ff\" stroke-width=\"1.5\"/><path d=\"m73.263 103.78h29.543v-29.543h-29.543z\" clip-path=\"url(#p10f716f123)\" fill=\"#6fa4ff\" stroke=\"#6fa4ff\" stroke-width=\"1.5\"/><path d=\"m73.263 149.23h29.543v-29.543h-29.543z\" clip-path=\"url(#p10f716f123)\" fill=\"#6fa4ff\" stroke=\"#6fa4ff\" stroke-width=\"1.5\"/><path d=\"m73.263 194.69h29.543v-29.543h-29.543z\" clip-path=\"url(#p10f716f123)\" fill=\"#6fa4ff\" stroke=\"#6fa4ff\" stroke-width=\"1.5\"/><g clip-path=\"url(#p10f716f123)\"><defs><path id=\"DejaVuSans-72\" d=\"m9.8125 72.906h9.8594v-29.891h35.844v29.891h9.8594v-72.906h-9.8594v34.719h-35.844v-34.719h-9.8594z\"/></defs><g transform=\"translate(83.146 47.148) scale(.13 -.13)\"><use xlink:href=\"#DejaVuSans-72\"/></g></g><g clip-path=\"url(#p10f716f123)\"><g transform=\"translate(83.146 92.599) scale(.13 -.13)\"><use xlink:href=\"#DejaVuSans-72\"/></g></g><g clip-path=\"url(#p10f716f123)\"><g transform=\"translate(83.146 138.05) scale(.13 -.13)\"><use xlink:href=\"#DejaVuSans-72\"/></g></g><g clip-path=\"url(#p10f716f123)\"><g transform=\"translate(83.146 183.5) scale(.13 -.13)\"><use xlink:href=\"#DejaVuSans-72\"/></g></g><g clip-path=\"url(#p10f716f123)\"><defs><path id=\"DejaVuSans-Oblique-113\" d=\"m41.703 8.2031q-3.6094-4.7344-8.5312-7.1875-4.9062-2.4375-10.859-2.4375-8.2969 0-13.016 5.5938-4.7031 5.5938-4.7031 15.406 0 7.9062 2.9062 15.281t8.3281 13.234q3.5156 3.8125 8.0781 5.8594t9.5938 2.0469q6.0469 0 9.9531-2.3906t5.6719-7.2188l1.5625 8.2031h9.0312l-14.594-75.203h-9.0469zm-27.781 12.703q0-7.2344 3.0156-11.016 3.0312-3.7812 8.75-3.7812 8.5 0 14.5 8.125t6 19.75q0 7.0312-3.1094 10.766-3.0938 3.7344-8.8906 3.7344-4.25 0-7.875-1.9844-3.6094-1.9688-6.2969-5.7812-2.8281-4-4.4688-9.375-1.625-5.3594-1.625-10.438z\"/><path id=\"DejaVuSans-48\" d=\"m31.781 66.406q-7.6094 0-11.453-7.5-3.8281-7.4844-3.8281-22.531 0-14.984 3.8281-22.484 3.8438-7.5 11.453-7.5 7.6719 0 11.5 7.5 3.8438 7.5 3.8438 22.484 0 15.047-3.8438 22.531-3.8281 7.5-11.5 7.5zm0 7.8125q12.266 0 18.734-9.7031 6.4688-9.6875 6.4688-28.141 0-18.406-6.4688-28.109-6.4688-9.6875-18.734-9.6875-12.25 0-18.719 9.6875-6.4688 9.7031-6.4688 28.109 0 18.453 6.4688 28.141 6.4688 9.7031 18.719 9.7031z\"/></defs><g transform=\"translate(36.363 48.012) scale(.1625 -.1625)\"><use xlink:href=\"#DejaVuSans-Oblique-113\"/><use transform=\"translate(63.477 -16.406) scale(.7)\" xlink:href=\"#DejaVuSans-48\"/></g></g><g clip-path=\"url(#p10f716f123)\"><defs><path id=\"DejaVuSans-49\" d=\"m12.406 8.2969h16.109v55.625l-17.531-3.5156v8.9844l17.438 3.5156h9.8594v-64.609h16.109v-8.2969h-41.984z\"/></defs><g transform=\"translate(36.363 93.463) scale(.1625 -.1625)\"><use xlink:href=\"#DejaVuSans-Oblique-113\"/><use transform=\"translate(63.477 -16.406) scale(.7)\" xlink:href=\"#DejaVuSans-49\"/></g></g><g clip-path=\"url(#p10f716f123)\"><defs><path id=\"DejaVuSans-50\" d=\"m19.188 8.2969h34.422v-8.2969h-46.281v8.2969q5.6094 5.8125 15.297 15.594 9.7031 9.7969 12.188 12.641 4.7344 5.3125 6.6094 9 1.8906 3.6875 1.8906 7.25 0 5.8125-4.0781 9.4688-4.0781 3.6719-10.625 3.6719-4.6406 0-9.7969-1.6094-5.1406-1.6094-11-4.8906v9.9688q5.9531 2.3906 11.125 3.6094 5.1875 1.2188 9.4844 1.2188 11.328 0 18.062-5.6719 6.7344-5.6562 6.7344-15.125 0-4.5-1.6875-8.5312-1.6719-4.0156-6.125-9.4844-1.2188-1.4219-7.7656-8.1875-6.5312-6.7656-18.453-18.922z\"/></defs><g transform=\"translate(36.363 138.91) scale(.1625 -.1625)\"><use xlink:href=\"#DejaVuSans-Oblique-113\"/><use transform=\"translate(63.477 -16.406) scale(.7)\" xlink:href=\"#DejaVuSans-50\"/></g></g><g clip-path=\"url(#p10f716f123)\"><defs><path id=\"DejaVuSans-51\" d=\"m40.578 39.312q7.0781-1.5156 11.047-6.3125 3.9844-4.7812 3.9844-11.812 0-10.781-7.4219-16.703-7.4219-5.9062-21.094-5.9062-4.5781 0-9.4375 0.90625t-10.031 2.7188v9.5156q4.0938-2.3906 8.9688-3.6094 4.8906-1.2188 10.219-1.2188 9.2656 0 14.125 3.6562t4.8594 10.641q0 6.4531-4.5156 10.078-4.5156 3.6406-12.562 3.6406h-8.5v8.1094h8.8906q7.2656 0 11.125 2.9062t3.8594 8.375q0 5.6094-3.9844 8.6094-3.9688 3.0156-11.391 3.0156-4.0625 0-8.7031-0.89062-4.6406-0.875-10.203-2.7188v8.7812q5.625 1.5625 10.531 2.3438t9.25 0.78125q11.234 0 17.766-5.1094 6.5469-5.0938 6.5469-13.781 0-6.0625-3.4688-10.234t-9.8594-5.7812z\"/></defs><g transform=\"translate(36.363 184.36) scale(.1625 -.1625)\"><use xlink:href=\"#DejaVuSans-Oblique-113\"/><use transform=\"translate(63.477 -16.406) scale(.7)\" xlink:href=\"#DejaVuSans-51\"/></g></g><defs><clipPath id=\"p10f716f123\"><rect x=\"7.2\" y=\"7.2\" width=\"110.83\" height=\"199.98\"/></clipPath></defs></svg>"
            ],
            "text/plain": [
              "<Figure size 146.797x264.88 with 1 Axes>"
            ]
          },
          "execution_count": 5,
          "metadata": {
          },
          "output_type": "execute_result"
        }
      ],
      "source": [
        "qc_0 = QuantumCircuit(nqubits)\n",
        "for i in range(0, nqubits):\n",
        "    qc_0.h(i)\n",
        "    \n",
        "qc_0.draw()"
      ]
    },
    {
      "cell_type": "markdown",
      "metadata": {
      },
      "source": [
        "### QAOA সার্কিট\n",
        "\n",
        "এ পর্যন্ত আমরা দেখেছি যে QAOA এর সময় একটি কোয়ান্টাম অবস্থার প্রস্তুতি তিনটি উপাদানের সমন্বয়ে গঠিত\n",
        "\n",
        "- একটি প্রাথমিক অবস্থা প্রস্তুত করা হচ্ছে\n",
        "- একক `{latex} U(H_P) = e^{-i \\gamma H_P}` প্রয়োগ করা হচ্ছে হ্যামিলটোনিয়ান সমস্যার সাথে সম্পর্কিত\n",
        "- তারপর, মিশ্রণ একক প্রয়োগ করা হচ্ছে `{latex} U(H_B) = e^{-i \\beta H_B}`\n",
        "\n",
        "উদাহরণ সমস্যাটির জন্য এটি দেখতে কেমন তা দেখা যাক:"
      ]
    },
    {
      "cell_type": "code",
      "execution_count": 6,
      "metadata": {
      },
      "outputs": [
        {
          "data": {
            "image/svg+xml": [
              "<?xml version=\"1.0\" encoding=\"UTF-8\"?><!DOCTYPE svg  PUBLIC '-//W3C//DTD SVG 1.1//EN'  'http://www.w3.org/Graphics/SVG/1.1/DTD/svg11.dtd'><svg width=\"897.9pt\" height=\"214.38pt\" version=\"1.1\" viewBox=\"0 0 897.9 214.38\" xmlns=\"http://www.w3.org/2000/svg\" xmlns:xlink=\"http://www.w3.org/1999/xlink\"><defs><style type=\"text/css\">*{stroke-linecap:butt;stroke-linejoin:round;}</style></defs><path d=\"m0 214.38h897.9v-214.38h-897.9z\" fill=\"#ffffff\"/><path d=\"m63.491 43.561h822.66\" clip-path=\"url(#p7fe8ee2928)\" fill=\"none\" stroke=\"#000000\" stroke-linecap=\"square\" stroke-width=\"2\"/><path d=\"m63.491 89.012h822.66\" clip-path=\"url(#p7fe8ee2928)\" fill=\"none\" stroke=\"#000000\" stroke-linecap=\"square\" stroke-width=\"2\"/><path d=\"m63.491 134.46h822.66\" clip-path=\"url(#p7fe8ee2928)\" fill=\"none\" stroke=\"#000000\" stroke-linecap=\"square\" stroke-width=\"2\"/><path d=\"m63.491 179.91h822.66\" clip-path=\"url(#p7fe8ee2928)\" fill=\"none\" stroke=\"#000000\" stroke-linecap=\"square\" stroke-width=\"2\"/><path d=\"m306.43 66.286h17.726v-45.451h-17.726z\" clip-path=\"url(#p7fe8ee2928)\" fill=\"#bdbdbd\" opacity=\".6\"/><path d=\"m306.43 111.74h17.726v-45.451h-17.726z\" clip-path=\"url(#p7fe8ee2928)\" fill=\"#bdbdbd\" opacity=\".6\"/><path d=\"m306.43 157.19h17.726v-45.451h-17.726z\" clip-path=\"url(#p7fe8ee2928)\" fill=\"#bdbdbd\" opacity=\".6\"/><path d=\"m306.43 202.64h17.726v-45.451h-17.726z\" clip-path=\"url(#p7fe8ee2928)\" fill=\"#bdbdbd\" opacity=\".6\"/><path d=\"m488.23 66.286h17.726v-45.451h-17.726z\" clip-path=\"url(#p7fe8ee2928)\" fill=\"#bdbdbd\" opacity=\".6\"/><path d=\"m488.23 111.74h17.726v-45.451h-17.726z\" clip-path=\"url(#p7fe8ee2928)\" fill=\"#bdbdbd\" opacity=\".6\"/><path d=\"m488.23 157.19h17.726v-45.451h-17.726z\" clip-path=\"url(#p7fe8ee2928)\" fill=\"#bdbdbd\" opacity=\".6\"/><path d=\"m488.23 202.64h17.726v-45.451h-17.726z\" clip-path=\"url(#p7fe8ee2928)\" fill=\"#bdbdbd\" opacity=\".6\"/><path d=\"m670.03 66.286h17.726v-45.451h-17.726z\" clip-path=\"url(#p7fe8ee2928)\" fill=\"#bdbdbd\" opacity=\".6\"/><path d=\"m670.03 111.74h17.726v-45.451h-17.726z\" clip-path=\"url(#p7fe8ee2928)\" fill=\"#bdbdbd\" opacity=\".6\"/><path d=\"m670.03 157.19h17.726v-45.451h-17.726z\" clip-path=\"url(#p7fe8ee2928)\" fill=\"#bdbdbd\" opacity=\".6\"/><path d=\"m670.03 202.64h17.726v-45.451h-17.726z\" clip-path=\"url(#p7fe8ee2928)\" fill=\"#bdbdbd\" opacity=\".6\"/><path d=\"m851.84 66.286h17.726v-45.451h-17.726z\" clip-path=\"url(#p7fe8ee2928)\" fill=\"#bdbdbd\" opacity=\".6\"/><path d=\"m851.84 111.74h17.726v-45.451h-17.726z\" clip-path=\"url(#p7fe8ee2928)\" fill=\"#bdbdbd\" opacity=\".6\"/><path d=\"m851.84 157.19h17.726v-45.451h-17.726z\" clip-path=\"url(#p7fe8ee2928)\" fill=\"#bdbdbd\" opacity=\".6\"/><path d=\"m851.84 202.64h17.726v-45.451h-17.726z\" clip-path=\"url(#p7fe8ee2928)\" fill=\"#bdbdbd\" opacity=\".6\"/><path d=\"m178.94 89.012v-45.451\" clip-path=\"url(#p7fe8ee2928)\" fill=\"none\" stroke=\"#6fa4ff\" stroke-linecap=\"square\" stroke-width=\"2\"/><path d=\"m269.84 89.012v-45.451\" clip-path=\"url(#p7fe8ee2928)\" fill=\"none\" stroke=\"#6fa4ff\" stroke-linecap=\"square\" stroke-width=\"2\"/><path d=\"m360.74 179.91v-136.35\" clip-path=\"url(#p7fe8ee2928)\" fill=\"none\" stroke=\"#6fa4ff\" stroke-linecap=\"square\" stroke-width=\"2\"/><path d=\"m451.64 179.91v-136.35\" clip-path=\"url(#p7fe8ee2928)\" fill=\"none\" stroke=\"#6fa4ff\" stroke-linecap=\"square\" stroke-width=\"2\"/><path d=\"m542.54 134.46v-45.451\" clip-path=\"url(#p7fe8ee2928)\" fill=\"none\" stroke=\"#6fa4ff\" stroke-linecap=\"square\" stroke-width=\"2\"/><path d=\"m633.45 134.46v-45.451\" clip-path=\"url(#p7fe8ee2928)\" fill=\"none\" stroke=\"#6fa4ff\" stroke-linecap=\"square\" stroke-width=\"2\"/><path d=\"m724.35 179.91v-45.451\" clip-path=\"url(#p7fe8ee2928)\" fill=\"none\" stroke=\"#6fa4ff\" stroke-linecap=\"square\" stroke-width=\"2\"/><path d=\"m815.25 179.91v-45.451\" clip-path=\"url(#p7fe8ee2928)\" fill=\"none\" stroke=\"#6fa4ff\" stroke-linecap=\"square\" stroke-width=\"2\"/><path d=\"m73.263 58.332h29.543v-29.543h-29.543z\" clip-path=\"url(#p7fe8ee2928)\" fill=\"#fa74a6\" stroke=\"#fa74a6\" stroke-width=\"1.5\"/><path d=\"m73.263 103.78h29.543v-29.543h-29.543z\" clip-path=\"url(#p7fe8ee2928)\" fill=\"#fa74a6\" stroke=\"#fa74a6\" stroke-width=\"1.5\"/><path d=\"m73.263 149.23h29.543v-29.543h-29.543z\" clip-path=\"url(#p7fe8ee2928)\" fill=\"#fa74a6\" stroke=\"#fa74a6\" stroke-width=\"1.5\"/><path d=\"m73.263 194.69h29.543v-29.543h-29.543z\" clip-path=\"url(#p7fe8ee2928)\" fill=\"#fa74a6\" stroke=\"#fa74a6\" stroke-width=\"1.5\"/><path d=\"m118.71 58.332h29.543v-29.543h-29.543z\" clip-path=\"url(#p7fe8ee2928)\" fill=\"#bb8bff\" stroke=\"#bb8bff\" stroke-width=\"1.5\"/><path d=\"m118.71 103.78h29.543v-29.543h-29.543z\" clip-path=\"url(#p7fe8ee2928)\" fill=\"#bb8bff\" stroke=\"#bb8bff\" stroke-width=\"1.5\"/><path d=\"m118.71 149.23h29.543v-29.543h-29.543z\" clip-path=\"url(#p7fe8ee2928)\" fill=\"#bb8bff\" stroke=\"#bb8bff\" stroke-width=\"1.5\"/><path d=\"m118.71 194.69h29.543v-29.543h-29.543z\" clip-path=\"url(#p7fe8ee2928)\" fill=\"#bb8bff\" stroke=\"#bb8bff\" stroke-width=\"1.5\"/><path d=\"m178.94 47.992c1.1752 0 2.3025-0.46693 3.1335-1.2979 0.83102-0.83102 1.2979-1.9583 1.2979-3.1335s-0.46693-2.3025-1.2979-3.1335c-0.83102-0.83102-1.9583-1.2979-3.1335-1.2979s-2.3025 0.46693-3.1335 1.2979c-0.83102 0.83102-1.2979 1.9583-1.2979 3.1335s0.46693 2.3025 1.2979 3.1335c0.83102 0.83102 1.9583 1.2979 3.1335 1.2979z\" clip-path=\"url(#p7fe8ee2928)\" fill=\"#6fa4ff\" stroke=\"#6fa4ff\" stroke-width=\"1.5\"/><path d=\"m178.94 99.352c2.7422 0 5.3725-1.0895 7.3116-3.0285 1.939-1.939 3.0285-4.5693 3.0285-7.3116s-1.0895-5.3725-3.0285-7.3116c-1.939-1.939-4.5693-3.0285-7.3116-3.0285s-5.3725 1.0895-7.3116 3.0285c-1.939 1.939-3.0285 4.5693-3.0285 7.3116s1.0895 5.3725 3.0285 7.3116c1.939 1.939 4.5693 3.0285 7.3116 3.0285z\" clip-path=\"url(#p7fe8ee2928)\" fill=\"#6fa4ff\" stroke=\"#6fa4ff\" stroke-width=\"2\"/><path d=\"m209.62 103.78h29.543v-29.543h-29.543z\" clip-path=\"url(#p7fe8ee2928)\" fill=\"#bb8bff\" stroke=\"#bb8bff\" stroke-width=\"1.5\"/><path d=\"m269.84 47.992c1.1752 0 2.3025-0.46693 3.1335-1.2979 0.83102-0.83102 1.2979-1.9583 1.2979-3.1335s-0.46693-2.3025-1.2979-3.1335c-0.83102-0.83102-1.9583-1.2979-3.1335-1.2979s-2.3025 0.46693-3.1335 1.2979c-0.83102 0.83102-1.2979 1.9583-1.2979 3.1335s0.46693 2.3025 1.2979 3.1335c0.83102 0.83102 1.9583 1.2979 3.1335 1.2979z\" clip-path=\"url(#p7fe8ee2928)\" fill=\"#6fa4ff\" stroke=\"#6fa4ff\" stroke-width=\"1.5\"/><path d=\"m269.84 99.352c2.7422 0 5.3725-1.0895 7.3116-3.0285 1.939-1.939 3.0285-4.5693 3.0285-7.3116s-1.0895-5.3725-3.0285-7.3116c-1.939-1.939-4.5693-3.0285-7.3116-3.0285s-5.3725 1.0895-7.3116 3.0285c-1.939 1.939-3.0285 4.5693-3.0285 7.3116s1.0895 5.3725 3.0285 7.3116c1.939 1.939 4.5693 3.0285 7.3116 3.0285z\" clip-path=\"url(#p7fe8ee2928)\" fill=\"#6fa4ff\" stroke=\"#6fa4ff\" stroke-width=\"2\"/><path d=\"m360.74 47.992c1.1752 0 2.3025-0.46693 3.1335-1.2979 0.83102-0.83102 1.2979-1.9583 1.2979-3.1335s-0.46693-2.3025-1.2979-3.1335c-0.83102-0.83102-1.9583-1.2979-3.1335-1.2979s-2.3025 0.46693-3.1335 1.2979c-0.83102 0.83102-1.2979 1.9583-1.2979 3.1335s0.46693 2.3025 1.2979 3.1335c0.83102 0.83102 1.9583 1.2979 3.1335 1.2979z\" clip-path=\"url(#p7fe8ee2928)\" fill=\"#6fa4ff\" stroke=\"#6fa4ff\" stroke-width=\"1.5\"/><path d=\"m360.74 190.25c2.7422 0 5.3725-1.0895 7.3116-3.0285 1.939-1.939 3.0285-4.5693 3.0285-7.3116s-1.0895-5.3725-3.0285-7.3116c-1.939-1.939-4.5693-3.0285-7.3116-3.0285s-5.3725 1.0895-7.3116 3.0285c-1.939 1.939-3.0285 4.5693-3.0285 7.3116s1.0895 5.3725 3.0285 7.3116c1.939 1.939 4.5693 3.0285 7.3116 3.0285z\" clip-path=\"url(#p7fe8ee2928)\" fill=\"#6fa4ff\" stroke=\"#6fa4ff\" stroke-width=\"2\"/><path d=\"m391.42 194.69h29.543v-29.543h-29.543z\" clip-path=\"url(#p7fe8ee2928)\" fill=\"#bb8bff\" stroke=\"#bb8bff\" stroke-width=\"1.5\"/><path d=\"m451.64 47.992c1.1752 0 2.3025-0.46693 3.1335-1.2979 0.83102-0.83102 1.2979-1.9583 1.2979-3.1335s-0.46693-2.3025-1.2979-3.1335c-0.83102-0.83102-1.9583-1.2979-3.1335-1.2979s-2.3025 0.46693-3.1335 1.2979c-0.83102 0.83102-1.2979 1.9583-1.2979 3.1335s0.46693 2.3025 1.2979 3.1335c0.83102 0.83102 1.9583 1.2979 3.1335 1.2979z\" clip-path=\"url(#p7fe8ee2928)\" fill=\"#6fa4ff\" stroke=\"#6fa4ff\" stroke-width=\"1.5\"/><path d=\"m451.64 190.25c2.7422 0 5.3725-1.0895 7.3116-3.0285 1.939-1.939 3.0285-4.5693 3.0285-7.3116s-1.0895-5.3725-3.0285-7.3116c-1.939-1.939-4.5693-3.0285-7.3116-3.0285s-5.3725 1.0895-7.3116 3.0285c-1.939 1.939-3.0285 4.5693-3.0285 7.3116s1.0895 5.3725 3.0285 7.3116c1.939 1.939 4.5693 3.0285 7.3116 3.0285z\" clip-path=\"url(#p7fe8ee2928)\" fill=\"#6fa4ff\" stroke=\"#6fa4ff\" stroke-width=\"2\"/><path d=\"m542.54 93.443c1.1752 0 2.3025-0.46693 3.1335-1.2979 0.83102-0.83102 1.2979-1.9583 1.2979-3.1335s-0.46693-2.3025-1.2979-3.1335c-0.83102-0.83102-1.9583-1.2979-3.1335-1.2979s-2.3025 0.46693-3.1335 1.2979c-0.83102 0.83102-1.2979 1.9583-1.2979 3.1335s0.46693 2.3025 1.2979 3.1335c0.83102 0.83102 1.9583 1.2979 3.1335 1.2979z\" clip-path=\"url(#p7fe8ee2928)\" fill=\"#6fa4ff\" stroke=\"#6fa4ff\" stroke-width=\"1.5\"/><path d=\"m542.54 144.8c2.7422 0 5.3725-1.0895 7.3116-3.0285 1.939-1.939 3.0285-4.5693 3.0285-7.3116s-1.0895-5.3725-3.0285-7.3116c-1.939-1.939-4.5693-3.0285-7.3116-3.0285s-5.3725 1.0895-7.3116 3.0285c-1.939 1.939-3.0285 4.5693-3.0285 7.3116s1.0895 5.3725 3.0285 7.3116c1.939 1.939 4.5693 3.0285 7.3116 3.0285z\" clip-path=\"url(#p7fe8ee2928)\" fill=\"#6fa4ff\" stroke=\"#6fa4ff\" stroke-width=\"2\"/><path d=\"m573.22 149.23h29.543v-29.543h-29.543z\" clip-path=\"url(#p7fe8ee2928)\" fill=\"#bb8bff\" stroke=\"#bb8bff\" stroke-width=\"1.5\"/><path d=\"m633.45 93.443c1.1752 0 2.3025-0.46693 3.1335-1.2979 0.83102-0.83102 1.2979-1.9583 1.2979-3.1335s-0.46693-2.3025-1.2979-3.1335c-0.83102-0.83102-1.9583-1.2979-3.1335-1.2979s-2.3025 0.46693-3.1335 1.2979c-0.83102 0.83102-1.2979 1.9583-1.2979 3.1335s0.46693 2.3025 1.2979 3.1335c0.83102 0.83102 1.9583 1.2979 3.1335 1.2979z\" clip-path=\"url(#p7fe8ee2928)\" fill=\"#6fa4ff\" stroke=\"#6fa4ff\" stroke-width=\"1.5\"/><path d=\"m633.45 144.8c2.7422 0 5.3725-1.0895 7.3116-3.0285 1.939-1.939 3.0285-4.5693 3.0285-7.3116s-1.0895-5.3725-3.0285-7.3116c-1.939-1.939-4.5693-3.0285-7.3116-3.0285s-5.3725 1.0895-7.3116 3.0285c-1.939 1.939-3.0285 4.5693-3.0285 7.3116s1.0895 5.3725 3.0285 7.3116c1.939 1.939 4.5693 3.0285 7.3116 3.0285z\" clip-path=\"url(#p7fe8ee2928)\" fill=\"#6fa4ff\" stroke=\"#6fa4ff\" stroke-width=\"2\"/><path d=\"m724.35 138.89c1.1752 0 2.3025-0.46693 3.1335-1.2979 0.83102-0.83102 1.2979-1.9583 1.2979-3.1335s-0.46693-2.3025-1.2979-3.1335c-0.83102-0.83102-1.9583-1.2979-3.1335-1.2979s-2.3025 0.46693-3.1335 1.2979c-0.83102 0.83102-1.2979 1.9583-1.2979 3.1335s0.46693 2.3025 1.2979 3.1335c0.83102 0.83102 1.9583 1.2979 3.1335 1.2979z\" clip-path=\"url(#p7fe8ee2928)\" fill=\"#6fa4ff\" stroke=\"#6fa4ff\" stroke-width=\"1.5\"/><path d=\"m724.35 190.25c2.7422 0 5.3725-1.0895 7.3116-3.0285 1.939-1.939 3.0285-4.5693 3.0285-7.3116s-1.0895-5.3725-3.0285-7.3116c-1.939-1.939-4.5693-3.0285-7.3116-3.0285s-5.3725 1.0895-7.3116 3.0285c-1.939 1.939-3.0285 4.5693-3.0285 7.3116s1.0895 5.3725 3.0285 7.3116c1.939 1.939 4.5693 3.0285 7.3116 3.0285z\" clip-path=\"url(#p7fe8ee2928)\" fill=\"#6fa4ff\" stroke=\"#6fa4ff\" stroke-width=\"2\"/><path d=\"m755.03 194.69h29.543v-29.543h-29.543z\" clip-path=\"url(#p7fe8ee2928)\" fill=\"#bb8bff\" stroke=\"#bb8bff\" stroke-width=\"1.5\"/><path d=\"m815.25 138.89c1.1752 0 2.3025-0.46693 3.1335-1.2979 0.83102-0.83102 1.2979-1.9583 1.2979-3.1335s-0.46693-2.3025-1.2979-3.1335c-0.83102-0.83102-1.9583-1.2979-3.1335-1.2979s-2.3025 0.46693-3.1335 1.2979c-0.83102 0.83102-1.2979 1.9583-1.2979 3.1335s0.46693 2.3025 1.2979 3.1335c0.83102 0.83102 1.9583 1.2979 3.1335 1.2979z\" clip-path=\"url(#p7fe8ee2928)\" fill=\"#6fa4ff\" stroke=\"#6fa4ff\" stroke-width=\"1.5\"/><path d=\"m815.25 190.25c2.7422 0 5.3725-1.0895 7.3116-3.0285 1.939-1.939 3.0285-4.5693 3.0285-7.3116s-1.0895-5.3725-3.0285-7.3116c-1.939-1.939-4.5693-3.0285-7.3116-3.0285s-5.3725 1.0895-7.3116 3.0285c-1.939 1.939-3.0285 4.5693-3.0285 7.3116s1.0895 5.3725 3.0285 7.3116c1.939 1.939 4.5693 3.0285 7.3116 3.0285z\" clip-path=\"url(#p7fe8ee2928)\" fill=\"#6fa4ff\" stroke=\"#6fa4ff\" stroke-width=\"2\"/><path d=\"m178.94 94.92v-11.817\" clip-path=\"url(#p7fe8ee2928)\" fill=\"none\" stroke=\"#ffffff\" stroke-linecap=\"square\" stroke-width=\"2\"/><path d=\"m173.03 89.012h11.817\" clip-path=\"url(#p7fe8ee2928)\" fill=\"none\" stroke=\"#ffffff\" stroke-linecap=\"square\" stroke-width=\"2\"/><path d=\"m269.84 94.92v-11.817\" clip-path=\"url(#p7fe8ee2928)\" fill=\"none\" stroke=\"#ffffff\" stroke-linecap=\"square\" stroke-width=\"2\"/><path d=\"m263.93 89.012h11.817\" clip-path=\"url(#p7fe8ee2928)\" fill=\"none\" stroke=\"#ffffff\" stroke-linecap=\"square\" stroke-width=\"2\"/><path d=\"m315.29 20.835v45.451\" clip-path=\"url(#p7fe8ee2928)\" fill=\"none\" stroke=\"#000000\" stroke-dasharray=\"3.7,1.6\"/><path d=\"m315.29 66.286v45.451\" clip-path=\"url(#p7fe8ee2928)\" fill=\"none\" stroke=\"#000000\" stroke-dasharray=\"3.7,1.6\"/><path d=\"m315.29 111.74v45.451\" clip-path=\"url(#p7fe8ee2928)\" fill=\"none\" stroke=\"#000000\" stroke-dasharray=\"3.7,1.6\"/><path d=\"m315.29 157.19v45.451\" clip-path=\"url(#p7fe8ee2928)\" fill=\"none\" stroke=\"#000000\" stroke-dasharray=\"3.7,1.6\"/><path d=\"m360.74 185.82v-11.817\" clip-path=\"url(#p7fe8ee2928)\" fill=\"none\" stroke=\"#ffffff\" stroke-linecap=\"square\" stroke-width=\"2\"/><path d=\"m354.83 179.91h11.817\" clip-path=\"url(#p7fe8ee2928)\" fill=\"none\" stroke=\"#ffffff\" stroke-linecap=\"square\" stroke-width=\"2\"/><path d=\"m451.64 185.82v-11.817\" clip-path=\"url(#p7fe8ee2928)\" fill=\"none\" stroke=\"#ffffff\" stroke-linecap=\"square\" stroke-width=\"2\"/><path d=\"m445.73 179.91h11.817\" clip-path=\"url(#p7fe8ee2928)\" fill=\"none\" stroke=\"#ffffff\" stroke-linecap=\"square\" stroke-width=\"2\"/><path d=\"m497.09 20.835v45.451\" clip-path=\"url(#p7fe8ee2928)\" fill=\"none\" stroke=\"#000000\" stroke-dasharray=\"3.7,1.6\"/><path d=\"m497.09 66.286v45.451\" clip-path=\"url(#p7fe8ee2928)\" fill=\"none\" stroke=\"#000000\" stroke-dasharray=\"3.7,1.6\"/><path d=\"m497.09 111.74v45.451\" clip-path=\"url(#p7fe8ee2928)\" fill=\"none\" stroke=\"#000000\" stroke-dasharray=\"3.7,1.6\"/><path d=\"m497.09 157.19v45.451\" clip-path=\"url(#p7fe8ee2928)\" fill=\"none\" stroke=\"#000000\" stroke-dasharray=\"3.7,1.6\"/><path d=\"m542.54 140.37v-11.817\" clip-path=\"url(#p7fe8ee2928)\" fill=\"none\" stroke=\"#ffffff\" stroke-linecap=\"square\" stroke-width=\"2\"/><path d=\"m536.64 134.46h11.817\" clip-path=\"url(#p7fe8ee2928)\" fill=\"none\" stroke=\"#ffffff\" stroke-linecap=\"square\" stroke-width=\"2\"/><path d=\"m633.45 140.37v-11.817\" clip-path=\"url(#p7fe8ee2928)\" fill=\"none\" stroke=\"#ffffff\" stroke-linecap=\"square\" stroke-width=\"2\"/><path d=\"m627.54 134.46h11.817\" clip-path=\"url(#p7fe8ee2928)\" fill=\"none\" stroke=\"#ffffff\" stroke-linecap=\"square\" stroke-width=\"2\"/><path d=\"m678.9 20.835v45.451\" clip-path=\"url(#p7fe8ee2928)\" fill=\"none\" stroke=\"#000000\" stroke-dasharray=\"3.7,1.6\"/><path d=\"m678.9 66.286v45.451\" clip-path=\"url(#p7fe8ee2928)\" fill=\"none\" stroke=\"#000000\" stroke-dasharray=\"3.7,1.6\"/><path d=\"m678.9 111.74v45.451\" clip-path=\"url(#p7fe8ee2928)\" fill=\"none\" stroke=\"#000000\" stroke-dasharray=\"3.7,1.6\"/><path d=\"m678.9 157.19v45.451\" clip-path=\"url(#p7fe8ee2928)\" fill=\"none\" stroke=\"#000000\" stroke-dasharray=\"3.7,1.6\"/><path d=\"m724.35 185.82v-11.817\" clip-path=\"url(#p7fe8ee2928)\" fill=\"none\" stroke=\"#ffffff\" stroke-linecap=\"square\" stroke-width=\"2\"/><path d=\"m718.44 179.91h11.817\" clip-path=\"url(#p7fe8ee2928)\" fill=\"none\" stroke=\"#ffffff\" stroke-linecap=\"square\" stroke-width=\"2\"/><path d=\"m815.25 185.82v-11.817\" clip-path=\"url(#p7fe8ee2928)\" fill=\"none\" stroke=\"#ffffff\" stroke-linecap=\"square\" stroke-width=\"2\"/><path d=\"m809.34 179.91h11.817\" clip-path=\"url(#p7fe8ee2928)\" fill=\"none\" stroke=\"#ffffff\" stroke-linecap=\"square\" stroke-width=\"2\"/><path d=\"m860.7 20.835v45.451\" clip-path=\"url(#p7fe8ee2928)\" fill=\"none\" stroke=\"#000000\" stroke-dasharray=\"3.7,1.6\"/><path d=\"m860.7 66.286v45.451\" clip-path=\"url(#p7fe8ee2928)\" fill=\"none\" stroke=\"#000000\" stroke-dasharray=\"3.7,1.6\"/><path d=\"m860.7 111.74v45.451\" clip-path=\"url(#p7fe8ee2928)\" fill=\"none\" stroke=\"#000000\" stroke-dasharray=\"3.7,1.6\"/><path d=\"m860.7 157.19v45.451\" clip-path=\"url(#p7fe8ee2928)\" fill=\"none\" stroke=\"#000000\" stroke-dasharray=\"3.7,1.6\"/><g clip-path=\"url(#p7fe8ee2928)\"><defs><path id=\"DejaVuSans-85\" d=\"m8.6875 72.906h9.9219v-44.297q0-11.719 4.2344-16.875 4.25-5.1406 13.781-5.1406 9.4688 0 13.719 5.1406 4.25 5.1562 4.25 16.875v44.297h9.9062v-45.516q0-14.25-7.0625-21.531-7.0469-7.2812-20.812-7.2812-13.828 0-20.891 7.2812-7.0469 7.2812-7.0469 21.531z\"/><path id=\"DejaVuSans-50\" d=\"m19.188 8.2969h34.422v-8.2969h-46.281v8.2969q5.6094 5.8125 15.297 15.594 9.7031 9.7969 12.188 12.641 4.7344 5.3125 6.6094 9 1.8906 3.6875 1.8906 7.25 0 5.8125-4.0781 9.4688-4.0781 3.6719-10.625 3.6719-4.6406 0-9.7969-1.6094-5.1406-1.6094-11-4.8906v9.9688q5.9531 2.3906 11.125 3.6094 5.1875 1.2188 9.4844 1.2188 11.328 0 18.062-5.6719 6.7344-5.6562 6.7344-15.125 0-4.5-1.6875-8.5312-1.6719-4.0156-6.125-9.4844-1.2188-1.4219-7.7656-8.1875-6.5312-6.7656-18.453-18.922z\"/></defs><g transform=\"translate(80.104 42.717) scale(.13 -.13)\"><use transform=\"translate(0 .09375)\" xlink:href=\"#DejaVuSans-85\"/><use transform=\"translate(74.15 -16.312) scale(.7)\" xlink:href=\"#DejaVuSans-50\"/></g></g><g clip-path=\"url(#p7fe8ee2928)\"><defs><path id=\"DejaVuSans-48\" d=\"m31.781 66.406q-7.6094 0-11.453-7.5-3.8281-7.4844-3.8281-22.531 0-14.984 3.8281-22.484 3.8438-7.5 11.453-7.5 7.6719 0 11.5 7.5 3.8438 7.5 3.8438 22.484 0 15.047-3.8438 22.531-3.8281 7.5-11.5 7.5zm0 7.8125q12.266 0 18.734-9.7031 6.4688-9.6875 6.4688-28.141 0-18.406-6.4688-28.109-6.4688-9.6875-18.734-9.6875-12.25 0-18.719 9.6875-6.4688 9.7031-6.4688 28.109 0 18.453 6.4688 28.141 6.4688 9.7031 18.719 9.7031z\"/><path id=\"DejaVuSans-44\" d=\"m11.719 12.406h10.297v-8.4062l-8-15.625h-6.2969l4 15.625z\"/><path id=\"DejaVuSans-Oblique-960\" d=\"m9.125 54.688h52.406l-1.7656-8.9844h-6.8906l-6.5312-33.594q-0.6875-3.5156 0.23438-5.0781 0.89062-1.5156 3.5625-1.5156 0.73438 0 1.8125 0.15625 1.125 0.09375 1.4688 0.14062l-1.2656-6.5q-1.8125-0.625-3.6719-0.92188-1.9062-0.29688-3.7031-0.29688-5.8594 0-7.4688 3.1719-1.625 3.2344 0.046875 11.828l6.3438 32.609h-20.172l-8.875-45.703h-9.1875l8.8906 45.703h-6.9844z\"/></defs><g transform=\"translate(80.514 54.631) scale(.08 -.08)\"><use transform=\"translate(0 .78125)\" xlink:href=\"#DejaVuSans-48\"/><use transform=\"translate(63.623 .78125)\" xlink:href=\"#DejaVuSans-44\"/><use transform=\"translate(95.41 .78125)\" xlink:href=\"#DejaVuSans-32\"/><use transform=\"translate(127.2 .78125)\" xlink:href=\"#DejaVuSans-Oblique-960\"/></g></g><g clip-path=\"url(#p7fe8ee2928)\"><g transform=\"translate(80.104 88.168) scale(.13 -.13)\"><use transform=\"translate(0 .09375)\" xlink:href=\"#DejaVuSans-85\"/><use transform=\"translate(74.15 -16.312) scale(.7)\" xlink:href=\"#DejaVuSans-50\"/></g></g><g clip-path=\"url(#p7fe8ee2928)\"><g transform=\"translate(80.514 100.08) scale(.08 -.08)\"><use transform=\"translate(0 .78125)\" xlink:href=\"#DejaVuSans-48\"/><use transform=\"translate(63.623 .78125)\" xlink:href=\"#DejaVuSans-44\"/><use transform=\"translate(95.41 .78125)\" xlink:href=\"#DejaVuSans-32\"/><use transform=\"translate(127.2 .78125)\" xlink:href=\"#DejaVuSans-Oblique-960\"/></g></g><g clip-path=\"url(#p7fe8ee2928)\"><g transform=\"translate(80.104 133.62) scale(.13 -.13)\"><use transform=\"translate(0 .09375)\" xlink:href=\"#DejaVuSans-85\"/><use transform=\"translate(74.15 -16.312) scale(.7)\" xlink:href=\"#DejaVuSans-50\"/></g></g><g clip-path=\"url(#p7fe8ee2928)\"><g transform=\"translate(80.514 145.53) scale(.08 -.08)\"><use transform=\"translate(0 .78125)\" xlink:href=\"#DejaVuSans-48\"/><use transform=\"translate(63.623 .78125)\" xlink:href=\"#DejaVuSans-44\"/><use transform=\"translate(95.41 .78125)\" xlink:href=\"#DejaVuSans-32\"/><use transform=\"translate(127.2 .78125)\" xlink:href=\"#DejaVuSans-Oblique-960\"/></g></g><g clip-path=\"url(#p7fe8ee2928)\"><g transform=\"translate(80.104 179.07) scale(.13 -.13)\"><use transform=\"translate(0 .09375)\" xlink:href=\"#DejaVuSans-85\"/><use transform=\"translate(74.15 -16.312) scale(.7)\" xlink:href=\"#DejaVuSans-50\"/></g></g><g clip-path=\"url(#p7fe8ee2928)\"><g transform=\"translate(80.514 190.98) scale(.08 -.08)\"><use transform=\"translate(0 .78125)\" xlink:href=\"#DejaVuSans-48\"/><use transform=\"translate(63.623 .78125)\" xlink:href=\"#DejaVuSans-44\"/><use transform=\"translate(95.41 .78125)\" xlink:href=\"#DejaVuSans-32\"/><use transform=\"translate(127.2 .78125)\" xlink:href=\"#DejaVuSans-Oblique-960\"/></g></g><g clip-path=\"url(#p7fe8ee2928)\"><defs><path id=\"DejaVuSans-82\" d=\"m44.391 34.188q3.1719-1.0781 6.1719-4.5938t6.0312-9.6719l10.016-19.922h-10.609l-9.3125 18.703q-3.625 7.3281-7.0156 9.7188t-9.25 2.3906h-10.75v-30.812h-9.8594v72.906h22.266q12.5 0 18.656-5.2344 6.1562-5.2188 6.1562-15.766 0-6.8906-3.2031-11.438-3.2031-4.5312-9.2969-6.2812zm-24.719 30.609v-25.875h12.406q7.125 0 10.766 3.2969t3.6406 9.6875-3.6406 9.6406-10.766 3.25z\"/></defs><g transform=\"translate(128.97 42.717) scale(.13 -.13)\"><use xlink:href=\"#DejaVuSans-82\"/></g></g><g clip-path=\"url(#p7fe8ee2928)\"><defs><path id=\"DejaVuSans-42\" d=\"m47.016 60.891-17.516-9.4688 17.516-9.5312-2.8281-4.7812-16.406 9.9062v-18.406h-5.5625v18.406l-16.406-9.9062-2.8281 4.7812 17.531 9.5312-17.531 9.4688 2.8281 4.8281 16.406-9.9062v18.406h5.5625v-18.406l16.406 9.9062z\"/><path id=\"DejaVuSans-Oblique-946\" d=\"m13.625 3.375-4.6875-24.172h-9.0312l14.594 75.141q4.3438 22.266 25.156 22.266 21.094 0 17.516-18.797-2.4375-13.375-11.953-18.266 12.797-4.3906 10.297-17.422-4.3906-23.203-28.031-23.156-10.344 0.046875-13.859 4.4062zm2.2969 11.719q3.75-8.5 13.375-8.4531 14.062 0 17.047 15.328 2.6875 13.781-20.172 12.703l1.6094 8.2969q17.672-0.29688 20.75 15.625 2.1094 10.75-9.3281 10.688-12.781 0-15.719-15.234z\"/></defs><g transform=\"translate(121.29 54.664) scale(.08 -.08)\"><use transform=\"translate(0 .39062)\" xlink:href=\"#DejaVuSans-50\"/><use transform=\"translate(63.623 .39062)\" xlink:href=\"#DejaVuSans-42\"/><use transform=\"translate(113.62 .39062)\" xlink:href=\"#DejaVuSans-Oblique-946\"/><use transform=\"translate(177.44 .39062)\" xlink:href=\"#DejaVuSans-44\"/><use transform=\"translate(209.23 .39062)\" xlink:href=\"#DejaVuSans-32\"/><use transform=\"translate(241.02 .39062)\" xlink:href=\"#DejaVuSans-48\"/></g></g><g clip-path=\"url(#p7fe8ee2928)\"><g transform=\"translate(128.97 88.168) scale(.13 -.13)\"><use xlink:href=\"#DejaVuSans-82\"/></g></g><g clip-path=\"url(#p7fe8ee2928)\"><g transform=\"translate(121.29 100.11) scale(.08 -.08)\"><use transform=\"translate(0 .39062)\" xlink:href=\"#DejaVuSans-50\"/><use transform=\"translate(63.623 .39062)\" xlink:href=\"#DejaVuSans-42\"/><use transform=\"translate(113.62 .39062)\" xlink:href=\"#DejaVuSans-Oblique-946\"/><use transform=\"translate(177.44 .39062)\" xlink:href=\"#DejaVuSans-44\"/><use transform=\"translate(209.23 .39062)\" xlink:href=\"#DejaVuSans-32\"/><use transform=\"translate(241.02 .39062)\" xlink:href=\"#DejaVuSans-48\"/></g></g><g clip-path=\"url(#p7fe8ee2928)\"><g transform=\"translate(128.97 133.62) scale(.13 -.13)\"><use xlink:href=\"#DejaVuSans-82\"/></g></g><g clip-path=\"url(#p7fe8ee2928)\"><g transform=\"translate(121.29 145.57) scale(.08 -.08)\"><use transform=\"translate(0 .39062)\" xlink:href=\"#DejaVuSans-50\"/><use transform=\"translate(63.623 .39062)\" xlink:href=\"#DejaVuSans-42\"/><use transform=\"translate(113.62 .39062)\" xlink:href=\"#DejaVuSans-Oblique-946\"/><use transform=\"translate(177.44 .39062)\" xlink:href=\"#DejaVuSans-44\"/><use transform=\"translate(209.23 .39062)\" xlink:href=\"#DejaVuSans-32\"/><use transform=\"translate(241.02 .39062)\" xlink:href=\"#DejaVuSans-48\"/></g></g><g clip-path=\"url(#p7fe8ee2928)\"><g transform=\"translate(128.97 179.07) scale(.13 -.13)\"><use xlink:href=\"#DejaVuSans-82\"/></g></g><g clip-path=\"url(#p7fe8ee2928)\"><g transform=\"translate(121.29 191.02) scale(.08 -.08)\"><use transform=\"translate(0 .39062)\" xlink:href=\"#DejaVuSans-50\"/><use transform=\"translate(63.623 .39062)\" xlink:href=\"#DejaVuSans-42\"/><use transform=\"translate(113.62 .39062)\" xlink:href=\"#DejaVuSans-Oblique-946\"/><use transform=\"translate(177.44 .39062)\" xlink:href=\"#DejaVuSans-44\"/><use transform=\"translate(209.23 .39062)\" xlink:href=\"#DejaVuSans-32\"/><use transform=\"translate(241.02 .39062)\" xlink:href=\"#DejaVuSans-48\"/></g></g><g clip-path=\"url(#p7fe8ee2928)\"><defs><path id=\"DejaVuSans-90\" d=\"m5.6094 72.906h57.281v-7.5312l-46.094-57.078h47.219v-8.2969h-59.516v7.5156l46.094 57.078h-44.984z\"/></defs><g transform=\"translate(216.46 88.168) scale(.13 -.13)\"><use transform=\"translate(0 .09375)\" xlink:href=\"#DejaVuSans-82\"/><use transform=\"translate(70.439 -16.312) scale(.7)\" xlink:href=\"#DejaVuSans-90\"/></g></g><g clip-path=\"url(#p7fe8ee2928)\"><defs><path id=\"DejaVuSans-Oblique-947\" d=\"m23.297 46.094 5.4219-33.781 25.281 42.375h9.5312l-32.719-54.688-4.0469-20.797h-8.9844l4.0469 20.797-6.3906 40.828q-0.98438 6.1406-5.625 6.1406h-2.3906l1.4688 7.7188h3.4219q9.6094 0 10.984-8.5938z\"/></defs><g transform=\"translate(217.47 100.07) scale(.08 -.08)\"><use transform=\"translate(0 .78125)\" xlink:href=\"#DejaVuSans-50\"/><use transform=\"translate(63.623 .78125)\" xlink:href=\"#DejaVuSans-42\"/><use transform=\"translate(113.62 .78125)\" xlink:href=\"#DejaVuSans-Oblique-947\"/></g></g><g clip-path=\"url(#p7fe8ee2928)\"><g transform=\"translate(398.26 179.07) scale(.13 -.13)\"><use transform=\"translate(0 .09375)\" xlink:href=\"#DejaVuSans-82\"/><use transform=\"translate(70.439 -16.312) scale(.7)\" xlink:href=\"#DejaVuSans-90\"/></g></g><g clip-path=\"url(#p7fe8ee2928)\"><g transform=\"translate(399.27 190.97) scale(.08 -.08)\"><use transform=\"translate(0 .78125)\" xlink:href=\"#DejaVuSans-50\"/><use transform=\"translate(63.623 .78125)\" xlink:href=\"#DejaVuSans-42\"/><use transform=\"translate(113.62 .78125)\" xlink:href=\"#DejaVuSans-Oblique-947\"/></g></g><g clip-path=\"url(#p7fe8ee2928)\"><g transform=\"translate(580.07 133.62) scale(.13 -.13)\"><use transform=\"translate(0 .09375)\" xlink:href=\"#DejaVuSans-82\"/><use transform=\"translate(70.439 -16.312) scale(.7)\" xlink:href=\"#DejaVuSans-90\"/></g></g><g clip-path=\"url(#p7fe8ee2928)\"><g transform=\"translate(581.08 145.52) scale(.08 -.08)\"><use transform=\"translate(0 .78125)\" xlink:href=\"#DejaVuSans-50\"/><use transform=\"translate(63.623 .78125)\" xlink:href=\"#DejaVuSans-42\"/><use transform=\"translate(113.62 .78125)\" xlink:href=\"#DejaVuSans-Oblique-947\"/></g></g><g clip-path=\"url(#p7fe8ee2928)\"><g transform=\"translate(761.87 179.07) scale(.13 -.13)\"><use transform=\"translate(0 .09375)\" xlink:href=\"#DejaVuSans-82\"/><use transform=\"translate(70.439 -16.312) scale(.7)\" xlink:href=\"#DejaVuSans-90\"/></g></g><g clip-path=\"url(#p7fe8ee2928)\"><g transform=\"translate(762.88 190.97) scale(.08 -.08)\"><use transform=\"translate(0 .78125)\" xlink:href=\"#DejaVuSans-50\"/><use transform=\"translate(63.623 .78125)\" xlink:href=\"#DejaVuSans-42\"/><use transform=\"translate(113.62 .78125)\" xlink:href=\"#DejaVuSans-Oblique-947\"/></g></g><g clip-path=\"url(#p7fe8ee2928)\"><defs><path id=\"DejaVuSans-Oblique-113\" d=\"m41.703 8.2031q-3.6094-4.7344-8.5312-7.1875-4.9062-2.4375-10.859-2.4375-8.2969 0-13.016 5.5938-4.7031 5.5938-4.7031 15.406 0 7.9062 2.9062 15.281t8.3281 13.234q3.5156 3.8125 8.0781 5.8594t9.5938 2.0469q6.0469 0 9.9531-2.3906t5.6719-7.2188l1.5625 8.2031h9.0312l-14.594-75.203h-9.0469zm-27.781 12.703q0-7.2344 3.0156-11.016 3.0312-3.7812 8.75-3.7812 8.5 0 14.5 8.125t6 19.75q0 7.0312-3.1094 10.766-3.0938 3.7344-8.8906 3.7344-4.25 0-7.875-1.9844-3.6094-1.9688-6.2969-5.7812-2.8281-4-4.4688-9.375-1.625-5.3594-1.625-10.438z\"/></defs><g transform=\"translate(36.363 48.012) scale(.1625 -.1625)\"><use xlink:href=\"#DejaVuSans-Oblique-113\"/><use transform=\"translate(63.477 -16.406) scale(.7)\" xlink:href=\"#DejaVuSans-48\"/></g></g><g clip-path=\"url(#p7fe8ee2928)\"><defs><path id=\"DejaVuSans-49\" d=\"m12.406 8.2969h16.109v55.625l-17.531-3.5156v8.9844l17.438 3.5156h9.8594v-64.609h16.109v-8.2969h-41.984z\"/></defs><g transform=\"translate(36.363 93.463) scale(.1625 -.1625)\"><use xlink:href=\"#DejaVuSans-Oblique-113\"/><use transform=\"translate(63.477 -16.406) scale(.7)\" xlink:href=\"#DejaVuSans-49\"/></g></g><g clip-path=\"url(#p7fe8ee2928)\"><g transform=\"translate(36.363 138.91) scale(.1625 -.1625)\"><use xlink:href=\"#DejaVuSans-Oblique-113\"/><use transform=\"translate(63.477 -16.406) scale(.7)\" xlink:href=\"#DejaVuSans-50\"/></g></g><g clip-path=\"url(#p7fe8ee2928)\"><defs><path id=\"DejaVuSans-51\" d=\"m40.578 39.312q7.0781-1.5156 11.047-6.3125 3.9844-4.7812 3.9844-11.812 0-10.781-7.4219-16.703-7.4219-5.9062-21.094-5.9062-4.5781 0-9.4375 0.90625t-10.031 2.7188v9.5156q4.0938-2.3906 8.9688-3.6094 4.8906-1.2188 10.219-1.2188 9.2656 0 14.125 3.6562t4.8594 10.641q0 6.4531-4.5156 10.078-4.5156 3.6406-12.562 3.6406h-8.5v8.1094h8.8906q7.2656 0 11.125 2.9062t3.8594 8.375q0 5.6094-3.9844 8.6094-3.9688 3.0156-11.391 3.0156-4.0625 0-8.7031-0.89062-4.6406-0.875-10.203-2.7188v8.7812q5.625 1.5625 10.531 2.3438t9.25 0.78125q11.234 0 17.766-5.1094 6.5469-5.0938 6.5469-13.781 0-6.0625-3.4688-10.234t-9.8594-5.7812z\"/></defs><g transform=\"translate(36.363 184.36) scale(.1625 -.1625)\"><use xlink:href=\"#DejaVuSans-Oblique-113\"/><use transform=\"translate(63.477 -16.406) scale(.7)\" xlink:href=\"#DejaVuSans-51\"/></g></g><defs><clipPath id=\"p7fe8ee2928\"><rect x=\"7.2\" y=\"7.2\" width=\"883.5\" height=\"199.98\"/></clipPath></defs></svg>"
            ],
            "text/plain": [
              "<Figure size 1170.2x264.88 with 1 Axes>"
            ]
          },
          "execution_count": 6,
          "metadata": {
          },
          "output_type": "execute_result"
        }
      ],
      "source": [
        "qc_qaoa = QuantumCircuit(nqubits)\n",
        "\n",
        "qc_qaoa.append(qc_0, [i for i in range(0, nqubits)])\n",
        "qc_qaoa.append(qc_p, [i for i in range(0, nqubits)])\n",
        "qc_qaoa.append(qc_mix, [i for i in range(0, nqubits)])\n",
        "\n",
        "qc_qaoa.decompose().decompose().draw()"
      ]
    },
    {
      "cell_type": "markdown",
      "metadata": {
      },
      "source": [
        "পরবর্তী ধাপ হল সর্বোত্তম পরামিতি খুঁজে পাওয়া `{latex} (\\boldsymbol{\\beta_{\\text{opt}}}, \\boldsymbol{\\gamma_{\\text{opt}}})` যাতে প্রত্যাশার মান\n",
        "\n",
        "$$ \\langle \\psi(\\boldsymbol{\\beta}*{\\text{opt}}, \\boldsymbol{\\gamma}*{\\text{opt}}) \\rvert H_P \\lvert \\psi(\\boldsymbol{\\beta}*{\\text{opt}}, \\boldsymbol{\\gamma}*{\\text{opt}}) \\rangle $$\n",
        "\n",
        "ছোট করা হয়। Z-ভিত্তিতে পরিমাপ করে এমন প্রত্যাশা পাওয়া যেতে পারে। আমরা সর্বোত্তম পরামিতি খুঁজে পেতে একটি ক্লাসিক্যাল অপ্টিমাইজেশান অ্যালগরিদম ব্যবহার করি। পরিকল্পনায় দেখানো হিসাবে নিম্নলিখিত পদক্ষেপগুলি জড়িত\n",
        "\n",
        "<img src=\"images/QAOA_schematic.png\" width=\"400\" height=\"200\" class=\"center\">\n",
        "\n",
        "1. উপযুক্ত বাস্তব মানের জন্য $\\boldsymbol{\\beta}$ এবং $\\boldsymbol{\\gamma}$ শুরু করুন।\n",
        "2. কিছু উপযুক্ত কনভারজেন্স মানদণ্ড পূরণ না হওয়া পর্যন্ত পুনরাবৃত্তি করুন:\n",
        "    1. qaoa সার্কিট ব্যবহার করে $\\lvert \\psi(\\boldsymbol{\\beta}, \\boldsymbol{\\gamma}) \\rangle$ প্রস্তুত করুন\n",
        "    2. মান ভিত্তিতে রাষ্ট্র পরিমাপ\n",
        "    3. গণনা $ \\langle \\psi(\\boldsymbol{\\beta}, \\boldsymbol{\\gamma}) \\rvert H_P \\lvert \\psi(\\boldsymbol{\\beta}, \\boldsymbol{\\gamma}) \\rangle $\n",
        "    4. ক্লাসিক্যাল অপ্টিমাইজেশান অ্যালগরিদম ব্যবহার করে নতুন প্যারামিটারের সেট খুঁজুন `{latex} (\\boldsymbol{\\beta}_{new}, \\boldsymbol{\\gamma}_{new})`\n",
        "    5. বর্তমান প্যারামিটার $(\\boldsymbol{\\beta}, \\boldsymbol{\\gamma})$ সেট করুন নতুন প্যারামিটারের সমান `{latex} (\\boldsymbol{\\beta}_{new}, \\boldsymbol{\\gamma}_{new})`\n",
        "\n",
        "নীচের কোডটি উপরে উল্লিখিত পদক্ষেপগুলি বাস্তবায়ন করে।"
      ]
    },
    {
      "cell_type": "code",
      "execution_count": 7,
      "metadata": {
      },
      "outputs": [

      ],
      "source": [
        "def maxcut_obj(x, G):\n",
        "    \"\"\"\n",
        "    Given a bitstring as a solution, this function returns\n",
        "    the number of edges shared between the two partitions\n",
        "    of the graph.\n",
        "    \n",
        "    Args:\n",
        "        x: str\n",
        "           solution bitstring\n",
        "           \n",
        "        G: networkx graph\n",
        "        \n",
        "    Returns:\n",
        "        obj: float\n",
        "             Objective\n",
        "    \"\"\"\n",
        "    obj = 0\n",
        "    for i, j in G.edges():\n",
        "        if x[i] != x[j]:\n",
        "            obj -= 1\n",
        "            \n",
        "    return obj\n",
        "\n",
        "\n",
        "def compute_expectation(counts, G):\n",
        "    \n",
        "    \"\"\"\n",
        "    Computes expectation value based on measurement results\n",
        "    \n",
        "    Args:\n",
        "        counts: dict\n",
        "                key as bitstring, val as count\n",
        "           \n",
        "        G: networkx graph\n",
        "        \n",
        "    Returns:\n",
        "        avg: float\n",
        "             expectation value\n",
        "    \"\"\"\n",
        "    \n",
        "    avg = 0\n",
        "    sum_count = 0\n",
        "    for bitstring, count in counts.items():\n",
        "        \n",
        "        obj = maxcut_obj(bitstring, G)\n",
        "        avg += obj * count\n",
        "        sum_count += count\n",
        "        \n",
        "    return avg/sum_count\n",
        "\n",
        "\n",
        "# We will also bring the different circuit components that\n",
        "# build the qaoa circuit under a single function\n",
        "def create_qaoa_circ(G, theta):\n",
        "    \n",
        "    \"\"\"\n",
        "    Creates a parametrized qaoa circuit\n",
        "    \n",
        "    Args:  \n",
        "        G: networkx graph\n",
        "        theta: list\n",
        "               unitary parameters\n",
        "                     \n",
        "    Returns:\n",
        "        qc: qiskit circuit\n",
        "    \"\"\"\n",
        "    \n",
        "    nqubits = len(G.nodes())\n",
        "    p = len(theta)//2  # number of alternating unitaries\n",
        "    qc = QuantumCircuit(nqubits)\n",
        "    \n",
        "    beta = theta[:p]\n",
        "    gamma = theta[p:]\n",
        "    \n",
        "    # initial_state\n",
        "    for i in range(0, nqubits):\n",
        "        qc.h(i)\n",
        "    \n",
        "    for irep in range(0, p):\n",
        "        \n",
        "        # problem unitary\n",
        "        for pair in list(G.edges()):\n",
        "            qc.rzz(2 * gamma[irep], pair[0], pair[1])\n",
        "\n",
        "        # mixer unitary\n",
        "        for i in range(0, nqubits):\n",
        "            qc.rx(2 * beta[irep], i)\n",
        "            \n",
        "    qc.measure_all()\n",
        "        \n",
        "    return qc\n",
        "\n",
        "# Finally we write a function that executes the circuit on the chosen backend\n",
        "def get_expectation(G, p, shots=512):\n",
        "    \n",
        "    \"\"\"\n",
        "    Runs parametrized circuit\n",
        "    \n",
        "    Args:\n",
        "        G: networkx graph\n",
        "        p: int,\n",
        "           Number of repetitions of unitaries\n",
        "    \"\"\"\n",
        "    \n",
        "    backend = Aer.get_backend('qasm_simulator')\n",
        "    backend.shots = shots\n",
        "    \n",
        "    def execute_circ(theta):\n",
        "        \n",
        "        qc = create_qaoa_circ(G, theta)\n",
        "        counts = backend.run(qc, seed_simulator=10, \n",
        "                             nshots=512).result().get_counts()\n",
        "        \n",
        "        return compute_expectation(counts, G)\n",
        "    \n",
        "    return execute_circ"
      ]
    },
    {
      "cell_type": "code",
      "execution_count": 8,
      "metadata": {
      },
      "outputs": [
        {
          "data": {
            "text/plain": [
              "     fun: -2.994140625\n",
              "   maxcv: 0.0\n",
              " message: 'Optimization terminated successfully.'\n",
              "    nfev: 30\n",
              "  status: 1\n",
              " success: True\n",
              "       x: array([1.9793337 , 1.16663483])"
            ]
          },
          "execution_count": 8,
          "metadata": {
          },
          "output_type": "execute_result"
        }
      ],
      "source": [
        "from scipy.optimize import minimize\n",
        "\n",
        "\n",
        "expectation = get_expectation(G, p=1)\n",
        "\n",
        "res = minimize(expectation, \n",
        "                      [1.0, 1.0], \n",
        "                      method='COBYLA')\n",
        "res"
      ]
    },
    {
      "cell_type": "markdown",
      "metadata": {
      },
      "source": [
        "উল্লেখ্য যে ক্লাসিক্যাল অপ্টিমাইজারের বিভিন্ন পছন্দ কিস্কিট-এ উপস্থিত রয়েছে। আমরা এখানে আমাদের ক্লাসিক্যাল অপ্টিমাইজেশান অ্যালগরিদম হিসাবে [COBYLA](https://github.com/Qiskit/qiskit-terra/blob/main/qiskit/algorithms/optimizers/cobyla.py) বেছে নিয়েছি।"
      ]
    },
    {
      "cell_type": "markdown",
      "metadata": {
      },
      "source": [
        "### ফলাফল বিশ্লেষণ"
      ]
    },
    {
      "cell_type": "code",
      "execution_count": 9,
      "metadata": {
        "tags": [

        ]
      },
      "outputs": [
        {
          "data": {
            "image/svg+xml": [
              "<?xml version=\"1.0\" encoding=\"UTF-8\"?><!DOCTYPE svg  PUBLIC '-//W3C//DTD SVG 1.1//EN'  'http://www.w3.org/Graphics/SVG/1.1/DTD/svg11.dtd'><svg width=\"460.72pt\" height=\"331.32pt\" version=\"1.1\" viewBox=\"0 0 460.72 331.32\" xmlns=\"http://www.w3.org/2000/svg\" xmlns:xlink=\"http://www.w3.org/1999/xlink\"><defs><style type=\"text/css\">*{stroke-linecap:butt;stroke-linejoin:round;}</style></defs><path d=\"m0 331.32h460.72v-331.32h-460.72z\" fill=\"none\"/><path d=\"m62.921 279h390.6v-271.8h-390.6z\" fill=\"#ffffff\"/><defs><path id=\"m0f126e55d0\" d=\"m0 0v3.5\" stroke=\"#000000\" stroke-width=\".8\"/></defs><use x=\"86.403068\" y=\"279\" stroke=\"#000000\" stroke-width=\".8\" xlink:href=\"#m0f126e55d0\"/><defs><path id=\"DejaVuSans-48\" d=\"m31.781 66.406q-7.6094 0-11.453-7.5-3.8281-7.4844-3.8281-22.531 0-14.984 3.8281-22.484 3.8438-7.5 11.453-7.5 7.6719 0 11.5 7.5 3.8438 7.5 3.8438 22.484 0 15.047-3.8438 22.531-3.8281 7.5-11.5 7.5zm0 7.8125q12.266 0 18.734-9.7031 6.4688-9.6875 6.4688-28.141 0-18.406-6.4688-28.109-6.4688-9.6875-18.734-9.6875-12.25 0-18.719 9.6875-6.4688 9.7031-6.4688 28.109 0 18.453 6.4688 28.141 6.4688 9.7031 18.719 9.7031z\"/></defs><g transform=\"translate(83.94 323.12) rotate(-70) scale(.14 -.14)\"><use xlink:href=\"#DejaVuSans-48\"/><use x=\"63.623047\" xlink:href=\"#DejaVuSans-48\"/><use x=\"127.246094\" xlink:href=\"#DejaVuSans-48\"/><use x=\"190.869141\" xlink:href=\"#DejaVuSans-48\"/></g><use x=\"109.312159\" y=\"279\" stroke=\"#000000\" stroke-width=\".8\" xlink:href=\"#m0f126e55d0\"/><defs><path id=\"DejaVuSans-49\" d=\"m12.406 8.2969h16.109v55.625l-17.531-3.5156v8.9844l17.438 3.5156h9.8594v-64.609h16.109v-8.2969h-41.984z\"/></defs><g transform=\"translate(106.85 323.12) rotate(-70) scale(.14 -.14)\"><use xlink:href=\"#DejaVuSans-48\"/><use x=\"63.623047\" xlink:href=\"#DejaVuSans-48\"/><use x=\"127.246094\" xlink:href=\"#DejaVuSans-48\"/><use x=\"190.869141\" xlink:href=\"#DejaVuSans-49\"/></g><use x=\"132.22125\" y=\"279\" stroke=\"#000000\" stroke-width=\".8\" xlink:href=\"#m0f126e55d0\"/><g transform=\"translate(129.76 323.12) rotate(-70) scale(.14 -.14)\"><use xlink:href=\"#DejaVuSans-48\"/><use x=\"63.623047\" xlink:href=\"#DejaVuSans-48\"/><use x=\"127.246094\" xlink:href=\"#DejaVuSans-49\"/><use x=\"190.869141\" xlink:href=\"#DejaVuSans-48\"/></g><use x=\"155.130341\" y=\"279\" stroke=\"#000000\" stroke-width=\".8\" xlink:href=\"#m0f126e55d0\"/><g transform=\"translate(152.67 323.12) rotate(-70) scale(.14 -.14)\"><use xlink:href=\"#DejaVuSans-48\"/><use x=\"63.623047\" xlink:href=\"#DejaVuSans-48\"/><use x=\"127.246094\" xlink:href=\"#DejaVuSans-49\"/><use x=\"190.869141\" xlink:href=\"#DejaVuSans-49\"/></g><use x=\"178.039432\" y=\"279\" stroke=\"#000000\" stroke-width=\".8\" xlink:href=\"#m0f126e55d0\"/><g transform=\"translate(175.58 323.12) rotate(-70) scale(.14 -.14)\"><use xlink:href=\"#DejaVuSans-48\"/><use x=\"63.623047\" xlink:href=\"#DejaVuSans-49\"/><use x=\"127.246094\" xlink:href=\"#DejaVuSans-48\"/><use x=\"190.869141\" xlink:href=\"#DejaVuSans-48\"/></g><use x=\"200.948523\" y=\"279\" stroke=\"#000000\" stroke-width=\".8\" xlink:href=\"#m0f126e55d0\"/><g transform=\"translate(198.49 323.12) rotate(-70) scale(.14 -.14)\"><use xlink:href=\"#DejaVuSans-48\"/><use x=\"63.623047\" xlink:href=\"#DejaVuSans-49\"/><use x=\"127.246094\" xlink:href=\"#DejaVuSans-48\"/><use x=\"190.869141\" xlink:href=\"#DejaVuSans-49\"/></g><use x=\"223.857614\" y=\"279\" stroke=\"#000000\" stroke-width=\".8\" xlink:href=\"#m0f126e55d0\"/><g transform=\"translate(221.39 323.12) rotate(-70) scale(.14 -.14)\"><use xlink:href=\"#DejaVuSans-48\"/><use x=\"63.623047\" xlink:href=\"#DejaVuSans-49\"/><use x=\"127.246094\" xlink:href=\"#DejaVuSans-49\"/><use x=\"190.869141\" xlink:href=\"#DejaVuSans-48\"/></g><use x=\"246.766705\" y=\"279\" stroke=\"#000000\" stroke-width=\".8\" xlink:href=\"#m0f126e55d0\"/><g transform=\"translate(244.3 323.12) rotate(-70) scale(.14 -.14)\"><use xlink:href=\"#DejaVuSans-48\"/><use x=\"63.623047\" xlink:href=\"#DejaVuSans-49\"/><use x=\"127.246094\" xlink:href=\"#DejaVuSans-49\"/><use x=\"190.869141\" xlink:href=\"#DejaVuSans-49\"/></g><use x=\"269.675795\" y=\"279\" stroke=\"#000000\" stroke-width=\".8\" xlink:href=\"#m0f126e55d0\"/><g transform=\"translate(267.21 323.12) rotate(-70) scale(.14 -.14)\"><use xlink:href=\"#DejaVuSans-49\"/><use x=\"63.623047\" xlink:href=\"#DejaVuSans-48\"/><use x=\"127.246094\" xlink:href=\"#DejaVuSans-48\"/><use x=\"190.869141\" xlink:href=\"#DejaVuSans-48\"/></g><use x=\"292.584886\" y=\"279\" stroke=\"#000000\" stroke-width=\".8\" xlink:href=\"#m0f126e55d0\"/><g transform=\"translate(290.12 323.12) rotate(-70) scale(.14 -.14)\"><use xlink:href=\"#DejaVuSans-49\"/><use x=\"63.623047\" xlink:href=\"#DejaVuSans-48\"/><use x=\"127.246094\" xlink:href=\"#DejaVuSans-48\"/><use x=\"190.869141\" xlink:href=\"#DejaVuSans-49\"/></g><use x=\"315.493977\" y=\"279\" stroke=\"#000000\" stroke-width=\".8\" xlink:href=\"#m0f126e55d0\"/><g transform=\"translate(313.03 323.12) rotate(-70) scale(.14 -.14)\"><use xlink:href=\"#DejaVuSans-49\"/><use x=\"63.623047\" xlink:href=\"#DejaVuSans-48\"/><use x=\"127.246094\" xlink:href=\"#DejaVuSans-49\"/><use x=\"190.869141\" xlink:href=\"#DejaVuSans-48\"/></g><use x=\"338.403068\" y=\"279\" stroke=\"#000000\" stroke-width=\".8\" xlink:href=\"#m0f126e55d0\"/><g transform=\"translate(335.94 323.12) rotate(-70) scale(.14 -.14)\"><use xlink:href=\"#DejaVuSans-49\"/><use x=\"63.623047\" xlink:href=\"#DejaVuSans-48\"/><use x=\"127.246094\" xlink:href=\"#DejaVuSans-49\"/><use x=\"190.869141\" xlink:href=\"#DejaVuSans-49\"/></g><use x=\"361.312159\" y=\"279\" stroke=\"#000000\" stroke-width=\".8\" xlink:href=\"#m0f126e55d0\"/><g transform=\"translate(358.85 323.12) rotate(-70) scale(.14 -.14)\"><use xlink:href=\"#DejaVuSans-49\"/><use x=\"63.623047\" xlink:href=\"#DejaVuSans-49\"/><use x=\"127.246094\" xlink:href=\"#DejaVuSans-48\"/><use x=\"190.869141\" xlink:href=\"#DejaVuSans-48\"/></g><use x=\"384.22125\" y=\"279\" stroke=\"#000000\" stroke-width=\".8\" xlink:href=\"#m0f126e55d0\"/><g transform=\"translate(381.76 323.12) rotate(-70) scale(.14 -.14)\"><use xlink:href=\"#DejaVuSans-49\"/><use x=\"63.623047\" xlink:href=\"#DejaVuSans-49\"/><use x=\"127.246094\" xlink:href=\"#DejaVuSans-48\"/><use x=\"190.869141\" xlink:href=\"#DejaVuSans-49\"/></g><use x=\"407.130341\" y=\"279\" stroke=\"#000000\" stroke-width=\".8\" xlink:href=\"#m0f126e55d0\"/><g transform=\"translate(404.67 323.12) rotate(-70) scale(.14 -.14)\"><use xlink:href=\"#DejaVuSans-49\"/><use x=\"63.623047\" xlink:href=\"#DejaVuSans-49\"/><use x=\"127.246094\" xlink:href=\"#DejaVuSans-49\"/><use x=\"190.869141\" xlink:href=\"#DejaVuSans-48\"/></g><use x=\"430.039432\" y=\"279\" stroke=\"#000000\" stroke-width=\".8\" xlink:href=\"#m0f126e55d0\"/><g transform=\"translate(427.58 323.12) rotate(-70) scale(.14 -.14)\"><use xlink:href=\"#DejaVuSans-49\"/><use x=\"63.623047\" xlink:href=\"#DejaVuSans-49\"/><use x=\"127.246094\" xlink:href=\"#DejaVuSans-49\"/><use x=\"190.869141\" xlink:href=\"#DejaVuSans-49\"/></g><path d=\"m62.921 279h390.6\" clip-path=\"url(#p3131f3a382)\" fill=\"none\" stroke=\"#b0b0b0\" stroke-dasharray=\"2.96,1.28\" stroke-width=\".8\"/><defs><path id=\"mb59992f03d\" d=\"m0 0h-3.5\" stroke=\"#000000\" stroke-width=\".8\"/></defs><use x=\"62.92125\" y=\"279\" stroke=\"#000000\" stroke-width=\".8\" xlink:href=\"#mb59992f03d\"/><defs><path id=\"DejaVuSans-46\" d=\"m10.688 12.406h10.312v-12.406h-10.312z\"/></defs><g transform=\"translate(24.749 284.32) scale(.14 -.14)\"><use xlink:href=\"#DejaVuSans-48\"/><use x=\"63.623047\" xlink:href=\"#DejaVuSans-46\"/><use x=\"95.410156\" xlink:href=\"#DejaVuSans-48\"/><use x=\"159.033203\" xlink:href=\"#DejaVuSans-48\"/></g><path d=\"m62.921 212.97h390.6\" clip-path=\"url(#p3131f3a382)\" fill=\"none\" stroke=\"#b0b0b0\" stroke-dasharray=\"2.96,1.28\" stroke-width=\".8\"/><use x=\"62.92125\" y=\"212.968399\" stroke=\"#000000\" stroke-width=\".8\" xlink:href=\"#mb59992f03d\"/><defs><path id=\"DejaVuSans-56\" d=\"m31.781 34.625q-7.0312 0-11.062-3.7656-4.0156-3.7656-4.0156-10.344 0-6.5938 4.0156-10.359 4.0312-3.7656 11.062-3.7656t11.078 3.7812q4.0625 3.7969 4.0625 10.344 0 6.5781-4.0312 10.344-4.0156 3.7656-11.109 3.7656zm-9.8594 4.1875q-6.3438 1.5625-9.8906 5.9062-3.5312 4.3594-3.5312 10.609 0 8.7344 6.2188 13.812 6.2344 5.0781 17.062 5.0781 10.891 0 17.094-5.0781t6.2031-13.812q0-6.25-3.5469-10.609-3.5312-4.3438-9.8281-5.9062 7.125-1.6562 11.094-6.5 3.9844-4.8281 3.9844-11.797 0-10.609-6.4688-16.281-6.4688-5.6562-18.531-5.6562-12.047 0-18.531 5.6562-6.4688 5.6719-6.4688 16.281 0 6.9688 4 11.797 4.0156 4.8438 11.141 6.5zm-3.6094 15.578q0-5.6562 3.5312-8.8281 3.5469-3.1719 9.9375-3.1719 6.3594 0 9.9375 3.1719 3.5938 3.1719 3.5938 8.8281 0 5.6719-3.5938 8.8438-3.5781 3.1719-9.9375 3.1719-6.3906 0-9.9375-3.1719-3.5312-3.1719-3.5312-8.8438z\"/></defs><g transform=\"translate(24.749 218.29) scale(.14 -.14)\"><use xlink:href=\"#DejaVuSans-48\"/><use x=\"63.623047\" xlink:href=\"#DejaVuSans-46\"/><use x=\"95.410156\" xlink:href=\"#DejaVuSans-48\"/><use x=\"159.033203\" xlink:href=\"#DejaVuSans-56\"/></g><path d=\"m62.921 146.94h390.6\" clip-path=\"url(#p3131f3a382)\" fill=\"none\" stroke=\"#b0b0b0\" stroke-dasharray=\"2.96,1.28\" stroke-width=\".8\"/><use x=\"62.92125\" y=\"146.936797\" stroke=\"#000000\" stroke-width=\".8\" xlink:href=\"#mb59992f03d\"/><defs><path id=\"DejaVuSans-54\" d=\"m33.016 40.375q-6.6406 0-10.531-4.5469-3.875-4.5312-3.875-12.438 0-7.8594 3.875-12.438 3.8906-4.5625 10.531-4.5625t10.516 4.5625q3.875 4.5781 3.875 12.438 0 7.9062-3.875 12.438-3.875 4.5469-10.516 4.5469zm19.578 30.922v-8.9844q-3.7188 1.75-7.5 2.6719-3.7812 0.9375-7.5 0.9375-9.7656 0-14.922-6.5938-5.1406-6.5938-5.875-19.922 2.875 4.25 7.2188 6.5156 4.3594 2.2656 9.5781 2.2656 10.984 0 17.359-6.6719 6.375-6.6562 6.375-18.125 0-11.234-6.6406-18.031-6.6406-6.7812-17.672-6.7812-12.656 0-19.344 9.6875-6.6875 9.7031-6.6875 28.109 0 17.281 8.2031 27.562t22.016 10.281q3.7188 0 7.5-0.73438t7.8906-2.1875z\"/></defs><g transform=\"translate(24.749 152.26) scale(.14 -.14)\"><use xlink:href=\"#DejaVuSans-48\"/><use x=\"63.623047\" xlink:href=\"#DejaVuSans-46\"/><use x=\"95.410156\" xlink:href=\"#DejaVuSans-49\"/><use x=\"159.033203\" xlink:href=\"#DejaVuSans-54\"/></g><path d=\"m62.921 80.905h390.6\" clip-path=\"url(#p3131f3a382)\" fill=\"none\" stroke=\"#b0b0b0\" stroke-dasharray=\"2.96,1.28\" stroke-width=\".8\"/><use x=\"62.92125\" y=\"80.905196\" stroke=\"#000000\" stroke-width=\".8\" xlink:href=\"#mb59992f03d\"/><defs><path id=\"DejaVuSans-50\" d=\"m19.188 8.2969h34.422v-8.2969h-46.281v8.2969q5.6094 5.8125 15.297 15.594 9.7031 9.7969 12.188 12.641 4.7344 5.3125 6.6094 9 1.8906 3.6875 1.8906 7.25 0 5.8125-4.0781 9.4688-4.0781 3.6719-10.625 3.6719-4.6406 0-9.7969-1.6094-5.1406-1.6094-11-4.8906v9.9688q5.9531 2.3906 11.125 3.6094 5.1875 1.2188 9.4844 1.2188 11.328 0 18.062-5.6719 6.7344-5.6562 6.7344-15.125 0-4.5-1.6875-8.5312-1.6719-4.0156-6.125-9.4844-1.2188-1.4219-7.7656-8.1875-6.5312-6.7656-18.453-18.922z\"/><path id=\"DejaVuSans-52\" d=\"m37.797 64.312-24.906-38.922h24.906zm-2.5938 8.5938h12.406v-47.516h10.406v-8.2031h-10.406v-17.188h-9.8125v17.188h-32.906v9.5156z\"/></defs><g transform=\"translate(24.749 86.224) scale(.14 -.14)\"><use xlink:href=\"#DejaVuSans-48\"/><use x=\"63.623047\" xlink:href=\"#DejaVuSans-46\"/><use x=\"95.410156\" xlink:href=\"#DejaVuSans-50\"/><use x=\"159.033203\" xlink:href=\"#DejaVuSans-52\"/></g><path d=\"m62.921 14.874h390.6\" clip-path=\"url(#p3131f3a382)\" fill=\"none\" stroke=\"#b0b0b0\" stroke-dasharray=\"2.96,1.28\" stroke-width=\".8\"/><use x=\"62.92125\" y=\"14.873594\" stroke=\"#000000\" stroke-width=\".8\" xlink:href=\"#mb59992f03d\"/><defs><path id=\"DejaVuSans-51\" d=\"m40.578 39.312q7.0781-1.5156 11.047-6.3125 3.9844-4.7812 3.9844-11.812 0-10.781-7.4219-16.703-7.4219-5.9062-21.094-5.9062-4.5781 0-9.4375 0.90625t-10.031 2.7188v9.5156q4.0938-2.3906 8.9688-3.6094 4.8906-1.2188 10.219-1.2188 9.2656 0 14.125 3.6562t4.8594 10.641q0 6.4531-4.5156 10.078-4.5156 3.6406-12.562 3.6406h-8.5v8.1094h8.8906q7.2656 0 11.125 2.9062t3.8594 8.375q0 5.6094-3.9844 8.6094-3.9688 3.0156-11.391 3.0156-4.0625 0-8.7031-0.89062-4.6406-0.875-10.203-2.7188v8.7812q5.625 1.5625 10.531 2.3438t9.25 0.78125q11.234 0 17.766-5.1094 6.5469-5.0938 6.5469-13.781 0-6.0625-3.4688-10.234t-9.8594-5.7812z\"/></defs><g transform=\"translate(24.749 20.193) scale(.14 -.14)\"><use xlink:href=\"#DejaVuSans-48\"/><use x=\"63.623047\" xlink:href=\"#DejaVuSans-46\"/><use x=\"95.410156\" xlink:href=\"#DejaVuSans-51\"/><use x=\"159.033203\" xlink:href=\"#DejaVuSans-50\"/></g><defs><path id=\"DejaVuSans-80\" d=\"m19.672 64.797v-27.391h12.406q6.8906 0 10.641 3.5625 3.7656 3.5625 3.7656 10.156 0 6.5469-3.7656 10.109-3.75 3.5625-10.641 3.5625zm-9.8594 8.1094h22.266q12.266 0 18.531-5.5469 6.2812-5.5469 6.2812-16.234 0-10.797-6.2812-16.312-6.2656-5.5156-18.531-5.5156h-12.406v-29.297h-9.8594z\"/><path id=\"DejaVuSans-114\" d=\"m41.109 46.297q-1.5156 0.875-3.2969 1.2812-1.7812 0.42188-3.9219 0.42188-7.625 0-11.703-4.9531t-4.0781-14.234v-28.812h-9.0312v54.688h9.0312v-8.5q2.8438 4.9844 7.375 7.3906 4.5469 2.4219 11.047 2.4219 0.92188 0 2.0469-0.125 1.125-0.10938 2.4844-0.35938z\"/><path id=\"DejaVuSans-111\" d=\"m30.609 48.391q-7.2188 0-11.422-5.6406t-4.2031-15.453 4.1719-15.453q4.1875-5.6406 11.453-5.6406 7.1875 0 11.375 5.6562 4.2031 5.6719 4.2031 15.438 0 9.7188-4.2031 15.406-4.1875 5.6875-11.375 5.6875zm0 7.6094q11.719 0 18.406-7.625 6.7031-7.6094 6.7031-21.078 0-13.422-6.7031-21.078-6.6875-7.6406-18.406-7.6406-11.766 0-18.438 7.6406-6.6562 7.6562-6.6562 21.078 0 13.469 6.6562 21.078 6.6719 7.625 18.438 7.625z\"/><path id=\"DejaVuSans-98\" d=\"m48.688 27.297q0 9.9062-4.0781 15.547t-11.203 5.6406q-7.1406 0-11.219-5.6406t-4.0781-15.547 4.0781-15.547 11.219-5.6406q7.125 0 11.203 5.6406t4.0781 15.547zm-30.578 19.094q2.8438 4.875 7.1562 7.2344 4.3281 2.375 10.328 2.375 9.9688 0 16.188-7.9062 6.2344-7.9062 6.2344-20.797t-6.2344-20.812q-6.2188-7.9062-16.188-7.9062-6 0-10.328 2.375-4.3125 2.375-7.1562 7.25v-8.2031h-9.0312v75.984h9.0312z\"/><path id=\"DejaVuSans-97\" d=\"m34.281 27.484q-10.891 0-15.094-2.4844t-4.2031-8.5q0-4.7812 3.1562-7.5938 3.1562-2.7969 8.5625-2.7969 7.4844 0 12 5.2969t4.5156 14.078v2zm17.922 3.7188v-31.203h-8.9844v8.2969q-3.0781-4.9688-7.6719-7.3438t-11.234-2.375q-8.3906 0-13.359 4.7188-4.9531 4.7188-4.9531 12.625 0 9.2188 6.1719 13.906 6.1875 4.6875 18.438 4.6875h12.609v0.89062q0 6.2031-4.0781 9.5938t-11.453 3.3906q-4.6875 0-9.1406-1.125-4.4375-1.125-8.5312-3.375v8.3125q4.9219 1.9062 9.5625 2.8438 4.6406 0.95312 9.0312 0.95312 11.875 0 17.734-6.1562 5.8594-6.1406 5.8594-18.641z\"/><path id=\"DejaVuSans-105\" d=\"m9.4219 54.688h8.9844v-54.688h-8.9844zm0 21.297h8.9844v-11.391h-8.9844z\"/><path id=\"DejaVuSans-108\" d=\"m9.4219 75.984h8.9844v-75.984h-8.9844z\"/><path id=\"DejaVuSans-116\" d=\"m18.312 70.219v-15.531h18.5v-6.9844h-18.5v-29.688q0-6.6875 1.8281-8.5938t7.4531-1.9062h9.2188v-7.5156h-9.2188q-10.406 0-14.359 3.875-3.9531 3.8906-3.9531 14.141v29.688h-6.5938v6.9844h6.5938v15.531z\"/><path id=\"DejaVuSans-101\" d=\"m56.203 29.594v-4.3906h-41.312q0.59375-9.2812 5.5938-14.141t13.938-4.8594q5.1719 0 10.031 1.2656t9.6562 3.8125v-8.5q-4.8438-2.0469-9.9219-3.125t-10.297-1.0781q-13.094 0-20.734 7.6094-7.6406 7.625-7.6406 20.625 0 13.422 7.25 21.297 7.25 7.8906 19.562 7.8906 11.031 0 17.453-7.1094 6.4219-7.0938 6.4219-19.297zm-8.9844 2.6406q-0.09375 7.3594-4.125 11.75-4.0312 4.4062-10.672 4.4062-7.5156 0-12.031-4.25t-5.2031-11.969z\"/><path id=\"DejaVuSans-115\" d=\"m44.281 53.078v-8.5q-3.7969 1.9531-7.9062 2.9219-4.0938 0.98438-8.5 0.98438-6.6875 0-10.031-2.0469t-3.3438-6.1562q0-3.125 2.3906-4.9062t9.625-3.3906l3.0781-0.6875q9.5625-2.0469 13.594-5.7812t4.0312-10.422q0-7.625-6.0312-12.078-6.0312-4.4375-16.578-4.4375-4.3906 0-9.1562 0.85938t-10.031 2.5625v9.2812q4.9844-2.5938 9.8125-3.8906 4.8281-1.2812 9.5781-1.2812 6.3438 0 9.75 2.1719 3.4219 2.1719 3.4219 6.125 0 3.6562-2.4688 5.6094-2.4531 1.9531-10.812 3.7656l-3.125 0.73438q-8.3438 1.75-12.062 5.3906-3.7031 3.6406-3.7031 9.9844 0 7.7188 5.4688 11.906 5.4688 4.2031 15.531 4.2031 4.9688 0 9.3594-0.73438 4.4062-0.71875 8.1094-2.1875z\"/></defs><g transform=\"translate(17.838 185.86) rotate(-90) scale(.14 -.14)\"><use xlink:href=\"#DejaVuSans-80\"/><use x=\"58.552734\" xlink:href=\"#DejaVuSans-114\"/><use x=\"97.416016\" xlink:href=\"#DejaVuSans-111\"/><use x=\"158.597656\" xlink:href=\"#DejaVuSans-98\"/><use x=\"222.074219\" xlink:href=\"#DejaVuSans-97\"/><use x=\"283.353516\" xlink:href=\"#DejaVuSans-98\"/><use x=\"346.830078\" xlink:href=\"#DejaVuSans-105\"/><use x=\"374.613281\" xlink:href=\"#DejaVuSans-108\"/><use x=\"402.396484\" xlink:href=\"#DejaVuSans-105\"/><use x=\"430.179688\" xlink:href=\"#DejaVuSans-116\"/><use x=\"469.388672\" xlink:href=\"#DejaVuSans-105\"/><use x=\"497.171875\" xlink:href=\"#DejaVuSans-101\"/><use x=\"558.695312\" xlink:href=\"#DejaVuSans-115\"/></g><path d=\"m80.676 279h11.455v-14.509h-11.455z\" clip-path=\"url(#p3131f3a382)\" fill=\"#648fff\"/><path d=\"m103.58 279h11.455v-10.479h-11.455z\" clip-path=\"url(#p3131f3a382)\" fill=\"#648fff\"/><path d=\"m126.49 279h11.455v-9.6726h-11.455z\" clip-path=\"url(#p3131f3a382)\" fill=\"#648fff\"/><path d=\"m149.4 279h11.455v-66.902h-11.455z\" clip-path=\"url(#p3131f3a382)\" fill=\"#648fff\"/><path d=\"m172.31 279h11.455v-7.2544h-11.455z\" clip-path=\"url(#p3131f3a382)\" fill=\"#648fff\"/><path d=\"m195.22 279h11.455v-208.77h-11.455z\" clip-path=\"url(#p3131f3a382)\" fill=\"#648fff\"/><path d=\"m218.13 279h11.455v-64.484h-11.455z\" clip-path=\"url(#p3131f3a382)\" fill=\"#648fff\"/><path d=\"m241.04 279h11.455v-16.121h-11.455z\" clip-path=\"url(#p3131f3a382)\" fill=\"#648fff\"/><path d=\"m263.95 279h11.455v-15.315h-11.455z\" clip-path=\"url(#p3131f3a382)\" fill=\"#648fff\"/><path d=\"m286.86 279h11.455v-62.872h-11.455z\" clip-path=\"url(#p3131f3a382)\" fill=\"#648fff\"/><path d=\"m309.77 279h11.455v-226.5h-11.455z\" clip-path=\"url(#p3131f3a382)\" fill=\"#648fff\"/><path d=\"m332.68 279h11.455v-9.6726h-11.455z\" clip-path=\"url(#p3131f3a382)\" fill=\"#648fff\"/><path d=\"m355.58 279h11.455v-74.157h-11.455z\" clip-path=\"url(#p3131f3a382)\" fill=\"#648fff\"/><path d=\"m378.49 279h11.455v-14.509h-11.455z\" clip-path=\"url(#p3131f3a382)\" fill=\"#648fff\"/><path d=\"m401.4 279h11.455v-13.703h-11.455z\" clip-path=\"url(#p3131f3a382)\" fill=\"#648fff\"/><path d=\"m424.31 279h11.455v-10.479h-11.455z\" clip-path=\"url(#p3131f3a382)\" fill=\"#648fff\"/><path d=\"m62.921 279v-271.8\" fill=\"none\" stroke=\"#000000\" stroke-linecap=\"square\" stroke-width=\".8\"/><path d=\"m453.52 279v-271.8\" fill=\"none\" stroke=\"#000000\" stroke-linecap=\"square\" stroke-width=\".8\"/><path d=\"m62.921 279h390.6\" fill=\"none\" stroke=\"#000000\" stroke-linecap=\"square\" stroke-width=\".8\"/><path d=\"m62.921 7.2h390.6\" fill=\"none\" stroke=\"#000000\" stroke-linecap=\"square\" stroke-width=\".8\"/><g transform=\"translate(72.089 261.69) scale(.1 -.1)\"><use xlink:href=\"#DejaVuSans-48\"/><use x=\"63.623047\" xlink:href=\"#DejaVuSans-46\"/><use x=\"95.410156\" xlink:href=\"#DejaVuSans-48\"/><use x=\"159.033203\" xlink:href=\"#DejaVuSans-49\"/><use x=\"222.65625\" xlink:href=\"#DejaVuSans-56\"/></g><g transform=\"translate(94.998 265.92) scale(.1 -.1)\"><use xlink:href=\"#DejaVuSans-48\"/><use x=\"63.623047\" xlink:href=\"#DejaVuSans-46\"/><use x=\"95.410156\" xlink:href=\"#DejaVuSans-48\"/><use x=\"159.033203\" xlink:href=\"#DejaVuSans-49\"/><use x=\"222.65625\" xlink:href=\"#DejaVuSans-51\"/></g><g transform=\"translate(117.91 266.76) scale(.1 -.1)\"><use xlink:href=\"#DejaVuSans-48\"/><use x=\"63.623047\" xlink:href=\"#DejaVuSans-46\"/><use x=\"95.410156\" xlink:href=\"#DejaVuSans-48\"/><use x=\"159.033203\" xlink:href=\"#DejaVuSans-49\"/><use x=\"222.65625\" xlink:href=\"#DejaVuSans-50\"/></g><g transform=\"translate(140.82 206.67) scale(.1 -.1)\"><use xlink:href=\"#DejaVuSans-48\"/><use x=\"63.623047\" xlink:href=\"#DejaVuSans-46\"/><use x=\"95.410156\" xlink:href=\"#DejaVuSans-48\"/><use x=\"159.033203\" xlink:href=\"#DejaVuSans-56\"/><use x=\"222.65625\" xlink:href=\"#DejaVuSans-49\"/></g><defs><path id=\"DejaVuSans-57\" d=\"m10.984 1.5156v8.9844q3.7188-1.7656 7.5156-2.6875 3.8125-0.92188 7.4844-0.92188 9.7656 0 14.906 6.5625 5.1562 6.5625 5.8906 19.953-2.8281-4.2031-7.1875-6.4531-4.3438-2.25-9.6094-2.25-10.938 0-17.312 6.6094-6.375 6.625-6.375 18.109 0 11.219 6.6406 18 6.6406 6.7969 17.672 6.7969 12.656 0 19.312-9.7031 6.6719-9.6875 6.6719-28.141 0-17.234-8.1875-27.516-8.1719-10.281-21.984-10.281-3.7188 0-7.5312 0.73438-3.7969 0.73438-7.9062 2.2031zm19.625 30.906q6.6406 0 10.516 4.5312 3.8906 4.5469 3.8906 12.469 0 7.8594-3.8906 12.422-3.875 4.5625-10.516 4.5625t-10.516-4.5625-3.875-12.422q0-7.9219 3.875-12.469 3.875-4.5312 10.516-4.5312z\"/></defs><g transform=\"translate(163.73 269.3) scale(.1 -.1)\"><use xlink:href=\"#DejaVuSans-48\"/><use x=\"63.623047\" xlink:href=\"#DejaVuSans-46\"/><use x=\"95.410156\" xlink:href=\"#DejaVuSans-48\"/><use x=\"159.033203\" xlink:href=\"#DejaVuSans-48\"/><use x=\"222.65625\" xlink:href=\"#DejaVuSans-57\"/></g><defs><path id=\"DejaVuSans-53\" d=\"m10.797 72.906h38.719v-8.3125h-29.688v-17.859q2.1406 0.73438 4.2812 1.0938 2.1562 0.35938 4.3125 0.35938 12.203 0 19.328-6.6875 7.1406-6.6875 7.1406-18.109 0-11.766-7.3281-18.297-7.3281-6.5156-20.656-6.5156-4.5938 0-9.3594 0.78125-4.75 0.78125-9.8281 2.3438v9.9219q4.3906-2.3906 9.0781-3.5625t9.9062-1.1719q8.4531 0 13.375 4.4375 4.9375 4.4375 4.9375 12.062 0 7.6094-4.9375 12.047-4.9219 4.4531-13.375 4.4531-3.9531 0-7.8906-0.875-3.9219-0.875-8.0156-2.7344z\"/></defs><g transform=\"translate(186.63 57.715) scale(.1 -.1)\"><use xlink:href=\"#DejaVuSans-48\"/><use x=\"63.623047\" xlink:href=\"#DejaVuSans-46\"/><use x=\"95.410156\" xlink:href=\"#DejaVuSans-50\"/><use x=\"159.033203\" xlink:href=\"#DejaVuSans-53\"/><use x=\"222.65625\" xlink:href=\"#DejaVuSans-51\"/></g><defs><path id=\"DejaVuSans-55\" d=\"m8.2031 72.906h46.875v-4.2031l-26.469-68.703h-10.297l24.906 64.594h-35.016z\"/></defs><g transform=\"translate(209.54 209.21) scale(.1 -.1)\"><use xlink:href=\"#DejaVuSans-48\"/><use x=\"63.623047\" xlink:href=\"#DejaVuSans-46\"/><use x=\"95.410156\" xlink:href=\"#DejaVuSans-48\"/><use x=\"159.033203\" xlink:href=\"#DejaVuSans-55\"/><use x=\"222.65625\" xlink:href=\"#DejaVuSans-56\"/></g><g transform=\"translate(232.45 259.99) scale(.1 -.1)\"><use xlink:href=\"#DejaVuSans-48\"/><use x=\"63.623047\" xlink:href=\"#DejaVuSans-46\"/><use x=\"95.410156\" xlink:href=\"#DejaVuSans-48\"/><use x=\"159.033203\" xlink:href=\"#DejaVuSans-50\"/><use x=\"222.65625\" xlink:href=\"#DejaVuSans-48\"/></g><g transform=\"translate(255.36 260.84) scale(.1 -.1)\"><use xlink:href=\"#DejaVuSans-48\"/><use x=\"63.623047\" xlink:href=\"#DejaVuSans-46\"/><use x=\"95.410156\" xlink:href=\"#DejaVuSans-48\"/><use x=\"159.033203\" xlink:href=\"#DejaVuSans-49\"/><use x=\"222.65625\" xlink:href=\"#DejaVuSans-57\"/></g><g transform=\"translate(278.27 210.9) scale(.1 -.1)\"><use xlink:href=\"#DejaVuSans-48\"/><use x=\"63.623047\" xlink:href=\"#DejaVuSans-46\"/><use x=\"95.410156\" xlink:href=\"#DejaVuSans-48\"/><use x=\"159.033203\" xlink:href=\"#DejaVuSans-55\"/><use x=\"222.65625\" xlink:href=\"#DejaVuSans-54\"/></g><g transform=\"translate(301.18 39.095) scale(.1 -.1)\"><use xlink:href=\"#DejaVuSans-48\"/><use x=\"63.623047\" xlink:href=\"#DejaVuSans-46\"/><use x=\"95.410156\" xlink:href=\"#DejaVuSans-50\"/><use x=\"159.033203\" xlink:href=\"#DejaVuSans-55\"/><use x=\"222.65625\" xlink:href=\"#DejaVuSans-52\"/></g><g transform=\"translate(324.09 266.76) scale(.1 -.1)\"><use xlink:href=\"#DejaVuSans-48\"/><use x=\"63.623047\" xlink:href=\"#DejaVuSans-46\"/><use x=\"95.410156\" xlink:href=\"#DejaVuSans-48\"/><use x=\"159.033203\" xlink:href=\"#DejaVuSans-49\"/><use x=\"222.65625\" xlink:href=\"#DejaVuSans-50\"/></g><g transform=\"translate(347 199.06) scale(.1 -.1)\"><use xlink:href=\"#DejaVuSans-48\"/><use x=\"63.623047\" xlink:href=\"#DejaVuSans-46\"/><use x=\"95.410156\" xlink:href=\"#DejaVuSans-48\"/><use x=\"159.033203\" xlink:href=\"#DejaVuSans-57\"/><use x=\"222.65625\" xlink:href=\"#DejaVuSans-48\"/></g><g transform=\"translate(369.91 261.69) scale(.1 -.1)\"><use xlink:href=\"#DejaVuSans-48\"/><use x=\"63.623047\" xlink:href=\"#DejaVuSans-46\"/><use x=\"95.410156\" xlink:href=\"#DejaVuSans-48\"/><use x=\"159.033203\" xlink:href=\"#DejaVuSans-49\"/><use x=\"222.65625\" xlink:href=\"#DejaVuSans-56\"/></g><g transform=\"translate(392.82 262.53) scale(.1 -.1)\"><use xlink:href=\"#DejaVuSans-48\"/><use x=\"63.623047\" xlink:href=\"#DejaVuSans-46\"/><use x=\"95.410156\" xlink:href=\"#DejaVuSans-48\"/><use x=\"159.033203\" xlink:href=\"#DejaVuSans-49\"/><use x=\"222.65625\" xlink:href=\"#DejaVuSans-55\"/></g><g transform=\"translate(415.73 265.92) scale(.1 -.1)\"><use xlink:href=\"#DejaVuSans-48\"/><use x=\"63.623047\" xlink:href=\"#DejaVuSans-46\"/><use x=\"95.410156\" xlink:href=\"#DejaVuSans-48\"/><use x=\"159.033203\" xlink:href=\"#DejaVuSans-49\"/><use x=\"222.65625\" xlink:href=\"#DejaVuSans-51\"/></g><defs><clipPath id=\"p3131f3a382\"><rect x=\"62.921\" y=\"7.2\" width=\"390.6\" height=\"271.8\"/></clipPath></defs></svg>"
            ],
            "text/plain": [
              "<Figure size 504x360 with 1 Axes>"
            ]
          },
          "execution_count": 9,
          "metadata": {
          },
          "output_type": "execute_result"
        }
      ],
      "source": [
        "from qiskit.visualization import plot_histogram\n",
        "\n",
        "backend = Aer.get_backend('aer_simulator')\n",
        "backend.shots = 512\n",
        "\n",
        "qc_res = create_qaoa_circ(G, res.x)\n",
        "\n",
        "counts = backend.run(qc_res, seed_simulator=10).result().get_counts()\n",
        "\n",
        "plot_histogram(counts)"
      ]
    },
    {
      "cell_type": "markdown",
      "metadata": {
      },
      "source": [
        "আমরা লক্ষ্য করেছি যে \"0101\" এবং \"1010\" বিটস্ট্রিংগুলির সর্বাধিক সম্ভাবনা রয়েছে এবং প্রকৃতপক্ষে গ্রাফের অ্যাসাইনমেন্ট (আমরা শুরু করেছি) যা দুটি পার্টিশনের মধ্যে 4টি প্রান্ত দেয়। "
      ]
    },
    {
      "cell_type": "markdown",
      "metadata": {
      },
      "source": [
        "## পরিশিষ্ট"
      ]
    },
    {
      "cell_type": "markdown",
      "metadata": {
      },
      "source": [
        "### 1. নির্মাণ সমস্যা হ্যামিলটোনিয়ান<a id=\"Constructing Hamiltonian\"></a>\n",
        "\n",
        "যেকোন সর্বাধিকীকরণ সমস্যা একটি ন্যূনতমকরণ সমস্যার পরিপ্রেক্ষিতে এবং তদ্বিপরীতভাবে নিক্ষেপ করা যেতে পারে। তাই সাধারণ ফর্ম একটি সমন্বয় অপ্টিমাইজেশান সমস্যা দ্বারা দেওয়া হয়\n",
        "\n",
        "$$ \\text{maximize } ;;      C(x)$$\n",
        "\n",
        "$$ \\text{subject to } ;; x \\in S $$\n",
        "\n",
        "যেখানে $x \\in S$, একটি বিচ্ছিন্ন পরিবর্তনশীল এবং $C : D \\rightarrow \\mathbb{R}$ হল খরচ ফাংশন, যা কিছু ডোমেন $S$ থেকে বাস্তব সংখ্যা $\\mathbb{R}$-এ ম্যাপ করে . ভেরিয়েবল $x$ সীমাবদ্ধতার একটি সেটের সাপেক্ষে হতে পারে এবং সম্ভাব্য পয়েন্টগুলির $S \\subset D$ এর মধ্যে অবস্থিত।\n",
        "\n",
        "বাইনারি কম্বিনেটরিয়াল অপ্টিমাইজেশান সমস্যায়, খরচ ফাংশন $C$ সাধারণত এমন পদগুলির যোগফল হিসাবে প্রকাশ করা যেতে পারে যেগুলি $x \\in {0 স্ট্রিং-এ $n$ বিটের একটি উপসেট $Q \\subset[n]$ জড়িত থাকে, 1}^n$ এবং ক্যানোনিকাল আকারে লেখা হয়\n",
        "\n",
        "$$ C(x) = \\sum_{(Q,\\overline{Q}) \\subset [n]} w_{(Q,\\overline{Q})} ; \\prod_{i\\in Q} x_i ; \\prod_{j\\in \\overline{Q}} (1- x_j), $$\n",
        "\n",
        "যেখানে $x_i \\in {0,1}$ এবং $w_{(Q,\\overline{Q})}\\in \\mathbb{R}$। আমরা n-বিট স্ট্রিং $x$ খুঁজে পেতে চাই যার জন্য $C(x)$ সর্বাধিক।"
      ]
    },
    {
      "cell_type": "markdown",
      "metadata": {
      },
      "source": [
        "#### 1.1 তির্যক হ্যামিল্টোনিয়ান\n",
        "\n",
        "এই খরচ ফাংশন একটি হ্যামিল্টোনিয়ান ম্যাপ করা যেতে পারে যা গণনাগত ভিত্তিতে তির্যক। Cost-functionদেওয়া $C$ এই হ্যামিলটোনিয়ান তারপর হিসাবে লেখা হয়\n",
        "\n",
        "$$ H = \\sum_{x \\in {0,1}^n} C(x) |x \\rangle\\langle x| $$\n",
        "\n",
        "যেখানে $x \\in {0,1}^n$ লেবেল কম্পিউটেশনাল ভিত্তিতে $|x \\rangle \\in \\mathbb{C}^{2^n}$ বলে। যদি Cost-function শুধুমাত্র সর্বাধিক ওজন $k$ পদ থাকে, অর্থাৎ যখন শুধুমাত্র $Q$ অবদান রাখে যা সর্বাধিক $Q \\leq k$ বিটগুলি জড়িত, তাহলে এই তির্যক হ্যামিলটোনিয়ানটিও শুধুমাত্র $k$ পাউলি $Z ওজনের সমষ্টি। $ অপারেটর।\n",
        "\n",
        "পাওলি $Z$ অপারেটরগুলিতে $H$-এর সম্প্রসারণ প্রতিটি বাইনারি ভেরিয়েবল $x_i \\in {0,1}$ ম্যাট্রিক্স `{latex} x_i \\rightarrow 2^{-1}(1 - Z_i)` এর প্রতিস্থাপনের মাধ্যমে $C$-এর মূল্য-ফাংশনের ক্যানোনিকাল সম্প্রসারণ থেকে প্রাপ্ত করা যেতে পারে। <code>{latex} x_i \\rightarrow 2^{-1}(1 - Z_i)</code> । এখানে $Z_i$ কে পাউলি $Z$ অপারেটর হিসাবে পড়া হয়েছে যা qubit $i$ এ কাজ করে এবং অন্য সকলের উপর তুচ্ছ, যেমন\n",
        "\n",
        "$$ Z_i = \\left(\\begin{array}{cc} 1 &amp; 0 \\ 0 &amp; -1 \\end{array}\\right). $$\n",
        "\n",
        "এর মানে হল যে স্পিন হ্যামিলটোনিয়ান এনকোডিং ক্লাসিক্যাল খরচ ফাংশন একটি $|Q|$ - স্থানীয় কোয়ান্টাম স্পিন হ্যামিলটোনিয়ান শুধুমাত্র পাউলি $Z$- অপারেটরদের সাথে জড়িত।\n",
        "\n",
        "$$ H = \\sum_{(Q,\\overline{Q}) \\subset [n]} w_{(Q,\\overline{Q})} ; \\frac{1}{2^{|Q| + |\\overline{Q}|}}\\prod_{i\\in Q} \\left(1 - Z_i\\right) ; \\prod_{j\\in \\overline{Q}} \\left(1 + Z_j\\right).$$\n",
        "\n",
        "এখন, আমরা অনুমান করব যে শুধুমাত্র কয়েকটি ($n$-এ বহুপদে অনেকগুলি) $w_{(Q,\\overline{Q})}$ হবে অ-শূন্য। তাছাড়া আমরা ধরে নেব যে $|(Q,\\overline{Q})|$ সেটটি আবদ্ধ এবং খুব বড় নয়। এর মানে হল আমরা cost ফাংশনের পাশাপাশি হ্যামিলটোনিয়ান $H$ লিখতে পারি $m$ স্থানীয় পদ $\\hat{C}_k$,\n",
        "\n",
        "$$ H = \\sum_{k = 1}^m \\hat{C}_k, $$\n",
        "\n",
        "যেখানে $m$ এবং $\\hat{C}_k$-এর সমর্থন উভয়ই যুক্তিসঙ্গতভাবে আবদ্ধ।"
      ]
    },
    {
      "cell_type": "markdown",
      "metadata": {
      },
      "source": [
        "### 2 উদাহরণ:<a id=\"examples\"></a>\n",
        "\n",
        "সমন্বিত অপ্টিমাইজেশান সমস্যাগুলি ব্যাখ্যা করার জন্য আমরা 2টি উদাহরণ বিবেচনা করি৷ আমরা কিস্কিটের মতো প্রথম উদাহরণটি বাস্তবায়ন করব, তবে অনুশীলনের একটি ক্রম সরবরাহ করব যা দ্বিতীয় উদাহরণটিও বাস্তবায়নের নির্দেশনা দেয়।\n",
        "\n",
        "#### 2.1 (weighted) $MAXCUT$\n",
        "\n",
        "একটি $n$-নোড অ-নির্দেশিত গ্রাফ *G = (V, E)* যেখানে *|V|* বিবেচনা করুন <em>= n</em> প্রান্তের ওজন $w_{ij}&gt;0$, <code>{latex} w_{ij}=w_{ji}</code> , $(i,j)\\E$-এর জন্য। একটি কাটকে মূল সেট V-এর দুটি উপসেটে বিভাজন হিসাবে সংজ্ঞায়িত করা হয়। এই ক্ষেত্রে অপ্টিমাইজ করা খরচ ফাংশন হল দুটি ভিন্ন উপসেটে প্রান্ত সংযোগ বিন্দুর ওজনের সমষ্টি, কাটা <em>অতিক্রম</em> করা। প্রতিটি নোড $i$-এ $x_i=0$ বা $x_i=1$ বরাদ্দ করে, একজন বিশ্বব্যাপী লাভ ফাংশন সর্বাধিক করার চেষ্টা করে (এখানে এবং নিম্নলিখিত সারাংশে সূচক 1,2,...,n এর উপরে চলে)\n",
        "\n",
        "$$C(\\textbf{x}) = \\sum_{i,j = 1}^n w_{ij} x_i (1-x_j).$$\n",
        "\n",
        "স্বরলিপি সহজ করার জন্য, আমরা $(i,j) \\ E$ এর জন্য অভিন্ন ওজন $w_{ij} = 1$ ধরে নিই। একটি কোয়ান্টাম কম্পিউটারে এই সমস্যার সমাধান খুঁজতে, প্রথমে এটিকে উপরে আলোচিত একটি তির্যক হ্যামিলটোনিয়ানে ম্যাপ করতে হবে। আমরা $(i,j) = E$ সেটে প্রান্তের উপর সমষ্টি হিসাবে যোগফল লিখি\n",
        "\n",
        "$$C(\\textbf{x}) = \\sum_{i,j = 1}^n w_{ij} x_i (1-x_j)  = \\sum_{(i,j) \\in E} \\left( x_i (1-x_j) + x_j (1-x_i)\\right)$$\n",
        "\n",
        "এটিকে একটি স্পিন হ্যামিলটোনিয়ানে ম্যাপ করতে, আমরা অ্যাসাইনমেন্ট করি `{latex} x_i\\rightarrow (1-Z_i)/2` , যেখানে $Z_i$ হল পাওলি Z অপারেটর যার eigenvalues $\\pm 1$ এবং $X \\rightarrow H প্রাপ্ত $\n",
        "\n",
        "$$ H = \\sum_{(j,k) \\in E} \\frac{1}{2}\\left(1 - Z_j Z_k \\right).$$\n",
        "\n",
        "এর মানে হল যে হ্যামিলটোনিয়ানকে $m = |E|$ স্থানীয় পদগুলির যোগফল হিসাবে লেখা যেতে পারে:\n",
        "\n",
        "$$\\hat{C}*e = \\frac{1}{2}\\left(1 - Z*<e>Z_<e>\\right)$$</e></e>\n",
        "\n",
        "সঙ্গে $e = (e1,e2) \\in E$।\n",
        "\n",
        "#### 2.2 সীমাবদ্ধতা সন্তুষ্টি সমস্যা এবং $\\text{MAX 3-SAT}$।\n",
        "\n",
        "একটি সমন্বিত অপ্টিমাইজেশন সমস্যার আরেকটি উদাহরণ হল $\\text{3-SAT}$। এখানে খরচ ফাংশন `{latex} C(\\textbf{x}) = \\sum_{k = 1}^m c_k(\\textbf{x})` হল $c_k(\\textbf{x})$ যে সীমাবদ্ধ কিছু $\\textbf{x} এর $3$ বিটের মান {0,1}^n$ যে ধারায় অংশগ্রহণ করে। উদাহরণ স্বরূপ একটি $\\text{3-SAT}$ ধারার এই উদাহরণটি বিবেচনা করুন\n",
        "\n",
        "$$ c_1(\\textbf{x}) = (1-x_1)(1-x_3)x_{132} $$\n",
        "\n",
        "একটি বিট স্ট্রিং $\\textbf{x} \\ in {0,1}^{133}$। ধারাটি শুধুমাত্র $x_1 = 0$,$x_3 = 0$ এবং $x_{132} = 1$ সেট করেই সন্তুষ্ট হতে পারে। $\\text{3-SAT}$ সমস্যাটি এখন জিজ্ঞাসা করে যে এমন একটি বিট স্ট্রিং আছে যা $m$ ক্লজগুলির সবগুলিকে সন্তুষ্ট করে বা এরকম কোনও স্ট্রিং বিদ্যমান নেই কিনা। এই সিদ্ধান্ত সমস্যা হল একটি সমস্যার প্রধান উদাহরণ যা $NP$-সম্পূর্ণ।\n",
        "\n",
        "ঘনিষ্ঠভাবে সম্পর্কিত অপ্টিমাইজেশান সমস্যা $\\text{MAX 3-SAT}$ বিট স্ট্রিং $\\textbf{x}$ খুঁজতে বলে যা $C(\\textbf{x})$-এ সর্বাধিক সংখ্যক ধারাকে সন্তুষ্ট করে। এটি অবশ্যই একটি সিদ্ধান্তের সমস্যায় পরিণত হতে পারে যদি আমরা জিজ্ঞাসা করি যেখানে একটি বিট স্ট্রিং আছে যা $m$ ধারাগুলির $\\tilde{m}$-এর বেশি সন্তুষ্ট করে, যা আবার $NP$-সম্পূর্ণ।"
      ]
    },
    {
      "cell_type": "markdown",
      "metadata": {
      },
      "source": [
        "### 3. আনুমানিক অপ্টিমাইজেশান অ্যালগরিদম<a id=\"approximateOPT\"></a>\n",
        "\n",
        "পূর্বে বিবেচনা করা উভয় সমস্যা $MAXCUT$ এবং $\\text{MAX 3-SAT}$ আসলে একটি NP-হার্ড সমস্যা [3](#references) হিসাবে পরিচিত। প্রকৃতপক্ষে দেখা যাচ্ছে যে অনেক সমন্বিত অপ্টিমাইজেশান সমস্যা গণনাগতভাবে সাধারণভাবে সমাধান করা কঠিন। এই সত্যের আলোকে, আমরা একটি প্রমাণযোগ্যভাবে দক্ষ অ্যালগরিদম খুঁজে পাওয়ার আশা করতে পারি না, অর্থাৎ সমস্যা আকারে বহুপদী রানটাইম সহ একটি অ্যালগরিদম, যা এই সমস্যার সমাধান করে। এটি কোয়ান্টাম অ্যালগরিদমের ক্ষেত্রেও প্রযোজ্য। এই ধরনের সমস্যা মোকাবেলা করার জন্য দুটি প্রধান পন্থা আছে। প্রথম পদ্ধতি হল আনুমানিক অ্যালগরিদম যা বহুপদী সময়ে নির্দিষ্ট মানের সমাধান খুঁজে পাওয়ার নিশ্চয়তা দেয়। দ্বিতীয় পন্থা হল হিউরিস্টিক অ্যালগরিদম যার কোনো বহুপদী রানটাইম গ্যারান্টি নেই কিন্তু এই ধরনের সমস্যার কিছু ক্ষেত্রে ভালো পারফরমেন্স দেখায়।\n",
        "\n",
        "আনুমানিক অপ্টিমাইজেশান অ্যালগরিদমগুলি দক্ষ এবং একটি প্রমাণযোগ্য গ্যারান্টি প্রদান করে যে আনুমানিক সমাধানটি সমস্যার প্রকৃত সর্বোত্তমতার কতটা কাছাকাছি। গ্যারান্টিটি সাধারণত একটি আনুমানিক অনুপাতের আকারে আসে, $\\alpha \\leq 1$। একটি সম্ভাব্য আনুমানিক অপ্টিমাইজেশান অ্যালগরিদম গ্যারান্টি দেয় যে এটি একটি বিট-স্ট্রিং $\\textbf{x}^* \\in {0,1}^n$ তৈরি করে যাতে *উচ্চ সম্ভাবনার সাথে* আমাদের কাছে এটি একটি ধনাত্মক `{latex} C_\\text{max} = \\max_{\\textbf{x}}C(\\textbf{x})`\n",
        "\n",
        "$$ C_\\text{max} \\geq C(\\textbf{x}^*) \\geq \\alpha C_\\text{max}. $$\n",
        "\n",
        "$MAXCUT$ সমস্যার জন্য Goemans এবং Williamson [2](#references) এর কারণে একটি বিখ্যাত আনুমানিক অ্যালগরিদম রয়েছে। এই অ্যালগরিদমটি একটি সম্ভাব্য রাউন্ডিং কৌশলের সাথে মিলিত মূল সমস্যার একটি SDP শিথিলতার উপর ভিত্তি করে তৈরি করা হয়েছে যা উচ্চ সম্ভাবনার আনুমানিক সমাধান $\\textbf{x}^*$ দেয় যার আনুমানিক অনুপাত রয়েছে $\\alpha \\ প্রায় 0.878$। এই আনুমানিক অনুপাতটি আসলে সর্বোত্তম বলে বিশ্বাস করা হয় তাই আমরা একটি কোয়ান্টাম অ্যালগরিদম ব্যবহার করে উন্নতি দেখতে আশা করি না।"
      ]
    },
    {
      "cell_type": "markdown",
      "metadata": {
      },
      "source": [
        "### 4. QAOA অ্যালগরিদম<a id=\"QAOA\"></a>\n",
        "\n",
        "ফারহি, গোল্ডস্টোন এবং গুটম্যান [1](#references) এর কোয়ান্টাম আনুমানিক অপ্টিমাইজেশান অ্যালগরিদম (QAOA) একটি হিউরিস্টিক অ্যালগরিদমের উদাহরণ। Goemans-Williamson অ্যালগরিদমের বিপরীতে, QAOA কর্মক্ষমতা গ্যারান্টি দিয়ে আসে না। QAOA ক্লাসিক্যাল আনুমানিক অ্যালগরিদমগুলির পদ্ধতি গ্রহণ করে এবং একটি কোয়ান্টাম অ্যানালগ সন্ধান করে যা একইভাবে একটি ক্লাসিক্যাল বিট স্ট্রিং $x^*$ তৈরি করবে যার উচ্চ সম্ভাবনার সাথে একটি ভাল আনুমানিক অনুপাত $\\alpha$ হবে বলে আশা করা হয়। বিস্তারিত আলোচনা করার আগে, প্রথমে এই পদ্ধতির সাধারণ ধারণা উপস্থাপন করা যাক।\n",
        "\n",
        "#### 4.1 ওভারভিউ:\n",
        "\n",
        "আমরা একটি কোয়ান্টাম অবস্থা খুঁজে পেতে চাই $|\\psi_p(\\vec{\\gamma},\\vec{\\beta})\\rangle$, যা কিছু বাস্তব পরামিতির উপর নির্ভর করে $\\vec{\\gamma},\\vec{\\beta} \\in \\mathbb{R}^p$, যার বৈশিষ্ট্য রয়েছে যে এটি হ্যামিলটোনিয়ান $H$ সমস্যার ক্ষেত্রে প্রত্যাশার মানকে সর্বাধিক করে তোলে। এই ট্রায়াল স্টেটটির প্রেক্ষিতে আমরা $\\vec{\\gamma}^ *,\\vec{\\beta}^* $ সার্চ করি যা সর্বাধিক `{latex} F_p(\\vec{\\gamma},\\vec{\\beta}) = \\langle \\psi_p(\\vec{\\gamma},\\vec{\\beta})|H|\\psi_p(\\vec{\\gamma},\\vec{\\beta})\\rangle` ।\n",
        "\n",
        "একবার আমাদের এমন একটি অবস্থা এবং সংশ্লিষ্ট পরামিতিগুলি পাওয়া গেলে আমরা একটি কোয়ান্টাম কম্পিউটারে $|\\psi_p(\\vec{\\gamma}^ *,\\vec{\\beta}^* )\\rangle$ প্রস্তুত করি এবং $Z-এ রাজ্যটি পরিমাপ করি। $ ভিত্তি `{latex} |x \\rangle = |x_1,\\ldots x_n \\rangle` একটি এলোমেলো ফলাফল $x^*$ পেতে।\n",
        "\n",
        "আমরা দেখতে পাব যে এই এলোমেলো $x^ *$ একটি বিট স্ট্রিং হতে চলেছে যা প্রত্যাশিত মানের কাছাকাছি উচ্চ সম্ভাবনা সহ `{latex} M_p = F_p(\\vec{\\gamma}^*,\\vec{\\beta}^*)` । তাই, যদি $M_p$ $C_\\text{max}$ এর কাছাকাছি হয় তাহলে $C(x^* )$ হয়।\n",
        "\n",
        "#### 4.2 QAOA অ্যালগরিদমের উপাদান।\n",
        "\n",
        "#### 4.2.1 QAOA ট্রায়াল স্টেট<a id=\"section_421\"></a>\n",
        "\n",
        "QAOA এর কেন্দ্রীয় হল ট্রায়াল স্টেট $|\\psi_p(\\vec{\\gamma},\\vec{\\beta})\\rangle$ যা কোয়ান্টাম কম্পিউটারে প্রস্তুত করা হবে। আদর্শভাবে আমরা চাই যে এই রাজ্যটি একটি বৃহৎ প্রত্যাশার মানের জন্ম দেবে `{latex} F_p(\\vec{\\gamma},\\vec{\\beta}) = \\langle \\psi_p(\\vec{\\gamma},\\vec{\\beta})|H|\\psi_p(\\vec{\\gamma},\\vec{\\beta})\\rangle` হ্যামিলটোনিয়ান $H$ এর ক্ষেত্রে। ফার্হি [1](#references) -এ, ট্রায়ালে বলা হয়েছে $|\\psi_p(\\vec{\\gamma},\\vec{\\beta})\\rangle$ একক কিউবিট পাওলি $X$ ঘূর্ণন সহ হ্যামিলটোনিয়ান $H$ সমস্যা থেকে তৈরি করা হয়েছে। এর মানে, একটি সমস্যা দেওয়া হ্যামিলটনিয়ান\n",
        "\n",
        "$$ H = \\sum_{k = 1}^m \\hat{C}_k $$\n",
        "\n",
        "কম্পিউটেশনাল ভিত্তিতে তির্যক এবং একটি তির্যক ক্ষেত্র হ্যামিলটোনিয়ান\n",
        "\n",
        "$$ B = \\sum_{i = 1}^n X_i $$\n",
        "\n",
        "$p$ বিকল্প ইউনিটারি প্রয়োগ করে ট্রায়াল স্টেট প্রস্তুত করা হয়\n",
        "\n",
        "$$ |\\psi_p(\\vec{\\gamma},\\vec{\\beta})\\rangle = e^{ -i\\beta_p B } e^{ -i\\gamma_p H } \\ldots e^{ -i\\beta_1 B } e^{ -i\\gamma_1 H } |+\\rangle^n $$\n",
        "\n",
        "$ X |+\\rangle = |+\\rangle$ সহ $|+\\rangle^n$ পণ্যের অবস্থাতে।\n",
        "\n",
        "এই বিশেষ ansatz-এর সুবিধা রয়েছে যে ভেক্টরগুলির জন্য একটি স্পষ্ট পছন্দ রয়েছে $\\vec{\\gamma}^ *,\\vec{\\beta}^* $ যেমন `{latex} M_p = F_p(\\vec{\\gamma}^*,\\vec{\\beta}^*)` জন্য `{latex} M_p = F_p(\\vec{\\gamma}^*,\\vec{\\beta}^*)` যখন আমরা সীমা নিই <code>{latex} \\lim_{p \\rightarrow \\infty} M_p = C_\\text{max}</code> । এটি ট্রায়াল স্টেট $|\\psi_p(\\vec{\\gamma},\\vec{\\beta}) \\rangle$ দেখে অনুসরণ করে যেটি $H$ এবং ট্রান্সভার্স ফিল্ড হ্যামিলটোনিয়ানের ক্ষেত্রে অ্যাডিয়াব্যাটিক বিবর্তনকে ট্রটারাইজ করা থেকে অনুসরণ করে। $B$, cf রেফারেন্স <a>1</a> ।\n",
        "\n",
        "বিপরীতভাবে এই ট্রায়াল স্টেটের অসুবিধা হল যে কেউ সাধারণত এমন একটি স্টেট চাইবে যা একটি কোয়ান্টাম সার্কিট থেকে তৈরি করা হয়েছে যা খুব গভীর নয়। এখানে গভীরতা পরিমাপ করা হয় গেটগুলির সাপেক্ষে যা সরাসরি কোয়ান্টাম চিপে প্রয়োগ করা যেতে পারে। তাই অন্যান্য প্রস্তাবগুলি রয়েছে যা Ansatz ট্রায়াল স্টেট ব্যবহার করার পরামর্শ দেয় যা কোয়ান্টাম চিপ রেফের হার্ডওয়্যারের সাথে আরও উপযোগী। [4](#references) , রেফারি. [5](#references)\n",
        "\n",
        "#### 4.2.2 প্রত্যাশা মান গণনা করা<a id=\"section_422\"></a>\n",
        "\n",
        "এই পদ্ধতির একটি গুরুত্বপূর্ণ উপাদান হল আমাদের প্রত্যাশা মান গণনা বা অনুমান করতে হবে\n",
        "\n",
        "$$ F_p(\\vec{\\gamma},\\vec{\\beta}) = \\langle \\psi_p(\\vec{\\gamma},\\vec{\\beta})|H|\\psi_p(\\vec{\\gamma},\\vec{\\beta})\\rangle $$\n",
        "\n",
        "তাই আমরা $\\vec{\\gamma},\\vec{\\beta}$ পরামিতি অপ্টিমাইজ করতে পারি। আমরা এখানে দুটি পরিস্থিতিতে বিবেচনা করা হবে.\n",
        "\n",
        "#### ক্লাসিক্যাল মূল্যায়ন\n",
        "\n",
        "মনে রাখবেন যে যখন $|\\psi_p(\\vec{\\gamma},\\vec{\\beta})\\rangle$ প্রস্তুত করার জন্য সার্কিটটি খুব বেশি গভীর না হয় তখন প্রত্যাশার মান $F_p$ ক্লাসিকভাবে মূল্যায়ন করা সম্ভব হতে পারে।\n",
        "\n",
        "উদাহরণস্বরূপ এটি ঘটে যখন কেউ বাউন্ডেড ডিগ্রী সহ গ্রাফের জন্য $MAXCUT$ বিবেচনা করে এবং কেউ $p=1$ সহ একটি সার্কিট বিবেচনা করে। আমরা নীচের কিস্কিট বাস্তবায়নে এর একটি উদাহরণ দেখতে পাব (বিভাগ 5.2) এবং প্রত্যাশার মান গণনা করার জন্য একটি অনুশীলন প্রদান করব।\n",
        "\n",
        "ধারণাটি ব্যাখ্যা করার জন্য, স্মরণ করুন যে হ্যামিলটোনিয়ানকে পৃথক পদের যোগফল হিসাবে লেখা যেতে পারে `{latex} H = \\sum_{k = 1}^m \\hat{C}_k` । প্রত্যাশা মানের রৈখিকতার কারণে, পৃথক সমষ্টিগুলির প্রত্যাশার মান বিবেচনা করা যথেষ্ট। $p = 1$ এর জন্য এটি আছে\n",
        "\n",
        "$$ \\langle \\psi_1(\\vec{\\gamma},\\vec{\\beta})|\\hat{C}_k|\\psi_1(\\vec{\\gamma},\\vec{\\beta})\\rangle = \\ ল্যাঙ্গেল +^n | e^{ i\\gamma_1 H } e^{ i\\beta_1 B } | \\hat{C}_k | e^{ -i\\beta_1 B } e^{ -i\\gamma_1 H } |+^n\\rangle.$$\n",
        "\n",
        "লক্ষ্য করুন যে `{latex} B = \\sum_{i = 1}^n X_i` একক $e^{ -i\\beta_1 B }$ প্রকৃতপক্ষে $X$ একটি কোণ $\\beta$ সহ একক কিউবিট ঘূর্ণনের একটি গুণফল। যার জন্য আমরা লিখব `{latex} X(\\beta)_k = \\exp(i\\beta X_k)` ।\n",
        "\n",
        "সমস্ত স্বতন্ত্র ঘূর্ণন যেগুলি কিউবিটগুলিতে কাজ করে না যেখানে $\\hat{C}_k$ সমর্থিত $\\hat{C}_k$ এর সাথে যাতায়াত এবং সেইজন্য বাতিল। এটি অপারেটর $\\hat{C}_k$ এর সমর্থন বাড়ায় না। এর মানে হল যে একক গেটগুলির দ্বিতীয় সেট `{latex} e^{ -i\\gamma_1 H } = \\prod_{l=1}^m U_l(\\gamma)` গেটগুলির একটি বড় সেট আছে `{latex} U_l(\\gamma) = e^{ -i\\gamma_1 \\hat{C}_l }` যা অপারেটরের সাথে যাতায়াত করে `{latex} e^{ i\\beta_1 B } \\hat{C}_k e^{ -i\\beta_1 B }` । একমাত্র গেট `{latex} U_l(\\gamma) = e^{ -i\\gamma_1 \\hat{C}_l }` যেগুলি প্রত্যাশার মূল্যে অবদান রাখে সেগুলি হল মূল $\\hat{C}_k-এর সমর্থনে qubits জড়িত $\n",
        "\n",
        "তাই, আবদ্ধ ডিগ্রি ইন্টারঅ্যাকশনের জন্য `{latex} e^{ i\\gamma_1 H } e^{ i\\beta_1 B } \\hat{C}_k e^{ -i\\beta_1 B } e^{ -i\\gamma_1 H }` শুধুমাত্র $H$-এ ইন্টারঅ্যাকশনের ডিগ্রী দ্বারা প্রদত্ত পরিমাণ দ্বারা প্রসারিত হয় এবং তাই সিস্টেমের আকার থেকে স্বাধীন। এর মানে হল যে এই ছোট সাব সমস্যার জন্য প্রত্যাশা মানগুলি $n$ থেকে স্বাধীন এবং ক্লাসিকভাবে মূল্যায়ন করা যেতে পারে। একটি সাধারণ ডিগ্রির ক্ষেত্রে $3$ [1](#references) এ বিবেচনা করা হয়।\n",
        "\n",
        "এটি একটি সাধারণ পর্যবেক্ষণ, যার মানে হল যে যদি আমাদের একটি সমস্যা হয় যেখানে ট্রায়াল স্টেট প্রস্তুতির জন্য ব্যবহৃত সার্কিট শুধুমাত্র হ্যামিলটোনিয়ানের প্রতিটি শব্দের সমর্থনকে একটি ধ্রুবক পরিমাণ দ্বারা বৃদ্ধি করে খরচ ফাংশন সরাসরি মূল্যায়ন করা যেতে পারে।\n",
        "\n",
        "যখন এটি হয়, এবং মাত্র কয়েকটি পরামিতি $\\beta, \\gamma$ ট্রায়াল স্টেটের প্রস্তুতির জন্য প্রয়োজন হয়, তখন একটি সাধারণ গ্রিড অনুসন্ধানের মাধ্যমে এইগুলি সহজেই পাওয়া যেতে পারে। অধিকন্তু, আনুমানিক অনুপাতকে আবদ্ধ করতে $M_p$ এর একটি সঠিক সর্বোত্তম মান ব্যবহার করা যেতে পারে\n",
        "\n",
        "$$ \\frac{M_p}{C_\\text{max}} \\geq \\alpha $$\n",
        "\n",
        "$\\alpha$ এর একটি অনুমান প্রাপ্ত করতে। এই ক্ষেত্রে QAOA অ্যালগরিদমের একটি প্রচলিত আনুমানিক অপ্টিমাইজেশান অ্যালগরিদমের মতো একই বৈশিষ্ট্য রয়েছে যা একটি গ্যারান্টিযুক্ত আনুমানিক অনুপাতের সাথে আসে যা সমস্যা আকারে বহুপদী দক্ষতার সাথে প্রাপ্ত করা যেতে পারে।\n",
        "\n",
        "#### একটি কোয়ান্টাম কম্পিউটারে মূল্যায়ন\n",
        "\n",
        "যখন কোয়ান্টাম সার্কিট ক্লাসিকভাবে মূল্যায়ন করার জন্য খুব গভীর হয়ে যায়, বা যখন সমস্যা হ্যামিলটোনিয়ানের সংযোগ খুব বেশি হয় তখন আমরা প্রত্যাশা মান অনুমান করার অন্যান্য উপায় অবলম্বন করতে পারি। এতে কোয়ান্টাম কম্পিউটারে সরাসরি $F_p(\\vec{\\gamma},\\vec{\\beta})$ অনুমান করা জড়িত। এখানে পদ্ধতিটি VQE [4](#references) -এ ব্যবহৃত প্রচলিত প্রত্যাশা মান অনুমানের পথ অনুসরণ করে, যেখানে একটি ট্রায়াল স্টেট $| \\psi_p(\\vec{\\gamma},\\vec{\\beta}) \\rangle$ সরাসরি কোয়ান্টাম কম্পিউটারে প্রস্তুত করা হয় এবং নমুনা থেকে প্রত্যাশার মান পাওয়া যায়।\n",
        "\n",
        "যেহেতু QAOA-এর একটি তির্যক হ্যামিলটোনিয়ান $H$ আছে, এটি প্রকৃতপক্ষে প্রত্যাশার মান অনুমান করার জন্য সোজা। আমাদের শুধুমাত্র গণনামূলক ভিত্তিতে ট্রায়াল স্টেট থেকে নমুনা পেতে হবে। মনে করুন যে $H = \\sum_{x \\in {0,1}^n} C(x) |x \\rangle\\langle x|$ যাতে আমরা এর নমুনা অনুমান পেতে পারি\n",
        "\n",
        "$$ \\langle \\psi_p(\\vec{\\gamma},\\vec{\\beta})|H|\\psi_p(\\vec{\\gamma},\\vec{\\beta})\\rangle = \\sum_{x \\in {0,1}^n} C(x) |\\langle x| \\psi_p(\\vec{\\gamma},\\vec{\\beta}) \\rangle |^2$$\n",
        "\n",
        "রাষ্ট্রের বারবার একক কিউবিট পরিমাপের মাধ্যমে $| \\psi_p(\\vec{\\gamma},\\vec{\\beta}) \\Rangle $ $Z$ ভিত্তিতে। ডিস্ট্রিবিউশন থেকে প্রাপ্ত প্রতিটি বিট স্ট্রিং $x$ এর জন্য $|\\langle x| \\psi_p(\\vec{\\gamma},\\vec{\\beta}) \\rangle |^2$ আমরা মূল্য ফাংশন $C(x)$ মূল্যায়ন করি এবং নমুনার মোট সংখ্যার উপর এটি গড় করি। ফলাফলের অভিজ্ঞতামূলক গড় একটি সংযোজন নমুনা ত্রুটি পর্যন্ত প্রত্যাশার মানকে আনুমানিক করে যা রাষ্ট্রের ভিন্নতার মধ্যে থাকে। পার্থক্য নীচে আলোচনা করা হবে.\n",
        "\n",
        "প্রত্যাশা মান অ্যাক্সেসের সাথে, আমরা এখন $F_p$ অপ্টিমাইজ করতে একটি ক্লাসিক্যাল অপ্টিমাইজেশান অ্যালগরিদম চালাতে পারি, যেমন [6](#references) ।\n",
        "\n",
        "যদিও এই পদ্ধতিটি $x^*$-এর জন্য একটি অগ্রাধিকারের আনুমানিক গ্যারান্টির দিকে নিয়ে যায় না, অপ্টিমাইজ করা ফাংশন মান পরবর্তীতে আনুমানিক অনুপাত $\\alpha$ এর জন্য একটি অনুমান প্রদান করতে ব্যবহার করা যেতে পারে।\n",
        "\n",
        "#### 4.3.3 উচ্চ সম্ভাবনা সহ একটি প্রদত্ত আনুমানিক অনুপাত সহ একটি সমাধান প্রাপ্ত করা\n",
        "\n",
        "অ্যালগরিদমটি সম্ভাব্য প্রকৃতির এবং ডিস্ট্রিবিউশন থেকে এলোমেলো বিট স্ট্রিং তৈরি করে $|\\langle x| \\psi_p(\\vec{\\gamma},\\vec{\\beta}) \\rangle |^2$। তাহলে কিভাবে আমরা নিশ্চিত হতে পারি যে আমরা একটি আনুমানিক $x^*$ নমুনা করব যা অপ্টিমাইজ করা প্রত্যাশা মানের $M_p$ এর কাছাকাছি? মনে রাখবেন যে এই প্রশ্নটি প্রথম স্থানে একটি কোয়ান্টাম কম্পিউটারে $M_p$ এর অনুমানের সাথেও প্রাসঙ্গিক। যদি নমুনা $|\\langle x| থেকে আঁকা হয় \\psi_p(\\vec{\\gamma},\\vec{\\beta}) \\rangle |^2$ এর খুব বেশি বৈচিত্র্য রয়েছে, গড় নির্ণয় করার জন্য অনেক নমুনা প্রয়োজন।\n",
        "\n",
        "আমরা একটি বিট স্ট্রিং আঁকব $x^*$ যা গড় $M_p$ এর কাছাকাছি উচ্চ সম্ভাবনা সহ যখন পরিবর্তনশীল হিসাবে শক্তির সামান্য ভিন্নতা থাকে।\n",
        "\n",
        "লক্ষ্য করুন যে হ্যামিলটোনিয়ান `{latex} H = \\sum_{k=1}^m \\hat{C}_k` এ পদের সংখ্যা $m$ দ্বারা সীমাবদ্ধ। বলুন প্রতিটি স্বতন্ত্র summand $\\hat{C}_k$ এর একটি অপারেটর আদর্শ রয়েছে যা একটি সর্বজনীন ধ্রুবক $|\\hat{C}_k| দ্বারা আবদ্ধ হতে পারে। সকল $k = 1\\ldots m$ এর জন্য \\leq \\tilde{C}$। তারপর বিবেচনা করুন\n",
        "\n",
        "$$ \\begin{aligned} \\langle \\psi_p(\\vec{\\gamma},\\vec{\\beta})|H^2|\\psi_p(\\vec{\\gamma},\\vec{\\beta})\\rangle - \\langle \\psi_p(\\vec{\\gamma},\\vec{\\beta})|H|\\psi_p(\\vec{\\gamma},\\vec{\\beta})\\rangle^2 &amp;\\leq  \\langle \\psi_p(\\vec{\\gamma},\\vec{\\beta})|H^2|\\psi_p(\\vec{\\gamma},\\vec{\\beta})\\rangle \\ &amp;= \\sum_{k,l =1}^m  \\langle \\psi_p(\\vec{\\gamma},\\vec{\\beta})|\\hat{C}_k \\hat{C}_l |\\psi_p(\\vec{\\gamma},\\vec{\\beta})\\rangle \\ &amp;\\leq m^2 \\tilde{C}^2 \\ \\end{aligned} $$\n",
        "\n",
        "যেখানে আমরা ব্যবহার করেছি সেই `{latex} \\langle \\psi_p(\\vec{\\gamma},\\vec{\\beta})|\\hat{C}_k \\hat{C}_l |\\psi_p(\\vec{\\gamma},\\vec{\\beta})\\rangle \\leq \\tilde{C}^2` ।\n",
        "\n",
        "এর মানে হল যে কোনো প্রত্যাশা $F_p(\\vec{\\gamma},\\vec{\\beta})$ $m^2 \\tilde{C}^2$ দ্বারা আবদ্ধ। তাই এটি বিশেষ করে $M_p$ এর জন্য প্রযোজ্য। অধিকন্তু যদি $m$ শুধুমাত্র qubits $n$ সংখ্যায় বহুপদীভাবে বৃদ্ধি পায়, আমরা জানি যে বহুপদীভাবে ক্রমবর্ধমান নমুনা $s = O\\left(\\frac{\\tilde{C}^2 m^2}{\\epsilon) ^2}\\right)$ থেকে $|\\langle x| \\psi_p(\\vec{\\gamma},\\vec{\\beta}) \\rangle |^2$ একটি $x^ *$ পাওয়ার জন্য যথেষ্ট হবে যা $C(x^ )$ এর দিকে নিয়ে যায় যা* $ এর কাছাকাছি হবে M_p$।"
      ]
    },
    {
      "cell_type": "markdown",
      "metadata": {
      },
      "source": [
        "### 5. সমস্যা<a id=\"problems\"></a>\n",
        "\n",
        "1. QAOA অ্যালগরিদম একটি বিট স্ট্রিং তৈরি করে, এই স্ট্রিং কি এই গ্রাফের জন্য সর্বোত্তম সমাধান? স্থানীয় QASM সিমুলেশনের ফলাফলের সাথে সুপারকন্ডাক্টিং চিপ থেকে পরীক্ষামূলক ফলাফলের তুলনা করুন।\n",
        "\n",
        "2. আমরা [বিভাগ 5.2](#implementation_sec52) এ বিশ্লেষণাত্মকভাবে $F_1$ খরচ ফাংশন গণনা করেছি। ধাপগুলি যাচাই করুন এবং $f_A(\\gamma,\\beta)$ এর পাশাপাশি $f_B(\\gamma,\\beta)$ গণনা করুন।\n",
        "\n",
        "3. আমরা কিস্কিট বাস্তবায়নে $F_1$ এর জন্য একটি সঠিক অভিব্যক্তি দিয়েছি।\n",
        "\n",
        "    - ফলাফলে প্রাপ্ত নমুনা থেকে প্রত্যাশার মান $F_1(\\gamma,\\beta)$ অনুমান করার জন্য একটি রুটিন লিখুন (ইঙ্গিত: [বিভাগ 5.4](#implementation_sec54) থেকে ফাংশন cost_function_C(x,G) ব্যবহার করুন এবং উভয় বিভাগে [5](#implementationsim) ডেটার মূল্যায়ন করুন <a>.a / 5.b</a> )\n",
        "\n",
        "    - একটি অপ্টিমাইজেশন রুটিন ব্যবহার করুন, যেমন এই টিউটোরিয়ালে VQE উদাহরণ থেকে SPSA, নমুনাকৃত $F_1(\\gamma,\\beta)$-এ পরামিতিগুলিকে সংখ্যাগতভাবে অপ্টিমাইজ করতে। আপনি কি $\\gamma^ *,\\beta^* $ এর জন্য একই মান খুঁজে পান?\n",
        "\n",
        "4. [অধ্যায় 5.3](#implementation_sec53) -এর ট্রায়াল সার্কিটটি গভীরতার সাথে মিলে যায় $p=1$ এবং সরাসরি হার্ডওয়্যারের সাথে সামঞ্জস্যপূর্ণ হওয়ার লক্ষ্য ছিল।\n",
        "\n",
        "    - Use the routine from exercise 2 to evaluate the cost functions $F_p(\\gamma,\\beta)$ for $p=2,3$. What do you expect to see in the actual Hardware?\n",
        "    - অন্যান্য প্রার্থী তরঙ্গ ফাংশন যেমন রেফ এর হার্ডওয়্যার দক্ষ ansatz হিসাবে ট্রায়াল অবস্থার এই শ্রেণীর সাধারণীকরণ. [4](#references)\n",
        "\n",
        "5. উদাহরণ বিভাগে আলোচনা করা $\\text{MAX 3-SAT}$-এর একটি উদাহরণ বিবেচনা করুন এবং সেই অনুযায়ী $F_p$ গণনা করতে আপনি ব্যবহার করেছেন [বিভাগ 5.4](#implementation_sec54) থেকে cost_function_C(c,G) ফাংশনটি পরিবর্তন করুন। হার্ডওয়্যার দক্ষ অ্যালগরিদম ব্যবহার করে $\\text{MAX 3-SAT}$-এর এই উদাহরণের জন্য QAOA অ্যালগরিদম চালান এবং ফলাফলগুলি বিশ্লেষণ করুন৷ "
      ]
    },
    {
      "cell_type": "markdown",
      "metadata": {
      },
      "source": [
        "## তথ্যসূত্র<a id=\"references\"></a>\n",
        "\n",
        "1. Farhi, Edward, Jeffrey Goldstone, and Sam Gutmann. \"A quantum approximate optimization algorithm.\" arXiv preprint [arXiv:1411.4028 (2014)](https://arxiv.org/abs/1411.4028).\n",
        "2. Goemans, Michel X., and David P. Williamson. [Journal of the ACM (JACM) 42.6 (1995): 1115-1145](http://www-math.mit.edu/~goemans/PAPERS/maxcut-jacm.pdf).\n",
        "3. Garey, Michael R.; David S. Johnson (1979). Computers and Intractability: A Guide to the Theory of NP-Completeness. W. H. Freeman. ISBN 0-7167-1045-5\n",
        "4. Kandala, Abhinav, et al. \"Hardware-efficient variational quantum eigensolver for small molecules and quantum magnets.\" [Nature 549.7671 (2017): 242](https://www.nature.com/articles/nature23879).\n",
        "5. Farhi, Edward, et al. \"Quantum algorithms for fixed qubit architectures.\" arXiv preprint [arXiv:1703.06199 (2017)](https://arxiv.org/abs/1703.06199).\n",
        "6. Spall, J. C. (1992), [IEEE Transactions on Automatic Control, vol. 37(3), pp. 332–341](https://ieeexplore.ieee.org/document/119632).\n",
        "7. Michael Streif and Martin Leib \"Training the quantum approximate optimization algorithm without access to a quantum processing unit\" (2020) [Quantum Sci. Technol. 5 034008](https://doi.org/10.1088/2058-9565/ab8c2b)"
      ]
    },
    {
      "cell_type": "code",
      "execution_count": 10,
      "metadata": {
      },
      "outputs": [
        {
          "data": {
            "text/html": [
              "<h3>Version Information</h3><table><tr><th>Qiskit Software</th><th>Version</th></tr><tr><td>Qiskit</td><td>0.27.0</td></tr><tr><td>Terra</td><td>0.17.4</td></tr><tr><td>Aer</td><td>0.8.2</td></tr><tr><td>Ignis</td><td>0.6.0</td></tr><tr><td>Aqua</td><td>0.9.2</td></tr><tr><td>IBM Q Provider</td><td>0.14.0</td></tr><tr><th>System information</th></tr><tr><td>Python</td><td>3.7.7 (default, May  6 2020, 04:59:01) \n",
              "[Clang 4.0.1 (tags/RELEASE_401/final)]</td></tr><tr><td>OS</td><td>Darwin</td></tr><tr><td>CPUs</td><td>8</td></tr><tr><td>Memory (Gb)</td><td>32.0</td></tr><tr><td colspan='2'>Wed Jul 07 17:00:44 2021 BST</td></tr></table>"
            ],
            "text/plain": [
              "<IPython.core.display.HTML object>"
            ]
          },
          "metadata": {
          },
          "output_type": "display_data"
        }
      ],
      "source": [
        "import qiskit.tools.jupyter\n",
        "%qiskit_version_table"
      ]
    }
  ],
  "metadata": {
    "kernelspec": {
      "display_name": "Python 3",
      "language": "python",
      "name": "python3"
    },
    "language_info": {
      "codemirror_mode": {
        "name": "ipython",
        "version": 3
      },
      "file_extension": ".py",
      "mimetype": "text/x-python",
      "name": "python",
      "nbconvert_exporter": "python",
      "pygments_lexer": "ipython3",
      "version": "3.9"
    }
  },
  "nbformat": 4,
  "nbformat_minor": 4
}
