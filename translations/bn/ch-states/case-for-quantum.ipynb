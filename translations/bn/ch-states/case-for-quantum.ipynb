{
  "cells": [
    {
      "cell_type": "markdown",
      "metadata": {
        "tags": [
          "remove_cell"
        ]
      },
      "source": [
        "# কোয়ান্টাম কম্পিউটারের ক্ষেত্রে"
      ]
    },
    {
      "cell_type": "markdown",
      "metadata": {
      },
      "source": [
        "## 1. যোগ করার জটিলতা<a id=\"adding\"></a>\n",
        "\n",
        "কোয়ান্টাম কম্পিউটারের ক্ষেত্রে, সহজভাবে বলতে গেলে, তারা এমন কিছু সমস্যার সমাধান করতে পারে যা কোনো ক্লাসিক্যাল কম্পিউটার কখনোই পারেনি। এটি কেন তা বোঝার জন্য, আমাদের প্রথমে বিবেচনা করতে হবে যে কিছু সমস্যা সমাধানের জন্য কত গণনামূলক প্রচেষ্টা প্রয়োজন।\n",
        "\n",
        "শুরু করার জন্য, আমরা প্রথম বিভাগে বিবেচিত অ্যালগরিদমটি আবার দেখতে পারি: দুটি সংখ্যা যোগ করা।\n",
        "\n",
        "```code\n",
        "প্রকৃত গণনার সময় ব্যবহার করে এই বিন্দুটি প্রদর্শন করতে, আমরা একটি সাম্প্রতিক উদাহরণ নিতে পারি।$^{1}$ নিম্নলিখিত 829-সংখ্যার সংখ্যাটি বিবেচনা করুন।\n",
        "```\n",
        "\n",
        "দুটি $n$-সংখ্যার সংখ্যা যোগ করা সহজ ক্রিয়াকলাপের একটি সেট দিয়ে করা যেতে পারে, যার প্রতিটিতে কেবল দুটি একক-অঙ্কের সংখ্যা যোগ করা হয়। পদ্ধতির জটিলতা বিশ্লেষণ করার জন্য, আমরা এই মৌলিক সংযোজনগুলির কতগুলি প্রয়োজন এবং এই সংখ্যাটি $n$ এর উপর কীভাবে নির্ভর করে সে সম্পর্কে চিন্তা করতে পারি। আমরা এই নম্বরটিকে $c(n)$ হিসাবে উল্লেখ করব।\n",
        "\n",
        "সবচেয়ে সহজ ক্ষেত্রে, যেখানে আমাদের কোনো সময়ে একটি 1 বহন করতে হবে না, শুধুমাত্র $n$ মৌলিক সংযোজন প্রয়োজন। সবচেয়ে খারাপ ক্ষেত্রে, আমাদের $n$ বহন ক্রিয়াকলাপ সম্পাদন করতে হবে, যার প্রতিটিতে একটি অতিরিক্ত মৌলিক সংযোজন প্রয়োজন হবে। এই বিবেচনাগুলি থেকে, আমরা উপসংহারে আসতে পারি যে $n \\leq c(n) \\leq 2n$।\n",
        "\n",
        "## 2. Big O Notation <a id=\"big-o\"></a>\n",
        "\n",
        "আমরা এই ফলাফলের সংক্ষিপ্তসার বলতে পারি যে $c(n)$ $n$ এর সাথে রৈখিকভাবে বৃদ্ধি পায়। আরও সাধারণভাবে, আমরা বলতে পারি যে $n$ এর একটি রৈখিক ফাংশন পাওয়া যেতে পারে যা $n$ বড় হলে $c(n)$ এর জন্য একটি উপরের সীমা হিসাবে কাজ করে। যেহেতু এটি একটি দীর্ঘ এবং শব্দযুক্ত বাক্য, আমরা আসলে এটি প্রায়শই বলতে চাই না। পরিবর্তে, আমরা 'বিগ ও নোটেশন' ব্যবহার করে এটি আরও কম্প্যাক্টভাবে প্রকাশ করতে পারি।\n",
        "\n",
        "<!-- ::: q-block.reminder -->\n",
        "\n",
        "## অনুস্মারক\n",
        "\n",
        "<summary>বড় হে স্বরলিপি</summary> কিছু উদাহরণের জন্য ফাংশন $f(x)$ এবং $g(x)$ এবং প্যারামিটার $x$, স্টেটমেন্ট $f(x) = O(g(x))$ মানে হল কিছু সসীম সংখ্যা $M&gt;0 আছে $ এবং $x_0$ যেমন <code>$$ f(x) \\leq M g(x) \\forall x&gt;x_0. $$</code>\n",
        "\n",
        "<!-- ::: -->\n",
        "\n",
        "<summary>Big O Notation</summary> কিছু উদাহরণের জন্য ফাংশন $f(x)$ এবং $g(x)$ এবং প্যারামিটার $x$, স্টেটমেন্ট $f(x) = O(g(x))$ মানে হল কিছু সসীম সংখ্যা $M&gt;0 আছে $ এবং $x_0$ যেমন $$ f(x) \\leq M g(x) \\forall x&gt;x_0। $$\n",
        "\n",
        "<figure><img src=\"images/1920px-Comparison_computational_complexity.png\" style=\"max-width: 400px;\" alt=\"অঙ্কন\"><figcaption> বিভিন্ন সময়ের জটিলতার তুলনা। n হল ইনপুট বিটের সংখ্যা, এবং N হল প্রয়োজনীয় অপারেশনের সংখ্যা। [৫]</figcaption></figure>\n",
        "\n",
        "বিগ ও স্বরলিপি দরকারী কারণ এটি আমাদেরকে কীভাবে একটি অ্যালগরিদম স্কেলের জন্য প্রয়োজনীয় সংস্থান/রানটাইম ইনপুট আকারের সাথে তুলনা করতে দেয়, নির্দিষ্ট প্ল্যাটফর্ম থেকে স্বাধীন এবং বিবেচনাধীন অ্যালগরিদম বাস্তবায়ন। নীচে ইনপুট আকার $n$ ফাংশন হিসাবে রানটাইম $N$-এর সাধারণ স্কেলিং ফ্যাক্টরগুলির উদাহরণ রয়েছে; এটা স্পষ্ট যে যথেষ্ট বড় সমস্যা আকারের জন্য $O(a^n)$ অ্যালগরিদমের রানটাইম $O(n^b)$ অ্যালগরিদমের চেয়ে বেশি হবে, যেখানে $a$ এবং $b$ হল ধ্রুবক।\n",
        "\n",
        "এই স্বরলিপির সাহায্যে, উপরে বর্ণিত সম্পত্তিটিকে কেবল $c(n) = O(n)$ হিসাবে প্রকাশ করা হয়েছে। এটি সুনির্দিষ্ট বিষয়ে চিন্তা করার প্রয়োজন ছাড়াই রৈখিক আচরণকে ক্যাপচার করে। অতএব, $c(n) = n$, $c(n) = 2n$, বা অন্য কিছু না হোক, আমরা সহজভাবে বলতে পারি যে $c(n) = O(n)$।\n",
        "\n",
        "আমরা এতক্ষণ যা বিবেচনা করেছি তার মধ্যে একটি লুকানো অনুমান রয়েছে। সংখ্যার সংখ্যা সম্পর্কে কথা বলে, আমরা একটি নির্দিষ্ট সংখ্যা পদ্ধতির ব্যবহার ধরে নিয়েছি। যাইহোক, সংখ্যার সংখ্যা নির্ভর করবে আমরা কোন সংখ্যা পদ্ধতি ব্যবহার করছি, তা দশমিক, বাইনারি বা অন্য কিছু হোক। উদাহরণ স্বরূপ, একটি সংখ্যা প্রকাশ করার জন্য প্রয়োজনীয় $n_2$ বিট সংখ্যাটি একই সংখ্যাকে প্রকাশ করার জন্য প্রয়োজনীয় দশমিক সংখ্যা $n_{10}$ এর সাথে সম্পর্কিত\n",
        "\n",
        "$n_2 = \\left\\lceil \\frac{\\log 10}{ \\log 2} , n_{10} \\right\\rceil \\approx 3.3 , n_{10}.$\n",
        "\n",
        "## যেহেতু এটিও একটি রৈখিক সম্পর্ক, তাই বড় ও স্বরলিপি ব্যবহার করে আমরা কীভাবে জটিলতা প্রকাশ করি তা পরিবর্তন করে না। আমরা সমানভাবে বলতে পারি যে $c(n_2) = O(n_2)$, $c(n_{10}) = O(n_{10})$, এমনকি $c(n_{10}) = O(n_{ 2})$। এই কারণেই আমরা প্রায়শই সংখ্যার সংখ্যা বলতে পারি, $n$, কোন সংখ্যা পদ্ধতি ব্যবহার করা হয় তা নির্দিষ্ট করার প্রয়োজন ছাড়াই।\n",
        "\n",
        "3. জটিলতা তত্ত্ব<a id=\"complexity\"></a>\n",
        "\n",
        "জটিলতা তত্ত্ব হল যেকোনো অ্যালগরিদম চালানোর জন্য প্রয়োজনীয় গণনামূলক প্রচেষ্টার অধ্যয়ন। একটি প্রদত্ত সমস্যা সমাধানের জন্য সর্বোত্তম সম্ভাব্য অ্যালগরিদম বিবেচনা করে, আমরা এই সমস্যা সমাধানের অন্তর্নিহিত গণনামূলক প্রচেষ্টাও অধ্যয়ন করতে পারি। উপরন্তু আমরা ইতিমধ্যে সর্বোত্তম অ্যালগরিদম জানি, এবং তাই জানি যে এটি $O(n)$ জটিলতার সাথে একটি সমস্যা।\n",
        "\n",
        "গুণন খুব সহজ নয়. দুটি $n$-অঙ্কের সংখ্যাকে গুণ করার জন্য আপনি স্কুলে যে অ্যালগরিদম শিখেছেন তার জন্য $O(n^2)$ মৌলিক ক্রিয়াকলাপগুলির প্রয়োজন হবে, যেমন একক-অঙ্কের যোগ এবং গুণ। যদিও কম অ্যাসিম্পোটিক জটিলতা সহ অ্যালগরিদম পাওয়া গেছে, $O(n)$ জটিলতার সাথে গুণন সম্পাদন করা ব্যাপকভাবে অসম্ভব বলে বিবেচিত হয়।\n",
        "\n",
        "তবুও, গুণন সবচেয়ে জটিল সমস্যা থেকে অনেক দূরে। অনেক বেশি জটিলতার সাথে একটি সমস্যার উদাহরণ হল ফ্যাক্টরাইজেশন: একটি $n$-সংখ্যার সংখ্যা গ্রহণ করা এবং এর প্রধান কারণগুলি খুঁজে পাওয়া। এই ক্ষেত্রে সবচেয়ে পরিচিত অ্যালগরিদমের একটি জটিলতা রয়েছে যা $O\\left(e^{n^{1/3}}\\right)$ থেকে খারাপ। এখানে সূচকের অর্থ হল জটিলতা খুব দ্রুত বৃদ্ধি পায় এবং ফ্যাক্টরাইজেশনকে সমাধান করা খুব কঠিন সমস্যা করে তোলে।"
      ]
    },
    {
      "cell_type": "code",
      "execution_count": 1,
      "metadata": {
      },
      "outputs": [

      ],
      "source": [
        "rsa_250 = 2140324650240744961264423072839333563008614715144755017797754920881418023447140136643345519095804679610992851872470914587687396261921557363047454770520805119056493106687691590019759405693457452230589325976697471681738069364894699871578494975937497937"
      ]
    },
    {
      "cell_type": "markdown",
      "metadata": {
      },
      "source": [
        "আপনি যদি আপনার কম্পিউটার ব্যবহার করে এই আকারের সংখ্যা যোগ বা গুণ করার চেষ্টা করেন, আপনি দেখতে পাবেন যে এটি এই ধরনের সমস্যাগুলি খুব দ্রুত সমাধান করতে পারে। কোর-সেকেন্ডের সংখ্যা পেতে আপনার কম্পিউটারের প্রসেসরের সংখ্যার সংখ্যা দিয়ে গুণ করলে, আপনি নিশ্চিত যে 1 কোর-সেকেন্ডের চেয়ে অনেক কম প্রয়োজন।\n",
        "\n",
        "যাইহোক, এই সংখ্যার ফ্যাক্টরাইজেশন সম্পাদনের জন্য একটি সুপার কম্পিউটার এবং প্রায় 2700 কোর-বছর প্রয়োজন, যা শেষ পর্যন্ত নিম্নলিখিত দুটি কারণের ফল দেয়।"
      ]
    },
    {
      "cell_type": "code",
      "execution_count": 2,
      "metadata": {
      },
      "outputs": [
        {
          "data": {
            "text/plain": [
              "2140324650240744961264423072839333563008614715144755017797754920881418023447140136643345519095804679610992851872470914587687396261921557363047454770520805119056493106687691590019759405693457452230589325976697471681738069364894699871578494975937497937"
            ]
          },
          "execution_count": 2,
          "metadata": {
          },
          "output_type": "execute_result"
        }
      ],
      "source": [
        "p = 64135289477071580278790190170577389084825014742943447208116859632024532344630238623598752668347708737661925585694639798853367\n",
        "q = 33372027594978156556226010605355114227940760344767554666784520987023841729210037080257448673296881877565718986258036932062711\n",
        "p*q"
      ]
    },
    {
      "cell_type": "markdown",
      "metadata": {
      },
      "source": [
        "বৃহত্তর সংখ্যার ফ্যাক্টরাইজেশনের জন্য, আমরা সহজেই এমন একটি বিন্দুতে পৌঁছাতে পারি যেখানে মহাবিশ্বের বয়সের জন্য একটি গ্রহ-আকারের সুপার কম্পিউটার চালানোর প্রয়োজন হবে। স্পষ্টতই, এই ধরনের কোনো সমস্যা কার্যত অসম্ভব।\n",
        "\n",
        "এখন পর্যন্ত আমরা $n$-সংখ্যার সংখ্যায় শুধুমাত্র গাণিতিক ক্রিয়াকলাপ বিবেচনা করেছি, জটিলতাকে সাধারণ একক-সংখ্যার ক্রিয়াকলাপের সংখ্যা হিসাবে প্রকাশ করা প্রয়োজন। যাইহোক, জটিলতা তত্ত্বটি যেকোন ধরনের সমস্যার জন্য যেকোন কম্পিউটেশনাল পদ্ধতি বিশ্লেষণ করতে ব্যবহার করা যেতে পারে, তা ডাটাবেস অনুসন্ধান করা, গ্রাফিক্স রেন্ডার করা, গতিবিদ্যার অনুকরণ করা বা *জেল্ডার লেজেন্ডে* একটি অন্ধকূপ অতিক্রম করা। প্রতিটি ক্ষেত্রে, আমরা একটি প্যারামিটার বা প্যারামিটারের সেট খুঁজে পেতে পারি যা আমাদের ইনপুট আকার হিসাবে কাজ করে এবং বড় O স্বরলিপি ব্যবহার করে এই ইনপুট আকারের পরিপ্রেক্ষিতে জটিলতা প্রকাশ করে। $N$ এন্ট্রিগুলির একটি ডাটাবেস অনুসন্ধানের জন্য, উদাহরণস্বরূপ, জটিলতা হল $O(N)$৷\n",
        "\n",
        "আনুষ্ঠানিকভাবে, একটি অ্যালগরিদমের জটিলতা সংজ্ঞায়িত করা নির্ভর করে আমরা যে গণনার জন্য সঠিক তাত্ত্বিক মডেল ব্যবহার করছি তার উপর। প্রতিটি মডেলের মৌলিক ক্রিয়াকলাপগুলির একটি সেট রয়েছে, যা আদিম ক্রিয়াকলাপ হিসাবে পরিচিত, যার সাহায্যে যে কোনও অ্যালগরিদম প্রকাশ করা যায়। বুলিয়ান সার্কিটের জন্য, যেমন আমরা প্রথম বিভাগে বিবেচনা করেছি, আদিম ক্রিয়াকলাপগুলি হল লজিক গেট। টিউরিং মেশিনের জন্য, অ্যালান টুরিং দ্বারা প্রস্তাবিত কম্পিউটারের একটি অনুমানমূলক রূপ, আমরা কল্পনা করি যে একটি ডিভাইস একটি টেপে সঞ্চিত তথ্যের মধ্য দিয়ে যাচ্ছে এবং হেরফের করছে। RAM মডেলটিতে আদিম ক্রিয়াকলাপের আরও জটিল সেট রয়েছে এবং আমরা প্রতিদিন যে কম্পিউটারগুলি ব্যবহার করি তার একটি আদর্শ রূপ হিসাবে কাজ করে। এগুলি সবই ডিজিটাল গণনার মডেল, বিচ্ছিন্ন মানগুলির বিচ্ছিন্ন হেরফের উপর ভিত্তি করে। তারা একে অপরের থেকে আলাদা বলে মনে হতে পারে, এটি দেখা যাচ্ছে যে তাদের প্রত্যেকের পক্ষে অন্যদের অনুকরণ করা খুব সহজ। এর মানে হল যে বেশিরভাগ ক্ষেত্রে গণনাগত জটিলতা এই মডেলগুলির মধ্যে কোনটি ব্যবহার করা হয় তার উপর উল্লেখযোগ্যভাবে নির্ভর করে না। বিশেষ করে RAM মডেল বা টুরিং মেশিনের জটিলতা বলার পরিবর্তে, আমরা তাই সহজভাবে ডিজিটাল কম্পিউটারের জটিলতার কথা বলতে পারি।"
      ]
    },
    {
      "cell_type": "markdown",
      "metadata": {
      },
      "source": [
        "## 4. ডিজিটাল কম্পিউটেশনের বাইরে<a id=\"beyond\"></a>\n",
        "\n",
        "যদিও ডিজিটাল কম্পিউটার এখন প্রভাবশালী, তারা গণনার একমাত্র রূপ নয়। অ্যানালগ কম্পিউটারগুলি অতীতে ব্যাপকভাবে অধ্যয়ন এবং ব্যবহৃত হয়েছিল। ডিজিটাল কম্পিউটারের বিচ্ছিন্ন মানগুলির বিপরীতে, এগুলি ক্রমাগত পরিবর্তিত পরামিতিগুলির সুনির্দিষ্ট ম্যানিপুলেশনের উপর ভিত্তি করে। এটি কখনও কখনও দাবি করা হয়েছে যে এই জাতীয় ডিভাইসগুলি ডিজিটাল কম্পিউটারগুলির জন্য জটিল সমস্যাগুলি দ্রুত সমাধান করতে পারে। যাইহোক, এই ধরনের দাবি বাস্তবায়িত হয় না. এনালগ কম্পিউটারের জন্য একটি প্রধান বাধা হ'ল নির্বিচারে উচ্চ নির্ভুলতার সাথে ডিভাইসগুলি তৈরি করতে অক্ষমতা। ডিজিটাল কম্পিউটারে, বিচক্ষণতার মানে হল যে ত্রুটিগুলি লক্ষণীয় হওয়ার জন্য অপেক্ষাকৃত বড় হতে হবে এবং এই জাতীয় ত্রুটিগুলি সনাক্তকরণ এবং সংশোধন করার পদ্ধতিগুলি তখন প্রয়োগ করা যেতে পারে। এনালগ কম্পিউটারে, যদিও, ত্রুটিগুলি নির্বিচারে ছোট এবং সনাক্ত করা অসম্ভব হতে পারে, কিন্তু তবুও তাদের প্রভাবগুলি একটি গণনাকে নষ্ট করে দিতে পারে।\n",
        "\n",
        "যদি কেউ গণনার একটি আদর্শ মডেল প্রস্তাব করে, তবে এটি একটি এনালগ কম্পিউটারের সূক্ষ্ম ম্যানিপুলেশনের সাথে একটি ডিজিটাল কম্পিউটারের দৃঢ়তাকে একত্রিত করার চেষ্টা করতে পারে। এটি অর্জনের জন্য আমরা কোয়ান্টাম মেকানিক্সের দিকে তাকাতে পারি। আমরা ইতিমধ্যেই দেখেছি যে qubits হল একটি সিস্টেম যার বিচ্ছিন্ন আউটপুট `0` এবং `1` , এবং এখনও এমন অবস্থায় থাকতে পারে যেগুলি শুধুমাত্র ক্রমাগত প্যারামিটার দ্বারা বর্ণনা করা যেতে পারে। এটি 'তরঙ্গ-কণা' দ্বৈততার সুপরিচিত ধারণার একটি বিশেষ উদাহরণ যা কোয়ান্টাম সিস্টেমের আদর্শ। এগুলিকে সম্পূর্ণরূপে পৃথক বা অবিচ্ছিন্ন হিসাবে বর্ণনা করা যায় না, বরং দুটির সংমিশ্রণ। যেমন আইনস্টাইন বলেছেন,$^{2}$\n",
        "\n",
        "> 'এটা মনে হচ্ছে আমাদের কখনও কখনও একটি তত্ত্ব এবং কখনও কখনও অন্যটি ব্যবহার করতে হবে, যখন কখনও কখনও আমরা উভয়ই ব্যবহার করতে পারি। আমরা একটি নতুন ধরনের অসুবিধা সম্মুখীন হয়. বাস্তবতার দুটি বিপরীত চিত্র আমাদের আছে; পৃথকভাবে তাদের কেউই ঘটনাটি সম্পূর্ণরূপে ব্যাখ্যা করে না...কিন্তু তারা একসাথে করে।'\n",
        "\n",
        "একটি কোয়ান্টাম কম্পিউটার, যার আদিম ক্রিয়াকলাপগুলি কিউবিটগুলিতে প্রয়োগ করা গেট, তাই অ্যানালগ বা ডিজিটাল নয়, তবে অনন্য কিছু। পরবর্তী অধ্যায়ে আমরা এই অনন্য প্রকৃতির পরিণতি অন্বেষণ করব। আমরা দেখব যে কোয়ান্টাম কম্পিউটারগুলি ডিজিটাল কম্পিউটারগুলির থেকে আমূল ভিন্ন জটিলতার সাথে সমস্যার সমাধান করতে পারে। প্রকৃতপক্ষে, কোয়ান্টাম কম্পিউটিং হল একমাত্র পরিচিত প্রযুক্তি যা কিছু কাজের জন্য ধ্রুপদী কম্পিউটারের চেয়ে দ্রুততর হতে পারে, সম্ভাব্যভাবে কয়েক বছর থেকে মিনিটে গণনার সময় কমিয়ে দেয়। কিভাবে কোয়ান্টাম ত্রুটি সংশোধন কোনো অসম্পূর্ণতার প্রভাব দূর করতে পারে তাও আমরা অন্বেষণ করব।"
      ]
    },
    {
      "cell_type": "markdown",
      "metadata": {
      },
      "source": [
        "## 5. কখন একটি কোয়ান্টাম কম্পিউটার ব্যবহার করবেন<a id=\"when\"></a>\n",
        "\n",
        "কিউবিট এবং কোয়ান্টাম গেট দিয়ে, আমরা নতুন অ্যালগরিদম ডিজাইন করতে পারি যা ডিজিটাল এবং অ্যানালগ ক্লাসিক্যাল থেকে মৌলিকভাবে আলাদা। এইভাবে, আমরা ক্লাসিক্যাল কম্পিউটারের জন্য জটিল সমস্যাগুলির সমাধান খুঁজে পাওয়ার আশা করি।\n",
        "\n",
        "একটি উপায় যা এটি করা যেতে পারে যখন আমাদের কিছু ফাংশন থাকে যার জন্য আমরা একটি বৈশ্বিক সম্পত্তি নির্ধারণ করতে চাই। উদাহরণস্বরূপ, যদি আমরা কিছু প্যারামিটারের মান খুঁজে পেতে চাই $x$ যার জন্য কিছু ফাংশন $f(x)$ একটি সর্বনিম্ন, অথবা যদি $f(x)$ পর্যায়ক্রমিক হয়। একটি ডিজিটাল কম্পিউটারে একটি অ্যালগরিদম এমন একটি প্রক্রিয়া ব্যবহার করতে পারে যেখানে বৈশ্বিক সম্পত্তি সম্পর্কে পর্যাপ্ত তথ্য পাওয়ার জন্য বিভিন্ন ধরনের ইনপুটের জন্য $f(x)$ গণনা করা হয়। একটি কোয়ান্টাম কম্পিউটারের মাধ্যমে, যাইহোক, আমরা যে সুপারপজিশন স্টেট তৈরি করতে পারি তার মানে হল যে ফাংশনটি একই সাথে অনেক সম্ভাব্য ইনপুটগুলিতে প্রয়োগ করা যেতে পারে। এর মানে এই নয় যে আমরা সমস্ত সম্ভাব্য আউটপুট অ্যাক্সেস করতে পারি যেহেতু এই জাতীয় অবস্থার পরিমাপ কেবল আমাদের একটি একক ফলাফল দেয়। যাইহোক, আমরা পরিবর্তে একটি কোয়ান্টাম হস্তক্ষেপ প্রভাব প্ররোচিত করতে চাই, যা আমাদের প্রয়োজনীয় বৈশ্বিক সম্পত্তি প্রকাশ করবে।\n",
        "\n",
        "এই সাধারণ বিবরণটি ইতিমধ্যেই আবিষ্কৃত অনেক কোয়ান্টাম অ্যালগরিদমের কার্যকারিতাকে চিত্রিত করে। একটি বিশিষ্ট উদাহরণ হল গ্রোভারের অ্যালগরিদম, যা $N$ আইটেমগুলির মাধ্যমে $O(N)$ থেকে $O(N^{1/2})$ পর্যন্ত অনুসন্ধানের জটিলতাকে হ্রাস করে৷ এই চতুর্মুখী গতি অনেক অ্যাপ্লিকেশনে কাজের সাথে কার্যকর হতে পারে যেগুলি একটি অসংগঠিত অনুসন্ধান হিসাবে প্রকাশ করা যেতে পারে, যেমন অপ্টিমাইজেশান সমস্যা এবং মেশিন লার্নিং।"
      ]
    },
    {
      "cell_type": "code",
      "execution_count": 7,
      "metadata": {
        "tags": [
          "remove_input"
        ]
      },
      "outputs": [
        {
          "data": {
            "text/html": [
              "<figure><!DOCTYPE html>\n",
              "<html lang=\"en\">\n",
              "  <head>\n",
              "    <meta charset=\"utf-8\">\n",
              "    <title>Bokeh Application</title>\n",
              "    <script type=\"text/javascript\" src=\"https://cdn.bokeh.org/bokeh/release/bokeh-3.0.2.min.js\"></script>\n",
              "    <script type=\"text/javascript\" src=\"https://cdn.bokeh.org/bokeh/release/bokeh-widgets-3.0.2.min.js\"></script>\n",
              "    <script type=\"text/javascript\">\n",
              "        Bokeh.set_log_level(\"info\");\n",
              "    </script>\n",
              "  </head>\n",
              "  <body>\n",
              "    <div id=\"47b77a99-8e98-4a3a-93aa-5ba3635eb8ba\" data-root-id=\"p1745\" style=\"display: contents;\"></div>\n",
              "  \n",
              "    <script type=\"application/json\" id=\"p1972\">\n",
              "      {\"150bfda7-8549-464a-96b4-9df31c0b92f3\":{\"version\":\"3.0.2\",\"title\":\"Bokeh Application\",\"defs\":[],\"roots\":[{\"type\":\"object\",\"name\":\"Column\",\"id\":\"p1745\",\"attributes\":{\"children\":[{\"type\":\"object\",\"name\":\"Figure\",\"id\":\"p1655\",\"attributes\":{\"width\":800,\"height\":400,\"sizing_mode\":\"scale_width\",\"x_range\":{\"type\":\"object\",\"name\":\"Range1d\",\"id\":\"p1664\",\"attributes\":{\"end\":500}},\"y_range\":{\"type\":\"object\",\"name\":\"Range1d\",\"id\":\"p1666\",\"attributes\":{\"end\":500}},\"x_scale\":{\"type\":\"object\",\"name\":\"LinearScale\",\"id\":\"p1668\"},\"y_scale\":{\"type\":\"object\",\"name\":\"LinearScale\",\"id\":\"p1670\"},\"title\":{\"type\":\"object\",\"name\":\"Title\",\"id\":\"p1663\"},\"renderers\":[{\"type\":\"object\",\"name\":\"GlyphRenderer\",\"id\":\"p1697\",\"attributes\":{\"data_source\":{\"type\":\"object\",\"name\":\"ColumnDataSource\",\"id\":\"p1649\",\"attributes\":{\"selected\":{\"type\":\"object\",\"name\":\"Selection\",\"id\":\"p1650\",\"attributes\":{\"indices\":[],\"line_indices\":[]}},\"selection_policy\":{\"type\":\"object\",\"name\":\"UnionRenderers\",\"id\":\"p1651\"},\"data\":{\"type\":\"map\",\"entries\":[[\"x\",{\"type\":\"ndarray\",\"array\":{\"type\":\"bytes\",\"data\":\"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\"},\"shape\":[500],\"dtype\":\"int32\",\"order\":\"little\"}],[\"y\",{\"type\":\"ndarray\",\"array\":{\"type\":\"bytes\",\"data\":\"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\"},\"shape\":[500],\"dtype\":\"int32\",\"order\":\"little\"}]]}}},\"view\":{\"type\":\"object\",\"name\":\"CDSView\",\"id\":\"p1698\",\"attributes\":{\"filter\":{\"type\":\"object\",\"name\":\"AllIndices\",\"id\":\"p1699\"}}},\"glyph\":{\"type\":\"object\",\"name\":\"Line\",\"id\":\"p1694\",\"attributes\":{\"x\":{\"type\":\"field\",\"field\":\"x\"},\"y\":{\"type\":\"field\",\"field\":\"y\"},\"line_color\":\"blue\",\"line_alpha\":0.6,\"line_width\":3}},\"nonselection_glyph\":{\"type\":\"object\",\"name\":\"Line\",\"id\":\"p1695\",\"attributes\":{\"x\":{\"type\":\"field\",\"field\":\"x\"},\"y\":{\"type\":\"field\",\"field\":\"y\"},\"line_color\":\"blue\",\"line_alpha\":0.1,\"line_width\":3}},\"muted_glyph\":{\"type\":\"object\",\"name\":\"Line\",\"id\":\"p1696\",\"attributes\":{\"x\":{\"type\":\"field\",\"field\":\"x\"},\"y\":{\"type\":\"field\",\"field\":\"y\"},\"line_color\":\"blue\",\"line_alpha\":0.2,\"line_width\":3}}}},{\"type\":\"object\",\"name\":\"GlyphRenderer\",\"id\":\"p1721\",\"attributes\":{\"data_source\":{\"type\":\"object\",\"name\":\"ColumnDataSource\",\"id\":\"p1652\",\"attributes\":{\"selected\":{\"type\":\"object\",\"name\":\"Selection\",\"id\":\"p1653\",\"attributes\":{\"indices\":[],\"line_indices\":[]}},\"selection_policy\":{\"type\":\"object\",\"name\":\"UnionRenderers\",\"id\":\"p1654\"},\"data\":{\"type\":\"map\",\"entries\":[[\"x\",{\"type\":\"ndarray\",\"array\":{\"type\":\"bytes\",\"data\":\"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\"},\"shape\":[500],\"dtype\":\"int32\",\"order\":\"little\"}],[\"y\",{\"type\":\"ndarray\",\"array\":{\"type\":\"bytes\",\"data\":\"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\"},\"shape\":[500],\"dtype\":\"float64\",\"order\":\"little\"}]]}}},\"view\":{\"type\":\"object\",\"name\":\"CDSView\",\"id\":\"p1722\",\"attributes\":{\"filter\":{\"type\":\"object\",\"name\":\"AllIndices\",\"id\":\"p1723\"}}},\"glyph\":{\"type\":\"object\",\"name\":\"Line\",\"id\":\"p1718\",\"attributes\":{\"x\":{\"type\":\"field\",\"field\":\"x\"},\"y\":{\"type\":\"field\",\"field\":\"y\"},\"line_color\":\"red\",\"line_alpha\":0.6,\"line_width\":3}},\"nonselection_glyph\":{\"type\":\"object\",\"name\":\"Line\",\"id\":\"p1719\",\"attributes\":{\"x\":{\"type\":\"field\",\"field\":\"x\"},\"y\":{\"type\":\"field\",\"field\":\"y\"},\"line_color\":\"red\",\"line_alpha\":0.1,\"line_width\":3}},\"muted_glyph\":{\"type\":\"object\",\"name\":\"Line\",\"id\":\"p1720\",\"attributes\":{\"x\":{\"type\":\"field\",\"field\":\"x\"},\"y\":{\"type\":\"field\",\"field\":\"y\"},\"line_color\":\"red\",\"line_alpha\":0.2,\"line_width\":3}}}}],\"toolbar\":{\"type\":\"object\",\"name\":\"Toolbar\",\"id\":\"p1662\",\"attributes\":{\"tools\":[{\"type\":\"object\",\"name\":\"ResetTool\",\"id\":\"p1686\"},{\"type\":\"object\",\"name\":\"SaveTool\",\"id\":\"p1687\"}]}},\"left\":[{\"type\":\"object\",\"name\":\"LinearAxis\",\"id\":\"p1679\",\"attributes\":{\"ticker\":{\"type\":\"object\",\"name\":\"BasicTicker\",\"id\":\"p1682\",\"attributes\":{\"mantissas\":[1,2,5]}},\"formatter\":{\"type\":\"object\",\"name\":\"BasicTickFormatter\",\"id\":\"p1680\"},\"axis_label\":\"Time Taken to Find Solution\",\"major_label_policy\":{\"type\":\"object\",\"name\":\"AllLabels\",\"id\":\"p1681\"}}}],\"below\":[{\"type\":\"object\",\"name\":\"LinearAxis\",\"id\":\"p1672\",\"attributes\":{\"ticker\":{\"type\":\"object\",\"name\":\"BasicTicker\",\"id\":\"p1675\",\"attributes\":{\"mantissas\":[1,2,5]}},\"formatter\":{\"type\":\"object\",\"name\":\"BasicTickFormatter\",\"id\":\"p1673\"},\"axis_label\":\"Size of Problem\",\"major_label_policy\":{\"type\":\"object\",\"name\":\"AllLabels\",\"id\":\"p1674\"}}}],\"center\":[{\"type\":\"object\",\"name\":\"Grid\",\"id\":\"p1678\",\"attributes\":{\"axis\":{\"id\":\"p1672\"}}},{\"type\":\"object\",\"name\":\"Grid\",\"id\":\"p1685\",\"attributes\":{\"dimension\":1,\"axis\":{\"id\":\"p1679\"}}},{\"type\":\"object\",\"name\":\"Legend\",\"id\":\"p1713\",\"attributes\":{\"location\":\"top_left\",\"items\":[{\"type\":\"object\",\"name\":\"LegendItem\",\"id\":\"p1714\",\"attributes\":{\"label\":{\"type\":\"value\",\"value\":\"Classical Search O(N)\"},\"renderers\":[{\"id\":\"p1697\"}]}},{\"type\":\"object\",\"name\":\"LegendItem\",\"id\":\"p1742\",\"attributes\":{\"label\":{\"type\":\"value\",\"value\":\"Quantum Search O(\\u221aN)\"},\"renderers\":[{\"id\":\"p1721\"}]}}]}}]}},{\"type\":\"object\",\"name\":\"Slider\",\"id\":\"p1744\",\"attributes\":{\"js_property_callbacks\":{\"type\":\"map\",\"entries\":[[\"change:value\",[{\"type\":\"object\",\"name\":\"CustomJS\",\"id\":\"p1743\",\"attributes\":{\"args\":{\"type\":\"map\",\"entries\":[[\"source\",{\"id\":\"p1652\"}]]},\"code\":\"\\n        var data = source.data;\\n        var f = (10-cb_obj.value)*2 + 3\\n        var x = data['x']\\n        var y = data['y']\\n        for (var i = 0; i &lt; x.length; i++) {\\n            y[i] = f*Math.sqrt(x[i])\\n        }\\n        source.change.emit();\\n    \"}}]]]},\"title\":\"Relative Speed of Quantum Computer\",\"show_value\":false,\"start\":1.0,\"end\":10.0,\"value\":7.5,\"step\":0.1}}]}}]}}\n",
              "    </script>\n",
              "    <script type=\"text/javascript\">\n",
              "      (function() {\n",
              "        const fn = function() {\n",
              "          Bokeh.safely(function() {\n",
              "            (function(root) {\n",
              "              function embed_document(root) {\n",
              "              const docs_json = document.getElementById('p1972').textContent;\n",
              "              const render_items = [{\"docid\":\"150bfda7-8549-464a-96b4-9df31c0b92f3\",\"roots\":{\"p1745\":\"47b77a99-8e98-4a3a-93aa-5ba3635eb8ba\"},\"root_ids\":[\"p1745\"]}];\n",
              "              root.Bokeh.embed.embed_items(docs_json, render_items);\n",
              "              }\n",
              "              if (root.Bokeh !== undefined) {\n",
              "                embed_document(root);\n",
              "              } else {\n",
              "                let attempts = 0;\n",
              "                const timer = setInterval(function(root) {\n",
              "                  if (root.Bokeh !== undefined) {\n",
              "                    clearInterval(timer);\n",
              "                    embed_document(root);\n",
              "                  } else {\n",
              "                    attempts++;\n",
              "                    if (attempts > 100) {\n",
              "                      clearInterval(timer);\n",
              "                      console.log(\"Bokeh: ERROR: Unable to run BokehJS code because BokehJS library is missing\");\n",
              "                    }\n",
              "                  }\n",
              "                }, 10, root)\n",
              "              }\n",
              "            })(window);\n",
              "          });\n",
              "        };\n",
              "        if (document.readyState != \"loading\") fn();\n",
              "        else document.addEventListener(\"DOMContentLoaded\", fn);\n",
              "      })();\n",
              "    </script>\n",
              "  </body>\n",
              "</html><figcaption>\n",
              "Comparing performance of algorithms across different platforms is difficult. What we can tell (through big-O-notation) is \n",
              "despite the difference in speeds between our classical and quantum computers, for a large enough problem, the quantum search \n",
              "algorithm will always out-perform the classical search algorithm.</figcaption></figure>"
            ],
            "text/plain": [
              "<IPython.core.display.HTML object>"
            ]
          },
          "execution_count": 7,
          "metadata": {
          },
          "output_type": "execute_result"
        }
      ],
      "source": [
        "# This code is to create the interactive figure\n",
        "from bokeh.layouts import column\n",
        "from bokeh.models import ColumnDataSource, CustomJS, Slider\n",
        "from bokeh.plotting import figure, show\n",
        "from bokeh.embed import file_html\n",
        "from bokeh.resources import CDN\n",
        "import numpy as np\n",
        "import IPython\n",
        "\n",
        "x = np.arange(0,500)\n",
        "y_linear = x\n",
        "y_sqrt = 7.5*np.sqrt(x)\n",
        "\n",
        "linear_source = ColumnDataSource(data=dict(x=x, y=y_linear))\n",
        "sqrt_source = ColumnDataSource(data=dict(x=x, y=y_sqrt))\n",
        "\n",
        "plot = figure(\n",
        "              height=400, \n",
        "              width=800,\n",
        "              sizing_mode=\"scale_width\",\n",
        "              tools=\"reset,save\",\n",
        "              x_range=[0, 500], y_range=[0, 500], \n",
        "              x_axis_label=\"Size of Problem\",\n",
        "              y_axis_label=\"Time Taken to Find Solution\")\n",
        "plot.line('x', 'y', source=linear_source, line_width=3, line_alpha=0.6, color=\"blue\", legend_label=\"Classical Search O(N)\")\n",
        "plot.line('x', 'y', source=sqrt_source, line_width=3, line_alpha=0.6, color=\"red\", legend_label=\"Quantum Search O(√N)\")\n",
        "plot.legend.location = \"top_left\"\n",
        "\n",
        "callback = CustomJS(args=dict(source=sqrt_source), code=\"\"\"\n",
        "        var data = source.data;\n",
        "        var f = (10-cb_obj.value)*2 + 3\n",
        "        var x = data['x']\n",
        "        var y = data['y']\n",
        "        for (var i = 0; i < x.length; i++) {\n",
        "            y[i] = f*Math.sqrt(x[i])\n",
        "        }\n",
        "        source.change.emit();\n",
        "    \"\"\")\n",
        "\n",
        "speed_slider = Slider(title=\"Relative Speed of Quantum Computer\", value=7.5, start=1.0, end=10.0, step=0.1, show_value=False)\n",
        "speed_slider.js_on_change('value', callback)\n",
        "\n",
        "layout = column(plot, speed_slider)\n",
        "\n",
        "caption = \"\"\"\n",
        "Comparing performance of algorithms across different platforms is difficult. What we can tell (through big-O-notation) is \n",
        "despite the difference in speeds between our classical and quantum computers, for a large enough problem, the quantum search \n",
        "algorithm will always out-perform the classical search algorithm.\"\"\"\n",
        "\n",
        "html_repr = file_html(layout, CDN)\n",
        "html_fig = \"<figure>{0}<figcaption>{1}</figcaption></figure>\".format(html_repr, caption)\n",
        "IPython.display.HTML(html_fig)"
      ]
    },
    {
      "cell_type": "markdown",
      "metadata": {
      },
      "source": [
        "শোর অ্যালগরিদমের সাথে আরও বেশি চিত্তাকর্ষক গতি পাওয়া যায়, যা ফ্যাক্টরাইজেশন সমস্যার কেন্দ্রে পর্যায়ক্রমিক ফাংশন বিশ্লেষণ করে। এটি জটিলতা $O(n^3)$ সহ $n$-সংখ্যার ফ্যাক্টরিংয়ের জন্য একটি কোয়ান্টাম সমাধানের অনুমতি দেয়। ডিজিটাল কম্পিউটারের জটিলতার তুলনায় এটি একটি সুপারপলিনোমিয়াল স্পিডআপ, যা $O\\left(e^{n^{1/3}}\\right)$ এর চেয়েও খারাপ।\n",
        "\n",
        "কোয়ান্টাম অ্যালগরিদমের আরেকটি পদ্ধতি হল কোয়ান্টাম সমস্যা সমাধানের জন্য কোয়ান্টাম কম্পিউটার ব্যবহার করা। যেমনটি আমরা পরের অধ্যায়ে দেখব, একটি কোয়ান্টাম অবস্থা প্রকাশ করার জন্য প্রচুর পরিমাণ তথ্যের প্রয়োজন হয় যা কিউবিট সংখ্যার সাথে তাত্পর্যপূর্ণভাবে স্কেল করে। শুধুমাত্র $n$ qubits এর অবস্থা লিখে রাখা তাই $n$ বৃদ্ধির সাথে সাথে ডিজিটাল কম্পিউটারের জন্য একটি জটিল কাজ হয়ে ওঠে। যাইহোক, একটি কোয়ান্টাম কম্পিউটারের জন্য একই কাজ করার জন্য আমাদের শুধু $n$ qubits দরকার। কোয়ান্টাম অবস্থার প্রকাশ এবং পরিচালনা করার এই প্রাকৃতিক ক্ষমতা আমাদেরকে অণু এবং মৌলিক কণার মতো আগ্রহের কোয়ান্টাম সিস্টেমগুলি অধ্যয়ন করতে এবং আরও ভালভাবে বুঝতে দেয়।\n",
        "\n",
        "বিভিন্ন শিল্পে কোয়ান্টাম অ্যালগরিদম প্রয়োগ করা এবং অভিযোজিত করা তাই ব্যবসায় এবং বিজ্ঞানে বিঘ্নিত ব্যবহারের ক্ষেত্রে সক্ষম করার প্রতিশ্রুতি রয়েছে। এর মধ্যে রয়েছে ওষুধ আবিষ্কার, মেশিন লার্নিং, উপকরণ আবিষ্কার, বিকল্প মূল্য নির্ধারণ, প্রোটিন ভাঁজ করা এবং সাপ্লাই চেইন। ডেটাসেট লোড করা হবে। কোয়ান্টাম সুবিধার জন্য, একটি প্রদত্ত সমস্যার উত্তরগুলিকে দৃঢ়ভাবে নির্ভর করতে হবে কাঠামোর সাথে স্বাধীনতার অনেকগুলি বিঘ্নিত ডিগ্রীগুলির উপর দৃঢ়ভাবে নির্ভর করে যাতে কোয়ান্টাম মেকানিক্স সমস্ত পথ অতিক্রম না করেই একটি সমাধানে বিবর্তিত হয়। উল্লেখ্য, যাইহোক, কোয়ান্টাম কম্পিউটারের জন্য 'সহজ' সমস্যাগুলির মধ্যে সুনির্দিষ্ট সম্পর্ক (বহুপদে সমাধানযোগ্য) এবং অন্যান্য জটিলতা-তাত্ত্বিক ক্লাস এখনও একটি উন্মুক্ত প্রশ্ন৷$^{4}$\n",
        "\n",
        "কোয়ান্টাম অ্যালগরিদমগুলি কীভাবে একটি অনন্য উপায়ে গণনা সম্পাদন করতে পারে তার এটি একটি স্বাদ। এই পন্থা সম্পর্কে আরও বিশদ পরবর্তী অধ্যায়গুলিতে পাওয়া যাবে। কিন্তু প্রথমে আমাদের একক কিউবিটের বাইরে দেখতে হবে এবং আমাদের প্রয়োজন হবে এমন কোয়ান্টাম গেটগুলির সম্পূর্ণ সেট বোঝার জন্য কিছু সময় ব্যয় করতে হবে। এটি পরবর্তী অধ্যায়ের ফোকাস।"
      ]
    },
    {
      "cell_type": "markdown",
      "metadata": {
      },
      "source": [
        "## 6. তথ্যসূত্র<a id=\"references\"></a>\n",
        "\n",
        "1. https://lists.gforge.inria.fr/pipermail/cado-nfs-discuss/2020-February/001166.html\n",
        "2. Albert Einstein, Leopold Infeld (1938). The Evolution of Physics: The Growth of Ideas from Early Concepts to Relativity and Quanta. Cambridge University Press.\n",
        "3. https://www.ibm.com/thought-leadership/institute-business-value/report/quantumstrategy\n",
        "4. https://www.cs.virginia.edu/~robins/The_Limits_of_Quantum_Computers.pdf\n",
        "5. Image: Cmglee / CC BY-SA (https://creativecommons.org/licenses/by-sa/4.0)"
      ]
    },
    {
      "cell_type": "code",
      "execution_count": 17,
      "metadata": {
      },
      "outputs": [
        {
          "data": {
            "text/html": [
              "<h3>Version Information</h3><table><tr><th>Qiskit Software</th><th>Version</th></tr><tr><td>Qiskit</td><td>0.27.0</td></tr><tr><td>Terra</td><td>0.17.4</td></tr><tr><td>Aer</td><td>0.8.2</td></tr><tr><td>Ignis</td><td>0.6.0</td></tr><tr><td>Aqua</td><td>0.9.2</td></tr><tr><td>IBM Q Provider</td><td>0.14.0</td></tr><tr><th>System information</th></tr><tr><td>Python</td><td>3.7.7 (default, May  6 2020, 04:59:01) \n",
              "[Clang 4.0.1 (tags/RELEASE_401/final)]</td></tr><tr><td>OS</td><td>Darwin</td></tr><tr><td>CPUs</td><td>8</td></tr><tr><td>Memory (Gb)</td><td>32.0</td></tr><tr><td colspan='2'>Thu Jun 17 15:13:01 2021 BST</td></tr></table>"
            ],
            "text/plain": [
              "<IPython.core.display.HTML object>"
            ]
          },
          "metadata": {
          },
          "output_type": "display_data"
        }
      ],
      "source": [
        "import qiskit.tools.jupyter\n",
        "%qiskit_version_table"
      ]
    }
  ],
  "metadata": {
    "kernelspec": {
      "display_name": "Python 3",
      "language": "python",
      "name": "python3"
    },
    "language_info": {
      "codemirror_mode": {
        "name": "ipython",
        "version": 3
      },
      "file_extension": ".py",
      "mimetype": "text/x-python",
      "name": "python",
      "nbconvert_exporter": "python",
      "pygments_lexer": "ipython3",
      "version": "3.9"
    }
  },
  "nbformat": 4,
  "nbformat_minor": 4
}
