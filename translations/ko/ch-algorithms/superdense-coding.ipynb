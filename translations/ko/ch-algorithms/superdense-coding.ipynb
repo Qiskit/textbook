{
  "cells": [
    {
      "cell_type": "markdown",
      "metadata": {
        "colab_type": "text",
        "id": "OQYW8N5rPyGC",
        "tags": [
          "remove_cell"
        ]
      },
      "source": [
        "이번 글에서는 초압축 코딩(Superdense Coding, SDC) 프로토콜을 다룹니다. 먼저 Qiskit 시뮬레이터를 사용해서 양자 회로를 테스트한 다음 실제 양자 컴퓨터에서 테스트합니다.\n",
        "\n",
        "## 목차\n",
        "\n",
        "1. [초압축 코딩과 양자 전송](#difference)\n",
        "2. [과정](#process)<br> 2.1 [1 단계](#step1)<br> 2.2 [2 단계](#step2)<br> 2.3 [3 단계](#step3)\n",
        "3. [초압축 코딩 프로토콜 시뮬레이션](#simulating)<br> 3.1 [3.1 측정 시각화](#visualising)\n",
        "4. [실제 양자 컴퓨터에서 초압축 코팅](#real_qc)\n",
        "\n",
        "## 1. 초압축 코딩과 양자 전송 간 차이<a id=\"difference\"></a>\n",
        "\n",
        "양자 전송과 초압축 코딩은 밀접하게 관련 있으므로 혼동을 피하기 위해 차이를 명확히 해야 합니다.\n",
        "\n",
        "양자 전송은 큐비트의 상태($|\\psi\\rangle$)를 한 위치에서 다른 위치로 전송할 수 있는 프로세스로 두 비트의 고전 통신과 벨 쌍을 활용합니다. 즉, 공유 얽힘의 도움으로 한 위치에 있는 큐비트의 양자 상태를 파괴하고 먼 위치의 큐비트에 그 양자 상태를 다시 생성하는 프로토콜이라고 할 수 있습니다. 초압축 코딩은 누군가가 단 하나의 큐비트 통신을 이용하여 다른 이에게 두 개의 고전 비트를 보낼 수 있도록 하는 절차입니다.\n",
        "\n",
        "양자 전송 | 초압축 코딩\n",
        ":-: | :-:\n",
        "2 개의 고전 비트를 사용하여 1 개의 큐비트 전송 | 1 개의 큐비트를 사용하여 2 개의 고전 비트를 전송\n",
        "\n",
        "양자 전송 프로토콜은 앨리스와 밥이 단지 \"장치를 교환\"한다는 점에서 초압축 코딩 프로토콜을 뒤집은 버전으로 생각할 수 있습니다."
      ]
    },
    {
      "cell_type": "markdown",
      "metadata": {
        "colab_type": "text",
        "id": "OQYW8N5rPyGC"
      },
      "source": [
        "This notebook demonstrates the Superdense Coding (SDC) protocol. We first use Qiskit's simulator to test our quantum circuit, and then try it out on a real quantum computer.\n",
        "\n",
        "## Contents\n",
        "\n",
        "1. [Superdense Coding and Quantum Teleportation](#difference)\n",
        "2. [The Process](#process)    \n",
        "    2.1 [Step 1](#step1)    \n",
        "    2.2 [Step 2](#step2)    \n",
        "    2.3 [Step 3](#step3)\n",
        "3. [Simulating the Superdense Coding Protocol](#simulating)    \n",
        "    3.1 [3.1 Visualizing Our Measurements](#visualising)    \n",
        "4. [Superdense Coding on a Real Quantum Computer](#real_qc)\n",
        "\n",
        "\n",
        "## 1. The Difference between Superdense Coding and Quantum Teleportation <a id='difference'></a>\n",
        "\n",
        "Quantum teleportation and superdense coding are closely related, to avoid confusion we need to clarify the difference.\n",
        "\n",
        "Quantum teleportation is a process by which the state of qubit ($|\\psi\\rangle$) can be transmitted from one location to another, using two bits of classical communication and a Bell pair. In other words, we can say it is a protocol that destroys the quantum state of a qubit in one location and recreates it on a qubit at a distant location, with the help of shared entanglement. Superdense coding is a procedure that allows someone to send two classical bits to another party using just a single qubit of communication.\n",
        "\n",
        "| Teleportation                                     | Superdense Coding                                    |\n",
        "|:-------------------------------------------------:|:----------------------------------------------------:|\n",
        "| Transmit one<br>qubit using two<br>classical bits | Transmit two<br>classical bits<br>using one<br>qubit |\n",
        "\n",
        "\n",
        "The teleportation protocol can be thought of as a flipped version of the superdense coding protocol, in the sense that Alice and Bob merely “swap their equipment.”"
      ]
    },
    {
      "cell_type": "markdown",
      "metadata": {
        "colab_type": "text",
        "id": "N5LyBKFXYG41"
      },
      "source": [
        "## 2. 과정 <a id=\"process\"></a>\n",
        "\n",
        "![image1](images/superdense.jpg)\n",
        "\n",
        "### 2.1 1 단계 <a id=\"step1\"></a>\n",
        "\n",
        "프로세스는 찰리라 하는 제 3자 부터 시작합니다. 찰리는 얽힌 상태에 있는 두 개의 큐비트를 준비합니다. 찰리는 처음에 기본 상태 $|0\\rangle$에 있는 2 큐비트에서 시작합니다. 하다마드 게이트 ($H$)를 첫 번째 큐비트에 적용하여 중첩을 생성합니다. 그런 다음 첫 번째 큐비트를 제어로 사용하고 두 번째 큐비트를 타겟으로 하여 CNOT 게이트 ($CX$)를 적용합니다. 이것이 앞서 언급한 얽힌 상태(벨 쌍)입니다.\n",
        "\n",
        "#### 출력 상태\n",
        "\n",
        "다음 상태에서 시작합니다.\n",
        "\n",
        "$$|00\\rangle = |0\\rangle_A\\otimes |0\\rangle_B$$\n",
        "\n",
        "여기서 앨리스에게 보내는 큐비트는 $A$라 하고 밥에게 보내는 큐비트는 $B$라고 합니다. 찰리는 먼저 중첩을 만드는 첫 번쨰 큐비트에 하다마드 게이트를 적용하고 다음 상태를 얻습니다.\n",
        "\n",
        "$$|+0\\rangle  =  \\tfrac{1}{\\sqrt{2}}(|00\\rangle + |10\\rangle)$$\n",
        "\n",
        "그런 다음 찰리는 CNOT 게이트를 적용합니다. CNOT 게이트는 두 큐비트를 얽히게 합니다. 즉, 제어가 $|1\\rangle$인 경우 타겟을 뒤집습니다. 제어 큐비트는 가장 왼쪽 큐비트입니다.\n",
        "\n",
        "$$\\text{CNOT} \\tfrac{1}{\\sqrt{2}}(|00\\rangle + |10\\rangle) = \\tfrac{1}{\\sqrt{2}}(|00\\rangle + |11\\rangle)$$\n",
        "\n",
        "### 2.2 2 단계 <a id=\"step2\"></a>\n",
        "\n",
        "찰리는 첫 번째 큐비트를 앨리스에게 보내고 두 번째 큐비트를 밥에게 보냅니다. 프로토콜의 목표는 앨리스가 큐비트를 사용해서 밥에게 2 비트 정보를 보내는 것입니다. 하지만 전송전에 보내려는 2 비트 정보에 따라 양자 게이트 집합을 큐비트에 적용해야 합니다.\n",
        "\n",
        "#### 초압축 코딩을 위한 부호화 규칙 (앨리스 프로토콜):\n",
        "\n",
        "<table>\n",
        "    <tr>\n",
        "        <th>의도한 메시지</th>\n",
        "        <th>적용한 게이트</th>\n",
        "        <th>결과 상태 ($\\cdot\\tfrac{1}{\\sqrt{2}}$)</th>\n",
        "    </tr>\n",
        "    <tr>\n",
        "        <td>00</td>\n",
        "        <td>$I$</td>\n",
        "        <td>$|00\\rangle + |11\\rangle$</td>\n",
        "    </tr>\n",
        "    <tr>\n",
        "        <td>01</td>\n",
        "        <td>$X$</td>\n",
        "        <td>$|10\\rangle + |01\\rangle$</td>\n",
        "    </tr>\n",
        "    <tr>\n",
        "        <td>10</td>\n",
        "        <td>$Z$</td>\n",
        "        <td>$|00\\rangle - |11\\rangle$</td>\n",
        "    </tr>\n",
        "    <tr>\n",
        "        <td>11</td>\n",
        "        <td>$ZX$</td>\n",
        "        <td>$-|10\\rangle + |01\\rangle$</td>\n",
        "    </tr>\n",
        "</table>\n",
        "\n",
        "따라서 `00`을 보내려는 경우 큐비트(항등 ($I$) 게이트 적용)에 아무 것도 하지 않습니다. `01`를 보내려는 경우 $X$ 게이트를 적용합니다. 보내려는 비트에 따라 적절한 게이트를 적용한 다음 프로세스의 마지막 단계에서 밥에게 큐비트를 보냅니다.\n",
        "\n",
        "### 2.3 Step 3 <a id=\"step3\"></a>\n",
        "\n",
        "밥은 엘리스의 큐비트 (가장 왼쪽 큐비트)를 수신하고 그의 큐비트를 사용하여 앨리스의 메시지를 복호화 합니다. 메시지를 복호화 할때 상태에 대한 정보가 필요 없습니다. 단순히 복원 작업을 사용합니다.\n",
        "\n",
        "밥은 가장 왼쪽 큐비트를 제어로 사용하고 가장 오른쪽을 타겟으로 하여 CNOT 게이트로 적용합니다. 그런 다음 하다마드 게이트를 적용하고 마지막으로 두 큐비트에서 측정을 수행하여 앨리스의 메시지를 얻습니다.\n",
        "\n",
        "<table>\n",
        "    <tr>\n",
        "        <th>밥이 수신한 상태($\\cdot\\tfrac{1}{\\sqrt{2}}$)</th>\n",
        "        <th>CNOT 게이터 적용 후($\\cdot\\tfrac{1}{\\sqrt{2}}$)</th>\n",
        "        <th>하다마드 게이트 적용 후</th>\n",
        "    </tr>\n",
        "    <tr>\n",
        "        <td>$|00\\rangle + |11\\rangle$</td>\n",
        "        <td>$|00\\rangle + |10\\rangle$</td>\n",
        "        <td>$|00\\rangle$</td>\n",
        "    </tr>\n",
        "    <tr>\n",
        "        <td>$|10\\rangle + |01\\rangle$</td>\n",
        "        <td>$|11\\rangle + |01\\rangle$</td>\n",
        "        <td>$|01\\rangle$</td>\n",
        "    </tr>\n",
        "    <tr>\n",
        "        <td>$|00\\rangle - |11\\rangle$</td>\n",
        "        <td>$|00\\rangle - |10\\rangle$</td>\n",
        "        <td>$|10\\rangle$</td>\n",
        "    </tr>\n",
        "    <tr>\n",
        "        <td>$-|10\\rangle + |01\\rangle$</td>\n",
        "        <td>$-|11\\rangle + |01\\rangle$</td>\n",
        "        <td>$|11\\rangle$</td>\n",
        "    </tr>\n",
        "</table>\n",
        "\n",
        "## 3. 초압축 코팅 프로토콜 시뮬레이션<a id=\"simulating\"></a>"
      ]
    },
    {
      "cell_type": "code",
      "execution_count": 1,
      "metadata": {
        "colab": {
        },
        "colab_type": "code",
        "id": "u6m-M5G0X4HO"
      },
      "outputs": [

      ],
      "source": [
        "# Importing everything\n",
        "from qiskit import QuantumCircuit\n",
        "from qiskit import IBMQ, Aer, transpile\n",
        "from qiskit.visualization import plot_histogram"
      ]
    },
    {
      "cell_type": "markdown",
      "metadata": {
        "id": "gl_zWKIpWMM1z"
      },
      "source": [
        "얽힌 쌍을 만들기 위해 하다마드 게이트 다음에 CNOT 게이트를 적용해야 합니다. `QuantumCircuit`를 사용하고 인덱스 `a` 및 `b`에 대해 얽힌 큐비트를 만드는 함수를 만들어 보겠습니다."
      ]
    },
    {
      "cell_type": "code",
      "execution_count": 2,
      "metadata": {
        "id": "gl_1NYbd0XdgC"
      },
      "outputs": [

      ],
      "source": [
        "def create_bell_pair():\n",
        "    \"\"\"\n",
        "    반환:\n",
        "        QuantumCircuit: 벨 쌍을 만드는 회로 \n",
        "    \"\"\"\n",
        "    qc = QuantumCircuit(2)\n",
        "    qc.h(1)\n",
        "    qc.cx(1, 0)\n",
        "    return qc"
      ]
    },
    {
      "cell_type": "markdown",
      "metadata": {
        "id": "gl_0aUfjuDmUJ"
      },
      "source": [
        "다음으로 메시지를 부호화해야 합니다. 네 가지 메시지 `00`, `10`, `01`, `11` 를 보낼 수 있습니다. 이 메시지를 입력 받아 적절한 게이트를 생성하는 함수를 만들어 봅시다."
      ]
    },
    {
      "cell_type": "code",
      "execution_count": 3,
      "metadata": {
        "id": "gl_H5R623Jp5q"
      },
      "outputs": [

      ],
      "source": [
        "def encode_message(qc, qubit, msg):\n",
        "    \"\"\"초압축 코딩 프로토콜을 사용하여 qc에서 2비트 메시지를 부호화합니다.\n",
        "    인수:\n",
        "        qc (QuantumCircuit): 메시지를 부호화하는 회로\n",
        "        qubit (int): 게이트에 추가하는 큐비트\n",
        "        msg (str): 보내는 2비트 메시지\n",
        "    반환:\n",
        "        QuantumCircuit: 복호화 시 메시지를 생성하는  회로 \n",
        "    오류 발생:\n",
        "        msg 길이가 잘못되었거나 유효하지 않은 문자가 포함된 경우 ValueError\n",
        "    \"\"\"\n",
        "    if len(msg) != 2 or not set(msg).issubset({\"0\",\"1\"}):\n",
        "        raise ValueError(f\"message '{msg}' is invalid\")\n",
        "    if msg[1] == \"1\":\n",
        "        qc.x(qubit)\n",
        "    if msg[0] == \"1\":\n",
        "        qc.z(qubit)\n",
        "    return qc"
      ]
    },
    {
      "cell_type": "markdown",
      "metadata": {
        "id": "gl_pGrdFr7lAz"
      },
      "source": [
        "마지막으로 메시지를 복호화해야 합니다. CNOT 게이트 다음에 하다마드 게이트를 적용할 수 있습니다. 이 작업을 수행하는 함수를 만들어 봅시다."
      ]
    },
    {
      "cell_type": "code",
      "execution_count": 4,
      "metadata": {
        "id": "gl_tWtT4inydG"
      },
      "outputs": [

      ],
      "source": [
        "def decode_message(qc):\n",
        "    qc.cx(1, 0)\n",
        "    qc.h(1)\n",
        "    return qc"
      ]
    },
    {
      "cell_type": "markdown",
      "metadata": {
        "id": "gl_r9vKvJ6OhB"
      },
      "source": [
        "마지막으로 이를 함께 모아 프로토콜을 완성할 수 있습니다."
      ]
    },
    {
      "cell_type": "code",
      "execution_count": 5,
      "metadata": {
        "colab": {
          "base_uri": "https://localhost:8080/",
          "height": 185
        },
        "colab_type": "code",
        "id": "_HMTtQ8IYh19",
        "outputId": "2d05d830-a863-49d9-c522-5a0e331d2fe1"
      },
      "outputs": [
        {
          "data": {
            "image/svg+xml": [
              "<?xml version=\"1.0\" encoding=\"UTF-8\"?><!DOCTYPE svg  PUBLIC '-//W3C//DTD SVG 1.1//EN'  'http://www.w3.org/Graphics/SVG/1.1/DTD/svg11.dtd'><svg width=\"557.15pt\" height=\"168.93pt\" version=\"1.1\" viewBox=\"0 0 557.15 168.93\" xmlns=\"http://www.w3.org/2000/svg\" xmlns:xlink=\"http://www.w3.org/1999/xlink\"><defs><style type=\"text/css\">*{stroke-linecap:butt;stroke-linejoin:round;}</style></defs><path d=\"m0 168.93h557.15v-168.93h-557.15z\" fill=\"#ffffff\"/><path d=\"m468.6 124.12h11.817l-5.9086 8.5221z\" clip-path=\"url(#p0ad25e2362)\" fill=\"#778899\"/><path d=\"m514.05 124.12h11.817l-5.9086 8.5221z\" clip-path=\"url(#p0ad25e2362)\" fill=\"#778899\"/><path d=\"m86.353 43.561h459.06\" clip-path=\"url(#p0ad25e2362)\" fill=\"none\" stroke=\"#000000\" stroke-linecap=\"square\" stroke-width=\"2\"/><path d=\"m86.353 89.012h459.06\" clip-path=\"url(#p0ad25e2362)\" fill=\"none\" stroke=\"#000000\" stroke-linecap=\"square\" stroke-width=\"2\"/><path d=\"m86.353 132.99h459.06\" clip-path=\"url(#p0ad25e2362)\" fill=\"none\" stroke=\"#778899\" stroke-linecap=\"square\" stroke-width=\"2\"/><path d=\"m86.353 135.94h459.06\" clip-path=\"url(#p0ad25e2362)\" fill=\"none\" stroke=\"#778899\" stroke-linecap=\"square\" stroke-width=\"2\"/><path d=\"m192.94 66.286h17.726v-45.451h-17.726z\" clip-path=\"url(#p0ad25e2362)\" fill=\"#bdbdbd\" opacity=\".6\"/><path d=\"m192.94 111.74h17.726v-45.451h-17.726z\" clip-path=\"url(#p0ad25e2362)\" fill=\"#bdbdbd\" opacity=\".6\"/><path d=\"m283.84 66.286h17.726v-45.451h-17.726z\" clip-path=\"url(#p0ad25e2362)\" fill=\"#bdbdbd\" opacity=\".6\"/><path d=\"m283.84 111.74h17.726v-45.451h-17.726z\" clip-path=\"url(#p0ad25e2362)\" fill=\"#bdbdbd\" opacity=\".6\"/><path d=\"m420.19 66.286h17.726v-45.451h-17.726z\" clip-path=\"url(#p0ad25e2362)\" fill=\"#bdbdbd\" opacity=\".6\"/><path d=\"m420.19 111.74h17.726v-45.451h-17.726z\" clip-path=\"url(#p0ad25e2362)\" fill=\"#bdbdbd\" opacity=\".6\"/><path d=\"m95.443 139.01 4.5451-9.0902\" clip-path=\"url(#p0ad25e2362)\" fill=\"none\" stroke=\"#778899\" stroke-linecap=\"square\" stroke-width=\"1.5\"/><path d=\"m156.35 89.012v-45.451\" clip-path=\"url(#p0ad25e2362)\" fill=\"none\" stroke=\"#1192e8\" stroke-linecap=\"square\" stroke-width=\"2\"/><path d=\"m338.15 89.012v-45.451\" clip-path=\"url(#p0ad25e2362)\" fill=\"none\" stroke=\"#1192e8\" stroke-linecap=\"square\" stroke-width=\"2\"/><path d=\"m475.98 43.561v80.562\" clip-path=\"url(#p0ad25e2362)\" fill=\"none\" stroke=\"#778899\" stroke-linecap=\"square\" stroke-width=\"2\"/><path d=\"m473.03 43.561v80.562\" clip-path=\"url(#p0ad25e2362)\" fill=\"none\" stroke=\"#778899\" stroke-linecap=\"square\" stroke-width=\"2\"/><path d=\"m521.43 89.012v35.111\" clip-path=\"url(#p0ad25e2362)\" fill=\"none\" stroke=\"#778899\" stroke-linecap=\"square\" stroke-width=\"2\"/><path d=\"m518.48 89.012v35.111\" clip-path=\"url(#p0ad25e2362)\" fill=\"none\" stroke=\"#778899\" stroke-linecap=\"square\" stroke-width=\"2\"/><path d=\"m96.125 103.78h29.543v-29.543h-29.543z\" clip-path=\"url(#p0ad25e2362)\" fill=\"#1192e8\" stroke=\"#1192e8\" stroke-width=\"1.5\"/><path d=\"m156.35 93.443c1.1752 0 2.3025-0.46693 3.1335-1.2979s1.2979-1.9583 1.2979-3.1335-0.46693-2.3025-1.2979-3.1335c-0.83102-0.83102-1.9583-1.2979-3.1335-1.2979s-2.3025 0.46693-3.1335 1.2979c-0.83102 0.83102-1.2979 1.9583-1.2979 3.1335s0.46693 2.3025 1.2979 3.1335c0.83102 0.83102 1.9583 1.2979 3.1335 1.2979z\" clip-path=\"url(#p0ad25e2362)\" fill=\"#1192e8\" stroke=\"#1192e8\" stroke-width=\"1.5\"/><path d=\"m156.35 53.901c2.7422 0 5.3725-1.0895 7.3116-3.0285 1.939-1.939 3.0285-4.5693 3.0285-7.3116 0-2.7422-1.0895-5.3725-3.0285-7.3116-1.939-1.939-4.5693-3.0285-7.3116-3.0285s-5.3725 1.0895-7.3116 3.0285c-1.939 1.939-3.0285 4.5693-3.0285 7.3116 0 2.7422 1.0895 5.3725 3.0285 7.3116 1.939 1.939 4.5693 3.0285 7.3116 3.0285z\" clip-path=\"url(#p0ad25e2362)\" fill=\"#1192e8\" stroke=\"#1192e8\" stroke-width=\"2\"/><path d=\"m232.48 103.78h29.543v-29.543h-29.543z\" clip-path=\"url(#p0ad25e2362)\" fill=\"#005d5d\" stroke=\"#005d5d\" stroke-width=\"1.5\"/><path d=\"m338.15 93.443c1.1752 0 2.3025-0.46693 3.1335-1.2979 0.83102-0.83102 1.2979-1.9583 1.2979-3.1335s-0.46693-2.3025-1.2979-3.1335c-0.83102-0.83102-1.9583-1.2979-3.1335-1.2979-1.1752 0-2.3025 0.46693-3.1335 1.2979-0.83102 0.83102-1.2979 1.9583-1.2979 3.1335s0.46693 2.3025 1.2979 3.1335 1.9583 1.2979 3.1335 1.2979z\" clip-path=\"url(#p0ad25e2362)\" fill=\"#1192e8\" stroke=\"#1192e8\" stroke-width=\"1.5\"/><path d=\"m338.15 53.901c2.7422 0 5.3725-1.0895 7.3116-3.0285 1.939-1.939 3.0285-4.5693 3.0285-7.3116 0-2.7422-1.0895-5.3725-3.0285-7.3116-1.939-1.939-4.5693-3.0285-7.3116-3.0285-2.7422 0-5.3725 1.0895-7.3116 3.0285-1.939 1.939-3.0285 4.5693-3.0285 7.3116 0 2.7422 1.0895 5.3725 3.0285 7.3116 1.939 1.939 4.5693 3.0285 7.3116 3.0285z\" clip-path=\"url(#p0ad25e2362)\" fill=\"#1192e8\" stroke=\"#1192e8\" stroke-width=\"2\"/><path d=\"m368.83 103.78h29.543v-29.543h-29.543z\" clip-path=\"url(#p0ad25e2362)\" fill=\"#1192e8\" stroke=\"#1192e8\" stroke-width=\"1.5\"/><path d=\"m459.73 58.332h29.543v-29.543h-29.543z\" clip-path=\"url(#p0ad25e2362)\" fill=\"#121619\" stroke=\"#121619\" stroke-width=\"1.5\"/><path d=\"m484.84 47.992c0-2.7413-1.0901-5.3732-3.0285-7.3116-1.9384-1.9384-4.5702-3.0285-7.3116-3.0285-2.7413 0-5.3732 1.0901-7.3116 3.0285-1.9384 1.9384-3.0285 4.5702-3.0285 7.3116\" clip-path=\"url(#p0ad25e2362)\" fill=\"none\" stroke=\"#ffffff\" stroke-width=\"2\"/><path d=\"m505.18 103.78h29.543v-29.543h-29.543z\" clip-path=\"url(#p0ad25e2362)\" fill=\"#121619\" stroke=\"#121619\" stroke-width=\"1.5\"/><path d=\"m530.3 93.443c0-2.7413-1.0901-5.3732-3.0285-7.3116-1.9384-1.9384-4.5702-3.0285-7.3116-3.0285s-5.3732 1.0901-7.3116 3.0285c-1.9384 1.9384-3.0285 4.5702-3.0285 7.3116\" clip-path=\"url(#p0ad25e2362)\" fill=\"none\" stroke=\"#ffffff\" stroke-width=\"2\"/><path d=\"m474.5 47.992 10.34-10.34\" clip-path=\"url(#p0ad25e2362)\" fill=\"none\" stroke=\"#ffffff\" stroke-linecap=\"square\" stroke-width=\"2\"/><path d=\"m519.96 93.443 10.34-10.34\" clip-path=\"url(#p0ad25e2362)\" fill=\"none\" stroke=\"#ffffff\" stroke-linecap=\"square\" stroke-width=\"2\"/><path d=\"m156.35 49.469v-11.817\" clip-path=\"url(#p0ad25e2362)\" fill=\"none\" stroke=\"#ffffff\" stroke-linecap=\"square\" stroke-width=\"2\"/><path d=\"m150.44 43.561h11.817\" clip-path=\"url(#p0ad25e2362)\" fill=\"none\" stroke=\"#ffffff\" stroke-linecap=\"square\" stroke-width=\"2\"/><path d=\"m201.8 20.835v45.451\" clip-path=\"url(#p0ad25e2362)\" fill=\"none\" stroke=\"#000000\" stroke-dasharray=\"3.7,1.6\"/><path d=\"m201.8 66.286v45.451\" clip-path=\"url(#p0ad25e2362)\" fill=\"none\" stroke=\"#000000\" stroke-dasharray=\"3.7,1.6\"/><path d=\"m292.7 20.835v45.451\" clip-path=\"url(#p0ad25e2362)\" fill=\"none\" stroke=\"#000000\" stroke-dasharray=\"3.7,1.6\"/><path d=\"m292.7 66.286v45.451\" clip-path=\"url(#p0ad25e2362)\" fill=\"none\" stroke=\"#000000\" stroke-dasharray=\"3.7,1.6\"/><path d=\"m338.15 49.469v-11.817\" clip-path=\"url(#p0ad25e2362)\" fill=\"none\" stroke=\"#ffffff\" stroke-linecap=\"square\" stroke-width=\"2\"/><path d=\"m332.24 43.561h11.817\" clip-path=\"url(#p0ad25e2362)\" fill=\"none\" stroke=\"#ffffff\" stroke-linecap=\"square\" stroke-width=\"2\"/><path d=\"m429.05 20.835v45.451\" clip-path=\"url(#p0ad25e2362)\" fill=\"none\" stroke=\"#000000\" stroke-dasharray=\"3.7,1.6\"/><path d=\"m429.05 66.286v45.451\" clip-path=\"url(#p0ad25e2362)\" fill=\"none\" stroke=\"#000000\" stroke-dasharray=\"3.7,1.6\"/><g clip-path=\"url(#p0ad25e2362)\"><g transform=\"translate(59.225 48.012) scale(.1625 -.1625)\"><defs><path id=\"DejaVuSans-Oblique-71\" transform=\"scale(.015625)\" d=\"m2669 525q-231-303-546-460-314-156-695-156-531 0-833 358-301 358-301 986 0 506 186 978t533 847q225 244 517 375t614 131q387 0 637-153t363-462l100 525h578l-934-4813h-579l360 1844zm-1778 813q0-463 193-705 194-242 560-242 544 0 928 520t384 1264q0 450-199 689-198 239-569 239-272 0-504-127-231-126-403-370-181-256-286-600-104-343-104-668z\"/><path id=\"DejaVuSans-30\" transform=\"scale(.015625)\" d=\"m2034 4250q-487 0-733-480-245-479-245-1442 0-959 245-1439 246-480 733-480 491 0 736 480 246 480 246 1439 0 963-246 1442-245 480-736 480zm0 500q785 0 1199-621 414-620 414-1801 0-1178-414-1799-414-620-1199-620-784 0-1198 620-414 621-414 1799 0 1181 414 1801 414 621 1198 621z\"/></defs><use xlink:href=\"#DejaVuSans-Oblique-71\"/><use transform=\"translate(63.477 -16.406) scale(.7)\" xlink:href=\"#DejaVuSans-30\"/></g></g><g clip-path=\"url(#p0ad25e2362)\"><g transform=\"translate(59.225 93.463) scale(.1625 -.1625)\"><defs><path id=\"DejaVuSans-31\" transform=\"scale(.015625)\" d=\"m794 531h1031v3560l-1122-225v575l1116 225h631v-4135h1031v-531h-2687v531z\"/></defs><use xlink:href=\"#DejaVuSans-Oblique-71\"/><use transform=\"translate(63.477 -16.406) scale(.7)\" xlink:href=\"#DejaVuSans-31\"/></g></g><g clip-path=\"url(#p0ad25e2362)\"><g transform=\"translate(90.898 127.75) scale(.104 -.104)\"><defs><path id=\"DejaVuSans-32\" transform=\"scale(.015625)\" d=\"m1228 531h2203v-531h-2962v531q359 372 979 998 621 627 780 809 303 340 423 576 121 236 121 464 0 372-261 606-261 235-680 235-297 0-627-103-329-103-704-313v638q381 153 712 231 332 78 607 78 725 0 1156-363 431-362 431-968 0-288-108-546-107-257-392-607-78-91-497-524-418-433-1181-1211z\"/></defs><use xlink:href=\"#DejaVuSans-32\"/></g></g><g clip-path=\"url(#p0ad25e2362)\"><g transform=\"translate(33.012 138.95) scale(.1625 -.1625)\"><defs><path id=\"DejaVuSans-6d\" transform=\"scale(.015625)\" d=\"m3328 2828q216 388 516 572t706 184q547 0 844-383 297-382 297-1088v-2113h-578v2094q0 503-179 746-178 244-543 244-447 0-707-297-259-296-259-809v-1978h-578v2094q0 506-178 748t-550 242q-441 0-701-298-259-298-259-808v-1978h-578v3500h578v-544q197 322 472 475t653 153q382 0 649-194 267-193 395-562z\"/><path id=\"DejaVuSans-65\" transform=\"scale(.015625)\" d=\"m3597 1894v-281h-2644q38-594 358-905t892-311q331 0 642 81t618 244v-544q-310-131-635-200t-659-69q-838 0-1327 487-489 488-489 1320 0 859 464 1363 464 505 1252 505 706 0 1117-455 411-454 411-1235zm-575 169q-6 471-264 752-258 282-683 282-481 0-770-272t-333-766l2050 4z\"/><path id=\"DejaVuSans-61\" transform=\"scale(.015625)\" d=\"m2194 1759q-697 0-966-159t-269-544q0-306 202-486 202-179 548-179 479 0 768 339t289 901v128h-572zm1147 238v-1997h-575v531q-197-318-491-470t-719-152q-537 0-855 302-317 302-317 808 0 590 395 890 396 300 1180 300h807v57q0 397-261 614t-733 217q-300 0-585-72-284-72-546-216v532q315 122 612 182 297 61 578 61 760 0 1135-394 375-393 375-1193z\"/><path id=\"DejaVuSans-73\" transform=\"scale(.015625)\" d=\"m2834 3397v-544q-243 125-506 187-262 63-544 63-428 0-642-131t-214-394q0-200 153-314t616-217l197-44q612-131 870-370t258-667q0-488-386-773-386-284-1061-284-281 0-586 55t-642 164v594q319-166 628-249 309-82 613-82 406 0 624 139 219 139 219 392 0 234-158 359-157 125-692 241l-200 47q-534 112-772 345-237 233-237 639 0 494 350 762 350 269 994 269 318 0 599-47 282-46 519-140z\"/></defs><use xlink:href=\"#DejaVuSans-6d\"/><use x=\"97.412109\" xlink:href=\"#DejaVuSans-65\"/><use x=\"158.935547\" xlink:href=\"#DejaVuSans-61\"/><use x=\"220.214844\" xlink:href=\"#DejaVuSans-73\"/></g></g><g clip-path=\"url(#p0ad25e2362)\"><g transform=\"translate(106.01 92.599) scale(.13 -.13)\" fill=\"#ffffff\"><defs><path id=\"DejaVuSans-48\" transform=\"scale(.015625)\" d=\"m628 4666h631v-1913h2294v1913h631v-4666h-631v2222h-2294v-2222h-631v4666z\"/></defs><use xlink:href=\"#DejaVuSans-48\"/></g></g><g clip-path=\"url(#p0ad25e2362)\"><g transform=\"translate(242.8 92.599) scale(.13 -.13)\" fill=\"#ffffff\"><defs><path id=\"DejaVuSans-5a\" transform=\"scale(.015625)\" d=\"m359 4666h3666v-482l-2950-3653h3022v-531h-3809v481l2950 3653h-2879v532z\"/></defs><use xlink:href=\"#DejaVuSans-5a\"/></g></g><g clip-path=\"url(#p0ad25e2362)\"><g transform=\"translate(378.71 92.599) scale(.13 -.13)\" fill=\"#ffffff\"><use xlink:href=\"#DejaVuSans-48\"/></g></g><g clip-path=\"url(#p0ad25e2362)\"><g transform=\"translate(485.87 127.75) scale(.104 -.104)\"><use xlink:href=\"#DejaVuSans-30\"/></g></g><g clip-path=\"url(#p0ad25e2362)\"><g transform=\"translate(531.32 127.75) scale(.104 -.104)\"><use xlink:href=\"#DejaVuSans-31\"/></g></g><defs><clipPath id=\"p0ad25e2362\"><rect x=\"7.2\" y=\"7.2\" width=\"542.75\" height=\"154.53\"/></clipPath></defs></svg>"
            ],
            "text/plain": [
              "<Figure size 718.879x204.68 with 1 Axes>"
            ]
          },
          "execution_count": 5,
          "metadata": {
          },
          "output_type": "execute_result"
        }
      ],
      "source": [
        "# 찰리는 앨리스와 밥 간의 얽힘 쌍을 생성합니다. \n",
        "qc = create_bell_pair()\n",
        "\n",
        "# 배리어를 추가하여 게이트를 시각적으로 분리합니다.\n",
        "qc.barrier()\n",
        "\n",
        "# 이 시점에서 큐비트 0는 앨리스로, 큐비트 1은 밥에게로 갑니다. \n",
        "\n",
        "# 다음으로 앨리스는 메시지를 큐비트 1에 부호화 합니다.\n",
        "# 메시지 '10'를 보내려 한다면 이 값을 변경 해보고 \n",
        "# 회로에 어떤 영향을 미치는지 확인할 수 있습니다.\n",
        "message = '10'\n",
        "qc = encode_message(qc, 1, message)\n",
        "qc.barrier()\n",
        "# 그런 다음 앨리스는 큐비트를 밥에게 보냅니다. \n",
        "\n",
        "# 밥은 큐비트 0을 수신한 다음 복원 프로토콜을 적용합니다. \n",
        "qc = decode_message(qc)\n",
        "\n",
        "# 마지막으로 밥은 큐비트를 측정하여 앨리스의 메시지를 읽습니다.\n",
        "qc.measure_all()\n",
        "\n",
        "# 출력을 그립니다.\n",
        "qc.draw()"
      ]
    },
    {
      "cell_type": "markdown",
      "metadata": {
        "colab_type": "text",
        "id": "ODWmbUKVY2a5"
      },
      "source": [
        "### 3.1 측정 시각화 <a id=\"visualising\"></a>"
      ]
    },
    {
      "cell_type": "code",
      "execution_count": 7,
      "metadata": {
        "colab": {
          "base_uri": "https://localhost:8080/",
          "height": 352
        },
        "colab_type": "code",
        "id": "caUnckbWY0Sd",
        "outputId": "f2347fd0-8027-435d-dcab-0fd3a0044c92"
      },
      "outputs": [
        {
          "name": "stdout",
          "output_type": "stream",
          "text": [
            "{'10': 1024}\n"
          ]
        },
        {
          "data": {
            "image/svg+xml": [
              "<?xml version=\"1.0\" encoding=\"UTF-8\"?><!DOCTYPE svg  PUBLIC '-//W3C//DTD SVG 1.1//EN'  'http://www.w3.org/Graphics/SVG/1.1/DTD/svg11.dtd'><svg width=\"460.72pt\" height=\"314.57pt\" version=\"1.1\" viewBox=\"0 0 460.72 314.57\" xmlns=\"http://www.w3.org/2000/svg\" xmlns:xlink=\"http://www.w3.org/1999/xlink\"><defs><style type=\"text/css\">*{stroke-linecap:butt;stroke-linejoin:round;}</style></defs><path d=\"m0 314.57h460.72v-314.57h-460.72z\" fill=\"none\"/><path d=\"m62.921 279h390.6v-271.8h-390.6z\" fill=\"#ffffff\"/><defs><path id=\"mb74ad9126b\" d=\"m0 0v3.5\" stroke=\"#000000\" stroke-width=\".8\"/></defs><use x=\"258.22125\" y=\"279\" stroke=\"#000000\" stroke-width=\".8\" xlink:href=\"#mb74ad9126b\"/><g transform=\"translate(258.8 306.38) rotate(-70) scale(.14 -.14)\"><defs><path id=\"DejaVuSans-31\" transform=\"scale(.015625)\" d=\"m794 531h1031v3560l-1122-225v575l1116 225h631v-4135h1031v-531h-2687v531z\"/><path id=\"DejaVuSans-30\" transform=\"scale(.015625)\" d=\"m2034 4250q-487 0-733-480-245-479-245-1442 0-959 245-1439 246-480 733-480 491 0 736 480 246 480 246 1439 0 963-246 1442-245 480-736 480zm0 500q785 0 1199-621 414-620 414-1801 0-1178-414-1799-414-620-1199-620-784 0-1198 620-414 621-414 1799 0 1181 414 1801 414 621 1198 621z\"/></defs><use xlink:href=\"#DejaVuSans-31\"/><use x=\"63.623047\" xlink:href=\"#DejaVuSans-30\"/></g><path d=\"m62.921 279h390.6\" clip-path=\"url(#p96ec00a1b7)\" fill=\"none\" stroke=\"#b0b0b0\" stroke-dasharray=\"2.96,1.28\" stroke-width=\".8\"/><defs><path id=\"m9dc6b42625\" d=\"m0 0h-3.5\" stroke=\"#000000\" stroke-width=\".8\"/></defs><use x=\"62.92125\" y=\"279\" stroke=\"#000000\" stroke-width=\".8\" xlink:href=\"#m9dc6b42625\"/><g transform=\"translate(24.749 284.32) scale(.14 -.14)\"><defs><path id=\"DejaVuSans-2e\" transform=\"scale(.015625)\" d=\"m684 794h660v-794h-660v794z\"/></defs><use xlink:href=\"#DejaVuSans-30\"/><use x=\"63.623047\" xlink:href=\"#DejaVuSans-2e\"/><use x=\"95.410156\" xlink:href=\"#DejaVuSans-30\"/><use x=\"159.033203\" xlink:href=\"#DejaVuSans-30\"/></g><path d=\"m62.921 222.38h390.6\" clip-path=\"url(#p96ec00a1b7)\" fill=\"none\" stroke=\"#b0b0b0\" stroke-dasharray=\"2.96,1.28\" stroke-width=\".8\"/><use x=\"62.92125\" y=\"222.375\" stroke=\"#000000\" stroke-width=\".8\" xlink:href=\"#m9dc6b42625\"/><g transform=\"translate(24.749 227.69) scale(.14 -.14)\"><defs><path id=\"DejaVuSans-32\" transform=\"scale(.015625)\" d=\"m1228 531h2203v-531h-2962v531q359 372 979 998 621 627 780 809 303 340 423 576 121 236 121 464 0 372-261 606-261 235-680 235-297 0-627-103-329-103-704-313v638q381 153 712 231 332 78 607 78 725 0 1156-363 431-362 431-968 0-288-108-546-107-257-392-607-78-91-497-524-418-433-1181-1211z\"/><path id=\"DejaVuSans-35\" transform=\"scale(.015625)\" d=\"m691 4666h2478v-532h-1900v-1143q137 47 274 70 138 23 276 23 781 0 1237-428 457-428 457-1159 0-753-469-1171-469-417-1322-417-294 0-599 50-304 50-629 150v635q281-153 581-228t634-75q541 0 856 284 316 284 316 772 0 487-316 771-315 285-856 285-253 0-505-56-251-56-513-175v2344z\"/></defs><use xlink:href=\"#DejaVuSans-30\"/><use x=\"63.623047\" xlink:href=\"#DejaVuSans-2e\"/><use x=\"95.410156\" xlink:href=\"#DejaVuSans-32\"/><use x=\"159.033203\" xlink:href=\"#DejaVuSans-35\"/></g><path d=\"m62.921 165.75h390.6\" clip-path=\"url(#p96ec00a1b7)\" fill=\"none\" stroke=\"#b0b0b0\" stroke-dasharray=\"2.96,1.28\" stroke-width=\".8\"/><use x=\"62.92125\" y=\"165.75\" stroke=\"#000000\" stroke-width=\".8\" xlink:href=\"#m9dc6b42625\"/><g transform=\"translate(24.749 171.07) scale(.14 -.14)\"><use xlink:href=\"#DejaVuSans-30\"/><use x=\"63.623047\" xlink:href=\"#DejaVuSans-2e\"/><use x=\"95.410156\" xlink:href=\"#DejaVuSans-35\"/><use x=\"159.033203\" xlink:href=\"#DejaVuSans-30\"/></g><path d=\"m62.921 109.12h390.6\" clip-path=\"url(#p96ec00a1b7)\" fill=\"none\" stroke=\"#b0b0b0\" stroke-dasharray=\"2.96,1.28\" stroke-width=\".8\"/><use x=\"62.92125\" y=\"109.125\" stroke=\"#000000\" stroke-width=\".8\" xlink:href=\"#m9dc6b42625\"/><g transform=\"translate(24.749 114.44) scale(.14 -.14)\"><defs><path id=\"DejaVuSans-37\" transform=\"scale(.015625)\" d=\"m525 4666h3e3v-269l-1694-4397h-659l1594 4134h-2241v532z\"/></defs><use xlink:href=\"#DejaVuSans-30\"/><use x=\"63.623047\" xlink:href=\"#DejaVuSans-2e\"/><use x=\"95.410156\" xlink:href=\"#DejaVuSans-37\"/><use x=\"159.033203\" xlink:href=\"#DejaVuSans-35\"/></g><path d=\"m62.921 52.5h390.6\" clip-path=\"url(#p96ec00a1b7)\" fill=\"none\" stroke=\"#b0b0b0\" stroke-dasharray=\"2.96,1.28\" stroke-width=\".8\"/><use x=\"62.92125\" y=\"52.5\" stroke=\"#000000\" stroke-width=\".8\" xlink:href=\"#m9dc6b42625\"/><g transform=\"translate(24.749 57.819) scale(.14 -.14)\"><use xlink:href=\"#DejaVuSans-31\"/><use x=\"63.623047\" xlink:href=\"#DejaVuSans-2e\"/><use x=\"95.410156\" xlink:href=\"#DejaVuSans-30\"/><use x=\"159.033203\" xlink:href=\"#DejaVuSans-30\"/></g><g transform=\"translate(17.838 185.86) rotate(-90) scale(.14 -.14)\"><defs><path id=\"DejaVuSans-50\" transform=\"scale(.015625)\" d=\"m1259 4147v-1753h794q441 0 681 228 241 228 241 650 0 419-241 647-240 228-681 228h-794zm-631 519h1425q785 0 1186-355 402-355 402-1039 0-691-402-1044-401-353-1186-353h-794v-1875h-631v4666z\"/><path id=\"DejaVuSans-72\" transform=\"scale(.015625)\" d=\"m2631 2963q-97 56-211 82-114 27-251 27-488 0-749-317t-261-911v-1844h-578v3500h578v-544q182 319 472 473 291 155 707 155 59 0 131-8 72-7 159-23l3-590z\"/><path id=\"DejaVuSans-6f\" transform=\"scale(.015625)\" d=\"m1959 3097q-462 0-731-361t-269-989 267-989q268-361 733-361 460 0 728 362 269 363 269 988 0 622-269 986-268 364-728 364zm0 487q750 0 1178-488 429-487 429-1349 0-859-429-1349-428-489-1178-489-753 0-1180 489-426 490-426 1349 0 862 426 1349 427 488 1180 488z\"/><path id=\"DejaVuSans-62\" transform=\"scale(.015625)\" d=\"m3116 1747q0 634-261 995t-717 361q-457 0-718-361t-261-995 261-995 718-361q456 0 717 361t261 995zm-1957 1222q182 312 458 463 277 152 661 152 638 0 1036-506 399-506 399-1331t-399-1332q-398-506-1036-506-384 0-661 152-276 152-458 464v-525h-578v4863h578v-1894z\"/><path id=\"DejaVuSans-61\" transform=\"scale(.015625)\" d=\"m2194 1759q-697 0-966-159t-269-544q0-306 202-486 202-179 548-179 479 0 768 339t289 901v128h-572zm1147 238v-1997h-575v531q-197-318-491-470t-719-152q-537 0-855 302-317 302-317 808 0 590 395 890 396 300 1180 300h807v57q0 397-261 614t-733 217q-300 0-585-72-284-72-546-216v532q315 122 612 182 297 61 578 61 760 0 1135-394 375-393 375-1193z\"/><path id=\"DejaVuSans-69\" transform=\"scale(.015625)\" d=\"m603 3500h575v-3500h-575v3500zm0 1363h575v-729h-575v729z\"/><path id=\"DejaVuSans-6c\" transform=\"scale(.015625)\" d=\"m603 4863h575v-4863h-575v4863z\"/><path id=\"DejaVuSans-74\" transform=\"scale(.015625)\" d=\"m1172 4494v-994h1184v-447h-1184v-1900q0-428 117-550t477-122h590v-481h-590q-666 0-919 248-253 249-253 905v1900h-422v447h422v994h578z\"/><path id=\"DejaVuSans-65\" transform=\"scale(.015625)\" d=\"m3597 1894v-281h-2644q38-594 358-905t892-311q331 0 642 81t618 244v-544q-310-131-635-200t-659-69q-838 0-1327 487-489 488-489 1320 0 859 464 1363 464 505 1252 505 706 0 1117-455 411-454 411-1235zm-575 169q-6 471-264 752-258 282-683 282-481 0-770-272t-333-766l2050 4z\"/><path id=\"DejaVuSans-73\" transform=\"scale(.015625)\" d=\"m2834 3397v-544q-243 125-506 187-262 63-544 63-428 0-642-131t-214-394q0-200 153-314t616-217l197-44q612-131 870-370t258-667q0-488-386-773-386-284-1061-284-281 0-586 55t-642 164v594q319-166 628-249 309-82 613-82 406 0 624 139 219 139 219 392 0 234-158 359-157 125-692 241l-200 47q-534 112-772 345-237 233-237 639 0 494 350 762 350 269 994 269 318 0 599-47 282-46 519-140z\"/></defs><use xlink:href=\"#DejaVuSans-50\"/><use x=\"58.552734\" xlink:href=\"#DejaVuSans-72\"/><use x=\"97.416016\" xlink:href=\"#DejaVuSans-6f\"/><use x=\"158.597656\" xlink:href=\"#DejaVuSans-62\"/><use x=\"222.074219\" xlink:href=\"#DejaVuSans-61\"/><use x=\"283.353516\" xlink:href=\"#DejaVuSans-62\"/><use x=\"346.830078\" xlink:href=\"#DejaVuSans-69\"/><use x=\"374.613281\" xlink:href=\"#DejaVuSans-6c\"/><use x=\"402.396484\" xlink:href=\"#DejaVuSans-69\"/><use x=\"430.179688\" xlink:href=\"#DejaVuSans-74\"/><use x=\"469.388672\" xlink:href=\"#DejaVuSans-69\"/><use x=\"497.171875\" xlink:href=\"#DejaVuSans-65\"/><use x=\"558.695312\" xlink:href=\"#DejaVuSans-73\"/></g><path d=\"m80.676 279h355.09v-226.5h-355.09z\" clip-path=\"url(#p96ec00a1b7)\" fill=\"#648fff\"/><path d=\"m62.921 279v-271.8\" fill=\"none\" stroke=\"#000000\" stroke-linecap=\"square\" stroke-width=\".8\"/><path d=\"m453.52 279v-271.8\" fill=\"none\" stroke=\"#000000\" stroke-linecap=\"square\" stroke-width=\".8\"/><path d=\"m62.921 279h390.6\" fill=\"none\" stroke=\"#000000\" stroke-linecap=\"square\" stroke-width=\".8\"/><path d=\"m62.921 7.2h390.6\" fill=\"none\" stroke=\"#000000\" stroke-linecap=\"square\" stroke-width=\".8\"/><g transform=\"translate(243.91 39.095) scale(.1 -.1)\"><use xlink:href=\"#DejaVuSans-31\"/><use x=\"63.623047\" xlink:href=\"#DejaVuSans-2e\"/><use x=\"95.410156\" xlink:href=\"#DejaVuSans-30\"/><use x=\"159.033203\" xlink:href=\"#DejaVuSans-30\"/><use x=\"222.65625\" xlink:href=\"#DejaVuSans-30\"/></g><defs><clipPath id=\"p96ec00a1b7\"><rect x=\"62.921\" y=\"7.2\" width=\"390.6\" height=\"271.8\"/></clipPath></defs></svg>"
            ],
            "text/plain": [
              "<Figure size 504x360 with 1 Axes>"
            ]
          },
          "execution_count": 7,
          "metadata": {
          },
          "output_type": "execute_result"
        }
      ],
      "source": [
        "aer_sim = Aer.get_backend('aer_simulator')\n",
        "result = aer_sim.run(qc).result()\n",
        "counts = result.get_counts(qc)\n",
        "print(counts)\n",
        "plot_histogram(counts)"
      ]
    },
    {
      "cell_type": "markdown",
      "metadata": {
        "id": "gl_hKlkA409td"
      },
      "source": [
        "시뮬레이터는 완벽한 양자 컴퓨터를 시뮬레이션 합니다. 오류 없이 올바른 메시지를 측정할 확률이 100%임을 알 수 있습니다."
      ]
    },
    {
      "cell_type": "markdown",
      "metadata": {
        "colab_type": "text",
        "id": "fMHrapgKZCpp"
      },
      "source": [
        "## 4. 실제 양자 컴퓨터에서 초압축 코딩 <a id=\"real_qc\"></a>\n",
        "\n",
        "실제 양자 컴퓨터에서 작동하는 것을 볼 수 있습니다. 우선 계정을 불러와 가장 사용량이 적은 양자 시스템을 얻습니다."
      ]
    },
    {
      "cell_type": "code",
      "execution_count": 8,
      "metadata": {
        "colab": {
          "base_uri": "https://localhost:8080/",
          "height": 85
        },
        "colab_type": "code",
        "id": "CVZk6LPJaQXa",
        "outputId": "91fc343f-5c01-428f-a324-888a641b4c55",
        "tags": [
          "uses-hardware"
        ]
      },
      "outputs": [
        {
          "name": "stdout",
          "output_type": "stream",
          "text": [
            "least busy backend:  ibmq_quito\n"
          ]
        }
      ],
      "source": [
        "from qiskit import IBMQ\n",
        "from qiskit.providers.ibmq import least_busy\n",
        "shots = 1024\n",
        "\n",
        "# 로컬 계정 정보 IBMQ.load_account() 불러오기\n",
        "# 가장 사용량이 적은 벡엔드 얻기\n",
        "provider = IBMQ.get_provider(hub='ibm-q')\n",
        "backend = least_busy(provider.backends(filters=lambda x: x.configuration().n_qubits >= 2 \n",
        "                                       and not x.configuration().simulator \n",
        "                                       and x.status().operational==True))\n",
        "print(\"least busy backend: \", backend)\n",
        "# 회로 실행\n",
        "t_qc = transpile(qc, backend, optimization_level=3)\n",
        "job = backend.run(t_qc)"
      ]
    },
    {
      "cell_type": "code",
      "execution_count": 9,
      "metadata": {
        "colab": {
          "base_uri": "https://localhost:8080/",
          "height": 34
        },
        "colab_type": "code",
        "id": "rtFSdEg-bE0u",
        "outputId": "5fb9cd41-db14-4298-882f-9fee155158d9",
        "tags": [
          "uses-hardware"
        ]
      },
      "outputs": [
        {
          "name": "stdout",
          "output_type": "stream",
          "text": [
            "Job Status: job has successfully run\n"
          ]
        }
      ],
      "source": [
        "# 작업 모니터링\n",
        "from qiskit.tools.monitor import job_monitor\n",
        "job_monitor(job)"
      ]
    },
    {
      "cell_type": "code",
      "execution_count": 10,
      "metadata": {
        "colab": {
          "base_uri": "https://localhost:8080/",
          "height": 335
        },
        "colab_type": "code",
        "id": "ufD9dKRded1X",
        "outputId": "87a43f61-0d3b-40db-8107-d925414b0f5d",
        "tags": [
          "uses-hardware"
        ]
      },
      "outputs": [
        {
          "data": {
            "image/svg+xml": [
              "<?xml version=\"1.0\" encoding=\"UTF-8\"?><!DOCTYPE svg  PUBLIC '-//W3C//DTD SVG 1.1//EN'  'http://www.w3.org/Graphics/SVG/1.1/DTD/svg11.dtd'><svg width=\"460.72pt\" height=\"314.57pt\" version=\"1.1\" viewBox=\"0 0 460.72 314.57\" xmlns=\"http://www.w3.org/2000/svg\" xmlns:xlink=\"http://www.w3.org/1999/xlink\"><defs><style type=\"text/css\">*{stroke-linecap:butt;stroke-linejoin:round;}</style></defs><path d=\"m0 314.57h460.72v-314.57h-460.72z\" fill=\"none\"/><path d=\"m62.921 279h390.6v-271.8h-390.6z\" fill=\"#ffffff\"/><defs><path id=\"m665679681c\" d=\"m0 0v3.5\" stroke=\"#000000\" stroke-width=\".8\"/></defs><use x=\"106.039432\" y=\"279\" stroke=\"#000000\" stroke-width=\".8\" xlink:href=\"#m665679681c\"/><g transform=\"translate(106.62 306.38) rotate(-70) scale(.14 -.14)\"><defs><path id=\"DejaVuSans-30\" transform=\"scale(.015625)\" d=\"m2034 4250q-487 0-733-480-245-479-245-1442 0-959 245-1439 246-480 733-480 491 0 736 480 246 480 246 1439 0 963-246 1442-245 480-736 480zm0 500q785 0 1199-621 414-620 414-1801 0-1178-414-1799-414-620-1199-620-784 0-1198 620-414 621-414 1799 0 1181 414 1801 414 621 1198 621z\"/></defs><use xlink:href=\"#DejaVuSans-30\"/><use x=\"63.623047\" xlink:href=\"#DejaVuSans-30\"/></g><use x=\"207.493977\" y=\"279\" stroke=\"#000000\" stroke-width=\".8\" xlink:href=\"#m665679681c\"/><g transform=\"translate(208.08 306.38) rotate(-70) scale(.14 -.14)\"><defs><path id=\"DejaVuSans-31\" transform=\"scale(.015625)\" d=\"m794 531h1031v3560l-1122-225v575l1116 225h631v-4135h1031v-531h-2687v531z\"/></defs><use xlink:href=\"#DejaVuSans-30\"/><use x=\"63.623047\" xlink:href=\"#DejaVuSans-31\"/></g><use x=\"308.948523\" y=\"279\" stroke=\"#000000\" stroke-width=\".8\" xlink:href=\"#m665679681c\"/><g transform=\"translate(309.53 306.38) rotate(-70) scale(.14 -.14)\"><use xlink:href=\"#DejaVuSans-31\"/><use x=\"63.623047\" xlink:href=\"#DejaVuSans-30\"/></g><use x=\"410.403068\" y=\"279\" stroke=\"#000000\" stroke-width=\".8\" xlink:href=\"#m665679681c\"/><g transform=\"translate(410.99 306.38) rotate(-70) scale(.14 -.14)\"><use xlink:href=\"#DejaVuSans-31\"/><use x=\"63.623047\" xlink:href=\"#DejaVuSans-31\"/></g><path d=\"m62.921 279h390.6\" clip-path=\"url(#paef8932245)\" fill=\"none\" stroke=\"#b0b0b0\" stroke-dasharray=\"2.96,1.28\" stroke-width=\".8\"/><defs><path id=\"m6502d693db\" d=\"m0 0h-3.5\" stroke=\"#000000\" stroke-width=\".8\"/></defs><use x=\"62.92125\" y=\"279\" stroke=\"#000000\" stroke-width=\".8\" xlink:href=\"#m6502d693db\"/><g transform=\"translate(24.749 284.32) scale(.14 -.14)\"><defs><path id=\"DejaVuSans-2e\" transform=\"scale(.015625)\" d=\"m684 794h660v-794h-660v794z\"/></defs><use xlink:href=\"#DejaVuSans-30\"/><use x=\"63.623047\" xlink:href=\"#DejaVuSans-2e\"/><use x=\"95.410156\" xlink:href=\"#DejaVuSans-30\"/><use x=\"159.033203\" xlink:href=\"#DejaVuSans-30\"/></g><path d=\"m62.921 217.9h390.6\" clip-path=\"url(#paef8932245)\" fill=\"none\" stroke=\"#b0b0b0\" stroke-dasharray=\"2.96,1.28\" stroke-width=\".8\"/><use x=\"62.92125\" y=\"217.899895\" stroke=\"#000000\" stroke-width=\".8\" xlink:href=\"#m6502d693db\"/><g transform=\"translate(24.749 223.22) scale(.14 -.14)\"><defs><path id=\"DejaVuSans-32\" transform=\"scale(.015625)\" d=\"m1228 531h2203v-531h-2962v531q359 372 979 998 621 627 780 809 303 340 423 576 121 236 121 464 0 372-261 606-261 235-680 235-297 0-627-103-329-103-704-313v638q381 153 712 231 332 78 607 78 725 0 1156-363 431-362 431-968 0-288-108-546-107-257-392-607-78-91-497-524-418-433-1181-1211z\"/><path id=\"DejaVuSans-35\" transform=\"scale(.015625)\" d=\"m691 4666h2478v-532h-1900v-1143q137 47 274 70 138 23 276 23 781 0 1237-428 457-428 457-1159 0-753-469-1171-469-417-1322-417-294 0-599 50-304 50-629 150v635q281-153 581-228t634-75q541 0 856 284 316 284 316 772 0 487-316 771-315 285-856 285-253 0-505-56-251-56-513-175v2344z\"/></defs><use xlink:href=\"#DejaVuSans-30\"/><use x=\"63.623047\" xlink:href=\"#DejaVuSans-2e\"/><use x=\"95.410156\" xlink:href=\"#DejaVuSans-32\"/><use x=\"159.033203\" xlink:href=\"#DejaVuSans-35\"/></g><path d=\"m62.921 156.8h390.6\" clip-path=\"url(#paef8932245)\" fill=\"none\" stroke=\"#b0b0b0\" stroke-dasharray=\"2.96,1.28\" stroke-width=\".8\"/><use x=\"62.92125\" y=\"156.799789\" stroke=\"#000000\" stroke-width=\".8\" xlink:href=\"#m6502d693db\"/><g transform=\"translate(24.749 162.12) scale(.14 -.14)\"><use xlink:href=\"#DejaVuSans-30\"/><use x=\"63.623047\" xlink:href=\"#DejaVuSans-2e\"/><use x=\"95.410156\" xlink:href=\"#DejaVuSans-35\"/><use x=\"159.033203\" xlink:href=\"#DejaVuSans-30\"/></g><path d=\"m62.921 95.7h390.6\" clip-path=\"url(#paef8932245)\" fill=\"none\" stroke=\"#b0b0b0\" stroke-dasharray=\"2.96,1.28\" stroke-width=\".8\"/><use x=\"62.92125\" y=\"95.699684\" stroke=\"#000000\" stroke-width=\".8\" xlink:href=\"#m6502d693db\"/><g transform=\"translate(24.749 101.02) scale(.14 -.14)\"><defs><path id=\"DejaVuSans-37\" transform=\"scale(.015625)\" d=\"m525 4666h3e3v-269l-1694-4397h-659l1594 4134h-2241v532z\"/></defs><use xlink:href=\"#DejaVuSans-30\"/><use x=\"63.623047\" xlink:href=\"#DejaVuSans-2e\"/><use x=\"95.410156\" xlink:href=\"#DejaVuSans-37\"/><use x=\"159.033203\" xlink:href=\"#DejaVuSans-35\"/></g><path d=\"m62.921 34.6h390.6\" clip-path=\"url(#paef8932245)\" fill=\"none\" stroke=\"#b0b0b0\" stroke-dasharray=\"2.96,1.28\" stroke-width=\".8\"/><use x=\"62.92125\" y=\"34.599579\" stroke=\"#000000\" stroke-width=\".8\" xlink:href=\"#m6502d693db\"/><g transform=\"translate(24.749 39.918) scale(.14 -.14)\"><use xlink:href=\"#DejaVuSans-31\"/><use x=\"63.623047\" xlink:href=\"#DejaVuSans-2e\"/><use x=\"95.410156\" xlink:href=\"#DejaVuSans-30\"/><use x=\"159.033203\" xlink:href=\"#DejaVuSans-30\"/></g><g transform=\"translate(17.838 185.86) rotate(-90) scale(.14 -.14)\"><defs><path id=\"DejaVuSans-50\" transform=\"scale(.015625)\" d=\"m1259 4147v-1753h794q441 0 681 228 241 228 241 650 0 419-241 647-240 228-681 228h-794zm-631 519h1425q785 0 1186-355 402-355 402-1039 0-691-402-1044-401-353-1186-353h-794v-1875h-631v4666z\"/><path id=\"DejaVuSans-72\" transform=\"scale(.015625)\" d=\"m2631 2963q-97 56-211 82-114 27-251 27-488 0-749-317t-261-911v-1844h-578v3500h578v-544q182 319 472 473 291 155 707 155 59 0 131-8 72-7 159-23l3-590z\"/><path id=\"DejaVuSans-6f\" transform=\"scale(.015625)\" d=\"m1959 3097q-462 0-731-361t-269-989 267-989q268-361 733-361 460 0 728 362 269 363 269 988 0 622-269 986-268 364-728 364zm0 487q750 0 1178-488 429-487 429-1349 0-859-429-1349-428-489-1178-489-753 0-1180 489-426 490-426 1349 0 862 426 1349 427 488 1180 488z\"/><path id=\"DejaVuSans-62\" transform=\"scale(.015625)\" d=\"m3116 1747q0 634-261 995t-717 361q-457 0-718-361t-261-995 261-995 718-361q456 0 717 361t261 995zm-1957 1222q182 312 458 463 277 152 661 152 638 0 1036-506 399-506 399-1331t-399-1332q-398-506-1036-506-384 0-661 152-276 152-458 464v-525h-578v4863h578v-1894z\"/><path id=\"DejaVuSans-61\" transform=\"scale(.015625)\" d=\"m2194 1759q-697 0-966-159t-269-544q0-306 202-486 202-179 548-179 479 0 768 339t289 901v128h-572zm1147 238v-1997h-575v531q-197-318-491-470t-719-152q-537 0-855 302-317 302-317 808 0 590 395 890 396 300 1180 300h807v57q0 397-261 614t-733 217q-300 0-585-72-284-72-546-216v532q315 122 612 182 297 61 578 61 760 0 1135-394 375-393 375-1193z\"/><path id=\"DejaVuSans-69\" transform=\"scale(.015625)\" d=\"m603 3500h575v-3500h-575v3500zm0 1363h575v-729h-575v729z\"/><path id=\"DejaVuSans-6c\" transform=\"scale(.015625)\" d=\"m603 4863h575v-4863h-575v4863z\"/><path id=\"DejaVuSans-74\" transform=\"scale(.015625)\" d=\"m1172 4494v-994h1184v-447h-1184v-1900q0-428 117-550t477-122h590v-481h-590q-666 0-919 248-253 249-253 905v1900h-422v447h422v994h578z\"/><path id=\"DejaVuSans-65\" transform=\"scale(.015625)\" d=\"m3597 1894v-281h-2644q38-594 358-905t892-311q331 0 642 81t618 244v-544q-310-131-635-200t-659-69q-838 0-1327 487-489 488-489 1320 0 859 464 1363 464 505 1252 505 706 0 1117-455 411-454 411-1235zm-575 169q-6 471-264 752-258 282-683 282-481 0-770-272t-333-766l2050 4z\"/><path id=\"DejaVuSans-73\" transform=\"scale(.015625)\" d=\"m2834 3397v-544q-243 125-506 187-262 63-544 63-428 0-642-131t-214-394q0-200 153-314t616-217l197-44q612-131 870-370t258-667q0-488-386-773-386-284-1061-284-281 0-586 55t-642 164v594q319-166 628-249 309-82 613-82 406 0 624 139 219 139 219 392 0 234-158 359-157 125-692 241l-200 47q-534 112-772 345-237 233-237 639 0 494 350 762 350 269 994 269 318 0 599-47 282-46 519-140z\"/></defs><use xlink:href=\"#DejaVuSans-50\"/><use x=\"58.552734\" xlink:href=\"#DejaVuSans-72\"/><use x=\"97.416016\" xlink:href=\"#DejaVuSans-6f\"/><use x=\"158.597656\" xlink:href=\"#DejaVuSans-62\"/><use x=\"222.074219\" xlink:href=\"#DejaVuSans-61\"/><use x=\"283.353516\" xlink:href=\"#DejaVuSans-62\"/><use x=\"346.830078\" xlink:href=\"#DejaVuSans-69\"/><use x=\"374.613281\" xlink:href=\"#DejaVuSans-6c\"/><use x=\"402.396484\" xlink:href=\"#DejaVuSans-69\"/><use x=\"430.179688\" xlink:href=\"#DejaVuSans-74\"/><use x=\"469.388672\" xlink:href=\"#DejaVuSans-69\"/><use x=\"497.171875\" xlink:href=\"#DejaVuSans-65\"/><use x=\"558.695312\" xlink:href=\"#DejaVuSans-73\"/></g><path d=\"m80.676 279h50.727v-13.127h-50.727z\" clip-path=\"url(#paef8932245)\" fill=\"#648fff\"/><path d=\"m182.13 279h50.727v-1.1934h-50.727z\" clip-path=\"url(#paef8932245)\" fill=\"#648fff\"/><path d=\"m283.58 279h50.727v-226.5h-50.727z\" clip-path=\"url(#paef8932245)\" fill=\"#648fff\"/><path d=\"m385.04 279h50.727v-3.5801h-50.727z\" clip-path=\"url(#paef8932245)\" fill=\"#648fff\"/><path d=\"m62.921 279v-271.8\" fill=\"none\" stroke=\"#000000\" stroke-linecap=\"square\" stroke-width=\".8\"/><path d=\"m453.52 279v-271.8\" fill=\"none\" stroke=\"#000000\" stroke-linecap=\"square\" stroke-width=\".8\"/><path d=\"m62.921 279h390.6\" fill=\"none\" stroke=\"#000000\" stroke-linecap=\"square\" stroke-width=\".8\"/><path d=\"m62.921 7.2h390.6\" fill=\"none\" stroke=\"#000000\" stroke-linecap=\"square\" stroke-width=\".8\"/><g transform=\"translate(91.725 263.14) scale(.1 -.1)\"><defs><path id=\"DejaVuSans-34\" transform=\"scale(.015625)\" d=\"m2419 4116-1594-2491h1594v2491zm-166 550h794v-3041h666v-525h-666v-1100h-628v1100h-2106v609l1940 2957z\"/></defs><use xlink:href=\"#DejaVuSans-30\"/><use x=\"63.623047\" xlink:href=\"#DejaVuSans-2e\"/><use x=\"95.410156\" xlink:href=\"#DejaVuSans-30\"/><use x=\"159.033203\" xlink:href=\"#DejaVuSans-35\"/><use x=\"222.65625\" xlink:href=\"#DejaVuSans-34\"/></g><g transform=\"translate(193.18 275.67) scale(.1 -.1)\"><use xlink:href=\"#DejaVuSans-30\"/><use x=\"63.623047\" xlink:href=\"#DejaVuSans-2e\"/><use x=\"95.410156\" xlink:href=\"#DejaVuSans-30\"/><use x=\"159.033203\" xlink:href=\"#DejaVuSans-30\"/><use x=\"222.65625\" xlink:href=\"#DejaVuSans-35\"/></g><g transform=\"translate(294.63 39.095) scale(.1 -.1)\"><defs><path id=\"DejaVuSans-39\" transform=\"scale(.015625)\" d=\"m703 97v575q238-113 481-172 244-59 479-59 625 0 954 420 330 420 377 1277-181-269-460-413-278-144-615-144-700 0-1108 423-408 424-408 1159 0 718 425 1152 425 435 1131 435 810 0 1236-621 427-620 427-1801 0-1103-524-1761-523-658-1407-658-238 0-482 47-243 47-506 141zm1256 1978q425 0 673 290 249 291 249 798 0 503-249 795-248 292-673 292t-673-292-248-795q0-507 248-798 248-290 673-290z\"/></defs><use xlink:href=\"#DejaVuSans-30\"/><use x=\"63.623047\" xlink:href=\"#DejaVuSans-2e\"/><use x=\"95.410156\" xlink:href=\"#DejaVuSans-39\"/><use x=\"159.033203\" xlink:href=\"#DejaVuSans-32\"/><use x=\"222.65625\" xlink:href=\"#DejaVuSans-37\"/></g><g transform=\"translate(396.09 273.16) scale(.1 -.1)\"><use xlink:href=\"#DejaVuSans-30\"/><use x=\"63.623047\" xlink:href=\"#DejaVuSans-2e\"/><use x=\"95.410156\" xlink:href=\"#DejaVuSans-30\"/><use x=\"159.033203\" xlink:href=\"#DejaVuSans-31\"/><use x=\"222.65625\" xlink:href=\"#DejaVuSans-35\"/></g><defs><clipPath id=\"paef8932245\"><rect x=\"62.921\" y=\"7.2\" width=\"390.6\" height=\"271.8\"/></clipPath></defs></svg>"
            ],
            "text/plain": [
              "<Figure size 504x360 with 1 Axes>"
            ]
          },
          "execution_count": 10,
          "metadata": {
          },
          "output_type": "execute_result"
        }
      ],
      "source": [
        "# 결과를 그립니다.\n",
        "result = job.result()\n",
        "plot_histogram(result.get_counts(qc))"
      ]
    },
    {
      "cell_type": "markdown",
      "metadata": {
        "colab_type": "text",
        "id": "idsn5tuwfG_4"
      },
      "source": [
        "실제 양자 컴퓨터에서 실행할 때 다른 세 가지 상태에서 몇 가지 결과가 있음을 알 수 있습니다. 이는 게이트와 양자 결깨짐의 오류 때문입니다. 나중 절에서 이러한 오류에 대해 알아볼 것입니다."
      ]
    },
    {
      "cell_type": "code",
      "execution_count": 11,
      "metadata": {
        "tags": [
          "uses-hardware"
        ],
        "id": "gl_UsO3I8WJO2"
      },
      "outputs": [
        {
          "name": "stdout",
          "output_type": "stream",
          "text": [
            "Accuracy = 92.68%\n"
          ]
        }
      ],
      "source": [
        "correct_results = result.get_counts(qc)[message]\n",
        "accuracy = (correct_results/shots)*100\n",
        "print(f\"Accuracy = {accuracy:.2f}%\")"
      ]
    },
    {
      "cell_type": "code",
      "execution_count": 12,
      "metadata": {
        "id": "gl_57viTaQPao"
      },
      "outputs": [
        {
          "name": "stderr",
          "output_type": "stream",
          "text": [
            "/usr/local/anaconda3/envs/terra-unstable/lib/python3.9/site-packages/qiskit/aqua/__init__.py:86: DeprecationWarning: The package qiskit.aqua is deprecated. It was moved/refactored to qiskit-terra For more information see <https://github.com/Qiskit/qiskit-aqua/blob/main/README.md#migration-guide>\n",
            "  warn_package('aqua', 'qiskit-terra')\n"
          ]
        },
        {
          "data": {
            "text/html": [
              "<h3>Version Information</h3><table><tr><th>Qiskit Software</th><th>Version</th></tr><tr><td><code>qiskit-terra</code></td><td>0.19.0</td></tr><tr><td><code>qiskit-aer</code></td><td>0.9.1</td></tr><tr><td><code>qiskit-ignis</code></td><td>0.6.0</td></tr><tr><td><code>qiskit-ibmq-provider</code></td><td>0.17.0</td></tr><tr><td><code>qiskit-aqua</code></td><td>0.9.5</td></tr><tr><td><code>qiskit</code></td><td>0.31.0</td></tr><tr><th>System information</th></tr><tr><td>Python version</td><td>3.9.7</td></tr><tr><td>Python compiler</td><td>Clang 10.0.0 </td></tr><tr><td>Python build</td><td>default, Sep 16 2021 08:50:36</td></tr><tr><td>OS</td><td>Darwin</td></tr><tr><td>CPUs</td><td>8</td></tr><tr><td>Memory (Gb)</td><td>32.0</td></tr><tr><td colspan='2'>Fri Nov 05 15:45:51 2021 GMT</td></tr></table>"
            ],
            "text/plain": [
              "<IPython.core.display.HTML object>"
            ]
          },
          "metadata": {
          },
          "output_type": "display_data"
        }
      ],
      "source": [
        "import qiskit.tools.jupyter\n",
        "%qiskit_version_table"
      ]
    }
  ],
  "metadata": {
    "kernelspec": {
      "display_name": "Python 3",
      "language": "python",
      "name": "python3"
    },
    "language_info": {
      "codemirror_mode": {
        "name": "ipython",
        "version": 3
      },
      "file_extension": ".py",
      "mimetype": "text/x-python",
      "name": "python",
      "nbconvert_exporter": "python",
      "pygments_lexer": "ipython3",
      "version": "3.9"
    }
  },
  "nbformat": 4,
  "nbformat_minor": 1
}
