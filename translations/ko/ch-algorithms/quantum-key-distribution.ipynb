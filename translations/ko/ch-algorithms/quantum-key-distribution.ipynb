{
  "cells": [
    {
      "cell_type": "markdown",
      "metadata": {
        "tags": [
          "remove_cell"
        ]
      },
      "source": [
        "# 양자 키 분배"
      ]
    },
    {
      "cell_type": "markdown",
      "metadata": {
      },
      "source": [
        "## 1. 소개\n",
        "\n",
        "앨리스와 밥이 인터넷과 같은 안전하지 않은 비밀 메시지(예: 밥의 온라인 뱅킹 상세 정보)를 전달하려는 경우 메시지를 암호화는 것이 반드시 필요합니다. 암호학의 범위는 매우 넓고 대부분은 이 텍스트북의 범위를 벗어나기 때문에 앨리스와 밥이 아무도 모르는 비밀 키를 가지고 대칭 키 암호를 사용해서 통신할 수 있다고 믿어야 합니다.\n",
        "\n",
        "앨리스와 밥이 이브의 고전 통신 채널을 사용해서 비밀 키를 공유하고자 한다면 이브가 직접 그 키의 복사본을 만들었는지 알 수가 없습니다. 앨리스와 밥은 전적으로 이브를 신뢰해야 합니다. 하지만 이브가 양자 통신 채널을 제공한다면 앨리스와 밥은 더이상 이브를 전적으로 신뢰할 필요가 없습니다. 앨리스와 밥은 이브가 메시지를 읽으려고 한다는 것을 알 수가 있습니다.\n",
        "\n",
        "몇몇 독자에게는 물리적으로 양자 채널을 구현하는 아이디어가 유용할 수 있습니다. 고전 채널의 예제는 전화선이 있습니다. 메시지 또는 비트를 표현하는 라인을 통해서 전기 신호를 보냅니다. 제안하는 양자 통신 채널의 예제는 광섬유 케이블이 될 수도 있습니다. 이 때는 광자(빛의 입자)를 보냅니다. 광자는 *편광*이라 하는 속성이 있으며 편광은 두 가지 상태가 있습니다. 광자를 사용해서 큐비트를 표현할 수 있습니다.\n",
        "\n",
        "## 2. 프로토콜 개요\n",
        "\n",
        "프로토콜은 큐비트를 측정하면 상태가 변할 수 있다는 사실을 활용합니다. 앨리스가 밥에게 보낸 큐비트가 밥에게 닿기 전에 도청자(이브)가 측정하려 하면 큐비의 상태가 변하므로 밥은 앨리스가 보낸 큐비트 상태를 받을 수 없을 수도 있습니다. "
      ]
    },
    {
      "cell_type": "code",
      "execution_count": 1,
      "metadata": {
        "scrolled": true,
        "tags": [
          "thebelab-init"
        ]
      },
      "outputs": [

      ],
      "source": [
        "from qiskit import QuantumCircuit, Aer, transpile\n",
        "from qiskit.visualization import plot_histogram, plot_bloch_multivector\n",
        "from numpy.random import randint\n",
        "import numpy as np"
      ]
    },
    {
      "cell_type": "markdown",
      "metadata": {
      },
      "source": [
        "앨리스가 $|+\\rangle$ ($X$ 기저로는 `0`) 상태의 큐비트를 보내고 밥이 $X$ 기저로 측정하면 `0` 상태를 얻을 수 있습니다."
      ]
    },
    {
      "cell_type": "code",
      "execution_count": 2,
      "metadata": {
      },
      "outputs": [
        {
          "data": {
            "image/svg+xml": [
              "<?xml version=\"1.0\" encoding=\"UTF-8\"?><!DOCTYPE svg  PUBLIC '-//W3C//DTD SVG 1.1//EN'  'http://www.w3.org/Graphics/SVG/1.1/DTD/svg11.dtd'><svg width=\"251.57pt\" height=\"123.48pt\" version=\"1.1\" viewBox=\"0 0 251.57 123.48\" xmlns=\"http://www.w3.org/2000/svg\" xmlns:xlink=\"http://www.w3.org/1999/xlink\"><defs><style type=\"text/css\">*{stroke-linecap:butt;stroke-linejoin:round;}</style></defs><path d=\"m0 123.48h251.57v-123.48h-251.57z\" fill=\"#ffffff\"/><path d=\"m208.46 78.672h11.817l-5.9086 8.5221z\" clip-path=\"url(#p1d8b02e9cf)\" fill=\"#778899\"/><path d=\"m53.471 43.561h186.35\" clip-path=\"url(#p1d8b02e9cf)\" fill=\"none\" stroke=\"#000000\" stroke-linecap=\"square\" stroke-width=\"2\"/><path d=\"m53.471 87.535h186.35\" clip-path=\"url(#p1d8b02e9cf)\" fill=\"none\" stroke=\"#778899\" stroke-linecap=\"square\" stroke-width=\"2\"/><path d=\"m53.471 90.489h186.35\" clip-path=\"url(#p1d8b02e9cf)\" fill=\"none\" stroke=\"#778899\" stroke-linecap=\"square\" stroke-width=\"2\"/><path d=\"m114.6 66.286h17.726v-45.451h-17.726z\" clip-path=\"url(#p1d8b02e9cf)\" fill=\"#bdbdbd\" opacity=\".6\"/><path d=\"m62.561 93.557 4.5451-9.0902\" clip-path=\"url(#p1d8b02e9cf)\" fill=\"none\" stroke=\"#778899\" stroke-linecap=\"square\" stroke-width=\"1.5\"/><path d=\"m215.84 43.561v35.111\" clip-path=\"url(#p1d8b02e9cf)\" fill=\"none\" stroke=\"#778899\" stroke-linecap=\"square\" stroke-width=\"2\"/><path d=\"m212.89 43.561v35.111\" clip-path=\"url(#p1d8b02e9cf)\" fill=\"none\" stroke=\"#778899\" stroke-linecap=\"square\" stroke-width=\"2\"/><path d=\"m63.243 58.332h29.543v-29.543h-29.543z\" clip-path=\"url(#p1d8b02e9cf)\" fill=\"#1192e8\" stroke=\"#1192e8\" stroke-width=\"1.5\"/><path d=\"m154.14 58.332h29.543v-29.543h-29.543z\" clip-path=\"url(#p1d8b02e9cf)\" fill=\"#1192e8\" stroke=\"#1192e8\" stroke-width=\"1.5\"/><path d=\"m199.6 58.332h29.543v-29.543h-29.543z\" clip-path=\"url(#p1d8b02e9cf)\" fill=\"#121619\" stroke=\"#121619\" stroke-width=\"1.5\"/><path d=\"m224.71 47.992c0-2.7413-1.0901-5.3732-3.0285-7.3116-1.9384-1.9384-4.5702-3.0285-7.3116-3.0285s-5.3732 1.0901-7.3116 3.0285c-1.9384 1.9384-3.0285 4.5702-3.0285 7.3116\" clip-path=\"url(#p1d8b02e9cf)\" fill=\"none\" stroke=\"#ffffff\" stroke-width=\"2\"/><path d=\"m214.37 47.992 10.34-10.34\" clip-path=\"url(#p1d8b02e9cf)\" fill=\"none\" stroke=\"#ffffff\" stroke-linecap=\"square\" stroke-width=\"2\"/><path d=\"m123.47 20.835v45.451\" clip-path=\"url(#p1d8b02e9cf)\" fill=\"none\" stroke=\"#000000\" stroke-dasharray=\"3.7,1.6\"/><g clip-path=\"url(#p1d8b02e9cf)\"><g transform=\"translate(33.981 48.012) scale(.1625 -.1625)\"><defs><path id=\"DejaVuSans-Oblique-71\" transform=\"scale(.015625)\" d=\"m2669 525q-231-303-546-460-314-156-695-156-531 0-833 358-301 358-301 986 0 506 186 978t533 847q225 244 517 375t614 131q387 0 637-153t363-462l100 525h578l-934-4813h-579l360 1844zm-1778 813q0-463 193-705 194-242 560-242 544 0 928 520t384 1264q0 450-199 689-198 239-569 239-272 0-504-127-231-126-403-370-181-256-286-600-104-343-104-668z\"/></defs><use xlink:href=\"#DejaVuSans-Oblique-71\"/></g></g><g clip-path=\"url(#p1d8b02e9cf)\"><g transform=\"translate(58.016 82.304) scale(.104 -.104)\"><defs><path id=\"DejaVuSans-31\" transform=\"scale(.015625)\" d=\"m794 531h1031v3560l-1122-225v575l1116 225h631v-4135h1031v-531h-2687v531z\"/></defs><use xlink:href=\"#DejaVuSans-31\"/></g></g><g clip-path=\"url(#p1d8b02e9cf)\"><g transform=\"translate(35.446 93.496) scale(.1625 -.1625)\"><defs><path id=\"DejaVuSans-63\" transform=\"scale(.015625)\" d=\"m3122 3366v-538q-244 135-489 202t-495 67q-560 0-870-355-309-354-309-995t309-996q310-354 870-354 250 0 495 67t489 202v-532q-241-112-499-168-257-57-548-57-791 0-1257 497-465 497-465 1341 0 856 470 1346 471 491 1290 491 265 0 518-55 253-54 491-163z\"/></defs><use xlink:href=\"#DejaVuSans-63\"/></g></g><g clip-path=\"url(#p1d8b02e9cf)\"><g transform=\"translate(73.126 47.148) scale(.13 -.13)\" fill=\"#ffffff\"><defs><path id=\"DejaVuSans-48\" transform=\"scale(.015625)\" d=\"m628 4666h631v-1913h2294v1913h631v-4666h-631v2222h-2294v-2222h-631v4666z\"/></defs><use xlink:href=\"#DejaVuSans-48\"/></g></g><g clip-path=\"url(#p1d8b02e9cf)\"><g transform=\"translate(164.03 47.148) scale(.13 -.13)\" fill=\"#ffffff\"><use xlink:href=\"#DejaVuSans-48\"/></g></g><g clip-path=\"url(#p1d8b02e9cf)\"><g transform=\"translate(225.73 82.304) scale(.104 -.104)\"><defs><path id=\"DejaVuSans-30\" transform=\"scale(.015625)\" d=\"m2034 4250q-487 0-733-480-245-479-245-1442 0-959 245-1439 246-480 733-480 491 0 736 480 246 480 246 1439 0 963-246 1442-245 480-736 480zm0 500q785 0 1199-621 414-620 414-1801 0-1178-414-1799-414-620-1199-620-784 0-1198 620-414 621-414 1799 0 1181 414 1801 414 621 1198 621z\"/></defs><use xlink:href=\"#DejaVuSans-30\"/></g></g><defs><clipPath id=\"p1d8b02e9cf\"><rect x=\"7.2\" y=\"7.2\" width=\"237.17\" height=\"109.08\"/></clipPath></defs></svg>"
            ],
            "text/plain": [
              "<Figure size 314.126x144.48 with 1 Axes>"
            ]
          },
          "metadata": {
          },
          "output_type": "display_data"
        },
        {
          "data": {
            "image/svg+xml": [
              "<?xml version=\"1.0\" encoding=\"UTF-8\"?><!DOCTYPE svg  PUBLIC '-//W3C//DTD SVG 1.1//EN'  'http://www.w3.org/Graphics/SVG/1.1/DTD/svg11.dtd'><svg width=\"460.72pt\" height=\"306.2pt\" version=\"1.1\" viewBox=\"0 0 460.72 306.2\" xmlns=\"http://www.w3.org/2000/svg\" xmlns:xlink=\"http://www.w3.org/1999/xlink\"><defs><style type=\"text/css\">*{stroke-linecap:butt;stroke-linejoin:round;}</style></defs><path d=\"m0 306.2h460.72v-306.2h-460.72z\" fill=\"none\"/><path d=\"m62.921 279h390.6v-271.8h-390.6z\" fill=\"#ffffff\"/><defs><path id=\"m13b9c66c8a\" d=\"m0 0v3.5\" stroke=\"#000000\" stroke-width=\".8\"/></defs><use x=\"258.22125\" y=\"279\" stroke=\"#000000\" stroke-width=\".8\" xlink:href=\"#m13b9c66c8a\"/><g transform=\"translate(260.33 298.01) rotate(-70) scale(.14 -.14)\"><defs><path id=\"DejaVuSans-30\" transform=\"scale(.015625)\" d=\"m2034 4250q-487 0-733-480-245-479-245-1442 0-959 245-1439 246-480 733-480 491 0 736 480 246 480 246 1439 0 963-246 1442-245 480-736 480zm0 500q785 0 1199-621 414-620 414-1801 0-1178-414-1799-414-620-1199-620-784 0-1198 620-414 621-414 1799 0 1181 414 1801 414 621 1198 621z\"/></defs><use xlink:href=\"#DejaVuSans-30\"/></g><path d=\"m62.921 279h390.6\" clip-path=\"url(#p296e1b1a33)\" fill=\"none\" stroke=\"#b0b0b0\" stroke-dasharray=\"2.96,1.28\" stroke-width=\".8\"/><defs><path id=\"m6f612ff684\" d=\"m0 0h-3.5\" stroke=\"#000000\" stroke-width=\".8\"/></defs><use x=\"62.92125\" y=\"279\" stroke=\"#000000\" stroke-width=\".8\" xlink:href=\"#m6f612ff684\"/><g transform=\"translate(24.749 284.32) scale(.14 -.14)\"><defs><path id=\"DejaVuSans-2e\" transform=\"scale(.015625)\" d=\"m684 794h660v-794h-660v794z\"/></defs><use xlink:href=\"#DejaVuSans-30\"/><use x=\"63.623047\" xlink:href=\"#DejaVuSans-2e\"/><use x=\"95.410156\" xlink:href=\"#DejaVuSans-30\"/><use x=\"159.033203\" xlink:href=\"#DejaVuSans-30\"/></g><path d=\"m62.921 222.38h390.6\" clip-path=\"url(#p296e1b1a33)\" fill=\"none\" stroke=\"#b0b0b0\" stroke-dasharray=\"2.96,1.28\" stroke-width=\".8\"/><use x=\"62.92125\" y=\"222.375\" stroke=\"#000000\" stroke-width=\".8\" xlink:href=\"#m6f612ff684\"/><g transform=\"translate(24.749 227.69) scale(.14 -.14)\"><defs><path id=\"DejaVuSans-32\" transform=\"scale(.015625)\" d=\"m1228 531h2203v-531h-2962v531q359 372 979 998 621 627 780 809 303 340 423 576 121 236 121 464 0 372-261 606-261 235-680 235-297 0-627-103-329-103-704-313v638q381 153 712 231 332 78 607 78 725 0 1156-363 431-362 431-968 0-288-108-546-107-257-392-607-78-91-497-524-418-433-1181-1211z\"/><path id=\"DejaVuSans-35\" transform=\"scale(.015625)\" d=\"m691 4666h2478v-532h-1900v-1143q137 47 274 70 138 23 276 23 781 0 1237-428 457-428 457-1159 0-753-469-1171-469-417-1322-417-294 0-599 50-304 50-629 150v635q281-153 581-228t634-75q541 0 856 284 316 284 316 772 0 487-316 771-315 285-856 285-253 0-505-56-251-56-513-175v2344z\"/></defs><use xlink:href=\"#DejaVuSans-30\"/><use x=\"63.623047\" xlink:href=\"#DejaVuSans-2e\"/><use x=\"95.410156\" xlink:href=\"#DejaVuSans-32\"/><use x=\"159.033203\" xlink:href=\"#DejaVuSans-35\"/></g><path d=\"m62.921 165.75h390.6\" clip-path=\"url(#p296e1b1a33)\" fill=\"none\" stroke=\"#b0b0b0\" stroke-dasharray=\"2.96,1.28\" stroke-width=\".8\"/><use x=\"62.92125\" y=\"165.75\" stroke=\"#000000\" stroke-width=\".8\" xlink:href=\"#m6f612ff684\"/><g transform=\"translate(24.749 171.07) scale(.14 -.14)\"><use xlink:href=\"#DejaVuSans-30\"/><use x=\"63.623047\" xlink:href=\"#DejaVuSans-2e\"/><use x=\"95.410156\" xlink:href=\"#DejaVuSans-35\"/><use x=\"159.033203\" xlink:href=\"#DejaVuSans-30\"/></g><path d=\"m62.921 109.12h390.6\" clip-path=\"url(#p296e1b1a33)\" fill=\"none\" stroke=\"#b0b0b0\" stroke-dasharray=\"2.96,1.28\" stroke-width=\".8\"/><use x=\"62.92125\" y=\"109.125\" stroke=\"#000000\" stroke-width=\".8\" xlink:href=\"#m6f612ff684\"/><g transform=\"translate(24.749 114.44) scale(.14 -.14)\"><defs><path id=\"DejaVuSans-37\" transform=\"scale(.015625)\" d=\"m525 4666h3e3v-269l-1694-4397h-659l1594 4134h-2241v532z\"/></defs><use xlink:href=\"#DejaVuSans-30\"/><use x=\"63.623047\" xlink:href=\"#DejaVuSans-2e\"/><use x=\"95.410156\" xlink:href=\"#DejaVuSans-37\"/><use x=\"159.033203\" xlink:href=\"#DejaVuSans-35\"/></g><path d=\"m62.921 52.5h390.6\" clip-path=\"url(#p296e1b1a33)\" fill=\"none\" stroke=\"#b0b0b0\" stroke-dasharray=\"2.96,1.28\" stroke-width=\".8\"/><use x=\"62.92125\" y=\"52.5\" stroke=\"#000000\" stroke-width=\".8\" xlink:href=\"#m6f612ff684\"/><g transform=\"translate(24.749 57.819) scale(.14 -.14)\"><defs><path id=\"DejaVuSans-31\" transform=\"scale(.015625)\" d=\"m794 531h1031v3560l-1122-225v575l1116 225h631v-4135h1031v-531h-2687v531z\"/></defs><use xlink:href=\"#DejaVuSans-31\"/><use x=\"63.623047\" xlink:href=\"#DejaVuSans-2e\"/><use x=\"95.410156\" xlink:href=\"#DejaVuSans-30\"/><use x=\"159.033203\" xlink:href=\"#DejaVuSans-30\"/></g><g transform=\"translate(17.838 185.86) rotate(-90) scale(.14 -.14)\"><defs><path id=\"DejaVuSans-50\" transform=\"scale(.015625)\" d=\"m1259 4147v-1753h794q441 0 681 228 241 228 241 650 0 419-241 647-240 228-681 228h-794zm-631 519h1425q785 0 1186-355 402-355 402-1039 0-691-402-1044-401-353-1186-353h-794v-1875h-631v4666z\"/><path id=\"DejaVuSans-72\" transform=\"scale(.015625)\" d=\"m2631 2963q-97 56-211 82-114 27-251 27-488 0-749-317t-261-911v-1844h-578v3500h578v-544q182 319 472 473 291 155 707 155 59 0 131-8 72-7 159-23l3-590z\"/><path id=\"DejaVuSans-6f\" transform=\"scale(.015625)\" d=\"m1959 3097q-462 0-731-361t-269-989 267-989q268-361 733-361 460 0 728 362 269 363 269 988 0 622-269 986-268 364-728 364zm0 487q750 0 1178-488 429-487 429-1349 0-859-429-1349-428-489-1178-489-753 0-1180 489-426 490-426 1349 0 862 426 1349 427 488 1180 488z\"/><path id=\"DejaVuSans-62\" transform=\"scale(.015625)\" d=\"m3116 1747q0 634-261 995t-717 361q-457 0-718-361t-261-995 261-995 718-361q456 0 717 361t261 995zm-1957 1222q182 312 458 463 277 152 661 152 638 0 1036-506 399-506 399-1331t-399-1332q-398-506-1036-506-384 0-661 152-276 152-458 464v-525h-578v4863h578v-1894z\"/><path id=\"DejaVuSans-61\" transform=\"scale(.015625)\" d=\"m2194 1759q-697 0-966-159t-269-544q0-306 202-486 202-179 548-179 479 0 768 339t289 901v128h-572zm1147 238v-1997h-575v531q-197-318-491-470t-719-152q-537 0-855 302-317 302-317 808 0 590 395 890 396 300 1180 300h807v57q0 397-261 614t-733 217q-300 0-585-72-284-72-546-216v532q315 122 612 182 297 61 578 61 760 0 1135-394 375-393 375-1193z\"/><path id=\"DejaVuSans-69\" transform=\"scale(.015625)\" d=\"m603 3500h575v-3500h-575v3500zm0 1363h575v-729h-575v729z\"/><path id=\"DejaVuSans-6c\" transform=\"scale(.015625)\" d=\"m603 4863h575v-4863h-575v4863z\"/><path id=\"DejaVuSans-74\" transform=\"scale(.015625)\" d=\"m1172 4494v-994h1184v-447h-1184v-1900q0-428 117-550t477-122h590v-481h-590q-666 0-919 248-253 249-253 905v1900h-422v447h422v994h578z\"/><path id=\"DejaVuSans-65\" transform=\"scale(.015625)\" d=\"m3597 1894v-281h-2644q38-594 358-905t892-311q331 0 642 81t618 244v-544q-310-131-635-200t-659-69q-838 0-1327 487-489 488-489 1320 0 859 464 1363 464 505 1252 505 706 0 1117-455 411-454 411-1235zm-575 169q-6 471-264 752-258 282-683 282-481 0-770-272t-333-766l2050 4z\"/><path id=\"DejaVuSans-73\" transform=\"scale(.015625)\" d=\"m2834 3397v-544q-243 125-506 187-262 63-544 63-428 0-642-131t-214-394q0-200 153-314t616-217l197-44q612-131 870-370t258-667q0-488-386-773-386-284-1061-284-281 0-586 55t-642 164v594q319-166 628-249 309-82 613-82 406 0 624 139 219 139 219 392 0 234-158 359-157 125-692 241l-200 47q-534 112-772 345-237 233-237 639 0 494 350 762 350 269 994 269 318 0 599-47 282-46 519-140z\"/></defs><use xlink:href=\"#DejaVuSans-50\"/><use x=\"58.552734\" xlink:href=\"#DejaVuSans-72\"/><use x=\"97.416016\" xlink:href=\"#DejaVuSans-6f\"/><use x=\"158.597656\" xlink:href=\"#DejaVuSans-62\"/><use x=\"222.074219\" xlink:href=\"#DejaVuSans-61\"/><use x=\"283.353516\" xlink:href=\"#DejaVuSans-62\"/><use x=\"346.830078\" xlink:href=\"#DejaVuSans-69\"/><use x=\"374.613281\" xlink:href=\"#DejaVuSans-6c\"/><use x=\"402.396484\" xlink:href=\"#DejaVuSans-69\"/><use x=\"430.179688\" xlink:href=\"#DejaVuSans-74\"/><use x=\"469.388672\" xlink:href=\"#DejaVuSans-69\"/><use x=\"497.171875\" xlink:href=\"#DejaVuSans-65\"/><use x=\"558.695312\" xlink:href=\"#DejaVuSans-73\"/></g><path d=\"m80.676 279h355.09v-226.5h-355.09z\" clip-path=\"url(#p296e1b1a33)\" fill=\"#648fff\"/><path d=\"m62.921 279v-271.8\" fill=\"none\" stroke=\"#000000\" stroke-linecap=\"square\" stroke-width=\".8\"/><path d=\"m453.52 279v-271.8\" fill=\"none\" stroke=\"#000000\" stroke-linecap=\"square\" stroke-width=\".8\"/><path d=\"m62.921 279h390.6\" fill=\"none\" stroke=\"#000000\" stroke-linecap=\"square\" stroke-width=\".8\"/><path d=\"m62.921 7.2h390.6\" fill=\"none\" stroke=\"#000000\" stroke-linecap=\"square\" stroke-width=\".8\"/><g transform=\"translate(243.91 39.095) scale(.1 -.1)\"><use xlink:href=\"#DejaVuSans-31\"/><use x=\"63.623047\" xlink:href=\"#DejaVuSans-2e\"/><use x=\"95.410156\" xlink:href=\"#DejaVuSans-30\"/><use x=\"159.033203\" xlink:href=\"#DejaVuSans-30\"/><use x=\"222.65625\" xlink:href=\"#DejaVuSans-30\"/></g><defs><clipPath id=\"p296e1b1a33\"><rect x=\"62.921\" y=\"7.2\" width=\"390.6\" height=\"271.8\"/></clipPath></defs></svg>"
            ],
            "text/plain": [
              "<Figure size 504x360 with 1 Axes>"
            ]
          },
          "execution_count": 2,
          "metadata": {
          },
          "output_type": "execute_result"
        }
      ],
      "source": [
        "qc = QuantumCircuit(1,1)\n",
        "# Alice prepares qubit in state |+>\n",
        "qc.h(0)\n",
        "qc.barrier()\n",
        "# Alice now sends the qubit to Bob\n",
        "# who measures it in the X-basis\n",
        "qc.h(0)\n",
        "qc.measure(0,0)\n",
        "\n",
        "# Draw and simulate circuit\n",
        "display(qc.draw())\n",
        "aer_sim = Aer.get_backend('aer_simulator')\n",
        "job = aer_sim.run(qc)\n",
        "plot_histogram(job.result().get_counts())"
      ]
    },
    {
      "cell_type": "markdown",
      "metadata": {
      },
      "source": [
        "하지만 메시지가 밥에게 닿기 전에 이브가 이 큐비트를 $Z$ 기저로 측정하면 큐비트의 상태가 $|+\\rangle$ 상태에서 $|0\\rangle$ 또는 $|1\\rangle$ 상태로 변하므로 밥은 더이상  `0` 을 측정할 수 없게 됩니다."
      ]
    },
    {
      "cell_type": "code",
      "execution_count": 3,
      "metadata": {
      },
      "outputs": [
        {
          "data": {
            "image/svg+xml": [
              "<?xml version=\"1.0\" encoding=\"UTF-8\"?><!DOCTYPE svg  PUBLIC '-//W3C//DTD SVG 1.1//EN'  'http://www.w3.org/Graphics/SVG/1.1/DTD/svg11.dtd'><svg width=\"297.02pt\" height=\"123.48pt\" version=\"1.1\" viewBox=\"0 0 297.02 123.48\" xmlns=\"http://www.w3.org/2000/svg\" xmlns:xlink=\"http://www.w3.org/1999/xlink\"><defs><style type=\"text/css\">*{stroke-linecap:butt;stroke-linejoin:round;}</style></defs><path d=\"m0 123.48h297.02v-123.48h-297.02z\" fill=\"#ffffff\"/><path d=\"m117.56 78.672h11.817l-5.9086 8.5221z\" clip-path=\"url(#p8adba46762)\" fill=\"#778899\"/><path d=\"m253.91 78.672h11.817l-5.9086 8.5221z\" clip-path=\"url(#p8adba46762)\" fill=\"#778899\"/><path d=\"m53.471 43.561h231.8\" clip-path=\"url(#p8adba46762)\" fill=\"none\" stroke=\"#000000\" stroke-linecap=\"square\" stroke-width=\"2\"/><path d=\"m53.471 87.535h231.8\" clip-path=\"url(#p8adba46762)\" fill=\"none\" stroke=\"#778899\" stroke-linecap=\"square\" stroke-width=\"2\"/><path d=\"m53.471 90.489h231.8\" clip-path=\"url(#p8adba46762)\" fill=\"none\" stroke=\"#778899\" stroke-linecap=\"square\" stroke-width=\"2\"/><path d=\"m160.05 66.286h17.726v-45.451h-17.726z\" clip-path=\"url(#p8adba46762)\" fill=\"#bdbdbd\" opacity=\".6\"/><path d=\"m62.561 93.557 4.5451-9.0902\" clip-path=\"url(#p8adba46762)\" fill=\"none\" stroke=\"#778899\" stroke-linecap=\"square\" stroke-width=\"1.5\"/><path d=\"m124.94 43.561v35.111\" clip-path=\"url(#p8adba46762)\" fill=\"none\" stroke=\"#778899\" stroke-linecap=\"square\" stroke-width=\"2\"/><path d=\"m121.99 43.561v35.111\" clip-path=\"url(#p8adba46762)\" fill=\"none\" stroke=\"#778899\" stroke-linecap=\"square\" stroke-width=\"2\"/><path d=\"m261.3 43.561v35.111\" clip-path=\"url(#p8adba46762)\" fill=\"none\" stroke=\"#778899\" stroke-linecap=\"square\" stroke-width=\"2\"/><path d=\"m258.34 43.561v35.111\" clip-path=\"url(#p8adba46762)\" fill=\"none\" stroke=\"#778899\" stroke-linecap=\"square\" stroke-width=\"2\"/><path d=\"m63.243 58.332h29.543v-29.543h-29.543z\" clip-path=\"url(#p8adba46762)\" fill=\"#1192e8\" stroke=\"#1192e8\" stroke-width=\"1.5\"/><path d=\"m108.69 58.332h29.543v-29.543h-29.543z\" clip-path=\"url(#p8adba46762)\" fill=\"#121619\" stroke=\"#121619\" stroke-width=\"1.5\"/><path d=\"m133.81 47.992c0-2.7413-1.0901-5.3732-3.0285-7.3116-1.9384-1.9384-4.5702-3.0285-7.3116-3.0285-2.7413 0-5.3732 1.0901-7.3116 3.0285-1.9384 1.9384-3.0285 4.5702-3.0285 7.3116\" clip-path=\"url(#p8adba46762)\" fill=\"none\" stroke=\"#ffffff\" stroke-width=\"2\"/><path d=\"m199.6 58.332h29.543v-29.543h-29.543z\" clip-path=\"url(#p8adba46762)\" fill=\"#1192e8\" stroke=\"#1192e8\" stroke-width=\"1.5\"/><path d=\"m245.05 58.332h29.543v-29.543h-29.543z\" clip-path=\"url(#p8adba46762)\" fill=\"#121619\" stroke=\"#121619\" stroke-width=\"1.5\"/><path d=\"m270.16 47.992c0-2.7413-1.0901-5.3732-3.0285-7.3116-1.9384-1.9384-4.5702-3.0285-7.3116-3.0285s-5.3732 1.0901-7.3116 3.0285c-1.9384 1.9384-3.0285 4.5702-3.0285 7.3116\" clip-path=\"url(#p8adba46762)\" fill=\"none\" stroke=\"#ffffff\" stroke-width=\"2\"/><path d=\"m123.47 47.992 10.34-10.34\" clip-path=\"url(#p8adba46762)\" fill=\"none\" stroke=\"#ffffff\" stroke-linecap=\"square\" stroke-width=\"2\"/><path d=\"m259.82 47.992 10.34-10.34\" clip-path=\"url(#p8adba46762)\" fill=\"none\" stroke=\"#ffffff\" stroke-linecap=\"square\" stroke-width=\"2\"/><path d=\"m168.92 20.835v45.451\" clip-path=\"url(#p8adba46762)\" fill=\"none\" stroke=\"#000000\" stroke-dasharray=\"3.7,1.6\"/><g clip-path=\"url(#p8adba46762)\"><g transform=\"translate(33.981 48.012) scale(.1625 -.1625)\"><defs><path id=\"DejaVuSans-Oblique-71\" transform=\"scale(.015625)\" d=\"m2669 525q-231-303-546-460-314-156-695-156-531 0-833 358-301 358-301 986 0 506 186 978t533 847q225 244 517 375t614 131q387 0 637-153t363-462l100 525h578l-934-4813h-579l360 1844zm-1778 813q0-463 193-705 194-242 560-242 544 0 928 520t384 1264q0 450-199 689-198 239-569 239-272 0-504-127-231-126-403-370-181-256-286-600-104-343-104-668z\"/></defs><use xlink:href=\"#DejaVuSans-Oblique-71\"/></g></g><g clip-path=\"url(#p8adba46762)\"><g transform=\"translate(58.016 82.304) scale(.104 -.104)\"><defs><path id=\"DejaVuSans-31\" transform=\"scale(.015625)\" d=\"m794 531h1031v3560l-1122-225v575l1116 225h631v-4135h1031v-531h-2687v531z\"/></defs><use xlink:href=\"#DejaVuSans-31\"/></g></g><g clip-path=\"url(#p8adba46762)\"><g transform=\"translate(35.446 93.496) scale(.1625 -.1625)\"><defs><path id=\"DejaVuSans-63\" transform=\"scale(.015625)\" d=\"m3122 3366v-538q-244 135-489 202t-495 67q-560 0-870-355-309-354-309-995t309-996q310-354 870-354 250 0 495 67t489 202v-532q-241-112-499-168-257-57-548-57-791 0-1257 497-465 497-465 1341 0 856 470 1346 471 491 1290 491 265 0 518-55 253-54 491-163z\"/></defs><use xlink:href=\"#DejaVuSans-63\"/></g></g><g clip-path=\"url(#p8adba46762)\"><g transform=\"translate(73.126 47.148) scale(.13 -.13)\" fill=\"#ffffff\"><defs><path id=\"DejaVuSans-48\" transform=\"scale(.015625)\" d=\"m628 4666h631v-1913h2294v1913h631v-4666h-631v2222h-2294v-2222h-631v4666z\"/></defs><use xlink:href=\"#DejaVuSans-48\"/></g></g><g clip-path=\"url(#p8adba46762)\"><g transform=\"translate(134.83 82.304) scale(.104 -.104)\"><defs><path id=\"DejaVuSans-30\" transform=\"scale(.015625)\" d=\"m2034 4250q-487 0-733-480-245-479-245-1442 0-959 245-1439 246-480 733-480 491 0 736 480 246 480 246 1439 0 963-246 1442-245 480-736 480zm0 500q785 0 1199-621 414-620 414-1801 0-1178-414-1799-414-620-1199-620-784 0-1198 620-414 621-414 1799 0 1181 414 1801 414 621 1198 621z\"/></defs><use xlink:href=\"#DejaVuSans-30\"/></g></g><g clip-path=\"url(#p8adba46762)\"><g transform=\"translate(209.48 47.148) scale(.13 -.13)\" fill=\"#ffffff\"><use xlink:href=\"#DejaVuSans-48\"/></g></g><g clip-path=\"url(#p8adba46762)\"><g transform=\"translate(271.18 82.304) scale(.104 -.104)\"><use xlink:href=\"#DejaVuSans-30\"/></g></g><defs><clipPath id=\"p8adba46762\"><rect x=\"7.2\" y=\"7.2\" width=\"282.62\" height=\"109.08\"/></clipPath></defs></svg>"
            ],
            "text/plain": [
              "<Figure size 374.326x144.48 with 1 Axes>"
            ]
          },
          "metadata": {
          },
          "output_type": "display_data"
        },
        {
          "data": {
            "image/svg+xml": [
              "<?xml version=\"1.0\" encoding=\"UTF-8\"?><!DOCTYPE svg  PUBLIC '-//W3C//DTD SVG 1.1//EN'  'http://www.w3.org/Graphics/SVG/1.1/DTD/svg11.dtd'><svg width=\"460.72pt\" height=\"306.2pt\" version=\"1.1\" viewBox=\"0 0 460.72 306.2\" xmlns=\"http://www.w3.org/2000/svg\" xmlns:xlink=\"http://www.w3.org/1999/xlink\"><defs><style type=\"text/css\">*{stroke-linecap:butt;stroke-linejoin:round;}</style></defs><path d=\"m0 306.2h460.72v-306.2h-460.72z\" fill=\"none\"/><path d=\"m62.921 279h390.6v-271.8h-390.6z\" fill=\"#ffffff\"/><defs><path id=\"m37f25f5921\" d=\"m0 0v3.5\" stroke=\"#000000\" stroke-width=\".8\"/></defs><use x=\"139.857614\" y=\"279\" stroke=\"#000000\" stroke-width=\".8\" xlink:href=\"#m37f25f5921\"/><g transform=\"translate(141.96 298.01) rotate(-70) scale(.14 -.14)\"><defs><path id=\"DejaVuSans-30\" transform=\"scale(.015625)\" d=\"m2034 4250q-487 0-733-480-245-479-245-1442 0-959 245-1439 246-480 733-480 491 0 736 480 246 480 246 1439 0 963-246 1442-245 480-736 480zm0 500q785 0 1199-621 414-620 414-1801 0-1178-414-1799-414-620-1199-620-784 0-1198 620-414 621-414 1799 0 1181 414 1801 414 621 1198 621z\"/></defs><use xlink:href=\"#DejaVuSans-30\"/></g><use x=\"376.584886\" y=\"279\" stroke=\"#000000\" stroke-width=\".8\" xlink:href=\"#m37f25f5921\"/><g transform=\"translate(378.69 298.01) rotate(-70) scale(.14 -.14)\"><defs><path id=\"DejaVuSans-31\" transform=\"scale(.015625)\" d=\"m794 531h1031v3560l-1122-225v575l1116 225h631v-4135h1031v-531h-2687v531z\"/></defs><use xlink:href=\"#DejaVuSans-31\"/></g><path d=\"m62.921 279h390.6\" clip-path=\"url(#p8bab7ce6c2)\" fill=\"none\" stroke=\"#b0b0b0\" stroke-dasharray=\"2.96,1.28\" stroke-width=\".8\"/><defs><path id=\"m3a3f5f314b\" d=\"m0 0h-3.5\" stroke=\"#000000\" stroke-width=\".8\"/></defs><use x=\"62.92125\" y=\"279\" stroke=\"#000000\" stroke-width=\".8\" xlink:href=\"#m3a3f5f314b\"/><g transform=\"translate(24.749 284.32) scale(.14 -.14)\"><defs><path id=\"DejaVuSans-2e\" transform=\"scale(.015625)\" d=\"m684 794h660v-794h-660v794z\"/></defs><use xlink:href=\"#DejaVuSans-30\"/><use x=\"63.623047\" xlink:href=\"#DejaVuSans-2e\"/><use x=\"95.410156\" xlink:href=\"#DejaVuSans-30\"/><use x=\"159.033203\" xlink:href=\"#DejaVuSans-30\"/></g><path d=\"m62.921 212.73h390.6\" clip-path=\"url(#p8bab7ce6c2)\" fill=\"none\" stroke=\"#b0b0b0\" stroke-dasharray=\"2.96,1.28\" stroke-width=\".8\"/><use x=\"62.92125\" y=\"212.732571\" stroke=\"#000000\" stroke-width=\".8\" xlink:href=\"#m3a3f5f314b\"/><g transform=\"translate(24.749 218.05) scale(.14 -.14)\"><defs><path id=\"DejaVuSans-35\" transform=\"scale(.015625)\" d=\"m691 4666h2478v-532h-1900v-1143q137 47 274 70 138 23 276 23 781 0 1237-428 457-428 457-1159 0-753-469-1171-469-417-1322-417-294 0-599 50-304 50-629 150v635q281-153 581-228t634-75q541 0 856 284 316 284 316 772 0 487-316 771-315 285-856 285-253 0-505-56-251-56-513-175v2344z\"/></defs><use xlink:href=\"#DejaVuSans-30\"/><use x=\"63.623047\" xlink:href=\"#DejaVuSans-2e\"/><use x=\"95.410156\" xlink:href=\"#DejaVuSans-31\"/><use x=\"159.033203\" xlink:href=\"#DejaVuSans-35\"/></g><path d=\"m62.921 146.47h390.6\" clip-path=\"url(#p8bab7ce6c2)\" fill=\"none\" stroke=\"#b0b0b0\" stroke-dasharray=\"2.96,1.28\" stroke-width=\".8\"/><use x=\"62.92125\" y=\"146.465143\" stroke=\"#000000\" stroke-width=\".8\" xlink:href=\"#m3a3f5f314b\"/><g transform=\"translate(24.749 151.78) scale(.14 -.14)\"><defs><path id=\"DejaVuSans-33\" transform=\"scale(.015625)\" d=\"m2597 2516q453-97 707-404 255-306 255-756 0-690-475-1069-475-378-1350-378-293 0-604 58t-642 174v609q262-153 574-231 313-78 654-78 593 0 904 234t311 681q0 413-289 645-289 233-804 233h-544v519h569q465 0 712 186t247 536q0 359-255 551-254 193-729 193-260 0-557-57-297-56-653-174v562q360 100 674 150t592 50q719 0 1137-327 419-326 419-882 0-388-222-655t-631-370z\"/></defs><use xlink:href=\"#DejaVuSans-30\"/><use x=\"63.623047\" xlink:href=\"#DejaVuSans-2e\"/><use x=\"95.410156\" xlink:href=\"#DejaVuSans-33\"/><use x=\"159.033203\" xlink:href=\"#DejaVuSans-30\"/></g><path d=\"m62.921 80.198h390.6\" clip-path=\"url(#p8bab7ce6c2)\" fill=\"none\" stroke=\"#b0b0b0\" stroke-dasharray=\"2.96,1.28\" stroke-width=\".8\"/><use x=\"62.92125\" y=\"80.197714\" stroke=\"#000000\" stroke-width=\".8\" xlink:href=\"#m3a3f5f314b\"/><g transform=\"translate(24.749 85.517) scale(.14 -.14)\"><defs><path id=\"DejaVuSans-34\" transform=\"scale(.015625)\" d=\"m2419 4116-1594-2491h1594v2491zm-166 550h794v-3041h666v-525h-666v-1100h-628v1100h-2106v609l1940 2957z\"/></defs><use xlink:href=\"#DejaVuSans-30\"/><use x=\"63.623047\" xlink:href=\"#DejaVuSans-2e\"/><use x=\"95.410156\" xlink:href=\"#DejaVuSans-34\"/><use x=\"159.033203\" xlink:href=\"#DejaVuSans-35\"/></g><path d=\"m62.921 13.93h390.6\" clip-path=\"url(#p8bab7ce6c2)\" fill=\"none\" stroke=\"#b0b0b0\" stroke-dasharray=\"2.96,1.28\" stroke-width=\".8\"/><use x=\"62.92125\" y=\"13.930286\" stroke=\"#000000\" stroke-width=\".8\" xlink:href=\"#m3a3f5f314b\"/><g transform=\"translate(24.749 19.249) scale(.14 -.14)\"><defs><path id=\"DejaVuSans-36\" transform=\"scale(.015625)\" d=\"m2113 2584q-425 0-674-291-248-290-248-796 0-503 248-796 249-292 674-292t673 292q248 293 248 796 0 506-248 796-248 291-673 291zm1253 1979v-575q-238 112-480 171-242 60-480 60-625 0-955-422-329-422-376-1275 184 272 462 417 279 145 613 145 703 0 1111-427 408-426 408-1160 0-719-425-1154-425-434-1131-434-810 0-1238 620-428 621-428 1799 0 1106 525 1764t1409 658q238 0 480-47t505-140z\"/></defs><use xlink:href=\"#DejaVuSans-30\"/><use x=\"63.623047\" xlink:href=\"#DejaVuSans-2e\"/><use x=\"95.410156\" xlink:href=\"#DejaVuSans-36\"/><use x=\"159.033203\" xlink:href=\"#DejaVuSans-30\"/></g><g transform=\"translate(17.838 185.86) rotate(-90) scale(.14 -.14)\"><defs><path id=\"DejaVuSans-50\" transform=\"scale(.015625)\" d=\"m1259 4147v-1753h794q441 0 681 228 241 228 241 650 0 419-241 647-240 228-681 228h-794zm-631 519h1425q785 0 1186-355 402-355 402-1039 0-691-402-1044-401-353-1186-353h-794v-1875h-631v4666z\"/><path id=\"DejaVuSans-72\" transform=\"scale(.015625)\" d=\"m2631 2963q-97 56-211 82-114 27-251 27-488 0-749-317t-261-911v-1844h-578v3500h578v-544q182 319 472 473 291 155 707 155 59 0 131-8 72-7 159-23l3-590z\"/><path id=\"DejaVuSans-6f\" transform=\"scale(.015625)\" d=\"m1959 3097q-462 0-731-361t-269-989 267-989q268-361 733-361 460 0 728 362 269 363 269 988 0 622-269 986-268 364-728 364zm0 487q750 0 1178-488 429-487 429-1349 0-859-429-1349-428-489-1178-489-753 0-1180 489-426 490-426 1349 0 862 426 1349 427 488 1180 488z\"/><path id=\"DejaVuSans-62\" transform=\"scale(.015625)\" d=\"m3116 1747q0 634-261 995t-717 361q-457 0-718-361t-261-995 261-995 718-361q456 0 717 361t261 995zm-1957 1222q182 312 458 463 277 152 661 152 638 0 1036-506 399-506 399-1331t-399-1332q-398-506-1036-506-384 0-661 152-276 152-458 464v-525h-578v4863h578v-1894z\"/><path id=\"DejaVuSans-61\" transform=\"scale(.015625)\" d=\"m2194 1759q-697 0-966-159t-269-544q0-306 202-486 202-179 548-179 479 0 768 339t289 901v128h-572zm1147 238v-1997h-575v531q-197-318-491-470t-719-152q-537 0-855 302-317 302-317 808 0 590 395 890 396 300 1180 300h807v57q0 397-261 614t-733 217q-300 0-585-72-284-72-546-216v532q315 122 612 182 297 61 578 61 760 0 1135-394 375-393 375-1193z\"/><path id=\"DejaVuSans-69\" transform=\"scale(.015625)\" d=\"m603 3500h575v-3500h-575v3500zm0 1363h575v-729h-575v729z\"/><path id=\"DejaVuSans-6c\" transform=\"scale(.015625)\" d=\"m603 4863h575v-4863h-575v4863z\"/><path id=\"DejaVuSans-74\" transform=\"scale(.015625)\" d=\"m1172 4494v-994h1184v-447h-1184v-1900q0-428 117-550t477-122h590v-481h-590q-666 0-919 248-253 249-253 905v1900h-422v447h422v994h578z\"/><path id=\"DejaVuSans-65\" transform=\"scale(.015625)\" d=\"m3597 1894v-281h-2644q38-594 358-905t892-311q331 0 642 81t618 244v-544q-310-131-635-200t-659-69q-838 0-1327 487-489 488-489 1320 0 859 464 1363 464 505 1252 505 706 0 1117-455 411-454 411-1235zm-575 169q-6 471-264 752-258 282-683 282-481 0-770-272t-333-766l2050 4z\"/><path id=\"DejaVuSans-73\" transform=\"scale(.015625)\" d=\"m2834 3397v-544q-243 125-506 187-262 63-544 63-428 0-642-131t-214-394q0-200 153-314t616-217l197-44q612-131 870-370t258-667q0-488-386-773-386-284-1061-284-281 0-586 55t-642 164v594q319-166 628-249 309-82 613-82 406 0 624 139 219 139 219 392 0 234-158 359-157 125-692 241l-200 47q-534 112-772 345-237 233-237 639 0 494 350 762 350 269 994 269 318 0 599-47 282-46 519-140z\"/></defs><use xlink:href=\"#DejaVuSans-50\"/><use x=\"58.552734\" xlink:href=\"#DejaVuSans-72\"/><use x=\"97.416016\" xlink:href=\"#DejaVuSans-6f\"/><use x=\"158.597656\" xlink:href=\"#DejaVuSans-62\"/><use x=\"222.074219\" xlink:href=\"#DejaVuSans-61\"/><use x=\"283.353516\" xlink:href=\"#DejaVuSans-62\"/><use x=\"346.830078\" xlink:href=\"#DejaVuSans-69\"/><use x=\"374.613281\" xlink:href=\"#DejaVuSans-6c\"/><use x=\"402.396484\" xlink:href=\"#DejaVuSans-69\"/><use x=\"430.179688\" xlink:href=\"#DejaVuSans-74\"/><use x=\"469.388672\" xlink:href=\"#DejaVuSans-69\"/><use x=\"497.171875\" xlink:href=\"#DejaVuSans-65\"/><use x=\"558.695312\" xlink:href=\"#DejaVuSans-73\"/></g><path d=\"m80.676 279h118.36v-215.28h-118.36z\" clip-path=\"url(#p8bab7ce6c2)\" fill=\"#648fff\"/><path d=\"m317.4 279h118.36v-226.5h-118.36z\" clip-path=\"url(#p8bab7ce6c2)\" fill=\"#648fff\"/><path d=\"m62.921 279v-271.8\" fill=\"none\" stroke=\"#000000\" stroke-linecap=\"square\" stroke-width=\".8\"/><path d=\"m453.52 279v-271.8\" fill=\"none\" stroke=\"#000000\" stroke-linecap=\"square\" stroke-width=\".8\"/><path d=\"m62.921 279h390.6\" fill=\"none\" stroke=\"#000000\" stroke-linecap=\"square\" stroke-width=\".8\"/><path d=\"m62.921 7.2h390.6\" fill=\"none\" stroke=\"#000000\" stroke-linecap=\"square\" stroke-width=\".8\"/><g transform=\"translate(125.54 50.873) scale(.1 -.1)\"><defs><path id=\"DejaVuSans-38\" transform=\"scale(.015625)\" d=\"m2034 2216q-450 0-708-241-257-241-257-662 0-422 257-663 258-241 708-241t709 242q260 243 260 662 0 421-258 662-257 241-711 241zm-631 268q-406 100-633 378-226 279-226 679 0 559 398 884 399 325 1092 325 697 0 1094-325t397-884q0-400-227-679-226-278-629-378 456-106 710-416 255-309 255-755 0-679-414-1042-414-362-1186-362-771 0-1186 362-414 363-414 1042 0 446 256 755 257 310 713 416zm-231 997q0-362 226-565 227-203 636-203 407 0 636 203 230 203 230 565 0 363-230 566-229 203-636 203-409 0-636-203-226-203-226-566z\"/><path id=\"DejaVuSans-37\" transform=\"scale(.015625)\" d=\"m525 4666h3e3v-269l-1694-4397h-659l1594 4134h-2241v532z\"/></defs><use xlink:href=\"#DejaVuSans-30\"/><use x=\"63.623047\" xlink:href=\"#DejaVuSans-2e\"/><use x=\"95.410156\" xlink:href=\"#DejaVuSans-34\"/><use x=\"159.033203\" xlink:href=\"#DejaVuSans-38\"/><use x=\"222.65625\" xlink:href=\"#DejaVuSans-37\"/></g><g transform=\"translate(362.27 39.095) scale(.1 -.1)\"><use xlink:href=\"#DejaVuSans-30\"/><use x=\"63.623047\" xlink:href=\"#DejaVuSans-2e\"/><use x=\"95.410156\" xlink:href=\"#DejaVuSans-35\"/><use x=\"159.033203\" xlink:href=\"#DejaVuSans-31\"/><use x=\"222.65625\" xlink:href=\"#DejaVuSans-33\"/></g><defs><clipPath id=\"p8bab7ce6c2\"><rect x=\"62.921\" y=\"7.2\" width=\"390.6\" height=\"271.8\"/></clipPath></defs></svg>"
            ],
            "text/plain": [
              "<Figure size 504x360 with 1 Axes>"
            ]
          },
          "execution_count": 3,
          "metadata": {
          },
          "output_type": "execute_result"
        }
      ],
      "source": [
        "qc = QuantumCircuit(1,1)\n",
        "# Alice prepares qubit in state |+>\n",
        "qc.h(0)\n",
        "# Alice now sends the qubit to Bob\n",
        "# but Eve intercepts and tries to read it\n",
        "qc.measure(0, 0)\n",
        "qc.barrier()\n",
        "# Eve then passes this on to Bob\n",
        "# who measures it in the X-basis\n",
        "qc.h(0)\n",
        "qc.measure(0,0)\n",
        "\n",
        "# Draw and simulate circuit\n",
        "display(qc.draw())\n",
        "aer_sim = Aer.get_backend('aer_simulator')\n",
        "job = aer_sim.run(qc)\n",
        "plot_histogram(job.result().get_counts())"
      ]
    },
    {
      "cell_type": "markdown",
      "metadata": {
      },
      "source": [
        "밥이 50%의 확률로 `1` 을 측정할 수 있으며, 그렇다면 밥과 앨리스는 채널에 문제가 있다는 것을 알게 됩니다.\n",
        "\n",
        "양자 키 분배 프로토콜은 도청자가 거의 도청을 할 수 없게끔 이러한 과정을 충분히 반복하는 것을 포함합니다. 대략 다음과 같습니다.\n",
        "\n",
        "**- 1 단계**\n",
        "\n",
        "앨리스는 무작위 비트열을 선택합니다. 예를 들면 다음과 같습니다.\n",
        "\n",
        "`1000101011010100`\n",
        "\n",
        "그리고 각 비트의 기저를 무작위로 선택합니다.\n",
        "\n",
        "`ZZXZXXXZXZXXXXXX`\n",
        "\n",
        "엘리스는 이러한 2 가지 정보를 자기만 알도록 비밀로 유지합니다.\n",
        "\n",
        "**- 2 단계**\n",
        "\n",
        "앨리스는 선택한 기저를 사용해서 각 비트를 큐비트 문자열로 부호화 합니다. 이는 각 비트가 무작위로 선택된 $|0\\rangle$, $|1\\rangle$, $|+\\rangle$, $|-\\rangle$ 상태 중 하나가 됨을 의미합니다. 이 경우에 큐비트 문자열은 다음과 같습니다.\n",
        "\n",
        "$$ |1\\rangle|0\\rangle|+\\rangle|0\\rangle|-\\rangle|+\\rangle|-\\rangle|0\\rangle|-\\rangle|1\\rangle|+\\rangle|-\\rangle|+\\rangle|-\\rangle|+\\rangle|+\\rangle $$\n",
        "\n",
        "이것이 앨리스가 밥에게 보내는 메시지 입니다.\n",
        "\n",
        "**- 3 단계**\n",
        "\n",
        "밥은 무작위로 기저를 선택하여 각 큐비트를 측정합니다. 예를 들어 다음과 같은 기저를 사용할 수 있습니다.\n",
        "\n",
        "`XZZZXZXZXZXZZZXZ`\n",
        "\n",
        "그리고 밥은 측정한 결과를 비밀로 유지합니다.\n",
        "\n",
        "**- 4 단계**\n",
        "\n",
        "다음으로 밥과 앨리스는 각 큐비트에 사용한 기저를 공개적으로 공유합니다. 밥이 앨리스가 사용한 기저와 같은 기저로 큐비트를 측정했다면 측정값을 이용해 공유한 비밀키의 일부를 형성합니다. 그렇지 않으면 해당 비트의 정보를 버립니다.\n",
        "\n",
        "**- 5 단계**\n",
        "\n",
        "끝으로 밥과 앨리스는 키의 무작위 표본을 공유하고 만일 표본이 일치한다면 전송이 성공적임을 알 수 있습니다.\n"
      ]
    },
    {
      "cell_type": "markdown",
      "metadata": {
      },
      "source": [
        "## 3. Qiskit 예제: 도청이 없는 경우\n",
        "\n",
        "우선 아무도 듣고 있지 않을 때 프로토콜이 어떻게 동작하는지 살펴보고 앨리스와 밥이 어떻게 도청자를 탐지할 수 있는지 알아 봅시다. 항상 필요한 것을 import 하는 것부터 시작합니다."
      ]
    },
    {
      "cell_type": "markdown",
      "metadata": {
      },
      "source": [
        "numpy 에서 `randint` 함수를 사용하여 의사 무작위 키를 생성합니다. 이 페이지의 결과를 재현하려면 seed를 0으로 설정해야 합니다."
      ]
    },
    {
      "cell_type": "code",
      "execution_count": 4,
      "metadata": {
      },
      "outputs": [

      ],
      "source": [
        "np.random.seed(seed=0)"
      ]
    },
    {
      "cell_type": "markdown",
      "metadata": {
      },
      "source": [
        "앨리스의 초기 메시지 길이 `n`을 호출합니다. 이 예제에서 앨리스는 100 큐비트 길이의 메시지를 보냅니다."
      ]
    },
    {
      "cell_type": "code",
      "execution_count": 5,
      "metadata": {
      },
      "outputs": [

      ],
      "source": [
        "n = 100"
      ]
    },
    {
      "cell_type": "markdown",
      "metadata": {
      },
      "source": [
        "### 3.1 1 단계\n",
        "\n",
        "앨리스는 무작위 비트 집합을 생성합니다."
      ]
    },
    {
      "cell_type": "code",
      "execution_count": 6,
      "metadata": {
      },
      "outputs": [
        {
          "name": "stdout",
          "output_type": "stream",
          "text": [
            "[0 1 1 0 1 1 1 1 1 1 1 0 0 1 0 0 0 0 0 1 0 1 1 0 0 1 1 1 1 0 1 0 1 0 1 1 0\n",
            " 1 1 0 0 1 0 1 1 1 1 1 0 1 0 1 1 1 1 0 1 0 0 1 1 0 1 0 1 0 0 0 0 0 1 1 0 0\n",
            " 0 1 1 0 1 0 0 1 0 1 1 1 1 1 1 0 1 1 0 0 1 0 0 1 1 0]\n"
          ]
        }
      ],
      "source": [
        "np.random.seed(seed=0)\n",
        "n = 100\n",
        "## Step 1\n",
        "# Alice generates bits\n",
        "alice_bits = randint(2, size=n)\n",
        "print(alice_bits)"
      ]
    },
    {
      "cell_type": "markdown",
      "metadata": {
      },
      "source": [
        "앨리스만 비트 집합 '`alice_bits`' 을 알고 있습니다. 앨리스만 아는 정보가 무엇이고, 밥만 아는 정보가 무엇인지, 이브의 채널을 통해서 보낸 정보가 무엇인지 다음과 같은 표로 추적을 합니다.\n",
        "\n",
        "앨리스의 정보 | 이브의 채널 | 밥의 정보\n",
        ":-: | :-: | :-:\n",
        "alice_bits |  |\n",
        "\n",
        "### 3.2 2 단계\n",
        "\n",
        "앨리스는 무작위로 $X$ 또는 $Z$ 기저에 있는 큐비트의 각 비트를 부호화 하도록 선택하고 각 큐비트의 선택을 `alice_bases` 에 저장합니다. 이 경우 `0` 는  \"$Z$ 기저의 준비\" 를 의미하고 `1` 는 \"$X$ 기저의 준비\"를 의미합니다."
      ]
    },
    {
      "cell_type": "code",
      "execution_count": 7,
      "metadata": {
      },
      "outputs": [
        {
          "name": "stdout",
          "output_type": "stream",
          "text": [
            "[1 0 0 1 0 0 0 1 1 0 1 0 0 0 0 0 1 0 1 0 1 1 1 1 1 0 1 1 1 1 0 1 1 0 0 1 0\n",
            " 0 0 0 1 1 0 0 1 0 1 1 1 1 0 0 0 1 0 1 1 1 0 1 0 0 1 0 1 1 0 0 1 0 1 0 1 0\n",
            " 1 0 1 0 0 0 1 0 1 0 1 0 0 0 0 0 1 0 0 1 0 0 0 1 0 0]\n"
          ]
        }
      ],
      "source": [
        "np.random.seed(seed=0)\n",
        "n = 100\n",
        "## Step 1\n",
        "#Alice generates bits\n",
        "alice_bits = randint(2, size=n)\n",
        "\n",
        "## Step 2\n",
        "# Create an array to tell us which qubits\n",
        "# are encoded in which bases\n",
        "alice_bases = randint(2, size=n)\n",
        "print(alice_bases)"
      ]
    },
    {
      "cell_type": "markdown",
      "metadata": {
      },
      "source": [
        "앨리스는 이 정보를 비밀로 유지합니다.\n",
        "\n",
        "앨리스의 정보 | 이브의 채널 | 밥의 정보\n",
        ":-: | :-: | :-:\n",
        "alice_bits |  |\n",
        "alice_bases |  |\n",
        "\n",
        "아래 `encode_message` 함수는 `QuantumCircuit` 를 요소로 하는 리스트를 생성하고 각 양자 회로는 앨리스의 메시지에서 단일 큐비트를 나타냅니다."
      ]
    },
    {
      "cell_type": "code",
      "execution_count": 8,
      "metadata": {
        "tags": [
          "thebelab-init"
        ]
      },
      "outputs": [

      ],
      "source": [
        "def encode_message(bits, bases):\n",
        "    message = []\n",
        "    for i in range(n):\n",
        "        qc = QuantumCircuit(1,1)\n",
        "        if bases[i] == 0: # Prepare qubit in Z-basis\n",
        "            if bits[i] == 0:\n",
        "                pass \n",
        "            else:\n",
        "                qc.x(0)\n",
        "        else: # Prepare qubit in X-basis\n",
        "            if bits[i] == 0:\n",
        "                qc.h(0)\n",
        "            else:\n",
        "                qc.x(0)\n",
        "                qc.h(0)\n",
        "        qc.barrier()\n",
        "        message.append(qc)\n",
        "    return message"
      ]
    },
    {
      "cell_type": "code",
      "execution_count": 9,
      "metadata": {
      },
      "outputs": [

      ],
      "source": [
        "np.random.seed(seed=0)\n",
        "n = 100\n",
        "\n",
        "## Step 1\n",
        "# Alice generates bits\n",
        "alice_bits = randint(2, size=n)\n",
        "\n",
        "## Step 2\n",
        "# Create an array to tell us which qubits\n",
        "# are encoded in which bases\n",
        "alice_bases = randint(2, size=n)\n",
        "message = encode_message(alice_bits, alice_bases)"
      ]
    },
    {
      "cell_type": "markdown",
      "metadata": {
      },
      "source": [
        "`alices_bits` 에서 첫 번째 비트는 `0` 이고 부호화한 기저는 `1`로 표현하는 $X$ 기저 있음을 알 수 있습니다."
      ]
    },
    {
      "cell_type": "code",
      "execution_count": 10,
      "metadata": {
      },
      "outputs": [
        {
          "name": "stdout",
          "output_type": "stream",
          "text": [
            "bit = 0\n",
            "basis = 1\n"
          ]
        }
      ],
      "source": [
        "print('bit = %i' % alice_bits[0])\n",
        "print('basis = %i' % alice_bases[0])"
      ]
    },
    {
      "cell_type": "markdown",
      "metadata": {
      },
      "source": [
        "그리고 앨리스의 메시지에서 첫 번째 비트를 나타내는 `message` 에서 첫 번째 회로를 보면 앨리스가 $|+\\rangle$ 상태의 큐비트를 준비한 것을 확인할 수 있습니다."
      ]
    },
    {
      "cell_type": "code",
      "execution_count": 11,
      "metadata": {
      },
      "outputs": [
        {
          "data": {
            "image/svg+xml": [
              "<?xml version=\"1.0\" encoding=\"UTF-8\"?><!DOCTYPE svg  PUBLIC '-//W3C//DTD SVG 1.1//EN'  'http://www.w3.org/Graphics/SVG/1.1/DTD/svg11.dtd'><svg width=\"160.66pt\" height=\"123.48pt\" version=\"1.1\" viewBox=\"0 0 160.66 123.48\" xmlns=\"http://www.w3.org/2000/svg\" xmlns:xlink=\"http://www.w3.org/1999/xlink\"><defs><style type=\"text/css\">*{stroke-linecap:butt;stroke-linejoin:round;}</style></defs><path d=\"m0 123.48h160.66v-123.48h-160.66z\" fill=\"#ffffff\"/><path d=\"m53.471 43.561h95.447\" clip-path=\"url(#p2bbad53921)\" fill=\"none\" stroke=\"#000000\" stroke-linecap=\"square\" stroke-width=\"2\"/><path d=\"m53.471 87.535h95.447\" clip-path=\"url(#p2bbad53921)\" fill=\"none\" stroke=\"#778899\" stroke-linecap=\"square\" stroke-width=\"2\"/><path d=\"m53.471 90.489h95.447\" clip-path=\"url(#p2bbad53921)\" fill=\"none\" stroke=\"#778899\" stroke-linecap=\"square\" stroke-width=\"2\"/><path d=\"m114.6 66.286h17.726v-45.451h-17.726z\" clip-path=\"url(#p2bbad53921)\" fill=\"#bdbdbd\" opacity=\".6\"/><path d=\"m62.561 93.557 4.5451-9.0902\" clip-path=\"url(#p2bbad53921)\" fill=\"none\" stroke=\"#778899\" stroke-linecap=\"square\" stroke-width=\"1.5\"/><path d=\"m63.243 58.332h29.543v-29.543h-29.543z\" clip-path=\"url(#p2bbad53921)\" fill=\"#1192e8\" stroke=\"#1192e8\" stroke-width=\"1.5\"/><path d=\"m123.47 20.835v45.451\" clip-path=\"url(#p2bbad53921)\" fill=\"none\" stroke=\"#000000\" stroke-dasharray=\"3.7,1.6\"/><g clip-path=\"url(#p2bbad53921)\"><g transform=\"translate(33.981 48.012) scale(.1625 -.1625)\"><defs><path id=\"DejaVuSans-Oblique-71\" transform=\"scale(.015625)\" d=\"m2669 525q-231-303-546-460-314-156-695-156-531 0-833 358-301 358-301 986 0 506 186 978t533 847q225 244 517 375t614 131q387 0 637-153t363-462l100 525h578l-934-4813h-579l360 1844zm-1778 813q0-463 193-705 194-242 560-242 544 0 928 520t384 1264q0 450-199 689-198 239-569 239-272 0-504-127-231-126-403-370-181-256-286-600-104-343-104-668z\"/></defs><use xlink:href=\"#DejaVuSans-Oblique-71\"/></g></g><g clip-path=\"url(#p2bbad53921)\"><g transform=\"translate(58.016 82.304) scale(.104 -.104)\"><defs><path id=\"DejaVuSans-31\" transform=\"scale(.015625)\" d=\"m794 531h1031v3560l-1122-225v575l1116 225h631v-4135h1031v-531h-2687v531z\"/></defs><use xlink:href=\"#DejaVuSans-31\"/></g></g><g clip-path=\"url(#p2bbad53921)\"><g transform=\"translate(35.446 93.496) scale(.1625 -.1625)\"><defs><path id=\"DejaVuSans-63\" transform=\"scale(.015625)\" d=\"m3122 3366v-538q-244 135-489 202t-495 67q-560 0-870-355-309-354-309-995t309-996q310-354 870-354 250 0 495 67t489 202v-532q-241-112-499-168-257-57-548-57-791 0-1257 497-465 497-465 1341 0 856 470 1346 471 491 1290 491 265 0 518-55 253-54 491-163z\"/></defs><use xlink:href=\"#DejaVuSans-63\"/></g></g><g clip-path=\"url(#p2bbad53921)\"><g transform=\"translate(73.126 47.148) scale(.13 -.13)\" fill=\"#ffffff\"><defs><path id=\"DejaVuSans-48\" transform=\"scale(.015625)\" d=\"m628 4666h631v-1913h2294v1913h631v-4666h-631v2222h-2294v-2222h-631v4666z\"/></defs><use xlink:href=\"#DejaVuSans-48\"/></g></g><defs><clipPath id=\"p2bbad53921\"><rect x=\"7.2\" y=\"7.2\" width=\"146.26\" height=\"109.08\"/></clipPath></defs></svg>"
            ],
            "text/plain": [
              "<Figure size 193.726x144.48 with 1 Axes>"
            ]
          },
          "execution_count": 11,
          "metadata": {
          },
          "output_type": "execute_result"
        }
      ],
      "source": [
        "message[0].draw()"
      ]
    },
    {
      "cell_type": "markdown",
      "metadata": {
      },
      "source": [
        "다른 예로 `alice_bits` 의 네 번째 비트는 `1` 이고 이 비트는 $Z$ 기저로 부호화 되었으며 앨리스는 $|1\\rangle$ 상태인 큐비트를 준비한 것을 알 수 있습니다"
      ]
    },
    {
      "cell_type": "code",
      "execution_count": 12,
      "metadata": {
      },
      "outputs": [
        {
          "name": "stdout",
          "output_type": "stream",
          "text": [
            "bit = 1\n",
            "basis = 0\n"
          ]
        },
        {
          "data": {
            "image/svg+xml": [
              "<?xml version=\"1.0\" encoding=\"UTF-8\"?><!DOCTYPE svg  PUBLIC '-//W3C//DTD SVG 1.1//EN'  'http://www.w3.org/Graphics/SVG/1.1/DTD/svg11.dtd'><svg width=\"160.66pt\" height=\"123.48pt\" version=\"1.1\" viewBox=\"0 0 160.66 123.48\" xmlns=\"http://www.w3.org/2000/svg\" xmlns:xlink=\"http://www.w3.org/1999/xlink\"><defs><style type=\"text/css\">*{stroke-linecap:butt;stroke-linejoin:round;}</style></defs><path d=\"m0 123.48h160.66v-123.48h-160.66z\" fill=\"#ffffff\"/><path d=\"m53.471 43.561h95.447\" clip-path=\"url(#p538108f08b)\" fill=\"none\" stroke=\"#000000\" stroke-linecap=\"square\" stroke-width=\"2\"/><path d=\"m53.471 87.535h95.447\" clip-path=\"url(#p538108f08b)\" fill=\"none\" stroke=\"#778899\" stroke-linecap=\"square\" stroke-width=\"2\"/><path d=\"m53.471 90.489h95.447\" clip-path=\"url(#p538108f08b)\" fill=\"none\" stroke=\"#778899\" stroke-linecap=\"square\" stroke-width=\"2\"/><path d=\"m114.6 66.286h17.726v-45.451h-17.726z\" clip-path=\"url(#p538108f08b)\" fill=\"#bdbdbd\" opacity=\".6\"/><path d=\"m62.561 93.557 4.5451-9.0902\" clip-path=\"url(#p538108f08b)\" fill=\"none\" stroke=\"#778899\" stroke-linecap=\"square\" stroke-width=\"1.5\"/><path d=\"m63.243 58.332h29.543v-29.543h-29.543z\" clip-path=\"url(#p538108f08b)\" fill=\"#005d5d\" stroke=\"#005d5d\" stroke-width=\"1.5\"/><path d=\"m123.47 20.835v45.451\" clip-path=\"url(#p538108f08b)\" fill=\"none\" stroke=\"#000000\" stroke-dasharray=\"3.7,1.6\"/><g clip-path=\"url(#p538108f08b)\"><g transform=\"translate(33.981 48.012) scale(.1625 -.1625)\"><defs><path id=\"DejaVuSans-Oblique-71\" transform=\"scale(.015625)\" d=\"m2669 525q-231-303-546-460-314-156-695-156-531 0-833 358-301 358-301 986 0 506 186 978t533 847q225 244 517 375t614 131q387 0 637-153t363-462l100 525h578l-934-4813h-579l360 1844zm-1778 813q0-463 193-705 194-242 560-242 544 0 928 520t384 1264q0 450-199 689-198 239-569 239-272 0-504-127-231-126-403-370-181-256-286-600-104-343-104-668z\"/></defs><use xlink:href=\"#DejaVuSans-Oblique-71\"/></g></g><g clip-path=\"url(#p538108f08b)\"><g transform=\"translate(58.016 82.304) scale(.104 -.104)\"><defs><path id=\"DejaVuSans-31\" transform=\"scale(.015625)\" d=\"m794 531h1031v3560l-1122-225v575l1116 225h631v-4135h1031v-531h-2687v531z\"/></defs><use xlink:href=\"#DejaVuSans-31\"/></g></g><g clip-path=\"url(#p538108f08b)\"><g transform=\"translate(35.446 93.496) scale(.1625 -.1625)\"><defs><path id=\"DejaVuSans-63\" transform=\"scale(.015625)\" d=\"m3122 3366v-538q-244 135-489 202t-495 67q-560 0-870-355-309-354-309-995t309-996q310-354 870-354 250 0 495 67t489 202v-532q-241-112-499-168-257-57-548-57-791 0-1257 497-465 497-465 1341 0 856 470 1346 471 491 1290 491 265 0 518-55 253-54 491-163z\"/></defs><use xlink:href=\"#DejaVuSans-63\"/></g></g><g clip-path=\"url(#p538108f08b)\"><g transform=\"translate(73.562 47.148) scale(.13 -.13)\" fill=\"#ffffff\"><defs><path id=\"DejaVuSans-58\" transform=\"scale(.015625)\" d=\"m403 4666h678l1160-1735 1165 1735h678l-1500-2241 1600-2425h-678l-1312 1984-1322-1984h-681l1665 2491-1453 2175z\"/></defs><use xlink:href=\"#DejaVuSans-58\"/></g></g><defs><clipPath id=\"p538108f08b\"><rect x=\"7.2\" y=\"7.2\" width=\"146.26\" height=\"109.08\"/></clipPath></defs></svg>"
            ],
            "text/plain": [
              "<Figure size 193.726x144.48 with 1 Axes>"
            ]
          },
          "execution_count": 12,
          "metadata": {
          },
          "output_type": "execute_result"
        }
      ],
      "source": [
        "print('bit = %i' % alice_bits[4])\n",
        "print('basis = %i' % alice_bases[4])\n",
        "message[4].draw()"
      ]
    },
    {
      "cell_type": "markdown",
      "metadata": {
      },
      "source": [
        "그런 다음 이 큐비트의 메시지는 이브의 채널을 통해 밥에게 전달됩니다.\n",
        "\n",
        "앨리스의 정보 | 이브의 채널 | 밥의 정보\n",
        ":-: | :-: | :-:\n",
        "alice_bits |  |\n",
        "alice_bases |  |\n",
        "message | message | message\n",
        "\n",
        "### 3.3 3 단계\n",
        "\n",
        "그리고 나서 밥은 각 큐비트를 무작위로 $X$ 또는 $Z$ 기저로 측정한 정보를 저장합니다."
      ]
    },
    {
      "cell_type": "code",
      "execution_count": 13,
      "metadata": {
      },
      "outputs": [
        {
          "name": "stdout",
          "output_type": "stream",
          "text": [
            "[1 0 1 0 0 1 1 0 0 0 1 1 0 0 0 0 0 1 0 1 0 0 0 1 1 1 0 0 1 1 1 1 0 0 0 1 1\n",
            " 0 1 0 0 1 0 1 1 1 1 0 0 0 1 1 1 0 1 1 1 1 0 0 1 1 0 0 0 1 1 0 1 1 1 1 1 0\n",
            " 0 0 1 0 1 0 1 1 0 0 0 1 0 0 1 1 1 1 0 1 0 0 0 0 1 1]\n"
          ]
        }
      ],
      "source": [
        "np.random.seed(seed=0)\n",
        "n = 100\n",
        "\n",
        "## Step 1\n",
        "# Alice generates bits\n",
        "alice_bits = randint(2, size=n)\n",
        "\n",
        "## Step 2\n",
        "# Create an array to tell us which qubits\n",
        "# are encoded in which bases\n",
        "alice_bases = randint(2, size=n)\n",
        "message = encode_message(alice_bits, alice_bases)\n",
        "\n",
        "## Step 3\n",
        "# Decide which basis to measure in:\n",
        "bob_bases = randint(2, size=n)\n",
        "print(bob_bases)"
      ]
    },
    {
      "cell_type": "markdown",
      "metadata": {
      },
      "source": [
        "밥은 각 큐비트를 측정할 때 사용한 기저를 `bob_bases` 에 저장합니다.\n",
        "\n",
        "앨리스의 정보 | 이브의 채널 | 밥의 정보\n",
        ":-: | :-: | :-:\n",
        "alice_bits |  |\n",
        "alice_bases |  |\n",
        "message | message | message\n",
        " |  | bob_bases\n",
        "\n",
        "아래 함수 `measure_message` 는 측정을 위해 상응하는 양자 회로를 적용하고 시뮬레이션을 통해 각 큐비트를 측정한 결과를 `bob_results` 에 저장합니다."
      ]
    },
    {
      "cell_type": "code",
      "execution_count": 14,
      "metadata": {
        "tags": [
          "thebelab-init"
        ]
      },
      "outputs": [

      ],
      "source": [
        "def measure_message(message, bases):\n",
        "    backend = Aer.get_backend('aer_simulator')\n",
        "    measurements = []\n",
        "    for q in range(n):\n",
        "        if bases[q] == 0: # measuring in Z-basis\n",
        "            message[q].measure(0,0)\n",
        "        if bases[q] == 1: # measuring in X-basis\n",
        "            message[q].h(0)\n",
        "            message[q].measure(0,0)\n",
        "        aer_sim = Aer.get_backend('aer_simulator')\n",
        "        result = aer_sim.run(message[q], shots=1, memory=True).result()\n",
        "        measured_bit = int(result.get_memory()[0])\n",
        "        measurements.append(measured_bit)\n",
        "    return measurements"
      ]
    },
    {
      "cell_type": "code",
      "execution_count": 15,
      "metadata": {
      },
      "outputs": [

      ],
      "source": [
        "np.random.seed(seed=0)\n",
        "n = 100\n",
        "\n",
        "## Step 1\n",
        "# Alice generates bits\n",
        "alice_bits = randint(2, size=n)\n",
        "\n",
        "## Step 2\n",
        "# Create an array to tell us which qubits\n",
        "# are encoded in which bases\n",
        "alice_bases = randint(2, size=n)\n",
        "message = encode_message(alice_bits, alice_bases)\n",
        "\n",
        "## Step 3\n",
        "# Decide which basis to measure in:\n",
        "bob_bases = randint(2, size=n)\n",
        "bob_results = measure_message(message, bob_bases)"
      ]
    },
    {
      "cell_type": "markdown",
      "metadata": {
      },
      "source": [
        "0 번째 큐비트를 의미하는 `message[0]` 의 회로는 밥이 선택한 $X$ 기저로 측정하는 것을 알 수 있습니다."
      ]
    },
    {
      "cell_type": "code",
      "execution_count": 16,
      "metadata": {
      },
      "outputs": [
        {
          "data": {
            "image/svg+xml": [
              "<?xml version=\"1.0\" encoding=\"UTF-8\"?><!DOCTYPE svg  PUBLIC '-//W3C//DTD SVG 1.1//EN'  'http://www.w3.org/Graphics/SVG/1.1/DTD/svg11.dtd'><svg width=\"251.57pt\" height=\"123.48pt\" version=\"1.1\" viewBox=\"0 0 251.57 123.48\" xmlns=\"http://www.w3.org/2000/svg\" xmlns:xlink=\"http://www.w3.org/1999/xlink\"><defs><style type=\"text/css\">*{stroke-linecap:butt;stroke-linejoin:round;}</style></defs><path d=\"m0 123.48h251.57v-123.48h-251.57z\" fill=\"#ffffff\"/><path d=\"m208.46 78.672h11.817l-5.9086 8.5221z\" clip-path=\"url(#p1a454507e3)\" fill=\"#778899\"/><path d=\"m53.471 43.561h186.35\" clip-path=\"url(#p1a454507e3)\" fill=\"none\" stroke=\"#000000\" stroke-linecap=\"square\" stroke-width=\"2\"/><path d=\"m53.471 87.535h186.35\" clip-path=\"url(#p1a454507e3)\" fill=\"none\" stroke=\"#778899\" stroke-linecap=\"square\" stroke-width=\"2\"/><path d=\"m53.471 90.489h186.35\" clip-path=\"url(#p1a454507e3)\" fill=\"none\" stroke=\"#778899\" stroke-linecap=\"square\" stroke-width=\"2\"/><path d=\"m114.6 66.286h17.726v-45.451h-17.726z\" clip-path=\"url(#p1a454507e3)\" fill=\"#bdbdbd\" opacity=\".6\"/><path d=\"m62.561 93.557 4.5451-9.0902\" clip-path=\"url(#p1a454507e3)\" fill=\"none\" stroke=\"#778899\" stroke-linecap=\"square\" stroke-width=\"1.5\"/><path d=\"m215.84 43.561v35.111\" clip-path=\"url(#p1a454507e3)\" fill=\"none\" stroke=\"#778899\" stroke-linecap=\"square\" stroke-width=\"2\"/><path d=\"m212.89 43.561v35.111\" clip-path=\"url(#p1a454507e3)\" fill=\"none\" stroke=\"#778899\" stroke-linecap=\"square\" stroke-width=\"2\"/><path d=\"m63.243 58.332h29.543v-29.543h-29.543z\" clip-path=\"url(#p1a454507e3)\" fill=\"#1192e8\" stroke=\"#1192e8\" stroke-width=\"1.5\"/><path d=\"m154.14 58.332h29.543v-29.543h-29.543z\" clip-path=\"url(#p1a454507e3)\" fill=\"#1192e8\" stroke=\"#1192e8\" stroke-width=\"1.5\"/><path d=\"m199.6 58.332h29.543v-29.543h-29.543z\" clip-path=\"url(#p1a454507e3)\" fill=\"#121619\" stroke=\"#121619\" stroke-width=\"1.5\"/><path d=\"m224.71 47.992c0-2.7413-1.0901-5.3732-3.0285-7.3116-1.9384-1.9384-4.5702-3.0285-7.3116-3.0285s-5.3732 1.0901-7.3116 3.0285c-1.9384 1.9384-3.0285 4.5702-3.0285 7.3116\" clip-path=\"url(#p1a454507e3)\" fill=\"none\" stroke=\"#ffffff\" stroke-width=\"2\"/><path d=\"m214.37 47.992 10.34-10.34\" clip-path=\"url(#p1a454507e3)\" fill=\"none\" stroke=\"#ffffff\" stroke-linecap=\"square\" stroke-width=\"2\"/><path d=\"m123.47 20.835v45.451\" clip-path=\"url(#p1a454507e3)\" fill=\"none\" stroke=\"#000000\" stroke-dasharray=\"3.7,1.6\"/><g clip-path=\"url(#p1a454507e3)\"><g transform=\"translate(33.981 48.012) scale(.1625 -.1625)\"><defs><path id=\"DejaVuSans-Oblique-71\" transform=\"scale(.015625)\" d=\"m2669 525q-231-303-546-460-314-156-695-156-531 0-833 358-301 358-301 986 0 506 186 978t533 847q225 244 517 375t614 131q387 0 637-153t363-462l100 525h578l-934-4813h-579l360 1844zm-1778 813q0-463 193-705 194-242 560-242 544 0 928 520t384 1264q0 450-199 689-198 239-569 239-272 0-504-127-231-126-403-370-181-256-286-600-104-343-104-668z\"/></defs><use xlink:href=\"#DejaVuSans-Oblique-71\"/></g></g><g clip-path=\"url(#p1a454507e3)\"><g transform=\"translate(58.016 82.304) scale(.104 -.104)\"><defs><path id=\"DejaVuSans-31\" transform=\"scale(.015625)\" d=\"m794 531h1031v3560l-1122-225v575l1116 225h631v-4135h1031v-531h-2687v531z\"/></defs><use xlink:href=\"#DejaVuSans-31\"/></g></g><g clip-path=\"url(#p1a454507e3)\"><g transform=\"translate(35.446 93.496) scale(.1625 -.1625)\"><defs><path id=\"DejaVuSans-63\" transform=\"scale(.015625)\" d=\"m3122 3366v-538q-244 135-489 202t-495 67q-560 0-870-355-309-354-309-995t309-996q310-354 870-354 250 0 495 67t489 202v-532q-241-112-499-168-257-57-548-57-791 0-1257 497-465 497-465 1341 0 856 470 1346 471 491 1290 491 265 0 518-55 253-54 491-163z\"/></defs><use xlink:href=\"#DejaVuSans-63\"/></g></g><g clip-path=\"url(#p1a454507e3)\"><g transform=\"translate(73.126 47.148) scale(.13 -.13)\" fill=\"#ffffff\"><defs><path id=\"DejaVuSans-48\" transform=\"scale(.015625)\" d=\"m628 4666h631v-1913h2294v1913h631v-4666h-631v2222h-2294v-2222h-631v4666z\"/></defs><use xlink:href=\"#DejaVuSans-48\"/></g></g><g clip-path=\"url(#p1a454507e3)\"><g transform=\"translate(164.03 47.148) scale(.13 -.13)\" fill=\"#ffffff\"><use xlink:href=\"#DejaVuSans-48\"/></g></g><g clip-path=\"url(#p1a454507e3)\"><g transform=\"translate(225.73 82.304) scale(.104 -.104)\"><defs><path id=\"DejaVuSans-30\" transform=\"scale(.015625)\" d=\"m2034 4250q-487 0-733-480-245-479-245-1442 0-959 245-1439 246-480 733-480 491 0 736 480 246 480 246 1439 0 963-246 1442-245 480-736 480zm0 500q785 0 1199-621 414-620 414-1801 0-1178-414-1799-414-620-1199-620-784 0-1198 620-414 621-414 1799 0 1181 414 1801 414 621 1198 621z\"/></defs><use xlink:href=\"#DejaVuSans-30\"/></g></g><defs><clipPath id=\"p1a454507e3\"><rect x=\"7.2\" y=\"7.2\" width=\"237.17\" height=\"109.08\"/></clipPath></defs></svg>"
            ],
            "text/plain": [
              "<Figure size 314.126x144.48 with 1 Axes>"
            ]
          },
          "execution_count": 16,
          "metadata": {
          },
          "output_type": "execute_result"
        }
      ],
      "source": [
        "message[0].draw()"
      ]
    },
    {
      "cell_type": "markdown",
      "metadata": {
      },
      "source": [
        "밥은 앨리스와 동일한 기저로 측정하기 때문에 밥은 결과 `0` 을 얻을 수 있었습니다. 아래 6 번째 큐비트는 밥이 앨리스와는 다른 기저를 무작위로 선택했기 때문에 밥과 앨리스의 결과가 일치할 확률은 50%에 불과합니다. "
      ]
    },
    {
      "cell_type": "code",
      "execution_count": 17,
      "metadata": {
      },
      "outputs": [
        {
          "data": {
            "image/svg+xml": [
              "<?xml version=\"1.0\" encoding=\"UTF-8\"?><!DOCTYPE svg  PUBLIC '-//W3C//DTD SVG 1.1//EN'  'http://www.w3.org/Graphics/SVG/1.1/DTD/svg11.dtd'><svg width=\"251.57pt\" height=\"123.48pt\" version=\"1.1\" viewBox=\"0 0 251.57 123.48\" xmlns=\"http://www.w3.org/2000/svg\" xmlns:xlink=\"http://www.w3.org/1999/xlink\"><defs><style type=\"text/css\">*{stroke-linecap:butt;stroke-linejoin:round;}</style></defs><path d=\"m0 123.48h251.57v-123.48h-251.57z\" fill=\"#ffffff\"/><path d=\"m208.46 78.672h11.817l-5.9086 8.5221z\" clip-path=\"url(#p4711bf5085)\" fill=\"#778899\"/><path d=\"m53.471 43.561h186.35\" clip-path=\"url(#p4711bf5085)\" fill=\"none\" stroke=\"#000000\" stroke-linecap=\"square\" stroke-width=\"2\"/><path d=\"m53.471 87.535h186.35\" clip-path=\"url(#p4711bf5085)\" fill=\"none\" stroke=\"#778899\" stroke-linecap=\"square\" stroke-width=\"2\"/><path d=\"m53.471 90.489h186.35\" clip-path=\"url(#p4711bf5085)\" fill=\"none\" stroke=\"#778899\" stroke-linecap=\"square\" stroke-width=\"2\"/><path d=\"m114.6 66.286h17.726v-45.451h-17.726z\" clip-path=\"url(#p4711bf5085)\" fill=\"#bdbdbd\" opacity=\".6\"/><path d=\"m62.561 93.557 4.5451-9.0902\" clip-path=\"url(#p4711bf5085)\" fill=\"none\" stroke=\"#778899\" stroke-linecap=\"square\" stroke-width=\"1.5\"/><path d=\"m215.84 43.561v35.111\" clip-path=\"url(#p4711bf5085)\" fill=\"none\" stroke=\"#778899\" stroke-linecap=\"square\" stroke-width=\"2\"/><path d=\"m212.89 43.561v35.111\" clip-path=\"url(#p4711bf5085)\" fill=\"none\" stroke=\"#778899\" stroke-linecap=\"square\" stroke-width=\"2\"/><path d=\"m63.243 58.332h29.543v-29.543h-29.543z\" clip-path=\"url(#p4711bf5085)\" fill=\"#005d5d\" stroke=\"#005d5d\" stroke-width=\"1.5\"/><path d=\"m154.14 58.332h29.543v-29.543h-29.543z\" clip-path=\"url(#p4711bf5085)\" fill=\"#1192e8\" stroke=\"#1192e8\" stroke-width=\"1.5\"/><path d=\"m199.6 58.332h29.543v-29.543h-29.543z\" clip-path=\"url(#p4711bf5085)\" fill=\"#121619\" stroke=\"#121619\" stroke-width=\"1.5\"/><path d=\"m224.71 47.992c0-2.7413-1.0901-5.3732-3.0285-7.3116-1.9384-1.9384-4.5702-3.0285-7.3116-3.0285s-5.3732 1.0901-7.3116 3.0285c-1.9384 1.9384-3.0285 4.5702-3.0285 7.3116\" clip-path=\"url(#p4711bf5085)\" fill=\"none\" stroke=\"#ffffff\" stroke-width=\"2\"/><path d=\"m214.37 47.992 10.34-10.34\" clip-path=\"url(#p4711bf5085)\" fill=\"none\" stroke=\"#ffffff\" stroke-linecap=\"square\" stroke-width=\"2\"/><path d=\"m123.47 20.835v45.451\" clip-path=\"url(#p4711bf5085)\" fill=\"none\" stroke=\"#000000\" stroke-dasharray=\"3.7,1.6\"/><g clip-path=\"url(#p4711bf5085)\"><g transform=\"translate(33.981 48.012) scale(.1625 -.1625)\"><defs><path id=\"DejaVuSans-Oblique-71\" transform=\"scale(.015625)\" d=\"m2669 525q-231-303-546-460-314-156-695-156-531 0-833 358-301 358-301 986 0 506 186 978t533 847q225 244 517 375t614 131q387 0 637-153t363-462l100 525h578l-934-4813h-579l360 1844zm-1778 813q0-463 193-705 194-242 560-242 544 0 928 520t384 1264q0 450-199 689-198 239-569 239-272 0-504-127-231-126-403-370-181-256-286-600-104-343-104-668z\"/></defs><use xlink:href=\"#DejaVuSans-Oblique-71\"/></g></g><g clip-path=\"url(#p4711bf5085)\"><g transform=\"translate(58.016 82.304) scale(.104 -.104)\"><defs><path id=\"DejaVuSans-31\" transform=\"scale(.015625)\" d=\"m794 531h1031v3560l-1122-225v575l1116 225h631v-4135h1031v-531h-2687v531z\"/></defs><use xlink:href=\"#DejaVuSans-31\"/></g></g><g clip-path=\"url(#p4711bf5085)\"><g transform=\"translate(35.446 93.496) scale(.1625 -.1625)\"><defs><path id=\"DejaVuSans-63\" transform=\"scale(.015625)\" d=\"m3122 3366v-538q-244 135-489 202t-495 67q-560 0-870-355-309-354-309-995t309-996q310-354 870-354 250 0 495 67t489 202v-532q-241-112-499-168-257-57-548-57-791 0-1257 497-465 497-465 1341 0 856 470 1346 471 491 1290 491 265 0 518-55 253-54 491-163z\"/></defs><use xlink:href=\"#DejaVuSans-63\"/></g></g><g clip-path=\"url(#p4711bf5085)\"><g transform=\"translate(73.562 47.148) scale(.13 -.13)\" fill=\"#ffffff\"><defs><path id=\"DejaVuSans-58\" transform=\"scale(.015625)\" d=\"m403 4666h678l1160-1735 1165 1735h678l-1500-2241 1600-2425h-678l-1312 1984-1322-1984h-681l1665 2491-1453 2175z\"/></defs><use xlink:href=\"#DejaVuSans-58\"/></g></g><g clip-path=\"url(#p4711bf5085)\"><g transform=\"translate(164.03 47.148) scale(.13 -.13)\" fill=\"#ffffff\"><defs><path id=\"DejaVuSans-48\" transform=\"scale(.015625)\" d=\"m628 4666h631v-1913h2294v1913h631v-4666h-631v2222h-2294v-2222h-631v4666z\"/></defs><use xlink:href=\"#DejaVuSans-48\"/></g></g><g clip-path=\"url(#p4711bf5085)\"><g transform=\"translate(225.73 82.304) scale(.104 -.104)\"><defs><path id=\"DejaVuSans-30\" transform=\"scale(.015625)\" d=\"m2034 4250q-487 0-733-480-245-479-245-1442 0-959 245-1439 246-480 733-480 491 0 736 480 246 480 246 1439 0 963-246 1442-245 480-736 480zm0 500q785 0 1199-621 414-620 414-1801 0-1178-414-1799-414-620-1199-620-784 0-1198 620-414 621-414 1799 0 1181 414 1801 414 621 1198 621z\"/></defs><use xlink:href=\"#DejaVuSans-30\"/></g></g><defs><clipPath id=\"p4711bf5085\"><rect x=\"7.2\" y=\"7.2\" width=\"237.17\" height=\"109.08\"/></clipPath></defs></svg>"
            ],
            "text/plain": [
              "<Figure size 314.126x144.48 with 1 Axes>"
            ]
          },
          "execution_count": 17,
          "metadata": {
          },
          "output_type": "execute_result"
        }
      ],
      "source": [
        "message[6].draw()"
      ]
    },
    {
      "cell_type": "code",
      "execution_count": 18,
      "metadata": {
      },
      "outputs": [
        {
          "name": "stdout",
          "output_type": "stream",
          "text": [
            "[0, 1, 0, 1, 1, 0, 1, 0, 0, 1, 1, 0, 0, 1, 0, 0, 0, 1, 0, 0, 1, 0, 0, 0, 0, 0, 1, 1, 1, 0, 1, 0, 1, 0, 1, 1, 0, 1, 0, 0, 1, 1, 0, 1, 1, 0, 1, 0, 1, 0, 1, 1, 1, 1, 0, 0, 1, 0, 0, 1, 1, 0, 1, 0, 1, 0, 1, 0, 0, 1, 1, 1, 0, 0, 1, 1, 1, 0, 0, 0, 0, 0, 1, 1, 1, 1, 1, 1, 0, 1, 1, 1, 0, 0, 1, 0, 0, 1, 1, 0]\n"
          ]
        }
      ],
      "source": [
        "print(bob_results)"
      ]
    },
    {
      "cell_type": "markdown",
      "metadata": {
      },
      "source": [
        "밥은 이 결과를 비밀로 유지합니다.\n",
        "\n",
        "앨리스의 정보 | 이브의 채널 | 밥의 정보\n",
        ":-: | :-: | :-:\n",
        "alice_bits |  |\n",
        "alice_bases |  |\n",
        "message | message | message\n",
        " |  | bob_bases\n",
        " |  | bob_results\n",
        "\n",
        "### 3.4 4 단계\n",
        "\n",
        "이 후 앨리스는 이브의 채널을 통해 어떤 큐비트를 어떤 기저로 부호화했는지 공개합니다.\n",
        "\n",
        "앨리스의 정보 | 이브의 채널 | 밥의 정보\n",
        ":-: | :-: | :-:\n",
        "alice_bits |  |\n",
        "alice_bases |  |\n",
        "message | message | message\n",
        " |  | bob_bases\n",
        " |  | bob_results\n",
        " | alice_bases | alice_bases\n",
        "\n",
        "그리고 밥은 각 큐비트를 측정한 기저를 다음과 같이 공개합니다.\n",
        "\n",
        "앨리스의 정보 | 이브의 채널 | 밥의 정보\n",
        ":-: | :-: | :-:\n",
        "alice_bits |  |\n",
        "alice_bases |  |\n",
        "message | message | message\n",
        " |  | bob_bases\n",
        " |  | bob_results\n",
        " | alice_bases | alice_bases\n",
        "bob_bases | bob_bases |\n",
        "\n",
        "밥이 앨리스와 동일한 기저로 큐비트를 측정하면 이는 `bob_results` 의 항목이 상응하는 `alice_bits` 의 항목과 일치하고 해당 비트를 키의 일부로 사용할 수 있음을 의미합니다. 밥이 앨리스와는 다른 기저로 측정하면 밥의 결과는 무작위 이며 둘 다 해당 항목을 버립니다. 다음은 이 작업을 수행하는 `remove_garbage` 함수 입니다."
      ]
    },
    {
      "cell_type": "code",
      "execution_count": 19,
      "metadata": {
        "scrolled": true,
        "tags": [
          "thebelab-init"
        ]
      },
      "outputs": [

      ],
      "source": [
        "def remove_garbage(a_bases, b_bases, bits):\n",
        "    good_bits = []\n",
        "    for q in range(n):\n",
        "        if a_bases[q] == b_bases[q]:\n",
        "            # If both used the same basis, add\n",
        "            # this to the list of 'good' bits\n",
        "            good_bits.append(bits[q])\n",
        "    return good_bits"
      ]
    },
    {
      "cell_type": "markdown",
      "metadata": {
      },
      "source": [
        "앨리스와 밥 모두 이 쓸모없는 비트를 버리고 남은 비트를 사용해서 비밀 키를 형성합니다."
      ]
    },
    {
      "cell_type": "code",
      "execution_count": 20,
      "metadata": {
      },
      "outputs": [
        {
          "name": "stdout",
          "output_type": "stream",
          "text": [
            "[0, 1, 1, 1, 1, 0, 1, 0, 0, 0, 0, 1, 0, 0, 0, 1, 1, 1, 0, 1, 0, 1, 1, 0, 1, 0, 0, 0, 0, 0, 0, 1, 0, 0, 1, 1, 0, 0, 0, 1, 1, 1, 1, 0, 0, 1, 0, 0]\n"
          ]
        }
      ],
      "source": [
        "np.random.seed(seed=0)\n",
        "n = 100\n",
        "\n",
        "## Step 1\n",
        "# Alice generates bits\n",
        "alice_bits = randint(2, size=n)\n",
        "\n",
        "## Step 2\n",
        "# Create an array to tell us which qubits\n",
        "# are encoded in which bases\n",
        "alice_bases = randint(2, size=n)\n",
        "message = encode_message(alice_bits, alice_bases)\n",
        "\n",
        "## Step 3\n",
        "# Decide which basis to measure in:\n",
        "bob_bases = randint(2, size=n)\n",
        "bob_results = measure_message(message, bob_bases)\n",
        "\n",
        "## Step 4\n",
        "alice_key = remove_garbage(alice_bases, bob_bases, alice_bits)\n",
        "print(alice_key)"
      ]
    },
    {
      "cell_type": "markdown",
      "metadata": {
      },
      "source": [
        "앨리스의 정보 | 이브의 채널 | 밥의 정보\n",
        ":-: | :-: | :-:\n",
        "alice_bits |  |\n",
        "alice_bases |  |\n",
        "message | message | message\n",
        " |  | bob_bases\n",
        " |  | bob_results\n",
        " | alice_bases | alice_bases\n",
        "bob_bases | bob_bases |\n",
        "alice_key |  |  "
      ]
    },
    {
      "cell_type": "code",
      "execution_count": 21,
      "metadata": {
      },
      "outputs": [
        {
          "name": "stdout",
          "output_type": "stream",
          "text": [
            "[0, 1, 1, 1, 1, 0, 1, 0, 0, 0, 0, 1, 0, 0, 0, 1, 1, 1, 0, 1, 0, 1, 1, 0, 1, 0, 0, 0, 0, 0, 0, 1, 0, 0, 1, 1, 0, 0, 0, 1, 1, 1, 1, 0, 0, 1, 0, 0]\n"
          ]
        }
      ],
      "source": [
        "np.random.seed(seed=0)\n",
        "n = 100\n",
        "\n",
        "## Step 1\n",
        "# Alice generates bits\n",
        "alice_bits = randint(2, size=n)\n",
        "\n",
        "## Step 2\n",
        "# Create an array to tell us which qubits\n",
        "# are encoded in which bases\n",
        "alice_bases = randint(2, size=n)\n",
        "message = encode_message(alice_bits, alice_bases)\n",
        "\n",
        "## Step 3\n",
        "# Decide which basis to measure in:\n",
        "bob_bases = randint(2, size=n)\n",
        "bob_results = measure_message(message, bob_bases)\n",
        "\n",
        "## Step 4\n",
        "alice_key = remove_garbage(alice_bases, bob_bases, alice_bits)\n",
        "bob_key = remove_garbage(alice_bases, bob_bases, bob_results)\n",
        "print(bob_key)"
      ]
    },
    {
      "cell_type": "markdown",
      "metadata": {
      },
      "source": [
        "앨리스의 정보 | 이브의 채널 | 밥의 정보\n",
        ":-: | :-: | :-:\n",
        "alice_bits |  |\n",
        "alice_bases |  |\n",
        "message | message | message\n",
        " |  | bob_bases\n",
        " |  | bob_results\n",
        " | alice_bases | alice_bases\n",
        "bob_bases | bob_bases |\n",
        "alice_key |  | bob_key"
      ]
    },
    {
      "cell_type": "markdown",
      "metadata": {
      },
      "source": [
        "### 3.5 5 단계\n",
        "\n",
        "끝으로 밥과 앨리스는 키에 있는 임의의 비트를 비교하여 프로토콜이 올바르게 작동하는지 확인합니다."
      ]
    },
    {
      "cell_type": "code",
      "execution_count": 22,
      "metadata": {
        "tags": [
          "thebelab-init"
        ]
      },
      "outputs": [

      ],
      "source": [
        "def sample_bits(bits, selection):\n",
        "    sample = []\n",
        "    for i in selection:\n",
        "        # use np.mod to make sure the\n",
        "        # bit we sample is always in \n",
        "        # the list range\n",
        "        i = np.mod(i, len(bits))\n",
        "        # pop(i) removes the element of the\n",
        "        # list at index 'i'\n",
        "        sample.append(bits.pop(i))\n",
        "    return sample"
      ]
    },
    {
      "cell_type": "markdown",
      "metadata": {
      },
      "source": [
        "앨리스와 밥은 이를 공개적으로 알리고 더 이상 비밀이 아니므로 키에서 제거합니다."
      ]
    },
    {
      "cell_type": "code",
      "execution_count": 23,
      "metadata": {
      },
      "outputs": [
        {
          "name": "stdout",
          "output_type": "stream",
          "text": [
            "  bob_sample = [0, 1, 0, 1, 1, 0, 0, 0, 0, 0, 0, 1, 0, 0, 0]\n",
            "alice_sample = [0, 1, 0, 1, 1, 0, 0, 0, 0, 0, 0, 1, 0, 0, 0]\n"
          ]
        }
      ],
      "source": [
        "np.random.seed(seed=0)\n",
        "n = 100\n",
        "\n",
        "## Step 1\n",
        "# Alice generates bits\n",
        "alice_bits = randint(2, size=n)\n",
        "\n",
        "## Step 2\n",
        "# Create an array to tell us which qubits\n",
        "# are encoded in which bases\n",
        "alice_bases = randint(2, size=n)\n",
        "message = encode_message(alice_bits, alice_bases)\n",
        "\n",
        "## Step 3\n",
        "# Decide which basis to measure in:\n",
        "bob_bases = randint(2, size=n)\n",
        "bob_results = measure_message(message, bob_bases)\n",
        "\n",
        "## Step 4\n",
        "alice_key = remove_garbage(alice_bases, bob_bases, alice_bits)\n",
        "bob_key = remove_garbage(alice_bases, bob_bases, bob_results)\n",
        "\n",
        "## Step 5\n",
        "sample_size = 15\n",
        "bit_selection = randint(n, size=sample_size)\n",
        "\n",
        "bob_sample = sample_bits(bob_key, bit_selection)\n",
        "print(\"  bob_sample = \" + str(bob_sample))\n",
        "alice_sample = sample_bits(alice_key, bit_selection)\n",
        "print(\"alice_sample = \"+ str(alice_sample))"
      ]
    },
    {
      "cell_type": "markdown",
      "metadata": {
      },
      "source": [
        "앨리스의 정보 | 이브의 채널 | 밥의 정보\n",
        ":-: | :-: | :-:\n",
        "alice_bits |  |\n",
        "alice_bases |  |\n",
        "message | message | message\n",
        " |  | bob_bases\n",
        " |  | bob_results\n",
        " | alice_bases | alice_bases\n",
        "bob_bases | bob_bases |\n",
        "alice_key |  | bob_key\n",
        "bob_sample | bob_sample | bob_sample\n",
        "alice_sample | alice_sample | alice_sample"
      ]
    },
    {
      "cell_type": "markdown",
      "metadata": {
      },
      "source": [
        "프로토콜이 감청 없이 올바르게 작동했다면 밥과 앨리스의 표본이 서로 일치해야 합니다."
      ]
    },
    {
      "cell_type": "code",
      "execution_count": 24,
      "metadata": {
      },
      "outputs": [
        {
          "data": {
            "text/plain": [
              "True"
            ]
          },
          "execution_count": 24,
          "metadata": {
          },
          "output_type": "execute_result"
        }
      ],
      "source": [
        "bob_sample == alice_sample"
      ]
    },
    {
      "cell_type": "markdown",
      "metadata": {
      },
      "source": [
        "밥과 앨리스의 표본이 일치하면 높은 확률로 `alice_key == bob_key` 를 의미합니다. 이제 밥과 앨리스는 메시지를 암호화하는 데 사용하는 비밀 키를 공유합니다.\n",
        "\n",
        "앨리스의 정보 | 이브의 채널 | 밥의 정보\n",
        ":-: | :-: | :-:\n",
        "alice_bits |  |\n",
        "alice_bases |  |\n",
        "message | message | message\n",
        " |  | bob_bases\n",
        " |  | bob_results\n",
        " | alice_bases | alice_bases\n",
        "bob_bases | bob_bases |\n",
        "alice_key |  | bob_key\n",
        "bob_sample | bob_sample | bob_sample\n",
        "alice_sample | alice_sample | alice_sample\n",
        "shared_key |  | shared_key"
      ]
    },
    {
      "cell_type": "code",
      "execution_count": 25,
      "metadata": {
      },
      "outputs": [
        {
          "name": "stdout",
          "output_type": "stream",
          "text": [
            "[1, 1, 0, 1, 0, 0, 1, 0, 1, 1, 1, 0, 1, 1, 1, 0, 1, 0, 0, 1, 0, 0, 1, 1, 0, 0, 0, 1, 1, 0, 1, 0, 0]\n",
            "[1, 1, 0, 1, 0, 0, 1, 0, 1, 1, 1, 0, 1, 1, 1, 0, 1, 0, 0, 1, 0, 0, 1, 1, 0, 0, 0, 1, 1, 0, 1, 0, 0]\n",
            "key length = 33\n"
          ]
        }
      ],
      "source": [
        "print(bob_key)\n",
        "print(alice_key)\n",
        "print(\"key length = %i\" % len(alice_key))"
      ]
    },
    {
      "cell_type": "markdown",
      "metadata": {
      },
      "source": [
        "## 4. Qiskit 예제 *감청이 있는* 경우\n",
        "\n",
        "이제 앨리스와 밥이 이브가 양자 메시지를 감청하려 했는지 알 수 있는 방법을 살펴보겠습니다. 감청이 없을 때와  동일한 단계를 반복하지만 밥이 큐비트를 받기 전에 이브는 큐비트에서 일부 정보를 감청하려할 수 있습니다. 재현 가능한 '무작위' 비트 집합 얻을 수 있도록 다른 seed를 설정해 보겠습니다."
      ]
    },
    {
      "cell_type": "code",
      "execution_count": 26,
      "metadata": {
      },
      "outputs": [

      ],
      "source": [
        "np.random.seed(seed=3)"
      ]
    },
    {
      "cell_type": "markdown",
      "metadata": {
      },
      "source": [
        "### 4.1 1 단계\n",
        "\n",
        "앨리스는 무작위 비트 집합을 생성합니다."
      ]
    },
    {
      "cell_type": "code",
      "execution_count": 27,
      "metadata": {
      },
      "outputs": [
        {
          "name": "stdout",
          "output_type": "stream",
          "text": [
            "[0 0 1 1 0 0 0 1 1 1 0 1 1 1 0 1 1 0 0 0 0 1 1 0 0 0 1 0 0 0 0 1 0 1 1 0 1\n",
            " 0 0 1 1 0 0 1 0 1 0 1 1 1 1 0 1 0 0 1 1 1 0 0 0 1 0 0 0 1 0 0 1 1 0 0 1 1\n",
            " 1 0 1 1 1 1 1 1 0 1 0 0 1 1 0 1 0 0 0 0 0 1 1 0 1 1]\n"
          ]
        }
      ],
      "source": [
        "np.random.seed(seed=3)\n",
        "## Step 1\n",
        "alice_bits = randint(2, size=n)\n",
        "print(alice_bits)"
      ]
    },
    {
      "cell_type": "markdown",
      "metadata": {
      },
      "source": [
        "### 4.2 2 단계\n",
        "\n",
        "앨리스는 이 비트를 무작위로 $Z$ 와 $X$ 기저로 부호화 하고 이브의 양자 채널을 통해 밥에게 보냅니다."
      ]
    },
    {
      "cell_type": "code",
      "execution_count": 28,
      "metadata": {
      },
      "outputs": [
        {
          "name": "stdout",
          "output_type": "stream",
          "text": [
            "[1 0 0 1 1 0 1 0 0 0 0 0 0 0 0 0 1 0 0 0 0 1 1 1 1 0 0 1 1 0 0 1 1 1 1 0 0\n",
            " 1 1 0 0 0 0 0 0 0 0 1 1 0 0 0 1 0 1 1 1 0 0 1 0 1 0 1 1 0 0 1 0 0 1 1 1 1\n",
            " 1 0 0 0 0 0 1 1 1 0 0 0 0 0 0 1 0 1 0 0 0 1 0 1 1 1]\n"
          ]
        }
      ],
      "source": [
        "np.random.seed(seed=3)\n",
        "## Step 1\n",
        "alice_bits = randint(2, size=n)\n",
        "## Step 2\n",
        "alice_bases = randint(2, size=n)\n",
        "message = encode_message(alice_bits, alice_bases)\n",
        "print(alice_bases)"
      ]
    },
    {
      "cell_type": "markdown",
      "metadata": {
      },
      "source": [
        "이 경우 앨리스 메시지의 첫 번째 큐비트는 $|+\\rangle$ 상태입니다."
      ]
    },
    {
      "cell_type": "code",
      "execution_count": 29,
      "metadata": {
      },
      "outputs": [
        {
          "data": {
            "image/svg+xml": [
              "<?xml version=\"1.0\" encoding=\"UTF-8\"?><!DOCTYPE svg  PUBLIC '-//W3C//DTD SVG 1.1//EN'  'http://www.w3.org/Graphics/SVG/1.1/DTD/svg11.dtd'><svg width=\"160.66pt\" height=\"123.48pt\" version=\"1.1\" viewBox=\"0 0 160.66 123.48\" xmlns=\"http://www.w3.org/2000/svg\" xmlns:xlink=\"http://www.w3.org/1999/xlink\"><defs><style type=\"text/css\">*{stroke-linecap:butt;stroke-linejoin:round;}</style></defs><path d=\"m0 123.48h160.66v-123.48h-160.66z\" fill=\"#ffffff\"/><path d=\"m53.471 43.561h95.447\" clip-path=\"url(#p97eac7725f)\" fill=\"none\" stroke=\"#000000\" stroke-linecap=\"square\" stroke-width=\"2\"/><path d=\"m53.471 87.535h95.447\" clip-path=\"url(#p97eac7725f)\" fill=\"none\" stroke=\"#778899\" stroke-linecap=\"square\" stroke-width=\"2\"/><path d=\"m53.471 90.489h95.447\" clip-path=\"url(#p97eac7725f)\" fill=\"none\" stroke=\"#778899\" stroke-linecap=\"square\" stroke-width=\"2\"/><path d=\"m114.6 66.286h17.726v-45.451h-17.726z\" clip-path=\"url(#p97eac7725f)\" fill=\"#bdbdbd\" opacity=\".6\"/><path d=\"m62.561 93.557 4.5451-9.0902\" clip-path=\"url(#p97eac7725f)\" fill=\"none\" stroke=\"#778899\" stroke-linecap=\"square\" stroke-width=\"1.5\"/><path d=\"m63.243 58.332h29.543v-29.543h-29.543z\" clip-path=\"url(#p97eac7725f)\" fill=\"#1192e8\" stroke=\"#1192e8\" stroke-width=\"1.5\"/><path d=\"m123.47 20.835v45.451\" clip-path=\"url(#p97eac7725f)\" fill=\"none\" stroke=\"#000000\" stroke-dasharray=\"3.7,1.6\"/><g clip-path=\"url(#p97eac7725f)\"><g transform=\"translate(33.981 48.012) scale(.1625 -.1625)\"><defs><path id=\"DejaVuSans-Oblique-71\" transform=\"scale(.015625)\" d=\"m2669 525q-231-303-546-460-314-156-695-156-531 0-833 358-301 358-301 986 0 506 186 978t533 847q225 244 517 375t614 131q387 0 637-153t363-462l100 525h578l-934-4813h-579l360 1844zm-1778 813q0-463 193-705 194-242 560-242 544 0 928 520t384 1264q0 450-199 689-198 239-569 239-272 0-504-127-231-126-403-370-181-256-286-600-104-343-104-668z\"/></defs><use xlink:href=\"#DejaVuSans-Oblique-71\"/></g></g><g clip-path=\"url(#p97eac7725f)\"><g transform=\"translate(58.016 82.304) scale(.104 -.104)\"><defs><path id=\"DejaVuSans-31\" transform=\"scale(.015625)\" d=\"m794 531h1031v3560l-1122-225v575l1116 225h631v-4135h1031v-531h-2687v531z\"/></defs><use xlink:href=\"#DejaVuSans-31\"/></g></g><g clip-path=\"url(#p97eac7725f)\"><g transform=\"translate(35.446 93.496) scale(.1625 -.1625)\"><defs><path id=\"DejaVuSans-63\" transform=\"scale(.015625)\" d=\"m3122 3366v-538q-244 135-489 202t-495 67q-560 0-870-355-309-354-309-995t309-996q310-354 870-354 250 0 495 67t489 202v-532q-241-112-499-168-257-57-548-57-791 0-1257 497-465 497-465 1341 0 856 470 1346 471 491 1290 491 265 0 518-55 253-54 491-163z\"/></defs><use xlink:href=\"#DejaVuSans-63\"/></g></g><g clip-path=\"url(#p97eac7725f)\"><g transform=\"translate(73.126 47.148) scale(.13 -.13)\" fill=\"#ffffff\"><defs><path id=\"DejaVuSans-48\" transform=\"scale(.015625)\" d=\"m628 4666h631v-1913h2294v1913h631v-4666h-631v2222h-2294v-2222h-631v4666z\"/></defs><use xlink:href=\"#DejaVuSans-48\"/></g></g><defs><clipPath id=\"p97eac7725f\"><rect x=\"7.2\" y=\"7.2\" width=\"146.26\" height=\"109.08\"/></clipPath></defs></svg>"
            ],
            "text/plain": [
              "<Figure size 193.726x144.48 with 1 Axes>"
            ]
          },
          "execution_count": 29,
          "metadata": {
          },
          "output_type": "execute_result"
        }
      ],
      "source": [
        "message[0].draw()"
      ]
    },
    {
      "cell_type": "markdown",
      "metadata": {
      },
      "source": [
        "### 감청!\n",
        "\n",
        "이브가 채널을 통과하는 메시지를 감청합니다. 이브는 기저를 무작위로 선택하여 큐비트를 측정합니다."
      ]
    },
    {
      "cell_type": "code",
      "execution_count": 30,
      "metadata": {
        "scrolled": true
      },
      "outputs": [
        {
          "name": "stdout",
          "output_type": "stream",
          "text": [
            "[0, 0, 0, 0, 0, 0, 1, 1, 1, 1, 0, 1, 1, 1, 0, 1, 0, 0, 0, 0, 1, 1, 1, 0, 0, 0, 1, 0, 0, 0, 0, 1, 1, 1, 1, 0, 1, 0, 0, 1, 0, 0, 1, 1, 1, 1, 1, 0, 1, 1, 1, 1, 1, 1, 1, 1, 1, 1, 0, 0, 0, 1, 1, 1, 0, 1, 0, 0, 0, 1, 0, 0, 1, 1, 1, 1, 1, 0, 1, 1, 1, 1, 0, 0, 0, 0, 1, 1, 0, 1, 1, 0, 1, 0, 0, 1, 1, 1, 1, 0]\n"
          ]
        }
      ],
      "source": [
        "np.random.seed(seed=3)\n",
        "## Step 1\n",
        "alice_bits = randint(2, size=n)\n",
        "## Step 2\n",
        "alice_bases = randint(2, size=n)\n",
        "message = encode_message(alice_bits, alice_bases)\n",
        "## Interception!!\n",
        "eve_bases = randint(2, size=n)\n",
        "intercepted_message = measure_message(message, eve_bases)\n",
        "print(intercepted_message)"
      ]
    },
    {
      "cell_type": "markdown",
      "metadata": {
      },
      "source": [
        "아래에서 큐비트 0의 경우를 볼 수 있습니다. 이브가 무작위로 선택하는 기저는 앨리스의 기저와 같지 않으며 이는 큐비트 상태를 $|+\\rangle$ 에서 $Z$ 기저의 무작위 상태로 변화시키므로 50%의 확률로 $|0\\rangle$ 또는 $|1\\rangle$ 가 됩니다."
      ]
    },
    {
      "cell_type": "code",
      "execution_count": 31,
      "metadata": {
      },
      "outputs": [
        {
          "data": {
            "image/svg+xml": [
              "<?xml version=\"1.0\" encoding=\"UTF-8\"?><!DOCTYPE svg  PUBLIC '-//W3C//DTD SVG 1.1//EN'  'http://www.w3.org/Graphics/SVG/1.1/DTD/svg11.dtd'><svg width=\"206.11pt\" height=\"123.48pt\" version=\"1.1\" viewBox=\"0 0 206.11 123.48\" xmlns=\"http://www.w3.org/2000/svg\" xmlns:xlink=\"http://www.w3.org/1999/xlink\"><defs><style type=\"text/css\">*{stroke-linecap:butt;stroke-linejoin:round;}</style></defs><path d=\"m0 123.48h206.11v-123.48h-206.11z\" fill=\"#ffffff\"/><path d=\"m163.01 78.672h11.817l-5.9086 8.5221z\" clip-path=\"url(#pacc6f83938)\" fill=\"#778899\"/><path d=\"m53.471 43.561h140.9\" clip-path=\"url(#pacc6f83938)\" fill=\"none\" stroke=\"#000000\" stroke-linecap=\"square\" stroke-width=\"2\"/><path d=\"m53.471 87.535h140.9\" clip-path=\"url(#pacc6f83938)\" fill=\"none\" stroke=\"#778899\" stroke-linecap=\"square\" stroke-width=\"2\"/><path d=\"m53.471 90.489h140.9\" clip-path=\"url(#pacc6f83938)\" fill=\"none\" stroke=\"#778899\" stroke-linecap=\"square\" stroke-width=\"2\"/><path d=\"m114.6 66.286h17.726v-45.451h-17.726z\" clip-path=\"url(#pacc6f83938)\" fill=\"#bdbdbd\" opacity=\".6\"/><path d=\"m62.561 93.557 4.5451-9.0902\" clip-path=\"url(#pacc6f83938)\" fill=\"none\" stroke=\"#778899\" stroke-linecap=\"square\" stroke-width=\"1.5\"/><path d=\"m170.39 43.561v35.111\" clip-path=\"url(#pacc6f83938)\" fill=\"none\" stroke=\"#778899\" stroke-linecap=\"square\" stroke-width=\"2\"/><path d=\"m167.44 43.561v35.111\" clip-path=\"url(#pacc6f83938)\" fill=\"none\" stroke=\"#778899\" stroke-linecap=\"square\" stroke-width=\"2\"/><path d=\"m63.243 58.332h29.543v-29.543h-29.543z\" clip-path=\"url(#pacc6f83938)\" fill=\"#1192e8\" stroke=\"#1192e8\" stroke-width=\"1.5\"/><path d=\"m154.14 58.332h29.543v-29.543h-29.543z\" clip-path=\"url(#pacc6f83938)\" fill=\"#121619\" stroke=\"#121619\" stroke-width=\"1.5\"/><path d=\"m179.26 47.992c0-2.7413-1.0901-5.3732-3.0285-7.3116-1.9384-1.9384-4.5702-3.0285-7.3116-3.0285s-5.3732 1.0901-7.3116 3.0285c-1.9384 1.9384-3.0285 4.5702-3.0285 7.3116\" clip-path=\"url(#pacc6f83938)\" fill=\"none\" stroke=\"#ffffff\" stroke-width=\"2\"/><path d=\"m168.92 47.992 10.34-10.34\" clip-path=\"url(#pacc6f83938)\" fill=\"none\" stroke=\"#ffffff\" stroke-linecap=\"square\" stroke-width=\"2\"/><path d=\"m123.47 20.835v45.451\" clip-path=\"url(#pacc6f83938)\" fill=\"none\" stroke=\"#000000\" stroke-dasharray=\"3.7,1.6\"/><g clip-path=\"url(#pacc6f83938)\"><g transform=\"translate(33.981 48.012) scale(.1625 -.1625)\"><defs><path id=\"DejaVuSans-Oblique-71\" transform=\"scale(.015625)\" d=\"m2669 525q-231-303-546-460-314-156-695-156-531 0-833 358-301 358-301 986 0 506 186 978t533 847q225 244 517 375t614 131q387 0 637-153t363-462l100 525h578l-934-4813h-579l360 1844zm-1778 813q0-463 193-705 194-242 560-242 544 0 928 520t384 1264q0 450-199 689-198 239-569 239-272 0-504-127-231-126-403-370-181-256-286-600-104-343-104-668z\"/></defs><use xlink:href=\"#DejaVuSans-Oblique-71\"/></g></g><g clip-path=\"url(#pacc6f83938)\"><g transform=\"translate(58.016 82.304) scale(.104 -.104)\"><defs><path id=\"DejaVuSans-31\" transform=\"scale(.015625)\" d=\"m794 531h1031v3560l-1122-225v575l1116 225h631v-4135h1031v-531h-2687v531z\"/></defs><use xlink:href=\"#DejaVuSans-31\"/></g></g><g clip-path=\"url(#pacc6f83938)\"><g transform=\"translate(35.446 93.496) scale(.1625 -.1625)\"><defs><path id=\"DejaVuSans-63\" transform=\"scale(.015625)\" d=\"m3122 3366v-538q-244 135-489 202t-495 67q-560 0-870-355-309-354-309-995t309-996q310-354 870-354 250 0 495 67t489 202v-532q-241-112-499-168-257-57-548-57-791 0-1257 497-465 497-465 1341 0 856 470 1346 471 491 1290 491 265 0 518-55 253-54 491-163z\"/></defs><use xlink:href=\"#DejaVuSans-63\"/></g></g><g clip-path=\"url(#pacc6f83938)\"><g transform=\"translate(73.126 47.148) scale(.13 -.13)\" fill=\"#ffffff\"><defs><path id=\"DejaVuSans-48\" transform=\"scale(.015625)\" d=\"m628 4666h631v-1913h2294v1913h631v-4666h-631v2222h-2294v-2222h-631v4666z\"/></defs><use xlink:href=\"#DejaVuSans-48\"/></g></g><g clip-path=\"url(#pacc6f83938)\"><g transform=\"translate(180.28 82.304) scale(.104 -.104)\"><defs><path id=\"DejaVuSans-30\" transform=\"scale(.015625)\" d=\"m2034 4250q-487 0-733-480-245-479-245-1442 0-959 245-1439 246-480 733-480 491 0 736 480 246 480 246 1439 0 963-246 1442-245 480-736 480zm0 500q785 0 1199-621 414-620 414-1801 0-1178-414-1799-414-620-1199-620-784 0-1198 620-414 621-414 1799 0 1181 414 1801 414 621 1198 621z\"/></defs><use xlink:href=\"#DejaVuSans-30\"/></g></g><defs><clipPath id=\"pacc6f83938\"><rect x=\"7.2\" y=\"7.2\" width=\"191.71\" height=\"109.08\"/></clipPath></defs></svg>"
            ],
            "text/plain": [
              "<Figure size 253.926x144.48 with 1 Axes>"
            ]
          },
          "execution_count": 31,
          "metadata": {
          },
          "output_type": "execute_result"
        }
      ],
      "source": [
        "message[0].draw()"
      ]
    },
    {
      "cell_type": "markdown",
      "metadata": {
      },
      "source": [
        "### 4.3 3 단계\n",
        "\n",
        "그런 다음 이브는 큐비트를 무작위 기저로 측정하는 밥에게 큐비트를 전달합니다. 이 경우 밥은 우연히 앨리스가 준비한 것과 동일한 기저로 측정합니다. 감청이 없었으면 밥이 `0` 을 측정할 수 있지만 이브가 메시지를 읽으려했기 때문에 대신 `1` 을 측정할 확률이 50%가 됩니다."
      ]
    },
    {
      "cell_type": "code",
      "execution_count": 32,
      "metadata": {
        "scrolled": true
      },
      "outputs": [
        {
          "data": {
            "image/svg+xml": [
              "<?xml version=\"1.0\" encoding=\"UTF-8\"?><!DOCTYPE svg  PUBLIC '-//W3C//DTD SVG 1.1//EN'  'http://www.w3.org/Graphics/SVG/1.1/DTD/svg11.dtd'><svg width=\"297.02pt\" height=\"123.48pt\" version=\"1.1\" viewBox=\"0 0 297.02 123.48\" xmlns=\"http://www.w3.org/2000/svg\" xmlns:xlink=\"http://www.w3.org/1999/xlink\"><defs><style type=\"text/css\">*{stroke-linecap:butt;stroke-linejoin:round;}</style></defs><path d=\"m0 123.48h297.02v-123.48h-297.02z\" fill=\"#ffffff\"/><path d=\"m163.01 78.672h11.817l-5.9086 8.5221z\" clip-path=\"url(#p0ecbd17c13)\" fill=\"#778899\"/><path d=\"m253.91 78.672h11.817l-5.9086 8.5221z\" clip-path=\"url(#p0ecbd17c13)\" fill=\"#778899\"/><path d=\"m53.471 43.561h231.8\" clip-path=\"url(#p0ecbd17c13)\" fill=\"none\" stroke=\"#000000\" stroke-linecap=\"square\" stroke-width=\"2\"/><path d=\"m53.471 87.535h231.8\" clip-path=\"url(#p0ecbd17c13)\" fill=\"none\" stroke=\"#778899\" stroke-linecap=\"square\" stroke-width=\"2\"/><path d=\"m53.471 90.489h231.8\" clip-path=\"url(#p0ecbd17c13)\" fill=\"none\" stroke=\"#778899\" stroke-linecap=\"square\" stroke-width=\"2\"/><path d=\"m114.6 66.286h17.726v-45.451h-17.726z\" clip-path=\"url(#p0ecbd17c13)\" fill=\"#bdbdbd\" opacity=\".6\"/><path d=\"m62.561 93.557 4.5451-9.0902\" clip-path=\"url(#p0ecbd17c13)\" fill=\"none\" stroke=\"#778899\" stroke-linecap=\"square\" stroke-width=\"1.5\"/><path d=\"m170.39 43.561v35.111\" clip-path=\"url(#p0ecbd17c13)\" fill=\"none\" stroke=\"#778899\" stroke-linecap=\"square\" stroke-width=\"2\"/><path d=\"m167.44 43.561v35.111\" clip-path=\"url(#p0ecbd17c13)\" fill=\"none\" stroke=\"#778899\" stroke-linecap=\"square\" stroke-width=\"2\"/><path d=\"m261.3 43.561v35.111\" clip-path=\"url(#p0ecbd17c13)\" fill=\"none\" stroke=\"#778899\" stroke-linecap=\"square\" stroke-width=\"2\"/><path d=\"m258.34 43.561v35.111\" clip-path=\"url(#p0ecbd17c13)\" fill=\"none\" stroke=\"#778899\" stroke-linecap=\"square\" stroke-width=\"2\"/><path d=\"m63.243 58.332h29.543v-29.543h-29.543z\" clip-path=\"url(#p0ecbd17c13)\" fill=\"#1192e8\" stroke=\"#1192e8\" stroke-width=\"1.5\"/><path d=\"m154.14 58.332h29.543v-29.543h-29.543z\" clip-path=\"url(#p0ecbd17c13)\" fill=\"#121619\" stroke=\"#121619\" stroke-width=\"1.5\"/><path d=\"m179.26 47.992c0-2.7413-1.0901-5.3732-3.0285-7.3116-1.9384-1.9384-4.5702-3.0285-7.3116-3.0285s-5.3732 1.0901-7.3116 3.0285c-1.9384 1.9384-3.0285 4.5702-3.0285 7.3116\" clip-path=\"url(#p0ecbd17c13)\" fill=\"none\" stroke=\"#ffffff\" stroke-width=\"2\"/><path d=\"m199.6 58.332h29.543v-29.543h-29.543z\" clip-path=\"url(#p0ecbd17c13)\" fill=\"#1192e8\" stroke=\"#1192e8\" stroke-width=\"1.5\"/><path d=\"m245.05 58.332h29.543v-29.543h-29.543z\" clip-path=\"url(#p0ecbd17c13)\" fill=\"#121619\" stroke=\"#121619\" stroke-width=\"1.5\"/><path d=\"m270.16 47.992c0-2.7413-1.0901-5.3732-3.0285-7.3116-1.9384-1.9384-4.5702-3.0285-7.3116-3.0285s-5.3732 1.0901-7.3116 3.0285c-1.9384 1.9384-3.0285 4.5702-3.0285 7.3116\" clip-path=\"url(#p0ecbd17c13)\" fill=\"none\" stroke=\"#ffffff\" stroke-width=\"2\"/><path d=\"m168.92 47.992 10.34-10.34\" clip-path=\"url(#p0ecbd17c13)\" fill=\"none\" stroke=\"#ffffff\" stroke-linecap=\"square\" stroke-width=\"2\"/><path d=\"m259.82 47.992 10.34-10.34\" clip-path=\"url(#p0ecbd17c13)\" fill=\"none\" stroke=\"#ffffff\" stroke-linecap=\"square\" stroke-width=\"2\"/><path d=\"m123.47 20.835v45.451\" clip-path=\"url(#p0ecbd17c13)\" fill=\"none\" stroke=\"#000000\" stroke-dasharray=\"3.7,1.6\"/><g clip-path=\"url(#p0ecbd17c13)\"><g transform=\"translate(33.981 48.012) scale(.1625 -.1625)\"><defs><path id=\"DejaVuSans-Oblique-71\" transform=\"scale(.015625)\" d=\"m2669 525q-231-303-546-460-314-156-695-156-531 0-833 358-301 358-301 986 0 506 186 978t533 847q225 244 517 375t614 131q387 0 637-153t363-462l100 525h578l-934-4813h-579l360 1844zm-1778 813q0-463 193-705 194-242 560-242 544 0 928 520t384 1264q0 450-199 689-198 239-569 239-272 0-504-127-231-126-403-370-181-256-286-600-104-343-104-668z\"/></defs><use xlink:href=\"#DejaVuSans-Oblique-71\"/></g></g><g clip-path=\"url(#p0ecbd17c13)\"><g transform=\"translate(58.016 82.304) scale(.104 -.104)\"><defs><path id=\"DejaVuSans-31\" transform=\"scale(.015625)\" d=\"m794 531h1031v3560l-1122-225v575l1116 225h631v-4135h1031v-531h-2687v531z\"/></defs><use xlink:href=\"#DejaVuSans-31\"/></g></g><g clip-path=\"url(#p0ecbd17c13)\"><g transform=\"translate(35.446 93.496) scale(.1625 -.1625)\"><defs><path id=\"DejaVuSans-63\" transform=\"scale(.015625)\" d=\"m3122 3366v-538q-244 135-489 202t-495 67q-560 0-870-355-309-354-309-995t309-996q310-354 870-354 250 0 495 67t489 202v-532q-241-112-499-168-257-57-548-57-791 0-1257 497-465 497-465 1341 0 856 470 1346 471 491 1290 491 265 0 518-55 253-54 491-163z\"/></defs><use xlink:href=\"#DejaVuSans-63\"/></g></g><g clip-path=\"url(#p0ecbd17c13)\"><g transform=\"translate(73.126 47.148) scale(.13 -.13)\" fill=\"#ffffff\"><defs><path id=\"DejaVuSans-48\" transform=\"scale(.015625)\" d=\"m628 4666h631v-1913h2294v1913h631v-4666h-631v2222h-2294v-2222h-631v4666z\"/></defs><use xlink:href=\"#DejaVuSans-48\"/></g></g><g clip-path=\"url(#p0ecbd17c13)\"><g transform=\"translate(180.28 82.304) scale(.104 -.104)\"><defs><path id=\"DejaVuSans-30\" transform=\"scale(.015625)\" d=\"m2034 4250q-487 0-733-480-245-479-245-1442 0-959 245-1439 246-480 733-480 491 0 736 480 246 480 246 1439 0 963-246 1442-245 480-736 480zm0 500q785 0 1199-621 414-620 414-1801 0-1178-414-1799-414-620-1199-620-784 0-1198 620-414 621-414 1799 0 1181 414 1801 414 621 1198 621z\"/></defs><use xlink:href=\"#DejaVuSans-30\"/></g></g><g clip-path=\"url(#p0ecbd17c13)\"><g transform=\"translate(209.48 47.148) scale(.13 -.13)\" fill=\"#ffffff\"><use xlink:href=\"#DejaVuSans-48\"/></g></g><g clip-path=\"url(#p0ecbd17c13)\"><g transform=\"translate(271.18 82.304) scale(.104 -.104)\"><use xlink:href=\"#DejaVuSans-30\"/></g></g><defs><clipPath id=\"p0ecbd17c13\"><rect x=\"7.2\" y=\"7.2\" width=\"282.62\" height=\"109.08\"/></clipPath></defs></svg>"
            ],
            "text/plain": [
              "<Figure size 374.326x144.48 with 1 Axes>"
            ]
          },
          "execution_count": 32,
          "metadata": {
          },
          "output_type": "execute_result"
        }
      ],
      "source": [
        "np.random.seed(seed=3)\n",
        "## Step 1\n",
        "alice_bits = randint(2, size=n)\n",
        "## Step 2\n",
        "alice_bases = randint(2, size=n)\n",
        "message = encode_message(alice_bits, alice_bases)\n",
        "## Interception!!\n",
        "eve_bases = randint(2, size=n)\n",
        "intercepted_message = measure_message(message, eve_bases)\n",
        "## Step 3\n",
        "bob_bases = randint(2, size=n)\n",
        "bob_results = measure_message(message, bob_bases)\n",
        "message[0].draw()"
      ]
    },
    {
      "cell_type": "markdown",
      "metadata": {
      },
      "source": [
        "### 4.4 4 단계\n",
        "\n",
        "밥과 앨리스는 기저를 공개하고 쓸모없는 비트를 버립니다."
      ]
    },
    {
      "cell_type": "code",
      "execution_count": 33,
      "metadata": {
      },
      "outputs": [

      ],
      "source": [
        "np.random.seed(seed=3)\n",
        "## Step 1\n",
        "alice_bits = randint(2, size=n)\n",
        "## Step 2\n",
        "alice_bases = randint(2, size=n)\n",
        "message = encode_message(alice_bits, alice_bases)\n",
        "## Interception!!\n",
        "eve_bases = randint(2, size=n)\n",
        "intercepted_message = measure_message(message, eve_bases)\n",
        "## Step 3\n",
        "bob_bases = randint(2, size=n)\n",
        "bob_results = measure_message(message, bob_bases)\n",
        "## Step 4\n",
        "bob_key = remove_garbage(alice_bases, bob_bases, bob_results)\n",
        "alice_key = remove_garbage(alice_bases, bob_bases, alice_bits)"
      ]
    },
    {
      "cell_type": "markdown",
      "metadata": {
      },
      "source": [
        "### 4.5 5 단계\n",
        "\n",
        "밥과 앨리스는 키의 동일한 무작위 선택을 비교하여 큐비트가 감청되었는지 확인합니다."
      ]
    },
    {
      "cell_type": "code",
      "execution_count": 34,
      "metadata": {
      },
      "outputs": [
        {
          "name": "stdout",
          "output_type": "stream",
          "text": [
            "  bob_sample = [1, 1, 0, 0, 1, 0, 0, 1, 0, 0, 0, 0, 0, 1, 1]\n",
            "alice_sample = [1, 1, 0, 0, 1, 0, 0, 0, 0, 0, 0, 1, 0, 0, 0]\n"
          ]
        }
      ],
      "source": [
        "np.random.seed(seed=3)\n",
        "## Step 1\n",
        "alice_bits = randint(2, size=n)\n",
        "## Step 2\n",
        "alice_bases = randint(2, size=n)\n",
        "message = encode_message(alice_bits, alice_bases)\n",
        "## Interception!!\n",
        "eve_bases = randint(2, size=n)\n",
        "intercepted_message = measure_message(message, eve_bases)\n",
        "## Step 3\n",
        "bob_bases = randint(2, size=n)\n",
        "bob_results = measure_message(message, bob_bases)\n",
        "## Step 4\n",
        "bob_key = remove_garbage(alice_bases, bob_bases, bob_results)\n",
        "alice_key = remove_garbage(alice_bases, bob_bases, alice_bits)\n",
        "## Step 5\n",
        "sample_size = 15\n",
        "bit_selection = randint(n, size=sample_size)\n",
        "bob_sample = sample_bits(bob_key, bit_selection)\n",
        "print(\"  bob_sample = \" + str(bob_sample))\n",
        "alice_sample = sample_bits(alice_key, bit_selection)\n",
        "print(\"alice_sample = \"+ str(alice_sample))"
      ]
    },
    {
      "cell_type": "code",
      "execution_count": 35,
      "metadata": {
      },
      "outputs": [
        {
          "data": {
            "text/plain": [
              "False"
            ]
          },
          "execution_count": 35,
          "metadata": {
          },
          "output_type": "execute_result"
        }
      ],
      "source": [
        "bob_sample == alice_sample"
      ]
    },
    {
      "cell_type": "markdown",
      "metadata": {
      },
      "source": [
        "이런! 밥과 앨리스의 키가 일치하지 않습니다. 이브가 2 단계와 3 단계 사이의 메시지를 읽으려 시도하면서 큐비트의 상태가 변했기 때문입니다. 앨리스와 밥이 알고 있는 것처럼 이것은 채널의 잡음 때문일 수도 있지만 어느 쪽이든 모든 결과를 버리고 다시 시도해야 합니다. 이브의 감청은 실패했습니다.\n",
        "\n",
        "## 5. 위험 분석\n",
        "\n",
        "이브가 모든 큐비트를 측정하는 이러한 유형의 감청의 경우 밥과 앨리스의 표본이 일치할 가능성이 적으며 앨리스는 이브의 채널을 통해 취약한 메시지를 보냅니다. 그 확률을 계산하여 양자 키 분배가 얼마나 위험한지 살펴봅시다.\n",
        "\n",
        "- 앨리스와 밥이 큐비트의 결과를 사용하려면 둘 다 같은 기저를 선택해야 합니다. 이브도 이 기저를 선택하면 오류 없이 성공적으로 이 비트를 감청할 것입니다. 이러 일이 발생할 확률은 50% 입니다.\n",
        "- 이브가 *잘못된* 기저 즉, 앨리스와 밥과는 다른 기저를 선택하는 경우에도 밥이 앨리스가 보내려 했던 값을 측정할 확률은 여전히 50% 입니다. 이 경우 감청은 탐지되지 않습니다.\n",
        "- 그러나 이브가 *잘못된* 기저 즉, 앨리스와 밥과는 다른 기저를 선택하는 경우에는 밥이 앨리스가 보내려 했던 값을 측정하지 못할 확률이 50% 이며 키에 오류가 발생할 것 입니다.\n",
        "\n",
        "<img src=\"images/qkd_risk.svg\">\n",
        "\n",
        "앨리스와 밥이 키에서 1비트를 비교하면 비트가 일치할 확률은 $0.75$ 이며 그러면 앨리스와 밥은 이브의 감청을 알아차리지 못할 것입니다. 2 비트를 측정하면 감청이 탐지되지 않을 확률은 $0.75^2 = 0.5625$ 입니다. 이브가 탐지되지 않을 확률은 앨리스와 밥이 비교를 위해 선택한 비트 수 ($x$) 로 계산할 수 있습니다.\n",
        "\n",
        "$$ P(\\text{undetected}) = 0.75^x $$\n",
        "\n",
        "위에서 했던 것처럼 15 비트를 비교하기로 했다면 이브가 탐지되지 않을 확률은 1.3% 입니다. 너무 위험하다면 50 비트를 비교할 수 있으며 확률은 0.00006% 가 됩니다.\n",
        "\n",
        "아래 셀을 실행하여 프로토콜을 다시 시도할 수 있습니다. `sample_size`을 작은 값으로 변경하고 이브가 앨리스와 밥의 키를 감청하기 얼마나 쉬운지 확인하세요."
      ]
    },
    {
      "cell_type": "code",
      "execution_count": 36,
      "metadata": {
      },
      "outputs": [
        {
          "name": "stdout",
          "output_type": "stream",
          "text": [
            "Eve's interference was detected.\n"
          ]
        }
      ],
      "source": [
        "n = 100\n",
        "# Step 1\n",
        "alice_bits = randint(2, size=n)\n",
        "alice_bases = randint(2, size=n)\n",
        "# Step 2\n",
        "message = encode_message(alice_bits, alice_bases)\n",
        "# Interception!\n",
        "eve_bases = randint(2, size=n)\n",
        "intercepted_message = measure_message(message, eve_bases)\n",
        "# Step 3\n",
        "bob_bases = randint(2, size=n)\n",
        "bob_results = measure_message(message, bob_bases)\n",
        "# Step 4\n",
        "bob_key = remove_garbage(alice_bases, bob_bases, bob_results)\n",
        "alice_key = remove_garbage(alice_bases, bob_bases, alice_bits)\n",
        "# Step 5\n",
        "sample_size = 15 # Change this to something lower and see if \n",
        "                 # Eve can intercept the message without Alice\n",
        "                 # and Bob finding out\n",
        "bit_selection = randint(n, size=sample_size)\n",
        "bob_sample = sample_bits(bob_key, bit_selection)\n",
        "alice_sample = sample_bits(alice_key, bit_selection)\n",
        "\n",
        "if bob_sample != alice_sample:\n",
        "    print(\"Eve's interference was detected.\")\n",
        "else:\n",
        "    print(\"Eve went undetected!\")"
      ]
    },
    {
      "cell_type": "code",
      "execution_count": 37,
      "metadata": {
      },
      "outputs": [
        {
          "name": "stderr",
          "output_type": "stream",
          "text": [
            "/usr/local/anaconda3/envs/terra-unstable/lib/python3.9/site-packages/qiskit/aqua/__init__.py:86: DeprecationWarning: The package qiskit.aqua is deprecated. It was moved/refactored to qiskit-terra For more information see <https://github.com/Qiskit/qiskit-aqua/blob/main/README.md#migration-guide>\n",
            "  warn_package('aqua', 'qiskit-terra')\n"
          ]
        },
        {
          "data": {
            "text/html": [
              "<h3>Version Information</h3><table><tr><th>Qiskit Software</th><th>Version</th></tr><tr><td><code>qiskit-terra</code></td><td>0.19.0</td></tr><tr><td><code>qiskit-aer</code></td><td>0.9.1</td></tr><tr><td><code>qiskit-ignis</code></td><td>0.6.0</td></tr><tr><td><code>qiskit-ibmq-provider</code></td><td>0.17.0</td></tr><tr><td><code>qiskit-aqua</code></td><td>0.9.5</td></tr><tr><td><code>qiskit</code></td><td>0.31.0</td></tr><tr><th>System information</th></tr><tr><td>Python version</td><td>3.9.7</td></tr><tr><td>Python compiler</td><td>Clang 10.0.0 </td></tr><tr><td>Python build</td><td>default, Sep 16 2021 08:50:36</td></tr><tr><td>OS</td><td>Darwin</td></tr><tr><td>CPUs</td><td>8</td></tr><tr><td>Memory (Gb)</td><td>32.0</td></tr><tr><td colspan='2'>Fri Nov 05 15:18:05 2021 GMT</td></tr></table>"
            ],
            "text/plain": [
              "<IPython.core.display.HTML object>"
            ]
          },
          "metadata": {
          },
          "output_type": "display_data"
        }
      ],
      "source": [
        "import qiskit.tools.jupyter\n",
        "%qiskit_version_table"
      ]
    }
  ],
  "metadata": {
    "kernelspec": {
      "display_name": "Python 3",
      "language": "python",
      "name": "python3"
    },
    "language_info": {
      "codemirror_mode": {
        "name": "ipython",
        "version": 3
      },
      "file_extension": ".py",
      "mimetype": "text/x-python",
      "name": "python",
      "nbconvert_exporter": "python",
      "pygments_lexer": "ipython3",
      "version": "3.9"
    }
  },
  "nbformat": 4,
  "nbformat_minor": 4
}
