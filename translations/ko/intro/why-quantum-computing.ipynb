{
  "cells": [
    {
      "cell_type": "markdown",
      "metadata": {
      },
      "source": [
        "# 왜 양자 컴퓨팅인가?"
      ]
    },
    {
      "cell_type": "markdown",
      "metadata": {
      },
      "source": [
        "## 컴퓨터란 무엇인가?\n",
        "\n",
        "이 페이지에 접속하신 분들은 컴퓨터가 어떤 것인지 알고 계실 것입니다.오늘날 컴퓨터는 노트북이나 휴대전화부터 교통 신호기를 제어하는 시스템까지 다양한 형태로 이용되고 있습니다. 컴퓨터는 모든 것을 할 수있는 것 처럼 보입니다. 위에 나열된 시스템은 매우 복잡하고 특수한 것이지만, 공통적인 것은, 컴퓨터가 어떤 입력 정보에 대해서 일련의 명령을 실행해, 어떠한 새로운 (출력) 정보를 주는 것입니다.\n",
        "\n",
        "컴퓨터에 주는 명령은 매우 구체적이고 모호함이 없어야 합니다.이러한 명령의 집합을  *알고리즘* 이라고 부르며 컴퓨터 연구의 대부분은 서로 다른 알고리즘의 작동방식 연구에 해당합니다.이번 과정에서는 키보드나 마우스, 화면은 사용하지 않고 정보와 알고리즘만으로 이루어진 가장 단순한 컴퓨터에 대해 생각해 봅니다.\n",
        "\n",
        "![기본적으로 모든 컴퓨터를 렌더링하는 아티스트](images/why-qc/basically_all_computers.png)"
      ]
    },
    {
      "cell_type": "markdown",
      "metadata": {
        "formulas": {
          "T": {
            "meaning": "This is the average time our search algorithm takes to run.",
            "type": "Locally defined variable"
          },
          "exp": {
            "meaning": "This is the number of digits in our secret number. Because this is a superscript, this means we are doing 10 to the power of d.",
            "type": "Locally defined variable"
          },
          "prop_to": {
            "meaning": "'Proportional to': Everything to the left of this symbol is <a href='https://en.wikipedia.org/wiki/Proportionality_(mathematics)'>proportional to</a> the things on the right.",
            "type": "Universal notation"
          }
        },
        "gloss": {
          "resources": {
            "text": "A resource is anything the algorithm needs to run. In computer science, this usually means either the time needed by the algorithm, or the space (e.g. computer memory).",
            "title": "Resources"
          }
        }
      },
      "source": [
        "## 컴퓨터 알고리즘 분류\n",
        "\n",
        "최신의 고전적인 컴퓨터들 사이에서 양자컴퓨터가 수행하는 역할을 이해하기 위해서는 먼저 다양한 알고리즘의 성능을 어떻게 측정하는지 알아야 합니다.\n",
        "\n",
        "컴퓨터 사이언스에서는, 입력의 크기에 따라서 사용하는 [리소스](gloss:resources)가 어떻게 커지는지에 따라 알고리즘을 분류합니다.이것을 알고리즘의 *복잡도*라고 부릅니다.예를 들어 어떤 숫자가 짝수인지 아닌지를 판단하는 알고리즘은 그 숫자의 마지막 한 자리만 봐도 됩니다.이 경우 입력은 숫자이고 출력은 짝수 또는 홀수 중 하나입니다.알고리즘이 완료될 때까지의 시간은 입력된 수의 크기에 의존하지 않기 때문에 이를 *정수 시간*  알고리즘이라고 부릅니다.컴퓨터에 따라 이 결과를 얻는데 걸리는 시간은 다를 수 있지만 그것은 다른 요인에 의한 것이지 입력 길이에 의한 것이 아닙니다.\n",
        "\n",
        "![숫자가 짝수인지 홀수인지 알아내는 알고리즘의 단계](images/why-qc/odd-even-algo.svg)\n",
        "\n",
        "또 다른 예시를 살펴보겠습니다.이번에는 입력은 같은 길이의 두 개 수이고 문제는 그것들을 더하는 것입니다.이 경우 출력은 새로운 숫자가 됩니다.두 개의 여러 자리 숫자를 더할 경우 학교에서 배웠을 일반적인 알고리즘에서는 각각의 숫자의 오른쪽 끝 자리부터 시작하여 그것들을 더합니다.그리고 한 자리 왼쪽으로 이동하여(결과가 9보다 클 경우에는 '1'을 자리 올림함) 이 처리를 반복합니다.컴퓨터는 더해야 할 자리가 없어질 때까지 이를 반복하고 알고리즘을 종료합니다.\n",
        "\n",
        "![덧셈 알고리즘의 단계를 보여주는 애니메이션](images/why-qc/adding-algo.svg)\n",
        "\n",
        "<!-- ::: q-block.exercise -->\n",
        "\n",
        "### 덧셈은 얼마나 복잡한 것일까?\n",
        "\n",
        "<!-- ::: q-quiz(goal=\"intro-why-qc-0\") -->\n",
        "\n",
        "<!-- ::: .question -->\n",
        "\n",
        "이 덧셈 알고리즘이 완료되기까지 걸리는 시간은...\n",
        "\n",
        "<!-- ::: -->\n",
        "\n",
        "<!-- ::: .option(correct) -->\n",
        "\n",
        "1.  ...입력된 숫자의 길이에 선형으로 (비례하여) 증가한다(선형 시간).\n",
        "\n",
        "<!-- ::: -->\n",
        "\n",
        "<!-- ::: .option -->\n",
        "\n",
        "1.  입력된 숫자의 길이에 영향을 받지 않는다(정수 시간)\n",
        "\n",
        "<!-- ::: -->\n",
        "\n",
        "<!-- ::: .option -->\n",
        "\n",
        "1.  ...입력된 숫자의 길이의 제곱으로 커진다 (2차 시간)\n",
        "\n",
        "<!-- ::: -->\n",
        "\n",
        "<!-- ::: -->\n",
        "\n",
        "<!-- ::: -->\n",
        "\n",
        "다시 말하자면, 컴퓨터 마다 이 알고리즘의 실행 속도는 다릅니다.노트북에서는 인간의 수백만 배 빠른 속도로 덧셈을 실행할 수 있습니다.하지만 1초에 100만 번의 연산을 할 수 있든 1회밖에 할 수 없든 증가율은 같습니다.\n",
        "\n",
        "![graph of constant and linear running times vs input sizes for different running times](images/why-qc/graph-linear-constant.svg)\n",
        "\n",
        "여기서 마지막으로 우리에게 매우 흥미로운 예시를 하나 소개해 드리겠습니다.비밀 번호(비밀번호등)를 가지고 있어서, 그것을 맞히는 문제가 있다고 가정해 봅시다.이 경우 문제의 크기는 번호의 길이입니다.\n",
        "\n",
        "답이 맞는지 확인하는 유일한 방법은 바로 키패드에 숫자를 넣어서 확인하는 것입니다.그 숫자가 무엇인지에 대한 정보는 없기 때문에 이 비밀 번호를 찾기 위한 최적의 알고리즘은 '무차별 대입(brute-force)' 방식을 사용하는 것입니다. 즉, 전략이나 아이디어를 사용하는 것이 아닌 단순히 가능한 모든 숫자들을 시험해 보는 것입니다.\n",
        "\n",
        "시간이 얼마나 걸릴까요? 자, 이론적으로는 운이 좋으면 한 번에 답을 맞힐 수 있는데 이것은 매우 낮은 확률입니다.평균적으로 가능한 입력의 약 절반을 시도해야 하기 때문에 알고리즘의 실행 시간은 가능한 조합의 수에 비례합니다. 이제 질문하겠습니다: 가능한 조합의 수는 비밀 번호의 길이에 따라 어떻게 증가하는 것일까요?\n",
        "\n",
        "![무차별 대입 검색 알고리즘의 단계를 보여주는 애니메이션](images/why-qc/search-algo.svg)\n",
        "\n",
        "비밀 번호에 숫자를 추가할 때마다 가능한 조합의 수가 10배 됩니다.예를 들어 비밀 번호 한자리는 10가지의 가능한 숫자가 존재하고(0, 1, 2, 3, 4, 5, 6, 7, 8, 9), 두 자리 번호는 100가지의 가능성이 있습니다.각 자리를 맞추는데 걸리는 시간이 (길이에 관계없이) 같다고 가정하면 다음과 같이 수학적으로 나타낼 수 있습니다.\n",
        "\n",
        "$$ \\cssId{T}{T} \\cssId{prop_to}{\\propto} 10^\\cssId{exp}{d}$$\n",
        "\n",
        "이 식에서 자릿수(d)가 지수라는 것을 눈치채셨나요. 이처럼 이것은 *지수 시간*  알고리즘이고 실행 시간은 입력 길이에 대해 지수 함수적으로 증가한다고 합니다.\n",
        "\n",
        "![다양한 실행 시간에 대한 상수, 선형 및 지수 실행 시간 대 입력 크기 그래프](images/why-qc/graph-all.svg)"
      ]
    },
    {
      "cell_type": "markdown",
      "metadata": {
        "gloss": {
          "intractable": {
            "text": "An intractable problem is one which can be solved in theory, but requires too many resources in practice.",
            "title": "Intractable"
          }
        }
      },
      "source": [
        "## 왜 이런 방식으로 알고리즘을 측정할까요?\n",
        "\n",
        "컴퓨터에 따라 장점이 다르기 때문에 어떤 컴퓨터에서는 다른 컴퓨터보다 특정 연산이 빨라질 수 있습니다. 입력 크기에 대한 시간 증가를 연구함으로써 알고리즘과 컴퓨터의 특정 조합이 아닌 디바이스 고유의 세부 사항을 무시하고 실제로 *알고리즘*을 측정할 수 있습니다. 중요한 것은 알고리즘이 입력 크기에 대해 어떻게 변화하는지 알 수 있어야 알고리즘이 실행가능한 크기가 되는지도 알 수 있다는 점입니다.\n",
        "\n",
        "위에서 본 선형 시간 덧셈 알고리즘에 대해 생각해 봅시다. 10자리 숫자를 1초에 2개를 더할 수 있었다면 성장률의 선형성으로 인해 20자리 숫자를 2초에 더할 수 있을 것입니다.10자리 늘어날 때마다 계산 시간은 대략 1초씩 늘어날 것입니다.\n",
        "\n",
        "한편, 위에서 언급된 지수 시간 탐색 알고리즘을 사용하여, 10 자리수의 비밀번호를 1 초만에 찾아낼 수 있었다고 가정해 봅시다.이것은 당신의 컴퓨터가 1초에 ~5,000,000의 조합을 시험할 수 있을 정도로 빠른 계산 속도를 지녔음을 의미합니다. 이 알고리즘을 사용한 컴퓨터가 20자리 비밀번호를 찾아내려면 대략 5,000,000초(150년)가 걸릴 것으로 예상 할 수 있습니다. 10자리 더 늘어나면 약 150,000,000년(우주의 나이의 120배)이나 됩니다. 지수함수 시간의 알고리즘은 얼마 안 되는 입력 자리수(이 경우는~30자리)로도 실행하기가 어렵기는커녕 말 그대로 계산이 불가능해져 버리고 맙니다.\n",
        "\n",
        "이 비밀번호 탐색 문제는 가능한 한 단순하게 만든 인공적인 예이지만, 컴퓨터 사이언스에는 비효율적인 알고리즘밖에 없는 현실의 문제들이 많이 존재합니다. 오늘날의 컴퓨터는 놀라울 정도로 빠르지만, 이러한 어려운 문제들은 가장 큰 슈퍼 컴퓨터에서도 너무 어려울 수 있습니다.\n",
        "\n",
        "그러나 보다 효율적으로 시간이 증가하는 알고리즘을 발견하게 되면 비교적 느린 컴퓨터나 신뢰성이 낮은 컴퓨터에서도 이러한 어려운 문제들을 갑자기 처리할 수 있게 될지도 모릅니다.그래서 등장하는 것이 양자컴퓨터입니다.\n",
        "\n",
        "## 양자컴퓨터는 어떻게 도움이 될까요?\n",
        "\n",
        "그동안 알고리즘이라는 것을 굉장히 추상적으로 생각해 왔지만 그 알고리즘을 실행하는 컴퓨터는 현실 세계에 존재해야 합니다. 그 컴퓨터가 고성능 마이크로칩이든 종이와 펜을 가진 인간이든 모든 컴퓨터는 최종적으로 물리법칙에 지배되고 있으며 그 연산에 의해 우리가 만들 수 있는 알고리즘이 제한됩니다.\n",
        "\n",
        "물리학은 우주에 존재하는 모든 것이 따르는 일련의 규칙을 규명하려는 학문입니다. 20세기 초, 실험실에서 진행된 정교한 실험을 통해 물리학자들은 현재의 물리학으로는 설명할 수 없는 기묘한 행동을 발견했습니다. 이는 물리법칙이 정확하지 않다는 것을 의미하며, 그래서 그들은 보다 완전한 '양자' 물리학을 개발했고, 이 거동을 아주 잘 설명하는 데 성공했습니다.\n",
        "\n",
        "물리학자는, 지금까지 본 적도 없는 행동을 설명하기 위해서 양자 물리학을 만들어 냈고, 컴퓨터 과학자는, 새롭게 발견된 이 원리를 이용함으로써, 보다 효율적인 알고리즘을 작성할 수(이론적으로는) 있는 것을 발견했습니다. 그 결과, 기존의 컴퓨터에서는 해결 불가능한 문제라도, 이 원리를 이용할 수 있는  ‘양자’ 컴퓨터라면 해결할 수 있다고 생각되는 몇가지 문제들이 있습니다. 그 중 하나가  *정수의 인수분해*입니다.\n",
        "\n",
        "'$x$'라고 부르는 정수가 있다고 합시다. 인수분해 알고리즘에서는 $p×q = x$를 만족하는 정수 $p$ 와 $q$를 구합니다. 가끔 한눈에 알아볼 수 있는 쉬운 경우도 있습니다; $2000 = 2 × 1000$의 경우 한눈에 알 수 있습니다. 하지만, $x$가 두 개의 큰 소수의 곱의 경우는 이 문제는 매우 어려워집니다. 정수의 인수분해에 대해 말할 때에는 가장 어려운 (최악의) 시나리오를 가정하게 됩니다. 아래 코드셀에서는 변수 <code>x</code>에 250자리 숫자를 대입하고 있습니다."
      ]
    },
    {
      "cell_type": "code",
      "execution_count": 1,
      "metadata": {
      },
      "outputs": [

      ],
      "source": [
        "# pylint: disable=line-too-long, invalid-name\n",
        "x = 2140324650240744961264423072839333563008614715144755017797754920881418023447140136643345519095804679610992851872470914587687396261921557363047454770520805119056493106687691590019759405693457452230589325976697471681738069364894699871578494975937497937"
      ]
    },
    {
      "cell_type": "markdown",
      "metadata": {
        "gloss": {
          "coreyears": {
            "text": "Conventional computer chips are often made from processors called <a href=\"https://en.wikipedia.org/wiki/Multi-core_processor\">\"cores\"</a>. A <i>core-year</i> is the equivalent of using one of these cores continuously for a year. For reference, a modern laptops have around 2-4 cores. The meaning of this number depends on how powerful the core is, but this should give you a rough idea of the computing power involved.",
            "title": "Core Year"
          }
        }
      },
      "source": [
        "2020년에, 연구자들은 고전적인 슈퍼 컴퓨터와 ~2700 [코어-년(core-year)](gloss:coreyears)의 처리 능력을 이용해 이 수를 인수 분해했습니다. 이는 대규모 작업으로 논문이 발표되던 시점에서는 새로운 기록이었습니다. 그들의 결과는 아래 코드 셀에서 확인할 수 있습니다(다행이도 곱셈이라는 효율적인 알고리즘으로 확인할 수 있습니다!)."
      ]
    },
    {
      "cell_type": "code",
      "execution_count": 2,
      "metadata": {
      },
      "outputs": [
        {
          "data": {
            "text/plain": [
              "True"
            ]
          },
          "execution_count": 2,
          "metadata": {
          },
          "output_type": "execute_result"
        }
      ],
      "source": [
        "p = 64135289477071580278790190170577389084825014742943447208116859632024532344630238623598752668347708737661925585694639798853367\n",
        "q = 33372027594978156556226010605355114227940760344767554666784520987023841729210037080257448673296881877565718986258036932062711\n",
        "\n",
        "p*q == x  # Evaluates to 'True'"
      ]
    },
    {
      "cell_type": "markdown",
      "metadata": {
        "gloss": {
          "RSA": {
            "text": "RSA numbers are numbers taken from the RSA factoring challenge. These numbers are intentionally chosen to be difficult to factor.<p>'RSA' are the initials of three of the people that invented the protocol that uses these large numbers to encrypt information.",
            "title": "RSA Number"
          }
        }
      },
      "source": [
        "표시되는 출력은 셀의 마지막 행 값입니다.이 경우 <code>p*q == x</code>는 <code>True</code>로 평가됨을 알 수 있습니다. 수학적으로 증명된 것은 아니지만 기존 컴퓨터에서 이러한 수의 인수 분해를 수행하는 효율적인 알고리즘이 존재하지 않는 것은 의심의 여지가 없습니다. 실제로 인터넷 암호화 대부분은 이 문제가 해결 불가능하다는 가정에 의존하고 있으며, 617자리 [RSA](gloss:RSA) 수의 인수 분해는 불가능한 것으로 알려져 있습니다. 한편 양자컴퓨터의 경우 충분한 크기의 양자컴퓨터가 생기면 하루 안에 이들 숫자를 인수분해할 수 있을 것으로 추정되는 효율적인 인수분해 알고리즘이 이미 개발되어 있습니다."
      ]
    },
    {
      "cell_type": "markdown",
      "metadata": {
        "gloss": {
          "noise": {
            "text": "Noise is useless information that's difficult to distinguish from useful information. For example, it's hard to hear someone talking to you if there are lots of other people talking loudly nearby.",
            "title": "Noise"
          },
          "qiskit": {
            "text": "Qiskit is a software development kit for working with quantum computers.",
            "title": "Qiskit"
          },
          "qubits": {
            "text": "A 'qubit' is a 'quantum bit'. We will study these later in this course.",
            "title": "Qubit"
          },
          "transistor": {
            "text": "A transistor is an electronic device. They can be used to switch electric currents on and off, and can be used to build a computer processor.",
            "title": "Transistor"
          }
        }
      },
      "source": [
        "## 지금 우리는 어느 단계에 있을까?\n",
        "\n",
        "양자컴퓨터는 보다 효율적인 알고리즘을 실행할 수 있는 것으로 알려져 있지만 현재 있는 양자컴퓨터는 작고 불안정하기 때문에 기존 컴퓨터와 비교했을 때 더 나은 점을 찾기 어렵습니다.\n",
        "\n",
        "양자컴퓨터가 해결할 수 있는 문제의 크기를 제한하는 요인은 극히 단순하게 생각해도 두 가지가 있습니다. 첫 번째는 양자컴퓨터가 저장·처리할 수 있는 데이터의 양입니다. 이것은 통상 [*큐비트*](gloss:qubits)로 측정됩니다. 만약 충분한 큐비트가 없다면 어느 크기 이상의 문제를 저장하고 처리할 수 없습니다. 두번째는양자컴퓨터의 오차율입니다. 양자적인 행동은 실험실에서의 정교한 실험에서만 볼 수 있기 때문에 양자컴퓨터를 만드는 것은 상당히 정밀한 작업입니다. 현재의 양자컴퓨터는 잡음이 많기 때문에 잘 틀리고 결과에 ‘[노이즈](gloss:noise)’가 삽입됩니다. 과도한 양의 노이즈로 인해 계산 결과가 의미를 잃게 됩니다!\n",
        "\n",
        "현재 양자컴퓨터는 실험적인 것입니다. 큐비트의 수나 오류율에 제한이 있기 때문에 현재 해결할 수 있는 가장 큰 문제는 기존 컴퓨터로도 쉽게 해결할 수 있는 것입니다.\n",
        "\n",
        "미래의 어느 시점에서 이것은 바뀌게 될 것입니다. 양자컴퓨터를 사용하는 것이 기존 컴퓨터보다 경제적으로 유리하게 문제를 해결할 수 있다는 ‘양자 이점’에 도달하게 될 것입니다. 어떻게 그것을 알 수 있냐구요? *왜냐하면 우리는 알고리즘을 그 증가율로 측정하고 있기 때문입니다!* 양자컴퓨터가 순조롭게 계속 발전하는 한 언젠가는 고전적인 컴퓨터를 앞지르게 될 것입니다.\n",
        "\n",
        "![시간 경과에 따른 (예상) 고전 컴퓨터 대 양자컴퓨터의 인수분해 능력 비교](images/why-qc/q-vs-c.svg)\n",
        "\n",
        "617자리인 RSA수를 1일 이내에 인수분해하려면 ~2,000만의 노이즈가 있는 큐비트가 필요하다고 합니다. 이 강의가 작성된 시점에서 IBM은 현재 65양자비트의 양자컴퓨터를 보유하고 있으며 2023년까지 1000양자비트가 넘는 시스템 구축을 목표로 하고 있습니다.이 마일스톤 훨씬 전에 양자 이점을 가져올 것으로 기대되는 또 다른 알고리즘들이 더 있지만, 아직 먼 훗날 이야기로 여겨질 수도 있습니다.\n",
        "\n",
        "아래 코드를 사용하여 간단한 양자 프로그램을 만들고 IBM Quantum을 통해 실제 양자 컴퓨터에서 실행할 수 있습니다. IBM Quantum은 이 프로그램을 4000번 실행할 것입니다. 작성된 프로그램은 확률적이며 결과는 절반 은 `000` 이고 나머지는 `111` 이어야 합니다. 쉽게 볼 수 있듯이 이것이 유일한 결과는 아니며 노이즈로 인해 다른 출력을 측정할 적은 확률을 지닙니다."
      ]
    },
    {
      "cell_type": "code",
      "execution_count": 1,
      "metadata": {
        "tags": [
          "uses-hardware"
        ]
      },
      "outputs": [
        {
          "name": "stdout",
          "output_type": "stream",
          "text": [
            "Running on ibm_geneva\n",
            "Job Status: job has successfully run\n"
          ]
        },
        {
          "data": {
            "image/svg+xml": [
              "<?xml version=\"1.0\" encoding=\"UTF-8\"?><!DOCTYPE svg  PUBLIC '-//W3C//DTD SVG 1.1//EN'  'http://www.w3.org/Graphics/SVG/1.1/DTD/svg11.dtd'><svg width=\"460.72pt\" height=\"322.95pt\" version=\"1.1\" viewBox=\"0 0 460.72 322.95\" xmlns=\"http://www.w3.org/2000/svg\" xmlns:xlink=\"http://www.w3.org/1999/xlink\"><defs><style type=\"text/css\">*{stroke-linejoin: round; stroke-linecap: butt}</style></defs><path d=\"m0 322.95h460.72v-322.95h-460.72v322.95z\" fill=\"none\"/><path d=\"m62.921 279h390.6v-271.8h-390.6z\" fill=\"#ffffff\"/><defs><path id=\"mff37cc3539\" d=\"m0 0v3.5\" stroke=\"#343a3f\" stroke-width=\".8\"/></defs><use x=\"92.512159\" y=\"279\" fill=\"#343a3f\" stroke=\"#343a3f\" stroke-width=\".8\" xlink:href=\"#mff37cc3539\"/><g transform=\"translate(91.572 314.75) rotate(-70) scale(.14 -.14)\" fill=\"#343a3f\"><defs><path id=\"DejaVuSans-30\" transform=\"scale(.015625)\" d=\"m2034 4250q-487 0-733-480-245-479-245-1442 0-959 245-1439 246-480 733-480 491 0 736 480 246 480 246 1439 0 963-246 1442-245 480-736 480zm0 500q785 0 1199-621 414-620 414-1801 0-1178-414-1799-414-620-1199-620-784 0-1198 620-414 621-414 1799 0 1181 414 1801 414 621 1198 621z\"/></defs><use xlink:href=\"#DejaVuSans-30\"/><use x=\"63.623047\" xlink:href=\"#DejaVuSans-30\"/><use x=\"127.246094\" xlink:href=\"#DejaVuSans-30\"/></g><use x=\"139.857614\" y=\"279\" fill=\"#343a3f\" stroke=\"#343a3f\" stroke-width=\".8\" xlink:href=\"#mff37cc3539\"/><g transform=\"translate(138.92 314.75) rotate(-70) scale(.14 -.14)\" fill=\"#343a3f\"><defs><path id=\"DejaVuSans-31\" transform=\"scale(.015625)\" d=\"m794 531h1031v3560l-1122-225v575l1116 225h631v-4135h1031v-531h-2687v531z\"/></defs><use xlink:href=\"#DejaVuSans-30\"/><use x=\"63.623047\" xlink:href=\"#DejaVuSans-30\"/><use x=\"127.246094\" xlink:href=\"#DejaVuSans-31\"/></g><use x=\"187.203068\" y=\"279\" fill=\"#343a3f\" stroke=\"#343a3f\" stroke-width=\".8\" xlink:href=\"#mff37cc3539\"/><g transform=\"translate(186.26 314.75) rotate(-70) scale(.14 -.14)\" fill=\"#343a3f\"><use xlink:href=\"#DejaVuSans-30\"/><use x=\"63.623047\" xlink:href=\"#DejaVuSans-31\"/><use x=\"127.246094\" xlink:href=\"#DejaVuSans-30\"/></g><use x=\"234.548523\" y=\"279\" fill=\"#343a3f\" stroke=\"#343a3f\" stroke-width=\".8\" xlink:href=\"#mff37cc3539\"/><g transform=\"translate(233.61 314.75) rotate(-70) scale(.14 -.14)\" fill=\"#343a3f\"><use xlink:href=\"#DejaVuSans-30\"/><use x=\"63.623047\" xlink:href=\"#DejaVuSans-31\"/><use x=\"127.246094\" xlink:href=\"#DejaVuSans-31\"/></g><use x=\"281.893977\" y=\"279\" fill=\"#343a3f\" stroke=\"#343a3f\" stroke-width=\".8\" xlink:href=\"#mff37cc3539\"/><g transform=\"translate(280.95 314.75) rotate(-70) scale(.14 -.14)\" fill=\"#343a3f\"><use xlink:href=\"#DejaVuSans-31\"/><use x=\"63.623047\" xlink:href=\"#DejaVuSans-30\"/><use x=\"127.246094\" xlink:href=\"#DejaVuSans-30\"/></g><use x=\"329.239432\" y=\"279\" fill=\"#343a3f\" stroke=\"#343a3f\" stroke-width=\".8\" xlink:href=\"#mff37cc3539\"/><g transform=\"translate(328.3 314.75) rotate(-70) scale(.14 -.14)\" fill=\"#343a3f\"><use xlink:href=\"#DejaVuSans-31\"/><use x=\"63.623047\" xlink:href=\"#DejaVuSans-30\"/><use x=\"127.246094\" xlink:href=\"#DejaVuSans-31\"/></g><use x=\"376.584886\" y=\"279\" fill=\"#343a3f\" stroke=\"#343a3f\" stroke-width=\".8\" xlink:href=\"#mff37cc3539\"/><g transform=\"translate(375.65 314.75) rotate(-70) scale(.14 -.14)\" fill=\"#343a3f\"><use xlink:href=\"#DejaVuSans-31\"/><use x=\"63.623047\" xlink:href=\"#DejaVuSans-31\"/><use x=\"127.246094\" xlink:href=\"#DejaVuSans-30\"/></g><use x=\"423.930341\" y=\"279\" fill=\"#343a3f\" stroke=\"#343a3f\" stroke-width=\".8\" xlink:href=\"#mff37cc3539\"/><g transform=\"translate(422.99 314.75) rotate(-70) scale(.14 -.14)\" fill=\"#343a3f\"><use xlink:href=\"#DejaVuSans-31\"/><use x=\"63.623047\" xlink:href=\"#DejaVuSans-31\"/><use x=\"127.246094\" xlink:href=\"#DejaVuSans-31\"/></g><path d=\"m62.921 279h390.6\" clip-path=\"url(#p287b9538ba)\" fill=\"none\" stroke=\"#dde1e6\" stroke-dasharray=\"2.96,1.28\" stroke-width=\".8\"/><defs><path id=\"m13ab3288d2\" d=\"m0 0h-3.5\" stroke=\"#343a3f\" stroke-width=\".8\"/></defs><use x=\"62.92125\" y=\"279\" fill=\"#343a3f\" stroke=\"#343a3f\" stroke-width=\".8\" xlink:href=\"#m13ab3288d2\"/><g transform=\"translate(24.749 284.32) scale(.14 -.14)\" fill=\"#343a3f\"><defs><path id=\"DejaVuSans-2e\" transform=\"scale(.015625)\" d=\"m684 794h660v-794h-660v794z\"/></defs><use xlink:href=\"#DejaVuSans-30\"/><use x=\"63.623047\" xlink:href=\"#DejaVuSans-2e\"/><use x=\"95.410156\" xlink:href=\"#DejaVuSans-30\"/><use x=\"159.033203\" xlink:href=\"#DejaVuSans-30\"/></g><path d=\"m62.921 208.62h390.6\" clip-path=\"url(#p287b9538ba)\" fill=\"none\" stroke=\"#dde1e6\" stroke-dasharray=\"2.96,1.28\" stroke-width=\".8\"/><use x=\"62.92125\" y=\"208.621958\" fill=\"#343a3f\" stroke=\"#343a3f\" stroke-width=\".8\" xlink:href=\"#m13ab3288d2\"/><g transform=\"translate(24.749 213.94) scale(.14 -.14)\" fill=\"#343a3f\"><defs><path id=\"DejaVuSans-35\" transform=\"scale(.015625)\" d=\"m691 4666h2478v-532h-1900v-1143q137 47 274 70 138 23 276 23 781 0 1237-428 457-428 457-1159 0-753-469-1171-469-417-1322-417-294 0-599 50-304 50-629 150v635q281-153 581-228t634-75q541 0 856 284 316 284 316 772 0 487-316 771-315 285-856 285-253 0-505-56-251-56-513-175v2344z\"/></defs><use xlink:href=\"#DejaVuSans-30\"/><use x=\"63.623047\" xlink:href=\"#DejaVuSans-2e\"/><use x=\"95.410156\" xlink:href=\"#DejaVuSans-31\"/><use x=\"159.033203\" xlink:href=\"#DejaVuSans-35\"/></g><path d=\"m62.921 138.24h390.6\" clip-path=\"url(#p287b9538ba)\" fill=\"none\" stroke=\"#dde1e6\" stroke-dasharray=\"2.96,1.28\" stroke-width=\".8\"/><use x=\"62.92125\" y=\"138.243915\" fill=\"#343a3f\" stroke=\"#343a3f\" stroke-width=\".8\" xlink:href=\"#m13ab3288d2\"/><g transform=\"translate(24.749 143.56) scale(.14 -.14)\" fill=\"#343a3f\"><defs><path id=\"DejaVuSans-33\" transform=\"scale(.015625)\" d=\"m2597 2516q453-97 707-404 255-306 255-756 0-690-475-1069-475-378-1350-378-293 0-604 58t-642 174v609q262-153 574-231 313-78 654-78 593 0 904 234t311 681q0 413-289 645-289 233-804 233h-544v519h569q465 0 712 186t247 536q0 359-255 551-254 193-729 193-260 0-557-57-297-56-653-174v562q360 100 674 150t592 50q719 0 1137-327 419-326 419-882 0-388-222-655t-631-370z\"/></defs><use xlink:href=\"#DejaVuSans-30\"/><use x=\"63.623047\" xlink:href=\"#DejaVuSans-2e\"/><use x=\"95.410156\" xlink:href=\"#DejaVuSans-33\"/><use x=\"159.033203\" xlink:href=\"#DejaVuSans-30\"/></g><path d=\"m62.921 67.866h390.6\" clip-path=\"url(#p287b9538ba)\" fill=\"none\" stroke=\"#dde1e6\" stroke-dasharray=\"2.96,1.28\" stroke-width=\".8\"/><use x=\"62.92125\" y=\"67.865873\" fill=\"#343a3f\" stroke=\"#343a3f\" stroke-width=\".8\" xlink:href=\"#m13ab3288d2\"/><g transform=\"translate(24.749 73.185) scale(.14 -.14)\" fill=\"#343a3f\"><defs><path id=\"DejaVuSans-34\" transform=\"scale(.015625)\" d=\"m2419 4116-1594-2491h1594v2491zm-166 550h794v-3041h666v-525h-666v-1100h-628v1100h-2106v609l1940 2957z\"/></defs><use xlink:href=\"#DejaVuSans-30\"/><use x=\"63.623047\" xlink:href=\"#DejaVuSans-2e\"/><use x=\"95.410156\" xlink:href=\"#DejaVuSans-34\"/><use x=\"159.033203\" xlink:href=\"#DejaVuSans-35\"/></g><g transform=\"translate(17.838 185.86) rotate(-90) scale(.14 -.14)\" fill=\"#343a3f\"><defs><path id=\"DejaVuSans-50\" transform=\"scale(.015625)\" d=\"m1259 4147v-1753h794q441 0 681 228 241 228 241 650 0 419-241 647-240 228-681 228h-794zm-631 519h1425q785 0 1186-355 402-355 402-1039 0-691-402-1044-401-353-1186-353h-794v-1875h-631v4666z\"/><path id=\"DejaVuSans-72\" transform=\"scale(.015625)\" d=\"m2631 2963q-97 56-211 82-114 27-251 27-488 0-749-317t-261-911v-1844h-578v3500h578v-544q182 319 472 473 291 155 707 155 59 0 131-8 72-7 159-23l3-590z\"/><path id=\"DejaVuSans-6f\" transform=\"scale(.015625)\" d=\"m1959 3097q-462 0-731-361t-269-989 267-989q268-361 733-361 460 0 728 362 269 363 269 988 0 622-269 986-268 364-728 364zm0 487q750 0 1178-488 429-487 429-1349 0-859-429-1349-428-489-1178-489-753 0-1180 489-426 490-426 1349 0 862 426 1349 427 488 1180 488z\"/><path id=\"DejaVuSans-62\" transform=\"scale(.015625)\" d=\"m3116 1747q0 634-261 995t-717 361q-457 0-718-361t-261-995 261-995 718-361q456 0 717 361t261 995zm-1957 1222q182 312 458 463 277 152 661 152 638 0 1036-506 399-506 399-1331t-399-1332q-398-506-1036-506-384 0-661 152-276 152-458 464v-525h-578v4863h578v-1894z\"/><path id=\"DejaVuSans-61\" transform=\"scale(.015625)\" d=\"m2194 1759q-697 0-966-159t-269-544q0-306 202-486 202-179 548-179 479 0 768 339t289 901v128h-572zm1147 238v-1997h-575v531q-197-318-491-470t-719-152q-537 0-855 302-317 302-317 808 0 590 395 890 396 300 1180 300h807v57q0 397-261 614t-733 217q-300 0-585-72-284-72-546-216v532q315 122 612 182 297 61 578 61 760 0 1135-394 375-393 375-1193z\"/><path id=\"DejaVuSans-69\" transform=\"scale(.015625)\" d=\"m603 3500h575v-3500h-575v3500zm0 1363h575v-729h-575v729z\"/><path id=\"DejaVuSans-6c\" transform=\"scale(.015625)\" d=\"m603 4863h575v-4863h-575v4863z\"/><path id=\"DejaVuSans-74\" transform=\"scale(.015625)\" d=\"m1172 4494v-994h1184v-447h-1184v-1900q0-428 117-550t477-122h590v-481h-590q-666 0-919 248-253 249-253 905v1900h-422v447h422v994h578z\"/><path id=\"DejaVuSans-65\" transform=\"scale(.015625)\" d=\"m3597 1894v-281h-2644q38-594 358-905t892-311q331 0 642 81t618 244v-544q-310-131-635-200t-659-69q-838 0-1327 487-489 488-489 1320 0 859 464 1363 464 505 1252 505 706 0 1117-455 411-454 411-1235zm-575 169q-6 471-264 752-258 282-683 282-481 0-770-272t-333-766l2050 4z\"/><path id=\"DejaVuSans-73\" transform=\"scale(.015625)\" d=\"m2834 3397v-544q-243 125-506 187-262 63-544 63-428 0-642-131t-214-394q0-200 153-314t616-217l197-44q612-131 870-370t258-667q0-488-386-773-386-284-1061-284-281 0-586 55t-642 164v594q319-166 628-249 309-82 613-82 406 0 624 139 219 139 219 392 0 234-158 359-157 125-692 241l-200 47q-534 112-772 345-237 233-237 639 0 494 350 762 350 269 994 269 318 0 599-47 282-46 519-140z\"/></defs><use xlink:href=\"#DejaVuSans-50\"/><use x=\"58.552734\" xlink:href=\"#DejaVuSans-72\"/><use x=\"97.416016\" xlink:href=\"#DejaVuSans-6f\"/><use x=\"158.597656\" xlink:href=\"#DejaVuSans-62\"/><use x=\"222.074219\" xlink:href=\"#DejaVuSans-61\"/><use x=\"283.353516\" xlink:href=\"#DejaVuSans-62\"/><use x=\"346.830078\" xlink:href=\"#DejaVuSans-69\"/><use x=\"374.613281\" xlink:href=\"#DejaVuSans-6c\"/><use x=\"402.396484\" xlink:href=\"#DejaVuSans-69\"/><use x=\"430.179688\" xlink:href=\"#DejaVuSans-74\"/><use x=\"469.388672\" xlink:href=\"#DejaVuSans-69\"/><use x=\"497.171875\" xlink:href=\"#DejaVuSans-65\"/><use x=\"558.695312\" xlink:href=\"#DejaVuSans-73\"/></g><path d=\"m80.676 279h23.673v-226.5h-23.673z\" clip-path=\"url(#p287b9538ba)\" fill=\"#648fff\"/><path d=\"m128.02 279h23.673v-2.1113h-23.673z\" clip-path=\"url(#p287b9538ba)\" fill=\"#648fff\"/><path d=\"m175.37 279h23.673v-6.0994h-23.673z\" clip-path=\"url(#p287b9538ba)\" fill=\"#648fff\"/><path d=\"m222.71 279h23.673v-6.334h-23.673z\" clip-path=\"url(#p287b9538ba)\" fill=\"#648fff\"/><path d=\"m270.06 279h23.673v-6.2167h-23.673z\" clip-path=\"url(#p287b9538ba)\" fill=\"#648fff\"/><path d=\"m317.4 279h23.673v-8.0935h-23.673z\" clip-path=\"url(#p287b9538ba)\" fill=\"#648fff\"/><path d=\"m364.75 279h23.673v-3.5189h-23.673z\" clip-path=\"url(#p287b9538ba)\" fill=\"#648fff\"/><path d=\"m412.09 279h23.673v-210.31h-23.673z\" clip-path=\"url(#p287b9538ba)\" fill=\"#648fff\"/><path d=\"m62.921 279v-271.8\" fill=\"none\" stroke=\"#343a3f\" stroke-linecap=\"square\" stroke-width=\".8\"/><path d=\"m62.921 279h390.6\" fill=\"none\" stroke=\"#343a3f\" stroke-linecap=\"square\" stroke-width=\".8\"/><g transform=\"translate(78.198 39.095) scale(.1 -.1)\" fill=\"#343a3f\"><defs><path id=\"DejaVuSans-38\" transform=\"scale(.015625)\" d=\"m2034 2216q-450 0-708-241-257-241-257-662 0-422 257-663 258-241 708-241t709 242q260 243 260 662 0 421-258 662-257 241-711 241zm-631 268q-406 100-633 378-226 279-226 679 0 559 398 884 399 325 1092 325 697 0 1094-325t397-884q0-400-227-679-226-278-629-378 456-106 710-416 255-309 255-755 0-679-414-1042-414-362-1186-362-771 0-1186 362-414 363-414 1042 0 446 256 755 257 310 713 416zm-231 997q0-362 226-565 227-203 636-203 407 0 636 203 230 203 230 565 0 363-230 566-229 203-636 203-409 0-636-203-226-203-226-566z\"/></defs><use xlink:href=\"#DejaVuSans-30\"/><use x=\"63.623047\" xlink:href=\"#DejaVuSans-2e\"/><use x=\"95.410156\" xlink:href=\"#DejaVuSans-34\"/><use x=\"159.033203\" xlink:href=\"#DejaVuSans-38\"/><use x=\"222.65625\" xlink:href=\"#DejaVuSans-33\"/></g><g transform=\"translate(125.54 274.7) scale(.1 -.1)\" fill=\"#343a3f\"><use xlink:href=\"#DejaVuSans-30\"/><use x=\"63.623047\" xlink:href=\"#DejaVuSans-2e\"/><use x=\"95.410156\" xlink:href=\"#DejaVuSans-30\"/><use x=\"159.033203\" xlink:href=\"#DejaVuSans-30\"/><use x=\"222.65625\" xlink:href=\"#DejaVuSans-34\"/></g><g transform=\"translate(172.89 270.52) scale(.1 -.1)\" fill=\"#343a3f\"><use xlink:href=\"#DejaVuSans-30\"/><use x=\"63.623047\" xlink:href=\"#DejaVuSans-2e\"/><use x=\"95.410156\" xlink:href=\"#DejaVuSans-30\"/><use x=\"159.033203\" xlink:href=\"#DejaVuSans-31\"/><use x=\"222.65625\" xlink:href=\"#DejaVuSans-33\"/></g><g transform=\"translate(220.23 270.27) scale(.1 -.1)\" fill=\"#343a3f\"><use xlink:href=\"#DejaVuSans-30\"/><use x=\"63.623047\" xlink:href=\"#DejaVuSans-2e\"/><use x=\"95.410156\" xlink:href=\"#DejaVuSans-30\"/><use x=\"159.033203\" xlink:href=\"#DejaVuSans-31\"/><use x=\"222.65625\" xlink:href=\"#DejaVuSans-33\"/></g><g transform=\"translate(267.58 270.39) scale(.1 -.1)\" fill=\"#343a3f\"><use xlink:href=\"#DejaVuSans-30\"/><use x=\"63.623047\" xlink:href=\"#DejaVuSans-2e\"/><use x=\"95.410156\" xlink:href=\"#DejaVuSans-30\"/><use x=\"159.033203\" xlink:href=\"#DejaVuSans-31\"/><use x=\"222.65625\" xlink:href=\"#DejaVuSans-33\"/></g><g transform=\"translate(314.93 268.42) scale(.1 -.1)\" fill=\"#343a3f\"><defs><path id=\"DejaVuSans-37\" transform=\"scale(.015625)\" d=\"m525 4666h3e3v-269l-1694-4397h-659l1594 4134h-2241v532z\"/></defs><use xlink:href=\"#DejaVuSans-30\"/><use x=\"63.623047\" xlink:href=\"#DejaVuSans-2e\"/><use x=\"95.410156\" xlink:href=\"#DejaVuSans-30\"/><use x=\"159.033203\" xlink:href=\"#DejaVuSans-31\"/><use x=\"222.65625\" xlink:href=\"#DejaVuSans-37\"/></g><g transform=\"translate(362.27 273.23) scale(.1 -.1)\" fill=\"#343a3f\"><use xlink:href=\"#DejaVuSans-30\"/><use x=\"63.623047\" xlink:href=\"#DejaVuSans-2e\"/><use x=\"95.410156\" xlink:href=\"#DejaVuSans-30\"/><use x=\"159.033203\" xlink:href=\"#DejaVuSans-30\"/><use x=\"222.65625\" xlink:href=\"#DejaVuSans-37\"/></g><g transform=\"translate(409.62 56.092) scale(.1 -.1)\" fill=\"#343a3f\"><use xlink:href=\"#DejaVuSans-30\"/><use x=\"63.623047\" xlink:href=\"#DejaVuSans-2e\"/><use x=\"95.410156\" xlink:href=\"#DejaVuSans-34\"/><use x=\"159.033203\" xlink:href=\"#DejaVuSans-34\"/><use x=\"222.65625\" xlink:href=\"#DejaVuSans-38\"/></g><defs><clipPath id=\"p287b9538ba\"><rect x=\"62.921\" y=\"7.2\" width=\"390.6\" height=\"271.8\"/></clipPath></defs></svg>"
            ],
            "text/plain": [
              "<Figure size 504x360 with 1 Axes>"
            ]
          },
          "execution_count": 1,
          "metadata": {
          },
          "output_type": "execute_result"
        }
      ],
      "source": [
        "# 1. Create a simple quantum program called a 'quantum circuit'.\n",
        "from qiskit import QuantumCircuit\n",
        "qc = QuantumCircuit(3)\n",
        "qc.h(0)\n",
        "qc.cx(0, [1, 2])\n",
        "qc.measure_all()\n",
        "\n",
        "# 2. Ask IBM Quantum for its least busy device that isn't a simulator.\n",
        "#    If you're running this example locally, you need to load your\n",
        "#    account with your IBM Quantum API token\n",
        "# IBMQ.save_account(token=\"XYZ\")\n",
        "# IBMQ.load_account()\n",
        "from qiskit.providers.ibmq import IBMQ, least_busy\n",
        "provider = IBMQ.get_provider('ibm-q')\n",
        "device = least_busy(\n",
        "            provider.backends(\n",
        "                filters= lambda x: not x.configuration().simulator\n",
        "            )\n",
        "        )\n",
        "print(f'Running on {device.name()}')\n",
        "\n",
        "# 3. Convert the program to a form the device can run.\n",
        "#    This is known as 'transpiling'\n",
        "from qiskit import transpile\n",
        "transpiled_qc = transpile(qc, device)\n",
        "\n",
        "# 4. Send the program off to IBM Quantum to run on a real device\n",
        "#    and monitor its status.\n",
        "from qiskit.tools import job_monitor\n",
        "job = device.run(transpiled_qc)\n",
        "job_monitor(job)\n",
        "\n",
        "# 5. Plot the results as a histogram.\n",
        "from qiskit.visualization import plot_histogram\n",
        "plot_histogram(job.result().get_counts())"
      ]
    },
    {
      "cell_type": "markdown",
      "metadata": {
        "gloss": {
          "noise": {
            "text": "Noise is useless information that's difficult to distinguish from useful information. For example, it's hard to hear someone talking to you if there are lots of other people talking loudly nearby.",
            "title": "Noise"
          },
          "qiskit": {
            "text": "Qiskit is a software development kit for working with quantum computers.",
            "title": "Qiskit"
          },
          "qubits": {
            "text": "A 'qubit' is a 'quantum bit'. We will study these later in this course.",
            "title": "Qubit"
          },
          "transistor": {
            "text": "A transistor is an electronic device. They can be used to switch electric currents on and off, and can be used to build a computer processor.",
            "title": "Transistor"
          }
        }
      },
      "source": [
        "기존의 컴퓨터가 어디서 왔는지 생각해 볼 필요가 있습니다.아래 사진은 1947년에 만들어진 최초의  [트랜지스터](gloss:transistor)의 사진입니다.트랜지스터는 현대 컴퓨터 프로세서의 구성요소입니다.\n",
        "\n",
        "![시간 경과에 따른 (예상) 고전컴퓨터 대 양자컴퓨터의 인수분해 능력 비교](images/why-qc/first-transistor.jpg) 이미지 출처: 연방 직원 <a href=\"https://clintonwhitehouse4.archives.gov/Initiatives/Millennium/capsule/mayo.html\">Link</a> , <a href=\"https://commons.wikimedia.org/w/index.php?curid=554340\">Public Domain</a> .\n",
        "\n",
        "그로부터 70년이 지난 지금, 현대의 컴퓨터 칩에는, 수십억개의 트랜지스터가 탑재되어 있습니다.\n",
        "\n",
        "이 과정의 나머지 부분에서는 보다 효율적인 알고리즘을 만들 수 있도록 하는 양자적인 효과를 찾아볼 예정입니다. 이 과정의 끝에는 소프트웨어 패키지인 [Qiskit](gloss:qiskit)을 사용하여 이들 알고리즘 중 하나를 실행하는 양자컴퓨터를 프로그래밍 할 수 있게 될 것입니다."
      ]
    },
    {
      "cell_type": "markdown",
      "metadata": {
      },
      "source": [
        "<!-- ::: q-block.exercise -->\n",
        "\n",
        "### 짧은 퀴즈\n",
        "\n",
        "<!-- ::: q-quiz(goal=\"intro-why-qc-1\") -->\n",
        "\n",
        "<!-- ::: .question -->\n",
        "\n",
        "양자 컴퓨터는 머지않아...\n",
        "\n",
        "<!-- ::: -->\n",
        "\n",
        "<!-- ::: .option(correct) -->\n",
        "\n",
        "1. ...기존의 컴퓨터에게 너무 어려운 계산을 할 수 있게 된다\n",
        "\n",
        "<!-- ::: -->\n",
        "\n",
        "<!-- ::: .option -->\n",
        "\n",
        "1. ...기존의 컴퓨터를 대체할 것이다.\n",
        "\n",
        "<!-- ::: -->\n",
        "\n",
        "<!-- ::: .option -->\n",
        "\n",
        "1. ...기존의 컴퓨터의 계산 속도를 향상시키게 될 것이다.\n",
        "\n",
        "<!-- ::: -->\n",
        "\n",
        "<!-- ::: -->\n",
        "\n",
        "<!-- ::: -->"
      ]
    }
  ],
  "metadata": {
    "kernelspec": {
      "display_name": "Python 3",
      "language": "python",
      "name": "python3"
    },
    "language_info": {
      "codemirror_mode": {
        "name": "ipython",
        "version": 3
      },
      "file_extension": ".py",
      "mimetype": "text/x-python",
      "name": "python",
      "nbconvert_exporter": "python",
      "pygments_lexer": "ipython3",
      "version": "3.9"
    }
  },
  "nbformat": 4,
  "nbformat_minor": 4
}
