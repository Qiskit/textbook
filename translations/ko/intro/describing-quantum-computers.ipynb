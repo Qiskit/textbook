{
  "cells": [
    {
      "cell_type": "markdown",
      "metadata": {
        "gloss": {
          "complex-number": {
            "text": "Complex numbers can be made from combinations of real and <a href='https://en.wikipedia.org/wiki/Imaginary_number'>imaginary numbers</a>. If you're not sure what this means, don't worry! You won't need to in this course (but you can <a href='https://en.wikipedia.org/wiki/Complex_number'>read more</a> if you're interested.",
            "title": "Complex number"
          },
          "esoteric": {
            "text": "Esoteric words are specialized words that most people won't understand. We'll try to avoid them as much as possible, but they can be useful sometimes.",
            "title": "esoteric"
          },
          "real-number": {
            "text": "A real number is a number that only has a magnitude. If you've not heard of a real number before, you can probably drop the 'real' and just call them 'numbers'. Examples of real numbers include: 112, -5.4, and π. <a href='https://en.wikipedia.org/wiki/Real_number'>Read more</a>.",
            "title": "Real number"
          }
        }
      },
      "source": [
        "# 양자 컴퓨터 설명\n",
        "\n",
        "이 장에서는 양자컴퓨터를 설명하기 위해 사용하는 다양한 수학적 오브젝트와 표기법을 소개합니다. 수학의 기호나 방정식, 전문적인 어휘는 간결하고 확실한 이해를 도와주지만 기호의 의미를 알기 전에는 이해하기 힘들기 때문에 많은 사람들을 겁먹게 하곤 합니다. 그래서 이 챕터에서는 수식을 인터랙티브하게 보여줍니다. 기호 위에 마우스를 올려놓으면 그 기호가 무엇을 의미하는지 알 수 있습니다. 또 수학이나 양자컴퓨터의 언어를 구사할 수 있게 하기 위해서 [난해한 ](gloss:esoteric)단어를 조금씩 배치하였으며 이 단어에 마우스를 올려놓으면 그 단어의 해설을 볼 수 있게 되어 있습니다.\n",
        "\n",
        "## 진폭\n",
        "\n",
        "고전적인 확률은 0에서 1 사이의 [실수](gloss:real-number)로 나타나는 경우가 많지만 진폭은 방향도 가지고 있습니다. 진폭을 표현하기 위한 가장 훌륭한 방법은 [복소수](gloss:complex-number)입니다. 복소수는 크기와 방향 모두 완전히 기술할 수 있지만 이 과정에서는 두가지 방향(예를 들어 왼쪽과 오른쪽)을 가리키는 진폭만 다루고 그 외에는 신경쓰지 않기로 합니다.\n",
        "\n",
        "![진폭과 확률을 비교하는 이미지](images/quantum-states/prob-vs-amp.svg)\n",
        "\n",
        "이것으로 계산이 매우 간단해집니다. 즉 진폭을 -1부터 +1까지의 숫자로 나타낼 수 있고, 그 숫자가 양수이면 진폭은 앞을 향하고, 음수이면 뒤를 향하고 있기 때문입니다. 이 특성만으로도 재미있는 것들을 해볼 수 있습니다!\n",
        "\n",
        "<!-- ::: q-block.exercise -->\n",
        "\n",
        "### 짧은 퀴즈\n",
        "\n",
        "<!-- ::: q-quiz(goal=\"intro-describing-0\") -->\n",
        "\n",
        "<!-- ::: .question -->\n",
        "\n",
        "다음 중 확률값은 *아니지만* 진폭에 해당되는 값은 무엇입니까?\n",
        "\n",
        "<!-- ::: -->\n",
        "\n",
        "<!-- ::: .option(correct) -->\n",
        "\n",
        "1. $-1$\n",
        "\n",
        "<!-- ::: -->\n",
        "\n",
        "<!-- ::: .option -->\n",
        "\n",
        "1. $1/3$\n",
        "\n",
        "<!-- ::: -->\n",
        "\n",
        "<!-- ::: .option -->\n",
        "\n",
        "1. $1.01$\n",
        "\n",
        "<!-- ::: -->\n",
        "\n",
        "<!-- ::: .option -->\n",
        "\n",
        "1. $\\sqrt{-2}$\n",
        "\n",
        "<!-- ::: -->\n",
        "\n",
        "<!-- ::: -->\n",
        "\n",
        "<!-- ::: -->"
      ]
    },
    {
      "cell_type": "markdown",
      "metadata": {
        "formulas": {
          "_amp-0-0": {
            "meaning": "This is the amplitude of the two-qubit state <code>00</code>, it's equal to the square-root of a half."
          },
          "_amp-1-0": {
            "meaning": "This is the amplitude of the two-qubit state <code>01</code>, it's equal to the square-root of a half."
          },
          "_amp-2-0": {
            "meaning": "This is the amplitude of the two-qubit state <code>10</code>, it's equal to 0."
          },
          "_amp-3-0": {
            "meaning": "This is the amplitude of the two-qubit state <code>11</code>, it's equal to 0."
          },
          "def-equal": {
            "meaning": "This means we are defining the things on the left of this symbol to be equal to the things on the right of this symbol."
          },
          "x-ket": {
            "meaning": "This is a vector we have labelled '|x⟩', the '|' and '⟩' remind us this label refers to a vector.",
            "say": "ket x"
          }
        }
      },
      "source": [
        "## 상태 벡터\n",
        "\n",
        "앞의 페이지에서는, 계산의 각 단계에 있어서 결과들의 확률 진폭을 기록하여, 양자계의 행동을 예측할 수 있음을 배웠습니다. 또한 n개의 큐비트에 대해 $2^n$개의 가능한 결과가 있으며, 이러한 진폭을 길이 $2^n$의 목록에 저장할 수 있음을 확인하였습니다. 이 벡터들은  큐비트의 상태를 나타내기 때문에 '상태 벡터'라고 부릅니다.\n",
        "\n",
        "다음은 두 개의 큐비트가 있는 양자 컴퓨터의 상태 벡터의 예입니다.\n",
        "\n",
        "$$\\class{x-ket}{|x\\rangle} \\class{def-equal}{:=} \\begin{bmatrix}\\cssId{_amp-0-0}{\\sqrt{\\tfrac{1}{2}}} \\\\ \\cssId{_amp-1-0}{\\sqrt{\\tfrac{1}{2}}} \\\\ \\cssId{_amp-2-0}{0} \\\\ \\cssId{_amp-3-0}{0} \\end{bmatrix}$$\n",
        "\n",
        "위의 식의 툴팁을 읽고 나서 아래의 질문에 답해 주십시오.\n",
        "\n",
        "<!-- ::: q-block.exercise -->\n",
        "\n",
        "### 짧은 퀴즈\n",
        "\n",
        "<!-- ::: q-quiz(goal=\"intro-describing-1\") -->\n",
        "\n",
        "<!-- ::: .question -->\n",
        "\n",
        "위의 상태 벡터에서 결과 '01'의 *진폭* 은 얼마입니까?\n",
        "\n",
        "<!-- ::: -->\n",
        "\n",
        "<!-- ::: .option -->\n",
        "\n",
        "1. $1$\n",
        "\n",
        "<!-- ::: -->\n",
        "\n",
        "<!-- ::: .option(correct) -->\n",
        "\n",
        "1. $\\sqrt{\\tfrac{1}{2}}$\n",
        "\n",
        "<!-- ::: -->\n",
        "\n",
        "<!-- ::: .option -->\n",
        "\n",
        "1. $1/2$\n",
        "\n",
        "<!-- ::: -->\n",
        "\n",
        "<!-- ::: .option -->\n",
        "\n",
        "1. $0$\n",
        "\n",
        "<!-- ::: -->\n",
        "\n",
        "<!-- ::: -->\n",
        "\n",
        "***\n",
        "\n",
        "<!-- ::: q-quiz(goal=\"intro-describing-2\") -->\n",
        "\n",
        "<!-- ::: .question -->\n",
        "\n",
        "위의 상태 벡터가 큐비트들의 상태를 나타낸다면, 측정하였을때 '00'이 나올 _확률_ 은 얼마일까요?\n",
        "\n",
        "<!-- ::: -->\n",
        "\n",
        "<!-- ::: .option -->\n",
        "\n",
        "1. $1$\n",
        "\n",
        "<!-- ::: -->\n",
        "\n",
        "<!-- ::: .option -->\n",
        "\n",
        "1. $\\sqrt{\\tfrac{1}{2}}$\n",
        "\n",
        "<!-- ::: -->\n",
        "\n",
        "<!-- ::: .option(correct) -->\n",
        "\n",
        "1. $1/2$\n",
        "\n",
        "<!-- ::: -->\n",
        "\n",
        "<!-- ::: .option -->\n",
        "\n",
        "1. $0$\n",
        "\n",
        "<!-- ::: -->\n",
        "\n",
        "<!-- ::: -->\n",
        "\n",
        "<!-- ::: -->"
      ]
    },
    {
      "cell_type": "markdown",
      "metadata": {
        "formulas": {
          "_amp-0-1": {
            "meaning": "Multiplying this number by the scalar on the left of the vector gives us the amplitude of the state <code>00</code>."
          },
          "_amp-0-general": {
            "meaning": "This is the amplitude of the state <code>00</code>."
          },
          "_amp-1-1": {
            "meaning": "Multiplying this number by the scalar on the left of the vector gives us the amplitude of the state <code>01</code>."
          },
          "_amp-1-general": {
            "meaning": "This is the amplitude of the state <code>01</code>."
          },
          "_amp-2-1": {
            "meaning": "Multiplying this number by the scalar on the left of the vector gives us the amplitude of the state <code>10</code>."
          },
          "_amp-2-general": {
            "meaning": "This is the amplitude of the state <code>10</code>."
          },
          "_amp-3-1": {
            "meaning": "Multiplying this number by the scalar on the left of the vector gives us the amplitude of the state <code>11</code>."
          },
          "_amp-3-general": {
            "meaning": "This is the amplitude of the state <code>11</code>."
          },
          "_number-three": {
            "meaning": "This is just the normal number <a href='https://en.wikipedia.org/wiki/3'>three</a>. Because it's immediately next to the vector, it means we are multiplying the vector by this number.",
            "say": "Three"
          },
          "_psi-ket": {
            "meaning": "This is a vector we have labelled '|ψ⟩', the '|' and '⟩' remind us this label refers to a vector. The character 'ψ' is written 'psi' in english.",
            "say": "ket sigh (the 'p' is silent)"
          },
          "_sq-amp0": {
            "meaning": "This number is proportional to the amplitude of the state <code>0</code>."
          },
          "_sq-amp1": {
            "meaning": "This number is proportional to the amplitude of the state <code>1</code>."
          },
          "_vec-el-0": {
            "meaning": "This is the zeroth element of the vector."
          },
          "_vec-el-1": {
            "meaning": "This is the first element of the vector."
          },
          "_vec-el-2": {
            "meaning": "This is the second element of the vector."
          },
          "_vec-el-3": {
            "meaning": "This is the third element of the vector."
          },
          "_vec-el-n": {
            "meaning": "This is the (N-1)th element of the vector. Since there are N elements (and we started counting at 0), this is also the last element."
          },
          "def-00": {
            "meaning": "This is a statevector we are defining here (but is also a common convention in quantum computing) which corresponds to being in the state <code>00</code> with certainty."
          },
          "def-01": {
            "meaning": "This is a statevector we are defining here (but is also a common convention in quantum computing) which corresponds to being in the state <code>01</code> with certainty."
          },
          "def-10": {
            "meaning": "This is a statevector we are defining here (but is also a common convention in quantum computing) which corresponds to being in the state <code>10</code> with certainty."
          },
          "def-11": {
            "meaning": "This is a statevector we are defining here (but is also a common convention in quantum computing) which corresponds to being in the state <code>11</code> with certainty."
          },
          "dots": {
            "meaning": "These dots mean \"and so on\", implying a continuing pattern."
          },
          "equals": {
            "meaning": "Everything to the left of this sign is equal to everything to the right of the sign.",
            "say": "Equals"
          },
          "minus-ket": {
            "meaning": "This is a vector we have labelled '|-⟩', the '|' and '⟩' remind us this label refers to a vector.",
            "say": "ket minus"
          },
          "plus-ket": {
            "meaning": "This is a vector we have labelled '|+⟩', the '|' and '⟩' remind us this label refers to a vector.",
            "say": "ket plus"
          },
          "scalar": {
            "meaning": "This is just a normal number. Because it's immediately next to the vector, it means we are multiplying (i.e. scaling) the vector by this number."
          }
        },
        "gloss": {
          "scalar-gloss": {
            "text": "This is just a normal number, i.e. not a vector or matrix.",
            "title": "Scalar"
          }
        }
      },
      "source": [
        "## 벡터의 덧셈과 곱셈\n",
        "\n",
        "수학의 다른 분야를 공부해보면, 많은 것들이 벡터로 간주된다는 것을 알 수 있습니다. 이 교재와 Qiskit이 벡터를 '숫자의 목록'으로 간주하여 사용하기 때문에 앞서서 벡터를 숫자의 목록으로 소개했습니다. 하지만 벡터를 그냥 숫자 목록과 구별하는 것은 수학자가 두 벡터의 덧셈이나 벡터와 [ 스칼라 ](gloss:scalar-gloss)의 곱셈에 대해 명확히 정의한 규칙을 지니고 있기 때문입니다.\n",
        "\n",
        "### 벡터의 스칼라 곱\n",
        "\n",
        "다음은 벡터의 스칼라곱 예제입니다.\n",
        "\n",
        "$$\n",
        "\\cssId{_number-three}{3}\n",
        "\\begin{bmatrix}\n",
        "\\class{_vec-el-0}{1} \\\\\n",
        "\\class{_vec-el-1}{2} \\\\\n",
        "\\class{_vec-el-2}{-1} \\\\\n",
        "\\class{_vec-el-3}{\\tfrac{1}{2}} \\\\\n",
        "\\end{bmatrix}\n",
        "\\class{equals}{=}\n",
        "\\begin{bmatrix}\n",
        "\\class{_vec-el-0}{3} \\\\\n",
        "\\class{_vec-el-1}{6} \\\\\n",
        "\\class{_vec-el-2}{-3} \\\\\n",
        "\\class{_vec-el-3}{\\tfrac{3}{2}} \\\\\n",
        "\\end{bmatrix}\n",
        "$$\n",
        "\n",
        "벡터의 각 요소에 3을 곱한 것을 볼 수 있습니다. $N$ 요소가 있는 벡터에 대한 보다 일반적인 규칙은 다음과 같습니다.\n",
        "\n",
        "$$\n",
        "\\class{scalar}{s}\n",
        "\\begin{bmatrix}\n",
        "\\class{_vec-el-0}{e_0} \\\\\n",
        "\\class{_vec-el-1}{e_1} \\\\\n",
        "\\class{_vec-el-2}{e_2} \\\\\n",
        "\\class{dots}{\\vdots} \\\\\n",
        "\\class{_vec-el-n}{e_{N-1}} \\\\\n",
        "\\end{bmatrix}\n",
        "\\class{equals}{=}\n",
        "\\begin{bmatrix}\n",
        "\\class{_vec-el-0}{s\\times e_0} \\\\\n",
        "\\class{_vec-el-1}{s\\times e_1} \\\\\n",
        "\\class{_vec-el-2}{s\\times e_2} \\\\\n",
        "\\class{dots}{\\vdots} \\\\\n",
        "\\class{_vec-el-n}{s\\times e_{N-1}} \\\\\n",
        "\\end{bmatrix}\n",
        "$$\n",
        "\n",
        "따라서 위에서 정의한 상태 벡터 $|x\\rangle$는 다음과 같이 더 간결하게 작성할 수 있습니다.\n",
        "\n",
        "$$\n",
        "\\class{x-ket}{|x\\rangle} = \\class{scalar}{\\sqrt{\\tfrac{1}{2}}} \\begin{bmatrix}\n",
        "\\cssId{_amp-0-1}{1} \\\\\n",
        "\\cssId{_amp-1-1}{1} \\\\\n",
        "\\cssId{_amp-2-1}{0} \\\\\n",
        "\\cssId{_amp-3-1}{0} \\\\\n",
        "\\end{bmatrix}\n",
        "$$\n",
        "\n",
        "### 두 벡터의 덧셈\n",
        "\n",
        "두 번째 규칙은 두 벡터를 더하는 것입니다. 이는 두 벡터가 동일한 차원을 가질 경우에만 정의되며, 덧셈의 결과로 같은 차원을 갖는 새로운 벡터를 얻을 수 있습니다. 다음은 일반적인 규칙입니다.\n",
        "\n",
        "$$\n",
        "\\begin{bmatrix}\n",
        "\\class{_vec-el-0}{a_0} \\\\\n",
        "\\class{_vec-el-1}{a_1} \\\\\n",
        "\\class{_vec-el-2}{a_2} \\\\\n",
        "\\class{_vec-el-3}{a_3} \\\\\n",
        "\\class{dots}{\\vdots} \\\\\n",
        "\\class{_vec-el-n}{a_{N-1}} \\\\\n",
        "\\end{bmatrix}\n",
        "+\n",
        "\\begin{bmatrix}\n",
        "\\class{_vec-el-0}{b_0} \\\\\n",
        "\\class{_vec-el-1}{b_1} \\\\\n",
        "\\class{_vec-el-2}{b_2} \\\\\n",
        "\\class{_vec-el-3}{b_3} \\\\\n",
        "\\class{dots}{\\vdots} \\\\\n",
        "\\class{_vec-el-n}{b_{N-1}} \\\\\n",
        "\\end{bmatrix}\n",
        "\\class{equals}{=}\n",
        "\\begin{bmatrix}\n",
        "\\class{_vec-el-0}{a_0 + b_0} \\\\\n",
        "\\class{_vec-el-1}{a_1 + b_1} \\\\\n",
        "\\class{_vec-el-2}{a_2 + b_2} \\\\\n",
        "\\class{_vec-el-3}{a_3 + b_3} \\\\\n",
        "\\class{dots}{\\vdots} \\\\\n",
        "\\class{_vec-el-n}{a_{N-1} + b_{N-1}} \\\\\n",
        "\\end{bmatrix}\n",
        "$$\n",
        "\n",
        "즉, 벡터를 더하거나 빼는 것으로 새로운 벡터를 만들 수 있습니다. 예를 들어 $|00\\rangle$와 $|01\\rangle$라는 벡터를 이와 같은 방식으로 정의하면 다음과 같습니다.\n",
        "\n",
        "$$\n",
        "\\class{def-00}{|00\\rangle} \\class{def-equal}{:=}\n",
        "              \\begin{bmatrix} \\class{_amp-0-general}{1} \\\\\n",
        "                              \\class{_amp-1-general}{0} \\\\ \n",
        "                              \\class{_amp-2-general}{0} \\\\ \n",
        "                              \\class{_amp-3-general}{0}\n",
        "              \\end{bmatrix},\n",
        "\\quad\n",
        "\\class{def-01}{|01\\rangle} \\class{def-equal}{:=}\n",
        "              \\begin{bmatrix} \\class{_amp-0-general}{0} \\\\\n",
        "                              \\class{_amp-1-general}{1} \\\\ \n",
        "                              \\class{_amp-2-general}{0} \\\\\n",
        "                              \\class{_amp-3-general}{0}\n",
        "              \\end{bmatrix}\n",
        "$$\n",
        "\n",
        "$\\class{x-ket}{|x\\rangle}$를 다음과 같이 작성할 수 있습니다:\n",
        "\n",
        "$$\\class{x-ket}{|x\\rangle} = \\sqrt{\\tfrac{1}{2}}(\\class{def-00}{|00\\rangle} + \\class{def-01}{|01\\rangle})$$\n",
        "\n",
        "이렇게 양자 상태를 더하는 것을 \"중첩하기\"라고 부르고, \"$|x\\rangle$는 상태 $|00\\rangle$와 $|01\\rangle$의 중첩이다.\"라고 표현할 수 있습니다. 실제로 양자 컴퓨터에서는 그렇게 계산 기저 상태를 정의하는 것이 일반적입니다.\n",
        "\n",
        "$$\n",
        "\\class{def-00}{|00\\rangle} \\class{def-equal}{:=}\n",
        "              \\begin{bmatrix} \\class{_amp-0-general}{1} \\\\\n",
        "                              \\class{_amp-1-general}{0} \\\\ \n",
        "                              \\class{_amp-2-general}{0} \\\\ \n",
        "                              \\class{_amp-3-general}{0}\n",
        "              \\end{bmatrix},\n",
        "\\quad\n",
        "\\class{def-01}{|01\\rangle} \\class{def-equal}{:=}\n",
        "              \\begin{bmatrix} \\class{_amp-0-general}{0} \\\\\n",
        "                              \\class{_amp-1-general}{1} \\\\ \n",
        "                              \\class{_amp-2-general}{0} \\\\\n",
        "                              \\class{_amp-3-general}{0}\n",
        "              \\end{bmatrix},\n",
        "\\quad\n",
        "\\class{def-10}{|10\\rangle} \\class{def-equal}{:=}\n",
        "              \\begin{bmatrix} \\class{_amp-0-general}{0} \\\\ \n",
        "                              \\class{_amp-1-general}{0} \\\\ \n",
        "                              \\class{_amp-2-general}{1} \\\\ \n",
        "                              \\class{_amp-3-general}{0} \n",
        "              \\end{bmatrix},\n",
        "\\quad\n",
        "\\class{def-11}{|11\\rangle} \\class{def-equal}{:=} \n",
        "              \\begin{bmatrix} \\class{_amp-0-general}{0} \\\\ \n",
        "                              \\class{_amp-1-general}{0} \\\\ \n",
        "                              \\class{_amp-2-general}{0} \\\\ \n",
        "                              \\class{_amp-3-general}{1}\n",
        "              \\end{bmatrix}\n",
        "$$\n",
        "\n",
        "그리고 각각의 벡터에 적당한 수를 곱해서 더하면 어떤 양자 상태도 이들 상태 벡터의 중첩으로 쓸 수 있습니다.\n",
        "\n",
        "$$\n",
        "\\cssId{_psi-ket}{|\\psi\\rangle} = \n",
        "    \\class{_amp-0-general}{a_{00}}\\class{def-00}{|00\\rangle}\n",
        "  + \\class{_amp-1-general}{a_{01}}\\class{def-01}{|01\\rangle}\n",
        "  + \\class{_amp-2-general}{a_{10}}\\class{def-10}{|10\\rangle}\n",
        "  + \\class{_amp-3-general}{a_{11}}\\class{def-11}{|11\\rangle} \\class{equals}{=}\n",
        "\\begin{bmatrix}\n",
        "\\class{_amp-0-general}{a_{00}} \\\\\n",
        "\\class{_amp-1-general}{a_{01}} \\\\\n",
        "\\class{_amp-2-general}{a_{10}} \\\\\n",
        "\\class{_amp-3-general}{a_{11}} \\\\\n",
        "\\end{bmatrix}\n",
        "$$\n",
        "\n",
        "임의의 벡터를 이 네 벡터의 조합으로 쓸 수 있기 때문에 이 네 벡터가 기저를 형성하고 있다고 하고 이를 *계산기저*라고 부릅니다. 계산기저는 유일한 기저가 아닙니다. 단일 큐비트의 경우, 자주 사용되는 기저는 $\\class{plus-ket}{|{+}\\rangle}$와 $\\class{minus-ket}{|{-}\\rangle}$ 벡터로 구성됩니다.\n",
        "\n",
        "<!-- ::: column -->\n",
        "\n",
        "![동일한 평면에서 |0>, |1> 기준과 |+>, |-> 기준을 모두 보여주는 이미지](images/quantum-states/basis.svg)\n",
        "\n",
        "<!-- ::: column -->\n",
        "\n",
        "$$\n",
        "\\class{plus-ket}{|{+}\\rangle} =\n",
        "\\sqrt{\\tfrac{1}{2}}\n",
        "\\begin{bmatrix}\n",
        "    \\class{_sq-amp0}{1} \\\\\n",
        "    \\class{_sq-amp1}{1}\n",
        "\\end{bmatrix}\n",
        "$$\n",
        "$$\n",
        "\\class{minus-ket}{|{-}\\rangle} =\n",
        "\\sqrt{\\tfrac{1}{2}}\n",
        "\\begin{bmatrix}\n",
        "    \\class{_sq-amp0}{1} \\\\\n",
        "    \\class{_sq-amp1}{-1}\n",
        "\\end{bmatrix}\n",
        "$$\n",
        "\n",
        "<!-- ::: -->\n",
        "\n",
        "<!-- ::: q-block.exercise -->\n",
        "\n",
        "### 실습\n",
        "\n",
        "다음 방정식이 참이 되도록 $\\alpha$, $\\beta$, $\\gamma$ 및 $\\delta$에 대한 값을 찾으십시오.\n",
        "\n",
        "- $\\alpha|{+}\\rangle + \\beta|{-}\\rangle = |0\\rangle$\n",
        "- $\\gamma|{+}\\rangle + \\delta|{-}\\rangle = |1\\rangle$\n",
        "\n",
        "<!-- ::: -->"
      ]
    },
    {
      "cell_type": "markdown",
      "metadata": {
        "formulas": {
          "_amp-i": {
            "meaning": "'a<sub>i</sub>' is the amplitude of the state |i⟩, where |i⟩ is one of the computational basis states."
          },
          "sum": {
            "meaning": "This means we add up the things on the right with different values of i, starting at i=0.",
            "say": "'sum' or 'summation'. The character 'Σ' is capital <a href='https://en.wikipedia.org/wiki/Sigma'>sigma</a>."
          }
        },
        "gloss": {
          "matrix": {
            "text": "Matrices are tables of numbers. They also come with some rules for adding and multiplying like vectors did. <a href='https://en.wikipedia.org/wiki/Matrix_(mathematics)'>Read more</a>.",
            "title": "Matrix"
          }
        }
      },
      "source": [
        "## 얼마나 많은 다른 상태 벡터가 있을까요?\n",
        "\n",
        "우리는 벡터를 사용해서 임의의 양자 상태를 표현할 수 있다는 것을 알고 있지만 모든 벡터가 유효한 양자 상태가 될 수 있을까요? 아닙니다. 왜냐하면 출력의 발생 확률은 진폭을 제곱해서 계산되기 때문에 진폭의 제곱합이 1이 되지 않으면 사용할 수 없습니다.\n",
        "\n",
        "$$\n",
        "\\cssId{sum}{\\sum^{N-1}_{i=0}} \\cssId{_amp-i}{a_i}^2 = 1\n",
        "$$\n",
        "\n",
        "<!-- ::: q-block.exercise -->\n",
        "\n",
        "### 짧은 퀴즈\n",
        "\n",
        "<!-- ::: q-quiz(goal=\"quiz2\") -->\n",
        "\n",
        "<!-- ::: .question -->\n",
        "\n",
        "다음 중 유효한 양자 상태는 무엇입니까? (진폭의 제곱을 더해보세요.)\n",
        "\n",
        "<!-- ::: -->\n",
        "\n",
        "<!-- ::: .option(correct) -->\n",
        "\n",
        "1. $\\sqrt{\\tfrac{1}{3}}\\begin{bmatrix} 1 \\\\\\\\ -1 \\\\\\\\ 1 \\\\\\\\ 0 \\end{bmatrix}$\n",
        "\n",
        "<!-- ::: -->\n",
        "\n",
        "<!-- ::: .option -->\n",
        "\n",
        "2. $\\sqrt{\\tfrac{1}{2}}\\begin{bmatrix} 1 \\\\\\\\ -1 \\\\\\\\ -1 \\\\\\\\ 1 \\end{bmatrix}$\n",
        "\n",
        "<!-- ::: -->\n",
        "\n",
        "<!-- ::: .option -->\n",
        "\n",
        "3. $\\tfrac{1}{2}\\begin{bmatrix} 1 \\\\\\\\ 1 \\end{bmatrix}$\n",
        "\n",
        "<!-- ::: -->\n",
        "\n",
        "<!-- ::: -->\n",
        "\n",
        "<!-- ::: -->\n",
        "\n",
        "또 다른 요인은 상태 벡터의 '전역 위상'이라고 불리는 것입니다. 위상이 낳는 간섭 효과에 의해서만 위상의 존재를 감지할 수 있기 때문에, 우리는 위상의 *차이* 만을 측정할 수 있습니다. 만약 상태 벡터의 모든 진폭을 똑같이 회전시킨다면 똑같은 특성을 볼 수 있을 것입니다.\n",
        "\n",
        "<!-- ::: column -->\n",
        "\n",
        "![다양한 시작 단계에서 간섭 효과를 보여주는 이미지](images/quantum-states/global-phase-L.svg)\n",
        "\n",
        "<!-- ::: column -->\n",
        "\n",
        "![다양한 시작 단계에서 간섭 효과를 보여주는 이미지](images/quantum-states/global-phase-R.svg)\n",
        "\n",
        "<!-- ::: -->\n",
        "\n",
        "예를 들어 다음 두 상태를 구별할 수 있는 실험은 존재하지 않습니다:\n",
        "\n",
        "<!-- ::: column -->\n",
        "\n",
        "$$\n",
        "|a\\rangle = \\sqrt{\\tfrac{1}{2}}\\begin{bmatrix} 1 \\\\ 0 \\\\ 0 \\\\ 1 \\end{bmatrix}\n",
        "$$\n",
        "\n",
        "<!-- ::: column -->\n",
        "\n",
        "$$\n",
        "-|a\\rangle = \\sqrt{\\tfrac{1}{2}}\\begin{bmatrix} -1 \\\\ 0 \\\\ 0 \\\\ -1 \\end{bmatrix}\n",
        "$$\n",
        "\n",
        "<!-- ::: -->\n",
        "\n",
        "왜냐하면 각각의 진폭 차이가 같기 때문입니다. 이 두 벡터는 *수학적* 으로는 다르지만 *물리적으로는* 같다고 말 할 수 있습니다.\n",
        "\n",
        "## 양자 연산\n",
        "\n",
        "큐비트가 가질 수 있는 다양한 상태에 대해 모두 알고 있으니, 이제 한 상태를 다른 상태로 변환하는 작업을 표현하는 방법을 살펴볼 차례입니다.\n",
        "\n",
        "어떤 동작에 따라 코인이 앞면에서 뒷면으로 바뀌는 전이 확률이 있듯이, 큐비트의 처음 상태와 마지막 상태에는 각각 전이 진폭이 존재합니다. 이 전이 진폭에 의해서, 임의의 양자 연산을 기술할 수 있습니다.\n",
        "\n",
        "![작업 전후의 두 상태 벡터를 보여주는 이미지](images/quantum-states/quantum-operation.svg)\n",
        "\n",
        "그렇다면 어떤 변환이 가능한 것일까요? 예를 들어 시작 상태 $|a\\rangle $가 있고, 그것이 새로운 상태 $|b\\rangle $로 변환되는 경우를 생각해 봅시다. 만약 우리가 만들어보려는 식이 모든 가능한 변환을 커버하고 싶다면 $|a\\rangle$의 각 진폭은 $|b\\rangle$의 각 진폭으로의 전이 진폭을 가지고 있어야 합니다.\n",
        "\n",
        "<!-- ::: q-block.exercise -->\n",
        "\n",
        "### 짧은 퀴즈\n",
        "\n",
        "<!-- ::: q-quiz(goal=\"intro-describing-3\") -->\n",
        "\n",
        "<!-- ::: .question -->\n",
        "\n",
        "$n$ 큐비트 상태 벡터는 최대 $2^n$개의 진폭을 가질 수 있습니다. $n$ 큐비트의 양자연산을 표현하기 위해 필요한 전이진폭의 최대 개수는 몇 개일까요?\n",
        "\n",
        "<!-- ::: -->\n",
        "\n",
        "<!-- ::: .option -->\n",
        "\n",
        "1. $2\\cdot 2^n$\n",
        "\n",
        "<!-- ::: -->\n",
        "\n",
        "<!-- ::: .option(correct) -->\n",
        "\n",
        "2. $(2^n)^2$\n",
        "\n",
        "<!-- ::: -->\n",
        "\n",
        "<!-- ::: .option -->\n",
        "\n",
        "3. $2n$\n",
        "\n",
        "<!-- ::: -->\n",
        "\n",
        "<!-- ::: .option -->\n",
        "\n",
        "3. $2^{2^n}$\n",
        "\n",
        "<!-- ::: -->\n",
        "\n",
        "<!-- ::: -->\n",
        "\n",
        "<!-- ::: -->\n",
        "\n",
        "이렇게 선을 긋는 것은 번거롭기 때문에, 대신 이 수치들을 모두 [ 행렬 ](gloss:matrix)에 넣습니다."
      ]
    },
    {
      "cell_type": "markdown",
      "metadata": {
        "formulas": {
          "_cnot-gate": {
            "meaning": "This is the label we have given the matrix that represents the CNOT gate."
          },
          "_t_amp_00_00": {
            "meaning": "This is the amplitude of this operation transforming the state <code>00</code> to <code>00</code>."
          },
          "_t_amp_00_01": {
            "meaning": "This is the amplitude of this operation transforming the state <code>00</code> to <code>01</code>."
          },
          "_t_amp_00_10": {
            "meaning": "This is the amplitude of this operation transforming the state <code>00</code> to <code>10</code>."
          },
          "_t_amp_00_11": {
            "meaning": "This is the amplitude of this operation transforming the state <code>00</code> to <code>11</code>."
          },
          "_t_amp_01_00": {
            "meaning": "This is the amplitude of this operation transforming the state <code>01</code> to <code>00</code>."
          },
          "_t_amp_01_01": {
            "meaning": "This is the amplitude of this operation transforming the state <code>01</code> to <code>01</code>."
          },
          "_t_amp_01_10": {
            "meaning": "This is the amplitude of this operation transforming the state <code>01</code> to <code>10</code>."
          },
          "_t_amp_01_11": {
            "meaning": "This is the amplitude of this operation transforming the state <code>01</code> to <code>11</code>."
          },
          "_t_amp_0_0": {
            "meaning": "This is proportional to the transition amplitude of this operation transforming the state <code>0</code> to <code>0</code>."
          },
          "_t_amp_0_1": {
            "meaning": "This is proportional to the transition amplitude of this operation transforming the state <code>0</code> to <code>1</code>."
          },
          "_t_amp_10_00": {
            "meaning": "This is the amplitude of this operation transforming the state <code>10</code> to <code>00</code>."
          },
          "_t_amp_10_01": {
            "meaning": "This is the amplitude of this operation transforming the state <code>10</code> to <code>01</code>."
          },
          "_t_amp_10_10": {
            "meaning": "This is the amplitude of this operation transforming the state <code>10</code> to <code>10</code>."
          },
          "_t_amp_10_11": {
            "meaning": "This is the amplitude of this operation transforming the state <code>10</code> to <code>11</code>."
          },
          "_t_amp_11_00": {
            "meaning": "This is the amplitude of this operation transforming the state <code>11</code> to <code>00</code>."
          },
          "_t_amp_11_01": {
            "meaning": "This is the amplitude of this operation transforming the state <code>11</code> to <code>01</code>."
          },
          "_t_amp_11_10": {
            "meaning": "This is the amplitude of this operation transforming the state <code>11</code> to <code>10</code>."
          },
          "_t_amp_11_11": {
            "meaning": "This is the amplitude of this operation transforming the state <code>11</code> to <code>11</code>."
          },
          "_t_amp_1_0": {
            "meaning": "This is proportional to the transition amplitude of this operation transforming the state <code>1</code> to <code>0</code>."
          },
          "_t_amp_1_1": {
            "meaning": "This is proportional to the transition amplitude of this operation transforming the state <code>1</code> to <code>1</code>."
          },
          "dot": {
            "meaning": "This dot is a shorthand for multiplication."
          },
          "u-gate": {
            "meaning": "'U' is generally used to represent quantum gates, especially if the gate doesn't have a more specific name. It stands for 'unitary' which is something we'll learn about further down on this page."
          }
        },
        "gloss": {
          "cnot": {
            "text": "The CNOT gate toggles the state of a 'target' qubit if the state of a 'control' qubit is 1.",
            "title": "CNOT"
          }
        }
      },
      "source": [
        "$$\n",
        "\\cssId{u-gate}{U} = \n",
        "\\begin{bmatrix}\n",
        "\\class{_t_amp_00_00}{t_{00\\to 00}} & \\class{_t_amp_01_00}{t_{01\\to 00}} & \\class{_t_amp_10_00}{t_{10\\to 00}} & \\class{_t_amp_11_00}{t_{11\\to 00}} \\\\\n",
        "\\class{_t_amp_00_01}{t_{00\\to 01}} & \\class{_t_amp_01_01}{t_{01\\to 01}} & \\class{_t_amp_10_01}{t_{10\\to 01}} & \\class{_t_amp_11_01}{t_{11\\to 01}} \\\\\n",
        "\\class{_t_amp_00_10}{t_{00\\to 10}} & \\class{_t_amp_01_10}{t_{01\\to 10}} & \\class{_t_amp_10_10}{t_{10\\to 10}} & \\class{_t_amp_11_10}{t_{11\\to 10}} \\\\\n",
        "\\class{_t_amp_00_11}{t_{00\\to 11}} & \\class{_t_amp_01_11}{t_{01\\to 11}} & \\class{_t_amp_10_11}{t_{10\\to 11}} & \\class{_t_amp_11_11}{t_{11\\to 11}} \\\\\n",
        "\\end{bmatrix}\n",
        "$$\n",
        "\n",
        "예를 들어, 다음은 '계산의 기본요소(원자)들' 챕터에서 보았던 CNOT 연산을 나타내는 행렬입니다.\n",
        "\n",
        "$$\n",
        "\\cssId{_cnot-gate}{\\text{CNOT}} =\n",
        "\\begin{bmatrix}\n",
        "\\class{_t_amp_00_00}{1} & \\class{_t_amp_01_00}{0} & \\class{_t_amp_10_00}{0} & \\class{_t_amp_11_00}{0} \\\\\n",
        "\\class{_t_amp_00_01}{0} & \\class{_t_amp_01_01}{0} & \\class{_t_amp_10_01}{0} & \\class{_t_amp_11_01}{1} \\\\\n",
        "\\class{_t_amp_00_10}{0} & \\class{_t_amp_01_10}{0} & \\class{_t_amp_10_10}{1} & \\class{_t_amp_11_10}{0} \\\\\n",
        "\\class{_t_amp_00_11}{0} & \\class{_t_amp_01_11}{1} & \\class{_t_amp_10_11}{0} & \\class{_t_amp_11_11}{0} \\\\\n",
        "\\end{bmatrix}\n",
        "$$\n",
        "\n",
        "<!-- ::: q-block.exercise -->\n",
        "\n",
        "### 짧은 퀴즈\n",
        "\n",
        "<!-- ::: q-quiz(goal=\"intro-maths-0\") -->\n",
        "\n",
        "<!-- ::: .question -->\n",
        "\n",
        "CNOT 연산(위 그림)에서 상태 $|10\\rangle $를 $|01\\rangle $로 변환할 때 전이 진폭은 무엇일까요?\n",
        "\n",
        "<!-- ::: -->\n",
        "\n",
        "<!-- ::: .option -->\n",
        "\n",
        "1. $1$\n",
        "\n",
        "<!-- ::: -->\n",
        "\n",
        "<!-- ::: .option(correct) -->\n",
        "\n",
        "2. $0$\n",
        "\n",
        "<!-- ::: -->\n",
        "\n",
        "<!-- ::: .option -->\n",
        "\n",
        "3. $\\begin{bmatrix} 1 & 0 & 0 & 0\\end{bmatrix}$\n",
        "\n",
        "<!-- ::: -->\n",
        "\n",
        "<!-- ::: .option -->\n",
        "\n",
        "1. $\\begin{bmatrix} 0 \\\\ 0 \\\\ 1 \\\\ 0\\end{bmatrix}$\n",
        "\n",
        "<!-- ::: -->\n",
        "\n",
        "<!-- ::: -->\n",
        "\n",
        "<!-- ::: -->\n",
        "\n",
        "다음은 이전 페이지에서 본 H-gate의 행렬입니다.\n",
        "\n",
        "$$\n",
        "H = \\sqrt{\\tfrac{1}{2}}\n",
        "\\begin{bmatrix}\n",
        "\\class{_t_amp_0_0}{1} & \\class{_t_amp_1_0}{1} \\\\\n",
        "\\class{_t_amp_0_1}{1} & \\class{_t_amp_1_1}{-1} \\\\\n",
        "\\end{bmatrix}\n",
        "$$\n",
        "\n",
        "(행렬과 스칼라의 곱셈은 벡터와 같은 규칙을 사용합니다). 그리고 어떤 연산이 큐비트들에 어떤 영향을 주는지를 보고 싶을 때에는 각 전이 진폭을 입력 상태 벡터의 각 상태의 진폭에 곱하고 각 상태의 진폭을 더해 출력 상태 벡터로 계산합니다. 이는 확률(또는 진폭) 트리의 각 가지를 따라 곱하고 마지막에 총 확률(또는 진폭)을 더하는 것과 동일합니다.\n",
        "\n",
        "수학에 익숙한 분이라면 바로 알 수 있듯, 이것은 일반적인 행렬의 곱셈입니다.\n",
        "\n",
        "$$\n",
        "H|0\\rangle = \\sqrt{\\tfrac{1}{2}}\n",
        "\\begin{bmatrix}\n",
        "\\class{_t_amp_0_0}{1} & \\class{_t_amp_1_0}{ 1} \\\\\n",
        "\\class{_t_amp_0_1}{1} & \\class{_t_amp_1_1}{-1} \\\\\n",
        "\\end{bmatrix}\n",
        "\\begin{bmatrix}\n",
        "\\class{_sq-amp0}{1} \\\\\n",
        "\\class{_sq-amp1}{0} \\\\\n",
        "\\end{bmatrix}\n",
        "= \\sqrt{\\tfrac{1}{2}}\n",
        "\\begin{bmatrix}\n",
        "(1 \\class{dot}{\\cdot} 1) & + &  (1 \\class{dot}{\\cdot} 0) \\\\\n",
        "(1 \\class{dot}{\\cdot} 1) & + & (-1 \\class{dot}{\\cdot} 0) \\\\\n",
        "\\end{bmatrix}\n",
        "= \\sqrt{\\tfrac{1}{2}}\n",
        "\\begin{bmatrix}\n",
        "\\class{_sq-amp0}{1} \\\\\n",
        "\\class{_sq-amp1}{1} \\\\\n",
        "\\end{bmatrix}\n",
        "$$\n",
        "\n",
        "![H-gate가 상태 |0>을 상태 |+>로 변환하는 방법을 보여주는 이미지](images/quantum-states/h-gate.svg)"
      ]
    },
    {
      "cell_type": "markdown",
      "metadata": {
      },
      "source": [
        "## 양자 연산의 규칙\n",
        "\n",
        "모든 벡터가 유효한 상태 벡터가 아닌 것처럼 모든 행렬이 유효한 양자 연산인 것은 아닙니다. 만약 행렬이 진정한 연산으로서 의미를 갖는다면 출력 상태의 합계 확률을 1로 유지해야 합니다. 따라서 다음의 행렬은 양자 연산으로 사용 할 수 없습니다.\n",
        "\n",
        "$$\n",
        "\\begin{bmatrix}\n",
        "\\class{_t_amp_0_0}{1} & \\class{_t_amp_1_0}{0} \\\\\n",
        "\\class{_t_amp_0_1}{1} & \\class{_t_amp_1_1}{0} \\\\\n",
        "\\end{bmatrix}\n",
        "$$\n",
        "\n",
        "왜냐하면 이 행렬은 $|0\\rangle$ 상태에 대해 다음과 같이 작동하기 때문입니다:\n",
        "\n",
        "$$\n",
        "\\begin{bmatrix}\n",
        "\\class{_t_amp_0_0}{1} & \\class{_t_amp_1_0}{0} \\\\\n",
        "\\class{_t_amp_0_1}{1} & \\class{_t_amp_1_1}{0} \\\\\n",
        "\\end{bmatrix}\\begin{bmatrix} 1 \\\\ 0 \\end{bmatrix}\n",
        "=\n",
        "\\begin{bmatrix} \\class{_sq-amp0}{1} \\\\ \\class{_sq-amp1}{1} \\end{bmatrix}\n",
        "$$\n",
        "\n",
        "그리고 확률의 합은 2가 되므로 조건을 만족하지 않게 됩니다. 또한 상태 $|1\\rangle$ $에 작용한 경우 합계 확률은 0이 되어, 마찬가지로 규칙에 어긋나게 됩니다. 어떠한 경우에도 확률의 총합이 변하지 않으려면 연산이 가역적(reversible)으로 될 필요가 있습니다. 즉, 양자 게이트를 거꾸로 실행해 '원래로 되돌릴' 수 있는 것입니다(회전을 반전시키는 것을 기억하십시오). 이러한 성질을 가진 행렬을 *유니터리 행렬*이라고 부릅니다. 양자 게이트를 '유니터리' 또는 '유니터리 게이트'라고 부르는 것을 흔히 볼 수 있습니다."
      ]
    }
  ],
  "metadata": {
    "kernelspec": {
      "display_name": "Python 3",
      "language": "python",
      "name": "python3"
    },
    "language_info": {
      "codemirror_mode": {
        "name": "ipython",
        "version": 3
      },
      "file_extension": ".py",
      "mimetype": "text/x-python",
      "name": "python",
      "nbconvert_exporter": "python",
      "pygments_lexer": "ipython3",
      "version": "3.9"
    }
  },
  "nbformat": 4,
  "nbformat_minor": 4
}
