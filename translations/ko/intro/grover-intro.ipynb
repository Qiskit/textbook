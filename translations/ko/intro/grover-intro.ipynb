{
  "cells": [
    {
      "cell_type": "markdown",
      "metadata": {
        "slideshow": {
          "slide_type": "-"
        }
      },
      "source": [
        "# Grover 검색 알고리즘"
      ]
    },
    {
      "cell_type": "markdown",
      "metadata": {
      },
      "source": [
        "## 검색 문제\n",
        "\n",
        "컴퓨터가 해결하는 많은 문제들은 *검색 문제* 유형입니다. 웹 사이트에서 데이터베이스를 구축하고 검색할 수 있는 프로그램인 검색 엔진을 사용하여 이미 웹 검색을 경험해 보았을 것입니다. 우리는 데이터베이스를 주소값을 입력으로 받아 그 주소값에 해당하는 데이터를 출력하는 프로그램이라고 생각할 수 있습니다. 전화번호부가 좋은 예입니다. 전화번호부 각 항목에는 이름과 번호가 있습니다. 예를 들어 데이터베이스에 3441번가의 데이터를 제공하도록 요청하면 책에 있는 3441번가에 해당하는 이름과 번호가 반환됩니다.\n",
        "\n",
        "![Information flow in a black box database.](images/grover/database-phonebook.svg)\n",
        "\n",
        "<!-- vale QiskitTextbook.SentenceLengthWarning = NO -->\n",
        "\n",
        "이렇게 데이터베이스에 입력을 제공하고 출력을 읽는 과정을 \"데이터베이스에 문의하기\"라고 합니다. 종종 컴퓨터 과학에서, 데이터베이스를 블랙박스로 간주하는데 이는, 데이터베이스가 어떻게 작동하는지 사용자는 볼 수 없다는 것을 의미합니다. 미리 정해진 규칙대로 행해지는 마법 같은 과정이 있다고 가정해봅시다. 이러한 마법의 과정을 \"오라클\"이라고 부르겠습니다.\n",
        "\n",
        "<!-- vale QiskitTextbook.SentenceLengthWarning = YES -->\n",
        "\n",
        "만약 찾으려고 하는 사람의 이름이 있고 그 사람의 전화번호를 찾으려고 할 때 책의 이름이 알파벳순으로 정렬되어 있으면 쉽게 찾을 수 있습니다. 이를 위해 *이진 검색* 이라는 알고리즘을 사용할 수 있습니다.\n",
        "\n",
        "<!-- ::: q-block -->\n",
        "\n",
        "### 예: 이진 검색\n",
        "\n",
        "<!-- ::: q-carousel -->\n",
        "\n",
        "<!-- ::: div -->\n",
        "\n",
        "![Example of a database](https://github.com/Qiskit/platypus/blob/main/translations/ko/intro/images/grover/carousel/0/0.svg?raw=true)\n",
        "\n",
        "이진 검색은 정렬된 데이터베이스 검색에서 매우 효율적인 고전 알고리즘입니다. 책의 특정 페이지를 검색할 때(또는 실제 전화번호부를 사용하여) 비슷한 것을 사용했을 것입니다. Evelina의 전화번호를 찾고 싶다고 가정해 봅시다.\n",
        "\n",
        "<!-- ::: -->\n",
        "\n",
        "<!-- ::: div -->\n",
        "\n",
        "![Example of the first step of a binary search algorithm, the computer has selected the middle entry](images/grover/carousel/0/1.svg)\n",
        "\n",
        "먼저, 데이터베이스에서 중간값을 찾고 이것이 우리가 찾으려고 하는 값보다 위에 있는지 아래에 있는지 확인합니다.\n",
        "\n",
        "<!-- ::: -->\n",
        "\n",
        "<!-- ::: div -->\n",
        "\n",
        "![Second step of a binary search algorithm](images/grover/carousel/0/2.svg)\n",
        "\n",
        "이 경우 \"H\"는 \"E\" 다음에 옵니다. 목록이 정렬되었으므로 우리가 찾는 값의 주소가 7보다 낮아야 한다는 것을 알고 있습니다. 6보다 큰 주소는 무시하고 축소된 목록에서 이 알고리즘을 반복할 수 있습니다.\n",
        "\n",
        "<!-- ::: -->\n",
        "\n",
        "<!-- ::: div -->\n",
        "\n",
        "![Third step of a binary search algorithm](images/grover/carousel/0/3.svg)\n",
        "\n",
        "이번에는, 중간값의 이름은 “D”로 시작합니다. 이는 \"E\" 앞에 있습니다. 이제 우리가 찾는 값이 3보다 큰 주소를 가진다는 것을 알게 되었습니다.\n",
        "\n",
        "<!-- ::: -->\n",
        "\n",
        "<!-- ::: div -->\n",
        "\n",
        "![Fourth step of a binary search algorithm](images/grover/carousel/0/4.svg)\n",
        "\n",
        "각 단계에서 작업 중인 목록의 크기가 절반으로 줄어들기 때문에 검색 공간은 지수적으로 *감소*됩니다.\n",
        "\n",
        "<!-- ::: -->\n",
        "\n",
        "<!-- ::: div -->\n",
        "\n",
        "![Fifth step of a binary search algorithm](images/grover/carousel/0/5.svg)\n",
        "\n",
        "이는 매우 큰 데이터베이스에서도 항목을 빠르게 찾을 수 있다는 것을 의미합니다.\n",
        "\n",
        "<!-- ::: -->\n",
        "\n",
        "<!-- ::: -->\n",
        "\n",
        "<!-- ::: -->\n",
        "\n",
        "<!-- ::: q-block.exercise -->\n",
        "\n",
        "### 막간 퀴즈\n",
        "\n",
        "<!-- ::: q-quiz(goal=\"intro-grover-0\") -->\n",
        "\n",
        "필요한 최대 데이터베이스 쿼리 수는 데이터베이스의 항목 수에 따라 로그(밑이 2)로 증가합니다.\n",
        "\n",
        "<!-- ::: .question -->\n",
        "\n",
        "이진 검색을 사용했을 때 어떤 것이 1024개의 항목이 있는 정렬된 데이터베이스를 검색하는 데 필요한 쿼리 수가 가장 많습니까?\n",
        "\n",
        "<!-- ::: -->\n",
        "\n",
        "<!-- ::: .option(correct) -->\n",
        "\n",
        "1. 10\n",
        "\n",
        "<!-- ::: -->\n",
        "\n",
        "<!-- ::: .option -->\n",
        "\n",
        "1. 1\n",
        "\n",
        "<!-- ::: -->\n",
        "\n",
        "<!-- ::: .option -->\n",
        "\n",
        "1. 100\n",
        "\n",
        "<!-- ::: -->\n",
        "\n",
        "<!-- ::: -->\n",
        "\n",
        "*힌트: 한 항목만 남기려면 데이터베이스를 몇번 절반으로 줄여야 합니까?*\n",
        "\n",
        "<!-- ::: -->"
      ]
    },
    {
      "cell_type": "markdown",
      "metadata": {
        "gloss": {
          "index": {
            "text": "To make searching easier, we could have two copies of the phone book: One sorted by name and the other sorted by number. This will obviously take a while to create and will take up more space on the disk, but it could be worth it if we’re searching it a lot.",
            "title": "Index (databases)"
          },
          "logarithm": {
            "text": "This is the inverse of exponential. This grows very slowly, so logarithmic algorithms are generally considered very efficient.",
            "title": "Logarithmic"
          },
          "quadratic": {
            "text": "'Quadratic' is anything to do with squares (i.e., multiplying a number by itself).",
            "title": "Quadratic"
          }
        }
      },
      "source": [
        "이진 검색은 데이터베이스의 크기에 따라 [대수적](gloss:logarithm) 으로 증가하기 때문에 양자 컴퓨터에서 개선의 여지가 많지 않습니다. 그러나 정렬된 목록을 검색하는 것이 항상 편리한 것은 아닙니다. 대신 전화번호가 주어지고 그 번호와 관련된 이름을 찾고 싶다면 어떻게 해야 할까요?\n",
        "\n",
        "전화번호부는 일반적으로 번호 별로 정렬되지 않기 때문에 이것은 훨씬 더 어렵습니다. 전화번호가 목록에서 무작위로 정렬되어 있다고 가정하면 지난번에 했던 것처럼 목표물에 접근할 방법이 없습니다. 고전적인 컴퓨터로 할 수 있는 최선은 무작위로 입력 주소를 선택하고 여기에 우리가 찾고 있는 전화번호가 포함되어 있는지 확인한 다음 올바른 입력을 찾을 때까지 반복하는 것입니다. 이러한 이유로 검색 시간을 개선하기 위해 데이터베이스를 [목록화](gloss:index) 하는 데 많은 노력이 필요합니다.\n",
        "\n",
        "데이터베이스가 이와 같이 완전히 무질서할 때 우리는 그것을 *비정형* 이라고 합니다. 그리고 이 페이지에서 배울 양자 알고리즘은 구조화되지 않은 검색을 위한 알고리즘입니다.\n",
        "\n",
        "<!-- ::: q-block.exercise -->\n",
        "\n",
        "### 구조화되지 않은 검색\n",
        "\n",
        "<!-- ::: q-quiz(goal=\"intro-grover-1\") -->\n",
        "\n",
        "<!-- ::: .question -->\n",
        "\n",
        "무작위로 입력을 선택하여 비정형화된 데이터베이스를 검색하는 경우 찾고 있는 항목을 찾기 전에 평균적으로 몇 개의 입력을 확인해야 할까요?\n",
        "\n",
        "<!-- ::: -->\n",
        "\n",
        "<!-- ::: .option(correct) -->\n",
        "\n",
        "1. 가능한 입력의 절반.\n",
        "\n",
        "<!-- ::: -->\n",
        "\n",
        "<!-- ::: .option -->\n",
        "\n",
        "1. 가능한 모든 입력.\n",
        "\n",
        "<!-- ::: -->\n",
        "\n",
        "<!-- ::: .option -->\n",
        "\n",
        "1. 가능한 입력의 4분의 3.\n",
        "\n",
        "<!-- ::: -->\n",
        "\n",
        "<!-- ::: -->\n",
        "\n",
        "***\n",
        "\n",
        "<!-- ::: q-quiz(goal=\"intro-grover-2\") -->\n",
        "\n",
        "<!-- ::: .question -->\n",
        "\n",
        "무작위 추측을 사용하여 데이터베이스의 항목 수에 따라 필요한 평균 데이터베이스 쿼리 수가 어떻게 증가합니까?\n",
        "\n",
        "<!-- ::: -->\n",
        "\n",
        "<!-- ::: .option(correct) -->\n",
        "\n",
        "1. 선형적으로.\n",
        "\n",
        "<!-- ::: -->\n",
        "\n",
        "<!-- ::: .option -->\n",
        "\n",
        "1. 대수적으로.\n",
        "\n",
        "<!-- ::: -->\n",
        "\n",
        "<!-- ::: .option -->\n",
        "\n",
        "1. 2차적으로.\n",
        "\n",
        "<!-- ::: -->\n",
        "\n",
        "<!-- ::: .option -->\n",
        "\n",
        "1. 기하급수적으로.\n",
        "\n",
        "<!-- ::: -->\n",
        "\n",
        "<!-- ::: -->\n",
        "\n",
        "<!-- ::: -->\n",
        "\n",
        "<!-- vale QiskitTextbook.SentenceLengthWarning = NO -->\n",
        "\n",
        "여기에서 무작위 추측보다 더 잘할 수 없는 것처럼 보일 수도 있습니다. 데이터베이스에서 올바른 항목이 어디에 있는지 알 수 없으며 각각의 잘못된 쿼리는 하나의 항목만 제외합니다.\n",
        "\n",
        "<!-- vale QiskitTextbook.SentenceLengthWarning = YES -->\n",
        "\n",
        "고전적인 컴퓨터의 경우 우리의 직관은 정확하지만, 데이터베이스가 양자 중첩을 입력 및 출력할 수 있다면 무작위 추측보다 더 잘 할 수 있다는 것이 밝혀졌습니다! 이 페이지에서는 첫 번째 양자 알고리즘인 Grover의 양자 검색 알고리즘에 대해 배웁니다. 모든 데이터베이스(정형 또는 비정형)를 검색할 때 Grover의 알고리즘은 입력 수의 *제곱근* 으로 증가하며, 비정형 검색의 경우 최고의 고전 알고리즘보다 [2차](gloss:quadratic) 개선된 것입니다.\n",
        "\n",
        "![Comparison of best algorithm run times for quantum and classical unstructured search](https://gitlocalize.com/repo/7494/ko/notebooks/intro/images/grover/rg-vs-grover.svg)"
      ]
    },
    {
      "cell_type": "markdown",
      "metadata": {
        "gloss": {
          "3-sat": {
            "text": "Similar to sudoku, 3-SAT is a problem where you need to find a string of bits according to certain constraints.",
            "title": "3-SAT"
          },
          "sudoku": {
            "text": "A sudoku is a type of puzzle. To solve it, you need to fill in numbers in a grid according to certain constraints. <a href='https://en.wikipedia.org/wiki/Sudoku'>Read more</a>.",
            "title": "Sudoku"
          }
        }
      },
      "source": [
        "## 블랙박스를 넘어\n",
        "\n",
        "검색 알고리즘은 전화번호부와 같이 수집된 정보의 데이터베이스를 검색할 수 있지만 그 이상도 수행할 수 있습니다. 문제를 데이터베이스 검색 문제처럼 *보이게* 만들 수 있다면 검색 알고리즘을 사용하여 해결할 수 있습니다. 예를 들어, [스도쿠](gloss:sudoku) 를 푸는 문제를 생각해 봅시다. 누군가가 스도쿠를 풀었다고 주장하는 경우 꽤 빨리 해결되었는지 확인할 수 있습니다. 각 행을 확인하고, 각 열을 확인하고, 각 사각형을 확인하면 완료됩니다. 이런 의미에서 *사용자* 는 데이터베이스이며 솔루션을 제공한 사람이 당신에게 질문하고 있습니다. 그들은 \"예, 이것은 유효한 솔루션입니다\"라는 정보를 반환하는 입력을 찾으려고 합니다.\n",
        "\n",
        "실제로, 우리는 \"특정 출력을 초래하는 입력 찾기\"로서 많은 계산 문제를 제시할 수 있습니다.\n",
        "\n",
        "![We can view a program that assesses proposed solutions as a database.](https://github.com/Qiskit/platypus/blob/main/translations/ko/intro/images/grover/database-computation.svg?raw=true)\n",
        "\n",
        "<!-- vale QiskitTextbook.Acronyms = NO -->\n",
        "\n",
        "이와 같이 해결할 수 있는 문제의 한 예는 불리언 만족도 문제('SAT'로 알려짐)입니다.\n",
        "\n",
        "## SAT 문제\n",
        "\n",
        "SAT 문제들은 컴퓨터 과학 분야에서 광범위하게 연구되고 있으며 다른 많은 컴퓨팅 문제들을 SAT 문제로 변환할 수 있습니다. 이 페이지에서는 Grover 알고리즘을 사용하여 간단한 SAT 문제를 해결하고 여기에서 배운 기술을 사용하여 다른 문제에 양자 검색 알고리즘을 적용할 수 있습니다.\n",
        "\n",
        "SAT 문제에 대한 해답은 비트열로 양자 회로에 쉽게 매핑할 수 있습니다. 문제 자체는 본질적으로 다양한 비트 값 조합을 배제하게 해주는 여러 조건 들이고 우리는 이걸 절이라고 부릅니다. 예를 들어, 3비트가 있는 경우 절 중 하나는 \"0번째 비트를 `ON` *으로 하면서* 첫 번째 비트를 `OFF` 로 할 수 없습니다\"가 될 수 있으며, 이는 `101` 및 `001` 조합을 유효한 솔루션으로 배제합니다.\n",
        "\n",
        "모든 절이 정확히 3비트를 참조하고 각 절에서 이러한 비트 조건 중 하나가 충족되어야 하는 *\"[3-SAT](gloss:3-sat) \"* 문제를 인코딩하는 SAT 문제가 이 파일에 있습니다. "
      ]
    },
    {
      "cell_type": "markdown",
      "metadata": {
        "formulas": {
          "_dimacs-c": {
            "meaning": "In the DIMACS file format, the character '<code>c</code>' signals that this line is a comment and can be ignored."
          },
          "_dimacs-clause-1": {
            "meaning": "In the DIMACS file format, this clause states that we need either bit #1 to be <code>ON</code>, bit #2 to be <code>OFF</code>, <i>or</i> bit #3 to be <code>ON</code>. If any of these conditions are satisfied, the clause is satisfied, so the only combination that <i>wouldn’t</i> satisfy this would be bits 1, 2, and 3 being <code>OFF</code>, <code>ON</code>, <code>OFF</code> respectively. The <code>0</code> indicates the end of the line."
          },
          "_dimacs-clause-3": {
            "meaning": "In the DIMACS file format, this clause states that we need either bit #1 to be <code>ON</code>, bit #2 to be <code>OFF</code>, <i>or</i> bit #3 to be <code>OFF</code>. If any of these conditions are satisfied, the clause is satisfied, so the only combination that <i>wouldn’t</i> satisfy this would be bits 1, 2, and 3 being <code>OFF</code>, <code>ON</code>, <code>ON</code> respectively. The <code>0</code> indicates the end of the line."
          },
          "_dimacs-clause-4": {
            "meaning": "In the DIMACS file format, this clause states that we need either bit #1 to be <code>OFF</code>, bit #2 to be <code>ON</code>, <i>or</i> bit #3 to be <code>ON</code>. If any of these conditions are satisfied, the clause is satisfied, so the only combination that <i>wouldn’t</i> satisfy this would be bits 1, 2, and 3 being <code>ON</code>, <code>OFF</code>, <code>OFF</code> respectively. The <code>0</code> indicates the end of the line."
          },
          "_dimacs-problem": {
            "meaning": "In the DIMACS file format, a line starting with '<code>p</code>' specifies the type of problem. This problem is conjunctive normal form, with 3 variables (bits) and 5 clauses."
          }
        }
      },
      "source": [
        "<!-- ::: q-block -->\n",
        "\n",
        "### 예제 3-SAT 문제\n",
        "\n",
        "다음은 \"DIMACS CNF\"라는 파일 형식으로 저장된 3-SAT 문제의 예입니다. 이 파일은 매우 간단하며 SAT 문제를 저장하는 한 가지 방법일 뿐입니다.\n",
        "\n",
        "$\\cssId{_dimacs-c}{\\texttt{c example DIMACS-CNF 3-SAT}}$<br> $\\cssId{_dimacs-problem}{\\texttt{p cnf 3 5}}$<br> $\\texttt{-1 -2 -3 0}$<br> $\\cssId{_dimacs-clause-1}{\\texttt{1 -2 3 0}}$<br> $\\texttt{1 2 -3 0}$<br> $\\cssId{_dimacs-clause-3}{\\texttt{1 -2 -3 0}}$<br> $\\cssId{_dimacs-clause-4}{\\texttt{-1 2 3 0}}$<br>\n",
        "\n",
        "<!-- ::: -->"
      ]
    },
    {
      "cell_type": "markdown",
      "metadata": {
      },
      "source": [
        "<!-- vale QiskitTextbook.SentenceLengthWarning = NO -->\n",
        "\n",
        "스도쿠와 마찬가지로 비트 문자열이 SAT 문제에 대한 유효한 해답인지 확인하는 것은 쉽습니다. 각 절을 차례로 살펴보고 문자열이 그 중 하나라도 따르지 않는지 확인합니다. 우리는 이 과정을 양자 회로에서 어떻게 하는지에 대해 걱정하지 않을 것입니다. 우리는 SAT 해답을 확인하기 위한 효율적인 고전 알고리즘을 가지고 있다는 것을 기억하시길 바랍니다. 지금은 Qiskit의 내장 도구를 사용하여 이를 수행하는 회로를 구축할 것입니다.\n",
        "\n",
        "<!-- vale QiskitTextbook.SentenceLengthWarning = YES -->\n",
        "\n",
        "우리는 이 파일을 실행 중인 코드와 관련하여 `examples/3sat.dimacs` 에 저장했습니다."
      ]
    },
    {
      "cell_type": "code",
      "execution_count": 1,
      "metadata": {
      },
      "outputs": [
        {
          "name": "stdout",
          "output_type": "stream",
          "text": [
            "c example DIMACS-CNF 3-SAT\n",
            "p cnf 3 5\n",
            "-1 -2 -3 0\n",
            "1 -2 3 0\n",
            "1 2 -3 0\n",
            "1 -2 -3 0\n",
            "-1 2 3 0\n"
          ]
        }
      ],
      "source": [
        "with open('examples/3sat.dimacs', 'r', encoding='utf8') as f:\n",
        "    dimacs = f.read()\n",
        "print(dimacs)  # let's check the file is as promised"
      ]
    },
    {
      "cell_type": "markdown",
      "metadata": {
      },
      "source": [
        "<!-- vale QiskitTextbook.SentenceLengthWarning = NO -->\n",
        "\n",
        "우리는 Qiskit의 회로 라이브러리를 사용하여 위에서 설명한 오라클의 역할을 수행하는 회로를 구축할 수 있습니다 (이제는 이 회로가 마술적고 강력하지 않지만 계속 '오라클'이라고 부를 것입니다)."
      ]
    },
    {
      "cell_type": "code",
      "execution_count": 2,
      "metadata": {
      },
      "outputs": [
        {
          "data": {
            "image/svg+xml": [
              "<?xml version=\"1.0\" encoding=\"UTF-8\"?><!DOCTYPE svg  PUBLIC '-//W3C//DTD SVG 1.1//EN'  'http://www.w3.org/Graphics/SVG/1.1/DTD/svg11.dtd'><svg width=\"312.85pt\" height=\"172pt\" version=\"1.1\" viewBox=\"0 0 312.85 172\" xmlns=\"http://www.w3.org/2000/svg\" xmlns:xlink=\"http://www.w3.org/1999/xlink\"><defs><style type=\"text/css\">*{stroke-linejoin: round; stroke-linecap: butt}</style></defs><path d=\"m0 172h312.85v-172h-312.85z\" fill=\"#ffffff\"/><path d=\"m64.609 44.283h236.41\" clip-path=\"url(#p775cf299cd)\" fill=\"none\" stroke=\"#000000\" stroke-linecap=\"square\" stroke-width=\"2\"/><path d=\"m64.609 90.637h236.41\" clip-path=\"url(#p775cf299cd)\" fill=\"none\" stroke=\"#000000\" stroke-linecap=\"square\" stroke-width=\"2\"/><path d=\"m64.609 136.99h236.41\" clip-path=\"url(#p775cf299cd)\" fill=\"none\" stroke=\"#000000\" stroke-linecap=\"square\" stroke-width=\"2\"/><path d=\"m89.64 136.99v-92.708\" clip-path=\"url(#p775cf299cd)\" fill=\"none\" stroke=\"#6929c4\" stroke-linecap=\"square\" stroke-width=\"2\"/><path d=\"m228.7 90.637v-46.354\" clip-path=\"url(#p775cf299cd)\" fill=\"none\" stroke=\"#6929c4\" stroke-linecap=\"square\" stroke-width=\"2\"/><path d=\"m89.64 136.99v-92.708\" clip-path=\"url(#p775cf299cd)\" fill=\"none\" stroke=\"#6929c4\" stroke-linecap=\"square\" stroke-width=\"2\"/><path d=\"m228.7 90.637v-46.354\" clip-path=\"url(#p775cf299cd)\" fill=\"none\" stroke=\"#6929c4\" stroke-linecap=\"square\" stroke-width=\"2\"/><path d=\"m89.64 48.803c1.1986 0 2.3482-0.4762 3.1958-1.3237 0.84753-0.84753 1.3237-1.9972 1.3237-3.1958 0-1.1986-0.4762-2.3482-1.3237-3.1958-0.84753-0.84753-1.9972-1.3237-3.1958-1.3237-1.1986 0-2.3482 0.4762-3.1958 1.3237-0.84753 0.84753-1.3237 1.9972-1.3237 3.1958 0 1.1986 0.4762 2.3482 1.3237 3.1958 0.84753 0.84753 1.9972 1.3237 3.1958 1.3237z\" clip-path=\"url(#p775cf299cd)\" fill=\"#ffffff\" stroke=\"#6929c4\" stroke-width=\"1.5\"/><path d=\"m89.64 141.51c1.1986 0 2.3482-0.4762 3.1958-1.3237 0.84753-0.84753 1.3237-1.9972 1.3237-3.1958 0-1.1986-0.4762-2.3482-1.3237-3.1958-0.84753-0.84753-1.9972-1.3237-3.1958-1.3237-1.1986 0-2.3482 0.4762-3.1958 1.3237-0.84753 0.84753-1.3237 1.9972-1.3237 3.1958 0 1.1986 0.4762 2.3482 1.3237 3.1958 0.84753 0.84753 1.9972 1.3237 3.1958 1.3237z\" clip-path=\"url(#p775cf299cd)\" fill=\"#ffffff\" stroke=\"#6929c4\" stroke-width=\"1.5\"/><path d=\"m89.64 95.157c1.1986 0 2.3482-0.4762 3.1958-1.3237 0.84753-0.84753 1.3237-1.9972 1.3237-3.1958s-0.4762-2.3482-1.3237-3.1958c-0.84753-0.84753-1.9972-1.3237-3.1958-1.3237-1.1986 0-2.3482 0.4762-3.1958 1.3237-0.84753 0.84753-1.3237 1.9972-1.3237 3.1958s0.4762 2.3482 1.3237 3.1958c0.84753 0.84753 1.9972 1.3237 3.1958 1.3237z\" clip-path=\"url(#p775cf299cd)\" fill=\"#6929c4\" stroke=\"#6929c4\" stroke-width=\"1.5\"/><path d=\"m120.93 105.7h30.13v-30.13h-30.13z\" clip-path=\"url(#p775cf299cd)\" fill=\"#005d5d\" stroke=\"#005d5d\" stroke-width=\"1.5\"/><path d=\"m120.93 152.06h30.13v-30.13h-30.13z\" clip-path=\"url(#p775cf299cd)\" fill=\"#005d5d\" stroke=\"#005d5d\" stroke-width=\"1.5\"/><path d=\"m167.28 105.7h30.13v-30.13h-30.13z\" clip-path=\"url(#p775cf299cd)\" fill=\"#005d5d\" stroke=\"#005d5d\" stroke-width=\"1.5\"/><path d=\"m228.7 48.803c1.1986 0 2.3482-0.4762 3.1958-1.3237s1.3237-1.9972 1.3237-3.1958c0-1.1986-0.4762-2.3482-1.3237-3.1958s-1.9972-1.3237-3.1958-1.3237c-1.1986 0-2.3482 0.4762-3.1958 1.3237-0.84753 0.84753-1.3237 1.9972-1.3237 3.1958 0 1.1986 0.4762 2.3482 1.3237 3.1958 0.84753 0.84753 1.9972 1.3237 3.1958 1.3237z\" clip-path=\"url(#p775cf299cd)\" fill=\"#ffffff\" stroke=\"#6929c4\" stroke-width=\"1.5\"/><path d=\"m228.7 95.157c1.1986 0 2.3482-0.4762 3.1958-1.3237 0.84753-0.84753 1.3237-1.9972 1.3237-3.1958s-0.4762-2.3482-1.3237-3.1958c-0.84753-0.84753-1.9972-1.3237-3.1958-1.3237-1.1986 0-2.3482 0.4762-3.1958 1.3237-0.84753 0.84753-1.3237 1.9972-1.3237 3.1958s0.4762 2.3482 1.3237 3.1958c0.84753 0.84753 1.9972 1.3237 3.1958 1.3237z\" clip-path=\"url(#p775cf299cd)\" fill=\"#6929c4\" stroke=\"#6929c4\" stroke-width=\"1.5\"/><path d=\"m259.99 105.7h30.13v-30.13h-30.13z\" clip-path=\"url(#p775cf299cd)\" fill=\"#005d5d\" stroke=\"#005d5d\" stroke-width=\"1.5\"/><g clip-path=\"url(#p775cf299cd)\"><g transform=\"translate(37.301 48.734) scale(.1625 -.1625)\"><defs><path id=\"DejaVuSans-Oblique-71\" transform=\"scale(.015625)\" d=\"m2669 525q-231-303-546-460-314-156-695-156-531 0-833 358-301 358-301 986 0 506 186 978t533 847q225 244 517 375t614 131q387 0 637-153t363-462l100 525h578l-934-4813h-579l360 1844zm-1778 813q0-463 193-705 194-242 560-242 544 0 928 520t384 1264q0 450-199 689-198 239-569 239-272 0-504-127-231-126-403-370-181-256-286-600-104-343-104-668z\"/><path id=\"DejaVuSans-30\" transform=\"scale(.015625)\" d=\"m2034 4250q-487 0-733-480-245-479-245-1442 0-959 245-1439 246-480 733-480 491 0 736 480 246 480 246 1439 0 963-246 1442-245 480-736 480zm0 500q785 0 1199-621 414-620 414-1801 0-1178-414-1799-414-620-1199-620-784 0-1198 620-414 621-414 1799 0 1181 414 1801 414 621 1198 621z\"/></defs><use xlink:href=\"#DejaVuSans-Oblique-71\"/><use transform=\"translate(63.477 -16.406) scale(.7)\" xlink:href=\"#DejaVuSans-30\"/></g></g><g clip-path=\"url(#p775cf299cd)\"><g transform=\"translate(37.301 95.088) scale(.1625 -.1625)\"><defs><path id=\"DejaVuSans-31\" transform=\"scale(.015625)\" d=\"m794 531h1031v3560l-1122-225v575l1116 225h631v-4135h1031v-531h-2687v531z\"/></defs><use xlink:href=\"#DejaVuSans-Oblique-71\"/><use transform=\"translate(63.477 -16.406) scale(.7)\" xlink:href=\"#DejaVuSans-31\"/></g></g><g clip-path=\"url(#p775cf299cd)\"><g transform=\"translate(37.301 141.44) scale(.1625 -.1625)\"><defs><path id=\"DejaVuSans-32\" transform=\"scale(.015625)\" d=\"m1228 531h2203v-531h-2962v531q359 372 979 998 621 627 780 809 303 340 423 576 121 236 121 464 0 372-261 606-261 235-680 235-297 0-627-103-329-103-704-313v638q381 153 712 231 332 78 607 78 725 0 1156-363 431-362 431-968 0-288-108-546-107-257-392-607-78-91-497-524-418-433-1181-1211z\"/></defs><use xlink:href=\"#DejaVuSans-Oblique-71\"/><use transform=\"translate(63.477 -16.406) scale(.7)\" xlink:href=\"#DejaVuSans-32\"/></g></g><g clip-path=\"url(#p775cf299cd)\"><g transform=\"translate(131.54 94.224) scale(.13 -.13)\" fill=\"#ffffff\"><defs><path id=\"DejaVuSans-5a\" transform=\"scale(.015625)\" d=\"m359 4666h3666v-482l-2950-3653h3022v-531h-3809v481l2950 3653h-2879v532z\"/></defs><use xlink:href=\"#DejaVuSans-5a\"/></g></g><g clip-path=\"url(#p775cf299cd)\"><g transform=\"translate(131.54 140.58) scale(.13 -.13)\" fill=\"#ffffff\"><use xlink:href=\"#DejaVuSans-5a\"/></g></g><g clip-path=\"url(#p775cf299cd)\"><g transform=\"translate(177.9 94.224) scale(.13 -.13)\" fill=\"#ffffff\"><defs><path id=\"DejaVuSans-58\" transform=\"scale(.015625)\" d=\"m403 4666h678l1160-1735 1165 1735h678l-1500-2241 1600-2425h-678l-1312 1984-1322-1984h-681l1665 2491-1453 2175z\"/></defs><use xlink:href=\"#DejaVuSans-58\"/></g></g><g clip-path=\"url(#p775cf299cd)\"><g transform=\"translate(270.6 94.224) scale(.13 -.13)\" fill=\"#ffffff\"><use xlink:href=\"#DejaVuSans-58\"/></g></g><defs><clipPath id=\"p775cf299cd\"><rect x=\"7.2\" y=\"7.2\" width=\"298.45\" height=\"157.6\"/></clipPath></defs></svg>"
            ],
            "text/plain": [
              "<Figure size 538.33x284.278 with 1 Axes>"
            ]
          },
          "execution_count": 2,
          "metadata": {
          },
          "output_type": "execute_result"
        }
      ],
      "source": [
        "from qiskit.circuit.library import PhaseOracle\n",
        "oracle = PhaseOracle.from_dimacs_file('examples/3sat.dimacs')\n",
        "oracle.draw()"
      ]
    },
    {
      "cell_type": "markdown",
      "metadata": {
      },
      "source": [
        "위의 이 회로는 앞에서 설명한 데이터베이스와 유사하게 작동합니다. 이 회로에 대한 입력은 3비트 문자열이며 주어진 출력은 입력 문자열이 SAT 문제의 해답인지 여부에 따라 다릅니다.\n",
        "\n",
        "이런 검사하는 계산의 결과는 여전히 `True` 또는 `False` 이지만 이 회로의 행동은 여러분이 예상한 것과 약간 다를 것입니다. 이 회로를 Grover 알고리즘과 함께 사용하기 위해 우리는 오라클이 상태가 해답이면 출력 상태의 위상을 180도 변경하기를 원합니다 (즉, 곱하기 -1). 이것이 Qiskit이 ` `PhaseOracle``라는 클래스를 부르는 이유입니다.\n",
        "\n",
        "$$ U_\\text{oracle}|x\\rangle = \\bigg{ \\begin{aligned} \\phantom{-}|x\\rangle &amp; \\quad \\text{if $x$ is not a solution} \\ -|x\\rangle &amp; \\quad \\text{if $x$ is a solution} \\ \\end{aligned} $$\n",
        "\n",
        "예를 들어, 이 문제에 대한 유일한 해답은 `000` , `011` 및 `101` 이므로 위의 회로에는 다음과 같은 행렬이 있습니다.\n",
        "\n",
        "$$ U_\\text{oracle} = \\begin{bmatrix} -1 &amp; 0 &amp; 0 &amp;  0 &amp; 0 &amp;  0 &amp; 0 &amp; 0  \\ 0 &amp; 1 &amp; 0 &amp;  0 &amp; 0 &amp;  0 &amp; 0 &amp; 0  \\ 0 &amp; 0 &amp; 1 &amp;  0 &amp; 0 &amp;  0 &amp; 0 &amp; 0  \\ 0 &amp; 0 &amp; 0 &amp; -1 &amp; 0 &amp;  0 &amp; 0 &amp; 0  \\ 0 &amp; 0 &amp; 0 &amp;  0 &amp; 1 &amp;  0 &amp; 0 &amp; 0  \\ 0 &amp; 0 &amp; 0 &amp;  0 &amp; 0 &amp; -1 &amp; 0 &amp; 0  \\ 0 &amp; 0 &amp; 0 &amp;  0 &amp; 0 &amp;  0 &amp; 1 &amp; 0  \\ 0 &amp; 0 &amp; 0 &amp;  0 &amp; 0 &amp;  0 &amp; 0 &amp; 1  \\ \\end{bmatrix} $$\n",
        "\n",
        "요약:\n",
        "\n",
        "1. 제안된 해답이 올바른지 쉽게 확인할 수 있는 문제가 있습니다.\n",
        "2. 해답을 확인하는 알고리즘을 해답 상태의 위상을 변경하는 양자 회로로 변환할 수 있습니다.\n",
        "3. 그런 다음 Grover 알고리즘을 사용하여 어떤 상태들의 위상이 변경되었는지를 알아낼 수 있습니다.\n",
        "\n",
        "그런 의미에서 데이터베이스나 오라클이 *해결* 되어야 할 문제입니다.\n",
        "\n",
        "![Image showing input to Grover's algorithm as an oracle and output is a solution to that oracle](images/grover/grover-input-output.svg)"
      ]
    },
    {
      "cell_type": "markdown",
      "metadata": {
      },
      "source": [
        "## Grover 알고리즘 개요\n",
        "\n",
        "이제 문제에 대해서 이해했으니 마침내 Grover 알고리즘에 대해서 공부할 차례입니다. Grover 알고리즘에는 세 단계가 있습니다.\n",
        "\n",
        "1. 첫 번째 단계는 오라클의 가능한 모든 입력에 동일한 중첩 상태을 만들어주는 것입니다. 큐비트가 모두 $|0\\rangle$ 상태에서 시작하는 경우 각 큐비트에 H 게이트를 적용하여 이 중첩 상태를 생성할 수 있습니다. 우리는 이 중첩 상태를 '$|s\\rangle$'이라고 부를 것입니다.\n",
        "\n",
        "2. 다음 단계는 이러한 큐비트들을 오라클 회로($U_\\text{oracle}$)에 실행하는 것입니다. 이 페이지에서는 Qiskit이 우리를 위해서 만들어준 `oracle`라는 회로를 사용하지만 우리는 이 뿐만 아니라 해답 상태의 단계를 변경하는 모든 회로나 하드웨어를 사용할 수 있습니다.\n",
        "\n",
        "3. 마지막 단계는 큐비트에서 '확산 연산자' 또는 '확산기'($U_s$)라는 회로를 실행하는 것입니다. 다음 섹션에서 Grover 알고리즘에 대해서 배울 때 이 회로에 대해서 다시 한번 보겠지만, 이 회로는 모든 오라클에서 동일하게 작동하는 매우 간단한 회로입니다.\n",
        "\n",
        "그런 다음 회로의 크기에 따라 2단계와 3단계를 여러번 반복해야 합니다. 2단계에서 오라클을 쿼리하므로 쿼리 수는 가능한 입력 갯수의 제곱근에 대략 비례합니다. 2단계와 3단계를 적절한 횟수만큼 반복하면 측정할 때 오라클의 해답을 측정할 확률이 높아집니다.\n",
        "\n",
        "![Compact circuit diagram of Grover's algorithm](images/grover/grover-circuit-high-level.png)"
      ]
    },
    {
      "cell_type": "code",
      "execution_count": 3,
      "metadata": {
      },
      "outputs": [
        {
          "data": {
            "image/svg+xml": [
              "<?xml version=\"1.0\" encoding=\"UTF-8\"?><!DOCTYPE svg  PUBLIC '-//W3C//DTD SVG 1.1//EN'  'http://www.w3.org/Graphics/SVG/1.1/DTD/svg11.dtd'><svg width=\"127.43pt\" height=\"172pt\" version=\"1.1\" viewBox=\"0 0 127.43 172\" xmlns=\"http://www.w3.org/2000/svg\" xmlns:xlink=\"http://www.w3.org/1999/xlink\"><defs><style type=\"text/css\">*{stroke-linejoin: round; stroke-linecap: butt}</style></defs><path d=\"m0 172h127.43v-172h-127.43z\" fill=\"#ffffff\"/><path d=\"m64.609 44.283h50.989\" clip-path=\"url(#pe17be826d0)\" fill=\"none\" stroke=\"#000000\" stroke-linecap=\"square\" stroke-width=\"2\"/><path d=\"m64.609 90.637h50.989\" clip-path=\"url(#pe17be826d0)\" fill=\"none\" stroke=\"#000000\" stroke-linecap=\"square\" stroke-width=\"2\"/><path d=\"m64.609 136.99h50.989\" clip-path=\"url(#pe17be826d0)\" fill=\"none\" stroke=\"#000000\" stroke-linecap=\"square\" stroke-width=\"2\"/><path d=\"m74.575 59.348h30.13v-30.13h-30.13z\" clip-path=\"url(#pe17be826d0)\" fill=\"#1192e8\" stroke=\"#1192e8\" stroke-width=\"1.5\"/><path d=\"m74.575 105.7h30.13v-30.13h-30.13z\" clip-path=\"url(#pe17be826d0)\" fill=\"#1192e8\" stroke=\"#1192e8\" stroke-width=\"1.5\"/><path d=\"m74.575 152.06h30.13v-30.13h-30.13z\" clip-path=\"url(#pe17be826d0)\" fill=\"#1192e8\" stroke=\"#1192e8\" stroke-width=\"1.5\"/><g clip-path=\"url(#pe17be826d0)\"><g transform=\"translate(37.301 48.734) scale(.1625 -.1625)\"><defs><path id=\"DejaVuSans-Oblique-71\" transform=\"scale(.015625)\" d=\"m2669 525q-231-303-546-460-314-156-695-156-531 0-833 358-301 358-301 986 0 506 186 978t533 847q225 244 517 375t614 131q387 0 637-153t363-462l100 525h578l-934-4813h-579l360 1844zm-1778 813q0-463 193-705 194-242 560-242 544 0 928 520t384 1264q0 450-199 689-198 239-569 239-272 0-504-127-231-126-403-370-181-256-286-600-104-343-104-668z\"/><path id=\"DejaVuSans-30\" transform=\"scale(.015625)\" d=\"m2034 4250q-487 0-733-480-245-479-245-1442 0-959 245-1439 246-480 733-480 491 0 736 480 246 480 246 1439 0 963-246 1442-245 480-736 480zm0 500q785 0 1199-621 414-620 414-1801 0-1178-414-1799-414-620-1199-620-784 0-1198 620-414 621-414 1799 0 1181 414 1801 414 621 1198 621z\"/></defs><use xlink:href=\"#DejaVuSans-Oblique-71\"/><use transform=\"translate(63.477 -16.406) scale(.7)\" xlink:href=\"#DejaVuSans-30\"/></g></g><g clip-path=\"url(#pe17be826d0)\"><g transform=\"translate(37.301 95.088) scale(.1625 -.1625)\"><defs><path id=\"DejaVuSans-31\" transform=\"scale(.015625)\" d=\"m794 531h1031v3560l-1122-225v575l1116 225h631v-4135h1031v-531h-2687v531z\"/></defs><use xlink:href=\"#DejaVuSans-Oblique-71\"/><use transform=\"translate(63.477 -16.406) scale(.7)\" xlink:href=\"#DejaVuSans-31\"/></g></g><g clip-path=\"url(#pe17be826d0)\"><g transform=\"translate(37.301 141.44) scale(.1625 -.1625)\"><defs><path id=\"DejaVuSans-32\" transform=\"scale(.015625)\" d=\"m1228 531h2203v-531h-2962v531q359 372 979 998 621 627 780 809 303 340 423 576 121 236 121 464 0 372-261 606-261 235-680 235-297 0-627-103-329-103-704-313v638q381 153 712 231 332 78 607 78 725 0 1156-363 431-362 431-968 0-288-108-546-107-257-392-607-78-91-497-524-418-433-1181-1211z\"/></defs><use xlink:href=\"#DejaVuSans-Oblique-71\"/><use transform=\"translate(63.477 -16.406) scale(.7)\" xlink:href=\"#DejaVuSans-32\"/></g></g><g clip-path=\"url(#pe17be826d0)\"><g transform=\"translate(84.752 47.87) scale(.13 -.13)\" fill=\"#ffffff\"><defs><path id=\"DejaVuSans-48\" transform=\"scale(.015625)\" d=\"m628 4666h631v-1913h2294v1913h631v-4666h-631v2222h-2294v-2222h-631v4666z\"/></defs><use xlink:href=\"#DejaVuSans-48\"/></g></g><g clip-path=\"url(#pe17be826d0)\"><g transform=\"translate(84.752 94.224) scale(.13 -.13)\" fill=\"#ffffff\"><use xlink:href=\"#DejaVuSans-48\"/></g></g><g clip-path=\"url(#pe17be826d0)\"><g transform=\"translate(84.752 140.58) scale(.13 -.13)\" fill=\"#ffffff\"><use xlink:href=\"#DejaVuSans-48\"/></g></g><defs><clipPath id=\"pe17be826d0\"><rect x=\"7.2\" y=\"7.2\" width=\"113.03\" height=\"157.6\"/></clipPath></defs></svg>"
            ],
            "text/plain": [
              "<Figure size 203.885x284.278 with 1 Axes>"
            ]
          },
          "execution_count": 3,
          "metadata": {
          },
          "output_type": "execute_result"
        }
      ],
      "source": [
        "from qiskit import QuantumCircuit\n",
        "init = QuantumCircuit(3)\n",
        "init.h([0,1,2])\n",
        "init.draw()"
      ]
    },
    {
      "cell_type": "markdown",
      "metadata": {
      },
      "source": [
        "다음으로 Qiskit의 도구를 다시 사용하여 2단계와 3단계를 수행하는 회로를 만들 수 있습니다. "
      ]
    },
    {
      "cell_type": "code",
      "execution_count": 4,
      "metadata": {
      },
      "outputs": [

      ],
      "source": [
        "# steps 2 & 3 of Grover's algorithm\n",
        "from qiskit.circuit.library import GroverOperator\n",
        "grover_operator = GroverOperator(oracle)"
      ]
    },
    {
      "cell_type": "markdown",
      "metadata": {
      },
      "source": [
        "그리고 이것을 Grover 알고리즘을 수행하는 회로로 결합할 수 있습니다. 이 문제는 한 번만 하면 충분할 정도로 작기에 여기에서는 2단계와 3단계를 반복하지 않습니다."
      ]
    },
    {
      "cell_type": "code",
      "execution_count": 5,
      "metadata": {
      },
      "outputs": [
        {
          "data": {
            "image/svg+xml": [
              "<?xml version=\"1.0\" encoding=\"UTF-8\"?><!DOCTYPE svg  PUBLIC '-//W3C//DTD SVG 1.1//EN'  'http://www.w3.org/Graphics/SVG/1.1/DTD/svg11.dtd'><svg width=\"382.52pt\" height=\"218.36pt\" version=\"1.1\" viewBox=\"0 0 382.52 218.36\" xmlns=\"http://www.w3.org/2000/svg\" xmlns:xlink=\"http://www.w3.org/1999/xlink\"><defs><style type=\"text/css\">*{stroke-linejoin: round; stroke-linecap: butt}</style></defs><path d=\"m0 218.36h382.52v-218.36h-382.52z\" fill=\"#ffffff\"/><path d=\"m245.99 172.8h12.052l-6.026 8.6914z\" clip-path=\"url(#pc4e2fe188c)\" fill=\"#778899\"/><path d=\"m292.35 172.8h12.052l-6.026 8.6914z\" clip-path=\"url(#pc4e2fe188c)\" fill=\"#778899\"/><path d=\"m338.7 172.8h12.052l-6.026 8.6914z\" clip-path=\"url(#pc4e2fe188c)\" fill=\"#778899\"/><path d=\"m87.926 44.283h282.76\" clip-path=\"url(#pc4e2fe188c)\" fill=\"none\" stroke=\"#000000\" stroke-linecap=\"square\" stroke-width=\"2\"/><path d=\"m87.926 90.637h282.76\" clip-path=\"url(#pc4e2fe188c)\" fill=\"none\" stroke=\"#000000\" stroke-linecap=\"square\" stroke-width=\"2\"/><path d=\"m87.926 136.99h282.76\" clip-path=\"url(#pc4e2fe188c)\" fill=\"none\" stroke=\"#000000\" stroke-linecap=\"square\" stroke-width=\"2\"/><path d=\"m87.926 181.84h282.76\" clip-path=\"url(#pc4e2fe188c)\" fill=\"none\" stroke=\"#778899\" stroke-linecap=\"square\" stroke-width=\"2\"/><path d=\"m87.926 184.85h282.76\" clip-path=\"url(#pc4e2fe188c)\" fill=\"none\" stroke=\"#778899\" stroke-linecap=\"square\" stroke-width=\"2\"/><path d=\"m97.197 187.98 4.6354-9.2708\" clip-path=\"url(#pc4e2fe188c)\" fill=\"none\" stroke=\"#778899\" stroke-linecap=\"square\"/><path d=\"m196.63 67.46h18.078v-46.354h-18.078z\" clip-path=\"url(#pc4e2fe188c)\" fill=\"#bdbdbd\" opacity=\".6\"/><path d=\"m196.63 113.81h18.078v-46.354h-18.078z\" clip-path=\"url(#pc4e2fe188c)\" fill=\"#bdbdbd\" opacity=\".6\"/><path d=\"m196.63 160.17h18.078v-46.354h-18.078z\" clip-path=\"url(#pc4e2fe188c)\" fill=\"#bdbdbd\" opacity=\".6\"/><path d=\"m253.53 44.283v128.52\" clip-path=\"url(#pc4e2fe188c)\" fill=\"none\" stroke=\"#778899\" stroke-linecap=\"square\" stroke-width=\"2\"/><path d=\"m250.51 44.283v128.52\" clip-path=\"url(#pc4e2fe188c)\" fill=\"none\" stroke=\"#778899\" stroke-linecap=\"square\" stroke-width=\"2\"/><path d=\"m299.88 90.637v82.162\" clip-path=\"url(#pc4e2fe188c)\" fill=\"none\" stroke=\"#778899\" stroke-linecap=\"square\" stroke-width=\"2\"/><path d=\"m296.87 90.637v82.162\" clip-path=\"url(#pc4e2fe188c)\" fill=\"none\" stroke=\"#778899\" stroke-linecap=\"square\" stroke-width=\"2\"/><path d=\"m346.23 136.99v35.808\" clip-path=\"url(#pc4e2fe188c)\" fill=\"none\" stroke=\"#778899\" stroke-linecap=\"square\" stroke-width=\"2\"/><path d=\"m343.22 136.99v35.808\" clip-path=\"url(#pc4e2fe188c)\" fill=\"none\" stroke=\"#778899\" stroke-linecap=\"square\" stroke-width=\"2\"/><path d=\"m97.892 59.348h30.13v-30.13h-30.13z\" clip-path=\"url(#pc4e2fe188c)\" fill=\"#1192e8\" stroke=\"#1192e8\" stroke-width=\"1.5\"/><path d=\"m97.892 105.7h30.13v-30.13h-30.13z\" clip-path=\"url(#pc4e2fe188c)\" fill=\"#1192e8\" stroke=\"#1192e8\" stroke-width=\"1.5\"/><path d=\"m97.892 152.06h30.13v-30.13h-30.13z\" clip-path=\"url(#pc4e2fe188c)\" fill=\"#1192e8\" stroke=\"#1192e8\" stroke-width=\"1.5\"/><path d=\"m144.25 152.06h30.13v-122.84h-30.13z\" clip-path=\"url(#pc4e2fe188c)\" fill=\"#6929c4\" stroke=\"#6929c4\" stroke-width=\"1.5\"/><path d=\"m236.95 59.348h30.13v-30.13h-30.13z\" clip-path=\"url(#pc4e2fe188c)\" fill=\"#121619\" stroke=\"#121619\" stroke-width=\"1.5\"/><path d=\"m262.56 48.803c0-2.7958-1.1118-5.4799-3.0887-7.4568s-4.661-3.0887-7.4568-3.0887c-2.7958 0-5.4799 1.1118-7.4568 3.0887s-3.0887 4.661-3.0887 7.4568\" clip-path=\"url(#pc4e2fe188c)\" fill=\"none\" stroke=\"#ffffff\" stroke-width=\"2\"/><path d=\"m252.02 48.803 10.546-10.546\" clip-path=\"url(#pc4e2fe188c)\" fill=\"none\" stroke=\"#ffffff\" stroke-linecap=\"square\" stroke-width=\"2\"/><path d=\"m283.31 105.7h30.13v-30.13h-30.13z\" clip-path=\"url(#pc4e2fe188c)\" fill=\"#121619\" stroke=\"#121619\" stroke-width=\"1.5\"/><path d=\"m308.92 95.157c0-2.7958-1.1118-5.4799-3.0887-7.4568s-4.661-3.0887-7.4568-3.0887-5.4799 1.1118-7.4568 3.0887-3.0887 4.661-3.0887 7.4568\" clip-path=\"url(#pc4e2fe188c)\" fill=\"none\" stroke=\"#ffffff\" stroke-width=\"2\"/><path d=\"m298.37 95.157 10.546-10.546\" clip-path=\"url(#pc4e2fe188c)\" fill=\"none\" stroke=\"#ffffff\" stroke-linecap=\"square\" stroke-width=\"2\"/><path d=\"m329.66 152.06h30.13v-30.13h-30.13z\" clip-path=\"url(#pc4e2fe188c)\" fill=\"#121619\" stroke=\"#121619\" stroke-width=\"1.5\"/><path d=\"m355.27 141.51c0-2.7958-1.1118-5.4799-3.0887-7.4568-1.9769-1.9769-4.661-3.0887-7.4568-3.0887s-5.4799 1.1118-7.4568 3.0887-3.0887 4.661-3.0887 7.4568\" clip-path=\"url(#pc4e2fe188c)\" fill=\"none\" stroke=\"#ffffff\" stroke-width=\"2\"/><path d=\"m344.73 141.51 10.546-10.546\" clip-path=\"url(#pc4e2fe188c)\" fill=\"none\" stroke=\"#ffffff\" stroke-linecap=\"square\" stroke-width=\"2\"/><g clip-path=\"url(#pc4e2fe188c)\"><g transform=\"translate(60.617 48.734) scale(.1625 -.1625)\"><defs><path id=\"DejaVuSans-Oblique-71\" transform=\"scale(.015625)\" d=\"m2669 525q-231-303-546-460-314-156-695-156-531 0-833 358-301 358-301 986 0 506 186 978t533 847q225 244 517 375t614 131q387 0 637-153t363-462l100 525h578l-934-4813h-579l360 1844zm-1778 813q0-463 193-705 194-242 560-242 544 0 928 520t384 1264q0 450-199 689-198 239-569 239-272 0-504-127-231-126-403-370-181-256-286-600-104-343-104-668z\"/><path id=\"DejaVuSans-30\" transform=\"scale(.015625)\" d=\"m2034 4250q-487 0-733-480-245-479-245-1442 0-959 245-1439 246-480 733-480 491 0 736 480 246 480 246 1439 0 963-246 1442-245 480-736 480zm0 500q785 0 1199-621 414-620 414-1801 0-1178-414-1799-414-620-1199-620-784 0-1198 620-414 621-414 1799 0 1181 414 1801 414 621 1198 621z\"/></defs><use xlink:href=\"#DejaVuSans-Oblique-71\"/><use transform=\"translate(63.477 -16.406) scale(.7)\" xlink:href=\"#DejaVuSans-30\"/></g></g><g clip-path=\"url(#pc4e2fe188c)\"><g transform=\"translate(60.617 95.088) scale(.1625 -.1625)\"><defs><path id=\"DejaVuSans-31\" transform=\"scale(.015625)\" d=\"m794 531h1031v3560l-1122-225v575l1116 225h631v-4135h1031v-531h-2687v531z\"/></defs><use xlink:href=\"#DejaVuSans-Oblique-71\"/><use transform=\"translate(63.477 -16.406) scale(.7)\" xlink:href=\"#DejaVuSans-31\"/></g></g><g clip-path=\"url(#pc4e2fe188c)\"><g transform=\"translate(60.617 141.44) scale(.1625 -.1625)\"><defs><path id=\"DejaVuSans-32\" transform=\"scale(.015625)\" d=\"m1228 531h2203v-531h-2962v531q359 372 979 998 621 627 780 809 303 340 423 576 121 236 121 464 0 372-261 606-261 235-680 235-297 0-627-103-329-103-704-313v638q381 153 712 231 332 78 607 78 725 0 1156-363 431-362 431-968 0-288-108-546-107-257-392-607-78-91-497-524-418-433-1181-1211z\"/></defs><use xlink:href=\"#DejaVuSans-Oblique-71\"/><use transform=\"translate(63.477 -16.406) scale(.7)\" xlink:href=\"#DejaVuSans-32\"/></g></g><g clip-path=\"url(#pc4e2fe188c)\"><g transform=\"translate(92.561 176.55) scale(.104 -.104)\"><defs><path id=\"DejaVuSans-33\" transform=\"scale(.015625)\" d=\"m2597 2516q453-97 707-404 255-306 255-756 0-690-475-1069-475-378-1350-378-293 0-604 58t-642 174v609q262-153 574-231 313-78 654-78 593 0 904 234t311 681q0 413-289 645-289 233-804 233h-544v519h569q465 0 712 186t247 536q0 359-255 551-254 193-729 193-260 0-557-57-297-56-653-174v562q360 100 674 150t592 50q719 0 1137-327 419-326 419-882 0-388-222-655t-631-370z\"/></defs><use xlink:href=\"#DejaVuSans-33\"/></g></g><g clip-path=\"url(#pc4e2fe188c)\"><g transform=\"translate(34.404 187.83) scale(.1625 -.1625)\"><defs><path id=\"DejaVuSans-6d\" transform=\"scale(.015625)\" d=\"m3328 2828q216 388 516 572t706 184q547 0 844-383 297-382 297-1088v-2113h-578v2094q0 503-179 746-178 244-543 244-447 0-707-297-259-296-259-809v-1978h-578v2094q0 506-178 748t-550 242q-441 0-701-298-259-298-259-808v-1978h-578v3500h578v-544q197 322 472 475t653 153q382 0 649-194 267-193 395-562z\"/><path id=\"DejaVuSans-65\" transform=\"scale(.015625)\" d=\"m3597 1894v-281h-2644q38-594 358-905t892-311q331 0 642 81t618 244v-544q-310-131-635-200t-659-69q-838 0-1327 487-489 488-489 1320 0 859 464 1363 464 505 1252 505 706 0 1117-455 411-454 411-1235zm-575 169q-6 471-264 752-258 282-683 282-481 0-770-272t-333-766l2050 4z\"/><path id=\"DejaVuSans-61\" transform=\"scale(.015625)\" d=\"m2194 1759q-697 0-966-159t-269-544q0-306 202-486 202-179 548-179 479 0 768 339t289 901v128h-572zm1147 238v-1997h-575v531q-197-318-491-470t-719-152q-537 0-855 302-317 302-317 808 0 590 395 890 396 300 1180 300h807v57q0 397-261 614t-733 217q-300 0-585-72-284-72-546-216v532q315 122 612 182 297 61 578 61 760 0 1135-394 375-393 375-1193z\"/><path id=\"DejaVuSans-73\" transform=\"scale(.015625)\" d=\"m2834 3397v-544q-243 125-506 187-262 63-544 63-428 0-642-131t-214-394q0-200 153-314t616-217l197-44q612-131 870-370t258-667q0-488-386-773-386-284-1061-284-281 0-586 55t-642 164v594q319-166 628-249 309-82 613-82 406 0 624 139 219 139 219 392 0 234-158 359-157 125-692 241l-200 47q-534 112-772 345-237 233-237 639 0 494 350 762 350 269 994 269 318 0 599-47 282-46 519-140z\"/></defs><use xlink:href=\"#DejaVuSans-6d\"/><use x=\"97.412109\" xlink:href=\"#DejaVuSans-65\"/><use x=\"158.935547\" xlink:href=\"#DejaVuSans-61\"/><use x=\"220.214844\" xlink:href=\"#DejaVuSans-73\"/></g></g><g clip-path=\"url(#pc4e2fe188c)\"><g transform=\"translate(108.07 47.87) scale(.13 -.13)\" fill=\"#ffffff\"><defs><path id=\"DejaVuSans-48\" transform=\"scale(.015625)\" d=\"m628 4666h631v-1913h2294v1913h631v-4666h-631v2222h-2294v-2222h-631v4666z\"/></defs><use xlink:href=\"#DejaVuSans-48\"/></g></g><g clip-path=\"url(#pc4e2fe188c)\"><g transform=\"translate(108.07 94.224) scale(.13 -.13)\" fill=\"#ffffff\"><use xlink:href=\"#DejaVuSans-48\"/></g></g><g clip-path=\"url(#pc4e2fe188c)\"><g transform=\"translate(108.07 140.58) scale(.13 -.13)\" fill=\"#ffffff\"><use xlink:href=\"#DejaVuSans-48\"/></g></g><g clip-path=\"url(#pc4e2fe188c)\"><g transform=\"translate(147.49 47.87) scale(.13 -.13)\" fill=\"#ffffff\"><use xlink:href=\"#DejaVuSans-30\"/></g></g><g clip-path=\"url(#pc4e2fe188c)\"><g transform=\"translate(147.49 94.224) scale(.13 -.13)\" fill=\"#ffffff\"><use xlink:href=\"#DejaVuSans-31\"/></g></g><g clip-path=\"url(#pc4e2fe188c)\"><g transform=\"translate(147.49 140.58) scale(.13 -.13)\" fill=\"#ffffff\"><use xlink:href=\"#DejaVuSans-32\"/></g></g><g clip-path=\"url(#pc4e2fe188c)\"><g transform=\"translate(159.29 94.224) scale(.13 -.13)\" fill=\"#ffffff\"><defs><path id=\"DejaVuSans-51\" transform=\"scale(.015625)\" d=\"m2522 4238q-688 0-1093-513-404-512-404-1397 0-881 404-1394 405-512 1093-512 687 0 1089 512 402 513 402 1394 0 885-402 1397-402 513-1089 513zm884-4154 832-909h-763l-691 747q-103-6-158-9-54-4-104-4-984 0-1574 658-589 658-589 1761 0 1106 589 1764 590 658 1574 658 981 0 1568-658 588-658 588-1764 0-812-327-1391-326-578-945-853z\"/></defs><use xlink:href=\"#DejaVuSans-51\"/></g></g><path d=\"m205.66 21.106v46.354\" clip-path=\"url(#pc4e2fe188c)\" fill=\"none\" stroke=\"#000000\" stroke-dasharray=\"3.7,1.6\"/><path d=\"m205.66 67.46v46.354\" clip-path=\"url(#pc4e2fe188c)\" fill=\"none\" stroke=\"#000000\" stroke-dasharray=\"3.7,1.6\"/><path d=\"m205.66 113.81v46.354\" clip-path=\"url(#pc4e2fe188c)\" fill=\"none\" stroke=\"#000000\" stroke-dasharray=\"3.7,1.6\"/><g clip-path=\"url(#pc4e2fe188c)\"><g transform=\"translate(263.61 176.55) scale(.104 -.104)\"><use xlink:href=\"#DejaVuSans-30\"/></g></g><g clip-path=\"url(#pc4e2fe188c)\"><g transform=\"translate(309.96 176.55) scale(.104 -.104)\"><use xlink:href=\"#DejaVuSans-31\"/></g></g><g clip-path=\"url(#pc4e2fe188c)\"><g transform=\"translate(356.32 176.55) scale(.104 -.104)\"><use xlink:href=\"#DejaVuSans-32\"/></g></g><defs><clipPath id=\"pc4e2fe188c\"><rect x=\"7.2\" y=\"7.2\" width=\"368.12\" height=\"203.96\"/></clipPath></defs></svg>"
            ],
            "text/plain": [
              "<Figure size 663.998x367.889 with 1 Axes>"
            ]
          },
          "execution_count": 5,
          "metadata": {
          },
          "output_type": "execute_result"
        }
      ],
      "source": [
        "qc = init.compose(grover_operator)\n",
        "qc.measure_all()\n",
        "qc.draw()"
      ]
    },
    {
      "cell_type": "markdown",
      "metadata": {
      },
      "source": [
        "마지막으로 시뮬레이터에서 이것을 실행하고 어떤 결과를 얻는지 봅시다."
      ]
    },
    {
      "cell_type": "code",
      "execution_count": 6,
      "metadata": {
        "slideshow": {
          "slide_type": "fragment"
        }
      },
      "outputs": [
        {
          "data": {
            "image/svg+xml": [
              "<?xml version=\"1.0\" encoding=\"UTF-8\"?><!DOCTYPE svg  PUBLIC '-//W3C//DTD SVG 1.1//EN'  'http://www.w3.org/Graphics/SVG/1.1/DTD/svg11.dtd'><svg width=\"460.72pt\" height=\"328.35pt\" version=\"1.1\" viewBox=\"0 0 460.72 328.35\" xmlns=\"http://www.w3.org/2000/svg\" xmlns:xlink=\"http://www.w3.org/1999/xlink\"><defs><style type=\"text/css\">*{stroke-linejoin: round; stroke-linecap: butt}</style></defs><path d=\"m0 328.35h460.72v-328.35h-460.72z\" fill=\"#ffffff\"/><path d=\"m62.921 284.4h390.6v-277.2h-390.6z\" fill=\"#ffffff\"/><defs><path id=\"m8980b010c4\" d=\"m0 0v3.5\" stroke=\"#343a3f\" stroke-width=\".8\"/></defs><use x=\"92.512159\" y=\"284.4\" fill=\"#343a3f\" stroke=\"#343a3f\" stroke-width=\".8\" xlink:href=\"#m8980b010c4\"/><g transform=\"translate(91.572 320.15) rotate(-70) scale(.14 -.14)\" fill=\"#343a3f\"><defs><path id=\"DejaVuSans-30\" transform=\"scale(.015625)\" d=\"m2034 4250q-487 0-733-480-245-479-245-1442 0-959 245-1439 246-480 733-480 491 0 736 480 246 480 246 1439 0 963-246 1442-245 480-736 480zm0 500q785 0 1199-621 414-620 414-1801 0-1178-414-1799-414-620-1199-620-784 0-1198 620-414 621-414 1799 0 1181 414 1801 414 621 1198 621z\"/></defs><use xlink:href=\"#DejaVuSans-30\"/><use x=\"63.623047\" xlink:href=\"#DejaVuSans-30\"/><use x=\"127.246094\" xlink:href=\"#DejaVuSans-30\"/></g><use x=\"139.857614\" y=\"284.4\" fill=\"#343a3f\" stroke=\"#343a3f\" stroke-width=\".8\" xlink:href=\"#m8980b010c4\"/><g transform=\"translate(138.92 320.15) rotate(-70) scale(.14 -.14)\" fill=\"#343a3f\"><defs><path id=\"DejaVuSans-31\" transform=\"scale(.015625)\" d=\"m794 531h1031v3560l-1122-225v575l1116 225h631v-4135h1031v-531h-2687v531z\"/></defs><use xlink:href=\"#DejaVuSans-30\"/><use x=\"63.623047\" xlink:href=\"#DejaVuSans-30\"/><use x=\"127.246094\" xlink:href=\"#DejaVuSans-31\"/></g><use x=\"187.203068\" y=\"284.4\" fill=\"#343a3f\" stroke=\"#343a3f\" stroke-width=\".8\" xlink:href=\"#m8980b010c4\"/><g transform=\"translate(186.26 320.15) rotate(-70) scale(.14 -.14)\" fill=\"#343a3f\"><use xlink:href=\"#DejaVuSans-30\"/><use x=\"63.623047\" xlink:href=\"#DejaVuSans-31\"/><use x=\"127.246094\" xlink:href=\"#DejaVuSans-30\"/></g><use x=\"234.548523\" y=\"284.4\" fill=\"#343a3f\" stroke=\"#343a3f\" stroke-width=\".8\" xlink:href=\"#m8980b010c4\"/><g transform=\"translate(233.61 320.15) rotate(-70) scale(.14 -.14)\" fill=\"#343a3f\"><use xlink:href=\"#DejaVuSans-30\"/><use x=\"63.623047\" xlink:href=\"#DejaVuSans-31\"/><use x=\"127.246094\" xlink:href=\"#DejaVuSans-31\"/></g><use x=\"281.893977\" y=\"284.4\" fill=\"#343a3f\" stroke=\"#343a3f\" stroke-width=\".8\" xlink:href=\"#m8980b010c4\"/><g transform=\"translate(280.95 320.15) rotate(-70) scale(.14 -.14)\" fill=\"#343a3f\"><use xlink:href=\"#DejaVuSans-31\"/><use x=\"63.623047\" xlink:href=\"#DejaVuSans-30\"/><use x=\"127.246094\" xlink:href=\"#DejaVuSans-30\"/></g><use x=\"329.239432\" y=\"284.4\" fill=\"#343a3f\" stroke=\"#343a3f\" stroke-width=\".8\" xlink:href=\"#m8980b010c4\"/><g transform=\"translate(328.3 320.15) rotate(-70) scale(.14 -.14)\" fill=\"#343a3f\"><use xlink:href=\"#DejaVuSans-31\"/><use x=\"63.623047\" xlink:href=\"#DejaVuSans-30\"/><use x=\"127.246094\" xlink:href=\"#DejaVuSans-31\"/></g><use x=\"376.584886\" y=\"284.4\" fill=\"#343a3f\" stroke=\"#343a3f\" stroke-width=\".8\" xlink:href=\"#m8980b010c4\"/><g transform=\"translate(375.65 320.15) rotate(-70) scale(.14 -.14)\" fill=\"#343a3f\"><use xlink:href=\"#DejaVuSans-31\"/><use x=\"63.623047\" xlink:href=\"#DejaVuSans-31\"/><use x=\"127.246094\" xlink:href=\"#DejaVuSans-30\"/></g><use x=\"423.930341\" y=\"284.4\" fill=\"#343a3f\" stroke=\"#343a3f\" stroke-width=\".8\" xlink:href=\"#m8980b010c4\"/><g transform=\"translate(422.99 320.15) rotate(-70) scale(.14 -.14)\" fill=\"#343a3f\"><use xlink:href=\"#DejaVuSans-31\"/><use x=\"63.623047\" xlink:href=\"#DejaVuSans-31\"/><use x=\"127.246094\" xlink:href=\"#DejaVuSans-31\"/></g><path d=\"m62.921 284.4h390.6\" clip-path=\"url(#paaa3c8f571)\" fill=\"none\" stroke=\"#dde1e6\" stroke-dasharray=\"2.96,1.28\" stroke-width=\".8\"/><defs><path id=\"m9e8480a494\" d=\"m0 0h-3.5\" stroke=\"#343a3f\" stroke-width=\".8\"/></defs><use x=\"62.92125\" y=\"284.4\" fill=\"#343a3f\" stroke=\"#343a3f\" stroke-width=\".8\" xlink:href=\"#m9e8480a494\"/><g transform=\"translate(24.749 289.72) scale(.14 -.14)\" fill=\"#343a3f\"><defs><path id=\"DejaVuSans-2e\" transform=\"scale(.015625)\" d=\"m684 794h660v-794h-660v794z\"/></defs><use xlink:href=\"#DejaVuSans-30\"/><use x=\"63.623047\" xlink:href=\"#DejaVuSans-2e\"/><use x=\"95.410156\" xlink:href=\"#DejaVuSans-30\"/><use x=\"159.033203\" xlink:href=\"#DejaVuSans-30\"/></g><path d=\"m62.921 222.76h390.6\" clip-path=\"url(#paaa3c8f571)\" fill=\"none\" stroke=\"#dde1e6\" stroke-dasharray=\"2.96,1.28\" stroke-width=\".8\"/><use x=\"62.92125\" y=\"222.75987\" fill=\"#343a3f\" stroke=\"#343a3f\" stroke-width=\".8\" xlink:href=\"#m9e8480a494\"/><g transform=\"translate(24.749 228.08) scale(.14 -.14)\" fill=\"#343a3f\"><defs><path id=\"DejaVuSans-38\" transform=\"scale(.015625)\" d=\"m2034 2216q-450 0-708-241-257-241-257-662 0-422 257-663 258-241 708-241t709 242q260 243 260 662 0 421-258 662-257 241-711 241zm-631 268q-406 100-633 378-226 279-226 679 0 559 398 884 399 325 1092 325 697 0 1094-325t397-884q0-400-227-679-226-278-629-378 456-106 710-416 255-309 255-755 0-679-414-1042-414-362-1186-362-771 0-1186 362-414 363-414 1042 0 446 256 755 257 310 713 416zm-231 997q0-362 226-565 227-203 636-203 407 0 636 203 230 203 230 565 0 363-230 566-229 203-636 203-409 0-636-203-226-203-226-566z\"/></defs><use xlink:href=\"#DejaVuSans-30\"/><use x=\"63.623047\" xlink:href=\"#DejaVuSans-2e\"/><use x=\"95.410156\" xlink:href=\"#DejaVuSans-30\"/><use x=\"159.033203\" xlink:href=\"#DejaVuSans-38\"/></g><path d=\"m62.921 161.12h390.6\" clip-path=\"url(#paaa3c8f571)\" fill=\"none\" stroke=\"#dde1e6\" stroke-dasharray=\"2.96,1.28\" stroke-width=\".8\"/><use x=\"62.92125\" y=\"161.119739\" fill=\"#343a3f\" stroke=\"#343a3f\" stroke-width=\".8\" xlink:href=\"#m9e8480a494\"/><g transform=\"translate(24.749 166.44) scale(.14 -.14)\" fill=\"#343a3f\"><defs><path id=\"DejaVuSans-36\" transform=\"scale(.015625)\" d=\"m2113 2584q-425 0-674-291-248-290-248-796 0-503 248-796 249-292 674-292t673 292q248 293 248 796 0 506-248 796-248 291-673 291zm1253 1979v-575q-238 112-480 171-242 60-480 60-625 0-955-422-329-422-376-1275 184 272 462 417 279 145 613 145 703 0 1111-427 408-426 408-1160 0-719-425-1154-425-434-1131-434-810 0-1238 620-428 621-428 1799 0 1106 525 1764t1409 658q238 0 480-47t505-140z\"/></defs><use xlink:href=\"#DejaVuSans-30\"/><use x=\"63.623047\" xlink:href=\"#DejaVuSans-2e\"/><use x=\"95.410156\" xlink:href=\"#DejaVuSans-31\"/><use x=\"159.033203\" xlink:href=\"#DejaVuSans-36\"/></g><path d=\"m62.921 99.48h390.6\" clip-path=\"url(#paaa3c8f571)\" fill=\"none\" stroke=\"#dde1e6\" stroke-dasharray=\"2.96,1.28\" stroke-width=\".8\"/><use x=\"62.92125\" y=\"99.479609\" fill=\"#343a3f\" stroke=\"#343a3f\" stroke-width=\".8\" xlink:href=\"#m9e8480a494\"/><g transform=\"translate(24.749 104.8) scale(.14 -.14)\" fill=\"#343a3f\"><defs><path id=\"DejaVuSans-32\" transform=\"scale(.015625)\" d=\"m1228 531h2203v-531h-2962v531q359 372 979 998 621 627 780 809 303 340 423 576 121 236 121 464 0 372-261 606-261 235-680 235-297 0-627-103-329-103-704-313v638q381 153 712 231 332 78 607 78 725 0 1156-363 431-362 431-968 0-288-108-546-107-257-392-607-78-91-497-524-418-433-1181-1211z\"/><path id=\"DejaVuSans-34\" transform=\"scale(.015625)\" d=\"m2419 4116-1594-2491h1594v2491zm-166 550h794v-3041h666v-525h-666v-1100h-628v1100h-2106v609l1940 2957z\"/></defs><use xlink:href=\"#DejaVuSans-30\"/><use x=\"63.623047\" xlink:href=\"#DejaVuSans-2e\"/><use x=\"95.410156\" xlink:href=\"#DejaVuSans-32\"/><use x=\"159.033203\" xlink:href=\"#DejaVuSans-34\"/></g><path d=\"m62.921 37.839h390.6\" clip-path=\"url(#paaa3c8f571)\" fill=\"none\" stroke=\"#dde1e6\" stroke-dasharray=\"2.96,1.28\" stroke-width=\".8\"/><use x=\"62.92125\" y=\"37.839479\" fill=\"#343a3f\" stroke=\"#343a3f\" stroke-width=\".8\" xlink:href=\"#m9e8480a494\"/><g transform=\"translate(24.749 43.158) scale(.14 -.14)\" fill=\"#343a3f\"><defs><path id=\"DejaVuSans-33\" transform=\"scale(.015625)\" d=\"m2597 2516q453-97 707-404 255-306 255-756 0-690-475-1069-475-378-1350-378-293 0-604 58t-642 174v609q262-153 574-231 313-78 654-78 593 0 904 234t311 681q0 413-289 645-289 233-804 233h-544v519h569q465 0 712 186t247 536q0 359-255 551-254 193-729 193-260 0-557-57-297-56-653-174v562q360 100 674 150t592 50q719 0 1137-327 419-326 419-882 0-388-222-655t-631-370z\"/></defs><use xlink:href=\"#DejaVuSans-30\"/><use x=\"63.623047\" xlink:href=\"#DejaVuSans-2e\"/><use x=\"95.410156\" xlink:href=\"#DejaVuSans-33\"/><use x=\"159.033203\" xlink:href=\"#DejaVuSans-32\"/></g><g transform=\"translate(17.838 188.56) rotate(-90) scale(.14 -.14)\" fill=\"#343a3f\"><defs><path id=\"DejaVuSans-50\" transform=\"scale(.015625)\" d=\"m1259 4147v-1753h794q441 0 681 228 241 228 241 650 0 419-241 647-240 228-681 228h-794zm-631 519h1425q785 0 1186-355 402-355 402-1039 0-691-402-1044-401-353-1186-353h-794v-1875h-631v4666z\"/><path id=\"DejaVuSans-72\" transform=\"scale(.015625)\" d=\"m2631 2963q-97 56-211 82-114 27-251 27-488 0-749-317t-261-911v-1844h-578v3500h578v-544q182 319 472 473 291 155 707 155 59 0 131-8 72-7 159-23l3-590z\"/><path id=\"DejaVuSans-6f\" transform=\"scale(.015625)\" d=\"m1959 3097q-462 0-731-361t-269-989 267-989q268-361 733-361 460 0 728 362 269 363 269 988 0 622-269 986-268 364-728 364zm0 487q750 0 1178-488 429-487 429-1349 0-859-429-1349-428-489-1178-489-753 0-1180 489-426 490-426 1349 0 862 426 1349 427 488 1180 488z\"/><path id=\"DejaVuSans-62\" transform=\"scale(.015625)\" d=\"m3116 1747q0 634-261 995t-717 361q-457 0-718-361t-261-995 261-995 718-361q456 0 717 361t261 995zm-1957 1222q182 312 458 463 277 152 661 152 638 0 1036-506 399-506 399-1331t-399-1332q-398-506-1036-506-384 0-661 152-276 152-458 464v-525h-578v4863h578v-1894z\"/><path id=\"DejaVuSans-61\" transform=\"scale(.015625)\" d=\"m2194 1759q-697 0-966-159t-269-544q0-306 202-486 202-179 548-179 479 0 768 339t289 901v128h-572zm1147 238v-1997h-575v531q-197-318-491-470t-719-152q-537 0-855 302-317 302-317 808 0 590 395 890 396 300 1180 300h807v57q0 397-261 614t-733 217q-300 0-585-72-284-72-546-216v532q315 122 612 182 297 61 578 61 760 0 1135-394 375-393 375-1193z\"/><path id=\"DejaVuSans-69\" transform=\"scale(.015625)\" d=\"m603 3500h575v-3500h-575v3500zm0 1363h575v-729h-575v729z\"/><path id=\"DejaVuSans-6c\" transform=\"scale(.015625)\" d=\"m603 4863h575v-4863h-575v4863z\"/><path id=\"DejaVuSans-74\" transform=\"scale(.015625)\" d=\"m1172 4494v-994h1184v-447h-1184v-1900q0-428 117-550t477-122h590v-481h-590q-666 0-919 248-253 249-253 905v1900h-422v447h422v994h578z\"/><path id=\"DejaVuSans-65\" transform=\"scale(.015625)\" d=\"m3597 1894v-281h-2644q38-594 358-905t892-311q331 0 642 81t618 244v-544q-310-131-635-200t-659-69q-838 0-1327 487-489 488-489 1320 0 859 464 1363 464 505 1252 505 706 0 1117-455 411-454 411-1235zm-575 169q-6 471-264 752-258 282-683 282-481 0-770-272t-333-766l2050 4z\"/><path id=\"DejaVuSans-73\" transform=\"scale(.015625)\" d=\"m2834 3397v-544q-243 125-506 187-262 63-544 63-428 0-642-131t-214-394q0-200 153-314t616-217l197-44q612-131 870-370t258-667q0-488-386-773-386-284-1061-284-281 0-586 55t-642 164v594q319-166 628-249 309-82 613-82 406 0 624 139 219 139 219 392 0 234-158 359-157 125-692 241l-200 47q-534 112-772 345-237 233-237 639 0 494 350 762 350 269 994 269 318 0 599-47 282-46 519-140z\"/></defs><use xlink:href=\"#DejaVuSans-50\"/><use x=\"58.552734\" xlink:href=\"#DejaVuSans-72\"/><use x=\"97.416016\" xlink:href=\"#DejaVuSans-6f\"/><use x=\"158.597656\" xlink:href=\"#DejaVuSans-62\"/><use x=\"222.074219\" xlink:href=\"#DejaVuSans-61\"/><use x=\"283.353516\" xlink:href=\"#DejaVuSans-62\"/><use x=\"346.830078\" xlink:href=\"#DejaVuSans-69\"/><use x=\"374.613281\" xlink:href=\"#DejaVuSans-6c\"/><use x=\"402.396484\" xlink:href=\"#DejaVuSans-69\"/><use x=\"430.179688\" xlink:href=\"#DejaVuSans-74\"/><use x=\"469.388672\" xlink:href=\"#DejaVuSans-69\"/><use x=\"497.171875\" xlink:href=\"#DejaVuSans-65\"/><use x=\"558.695312\" xlink:href=\"#DejaVuSans-73\"/></g><path d=\"m80.676 284.4h23.673v-231h-23.673z\" clip-path=\"url(#paaa3c8f571)\" fill=\"#648fff\"/><path d=\"m128.02 284.4h23.673v-23.326h-23.673z\" clip-path=\"url(#paaa3c8f571)\" fill=\"#648fff\"/><path d=\"m175.37 284.4h23.673v-21.068h-23.673z\" clip-path=\"url(#paaa3c8f571)\" fill=\"#648fff\"/><path d=\"m222.71 284.4h23.673v-216.7h-23.673z\" clip-path=\"url(#paaa3c8f571)\" fill=\"#648fff\"/><path d=\"m270.06 284.4h23.673v-24.078h-23.673z\" clip-path=\"url(#paaa3c8f571)\" fill=\"#648fff\"/><path d=\"m317.4 284.4h23.673v-217.46h-23.673z\" clip-path=\"url(#paaa3c8f571)\" fill=\"#648fff\"/><path d=\"m364.75 284.4h23.673v-19.564h-23.673z\" clip-path=\"url(#paaa3c8f571)\" fill=\"#648fff\"/><path d=\"m412.09 284.4h23.673v-17.306h-23.673z\" clip-path=\"url(#paaa3c8f571)\" fill=\"#648fff\"/><path d=\"m62.921 284.4v-277.2\" fill=\"none\" stroke=\"#343a3f\" stroke-linecap=\"square\" stroke-width=\".8\"/><path d=\"m62.921 284.4h390.6\" fill=\"none\" stroke=\"#343a3f\" stroke-linecap=\"square\" stroke-width=\".8\"/><g transform=\"translate(78.198 39.77) scale(.1 -.1)\" fill=\"#343a3f\"><use xlink:href=\"#DejaVuSans-30\"/><use x=\"63.623047\" xlink:href=\"#DejaVuSans-2e\"/><use x=\"95.410156\" xlink:href=\"#DejaVuSans-33\"/><use x=\"159.033203\" xlink:href=\"#DejaVuSans-30\"/><use x=\"222.65625\" xlink:href=\"#DejaVuSans-30\"/></g><g transform=\"translate(125.54 257.83) scale(.1 -.1)\" fill=\"#343a3f\"><use xlink:href=\"#DejaVuSans-30\"/><use x=\"63.623047\" xlink:href=\"#DejaVuSans-2e\"/><use x=\"95.410156\" xlink:href=\"#DejaVuSans-30\"/><use x=\"159.033203\" xlink:href=\"#DejaVuSans-33\"/><use x=\"222.65625\" xlink:href=\"#DejaVuSans-30\"/></g><g transform=\"translate(172.89 260.2) scale(.1 -.1)\" fill=\"#343a3f\"><defs><path id=\"DejaVuSans-37\" transform=\"scale(.015625)\" d=\"m525 4666h3e3v-269l-1694-4397h-659l1594 4134h-2241v532z\"/></defs><use xlink:href=\"#DejaVuSans-30\"/><use x=\"63.623047\" xlink:href=\"#DejaVuSans-2e\"/><use x=\"95.410156\" xlink:href=\"#DejaVuSans-30\"/><use x=\"159.033203\" xlink:href=\"#DejaVuSans-32\"/><use x=\"222.65625\" xlink:href=\"#DejaVuSans-37\"/></g><g transform=\"translate(220.23 54.782) scale(.1 -.1)\" fill=\"#343a3f\"><use xlink:href=\"#DejaVuSans-30\"/><use x=\"63.623047\" xlink:href=\"#DejaVuSans-2e\"/><use x=\"95.410156\" xlink:href=\"#DejaVuSans-32\"/><use x=\"159.033203\" xlink:href=\"#DejaVuSans-38\"/><use x=\"222.65625\" xlink:href=\"#DejaVuSans-31\"/></g><g transform=\"translate(267.58 257.04) scale(.1 -.1)\" fill=\"#343a3f\"><use xlink:href=\"#DejaVuSans-30\"/><use x=\"63.623047\" xlink:href=\"#DejaVuSans-2e\"/><use x=\"95.410156\" xlink:href=\"#DejaVuSans-30\"/><use x=\"159.033203\" xlink:href=\"#DejaVuSans-33\"/><use x=\"222.65625\" xlink:href=\"#DejaVuSans-31\"/></g><g transform=\"translate(314.93 53.991) scale(.1 -.1)\" fill=\"#343a3f\"><use xlink:href=\"#DejaVuSans-30\"/><use x=\"63.623047\" xlink:href=\"#DejaVuSans-2e\"/><use x=\"95.410156\" xlink:href=\"#DejaVuSans-32\"/><use x=\"159.033203\" xlink:href=\"#DejaVuSans-38\"/><use x=\"222.65625\" xlink:href=\"#DejaVuSans-32\"/></g><g transform=\"translate(362.27 261.78) scale(.1 -.1)\" fill=\"#343a3f\"><defs><path id=\"DejaVuSans-35\" transform=\"scale(.015625)\" d=\"m691 4666h2478v-532h-1900v-1143q137 47 274 70 138 23 276 23 781 0 1237-428 457-428 457-1159 0-753-469-1171-469-417-1322-417-294 0-599 50-304 50-629 150v635q281-153 581-228t634-75q541 0 856 284 316 284 316 772 0 487-316 771-315 285-856 285-253 0-505-56-251-56-513-175v2344z\"/></defs><use xlink:href=\"#DejaVuSans-30\"/><use x=\"63.623047\" xlink:href=\"#DejaVuSans-2e\"/><use x=\"95.410156\" xlink:href=\"#DejaVuSans-30\"/><use x=\"159.033203\" xlink:href=\"#DejaVuSans-32\"/><use x=\"222.65625\" xlink:href=\"#DejaVuSans-35\"/></g><g transform=\"translate(409.62 264.15) scale(.1 -.1)\" fill=\"#343a3f\"><use xlink:href=\"#DejaVuSans-30\"/><use x=\"63.623047\" xlink:href=\"#DejaVuSans-2e\"/><use x=\"95.410156\" xlink:href=\"#DejaVuSans-30\"/><use x=\"159.033203\" xlink:href=\"#DejaVuSans-32\"/><use x=\"222.65625\" xlink:href=\"#DejaVuSans-32\"/></g><defs><clipPath id=\"paaa3c8f571\"><rect x=\"62.921\" y=\"7.2\" width=\"390.6\" height=\"277.2\"/></clipPath></defs></svg>"
            ],
            "text/plain": [
              "<Figure size 700x500 with 1 Axes>"
            ]
          },
          "execution_count": 6,
          "metadata": {
          },
          "output_type": "execute_result"
        }
      ],
      "source": [
        "# Simulate the circuit\n",
        "from qiskit import Aer, transpile\n",
        "sim = Aer.get_backend('aer_simulator')\n",
        "t_qc = transpile(qc, sim)\n",
        "counts = sim.run(t_qc).result().get_counts()\n",
        "\n",
        "# plot the results\n",
        "from qiskit.visualization import plot_histogram\n",
        "plot_histogram(counts)"
      ]
    },
    {
      "cell_type": "markdown",
      "metadata": {
      },
      "source": [
        "우리는 SAT 문제에 대한 3가지 해답 중 하나를 측정할 확률이 높습니다.\n",
        "\n",
        "<!-- ::: q-block.exercise -->\n",
        "\n",
        "### 막간 퀴즈\n",
        "\n",
        "<!-- ::: q-quiz(goal=\"intro-grover-3\") -->\n",
        "\n",
        "<!-- ::: .question -->\n",
        "\n",
        "이 양자 회로에 의해 해결된 SAT 문제에 대한 해답은 다음 중 어느 것입니까?\n",
        "\n",
        "<!-- ::: -->\n",
        "\n",
        "<!-- ::: .option(correct) -->\n",
        "\n",
        "1. `011`\n",
        "\n",
        "<!-- ::: -->\n",
        "\n",
        "<!-- ::: .option -->\n",
        "\n",
        "1. `001`\n",
        "\n",
        "<!-- ::: -->\n",
        "\n",
        "<!-- ::: .option -->\n",
        "\n",
        "1. `010`\n",
        "\n",
        "<!-- ::: -->\n",
        "\n",
        "<!-- ::: .option -->\n",
        "\n",
        "1. `110`\n",
        "\n",
        "<!-- ::: -->\n",
        "\n",
        "<!-- ::: -->\n",
        "\n",
        "<!-- ::: -->"
      ]
    },
    {
      "cell_type": "markdown",
      "metadata": {
      },
      "source": [
        "## Grover 알고리즘은 어떻게 작동합니까?\n",
        "\n",
        "우리는 검색 문제에 대해 배웠고 Grover 알고리즘이 문제를 해결하는 데 사용되는 것을 보았습니다. 하지만 이 알고리즘이 어떻게 그리고 왜 작동할까요?\n",
        "\n",
        "<!-- ::: q-block -->\n",
        "\n",
        "### Grover 알고리즘 시각화\n",
        "\n",
        "<!-- ::: q-carousel -->\n",
        "\n",
        "<!-- ::: div -->\n",
        "\n",
        "Grover 알고리즘에는 적절한 기하학적 설명이 있습니다. 우리는 벡터를 통해 양자 상태를 나타낼 수 있음을 보았습니다. 이와 같은 검색 문제의 경우 우리가 관심을 두는 벡터는 해답과 나머지 두 가지뿐입니다. 모든 해답 상태의 중첩을 `$|?\\rangle$`이라고 하므로 위의 SAT 문제에 대해 다음을 수행합니다.\n",
        "\n",
        "$$|✓\\rangle = \\tfrac{1}{\\sqrt{3}}(|000\\rangle + |011\\rangle + |101\\rangle)$$\n",
        "\n",
        "다른 모든 상태의 중첩을 '$|✗\\rangle$'이라고 부를 것입니다.\n",
        "\n",
        "$$|✗\\rangle = \\tfrac{1}{\\sqrt{5}}(|001\\rangle + |010\\rangle + |100\\rangle + |110\\rangle + |111\\rangle)$$\n",
        "\n",
        "<!-- ::: -->\n",
        "\n",
        "<!-- ::: div -->\n",
        "\n",
        "**상태 평면**\n",
        "\n",
        "![Image showing a |omega> and |s prime> as the y and x axis of a 2D space](images/grover/carousel/1/0.svg)\n",
        "\n",
        "두 벡터 $|✓\\rangle$ 및 $|✗\\rangle$은 요소를 공유하지 않으므로 수직이므로 2D 평면에서 직각으로 그릴 수 있습니다. 이것들은 각각 y축과 x축이 됩니다.\n",
        "\n",
        "<!-- ::: -->\n",
        "\n",
        "<!-- ::: div -->\n",
        "\n",
        "**1 단계**\n",
        "\n",
        "![Image showing a |omega> and |s prime> as the y and x axis of a 2D space](images/grover/carousel/1/1.svg)\n",
        "\n",
        "이 평면에 알고리즘의 여러 단계에서의 양자 컴퓨터의 상태를 표시해 보겠습니다. 우리가 그릴 첫 번째 상태는 $|s\\rangle$입니다. 1단계(초기화 단계) *이후* 의 상태입니다. 이 상태는 모든 계산 기반 상태의 동일한 중첩입니다. 가능한 상태는 솔루션이거나 솔루션이 아니므로 $|s\\rangle$을 $|✓\\rangle$와 $|✗\\rangle$의 일부 조합으로 쓸 수 있으므로 평면에서 이들 사이에 위치합니다.\n",
        "\n",
        "$$|s\\rangle = a|✗\\rangle + b|✓\\rangle$$\n",
        "\n",
        "<!-- ::: -->\n",
        "\n",
        "<!-- ::: div -->\n",
        "\n",
        "**1 단계**\n",
        "\n",
        "![Image showing |s> on the |omega> / |s-prime> plane](images/grover/carousel/1/1.svg)\n",
        "\n",
        "어려운 문제의 경우 많은 입력이 있을 것으로 예상되지만 해답의 수는 적습니다. 이 경우 $|s\\rangle$은 $|✓\\rangle$보다 $|✗\\rangle$에 훨씬 더 가까우므로(즉, 둘 사이의 각도, $\\theta$가 작음) 측정이 $|✓\\rangle$을 구성하는 계산 기반 상태 중 하나를 지정하는 것은 일어나지 않을것 같습니다. 우리의 목표는 가능한 한 $|✓\\rangle$에 가까운 상태로 컴퓨터를 만드는 것입니다.\n",
        "\n",
        "<!-- ::: -->\n",
        "\n",
        "<!-- ::: div -->\n",
        "\n",
        "**2 단계**\n",
        "\n",
        "![Image showing U_omega|s> on the |omega> / |s-prime> plane](images/grover/carousel/1/2.svg)\n",
        "\n",
        "다음으로 $U_\\text{oracle}$ 회로를 통해 큐비트를 전달합니다. 위에서의 정의에 따르면 $U_\\text{oracle}$는 모든 해답 상태의 위상을 뒤집습니다. 다이어그램에서 이것은 $|✗\\rangle$ 벡터를 통한 반사입니다. 즉:\n",
        "\n",
        "$$a|✗\\rangle + b|✓\\rangle \\xrightarrow{\\text{oracle}} a|✗\\rangle - b|✓\\rangle$$\n",
        "\n",
        "<!-- ::: -->\n",
        "\n",
        "<!-- ::: div -->\n",
        "\n",
        "**3단계**\n",
        "\n",
        "![Image showing U_omega|s> on the |omega> / |s-prime> plane](images/grover/carousel/1/2.svg)\n",
        "\n",
        "우리는 $|✗\\rangle$ 벡터를 통해 반사할 수 있다는 것을 보았습니다. 우리 상태를 $|✓\\rangle$에 더 가깝게 이동시킬 수 있는 또 다른 벡터가 있습니까? 정답은 '예'입니다. 벡터 $|s\\rangle$를 통해 반영할 수 있습니다. 처음에는 이를 수행하는 회로를 만드는 방법이 명확하지 않을 수 있지만 이 페이지의 뒷부분에서 다룰 비교적 간단한 작업입니다.\n",
        "\n",
        "<!-- ::: -->\n",
        "\n",
        "<!-- ::: div -->\n",
        "\n",
        "**마무리 (혹은 반복)**\n",
        "\n",
        "![Image showing U_omega|s> on the |omega> / |s-prime> plane](images/grover/carousel/1/3.svg)\n",
        "\n",
        "이제 상태 벡터는 이전보다 $|✓\\rangle$에 더 가깝습니다. 이는 해답 상태 중 하나를 측정할 가능성이 더 높다는 것을 의미합니다. 해답이 하나만 있는 경우 해당 해답을 측정할 확률이 가장 높기 위해 2 &amp; 3단계 ~$\\sqrt{N}$ 번 반복해야 합니다.\n",
        "\n",
        "<!-- ::: -->\n",
        "\n",
        "<!-- ::: -->\n",
        "\n",
        "<!-- ::: -->"
      ]
    },
    {
      "cell_type": "markdown",
      "metadata": {
      },
      "source": [
        "<!-- ::: q-block -->\n",
        "\n",
        "### 오라클을 쿼리해야 하는 횟수는?\n",
        "\n",
        "<!-- ::: q-carousel -->\n",
        "\n",
        "<!-- ::: div -->\n",
        "\n",
        "![Image showing a |omega> and |s prime> as the y and x axis of a 2D space](images/grover/carousel/2/0.svg)\n",
        "\n",
        "이를 해결하려면 각 단계 반복이 $|✓\\rangle$ 방향으로 상태를 얼마나 회전하는지 작업해야 합니다. 알고리즘의 중간 어딘가에 있다고 가정해 보겠습니다. 컴퓨터의 상태($|\\psi\\rangle$)는 시작 상태 $|s\\rangle$에서 $\\phi$의 각도입니다. $|\\psi\\rangle$과 $|✗\\rangle$ 사이의 각도는 $\\theta + \\phi$입니다.\n",
        "\n",
        "<!-- ::: -->\n",
        "\n",
        "<!-- ::: div -->\n",
        "\n",
        "![Image showing a |omega> and |s prime> as the y and x axis of a 2D space](images/grover/carousel/2/1.svg)\n",
        "\n",
        "오라클은 $|✗\\rangle$ 주위에 컴퓨터의 상태 벡터를 반영하므로 새로 반사된 상태 벡터($|\\psi'\\rangle$)와 $|✗\\rangle$ 사이의 각도도 $\\theta가 됩니다. + \\PHI$.\n",
        "\n",
        "<!-- ::: -->\n",
        "\n",
        "<!-- ::: div -->\n",
        "\n",
        "![Image showing |s> on the |omega> / |s-prime> plane](images/grover/carousel/2/2.svg)\n",
        "\n",
        "다음으로 $|s\\rangle$를 통해 반영합니다. 컴퓨터 상태($|\\psi'\\rangle$)와 $|s\\rangle$ 사이의 각도는 $2\\theta + \\phi$입니다.\n",
        "\n",
        "<!-- ::: -->\n",
        "\n",
        "<!-- ::: div -->\n",
        "\n",
        "![Image showing U_omega|s> on the |omega> / |s-prime> plane](images/grover/carousel/2/3.svg)\n",
        "\n",
        "따라서 한 번의 단계 반복 후에 우리의 컴퓨터 상태와 $|s\\rangle$ 사이의 각도가 $2\\theta + \\phi$임을 알게 됩니다.\n",
        "\n",
        "<!-- ::: -->\n",
        "\n",
        "<!-- ::: div -->\n",
        "\n",
        "![Image showing U_omega|s> on the |omega> / |s-prime> plane](images/grover/carousel/2/4.svg)\n",
        "\n",
        "이는 각 단계 반복이 컴퓨터 상태를 $|✓\\rangle$ 방향으로 $2\\theta$만큼 회전한다는 것을 의미합니다.\n",
        "\n",
        "<!-- ::: -->\n",
        "\n",
        "<!-- ::: div -->\n",
        "\n",
        "![Image showing U_omega|s> on the |omega> / |s-prime> plane](images/grover/carousel/2/5.svg)\n",
        "\n",
        "이제 우리는 $2\\theta$가 직각에까지 가는데 몇번 필요한지 알아내면 됩니다. 이것은 대략 $|s\\rangle$을 $|✓\\rangle$로 회전하는 데 필요한 단계 반복 횟수입니다.\n",
        "\n",
        "<!-- ::: -->\n",
        "\n",
        "<!-- ::: div -->\n",
        "\n",
        "![Image showing U_omega|s> on the |omega> / |s-prime> plane](images/grover/carousel/2/6.svg)\n",
        "\n",
        "그렇다면 $N$의 관점에서 $\\theta$의 각도는 얼마입니까? 약간의 삼각법을 사용하여 $\\sin(\\theta)$는 $|s\\rangle$의 $|✓\\rangle$ 구성요소를 $|s\\rangle$의 길이로 나눈 값(즉, 1). 해답 상태가 하나만 있는 경우 $|s\\rangle = \\tfrac{1}{\\sqrt{N}}(|0\\rangle + |1\\rangle \\dots + |✓\\rangle \\dots + |N-1 \\rangle)$. 따라서 $\\sin(\\theta) = \\tfrac{1}{\\sqrt{N}}$입니다.\n",
        "\n",
        "<!-- ::: -->\n",
        "\n",
        "<!-- ::: div -->\n",
        "\n",
        "![Image showing U_omega|s> on the |omega> / |s-prime> plane](images/grover/carousel/2/7.svg)\n",
        "\n",
        "마지막으로 어려운 문제의 경우 $\\theta$는 매우 작습니다. 즉, 작은 각도 근사법을 사용하여 $\\theta \\approx \\tfrac{1}{\\sqrt{N}}$ 라디안이라고 말할 수 있습니다.\n",
        "\n",
        "<!-- ::: -->\n",
        "\n",
        "<!-- ::: div -->\n",
        "\n",
        "![Image showing U_omega|s> on the |omega> / |s-prime> plane](images/grover/carousel/2/8.svg)\n",
        "\n",
        "작은 $\\theta$에 대해 $|s\\rangle$을 $\\pi/2$ 라디안 주위로 회전하고 싶기 때문에 대략 $\\tfrac{\\pi}{2}\\div\\tfrac{ 2}{\\sqrt{N}} = \\tfrac{\\pi}{4}\\sqrt{N}$ 만큼 단계 반복을 해야합니다. 한번의 단계 반복당 오라클을 한번 쿼리하기 때문에 필요한 오라클 쿼리 수는 정확히 하나의 해답이 있는 경우 $\\sqrt{N}$에 비례합니다.\n",
        "\n",
        "<!-- ::: -->\n",
        "\n",
        "<!-- ::: -->\n",
        "\n",
        "<!-- ::: -->"
      ]
    },
    {
      "cell_type": "markdown",
      "metadata": {
      },
      "source": [
        "<!-- ::: q-block.exercise -->\n",
        "\n",
        "### 막간 퀴즈\n",
        "\n",
        "<!-- ::: q-quiz(goal=\"intro-grover-4\") -->\n",
        "\n",
        "<!-- ::: .question -->\n",
        "\n",
        "가능한 입력이 많고 해답이 정확히 하나인 Oracle의 경우 $\\theta \\approx \\tfrac{1}{\\sqrt{N}}$입니다. 해답이 *두개 일 경우* $\\theta$의 대략적인 값은 얼마입니까?\n",
        "\n",
        "<!-- ::: -->\n",
        "\n",
        "<!-- ::: .option -->\n",
        "\n",
        "1. $\\theta \\approx \\tfrac{2}{\\sqrt{N}}$\n",
        "\n",
        "<!-- ::: -->\n",
        "\n",
        "<!-- ::: .option(correct) -->\n",
        "\n",
        "1. $\\theta \\approx \\tfrac{\\sqrt{2}}{\\sqrt{N}}$\n",
        "\n",
        "<!-- ::: -->\n",
        "\n",
        "<!-- ::: .option -->\n",
        "\n",
        "1. $\\theta \\approx \\tfrac{1}{\\sqrt{2N}}$\n",
        "\n",
        "<!-- ::: -->\n",
        "\n",
        "<!-- ::: -->\n",
        "\n",
        "<!-- ::: -->"
      ]
    },
    {
      "cell_type": "markdown",
      "metadata": {
      },
      "source": [
        "## Grover 알고리즘의 회로\n",
        "\n",
        "이 장을 마무리하기 위해 Grover 알고리즘을 구현하는 간단한 회로를 처음부터 만들고 작동하는 것을 보여 줍니다. 두 개의 큐비트를 사용하고 오라클 회로를 만드는 것으로 시작하겠습니다."
      ]
    },
    {
      "cell_type": "code",
      "execution_count": 7,
      "metadata": {
      },
      "outputs": [

      ],
      "source": [
        "from qiskit import QuantumCircuit"
      ]
    },
    {
      "cell_type": "markdown",
      "metadata": {
      },
      "source": [
        "### 오라클\n",
        "\n",
        "일을 단순하게 유지하기 위해 여기에서 실제 문제를 해결하지 않을 것입니다. 이 데모에서는 $|11\\rangle$ 상태의 위상을 뒤집고 나머지는 변경하지 않는 회로를 만듭니다. 다행히도 우리는 이미 정확히 그 일을 하는 2-큐비트 게이트를 알고 있습니다!"
      ]
    },
    {
      "cell_type": "code",
      "execution_count": 8,
      "metadata": {
      },
      "outputs": [
        {
          "data": {
            "image/svg+xml": [
              "<?xml version=\"1.0\" encoding=\"UTF-8\"?><!DOCTYPE svg  PUBLIC '-//W3C//DTD SVG 1.1//EN'  'http://www.w3.org/Graphics/SVG/1.1/DTD/svg11.dtd'><svg width=\"127.32pt\" height=\"125.65pt\" version=\"1.1\" viewBox=\"0 0 127.32 125.65\" xmlns=\"http://www.w3.org/2000/svg\" xmlns:xlink=\"http://www.w3.org/1999/xlink\"><defs><style type=\"text/css\">*{stroke-linejoin: round; stroke-linecap: butt}</style></defs><path d=\"m-0 125.65h127.32v-125.65h-127.32z\" fill=\"#ffffff\"/><path d=\"m64.497 44.283h50.989\" clip-path=\"url(#p2ca51ede18)\" fill=\"none\" stroke=\"#000000\" stroke-linecap=\"square\" stroke-width=\"2\"/><path d=\"m64.497 90.637h50.989\" clip-path=\"url(#p2ca51ede18)\" fill=\"none\" stroke=\"#000000\" stroke-linecap=\"square\" stroke-width=\"2\"/><path d=\"m89.528 90.637v-46.354\" clip-path=\"url(#p2ca51ede18)\" fill=\"none\" stroke=\"#1192e8\" stroke-linecap=\"square\" stroke-width=\"2\"/><path d=\"m89.528 90.637v-46.354\" clip-path=\"url(#p2ca51ede18)\" fill=\"none\" stroke=\"#1192e8\" stroke-linecap=\"square\" stroke-width=\"2\"/><path d=\"m89.528 48.803c1.1986 0 2.3482-0.4762 3.1958-1.3237s1.3237-1.9972 1.3237-3.1958c0-1.1986-0.4762-2.3482-1.3237-3.1958s-1.9972-1.3237-3.1958-1.3237c-1.1986 0-2.3482 0.4762-3.1958 1.3237-0.84753 0.84753-1.3237 1.9972-1.3237 3.1958 0 1.1986 0.4762 2.3482 1.3237 3.1958 0.84753 0.84753 1.9972 1.3237 3.1958 1.3237z\" clip-path=\"url(#p2ca51ede18)\" fill=\"#1192e8\" stroke=\"#1192e8\" stroke-width=\"1.5\"/><path d=\"m89.528 95.157c1.1986 0 2.3482-0.4762 3.1958-1.3237 0.84753-0.84753 1.3237-1.9972 1.3237-3.1958s-0.4762-2.3482-1.3237-3.1958c-0.84753-0.84753-1.9972-1.3237-3.1958-1.3237-1.1986 0-2.3482 0.4762-3.1958 1.3237-0.84753 0.84753-1.3237 1.9972-1.3237 3.1958s0.4762 2.3482 1.3237 3.1958c0.84753 0.84753 1.9972 1.3237 3.1958 1.3237z\" clip-path=\"url(#p2ca51ede18)\" fill=\"#1192e8\" stroke=\"#1192e8\" stroke-width=\"1.5\"/><g clip-path=\"url(#p2ca51ede18)\"><g transform=\"translate(37.189 48.734) scale(.1625 -.1625)\"><defs><path id=\"DejaVuSans-Oblique-71\" transform=\"scale(.015625)\" d=\"m2669 525q-231-303-546-460-314-156-695-156-531 0-833 358-301 358-301 986 0 506 186 978t533 847q225 244 517 375t614 131q387 0 637-153t363-462l100 525h578l-934-4813h-579l360 1844zm-1778 813q0-463 193-705 194-242 560-242 544 0 928 520t384 1264q0 450-199 689-198 239-569 239-272 0-504-127-231-126-403-370-181-256-286-600-104-343-104-668z\"/><path id=\"DejaVuSans-30\" transform=\"scale(.015625)\" d=\"m2034 4250q-487 0-733-480-245-479-245-1442 0-959 245-1439 246-480 733-480 491 0 736 480 246 480 246 1439 0 963-246 1442-245 480-736 480zm0 500q785 0 1199-621 414-620 414-1801 0-1178-414-1799-414-620-1199-620-784 0-1198 620-414 621-414 1799 0 1181 414 1801 414 621 1198 621z\"/></defs><use xlink:href=\"#DejaVuSans-Oblique-71\"/><use transform=\"translate(63.477 -16.406) scale(.7)\" xlink:href=\"#DejaVuSans-30\"/></g></g><g clip-path=\"url(#p2ca51ede18)\"><g transform=\"translate(37.189 95.088) scale(.1625 -.1625)\"><defs><path id=\"DejaVuSans-31\" transform=\"scale(.015625)\" d=\"m794 531h1031v3560l-1122-225v575l1116 225h631v-4135h1031v-531h-2687v531z\"/></defs><use xlink:href=\"#DejaVuSans-Oblique-71\"/><use transform=\"translate(63.477 -16.406) scale(.7)\" xlink:href=\"#DejaVuSans-31\"/></g></g><defs><clipPath id=\"p2ca51ede18\"><rect x=\"7.2\" y=\"7.2\" width=\"112.92\" height=\"111.25\"/></clipPath></defs></svg>"
            ],
            "text/plain": [
              "<Figure size 203.683x200.667 with 1 Axes>"
            ]
          },
          "execution_count": 8,
          "metadata": {
          },
          "output_type": "execute_result"
        }
      ],
      "source": [
        "oracle = QuantumCircuit(2)\n",
        "oracle.cz(0,1)  # invert phase of |11>\n",
        "oracle.draw()"
      ]
    },
    {
      "cell_type": "markdown",
      "metadata": {
      },
      "source": [
        "다음은 이 회로의 행렬 표현을 보여주는 간단한 함수입니다."
      ]
    },
    {
      "cell_type": "code",
      "execution_count": 9,
      "metadata": {
      },
      "outputs": [
        {
          "data": {
            "text/latex": [
              "$$\n",
              "U_\\text{oracle}=\n",
              "\\begin{bmatrix}\n",
              "1 & 0 & 0 & 0  \\\\\n",
              " 0 & 1 & 0 & 0  \\\\\n",
              " 0 & 0 & 1 & 0  \\\\\n",
              " 0 & 0 & 0 & -1  \\\\\n",
              " \\end{bmatrix}\n",
              "$$"
            ],
            "text/plain": [
              "<IPython.core.display.Latex object>"
            ]
          },
          "metadata": {
          },
          "output_type": "display_data"
        }
      ],
      "source": [
        "def display_unitary(qc, prefix=\"\"):\n",
        "    \"\"\"Simulates a simple circuit and display its matrix representation.\n",
        "    Args:\n",
        "        qc (QuantumCircuit): The circuit to compile to a unitary matrix\n",
        "        prefix (str): Optional LaTeX to be displayed before the matrix\n",
        "    Returns:\n",
        "        None (displays matrix as side effect)\n",
        "    \"\"\"\n",
        "    from qiskit import Aer\n",
        "    from qiskit.visualization import array_to_latex\n",
        "    sim = Aer.get_backend('aer_simulator')\n",
        "    # Next, we'll create a copy of the circuit and work on\n",
        "    # that so we don't change anything as a side effect\n",
        "    qc = qc.copy()\n",
        "    # Tell the simulator to save the unitary matrix of this circuit\n",
        "    qc.save_unitary()\n",
        "    unitary = sim.run(qc).result().get_unitary()\n",
        "    display(array_to_latex(unitary, prefix=prefix))\n",
        "\n",
        "display_unitary(oracle, \"U_\\\\text{oracle}=\")"
      ]
    },
    {
      "cell_type": "markdown",
      "metadata": {
      },
      "source": [
        "<!-- ::: q-block.exercise -->\n",
        "\n",
        "### 실습\n",
        "\n",
        "다른 3개의 계산 기반 상태($|00\\rangle$, $|01\\rangle$ 및 $|10\\rangle$)를 대상으로 하는 오라클 회로를 3개 더 만들 수 있습니까? `display_unitary` 를 사용하여 답을 확인하세요.\n",
        "\n",
        "*힌트:* $|11\\rangle$을 대상으로 하는 기본 상태로 또는 그 반대로 변환하는 회로를 생성해 보십시오. 그런 다음 이 회로를 `cz` 게이트와 함께 사용할 수 있습니까?\n",
        "\n",
        "[IBM Quantum Lab](https://quantum-computing.ibm.com/lab)을 사용해 보십시오.\n",
        "\n",
        "<!-- ::: -->"
      ]
    },
    {
      "cell_type": "markdown",
      "metadata": {
      },
      "source": [
        "### 디퓨저 만들기\n",
        "\n",
        "다음으로 2개의 큐비트용 디퓨저를 생성합니다. $|s\\rangle$ 상태를 중심으로 반사를 수행하기를 원하므로 이 반사를 수행하는 회로를 구축하기 위해 이미 가지고 있는 도구를 사용할 수 있는지 봅시다.\n",
        "\n",
        "우리는 이미 `cz` 게이트가 $|11\\rangle$(위상 단계까지) 주변에서 반사하는 것을 보았으므로 $|s\\rangle \\rightarrow |11\\rangle$을 매핑하는 변환을 알고 있다면 다음을 수행할 수 있습니다. :\n",
        "\n",
        "1. 다음 변환 수행 $|s\\rangle \\rightarrow |11\\rangle$\n",
        "2. $|11\\rangle$을 사용해 반사(예: `cz` 게이트)\n",
        "3. 다음 변환 수행 $|11\\rangle \\rightarrow |s\\rangle$\n",
        "\n",
        "각 큐비트에 H-gate를 적용하여 $|00\\rangle$ 상태에서 $|s\\rangle$ 상태를 생성할 수 있다는 것을 알고 있습니다. H-gate는 자체 역이기 때문에 각 큐비트에 H-gate를 적용하면 $|s\\rangle \\rightarrow |00\\rangle$도 수행됩니다."
      ]
    },
    {
      "cell_type": "code",
      "execution_count": 10,
      "metadata": {
      },
      "outputs": [
        {
          "data": {
            "image/svg+xml": [
              "<?xml version=\"1.0\" encoding=\"UTF-8\"?><!DOCTYPE svg  PUBLIC '-//W3C//DTD SVG 1.1//EN'  'http://www.w3.org/Graphics/SVG/1.1/DTD/svg11.dtd'><svg width=\"127.32pt\" height=\"125.65pt\" version=\"1.1\" viewBox=\"0 0 127.32 125.65\" xmlns=\"http://www.w3.org/2000/svg\" xmlns:xlink=\"http://www.w3.org/1999/xlink\"><defs><style type=\"text/css\">*{stroke-linejoin: round; stroke-linecap: butt}</style></defs><path d=\"m-0 125.65h127.32v-125.65h-127.32z\" fill=\"#ffffff\"/><path d=\"m64.497 44.283h50.989\" clip-path=\"url(#p5ee82eac7f)\" fill=\"none\" stroke=\"#000000\" stroke-linecap=\"square\" stroke-width=\"2\"/><path d=\"m64.497 90.637h50.989\" clip-path=\"url(#p5ee82eac7f)\" fill=\"none\" stroke=\"#000000\" stroke-linecap=\"square\" stroke-width=\"2\"/><path d=\"m74.463 59.348h30.13v-30.13h-30.13z\" clip-path=\"url(#p5ee82eac7f)\" fill=\"#1192e8\" stroke=\"#1192e8\" stroke-width=\"1.5\"/><path d=\"m74.463 105.7h30.13v-30.13h-30.13z\" clip-path=\"url(#p5ee82eac7f)\" fill=\"#1192e8\" stroke=\"#1192e8\" stroke-width=\"1.5\"/><g clip-path=\"url(#p5ee82eac7f)\"><g transform=\"translate(37.189 48.734) scale(.1625 -.1625)\"><defs><path id=\"DejaVuSans-Oblique-71\" transform=\"scale(.015625)\" d=\"m2669 525q-231-303-546-460-314-156-695-156-531 0-833 358-301 358-301 986 0 506 186 978t533 847q225 244 517 375t614 131q387 0 637-153t363-462l100 525h578l-934-4813h-579l360 1844zm-1778 813q0-463 193-705 194-242 560-242 544 0 928 520t384 1264q0 450-199 689-198 239-569 239-272 0-504-127-231-126-403-370-181-256-286-600-104-343-104-668z\"/><path id=\"DejaVuSans-30\" transform=\"scale(.015625)\" d=\"m2034 4250q-487 0-733-480-245-479-245-1442 0-959 245-1439 246-480 733-480 491 0 736 480 246 480 246 1439 0 963-246 1442-245 480-736 480zm0 500q785 0 1199-621 414-620 414-1801 0-1178-414-1799-414-620-1199-620-784 0-1198 620-414 621-414 1799 0 1181 414 1801 414 621 1198 621z\"/></defs><use xlink:href=\"#DejaVuSans-Oblique-71\"/><use transform=\"translate(63.477 -16.406) scale(.7)\" xlink:href=\"#DejaVuSans-30\"/></g></g><g clip-path=\"url(#p5ee82eac7f)\"><g transform=\"translate(37.189 95.088) scale(.1625 -.1625)\"><defs><path id=\"DejaVuSans-31\" transform=\"scale(.015625)\" d=\"m794 531h1031v3560l-1122-225v575l1116 225h631v-4135h1031v-531h-2687v531z\"/></defs><use xlink:href=\"#DejaVuSans-Oblique-71\"/><use transform=\"translate(63.477 -16.406) scale(.7)\" xlink:href=\"#DejaVuSans-31\"/></g></g><g clip-path=\"url(#p5ee82eac7f)\"><g transform=\"translate(84.64 47.87) scale(.13 -.13)\" fill=\"#ffffff\"><defs><path id=\"DejaVuSans-48\" transform=\"scale(.015625)\" d=\"m628 4666h631v-1913h2294v1913h631v-4666h-631v2222h-2294v-2222h-631v4666z\"/></defs><use xlink:href=\"#DejaVuSans-48\"/></g></g><g clip-path=\"url(#p5ee82eac7f)\"><g transform=\"translate(84.64 94.224) scale(.13 -.13)\" fill=\"#ffffff\"><use xlink:href=\"#DejaVuSans-48\"/></g></g><defs><clipPath id=\"p5ee82eac7f\"><rect x=\"7.2\" y=\"7.2\" width=\"112.92\" height=\"111.25\"/></clipPath></defs></svg>"
            ],
            "text/plain": [
              "<Figure size 203.683x200.667 with 1 Axes>"
            ]
          },
          "execution_count": 10,
          "metadata": {
          },
          "output_type": "execute_result"
        }
      ],
      "source": [
        "diffuser = QuantumCircuit(2)\n",
        "diffuser.h([0, 1])\n",
        "diffuser.draw()"
      ]
    },
    {
      "cell_type": "markdown",
      "metadata": {
      },
      "source": [
        "이제 $|00\\rangle \\rightarrow |11\\rangle$을 변환하는 방법을 알아내야 합니다.\n",
        "\n",
        "<!-- ::: q-block.exercise -->\n",
        "\n",
        "### 막간 퀴즈\n",
        "\n",
        "<!-- ::: q-quiz(goal=\"intro-grover-5\") -->\n",
        "\n",
        "<!-- ::: .question -->\n",
        "\n",
        "다음 중 $|0\\rangle \\rightarrow |1\\rangle$을 변환하는 게이트는 무엇입니까?\n",
        "\n",
        "<!-- ::: -->\n",
        "\n",
        "<!-- ::: .option(correct) -->\n",
        "\n",
        "1. `x`\n",
        "\n",
        "<!-- ::: -->\n",
        "\n",
        "<!-- ::: .option -->\n",
        "\n",
        "1. `z`\n",
        "\n",
        "<!-- ::: -->\n",
        "\n",
        "<!-- ::: .option -->\n",
        "\n",
        "1. `h`\n",
        "\n",
        "<!-- ::: -->\n",
        "\n",
        "<!-- ::: .option -->\n",
        "\n",
        "1. `s`\n",
        "\n",
        "<!-- ::: -->\n",
        "\n",
        "<!-- ::: -->\n",
        "\n",
        "<!-- ::: -->"
      ]
    },
    {
      "cell_type": "markdown",
      "metadata": {
      },
      "source": [
        "따라서 각 큐비트에 X-gate를 적용하면 $|00\\rangle \\rightarrow |11\\rangle$로 변환됩니다. 실행 합시다:"
      ]
    },
    {
      "cell_type": "code",
      "execution_count": 11,
      "metadata": {
      },
      "outputs": [
        {
          "data": {
            "image/svg+xml": [
              "<?xml version=\"1.0\" encoding=\"UTF-8\"?><!DOCTYPE svg  PUBLIC '-//W3C//DTD SVG 1.1//EN'  'http://www.w3.org/Graphics/SVG/1.1/DTD/svg11.dtd'><svg width=\"173.68pt\" height=\"125.65pt\" version=\"1.1\" viewBox=\"0 0 173.68 125.65\" xmlns=\"http://www.w3.org/2000/svg\" xmlns:xlink=\"http://www.w3.org/1999/xlink\"><defs><style type=\"text/css\">*{stroke-linejoin: round; stroke-linecap: butt}</style></defs><path d=\"m-0 125.65h173.68v-125.65h-173.68z\" fill=\"#ffffff\"/><path d=\"m64.497 44.283h97.343\" clip-path=\"url(#p5776345eb0)\" fill=\"none\" stroke=\"#000000\" stroke-linecap=\"square\" stroke-width=\"2\"/><path d=\"m64.497 90.637h97.343\" clip-path=\"url(#p5776345eb0)\" fill=\"none\" stroke=\"#000000\" stroke-linecap=\"square\" stroke-width=\"2\"/><path d=\"m74.463 59.348h30.13v-30.13h-30.13z\" clip-path=\"url(#p5776345eb0)\" fill=\"#1192e8\" stroke=\"#1192e8\" stroke-width=\"1.5\"/><path d=\"m74.463 105.7h30.13v-30.13h-30.13z\" clip-path=\"url(#p5776345eb0)\" fill=\"#1192e8\" stroke=\"#1192e8\" stroke-width=\"1.5\"/><path d=\"m120.82 59.348h30.13v-30.13h-30.13z\" clip-path=\"url(#p5776345eb0)\" fill=\"#005d5d\" stroke=\"#005d5d\" stroke-width=\"1.5\"/><path d=\"m120.82 105.7h30.13v-30.13h-30.13z\" clip-path=\"url(#p5776345eb0)\" fill=\"#005d5d\" stroke=\"#005d5d\" stroke-width=\"1.5\"/><g clip-path=\"url(#p5776345eb0)\"><g transform=\"translate(37.189 48.734) scale(.1625 -.1625)\"><defs><path id=\"DejaVuSans-Oblique-71\" transform=\"scale(.015625)\" d=\"m2669 525q-231-303-546-460-314-156-695-156-531 0-833 358-301 358-301 986 0 506 186 978t533 847q225 244 517 375t614 131q387 0 637-153t363-462l100 525h578l-934-4813h-579l360 1844zm-1778 813q0-463 193-705 194-242 560-242 544 0 928 520t384 1264q0 450-199 689-198 239-569 239-272 0-504-127-231-126-403-370-181-256-286-600-104-343-104-668z\"/><path id=\"DejaVuSans-30\" transform=\"scale(.015625)\" d=\"m2034 4250q-487 0-733-480-245-479-245-1442 0-959 245-1439 246-480 733-480 491 0 736 480 246 480 246 1439 0 963-246 1442-245 480-736 480zm0 500q785 0 1199-621 414-620 414-1801 0-1178-414-1799-414-620-1199-620-784 0-1198 620-414 621-414 1799 0 1181 414 1801 414 621 1198 621z\"/></defs><use xlink:href=\"#DejaVuSans-Oblique-71\"/><use transform=\"translate(63.477 -16.406) scale(.7)\" xlink:href=\"#DejaVuSans-30\"/></g></g><g clip-path=\"url(#p5776345eb0)\"><g transform=\"translate(37.189 95.088) scale(.1625 -.1625)\"><defs><path id=\"DejaVuSans-31\" transform=\"scale(.015625)\" d=\"m794 531h1031v3560l-1122-225v575l1116 225h631v-4135h1031v-531h-2687v531z\"/></defs><use xlink:href=\"#DejaVuSans-Oblique-71\"/><use transform=\"translate(63.477 -16.406) scale(.7)\" xlink:href=\"#DejaVuSans-31\"/></g></g><g clip-path=\"url(#p5776345eb0)\"><g transform=\"translate(84.64 47.87) scale(.13 -.13)\" fill=\"#ffffff\"><defs><path id=\"DejaVuSans-48\" transform=\"scale(.015625)\" d=\"m628 4666h631v-1913h2294v1913h631v-4666h-631v2222h-2294v-2222h-631v4666z\"/></defs><use xlink:href=\"#DejaVuSans-48\"/></g></g><g clip-path=\"url(#p5776345eb0)\"><g transform=\"translate(84.64 94.224) scale(.13 -.13)\" fill=\"#ffffff\"><use xlink:href=\"#DejaVuSans-48\"/></g></g><g clip-path=\"url(#p5776345eb0)\"><g transform=\"translate(131.43 47.87) scale(.13 -.13)\" fill=\"#ffffff\"><defs><path id=\"DejaVuSans-58\" transform=\"scale(.015625)\" d=\"m403 4666h678l1160-1735 1165 1735h678l-1500-2241 1600-2425h-678l-1312 1984-1322-1984h-681l1665 2491-1453 2175z\"/></defs><use xlink:href=\"#DejaVuSans-58\"/></g></g><g clip-path=\"url(#p5776345eb0)\"><g transform=\"translate(131.43 94.224) scale(.13 -.13)\" fill=\"#ffffff\"><use xlink:href=\"#DejaVuSans-58\"/></g></g><defs><clipPath id=\"p5776345eb0\"><rect x=\"7.2\" y=\"7.2\" width=\"159.28\" height=\"111.25\"/></clipPath></defs></svg>"
            ],
            "text/plain": [
              "<Figure size 287.294x200.667 with 1 Axes>"
            ]
          },
          "execution_count": 11,
          "metadata": {
          },
          "output_type": "execute_result"
        }
      ],
      "source": [
        "diffuser.x([0,1])\n",
        "diffuser.draw()"
      ]
    },
    {
      "cell_type": "markdown",
      "metadata": {
      },
      "source": [
        "이제 변환 $|s\\rangle \\rightarrow |11\\rangle$이 있으므로 `cz` 게이트를 적용하고 변환을 반대로 할 수 있습니다."
      ]
    },
    {
      "cell_type": "code",
      "execution_count": 12,
      "metadata": {
      },
      "outputs": [
        {
          "data": {
            "image/svg+xml": [
              "<?xml version=\"1.0\" encoding=\"UTF-8\"?><!DOCTYPE svg  PUBLIC '-//W3C//DTD SVG 1.1//EN'  'http://www.w3.org/Graphics/SVG/1.1/DTD/svg11.dtd'><svg width=\"312.74pt\" height=\"125.65pt\" version=\"1.1\" viewBox=\"0 0 312.74 125.65\" xmlns=\"http://www.w3.org/2000/svg\" xmlns:xlink=\"http://www.w3.org/1999/xlink\"><defs><style type=\"text/css\">*{stroke-linejoin: round; stroke-linecap: butt}</style></defs><path d=\"m0 125.65h312.74v-125.65h-312.74z\" fill=\"#ffffff\"/><path d=\"m64.497 44.283h236.41\" clip-path=\"url(#p4473064419)\" fill=\"none\" stroke=\"#000000\" stroke-linecap=\"square\" stroke-width=\"2\"/><path d=\"m64.497 90.637h236.41\" clip-path=\"url(#p4473064419)\" fill=\"none\" stroke=\"#000000\" stroke-linecap=\"square\" stroke-width=\"2\"/><path d=\"m182.24 90.637v-46.354\" clip-path=\"url(#p4473064419)\" fill=\"none\" stroke=\"#1192e8\" stroke-linecap=\"square\" stroke-width=\"2\"/><path d=\"m182.24 90.637v-46.354\" clip-path=\"url(#p4473064419)\" fill=\"none\" stroke=\"#1192e8\" stroke-linecap=\"square\" stroke-width=\"2\"/><path d=\"m74.463 59.348h30.13v-30.13h-30.13z\" clip-path=\"url(#p4473064419)\" fill=\"#1192e8\" stroke=\"#1192e8\" stroke-width=\"1.5\"/><path d=\"m74.463 105.7h30.13v-30.13h-30.13z\" clip-path=\"url(#p4473064419)\" fill=\"#1192e8\" stroke=\"#1192e8\" stroke-width=\"1.5\"/><path d=\"m120.82 59.348h30.13v-30.13h-30.13z\" clip-path=\"url(#p4473064419)\" fill=\"#005d5d\" stroke=\"#005d5d\" stroke-width=\"1.5\"/><path d=\"m120.82 105.7h30.13v-30.13h-30.13z\" clip-path=\"url(#p4473064419)\" fill=\"#005d5d\" stroke=\"#005d5d\" stroke-width=\"1.5\"/><path d=\"m182.24 48.803c1.1986 0 2.3482-0.4762 3.1958-1.3237 0.84753-0.84753 1.3237-1.9972 1.3237-3.1958 0-1.1986-0.4762-2.3482-1.3237-3.1958-0.84753-0.84753-1.9972-1.3237-3.1958-1.3237s-2.3482 0.4762-3.1958 1.3237c-0.84753 0.84753-1.3237 1.9972-1.3237 3.1958 0 1.1986 0.4762 2.3482 1.3237 3.1958 0.84753 0.84753 1.9972 1.3237 3.1958 1.3237z\" clip-path=\"url(#p4473064419)\" fill=\"#1192e8\" stroke=\"#1192e8\" stroke-width=\"1.5\"/><path d=\"m182.24 95.157c1.1986 0 2.3482-0.4762 3.1958-1.3237 0.84753-0.84753 1.3237-1.9972 1.3237-3.1958s-0.4762-2.3482-1.3237-3.1958c-0.84753-0.84753-1.9972-1.3237-3.1958-1.3237s-2.3482 0.4762-3.1958 1.3237c-0.84753 0.84753-1.3237 1.9972-1.3237 3.1958s0.4762 2.3482 1.3237 3.1958c0.84753 0.84753 1.9972 1.3237 3.1958 1.3237z\" clip-path=\"url(#p4473064419)\" fill=\"#1192e8\" stroke=\"#1192e8\" stroke-width=\"1.5\"/><path d=\"m213.53 59.348h30.13v-30.13h-30.13z\" clip-path=\"url(#p4473064419)\" fill=\"#005d5d\" stroke=\"#005d5d\" stroke-width=\"1.5\"/><path d=\"m213.53 105.7h30.13v-30.13h-30.13z\" clip-path=\"url(#p4473064419)\" fill=\"#005d5d\" stroke=\"#005d5d\" stroke-width=\"1.5\"/><path d=\"m259.88 59.348h30.13v-30.13h-30.13z\" clip-path=\"url(#p4473064419)\" fill=\"#1192e8\" stroke=\"#1192e8\" stroke-width=\"1.5\"/><path d=\"m259.88 105.7h30.13v-30.13h-30.13z\" clip-path=\"url(#p4473064419)\" fill=\"#1192e8\" stroke=\"#1192e8\" stroke-width=\"1.5\"/><g clip-path=\"url(#p4473064419)\"><g transform=\"translate(37.189 48.734) scale(.1625 -.1625)\"><defs><path id=\"DejaVuSans-Oblique-71\" transform=\"scale(.015625)\" d=\"m2669 525q-231-303-546-460-314-156-695-156-531 0-833 358-301 358-301 986 0 506 186 978t533 847q225 244 517 375t614 131q387 0 637-153t363-462l100 525h578l-934-4813h-579l360 1844zm-1778 813q0-463 193-705 194-242 560-242 544 0 928 520t384 1264q0 450-199 689-198 239-569 239-272 0-504-127-231-126-403-370-181-256-286-600-104-343-104-668z\"/><path id=\"DejaVuSans-30\" transform=\"scale(.015625)\" d=\"m2034 4250q-487 0-733-480-245-479-245-1442 0-959 245-1439 246-480 733-480 491 0 736 480 246 480 246 1439 0 963-246 1442-245 480-736 480zm0 500q785 0 1199-621 414-620 414-1801 0-1178-414-1799-414-620-1199-620-784 0-1198 620-414 621-414 1799 0 1181 414 1801 414 621 1198 621z\"/></defs><use xlink:href=\"#DejaVuSans-Oblique-71\"/><use transform=\"translate(63.477 -16.406) scale(.7)\" xlink:href=\"#DejaVuSans-30\"/></g></g><g clip-path=\"url(#p4473064419)\"><g transform=\"translate(37.189 95.088) scale(.1625 -.1625)\"><defs><path id=\"DejaVuSans-31\" transform=\"scale(.015625)\" d=\"m794 531h1031v3560l-1122-225v575l1116 225h631v-4135h1031v-531h-2687v531z\"/></defs><use xlink:href=\"#DejaVuSans-Oblique-71\"/><use transform=\"translate(63.477 -16.406) scale(.7)\" xlink:href=\"#DejaVuSans-31\"/></g></g><g clip-path=\"url(#p4473064419)\"><g transform=\"translate(84.64 47.87) scale(.13 -.13)\" fill=\"#ffffff\"><defs><path id=\"DejaVuSans-48\" transform=\"scale(.015625)\" d=\"m628 4666h631v-1913h2294v1913h631v-4666h-631v2222h-2294v-2222h-631v4666z\"/></defs><use xlink:href=\"#DejaVuSans-48\"/></g></g><g clip-path=\"url(#p4473064419)\"><g transform=\"translate(84.64 94.224) scale(.13 -.13)\" fill=\"#ffffff\"><use xlink:href=\"#DejaVuSans-48\"/></g></g><g clip-path=\"url(#p4473064419)\"><g transform=\"translate(131.43 47.87) scale(.13 -.13)\" fill=\"#ffffff\"><defs><path id=\"DejaVuSans-58\" transform=\"scale(.015625)\" d=\"m403 4666h678l1160-1735 1165 1735h678l-1500-2241 1600-2425h-678l-1312 1984-1322-1984h-681l1665 2491-1453 2175z\"/></defs><use xlink:href=\"#DejaVuSans-58\"/></g></g><g clip-path=\"url(#p4473064419)\"><g transform=\"translate(131.43 94.224) scale(.13 -.13)\" fill=\"#ffffff\"><use xlink:href=\"#DejaVuSans-58\"/></g></g><g clip-path=\"url(#p4473064419)\"><g transform=\"translate(224.14 47.87) scale(.13 -.13)\" fill=\"#ffffff\"><use xlink:href=\"#DejaVuSans-58\"/></g></g><g clip-path=\"url(#p4473064419)\"><g transform=\"translate(224.14 94.224) scale(.13 -.13)\" fill=\"#ffffff\"><use xlink:href=\"#DejaVuSans-58\"/></g></g><g clip-path=\"url(#p4473064419)\"><g transform=\"translate(270.06 47.87) scale(.13 -.13)\" fill=\"#ffffff\"><use xlink:href=\"#DejaVuSans-48\"/></g></g><g clip-path=\"url(#p4473064419)\"><g transform=\"translate(270.06 94.224) scale(.13 -.13)\" fill=\"#ffffff\"><use xlink:href=\"#DejaVuSans-48\"/></g></g><defs><clipPath id=\"p4473064419\"><rect x=\"7.2\" y=\"7.2\" width=\"298.34\" height=\"111.25\"/></clipPath></defs></svg>"
            ],
            "text/plain": [
              "<Figure size 538.128x200.667 with 1 Axes>"
            ]
          },
          "execution_count": 12,
          "metadata": {
          },
          "output_type": "execute_result"
        }
      ],
      "source": [
        "diffuser.cz(0,1)\n",
        "diffuser.x([0,1])\n",
        "diffuser.h([0,1])\n",
        "diffuser.draw()"
      ]
    },
    {
      "cell_type": "markdown",
      "metadata": {
      },
      "source": [
        "### 통합하기\n",
        "\n",
        "이제 우리는 두 개의 회로, `oracle` 및 `diffuser` 를 가지고 있으므로 이를 Grover 알고리즘을 수행하는 회로에 함께 넣을 수 있습니다. 다음 세 단계를 기억하십시오.\n",
        "\n",
        "1. 큐비트를 $|s\\rangle$ 상태로 초기화합니다.\n",
        "2. 오라클을 수행합니다\n",
        "3. 디퓨저를 수행합니다"
      ]
    },
    {
      "cell_type": "code",
      "execution_count": 13,
      "metadata": {
      },
      "outputs": [
        {
          "data": {
            "image/svg+xml": [
              "<?xml version=\"1.0\" encoding=\"UTF-8\"?><!DOCTYPE svg  PUBLIC '-//W3C//DTD SVG 1.1//EN'  'http://www.w3.org/Graphics/SVG/1.1/DTD/svg11.dtd'><svg width=\"567.94pt\" height=\"172pt\" version=\"1.1\" viewBox=\"0 0 567.94 172\" xmlns=\"http://www.w3.org/2000/svg\" xmlns:xlink=\"http://www.w3.org/1999/xlink\"><defs><style type=\"text/css\">*{stroke-linejoin: round; stroke-linecap: butt}</style></defs><path d=\"m0 172h567.94v-172h-567.94z\" fill=\"#ffffff\"/><path d=\"m477.76 126.45h12.052l-6.026 8.6914z\" clip-path=\"url(#p246bac0a13)\" fill=\"#778899\"/><path d=\"m524.12 126.45h12.052l-6.026 8.6914z\" clip-path=\"url(#p246bac0a13)\" fill=\"#778899\"/><path d=\"m87.926 44.283h468.18\" clip-path=\"url(#p246bac0a13)\" fill=\"none\" stroke=\"#000000\" stroke-linecap=\"square\" stroke-width=\"2\"/><path d=\"m87.926 90.637h468.18\" clip-path=\"url(#p246bac0a13)\" fill=\"none\" stroke=\"#000000\" stroke-linecap=\"square\" stroke-width=\"2\"/><path d=\"m87.926 135.48h468.18\" clip-path=\"url(#p246bac0a13)\" fill=\"none\" stroke=\"#778899\" stroke-linecap=\"square\" stroke-width=\"2\"/><path d=\"m87.926 138.5h468.18\" clip-path=\"url(#p246bac0a13)\" fill=\"none\" stroke=\"#778899\" stroke-linecap=\"square\" stroke-width=\"2\"/><path d=\"m97.197 141.63 4.6354-9.2708\" clip-path=\"url(#p246bac0a13)\" fill=\"none\" stroke=\"#778899\" stroke-linecap=\"square\"/><path d=\"m159.31 90.637v-46.354\" clip-path=\"url(#p246bac0a13)\" fill=\"none\" stroke=\"#1192e8\" stroke-linecap=\"square\" stroke-width=\"2\"/><path d=\"m298.37 90.637v-46.354\" clip-path=\"url(#p246bac0a13)\" fill=\"none\" stroke=\"#1192e8\" stroke-linecap=\"square\" stroke-width=\"2\"/><path d=\"m428.4 67.46h18.078v-46.354h-18.078z\" clip-path=\"url(#p246bac0a13)\" fill=\"#bdbdbd\" opacity=\".6\"/><path d=\"m428.4 113.81h18.078v-46.354h-18.078z\" clip-path=\"url(#p246bac0a13)\" fill=\"#bdbdbd\" opacity=\".6\"/><path d=\"m485.3 44.283v82.162\" clip-path=\"url(#p246bac0a13)\" fill=\"none\" stroke=\"#778899\" stroke-linecap=\"square\" stroke-width=\"2\"/><path d=\"m482.28 44.283v82.162\" clip-path=\"url(#p246bac0a13)\" fill=\"none\" stroke=\"#778899\" stroke-linecap=\"square\" stroke-width=\"2\"/><path d=\"m531.65 90.637v35.808\" clip-path=\"url(#p246bac0a13)\" fill=\"none\" stroke=\"#778899\" stroke-linecap=\"square\" stroke-width=\"2\"/><path d=\"m528.64 90.637v35.808\" clip-path=\"url(#p246bac0a13)\" fill=\"none\" stroke=\"#778899\" stroke-linecap=\"square\" stroke-width=\"2\"/><path d=\"m159.31 90.637v-46.354\" clip-path=\"url(#p246bac0a13)\" fill=\"none\" stroke=\"#1192e8\" stroke-linecap=\"square\" stroke-width=\"2\"/><path d=\"m298.37 90.637v-46.354\" clip-path=\"url(#p246bac0a13)\" fill=\"none\" stroke=\"#1192e8\" stroke-linecap=\"square\" stroke-width=\"2\"/><path d=\"m97.892 59.348h30.13v-30.13h-30.13z\" clip-path=\"url(#p246bac0a13)\" fill=\"#1192e8\" stroke=\"#1192e8\" stroke-width=\"1.5\"/><path d=\"m97.892 105.7h30.13v-30.13h-30.13z\" clip-path=\"url(#p246bac0a13)\" fill=\"#1192e8\" stroke=\"#1192e8\" stroke-width=\"1.5\"/><path d=\"m159.31 48.803c1.1986 0 2.3482-0.4762 3.1958-1.3237 0.84753-0.84753 1.3237-1.9972 1.3237-3.1958 0-1.1986-0.4762-2.3482-1.3237-3.1958-0.84753-0.84753-1.9972-1.3237-3.1958-1.3237-1.1986 0-2.3482 0.4762-3.1958 1.3237s-1.3237 1.9972-1.3237 3.1958c0 1.1986 0.4762 2.3482 1.3237 3.1958s1.9972 1.3237 3.1958 1.3237z\" clip-path=\"url(#p246bac0a13)\" fill=\"#1192e8\" stroke=\"#1192e8\" stroke-width=\"1.5\"/><path d=\"m159.31 95.157c1.1986 0 2.3482-0.4762 3.1958-1.3237 0.84753-0.84753 1.3237-1.9972 1.3237-3.1958s-0.4762-2.3482-1.3237-3.1958c-0.84753-0.84753-1.9972-1.3237-3.1958-1.3237-1.1986 0-2.3482 0.4762-3.1958 1.3237-0.84753 0.84753-1.3237 1.9972-1.3237 3.1958s0.4762 2.3482 1.3237 3.1958c0.84753 0.84753 1.9972 1.3237 3.1958 1.3237z\" clip-path=\"url(#p246bac0a13)\" fill=\"#1192e8\" stroke=\"#1192e8\" stroke-width=\"1.5\"/><path d=\"m190.6 59.348h30.13v-30.13h-30.13z\" clip-path=\"url(#p246bac0a13)\" fill=\"#1192e8\" stroke=\"#1192e8\" stroke-width=\"1.5\"/><path d=\"m190.6 105.7h30.13v-30.13h-30.13z\" clip-path=\"url(#p246bac0a13)\" fill=\"#1192e8\" stroke=\"#1192e8\" stroke-width=\"1.5\"/><path d=\"m236.95 59.348h30.13v-30.13h-30.13z\" clip-path=\"url(#p246bac0a13)\" fill=\"#005d5d\" stroke=\"#005d5d\" stroke-width=\"1.5\"/><path d=\"m236.95 105.7h30.13v-30.13h-30.13z\" clip-path=\"url(#p246bac0a13)\" fill=\"#005d5d\" stroke=\"#005d5d\" stroke-width=\"1.5\"/><path d=\"m298.37 48.803c1.1986 0 2.3482-0.4762 3.1958-1.3237 0.84753-0.84753 1.3237-1.9972 1.3237-3.1958 0-1.1986-0.4762-2.3482-1.3237-3.1958-0.84753-0.84753-1.9972-1.3237-3.1958-1.3237s-2.3482 0.4762-3.1958 1.3237c-0.84753 0.84753-1.3237 1.9972-1.3237 3.1958 0 1.1986 0.4762 2.3482 1.3237 3.1958 0.84753 0.84753 1.9972 1.3237 3.1958 1.3237z\" clip-path=\"url(#p246bac0a13)\" fill=\"#1192e8\" stroke=\"#1192e8\" stroke-width=\"1.5\"/><path d=\"m298.37 95.157c1.1986 0 2.3482-0.4762 3.1958-1.3237 0.84753-0.84753 1.3237-1.9972 1.3237-3.1958s-0.4762-2.3482-1.3237-3.1958c-0.84753-0.84753-1.9972-1.3237-3.1958-1.3237s-2.3482 0.4762-3.1958 1.3237c-0.84753 0.84753-1.3237 1.9972-1.3237 3.1958s0.4762 2.3482 1.3237 3.1958c0.84753 0.84753 1.9972 1.3237 3.1958 1.3237z\" clip-path=\"url(#p246bac0a13)\" fill=\"#1192e8\" stroke=\"#1192e8\" stroke-width=\"1.5\"/><path d=\"m329.66 59.348h30.13v-30.13h-30.13z\" clip-path=\"url(#p246bac0a13)\" fill=\"#005d5d\" stroke=\"#005d5d\" stroke-width=\"1.5\"/><path d=\"m329.66 105.7h30.13v-30.13h-30.13z\" clip-path=\"url(#p246bac0a13)\" fill=\"#005d5d\" stroke=\"#005d5d\" stroke-width=\"1.5\"/><path d=\"m376.02 59.348h30.13v-30.13h-30.13z\" clip-path=\"url(#p246bac0a13)\" fill=\"#1192e8\" stroke=\"#1192e8\" stroke-width=\"1.5\"/><path d=\"m376.02 105.7h30.13v-30.13h-30.13z\" clip-path=\"url(#p246bac0a13)\" fill=\"#1192e8\" stroke=\"#1192e8\" stroke-width=\"1.5\"/><path d=\"m468.72 59.348h30.13v-30.13h-30.13z\" clip-path=\"url(#p246bac0a13)\" fill=\"#121619\" stroke=\"#121619\" stroke-width=\"1.5\"/><path d=\"m494.33 48.803c0-2.7958-1.1118-5.4799-3.0887-7.4568s-4.661-3.0887-7.4568-3.0887c-2.7958 0-5.4799 1.1118-7.4568 3.0887s-3.0887 4.661-3.0887 7.4568\" clip-path=\"url(#p246bac0a13)\" fill=\"none\" stroke=\"#ffffff\" stroke-width=\"2\"/><path d=\"m483.79 48.803 10.546-10.546\" clip-path=\"url(#p246bac0a13)\" fill=\"none\" stroke=\"#ffffff\" stroke-linecap=\"square\" stroke-width=\"2\"/><path d=\"m515.08 105.7h30.13v-30.13h-30.13z\" clip-path=\"url(#p246bac0a13)\" fill=\"#121619\" stroke=\"#121619\" stroke-width=\"1.5\"/><path d=\"m540.69 95.157c0-2.7958-1.1118-5.4799-3.0887-7.4568s-4.661-3.0887-7.4568-3.0887-5.4799 1.1118-7.4568 3.0887-3.0887 4.661-3.0887 7.4568\" clip-path=\"url(#p246bac0a13)\" fill=\"none\" stroke=\"#ffffff\" stroke-width=\"2\"/><path d=\"m530.14 95.157 10.546-10.546\" clip-path=\"url(#p246bac0a13)\" fill=\"none\" stroke=\"#ffffff\" stroke-linecap=\"square\" stroke-width=\"2\"/><g clip-path=\"url(#p246bac0a13)\"><g transform=\"translate(60.617 48.734) scale(.1625 -.1625)\"><defs><path id=\"DejaVuSans-Oblique-71\" transform=\"scale(.015625)\" d=\"m2669 525q-231-303-546-460-314-156-695-156-531 0-833 358-301 358-301 986 0 506 186 978t533 847q225 244 517 375t614 131q387 0 637-153t363-462l100 525h578l-934-4813h-579l360 1844zm-1778 813q0-463 193-705 194-242 560-242 544 0 928 520t384 1264q0 450-199 689-198 239-569 239-272 0-504-127-231-126-403-370-181-256-286-600-104-343-104-668z\"/><path id=\"DejaVuSans-30\" transform=\"scale(.015625)\" d=\"m2034 4250q-487 0-733-480-245-479-245-1442 0-959 245-1439 246-480 733-480 491 0 736 480 246 480 246 1439 0 963-246 1442-245 480-736 480zm0 500q785 0 1199-621 414-620 414-1801 0-1178-414-1799-414-620-1199-620-784 0-1198 620-414 621-414 1799 0 1181 414 1801 414 621 1198 621z\"/></defs><use xlink:href=\"#DejaVuSans-Oblique-71\"/><use transform=\"translate(63.477 -16.406) scale(.7)\" xlink:href=\"#DejaVuSans-30\"/></g></g><g clip-path=\"url(#p246bac0a13)\"><g transform=\"translate(60.617 95.088) scale(.1625 -.1625)\"><defs><path id=\"DejaVuSans-31\" transform=\"scale(.015625)\" d=\"m794 531h1031v3560l-1122-225v575l1116 225h631v-4135h1031v-531h-2687v531z\"/></defs><use xlink:href=\"#DejaVuSans-Oblique-71\"/><use transform=\"translate(63.477 -16.406) scale(.7)\" xlink:href=\"#DejaVuSans-31\"/></g></g><g clip-path=\"url(#p246bac0a13)\"><g transform=\"translate(92.561 130.19) scale(.104 -.104)\"><defs><path id=\"DejaVuSans-32\" transform=\"scale(.015625)\" d=\"m1228 531h2203v-531h-2962v531q359 372 979 998 621 627 780 809 303 340 423 576 121 236 121 464 0 372-261 606-261 235-680 235-297 0-627-103-329-103-704-313v638q381 153 712 231 332 78 607 78 725 0 1156-363 431-362 431-968 0-288-108-546-107-257-392-607-78-91-497-524-418-433-1181-1211z\"/></defs><use xlink:href=\"#DejaVuSans-32\"/></g></g><g clip-path=\"url(#p246bac0a13)\"><g transform=\"translate(34.404 141.48) scale(.1625 -.1625)\"><defs><path id=\"DejaVuSans-6d\" transform=\"scale(.015625)\" d=\"m3328 2828q216 388 516 572t706 184q547 0 844-383 297-382 297-1088v-2113h-578v2094q0 503-179 746-178 244-543 244-447 0-707-297-259-296-259-809v-1978h-578v2094q0 506-178 748t-550 242q-441 0-701-298-259-298-259-808v-1978h-578v3500h578v-544q197 322 472 475t653 153q382 0 649-194 267-193 395-562z\"/><path id=\"DejaVuSans-65\" transform=\"scale(.015625)\" d=\"m3597 1894v-281h-2644q38-594 358-905t892-311q331 0 642 81t618 244v-544q-310-131-635-200t-659-69q-838 0-1327 487-489 488-489 1320 0 859 464 1363 464 505 1252 505 706 0 1117-455 411-454 411-1235zm-575 169q-6 471-264 752-258 282-683 282-481 0-770-272t-333-766l2050 4z\"/><path id=\"DejaVuSans-61\" transform=\"scale(.015625)\" d=\"m2194 1759q-697 0-966-159t-269-544q0-306 202-486 202-179 548-179 479 0 768 339t289 901v128h-572zm1147 238v-1997h-575v531q-197-318-491-470t-719-152q-537 0-855 302-317 302-317 808 0 590 395 890 396 300 1180 300h807v57q0 397-261 614t-733 217q-300 0-585-72-284-72-546-216v532q315 122 612 182 297 61 578 61 760 0 1135-394 375-393 375-1193z\"/><path id=\"DejaVuSans-73\" transform=\"scale(.015625)\" d=\"m2834 3397v-544q-243 125-506 187-262 63-544 63-428 0-642-131t-214-394q0-200 153-314t616-217l197-44q612-131 870-370t258-667q0-488-386-773-386-284-1061-284-281 0-586 55t-642 164v594q319-166 628-249 309-82 613-82 406 0 624 139 219 139 219 392 0 234-158 359-157 125-692 241l-200 47q-534 112-772 345-237 233-237 639 0 494 350 762 350 269 994 269 318 0 599-47 282-46 519-140z\"/></defs><use xlink:href=\"#DejaVuSans-6d\"/><use x=\"97.412109\" xlink:href=\"#DejaVuSans-65\"/><use x=\"158.935547\" xlink:href=\"#DejaVuSans-61\"/><use x=\"220.214844\" xlink:href=\"#DejaVuSans-73\"/></g></g><g clip-path=\"url(#p246bac0a13)\"><g transform=\"translate(108.07 47.87) scale(.13 -.13)\" fill=\"#ffffff\"><defs><path id=\"DejaVuSans-48\" transform=\"scale(.015625)\" d=\"m628 4666h631v-1913h2294v1913h631v-4666h-631v2222h-2294v-2222h-631v4666z\"/></defs><use xlink:href=\"#DejaVuSans-48\"/></g></g><g clip-path=\"url(#p246bac0a13)\"><g transform=\"translate(108.07 94.224) scale(.13 -.13)\" fill=\"#ffffff\"><use xlink:href=\"#DejaVuSans-48\"/></g></g><g clip-path=\"url(#p246bac0a13)\"><g transform=\"translate(200.78 47.87) scale(.13 -.13)\" fill=\"#ffffff\"><use xlink:href=\"#DejaVuSans-48\"/></g></g><g clip-path=\"url(#p246bac0a13)\"><g transform=\"translate(200.78 94.224) scale(.13 -.13)\" fill=\"#ffffff\"><use xlink:href=\"#DejaVuSans-48\"/></g></g><g clip-path=\"url(#p246bac0a13)\"><g transform=\"translate(247.57 47.87) scale(.13 -.13)\" fill=\"#ffffff\"><defs><path id=\"DejaVuSans-58\" transform=\"scale(.015625)\" d=\"m403 4666h678l1160-1735 1165 1735h678l-1500-2241 1600-2425h-678l-1312 1984-1322-1984h-681l1665 2491-1453 2175z\"/></defs><use xlink:href=\"#DejaVuSans-58\"/></g></g><g clip-path=\"url(#p246bac0a13)\"><g transform=\"translate(247.57 94.224) scale(.13 -.13)\" fill=\"#ffffff\"><use xlink:href=\"#DejaVuSans-58\"/></g></g><g clip-path=\"url(#p246bac0a13)\"><g transform=\"translate(340.27 47.87) scale(.13 -.13)\" fill=\"#ffffff\"><use xlink:href=\"#DejaVuSans-58\"/></g></g><g clip-path=\"url(#p246bac0a13)\"><g transform=\"translate(340.27 94.224) scale(.13 -.13)\" fill=\"#ffffff\"><use xlink:href=\"#DejaVuSans-58\"/></g></g><g clip-path=\"url(#p246bac0a13)\"><g transform=\"translate(386.19 47.87) scale(.13 -.13)\" fill=\"#ffffff\"><use xlink:href=\"#DejaVuSans-48\"/></g></g><g clip-path=\"url(#p246bac0a13)\"><g transform=\"translate(386.19 94.224) scale(.13 -.13)\" fill=\"#ffffff\"><use xlink:href=\"#DejaVuSans-48\"/></g></g><path d=\"m437.43 21.106v46.354\" clip-path=\"url(#p246bac0a13)\" fill=\"none\" stroke=\"#000000\" stroke-dasharray=\"3.7,1.6\"/><path d=\"m437.43 67.46v46.354\" clip-path=\"url(#p246bac0a13)\" fill=\"none\" stroke=\"#000000\" stroke-dasharray=\"3.7,1.6\"/><g clip-path=\"url(#p246bac0a13)\"><g transform=\"translate(495.38 130.19) scale(.104 -.104)\"><use xlink:href=\"#DejaVuSans-30\"/></g></g><g clip-path=\"url(#p246bac0a13)\"><g transform=\"translate(541.73 130.19) scale(.104 -.104)\"><use xlink:href=\"#DejaVuSans-31\"/></g></g><defs><clipPath id=\"p246bac0a13\"><rect x=\"7.2\" y=\"7.2\" width=\"553.54\" height=\"157.6\"/></clipPath></defs></svg>"
            ],
            "text/plain": [
              "<Figure size 998.442x284.278 with 1 Axes>"
            ]
          },
          "execution_count": 13,
          "metadata": {
          },
          "output_type": "execute_result"
        }
      ],
      "source": [
        "grover = QuantumCircuit(2)\n",
        "grover.h([0,1])  # initialise |s>\n",
        "grover = grover.compose(oracle)\n",
        "grover = grover.compose(diffuser)\n",
        "grover.measure_all()\n",
        "grover.draw()"
      ]
    },
    {
      "cell_type": "markdown",
      "metadata": {
      },
      "source": [
        "그래서 시뮬레이션할 때 $|11\\rangle$을 측정할 확률이 100%임을 알 수 있습니다. 이것이 우리 오라클의 해답이었습니다!"
      ]
    },
    {
      "cell_type": "code",
      "execution_count": 14,
      "metadata": {
      },
      "outputs": [
        {
          "data": {
            "text/plain": [
              "{'11': 1024}"
            ]
          },
          "execution_count": 14,
          "metadata": {
          },
          "output_type": "execute_result"
        }
      ],
      "source": [
        "from qiskit import Aer\n",
        "sim = Aer.get_backend('aer_simulator')\n",
        "sim.run(grover).result().get_counts()"
      ]
    },
    {
      "cell_type": "markdown",
      "metadata": {
      },
      "source": [
        "<!-- ::: q-block.exercise -->\n",
        "\n",
        "### 도전\n",
        "\n",
        "이 회로의 오라클을 위에서 생성한 다른 오라클로 교체해 보십시오. 예상한 결과가 나오나요?\n",
        "\n",
        "[IBM Quantum Lab](https://quantum-computing.ibm.com/lab)을 사용해 보십시오.\n",
        "\n",
        "<!-- ::: -->"
      ]
    },
    {
      "cell_type": "markdown",
      "metadata": {
        "formulas": {
          "Big-N": {
            "meaning": "This is the number of entries in a database, or the number of possible inputs to search through."
          },
          "lil-n": {
            "meaning": "This is the number of bits in our problem."
          }
        }
      },
      "source": [
        "## SAT 문제들은 어렵습니다\n",
        "\n",
        "![Graph of problem size vs algorithm running time. Both random guessing and Grover's algorithm are shown as exponential curves, with Grover growing slightly slower than random guessing.](images/grover/rg-vs-grover-sat.svg)\n",
        "\n",
        "무작위 추측은 데이터베이스의 항목 수에 따라 선형적으로 증가합니다, 그리고 (우리가 훨씬 더 잘할 수 있다는 것을 알고 있지만) 이게 실제로 그렇게 나쁘지는 않습니다. 하지만 우리는 일반적으로 알고리즘이 *비트 단위* 의 입력 길이에 따라 어떻게 성장하는지 측정합니다, 즉 이 두 가지가 어떤 관계일까요? SAT 문제의 각 추가 변수(비트)는 가능한 해답(즉, 데이터베이스 항목)의 수를 *두 배로* 하므로 검색 공간은 비트 수에 따라 기하급수적으로 증가합니다.\n",
        "\n",
        "$$\\cssId{Big-N}{N} = 2^\\cssId{lil-n}{n}$$\n",
        "\n",
        "랜덤 추측은 $N$와 함께 선형적으로 증가하기 때문에 실행 시간은 대략 $2^n$만큼 증가합니다.\n",
        "\n",
        "<!-- ::: q-block.exercise -->\n",
        "\n",
        "### 막간 퀴즈\n",
        "\n",
        "<!-- ::: q-quiz(goal=\"intro-grover-6\") -->\n",
        "\n",
        "<!-- ::: .question -->\n",
        "\n",
        "Grover 알고리즘의 실행 시간은 입력 비트 수에 따라 (해가 하나뿐인 경우) 어떻게 증가합니까?\n",
        "\n",
        "<!-- ::: -->\n",
        "\n",
        "<!-- ::: .option -->\n",
        "\n",
        "1. $\\sqrt{n}$\n",
        "\n",
        "<!-- ::: -->\n",
        "\n",
        "<!-- ::: .option -->\n",
        "\n",
        "1. $2^n$\n",
        "\n",
        "<!-- ::: -->\n",
        "\n",
        "<!-- ::: .option(correct) -->\n",
        "\n",
        "1. $\\sqrt{2^n}$\n",
        "\n",
        "<!-- ::: -->\n",
        "\n",
        "<!-- ::: .option -->\n",
        "\n",
        "1. $\\sqrt{2^{n/2}}$\n",
        "\n",
        "<!-- ::: -->\n",
        "\n",
        "<!-- ::: -->\n",
        "\n",
        "<!-- ::: -->\n",
        "\n",
        "## 구조의 활용\n",
        "\n",
        "지금까지 우리는 SAT 문제를 완전히 구조화되지 않은 것처럼 취급했지만 정렬되지 않은 전화번호부와 달리 검색에 도움이 될 몇 가지 단서를 *가지고* 있습니다. SAT 문제는 블랙박스가 아니라 개별 절의 집합이며 이 절을 사용하여 정답을 찾을 수 있습니다. 이진 검색만큼 효율적인 것은 없지만 무작위 추측보다는 훨씬 낫습니다. SAT 문제의 구조를 사용하는 하나의 (고전적인) 알고리즘은 Schöning의 알고리즘입니다.\n",
        "\n",
        "![Graph of problem size vs algorithm running time. Random guessing, Grover's algorithm and Schöning's algorithm are shown as exponential curves, with Schöning growing slightly slower than Grover, which in turn grows slower than random guessing](images/grover/rg-vs-grov-vs-schoning.svg)\n",
        "\n",
        "무작위 추측과 마찬가지로 Schöning의 알고리즘은 무작위로 입력을 선택하고 작동하는지 확인합니다. 그러나 무작위 추측과 달리 이 문자열을 그냥 버리지 않습니다. 대신, 만족되지 않은 절을 선택하고 해당 절을 만족시키기 위해 문자열의 비트를 토글합니다. 성가시게도 이 새로운 문자열은 이전에 만족했던 다른 절을 만족시키지 못할 수 있지만 평균적으로 이러한 방식으로 비트를 몇 번 토글하는 것이 좋습니다. 초기 추측이 충분히 가까웠다면 올바른 솔루션을 발견할 가능성이 높습니다. 그렇지 않은 경우 몇 단계 후에 컴퓨터가 완전히 새로운 무작위 추측으로 다시 시작됩니다. 3-SAT의 경우((3보다 큰)-SAT에서는 안되지만) 이 알고리즘은 대략 $1.3334^n$로 성장합니다. 이는 무작위 추측을 능가할 뿐만 아니라 Grover 알고리즘을 능가합니다!\n",
        "\n",
        "![Graph of problem size vs algorithm running time. The random guessing, Grover, Schöning, and ](images/grover/all-algos.svg)\n",
        "\n",
        "언뜻 보기에는 명확하지 않을 수도 있지만 실제로 Grover과 Schöning의 알고리즘을 결합하여 개별적으로보다 더 나은 것을 얻을 수 있습니다. Schöning 알고리즘의 비트 토글 부분을 수행하는 회로를 생성하면 이를 신탁으로 사용하고 Grover 알고리즘을 사용하여 최상의 \"초기 추측\"을 찾을 수 있습니다. 이 과정에서 이것에 대해 다루지 않을 것이지만 이것을 조사를 하는 것은 재미있는 프로젝트가 될 것입니다!"
      ]
    }
  ],
  "metadata": {
    "kernelspec": {
      "display_name": "Python 3",
      "language": "python",
      "name": "python3"
    },
    "language_info": {
      "codemirror_mode": {
        "name": "ipython",
        "version": 3
      },
      "file_extension": ".py",
      "mimetype": "text/x-python",
      "name": "python",
      "nbconvert_exporter": "python",
      "pygments_lexer": "ipython3",
      "version": "3.9"
    }
  },
  "nbformat": 4,
  "nbformat_minor": 4
}
