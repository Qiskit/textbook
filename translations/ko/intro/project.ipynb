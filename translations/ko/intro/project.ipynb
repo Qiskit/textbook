{
  "cells": [
    {
      "cell_type": "markdown",
      "metadata": {
      },
      "source": [
        "# 프로젝트"
      ]
    },
    {
      "cell_type": "markdown",
      "metadata": {
        "gloss": {
          "git": {
            "text": "Git is a program you can use to track changes to computer files. Git tracks the entire state of a folder (known as a Git repository).",
            "title": "Git"
          },
          "github": {
            "text": "Github is a website you can use to host your project. Similar to video / image sharing websites, but aimed at software developers. As well as hosting software, Github also makes it easy to display your project and collaborate with others.",
            "title": "GitHub"
          },
          "slack": {
            "text": "Slack is a messaging app.",
            "title": "Slack"
          }
        }
      },
      "source": [
        "## 축하합니다!\n",
        "\n",
        "![Trophy](images/project/trophy.png)\n",
        "\n",
        "축하합니다! 본 코스의 교육 과정을 마쳤습니다. 다음을 비롯하여 많은 것을 배웠습니다.\n",
        "\n",
        "- 다양한 알고리즘을 측정하고 비교하는 방법\n",
        "- 연산을 비트와 게이트로 나누는 방법\n",
        "- 양자 간섭이란 무엇이며, 그것이 미치는 영향\n",
        "- 양자 얽힘이란 무엇이며, 어떻게 얽힘이 양자 컴퓨터를 시뮬레이션하기 어렵게 하는지\n",
        "- 양자 컴퓨터를 사용하여 검색 알고리즘을 개선하는 방법\n",
        "\n",
        "## 가이드 프로젝트 완료\n",
        "\n",
        "양자 컴퓨팅에 대해 배우는 것이 즐거웠기를 바랍니다. 그렇다면 이제 관련 프로젝트에 도전해 보는 것이 어떨까요? 프로젝트에서는 관심있는 분야를 찾고 연구하면 됩니다. 프로젝트의 최종 결과물의 형태는 블로그 포스팅에서부터 Qiskit 본 문서를 개선하는 것까지 어느것이든 가능합니다.\n",
        "\n",
        "### 1단계: 커뮤니티에 가입하기\n",
        "\n",
        "Qiskit [Slack](gloss:slack)에 아직 들어오지 않으셨나요? Qiskit [Slack](gloss:slack) 작업공간에서 다양한 질문을 하고 지원을 받을 수 있습니다. Qiskit 개발자뿐만 아니라 많은 학생들 및 열정적인 사람들과 함께 이 온라인 교과서를 가지고 어울릴 수 있습니다. 이 [링크](https://qisk.it/join-slack)를 통해 참여하실 수 있으며, [`#textbook-projects`](https://qiskit.slack.com/archives/C028AGU6KDX) 채널에 자신을 소개할 수 있습니다.\n",
        "\n",
        "### 2단계: GitHub 시작하기\n",
        "\n",
        "[GitHub](gloss:github)를 사용하여 다음을 수행할 수 있습니다.\n",
        "\n",
        "- 작성한 코드를 표시합니다.\n",
        "- [GitHub 페이지](https://pages.github.com/)를 사용하여 자신만의 웹 페이지(예: 블로그 또는 온라인 데모용)를 만들 수 있습니다.\n",
        "- [Qiskit](https://github.com/Qiskit/qiskit-terra) 저장소를 Fork(GitHub에서 타인의 저장소를 자신의 저장소로 복제하는 것)하고 기여를 할 수 있습니다.\n",
        "\n",
        "[Git](gloss:git)과 GitHub는 훌륭한 도구이지만 전문 용어도 종종 사용됩니다. 이러한 용어들에 대한 설명이 담긴 말풍선을 제공하고 있습니다.\n",
        "\n",
        "[여기](https://docs.github.com/en/get-started/quickstart)에서 GitHub 가이드를 참고하실 수 있습니다."
      ]
    },
    {
      "cell_type": "markdown",
      "metadata": {
      },
      "source": [
        "### 3단계: 프로젝트 수행하기\n",
        "\n",
        "어떠한 것이든지 원하는 프로젝트를 시도해볼 수 있습니다. [`#textbook-projects`](https://qiskit.slack.com/archives/C028AGU6KDX) Slack 채널에 아이디어를 게시하여 멘토로부터 조언을 받고 협업할 다른 사람들을 찾을 수 있습니다.\n",
        "\n",
        "여러분의 상상력을 발휘할 수 있는 몇 가지 프로젝트 아이디어를 소개합니다. 각 프로젝트는 대략 쉬운 것부터 어려운 순으로 나열하였습니다. 이 아이디어를 활용하거나 전혀 새로운 것들을 시도해보셔도 됩니다!\n",
        "\n",
        "<!-- ::: q-block.tabs -->\n",
        "\n",
        "## 프로젝트 아이디어\n",
        "\n",
        "<!-- ::: tab -->\n",
        "\n",
        "### 글쓰기\n",
        "\n",
        "글쓰기를 좋아한다면:\n",
        "\n",
        "- 배운 내용과 경험을 블로그에 게시해보세요. 자신의 블로그에 양자 컴퓨팅 혹은 그 밖의 관심 분야에 대한 여정을 기록해보세요.\n",
        "- 예를 들어 \"수학을 싫어하는 사람\" 또는 \"퍼즐을 좋아하는 사람\"과 같은 특정 청중에게 Hardy의 역설에 대해 설명하는 블로그 게시물을 작성해보세요.\n",
        "- Qiskit 교과서 GitHub 저장소에 있는 미해결 문제를 해결하거나, 개선될 수 있는 부분을 제안해보세요.\n",
        "- 제안된 양자 컴퓨팅 어플리케이션을 조사해보세요. 어떤 이점이 있습니까? 그리고 이 이점을 활용하려면 양자 컴퓨터에서 어떤 성능이 필요할까요? 무모한 주장과 유사과학을 조심하세요. 조사 결과를 블로그 게시물로 작성해보세요.\n",
        "\n",
        "<!-- ::: tab -->\n",
        "\n",
        "### 코드 작성\n",
        "\n",
        "코드에 친숙하다면:\n",
        "\n",
        "- 문자열(예: `01101`)이 입력되면 $|01101\\rangle$의 위상을 반전시키고 나머지 상태는 그대로 두는 `QuantumCircuit`을 반환하는 오라클을 생성하는 프로그램을 만들어보세요.\n",
        "- Qiskit Terra 레포에서 열린 문제를 해결하세요.\n",
        "- (이전 페이지에서 `PhaseOracle` 클래스가 했던 것처럼) 문제에서 오라클 회로를 생성하는 프로그램을 만들어보세요. 문제의 크기가 커짐에 따라 회로의 크기가 어떻게 증가하는지 평가해보세요.\n",
        "- [양자 게임](https://github.com/qiskit-community/Qisge)을 만들어 보세요.\n",
        "\n",
        "<!-- ::: tab -->\n",
        "\n",
        "### 조금 더 이론적으로 접근하기\n",
        "\n",
        "수학적으로 더 접근하고 싶다면:\n",
        "\n",
        "- 해답이 여러개인 경우 Grover의 알고리즘이 오라클에 얼마나 많이 검색해야하는지 확인해보세요. 작업 결과를 블로그에 게시해보세요.\n",
        "- \"양자 컴퓨팅을 위한 수학\" 소개글을 작성해보세요. 다른 양자 컴퓨팅 교과서를 읽는데 필요한 수학을 연구하고 새로운 학습자를 위한 가이드를 작성해보세요.\n",
        "- Schöning의 알고리즘과 Grover의 알고리즘을 결합하는 방법을 조사해보세요. 이를 위한 회로는 어떻게 생겼을까요? 그 회로에 잠재적인 문제가 있을까요?\n",
        "\n",
        "<!-- ::: tab -->\n",
        "\n",
        "### 그 외\n",
        "\n",
        "조금 가볍게 시작해본다면:\n",
        "\n",
        "- 양자 컴퓨팅에 대한 노래를 만들어보세요. 그리고 Soundcloud 또는 YouTube에 게시해보세요.\n",
        "- 학습과정에서 경험한 흥미로운 개념을 나타내는 예술적인 작품(혹은 표현)을 만들어보세요. 그리고 게시하고 설명하는 짧은 블로그 글을 작성해보세요.\n",
        "- Qiskit 및 [MatPlotLib](https://matplotlib.org/) (또는 [Bokeh](https://docs.bokeh.org/en/latest/index.html) 등)를 사용하여 시각적으로 흥미로운 것을 만들어보세요. 그것을 게시하고 설명하는 짧은 블로그 글을 작성해보세요.\n",
        "\n",
        "<!-- ::: -->\n",
        "\n",
        "<!-- ::: -->"
      ]
    },
    {
      "cell_type": "markdown",
      "metadata": {
      },
      "source": [
        "### 4단계: 즐기기!\n",
        "\n",
        "계획한 프로젝트 목표를 달성하기 위해 시작해봅시다. 프로젝트가 너무 어렵거나, 막히거나, 지루할 경우 [`#textbook-projects`](https://qiskit.slack.com/archives/C028AGU6KDX) 채널에서 도움을 요청하세요. 많은 멘토들이 프로젝트의 올바른 방향을 안내해주거나, 프로젝트 목표를 수정하는 데 도움을 줄 것 입니다.\n",
        "\n",
        "### 5단계: 성과 공유\n",
        "\n",
        "열심히 프로젝트를 수행한 후 [`#textbook-projects`](https://qiskit.slack.com/archives/C028AGU6KDX) 채널에서 다른 사람들과 공유해보세요. 또, GitHub 프로필과 GitHub로 작성한 웹 페이지를 운영하는 경우 프로젝트를 수행하고 게시한 것을 통해 다른 사람들에게 여러분의 양자 세계에 대한 지식과 경험을 증명할 수 있습니다 (예: 지원서 작성 또는 인터뷰 등)."
      ]
    }
  ],
  "metadata": {
    "kernelspec": {
      "display_name": "Python 3",
      "language": "python",
      "name": "python3"
    },
    "language_info": {
      "codemirror_mode": {
        "name": "ipython",
        "version": 3
      },
      "file_extension": ".py",
      "mimetype": "text/x-python",
      "name": "python",
      "nbconvert_exporter": "python",
      "pygments_lexer": "ipython3",
      "version": "3.9"
    }
  },
  "nbformat": 4,
  "nbformat_minor": 4
}
