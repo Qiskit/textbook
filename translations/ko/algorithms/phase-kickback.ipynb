{
  "cells": [
    {
      "cell_type": "markdown",
      "metadata": {
      },
      "source": [
        "# 위상 반동\n",
        "\n",
        "여기에서는 \"위상 반동\"으로 알려진 제어된 양자 게이트의 동작을 다룰 것입니다. 이 흥미로운 양자 효과는 쇼어(Shor)의 인수분해 알고리즘과 그루버(Grover)의 탐색 알고리즘을 비롯한 많은 유명한 양자 알고리즘의 중요한 구성 요소입니다."
      ]
    },
    {
      "cell_type": "markdown",
      "metadata": {
        "formulas": {
          "_control-qubit-post": {
            "meaning": "This is the state of the control qubit after the controlled gate."
          },
          "_control-qubit-pre": {
            "meaning": "This is the control qubit. This qubit is in a superposition of |0〉 and |1〉."
          },
          "_eig-val-A": {
            "meaning": "This is a complex number, which we call the <i>eigenvalue</i>."
          },
          "_eig-val-U": {
            "meaning": "This is a complex number with magnitude 1.<br><a href='https://en.wikipedia.org/wiki/Euler%27s_formula'>Read more</a>."
          },
          "_eig-vec-A": {
            "meaning": "This is a vector. In this case, this vector is an <i>eigenvector</i> of the matrix 'A'."
          },
          "_eig-vec-U": {
            "meaning": "This is a state vector, and in this case, an eigen<i>state</i> of the matrix 'U', with eigenvalue exp(2πiθ)."
          },
          "_eig-vec-X": {
            "meaning": "This is a state vector, and in this case, an eigen<i>state</i> of the X-gate, with eigenvalue -1."
          },
          "_matrix-A": {
            "meaning": "This letter represents a matrix."
          },
          "_matrix-CU": {
            "meaning": "This is the operation U, controlled by another qubit."
          },
          "_matrix-CX": {
            "meaning": "This the controlled-X (CNOT) gate."
          },
          "_matrix-U": {
            "meaning": "This letter represents a unitary matrix (e.g. a quantum gate)."
          }
        }
      },
      "source": [
        "## 고유 벡터\n",
        "\n",
        "여러분이 이미 고유벡터와 고유값에 익숙하다면 다행이지만, 그렇지 않다면 [이 곳](https://www.khanacademy.org/math/linear-algebra/alternate-bases/eigen-everything/v/linear-algebra-introduction-to-eigenvalues-and-eigenvectors) 에서 자세한 소개를 확인할 수 있습니다. 여러분이 해당 내용을 잘 *알고* 있다면 고유벡터 방정식에 익숙할 것입니다.\n",
        "\n",
        "$$ \\class{_matrix-A}{A}\\class{_eig-vec-A}{|x\\rangle} = \\class{_eig-val-A}{\\lambda}\\class{_eig-vec-A} {|x\\rangle} $$\n",
        "\n",
        "양자 컴퓨팅에서 이 식은 훨씬 더 간단합니다. 모든 상태 벡터는 크기가 1이기때문에 고유값도 크기도 1이어야 합니다. 즉, $\\lambda = e^{2\\pi i \\theta}$입니다. 따라서 양자 게이트 $U$ 및 고유 상태 $|x\\rangle$에 대해 다음이 성립됩니다.\n",
        "\n",
        "$$ \\class{_matrix-U}{U}\\class{_eig-vec-U}{|x\\rangle} = \\class{_eig-val-U}{e^{2\\pi i \\theta}}\\class{_eig-vec-U}{|x\\rangle} $$\n",
        "\n",
        "요약: 게이트가 상태 벡터의 모든 진폭을 동일한 양만큼 회전(및 회전만)하는 경우, 해당 상태는 해당 게이트의 *고유 상태* 입니다.\n",
        "\n",
        "<!-- ::: q-block -->\n",
        "\n",
        "### 고유 벡터 탐색\n",
        "\n",
        "아래 위젯을 사용하여 단일 큐비트 게이트가 단일 큐비트의 상태를 어떻게 변환하는지 확인하십시오. 어떤 상태가 어떤 게이트의 고유 상태인지 찾아낼 수 있습니까?\n",
        "\n",
        "```\n",
        "q-eigenvector-widget\n",
        "```\n",
        "\n",
        "<!-- ::: -->"
      ]
    },
    {
      "cell_type": "markdown",
      "metadata": {
      },
      "source": [
        "## 제어 게이트 및 고유 상태\n",
        "\n",
        "고유 상태의 개념에 익숙해지고 나면, 이 회로들로 다른 큐비트의 상태를 제어하려고 할 때 어떤 일이 발생하는지 생각할 수 있습니다. 예를 들어 Z-gate는 $|1\\rangle$ 상태에 작용하여  음의 전역 위상($\\theta = 0.5$)을 발생 시키는 데, 이 작업이 제어에 사용될 때 어떤 일이 발생하는지 확인해 보도록 하겠습니다.\n",
        "\n",
        "<!-- ::: q-block.tabs -->\n",
        "\n",
        "### 제어된 Z 게이트\n",
        "\n",
        "<!-- ::: tab -->\n",
        "\n",
        "### |10〉\n",
        "\n",
        "<!-- ::: column(width=200) -->\n",
        "\n",
        "만일 제어 큐비트가 $|0\\rangle$이면 동작은 간단합니다; 아무런 변화도 일어나지 않습니다.\n",
        "\n",
        "<!-- ::: column(width=400) -->\n",
        "\n",
        "![CZ 게이트에 의해 작동되는 상태 01의 2큐비트 레지스터를 보여주는 회로도. 상태는 변함이 없다](images/kickback/tabs/0/0.svg)\n",
        "\n",
        "<!-- ::: -->\n",
        "\n",
        "<!-- ::: tab -->\n",
        "\n",
        "### |11〉\n",
        "\n",
        "<!-- ::: column(width=200) -->\n",
        "\n",
        "제어 큐비트가 $|1\\rangle$이면 게이트는 전역 위상을 발생시키지만(오른쪽 이미지의 빼기 기호 참고) 큐비트의 상태는 변경되지 않습니다.\n",
        "\n",
        "<!-- ::: column(width=400) -->\n",
        "\n",
        "![CZ 게이트에 의해 작동되는 상태 01의 2큐비트 레지스터를 보여주는 회로도. 상태는 변함이 없다](images/kickback/tabs/0/1.svg)\n",
        "\n",
        "<!-- ::: -->\n",
        "\n",
        "<!-- ::: tab -->\n",
        "\n",
        "### |1+〉\n",
        "\n",
        "<!-- ::: column(width=200) -->\n",
        "\n",
        "제어된 Z 게이트는 컨트롤이 $|0\\rangle$일 때 아무 동작도 하지 않고 컨트롤이 $|1\\rangle$일 때 음의 위상을 발생시킵니다. 제어 큐비트가 중첩의 상태라면 게이트는 제어 큐비트의 $|0\\rangle$ 과 $|1\\rangle$ 상태 간의 *상대(relative)* 위상을 변경합니다.\n",
        "\n",
        "<!-- ::: column(width=400) -->\n",
        "\n",
        "![CZ 게이트에 의해 작동되는 상태 01의 2큐비트 레지스터를 보여주는 회로도. 상태는 변함이 없다](images/kickback/tabs/0/2.svg)\n",
        "\n",
        "<!-- ::: -->\n",
        "\n",
        "<!-- ::: -->\n",
        "\n",
        "<!-- ::: -->\n",
        "\n",
        "제어가 $|{+}\\rangle$이고 대상이 $|1\\rangle$이면 제어된 Z 게이트는 *제어* 큐비트의 상태를 변경하지만 대상 큐비트의 상태는 변하지 않습니다. 이 효과는 고유값이 제어 큐비트의 상태에 되돌아가 작용하기 때문에 \"위상 반동\"이라고 합니다."
      ]
    },
    {
      "cell_type": "markdown",
      "metadata": {
      },
      "source": [
        "보다 일반적으로, 양자 게이트 $U$의 고유 상태가 $|x\\rangle$일 때, $|x\\rangle$에 작용하는 $U$는 위에서 본 것처럼 전역 위상 $\\theta$를 추가합니다.\n",
        "\n",
        "$$ \\class{_matrix-U}{U}\\class{_eig-vec-U}{|x\\rangle} = \\class{_eig-val-U}{e^{2\\pi i \\theta}}\\class{_eig-vec-U}{|x\\rangle} $$\n",
        "\n",
        "$|0\\rangle$과 $|1\\rangle$의 중첩 상태로 다른 큐비트에 제어된 $U|x\\rangle$ 연산을 가하면, Z축을 중심으로 제어 큐비트를 각도 $\\theta$ 만큼 회전시키는 효과가 발생합니다. 즉:\n",
        "\n",
        "$$ \\class{_matrix-CU}{CU}\\class{_eig-vec-U}{|x\\rangle}\\class{_control-qubit-pre}{(\\alpha|0\\rangle + \\beta|1\\rangle)} = \\class{_eig-vec-U}{|x\\rangle}\\class{_control-qubit-post}{(\\alpha|0\\rangle + \\beta e^{2\\pi i \\theta}|1\\rangle)} $$"
      ]
    },
    {
      "cell_type": "markdown",
      "metadata": {
      },
      "source": [
        "위의 예제에서, 제어된 Z 게이트의 '제어'가 실제로 Z 회전을 수행하고 있음을 알 수 있습니다. 즉, 관찰만 해야 하는 큐빗까지 변화를 겪게 되는 것이지요. 이러한 이유로 제어된-Z 게이트는 두 개의 컨트롤 큐비트를 가진것으로 묘사되곤 합니다."
      ]
    },
    {
      "cell_type": "code",
      "execution_count": 1,
      "metadata": {
      },
      "outputs": [
        {
          "data": {
            "image/svg+xml": [
              "<?xml version=\"1.0\" encoding=\"UTF-8\"?><!DOCTYPE svg  PUBLIC '-//W3C//DTD SVG 1.1//EN'  'http://www.w3.org/Graphics/SVG/1.1/DTD/svg11.dtd'><svg width=\"125.12pt\" height=\"123.48pt\" version=\"1.1\" viewBox=\"0 0 125.12 123.48\" xmlns=\"http://www.w3.org/2000/svg\" xmlns:xlink=\"http://www.w3.org/1999/xlink\"><defs><style type=\"text/css\">*{stroke-linejoin: round; stroke-linecap: butt}</style></defs><path d=\"m0 123.48h125.12v-123.48h-125.12z\" fill=\"#ffffff\"/><path d=\"m63.381 43.561h49.996\" clip-path=\"url(#pb03c8b0eb8)\" fill=\"none\" stroke=\"#000000\" stroke-linecap=\"square\" stroke-width=\"2\"/><path d=\"m63.381 89.012h49.996\" clip-path=\"url(#pb03c8b0eb8)\" fill=\"none\" stroke=\"#000000\" stroke-linecap=\"square\" stroke-width=\"2\"/><path d=\"m87.925 89.012v-45.451\" clip-path=\"url(#pb03c8b0eb8)\" fill=\"none\" stroke=\"#1192e8\" stroke-linecap=\"square\" stroke-width=\"2\"/><path d=\"m87.925 89.012v-45.451\" clip-path=\"url(#pb03c8b0eb8)\" fill=\"none\" stroke=\"#1192e8\" stroke-linecap=\"square\" stroke-width=\"2\"/><path d=\"m87.925 47.992c1.1752 0 2.3025-0.46693 3.1335-1.2979 0.83102-0.83102 1.2979-1.9583 1.2979-3.1335 0-1.1752-0.46693-2.3025-1.2979-3.1335-0.83102-0.83102-1.9583-1.2979-3.1335-1.2979s-2.3025 0.46693-3.1335 1.2979c-0.83102 0.83102-1.2979 1.9583-1.2979 3.1335 0 1.1752 0.46693 2.3025 1.2979 3.1335 0.83102 0.83102 1.9583 1.2979 3.1335 1.2979z\" clip-path=\"url(#pb03c8b0eb8)\" fill=\"#1192e8\" stroke=\"#1192e8\" stroke-width=\"1.5\"/><path d=\"m87.925 93.443c1.1752 0 2.3025-0.46693 3.1335-1.2979 0.83102-0.83102 1.2979-1.9583 1.2979-3.1335s-0.46693-2.3025-1.2979-3.1335c-0.83102-0.83102-1.9583-1.2979-3.1335-1.2979s-2.3025 0.46693-3.1335 1.2979c-0.83102 0.83102-1.2979 1.9583-1.2979 3.1335s0.46693 2.3025 1.2979 3.1335c0.83102 0.83102 1.9583 1.2979 3.1335 1.2979z\" clip-path=\"url(#pb03c8b0eb8)\" fill=\"#1192e8\" stroke=\"#1192e8\" stroke-width=\"1.5\"/><g clip-path=\"url(#pb03c8b0eb8)\"><g transform=\"translate(36.253 47.786) scale(.1625 -.1625)\"><defs><path id=\"DejaVuSans-Oblique-71\" transform=\"scale(.015625)\" d=\"m2669 525q-231-303-546-460-314-156-695-156-531 0-833 358-301 358-301 986 0 506 186 978t533 847q225 244 517 375t614 131q387 0 637-153t363-462l100 525h578l-934-4813h-579l360 1844zm-1778 813q0-463 193-705 194-242 560-242 544 0 928 520t384 1264q0 450-199 689-198 239-569 239-272 0-504-127-231-126-403-370-181-256-286-600-104-343-104-668z\"/><path id=\"DejaVuSans-30\" transform=\"scale(.015625)\" d=\"m2034 4250q-487 0-733-480-245-479-245-1442 0-959 245-1439 246-480 733-480 491 0 736 480 246 480 246 1439 0 963-246 1442-245 480-736 480zm0 500q785 0 1199-621 414-620 414-1801 0-1178-414-1799-414-620-1199-620-784 0-1198 620-414 621-414 1799 0 1181 414 1801 414 621 1198 621z\"/></defs><use xlink:href=\"#DejaVuSans-Oblique-71\"/><use transform=\"translate(63.477 -16.406) scale(.7)\" xlink:href=\"#DejaVuSans-30\"/></g></g><g clip-path=\"url(#pb03c8b0eb8)\"><g transform=\"translate(36.253 93.237) scale(.1625 -.1625)\"><defs><path id=\"DejaVuSans-31\" transform=\"scale(.015625)\" d=\"m794 531h1031v3560l-1122-225v575l1116 225h631v-4135h1031v-531h-2687v531z\"/></defs><use xlink:href=\"#DejaVuSans-Oblique-71\"/><use transform=\"translate(63.477 -16.406) scale(.7)\" xlink:href=\"#DejaVuSans-31\"/></g></g><defs><clipPath id=\"pb03c8b0eb8\"><rect x=\"7.2\" y=\"7.2\" width=\"110.72\" height=\"109.08\"/></clipPath></defs></svg>"
            ],
            "text/plain": [
              "<Figure size 146.652x144.48 with 1 Axes>"
            ]
          },
          "execution_count": 1,
          "metadata": {
          },
          "output_type": "execute_result"
        }
      ],
      "source": [
        "from qiskit import QuantumCircuit\n",
        "qc = QuantumCircuit(2)\n",
        "qc.cz(0,1)\n",
        "qc.draw()"
      ]
    },
    {
      "cell_type": "markdown",
      "metadata": {
      },
      "source": [
        "## CNOT 게이트\n",
        "\n",
        "이어서 다른 두-큐비트 게이트를 사용한  위상 반동 효과를 살펴보겠습니다. $|{-}\\rangle$ 상태는 고유값이 $-1$인 X-gate의 고유 상태이므로 다음을 만족합니다:\n",
        "\n",
        "$$ \\class{_matrix-CX}{CX}\\class{_eig-vec-X}{|{-}\\rangle}\\class{_control-qubit-pre}{(\\alpha|0\\rangle + \\beta|1\\rangle)} = \\class{_eig-vec-X}{|{-}\\rangle}\\class{_control-qubit-post}{(\\alpha|0\\rangle - \\beta |1\\rangle)} $$\n",
        "\n",
        "![](images/kickback/cnot-kickback.svg)\n",
        "\n",
        "다시 한번, 이 경우 위상 변화 $\\theta = 0.5$이므로 제어 큐비트는 Z축을 중심으로 반전됩니다.\n",
        "\n",
        "<!-- ::: q-block -->\n",
        "\n",
        "### 사용 예제\n",
        "\n",
        "<details>\n",
        "    <summary>CNOT 게이트의 위상 반동(확대하려면 클릭)</summary>\n",
        "</details>\n",
        "\n",
        "```\n",
        "q-carousel\n",
        "        div.md\n",
        "            <img src=\"images/kickback/carousel/cnot/carousel-img-0.svg\"><br> 정의에 따르면, 제어된 X 게이트(CNOT)는 제어 큐비트가 $|1\\rangle$인 경우 대상 큐비트의 상태를 뒤집습니다(예시에서는 가장 오른쪽 비트가 대상 큐비트임). 위의 이미지는 하나의 상태 벡터를 다른 상태 벡터로 변환하는 CNOT 게이트를 보여줍니다.\n",
        "        div.md\n",
        "            <img src=\"images/kickback/carousel/cnot/carousel-img-1.svg\"><br>예를 들어 제어 큐비트가 $|0\\rangle$ 상태에 있으면 항상 동일한 상태 벡터를 다시 얻게 됩니다. 위의 이미지에서 컨트롤이 $|1\\rangle$인 상태의 진폭은 모두 0이므로 교환을 해도 아무런 효과가 없습니다.\n",
        "        div.md\n",
        "            <img src=\"images/kickback/carousel/cnot/carousel-img-2.svg\"><br>다른 예: 제어 큐비트가 $|1\\rangle$ 상태에 있으면 대상 큐비트에서 X-gate를 적용합니다. 이 경우 대상 큐비트는 X 게이트의 고유 상태에 있으므로 게이트를 적용한 후에도 전역 위상까지 동일한 상태 벡터를 다시 얻게 됩니다. 대상 큐비트의 $|0\\rangle$ 및 $|1\\rangle$ 진폭 간의 상대 위상이 동일하게 유지되었기 때문에 이 변경은 전역 위상입니다.\n",
        "        div.md\n",
        "            <img src=\"images/kickback/carousel/cnot/carousel-img-3.svg\"><br>컨트롤이 $|{+}\\rangle$ 상태이고(예: $\\tfrac{1}{\\sqrt{2}}(|0\\rangle + |1\\rangle)$) , 대상이 $|{-}\\rangle$ 상태(예: $\\tfrac{1}{\\sqrt{2}}(|0\\rangle - |1\\rangle)$)일 때의 상태 벡터를 살펴보겠습니다. 하나를 측정해도 다른 하나의 상태에 영향을 미치지 않기 때문에 이 두 큐비트를 분리할 수 있음을 알 수 있습니다.\n",
        "        div.md\n",
        "            <img src=\"images/kickback/carousel/cnot/carousel-img-4.svg\"><br> 예를 들어, 제어 큐비트가 $|0\\rangle$ 또는 $|1\\rangle$로 측정되는지 여부에 관계없이, 대상 큐비트는 $|0\\rangle$ 또는 $|1\\rangle$로 측정될 확률 진폭이 동일하게 유지됩니다.\n",
        "        div.md\n",
        "            <img src=\"images/kickback/carousel/cnot/carousel-img-5.svg\"><br>이 모든 것을 염두에 두고 CNOT을 이 $|{+}{-}\\rangle$ 상태에 적용하면 어떤 일이 발생하는지 봅시다.\n",
        "        div.md\n",
        "            <img src=\"images/kickback/carousel/cnot/carousel-img-6.svg\"><br>CNOT 적용 이후에 이 두 큐비트들은 여전히 분리 가능합니다. 하나의 상태가 다른 하나를 측정한 결과에 영향을 받지 않기 때문입니다. 그러나 제어 큐비트의 $|0\\rangle$ 및 $|1\\rangle$ 진폭 간의 상대 위상이 변경되었습니다!\n",
        "```\n",
        "\n",
        "\n",
        "\n",
        "\n",
        "<!-- ::: -->\n",
        "\n",
        "H-gate가 $|0\\rangle \\rightarrow |{+}\\rangle$ 및 $|1\\rangle \\rightarrow |{-}\\rangle$(또는 그 반대로)의 변환을 수행한다는 것을 기억할 때,  다음을 얻습니다:\n",
        "\n",
        "![](images/kickback/cnot-identity.svg)"
      ]
    },
    {
      "cell_type": "markdown",
      "metadata": {
      },
      "source": [
        "## Deutsch의 문제\n",
        "\n",
        "큐비트의 상태에 대한 조건적(Conditioning) 작업이 실제로 제어 큐비트의 상태를 변경할 수 있음을 방금 살펴보았습니다적인. 이것은 '양자' 효과입니다. 즉, 클래식 비트에서는 나타나지 않는 현상입니다.\n",
        "\n",
        "양자 컴퓨팅을 사용해서 고전적인 컴퓨터가 수행 *할 수 없는* 알고리즘을 만들고자 할 때, 방금 살펴본 양자 효과를 해결하고자 하는 문제에 맞추어 재구성하고 시도해 보는 것은 좋은 시작점이 될 것입니다. 이런 식으로 양자 컴퓨터가 고전 컴퓨터보다 적어도 조금 더 낫다는 것을 증명할 수 있습니다.\n",
        "\n",
        "Deutsch의 문제가 정확히 이것입니다. Deutsch의 문제는 '블랙박스' 문제입니다. 비트에 함수를 적용할 수는 있지만 함수가 어떻게 작동하는지 볼 수 없는 인위적인 문제입니다. 도전 과제는 다양한 입력 및 출력을 시도하여 블랙박스의 일부 속성을 발견하는 것입니다.\n",
        "\n",
        "Deutsch의 문제는 다음과 같습니다.  $ a $ &amp; $ b $의 두 비트에서 작동하는 고전적이고 가역적인 함수($f$라 부름)가 제공됩니다. 이 함수는 비트 $ a $를 그대로 두지만 비트 $ b $를 뒤집을 수도 있고 그렇지 않을 수도 있습니다. Deutsch의 문제는 $f$가 $ a $의 값에 따라 다르게 행동하는지(\"균형된(Balanced)\" 행동) 또는 $ a $를 무시하고 $ b $에 대해 항상 동일한(\"일정한(Constant)\" 행동) 작업을 수행하는지 알아내도록 요구합니다. 도전적인 지점은 $f$를 가능한 한 적게 적용하면서 이 작업을 수행하는 것입니다.\n",
        "\n",
        "![양자 회로로서의 도이치 문제의 이미지. 회로에는 각각 'a' 및 'b'로 표시된 상단 및 하단 와이어의 두 비트가 있습니다. 두 비트 모두 'f'라는 레이블이 붙은 불투명한 2비트 게이트가 적용됩니다. 'f' 이후에 상단 와이어는 여전히 'f'로 레이블이 지정되지만 하단 와이어는 이제 'f(a, b)'로 레이블이 지정됩니다.](images/kickback/deutsch-problem.svg)\n",
        "\n",
        "이 문제에 대한 최고 성능의 고전 알고리즘은 $ a $의 다른 값으로 $f$를 두 번 적용한 다음 $f$가 다르게 동작하는지 확인하는 방식입니다."
      ]
    },
    {
      "cell_type": "markdown",
      "metadata": {
      },
      "source": [
        "## Deutsch의 알고리즘\n",
        "\n",
        "짐작한대로, 위상 반동을 사용하여 고전적인 알고리즘보다 좋은 성능의 양자 알고리즘을 만들 수 있습니다. 큐비트 $ a $를 $|{+}\\rangle$ 상태에, 큐비트 $ b $를 $|{-}\\rangle$ 상태에 놓으면 $ a $의 상태에 따라 제어되는 모든 반전 연산은 제어 큐비트 $ a $를 $|{+}\\rangle$에서 $|{-}\\rangle$로 뒤집는 음의 상대 위상 반동이 됩니다. 제어 연산에 이어서  H-gate를 $ a $에 적용하면 반동이 발생했는지 여부를 확인할 수 있습니다.\n",
        "\n",
        "![양자 회로로서의 도이치 알고리즘의 이미지.](images/kickback/deutsch-algorithm.svg)\n",
        "\n",
        "<!-- ::: q-block.reminder -->\n",
        "\n",
        "### 보충 설명\n",
        "\n",
        "<details><summary>블랙박스 내부(확대하려면 클릭)</summary> 이현상이 여전히 마술처럼 보인다면, 가능한 모든 Deutsch 함수의 종류와 이를 구현하는 양자 회로에 대해 생각해 보는 것이 도움이 될 것입니다. 네 가지 가능한 Deutsch 함수가 있습니다: 두 개의 상수(Constant) 함수 및 두 개의 균형(Balance) 함수</details>\n",
        "\n",
        "상수이면 함수는 아무 것도 하지 않거나 큐비트 $ b $를 뒤집을 수 있습니다. 균형 함수라면 함수는 $ a $가 $|1\\rangle$일 때만 $ b $를 뒤집거나 $ a $가 $|0\\rangle$일 때만 $ b $를 뒤집을 수 있습니다. 아래 이미지에서 네 가지 시나리오를 모두 살펴 봅시다.\n",
        "\n",
        "<img src=\"images/kickback/deutsch-oracles.svg\">\n",
        "\n",
        "두 상수 함수 모두에서 최상위 큐비트는 변경되지 않고 유지되며(아무것도 하지 않기 때문에) 균형 함수에서 반동 효과는 최상위 큐비트를 $|{+}\\rangle$에서 $|{-}\\rangle$로 뒤집습니다.\n",
        "\n",
        "\n",
        "\n",
        "\n",
        "<!-- ::: -->\n",
        "\n",
        "지금 살펴본 예제는 가장 인상적인 양자 속도 향상의 예제는 아닙니다; 이 문제는 몹시 특별한 유형이며 실생활에서 이런 블랙박스 문제를 찾기는 쉽지 않습니다. 하지만 Deutsch의 문제는 양자 속도 향상에 있어서 고무적인 결과와 이후의 연구를 위한 흥미로운 효과를 제공해 줍니다. 이 과정의 나머지 부분에서는 이 간단한 실험을 확장하여, 인수분해를 포함하여 훨씬 더 흥미로운 문제들을 해결할 것입니다."
      ]
    },
    {
      "cell_type": "markdown",
      "metadata": {
      },
      "source": [
        "<!-- ::: q-block.exercise -->\n",
        "\n",
        "### 연습\n",
        "\n",
        "Deutsch 함수를 `QuantumCircuit`으로 구현한 `deutsch()`함수를 만들어,  양자 시뮬레이터를 사용해 Deutsch 알고리즘을 해결해 봅시다. 함수는 Deutsch 함수가 균형(Balance)  함수이면 `True` 를 반환하고, 상수(Constant)　함수이면 `False` 를 반환하도록 설계합니다.\n",
        "\n",
        "`deutsch_problem()` 함수를 사용하여 `deutsch()` 함수의 입력으로 사용할 수 있는 `QuantumCircuit`을 생성할 수 있습니다.\n",
        "\n",
        "<!-- ::: -->"
      ]
    },
    {
      "cell_type": "code",
      "execution_count": null,
      "metadata": {
      },
      "outputs": [

      ],
      "source": [
        "from qiskit import QuantumCircuit\n",
        "import numpy as np\n",
        "\n",
        "def deutsch_problem(seed=None):\n",
        "    \"\"\"Returns a circuit that carries out the function\n",
        "    from Deutsch's problem.\n",
        "    Args:\n",
        "        seed (int): If set, then returned circuit will\n",
        "            always be the same for the same seed.\n",
        "    Returns: QuantumCircuit\n",
        "    \"\"\"\n",
        "    np.random.seed(seed)\n",
        "    problem = QuantumCircuit(2)\n",
        "    if np.random.randint(2):\n",
        "        print(\"Function is balanced.\")\n",
        "        problem.cx(0, 1)\n",
        "    else:\n",
        "        print(\"Function is constant.\")\n",
        "    if np.random.randint(2):\n",
        "        problem.x(1)\n",
        "    return problem"
      ]
    },
    {
      "cell_type": "code",
      "execution_count": null,
      "metadata": {
      },
      "outputs": [

      ],
      "source": [
        "def deutsch(function):\n",
        "    \"\"\"Implements Deutsch's algorithm.\n",
        "\n",
        "    Args:\n",
        "        function (QuantumCircuit): Deutsch function to solve.\n",
        "            Must be a 2-qubit circuit, and either balanced,\n",
        "            or constant.\n",
        "    Returns:\n",
        "        bool: True if the circuit is balanced, otherwise False.\n",
        "    \"\"\"\n",
        "\n",
        "    # your code here"
      ]
    },
    {
      "cell_type": "markdown",
      "metadata": {
      },
      "source": [
        "## 요약\n",
        "\n",
        "이 페이지에서, 여러분은:\n",
        "\n",
        "- 고유값과 고유벡터의 개념을 다시 살펴보았습니다.\n",
        "- 위상 반동 효과를 탐구하고 몇 가지 구체적인 예를 다뤘습니다.\n",
        "- 양자 컴퓨터가 고전 컴퓨터보다 유리한 시나리오로 도이치의 문제를 살펴보았습니다.\n",
        "\n",
        "이 곳에서 배운 다른 모든 것을 잊어버린다 하더라도, 아래에 있는 위상 반동의 정리는 반드시 기억하고 습득해야 함을 명심하십시오.\n",
        "\n",
        "<!-- ::: q-block.reminder -->\n",
        "\n",
        "### 다시 살펴보기: 위상 반동\n",
        "\n",
        "양자 게이트 $U$의 고유 상태가 $|x\\rangle$이면, $|x\\rangle$에 작용하는 $U$는 전역 위상 $\\theta$를 발생시킵니다. 즉:\n",
        "\n",
        "$$ \\class{_matrix-U}{U}\\class{_eig-vec-U}{|x\\rangle} = \\class{_eig-val-U}{e^{2\\pi i \\theta}}\\class{_eig-vec-U}{|x\\rangle} $$\n",
        "\n",
        "$|0\\rangle$과 $|1\\rangle$의 중첩 상태에 있는 제어 큐비트가 $U|x\\rangle$ 연산으로 다른 큐비트를 제어하면, Z축을 중심으로 제어 큐비트를 각도 $\\theta$ 만큼 회전시키는 효과가 발생합니다.  즉:\n",
        "\n",
        "$$ \\class{_matrix-CU}{CU}\\class{_eig-vec-U}{|x\\rangle}\\class{_control-qubit-pre}{(\\alpha|0\\rangle + \\beta|1\\rangle)} = \\class{_eig-vec-U}{|x\\rangle}\\class{_control-qubit-post}{(\\alpha|0\\rangle + \\beta e^{2\\pi i \\theta}|1\\rangle)} $$\n",
        "\n",
        "<!-- ::: -->"
      ]
    }
  ],
  "metadata": {
    "kernelspec": {
      "display_name": "Python 3",
      "language": "python",
      "name": "python3"
    },
    "language_info": {
      "codemirror_mode": {
        "name": "ipython",
        "version": 3
      },
      "file_extension": ".py",
      "mimetype": "text/x-python",
      "name": "python",
      "nbconvert_exporter": "python",
      "pygments_lexer": "ipython3",
      "version": "3.9"
    }
  },
  "nbformat": 4,
  "nbformat_minor": 4
}
