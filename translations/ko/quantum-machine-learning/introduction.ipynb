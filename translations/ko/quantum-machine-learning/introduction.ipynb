{
  "cells": [
    {
      "cell_type": "markdown",
      "metadata": {
        "gloss": {
          "qram": {
            "text": "\"Random access memory\" (RAM) is data storage that can be read and changed in any order. Quantum RAM is analogous, but would also allow storing quantum states. <a href='https://en.wikipedia.org/wiki/Quantum_memory'>Read more</a>.",
            "title": "qRAM"
          }
        }
      },
      "source": [
        "# 소개\n",
        "\n",
        "기계 학습은 데이터에서 패턴을 찾는 성공적인 학제간 연구분야로 자리 잡았습니다. 양자 컴퓨팅을 도입하면 양자 역학의 원리를 사용하여 머신 러닝을 강화하거나 그 반대로 하는 것을 목표로 하는 흥미로운 연구 분야가 생겨납니다. 이 페이지에서는 흥미롭고 빠르게 변화하는 단기 양자 기계 학습 분야를 엿볼 수 있습니다."
      ]
    },
    {
      "cell_type": "markdown",
      "metadata": {
      },
      "source": [
        "## 기계 학습(ML)\n",
        "\n",
        "양자 머신 러닝에 대해 알아보기 전에 머신 러닝에 대한 개요를 살펴보겠습니다. 우리의 목적을 위해 기계 학습은 지도 학습, 비지도 학습 및 강화 학습의 세 가지 하위 분야로 크게 나눌 수 있습니다.\n",
        "\n",
        "<!-- ::: q-block.tabs -->\n",
        "\n",
        "### 양자 기계 학습 분야\n",
        "\n",
        "<!-- ::: tab -->\n",
        "\n",
        "### 지도 학습\n",
        "\n",
        "<!-- ::: column(width=250) -->\n",
        "\n",
        "![abstract illustration of supervised learning](images/introduction/tabs/0/supervised.png)\n",
        "\n",
        "<!-- ::: column(width=350) -->\n",
        "\n",
        "레이블이 지정된 데이터 $(x_i,y_i)$의 튜플이 주어지면 $f: x \\mapsto y$를 매핑하고 보이지 않는 입력으로 일반화하는 기능을 학습하는 것을 목표로 합니다. 예를 들어 고양이나 개의 레이블이 지정된 일련의 사진이 있는 경우 우리는 고양이나 개의 새로운 사진을 식별하고자 합니다.\n",
        "\n",
        "<!-- ::: -->\n",
        "\n",
        "<!-- ::: tab -->\n",
        "\n",
        "### 비지도 학습\n",
        "\n",
        "<!-- ::: column(width=250) -->\n",
        "\n",
        "![abstract illustration of unsupervised learning](images/introduction/tabs/0/unsupervised.png)\n",
        "\n",
        "<!-- ::: column(width=350) -->\n",
        "\n",
        "레이블이 지정되지 않은 데이터 $(x_i)$ 모음이 주어지면 데이터의 일부 구조를 학습하는 것을 목표로 합니다. 예를 들어, 새로운 영화를 추천하기 위해 영화 시청 기록을 기반으로 일련의 시청자를 그룹화합니다.\n",
        "\n",
        "<!-- ::: -->\n",
        "\n",
        "<!-- ::: tab -->\n",
        "\n",
        "### 강화 학습\n",
        "\n",
        "<!-- ::: column(width=250) -->\n",
        "\n",
        "![abstract illustration of reinforcement learning](images/introduction/tabs/0/reinforcement.png)\n",
        "\n",
        "<!-- ::: column(width=350) -->\n",
        "\n",
        "우리의 행동에 따라 우리에게 보상하는 환경에 대한 접근이 주어지면 우리는 기대되는 보상을 극대화하는 것을 목표로 합니다. 예를 들어 PAC-MAN을 플레이하는 방법을 알고리즘적으로 학습합니다.\n",
        "\n",
        "<!-- ::: -->\n",
        "\n",
        "<!-- ::: -->\n",
        "\n",
        "<!-- ::: -->"
      ]
    },
    {
      "cell_type": "markdown",
      "metadata": {
      },
      "source": [
        "## 양자 기계 학습(QML)\n",
        "\n",
        "양자 컴퓨팅과 머신 러닝을 결합하는 데는 데이터가 클래식 *( **C** )* 인지 양자 *( **Q** )* 인지 또는 알고리즘이 클래식 *( **C** )* 또는 양자 *( **Q** )* 컴퓨터에서 실행되는지에 따라 구분되는 네 가지 접근 방식이 있습니다. 이는 참조 1에서 아래에 설명되어 있습니다.\n",
        "\n",
        "이 맥락에서 양자 데이터 세트는 큐비트 상호 작용 측정과 같은 자연 또는 인공 양자 시스템의 관찰로 구성되는 반면, 클래식 데이터 세트는 시계열, 텍스트 또는 이미지와 같은 클래식 시스템의 관찰로 구성됩니다.\n",
        "\n",
        "<!-- ::: q-block.tabs.qml-approaches -->\n",
        "\n",
        "### QML 접근 방식\n",
        "\n",
        "#### 알고리즘 유형\n",
        "\n",
        "#### 데이터 유형\n",
        "\n",
        "<!-- ::: tab -->\n",
        "\n",
        "### CC\n",
        "\n",
        "**CC는** 고전 컴퓨터를 사용하여 고전 데이터를 처리하지만 이 [추천 시스템](https://doi.org/10.1145/3313276.3316310) 알고리즘과 같은 양자 컴퓨팅에서 영감을 받은 알고리즘을 사용하는 것을 말합니다.\n",
        "\n",
        "<!-- ::: tab -->\n",
        "\n",
        "### CQ\n",
        "\n",
        "**CQ는** *Quantum* 기계 학습 알고리즘을 사용하여 *고전* 데이터를 처리하는 것을 말하며 이 장에서 중점적으로 다룰 것입니다.\n",
        "\n",
        "<!-- ::: tab -->\n",
        "\n",
        "### QC\n",
        "\n",
        "**QC는** *고전적인* 기계 학습 알고리즘을 사용하여 *양자* 데이터를 처리하는 것을 말합니다. 이것은 큐비트 [특성화](https://doi.org/10.1038/s41524-020-0282-0) , [제어](https://doi.org/10.1038/s41534-019-0141-3) 및 [판독](https://link.aps.org/doi/10.1103/PhysRevLett.114.200501) 과 같은 양자 컴퓨팅의 많은 영역에서 사용되는 고전적인 기계 학습 알고리즘을 사용하여 조사가 활발한 영역입니다.\n",
        "\n",
        "<!-- ::: tab -->\n",
        "\n",
        "### QQ\n",
        "\n",
        "**QQ는** *Quantum* 기계 학습 알고리즘을 사용하여 *Quantum* 데이터를 처리하는 것을 말합니다. 이것은 흥미로운 주제이지만 아직 초기 단계에 있습니다.\n",
        "\n",
        "<!-- ::: -->\n",
        "\n",
        "<!-- ::: -->\n"
      ]
    },
    {
      "cell_type": "markdown",
      "metadata": {
      },
      "source": [
        "<!-- vale QiskitTextbook.Spelling = NO -->\n",
        "\n",
        "<!-- ::: q-block.exercise -->\n",
        "\n",
        "### 짧은 퀴즈\n",
        "\n",
        "<!-- ::: q-quiz(goal=\"qml-intro-0\") -->\n",
        "\n",
        "<!-- ::: .question -->\n",
        "\n",
        "이 과정에서는 처리에 중점을 둘 것입니다...\n",
        "\n",
        "<!-- ::: -->\n",
        "\n",
        "<!-- ::: .option -->\n",
        "\n",
        "1. 고전적(***C***lassical) 데이터를 사용하는 고전적(***C***lassical) 고전적 알고리즘\n",
        "\n",
        "<!-- ::: -->\n",
        "\n",
        "<!-- ::: .option(correct) -->\n",
        "\n",
        "1. 고전적(***C**lassical*) 데이터를 사용하는 양자(***Q**uantum*) 알고리즘\n",
        "\n",
        "<!-- ::: -->\n",
        "\n",
        "<!-- ::: .option -->\n",
        "\n",
        "1. 양자(***Q**uantum*) 데이터를 사용하는 고전적(***C**lassical*) 알고리즘\n",
        "\n",
        "<!-- ::: -->\n",
        "\n",
        "<!-- ::: .option -->\n",
        "\n",
        "1. 양자(***Q**uantum*) 데이터를 사용하는 양자(***Q**uantum*) 알고리즘\n",
        "\n",
        "<!-- ::: -->\n",
        "\n",
        "<!-- ::: -->\n",
        "\n",
        "<!-- ::: -->"
      ]
    },
    {
      "cell_type": "markdown",
      "metadata": {
      },
      "source": [
        "**QC** 알고리즘에는 두 가지 범주가 있습니다. 데이터가 중첩되어 액세스될 수 있는 [qRAM](gloss:qram) (Quantum Random Access Memory)이 필요한 것과 그렇지 않은 것입니다. 제안된 다양한 qRAM 기반 QML 알고리즘, 예를 들어 [qPCA](https://doi.org/10.1038/nphys3029) , [qSVM](https://doi.org/10.1103/PhysRevLett.113.130503) 및 [qClustering](https://arxiv.org/abs/1307.0411) 은 기존 알고리즘에 비해 기하급수적인 속도 향상을 자랑하지만 현재 qRAM을 구현하기 위해 실행 가능한 하드웨어는 없습니다.\n",
        "\n",
        "최근 기계 학습에 대한 **CQ** 접근 방식의 초점은 현재 양자 장치에서 실행할 수 있는 단기 알고리즘에 맞춰져 있습니다. 고전적인 기계 학습 기술은 충분히 강력한 하드웨어의 가용성으로 인해 지난 10년 동안 큰 발전을 이루었습니다. 어쩌면 양자 하드웨어의 존재가 이 분야에서 더 발전할 수 있을지도 모릅니다.\n",
        "\n",
        "이것은 전 세계 여러 연구 팀이 현재 조사하고 있는 매우 역동적인 영역이며 혼란스러운 용어와 표기법뿐만 아니라 여전히 미결 질문이 많이 있습니다. 우리는 이 과정에서 가능한 한 일관성을 유지하려고 노력할 뿐만 아니라 개념이 다른 이름으로 언급되는 경우 또는 다른 개념이 서로 어떻게 관련되는지 지적합니다."
      ]
    },
    {
      "cell_type": "markdown",
      "metadata": {
      },
      "source": [
        "## <a id=\"references\">참고문헌</a>\n",
        "\n",
        "1. Vedran Dunjko, Jacob M. Taylor and Hans J. Briegel, *Quantum-Enhanced Machine Learning*, Physical Review Letters 117 (13), 130501 (2016) [doi:10.1103/PhysRevLett.117.130501](https://doi.org/10.1103/PhysRevLett.117.130501) [arXiv:1610.08251](https://arxiv.org/abs/1610.08251)\n"
      ]
    }
  ],
  "metadata": {
    "kernelspec": {
      "display_name": "Python 3",
      "language": "python",
      "name": "python3"
    },
    "language_info": {
      "codemirror_mode": {
        "name": "ipython",
        "version": 3
      },
      "file_extension": ".py",
      "mimetype": "text/x-python",
      "name": "python",
      "nbconvert_exporter": "python",
      "pygments_lexer": "ipython3",
      "version": "3.9"
    }
  },
  "nbformat": 4,
  "nbformat_minor": 4
}
