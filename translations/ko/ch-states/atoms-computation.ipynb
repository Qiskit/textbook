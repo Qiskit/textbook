{
  "cells": [
    {
      "cell_type": "markdown",
      "metadata": {
        "tags": [
          "remove_cell"
        ]
      },
      "source": [
        "# 계산의 기본 요소(원자)들"
      ]
    },
    {
      "cell_type": "markdown",
      "metadata": {
      },
      "source": [
        "양자 컴퓨터 프로그래밍은 이제 누구나 집에서 편안하게 할 수 있습니다.\n",
        "\n",
        "하지만 무엇을 만들어야 할까요? 양자 프로그램이 뭘까요? 양자 컴퓨터란 대체 무엇일까요?\n",
        "\n",
        "이러한 질문에 대한 대답은 표준 디지털 컴퓨터와의 비교에서 얻을 수 있습니다. 불행히도 대부분의 사람들은 실제로 디지털 컴퓨터가 어떻게 작동하는지 이해하지 못합니다. 이 글에서는 이런 장치들의 기본 원리를 먼저 살펴보고자 합니다. 이 강의에 이어서 여러분이 양자 컴퓨팅으로 쉽게 넘어 갈 수 있도록, 양자에서 사용되는 것과 동일한 도구를 사용하여 진행하겠습니다."
      ]
    },
    {
      "cell_type": "markdown",
      "metadata": {
      },
      "source": [
        "다음은 이 페이지의 코드 실행에 필수적으로 필요한 Python 라이브러리들을 실행합니다."
      ]
    },
    {
      "cell_type": "code",
      "execution_count": 1,
      "metadata": {
      },
      "outputs": [

      ],
      "source": [
        "from qiskit import QuantumCircuit, assemble, Aer\n",
        "from qiskit.visualization import plot_histogram"
      ]
    },
    {
      "cell_type": "markdown",
      "metadata": {
      },
      "source": [
        "## 1. 정보를 비트 단위로 분할하기<a id=\"bits\"></a>"
      ]
    },
    {
      "cell_type": "markdown",
      "metadata": {
      },
      "source": [
        "가장 먼저 알아야 할 것은 비트 개념입니다. 비트는 세상에서 가장 단순한 문자로 설계되었습니다. 0과 1의 두 문자만으로 모든 정보를 나타낼 수 있으니까요.\n",
        "\n",
        "수를 예로 들어 보겠습니다. 여러분은 아마 0, 1, 2, 3, 4, 5, 6, 7, 8, 9의 10개 숫자로 된 문자열로 수를 표현하는 데 익숙할 것입니다. 이 문자열의 각 숫자는 10의 특정 거듭제곱이 포함되는 횟수를 의미합니다. 예를 들어, 9213의 의미는 다음과 같습니다.\n",
        "\n",
        "$$ 9000 + 200 + 10 + 3 $$\n",
        "\n",
        "또는 10의 거듭제곱을 강조하는 방식으로 표현하면 아래와 같이 되겠죠.\n",
        "\n",
        "$$ (9\\times10^3) + (2\\times10^2) + (1\\times10^1) + (3\\times10^0) $$\n",
        "\n",
        "우리는 일반적으로 10을 기반으로 하는 수 체계를 사용하지만, 다른 숫자를 기반으로 하는 수 체계도 쉽게 사용할 수 있습니다. 예를 들어, 이진수 체계는 숫자 2를 기반으로 합니다. 이진수는 0과 1을 사용하여 수를 2의 배수로 표현하는 것을 의미합니다. 예를 들어, 9213은 10001111111101이 됩니다.\n",
        "\n",
        "$$ \\begin{aligned} 9213 &amp;= (1 \\times 2^{13}) + (0 \\times 2^{12}) + (0 \\times 2^{11}) + (0 \\times 2^{10}) \\ &amp;+ (1 \\times 2^9) + (1 \\times 2^8) + (1 \\times 2^7) + (1 \\times 2^6) \\ &amp;+ (1 \\times 2^5) + (1 \\times 2^4) + (1 \\times 2^3) + (1 \\times 2^2) \\ &amp;+ (0 \\times 2^1) + (1 \\times 2^0) \\end{aligned} $$\n",
        "\n",
        "여기서 우리는 10, 100, 1000 등을 사용하는 대신 2, 4, 8, 16, 32 등 2의 거듭제곱으로 수를 표현합니다.\n"
      ]
    },
    {
      "cell_type": "code",
      "execution_count": null,
      "metadata": {
      },
      "outputs": [

      ],
      "source": [
        "from qiskit_textbook.widgets import binary_widget\n",
        "binary_widget(nbits=5)"
      ]
    },
    {
      "cell_type": "markdown",
      "metadata": {
      },
      "source": [
        "이진 문자열로 알려진 이러한 비트 문자열은 수 외에도 더 많은 것을 표현하는 데 사용될 수 있습니다. 예를 들어, 비트를 사용해서 모든 종류의 텍스트를 표현할 수 있습니다. 문자나 수, 구두점 등 여러분이 나타내고 싶은 어떤 것이라도 [이 표](https://www.ibm.com/support/knowledgecenter/en/ssw_aix_72/com.ibm.aix.networkcomm/conversion_table.htm)에서 최대 8비트의 해당 문자열을 찾을 수 있습니다. 이것은 매우 임의적이기는 하지만, 보편적으로 합의된 표준입니다. 인터넷을 통해 여러분들께 이 글을 전달하는 데에도 사용된 방법이죠.\n",
        "\n",
        "이것이 모든 정보가 컴퓨터에서 표현되는 방식입니다. 숫자든, 문자든, 이미지든, 소리든, 모두 이진 문자열의 형태로 존재합니다.\n",
        "\n",
        "우리의 표준 디지털 컴퓨터와 마찬가지로 양자 컴퓨터도 이와 동일한 기본 아이디어를 기반으로 합니다. 주요 차이점은 양자 역학에 대한 비트의 확장인 *큐비트* 를 사용한다는 것입니다. 우리는 이 교재의 나머지 부분에서 큐비트가 무엇인지, 큐비트가 무엇을 할 수 있고, 어떻게 하는지에 대해 배우게 됩니다. 하지만, 이번 섹션에서는 양자에 대해 전혀 이야기하지 않고 마치 큐비트를 비트인 것처럼 사용할 것입니다."
      ]
    },
    {
      "cell_type": "markdown",
      "metadata": {
      },
      "source": [
        "<!-- ::: q-block.exercise -->\n",
        "\n",
        "## 연습\n",
        "\n",
        "다음 문장을 완성하세요:\n",
        "\n",
        "1. 십진수 \"5\"는 이진수로 [[101|11001|110|001]]입니다.\n",
        "2. 컴퓨터에 1비트가 있으면 [[2|1|3|4]] 개의 다른 상태를 표현할 수 있습니다.\n",
        "3. 컴퓨터에 2비트가 있으면 [[4|3|2|8]] 개의 다른 상태를 표현할 수 있습니다.\n",
        "4. 컴퓨터에 8비트가 있는 경우 [[256|128|342]]개의 다른 상태를 표현할 수 있습니다.\n",
        "5. $n$ 비트가 있는 경우 [[$2^n$|$n×2$|$n^2$]] 개의 다른 상태를 표현할 수 있습니다.\n",
        "\n",
        "<!-- ::: -->\n"
      ]
    },
    {
      "cell_type": "markdown",
      "metadata": {
      },
      "source": [
        "## 2. 다이어그램으로 계산하기<a id=\"diagram\"></a>\n",
        "\n",
        "큐비트를 사용하든 비트를 사용하든 관계없이 우리가 가지고 있는 입력 정보를 우리가 필요로 하는 출력 정보로 바꾸려면 비트를 조작해야 합니다. 비트 수가 매우 적은 간단한 프로그램의 경우, 이 프로세스를 *회로도* 라고 하는 다이어그램으로 표현하는 것이 유용합니다. 회로도의 왼쪽에 입력이 있고 오른쪽에는 출력이 있으며 그 사이에 신비한 기호로 표시되는 작업이 있습니다. 이러한 작업을 '게이트'라고 부르는데, 여기에는 역사적 이유가 있습니다.\n",
        "\n",
        "다음은 표준 비트 기반 컴퓨터에서 회로가 어떻게 보이는 지에 대한 예입니다. 회로가 무엇을 하는 것인지 이해할 필요는 없습니다. 그냥 회로가 어떻게 생겼는지만 보여드리려는 거니까요.\n",
        "\n",
        "![이미지1](images/classical_circuit.png)\n",
        "\n",
        "양자 컴퓨터의 경우, 기본적으로 이와 동일한 아이디어를 사용하고 있지만 작업에 사용되는 입력, 출력, 기호를 나타내는 방법에 대한 규칙이 다릅니다. 다음은 위에서 보여드린 예시와 동일한 프로세스를 나타내는 양자회로입니다.\n",
        "\n",
        "![이미지2](images/quantum_circuit.png)\n",
        "\n",
        "이 문서의 나머지 부분에서는 회로를 구축하는 방법을 설명합니다. 마지막으로 위의 회로를 어떻게 만드는지, 회로가 어떤 일을 수행하는지, 이것이 왜 유용한지를 배우게 될 것입니다."
      ]
    },
    {
      "cell_type": "markdown",
      "metadata": {
      },
      "source": [
        "## 3. 첫 번째 양자 회로 만들기<a id=\"first-circuit\"></a>"
      ]
    },
    {
      "cell_type": "markdown",
      "metadata": {
      },
      "source": [
        "회로에서는 일반적으로 세 가지 작업을 수행해야 합니다. 먼저 입력을 인코딩한 다음, 실제 계산을 수행하고 마지막으로 출력을 추출합니다. 첫 번째 양자 회로의 경우 이 작업의 마지막 부분에 초점을 맞춥니다. 이제 8개의 큐비트와 8개의 출력이 있는 회로를 만드는 것에서 시작해 보겠습니다."
      ]
    },
    {
      "cell_type": "code",
      "execution_count": 3,
      "metadata": {
      },
      "outputs": [

      ],
      "source": [
        "qc_output = QuantumCircuit(8)"
      ]
    },
    {
      "cell_type": "markdown",
      "metadata": {
      },
      "source": [
        "code0}qc_output 회로는, Qiskit의 `QuantumCircuit`을 사용해 만들어졌습니다. `QuantumCircuit`은 양자 회로에 사용되는 큐비트의 수를 전달 인자로 사용합니다.\n",
        "\n",
        "양자 회로의 출력은 `measure_all()` 이라는 명령어을 사용하여 추출됩니다. 각 측정 명령어는 특정 큐비트의 측정 결과를 정해진 출력 비트에 제공되게 합니다. `qc_output.measure_all()` 명령은 `qc_output` 회로의 각 큐비트의 측정값을 출력을 기록할 일부 클래식 비트에 기록하게 합니다."
      ]
    },
    {
      "cell_type": "code",
      "execution_count": 4,
      "metadata": {
      },
      "outputs": [

      ],
      "source": [
        "qc_output.measure_all()"
      ]
    },
    {
      "cell_type": "markdown",
      "metadata": {
      },
      "source": [
        "이제 회로에 무언가가 있으므로 살펴보겠습니다."
      ]
    },
    {
      "cell_type": "code",
      "execution_count": 5,
      "metadata": {
      },
      "outputs": [
        {
          "data": {
            "image/svg+xml": [
              "<?xml version=\"1.0\" encoding=\"UTF-8\"?><!DOCTYPE svg  PUBLIC '-//W3C//DTD SVG 1.1//EN'  'http://www.w3.org/Graphics/SVG/1.1/DTD/svg11.dtd'><svg width=\"521.94pt\" height=\"441.64pt\" version=\"1.1\" viewBox=\"0 0 521.94 441.64\" xmlns=\"http://www.w3.org/2000/svg\" xmlns:xlink=\"http://www.w3.org/1999/xlink\"><defs><style type=\"text/css\">*{stroke-linecap:butt;stroke-linejoin:round;}</style></defs><path d=\"m0 441.64h521.94v-441.64h-521.94z\" fill=\"#ffffff\"/><path d=\"m160.68 396.83h11.817l-5.9086 8.5221z\" clip-path=\"url(#pe815d3b368)\" fill=\"#778899\"/><path d=\"m206.13 396.83h11.817l-5.9086 8.5221z\" clip-path=\"url(#pe815d3b368)\" fill=\"#778899\"/><path d=\"m251.58 396.83h11.817l-5.9086 8.5221z\" clip-path=\"url(#pe815d3b368)\" fill=\"#778899\"/><path d=\"m297.03 396.83h11.817l-5.9086 8.5221z\" clip-path=\"url(#pe815d3b368)\" fill=\"#778899\"/><path d=\"m342.48 396.83h11.817l-5.9086 8.5221z\" clip-path=\"url(#pe815d3b368)\" fill=\"#778899\"/><path d=\"m387.93 396.83h11.817l-5.9086 8.5221z\" clip-path=\"url(#pe815d3b368)\" fill=\"#778899\"/><path d=\"m433.38 396.83h11.817l-5.9086 8.5221z\" clip-path=\"url(#pe815d3b368)\" fill=\"#778899\"/><path d=\"m478.84 396.83h11.817l-5.9086 8.5221z\" clip-path=\"url(#pe815d3b368)\" fill=\"#778899\"/><path d=\"m96.593 43.561h413.6\" clip-path=\"url(#pe815d3b368)\" fill=\"none\" stroke=\"#000000\" stroke-linecap=\"square\" stroke-width=\"2\"/><path d=\"m96.593 89.012h413.6\" clip-path=\"url(#pe815d3b368)\" fill=\"none\" stroke=\"#000000\" stroke-linecap=\"square\" stroke-width=\"2\"/><path d=\"m96.593 134.46h413.6\" clip-path=\"url(#pe815d3b368)\" fill=\"none\" stroke=\"#000000\" stroke-linecap=\"square\" stroke-width=\"2\"/><path d=\"m96.593 179.91h413.6\" clip-path=\"url(#pe815d3b368)\" fill=\"none\" stroke=\"#000000\" stroke-linecap=\"square\" stroke-width=\"2\"/><path d=\"m96.593 225.36h413.6\" clip-path=\"url(#pe815d3b368)\" fill=\"none\" stroke=\"#000000\" stroke-linecap=\"square\" stroke-width=\"2\"/><path d=\"m96.593 270.82h413.6\" clip-path=\"url(#pe815d3b368)\" fill=\"none\" stroke=\"#000000\" stroke-linecap=\"square\" stroke-width=\"2\"/><path d=\"m96.593 316.27h413.6\" clip-path=\"url(#pe815d3b368)\" fill=\"none\" stroke=\"#000000\" stroke-linecap=\"square\" stroke-width=\"2\"/><path d=\"m96.593 361.72h413.6\" clip-path=\"url(#pe815d3b368)\" fill=\"none\" stroke=\"#000000\" stroke-linecap=\"square\" stroke-width=\"2\"/><path d=\"m96.593 405.69h413.6\" clip-path=\"url(#pe815d3b368)\" fill=\"none\" stroke=\"#778899\" stroke-linecap=\"square\" stroke-width=\"2\"/><path d=\"m96.593 408.65h413.6\" clip-path=\"url(#pe815d3b368)\" fill=\"none\" stroke=\"#778899\" stroke-linecap=\"square\" stroke-width=\"2\"/><path d=\"m112.27 66.286h17.726v-45.451h-17.726z\" clip-path=\"url(#pe815d3b368)\" fill=\"#bdbdbd\" opacity=\".6\"/><path d=\"m112.27 111.74h17.726v-45.451h-17.726z\" clip-path=\"url(#pe815d3b368)\" fill=\"#bdbdbd\" opacity=\".6\"/><path d=\"m112.27 157.19h17.726v-45.451h-17.726z\" clip-path=\"url(#pe815d3b368)\" fill=\"#bdbdbd\" opacity=\".6\"/><path d=\"m112.27 202.64h17.726v-45.451h-17.726z\" clip-path=\"url(#pe815d3b368)\" fill=\"#bdbdbd\" opacity=\".6\"/><path d=\"m112.27 248.09h17.726v-45.451h-17.726z\" clip-path=\"url(#pe815d3b368)\" fill=\"#bdbdbd\" opacity=\".6\"/><path d=\"m112.27 293.54h17.726v-45.451h-17.726z\" clip-path=\"url(#pe815d3b368)\" fill=\"#bdbdbd\" opacity=\".6\"/><path d=\"m112.27 338.99h17.726v-45.451h-17.726z\" clip-path=\"url(#pe815d3b368)\" fill=\"#bdbdbd\" opacity=\".6\"/><path d=\"m112.27 384.44h17.726v-45.451h-17.726z\" clip-path=\"url(#pe815d3b368)\" fill=\"#bdbdbd\" opacity=\".6\"/><path d=\"m168.06 43.561v353.27\" clip-path=\"url(#pe815d3b368)\" fill=\"none\" stroke=\"#778899\" stroke-linecap=\"square\" stroke-width=\"2\"/><path d=\"m165.11 43.561v353.27\" clip-path=\"url(#pe815d3b368)\" fill=\"none\" stroke=\"#778899\" stroke-linecap=\"square\" stroke-width=\"2\"/><path d=\"m213.52 89.012v307.82\" clip-path=\"url(#pe815d3b368)\" fill=\"none\" stroke=\"#778899\" stroke-linecap=\"square\" stroke-width=\"2\"/><path d=\"m210.56 89.012v307.82\" clip-path=\"url(#pe815d3b368)\" fill=\"none\" stroke=\"#778899\" stroke-linecap=\"square\" stroke-width=\"2\"/><path d=\"m258.97 134.46v262.37\" clip-path=\"url(#pe815d3b368)\" fill=\"none\" stroke=\"#778899\" stroke-linecap=\"square\" stroke-width=\"2\"/><path d=\"m256.01 134.46v262.37\" clip-path=\"url(#pe815d3b368)\" fill=\"none\" stroke=\"#778899\" stroke-linecap=\"square\" stroke-width=\"2\"/><path d=\"m304.42 179.91v216.91\" clip-path=\"url(#pe815d3b368)\" fill=\"none\" stroke=\"#778899\" stroke-linecap=\"square\" stroke-width=\"2\"/><path d=\"m301.46 179.91v216.91\" clip-path=\"url(#pe815d3b368)\" fill=\"none\" stroke=\"#778899\" stroke-linecap=\"square\" stroke-width=\"2\"/><path d=\"m349.87 225.36v171.46\" clip-path=\"url(#pe815d3b368)\" fill=\"none\" stroke=\"#778899\" stroke-linecap=\"square\" stroke-width=\"2\"/><path d=\"m346.91 225.36v171.46\" clip-path=\"url(#pe815d3b368)\" fill=\"none\" stroke=\"#778899\" stroke-linecap=\"square\" stroke-width=\"2\"/><path d=\"m395.32 270.82v126.01\" clip-path=\"url(#pe815d3b368)\" fill=\"none\" stroke=\"#778899\" stroke-linecap=\"square\" stroke-width=\"2\"/><path d=\"m392.36 270.82v126.01\" clip-path=\"url(#pe815d3b368)\" fill=\"none\" stroke=\"#778899\" stroke-linecap=\"square\" stroke-width=\"2\"/><path d=\"m440.77 316.27v80.562\" clip-path=\"url(#pe815d3b368)\" fill=\"none\" stroke=\"#778899\" stroke-linecap=\"square\" stroke-width=\"2\"/><path d=\"m437.82 316.27v80.562\" clip-path=\"url(#pe815d3b368)\" fill=\"none\" stroke=\"#778899\" stroke-linecap=\"square\" stroke-width=\"2\"/><path d=\"m486.22 361.72v35.111\" clip-path=\"url(#pe815d3b368)\" fill=\"none\" stroke=\"#778899\" stroke-linecap=\"square\" stroke-width=\"2\"/><path d=\"m483.27 361.72v35.111\" clip-path=\"url(#pe815d3b368)\" fill=\"none\" stroke=\"#778899\" stroke-linecap=\"square\" stroke-width=\"2\"/><path d=\"m105.68 411.71 4.5451-9.0902\" clip-path=\"url(#pe815d3b368)\" fill=\"none\" stroke=\"#778899\" stroke-linecap=\"square\" stroke-width=\"1.5\"/><path d=\"m151.82 58.332h29.543v-29.543h-29.543z\" clip-path=\"url(#pe815d3b368)\" stroke=\"#000000\" stroke-width=\"1.5\"/><path d=\"m176.93 47.992c0-2.7413-1.0901-5.3732-3.0285-7.3116s-4.5702-3.0285-7.3116-3.0285-5.3732 1.0901-7.3116 3.0285c-1.9384 1.9384-3.0285 4.5702-3.0285 7.3116\" clip-path=\"url(#pe815d3b368)\" fill=\"none\" stroke=\"#ffffff\" stroke-width=\"2\"/><path d=\"m197.27 103.78h29.543v-29.543h-29.543z\" clip-path=\"url(#pe815d3b368)\" stroke=\"#000000\" stroke-width=\"1.5\"/><path d=\"m222.38 93.443c0-2.7413-1.0901-5.3732-3.0285-7.3116s-4.5702-3.0285-7.3116-3.0285-5.3732 1.0901-7.3116 3.0285c-1.9384 1.9384-3.0285 4.5702-3.0285 7.3116\" clip-path=\"url(#pe815d3b368)\" fill=\"none\" stroke=\"#ffffff\" stroke-width=\"2\"/><path d=\"m242.72 149.23h29.543v-29.543h-29.543z\" clip-path=\"url(#pe815d3b368)\" stroke=\"#000000\" stroke-width=\"1.5\"/><path d=\"m267.83 138.89c0-2.7413-1.0901-5.3732-3.0285-7.3116s-4.5702-3.0285-7.3116-3.0285-5.3732 1.0901-7.3116 3.0285c-1.9384 1.9384-3.0285 4.5702-3.0285 7.3116\" clip-path=\"url(#pe815d3b368)\" fill=\"none\" stroke=\"#ffffff\" stroke-width=\"2\"/><path d=\"m288.17 194.69h29.543v-29.543h-29.543z\" clip-path=\"url(#pe815d3b368)\" stroke=\"#000000\" stroke-width=\"1.5\"/><path d=\"m313.28 184.35c0-2.7413-1.0901-5.3732-3.0285-7.3116s-4.5702-3.0285-7.3116-3.0285-5.3732 1.0901-7.3116 3.0285c-1.9384 1.9384-3.0285 4.5702-3.0285 7.3116\" clip-path=\"url(#pe815d3b368)\" fill=\"none\" stroke=\"#ffffff\" stroke-width=\"2\"/><path d=\"m333.62 240.14h29.543v-29.543h-29.543z\" clip-path=\"url(#pe815d3b368)\" stroke=\"#000000\" stroke-width=\"1.5\"/><path d=\"m358.73 229.8c0-2.7413-1.0901-5.3732-3.0285-7.3116s-4.5702-3.0285-7.3116-3.0285-5.3732 1.0901-7.3116 3.0285c-1.9384 1.9384-3.0285 4.5702-3.0285 7.3116\" clip-path=\"url(#pe815d3b368)\" fill=\"none\" stroke=\"#ffffff\" stroke-width=\"2\"/><path d=\"m379.07 285.59h29.543v-29.543h-29.543z\" clip-path=\"url(#pe815d3b368)\" stroke=\"#000000\" stroke-width=\"1.5\"/><path d=\"m404.18 275.25c0-2.7413-1.0901-5.3732-3.0285-7.3116s-4.5702-3.0285-7.3116-3.0285-5.3732 1.0901-7.3116 3.0285c-1.9384 1.9384-3.0285 4.5702-3.0285 7.3116\" clip-path=\"url(#pe815d3b368)\" fill=\"none\" stroke=\"#ffffff\" stroke-width=\"2\"/><path d=\"m424.52 331.04h29.543v-29.543h-29.543z\" clip-path=\"url(#pe815d3b368)\" stroke=\"#000000\" stroke-width=\"1.5\"/><path d=\"m449.63 320.7c0-2.7413-1.0901-5.3732-3.0285-7.3116s-4.5702-3.0285-7.3116-3.0285-5.3732 1.0901-7.3116 3.0285c-1.9384 1.9384-3.0285 4.5702-3.0285 7.3116\" clip-path=\"url(#pe815d3b368)\" fill=\"none\" stroke=\"#ffffff\" stroke-width=\"2\"/><path d=\"m469.97 376.49h29.543v-29.543h-29.543z\" clip-path=\"url(#pe815d3b368)\" stroke=\"#000000\" stroke-width=\"1.5\"/><path d=\"m495.08 366.15c0-2.7413-1.0901-5.3732-3.0285-7.3116s-4.5702-3.0285-7.3116-3.0285-5.3732 1.0901-7.3116 3.0285c-1.9384 1.9384-3.0285 4.5702-3.0285 7.3116\" clip-path=\"url(#pe815d3b368)\" fill=\"none\" stroke=\"#ffffff\" stroke-width=\"2\"/><path d=\"m166.59 47.992 10.34-10.34\" clip-path=\"url(#pe815d3b368)\" fill=\"none\" stroke=\"#ffffff\" stroke-linecap=\"square\" stroke-width=\"2\"/><path d=\"m212.04 93.443 10.34-10.34\" clip-path=\"url(#pe815d3b368)\" fill=\"none\" stroke=\"#ffffff\" stroke-linecap=\"square\" stroke-width=\"2\"/><path d=\"m257.49 138.89 10.34-10.34\" clip-path=\"url(#pe815d3b368)\" fill=\"none\" stroke=\"#ffffff\" stroke-linecap=\"square\" stroke-width=\"2\"/><path d=\"m302.94 184.35 10.34-10.34\" clip-path=\"url(#pe815d3b368)\" fill=\"none\" stroke=\"#ffffff\" stroke-linecap=\"square\" stroke-width=\"2\"/><path d=\"m348.39 229.8 10.34-10.34\" clip-path=\"url(#pe815d3b368)\" fill=\"none\" stroke=\"#ffffff\" stroke-linecap=\"square\" stroke-width=\"2\"/><path d=\"m393.84 275.25 10.34-10.34\" clip-path=\"url(#pe815d3b368)\" fill=\"none\" stroke=\"#ffffff\" stroke-linecap=\"square\" stroke-width=\"2\"/><path d=\"m439.29 320.7 10.34-10.34\" clip-path=\"url(#pe815d3b368)\" fill=\"none\" stroke=\"#ffffff\" stroke-linecap=\"square\" stroke-width=\"2\"/><path d=\"m484.74 366.15 10.34-10.34\" clip-path=\"url(#pe815d3b368)\" fill=\"none\" stroke=\"#ffffff\" stroke-linecap=\"square\" stroke-width=\"2\"/><path d=\"m121.14 20.835v45.451\" clip-path=\"url(#pe815d3b368)\" fill=\"none\" stroke=\"#000000\" stroke-dasharray=\"3.7,1.6\"/><path d=\"m121.14 66.286v45.451\" clip-path=\"url(#pe815d3b368)\" fill=\"none\" stroke=\"#000000\" stroke-dasharray=\"3.7,1.6\"/><path d=\"m121.14 111.74v45.451\" clip-path=\"url(#pe815d3b368)\" fill=\"none\" stroke=\"#000000\" stroke-dasharray=\"3.7,1.6\"/><path d=\"m121.14 157.19v45.451\" clip-path=\"url(#pe815d3b368)\" fill=\"none\" stroke=\"#000000\" stroke-dasharray=\"3.7,1.6\"/><path d=\"m121.14 202.64v45.451\" clip-path=\"url(#pe815d3b368)\" fill=\"none\" stroke=\"#000000\" stroke-dasharray=\"3.7,1.6\"/><path d=\"m121.14 248.09v45.451\" clip-path=\"url(#pe815d3b368)\" fill=\"none\" stroke=\"#000000\" stroke-dasharray=\"3.7,1.6\"/><path d=\"m121.14 293.54v45.451\" clip-path=\"url(#pe815d3b368)\" fill=\"none\" stroke=\"#000000\" stroke-dasharray=\"3.7,1.6\"/><path d=\"m121.14 338.99v45.451\" clip-path=\"url(#pe815d3b368)\" fill=\"none\" stroke=\"#000000\" stroke-dasharray=\"3.7,1.6\"/><g clip-path=\"url(#pe815d3b368)\"><g transform=\"translate(177.95 400.46) scale(.104 -.104)\"><defs><path id=\"DejaVuSans-30\" transform=\"scale(.015625)\" d=\"m2034 4250q-487 0-733-480-245-479-245-1442 0-959 245-1439 246-480 733-480 491 0 736 480 246 480 246 1439 0 963-246 1442-245 480-736 480zm0 500q785 0 1199-621 414-620 414-1801 0-1178-414-1799-414-620-1199-620-784 0-1198 620-414 621-414 1799 0 1181 414 1801 414 621 1198 621z\"/></defs><use xlink:href=\"#DejaVuSans-30\"/></g></g><g clip-path=\"url(#pe815d3b368)\"><g transform=\"translate(223.4 400.46) scale(.104 -.104)\"><defs><path id=\"DejaVuSans-31\" transform=\"scale(.015625)\" d=\"m794 531h1031v3560l-1122-225v575l1116 225h631v-4135h1031v-531h-2687v531z\"/></defs><use xlink:href=\"#DejaVuSans-31\"/></g></g><g clip-path=\"url(#pe815d3b368)\"><g transform=\"translate(268.85 400.46) scale(.104 -.104)\"><defs><path id=\"DejaVuSans-32\" transform=\"scale(.015625)\" d=\"m1228 531h2203v-531h-2962v531q359 372 979 998 621 627 780 809 303 340 423 576 121 236 121 464 0 372-261 606-261 235-680 235-297 0-627-103-329-103-704-313v638q381 153 712 231 332 78 607 78 725 0 1156-363 431-362 431-968 0-288-108-546-107-257-392-607-78-91-497-524-418-433-1181-1211z\"/></defs><use xlink:href=\"#DejaVuSans-32\"/></g></g><g clip-path=\"url(#pe815d3b368)\"><g transform=\"translate(314.3 400.46) scale(.104 -.104)\"><defs><path id=\"DejaVuSans-33\" transform=\"scale(.015625)\" d=\"m2597 2516q453-97 707-404 255-306 255-756 0-690-475-1069-475-378-1350-378-293 0-604 58t-642 174v609q262-153 574-231 313-78 654-78 593 0 904 234t311 681q0 413-289 645-289 233-804 233h-544v519h569q465 0 712 186t247 536q0 359-255 551-254 193-729 193-260 0-557-57-297-56-653-174v562q360 100 674 150t592 50q719 0 1137-327 419-326 419-882 0-388-222-655t-631-370z\"/></defs><use xlink:href=\"#DejaVuSans-33\"/></g></g><g clip-path=\"url(#pe815d3b368)\"><g transform=\"translate(359.75 400.46) scale(.104 -.104)\"><defs><path id=\"DejaVuSans-34\" transform=\"scale(.015625)\" d=\"m2419 4116-1594-2491h1594v2491zm-166 550h794v-3041h666v-525h-666v-1100h-628v1100h-2106v609l1940 2957z\"/></defs><use xlink:href=\"#DejaVuSans-34\"/></g></g><g clip-path=\"url(#pe815d3b368)\"><g transform=\"translate(405.2 400.46) scale(.104 -.104)\"><defs><path id=\"DejaVuSans-35\" transform=\"scale(.015625)\" d=\"m691 4666h2478v-532h-1900v-1143q137 47 274 70 138 23 276 23 781 0 1237-428 457-428 457-1159 0-753-469-1171-469-417-1322-417-294 0-599 50-304 50-629 150v635q281-153 581-228t634-75q541 0 856 284 316 284 316 772 0 487-316 771-315 285-856 285-253 0-505-56-251-56-513-175v2344z\"/></defs><use xlink:href=\"#DejaVuSans-35\"/></g></g><g clip-path=\"url(#pe815d3b368)\"><g transform=\"translate(450.66 400.46) scale(.104 -.104)\"><defs><path id=\"DejaVuSans-36\" transform=\"scale(.015625)\" d=\"m2113 2584q-425 0-674-291-248-290-248-796 0-503 248-796 249-292 674-292t673 292q248 293 248 796 0 506-248 796-248 291-673 291zm1253 1979v-575q-238 112-480 171-242 60-480 60-625 0-955-422-329-422-376-1275 184 272 462 417 279 145 613 145 703 0 1111-427 408-426 408-1160 0-719-425-1154-425-434-1131-434-810 0-1238 620-428 621-428 1799 0 1106 525 1764t1409 658q238 0 480-47t505-140z\"/></defs><use xlink:href=\"#DejaVuSans-36\"/></g></g><g clip-path=\"url(#pe815d3b368)\"><g transform=\"translate(496.11 400.46) scale(.104 -.104)\"><defs><path id=\"DejaVuSans-37\" transform=\"scale(.015625)\" d=\"m525 4666h3e3v-269l-1694-4397h-659l1594 4134h-2241v532z\"/></defs><use xlink:href=\"#DejaVuSans-37\"/></g></g><g clip-path=\"url(#pe815d3b368)\"><g transform=\"translate(34.852 47.867) scale(.1625 -.1625)\"><defs><path id=\"DejaVuSans-Oblique-71\" transform=\"scale(.015625)\" d=\"m2669 525q-231-303-546-460-314-156-695-156-531 0-833 358-301 358-301 986 0 506 186 978t533 847q225 244 517 375t614 131q387 0 637-153t363-462l100 525h578l-934-4813h-579l360 1844zm-1778 813q0-463 193-705 194-242 560-242 544 0 928 520t384 1264q0 450-199 689-198 239-569 239-272 0-504-127-231-126-403-370-181-256-286-600-104-343-104-668z\"/><path id=\"DejaVuSans-7c\" transform=\"scale(.015625)\" d=\"m1344 4891v-6400h-531v6400h531z\"/><path id=\"DejaVuSans-3e\" transform=\"scale(.015625)\" d=\"m678 3150v569l4006-1453v-519l-4006-1453v569l3219 1140-3219 1147z\"/></defs><use transform=\"translate(0 .57812)\" xlink:href=\"#DejaVuSans-Oblique-71\"/><use transform=\"translate(63.477 -15.828) scale(.7)\" xlink:href=\"#DejaVuSans-30\"/><use transform=\"translate(110.75 .57812)\" xlink:href=\"#DejaVuSans-20\"/><use transform=\"translate(142.53 .57812)\" xlink:href=\"#DejaVuSans-7c\"/><use transform=\"translate(176.23 .57812)\" xlink:href=\"#DejaVuSans-30\"/><use transform=\"translate(239.85 .57812)\" xlink:href=\"#DejaVuSans-3e\"/></g></g><g clip-path=\"url(#pe815d3b368)\"><g transform=\"translate(34.852 93.318) scale(.1625 -.1625)\"><use transform=\"translate(0 .57812)\" xlink:href=\"#DejaVuSans-Oblique-71\"/><use transform=\"translate(63.477 -15.828) scale(.7)\" xlink:href=\"#DejaVuSans-31\"/><use transform=\"translate(110.75 .57812)\" xlink:href=\"#DejaVuSans-20\"/><use transform=\"translate(142.53 .57812)\" xlink:href=\"#DejaVuSans-7c\"/><use transform=\"translate(176.23 .57812)\" xlink:href=\"#DejaVuSans-30\"/><use transform=\"translate(239.85 .57812)\" xlink:href=\"#DejaVuSans-3e\"/></g></g><g clip-path=\"url(#pe815d3b368)\"><g transform=\"translate(34.852 138.77) scale(.1625 -.1625)\"><use transform=\"translate(0 .57812)\" xlink:href=\"#DejaVuSans-Oblique-71\"/><use transform=\"translate(63.477 -15.828) scale(.7)\" xlink:href=\"#DejaVuSans-32\"/><use transform=\"translate(110.75 .57812)\" xlink:href=\"#DejaVuSans-20\"/><use transform=\"translate(142.53 .57812)\" xlink:href=\"#DejaVuSans-7c\"/><use transform=\"translate(176.23 .57812)\" xlink:href=\"#DejaVuSans-30\"/><use transform=\"translate(239.85 .57812)\" xlink:href=\"#DejaVuSans-3e\"/></g></g><g clip-path=\"url(#pe815d3b368)\"><g transform=\"translate(34.852 184.22) scale(.1625 -.1625)\"><use transform=\"translate(0 .57812)\" xlink:href=\"#DejaVuSans-Oblique-71\"/><use transform=\"translate(63.477 -15.828) scale(.7)\" xlink:href=\"#DejaVuSans-33\"/><use transform=\"translate(110.75 .57812)\" xlink:href=\"#DejaVuSans-20\"/><use transform=\"translate(142.53 .57812)\" xlink:href=\"#DejaVuSans-7c\"/><use transform=\"translate(176.23 .57812)\" xlink:href=\"#DejaVuSans-30\"/><use transform=\"translate(239.85 .57812)\" xlink:href=\"#DejaVuSans-3e\"/></g></g><g clip-path=\"url(#pe815d3b368)\"><g transform=\"translate(34.852 229.67) scale(.1625 -.1625)\"><use transform=\"translate(0 .57812)\" xlink:href=\"#DejaVuSans-Oblique-71\"/><use transform=\"translate(63.477 -15.828) scale(.7)\" xlink:href=\"#DejaVuSans-34\"/><use transform=\"translate(110.75 .57812)\" xlink:href=\"#DejaVuSans-20\"/><use transform=\"translate(142.53 .57812)\" xlink:href=\"#DejaVuSans-7c\"/><use transform=\"translate(176.23 .57812)\" xlink:href=\"#DejaVuSans-30\"/><use transform=\"translate(239.85 .57812)\" xlink:href=\"#DejaVuSans-3e\"/></g></g><g clip-path=\"url(#pe815d3b368)\"><g transform=\"translate(34.852 275.12) scale(.1625 -.1625)\"><use transform=\"translate(0 .57812)\" xlink:href=\"#DejaVuSans-Oblique-71\"/><use transform=\"translate(63.477 -15.828) scale(.7)\" xlink:href=\"#DejaVuSans-35\"/><use transform=\"translate(110.75 .57812)\" xlink:href=\"#DejaVuSans-20\"/><use transform=\"translate(142.53 .57812)\" xlink:href=\"#DejaVuSans-7c\"/><use transform=\"translate(176.23 .57812)\" xlink:href=\"#DejaVuSans-30\"/><use transform=\"translate(239.85 .57812)\" xlink:href=\"#DejaVuSans-3e\"/></g></g><g clip-path=\"url(#pe815d3b368)\"><g transform=\"translate(34.852 320.57) scale(.1625 -.1625)\"><use transform=\"translate(0 .57812)\" xlink:href=\"#DejaVuSans-Oblique-71\"/><use transform=\"translate(63.477 -15.828) scale(.7)\" xlink:href=\"#DejaVuSans-36\"/><use transform=\"translate(110.75 .57812)\" xlink:href=\"#DejaVuSans-20\"/><use transform=\"translate(142.53 .57812)\" xlink:href=\"#DejaVuSans-7c\"/><use transform=\"translate(176.23 .57812)\" xlink:href=\"#DejaVuSans-30\"/><use transform=\"translate(239.85 .57812)\" xlink:href=\"#DejaVuSans-3e\"/></g></g><g clip-path=\"url(#pe815d3b368)\"><g transform=\"translate(34.852 366.02) scale(.1625 -.1625)\"><use transform=\"translate(0 .57812)\" xlink:href=\"#DejaVuSans-Oblique-71\"/><use transform=\"translate(63.477 -15.828) scale(.7)\" xlink:href=\"#DejaVuSans-37\"/><use transform=\"translate(110.75 .57812)\" xlink:href=\"#DejaVuSans-20\"/><use transform=\"translate(142.53 .57812)\" xlink:href=\"#DejaVuSans-7c\"/><use transform=\"translate(176.23 .57812)\" xlink:href=\"#DejaVuSans-30\"/><use transform=\"translate(239.85 .57812)\" xlink:href=\"#DejaVuSans-3e\"/></g></g><g clip-path=\"url(#pe815d3b368)\"><g transform=\"translate(101.14 400.46) scale(.104 -.104)\"><defs><path id=\"DejaVuSans-38\" transform=\"scale(.015625)\" d=\"m2034 2216q-450 0-708-241-257-241-257-662 0-422 257-663 258-241 708-241t709 242q260 243 260 662 0 421-258 662-257 241-711 241zm-631 268q-406 100-633 378-226 279-226 679 0 559 398 884 399 325 1092 325 697 0 1094-325t397-884q0-400-227-679-226-278-629-378 456-106 710-416 255-309 255-755 0-679-414-1042-414-362-1186-362-771 0-1186 362-414 363-414 1042 0 446 256 755 257 310 713 416zm-231 997q0-362 226-565 227-203 636-203 407 0 636 203 230 203 230 565 0 363-230 566-229 203-636 203-409 0-636-203-226-203-226-566z\"/></defs><use xlink:href=\"#DejaVuSans-38\"/></g></g><g clip-path=\"url(#pe815d3b368)\"><g transform=\"translate(27.748 411.65) scale(.1625 -.1625)\"><defs><path id=\"DejaVuSans-6d\" transform=\"scale(.015625)\" d=\"m3328 2828q216 388 516 572t706 184q547 0 844-383 297-382 297-1088v-2113h-578v2094q0 503-179 746-178 244-543 244-447 0-707-297-259-296-259-809v-1978h-578v2094q0 506-178 748t-550 242q-441 0-701-298-259-298-259-808v-1978h-578v3500h578v-544q197 322 472 475t653 153q382 0 649-194 267-193 395-562z\"/><path id=\"DejaVuSans-65\" transform=\"scale(.015625)\" d=\"m3597 1894v-281h-2644q38-594 358-905t892-311q331 0 642 81t618 244v-544q-310-131-635-200t-659-69q-838 0-1327 487-489 488-489 1320 0 859 464 1363 464 505 1252 505 706 0 1117-455 411-454 411-1235zm-575 169q-6 471-264 752-258 282-683 282-481 0-770-272t-333-766l2050 4z\"/><path id=\"DejaVuSans-61\" transform=\"scale(.015625)\" d=\"m2194 1759q-697 0-966-159t-269-544q0-306 202-486 202-179 548-179 479 0 768 339t289 901v128h-572zm1147 238v-1997h-575v531q-197-318-491-470t-719-152q-537 0-855 302-317 302-317 808 0 590 395 890 396 300 1180 300h807v57q0 397-261 614t-733 217q-300 0-585-72-284-72-546-216v532q315 122 612 182 297 61 578 61 760 0 1135-394 375-393 375-1193z\"/><path id=\"DejaVuSans-73\" transform=\"scale(.015625)\" d=\"m2834 3397v-544q-243 125-506 187-262 63-544 63-428 0-642-131t-214-394q0-200 153-314t616-217l197-44q612-131 870-370t258-667q0-488-386-773-386-284-1061-284-281 0-586 55t-642 164v594q319-166 628-249 309-82 613-82 406 0 624 139 219 139 219 392 0 234-158 359-157 125-692 241l-200 47q-534 112-772 345-237 233-237 639 0 494 350 762 350 269 994 269 318 0 599-47 282-46 519-140z\"/></defs><use xlink:href=\"#DejaVuSans-6d\"/><use x=\"97.412109\" xlink:href=\"#DejaVuSans-65\"/><use x=\"158.935547\" xlink:href=\"#DejaVuSans-61\"/><use x=\"220.214844\" xlink:href=\"#DejaVuSans-73\"/><use x=\"272.314453\" xlink:href=\"#DejaVuSans-20\"/><use x=\"304.101562\" xlink:href=\"#DejaVuSans-30\"/></g></g><defs><clipPath id=\"pe815d3b368\"><rect x=\"7.2\" y=\"7.2\" width=\"507.54\" height=\"427.24\"/></clipPath></defs></svg>"
            ],
            "text/plain": [
              "<Figure size 672.241x565.88 with 1 Axes>"
            ]
          },
          "execution_count": 5,
          "metadata": {
          },
          "output_type": "execute_result"
        }
      ],
      "source": [
        "qc_output.draw(initial_state=True) "
      ]
    },
    {
      "cell_type": "markdown",
      "metadata": {
      },
      "source": [
        "큐비트는 항상 `0` 을 출력하도록 초기화됩니다. 위의 회로에서는 큐비트에 아무 일도 하지 않았기 때문에 이것이 바로 큐비트를 측정할 때 얻을 수 있는 결과입니다. 회로를 여러 번 실행하고 결과를 히스토그램으로 표시하면 이것을 확인할 수 있습니다. 결과는 항상 `00000000` : 각 큐비트의 값이 `0` 임을 알 수 있습니다."
      ]
    },
    {
      "cell_type": "code",
      "execution_count": 6,
      "metadata": {
      },
      "outputs": [
        {
          "data": {
            "image/svg+xml": [
              "<?xml version=\"1.0\" encoding=\"UTF-8\"?><!DOCTYPE svg  PUBLIC '-//W3C//DTD SVG 1.1//EN'  'http://www.w3.org/Graphics/SVG/1.1/DTD/svg11.dtd'><svg width=\"460.72pt\" height=\"364.8pt\" version=\"1.1\" viewBox=\"0 0 460.72 364.8\" xmlns=\"http://www.w3.org/2000/svg\" xmlns:xlink=\"http://www.w3.org/1999/xlink\"><defs><style type=\"text/css\">*{stroke-linecap:butt;stroke-linejoin:round;}</style></defs><path d=\"m0 364.8h460.72v-364.8h-460.72z\" fill=\"none\"/><path d=\"m62.921 279h390.6v-271.8h-390.6z\" fill=\"#ffffff\"/><defs><path id=\"mbe343afcd1\" d=\"m0 0v3.5\" stroke=\"#000000\" stroke-width=\".8\"/></defs><use x=\"258.22125\" y=\"279\" stroke=\"#000000\" stroke-width=\".8\" xlink:href=\"#mbe343afcd1\"/><g transform=\"translate(249.67 356.6) rotate(-70) scale(.14 -.14)\"><defs><path id=\"DejaVuSans-30\" transform=\"scale(.015625)\" d=\"m2034 4250q-487 0-733-480-245-479-245-1442 0-959 245-1439 246-480 733-480 491 0 736 480 246 480 246 1439 0 963-246 1442-245 480-736 480zm0 500q785 0 1199-621 414-620 414-1801 0-1178-414-1799-414-620-1199-620-784 0-1198 620-414 621-414 1799 0 1181 414 1801 414 621 1198 621z\"/></defs><use xlink:href=\"#DejaVuSans-30\"/><use x=\"63.623047\" xlink:href=\"#DejaVuSans-30\"/><use x=\"127.246094\" xlink:href=\"#DejaVuSans-30\"/><use x=\"190.869141\" xlink:href=\"#DejaVuSans-30\"/><use x=\"254.492188\" xlink:href=\"#DejaVuSans-30\"/><use x=\"318.115234\" xlink:href=\"#DejaVuSans-30\"/><use x=\"381.738281\" xlink:href=\"#DejaVuSans-30\"/><use x=\"445.361328\" xlink:href=\"#DejaVuSans-30\"/></g><path d=\"m62.921 279h390.6\" clip-path=\"url(#pa205c310c0)\" fill=\"none\" stroke=\"#b0b0b0\" stroke-dasharray=\"2.96,1.28\" stroke-width=\".8\"/><defs><path id=\"m6d38be090a\" d=\"m0 0h-3.5\" stroke=\"#000000\" stroke-width=\".8\"/></defs><use x=\"62.92125\" y=\"279\" stroke=\"#000000\" stroke-width=\".8\" xlink:href=\"#m6d38be090a\"/><g transform=\"translate(24.749 284.32) scale(.14 -.14)\"><defs><path id=\"DejaVuSans-2e\" transform=\"scale(.015625)\" d=\"m684 794h660v-794h-660v794z\"/></defs><use xlink:href=\"#DejaVuSans-30\"/><use x=\"63.623047\" xlink:href=\"#DejaVuSans-2e\"/><use x=\"95.410156\" xlink:href=\"#DejaVuSans-30\"/><use x=\"159.033203\" xlink:href=\"#DejaVuSans-30\"/></g><path d=\"m62.921 222.38h390.6\" clip-path=\"url(#pa205c310c0)\" fill=\"none\" stroke=\"#b0b0b0\" stroke-dasharray=\"2.96,1.28\" stroke-width=\".8\"/><use x=\"62.92125\" y=\"222.375\" stroke=\"#000000\" stroke-width=\".8\" xlink:href=\"#m6d38be090a\"/><g transform=\"translate(24.749 227.69) scale(.14 -.14)\"><defs><path id=\"DejaVuSans-32\" transform=\"scale(.015625)\" d=\"m1228 531h2203v-531h-2962v531q359 372 979 998 621 627 780 809 303 340 423 576 121 236 121 464 0 372-261 606-261 235-680 235-297 0-627-103-329-103-704-313v638q381 153 712 231 332 78 607 78 725 0 1156-363 431-362 431-968 0-288-108-546-107-257-392-607-78-91-497-524-418-433-1181-1211z\"/><path id=\"DejaVuSans-35\" transform=\"scale(.015625)\" d=\"m691 4666h2478v-532h-1900v-1143q137 47 274 70 138 23 276 23 781 0 1237-428 457-428 457-1159 0-753-469-1171-469-417-1322-417-294 0-599 50-304 50-629 150v635q281-153 581-228t634-75q541 0 856 284 316 284 316 772 0 487-316 771-315 285-856 285-253 0-505-56-251-56-513-175v2344z\"/></defs><use xlink:href=\"#DejaVuSans-30\"/><use x=\"63.623047\" xlink:href=\"#DejaVuSans-2e\"/><use x=\"95.410156\" xlink:href=\"#DejaVuSans-32\"/><use x=\"159.033203\" xlink:href=\"#DejaVuSans-35\"/></g><path d=\"m62.921 165.75h390.6\" clip-path=\"url(#pa205c310c0)\" fill=\"none\" stroke=\"#b0b0b0\" stroke-dasharray=\"2.96,1.28\" stroke-width=\".8\"/><use x=\"62.92125\" y=\"165.75\" stroke=\"#000000\" stroke-width=\".8\" xlink:href=\"#m6d38be090a\"/><g transform=\"translate(24.749 171.07) scale(.14 -.14)\"><use xlink:href=\"#DejaVuSans-30\"/><use x=\"63.623047\" xlink:href=\"#DejaVuSans-2e\"/><use x=\"95.410156\" xlink:href=\"#DejaVuSans-35\"/><use x=\"159.033203\" xlink:href=\"#DejaVuSans-30\"/></g><path d=\"m62.921 109.12h390.6\" clip-path=\"url(#pa205c310c0)\" fill=\"none\" stroke=\"#b0b0b0\" stroke-dasharray=\"2.96,1.28\" stroke-width=\".8\"/><use x=\"62.92125\" y=\"109.125\" stroke=\"#000000\" stroke-width=\".8\" xlink:href=\"#m6d38be090a\"/><g transform=\"translate(24.749 114.44) scale(.14 -.14)\"><defs><path id=\"DejaVuSans-37\" transform=\"scale(.015625)\" d=\"m525 4666h3e3v-269l-1694-4397h-659l1594 4134h-2241v532z\"/></defs><use xlink:href=\"#DejaVuSans-30\"/><use x=\"63.623047\" xlink:href=\"#DejaVuSans-2e\"/><use x=\"95.410156\" xlink:href=\"#DejaVuSans-37\"/><use x=\"159.033203\" xlink:href=\"#DejaVuSans-35\"/></g><path d=\"m62.921 52.5h390.6\" clip-path=\"url(#pa205c310c0)\" fill=\"none\" stroke=\"#b0b0b0\" stroke-dasharray=\"2.96,1.28\" stroke-width=\".8\"/><use x=\"62.92125\" y=\"52.5\" stroke=\"#000000\" stroke-width=\".8\" xlink:href=\"#m6d38be090a\"/><g transform=\"translate(24.749 57.819) scale(.14 -.14)\"><defs><path id=\"DejaVuSans-31\" transform=\"scale(.015625)\" d=\"m794 531h1031v3560l-1122-225v575l1116 225h631v-4135h1031v-531h-2687v531z\"/></defs><use xlink:href=\"#DejaVuSans-31\"/><use x=\"63.623047\" xlink:href=\"#DejaVuSans-2e\"/><use x=\"95.410156\" xlink:href=\"#DejaVuSans-30\"/><use x=\"159.033203\" xlink:href=\"#DejaVuSans-30\"/></g><g transform=\"translate(17.838 185.86) rotate(-90) scale(.14 -.14)\"><defs><path id=\"DejaVuSans-50\" transform=\"scale(.015625)\" d=\"m1259 4147v-1753h794q441 0 681 228 241 228 241 650 0 419-241 647-240 228-681 228h-794zm-631 519h1425q785 0 1186-355 402-355 402-1039 0-691-402-1044-401-353-1186-353h-794v-1875h-631v4666z\"/><path id=\"DejaVuSans-72\" transform=\"scale(.015625)\" d=\"m2631 2963q-97 56-211 82-114 27-251 27-488 0-749-317t-261-911v-1844h-578v3500h578v-544q182 319 472 473 291 155 707 155 59 0 131-8 72-7 159-23l3-590z\"/><path id=\"DejaVuSans-6f\" transform=\"scale(.015625)\" d=\"m1959 3097q-462 0-731-361t-269-989 267-989q268-361 733-361 460 0 728 362 269 363 269 988 0 622-269 986-268 364-728 364zm0 487q750 0 1178-488 429-487 429-1349 0-859-429-1349-428-489-1178-489-753 0-1180 489-426 490-426 1349 0 862 426 1349 427 488 1180 488z\"/><path id=\"DejaVuSans-62\" transform=\"scale(.015625)\" d=\"m3116 1747q0 634-261 995t-717 361q-457 0-718-361t-261-995 261-995 718-361q456 0 717 361t261 995zm-1957 1222q182 312 458 463 277 152 661 152 638 0 1036-506 399-506 399-1331t-399-1332q-398-506-1036-506-384 0-661 152-276 152-458 464v-525h-578v4863h578v-1894z\"/><path id=\"DejaVuSans-61\" transform=\"scale(.015625)\" d=\"m2194 1759q-697 0-966-159t-269-544q0-306 202-486 202-179 548-179 479 0 768 339t289 901v128h-572zm1147 238v-1997h-575v531q-197-318-491-470t-719-152q-537 0-855 302-317 302-317 808 0 590 395 890 396 300 1180 300h807v57q0 397-261 614t-733 217q-300 0-585-72-284-72-546-216v532q315 122 612 182 297 61 578 61 760 0 1135-394 375-393 375-1193z\"/><path id=\"DejaVuSans-69\" transform=\"scale(.015625)\" d=\"m603 3500h575v-3500h-575v3500zm0 1363h575v-729h-575v729z\"/><path id=\"DejaVuSans-6c\" transform=\"scale(.015625)\" d=\"m603 4863h575v-4863h-575v4863z\"/><path id=\"DejaVuSans-74\" transform=\"scale(.015625)\" d=\"m1172 4494v-994h1184v-447h-1184v-1900q0-428 117-550t477-122h590v-481h-590q-666 0-919 248-253 249-253 905v1900h-422v447h422v994h578z\"/><path id=\"DejaVuSans-65\" transform=\"scale(.015625)\" d=\"m3597 1894v-281h-2644q38-594 358-905t892-311q331 0 642 81t618 244v-544q-310-131-635-200t-659-69q-838 0-1327 487-489 488-489 1320 0 859 464 1363 464 505 1252 505 706 0 1117-455 411-454 411-1235zm-575 169q-6 471-264 752-258 282-683 282-481 0-770-272t-333-766l2050 4z\"/><path id=\"DejaVuSans-73\" transform=\"scale(.015625)\" d=\"m2834 3397v-544q-243 125-506 187-262 63-544 63-428 0-642-131t-214-394q0-200 153-314t616-217l197-44q612-131 870-370t258-667q0-488-386-773-386-284-1061-284-281 0-586 55t-642 164v594q319-166 628-249 309-82 613-82 406 0 624 139 219 139 219 392 0 234-158 359-157 125-692 241l-200 47q-534 112-772 345-237 233-237 639 0 494 350 762 350 269 994 269 318 0 599-47 282-46 519-140z\"/></defs><use xlink:href=\"#DejaVuSans-50\"/><use x=\"58.552734\" xlink:href=\"#DejaVuSans-72\"/><use x=\"97.416016\" xlink:href=\"#DejaVuSans-6f\"/><use x=\"158.597656\" xlink:href=\"#DejaVuSans-62\"/><use x=\"222.074219\" xlink:href=\"#DejaVuSans-61\"/><use x=\"283.353516\" xlink:href=\"#DejaVuSans-62\"/><use x=\"346.830078\" xlink:href=\"#DejaVuSans-69\"/><use x=\"374.613281\" xlink:href=\"#DejaVuSans-6c\"/><use x=\"402.396484\" xlink:href=\"#DejaVuSans-69\"/><use x=\"430.179688\" xlink:href=\"#DejaVuSans-74\"/><use x=\"469.388672\" xlink:href=\"#DejaVuSans-69\"/><use x=\"497.171875\" xlink:href=\"#DejaVuSans-65\"/><use x=\"558.695312\" xlink:href=\"#DejaVuSans-73\"/></g><path d=\"m80.676 279h355.09v-226.5h-355.09z\" clip-path=\"url(#pa205c310c0)\" fill=\"#648fff\"/><path d=\"m62.921 279v-271.8\" fill=\"none\" stroke=\"#000000\" stroke-linecap=\"square\" stroke-width=\".8\"/><path d=\"m453.52 279v-271.8\" fill=\"none\" stroke=\"#000000\" stroke-linecap=\"square\" stroke-width=\".8\"/><path d=\"m62.921 279h390.6\" fill=\"none\" stroke=\"#000000\" stroke-linecap=\"square\" stroke-width=\".8\"/><path d=\"m62.921 7.2h390.6\" fill=\"none\" stroke=\"#000000\" stroke-linecap=\"square\" stroke-width=\".8\"/><g transform=\"translate(243.91 39.095) scale(.1 -.1)\"><use xlink:href=\"#DejaVuSans-31\"/><use x=\"63.623047\" xlink:href=\"#DejaVuSans-2e\"/><use x=\"95.410156\" xlink:href=\"#DejaVuSans-30\"/><use x=\"159.033203\" xlink:href=\"#DejaVuSans-30\"/><use x=\"222.65625\" xlink:href=\"#DejaVuSans-30\"/></g><defs><clipPath id=\"pa205c310c0\"><rect x=\"62.921\" y=\"7.2\" width=\"390.6\" height=\"271.8\"/></clipPath></defs></svg>"
            ],
            "text/plain": [
              "<Figure size 504x360 with 1 Axes>"
            ]
          },
          "execution_count": 6,
          "metadata": {
          },
          "output_type": "execute_result"
        }
      ],
      "source": [
        "sim = Aer.get_backend('aer_simulator') \n",
        "result = sim.run(qc_output).result()\n",
        "counts = result.get_counts()\n",
        "plot_histogram(counts)"
      ]
    },
    {
      "cell_type": "markdown",
      "metadata": {
      },
      "source": [
        "여러 번 실행하고 결과를 히스토그램으로 표시하는 이유는 양자 컴퓨터의 결과에 임의성이 있을 수 있기 때문입니다. 위의 경우 양자에 어떤 일도 하지 않았기 때문에 `00000000`  결과를 확실하게 얻습니다.\n",
        "\n",
        "이 결과는 양자 시뮬레이터를 통해 얻은 것인데요. 양자 시뮬레이터는 이상적인 양자 컴퓨터가 수행하는 것처럼 계산하는 표준 컴퓨터입니다. 시뮬레이션은 적은 수의 큐비트(~30큐비트)에 대해서만 가능하지만, 그럼에도 불구하고 첫 번째 양자 회로를 설계할 때 매우 유용한 도구입니다. 실제 장치에서 실행하려면 `Aer.get_backend('aer_simulator')`  를 여러분이 사용하려는 장치의 백엔드 객체로 바꾸기만 하면 됩니다. "
      ]
    },
    {
      "cell_type": "markdown",
      "metadata": {
      },
      "source": [
        "## 4. 예제: 가산기 회로 생성<a id=\"adder\"></a>\n",
        "\n",
        "### 입력 인코딩<a id=\"encoding\"></a>\n",
        "\n",
        "이제 다른 이진 문자열을 입력으로 인코딩하는 방법을 살펴보겠습니다. 이를 위해 NOT 게이트라는 것이 필요합니다. 이는 컴퓨터에서 할 수 있는 가장 기본적인 작업입니다. 비트 값을 단순히 뒤집는 거죠. `0` 은 `1` 이 되고 `1` 은 `0` 이 됩니다. 큐비트의 경우 NOT 작업을 수행하는 것은 `x` 라는 작업입니다.\n",
        "\n",
        "아래에서 인코딩 작업 전용의 새 회로를 만들고 <code>qc_encode</code> 라고 부르겠습니다. 지금은 큐비트 수만 지정합니다."
      ]
    },
    {
      "cell_type": "code",
      "execution_count": 7,
      "metadata": {
      },
      "outputs": [
        {
          "data": {
            "image/svg+xml": [
              "<?xml version=\"1.0\" encoding=\"UTF-8\"?><!DOCTYPE svg  PUBLIC '-//W3C//DTD SVG 1.1//EN'  'http://www.w3.org/Graphics/SVG/1.1/DTD/svg11.dtd'><svg width=\"125.23pt\" height=\"396.19pt\" version=\"1.1\" viewBox=\"0 0 125.23 396.19\" xmlns=\"http://www.w3.org/2000/svg\" xmlns:xlink=\"http://www.w3.org/1999/xlink\"><defs><style type=\"text/css\">*{stroke-linecap:butt;stroke-linejoin:round;}</style></defs><path d=\"m0 396.19h125.23v-396.19h-125.23z\" fill=\"#ffffff\"/><path d=\"m63.491 43.561h49.996\" clip-path=\"url(#pdd02188ee0)\" fill=\"none\" stroke=\"#000000\" stroke-linecap=\"square\" stroke-width=\"2\"/><path d=\"m63.491 89.012h49.996\" clip-path=\"url(#pdd02188ee0)\" fill=\"none\" stroke=\"#000000\" stroke-linecap=\"square\" stroke-width=\"2\"/><path d=\"m63.491 134.46h49.996\" clip-path=\"url(#pdd02188ee0)\" fill=\"none\" stroke=\"#000000\" stroke-linecap=\"square\" stroke-width=\"2\"/><path d=\"m63.491 179.91h49.996\" clip-path=\"url(#pdd02188ee0)\" fill=\"none\" stroke=\"#000000\" stroke-linecap=\"square\" stroke-width=\"2\"/><path d=\"m63.491 225.36h49.996\" clip-path=\"url(#pdd02188ee0)\" fill=\"none\" stroke=\"#000000\" stroke-linecap=\"square\" stroke-width=\"2\"/><path d=\"m63.491 270.82h49.996\" clip-path=\"url(#pdd02188ee0)\" fill=\"none\" stroke=\"#000000\" stroke-linecap=\"square\" stroke-width=\"2\"/><path d=\"m63.491 316.27h49.996\" clip-path=\"url(#pdd02188ee0)\" fill=\"none\" stroke=\"#000000\" stroke-linecap=\"square\" stroke-width=\"2\"/><path d=\"m63.491 361.72h49.996\" clip-path=\"url(#pdd02188ee0)\" fill=\"none\" stroke=\"#000000\" stroke-linecap=\"square\" stroke-width=\"2\"/><path d=\"m73.263 376.49h29.543v-29.543h-29.543z\" clip-path=\"url(#pdd02188ee0)\" fill=\"#05bab6\" stroke=\"#05bab6\" stroke-width=\"1.5\"/><g clip-path=\"url(#pdd02188ee0)\"><g transform=\"translate(83.582 365.3) scale(.13 -.13)\"><defs><path id=\"DejaVuSans-58\" transform=\"scale(.015625)\" d=\"m403 4666h678l1160-1735 1165 1735h678l-1500-2241 1600-2425h-678l-1312 1984-1322-1984h-681l1665 2491-1453 2175z\"/></defs><use xlink:href=\"#DejaVuSans-58\"/></g></g><g clip-path=\"url(#pdd02188ee0)\"><g transform=\"translate(36.363 48.012) scale(.1625 -.1625)\"><defs><path id=\"DejaVuSans-Oblique-71\" transform=\"scale(.015625)\" d=\"m2669 525q-231-303-546-460-314-156-695-156-531 0-833 358-301 358-301 986 0 506 186 978t533 847q225 244 517 375t614 131q387 0 637-153t363-462l100 525h578l-934-4813h-579l360 1844zm-1778 813q0-463 193-705 194-242 560-242 544 0 928 520t384 1264q0 450-199 689-198 239-569 239-272 0-504-127-231-126-403-370-181-256-286-600-104-343-104-668z\"/><path id=\"DejaVuSans-30\" transform=\"scale(.015625)\" d=\"m2034 4250q-487 0-733-480-245-479-245-1442 0-959 245-1439 246-480 733-480 491 0 736 480 246 480 246 1439 0 963-246 1442-245 480-736 480zm0 500q785 0 1199-621 414-620 414-1801 0-1178-414-1799-414-620-1199-620-784 0-1198 620-414 621-414 1799 0 1181 414 1801 414 621 1198 621z\"/></defs><use xlink:href=\"#DejaVuSans-Oblique-71\"/><use transform=\"translate(63.477 -16.406) scale(.7)\" xlink:href=\"#DejaVuSans-30\"/></g></g><g clip-path=\"url(#pdd02188ee0)\"><g transform=\"translate(36.363 93.463) scale(.1625 -.1625)\"><defs><path id=\"DejaVuSans-31\" transform=\"scale(.015625)\" d=\"m794 531h1031v3560l-1122-225v575l1116 225h631v-4135h1031v-531h-2687v531z\"/></defs><use xlink:href=\"#DejaVuSans-Oblique-71\"/><use transform=\"translate(63.477 -16.406) scale(.7)\" xlink:href=\"#DejaVuSans-31\"/></g></g><g clip-path=\"url(#pdd02188ee0)\"><g transform=\"translate(36.363 138.91) scale(.1625 -.1625)\"><defs><path id=\"DejaVuSans-32\" transform=\"scale(.015625)\" d=\"m1228 531h2203v-531h-2962v531q359 372 979 998 621 627 780 809 303 340 423 576 121 236 121 464 0 372-261 606-261 235-680 235-297 0-627-103-329-103-704-313v638q381 153 712 231 332 78 607 78 725 0 1156-363 431-362 431-968 0-288-108-546-107-257-392-607-78-91-497-524-418-433-1181-1211z\"/></defs><use xlink:href=\"#DejaVuSans-Oblique-71\"/><use transform=\"translate(63.477 -16.406) scale(.7)\" xlink:href=\"#DejaVuSans-32\"/></g></g><g clip-path=\"url(#pdd02188ee0)\"><g transform=\"translate(36.363 184.36) scale(.1625 -.1625)\"><defs><path id=\"DejaVuSans-33\" transform=\"scale(.015625)\" d=\"m2597 2516q453-97 707-404 255-306 255-756 0-690-475-1069-475-378-1350-378-293 0-604 58t-642 174v609q262-153 574-231 313-78 654-78 593 0 904 234t311 681q0 413-289 645-289 233-804 233h-544v519h569q465 0 712 186t247 536q0 359-255 551-254 193-729 193-260 0-557-57-297-56-653-174v562q360 100 674 150t592 50q719 0 1137-327 419-326 419-882 0-388-222-655t-631-370z\"/></defs><use xlink:href=\"#DejaVuSans-Oblique-71\"/><use transform=\"translate(63.477 -16.406) scale(.7)\" xlink:href=\"#DejaVuSans-33\"/></g></g><g clip-path=\"url(#pdd02188ee0)\"><g transform=\"translate(36.363 229.82) scale(.1625 -.1625)\"><defs><path id=\"DejaVuSans-34\" transform=\"scale(.015625)\" d=\"m2419 4116-1594-2491h1594v2491zm-166 550h794v-3041h666v-525h-666v-1100h-628v1100h-2106v609l1940 2957z\"/></defs><use xlink:href=\"#DejaVuSans-Oblique-71\"/><use transform=\"translate(63.477 -16.406) scale(.7)\" xlink:href=\"#DejaVuSans-34\"/></g></g><g clip-path=\"url(#pdd02188ee0)\"><g transform=\"translate(36.363 275.27) scale(.1625 -.1625)\"><defs><path id=\"DejaVuSans-35\" transform=\"scale(.015625)\" d=\"m691 4666h2478v-532h-1900v-1143q137 47 274 70 138 23 276 23 781 0 1237-428 457-428 457-1159 0-753-469-1171-469-417-1322-417-294 0-599 50-304 50-629 150v635q281-153 581-228t634-75q541 0 856 284 316 284 316 772 0 487-316 771-315 285-856 285-253 0-505-56-251-56-513-175v2344z\"/></defs><use xlink:href=\"#DejaVuSans-Oblique-71\"/><use transform=\"translate(63.477 -16.406) scale(.7)\" xlink:href=\"#DejaVuSans-35\"/></g></g><g clip-path=\"url(#pdd02188ee0)\"><g transform=\"translate(36.363 320.72) scale(.1625 -.1625)\"><defs><path id=\"DejaVuSans-36\" transform=\"scale(.015625)\" d=\"m2113 2584q-425 0-674-291-248-290-248-796 0-503 248-796 249-292 674-292t673 292q248 293 248 796 0 506-248 796-248 291-673 291zm1253 1979v-575q-238 112-480 171-242 60-480 60-625 0-955-422-329-422-376-1275 184 272 462 417 279 145 613 145 703 0 1111-427 408-426 408-1160 0-719-425-1154-425-434-1131-434-810 0-1238 620-428 621-428 1799 0 1106 525 1764t1409 658q238 0 480-47t505-140z\"/></defs><use xlink:href=\"#DejaVuSans-Oblique-71\"/><use transform=\"translate(63.477 -16.406) scale(.7)\" xlink:href=\"#DejaVuSans-36\"/></g></g><g clip-path=\"url(#pdd02188ee0)\"><g transform=\"translate(36.363 366.17) scale(.1625 -.1625)\"><defs><path id=\"DejaVuSans-37\" transform=\"scale(.015625)\" d=\"m525 4666h3e3v-269l-1694-4397h-659l1594 4134h-2241v532z\"/></defs><use xlink:href=\"#DejaVuSans-Oblique-71\"/><use transform=\"translate(63.477 -16.406) scale(.7)\" xlink:href=\"#DejaVuSans-37\"/></g></g><defs><clipPath id=\"pdd02188ee0\"><rect x=\"7.2\" y=\"7.2\" width=\"110.83\" height=\"381.79\"/></clipPath></defs></svg>"
            ],
            "text/plain": [
              "<Figure size 146.797x505.68 with 1 Axes>"
            ]
          },
          "execution_count": 7,
          "metadata": {
          },
          "output_type": "execute_result"
        }
      ],
      "source": [
        "qc_encode = QuantumCircuit(8)\n",
        "qc_encode.x(7)\n",
        "qc_encode.draw()"
      ]
    },
    {
      "cell_type": "markdown",
      "metadata": {
      },
      "source": [
        "결과 추출은 이전의 `qc_output` 회로를 사용합니다."
      ]
    },
    {
      "cell_type": "code",
      "execution_count": 8,
      "metadata": {
      },
      "outputs": [
        {
          "data": {
            "image/svg+xml": [
              "<?xml version=\"1.0\" encoding=\"UTF-8\"?><!DOCTYPE svg  PUBLIC '-//W3C//DTD SVG 1.1//EN'  'http://www.w3.org/Graphics/SVG/1.1/DTD/svg11.dtd'><svg width=\"557.15pt\" height=\"441.64pt\" version=\"1.1\" viewBox=\"0 0 557.15 441.64\" xmlns=\"http://www.w3.org/2000/svg\" xmlns:xlink=\"http://www.w3.org/1999/xlink\"><defs><style type=\"text/css\">*{stroke-linecap:butt;stroke-linejoin:round;}</style></defs><path d=\"m0 441.64h557.15v-441.64h-557.15z\" fill=\"#ffffff\"/><path d=\"m195.89 396.83h11.817l-5.9086 8.5221z\" clip-path=\"url(#p4fc83b5da7)\" fill=\"#778899\"/><path d=\"m241.34 396.83h11.817l-5.9086 8.5221z\" clip-path=\"url(#p4fc83b5da7)\" fill=\"#778899\"/><path d=\"m286.79 396.83h11.817l-5.9086 8.5221z\" clip-path=\"url(#p4fc83b5da7)\" fill=\"#778899\"/><path d=\"m332.24 396.83h11.817l-5.9086 8.5221z\" clip-path=\"url(#p4fc83b5da7)\" fill=\"#778899\"/><path d=\"m377.69 396.83h11.817l-5.9086 8.5221z\" clip-path=\"url(#p4fc83b5da7)\" fill=\"#778899\"/><path d=\"m423.15 396.83h11.817l-5.9086 8.5221z\" clip-path=\"url(#p4fc83b5da7)\" fill=\"#778899\"/><path d=\"m468.6 396.83h11.817l-5.9086 8.5221z\" clip-path=\"url(#p4fc83b5da7)\" fill=\"#778899\"/><path d=\"m514.05 396.83h11.817l-5.9086 8.5221z\" clip-path=\"url(#p4fc83b5da7)\" fill=\"#778899\"/><path d=\"m86.353 43.561h459.06\" clip-path=\"url(#p4fc83b5da7)\" fill=\"none\" stroke=\"#000000\" stroke-linecap=\"square\" stroke-width=\"2\"/><path d=\"m86.353 89.012h459.06\" clip-path=\"url(#p4fc83b5da7)\" fill=\"none\" stroke=\"#000000\" stroke-linecap=\"square\" stroke-width=\"2\"/><path d=\"m86.353 134.46h459.06\" clip-path=\"url(#p4fc83b5da7)\" fill=\"none\" stroke=\"#000000\" stroke-linecap=\"square\" stroke-width=\"2\"/><path d=\"m86.353 179.91h459.06\" clip-path=\"url(#p4fc83b5da7)\" fill=\"none\" stroke=\"#000000\" stroke-linecap=\"square\" stroke-width=\"2\"/><path d=\"m86.353 225.36h459.06\" clip-path=\"url(#p4fc83b5da7)\" fill=\"none\" stroke=\"#000000\" stroke-linecap=\"square\" stroke-width=\"2\"/><path d=\"m86.353 270.82h459.06\" clip-path=\"url(#p4fc83b5da7)\" fill=\"none\" stroke=\"#000000\" stroke-linecap=\"square\" stroke-width=\"2\"/><path d=\"m86.353 316.27h459.06\" clip-path=\"url(#p4fc83b5da7)\" fill=\"none\" stroke=\"#000000\" stroke-linecap=\"square\" stroke-width=\"2\"/><path d=\"m86.353 361.72h459.06\" clip-path=\"url(#p4fc83b5da7)\" fill=\"none\" stroke=\"#000000\" stroke-linecap=\"square\" stroke-width=\"2\"/><path d=\"m86.353 405.69h459.06\" clip-path=\"url(#p4fc83b5da7)\" fill=\"none\" stroke=\"#778899\" stroke-linecap=\"square\" stroke-width=\"2\"/><path d=\"m86.353 408.65h459.06\" clip-path=\"url(#p4fc83b5da7)\" fill=\"none\" stroke=\"#778899\" stroke-linecap=\"square\" stroke-width=\"2\"/><path d=\"m147.48 66.286h17.726v-45.451h-17.726z\" clip-path=\"url(#p4fc83b5da7)\" fill=\"#bdbdbd\" opacity=\".6\"/><path d=\"m147.48 111.74h17.726v-45.451h-17.726z\" clip-path=\"url(#p4fc83b5da7)\" fill=\"#bdbdbd\" opacity=\".6\"/><path d=\"m147.48 157.19h17.726v-45.451h-17.726z\" clip-path=\"url(#p4fc83b5da7)\" fill=\"#bdbdbd\" opacity=\".6\"/><path d=\"m147.48 202.64h17.726v-45.451h-17.726z\" clip-path=\"url(#p4fc83b5da7)\" fill=\"#bdbdbd\" opacity=\".6\"/><path d=\"m147.48 248.09h17.726v-45.451h-17.726z\" clip-path=\"url(#p4fc83b5da7)\" fill=\"#bdbdbd\" opacity=\".6\"/><path d=\"m147.48 293.54h17.726v-45.451h-17.726z\" clip-path=\"url(#p4fc83b5da7)\" fill=\"#bdbdbd\" opacity=\".6\"/><path d=\"m147.48 338.99h17.726v-45.451h-17.726z\" clip-path=\"url(#p4fc83b5da7)\" fill=\"#bdbdbd\" opacity=\".6\"/><path d=\"m147.48 384.44h17.726v-45.451h-17.726z\" clip-path=\"url(#p4fc83b5da7)\" fill=\"#bdbdbd\" opacity=\".6\"/><path d=\"m203.28 43.561v353.27\" clip-path=\"url(#p4fc83b5da7)\" fill=\"none\" stroke=\"#778899\" stroke-linecap=\"square\" stroke-width=\"2\"/><path d=\"m200.32 43.561v353.27\" clip-path=\"url(#p4fc83b5da7)\" fill=\"none\" stroke=\"#778899\" stroke-linecap=\"square\" stroke-width=\"2\"/><path d=\"m248.73 89.012v307.82\" clip-path=\"url(#p4fc83b5da7)\" fill=\"none\" stroke=\"#778899\" stroke-linecap=\"square\" stroke-width=\"2\"/><path d=\"m245.77 89.012v307.82\" clip-path=\"url(#p4fc83b5da7)\" fill=\"none\" stroke=\"#778899\" stroke-linecap=\"square\" stroke-width=\"2\"/><path d=\"m294.18 134.46v262.37\" clip-path=\"url(#p4fc83b5da7)\" fill=\"none\" stroke=\"#778899\" stroke-linecap=\"square\" stroke-width=\"2\"/><path d=\"m291.22 134.46v262.37\" clip-path=\"url(#p4fc83b5da7)\" fill=\"none\" stroke=\"#778899\" stroke-linecap=\"square\" stroke-width=\"2\"/><path d=\"m339.63 179.91v216.91\" clip-path=\"url(#p4fc83b5da7)\" fill=\"none\" stroke=\"#778899\" stroke-linecap=\"square\" stroke-width=\"2\"/><path d=\"m336.67 179.91v216.91\" clip-path=\"url(#p4fc83b5da7)\" fill=\"none\" stroke=\"#778899\" stroke-linecap=\"square\" stroke-width=\"2\"/><path d=\"m385.08 225.36v171.46\" clip-path=\"url(#p4fc83b5da7)\" fill=\"none\" stroke=\"#778899\" stroke-linecap=\"square\" stroke-width=\"2\"/><path d=\"m382.13 225.36v171.46\" clip-path=\"url(#p4fc83b5da7)\" fill=\"none\" stroke=\"#778899\" stroke-linecap=\"square\" stroke-width=\"2\"/><path d=\"m430.53 270.82v126.01\" clip-path=\"url(#p4fc83b5da7)\" fill=\"none\" stroke=\"#778899\" stroke-linecap=\"square\" stroke-width=\"2\"/><path d=\"m427.58 270.82v126.01\" clip-path=\"url(#p4fc83b5da7)\" fill=\"none\" stroke=\"#778899\" stroke-linecap=\"square\" stroke-width=\"2\"/><path d=\"m475.98 316.27v80.562\" clip-path=\"url(#p4fc83b5da7)\" fill=\"none\" stroke=\"#778899\" stroke-linecap=\"square\" stroke-width=\"2\"/><path d=\"m473.03 316.27v80.562\" clip-path=\"url(#p4fc83b5da7)\" fill=\"none\" stroke=\"#778899\" stroke-linecap=\"square\" stroke-width=\"2\"/><path d=\"m521.43 361.72v35.111\" clip-path=\"url(#p4fc83b5da7)\" fill=\"none\" stroke=\"#778899\" stroke-linecap=\"square\" stroke-width=\"2\"/><path d=\"m518.48 361.72v35.111\" clip-path=\"url(#p4fc83b5da7)\" fill=\"none\" stroke=\"#778899\" stroke-linecap=\"square\" stroke-width=\"2\"/><path d=\"m95.443 411.71 4.5451-9.0902\" clip-path=\"url(#p4fc83b5da7)\" fill=\"none\" stroke=\"#778899\" stroke-linecap=\"square\" stroke-width=\"1.5\"/><path d=\"m96.125 376.49h29.543v-29.543h-29.543z\" clip-path=\"url(#p4fc83b5da7)\" fill=\"#05bab6\" stroke=\"#05bab6\" stroke-width=\"1.5\"/><path d=\"m187.03 58.332h29.543v-29.543h-29.543z\" clip-path=\"url(#p4fc83b5da7)\" stroke=\"#000000\" stroke-width=\"1.5\"/><path d=\"m212.14 47.992c0-2.7413-1.0901-5.3732-3.0285-7.3116-1.9384-1.9384-4.5702-3.0285-7.3116-3.0285s-5.3732 1.0901-7.3116 3.0285-3.0285 4.5702-3.0285 7.3116\" clip-path=\"url(#p4fc83b5da7)\" fill=\"none\" stroke=\"#ffffff\" stroke-width=\"2\"/><path d=\"m232.48 103.78h29.543v-29.543h-29.543z\" clip-path=\"url(#p4fc83b5da7)\" stroke=\"#000000\" stroke-width=\"1.5\"/><path d=\"m257.59 93.443c0-2.7413-1.0901-5.3732-3.0285-7.3116-1.9384-1.9384-4.5702-3.0285-7.3116-3.0285s-5.3732 1.0901-7.3116 3.0285-3.0285 4.5702-3.0285 7.3116\" clip-path=\"url(#p4fc83b5da7)\" fill=\"none\" stroke=\"#ffffff\" stroke-width=\"2\"/><path d=\"m277.93 149.23h29.543v-29.543h-29.543z\" clip-path=\"url(#p4fc83b5da7)\" stroke=\"#000000\" stroke-width=\"1.5\"/><path d=\"m303.04 138.89c0-2.7413-1.0901-5.3732-3.0285-7.3116-1.9384-1.9384-4.5702-3.0285-7.3116-3.0285s-5.3732 1.0901-7.3116 3.0285-3.0285 4.5702-3.0285 7.3116\" clip-path=\"url(#p4fc83b5da7)\" fill=\"none\" stroke=\"#ffffff\" stroke-width=\"2\"/><path d=\"m323.38 194.69h29.543v-29.543h-29.543z\" clip-path=\"url(#p4fc83b5da7)\" stroke=\"#000000\" stroke-width=\"1.5\"/><path d=\"m348.49 184.35c0-2.7413-1.0901-5.3732-3.0285-7.3116-1.9384-1.9384-4.5702-3.0285-7.3116-3.0285s-5.3732 1.0901-7.3116 3.0285-3.0285 4.5702-3.0285 7.3116\" clip-path=\"url(#p4fc83b5da7)\" fill=\"none\" stroke=\"#ffffff\" stroke-width=\"2\"/><path d=\"m368.83 240.14h29.543v-29.543h-29.543z\" clip-path=\"url(#p4fc83b5da7)\" stroke=\"#000000\" stroke-width=\"1.5\"/><path d=\"m393.94 229.8c0-2.7413-1.0901-5.3732-3.0285-7.3116-1.9384-1.9384-4.5702-3.0285-7.3116-3.0285s-5.3732 1.0901-7.3116 3.0285-3.0285 4.5702-3.0285 7.3116\" clip-path=\"url(#p4fc83b5da7)\" fill=\"none\" stroke=\"#ffffff\" stroke-width=\"2\"/><path d=\"m414.28 285.59h29.543v-29.543h-29.543z\" clip-path=\"url(#p4fc83b5da7)\" stroke=\"#000000\" stroke-width=\"1.5\"/><path d=\"m439.39 275.25c0-2.7413-1.0901-5.3732-3.0285-7.3116-1.9384-1.9384-4.5702-3.0285-7.3116-3.0285s-5.3732 1.0901-7.3116 3.0285-3.0285 4.5702-3.0285 7.3116\" clip-path=\"url(#p4fc83b5da7)\" fill=\"none\" stroke=\"#ffffff\" stroke-width=\"2\"/><path d=\"m459.73 331.04h29.543v-29.543h-29.543z\" clip-path=\"url(#p4fc83b5da7)\" stroke=\"#000000\" stroke-width=\"1.5\"/><path d=\"m484.84 320.7c0-2.7413-1.0901-5.3732-3.0285-7.3116-1.9384-1.9384-4.5702-3.0285-7.3116-3.0285s-5.3732 1.0901-7.3116 3.0285-3.0285 4.5702-3.0285 7.3116\" clip-path=\"url(#p4fc83b5da7)\" fill=\"none\" stroke=\"#ffffff\" stroke-width=\"2\"/><path d=\"m505.18 376.49h29.543v-29.543h-29.543z\" clip-path=\"url(#p4fc83b5da7)\" stroke=\"#000000\" stroke-width=\"1.5\"/><path d=\"m530.3 366.15c0-2.7413-1.0901-5.3732-3.0285-7.3116-1.9384-1.9384-4.5702-3.0285-7.3116-3.0285s-5.3732 1.0901-7.3116 3.0285-3.0285 4.5702-3.0285 7.3116\" clip-path=\"url(#p4fc83b5da7)\" fill=\"none\" stroke=\"#ffffff\" stroke-width=\"2\"/><path d=\"m201.8 47.992 10.34-10.34\" clip-path=\"url(#p4fc83b5da7)\" fill=\"none\" stroke=\"#ffffff\" stroke-linecap=\"square\" stroke-width=\"2\"/><path d=\"m247.25 93.443 10.34-10.34\" clip-path=\"url(#p4fc83b5da7)\" fill=\"none\" stroke=\"#ffffff\" stroke-linecap=\"square\" stroke-width=\"2\"/><path d=\"m292.7 138.89 10.34-10.34\" clip-path=\"url(#p4fc83b5da7)\" fill=\"none\" stroke=\"#ffffff\" stroke-linecap=\"square\" stroke-width=\"2\"/><path d=\"m338.15 184.35 10.34-10.34\" clip-path=\"url(#p4fc83b5da7)\" fill=\"none\" stroke=\"#ffffff\" stroke-linecap=\"square\" stroke-width=\"2\"/><path d=\"m383.6 229.8 10.34-10.34\" clip-path=\"url(#p4fc83b5da7)\" fill=\"none\" stroke=\"#ffffff\" stroke-linecap=\"square\" stroke-width=\"2\"/><path d=\"m429.05 275.25 10.34-10.34\" clip-path=\"url(#p4fc83b5da7)\" fill=\"none\" stroke=\"#ffffff\" stroke-linecap=\"square\" stroke-width=\"2\"/><path d=\"m474.5 320.7 10.34-10.34\" clip-path=\"url(#p4fc83b5da7)\" fill=\"none\" stroke=\"#ffffff\" stroke-linecap=\"square\" stroke-width=\"2\"/><path d=\"m519.96 366.15 10.34-10.34\" clip-path=\"url(#p4fc83b5da7)\" fill=\"none\" stroke=\"#ffffff\" stroke-linecap=\"square\" stroke-width=\"2\"/><path d=\"m156.35 20.835v45.451\" clip-path=\"url(#p4fc83b5da7)\" fill=\"none\" stroke=\"#000000\" stroke-dasharray=\"3.7,1.6\"/><path d=\"m156.35 66.286v45.451\" clip-path=\"url(#p4fc83b5da7)\" fill=\"none\" stroke=\"#000000\" stroke-dasharray=\"3.7,1.6\"/><path d=\"m156.35 111.74v45.451\" clip-path=\"url(#p4fc83b5da7)\" fill=\"none\" stroke=\"#000000\" stroke-dasharray=\"3.7,1.6\"/><path d=\"m156.35 157.19v45.451\" clip-path=\"url(#p4fc83b5da7)\" fill=\"none\" stroke=\"#000000\" stroke-dasharray=\"3.7,1.6\"/><path d=\"m156.35 202.64v45.451\" clip-path=\"url(#p4fc83b5da7)\" fill=\"none\" stroke=\"#000000\" stroke-dasharray=\"3.7,1.6\"/><path d=\"m156.35 248.09v45.451\" clip-path=\"url(#p4fc83b5da7)\" fill=\"none\" stroke=\"#000000\" stroke-dasharray=\"3.7,1.6\"/><path d=\"m156.35 293.54v45.451\" clip-path=\"url(#p4fc83b5da7)\" fill=\"none\" stroke=\"#000000\" stroke-dasharray=\"3.7,1.6\"/><path d=\"m156.35 338.99v45.451\" clip-path=\"url(#p4fc83b5da7)\" fill=\"none\" stroke=\"#000000\" stroke-dasharray=\"3.7,1.6\"/><g clip-path=\"url(#p4fc83b5da7)\"><g transform=\"translate(106.44 365.3) scale(.13 -.13)\"><defs><path id=\"DejaVuSans-58\" transform=\"scale(.015625)\" d=\"m403 4666h678l1160-1735 1165 1735h678l-1500-2241 1600-2425h-678l-1312 1984-1322-1984h-681l1665 2491-1453 2175z\"/></defs><use xlink:href=\"#DejaVuSans-58\"/></g></g><g clip-path=\"url(#p4fc83b5da7)\"><g transform=\"translate(213.16 400.46) scale(.104 -.104)\"><defs><path id=\"DejaVuSans-30\" transform=\"scale(.015625)\" d=\"m2034 4250q-487 0-733-480-245-479-245-1442 0-959 245-1439 246-480 733-480 491 0 736 480 246 480 246 1439 0 963-246 1442-245 480-736 480zm0 500q785 0 1199-621 414-620 414-1801 0-1178-414-1799-414-620-1199-620-784 0-1198 620-414 621-414 1799 0 1181 414 1801 414 621 1198 621z\"/></defs><use xlink:href=\"#DejaVuSans-30\"/></g></g><g clip-path=\"url(#p4fc83b5da7)\"><g transform=\"translate(258.61 400.46) scale(.104 -.104)\"><defs><path id=\"DejaVuSans-31\" transform=\"scale(.015625)\" d=\"m794 531h1031v3560l-1122-225v575l1116 225h631v-4135h1031v-531h-2687v531z\"/></defs><use xlink:href=\"#DejaVuSans-31\"/></g></g><g clip-path=\"url(#p4fc83b5da7)\"><g transform=\"translate(304.06 400.46) scale(.104 -.104)\"><defs><path id=\"DejaVuSans-32\" transform=\"scale(.015625)\" d=\"m1228 531h2203v-531h-2962v531q359 372 979 998 621 627 780 809 303 340 423 576 121 236 121 464 0 372-261 606-261 235-680 235-297 0-627-103-329-103-704-313v638q381 153 712 231 332 78 607 78 725 0 1156-363 431-362 431-968 0-288-108-546-107-257-392-607-78-91-497-524-418-433-1181-1211z\"/></defs><use xlink:href=\"#DejaVuSans-32\"/></g></g><g clip-path=\"url(#p4fc83b5da7)\"><g transform=\"translate(349.51 400.46) scale(.104 -.104)\"><defs><path id=\"DejaVuSans-33\" transform=\"scale(.015625)\" d=\"m2597 2516q453-97 707-404 255-306 255-756 0-690-475-1069-475-378-1350-378-293 0-604 58t-642 174v609q262-153 574-231 313-78 654-78 593 0 904 234t311 681q0 413-289 645-289 233-804 233h-544v519h569q465 0 712 186t247 536q0 359-255 551-254 193-729 193-260 0-557-57-297-56-653-174v562q360 100 674 150t592 50q719 0 1137-327 419-326 419-882 0-388-222-655t-631-370z\"/></defs><use xlink:href=\"#DejaVuSans-33\"/></g></g><g clip-path=\"url(#p4fc83b5da7)\"><g transform=\"translate(394.97 400.46) scale(.104 -.104)\"><defs><path id=\"DejaVuSans-34\" transform=\"scale(.015625)\" d=\"m2419 4116-1594-2491h1594v2491zm-166 550h794v-3041h666v-525h-666v-1100h-628v1100h-2106v609l1940 2957z\"/></defs><use xlink:href=\"#DejaVuSans-34\"/></g></g><g clip-path=\"url(#p4fc83b5da7)\"><g transform=\"translate(440.42 400.46) scale(.104 -.104)\"><defs><path id=\"DejaVuSans-35\" transform=\"scale(.015625)\" d=\"m691 4666h2478v-532h-1900v-1143q137 47 274 70 138 23 276 23 781 0 1237-428 457-428 457-1159 0-753-469-1171-469-417-1322-417-294 0-599 50-304 50-629 150v635q281-153 581-228t634-75q541 0 856 284 316 284 316 772 0 487-316 771-315 285-856 285-253 0-505-56-251-56-513-175v2344z\"/></defs><use xlink:href=\"#DejaVuSans-35\"/></g></g><g clip-path=\"url(#p4fc83b5da7)\"><g transform=\"translate(485.87 400.46) scale(.104 -.104)\"><defs><path id=\"DejaVuSans-36\" transform=\"scale(.015625)\" d=\"m2113 2584q-425 0-674-291-248-290-248-796 0-503 248-796 249-292 674-292t673 292q248 293 248 796 0 506-248 796-248 291-673 291zm1253 1979v-575q-238 112-480 171-242 60-480 60-625 0-955-422-329-422-376-1275 184 272 462 417 279 145 613 145 703 0 1111-427 408-426 408-1160 0-719-425-1154-425-434-1131-434-810 0-1238 620-428 621-428 1799 0 1106 525 1764t1409 658q238 0 480-47t505-140z\"/></defs><use xlink:href=\"#DejaVuSans-36\"/></g></g><g clip-path=\"url(#p4fc83b5da7)\"><g transform=\"translate(531.32 400.46) scale(.104 -.104)\"><defs><path id=\"DejaVuSans-37\" transform=\"scale(.015625)\" d=\"m525 4666h3e3v-269l-1694-4397h-659l1594 4134h-2241v532z\"/></defs><use xlink:href=\"#DejaVuSans-37\"/></g></g><g clip-path=\"url(#p4fc83b5da7)\"><g transform=\"translate(59.225 48.012) scale(.1625 -.1625)\"><defs><path id=\"DejaVuSans-Oblique-71\" transform=\"scale(.015625)\" d=\"m2669 525q-231-303-546-460-314-156-695-156-531 0-833 358-301 358-301 986 0 506 186 978t533 847q225 244 517 375t614 131q387 0 637-153t363-462l100 525h578l-934-4813h-579l360 1844zm-1778 813q0-463 193-705 194-242 560-242 544 0 928 520t384 1264q0 450-199 689-198 239-569 239-272 0-504-127-231-126-403-370-181-256-286-600-104-343-104-668z\"/></defs><use xlink:href=\"#DejaVuSans-Oblique-71\"/><use transform=\"translate(63.477 -16.406) scale(.7)\" xlink:href=\"#DejaVuSans-30\"/></g></g><g clip-path=\"url(#p4fc83b5da7)\"><g transform=\"translate(59.225 93.463) scale(.1625 -.1625)\"><use xlink:href=\"#DejaVuSans-Oblique-71\"/><use transform=\"translate(63.477 -16.406) scale(.7)\" xlink:href=\"#DejaVuSans-31\"/></g></g><g clip-path=\"url(#p4fc83b5da7)\"><g transform=\"translate(59.225 138.91) scale(.1625 -.1625)\"><use xlink:href=\"#DejaVuSans-Oblique-71\"/><use transform=\"translate(63.477 -16.406) scale(.7)\" xlink:href=\"#DejaVuSans-32\"/></g></g><g clip-path=\"url(#p4fc83b5da7)\"><g transform=\"translate(59.225 184.36) scale(.1625 -.1625)\"><use xlink:href=\"#DejaVuSans-Oblique-71\"/><use transform=\"translate(63.477 -16.406) scale(.7)\" xlink:href=\"#DejaVuSans-33\"/></g></g><g clip-path=\"url(#p4fc83b5da7)\"><g transform=\"translate(59.225 229.82) scale(.1625 -.1625)\"><use xlink:href=\"#DejaVuSans-Oblique-71\"/><use transform=\"translate(63.477 -16.406) scale(.7)\" xlink:href=\"#DejaVuSans-34\"/></g></g><g clip-path=\"url(#p4fc83b5da7)\"><g transform=\"translate(59.225 275.27) scale(.1625 -.1625)\"><use xlink:href=\"#DejaVuSans-Oblique-71\"/><use transform=\"translate(63.477 -16.406) scale(.7)\" xlink:href=\"#DejaVuSans-35\"/></g></g><g clip-path=\"url(#p4fc83b5da7)\"><g transform=\"translate(59.225 320.72) scale(.1625 -.1625)\"><use xlink:href=\"#DejaVuSans-Oblique-71\"/><use transform=\"translate(63.477 -16.406) scale(.7)\" xlink:href=\"#DejaVuSans-36\"/></g></g><g clip-path=\"url(#p4fc83b5da7)\"><g transform=\"translate(59.225 366.17) scale(.1625 -.1625)\"><use xlink:href=\"#DejaVuSans-Oblique-71\"/><use transform=\"translate(63.477 -16.406) scale(.7)\" xlink:href=\"#DejaVuSans-37\"/></g></g><g clip-path=\"url(#p4fc83b5da7)\"><g transform=\"translate(90.898 400.46) scale(.104 -.104)\"><defs><path id=\"DejaVuSans-38\" transform=\"scale(.015625)\" d=\"m2034 2216q-450 0-708-241-257-241-257-662 0-422 257-663 258-241 708-241t709 242q260 243 260 662 0 421-258 662-257 241-711 241zm-631 268q-406 100-633 378-226 279-226 679 0 559 398 884 399 325 1092 325 697 0 1094-325t397-884q0-400-227-679-226-278-629-378 456-106 710-416 255-309 255-755 0-679-414-1042-414-362-1186-362-771 0-1186 362-414 363-414 1042 0 446 256 755 257 310 713 416zm-231 997q0-362 226-565 227-203 636-203 407 0 636 203 230 203 230 565 0 363-230 566-229 203-636 203-409 0-636-203-226-203-226-566z\"/></defs><use xlink:href=\"#DejaVuSans-38\"/></g></g><g clip-path=\"url(#p4fc83b5da7)\"><g transform=\"translate(33.012 411.65) scale(.1625 -.1625)\"><defs><path id=\"DejaVuSans-6d\" transform=\"scale(.015625)\" d=\"m3328 2828q216 388 516 572t706 184q547 0 844-383 297-382 297-1088v-2113h-578v2094q0 503-179 746-178 244-543 244-447 0-707-297-259-296-259-809v-1978h-578v2094q0 506-178 748t-550 242q-441 0-701-298-259-298-259-808v-1978h-578v3500h578v-544q197 322 472 475t653 153q382 0 649-194 267-193 395-562z\"/><path id=\"DejaVuSans-65\" transform=\"scale(.015625)\" d=\"m3597 1894v-281h-2644q38-594 358-905t892-311q331 0 642 81t618 244v-544q-310-131-635-200t-659-69q-838 0-1327 487-489 488-489 1320 0 859 464 1363 464 505 1252 505 706 0 1117-455 411-454 411-1235zm-575 169q-6 471-264 752-258 282-683 282-481 0-770-272t-333-766l2050 4z\"/><path id=\"DejaVuSans-61\" transform=\"scale(.015625)\" d=\"m2194 1759q-697 0-966-159t-269-544q0-306 202-486 202-179 548-179 479 0 768 339t289 901v128h-572zm1147 238v-1997h-575v531q-197-318-491-470t-719-152q-537 0-855 302-317 302-317 808 0 590 395 890 396 300 1180 300h807v57q0 397-261 614t-733 217q-300 0-585-72-284-72-546-216v532q315 122 612 182 297 61 578 61 760 0 1135-394 375-393 375-1193z\"/><path id=\"DejaVuSans-73\" transform=\"scale(.015625)\" d=\"m2834 3397v-544q-243 125-506 187-262 63-544 63-428 0-642-131t-214-394q0-200 153-314t616-217l197-44q612-131 870-370t258-667q0-488-386-773-386-284-1061-284-281 0-586 55t-642 164v594q319-166 628-249 309-82 613-82 406 0 624 139 219 139 219 392 0 234-158 359-157 125-692 241l-200 47q-534 112-772 345-237 233-237 639 0 494 350 762 350 269 994 269 318 0 599-47 282-46 519-140z\"/></defs><use xlink:href=\"#DejaVuSans-6d\"/><use x=\"97.412109\" xlink:href=\"#DejaVuSans-65\"/><use x=\"158.935547\" xlink:href=\"#DejaVuSans-61\"/><use x=\"220.214844\" xlink:href=\"#DejaVuSans-73\"/></g></g><defs><clipPath id=\"p4fc83b5da7\"><rect x=\"7.2\" y=\"7.2\" width=\"542.75\" height=\"427.24\"/></clipPath></defs></svg>"
            ],
            "text/plain": [
              "<Figure size 718.879x565.88 with 1 Axes>"
            ]
          },
          "execution_count": 8,
          "metadata": {
          },
          "output_type": "execute_result"
        }
      ],
      "source": [
        "qc_encode.measure_all()\n",
        "qc_encode.draw()"
      ]
    },
    {
      "cell_type": "markdown",
      "metadata": {
      },
      "source": [
        "이제 결합된 회로를 실행하고 결과를 볼 수 있습니다."
      ]
    },
    {
      "cell_type": "code",
      "execution_count": 9,
      "metadata": {
      },
      "outputs": [
        {
          "data": {
            "image/svg+xml": [
              "<?xml version=\"1.0\" encoding=\"UTF-8\"?><!DOCTYPE svg  PUBLIC '-//W3C//DTD SVG 1.1//EN'  'http://www.w3.org/Graphics/SVG/1.1/DTD/svg11.dtd'><svg width=\"460.72pt\" height=\"364.8pt\" version=\"1.1\" viewBox=\"0 0 460.72 364.8\" xmlns=\"http://www.w3.org/2000/svg\" xmlns:xlink=\"http://www.w3.org/1999/xlink\"><defs><style type=\"text/css\">*{stroke-linecap:butt;stroke-linejoin:round;}</style></defs><path d=\"m0 364.8h460.72v-364.8h-460.72z\" fill=\"none\"/><path d=\"m62.921 279h390.6v-271.8h-390.6z\" fill=\"#ffffff\"/><defs><path id=\"m93bdf8d1b8\" d=\"m0 0v3.5\" stroke=\"#000000\" stroke-width=\".8\"/></defs><use x=\"258.22125\" y=\"279\" stroke=\"#000000\" stroke-width=\".8\" xlink:href=\"#m93bdf8d1b8\"/><g transform=\"translate(249.67 356.6) rotate(-70) scale(.14 -.14)\"><defs><path id=\"DejaVuSans-31\" transform=\"scale(.015625)\" d=\"m794 531h1031v3560l-1122-225v575l1116 225h631v-4135h1031v-531h-2687v531z\"/><path id=\"DejaVuSans-30\" transform=\"scale(.015625)\" d=\"m2034 4250q-487 0-733-480-245-479-245-1442 0-959 245-1439 246-480 733-480 491 0 736 480 246 480 246 1439 0 963-246 1442-245 480-736 480zm0 500q785 0 1199-621 414-620 414-1801 0-1178-414-1799-414-620-1199-620-784 0-1198 620-414 621-414 1799 0 1181 414 1801 414 621 1198 621z\"/></defs><use xlink:href=\"#DejaVuSans-31\"/><use x=\"63.623047\" xlink:href=\"#DejaVuSans-30\"/><use x=\"127.246094\" xlink:href=\"#DejaVuSans-30\"/><use x=\"190.869141\" xlink:href=\"#DejaVuSans-30\"/><use x=\"254.492188\" xlink:href=\"#DejaVuSans-30\"/><use x=\"318.115234\" xlink:href=\"#DejaVuSans-30\"/><use x=\"381.738281\" xlink:href=\"#DejaVuSans-30\"/><use x=\"445.361328\" xlink:href=\"#DejaVuSans-30\"/></g><path d=\"m62.921 279h390.6\" clip-path=\"url(#p28c8f19dac)\" fill=\"none\" stroke=\"#b0b0b0\" stroke-dasharray=\"2.96,1.28\" stroke-width=\".8\"/><defs><path id=\"m688759d740\" d=\"m0 0h-3.5\" stroke=\"#000000\" stroke-width=\".8\"/></defs><use x=\"62.92125\" y=\"279\" stroke=\"#000000\" stroke-width=\".8\" xlink:href=\"#m688759d740\"/><g transform=\"translate(24.749 284.32) scale(.14 -.14)\"><defs><path id=\"DejaVuSans-2e\" transform=\"scale(.015625)\" d=\"m684 794h660v-794h-660v794z\"/></defs><use xlink:href=\"#DejaVuSans-30\"/><use x=\"63.623047\" xlink:href=\"#DejaVuSans-2e\"/><use x=\"95.410156\" xlink:href=\"#DejaVuSans-30\"/><use x=\"159.033203\" xlink:href=\"#DejaVuSans-30\"/></g><path d=\"m62.921 222.38h390.6\" clip-path=\"url(#p28c8f19dac)\" fill=\"none\" stroke=\"#b0b0b0\" stroke-dasharray=\"2.96,1.28\" stroke-width=\".8\"/><use x=\"62.92125\" y=\"222.375\" stroke=\"#000000\" stroke-width=\".8\" xlink:href=\"#m688759d740\"/><g transform=\"translate(24.749 227.69) scale(.14 -.14)\"><defs><path id=\"DejaVuSans-32\" transform=\"scale(.015625)\" d=\"m1228 531h2203v-531h-2962v531q359 372 979 998 621 627 780 809 303 340 423 576 121 236 121 464 0 372-261 606-261 235-680 235-297 0-627-103-329-103-704-313v638q381 153 712 231 332 78 607 78 725 0 1156-363 431-362 431-968 0-288-108-546-107-257-392-607-78-91-497-524-418-433-1181-1211z\"/><path id=\"DejaVuSans-35\" transform=\"scale(.015625)\" d=\"m691 4666h2478v-532h-1900v-1143q137 47 274 70 138 23 276 23 781 0 1237-428 457-428 457-1159 0-753-469-1171-469-417-1322-417-294 0-599 50-304 50-629 150v635q281-153 581-228t634-75q541 0 856 284 316 284 316 772 0 487-316 771-315 285-856 285-253 0-505-56-251-56-513-175v2344z\"/></defs><use xlink:href=\"#DejaVuSans-30\"/><use x=\"63.623047\" xlink:href=\"#DejaVuSans-2e\"/><use x=\"95.410156\" xlink:href=\"#DejaVuSans-32\"/><use x=\"159.033203\" xlink:href=\"#DejaVuSans-35\"/></g><path d=\"m62.921 165.75h390.6\" clip-path=\"url(#p28c8f19dac)\" fill=\"none\" stroke=\"#b0b0b0\" stroke-dasharray=\"2.96,1.28\" stroke-width=\".8\"/><use x=\"62.92125\" y=\"165.75\" stroke=\"#000000\" stroke-width=\".8\" xlink:href=\"#m688759d740\"/><g transform=\"translate(24.749 171.07) scale(.14 -.14)\"><use xlink:href=\"#DejaVuSans-30\"/><use x=\"63.623047\" xlink:href=\"#DejaVuSans-2e\"/><use x=\"95.410156\" xlink:href=\"#DejaVuSans-35\"/><use x=\"159.033203\" xlink:href=\"#DejaVuSans-30\"/></g><path d=\"m62.921 109.12h390.6\" clip-path=\"url(#p28c8f19dac)\" fill=\"none\" stroke=\"#b0b0b0\" stroke-dasharray=\"2.96,1.28\" stroke-width=\".8\"/><use x=\"62.92125\" y=\"109.125\" stroke=\"#000000\" stroke-width=\".8\" xlink:href=\"#m688759d740\"/><g transform=\"translate(24.749 114.44) scale(.14 -.14)\"><defs><path id=\"DejaVuSans-37\" transform=\"scale(.015625)\" d=\"m525 4666h3e3v-269l-1694-4397h-659l1594 4134h-2241v532z\"/></defs><use xlink:href=\"#DejaVuSans-30\"/><use x=\"63.623047\" xlink:href=\"#DejaVuSans-2e\"/><use x=\"95.410156\" xlink:href=\"#DejaVuSans-37\"/><use x=\"159.033203\" xlink:href=\"#DejaVuSans-35\"/></g><path d=\"m62.921 52.5h390.6\" clip-path=\"url(#p28c8f19dac)\" fill=\"none\" stroke=\"#b0b0b0\" stroke-dasharray=\"2.96,1.28\" stroke-width=\".8\"/><use x=\"62.92125\" y=\"52.5\" stroke=\"#000000\" stroke-width=\".8\" xlink:href=\"#m688759d740\"/><g transform=\"translate(24.749 57.819) scale(.14 -.14)\"><use xlink:href=\"#DejaVuSans-31\"/><use x=\"63.623047\" xlink:href=\"#DejaVuSans-2e\"/><use x=\"95.410156\" xlink:href=\"#DejaVuSans-30\"/><use x=\"159.033203\" xlink:href=\"#DejaVuSans-30\"/></g><g transform=\"translate(17.838 185.86) rotate(-90) scale(.14 -.14)\"><defs><path id=\"DejaVuSans-50\" transform=\"scale(.015625)\" d=\"m1259 4147v-1753h794q441 0 681 228 241 228 241 650 0 419-241 647-240 228-681 228h-794zm-631 519h1425q785 0 1186-355 402-355 402-1039 0-691-402-1044-401-353-1186-353h-794v-1875h-631v4666z\"/><path id=\"DejaVuSans-72\" transform=\"scale(.015625)\" d=\"m2631 2963q-97 56-211 82-114 27-251 27-488 0-749-317t-261-911v-1844h-578v3500h578v-544q182 319 472 473 291 155 707 155 59 0 131-8 72-7 159-23l3-590z\"/><path id=\"DejaVuSans-6f\" transform=\"scale(.015625)\" d=\"m1959 3097q-462 0-731-361t-269-989 267-989q268-361 733-361 460 0 728 362 269 363 269 988 0 622-269 986-268 364-728 364zm0 487q750 0 1178-488 429-487 429-1349 0-859-429-1349-428-489-1178-489-753 0-1180 489-426 490-426 1349 0 862 426 1349 427 488 1180 488z\"/><path id=\"DejaVuSans-62\" transform=\"scale(.015625)\" d=\"m3116 1747q0 634-261 995t-717 361q-457 0-718-361t-261-995 261-995 718-361q456 0 717 361t261 995zm-1957 1222q182 312 458 463 277 152 661 152 638 0 1036-506 399-506 399-1331t-399-1332q-398-506-1036-506-384 0-661 152-276 152-458 464v-525h-578v4863h578v-1894z\"/><path id=\"DejaVuSans-61\" transform=\"scale(.015625)\" d=\"m2194 1759q-697 0-966-159t-269-544q0-306 202-486 202-179 548-179 479 0 768 339t289 901v128h-572zm1147 238v-1997h-575v531q-197-318-491-470t-719-152q-537 0-855 302-317 302-317 808 0 590 395 890 396 300 1180 300h807v57q0 397-261 614t-733 217q-300 0-585-72-284-72-546-216v532q315 122 612 182 297 61 578 61 760 0 1135-394 375-393 375-1193z\"/><path id=\"DejaVuSans-69\" transform=\"scale(.015625)\" d=\"m603 3500h575v-3500h-575v3500zm0 1363h575v-729h-575v729z\"/><path id=\"DejaVuSans-6c\" transform=\"scale(.015625)\" d=\"m603 4863h575v-4863h-575v4863z\"/><path id=\"DejaVuSans-74\" transform=\"scale(.015625)\" d=\"m1172 4494v-994h1184v-447h-1184v-1900q0-428 117-550t477-122h590v-481h-590q-666 0-919 248-253 249-253 905v1900h-422v447h422v994h578z\"/><path id=\"DejaVuSans-65\" transform=\"scale(.015625)\" d=\"m3597 1894v-281h-2644q38-594 358-905t892-311q331 0 642 81t618 244v-544q-310-131-635-200t-659-69q-838 0-1327 487-489 488-489 1320 0 859 464 1363 464 505 1252 505 706 0 1117-455 411-454 411-1235zm-575 169q-6 471-264 752-258 282-683 282-481 0-770-272t-333-766l2050 4z\"/><path id=\"DejaVuSans-73\" transform=\"scale(.015625)\" d=\"m2834 3397v-544q-243 125-506 187-262 63-544 63-428 0-642-131t-214-394q0-200 153-314t616-217l197-44q612-131 870-370t258-667q0-488-386-773-386-284-1061-284-281 0-586 55t-642 164v594q319-166 628-249 309-82 613-82 406 0 624 139 219 139 219 392 0 234-158 359-157 125-692 241l-200 47q-534 112-772 345-237 233-237 639 0 494 350 762 350 269 994 269 318 0 599-47 282-46 519-140z\"/></defs><use xlink:href=\"#DejaVuSans-50\"/><use x=\"58.552734\" xlink:href=\"#DejaVuSans-72\"/><use x=\"97.416016\" xlink:href=\"#DejaVuSans-6f\"/><use x=\"158.597656\" xlink:href=\"#DejaVuSans-62\"/><use x=\"222.074219\" xlink:href=\"#DejaVuSans-61\"/><use x=\"283.353516\" xlink:href=\"#DejaVuSans-62\"/><use x=\"346.830078\" xlink:href=\"#DejaVuSans-69\"/><use x=\"374.613281\" xlink:href=\"#DejaVuSans-6c\"/><use x=\"402.396484\" xlink:href=\"#DejaVuSans-69\"/><use x=\"430.179688\" xlink:href=\"#DejaVuSans-74\"/><use x=\"469.388672\" xlink:href=\"#DejaVuSans-69\"/><use x=\"497.171875\" xlink:href=\"#DejaVuSans-65\"/><use x=\"558.695312\" xlink:href=\"#DejaVuSans-73\"/></g><path d=\"m80.676 279h355.09v-226.5h-355.09z\" clip-path=\"url(#p28c8f19dac)\" fill=\"#648fff\"/><path d=\"m62.921 279v-271.8\" fill=\"none\" stroke=\"#000000\" stroke-linecap=\"square\" stroke-width=\".8\"/><path d=\"m453.52 279v-271.8\" fill=\"none\" stroke=\"#000000\" stroke-linecap=\"square\" stroke-width=\".8\"/><path d=\"m62.921 279h390.6\" fill=\"none\" stroke=\"#000000\" stroke-linecap=\"square\" stroke-width=\".8\"/><path d=\"m62.921 7.2h390.6\" fill=\"none\" stroke=\"#000000\" stroke-linecap=\"square\" stroke-width=\".8\"/><g transform=\"translate(243.91 39.095) scale(.1 -.1)\"><use xlink:href=\"#DejaVuSans-31\"/><use x=\"63.623047\" xlink:href=\"#DejaVuSans-2e\"/><use x=\"95.410156\" xlink:href=\"#DejaVuSans-30\"/><use x=\"159.033203\" xlink:href=\"#DejaVuSans-30\"/><use x=\"222.65625\" xlink:href=\"#DejaVuSans-30\"/></g><defs><clipPath id=\"p28c8f19dac\"><rect x=\"62.921\" y=\"7.2\" width=\"390.6\" height=\"271.8\"/></clipPath></defs></svg>"
            ],
            "text/plain": [
              "<Figure size 504x360 with 1 Axes>"
            ]
          },
          "execution_count": 9,
          "metadata": {
          },
          "output_type": "execute_result"
        }
      ],
      "source": [
        "sim = Aer.get_backend('aer_simulator') \n",
        "result = sim.run(qc_encode).result()\n",
        "counts = result.get_counts()\n",
        "plot_histogram(counts)"
      ]
    },
    {
      "cell_type": "markdown",
      "metadata": {
      },
      "source": [
        "이제 컴퓨터는 문자열 `10000000` 을 출력합니다.\n",
        "\n",
        "큐비트 7에서 가져온 뒤집은 비트는 문자열의 맨 왼쪽에 있습니다. 이것은 Qiskit이 문자열의 비트를 오른쪽에서 왼쪽으로 번호를 매기기 때문입니다. 일부 다른 시스템에서는 비트에 다른 방식으로 번호를 매기는 것을 선호하지만, Qiskit의 방식은 비트를 사용하여 숫자를 나타낼 때 확실히 장점이 있습니다. 특히, 큐비트 7은 우리의 수에 `2^7` 이 몇 개 있는지를 의미합니다. 따라서, 이 비트를 뒤집어서 8비트 컴퓨터에서의 수 [[128|256|64|32]]를 만들 수 있습니다.\n",
        "\n",
        "이제 다른 수를 만들어 볼까요. 예를 들어, 여러분의 나이를 표현해 보죠. 검색 엔진을 사용하여 나이에 해당하는 숫자가 이진법으로 어떻게 표기되는지 알아낸 다음( ‘0b’가 포함되어 있으면 무시해도 됩니다), 128세 미만인 경우 왼쪽에 0을 추가하십시오."
      ]
    },
    {
      "cell_type": "code",
      "execution_count": 10,
      "metadata": {
      },
      "outputs": [
        {
          "data": {
            "image/svg+xml": [
              "<?xml version=\"1.0\" encoding=\"UTF-8\"?><!DOCTYPE svg  PUBLIC '-//W3C//DTD SVG 1.1//EN'  'http://www.w3.org/Graphics/SVG/1.1/DTD/svg11.dtd'><svg width=\"125.23pt\" height=\"396.19pt\" version=\"1.1\" viewBox=\"0 0 125.23 396.19\" xmlns=\"http://www.w3.org/2000/svg\" xmlns:xlink=\"http://www.w3.org/1999/xlink\"><defs><style type=\"text/css\">*{stroke-linecap:butt;stroke-linejoin:round;}</style></defs><path d=\"m0 396.19h125.23v-396.19h-125.23z\" fill=\"#ffffff\"/><path d=\"m63.491 43.561h49.996\" clip-path=\"url(#p09a6436628)\" fill=\"none\" stroke=\"#000000\" stroke-linecap=\"square\" stroke-width=\"2\"/><path d=\"m63.491 89.012h49.996\" clip-path=\"url(#p09a6436628)\" fill=\"none\" stroke=\"#000000\" stroke-linecap=\"square\" stroke-width=\"2\"/><path d=\"m63.491 134.46h49.996\" clip-path=\"url(#p09a6436628)\" fill=\"none\" stroke=\"#000000\" stroke-linecap=\"square\" stroke-width=\"2\"/><path d=\"m63.491 179.91h49.996\" clip-path=\"url(#p09a6436628)\" fill=\"none\" stroke=\"#000000\" stroke-linecap=\"square\" stroke-width=\"2\"/><path d=\"m63.491 225.36h49.996\" clip-path=\"url(#p09a6436628)\" fill=\"none\" stroke=\"#000000\" stroke-linecap=\"square\" stroke-width=\"2\"/><path d=\"m63.491 270.82h49.996\" clip-path=\"url(#p09a6436628)\" fill=\"none\" stroke=\"#000000\" stroke-linecap=\"square\" stroke-width=\"2\"/><path d=\"m63.491 316.27h49.996\" clip-path=\"url(#p09a6436628)\" fill=\"none\" stroke=\"#000000\" stroke-linecap=\"square\" stroke-width=\"2\"/><path d=\"m63.491 361.72h49.996\" clip-path=\"url(#p09a6436628)\" fill=\"none\" stroke=\"#000000\" stroke-linecap=\"square\" stroke-width=\"2\"/><path d=\"m73.263 103.78h29.543v-29.543h-29.543z\" clip-path=\"url(#p09a6436628)\" fill=\"#05bab6\" stroke=\"#05bab6\" stroke-width=\"1.5\"/><path d=\"m73.263 285.59h29.543v-29.543h-29.543z\" clip-path=\"url(#p09a6436628)\" fill=\"#05bab6\" stroke=\"#05bab6\" stroke-width=\"1.5\"/><g clip-path=\"url(#p09a6436628)\"><g transform=\"translate(83.582 92.599) scale(.13 -.13)\"><defs><path id=\"DejaVuSans-58\" transform=\"scale(.015625)\" d=\"m403 4666h678l1160-1735 1165 1735h678l-1500-2241 1600-2425h-678l-1312 1984-1322-1984h-681l1665 2491-1453 2175z\"/></defs><use xlink:href=\"#DejaVuSans-58\"/></g></g><g clip-path=\"url(#p09a6436628)\"><g transform=\"translate(83.582 274.4) scale(.13 -.13)\"><use xlink:href=\"#DejaVuSans-58\"/></g></g><g clip-path=\"url(#p09a6436628)\"><g transform=\"translate(36.363 48.012) scale(.1625 -.1625)\"><defs><path id=\"DejaVuSans-Oblique-71\" transform=\"scale(.015625)\" d=\"m2669 525q-231-303-546-460-314-156-695-156-531 0-833 358-301 358-301 986 0 506 186 978t533 847q225 244 517 375t614 131q387 0 637-153t363-462l100 525h578l-934-4813h-579l360 1844zm-1778 813q0-463 193-705 194-242 560-242 544 0 928 520t384 1264q0 450-199 689-198 239-569 239-272 0-504-127-231-126-403-370-181-256-286-600-104-343-104-668z\"/><path id=\"DejaVuSans-30\" transform=\"scale(.015625)\" d=\"m2034 4250q-487 0-733-480-245-479-245-1442 0-959 245-1439 246-480 733-480 491 0 736 480 246 480 246 1439 0 963-246 1442-245 480-736 480zm0 500q785 0 1199-621 414-620 414-1801 0-1178-414-1799-414-620-1199-620-784 0-1198 620-414 621-414 1799 0 1181 414 1801 414 621 1198 621z\"/></defs><use xlink:href=\"#DejaVuSans-Oblique-71\"/><use transform=\"translate(63.477 -16.406) scale(.7)\" xlink:href=\"#DejaVuSans-30\"/></g></g><g clip-path=\"url(#p09a6436628)\"><g transform=\"translate(36.363 93.463) scale(.1625 -.1625)\"><defs><path id=\"DejaVuSans-31\" transform=\"scale(.015625)\" d=\"m794 531h1031v3560l-1122-225v575l1116 225h631v-4135h1031v-531h-2687v531z\"/></defs><use xlink:href=\"#DejaVuSans-Oblique-71\"/><use transform=\"translate(63.477 -16.406) scale(.7)\" xlink:href=\"#DejaVuSans-31\"/></g></g><g clip-path=\"url(#p09a6436628)\"><g transform=\"translate(36.363 138.91) scale(.1625 -.1625)\"><defs><path id=\"DejaVuSans-32\" transform=\"scale(.015625)\" d=\"m1228 531h2203v-531h-2962v531q359 372 979 998 621 627 780 809 303 340 423 576 121 236 121 464 0 372-261 606-261 235-680 235-297 0-627-103-329-103-704-313v638q381 153 712 231 332 78 607 78 725 0 1156-363 431-362 431-968 0-288-108-546-107-257-392-607-78-91-497-524-418-433-1181-1211z\"/></defs><use xlink:href=\"#DejaVuSans-Oblique-71\"/><use transform=\"translate(63.477 -16.406) scale(.7)\" xlink:href=\"#DejaVuSans-32\"/></g></g><g clip-path=\"url(#p09a6436628)\"><g transform=\"translate(36.363 184.36) scale(.1625 -.1625)\"><defs><path id=\"DejaVuSans-33\" transform=\"scale(.015625)\" d=\"m2597 2516q453-97 707-404 255-306 255-756 0-690-475-1069-475-378-1350-378-293 0-604 58t-642 174v609q262-153 574-231 313-78 654-78 593 0 904 234t311 681q0 413-289 645-289 233-804 233h-544v519h569q465 0 712 186t247 536q0 359-255 551-254 193-729 193-260 0-557-57-297-56-653-174v562q360 100 674 150t592 50q719 0 1137-327 419-326 419-882 0-388-222-655t-631-370z\"/></defs><use xlink:href=\"#DejaVuSans-Oblique-71\"/><use transform=\"translate(63.477 -16.406) scale(.7)\" xlink:href=\"#DejaVuSans-33\"/></g></g><g clip-path=\"url(#p09a6436628)\"><g transform=\"translate(36.363 229.82) scale(.1625 -.1625)\"><defs><path id=\"DejaVuSans-34\" transform=\"scale(.015625)\" d=\"m2419 4116-1594-2491h1594v2491zm-166 550h794v-3041h666v-525h-666v-1100h-628v1100h-2106v609l1940 2957z\"/></defs><use xlink:href=\"#DejaVuSans-Oblique-71\"/><use transform=\"translate(63.477 -16.406) scale(.7)\" xlink:href=\"#DejaVuSans-34\"/></g></g><g clip-path=\"url(#p09a6436628)\"><g transform=\"translate(36.363 275.27) scale(.1625 -.1625)\"><defs><path id=\"DejaVuSans-35\" transform=\"scale(.015625)\" d=\"m691 4666h2478v-532h-1900v-1143q137 47 274 70 138 23 276 23 781 0 1237-428 457-428 457-1159 0-753-469-1171-469-417-1322-417-294 0-599 50-304 50-629 150v635q281-153 581-228t634-75q541 0 856 284 316 284 316 772 0 487-316 771-315 285-856 285-253 0-505-56-251-56-513-175v2344z\"/></defs><use xlink:href=\"#DejaVuSans-Oblique-71\"/><use transform=\"translate(63.477 -16.406) scale(.7)\" xlink:href=\"#DejaVuSans-35\"/></g></g><g clip-path=\"url(#p09a6436628)\"><g transform=\"translate(36.363 320.72) scale(.1625 -.1625)\"><defs><path id=\"DejaVuSans-36\" transform=\"scale(.015625)\" d=\"m2113 2584q-425 0-674-291-248-290-248-796 0-503 248-796 249-292 674-292t673 292q248 293 248 796 0 506-248 796-248 291-673 291zm1253 1979v-575q-238 112-480 171-242 60-480 60-625 0-955-422-329-422-376-1275 184 272 462 417 279 145 613 145 703 0 1111-427 408-426 408-1160 0-719-425-1154-425-434-1131-434-810 0-1238 620-428 621-428 1799 0 1106 525 1764t1409 658q238 0 480-47t505-140z\"/></defs><use xlink:href=\"#DejaVuSans-Oblique-71\"/><use transform=\"translate(63.477 -16.406) scale(.7)\" xlink:href=\"#DejaVuSans-36\"/></g></g><g clip-path=\"url(#p09a6436628)\"><g transform=\"translate(36.363 366.17) scale(.1625 -.1625)\"><defs><path id=\"DejaVuSans-37\" transform=\"scale(.015625)\" d=\"m525 4666h3e3v-269l-1694-4397h-659l1594 4134h-2241v532z\"/></defs><use xlink:href=\"#DejaVuSans-Oblique-71\"/><use transform=\"translate(63.477 -16.406) scale(.7)\" xlink:href=\"#DejaVuSans-37\"/></g></g><defs><clipPath id=\"p09a6436628\"><rect x=\"7.2\" y=\"7.2\" width=\"110.83\" height=\"381.79\"/></clipPath></defs></svg>"
            ],
            "text/plain": [
              "<Figure size 146.797x505.68 with 1 Axes>"
            ]
          },
          "execution_count": 10,
          "metadata": {
          },
          "output_type": "execute_result"
        }
      ],
      "source": [
        "qc_encode = QuantumCircuit(8)\n",
        "qc_encode.x(1)\n",
        "qc_encode.x(5)\n",
        "\n",
        "qc_encode.draw()"
      ]
    },
    {
      "cell_type": "markdown",
      "metadata": {
      },
      "source": [
        "이제 우리는 컴퓨터에서 정보를 인코딩하는 방법을 알게 되었습니다. 다음 단계는 그것을 처리하는 것입니다. 인코딩한 입력을 받아 그것을 우리가 필요로 하는 출력으로 바꾸는 것입니다."
      ]
    },
    {
      "cell_type": "markdown",
      "metadata": {
      },
      "source": [
        "### 4.2 덧셈 방법 기억하기<a id=\"remembering-add\"></a>"
      ]
    },
    {
      "cell_type": "markdown",
      "metadata": {
      },
      "source": [
        "입력을 출력으로 바꾸는 것을 알아 보기 위해, 우리가 해결할 문제가 먼저 있어야 겠네요. 기본적인 수학을 해봅시다. 초등학교에서 당신은 큰 수학 문제를 다룰 때 작은 조각으로 나누는 방법을 배웠을 것입니다. 예를 들어, 다음 문제를 해결하려면 어떻게 하시겠습니까?\n",
        "\n",
        "```code\n",
        "   9213\n",
        "+  1854\n",
        "=  ????\n",
        "```\n",
        "\n",
        "한 가지 방법은 오른쪽에서 왼쪽으로, 숫자 단위로 계산하는 것이죠. 그래서 우리는 3+4로 시작하겠습니다.\n",
        "\n",
        "```code\n",
        "   9213\n",
        "+  1854\n",
        "=  ???7\n",
        "```\n",
        "\n",
        "그러고 나서 1+5 를 합니다.\n",
        "\n",
        "```code\n",
        "   9213\n",
        "+  1854\n",
        "=  ??67\n",
        "```\n",
        "\n",
        "그 다음 2+8=10이 됩니다. 이것은 두 자리 값이므로 하나를 다음 열로 옮겨야 합니다.\n",
        "\n",
        "```code\n",
        "   9213\n",
        "+  1854\n",
        "=  ?067\n",
        "   ¹\n",
        "```\n",
        "\n",
        "마지막으로 9+1+1=11 을 하고 답을 얻습니다.\n",
        "\n",
        "```code\n",
        "   9213\n",
        "+  1854\n",
        "=\n",
        "   ¹\n",
        "```\n",
        "\n",
        "이것은 단순한 덧셈일 수 있지만 모든 알고리즘의 원리를 보여줍니다. 알고리즘이 수학 문제를 해결하든 텍스트나 이미지를 처리하도록 설계되었든 관계없이 우리는 항상 큰 작업을 작고 간단한 작업으로 나눕니다.\n",
        "\n",
        "컴퓨터에서 실행하려면, 알고리즘을 가능한 가장 작고 간단한 작업으로 컴파일해야 합니다. 이것이 어떤 의미인지 이해하기 위해 위의 덧셈 문제를 이진법으로 다시 해봅시다.\n",
        "\n",
        "```code\n",
        "   1000\n",
        "+  000\n",
        "                                    \n",
        "=  ??????????????\n",
        "```\n",
        "\n",
        "두 번째 숫자의 왼쪽에는 여분의 0이 많이 있습니다. 이것은 두 문자열을 같은 길이로 만드는 역할을 합니다.\n",
        "\n",
        "첫 번째 작업은 오른쪽 열에 대해 1+0을 수행하는 것입니다. 모든 수 체계에서와 마찬가지로 이진법에서의 답도 1입니다. 두 번째 열의 0+1에 대해서도 동일한 결과를 얻습니다.\n",
        "\n",
        "```code\n",
        "   10001111111101\n",
        "+  00011100111110\n",
        "\n",
        "=  ????????????11\n",
        "```\n",
        "\n",
        "다음은 1+1입니다. 아시다시피 1+1=2입니다. 이진법에서 숫자 2는 `10` 으로 쓰여지므로 2비트가 필요합니다. 이것은 10진수의 숫자 10과 마찬가지로 1을 다음 열로 전달해야 함을 의미합니다.\n",
        "\n",
        "```code\n",
        "   10001111111101\n",
        "+  00011100111110\n",
        "=  ???????????011\n",
        "             ¹\n",
        "```\n",
        "\n",
        "다음 열에서는 이제 `1+1+1` 을 계산해야 합니다. 세 개의 숫자를 더해야 하므로 컴퓨터에게는 더 복잡해진거죠. 하지만, 우리는 이것을 더 간단한 작업으로 컴파일할 수 있습니다. 즉, 두 비트를 더하는 방식으로 처리할 수 있는거죠. 우선 처음 두 개의 1로 시작할 수 있습니다.\n",
        "\n",
        "```code\n",
        "   1\n",
        "+  1\n",
        "= 10\n",
        "```\n",
        "\n",
        "이제 이 `10` 을 마지막 숫자인 `1` 에 추가해야 합니다. 이는 열을 통과하는 일반적인 방법을 사용하여 수행할 수 있습니다.\n",
        "\n",
        "```code\n",
        "  10\n",
        "+ 01\n",
        "= 11\n",
        "```\n",
        "\n",
        "최종 답은 <code>11</code> (3이라고도 함)입니다.\n",
        "\n",
        "이제 나머지 문제로 돌아갈 수 있습니다. <code>11</code> 의 답으로 다른 캐리 비트가 있습니다.\n",
        "\n",
        "```code\n",
        "   10001111111101\n",
        "+  00011100111110\n",
        "=  ??????????1011\n",
        "            ¹¹\n",
        "```\n",
        "\n",
        "이제 우리는 또 다른 1+1+1을 해야 합니다. 그러나 우리는 이미 어떻게 하는지 알고 있으므로 큰 문제는 아닙니다.\n",
        "\n",
        "이제 남은 모든 일은 우리가 이미 방법을 알고 있는 것들입니다. 모든 것을 2비트씩 더하는 것으로 단계를 나누게 되면 계산해야 할 항목은 4개 뿐입니다. 다음은 4가지 기본 합계입니다(일관성을 위해 모두 2비트로 작성했습니다).\n",
        "\n",
        "```code\n",
        "0+0 = 00 (in decimal, this is 0+0=0)\n",
        "0+1 = 01 (in decimal, this is 0+1=1)\n",
        "1+0 = 01 (in decimal, this is 1+0=1)\n",
        "1+1 = 10 (in decimal, this is 1+1=2)\n",
        "```\n",
        "\n",
        "이것을 *반가산기(Half adder)* 라고 합니다. 컴퓨터가 이것을 구현할 수 있고, 연속해서 병렬로 연결할 수 있으면 무엇이든 더할 수 있습니다."
      ]
    },
    {
      "cell_type": "markdown",
      "metadata": {
      },
      "source": [
        "### 4.3 Qiskit으로 덧셈하기<a id=\"adding-qiskit\"></a>"
      ]
    },
    {
      "cell_type": "markdown",
      "metadata": {
      },
      "source": [
        "Qiskit을 사용하여 우리만의 반가산기를 만들어 봅시다. 여기에는 입력을 인코딩하는 회로 부분, 알고리즘을 실행하는 부분과 결과를 추출하는 부분이 포함됩니다. 첫 번째 부분은 새 입력을 사용하고 싶을 때마다 변경해야 하지만 나머지 부분은 항상 동일하게 유지됩니다."
      ]
    },
    {
      "cell_type": "markdown",
      "metadata": {
      },
      "source": [
        "![양자 회로에 구현된 반가산기](images/half-adder.svg)\n"
      ]
    },
    {
      "cell_type": "markdown",
      "metadata": {
        "gloss": {
          "xor": {
            "text": "An XOR gate implements an exclusive or; that is, a true output results if one, and only one, of the inputs to the gate is true. If both inputs are false or both are true, a false output results",
            "title": "XOR gate"
          }
        }
      },
      "source": [
        "더하려는 두 비트는 큐비트 0과 1로 인코딩됩니다. 위의 예는 이 두 큐비트에서 모두 `1` 을 인코딩하므로 `1+1` 의 해를 찾습니다. 결과는 큐비트 2와 3에서 읽을 2비트 문자열이며 0 또는 1의 값의 고전 비트로 저장됩니다.\n",
        "\n",
        "컴퓨팅의 기본 작업은 논리 게이트로 알려져 있습니다. 우리는 이미 NOT 게이트를 사용했지만 우리의 반가산기를 만들기에는 충분하지 않았습니다. 답을 수동으로 작성하는 데만 사용할 수 있었습니다. 우리는 컴퓨터가 우리를 위해 실제 컴퓨팅을 해주기를 원하기 때문에 더 강력한 게이트가 필요합니다.\n",
        "\n",
        "필요한 것이 무엇인지 알아보기 위해 반가산기가 무엇을 해야 하는지 다시 살펴보겠습니다.\n",
        "\n",
        "```code\n",
        "0+0 = 00\n",
        "0+1 = 01\n",
        "1+0 = 01\n",
        "1+1 = 10\n",
        "```\n",
        "\n",
        "이 네 가지 답변 모두에서 가장 오른쪽 비트는 우리가 더하는 두 비트가 같은지 다른지에 따라 완전히 결정됩니다. 따라서 두 비트가 동일한 `0+0` 과 `1+1` 의 경우 답의 가장 오른쪽 비트가 [[0|1]]이 됩니다. 서로 다른 비트 값을 추가하는 `0+1` 및 `1+0` 의 경우 맨 오른쪽 비트는 [[1|0]]입니다.\n",
        "\n",
        "솔루션의 이 부분을 정확하게 하려면, 두 비트가 다른지 여부를 파악할 수 있는 무언가가 필요합니다. 전통적인 디지털 계산 연구에서는 이것을 [XOR 게이트](gloss:xor) 라고 합니다.\n",
        "\n",
        "입력 1 | 입력 2 | XOR 출력\n",
        ":-: | :-: | :-:\n",
        "0 | 0 | 0\n",
        "0 | 1 | 1\n",
        "1 | 0 | 1\n",
        "1 | 1 | 0\n",
        "\n",
        "양자 컴퓨터에서 XOR 게이트 작업은 Controlled-NOT 게이트에 의해 수행됩니다. 이름이 꽤 길기 때문에 보통 그냥 CNOT라고 부릅니다. Qiskit에서는 더 짧게 `cx` 로 씁니다. 회로도에서는 아래 그림과 같이 그려집니다."
      ]
    },
    {
      "cell_type": "code",
      "execution_count": 11,
      "metadata": {
      },
      "outputs": [
        {
          "data": {
            "image/svg+xml": [
              "<?xml version=\"1.0\" encoding=\"UTF-8\"?><!DOCTYPE svg  PUBLIC '-//W3C//DTD SVG 1.1//EN'  'http://www.w3.org/Graphics/SVG/1.1/DTD/svg11.dtd'><svg width=\"125.12pt\" height=\"123.48pt\" version=\"1.1\" viewBox=\"0 0 125.12 123.48\" xmlns=\"http://www.w3.org/2000/svg\" xmlns:xlink=\"http://www.w3.org/1999/xlink\"><defs><style type=\"text/css\">*{stroke-linecap:butt;stroke-linejoin:round;}</style></defs><path d=\"m0 123.48h125.12v-123.48h-125.12z\" fill=\"#ffffff\"/><path d=\"m63.381 43.561h49.996\" clip-path=\"url(#pe5255c2968)\" fill=\"none\" stroke=\"#000000\" stroke-linecap=\"square\" stroke-width=\"2\"/><path d=\"m63.381 89.012h49.996\" clip-path=\"url(#pe5255c2968)\" fill=\"none\" stroke=\"#000000\" stroke-linecap=\"square\" stroke-width=\"2\"/><path d=\"m87.925 89.012v-45.451\" clip-path=\"url(#pe5255c2968)\" fill=\"none\" stroke=\"#6fa4ff\" stroke-linecap=\"square\" stroke-width=\"2\"/><path d=\"m87.925 47.992c1.1752 0 2.3025-0.46693 3.1335-1.2979 0.83102-0.83102 1.2979-1.9583 1.2979-3.1335s-0.46693-2.3025-1.2979-3.1335c-0.83102-0.83102-1.9583-1.2979-3.1335-1.2979s-2.3025 0.46693-3.1335 1.2979c-0.83102 0.83102-1.2979 1.9583-1.2979 3.1335s0.46693 2.3025 1.2979 3.1335c0.83102 0.83102 1.9583 1.2979 3.1335 1.2979z\" clip-path=\"url(#pe5255c2968)\" fill=\"#6fa4ff\" stroke=\"#6fa4ff\" stroke-width=\"1.5\"/><path d=\"m87.925 99.352c2.7422 0 5.3725-1.0895 7.3116-3.0285 1.939-1.939 3.0285-4.5693 3.0285-7.3116s-1.0895-5.3725-3.0285-7.3116c-1.939-1.939-4.5693-3.0285-7.3116-3.0285s-5.3725 1.0895-7.3116 3.0285c-1.939 1.939-3.0285 4.5693-3.0285 7.3116s1.0895 5.3725 3.0285 7.3116c1.939 1.939 4.5693 3.0285 7.3116 3.0285z\" clip-path=\"url(#pe5255c2968)\" fill=\"#6fa4ff\" stroke=\"#6fa4ff\" stroke-width=\"2\"/><path d=\"m87.925 94.92v-11.817\" clip-path=\"url(#pe5255c2968)\" fill=\"none\" stroke=\"#ffffff\" stroke-linecap=\"square\" stroke-width=\"2\"/><path d=\"m82.016 89.012h11.817\" clip-path=\"url(#pe5255c2968)\" fill=\"none\" stroke=\"#ffffff\" stroke-linecap=\"square\" stroke-width=\"2\"/><g clip-path=\"url(#pe5255c2968)\"><g transform=\"translate(36.253 48.012) scale(.1625 -.1625)\"><defs><path id=\"DejaVuSans-Oblique-71\" transform=\"scale(.015625)\" d=\"m2669 525q-231-303-546-460-314-156-695-156-531 0-833 358-301 358-301 986 0 506 186 978t533 847q225 244 517 375t614 131q387 0 637-153t363-462l100 525h578l-934-4813h-579l360 1844zm-1778 813q0-463 193-705 194-242 560-242 544 0 928 520t384 1264q0 450-199 689-198 239-569 239-272 0-504-127-231-126-403-370-181-256-286-600-104-343-104-668z\"/><path id=\"DejaVuSans-30\" transform=\"scale(.015625)\" d=\"m2034 4250q-487 0-733-480-245-479-245-1442 0-959 245-1439 246-480 733-480 491 0 736 480 246 480 246 1439 0 963-246 1442-245 480-736 480zm0 500q785 0 1199-621 414-620 414-1801 0-1178-414-1799-414-620-1199-620-784 0-1198 620-414 621-414 1799 0 1181 414 1801 414 621 1198 621z\"/></defs><use xlink:href=\"#DejaVuSans-Oblique-71\"/><use transform=\"translate(63.477 -16.406) scale(.7)\" xlink:href=\"#DejaVuSans-30\"/></g></g><g clip-path=\"url(#pe5255c2968)\"><g transform=\"translate(36.253 93.463) scale(.1625 -.1625)\"><defs><path id=\"DejaVuSans-31\" transform=\"scale(.015625)\" d=\"m794 531h1031v3560l-1122-225v575l1116 225h631v-4135h1031v-531h-2687v531z\"/></defs><use xlink:href=\"#DejaVuSans-Oblique-71\"/><use transform=\"translate(63.477 -16.406) scale(.7)\" xlink:href=\"#DejaVuSans-31\"/></g></g><defs><clipPath id=\"pe5255c2968\"><rect x=\"7.2\" y=\"7.2\" width=\"110.72\" height=\"109.08\"/></clipPath></defs></svg>"
            ],
            "text/plain": [
              "<Figure size 146.652x144.48 with 1 Axes>"
            ]
          },
          "execution_count": 11,
          "metadata": {
          },
          "output_type": "execute_result"
        }
      ],
      "source": [
        "qc_cnot = QuantumCircuit(2)\n",
        "qc_cnot.cx(0,1)\n",
        "qc_cnot.draw()"
      ]
    },
    {
      "cell_type": "markdown",
      "metadata": {
      },
      "source": [
        "이 게이트는 한쌍의 큐비트에 작용합니다. 하나의 큐비트는 제어 큐비트(작은 점으로 표현됨)입니다. 다른 하나는 *대상 큐비트* (거다란 원 속에 `+` 기호)입니다.\n",
        "\n",
        "CNOT의 효과를 설명하는 방법에는 여러 가지가 있습니다. 하나는 두 개의 입력 비트(제어 큐비트)가 같은지 다른지 확인하는 것입니다. 다음으로 대상 큐비트를 정답으로 덮어씁니다. 대상 큐비트는 입력 비트가 서로 같으면 `0` 이 되고, 다르면 `1` 이 됩니다.\n",
        "\n",
        "\n",
        "<img src=\"images/cnot_xor.svg\">\n",
        "\n",
        "CNOT를 설명하는 또 다른 방법은 제어 큐비트가 `1` 이면 대상 큐비트에 대해 NOT을 수행하고 그렇지 않으면 아무 작업도 수행하지 않는다고 말하는 것입니다. 이 설명은 위에서 얘기한 설명과 마찬가지로 타당합니다(사실, 게이트에 이런 이름이 붙여진 것과 관련된 설명입니다).\n",
        "\n",
        "가능한 모든 입력 큐비트에 CNOT을 직접 실행해 보세요. 예를 들어, 다음은 입력 `01` 로 CNOT를 테스트하는 회로입니다."
      ]
    },
    {
      "cell_type": "code",
      "execution_count": 12,
      "metadata": {
      },
      "outputs": [
        {
          "data": {
            "image/svg+xml": [
              "<?xml version=\"1.0\" encoding=\"UTF-8\"?><!DOCTYPE svg  PUBLIC '-//W3C//DTD SVG 1.1//EN'  'http://www.w3.org/Graphics/SVG/1.1/DTD/svg11.dtd'><svg width=\"261.48pt\" height=\"168.93pt\" version=\"1.1\" viewBox=\"0 0 261.48 168.93\" xmlns=\"http://www.w3.org/2000/svg\" xmlns:xlink=\"http://www.w3.org/1999/xlink\"><defs><style type=\"text/css\">*{stroke-linecap:butt;stroke-linejoin:round;}</style></defs><path d=\"m0 168.93h261.48v-168.93h-261.48z\" fill=\"#ffffff\"/><path d=\"m172.92 124.12h11.817l-5.9086 8.5221z\" clip-path=\"url(#p8f3b521eb2)\" fill=\"#778899\"/><path d=\"m218.37 124.12h11.817l-5.9086 8.5221z\" clip-path=\"url(#p8f3b521eb2)\" fill=\"#778899\"/><path d=\"m63.381 43.561h186.35\" clip-path=\"url(#p8f3b521eb2)\" fill=\"none\" stroke=\"#000000\" stroke-linecap=\"square\" stroke-width=\"2\"/><path d=\"m63.381 89.012h186.35\" clip-path=\"url(#p8f3b521eb2)\" fill=\"none\" stroke=\"#000000\" stroke-linecap=\"square\" stroke-width=\"2\"/><path d=\"m63.381 132.99h186.35\" clip-path=\"url(#p8f3b521eb2)\" fill=\"none\" stroke=\"#778899\" stroke-linecap=\"square\" stroke-width=\"2\"/><path d=\"m63.381 135.94h186.35\" clip-path=\"url(#p8f3b521eb2)\" fill=\"none\" stroke=\"#778899\" stroke-linecap=\"square\" stroke-width=\"2\"/><path d=\"m133.38 89.012v-45.451\" clip-path=\"url(#p8f3b521eb2)\" fill=\"none\" stroke=\"#6fa4ff\" stroke-linecap=\"square\" stroke-width=\"2\"/><path d=\"m180.3 43.561v80.562\" clip-path=\"url(#p8f3b521eb2)\" fill=\"none\" stroke=\"#778899\" stroke-linecap=\"square\" stroke-width=\"2\"/><path d=\"m177.35 43.561v80.562\" clip-path=\"url(#p8f3b521eb2)\" fill=\"none\" stroke=\"#778899\" stroke-linecap=\"square\" stroke-width=\"2\"/><path d=\"m225.75 89.012v35.111\" clip-path=\"url(#p8f3b521eb2)\" fill=\"none\" stroke=\"#778899\" stroke-linecap=\"square\" stroke-width=\"2\"/><path d=\"m222.8 89.012v35.111\" clip-path=\"url(#p8f3b521eb2)\" fill=\"none\" stroke=\"#778899\" stroke-linecap=\"square\" stroke-width=\"2\"/><path d=\"m72.471 139.01 4.5451-9.0902\" clip-path=\"url(#p8f3b521eb2)\" fill=\"none\" stroke=\"#778899\" stroke-linecap=\"square\" stroke-width=\"1.5\"/><path d=\"m73.153 58.332h29.543v-29.543h-29.543z\" clip-path=\"url(#p8f3b521eb2)\" fill=\"#05bab6\" stroke=\"#05bab6\" stroke-width=\"1.5\"/><path d=\"m133.38 47.992c1.1752 0 2.3025-0.46693 3.1335-1.2979 0.83102-0.83102 1.2979-1.9583 1.2979-3.1335s-0.46693-2.3025-1.2979-3.1335c-0.83102-0.83102-1.9583-1.2979-3.1335-1.2979s-2.3025 0.46693-3.1335 1.2979c-0.83102 0.83102-1.2979 1.9583-1.2979 3.1335s0.46693 2.3025 1.2979 3.1335c0.83102 0.83102 1.9583 1.2979 3.1335 1.2979z\" clip-path=\"url(#p8f3b521eb2)\" fill=\"#6fa4ff\" stroke=\"#6fa4ff\" stroke-width=\"1.5\"/><path d=\"m133.38 99.352c2.7422 0 5.3725-1.0895 7.3116-3.0285 1.939-1.939 3.0285-4.5693 3.0285-7.3116s-1.0895-5.3725-3.0285-7.3116c-1.939-1.939-4.5693-3.0285-7.3116-3.0285s-5.3725 1.0895-7.3116 3.0285c-1.939 1.939-3.0285 4.5693-3.0285 7.3116s1.0895 5.3725 3.0285 7.3116c1.939 1.939 4.5693 3.0285 7.3116 3.0285z\" clip-path=\"url(#p8f3b521eb2)\" fill=\"#6fa4ff\" stroke=\"#6fa4ff\" stroke-width=\"2\"/><path d=\"m164.06 58.332h29.543v-29.543h-29.543z\" clip-path=\"url(#p8f3b521eb2)\" stroke=\"#000000\" stroke-width=\"1.5\"/><path d=\"m189.17 47.992c0-2.7413-1.0901-5.3732-3.0285-7.3116-1.9384-1.9384-4.5702-3.0285-7.3116-3.0285s-5.3732 1.0901-7.3116 3.0285c-1.9384 1.9384-3.0285 4.5702-3.0285 7.3116\" clip-path=\"url(#p8f3b521eb2)\" fill=\"none\" stroke=\"#ffffff\" stroke-width=\"2\"/><path d=\"m209.51 103.78h29.543v-29.543h-29.543z\" clip-path=\"url(#p8f3b521eb2)\" stroke=\"#000000\" stroke-width=\"1.5\"/><path d=\"m234.62 93.443c0-2.7413-1.0901-5.3732-3.0285-7.3116-1.9384-1.9384-4.5702-3.0285-7.3116-3.0285s-5.3732 1.0901-7.3116 3.0285c-1.9384 1.9384-3.0285 4.5702-3.0285 7.3116\" clip-path=\"url(#p8f3b521eb2)\" fill=\"none\" stroke=\"#ffffff\" stroke-width=\"2\"/><path d=\"m178.83 47.992 10.34-10.34\" clip-path=\"url(#p8f3b521eb2)\" fill=\"none\" stroke=\"#ffffff\" stroke-linecap=\"square\" stroke-width=\"2\"/><path d=\"m224.28 93.443 10.34-10.34\" clip-path=\"url(#p8f3b521eb2)\" fill=\"none\" stroke=\"#ffffff\" stroke-linecap=\"square\" stroke-width=\"2\"/><path d=\"m133.38 94.92v-11.817\" clip-path=\"url(#p8f3b521eb2)\" fill=\"none\" stroke=\"#ffffff\" stroke-linecap=\"square\" stroke-width=\"2\"/><path d=\"m127.47 89.012h11.817\" clip-path=\"url(#p8f3b521eb2)\" fill=\"none\" stroke=\"#ffffff\" stroke-linecap=\"square\" stroke-width=\"2\"/><g clip-path=\"url(#p8f3b521eb2)\"><g transform=\"translate(83.472 47.148) scale(.13 -.13)\"><defs><path id=\"DejaVuSans-58\" transform=\"scale(.015625)\" d=\"m403 4666h678l1160-1735 1165 1735h678l-1500-2241 1600-2425h-678l-1312 1984-1322-1984h-681l1665 2491-1453 2175z\"/></defs><use xlink:href=\"#DejaVuSans-58\"/></g></g><g clip-path=\"url(#p8f3b521eb2)\"><g transform=\"translate(190.19 127.75) scale(.104 -.104)\"><defs><path id=\"DejaVuSans-30\" transform=\"scale(.015625)\" d=\"m2034 4250q-487 0-733-480-245-479-245-1442 0-959 245-1439 246-480 733-480 491 0 736 480 246 480 246 1439 0 963-246 1442-245 480-736 480zm0 500q785 0 1199-621 414-620 414-1801 0-1178-414-1799-414-620-1199-620-784 0-1198 620-414 621-414 1799 0 1181 414 1801 414 621 1198 621z\"/></defs><use xlink:href=\"#DejaVuSans-30\"/></g></g><g clip-path=\"url(#p8f3b521eb2)\"><g transform=\"translate(235.64 127.75) scale(.104 -.104)\"><defs><path id=\"DejaVuSans-31\" transform=\"scale(.015625)\" d=\"m794 531h1031v3560l-1122-225v575l1116 225h631v-4135h1031v-531h-2687v531z\"/></defs><use xlink:href=\"#DejaVuSans-31\"/></g></g><g clip-path=\"url(#p8f3b521eb2)\"><g transform=\"translate(36.253 48.012) scale(.1625 -.1625)\"><defs><path id=\"DejaVuSans-Oblique-71\" transform=\"scale(.015625)\" d=\"m2669 525q-231-303-546-460-314-156-695-156-531 0-833 358-301 358-301 986 0 506 186 978t533 847q225 244 517 375t614 131q387 0 637-153t363-462l100 525h578l-934-4813h-579l360 1844zm-1778 813q0-463 193-705 194-242 560-242 544 0 928 520t384 1264q0 450-199 689-198 239-569 239-272 0-504-127-231-126-403-370-181-256-286-600-104-343-104-668z\"/></defs><use xlink:href=\"#DejaVuSans-Oblique-71\"/><use transform=\"translate(63.477 -16.406) scale(.7)\" xlink:href=\"#DejaVuSans-30\"/></g></g><g clip-path=\"url(#p8f3b521eb2)\"><g transform=\"translate(36.253 93.463) scale(.1625 -.1625)\"><use xlink:href=\"#DejaVuSans-Oblique-71\"/><use transform=\"translate(63.477 -16.406) scale(.7)\" xlink:href=\"#DejaVuSans-31\"/></g></g><g clip-path=\"url(#p8f3b521eb2)\"><g transform=\"translate(67.926 127.75) scale(.104 -.104)\"><defs><path id=\"DejaVuSans-32\" transform=\"scale(.015625)\" d=\"m1228 531h2203v-531h-2962v531q359 372 979 998 621 627 780 809 303 340 423 576 121 236 121 464 0 372-261 606-261 235-680 235-297 0-627-103-329-103-704-313v638q381 153 712 231 332 78 607 78 725 0 1156-363 431-362 431-968 0-288-108-546-107-257-392-607-78-91-497-524-418-433-1181-1211z\"/></defs><use xlink:href=\"#DejaVuSans-32\"/></g></g><g clip-path=\"url(#p8f3b521eb2)\"><g transform=\"translate(45.356 138.95) scale(.1625 -.1625)\"><defs><path id=\"DejaVuSans-63\" transform=\"scale(.015625)\" d=\"m3122 3366v-538q-244 135-489 202t-495 67q-560 0-870-355-309-354-309-995t309-996q310-354 870-354 250 0 495 67t489 202v-532q-241-112-499-168-257-57-548-57-791 0-1257 497-465 497-465 1341 0 856 470 1346 471 491 1290 491 265 0 518-55 253-54 491-163z\"/></defs><use xlink:href=\"#DejaVuSans-63\"/></g></g><defs><clipPath id=\"p8f3b521eb2\"><rect x=\"7.2\" y=\"7.2\" width=\"247.08\" height=\"154.53\"/></clipPath></defs></svg>"
            ],
            "text/plain": [
              "<Figure size 327.252x204.68 with 1 Axes>"
            ]
          },
          "execution_count": 12,
          "metadata": {
          },
          "output_type": "execute_result"
        }
      ],
      "source": [
        "qc = QuantumCircuit(2,2)\n",
        "qc.x(0)\n",
        "qc.cx(0,1)\n",
        "qc.measure(0,0)\n",
        "qc.measure(1,1)\n",
        "qc.draw()"
      ]
    },
    {
      "cell_type": "markdown",
      "metadata": {
      },
      "source": [
        "이 회로를 실행하면 출력값이 `11` 이 됩니다. 이러한 일이 발생한 이유는 다음 중 하나라고 생각할 수 있습니다.\n",
        "\n",
        "- CNOT은 입력 값이 다른지 여부를 확인하고, 값이 서로 다르므로 `1` 을 출력합니다. 큐비트 1(비트 문자열의 왼쪽에 있음)의 상태를 이 값으로 덮어쓰면 `01` 이 `11` 로 변경됩니다.\n",
        "\n",
        "- CNOT는 큐비트 0이 상태 `1` 에 있음을 확인하므로 큐비트 1에 NOT을 적용합니다. 이것은 큐비트 1의 `0` 을 `1` 로 뒤집고 `01` 을 `11` 로 바꿉니다.\n",
        "\n",
        "다음은 CNOT 게이트의 가능한 모든 입력과 해당 출력을 보여주는 표입니다.\n",
        "\n",
        "입력(q1 q0) | 출력(q1 q0)\n",
        ":-: | :-:\n",
        "00 | 00\n",
        "01 | 11\n",
        "10 | 10\n",
        "11 | 01\n",
        "\n",
        "반가산기의 경우, 입력값을 덮어쓰고 싶지 않습니다. 대신 다른 큐비트 쌍에 결과를 기록하기를 원합니다. 이를 위해 두 개의 CNOT를 사용할 수 있습니다."
      ]
    },
    {
      "cell_type": "code",
      "execution_count": 13,
      "metadata": {
      },
      "outputs": [
        {
          "data": {
            "image/svg+xml": [
              "<?xml version=\"1.0\" encoding=\"UTF-8\"?><!DOCTYPE svg  PUBLIC '-//W3C//DTD SVG 1.1//EN'  'http://www.w3.org/Graphics/SVG/1.1/DTD/svg11.dtd'><svg width=\"397.94pt\" height=\"259.84pt\" version=\"1.1\" viewBox=\"0 0 397.94 259.84\" xmlns=\"http://www.w3.org/2000/svg\" xmlns:xlink=\"http://www.w3.org/1999/xlink\"><defs><style type=\"text/css\">*{stroke-linecap:butt;stroke-linejoin:round;}</style></defs><path d=\"m0 259.84h397.94v-259.84h-397.94z\" fill=\"#ffffff\"/><path d=\"m309.38 215.02h11.817l-5.9086 8.5221z\" clip-path=\"url(#p0da38d45c0)\" fill=\"#778899\"/><path d=\"m354.83 215.02h11.817l-5.9086 8.5221z\" clip-path=\"url(#p0da38d45c0)\" fill=\"#778899\"/><path d=\"m63.491 43.561h322.7\" clip-path=\"url(#p0da38d45c0)\" fill=\"none\" stroke=\"#000000\" stroke-linecap=\"square\" stroke-width=\"2\"/><path d=\"m63.491 89.012h322.7\" clip-path=\"url(#p0da38d45c0)\" fill=\"none\" stroke=\"#000000\" stroke-linecap=\"square\" stroke-width=\"2\"/><path d=\"m63.491 134.46h322.7\" clip-path=\"url(#p0da38d45c0)\" fill=\"none\" stroke=\"#000000\" stroke-linecap=\"square\" stroke-width=\"2\"/><path d=\"m63.491 179.91h322.7\" clip-path=\"url(#p0da38d45c0)\" fill=\"none\" stroke=\"#000000\" stroke-linecap=\"square\" stroke-width=\"2\"/><path d=\"m63.491 223.89h322.7\" clip-path=\"url(#p0da38d45c0)\" fill=\"none\" stroke=\"#778899\" stroke-linecap=\"square\" stroke-width=\"2\"/><path d=\"m63.491 226.84h322.7\" clip-path=\"url(#p0da38d45c0)\" fill=\"none\" stroke=\"#778899\" stroke-linecap=\"square\" stroke-width=\"2\"/><path d=\"m124.62 66.286h17.726v-45.451h-17.726z\" clip-path=\"url(#p0da38d45c0)\" fill=\"#bdbdbd\" opacity=\".6\"/><path d=\"m124.62 111.74h17.726v-45.451h-17.726z\" clip-path=\"url(#p0da38d45c0)\" fill=\"#bdbdbd\" opacity=\".6\"/><path d=\"m124.62 157.19h17.726v-45.451h-17.726z\" clip-path=\"url(#p0da38d45c0)\" fill=\"#bdbdbd\" opacity=\".6\"/><path d=\"m124.62 202.64h17.726v-45.451h-17.726z\" clip-path=\"url(#p0da38d45c0)\" fill=\"#bdbdbd\" opacity=\".6\"/><path d=\"m260.98 66.286h17.726v-45.451h-17.726z\" clip-path=\"url(#p0da38d45c0)\" fill=\"#bdbdbd\" opacity=\".6\"/><path d=\"m260.98 111.74h17.726v-45.451h-17.726z\" clip-path=\"url(#p0da38d45c0)\" fill=\"#bdbdbd\" opacity=\".6\"/><path d=\"m260.98 157.19h17.726v-45.451h-17.726z\" clip-path=\"url(#p0da38d45c0)\" fill=\"#bdbdbd\" opacity=\".6\"/><path d=\"m260.98 202.64h17.726v-45.451h-17.726z\" clip-path=\"url(#p0da38d45c0)\" fill=\"#bdbdbd\" opacity=\".6\"/><path d=\"m178.94 134.46v-90.902\" clip-path=\"url(#p0da38d45c0)\" fill=\"none\" stroke=\"#6fa4ff\" stroke-linecap=\"square\" stroke-width=\"2\"/><path d=\"m224.39 134.46v-45.451\" clip-path=\"url(#p0da38d45c0)\" fill=\"none\" stroke=\"#6fa4ff\" stroke-linecap=\"square\" stroke-width=\"2\"/><path d=\"m316.77 134.46v80.562\" clip-path=\"url(#p0da38d45c0)\" fill=\"none\" stroke=\"#778899\" stroke-linecap=\"square\" stroke-width=\"2\"/><path d=\"m313.81 134.46v80.562\" clip-path=\"url(#p0da38d45c0)\" fill=\"none\" stroke=\"#778899\" stroke-linecap=\"square\" stroke-width=\"2\"/><path d=\"m362.22 179.91v35.111\" clip-path=\"url(#p0da38d45c0)\" fill=\"none\" stroke=\"#778899\" stroke-linecap=\"square\" stroke-width=\"2\"/><path d=\"m359.26 179.91v35.111\" clip-path=\"url(#p0da38d45c0)\" fill=\"none\" stroke=\"#778899\" stroke-linecap=\"square\" stroke-width=\"2\"/><path d=\"m72.581 229.91 4.5451-9.0902\" clip-path=\"url(#p0da38d45c0)\" fill=\"none\" stroke=\"#778899\" stroke-linecap=\"square\" stroke-width=\"1.5\"/><path d=\"m73.263 58.332h29.543v-29.543h-29.543z\" clip-path=\"url(#p0da38d45c0)\" fill=\"#05bab6\" stroke=\"#05bab6\" stroke-width=\"1.5\"/><path d=\"m73.263 103.78h29.543v-29.543h-29.543z\" clip-path=\"url(#p0da38d45c0)\" fill=\"#05bab6\" stroke=\"#05bab6\" stroke-width=\"1.5\"/><path d=\"m178.94 47.992c1.1752 0 2.3025-0.46693 3.1335-1.2979 0.83102-0.83102 1.2979-1.9583 1.2979-3.1335s-0.46693-2.3025-1.2979-3.1335c-0.83102-0.83102-1.9583-1.2979-3.1335-1.2979s-2.3025 0.46693-3.1335 1.2979c-0.83102 0.83102-1.2979 1.9583-1.2979 3.1335s0.46693 2.3025 1.2979 3.1335c0.83102 0.83102 1.9583 1.2979 3.1335 1.2979z\" clip-path=\"url(#p0da38d45c0)\" fill=\"#6fa4ff\" stroke=\"#6fa4ff\" stroke-width=\"1.5\"/><path d=\"m178.94 144.8c2.7422 0 5.3725-1.0895 7.3116-3.0285 1.939-1.939 3.0285-4.5693 3.0285-7.3116s-1.0895-5.3725-3.0285-7.3116c-1.939-1.939-4.5693-3.0285-7.3116-3.0285s-5.3725 1.0895-7.3116 3.0285c-1.939 1.939-3.0285 4.5693-3.0285 7.3116s1.0895 5.3725 3.0285 7.3116c1.939 1.939 4.5693 3.0285 7.3116 3.0285z\" clip-path=\"url(#p0da38d45c0)\" fill=\"#6fa4ff\" stroke=\"#6fa4ff\" stroke-width=\"2\"/><path d=\"m224.39 93.443c1.1752 0 2.3025-0.46693 3.1335-1.2979 0.83102-0.83102 1.2979-1.9583 1.2979-3.1335s-0.46693-2.3025-1.2979-3.1335c-0.83102-0.83102-1.9583-1.2979-3.1335-1.2979s-2.3025 0.46693-3.1335 1.2979c-0.83102 0.83102-1.2979 1.9583-1.2979 3.1335s0.46693 2.3025 1.2979 3.1335c0.83102 0.83102 1.9583 1.2979 3.1335 1.2979z\" clip-path=\"url(#p0da38d45c0)\" fill=\"#6fa4ff\" stroke=\"#6fa4ff\" stroke-width=\"1.5\"/><path d=\"m224.39 144.8c2.7422 0 5.3725-1.0895 7.3116-3.0285 1.939-1.939 3.0285-4.5693 3.0285-7.3116s-1.0895-5.3725-3.0285-7.3116c-1.939-1.939-4.5693-3.0285-7.3116-3.0285s-5.3725 1.0895-7.3116 3.0285c-1.939 1.939-3.0285 4.5693-3.0285 7.3116s1.0895 5.3725 3.0285 7.3116c1.939 1.939 4.5693 3.0285 7.3116 3.0285z\" clip-path=\"url(#p0da38d45c0)\" fill=\"#6fa4ff\" stroke=\"#6fa4ff\" stroke-width=\"2\"/><path d=\"m300.52 149.23h29.543v-29.543h-29.543z\" clip-path=\"url(#p0da38d45c0)\" stroke=\"#000000\" stroke-width=\"1.5\"/><path d=\"m325.63 138.89c0-2.7413-1.0901-5.3732-3.0285-7.3116s-4.5702-3.0285-7.3116-3.0285-5.3732 1.0901-7.3116 3.0285c-1.9384 1.9384-3.0285 4.5702-3.0285 7.3116\" clip-path=\"url(#p0da38d45c0)\" fill=\"none\" stroke=\"#ffffff\" stroke-width=\"2\"/><path d=\"m345.97 194.69h29.543v-29.543h-29.543z\" clip-path=\"url(#p0da38d45c0)\" stroke=\"#000000\" stroke-width=\"1.5\"/><path d=\"m371.08 184.35c0-2.7413-1.0901-5.3732-3.0285-7.3116s-4.5702-3.0285-7.3116-3.0285-5.3732 1.0901-7.3116 3.0285c-1.9384 1.9384-3.0285 4.5702-3.0285 7.3116\" clip-path=\"url(#p0da38d45c0)\" fill=\"none\" stroke=\"#ffffff\" stroke-width=\"2\"/><path d=\"m315.29 138.89 10.34-10.34\" clip-path=\"url(#p0da38d45c0)\" fill=\"none\" stroke=\"#ffffff\" stroke-linecap=\"square\" stroke-width=\"2\"/><path d=\"m360.74 184.35 10.34-10.34\" clip-path=\"url(#p0da38d45c0)\" fill=\"none\" stroke=\"#ffffff\" stroke-linecap=\"square\" stroke-width=\"2\"/><path d=\"m133.49 20.835v45.451\" clip-path=\"url(#p0da38d45c0)\" fill=\"none\" stroke=\"#000000\" stroke-dasharray=\"3.7,1.6\"/><path d=\"m133.49 66.286v45.451\" clip-path=\"url(#p0da38d45c0)\" fill=\"none\" stroke=\"#000000\" stroke-dasharray=\"3.7,1.6\"/><path d=\"m133.49 111.74v45.451\" clip-path=\"url(#p0da38d45c0)\" fill=\"none\" stroke=\"#000000\" stroke-dasharray=\"3.7,1.6\"/><path d=\"m133.49 157.19v45.451\" clip-path=\"url(#p0da38d45c0)\" fill=\"none\" stroke=\"#000000\" stroke-dasharray=\"3.7,1.6\"/><path d=\"m178.94 140.37v-11.817\" clip-path=\"url(#p0da38d45c0)\" fill=\"none\" stroke=\"#ffffff\" stroke-linecap=\"square\" stroke-width=\"2\"/><path d=\"m173.03 134.46h11.817\" clip-path=\"url(#p0da38d45c0)\" fill=\"none\" stroke=\"#ffffff\" stroke-linecap=\"square\" stroke-width=\"2\"/><path d=\"m224.39 140.37v-11.817\" clip-path=\"url(#p0da38d45c0)\" fill=\"none\" stroke=\"#ffffff\" stroke-linecap=\"square\" stroke-width=\"2\"/><path d=\"m218.48 134.46h11.817\" clip-path=\"url(#p0da38d45c0)\" fill=\"none\" stroke=\"#ffffff\" stroke-linecap=\"square\" stroke-width=\"2\"/><path d=\"m269.84 20.835v45.451\" clip-path=\"url(#p0da38d45c0)\" fill=\"none\" stroke=\"#000000\" stroke-dasharray=\"3.7,1.6\"/><path d=\"m269.84 66.286v45.451\" clip-path=\"url(#p0da38d45c0)\" fill=\"none\" stroke=\"#000000\" stroke-dasharray=\"3.7,1.6\"/><path d=\"m269.84 111.74v45.451\" clip-path=\"url(#p0da38d45c0)\" fill=\"none\" stroke=\"#000000\" stroke-dasharray=\"3.7,1.6\"/><path d=\"m269.84 157.19v45.451\" clip-path=\"url(#p0da38d45c0)\" fill=\"none\" stroke=\"#000000\" stroke-dasharray=\"3.7,1.6\"/><g clip-path=\"url(#p0da38d45c0)\"><g transform=\"translate(83.582 47.148) scale(.13 -.13)\"><defs><path id=\"DejaVuSans-58\" transform=\"scale(.015625)\" d=\"m403 4666h678l1160-1735 1165 1735h678l-1500-2241 1600-2425h-678l-1312 1984-1322-1984h-681l1665 2491-1453 2175z\"/></defs><use xlink:href=\"#DejaVuSans-58\"/></g></g><g clip-path=\"url(#p0da38d45c0)\"><g transform=\"translate(83.582 92.599) scale(.13 -.13)\"><use xlink:href=\"#DejaVuSans-58\"/></g></g><g clip-path=\"url(#p0da38d45c0)\"><g transform=\"translate(326.65 218.66) scale(.104 -.104)\"><defs><path id=\"DejaVuSans-30\" transform=\"scale(.015625)\" d=\"m2034 4250q-487 0-733-480-245-479-245-1442 0-959 245-1439 246-480 733-480 491 0 736 480 246 480 246 1439 0 963-246 1442-245 480-736 480zm0 500q785 0 1199-621 414-620 414-1801 0-1178-414-1799-414-620-1199-620-784 0-1198 620-414 621-414 1799 0 1181 414 1801 414 621 1198 621z\"/></defs><use xlink:href=\"#DejaVuSans-30\"/></g></g><g clip-path=\"url(#p0da38d45c0)\"><g transform=\"translate(372.1 218.66) scale(.104 -.104)\"><defs><path id=\"DejaVuSans-31\" transform=\"scale(.015625)\" d=\"m794 531h1031v3560l-1122-225v575l1116 225h631v-4135h1031v-531h-2687v531z\"/></defs><use xlink:href=\"#DejaVuSans-31\"/></g></g><g clip-path=\"url(#p0da38d45c0)\"><g transform=\"translate(36.363 48.012) scale(.1625 -.1625)\"><defs><path id=\"DejaVuSans-Oblique-71\" transform=\"scale(.015625)\" d=\"m2669 525q-231-303-546-460-314-156-695-156-531 0-833 358-301 358-301 986 0 506 186 978t533 847q225 244 517 375t614 131q387 0 637-153t363-462l100 525h578l-934-4813h-579l360 1844zm-1778 813q0-463 193-705 194-242 560-242 544 0 928 520t384 1264q0 450-199 689-198 239-569 239-272 0-504-127-231-126-403-370-181-256-286-600-104-343-104-668z\"/></defs><use xlink:href=\"#DejaVuSans-Oblique-71\"/><use transform=\"translate(63.477 -16.406) scale(.7)\" xlink:href=\"#DejaVuSans-30\"/></g></g><g clip-path=\"url(#p0da38d45c0)\"><g transform=\"translate(36.363 93.463) scale(.1625 -.1625)\"><use xlink:href=\"#DejaVuSans-Oblique-71\"/><use transform=\"translate(63.477 -16.406) scale(.7)\" xlink:href=\"#DejaVuSans-31\"/></g></g><g clip-path=\"url(#p0da38d45c0)\"><g transform=\"translate(36.363 138.91) scale(.1625 -.1625)\"><defs><path id=\"DejaVuSans-32\" transform=\"scale(.015625)\" d=\"m1228 531h2203v-531h-2962v531q359 372 979 998 621 627 780 809 303 340 423 576 121 236 121 464 0 372-261 606-261 235-680 235-297 0-627-103-329-103-704-313v638q381 153 712 231 332 78 607 78 725 0 1156-363 431-362 431-968 0-288-108-546-107-257-392-607-78-91-497-524-418-433-1181-1211z\"/></defs><use xlink:href=\"#DejaVuSans-Oblique-71\"/><use transform=\"translate(63.477 -16.406) scale(.7)\" xlink:href=\"#DejaVuSans-32\"/></g></g><g clip-path=\"url(#p0da38d45c0)\"><g transform=\"translate(36.363 184.36) scale(.1625 -.1625)\"><defs><path id=\"DejaVuSans-33\" transform=\"scale(.015625)\" d=\"m2597 2516q453-97 707-404 255-306 255-756 0-690-475-1069-475-378-1350-378-293 0-604 58t-642 174v609q262-153 574-231 313-78 654-78 593 0 904 234t311 681q0 413-289 645-289 233-804 233h-544v519h569q465 0 712 186t247 536q0 359-255 551-254 193-729 193-260 0-557-57-297-56-653-174v562q360 100 674 150t592 50q719 0 1137-327 419-326 419-882 0-388-222-655t-631-370z\"/></defs><use xlink:href=\"#DejaVuSans-Oblique-71\"/><use transform=\"translate(63.477 -16.406) scale(.7)\" xlink:href=\"#DejaVuSans-33\"/></g></g><g clip-path=\"url(#p0da38d45c0)\"><g transform=\"translate(68.036 218.66) scale(.104 -.104)\"><use xlink:href=\"#DejaVuSans-32\"/></g></g><g clip-path=\"url(#p0da38d45c0)\"><g transform=\"translate(45.466 229.85) scale(.1625 -.1625)\"><defs><path id=\"DejaVuSans-63\" transform=\"scale(.015625)\" d=\"m3122 3366v-538q-244 135-489 202t-495 67q-560 0-870-355-309-354-309-995t309-996q310-354 870-354 250 0 495 67t489 202v-532q-241-112-499-168-257-57-548-57-791 0-1257 497-465 497-465 1341 0 856 470 1346 471 491 1290 491 265 0 518-55 253-54 491-163z\"/></defs><use xlink:href=\"#DejaVuSans-63\"/></g></g><defs><clipPath id=\"p0da38d45c0\"><rect x=\"7.2\" y=\"7.2\" width=\"383.54\" height=\"245.44\"/></clipPath></defs></svg>"
            ],
            "text/plain": [
              "<Figure size 507.997x325.08 with 1 Axes>"
            ]
          },
          "execution_count": 13,
          "metadata": {
          },
          "output_type": "execute_result"
        }
      ],
      "source": [
        "qc_ha = QuantumCircuit(4,2)\n",
        "# encode inputs in qubits 0 and 1\n",
        "qc_ha.x(0) # For a=0, remove this line. For a=1, leave it.\n",
        "qc_ha.x(1) # For b=0, remove this line. For b=1, leave it.\n",
        "qc_ha.barrier()\n",
        "# use cnots to write the XOR of the inputs on qubit 2\n",
        "qc_ha.cx(0,2)\n",
        "qc_ha.cx(1,2)\n",
        "qc_ha.barrier()\n",
        "# extract outputs\n",
        "qc_ha.measure(2,0) # extract XOR value\n",
        "qc_ha.measure(3,1)\n",
        "\n",
        "qc_ha.draw()"
      ]
    },
    {
      "cell_type": "markdown",
      "metadata": {
        "gloss": {
          "toffoli": {
            "text": "The Toffoli gate, invented by Tommaso Toffoli, is a universal reversible logic gate, which means that any reversible circuit can be constructed from Toffoli gates. It is also known as the _controlled-controlled-not_ gate, which describes its action. It has 3-bit inputs and outputs; if the first two bits are both set to 1, it inverts the third bit, otherwise all bits stay the same.",
            "title": "Toffoli"
          }
        }
      },
      "source": [
        "이제 완전히 작동하는 반가산기를 절반정도 구현했습니다. 이제 출력을 위한 비트만 남았습니다. 큐비트 3을 사용합니다.\n",
        "\n",
        "네 가지 가능한 합계를 다시 보면 `0` 대신 `1` 인 경우가 하나뿐이라는 것을 알 수 있습니다 : `1+1` = `10`. 우리가 더하려는 두 비트가 모두 `1` 일 때만 발생합니다.\n",
        "\n",
        "이 부분을 계산하기 위해, 컴퓨터는 두 입력이 모두 `1` 인지 여부를 확인할 수 있어야 합니다. 그럴 때만 큐비트 3에 NOT 게이트를 수행하도록 합니다. 그러면 이 경우에만 우리가 필요한 값인 `1` 로 반전되어 필요한 출력을 얻을 수 있습니다.\n",
        "\n",
        "이를 위해 우리는 새로운 게이트가 필요합니다. CNOT처럼 하나의 큐비트가 아닌 두 개의 큐비트로 제어됩니다. 두 컨트롤이 모두 상태 `1` 때만 대상 큐비트에서 NOT을 수행합니다. 이 새로운 게이트를 [Tofffoli](gloss:toffoli) 라고 합니다. 부울 논리 게이트에 익숙한 분들에게는 기본적으로 AND 게이트와 같은 것입니다.\n",
        "\n",
        "Qiskit에서 Tofffoli는 `ccx` 명령으로 표시됩니다."
      ]
    },
    {
      "cell_type": "code",
      "execution_count": 14,
      "metadata": {
      },
      "outputs": [
        {
          "data": {
            "image/svg+xml": [
              "<?xml version=\"1.0\" encoding=\"UTF-8\"?><!DOCTYPE svg  PUBLIC '-//W3C//DTD SVG 1.1//EN'  'http://www.w3.org/Graphics/SVG/1.1/DTD/svg11.dtd'><svg width=\"443.39pt\" height=\"259.84pt\" version=\"1.1\" viewBox=\"0 0 443.39 259.84\" xmlns=\"http://www.w3.org/2000/svg\" xmlns:xlink=\"http://www.w3.org/1999/xlink\"><defs><style type=\"text/css\">*{stroke-linecap:butt;stroke-linejoin:round;}</style></defs><path d=\"m0 259.84h443.39v-259.84h-443.39z\" fill=\"#ffffff\"/><path d=\"m354.83 215.02h11.817l-5.9086 8.5221z\" clip-path=\"url(#p4e207b9b32)\" fill=\"#778899\"/><path d=\"m400.28 215.02h11.817l-5.9086 8.5221z\" clip-path=\"url(#p4e207b9b32)\" fill=\"#778899\"/><path d=\"m63.491 43.561h368.15\" clip-path=\"url(#p4e207b9b32)\" fill=\"none\" stroke=\"#000000\" stroke-linecap=\"square\" stroke-width=\"2\"/><path d=\"m63.491 89.012h368.15\" clip-path=\"url(#p4e207b9b32)\" fill=\"none\" stroke=\"#000000\" stroke-linecap=\"square\" stroke-width=\"2\"/><path d=\"m63.491 134.46h368.15\" clip-path=\"url(#p4e207b9b32)\" fill=\"none\" stroke=\"#000000\" stroke-linecap=\"square\" stroke-width=\"2\"/><path d=\"m63.491 179.91h368.15\" clip-path=\"url(#p4e207b9b32)\" fill=\"none\" stroke=\"#000000\" stroke-linecap=\"square\" stroke-width=\"2\"/><path d=\"m63.491 223.89h368.15\" clip-path=\"url(#p4e207b9b32)\" fill=\"none\" stroke=\"#778899\" stroke-linecap=\"square\" stroke-width=\"2\"/><path d=\"m63.491 226.84h368.15\" clip-path=\"url(#p4e207b9b32)\" fill=\"none\" stroke=\"#778899\" stroke-linecap=\"square\" stroke-width=\"2\"/><path d=\"m124.62 66.286h17.726v-45.451h-17.726z\" clip-path=\"url(#p4e207b9b32)\" fill=\"#bdbdbd\" opacity=\".6\"/><path d=\"m124.62 111.74h17.726v-45.451h-17.726z\" clip-path=\"url(#p4e207b9b32)\" fill=\"#bdbdbd\" opacity=\".6\"/><path d=\"m124.62 157.19h17.726v-45.451h-17.726z\" clip-path=\"url(#p4e207b9b32)\" fill=\"#bdbdbd\" opacity=\".6\"/><path d=\"m124.62 202.64h17.726v-45.451h-17.726z\" clip-path=\"url(#p4e207b9b32)\" fill=\"#bdbdbd\" opacity=\".6\"/><path d=\"m306.43 66.286h17.726v-45.451h-17.726z\" clip-path=\"url(#p4e207b9b32)\" fill=\"#bdbdbd\" opacity=\".6\"/><path d=\"m306.43 111.74h17.726v-45.451h-17.726z\" clip-path=\"url(#p4e207b9b32)\" fill=\"#bdbdbd\" opacity=\".6\"/><path d=\"m306.43 157.19h17.726v-45.451h-17.726z\" clip-path=\"url(#p4e207b9b32)\" fill=\"#bdbdbd\" opacity=\".6\"/><path d=\"m306.43 202.64h17.726v-45.451h-17.726z\" clip-path=\"url(#p4e207b9b32)\" fill=\"#bdbdbd\" opacity=\".6\"/><path d=\"m178.94 134.46v-90.902\" clip-path=\"url(#p4e207b9b32)\" fill=\"none\" stroke=\"#6fa4ff\" stroke-linecap=\"square\" stroke-width=\"2\"/><path d=\"m224.39 134.46v-45.451\" clip-path=\"url(#p4e207b9b32)\" fill=\"none\" stroke=\"#6fa4ff\" stroke-linecap=\"square\" stroke-width=\"2\"/><path d=\"m269.84 179.91v-136.35\" clip-path=\"url(#p4e207b9b32)\" fill=\"none\" stroke=\"#bb8bff\" stroke-linecap=\"square\" stroke-width=\"2\"/><path d=\"m362.22 134.46v80.562\" clip-path=\"url(#p4e207b9b32)\" fill=\"none\" stroke=\"#778899\" stroke-linecap=\"square\" stroke-width=\"2\"/><path d=\"m359.26 134.46v80.562\" clip-path=\"url(#p4e207b9b32)\" fill=\"none\" stroke=\"#778899\" stroke-linecap=\"square\" stroke-width=\"2\"/><path d=\"m407.67 179.91v35.111\" clip-path=\"url(#p4e207b9b32)\" fill=\"none\" stroke=\"#778899\" stroke-linecap=\"square\" stroke-width=\"2\"/><path d=\"m404.71 179.91v35.111\" clip-path=\"url(#p4e207b9b32)\" fill=\"none\" stroke=\"#778899\" stroke-linecap=\"square\" stroke-width=\"2\"/><path d=\"m72.581 229.91 4.5451-9.0902\" clip-path=\"url(#p4e207b9b32)\" fill=\"none\" stroke=\"#778899\" stroke-linecap=\"square\" stroke-width=\"1.5\"/><path d=\"m73.263 58.332h29.543v-29.543h-29.543z\" clip-path=\"url(#p4e207b9b32)\" fill=\"#05bab6\" stroke=\"#05bab6\" stroke-width=\"1.5\"/><path d=\"m73.263 103.78h29.543v-29.543h-29.543z\" clip-path=\"url(#p4e207b9b32)\" fill=\"#05bab6\" stroke=\"#05bab6\" stroke-width=\"1.5\"/><path d=\"m178.94 47.992c1.1752 0 2.3025-0.46693 3.1335-1.2979 0.83102-0.83102 1.2979-1.9583 1.2979-3.1335s-0.46693-2.3025-1.2979-3.1335c-0.83102-0.83102-1.9583-1.2979-3.1335-1.2979s-2.3025 0.46693-3.1335 1.2979c-0.83102 0.83102-1.2979 1.9583-1.2979 3.1335s0.46693 2.3025 1.2979 3.1335c0.83102 0.83102 1.9583 1.2979 3.1335 1.2979z\" clip-path=\"url(#p4e207b9b32)\" fill=\"#6fa4ff\" stroke=\"#6fa4ff\" stroke-width=\"1.5\"/><path d=\"m178.94 144.8c2.7422 0 5.3725-1.0895 7.3116-3.0285 1.939-1.939 3.0285-4.5693 3.0285-7.3116s-1.0895-5.3725-3.0285-7.3116c-1.939-1.939-4.5693-3.0285-7.3116-3.0285s-5.3725 1.0895-7.3116 3.0285c-1.939 1.939-3.0285 4.5693-3.0285 7.3116s1.0895 5.3725 3.0285 7.3116c1.939 1.939 4.5693 3.0285 7.3116 3.0285z\" clip-path=\"url(#p4e207b9b32)\" fill=\"#6fa4ff\" stroke=\"#6fa4ff\" stroke-width=\"2\"/><path d=\"m224.39 93.443c1.1752 0 2.3025-0.46693 3.1335-1.2979 0.83102-0.83102 1.2979-1.9583 1.2979-3.1335s-0.46693-2.3025-1.2979-3.1335c-0.83102-0.83102-1.9583-1.2979-3.1335-1.2979s-2.3025 0.46693-3.1335 1.2979c-0.83102 0.83102-1.2979 1.9583-1.2979 3.1335s0.46693 2.3025 1.2979 3.1335c0.83102 0.83102 1.9583 1.2979 3.1335 1.2979z\" clip-path=\"url(#p4e207b9b32)\" fill=\"#6fa4ff\" stroke=\"#6fa4ff\" stroke-width=\"1.5\"/><path d=\"m224.39 144.8c2.7422 0 5.3725-1.0895 7.3116-3.0285 1.939-1.939 3.0285-4.5693 3.0285-7.3116s-1.0895-5.3725-3.0285-7.3116c-1.939-1.939-4.5693-3.0285-7.3116-3.0285s-5.3725 1.0895-7.3116 3.0285c-1.939 1.939-3.0285 4.5693-3.0285 7.3116s1.0895 5.3725 3.0285 7.3116c1.939 1.939 4.5693 3.0285 7.3116 3.0285z\" clip-path=\"url(#p4e207b9b32)\" fill=\"#6fa4ff\" stroke=\"#6fa4ff\" stroke-width=\"2\"/><path d=\"m269.84 47.992c1.1752 0 2.3025-0.46693 3.1335-1.2979 0.83102-0.83102 1.2979-1.9583 1.2979-3.1335s-0.46693-2.3025-1.2979-3.1335c-0.83102-0.83102-1.9583-1.2979-3.1335-1.2979s-2.3025 0.46693-3.1335 1.2979c-0.83102 0.83102-1.2979 1.9583-1.2979 3.1335s0.46693 2.3025 1.2979 3.1335c0.83102 0.83102 1.9583 1.2979 3.1335 1.2979z\" clip-path=\"url(#p4e207b9b32)\" fill=\"#bb8bff\" stroke=\"#bb8bff\" stroke-width=\"1.5\"/><path d=\"m269.84 93.443c1.1752 0 2.3025-0.46693 3.1335-1.2979 0.83102-0.83102 1.2979-1.9583 1.2979-3.1335s-0.46693-2.3025-1.2979-3.1335c-0.83102-0.83102-1.9583-1.2979-3.1335-1.2979s-2.3025 0.46693-3.1335 1.2979c-0.83102 0.83102-1.2979 1.9583-1.2979 3.1335s0.46693 2.3025 1.2979 3.1335c0.83102 0.83102 1.9583 1.2979 3.1335 1.2979z\" clip-path=\"url(#p4e207b9b32)\" fill=\"#bb8bff\" stroke=\"#bb8bff\" stroke-width=\"1.5\"/><path d=\"m269.84 190.25c2.7422 0 5.3725-1.0895 7.3116-3.0285 1.939-1.939 3.0285-4.5693 3.0285-7.3116s-1.0895-5.3725-3.0285-7.3116c-1.939-1.939-4.5693-3.0285-7.3116-3.0285s-5.3725 1.0895-7.3116 3.0285c-1.939 1.939-3.0285 4.5693-3.0285 7.3116s1.0895 5.3725 3.0285 7.3116c1.939 1.939 4.5693 3.0285 7.3116 3.0285z\" clip-path=\"url(#p4e207b9b32)\" fill=\"#bb8bff\" stroke=\"#bb8bff\" stroke-width=\"2\"/><path d=\"m345.97 149.23h29.543v-29.543h-29.543z\" clip-path=\"url(#p4e207b9b32)\" stroke=\"#000000\" stroke-width=\"1.5\"/><path d=\"m371.08 138.89c0-2.7413-1.0901-5.3732-3.0285-7.3116s-4.5702-3.0285-7.3116-3.0285-5.3732 1.0901-7.3116 3.0285c-1.9384 1.9384-3.0285 4.5702-3.0285 7.3116\" clip-path=\"url(#p4e207b9b32)\" fill=\"none\" stroke=\"#ffffff\" stroke-width=\"2\"/><path d=\"m391.42 194.69h29.543v-29.543h-29.543z\" clip-path=\"url(#p4e207b9b32)\" stroke=\"#000000\" stroke-width=\"1.5\"/><path d=\"m416.53 184.35c0-2.7413-1.0901-5.3732-3.0285-7.3116s-4.5702-3.0285-7.3116-3.0285-5.3732 1.0901-7.3116 3.0285c-1.9384 1.9384-3.0285 4.5702-3.0285 7.3116\" clip-path=\"url(#p4e207b9b32)\" fill=\"none\" stroke=\"#ffffff\" stroke-width=\"2\"/><path d=\"m360.74 138.89 10.34-10.34\" clip-path=\"url(#p4e207b9b32)\" fill=\"none\" stroke=\"#ffffff\" stroke-linecap=\"square\" stroke-width=\"2\"/><path d=\"m406.19 184.35 10.34-10.34\" clip-path=\"url(#p4e207b9b32)\" fill=\"none\" stroke=\"#ffffff\" stroke-linecap=\"square\" stroke-width=\"2\"/><path d=\"m133.49 20.835v45.451\" clip-path=\"url(#p4e207b9b32)\" fill=\"none\" stroke=\"#000000\" stroke-dasharray=\"3.7,1.6\"/><path d=\"m133.49 66.286v45.451\" clip-path=\"url(#p4e207b9b32)\" fill=\"none\" stroke=\"#000000\" stroke-dasharray=\"3.7,1.6\"/><path d=\"m133.49 111.74v45.451\" clip-path=\"url(#p4e207b9b32)\" fill=\"none\" stroke=\"#000000\" stroke-dasharray=\"3.7,1.6\"/><path d=\"m133.49 157.19v45.451\" clip-path=\"url(#p4e207b9b32)\" fill=\"none\" stroke=\"#000000\" stroke-dasharray=\"3.7,1.6\"/><path d=\"m178.94 140.37v-11.817\" clip-path=\"url(#p4e207b9b32)\" fill=\"none\" stroke=\"#ffffff\" stroke-linecap=\"square\" stroke-width=\"2\"/><path d=\"m173.03 134.46h11.817\" clip-path=\"url(#p4e207b9b32)\" fill=\"none\" stroke=\"#ffffff\" stroke-linecap=\"square\" stroke-width=\"2\"/><path d=\"m224.39 140.37v-11.817\" clip-path=\"url(#p4e207b9b32)\" fill=\"none\" stroke=\"#ffffff\" stroke-linecap=\"square\" stroke-width=\"2\"/><path d=\"m218.48 134.46h11.817\" clip-path=\"url(#p4e207b9b32)\" fill=\"none\" stroke=\"#ffffff\" stroke-linecap=\"square\" stroke-width=\"2\"/><path d=\"m269.84 185.82v-11.817\" clip-path=\"url(#p4e207b9b32)\" fill=\"none\" stroke=\"#ffffff\" stroke-linecap=\"square\" stroke-width=\"2\"/><path d=\"m263.93 179.91h11.817\" clip-path=\"url(#p4e207b9b32)\" fill=\"none\" stroke=\"#ffffff\" stroke-linecap=\"square\" stroke-width=\"2\"/><path d=\"m315.29 20.835v45.451\" clip-path=\"url(#p4e207b9b32)\" fill=\"none\" stroke=\"#000000\" stroke-dasharray=\"3.7,1.6\"/><path d=\"m315.29 66.286v45.451\" clip-path=\"url(#p4e207b9b32)\" fill=\"none\" stroke=\"#000000\" stroke-dasharray=\"3.7,1.6\"/><path d=\"m315.29 111.74v45.451\" clip-path=\"url(#p4e207b9b32)\" fill=\"none\" stroke=\"#000000\" stroke-dasharray=\"3.7,1.6\"/><path d=\"m315.29 157.19v45.451\" clip-path=\"url(#p4e207b9b32)\" fill=\"none\" stroke=\"#000000\" stroke-dasharray=\"3.7,1.6\"/><g clip-path=\"url(#p4e207b9b32)\"><g transform=\"translate(83.582 47.148) scale(.13 -.13)\"><defs><path id=\"DejaVuSans-58\" transform=\"scale(.015625)\" d=\"m403 4666h678l1160-1735 1165 1735h678l-1500-2241 1600-2425h-678l-1312 1984-1322-1984h-681l1665 2491-1453 2175z\"/></defs><use xlink:href=\"#DejaVuSans-58\"/></g></g><g clip-path=\"url(#p4e207b9b32)\"><g transform=\"translate(83.582 92.599) scale(.13 -.13)\"><use xlink:href=\"#DejaVuSans-58\"/></g></g><g clip-path=\"url(#p4e207b9b32)\"><g transform=\"translate(372.1 218.66) scale(.104 -.104)\"><defs><path id=\"DejaVuSans-30\" transform=\"scale(.015625)\" d=\"m2034 4250q-487 0-733-480-245-479-245-1442 0-959 245-1439 246-480 733-480 491 0 736 480 246 480 246 1439 0 963-246 1442-245 480-736 480zm0 500q785 0 1199-621 414-620 414-1801 0-1178-414-1799-414-620-1199-620-784 0-1198 620-414 621-414 1799 0 1181 414 1801 414 621 1198 621z\"/></defs><use xlink:href=\"#DejaVuSans-30\"/></g></g><g clip-path=\"url(#p4e207b9b32)\"><g transform=\"translate(417.55 218.66) scale(.104 -.104)\"><defs><path id=\"DejaVuSans-31\" transform=\"scale(.015625)\" d=\"m794 531h1031v3560l-1122-225v575l1116 225h631v-4135h1031v-531h-2687v531z\"/></defs><use xlink:href=\"#DejaVuSans-31\"/></g></g><g clip-path=\"url(#p4e207b9b32)\"><g transform=\"translate(36.363 48.012) scale(.1625 -.1625)\"><defs><path id=\"DejaVuSans-Oblique-71\" transform=\"scale(.015625)\" d=\"m2669 525q-231-303-546-460-314-156-695-156-531 0-833 358-301 358-301 986 0 506 186 978t533 847q225 244 517 375t614 131q387 0 637-153t363-462l100 525h578l-934-4813h-579l360 1844zm-1778 813q0-463 193-705 194-242 560-242 544 0 928 520t384 1264q0 450-199 689-198 239-569 239-272 0-504-127-231-126-403-370-181-256-286-600-104-343-104-668z\"/></defs><use xlink:href=\"#DejaVuSans-Oblique-71\"/><use transform=\"translate(63.477 -16.406) scale(.7)\" xlink:href=\"#DejaVuSans-30\"/></g></g><g clip-path=\"url(#p4e207b9b32)\"><g transform=\"translate(36.363 93.463) scale(.1625 -.1625)\"><use xlink:href=\"#DejaVuSans-Oblique-71\"/><use transform=\"translate(63.477 -16.406) scale(.7)\" xlink:href=\"#DejaVuSans-31\"/></g></g><g clip-path=\"url(#p4e207b9b32)\"><g transform=\"translate(36.363 138.91) scale(.1625 -.1625)\"><defs><path id=\"DejaVuSans-32\" transform=\"scale(.015625)\" d=\"m1228 531h2203v-531h-2962v531q359 372 979 998 621 627 780 809 303 340 423 576 121 236 121 464 0 372-261 606-261 235-680 235-297 0-627-103-329-103-704-313v638q381 153 712 231 332 78 607 78 725 0 1156-363 431-362 431-968 0-288-108-546-107-257-392-607-78-91-497-524-418-433-1181-1211z\"/></defs><use xlink:href=\"#DejaVuSans-Oblique-71\"/><use transform=\"translate(63.477 -16.406) scale(.7)\" xlink:href=\"#DejaVuSans-32\"/></g></g><g clip-path=\"url(#p4e207b9b32)\"><g transform=\"translate(36.363 184.36) scale(.1625 -.1625)\"><defs><path id=\"DejaVuSans-33\" transform=\"scale(.015625)\" d=\"m2597 2516q453-97 707-404 255-306 255-756 0-690-475-1069-475-378-1350-378-293 0-604 58t-642 174v609q262-153 574-231 313-78 654-78 593 0 904 234t311 681q0 413-289 645-289 233-804 233h-544v519h569q465 0 712 186t247 536q0 359-255 551-254 193-729 193-260 0-557-57-297-56-653-174v562q360 100 674 150t592 50q719 0 1137-327 419-326 419-882 0-388-222-655t-631-370z\"/></defs><use xlink:href=\"#DejaVuSans-Oblique-71\"/><use transform=\"translate(63.477 -16.406) scale(.7)\" xlink:href=\"#DejaVuSans-33\"/></g></g><g clip-path=\"url(#p4e207b9b32)\"><g transform=\"translate(68.036 218.66) scale(.104 -.104)\"><use xlink:href=\"#DejaVuSans-32\"/></g></g><g clip-path=\"url(#p4e207b9b32)\"><g transform=\"translate(45.466 229.85) scale(.1625 -.1625)\"><defs><path id=\"DejaVuSans-63\" transform=\"scale(.015625)\" d=\"m3122 3366v-538q-244 135-489 202t-495 67q-560 0-870-355-309-354-309-995t309-996q310-354 870-354 250 0 495 67t489 202v-532q-241-112-499-168-257-57-548-57-791 0-1257 497-465 497-465 1341 0 856 470 1346 471 491 1290 491 265 0 518-55 253-54 491-163z\"/></defs><use xlink:href=\"#DejaVuSans-63\"/></g></g><defs><clipPath id=\"p4e207b9b32\"><rect x=\"7.2\" y=\"7.2\" width=\"428.99\" height=\"245.44\"/></clipPath></defs></svg>"
            ],
            "text/plain": [
              "<Figure size 568.197x325.08 with 1 Axes>"
            ]
          },
          "execution_count": 14,
          "metadata": {
          },
          "output_type": "execute_result"
        }
      ],
      "source": [
        "qc_ha = QuantumCircuit(4,2)\n",
        "# encode inputs in qubits 0 and 1\n",
        "qc_ha.x(0) # For a=0, remove the this line. For a=1, leave it.\n",
        "qc_ha.x(1) # For b=0, remove the this line. For b=1, leave it.\n",
        "qc_ha.barrier()\n",
        "# use cnots to write the XOR of the inputs on qubit 2\n",
        "qc_ha.cx(0,2)\n",
        "qc_ha.cx(1,2)\n",
        "# use ccx to write the AND of the inputs on qubit 3\n",
        "qc_ha.ccx(0,1,3)\n",
        "qc_ha.barrier()\n",
        "# extract outputs\n",
        "qc_ha.measure(2,0) # extract XOR value\n",
        "qc_ha.measure(3,1) # extract AND value\n",
        "\n",
        "qc_ha.draw()"
      ]
    },
    {
      "cell_type": "markdown",
      "metadata": {
      },
      "source": [
        "이 예에서는 2개의 입력 비트가 모두 `1` 이므로 `1+1` 을 계산합니다. 우리가 얻는 것을 봅시다."
      ]
    },
    {
      "cell_type": "code",
      "execution_count": 15,
      "metadata": {
      },
      "outputs": [
        {
          "name": "stderr",
          "output_type": "stream",
          "text": [
            "/home/divs/.local/lib/python3.8/site-packages/qiskit/utils/deprecation.py:62: DeprecationWarning: Using a qobj for run() is deprecated as of qiskit-aer 0.9.0 and will be removed no sooner than 3 months from that release date. Transpiled circuits should now be passed directly using `backend.run(circuits, **run_options).\n",
            "  return func(*args, **kwargs)\n"
          ]
        },
        {
          "data": {
            "image/svg+xml": [
              "<?xml version=\"1.0\" encoding=\"UTF-8\"?><!DOCTYPE svg  PUBLIC '-//W3C//DTD SVG 1.1//EN'  'http://www.w3.org/Graphics/SVG/1.1/DTD/svg11.dtd'><svg width=\"460.72pt\" height=\"314.57pt\" version=\"1.1\" viewBox=\"0 0 460.72 314.57\" xmlns=\"http://www.w3.org/2000/svg\" xmlns:xlink=\"http://www.w3.org/1999/xlink\"><defs><style type=\"text/css\">*{stroke-linecap:butt;stroke-linejoin:round;}</style></defs><path d=\"m0 314.57h460.72v-314.57h-460.72z\" fill=\"none\"/><path d=\"m62.921 279h390.6v-271.8h-390.6z\" fill=\"#ffffff\"/><defs><path id=\"m3c85d64d64\" d=\"m0 0v3.5\" stroke=\"#000000\" stroke-width=\".8\"/></defs><use x=\"258.22125\" y=\"279\" stroke=\"#000000\" stroke-width=\".8\" xlink:href=\"#m3c85d64d64\"/><g transform=\"translate(258.8 306.38) rotate(-70) scale(.14 -.14)\"><defs><path id=\"DejaVuSans-31\" transform=\"scale(.015625)\" d=\"m794 531h1031v3560l-1122-225v575l1116 225h631v-4135h1031v-531h-2687v531z\"/><path id=\"DejaVuSans-30\" transform=\"scale(.015625)\" d=\"m2034 4250q-487 0-733-480-245-479-245-1442 0-959 245-1439 246-480 733-480 491 0 736 480 246 480 246 1439 0 963-246 1442-245 480-736 480zm0 500q785 0 1199-621 414-620 414-1801 0-1178-414-1799-414-620-1199-620-784 0-1198 620-414 621-414 1799 0 1181 414 1801 414 621 1198 621z\"/></defs><use xlink:href=\"#DejaVuSans-31\"/><use x=\"63.623047\" xlink:href=\"#DejaVuSans-30\"/></g><path d=\"m62.921 279h390.6\" clip-path=\"url(#pf122a43369)\" fill=\"none\" stroke=\"#b0b0b0\" stroke-dasharray=\"2.96,1.28\" stroke-width=\".8\"/><defs><path id=\"m372e3748b7\" d=\"m0 0h-3.5\" stroke=\"#000000\" stroke-width=\".8\"/></defs><use x=\"62.92125\" y=\"279\" stroke=\"#000000\" stroke-width=\".8\" xlink:href=\"#m372e3748b7\"/><g transform=\"translate(24.749 284.32) scale(.14 -.14)\"><defs><path id=\"DejaVuSans-2e\" transform=\"scale(.015625)\" d=\"m684 794h660v-794h-660v794z\"/></defs><use xlink:href=\"#DejaVuSans-30\"/><use x=\"63.623047\" xlink:href=\"#DejaVuSans-2e\"/><use x=\"95.410156\" xlink:href=\"#DejaVuSans-30\"/><use x=\"159.033203\" xlink:href=\"#DejaVuSans-30\"/></g><path d=\"m62.921 222.38h390.6\" clip-path=\"url(#pf122a43369)\" fill=\"none\" stroke=\"#b0b0b0\" stroke-dasharray=\"2.96,1.28\" stroke-width=\".8\"/><use x=\"62.92125\" y=\"222.375\" stroke=\"#000000\" stroke-width=\".8\" xlink:href=\"#m372e3748b7\"/><g transform=\"translate(24.749 227.69) scale(.14 -.14)\"><defs><path id=\"DejaVuSans-32\" transform=\"scale(.015625)\" d=\"m1228 531h2203v-531h-2962v531q359 372 979 998 621 627 780 809 303 340 423 576 121 236 121 464 0 372-261 606-261 235-680 235-297 0-627-103-329-103-704-313v638q381 153 712 231 332 78 607 78 725 0 1156-363 431-362 431-968 0-288-108-546-107-257-392-607-78-91-497-524-418-433-1181-1211z\"/><path id=\"DejaVuSans-35\" transform=\"scale(.015625)\" d=\"m691 4666h2478v-532h-1900v-1143q137 47 274 70 138 23 276 23 781 0 1237-428 457-428 457-1159 0-753-469-1171-469-417-1322-417-294 0-599 50-304 50-629 150v635q281-153 581-228t634-75q541 0 856 284 316 284 316 772 0 487-316 771-315 285-856 285-253 0-505-56-251-56-513-175v2344z\"/></defs><use xlink:href=\"#DejaVuSans-30\"/><use x=\"63.623047\" xlink:href=\"#DejaVuSans-2e\"/><use x=\"95.410156\" xlink:href=\"#DejaVuSans-32\"/><use x=\"159.033203\" xlink:href=\"#DejaVuSans-35\"/></g><path d=\"m62.921 165.75h390.6\" clip-path=\"url(#pf122a43369)\" fill=\"none\" stroke=\"#b0b0b0\" stroke-dasharray=\"2.96,1.28\" stroke-width=\".8\"/><use x=\"62.92125\" y=\"165.75\" stroke=\"#000000\" stroke-width=\".8\" xlink:href=\"#m372e3748b7\"/><g transform=\"translate(24.749 171.07) scale(.14 -.14)\"><use xlink:href=\"#DejaVuSans-30\"/><use x=\"63.623047\" xlink:href=\"#DejaVuSans-2e\"/><use x=\"95.410156\" xlink:href=\"#DejaVuSans-35\"/><use x=\"159.033203\" xlink:href=\"#DejaVuSans-30\"/></g><path d=\"m62.921 109.12h390.6\" clip-path=\"url(#pf122a43369)\" fill=\"none\" stroke=\"#b0b0b0\" stroke-dasharray=\"2.96,1.28\" stroke-width=\".8\"/><use x=\"62.92125\" y=\"109.125\" stroke=\"#000000\" stroke-width=\".8\" xlink:href=\"#m372e3748b7\"/><g transform=\"translate(24.749 114.44) scale(.14 -.14)\"><defs><path id=\"DejaVuSans-37\" transform=\"scale(.015625)\" d=\"m525 4666h3e3v-269l-1694-4397h-659l1594 4134h-2241v532z\"/></defs><use xlink:href=\"#DejaVuSans-30\"/><use x=\"63.623047\" xlink:href=\"#DejaVuSans-2e\"/><use x=\"95.410156\" xlink:href=\"#DejaVuSans-37\"/><use x=\"159.033203\" xlink:href=\"#DejaVuSans-35\"/></g><path d=\"m62.921 52.5h390.6\" clip-path=\"url(#pf122a43369)\" fill=\"none\" stroke=\"#b0b0b0\" stroke-dasharray=\"2.96,1.28\" stroke-width=\".8\"/><use x=\"62.92125\" y=\"52.5\" stroke=\"#000000\" stroke-width=\".8\" xlink:href=\"#m372e3748b7\"/><g transform=\"translate(24.749 57.819) scale(.14 -.14)\"><use xlink:href=\"#DejaVuSans-31\"/><use x=\"63.623047\" xlink:href=\"#DejaVuSans-2e\"/><use x=\"95.410156\" xlink:href=\"#DejaVuSans-30\"/><use x=\"159.033203\" xlink:href=\"#DejaVuSans-30\"/></g><g transform=\"translate(17.838 185.86) rotate(-90) scale(.14 -.14)\"><defs><path id=\"DejaVuSans-50\" transform=\"scale(.015625)\" d=\"m1259 4147v-1753h794q441 0 681 228 241 228 241 650 0 419-241 647-240 228-681 228h-794zm-631 519h1425q785 0 1186-355 402-355 402-1039 0-691-402-1044-401-353-1186-353h-794v-1875h-631v4666z\"/><path id=\"DejaVuSans-72\" transform=\"scale(.015625)\" d=\"m2631 2963q-97 56-211 82-114 27-251 27-488 0-749-317t-261-911v-1844h-578v3500h578v-544q182 319 472 473 291 155 707 155 59 0 131-8 72-7 159-23l3-590z\"/><path id=\"DejaVuSans-6f\" transform=\"scale(.015625)\" d=\"m1959 3097q-462 0-731-361t-269-989 267-989q268-361 733-361 460 0 728 362 269 363 269 988 0 622-269 986-268 364-728 364zm0 487q750 0 1178-488 429-487 429-1349 0-859-429-1349-428-489-1178-489-753 0-1180 489-426 490-426 1349 0 862 426 1349 427 488 1180 488z\"/><path id=\"DejaVuSans-62\" transform=\"scale(.015625)\" d=\"m3116 1747q0 634-261 995t-717 361q-457 0-718-361t-261-995 261-995 718-361q456 0 717 361t261 995zm-1957 1222q182 312 458 463 277 152 661 152 638 0 1036-506 399-506 399-1331t-399-1332q-398-506-1036-506-384 0-661 152-276 152-458 464v-525h-578v4863h578v-1894z\"/><path id=\"DejaVuSans-61\" transform=\"scale(.015625)\" d=\"m2194 1759q-697 0-966-159t-269-544q0-306 202-486 202-179 548-179 479 0 768 339t289 901v128h-572zm1147 238v-1997h-575v531q-197-318-491-470t-719-152q-537 0-855 302-317 302-317 808 0 590 395 890 396 300 1180 300h807v57q0 397-261 614t-733 217q-300 0-585-72-284-72-546-216v532q315 122 612 182 297 61 578 61 760 0 1135-394 375-393 375-1193z\"/><path id=\"DejaVuSans-69\" transform=\"scale(.015625)\" d=\"m603 3500h575v-3500h-575v3500zm0 1363h575v-729h-575v729z\"/><path id=\"DejaVuSans-6c\" transform=\"scale(.015625)\" d=\"m603 4863h575v-4863h-575v4863z\"/><path id=\"DejaVuSans-74\" transform=\"scale(.015625)\" d=\"m1172 4494v-994h1184v-447h-1184v-1900q0-428 117-550t477-122h590v-481h-590q-666 0-919 248-253 249-253 905v1900h-422v447h422v994h578z\"/><path id=\"DejaVuSans-65\" transform=\"scale(.015625)\" d=\"m3597 1894v-281h-2644q38-594 358-905t892-311q331 0 642 81t618 244v-544q-310-131-635-200t-659-69q-838 0-1327 487-489 488-489 1320 0 859 464 1363 464 505 1252 505 706 0 1117-455 411-454 411-1235zm-575 169q-6 471-264 752-258 282-683 282-481 0-770-272t-333-766l2050 4z\"/><path id=\"DejaVuSans-73\" transform=\"scale(.015625)\" d=\"m2834 3397v-544q-243 125-506 187-262 63-544 63-428 0-642-131t-214-394q0-200 153-314t616-217l197-44q612-131 870-370t258-667q0-488-386-773-386-284-1061-284-281 0-586 55t-642 164v594q319-166 628-249 309-82 613-82 406 0 624 139 219 139 219 392 0 234-158 359-157 125-692 241l-200 47q-534 112-772 345-237 233-237 639 0 494 350 762 350 269 994 269 318 0 599-47 282-46 519-140z\"/></defs><use xlink:href=\"#DejaVuSans-50\"/><use x=\"58.552734\" xlink:href=\"#DejaVuSans-72\"/><use x=\"97.416016\" xlink:href=\"#DejaVuSans-6f\"/><use x=\"158.597656\" xlink:href=\"#DejaVuSans-62\"/><use x=\"222.074219\" xlink:href=\"#DejaVuSans-61\"/><use x=\"283.353516\" xlink:href=\"#DejaVuSans-62\"/><use x=\"346.830078\" xlink:href=\"#DejaVuSans-69\"/><use x=\"374.613281\" xlink:href=\"#DejaVuSans-6c\"/><use x=\"402.396484\" xlink:href=\"#DejaVuSans-69\"/><use x=\"430.179688\" xlink:href=\"#DejaVuSans-74\"/><use x=\"469.388672\" xlink:href=\"#DejaVuSans-69\"/><use x=\"497.171875\" xlink:href=\"#DejaVuSans-65\"/><use x=\"558.695312\" xlink:href=\"#DejaVuSans-73\"/></g><path d=\"m80.676 279h355.09v-226.5h-355.09z\" clip-path=\"url(#pf122a43369)\" fill=\"#648fff\"/><path d=\"m62.921 279v-271.8\" fill=\"none\" stroke=\"#000000\" stroke-linecap=\"square\" stroke-width=\".8\"/><path d=\"m453.52 279v-271.8\" fill=\"none\" stroke=\"#000000\" stroke-linecap=\"square\" stroke-width=\".8\"/><path d=\"m62.921 279h390.6\" fill=\"none\" stroke=\"#000000\" stroke-linecap=\"square\" stroke-width=\".8\"/><path d=\"m62.921 7.2h390.6\" fill=\"none\" stroke=\"#000000\" stroke-linecap=\"square\" stroke-width=\".8\"/><g transform=\"translate(243.91 39.095) scale(.1 -.1)\"><use xlink:href=\"#DejaVuSans-31\"/><use x=\"63.623047\" xlink:href=\"#DejaVuSans-2e\"/><use x=\"95.410156\" xlink:href=\"#DejaVuSans-30\"/><use x=\"159.033203\" xlink:href=\"#DejaVuSans-30\"/><use x=\"222.65625\" xlink:href=\"#DejaVuSans-30\"/></g><defs><clipPath id=\"pf122a43369\"><rect x=\"62.921\" y=\"7.2\" width=\"390.6\" height=\"271.8\"/></clipPath></defs></svg>"
            ],
            "text/plain": [
              "<Figure size 504x360 with 1 Axes>"
            ]
          },
          "execution_count": 15,
          "metadata": {
          },
          "output_type": "execute_result"
        }
      ],
      "source": [
        "qobj = assemble(qc_ha)\n",
        "counts = sim.run(qobj).result().get_counts()\n",
        "plot_histogram(counts)"
      ]
    },
    {
      "cell_type": "markdown",
      "metadata": {
      },
      "source": [
        "결과는 숫자 2의 이진 표현인 `10` 입니다. 우리는 1+1이라는 유명한 수학 문제를 풀 수 있는 컴퓨터를 만들었습니다!\n",
        "\n",
        "이제 다른 세 가지 가능한 입력으로 시도해 보고 우리 알고리즘이 해당 입력에도 올바른 결과를 제공한다는 것을 보여줄 수 있습니다.\n",
        "\n",
        "반가산기에는 덧셈에 필요한 모든 것이 들어 있습니다. NOT, CNOT, Toffoli 게이트를 사용하여 어떤 크기의 숫자라도 더할 수 있는 프로그램을 만들 수 있습니다.\n",
        "\n",
        "이 세 가지 게이트는 다른 컴퓨팅 작업을 수행하기에도 충분합니다. 사실, 우리는 CNOT 없이도 할 수 있습니다. 실제로 NOT 게이트는 값이 `1` 인 비트를 생성하는 데만 필요합니다. Toffoli 게이트는 본질적으로 수학에서 원자와 같습니다. 다른 모든 문제 해결 기술을 컴파일할 수 있는 가장 간단한 요소니까요.\n",
        "\n",
        "앞으로 보게 되겠지만, 양자 컴퓨팅에서는 이 원자를 더 작게 나눕니다."
      ]
    },
    {
      "cell_type": "code",
      "execution_count": 16,
      "metadata": {
      },
      "outputs": [
        {
          "name": "stderr",
          "output_type": "stream",
          "text": [
            "/home/divs/.local/lib/python3.8/site-packages/qiskit/aqua/__init__.py:86: DeprecationWarning: The package qiskit.aqua is deprecated. It was moved/refactored to qiskit-terra For more information see <https://github.com/Qiskit/qiskit-aqua/blob/main/README.md#migration-guide>\n",
            "  warn_package('aqua', 'qiskit-terra')\n"
          ]
        },
        {
          "data": {
            "text/html": [
              "<h3>Version Information</h3><table><tr><th>Qiskit Software</th><th>Version</th></tr><tr><td><code>qiskit-terra</code></td><td>0.18.2</td></tr><tr><td><code>qiskit-aer</code></td><td>0.9.0</td></tr><tr><td><code>qiskit-ignis</code></td><td>0.6.0</td></tr><tr><td><code>qiskit-ibmq-provider</code></td><td>0.16.0</td></tr><tr><td><code>qiskit-aqua</code></td><td>0.9.5</td></tr><tr><td><code>qiskit</code></td><td>0.30.0</td></tr><tr><td><code>qiskit-nature</code></td><td>0.2.1</td></tr><tr><td><code>qiskit-finance</code></td><td>0.2.1</td></tr><tr><td><code>qiskit-optimization</code></td><td>0.2.2</td></tr><tr><td><code>qiskit-machine-learning</code></td><td>0.2.1</td></tr><tr><th>System information</th></tr><tr><td>Python</td><td>3.8.10 (default, Jun  2 2021, 10:49:15) \n",
              "[GCC 9.4.0]</td></tr><tr><td>OS</td><td>Linux</td></tr><tr><td>CPUs</td><td>2</td></tr><tr><td>Memory (Gb)</td><td>7.521877288818359</td></tr><tr><td colspan='2'>Sun Oct 03 22:50:56 2021 IST</td></tr></table>"
            ],
            "text/plain": [
              "<IPython.core.display.HTML object>"
            ]
          },
          "metadata": {
          },
          "output_type": "display_data"
        }
      ],
      "source": [
        "import qiskit.tools.jupyter\n",
        "%qiskit_version_table"
      ]
    }
  ],
  "metadata": {
    "kernelspec": {
      "display_name": "Python 3",
      "language": "python",
      "name": "python3"
    },
    "language_info": {
      "codemirror_mode": {
        "name": "ipython",
        "version": 3
      },
      "file_extension": ".py",
      "mimetype": "text/x-python",
      "name": "python",
      "nbconvert_exporter": "python",
      "pygments_lexer": "ipython3",
      "version": "3.9"
    }
  },
  "nbformat": 4,
  "nbformat_minor": 2
}
