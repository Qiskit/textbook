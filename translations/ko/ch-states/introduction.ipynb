{
  "cells": [
    {
      "cell_type": "markdown",
      "metadata": {
        "tags": [
          "remove_cell"
        ]
      },
      "source": [
        "# 소개\n"
      ]
    },
    {
      "cell_type": "markdown",
      "metadata": {
      },
      "source": [
        "양자 역학이 어렵다고 생각한다면, 여러분은 혼자가 아닙니다. 우리의 모든 직관은 일상적인 경험을 기반으로 하기 때문에 우리에게는 원자나 전자보다 공의 움직임이나 바나나가 더 이해하기 쉽습니다. 양자 물체의 행동은 무작위적이고 혼란스러워 보이겠지만, 단지 다른 규칙을 따르는 것일 뿐입니다. 이러한 규칙이 무엇인지 알게 되면 이를 사용하여 새롭고 강력한 기술을 만들 수 있습니다. 양자 컴퓨팅은 그 기술의 가장 혁신적인 예가 될 것입니다."
      ]
    },
    {
      "cell_type": "markdown",
      "metadata": {
      },
      "source": [
        "![이미지1](images/atoms10.png)"
      ]
    },
    {
      "cell_type": "markdown",
      "metadata": {
        "goals": [
          {
            "id": "bitdescription"
          }
        ]
      },
      "source": [
        "양자 컴퓨팅을 향한 여정을 시작하기 위해 이미 알고 있는 것을 테스트해 보겠습니다.\n",
        "\n",
        "### 간단한 연습\n",
        "\n",
        "다음 중 *비트* 에 대한 설명으로 옳은 것은?\n",
        "\n",
        "- 정보의 가장 작은 단위: `0` 또는 `1`\n",
        "- 목수가 사용하는 대패의 날\n",
        "- 말의 입에 물리는 재갈"
      ]
    },
    {
      "cell_type": "markdown",
      "metadata": {
        "gloss": {
          "qubit": {
            "text": "A __qubit__ or __quantum bit__ is the basic unit of quantum information. It is a two-state quantum-mechanical system, and one of the simplest systems displaying the peculiarity of quantum mechanics.",
            "title": "Qubit"
          }
        }
      },
      "source": [
        "사실, 모두 정답입니다. 비트라는 발음의 여러가지 단어와 뜻이 있습니다. 하지만, 여러분이 \"정보의 최소 단위\"를 선택했다면 이미 이 강의가 의도하는 방향으로 생각하고 있는 겁니다. 정보가 일련의 `0` 과 `1` 로 저장되고 처리된다는 것은 상당히 큰 개념적 장애물이지만 오늘날 대부분의 사람들은 생각할 필요도 없이 알고 있는 것입니다. 이 개념에서 출발해서 양자 역학의 규칙을 따르는 비트를 상상할 수 있습니다. 이러한 [양자 비트](gloss:qubit) 또는 *큐비트* 를 사용하면 새롭고 다양한 방식으로 정보를 처리할 수 있습니다.\n",
        "\n",
        "이제 우리는 큐비트의 세계 속으로 더 깊이 파고들 것입니다. 그러기 위해서는 게이트를 적용할 때 그들이 무엇을 하고 있는지 추적할 수 있는 방법이 필요합니다. 이를 수행하는 가장 강력한 방법은 벡터와 행렬의 수학적 언어를 사용하는 것입니다.\n"
      ]
    },
    {
      "cell_type": "markdown",
      "metadata": {
      },
      "source": [
        "![이미지2](images/bloch.png)\n"
      ]
    },
    {
      "cell_type": "markdown",
      "metadata": {
      },
      "source": [
        "이 장은 이미 벡터와 행렬에 익숙한 독자들을 위해서 가장 효과적이지만, 익숙하지 않은 사람들도 괜찮습니다. 하지만, 가끔 [양자 컴퓨팅을 위한 선형 대수 소개를](https://qiskit.org/textbook/ch-appendix/linear_algebra.html) 참조하는 것이 도움이 될 것입니다.\n",
        "\n",
        "양자 컴퓨팅을 위한 Python 기반 프레임워크인 Qiskit을 사용할 것이기 때문에 Python의 기본 사항을 아는 것도 유용할 것입니다. 입문서가 필요한 사람들은 [Python 및 Jupyter 노트북 소개를](https://qiskit.org/textbook/ch-prerequisites/python-and-jupyter-notebooks.html) 참조하십시오."
      ]
    }
  ],
  "metadata": {
    "kernelspec": {
      "display_name": "Python 3",
      "language": "python",
      "name": "python3"
    },
    "language_info": {
      "codemirror_mode": {
        "name": "ipython",
        "version": 3
      },
      "file_extension": ".py",
      "mimetype": "text/x-python",
      "name": "python",
      "nbconvert_exporter": "python",
      "pygments_lexer": "ipython3",
      "version": "3.9"
    }
  },
  "nbformat": 4,
  "nbformat_minor": 2
}
