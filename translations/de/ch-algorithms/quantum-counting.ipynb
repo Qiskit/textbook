{
  "cells": [
    {
      "cell_type": "markdown",
      "metadata": {
        "tags": [
          "remove_cell"
        ]
      },
      "source": [
        "# Quantenzählen"
      ]
    },
    {
      "cell_type": "markdown",
      "metadata": {
      },
      "source": [
        "Um diesen Algorithmus zu verstehen, ist es wichtig, dass du zuerst sowohl den Grover-Algorithmus als auch den Quantenphasenschätzungsalgorithmus (Quantum Phase Estimation) verstehst. Während Grovers Algorithmus versucht, eine Lösung für das Orakel zu finden, sagt uns der Quantenzählalgorithmus (Quantum Counting), wie viele dieser Lösungen es gibt. Dieser Algorithmus ist interessant, da er sowohl Quantensuche (Quantum Search) als auch Quantenphasenschätzung kombiniert."
      ]
    },
    {
      "cell_type": "markdown",
      "metadata": {
      },
      "source": [
        "## 1. Übersicht<a id=\"overview\"></a>\n",
        "\n",
        "### 1.1 Intuition<a id=\"intuition\"></a>\n",
        "\n",
        "Beim Quantenzählen verwenden wir einfach den Quantenphasenschätzungsalgorithmus, um einen Eigenwert einer Grover-Suchiteration zu finden. Du wirst dich erinnern, dass eine Iteration von Grovers Algorithmus, $G$, den Zustandsvektor um $\\theta$ in der Basis von $|\\omega\\rangle$, $|s'\\rangle$ dreht:![Bild1](images/quantum_counting1.svg)\n",
        "\n",
        "Die prozentuale Anzahl der Lösungen in unserem Suchraum beeinflusst die Differenz zwischen $|s\\rangle$ und $|s'\\rangle$. Wenn es zum Beispiel nicht viele Lösungen gibt, wird $|s\\rangle$ sehr nahe an $|s'\\rangle$ liegen und $\\theta$ wird sehr klein sein. Es stellt sich heraus, dass die Eigenwerte des Grover-Iterators $e^{\\pm i\\theta}$ sind, und wir können dies mithilfe der Quantenphasenschätzung (QPE) extrahieren, um die Anzahl der Lösungen ($M$) abzuschätzen.\n",
        "\n",
        "### 1.2 Ein genauerer Blick<a id=\"closer_look\"></a>\n",
        "\n",
        "In der Basis von $|\\omega\\rangle$,$|s'\\rangle$ können wir den Grover-Iterator als Matrix schreiben:\n",
        "\n",
        "$$ G = \\begin{pmatrix} \\cos{\\theta} &amp;&amp; -\\sin{\\theta}\\ \\sin{\\theta} &amp;&amp; \\cos{\\theta} \\end{pmatrix} $$\n",
        "\n",
        "Die Matrix $G$ hat die Eigenvektoren:\n",
        "\n",
        "$$ \\begin{pmatrix} -i\\ 1 \\end{pmatrix} , \\begin{pmatrix} i\\ 1 \\end{pmatrix} $$\n",
        "\n",
        "Mit den oben genannten Eigenwerten $e^{\\pm i\\theta}$. Glücklicherweise müssen wir unser Register in keinem dieser Zustände vorbereiten, der Zustand $|s\\rangle$ befindet sich in dem Raum, der von $|\\omega\\rangle$, $|s'\\rangle$ aufgespannt wird, und ist somit eine Überlagerung der beiden Vektoren. $$ |s\\rangle = \\alpha |\\omega\\rangle + \\beta|s'\\rangle $$\n",
        "\n",
        "Als Ergebnis ist die Ausgabe des QPE-Algorithmus eine Überlagerung der beiden Phasen, und wenn wir das Register messen, erhalten wir einen dieser beiden Werte! Wir können dann einfache Mathematik verwenden, um unsere Schätzung von $M$ zu erhalten.\n",
        "\n",
        "![Bild2](images/quantum_counting2.svg)\n"
      ]
    },
    {
      "cell_type": "markdown",
      "metadata": {
      },
      "source": [
        "## 2. Der Code<a id=\"code\"></a>\n",
        "\n",
        "### 2.1 Initialisierung unseres Codes<a id=\"init_code\"></a>\n",
        "\n",
        "Zuerst importieren wir alles, was wir brauchen:"
      ]
    },
    {
      "cell_type": "code",
      "execution_count": 1,
      "metadata": {
        "tags": [
          "thebelab-init"
        ]
      },
      "outputs": [

      ],
      "source": [
        "import matplotlib.pyplot as plt\n",
        "import numpy as np\n",
        "import math\n",
        "\n",
        "# importing Qiskit\n",
        "import qiskit\n",
        "from qiskit import QuantumCircuit, transpile, Aer\n",
        "\n",
        "# import basic plot tools\n",
        "from qiskit.visualization import plot_histogram"
      ]
    },
    {
      "cell_type": "markdown",
      "metadata": {
      },
      "source": [
        "In dieser Anleitung entscheiden wir uns dafür, die ersten 4 Qubits auf unserer Schaltung zu „zählen“ (wir nennen die Anzahl der zählenden Qubits $t$, also $t = 4$) und die letzten 4 Qubits ($n = 4 $). In diesem Sinne können wir damit beginnen, die Bausteine unserer Schaltung zu erstellen.\n",
        "\n",
        "### 2.2 Die Kontrollierte-Gover-Iteration<a id=\"cont_grover\"></a>\n",
        "\n",
        "Wir haben Grover-Iterationen bereits im Abschnitt über den Grover-Algorithmus behandelt. Hier verwenden wir die Schaltungsbibliothek, um schnell eine Schaltung zu erstellen, die eine Iteration von Grovers Algorithmus ausführt. Das Orakel, das wir verwenden, hat 5 Lösungen ($M = 5$) von 16 Zuständen ($N = 2^n = 16$)."
      ]
    },
    {
      "cell_type": "code",
      "execution_count": 2,
      "metadata": {
        "tags": [
          "thebelab-init"
        ]
      },
      "outputs": [

      ],
      "source": [
        "def grover_operator(n_iterations):\n",
        "    \"\"\"Grover iteration circuit for oracle with 5/16 solutions\n",
        "        Args:\n",
        "            n_iterations (int): number of times to repeat the circuit\n",
        "        Returns:\n",
        "            Gate that implements n_iterations of the Grover operator\n",
        "    \"\"\"\n",
        "    from qiskit.circuit.library import Diagonal, GroverOperator\n",
        "    oracle = Diagonal([1,1,-1,1,1,1,1,-1,1,1,-1,-1,1,1,-1,1])\n",
        "    grover_it = GroverOperator(oracle).repeat(n_iterations).to_gate()\n",
        "    grover_it.label = f\"Grover$^{n_iterations}$\"\n",
        "    return grover_it"
      ]
    },
    {
      "cell_type": "markdown",
      "metadata": {
      },
      "source": [
        "Beachte, dass die Python-Funktion keine Eingaben entgegennimmt und ein `Gatter` Objekt mit 4 Qubits zurückgibt. Später auf dieser Seite verwenden wir die Methode `.control()` , um ein gesteuertes Gatter aus einem `Gatter` zu erstellen."
      ]
    },
    {
      "cell_type": "markdown",
      "metadata": {
      },
      "source": [
        "### 2.3 Die inverse QFT<a id=\"inv_qft\"></a>\n",
        "\n",
        "Wir müssen nun eine inverse QFT erstellen. Wir importieren dies aus der Schaltungsbibliothek und erstellen das Gatter mit t = 4 Qubits, da dies die Anzahl der Zähl-Qubits ist, die wir für unser Beispiel ausgewählt haben:"
      ]
    },
    {
      "cell_type": "markdown",
      "metadata": {
      },
      "source": [
        "Beachte auch hier, dass wir uns entschieden haben, ein anderes `QuantumCircuit` Objekt zurückzugeben, damit wir das Gatter einfach umkehren können. Wir erstellen das Gatter mit t = 4 Qubits, da dies die Anzahl der Zähl-Qubits ist, die wir in dieser Anleitung ausgewählt haben:"
      ]
    },
    {
      "cell_type": "code",
      "execution_count": 3,
      "metadata": {
        "scrolled": true,
        "tags": [
          "thebelab-init"
        ]
      },
      "outputs": [

      ],
      "source": [
        "from qiskit.circuit.library import QFT\n",
        "qft_dagger = QFT(4, inverse=True).to_gate()\n",
        "qft_dagger.label = \"QFT†\""
      ]
    },
    {
      "cell_type": "markdown",
      "metadata": {
      },
      "source": [
        "### 2.4 Alles zusammengesetzt<a id=\"putting_together\"></a>\n",
        "\n",
        "Wir haben jetzt alles, was wir brauchen, um unsere Schaltung zu vervollständigen! Fassen wir es zusammen.\n",
        "\n",
        "Zuerst müssen wir alle Qubits in den Zustand $|+\\rangle$ versetzen:"
      ]
    },
    {
      "cell_type": "code",
      "execution_count": 4,
      "metadata": {
      },
      "outputs": [
        {
          "data": {
            "image/svg+xml": [
              "<?xml version=\"1.0\" encoding=\"UTF-8\"?><!DOCTYPE svg  PUBLIC '-//W3C//DTD SVG 1.1//EN'  'http://www.w3.org/Graphics/SVG/1.1/DTD/svg11.dtd'><svg width=\"761.55pt\" height=\"441.64pt\" version=\"1.1\" viewBox=\"0 0 761.55 441.64\" xmlns=\"http://www.w3.org/2000/svg\" xmlns:xlink=\"http://www.w3.org/1999/xlink\"><defs><style type=\"text/css\">*{stroke-linecap:butt;stroke-linejoin:round;}</style></defs><path d=\"m0 441.64h761.55v-441.64h-761.55z\" fill=\"#ffffff\"/><path d=\"m582.09 396.83h11.817l-5.9086 8.5221z\" clip-path=\"url(#p5788351bf8)\" fill=\"#778899\"/><path d=\"m627.54 396.83h11.817l-5.9086 8.5221z\" clip-path=\"url(#p5788351bf8)\" fill=\"#778899\"/><path d=\"m672.99 396.83h11.817l-5.9086 8.5221z\" clip-path=\"url(#p5788351bf8)\" fill=\"#778899\"/><path d=\"m718.44 396.83h11.817l-5.9086 8.5221z\" clip-path=\"url(#p5788351bf8)\" fill=\"#778899\"/><path d=\"m63.491 43.561h686.31\" clip-path=\"url(#p5788351bf8)\" fill=\"none\" stroke=\"#000000\" stroke-linecap=\"square\" stroke-width=\"2\"/><path d=\"m63.491 89.012h686.31\" clip-path=\"url(#p5788351bf8)\" fill=\"none\" stroke=\"#000000\" stroke-linecap=\"square\" stroke-width=\"2\"/><path d=\"m63.491 134.46h686.31\" clip-path=\"url(#p5788351bf8)\" fill=\"none\" stroke=\"#000000\" stroke-linecap=\"square\" stroke-width=\"2\"/><path d=\"m63.491 179.91h686.31\" clip-path=\"url(#p5788351bf8)\" fill=\"none\" stroke=\"#000000\" stroke-linecap=\"square\" stroke-width=\"2\"/><path d=\"m63.491 225.36h686.31\" clip-path=\"url(#p5788351bf8)\" fill=\"none\" stroke=\"#000000\" stroke-linecap=\"square\" stroke-width=\"2\"/><path d=\"m63.491 270.82h686.31\" clip-path=\"url(#p5788351bf8)\" fill=\"none\" stroke=\"#000000\" stroke-linecap=\"square\" stroke-width=\"2\"/><path d=\"m63.491 316.27h686.31\" clip-path=\"url(#p5788351bf8)\" fill=\"none\" stroke=\"#000000\" stroke-linecap=\"square\" stroke-width=\"2\"/><path d=\"m63.491 361.72h686.31\" clip-path=\"url(#p5788351bf8)\" fill=\"none\" stroke=\"#000000\" stroke-linecap=\"square\" stroke-width=\"2\"/><path d=\"m63.491 405.69h686.31\" clip-path=\"url(#p5788351bf8)\" fill=\"none\" stroke=\"#778899\" stroke-linecap=\"square\" stroke-width=\"2\"/><path d=\"m63.491 408.65h686.31\" clip-path=\"url(#p5788351bf8)\" fill=\"none\" stroke=\"#778899\" stroke-linecap=\"square\" stroke-width=\"2\"/><path d=\"m72.581 411.71 4.5451-9.0902\" clip-path=\"url(#p5788351bf8)\" fill=\"none\" stroke=\"#778899\" stroke-linecap=\"square\" stroke-width=\"1.5\"/><path d=\"m156.21 361.72v-318.16\" clip-path=\"url(#p5788351bf8)\" fill=\"none\" stroke=\"#6929c4\" stroke-linecap=\"square\" stroke-width=\"2\"/><path d=\"m247.11 361.72v-272.71\" clip-path=\"url(#p5788351bf8)\" fill=\"none\" stroke=\"#6929c4\" stroke-linecap=\"square\" stroke-width=\"2\"/><path d=\"m338.01 361.72v-227.25\" clip-path=\"url(#p5788351bf8)\" fill=\"none\" stroke=\"#6929c4\" stroke-linecap=\"square\" stroke-width=\"2\"/><path d=\"m428.92 361.72v-181.8\" clip-path=\"url(#p5788351bf8)\" fill=\"none\" stroke=\"#6929c4\" stroke-linecap=\"square\" stroke-width=\"2\"/><path d=\"m589.47 43.561v353.27\" clip-path=\"url(#p5788351bf8)\" fill=\"none\" stroke=\"#778899\" stroke-linecap=\"square\" stroke-width=\"2\"/><path d=\"m586.52 43.561v353.27\" clip-path=\"url(#p5788351bf8)\" fill=\"none\" stroke=\"#778899\" stroke-linecap=\"square\" stroke-width=\"2\"/><path d=\"m634.92 89.012v307.82\" clip-path=\"url(#p5788351bf8)\" fill=\"none\" stroke=\"#778899\" stroke-linecap=\"square\" stroke-width=\"2\"/><path d=\"m631.97 89.012v307.82\" clip-path=\"url(#p5788351bf8)\" fill=\"none\" stroke=\"#778899\" stroke-linecap=\"square\" stroke-width=\"2\"/><path d=\"m680.37 134.46v262.37\" clip-path=\"url(#p5788351bf8)\" fill=\"none\" stroke=\"#778899\" stroke-linecap=\"square\" stroke-width=\"2\"/><path d=\"m677.42 134.46v262.37\" clip-path=\"url(#p5788351bf8)\" fill=\"none\" stroke=\"#778899\" stroke-linecap=\"square\" stroke-width=\"2\"/><path d=\"m725.83 179.91v216.91\" clip-path=\"url(#p5788351bf8)\" fill=\"none\" stroke=\"#778899\" stroke-linecap=\"square\" stroke-width=\"2\"/><path d=\"m722.87 179.91v216.91\" clip-path=\"url(#p5788351bf8)\" fill=\"none\" stroke=\"#778899\" stroke-linecap=\"square\" stroke-width=\"2\"/><path d=\"m73.263 58.332h29.543v-29.543h-29.543z\" clip-path=\"url(#p5788351bf8)\" fill=\"#1192e8\" stroke=\"#1192e8\" stroke-width=\"1.5\"/><path d=\"m73.263 103.78h29.543v-29.543h-29.543z\" clip-path=\"url(#p5788351bf8)\" fill=\"#1192e8\" stroke=\"#1192e8\" stroke-width=\"1.5\"/><path d=\"m73.263 149.23h29.543v-29.543h-29.543z\" clip-path=\"url(#p5788351bf8)\" fill=\"#1192e8\" stroke=\"#1192e8\" stroke-width=\"1.5\"/><path d=\"m73.263 194.69h29.543v-29.543h-29.543z\" clip-path=\"url(#p5788351bf8)\" fill=\"#1192e8\" stroke=\"#1192e8\" stroke-width=\"1.5\"/><path d=\"m73.263 240.14h29.543v-29.543h-29.543z\" clip-path=\"url(#p5788351bf8)\" fill=\"#1192e8\" stroke=\"#1192e8\" stroke-width=\"1.5\"/><path d=\"m73.263 285.59h29.543v-29.543h-29.543z\" clip-path=\"url(#p5788351bf8)\" fill=\"#1192e8\" stroke=\"#1192e8\" stroke-width=\"1.5\"/><path d=\"m73.263 331.04h29.543v-29.543h-29.543z\" clip-path=\"url(#p5788351bf8)\" fill=\"#1192e8\" stroke=\"#1192e8\" stroke-width=\"1.5\"/><path d=\"m73.263 376.49h29.543v-29.543h-29.543z\" clip-path=\"url(#p5788351bf8)\" fill=\"#1192e8\" stroke=\"#1192e8\" stroke-width=\"1.5\"/><path d=\"m156.21 47.992c1.1752 0 2.3025-0.46693 3.1335-1.2979 0.83102-0.83102 1.2979-1.9583 1.2979-3.1335 0-1.1752-0.46693-2.3025-1.2979-3.1335-0.83102-0.83102-1.9583-1.2979-3.1335-1.2979s-2.3025 0.46693-3.1335 1.2979c-0.83102 0.83102-1.2979 1.9583-1.2979 3.1335 0 1.1752 0.46693 2.3025 1.2979 3.1335 0.83102 0.83102 1.9583 1.2979 3.1335 1.2979z\" clip-path=\"url(#p5788351bf8)\" fill=\"#6929c4\" stroke=\"#6929c4\" stroke-width=\"1.5\"/><path d=\"m123.79 376.49h64.84v-165.9h-64.84z\" clip-path=\"url(#p5788351bf8)\" fill=\"#6929c4\" stroke=\"#6929c4\" stroke-width=\"1.5\"/><path d=\"m247.11 93.443c1.1752 0 2.3025-0.46693 3.1335-1.2979 0.83102-0.83102 1.2979-1.9583 1.2979-3.1335s-0.46693-2.3025-1.2979-3.1335c-0.83102-0.83102-1.9583-1.2979-3.1335-1.2979s-2.3025 0.46693-3.1335 1.2979c-0.83102 0.83102-1.2979 1.9583-1.2979 3.1335s0.46693 2.3025 1.2979 3.1335 1.9583 1.2979 3.1335 1.2979z\" clip-path=\"url(#p5788351bf8)\" fill=\"#6929c4\" stroke=\"#6929c4\" stroke-width=\"1.5\"/><path d=\"m214.64 376.49h64.936v-165.9h-64.936z\" clip-path=\"url(#p5788351bf8)\" fill=\"#6929c4\" stroke=\"#6929c4\" stroke-width=\"1.5\"/><path d=\"m338.01 138.89c1.1752 0 2.3025-0.46693 3.1335-1.2979 0.83102-0.83102 1.2979-1.9583 1.2979-3.1335 0-1.1752-0.46693-2.3025-1.2979-3.1335s-1.9583-1.2979-3.1335-1.2979-2.3025 0.46693-3.1335 1.2979c-0.83102 0.83102-1.2979 1.9583-1.2979 3.1335 0 1.1752 0.46693 2.3025 1.2979 3.1335 0.83102 0.83102 1.9583 1.2979 3.1335 1.2979z\" clip-path=\"url(#p5788351bf8)\" fill=\"#6929c4\" stroke=\"#6929c4\" stroke-width=\"1.5\"/><path d=\"m305.55 376.49h64.936v-165.9h-64.936z\" clip-path=\"url(#p5788351bf8)\" fill=\"#6929c4\" stroke=\"#6929c4\" stroke-width=\"1.5\"/><path d=\"m428.92 184.35c1.1752 0 2.3025-0.46693 3.1335-1.2979s1.2979-1.9583 1.2979-3.1335c0-1.1752-0.46693-2.3025-1.2979-3.1335-0.83102-0.83102-1.9583-1.2979-3.1335-1.2979-1.1752 0-2.3025 0.46693-3.1335 1.2979-0.83102 0.83102-1.2979 1.9583-1.2979 3.1335 0 1.1752 0.46693 2.3025 1.2979 3.1335 0.83102 0.83102 1.9583 1.2979 3.1335 1.2979z\" clip-path=\"url(#p5788351bf8)\" fill=\"#6929c4\" stroke=\"#6929c4\" stroke-width=\"1.5\"/><path d=\"m396.5 376.49h64.84v-165.9h-64.84z\" clip-path=\"url(#p5788351bf8)\" fill=\"#6929c4\" stroke=\"#6929c4\" stroke-width=\"1.5\"/><path d=\"m497.86 194.69h43.915v-165.9h-43.915z\" clip-path=\"url(#p5788351bf8)\" fill=\"#6929c4\" stroke=\"#6929c4\" stroke-width=\"1.5\"/><path d=\"m573.22 58.332h29.543v-29.543h-29.543z\" clip-path=\"url(#p5788351bf8)\" fill=\"#121619\" stroke=\"#121619\" stroke-width=\"1.5\"/><path d=\"m598.34 47.992c0-2.7413-1.0901-5.3732-3.0285-7.3116-1.9384-1.9384-4.5702-3.0285-7.3116-3.0285-2.7413 0-5.3732 1.0901-7.3116 3.0285-1.9384 1.9384-3.0285 4.5702-3.0285 7.3116\" clip-path=\"url(#p5788351bf8)\" fill=\"none\" stroke=\"#ffffff\" stroke-width=\"2\"/><path d=\"m618.67 103.78h29.543v-29.543h-29.543z\" clip-path=\"url(#p5788351bf8)\" fill=\"#121619\" stroke=\"#121619\" stroke-width=\"1.5\"/><path d=\"m643.79 93.443c0-2.7413-1.0901-5.3732-3.0285-7.3116-1.9384-1.9384-4.5702-3.0285-7.3116-3.0285s-5.3732 1.0901-7.3116 3.0285c-1.9384 1.9384-3.0285 4.5702-3.0285 7.3116\" clip-path=\"url(#p5788351bf8)\" fill=\"none\" stroke=\"#ffffff\" stroke-width=\"2\"/><path d=\"m664.13 149.23h29.543v-29.543h-29.543z\" clip-path=\"url(#p5788351bf8)\" fill=\"#121619\" stroke=\"#121619\" stroke-width=\"1.5\"/><path d=\"m689.24 138.89c0-2.7413-1.0901-5.3732-3.0285-7.3116-1.9384-1.9384-4.5702-3.0285-7.3116-3.0285s-5.3732 1.0901-7.3116 3.0285c-1.9384 1.9384-3.0285 4.5702-3.0285 7.3116\" clip-path=\"url(#p5788351bf8)\" fill=\"none\" stroke=\"#ffffff\" stroke-width=\"2\"/><path d=\"m709.58 194.69h29.543v-29.543h-29.543z\" clip-path=\"url(#p5788351bf8)\" fill=\"#121619\" stroke=\"#121619\" stroke-width=\"1.5\"/><path d=\"m734.69 184.35c0-2.7413-1.0901-5.3732-3.0285-7.3116-1.9384-1.9384-4.5702-3.0285-7.3116-3.0285s-5.3732 1.0901-7.3116 3.0285c-1.9384 1.9384-3.0285 4.5702-3.0285 7.3116\" clip-path=\"url(#p5788351bf8)\" fill=\"none\" stroke=\"#ffffff\" stroke-width=\"2\"/><path d=\"m588 47.992 10.34-10.34\" clip-path=\"url(#p5788351bf8)\" fill=\"none\" stroke=\"#ffffff\" stroke-linecap=\"square\" stroke-width=\"2\"/><path d=\"m633.45 93.443 10.34-10.34\" clip-path=\"url(#p5788351bf8)\" fill=\"none\" stroke=\"#ffffff\" stroke-linecap=\"square\" stroke-width=\"2\"/><path d=\"m678.9 138.89 10.34-10.34\" clip-path=\"url(#p5788351bf8)\" fill=\"none\" stroke=\"#ffffff\" stroke-linecap=\"square\" stroke-width=\"2\"/><path d=\"m724.35 184.35 10.34-10.34\" clip-path=\"url(#p5788351bf8)\" fill=\"none\" stroke=\"#ffffff\" stroke-linecap=\"square\" stroke-width=\"2\"/><g clip-path=\"url(#p5788351bf8)\"><g transform=\"translate(36.363 48.012) scale(.1625 -.1625)\"><defs><path id=\"DejaVuSans-Oblique-71\" transform=\"scale(.015625)\" d=\"m2669 525q-231-303-546-460-314-156-695-156-531 0-833 358-301 358-301 986 0 506 186 978t533 847q225 244 517 375t614 131q387 0 637-153t363-462l100 525h578l-934-4813h-579l360 1844zm-1778 813q0-463 193-705 194-242 560-242 544 0 928 520t384 1264q0 450-199 689-198 239-569 239-272 0-504-127-231-126-403-370-181-256-286-600-104-343-104-668z\"/><path id=\"DejaVuSans-30\" transform=\"scale(.015625)\" d=\"m2034 4250q-487 0-733-480-245-479-245-1442 0-959 245-1439 246-480 733-480 491 0 736 480 246 480 246 1439 0 963-246 1442-245 480-736 480zm0 500q785 0 1199-621 414-620 414-1801 0-1178-414-1799-414-620-1199-620-784 0-1198 620-414 621-414 1799 0 1181 414 1801 414 621 1198 621z\"/></defs><use xlink:href=\"#DejaVuSans-Oblique-71\"/><use transform=\"translate(63.477 -16.406) scale(.7)\" xlink:href=\"#DejaVuSans-30\"/></g></g><g clip-path=\"url(#p5788351bf8)\"><g transform=\"translate(36.363 93.463) scale(.1625 -.1625)\"><defs><path id=\"DejaVuSans-31\" transform=\"scale(.015625)\" d=\"m794 531h1031v3560l-1122-225v575l1116 225h631v-4135h1031v-531h-2687v531z\"/></defs><use xlink:href=\"#DejaVuSans-Oblique-71\"/><use transform=\"translate(63.477 -16.406) scale(.7)\" xlink:href=\"#DejaVuSans-31\"/></g></g><g clip-path=\"url(#p5788351bf8)\"><g transform=\"translate(36.363 138.91) scale(.1625 -.1625)\"><defs><path id=\"DejaVuSans-32\" transform=\"scale(.015625)\" d=\"m1228 531h2203v-531h-2962v531q359 372 979 998 621 627 780 809 303 340 423 576 121 236 121 464 0 372-261 606-261 235-680 235-297 0-627-103-329-103-704-313v638q381 153 712 231 332 78 607 78 725 0 1156-363 431-362 431-968 0-288-108-546-107-257-392-607-78-91-497-524-418-433-1181-1211z\"/></defs><use xlink:href=\"#DejaVuSans-Oblique-71\"/><use transform=\"translate(63.477 -16.406) scale(.7)\" xlink:href=\"#DejaVuSans-32\"/></g></g><g clip-path=\"url(#p5788351bf8)\"><g transform=\"translate(36.363 184.36) scale(.1625 -.1625)\"><defs><path id=\"DejaVuSans-33\" transform=\"scale(.015625)\" d=\"m2597 2516q453-97 707-404 255-306 255-756 0-690-475-1069-475-378-1350-378-293 0-604 58t-642 174v609q262-153 574-231 313-78 654-78 593 0 904 234t311 681q0 413-289 645-289 233-804 233h-544v519h569q465 0 712 186t247 536q0 359-255 551-254 193-729 193-260 0-557-57-297-56-653-174v562q360 100 674 150t592 50q719 0 1137-327 419-326 419-882 0-388-222-655t-631-370z\"/></defs><use xlink:href=\"#DejaVuSans-Oblique-71\"/><use transform=\"translate(63.477 -16.406) scale(.7)\" xlink:href=\"#DejaVuSans-33\"/></g></g><g clip-path=\"url(#p5788351bf8)\"><g transform=\"translate(36.363 229.82) scale(.1625 -.1625)\"><defs><path id=\"DejaVuSans-34\" transform=\"scale(.015625)\" d=\"m2419 4116-1594-2491h1594v2491zm-166 550h794v-3041h666v-525h-666v-1100h-628v1100h-2106v609l1940 2957z\"/></defs><use xlink:href=\"#DejaVuSans-Oblique-71\"/><use transform=\"translate(63.477 -16.406) scale(.7)\" xlink:href=\"#DejaVuSans-34\"/></g></g><g clip-path=\"url(#p5788351bf8)\"><g transform=\"translate(36.363 275.27) scale(.1625 -.1625)\"><defs><path id=\"DejaVuSans-35\" transform=\"scale(.015625)\" d=\"m691 4666h2478v-532h-1900v-1143q137 47 274 70 138 23 276 23 781 0 1237-428 457-428 457-1159 0-753-469-1171-469-417-1322-417-294 0-599 50-304 50-629 150v635q281-153 581-228t634-75q541 0 856 284 316 284 316 772 0 487-316 771-315 285-856 285-253 0-505-56-251-56-513-175v2344z\"/></defs><use xlink:href=\"#DejaVuSans-Oblique-71\"/><use transform=\"translate(63.477 -16.406) scale(.7)\" xlink:href=\"#DejaVuSans-35\"/></g></g><g clip-path=\"url(#p5788351bf8)\"><g transform=\"translate(36.363 320.72) scale(.1625 -.1625)\"><defs><path id=\"DejaVuSans-36\" transform=\"scale(.015625)\" d=\"m2113 2584q-425 0-674-291-248-290-248-796 0-503 248-796 249-292 674-292t673 292q248 293 248 796 0 506-248 796-248 291-673 291zm1253 1979v-575q-238 112-480 171-242 60-480 60-625 0-955-422-329-422-376-1275 184 272 462 417 279 145 613 145 703 0 1111-427 408-426 408-1160 0-719-425-1154-425-434-1131-434-810 0-1238 620-428 621-428 1799 0 1106 525 1764t1409 658q238 0 480-47t505-140z\"/></defs><use xlink:href=\"#DejaVuSans-Oblique-71\"/><use transform=\"translate(63.477 -16.406) scale(.7)\" xlink:href=\"#DejaVuSans-36\"/></g></g><g clip-path=\"url(#p5788351bf8)\"><g transform=\"translate(36.363 366.17) scale(.1625 -.1625)\"><defs><path id=\"DejaVuSans-37\" transform=\"scale(.015625)\" d=\"m525 4666h3e3v-269l-1694-4397h-659l1594 4134h-2241v532z\"/></defs><use xlink:href=\"#DejaVuSans-Oblique-71\"/><use transform=\"translate(63.477 -16.406) scale(.7)\" xlink:href=\"#DejaVuSans-37\"/></g></g><g clip-path=\"url(#p5788351bf8)\"><g transform=\"translate(68.036 400.46) scale(.104 -.104)\"><use xlink:href=\"#DejaVuSans-34\"/></g></g><g clip-path=\"url(#p5788351bf8)\"><g transform=\"translate(45.466 411.65) scale(.1625 -.1625)\"><defs><path id=\"DejaVuSans-63\" transform=\"scale(.015625)\" d=\"m3122 3366v-538q-244 135-489 202t-495 67q-560 0-870-355-309-354-309-995t309-996q310-354 870-354 250 0 495 67t489 202v-532q-241-112-499-168-257-57-548-57-791 0-1257 497-465 497-465 1341 0 856 470 1346 471 491 1290 491 265 0 518-55 253-54 491-163z\"/></defs><use xlink:href=\"#DejaVuSans-63\"/></g></g><g clip-path=\"url(#p5788351bf8)\"><g transform=\"translate(83.146 47.148) scale(.13 -.13)\" fill=\"#ffffff\"><defs><path id=\"DejaVuSans-48\" transform=\"scale(.015625)\" d=\"m628 4666h631v-1913h2294v1913h631v-4666h-631v2222h-2294v-2222h-631v4666z\"/></defs><use xlink:href=\"#DejaVuSans-48\"/></g></g><g clip-path=\"url(#p5788351bf8)\"><g transform=\"translate(83.146 92.599) scale(.13 -.13)\" fill=\"#ffffff\"><use xlink:href=\"#DejaVuSans-48\"/></g></g><g clip-path=\"url(#p5788351bf8)\"><g transform=\"translate(83.146 138.05) scale(.13 -.13)\" fill=\"#ffffff\"><use xlink:href=\"#DejaVuSans-48\"/></g></g><g clip-path=\"url(#p5788351bf8)\"><g transform=\"translate(83.146 183.5) scale(.13 -.13)\" fill=\"#ffffff\"><use xlink:href=\"#DejaVuSans-48\"/></g></g><g clip-path=\"url(#p5788351bf8)\"><g transform=\"translate(83.146 228.95) scale(.13 -.13)\" fill=\"#ffffff\"><use xlink:href=\"#DejaVuSans-48\"/></g></g><g clip-path=\"url(#p5788351bf8)\"><g transform=\"translate(83.146 274.4) scale(.13 -.13)\" fill=\"#ffffff\"><use xlink:href=\"#DejaVuSans-48\"/></g></g><g clip-path=\"url(#p5788351bf8)\"><g transform=\"translate(83.146 319.85) scale(.13 -.13)\" fill=\"#ffffff\"><use xlink:href=\"#DejaVuSans-48\"/></g></g><g clip-path=\"url(#p5788351bf8)\"><g transform=\"translate(83.146 365.3) scale(.13 -.13)\" fill=\"#ffffff\"><use xlink:href=\"#DejaVuSans-48\"/></g></g><g clip-path=\"url(#p5788351bf8)\"><g transform=\"translate(126.97 228.95) scale(.13 -.13)\" fill=\"#ffffff\"><use xlink:href=\"#DejaVuSans-30\"/></g></g><g clip-path=\"url(#p5788351bf8)\"><g transform=\"translate(126.97 274.4) scale(.13 -.13)\" fill=\"#ffffff\"><use xlink:href=\"#DejaVuSans-31\"/></g></g><g clip-path=\"url(#p5788351bf8)\"><g transform=\"translate(126.97 319.85) scale(.13 -.13)\" fill=\"#ffffff\"><use xlink:href=\"#DejaVuSans-32\"/></g></g><g clip-path=\"url(#p5788351bf8)\"><g transform=\"translate(126.97 365.3) scale(.13 -.13)\" fill=\"#ffffff\"><use xlink:href=\"#DejaVuSans-33\"/></g></g><g clip-path=\"url(#p5788351bf8)\"><g transform=\"translate(135.86 297.13) scale(.13 -.13)\" fill=\"#ffffff\"><defs><path id=\"DejaVuSans-47\" transform=\"scale(.015625)\" d=\"m3809 666v1253h-1031v519h1656v-2004q-365-259-806-392-440-133-940-133-1094 0-1712 639-617 640-617 1780 0 1144 617 1783 618 639 1712 639 456 0 867-113 411-112 758-331v-672q-350 297-744 447t-828 150q-857 0-1287-478-429-478-429-1425 0-944 429-1422 430-478 1287-478 334 0 596 58 263 58 472 180z\"/><path id=\"DejaVuSans-72\" transform=\"scale(.015625)\" d=\"m2631 2963q-97 56-211 82-114 27-251 27-488 0-749-317t-261-911v-1844h-578v3500h578v-544q182 319 472 473 291 155 707 155 59 0 131-8 72-7 159-23l3-590z\"/><path id=\"DejaVuSans-6f\" transform=\"scale(.015625)\" d=\"m1959 3097q-462 0-731-361t-269-989 267-989q268-361 733-361 460 0 728 362 269 363 269 988 0 622-269 986-268 364-728 364zm0 487q750 0 1178-488 429-487 429-1349 0-859-429-1349-428-489-1178-489-753 0-1180 489-426 490-426 1349 0 862 426 1349 427 488 1180 488z\"/><path id=\"DejaVuSans-76\" transform=\"scale(.015625)\" d=\"m191 3500h609l1094-2937 1094 2937h609l-1313-3500h-781l-1312 3500z\"/><path id=\"DejaVuSans-65\" transform=\"scale(.015625)\" d=\"m3597 1894v-281h-2644q38-594 358-905t892-311q331 0 642 81t618 244v-544q-310-131-635-200t-659-69q-838 0-1327 487-489 488-489 1320 0 859 464 1363 464 505 1252 505 706 0 1117-455 411-454 411-1235zm-575 169q-6 471-264 752-258 282-683 282-481 0-770-272t-333-766l2050 4z\"/></defs><use transform=\"translate(0 .68438)\" xlink:href=\"#DejaVuSans-47\"/><use transform=\"translate(77.49 .68438)\" xlink:href=\"#DejaVuSans-72\"/><use transform=\"translate(118.6 .68438)\" xlink:href=\"#DejaVuSans-6f\"/><use transform=\"translate(179.79 .68438)\" xlink:href=\"#DejaVuSans-76\"/><use transform=\"translate(238.96 .68438)\" xlink:href=\"#DejaVuSans-65\"/><use transform=\"translate(300.49 .68438)\" xlink:href=\"#DejaVuSans-72\"/><use transform=\"translate(342.56 38.966) scale(.7)\" xlink:href=\"#DejaVuSans-31\"/></g></g><g clip-path=\"url(#p5788351bf8)\"><g transform=\"translate(217.83 228.95) scale(.13 -.13)\" fill=\"#ffffff\"><use xlink:href=\"#DejaVuSans-30\"/></g></g><g clip-path=\"url(#p5788351bf8)\"><g transform=\"translate(217.83 274.4) scale(.13 -.13)\" fill=\"#ffffff\"><use xlink:href=\"#DejaVuSans-31\"/></g></g><g clip-path=\"url(#p5788351bf8)\"><g transform=\"translate(217.83 319.85) scale(.13 -.13)\" fill=\"#ffffff\"><use xlink:href=\"#DejaVuSans-32\"/></g></g><g clip-path=\"url(#p5788351bf8)\"><g transform=\"translate(217.83 365.3) scale(.13 -.13)\" fill=\"#ffffff\"><use xlink:href=\"#DejaVuSans-33\"/></g></g><g clip-path=\"url(#p5788351bf8)\"><g transform=\"translate(226.76 297.13) scale(.13 -.13)\" fill=\"#ffffff\"><use transform=\"translate(0 .76562)\" xlink:href=\"#DejaVuSans-47\"/><use transform=\"translate(77.49 .76562)\" xlink:href=\"#DejaVuSans-72\"/><use transform=\"translate(118.6 .76562)\" xlink:href=\"#DejaVuSans-6f\"/><use transform=\"translate(179.79 .76562)\" xlink:href=\"#DejaVuSans-76\"/><use transform=\"translate(238.96 .76562)\" xlink:href=\"#DejaVuSans-65\"/><use transform=\"translate(300.49 .76562)\" xlink:href=\"#DejaVuSans-72\"/><use transform=\"translate(342.56 39.047) scale(.7)\" xlink:href=\"#DejaVuSans-32\"/></g></g><g clip-path=\"url(#p5788351bf8)\"><g transform=\"translate(308.73 228.95) scale(.13 -.13)\" fill=\"#ffffff\"><use xlink:href=\"#DejaVuSans-30\"/></g></g><g clip-path=\"url(#p5788351bf8)\"><g transform=\"translate(308.73 274.4) scale(.13 -.13)\" fill=\"#ffffff\"><use xlink:href=\"#DejaVuSans-31\"/></g></g><g clip-path=\"url(#p5788351bf8)\"><g transform=\"translate(308.73 319.85) scale(.13 -.13)\" fill=\"#ffffff\"><use xlink:href=\"#DejaVuSans-32\"/></g></g><g clip-path=\"url(#p5788351bf8)\"><g transform=\"translate(308.73 365.3) scale(.13 -.13)\" fill=\"#ffffff\"><use xlink:href=\"#DejaVuSans-33\"/></g></g><g clip-path=\"url(#p5788351bf8)\"><g transform=\"translate(317.66 297.13) scale(.13 -.13)\" fill=\"#ffffff\"><use transform=\"translate(0 .68438)\" xlink:href=\"#DejaVuSans-47\"/><use transform=\"translate(77.49 .68438)\" xlink:href=\"#DejaVuSans-72\"/><use transform=\"translate(118.6 .68438)\" xlink:href=\"#DejaVuSans-6f\"/><use transform=\"translate(179.79 .68438)\" xlink:href=\"#DejaVuSans-76\"/><use transform=\"translate(238.96 .68438)\" xlink:href=\"#DejaVuSans-65\"/><use transform=\"translate(300.49 .68438)\" xlink:href=\"#DejaVuSans-72\"/><use transform=\"translate(342.56 38.966) scale(.7)\" xlink:href=\"#DejaVuSans-34\"/></g></g><g clip-path=\"url(#p5788351bf8)\"><g transform=\"translate(399.68 228.95) scale(.13 -.13)\" fill=\"#ffffff\"><use xlink:href=\"#DejaVuSans-30\"/></g></g><g clip-path=\"url(#p5788351bf8)\"><g transform=\"translate(399.68 274.4) scale(.13 -.13)\" fill=\"#ffffff\"><use xlink:href=\"#DejaVuSans-31\"/></g></g><g clip-path=\"url(#p5788351bf8)\"><g transform=\"translate(399.68 319.85) scale(.13 -.13)\" fill=\"#ffffff\"><use xlink:href=\"#DejaVuSans-32\"/></g></g><g clip-path=\"url(#p5788351bf8)\"><g transform=\"translate(399.68 365.3) scale(.13 -.13)\" fill=\"#ffffff\"><use xlink:href=\"#DejaVuSans-33\"/></g></g><g clip-path=\"url(#p5788351bf8)\"><g transform=\"translate(408.57 297.13) scale(.13 -.13)\" fill=\"#ffffff\"><defs><path id=\"DejaVuSans-38\" transform=\"scale(.015625)\" d=\"m2034 2216q-450 0-708-241-257-241-257-662 0-422 257-663 258-241 708-241t709 242q260 243 260 662 0 421-258 662-257 241-711 241zm-631 268q-406 100-633 378-226 279-226 679 0 559 398 884 399 325 1092 325 697 0 1094-325t397-884q0-400-227-679-226-278-629-378 456-106 710-416 255-309 255-755 0-679-414-1042-414-362-1186-362-771 0-1186 362-414 363-414 1042 0 446 256 755 257 310 713 416zm-231 997q0-362 226-565 227-203 636-203 407 0 636 203 230 203 230 565 0 363-230 566-229 203-636 203-409 0-636-203-226-203-226-566z\"/></defs><use transform=\"translate(0 .76562)\" xlink:href=\"#DejaVuSans-47\"/><use transform=\"translate(77.49 .76562)\" xlink:href=\"#DejaVuSans-72\"/><use transform=\"translate(118.6 .76562)\" xlink:href=\"#DejaVuSans-6f\"/><use transform=\"translate(179.79 .76562)\" xlink:href=\"#DejaVuSans-76\"/><use transform=\"translate(238.96 .76562)\" xlink:href=\"#DejaVuSans-65\"/><use transform=\"translate(300.49 .76562)\" xlink:href=\"#DejaVuSans-72\"/><use transform=\"translate(342.56 39.047) scale(.7)\" xlink:href=\"#DejaVuSans-38\"/></g></g><g clip-path=\"url(#p5788351bf8)\"><g transform=\"translate(501.04 47.148) scale(.13 -.13)\" fill=\"#ffffff\"><use xlink:href=\"#DejaVuSans-30\"/></g></g><g clip-path=\"url(#p5788351bf8)\"><g transform=\"translate(501.04 92.599) scale(.13 -.13)\" fill=\"#ffffff\"><use xlink:href=\"#DejaVuSans-31\"/></g></g><g clip-path=\"url(#p5788351bf8)\"><g transform=\"translate(501.04 138.05) scale(.13 -.13)\" fill=\"#ffffff\"><use xlink:href=\"#DejaVuSans-32\"/></g></g><g clip-path=\"url(#p5788351bf8)\"><g transform=\"translate(501.04 183.5) scale(.13 -.13)\" fill=\"#ffffff\"><use xlink:href=\"#DejaVuSans-33\"/></g></g><g clip-path=\"url(#p5788351bf8)\"><g transform=\"translate(508.86 115.32) scale(.13 -.13)\" fill=\"#ffffff\"><defs><path id=\"DejaVuSans-51\" transform=\"scale(.015625)\" d=\"m2522 4238q-688 0-1093-513-404-512-404-1397 0-881 404-1394 405-512 1093-512 687 0 1089 512 402 513 402 1394 0 885-402 1397-402 513-1089 513zm884-4154 832-909h-763l-691 747q-103-6-158-9-54-4-104-4-984 0-1574 658-589 658-589 1761 0 1106 589 1764 590 658 1574 658 981 0 1568-658 588-658 588-1764 0-812-327-1391-326-578-945-853z\"/><path id=\"DejaVuSans-46\" transform=\"scale(.015625)\" d=\"m628 4666h2681v-532h-2050v-1375h1850v-531h-1850v-2228h-631v4666z\"/><path id=\"DejaVuSans-54\" transform=\"scale(.015625)\" d=\"m-19 4666h3947v-532h-1656v-4134h-634v4134h-1657v532z\"/><path id=\"DejaVuSans-2020\" transform=\"scale(.015625)\" d=\"m1325 4666h550v-1313h1147v-478h-1147v-3491h-550v3491h-1147v478h1147v1313z\"/></defs><use xlink:href=\"#DejaVuSans-51\"/><use x=\"78.710938\" xlink:href=\"#DejaVuSans-46\"/><use x=\"134.480469\" xlink:href=\"#DejaVuSans-54\"/><use x=\"195.564453\" xlink:href=\"#DejaVuSans-2020\"/></g></g><g clip-path=\"url(#p5788351bf8)\"><g transform=\"translate(599.36 400.46) scale(.104 -.104)\"><use xlink:href=\"#DejaVuSans-30\"/></g></g><g clip-path=\"url(#p5788351bf8)\"><g transform=\"translate(644.81 400.46) scale(.104 -.104)\"><use xlink:href=\"#DejaVuSans-31\"/></g></g><g clip-path=\"url(#p5788351bf8)\"><g transform=\"translate(690.26 400.46) scale(.104 -.104)\"><use xlink:href=\"#DejaVuSans-32\"/></g></g><g clip-path=\"url(#p5788351bf8)\"><g transform=\"translate(735.71 400.46) scale(.104 -.104)\"><use xlink:href=\"#DejaVuSans-33\"/></g></g><defs><clipPath id=\"p5788351bf8\"><rect x=\"7.2\" y=\"7.2\" width=\"747.15\" height=\"427.24\"/></clipPath></defs></svg>"
            ],
            "text/plain": [
              "<Figure size 989.597x565.88 with 1 Axes>"
            ]
          },
          "execution_count": 4,
          "metadata": {
          },
          "output_type": "execute_result"
        }
      ],
      "source": [
        "# Create QuantumCircuit\n",
        "t = 4   # no. of counting qubits\n",
        "n = 4   # no. of searching qubits\n",
        "qc = QuantumCircuit(n+t, t) # Circuit with n+t qubits and t classical bits\n",
        "\n",
        "# Initialize all qubits to |+>\n",
        "for qubit in range(t+n):\n",
        "    qc.h(qubit)\n",
        "\n",
        "# Begin controlled Grover iterations\n",
        "n_iterations = 1\n",
        "for qubit in range(t):\n",
        "    cgrit = grover_operator(n_iterations).control()\n",
        "    qc.append(cgrit, [qubit] + list(range(t, n+t)))\n",
        "    n_iterations *= 2\n",
        "    \n",
        "# Do inverse QFT on counting qubits\n",
        "qc.append(qft_dagger, range(t))\n",
        "\n",
        "# Measure counting qubits\n",
        "qc.measure(range(t), range(t))\n",
        "\n",
        "# Display the circuit\n",
        "qc.draw(fold=-1)"
      ]
    },
    {
      "cell_type": "markdown",
      "metadata": {
      },
      "source": [
        "Großartig! Sehen wir uns nun einige Ergebnisse an.\n",
        "\n",
        "## 3. Simulieren<a id=\"simulating\"></a>"
      ]
    },
    {
      "cell_type": "code",
      "execution_count": 5,
      "metadata": {
      },
      "outputs": [
        {
          "data": {
            "image/svg+xml": [
              "<?xml version=\"1.0\" encoding=\"UTF-8\"?><!DOCTYPE svg  PUBLIC '-//W3C//DTD SVG 1.1//EN'  'http://www.w3.org/Graphics/SVG/1.1/DTD/svg11.dtd'><svg width=\"460.72pt\" height=\"331.32pt\" version=\"1.1\" viewBox=\"0 0 460.72 331.32\" xmlns=\"http://www.w3.org/2000/svg\" xmlns:xlink=\"http://www.w3.org/1999/xlink\"><defs><style type=\"text/css\">*{stroke-linecap:butt;stroke-linejoin:round;}</style></defs><path d=\"m0 331.32h460.72v-331.32h-460.72z\" fill=\"none\"/><path d=\"m62.921 279h390.6v-271.8h-390.6z\" fill=\"#ffffff\"/><defs><path id=\"m014eb62c3c\" d=\"m0 0v3.5\" stroke=\"#000000\" stroke-width=\".8\"/></defs><use x=\"139.857614\" y=\"279\" stroke=\"#000000\" stroke-width=\".8\" xlink:href=\"#m014eb62c3c\"/><g transform=\"translate(137.39 323.12) rotate(-70) scale(.14 -.14)\"><defs><path id=\"DejaVuSans-30\" transform=\"scale(.015625)\" d=\"m2034 4250q-487 0-733-480-245-479-245-1442 0-959 245-1439 246-480 733-480 491 0 736 480 246 480 246 1439 0 963-246 1442-245 480-736 480zm0 500q785 0 1199-621 414-620 414-1801 0-1178-414-1799-414-620-1199-620-784 0-1198 620-414 621-414 1799 0 1181 414 1801 414 621 1198 621z\"/><path id=\"DejaVuSans-31\" transform=\"scale(.015625)\" d=\"m794 531h1031v3560l-1122-225v575l1116 225h631v-4135h1031v-531h-2687v531z\"/></defs><use xlink:href=\"#DejaVuSans-30\"/><use x=\"63.623047\" xlink:href=\"#DejaVuSans-30\"/><use x=\"127.246094\" xlink:href=\"#DejaVuSans-31\"/><use x=\"190.869141\" xlink:href=\"#DejaVuSans-31\"/></g><use x=\"376.584886\" y=\"279\" stroke=\"#000000\" stroke-width=\".8\" xlink:href=\"#m014eb62c3c\"/><g transform=\"translate(374.12 323.12) rotate(-70) scale(.14 -.14)\"><use xlink:href=\"#DejaVuSans-31\"/><use x=\"63.623047\" xlink:href=\"#DejaVuSans-31\"/><use x=\"127.246094\" xlink:href=\"#DejaVuSans-30\"/><use x=\"190.869141\" xlink:href=\"#DejaVuSans-31\"/></g><path d=\"m62.921 279h390.6\" clip-path=\"url(#p9441cee53e)\" fill=\"none\" stroke=\"#b0b0b0\" stroke-dasharray=\"2.96,1.28\" stroke-width=\".8\"/><defs><path id=\"me0cc9cd6bd\" d=\"m0 0h-3.5\" stroke=\"#000000\" stroke-width=\".8\"/></defs><use x=\"62.92125\" y=\"279\" stroke=\"#000000\" stroke-width=\".8\" xlink:href=\"#me0cc9cd6bd\"/><g transform=\"translate(24.749 284.32) scale(.14 -.14)\"><defs><path id=\"DejaVuSans-2e\" transform=\"scale(.015625)\" d=\"m684 794h660v-794h-660v794z\"/></defs><use xlink:href=\"#DejaVuSans-30\"/><use x=\"63.623047\" xlink:href=\"#DejaVuSans-2e\"/><use x=\"95.410156\" xlink:href=\"#DejaVuSans-30\"/><use x=\"159.033203\" xlink:href=\"#DejaVuSans-30\"/></g><path d=\"m62.921 214.33h390.6\" clip-path=\"url(#p9441cee53e)\" fill=\"none\" stroke=\"#b0b0b0\" stroke-dasharray=\"2.96,1.28\" stroke-width=\".8\"/><use x=\"62.92125\" y=\"214.333829\" stroke=\"#000000\" stroke-width=\".8\" xlink:href=\"#me0cc9cd6bd\"/><g transform=\"translate(24.749 219.65) scale(.14 -.14)\"><defs><path id=\"DejaVuSans-35\" transform=\"scale(.015625)\" d=\"m691 4666h2478v-532h-1900v-1143q137 47 274 70 138 23 276 23 781 0 1237-428 457-428 457-1159 0-753-469-1171-469-417-1322-417-294 0-599 50-304 50-629 150v635q281-153 581-228t634-75q541 0 856 284 316 284 316 772 0 487-316 771-315 285-856 285-253 0-505-56-251-56-513-175v2344z\"/></defs><use xlink:href=\"#DejaVuSans-30\"/><use x=\"63.623047\" xlink:href=\"#DejaVuSans-2e\"/><use x=\"95.410156\" xlink:href=\"#DejaVuSans-31\"/><use x=\"159.033203\" xlink:href=\"#DejaVuSans-35\"/></g><path d=\"m62.921 149.67h390.6\" clip-path=\"url(#p9441cee53e)\" fill=\"none\" stroke=\"#b0b0b0\" stroke-dasharray=\"2.96,1.28\" stroke-width=\".8\"/><use x=\"62.92125\" y=\"149.667658\" stroke=\"#000000\" stroke-width=\".8\" xlink:href=\"#me0cc9cd6bd\"/><g transform=\"translate(24.749 154.99) scale(.14 -.14)\"><defs><path id=\"DejaVuSans-33\" transform=\"scale(.015625)\" d=\"m2597 2516q453-97 707-404 255-306 255-756 0-690-475-1069-475-378-1350-378-293 0-604 58t-642 174v609q262-153 574-231 313-78 654-78 593 0 904 234t311 681q0 413-289 645-289 233-804 233h-544v519h569q465 0 712 186t247 536q0 359-255 551-254 193-729 193-260 0-557-57-297-56-653-174v562q360 100 674 150t592 50q719 0 1137-327 419-326 419-882 0-388-222-655t-631-370z\"/></defs><use xlink:href=\"#DejaVuSans-30\"/><use x=\"63.623047\" xlink:href=\"#DejaVuSans-2e\"/><use x=\"95.410156\" xlink:href=\"#DejaVuSans-33\"/><use x=\"159.033203\" xlink:href=\"#DejaVuSans-30\"/></g><path d=\"m62.921 85.001h390.6\" clip-path=\"url(#p9441cee53e)\" fill=\"none\" stroke=\"#b0b0b0\" stroke-dasharray=\"2.96,1.28\" stroke-width=\".8\"/><use x=\"62.92125\" y=\"85.001487\" stroke=\"#000000\" stroke-width=\".8\" xlink:href=\"#me0cc9cd6bd\"/><g transform=\"translate(24.749 90.32) scale(.14 -.14)\"><defs><path id=\"DejaVuSans-34\" transform=\"scale(.015625)\" d=\"m2419 4116-1594-2491h1594v2491zm-166 550h794v-3041h666v-525h-666v-1100h-628v1100h-2106v609l1940 2957z\"/></defs><use xlink:href=\"#DejaVuSans-30\"/><use x=\"63.623047\" xlink:href=\"#DejaVuSans-2e\"/><use x=\"95.410156\" xlink:href=\"#DejaVuSans-34\"/><use x=\"159.033203\" xlink:href=\"#DejaVuSans-35\"/></g><path d=\"m62.921 20.335h390.6\" clip-path=\"url(#p9441cee53e)\" fill=\"none\" stroke=\"#b0b0b0\" stroke-dasharray=\"2.96,1.28\" stroke-width=\".8\"/><use x=\"62.92125\" y=\"20.335316\" stroke=\"#000000\" stroke-width=\".8\" xlink:href=\"#me0cc9cd6bd\"/><g transform=\"translate(24.749 25.654) scale(.14 -.14)\"><defs><path id=\"DejaVuSans-36\" transform=\"scale(.015625)\" d=\"m2113 2584q-425 0-674-291-248-290-248-796 0-503 248-796 249-292 674-292t673 292q248 293 248 796 0 506-248 796-248 291-673 291zm1253 1979v-575q-238 112-480 171-242 60-480 60-625 0-955-422-329-422-376-1275 184 272 462 417 279 145 613 145 703 0 1111-427 408-426 408-1160 0-719-425-1154-425-434-1131-434-810 0-1238 620-428 621-428 1799 0 1106 525 1764t1409 658q238 0 480-47t505-140z\"/></defs><use xlink:href=\"#DejaVuSans-30\"/><use x=\"63.623047\" xlink:href=\"#DejaVuSans-2e\"/><use x=\"95.410156\" xlink:href=\"#DejaVuSans-36\"/><use x=\"159.033203\" xlink:href=\"#DejaVuSans-30\"/></g><g transform=\"translate(17.838 185.86) rotate(-90) scale(.14 -.14)\"><defs><path id=\"DejaVuSans-50\" transform=\"scale(.015625)\" d=\"m1259 4147v-1753h794q441 0 681 228 241 228 241 650 0 419-241 647-240 228-681 228h-794zm-631 519h1425q785 0 1186-355 402-355 402-1039 0-691-402-1044-401-353-1186-353h-794v-1875h-631v4666z\"/><path id=\"DejaVuSans-72\" transform=\"scale(.015625)\" d=\"m2631 2963q-97 56-211 82-114 27-251 27-488 0-749-317t-261-911v-1844h-578v3500h578v-544q182 319 472 473 291 155 707 155 59 0 131-8 72-7 159-23l3-590z\"/><path id=\"DejaVuSans-6f\" transform=\"scale(.015625)\" d=\"m1959 3097q-462 0-731-361t-269-989 267-989q268-361 733-361 460 0 728 362 269 363 269 988 0 622-269 986-268 364-728 364zm0 487q750 0 1178-488 429-487 429-1349 0-859-429-1349-428-489-1178-489-753 0-1180 489-426 490-426 1349 0 862 426 1349 427 488 1180 488z\"/><path id=\"DejaVuSans-62\" transform=\"scale(.015625)\" d=\"m3116 1747q0 634-261 995t-717 361q-457 0-718-361t-261-995 261-995 718-361q456 0 717 361t261 995zm-1957 1222q182 312 458 463 277 152 661 152 638 0 1036-506 399-506 399-1331t-399-1332q-398-506-1036-506-384 0-661 152-276 152-458 464v-525h-578v4863h578v-1894z\"/><path id=\"DejaVuSans-61\" transform=\"scale(.015625)\" d=\"m2194 1759q-697 0-966-159t-269-544q0-306 202-486 202-179 548-179 479 0 768 339t289 901v128h-572zm1147 238v-1997h-575v531q-197-318-491-470t-719-152q-537 0-855 302-317 302-317 808 0 590 395 890 396 300 1180 300h807v57q0 397-261 614t-733 217q-300 0-585-72-284-72-546-216v532q315 122 612 182 297 61 578 61 760 0 1135-394 375-393 375-1193z\"/><path id=\"DejaVuSans-69\" transform=\"scale(.015625)\" d=\"m603 3500h575v-3500h-575v3500zm0 1363h575v-729h-575v729z\"/><path id=\"DejaVuSans-6c\" transform=\"scale(.015625)\" d=\"m603 4863h575v-4863h-575v4863z\"/><path id=\"DejaVuSans-74\" transform=\"scale(.015625)\" d=\"m1172 4494v-994h1184v-447h-1184v-1900q0-428 117-550t477-122h590v-481h-590q-666 0-919 248-253 249-253 905v1900h-422v447h422v994h578z\"/><path id=\"DejaVuSans-65\" transform=\"scale(.015625)\" d=\"m3597 1894v-281h-2644q38-594 358-905t892-311q331 0 642 81t618 244v-544q-310-131-635-200t-659-69q-838 0-1327 487-489 488-489 1320 0 859 464 1363 464 505 1252 505 706 0 1117-455 411-454 411-1235zm-575 169q-6 471-264 752-258 282-683 282-481 0-770-272t-333-766l2050 4z\"/><path id=\"DejaVuSans-73\" transform=\"scale(.015625)\" d=\"m2834 3397v-544q-243 125-506 187-262 63-544 63-428 0-642-131t-214-394q0-200 153-314t616-217l197-44q612-131 870-370t258-667q0-488-386-773-386-284-1061-284-281 0-586 55t-642 164v594q319-166 628-249 309-82 613-82 406 0 624 139 219 139 219 392 0 234-158 359-157 125-692 241l-200 47q-534 112-772 345-237 233-237 639 0 494 350 762 350 269 994 269 318 0 599-47 282-46 519-140z\"/></defs><use xlink:href=\"#DejaVuSans-50\"/><use x=\"58.552734\" xlink:href=\"#DejaVuSans-72\"/><use x=\"97.416016\" xlink:href=\"#DejaVuSans-6f\"/><use x=\"158.597656\" xlink:href=\"#DejaVuSans-62\"/><use x=\"222.074219\" xlink:href=\"#DejaVuSans-61\"/><use x=\"283.353516\" xlink:href=\"#DejaVuSans-62\"/><use x=\"346.830078\" xlink:href=\"#DejaVuSans-69\"/><use x=\"374.613281\" xlink:href=\"#DejaVuSans-6c\"/><use x=\"402.396484\" xlink:href=\"#DejaVuSans-69\"/><use x=\"430.179688\" xlink:href=\"#DejaVuSans-74\"/><use x=\"469.388672\" xlink:href=\"#DejaVuSans-69\"/><use x=\"497.171875\" xlink:href=\"#DejaVuSans-65\"/><use x=\"558.695312\" xlink:href=\"#DejaVuSans-73\"/></g><path d=\"m80.676 279h118.36v-204.61h-118.36z\" clip-path=\"url(#p9441cee53e)\" fill=\"#648fff\"/><path d=\"m317.4 279h118.36v-226.5h-118.36z\" clip-path=\"url(#p9441cee53e)\" fill=\"#648fff\"/><path d=\"m62.921 279v-271.8\" fill=\"none\" stroke=\"#000000\" stroke-linecap=\"square\" stroke-width=\".8\"/><path d=\"m453.52 279v-271.8\" fill=\"none\" stroke=\"#000000\" stroke-linecap=\"square\" stroke-width=\".8\"/><path d=\"m62.921 279h390.6\" fill=\"none\" stroke=\"#000000\" stroke-linecap=\"square\" stroke-width=\".8\"/><path d=\"m62.921 7.2h390.6\" fill=\"none\" stroke=\"#000000\" stroke-linecap=\"square\" stroke-width=\".8\"/><g transform=\"translate(125.54 62.082) scale(.1 -.1)\"><defs><path id=\"DejaVuSans-37\" transform=\"scale(.015625)\" d=\"m525 4666h3e3v-269l-1694-4397h-659l1594 4134h-2241v532z\"/></defs><use xlink:href=\"#DejaVuSans-30\"/><use x=\"63.623047\" xlink:href=\"#DejaVuSans-2e\"/><use x=\"95.410156\" xlink:href=\"#DejaVuSans-34\"/><use x=\"159.033203\" xlink:href=\"#DejaVuSans-37\"/><use x=\"222.65625\" xlink:href=\"#DejaVuSans-35\"/></g><g transform=\"translate(362.27 39.095) scale(.1 -.1)\"><defs><path id=\"DejaVuSans-32\" transform=\"scale(.015625)\" d=\"m1228 531h2203v-531h-2962v531q359 372 979 998 621 627 780 809 303 340 423 576 121 236 121 464 0 372-261 606-261 235-680 235-297 0-627-103-329-103-704-313v638q381 153 712 231 332 78 607 78 725 0 1156-363 431-362 431-968 0-288-108-546-107-257-392-607-78-91-497-524-418-433-1181-1211z\"/></defs><use xlink:href=\"#DejaVuSans-30\"/><use x=\"63.623047\" xlink:href=\"#DejaVuSans-2e\"/><use x=\"95.410156\" xlink:href=\"#DejaVuSans-35\"/><use x=\"159.033203\" xlink:href=\"#DejaVuSans-32\"/><use x=\"222.65625\" xlink:href=\"#DejaVuSans-35\"/></g><defs><clipPath id=\"p9441cee53e\"><rect x=\"62.921\" y=\"7.2\" width=\"390.6\" height=\"271.8\"/></clipPath></defs></svg>"
            ],
            "text/plain": [
              "<Figure size 504x360 with 1 Axes>"
            ]
          },
          "execution_count": 5,
          "metadata": {
          },
          "output_type": "execute_result"
        }
      ],
      "source": [
        "# Execute and see results\n",
        "sim = Aer.get_backend('aer_simulator')\n",
        "transpiled_qc = transpile(qc, sim)\n",
        "job = sim.run(transpiled_qc)\n",
        "hist = job.result().get_counts()\n",
        "plot_histogram(hist)"
      ]
    },
    {
      "cell_type": "markdown",
      "metadata": {
      },
      "source": [
        "Wir können zwei Werte hervorheben, die eine viel höhere Messwahrscheinlichkeit haben als die anderen. Diese beiden Werte entsprechen $e^{i\\theta}$ und $e^{-i\\theta}$, aber wir können die Anzahl der Lösungen noch nicht sehen. Wir brauchen etwas mehr Verarbeitung, um diese Informationen zu erhalten, also lass uns zuerst unsere Ausgabe in eine From bringen, mit der wir arbeiten können (ein `int` ).\n",
        "\n",
        "Wir erhalten die Zeichenfolge des wahrscheinlichsten Ergebnisses aus unseren Ausgabedaten (obwohl beides ausreicht):"
      ]
    },
    {
      "cell_type": "code",
      "execution_count": 6,
      "metadata": {
      },
      "outputs": [

      ],
      "source": [
        "measured_str = max(hist, key=hist.get)"
      ]
    },
    {
      "cell_type": "markdown",
      "metadata": {
      },
      "source": [
        "Lass uns dies nun als Ganzzahl speichern:"
      ]
    },
    {
      "cell_type": "code",
      "execution_count": 7,
      "metadata": {
      },
      "outputs": [
        {
          "name": "stdout",
          "output_type": "stream",
          "text": [
            "Register Output = 13\n"
          ]
        }
      ],
      "source": [
        "measured_int = int(measured_str, 2)\n",
        "print(\"Register Output = %i\" % measured_int)"
      ]
    },
    {
      "cell_type": "markdown",
      "metadata": {
      },
      "source": [
        "## 4. Ermitteln der Anzahl der Lösungen (M)<a id=\"finding_m\"></a>\n",
        "\n",
        "Wir erstellen eine Funktion, `calculate_M()` , die als Eingabe die dezimale ganzzahlige Ausgabe unseres Registers, die Anzahl der Zähl-Qubits ($t$) und die Anzahl der Such-Qubits ($n$) verwendet.\n",
        "\n",
        "Zuerst wollen wir $\\theta$ von `measured_int` holen. Du wirst dich erinnern, dass QPE uns einen gemessenen $\\text{value} = 2^n \\phi$ aus dem Eigenwert $e^{2\\pi i\\phi}$ gibt, also müssen wir Folgendes tun, um $\\theta$ zu erhalten:\n",
        "\n",
        "$$ \\theta = \\text{value}\\times\\frac{2\\pi}{2^t} $$\n",
        "\n",
        "Oder im Code:"
      ]
    },
    {
      "cell_type": "code",
      "execution_count": 8,
      "metadata": {
      },
      "outputs": [
        {
          "name": "stdout",
          "output_type": "stream",
          "text": [
            "Theta = 5.10509\n"
          ]
        }
      ],
      "source": [
        "theta = (measured_int/(2**t))*math.pi*2\n",
        "print(\"Theta = %.5f\" % theta)"
      ]
    },
    {
      "cell_type": "markdown",
      "metadata": {
      },
      "source": [
        "Du erinnerst dich vielleicht, dass wir den Winkel $\\theta/2$ aus dem inneren Produkt von $|s\\rangle$ und $|s'\\rangle$ erhalten können:\n",
        "\n",
        "![Bild3](images/quantum_counting3.svg)\n",
        "\n",
        "$$ \\langle s'|s\\rangle = \\cos{\\tfrac{\\theta}{2}} $$\n",
        "\n",
        "Und dieses $|s\\rangle$ (eine einheitliche Überlagerung von Berechnungsbasiszuständen) kann in Form von $|\\omega\\rangle$ und $|s'\\rangle$ geschrieben werden als:\n",
        "\n",
        "$$ |s\\rangle = \\sqrt{\\tfrac{M}{N}}|\\omega\\rangle + \\sqrt{\\tfrac{NM}{N}}|s'\\rangle $$\n",
        "\n",
        "Das Skalarprodukt von $|s\\rangle$ und $|s'\\rangle$ ist:\n",
        "\n",
        "$$ \\langle s'|s\\rangle = \\sqrt{\\frac{NM}{N}} = \\cos{\\tfrac{\\theta}{2}} $$\n",
        "\n",
        "Daraus können wir etwas Trigonometrie und Algebra verwenden, um zu zeigen:\n",
        "\n",
        "$$ N\\sin^2{\\frac{\\theta}{2}} = M $$\n",
        "\n",
        "Und im Code:"
      ]
    },
    {
      "cell_type": "code",
      "execution_count": 9,
      "metadata": {
      },
      "outputs": [
        {
          "name": "stdout",
          "output_type": "stream",
          "text": [
            "No. of Solutions = 4.9\n"
          ]
        }
      ],
      "source": [
        "N = 2**n\n",
        "M = N * (math.sin(theta/2)**2)\n",
        "print(f\"No. of Solutions = {M:.1f}\")"
      ]
    },
    {
      "cell_type": "markdown",
      "metadata": {
      },
      "source": [
        "Und wir können sehen, dass wir (ungefähr) die richtige Antwort haben! Wir können den Fehler in dieser Antwort ungefähr berechnen mit:"
      ]
    },
    {
      "cell_type": "code",
      "execution_count": 10,
      "metadata": {
      },
      "outputs": [
        {
          "name": "stdout",
          "output_type": "stream",
          "text": [
            "Error < 1.70\n"
          ]
        }
      ],
      "source": [
        "m = t - 1 # Upper bound: Will be less than this \n",
        "err = (math.sqrt(2*M*N) + N/(2**(m+1)))*(2**(-m))\n",
        "print(\"Error < %.2f\" % err)"
      ]
    },
    {
      "cell_type": "markdown",
      "metadata": {
      },
      "source": [
        "Die Erklärung der Fehlerberechnung würde den Rahmen dieses Artikels sprengen, aber eine Erklärung kann in [1] gefunden werden.\n",
        "\n",
        "Zum Schluss noch die fertige Funktion `calculate_M()` :"
      ]
    },
    {
      "cell_type": "code",
      "execution_count": 11,
      "metadata": {
      },
      "outputs": [

      ],
      "source": [
        "def calculate_M(measured_int, t, n):\n",
        "    \"\"\"For Processing Output of Quantum Counting\"\"\"\n",
        "    # Calculate Theta\n",
        "    theta = (measured_int/(2**t))*math.pi*2\n",
        "    print(\"Theta = %.5f\" % theta)\n",
        "    # Calculate No. of Solutions\n",
        "    N = 2**n\n",
        "    M = N * (math.sin(theta/2)**2)\n",
        "    print(f\"No. of Solutions = {M:.1f}\")\n",
        "    # Calculate Upper Error Bound\n",
        "    m = t - 1 #Will be less than this (out of scope) \n",
        "    err = (math.sqrt(2*M*N) + N/(2**(m+1)))*(2**(-m))\n",
        "    print(\"Error < %.2f\" % err)"
      ]
    },
    {
      "cell_type": "markdown",
      "metadata": {
      },
      "source": [
        "## 5. Übungen<a id=\"exercises\"></a>\n",
        "\n",
        "1. Kannst du ein Orakel mit einer anderen Anzahl von Lösungen erstellen? Wie ändert sich die Genauigkeit des Quantenzählalgorithmus?\n",
        "2. Kannst du die Schaltung anpassen, um mehr oder weniger zählende Qubits zu verwenden, um eine andere Genauigkeit in deinem Ergebnis zu erhalten?\n"
      ]
    },
    {
      "cell_type": "markdown",
      "metadata": {
      },
      "source": [
        "## 6. Referenzen<a id=\"references\"></a>\n",
        "\n",
        "[1] Michael A. Nielsen und Isaac L. Chuang. 2011. Quantum Computation and Quantum Information: Ausgabe zum 10. Jahrestag (10. Aufl.). Cambridge University Press, New York, NY, USA. "
      ]
    },
    {
      "cell_type": "code",
      "execution_count": 12,
      "metadata": {
      },
      "outputs": [
        {
          "name": "stderr",
          "output_type": "stream",
          "text": [
            "/usr/local/anaconda3/envs/terra-unstable/lib/python3.9/site-packages/qiskit/aqua/__init__.py:86: DeprecationWarning: The package qiskit.aqua is deprecated. It was moved/refactored to qiskit-terra For more information see <https://github.com/Qiskit/qiskit-aqua/blob/main/README.md#migration-guide>\n",
            "  warn_package('aqua', 'qiskit-terra')\n"
          ]
        },
        {
          "data": {
            "text/html": [
              "<h3>Version Information</h3><table><tr><th>Qiskit Software</th><th>Version</th></tr><tr><td><code>qiskit-terra</code></td><td>0.19.0</td></tr><tr><td><code>qiskit-aer</code></td><td>0.9.1</td></tr><tr><td><code>qiskit-ignis</code></td><td>0.6.0</td></tr><tr><td><code>qiskit-ibmq-provider</code></td><td>0.17.0</td></tr><tr><td><code>qiskit-aqua</code></td><td>0.9.5</td></tr><tr><td><code>qiskit</code></td><td>0.31.0</td></tr><tr><th>System information</th></tr><tr><td>Python version</td><td>3.9.7</td></tr><tr><td>Python compiler</td><td>Clang 10.0.0 </td></tr><tr><td>Python build</td><td>default, Sep 16 2021 08:50:36</td></tr><tr><td>OS</td><td>Darwin</td></tr><tr><td>CPUs</td><td>8</td></tr><tr><td>Memory (Gb)</td><td>32.0</td></tr><tr><td colspan='2'>Fri Nov 05 15:15:13 2021 GMT</td></tr></table>"
            ],
            "text/plain": [
              "<IPython.core.display.HTML object>"
            ]
          },
          "metadata": {
          },
          "output_type": "display_data"
        }
      ],
      "source": [
        "import qiskit.tools.jupyter\n",
        "%qiskit_version_table"
      ]
    }
  ],
  "metadata": {
    "kernelspec": {
      "display_name": "Python 3",
      "language": "python",
      "name": "python3"
    },
    "language_info": {
      "codemirror_mode": {
        "name": "ipython",
        "version": 3
      },
      "file_extension": ".py",
      "mimetype": "text/x-python",
      "name": "python",
      "nbconvert_exporter": "python",
      "pygments_lexer": "ipython3",
      "version": "3.9"
    }
  },
  "nbformat": 4,
  "nbformat_minor": 4
}
