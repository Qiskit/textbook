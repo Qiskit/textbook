{
  "cells": [
    {
      "cell_type": "markdown",
      "metadata": {
        "slideshow": {
          "slide_type": "-"
        }
      },
      "source": [
        "# Algoritma pencarian Grover"
      ]
    },
    {
      "cell_type": "markdown",
      "metadata": {
      },
      "source": [
        "## Masalah Pencarian\n",
        "\n",
        "Banyak masalah yang diselesaikan oleh komputer adalah jenis *masalah pencarian* . Anda mungkin sudah menelusuri web menggunakan mesin telusur, yaitu program yang membuat basis data dari situs web dan memungkinkan Anda menelusurinya. Kita dapat menganggap database sebagai program yang mengambil alamat sebagai input, dan menampilkan data di alamat itu. Buku telepon adalah salah satu contoh database; setiap entri dalam buku berisi nama dan nomor. Sebagai contoh, kita mungkin meminta database untuk memberi kita data di alamat ke-3441, dan itu akan mengembalikan nama dan nomor ke-3441 di buku.\n",
        "\n",
        "![Aliran informasi dalam database kotak hitam.](images/grover/database-phonebook.svg)\n",
        "\n",
        "<!-- vale QiskitTextbook.SentenceLengthWarning = NO -->\n",
        "\n",
        "Kita menyebut proses memberikan input dan membaca output ini \"meminta database\". Seringkali dalam ilmu komputer, kita menganggap database sebagai kotak hitam, yang berarti kita tidak diizinkan untuk melihat cara kerjanya; kita hanya akan menganggap itu adalah proses ajaib yang melakukan persis seperti yang mereka janjikan. Kita menyebut proses magis seperti ini \"ramalan\".\n",
        "\n",
        "<!-- vale QiskitTextbook.SentenceLengthWarning = YES -->\n",
        "\n",
        "Jika kita memiliki nama seseorang dan kita mencoba mencari nomor teleponnya, hal tersebut akan menjadi mudah jika buku tersebut diurutkan menurut abjad berdasarkan nama. Kita dapat menggunakan algoritma yang disebut *pencarian biner* .\n",
        "\n",
        "<!-- ::: q-block -->\n",
        "\n",
        "### Contoh: Pencarian Biner\n",
        "\n",
        "<!-- ::: q-carousel -->\n",
        "\n",
        "<!-- ::: div -->\n",
        "\n",
        "![Contoh database](images/grover/carousel/0/0.svg)\n",
        "\n",
        "Pencarian biner adalah algoritma klasik yang sangat efisien untuk mencari basis data yang diurutkan. Anda mungkin pernah menggunakan sesuatu yang serupa saat mencari halaman tertentu di buku (atau bahkan menggunakan buku telepon fisik). Katakanlah kita ingin mencari nomor telepon Evelina.\n",
        "\n",
        "<!-- ::: -->\n",
        "\n",
        "<!-- ::: div -->\n",
        "\n",
        "![Contoh langkah pertama dari algoritma pencarian biner, komputer telah memilih entri tengah](images/grover/carousel/0/1.svg)\n",
        "\n",
        "Pertama, kita memeriksa item tengah di database dan melihat apakah lebih tinggi atau lebih rendah dari item yang kita cari.\n",
        "\n",
        "<!-- ::: -->\n",
        "\n",
        "<!-- ::: div -->\n",
        "\n",
        "![Langkah kedua dari algoritma pencarian biner](images/grover/carousel/0/2.svg)\n",
        "\n",
        "Dalam hal ini \"H\" muncul setelah \"E\". Karena daftarnya diurutkan, kita tahu bahwa alamat entri yang kita cari harus lebih rendah dari 7. Kita dapat mengabaikan alamat apapun yang lebih besar dari 6 dan mengulangi algoritma ini pada daftar yang telah dikurangi.\n",
        "\n",
        "<!-- ::: -->\n",
        "\n",
        "<!-- ::: div -->\n",
        "\n",
        "![Langkah ketiga dari algoritma pencarian biner](images/grover/carousel/0/3.svg)\n",
        "\n",
        "Kali ini, nama entri tengah diawali dengan \"D\". yang muncul sebelum \"E\". Sekarang kita tahu entri kita seharusnya memiliki alamat lebih besar dari 4.\n",
        "\n",
        "<!-- ::: -->\n",
        "\n",
        "<!-- ::: div -->\n",
        "\n",
        "![Langkah keempat dari algoritma pencarian biner](images/grover/carousel/0/4.svg)\n",
        "\n",
        "Setiap langkah membagi dua ukuran dari daftar yang sedang kita kerjakan, sehingga ruang pencarian *menyusut* secara eksponensial.\n",
        "\n",
        "<!-- ::: -->\n",
        "\n",
        "<!-- ::: div -->\n",
        "\n",
        "![Langkah kelima dari algoritma pencarian biner](images/grover/carousel/0/5.svg)\n",
        "\n",
        "Artinya, meskipun dengan database yang sangat besar, kita dapat menemukan entri dengan cepat.\n",
        "\n",
        "<!-- ::: -->\n",
        "\n",
        "<!-- ::: -->\n",
        "\n",
        "<!-- ::: -->\n",
        "\n",
        "<!-- ::: q-block.exercise -->\n",
        "\n",
        "### Kuis cepat\n",
        "\n",
        "<!-- ::: q-quiz(goal=\"intro-grover-0\") -->\n",
        "\n",
        "Jumlah maksimum kueri database yang diperlukan tumbuh secara logaritmik (basis 2) dengan jumlah entri dalam database.\n",
        "\n",
        "<!-- ::: .question -->\n",
        "\n",
        "Menggunakan pencarian biner, berapa jumlah kueri terbesar yang kita perlukan untuk mencari database yang diurutkan dengan 1024 entri?\n",
        "\n",
        "<!-- ::: -->\n",
        "\n",
        "<!-- ::: .option(correct) -->\n",
        "\n",
        "1. 10\n",
        "\n",
        "<!-- ::: -->\n",
        "\n",
        "<!-- ::: .option -->\n",
        "\n",
        "1. 1\n",
        "\n",
        "<!-- ::: -->\n",
        "\n",
        "<!-- ::: .option -->\n",
        "\n",
        "1. 100\n",
        "\n",
        "<!-- ::: -->\n",
        "\n",
        "<!-- ::: -->\n",
        "\n",
        "*Petunjuk: berapa kali Anda perlu membagi dua database agar hanya tersisa satu item?*\n",
        "\n",
        "<!-- ::: -->"
      ]
    },
    {
      "cell_type": "markdown",
      "metadata": {
        "gloss": {
          "index": {
            "text": "To make searching easier, we could have two copies of the phone book: One sorted by name and the other sorted by number. This will obviously take a while to create and will take up more space on the disk, but it could be worth it if we’re searching it a lot.",
            "title": "Index (databases)"
          },
          "logarithm": {
            "text": "This is the inverse of exponential. This grows very slowly, so logarithmic algorithms are generally considered very efficient.",
            "title": "Logarithmic"
          },
          "quadratic": {
            "text": "'Quadratic' is anything to do with squares (i.e., multiplying a number by itself).",
            "title": "Quadratic"
          }
        }
      },
      "source": [
        "Karena pencarian biner tumbuh secara [logaritmis](gloss:logarithm) dengan ukuran database, tidak banyak ruang untuk perbaikan dari komputer kuantum. Tetapi kita tidak selalu memiliki kemudahan untuk mencari daftar yang diurutkan. Bagaimana jika kira diberi nomor telepon, dan kita ingin menemukan nama yang terkait dengan nomor itu?\n",
        "\n",
        "Ini jauh lebih sulit, karena buku telepon biasanya tidak diurutkan berdasarkan nomor. Jika kita menganggap nomor telepon diurutkan secara acak dalam daftar, tidak ada cara untuk mendekati target kita seperti yang kita lakukan sebelumnya. Cara terbaik yang bisa kita lakukan dengan komputer klasik adalah dengan secara acak memilih alamat input, melihat apakah itu berisi nomor telepon yang kita cari, dan mengulanginya sampai kita menemukan entri yang benar. Karena alasan ini, banyak pekerjaan dilakukan untuk [mengindeks](gloss:index) database untuk meningkatkan waktu pencarian.\n",
        "\n",
        "Ketika database benar-benar tidak teratur seperti ini, kita katakan itu *tidak terstruktur*. Dan algoritma quantum yang akan kita pelajari di halaman ini adalah algoritma untuk pencarian tidak terstruktur.\n",
        "\n",
        "<!-- ::: q-block.exercise -->\n",
        "\n",
        "### Pencarian tidak terstruktur\n",
        "\n",
        "<!-- ::: q-quiz(goal=\"intro-grover-1\") -->\n",
        "\n",
        "<!-- ::: .question -->\n",
        "\n",
        "Jika kita mencari database yang tidak terstruktur dengan memilih input secara acar, berapa rata-rata input yang perlu kita periksa sebelum kita menemukan entri yang kita cari?\n",
        "\n",
        "<!-- ::: -->\n",
        "\n",
        "<!-- ::: .option(correct) -->\n",
        "\n",
        "1. Setengah dari input yang mungkin.\n",
        "\n",
        "<!-- ::: -->\n",
        "\n",
        "<!-- ::: .option -->\n",
        "\n",
        "1. Semua masukan yang mungkin.\n",
        "\n",
        "<!-- ::: -->\n",
        "\n",
        "<!-- ::: .option -->\n",
        "\n",
        "1. Tiga perempat dari input yang mungkin.\n",
        "\n",
        "<!-- ::: -->\n",
        "\n",
        "<!-- ::: -->\n",
        "\n",
        "---\n",
        "\n",
        "<!-- ::: q-quiz(goal=\"intro-grover-2\") -->\n",
        "\n",
        "<!-- ::: .question -->\n",
        "\n",
        "Menggunakan tebakan acak, bagaimana jumlah rata-rata kueri database yang dibutuhkan tumbuh dengan jumlah entri dalam database?\n",
        "\n",
        "<!-- ::: -->\n",
        "\n",
        "<!-- ::: .option(correct) -->\n",
        "\n",
        "1. Secara linear.\n",
        "\n",
        "<!-- ::: -->\n",
        "\n",
        "<!-- ::: .option -->\n",
        "\n",
        "1. Secara logaritmic.\n",
        "\n",
        "<!-- ::: -->\n",
        "\n",
        "<!-- ::: .option -->\n",
        "\n",
        "1. Secara kuadrat.\n",
        "\n",
        "<!-- ::: -->\n",
        "\n",
        "<!-- ::: .option -->\n",
        "\n",
        "1. Secara eksponensial.\n",
        "\n",
        "<!-- ::: -->\n",
        "\n",
        "<!-- ::: -->\n",
        "\n",
        "<!-- ::: -->\n",
        "\n",
        "<!-- vale QiskitTextbook.SentenceLengthWarning = NO -->\n",
        "\n",
        "Tampaknya kita tidak mungkin melakukan yang lebih baik daripada menebak secara acak di sini; kita tidak tahu di mana entri yang benar akan berada di database, dan setiap kueri yang salah hanya mengesampingkan satu entri.\n",
        "\n",
        "<!-- vale QiskitTextbook.SentenceLengthWarning = YES -->\n",
        "\n",
        "Untuk komputer klasik, intuisi kita benar, tetapi jika basis data kita dapat memasukkan dan mengeluarkan superposisi kuantum, ternyata kita dapat melakukannya lebih baik daripada tebakan acak! Di halaman ini kita akan belajar tentang algoritma kuantum pertama kita: algoritma pencarian kuantum Grover. Saat mencari basis data apa pun (terstruktur atau tidak terstruktur), algoritma Grover tumbuh dengan *akar kuadrat* dari jumlah input, yang untuk pencarian tidak terstruktur merupakan peningkatan [kuadrat](gloss:quadratic) dari algoritma klasik terbaik.\n",
        "\n",
        "![Perbandingan waktu berjalan algoritma terbaik untuk pencarian tak terstruktur kuantum dan klasik](images/grover/rg-vs-grover.svg)"
      ]
    },
    {
      "cell_type": "markdown",
      "metadata": {
        "gloss": {
          "3-sat": {
            "text": "Similar to sudoku, 3-SAT is a problem where you need to find a string of bits according to certain constraints.",
            "title": "3-SAT"
          },
          "sudoku": {
            "text": "A sudoku is a type of puzzle. To solve it, you need to fill in numbers in a grid according to certain constraints. <a href='https://en.wikipedia.org/wiki/Sudoku'>Read more</a>.",
            "title": "Sudoku"
          }
        }
      },
      "source": [
        "## Di luar kotak hitam\n",
        "\n",
        "Algoritma pencarian dapat mencari database dari informasi yang dikumpulkan seperti buku telepon, tetapi mereka juga dapat melakukan lebih dari itu. Jika kita dapat membuat suatu masalah *terlihat* seperti masalah pencarian basis data, maka kita dapat menggunakan algoritma pencarian untuk menyelesaikannya. Sebagai contoh, mari pertimbangkan masalah memecahkan [sudoku](gloss:sudoku). Jika seseorang mengklaim telah memecahkan sudoku, Anda dapat memeriksa apakah itu diselesaikan dengan cukup cepat: Anda memeriksa setiap baris, memeriksa setiap kolom, memeriksa setiap kotak, dan Anda selesai. Dalam pengertian ini, *Anda* adalah basis datanya, dan orang yang memberi Anda solusi sedang menanyakan Anda. Mereka mencoba mencari masukan yang mengembalikan informasi “Iya ini adalah solusi yang valid”.\n",
        "\n",
        "Faktanya, kita dapat menampilkan banyak masalah komputasi seperti \"menemukan input yang menghasilkan output tertentu\".\n",
        "\n",
        "![Kita dapat melihat program yang menilai solusi yang diusulkan sebagai database.](images/grover/database-computation.svg)\n",
        "\n",
        "<!-- vale QiskitTextbook.Acronyms = NO -->\n",
        "\n",
        "Salah satu contoh masalah yang dapat kita selesaikan seperti ini adalah Boolean Satisfiability Problem (dikenal sebagai 'SAT').\n",
        "\n",
        "## Masalah SAT\n",
        "\n",
        "Masalah SAT dipelajari secara luas dalam ilmu komputer, dan banyak masalah komputasi lainnya dapat diubah menjadi masalah SAT. Di halaman ini kita akan menggunakan algoritma Grover untuk menyelesaikan masalah SAT sederhana, dan Anda dapat menggunakan keterampilan yang Anda pelajari di sini untuk menerapkan algoritma pencarian kuantum ke masalah lain.\n",
        "\n",
        "Solusi untuk masalah SAT adalah rangkaian bit, yang memudahkan pemetaan ke sirkuit kuantum. Masalahnya sendiri pada dasarnya adalah sekumpulan kondisi (kita menyebutnya klausa) yang mengesampingkan kombinasi nilai bit yang berbeda. Misalnya, jika kita memiliki tiga bit, salah satu klausanya mungkin adalah \"Anda tidak dapat `ON` bit nol *dan* bit pertama `OFF` \", yang akan mengesampingkan kombinasi `101` dan `001` sebagai solusi yang valid.\n",
        "\n",
        "Ini file yang menyandikan masalah *\" [3-SAT](gloss:3-sat) \"*, yang merupakan masalah SAT di mana setiap klausa merujuk tepat ke 3 bit, dan salah satu dari kondisi bit ini di setiap klausa harus dipenuhi. "
      ]
    },
    {
      "cell_type": "markdown",
      "metadata": {
        "formulas": {
          "_dimacs-c": {
            "meaning": "In the DIMACS file format, the character '<code>c</code>' signals that this line is a comment and can be ignored."
          },
          "_dimacs-clause-1": {
            "meaning": "In the DIMACS file format, this clause states that we need either bit #1 to be <code>ON</code>, bit #2 to be <code>OFF</code>, <i>or</i> bit #3 to be <code>ON</code>. If any of these conditions are satisfied, the clause is satisfied, so the only combination that <i>wouldn’t</i> satisfy this would be bits 1, 2, and 3 being <code>OFF</code>, <code>ON</code>, <code>OFF</code> respectively. The <code>0</code> indicates the end of the line."
          },
          "_dimacs-clause-3": {
            "meaning": "In the DIMACS file format, this clause states that we need either bit #1 to be <code>ON</code>, bit #2 to be <code>OFF</code>, <i>or</i> bit #3 to be <code>OFF</code>. If any of these conditions are satisfied, the clause is satisfied, so the only combination that <i>wouldn’t</i> satisfy this would be bits 1, 2, and 3 being <code>OFF</code>, <code>ON</code>, <code>ON</code> respectively. The <code>0</code> indicates the end of the line."
          },
          "_dimacs-clause-4": {
            "meaning": "In the DIMACS file format, this clause states that we need either bit #1 to be <code>OFF</code>, bit #2 to be <code>ON</code>, <i>or</i> bit #3 to be <code>ON</code>. If any of these conditions are satisfied, the clause is satisfied, so the only combination that <i>wouldn’t</i> satisfy this would be bits 1, 2, and 3 being <code>ON</code>, <code>OFF</code>, <code>OFF</code> respectively. The <code>0</code> indicates the end of the line."
          },
          "_dimacs-problem": {
            "meaning": "In the DIMACS file format, a line starting with '<code>p</code>' specifies the type of problem. This problem is conjunctive normal form, with 3 variables (bits) and 5 clauses."
          }
        }
      },
      "source": [
        "<!-- ::: q-block -->\n",
        "\n",
        "### Contoh soal 3-SAT\n",
        "\n",
        "Berikut adalah contoh soal 3-SAT, disimpan dalam format file bernama \"DIMACS CNF\". File-file ini sangat sederhana dan hanya salah satu cara untuk menyimpan masalah SAT.\n",
        "\n",
        "$\\cssId{_dimacs-c}{\\texttt{c example DIMACS-CNF 3-SAT}}$ <br> $\\cssId{_dimacs-problem}{\\texttt{p cnf 3 5}}$ <br> $\\texttt{-1 -2 -3 0}$<br> $\\cssId{_dimacs-clause-1}{\\texttt{1 -2 3 0}}$ <br> $\\texttt{1 2 -3 0}$<br> $\\cssId{_dimacs-clause-3}{\\texttt{1 -2 -3 0}}$ <br> $\\cssId{_dimacs-clause-4}{\\texttt{-1 2 3 0}}$ <br>\n",
        "\n",
        "<!-- ::: -->"
      ]
    },
    {
      "cell_type": "markdown",
      "metadata": {
      },
      "source": [
        "<!-- vale QiskitTextbook.SentenceLengthWarning = NO -->\n",
        "\n",
        "Seperti sudoku, mudah untuk memeriksa apakah bit string adalah solusi yang valid untuk masalah SAT; kita hanya melihat setiap klausa secara bergantian dan melihat apakah string kita tidak mematuhi salah satunya. Dalam kursus ini, kita tidak akan khawatir tentang bagaimana kita melakukannya di sirkuit kuantum. Ingat saja kita memiliki algoritma klasik yang efisien untuk memeriksa solusi SAT, dan untuk saat ini kita hanya akan menggunakan alat bawaan Qiskit untuk membangun sirkuit yang melakukan ini untuk kita.\n",
        "\n",
        "<!-- vale QiskitTextbook.SentenceLengthWarning = YES -->\n",
        "\n",
        "Kita telah menyimpan file ini di dalam `examples/3sat.dimacs` (relatif terhadap kode yang kita jalankan)."
      ]
    },
    {
      "cell_type": "code",
      "execution_count": 1,
      "metadata": {
      },
      "outputs": [
        {
          "name": "stdout",
          "output_type": "stream",
          "text": [
            "c example DIMACS-CNF 3-SAT\n",
            "p cnf 3 5\n",
            "-1 -2 -3 0\n",
            "1 -2 3 0\n",
            "1 2 -3 0\n",
            "1 -2 -3 0\n",
            "-1 2 3 0\n"
          ]
        }
      ],
      "source": [
        "with open('examples/3sat.dimacs', 'r', encoding='utf8') as f:\n",
        "    dimacs = f.read()\n",
        "print(dimacs)  # mari kita periksa apakah file tersebut sesuai dengan yang dijanjikan"
      ]
    },
    {
      "cell_type": "markdown",
      "metadata": {
      },
      "source": [
        "<!-- vale QiskitTextbook.SentenceLengthWarning = NO -->\n",
        "\n",
        "Kita dapat menggunakan library sirkuit Qiskit untuk membuat sirkuit yang melakukan pekerjaan oracle yang kami jelaskan di atas (kita akan tetap menyebut sirkuit ini sebagai 'oracle' meskipun tidak lagi ajaib dan mahakuasa)."
      ]
    },
    {
      "cell_type": "code",
      "execution_count": 2,
      "metadata": {
      },
      "outputs": [
        {
          "data": {
            "image/svg+xml": [
              "<?xml version=\"1.0\" encoding=\"UTF-8\"?><!DOCTYPE svg  PUBLIC '-//W3C//DTD SVG 1.1//EN'  'http://www.w3.org/Graphics/SVG/1.1/DTD/svg11.dtd'><svg width=\"312.85pt\" height=\"172pt\" version=\"1.1\" viewBox=\"0 0 312.85 172\" xmlns=\"http://www.w3.org/2000/svg\" xmlns:xlink=\"http://www.w3.org/1999/xlink\"><defs><style type=\"text/css\">*{stroke-linejoin: round; stroke-linecap: butt}</style></defs><path d=\"m0 172h312.85v-172h-312.85z\" fill=\"#ffffff\"/><path d=\"m64.609 44.283h236.41\" clip-path=\"url(#p775cf299cd)\" fill=\"none\" stroke=\"#000000\" stroke-linecap=\"square\" stroke-width=\"2\"/><path d=\"m64.609 90.637h236.41\" clip-path=\"url(#p775cf299cd)\" fill=\"none\" stroke=\"#000000\" stroke-linecap=\"square\" stroke-width=\"2\"/><path d=\"m64.609 136.99h236.41\" clip-path=\"url(#p775cf299cd)\" fill=\"none\" stroke=\"#000000\" stroke-linecap=\"square\" stroke-width=\"2\"/><path d=\"m89.64 136.99v-92.708\" clip-path=\"url(#p775cf299cd)\" fill=\"none\" stroke=\"#6929c4\" stroke-linecap=\"square\" stroke-width=\"2\"/><path d=\"m228.7 90.637v-46.354\" clip-path=\"url(#p775cf299cd)\" fill=\"none\" stroke=\"#6929c4\" stroke-linecap=\"square\" stroke-width=\"2\"/><path d=\"m89.64 136.99v-92.708\" clip-path=\"url(#p775cf299cd)\" fill=\"none\" stroke=\"#6929c4\" stroke-linecap=\"square\" stroke-width=\"2\"/><path d=\"m228.7 90.637v-46.354\" clip-path=\"url(#p775cf299cd)\" fill=\"none\" stroke=\"#6929c4\" stroke-linecap=\"square\" stroke-width=\"2\"/><path d=\"m89.64 48.803c1.1986 0 2.3482-0.4762 3.1958-1.3237 0.84753-0.84753 1.3237-1.9972 1.3237-3.1958 0-1.1986-0.4762-2.3482-1.3237-3.1958-0.84753-0.84753-1.9972-1.3237-3.1958-1.3237-1.1986 0-2.3482 0.4762-3.1958 1.3237-0.84753 0.84753-1.3237 1.9972-1.3237 3.1958 0 1.1986 0.4762 2.3482 1.3237 3.1958 0.84753 0.84753 1.9972 1.3237 3.1958 1.3237z\" clip-path=\"url(#p775cf299cd)\" fill=\"#ffffff\" stroke=\"#6929c4\" stroke-width=\"1.5\"/><path d=\"m89.64 141.51c1.1986 0 2.3482-0.4762 3.1958-1.3237 0.84753-0.84753 1.3237-1.9972 1.3237-3.1958 0-1.1986-0.4762-2.3482-1.3237-3.1958-0.84753-0.84753-1.9972-1.3237-3.1958-1.3237-1.1986 0-2.3482 0.4762-3.1958 1.3237-0.84753 0.84753-1.3237 1.9972-1.3237 3.1958 0 1.1986 0.4762 2.3482 1.3237 3.1958 0.84753 0.84753 1.9972 1.3237 3.1958 1.3237z\" clip-path=\"url(#p775cf299cd)\" fill=\"#ffffff\" stroke=\"#6929c4\" stroke-width=\"1.5\"/><path d=\"m89.64 95.157c1.1986 0 2.3482-0.4762 3.1958-1.3237 0.84753-0.84753 1.3237-1.9972 1.3237-3.1958s-0.4762-2.3482-1.3237-3.1958c-0.84753-0.84753-1.9972-1.3237-3.1958-1.3237-1.1986 0-2.3482 0.4762-3.1958 1.3237-0.84753 0.84753-1.3237 1.9972-1.3237 3.1958s0.4762 2.3482 1.3237 3.1958c0.84753 0.84753 1.9972 1.3237 3.1958 1.3237z\" clip-path=\"url(#p775cf299cd)\" fill=\"#6929c4\" stroke=\"#6929c4\" stroke-width=\"1.5\"/><path d=\"m120.93 105.7h30.13v-30.13h-30.13z\" clip-path=\"url(#p775cf299cd)\" fill=\"#005d5d\" stroke=\"#005d5d\" stroke-width=\"1.5\"/><path d=\"m120.93 152.06h30.13v-30.13h-30.13z\" clip-path=\"url(#p775cf299cd)\" fill=\"#005d5d\" stroke=\"#005d5d\" stroke-width=\"1.5\"/><path d=\"m167.28 105.7h30.13v-30.13h-30.13z\" clip-path=\"url(#p775cf299cd)\" fill=\"#005d5d\" stroke=\"#005d5d\" stroke-width=\"1.5\"/><path d=\"m228.7 48.803c1.1986 0 2.3482-0.4762 3.1958-1.3237s1.3237-1.9972 1.3237-3.1958c0-1.1986-0.4762-2.3482-1.3237-3.1958s-1.9972-1.3237-3.1958-1.3237c-1.1986 0-2.3482 0.4762-3.1958 1.3237-0.84753 0.84753-1.3237 1.9972-1.3237 3.1958 0 1.1986 0.4762 2.3482 1.3237 3.1958 0.84753 0.84753 1.9972 1.3237 3.1958 1.3237z\" clip-path=\"url(#p775cf299cd)\" fill=\"#ffffff\" stroke=\"#6929c4\" stroke-width=\"1.5\"/><path d=\"m228.7 95.157c1.1986 0 2.3482-0.4762 3.1958-1.3237 0.84753-0.84753 1.3237-1.9972 1.3237-3.1958s-0.4762-2.3482-1.3237-3.1958c-0.84753-0.84753-1.9972-1.3237-3.1958-1.3237-1.1986 0-2.3482 0.4762-3.1958 1.3237-0.84753 0.84753-1.3237 1.9972-1.3237 3.1958s0.4762 2.3482 1.3237 3.1958c0.84753 0.84753 1.9972 1.3237 3.1958 1.3237z\" clip-path=\"url(#p775cf299cd)\" fill=\"#6929c4\" stroke=\"#6929c4\" stroke-width=\"1.5\"/><path d=\"m259.99 105.7h30.13v-30.13h-30.13z\" clip-path=\"url(#p775cf299cd)\" fill=\"#005d5d\" stroke=\"#005d5d\" stroke-width=\"1.5\"/><g clip-path=\"url(#p775cf299cd)\"><g transform=\"translate(37.301 48.734) scale(.1625 -.1625)\"><defs><path id=\"DejaVuSans-Oblique-71\" transform=\"scale(.015625)\" d=\"m2669 525q-231-303-546-460-314-156-695-156-531 0-833 358-301 358-301 986 0 506 186 978t533 847q225 244 517 375t614 131q387 0 637-153t363-462l100 525h578l-934-4813h-579l360 1844zm-1778 813q0-463 193-705 194-242 560-242 544 0 928 520t384 1264q0 450-199 689-198 239-569 239-272 0-504-127-231-126-403-370-181-256-286-600-104-343-104-668z\"/><path id=\"DejaVuSans-30\" transform=\"scale(.015625)\" d=\"m2034 4250q-487 0-733-480-245-479-245-1442 0-959 245-1439 246-480 733-480 491 0 736 480 246 480 246 1439 0 963-246 1442-245 480-736 480zm0 500q785 0 1199-621 414-620 414-1801 0-1178-414-1799-414-620-1199-620-784 0-1198 620-414 621-414 1799 0 1181 414 1801 414 621 1198 621z\"/></defs><use xlink:href=\"#DejaVuSans-Oblique-71\"/><use transform=\"translate(63.477 -16.406) scale(.7)\" xlink:href=\"#DejaVuSans-30\"/></g></g><g clip-path=\"url(#p775cf299cd)\"><g transform=\"translate(37.301 95.088) scale(.1625 -.1625)\"><defs><path id=\"DejaVuSans-31\" transform=\"scale(.015625)\" d=\"m794 531h1031v3560l-1122-225v575l1116 225h631v-4135h1031v-531h-2687v531z\"/></defs><use xlink:href=\"#DejaVuSans-Oblique-71\"/><use transform=\"translate(63.477 -16.406) scale(.7)\" xlink:href=\"#DejaVuSans-31\"/></g></g><g clip-path=\"url(#p775cf299cd)\"><g transform=\"translate(37.301 141.44) scale(.1625 -.1625)\"><defs><path id=\"DejaVuSans-32\" transform=\"scale(.015625)\" d=\"m1228 531h2203v-531h-2962v531q359 372 979 998 621 627 780 809 303 340 423 576 121 236 121 464 0 372-261 606-261 235-680 235-297 0-627-103-329-103-704-313v638q381 153 712 231 332 78 607 78 725 0 1156-363 431-362 431-968 0-288-108-546-107-257-392-607-78-91-497-524-418-433-1181-1211z\"/></defs><use xlink:href=\"#DejaVuSans-Oblique-71\"/><use transform=\"translate(63.477 -16.406) scale(.7)\" xlink:href=\"#DejaVuSans-32\"/></g></g><g clip-path=\"url(#p775cf299cd)\"><g transform=\"translate(131.54 94.224) scale(.13 -.13)\" fill=\"#ffffff\"><defs><path id=\"DejaVuSans-5a\" transform=\"scale(.015625)\" d=\"m359 4666h3666v-482l-2950-3653h3022v-531h-3809v481l2950 3653h-2879v532z\"/></defs><use xlink:href=\"#DejaVuSans-5a\"/></g></g><g clip-path=\"url(#p775cf299cd)\"><g transform=\"translate(131.54 140.58) scale(.13 -.13)\" fill=\"#ffffff\"><use xlink:href=\"#DejaVuSans-5a\"/></g></g><g clip-path=\"url(#p775cf299cd)\"><g transform=\"translate(177.9 94.224) scale(.13 -.13)\" fill=\"#ffffff\"><defs><path id=\"DejaVuSans-58\" transform=\"scale(.015625)\" d=\"m403 4666h678l1160-1735 1165 1735h678l-1500-2241 1600-2425h-678l-1312 1984-1322-1984h-681l1665 2491-1453 2175z\"/></defs><use xlink:href=\"#DejaVuSans-58\"/></g></g><g clip-path=\"url(#p775cf299cd)\"><g transform=\"translate(270.6 94.224) scale(.13 -.13)\" fill=\"#ffffff\"><use xlink:href=\"#DejaVuSans-58\"/></g></g><defs><clipPath id=\"p775cf299cd\"><rect x=\"7.2\" y=\"7.2\" width=\"298.45\" height=\"157.6\"/></clipPath></defs></svg>"
            ],
            "text/plain": [
              "<Figure size 538.33x284.278 with 1 Axes>"
            ]
          },
          "execution_count": 2,
          "metadata": {
          },
          "output_type": "execute_result"
        }
      ],
      "source": [
        "from qiskit.circuit.library import PhaseOracle\n",
        "oracle = PhaseOracle.from_dimacs_file('examples/3sat.dimacs')\n",
        "oracle.draw()"
      ]
    },
    {
      "cell_type": "markdown",
      "metadata": {
      },
      "source": [
        "Sirkuit diatas bertindak mirip dengan database yang kita jelaskan sebelumnya. Input ke sirkuit ini adalah string 3 bit, dan output yang diberikan bergantung pada apakah input string tersebut merupakan solusi untuk masalah SAT atau tidak.\n",
        "\n",
        "Hasil dari komputasi pengecekan ini masih berupa `True` atau `False`, tapi perilaku dari sirkuit ini sedikit berbeda yang yang Anda harapkan. Untuk menggunakan sirkuit ini dengan algoritma Grover, kita ingin oracle mengubah fase keadaan output sebesar 180° (yakni dikalikan dengan -1) jika keadaan adalah solusi. Inilah mengapa Qiskit menyebut kelas '`PhaseOracle`'.\n",
        "\n",
        "$$ U_\\text{oracle}|x\\rangle = \\bigg{ \\begin{aligned} \\phantom{-}|x\\rangle &amp; \\quad \\text{if $x$ is not a solution} \\ -|x\\rangle &amp; \\quad \\text{if $x$ is a solution} \\ \\end{aligned} $$\n",
        "\n",
        "Sebagai contoh, satu-satunya solusi untuk masalah ini adalah `000`. `011`, dan `101`, jadi sirkuit diatas mempunyai matriks berikut:\n",
        "\n",
        "$$ U_\\text{oracle} = \\begin{bmatrix} -1 &amp; 0 &amp; 0 &amp;  0 &amp; 0 &amp;  0 &amp; 0 &amp; 0  \\ 0 &amp; 1 &amp; 0 &amp;  0 &amp; 0 &amp;  0 &amp; 0 &amp; 0  \\ 0 &amp; 0 &amp; 1 &amp;  0 &amp; 0 &amp;  0 &amp; 0 &amp; 0  \\ 0 &amp; 0 &amp; 0 &amp; -1 &amp; 0 &amp;  0 &amp; 0 &amp; 0  \\ 0 &amp; 0 &amp; 0 &amp;  0 &amp; 1 &amp;  0 &amp; 0 &amp; 0  \\ 0 &amp; 0 &amp; 0 &amp;  0 &amp; 0 &amp; -1 &amp; 0 &amp; 0  \\ 0 &amp; 0 &amp; 0 &amp;  0 &amp; 0 &amp;  0 &amp; 1 &amp; 0  \\ 0 &amp; 0 &amp; 0 &amp;  0 &amp; 0 &amp;  0 &amp; 0 &amp; 1  \\ \\end{bmatrix} $$\n",
        "\n",
        "Untuk meringkas:\n",
        "\n",
        "1. Ada masalah yang mudah diperiksa apakah solusi yang diusulkan benar.\n",
        "2. Kita dapat mengonversi algoritma yang memeriksa solusi menjadi sirkuit quantum yang mengganti fase status dari status solusi.\n",
        "3. Kita kemudian dapat menggunakan algoritma Grover untuk mengetahui status mana yang fasenya berubah.\n",
        "\n",
        "Dalam pengertian ini, database atau oracle *adalah masalah* yang harus dipecahkan.\n",
        "\n",
        "![Gambar yang menunjukkan input ke algoritma Grover sebagai oracle dan output adalah solusi untuk oracle tersebut](images/grover/grover-input-output.svg)"
      ]
    },
    {
      "cell_type": "markdown",
      "metadata": {
      },
      "source": [
        "## Gambaran umum tentang algoritma Grover\n",
        "\n",
        "Sekarang kita memahami masalahnya, akhirnya kita sampai pada algoritma Grover. Algoritma Grover memiliki tiga langkah:\n",
        "\n",
        "1. Langkah pertama adalah membuat superposisi yang setara dari setiap input yang mungkin ke oracle. jika semua qubit kita dimulai dalam keadaan $|0\\rangle$, kita dapat membuat superposisi ini dengan menerapkan gerbang H ke setiap qubit. Kita akan menyebut keadaan superposisi yang sama ini '$|s\\rangle$'.\n",
        "\n",
        "2. Langkah selanjutnya adalah menjalankan sirkuit oracle ($U_\\text{oracle}$) pada qubit ini. Di halaman ini, kita akan menggunakan sirkuit (`oracle`) yang dibuat Qiskit  untuk kita di atas, tetapi kita dapat menggunakan sirkuit atau perangkat keras apa pun yang mengubah fase dari keadaan solusi.\n",
        "\n",
        "3. Langkah terakhir adalah menjalankan sirkuit yang disebut 'operator difusi' atau 'diffuser' ($U_s$) pada qubit. Kita akan membahas sirkuit ini saat menjelajahi algoritma Grover di bagian selanjutnya, tetapi ini adalah sirkuit yang sangat sederhana yang sama untuk semua oracle.\n",
        "\n",
        "Kita selanjutnya perlu mengulangi langkah 2 &amp; 3 beberapa kali tergantung pada ukuran sirkuit. Perhatikan bahwa kita mengkueri oracle pada langkah #2, sehingga jumlah kueri kira-kira sebanding dengan akar kuadrat dari jumlah input yang mungkin. Jika kita mengulangi 2 &amp; 3 kali dalam jumlah yang tepat, maka saat kita mengukur, kita akan memiliki peluang yang besar untuk mengukur solusi ke oracle.\n",
        "\n",
        "![Diagram sirkuit ringkas dari algoritma Grover](images/grover/grover-circuit-high-level.png)"
      ]
    },
    {
      "cell_type": "code",
      "execution_count": 3,
      "metadata": {
      },
      "outputs": [
        {
          "data": {
            "image/svg+xml": [
              "<?xml version=\"1.0\" encoding=\"UTF-8\"?><!DOCTYPE svg  PUBLIC '-//W3C//DTD SVG 1.1//EN'  'http://www.w3.org/Graphics/SVG/1.1/DTD/svg11.dtd'><svg width=\"127.43pt\" height=\"172pt\" version=\"1.1\" viewBox=\"0 0 127.43 172\" xmlns=\"http://www.w3.org/2000/svg\" xmlns:xlink=\"http://www.w3.org/1999/xlink\"><defs><style type=\"text/css\">*{stroke-linejoin: round; stroke-linecap: butt}</style></defs><path d=\"m0 172h127.43v-172h-127.43z\" fill=\"#ffffff\"/><path d=\"m64.609 44.283h50.989\" clip-path=\"url(#pe17be826d0)\" fill=\"none\" stroke=\"#000000\" stroke-linecap=\"square\" stroke-width=\"2\"/><path d=\"m64.609 90.637h50.989\" clip-path=\"url(#pe17be826d0)\" fill=\"none\" stroke=\"#000000\" stroke-linecap=\"square\" stroke-width=\"2\"/><path d=\"m64.609 136.99h50.989\" clip-path=\"url(#pe17be826d0)\" fill=\"none\" stroke=\"#000000\" stroke-linecap=\"square\" stroke-width=\"2\"/><path d=\"m74.575 59.348h30.13v-30.13h-30.13z\" clip-path=\"url(#pe17be826d0)\" fill=\"#1192e8\" stroke=\"#1192e8\" stroke-width=\"1.5\"/><path d=\"m74.575 105.7h30.13v-30.13h-30.13z\" clip-path=\"url(#pe17be826d0)\" fill=\"#1192e8\" stroke=\"#1192e8\" stroke-width=\"1.5\"/><path d=\"m74.575 152.06h30.13v-30.13h-30.13z\" clip-path=\"url(#pe17be826d0)\" fill=\"#1192e8\" stroke=\"#1192e8\" stroke-width=\"1.5\"/><g clip-path=\"url(#pe17be826d0)\"><g transform=\"translate(37.301 48.734) scale(.1625 -.1625)\"><defs><path id=\"DejaVuSans-Oblique-71\" transform=\"scale(.015625)\" d=\"m2669 525q-231-303-546-460-314-156-695-156-531 0-833 358-301 358-301 986 0 506 186 978t533 847q225 244 517 375t614 131q387 0 637-153t363-462l100 525h578l-934-4813h-579l360 1844zm-1778 813q0-463 193-705 194-242 560-242 544 0 928 520t384 1264q0 450-199 689-198 239-569 239-272 0-504-127-231-126-403-370-181-256-286-600-104-343-104-668z\"/><path id=\"DejaVuSans-30\" transform=\"scale(.015625)\" d=\"m2034 4250q-487 0-733-480-245-479-245-1442 0-959 245-1439 246-480 733-480 491 0 736 480 246 480 246 1439 0 963-246 1442-245 480-736 480zm0 500q785 0 1199-621 414-620 414-1801 0-1178-414-1799-414-620-1199-620-784 0-1198 620-414 621-414 1799 0 1181 414 1801 414 621 1198 621z\"/></defs><use xlink:href=\"#DejaVuSans-Oblique-71\"/><use transform=\"translate(63.477 -16.406) scale(.7)\" xlink:href=\"#DejaVuSans-30\"/></g></g><g clip-path=\"url(#pe17be826d0)\"><g transform=\"translate(37.301 95.088) scale(.1625 -.1625)\"><defs><path id=\"DejaVuSans-31\" transform=\"scale(.015625)\" d=\"m794 531h1031v3560l-1122-225v575l1116 225h631v-4135h1031v-531h-2687v531z\"/></defs><use xlink:href=\"#DejaVuSans-Oblique-71\"/><use transform=\"translate(63.477 -16.406) scale(.7)\" xlink:href=\"#DejaVuSans-31\"/></g></g><g clip-path=\"url(#pe17be826d0)\"><g transform=\"translate(37.301 141.44) scale(.1625 -.1625)\"><defs><path id=\"DejaVuSans-32\" transform=\"scale(.015625)\" d=\"m1228 531h2203v-531h-2962v531q359 372 979 998 621 627 780 809 303 340 423 576 121 236 121 464 0 372-261 606-261 235-680 235-297 0-627-103-329-103-704-313v638q381 153 712 231 332 78 607 78 725 0 1156-363 431-362 431-968 0-288-108-546-107-257-392-607-78-91-497-524-418-433-1181-1211z\"/></defs><use xlink:href=\"#DejaVuSans-Oblique-71\"/><use transform=\"translate(63.477 -16.406) scale(.7)\" xlink:href=\"#DejaVuSans-32\"/></g></g><g clip-path=\"url(#pe17be826d0)\"><g transform=\"translate(84.752 47.87) scale(.13 -.13)\" fill=\"#ffffff\"><defs><path id=\"DejaVuSans-48\" transform=\"scale(.015625)\" d=\"m628 4666h631v-1913h2294v1913h631v-4666h-631v2222h-2294v-2222h-631v4666z\"/></defs><use xlink:href=\"#DejaVuSans-48\"/></g></g><g clip-path=\"url(#pe17be826d0)\"><g transform=\"translate(84.752 94.224) scale(.13 -.13)\" fill=\"#ffffff\"><use xlink:href=\"#DejaVuSans-48\"/></g></g><g clip-path=\"url(#pe17be826d0)\"><g transform=\"translate(84.752 140.58) scale(.13 -.13)\" fill=\"#ffffff\"><use xlink:href=\"#DejaVuSans-48\"/></g></g><defs><clipPath id=\"pe17be826d0\"><rect x=\"7.2\" y=\"7.2\" width=\"113.03\" height=\"157.6\"/></clipPath></defs></svg>"
            ],
            "text/plain": [
              "<Figure size 203.885x284.278 with 1 Axes>"
            ]
          },
          "execution_count": 3,
          "metadata": {
          },
          "output_type": "execute_result"
        }
      ],
      "source": [
        "from qiskit import QuantumCircuit\n",
        "init = QuantumCircuit(3)\n",
        "init.h([0,1,2])\n",
        "init.draw()"
      ]
    },
    {
      "cell_type": "markdown",
      "metadata": {
      },
      "source": [
        "Selanjutnya, kita dapat kembali menggunakan alat Qiskit untuk membuat sirkuit yang melakukan langkah 2 &amp; 3 untuk kita. "
      ]
    },
    {
      "cell_type": "code",
      "execution_count": 4,
      "metadata": {
      },
      "outputs": [

      ],
      "source": [
        "# langkah 2 & 3 dari algoritma Grover\n",
        "from qiskit.circuit.library import GroverOperator\n",
        "grover_operator = GroverOperator(oracle)"
      ]
    },
    {
      "cell_type": "markdown",
      "metadata": {
      },
      "source": [
        "Dan kita bisa menggabungkan ini menjadi rangkaian yang menjalankan algoritma Grover. Di sini, kita tidak akan mengulangi langkah 2 &amp; 3 karena ini adalah masalah kecil dan melakukannya sekali saja sudah cukup."
      ]
    },
    {
      "cell_type": "code",
      "execution_count": 5,
      "metadata": {
      },
      "outputs": [
        {
          "data": {
            "image/svg+xml": [
              "<?xml version=\"1.0\" encoding=\"UTF-8\"?><!DOCTYPE svg  PUBLIC '-//W3C//DTD SVG 1.1//EN'  'http://www.w3.org/Graphics/SVG/1.1/DTD/svg11.dtd'><svg width=\"382.52pt\" height=\"218.36pt\" version=\"1.1\" viewBox=\"0 0 382.52 218.36\" xmlns=\"http://www.w3.org/2000/svg\" xmlns:xlink=\"http://www.w3.org/1999/xlink\"><defs><style type=\"text/css\">*{stroke-linejoin: round; stroke-linecap: butt}</style></defs><path d=\"m0 218.36h382.52v-218.36h-382.52z\" fill=\"#ffffff\"/><path d=\"m245.99 172.8h12.052l-6.026 8.6914z\" clip-path=\"url(#pc4e2fe188c)\" fill=\"#778899\"/><path d=\"m292.35 172.8h12.052l-6.026 8.6914z\" clip-path=\"url(#pc4e2fe188c)\" fill=\"#778899\"/><path d=\"m338.7 172.8h12.052l-6.026 8.6914z\" clip-path=\"url(#pc4e2fe188c)\" fill=\"#778899\"/><path d=\"m87.926 44.283h282.76\" clip-path=\"url(#pc4e2fe188c)\" fill=\"none\" stroke=\"#000000\" stroke-linecap=\"square\" stroke-width=\"2\"/><path d=\"m87.926 90.637h282.76\" clip-path=\"url(#pc4e2fe188c)\" fill=\"none\" stroke=\"#000000\" stroke-linecap=\"square\" stroke-width=\"2\"/><path d=\"m87.926 136.99h282.76\" clip-path=\"url(#pc4e2fe188c)\" fill=\"none\" stroke=\"#000000\" stroke-linecap=\"square\" stroke-width=\"2\"/><path d=\"m87.926 181.84h282.76\" clip-path=\"url(#pc4e2fe188c)\" fill=\"none\" stroke=\"#778899\" stroke-linecap=\"square\" stroke-width=\"2\"/><path d=\"m87.926 184.85h282.76\" clip-path=\"url(#pc4e2fe188c)\" fill=\"none\" stroke=\"#778899\" stroke-linecap=\"square\" stroke-width=\"2\"/><path d=\"m97.197 187.98 4.6354-9.2708\" clip-path=\"url(#pc4e2fe188c)\" fill=\"none\" stroke=\"#778899\" stroke-linecap=\"square\"/><path d=\"m196.63 67.46h18.078v-46.354h-18.078z\" clip-path=\"url(#pc4e2fe188c)\" fill=\"#bdbdbd\" opacity=\".6\"/><path d=\"m196.63 113.81h18.078v-46.354h-18.078z\" clip-path=\"url(#pc4e2fe188c)\" fill=\"#bdbdbd\" opacity=\".6\"/><path d=\"m196.63 160.17h18.078v-46.354h-18.078z\" clip-path=\"url(#pc4e2fe188c)\" fill=\"#bdbdbd\" opacity=\".6\"/><path d=\"m253.53 44.283v128.52\" clip-path=\"url(#pc4e2fe188c)\" fill=\"none\" stroke=\"#778899\" stroke-linecap=\"square\" stroke-width=\"2\"/><path d=\"m250.51 44.283v128.52\" clip-path=\"url(#pc4e2fe188c)\" fill=\"none\" stroke=\"#778899\" stroke-linecap=\"square\" stroke-width=\"2\"/><path d=\"m299.88 90.637v82.162\" clip-path=\"url(#pc4e2fe188c)\" fill=\"none\" stroke=\"#778899\" stroke-linecap=\"square\" stroke-width=\"2\"/><path d=\"m296.87 90.637v82.162\" clip-path=\"url(#pc4e2fe188c)\" fill=\"none\" stroke=\"#778899\" stroke-linecap=\"square\" stroke-width=\"2\"/><path d=\"m346.23 136.99v35.808\" clip-path=\"url(#pc4e2fe188c)\" fill=\"none\" stroke=\"#778899\" stroke-linecap=\"square\" stroke-width=\"2\"/><path d=\"m343.22 136.99v35.808\" clip-path=\"url(#pc4e2fe188c)\" fill=\"none\" stroke=\"#778899\" stroke-linecap=\"square\" stroke-width=\"2\"/><path d=\"m97.892 59.348h30.13v-30.13h-30.13z\" clip-path=\"url(#pc4e2fe188c)\" fill=\"#1192e8\" stroke=\"#1192e8\" stroke-width=\"1.5\"/><path d=\"m97.892 105.7h30.13v-30.13h-30.13z\" clip-path=\"url(#pc4e2fe188c)\" fill=\"#1192e8\" stroke=\"#1192e8\" stroke-width=\"1.5\"/><path d=\"m97.892 152.06h30.13v-30.13h-30.13z\" clip-path=\"url(#pc4e2fe188c)\" fill=\"#1192e8\" stroke=\"#1192e8\" stroke-width=\"1.5\"/><path d=\"m144.25 152.06h30.13v-122.84h-30.13z\" clip-path=\"url(#pc4e2fe188c)\" fill=\"#6929c4\" stroke=\"#6929c4\" stroke-width=\"1.5\"/><path d=\"m236.95 59.348h30.13v-30.13h-30.13z\" clip-path=\"url(#pc4e2fe188c)\" fill=\"#121619\" stroke=\"#121619\" stroke-width=\"1.5\"/><path d=\"m262.56 48.803c0-2.7958-1.1118-5.4799-3.0887-7.4568s-4.661-3.0887-7.4568-3.0887c-2.7958 0-5.4799 1.1118-7.4568 3.0887s-3.0887 4.661-3.0887 7.4568\" clip-path=\"url(#pc4e2fe188c)\" fill=\"none\" stroke=\"#ffffff\" stroke-width=\"2\"/><path d=\"m252.02 48.803 10.546-10.546\" clip-path=\"url(#pc4e2fe188c)\" fill=\"none\" stroke=\"#ffffff\" stroke-linecap=\"square\" stroke-width=\"2\"/><path d=\"m283.31 105.7h30.13v-30.13h-30.13z\" clip-path=\"url(#pc4e2fe188c)\" fill=\"#121619\" stroke=\"#121619\" stroke-width=\"1.5\"/><path d=\"m308.92 95.157c0-2.7958-1.1118-5.4799-3.0887-7.4568s-4.661-3.0887-7.4568-3.0887-5.4799 1.1118-7.4568 3.0887-3.0887 4.661-3.0887 7.4568\" clip-path=\"url(#pc4e2fe188c)\" fill=\"none\" stroke=\"#ffffff\" stroke-width=\"2\"/><path d=\"m298.37 95.157 10.546-10.546\" clip-path=\"url(#pc4e2fe188c)\" fill=\"none\" stroke=\"#ffffff\" stroke-linecap=\"square\" stroke-width=\"2\"/><path d=\"m329.66 152.06h30.13v-30.13h-30.13z\" clip-path=\"url(#pc4e2fe188c)\" fill=\"#121619\" stroke=\"#121619\" stroke-width=\"1.5\"/><path d=\"m355.27 141.51c0-2.7958-1.1118-5.4799-3.0887-7.4568-1.9769-1.9769-4.661-3.0887-7.4568-3.0887s-5.4799 1.1118-7.4568 3.0887-3.0887 4.661-3.0887 7.4568\" clip-path=\"url(#pc4e2fe188c)\" fill=\"none\" stroke=\"#ffffff\" stroke-width=\"2\"/><path d=\"m344.73 141.51 10.546-10.546\" clip-path=\"url(#pc4e2fe188c)\" fill=\"none\" stroke=\"#ffffff\" stroke-linecap=\"square\" stroke-width=\"2\"/><g clip-path=\"url(#pc4e2fe188c)\"><g transform=\"translate(60.617 48.734) scale(.1625 -.1625)\"><defs><path id=\"DejaVuSans-Oblique-71\" transform=\"scale(.015625)\" d=\"m2669 525q-231-303-546-460-314-156-695-156-531 0-833 358-301 358-301 986 0 506 186 978t533 847q225 244 517 375t614 131q387 0 637-153t363-462l100 525h578l-934-4813h-579l360 1844zm-1778 813q0-463 193-705 194-242 560-242 544 0 928 520t384 1264q0 450-199 689-198 239-569 239-272 0-504-127-231-126-403-370-181-256-286-600-104-343-104-668z\"/><path id=\"DejaVuSans-30\" transform=\"scale(.015625)\" d=\"m2034 4250q-487 0-733-480-245-479-245-1442 0-959 245-1439 246-480 733-480 491 0 736 480 246 480 246 1439 0 963-246 1442-245 480-736 480zm0 500q785 0 1199-621 414-620 414-1801 0-1178-414-1799-414-620-1199-620-784 0-1198 620-414 621-414 1799 0 1181 414 1801 414 621 1198 621z\"/></defs><use xlink:href=\"#DejaVuSans-Oblique-71\"/><use transform=\"translate(63.477 -16.406) scale(.7)\" xlink:href=\"#DejaVuSans-30\"/></g></g><g clip-path=\"url(#pc4e2fe188c)\"><g transform=\"translate(60.617 95.088) scale(.1625 -.1625)\"><defs><path id=\"DejaVuSans-31\" transform=\"scale(.015625)\" d=\"m794 531h1031v3560l-1122-225v575l1116 225h631v-4135h1031v-531h-2687v531z\"/></defs><use xlink:href=\"#DejaVuSans-Oblique-71\"/><use transform=\"translate(63.477 -16.406) scale(.7)\" xlink:href=\"#DejaVuSans-31\"/></g></g><g clip-path=\"url(#pc4e2fe188c)\"><g transform=\"translate(60.617 141.44) scale(.1625 -.1625)\"><defs><path id=\"DejaVuSans-32\" transform=\"scale(.015625)\" d=\"m1228 531h2203v-531h-2962v531q359 372 979 998 621 627 780 809 303 340 423 576 121 236 121 464 0 372-261 606-261 235-680 235-297 0-627-103-329-103-704-313v638q381 153 712 231 332 78 607 78 725 0 1156-363 431-362 431-968 0-288-108-546-107-257-392-607-78-91-497-524-418-433-1181-1211z\"/></defs><use xlink:href=\"#DejaVuSans-Oblique-71\"/><use transform=\"translate(63.477 -16.406) scale(.7)\" xlink:href=\"#DejaVuSans-32\"/></g></g><g clip-path=\"url(#pc4e2fe188c)\"><g transform=\"translate(92.561 176.55) scale(.104 -.104)\"><defs><path id=\"DejaVuSans-33\" transform=\"scale(.015625)\" d=\"m2597 2516q453-97 707-404 255-306 255-756 0-690-475-1069-475-378-1350-378-293 0-604 58t-642 174v609q262-153 574-231 313-78 654-78 593 0 904 234t311 681q0 413-289 645-289 233-804 233h-544v519h569q465 0 712 186t247 536q0 359-255 551-254 193-729 193-260 0-557-57-297-56-653-174v562q360 100 674 150t592 50q719 0 1137-327 419-326 419-882 0-388-222-655t-631-370z\"/></defs><use xlink:href=\"#DejaVuSans-33\"/></g></g><g clip-path=\"url(#pc4e2fe188c)\"><g transform=\"translate(34.404 187.83) scale(.1625 -.1625)\"><defs><path id=\"DejaVuSans-6d\" transform=\"scale(.015625)\" d=\"m3328 2828q216 388 516 572t706 184q547 0 844-383 297-382 297-1088v-2113h-578v2094q0 503-179 746-178 244-543 244-447 0-707-297-259-296-259-809v-1978h-578v2094q0 506-178 748t-550 242q-441 0-701-298-259-298-259-808v-1978h-578v3500h578v-544q197 322 472 475t653 153q382 0 649-194 267-193 395-562z\"/><path id=\"DejaVuSans-65\" transform=\"scale(.015625)\" d=\"m3597 1894v-281h-2644q38-594 358-905t892-311q331 0 642 81t618 244v-544q-310-131-635-200t-659-69q-838 0-1327 487-489 488-489 1320 0 859 464 1363 464 505 1252 505 706 0 1117-455 411-454 411-1235zm-575 169q-6 471-264 752-258 282-683 282-481 0-770-272t-333-766l2050 4z\"/><path id=\"DejaVuSans-61\" transform=\"scale(.015625)\" d=\"m2194 1759q-697 0-966-159t-269-544q0-306 202-486 202-179 548-179 479 0 768 339t289 901v128h-572zm1147 238v-1997h-575v531q-197-318-491-470t-719-152q-537 0-855 302-317 302-317 808 0 590 395 890 396 300 1180 300h807v57q0 397-261 614t-733 217q-300 0-585-72-284-72-546-216v532q315 122 612 182 297 61 578 61 760 0 1135-394 375-393 375-1193z\"/><path id=\"DejaVuSans-73\" transform=\"scale(.015625)\" d=\"m2834 3397v-544q-243 125-506 187-262 63-544 63-428 0-642-131t-214-394q0-200 153-314t616-217l197-44q612-131 870-370t258-667q0-488-386-773-386-284-1061-284-281 0-586 55t-642 164v594q319-166 628-249 309-82 613-82 406 0 624 139 219 139 219 392 0 234-158 359-157 125-692 241l-200 47q-534 112-772 345-237 233-237 639 0 494 350 762 350 269 994 269 318 0 599-47 282-46 519-140z\"/></defs><use xlink:href=\"#DejaVuSans-6d\"/><use x=\"97.412109\" xlink:href=\"#DejaVuSans-65\"/><use x=\"158.935547\" xlink:href=\"#DejaVuSans-61\"/><use x=\"220.214844\" xlink:href=\"#DejaVuSans-73\"/></g></g><g clip-path=\"url(#pc4e2fe188c)\"><g transform=\"translate(108.07 47.87) scale(.13 -.13)\" fill=\"#ffffff\"><defs><path id=\"DejaVuSans-48\" transform=\"scale(.015625)\" d=\"m628 4666h631v-1913h2294v1913h631v-4666h-631v2222h-2294v-2222h-631v4666z\"/></defs><use xlink:href=\"#DejaVuSans-48\"/></g></g><g clip-path=\"url(#pc4e2fe188c)\"><g transform=\"translate(108.07 94.224) scale(.13 -.13)\" fill=\"#ffffff\"><use xlink:href=\"#DejaVuSans-48\"/></g></g><g clip-path=\"url(#pc4e2fe188c)\"><g transform=\"translate(108.07 140.58) scale(.13 -.13)\" fill=\"#ffffff\"><use xlink:href=\"#DejaVuSans-48\"/></g></g><g clip-path=\"url(#pc4e2fe188c)\"><g transform=\"translate(147.49 47.87) scale(.13 -.13)\" fill=\"#ffffff\"><use xlink:href=\"#DejaVuSans-30\"/></g></g><g clip-path=\"url(#pc4e2fe188c)\"><g transform=\"translate(147.49 94.224) scale(.13 -.13)\" fill=\"#ffffff\"><use xlink:href=\"#DejaVuSans-31\"/></g></g><g clip-path=\"url(#pc4e2fe188c)\"><g transform=\"translate(147.49 140.58) scale(.13 -.13)\" fill=\"#ffffff\"><use xlink:href=\"#DejaVuSans-32\"/></g></g><g clip-path=\"url(#pc4e2fe188c)\"><g transform=\"translate(159.29 94.224) scale(.13 -.13)\" fill=\"#ffffff\"><defs><path id=\"DejaVuSans-51\" transform=\"scale(.015625)\" d=\"m2522 4238q-688 0-1093-513-404-512-404-1397 0-881 404-1394 405-512 1093-512 687 0 1089 512 402 513 402 1394 0 885-402 1397-402 513-1089 513zm884-4154 832-909h-763l-691 747q-103-6-158-9-54-4-104-4-984 0-1574 658-589 658-589 1761 0 1106 589 1764 590 658 1574 658 981 0 1568-658 588-658 588-1764 0-812-327-1391-326-578-945-853z\"/></defs><use xlink:href=\"#DejaVuSans-51\"/></g></g><path d=\"m205.66 21.106v46.354\" clip-path=\"url(#pc4e2fe188c)\" fill=\"none\" stroke=\"#000000\" stroke-dasharray=\"3.7,1.6\"/><path d=\"m205.66 67.46v46.354\" clip-path=\"url(#pc4e2fe188c)\" fill=\"none\" stroke=\"#000000\" stroke-dasharray=\"3.7,1.6\"/><path d=\"m205.66 113.81v46.354\" clip-path=\"url(#pc4e2fe188c)\" fill=\"none\" stroke=\"#000000\" stroke-dasharray=\"3.7,1.6\"/><g clip-path=\"url(#pc4e2fe188c)\"><g transform=\"translate(263.61 176.55) scale(.104 -.104)\"><use xlink:href=\"#DejaVuSans-30\"/></g></g><g clip-path=\"url(#pc4e2fe188c)\"><g transform=\"translate(309.96 176.55) scale(.104 -.104)\"><use xlink:href=\"#DejaVuSans-31\"/></g></g><g clip-path=\"url(#pc4e2fe188c)\"><g transform=\"translate(356.32 176.55) scale(.104 -.104)\"><use xlink:href=\"#DejaVuSans-32\"/></g></g><defs><clipPath id=\"pc4e2fe188c\"><rect x=\"7.2\" y=\"7.2\" width=\"368.12\" height=\"203.96\"/></clipPath></defs></svg>"
            ],
            "text/plain": [
              "<Figure size 663.998x367.889 with 1 Axes>"
            ]
          },
          "execution_count": 5,
          "metadata": {
          },
          "output_type": "execute_result"
        }
      ],
      "source": [
        "qc = init.compose(grover_operator)\n",
        "qc.measure_all()\n",
        "qc.draw()"
      ]
    },
    {
      "cell_type": "markdown",
      "metadata": {
      },
      "source": [
        "Akhirnya, mari kita jalankan ini di simulator dan lihat hasil apa yang kita dapatkan:"
      ]
    },
    {
      "cell_type": "code",
      "execution_count": 6,
      "metadata": {
        "slideshow": {
          "slide_type": "fragment"
        }
      },
      "outputs": [
        {
          "data": {
            "image/svg+xml": [
              "<?xml version=\"1.0\" encoding=\"UTF-8\"?><!DOCTYPE svg  PUBLIC '-//W3C//DTD SVG 1.1//EN'  'http://www.w3.org/Graphics/SVG/1.1/DTD/svg11.dtd'><svg width=\"460.72pt\" height=\"328.35pt\" version=\"1.1\" viewBox=\"0 0 460.72 328.35\" xmlns=\"http://www.w3.org/2000/svg\" xmlns:xlink=\"http://www.w3.org/1999/xlink\"><defs><style type=\"text/css\">*{stroke-linejoin: round; stroke-linecap: butt}</style></defs><path d=\"m0 328.35h460.72v-328.35h-460.72z\" fill=\"#ffffff\"/><path d=\"m62.921 284.4h390.6v-277.2h-390.6z\" fill=\"#ffffff\"/><defs><path id=\"m8980b010c4\" d=\"m0 0v3.5\" stroke=\"#343a3f\" stroke-width=\".8\"/></defs><use x=\"92.512159\" y=\"284.4\" fill=\"#343a3f\" stroke=\"#343a3f\" stroke-width=\".8\" xlink:href=\"#m8980b010c4\"/><g transform=\"translate(91.572 320.15) rotate(-70) scale(.14 -.14)\" fill=\"#343a3f\"><defs><path id=\"DejaVuSans-30\" transform=\"scale(.015625)\" d=\"m2034 4250q-487 0-733-480-245-479-245-1442 0-959 245-1439 246-480 733-480 491 0 736 480 246 480 246 1439 0 963-246 1442-245 480-736 480zm0 500q785 0 1199-621 414-620 414-1801 0-1178-414-1799-414-620-1199-620-784 0-1198 620-414 621-414 1799 0 1181 414 1801 414 621 1198 621z\"/></defs><use xlink:href=\"#DejaVuSans-30\"/><use x=\"63.623047\" xlink:href=\"#DejaVuSans-30\"/><use x=\"127.246094\" xlink:href=\"#DejaVuSans-30\"/></g><use x=\"139.857614\" y=\"284.4\" fill=\"#343a3f\" stroke=\"#343a3f\" stroke-width=\".8\" xlink:href=\"#m8980b010c4\"/><g transform=\"translate(138.92 320.15) rotate(-70) scale(.14 -.14)\" fill=\"#343a3f\"><defs><path id=\"DejaVuSans-31\" transform=\"scale(.015625)\" d=\"m794 531h1031v3560l-1122-225v575l1116 225h631v-4135h1031v-531h-2687v531z\"/></defs><use xlink:href=\"#DejaVuSans-30\"/><use x=\"63.623047\" xlink:href=\"#DejaVuSans-30\"/><use x=\"127.246094\" xlink:href=\"#DejaVuSans-31\"/></g><use x=\"187.203068\" y=\"284.4\" fill=\"#343a3f\" stroke=\"#343a3f\" stroke-width=\".8\" xlink:href=\"#m8980b010c4\"/><g transform=\"translate(186.26 320.15) rotate(-70) scale(.14 -.14)\" fill=\"#343a3f\"><use xlink:href=\"#DejaVuSans-30\"/><use x=\"63.623047\" xlink:href=\"#DejaVuSans-31\"/><use x=\"127.246094\" xlink:href=\"#DejaVuSans-30\"/></g><use x=\"234.548523\" y=\"284.4\" fill=\"#343a3f\" stroke=\"#343a3f\" stroke-width=\".8\" xlink:href=\"#m8980b010c4\"/><g transform=\"translate(233.61 320.15) rotate(-70) scale(.14 -.14)\" fill=\"#343a3f\"><use xlink:href=\"#DejaVuSans-30\"/><use x=\"63.623047\" xlink:href=\"#DejaVuSans-31\"/><use x=\"127.246094\" xlink:href=\"#DejaVuSans-31\"/></g><use x=\"281.893977\" y=\"284.4\" fill=\"#343a3f\" stroke=\"#343a3f\" stroke-width=\".8\" xlink:href=\"#m8980b010c4\"/><g transform=\"translate(280.95 320.15) rotate(-70) scale(.14 -.14)\" fill=\"#343a3f\"><use xlink:href=\"#DejaVuSans-31\"/><use x=\"63.623047\" xlink:href=\"#DejaVuSans-30\"/><use x=\"127.246094\" xlink:href=\"#DejaVuSans-30\"/></g><use x=\"329.239432\" y=\"284.4\" fill=\"#343a3f\" stroke=\"#343a3f\" stroke-width=\".8\" xlink:href=\"#m8980b010c4\"/><g transform=\"translate(328.3 320.15) rotate(-70) scale(.14 -.14)\" fill=\"#343a3f\"><use xlink:href=\"#DejaVuSans-31\"/><use x=\"63.623047\" xlink:href=\"#DejaVuSans-30\"/><use x=\"127.246094\" xlink:href=\"#DejaVuSans-31\"/></g><use x=\"376.584886\" y=\"284.4\" fill=\"#343a3f\" stroke=\"#343a3f\" stroke-width=\".8\" xlink:href=\"#m8980b010c4\"/><g transform=\"translate(375.65 320.15) rotate(-70) scale(.14 -.14)\" fill=\"#343a3f\"><use xlink:href=\"#DejaVuSans-31\"/><use x=\"63.623047\" xlink:href=\"#DejaVuSans-31\"/><use x=\"127.246094\" xlink:href=\"#DejaVuSans-30\"/></g><use x=\"423.930341\" y=\"284.4\" fill=\"#343a3f\" stroke=\"#343a3f\" stroke-width=\".8\" xlink:href=\"#m8980b010c4\"/><g transform=\"translate(422.99 320.15) rotate(-70) scale(.14 -.14)\" fill=\"#343a3f\"><use xlink:href=\"#DejaVuSans-31\"/><use x=\"63.623047\" xlink:href=\"#DejaVuSans-31\"/><use x=\"127.246094\" xlink:href=\"#DejaVuSans-31\"/></g><path d=\"m62.921 284.4h390.6\" clip-path=\"url(#paaa3c8f571)\" fill=\"none\" stroke=\"#dde1e6\" stroke-dasharray=\"2.96,1.28\" stroke-width=\".8\"/><defs><path id=\"m9e8480a494\" d=\"m0 0h-3.5\" stroke=\"#343a3f\" stroke-width=\".8\"/></defs><use x=\"62.92125\" y=\"284.4\" fill=\"#343a3f\" stroke=\"#343a3f\" stroke-width=\".8\" xlink:href=\"#m9e8480a494\"/><g transform=\"translate(24.749 289.72) scale(.14 -.14)\" fill=\"#343a3f\"><defs><path id=\"DejaVuSans-2e\" transform=\"scale(.015625)\" d=\"m684 794h660v-794h-660v794z\"/></defs><use xlink:href=\"#DejaVuSans-30\"/><use x=\"63.623047\" xlink:href=\"#DejaVuSans-2e\"/><use x=\"95.410156\" xlink:href=\"#DejaVuSans-30\"/><use x=\"159.033203\" xlink:href=\"#DejaVuSans-30\"/></g><path d=\"m62.921 222.76h390.6\" clip-path=\"url(#paaa3c8f571)\" fill=\"none\" stroke=\"#dde1e6\" stroke-dasharray=\"2.96,1.28\" stroke-width=\".8\"/><use x=\"62.92125\" y=\"222.75987\" fill=\"#343a3f\" stroke=\"#343a3f\" stroke-width=\".8\" xlink:href=\"#m9e8480a494\"/><g transform=\"translate(24.749 228.08) scale(.14 -.14)\" fill=\"#343a3f\"><defs><path id=\"DejaVuSans-38\" transform=\"scale(.015625)\" d=\"m2034 2216q-450 0-708-241-257-241-257-662 0-422 257-663 258-241 708-241t709 242q260 243 260 662 0 421-258 662-257 241-711 241zm-631 268q-406 100-633 378-226 279-226 679 0 559 398 884 399 325 1092 325 697 0 1094-325t397-884q0-400-227-679-226-278-629-378 456-106 710-416 255-309 255-755 0-679-414-1042-414-362-1186-362-771 0-1186 362-414 363-414 1042 0 446 256 755 257 310 713 416zm-231 997q0-362 226-565 227-203 636-203 407 0 636 203 230 203 230 565 0 363-230 566-229 203-636 203-409 0-636-203-226-203-226-566z\"/></defs><use xlink:href=\"#DejaVuSans-30\"/><use x=\"63.623047\" xlink:href=\"#DejaVuSans-2e\"/><use x=\"95.410156\" xlink:href=\"#DejaVuSans-30\"/><use x=\"159.033203\" xlink:href=\"#DejaVuSans-38\"/></g><path d=\"m62.921 161.12h390.6\" clip-path=\"url(#paaa3c8f571)\" fill=\"none\" stroke=\"#dde1e6\" stroke-dasharray=\"2.96,1.28\" stroke-width=\".8\"/><use x=\"62.92125\" y=\"161.119739\" fill=\"#343a3f\" stroke=\"#343a3f\" stroke-width=\".8\" xlink:href=\"#m9e8480a494\"/><g transform=\"translate(24.749 166.44) scale(.14 -.14)\" fill=\"#343a3f\"><defs><path id=\"DejaVuSans-36\" transform=\"scale(.015625)\" d=\"m2113 2584q-425 0-674-291-248-290-248-796 0-503 248-796 249-292 674-292t673 292q248 293 248 796 0 506-248 796-248 291-673 291zm1253 1979v-575q-238 112-480 171-242 60-480 60-625 0-955-422-329-422-376-1275 184 272 462 417 279 145 613 145 703 0 1111-427 408-426 408-1160 0-719-425-1154-425-434-1131-434-810 0-1238 620-428 621-428 1799 0 1106 525 1764t1409 658q238 0 480-47t505-140z\"/></defs><use xlink:href=\"#DejaVuSans-30\"/><use x=\"63.623047\" xlink:href=\"#DejaVuSans-2e\"/><use x=\"95.410156\" xlink:href=\"#DejaVuSans-31\"/><use x=\"159.033203\" xlink:href=\"#DejaVuSans-36\"/></g><path d=\"m62.921 99.48h390.6\" clip-path=\"url(#paaa3c8f571)\" fill=\"none\" stroke=\"#dde1e6\" stroke-dasharray=\"2.96,1.28\" stroke-width=\".8\"/><use x=\"62.92125\" y=\"99.479609\" fill=\"#343a3f\" stroke=\"#343a3f\" stroke-width=\".8\" xlink:href=\"#m9e8480a494\"/><g transform=\"translate(24.749 104.8) scale(.14 -.14)\" fill=\"#343a3f\"><defs><path id=\"DejaVuSans-32\" transform=\"scale(.015625)\" d=\"m1228 531h2203v-531h-2962v531q359 372 979 998 621 627 780 809 303 340 423 576 121 236 121 464 0 372-261 606-261 235-680 235-297 0-627-103-329-103-704-313v638q381 153 712 231 332 78 607 78 725 0 1156-363 431-362 431-968 0-288-108-546-107-257-392-607-78-91-497-524-418-433-1181-1211z\"/><path id=\"DejaVuSans-34\" transform=\"scale(.015625)\" d=\"m2419 4116-1594-2491h1594v2491zm-166 550h794v-3041h666v-525h-666v-1100h-628v1100h-2106v609l1940 2957z\"/></defs><use xlink:href=\"#DejaVuSans-30\"/><use x=\"63.623047\" xlink:href=\"#DejaVuSans-2e\"/><use x=\"95.410156\" xlink:href=\"#DejaVuSans-32\"/><use x=\"159.033203\" xlink:href=\"#DejaVuSans-34\"/></g><path d=\"m62.921 37.839h390.6\" clip-path=\"url(#paaa3c8f571)\" fill=\"none\" stroke=\"#dde1e6\" stroke-dasharray=\"2.96,1.28\" stroke-width=\".8\"/><use x=\"62.92125\" y=\"37.839479\" fill=\"#343a3f\" stroke=\"#343a3f\" stroke-width=\".8\" xlink:href=\"#m9e8480a494\"/><g transform=\"translate(24.749 43.158) scale(.14 -.14)\" fill=\"#343a3f\"><defs><path id=\"DejaVuSans-33\" transform=\"scale(.015625)\" d=\"m2597 2516q453-97 707-404 255-306 255-756 0-690-475-1069-475-378-1350-378-293 0-604 58t-642 174v609q262-153 574-231 313-78 654-78 593 0 904 234t311 681q0 413-289 645-289 233-804 233h-544v519h569q465 0 712 186t247 536q0 359-255 551-254 193-729 193-260 0-557-57-297-56-653-174v562q360 100 674 150t592 50q719 0 1137-327 419-326 419-882 0-388-222-655t-631-370z\"/></defs><use xlink:href=\"#DejaVuSans-30\"/><use x=\"63.623047\" xlink:href=\"#DejaVuSans-2e\"/><use x=\"95.410156\" xlink:href=\"#DejaVuSans-33\"/><use x=\"159.033203\" xlink:href=\"#DejaVuSans-32\"/></g><g transform=\"translate(17.838 188.56) rotate(-90) scale(.14 -.14)\" fill=\"#343a3f\"><defs><path id=\"DejaVuSans-50\" transform=\"scale(.015625)\" d=\"m1259 4147v-1753h794q441 0 681 228 241 228 241 650 0 419-241 647-240 228-681 228h-794zm-631 519h1425q785 0 1186-355 402-355 402-1039 0-691-402-1044-401-353-1186-353h-794v-1875h-631v4666z\"/><path id=\"DejaVuSans-72\" transform=\"scale(.015625)\" d=\"m2631 2963q-97 56-211 82-114 27-251 27-488 0-749-317t-261-911v-1844h-578v3500h578v-544q182 319 472 473 291 155 707 155 59 0 131-8 72-7 159-23l3-590z\"/><path id=\"DejaVuSans-6f\" transform=\"scale(.015625)\" d=\"m1959 3097q-462 0-731-361t-269-989 267-989q268-361 733-361 460 0 728 362 269 363 269 988 0 622-269 986-268 364-728 364zm0 487q750 0 1178-488 429-487 429-1349 0-859-429-1349-428-489-1178-489-753 0-1180 489-426 490-426 1349 0 862 426 1349 427 488 1180 488z\"/><path id=\"DejaVuSans-62\" transform=\"scale(.015625)\" d=\"m3116 1747q0 634-261 995t-717 361q-457 0-718-361t-261-995 261-995 718-361q456 0 717 361t261 995zm-1957 1222q182 312 458 463 277 152 661 152 638 0 1036-506 399-506 399-1331t-399-1332q-398-506-1036-506-384 0-661 152-276 152-458 464v-525h-578v4863h578v-1894z\"/><path id=\"DejaVuSans-61\" transform=\"scale(.015625)\" d=\"m2194 1759q-697 0-966-159t-269-544q0-306 202-486 202-179 548-179 479 0 768 339t289 901v128h-572zm1147 238v-1997h-575v531q-197-318-491-470t-719-152q-537 0-855 302-317 302-317 808 0 590 395 890 396 300 1180 300h807v57q0 397-261 614t-733 217q-300 0-585-72-284-72-546-216v532q315 122 612 182 297 61 578 61 760 0 1135-394 375-393 375-1193z\"/><path id=\"DejaVuSans-69\" transform=\"scale(.015625)\" d=\"m603 3500h575v-3500h-575v3500zm0 1363h575v-729h-575v729z\"/><path id=\"DejaVuSans-6c\" transform=\"scale(.015625)\" d=\"m603 4863h575v-4863h-575v4863z\"/><path id=\"DejaVuSans-74\" transform=\"scale(.015625)\" d=\"m1172 4494v-994h1184v-447h-1184v-1900q0-428 117-550t477-122h590v-481h-590q-666 0-919 248-253 249-253 905v1900h-422v447h422v994h578z\"/><path id=\"DejaVuSans-65\" transform=\"scale(.015625)\" d=\"m3597 1894v-281h-2644q38-594 358-905t892-311q331 0 642 81t618 244v-544q-310-131-635-200t-659-69q-838 0-1327 487-489 488-489 1320 0 859 464 1363 464 505 1252 505 706 0 1117-455 411-454 411-1235zm-575 169q-6 471-264 752-258 282-683 282-481 0-770-272t-333-766l2050 4z\"/><path id=\"DejaVuSans-73\" transform=\"scale(.015625)\" d=\"m2834 3397v-544q-243 125-506 187-262 63-544 63-428 0-642-131t-214-394q0-200 153-314t616-217l197-44q612-131 870-370t258-667q0-488-386-773-386-284-1061-284-281 0-586 55t-642 164v594q319-166 628-249 309-82 613-82 406 0 624 139 219 139 219 392 0 234-158 359-157 125-692 241l-200 47q-534 112-772 345-237 233-237 639 0 494 350 762 350 269 994 269 318 0 599-47 282-46 519-140z\"/></defs><use xlink:href=\"#DejaVuSans-50\"/><use x=\"58.552734\" xlink:href=\"#DejaVuSans-72\"/><use x=\"97.416016\" xlink:href=\"#DejaVuSans-6f\"/><use x=\"158.597656\" xlink:href=\"#DejaVuSans-62\"/><use x=\"222.074219\" xlink:href=\"#DejaVuSans-61\"/><use x=\"283.353516\" xlink:href=\"#DejaVuSans-62\"/><use x=\"346.830078\" xlink:href=\"#DejaVuSans-69\"/><use x=\"374.613281\" xlink:href=\"#DejaVuSans-6c\"/><use x=\"402.396484\" xlink:href=\"#DejaVuSans-69\"/><use x=\"430.179688\" xlink:href=\"#DejaVuSans-74\"/><use x=\"469.388672\" xlink:href=\"#DejaVuSans-69\"/><use x=\"497.171875\" xlink:href=\"#DejaVuSans-65\"/><use x=\"558.695312\" xlink:href=\"#DejaVuSans-73\"/></g><path d=\"m80.676 284.4h23.673v-231h-23.673z\" clip-path=\"url(#paaa3c8f571)\" fill=\"#648fff\"/><path d=\"m128.02 284.4h23.673v-23.326h-23.673z\" clip-path=\"url(#paaa3c8f571)\" fill=\"#648fff\"/><path d=\"m175.37 284.4h23.673v-21.068h-23.673z\" clip-path=\"url(#paaa3c8f571)\" fill=\"#648fff\"/><path d=\"m222.71 284.4h23.673v-216.7h-23.673z\" clip-path=\"url(#paaa3c8f571)\" fill=\"#648fff\"/><path d=\"m270.06 284.4h23.673v-24.078h-23.673z\" clip-path=\"url(#paaa3c8f571)\" fill=\"#648fff\"/><path d=\"m317.4 284.4h23.673v-217.46h-23.673z\" clip-path=\"url(#paaa3c8f571)\" fill=\"#648fff\"/><path d=\"m364.75 284.4h23.673v-19.564h-23.673z\" clip-path=\"url(#paaa3c8f571)\" fill=\"#648fff\"/><path d=\"m412.09 284.4h23.673v-17.306h-23.673z\" clip-path=\"url(#paaa3c8f571)\" fill=\"#648fff\"/><path d=\"m62.921 284.4v-277.2\" fill=\"none\" stroke=\"#343a3f\" stroke-linecap=\"square\" stroke-width=\".8\"/><path d=\"m62.921 284.4h390.6\" fill=\"none\" stroke=\"#343a3f\" stroke-linecap=\"square\" stroke-width=\".8\"/><g transform=\"translate(78.198 39.77) scale(.1 -.1)\" fill=\"#343a3f\"><use xlink:href=\"#DejaVuSans-30\"/><use x=\"63.623047\" xlink:href=\"#DejaVuSans-2e\"/><use x=\"95.410156\" xlink:href=\"#DejaVuSans-33\"/><use x=\"159.033203\" xlink:href=\"#DejaVuSans-30\"/><use x=\"222.65625\" xlink:href=\"#DejaVuSans-30\"/></g><g transform=\"translate(125.54 257.83) scale(.1 -.1)\" fill=\"#343a3f\"><use xlink:href=\"#DejaVuSans-30\"/><use x=\"63.623047\" xlink:href=\"#DejaVuSans-2e\"/><use x=\"95.410156\" xlink:href=\"#DejaVuSans-30\"/><use x=\"159.033203\" xlink:href=\"#DejaVuSans-33\"/><use x=\"222.65625\" xlink:href=\"#DejaVuSans-30\"/></g><g transform=\"translate(172.89 260.2) scale(.1 -.1)\" fill=\"#343a3f\"><defs><path id=\"DejaVuSans-37\" transform=\"scale(.015625)\" d=\"m525 4666h3e3v-269l-1694-4397h-659l1594 4134h-2241v532z\"/></defs><use xlink:href=\"#DejaVuSans-30\"/><use x=\"63.623047\" xlink:href=\"#DejaVuSans-2e\"/><use x=\"95.410156\" xlink:href=\"#DejaVuSans-30\"/><use x=\"159.033203\" xlink:href=\"#DejaVuSans-32\"/><use x=\"222.65625\" xlink:href=\"#DejaVuSans-37\"/></g><g transform=\"translate(220.23 54.782) scale(.1 -.1)\" fill=\"#343a3f\"><use xlink:href=\"#DejaVuSans-30\"/><use x=\"63.623047\" xlink:href=\"#DejaVuSans-2e\"/><use x=\"95.410156\" xlink:href=\"#DejaVuSans-32\"/><use x=\"159.033203\" xlink:href=\"#DejaVuSans-38\"/><use x=\"222.65625\" xlink:href=\"#DejaVuSans-31\"/></g><g transform=\"translate(267.58 257.04) scale(.1 -.1)\" fill=\"#343a3f\"><use xlink:href=\"#DejaVuSans-30\"/><use x=\"63.623047\" xlink:href=\"#DejaVuSans-2e\"/><use x=\"95.410156\" xlink:href=\"#DejaVuSans-30\"/><use x=\"159.033203\" xlink:href=\"#DejaVuSans-33\"/><use x=\"222.65625\" xlink:href=\"#DejaVuSans-31\"/></g><g transform=\"translate(314.93 53.991) scale(.1 -.1)\" fill=\"#343a3f\"><use xlink:href=\"#DejaVuSans-30\"/><use x=\"63.623047\" xlink:href=\"#DejaVuSans-2e\"/><use x=\"95.410156\" xlink:href=\"#DejaVuSans-32\"/><use x=\"159.033203\" xlink:href=\"#DejaVuSans-38\"/><use x=\"222.65625\" xlink:href=\"#DejaVuSans-32\"/></g><g transform=\"translate(362.27 261.78) scale(.1 -.1)\" fill=\"#343a3f\"><defs><path id=\"DejaVuSans-35\" transform=\"scale(.015625)\" d=\"m691 4666h2478v-532h-1900v-1143q137 47 274 70 138 23 276 23 781 0 1237-428 457-428 457-1159 0-753-469-1171-469-417-1322-417-294 0-599 50-304 50-629 150v635q281-153 581-228t634-75q541 0 856 284 316 284 316 772 0 487-316 771-315 285-856 285-253 0-505-56-251-56-513-175v2344z\"/></defs><use xlink:href=\"#DejaVuSans-30\"/><use x=\"63.623047\" xlink:href=\"#DejaVuSans-2e\"/><use x=\"95.410156\" xlink:href=\"#DejaVuSans-30\"/><use x=\"159.033203\" xlink:href=\"#DejaVuSans-32\"/><use x=\"222.65625\" xlink:href=\"#DejaVuSans-35\"/></g><g transform=\"translate(409.62 264.15) scale(.1 -.1)\" fill=\"#343a3f\"><use xlink:href=\"#DejaVuSans-30\"/><use x=\"63.623047\" xlink:href=\"#DejaVuSans-2e\"/><use x=\"95.410156\" xlink:href=\"#DejaVuSans-30\"/><use x=\"159.033203\" xlink:href=\"#DejaVuSans-32\"/><use x=\"222.65625\" xlink:href=\"#DejaVuSans-32\"/></g><defs><clipPath id=\"paaa3c8f571\"><rect x=\"62.921\" y=\"7.2\" width=\"390.6\" height=\"277.2\"/></clipPath></defs></svg>"
            ],
            "text/plain": [
              "<Figure size 700x500 with 1 Axes>"
            ]
          },
          "execution_count": 6,
          "metadata": {
          },
          "output_type": "execute_result"
        }
      ],
      "source": [
        "# Simulasikan sirkuit\n",
        "from qiskit import Aer, transpile\n",
        "sim = Aer.get_backend('aer_simulator')\n",
        "t_qc = transpile(qc, sim)\n",
        "counts = sim.run(t_qc).result().get_counts()\n",
        "\n",
        "# plot hasilnya\n",
        "from qiskit.visualization import plot_histogram\n",
        "plot_histogram(counts)"
      ]
    },
    {
      "cell_type": "markdown",
      "metadata": {
      },
      "source": [
        "Kita memiliki kemungkinan besar untuk mengukur salah satu dari 3 solusi untuk masalah SAT.\n",
        "\n",
        "<!-- ::: q-block.exercise -->\n",
        "\n",
        "### Kuis cepat\n",
        "\n",
        "<!-- ::: q-quiz(goal=\"intro-grover-3\") -->\n",
        "\n",
        "<!-- ::: .question -->\n",
        "\n",
        "Manakah dari string bit ini yang merupakan solusi untuk masalah SAT yang diselesaikan oleh sirkuit kuantum ini?\n",
        "\n",
        "<!-- ::: -->\n",
        "\n",
        "<!-- ::: .option(correct) -->\n",
        "\n",
        "1. `011`\n",
        "\n",
        "<!-- ::: -->\n",
        "\n",
        "<!-- ::: .option -->\n",
        "\n",
        "1. `001`\n",
        "\n",
        "<!-- ::: -->\n",
        "\n",
        "<!-- ::: .option -->\n",
        "\n",
        "1. `010`\n",
        "\n",
        "<!-- ::: -->\n",
        "\n",
        "<!-- ::: .option -->\n",
        "\n",
        "1. `110`\n",
        "\n",
        "<!-- ::: -->\n",
        "\n",
        "<!-- ::: -->\n",
        "\n",
        "<!-- ::: -->"
      ]
    },
    {
      "cell_type": "markdown",
      "metadata": {
      },
      "source": [
        "## Bagaimana cara kerja algoritma Grover?\n",
        "\n",
        "Kita telah belajar tentang masalah pencarian, dan melihat algoritma Grover digunakan untuk menyelesaikannya. Tapi bagaimana, dan mengapa, ini berhasil?\n",
        "\n",
        "<!-- ::: q-block -->\n",
        "\n",
        "### Memvisualisasikan algoritma Grover\n",
        "\n",
        "<!-- ::: q-carousel -->\n",
        "\n",
        "<!-- ::: div -->\n",
        "\n",
        "Algoritma Grover memiliki penjelasan geometris yang bagus. Kita telah melihat bahwa kita dapat merepresentasikan status kuantum melalui vektor. Dengan masalah pencarian seperti ini, hanya ada dua vektor yang kita pedulikan: Solusi, dan yang lainnya. Kita akan memanggil superposisi dari semua status solusi '$|✓\\rangle$', jadi untuk soal SAT di atas:\n",
        "\n",
        "$$|✓\\rangle = \\tfrac{1}{\\sqrt{3}}(|000\\rangle + |011\\rangle + |101\\rangle)$$\n",
        "\n",
        "dan kita akan memanggil superposisi dari setiap keadaan lain '$|✗\\rangle$':\n",
        "\n",
        "$$|✗\\rangle = \\tfrac{1}{\\sqrt{5}}(|001\\rangle + |010\\rangle + |100\\rangle + |110\\rangle + |111\\rangle)$$\n",
        "\n",
        "<!-- ::: -->\n",
        "\n",
        "<!-- ::: div -->\n",
        "\n",
        "**Bidang**\n",
        "\n",
        "![Gambar menunjukkan |omega> dan |s prime> sebagai sumbu y dan x dari ruang 2D](images/grover/carousel/1/0.svg)\n",
        "\n",
        "Karena kedua vektor $|✓\\rangle$ dan $|✗\\rangle$ tidak berbagi elemen apa pun, keduanya tegak lurus, jadi kita dapat menggambarnya pada sudut siku-siku pada bidang 2D. Ini akan menjadi sumbu y dan x kita masing-masing.\n",
        "\n",
        "<!-- ::: -->\n",
        "\n",
        "<!-- ::: div -->\n",
        "\n",
        "**Langkah 1**\n",
        "\n",
        "![Gambar menunjukkan |omega> dan |s prime> sebagai sumbu y dan x dari ruang 2D](images/grover/carousel/1/1.svg)\n",
        "\n",
        "Mari plot status komputer kuantum kita di bidang ini pada titik berbeda dalam algoritma. Status pertama yang akan kita plot adalah $|s\\rangle$. Ini adalah keadaan *setelah* langkah 1 (langkah inisialisasi). Status ini adalah superposisi yang sama dari semua status basis komputasi. Karena keadaan apa pun yang mungkin adalah solusi atau bukan solusi, kita dapat menulis $|s\\rangle$ sebagai kombinasi dari $|✓\\rangle$ dan $|✗\\rangle$, sehingga berada di antara mereka di pesawat kita.\n",
        "\n",
        "$$|s\\rangle = a|✗\\rangle + b|✓\\rangle$$\n",
        "\n",
        "<!-- ::: -->\n",
        "\n",
        "<!-- ::: div -->\n",
        "\n",
        "**Langkah 1**\n",
        "\n",
        "![Gambar menunjukkan |s> pada bidang |omega> / |s-prime>](images/grover/carousel/1/1.svg)\n",
        "\n",
        "Untuk masalah yang sulit, kita berharap ada banyak masukan yang mungkin, tetapi hanya sejumlah kecil solusi. Dalam hal ini, $|s\\rangle$ akan lebih dekat ke $|✗\\rangle$ daripada $|✓\\rangle$ (yaitu sudut, $\\theta$, di antara mereka kecil), jadi kecil kemungkinan pengukuran akan berikan salah satu status basis komputasi yang membentuk $|✓\\rangle$. Sasaran kita adalah berakhir dengan komputer dalam keadaan sedekat mungkin dengan $|✓\\rangle$.\n",
        "\n",
        "<!-- ::: -->\n",
        "\n",
        "<!-- ::: div -->\n",
        "\n",
        "**Langkah 2**\n",
        "\n",
        "![Gambar menunjukkan U_omega|s> pada bidang |omega> / |s-prime>](images/grover/carousel/1/2.svg)\n",
        "\n",
        "Selanjutnya kita melewatkan qubit kita melalui sirkuit $U_\\text{Oracle}$. Kita melihat di atas bahwa, menurut definisi, $U_\\text{Oracle}$ membalik fase dari semua status solusi. Dalam diagram kita, ini adalah refleksi melalui vektor $|✗\\rangle$. Yaitu:\n",
        "\n",
        "$$a|✗\\rangle + b|✓\\rangle \\xrightarrow{\\text{oracle}} a|✗\\rangle - b|✓\\rangle$$\n",
        "\n",
        "<!-- ::: -->\n",
        "\n",
        "<!-- ::: div -->\n",
        "\n",
        "**Langkah 3**\n",
        "\n",
        "![Gambar menunjukkan U_omega|s> pada pesawat |omega> / |s-prime>](images/grover/carousel/1/2.svg)\n",
        "\n",
        "Kita baru saja melihat bahwa kita dapat merefleksikan melalui vektor $|✗\\rangle$, jadi apakah ada vektor lain yang dapat kita refleksikan yang akan memindahkan keadaan kita lebih dekat ke $|✓\\rangle$? Jawabannya adalah 'ya', kita bisa merefleksikan melalui vektor $|s\\rangle$. Mungkin tidak jelas pada awalnya bagaimana kita dapat membuat sirkuit yang melakukan ini, tetapi ini adalah operasi yang relatif sederhana yang akan kita bahas nanti di halaman ini.\n",
        "\n",
        "<!-- ::: -->\n",
        "\n",
        "<!-- ::: div -->\n",
        "\n",
        "**Selesai (atau ulangi)**\n",
        "\n",
        "![Gambar menunjukkan U_omega|s> pada bidang |omega> / |s-prime>](images/grover/carousel/1/3.svg)\n",
        "\n",
        "Sekarang vektor status kita lebih dekat ke $|✓\\rangle$ daripada sebelumnya, yang berarti kita memiliki peluang lebih tinggi untuk mengukur salah satu status solusi kita. Jika hanya ada satu solusi, kita perlu mengulangi langkah 2 &amp; 3 ~$\\sqrt{N}$ kali untuk mendapatkan probabilitas tertinggi dalam mengukur solusi tersebut.\n",
        "\n",
        "<!-- ::: -->\n",
        "\n",
        "<!-- ::: -->\n",
        "\n",
        "<!-- ::: -->"
      ]
    },
    {
      "cell_type": "markdown",
      "metadata": {
      },
      "source": [
        "<!-- ::: q-block -->\n",
        "\n",
        "### Berapa kali kita perlu menanyakan oracle?\n",
        "\n",
        "<!-- ::: q-carousel -->\n",
        "\n",
        "<!-- ::: div -->\n",
        "\n",
        "![Gambar menunjukkan |omega> dan |s prime> sebagai sumbu y dan x dari ruang 2D](images/grover/carousel/2/0.svg)\n",
        "\n",
        "Untuk menyelesaikannya, kita harus menghitung seberapa banyak setiap iterasi merotasi state kita menuju $|✓\\rangle$. Katakanlah kita berada di suatu tempat di tengah algoritma kita, keadaan komputer kita ($|\\psi\\rangle$) adalah sudut $\\phi$ dari keadaan awal $|s\\rangle$. Sudut antara $|\\psi\\rangle$ dan $|✗\\rangle$ adalah $\\theta + \\phi$.\n",
        "\n",
        "<!-- ::: -->\n",
        "\n",
        "<!-- ::: div -->\n",
        "\n",
        "![Gambar menunjukkan |omega> dan |s prime> sebagai sumbu y dan x dari ruang 2D](images/grover/carousel/2/1.svg)\n",
        "\n",
        "Oracle mencerminkan vektor keadaan komputer kita di sekitar $|✗\\rangle$, jadi sudut antara vektor keadaan baru kita yang dipantulkan ($|\\psi'\\rangle$) dan $|✗\\rangle$ juga akan menjadi $\\theta + \\phi$.\n",
        "\n",
        "<!-- ::: -->\n",
        "\n",
        "<!-- ::: div -->\n",
        "\n",
        "![Gambar menunjukkan |s> pada bidang |omega> / |s-prime>](images/grover/carousel/2/2.svg)\n",
        "\n",
        "Selanjutnya kita renungkan melalui $|s\\rangle$. Sudut antara status komputer kita ($|\\psi'\\rangle$) dan $|s\\rangle$ adalah $2\\theta + \\phi$.\n",
        "\n",
        "<!-- ::: -->\n",
        "\n",
        "<!-- ::: div -->\n",
        "\n",
        "![Gambar menunjukkan U_omega|s> pada pesawat |omega> / |s-prime>](images/grover/carousel/2/3.svg)\n",
        "\n",
        "Jadi, setelah satu iterasi, kita tahu sudut antara keadaan komputer kita dan $|s\\rangle$ juga $2\\theta + \\phi$.\n",
        "\n",
        "<!-- ::: -->\n",
        "\n",
        "<!-- ::: div -->\n",
        "\n",
        "![Gambar menunjukkan U_omega|s> pada bidang |omega> / |s-prime>](images/grover/carousel/2/4.svg)\n",
        "\n",
        "Yang berarti setiap iterasi merotasi status komputer kita menuju $|✓\\rangle$ sebesar $2\\theta$.\n",
        "\n",
        "<!-- ::: -->\n",
        "\n",
        "<!-- ::: div -->\n",
        "\n",
        "![Gambar menunjukkan U_omega|s> pada pesawat |omega> / |s-prime>](images/grover/carousel/2/5.svg)\n",
        "\n",
        "Sekarang kita hanya perlu menentukan berapa banyak $2\\theta$ yang cocok dengan sudut siku-siku, dan ini akan menjadi kira-kira jumlah iterasi yang diperlukan untuk memutar $|s\\rangle$ menjadi $|✓\\rangle$.\n",
        "\n",
        "<!-- ::: -->\n",
        "\n",
        "<!-- ::: div -->\n",
        "\n",
        "![Gambar menunjukkan U_omega|s> pada bidang |omega> / |s-prime>](images/grover/carousel/2/6.svg)\n",
        "\n",
        "Jadi apa sudut $\\theta$ dalam hal $N$? Dengan sedikit trigonometri, kita tahu bahwa $\\sin(\\theta)$ sama dengan komponen $|✓\\rangle$ dari $|s\\rangle$, dibagi dengan panjang $|s\\rangle$ (yaitu 1). Jika hanya ada satu status solusi, maka $|s\\rangle = \\tfrac{1}{\\sqrt{N}}(|0\\rangle + |1\\rangle \\dots + |✓\\rangle \\dots + |N-1 \\rangle)$. Jadi $\\sin(\\theta) = \\tfrac{1}{\\sqrt{N}}$.\n",
        "\n",
        "<!-- ::: -->\n",
        "\n",
        "<!-- ::: div -->\n",
        "\n",
        "![Gambar menunjukkan U_omega|s> pada bidang |omega> / |s-prime>](images/grover/carousel/2/7.svg)\n",
        "\n",
        "Terakhir, untuk soal yang sulit, $\\theta$ akan menjadi sangat kecil, yang berarti kita dapat menggunakan pendekatan sudut kecil untuk mengatakan $\\theta \\approx \\tfrac{1}{\\sqrt{N}}$ radian.\n",
        "\n",
        "<!-- ::: -->\n",
        "\n",
        "<!-- ::: div -->\n",
        "\n",
        "![Gambar menunjukkan U_omega|s> pada pesawat |omega> / |s-prime>](images/grover/carousel/2/8.svg)\n",
        "\n",
        "Karena, untuk $\\theta$ kecil, kita ingin memutar $|s\\rangle$ di sekitar $\\pi/2$ radian, ini berarti kita perlu melakukan kira-kira $\\tfrac{\\pi}{2}\\div\\tfrac{ 2}{\\sqrt{N}} = \\tfrac{\\pi}{4}\\sqrt{N}$ perulangan. Karena kita mengkueri oracle satu kali per iterasi, jumlah kueri oracle yang diperlukan sebanding dengan $\\sqrt{N}$, jika hanya ada satu solusi.\n",
        "\n",
        "<!-- ::: -->\n",
        "\n",
        "<!-- ::: -->\n",
        "\n",
        "<!-- ::: -->"
      ]
    },
    {
      "cell_type": "markdown",
      "metadata": {
      },
      "source": [
        "<!-- ::: q-block.exercise -->\n",
        "\n",
        "### Kuis cepat\n",
        "\n",
        "<!-- ::: q-quiz(goal=\"intro-grover-4\") -->\n",
        "\n",
        "<!-- ::: .question -->\n",
        "\n",
        "Untuk oracle dengan banyak kemungkinan input dan tepat satu solusi, $\\theta \\approx \\tfrac{1}{\\sqrt{N}}$. Berapa perkiraan nilai $\\theta$ jika ada *dua* solusi?\n",
        "\n",
        "<!-- ::: -->\n",
        "\n",
        "<!-- ::: .option -->\n",
        "\n",
        "1. $\\theta \\approx \\tfrac{2}{\\sqrt{N}}$\n",
        "\n",
        "<!-- ::: -->\n",
        "\n",
        "<!-- ::: .option(correct) -->\n",
        "\n",
        "1. $\\theta \\approx \\tfrac{\\sqrt{2}}{\\sqrt{N}}$\n",
        "\n",
        "<!-- ::: -->\n",
        "\n",
        "<!-- ::: .option -->\n",
        "\n",
        "1. $\\theta \\approx \\tfrac{1}{\\sqrt{2N}}$\n",
        "\n",
        "<!-- ::: -->\n",
        "\n",
        "<!-- ::: -->\n",
        "\n",
        "<!-- ::: -->"
      ]
    },
    {
      "cell_type": "markdown",
      "metadata": {
      },
      "source": [
        "## Sirkuit untuk algoritma Grover\n",
        "\n",
        "Untuk mengakhiri bab ini, kita akan membuat sirkuit sederhana dari awal yang mengimplementasikan algoritma Grover, dan menunjukkannya berfungsi. Kita akan menggunakan dua qubit, dan kita akan mulai dengan membuat sirkuit oracle."
      ]
    },
    {
      "cell_type": "code",
      "execution_count": 7,
      "metadata": {
      },
      "outputs": [

      ],
      "source": [
        "from qiskit import QuantumCircuit"
      ]
    },
    {
      "cell_type": "markdown",
      "metadata": {
      },
      "source": [
        "### Oracle\n",
        "\n",
        "Sederhananya, kita tidak akan memecahkan masalah nyata di sini. Untuk demonstrasi ini, kita akan membuat sirkuit yang membalikkan fase keadaan $|11\\rangle$ dan membiarkan yang lainnya tidak berubah. Untungnya, kita sudah mengetahui gerbang dua qubit yang melakukan hal itu!"
      ]
    },
    {
      "cell_type": "code",
      "execution_count": 8,
      "metadata": {
      },
      "outputs": [
        {
          "data": {
            "image/svg+xml": [
              "<?xml version=\"1.0\" encoding=\"UTF-8\"?><!DOCTYPE svg  PUBLIC '-//W3C//DTD SVG 1.1//EN'  'http://www.w3.org/Graphics/SVG/1.1/DTD/svg11.dtd'><svg width=\"127.32pt\" height=\"125.65pt\" version=\"1.1\" viewBox=\"0 0 127.32 125.65\" xmlns=\"http://www.w3.org/2000/svg\" xmlns:xlink=\"http://www.w3.org/1999/xlink\"><defs><style type=\"text/css\">*{stroke-linejoin: round; stroke-linecap: butt}</style></defs><path d=\"m-0 125.65h127.32v-125.65h-127.32z\" fill=\"#ffffff\"/><path d=\"m64.497 44.283h50.989\" clip-path=\"url(#p2ca51ede18)\" fill=\"none\" stroke=\"#000000\" stroke-linecap=\"square\" stroke-width=\"2\"/><path d=\"m64.497 90.637h50.989\" clip-path=\"url(#p2ca51ede18)\" fill=\"none\" stroke=\"#000000\" stroke-linecap=\"square\" stroke-width=\"2\"/><path d=\"m89.528 90.637v-46.354\" clip-path=\"url(#p2ca51ede18)\" fill=\"none\" stroke=\"#1192e8\" stroke-linecap=\"square\" stroke-width=\"2\"/><path d=\"m89.528 90.637v-46.354\" clip-path=\"url(#p2ca51ede18)\" fill=\"none\" stroke=\"#1192e8\" stroke-linecap=\"square\" stroke-width=\"2\"/><path d=\"m89.528 48.803c1.1986 0 2.3482-0.4762 3.1958-1.3237s1.3237-1.9972 1.3237-3.1958c0-1.1986-0.4762-2.3482-1.3237-3.1958s-1.9972-1.3237-3.1958-1.3237c-1.1986 0-2.3482 0.4762-3.1958 1.3237-0.84753 0.84753-1.3237 1.9972-1.3237 3.1958 0 1.1986 0.4762 2.3482 1.3237 3.1958 0.84753 0.84753 1.9972 1.3237 3.1958 1.3237z\" clip-path=\"url(#p2ca51ede18)\" fill=\"#1192e8\" stroke=\"#1192e8\" stroke-width=\"1.5\"/><path d=\"m89.528 95.157c1.1986 0 2.3482-0.4762 3.1958-1.3237 0.84753-0.84753 1.3237-1.9972 1.3237-3.1958s-0.4762-2.3482-1.3237-3.1958c-0.84753-0.84753-1.9972-1.3237-3.1958-1.3237-1.1986 0-2.3482 0.4762-3.1958 1.3237-0.84753 0.84753-1.3237 1.9972-1.3237 3.1958s0.4762 2.3482 1.3237 3.1958c0.84753 0.84753 1.9972 1.3237 3.1958 1.3237z\" clip-path=\"url(#p2ca51ede18)\" fill=\"#1192e8\" stroke=\"#1192e8\" stroke-width=\"1.5\"/><g clip-path=\"url(#p2ca51ede18)\"><g transform=\"translate(37.189 48.734) scale(.1625 -.1625)\"><defs><path id=\"DejaVuSans-Oblique-71\" transform=\"scale(.015625)\" d=\"m2669 525q-231-303-546-460-314-156-695-156-531 0-833 358-301 358-301 986 0 506 186 978t533 847q225 244 517 375t614 131q387 0 637-153t363-462l100 525h578l-934-4813h-579l360 1844zm-1778 813q0-463 193-705 194-242 560-242 544 0 928 520t384 1264q0 450-199 689-198 239-569 239-272 0-504-127-231-126-403-370-181-256-286-600-104-343-104-668z\"/><path id=\"DejaVuSans-30\" transform=\"scale(.015625)\" d=\"m2034 4250q-487 0-733-480-245-479-245-1442 0-959 245-1439 246-480 733-480 491 0 736 480 246 480 246 1439 0 963-246 1442-245 480-736 480zm0 500q785 0 1199-621 414-620 414-1801 0-1178-414-1799-414-620-1199-620-784 0-1198 620-414 621-414 1799 0 1181 414 1801 414 621 1198 621z\"/></defs><use xlink:href=\"#DejaVuSans-Oblique-71\"/><use transform=\"translate(63.477 -16.406) scale(.7)\" xlink:href=\"#DejaVuSans-30\"/></g></g><g clip-path=\"url(#p2ca51ede18)\"><g transform=\"translate(37.189 95.088) scale(.1625 -.1625)\"><defs><path id=\"DejaVuSans-31\" transform=\"scale(.015625)\" d=\"m794 531h1031v3560l-1122-225v575l1116 225h631v-4135h1031v-531h-2687v531z\"/></defs><use xlink:href=\"#DejaVuSans-Oblique-71\"/><use transform=\"translate(63.477 -16.406) scale(.7)\" xlink:href=\"#DejaVuSans-31\"/></g></g><defs><clipPath id=\"p2ca51ede18\"><rect x=\"7.2\" y=\"7.2\" width=\"112.92\" height=\"111.25\"/></clipPath></defs></svg>"
            ],
            "text/plain": [
              "<Figure size 203.683x200.667 with 1 Axes>"
            ]
          },
          "execution_count": 8,
          "metadata": {
          },
          "output_type": "execute_result"
        }
      ],
      "source": [
        "oracle = QuantumCircuit(2)\n",
        "oracle.cz(0,1)  # Membalikan fase |11>\n",
        "oracle.draw()"
      ]
    },
    {
      "cell_type": "markdown",
      "metadata": {
      },
      "source": [
        "Berikut adalah fungsi singkat untuk menunjukkan representasi matriks dari rangkaian ini:"
      ]
    },
    {
      "cell_type": "code",
      "execution_count": 9,
      "metadata": {
      },
      "outputs": [
        {
          "data": {
            "text/latex": [
              "$$\n",
              "U_\\text{oracle}=\n",
              "\\begin{bmatrix}\n",
              "1 & 0 & 0 & 0  \\\\\n",
              " 0 & 1 & 0 & 0  \\\\\n",
              " 0 & 0 & 1 & 0  \\\\\n",
              " 0 & 0 & 0 & -1  \\\\\n",
              " \\end{bmatrix}\n",
              "$$"
            ],
            "text/plain": [
              "<IPython.core.display.Latex object>"
            ]
          },
          "metadata": {
          },
          "output_type": "display_data"
        }
      ],
      "source": [
        "def display_unitary(qc, prefix=\"\"):\n",
        "    \"\"\"Mensimulasikan rangkaian sederhana dan menampilkan representasi matriksnya.\n",
        "    Args:\n",
        "        qc (QuantumCircuit): Sirkuit yang akan dikompilasi menjadi matriks kesatuan\n",
        "        prefix (str): LaTeX opsional untuk ditampilkan sebelum matriks\n",
        "    Returns:\n",
        "        None (menampilkan matriks sebagai efek samping)\n",
        "    \"\"\"\n",
        "    from qiskit import Aer\n",
        "    from qiskit.visualization import array_to_latex\n",
        "    sim = Aer.get_backend('aer_simulator')\n",
        "    # Selanjutnya, kita akan membuat salinan sirkuit dan mengerjakannya\n",
        "    # agar kita tidak mengubah apa pun sebagai efek samping\n",
        "    qc = qc.copy()\n",
        "    # Beri tahu simulator untuk menyimpan matriks kesatuan\n",
        "    qc.save_unitary()\n",
        "    unitary = sim.run(qc).result().get_unitary()\n",
        "    display(array_to_latex(unitary, prefix=prefix))\n",
        "\n",
        "display_unitary(oracle, \"U_\\\\text{oracle}=\")"
      ]
    },
    {
      "cell_type": "markdown",
      "metadata": {
      },
      "source": [
        "<!-- ::: q-block.exercise -->\n",
        "\n",
        "### Cobalah\n",
        "\n",
        "Bisakah Anda membuat 3 sirkuit oracle lagi yang malah menargetkan 3 status basis komputasi lainnya ($|00\\rangle$, $|01\\rangle$ dan $|10\\rangle$)? Gunakan `display_unitary` untuk memeriksa jawaban Anda.\n",
        "\n",
        "*Petunjuk:* Cobalah untuk membuat sirkuit yang mengubah $|11\\rangle$ ke dan dari keadaan dasar yang Anda targetkan, dapatkah Anda menggunakan sirkuit ini dengan gerbang `cz`?\n",
        "\n",
        "[Coba di IBM Quantum Lab](https://quantum-computing.ibm.com/lab)\n",
        "\n",
        "<!-- ::: -->"
      ]
    },
    {
      "cell_type": "markdown",
      "metadata": {
      },
      "source": [
        "### Membuat diffuser\n",
        "\n",
        "Selanjutnya kita akan membuat diffuser untuk dua qubit. Ingatlah bahwa kita ingin melakukan refleksi di sekitar keadaan $|s\\rangle$, jadi mari kita lihat apakah kita dapat menggunakan alat yang sudah kita miliki untuk membuat sirkuit yang melakukan refleksi ini.\n",
        "\n",
        "Kita telah melihat bahwa gerbang `cz` melakukan refleksi di sekitar $|11\\rangle$ (hingga fase global), jadi jika kita mengetahui transformasi yang memetakan $|s\\rangle \\rightarrow |11\\rangle$, kita dapat :\n",
        "\n",
        "1. Lakukan transformasi $|s\\rangle \\rightarrow |11\\rangle$\n",
        "2. Refleksikan sekitar $|11\\rangle$ (yaitu gerbang `cz` )\n",
        "3. Lakukan transformasi $|11\\rangle \\rightarrow |s\\rangle$\n",
        "\n",
        "Kita tahu bahwa kita dapat membuat status $|s\\rangle$ dari status $|00\\rangle$ dengan menerapkan gerbang-H ke setiap qubit. Karena gerbang-H adalah kebalikannya sendiri, menerapkan gerbang-H ke setiap qubit juga berarti $|s\\rangle \\rightarrow |00\\rangle$."
      ]
    },
    {
      "cell_type": "code",
      "execution_count": 10,
      "metadata": {
      },
      "outputs": [
        {
          "data": {
            "image/svg+xml": [
              "<?xml version=\"1.0\" encoding=\"UTF-8\"?><!DOCTYPE svg  PUBLIC '-//W3C//DTD SVG 1.1//EN'  'http://www.w3.org/Graphics/SVG/1.1/DTD/svg11.dtd'><svg width=\"127.32pt\" height=\"125.65pt\" version=\"1.1\" viewBox=\"0 0 127.32 125.65\" xmlns=\"http://www.w3.org/2000/svg\" xmlns:xlink=\"http://www.w3.org/1999/xlink\"><defs><style type=\"text/css\">*{stroke-linejoin: round; stroke-linecap: butt}</style></defs><path d=\"m-0 125.65h127.32v-125.65h-127.32z\" fill=\"#ffffff\"/><path d=\"m64.497 44.283h50.989\" clip-path=\"url(#p5ee82eac7f)\" fill=\"none\" stroke=\"#000000\" stroke-linecap=\"square\" stroke-width=\"2\"/><path d=\"m64.497 90.637h50.989\" clip-path=\"url(#p5ee82eac7f)\" fill=\"none\" stroke=\"#000000\" stroke-linecap=\"square\" stroke-width=\"2\"/><path d=\"m74.463 59.348h30.13v-30.13h-30.13z\" clip-path=\"url(#p5ee82eac7f)\" fill=\"#1192e8\" stroke=\"#1192e8\" stroke-width=\"1.5\"/><path d=\"m74.463 105.7h30.13v-30.13h-30.13z\" clip-path=\"url(#p5ee82eac7f)\" fill=\"#1192e8\" stroke=\"#1192e8\" stroke-width=\"1.5\"/><g clip-path=\"url(#p5ee82eac7f)\"><g transform=\"translate(37.189 48.734) scale(.1625 -.1625)\"><defs><path id=\"DejaVuSans-Oblique-71\" transform=\"scale(.015625)\" d=\"m2669 525q-231-303-546-460-314-156-695-156-531 0-833 358-301 358-301 986 0 506 186 978t533 847q225 244 517 375t614 131q387 0 637-153t363-462l100 525h578l-934-4813h-579l360 1844zm-1778 813q0-463 193-705 194-242 560-242 544 0 928 520t384 1264q0 450-199 689-198 239-569 239-272 0-504-127-231-126-403-370-181-256-286-600-104-343-104-668z\"/><path id=\"DejaVuSans-30\" transform=\"scale(.015625)\" d=\"m2034 4250q-487 0-733-480-245-479-245-1442 0-959 245-1439 246-480 733-480 491 0 736 480 246 480 246 1439 0 963-246 1442-245 480-736 480zm0 500q785 0 1199-621 414-620 414-1801 0-1178-414-1799-414-620-1199-620-784 0-1198 620-414 621-414 1799 0 1181 414 1801 414 621 1198 621z\"/></defs><use xlink:href=\"#DejaVuSans-Oblique-71\"/><use transform=\"translate(63.477 -16.406) scale(.7)\" xlink:href=\"#DejaVuSans-30\"/></g></g><g clip-path=\"url(#p5ee82eac7f)\"><g transform=\"translate(37.189 95.088) scale(.1625 -.1625)\"><defs><path id=\"DejaVuSans-31\" transform=\"scale(.015625)\" d=\"m794 531h1031v3560l-1122-225v575l1116 225h631v-4135h1031v-531h-2687v531z\"/></defs><use xlink:href=\"#DejaVuSans-Oblique-71\"/><use transform=\"translate(63.477 -16.406) scale(.7)\" xlink:href=\"#DejaVuSans-31\"/></g></g><g clip-path=\"url(#p5ee82eac7f)\"><g transform=\"translate(84.64 47.87) scale(.13 -.13)\" fill=\"#ffffff\"><defs><path id=\"DejaVuSans-48\" transform=\"scale(.015625)\" d=\"m628 4666h631v-1913h2294v1913h631v-4666h-631v2222h-2294v-2222h-631v4666z\"/></defs><use xlink:href=\"#DejaVuSans-48\"/></g></g><g clip-path=\"url(#p5ee82eac7f)\"><g transform=\"translate(84.64 94.224) scale(.13 -.13)\" fill=\"#ffffff\"><use xlink:href=\"#DejaVuSans-48\"/></g></g><defs><clipPath id=\"p5ee82eac7f\"><rect x=\"7.2\" y=\"7.2\" width=\"112.92\" height=\"111.25\"/></clipPath></defs></svg>"
            ],
            "text/plain": [
              "<Figure size 203.683x200.667 with 1 Axes>"
            ]
          },
          "execution_count": 10,
          "metadata": {
          },
          "output_type": "execute_result"
        }
      ],
      "source": [
        "diffuser = QuantumCircuit(2)\n",
        "diffuser.h([0, 1])\n",
        "diffuser.draw()"
      ]
    },
    {
      "cell_type": "markdown",
      "metadata": {
      },
      "source": [
        "Sekarang kita perlu mengetahui bagaimana kita mengubah $|00\\rangle \\rightarrow |11\\rangle$.\n",
        "\n",
        "<!-- ::: q-block.exercise -->\n",
        "\n",
        "### Kuis cepat\n",
        "\n",
        "<!-- ::: q-quiz(goal=\"intro-grover-5\") -->\n",
        "\n",
        "<!-- ::: .question -->\n",
        "\n",
        "Manakah dari gerbang berikut yang mengubah $|0\\rangle \\rightarrow |1\\rangle$?\n",
        "\n",
        "<!-- ::: -->\n",
        "\n",
        "<!-- ::: .option(correct) -->\n",
        "\n",
        "1. `x`\n",
        "\n",
        "<!-- ::: -->\n",
        "\n",
        "<!-- ::: .option -->\n",
        "\n",
        "1. `z`\n",
        "\n",
        "<!-- ::: -->\n",
        "\n",
        "<!-- ::: .option -->\n",
        "\n",
        "1. `h`\n",
        "\n",
        "<!-- ::: -->\n",
        "\n",
        "<!-- ::: .option -->\n",
        "\n",
        "1. `s`\n",
        "\n",
        "<!-- ::: -->\n",
        "\n",
        "<!-- ::: -->\n",
        "\n",
        "<!-- ::: -->"
      ]
    },
    {
      "cell_type": "markdown",
      "metadata": {
      },
      "source": [
        "Jadi menerapkan gerbang-X ke setiap qubit akan melakukan transformasi $|00\\rangle \\rightarrow |11\\rangle$. Ayo lakukan itu:"
      ]
    },
    {
      "cell_type": "code",
      "execution_count": 11,
      "metadata": {
      },
      "outputs": [
        {
          "data": {
            "image/svg+xml": [
              "<?xml version=\"1.0\" encoding=\"UTF-8\"?><!DOCTYPE svg  PUBLIC '-//W3C//DTD SVG 1.1//EN'  'http://www.w3.org/Graphics/SVG/1.1/DTD/svg11.dtd'><svg width=\"173.68pt\" height=\"125.65pt\" version=\"1.1\" viewBox=\"0 0 173.68 125.65\" xmlns=\"http://www.w3.org/2000/svg\" xmlns:xlink=\"http://www.w3.org/1999/xlink\"><defs><style type=\"text/css\">*{stroke-linejoin: round; stroke-linecap: butt}</style></defs><path d=\"m-0 125.65h173.68v-125.65h-173.68z\" fill=\"#ffffff\"/><path d=\"m64.497 44.283h97.343\" clip-path=\"url(#p5776345eb0)\" fill=\"none\" stroke=\"#000000\" stroke-linecap=\"square\" stroke-width=\"2\"/><path d=\"m64.497 90.637h97.343\" clip-path=\"url(#p5776345eb0)\" fill=\"none\" stroke=\"#000000\" stroke-linecap=\"square\" stroke-width=\"2\"/><path d=\"m74.463 59.348h30.13v-30.13h-30.13z\" clip-path=\"url(#p5776345eb0)\" fill=\"#1192e8\" stroke=\"#1192e8\" stroke-width=\"1.5\"/><path d=\"m74.463 105.7h30.13v-30.13h-30.13z\" clip-path=\"url(#p5776345eb0)\" fill=\"#1192e8\" stroke=\"#1192e8\" stroke-width=\"1.5\"/><path d=\"m120.82 59.348h30.13v-30.13h-30.13z\" clip-path=\"url(#p5776345eb0)\" fill=\"#005d5d\" stroke=\"#005d5d\" stroke-width=\"1.5\"/><path d=\"m120.82 105.7h30.13v-30.13h-30.13z\" clip-path=\"url(#p5776345eb0)\" fill=\"#005d5d\" stroke=\"#005d5d\" stroke-width=\"1.5\"/><g clip-path=\"url(#p5776345eb0)\"><g transform=\"translate(37.189 48.734) scale(.1625 -.1625)\"><defs><path id=\"DejaVuSans-Oblique-71\" transform=\"scale(.015625)\" d=\"m2669 525q-231-303-546-460-314-156-695-156-531 0-833 358-301 358-301 986 0 506 186 978t533 847q225 244 517 375t614 131q387 0 637-153t363-462l100 525h578l-934-4813h-579l360 1844zm-1778 813q0-463 193-705 194-242 560-242 544 0 928 520t384 1264q0 450-199 689-198 239-569 239-272 0-504-127-231-126-403-370-181-256-286-600-104-343-104-668z\"/><path id=\"DejaVuSans-30\" transform=\"scale(.015625)\" d=\"m2034 4250q-487 0-733-480-245-479-245-1442 0-959 245-1439 246-480 733-480 491 0 736 480 246 480 246 1439 0 963-246 1442-245 480-736 480zm0 500q785 0 1199-621 414-620 414-1801 0-1178-414-1799-414-620-1199-620-784 0-1198 620-414 621-414 1799 0 1181 414 1801 414 621 1198 621z\"/></defs><use xlink:href=\"#DejaVuSans-Oblique-71\"/><use transform=\"translate(63.477 -16.406) scale(.7)\" xlink:href=\"#DejaVuSans-30\"/></g></g><g clip-path=\"url(#p5776345eb0)\"><g transform=\"translate(37.189 95.088) scale(.1625 -.1625)\"><defs><path id=\"DejaVuSans-31\" transform=\"scale(.015625)\" d=\"m794 531h1031v3560l-1122-225v575l1116 225h631v-4135h1031v-531h-2687v531z\"/></defs><use xlink:href=\"#DejaVuSans-Oblique-71\"/><use transform=\"translate(63.477 -16.406) scale(.7)\" xlink:href=\"#DejaVuSans-31\"/></g></g><g clip-path=\"url(#p5776345eb0)\"><g transform=\"translate(84.64 47.87) scale(.13 -.13)\" fill=\"#ffffff\"><defs><path id=\"DejaVuSans-48\" transform=\"scale(.015625)\" d=\"m628 4666h631v-1913h2294v1913h631v-4666h-631v2222h-2294v-2222h-631v4666z\"/></defs><use xlink:href=\"#DejaVuSans-48\"/></g></g><g clip-path=\"url(#p5776345eb0)\"><g transform=\"translate(84.64 94.224) scale(.13 -.13)\" fill=\"#ffffff\"><use xlink:href=\"#DejaVuSans-48\"/></g></g><g clip-path=\"url(#p5776345eb0)\"><g transform=\"translate(131.43 47.87) scale(.13 -.13)\" fill=\"#ffffff\"><defs><path id=\"DejaVuSans-58\" transform=\"scale(.015625)\" d=\"m403 4666h678l1160-1735 1165 1735h678l-1500-2241 1600-2425h-678l-1312 1984-1322-1984h-681l1665 2491-1453 2175z\"/></defs><use xlink:href=\"#DejaVuSans-58\"/></g></g><g clip-path=\"url(#p5776345eb0)\"><g transform=\"translate(131.43 94.224) scale(.13 -.13)\" fill=\"#ffffff\"><use xlink:href=\"#DejaVuSans-58\"/></g></g><defs><clipPath id=\"p5776345eb0\"><rect x=\"7.2\" y=\"7.2\" width=\"159.28\" height=\"111.25\"/></clipPath></defs></svg>"
            ],
            "text/plain": [
              "<Figure size 287.294x200.667 with 1 Axes>"
            ]
          },
          "execution_count": 11,
          "metadata": {
          },
          "output_type": "execute_result"
        }
      ],
      "source": [
        "diffuser.x([0,1])\n",
        "diffuser.draw()"
      ]
    },
    {
      "cell_type": "markdown",
      "metadata": {
      },
      "source": [
        "Sekarang kita memiliki transformasi $|s\\rangle \\rightarrow |11\\rangle$, kita dapat menerapkan gerbang `cz` dan membalikkan transformasi."
      ]
    },
    {
      "cell_type": "code",
      "execution_count": 12,
      "metadata": {
      },
      "outputs": [
        {
          "data": {
            "image/svg+xml": [
              "<?xml version=\"1.0\" encoding=\"UTF-8\"?><!DOCTYPE svg  PUBLIC '-//W3C//DTD SVG 1.1//EN'  'http://www.w3.org/Graphics/SVG/1.1/DTD/svg11.dtd'><svg width=\"312.74pt\" height=\"125.65pt\" version=\"1.1\" viewBox=\"0 0 312.74 125.65\" xmlns=\"http://www.w3.org/2000/svg\" xmlns:xlink=\"http://www.w3.org/1999/xlink\"><defs><style type=\"text/css\">*{stroke-linejoin: round; stroke-linecap: butt}</style></defs><path d=\"m0 125.65h312.74v-125.65h-312.74z\" fill=\"#ffffff\"/><path d=\"m64.497 44.283h236.41\" clip-path=\"url(#p4473064419)\" fill=\"none\" stroke=\"#000000\" stroke-linecap=\"square\" stroke-width=\"2\"/><path d=\"m64.497 90.637h236.41\" clip-path=\"url(#p4473064419)\" fill=\"none\" stroke=\"#000000\" stroke-linecap=\"square\" stroke-width=\"2\"/><path d=\"m182.24 90.637v-46.354\" clip-path=\"url(#p4473064419)\" fill=\"none\" stroke=\"#1192e8\" stroke-linecap=\"square\" stroke-width=\"2\"/><path d=\"m182.24 90.637v-46.354\" clip-path=\"url(#p4473064419)\" fill=\"none\" stroke=\"#1192e8\" stroke-linecap=\"square\" stroke-width=\"2\"/><path d=\"m74.463 59.348h30.13v-30.13h-30.13z\" clip-path=\"url(#p4473064419)\" fill=\"#1192e8\" stroke=\"#1192e8\" stroke-width=\"1.5\"/><path d=\"m74.463 105.7h30.13v-30.13h-30.13z\" clip-path=\"url(#p4473064419)\" fill=\"#1192e8\" stroke=\"#1192e8\" stroke-width=\"1.5\"/><path d=\"m120.82 59.348h30.13v-30.13h-30.13z\" clip-path=\"url(#p4473064419)\" fill=\"#005d5d\" stroke=\"#005d5d\" stroke-width=\"1.5\"/><path d=\"m120.82 105.7h30.13v-30.13h-30.13z\" clip-path=\"url(#p4473064419)\" fill=\"#005d5d\" stroke=\"#005d5d\" stroke-width=\"1.5\"/><path d=\"m182.24 48.803c1.1986 0 2.3482-0.4762 3.1958-1.3237 0.84753-0.84753 1.3237-1.9972 1.3237-3.1958 0-1.1986-0.4762-2.3482-1.3237-3.1958-0.84753-0.84753-1.9972-1.3237-3.1958-1.3237s-2.3482 0.4762-3.1958 1.3237c-0.84753 0.84753-1.3237 1.9972-1.3237 3.1958 0 1.1986 0.4762 2.3482 1.3237 3.1958 0.84753 0.84753 1.9972 1.3237 3.1958 1.3237z\" clip-path=\"url(#p4473064419)\" fill=\"#1192e8\" stroke=\"#1192e8\" stroke-width=\"1.5\"/><path d=\"m182.24 95.157c1.1986 0 2.3482-0.4762 3.1958-1.3237 0.84753-0.84753 1.3237-1.9972 1.3237-3.1958s-0.4762-2.3482-1.3237-3.1958c-0.84753-0.84753-1.9972-1.3237-3.1958-1.3237s-2.3482 0.4762-3.1958 1.3237c-0.84753 0.84753-1.3237 1.9972-1.3237 3.1958s0.4762 2.3482 1.3237 3.1958c0.84753 0.84753 1.9972 1.3237 3.1958 1.3237z\" clip-path=\"url(#p4473064419)\" fill=\"#1192e8\" stroke=\"#1192e8\" stroke-width=\"1.5\"/><path d=\"m213.53 59.348h30.13v-30.13h-30.13z\" clip-path=\"url(#p4473064419)\" fill=\"#005d5d\" stroke=\"#005d5d\" stroke-width=\"1.5\"/><path d=\"m213.53 105.7h30.13v-30.13h-30.13z\" clip-path=\"url(#p4473064419)\" fill=\"#005d5d\" stroke=\"#005d5d\" stroke-width=\"1.5\"/><path d=\"m259.88 59.348h30.13v-30.13h-30.13z\" clip-path=\"url(#p4473064419)\" fill=\"#1192e8\" stroke=\"#1192e8\" stroke-width=\"1.5\"/><path d=\"m259.88 105.7h30.13v-30.13h-30.13z\" clip-path=\"url(#p4473064419)\" fill=\"#1192e8\" stroke=\"#1192e8\" stroke-width=\"1.5\"/><g clip-path=\"url(#p4473064419)\"><g transform=\"translate(37.189 48.734) scale(.1625 -.1625)\"><defs><path id=\"DejaVuSans-Oblique-71\" transform=\"scale(.015625)\" d=\"m2669 525q-231-303-546-460-314-156-695-156-531 0-833 358-301 358-301 986 0 506 186 978t533 847q225 244 517 375t614 131q387 0 637-153t363-462l100 525h578l-934-4813h-579l360 1844zm-1778 813q0-463 193-705 194-242 560-242 544 0 928 520t384 1264q0 450-199 689-198 239-569 239-272 0-504-127-231-126-403-370-181-256-286-600-104-343-104-668z\"/><path id=\"DejaVuSans-30\" transform=\"scale(.015625)\" d=\"m2034 4250q-487 0-733-480-245-479-245-1442 0-959 245-1439 246-480 733-480 491 0 736 480 246 480 246 1439 0 963-246 1442-245 480-736 480zm0 500q785 0 1199-621 414-620 414-1801 0-1178-414-1799-414-620-1199-620-784 0-1198 620-414 621-414 1799 0 1181 414 1801 414 621 1198 621z\"/></defs><use xlink:href=\"#DejaVuSans-Oblique-71\"/><use transform=\"translate(63.477 -16.406) scale(.7)\" xlink:href=\"#DejaVuSans-30\"/></g></g><g clip-path=\"url(#p4473064419)\"><g transform=\"translate(37.189 95.088) scale(.1625 -.1625)\"><defs><path id=\"DejaVuSans-31\" transform=\"scale(.015625)\" d=\"m794 531h1031v3560l-1122-225v575l1116 225h631v-4135h1031v-531h-2687v531z\"/></defs><use xlink:href=\"#DejaVuSans-Oblique-71\"/><use transform=\"translate(63.477 -16.406) scale(.7)\" xlink:href=\"#DejaVuSans-31\"/></g></g><g clip-path=\"url(#p4473064419)\"><g transform=\"translate(84.64 47.87) scale(.13 -.13)\" fill=\"#ffffff\"><defs><path id=\"DejaVuSans-48\" transform=\"scale(.015625)\" d=\"m628 4666h631v-1913h2294v1913h631v-4666h-631v2222h-2294v-2222h-631v4666z\"/></defs><use xlink:href=\"#DejaVuSans-48\"/></g></g><g clip-path=\"url(#p4473064419)\"><g transform=\"translate(84.64 94.224) scale(.13 -.13)\" fill=\"#ffffff\"><use xlink:href=\"#DejaVuSans-48\"/></g></g><g clip-path=\"url(#p4473064419)\"><g transform=\"translate(131.43 47.87) scale(.13 -.13)\" fill=\"#ffffff\"><defs><path id=\"DejaVuSans-58\" transform=\"scale(.015625)\" d=\"m403 4666h678l1160-1735 1165 1735h678l-1500-2241 1600-2425h-678l-1312 1984-1322-1984h-681l1665 2491-1453 2175z\"/></defs><use xlink:href=\"#DejaVuSans-58\"/></g></g><g clip-path=\"url(#p4473064419)\"><g transform=\"translate(131.43 94.224) scale(.13 -.13)\" fill=\"#ffffff\"><use xlink:href=\"#DejaVuSans-58\"/></g></g><g clip-path=\"url(#p4473064419)\"><g transform=\"translate(224.14 47.87) scale(.13 -.13)\" fill=\"#ffffff\"><use xlink:href=\"#DejaVuSans-58\"/></g></g><g clip-path=\"url(#p4473064419)\"><g transform=\"translate(224.14 94.224) scale(.13 -.13)\" fill=\"#ffffff\"><use xlink:href=\"#DejaVuSans-58\"/></g></g><g clip-path=\"url(#p4473064419)\"><g transform=\"translate(270.06 47.87) scale(.13 -.13)\" fill=\"#ffffff\"><use xlink:href=\"#DejaVuSans-48\"/></g></g><g clip-path=\"url(#p4473064419)\"><g transform=\"translate(270.06 94.224) scale(.13 -.13)\" fill=\"#ffffff\"><use xlink:href=\"#DejaVuSans-48\"/></g></g><defs><clipPath id=\"p4473064419\"><rect x=\"7.2\" y=\"7.2\" width=\"298.34\" height=\"111.25\"/></clipPath></defs></svg>"
            ],
            "text/plain": [
              "<Figure size 538.128x200.667 with 1 Axes>"
            ]
          },
          "execution_count": 12,
          "metadata": {
          },
          "output_type": "execute_result"
        }
      ],
      "source": [
        "diffuser.cz(0,1)\n",
        "diffuser.x([0,1])\n",
        "diffuser.h([0,1])\n",
        "diffuser.draw()"
      ]
    },
    {
      "cell_type": "markdown",
      "metadata": {
      },
      "source": [
        "### Menyatukannya\n",
        "\n",
        "Kita sekarang memiliki dua sirkuit, `oracle` dan `diffuser` , jadi kita dapat menyatukannya ke dalam sirkuit yang menjalankan algoritma Grover. Ingat tiga langkah:\n",
        "\n",
        "1. Inisialisasi qubit ke status $|s\\rangle$\n",
        "2. Lakukan oracle\n",
        "3. Lakukan diffuser"
      ]
    },
    {
      "cell_type": "code",
      "execution_count": 13,
      "metadata": {
      },
      "outputs": [
        {
          "data": {
            "image/svg+xml": [
              "<?xml version=\"1.0\" encoding=\"UTF-8\"?><!DOCTYPE svg  PUBLIC '-//W3C//DTD SVG 1.1//EN'  'http://www.w3.org/Graphics/SVG/1.1/DTD/svg11.dtd'><svg width=\"567.94pt\" height=\"172pt\" version=\"1.1\" viewBox=\"0 0 567.94 172\" xmlns=\"http://www.w3.org/2000/svg\" xmlns:xlink=\"http://www.w3.org/1999/xlink\"><defs><style type=\"text/css\">*{stroke-linejoin: round; stroke-linecap: butt}</style></defs><path d=\"m0 172h567.94v-172h-567.94z\" fill=\"#ffffff\"/><path d=\"m477.76 126.45h12.052l-6.026 8.6914z\" clip-path=\"url(#p246bac0a13)\" fill=\"#778899\"/><path d=\"m524.12 126.45h12.052l-6.026 8.6914z\" clip-path=\"url(#p246bac0a13)\" fill=\"#778899\"/><path d=\"m87.926 44.283h468.18\" clip-path=\"url(#p246bac0a13)\" fill=\"none\" stroke=\"#000000\" stroke-linecap=\"square\" stroke-width=\"2\"/><path d=\"m87.926 90.637h468.18\" clip-path=\"url(#p246bac0a13)\" fill=\"none\" stroke=\"#000000\" stroke-linecap=\"square\" stroke-width=\"2\"/><path d=\"m87.926 135.48h468.18\" clip-path=\"url(#p246bac0a13)\" fill=\"none\" stroke=\"#778899\" stroke-linecap=\"square\" stroke-width=\"2\"/><path d=\"m87.926 138.5h468.18\" clip-path=\"url(#p246bac0a13)\" fill=\"none\" stroke=\"#778899\" stroke-linecap=\"square\" stroke-width=\"2\"/><path d=\"m97.197 141.63 4.6354-9.2708\" clip-path=\"url(#p246bac0a13)\" fill=\"none\" stroke=\"#778899\" stroke-linecap=\"square\"/><path d=\"m159.31 90.637v-46.354\" clip-path=\"url(#p246bac0a13)\" fill=\"none\" stroke=\"#1192e8\" stroke-linecap=\"square\" stroke-width=\"2\"/><path d=\"m298.37 90.637v-46.354\" clip-path=\"url(#p246bac0a13)\" fill=\"none\" stroke=\"#1192e8\" stroke-linecap=\"square\" stroke-width=\"2\"/><path d=\"m428.4 67.46h18.078v-46.354h-18.078z\" clip-path=\"url(#p246bac0a13)\" fill=\"#bdbdbd\" opacity=\".6\"/><path d=\"m428.4 113.81h18.078v-46.354h-18.078z\" clip-path=\"url(#p246bac0a13)\" fill=\"#bdbdbd\" opacity=\".6\"/><path d=\"m485.3 44.283v82.162\" clip-path=\"url(#p246bac0a13)\" fill=\"none\" stroke=\"#778899\" stroke-linecap=\"square\" stroke-width=\"2\"/><path d=\"m482.28 44.283v82.162\" clip-path=\"url(#p246bac0a13)\" fill=\"none\" stroke=\"#778899\" stroke-linecap=\"square\" stroke-width=\"2\"/><path d=\"m531.65 90.637v35.808\" clip-path=\"url(#p246bac0a13)\" fill=\"none\" stroke=\"#778899\" stroke-linecap=\"square\" stroke-width=\"2\"/><path d=\"m528.64 90.637v35.808\" clip-path=\"url(#p246bac0a13)\" fill=\"none\" stroke=\"#778899\" stroke-linecap=\"square\" stroke-width=\"2\"/><path d=\"m159.31 90.637v-46.354\" clip-path=\"url(#p246bac0a13)\" fill=\"none\" stroke=\"#1192e8\" stroke-linecap=\"square\" stroke-width=\"2\"/><path d=\"m298.37 90.637v-46.354\" clip-path=\"url(#p246bac0a13)\" fill=\"none\" stroke=\"#1192e8\" stroke-linecap=\"square\" stroke-width=\"2\"/><path d=\"m97.892 59.348h30.13v-30.13h-30.13z\" clip-path=\"url(#p246bac0a13)\" fill=\"#1192e8\" stroke=\"#1192e8\" stroke-width=\"1.5\"/><path d=\"m97.892 105.7h30.13v-30.13h-30.13z\" clip-path=\"url(#p246bac0a13)\" fill=\"#1192e8\" stroke=\"#1192e8\" stroke-width=\"1.5\"/><path d=\"m159.31 48.803c1.1986 0 2.3482-0.4762 3.1958-1.3237 0.84753-0.84753 1.3237-1.9972 1.3237-3.1958 0-1.1986-0.4762-2.3482-1.3237-3.1958-0.84753-0.84753-1.9972-1.3237-3.1958-1.3237-1.1986 0-2.3482 0.4762-3.1958 1.3237s-1.3237 1.9972-1.3237 3.1958c0 1.1986 0.4762 2.3482 1.3237 3.1958s1.9972 1.3237 3.1958 1.3237z\" clip-path=\"url(#p246bac0a13)\" fill=\"#1192e8\" stroke=\"#1192e8\" stroke-width=\"1.5\"/><path d=\"m159.31 95.157c1.1986 0 2.3482-0.4762 3.1958-1.3237 0.84753-0.84753 1.3237-1.9972 1.3237-3.1958s-0.4762-2.3482-1.3237-3.1958c-0.84753-0.84753-1.9972-1.3237-3.1958-1.3237-1.1986 0-2.3482 0.4762-3.1958 1.3237-0.84753 0.84753-1.3237 1.9972-1.3237 3.1958s0.4762 2.3482 1.3237 3.1958c0.84753 0.84753 1.9972 1.3237 3.1958 1.3237z\" clip-path=\"url(#p246bac0a13)\" fill=\"#1192e8\" stroke=\"#1192e8\" stroke-width=\"1.5\"/><path d=\"m190.6 59.348h30.13v-30.13h-30.13z\" clip-path=\"url(#p246bac0a13)\" fill=\"#1192e8\" stroke=\"#1192e8\" stroke-width=\"1.5\"/><path d=\"m190.6 105.7h30.13v-30.13h-30.13z\" clip-path=\"url(#p246bac0a13)\" fill=\"#1192e8\" stroke=\"#1192e8\" stroke-width=\"1.5\"/><path d=\"m236.95 59.348h30.13v-30.13h-30.13z\" clip-path=\"url(#p246bac0a13)\" fill=\"#005d5d\" stroke=\"#005d5d\" stroke-width=\"1.5\"/><path d=\"m236.95 105.7h30.13v-30.13h-30.13z\" clip-path=\"url(#p246bac0a13)\" fill=\"#005d5d\" stroke=\"#005d5d\" stroke-width=\"1.5\"/><path d=\"m298.37 48.803c1.1986 0 2.3482-0.4762 3.1958-1.3237 0.84753-0.84753 1.3237-1.9972 1.3237-3.1958 0-1.1986-0.4762-2.3482-1.3237-3.1958-0.84753-0.84753-1.9972-1.3237-3.1958-1.3237s-2.3482 0.4762-3.1958 1.3237c-0.84753 0.84753-1.3237 1.9972-1.3237 3.1958 0 1.1986 0.4762 2.3482 1.3237 3.1958 0.84753 0.84753 1.9972 1.3237 3.1958 1.3237z\" clip-path=\"url(#p246bac0a13)\" fill=\"#1192e8\" stroke=\"#1192e8\" stroke-width=\"1.5\"/><path d=\"m298.37 95.157c1.1986 0 2.3482-0.4762 3.1958-1.3237 0.84753-0.84753 1.3237-1.9972 1.3237-3.1958s-0.4762-2.3482-1.3237-3.1958c-0.84753-0.84753-1.9972-1.3237-3.1958-1.3237s-2.3482 0.4762-3.1958 1.3237c-0.84753 0.84753-1.3237 1.9972-1.3237 3.1958s0.4762 2.3482 1.3237 3.1958c0.84753 0.84753 1.9972 1.3237 3.1958 1.3237z\" clip-path=\"url(#p246bac0a13)\" fill=\"#1192e8\" stroke=\"#1192e8\" stroke-width=\"1.5\"/><path d=\"m329.66 59.348h30.13v-30.13h-30.13z\" clip-path=\"url(#p246bac0a13)\" fill=\"#005d5d\" stroke=\"#005d5d\" stroke-width=\"1.5\"/><path d=\"m329.66 105.7h30.13v-30.13h-30.13z\" clip-path=\"url(#p246bac0a13)\" fill=\"#005d5d\" stroke=\"#005d5d\" stroke-width=\"1.5\"/><path d=\"m376.02 59.348h30.13v-30.13h-30.13z\" clip-path=\"url(#p246bac0a13)\" fill=\"#1192e8\" stroke=\"#1192e8\" stroke-width=\"1.5\"/><path d=\"m376.02 105.7h30.13v-30.13h-30.13z\" clip-path=\"url(#p246bac0a13)\" fill=\"#1192e8\" stroke=\"#1192e8\" stroke-width=\"1.5\"/><path d=\"m468.72 59.348h30.13v-30.13h-30.13z\" clip-path=\"url(#p246bac0a13)\" fill=\"#121619\" stroke=\"#121619\" stroke-width=\"1.5\"/><path d=\"m494.33 48.803c0-2.7958-1.1118-5.4799-3.0887-7.4568s-4.661-3.0887-7.4568-3.0887c-2.7958 0-5.4799 1.1118-7.4568 3.0887s-3.0887 4.661-3.0887 7.4568\" clip-path=\"url(#p246bac0a13)\" fill=\"none\" stroke=\"#ffffff\" stroke-width=\"2\"/><path d=\"m483.79 48.803 10.546-10.546\" clip-path=\"url(#p246bac0a13)\" fill=\"none\" stroke=\"#ffffff\" stroke-linecap=\"square\" stroke-width=\"2\"/><path d=\"m515.08 105.7h30.13v-30.13h-30.13z\" clip-path=\"url(#p246bac0a13)\" fill=\"#121619\" stroke=\"#121619\" stroke-width=\"1.5\"/><path d=\"m540.69 95.157c0-2.7958-1.1118-5.4799-3.0887-7.4568s-4.661-3.0887-7.4568-3.0887-5.4799 1.1118-7.4568 3.0887-3.0887 4.661-3.0887 7.4568\" clip-path=\"url(#p246bac0a13)\" fill=\"none\" stroke=\"#ffffff\" stroke-width=\"2\"/><path d=\"m530.14 95.157 10.546-10.546\" clip-path=\"url(#p246bac0a13)\" fill=\"none\" stroke=\"#ffffff\" stroke-linecap=\"square\" stroke-width=\"2\"/><g clip-path=\"url(#p246bac0a13)\"><g transform=\"translate(60.617 48.734) scale(.1625 -.1625)\"><defs><path id=\"DejaVuSans-Oblique-71\" transform=\"scale(.015625)\" d=\"m2669 525q-231-303-546-460-314-156-695-156-531 0-833 358-301 358-301 986 0 506 186 978t533 847q225 244 517 375t614 131q387 0 637-153t363-462l100 525h578l-934-4813h-579l360 1844zm-1778 813q0-463 193-705 194-242 560-242 544 0 928 520t384 1264q0 450-199 689-198 239-569 239-272 0-504-127-231-126-403-370-181-256-286-600-104-343-104-668z\"/><path id=\"DejaVuSans-30\" transform=\"scale(.015625)\" d=\"m2034 4250q-487 0-733-480-245-479-245-1442 0-959 245-1439 246-480 733-480 491 0 736 480 246 480 246 1439 0 963-246 1442-245 480-736 480zm0 500q785 0 1199-621 414-620 414-1801 0-1178-414-1799-414-620-1199-620-784 0-1198 620-414 621-414 1799 0 1181 414 1801 414 621 1198 621z\"/></defs><use xlink:href=\"#DejaVuSans-Oblique-71\"/><use transform=\"translate(63.477 -16.406) scale(.7)\" xlink:href=\"#DejaVuSans-30\"/></g></g><g clip-path=\"url(#p246bac0a13)\"><g transform=\"translate(60.617 95.088) scale(.1625 -.1625)\"><defs><path id=\"DejaVuSans-31\" transform=\"scale(.015625)\" d=\"m794 531h1031v3560l-1122-225v575l1116 225h631v-4135h1031v-531h-2687v531z\"/></defs><use xlink:href=\"#DejaVuSans-Oblique-71\"/><use transform=\"translate(63.477 -16.406) scale(.7)\" xlink:href=\"#DejaVuSans-31\"/></g></g><g clip-path=\"url(#p246bac0a13)\"><g transform=\"translate(92.561 130.19) scale(.104 -.104)\"><defs><path id=\"DejaVuSans-32\" transform=\"scale(.015625)\" d=\"m1228 531h2203v-531h-2962v531q359 372 979 998 621 627 780 809 303 340 423 576 121 236 121 464 0 372-261 606-261 235-680 235-297 0-627-103-329-103-704-313v638q381 153 712 231 332 78 607 78 725 0 1156-363 431-362 431-968 0-288-108-546-107-257-392-607-78-91-497-524-418-433-1181-1211z\"/></defs><use xlink:href=\"#DejaVuSans-32\"/></g></g><g clip-path=\"url(#p246bac0a13)\"><g transform=\"translate(34.404 141.48) scale(.1625 -.1625)\"><defs><path id=\"DejaVuSans-6d\" transform=\"scale(.015625)\" d=\"m3328 2828q216 388 516 572t706 184q547 0 844-383 297-382 297-1088v-2113h-578v2094q0 503-179 746-178 244-543 244-447 0-707-297-259-296-259-809v-1978h-578v2094q0 506-178 748t-550 242q-441 0-701-298-259-298-259-808v-1978h-578v3500h578v-544q197 322 472 475t653 153q382 0 649-194 267-193 395-562z\"/><path id=\"DejaVuSans-65\" transform=\"scale(.015625)\" d=\"m3597 1894v-281h-2644q38-594 358-905t892-311q331 0 642 81t618 244v-544q-310-131-635-200t-659-69q-838 0-1327 487-489 488-489 1320 0 859 464 1363 464 505 1252 505 706 0 1117-455 411-454 411-1235zm-575 169q-6 471-264 752-258 282-683 282-481 0-770-272t-333-766l2050 4z\"/><path id=\"DejaVuSans-61\" transform=\"scale(.015625)\" d=\"m2194 1759q-697 0-966-159t-269-544q0-306 202-486 202-179 548-179 479 0 768 339t289 901v128h-572zm1147 238v-1997h-575v531q-197-318-491-470t-719-152q-537 0-855 302-317 302-317 808 0 590 395 890 396 300 1180 300h807v57q0 397-261 614t-733 217q-300 0-585-72-284-72-546-216v532q315 122 612 182 297 61 578 61 760 0 1135-394 375-393 375-1193z\"/><path id=\"DejaVuSans-73\" transform=\"scale(.015625)\" d=\"m2834 3397v-544q-243 125-506 187-262 63-544 63-428 0-642-131t-214-394q0-200 153-314t616-217l197-44q612-131 870-370t258-667q0-488-386-773-386-284-1061-284-281 0-586 55t-642 164v594q319-166 628-249 309-82 613-82 406 0 624 139 219 139 219 392 0 234-158 359-157 125-692 241l-200 47q-534 112-772 345-237 233-237 639 0 494 350 762 350 269 994 269 318 0 599-47 282-46 519-140z\"/></defs><use xlink:href=\"#DejaVuSans-6d\"/><use x=\"97.412109\" xlink:href=\"#DejaVuSans-65\"/><use x=\"158.935547\" xlink:href=\"#DejaVuSans-61\"/><use x=\"220.214844\" xlink:href=\"#DejaVuSans-73\"/></g></g><g clip-path=\"url(#p246bac0a13)\"><g transform=\"translate(108.07 47.87) scale(.13 -.13)\" fill=\"#ffffff\"><defs><path id=\"DejaVuSans-48\" transform=\"scale(.015625)\" d=\"m628 4666h631v-1913h2294v1913h631v-4666h-631v2222h-2294v-2222h-631v4666z\"/></defs><use xlink:href=\"#DejaVuSans-48\"/></g></g><g clip-path=\"url(#p246bac0a13)\"><g transform=\"translate(108.07 94.224) scale(.13 -.13)\" fill=\"#ffffff\"><use xlink:href=\"#DejaVuSans-48\"/></g></g><g clip-path=\"url(#p246bac0a13)\"><g transform=\"translate(200.78 47.87) scale(.13 -.13)\" fill=\"#ffffff\"><use xlink:href=\"#DejaVuSans-48\"/></g></g><g clip-path=\"url(#p246bac0a13)\"><g transform=\"translate(200.78 94.224) scale(.13 -.13)\" fill=\"#ffffff\"><use xlink:href=\"#DejaVuSans-48\"/></g></g><g clip-path=\"url(#p246bac0a13)\"><g transform=\"translate(247.57 47.87) scale(.13 -.13)\" fill=\"#ffffff\"><defs><path id=\"DejaVuSans-58\" transform=\"scale(.015625)\" d=\"m403 4666h678l1160-1735 1165 1735h678l-1500-2241 1600-2425h-678l-1312 1984-1322-1984h-681l1665 2491-1453 2175z\"/></defs><use xlink:href=\"#DejaVuSans-58\"/></g></g><g clip-path=\"url(#p246bac0a13)\"><g transform=\"translate(247.57 94.224) scale(.13 -.13)\" fill=\"#ffffff\"><use xlink:href=\"#DejaVuSans-58\"/></g></g><g clip-path=\"url(#p246bac0a13)\"><g transform=\"translate(340.27 47.87) scale(.13 -.13)\" fill=\"#ffffff\"><use xlink:href=\"#DejaVuSans-58\"/></g></g><g clip-path=\"url(#p246bac0a13)\"><g transform=\"translate(340.27 94.224) scale(.13 -.13)\" fill=\"#ffffff\"><use xlink:href=\"#DejaVuSans-58\"/></g></g><g clip-path=\"url(#p246bac0a13)\"><g transform=\"translate(386.19 47.87) scale(.13 -.13)\" fill=\"#ffffff\"><use xlink:href=\"#DejaVuSans-48\"/></g></g><g clip-path=\"url(#p246bac0a13)\"><g transform=\"translate(386.19 94.224) scale(.13 -.13)\" fill=\"#ffffff\"><use xlink:href=\"#DejaVuSans-48\"/></g></g><path d=\"m437.43 21.106v46.354\" clip-path=\"url(#p246bac0a13)\" fill=\"none\" stroke=\"#000000\" stroke-dasharray=\"3.7,1.6\"/><path d=\"m437.43 67.46v46.354\" clip-path=\"url(#p246bac0a13)\" fill=\"none\" stroke=\"#000000\" stroke-dasharray=\"3.7,1.6\"/><g clip-path=\"url(#p246bac0a13)\"><g transform=\"translate(495.38 130.19) scale(.104 -.104)\"><use xlink:href=\"#DejaVuSans-30\"/></g></g><g clip-path=\"url(#p246bac0a13)\"><g transform=\"translate(541.73 130.19) scale(.104 -.104)\"><use xlink:href=\"#DejaVuSans-31\"/></g></g><defs><clipPath id=\"p246bac0a13\"><rect x=\"7.2\" y=\"7.2\" width=\"553.54\" height=\"157.6\"/></clipPath></defs></svg>"
            ],
            "text/plain": [
              "<Figure size 998.442x284.278 with 1 Axes>"
            ]
          },
          "execution_count": 13,
          "metadata": {
          },
          "output_type": "execute_result"
        }
      ],
      "source": [
        "grover = QuantumCircuit(2)\n",
        "grover.h([0,1])  # inisiasi |s>\n",
        "grover = grover.compose(oracle)\n",
        "grover = grover.compose(diffuser)\n",
        "grover.measure_all()\n",
        "grover.draw()"
      ]
    },
    {
      "cell_type": "markdown",
      "metadata": {
      },
      "source": [
        "Dan ketika kita mensimulasikan, kita dapat melihat probabilitas 100% untuk mengukur $|11\\rangle$, yang merupakan solusi untuk oracle kita!"
      ]
    },
    {
      "cell_type": "code",
      "execution_count": 14,
      "metadata": {
      },
      "outputs": [
        {
          "data": {
            "text/plain": [
              "{'11': 1024}"
            ]
          },
          "execution_count": 14,
          "metadata": {
          },
          "output_type": "execute_result"
        }
      ],
      "source": [
        "from qiskit import Aer\n",
        "sim = Aer.get_backend('aer_simulator')\n",
        "sim.run(grover).result().get_counts()"
      ]
    },
    {
      "cell_type": "markdown",
      "metadata": {
      },
      "source": [
        "<!-- ::: q-block.exercise -->\n",
        "\n",
        "### Cobalah\n",
        "\n",
        "Coba ganti oracle di sirkuit ini dengan oracle berbeda yang Anda buat di atas. Apakah Anda mendapatkan hasil yang diharapkan?\n",
        "\n",
        "[Coba di IBM Quantum Lab](https://quantum-computing.ibm.com/lab)\n",
        "\n",
        "<!-- ::: -->"
      ]
    },
    {
      "cell_type": "markdown",
      "metadata": {
        "formulas": {
          "Big-N": {
            "meaning": "This is the number of entries in a database, or the number of possible inputs to search through."
          },
          "lil-n": {
            "meaning": "This is the number of bits in our problem."
          }
        }
      },
      "source": [
        "## Masalah SAT sulit\n",
        "\n",
        "![Grafik ukuran masalah vs waktu berjalan algoritma. Baik tebakan acak maupun algoritma Grover ditampilkan sebagai kurva eksponensial, dengan pertumbuhan Grover sedikit lebih lambat daripada tebakan acak.](images/grover/rg-vs-grover-sat.svg)\n",
        "\n",
        "Tebakan acak tumbuh secara linier dengan jumlah entri dalam database, yang sebenarnya tidak terlalu buruk (walaupun kita tahu kita bisa melakukan jauh lebih baik). Tapi kita biasanya mengukur bagaimana algoritma tumbuh dengan panjang masukannya *bit*, jadi bagaimana keduanya terhubung? Setiap variabel ekstra (bit) dalam masalah SAT kita *menggandakan* jumlah solusi yang mungkin (yaitu entri ke database kita), sehingga ruang pencarian bertambah secara eksponensial dengan jumlah bit.\n",
        "\n",
        "$$\\cssId{Big-N}{N} = 2^\\cssId{lil-n}{n}$$\n",
        "\n",
        "Karena tebakan acak tumbuh secara linier dengan $N$, waktu berjalan akan bertambah sekitar $2^n$.\n",
        "\n",
        "<!-- ::: q-block.exercise -->\n",
        "\n",
        "### Kuis cepat\n",
        "\n",
        "<!-- ::: q-quiz(goal=\"intro-grover-6\") -->\n",
        "\n",
        "<!-- ::: .question -->\n",
        "\n",
        "Bagaimana waktu berjalan algoritma Grover bertambah dengan jumlah bit input (ketika hanya ada satu solusi)?\n",
        "\n",
        "<!-- ::: -->\n",
        "\n",
        "<!-- ::: .option -->\n",
        "\n",
        "1. $\\sqrt{n}$\n",
        "\n",
        "<!-- ::: -->\n",
        "\n",
        "<!-- ::: .option -->\n",
        "\n",
        "1. $2^n$\n",
        "\n",
        "<!-- ::: -->\n",
        "\n",
        "<!-- ::: .option(correct) -->\n",
        "\n",
        "1. $\\sqrt{2^n}$\n",
        "\n",
        "<!-- ::: -->\n",
        "\n",
        "<!-- ::: .option -->\n",
        "\n",
        "1. $\\sqrt{2^{n/2}}$\n",
        "\n",
        "<!-- ::: -->\n",
        "\n",
        "<!-- ::: -->\n",
        "\n",
        "<!-- ::: -->\n",
        "\n",
        "## Memanfaatkan struktur\n",
        "\n",
        "Sejauh ini, kita telah memperlakukan masalah SAT seolah-olah tidak terstruktur sama sekali, tetapi tidak seperti buku telepon yang tidak disortir, *kita* memiliki beberapa petunjuk yang akan membantu kita dalam pencarian kita. Masalah SAT bukanlah kotak hitam, tetapi sekumpulan klausa individual, dan kita dapat menggunakan klausa ini untuk mendapatkan jawaban yang benar. Kita tidak akan mendapatkan sesuatu yang seefisien pencarian biner, tetapi masih jauh lebih baik daripada tebakan acak. Salah satu algoritma (klasik) yang menggunakan struktur masalah SAT adalah algoritma Schöning.\n",
        "\n",
        "![Grafik ukuran masalah vs waktu berjalan algoritma. Tebakan acak, algoritma Grover dan algoritma Schöning ditampilkan sebagai kurva eksponensial, dengan Schöning tumbuh sedikit lebih lambat daripada Grover, yang pada gilirannya tumbuh lebih lambat daripada tebakan acak](images/grover/rg-vs-grov-vs-schoning.svg)\n",
        "\n",
        "Seperti tebakan acak, algoritma Schöning memilih input secara acak dan memeriksa apakah berhasil. Tapi tidak seperti tebakan acak, itu tidak membuang string ini begitu saja. Sebagai gantinya, ia mengambil klausa yang tidak terpenuhi dan beralih sedikit di string untuk memenuhi klausa itu. Yang mengganggu, string baru ini mungkin tidak memuaskan klausa berbeda yang sebelumnya terpenuhi, tetapi rata-rata bermanfaat untuk terus mengubah bit dengan cara ini beberapa kali. Jika tebakan awal cukup dekat, ada kemungkinan besar kita akan menemukan solusi yang tepat. Jika tidak, maka setelah beberapa langkah, komputer mulai lagi dengan tebakan baru yang benar-benar acak. Ternyata untuk 3-SAT (walaupun bukan (&gt;3)-SAT), algoritma ini berkembang dengan kira-kira $1,3334^n$, yang tidak hanya mengalahkan tebakan acak, tetapi juga mengalahkan algoritma Grover!\n",
        "\n",
        "![Grafik ukuran masalah vs waktu berjalan algoritma. Algoritma tebakan acak, Grover, Schöning, dan ](images/grover/all-algos.svg)\n",
        "\n",
        "Ini mungkin tidak terlihat jelas pada pandangan pertama, tetapi kita sebenarnya dapat menggabungkan algoritma Grover dan Schöning untuk mendapatkan sesuatu yang lebih baik daripada keduanya secara individual. Jika Anda membuat sirkuit yang menjalankan bagian bit-toggling dari algoritma Schöning, Anda dapat menggunakan ini sebagai oracle dan menggunakan algoritma Grover untuk menemukan \"tebakan awal\" terbaik. Kita tidak akan membahasnya dalam kursus ini, tetapi ini adalah proyek yang menyenangkan untuk menyelidikinya!"
      ]
    }
  ],
  "metadata": {
    "kernelspec": {
      "display_name": "Python 3",
      "language": "python",
      "name": "python3"
    },
    "language_info": {
      "codemirror_mode": {
        "name": "ipython",
        "version": 3
      },
      "file_extension": ".py",
      "mimetype": "text/x-python",
      "name": "python",
      "nbconvert_exporter": "python",
      "pygments_lexer": "ipython3",
      "version": "3.9"
    }
  },
  "nbformat": 4,
  "nbformat_minor": 4
}
