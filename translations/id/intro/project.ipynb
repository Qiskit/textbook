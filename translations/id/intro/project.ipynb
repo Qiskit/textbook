{
  "cells": [
    {
      "cell_type": "markdown",
      "metadata": {
      },
      "source": [
        "# Proyek"
      ]
    },
    {
      "cell_type": "markdown",
      "metadata": {
        "gloss": {
          "git": {
            "text": "Git is a program you can use to track changes to computer files. Git tracks the entire state of a folder (known as a Git repository).",
            "title": "Git"
          },
          "github": {
            "text": "Github is a website you can use to host your project. Similar to video / image sharing websites, but aimed at software developers. As well as hosting software, Github also makes it easy to display your project and collaborate with others.",
            "title": "GitHub"
          },
          "slack": {
            "text": "Slack is a messaging app.",
            "title": "Slack"
          }
        }
      },
      "source": [
        "## Selamat!\n",
        "\n",
        "![Piala](images/project/trophy.png)\n",
        "\n",
        "Selamat! Anda telah menyelesaikan salah satu bagian dari kursus ini. Anda telah belajar banyak, termasuk:\n",
        "\n",
        "- Bagaimana kita mengukur dan membandingkan berbagai algoritma\n",
        "- Bagaimana kita memecah komputasi menjadi bit dan gerbang\n",
        "- Apa itu interferensi kuantum, dan efek yang ditimbulkannya\n",
        "- Apa itu entanglement, dan bagaimana itu membuat komputer kuantum sulit untuk disimulasikan\n",
        "- Bagaimana kita dapat menggunakan komputer kuantum untuk meningkatkan algoritma penelusuran\n",
        "\n",
        "## Menyelesaikan proyek terpandu\n",
        "\n",
        "Semoga Anda menikmati belajar tentang komputasi kuantum. Jika demikian, kami sekarang mendorong Anda untuk mencoba sebuah proyek. Dalam proyek Anda, Anda akan memilih area yang menurut Anda menarik dan menyelidikinya. Bentuk akhir proyek Anda dapat berupa apa pun yang Anda pilih, mulai dari unggahan tulisan blog yang menjelaskan penyelidikan, hingga meningkatkan Qiskit itu sendiri.\n",
        "\n",
        "### Langkah 1: Terhubung ke komunitas\n",
        "\n",
        "Jika Anda belum bergabung, Qiskit [Slack workspace](gloss:slack) adalah tempat yang tepat untuk mengajukan pertanyaan dan mendapatkan dukungan. Pengembang Qiskit dan buku teks online ini tergabung di sana, serta banyak siswa dan peminatnya. Anda dapat bergabung melalui [tautan ini](https://qisk.it/join-slack) , dan memperkenalkan diri Anda di channel [`#textbook-projects`](https://qiskit.slack.com/archives/C028AGU6KDX) .\n",
        "\n",
        "### Langkah 2: Mulailah dengan GitHub\n",
        "\n",
        "Menggunakan [GitHub](gloss:github) Anda dapat:\n",
        "\n",
        "- Menampilkan kode yang telah Anda tulis.\n",
        "- Buat halaman web Anda sendiri (misalnya untuk blog atau demo online) menggunakan [halaman GitHub](https://pages.github.com/) .\n",
        "- Fork [Qiskit](https://github.com/Qiskit/qiskit-terra) dan mulailah mengerjakan dan menyelesaikan suatu masalah.\n",
        "\n",
        "[Git](gloss:git) dan GitHub adalah alat yang hebat, tetapi mereka juga dilengkapi dengan sedikit jargon. Kami akan menyertakan tooltips untuk beberapa istilah ini ketika kita menemukannya.\n",
        "\n",
        "Anda dapat mengikuti panduan memulai cepat GitHub di [sini](https://docs.github.com/en/get-started/quickstart) ."
      ]
    },
    {
      "cell_type": "markdown",
      "metadata": {
      },
      "source": [
        "### Langkah 3: Menentukan proyek\n",
        "\n",
        "Proyek Anda dapat merupakan hal apa pun yang Anda inginkan. Anda dapat mengunggah ide Anda di channel [`#textbook-projects`](https://qiskit.slack.com/archives/C028AGU6KDX) Slack untuk mendapatkan saran dari mentor, dan menemukan orang lain untuk diajak berkolaborasi.\n",
        "\n",
        "Berikut adalah beberapa ide untuk mewujudkan imajinasi Anda. Setiap set poin-poin secara kasar disusun mulai dari proyek yang lebih mudah ke yang lebih sulit. Anda dapat menggunakan salah satu dari ide-ide ini, mengadaptasinya, atau melakukan sesuatu yang sama sekali berbeda!\n",
        "\n",
        "<!-- ::: q-block.tabs -->\n",
        "\n",
        "## Ide proyek\n",
        "\n",
        "<!-- ::: tab -->\n",
        "\n",
        "### Berbasis tulisan\n",
        "\n",
        "Jika Anda senang menulis, Anda dapat:\n",
        "\n",
        "- Tulis unggahan blog yang menjelaskan apa yang telah Anda pelajari dan bagaimana pengalaman itu. Gunakan blog ini untuk mendokumentasikan perjalanan Anda, melalui komputasi kuantum atau bidang minat lainnya.\n",
        "- Tulis unggahan blog yang menjelaskan paradoks Hardy kepada audiens target tertentu, misalnya “seseorang yang membenci matematika”, atau “seseorang yang menyukai teka-teki”.\n",
        "- Atasi masalah terbuka di repo GitHub Buku Teks Qiskit, atau sarankan perubahan untuk sesuatu yang menurut Anda dapat ditingkatkan.\n",
        "- Selidiki aplikasi komputasi kuantum yang diusulkan. Keuntungan seperti apa yang bisa kita harapkan? Dan kinerja apa yang kita perlukan dari komputer kuantum untuk dapat mencapai keunggulan ini? Hati-hati dengan klaim yang terlalu berlebihan dan pseudosains. Tulis hasil Anda sebagai unggahan blog.\n",
        "\n",
        "<!-- ::: tab -->\n",
        "\n",
        "### Berbasis kode\n",
        "\n",
        "Jika Anda lebih nyaman dengan kode:\n",
        "\n",
        "- Buat program yang membangun oracle untuk string tertentu (misalnya diberikan `01101`, lalu akan mengembalikan `QuantumCircuit` yang membalikkan fase status $|01101\\rangle$ dan membiarkan semua status lainnya tidak berubah.\n",
        "- Atasi masalah terbuka di repo Qiskit Terra.\n",
        "- Buat program yang membangun sirkuit Oracle dari masalah (seperti yang dilakukan kelas `PhaseOracle` di halaman sebelumnya). Menilai bagaimana ukuran sirkuit Anda tumbuh seiring dengan bertambahnya ukuran masalahnya.\n",
        "- Cobalah membuat [game kuantum](https://github.com/qiskit-community/Qisge) .\n",
        "\n",
        "<!-- ::: tab -->\n",
        "\n",
        "### Lebih teoretis\n",
        "\n",
        "Jika Anda lebih suka sisi matematika:\n",
        "\n",
        "- Cari tahu berapa kali algoritma Grover perlu menanyakan oracle jika ada beberapa solusi. Tulis pekerjaan Anda sebagai unggahan blog singkat.\n",
        "- Tulis pengantar \"matematika untuk komputasi kuantum\". Teliti matematika yang diperlukan untuk membaca buku teks komputasi kuantum lainnya dan buat panduan untuk pelajar baru.\n",
        "- Selidiki bagaimana Anda akan menggabungkan algoritma Schöning dengan algoritma Grover. Seperti apa rangkaian untuk ini? Apakah ada potensi masalah?\n",
        "\n",
        "<!-- ::: tab -->\n",
        "\n",
        "### Sesuatu yang lain\n",
        "\n",
        "Jika Anda lebih suka proyek yang lebih ringan:\n",
        "\n",
        "- Tulis lagu tentang komputasi kuantum. unggah lagu tersebut di Soundcloud atau YouTube.\n",
        "- Buatlah sebuah karya seni yang mewakili konsep menarik yang Anda temui dalam kursus ini. Tulis unggahan blog singkat yang menyajikan dan menjelaskannya.\n",
        "- Gunakan Qiskit dan [MatPlotLib](https://matplotlib.org/) (atau [Bokeh](https://docs.bokeh.org/en/latest/index.html), atau library python lainnya) untuk membuat sesuatu yang menarik secara visual. Tulis unggahan blog singkat yang menyajikan dan menjelaskannya.\n",
        "\n",
        "<!-- ::: -->\n",
        "\n",
        "<!-- ::: -->"
      ]
    },
    {
      "cell_type": "markdown",
      "metadata": {
      },
      "source": [
        "### Langkah 4: Selamat bersenang-senang!\n",
        "\n",
        "Mulailah bekerja menuju tujuan Anda. Jika Anda merasa proyek Anda terlalu sulit, macet, atau bosan, mintalah bantuan di saluran [`#textbook-projects`](https://qiskit.slack.com/archives/C028AGU6KDX). Para mentor dapat mengarahkan Anda ke arah yang benar, atau membantu Anda menyesuaikan tujuan proyek Anda.\n",
        "\n",
        "### Langkah 5: Bagikan pekerjaan Anda\n",
        "\n",
        "Setelah Anda meluangkan waktu dan tenaga, bagikan pekerjaan Anda dengan orang lain di saluran [`#textbook-projects`](https://qiskit.slack.com/archives/C028AGU6KDX). Jika Anda mempertahankan profil GitHub dan halaman web halaman GitHub, Anda dapat menggunakan ini untuk membuktikan pengetahuan dan pengalaman Anda kepada orang lain (misalnya dalam aplikasi atau wawancara)."
      ]
    }
  ],
  "metadata": {
    "kernelspec": {
      "display_name": "Python 3",
      "language": "python",
      "name": "python3"
    },
    "language_info": {
      "codemirror_mode": {
        "name": "ipython",
        "version": 3
      },
      "file_extension": ".py",
      "mimetype": "text/x-python",
      "name": "python",
      "nbconvert_exporter": "python",
      "pygments_lexer": "ipython3",
      "version": "3.9"
    }
  },
  "nbformat": 4,
  "nbformat_minor": 4
}
