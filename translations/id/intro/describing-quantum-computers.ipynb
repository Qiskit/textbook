{
  "cells": [
    {
      "cell_type": "markdown",
      "metadata": {
        "gloss": {
          "complex-number": {
            "text": "Complex numbers can be made from combinations of real and <a href='https://en.wikipedia.org/wiki/Imaginary_number'>imaginary numbers</a>. If you're not sure what this means, don't worry! You won't need to in this course (but you can <a href='https://en.wikipedia.org/wiki/Complex_number'>read more</a> if you're interested.",
            "title": "Complex number"
          },
          "esoteric": {
            "text": "Esoteric words are specialized words that most people won't understand. We'll try to avoid them as much as possible, but they can be useful sometimes.",
            "title": "esoteric"
          },
          "real-number": {
            "text": "A real number is a number that only has a magnitude. If you've not heard of a real number before, you can probably drop the 'real' and just call them 'numbers'. Examples of real numbers include: 112, -5.4, and π. <a href='https://en.wikipedia.org/wiki/Real_number'>Read more</a>.",
            "title": "Real number"
          }
        }
      },
      "source": [
        "# Menjelaskan apa itu komputer kuantum\n",
        "\n",
        "Bab ini akan memperkenalkan objek dan notasi matematika yang akan kita gunakan untuk menggambarkan komputer kuantum. Simbol, persamaan, dan kosa kata khusus memungkinkan kita untuk berkomunikasi dan bekerja dengan matematika dengan cara yang sangat ringkas, itu adalah metode yang bagus, tetapi juga ada kekurangannya; metode ini akan sulit dipahami jika Anda tidak tahu apa arti semua simbol yang digunakan. Untuk mengatasi ini, dalam buku teks ini, persamaan bersifat interaktif. Anda dapat menggerakkan mouse ke atas simbol untuk melihat artinya. Kami juga akan perlahan-lahan menaburkan beberapa kata [esoterik](gloss:esoteric) sehingga Anda dapat mulai berbicara bahasa matematika dan komputasi kuantum, dan Anda dapat melihat penjelasan dari kata-kata ini dengan menggerakkan mouse Anda ke atas kata-kata ini juga.\n",
        "\n",
        "## Amplitudo\n",
        "\n",
        "Probabilitas klasik sering diwakili oleh [bilangan real](gloss:real-number) antara 0 dan 1, tetapi amplitudo juga memiliki arah. Kandidat alami untuk mewakili amplitudo adalah [bilangan kompleks](gloss:complex-number) , karena bilangan kompleks juga dapat sepenuhnya dijelaskan oleh besaran dan arah, tetapi dalam kursus ini kita hanya akan bekerja dengan amplitudo yang dapat menunjuk ke dua arah (misalnya kiri dan kanan ) dan kita tidak perlu khawatir tentang hal lain.\n",
        "\n",
        "![Gambar membandingkan amplitudo dan probabilitas](images/quantum-states/prob-vs-amp.svg)\n",
        "\n",
        "Ini membuat matematika jauh lebih sederhana, karena sekarang kita dapat menggambarkan amplitudo apa pun sebagai angka antara -1 dan +1; jika angkanya positif, amplitudonya menghadap ke depan, dan jika negatif, menghadap ke belakang. Ternyata ini masih cukup untuk melakukan hal-hal menarik!\n",
        "\n",
        "<!-- ::: q-block.exercise -->\n",
        "\n",
        "### Kuis cepat\n",
        "\n",
        "<!-- ::: q-quiz(goal=\"intro-describing-0\") -->\n",
        "\n",
        "<!-- ::: .question -->\n",
        "\n",
        "Manakah dari berikut ini yang merupakan amplitudo yang valid tetapi *bukan* probabilitas yang valid?\n",
        "\n",
        "<!-- ::: -->\n",
        "\n",
        "<!-- ::: .option(correct) -->\n",
        "\n",
        "1. $-1$\n",
        "\n",
        "<!-- ::: -->\n",
        "\n",
        "<!-- ::: .option -->\n",
        "\n",
        "1. $1/3$\n",
        "\n",
        "<!-- ::: -->\n",
        "\n",
        "<!-- ::: .option -->\n",
        "\n",
        "1. $1.01$\n",
        "\n",
        "<!-- ::: -->\n",
        "\n",
        "<!-- ::: .option -->\n",
        "\n",
        "1. $\\sqrt{-2}$\n",
        "\n",
        "<!-- ::: -->\n",
        "\n",
        "<!-- ::: -->\n",
        "\n",
        "<!-- ::: -->"
      ]
    },
    {
      "cell_type": "markdown",
      "metadata": {
        "formulas": {
          "_amp-0-0": {
            "meaning": "This is the amplitude of the two-qubit state <code>00</code>, it's equal to the square-root of a half."
          },
          "_amp-1-0": {
            "meaning": "This is the amplitude of the two-qubit state <code>01</code>, it's equal to the square-root of a half."
          },
          "_amp-2-0": {
            "meaning": "This is the amplitude of the two-qubit state <code>10</code>, it's equal to 0."
          },
          "_amp-3-0": {
            "meaning": "This is the amplitude of the two-qubit state <code>11</code>, it's equal to 0."
          },
          "def-equal": {
            "meaning": "This means we are defining the things on the left of this symbol to be equal to the things on the right of this symbol."
          },
          "x-ket": {
            "meaning": "This is a vector we have labelled '|x⟩', the '|' and '⟩' remind us this label refers to a vector.",
            "say": "ket x"
          }
        }
      },
      "source": [
        "## Vektor keadaan\n",
        "\n",
        "Kita melihat di halaman terakhir bahwa kita dapat memprediksi perilaku sistem kuantum dengan melacak amplitudo probabilitas untuk setiap hasil pada setiap titik dalam perhitungan kita. Kita juga melihat bahwa, untuk n qubit, ada $2^n$ kemungkinan hasil, dan kita dapat menyimpan amplitudo ini dalam daftar dengan ukuran panjang $2^n$ yang kita sebut vektor. Karena vektor-vektor ini menggambarkan status keadaan qubit, kita menyebutnya \"vektor keadaan\".\n",
        "\n",
        "Berikut merupakan sebuah contoh dari vektor keadaan untuk komputer kuantum dengan 2 qubit:\n",
        "\n",
        "$$\\class{x-ket}{|x\\rangle} \\class{def-equal}{:=} \\begin{bmatrix}\\cssId{_amp-0-0}{\\sqrt{\\tfrac{1}{2}}} \\ \\cssId{_amp-1-0}{\\sqrt{\\tfrac{1}{2}}} \\ \\cssId{_amp-2-0}{0} \\ \\cssId{_amp-3-0}{0} \\end{bmatrix}$$\n",
        "\n",
        "Luangkan waktu untuk membaca tooltips pada persamaan di atas, lalu jawab pertanyaan di bawah ini.\n",
        "\n",
        "<!-- ::: q-block.exercise -->\n",
        "\n",
        "### Kuis cepat\n",
        "\n",
        "<!-- ::: q-quiz(goal=\"intro-describing-1\") -->\n",
        "\n",
        "<!-- ::: .question -->\n",
        "\n",
        "Pada vektor keadaan di atas, berapakah *amplitudo* hasil '01'?\n",
        "\n",
        "<!-- ::: -->\n",
        "\n",
        "<!-- ::: .option -->\n",
        "\n",
        "1. $1$\n",
        "\n",
        "<!-- ::: -->\n",
        "\n",
        "<!-- ::: .option(correct) -->\n",
        "\n",
        "1. $\\sqrt{\\tfrac{1}{2}}$\n",
        "\n",
        "<!-- ::: -->\n",
        "\n",
        "<!-- ::: .option -->\n",
        "\n",
        "1. $1/2$\n",
        "\n",
        "<!-- ::: -->\n",
        "\n",
        "<!-- ::: .option -->\n",
        "\n",
        "1. $0$\n",
        "\n",
        "<!-- ::: -->\n",
        "\n",
        "<!-- ::: -->\n",
        "\n",
        "---\n",
        "\n",
        "<!-- ::: q-quiz(goal=\"intro-describing-2\") -->\n",
        "\n",
        "<!-- ::: .question -->\n",
        "\n",
        "jika vektor keadaan diatas menjelaskan keadaan dari beberapa qubit, berapa *peluang* untuk mengukur '00'?\n",
        "\n",
        "<!-- ::: -->\n",
        "\n",
        "<!-- ::: .option -->\n",
        "\n",
        "1. $1$\n",
        "\n",
        "<!-- ::: -->\n",
        "\n",
        "<!-- ::: .option -->\n",
        "\n",
        "1. $\\sqrt{\\tfrac{1}{2}}$\n",
        "\n",
        "<!-- ::: -->\n",
        "\n",
        "<!-- ::: .option(correct) -->\n",
        "\n",
        "1. $1/2$\n",
        "\n",
        "<!-- ::: -->\n",
        "\n",
        "<!-- ::: .option -->\n",
        "\n",
        "1. $0$\n",
        "\n",
        "<!-- ::: -->\n",
        "\n",
        "<!-- ::: -->\n",
        "\n",
        "<!-- ::: -->"
      ]
    },
    {
      "cell_type": "markdown",
      "metadata": {
        "formulas": {
          "_amp-0-1": {
            "meaning": "Multiplying this number by the scalar on the left of the vector gives us the amplitude of the state <code>00</code>."
          },
          "_amp-0-general": {
            "meaning": "This is the amplitude of the state <code>00</code>."
          },
          "_amp-1-1": {
            "meaning": "Multiplying this number by the scalar on the left of the vector gives us the amplitude of the state <code>01</code>."
          },
          "_amp-1-general": {
            "meaning": "This is the amplitude of the state <code>01</code>."
          },
          "_amp-2-1": {
            "meaning": "Multiplying this number by the scalar on the left of the vector gives us the amplitude of the state <code>10</code>."
          },
          "_amp-2-general": {
            "meaning": "This is the amplitude of the state <code>10</code>."
          },
          "_amp-3-1": {
            "meaning": "Multiplying this number by the scalar on the left of the vector gives us the amplitude of the state <code>11</code>."
          },
          "_amp-3-general": {
            "meaning": "This is the amplitude of the state <code>11</code>."
          },
          "_number-three": {
            "meaning": "This is just the normal number <a href='https://en.wikipedia.org/wiki/3'>three</a>. Because it's immediately next to the vector, it means we are multiplying the vector by this number.",
            "say": "Three"
          },
          "_psi-ket": {
            "meaning": "This is a vector we have labelled '|ψ⟩', the '|' and '⟩' remind us this label refers to a vector. The character 'ψ' is written 'psi' in english.",
            "say": "ket sigh (the 'p' is silent)"
          },
          "_sq-amp0": {
            "meaning": "This number is proportional to the amplitude of the state <code>0</code>."
          },
          "_sq-amp1": {
            "meaning": "This number is proportional to the amplitude of the state <code>1</code>."
          },
          "_vec-el-0": {
            "meaning": "This is the zeroth element of the vector."
          },
          "_vec-el-1": {
            "meaning": "This is the first element of the vector."
          },
          "_vec-el-2": {
            "meaning": "This is the second element of the vector."
          },
          "_vec-el-3": {
            "meaning": "This is the third element of the vector."
          },
          "_vec-el-n": {
            "meaning": "This is the (N-1)th element of the vector. Since there are N elements (and we started counting at 0), this is also the last element."
          },
          "def-00": {
            "meaning": "This is a statevector we are defining here (but is also a common convention in quantum computing) which corresponds to being in the state <code>00</code> with certainty."
          },
          "def-01": {
            "meaning": "This is a statevector we are defining here (but is also a common convention in quantum computing) which corresponds to being in the state <code>01</code> with certainty."
          },
          "def-10": {
            "meaning": "This is a statevector we are defining here (but is also a common convention in quantum computing) which corresponds to being in the state <code>10</code> with certainty."
          },
          "def-11": {
            "meaning": "This is a statevector we are defining here (but is also a common convention in quantum computing) which corresponds to being in the state <code>11</code> with certainty."
          },
          "dots": {
            "meaning": "These dots mean \"and so on\", implying a continuing pattern."
          },
          "equals": {
            "meaning": "Everything to the left of this sign is equal to everything to the right of the sign.",
            "say": "Equals"
          },
          "minus-ket": {
            "meaning": "This is a vector we have labelled '|-⟩', the '|' and '⟩' remind us this label refers to a vector.",
            "say": "ket minus"
          },
          "plus-ket": {
            "meaning": "This is a vector we have labelled '|+⟩', the '|' and '⟩' remind us this label refers to a vector.",
            "say": "ket plus"
          },
          "scalar": {
            "meaning": "This is just a normal number. Because it's immediately next to the vector, it means we are multiplying (i.e. scaling) the vector by this number."
          }
        },
        "gloss": {
          "scalar-gloss": {
            "text": "This is just a normal number, i.e. not a vector or matrix.",
            "title": "Scalar"
          }
        }
      },
      "source": [
        "## Penjumlahan dan perkalian vektor\n",
        "\n",
        "Jika Anda mempelajari bidang matematika lain, Anda akan menemukan banyak hal yang dapat dianggap sebagai vektor. Kami telah memperkenalkan vektor sebagai 'daftar angka', karena begitulah cara kami akan menganggapnya di buku pelajaran ini dan di Qiskit. Tapi yang membedakan vektor dari 'daftar angka lama' biasa adalah bahwa matematikawan memutuskan beberapa aturan yang terdefinisi dengan baik untuk menjumlahkan dua vektor, dan untuk mengalikan vektor dengan [skalar](gloss:scalar-gloss).\n",
        "\n",
        "### Mengalikan vektor dengan skalar\n",
        "\n",
        "Sebagai contoh, berikut adalah vektor yang dikalikan dengan skalar:\n",
        "\n",
        "$$ \\cssId{_number-three}{3} \\begin{bmatrix} \\class{_vec-el-0}{1} \\ \\class{_vec-el-1}{2} \\ \\class{_vec-el-2}{-1} \\ \\class{_vec-el-3}{\\tfrac{1}{2}} \\ \\end{bmatrix} \\class{equals}{=} \\begin{bmatrix} \\class{_vec-el-0}{3} \\ \\class{_vec-el-1}{6} \\ \\class{_vec-el-2}{-3} \\ \\class{_vec-el-3}{\\tfrac{3}{2}} \\ \\end{bmatrix} $$\n",
        "\n",
        "Kita dapat melihat bahwa setiap elemen vektor telah dikalikan dengan 3. Aturan yang lebih umum untuk vektor dengan elemen $N$ adalah:\n",
        "\n",
        "$$ \\class{scalar}{s} \\begin{bmatrix} \\class{_vec-el-0}{e_0} \\ \\class{_vec-el-1}{e_1} \\ \\class{_vec-el-2}{e_2} \\ \\class{dots}{\\vdots} \\ \\class{*vec-el-n}{e*{N-1}} \\ \\end{bmatrix} \\class{equals}{=} \\begin{bmatrix} \\class{_vec-el-0}{s\\times e_0} \\ \\class{_vec-el-1}{s\\times e_1} \\ \\class{_vec-el-2}{s\\times e_2} \\ \\class{dots}{\\vdots} \\ \\class{*vec-el-n}{s\\times e*{N-1}} \\ \\end{bmatrix} $$\n",
        "\n",
        "Jadi kita bisa menulis vektor status $|x\\rangle$ yang kita definisikan di atas dengan lebih rapi seperti ini:\n",
        "\n",
        "$$ \\class{x-ket}{|x\\rangle} = \\class{scalar}{\\sqrt{\\tfrac{1}{2}}} \\begin{bmatrix} \\cssId{_amp-0-1}{1} \\ \\cssId{_amp-1-1}{1} \\ \\cssId{_amp-2-1}{0} \\ \\cssId{_amp-3-1}{0} \\ \\end{bmatrix} $$\n",
        "\n",
        "### Menambahkan dua vektor\n",
        "\n",
        "Aturan kedua adalah menjumlahkan dua vektor. Hal ini hanya bisa dilakukan jika kedua vektor tersebut memiliki jumlah elemen yang sama, dan menghasilkan vektor baru dengan jumlah elemen yang sama juga. Berikut adalah aturan umumnya:\n",
        "\n",
        "$$ \\begin{bmatrix} \\class{_vec-el-0}{a_0} \\ \\class{_vec-el-1}{a_1} \\ \\class{_vec-el-2}{a_2} \\ \\class{_vec-el-3}{a_3} \\ \\class{dots}{\\vdots} \\ \\class{*vec-el-n}{a*{N-1}} \\ \\end{bmatrix} + \\begin{bmatrix} \\class{_vec-el-0}{b_0} \\ \\class{_vec-el-1}{b_1} \\ \\class{_vec-el-2}{b_2} \\ \\class{_vec-el-3}{b_3} \\ \\class{dots}{\\vdots} \\ \\class{*vec-el-n}{b*{N-1}} \\ \\end{bmatrix} \\class{equals}{=} \\begin{bmatrix} \\class{_vec-el-0}{a_0 + b_0} \\ \\class{_vec-el-1}{a_1 + b_1} \\ \\class{_vec-el-2}{a_2 + b_2} \\ \\class{<em data-md-type=\"emphasis\">vec-el-3}{a_3 + b_3} \\ \\class{dots}{\\vdots} \\ \\class{*vec-el-n}{a*{N-1} + b</em>{N-1}} \\ \\end{bmatrix} $$\n",
        "\n",
        "Ini mengartikan bahwa kita dapat menambah dan mengurangi vektor untuk membuat vektor yang baru. Sebagai contoh, jika kita mendefinisikan vektor $|00\\rangle$ dan $|01\\rangle$ seperti berikut:\n",
        "\n",
        "$$ \\class{def-00}{|00\\rangle} \\class{def-equal}{:=} \\begin{bmatrix} \\class{_amp-0-general}{1} \\ \\class{_amp-1-general}{0} \\ \\class{_amp-2-general}{0} \\ \\class{_amp-3-general}{0} \\end{bmatrix}, \\quad \\class{def-01}{|01\\rangle} \\class{def-equal}{:=} \\begin{bmatrix} \\class{_amp-0-general}{0} \\ \\class{_amp-1-general}{1} \\ \\class{_amp-2-general}{0} \\ \\class{_amp-3-general}{0} \\end{bmatrix} $$\n",
        "\n",
        "Kita dapat menulis $\\class{x-ket}{|x\\rangle}$ dalam bentuk:\n",
        "\n",
        "$$\\class{x-ket}{|x\\rangle} = \\sqrt{\\tfrac{1}{2}}(\\class{def-00}{|00\\rangle} + \\class{def-01}{|01\\rangle})$$\n",
        "\n",
        "Kita menyebut menambahkan status kuantum seperti ini \"mensuperposisikan\" mereka, jadi kita dapat mengatakan \"$|x\\rangle$ adalah superposisi dari status $|00\\rangle$ dan $|01\\rangle$.\" Faktanya, itu adalah konvensi dalam komputasi kuantum untuk menentukan status dasar komputasi seperti:\n",
        "\n",
        "$$ \\class{def-00}{|00\\rangle} \\class{def-equal}{:=} \\begin{bmatrix} \\class{_amp-0-general}{1} \\ \\class{_amp-1-general}{0} \\ \\class{_amp-2-general}{0} \\ \\class{_amp-3-general}{0} \\end{bmatrix}, \\quad \\class{def-01}{|01\\rangle} \\class{def-equal}{:=} \\begin{bmatrix} \\class{_amp-0-general}{0} \\ \\class{_amp-1-general}{1} \\ \\class{_amp-2-general}{0} \\ \\class{_amp-3-general}{0} \\end{bmatrix}, \\quad \\class{def-10}{|10\\rangle} \\class{def-equal}{:=} \\begin{bmatrix} \\class{_amp-0-general}{0} \\ \\class{_amp-1-general}{0} \\ \\class{_amp-2-general}{1} \\ \\class{_amp-3-general}{0} \\end{bmatrix}, \\quad \\class{def-11}{|11\\rangle} \\class{def-equal}{:=} \\begin{bmatrix} \\class{_amp-0-general}{0} \\ \\class{_amp-1-general}{0} \\ \\class{_amp-2-general}{0} \\ \\class{_amp-3-general}{1} \\end{bmatrix} $$\n",
        "\n",
        "Dan kita dapat menulis status kuantum apa pun sebagai superposisi dari vektor status ini, jika kita mengalikan setiap vektor dengan angka yang benar dan menjumlahkannya:\n",
        "\n",
        "$$ \\cssId{_psi-ket}{|\\psi\\rangle} = \\class{*amp-0-general}{a*{00}}\\class{def-00}{|00\\rangle}\n",
        "\n",
        "Karena kita dapat menulis vektor apa pun sebagai kombinasi dari keempat vektor ini, kita katakan keempat vektor ini membentuk basis, yang akan kita sebut *basis komputasi* . Basis komputasi bukanlah satu-satunya basis. Untuk qubit tunggal, basis populer dibentuk oleh vektor $\\class{plus-ket}{|{+}\\rangle}$ dan $\\class{minus-ket}{|{-}\\rangle}$:\n",
        "\n",
        "<!-- ::: column -->\n",
        "\n",
        "![gambar yang menunjukkan basis |0>, |1> dan |+>, |-> pada bidang yang sama](images/quantum-states/basis.svg)\n",
        "\n",
        "<!-- ::: column -->\n",
        "\n",
        "$$ \\class{plus-ket}{|{+}\\rangle} = \\sqrt{\\tfrac{1}{2}} \\begin{bmatrix} \\class{_sq-amp0}{1} \\ \\class{_sq-amp1}{1} \\end{bmatrix} $$ $$ \\class{minus-ket}{|{-}\\rangle} = \\sqrt{\\tfrac{1}{2}} \\begin{bmatrix} \\class{_sq-amp0}{1} \\ \\class{_sq-amp1}{-1} \\end{bmatrix} $$\n",
        "\n",
        "<!-- ::: -->\n",
        "\n",
        "<!-- ::: q-block.exercise -->\n",
        "\n",
        "### Cobalah\n",
        "\n",
        "Temukan nilai untuk $\\alpha$, $\\beta$, $\\gamma$ dan $\\delta$ sehingga persamaan ini benar:\n",
        "\n",
        "- $\\alpha|{+}\\rangle + \\beta|{-}\\rangle = |0\\rangle$\n",
        "- $\\gamma|{+}\\rangle + \\delta|{-}\\rangle = |1\\rangle$\n",
        "\n",
        "<!-- ::: -->"
      ]
    },
    {
      "cell_type": "markdown",
      "metadata": {
        "formulas": {
          "_amp-i": {
            "meaning": "'a<sub>i</sub>' is the amplitude of the state |i⟩, where |i⟩ is one of the computational basis states."
          },
          "sum": {
            "meaning": "This means we add up the things on the right with different values of i, starting at i=0.",
            "say": "'sum' or 'summation'. The character 'Σ' is capital <a href='https://en.wikipedia.org/wiki/Sigma'>sigma</a>."
          }
        },
        "gloss": {
          "matrix": {
            "text": "Matrices are tables of numbers. They also come with some rules for adding and multiplying like vectors did. <a href='https://en.wikipedia.org/wiki/Matrix_(mathematics)'>Read more</a>.",
            "title": "Matrix"
          }
        }
      },
      "source": [
        "## Berapa banyak vektor keadaan yang berbeda?\n",
        "\n",
        "Kita tahu bahwa kita dapat merepresentasikan keadaan kuantum apa pun menggunakan vektor, tetapi apakah setiap vektor merupakan keadaan kuantum yang valid? Dalam kasus ini, tidak; karena kita mengkuadratkan amplitudo kita untuk menemukan probabilitas hasil yang terjadi, kita perlu menambahkan kuadrat ini menjadi satu, jika tidak maka tidak masuk akal.\n",
        "\n",
        "$$ \\cssId{sum}{\\sum^{N-1}_{i=0}} \\cssId{_amp-i}{a_i}^2 = 1 $$\n",
        "\n",
        "<!-- ::: q-block.exercise -->\n",
        "\n",
        "### Kuis cepat\n",
        "\n",
        "<!-- ::: q-quiz(goal=\"quiz2\") -->\n",
        "\n",
        "<!-- ::: .question -->\n",
        "\n",
        "Manakah dari berikut ini yang merupakan keadaan kuantum yang valid? (Coba tambahkan kuadrat amplitudo.)\n",
        "\n",
        "<!-- ::: -->\n",
        "\n",
        "<!-- ::: .option(correct) -->\n",
        "\n",
        "1. $\\sqrt{\\tfrac{1}{3}}\\begin{bmatrix} 1 \\\\ -1 \\\\ 1 \\\\ 0 \\end{bmatrix}$\n",
        "\n",
        "<!-- ::: -->\n",
        "\n",
        "<!-- ::: .option -->\n",
        "\n",
        "1. $\\sqrt{\\tfrac{1}{2}}\\begin{bmatrix} 1 \\\\ -1 \\\\ -1 \\\\ 1 \\end{bmatrix}$\n",
        "\n",
        "<!-- ::: -->\n",
        "\n",
        "<!-- ::: .option -->\n",
        "\n",
        "1. $\\tfrac{1}{2}\\begin{bmatrix} 1 \\\\ 1 \\end{bmatrix}$\n",
        "\n",
        "<!-- ::: -->\n",
        "\n",
        "<!-- ::: -->\n",
        "\n",
        "<!-- ::: -->\n",
        "\n",
        "Faktor lain adalah sesuatu yang kita sebut \"fase global\" vektor keadaan. Karena kita hanya tahu fase ada karena efek interferensi yang dihasilkannya, kita hanya bisa mengukur *perbedaan* fase. Jika kita memutar semua amplitudo dalam vektor keadaan dengan jumlah yang sama, kita masih akan melihat perilaku yang persis sama.\n",
        "\n",
        "<!-- ::: column -->\n",
        "\n",
        "![gambar menunjukkan efek interferensi dengan fase awal yang berbeda](images/quantum-states/global-phase-L.svg)\n",
        "\n",
        "<!-- ::: column -->\n",
        "\n",
        "![gambar menunjukkan efek interferensi dengan fase awal yang berbeda](images/quantum-states/global-phase-R.svg)\n",
        "\n",
        "<!-- ::: -->\n",
        "\n",
        "Misalnya, tidak ada percobaan yang dapat kita lakukan yang dapat membedakan antara dua keadaan ini:\n",
        "\n",
        "<!-- ::: column -->\n",
        "\n",
        "$$ |a\\rangle = \\sqrt{\\tfrac{1}{2}}\\begin{bmatrix} 1 \\ 0 \\ 0 \\ 1 \\end{bmatrix} $$\n",
        "\n",
        "<!-- ::: column -->\n",
        "\n",
        "$$ -|a\\rangle = \\sqrt{\\tfrac{1}{2}}\\begin{bmatrix} -1 \\ 0 \\ 0 \\ -1 \\end{bmatrix} $$\n",
        "\n",
        "<!-- ::: -->\n",
        "\n",
        "Karena perbedaan antara masing-masing amplitudo adalah sama. Bisa dibilang kedua vektor ini berbeda secara *matematis* , tetapi *secara fisik* sama.\n",
        "\n",
        "## Operasi kuantum\n",
        "\n",
        "Jadi sekarang kita tahu semua tentang berbagai keadaan qubit kita, saatnya untuk melihat bagaimana kita merepresentasikan operasi yang mengubah satu keadaan ke keadaan lainnya.\n",
        "\n",
        "Dengan cara yang sama, ada kemungkinan transisi bahwa tindakan tertentu akan mengubah koin dari kepala ke ekor, ada amplitudo transisi untuk setiap status awal dan status akhir qubit kita. Kita dapat menggambarkan operasi kuantum apa pun melalui amplitudo transisi ini.\n",
        "\n",
        "![Gambar yang menunjukkan dua vektor status sebelum dan sesudah operasi](images/quantum-states/quantum-operation.svg)\n",
        "\n",
        "Jadi, kemungkinan transformasi apa yang ada? Katakanlah kita memiliki status awal $|a\\rangle$ yang diubah menjadi status baru $|b\\rangle$. Jika kita ingin representasi kita mencakup setiap kemungkinan transformasi, maka setiap amplitudo dalam $|a\\rangle$ harus memiliki amplitudo transisi ke setiap amplitudo dalam $|b\\rangle$.\n",
        "\n",
        "<!-- ::: q-block.exercise -->\n",
        "\n",
        "### Kuis cepat\n",
        "\n",
        "<!-- ::: q-quiz(goal=\"intro-describing-3\") -->\n",
        "\n",
        "<!-- ::: .question -->\n",
        "\n",
        "Vektor keadaan $n$-qubit dapat berisi hingga $2^n$ amplitudo. Berapa jumlah amplitudo transisi terbesar yang kita perlukan untuk mewakili setiap operasi kuantum pada $n$qubit?\n",
        "\n",
        "<!-- ::: -->\n",
        "\n",
        "<!-- ::: .option -->\n",
        "\n",
        "1. $2\\cdot 2^n$\n",
        "\n",
        "<!-- ::: -->\n",
        "\n",
        "<!-- ::: .option(correct) -->\n",
        "\n",
        "1. $(2^n)^2$\n",
        "\n",
        "<!-- ::: -->\n",
        "\n",
        "<!-- ::: .option -->\n",
        "\n",
        "1. $2n$\n",
        "\n",
        "<!-- ::: -->\n",
        "\n",
        "<!-- ::: .option -->\n",
        "\n",
        "1. $2^{2^n}$\n",
        "\n",
        "<!-- ::: -->\n",
        "\n",
        "<!-- ::: -->\n",
        "\n",
        "<!-- ::: -->\n",
        "\n",
        "Menggambar garis seperti ini agak berantakan, jadi sebagai gantinya kita bisa memasukkan semua angka ini ke dalam [matriks](gloss:matrix) :"
      ]
    },
    {
      "cell_type": "markdown",
      "metadata": {
        "formulas": {
          "_cnot-gate": {
            "meaning": "This is the label we have given the matrix that represents the CNOT gate."
          },
          "_t_amp_00_00": {
            "meaning": "This is the amplitude of this operation transforming the state <code>00</code> to <code>00</code>."
          },
          "_t_amp_00_01": {
            "meaning": "This is the amplitude of this operation transforming the state <code>00</code> to <code>01</code>."
          },
          "_t_amp_00_10": {
            "meaning": "This is the amplitude of this operation transforming the state <code>00</code> to <code>10</code>."
          },
          "_t_amp_00_11": {
            "meaning": "This is the amplitude of this operation transforming the state <code>00</code> to <code>11</code>."
          },
          "_t_amp_01_00": {
            "meaning": "This is the amplitude of this operation transforming the state <code>01</code> to <code>00</code>."
          },
          "_t_amp_01_01": {
            "meaning": "This is the amplitude of this operation transforming the state <code>01</code> to <code>01</code>."
          },
          "_t_amp_01_10": {
            "meaning": "This is the amplitude of this operation transforming the state <code>01</code> to <code>10</code>."
          },
          "_t_amp_01_11": {
            "meaning": "This is the amplitude of this operation transforming the state <code>01</code> to <code>11</code>."
          },
          "_t_amp_0_0": {
            "meaning": "This is proportional to the transition amplitude of this operation transforming the state <code>0</code> to <code>0</code>."
          },
          "_t_amp_0_1": {
            "meaning": "This is proportional to the transition amplitude of this operation transforming the state <code>0</code> to <code>1</code>."
          },
          "_t_amp_10_00": {
            "meaning": "This is the amplitude of this operation transforming the state <code>10</code> to <code>00</code>."
          },
          "_t_amp_10_01": {
            "meaning": "This is the amplitude of this operation transforming the state <code>10</code> to <code>01</code>."
          },
          "_t_amp_10_10": {
            "meaning": "This is the amplitude of this operation transforming the state <code>10</code> to <code>10</code>."
          },
          "_t_amp_10_11": {
            "meaning": "This is the amplitude of this operation transforming the state <code>10</code> to <code>11</code>."
          },
          "_t_amp_11_00": {
            "meaning": "This is the amplitude of this operation transforming the state <code>11</code> to <code>00</code>."
          },
          "_t_amp_11_01": {
            "meaning": "This is the amplitude of this operation transforming the state <code>11</code> to <code>01</code>."
          },
          "_t_amp_11_10": {
            "meaning": "This is the amplitude of this operation transforming the state <code>11</code> to <code>10</code>."
          },
          "_t_amp_11_11": {
            "meaning": "This is the amplitude of this operation transforming the state <code>11</code> to <code>11</code>."
          },
          "_t_amp_1_0": {
            "meaning": "This is proportional to the transition amplitude of this operation transforming the state <code>1</code> to <code>0</code>."
          },
          "_t_amp_1_1": {
            "meaning": "This is proportional to the transition amplitude of this operation transforming the state <code>1</code> to <code>1</code>."
          },
          "dot": {
            "meaning": "This dot is a shorthand for multiplication."
          },
          "u-gate": {
            "meaning": "'U' is generally used to represent quantum gates, especially if the gate doesn't have a more specific name. It stands for 'unitary' which is something we'll learn about further down on this page."
          }
        },
        "gloss": {
          "cnot": {
            "text": "The CNOT gate toggles the state of a 'target' qubit if the state of a 'control' qubit is 1.",
            "title": "CNOT"
          }
        }
      },
      "source": [
        "$$ \\cssId{u-gate}{U} = \\begin{bmatrix} \\class{*t_amp_00_00}{t*{00\\to 00}} &amp; \\class{*t_amp_01_00}{t*{01\\to 00}} &amp; \\class{*t_amp_10_00}{t*{10\\to 00}} &amp; \\class{*t_amp_11_00}{t*{11\\to 00}} \\ \\class{*t_amp_00_01}{t*{00\\to 01}} &amp; \\class{*t_amp_01_01}{t*{01\\to 01}} &amp; \\class{*t_amp_10_01}{t*{10\\to 01}} &amp; \\class{*t_amp_11_01}{t*{11\\to 01}} \\ \\class{*t_amp_00_10}{t*{00\\to 10}} &amp; \\class{*t_amp_01_10}{t*{01\\to 10}} &amp; \\class{*t_amp_10_10}{t*{10\\to 10}} &amp; \\class{*t_amp_11_10}{t*{11\\to 10}} \\ \\class{*t_amp_00_11}{t*{00\\to 11}} &amp; \\class{*t_amp_01_11}{t*{01\\to 11}} &amp; \\class{*t_amp_10_11}{t*{10\\to 11}} &amp; \\class{*t_amp_11_11}{t*{11\\to 11}} \\ \\end{bmatrix} $$\n",
        "\n",
        "Sebagai contoh, inilah matriks yang mewakili operasi CNOT yang kita lihat dalam atom perhitungan:\n",
        "\n",
        "$$ \\cssId{_cnot-gate}{\\text{CNOT}} = \\begin{bmatrix} \\class{_t_amp_00_00}{1} &amp; \\class{_t_amp_01_00}{0} &amp; \\class{_t_amp_10_00}{0} &amp; \\class{_t_amp_11_00}{0} \\ \\class{_t_amp_00_01}{0} &amp; \\class{_t_amp_01_01}{0} &amp; \\class{_t_amp_10_01}{0} &amp; \\class{_t_amp_11_01}{1} \\ \\class{_t_amp_00_10}{0} &amp; \\class{_t_amp_01_10}{0} &amp; \\class{_t_amp_10_10}{1} &amp; \\class{_t_amp_11_10}{0} \\ \\class{_t_amp_00_11}{0} &amp; \\class{_t_amp_01_11}{1} &amp; \\class{_t_amp_10_11}{0} &amp; \\class{_t_amp_11_11}{0} \\ \\end{bmatrix} $$\n",
        "\n",
        "<!-- ::: q-block.exercise -->\n",
        "\n",
        "### Kuis cepat\n",
        "\n",
        "<!-- ::: q-quiz(goal=\"intro-maths-0\") -->\n",
        "\n",
        "<!-- ::: .question -->\n",
        "\n",
        "Berapa amplitudo transisi dari operasi CNOT (seperti yang ditunjukkan di atas) yang mengubah status $|10\\rangle$ menjadi $|01\\rangle$?\n",
        "\n",
        "<!-- ::: -->\n",
        "\n",
        "<!-- ::: .option -->\n",
        "\n",
        "1. $1$\n",
        "\n",
        "<!-- ::: -->\n",
        "\n",
        "<!-- ::: .option(correct) -->\n",
        "\n",
        "1. $0$\n",
        "\n",
        "<!-- ::: -->\n",
        "\n",
        "<!-- ::: .option -->\n",
        "\n",
        "1. $\\begin{bmatrix} 1 &amp; 0 &amp; 0 &amp; 0\\end{bmatrix}$\n",
        "\n",
        "<!-- ::: -->\n",
        "\n",
        "<!-- ::: .option -->\n",
        "\n",
        "1. $\\begin{bmatrix} 0 \\\\ 0 \\\\ 1 \\\\ 0\\end{bmatrix}$\n",
        "\n",
        "<!-- ::: -->\n",
        "\n",
        "<!-- ::: -->\n",
        "\n",
        "<!-- ::: -->\n",
        "\n",
        "Dan inilah matriks untuk gerbang-H yang kita lihat di halaman sebelumnya:\n",
        "\n",
        "$$ H = \\sqrt{\\tfrac{1}{2}} \\begin{bmatrix} \\class{_t_amp_0_0}{1} &amp; \\class{_t_amp_1_0}{1} \\ \\class{_t_amp_0_1}{1} &amp; \\class{_t_amp_1_1}{-1} \\ \\end{bmatrix} $$\n",
        "\n",
        "(kita menggunakan aturan yang sama untuk mengalikan matriks dengan skalar seperti yang kita lakukan dengan vektor). Dan ketika kita ingin melihat apa efek suatu operasi pada beberapa qubit, kita mengalikan setiap amplitudo transisi dengan amplitudo setiap keadaan dalam vektor keadaan input kita, dan kemudian menjumlahkan amplitudo untuk setiap keadaan untuk mendapatkan vektor keadaan keluaran kita. Ini persis sama dengan mengalikan sepanjang setiap cabang dalam pohon probabilitas (atau amplitudo) dan menjumlahkan total probabilitas (atau amplitudo) pada akhirnya.\n",
        "\n",
        "Untuk semua ahli matematika yang hadir, ini hanyalah perkalian matriks standar.\n",
        "\n",
        "$$ H|0\\rangle = \\sqrt{\\tfrac{1}{2}} \\begin{bmatrix} \\class{_t_amp_0_0}{1} &amp; \\class{_t_amp_1_0}{ 1} \\ \\class{_t_amp_0_1}{1} &amp; \\class{_t_amp_1_1}{-1} \\ \\end{bmatrix} \\begin{bmatrix} \\class{_sq-amp0}{1} \\ \\class{_sq-amp1}{0} \\ \\end{bmatrix} = \\sqrt{\\tfrac{1}{2}} \\begin{bmatrix} (1 \\class{dot}{\\cdot} 1) &amp; + &amp;  (1 \\class{dot}{\\cdot} 0) \\ (1 \\class{dot}{\\cdot} 1) &amp; + &amp; (-1 \\class{dot}{\\cdot} 0) \\ \\end{bmatrix} = \\sqrt{\\tfrac{1}{2}} \\begin{bmatrix} \\class{_sq-amp0}{1} \\ \\class{_sq-amp1}{1} \\ \\end{bmatrix} $$\n",
        "\n",
        "![gambar yang menunjukkan bagaimana gerbang-H mengubah keadaan |0> menjadi keadaan |+>](images/quantum-states/h-gate.svg)"
      ]
    },
    {
      "cell_type": "markdown",
      "metadata": {
      },
      "source": [
        "## Aturan operasi kuantum\n",
        "\n",
        "Dengan cara yang sama bahwa tidak setiap vektor adalah vektor keadaan yang valid, tidak setiap matriks adalah operasi kuantum yang valid. Jika sebuah matriks dapat dikatakan masuk akal sebagai operasi nyata, ia perlu menjaga probabilitas total dari status keluaran sama dengan 1. Jadi misalnya, ini bukan operasi nyata:\n",
        "\n",
        "$$ \\begin{bmatrix} \\class{_t_amp_0_0}{1} &amp; \\class{_t_amp_1_0}{0} \\ \\class{_t_amp_0_1}{1} &amp; \\class{_t_amp_1_1}{0} \\ \\end{bmatrix} $$\n",
        "\n",
        "Karena jika bekerja pada keadaan $|0\\rangle$ kita mendapatkan:\n",
        "\n",
        "# $$ \\begin{bmatrix} \\class{_t_amp_0_0}{1} &amp; \\class{_t_amp_1_0}{0} \\ \\class{_t_amp_0_1}{1} &amp; \\class{_t_amp_1_1}{0} \\ \\end{bmatrix}\\begin{bmatrix} 1 \\ 0 \\end{bmatrix}\n",
        "\n",
        "dan probabilitas total bertambah menjadi dua, yang mana hal ini tidak masuk akal. Alternatifnya, jika ia bertindak pada keadaan $|1\\rangle$, maka total probabilitas akan berjumlah nol, yang juga tidak masuk akal. Untuk mempertahankan probabilitas total dalam semua kasus, operasi kita harus dapat dibalik. Ini berarti kita dapat melakukan gerbang kuantum kita mundur untuk 'membatalkan' mereka (ingat untuk membalikkan rotasi apa pun) dan dibiarkan dengan keadaan awal kita. Kita mengatakan matriks dengan properti ini adalah *kesatuan*. Anda akan sering melihat gerbang kuantum disebut sebagai 'kesatuan' atau 'gerbang kesatuan'."
      ]
    }
  ],
  "metadata": {
    "kernelspec": {
      "display_name": "Python 3",
      "language": "python",
      "name": "python3"
    },
    "language_info": {
      "codemirror_mode": {
        "name": "ipython",
        "version": 3
      },
      "file_extension": ".py",
      "mimetype": "text/x-python",
      "name": "python",
      "nbconvert_exporter": "python",
      "pygments_lexer": "ipython3",
      "version": "3.9"
    }
  },
  "nbformat": 4,
  "nbformat_minor": 4
}
