{
  "cells": [
    {
      "cell_type": "markdown",
      "metadata": {
      },
      "source": [
        "# Mengapa komputasi kuantum?"
      ]
    },
    {
      "cell_type": "markdown",
      "metadata": {
      },
      "source": [
        "## Apa itu Komputer?\n",
        "\n",
        "Melihat Anda telah berhasil mengakses halaman web ini, Anda seharusnya sudah mengetahui apa itu komputer. Saat ini, komputer memiliki berbagai macam bentuk: Dari laptop dan ponsel hingga sistem yang mengendalikan lampu lalu lintas. Seolah-olah komputer bisa melakukan apa saja! Sistem komputer ini bisa sangat kompleks dan spesifik, tetapi semuanya memiliki satu kesamaan: Komputer menjalankan serangkaian instruksi terhadap beberapa informasi input untuk memberi kita beberapa informasi (output) baru.\n",
        "\n",
        "Instruksi-instruksi yang kita berikan kepada komputer harus sangat spesifik dan tidak ambigu. Kita menyebut rangkaian instruksi ini sebagai *algoritma,* dan banyak penelitian tentang komputer mengarah pada beragam perilaku algoritma yang berbeda-beda. Dalam kursus ini, kita hanya akan membahas komputer dalam bentuknya yang paling sederhana; tidak ada keyboard, mouse, atau layar- hanya informasi dan algoritma.\n",
        "\n",
        "![Gambaran dasar dari semua komputer](images/why-qc/basically_all_computers.png)"
      ]
    },
    {
      "cell_type": "markdown",
      "metadata": {
        "formulas": {
          "T": {
            "meaning": "Ini adalah waktu rata-rata yang diperlukan algoritma penelusuran kita untuk berjalan.",
            "type": "Variabel yang ditentukan secara lokal"
          },
          "exp": {
            "meaning": "Ini adalah jumlah digit dalam nomor rahasia kita. Karena ini adalah superskrip, ini berarti kita mengerjakan 10 pangkat d.",
            "type": "Variabel yang ditentukan secara lokal"
          },
          "prop_to": {
            "meaning": "'Proportional to': Segala sesuatu di sebelah kiri simbol ini <a href='https://en.wikipedia.org/wiki/Proportionality_(mathematics)'>sebanding dengan</a> benda di sebelah kanan.",
            "type": "Notasi universal"
          }
        },
        "gloss": {
          "resources": {
            "text": "Sumber daya adalah segala sesuatu yang dibutuhkan algoritma untuk dijalankan. Dalam ilmu komputer, ini biasanya berarti waktu yang dibutuhkan oleh algoritma, atau ruang (misalnya memori komputer).",
            "title": "Sumber daya"
          }
        }
      },
      "source": [
        "## Mengklasifikasikan algoritma komputer\n",
        "\n",
        "Untuk memahami peran komputer kuantum di antara komputer tradisional modern, pertama-tama kita perlu mempelajari cara mengukur kinerja berbagai algoritma.\n",
        "\n",
        "Dalam ilmu komputer, kita mengklasifikasikan algoritma berdasarkan bagaimana [sumber daya](gloss:resources) yang algoritma tersebut gunakan tumbuh seiring dengan ukuran input. Kita menyebutnya *kompleksitas* algoritma. Misalnya, suatu algoritma yang memutuskan apakah suatu bilangan genap hanya perlu melihat digit terakhir dari bilangan tersebut. Dalam hal ini, 'input' yang diberikan adalah angka, dan output yang dihasilkan adalah 'Genap' atau 'Ganjil'. Kita menyebutnya algoritma *waktu konstan*, karena waktu yang dibutuhkan algoritma tersebut untuk menyelesaikan instruksinya tidak bergantung pada ukuran panjang nomor input. Mungkin akan dibutuhkan komputer yang berbeda dalam jumlah waktu yang berbeda untuk mendapatkan hasil ini, tetapi itu karena faktor lain dan bukan panjang input.\n",
        "\n",
        "![Langkah-langkah algoritma yang bekerja jika suatu bilangan genap atau ganjil](images/why-qc/odd-even-algo.svg)\n",
        "\n",
        "Mari kita lihat contoh yang berbeda. Kali ini, inputnya adalah dua angka dengan panjang yang sama, dan masalahnya adalah menjumlahkannya. Dalam hal ini output yang dihasilkan akan menjadi nomor baru. Saat menambahkan dua angka multi-digit, algoritma umum yang mungkin Anda pelajari di sekolah dimulai dengan digit paling kanan dari setiap angka dan menjumlahkannya. Kemudian bergerak satu digit ke kiri (membawa '1' jika hasilnya lebih besar dari 9) dan mengulangi prosesnya. Komputer mengulangi ini sampai tidak ada lagi digit untuk ditambahkan, dan algoritma berakhir.\n",
        "\n",
        "![Animasi yang menunjukkan langkah-langkah dari algoritma penambahan](images/why-qc/adding-algo.svg)\n",
        "\n",
        "<!-- ::: q-block.exercise -->\n",
        "\n",
        "### Seberapa kompleks algoritma penjumlahan?\n",
        "\n",
        "<!-- ::: q-quiz(goal=\"intro-why-qc-0\") -->\n",
        "\n",
        "<!-- ::: .question -->\n",
        "\n",
        "Waktu yang dibutuhkan algoritma penjumlahan ini...\n",
        "\n",
        "<!-- ::: -->\n",
        "\n",
        "<!-- ::: .option(correct) -->\n",
        "\n",
        "1. ...tumbuh secara linier (proporsional) dengan panjang nomor input (waktu linier).\n",
        "\n",
        "<!-- ::: -->\n",
        "\n",
        "<!-- ::: .option -->\n",
        "\n",
        "1. ...tidak terpengaruh oleh panjang nomor input (waktu konstan)\n",
        "\n",
        "<!-- ::: -->\n",
        "\n",
        "<!-- ::: .option -->\n",
        "\n",
        "1. ...tumbuh dengan nilai kuadrat dari panjang nomor input (waktu kuadrat)\n",
        "\n",
        "<!-- ::: -->\n",
        "\n",
        "<!-- ::: -->\n",
        "\n",
        "<!-- ::: -->\n",
        "\n",
        "Sekali lagi, komputer yang berbeda akan menjalankan algoritma tersebut pada kecepatan yang berbeda; laptop dapat melakukan perhitungan penjumlahan jutaan kali lebih cepat daripada yang bisa dilakukan manusia. Tetapi apakah Anda dapat melakukan satu juta operasi per detik atau hanya satu operasi, tingkat pertumbuhannya akan tetap sama.\n",
        "\n",
        "![grafik waktu berjalan konstan dan linier vs ukuran input untuk waktu berjalan yang berbeda](images/why-qc/graph-linear-constant.svg)\n",
        "\n",
        "Berikut adalah salah satu contoh yang sangat menarik. Katakanlah saya memiliki nomor rahasia (seperti PIN), dan masalahnya adalah bagaimana cara menebaknya. Dalam hal ini, ukuran masalahnya adalah panjang bilangan PIN tersebut.\n",
        "\n",
        "Katakanlah satu-satunya cara kita dapat memeriksa apakah jawaban kita benar adalah dengan memasukkannya ke dalam keypad. Karena kita tidak memiliki informasi tentang berapa angka itu, algoritma terbaik untuk menemukan nomor rahasia ini adalah dengan menggunakan metode 'brute-force', yang berarti tidak melakukan cara cerdas apa pun dan hanya mencoba setiap angka yang mungkin.\n",
        "\n",
        "Berapa lama waktu yang dibutuhkan? Sekarang, secara teori kita bisa beruntung dan menebak jawabannya sekaligus, tapi ini sangat tidak mungkin. Rata-rata, kita harus mencoba sekitar setengah dari kemungkinan input, sehingga waktu berjalan dari algoritma kita sebanding dengan jumlah kemungkinan kombinasi. Pertanyaannya sekarang menjadi: Bagaimana jumlah kombinasi yang mungkin tumbuh dengan panjang nomor rahasia?\n",
        "\n",
        "![Animasi yang menunjukkan langkah-langkah dari algoritma pencarian brute-force](images/why-qc/search-algo.svg)\n",
        "\n",
        "Setiap digit yang kita tambahkan ke nomor rahasia kita mengalikan jumlah kemungkinan kombinasi dengan 10. Misalnya nomor rahasia dengan 1 digit memiliki 10 kemungkinan nilai (0, 1, 2, 3, 4, 5, 6, 7, 8 &amp; 9), dan nomor rahasia dengan 2 digit memiliki 100 kemungkinan nilai. Dengan asumsi waktu yang dibutuhkan untuk menebak setiap digit membutuhkan jumlah waktu yang sama (terlepas dari panjangnya), kita dapat menyatakan ini secara matematis seperti ini:\n",
        "\n",
        "$$ \\cssId{T}{T} \\cssId{prop_to}{\\propto} 10^\\cssId{exp}{d}$$\n",
        "\n",
        "Anda akan melihat jumlah digit (d) adalah eksponen dalam persamaan ini, dan karena itu kita mengatakan ini adalah algoritma *waktu eksponensial* , dan waktu berjalan tumbuh secara eksponensial dengan panjang input.\n",
        "\n",
        "![grafik waktu berjalan konstan, linier dan eksponensial vs ukuran input untuk waktu berjalan yang berbeda](images/why-qc/graph-all.svg)"
      ]
    },
    {
      "cell_type": "markdown",
      "metadata": {
        "gloss": {
          "intractable": {
            "text": "Masalah yang sulit diselesaikan adalah masalah yang dapat diselesaikan dalam teori, tetapi membutuhkan terlalu banyak sumber daya dalam praktiknya.",
            "title": "Sulit"
          }
        }
      },
      "source": [
        "## Mengapa kita mengukur algoritma seperti ini?\n",
        "\n",
        "Komputer yang berbeda memiliki kemampuan yang berbeda; operasi tertentu mungkin lebih cepat di satu komputer daripada yang lain. Dengan mempelajari pertumbuhan vs ukuran input, kita dapat mengabaikan detail khusus perangkat dan benar-benar mengukur *algorithm*, alih-alih kombinasi spesifik dari algoritma dan komputer. Yang penting, mengetahui bagaimana algoritma menskalakan dengan ukuran input dan juga memberi tahu kita apakah algoritma akan tumbuh secara terkendali atau tidak.\n",
        "\n",
        "Mari kita pikirkan tentang algoritma penambahan waktu linier yang kita lihat di atas. Jika kita dapat menambahkan dua angka 10 digit dalam satu detik, karena laju pertumbuhan linier, kita harus dapat menambahkan dua angka 20 digit dalam dua detik. Setiap tambahan 10 digit harus menambahkan kira-kira satu detik lagi untuk waktu komputasi kita.\n",
        "\n",
        "Sebaliknya, bayangkan Anda dapat menemukan PIN 10 digit dalam 1 detik menggunakan algoritma pencarian waktu eksponensial di atas. Ini berarti komputer Anda cukup cepat untuk mencoba ~5.000.000.000 kombinasi per detik. Kita memperkirakan komputer ini dengan menggunakan algoritma tersebut akan membutuhkan sekitar 10.000.000.000 detik (~300 tahun) untuk menemukan PIN 20 digit. Menambahkan 10 digit lagi meningkatkannya menjadi sekitar 3.000.000.000.000 tahun (~200x usia alam semesta). Algoritma waktu eksponensial bahkan dengan input berukuran sedang (dalam hal ini ~30 digit) tidak hanya menjadi sulit, tetapi juga tidak mungkin dilakukan.\n",
        "\n",
        "Meskipun masalah pencarian PIN ini adalah contoh buatan yang kita maksudkan sesederhana mungkin, ada banyak masalah nyata dalam ilmu komputer yang hanya memiliki algoritma yang tidak efisien. Terlepas dari kecepatan komputer saat ini yang mengesankan, masalah yang [sulit diatasi](gloss:intractable) ini bisa jadi terlalu sulit bahkan untuk superkomputer terbesar sekalipun.\n",
        "\n",
        "Tetapi jika kita dapat menemukan algoritma yang tumbuh lebih efisien, masalah yang sulit dipecahkan ini dapat tiba-tiba menjadi bisa diselesaikan, bahkan dengan komputer yang relatif lambat atau tidak dapat diandalkan. Di sinilah komputasi kuantum masuk.\n",
        "\n",
        "## Bagaimana komputasi kuantum dapat membantu?\n",
        "\n",
        "Sejauh ini, kita telah memikirkan algoritma dengan cara yang sangat abstrak, tetapi komputer yang menjalankan algoritma ini harus ada di dunia nyata. Apakah komputer ini adalah microchip bertenaga tinggi, atau manusia dengan pena dan kertas, semua komputer pada akhirnya diatur oleh hukum fisika, dan operasi yang dapat mereka lakukan membatasi algoritma yang dapat kita buat.\n",
        "\n",
        "Fisika adalah upaya untuk menyusun seperangkat aturan yang diikuti oleh segala sesuatu di alam semesta. Sekitar awal abad ke-20, melalui eksperimen rumit di laboratorium, fisikawan melihat perilaku aneh yang tidak dapat dijelaskan oleh fisika pada saat itu. Ini berarti aturannya tidak cukup akurat, jadi mereka mengembangkan fisika 'kuantum' yang lebih lengkap, yang menggambarkan perilaku aneh tersebut dengan sangat baik.\n",
        "\n",
        "Fisikawan menciptakan fisika kuantum untuk menjelaskan perilaku yang belum pernah mereka lihat sebelumnya, dan ilmuwan komputer menemukan bahwa mereka dapat (secara teori) mengeksploitasi perilaku yang baru ditemukan ini untuk menciptakan algoritma yang lebih efisien. Akibatnya, ada masalah tertentu yang kita yakini sulit dipecahkan untuk komputer konvensional, tetapi dapat dikelola untuk komputer 'kuantum' yang dapat mengeksploitasi perilaku ini. Salah satu masalah tersebut adalah *faktorisasi bilangan bulat* .\n",
        "\n",
        "Katakanlah kita memiliki bilangan bulat yang akan kita panggil '$x$'. Algoritma pemfaktoran menemukan bilangan bulat $p$ dan $q$ sedemikian rupa sehingga $p×q = x$. Ini terkadang mudah; Anda dapat mengetahui secara sekilas bahwa $2000 = 2 × 1000$, tetapi jika $x$ adalah hasil kali dua bilangan prima yang besar, masalah ini menjadi sangat sulit. Ketika kita berbicara tentang faktorisasi bilangan bulat, kita akan mengasumsikan skenario (kasus terburuk) yang paling sulit. Di sel kode di bawah ini, kita menetapkan angka 250 digit ke variabel <code>x</code> :"
      ]
    },
    {
      "cell_type": "code",
      "execution_count": 1,
      "metadata": {
      },
      "outputs": [

      ],
      "source": [
        "# pylint: disable=line-too-long, invalid-name\n",
        "x = 2140324650240744961264423072839333563008614715144755017797754920881418023447140136643345519095804679610992851872470914587687396261921557363047454770520805119056493106687691590019759405693457452230589325976697471681738069364894699871578494975937497937"
      ]
    },
    {
      "cell_type": "markdown",
      "metadata": {
        "gloss": {
          "coreyears": {
            "text": "Chip komputer konvensional sering dibuat dari prosesor yang disebut <a href=\"https://en.wikipedia.org/wiki/Multi-core_processor\">\"core\"</a>. <i>tahun-inti</i> sama dengan menggunakan salah satu inti ini secara terus-menerus selama satu tahun. Sebagai referensi, laptop modern memiliki sekitar 2-4 core. Arti dari angka ini tergantung pada seberapa kuat intinya, tetapi ini akan memberi Anda gambaran kasar tentang daya komputasi yang terlibat.",
            "title": "Tahun Inti"
          }
        }
      },
      "source": [
        "Pada tahun 2020, para peneliti memfaktorkan angka ini menggunakan superkomputer klasik dan ~2700 [core-years](gloss:coreyears) kekuatan pemrosesan. Ini adalah upaya besar, dan pemecahan rekor pada saat penulisan. Kita dapat memverifikasi hasilnya di sel kode di bawah ini (untungnya, kita memiliki algoritma yang efisien untuk perkalian!):"
      ]
    },
    {
      "cell_type": "code",
      "execution_count": 2,
      "metadata": {
      },
      "outputs": [
        {
          "data": {
            "text/plain": [
              "True"
            ]
          },
          "execution_count": 2,
          "metadata": {
          },
          "output_type": "execute_result"
        }
      ],
      "source": [
        "p = 64135289477071580278790190170577389084825014742943447208116859632024532344630238623598752668347708737661925585694639798853367\n",
        "q = 33372027594978156556226010605355114227940760344767554666784520987023841729210037080257448673296881877565718986258036932062711\n",
        "\n",
        "p*q == x  # Evaluates to 'True'"
      ]
    },
    {
      "cell_type": "markdown",
      "metadata": {
        "gloss": {
          "RSA": {
            "text": "Nomor RSA adalah angka yang diambil dari tantangan memfaktorkan RSA. Angka-angka ini sengaja dipilih agar sulit diperhitungkan. <p>'RSA' adalah inisial dari tiga orang yang menemukan protokol yang menggunakan angka besar ini untuk mengenkripsi informasi.",
            "title": "Nomor RSA"
          }
        }
      },
      "source": [
        "Output yang ditampilkan adalah nilai dari baris terakhir sel. Dalam hal ini kita dapat melihat bahwa <code>p*q == x</code> bernilai <code>True</code> . Meskipun tidak terbukti secara matematis, kita cukup yakin tidak ada algoritma yang efisien untuk memfaktorkan angka seperti itu pada komputer tradisional. Faktanya, sebagian besar enkripsi internet bergantung pada asumsi bahwa masalah ini tidak dapat diselesaikan, dan bahwa memfaktorkan nomor [RSA](gloss:RSA) 617 digit tidak mungkin dilakukan. Sebaliknya, kita mengetahui algoritma pemfaktoran yang efisien untuk komputer kuantum, setelah kita memiliki komputer kuantum yang cukup besar, kita perkirakan dapat memfaktorkan angka-angka ini dalam waktu kurang dari satu hari."
      ]
    },
    {
      "cell_type": "markdown",
      "metadata": {
        "gloss": {
          "noise": {
            "text": "Kesalahan acak (noise) adalah informasi tidak berguna yang sulit dibedakan dari informasi berguna. Misalnya, sulit untuk mendengar seseorang berbicara kepada Anda jika ada banyak orang lain yang berbicara dengan keras di dekatnya.",
            "title": "Kesalahan acak"
          },
          "qiskit": {
            "text": "Qiskit adalah kit pengembangan perangkat lunak untuk bekerja dengan komputer kuantum.",
            "title": "Qiskit"
          },
          "qubits": {
            "text": "'Qubit' adalah 'bit kuantum'. Kita akan mempelajarinya nanti dalam kursus ini.",
            "title": "Qubit"
          },
          "transistor": {
            "text": "Transistor adalah perangkat elektronik. Mereka dapat digunakan untuk menghidupkan dan mematikan arus listrik, dan dapat digunakan untuk membuat prosesor komputer.",
            "title": "Transistor"
          }
        }
      },
      "source": [
        "## Dimana kita sekarang?\n",
        "\n",
        "Kita sekarang tahu bahwa komputer kuantum dapat melakukan algoritma yang lebih efisien, tetapi komputer kuantum yang kita miliki saat ini terlalu kecil dan tidak stabil untuk memberikan keunggulan dibandingkan komputer tradisional.\n",
        "\n",
        "Pada tingkat yang sangat sederhana, ada dua faktor yang membatasi ukuran masalah yang dapat diselesaikan oleh komputer kuantum kita. Yang pertama adalah jumlah data yang dapat mereka simpan dan kerjakan, yang biasanya kita ukur dalam [*qubit*](gloss:qubits). Jika kita tidak memiliki cukup qubit, kita tidak dapat menyimpan dan mengoperasikan masalah di atas ukuran tertentu. Yang kedua adalah tingkat kesalahan komputer kuantum kita; karena kita hanya melihat perilaku kuantum dalam eksperimen laboratorium yang rumit, membuat komputer kuantum adalah proses yang rumit. Komputer kuantum yang kita miliki saat ini \"noisy\", yang berarti mereka sering melakukan kesalahan dan memasukkan '[kesalahan acak](gloss:noise)' ke dalam hasil ouput kita. Terlalu banyak kesalahan acak dan hasil kita dapatkan akan menjadi tidak ada artinya!\n",
        "\n",
        "Saat ini, komputer kuantum yang kita miliki masih eksperimental. Mereka dibatasi oleh jumlah qubit dan tingkat kesalahan, sehingga masalah terbesar yang saat ini dapat mereka pecahkan masih mudah dikelola untuk komputer konvensional.\n",
        "\n",
        "Pada suatu saat nanti di masa depan, hal ini akan berubah. Kita akan mencapai 'keuntungan kuantum', di mana secara ekonomi akan masuk akal untuk memecahkan masalah menggunakan komputer kuantum dari pada menggunakan komputer konvensional. Bagaimana kita bisa tahu? *Karena kita mengukur algoritma berdasarkan tingkat pertumbuhannya!* Kita tahu bahwa, selama komputer kuantum terus berkembang, mereka pada akhirnya akan mengambil alih komputer klasik.\n",
        "\n",
        "![perbandingan (diproyeksikan) komputer klasik vs komputer kuantum dari waktu ke waktu](images/why-qc/q-vs-c.svg)\n",
        "\n",
        "Perkiraan untuk memfaktorkan nomor RSA 617 digit dalam waktu kurang dari sehari diasumsikan ~20 juta noisy qubit . Pada saat penulisan, IBM saat ini memiliki komputer kuantum 65-qubit, dan bertujuan untuk membuat sistem dengan lebih dari 1000 qubit pada tahun 2023. Ada algoritma lain yang kita yakini akan memberi kita keuntungan kuantum jauh sebelum tonggak sejarah ini, tetapi itu mungkin masih terasa masih sangat jauh untuk kita saat ini.\n",
        "\n",
        "Dengan menggunakan kode di bawah ini, Anda dapat membuat program kuantum sederhana dan mengirimkannya ke IBM Quantum untuk dijalankan di komputer kuantum yang nyata. IBM Quantum akan menjalankan program ini untuk kita 4000 kali. Program ini probabilistik, dan hasilnya harus `000` separuh waktu, dan `111` sisanya. Seperti yang Anda lihat, ini bukan satu-satunya hasil, kita memiliki kemungkinan kecil untuk mengukur output lain karena kesalahan acak (noise)."
      ]
    },
    {
      "cell_type": "code",
      "execution_count": null,
      "metadata": {
        "tags": [
          "uses-hardware"
        ]
      },
      "outputs": [

      ],
      "source": [
        "# 1. Buat program kuantum sederhana yang disebut 'rangkaian kuantum'.\n",
        "from qiskit import QuantumCircuit\n",
        "qc = QuantumCircuit(3)\n",
        "qc.h(0)\n",
        "qc.cx(0, [1, 2])\n",
        "qc.measure_all()\n",
        "\n",
        "# 2. Tanyakan IBM Quantum untuk perangkatnya yang paling tidak sibuk yang bukan simulator.\n",
        "# Jika Anda menjalankan contoh ini secara lokal, Anda perlu memuat\n",
        "# akun dengan token IBM Quantum API Anda\n",
        "dari qiskit.providers.ibmq impor IBMQ, paling tidak sibuk\n",
        "# IBMQ.save_account(token=\"XYZ\")\n",
        "# IBMQ.load_account()\n",
        "provider = IBMQ.get_provider('ibm-q')\n",
        "device = least_busy(\n",
        "            provider.backends(\n",
        "                filters= lambda x: not x.configuration().simulator\n",
        "            )\n",
        "        )\n",
        "print(f'Berjalan pada {device.name()}')\n",
        "\n",
        "# 3. Ubah program menjadi bentuk yang dapat dijalankan perangkat.\n",
        "# Ini dikenal sebagai 'transpiling'\n",
        "from qiskit import transpile\n",
        "transpiled_qc = transpile(qc, device)\n",
        "\n",
        "# 4. Kirim program ke IBM Quantum untuk dijalankan di perangkat nyata\n",
        "# dan pantau statusnya.\n",
        "from qiskit.tools import job_monitor\n",
        "job = device.run(transpiled_qc)\n",
        "job_monitor(job)\n",
        "\n",
        "# 5. Plot hasilnya sebagai histogram.\n",
        "from qiskit.visualization import plot_histogram\n",
        "plot_histogram(job.result().get_counts())"
      ]
    },
    {
      "cell_type": "markdown",
      "metadata": {
        "gloss": {
          "noise": {
            "text": "Kesalahan acak (noise) adalah informasi tidak berguna yang sulit dibedakan dari informasi berguna. Misalnya, sulit untuk mendengar seseorang berbicara kepada Anda jika ada banyak orang lain yang berbicara dengan keras di dekatnya.",
            "title": "Kesalahan acak"
          },
          "qiskit": {
            "text": "Qiskit adalah kit pengembangan perangkat lunak untuk bekerja dengan komputer kuantum.",
            "title": "Qiskit"
          },
          "qubits": {
            "text": "'Qubit' adalah 'bit kuantum'. Kita akan mempelajarinya nanti dalam kursus ini.",
            "title": "Qubit"
          },
          "transistor": {
            "text": "Transistor adalah perangkat elektronik. Mereka dapat digunakan untuk menghidupkan dan mematikan arus listrik, dan dapat digunakan untuk membuat prosesor komputer.",
            "title": "Transistor"
          }
        }
      },
      "source": [
        "Kita harus mengingatkan diri kita sendiri dari mana komputer konvensional berasal. Di bawah ini adalah gambar [transistor](gloss:transistor) pertama, dibuat pada tahun 1947. Transistor adalah dasar pondasi prosesor komputer modern.\n",
        "\n",
        "![perbandingan (diproyeksikan) kemampuan komputer klasik vs komputer kuantum dari waktu ke waktu](images/why-qc/first-transistor.jpg) Kredit gambar: <a href=\"https://clintonwhitehouse4.archives.gov/Initiatives/Millennium/capsule/mayo.html\">Tautan</a> karyawan Federal, <a href=\"https://commons.wikimedia.org/w/index.php?curid=554340\">Domain Publik</a> .\n",
        "\n",
        "70 tahun kemudian, chip komputer modern kita dapat berisi miliaran transistor.\n",
        "\n",
        "Di sisa kursus ini, kita akan mengeksplorasi efek kuantum yang memungkinkan kita membuat algoritma yang lebih efisien. Pada akhir kursus ini, Anda akan dapat menggunakan paket perangkat lunak, [Qiskit](gloss:qiskit) , untuk memprogram komputer kuantum untuk menjalankan salah satu algoritma ini."
      ]
    },
    {
      "cell_type": "markdown",
      "metadata": {
      },
      "source": [
        "<!-- ::: q-block.exercise -->\n",
        "\n",
        "### Kuis cepat\n",
        "\n",
        "<!-- ::: q-quiz(goal=\"intro-why-qc-1\") -->\n",
        "\n",
        "<!-- ::: .question -->\n",
        "\n",
        "Komputer kuantum pada akhirnya akan...\n",
        "\n",
        "<!-- ::: -->\n",
        "\n",
        "<!-- ::: .option(correct) -->\n",
        "\n",
        "1. ...bisa melakukan perhitungan yang terlalu sulit untuk komputer konvensional.\n",
        "\n",
        "<!-- ::: -->\n",
        "\n",
        "<!-- ::: .option -->\n",
        "\n",
        "1. ...menggantikan komputer konvensional.\n",
        "\n",
        "<!-- ::: -->\n",
        "\n",
        "<!-- ::: .option -->\n",
        "\n",
        "1. ...meningkatkan kecepatan komputer konvensional.\n",
        "\n",
        "<!-- ::: -->\n",
        "\n",
        "<!-- ::: -->\n",
        "\n",
        "<!-- ::: -->"
      ]
    }
  ],
  "metadata": {
    "kernelspec": {
      "display_name": "Python 3",
      "language": "python",
      "name": "python3"
    },
    "language_info": {
      "codemirror_mode": {
        "name": "ipython",
        "version": 3
      },
      "file_extension": ".py",
      "mimetype": "text/x-python",
      "name": "python",
      "nbconvert_exporter": "python",
      "pygments_lexer": "ipython3",
      "version": "3.9"
    }
  },
  "nbformat": 4,
  "nbformat_minor": 4
}
