{
  "cells": [
    {
      "cell_type": "markdown",
      "metadata": {
      },
      "source": [
        "# Memvisualisasikan Keterjeratan"
      ]
    },
    {
      "cell_type": "code",
      "execution_count": null,
      "metadata": {
      },
      "outputs": [

      ],
      "source": [
        "from hello_qiskit import run_puzzle"
      ]
    },
    {
      "cell_type": "markdown",
      "metadata": {
      },
      "source": [
        "Dalam rangkaian latihan berikut, kami akan memperkenalkan dan menggunakan visualisasi untuk keadaan dua qubit. Dengan ini Anda akan dapat membuat versi Anda tersendiri dari eksperimen terkenal: membuktikan keunikan mekanika kuantum melalui ketidaksetaraan Bell."
      ]
    },
    {
      "cell_type": "markdown",
      "metadata": {
      },
      "source": [
        "## Mengenal qubit\n",
        "\n",
        "### Latihan 1: Membalikkan Qubit\n",
        "\n",
        "Untuk memulai, kita akan mulai dengan satu qubit. Jalankan kode berikut untuk melihat bagaimana kita memvisualisasikan qubit."
      ]
    },
    {
      "cell_type": "code",
      "execution_count": null,
      "metadata": {
      },
      "outputs": [

      ],
      "source": [
        "puzzle = run_puzzle(0)"
      ]
    },
    {
      "cell_type": "markdown",
      "metadata": {
      },
      "source": [
        "Disini Anda melihat dua garis  yang mewakili probabilitas untuk hasil pengukuran yang berbeda. Yang vertikal mewakili pengukuran standar (juga dikenal sebagai 'pengukuran z'), dan yang horizontal mewakili 'pengukuran x' yang dibahas di bagian terakhir. Dalam kedua kasus, panjang bilah ungu menunjukkan kemungkinan mendapatkan hasil `1`.\n",
        "\n",
        "Dalam keadaan di atas, kita tidak melihat bilah ungu di garis vertikal. Ini memberi tahu kita bahwa probabilitas mendapatkan `1` untuk pengukuran z adalah nol. Untuk garis horizontal, bilah ungu mengambil setengah dari garis, sehingga probabilitas mendapatkan `1` untuk pengukuran x adalah $1/2$. Dengan informasi ini, kita dapat mengidentifikasi status mana yang diwakili di sini: Hasil ini persis seperti yang kita lihat di bagian terakhir untuk status $|0\\rangle$.\n",
        "\n",
        "Untuk melihat seperti apa status $|1/rangle$. Anda dapat menerapkan gerbang `x`. Gunakan tombol dibawah visualisasi untuk melakukan ini. Anda harus terlebih dahulu memilih gerbang `x`, lalu  qubit `q[0]` yang akan kita terapkan, dan terakhir tekan 'Terapkan operasi'.\n",
        "\n",
        "Coba lakukan ini 3 kali untuk membalik antara status $|0\\rangle$ dan status $|1\\rangle$."
      ]
    },
    {
      "cell_type": "markdown",
      "metadata": {
      },
      "source": [
        "### Latihan 2: Mengganti Sumbu\n",
        "\n",
        "Keadaan di visualisasikan di bawah ini memiliki hasil acak pengukuran z, tetapi pasti akan menghasilkan `0` untuk pengukuran x. Oleh karena itu kita dapat mengidentifikasi bahwa itu adalah $|+\\rangle$.\n",
        "\n",
        "Anda mungkin memperhatikan bahwa status $|0\\rangle$ dan status $|+\\rangle$ memiliki kesamaan yang kuat. Secara khusus, apa pun yang benar untuk salah satu dari keadaan ini saat melakukan pengukuran z adalah benar untuk yang lain saat melakukan pengukuran x. Status $|1\\rangle$ dan status$|-\\rangle$ juga memiliki hubungan yang sama.\n",
        "\n",
        "Dengan mengingat hal ini, mari kita pikirkan tentang efek dari gerbang $H$,\n",
        "\n",
        "$$H |0\\rangle = |+\\rangle, \\quad H |1\\rangle = |-\\rangle\\\\H |+\\rangle = |0\\rangle, \\quad H |-\\rangle = |1\\rangle.$$\n",
        "\n",
        "Ini mengubah status $|0\\rangle$ menjadi status $|+\\rangle$ dan sebaliknya, dan juga status $|1\\rangle$ menjadi status $|-\\rangle$ dan sebaliknya. Secara efektif, ini membalikkan peran pengukuran z dan pengukuran x. Ini mengarah pada efek sederhana dalam visualisasi ini: ia menukar dua garis.\n",
        "\n",
        "Jalankan sell dibawah ini, terapkan gerbang `h` sebanyak tiga kali dan lihat aksinya."
      ]
    },
    {
      "cell_type": "code",
      "execution_count": null,
      "metadata": {
      },
      "outputs": [

      ],
      "source": [
        "puzzle = run_puzzle(1)"
      ]
    },
    {
      "cell_type": "markdown",
      "metadata": {
      },
      "source": [
        "### Latihan 3: Sebuah Rotasi\n",
        "\n",
        "Sekarang mari kita coba rotasi di sekitar sumbu y pada bola bloch, menggunakan gerbang `ry(pi/4)`. Terapkan empat ini dan lihat apa yang terjadi."
      ]
    },
    {
      "cell_type": "code",
      "execution_count": null,
      "metadata": {
      },
      "outputs": [

      ],
      "source": [
        "puzzle = run_puzzle(2)"
      ]
    },
    {
      "cell_type": "markdown",
      "metadata": {
      },
      "source": [
        "Efek disini tidak begitu mudah dipahami seperti Hadamard. Tetapi ada cara untuk membuatnya lebih intuitif. Yang perlu kita lakukan adalah menggambar dua garis di atas satu sama lain dan menempatkan titik dimana level mereka berpotongan.\n",
        "\n",
        "Karena ini terkait dengan konsep yang dikenal sebagai bola bloch <m>(Bloch Sphere)</m>, kita akan menggunakan perintah yang disebut 'Bloch' untuk mewujudkannya. Cobalah di bawah ini, serta beberapa gerbang`ry`. Anda harus melihat bahwa gerbang secara efektif memutar titik, dengan palang pada garis berubah sesuai."
      ]
    },
    {
      "cell_type": "code",
      "execution_count": null,
      "metadata": {
        "scrolled": false
      },
      "outputs": [

      ],
      "source": [
        "puzzle = run_puzzle(3)"
      ]
    },
    {
      "cell_type": "markdown",
      "metadata": {
      },
      "source": [
        "Sebelum kita melanjutkan, perhatikan bahwa Anda dapat mengambil objek sirkuit Qiskit untuk sirkuit yang kita buat dengan menggunakan metode `puzzle.get_circuit()`. Anda dapat melakukan ini untuk sirkuit penuh, yang mencakup gerbang yang digunakan untuk mempersiapkan keadaan awal teka-teki."
      ]
    },
    {
      "cell_type": "code",
      "execution_count": null,
      "metadata": {
      },
      "outputs": [

      ],
      "source": [
        "puzzle.get_circuit(use_initializer=True).draw()"
      ]
    },
    {
      "cell_type": "markdown",
      "metadata": {
      },
      "source": [
        "Atau Anda bisa mendapatkan sirkuit dengan gerbang yang ditambahkan oleh Anda sendiri."
      ]
    },
    {
      "cell_type": "code",
      "execution_count": null,
      "metadata": {
      },
      "outputs": [

      ],
      "source": [
        "puzzle.get_circuit().draw()"
      ]
    },
    {
      "cell_type": "markdown",
      "metadata": {
      },
      "source": [
        "### Latihan 4: Qubit Kedua\n",
        "\n",
        "Sebagian besar grid telah kosong sejauh ini. Beberapa ruang dicadangkan untuk qubit kedua di sebelah kiri. Sekali lagi ini diwakili dengan garis vertikal untuk probabilitas pengukuran z dan garis horizontal untuk pengukuran x.\n",
        "\n",
        "Untuk mengenal qubit baru ini, gunakan `x` , `h` dan `ry(pi/4)` masing-masing dua kali. Anda juga dapat menggunakan perintah 'Bloch'."
      ]
    },
    {
      "cell_type": "code",
      "execution_count": null,
      "metadata": {
      },
      "outputs": [

      ],
      "source": [
        "puzzle = run_puzzle(4)"
      ]
    },
    {
      "cell_type": "markdown",
      "metadata": {
      },
      "source": [
        "### Latihan 5: Dua Qubit Sekaligus\n",
        "\n",
        "Untuk memvisualisasikan dua qubit sekaligus, ada lebih banyak informasi yang perlu kita pantau. Untuk ini kita menambahkan empat baris baru.\n",
        "\n",
        "Dari baris baru ini, baris paling bawah mewakili $p(|01\\rangle)+p(|10\\rangle)$: probabilitas bahwa qubit akan memberikan hasil yang berbeda untuk pengukuran az dari keduanya. Karena keadaan awal di bawah adalah $|01\\rangle$, baris baru ini berwarna ungu untuk menunjukkan bahwa mereka pasti tidak setuju.\n",
        "\n",
        "Baris baru di atas mewakili hal yang sama tetapi untuk pengukuran x pada kedua qubit. Karena hasil pengukuran x benar-benar acak untuk keadaan $|01\\rangle$, apakah mereka setuju atau tidak setuju juga acak. Itulah mengapa baris ini setengah terisi pada keadaan awal di bawah.\n",
        "\n",
        "Terapkan gerbang untuk memastikan bahwa pengukuran x pada setiap qubit akan memberikan hasil yang sama, dan lihat bagaimana pengaruhnya terhadap garis di atas."
      ]
    },
    {
      "cell_type": "code",
      "execution_count": null,
      "metadata": {
      },
      "outputs": [

      ],
      "source": [
        "puzzle = run_puzzle(5)"
      ]
    },
    {
      "cell_type": "markdown",
      "metadata": {
      },
      "source": [
        "Dua baris baru lainnya juga mewakili probabilitas hasil yang berbeda, tetapi untuk dua kasus pengukuran x pada satu qubit dan pengukuran z pada yang lain.\n",
        "\n",
        "Dengan pemikiran ini, kita dapat memprediksi bagaimana gerbang `x` dan `h` akan mempengaruhi garis baru ini. Misalnya, ingat bahwa gerbang `x` membalikkan hasil pengukuran z pada qubit. Jika hasil itu pasti setuju dengan satu dari qubit lain, maka `x` juga membuatnya pasti tidak setuju dan sebaliknya. Oleh karena itu akan mempengaruhi semua garis sepanjang deretan grid.\n",
        "\n",
        "Coba tiga gerbang `x` di bawah untuk melihatnya secara langsung."
      ]
    },
    {
      "cell_type": "code",
      "execution_count": null,
      "metadata": {
      },
      "outputs": [

      ],
      "source": [
        "puzzle = run_puzzle(6)"
      ]
    },
    {
      "cell_type": "markdown",
      "metadata": {
      },
      "source": [
        "Seperti yang kita lihat sebelumnya, efek dari `h` adalah membuat pengukuran z yang benar sebelum `h` berlaku untuk pengukuran x setelahnya, dan sebaliknya. Untuk alasan ini memiliki efek menukar seluruh baris di grid.\n",
        "\n",
        "Untuk melihatnya, coba tiga gerbang `h` di bawah ini."
      ]
    },
    {
      "cell_type": "code",
      "execution_count": null,
      "metadata": {
        "scrolled": false
      },
      "outputs": [

      ],
      "source": [
        "puzzle = run_puzzle(7)"
      ]
    },
    {
      "cell_type": "markdown",
      "metadata": {
      },
      "source": [
        "Kombinasi baris ini menjadi lebih jelas saat menggunakan perintah 'Bloch'. Menggabungkan baris berarti bahwa tiga pasang garis yang berbeda ditumpangkan, dan gerbang `ry` mengarah ke rotasi untuk masing-masingnya.\n",
        "\n",
        "Untuk melihatnya, gunakan `ry` rotations untuk memutar kedua qubit ke status $|1\\rangle$ mereka. Coba gunakan perintah 'Bloch' untuk setiap qubit saat Anda melakukan rotasi."
      ]
    },
    {
      "cell_type": "code",
      "execution_count": null,
      "metadata": {
      },
      "outputs": [

      ],
      "source": [
        "puzzle = run_puzzle(8)"
      ]
    },
    {
      "cell_type": "markdown",
      "metadata": {
      },
      "source": [
        "### Latihan 6: Menjerat Qubit\n",
        "\n",
        "Karena garis baru mewakili korelasi, mereka menjadi sangat penting dalam menggambarkan kondisi keterjeratan.\n",
        "\n",
        "Gerbang termudah untuk dipahami menggunakan visualisasi ini adalah `cz` . Karena ini bekerja secara simetris, kita tidak perlu memilih qubit mana yang akan diterapkan. Itu hanya akan bekerja pada kedua qubit.\n",
        "\n",
        "Sama seperti `h` gerbang dapat dipahami dengan menukar posisi garis (dari satu kolom ke kolom lainnya), kita dapat menggunakan penjelasan serupa untuk `cz` . Secara khusus, ini menukar garis pengukuran x dari setiap qubit dengan garis tetangga yang mewakili korelasi.\n",
        "\n",
        "Cobalah di bawah dengan tiga gerbang `cz` ."
      ]
    },
    {
      "cell_type": "code",
      "execution_count": null,
      "metadata": {
      },
      "outputs": [

      ],
      "source": [
        "puzzle = run_puzzle(9)"
      ]
    },
    {
      "cell_type": "markdown",
      "metadata": {
      },
      "source": [
        "Anda mungkin juga memperhatikan bahwa garis di atas juga berubah. Untuk menjelaskan bahwa kita perlu memperluas visualisasi untuk memasukkan sesuatu yang selama ini kita lewatkan. Ada juga konsep 'pengukuran y', dan kita perlu menambahkan garis untuk merepresentasikan hasil yang mungkin dari hal ini untuk menggambarkan status qubit kita sepenuhnya."
      ]
    },
    {
      "cell_type": "code",
      "execution_count": null,
      "metadata": {
      },
      "outputs": [

      ],
      "source": [
        "puzzle = run_puzzle(10)"
      ]
    },
    {
      "cell_type": "markdown",
      "metadata": {
      },
      "source": [
        "Di sini kita telah menyisipkan dua baris baru dan banyak baris baru untuk mewakili hasil pengukuran y, serta semua korelasi yang melibatkan pengukuran y.\n",
        "\n",
        "Yang penting untuk diperhatikan adalah yang di tengah, yang menggambarkan kemungkinan mendapatkan hasil yang berbeda ketika kedua qubit diukur dalam basis y. Baris ini adalah baris yang bertukar dengan baris teratas saat kita melakukan `cz` . Lakukan tiga gerbang `cz` lainnya untuk melihat ini beraksi.\n",
        "\n",
        "Perhatikan bahwa baris baru ini juga dapat dimasukkan ke dalam perintah 'Bloch'. Untuk itu kita akan membuat bola daripada lingkaran, dan kita akan dapat melihat bahwa gerbang `rx` dan `rz` juga merupakan rotasi. Meskipun kita tidak akan menyertakan ini dalam visualisasi, Anda dapat membuat plot bola ini kapan saja menggunakan perintah berikut."
      ]
    },
    {
      "cell_type": "code",
      "execution_count": null,
      "metadata": {
      },
      "outputs": [

      ],
      "source": [
        "puzzle.plot_spheres()"
      ]
    },
    {
      "cell_type": "markdown",
      "metadata": {
      },
      "source": [
        "### Latihan 7: Kotak Pasir\n",
        "\n",
        "Melacak semua informasi tentang pengukuran y membuat grid sedikit terlalu rumit. Jadi mari kita kembali mengabaikannya.\n",
        "\n",
        "Sekarang Anda telah mempelajari semua yang kita butuhkan untuk menyiapkan percobaan. Sebelum kita melanjutkan, jangan ragu untuk bermain-main sesuka Anda."
      ]
    },
    {
      "cell_type": "code",
      "execution_count": null,
      "metadata": {
      },
      "outputs": [

      ],
      "source": [
        "puzzle = run_puzzle(11)"
      ]
    },
    {
      "cell_type": "markdown",
      "metadata": {
      },
      "source": [
        "## Pertidaksamaan Bell\n",
        "\n",
        "### 2.1 Uji Bell untuk variabel klasik\n",
        "\n",
        "sekarang kita akan menginvestigasi bagaimana variabel kuantum (berdasarkan qubit) berbeda dengan yang pada umumnya (berdasarkan bit).\n",
        "\n",
        "Kita akan melakukannya dengan membuat sepasang variabel, yang akan kita sebut `A` dan `B`. Kita tidak akan memberikan persyaratan apa pun tentang ini, atau bagaimana inisialisasinya. Jadi ada banyak kemungkinan:\n",
        "\n",
        "- Mereka bisa berupa variabel apa saja, seperti\n",
        "    - integer\n",
        "    - daftar (list)\n",
        "    - kamus (dictionary)\n",
        "    - ...\n",
        "- Mereka dapat diinisialisasi oleh proses apa pun, seperti\n",
        "    - dibiarkan kosong\n",
        "    - diisi dengan sekumpulan nilai tertentu\n",
        "    - dihasilkan oleh proses acak tertentu\n",
        "        - diterapkan secara independen untuk `A` dan `B`\n",
        "        - diterapkan ke `A` dan `B` bersama-sama, memungkinkan korelasi antara keacakan mereka\n",
        "\n",
        "Jika variabel diinisialisasi oleh proses acak, itu berarti mereka akan memiliki nilai yang berbeda setiap kali kita menjalankan program kita. Ini baik-baik saja. Satu-satunya aturan yang perlu kita patuhi adalah bahwa proses menghasilkan keacakan adalah sama untuk setiap proses.\n",
        "\n",
        "Kita akan menggunakan fungsi di bawah ini untuk menyiapkan variabel-variabel ini. Ini saat ini memiliki `A` dan `B` yang didefinisikan sebagai nomor floating point acak yang berkorelasi sebagian. Tetapi Anda dapat mengubahnya menjadi apa pun yang Anda inginkan."
      ]
    },
    {
      "cell_type": "code",
      "execution_count": null,
      "metadata": {
      },
      "outputs": [

      ],
      "source": [
        "\n",
        "import random\n",
        "def setup_variables():\n",
        "    \n",
        "    ### Ganti bagian ini dengan apa pun yang Anda inginkan ###\n",
        "    \n",
        "    r = random.random()\n",
        "    \n",
        "    A = r*(2/3)\n",
        "    B = r*(1/3)\n",
        "    \n",
        "    ### Akhir bagian ###\n",
        "    \n",
        "    return A, B"
      ]
    },
    {
      "cell_type": "markdown",
      "metadata": {
      },
      "source": [
        "Tugas kita selanjutnya adalah mendefinisikan fungsi hashing. Ini hanya perlu mengambil salah satu variabel sebagai input, dan kemudian memberikan nilai bit sebagai output.\n",
        "\n",
        "Fungsi ini juga harus mampu melakukan dua jenis hash yang berbeda. Jadi itu harus bisa memproses variabel dan menghasilkan sedikit dengan dua cara berbeda. Oleh karena itu, kita juga perlu memberi tahu fungsi jenis hash apa yang ingin kita gunakan.\n",
        "\n",
        "Agar konsisten dengan sisa program, dua jenis hash yang mungkin harus disebut `'H'` dan `'V'` . Selain itu, keluarannya harus dalam bentuk string bit nilai tunggal: `'0'` atau `'1'`.\n",
        "\n",
        "Dalam contoh (yang cukup sewenang-wenang) yang diberikan, bit dibuat dengan membandingkan `A` dan `B` dengan nilai tertentu. Outputnya adalah `'1'` jika berada di bawah nilai itu, dan `'0'` jika tidak. Jenis hash menentukan nilai yang digunakan."
      ]
    },
    {
      "cell_type": "code",
      "execution_count": null,
      "metadata": {
      },
      "outputs": [

      ],
      "source": [
        "def hash2bit(variable, hash_type):\n",
        "    \n",
        "    ### Ganti bagian ini dengan apa pun yang Anda inginkan ###\n",
        "    \n",
        "    if hash_type == 'V':\n",
        "        bit = (variable < 0.5)\n",
        "    elif hash_type == 'H':\n",
        "        bit = (variable < 0.25)\n",
        "        \n",
        "    bit = str(int(bit)) # Turn True or False into '1' and '0'\n",
        "    \n",
        "    ### Akhir bagian ###\n",
        "        \n",
        "    return bit"
      ]
    },
    {
      "cell_type": "markdown",
      "metadata": {
      },
      "source": [
        "Setelah ini didefinisikan, ada empat besaran yang ingin kita hitung: `P['HH']` , `P['HV']` , `P['VH']` dan `P['VV']` .\n",
        "\n",
        "Mari fokus pada `P['HV']` sebagai contoh. Ini adalah probabilitas bahwa nilai bit yang diturunkan dari hash tipe `'H'` pada `A` berbeda dengan nilai bit dari hash tipe `'V'` pada `B` . Kita akan memperkirakan probabilitas ini dengan mengambil sampel berkali-kali dan menentukan fraksi sampel yang tidak sesuai dengan nilai bit yang sesuai.\n",
        "\n",
        "Probabilitas lain didefinisikan serupa: `P['HH']` membandingkan hash tipe `'H'` pada `A` dan `B` , `P['VV']` membandingkan hash tipe `V` pada keduanya, dan `P['VH']` membandingkan `V` ketik hash pada `A` dengan tipe `H` ada pada `B` .\n",
        "\n",
        "Probabilitas ini dihitung dalam fungsi berikut, yang mengembalikan semua nilai `P` dalam kamus. `shots` parameter adalah jumlah sampel yang akan kita gunakan."
      ]
    },
    {
      "cell_type": "code",
      "execution_count": null,
      "metadata": {
      },
      "outputs": [

      ],
      "source": [
        "shots = 8192\n",
        "def calculate_P():\n",
        "    P = {}\n",
        "    for hashes in ['VV','VH','HV','HH']:\n",
        "        \n",
        "        # hitung setial P[]hashes] dengan mengambil sampel melalui 'tembakan' sampel\n",
        "        P[hashes] = 0\n",
        "        for shot in range(shots):\n",
        "\n",
        "            A, B = setup_variables()\n",
        "\n",
        "            # tipe hash untuk variabel 'A' adalah karakter pertama dari 'hash'\n",
        "            a = hash2bit(A, hashes[0])\n",
        "            # tipe hash untuk variable 'B' adalah karakter ke-2 dari 'hash'\n",
        "            b = hash2bit(B, hashes[1])\n",
        "\n",
        "            P[hashes] += (a != b)/shots\n",
        " \n",
        "    return P"
      ]
    },
    {
      "cell_type": "markdown",
      "metadata": {
      },
      "source": [
        "Sekarang mari kita hitung nilai-nilai ini untuk metode yang telah kita pilih untuk mengatur dan hash variabel."
      ]
    },
    {
      "cell_type": "code",
      "execution_count": null,
      "metadata": {
      },
      "outputs": [

      ],
      "source": [
        "P = calculate_P()\n",
        "print(P)"
      ]
    },
    {
      "cell_type": "markdown",
      "metadata": {
      },
      "source": [
        "Nilai-nilai ini akan sedikit berbeda dari satu percobaan ke percobaan berikutnya karena fakta bahwa kita hanya menggunakan jumlah percobaan yang terbatas. Untuk mengubahnya secara signifikan, kita perlu mengubah cara variabel dimulai, dan/atau cara fungsi hash didefinisikan.\n",
        "\n",
        "Tidak peduli bagaimana fungsi ini didefinisikan, ada batasan tertentu yang akan selalu dipatuhi oleh nilai `P`\n",
        "\n",
        "Misalnya, pertimbangkan kasus bahwa `P['HV']` , `P['VH']` dan `P['VV']` semuanya `0.0` . Satu-satunya cara agar hal ini menjadi mungkin adalah agar `P['HH']` juga menjadi `0.0` .\n",
        "\n",
        "Untuk mengetahui alasannya, kita mulai dengan mencatat bahwa `P['HV']=0.0` memberi tahu kita bahwa `hash2bit(A, H)` dan `hash2bit(B, V)` tidak pernah berbeda dalam proses apa pun. Jadi ini berarti kita selalu bisa berharap mereka setara.\n",
        "\n",
        "```\n",
        "    hash2bit(A, H) = hash2bit(B, V)        (1)\n",
        "```\n",
        "\n",
        "Dari `P['VV']=0.0` dan `P['VH']=0.0` kita juga bisa mendapatkan\n",
        "\n",
        "```\n",
        "    hash2bit(A, V) = hash2bit(B, V)        (2)\n",
        "    \n",
        "    hash2bit(A, V) = hash2bit(B, H)        (3)\n",
        "```\n",
        "\n",
        "Menyatukan (1) dan (2) bersama-sama menyiratkan bahwa\n",
        "\n",
        "```\n",
        "    hash2bit(A, H) = hash2bit(A, V)        (4)\n",
        "```\n",
        "\n",
        "Menggabungkan ini dengan (3) memberi\n",
        "\n",
        "```\n",
        "    hash2bit(A, H) = hash2bit(B, H)        (5)\n",
        "```\n",
        "\n",
        "Dan jika nilai-nilai ini selalu sama, kita tidak akan pernah melihat berjalan di mana mereka berbeda. Inilah tepatnya yang ingin kita buktikan: `P['HH']=0.0` .\n",
        "\n",
        "Secara lebih umum, kita dapat menggunakan nilai `P['HV']` , `P['VH']` dan `P['VV']` untuk menetapkan batas atas dari `P['HH']` dapat. Dengan mengadaptasi [ketidaksetaraan CHSH](https://en.wikipedia.org/wiki/CHSH_inequality) , kita menemukan bahwa\n",
        "\n",
        "$,,,,,,,$ `P['HH']` $, \\leq ,$ `P['HV'] + P['VH'] + P['VV']`\n",
        "\n",
        "Ini bukan hanya properti khusus dari `P['HH']` . Itu juga berlaku untuk yang lain: masing-masing probabilitas ini tidak boleh lebih besar dari jumlah yang lain.\n",
        "\n",
        "Untuk menguji apakah logika ini berlaku, kita akan melihat seberapa baik probabilitas mematuhi ketidaksetaraan ini. Perhatikan bahwa kita mungkin mendapatkan sedikit pelanggaran karena fakta bahwa nilai `P` kita tidak tepat, tetapi estimasi dibuat menggunakan sampel dalam jumlah terbatas."
      ]
    },
    {
      "cell_type": "code",
      "execution_count": null,
      "metadata": {
      },
      "outputs": [

      ],
      "source": [
        "def bell_test(P):\n",
        "    sum_P = sum(P.values())\n",
        "    for hashes in P:\n",
        "        \n",
        "        bound = sum_P - P[hashes]\n",
        "        \n",
        "        print(\"The upper bound for P['\"+hashes+\"'] is \"+str(bound))\n",
        "        print(\"The value of P['\"+hashes+\"'] is \"+str(P[hashes]))\n",
        "        if P[hashes]<=bound:\n",
        "            print(\"The upper bound is obeyed :)\\n\")\n",
        "        else:\n",
        "            if P[hashes]-bound < 0.1:\n",
        "                print(\"This seems to have gone over the upper bound, \"\n",
        "                      \"but only by a little bit :S\\nProbably just rounding\"\n",
        "                      \" errors or statistical noise.\\n\")\n",
        "            else:\n",
        "                print(\"This has gone well over the upper bound :O !!!!!\\n\")"
      ]
    },
    {
      "cell_type": "code",
      "execution_count": null,
      "metadata": {
      },
      "outputs": [

      ],
      "source": [
        "bell_test(P)"
      ]
    },
    {
      "cell_type": "markdown",
      "metadata": {
      },
      "source": [
        "Dengan fungsi inisialisasi dan hash yang disediakan di notebook ini, nilai `P('HV')` seharusnya hampir sama dengan batas atasnya. Karena jumlahnya diperkirakan secara statistik, dan oleh karena itu sedikit perkiraan karena kebisingan statistik, Anda bahkan mungkin melihatnya sedikit berlebihan. Tapi Anda tidak akan pernah melihatnya secara signifikan melampaui batas.\n",
        "\n",
        "Jika Anda tidak mempercayai saya, cobalah sendiri. Ubah cara variabel diinisialisasi, dan bagaimana hash dihitung, dan cobalah untuk membuat salah satu batasan rusak secara signifikan."
      ]
    },
    {
      "cell_type": "markdown",
      "metadata": {
      },
      "source": [
        "## Tes Bell untuk variabel kuantum\n",
        "\n",
        "Sekarang kita akan melakukan hal yang sama lagi, kecuali variabel `A` dan `B` kita akan menjadi variabel kuantum. Secara khusus, mereka akan menjadi jenis variabel kuantum yang paling sederhana: qubit."
      ]
    },
    {
      "cell_type": "markdown",
      "metadata": {
      },
      "source": [
        "Saat menulis program kuantum, kita harus mengatur qubit dan bit kita sebelum kita dapat menggunakannya. Ini dilakukan oleh fungsi di bawah ini. Ini mendefinisikan register dua qubit, dan menugaskannya sebagai variabel kita `A` dan `B` . Ini kemudian mengatur register dua bit untuk menerima output, dan menetapkannya sebagai `a` dan `b` .\n",
        "\n",
        "Akhirnya kita akan menggunakan register ini untuk menyiapkan program kuantum kosong. Ini disebut `qc` ."
      ]
    },
    {
      "cell_type": "code",
      "execution_count": null,
      "metadata": {
      },
      "outputs": [

      ],
      "source": [
        "from qiskit import QuantumRegister, ClassicalRegister, QuantumCircuit\n",
        "\n",
        "def initialize_program():\n",
        "    qubit = QuantumRegister(2)\n",
        "    A = qubit[0]\n",
        "    B = qubit[1]\n",
        "    \n",
        "    bit = ClassicalRegister(2)\n",
        "    a = bit[0]\n",
        "    b = bit[1]\n",
        "    \n",
        "    qc = QuantumCircuit(qubit, bit)\n",
        "    \n",
        "    return A, B, a, b, qc"
      ]
    },
    {
      "cell_type": "markdown",
      "metadata": {
      },
      "source": [
        "Sebelum kita memulai menulis program kuantum untuk mengatur variabel kita, mari kita pikirkan apa yang perlu terjadi di akhir program. Ini akan menjadi tempat kita mendefinisikan fungsi hash yang berbeda, yang mengubah qubit kita menjadi bit.\n",
        "\n",
        "Cara paling sederhana untuk mengekstrak sedikit dari <em>qubit</em> adalah melalui pengukuran. Kita akan menggunakan pengukuran z sebagai <em>hash</em> tipe `H<code data-md-type=\"codespan\"></code>`\n",
        "\n",
        "Perhatikan bahwa fungsi ini memiliki lebih banyak input daripada fungsi klasiknya. Kita harus memberi tahu `bit` untuk menuliskan hasilnya, dan program kuantum, `qc` , tempat kita menulis gerbangnya."
      ]
    },
    {
      "cell_type": "code",
      "execution_count": null,
      "metadata": {
      },
      "outputs": [

      ],
      "source": [
        "def hash2bit(variable, hash_type, bit, qc):\n",
        "    if hash_type == 'H':\n",
        "        qc.h(variable)\n",
        "    qc.measure(variable, bit)"
      ]
    },
    {
      "cell_type": "markdown",
      "metadata": {
      },
      "source": [
        "Sekarang saatnya menyiapkan variabel `A` dan `B` . Untuk menulis program ini, Anda dapat menggunakan kisi-kisi di bawah ini. Anda dapat mengikuti latihan yang disarankan, atau melakukan apapun yang Anda suka. Setelah Anda siap, lanjutkan saja. Sel yang berisi fungsi `setup_variables()` , kemudian akan menggunakan program yang Anda tulis dengan kisi.\n",
        "\n",
        "Perhatikan bahwa pilihan visualisasi kita memiliki arti bahwa probabilitas `P['HH']` , `P['HV']` , `P['VH']` dan `P['VV']` akan secara eksplisit sesuai dengan lingkaran di kisi kita. Misalnya, lingkaran di bagian paling atas memberi tahu kita seberapa besar kemungkinan dua keluaran X akan tidak setuju. Jika ini berwarna ungu, maka `P['HH']=1` ; jika putih maka `P['HH']=0` .\n",
        "\n",
        "Salah satu contoh keadaan yang tidak akan mematuhi batas atas yang dibahas sebelumnya adalah keadaan di mana `P['HH']>0.5` dan `P['HV']=P['VH']=P['VV']<0.5` . Ini berarti bahwa garis paling atas sebagian besar berwarna ungu, dan sisanya yang menggambarkan korelasi sebagian besar berwarna putih.\n",
        "\n",
        "Temukan cara untuk membuat keadaan seperti itu di bawah ini."
      ]
    },
    {
      "cell_type": "code",
      "execution_count": null,
      "metadata": {
        "scrolled": false
      },
      "outputs": [

      ],
      "source": [
        "puzzle = run_puzzle(12)"
      ]
    },
    {
      "cell_type": "markdown",
      "metadata": {
      },
      "source": [
        "Sekarang program seperti yang ditulis di atas akan digunakan untuk mengatur variabel kuantum."
      ]
    },
    {
      "cell_type": "code",
      "execution_count": null,
      "metadata": {
      },
      "outputs": [

      ],
      "source": [
        "import numpy as np\n",
        "def setup_variables(A, B, qc):\n",
        "    for line in puzzle.program:\n",
        "        eval(line)"
      ]
    },
    {
      "cell_type": "markdown",
      "metadata": {
      },
      "source": [
        "Nilai `P` dihitung dalam fungsi di bawah ini. Dalam hal ini, seperti teka-teki di bagian lain notebook ini, ini dilakukan dengan menjalankan pekerjaan menggunakan Qiskit dan mendapatkan hasil yang memberi tahu kita berapa banyak sampel yang memberikan setiap hasil yang mungkin. Outputnya diberikan sebagai bit string, `string` , yang diberi nomor Qiskit dari kanan ke kiri. Ini berarti bahwa nilai `a` , yang sesuai dengan `bit[0]` adalah yang pertama dari kanan\n",
        "\n",
        "```\n",
        "    a = string[-1]\n",
        "```\n",
        "\n",
        "dan nilai `b` tepat di sebelahnya pada detik dari kanan\n",
        "\n",
        "```\n",
        "    b = string[-2]\n",
        "```\n",
        "\n",
        "Jumlah sampel untuk string bit ini disediakan oleh kamus hasil, `stats` , sebagai `stats[string]` ."
      ]
    },
    {
      "cell_type": "code",
      "execution_count": null,
      "metadata": {
      },
      "outputs": [

      ],
      "source": [
        "shots = 8192\n",
        "from qiskit import assemble, transpile\n",
        "\n",
        "def calculate_P(backend):\n",
        "    P = {}\n",
        "    program = {}\n",
        "    for hashes in ['VV','VH','HV','HH']:\n",
        "\n",
        "        A, B, a, b, program[hashes] = initialize_program()\n",
        "\n",
        "        setup_variables(A, B, program[hashes])\n",
        "\n",
        "        hash2bit(A, hashes[0], a, program[hashes])\n",
        "        hash2bit(B, hashes[1], b, program[hashes])\n",
        "            \n",
        "    # submit jobs\n",
        "    t_qcs = transpile(list(program.values()), backend)\n",
        "    qobj = assemble(t_qcs, shots=shots)\n",
        "    job = backend.run(qobj)\n",
        "\n",
        "    # get the results\n",
        "    for hashes in ['VV','VH','HV','HH']:\n",
        "        stats = job.result().get_counts(program[hashes])\n",
        "        \n",
        "        P[hashes] = 0\n",
        "        for string in stats.keys():\n",
        "            a = string[-1]\n",
        "            b = string[-2]\n",
        "            \n",
        "            if a != b:\n",
        "                P[hashes] += stats[string] / shots\n",
        "\n",
        "    return P"
      ]
    },
    {
      "cell_type": "markdown",
      "metadata": {
      },
      "source": [
        "Sekarang saatnya memilih dan mengatur perangkat sebenarnya yang akan kita gunakan. Secara standar, kita akan menggunakan simulator. Anda malah bisa menggunakan perangkat berbasis cloud nyata dengan mengubah backend yang sesuai."
      ]
    },
    {
      "cell_type": "code",
      "execution_count": null,
      "metadata": {
      },
      "outputs": [

      ],
      "source": [
        "puzzle.program"
      ]
    },
    {
      "cell_type": "code",
      "execution_count": null,
      "metadata": {
      },
      "outputs": [

      ],
      "source": [
        "from qiskit import Aer\n",
        "backend = Aer.get_backend('aer_simulator')"
      ]
    },
    {
      "cell_type": "code",
      "execution_count": null,
      "metadata": {
      },
      "outputs": [

      ],
      "source": [
        "P = calculate_P(backend)\n",
        "print(P)"
      ]
    },
    {
      "cell_type": "code",
      "execution_count": null,
      "metadata": {
        "scrolled": true
      },
      "outputs": [

      ],
      "source": [
        "bell_test(P)"
      ]
    },
    {
      "cell_type": "markdown",
      "metadata": {
        "collapsed": "benar"
      },
      "source": [
        "Jika Anda menyiapkan saran keadaan dengan latihan, Anda akan menemukan pelanggaran yang signifikan terhadap batas atas untuk `P['HH']` . Jadi apa yang terjadi di sini? Rantai logika yang menjadi dasar uji Bell jelas tidak berlaku untuk variabel kuantum. Tapi kenapa?\n",
        "\n",
        "Jawabannya adalah ada asumsi tersembunyi dalam logika itu. Untuk mengetahui alasannya, mari kita lihat kembali poin (4).\n",
        "\n",
        "```\n",
        "    hash2bit(A, H) = hash2bit(A, V)        (4)\n",
        "```\n",
        "\n",
        "Di sini kita membandingkan nilai yang akan kita dapatkan dari hash tipe `H` dari variabel `A` dengan hash tipe `V`\n",
        "\n",
        "Untuk variabel klasik, ini sangat masuk akal. Tidak ada yang menghentikan kita untuk menghitung kedua hash dan membandingkan hasilnya. Bahkan jika menghitung hash suatu variabel mengubah variabel, itu tidak menjadi masalah. Yang perlu kita lakukan hanyalah menyalinnya terlebih dahulu dan kita dapat melakukan kedua hash tanpa masalah.\n",
        "\n",
        "Hal yang sama tidak berlaku untuk variabel kuantum. Hasil hash tidak diketahui sampai kita benar-benar melakukannya. Baru pada saat itulah qubit benar-benar memutuskan nilai bit apa yang akan diberikan. Dan setelah memutuskan nilai untuk satu jenis hash, kita tidak pernah dapat menentukan apa yang akan diputuskan jika kita menggunakan jenis hash yang lain. Kita juga tidak dapat menyiasatinya dengan menyalin variabel kuantum, karena variabel kuantum [tidak dapat disalin](https://en.wikipedia.org/wiki/No-cloning_theorem) . Ini berarti tidak ada konteks di mana nilai `hash2bit(A,H)` dan `hash2bit(A,V)` didefinisikan dengan baik pada saat yang sama, sehingga tidak mungkin untuk membandingkannya.\n",
        "\n",
        "Asumsi tersembunyi lainnya adalah bahwa `hash2bit(A,hash)` hanya bergantung pada jenis hash yang dipilih untuk variabel `A` , dan bukan yang dipilih untuk variabel `B` . Ini juga sangat masuk akal, karena ini persis seperti cara kita mengatur fungsi `hash2bit()` . Namun, fakta bahwa batas atas dilanggar tampaknya menyiratkan bahwa masing-masing variabel mengetahui hash apa yang dilakukan terhadap yang lain, sehingga mereka dapat bersekongkol untuk memberikan perilaku yang sangat berbeda ketika keduanya memiliki hash tipe `H`\n",
        "\n",
        "Meski begitu, kita tidak dapat mengatakan bahwa pilihan hash kita pada satu qubit memengaruhi hasil di qubit lainnya. Efeknya lebih halus dari itu. Misalnya, tidak mungkin untuk menentukan variabel mana yang memengaruhi yang mana: Anda dapat mengubah urutan penyelesaian hash, atau [melakukannya secara efektif pada waktu yang sama](https://en.wikipedia.org/wiki/Loopholes_in_Bell_test_experiments#Communication,_or_locality) , dan Anda akan mendapatkan hasil yang sama. Apa yang dapat kami katakan adalah bahwa hasilnya bersifat [kontekstual](https://en.wikipedia.org/wiki/Quantum_contextuality) : untuk memahami sepenuhnya hasil dari satu variabel, kadang-kadang diperlukan untuk melihat apa yang telah dilakukan pada variabel lain.\n",
        "\n",
        "Semua ini menunjukkan bahwa variabel kuantum tidak selalu mengikuti logika yang biasa kita gunakan. Mereka mengikuti aturan yang berbeda, aturan mekanika kuantum, yang akan memungkinkan kita menemukan cara melakukan perhitungan dengan cara yang baru dan berbeda."
      ]
    }
  ],
  "metadata": {
    "kernelspec": {
      "display_name": "Python 3",
      "language": "python",
      "name": "python3"
    },
    "language_info": {
      "codemirror_mode": {
        "name": "ipython",
        "version": 3
      },
      "file_extension": ".py",
      "mimetype": "text/x-python",
      "name": "python",
      "nbconvert_exporter": "python",
      "pygments_lexer": "ipython3",
      "version": "3.9"
    }
  },
  "nbformat": 4,
  "nbformat_minor": 2
}
