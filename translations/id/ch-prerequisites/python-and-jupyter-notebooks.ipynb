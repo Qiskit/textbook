{
  "cells": [
    {
      "cell_type": "markdown",
      "metadata": {
        "tags": [
          "remove_cell"
        ]
      },
      "source": [
        "# Pengantar Python dan Jupyter Notebooks"
      ]
    },
    {
      "cell_type": "markdown",
      "metadata": {
      },
      "source": [
        "Python adalah bahasa pemrograman di mana Anda tidak perlu mengkompilasi. Anda bisa menjalankannya baris demi baris (begitulah cara kita menggunakannya di notebook). Jadi, jika Anda cukup baru dalam pemrograman, Python adalah tempat yang bagus untuk memulai. Versi saat ini adalah Python 3, yang akan kita gunakan di sini.\n",
        "\n",
        "Salah satu cara membuat kode dengan Python adalah dengan menggunakan Jupyter notebook. Ini mungkin cara terbaik untuk menggabungkan pemrograman, teks, dan gambar. Di buku catatan, semuanya ditata dalam sel. Sel teks dan sel kode adalah yang paling umum. Jika Anda melihat bagian ini sebagai notebook Jupyter, teks yang sedang Anda baca ada di sel teks. Sel kode dapat ditemukan tepat di bawah.\n",
        "\n",
        "Untuk menjalankan konten sel kode, Anda dapat mengkliknya dan menekan Shift + Enter. Atau jika ada tanda panah kecil di sebelah kiri, Anda dapat mengkliknya."
      ]
    },
    {
      "cell_type": "code",
      "execution_count": 1,
      "metadata": {
      },
      "outputs": [
        {
          "data": {
            "text/plain": [
              "2"
            ]
          },
          "execution_count": 1,
          "metadata": {
          },
          "output_type": "execute_result"
        }
      ],
      "source": [
        "1 + 1"
      ]
    },
    {
      "cell_type": "markdown",
      "metadata": {
      },
      "source": [
        "Jika Anda melihat bagian ini sebagai notebook Jupyter, jalankan setiap sel kode saat Anda membacanya."
      ]
    },
    {
      "cell_type": "code",
      "execution_count": 2,
      "metadata": {
      },
      "outputs": [
        {
          "data": {
            "text/plain": [
              "1.5"
            ]
          },
          "execution_count": 2,
          "metadata": {
          },
          "output_type": "execute_result"
        }
      ],
      "source": [
        "a = 1\n",
        "b = 0.5\n",
        "a + b"
      ]
    },
    {
      "cell_type": "markdown",
      "metadata": {
      },
      "source": [
        "Di atas kami membuat dua variabel, yang kami sebut `a` dan `b` , dan memberi mereka nilai. Lalu kami menambahkannya. Aritmatika sederhana seperti ini cukup mudah di Python."
      ]
    },
    {
      "cell_type": "markdown",
      "metadata": {
      },
      "source": [
        "Variabel dalam Python datang dalam berbagai bentuk. Di bawah ini adalah beberapa contoh."
      ]
    },
    {
      "cell_type": "code",
      "execution_count": 3,
      "metadata": {
      },
      "outputs": [

      ],
      "source": [
        "an_integer = 42 # Hanya bilangan bulat\n",
        "a_float = 0.1 # Angka non-bilangan bulat, hingga presisi tetap\n",
        "a_boolean = True # Nilai yang bisa berupa True atau False\n",
        "a_string = '''cukup lampirkan teks di antara dua 's, atau dua \"s, atau lakukan apa yang kami lakukan untuk string ini''' # Teks\n",
        "none_of_the_above = None # Tidak adanya nilai aktual atau tipe variabel apa pun"
      ]
    },
    {
      "cell_type": "markdown",
      "metadata": {
      },
      "source": [
        "Selain angka, struktur data lain yang bisa kita gunakan adalah *list* ."
      ]
    },
    {
      "cell_type": "code",
      "execution_count": 4,
      "metadata": {
      },
      "outputs": [

      ],
      "source": [
        "a_list = [0,1,2,3]"
      ]
    },
    {
      "cell_type": "markdown",
      "metadata": {
      },
      "source": [
        "List di Python dapat berisi campuran jenis variabel apa pun."
      ]
    },
    {
      "cell_type": "code",
      "execution_count": 5,
      "metadata": {
      },
      "outputs": [

      ],
      "source": [
        "a_list = [ 42, 0.5, True, [0,1], None, 'Banana' ]"
      ]
    },
    {
      "cell_type": "markdown",
      "metadata": {
      },
      "source": [
        "List diindeks dari `0` dengan Python (tidak seperti bahasa seperti Fortran). Jadi inilah cara Anda mengakses `42` di awal daftar di atas."
      ]
    },
    {
      "cell_type": "code",
      "execution_count": 6,
      "metadata": {
      },
      "outputs": [
        {
          "data": {
            "text/plain": [
              "42"
            ]
          },
          "execution_count": 6,
          "metadata": {
          },
          "output_type": "execute_result"
        }
      ],
      "source": [
        "a_list[0]"
      ]
    },
    {
      "cell_type": "markdown",
      "metadata": {
      },
      "source": [
        "Struktur data yang serupa adalah *tuple* ."
      ]
    },
    {
      "cell_type": "code",
      "execution_count": 7,
      "metadata": {
      },
      "outputs": [
        {
          "data": {
            "text/plain": [
              "42"
            ]
          },
          "execution_count": 7,
          "metadata": {
          },
          "output_type": "execute_result"
        }
      ],
      "source": [
        "a_tuple = ( 42, 0.5, True, [0,1], None, 'Banana' )\n",
        "a_tuple[0]"
      ]
    },
    {
      "cell_type": "markdown",
      "metadata": {
      },
      "source": [
        "Perbedaan utama antara list dan tuple adalah bahwa elemen list dapat diubah"
      ]
    },
    {
      "cell_type": "code",
      "execution_count": 8,
      "metadata": {
      },
      "outputs": [
        {
          "name": "stdout",
          "output_type": "stream",
          "text": [
            "[42, 0.5, True, [0, 1], None, 'apple']\n"
          ]
        }
      ],
      "source": [
        "a_list[5] = 'apple'\n",
        "\n",
        "print(a_list)"
      ]
    },
    {
      "cell_type": "markdown",
      "metadata": {
      },
      "source": [
        "sedangkan elemen tuple tidak bisa"
      ]
    },
    {
      "cell_type": "code",
      "execution_count": 9,
      "metadata": {
        "tags": [
          "raises-exception"
        ]
      },
      "outputs": [
        {
          "ename": "TypeError",
          "evalue": "'tuple' object does not support item assignment",
          "output_type": "error",
          "traceback": [
            "\u001b[0;31m---------------------------------------------------------------------------\u001b[0m",
            "\u001b[0;31mTypeError\u001b[0m                                 Traceback (most recent call last)",
            "\u001b[0;32m<ipython-input-9-42d08f1e5606>\u001b[0m in \u001b[0;36m<module>\u001b[0;34m\u001b[0m\n\u001b[0;32m----> 1\u001b[0;31m \u001b[0ma_tuple\u001b[0m\u001b[0;34m[\u001b[0m\u001b[0;36m5\u001b[0m\u001b[0;34m]\u001b[0m \u001b[0;34m=\u001b[0m \u001b[0;34m'apple'\u001b[0m\u001b[0;34m\u001b[0m\u001b[0;34m\u001b[0m\u001b[0m\n\u001b[0m",
            "\u001b[0;31mTypeError\u001b[0m: 'tuple' object does not support item assignment"
          ]
        }
      ],
      "source": [
        "a_tuple[5] = 'apple'"
      ]
    },
    {
      "cell_type": "markdown",
      "metadata": {
      },
      "source": [
        "Juga, kita bisa menambahkan elemen ke akhir daftar, yang tidak bisa kita lakukan dengan tupel."
      ]
    },
    {
      "cell_type": "code",
      "execution_count": 10,
      "metadata": {
      },
      "outputs": [
        {
          "name": "stdout",
          "output_type": "stream",
          "text": [
            "[42, 0.5, True, [0, 1], None, 'apple', 3.14]\n"
          ]
        }
      ],
      "source": [
        "a_list.append( 3.14 )\n",
        "\n",
        "print(a_list)"
      ]
    },
    {
      "cell_type": "markdown",
      "metadata": {
      },
      "source": [
        "Struktur data lain yang berguna adalah *dictionary* . Ini menyimpan satu set *nilai* , masing-masing diberi label dengan *kunci* yang unik.\n",
        "\n",
        "Nilai dapat berupa tipe data apa saja. Kunci bisa berupa apa saja yang cukup sederhana (integer, float, Boolean, string). Itu tidak bisa berupa daftar, tetapi *bisa* berupa tuple."
      ]
    },
    {
      "cell_type": "code",
      "execution_count": 11,
      "metadata": {
      },
      "outputs": [

      ],
      "source": [
        "a_dict = { 1:'This is the value, for the key 1', 'This is the key for a value 1':1, False:':)', (0,1):256 }"
      ]
    },
    {
      "cell_type": "markdown",
      "metadata": {
      },
      "source": [
        "Nilai diakses menggunakan kunci"
      ]
    },
    {
      "cell_type": "code",
      "execution_count": 12,
      "metadata": {
      },
      "outputs": [
        {
          "data": {
            "text/plain": [
              "1"
            ]
          },
          "execution_count": 12,
          "metadata": {
          },
          "output_type": "execute_result"
        }
      ],
      "source": [
        "a_dict['This is the key for a value 1']"
      ]
    },
    {
      "cell_type": "markdown",
      "metadata": {
      },
      "source": [
        "Pasangan kunci/nilai baru dapat ditambahkan hanya dengan memberikan nilai baru untuk kunci baru"
      ]
    },
    {
      "cell_type": "code",
      "execution_count": 13,
      "metadata": {
      },
      "outputs": [

      ],
      "source": [
        "a_dict['new key'] = 'new_value'"
      ]
    },
    {
      "cell_type": "markdown",
      "metadata": {
      },
      "source": [
        "Untuk mengulang rentang angka, sintaksnya adalah"
      ]
    },
    {
      "cell_type": "code",
      "execution_count": 14,
      "metadata": {
      },
      "outputs": [
        {
          "name": "stdout",
          "output_type": "stream",
          "text": [
            "0\n",
            "1\n",
            "2\n",
            "3\n",
            "4\n"
          ]
        }
      ],
      "source": [
        "for j in range(5):\n",
        "    print(j)"
      ]
    },
    {
      "cell_type": "markdown",
      "metadata": {
      },
      "source": [
        "Perhatikan bahwa ini dimulai pada 0 (secara default), dan berakhir pada n-1 untuk `range(n)` ."
      ]
    },
    {
      "cell_type": "markdown",
      "metadata": {
      },
      "source": [
        "Anda juga dapat mengulang objek 'iterable' apa pun, seperti list"
      ]
    },
    {
      "cell_type": "code",
      "execution_count": 15,
      "metadata": {
      },
      "outputs": [
        {
          "name": "stdout",
          "output_type": "stream",
          "text": [
            "42\n",
            "0.5\n",
            "True\n",
            "[0, 1]\n",
            "None\n",
            "apple\n",
            "3.14\n"
          ]
        }
      ],
      "source": [
        "for j in a_list:\n",
        "    print(j)"
      ]
    },
    {
      "cell_type": "markdown",
      "metadata": {
      },
      "source": [
        "atau dictionaries"
      ]
    },
    {
      "cell_type": "code",
      "execution_count": 16,
      "metadata": {
      },
      "outputs": [
        {
          "name": "stdout",
          "output_type": "stream",
          "text": [
            "key = 1\n",
            "value = This is the value, for the key 1\n",
            "\n",
            "key = This is the key for a value 1\n",
            "value = 1\n",
            "\n",
            "key = False\n",
            "value = :)\n",
            "\n",
            "key = (0, 1)\n",
            "value = 256\n",
            "\n",
            "key = new key\n",
            "value = new_value\n",
            "\n"
          ]
        }
      ],
      "source": [
        "for key in a_dict:\n",
        "    value = a_dict[key]\n",
        "    print('key =',key)\n",
        "    print('value =',value)\n",
        "    print()"
      ]
    },
    {
      "cell_type": "markdown",
      "metadata": {
      },
      "source": [
        "Pernyataan bersyarat dilakukan dengan `if` , `elif` dan `else` dengan sintaks berikut."
      ]
    },
    {
      "cell_type": "code",
      "execution_count": 17,
      "metadata": {
      },
      "outputs": [
        {
          "name": "stdout",
          "output_type": "stream",
          "text": [
            "We have an apple!\n"
          ]
        }
      ],
      "source": [
        "if 'strawberry' in a_list:\n",
        "    print('We have a strawberry!')\n",
        "elif a_list[5]=='apple':\n",
        "    print('We have an apple!')\n",
        "else:\n",
        "    print('Not much fruit here!')"
      ]
    },
    {
      "cell_type": "markdown",
      "metadata": {
      },
      "source": [
        "Mengimpor paket dilakukan dengan garis seperti"
      ]
    },
    {
      "cell_type": "code",
      "execution_count": 18,
      "metadata": {
      },
      "outputs": [

      ],
      "source": [
        "import numpy"
      ]
    },
    {
      "cell_type": "markdown",
      "metadata": {
      },
      "source": [
        "Paket `numpy` penting untuk mengerjakan matematika"
      ]
    },
    {
      "cell_type": "code",
      "execution_count": 19,
      "metadata": {
      },
      "outputs": [
        {
          "data": {
            "text/plain": [
              "1.0"
            ]
          },
          "execution_count": 19,
          "metadata": {
          },
          "output_type": "execute_result"
        }
      ],
      "source": [
        "numpy.sin( numpy.pi/2 )"
      ]
    },
    {
      "cell_type": "markdown",
      "metadata": {
      },
      "source": [
        "Kita harus menulis `numpy.` di depan setiap perintah numpy sehingga ia tahu bagaimana menemukan perintah yang ditentukan dalam `numpy` . Untuk menyimpan tulisan, sudah biasa digunakan"
      ]
    },
    {
      "cell_type": "code",
      "execution_count": 20,
      "metadata": {
      },
      "outputs": [
        {
          "data": {
            "text/plain": [
              "1.0"
            ]
          },
          "execution_count": 20,
          "metadata": {
          },
          "output_type": "execute_result"
        }
      ],
      "source": [
        "import numpy as np\n",
        "\n",
        "np.sin( np.pi/2 )"
      ]
    },
    {
      "cell_type": "markdown",
      "metadata": {
      },
      "source": [
        "Maka Anda hanya perlu nama yang disingkat. Kebanyakan orang menggunakan `np` , tetapi Anda dapat memilih yang Anda suka.\n",
        "\n",
        "Anda juga dapat menarik semuanya langsung dari `numpy`"
      ]
    },
    {
      "cell_type": "code",
      "execution_count": 21,
      "metadata": {
      },
      "outputs": [

      ],
      "source": [
        "from numpy import *"
      ]
    },
    {
      "cell_type": "markdown",
      "metadata": {
      },
      "source": [
        "Kemudian Anda dapat menggunakan perintah secara langsung. Tapi ini bisa menyebabkan paket-paket berantakan satu sama lain, jadi gunakan dengan hati-hati."
      ]
    },
    {
      "cell_type": "code",
      "execution_count": 22,
      "metadata": {
      },
      "outputs": [
        {
          "data": {
            "text/plain": [
              "1.0"
            ]
          },
          "execution_count": 22,
          "metadata": {
          },
          "output_type": "execute_result"
        }
      ],
      "source": [
        "sin( pi/2 )"
      ]
    },
    {
      "cell_type": "markdown",
      "metadata": {
      },
      "source": [
        "Jika Anda ingin melakukan trigonometri, aljabar linier, dll, Anda dapat menggunakan `numpy`. Untuk merencanakan, gunakan `matplotlib`. Untuk teori graf, gunakan `networkx`. Untuk komputasi kuantum, gunakan `qiskit`. Untuk apa pun yang Anda inginkan, mungkin akan ada paket untuk membantu Anda melakukannya."
      ]
    },
    {
      "cell_type": "markdown",
      "metadata": {
      },
      "source": [
        "Hal yang baik untuk diketahui dalam bahasa apa pun adalah bagaimana membuat suatu fungsi.\n",
        "\n",
        "Berikut adalah fungsi, yang namanya dipilih `do_some_maths`, yang inputnya diberi nama `Input1` dan `Input2` dan outputnya diberi nama `the_answer`."
      ]
    },
    {
      "cell_type": "code",
      "execution_count": 23,
      "metadata": {
      },
      "outputs": [

      ],
      "source": [
        "def do_some_maths ( Input1, Input2 ):\n",
        "    the_answer = Input1 + Input2\n",
        "    return the_answer"
      ]
    },
    {
      "cell_type": "markdown",
      "metadata": {
      },
      "source": [
        "Ini digunakan sebagai berikut"
      ]
    },
    {
      "cell_type": "code",
      "execution_count": 24,
      "metadata": {
      },
      "outputs": [
        {
          "name": "stdout",
          "output_type": "stream",
          "text": [
            "73\n"
          ]
        }
      ],
      "source": [
        "x = do_some_maths(1,72)\n",
        "print(x)"
      ]
    },
    {
      "cell_type": "markdown",
      "metadata": {
      },
      "source": [
        "Jika Anda memberi fungsi sebuah objek, dan fungsi tersebut memanggil metode objek itu untuk mengubah statusnya, efeknya akan tetap ada. Jadi jika hanya itu yang ingin Anda lakukan, Anda tidak perlu `return` apa pun. Sebagai contoh, mari kita lakukan dengan metode `append` dari sebuah daftar."
      ]
    },
    {
      "cell_type": "code",
      "execution_count": 25,
      "metadata": {
      },
      "outputs": [

      ],
      "source": [
        "def add_sausages ( input_list ):\n",
        "    if 'sausages' not in input_list:\n",
        "        input_list.append('sausages')"
      ]
    },
    {
      "cell_type": "code",
      "execution_count": 26,
      "metadata": {
      },
      "outputs": [
        {
          "name": "stdout",
          "output_type": "stream",
          "text": [
            "List before the function\n",
            "[42, 0.5, True, [0, 1], None, 'apple', 3.14]\n",
            "\n",
            "List after the function\n",
            "[42, 0.5, True, [0, 1], None, 'apple', 3.14, 'sausages']\n"
          ]
        }
      ],
      "source": [
        "print('List before the function')\n",
        "print(a_list)\n",
        "\n",
        "add_sausages(a_list) # function called without an output\n",
        "\n",
        "print('\\nList after the function')\n",
        "print(a_list)"
      ]
    },
    {
      "cell_type": "markdown",
      "metadata": {
      },
      "source": [
        "Keacakan dapat dihasilkan menggunakan paket `random` ."
      ]
    },
    {
      "cell_type": "code",
      "execution_count": 27,
      "metadata": {
      },
      "outputs": [

      ],
      "source": [
        "import random"
      ]
    },
    {
      "cell_type": "code",
      "execution_count": 28,
      "metadata": {
      },
      "outputs": [
        {
          "name": "stdout",
          "output_type": "stream",
          "text": [
            "* Results from sample 1\n",
            "\n",
            "    Random number from 0 to 1: 0.9565207808448243\n",
            "\n",
            "    Random choice from our list: 3.14\n",
            "\n",
            "\n",
            "* Results from sample 2\n",
            "\n",
            "    Random number from 0 to 1: 0.2965136670559021\n",
            "\n",
            "    Random choice from our list: sausages\n",
            "\n",
            "\n",
            "* Results from sample 3\n",
            "\n",
            "    Random number from 0 to 1: 0.5742595097667611\n",
            "\n",
            "    Random choice from our list: 3.14\n",
            "\n",
            "\n",
            "* Results from sample 4\n",
            "\n",
            "    Random number from 0 to 1: 0.8530438802121619\n",
            "\n",
            "    Random choice from our list: True\n",
            "\n",
            "\n",
            "* Results from sample 5\n",
            "\n",
            "    Random number from 0 to 1: 0.1329354419675386\n",
            "\n",
            "    Random choice from our list: None\n",
            "\n",
            "\n"
          ]
        }
      ],
      "source": [
        "for j in range(5):\n",
        "    print('* Results from sample',j+1)\n",
        "    print('\\n    Random number from 0 to 1:', random.random() )\n",
        "    print(\"\\n    Random choice from our list:\", random.choice( a_list ) )\n",
        "    print('\\n')"
      ]
    },
    {
      "cell_type": "markdown",
      "metadata": {
      },
      "source": [
        "Ini adalah dasar-dasarnya. Sekarang yang Anda butuhkan hanyalah mesin telusur, dan intuisi untuk mengetahui siapa yang layak didengarkan di Stack Exchange. Kemudian Anda dapat melakukan apa saja dengan Python. Kode Anda mungkin bukan yang paling 'Pythonic', tetapi hanya Pythonista yang benar-benar peduli tentang itu."
      ]
    }
  ],
  "metadata": {
    "kernelspec": {
      "display_name": "Python 3",
      "language": "python",
      "name": "python3"
    },
    "language_info": {
      "codemirror_mode": {
        "name": "ipython",
        "version": 3
      },
      "file_extension": ".py",
      "mimetype": "text/x-python",
      "name": "python",
      "nbconvert_exporter": "python",
      "pygments_lexer": "ipython3",
      "version": "3.9"
    }
  },
  "nbformat": 4,
  "nbformat_minor": 2
}
