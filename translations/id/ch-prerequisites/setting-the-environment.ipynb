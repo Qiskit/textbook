{
  "cells": [
    {
      "cell_type": "markdown",
      "metadata": {
        "tags": [
          "remove_cell"
        ]
      },
      "source": [
        "# Panduan Pengaturan Environment Qiskit Textbook"
      ]
    },
    {
      "cell_type": "markdown",
      "metadata": {
      },
      "source": [
        "Ini adalah panduan komprehensif untuk mengatur Environment Anda di komputer pribadi Anda untuk bekerja dengan Buku Teks Qiskit. Ini akan membantu Anda mereproduksi hasil seperti yang Anda lihat di situs web buku teks. Buku Teks Qiskit ditulis dalam [notebook Jupyter](https://jupyter.org/install). Notebooks dan [situs web](https://qiskit.org/textbook/preface.html) adalah satu-satunya media di mana Buku Teks Qiskit didukung sepenuhnya."
      ]
    },
    {
      "cell_type": "markdown",
      "metadata": {
      },
      "source": [
        "## Menginstal Paket qikit_textbook\n",
        "\n",
        "Buku Teks Qiskit menyediakan beberapa alat dan widget khusus untuk Buku Teks. Ini bukan bagian dari Qiskit dan tersedia melalui paket `qiskit_textbook`. Cara tercepat untuk menginstalnya dengan [Pip](http://pypi.org/project/pip/) dan [Git](http://git-scm.com/) adalah melalui perintah:\n",
        "\n",
        "```code\n",
        "pip install git+https://github.com/qiskit-community/qiskit-textbook.git#subdirectory=qiskit-textbook-src\n",
        "```\n",
        "\n",
        "Atau, Anda dapat mengunduh folder [qiskit-textbook-src](https://github.com/qiskit-community/qiskit-textbook) dari Github dan menjalankan:\n",
        "\n",
        "```code\n",
        "pip install ./qiskit-textbook-src\n",
        "```\n",
        "\n",
        "dari direktori yang berisi folder ini.\n"
      ]
    },
    {
      "cell_type": "markdown",
      "metadata": {
      },
      "source": [
        "## Langkah-langkah untuk mereproduksi hasil prerender yang tepat seperti yang diberikan dalam buku teks qiskit (Opsional)"
      ]
    },
    {
      "cell_type": "markdown",
      "metadata": {
      },
      "source": [
        "### 1. Menyiapkan alat visualisasi default ke MatPlotLib\n",
        "\n",
        "Backend default untuk <code>QuantumCircuit.draw()</code> atau <code>qiskit.visualization.circuit_drawer()</code> adalah backend teks. Namun, bergantung pada lingkungan lokal Anda, Anda mungkin ingin mengubah default ini menjadi sesuatu yang lebih cocok untuk kasus penggunaan Anda. Ini dilakukan dengan file konfigurasi pengguna. Secara default, file konfigurasi pengguna harus ditempatkan di <code>~/.qiskit/</code> dan merupakan file <code>settings.conf</code> .\n",
        "\n",
        "Buku Teks Qiskit menggunakan alat visualisasi sirkuit default sebagai MatPlotLib. Untuk mereproduksi visualisasi seperti yang diberikan dalam buku teks qiskit, buat file <code>settings.conf</code> (biasanya ditemukan di <code>~/.qiskit/</code>) dengan konten:"
      ]
    },
    {
      "cell_type": "markdown",
      "metadata": {
      },
      "source": [
        "```code\n",
        "[default]\n",
        "circuit_drawer = mpl\n",
        "```"
      ]
    },
    {
      "cell_type": "markdown",
      "metadata": {
      },
      "source": [
        "### 2. Menyiapkan tipe gambar default ke svg\n",
        "\n",
        "Secara opsional, Anda dapat menambahkan baris kode berikut ke file <code>ipython_kernel_config.py</code> (biasanya ditemukan di <code>~/.ipython/profile_default/</code>) untuk menyetel format gambar default dari PNG ke format SVG yang lebih dapat diskalakan:"
      ]
    },
    {
      "cell_type": "markdown",
      "metadata": {
      },
      "source": [
        "```code\n",
        "c.InlineBackend.figure_format = 'svg'\n",
        "```"
      ]
    },
    {
      "cell_type": "markdown",
      "metadata": {
      },
      "source": [
        "### 3. Menginstal parser LaTeX\n",
        "\n",
        "Untuk mendapatkan rendering yang mirip dengan Buku Teks Qiskit, instal library pylatexen secara opsional. Anda dapat melakukan ini dengan [Pip](http://pypi.org/project/pip/) dan [Git](http://git-scm.com/) melalui perintah :\n",
        "\n",
        "<code>pip install pylatexenc</code>"
      ]
    },
    {
      "cell_type": "markdown",
      "metadata": {
      },
      "source": [
        "### 4. Sinkronisasi dengan versi Qiskit yang digunakan di Textbook\n",
        "\n",
        "Anda akan menemukan cuplikan kode di akhir sebagian besar tutorial yang berisi informasi tentang versi paket qiskit mana yang digunakan dalam tutorial. Jika Anda menemukan ketidakkonsistenan dalam sintaks dan/atau keluaran, coba gunakan versi yang sama.\n",
        "\n",
        "Untuk memeriksa versi yang terinstal di komputer Anda, jalankan perintah berikut di Python shell atau Jupyter Notebook:"
      ]
    },
    {
      "cell_type": "code",
      "execution_count": 1,
      "metadata": {
      },
      "outputs": [
        {
          "data": {
            "text/html": [
              "<h3>Version Information</h3><table><tr><th>Qiskit Software</th><th>Version</th></tr><tr><td><code>qiskit-terra</code></td><td>0.20.0</td></tr><tr><td><code>qiskit-aer</code></td><td>0.9.1</td></tr><tr><td><code>qiskit-ignis</code></td><td>0.7.0</td></tr><tr><td><code>qiskit-ibmq-provider</code></td><td>0.18.3</td></tr><tr><td><code>qiskit-aqua</code></td><td>0.9.5</td></tr><tr><td><code>qiskit</code></td><td>0.36.0</td></tr><tr><td><code>qiskit-nature</code></td><td>0.3.0</td></tr><tr><td><code>qiskit-finance</code></td><td>0.2.1</td></tr><tr><td><code>qiskit-optimization</code></td><td>0.2.3</td></tr><tr><td><code>qiskit-machine-learning</code></td><td>0.2.1</td></tr><tr><th>System information</th></tr><tr><td>Python version</td><td>3.9.10</td></tr><tr><td>Python compiler</td><td>Clang 13.0.0 (clang-1300.0.29.3)</td></tr><tr><td>Python build</td><td>main, Jan 15 2022 11:48:00</td></tr><tr><td>OS</td><td>Darwin</td></tr><tr><td>CPUs</td><td>8</td></tr><tr><td>Memory (Gb)</td><td>32.0</td></tr><tr><td colspan='2'>Fri Apr 29 09:23:34 2022 BST</td></tr></table>"
            ],
            "text/plain": [
              "<IPython.core.display.HTML object>"
            ]
          },
          "metadata": {
          },
          "output_type": "display_data"
        }
      ],
      "source": [
        "import qiskit.tools.jupyter\n",
        "%qiskit_version_table"
      ]
    }
  ],
  "metadata": {
    "kernelspec": {
      "display_name": "Python 3",
      "language": "python",
      "name": "python3"
    },
    "language_info": {
      "codemirror_mode": {
        "name": "ipython",
        "version": 3
      },
      "file_extension": ".py",
      "mimetype": "text/x-python",
      "name": "python",
      "nbconvert_exporter": "python",
      "pygments_lexer": "ipython3",
      "version": "3.9"
    }
  },
  "nbformat": 4,
  "nbformat_minor": 2
}
